{
 "cells": [
  {
   "cell_type": "code",
   "execution_count": 26,
   "metadata": {},
   "outputs": [],
   "source": [
    "import os\n",
    "import numpy as np\n",
    "\n",
    "from medvqa.evaluation.results import collect_multimodal_question_probs\n",
    "from medvqa.models.ensemble import QuestionClassificationEnsembleSearcher\n",
    "from medvqa.utils.files import load_json_file, save_to_pickle\n",
    "from medvqa.utils.common import RESULTS_DIR, get_timestamp\n",
    "from medvqa.datasets.mimiccxr import MIMICCXR_CACHE_DIR"
   ]
  },
  {
   "cell_type": "code",
   "execution_count": 2,
   "metadata": {},
   "outputs": [
    {
     "data": {
      "text/plain": [
       "['/home/pamessina/medvqa-workspace/results/multimodal/20220907_043140_mim+iu+chexp+cxr14+vinbig_imgtxtenc(dense121+chx-emb+txtenc=bilstm+txtdec=lstm)_visenc-pretr=0_dws=1.0,0.2,0.3,0.25,0.25_orien_chx_ql_amp/mimiccxr_question_probs.pkl',\n",
       " '/home/pamessina/medvqa-workspace/results/multimodal/20220913_080931_mim+iu+chexp_imgtxtenc(dense121(niqc)+chx-emb+txtenc=bilstm+txtdec=lstm)_visenc-pretr=0_dws=1.0,0.2,0.3_orien_chx_ql_amp/mimiccxr_question_probs.pkl',\n",
       " '/home/pamessina/medvqa-workspace/results/multimodal/20220907_084600_mim+iu+chexp+cxr14+vinbig_imgtxtenc(dense121+chx-emb+txtenc=bilstm+txtdec=lstm)_visenc-pretr=0_dws=1.0,0.2,0.3,0.25,0.25_orien_chx_ql_amp/mimiccxr_question_probs.pkl',\n",
       " '/home/pamessina/medvqa-workspace/results/multimodal/20220913_062801_mim+iu+chexp_imgtxtenc(dense121+chx-emb+txtenc=bilstm+txtdec=lstm)_visenc-pretr=0_dws=1.0,0.2,0.3_orien_chx_ql_amp/mimiccxr_question_probs.pkl']"
      ]
     },
     "execution_count": 2,
     "metadata": {},
     "output_type": "execute_result"
    }
   ],
   "source": [
    "qprobs_paths = collect_multimodal_question_probs('mimiccxr')\n",
    "qprobs_paths"
   ]
  },
  {
   "cell_type": "code",
   "execution_count": 3,
   "metadata": {},
   "outputs": [],
   "source": [
    "qces = QuestionClassificationEnsembleSearcher(\n",
    "    probs_paths=qprobs_paths,\n",
    "    qa_adapted_reports_path=os.path.join(MIMICCXR_CACHE_DIR, 'qa_adapted_reports__20220904_095810.json'),\n",
    ")"
   ]
  },
  {
   "cell_type": "code",
   "execution_count": 4,
   "metadata": {
    "scrolled": true
   },
   "outputs": [
    {
     "name": "stderr",
     "output_type": "stream",
     "text": [
      "100%|██████████| 300/300 [00:36<00:00,  8.22it/s]\n"
     ]
    }
   ],
   "source": [
    "qces.sample_weights(300)"
   ]
  },
  {
   "cell_type": "code",
   "execution_count": 5,
   "metadata": {},
   "outputs": [
    {
     "name": "stdout",
     "output_type": "stream",
     "text": [
      "\u001b[34mf1(macro)=0.299201708494498, f1(micro)=0.5955972925178366, score=0.8947990010123346\u001b[0m\n"
     ]
    },
    {
     "data": {
      "text/plain": [
       "0.8947990010123346"
      ]
     },
     "execution_count": 5,
     "metadata": {},
     "output_type": "execute_result"
    }
   ],
   "source": [
    "qces.evaluate_best_predictions()"
   ]
  },
  {
   "cell_type": "code",
   "execution_count": 12,
   "metadata": {},
   "outputs": [
    {
     "data": {
      "text/plain": [
       "[(0.38461538461538464,\n",
       "  0.8040123106521324,\n",
       "  array([0.53496192, 0.10465651, 0.29535309, 0.06502848])),\n",
       " (0.38461538461538464,\n",
       "  0.8073076238056862,\n",
       "  array([0.51983015, 0.09818563, 0.30610275, 0.07588147])),\n",
       " (0.38461538461538464,\n",
       "  0.8050583495051841,\n",
       "  array([0.52830783, 0.09907984, 0.29418287, 0.07842946])),\n",
       " (0.38461538461538464,\n",
       "  0.8062306027190893,\n",
       "  array([0.53439294, 0.09873397, 0.29036742, 0.07650567])),\n",
       " (0.38575667655786355,\n",
       "  0.8088364700182914,\n",
       "  array([0.523166  , 0.10756509, 0.29305861, 0.07621029])),\n",
       " (0.38575667655786355,\n",
       "  0.8074481627172204,\n",
       "  array([0.52393398, 0.11163986, 0.29977492, 0.06465124]))]"
      ]
     },
     "execution_count": 12,
     "metadata": {},
     "output_type": "execute_result"
    }
   ],
   "source": [
    "[(x.score, x.threshold, x.weights) for x in qces.minheaps[-5]]"
   ]
  },
  {
   "cell_type": "code",
   "execution_count": 10,
   "metadata": {
    "scrolled": true
   },
   "outputs": [
    {
     "name": "stderr",
     "output_type": "stream",
     "text": [
      "100%|██████████| 400/400 [00:49<00:00,  8.10it/s]\n"
     ]
    }
   ],
   "source": [
    "qces.sample_weights_from_previous_ones(400, 0.1)"
   ]
  },
  {
   "cell_type": "code",
   "execution_count": 11,
   "metadata": {},
   "outputs": [
    {
     "name": "stdout",
     "output_type": "stream",
     "text": [
      "\u001b[34mf1(macro)=0.3106654827840452, f1(micro)=0.6030184294772752, score=0.9136839122613205\u001b[0m\n"
     ]
    },
    {
     "data": {
      "text/plain": [
       "0.9136839122613205"
      ]
     },
     "execution_count": 11,
     "metadata": {},
     "output_type": "execute_result"
    }
   ],
   "source": [
    "qces.evaluate_best_predictions()"
   ]
  },
  {
   "cell_type": "code",
   "execution_count": 13,
   "metadata": {},
   "outputs": [
    {
     "name": "stdout",
     "output_type": "stream",
     "text": [
      "\u001b[34mf1(macro)=0.3106654827840452, f1(micro)=0.6030184294772752, score=0.9136839122613205\u001b[0m\n"
     ]
    }
   ],
   "source": [
    "output = qces.compute_best_merged_probs_and_thresholds()"
   ]
  },
  {
   "cell_type": "code",
   "execution_count": 14,
   "metadata": {},
   "outputs": [
    {
     "data": {
      "text/plain": [
       "dict_keys(['merged_probs', 'thresholds', 'score'])"
      ]
     },
     "execution_count": 14,
     "metadata": {},
     "output_type": "execute_result"
    }
   ],
   "source": [
    "output.keys()"
   ]
  },
  {
   "cell_type": "code",
   "execution_count": 17,
   "metadata": {},
   "outputs": [
    {
     "data": {
      "text/plain": [
       "array([1.61876834e-04, 3.87144737e-01, 9.65881010e-02, 2.20055367e-02,\n",
       "       7.79192984e-01, 1.57798554e-02, 2.36720579e-01, 1.24690644e-01,\n",
       "       9.53960401e-01, 5.33372968e-04, 1.03566289e-01, 6.99366772e-01,\n",
       "       2.20276143e-04, 8.34071380e-05, 1.07155428e-02, 1.53473486e-02,\n",
       "       1.45633232e-01, 7.29708180e-05, 5.46124458e-03, 1.56843920e-02,\n",
       "       1.75741986e-02, 3.72888526e-04, 1.64513427e-01, 6.59176931e-01,\n",
       "       2.93133571e-01, 2.40525915e-02, 4.03386703e-01, 1.07309104e-01,\n",
       "       5.81464687e-03, 1.65350716e-04, 9.91622431e-03, 2.37468525e-01,\n",
       "       3.89375525e-01, 3.89826048e-01, 5.81195661e-01, 2.29868388e-01,\n",
       "       1.05608077e-01, 9.34787037e-01, 1.05396855e-01, 2.83167437e-02,\n",
       "       4.09914864e-01, 8.73935720e-02, 8.95769726e-01, 2.41823181e-02,\n",
       "       1.40539986e-01, 1.95856220e-03, 1.80294619e-01, 3.78161908e-01,\n",
       "       1.58542057e-01, 1.36982951e-02, 2.71887577e-01, 2.12285147e-01,\n",
       "       1.62528389e-01, 5.04716157e-05, 8.93750703e-02, 1.75765395e-03,\n",
       "       9.62414551e-01, 8.95146211e-01, 9.45873383e-01, 7.32056864e-01,\n",
       "       1.51284641e-02, 1.25728596e-01, 2.84163080e-01, 3.39473120e-01,\n",
       "       3.32615487e-01, 6.78739955e-01, 1.17527796e-03, 4.90356468e-03,\n",
       "       7.74665077e-01, 4.27353959e-01, 1.83648507e-01, 2.76474768e-01,\n",
       "       4.33579231e-03, 7.89127821e-01, 2.66784183e-01, 2.88260981e-01,\n",
       "       8.71008579e-02, 4.31355794e-02, 1.02441615e-01, 1.17833248e-04,\n",
       "       1.25078017e-04, 4.23960477e-01, 2.37088930e-02, 6.89615628e-01,\n",
       "       2.76654215e-01, 1.71072280e-02, 1.45914056e-01, 3.82849559e-01,\n",
       "       3.66743964e-01, 2.64182303e-05, 6.20187062e-02, 1.97835563e-02,\n",
       "       5.05197565e-02, 3.76720440e-02, 1.31611378e-03, 4.41585782e-01,\n",
       "       1.18129729e-01])"
      ]
     },
     "execution_count": 17,
     "metadata": {},
     "output_type": "execute_result"
    }
   ],
   "source": [
    "next(iter(output['merged_probs'].values()))"
   ]
  },
  {
   "cell_type": "code",
   "execution_count": 22,
   "metadata": {},
   "outputs": [],
   "source": [
    "strings = [\n",
    "    f'n={len(qprobs_paths)}',\n",
    "    f'score={output[\"score\"]:.4f}',\n",
    "    f't={get_timestamp()}',\n",
    "]\n",
    "merged_probs_save_path = os.path.join(RESULTS_DIR, 'multimodal', f'mimiccxr_ensemble({\",\".join(strings)})_probs.pkl')\n",
    "thresholds_save_path = os.path.join(RESULTS_DIR, 'multimodal', f'mimiccxr_ensemble({\",\".join(strings)})_thresholds.pkl')"
   ]
  },
  {
   "cell_type": "code",
   "execution_count": 24,
   "metadata": {},
   "outputs": [
    {
     "data": {
      "text/plain": [
       "('/home/pamessina/medvqa-workspace/results/multimodal/mimiccxr_ensemble(n=4,score=0.9137,t=20220914_063812)_probs.pkl',\n",
       " '/home/pamessina/medvqa-workspace/results/multimodal/mimiccxr_ensemble(n=4,score=0.9137,t=20220914_063812)_thresholds.pkl')"
      ]
     },
     "execution_count": 24,
     "metadata": {},
     "output_type": "execute_result"
    }
   ],
   "source": [
    "merged_probs_save_path, thresholds_save_path"
   ]
  },
  {
   "cell_type": "code",
   "execution_count": 27,
   "metadata": {},
   "outputs": [],
   "source": [
    "save_to_pickle(output['merged_probs'], merged_probs_save_path)"
   ]
  },
  {
   "cell_type": "code",
   "execution_count": 28,
   "metadata": {},
   "outputs": [],
   "source": [
    "save_to_pickle(output['thresholds'], thresholds_save_path)"
   ]
  }
 ],
 "metadata": {
  "kernelspec": {
   "display_name": "Python 3",
   "language": "python",
   "name": "python3"
  },
  "language_info": {
   "codemirror_mode": {
    "name": "ipython",
    "version": 3
   },
   "file_extension": ".py",
   "mimetype": "text/x-python",
   "name": "python",
   "nbconvert_exporter": "python",
   "pygments_lexer": "ipython3",
   "version": "3.6.9"
  }
 },
 "nbformat": 4,
 "nbformat_minor": 4
}
