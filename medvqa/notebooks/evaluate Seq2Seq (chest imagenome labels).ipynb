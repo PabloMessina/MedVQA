{
 "cells": [
  {
   "cell_type": "code",
   "execution_count": 1,
   "id": "3e1bd299",
   "metadata": {},
   "outputs": [
    {
     "name": "stdout",
     "output_type": "stream",
     "text": [
      "env: CUDA_VISIBLE_DEVICES=0\n"
     ]
    }
   ],
   "source": [
    "%env CUDA_VISIBLE_DEVICES=0"
   ]
  },
  {
   "cell_type": "code",
   "execution_count": 2,
   "id": "b4baed29",
   "metadata": {},
   "outputs": [],
   "source": [
    "%run -n ../eval_seq2seq.py"
   ]
  },
  {
   "cell_type": "code",
   "execution_count": 3,
   "id": "da93432b",
   "metadata": {
    "scrolled": false
   },
   "outputs": [
    {
     "name": "stderr",
     "output_type": "stream",
     "text": [
      "2024-01-27 14:34:45,557 - \u001b[1;32mINFO\u001b[1;0m - Example sentences to process:\n",
      "2024-01-27 14:34:45,559 - \u001b[1;32mINFO\u001b[1;0m - 732: S2CO: Left lung appears somewhat re-expanded, likely due to interval drainage of some of left pleural effusion.\n",
      "2024-01-27 14:34:45,559 - \u001b[1;32mINFO\u001b[1;0m - 1105: S2CO: No overt pulmonary edema.\n",
      "2024-01-27 14:34:45,560 - \u001b[1;32mINFO\u001b[1;0m - 97: S2CO: 3. Stable large hiatal hernia.\n",
      "2024-01-27 14:34:45,561 - \u001b[1;32mINFO\u001b[1;0m - 545: S2CO: Heart size is now normal, there is no appreciable pleural effusion or mediastinal vascular engorgement.\n",
      "2024-01-27 14:34:45,561 - \u001b[1;32mINFO\u001b[1;0m - 1408: S2CO: Specifically, no signs of pneumonia.\n",
      "2024-01-27 14:34:45,562 - \u001b[1;32mINFO\u001b[1;0m - 2223: S2CO: mild left basilar atelectasis.no acute cardiopulmonary process\n",
      "2024-01-27 14:34:45,562 - \u001b[1;32mINFO\u001b[1;0m - 1317: S2CO: Right basilar opacity is likely due to atelectasis.\n",
      "2024-01-27 14:34:45,563 - \u001b[1;32mINFO\u001b[1;0m - 1095: S2CO: No mediastinal widening.\n",
      "2024-01-27 14:34:45,564 - \u001b[1;32mINFO\u001b[1;0m - 1001: S2CO: No convincing signs of pneumonia, effusion, edema, or pneumothorax.\n",
      "2024-01-27 14:34:45,564 - \u001b[1;32mINFO\u001b[1;0m - 66: S2CO: 2. Prominence of the hila, likely accentuated by low lung volumes; however, vascular engorgement may be present.\n",
      "2024-01-27 14:34:45,617 - \u001b[1;32mINFO\u001b[1;0m - Creating Seq2SeqModel\n"
     ]
    },
    {
     "name": "stdout",
     "output_type": "stream",
     "text": [
      "Loaded data from /mnt/data/pamessina/workspaces/medvqa-workspace/cache/chest_imagenome/phrases2labels_gold(num_obs=70,num_anat=38,num_phrases=2412).pkl.\n",
      "len(sentences): 2412\n",
      "len(observation_names): 68\n",
      "observation_labels.shape: (2412, 68)\n",
      "metadata loaded from /mnt/data/pamessina/workspaces/medvqa-workspace/models/seq2seq/20240116_111115_multitask(s2f+f2m+f2c+s2co+s2cal+nli+mlm)_Seq2Seq(t5-small)/metadata.json\n",
      "Seq2Seq model:\n",
      "  model_name: t5-small\n"
     ]
    },
    {
     "name": "stderr",
     "output_type": "stream",
     "text": [
      "2024-01-27 14:34:51,040 - \u001b[1;32mINFO\u001b[1;0m - Loading model weights from /mnt/data/pamessina/workspaces/medvqa-workspace/models/seq2seq/20240116_111115_multitask(s2f+f2m+f2c+s2co+s2cal+nli+mlm)_Seq2Seq(t5-small)\n",
      "2024-01-27 14:34:51,042 - \u001b[1;32mINFO\u001b[1;0m - Loading model weights from /mnt/data/pamessina/workspaces/medvqa-workspace/models/seq2seq/20240116_111115_multitask(s2f+f2m+f2c+s2co+s2cal+nli+mlm)_Seq2Seq(t5-small)/checkpoint_200_exact_match+s2s_loss=0.8991.pt\n"
     ]
    },
    {
     "name": "stdout",
     "output_type": "stream",
     "text": [
      "checkpoint_names = ['checkpoint_200_exact_match+s2s_loss=0.8991.pt']\n"
     ]
    },
    {
     "name": "stderr",
     "output_type": "stream",
     "text": [
      "2024-01-27 14:34:51,663 - \u001b[1;32mINFO\u001b[1;0m - Creating tokenizer\n",
      "2024-01-27 14:34:52,224 - \u001b[1;32mINFO\u001b[1;0m - Creating dataloader\n",
      "2024-01-27 14:34:52,226 - \u001b[1;32mINFO\u001b[1;0m - Running inference\n",
      "  0%|                                                                                            | 0/13 [00:00<?, ?it/s]2024-01-27 14:34:55,824 - \u001b[1;32mINFO\u001b[1;0m - Processed 1 sentences\n",
      "2024-01-27 14:34:55,826 - \u001b[1;32mINFO\u001b[1;0m - Example output:\n",
      "2024-01-27 14:34:55,827 - \u001b[1;32mINFO\u001b[1;0m - [\"airspace opacity\", \"atelectasis\", \"consolidation\", \"hyperaeration\", \"increased reticular markings/ild pattern\", \"infiltration\", \"linear/patchy atelectasis\", \"lobar/segmental collapse\", \"lung opacity\", \"pleural effusion\", \"pneumonia\"]\n",
      "100%|███████████████████████████████████████████████████████████████████████████████████| 13/13 [00:11<00:00,  1.09it/s]\n",
      "2024-01-27 14:35:04,208 - \u001b[1;32mINFO\u001b[1;0m - Successfully processed 2412 sentences\n",
      "2024-01-27 14:35:04,209 - \u001b[1;32mINFO\u001b[1;0m - Example output:\n",
      "2024-01-27 14:35:04,209 - \u001b[1;32mINFO\u001b[1;0m - [\"atelectasis\", \"costophrenic angle blunting\", \"lung opacity\", \"pleural effusion\"]\n",
      "2024-01-27 14:35:04,210 - \u001b[1;32mINFO\u001b[1;0m - DONE\n"
     ]
    },
    {
     "name": "stdout",
     "output_type": "stream",
     "text": [
      "\u001b[93mWARNING: 4 unknown observation names.\u001b[0m\n",
      "Unknown observation names: {'artifact', 'aortic graft/repair', 'carina', 'stomach'}\n",
      "\u001b[1mAccuracy: 0.9960186811042825\u001b[0m\n",
      "\u001b[1mPrecision (macro): 0.7740901478448549\u001b[0m\n",
      "\u001b[1mRecall (macro): 0.9206687473866687\u001b[0m\n",
      "\u001b[1mF1 (macro): 0.826371734307827\u001b[0m\n",
      "\u001b[1mPrecision (micro): 0.8442622950819673\u001b[0m\n",
      "\u001b[1mRecall (micro): 0.9439548819175185\u001b[0m\n",
      "\u001b[1mF1 (micro): 0.8913296721584291\u001b[0m\n"
     ]
    }
   ],
   "source": [
    "output = evaluate(\n",
    "#     checkpoint_folder_path=\"/mnt/data/pamessina/workspaces/medvqa-workspace/models/seq2seq/20240101_135046_multitask(s2f+f2m+f2c+s2co+s2cal+nli+mlm)_Seq2Seq(t5-small)\",\n",
    "#     checkpoint_folder_path=\"/mnt/data/pamessina/workspaces/medvqa-workspace/models/seq2seq/20240101_222821_multitask(s2f+f2m+f2c+s2co+s2cal+nli+mlm)_Seq2Seq(t5-small)\",\n",
    "#     checkpoint_folder_path=\"/mnt/data/pamessina/workspaces/medvqa-workspace/models/seq2seq/20240105_123953_multitask(s2f+f2m+f2c+s2co+s2cal+nli+mlm)_Seq2Seq(t5-small)\",\n",
    "#     checkpoint_folder_path=\"/mnt/data/pamessina/workspaces/medvqa-workspace/models/seq2seq/20240105_162937_multitask(s2f+f2m+f2c+s2co+s2cal+nli+mlm)_Seq2Seq(t5-small)\",\n",
    "#     checkpoint_folder_path=\"/mnt/data/pamessina/workspaces/medvqa-workspace/models/seq2seq/20240105_180720_multitask(s2f+f2m+f2c+s2co+s2cal+nli+mlm)_Seq2Seq(t5-small)\",\n",
    "#     checkpoint_folder_path=\"/mnt/data/pamessina/workspaces/medvqa-workspace/models/seq2seq/20240106_002348_multitask(s2f+f2m+f2c+s2co+s2cal+nli+mlm)_Seq2Seq(t5-small)\",\n",
    "    checkpoint_folder_path=\"/mnt/data/pamessina/workspaces/medvqa-workspace/models/seq2seq/20240116_111115_multitask(s2f+f2m+f2c+s2co+s2cal+nli+mlm)_Seq2Seq(t5-small)\",\n",
    "    device=\"gpu\",\n",
    "    batch_size=200,\n",
    "    num_workers=3,\n",
    "    max_length=100,\n",
    "    num_beams=1,\n",
    "    logging_level='INFO',\n",
    "    gpt4_nli_examples_filepaths=None,\n",
    "    task_name='sentence2chestimagenome_observations',\n",
    "    chest_imagenome_gold_phrase2labels_filepath='/mnt/data/pamessina/workspaces/medvqa-workspace/cache/chest_imagenome/phrases2labels_gold(num_obs=70,num_anat=38,num_phrases=2412).pkl',\n",
    "    return_outputs=True,\n",
    ")"
   ]
  },
  {
   "cell_type": "code",
   "execution_count": 7,
   "id": "52507703",
   "metadata": {},
   "outputs": [
    {
     "name": "stderr",
     "output_type": "stream",
     "text": [
      "2024-01-27 16:15:18,645 - \u001b[1;32mINFO\u001b[1;0m - Example sentences to process:\n",
      "2024-01-27 16:15:18,647 - \u001b[1;32mINFO\u001b[1;0m - 588: IMPRESSION: 1. The carina is not well visualized, but the endotracheal tube is directed towards the main stem bronchus and could be be retracted to avoid right bronchial intubation.\n",
      "2024-01-27 16:15:18,648 - \u001b[1;32mINFO\u001b[1;0m - 436: FINDINGS: In comparison with the study of ___, there are lower lung volumes.\n",
      "2024-01-27 16:15:18,650 - \u001b[1;32mINFO\u001b[1;0m - 1130: No pneumothorax is identified in the apical area and no discrete local parenchymal infiltrates can be identified.\n",
      "2024-01-27 16:15:18,651 - \u001b[1;32mINFO\u001b[1;0m - 60: 2. No pneumothorax.\n",
      "2024-01-27 16:15:18,652 - \u001b[1;32mINFO\u001b[1;0m - 1580: The lungs are clear bilaterally without focal consolidation, effusion, or pneumothorax.\n",
      "2024-01-27 16:15:18,653 - \u001b[1;32mINFO\u001b[1;0m - 1462: The cardiac and mediastinal silhouettes are stable with top normal to mildly enlarged.\n",
      "2024-01-27 16:15:18,655 - \u001b[1;32mINFO\u001b[1;0m - 1342: Right subclavian catheter extends to the level of the carina.\n",
      "2024-01-27 16:15:18,656 - \u001b[1;32mINFO\u001b[1;0m - 1880: There is no evidence of failure or infiltrate.\n",
      "2024-01-27 16:15:18,657 - \u001b[1;32mINFO\u001b[1;0m - 828: Mediastinal contours unremarkable.\n",
      "2024-01-27 16:15:18,659 - \u001b[1;32mINFO\u001b[1;0m - 1298: Relatively extensive bilateral basal opacities, with the morphology suggesting moderate pulmonary edema.\n",
      "2024-01-27 16:15:18,695 - \u001b[1;32mINFO\u001b[1;0m - Creating Seq2SeqModel\n"
     ]
    },
    {
     "name": "stdout",
     "output_type": "stream",
     "text": [
      "Loaded data from /mnt/data/pamessina/workspaces/medvqa-workspace/cache/chest_imagenome/phrases2labels_gold(num_obs=70,num_anat=38,num_phrases=2412).pkl.\n",
      "len(sentences): 2412\n",
      "len(observation_names): 68\n",
      "observation_labels.shape: (2412, 68)\n",
      "metadata loaded from /mnt/data/pamessina/workspaces/medvqa-workspace/models/seq2seq/20230913_084846_sentence2chestimagenome_observations(gpt-4-06..ficult;gpt-3.5-..t=5000;gpt-3.5-..__1of2;gpt-3.5-..__2of2;gpt-3.5-..-part1;gpt-3.5-..-part2;gpt-3.5-..-part3)_Seq2Seq(t5-small)/metadata.json\n",
      "Seq2Seq model:\n",
      "  model_name: t5-small\n"
     ]
    },
    {
     "name": "stderr",
     "output_type": "stream",
     "text": [
      "2024-01-27 16:15:21,301 - \u001b[1;32mINFO\u001b[1;0m - Loading model weights from /mnt/data/pamessina/workspaces/medvqa-workspace/models/seq2seq/20230913_084846_sentence2chestimagenome_observations(gpt-4-06..ficult;gpt-3.5-..t=5000;gpt-3.5-..__1of2;gpt-3.5-..__2of2;gpt-3.5-..-part1;gpt-3.5-..-part2;gpt-3.5-..-part3)_Seq2Seq(t5-small)\n",
      "2024-01-27 16:15:21,302 - \u001b[1;32mINFO\u001b[1;0m - Loading model weights from /mnt/data/pamessina/workspaces/medvqa-workspace/models/seq2seq/20230913_084846_sentence2chestimagenome_observations(gpt-4-06..ficult;gpt-3.5-..t=5000;gpt-3.5-..__1of2;gpt-3.5-..__2of2;gpt-3.5-..-part1;gpt-3.5-..-part2;gpt-3.5-..-part3)_Seq2Seq(t5-small)/checkpoint_486_s2s_loss=0.9703.pt\n"
     ]
    },
    {
     "name": "stdout",
     "output_type": "stream",
     "text": [
      "checkpoint_names = ['checkpoint_486_s2s_loss=0.9703.pt']\n"
     ]
    },
    {
     "name": "stderr",
     "output_type": "stream",
     "text": [
      "2024-01-27 16:15:27,402 - \u001b[1;32mINFO\u001b[1;0m - Creating tokenizer\n",
      "2024-01-27 16:15:27,909 - \u001b[1;32mINFO\u001b[1;0m - Creating dataloader\n",
      "2024-01-27 16:15:27,911 - \u001b[1;32mINFO\u001b[1;0m - Running inference\n",
      "  0%|                                                                                            | 0/13 [00:00<?, ?it/s]2024-01-27 16:15:28,798 - \u001b[1;32mINFO\u001b[1;0m - Processed 1 sentences\n",
      "2024-01-27 16:15:28,800 - \u001b[1;32mINFO\u001b[1;0m - Example output:\n",
      "2024-01-27 16:15:28,801 - \u001b[1;32mINFO\u001b[1;0m - []\n",
      "100%|███████████████████████████████████████████████████████████████████████████████████| 13/13 [00:07<00:00,  1.80it/s]\n",
      "2024-01-27 16:15:35,158 - \u001b[1;32mINFO\u001b[1;0m - Successfully processed 2412 sentences\n",
      "2024-01-27 16:15:35,159 - \u001b[1;32mINFO\u001b[1;0m - Example output:\n",
      "2024-01-27 16:15:35,159 - \u001b[1;32mINFO\u001b[1;0m - [\"atelectasis\", \"costophrenic angle blunting\", \"lung opacity\", \"pleural effusion\", \"pulmonary edema/hazy opacity\"]\n",
      "2024-01-27 16:15:35,160 - \u001b[1;32mINFO\u001b[1;0m - DONE\n"
     ]
    },
    {
     "name": "stdout",
     "output_type": "stream",
     "text": [
      "\u001b[93mWARNING: 2 unknown observation names.\u001b[0m\n",
      "Unknown observation names: {'artifact', 'aortic graft/repair'}\n",
      "\u001b[1mAccuracy: 0.997225880401912\u001b[0m\n",
      "\u001b[1mPrecision (macro): 0.8385362075367961\u001b[0m\n",
      "\u001b[1mRecall (macro): 0.9651560992749288\u001b[0m\n",
      "\u001b[1mF1 (macro): 0.886977671137982\u001b[0m\n",
      "\u001b[1mPrecision (micro): 0.8827120822622108\u001b[0m\n",
      "\u001b[1mRecall (micro): 0.9682763482551991\u001b[0m\n",
      "\u001b[1mF1 (micro): 0.9235165574046058\u001b[0m\n"
     ]
    }
   ],
   "source": [
    "output = evaluate(\n",
    "    checkpoint_folder_path=\"/mnt/data/pamessina/workspaces/medvqa-workspace/models/seq2seq/20230913_084846_sentence2chestimagenome_observations(gpt-4-06..ficult;gpt-3.5-..t=5000;gpt-3.5-..__1of2;gpt-3.5-..__2of2;gpt-3.5-..-part1;gpt-3.5-..-part2;gpt-3.5-..-part3)_Seq2Seq(t5-small)\",\n",
    "    device=\"gpu\",\n",
    "    batch_size=200,\n",
    "    num_workers=3,\n",
    "    max_length=100,\n",
    "    num_beams=1,\n",
    "    logging_level='INFO',\n",
    "    gpt4_nli_examples_filepaths=None,\n",
    "    task_name='sentence2chestimagenome_observations',\n",
    "    chest_imagenome_gold_phrase2labels_filepath='/mnt/data/pamessina/workspaces/medvqa-workspace/cache/chest_imagenome/phrases2labels_gold(num_obs=70,num_anat=38,num_phrases=2412).pkl',\n",
    "    append_task_prefix=False,\n",
    "    return_outputs=True,\n",
    ")"
   ]
  },
  {
   "cell_type": "code",
   "execution_count": 4,
   "id": "1458fdd9",
   "metadata": {},
   "outputs": [
    {
     "name": "stderr",
     "output_type": "stream",
     "text": [
      "2024-01-27 16:02:54,065 - \u001b[1;32mINFO\u001b[1;0m - Example sentences to process:\n",
      "2024-01-27 16:02:54,066 - \u001b[1;32mINFO\u001b[1;0m - 1156: S2CA: No radiographic evidence of mediastinal adenopathy.\n",
      "2024-01-27 16:02:54,067 - \u001b[1;32mINFO\u001b[1;0m - 2333: S2CA: the patient is status post median sternotomy and cabg\n",
      "2024-01-27 16:02:54,068 - \u001b[1;32mINFO\u001b[1;0m - 683: S2CA: Increased opacity projecting over the right lung apex is felt to represent something external to the patient given sharp margins and extension to the subcutaneous tissues superior to the clavicle.\n",
      "2024-01-27 16:02:54,069 - \u001b[1;32mINFO\u001b[1;0m - 2306: S2CA: the heart is top normal to mildly enlarged\n",
      "2024-01-27 16:02:54,070 - \u001b[1;32mINFO\u001b[1;0m - 1332: S2CA: Right lower lung pneumonia.\n",
      "2024-01-27 16:02:54,071 - \u001b[1;32mINFO\u001b[1;0m - 1034: S2CA: No evidence of pneumothorax is seen.\n",
      "2024-01-27 16:02:54,073 - \u001b[1;32mINFO\u001b[1;0m - 1943: S2CA: There is no pulmonary edema\n",
      "2024-01-27 16:02:54,074 - \u001b[1;32mINFO\u001b[1;0m - 65: S2CA: 2. Probable small right pleural effusion.\n",
      "2024-01-27 16:02:54,075 - \u001b[1;32mINFO\u001b[1;0m - 1750: S2CA: There continues to be a small left effusion with volume loss/ infiltrate in both lower lungs.\n",
      "2024-01-27 16:02:54,076 - \u001b[1;32mINFO\u001b[1;0m - 2359: S2CA: there is again mildly exaggerated kyphotic angulation associated with unchanged loss in height among several mid thoracic vertebral bodies\n",
      "2024-01-27 16:02:54,077 - \u001b[1;32mINFO\u001b[1;0m - Creating Seq2SeqModel\n"
     ]
    },
    {
     "name": "stdout",
     "output_type": "stream",
     "text": [
      "Loaded data from /mnt/data/pamessina/workspaces/medvqa-workspace/cache/chest_imagenome/phrases2labels_gold(num_obs=70,num_anat=38,num_phrases=2412).pkl.\n",
      "len(sentences): 2412\n",
      "len(anatomy_names): 38\n",
      "anatomy_labels.shape: (2412, 38)\n",
      "metadata loaded from /mnt/data/pamessina/workspaces/medvqa-workspace/models/seq2seq/20240116_111115_multitask(s2f+f2m+f2c+s2co+s2cal+nli+mlm)_Seq2Seq(t5-small)/metadata.json\n",
      "Seq2Seq model:\n",
      "  model_name: t5-small\n"
     ]
    },
    {
     "name": "stderr",
     "output_type": "stream",
     "text": [
      "2024-01-27 16:02:56,404 - \u001b[1;32mINFO\u001b[1;0m - Loading model weights from /mnt/data/pamessina/workspaces/medvqa-workspace/models/seq2seq/20240116_111115_multitask(s2f+f2m+f2c+s2co+s2cal+nli+mlm)_Seq2Seq(t5-small)\n",
      "2024-01-27 16:02:56,406 - \u001b[1;32mINFO\u001b[1;0m - Loading model weights from /mnt/data/pamessina/workspaces/medvqa-workspace/models/seq2seq/20240116_111115_multitask(s2f+f2m+f2c+s2co+s2cal+nli+mlm)_Seq2Seq(t5-small)/checkpoint_200_exact_match+s2s_loss=0.8991.pt\n"
     ]
    },
    {
     "name": "stdout",
     "output_type": "stream",
     "text": [
      "checkpoint_names = ['checkpoint_200_exact_match+s2s_loss=0.8991.pt']\n"
     ]
    },
    {
     "name": "stderr",
     "output_type": "stream",
     "text": [
      "2024-01-27 16:02:56,722 - \u001b[1;32mINFO\u001b[1;0m - Creating tokenizer\n",
      "2024-01-27 16:02:56,938 - \u001b[1;32mINFO\u001b[1;0m - Creating dataloader\n",
      "2024-01-27 16:02:56,940 - \u001b[1;32mINFO\u001b[1;0m - Running inference\n",
      "  0%|                                                                                            | 0/13 [00:00<?, ?it/s]2024-01-27 16:02:57,945 - \u001b[1;32mINFO\u001b[1;0m - Processed 1 sentences\n",
      "2024-01-27 16:02:57,947 - \u001b[1;32mINFO\u001b[1;0m - Example output:\n",
      "2024-01-27 16:02:57,948 - \u001b[1;32mINFO\u001b[1;0m - []\n",
      "100%|███████████████████████████████████████████████████████████████████████████████████| 13/13 [00:08<00:00,  1.58it/s]\n",
      "2024-01-27 16:03:05,199 - \u001b[1;32mINFO\u001b[1;0m - Successfully processed 2412 sentences\n",
      "2024-01-27 16:03:05,201 - \u001b[1;32mINFO\u001b[1;0m - Example output:\n",
      "2024-01-27 16:03:05,202 - \u001b[1;32mINFO\u001b[1;0m - [\"left costophrenic angle\", \"left hilar structures\", \"left lung\", \"right costophrenic angle\", \"right hilar structures\", \"right lung\"]\n",
      "2024-01-27 16:03:05,204 - \u001b[1;32mINFO\u001b[1;0m - DONE\n"
     ]
    },
    {
     "name": "stdout",
     "output_type": "stream",
     "text": [
      "\u001b[1mAccuracy: 0.9837872043292311\u001b[0m\n",
      "\u001b[1mPrecision (macro): 0.7820006996030934\u001b[0m\n",
      "\u001b[1mRecall (macro): 0.9218551709615622\u001b[0m\n",
      "\u001b[1mF1 (macro): 0.828767730105406\u001b[0m\n",
      "\u001b[1mPrecision (micro): 0.8702731799219486\u001b[0m\n",
      "\u001b[1mRecall (micro): 0.9253112033195021\u001b[0m\n",
      "\u001b[1mF1 (micro): 0.8969486823855757\u001b[0m\n"
     ]
    }
   ],
   "source": [
    "output = evaluate(\n",
    "#     checkpoint_folder_path=\"/mnt/data/pamessina/workspaces/medvqa-workspace/models/seq2seq/20240101_135046_multitask(s2f+f2m+f2c+s2co+s2cal+nli+mlm)_Seq2Seq(t5-small)\",\n",
    "#     checkpoint_folder_path=\"/mnt/data/pamessina/workspaces/medvqa-workspace/models/seq2seq/20240101_222821_multitask(s2f+f2m+f2c+s2co+s2cal+nli+mlm)_Seq2Seq(t5-small)\",\n",
    "#     checkpoint_folder_path=\"/mnt/data/pamessina/workspaces/medvqa-workspace/models/seq2seq/20240105_123953_multitask(s2f+f2m+f2c+s2co+s2cal+nli+mlm)_Seq2Seq(t5-small)\",\n",
    "#     checkpoint_folder_path=\"/mnt/data/pamessina/workspaces/medvqa-workspace/models/seq2seq/20240105_162937_multitask(s2f+f2m+f2c+s2co+s2cal+nli+mlm)_Seq2Seq(t5-small)\",\n",
    "#     checkpoint_folder_path=\"/mnt/data/pamessina/workspaces/medvqa-workspace/models/seq2seq/20240105_180720_multitask(s2f+f2m+f2c+s2co+s2cal+nli+mlm)_Seq2Seq(t5-small)\",\n",
    "#     checkpoint_folder_path=\"/mnt/data/pamessina/workspaces/medvqa-workspace/models/seq2seq/20240106_002348_multitask(s2f+f2m+f2c+s2co+s2cal+nli+mlm)_Seq2Seq(t5-small)\",\n",
    "    checkpoint_folder_path=\"/mnt/data/pamessina/workspaces/medvqa-workspace/models/seq2seq/20240116_111115_multitask(s2f+f2m+f2c+s2co+s2cal+nli+mlm)_Seq2Seq(t5-small)\",\n",
    "    device=\"gpu\",\n",
    "    batch_size=200,\n",
    "    num_workers=3,\n",
    "    max_length=100,\n",
    "    num_beams=1,\n",
    "    logging_level='INFO',\n",
    "    gpt4_nli_examples_filepaths=None,\n",
    "    task_name='sentence2chestimagenome_anatomical_locations',\n",
    "    chest_imagenome_gold_phrase2labels_filepath='/mnt/data/pamessina/workspaces/medvqa-workspace/cache/chest_imagenome/phrases2labels_gold(num_obs=70,num_anat=38,num_phrases=2412).pkl',\n",
    "    return_outputs=True,\n",
    ")"
   ]
  },
  {
   "cell_type": "code",
   "execution_count": 9,
   "id": "8c3946f7",
   "metadata": {},
   "outputs": [
    {
     "name": "stderr",
     "output_type": "stream",
     "text": [
      "2024-01-27 16:21:19,247 - \u001b[1;32mINFO\u001b[1;0m - Example sentences to process:\n",
      "2024-01-27 16:21:19,249 - \u001b[1;32mINFO\u001b[1;0m - 846: S2CA: Mild blunting of the right costophrenic angle likely represents a small pleural effusion.\n",
      "2024-01-27 16:21:19,250 - \u001b[1;32mINFO\u001b[1;0m - 1105: S2CA: No overt pulmonary edema.\n",
      "2024-01-27 16:21:19,252 - \u001b[1;32mINFO\u001b[1;0m - 858: S2CA: Mild enlargement of the cardiac silhouette is noted.\n",
      "2024-01-27 16:21:19,253 - \u001b[1;32mINFO\u001b[1;0m - 1975: S2CA: There is subsegmental atelectasis of the bilateral lung bases and left mid lung.\n",
      "2024-01-27 16:21:19,255 - \u001b[1;32mINFO\u001b[1;0m - 1716: S2CA: There are increased perihilar and bibasilar opacities suggestive of mild pulmonary edema.\n",
      "2024-01-27 16:21:19,256 - \u001b[1;32mINFO\u001b[1;0m - 1471: S2CA: The cardiac silhouette is not enlarged.\n",
      "2024-01-27 16:21:19,260 - \u001b[1;32mINFO\u001b[1;0m - 1841: S2CA: There is mild-to-moderate pulmonary edema.\n",
      "2024-01-27 16:21:19,262 - \u001b[1;32mINFO\u001b[1;0m - 458: S2CA: FINDINGS: Re-demonstrated is a moderate biventricular cardiomegaly, without pulmonary edema.\n",
      "2024-01-27 16:21:19,263 - \u001b[1;32mINFO\u001b[1;0m - 1358: S2CA: Several left-sided rib fractures seen, better depicted on CT.\n",
      "2024-01-27 16:21:19,264 - \u001b[1;32mINFO\u001b[1;0m - 89: S2CA: 3. Mild pulmonary interstitial edema.\n",
      "2024-01-27 16:21:19,286 - \u001b[1;32mINFO\u001b[1;0m - Creating Seq2SeqModel\n"
     ]
    },
    {
     "name": "stdout",
     "output_type": "stream",
     "text": [
      "Loaded data from /mnt/data/pamessina/workspaces/medvqa-workspace/cache/chest_imagenome/phrases2labels_gold(num_obs=70,num_anat=38,num_phrases=2412).pkl.\n",
      "len(sentences): 2412\n",
      "len(anatomy_names): 38\n",
      "anatomy_labels.shape: (2412, 38)\n",
      "metadata loaded from /mnt/data/pamessina/workspaces/medvqa-workspace/models/seq2seq/20230911_164506_sentence2chestimagenome_anatomical_locations(gpt-3.5-..ficult;gpt-3.5-..=25000;gpt-3.5-..niform)_Seq2Seq(t5-small)/metadata.json\n",
      "Seq2Seq model:\n",
      "  model_name: t5-small\n"
     ]
    },
    {
     "name": "stderr",
     "output_type": "stream",
     "text": [
      "2024-01-27 16:21:21,814 - \u001b[1;32mINFO\u001b[1;0m - Loading model weights from /mnt/data/pamessina/workspaces/medvqa-workspace/models/seq2seq/20230911_164506_sentence2chestimagenome_anatomical_locations(gpt-3.5-..ficult;gpt-3.5-..=25000;gpt-3.5-..niform)_Seq2Seq(t5-small)/\n",
      "2024-01-27 16:21:21,816 - \u001b[1;32mINFO\u001b[1;0m - Loading model weights from /mnt/data/pamessina/workspaces/medvqa-workspace/models/seq2seq/20230911_164506_sentence2chestimagenome_anatomical_locations(gpt-3.5-..ficult;gpt-3.5-..=25000;gpt-3.5-..niform)_Seq2Seq(t5-small)/checkpoint_95_s2s_loss=0.9657.pt\n"
     ]
    },
    {
     "name": "stdout",
     "output_type": "stream",
     "text": [
      "checkpoint_names = ['checkpoint_95_s2s_loss=0.9657.pt']\n"
     ]
    },
    {
     "name": "stderr",
     "output_type": "stream",
     "text": [
      "2024-01-27 16:21:26,489 - \u001b[1;32mINFO\u001b[1;0m - Creating tokenizer\n",
      "2024-01-27 16:21:27,004 - \u001b[1;32mINFO\u001b[1;0m - Creating dataloader\n",
      "2024-01-27 16:21:27,006 - \u001b[1;32mINFO\u001b[1;0m - Running inference\n",
      "  0%|                                                                                            | 0/13 [00:00<?, ?it/s]2024-01-27 16:21:28,004 - \u001b[1;32mINFO\u001b[1;0m - Processed 1 sentences\n",
      "2024-01-27 16:21:28,005 - \u001b[1;32mINFO\u001b[1;0m - Example output:\n",
      "2024-01-27 16:21:28,005 - \u001b[1;32mINFO\u001b[1;0m - [\"spine\"]\n",
      "100%|███████████████████████████████████████████████████████████████████████████████████| 13/13 [00:08<00:00,  1.57it/s]\n",
      "2024-01-27 16:21:35,285 - \u001b[1;32mINFO\u001b[1;0m - Successfully processed 2412 sentences\n",
      "2024-01-27 16:21:35,286 - \u001b[1;32mINFO\u001b[1;0m - Example output:\n",
      "2024-01-27 16:21:35,288 - \u001b[1;32mINFO\u001b[1;0m - [\"left costophrenic angle\", \"left hilar structures\", \"left lower lung zone\", \"left lung\", \"right costophrenic angle\", \"right hilar structures\", \"right lower lung zone\", \"right lung\"]\n",
      "2024-01-27 16:21:35,289 - \u001b[1;32mINFO\u001b[1;0m - DONE\n"
     ]
    },
    {
     "name": "stdout",
     "output_type": "stream",
     "text": [
      "\u001b[1mAccuracy: 0.9820306362922231\u001b[0m\n",
      "\u001b[1mPrecision (macro): 0.8097930187545797\u001b[0m\n",
      "\u001b[1mRecall (macro): 0.9518537650336991\u001b[0m\n",
      "\u001b[1mF1 (macro): 0.8559742607378131\u001b[0m\n",
      "\u001b[1mPrecision (micro): 0.8306511512750681\u001b[0m\n",
      "\u001b[1mRecall (micro): 0.9600801259121476\u001b[0m\n",
      "\u001b[1mF1 (micro): 0.8906882591093118\u001b[0m\n"
     ]
    }
   ],
   "source": [
    "output = evaluate(\n",
    "    checkpoint_folder_path=\"/mnt/data/pamessina/workspaces/medvqa-workspace/models/seq2seq/20230911_164506_sentence2chestimagenome_anatomical_locations(gpt-3.5-..ficult;gpt-3.5-..=25000;gpt-3.5-..niform)_Seq2Seq(t5-small)/\",\n",
    "    device=\"gpu\",\n",
    "    batch_size=200,\n",
    "    num_workers=3,\n",
    "    max_length=100,\n",
    "    num_beams=1,\n",
    "    logging_level='INFO',\n",
    "    gpt4_nli_examples_filepaths=None,\n",
    "    task_name='sentence2chestimagenome_anatomical_locations',\n",
    "    chest_imagenome_gold_phrase2labels_filepath='/mnt/data/pamessina/workspaces/medvqa-workspace/cache/chest_imagenome/phrases2labels_gold(num_obs=70,num_anat=38,num_phrases=2412).pkl',\n",
    "    return_outputs=True,\n",
    ")"
   ]
  },
  {
   "cell_type": "code",
   "execution_count": 5,
   "id": "0057c540",
   "metadata": {},
   "outputs": [
    {
     "data": {
      "text/plain": [
       "dict_keys(['sentences', 'gen_outputs', 'gen_labels', 'anatomy_names', 'anatomy_labels'])"
      ]
     },
     "execution_count": 5,
     "metadata": {},
     "output_type": "execute_result"
    }
   ],
   "source": [
    "output.keys()"
   ]
  },
  {
   "cell_type": "code",
   "execution_count": 6,
   "id": "7be20555",
   "metadata": {},
   "outputs": [
    {
     "name": "stdout",
     "output_type": "stream",
     "text": [
      "S2CA: , likely reflecting improved ventilation\n",
      "[]\n",
      "\n",
      "S2CA: 1. A left pacemaker is continuous with leads terminating in the right ventricle and right atrium.\n",
      "[\"cardiac silhouette\", \"mediastinum\", \"right atrium\"]\n",
      "\n",
      "S2CA: 1. Bibasilar opacities likely a combination of atelectasis and possibly trace pleural effusions.\n",
      "[\"left costophrenic angle\", \"left lower lung zone\", \"left lung\", \"right costophrenic angle\", \"right lower lung zone\", \"right lung\"]\n",
      "\n",
      "S2CA: 1. Bibasilar opacities likely represent atelectasis and overlying soft tissue rather than pneumonia.\n",
      "[\"left lower lung zone\", \"left lung\", \"right lower lung zone\", \"right lung\"]\n",
      "\n",
      "S2CA: 1. Bibasilar patchy opacities, likely atelectasis, however pneumonia or aspiration cannot be entirely excluded.\n",
      "[\"left lower lung zone\", \"left lung\", \"right lower lung zone\", \"right lung\"]\n",
      "\n",
      "S2CA: 1. Bilateral consolidations compatible with aspiration, better delineated on the same day chest CT.\n",
      "[\"left lower lung zone\", \"left lung\", \"right lower lung zone\", \"right lung\"]\n",
      "\n",
      "S2CA: 1. Bilateral parenchymal contusions.\n",
      "[\"left lung\", \"right lung\"]\n",
      "\n",
      "S2CA: 1. ET tube in satisfactory position.\n",
      "[\"neck\", \"trachea\"]\n",
      "\n",
      "S2CA: 1. ET tube is low-lying, measuring approximately 1.6 cm above the carina.\n",
      "[\"carina\", \"neck\", \"trachea\"]\n",
      "\n",
      "S2CA: 1. ET tube terminates 3.3 cm above the carina.\n",
      "[\"carina\", \"neck\", \"trachea\"]\n",
      "\n"
     ]
    }
   ],
   "source": [
    "for i in range(10):\n",
    "    print(output['sentences'][i])\n",
    "    print(output['gen_outputs'][i])\n",
    "    print()"
   ]
  }
 ],
 "metadata": {
  "kernelspec": {
   "display_name": "venv2",
   "language": "python",
   "name": "venv2"
  },
  "language_info": {
   "codemirror_mode": {
    "name": "ipython",
    "version": 3
   },
   "file_extension": ".py",
   "mimetype": "text/x-python",
   "name": "python",
   "nbconvert_exporter": "python",
   "pygments_lexer": "ipython3",
   "version": "3.10.10"
  }
 },
 "nbformat": 4,
 "nbformat_minor": 5
}
