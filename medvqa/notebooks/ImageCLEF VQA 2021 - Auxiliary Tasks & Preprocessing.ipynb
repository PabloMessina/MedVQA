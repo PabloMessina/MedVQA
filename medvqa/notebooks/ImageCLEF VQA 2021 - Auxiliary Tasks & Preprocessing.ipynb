{
 "cells": [
  {
   "cell_type": "code",
   "execution_count": null,
   "metadata": {},
   "outputs": [],
   "source": [
    "%env CUDA_VISIBLE_DEVICES=1"
   ]
  },
  {
   "cell_type": "code",
   "execution_count": 18,
   "metadata": {},
   "outputs": [],
   "source": [
    "TRAIN_2019_QA_PAIRS = \"/mnt/workspace/imageclef/2019-Dataset/2019-QAPairsByCategory/C4_Abnormality_train.txt\"\n",
    "TRAIN_2019_IMAGES = \"/mnt/workspace/imageclef/2019-Dataset/2019-Train-Images/\"\n",
    "\n",
    "DATASET_COMMON_FOLDER = \"/mnt/workspace/imageclef/2020-2021-Datasets/VQA/\"\n",
    "\n",
    "TRAIN_2020_IMAGES = DATASET_COMMON_FOLDER + \"VQAMed2020-VQAnswering-TrainingSet/\" \\\n",
    "                                              \"VQAnswering_2020_Train_images/\"\n",
    "TRAIN_2020_QA_PAIRS = DATASET_COMMON_FOLDER + \"VQAMed2020-VQAnswering-TrainingSet/\" \\\n",
    "                                              \"VQAnswering_2020_Train_QA_pairs.txt\"\n",
    "VAL_2020_IMAGES = DATASET_COMMON_FOLDER + \"VQAMed2020-VQAnswering-ValidationSet/\" \\\n",
    "                                          \"VQAnswering_2020_Val_images/\"\n",
    "VAL_2020_QA_PAIRS = DATASET_COMMON_FOLDER + \"VQAMed2020-VQAnswering-ValidationSet/\" \\\n",
    "                                            \"VQAnswering_2020_Val_QA_Pairs.txt\"\n",
    "VAL_2021_IMAGES = DATASET_COMMON_FOLDER + \"VQA-Med-2021-Tasks-1-2-NewValidationSets/\" \\\n",
    "                                          \"ImageCLEF-2021-VQA-Med-New-Validation-Images/\"\n",
    "VAL_2021_QA_PAIRS = DATASET_COMMON_FOLDER + \"VQA-Med-2021-Tasks-1-2-NewValidationSets/\" \\\n",
    "                                            \"VQA-Med-2021-VQAnswering-Task1-New-ValidationSet.txt\"\n",
    "TEST_2021_IMAGES = DATASET_COMMON_FOLDER + \"VQA-500-Images/\"\n",
    "TEST_2021_QUESTIONS = DATASET_COMMON_FOLDER + \"Task1-VQA-2021-TestSet-Questions.txt\"\n",
    "TEST_2021_ANSWERS = DATASET_COMMON_FOLDER + \"Task1-VQA-2021-TestSet-ReferenceAnswers.txt\""
   ]
  },
  {
   "cell_type": "code",
   "execution_count": 133,
   "metadata": {},
   "outputs": [],
   "source": [
    "import pandas as pd\n",
    "import re\n",
    "import torch\n",
    "import torch.nn as nn\n",
    "import torchvision.transforms as transforms\n",
    "import torchvision.models as models\n",
    "from torch.utils.data import Dataset, DataLoader\n",
    "import numpy as np\n",
    "from tqdm import tqdm\n",
    "from PIL import Image\n",
    "import nltk\n",
    "from nltk.corpus import stopwords\n",
    "import pickle\n",
    "import unicodedata\n",
    "import random"
   ]
  },
  {
   "cell_type": "code",
   "execution_count": 4,
   "metadata": {},
   "outputs": [],
   "source": [
    "torch.cuda.set_device(2)"
   ]
  },
  {
   "cell_type": "code",
   "execution_count": 5,
   "metadata": {},
   "outputs": [
    {
     "data": {
      "text/plain": [
       "device(type='cuda')"
      ]
     },
     "execution_count": 5,
     "metadata": {},
     "output_type": "execute_result"
    }
   ],
   "source": [
    "DEVICE = torch.device(\"cuda\" if torch.cuda.is_available() else \"cpu\")\n",
    "DEVICE"
   ]
  },
  {
   "cell_type": "code",
   "execution_count": 74,
   "metadata": {},
   "outputs": [],
   "source": [
    "token_regex = re.compile(r'[a-z0-9][a-z0-9\\-\\']*|[\\-,\\.\\(\\)]')"
   ]
  },
  {
   "cell_type": "code",
   "execution_count": 177,
   "metadata": {},
   "outputs": [],
   "source": [
    "token_regex_no_punct = re.compile(r'[a-z][a-z0-9\\-\\']*')"
   ]
  },
  {
   "cell_type": "code",
   "execution_count": 210,
   "metadata": {},
   "outputs": [],
   "source": [
    "def load_id2question_id2answer_id2imgfolder():\n",
    "    train_2019_qa_pairs = pd.read_csv(TRAIN_2019_QA_PAIRS, sep=\"|\", header=None)\n",
    "    train_2020_qa_pairs = pd.read_csv(TRAIN_2020_QA_PAIRS, sep=\"|\", header=None)\n",
    "    val_2020_qa_pairs = pd.read_csv(VAL_2020_QA_PAIRS, sep=\"|\", header=None)\n",
    "    val_2021_qa_pairs = pd.read_csv(VAL_2021_QA_PAIRS, sep=\"|\", header=None)\n",
    "    test_2021_questions = pd.read_csv(TEST_2021_QUESTIONS, sep=\"|\", header=None)\n",
    "    test_2021_answers = pd.read_csv(TEST_2021_ANSWERS, sep=\"|\", header=None)\n",
    "    id2question = dict()\n",
    "    id2answer = dict()\n",
    "    id2imgfolder = dict()\n",
    "    for df, folder in zip((train_2019_qa_pairs, train_2020_qa_pairs, val_2020_qa_pairs, val_2021_qa_pairs),\n",
    "                          (TRAIN_2019_IMAGES, TRAIN_2020_IMAGES, VAL_2020_IMAGES, VAL_2021_IMAGES)):\n",
    "        for i in range(len(df)):\n",
    "            id2question[df[0][i]] = df[1][i]\n",
    "            id2answer[df[0][i]] = df[2][i]\n",
    "            id2imgfolder[df[0][i]] = folder\n",
    "            \n",
    "    df = test_2021_questions\n",
    "    for _id, q in zip(df[0], df[1]):\n",
    "        id2question[_id] = q\n",
    "        id2imgfolder[_id] = TEST_2021_IMAGES\n",
    "    df = test_2021_answers\n",
    "    for _id, a1, a2, a3 in zip(df[0], df[1], df[2], df[3]):\n",
    "        a = ''\n",
    "        for x in (a1, a2, a3):            \n",
    "            if type(x) == str:\n",
    "                if len(a) > 0:\n",
    "                    a += ', '\n",
    "                a += x\n",
    "        id2answer[_id] = a\n",
    "    for _id in id2question.keys():\n",
    "        id2question[_id] = ' '.join(token_regex.findall(unicodedata.normalize('NFKD', id2question[_id])))\n",
    "    for _id in id2answer.keys():\n",
    "        id2answer[_id] = ' '.join(token_regex.findall(unicodedata.normalize('NFKD', id2answer[_id])))\n",
    "    return id2question, id2answer, id2imgfolder"
   ]
  },
  {
   "cell_type": "code",
   "execution_count": 211,
   "metadata": {},
   "outputs": [],
   "source": [
    "id2question, id2answer, id2imgfolder = load_id2question_id2answer_id2imgfolder()"
   ]
  },
  {
   "cell_type": "code",
   "execution_count": 212,
   "metadata": {},
   "outputs": [
    {
     "data": {
      "text/plain": [
       "(8692, 8692, 8692)"
      ]
     },
     "execution_count": 212,
     "metadata": {},
     "output_type": "execute_result"
    }
   ],
   "source": [
    "len(id2question), len(id2answer), len(id2imgfolder)"
   ]
  },
  {
   "cell_type": "code",
   "execution_count": 103,
   "metadata": {},
   "outputs": [],
   "source": [
    "image_type_regexs = [\n",
    "    re.compile(r'\\bgastrointestinal\\b'),\n",
    "    re.compile(r'\\bx-ray\\b'),\n",
    "    re.compile(r'\\bultrasound\\b'),\n",
    "    re.compile(r'\\bmri\\b'),\n",
    "    re.compile(r'\\bct scan\\b'),\n",
    "    re.compile(r'\\bpet scan\\b'),\n",
    "    re.compile(r'\\bmammograph\\b'),\n",
    "    re.compile(r'\\bangiogram\\b'),\n",
    "]\n",
    "\n",
    "imagetype2name = [\n",
    "    'unknown',\n",
    "    'gastrointestinal',\n",
    "    'x-ray',\n",
    "    'ultrasound',\n",
    "    'mri',\n",
    "    'ct scan',\n",
    "    'pet scan',\n",
    "    'mammograph',\n",
    "    'angiogram',\n",
    "]\n",
    "\n",
    "def detect_image_type(q):\n",
    "    for i, r in enumerate(image_type_regexs):\n",
    "        if r.search(q):\n",
    "            return i+1\n",
    "    return 0"
   ]
  },
  {
   "cell_type": "code",
   "execution_count": 93,
   "metadata": {},
   "outputs": [],
   "source": [
    "unclassified = []\n",
    "for q in id2question.values():\n",
    "    if not detect_image_type(q) and 'image' not in q:\n",
    "        unclassified.append(q)"
   ]
  },
  {
   "cell_type": "code",
   "execution_count": 125,
   "metadata": {},
   "outputs": [],
   "source": [
    "class ImageDataset(Dataset):\n",
    "    \n",
    "    def __init__(self, ids, transform):\n",
    "        self.image_paths = [id2imgfolder[_id] + _id + '.jpg' for _id in ids]\n",
    "        self.transform = transform\n",
    "\n",
    "    def __len__(self):\n",
    "        return len(self.image_paths)\n",
    "\n",
    "    def __getitem__(self, i):    \n",
    "        return dict(\n",
    "            idx = i,\n",
    "            img=self.transform(Image.open(self.image_paths[i]).convert('RGB')),\n",
    "        )"
   ]
  },
  {
   "cell_type": "code",
   "execution_count": 126,
   "metadata": {},
   "outputs": [],
   "source": [
    "def compute_features(cnn, ids, transform, batchsize):\n",
    "    cnn.eval()\n",
    "    dataloader = DataLoader(ImageDataset(ids, transform), batchsize, num_workers=8)\n",
    "    with torch.set_grad_enabled(False):\n",
    "        feat = None        \n",
    "        for batch in tqdm(dataloader):\n",
    "            idxs = batch['idx']\n",
    "            imgs = batch['img']\n",
    "            imgs.to(DEVICE)\n",
    "            batch_feat = cnn(imgs)\n",
    "            if feat is None:\n",
    "                feat = np.empty((len(ids), batch_feat.size(1)))\n",
    "            for i, idx in enumerate(idxs):\n",
    "                feat[idx] = batch_feat[i]\n",
    "    return feat"
   ]
  },
  {
   "cell_type": "code",
   "execution_count": 123,
   "metadata": {},
   "outputs": [],
   "source": [
    "def get_closest_image(i, unclassified_feat, classified_feat):\n",
    "    best_score = -9999\n",
    "    best_j = None\n",
    "    norm_i = np.linalg.norm(unclassified_feat[i])\n",
    "    for j in range(classified_feat.shape[0]):\n",
    "        norm_j = np.linalg.norm(classified_feat[j])\n",
    "        score = np.dot(unclassified_feat[i], classified_feat[j]) / (norm_i * norm_j)\n",
    "        if score > best_score:\n",
    "            best_score = score\n",
    "            best_j = j\n",
    "    return best_j"
   ]
  },
  {
   "cell_type": "code",
   "execution_count": 129,
   "metadata": {},
   "outputs": [],
   "source": [
    "def get_id2imgtype():\n",
    "    global classified_feat\n",
    "    global unclassified_feat\n",
    "    \n",
    "    id2imgtype = dict()\n",
    "    classified_ids = []\n",
    "    unclassified_ids = []\n",
    "    \n",
    "    for _id, q in id2question.items():\n",
    "        id2imgtype[_id] = detect_image_type(q)\n",
    "        if id2imgtype[_id]: classified_ids.append(_id)\n",
    "        else: unclassified_ids.append(_id)\n",
    "    \n",
    "    densenet = models.densenet121(pretrained=True)\n",
    "    transform = transforms.Compose([\n",
    "        transforms.Resize((224, 224)),\n",
    "        transforms.ToTensor(),\n",
    "        transforms.Normalize(mean=[0.485, 0.456, 0.406], std=[0.229, 0.224, 0.225]),\n",
    "    ])\n",
    "    \n",
    "    classified_feat = compute_features(densenet, classified_ids, transform, 100)\n",
    "    unclassified_feat = compute_features(densenet, unclassified_ids, transform, 100)\n",
    "    \n",
    "    for i, _id in tqdm(enumerate(unclassified_ids)):\n",
    "        j = get_closest_image(i, unclassified_feat, classified_feat)\n",
    "        id2imgtype[_id] = id2imgtype[classified_ids[j]]\n",
    "    \n",
    "    return id2imgtype"
   ]
  },
  {
   "cell_type": "code",
   "execution_count": 130,
   "metadata": {},
   "outputs": [
    {
     "name": "stderr",
     "output_type": "stream",
     "text": [
      "100%|██████████| 44/44 [05:47<00:00,  7.90s/it]\n",
      "100%|██████████| 44/44 [05:40<00:00,  7.74s/it]\n",
      "4325it [01:46, 40.71it/s]\n"
     ]
    }
   ],
   "source": [
    "id2imgtype = get_id2imgtype()"
   ]
  },
  {
   "cell_type": "code",
   "execution_count": 132,
   "metadata": {},
   "outputs": [],
   "source": [
    "ids_list = list(id2imgtype.keys())"
   ]
  },
  {
   "cell_type": "code",
   "execution_count": 137,
   "metadata": {},
   "outputs": [],
   "source": [
    "def inspect_image_type(_id = None):\n",
    "    if _id is None: _id = random.choice(ids_list)\n",
    "    print(imagetype2name[id2imgtype[_id]])\n",
    "    return Image.open(id2imgfolder[_id] + _id + '.jpg').reduce(3)"
   ]
  },
  {
   "cell_type": "code",
   "execution_count": 202,
   "metadata": {},
   "outputs": [
    {
     "name": "stdout",
     "output_type": "stream",
     "text": [
      "x-ray\n"
     ]
    },
    {
     "data": {
      "image/png": "[encoded data removed]",
      "text/plain": [
       "<PIL.Image.Image image mode=RGB size=333x400 at 0x7FF5E324A048>"
      ]
     },
     "execution_count": 202,
     "metadata": {},
     "output_type": "execute_result"
    }
   ],
   "source": [
    "inspect_image_type()"
   ]
  },
  {
   "cell_type": "code",
   "execution_count": 178,
   "metadata": {},
   "outputs": [],
   "source": [
    "def get_id2labels_labels(min_freq = 10):\n",
    "    stopwords_set = set(stopwords.words('english'))    \n",
    "    id2labels = dict()\n",
    "    \n",
    "    for _id, a in id2answer.items():            \n",
    "        if a == 'yes' or a == 'no':\n",
    "            id2labels[_id] = []\n",
    "        else:\n",
    "            id2labels[_id] = list(set(x for x in token_regex_no_punct.findall(a) if x not in stopwords_set))\n",
    "    \n",
    "    label_freq = dict()\n",
    "    for words in id2labels.values():\n",
    "        for w in words:\n",
    "            label_freq[w] = label_freq.get(w, 0) + 1\n",
    "            \n",
    "    labels = [w for w, f in label_freq.items() if f >= min_freq]\n",
    "    labels_set = set(labels)\n",
    "    labels.sort()\n",
    "    label2index = {w:i for i,w in enumerate(labels)}\n",
    "    \n",
    "    for _id in id2labels.keys():\n",
    "        filtered = [w for w in id2labels[_id] if w in labels_set]\n",
    "        if len(filtered) == 0:\n",
    "            tmp = [0 for _ in range(len(labels))]\n",
    "        else:\n",
    "            tmp = [1 for _ in range(len(labels))]\n",
    "            for w in filtered:\n",
    "                tmp[label2index[w]] = 2\n",
    "        id2labels[_id] = tmp\n",
    "    return id2labels, labels"
   ]
  },
  {
   "cell_type": "code",
   "execution_count": 181,
   "metadata": {},
   "outputs": [],
   "source": [
    "id2labels, labels = get_id2labels_labels(min_freq=10)"
   ]
  },
  {
   "cell_type": "code",
   "execution_count": 184,
   "metadata": {},
   "outputs": [
    {
     "name": "stdout",
     "output_type": "stream",
     "text": [
      "618\n",
      "8692\n",
      "8166\n"
     ]
    }
   ],
   "source": [
    "assert len(id2labels) == len(ids_list)\n",
    "_count = 0\n",
    "for _id in id2labels.keys():\n",
    "    assert all(labels[i] in id2answer[_id] for i,v in enumerate(id2labels[_id]) if v == 2)\n",
    "    _count += sum(1 for v in id2labels[_id] if v == 2) > 0\n",
    "print(len(labels))\n",
    "print(len(id2labels))\n",
    "print(_count)"
   ]
  },
  {
   "cell_type": "code",
   "execution_count": 209,
   "metadata": {},
   "outputs": [],
   "source": [
    "with open('id2imagefolder.pickle', 'wb') as f:\n",
    "    pickle.dump(id2imgfolder, f, protocol=pickle.HIGHEST_PROTOCOL)"
   ]
  },
  {
   "cell_type": "code",
   "execution_count": 203,
   "metadata": {},
   "outputs": [],
   "source": [
    "with open('id2imagetype.pickle', 'wb') as f:\n",
    "    pickle.dump(id2imgtype, f, protocol=pickle.HIGHEST_PROTOCOL)"
   ]
  },
  {
   "cell_type": "code",
   "execution_count": 204,
   "metadata": {},
   "outputs": [],
   "source": [
    "with open('id2labels.pickle', 'wb') as f:\n",
    "    pickle.dump(id2labels, f, protocol=pickle.HIGHEST_PROTOCOL)"
   ]
  },
  {
   "cell_type": "code",
   "execution_count": 214,
   "metadata": {},
   "outputs": [],
   "source": [
    "with open('id2answer.pickle', 'wb') as f:\n",
    "    pickle.dump(id2answer, f, protocol=pickle.HIGHEST_PROTOCOL)"
   ]
  },
  {
   "cell_type": "code",
   "execution_count": 206,
   "metadata": {},
   "outputs": [],
   "source": [
    "with open('id2question.pickle', 'wb') as f:\n",
    "    pickle.dump(id2question, f, protocol=pickle.HIGHEST_PROTOCOL)"
   ]
  },
  {
   "cell_type": "code",
   "execution_count": 207,
   "metadata": {},
   "outputs": [],
   "source": [
    "with open('labels.pickle', 'wb') as f:\n",
    "    pickle.dump(labels, f, protocol=pickle.HIGHEST_PROTOCOL)"
   ]
  },
  {
   "cell_type": "code",
   "execution_count": 208,
   "metadata": {},
   "outputs": [],
   "source": [
    "with open('imagetype2name.pickle', 'wb') as f:\n",
    "    pickle.dump(imagetype2name, f, protocol=pickle.HIGHEST_PROTOCOL)"
   ]
  }
 ],
 "metadata": {
  "kernelspec": {
   "display_name": "Python 3",
   "language": "python",
   "name": "python3"
  },
  "language_info": {
   "codemirror_mode": {
    "name": "ipython",
    "version": 3
   },
   "file_extension": ".py",
   "mimetype": "text/x-python",
   "name": "python",
   "nbconvert_exporter": "python",
   "pygments_lexer": "ipython3",
   "version": "3.6.9"
  }
 },
 "nbformat": 4,
 "nbformat_minor": 4
}
