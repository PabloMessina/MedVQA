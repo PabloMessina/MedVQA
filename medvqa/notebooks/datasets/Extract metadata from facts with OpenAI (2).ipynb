{
 "cells": [
  {
   "cell_type": "code",
   "execution_count": null,
   "id": "525b6006",
   "metadata": {
    "scrolled": true
   },
   "outputs": [
    {
     "name": "stdout",
     "output_type": "stream",
     "text": [
      "2023-07-05 20:59:46,549 - \u001b[1;32mINFO\u001b[1;0m - Loading facts from /home/pamessina/medvqa-workspace/cache/mimiccxr/integrated_sentence_facts(58655550,49843061).jsonl\n",
      "2023-07-05 20:59:51,352 - \u001b[1;32mINFO\u001b[1;0m - Loaded 677694 rows from /home/pamessina/medvqa-workspace/cache/mimiccxr/integrated_sentence_facts(58655550,49843061).jsonl\n",
      "2023-07-05 20:59:52,042 - \u001b[1;32mINFO\u001b[1;0m - Found 578718 unique facts in /home/pamessina/medvqa-workspace/cache/mimiccxr/integrated_sentence_facts(58655550,49843061).jsonl\n",
      "2023-07-05 20:59:52,084 - \u001b[1;32mINFO\u001b[1;0m - Sorting facts by difficulty...\n",
      " 26%|████████▍                        | 148460/578718 [00:20<00:57, 7451.33it/s]"
     ]
    }
   ],
   "source": [
    "!python ../../scripts/mimiccxr/extract_metadata_from_facts_with_openai.py \\\n",
    "    --extracted_facts_jsonl_filepath \"/home/pamessina/medvqa-workspace/cache/mimiccxr/integrated_sentence_facts(58655550,49843061).jsonl\" \\\n",
    "    --offset 20000 \\\n",
    "    --num_facts 20000 \\\n",
    "    --max_requests_per_minute 3000 \\\n",
    "    --max_tokens_per_minute 80000 \\\n",
    "    --max_tokens_per_request 200 \\\n",
    "    --logging_level \"INFO\" \\\n",
    "    --api_key_name \"OPENAI_API_KEY_2\" \\\n",
    "    --openai_model_name \"gpt-3.5-turbo-0613\" \\\n",
    "    --alias \"__v2_offset=20000\""
   ]
  },
  {
   "cell_type": "code",
   "execution_count": 2,
   "id": "13de3124",
   "metadata": {},
   "outputs": [
    {
     "name": "stdout",
     "output_type": "stream",
     "text": [
      " gpt-3.5-turbo-0301_parsed_sentences.jsonl\r\n",
      " gpt-3.5-turbo-0613_parsed_facts__hard.jsonl\r\n",
      " gpt-3.5-turbo-0613_parsed_facts__uniform.jsonl\r\n",
      " gpt-3.5-turbo-0613_parsed_facts__v2.jsonl\r\n",
      "'gpt-3.5-turbo-0613_parsed_facts__v2_offset=20000.jsonl'\r\n",
      " gpt-3.5-turbo-0613_parsed_sentences__v2.jsonl\r\n",
      "'gpt-3.5-turbo-0613_parsed_sentences__v2(uniform).jsonl'\r\n",
      " gpt-3.5-turbo_parsed_backgrounds.jsonl\r\n",
      " gpt-3.5-turbo_parsed_reports__backup.jsonl\r\n",
      " gpt-3.5-turbo_parsed_reports.jsonl\r\n",
      "'gpt-3.5-turbo_parsed_reports(old).jsonl'\r\n",
      " gpt-3.5-turbo_parsed_sentences.jsonl\r\n",
      " gpt-4-0613_parsed_reports.jsonl\r\n",
      " gpt-4-0613_parsed_sentences.jsonl\r\n",
      " gpt-4-0613_parsed_sentences__v2.jsonl\r\n"
     ]
    }
   ],
   "source": [
    "!ls /home/pamessina/medvqa-workspace/cache/mimiccxr/openai/"
   ]
  },
  {
   "cell_type": "code",
   "execution_count": 3,
   "id": "3f633648",
   "metadata": {},
   "outputs": [],
   "source": [
    "from medvqa.utils.files import load_jsonl"
   ]
  },
  {
   "cell_type": "code",
   "execution_count": 4,
   "id": "fdadc356",
   "metadata": {},
   "outputs": [],
   "source": [
    "tmp = load_jsonl('/home/pamessina/medvqa-workspace/cache/mimiccxr/openai/gpt-3.5-turbo-0613_parsed_facts__v2_offset=20000.jsonl')"
   ]
  },
  {
   "cell_type": "code",
   "execution_count": 5,
   "id": "5702acc3",
   "metadata": {},
   "outputs": [
    {
     "data": {
      "text/plain": [
       "19948"
      ]
     },
     "execution_count": 5,
     "metadata": {},
     "output_type": "execute_result"
    }
   ],
   "source": [
    "len(tmp)"
   ]
  },
  {
   "cell_type": "code",
   "execution_count": 18,
   "id": "0487aa13",
   "metadata": {},
   "outputs": [
    {
     "data": {
      "text/plain": [
       "{'metadata': {'fact': 'recommendation for CT to exclude radiographically occult cause for the symptom'},\n",
       " 'parsed_response': {'anatomical location': '',\n",
       "  'detailed observation': 'recommendation for CT to exclude radiographically occult cause for the symptom',\n",
       "  'short observation': 'recommendation for CT',\n",
       "  'category': 'technical assessment',\n",
       "  'health status': 'unknown',\n",
       "  'prev_study_comparison?': 'no',\n",
       "  'comparison status': ''}}"
      ]
     },
     "execution_count": 18,
     "metadata": {},
     "output_type": "execute_result"
    }
   ],
   "source": [
    "tmp[22]"
   ]
  }
 ],
 "metadata": {
  "kernelspec": {
   "display_name": "venv2",
   "language": "python",
   "name": "venv2"
  },
  "language_info": {
   "codemirror_mode": {
    "name": "ipython",
    "version": 3
   },
   "file_extension": ".py",
   "mimetype": "text/x-python",
   "name": "python",
   "nbconvert_exporter": "python",
   "pygments_lexer": "ipython3",
   "version": "3.10.10"
  }
 },
 "nbformat": 4,
 "nbformat_minor": 5
}
