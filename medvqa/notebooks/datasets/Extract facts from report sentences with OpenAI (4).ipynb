{
 "cells": [
  {
   "cell_type": "code",
   "execution_count": 1,
   "id": "f19e7a6f",
   "metadata": {},
   "outputs": [
    {
     "name": "stdout",
     "output_type": "stream",
     "text": [
      " gpt-3.5-turbo-0301_comparisons__part1.jsonl\r\n",
      "'gpt-3.5-turbo-0301_comparisons__part1(obsolete).jsonl'\r\n",
      " gpt-3.5-turbo-0301_comparisons__part2.jsonl\r\n",
      " gpt-3.5-turbo-0301_parsed_sentences.jsonl\r\n",
      " gpt-3.5-turbo-0613_chest_imagenome_anatomies_from_sentences__skip_top50000_most_difficult__uniform.jsonl\r\n",
      " gpt-3.5-turbo-0613_chest_imagenome_anatomies_from_sentences__top25000_most_difficult.jsonl\r\n",
      "'gpt-3.5-turbo-0613_chest_imagenome_anatomies_from_sentences__top50000_most_difficult__offset=25000.jsonl'\r\n",
      " gpt-3.5-turbo-0613_chest_imagenome_labels_from_sentences__skip_top20000__40000_uniform__1of2.jsonl\r\n",
      " gpt-3.5-turbo-0613_chest_imagenome_labels_from_sentences__skip_top20000__40000_uniform__2of2.jsonl\r\n",
      " gpt-3.5-turbo-0613_chest_imagenome_labels_from_sentences__top20000_most_difficult.jsonl\r\n",
      " gpt-3.5-turbo-0613_chest_imagenome_labels_from_sentencestop20000_most_difficult.jsonl\r\n",
      "'gpt-3.5-turbo-0613_chest_imagenome_labels_from_sentences__top20000_most_difficult__offset=5000.jsonl'\r\n",
      " gpt-3.5-turbo-0613_comparisons__part1.jsonl\r\n",
      " gpt-3.5-turbo-0613_comparisons__part2.jsonl\r\n",
      " gpt-3.5-turbo-0613_paraphrased_anatomical_locations__part1.jsonl\r\n",
      " gpt-3.5-turbo-0613_paraphrased_anatomical_locations__part2.jsonl\r\n",
      " gpt-3.5-turbo-0613_paraphrased_observations__single-words.jsonl\r\n",
      " gpt-3.5-turbo-0613_paraphrased_observations__two-or-more-words_cluster-balanced_1of5.jsonl\r\n",
      " gpt-3.5-turbo-0613_paraphrased_observations__two-or-more-words_cluster-balanced_2of5.jsonl\r\n",
      " gpt-3.5-turbo-0613_paraphrased_observations__two-or-more-words_cluster-balanced_3of5.jsonl\r\n",
      " gpt-3.5-turbo-0613_paraphrased_observations__two-or-more-words_cluster-balanced_4of5.jsonl\r\n",
      " gpt-3.5-turbo-0613_paraphrased_observations__two-or-more-words__part1.jsonl\r\n",
      " gpt-3.5-turbo-0613_paraphrased_observations__two-or-more-words__part3.jsonl\r\n",
      " gpt-3.5-turbo-0613_parsed_facts__hard.jsonl\r\n",
      " gpt-3.5-turbo-0613_parsed_facts__uniform.jsonl\r\n",
      " gpt-3.5-turbo-0613_parsed_facts__v2.jsonl\r\n",
      "'gpt-3.5-turbo-0613_parsed_facts__v2_offset=20000.jsonl'\r\n",
      "'gpt-3.5-turbo-0613_parsed_facts__v2_offset=40000_uniform.jsonl'\r\n",
      " gpt-3.5-turbo-0613_parsed_sentences__v2.jsonl\r\n",
      "'gpt-3.5-turbo-0613_parsed_sentences__v2(uniform).jsonl'\r\n",
      " gpt-3.5-turbo-16k-0613_paraphrased_anatomical_locations__part3.jsonl\r\n",
      " gpt-3.5-turbo-16k-0613_paraphrased_observations__two-or-more-words__part2.jsonl\r\n",
      " gpt-3.5-turbo-16k-0613_paraphrased_observations__two-or-more-words__part4.jsonl\r\n",
      " gpt-3.5-turbo_parsed_backgrounds.jsonl\r\n",
      " gpt-3.5-turbo_parsed_reports__backup.jsonl\r\n",
      " gpt-3.5-turbo_parsed_reports.jsonl\r\n",
      "'gpt-3.5-turbo_parsed_reports(old).jsonl'\r\n",
      " gpt-3.5-turbo_parsed_sentences.jsonl\r\n",
      " gpt-4-0613_chest_imagenome_labels_from_sentences__top5000_most_difficult.jsonl\r\n",
      " gpt-4-0613_paraphrased_observations__two-or-more-words_cluster-balanced.jsonl\r\n",
      " gpt-4-0613_parsed_reports.jsonl\r\n",
      " gpt-4-0613_parsed_sentences.jsonl\r\n",
      " gpt-4-0613_parsed_sentences__v2.jsonl\r\n"
     ]
    }
   ],
   "source": [
    "!ls /home/pamessina/medvqa-workspace/cache/mimiccxr/openai/"
   ]
  },
  {
   "cell_type": "code",
   "execution_count": 26,
   "id": "d32dd2f0",
   "metadata": {},
   "outputs": [
    {
     "name": "stdout",
     "output_type": "stream",
     "text": [
      "2023-09-08 16:44:16,658 - \u001b[1;32mINFO\u001b[1;0m - Loaded 10 already processed sentences from /home/pamessina/medvqa-workspace/cache/mimiccxr/openai/gpt-4-0613_facts_from_sentences(cluster-balanced,hardest).jsonl\n",
      "2023-09-08 16:44:16,659 - \u001b[1;32mINFO\u001b[1;0m - Loading preprocessed reports from /mnt/data/pamessina/workspaces/medvqa-workspace/cache/mimiccxr/background_findings_and_impression_20230612_174143.json\n",
      "100%|█████████████████████████████████| 227835/227835 [00:45<00:00, 4998.35it/s]\n",
      "2023-09-08 16:45:02,905 - \u001b[1;32mINFO\u001b[1;0m - Loaded 227835 reports from /mnt/data/pamessina/workspaces/medvqa-workspace/cache/mimiccxr/background_findings_and_impression_20230612_174143.json\n",
      "2023-09-08 16:45:02,905 - \u001b[1;32mINFO\u001b[1;0m - Found 677694 unique sentences in reports\n",
      "2023-09-08 16:45:03,111 - \u001b[1;32mINFO\u001b[1;0m - Loading cached sorted sentences from /mnt/workspace/pamessina/medvqa-workspace/cache/sorted_sentences(677694,58655550).pkl...\n",
      "2023-09-08 16:45:03,219 - \u001b[1;32mINFO\u001b[1;0m - Done loading cached sorted sentences.\n",
      "2023-09-08 16:45:03,219 - \u001b[1;32mINFO\u001b[1;0m - First sentence: M recently stopped coumadin(afib) p/w L>R pain,abd pain, s/p 's, cold foot s/p L pop cutdown embolectomy L fasciotomy s/p LLE angio embolectomy s/p L guillotine + L BKA // Dobhoff placement - require assistance and sequential imaging.\n",
      "2023-09-08 16:45:03,219 - \u001b[1;32mINFO\u001b[1;0m - Last sentence: .\n",
      "Loading cached text embeddings from /mnt/workspace/pamessina/medvqa-workspace/cache/text_embeddings_cache(hash=315,2581617422603266970).pkl\n",
      "len(self.cache[\"hashes\"]) = 677694\n",
      "self.cache[\"embeddings\"].shape = (677694, 128)\n",
      "100%|████████████████████████████████| 677694/677694 [00:52<00:00, 12877.95it/s]\n",
      "Loading cached kmeans labels from /mnt/workspace/pamessina/medvqa-workspace/cache/kmeans_labels(58655582,128849830765542971).pkl\n",
      "2023-09-08 16:46:49,957 - \u001b[1;32mINFO\u001b[1;0m - Example sentences (immediately after clustering-based sorting):\n",
      "2023-09-08 16:46:49,957 - \u001b[1;32mINFO\u001b[1;0m - 1. M recently stopped coumadin(afib) p/w L>R pain,abd pain, s/p 's, cold foot s/p L pop cutdown embolectomy L fasciotomy s/p LLE angio embolectomy s/p L guillotine + L BKA // Dobhoff placement - require assistance and sequential imaging.\n",
      "2023-09-08 16:46:49,957 - \u001b[1;32mINFO\u001b[1;0m - 2. EVALUATION OF THE RETRO STERNAL FLUID COLLECTION WOULD REQUIRE REPEAT CHEST CT SCANNING, SINCE THE CONVENTIONAL RADIOGRAPHS HAVE CONSISTENTLY UNDER ESTIMATED THE SIZE OF THAT ABNORMALITY.\n",
      "2023-09-08 16:46:49,957 - \u001b[1;32mINFO\u001b[1;0m - 3. MILD INTERSTITIAL ABNORMALITY CAN BE REFLECTION OF PRIOR EPISODES OF PULMONARY EDEMA OR, IN THE APPROPRIATE CLINICAL CIRCUMSTANCES, CIGARETTE SMOKING OR ASTHMA.\n",
      "2023-09-08 16:46:49,957 - \u001b[1;32mINFO\u001b[1;0m - 4. CLINICAL HISTORY year old man with NASH cirrhosis c/b HE, HCC and ascites and hepatic hydrothorax s/p thoracentesis on with decreased RLL breath sounds // evaluate for worsening right pleural effusion/hydrothorax evaluate for worsening right pleural effusion/hydrothorax.\n",
      "2023-09-08 16:46:49,957 - \u001b[1;32mINFO\u001b[1;0m - 5. ENDOTRACHEAL TUBE ENDS AT THE UPPER MARGIN OF THE CLAVICLES, NEARLY 9 CM ABOVE THE CARINA AN SHOULD BE ADVANCED 4 CM FOR MORE SECURE SEATING.\n",
      "2023-09-08 16:46:49,957 - \u001b[1;32mINFO\u001b[1;0m - 6. Moderately enlarged cardiac silhouette is more pronouce than ahtough could be exagerated by lung volume.\n",
      "2023-09-08 16:46:49,957 - \u001b[1;32mINFO\u001b[1;0m - 7. Special high-contrast copy illustrates this finding in spite of the general increased basal soft tissue densities related to patient's sitting position.\n",
      "2023-09-08 16:46:49,957 - \u001b[1;32mINFO\u001b[1;0m - 8. Mild increase of left-sided pleural effusion apparently induced by TKI administration (does this stand for tyrosine kinase inhibitor?\n",
      "2023-09-08 16:46:49,957 - \u001b[1;32mINFO\u001b[1;0m - 9. THIS EXAMINATION NEITHER SUGGESTS NOR EXCLUDES THE DIAGNOSIS OF ACUTE PULMONARY EMBOLISM.\n",
      "2023-09-08 16:46:49,957 - \u001b[1;32mINFO\u001b[1;0m - 10. VASCULATURE IN THE LEFT LUNG IS APPROPRIATELY CONGESTED DUE TO REDIRECTION OF BLOOD FLOW.\n",
      "2023-09-08 16:46:50,217 - \u001b[1;32mINFO\u001b[1;0m - Loaded 9999 sentences to skip from /home/pamessina/medvqa-workspace/cache/mimiccxr/openai/gpt-4-0613_parsed_sentences__v2.jsonl\n",
      "2023-09-08 16:46:50,555 - \u001b[1;32mINFO\u001b[1;0m - Loaded 19971 sentences to skip from /home/pamessina/medvqa-workspace/cache/mimiccxr/openai/gpt-3.5-turbo-0613_parsed_sentences__v2.jsonl\n",
      "2023-09-08 16:46:50,667 - \u001b[1;32mINFO\u001b[1;0m - Loaded 19984 sentences to skip from /home/pamessina/medvqa-workspace/cache/mimiccxr/openai/gpt-3.5-turbo-0613_parsed_sentences__v2(uniform).jsonl\n",
      "2023-09-08 16:46:50,917 - \u001b[1;32mINFO\u001b[1;0m - Removed 49954 sentences to skip. 627740 sentences remaining.\n",
      "2023-09-08 16:46:50,917 - \u001b[1;32mINFO\u001b[1;0m - Collecting the first 5000 sentences starting from the 0-th sentence\n",
      "2023-09-08 16:46:50,952 - \u001b[1;32mINFO\u001b[1;0m - Removing 10 already processed sentences\n",
      "2023-09-08 16:46:50,953 - \u001b[1;32mINFO\u001b[1;0m - Total number of sentences to process: 4990\n",
      "2023-09-08 16:46:50,953 - \u001b[1;32mINFO\u001b[1;0m - Example sentences to process:\n",
      "2023-09-08 16:46:50,953 - \u001b[1;32mINFO\u001b[1;0m - 1. Non-characteristic areas of atelectasis.\n",
      "2023-09-08 16:46:50,953 - \u001b[1;32mINFO\u001b[1;0m - 263. CENTRAL VENOUS LINE TIP IS AT THE LEVEL OF CAVOATRIAL JUNCTION.\n",
      "2023-09-08 16:46:50,953 - \u001b[1;32mINFO\u001b[1;0m - 526. WET READ VERSION #1 7:08 PM Low lung volumes and a large right lower lobe airspace opacity, correlating with findings seen on recent chest CT. No overt pneumothorax.\n",
      "2023-09-08 16:46:50,953 - \u001b[1;32mINFO\u001b[1;0m - 788. There is a left-sided subclavian catheter with distal lead tip in the proximal SVC, slightly perpendicular to SVC wall.\n",
      "2023-09-08 16:46:50,953 - \u001b[1;32mINFO\u001b[1;0m - 1051. Consolidation in the axillary sub segments of the right upper lobe is slightly more extensive than it was yesterday, spreading to the anterior segment, as seen on the lateral view.\n",
      "2023-09-08 16:46:50,953 - \u001b[1;32mINFO\u001b[1;0m - 1313. Post-traumatic rib coalition and pleural thickening is noted along the left anterolateral chest wall.\n",
      "2023-09-08 16:46:50,953 - \u001b[1;32mINFO\u001b[1;0m - 1576. 3:20 PM Airspace opacity in the right lung base silhouetting the right hemidiaphragm may represent atelectasis or early pneumonia, depending upon the clinical setting.\n",
      "2023-09-08 16:46:50,953 - \u001b[1;32mINFO\u001b[1;0m - 1839. Previously described left internal jugular approach wide-bore dialysis catheter remains in unchanged position terminating within the right atrium.\n",
      "2023-09-08 16:46:50,953 - \u001b[1;32mINFO\u001b[1;0m - 2101. TRACHEOSTOMY TUBE IN STANDARD PLACEMENT.\n",
      "2023-09-08 16:46:50,953 - \u001b[1;32mINFO\u001b[1;0m - 2364. Swan ganz removed.\n",
      "2023-09-08 16:46:50,953 - \u001b[1;32mINFO\u001b[1;0m - 2626. Lungs are unremarkable except for band of atelectasis at one of the bases seen only on the lateral view and the persistently low though somewhat improved lung volumes due, on the left, to severe splenomegaly.\n",
      "2023-09-08 16:46:50,953 - \u001b[1;32mINFO\u001b[1;0m - 2889. 12:01 AM Left costophrenic sulcus not imaged, small left pleural effusion cannot be excluded.\n",
      "2023-09-08 16:46:50,953 - \u001b[1;32mINFO\u001b[1;0m - 3151. Apparent leftward deviation of the trachea above the thoracic inlet level may be rotational, or could potentially represent enlargement due to extrinsic compression from thyroid gland or other adjacent structures.\n",
      "2023-09-08 16:46:50,953 - \u001b[1;32mINFO\u001b[1;0m - 3414. Mild perhilar congestion appears unchanged.\n",
      "2023-09-08 16:46:50,953 - \u001b[1;32mINFO\u001b[1;0m - 3677. Left lower lobe has remained relatively consolidated for several days, attributed to atelectasis but also conceivably infected.\n",
      "2023-09-08 16:46:50,953 - \u001b[1;32mINFO\u001b[1;0m - 3939. Assessment of the lung parenchyma demonstrates presence of linear opacities projecting over the predominately lower lungs that might represent chronic parenchymal scarring versus pleural abnormalities O potentially combination of bolus.\n",
      "2023-09-08 16:46:50,953 - \u001b[1;32mINFO\u001b[1;0m - 4202. The cardiomediastinal silhouette is unremarkable, with a top normal-sized heart.\n",
      "2023-09-08 16:46:50,954 - \u001b[1;32mINFO\u001b[1;0m - 4464. Radiation fibrotic changes within the left upper lobe are unchanged compared to the previous exam.\n",
      "2023-09-08 16:46:50,954 - \u001b[1;32mINFO\u001b[1;0m - 4727. The geographic areas of radiopacity in the left mid lung and right lung base could be atelectasis or pneumonia, or even fissural pleural effusion.\n",
      "2023-09-08 16:46:50,954 - \u001b[1;32mINFO\u001b[1;0m - 4990. There is subtle ground-glass opacification in the right lung base, new/increased since the prior study, which could be due to atelectasis or mucoid impaction, although underlying early consolidation is not excluded.\n",
      "2023-09-08 16:46:50,966 - \u001b[1;32mINFO\u001b[1;0m - Saving API requests to /home/pamessina/medvqa-workspace/tmp/mimiccxr/openai/api_requests_20230908_164650.jsonl\n",
      "2023-09-08 16:46:50,966 - \u001b[1;32mINFO\u001b[1;0m - Saving API responses to /home/pamessina/medvqa-workspace/tmp/mimiccxr/openai/api_responses_20230908_164650.jsonl\n"
     ]
    },
    {
     "name": "stdout",
     "output_type": "stream",
     "text": [
      "2023-09-08 16:46:51,779 - \u001b[1;32mINFO\u001b[1;0m - Starting request #0\n",
      "2023-09-08 16:46:51,984 - \u001b[1;32mINFO\u001b[1;0m - Starting request #50\n",
      "2023-09-08 16:47:44,940 - \u001b[1;32mINFO\u001b[1;0m - Starting request #100\n",
      "2023-09-08 16:48:41,148 - \u001b[1;32mINFO\u001b[1;0m - Starting request #150\n",
      "2023-09-08 16:49:37,461 - \u001b[1;32mINFO\u001b[1;0m - Starting request #200\n",
      "2023-09-08 16:50:33,617 - \u001b[1;32mINFO\u001b[1;0m - Starting request #250\n",
      "2023-09-08 16:51:29,639 - \u001b[1;32mINFO\u001b[1;0m - Starting request #300\n",
      "2023-09-08 16:52:25,877 - \u001b[1;32mINFO\u001b[1;0m - Starting request #350\n",
      "2023-09-08 16:53:21,980 - \u001b[1;32mINFO\u001b[1;0m - Starting request #400\n",
      "2023-09-08 16:54:18,325 - \u001b[1;32mINFO\u001b[1;0m - Starting request #450\n",
      "2023-09-08 16:55:14,496 - \u001b[1;32mINFO\u001b[1;0m - Starting request #500\n",
      "2023-09-08 16:56:10,830 - \u001b[1;32mINFO\u001b[1;0m - Starting request #550\n",
      "2023-09-08 16:57:07,108 - \u001b[1;32mINFO\u001b[1;0m - Starting request #600\n",
      "2023-09-08 16:58:03,537 - \u001b[1;32mINFO\u001b[1;0m - Starting request #650\n",
      "2023-09-08 16:58:59,808 - \u001b[1;32mINFO\u001b[1;0m - Starting request #700\n",
      "2023-09-08 16:59:56,032 - \u001b[1;32mINFO\u001b[1;0m - Starting request #750\n",
      "2023-09-08 17:00:52,210 - \u001b[1;32mINFO\u001b[1;0m - Starting request #800\n",
      "2023-09-08 17:01:48,372 - \u001b[1;32mINFO\u001b[1;0m - Starting request #850\n",
      "2023-09-08 17:02:44,614 - \u001b[1;32mINFO\u001b[1;0m - Starting request #900\n",
      "2023-09-08 17:03:41,012 - \u001b[1;32mINFO\u001b[1;0m - Starting request #950\n",
      "2023-09-08 17:04:37,340 - \u001b[1;32mINFO\u001b[1;0m - Starting request #1000\n",
      "2023-09-08 17:05:33,665 - \u001b[1;32mINFO\u001b[1;0m - Starting request #1050\n",
      "2023-09-08 17:06:29,957 - \u001b[1;32mINFO\u001b[1;0m - Starting request #1100\n",
      "2023-09-08 17:07:26,122 - \u001b[1;32mINFO\u001b[1;0m - Starting request #1150\n",
      "2023-09-08 17:08:22,538 - \u001b[1;32mINFO\u001b[1;0m - Starting request #1200\n",
      "2023-09-08 17:09:18,721 - \u001b[1;32mINFO\u001b[1;0m - Starting request #1250\n",
      "2023-09-08 17:10:14,967 - \u001b[1;32mINFO\u001b[1;0m - Starting request #1300\n",
      "2023-09-08 17:11:11,129 - \u001b[1;32mINFO\u001b[1;0m - Starting request #1350\n",
      "2023-09-08 17:12:07,515 - \u001b[1;32mINFO\u001b[1;0m - Starting request #1400\n",
      "2023-09-08 17:13:03,950 - \u001b[1;32mINFO\u001b[1;0m - Starting request #1450\n",
      "2023-09-08 17:14:00,173 - \u001b[1;32mINFO\u001b[1;0m - Starting request #1500\n",
      "2023-09-08 17:14:56,517 - \u001b[1;32mINFO\u001b[1;0m - Starting request #1550\n",
      "2023-09-08 17:15:53,008 - \u001b[1;32mINFO\u001b[1;0m - Starting request #1600\n",
      "2023-09-08 17:16:49,214 - \u001b[1;32mINFO\u001b[1;0m - Starting request #1650\n",
      "2023-09-08 17:17:45,199 - \u001b[1;32mINFO\u001b[1;0m - Starting request #1700\n",
      "2023-09-08 17:18:41,215 - \u001b[1;32mINFO\u001b[1;0m - Starting request #1750\n",
      "2023-09-08 17:19:37,516 - \u001b[1;32mINFO\u001b[1;0m - Starting request #1800\n",
      "2023-09-08 17:20:33,710 - \u001b[1;32mINFO\u001b[1;0m - Starting request #1850\n",
      "2023-09-08 17:21:30,113 - \u001b[1;32mINFO\u001b[1;0m - Starting request #1900\n",
      "2023-09-08 17:22:26,491 - \u001b[1;32mINFO\u001b[1;0m - Starting request #1950\n",
      "2023-09-08 17:23:22,990 - \u001b[1;32mINFO\u001b[1;0m - Starting request #2000\n",
      "2023-09-08 17:24:19,041 - \u001b[1;32mINFO\u001b[1;0m - Starting request #2050\n",
      "2023-09-08 17:25:15,192 - \u001b[1;32mINFO\u001b[1;0m - Starting request #2100\n",
      "2023-09-08 17:26:11,528 - \u001b[1;32mINFO\u001b[1;0m - Starting request #2150\n",
      "2023-09-08 17:27:07,727 - \u001b[1;32mINFO\u001b[1;0m - Starting request #2200\n",
      "2023-09-08 17:28:03,926 - \u001b[1;32mINFO\u001b[1;0m - Starting request #2250\n",
      "2023-09-08 17:29:00,273 - \u001b[1;32mINFO\u001b[1;0m - Starting request #2300\n",
      "2023-09-08 17:29:56,304 - \u001b[1;32mINFO\u001b[1;0m - Starting request #2350\n",
      "2023-09-08 17:30:52,365 - \u001b[1;32mINFO\u001b[1;0m - Starting request #2400\n",
      "2023-09-08 17:31:48,572 - \u001b[1;32mINFO\u001b[1;0m - Starting request #2450\n",
      "2023-09-08 17:32:44,961 - \u001b[1;32mINFO\u001b[1;0m - Starting request #2500\n",
      "2023-09-08 17:33:41,286 - \u001b[1;32mINFO\u001b[1;0m - Starting request #2550\n",
      "2023-09-08 17:34:37,655 - \u001b[1;32mINFO\u001b[1;0m - Starting request #2600\n",
      "2023-09-08 17:35:33,749 - \u001b[1;32mINFO\u001b[1;0m - Starting request #2650\n",
      "2023-09-08 17:36:29,847 - \u001b[1;32mINFO\u001b[1;0m - Starting request #2700\n",
      "2023-09-08 17:37:25,926 - \u001b[1;32mINFO\u001b[1;0m - Starting request #2750\n",
      "2023-09-08 17:38:22,094 - \u001b[1;32mINFO\u001b[1;0m - Starting request #2800\n",
      "2023-09-08 17:39:18,320 - \u001b[1;32mINFO\u001b[1;0m - Starting request #2850\n",
      "2023-09-08 17:40:14,578 - \u001b[1;32mINFO\u001b[1;0m - Starting request #2900\n",
      "2023-09-08 17:41:10,707 - \u001b[1;32mINFO\u001b[1;0m - Starting request #2950\n",
      "2023-09-08 17:42:07,007 - \u001b[1;32mINFO\u001b[1;0m - Starting request #3000\n",
      "2023-09-08 17:43:03,211 - \u001b[1;32mINFO\u001b[1;0m - Starting request #3050\n",
      "2023-09-08 17:43:59,481 - \u001b[1;32mINFO\u001b[1;0m - Starting request #3100\n",
      "2023-09-08 17:44:55,587 - \u001b[1;32mINFO\u001b[1;0m - Starting request #3150\n",
      "2023-09-08 17:45:51,764 - \u001b[1;32mINFO\u001b[1;0m - Starting request #3200\n",
      "2023-09-08 17:46:48,116 - \u001b[1;32mINFO\u001b[1;0m - Starting request #3250\n",
      "2023-09-08 17:47:44,513 - \u001b[1;32mINFO\u001b[1;0m - Starting request #3300\n",
      "2023-09-08 17:48:40,495 - \u001b[1;32mINFO\u001b[1;0m - Starting request #3350\n",
      "2023-09-08 17:49:36,687 - \u001b[1;32mINFO\u001b[1;0m - Starting request #3400\n",
      "2023-09-08 17:50:32,661 - \u001b[1;32mINFO\u001b[1;0m - Starting request #3450\n",
      "2023-09-08 17:51:28,860 - \u001b[1;32mINFO\u001b[1;0m - Starting request #3500\n",
      "2023-09-08 17:52:25,167 - \u001b[1;32mINFO\u001b[1;0m - Starting request #3550\n",
      "2023-09-08 17:53:21,357 - \u001b[1;32mINFO\u001b[1;0m - Starting request #3600\n",
      "2023-09-08 17:54:17,609 - \u001b[1;32mINFO\u001b[1;0m - Starting request #3650\n",
      "2023-09-08 17:55:13,869 - \u001b[1;32mINFO\u001b[1;0m - Starting request #3700\n",
      "2023-09-08 17:56:09,886 - \u001b[1;32mINFO\u001b[1;0m - Starting request #3750\n",
      "2023-09-08 17:57:05,884 - \u001b[1;32mINFO\u001b[1;0m - Starting request #3800\n",
      "2023-09-08 17:58:02,150 - \u001b[1;32mINFO\u001b[1;0m - Starting request #3850\n",
      "2023-09-08 17:58:58,562 - \u001b[1;32mINFO\u001b[1;0m - Starting request #3900\n",
      "2023-09-08 17:59:54,610 - \u001b[1;32mINFO\u001b[1;0m - Starting request #3950\n",
      "2023-09-08 18:00:50,767 - \u001b[1;32mINFO\u001b[1;0m - Starting request #4000\n",
      "2023-09-08 18:01:46,785 - \u001b[1;32mINFO\u001b[1;0m - Starting request #4050\n",
      "2023-09-08 18:02:42,749 - \u001b[1;32mINFO\u001b[1;0m - Starting request #4100\n",
      "2023-09-08 18:03:38,878 - \u001b[1;32mINFO\u001b[1;0m - Starting request #4150\n",
      "2023-09-08 18:04:34,952 - \u001b[1;32mINFO\u001b[1;0m - Starting request #4200\n",
      "2023-09-08 18:05:31,058 - \u001b[1;32mINFO\u001b[1;0m - Starting request #4250\n",
      "2023-09-08 18:06:27,145 - \u001b[1;32mINFO\u001b[1;0m - Starting request #4300\n",
      "2023-09-08 18:07:23,193 - \u001b[1;32mINFO\u001b[1;0m - Starting request #4350\n",
      "2023-09-08 18:08:19,202 - \u001b[1;32mINFO\u001b[1;0m - Starting request #4400\n",
      "2023-09-08 18:09:15,209 - \u001b[1;32mINFO\u001b[1;0m - Starting request #4450\n",
      "2023-09-08 18:10:11,477 - \u001b[1;32mINFO\u001b[1;0m - Starting request #4500\n",
      "2023-09-08 18:11:07,831 - \u001b[1;32mINFO\u001b[1;0m - Starting request #4550\n",
      "2023-09-08 18:12:04,049 - \u001b[1;32mINFO\u001b[1;0m - Starting request #4600\n",
      "2023-09-08 18:13:00,154 - \u001b[1;32mINFO\u001b[1;0m - Starting request #4650\n",
      "2023-09-08 18:13:56,419 - \u001b[1;32mINFO\u001b[1;0m - Starting request #4700\n",
      "2023-09-08 18:14:52,696 - \u001b[1;32mINFO\u001b[1;0m - Starting request #4750\n",
      "2023-09-08 18:15:48,856 - \u001b[1;32mINFO\u001b[1;0m - Starting request #4800\n",
      "2023-09-08 18:16:44,902 - \u001b[1;32mINFO\u001b[1;0m - Starting request #4850\n",
      "2023-09-08 18:17:40,993 - \u001b[1;32mINFO\u001b[1;0m - Starting request #4900\n",
      "2023-09-08 18:18:36,881 - \u001b[1;32mINFO\u001b[1;0m - Starting request #4950\n",
      "2023-09-08 18:19:26,842 - \u001b[1;32mINFO\u001b[1;0m - Parallel processing complete. Results saved to /home/pamessina/medvqa-workspace/tmp/mimiccxr/openai/api_responses_20230908_164650.jsonl\n",
      "2023-09-08 18:19:26,846 - \u001b[1;32mINFO\u001b[1;0m - Loading API responses from /home/pamessina/medvqa-workspace/tmp/mimiccxr/openai/api_responses_20230908_164650.jsonl\n",
      "2023-09-08 18:19:27,026 - \u001b[1;33mWARNING\u001b[1;0m - GPT is protesting: Your input seems incomplete. Could you please provide a complete sentence from a chest x-ray report?, returning []\n",
      "2023-09-08 18:19:27,037 - \u001b[1;32mINFO\u001b[1;0m - Succesfully processed 4990 of 4990 API responses.\n",
      "                    0 of 4990 API responses could not be processed.\n",
      "                    Saving processed texts to /home/pamessina/medvqa-workspace/cache/mimiccxr/openai/gpt-4-0613_facts_from_sentences(cluster-balanced,hardest).jsonl\n"
     ]
    }
   ],
   "source": [
    "!python ../../scripts/mimiccxr/extract_facts_from_report_sentences_with_openai.py \\\n",
    "--preprocessed_sentences_to_skip_filepaths \\\n",
    "\"/home/pamessina/medvqa-workspace/cache/mimiccxr/openai/gpt-4-0613_parsed_sentences__v2.jsonl\" \\\n",
    "\"/home/pamessina/medvqa-workspace/cache/mimiccxr/openai/gpt-3.5-turbo-0613_parsed_sentences__v2.jsonl\" \\\n",
    "\"/home/pamessina/medvqa-workspace/cache/mimiccxr/openai/gpt-3.5-turbo-0613_parsed_sentences__v2(uniform).jsonl\" \\\n",
    "--preprocessed_reports_filepath \\\n",
    "\"/mnt/data/pamessina/workspaces/medvqa-workspace/cache/mimiccxr/background_findings_and_impression_20230612_174143.json\" \\\n",
    "--cxr_bert_checkpoint_folder_path \\\n",
    "\"/mnt/data/pamessina/workspaces/medvqa-workspace/models/fact_embedding/20230823_124048_MIMIC-CXR(GPT3.5,GPT4,CXR-BERT,triplet_loss,ChestImaGenome,RadGraph)_FactEncoder(microsoft-BiomedVLP-CXR-BERT-specialized)/\" \\\n",
    "--offset 0 \\\n",
    "--num_sentences 5000 \\\n",
    "--rank_sentences_by_difficulty \\\n",
    "--max_requests_per_minute 180 \\\n",
    "--max_tokens_per_minute 35000 \\\n",
    "--max_tokens_per_request 256 \\\n",
    "--logging_level \"INFO\" \\\n",
    "--api_key_name \"OPENAI_API_KEY_3\" \\\n",
    "--openai_model_name \"gpt-4-0613\" \\\n",
    "--alias \"(cluster-balanced,hardest)\""
   ]
  },
  {
   "cell_type": "code",
   "execution_count": 27,
   "id": "9c3f1949",
   "metadata": {
    "scrolled": true
   },
   "outputs": [
    {
     "name": "stdout",
     "output_type": "stream",
     "text": [
      "-rw-rw-r-- 1 pamessina pamessina 1.4M Sep  8 18:19 '/home/pamessina/medvqa-workspace/cache/mimiccxr/openai/gpt-4-0613_facts_from_sentences(cluster-balanced,hardest).jsonl'\r\n"
     ]
    }
   ],
   "source": [
    "!ls -lh \"/home/pamessina/medvqa-workspace/cache/mimiccxr/openai/gpt-4-0613_facts_from_sentences(cluster-balanced,hardest).jsonl\""
   ]
  },
  {
   "cell_type": "code",
   "execution_count": 21,
   "id": "3f633648",
   "metadata": {},
   "outputs": [],
   "source": [
    "from medvqa.utils.files import load_jsonl"
   ]
  },
  {
   "cell_type": "code",
   "execution_count": 28,
   "id": "fdadc356",
   "metadata": {},
   "outputs": [],
   "source": [
    "tmp = load_jsonl('/home/pamessina/medvqa-workspace/cache/mimiccxr/openai/gpt-4-0613_facts_from_sentences(cluster-balanced,hardest).jsonl')"
   ]
  },
  {
   "cell_type": "code",
   "execution_count": 29,
   "id": "5702acc3",
   "metadata": {},
   "outputs": [
    {
     "data": {
      "text/plain": [
       "5000"
      ]
     },
     "execution_count": 29,
     "metadata": {},
     "output_type": "execute_result"
    }
   ],
   "source": [
    "len(tmp)"
   ]
  },
  {
   "cell_type": "code",
   "execution_count": 36,
   "id": "0826062d",
   "metadata": {},
   "outputs": [
    {
     "data": {
      "text/plain": [
       "{'metadata': {'query': 'A right internal jugular tunnel dialysis catheter is unchanged in appearance when compared to the prior study.'},\n",
       " 'parsed_response': ['unchanged appearance of right internal jugular tunnel dialysis catheter compared to prior study']}"
      ]
     },
     "execution_count": 36,
     "metadata": {},
     "output_type": "execute_result"
    }
   ],
   "source": [
    "tmp[-7]"
   ]
  }
 ],
 "metadata": {
  "kernelspec": {
   "display_name": "venv2",
   "language": "python",
   "name": "venv2"
  },
  "language_info": {
   "codemirror_mode": {
    "name": "ipython",
    "version": 3
   },
   "file_extension": ".py",
   "mimetype": "text/x-python",
   "name": "python",
   "nbconvert_exporter": "python",
   "pygments_lexer": "ipython3",
   "version": "3.10.10"
  }
 },
 "nbformat": 4,
 "nbformat_minor": 5
}
