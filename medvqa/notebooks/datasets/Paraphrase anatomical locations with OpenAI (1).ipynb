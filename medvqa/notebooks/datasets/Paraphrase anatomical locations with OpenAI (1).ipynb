{
 "cells": [
  {
   "cell_type": "code",
   "execution_count": null,
   "id": "525b6006",
   "metadata": {
    "scrolled": false
   },
   "outputs": [],
   "source": [
    "!python ../../scripts/mimiccxr/paraphrase_anatomical_locations_with_openai.py \\\n",
    "    --integrated_fact_metadata_filepath \"/home/pamessina/medvqa-workspace/cache/mimiccxr/integrated_fact_metadata(578718,58628868).jsonl\" \\\n",
    "    --offset 0 \\\n",
    "    --num_sentences 10000 \\\n",
    "    --max_requests_per_minute 3000 \\\n",
    "    --max_tokens_per_minute 80000 \\\n",
    "    --max_tokens_per_request 300 \\\n",
    "    --logging_level \"INFO\" \\\n",
    "    --api_key_name \"OPENAI_API_KEY_1\" \\\n",
    "    --openai_model_name \"gpt-3.5-turbo-0613\" \\\n",
    "    --alias \"__part1\""
   ]
  },
  {
   "cell_type": "code",
   "execution_count": 44,
   "id": "73b0fb70",
   "metadata": {},
   "outputs": [
    {
     "name": "stdout",
     "output_type": "stream",
     "text": [
      " gpt-3.5-turbo-0301_parsed_sentences.jsonl\r\n",
      " gpt-3.5-turbo-0613_paraphrased_anatomical_locations__part1.jsonl\r\n",
      " gpt-3.5-turbo-0613_paraphrased_anatomical_locations__part2.jsonl\r\n",
      " gpt-3.5-turbo-0613_parsed_facts__hard.jsonl\r\n",
      " gpt-3.5-turbo-0613_parsed_facts__uniform.jsonl\r\n",
      " gpt-3.5-turbo-0613_parsed_facts__v2.jsonl\r\n",
      "'gpt-3.5-turbo-0613_parsed_facts__v2_offset=20000.jsonl'\r\n",
      "'gpt-3.5-turbo-0613_parsed_facts__v2_offset=40000_uniform.jsonl'\r\n",
      " gpt-3.5-turbo-0613_parsed_sentences__v2.jsonl\r\n",
      "'gpt-3.5-turbo-0613_parsed_sentences__v2(uniform).jsonl'\r\n",
      " gpt-3.5-turbo-16k-0613_paraphrased_anatomical_locations__part3.jsonl\r\n",
      " gpt-3.5-turbo_parsed_backgrounds.jsonl\r\n",
      " gpt-3.5-turbo_parsed_reports__backup.jsonl\r\n",
      " gpt-3.5-turbo_parsed_reports.jsonl\r\n",
      "'gpt-3.5-turbo_parsed_reports(old).jsonl'\r\n",
      " gpt-3.5-turbo_parsed_sentences.jsonl\r\n",
      " gpt-4-0613_parsed_reports.jsonl\r\n",
      " gpt-4-0613_parsed_sentences.jsonl\r\n",
      " gpt-4-0613_parsed_sentences__v2.jsonl\r\n"
     ]
    }
   ],
   "source": [
    "!ls /home/pamessina/medvqa-workspace/cache/mimiccxr/openai/"
   ]
  },
  {
   "cell_type": "code",
   "execution_count": 45,
   "id": "3f633648",
   "metadata": {},
   "outputs": [],
   "source": [
    "from medvqa.utils.files import load_jsonl"
   ]
  },
  {
   "cell_type": "code",
   "execution_count": 6,
   "id": "e37dc25c",
   "metadata": {},
   "outputs": [],
   "source": [
    "tmp = load_jsonl('/home/pamessina/medvqa-workspace/cache/mimiccxr/integrated_fact_metadata(578718,58628868).jsonl')"
   ]
  },
  {
   "cell_type": "code",
   "execution_count": 7,
   "id": "9a0022f0",
   "metadata": {},
   "outputs": [
    {
     "data": {
      "text/plain": [
       "578718"
      ]
     },
     "execution_count": 7,
     "metadata": {},
     "output_type": "execute_result"
    }
   ],
   "source": [
    "len(tmp)"
   ]
  },
  {
   "cell_type": "code",
   "execution_count": 19,
   "id": "6247f393",
   "metadata": {},
   "outputs": [],
   "source": [
    "anatomical_locations = set()\n",
    "for x in tmp:\n",
    "    anatomical_locations.add(x['metadata']['anatomical location'])\n",
    "anatomical_locations = list(anatomical_locations)\n",
    "anatomical_locations.sort(key=lambda s: (len(s), s))"
   ]
  },
  {
   "cell_type": "code",
   "execution_count": 34,
   "id": "b68c49ee",
   "metadata": {},
   "outputs": [
    {
     "data": {
      "text/plain": [
       "['',\n",
       " \"'\",\n",
       " '2',\n",
       " '5',\n",
       " 'B',\n",
       " 'I',\n",
       " 'L',\n",
       " 'R',\n",
       " 'a',\n",
       " 'AA',\n",
       " 'AC',\n",
       " 'BL',\n",
       " 'C2',\n",
       " 'C7',\n",
       " 'GI',\n",
       " 'IJ',\n",
       " 'L1',\n",
       " 'L2',\n",
       " 'L3',\n",
       " 'LL',\n",
       " 'LS',\n",
       " 'LV',\n",
       " 'NG',\n",
       " 'PE',\n",
       " 'RA',\n",
       " 'RV',\n",
       " 'SI',\n",
       " 'T1',\n",
       " 'T2',\n",
       " 'T3',\n",
       " 'T4',\n",
       " 'T5',\n",
       " 'T6',\n",
       " 'T7',\n",
       " 'T8',\n",
       " 'T9',\n",
       " 'VC',\n",
       " 'AVM',\n",
       " 'AVR',\n",
       " 'CBD',\n",
       " 'CCC',\n",
       " 'CPA',\n",
       " 'CXR',\n",
       " 'D12',\n",
       " 'DHT',\n",
       " 'GEJ',\n",
       " 'IJV',\n",
       " 'IVC',\n",
       " 'LAD',\n",
       " 'LIJ']"
      ]
     },
     "execution_count": 34,
     "metadata": {},
     "output_type": "execute_result"
    }
   ],
   "source": [
    "anatomical_locations[:50]"
   ]
  },
  {
   "cell_type": "code",
   "execution_count": 83,
   "id": "b2e843a4",
   "metadata": {},
   "outputs": [
    {
     "name": "stdout",
     "output_type": "stream",
     "text": [
      "{'fact': 'linear opacity at the base suggestive of atelectasis in the left lung', 'metadata': {'anatomical location': 'base suggestive of atelectasis in the left lung', 'detailed observation': 'linear opacity at the base suggestive of atelectasis', 'short observation': 'linear opacity at the base', 'category': 'anatomical finding', 'health status': 'abnormal', 'prev_study_comparison?': 'no', 'comparison status': ''}, 'extraction_method': 't5-small-finetuned'}\n"
     ]
    }
   ],
   "source": [
    "aux = \"base suggestive of atelectasis in the left lung\"\n",
    "for x in tmp:\n",
    "    if x['metadata']['anatomical location'] == aux:\n",
    "        print(x)\n",
    "        break"
   ]
  },
  {
   "cell_type": "code",
   "execution_count": 85,
   "id": "b5cff907",
   "metadata": {},
   "outputs": [],
   "source": [
    "tmp2 = load_jsonl('/home/pamessina/medvqa-workspace/cache/mimiccxr/integrated_report_facts_metadata(227835,78285220).jsonl')"
   ]
  },
  {
   "cell_type": "code",
   "execution_count": 86,
   "id": "b1494faf",
   "metadata": {},
   "outputs": [
    {
     "name": "stdout",
     "output_type": "stream",
     "text": [
      "{'background': 'clinical indication: -year-old with post-obstructive '\n",
      "               'pneumonia, cancer mass, evaluate effusion, chest tube '\n",
      "               'placement.',\n",
      " 'fact_based_report': 'complete opacification of the right hemithorax. right '\n",
      "                      'basilar chest tube remaining in place. difficult '\n",
      "                      'assessment of cardiac contours. difficult assessment of '\n",
      "                      'mediastinal contours. left heart border stable in '\n",
      "                      'contour. stable small effusion in the left lung. linear '\n",
      "                      'opacity at the base suggestive of atelectasis in the '\n",
      "                      'left lung. no pneumothorax. no evidence of pulmonary '\n",
      "                      'edema',\n",
      " 'facts': [{'fact': 'complete opacification of the right hemithorax',\n",
      "            'metadata': {'anatomical location': 'right hemithorax',\n",
      "                         'category': 'anatomical finding',\n",
      "                         'comparison status': '',\n",
      "                         'detailed observation': 'complete opacification of '\n",
      "                                                 'the right hemithorax',\n",
      "                         'health status': 'abnormal',\n",
      "                         'prev_study_comparison?': 'no',\n",
      "                         'short observation': 'complete opacification'}},\n",
      "           {'fact': 'right basilar chest tube remaining in place',\n",
      "            'metadata': {'anatomical location': 'right basilar',\n",
      "                         'category': 'tubes and lines',\n",
      "                         'comparison status': '',\n",
      "                         'detailed observation': 'chest tube remaining in '\n",
      "                                                 'place',\n",
      "                         'health status': 'normal',\n",
      "                         'prev_study_comparison?': 'no',\n",
      "                         'short observation': 'chest tube remaining in place'}},\n",
      "           {'fact': 'difficult assessment of cardiac contours',\n",
      "            'metadata': {'anatomical location': 'cardiac contours',\n",
      "                         'category': 'technical assessment',\n",
      "                         'comparison status': '',\n",
      "                         'detailed observation': 'difficult assessment of '\n",
      "                                                 'cardiac contours',\n",
      "                         'health status': 'unknown',\n",
      "                         'prev_study_comparison?': 'no',\n",
      "                         'short observation': 'difficult assessment of cardiac '\n",
      "                                              'contours'}},\n",
      "           {'fact': 'difficult assessment of mediastinal contours',\n",
      "            'metadata': {'anatomical location': 'mediastinal contours',\n",
      "                         'category': 'technical assessment',\n",
      "                         'comparison status': '',\n",
      "                         'detailed observation': 'difficult assessment of '\n",
      "                                                 'mediastinal contours',\n",
      "                         'health status': 'unknown',\n",
      "                         'prev_study_comparison?': 'no',\n",
      "                         'short observation': 'difficult assessment of '\n",
      "                                              'mediastinal contours'}},\n",
      "           {'fact': 'left heart border stable in contour',\n",
      "            'metadata': {'anatomical location': 'heart border',\n",
      "                         'category': 'anatomical finding',\n",
      "                         'comparison status': '',\n",
      "                         'detailed observation': 'left heart border stable in '\n",
      "                                                 'contour',\n",
      "                         'health status': 'normal',\n",
      "                         'prev_study_comparison?': 'no',\n",
      "                         'short observation': 'left heart border stable'}},\n",
      "           {'fact': 'stable small effusion in the left lung',\n",
      "            'metadata': {'anatomical location': 'left lung',\n",
      "                         'category': 'anatomical finding',\n",
      "                         'comparison status': 'stable',\n",
      "                         'detailed observation': 'stable small effusion',\n",
      "                         'health status': 'abnormal',\n",
      "                         'prev_study_comparison?': 'yes',\n",
      "                         'short observation': 'small effusion'}},\n",
      "           {'fact': 'linear opacity at the base suggestive of atelectasis in '\n",
      "                    'the left lung',\n",
      "            'metadata': {'anatomical location': 'base suggestive of '\n",
      "                                                'atelectasis in the left lung',\n",
      "                         'category': 'anatomical finding',\n",
      "                         'comparison status': '',\n",
      "                         'detailed observation': 'linear opacity at the base '\n",
      "                                                 'suggestive of atelectasis',\n",
      "                         'health status': 'abnormal',\n",
      "                         'prev_study_comparison?': 'no',\n",
      "                         'short observation': 'linear opacity at the base'}},\n",
      "           {'fact': 'no pneumothorax',\n",
      "            'metadata': {'anatomical location': '',\n",
      "                         'category': 'anatomical finding',\n",
      "                         'comparison status': '',\n",
      "                         'detailed observation': 'no pneumothorax',\n",
      "                         'health status': 'normal',\n",
      "                         'prev_study_comparison?': 'no',\n",
      "                         'short observation': 'no pneumothorax'}},\n",
      "           {'fact': 'no evidence of pulmonary edema',\n",
      "            'metadata': {'anatomical location': '',\n",
      "                         'category': 'anatomical finding',\n",
      "                         'comparison status': '',\n",
      "                         'detailed observation': 'no evidence of pulmonary '\n",
      "                                                 'edema',\n",
      "                         'health status': 'normal',\n",
      "                         'prev_study_comparison?': 'no',\n",
      "                         'short observation': 'no evidence of pulmonary '\n",
      "                                              'edema'}}],\n",
      " 'findings': '1. There continues to be complete opacification of the right '\n",
      "             'hemithorax with a right basilar chest tube remaining in place. '\n",
      "             'Assessment of cardiac and mediastinal contours is difficult, '\n",
      "             'although the left heart border is stable in contour. Left lung '\n",
      "             'demonstrates a stable small effusion with some linear opacity at '\n",
      "             'the base suggestive of atelectasis. No pneumothorax is seen. No '\n",
      "             'evidence of pulmonary edema.',\n",
      " 'impression': '',\n",
      " 'path': '/mnt/data/mimic-cxr/files/p18/p18477317/s59195288.txt',\n",
      " 'report_idx': 199624}\n"
     ]
    }
   ],
   "source": [
    "from pprint import pprint\n",
    "\n",
    "for x in tmp2:\n",
    "    done = False\n",
    "    for f in x['facts']:\n",
    "        if f['metadata']['anatomical location'] == aux:\n",
    "            pprint(x)\n",
    "            done = True\n",
    "            break\n",
    "    if done:\n",
    "        break"
   ]
  },
  {
   "cell_type": "code",
   "execution_count": 46,
   "id": "fdadc356",
   "metadata": {},
   "outputs": [],
   "source": [
    "_tmp = load_jsonl('/home/pamessina/medvqa-workspace/cache/mimiccxr/openai/gpt-3.5-turbo-0613_paraphrased_anatomical_locations__part1.jsonl')"
   ]
  },
  {
   "cell_type": "code",
   "execution_count": 47,
   "id": "5702acc3",
   "metadata": {},
   "outputs": [
    {
     "data": {
      "text/plain": [
       "9891"
      ]
     },
     "execution_count": 47,
     "metadata": {},
     "output_type": "execute_result"
    }
   ],
   "source": [
    "len(_tmp)"
   ]
  },
  {
   "cell_type": "code",
   "execution_count": 82,
   "id": "0487aa13",
   "metadata": {},
   "outputs": [
    {
     "data": {
      "text/plain": [
       "{'metadata': {'anatomical location': 'liver resection site'},\n",
       " 'parsed_response': ['resected liver area',\n",
       "  'site of liver resection',\n",
       "  'resected portion of the liver',\n",
       "  'liver resection location',\n",
       "  'area where liver was removed',\n",
       "  'portion of liver that was excised',\n",
       "  'surgical site of liver resection',\n",
       "  'region where liver tissue was resected',\n",
       "  'site where part of the liver was removed',\n",
       "  'area of liver that underwent resection',\n",
       "  'resected segment of the liver',\n",
       "  'location of liver tissue removal']}"
      ]
     },
     "execution_count": 82,
     "metadata": {},
     "output_type": "execute_result"
    }
   ],
   "source": [
    "_tmp[-2003]"
   ]
  }
 ],
 "metadata": {
  "kernelspec": {
   "display_name": "venv2",
   "language": "python",
   "name": "venv2"
  },
  "language_info": {
   "codemirror_mode": {
    "name": "ipython",
    "version": 3
   },
   "file_extension": ".py",
   "mimetype": "text/x-python",
   "name": "python",
   "nbconvert_exporter": "python",
   "pygments_lexer": "ipython3",
   "version": "3.10.10"
  }
 },
 "nbformat": 4,
 "nbformat_minor": 5
}
