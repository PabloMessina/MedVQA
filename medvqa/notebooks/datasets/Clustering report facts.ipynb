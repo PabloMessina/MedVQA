{
 "cells": [
  {
   "cell_type": "code",
   "execution_count": 4,
   "id": "0a7a14e2",
   "metadata": {},
   "outputs": [
    {
     "name": "stdout",
     "output_type": "stream",
     "text": [
      "2023-07-08 20:45:54,667 - \u001b[1;32mINFO\u001b[1;0m - Loading integrated facts metadata from /home/pamessina/medvqa-workspace/cache/mimiccxr/integrated_fact_metadata(578718,58628868).jsonl\n",
      "2023-07-08 20:46:00,096 - \u001b[1;32mINFO\u001b[1;0m - Loaded 28347 unique anatomical locations\n",
      "2023-07-08 20:46:00,099 - \u001b[1;32mINFO\u001b[1;0m - Num of anatomical locations with freq >= 10: 2418\n",
      "2023-07-08 20:46:00,101 - \u001b[1;32mINFO\u001b[1;0m - Num of anatomical locations with freq >= 100: 459\n",
      "2023-07-08 20:46:00,101 - \u001b[1;32mINFO\u001b[1;0m - Examples of anatomical locations:\n",
      "2023-07-08 20:46:00,101 - \u001b[1;32mINFO\u001b[1;0m -     mid to the lower esophagus (2)\n",
      "2023-07-08 20:46:00,101 - \u001b[1;32mINFO\u001b[1;0m -     posterior to the trachea at the level of the aortic arch (1)\n",
      "2023-07-08 20:46:00,101 - \u001b[1;32mINFO\u001b[1;0m -     presumed (1)\n",
      "2023-07-08 20:46:00,101 - \u001b[1;32mINFO\u001b[1;0m -     right upper lung lateral to the hilus (1)\n",
      "2023-07-08 20:46:00,101 - \u001b[1;32mINFO\u001b[1;0m -     near the hemidiaphragms (1)\n",
      "Explicitly passing a `revision` is encouraged when loading a configuration with custom code to ensure no malicious code has been contributed in a newer revision.\n",
      "Explicitly passing a `revision` is encouraged when loading a model with custom code to ensure no malicious code has been contributed in a newer revision.\n",
      "Explicitly passing a `revision` is encouraged when loading a model with custom code to ensure no malicious code has been contributed in a newer revision.\n",
      "2023-07-08 20:46:11,026 - \u001b[1;32mINFO\u001b[1;0m - Running inference\n",
      "100%|█████████████████████████████████████████| 284/284 [00:07<00:00, 39.36it/s]\n",
      "2023-07-08 20:46:18,260 - \u001b[1;32mINFO\u001b[1;0m - embeddings.shape: (28347, 128)\n",
      "2023-07-08 20:46:18,260 - \u001b[1;32mINFO\u001b[1;0m - Saving embeddings to /mnt/data/pamessina/workspaces/medvqa-workspace/cache/mimiccxr/anatomical_location_embeddings(BiomedVLP-CXR-BERT-specialized,28347,779891).pkl\n",
      "2023-07-08 20:46:18,313 - \u001b[1;32mINFO\u001b[1;0m - anat_locs_and_embeddings['embeddings'].shape: (28347, 128)\n",
      "Traceback (most recent call last):\n",
      "  File \"/home/pamessina/medvqa/medvqa/datasets/notebooks/../../scripts/mimiccxr/assign_cluster_ids_to_facts.py\", line 107, in <module>\n",
      "    assert False\n",
      "AssertionError\n"
     ]
    }
   ],
   "source": [
    "!python ../../scripts/mimiccxr/assign_cluster_ids_to_facts.py \\\n",
    "    --integrated_sentence_facts_filepath \\\n",
    "        \"/home/pamessina/medvqa-workspace/cache/mimiccxr/integrated_sentence_facts(58655550,46441815).jsonl\" \\\n",
    "    --integrated_facts_metadata_filepath \\\n",
    "        \"/home/pamessina/medvqa-workspace/cache/mimiccxr/integrated_fact_metadata(578718,58628868).jsonl\" \\\n",
    "    --batch_size 100 \\\n",
    "    --num_workers 4 \\\n",
    "    --num_processes 10 \\\n",
    "    --num_kmeans_clusters 1000 \\\n",
    "    --num_kmeans_iterations 300 \\\n",
    "    --num_samples_per_kmeans_cluster 50 \\\n",
    "    --num_kmedoids_clusters 1000"
   ]
  },
  {
   "cell_type": "code",
   "execution_count": 5,
   "id": "1d8a8bad",
   "metadata": {},
   "outputs": [],
   "source": [
    "from medvqa.utils.files import load_pickle"
   ]
  },
  {
   "cell_type": "code",
   "execution_count": 6,
   "id": "ae3d46cc",
   "metadata": {},
   "outputs": [],
   "source": [
    "anat_loc_embeddings = load_pickle('/mnt/data/pamessina/workspaces/medvqa-workspace/cache/mimiccxr/anatomical_location_embeddings(BiomedVLP-CXR-BERT-specialized,28347,779891).pkl')"
   ]
  },
  {
   "cell_type": "code",
   "execution_count": 7,
   "id": "b3a45d8b",
   "metadata": {},
   "outputs": [
    {
     "data": {
      "text/plain": [
       "dict_keys(['anatomical locations', 'embeddings'])"
      ]
     },
     "execution_count": 7,
     "metadata": {},
     "output_type": "execute_result"
    }
   ],
   "source": [
    "anat_loc_embeddings.keys()"
   ]
  },
  {
   "cell_type": "code",
   "execution_count": 12,
   "id": "c357f907",
   "metadata": {},
   "outputs": [
    {
     "name": "stdout",
     "output_type": "stream",
     "text": [
      "18515\n",
      "right lung at the level of the right hemidiaphragm\n",
      "----\n",
      "right lung at the level of the right hemidiaphragm\n",
      "diaphragmatic interface of the right lung\n",
      "basal aspect of the right lung\n",
      "right flank\n",
      "basal area of the right lung\n",
      "right lung at the right lung bases\n",
      "atelectatic right lung\n",
      "basal right lung\n",
      "base of right lung\n",
      "right abdominal\n",
      "lower right chest\n",
      "basal portion of the right lung\n",
      "R basal chest\n",
      "lateral to the partially atelectatic right lung\n",
      "basal parts of the right lung\n",
      "right base on the right side\n",
      "right hemithorax basal\n",
      "base of the partially atelectatic right lung\n",
      "right hemithorax bases\n",
      "right chest base\n",
      "partial basal right lung regions\n",
      "right base beneath the right lung\n"
     ]
    }
   ],
   "source": [
    "from medvqa.utils.math import rank_vectors_by_consine_similarity\n",
    "import random\n",
    "\n",
    "query_idx = random.choice(range(anat_loc_embeddings['embeddings'].shape[0]))\n",
    "query_embedding = anat_loc_embeddings['embeddings'][query_idx]\n",
    "ranked_indices = rank_vectors_by_consine_similarity(anat_loc_embeddings['embeddings'], query_embedding)\n",
    "\n",
    "print(query_idx)\n",
    "print(anat_loc_embeddings['anatomical locations'][query_idx])\n",
    "print('----')\n",
    "\n",
    "for j, i in enumerate(ranked_indices):\n",
    "    print(anat_loc_embeddings['anatomical locations'][i])\n",
    "    if j > 20:\n",
    "        break"
   ]
  },
  {
   "cell_type": "code",
   "execution_count": 15,
   "id": "889df9da",
   "metadata": {},
   "outputs": [
    {
     "name": "stdout",
     "output_type": "stream",
     "text": [
      "bilateral interstitial densities\n",
      "left-sided third rib\n",
      "left basal layer\n",
      "at or above the level of the gastroesophageal junction\n",
      "fourth posterior rib level\n",
      "osseous structures\n",
      "periphery of the right upper lobe\n",
      "bronchial valve\n",
      "spinal lateral view\n",
      "left second through sixth rib\n",
      "near, but proximal to the junction with the SVC\n",
      "right chest wall/pleural lesion\n",
      "mid to lower thoracic vertebral body\n",
      "mediastinal pleural surfaces\n",
      "right lateral mid chest\n",
      "left perihilar/infrahilar area\n",
      "left mid zone area\n",
      "mediastinal left hilar\n",
      "mid to distal parts of the stomach\n",
      "medial basal segment of the left lower lobe\n",
      "lungs at the bases\n",
      "inferior edge of the image\n",
      "T5 vertebral bodies\n",
      "anterior mediastinal/lower cervical\n",
      "mediastinum left hilus\n",
      "lower anterior hemithorax\n",
      "mid SVC at the level of the carina\n",
      "periphery of the chest wall\n",
      "first left anterior rib\n",
      "superior to the diaphragm\n"
     ]
    }
   ],
   "source": [
    "for x in random.sample(anat_loc_embeddings['anatomical locations'], 30):\n",
    "    print(x)"
   ]
  }
 ],
 "metadata": {
  "kernelspec": {
   "display_name": "venv2",
   "language": "python",
   "name": "venv2"
  },
  "language_info": {
   "codemirror_mode": {
    "name": "ipython",
    "version": 3
   },
   "file_extension": ".py",
   "mimetype": "text/x-python",
   "name": "python",
   "nbconvert_exporter": "python",
   "pygments_lexer": "ipython3",
   "version": "3.10.10"
  }
 },
 "nbformat": 4,
 "nbformat_minor": 5
}
