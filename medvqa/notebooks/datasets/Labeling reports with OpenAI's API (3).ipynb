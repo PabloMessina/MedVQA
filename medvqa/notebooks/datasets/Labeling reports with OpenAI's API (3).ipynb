{
 "cells": [
  {
   "cell_type": "code",
   "execution_count": 30,
   "id": "f19e7a6f",
   "metadata": {},
   "outputs": [
    {
     "name": "stdout",
     "output_type": "stream",
     "text": [
      " gpt-3.5-turbo-0301_parsed_sentences.jsonl\r\n",
      " gpt-3.5-turbo_parsed_backgrounds.jsonl\r\n",
      " gpt-3.5-turbo_parsed_reports__backup.jsonl\r\n",
      " gpt-3.5-turbo_parsed_reports.jsonl\r\n",
      "'gpt-3.5-turbo_parsed_reports(old).jsonl'\r\n",
      " gpt-3.5-turbo_parsed_sentences.jsonl\r\n",
      " gpt-4-0613_parsed_reports.jsonl\r\n",
      " gpt-4-0613_parsed_sentences.jsonl\r\n"
     ]
    }
   ],
   "source": [
    "!ls /home/pamessina/medvqa-workspace/cache/mimiccxr/openai/"
   ]
  },
  {
   "cell_type": "code",
   "execution_count": null,
   "id": "525b6006",
   "metadata": {
    "scrolled": true
   },
   "outputs": [
    {
     "name": "stdout",
     "output_type": "stream",
     "text": [
      "2023-06-17 13:39:29,871 - \u001b[1;32mINFO\u001b[1;0m - Loaded 9864 already parsed sentences from /home/pamessina/medvqa-workspace/cache/mimiccxr/openai/gpt-3.5-turbo-0301_parsed_sentences.jsonl\n",
      "2023-06-17 13:39:29,871 - \u001b[1;32mINFO\u001b[1;0m - Loading preprocessed sentences to skip from /home/pamessina/medvqa-workspace/cache/mimiccxr/openai/gpt-4-0613_parsed_sentences.jsonl\n",
      "2023-06-17 13:39:29,974 - \u001b[1;32mINFO\u001b[1;0m - Loaded 19999 sentences to skip\n",
      "2023-06-17 13:39:29,984 - \u001b[1;32mINFO\u001b[1;0m - Total number of sentences to skip: 29863\n",
      "2023-06-17 13:39:29,984 - \u001b[1;32mINFO\u001b[1;0m - Loading preprocessed sentences to skip from /home/pamessina/medvqa-workspace/cache/mimiccxr/openai/gpt-3.5-turbo_parsed_sentences.jsonl\n",
      "2023-06-17 13:39:30,108 - \u001b[1;32mINFO\u001b[1;0m - Loaded 9297 sentences to skip\n",
      "2023-06-17 13:39:30,112 - \u001b[1;32mINFO\u001b[1;0m - Total number of sentences to skip: 39160\n",
      "2023-06-17 13:39:30,112 - \u001b[1;32mINFO\u001b[1;0m - Loading sentences from /home/pamessina/medvqa-workspace/cache/mimiccxr/openai/gpt-4-0613_parsed_reports.jsonl\n",
      "2023-06-17 13:39:30,563 - \u001b[1;32mINFO\u001b[1;0m - Loaded 15322 reports with extracted sentences from /home/pamessina/medvqa-workspace/cache/mimiccxr/openai/gpt-4-0613_parsed_reports.jsonl\n",
      "2023-06-17 13:39:30,669 - \u001b[1;32mINFO\u001b[1;0m - Loading sentences from /home/pamessina/medvqa-workspace/cache/mimiccxr/openai/gpt-3.5-turbo_parsed_reports.jsonl\n",
      "2023-06-17 13:39:30,951 - \u001b[1;32mINFO\u001b[1;0m - Loaded 9314 reports with extracted sentences from /home/pamessina/medvqa-workspace/cache/mimiccxr/openai/gpt-3.5-turbo_parsed_reports.jsonl\n",
      "2023-06-17 13:39:30,994 - \u001b[1;32mINFO\u001b[1;0m - Loading preprocessed reports from /mnt/data/pamessina/workspaces/medvqa-workspace/cache/mimiccxr/background_findings_and_impression_20230612_174143.json\n",
      "100%|█████████████████████████████████| 227835/227835 [00:45<00:00, 5030.79it/s]\n",
      "2023-06-17 13:40:16,889 - \u001b[1;32mINFO\u001b[1;0m - Loaded 227835 reports from /mnt/data/pamessina/workspaces/medvqa-workspace/cache/mimiccxr/background_findings_and_impression_20230612_174143.json\n",
      "2023-06-17 13:40:16,889 - \u001b[1;32mINFO\u001b[1;0m - Found 810363 unique sentences to parse\n",
      "2023-06-17 13:40:16,952 - \u001b[1;32mINFO\u001b[1;0m - Sorting sentences by difficulty...\n",
      "100%|█████████████████████████████████| 810363/810363 [02:30<00:00, 5369.45it/s]\n",
      "2023-06-17 13:42:47,874 - \u001b[1;32mINFO\u001b[1;0m - Counting word frequencies...\n",
      "100%|███████████████████████████████| 810363/810363 [00:04<00:00, 202407.52it/s]\n",
      "2023-06-17 13:42:55,618 - \u001b[1;32mINFO\u001b[1;0m - Done sorting sentences.\n",
      "2023-06-17 13:42:55,618 - \u001b[1;32mINFO\u001b[1;0m - First sentence: CLINICAL HISTORY year old woman on POD# s/p cesarean delivery for HELLP and abruption, c/b laryngospasm and possible aspiration post-extubation, also on magnesium for eclampsia prophylaxis, now with fever likely secondary to chorioamnionitis but cannot r/o aspiration pna vs fluid overload // eval for infiltrate suggestive of aspiration, vs fluid overload eval for infiltrate suggestive of aspiration, vs fluid overl.\n",
      "2023-06-17 13:42:55,618 - \u001b[1;32mINFO\u001b[1;0m - Last sentence: .\n",
      "2023-06-17 13:42:56,054 - \u001b[1;32mINFO\u001b[1;0m - Example sentences to parse:\n",
      "2023-06-17 13:42:56,055 - \u001b[1;32mINFO\u001b[1;0m - 1. CLINICAL HISTORY year old woman on POD# s/p cesarean delivery for HELLP and abruption, c/b laryngospasm and possible aspiration post-extubation, also on magnesium for eclampsia prophylaxis, now with fever likely secondary to chorioamnionitis but cannot r/o aspiration pna vs fluid overload // eval for infiltrate suggestive of aspiration, vs fluid overload eval for infiltrate suggestive of aspiration, vs fluid overl.\n",
      "2023-06-17 13:42:56,055 - \u001b[1;32mINFO\u001b[1;0m - 1112. NEWLY IMPLANTED CERVICAL EFFUSION.\n",
      "2023-06-17 13:42:56,055 - \u001b[1;32mINFO\u001b[1;0m - 2223. Within those limitations there is no evidence of apical lesion but EXAMINATION with emphasis on extent sing patient neck is required.\n",
      "2023-06-17 13:42:56,055 - \u001b[1;32mINFO\u001b[1;0m - 3334. Findings were emailed to the ED nurse for communication with the patient's PCP on at 9:12am.\n",
      "2023-06-17 13:42:56,055 - \u001b[1;32mINFO\u001b[1;0m - 4445. The epidural catheter is projecting over the chest/spine, although the precise location of its tip cannot be seen.\n",
      "2023-06-17 13:42:56,055 - \u001b[1;32mINFO\u001b[1;0m - 5556. D/w Dr. 130am.\n",
      "2023-06-17 13:42:56,055 - \u001b[1;32mINFO\u001b[1;0m - 6667. d/w Dr. at 3:25AM .\n",
      "2023-06-17 13:42:56,055 - \u001b[1;32mINFO\u001b[1;0m - 7778. Hazy opacity at the left lung apex is consistent with postoperative blood/hematoma.\n",
      "2023-06-17 13:42:56,055 - \u001b[1;32mINFO\u001b[1;0m - 8889. There is pseudoarticulation of the right cervical rib.\n",
      "2023-06-17 13:42:56,055 - \u001b[1;32mINFO\u001b[1;0m - 10000. Scarring/rounded atelectasis at the left lung base is unchanged.\n",
      "2023-06-17 13:42:56,154 - \u001b[1;32mINFO\u001b[1;0m - Saving API requests to /home/pamessina/medvqa-workspace/tmp/mimiccxr/openai/api_requests_20230617_134256.jsonl\n",
      "2023-06-17 13:42:56,154 - \u001b[1;32mINFO\u001b[1;0m - Saving API responses to /home/pamessina/medvqa-workspace/tmp/mimiccxr/openai/api_responses_20230617_134256.jsonl\n",
      "2023-06-17 13:42:56,745 - \u001b[1;32mINFO\u001b[1;0m - Starting request #0\n",
      "2023-06-17 13:42:56,938 - \u001b[1;32mINFO\u001b[1;0m - Starting request #20\n",
      "2023-06-17 13:42:57,015 - \u001b[1;32mINFO\u001b[1;0m - Starting request #40\n",
      "2023-06-17 13:42:57,077 - \u001b[1;32mINFO\u001b[1;0m - Starting request #60\n",
      "2023-06-17 13:43:05,821 - \u001b[1;32mINFO\u001b[1;0m - Starting request #80\n",
      "2023-06-17 13:43:22,771 - \u001b[1;32mINFO\u001b[1;0m - Starting request #100\n",
      "2023-06-17 13:43:27,399 - \u001b[1;33mWARNING\u001b[1;0m - Request 58 failed with error {'message': 'That model is currently overloaded with other requests. You can retry your request, or contact us through our help center at help.openai.com if the error persists. (Please include the request ID 107634662d8fe4d4ac27d909cb0a44dd in your message.)', 'type': 'server_error', 'param': None, 'code': None}\n",
      "2023-06-17 13:43:36,845 - \u001b[1;33mWARNING\u001b[1;0m - Request 81 failed with error {'message': 'That model is currently overloaded with other requests. You can retry your request, or contact us through our help center at help.openai.com if the error persists. (Please include the request ID 64ad99c8caa6bf74730853ced2c4a47d in your message.)', 'type': 'server_error', 'param': None, 'code': None}\n",
      "2023-06-17 13:43:39,702 - \u001b[1;32mINFO\u001b[1;0m - Starting request #118\n",
      "2023-06-17 13:43:49,668 - \u001b[1;33mWARNING\u001b[1;0m - Request 96 failed with error {'message': 'That model is currently overloaded with other requests. You can retry your request, or contact us through our help center at help.openai.com if the error persists. (Please include the request ID 26fe97e521cd0da18520a2f805c7f24f in your message.)', 'type': 'server_error', 'param': None, 'code': None}\n",
      "2023-06-17 13:43:56,576 - \u001b[1;32mINFO\u001b[1;0m - Starting request #137\n",
      "2023-06-17 13:44:13,705 - \u001b[1;32mINFO\u001b[1;0m - Starting request #157\n",
      "2023-06-17 13:44:30,794 - \u001b[1;32mINFO\u001b[1;0m - Starting request #177\n",
      "2023-06-17 13:44:47,780 - \u001b[1;32mINFO\u001b[1;0m - Starting request #197\n",
      "2023-06-17 13:45:04,834 - \u001b[1;32mINFO\u001b[1;0m - Starting request #217\n",
      "2023-06-17 13:45:21,802 - \u001b[1;32mINFO\u001b[1;0m - Starting request #237\n",
      "2023-06-17 13:45:36,586 - \u001b[1;33mWARNING\u001b[1;0m - Request 253 failed with error {'message': 'The server had an error while processing your request. Sorry about that!', 'type': 'server_error', 'param': None, 'code': None}\n",
      "2023-06-17 13:45:38,788 - \u001b[1;32mINFO\u001b[1;0m - Starting request #256\n",
      "2023-06-17 13:45:55,735 - \u001b[1;32mINFO\u001b[1;0m - Starting request #276\n",
      "2023-06-17 13:46:12,699 - \u001b[1;32mINFO\u001b[1;0m - Starting request #296\n",
      "2023-06-17 13:46:16,612 - \u001b[1;33mWARNING\u001b[1;0m - Request 265 failed with error {'message': 'That model is currently overloaded with other requests. You can retry your request, or contact us through our help center at help.openai.com if the error persists. (Please include the request ID b521c944d6a6d0e520d0a9d38a96934a in your message.)', 'type': 'server_error', 'param': None, 'code': None}\n",
      "2023-06-17 13:46:28,695 - \u001b[1;33mWARNING\u001b[1;0m - Request 279 failed with error {'message': 'That model is currently overloaded with other requests. You can retry your request, or contact us through our help center at help.openai.com if the error persists. (Please include the request ID 8ef08b76111b018284beb25127c7b319 in your message.)', 'type': 'server_error', 'param': None, 'code': None}\n"
     ]
    },
    {
     "name": "stdout",
     "output_type": "stream",
     "text": [
      "2023-06-17 13:46:29,574 - \u001b[1;32mINFO\u001b[1;0m - Starting request #279\n",
      "2023-06-17 13:46:46,420 - \u001b[1;32mINFO\u001b[1;0m - Starting request #334\n",
      "2023-06-17 13:47:03,313 - \u001b[1;32mINFO\u001b[1;0m - Starting request #354\n",
      "2023-06-17 13:47:20,246 - \u001b[1;32mINFO\u001b[1;0m - Starting request #374\n",
      "2023-06-17 13:47:37,149 - \u001b[1;32mINFO\u001b[1;0m - Starting request #394\n",
      "2023-06-17 13:47:54,054 - \u001b[1;32mINFO\u001b[1;0m - Starting request #414\n",
      "2023-06-17 13:48:10,968 - \u001b[1;32mINFO\u001b[1;0m - Starting request #434\n",
      "2023-06-17 13:48:27,875 - \u001b[1;32mINFO\u001b[1;0m - Starting request #454\n",
      "2023-06-17 13:48:44,754 - \u001b[1;32mINFO\u001b[1;0m - Starting request #474\n",
      "2023-06-17 13:49:01,547 - \u001b[1;32mINFO\u001b[1;0m - Starting request #494\n",
      "2023-06-17 13:49:18,388 - \u001b[1;32mINFO\u001b[1;0m - Starting request #514\n",
      "2023-06-17 13:49:35,157 - \u001b[1;32mINFO\u001b[1;0m - Starting request #534\n",
      "2023-06-17 13:49:51,888 - \u001b[1;32mINFO\u001b[1;0m - Starting request #554\n",
      "2023-06-17 13:50:08,641 - \u001b[1;32mINFO\u001b[1;0m - Starting request #574\n",
      "2023-06-17 13:50:25,670 - \u001b[1;32mINFO\u001b[1;0m - Starting request #594\n",
      "2023-06-17 13:50:34,659 - \u001b[1;33mWARNING\u001b[1;0m - Request 569 failed with error {'message': 'That model is currently overloaded with other requests. You can retry your request, or contact us through our help center at help.openai.com if the error persists. (Please include the request ID d4f3a0f626f91dd39f806b04b9de5858 in your message.)', 'type': 'server_error', 'param': None, 'code': None}\n",
      "2023-06-17 13:50:42,652 - \u001b[1;32mINFO\u001b[1;0m - Starting request #613\n",
      "2023-06-17 13:50:59,637 - \u001b[1;32mINFO\u001b[1;0m - Starting request #633\n",
      "2023-06-17 13:51:16,570 - \u001b[1;32mINFO\u001b[1;0m - Starting request #653\n",
      "2023-06-17 13:51:33,659 - \u001b[1;32mINFO\u001b[1;0m - Starting request #673\n",
      "2023-06-17 13:51:50,616 - \u001b[1;32mINFO\u001b[1;0m - Starting request #693\n",
      "2023-06-17 13:52:07,647 - \u001b[1;32mINFO\u001b[1;0m - Starting request #713\n",
      "2023-06-17 13:52:24,643 - \u001b[1;32mINFO\u001b[1;0m - Starting request #733\n",
      "2023-06-17 13:52:41,591 - \u001b[1;32mINFO\u001b[1;0m - Starting request #753\n",
      "2023-06-17 13:52:58,503 - \u001b[1;32mINFO\u001b[1;0m - Starting request #773\n",
      "2023-06-17 13:53:15,377 - \u001b[1;32mINFO\u001b[1;0m - Starting request #793\n",
      "2023-06-17 13:53:32,390 - \u001b[1;32mINFO\u001b[1;0m - Starting request #813\n",
      "2023-06-17 13:53:49,339 - \u001b[1;32mINFO\u001b[1;0m - Starting request #833\n",
      "2023-06-17 13:54:06,277 - \u001b[1;32mINFO\u001b[1;0m - Starting request #853\n",
      "2023-06-17 13:54:23,105 - \u001b[1;32mINFO\u001b[1;0m - Starting request #873\n",
      "2023-06-17 13:54:40,017 - \u001b[1;32mINFO\u001b[1;0m - Starting request #893\n",
      "2023-06-17 13:54:54,973 - \u001b[1;33mWARNING\u001b[1;0m - Request 875 failed with error {'message': 'That model is currently overloaded with other requests. You can retry your request, or contact us through our help center at help.openai.com if the error persists. (Please include the request ID 3d9b65efee450b5c47cf47cf44670fa2 in your message.)', 'type': 'server_error', 'param': None, 'code': None}\n",
      "2023-06-17 13:54:56,956 - \u001b[1;32mINFO\u001b[1;0m - Starting request #912\n",
      "2023-06-17 13:55:13,717 - \u001b[1;32mINFO\u001b[1;0m - Starting request #932\n",
      "2023-06-17 13:55:30,465 - \u001b[1;32mINFO\u001b[1;0m - Starting request #952\n",
      "2023-06-17 13:55:47,328 - \u001b[1;32mINFO\u001b[1;0m - Starting request #972\n",
      "2023-06-17 13:56:04,309 - \u001b[1;32mINFO\u001b[1;0m - Starting request #992\n",
      "2023-06-17 13:56:21,265 - \u001b[1;32mINFO\u001b[1;0m - Starting request #1012\n",
      "2023-06-17 13:56:38,186 - \u001b[1;32mINFO\u001b[1;0m - Starting request #1032\n",
      "2023-06-17 13:56:55,187 - \u001b[1;32mINFO\u001b[1;0m - Starting request #1052\n",
      "2023-06-17 13:57:12,181 - \u001b[1;32mINFO\u001b[1;0m - Starting request #1072\n",
      "2023-06-17 13:57:29,132 - \u001b[1;32mINFO\u001b[1;0m - Starting request #1092\n",
      "2023-06-17 13:57:46,136 - \u001b[1;32mINFO\u001b[1;0m - Starting request #1112\n",
      "2023-06-17 13:58:03,033 - \u001b[1;32mINFO\u001b[1;0m - Starting request #1132\n",
      "2023-06-17 13:58:19,928 - \u001b[1;32mINFO\u001b[1;0m - Starting request #1152\n",
      "2023-06-17 13:58:36,796 - \u001b[1;32mINFO\u001b[1;0m - Starting request #1172\n",
      "2023-06-17 13:58:42,195 - \u001b[1;33mWARNING\u001b[1;0m - Request 1142 failed with error {'message': 'That model is currently overloaded with other requests. You can retry your request, or contact us through our help center at help.openai.com if the error persists. (Please include the request ID df997c6d0c93e2757329728cf518444a in your message.)', 'type': 'server_error', 'param': None, 'code': None}\n",
      "2023-06-17 13:58:49,496 - \u001b[1;33mWARNING\u001b[1;0m - Request 833 failed with Exception \n",
      "2023-06-17 13:58:53,748 - \u001b[1;32mINFO\u001b[1;0m - Starting request #1190\n",
      "2023-06-17 13:59:01,077 - \u001b[1;33mWARNING\u001b[1;0m - Request 1165 failed with error {'message': 'That model is currently overloaded with other requests. You can retry your request, or contact us through our help center at help.openai.com if the error persists. (Please include the request ID 158c96cf91052bdd6c52ffdd4d5d172f in your message.)', 'type': 'server_error', 'param': None, 'code': None}\n",
      "2023-06-17 13:59:10,620 - \u001b[1;32mINFO\u001b[1;0m - Starting request #1209\n",
      "2023-06-17 13:59:27,415 - \u001b[1;32mINFO\u001b[1;0m - Starting request #1229\n",
      "2023-06-17 13:59:44,192 - \u001b[1;32mINFO\u001b[1;0m - Starting request #1249\n",
      "2023-06-17 13:59:46,147 - \u001b[1;33mWARNING\u001b[1;0m - Request 1251 failed with error {'message': 'The server had an error while processing your request. Sorry about that!', 'type': 'server_error', 'param': None, 'code': None}\n",
      "2023-06-17 14:00:01,032 - \u001b[1;32mINFO\u001b[1;0m - Starting request #1268\n",
      "2023-06-17 14:00:17,989 - \u001b[1;32mINFO\u001b[1;0m - Starting request #1288\n",
      "2023-06-17 14:00:34,858 - \u001b[1;32mINFO\u001b[1;0m - Starting request #1308\n",
      "2023-06-17 14:00:51,707 - \u001b[1;32mINFO\u001b[1;0m - Starting request #1328\n",
      "2023-06-17 14:01:08,653 - \u001b[1;32mINFO\u001b[1;0m - Starting request #1348\n",
      "2023-06-17 14:01:25,540 - \u001b[1;32mINFO\u001b[1;0m - Starting request #1368\n",
      "2023-06-17 14:01:42,340 - \u001b[1;32mINFO\u001b[1;0m - Starting request #1388\n",
      "2023-06-17 14:01:59,260 - \u001b[1;32mINFO\u001b[1;0m - Starting request #1408\n",
      "2023-06-17 14:02:16,205 - \u001b[1;32mINFO\u001b[1;0m - Starting request #1428\n",
      "2023-06-17 14:02:33,012 - \u001b[1;32mINFO\u001b[1;0m - Starting request #1448\n",
      "2023-06-17 14:02:49,853 - \u001b[1;32mINFO\u001b[1;0m - Starting request #1468\n",
      "2023-06-17 14:03:06,807 - \u001b[1;32mINFO\u001b[1;0m - Starting request #1488\n",
      "2023-06-17 14:03:23,694 - \u001b[1;32mINFO\u001b[1;0m - Starting request #1508\n",
      "2023-06-17 14:03:40,597 - \u001b[1;32mINFO\u001b[1;0m - Starting request #1528\n",
      "2023-06-17 14:03:57,487 - \u001b[1;32mINFO\u001b[1;0m - Starting request #1548\n",
      "2023-06-17 14:04:14,334 - \u001b[1;32mINFO\u001b[1;0m - Starting request #1568\n",
      "2023-06-17 14:04:31,188 - \u001b[1;32mINFO\u001b[1;0m - Starting request #1588\n",
      "2023-06-17 14:04:48,102 - \u001b[1;32mINFO\u001b[1;0m - Starting request #1608\n",
      "2023-06-17 14:05:04,917 - \u001b[1;32mINFO\u001b[1;0m - Starting request #1628\n",
      "2023-06-17 14:05:21,772 - \u001b[1;32mINFO\u001b[1;0m - Starting request #1648\n",
      "2023-06-17 14:05:38,715 - \u001b[1;32mINFO\u001b[1;0m - Starting request #1668\n",
      "2023-06-17 14:05:55,601 - \u001b[1;32mINFO\u001b[1;0m - Starting request #1688\n",
      "2023-06-17 14:06:12,524 - \u001b[1;32mINFO\u001b[1;0m - Starting request #1708\n",
      "2023-06-17 14:06:29,453 - \u001b[1;32mINFO\u001b[1;0m - Starting request #1728\n",
      "2023-06-17 14:06:46,276 - \u001b[1;32mINFO\u001b[1;0m - Starting request #1748\n",
      "2023-06-17 14:07:03,038 - \u001b[1;32mINFO\u001b[1;0m - Starting request #1768\n",
      "2023-06-17 14:07:19,911 - \u001b[1;32mINFO\u001b[1;0m - Starting request #1788\n",
      "2023-06-17 14:07:36,780 - \u001b[1;32mINFO\u001b[1;0m - Starting request #1808\n",
      "2023-06-17 14:07:53,669 - \u001b[1;32mINFO\u001b[1;0m - Starting request #1828\n",
      "2023-06-17 14:08:10,583 - \u001b[1;32mINFO\u001b[1;0m - Starting request #1848\n",
      "2023-06-17 14:08:15,970 - \u001b[1;33mWARNING\u001b[1;0m - Request 1854 failed with error {'message': 'The server had an error while processing your request. Sorry about that!', 'type': 'server_error', 'param': None, 'code': None}\n",
      "2023-06-17 14:08:20,369 - \u001b[1;33mWARNING\u001b[1;0m - Request 1857 failed with error {'message': 'The server had an error while processing your request. Sorry about that!', 'type': 'server_error', 'param': None, 'code': None}\n",
      "2023-06-17 14:08:27,461 - \u001b[1;32mINFO\u001b[1;0m - Starting request #1866\n",
      "2023-06-17 14:08:44,353 - \u001b[1;32mINFO\u001b[1;0m - Starting request #1886\n",
      "2023-06-17 14:09:01,254 - \u001b[1;32mINFO\u001b[1;0m - Starting request #1906\n",
      "2023-06-17 14:09:18,157 - \u001b[1;32mINFO\u001b[1;0m - Starting request #1926\n",
      "2023-06-17 14:09:35,047 - \u001b[1;32mINFO\u001b[1;0m - Starting request #1946\n",
      "2023-06-17 14:09:51,908 - \u001b[1;32mINFO\u001b[1;0m - Starting request #1966\n",
      "2023-06-17 14:10:08,741 - \u001b[1;32mINFO\u001b[1;0m - Starting request #1986\n",
      "2023-06-17 14:10:25,554 - \u001b[1;32mINFO\u001b[1;0m - Starting request #2006\n"
     ]
    },
    {
     "name": "stdout",
     "output_type": "stream",
     "text": [
      "2023-06-17 14:10:42,445 - \u001b[1;32mINFO\u001b[1;0m - Starting request #2026\n",
      "2023-06-17 14:10:59,379 - \u001b[1;32mINFO\u001b[1;0m - Starting request #2046\n",
      "2023-06-17 14:11:16,202 - \u001b[1;32mINFO\u001b[1;0m - Starting request #2066\n",
      "2023-06-17 14:11:33,042 - \u001b[1;32mINFO\u001b[1;0m - Starting request #2086\n",
      "2023-06-17 14:11:49,822 - \u001b[1;32mINFO\u001b[1;0m - Starting request #2106\n",
      "2023-06-17 14:12:06,648 - \u001b[1;32mINFO\u001b[1;0m - Starting request #2126\n",
      "2023-06-17 14:12:23,494 - \u001b[1;32mINFO\u001b[1;0m - Starting request #2146\n",
      "2023-06-17 14:12:40,360 - \u001b[1;32mINFO\u001b[1;0m - Starting request #2166\n",
      "2023-06-17 14:12:42,453 - \u001b[1;33mWARNING\u001b[1;0m - Request 2168 failed with error {'message': 'The server had an error while processing your request. Sorry about that!', 'type': 'server_error', 'param': None, 'code': None}\n",
      "2023-06-17 14:12:57,302 - \u001b[1;32mINFO\u001b[1;0m - Starting request #2185\n",
      "2023-06-17 14:13:14,166 - \u001b[1;32mINFO\u001b[1;0m - Starting request #2205\n",
      "2023-06-17 14:13:15,617 - \u001b[1;33mWARNING\u001b[1;0m - Request 2171 failed with error {'message': 'That model is currently overloaded with other requests. You can retry your request, or contact us through our help center at help.openai.com if the error persists. (Please include the request ID fe96f3c852dbeb79c35394cc76864623 in your message.)', 'type': 'server_error', 'param': None, 'code': None}\n",
      "2023-06-17 14:13:31,015 - \u001b[1;32mINFO\u001b[1;0m - Starting request #2224\n",
      "2023-06-17 14:13:47,876 - \u001b[1;32mINFO\u001b[1;0m - Starting request #2244\n",
      "2023-06-17 14:13:56,185 - \u001b[1;33mWARNING\u001b[1;0m - Request 2218 failed with error {'message': 'That model is currently overloaded with other requests. You can retry your request, or contact us through our help center at help.openai.com if the error persists. (Please include the request ID b70665526d7817f9e19b6528b08ffa88 in your message.)', 'type': 'server_error', 'param': None, 'code': None}\n",
      "2023-06-17 14:14:04,759 - \u001b[1;32mINFO\u001b[1;0m - Starting request #2263\n",
      "2023-06-17 14:14:21,664 - \u001b[1;32mINFO\u001b[1;0m - Starting request #2283\n",
      "2023-06-17 14:14:38,493 - \u001b[1;32mINFO\u001b[1;0m - Starting request #2303\n",
      "2023-06-17 14:14:55,379 - \u001b[1;32mINFO\u001b[1;0m - Starting request #2323\n",
      "2023-06-17 14:15:12,241 - \u001b[1;32mINFO\u001b[1;0m - Starting request #2343\n",
      "2023-06-17 14:15:29,067 - \u001b[1;32mINFO\u001b[1;0m - Starting request #2363\n",
      "2023-06-17 14:15:45,944 - \u001b[1;32mINFO\u001b[1;0m - Starting request #2383\n",
      "2023-06-17 14:15:46,867 - \u001b[1;33mWARNING\u001b[1;0m - Request 2348 failed with error {'message': 'That model is currently overloaded with other requests. You can retry your request, or contact us through our help center at help.openai.com if the error persists. (Please include the request ID b6dd8a498f4d23584444e955edc0fd1f in your message.)', 'type': 'server_error', 'param': None, 'code': None}\n",
      "2023-06-17 14:16:02,749 - \u001b[1;32mINFO\u001b[1;0m - Starting request #2402\n",
      "2023-06-17 14:16:19,609 - \u001b[1;32mINFO\u001b[1;0m - Starting request #2422\n",
      "2023-06-17 14:16:36,487 - \u001b[1;32mINFO\u001b[1;0m - Starting request #2442\n",
      "2023-06-17 14:16:53,260 - \u001b[1;32mINFO\u001b[1;0m - Starting request #2462\n",
      "2023-06-17 14:17:10,109 - \u001b[1;32mINFO\u001b[1;0m - Starting request #2482\n",
      "2023-06-17 14:17:26,970 - \u001b[1;32mINFO\u001b[1;0m - Starting request #2502\n",
      "2023-06-17 14:17:35,322 - \u001b[1;33mWARNING\u001b[1;0m - Request 2476 failed with error {'message': 'That model is currently overloaded with other requests. You can retry your request, or contact us through our help center at help.openai.com if the error persists. (Please include the request ID 7175d33dc358620f5589ac3fc80b40d7 in your message.)', 'type': 'server_error', 'param': None, 'code': None}\n",
      "2023-06-17 14:17:43,898 - \u001b[1;32mINFO\u001b[1;0m - Starting request #2521\n",
      "2023-06-17 14:18:00,703 - \u001b[1;32mINFO\u001b[1;0m - Starting request #2541\n",
      "2023-06-17 14:18:17,506 - \u001b[1;32mINFO\u001b[1;0m - Starting request #2561\n",
      "2023-06-17 14:18:34,412 - \u001b[1;32mINFO\u001b[1;0m - Starting request #2581\n",
      "2023-06-17 14:18:51,222 - \u001b[1;32mINFO\u001b[1;0m - Starting request #2601\n",
      "2023-06-17 14:19:08,009 - \u001b[1;32mINFO\u001b[1;0m - Starting request #2621\n",
      "2023-06-17 14:19:24,925 - \u001b[1;32mINFO\u001b[1;0m - Starting request #2641\n",
      "2023-06-17 14:19:41,747 - \u001b[1;32mINFO\u001b[1;0m - Starting request #2661\n",
      "2023-06-17 14:19:58,700 - \u001b[1;32mINFO\u001b[1;0m - Starting request #2681\n",
      "2023-06-17 14:20:15,497 - \u001b[1;32mINFO\u001b[1;0m - Starting request #2701\n",
      "2023-06-17 14:20:32,278 - \u001b[1;32mINFO\u001b[1;0m - Starting request #2721\n",
      "2023-06-17 14:20:49,175 - \u001b[1;32mINFO\u001b[1;0m - Starting request #2741\n",
      "2023-06-17 14:21:05,994 - \u001b[1;32mINFO\u001b[1;0m - Starting request #2761\n",
      "2023-06-17 14:21:22,810 - \u001b[1;32mINFO\u001b[1;0m - Starting request #2781\n",
      "2023-06-17 14:21:33,711 - \u001b[1;33mWARNING\u001b[1;0m - Request 2758 failed with error {'message': 'That model is currently overloaded with other requests. You can retry your request, or contact us through our help center at help.openai.com if the error persists. (Please include the request ID 5000d05257486d0d95621afc51c4f58b in your message.)', 'type': 'server_error', 'param': None, 'code': None}\n",
      "2023-06-17 14:21:39,667 - \u001b[1;32mINFO\u001b[1;0m - Starting request #2800\n",
      "2023-06-17 14:21:56,504 - \u001b[1;32mINFO\u001b[1;0m - Starting request #2820\n",
      "2023-06-17 14:22:13,384 - \u001b[1;32mINFO\u001b[1;0m - Starting request #2840\n",
      "2023-06-17 14:22:30,310 - \u001b[1;32mINFO\u001b[1;0m - Starting request #2860\n",
      "2023-06-17 14:22:47,190 - \u001b[1;32mINFO\u001b[1;0m - Starting request #2880\n",
      "2023-06-17 14:23:03,847 - \u001b[1;33mWARNING\u001b[1;0m - Request 2864 failed with error {'message': 'That model is currently overloaded with other requests. You can retry your request, or contact us through our help center at help.openai.com if the error persists. (Please include the request ID ee99dfdb1c25293c759cf5c61f9566af in your message.)', 'type': 'server_error', 'param': None, 'code': None}\n",
      "2023-06-17 14:23:04,041 - \u001b[1;32mINFO\u001b[1;0m - Starting request #2900\n",
      "2023-06-17 14:23:20,919 - \u001b[1;32mINFO\u001b[1;0m - Starting request #2919\n",
      "2023-06-17 14:23:37,756 - \u001b[1;32mINFO\u001b[1;0m - Starting request #2939\n",
      "2023-06-17 14:23:54,578 - \u001b[1;32mINFO\u001b[1;0m - Starting request #2959\n",
      "2023-06-17 14:24:11,514 - \u001b[1;32mINFO\u001b[1;0m - Starting request #2979\n",
      "2023-06-17 14:24:28,356 - \u001b[1;32mINFO\u001b[1;0m - Starting request #2999\n",
      "2023-06-17 14:24:45,246 - \u001b[1;32mINFO\u001b[1;0m - Starting request #3019\n",
      "2023-06-17 14:25:02,110 - \u001b[1;32mINFO\u001b[1;0m - Starting request #3039\n",
      "2023-06-17 14:25:18,954 - \u001b[1;32mINFO\u001b[1;0m - Starting request #3059\n",
      "2023-06-17 14:25:35,782 - \u001b[1;32mINFO\u001b[1;0m - Starting request #3079\n",
      "2023-06-17 14:25:52,594 - \u001b[1;32mINFO\u001b[1;0m - Starting request #3099\n",
      "2023-06-17 14:26:09,477 - \u001b[1;32mINFO\u001b[1;0m - Starting request #3119\n",
      "2023-06-17 14:26:26,298 - \u001b[1;32mINFO\u001b[1;0m - Starting request #3139\n",
      "2023-06-17 14:26:43,120 - \u001b[1;32mINFO\u001b[1;0m - Starting request #3159\n",
      "2023-06-17 14:26:59,947 - \u001b[1;32mINFO\u001b[1;0m - Starting request #3179\n",
      "2023-06-17 14:27:16,799 - \u001b[1;32mINFO\u001b[1;0m - Starting request #3199\n",
      "2023-06-17 14:27:33,632 - \u001b[1;32mINFO\u001b[1;0m - Starting request #3219\n",
      "2023-06-17 14:27:50,465 - \u001b[1;32mINFO\u001b[1;0m - Starting request #3239\n",
      "2023-06-17 14:28:07,401 - \u001b[1;32mINFO\u001b[1;0m - Starting request #3259\n",
      "2023-06-17 14:28:24,341 - \u001b[1;32mINFO\u001b[1;0m - Starting request #3279\n",
      "2023-06-17 14:28:41,140 - \u001b[1;32mINFO\u001b[1;0m - Starting request #3299\n",
      "2023-06-17 14:28:57,925 - \u001b[1;32mINFO\u001b[1;0m - Starting request #3319\n",
      "2023-06-17 14:29:14,757 - \u001b[1;32mINFO\u001b[1;0m - Starting request #3339\n",
      "2023-06-17 14:29:31,619 - \u001b[1;32mINFO\u001b[1;0m - Starting request #3359\n",
      "2023-06-17 14:29:48,506 - \u001b[1;32mINFO\u001b[1;0m - Starting request #3379\n",
      "2023-06-17 14:29:58,973 - \u001b[1;33mWARNING\u001b[1;0m - Request 3391 failed with error {'message': 'The server had an error while processing your request. Sorry about that!', 'type': 'server_error', 'param': None, 'code': None}\n",
      "2023-06-17 14:30:05,400 - \u001b[1;32mINFO\u001b[1;0m - Starting request #3398\n",
      "2023-06-17 14:30:22,243 - \u001b[1;32mINFO\u001b[1;0m - Starting request #3418\n",
      "2023-06-17 14:30:39,040 - \u001b[1;32mINFO\u001b[1;0m - Starting request #3438\n",
      "2023-06-17 14:30:51,670 - \u001b[1;33mWARNING\u001b[1;0m - Request 3417 failed with error {'message': 'That model is currently overloaded with other requests. You can retry your request, or contact us through our help center at help.openai.com if the error persists. (Please include the request ID 2b8a1b63f10a0095f6d1e286530d74c9 in your message.)', 'type': 'server_error', 'param': None, 'code': None}\n",
      "2023-06-17 14:30:55,870 - \u001b[1;32mINFO\u001b[1;0m - Starting request #3457\n"
     ]
    },
    {
     "name": "stdout",
     "output_type": "stream",
     "text": [
      "2023-06-17 14:31:12,732 - \u001b[1;32mINFO\u001b[1;0m - Starting request #3477\n",
      "2023-06-17 14:31:29,509 - \u001b[1;32mINFO\u001b[1;0m - Starting request #3497\n",
      "2023-06-17 14:31:46,322 - \u001b[1;32mINFO\u001b[1;0m - Starting request #3517\n",
      "2023-06-17 14:32:03,210 - \u001b[1;32mINFO\u001b[1;0m - Starting request #3537\n",
      "2023-06-17 14:32:20,046 - \u001b[1;32mINFO\u001b[1;0m - Starting request #3557\n",
      "2023-06-17 14:32:36,923 - \u001b[1;32mINFO\u001b[1;0m - Starting request #3577\n",
      "2023-06-17 14:32:53,759 - \u001b[1;32mINFO\u001b[1;0m - Starting request #3597\n",
      "2023-06-17 14:33:10,594 - \u001b[1;32mINFO\u001b[1;0m - Starting request #3617\n",
      "2023-06-17 14:33:27,438 - \u001b[1;32mINFO\u001b[1;0m - Starting request #3637\n",
      "2023-06-17 14:33:44,244 - \u001b[1;32mINFO\u001b[1;0m - Starting request #3657\n",
      "2023-06-17 14:34:01,049 - \u001b[1;32mINFO\u001b[1;0m - Starting request #3677\n",
      "2023-06-17 14:34:17,898 - \u001b[1;32mINFO\u001b[1;0m - Starting request #3697\n",
      "2023-06-17 14:34:34,758 - \u001b[1;32mINFO\u001b[1;0m - Starting request #3717\n",
      "2023-06-17 14:34:51,556 - \u001b[1;32mINFO\u001b[1;0m - Starting request #3737\n",
      "2023-06-17 14:34:56,514 - \u001b[1;33mWARNING\u001b[1;0m - Request 3707 failed with error {'message': 'That model is currently overloaded with other requests. You can retry your request, or contact us through our help center at help.openai.com if the error persists. (Please include the request ID 14dccb84851f1e2624f00f3284b13a0c in your message.)', 'type': 'server_error', 'param': None, 'code': None}\n",
      "2023-06-17 14:35:08,342 - \u001b[1;32mINFO\u001b[1;0m - Starting request #3756\n",
      "2023-06-17 14:35:25,230 - \u001b[1;32mINFO\u001b[1;0m - Starting request #3776\n",
      "2023-06-17 14:35:42,085 - \u001b[1;32mINFO\u001b[1;0m - Starting request #3796\n",
      "2023-06-17 14:35:58,943 - \u001b[1;32mINFO\u001b[1;0m - Starting request #3816\n",
      "2023-06-17 14:36:15,810 - \u001b[1;32mINFO\u001b[1;0m - Starting request #3836\n",
      "2023-06-17 14:36:32,639 - \u001b[1;32mINFO\u001b[1;0m - Starting request #3856\n",
      "2023-06-17 14:36:49,451 - \u001b[1;32mINFO\u001b[1;0m - Starting request #3876\n",
      "2023-06-17 14:37:06,296 - \u001b[1;32mINFO\u001b[1;0m - Starting request #3896\n",
      "2023-06-17 14:37:23,133 - \u001b[1;32mINFO\u001b[1;0m - Starting request #3916\n",
      "2023-06-17 14:37:39,931 - \u001b[1;32mINFO\u001b[1;0m - Starting request #3936\n",
      "2023-06-17 14:37:46,712 - \u001b[1;33mWARNING\u001b[1;0m - Request 3908 failed with error {'message': 'That model is currently overloaded with other requests. You can retry your request, or contact us through our help center at help.openai.com if the error persists. (Please include the request ID c111de95db5325d4a19437e8b06c8d67 in your message.)', 'type': 'server_error', 'param': None, 'code': None}\n",
      "2023-06-17 14:37:56,757 - \u001b[1;32mINFO\u001b[1;0m - Starting request #3955\n",
      "2023-06-17 14:38:13,627 - \u001b[1;32mINFO\u001b[1;0m - Starting request #3975\n",
      "2023-06-17 14:38:30,479 - \u001b[1;32mINFO\u001b[1;0m - Starting request #3995\n",
      "2023-06-17 14:38:47,327 - \u001b[1;32mINFO\u001b[1;0m - Starting request #4015\n",
      "2023-06-17 14:39:04,225 - \u001b[1;32mINFO\u001b[1;0m - Starting request #4035\n",
      "2023-06-17 14:39:21,051 - \u001b[1;32mINFO\u001b[1;0m - Starting request #4055\n",
      "2023-06-17 14:39:37,869 - \u001b[1;32mINFO\u001b[1;0m - Starting request #4075\n",
      "2023-06-17 14:39:54,747 - \u001b[1;32mINFO\u001b[1;0m - Starting request #4095\n",
      "2023-06-17 14:40:11,517 - \u001b[1;32mINFO\u001b[1;0m - Starting request #4115\n",
      "2023-06-17 14:40:28,316 - \u001b[1;32mINFO\u001b[1;0m - Starting request #4135\n",
      "2023-06-17 14:40:45,128 - \u001b[1;32mINFO\u001b[1;0m - Starting request #4155\n",
      "2023-06-17 14:41:01,945 - \u001b[1;32mINFO\u001b[1;0m - Starting request #4175\n",
      "2023-06-17 14:41:18,769 - \u001b[1;32mINFO\u001b[1;0m - Starting request #4195\n",
      "2023-06-17 14:41:35,593 - \u001b[1;32mINFO\u001b[1;0m - Starting request #4215\n",
      "2023-06-17 14:41:52,400 - \u001b[1;32mINFO\u001b[1;0m - Starting request #4235\n",
      "2023-06-17 14:42:09,278 - \u001b[1;32mINFO\u001b[1;0m - Starting request #4255\n",
      "2023-06-17 14:42:26,132 - \u001b[1;32mINFO\u001b[1;0m - Starting request #4275\n",
      "2023-06-17 14:42:59,753 - \u001b[1;32mINFO\u001b[1;0m - Starting request #4315\n",
      "2023-06-17 14:43:15,261 - \u001b[1;33mWARNING\u001b[1;0m - Request 4333 failed with error {'message': 'The server had an error while processing your request. Sorry about that!', 'type': 'server_error', 'param': None, 'code': None}\n",
      "2023-06-17 14:43:16,589 - \u001b[1;32mINFO\u001b[1;0m - Starting request #4333\n",
      "2023-06-17 14:43:33,408 - \u001b[1;32mINFO\u001b[1;0m - Starting request #4354\n",
      "2023-06-17 14:43:35,362 - \u001b[1;33mWARNING\u001b[1;0m - Request 4356 failed with error {'message': 'The server had an error while processing your request. Sorry about that!', 'type': 'server_error', 'param': None, 'code': None}\n",
      "2023-06-17 14:43:50,187 - \u001b[1;32mINFO\u001b[1;0m - Starting request #4373\n",
      "2023-06-17 14:44:07,069 - \u001b[1;32mINFO\u001b[1;0m - Starting request #4393\n",
      "2023-06-17 14:44:23,966 - \u001b[1;32mINFO\u001b[1;0m - Starting request #4413\n",
      "2023-06-17 14:44:40,845 - \u001b[1;32mINFO\u001b[1;0m - Starting request #4433\n",
      "2023-06-17 14:44:57,610 - \u001b[1;32mINFO\u001b[1;0m - Starting request #4453\n",
      "2023-06-17 14:45:14,457 - \u001b[1;32mINFO\u001b[1;0m - Starting request #4473\n",
      "2023-06-17 14:45:31,275 - \u001b[1;32mINFO\u001b[1;0m - Starting request #4493\n",
      "2023-06-17 14:45:48,153 - \u001b[1;32mINFO\u001b[1;0m - Starting request #4513\n",
      "2023-06-17 14:45:59,808 - \u001b[1;33mWARNING\u001b[1;0m - Request 4491 failed with error {'message': 'That model is currently overloaded with other requests. You can retry your request, or contact us through our help center at help.openai.com if the error persists. (Please include the request ID 24e5fbef9f0f00612d3a86c573e2d5bc in your message.)', 'type': 'server_error', 'param': None, 'code': None}\n",
      "2023-06-17 14:46:05,026 - \u001b[1;32mINFO\u001b[1;0m - Starting request #4532\n",
      "2023-06-17 14:46:13,276 - \u001b[1;33mWARNING\u001b[1;0m - Request 4507 failed with error {'message': 'That model is currently overloaded with other requests. You can retry your request, or contact us through our help center at help.openai.com if the error persists. (Please include the request ID 857dc5bd7853021c2f0ecf741f1563df in your message.)', 'type': 'server_error', 'param': None, 'code': None}\n",
      "2023-06-17 14:46:21,870 - \u001b[1;32mINFO\u001b[1;0m - Starting request #4551\n",
      "2023-06-17 14:46:34,859 - \u001b[1;33mWARNING\u001b[1;0m - Request 4566 failed with error {'message': 'The server had an error while processing your request. Sorry about that!', 'type': 'server_error', 'param': None, 'code': None}\n",
      "2023-06-17 14:46:38,711 - \u001b[1;32mINFO\u001b[1;0m - Starting request #4570\n",
      "2023-06-17 14:46:52,547 - \u001b[1;33mWARNING\u001b[1;0m - Request 4586 failed with error {'message': 'The server had an error while processing your request. Sorry about that!', 'type': 'server_error', 'param': None, 'code': None}\n",
      "2023-06-17 14:46:55,551 - \u001b[1;32mINFO\u001b[1;0m - Starting request #4589\n",
      "2023-06-17 14:47:12,388 - \u001b[1;32mINFO\u001b[1;0m - Starting request #4609\n",
      "2023-06-17 14:47:29,283 - \u001b[1;32mINFO\u001b[1;0m - Starting request #4629\n",
      "2023-06-17 14:47:31,657 - \u001b[1;33mWARNING\u001b[1;0m - Request 4596 failed with error {'message': 'That model is currently overloaded with other requests. You can retry your request, or contact us through our help center at help.openai.com if the error persists. (Please include the request ID 9861b4deb286fa8bc7b09fa4c38ddf08 in your message.)', 'type': 'server_error', 'param': None, 'code': None}\n",
      "2023-06-17 14:47:46,105 - \u001b[1;32mINFO\u001b[1;0m - Starting request #4648\n",
      "2023-06-17 14:48:02,968 - \u001b[1;32mINFO\u001b[1;0m - Starting request #4668\n",
      "2023-06-17 14:48:19,780 - \u001b[1;32mINFO\u001b[1;0m - Starting request #4688\n",
      "2023-06-17 14:48:36,625 - \u001b[1;32mINFO\u001b[1;0m - Starting request #4708\n",
      "2023-06-17 14:48:53,430 - \u001b[1;32mINFO\u001b[1;0m - Starting request #4728\n",
      "2023-06-17 14:49:10,199 - \u001b[1;32mINFO\u001b[1;0m - Starting request #4748\n",
      "2023-06-17 14:49:27,009 - \u001b[1;32mINFO\u001b[1;0m - Starting request #4768\n",
      "2023-06-17 14:49:43,882 - \u001b[1;32mINFO\u001b[1;0m - Starting request #4788\n",
      "2023-06-17 14:49:44,577 - \u001b[1;33mWARNING\u001b[1;0m - Request 4753 failed with error {'message': 'That model is currently overloaded with other requests. You can retry your request, or contact us through our help center at help.openai.com if the error persists. (Please include the request ID da201ec3c8cec979e5676f5a3eb868d5 in your message.)', 'type': 'server_error', 'param': None, 'code': None}\n",
      "2023-06-17 14:49:47,089 - \u001b[1;33mWARNING\u001b[1;0m - Request 4756 failed with error {'message': 'That model is currently overloaded with other requests. You can retry your request, or contact us through our help center at help.openai.com if the error persists. (Please include the request ID 0f0a506a0ac700e46188b66adfb81e1b in your message.)', 'type': 'server_error', 'param': None, 'code': None}\n"
     ]
    },
    {
     "name": "stdout",
     "output_type": "stream",
     "text": [
      "2023-06-17 14:50:00,731 - \u001b[1;32mINFO\u001b[1;0m - Starting request #4806\n",
      "2023-06-17 14:50:17,529 - \u001b[1;32mINFO\u001b[1;0m - Starting request #4826\n",
      "2023-06-17 14:50:34,416 - \u001b[1;32mINFO\u001b[1;0m - Starting request #4846\n",
      "2023-06-17 14:50:51,203 - \u001b[1;32mINFO\u001b[1;0m - Starting request #4866\n",
      "2023-06-17 14:51:08,043 - \u001b[1;32mINFO\u001b[1;0m - Starting request #4886\n",
      "2023-06-17 14:51:24,908 - \u001b[1;32mINFO\u001b[1;0m - Starting request #4906\n",
      "2023-06-17 14:51:41,756 - \u001b[1;32mINFO\u001b[1;0m - Starting request #4926\n",
      "2023-06-17 14:51:58,589 - \u001b[1;32mINFO\u001b[1;0m - Starting request #4946\n",
      "2023-06-17 14:52:15,376 - \u001b[1;32mINFO\u001b[1;0m - Starting request #4966\n",
      "2023-06-17 14:52:32,164 - \u001b[1;32mINFO\u001b[1;0m - Starting request #4986\n",
      "2023-06-17 14:52:48,986 - \u001b[1;32mINFO\u001b[1;0m - Starting request #5006\n",
      "2023-06-17 14:53:05,791 - \u001b[1;32mINFO\u001b[1;0m - Starting request #5026\n",
      "2023-06-17 14:53:22,573 - \u001b[1;32mINFO\u001b[1;0m - Starting request #5046\n",
      "2023-06-17 14:53:39,366 - \u001b[1;32mINFO\u001b[1;0m - Starting request #5066\n",
      "2023-06-17 14:53:56,195 - \u001b[1;32mINFO\u001b[1;0m - Starting request #5086\n",
      "2023-06-17 14:54:03,697 - \u001b[1;33mWARNING\u001b[1;0m - Request 5059 failed with error {'message': 'That model is currently overloaded with other requests. You can retry your request, or contact us through our help center at help.openai.com if the error persists. (Please include the request ID fc5506fbc0a885625f5803e2eba4063d in your message.)', 'type': 'server_error', 'param': None, 'code': None}\n",
      "2023-06-17 14:54:12,990 - \u001b[1;32mINFO\u001b[1;0m - Starting request #5105\n",
      "2023-06-17 14:54:29,842 - \u001b[1;32mINFO\u001b[1;0m - Starting request #5125\n",
      "2023-06-17 14:54:46,641 - \u001b[1;32mINFO\u001b[1;0m - Starting request #5145\n",
      "2023-06-17 14:55:03,435 - \u001b[1;32mINFO\u001b[1;0m - Starting request #5165\n",
      "2023-06-17 14:55:20,244 - \u001b[1;32mINFO\u001b[1;0m - Starting request #5185\n",
      "2023-06-17 14:55:37,037 - \u001b[1;32mINFO\u001b[1;0m - Starting request #5205\n",
      "2023-06-17 14:55:53,841 - \u001b[1;32mINFO\u001b[1;0m - Starting request #5225\n",
      "2023-06-17 14:56:10,720 - \u001b[1;32mINFO\u001b[1;0m - Starting request #5245\n",
      "2023-06-17 14:56:27,567 - \u001b[1;32mINFO\u001b[1;0m - Starting request #5265\n",
      "2023-06-17 14:56:44,340 - \u001b[1;32mINFO\u001b[1;0m - Starting request #5285\n",
      "2023-06-17 14:57:01,196 - \u001b[1;32mINFO\u001b[1;0m - Starting request #5305\n",
      "2023-06-17 14:57:18,015 - \u001b[1;32mINFO\u001b[1;0m - Starting request #5325\n",
      "2023-06-17 14:57:34,808 - \u001b[1;32mINFO\u001b[1;0m - Starting request #5345\n",
      "2023-06-17 14:57:51,640 - \u001b[1;32mINFO\u001b[1;0m - Starting request #5365\n",
      "2023-06-17 14:58:08,474 - \u001b[1;32mINFO\u001b[1;0m - Starting request #5385\n",
      "2023-06-17 14:58:25,227 - \u001b[1;32mINFO\u001b[1;0m - Starting request #5405\n",
      "2023-06-17 14:58:42,098 - \u001b[1;32mINFO\u001b[1;0m - Starting request #5425\n",
      "2023-06-17 14:58:58,939 - \u001b[1;32mINFO\u001b[1;0m - Starting request #5445\n",
      "2023-06-17 14:59:15,774 - \u001b[1;32mINFO\u001b[1;0m - Starting request #5465\n",
      "2023-06-17 14:59:32,603 - \u001b[1;32mINFO\u001b[1;0m - Starting request #5485\n",
      "2023-06-17 14:59:49,421 - \u001b[1;32mINFO\u001b[1;0m - Starting request #5505\n",
      "2023-06-17 15:00:06,177 - \u001b[1;32mINFO\u001b[1;0m - Starting request #5525\n",
      "2023-06-17 15:00:22,930 - \u001b[1;32mINFO\u001b[1;0m - Starting request #5545\n",
      "2023-06-17 15:00:32,579 - \u001b[1;33mWARNING\u001b[1;0m - Request 5556 failed with error {'message': 'The server had an error while processing your request. Sorry about that!', 'type': 'server_error', 'param': None, 'code': None}\n",
      "2023-06-17 15:00:39,740 - \u001b[1;32mINFO\u001b[1;0m - Starting request #5564\n",
      "2023-06-17 15:00:56,546 - \u001b[1;32mINFO\u001b[1;0m - Starting request #5584\n",
      "2023-06-17 15:01:13,316 - \u001b[1;32mINFO\u001b[1;0m - Starting request #5604\n",
      "2023-06-17 15:01:30,164 - \u001b[1;32mINFO\u001b[1;0m - Starting request #5624\n",
      "2023-06-17 15:01:46,963 - \u001b[1;32mINFO\u001b[1;0m - Starting request #5644\n"
     ]
    }
   ],
   "source": [
    "!python ../../scripts/mimiccxr/extract_facts_from_report_sentences_with_openai.py \\\n",
    "    --extracted_sentences_jsonl_filepaths \\\n",
    "        \"/home/pamessina/medvqa-workspace/cache/mimiccxr/openai/gpt-4-0613_parsed_reports.jsonl\" \\\n",
    "        \"/home/pamessina/medvqa-workspace/cache/mimiccxr/openai/gpt-3.5-turbo_parsed_reports.jsonl\" \\\n",
    "    --preprocessed_sentences_to_skip_filenames \\\n",
    "        \"gpt-4-0613_parsed_sentences.jsonl\" \\\n",
    "        \"gpt-3.5-turbo_parsed_sentences.jsonl\" \\\n",
    "    --preprocessed_reports_filename \"background_findings_and_impression_20230612_174143.json\" \\\n",
    "    --num_sentences 10000 \\\n",
    "    --rank_sentences_by_difficulty \\\n",
    "    --max_requests_per_minute 3500 \\\n",
    "    --max_tokens_per_minute 80000 \\\n",
    "    --max_tokens_per_request 512 \\\n",
    "    --logging_level \"INFO\" \\\n",
    "    --api_key_name \"OPENAI_API_KEY_2\" \\\n",
    "    --openai_model_name \"gpt-3.5-turbo-0301\""
   ]
  },
  {
   "cell_type": "code",
   "execution_count": 2,
   "id": "3f633648",
   "metadata": {},
   "outputs": [],
   "source": [
    "from medvqa.utils.files import load_jsonl"
   ]
  },
  {
   "cell_type": "code",
   "execution_count": 33,
   "id": "fdadc356",
   "metadata": {},
   "outputs": [],
   "source": [
    "# tmp = load_jsonl('/home/pamessina/medvqa-workspace/cache/mimiccxr/openai/gpt-4-0613_parsed_sentences.jsonl')\n",
    "# tmp = load_jsonl('/home/pamessina/medvqa-workspace/cache/mimiccxr/openai/gpt-3.5-turbo_parsed_sentences.jsonl')\n",
    "tmp = load_jsonl('/home/pamessina/medvqa-workspace/cache/mimiccxr/openai/gpt-3.5-turbo-0301_parsed_sentences.jsonl')"
   ]
  },
  {
   "cell_type": "code",
   "execution_count": 34,
   "id": "5702acc3",
   "metadata": {},
   "outputs": [
    {
     "data": {
      "text/plain": [
       "9864"
      ]
     },
     "execution_count": 34,
     "metadata": {},
     "output_type": "execute_result"
    }
   ],
   "source": [
    "len(tmp)"
   ]
  },
  {
   "cell_type": "code",
   "execution_count": 38,
   "id": "0487aa13",
   "metadata": {},
   "outputs": [
    {
     "data": {
      "text/plain": [
       "{'metadata': {'sentence': 'A X 11 MM OVAL OPACITY PROJECTING OVER THE ANTERIOR RIGHT THIRD RIB PROBABLY ORIGINATED AS A SMALL RING SHADOW IN THE SAME LOCATION ON .'},\n",
       " 'parsed_response': ['Opacity',\n",
       "  'Oval opacity',\n",
       "  'Anterior right third rib opacity',\n",
       "  'Opacity projecting over the anterior right third rib',\n",
       "  'Ring shadow']}"
      ]
     },
     "execution_count": 38,
     "metadata": {},
     "output_type": "execute_result"
    }
   ],
   "source": [
    "tmp[-4]"
   ]
  },
  {
   "cell_type": "code",
   "execution_count": 5,
   "id": "acf1dd81",
   "metadata": {},
   "outputs": [
    {
     "name": "stdout",
     "output_type": "stream",
     "text": [
      "/home/pamessina/medvqa-workspace/cache/mimiccxr/openai/gpt-4-0613_parsed_sentences.jsonl\n",
      "19999\n",
      "/home/pamessina/medvqa-workspace/cache/mimiccxr/openai/gpt-3.5-turbo_parsed_sentences.jsonl\n",
      "9297\n",
      "/home/pamessina/medvqa-workspace/cache/mimiccxr/openai/gpt-3.5-turbo-0301_parsed_sentences.jsonl\n",
      "9672\n"
     ]
    }
   ],
   "source": [
    "facts = dict()\n",
    "for x in ['/home/pamessina/medvqa-workspace/cache/mimiccxr/openai/gpt-4-0613_parsed_sentences.jsonl',\n",
    "          '/home/pamessina/medvqa-workspace/cache/mimiccxr/openai/gpt-3.5-turbo_parsed_sentences.jsonl',\n",
    "          '/home/pamessina/medvqa-workspace/cache/mimiccxr/openai/gpt-3.5-turbo-0301_parsed_sentences.jsonl'\n",
    "         ]:\n",
    "    print(x)\n",
    "    tmp = load_jsonl(x)\n",
    "    print(len(tmp))\n",
    "    for y in tmp:\n",
    "        for z in y['parsed_response']:\n",
    "            facts[z] = facts.get(z, 0) + 1"
   ]
  },
  {
   "cell_type": "code",
   "execution_count": 23,
   "id": "ebc6d547",
   "metadata": {},
   "outputs": [
    {
     "data": {
      "text/plain": [
       "46904"
      ]
     },
     "execution_count": 23,
     "metadata": {},
     "output_type": "execute_result"
    }
   ],
   "source": [
    "len(facts)"
   ]
  },
  {
   "cell_type": "code",
   "execution_count": 6,
   "id": "f0d8bcf5",
   "metadata": {},
   "outputs": [],
   "source": [
    "%matplotlib inline"
   ]
  },
  {
   "cell_type": "code",
   "execution_count": 9,
   "id": "cba1d5c3",
   "metadata": {},
   "outputs": [
    {
     "data": {
      "image/png": "[encoded data removed]",
      "text/plain": [
       "<Figure size 640x480 with 1 Axes>"
      ]
     },
     "metadata": {},
     "output_type": "display_data"
    }
   ],
   "source": [
    "import matplotlib.pyplot as plt\n",
    "plt.hist(list(facts.values()), bins=100)\n",
    "plt.show()"
   ]
  },
  {
   "cell_type": "code",
   "execution_count": 16,
   "id": "ba454338",
   "metadata": {},
   "outputs": [
    {
     "data": {
      "image/png": "[encoded data removed]",
      "text/plain": [
       "<Figure size 640x480 with 1 Axes>"
      ]
     },
     "metadata": {},
     "output_type": "display_data"
    }
   ],
   "source": [
    "plt.hist(list(x for x in facts.values() if x >= 10), bins=100)\n",
    "plt.show()"
   ]
  },
  {
   "cell_type": "code",
   "execution_count": 17,
   "id": "7c1cca75",
   "metadata": {},
   "outputs": [],
   "source": [
    "pairs = list(facts.items())\n",
    "pairs.sort(key=lambda x:x[1], reverse=True)"
   ]
  },
  {
   "cell_type": "code",
   "execution_count": 22,
   "id": "34af095a",
   "metadata": {},
   "outputs": [
    {
     "data": {
      "text/plain": [
       "[('Atelectasis', 3084),\n",
       " ('Opacity', 2611),\n",
       " ('Opacities', 1937),\n",
       " ('Pleural effusion', 1816),\n",
       " ('Consolidation', 1163),\n",
       " ('Pulmonary edema', 1115),\n",
       " ('Pneumonia', 1044),\n",
       " ('Pleural effusions', 898),\n",
       " ('Opacification', 844),\n",
       " ('Left pleural effusion', 825),\n",
       " ('Right pleural effusion', 816),\n",
       " ('Endotracheal tube', 736),\n",
       " ('Bilateral pleural effusions', 642),\n",
       " ('Pneumothorax', 601),\n",
       " ('Infection', 530),\n",
       " ('Aspiration', 515),\n",
       " ('Cardiomegaly', 485),\n",
       " ('Effusion', 440),\n",
       " ('Low lung volumes', 400),\n",
       " ('Scarring', 365)]"
      ]
     },
     "execution_count": 22,
     "metadata": {},
     "output_type": "execute_result"
    }
   ],
   "source": [
    "pairs[:20]"
   ]
  },
  {
   "cell_type": "code",
   "execution_count": 21,
   "id": "1cd19233",
   "metadata": {},
   "outputs": [
    {
     "data": {
      "text/plain": [
       "[('Partially imaged PTBD', 1),\n",
       " ('Abnormal pulmonary vascularity', 1),\n",
       " ('Altered pulmonary vascularity', 1),\n",
       " ('Changes in pulmonary vascularity', 1),\n",
       " ('Stable severe kyphosis', 1),\n",
       " ('Standard place', 1),\n",
       " ('Endotracheal tube in standard place', 1),\n",
       " ('New left central line', 1),\n",
       " ('Preserved alignment', 1),\n",
       " ('Alignment preservation', 1),\n",
       " ('Absence of PICC line', 1),\n",
       " ('Small lung volume', 1),\n",
       " ('Air colon distention', 1),\n",
       " ('Gross cardiomegaly', 1),\n",
       " ('Low lying ET tube', 1),\n",
       " ('Right cervical rib', 1),\n",
       " ('New cough', 1),\n",
       " ('ASD repair', 1),\n",
       " ('Expanded lung', 1),\n",
       " ('Head/neck CTA', 1)]"
      ]
     },
     "execution_count": 21,
     "metadata": {},
     "output_type": "execute_result"
    }
   ],
   "source": [
    "pairs[-20:]"
   ]
  },
  {
   "cell_type": "code",
   "execution_count": 25,
   "id": "f2599fa2",
   "metadata": {},
   "outputs": [
    {
     "data": {
      "text/plain": [
       "2.908067542213884"
      ]
     },
     "execution_count": 25,
     "metadata": {},
     "output_type": "execute_result"
    }
   ],
   "source": [
    "(sum(1 for x in pairs if x[1] >= 10) / len(pairs)) * 100"
   ]
  },
  {
   "cell_type": "code",
   "execution_count": 128,
   "id": "712e9810",
   "metadata": {},
   "outputs": [
    {
     "data": {
      "text/plain": [
       "9672"
      ]
     },
     "execution_count": 128,
     "metadata": {},
     "output_type": "execute_result"
    }
   ],
   "source": [
    "len(tmp)"
   ]
  },
  {
   "cell_type": "code",
   "execution_count": 144,
   "id": "89290863",
   "metadata": {},
   "outputs": [
    {
     "data": {
      "text/plain": [
       "{'metadata': {'sentence': 'In comparison with the study of , there is continued and possibly increasing opacification at the bases, consistent with pleural effusion and compressive atelectasis.'},\n",
       " 'parsed_response': ['Opacification',\n",
       "  'Continued opacification',\n",
       "  'Increasing opacification',\n",
       "  'Bases opacification',\n",
       "  'Pleural effusion',\n",
       "  'Compressive atelectasis']}"
      ]
     },
     "execution_count": 144,
     "metadata": {},
     "output_type": "execute_result"
    }
   ],
   "source": [
    "tmp[500]"
   ]
  },
  {
   "cell_type": "code",
   "execution_count": 16,
   "id": "5a8a4784",
   "metadata": {},
   "outputs": [],
   "source": [
    "max_i = 0\n",
    "max_len = 0\n",
    "for i in range(len(tmp)):\n",
    "    for s, _ in tmp[i]['parsed_response']:\n",
    "        if len(s) > max_len:\n",
    "            max_len = len(s)\n",
    "            max_i = i"
   ]
  },
  {
   "cell_type": "code",
   "execution_count": 17,
   "id": "eab3127d",
   "metadata": {},
   "outputs": [
    {
     "data": {
      "text/plain": [
       "(195, 184)"
      ]
     },
     "execution_count": 17,
     "metadata": {},
     "output_type": "execute_result"
    }
   ],
   "source": [
    "max_i, max_len"
   ]
  },
  {
   "cell_type": "code",
   "execution_count": 20,
   "id": "8286143b",
   "metadata": {},
   "outputs": [
    {
     "data": {
      "text/plain": [
       "184"
      ]
     },
     "execution_count": 20,
     "metadata": {},
     "output_type": "execute_result"
    }
   ],
   "source": [
    "x = ['Low lung volumes with mild pulmonary vascular '\n",
    "                      'congestion, small bilateral pleural effusions, and '\n",
    "                      'patchy opacities in the lung bases, likely atelectasis '\n",
    "                      'though infection is not excluded',\n",
    "                      1][0]\n",
    "len(x)"
   ]
  },
  {
   "cell_type": "code",
   "execution_count": 18,
   "id": "f07ddfe0",
   "metadata": {
    "scrolled": false
   },
   "outputs": [
    {
     "name": "stdout",
     "output_type": "stream",
     "text": [
      "{'metadata': {'part_id': 15,\n",
      "              'report': {'background': 'indication: History: F with dyspnea.',\n",
      "                         'findings': 'Upright AP and lateral views of the '\n",
      "                                     'chest. Lung volumes are low. Heart size '\n",
      "                                     'remains mildly enlarged with a left '\n",
      "                                     'ventricular predominance. Mediastinal '\n",
      "                                     'and hilar contours are unchanged. Mild '\n",
      "                                     'pulmonary vascular congestion is '\n",
      "                                     'present. Patchy opacities in the lung '\n",
      "                                     'bases may reflect areas of atelectasis '\n",
      "                                     'but infection is not excluded. Linear '\n",
      "                                     'opacity within the periphery of the '\n",
      "                                     'right mid lung field likely reflects '\n",
      "                                     'subsegmental atelectasis. Trace '\n",
      "                                     'bilateral pleural effusions are noted. '\n",
      "                                     'No pneumothorax is present. Partially '\n",
      "                                     'imaged is an inferior vena cava filter '\n",
      "                                     'within the upper abdomen. Mild to mold '\n",
      "                                     'moderate multilevel degenerative changes '\n",
      "                                     'are seen in the thoracic spine.',\n",
      "                         'impression': 'Low lung volumes with mild pulmonary '\n",
      "                                       'vascular congestion, small bilateral '\n",
      "                                       'pleural effusions, and patchy '\n",
      "                                       'opacities in the lung bases, likely '\n",
      "                                       'atelectasis though infection is not '\n",
      "                                       'excluded.',\n",
      "                         'path': '/mnt/data/mimic-cxr/files/p15/p15520884/s50757891.txt'},\n",
      "              'report_index': 115982,\n",
      "              'study_id': 50757891,\n",
      "              'subject_id': 15520884},\n",
      " 'parsed_response': [['Upright AP and lateral views of the chest were taken',\n",
      "                      0],\n",
      "                     ['Lung volumes are low', 1],\n",
      "                     ['Heart size remains mildly enlarged with a left '\n",
      "                      'ventricular predominance',\n",
      "                      1],\n",
      "                     ['Mediastinal and hilar contours are unchanged', 0],\n",
      "                     ['Mild pulmonary vascular congestion is present', 1],\n",
      "                     ['Patchy opacities in the lung bases may reflect areas of '\n",
      "                      'atelectasis but infection is not excluded',\n",
      "                      1],\n",
      "                     ['Linear opacity within the periphery of the right mid '\n",
      "                      'lung field likely reflects subsegmental atelectasis',\n",
      "                      1],\n",
      "                     ['Trace bilateral pleural effusions are noted', 1],\n",
      "                     ['No pneumothorax is present', 0],\n",
      "                     ['Partially imaged is an inferior vena cava filter within '\n",
      "                      'the upper abdomen',\n",
      "                      1],\n",
      "                     ['Mild to mold moderate multilevel degenerative changes '\n",
      "                      'are seen in the thoracic spine',\n",
      "                      1],\n",
      "                     ['Low lung volumes with mild pulmonary vascular '\n",
      "                      'congestion, small bilateral pleural effusions, and '\n",
      "                      'patchy opacities in the lung bases, likely atelectasis '\n",
      "                      'though infection is not excluded',\n",
      "                      1]]}\n",
      "Upright AP and lateral views of the chest. Lung volumes are low. Heart size remains mildly enlarged with a left ventricular predominance. Mediastinal and hilar contours are unchanged. Mild pulmonary vascular congestion is present. Patchy opacities in the lung bases may reflect areas of atelectasis but infection is not excluded. Linear opacity within the periphery of the right mid lung field likely reflects subsegmental atelectasis. Trace bilateral pleural effusions are noted. No pneumothorax is present. Partially imaged is an inferior vena cava filter within the upper abdomen. Mild to mold moderate multilevel degenerative changes are seen in the thoracic spine. Low lung volumes with mild pulmonary vascular congestion, small bilateral pleural effusions, and patchy opacities in the lung bases, likely atelectasis though infection is not excluded.\n"
     ]
    }
   ],
   "source": [
    "from pprint import pprint\n",
    "pprint(tmp[max_i])\n",
    "print(tmp[max_i]['metadata']['report']['findings'] + \" \" + tmp[max_i]['metadata']['report']['impression'])"
   ]
  },
  {
   "cell_type": "code",
   "execution_count": 43,
   "id": "5e4d3314",
   "metadata": {},
   "outputs": [],
   "source": [
    "tmp = load_jsonl('/home/pamessina/medvqa-workspace/tmp/mimiccxr/openai/gpt-3.5-turbo_parsed_reports.jsonl')"
   ]
  },
  {
   "cell_type": "code",
   "execution_count": 44,
   "id": "6d997d37",
   "metadata": {},
   "outputs": [
    {
     "data": {
      "text/plain": [
       "{'metadata': {'report_index': 32990,\n",
       "  'part_id': 11,\n",
       "  'subject_id': 11123456,\n",
       "  'study_id': 57510538,\n",
       "  'report': {'background': 'indication: History: F with shortness of breath, lung cancer.',\n",
       "   'findings': 'The patient is status post right upper lobectomy with unchanged right hilar opacity along the resection margin, grossly similar compared with the prior CT. Heart size is moderately enlarged, increased compared to the previous chest radiograph. Pulmonary vasculature is not engorged. Mediastinal contour is similar. New left basilar opacity is demonstrated with a small to moderate size left pleural effusion. No pneumothorax is identified. There is diffuse demineralization of the osseous structures with multiple compression deformities re- demonstrated, not substantially changed from the previous CT.',\n",
       "   'impression': 'New small to moderate size left pleural effusion and left basilar opacity concerning for pneumonia. Right hilar opacity along the resection margin remains concerning for disease recurrence, better assessed on the previous CT.',\n",
       "   'path': '/mnt/data/mimic-cxr/files/p11/p11123456/s57510538.txt'}},\n",
       " 'parsed_response': [['Unchanged right hilar opacity along resection margin',\n",
       "   1],\n",
       "  ['Moderately enlarged heart size compared to previous chest radiograph', 1],\n",
       "  ['New left basilar opacity and small to moderate size left pleural effusion',\n",
       "   1],\n",
       "  ['No pneumothorax identified', 0],\n",
       "  ['Diffuse demineralization of osseous structures with multiple compression deformities re-demonstrated, not substantially changed from previous CT',\n",
       "   0],\n",
       "  ['Concern for disease recurrence in right hilar opacity, better assessed on previous CT',\n",
       "   1]]}"
      ]
     },
     "execution_count": 44,
     "metadata": {},
     "output_type": "execute_result"
    }
   ],
   "source": [
    "tmp[-1]"
   ]
  },
  {
   "cell_type": "code",
   "execution_count": 2,
   "id": "77656bd7",
   "metadata": {},
   "outputs": [],
   "source": [
    "from medvqa.utils.files import load_jsonl"
   ]
  },
  {
   "cell_type": "code",
   "execution_count": 37,
   "id": "d2a7c573",
   "metadata": {},
   "outputs": [],
   "source": [
    "tmp = load_jsonl('/home/pamessina/medvqa-workspace/cache/mimiccxr/openai/gpt-3.5-turbo_parsed_backgrounds.jsonl')"
   ]
  },
  {
   "cell_type": "code",
   "execution_count": 38,
   "id": "1477807a",
   "metadata": {},
   "outputs": [
    {
     "data": {
      "text/plain": [
       "19974"
      ]
     },
     "execution_count": 38,
     "metadata": {},
     "output_type": "execute_result"
    }
   ],
   "source": [
    "len(tmp)"
   ]
  },
  {
   "cell_type": "code",
   "execution_count": 39,
   "id": "6874eddc",
   "metadata": {},
   "outputs": [
    {
     "data": {
      "text/plain": [
       "{'metadata': {'report_index': 88870,\n",
       "  'part_id': 13,\n",
       "  'subject_id': 13966539,\n",
       "  'study_id': 56152636,\n",
       "  'background': 'indication: prostate ca s/p robotic prostatectomy now s/p repeat laparatomy for bleeding, still intubated and on neosynephrine for hypotension // ?acute change, ET placement ; prostate ca s/p robotic prostatectomy now s/p repeat laparatomy for bleeding, still intubated now with OG tube replacement // OGT placement.'},\n",
       " 'parsed_response': ['prostate cancer',\n",
       "  'robotic prostatectomy',\n",
       "  'repeat laparotomy for bleeding',\n",
       "  'intubated',\n",
       "  'neosynephrine for hypotension',\n",
       "  'acute change',\n",
       "  'ET placement',\n",
       "  'OG tube replacement',\n",
       "  'OGT placement']}"
      ]
     },
     "execution_count": 39,
     "metadata": {},
     "output_type": "execute_result"
    }
   ],
   "source": [
    "tmp[-1]"
   ]
  }
 ],
 "metadata": {
  "kernelspec": {
   "display_name": "venv2",
   "language": "python",
   "name": "venv2"
  },
  "language_info": {
   "codemirror_mode": {
    "name": "ipython",
    "version": 3
   },
   "file_extension": ".py",
   "mimetype": "text/x-python",
   "name": "python",
   "nbconvert_exporter": "python",
   "pygments_lexer": "ipython3",
   "version": "3.10.10"
  }
 },
 "nbformat": 4,
 "nbformat_minor": 5
}
