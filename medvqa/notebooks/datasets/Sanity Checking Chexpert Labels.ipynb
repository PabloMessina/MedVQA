{
 "cells": [
  {
   "cell_type": "code",
   "execution_count": 1,
   "metadata": {},
   "outputs": [],
   "source": [
    "import os\n",
    "import pandas as pd\n",
    "import numpy as np\n",
    "from tqdm import tqdm\n",
    "from medvqa.utils.files import load_pickle, load_json_file\n",
    "from medvqa.datasets.iuxray import IUXRAY_CACHE_DIR\n",
    "from medvqa.datasets.mimiccxr import MIMICCXR_CACHE_DIR\n",
    "from medvqa.datasets.tokenizer import Tokenizer\n",
    "from medvqa.utils.hashing import hash_string\n",
    "from medvqa.utils.constants import CHEXPERT_LABELS\n",
    "from medvqa.utils.common import CACHE_DIR\n",
    "from medvqa.metrics.medical.chexpert import invoke_chexpert_labeler_process\n",
    "from termcolor import colored"
   ]
  },
  {
   "cell_type": "code",
   "execution_count": 11,
   "metadata": {},
   "outputs": [],
   "source": [
    "iuxray_qa_adapted_reports_path = os.path.join(IUXRAY_CACHE_DIR, 'qa_adapted_reports__20220629_042239.json')\n",
    "iuxray_qa_adapted_reports = load_json_file(iuxray_qa_adapted_reports_path)"
   ]
  },
  {
   "cell_type": "code",
   "execution_count": 7,
   "metadata": {},
   "outputs": [],
   "source": [
    "mimiccxr_qa_adapted_reports_path = os.path.join(MIMICCXR_CACHE_DIR, 'qa_adapted_reports__20220629_050643.json')\n",
    "mimiccxr_qa_adapted_reports = load_json_file(mimiccxr_qa_adapted_reports_path)"
   ]
  },
  {
   "cell_type": "code",
   "execution_count": 13,
   "metadata": {},
   "outputs": [
    {
     "name": "stdout",
     "output_type": "stream",
     "text": [
      "Loading /home/pamessina/medvqa-workspace/cache/vocab__min_freq=5__from(qa_adapted_reports__20220629_042239.json;qa_adapted_reports__20220629_050643.json).pkl ...\n"
     ]
    }
   ],
   "source": [
    "tokenizer = Tokenizer(qa_adapted_dataset_paths=[iuxray_qa_adapted_reports_path, mimiccxr_qa_adapted_reports_path])"
   ]
  },
  {
   "cell_type": "code",
   "execution_count": 8,
   "metadata": {},
   "outputs": [],
   "source": [
    "precomputed_chexpert_labels = load_pickle(os.path.join(CACHE_DIR, 'precomputed_chexpert_labels_20220629_053109.pkl'))"
   ]
  },
  {
   "cell_type": "code",
   "execution_count": 14,
   "metadata": {},
   "outputs": [
    {
     "data": {
      "text/plain": [
       "559200"
      ]
     },
     "execution_count": 14,
     "metadata": {},
     "output_type": "execute_result"
    }
   ],
   "source": [
    "len(precomputed_chexpert_labels)"
   ]
  },
  {
   "cell_type": "markdown",
   "metadata": {},
   "source": [
    "# IU X-Ray"
   ]
  },
  {
   "cell_type": "code",
   "execution_count": 6,
   "metadata": {},
   "outputs": [],
   "source": [
    "iuxray_chexpert_labels_pdpino = pd.read_csv('/mnt/workspace/iu-x-ray/dataset-pdpino/reports_with_chexpert_labels.csv')"
   ]
  },
  {
   "cell_type": "code",
   "execution_count": 7,
   "metadata": {
    "scrolled": true
   },
   "outputs": [
    {
     "data": {
      "text/html": [
       "<div>\n",
       "<style scoped>\n",
       "    .dataframe tbody tr th:only-of-type {\n",
       "        vertical-align: middle;\n",
       "    }\n",
       "\n",
       "    .dataframe tbody tr th {\n",
       "        vertical-align: top;\n",
       "    }\n",
       "\n",
       "    .dataframe thead th {\n",
       "        text-align: right;\n",
       "    }\n",
       "</style>\n",
       "<table border=\"1\" class=\"dataframe\">\n",
       "  <thead>\n",
       "    <tr style=\"text-align: right;\">\n",
       "      <th></th>\n",
       "      <th>filename</th>\n",
       "      <th>Reports</th>\n",
       "      <th>No Finding</th>\n",
       "      <th>Enlarged Cardiomediastinum</th>\n",
       "      <th>Cardiomegaly</th>\n",
       "      <th>Lung Lesion</th>\n",
       "      <th>Lung Opacity</th>\n",
       "      <th>Edema</th>\n",
       "      <th>Consolidation</th>\n",
       "      <th>Pneumonia</th>\n",
       "      <th>Atelectasis</th>\n",
       "      <th>Pneumothorax</th>\n",
       "      <th>Pleural Effusion</th>\n",
       "      <th>Pleural Other</th>\n",
       "      <th>Fracture</th>\n",
       "      <th>Support Devices</th>\n",
       "    </tr>\n",
       "  </thead>\n",
       "  <tbody>\n",
       "    <tr>\n",
       "      <th>0</th>\n",
       "      <td>1.xml</td>\n",
       "      <td>the cardiac silhouette and mediastinum size ar...</td>\n",
       "      <td>1</td>\n",
       "      <td>0</td>\n",
       "      <td>0</td>\n",
       "      <td>-2</td>\n",
       "      <td>-2</td>\n",
       "      <td>0</td>\n",
       "      <td>0</td>\n",
       "      <td>-2</td>\n",
       "      <td>-2</td>\n",
       "      <td>0</td>\n",
       "      <td>0</td>\n",
       "      <td>-2</td>\n",
       "      <td>-2</td>\n",
       "      <td>-2</td>\n",
       "    </tr>\n",
       "    <tr>\n",
       "      <th>1</th>\n",
       "      <td>10.xml</td>\n",
       "      <td>the cardiomediastinal silhouette is within nor...</td>\n",
       "      <td>-2</td>\n",
       "      <td>0</td>\n",
       "      <td>-2</td>\n",
       "      <td>-2</td>\n",
       "      <td>0</td>\n",
       "      <td>-2</td>\n",
       "      <td>-2</td>\n",
       "      <td>-2</td>\n",
       "      <td>-2</td>\n",
       "      <td>0</td>\n",
       "      <td>0</td>\n",
       "      <td>-2</td>\n",
       "      <td>-2</td>\n",
       "      <td>-2</td>\n",
       "    </tr>\n",
       "    <tr>\n",
       "      <th>2</th>\n",
       "      <td>100.xml</td>\n",
       "      <td>both lungs are clear and expanded . heart and ...</td>\n",
       "      <td>1</td>\n",
       "      <td>0</td>\n",
       "      <td>-2</td>\n",
       "      <td>-2</td>\n",
       "      <td>-2</td>\n",
       "      <td>-2</td>\n",
       "      <td>-2</td>\n",
       "      <td>-2</td>\n",
       "      <td>-2</td>\n",
       "      <td>-2</td>\n",
       "      <td>-2</td>\n",
       "      <td>-2</td>\n",
       "      <td>-2</td>\n",
       "      <td>-2</td>\n",
       "    </tr>\n",
       "    <tr>\n",
       "      <th>3</th>\n",
       "      <td>1000.xml</td>\n",
       "      <td>there is xxxx increased opacity within the rig...</td>\n",
       "      <td>-2</td>\n",
       "      <td>-2</td>\n",
       "      <td>0</td>\n",
       "      <td>-1</td>\n",
       "      <td>1</td>\n",
       "      <td>-2</td>\n",
       "      <td>-1</td>\n",
       "      <td>-2</td>\n",
       "      <td>-1</td>\n",
       "      <td>0</td>\n",
       "      <td>0</td>\n",
       "      <td>-2</td>\n",
       "      <td>-2</td>\n",
       "      <td>-2</td>\n",
       "    </tr>\n",
       "    <tr>\n",
       "      <th>4</th>\n",
       "      <td>1001.xml</td>\n",
       "      <td>interstitial markings are diffusely prominent ...</td>\n",
       "      <td>-2</td>\n",
       "      <td>-2</td>\n",
       "      <td>0</td>\n",
       "      <td>-2</td>\n",
       "      <td>1</td>\n",
       "      <td>-2</td>\n",
       "      <td>-2</td>\n",
       "      <td>-2</td>\n",
       "      <td>-2</td>\n",
       "      <td>-2</td>\n",
       "      <td>-2</td>\n",
       "      <td>-2</td>\n",
       "      <td>-2</td>\n",
       "      <td>-2</td>\n",
       "    </tr>\n",
       "    <tr>\n",
       "      <th>...</th>\n",
       "      <td>...</td>\n",
       "      <td>...</td>\n",
       "      <td>...</td>\n",
       "      <td>...</td>\n",
       "      <td>...</td>\n",
       "      <td>...</td>\n",
       "      <td>...</td>\n",
       "      <td>...</td>\n",
       "      <td>...</td>\n",
       "      <td>...</td>\n",
       "      <td>...</td>\n",
       "      <td>...</td>\n",
       "      <td>...</td>\n",
       "      <td>...</td>\n",
       "      <td>...</td>\n",
       "      <td>...</td>\n",
       "    </tr>\n",
       "    <tr>\n",
       "      <th>3821</th>\n",
       "      <td>995.xml</td>\n",
       "      <td>sternotomy sutures and bypass grafts have been...</td>\n",
       "      <td>1</td>\n",
       "      <td>-2</td>\n",
       "      <td>-2</td>\n",
       "      <td>-2</td>\n",
       "      <td>0</td>\n",
       "      <td>-2</td>\n",
       "      <td>-2</td>\n",
       "      <td>-2</td>\n",
       "      <td>-2</td>\n",
       "      <td>-2</td>\n",
       "      <td>-2</td>\n",
       "      <td>-2</td>\n",
       "      <td>-2</td>\n",
       "      <td>-2</td>\n",
       "    </tr>\n",
       "    <tr>\n",
       "      <th>3822</th>\n",
       "      <td>996.xml</td>\n",
       "      <td>heart size is normal and lungs are clear . no ...</td>\n",
       "      <td>1</td>\n",
       "      <td>-2</td>\n",
       "      <td>0</td>\n",
       "      <td>-2</td>\n",
       "      <td>-2</td>\n",
       "      <td>-2</td>\n",
       "      <td>-2</td>\n",
       "      <td>0</td>\n",
       "      <td>-2</td>\n",
       "      <td>0</td>\n",
       "      <td>0</td>\n",
       "      <td>-2</td>\n",
       "      <td>-2</td>\n",
       "      <td>-2</td>\n",
       "    </tr>\n",
       "    <tr>\n",
       "      <th>3823</th>\n",
       "      <td>997.xml</td>\n",
       "      <td>calcified mediastinal xxxx . no focal areas of...</td>\n",
       "      <td>-2</td>\n",
       "      <td>-2</td>\n",
       "      <td>0</td>\n",
       "      <td>-2</td>\n",
       "      <td>-2</td>\n",
       "      <td>-2</td>\n",
       "      <td>0</td>\n",
       "      <td>-2</td>\n",
       "      <td>-2</td>\n",
       "      <td>0</td>\n",
       "      <td>0</td>\n",
       "      <td>-2</td>\n",
       "      <td>-2</td>\n",
       "      <td>-2</td>\n",
       "    </tr>\n",
       "    <tr>\n",
       "      <th>3824</th>\n",
       "      <td>998.xml</td>\n",
       "      <td>cardiomediastinal silhouette demonstrates norm...</td>\n",
       "      <td>-2</td>\n",
       "      <td>1</td>\n",
       "      <td>0</td>\n",
       "      <td>-2</td>\n",
       "      <td>-2</td>\n",
       "      <td>-2</td>\n",
       "      <td>0</td>\n",
       "      <td>-2</td>\n",
       "      <td>-2</td>\n",
       "      <td>0</td>\n",
       "      <td>0</td>\n",
       "      <td>-2</td>\n",
       "      <td>-2</td>\n",
       "      <td>-2</td>\n",
       "    </tr>\n",
       "    <tr>\n",
       "      <th>3825</th>\n",
       "      <td>999.xml</td>\n",
       "      <td>lungs are clear bilaterally . there is no foca...</td>\n",
       "      <td>1</td>\n",
       "      <td>0</td>\n",
       "      <td>-2</td>\n",
       "      <td>-2</td>\n",
       "      <td>-2</td>\n",
       "      <td>-2</td>\n",
       "      <td>0</td>\n",
       "      <td>-2</td>\n",
       "      <td>-2</td>\n",
       "      <td>0</td>\n",
       "      <td>0</td>\n",
       "      <td>-2</td>\n",
       "      <td>-2</td>\n",
       "      <td>-2</td>\n",
       "    </tr>\n",
       "  </tbody>\n",
       "</table>\n",
       "<p>3826 rows × 16 columns</p>\n",
       "</div>"
      ],
      "text/plain": [
       "      filename                                            Reports  No Finding  \\\n",
       "0        1.xml  the cardiac silhouette and mediastinum size ar...           1   \n",
       "1       10.xml  the cardiomediastinal silhouette is within nor...          -2   \n",
       "2      100.xml  both lungs are clear and expanded . heart and ...           1   \n",
       "3     1000.xml  there is xxxx increased opacity within the rig...          -2   \n",
       "4     1001.xml  interstitial markings are diffusely prominent ...          -2   \n",
       "...        ...                                                ...         ...   \n",
       "3821   995.xml  sternotomy sutures and bypass grafts have been...           1   \n",
       "3822   996.xml  heart size is normal and lungs are clear . no ...           1   \n",
       "3823   997.xml  calcified mediastinal xxxx . no focal areas of...          -2   \n",
       "3824   998.xml  cardiomediastinal silhouette demonstrates norm...          -2   \n",
       "3825   999.xml  lungs are clear bilaterally . there is no foca...           1   \n",
       "\n",
       "      Enlarged Cardiomediastinum  Cardiomegaly  Lung Lesion  Lung Opacity  \\\n",
       "0                              0             0           -2            -2   \n",
       "1                              0            -2           -2             0   \n",
       "2                              0            -2           -2            -2   \n",
       "3                             -2             0           -1             1   \n",
       "4                             -2             0           -2             1   \n",
       "...                          ...           ...          ...           ...   \n",
       "3821                          -2            -2           -2             0   \n",
       "3822                          -2             0           -2            -2   \n",
       "3823                          -2             0           -2            -2   \n",
       "3824                           1             0           -2            -2   \n",
       "3825                           0            -2           -2            -2   \n",
       "\n",
       "      Edema  Consolidation  Pneumonia  Atelectasis  Pneumothorax  \\\n",
       "0         0              0         -2           -2             0   \n",
       "1        -2             -2         -2           -2             0   \n",
       "2        -2             -2         -2           -2            -2   \n",
       "3        -2             -1         -2           -1             0   \n",
       "4        -2             -2         -2           -2            -2   \n",
       "...     ...            ...        ...          ...           ...   \n",
       "3821     -2             -2         -2           -2            -2   \n",
       "3822     -2             -2          0           -2             0   \n",
       "3823     -2              0         -2           -2             0   \n",
       "3824     -2              0         -2           -2             0   \n",
       "3825     -2              0         -2           -2             0   \n",
       "\n",
       "      Pleural Effusion  Pleural Other  Fracture  Support Devices  \n",
       "0                    0             -2        -2               -2  \n",
       "1                    0             -2        -2               -2  \n",
       "2                   -2             -2        -2               -2  \n",
       "3                    0             -2        -2               -2  \n",
       "4                   -2             -2        -2               -2  \n",
       "...                ...            ...       ...              ...  \n",
       "3821                -2             -2        -2               -2  \n",
       "3822                 0             -2        -2               -2  \n",
       "3823                 0             -2        -2               -2  \n",
       "3824                 0             -2        -2               -2  \n",
       "3825                 0             -2        -2               -2  \n",
       "\n",
       "[3826 rows x 16 columns]"
      ]
     },
     "execution_count": 7,
     "metadata": {},
     "output_type": "execute_result"
    }
   ],
   "source": [
    "iuxray_chexpert_labels_pdpino"
   ]
  },
  {
   "cell_type": "code",
   "execution_count": 204,
   "metadata": {},
   "outputs": [
    {
     "data": {
      "text/plain": [
       "{'sentences': ['The lungs are hyperexpanded , with increased AP diameter of the chest',\n",
       "  'The cardiomediastinal silhouette is stable and normal',\n",
       "  'There is no pneumothorax or large pleural effusion',\n",
       "  'No acute cardiopulmonary abnormality',\n",
       "  'Chronic changes consistent with emphysema'],\n",
       " 'invalid': [],\n",
       " 'unmatched': [],\n",
       " 'matched': [0, 1, 2, 3, 4],\n",
       " 'qa': {'59': [0, 3],\n",
       "  '26': [1],\n",
       "  '63': [1],\n",
       "  '68': [2],\n",
       "  '73': [2],\n",
       "  '48': [3],\n",
       "  '37': [4]},\n",
       " 'question_ids': [59, 26, 63, 68, 73, 48, 37],\n",
       " 'filename': '2509.xml'}"
      ]
     },
     "execution_count": 204,
     "metadata": {},
     "output_type": "execute_result"
    }
   ],
   "source": [
    "iuxray_qa_adapted_reports['reports'][0]"
   ]
  },
  {
   "cell_type": "code",
   "execution_count": 206,
   "metadata": {},
   "outputs": [],
   "source": [
    "iuxray_chexpert_labels_mine = load_pickle('/home/pamessina/medvqa-workspace/cache/iuxray/chexpert_labels_per_report__20220607_231729.pkl')"
   ]
  },
  {
   "cell_type": "code",
   "execution_count": 207,
   "metadata": {},
   "outputs": [
    {
     "data": {
      "text/plain": [
       "(3927, array([0, 0, 0, 0, 0, 0, 0, 0, 0, 0, 0, 0, 0, 0], dtype=int8))"
      ]
     },
     "execution_count": 207,
     "metadata": {},
     "output_type": "execute_result"
    }
   ],
   "source": [
    "len(iuxray_chexpert_labels_mine), iuxray_chexpert_labels_mine[0]"
   ]
  },
  {
   "cell_type": "code",
   "execution_count": 208,
   "metadata": {},
   "outputs": [],
   "source": [
    "def find_inconsistencies_iuxray():\n",
    "    inconsistencies = []\n",
    "    fname2idx = { r['filename'] : i for i,r in enumerate(iuxray_qa_adapted_reports['reports']) }\n",
    "    def binary_score(x):\n",
    "        if x == -2: return 0\n",
    "        if x == -1: return 1\n",
    "        return x\n",
    "    n = len(iuxray_chexpert_labels_pdpino)\n",
    "    for i in range(n):\n",
    "        row = iuxray_chexpert_labels_pdpino.iloc[i]\n",
    "        labels_pdpino = [binary_score(row[x]) for x in CHEXPERT_LABELS]\n",
    "        labels_mine = iuxray_chexpert_labels_mine[fname2idx[row['filename']]].tolist()\n",
    "        if not all(labels_pdpino[i] <= labels_mine[i] for i in range(len(CHEXPERT_LABELS))):\n",
    "#             print(labels_pdpino)            \n",
    "#             print(labels_mine)\n",
    "#             print(row['filename'])\n",
    "#             print(row['Reports'])\n",
    "#             print(iuxray_qa_adapted_reports['reports'][fname2idx[row['filename']]])\n",
    "            inconsistencies.append((\n",
    "                row['filename'],\n",
    "                labels_pdpino,\n",
    "                labels_mine,                \n",
    "                row['Reports'],\n",
    "                iuxray_qa_adapted_reports['reports'][fname2idx[row['filename']]]))\n",
    "#             break\n",
    "    return inconsistencies        "
   ]
  },
  {
   "cell_type": "code",
   "execution_count": 209,
   "metadata": {},
   "outputs": [],
   "source": [
    "inconsistencies = find_inconsistencies_iuxray()"
   ]
  },
  {
   "cell_type": "code",
   "execution_count": 210,
   "metadata": {},
   "outputs": [
    {
     "data": {
      "text/plain": [
       "350"
      ]
     },
     "execution_count": 210,
     "metadata": {},
     "output_type": "execute_result"
    }
   ],
   "source": [
    "len(inconsistencies)"
   ]
  },
  {
   "cell_type": "code",
   "execution_count": 239,
   "metadata": {},
   "outputs": [],
   "source": [
    "def print_labels(labels):\n",
    "    print('(', end='')\n",
    "    for i in range(len(labels)):\n",
    "        if labels[i] == 1 or labels[i] == -1:\n",
    "            print(CHEXPERT_LABELS[i], ',', end='')\n",
    "    print(')')\n",
    "def print_inconsistency(t):\n",
    "    print(t[0])\n",
    "    print()\n",
    "    print(t[1])\n",
    "    print(t[2])\n",
    "    print()\n",
    "    print(\"In pdpino: \", end='')\n",
    "    for i in range(len(CHEXPERT_LABELS)):\n",
    "        if (t[1][i] and not t[2][i]):\n",
    "            print(CHEXPERT_LABELS[i], ',', end='')\n",
    "    print()\n",
    "    print(\"In mine: \", end='')\n",
    "    for i in range(len(CHEXPERT_LABELS)):\n",
    "        if (not t[1][i] and t[2][i]):\n",
    "            print(CHEXPERT_LABELS[i], ',', end='')\n",
    "    print()\n",
    "    print()\n",
    "    print(t[3])\n",
    "    print()\n",
    "    for x in t[3].split('.'):\n",
    "        x = x.strip()\n",
    "        y = tokenizer.clean_text(x)\n",
    "        print(x, end=' ')\n",
    "        try:\n",
    "            print_labels(precomputed_chexpert_labels[hash_string(y)])\n",
    "        except KeyError:\n",
    "            print()\n",
    "    print()\n",
    "    for x in [tokenizer.clean_text(t[4]['sentences'][i]) for i in t[4]['matched']]:\n",
    "        print(x, end=' ')\n",
    "        print_labels(precomputed_chexpert_labels[hash_string(x)])\n",
    "    print()\n",
    "    print()\n",
    "    print(t[4])"
   ]
  },
  {
   "cell_type": "code",
   "execution_count": 226,
   "metadata": {},
   "outputs": [
    {
     "name": "stdout",
     "output_type": "stream",
     "text": [
      "83.xml\n",
      "\n",
      "[0, 0, 0, 0, 0, 0, 0, 0, 0, 0, 0, 0, 1, 0]\n",
      "[1, 0, 0, 0, 0, 0, 0, 0, 0, 0, 0, 0, 0, 0]\n",
      "\n",
      "In pdpino: Fracture ,\n",
      "In mine: No Finding ,\n",
      "\n",
      "lumbar spine (No Finding ,)\n",
      "no fractures (No Finding ,)\n",
      "no dislocations (No Finding ,)\n",
      "disc spaces are normal (No Finding ,)\n",
      "no degenerative disease \n",
      "clips in the gallbladder region (No Finding ,)\n",
      "thoracic spine (No Finding ,)\n",
      "no xxxx fractures or dislocations (No Finding ,)\n",
      "no significant degenerative disease \n",
      "chest \n",
      "heart size is normal (No Finding ,)\n",
      "lungs are clear (No Finding ,)\n",
      "no effusion or pneumothorax (No Finding ,)\n",
      " \n",
      "\n",
      "lumbar spine (No Finding ,)\n",
      "no fractures (No Finding ,)\n",
      "no dislocations (No Finding ,)\n",
      "disc spaces are normal (No Finding ,)\n",
      "clips in the gallbladder region (No Finding ,)\n",
      "thoracic spine (No Finding ,)\n",
      "no fractures or dislocations (No Finding ,)\n",
      "heart size is normal (No Finding ,)\n",
      "lungs are clear (No Finding ,)\n",
      "no effusion or pneumothorax (No Finding ,)\n",
      "\n",
      "\n",
      "{'sentences': ['Lumbar spine', 'No fractures', 'No dislocations', 'Disc spaces are normal', 'No degenerative disease', 'Clips in the gallbladder region', 'Thoracic spine', 'No XXXX fractures or dislocations', 'No significant degenerative disease', 'Chest.', 'Heart size is normal', 'Lungs are clear', 'No effusion or pneumothorax'], 'invalid': [9], 'unmatched': [4, 8], 'matched': [0, 1, 2, 3, 5, 6, 7, 10, 11, 12], 'qa': {'16': [0, 1, 2, 3, 6, 7], '43': [1, 7], '87': [5], '48': [10], '59': [11], '68': [12], '73': [12]}, 'question_ids': [16, 43, 87, 48, 59, 68, 73], 'filename': '83.xml'}\n"
     ]
    }
   ],
   "source": [
    "print_inconsistency(inconsistencies[-20])"
   ]
  },
  {
   "cell_type": "code",
   "execution_count": 2,
   "metadata": {},
   "outputs": [
    {
     "name": "stdout",
     "output_type": "stream",
     "text": [
      "Chexpert labeler: running a maximum of 1 concurrent processes over 1 chunks\n",
      "chunk: i=0, b=0, e=2, chunk_size=2\n",
      "\t#### process 1: running chexpert labeler over 2 texts ...\n",
      "\tCommand = docker run --rm -v /mnt/data/pamessina/workspaces/medvqa-workspace/tmp/chexpert-labeler:/data chexpert-labeler:latest python label.py --reports_path /data/labeler-input_0.csv --output_path /data/labeler-output_0.csv\n",
      "\t**** process 1 finished, elapsed time = 8.266872882843018\n"
     ]
    },
    {
     "data": {
      "text/plain": [
       "array([[-2,  1,  1, -2, -2, -2, -2, -2, -2, -2, -2, -2, -2, -2],\n",
       "       [ 1,  0,  0, -2, -2, -2, -2, -2, -2, -2, -2, -2, -2, -2]],\n",
       "      dtype=int8)"
      ]
     },
     "execution_count": 2,
     "metadata": {},
     "output_type": "execute_result"
    }
   ],
   "source": [
    "invoke_chexpert_labeler_process(['the heart size and mediastinal silhouette are within normal limits for contour',\n",
    "                                'the heart size and mediastinal silhouette are normal for contour'])"
   ]
  },
  {
   "cell_type": "code",
   "execution_count": 127,
   "metadata": {},
   "outputs": [
    {
     "name": "stdout",
     "output_type": "stream",
     "text": [
      "(Enlarged Cardiomediastinum ,Cardiomegaly ,)\n"
     ]
    }
   ],
   "source": [
    "print_labels([-2,  1,  1, -2, -2, -2, -2, -2, -2, -2, -2, -2, -2, -2])"
   ]
  },
  {
   "cell_type": "markdown",
   "metadata": {},
   "source": [
    "# MIMIC-CXR"
   ]
  },
  {
   "cell_type": "code",
   "execution_count": 242,
   "metadata": {},
   "outputs": [],
   "source": [
    "mimiccxr_chexpert_labels_pdpino = pd.read_csv('/mnt/data/mimic-cxr-jpg/reports/reports_with_chexpert_labels.csv')"
   ]
  },
  {
   "cell_type": "code",
   "execution_count": 243,
   "metadata": {},
   "outputs": [
    {
     "data": {
      "text/html": [
       "<div>\n",
       "<style scoped>\n",
       "    .dataframe tbody tr th:only-of-type {\n",
       "        vertical-align: middle;\n",
       "    }\n",
       "\n",
       "    .dataframe tbody tr th {\n",
       "        vertical-align: top;\n",
       "    }\n",
       "\n",
       "    .dataframe thead th {\n",
       "        text-align: right;\n",
       "    }\n",
       "</style>\n",
       "<table border=\"1\" class=\"dataframe\">\n",
       "  <thead>\n",
       "    <tr style=\"text-align: right;\">\n",
       "      <th></th>\n",
       "      <th>filename</th>\n",
       "      <th>Reports</th>\n",
       "      <th>No Finding</th>\n",
       "      <th>Enlarged Cardiomediastinum</th>\n",
       "      <th>Cardiomegaly</th>\n",
       "      <th>Lung Lesion</th>\n",
       "      <th>Lung Opacity</th>\n",
       "      <th>Edema</th>\n",
       "      <th>Consolidation</th>\n",
       "      <th>Pneumonia</th>\n",
       "      <th>Atelectasis</th>\n",
       "      <th>Pneumothorax</th>\n",
       "      <th>Pleural Effusion</th>\n",
       "      <th>Pleural Other</th>\n",
       "      <th>Fracture</th>\n",
       "      <th>Support Devices</th>\n",
       "    </tr>\n",
       "  </thead>\n",
       "  <tbody>\n",
       "    <tr>\n",
       "      <th>0</th>\n",
       "      <td>p10/p10000032/s53911762.txt</td>\n",
       "      <td>single frontal view of the chest provided . th...</td>\n",
       "      <td>-2</td>\n",
       "      <td>0</td>\n",
       "      <td>-2</td>\n",
       "      <td>-2</td>\n",
       "      <td>-2</td>\n",
       "      <td>-2</td>\n",
       "      <td>0</td>\n",
       "      <td>-2</td>\n",
       "      <td>-2</td>\n",
       "      <td>0</td>\n",
       "      <td>0</td>\n",
       "      <td>-2</td>\n",
       "      <td>1</td>\n",
       "      <td>-2</td>\n",
       "    </tr>\n",
       "    <tr>\n",
       "      <th>1</th>\n",
       "      <td>p10/p10000032/s56699142.txt</td>\n",
       "      <td>the lungs are clear of focal consolidation , p...</td>\n",
       "      <td>-2</td>\n",
       "      <td>0</td>\n",
       "      <td>0</td>\n",
       "      <td>-2</td>\n",
       "      <td>-2</td>\n",
       "      <td>-2</td>\n",
       "      <td>0</td>\n",
       "      <td>-2</td>\n",
       "      <td>-2</td>\n",
       "      <td>0</td>\n",
       "      <td>0</td>\n",
       "      <td>-2</td>\n",
       "      <td>1</td>\n",
       "      <td>-2</td>\n",
       "    </tr>\n",
       "    <tr>\n",
       "      <th>2</th>\n",
       "      <td>p10/p10000032/s53189527.txt</td>\n",
       "      <td>the cardiac , mediastinal and hilar contours a...</td>\n",
       "      <td>-2</td>\n",
       "      <td>0</td>\n",
       "      <td>-2</td>\n",
       "      <td>-2</td>\n",
       "      <td>-2</td>\n",
       "      <td>-2</td>\n",
       "      <td>-2</td>\n",
       "      <td>-2</td>\n",
       "      <td>-2</td>\n",
       "      <td>0</td>\n",
       "      <td>0</td>\n",
       "      <td>-2</td>\n",
       "      <td>1</td>\n",
       "      <td>-2</td>\n",
       "    </tr>\n",
       "    <tr>\n",
       "      <th>3</th>\n",
       "      <td>p10/p10000032/s50414267.txt</td>\n",
       "      <td>there is no focal consolidation , pleural effu...</td>\n",
       "      <td>-2</td>\n",
       "      <td>0</td>\n",
       "      <td>-2</td>\n",
       "      <td>1</td>\n",
       "      <td>1</td>\n",
       "      <td>-2</td>\n",
       "      <td>0</td>\n",
       "      <td>-2</td>\n",
       "      <td>-2</td>\n",
       "      <td>0</td>\n",
       "      <td>0</td>\n",
       "      <td>-2</td>\n",
       "      <td>-2</td>\n",
       "      <td>-2</td>\n",
       "    </tr>\n",
       "    <tr>\n",
       "      <th>4</th>\n",
       "      <td>p10/p10000764/s57375967.txt</td>\n",
       "      <td>pa and lateral views of the chest provided . t...</td>\n",
       "      <td>-2</td>\n",
       "      <td>1</td>\n",
       "      <td>0</td>\n",
       "      <td>-2</td>\n",
       "      <td>-2</td>\n",
       "      <td>-2</td>\n",
       "      <td>1</td>\n",
       "      <td>-2</td>\n",
       "      <td>-2</td>\n",
       "      <td>-2</td>\n",
       "      <td>-2</td>\n",
       "      <td>1</td>\n",
       "      <td>-2</td>\n",
       "      <td>-2</td>\n",
       "    </tr>\n",
       "    <tr>\n",
       "      <th>...</th>\n",
       "      <td>...</td>\n",
       "      <td>...</td>\n",
       "      <td>...</td>\n",
       "      <td>...</td>\n",
       "      <td>...</td>\n",
       "      <td>...</td>\n",
       "      <td>...</td>\n",
       "      <td>...</td>\n",
       "      <td>...</td>\n",
       "      <td>...</td>\n",
       "      <td>...</td>\n",
       "      <td>...</td>\n",
       "      <td>...</td>\n",
       "      <td>...</td>\n",
       "      <td>...</td>\n",
       "      <td>...</td>\n",
       "    </tr>\n",
       "    <tr>\n",
       "      <th>227822</th>\n",
       "      <td>p19/p19999442/s58708861.txt</td>\n",
       "      <td>et tube ends NUMBER above the carina . ng tube...</td>\n",
       "      <td>-2</td>\n",
       "      <td>0</td>\n",
       "      <td>0</td>\n",
       "      <td>-2</td>\n",
       "      <td>-2</td>\n",
       "      <td>-2</td>\n",
       "      <td>-2</td>\n",
       "      <td>-2</td>\n",
       "      <td>-2</td>\n",
       "      <td>0</td>\n",
       "      <td>0</td>\n",
       "      <td>-2</td>\n",
       "      <td>-2</td>\n",
       "      <td>1</td>\n",
       "    </tr>\n",
       "    <tr>\n",
       "      <th>227823</th>\n",
       "      <td>p19/p19999733/s57132437.txt</td>\n",
       "      <td>the lungs are clear , and the cardiomediastina...</td>\n",
       "      <td>1</td>\n",
       "      <td>0</td>\n",
       "      <td>-2</td>\n",
       "      <td>-2</td>\n",
       "      <td>-2</td>\n",
       "      <td>-2</td>\n",
       "      <td>-2</td>\n",
       "      <td>-2</td>\n",
       "      <td>-2</td>\n",
       "      <td>0</td>\n",
       "      <td>0</td>\n",
       "      <td>-2</td>\n",
       "      <td>-2</td>\n",
       "      <td>-2</td>\n",
       "    </tr>\n",
       "    <tr>\n",
       "      <th>227824</th>\n",
       "      <td>p19/p19999987/s55368167.txt</td>\n",
       "      <td>there has been interval extubation and improve...</td>\n",
       "      <td>-2</td>\n",
       "      <td>-2</td>\n",
       "      <td>-1</td>\n",
       "      <td>0</td>\n",
       "      <td>-2</td>\n",
       "      <td>-2</td>\n",
       "      <td>-2</td>\n",
       "      <td>-2</td>\n",
       "      <td>1</td>\n",
       "      <td>0</td>\n",
       "      <td>0</td>\n",
       "      <td>-2</td>\n",
       "      <td>-2</td>\n",
       "      <td>-2</td>\n",
       "    </tr>\n",
       "    <tr>\n",
       "      <th>227825</th>\n",
       "      <td>p19/p19999987/s58621812.txt</td>\n",
       "      <td>portable supine ap view of the chest provided ...</td>\n",
       "      <td>-2</td>\n",
       "      <td>0</td>\n",
       "      <td>-2</td>\n",
       "      <td>-2</td>\n",
       "      <td>-2</td>\n",
       "      <td>-2</td>\n",
       "      <td>-2</td>\n",
       "      <td>-2</td>\n",
       "      <td>1</td>\n",
       "      <td>-2</td>\n",
       "      <td>-2</td>\n",
       "      <td>-2</td>\n",
       "      <td>-2</td>\n",
       "      <td>1</td>\n",
       "    </tr>\n",
       "    <tr>\n",
       "      <th>227826</th>\n",
       "      <td>p19/p19999987/s58971208.txt</td>\n",
       "      <td>the et tube terminates approximately NUMBER fr...</td>\n",
       "      <td>-2</td>\n",
       "      <td>0</td>\n",
       "      <td>1</td>\n",
       "      <td>-2</td>\n",
       "      <td>1</td>\n",
       "      <td>-2</td>\n",
       "      <td>-2</td>\n",
       "      <td>-2</td>\n",
       "      <td>1</td>\n",
       "      <td>0</td>\n",
       "      <td>0</td>\n",
       "      <td>-2</td>\n",
       "      <td>-2</td>\n",
       "      <td>1</td>\n",
       "    </tr>\n",
       "  </tbody>\n",
       "</table>\n",
       "<p>227827 rows × 16 columns</p>\n",
       "</div>"
      ],
      "text/plain": [
       "                           filename  \\\n",
       "0       p10/p10000032/s53911762.txt   \n",
       "1       p10/p10000032/s56699142.txt   \n",
       "2       p10/p10000032/s53189527.txt   \n",
       "3       p10/p10000032/s50414267.txt   \n",
       "4       p10/p10000764/s57375967.txt   \n",
       "...                             ...   \n",
       "227822  p19/p19999442/s58708861.txt   \n",
       "227823  p19/p19999733/s57132437.txt   \n",
       "227824  p19/p19999987/s55368167.txt   \n",
       "227825  p19/p19999987/s58621812.txt   \n",
       "227826  p19/p19999987/s58971208.txt   \n",
       "\n",
       "                                                  Reports  No Finding  \\\n",
       "0       single frontal view of the chest provided . th...          -2   \n",
       "1       the lungs are clear of focal consolidation , p...          -2   \n",
       "2       the cardiac , mediastinal and hilar contours a...          -2   \n",
       "3       there is no focal consolidation , pleural effu...          -2   \n",
       "4       pa and lateral views of the chest provided . t...          -2   \n",
       "...                                                   ...         ...   \n",
       "227822  et tube ends NUMBER above the carina . ng tube...          -2   \n",
       "227823  the lungs are clear , and the cardiomediastina...           1   \n",
       "227824  there has been interval extubation and improve...          -2   \n",
       "227825  portable supine ap view of the chest provided ...          -2   \n",
       "227826  the et tube terminates approximately NUMBER fr...          -2   \n",
       "\n",
       "        Enlarged Cardiomediastinum  Cardiomegaly  Lung Lesion  Lung Opacity  \\\n",
       "0                                0            -2           -2            -2   \n",
       "1                                0             0           -2            -2   \n",
       "2                                0            -2           -2            -2   \n",
       "3                                0            -2            1             1   \n",
       "4                                1             0           -2            -2   \n",
       "...                            ...           ...          ...           ...   \n",
       "227822                           0             0           -2            -2   \n",
       "227823                           0            -2           -2            -2   \n",
       "227824                          -2            -1            0            -2   \n",
       "227825                           0            -2           -2            -2   \n",
       "227826                           0             1           -2             1   \n",
       "\n",
       "        Edema  Consolidation  Pneumonia  Atelectasis  Pneumothorax  \\\n",
       "0          -2              0         -2           -2             0   \n",
       "1          -2              0         -2           -2             0   \n",
       "2          -2             -2         -2           -2             0   \n",
       "3          -2              0         -2           -2             0   \n",
       "4          -2              1         -2           -2            -2   \n",
       "...       ...            ...        ...          ...           ...   \n",
       "227822     -2             -2         -2           -2             0   \n",
       "227823     -2             -2         -2           -2             0   \n",
       "227824     -2             -2         -2            1             0   \n",
       "227825     -2             -2         -2            1            -2   \n",
       "227826     -2             -2         -2            1             0   \n",
       "\n",
       "        Pleural Effusion  Pleural Other  Fracture  Support Devices  \n",
       "0                      0             -2         1               -2  \n",
       "1                      0             -2         1               -2  \n",
       "2                      0             -2         1               -2  \n",
       "3                      0             -2        -2               -2  \n",
       "4                     -2              1        -2               -2  \n",
       "...                  ...            ...       ...              ...  \n",
       "227822                 0             -2        -2                1  \n",
       "227823                 0             -2        -2               -2  \n",
       "227824                 0             -2        -2               -2  \n",
       "227825                -2             -2        -2                1  \n",
       "227826                 0             -2        -2                1  \n",
       "\n",
       "[227827 rows x 16 columns]"
      ]
     },
     "execution_count": 243,
     "metadata": {},
     "output_type": "execute_result"
    }
   ],
   "source": [
    "mimiccxr_chexpert_labels_pdpino"
   ]
  },
  {
   "cell_type": "code",
   "execution_count": 244,
   "metadata": {},
   "outputs": [
    {
     "data": {
      "text/plain": [
       "{'sentences': ['Heart size is normal',\n",
       "  'There are mild aortic knob calcifications',\n",
       "  'Cardiomediastinal silhouette and hilar contours are otherwise unremarkable',\n",
       "  'Lungs are clear',\n",
       "  'Pleural surfaces are clear without effusion or pneumothorax',\n",
       "  'No acute cardiopulmonary abnormality'],\n",
       " 'invalid': [],\n",
       " 'unmatched': [],\n",
       " 'matched': [0, 1, 2, 3, 4, 5],\n",
       " 'qa': {'48': [0, 5],\n",
       "  '90': [1],\n",
       "  '24': [1],\n",
       "  '75': [2],\n",
       "  '26': [2],\n",
       "  '63': [2],\n",
       "  '59': [3, 5],\n",
       "  '68': [4],\n",
       "  '73': [4]},\n",
       " 'question_ids': [48, 90, 24, 75, 26, 63, 59, 68, 73],\n",
       " 'filepath': '/mnt/data/mimic-cxr/files/p10/p10703179/s58829627.txt'}"
      ]
     },
     "execution_count": 244,
     "metadata": {},
     "output_type": "execute_result"
    }
   ],
   "source": [
    "mimiccxr_qa_adapted_reports['reports'][0]"
   ]
  },
  {
   "cell_type": "code",
   "execution_count": 35,
   "metadata": {},
   "outputs": [],
   "source": [
    "mimiccxr_chexpert_labels_mine = load_pickle('/home/pamessina/medvqa-workspace/cache/mimiccxr/chexpert_labels_per_report__20220629_055159.pkl')"
   ]
  },
  {
   "cell_type": "code",
   "execution_count": 36,
   "metadata": {},
   "outputs": [
    {
     "data": {
      "text/plain": [
       "(227835, array([0, 0, 0, 0, 0, 0, 0, 0, 0, 0, 0, 0, 0, 0], dtype=int8))"
      ]
     },
     "execution_count": 36,
     "metadata": {},
     "output_type": "execute_result"
    }
   ],
   "source": [
    "len(mimiccxr_chexpert_labels_mine), mimiccxr_chexpert_labels_mine[0]"
   ]
  },
  {
   "cell_type": "code",
   "execution_count": 247,
   "metadata": {},
   "outputs": [],
   "source": [
    "def find_inconsistencies_mimiccxr():\n",
    "    inconsistencies = []\n",
    "    fname2idx = { r['filepath'][26:] : i for i,r in enumerate(mimiccxr_qa_adapted_reports['reports']) }\n",
    "    def binary_score(x):\n",
    "        if x == -2: return 0\n",
    "        if x == -1: return 1\n",
    "        return x\n",
    "    n = len(mimiccxr_chexpert_labels_pdpino)\n",
    "    for i in range(n):\n",
    "        row = mimiccxr_chexpert_labels_pdpino.iloc[i]\n",
    "        labels_pdpino = [binary_score(row[x]) for x in CHEXPERT_LABELS]\n",
    "        labels_mine = mimiccxr_chexpert_labels_mine[fname2idx[row['filename']]].tolist()\n",
    "        if not all(labels_pdpino[i] <= labels_mine[i] for i in range(len(CHEXPERT_LABELS))):\n",
    "#             print(labels_pdpino)            \n",
    "#             print(labels_mine)\n",
    "#             print(row['filename'])\n",
    "#             print(row['Reports'])\n",
    "#             print(mimiccxr_qa_adapted_reports['reports'][fname2idx[row['filename']]])\n",
    "            inconsistencies.append((\n",
    "                row['filename'],\n",
    "                labels_pdpino,\n",
    "                labels_mine,                \n",
    "                row['Reports'],\n",
    "                mimiccxr_qa_adapted_reports['reports'][fname2idx[row['filename']]]))\n",
    "    return inconsistencies        "
   ]
  },
  {
   "cell_type": "code",
   "execution_count": 248,
   "metadata": {},
   "outputs": [],
   "source": [
    "inconsistencies = find_inconsistencies_mimiccxr()"
   ]
  },
  {
   "cell_type": "code",
   "execution_count": 249,
   "metadata": {},
   "outputs": [
    {
     "data": {
      "text/plain": [
       "17631"
      ]
     },
     "execution_count": 249,
     "metadata": {},
     "output_type": "execute_result"
    }
   ],
   "source": [
    "len(inconsistencies)"
   ]
  },
  {
   "cell_type": "code",
   "execution_count": 250,
   "metadata": {},
   "outputs": [
    {
     "name": "stdout",
     "output_type": "stream",
     "text": [
      "p19/p19999270/s56267753.txt\n",
      "\n",
      "[0, 0, 0, 0, 0, 0, 0, 0, 0, 1, 0, 0, 0, 0]\n",
      "[1, 0, 0, 0, 0, 0, 0, 0, 0, 0, 0, 0, 0, 0]\n",
      "\n",
      "In pdpino: Pneumothorax ,\n",
      "In mine: No Finding ,\n",
      "\n",
      "the lungs are clear of airspace or interstitial opacity . the cardiomediastinal silhouette is unremarkable . no pleural effusions or pneumothorax . no acute or aggressive osseus changes .\n",
      "\n",
      "the lungs are clear of airspace or interstitial opacity (No Finding ,)\n",
      "the cardiomediastinal silhouette is unremarkable (No Finding ,)\n",
      "no pleural effusions or pneumothorax (No Finding ,)\n",
      "no acute or aggressive osseus changes \n",
      " \n",
      "\n",
      "the lungs are clear of airspace or interstitial opacity (No Finding ,)\n",
      "the cardiomediastinal silhouette is unremarkable (No Finding ,)\n",
      "no pleural effusions or pneumothorax (No Finding ,)\n",
      "\n",
      "\n",
      "{'sentences': ['The lungs are clear of airspace or interstitial opacity', 'The cardiomediastinal silhouette is unremarkable', 'No pleural effusions or pneumothorax', 'No acute or aggressive osseus changes', 'No evidence of active or latent TB'], 'invalid': [], 'unmatched': [3, 4], 'matched': [0, 1, 2], 'qa': {'59': [0], '65': [0], '52': [0], '26': [1], '63': [1], '68': [2], '73': [2]}, 'question_ids': [59, 65, 52, 26, 63, 68, 73], 'filepath': '/mnt/data/mimic-cxr/files/p19/p19999270/s56267753.txt'}\n"
     ]
    }
   ],
   "source": [
    "print_inconsistency(inconsistencies[-1])"
   ]
  },
  {
   "cell_type": "code",
   "execution_count": 251,
   "metadata": {},
   "outputs": [
    {
     "name": "stdout",
     "output_type": "stream",
     "text": [
      "Chexpert labeler: running a maximum of 1 concurrent processes over 1 chunks\n",
      "chunk: i=0, b=0, e=1, chunk_size=1\n",
      "\t#### process 1: running chexpert labeler over 1 texts ...\n",
      "\tCommand = docker run -v /home/pamessina/medvqa-workspace/tmp/chexpert-labeler:/data chexpert-labeler:latest python label.py --reports_path /data/labeler-input_0.csv --output_path /data/labeler-output_0.csv\n",
      "\t**** process 1 finished, elapsed time = 9.938480377197266\n"
     ]
    },
    {
     "data": {
      "text/plain": [
       "array([[-2,  0, -2, -2,  0, -2, -2, -2, -2,  1,  0, -2, -2, -2]],\n",
       "      dtype=int8)"
      ]
     },
     "execution_count": 251,
     "metadata": {},
     "output_type": "execute_result"
    }
   ],
   "source": [
    "invoke_chexpert_labeler_process(['the lungs are clear of airspace or interstitial opacity . the cardiomediastinal silhouette is unremarkable . no pleural effusions or pneumothorax . no acute or aggressive osseus changes .'])"
   ]
  },
  {
   "cell_type": "code",
   "execution_count": 308,
   "metadata": {},
   "outputs": [
    {
     "name": "stdout",
     "output_type": "stream",
     "text": [
      "p19/p19809627/s54845503.txt\n",
      "\n",
      "[0, 0, 1, 0, 0, 1, 0, 0, 1, 0, 1, 0, 0, 1]\n",
      "[0, 0, 1, 0, 0, 1, 0, 0, 0, 0, 1, 0, 0, 1]\n",
      "\n",
      "In pdpino: Atelectasis ,\n",
      "In mine: \n",
      "\n",
      "previous moderate left pleural effusion and left lower lobe collapse have improved has the patient had thoracentesis ? there is no pneumothorax . moderate enlarged of the cardiac silhouette is clear due to cardiomegaly and / or pericardial effusion and there is new mild interstitial edema in the right lower lung . hemodialysis catheter ends in the right atrium as before .\n",
      "\n",
      "previous moderate left pleural effusion and left lower lobe collapse have improved has the patient had thoracentesis ? there is no pneumothorax \n",
      "moderate enlarged of the cardiac silhouette is clear due to cardiomegaly and / or pericardial effusion and there is new mild interstitial edema in the right lower lung (Cardiomegaly ,Edema ,)\n",
      "hemodialysis catheter ends in the right atrium as before (No Finding ,Support Devices ,)\n",
      " \n",
      "\n",
      "previous moderate left pleural effusion (Pleural Effusion ,)\n",
      "there is no pneumothorax (No Finding ,)\n",
      "moderate enlarged of the cardiac silhouette is clear due to cardiomegaly and or pericardial effusion and there is new mild interstitial edema in the right lower lung (Cardiomegaly ,Edema ,)\n",
      "hemodialysis catheter ends in the right atrium as before (No Finding ,Support Devices ,)\n",
      "\n",
      "\n",
      "{'sentences': ['Previous moderate left pleural effusion', 'There is no pneumothorax', 'Moderate enlarged of the cardiac silhouette is clear due to cardiomegaly and /or pericardial effusion and there is new mild interstitial edema in the right lower lung', 'Hemodialysis catheter ends in the right atrium as before'], 'invalid': [], 'unmatched': [], 'matched': [0, 1, 2, 3], 'qa': {'68': [0, 2], '73': [1], '59': [2], '48': [2, 3], '27': [2], '26': [2], '36': [2], '52': [2], '95': [3], '87': [3]}, 'question_ids': [68, 73, 59, 48, 27, 26, 36, 52, 95, 87], 'filepath': '/mnt/data/mimic-cxr/files/p19/p19809627/s54845503.txt'}\n"
     ]
    }
   ],
   "source": [
    "print_inconsistency(inconsistencies[-320])"
   ]
  },
  {
   "cell_type": "code",
   "execution_count": 251,
   "metadata": {},
   "outputs": [
    {
     "name": "stdout",
     "output_type": "stream",
     "text": [
      "Chexpert labeler: running a maximum of 1 concurrent processes over 1 chunks\n",
      "chunk: i=0, b=0, e=1, chunk_size=1\n",
      "\t#### process 1: running chexpert labeler over 1 texts ...\n",
      "\tCommand = docker run -v /home/pamessina/medvqa-workspace/tmp/chexpert-labeler:/data chexpert-labeler:latest python label.py --reports_path /data/labeler-input_0.csv --output_path /data/labeler-output_0.csv\n",
      "\t**** process 1 finished, elapsed time = 9.938480377197266\n"
     ]
    },
    {
     "data": {
      "text/plain": [
       "array([[-2,  0, -2, -2,  0, -2, -2, -2, -2,  1,  0, -2, -2, -2]],\n",
       "      dtype=int8)"
      ]
     },
     "execution_count": 251,
     "metadata": {},
     "output_type": "execute_result"
    }
   ],
   "source": [
    "invoke_chexpert_labeler_process(['the lungs are clear of airspace or interstitial opacity . the cardiomediastinal silhouette is unremarkable . no pleural effusions or pneumothorax . no acute or aggressive osseus changes .'])"
   ]
  },
  {
   "cell_type": "code",
   "execution_count": 277,
   "metadata": {},
   "outputs": [],
   "source": [
    "import re\n",
    "import os\n",
    "from pathlib import Path\n",
    "from medvqa.datasets.mimiccxr import MIMICCXR_DATASET_DIR\n",
    "\n",
    "_re_header = re.compile(r'[A-Z]+( +[A-Z]+)*?:')\n",
    "\n",
    "def extract_findings_and_impression(report_path, debug=False):\n",
    "    with open(report_path) as f:\n",
    "        text = f.read()    \n",
    "    print(text)\n",
    "    text = text.replace('_', '')\n",
    "    spans = [i.span() for i in _re_header.finditer(text)]    \n",
    "    print('spans =', spans)\n",
    "    report = ''\n",
    "    for i, span in enumerate(spans):\n",
    "        match = text[span[0]:span[1]]\n",
    "        print(span, match)\n",
    "        if ((len(match) > 20 and not match == 'REASON FOR EXAMINATION:') or match == 'FINDINGS:' or\n",
    "                match == 'IMPRESSION:' or match == 'CONCLUSION:'):\n",
    "            if i+1 == len(spans):\n",
    "                x = text[span[1]:]\n",
    "            else:\n",
    "                x = text[span[1]:spans[i+1][0]]\n",
    "            x = ' '.join(x.split())\n",
    "            if x:\n",
    "                if report:\n",
    "                    report += ' ' if report[-1] == '.' else '. '\n",
    "                report += x\n",
    "    if not report:\n",
    "        for part in re.split('\\s*\\n\\s*\\n\\s*', text):\n",
    "            part = ' '.join(part.split())\n",
    "            if len(part) > 150:\n",
    "                if report:\n",
    "                    report += ' ' if report[-1] == '.' else '. '\n",
    "                report += part\n",
    "    return report"
   ]
  },
  {
   "cell_type": "code",
   "execution_count": 309,
   "metadata": {},
   "outputs": [
    {
     "name": "stdout",
     "output_type": "stream",
     "text": [
      "                                 FINAL REPORT\n",
      " EXAMINATION:  CHEST (PORTABLE AP)CHEST (PORTABLE AP)i\n",
      " \n",
      " INDICATION:  ___ year old man with AOCRF and sCHF with HCAP and left effusion \n",
      " // please evaluate for worsening effusion, atelectasis, consolidation\n",
      " \n",
      " COMPARISON:  Chest radiographs since ___, most recently ___ at 17:00.\n",
      " \n",
      " IMPRESSION: \n",
      " \n",
      " Previous moderate left pleural effusion and left lower lobe collapse have\n",
      " improved has the patient had thoracentesis?  There is no pneumothorax.\n",
      " Moderate enlarged of the cardiac silhouette is clear due to cardiomegaly\n",
      " and/or pericardial effusion and there is new mild interstitial edema in the\n",
      " right lower lung. Hemodialysis catheter ends in the right atrium as before.\n",
      "\n",
      "spans = [(47, 59), (104, 115), (254, 265), (321, 332)]\n",
      "(47, 59) EXAMINATION:\n",
      "(104, 115) INDICATION:\n",
      "(254, 265) COMPARISON:\n",
      "(321, 332) IMPRESSION:\n"
     ]
    },
    {
     "data": {
      "text/plain": [
       "'Previous moderate left pleural effusion and left lower lobe collapse have improved has the patient had thoracentesis? There is no pneumothorax. Moderate enlarged of the cardiac silhouette is clear due to cardiomegaly and/or pericardial effusion and there is new mild interstitial edema in the right lower lung. Hemodialysis catheter ends in the right atrium as before.'"
      ]
     },
     "execution_count": 309,
     "metadata": {},
     "output_type": "execute_result"
    }
   ],
   "source": [
    "extract_findings_and_impression(report_path='/mnt/data/mimic-cxr/files/p19/p19809627/s54845503.txt', debug=True)"
   ]
  },
  {
   "cell_type": "code",
   "execution_count": 265,
   "metadata": {},
   "outputs": [
    {
     "name": "stdout",
     "output_type": "stream",
     "text": [
      "                                 FINAL REPORT\n",
      " REASON FOR EXAMINATION:  Followup of the patient intubated with NG tube.\n",
      " \n",
      " COMPARISON:  ___.\n",
      " \n",
      " ET tube tip is 4.5 cm above the carina.  NG tube tip is in the stomach.  Heart\n",
      " size and mediastinum are unremarkable.  Right lower lobe opacity and minimal\n",
      " left basal opacities appear unchanged, as previously mentioned potentially\n",
      " demonstrating atelectasis versus infectious process.  Given the unchanged\n",
      " appearance of those abnormalities, aspiration is less likely.\n",
      "\n",
      "spans = [(47, 70), (123, 134)]\n",
      "(47, 70) REASON FOR EXAMINATION:\n",
      "(123, 134) COMPARISON:\n"
     ]
    },
    {
     "data": {
      "text/plain": [
       "'ET tube tip is 4.5 cm above the carina. NG tube tip is in the stomach. Heart size and mediastinum are unremarkable. Right lower lobe opacity and minimal left basal opacities appear unchanged, as previously mentioned potentially demonstrating atelectasis versus infectious process. Given the unchanged appearance of those abnormalities, aspiration is less likely.'"
      ]
     },
     "execution_count": 265,
     "metadata": {},
     "output_type": "execute_result"
    }
   ],
   "source": [
    "extract_findings_and_impression(report_path='/mnt/data/mimic-cxr/files/p19/p19999068/s59390811.txt', debug=True)"
   ]
  },
  {
   "cell_type": "code",
   "execution_count": 266,
   "metadata": {},
   "outputs": [
    {
     "name": "stdout",
     "output_type": "stream",
     "text": [
      "                                 FINAL REPORT\n",
      " INDICATION:  Positive PPD\n",
      " \n",
      " TECHNIQUE:  Chest PA and lateral\n",
      " \n",
      " COMPARISON:  ___\n",
      " \n",
      " FINDINGS: \n",
      " \n",
      " The lungs are clear of airspace or interstitial opacity.  The\n",
      " cardiomediastinal silhouette is unremarkable.  No pleural effusions or\n",
      " pneumothorax.  No acute or aggressive osseus changes.\n",
      " \n",
      " IMPRESSION:\n",
      " \n",
      " \n",
      " No evidence of active or latent TB.\n",
      "\n",
      "spans = [(47, 58), (76, 86), (112, 123), (129, 138), (335, 346)]\n",
      "(47, 58) INDICATION:\n",
      "(76, 86) TECHNIQUE:\n",
      "(112, 123) COMPARISON:\n",
      "(129, 138) FINDINGS:\n",
      "(335, 346) IMPRESSION:\n"
     ]
    },
    {
     "data": {
      "text/plain": [
       "'The lungs are clear of airspace or interstitial opacity. The cardiomediastinal silhouette is unremarkable. No pleural effusions or pneumothorax. No acute or aggressive osseus changes. No evidence of active or latent TB.'"
      ]
     },
     "execution_count": 266,
     "metadata": {},
     "output_type": "execute_result"
    }
   ],
   "source": [
    "extract_findings_and_impression(report_path='/mnt/data/mimic-cxr/files/p19/p19999270/s56267753.txt', debug=True)"
   ]
  },
  {
   "cell_type": "markdown",
   "metadata": {},
   "source": [
    "# MIMIC-CXR test set labels"
   ]
  },
  {
   "cell_type": "code",
   "execution_count": 2,
   "metadata": {},
   "outputs": [],
   "source": [
    "mimiccxr_official_labels = pd.read_csv('/mnt/data/mimic-cxr-jpg/mimic-cxr-2.0.0-chexpert.csv')"
   ]
  },
  {
   "cell_type": "code",
   "execution_count": 3,
   "metadata": {},
   "outputs": [
    {
     "data": {
      "text/html": [
       "<div>\n",
       "<style scoped>\n",
       "    .dataframe tbody tr th:only-of-type {\n",
       "        vertical-align: middle;\n",
       "    }\n",
       "\n",
       "    .dataframe tbody tr th {\n",
       "        vertical-align: top;\n",
       "    }\n",
       "\n",
       "    .dataframe thead th {\n",
       "        text-align: right;\n",
       "    }\n",
       "</style>\n",
       "<table border=\"1\" class=\"dataframe\">\n",
       "  <thead>\n",
       "    <tr style=\"text-align: right;\">\n",
       "      <th></th>\n",
       "      <th>subject_id</th>\n",
       "      <th>study_id</th>\n",
       "      <th>Atelectasis</th>\n",
       "      <th>Cardiomegaly</th>\n",
       "      <th>Consolidation</th>\n",
       "      <th>Edema</th>\n",
       "      <th>Enlarged Cardiomediastinum</th>\n",
       "      <th>Fracture</th>\n",
       "      <th>Lung Lesion</th>\n",
       "      <th>Lung Opacity</th>\n",
       "      <th>No Finding</th>\n",
       "      <th>Pleural Effusion</th>\n",
       "      <th>Pleural Other</th>\n",
       "      <th>Pneumonia</th>\n",
       "      <th>Pneumothorax</th>\n",
       "      <th>Support Devices</th>\n",
       "    </tr>\n",
       "  </thead>\n",
       "  <tbody>\n",
       "    <tr>\n",
       "      <th>0</th>\n",
       "      <td>10000032</td>\n",
       "      <td>50414267</td>\n",
       "      <td>NaN</td>\n",
       "      <td>NaN</td>\n",
       "      <td>NaN</td>\n",
       "      <td>NaN</td>\n",
       "      <td>NaN</td>\n",
       "      <td>NaN</td>\n",
       "      <td>NaN</td>\n",
       "      <td>NaN</td>\n",
       "      <td>1.0</td>\n",
       "      <td>NaN</td>\n",
       "      <td>NaN</td>\n",
       "      <td>NaN</td>\n",
       "      <td>NaN</td>\n",
       "      <td>NaN</td>\n",
       "    </tr>\n",
       "    <tr>\n",
       "      <th>1</th>\n",
       "      <td>10000032</td>\n",
       "      <td>53189527</td>\n",
       "      <td>NaN</td>\n",
       "      <td>NaN</td>\n",
       "      <td>NaN</td>\n",
       "      <td>NaN</td>\n",
       "      <td>NaN</td>\n",
       "      <td>NaN</td>\n",
       "      <td>NaN</td>\n",
       "      <td>NaN</td>\n",
       "      <td>1.0</td>\n",
       "      <td>NaN</td>\n",
       "      <td>NaN</td>\n",
       "      <td>NaN</td>\n",
       "      <td>NaN</td>\n",
       "      <td>NaN</td>\n",
       "    </tr>\n",
       "    <tr>\n",
       "      <th>2</th>\n",
       "      <td>10000032</td>\n",
       "      <td>53911762</td>\n",
       "      <td>NaN</td>\n",
       "      <td>NaN</td>\n",
       "      <td>NaN</td>\n",
       "      <td>NaN</td>\n",
       "      <td>NaN</td>\n",
       "      <td>NaN</td>\n",
       "      <td>NaN</td>\n",
       "      <td>NaN</td>\n",
       "      <td>1.0</td>\n",
       "      <td>NaN</td>\n",
       "      <td>NaN</td>\n",
       "      <td>NaN</td>\n",
       "      <td>NaN</td>\n",
       "      <td>NaN</td>\n",
       "    </tr>\n",
       "    <tr>\n",
       "      <th>3</th>\n",
       "      <td>10000032</td>\n",
       "      <td>56699142</td>\n",
       "      <td>NaN</td>\n",
       "      <td>NaN</td>\n",
       "      <td>NaN</td>\n",
       "      <td>NaN</td>\n",
       "      <td>NaN</td>\n",
       "      <td>NaN</td>\n",
       "      <td>NaN</td>\n",
       "      <td>NaN</td>\n",
       "      <td>1.0</td>\n",
       "      <td>NaN</td>\n",
       "      <td>NaN</td>\n",
       "      <td>NaN</td>\n",
       "      <td>NaN</td>\n",
       "      <td>NaN</td>\n",
       "    </tr>\n",
       "    <tr>\n",
       "      <th>4</th>\n",
       "      <td>10000764</td>\n",
       "      <td>57375967</td>\n",
       "      <td>NaN</td>\n",
       "      <td>NaN</td>\n",
       "      <td>1.0</td>\n",
       "      <td>NaN</td>\n",
       "      <td>NaN</td>\n",
       "      <td>NaN</td>\n",
       "      <td>NaN</td>\n",
       "      <td>NaN</td>\n",
       "      <td>NaN</td>\n",
       "      <td>NaN</td>\n",
       "      <td>NaN</td>\n",
       "      <td>-1.0</td>\n",
       "      <td>NaN</td>\n",
       "      <td>NaN</td>\n",
       "    </tr>\n",
       "    <tr>\n",
       "      <th>...</th>\n",
       "      <td>...</td>\n",
       "      <td>...</td>\n",
       "      <td>...</td>\n",
       "      <td>...</td>\n",
       "      <td>...</td>\n",
       "      <td>...</td>\n",
       "      <td>...</td>\n",
       "      <td>...</td>\n",
       "      <td>...</td>\n",
       "      <td>...</td>\n",
       "      <td>...</td>\n",
       "      <td>...</td>\n",
       "      <td>...</td>\n",
       "      <td>...</td>\n",
       "      <td>...</td>\n",
       "      <td>...</td>\n",
       "    </tr>\n",
       "    <tr>\n",
       "      <th>227822</th>\n",
       "      <td>19999442</td>\n",
       "      <td>58708861</td>\n",
       "      <td>NaN</td>\n",
       "      <td>NaN</td>\n",
       "      <td>NaN</td>\n",
       "      <td>NaN</td>\n",
       "      <td>NaN</td>\n",
       "      <td>NaN</td>\n",
       "      <td>NaN</td>\n",
       "      <td>NaN</td>\n",
       "      <td>1.0</td>\n",
       "      <td>NaN</td>\n",
       "      <td>NaN</td>\n",
       "      <td>NaN</td>\n",
       "      <td>NaN</td>\n",
       "      <td>1.0</td>\n",
       "    </tr>\n",
       "    <tr>\n",
       "      <th>227823</th>\n",
       "      <td>19999733</td>\n",
       "      <td>57132437</td>\n",
       "      <td>NaN</td>\n",
       "      <td>NaN</td>\n",
       "      <td>NaN</td>\n",
       "      <td>NaN</td>\n",
       "      <td>NaN</td>\n",
       "      <td>NaN</td>\n",
       "      <td>NaN</td>\n",
       "      <td>NaN</td>\n",
       "      <td>1.0</td>\n",
       "      <td>NaN</td>\n",
       "      <td>NaN</td>\n",
       "      <td>NaN</td>\n",
       "      <td>NaN</td>\n",
       "      <td>NaN</td>\n",
       "    </tr>\n",
       "    <tr>\n",
       "      <th>227824</th>\n",
       "      <td>19999987</td>\n",
       "      <td>55368167</td>\n",
       "      <td>1.0</td>\n",
       "      <td>-1.0</td>\n",
       "      <td>NaN</td>\n",
       "      <td>NaN</td>\n",
       "      <td>NaN</td>\n",
       "      <td>NaN</td>\n",
       "      <td>0.0</td>\n",
       "      <td>NaN</td>\n",
       "      <td>NaN</td>\n",
       "      <td>0.0</td>\n",
       "      <td>NaN</td>\n",
       "      <td>NaN</td>\n",
       "      <td>0.0</td>\n",
       "      <td>NaN</td>\n",
       "    </tr>\n",
       "    <tr>\n",
       "      <th>227825</th>\n",
       "      <td>19999987</td>\n",
       "      <td>58621812</td>\n",
       "      <td>1.0</td>\n",
       "      <td>NaN</td>\n",
       "      <td>NaN</td>\n",
       "      <td>NaN</td>\n",
       "      <td>NaN</td>\n",
       "      <td>NaN</td>\n",
       "      <td>NaN</td>\n",
       "      <td>NaN</td>\n",
       "      <td>NaN</td>\n",
       "      <td>NaN</td>\n",
       "      <td>NaN</td>\n",
       "      <td>NaN</td>\n",
       "      <td>NaN</td>\n",
       "      <td>1.0</td>\n",
       "    </tr>\n",
       "    <tr>\n",
       "      <th>227826</th>\n",
       "      <td>19999987</td>\n",
       "      <td>58971208</td>\n",
       "      <td>1.0</td>\n",
       "      <td>NaN</td>\n",
       "      <td>NaN</td>\n",
       "      <td>NaN</td>\n",
       "      <td>NaN</td>\n",
       "      <td>NaN</td>\n",
       "      <td>NaN</td>\n",
       "      <td>NaN</td>\n",
       "      <td>NaN</td>\n",
       "      <td>NaN</td>\n",
       "      <td>NaN</td>\n",
       "      <td>NaN</td>\n",
       "      <td>NaN</td>\n",
       "      <td>NaN</td>\n",
       "    </tr>\n",
       "  </tbody>\n",
       "</table>\n",
       "<p>227827 rows × 16 columns</p>\n",
       "</div>"
      ],
      "text/plain": [
       "        subject_id  study_id  Atelectasis  Cardiomegaly  Consolidation  Edema  \\\n",
       "0         10000032  50414267          NaN           NaN            NaN    NaN   \n",
       "1         10000032  53189527          NaN           NaN            NaN    NaN   \n",
       "2         10000032  53911762          NaN           NaN            NaN    NaN   \n",
       "3         10000032  56699142          NaN           NaN            NaN    NaN   \n",
       "4         10000764  57375967          NaN           NaN            1.0    NaN   \n",
       "...            ...       ...          ...           ...            ...    ...   \n",
       "227822    19999442  58708861          NaN           NaN            NaN    NaN   \n",
       "227823    19999733  57132437          NaN           NaN            NaN    NaN   \n",
       "227824    19999987  55368167          1.0          -1.0            NaN    NaN   \n",
       "227825    19999987  58621812          1.0           NaN            NaN    NaN   \n",
       "227826    19999987  58971208          1.0           NaN            NaN    NaN   \n",
       "\n",
       "        Enlarged Cardiomediastinum  Fracture  Lung Lesion  Lung Opacity  \\\n",
       "0                              NaN       NaN          NaN           NaN   \n",
       "1                              NaN       NaN          NaN           NaN   \n",
       "2                              NaN       NaN          NaN           NaN   \n",
       "3                              NaN       NaN          NaN           NaN   \n",
       "4                              NaN       NaN          NaN           NaN   \n",
       "...                            ...       ...          ...           ...   \n",
       "227822                         NaN       NaN          NaN           NaN   \n",
       "227823                         NaN       NaN          NaN           NaN   \n",
       "227824                         NaN       NaN          0.0           NaN   \n",
       "227825                         NaN       NaN          NaN           NaN   \n",
       "227826                         NaN       NaN          NaN           NaN   \n",
       "\n",
       "        No Finding  Pleural Effusion  Pleural Other  Pneumonia  Pneumothorax  \\\n",
       "0              1.0               NaN            NaN        NaN           NaN   \n",
       "1              1.0               NaN            NaN        NaN           NaN   \n",
       "2              1.0               NaN            NaN        NaN           NaN   \n",
       "3              1.0               NaN            NaN        NaN           NaN   \n",
       "4              NaN               NaN            NaN       -1.0           NaN   \n",
       "...            ...               ...            ...        ...           ...   \n",
       "227822         1.0               NaN            NaN        NaN           NaN   \n",
       "227823         1.0               NaN            NaN        NaN           NaN   \n",
       "227824         NaN               0.0            NaN        NaN           0.0   \n",
       "227825         NaN               NaN            NaN        NaN           NaN   \n",
       "227826         NaN               NaN            NaN        NaN           NaN   \n",
       "\n",
       "        Support Devices  \n",
       "0                   NaN  \n",
       "1                   NaN  \n",
       "2                   NaN  \n",
       "3                   NaN  \n",
       "4                   NaN  \n",
       "...                 ...  \n",
       "227822              1.0  \n",
       "227823              NaN  \n",
       "227824              NaN  \n",
       "227825              1.0  \n",
       "227826              NaN  \n",
       "\n",
       "[227827 rows x 16 columns]"
      ]
     },
     "execution_count": 3,
     "metadata": {},
     "output_type": "execute_result"
    }
   ],
   "source": [
    "mimiccxr_official_labels"
   ]
  },
  {
   "cell_type": "code",
   "execution_count": 4,
   "metadata": {},
   "outputs": [],
   "source": [
    "mimiccxr_split_df = pd.read_csv('/mnt/data/mimic-cxr-jpg/mimic-cxr-2.0.0-split.csv')"
   ]
  },
  {
   "cell_type": "code",
   "execution_count": 5,
   "metadata": {},
   "outputs": [
    {
     "data": {
      "text/html": [
       "<div>\n",
       "<style scoped>\n",
       "    .dataframe tbody tr th:only-of-type {\n",
       "        vertical-align: middle;\n",
       "    }\n",
       "\n",
       "    .dataframe tbody tr th {\n",
       "        vertical-align: top;\n",
       "    }\n",
       "\n",
       "    .dataframe thead th {\n",
       "        text-align: right;\n",
       "    }\n",
       "</style>\n",
       "<table border=\"1\" class=\"dataframe\">\n",
       "  <thead>\n",
       "    <tr style=\"text-align: right;\">\n",
       "      <th></th>\n",
       "      <th>dicom_id</th>\n",
       "      <th>study_id</th>\n",
       "      <th>subject_id</th>\n",
       "      <th>split</th>\n",
       "    </tr>\n",
       "  </thead>\n",
       "  <tbody>\n",
       "    <tr>\n",
       "      <th>0</th>\n",
       "      <td>02aa804e-bde0afdd-112c0b34-7bc16630-4e384014</td>\n",
       "      <td>50414267</td>\n",
       "      <td>10000032</td>\n",
       "      <td>train</td>\n",
       "    </tr>\n",
       "    <tr>\n",
       "      <th>1</th>\n",
       "      <td>174413ec-4ec4c1f7-34ea26b7-c5f994f8-79ef1962</td>\n",
       "      <td>50414267</td>\n",
       "      <td>10000032</td>\n",
       "      <td>train</td>\n",
       "    </tr>\n",
       "    <tr>\n",
       "      <th>2</th>\n",
       "      <td>2a2277a9-b0ded155-c0de8eb9-c124d10e-82c5caab</td>\n",
       "      <td>53189527</td>\n",
       "      <td>10000032</td>\n",
       "      <td>train</td>\n",
       "    </tr>\n",
       "    <tr>\n",
       "      <th>3</th>\n",
       "      <td>e084de3b-be89b11e-20fe3f9f-9c8d8dfe-4cfd202c</td>\n",
       "      <td>53189527</td>\n",
       "      <td>10000032</td>\n",
       "      <td>train</td>\n",
       "    </tr>\n",
       "    <tr>\n",
       "      <th>4</th>\n",
       "      <td>68b5c4b1-227d0485-9cc38c3f-7b84ab51-4b472714</td>\n",
       "      <td>53911762</td>\n",
       "      <td>10000032</td>\n",
       "      <td>train</td>\n",
       "    </tr>\n",
       "    <tr>\n",
       "      <th>...</th>\n",
       "      <td>...</td>\n",
       "      <td>...</td>\n",
       "      <td>...</td>\n",
       "      <td>...</td>\n",
       "    </tr>\n",
       "    <tr>\n",
       "      <th>377105</th>\n",
       "      <td>428e2c18-5721d8f3-35a05001-36f3d080-9053b83c</td>\n",
       "      <td>57132437</td>\n",
       "      <td>19999733</td>\n",
       "      <td>train</td>\n",
       "    </tr>\n",
       "    <tr>\n",
       "      <th>377106</th>\n",
       "      <td>58c403aa-35ff8bd9-73e39f54-8dc9cc5d-e0ec3fa9</td>\n",
       "      <td>57132437</td>\n",
       "      <td>19999733</td>\n",
       "      <td>train</td>\n",
       "    </tr>\n",
       "    <tr>\n",
       "      <th>377107</th>\n",
       "      <td>58766883-376a15ce-3b323a28-6af950a0-16b793bd</td>\n",
       "      <td>55368167</td>\n",
       "      <td>19999987</td>\n",
       "      <td>train</td>\n",
       "    </tr>\n",
       "    <tr>\n",
       "      <th>377108</th>\n",
       "      <td>7ba273af-3d290f8d-e28d0ab4-484b7a86-7fc12b08</td>\n",
       "      <td>58621812</td>\n",
       "      <td>19999987</td>\n",
       "      <td>train</td>\n",
       "    </tr>\n",
       "    <tr>\n",
       "      <th>377109</th>\n",
       "      <td>1a1fe7e3-cbac5d93-b339aeda-86bb86b5-4f31e82e</td>\n",
       "      <td>58971208</td>\n",
       "      <td>19999987</td>\n",
       "      <td>train</td>\n",
       "    </tr>\n",
       "  </tbody>\n",
       "</table>\n",
       "<p>377110 rows × 4 columns</p>\n",
       "</div>"
      ],
      "text/plain": [
       "                                            dicom_id  study_id  subject_id  \\\n",
       "0       02aa804e-bde0afdd-112c0b34-7bc16630-4e384014  50414267    10000032   \n",
       "1       174413ec-4ec4c1f7-34ea26b7-c5f994f8-79ef1962  50414267    10000032   \n",
       "2       2a2277a9-b0ded155-c0de8eb9-c124d10e-82c5caab  53189527    10000032   \n",
       "3       e084de3b-be89b11e-20fe3f9f-9c8d8dfe-4cfd202c  53189527    10000032   \n",
       "4       68b5c4b1-227d0485-9cc38c3f-7b84ab51-4b472714  53911762    10000032   \n",
       "...                                              ...       ...         ...   \n",
       "377105  428e2c18-5721d8f3-35a05001-36f3d080-9053b83c  57132437    19999733   \n",
       "377106  58c403aa-35ff8bd9-73e39f54-8dc9cc5d-e0ec3fa9  57132437    19999733   \n",
       "377107  58766883-376a15ce-3b323a28-6af950a0-16b793bd  55368167    19999987   \n",
       "377108  7ba273af-3d290f8d-e28d0ab4-484b7a86-7fc12b08  58621812    19999987   \n",
       "377109  1a1fe7e3-cbac5d93-b339aeda-86bb86b5-4f31e82e  58971208    19999987   \n",
       "\n",
       "        split  \n",
       "0       train  \n",
       "1       train  \n",
       "2       train  \n",
       "3       train  \n",
       "4       train  \n",
       "...       ...  \n",
       "377105  train  \n",
       "377106  train  \n",
       "377107  train  \n",
       "377108  train  \n",
       "377109  train  \n",
       "\n",
       "[377110 rows x 4 columns]"
      ]
     },
     "execution_count": 5,
     "metadata": {},
     "output_type": "execute_result"
    }
   ],
   "source": [
    "mimiccxr_split_df"
   ]
  },
  {
   "cell_type": "code",
   "execution_count": 15,
   "metadata": {},
   "outputs": [
    {
     "data": {
      "text/plain": [
       "{'sentences': ['Heart size is normal',\n",
       "  'There are mild aortic knob calcifications',\n",
       "  'Cardiomediastinal silhouette and hilar contours are otherwise unremarkable',\n",
       "  'Lungs are clear',\n",
       "  'Pleural surfaces are clear without effusion or pneumothorax',\n",
       "  'No acute cardiopulmonary abnormality'],\n",
       " 'invalid': [],\n",
       " 'unmatched': [],\n",
       " 'matched': [0, 1, 2, 3, 4, 5],\n",
       " 'qa': {'48': [0, 5],\n",
       "  '90': [1],\n",
       "  '24': [1],\n",
       "  '75': [2],\n",
       "  '26': [2],\n",
       "  '63': [2],\n",
       "  '59': [3, 5],\n",
       "  '68': [4],\n",
       "  '73': [4]},\n",
       " 'question_ids': [48, 90, 24, 75, 26, 63, 59, 68, 73],\n",
       " 'filepath': '/mnt/data/mimic-cxr/files/p10/p10703179/s58829627.txt'}"
      ]
     },
     "execution_count": 15,
     "metadata": {},
     "output_type": "execute_result"
    }
   ],
   "source": [
    "mimiccxr_qa_adapted_reports['reports'][0]"
   ]
  },
  {
   "cell_type": "code",
   "execution_count": 16,
   "metadata": {},
   "outputs": [],
   "source": [
    "from medvqa.datasets.mimiccxr.mimiccxr_vqa_dataset_management import _MIMICCXR_STUDY_REGEX"
   ]
  },
  {
   "cell_type": "code",
   "execution_count": 25,
   "metadata": {},
   "outputs": [
    {
     "data": {
      "text/plain": [
       "[1.0, nan, nan, nan, nan, nan, nan, nan, nan, nan, nan, nan, nan, nan]"
      ]
     },
     "execution_count": 25,
     "metadata": {},
     "output_type": "execute_result"
    }
   ],
   "source": [
    "mimiccxr_official_labels.iloc[0][CHEXPERT_LABELS].tolist()"
   ]
  },
  {
   "cell_type": "code",
   "execution_count": 50,
   "metadata": {},
   "outputs": [],
   "source": [
    "def find_inconsistencies_mimiccxr_official_test_set():\n",
    "    split_dict = {}\n",
    "    for study_id, subject_id, split in tqdm(zip(mimiccxr_split_df['study_id'],\n",
    "                                           mimiccxr_split_df['subject_id'],\n",
    "                                           mimiccxr_split_df['split'])):\n",
    "        split_dict[(study_id, subject_id)] = split\n",
    "        \n",
    "    labels_dict = {}\n",
    "    labels_mat = mimiccxr_official_labels[CHEXPERT_LABELS].values\n",
    "    for i, (study_id, subject_id) in tqdm(enumerate(zip(mimiccxr_official_labels['study_id'],\n",
    "                                                       mimiccxr_official_labels['subject_id']))):        \n",
    "        labels_dict[(study_id, subject_id)] = labels_mat[i]\n",
    "    \n",
    "    inconsistencies = []\n",
    "    \n",
    "    def binary_score(x):\n",
    "        if np.isnan(x): return 0\n",
    "        if x == -1: return 1\n",
    "        return int(x)\n",
    "    \n",
    "    adapted_reports = mimiccxr_qa_adapted_reports['reports']\n",
    "    n = len(adapted_reports)\n",
    "    test_count = 0\n",
    "    for i in tqdm(range(n)):\n",
    "        report = adapted_reports[i]\n",
    "        _, subject_id, study_id = map(int, _MIMICCXR_STUDY_REGEX.findall(report['filepath'])[0])\n",
    "        key = (study_id, subject_id)\n",
    "        if split_dict[key] == 'test':\n",
    "            test_count += 1\n",
    "            labels_official = [binary_score(x) for x in labels_dict[key]]\n",
    "            labels_mine = mimiccxr_chexpert_labels_mine[i]\n",
    "            if not all(labels_official[i] <= labels_mine[i] for i in range(len(CHEXPERT_LABELS))):\n",
    "                inconsistencies.append((\n",
    "                    labels_dict[key],\n",
    "                    labels_official,\n",
    "                    labels_mine.tolist(),\n",
    "                    report,\n",
    "                ))\n",
    "    print('test_count =', test_count)\n",
    "    return inconsistencies        "
   ]
  },
  {
   "cell_type": "code",
   "execution_count": 51,
   "metadata": {},
   "outputs": [],
   "source": [
    "def print_labels(labels):\n",
    "    print('(', end='')\n",
    "    for i in range(len(labels)):\n",
    "        if labels[i] == 1 or labels[i] == -1:\n",
    "            print(CHEXPERT_LABELS[i], ',', end='')\n",
    "    print(')')\n",
    "def print_inconsistency(t):\n",
    "    print(t[0])\n",
    "    print()\n",
    "    print(t[1])\n",
    "    print(t[2])\n",
    "    print()\n",
    "    print(\"In official: \", end='')\n",
    "    for i in range(len(CHEXPERT_LABELS)):\n",
    "        if (t[1][i] and not t[2][i]):\n",
    "            print(CHEXPERT_LABELS[i], ',', end='')\n",
    "    print()\n",
    "    print(\"In mine: \", end='')\n",
    "    for i in range(len(CHEXPERT_LABELS)):\n",
    "        if (not t[1][i] and t[2][i]):\n",
    "            print(CHEXPERT_LABELS[i], ',', end='')\n",
    "    print()\n",
    "    print()\n",
    "    print(t[3])\n",
    "    print()\n",
    "    with open(t[3]['filepath'], 'r') as f:\n",
    "        print(f.read())\n",
    "#     print()\n",
    "#     for x in t[3].split('.'):\n",
    "#         x = x.strip()\n",
    "#         y = tokenizer.clean_text(x)\n",
    "#         print(x, end=' ')\n",
    "#         try:\n",
    "#             print_labels(precomputed_chexpert_labels[hash_string(y)])\n",
    "#         except KeyError:\n",
    "#             print()\n",
    "#     print()\n",
    "#     for x in [tokenizer.clean_text(t[4]['sentences'][i]) for i in t[4]['matched']]:\n",
    "#         print(x, end=' ')\n",
    "#         print_labels(precomputed_chexpert_labels[hash_string(x)])\n",
    "#     print()\n",
    "#     print()\n",
    "#     print(t[4])"
   ]
  },
  {
   "cell_type": "code",
   "execution_count": 52,
   "metadata": {},
   "outputs": [
    {
     "name": "stderr",
     "output_type": "stream",
     "text": [
      "377110it [00:00, 1712480.72it/s]\n",
      "227827it [00:00, 1531373.76it/s]\n",
      "100%|██████████| 227835/227835 [00:00<00:00, 474141.17it/s]"
     ]
    },
    {
     "name": "stdout",
     "output_type": "stream",
     "text": [
      "test_count = 3269\n"
     ]
    },
    {
     "name": "stderr",
     "output_type": "stream",
     "text": [
      "\n"
     ]
    }
   ],
   "source": [
    "inconsistencies = find_inconsistencies_mimiccxr_official_test_set()"
   ]
  },
  {
   "cell_type": "code",
   "execution_count": 53,
   "metadata": {},
   "outputs": [
    {
     "data": {
      "text/plain": [
       "502"
      ]
     },
     "execution_count": 53,
     "metadata": {},
     "output_type": "execute_result"
    }
   ],
   "source": [
    "len(inconsistencies)"
   ]
  },
  {
   "cell_type": "code",
   "execution_count": 56,
   "metadata": {},
   "outputs": [
    {
     "name": "stdout",
     "output_type": "stream",
     "text": [
      "[ 1. nan nan nan nan nan nan nan nan  0. nan nan nan  1.]\n",
      "\n",
      "[1, 0, 0, 0, 0, 0, 0, 0, 0, 0, 0, 0, 0, 1]\n",
      "[0, 0, 1, 0, 0, 0, 0, 0, 1, 0, 0, 0, 0, 1]\n",
      "\n",
      "In official: No Finding ,\n",
      "In mine: Cardiomegaly ,Atelectasis ,\n",
      "\n",
      "{'sentences': ['lateral views of the chest', 'The dual-chamber transvenous pacemaker leads are in the appropriate position in the right atrium and right ventricle', 'No pneumothorax , mediastinal widening or evidence of hemothorax', 'No pleural effusion', 'Mild cardiomegaly stable', 'Left mild basilar atelectasis', 'No evidence of pneumonia', 'Dual-chamber transvenous pacemaker leads are in appropriate positions', 'No evidence of pneumothorax , mediastinal widening , or evidence of hemothorax'], 'invalid': [], 'unmatched': [0], 'matched': [1, 2, 3, 4, 5, 6, 7, 8], 'qa': {'95': [1, 7], '48': [1, 4], '87': [1, 7], '73': [2, 8], '63': [2, 8], '68': [3], '27': [4], '59': [5], '11': [5], '71': [6]}, 'question_ids': [95, 48, 87, 73, 63, 68, 27, 59, 11, 71], 'filepath': '/mnt/data/mimic-cxr/files/p19/p19075045/s57617376.txt'}\n",
      "\n",
      "                                 FINAL REPORT\n",
      " INDICATION:  Dual-chamber pacemaker placement.  Evaluate lead position.\n",
      " \n",
      " COMPARISON:  Chest radiograph on ___.\n",
      " \n",
      " FINDINGS:  PA and lateral views of the chest.  The dual-chamber transvenous\n",
      " pacemaker leads are in the appropriate position in the right atrium and right\n",
      " ventricle.  No pneumothorax, mediastinal widening or evidence of hemothorax. \n",
      " No pleural effusion.  Mild cardiomegaly stable.  Left mild basilar\n",
      " atelectasis.  No evidence of pneumonia.\n",
      " \n",
      " IMPRESSION:  Dual-chamber transvenous pacemaker leads are in appropriate\n",
      " positions.  No evidence of pneumothorax, mediastinal widening, or evidence of\n",
      " hemothorax.\n",
      "\n"
     ]
    }
   ],
   "source": [
    "print_inconsistency(inconsistencies[-1])"
   ]
  },
  {
   "cell_type": "markdown",
   "metadata": {},
   "source": [
    "# CheXpert labels: old vs new"
   ]
  },
  {
   "cell_type": "markdown",
   "metadata": {},
   "source": [
    "### Old versions"
   ]
  },
  {
   "cell_type": "code",
   "execution_count": 8,
   "metadata": {},
   "outputs": [],
   "source": [
    "iuxray_qa_adapted_reports_path__old = os.path.join(IUXRAY_CACHE_DIR, 'qa_adapted_reports__20220629_042239.json')\n",
    "iuxray_qa_adapted_reports__old = load_json_file(iuxray_qa_adapted_reports_path__old)"
   ]
  },
  {
   "cell_type": "code",
   "execution_count": 4,
   "metadata": {},
   "outputs": [],
   "source": [
    "mimiccxr_qa_adapted_reports_path__old = os.path.join(MIMICCXR_CACHE_DIR, 'qa_adapted_reports__20220629_050643.json')\n",
    "mimiccxr_qa_adapted_reports__old = load_json_file(mimiccxr_qa_adapted_reports_path__old)"
   ]
  },
  {
   "cell_type": "code",
   "execution_count": 5,
   "metadata": {},
   "outputs": [
    {
     "name": "stdout",
     "output_type": "stream",
     "text": [
      "Loading /home/pamessina/medvqa-workspace/cache/vocab__min_freq=5__mode=report__from(qa_adapted_reports__20220629_042239.json;qa_adapted_reports__20220629_050643.json).pkl ...\n"
     ]
    }
   ],
   "source": [
    "tokenizer__old = Tokenizer(qa_adapted_dataset_paths=[\n",
    "    iuxray_qa_adapted_reports_path__old,\n",
    "    mimiccxr_qa_adapted_reports_path__old])"
   ]
  },
  {
   "cell_type": "code",
   "execution_count": 6,
   "metadata": {},
   "outputs": [],
   "source": [
    "precomputed_chexpert_labels__old = load_pickle(os.path.join(CACHE_DIR, 'precomputed_chexpert_labels_20220629_053109.pkl'))"
   ]
  },
  {
   "cell_type": "code",
   "execution_count": 7,
   "metadata": {},
   "outputs": [
    {
     "data": {
      "text/plain": [
       "559200"
      ]
     },
     "execution_count": 7,
     "metadata": {},
     "output_type": "execute_result"
    }
   ],
   "source": [
    "len(precomputed_chexpert_labels__old)"
   ]
  },
  {
   "cell_type": "code",
   "execution_count": 23,
   "metadata": {},
   "outputs": [
    {
     "data": {
      "text/plain": [
       "3927"
      ]
     },
     "execution_count": 23,
     "metadata": {},
     "output_type": "execute_result"
    }
   ],
   "source": [
    "iuxray_chexpert_labels_per_report__old = load_pickle(os.path.join(IUXRAY_CACHE_DIR, 'chexpert_labels_per_report__20220629_055107.pkl'))\n",
    "len(iuxray_chexpert_labels_per_report__old)"
   ]
  },
  {
   "cell_type": "code",
   "execution_count": 24,
   "metadata": {},
   "outputs": [
    {
     "data": {
      "text/plain": [
       "227835"
      ]
     },
     "execution_count": 24,
     "metadata": {},
     "output_type": "execute_result"
    }
   ],
   "source": [
    "mimiccxr_chexpert_labels_per_report__old = load_pickle(os.path.join(MIMICCXR_CACHE_DIR, 'chexpert_labels_per_report__20220629_055159.pkl'))\n",
    "len(mimiccxr_chexpert_labels_per_report__old)"
   ]
  },
  {
   "cell_type": "markdown",
   "metadata": {},
   "source": [
    "### New versions"
   ]
  },
  {
   "cell_type": "code",
   "execution_count": 9,
   "metadata": {},
   "outputs": [],
   "source": [
    "iuxray_qa_adapted_reports_path__new = os.path.join(IUXRAY_CACHE_DIR, 'qa_adapted_reports__20220904_091601.json')\n",
    "iuxray_qa_adapted_reports__new = load_json_file(iuxray_qa_adapted_reports_path__new)"
   ]
  },
  {
   "cell_type": "code",
   "execution_count": 10,
   "metadata": {},
   "outputs": [],
   "source": [
    "mimiccxr_qa_adapted_reports_path__new = os.path.join(MIMICCXR_CACHE_DIR, 'qa_adapted_reports__20220904_095810.json')\n",
    "mimiccxr_qa_adapted_reports__new = load_json_file(mimiccxr_qa_adapted_reports_path__new)"
   ]
  },
  {
   "cell_type": "code",
   "execution_count": 11,
   "metadata": {},
   "outputs": [
    {
     "name": "stdout",
     "output_type": "stream",
     "text": [
      "Loading /home/pamessina/medvqa-workspace/cache/vocab__min_freq=5__mode=report__from(qa_adapted_reports__20220904_091601.json;qa_adapted_reports__20220904_095810.json).pkl ...\n"
     ]
    }
   ],
   "source": [
    "tokenizer__new = Tokenizer(qa_adapted_dataset_paths=[\n",
    "    iuxray_qa_adapted_reports_path__new,\n",
    "    mimiccxr_qa_adapted_reports_path__new])"
   ]
  },
  {
   "cell_type": "code",
   "execution_count": 12,
   "metadata": {},
   "outputs": [],
   "source": [
    "precomputed_chexpert_labels__new = load_pickle(os.path.join(CACHE_DIR, 'precomputed_chexpert_labels_20220904_105948.pkl'))"
   ]
  },
  {
   "cell_type": "code",
   "execution_count": 13,
   "metadata": {},
   "outputs": [
    {
     "data": {
      "text/plain": [
       "577148"
      ]
     },
     "execution_count": 13,
     "metadata": {},
     "output_type": "execute_result"
    }
   ],
   "source": [
    "len(precomputed_chexpert_labels__new)"
   ]
  },
  {
   "cell_type": "code",
   "execution_count": 25,
   "metadata": {},
   "outputs": [
    {
     "data": {
      "text/plain": [
       "3927"
      ]
     },
     "execution_count": 25,
     "metadata": {},
     "output_type": "execute_result"
    }
   ],
   "source": [
    "iuxray_chexpert_labels_per_report__new = load_pickle(os.path.join(IUXRAY_CACHE_DIR, 'chexpert_labels_per_report__20220904_113427.pkl'))\n",
    "len(iuxray_chexpert_labels_per_report__new)"
   ]
  },
  {
   "cell_type": "code",
   "execution_count": 26,
   "metadata": {},
   "outputs": [
    {
     "data": {
      "text/plain": [
       "227835"
      ]
     },
     "execution_count": 26,
     "metadata": {},
     "output_type": "execute_result"
    }
   ],
   "source": [
    "mimiccxr_chexpert_labels_per_report__new = load_pickle(os.path.join(MIMICCXR_CACHE_DIR, 'chexpert_labels_per_report__20220904_113605.pkl'))\n",
    "len(mimiccxr_chexpert_labels_per_report__new)"
   ]
  },
  {
   "cell_type": "markdown",
   "metadata": {},
   "source": [
    "## Comparisons MIMIC-CXR"
   ]
  },
  {
   "cell_type": "code",
   "execution_count": 93,
   "metadata": {},
   "outputs": [],
   "source": [
    "def rank_by_number_inconsistencies(old_labels, new_labels):\n",
    "    assert len(old_labels) == len(new_labels)\n",
    "    n = len(old_labels)\n",
    "    pairs = [None] * n\n",
    "    for i in range(n):\n",
    "        pairs[i] = ((old_labels[i] != new_labels[i]).sum(), i)\n",
    "    pairs.sort(reverse=True)\n",
    "    return pairs\n",
    "\n",
    "def inspect_inconsistency(old_reports, old_labels, new_reports, new_labels, i, path_key='filepath'):\n",
    "    assert old_reports['reports'][i][path_key] == new_reports['reports'][i][path_key]\n",
    "    \n",
    "    if path_key == 'filepath':\n",
    "        print(colored('========= ORIGINAL REPORT =======', 'blue'))\n",
    "        with open(old_reports['reports'][i][path_key], 'r') as f:\n",
    "            print(f.read())\n",
    "        \n",
    "    print(colored('========= OLD ==========', 'blue'))\n",
    "    print(old_reports['reports'][i])    \n",
    "    print()\n",
    "    print(old_labels[i])\n",
    "    print(', '.join(CHEXPERT_LABELS[j] for j in range(14) if old_labels[i][j]))\n",
    "    print()\n",
    "    \n",
    "    print(colored('========= NEW ==========', 'blue'))\n",
    "    print(new_reports['reports'][i])\n",
    "    print()\n",
    "    print(new_labels[i])\n",
    "    print(', '.join(CHEXPERT_LABELS[j] for j in range(14) if new_labels[i][j]))\n",
    "    print()"
   ]
  },
  {
   "cell_type": "code",
   "execution_count": 32,
   "metadata": {},
   "outputs": [],
   "source": [
    "mimiccxr_inconsistencies = rank_by_number_inconsistencies(\n",
    "    mimiccxr_chexpert_labels_per_report__old,\n",
    "    mimiccxr_chexpert_labels_per_report__new,\n",
    ")"
   ]
  },
  {
   "cell_type": "code",
   "execution_count": 33,
   "metadata": {},
   "outputs": [
    {
     "data": {
      "text/plain": [
       "[(8, 187050),\n",
       " (8, 174455),\n",
       " (8, 139739),\n",
       " (8, 77182),\n",
       " (8, 28150),\n",
       " (7, 227343),\n",
       " (7, 226206),\n",
       " (7, 221396),\n",
       " (7, 211299),\n",
       " (7, 177376)]"
      ]
     },
     "execution_count": 33,
     "metadata": {},
     "output_type": "execute_result"
    }
   ],
   "source": [
    "mimiccxr_inconsistencies[:10]"
   ]
  },
  {
   "cell_type": "code",
   "execution_count": 43,
   "metadata": {},
   "outputs": [
    {
     "data": {
      "text/plain": [
       "187050"
      ]
     },
     "execution_count": 43,
     "metadata": {},
     "output_type": "execute_result"
    }
   ],
   "source": [
    "mimiccxr_inconsistencies[0][1]"
   ]
  },
  {
   "cell_type": "code",
   "execution_count": 67,
   "metadata": {},
   "outputs": [
    {
     "data": {
      "image/png": "[encoded data removed]",
      "text/plain": [
       "<Figure size 432x288 with 1 Axes>"
      ]
     },
     "metadata": {
      "needs_background": "light"
     },
     "output_type": "display_data"
    }
   ],
   "source": [
    "plt.hist([x[0] for x in mimiccxr_inconsistencies], bins=14)\n",
    "plt.show()"
   ]
  },
  {
   "cell_type": "code",
   "execution_count": 68,
   "metadata": {
    "scrolled": true
   },
   "outputs": [
    {
     "data": {
      "image/png": "[encoded data removed]",
      "text/plain": [
       "<Figure size 432x288 with 1 Axes>"
      ]
     },
     "metadata": {
      "needs_background": "light"
     },
     "output_type": "display_data"
    }
   ],
   "source": [
    "plt.hist([x[0] for x in mimiccxr_inconsistencies if x[0] > 0], bins=14)\n",
    "plt.show()"
   ]
  },
  {
   "cell_type": "code",
   "execution_count": 60,
   "metadata": {},
   "outputs": [
    {
     "name": "stdout",
     "output_type": "stream",
     "text": [
      "\u001b[34m========= ORIGINAL REPORT =======\u001b[0m\n",
      "                                 FINAL REPORT\n",
      " HISTORY:  Status post CABG, evaluate left lower lobe effusion and atelectasis.\n",
      " \n",
      " CHEST, SINGLE AP PORTABLE VIEW.\n",
      " \n",
      " COMPARISON:  ___ chest x-ray at 8:04 a.m.\n",
      " \n",
      " Compared to the prior film, I doubt significant interval change.  Again seen\n",
      " is a pacemaker, sternotomy wires, enlarged cardiomediastinal silhouette,\n",
      " patchy opacity in left upper zone, increased retrocardiac density consistent\n",
      " with left lower lobe collapse and/or consolidation, and a small-to-moderate\n",
      " layering left effusion.  The right lung is grossly clear, with minimal\n",
      " vascular plethora, but no overt CHF.  Patchy cardiophrenic opacity is slightly\n",
      " improved.  No frank consolidation or effusion.\n",
      " \n",
      " IMPRESSION:  Grossly unchanged compared with one day prior.\n",
      "\n",
      "\u001b[34m========= OLD ==========\u001b[0m\n",
      "{'sentences': ['Grossly unchanged compared with one day prior.'], 'invalid': [0], 'unmatched': [], 'matched': [], 'qa': {}, 'question_ids': [], 'filepath': '/mnt/data/mimic-cxr/files/p19/p19075045/s53104217.txt'}\n",
      "\n",
      "[1 0 0 0 0 0 0 0 0 0 0 0 0 0]\n",
      "No Finding\n",
      "\n",
      "\u001b[34m========= NEW ==========\u001b[0m\n",
      "{'sentences': ['Compared to the prior film, I doubt significant interval change.', 'Again seen is a pacemaker , sternotomy wires , enlarged cardiomediastinal silhouette , patchy opacity in left upper zone , increased retrocardiac density consistent with left lower lobe collapse and /or consolidation , a small-to-moderate layering left effusion', 'The right lung is grossly clear , with minimal vascular plethora , no overt CHF', 'Patchy cardiophrenic opacity is slightly improved', 'No frank consolidation or effusion', 'Grossly unchanged compared with one day prior.'], 'invalid': [0, 5], 'unmatched': [], 'matched': [1, 2, 3, 4], 'qa': {'95': [1], '59': [1, 2], '68': [1, 4], '34': [1], '32': [1, 4], '26': [1], '63': [1], '87': [1], '65': [1, 3], '88': [1], '48': [2], '31': [2], '76': [2]}, 'question_ids': [95, 59, 68, 34, 32, 26, 63, 87, 65, 88, 48, 31, 76], 'filepath': '/mnt/data/mimic-cxr/files/p19/p19075045/s53104217.txt', 'background': 'history: Status post CABG, evaluate left lower lobe effusion and atelectasis.'}\n",
      "\n",
      "[0 1 0 0 1 0 1 0 1 0 1 0 0 1]\n",
      "Enlarged Cardiomediastinum, Lung Opacity, Consolidation, Atelectasis, Pleural Effusion, Support Devices\n",
      "\n"
     ]
    }
   ],
   "source": [
    "inspect_inconsistency(\n",
    "    mimiccxr_qa_adapted_reports__old,\n",
    "    mimiccxr_chexpert_labels_per_report__old,\n",
    "    mimiccxr_qa_adapted_reports__new,\n",
    "    mimiccxr_chexpert_labels_per_report__new,\n",
    "    mimiccxr_inconsistencies[5][1],\n",
    ")"
   ]
  },
  {
   "cell_type": "markdown",
   "metadata": {},
   "source": [
    "## MIMIC-CXR comparisons (test set)"
   ]
  },
  {
   "cell_type": "code",
   "execution_count": 62,
   "metadata": {},
   "outputs": [],
   "source": [
    "from medvqa.datasets.mimiccxr import MIMICCXR_STUDY_REGEX\n",
    "\n",
    "def get_mimiccxr_test_set_indices(mimiccxr_reports):\n",
    "    split_dict = {}\n",
    "    \n",
    "    mimiccxr_split_df = pd.read_csv('/mnt/data/mimic-cxr-jpg/mimic-cxr-2.0.0-split.csv')\n",
    "    \n",
    "    for study_id, subject_id, split in tqdm(zip(mimiccxr_split_df['study_id'],\n",
    "                                           mimiccxr_split_df['subject_id'],\n",
    "                                           mimiccxr_split_df['split'])):\n",
    "        split_dict[(study_id, subject_id)] = split\n",
    "    \n",
    "    adapted_reports = mimiccxr_reports['reports']\n",
    "    n = len(adapted_reports)\n",
    "    \n",
    "    indices = []\n",
    "    for i in tqdm(range(n)):\n",
    "        report = adapted_reports[i]\n",
    "        _, subject_id, study_id = map(int, MIMICCXR_STUDY_REGEX.findall(report['filepath'])[0])\n",
    "        key = (study_id, subject_id)\n",
    "        if split_dict[key] == 'test':\n",
    "            indices.append(i)\n",
    "            \n",
    "    return indices"
   ]
  },
  {
   "cell_type": "code",
   "execution_count": 63,
   "metadata": {},
   "outputs": [
    {
     "name": "stderr",
     "output_type": "stream",
     "text": [
      "377110it [00:00, 433741.65it/s]\n",
      "100%|██████████| 227835/227835 [00:01<00:00, 139285.05it/s]\n"
     ]
    }
   ],
   "source": [
    "mimiccxr_test_indices = get_mimiccxr_test_set_indices(mimiccxr_qa_adapted_reports__new)"
   ]
  },
  {
   "cell_type": "code",
   "execution_count": 64,
   "metadata": {},
   "outputs": [
    {
     "data": {
      "text/plain": [
       "3269"
      ]
     },
     "execution_count": 64,
     "metadata": {},
     "output_type": "execute_result"
    }
   ],
   "source": [
    "len(mimiccxr_test_indices)"
   ]
  },
  {
   "cell_type": "code",
   "execution_count": 71,
   "metadata": {},
   "outputs": [],
   "source": [
    "mimiccxr_test_indices_set = set(mimiccxr_test_indices)\n",
    "mimiccxr_inconsistencies_test = [x for x in mimiccxr_inconsistencies if x[1] in mimiccxr_test_indices_set]"
   ]
  },
  {
   "cell_type": "code",
   "execution_count": 73,
   "metadata": {},
   "outputs": [
    {
     "data": {
      "text/plain": [
       "3269"
      ]
     },
     "execution_count": 73,
     "metadata": {},
     "output_type": "execute_result"
    }
   ],
   "source": [
    "len(mimiccxr_inconsistencies_test)"
   ]
  },
  {
   "cell_type": "code",
   "execution_count": 75,
   "metadata": {},
   "outputs": [
    {
     "data": {
      "image/png": "[encoded data removed]",
      "text/plain": [
       "<Figure size 432x288 with 1 Axes>"
      ]
     },
     "metadata": {
      "needs_background": "light"
     },
     "output_type": "display_data"
    }
   ],
   "source": [
    "plt.hist([x[0] for x in mimiccxr_inconsistencies_test], bins=14)\n",
    "plt.show()"
   ]
  },
  {
   "cell_type": "code",
   "execution_count": 76,
   "metadata": {},
   "outputs": [
    {
     "data": {
      "image/png": "[encoded data removed]",
      "text/plain": [
       "<Figure size 432x288 with 1 Axes>"
      ]
     },
     "metadata": {
      "needs_background": "light"
     },
     "output_type": "display_data"
    }
   ],
   "source": [
    "plt.hist([x[0] for x in mimiccxr_inconsistencies_test if x[0] > 0], bins=14)\n",
    "plt.show()"
   ]
  },
  {
   "cell_type": "code",
   "execution_count": 84,
   "metadata": {},
   "outputs": [
    {
     "name": "stdout",
     "output_type": "stream",
     "text": [
      "\u001b[34m========= ORIGINAL REPORT =======\u001b[0m\n",
      "                                 FINAL REPORT\n",
      " INDICATION:  ___-year-old man with hypotension and syncope, evaluate for acute\n",
      " process.\n",
      " \n",
      " COMPARISON:  ___.\n",
      " \n",
      " FINDINGS:  Single portable upright chest radiograph was obtained.  Linear\n",
      " atelectasis at the right base is more discrete compared to prior exam.  No\n",
      " consolidation, effusion or pneumothorax is present.  Moderate cardiomegaly is\n",
      " stable.  A tiny right effusion is noted.  Surgical clips and sternotomy wires\n",
      " are intact.  A left chest cardiac device has two leads in stable position.  \n",
      " \n",
      " IMPRESSION:  Tiny right pleural effusion.\n",
      "\n",
      "\u001b[34m========= OLD ==========\u001b[0m\n",
      "{'sentences': ['Single portable upright chest radiograph was obtained.', 'Linear atelectasis at the right base is more discrete compared to prior exam.', 'No consolidation , effusion or pneumothorax is present', 'Moderate cardiomegaly is stable', 'A tiny right effusion is noted', 'Surgical clips and sternotomy wires are intact', 'A left chest cardiac device has two leads in stable position', 'Tiny right pleural effusion'], 'invalid': [0, 1], 'unmatched': [], 'matched': [2, 3, 4, 5, 6, 7], 'qa': {'68': [2, 4, 7], '73': [2], '32': [2], '48': [3], '27': [3], '87': [5, 6], '88': [5], '95': [6]}, 'question_ids': [68, 73, 32, 48, 27, 87, 88, 95], 'filepath': '/mnt/data/mimic-cxr/files/p18/p18615099/s57137730.txt'}\n",
      "\n",
      "[0 0 1 0 0 0 0 0 0 0 1 0 0 1]\n",
      "Cardiomegaly, Pleural Effusion, Support Devices\n",
      "\n",
      "\u001b[34m========= NEW ==========\u001b[0m\n",
      "{'sentences': ['Single portable upright chest radiograph was obtained', 'Linear atelectasis at the right base is more discrete compared to prior exam', 'No consolidation , effusion or pneumothorax is present', 'Moderate cardiomegaly is stable', 'A tiny right effusion is noted', 'Surgical clips and sternotomy wires are intact', 'A left chest cardiac device has two leads in stable position', 'Tiny right pleural effusion'], 'invalid': [], 'unmatched': [0], 'matched': [1, 2, 3, 4, 5, 6, 7], 'qa': {'59': [1], '11': [1], '68': [2, 4, 7], '73': [2], '32': [2], '48': [3], '27': [3], '87': [5, 6], '88': [5], '95': [6]}, 'question_ids': [59, 11, 68, 73, 32, 48, 27, 87, 88, 95], 'filepath': '/mnt/data/mimic-cxr/files/p18/p18615099/s57137730.txt', 'background': 'indication: -year-old man with hypotension and syncope, evaluate for acute process.'}\n",
      "\n",
      "[0 0 1 0 0 0 0 0 1 0 1 0 0 1]\n",
      "Cardiomegaly, Atelectasis, Pleural Effusion, Support Devices\n",
      "\n"
     ]
    }
   ],
   "source": [
    "inspect_inconsistency(\n",
    "    mimiccxr_qa_adapted_reports__old,\n",
    "    mimiccxr_chexpert_labels_per_report__old,\n",
    "    mimiccxr_qa_adapted_reports__new,\n",
    "    mimiccxr_chexpert_labels_per_report__new,\n",
    "    mimiccxr_inconsistencies_test[100][1],\n",
    ")"
   ]
  },
  {
   "cell_type": "markdown",
   "metadata": {},
   "source": [
    "## Comparisons IU X-ray"
   ]
  },
  {
   "cell_type": "code",
   "execution_count": 85,
   "metadata": {},
   "outputs": [],
   "source": [
    "iuxray_inconsistencies = rank_by_number_inconsistencies(\n",
    "    iuxray_chexpert_labels_per_report__old,\n",
    "    iuxray_chexpert_labels_per_report__new,\n",
    ")"
   ]
  },
  {
   "cell_type": "code",
   "execution_count": 86,
   "metadata": {},
   "outputs": [
    {
     "data": {
      "text/plain": [
       "[(2, 3165),\n",
       " (2, 2453),\n",
       " (2, 2188),\n",
       " (2, 414),\n",
       " (1, 3484),\n",
       " (1, 3072),\n",
       " (1, 2731),\n",
       " (1, 2704),\n",
       " (1, 2624),\n",
       " (1, 1963)]"
      ]
     },
     "execution_count": 86,
     "metadata": {},
     "output_type": "execute_result"
    }
   ],
   "source": [
    "iuxray_inconsistencies[:10]"
   ]
  },
  {
   "cell_type": "code",
   "execution_count": 87,
   "metadata": {},
   "outputs": [
    {
     "data": {
      "image/png": "[encoded data removed]",
      "text/plain": [
       "<Figure size 432x288 with 1 Axes>"
      ]
     },
     "metadata": {
      "needs_background": "light"
     },
     "output_type": "display_data"
    }
   ],
   "source": [
    "plt.hist([x[0] for x in iuxray_inconsistencies], bins=14)\n",
    "plt.show()"
   ]
  },
  {
   "cell_type": "code",
   "execution_count": 88,
   "metadata": {
    "scrolled": true
   },
   "outputs": [
    {
     "data": {
      "image/png": "[encoded data removed]",
      "text/plain": [
       "<Figure size 432x288 with 1 Axes>"
      ]
     },
     "metadata": {
      "needs_background": "light"
     },
     "output_type": "display_data"
    }
   ],
   "source": [
    "plt.hist([x[0] for x in iuxray_inconsistencies if x[0] > 0], bins=14)\n",
    "plt.show()"
   ]
  },
  {
   "cell_type": "code",
   "execution_count": 95,
   "metadata": {},
   "outputs": [
    {
     "name": "stdout",
     "output_type": "stream",
     "text": [
      "\u001b[34m========= OLD ==========\u001b[0m\n",
      "{'sentences': ['No focal consolidation , pneumothorax or definite pleural effusion', 'Heart size and pulmonary vascularity normal , no mediastinal widening characteristic in appearance of vascular injury', 'No acute osseous injury XXXX demonstrated', 'No acute XXXX related findings', 'Please note that nondisplaced fractures may not be demonstrated.'], 'invalid': [4], 'unmatched': [3], 'matched': [0, 1, 2], 'qa': {'68': [0], '73': [0], '32': [0], '48': [1], '76': [1], '63': [1], '54': [1, 2], '16': [2]}, 'question_ids': [68, 73, 32, 48, 76, 63, 54, 16], 'filename': '1216.xml'}\n",
      "\n",
      "[1 0 0 0 0 0 0 0 0 0 0 0 0 0]\n",
      "No Finding\n",
      "\n",
      "\u001b[34m========= NEW ==========\u001b[0m\n",
      "{'sentences': ['No focal consolidation , pneumothorax or definite pleural effusion', 'Heart size and pulmonary vascularity normal , no mediastinal widening characteristic in appearance of vascular injury', 'No acute osseous injury XXXX demonstrated', 'No acute XXXX related findings', 'Please note that nondisplaced fractures may not be demonstrated'], 'invalid': [], 'unmatched': [3], 'matched': [0, 1, 2, 4], 'qa': {'68': [0], '73': [0], '32': [0], '48': [1], '76': [1], '63': [1], '54': [1, 2], '16': [2, 4], '43': [4]}, 'question_ids': [68, 73, 32, 48, 76, 63, 54, 16, 43], 'filename': '1216.xml', 'background': 'XXXX-year-old female, MVC, pain'}\n",
      "\n",
      "[0 0 0 0 0 0 0 0 0 0 0 0 1 0]\n",
      "Fracture\n",
      "\n"
     ]
    }
   ],
   "source": [
    "inspect_inconsistency(\n",
    "    iuxray_qa_adapted_reports__old,\n",
    "    iuxray_chexpert_labels_per_report__old,\n",
    "    iuxray_qa_adapted_reports__new,\n",
    "    iuxray_chexpert_labels_per_report__new,\n",
    "    iuxray_inconsistencies[1][1],\n",
    "    path_key='filename',\n",
    ")"
   ]
  },
  {
   "cell_type": "code",
   "execution_count": null,
   "metadata": {},
   "outputs": [],
   "source": []
  }
 ],
 "metadata": {
  "kernelspec": {
   "display_name": "Python 3 (ipykernel)",
   "language": "python",
   "name": "python3"
  },
  "language_info": {
   "codemirror_mode": {
    "name": "ipython",
    "version": 3
   },
   "file_extension": ".py",
   "mimetype": "text/x-python",
   "name": "python",
   "nbconvert_exporter": "python",
   "pygments_lexer": "ipython3",
   "version": "3.10.10"
  }
 },
 "nbformat": 4,
 "nbformat_minor": 4
}
