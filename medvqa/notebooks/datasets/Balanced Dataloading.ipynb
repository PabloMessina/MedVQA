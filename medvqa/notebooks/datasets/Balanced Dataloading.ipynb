{
 "cells": [
  {
   "cell_type": "code",
   "execution_count": 1,
   "metadata": {},
   "outputs": [],
   "source": [
    "from medvqa.utils.files import load_pickle, load_json_file, save_to_pickle\n",
    "from medvqa.datasets.iuxray import IUXRAY_CACHE_DIR\n",
    "from medvqa.datasets.mimiccxr import MIMICCXR_CACHE_DIR\n",
    "from medvqa.utils.common import CACHE_DIR\n",
    "from medvqa.datasets.medical_tags_extractor import MedicalTagsExtractor\n",
    "import medvqa\n",
    "from PIL import Image\n",
    "import random\n",
    "import os\n",
    "from importlib import reload"
   ]
  },
  {
   "cell_type": "code",
   "execution_count": 59,
   "metadata": {},
   "outputs": [
    {
     "data": {
      "text/plain": [
       "<module 'medvqa.datasets.medical_tags_extractor' from '/home/pamessina/medvqa/medvqa/datasets/medical_tags_extractor.py'>"
      ]
     },
     "execution_count": 59,
     "metadata": {},
     "output_type": "execute_result"
    }
   ],
   "source": [
    "reload(medvqa.datasets.medical_tags_extractor)"
   ]
  },
  {
   "cell_type": "code",
   "execution_count": 2,
   "metadata": {},
   "outputs": [],
   "source": [
    "iuxray_qa_adapted_reports_path = os.path.join(IUXRAY_CACHE_DIR, \"qa_adapted_reports__20220904_091601.json\")\n",
    "iuxray_qa_adapted_reports = load_json_file(iuxray_qa_adapted_reports_path)"
   ]
  },
  {
   "cell_type": "code",
   "execution_count": 3,
   "metadata": {},
   "outputs": [],
   "source": [
    "mimiccxr_qa_adapted_reports_path = os.path.join(MIMICCXR_CACHE_DIR, \"qa_adapted_reports__20220904_095810.json\")\n",
    "mimiccxr_qa_adapted_reports = load_json_file(mimiccxr_qa_adapted_reports_path)"
   ]
  },
  {
   "cell_type": "code",
   "execution_count": 4,
   "metadata": {},
   "outputs": [],
   "source": [
    "iuxray_chexpert_labels = load_pickle(os.path.join(IUXRAY_CACHE_DIR, \"chexpert_labels_per_report__20220904_113427.pkl\"))"
   ]
  },
  {
   "cell_type": "code",
   "execution_count": 5,
   "metadata": {},
   "outputs": [],
   "source": [
    "mimiccxr_chexpert_labels = load_pickle(os.path.join(MIMICCXR_CACHE_DIR, \"chexpert_labels_per_report__20220904_113605.pkl\"))"
   ]
  },
  {
   "cell_type": "code",
   "execution_count": 6,
   "metadata": {},
   "outputs": [],
   "source": [
    "assert len(iuxray_chexpert_labels) == len(iuxray_qa_adapted_reports['reports'])"
   ]
  },
  {
   "cell_type": "code",
   "execution_count": 7,
   "metadata": {},
   "outputs": [],
   "source": [
    "assert len(mimiccxr_chexpert_labels) == len(mimiccxr_qa_adapted_reports['reports'])"
   ]
  },
  {
   "cell_type": "code",
   "execution_count": 8,
   "metadata": {},
   "outputs": [],
   "source": [
    "for i, labels in enumerate(iuxray_chexpert_labels):\n",
    "    if labels[0] == 1:\n",
    "        assert all(x == 0 for x in labels[1:-1]), (labels, iuxray_qa_adapted_reports['reports'][i])"
   ]
  },
  {
   "cell_type": "code",
   "execution_count": 9,
   "metadata": {},
   "outputs": [],
   "source": [
    "for i, labels in enumerate(mimiccxr_chexpert_labels):\n",
    "    if labels[0] == 1:\n",
    "        assert all(x == 0 for x in labels[1:-1]), (labels, mimiccxr_qa_adapted_reports['reports'][i])"
   ]
  },
  {
   "cell_type": "code",
   "execution_count": 10,
   "metadata": {},
   "outputs": [],
   "source": [
    "def healthy_and_unhealthy_reports(chexpert_labels):\n",
    "    healthy_ids = []\n",
    "    unhealthy_ids = []\n",
    "    for i, labels in enumerate(chexpert_labels):\n",
    "        if labels[0] == 1:\n",
    "            healthy_ids.append(i)\n",
    "        else:\n",
    "            unhealthy_ids.append(i)\n",
    "    return healthy_ids, unhealthy_ids"
   ]
  },
  {
   "cell_type": "code",
   "execution_count": 11,
   "metadata": {},
   "outputs": [
    {
     "data": {
      "text/plain": [
       "(1438, 2489)"
      ]
     },
     "execution_count": 11,
     "metadata": {},
     "output_type": "execute_result"
    }
   ],
   "source": [
    "iu_h_ids, iu_unh_ids = healthy_and_unhealthy_reports(iuxray_chexpert_labels)\n",
    "len(iu_h_ids), len(iu_unh_ids)"
   ]
  },
  {
   "cell_type": "code",
   "execution_count": 12,
   "metadata": {},
   "outputs": [
    {
     "data": {
      "text/plain": [
       "(44472, 183363)"
      ]
     },
     "execution_count": 12,
     "metadata": {},
     "output_type": "execute_result"
    }
   ],
   "source": [
    "mi_h_ids, mi_unh_ids = healthy_and_unhealthy_reports(mimiccxr_chexpert_labels)\n",
    "len(mi_h_ids), len(mi_unh_ids)"
   ]
  },
  {
   "cell_type": "code",
   "execution_count": 13,
   "metadata": {},
   "outputs": [
    {
     "data": {
      "text/plain": [
       "array([1, 0, 0, 0, 0, 0, 0, 0, 0, 0, 0, 0, 0, 0], dtype=int8)"
      ]
     },
     "execution_count": 13,
     "metadata": {},
     "output_type": "execute_result"
    }
   ],
   "source": [
    "iuxray_chexpert_labels[random.choice(iu_h_ids)]"
   ]
  },
  {
   "cell_type": "code",
   "execution_count": 14,
   "metadata": {},
   "outputs": [
    {
     "data": {
      "text/plain": [
       "array([0, 0, 0, 0, 1, 0, 0, 0, 0, 0, 0, 0, 0, 0], dtype=int8)"
      ]
     },
     "execution_count": 14,
     "metadata": {},
     "output_type": "execute_result"
    }
   ],
   "source": [
    "iuxray_chexpert_labels[random.choice(iu_unh_ids)]"
   ]
  },
  {
   "cell_type": "code",
   "execution_count": 15,
   "metadata": {},
   "outputs": [
    {
     "data": {
      "text/plain": [
       "array([1, 0, 0, 0, 0, 0, 0, 0, 0, 0, 0, 0, 0, 0], dtype=int8)"
      ]
     },
     "execution_count": 15,
     "metadata": {},
     "output_type": "execute_result"
    }
   ],
   "source": [
    "mimiccxr_chexpert_labels[random.choice(mi_h_ids)]"
   ]
  },
  {
   "cell_type": "code",
   "execution_count": 16,
   "metadata": {},
   "outputs": [
    {
     "data": {
      "text/plain": [
       "array([0, 0, 0, 1, 1, 0, 0, 0, 0, 0, 1, 0, 0, 0], dtype=int8)"
      ]
     },
     "execution_count": 16,
     "metadata": {},
     "output_type": "execute_result"
    }
   ],
   "source": [
    "mimiccxr_chexpert_labels[random.choice(mi_unh_ids)]"
   ]
  },
  {
   "cell_type": "code",
   "execution_count": 17,
   "metadata": {},
   "outputs": [],
   "source": [
    "med_tags_extractor = MedicalTagsExtractor('medical_terms_frequency__20220918_184255.pkl')"
   ]
  },
  {
   "cell_type": "code",
   "execution_count": 18,
   "metadata": {},
   "outputs": [],
   "source": [
    "def show_iuxray_example(idx, reports):    \n",
    "    report = reports[idx]\n",
    "    report = '. '.join(report['sentences'][i] for i in report['matched'])\n",
    "    print('Report:\\n')\n",
    "    print(report)\n",
    "    print('\\nTags:\\n')\n",
    "    print(med_tags_extractor.extract_tags_sequence(report))"
   ]
  },
  {
   "cell_type": "code",
   "execution_count": 20,
   "metadata": {},
   "outputs": [
    {
     "name": "stdout",
     "output_type": "stream",
     "text": [
      "Report:\n",
      "\n",
      "Frontal and lateral views of the chest with overlying external cardiac monitor leads show normal size and configuration of the cardiac silhouette. Normal pulmonary vasculature and central airways. No focal airspace consolidation or pleural effusion. No acute or active cardiac , pulmonary or pleural disease\n",
      "\n",
      "Tags:\n",
      "\n",
      "['frontal', 'lateral', 'overlying', 'external', 'cardiac', 'monitoring', 'leads', 'normal', 'size', 'configuration', 'cardiac', 'silhouette', 'normal', 'pulmonary', 'vasculature', 'central', 'airway', 'no', 'focal', 'airspace', 'consolidation', 'pleural', 'effusion', 'no', 'cardiac', 'pulmonary', 'pleural', 'disease']\n"
     ]
    },
    {
     "data": {
      "text/plain": [
       "(935, None)"
      ]
     },
     "execution_count": 20,
     "metadata": {},
     "output_type": "execute_result"
    }
   ],
   "source": [
    "x = random.choice(iu_h_ids)\n",
    "x, show_iuxray_example(x, iuxray_qa_adapted_reports['reports'])"
   ]
  },
  {
   "cell_type": "code",
   "execution_count": 21,
   "metadata": {},
   "outputs": [
    {
     "name": "stdout",
     "output_type": "stream",
     "text": [
      "Report:\n",
      "\n",
      "The cardiac silhouette is moderately enlarged with a cardiothoracic ratio of NUMBER/NUMBER. Diffuse coarse interstitial opacity seen throughout the lungs with perihilar and lower lobe predominance. There is right greater than left bibasilar consolidation. There are small pleural effusions , right larger than left. No evidence of pneumothorax. Dense atherosclerotic calcification seen involving the thoracic and upper abdominal aorta. Enlarged cardiac silhouette with coarse perihilar and lower lobe interstitial opacities may be due to diffuse infection or heart failure. Small pleural effusions\n",
      "\n",
      "Tags:\n",
      "\n",
      "['cardiac', 'silhouette', 'moderate', 'enlarged', 'cardiothoracic', 'diffuse', 'coarse', 'interstitial', 'opacity', 'lungs', 'perihilar', 'lower', 'lobe', 'right', 'greater', 'left', 'bibasilar', 'consolidation', 'small', 'pleural', 'effusion', 'right', 'large', 'left', 'no', 'pneumothorax', 'density', 'atherosclerotic', 'calcified', 'thoracic', 'upper', 'abdominal', 'aorta', 'enlarged', 'cardiac', 'silhouette', 'coarse', 'perihilar', 'lower', 'lobe', 'interstitial', 'opacity', 'diffuse', 'infection', 'heart', 'small', 'pleural', 'effusion']\n"
     ]
    },
    {
     "data": {
      "text/plain": [
       "(826, None)"
      ]
     },
     "execution_count": 21,
     "metadata": {},
     "output_type": "execute_result"
    }
   ],
   "source": [
    "x = random.choice(iu_unh_ids)\n",
    "x, show_iuxray_example(x, iuxray_qa_adapted_reports['reports'])"
   ]
  },
  {
   "cell_type": "code",
   "execution_count": 22,
   "metadata": {},
   "outputs": [
    {
     "name": "stdout",
     "output_type": "stream",
     "text": [
      "Report:\n",
      "\n",
      "The lungs are clear. There is no effusion or pneumothorax. The cardiomediastinal silhouette is normal. There is no radiopaque density to suggest a missing tooth fragment. No visualized tooth fragment identified\n",
      "\n",
      "Tags:\n",
      "\n",
      "['lungs', 'clear', 'no', 'effusion', 'pneumothorax', 'cardiomediastinal', 'silhouette', 'normal', 'no', 'radiopaque', 'density', 'missing', 'tooth', 'fragment', 'no', 'tooth', 'fragment']\n"
     ]
    },
    {
     "data": {
      "text/plain": [
       "(139751, None)"
      ]
     },
     "execution_count": 22,
     "metadata": {},
     "output_type": "execute_result"
    }
   ],
   "source": [
    "x = random.choice(mi_h_ids)\n",
    "x, show_iuxray_example(x, mimiccxr_qa_adapted_reports['reports'])"
   ]
  },
  {
   "cell_type": "code",
   "execution_count": 23,
   "metadata": {},
   "outputs": [
    {
     "name": "stdout",
     "output_type": "stream",
     "text": [
      "Report:\n",
      "\n",
      "Low lung volumes. Left pectoral Port-A-Cath in situ. On the right , the patient has received a Swan-Ganz catheter. The catheter shows a normal course , the tip is positioned relatively distal in the right lower lobe artery. The tip should be pulled back by approximately 3 cm. No pleural effusions. No pneumothorax. Moderate pulmonary edema\n",
      "\n",
      "Tags:\n",
      "\n",
      "['lower', 'lung', 'volumes', 'left', 'pectoral', 'port', 'catheter', 'situ', 'right', 'swan', 'ganz', 'catheter', 'catheter', 'normal', 'course', 'tip', 'position', 'distal', 'right', 'lower', 'lobe', 'artery', 'tip', 'pulled', 'back', 'no', 'pleural', 'effusion', 'no', 'pneumothorax', 'moderate', 'pulmonary', 'edema']\n"
     ]
    },
    {
     "data": {
      "text/plain": [
       "(182306, None)"
      ]
     },
     "execution_count": 23,
     "metadata": {},
     "output_type": "execute_result"
    }
   ],
   "source": [
    "x = random.choice(mi_unh_ids)\n",
    "x, show_iuxray_example(x, mimiccxr_qa_adapted_reports['reports'])"
   ]
  },
  {
   "cell_type": "code",
   "execution_count": 24,
   "metadata": {},
   "outputs": [],
   "source": [
    "def _get_top_k_ngrams(reports, q_id, used_vocab, k=10, n=3):\n",
    "    freq = dict()\n",
    "    for report in reports:\n",
    "        if q_id not in report['qa']:\n",
    "            continue\n",
    "        for i in report['qa'][q_id]:\n",
    "            tags = med_tags_extractor.extract_tags_sequence(report['sentences'][i])\n",
    "            for j in range(len(tags)-n+1):\n",
    "                key = tuple(tags[j:j+n])\n",
    "                freq[key] = freq.get(key, 0) + 1\n",
    "    pairs = [(f,k) for k,f in freq.items()]\n",
    "    pairs.sort(reverse=True)\n",
    "    output = []\n",
    "    for p in pairs:\n",
    "        valid = True\n",
    "        for w in p[1]:\n",
    "            if w in used_vocab:\n",
    "                valid = False\n",
    "                break\n",
    "        if valid:\n",
    "            output.append(p)\n",
    "            used_vocab.update(p[1])\n",
    "            if len(output) == k:\n",
    "                break\n",
    "    return output\n",
    "\n",
    "def get_top_k_ngrams(reports, q_id, ks, ns):\n",
    "    used_vocab = set()\n",
    "    output = []\n",
    "    for k, n in zip(ks, ns):\n",
    "        pairs = _get_top_k_ngrams(reports, q_id, used_vocab, k, n)\n",
    "        output.extend(pairs)\n",
    "    output.sort()\n",
    "    return output"
   ]
  },
  {
   "cell_type": "code",
   "execution_count": 25,
   "metadata": {},
   "outputs": [],
   "source": [
    "q_id = str(iuxray_qa_adapted_reports['questions'].index('support devices and foreign bodies?'))\n",
    "top_ngrams = get_top_k_ngrams(iuxray_qa_adapted_reports['reports'], q_id, ks=[50, 50], ns=[2, 1])"
   ]
  },
  {
   "cell_type": "code",
   "execution_count": 26,
   "metadata": {},
   "outputs": [
    {
     "data": {
      "text/plain": [
       "[(2, ('hilar', 'contours')),\n",
       " (2, ('humeral', 'prosthetic')),\n",
       " (2, ('lung', 'volumes')),\n",
       " (2, ('osseous', 'anchors')),\n",
       " (2, ('radiopaque', 'density')),\n",
       " (2, ('screws', 'fixation')),\n",
       " (2, ('terminates', 'lower')),\n",
       " (2, ('thoracic', 'tips')),\n",
       " (2, ('top', 'normal')),\n",
       " (2, ('tunneled', 'dialysis')),\n",
       " (3, ('base', 'atelectasis')),\n",
       " (3, ('generator', 'projecting')),\n",
       " (3, ('intact', 'place')),\n",
       " (3, ('vp', 'shunt')),\n",
       " (4, ('anterior', 'wall')),\n",
       " (4, ('bilateral', 'breast')),\n",
       " (4, ('bullet', 'fragment')),\n",
       " (4, ('closure', 'devices')),\n",
       " (4, ('enteric',)),\n",
       " (4, ('head',)),\n",
       " (4, ('large',)),\n",
       " (4, ('lobe',)),\n",
       " (4, ('lungs',)),\n",
       " (4, ('mediport',)),\n",
       " (4, ('midabdomen',)),\n",
       " (4, ('moderate',)),\n",
       " (4, ('nerve', 'stimulator')),\n",
       " (4, ('obscured',)),\n",
       " (4, ('pleural',)),\n",
       " (4, ('small',)),\n",
       " (4, ('vertebral',)),\n",
       " (5, ('abdominal',)),\n",
       " (5, ('below', 'diaphragm')),\n",
       " (5, ('configuration',)),\n",
       " (5, ('course',)),\n",
       " (5, ('fracture',)),\n",
       " (5, ('hemithorax',)),\n",
       " (5, ('no', 'pneumothorax')),\n",
       " (5, ('out',)),\n",
       " (5, ('rib',)),\n",
       " (5, ('spine',)),\n",
       " (5, ('stool',)),\n",
       " (5, ('subclavian', 'vein')),\n",
       " (5, ('sutures', 'material')),\n",
       " (6, ('aicd',)),\n",
       " (6, ('calcified',)),\n",
       " (6, ('cardiomediastinal', 'silhouette')),\n",
       " (6, ('cardiomegaly',)),\n",
       " (6, ('cava',)),\n",
       " (6, ('feeding',)),\n",
       " (6, ('marker',)),\n",
       " (6, ('nipple', 'shadow')),\n",
       " (6, ('posterior',)),\n",
       " (6, ('postoperative',)),\n",
       " (7, ('above', 'carina')),\n",
       " (7, ('bypass', 'graft')),\n",
       " (7, ('heart', 'size')),\n",
       " (7, ('implants',)),\n",
       " (7, ('midline',)),\n",
       " (8, ('aorta', 'valve')),\n",
       " (8, ('mediastinum',)),\n",
       " (8, ('proximal',)),\n",
       " (8, ('replacement',)),\n",
       " (8, ('sternotomy', 'mediastinal')),\n",
       " (9, ('axillary',)),\n",
       " (9, ('coronary', 'artery')),\n",
       " (9, ('dual', 'lumen')),\n",
       " (9, ('soft', 'tissue')),\n",
       " (10, ('clavicle',)),\n",
       " (10, ('extremity',)),\n",
       " (10, ('frontal', 'lateral')),\n",
       " (10, ('multiple',)),\n",
       " (11, ('overlying', 'external')),\n",
       " (11, ('superior',)),\n",
       " (12, ('cavoatrial', 'junction')),\n",
       " (12, ('foreign', 'body')),\n",
       " (12, ('ij',)),\n",
       " (12, ('internal', 'jugular')),\n",
       " (13, ('mid', 'svc')),\n",
       " (13, ('tracheostomy', 'tube')),\n",
       " (14, ('cabg',)),\n",
       " (14, ('monitoring', 'leads')),\n",
       " (16, ('abdomen',)),\n",
       " (16, ('region',)),\n",
       " (17, ('cholecystectomy',)),\n",
       " (17, ('icd',)),\n",
       " (17, ('picc', 'line')),\n",
       " (18, ('defibrillator',)),\n",
       " (19, ('cardiac', 'pacemaker')),\n",
       " (21, ('stent',)),\n",
       " (24, ('distal',)),\n",
       " (24, ('upper', 'quadrant')),\n",
       " (29, ('central', 'venous')),\n",
       " (30, ('removed',)),\n",
       " (30, ('stable', 'position')),\n",
       " (34, ('left', 'sided')),\n",
       " (40, ('catheter', 'tip')),\n",
       " (40, ('ventricle',)),\n",
       " (47, ('right', 'atrium')),\n",
       " (68, ('surgical', 'clips'))]"
      ]
     },
     "execution_count": 26,
     "metadata": {},
     "output_type": "execute_result"
    }
   ],
   "source": [
    "top_ngrams"
   ]
  },
  {
   "cell_type": "code",
   "execution_count": 27,
   "metadata": {},
   "outputs": [],
   "source": [
    "def classify_sentence(s, top_ngrams, max_n):\n",
    "    tags = med_tags_extractor.extract_tags_sequence(s)\n",
    "    ngram_sets = [set() for _ in range(max_n)]\n",
    "    for n in range(1, max_n+1):\n",
    "        for i in range(len(tags)-n+1):\n",
    "            ngram = tuple(tags[i:i+n])\n",
    "            ngram_sets[n-1].add(ngram)\n",
    "    for i, ngram in enumerate(top_ngrams):\n",
    "        if ngram[1] in ngram_sets[len(ngram[1])-1]:\n",
    "            return i\n",
    "    return len(top_ngrams)"
   ]
  },
  {
   "cell_type": "code",
   "execution_count": 28,
   "metadata": {},
   "outputs": [],
   "source": [
    "def classify_sentences(reports, q_id, top_ngrams, max_n):\n",
    "    freqs = dict()\n",
    "    for report in reports:\n",
    "        if q_id not in report['qa']:\n",
    "            continue\n",
    "        for i in report['qa'][q_id]:\n",
    "            x = classify_sentence(report['sentences'][i], top_ngrams, max_n)\n",
    "            freqs[x] = freqs.get(x, 0) + 1\n",
    "    return freqs"
   ]
  },
  {
   "cell_type": "code",
   "execution_count": 29,
   "metadata": {},
   "outputs": [
    {
     "data": {
      "text/plain": [
       "60"
      ]
     },
     "execution_count": 29,
     "metadata": {},
     "output_type": "execute_result"
    }
   ],
   "source": [
    "classify_sentence('The cardiac silhouette and mediastinum size are within normal limits', top_ngrams, 2)"
   ]
  },
  {
   "cell_type": "code",
   "execution_count": 30,
   "metadata": {
    "scrolled": true
   },
   "outputs": [
    {
     "data": {
      "text/plain": [
       "{12: 3,\n",
       " 100: 62,\n",
       " 51: 4,\n",
       " 21: 3,\n",
       " 30: 2,\n",
       " 66: 6,\n",
       " 69: 5,\n",
       " 37: 5,\n",
       " 63: 7,\n",
       " 33: 5,\n",
       " 55: 5,\n",
       " 93: 12,\n",
       " 86: 12,\n",
       " 73: 9,\n",
       " 25: 4,\n",
       " 45: 3,\n",
       " 36: 2,\n",
       " 19: 3,\n",
       " 82: 15,\n",
       " 97: 9,\n",
       " 94: 8,\n",
       " 90: 9,\n",
       " 84: 13,\n",
       " 41: 2,\n",
       " 89: 9,\n",
       " 88: 16,\n",
       " 47: 6,\n",
       " 16: 4,\n",
       " 43: 4,\n",
       " 58: 4,\n",
       " 91: 10,\n",
       " 44: 4,\n",
       " 71: 4,\n",
       " 64: 9,\n",
       " 77: 7,\n",
       " 80: 2,\n",
       " 65: 6,\n",
       " 50: 5,\n",
       " 61: 7,\n",
       " 85: 10,\n",
       " 92: 14,\n",
       " 17: 4,\n",
       " 22: 3,\n",
       " 31: 5,\n",
       " 2: 2,\n",
       " 54: 7,\n",
       " 79: 6,\n",
       " 87: 13,\n",
       " 59: 7,\n",
       " 62: 4,\n",
       " 75: 5,\n",
       " 53: 3,\n",
       " 13: 3,\n",
       " 83: 4,\n",
       " 15: 4,\n",
       " 49: 3,\n",
       " 3: 2,\n",
       " 78: 7,\n",
       " 95: 8,\n",
       " 98: 2,\n",
       " 48: 5,\n",
       " 7: 2,\n",
       " 96: 8,\n",
       " 46: 5,\n",
       " 28: 2,\n",
       " 81: 3,\n",
       " 11: 3,\n",
       " 14: 4,\n",
       " 24: 4,\n",
       " 99: 12,\n",
       " 29: 3,\n",
       " 52: 3,\n",
       " 20: 4,\n",
       " 67: 6,\n",
       " 8: 2,\n",
       " 57: 3,\n",
       " 60: 6,\n",
       " 74: 7,\n",
       " 76: 4,\n",
       " 68: 2,\n",
       " 6: 2,\n",
       " 1: 2,\n",
       " 4: 2,\n",
       " 27: 3,\n",
       " 9: 2,\n",
       " 18: 4,\n",
       " 26: 4,\n",
       " 5: 2,\n",
       " 0: 2,\n",
       " 23: 4,\n",
       " 10: 2,\n",
       " 40: 3,\n",
       " 35: 5,\n",
       " 34: 1,\n",
       " 39: 3,\n",
       " 38: 3,\n",
       " 42: 2,\n",
       " 32: 2}"
      ]
     },
     "execution_count": 30,
     "metadata": {},
     "output_type": "execute_result"
    }
   ],
   "source": [
    "classify_sentences(iuxray_qa_adapted_reports['reports'], q_id, top_ngrams, 2)"
   ]
  },
  {
   "cell_type": "code",
   "execution_count": 31,
   "metadata": {
    "scrolled": false
   },
   "outputs": [
    {
     "name": "stdout",
     "output_type": "stream",
     "text": [
      "Loading files ...\n",
      "Loading /home/pamessina/medvqa-workspace/cache/vocab__min_freq=5__mode=report__from(qa_adapted_reports__20220904_091601.json;qa_adapted_reports__20220904_095810.json).pkl ...\n",
      "1427203it [00:07, 181729.44it/s]\n",
      "Vocabulary saved to /home/pamessina/medvqa-workspace/cache/vocab__min_freq=5__mode=report__from(qa_adapted_reports__20220904_091601.json;qa_adapted_reports__20220904_095810.json).pkl\n",
      "Precomputing metadata ...\n",
      "3927it [00:01, 2573.44it/s]\n",
      "100%|██████████████████████████████████████████| 97/97 [00:00<00:00, 205.95it/s]\n",
      "3927it [00:00, 7556.48it/s]\n",
      "Balanced dataloading metadata saved to /home/pamessina/medvqa-workspace/cache/iuxray/balanced_dataloading_metadata__20220918_210029.pkl\n",
      "227835it [02:13, 1705.12it/s]\n",
      "100%|███████████████████████████████████████████| 97/97 [00:42<00:00,  2.26it/s]\n",
      "227835it [00:48, 4660.74it/s]\n",
      "Balanced dataloading metadata saved to /home/pamessina/medvqa-workspace/cache/mimiccxr/balanced_dataloading_metadata__20220918_210415.pkl\n"
     ]
    }
   ],
   "source": [
    "!python ../../scripts/precompute_balanced_dataloading_metadata.py \\\n",
    "        --iuxray-qa-dataset-filename \"qa_adapted_reports__20220904_091601.json\" \\\n",
    "        --mimiccxr-qa-dataset-filename \"qa_adapted_reports__20220904_095810.json\" \\\n",
    "        --chexpert-labels-cache-filename \"precomputed_chexpert_labels_20220904_105948.pkl\" \\\n",
    "        --medical-terms-frequency-filename \"medical_terms_frequency__20220918_184255.pkl\""
   ]
  },
  {
   "cell_type": "code",
   "execution_count": 32,
   "metadata": {},
   "outputs": [],
   "source": [
    "from medvqa.utils.files import load_pickle\n",
    "from collections import Counter"
   ]
  },
  {
   "cell_type": "code",
   "execution_count": 33,
   "metadata": {},
   "outputs": [],
   "source": [
    "iuxray_balanced_metadata = load_pickle('/home/pamessina/medvqa-workspace/cache/iuxray/balanced_dataloading_metadata__20220629_123626.pkl')"
   ]
  },
  {
   "cell_type": "code",
   "execution_count": 34,
   "metadata": {},
   "outputs": [],
   "source": [
    "mimiccxr_balanced_metadata = load_pickle('/home/pamessina/medvqa-workspace/cache/mimiccxr/balanced_dataloading_metadata__20220629_123956.pkl')"
   ]
  },
  {
   "cell_type": "code",
   "execution_count": 35,
   "metadata": {},
   "outputs": [],
   "source": [
    "def get_answers(q_id, metadata, reports):\n",
    "    output = []\n",
    "    for ri, report in enumerate(reports):\n",
    "        if q_id in report['qa']:\n",
    "            answer = '. '.join(report['sentences'][i] for i in report['qa'][q_id])\n",
    "            output.append((metadata['healthy'][ri][q_id],\n",
    "                           metadata['tags_based_class'][ri][q_id],\n",
    "                           answer))\n",
    "    return output"
   ]
  },
  {
   "cell_type": "code",
   "execution_count": 36,
   "metadata": {},
   "outputs": [],
   "source": [
    "iuxray_qid2answers = {}\n",
    "for qid in range(len(iuxray_qa_adapted_reports['questions'])):\n",
    "    iuxray_qid2answers[qid] = get_answers(str(qid), iuxray_balanced_metadata, iuxray_qa_adapted_reports['reports'])"
   ]
  },
  {
   "cell_type": "code",
   "execution_count": 37,
   "metadata": {},
   "outputs": [],
   "source": [
    "mimiccxr_qid2answers = {}\n",
    "for qid in range(len(mimiccxr_qa_adapted_reports['questions'])):\n",
    "    mimiccxr_qid2answers[qid] = get_answers(str(qid), mimiccxr_balanced_metadata, mimiccxr_qa_adapted_reports['reports'])"
   ]
  },
  {
   "cell_type": "code",
   "execution_count": 38,
   "metadata": {},
   "outputs": [],
   "source": [
    "def print_health_statistics(qid2answers, questions):\n",
    "    for qid, answers in qid2answers.items():\n",
    "        print(\"------------------\")\n",
    "        print(qid, questions[qid])\n",
    "        print(Counter(x[0] for x in answers))"
   ]
  },
  {
   "cell_type": "code",
   "execution_count": 39,
   "metadata": {
    "scrolled": true
   },
   "outputs": [],
   "source": [
    "# print_health_statistics(mimiccxr_qid2answers, mimiccxr_qa_adapted_reports['questions'])"
   ]
  },
  {
   "cell_type": "code",
   "execution_count": 40,
   "metadata": {
    "scrolled": false
   },
   "outputs": [
    {
     "name": "stdout",
     "output_type": "stream",
     "text": [
      "------------------\n",
      "0 ARDS?\n",
      "Counter()\n",
      "------------------\n",
      "1 COPD?\n",
      "Counter({0: 44, 1: 5})\n",
      "------------------\n",
      "2 abscess and cavitation?\n",
      "Counter({1: 3})\n",
      "------------------\n",
      "3 adenopathy?\n",
      "Counter({0: 67, 1: 33})\n",
      "------------------\n",
      "4 air collections?\n",
      "Counter({1: 55, 0: 15})\n",
      "------------------\n",
      "5 air space disease?\n",
      "Counter({1: 405, 0: 147})\n",
      "------------------\n",
      "6 air-fluid level?\n",
      "Counter({0: 4, 1: 4})\n",
      "------------------\n",
      "7 airways?\n",
      "Counter({1: 27, 0: 4})\n",
      "------------------\n",
      "8 apical zone?\n",
      "Counter({0: 83, 1: 29})\n",
      "------------------\n",
      "9 ascites?\n",
      "Counter()\n",
      "------------------\n",
      "10 aspiration?\n",
      "Counter({0: 10, 1: 3})\n",
      "------------------\n",
      "11 atelectasis?\n",
      "Counter({0: 387, 1: 8})\n",
      "------------------\n",
      "12 azygos lobe?\n",
      "Counter({1: 2})\n",
      "------------------\n",
      "13 azygos vein?\n",
      "Counter({1: 1})\n",
      "------------------\n",
      "14 bleeding?\n",
      "Counter({0: 1})\n",
      "------------------\n",
      "15 blurring?\n",
      "Counter()\n",
      "------------------\n",
      "16 bones?\n",
      "Counter({1: 1197, 0: 763})\n",
      "------------------\n",
      "17 bowel obstruction and loops?\n",
      "Counter({1: 7, 0: 1})\n",
      "------------------\n",
      "18 bowel?\n",
      "Counter({1: 11, 0: 1})\n",
      "------------------\n",
      "19 bronchiectasis?\n",
      "Counter({0: 5})\n",
      "------------------\n",
      "20 bronchogram?\n",
      "Counter()\n",
      "------------------\n",
      "21 bronchovascular crowding?\n",
      "Counter({1: 48, 0: 35})\n",
      "------------------\n",
      "22 bronchus?\n",
      "Counter({1: 52, 0: 51})\n",
      "------------------\n",
      "23 bullae and blebs?\n",
      "Counter({0: 10, 1: 1})\n",
      "------------------\n",
      "24 calcification?\n",
      "Counter({0: 591, 1: 10})\n",
      "------------------\n",
      "25 cancer or tumor?\n",
      "Counter({0: 23, 1: 19})\n",
      "------------------\n",
      "26 cardiac silhouette?\n",
      "Counter({1: 999, 0: 185})\n",
      "------------------\n",
      "27 cardiomegaly?\n",
      "Counter({0: 303, 1: 2})\n",
      "------------------\n",
      "28 carina?\n",
      "Counter({0: 7, 1: 2})\n",
      "------------------\n",
      "29 cholelithiasis?\n",
      "Counter({1: 1})\n",
      "------------------\n",
      "30 colon?\n",
      "Counter({1: 6, 0: 1})\n",
      "------------------\n",
      "31 congestive heart failure CHF?\n",
      "Counter({1: 10, 0: 9})\n",
      "------------------\n",
      "32 consolidation?\n",
      "Counter({1: 1159, 0: 83})\n",
      "------------------\n",
      "33 contrast?\n",
      "Counter({1: 10, 0: 3})\n",
      "------------------\n",
      "34 densities?\n",
      "Counter({0: 137, 1: 12})\n",
      "------------------\n",
      "35 diaphragm?\n",
      "Counter({0: 139, 1: 105})\n",
      "------------------\n",
      "36 edema?\n",
      "Counter({1: 204, 0: 150})\n",
      "------------------\n",
      "37 emphysema?\n",
      "Counter({0: 122})\n",
      "------------------\n",
      "38 esophagus?\n",
      "Counter({1: 3, 0: 2})\n",
      "------------------\n",
      "39 fibrosis?\n",
      "Counter({0: 37, 1: 7})\n",
      "------------------\n",
      "40 fissures?\n",
      "Counter({0: 19, 1: 1})\n",
      "------------------\n",
      "41 fluid overload?\n",
      "Counter()\n",
      "------------------\n",
      "42 fluid?\n",
      "Counter({1: 42, 0: 32})\n",
      "------------------\n",
      "43 fractures?\n",
      "Counter({0: 120, 1: 84})\n",
      "------------------\n",
      "44 free air?\n",
      "Counter({1: 62, 0: 2})\n",
      "------------------\n",
      "45 gas distension?\n",
      "Counter({1: 3})\n",
      "------------------\n",
      "46 granumola?\n",
      "Counter({0: 454, 1: 3})\n",
      "------------------\n",
      "47 haze?\n",
      "Counter({0: 2})\n",
      "------------------\n",
      "48 heart?\n",
      "Counter({1: 2561, 0: 808})\n",
      "------------------\n",
      "49 hernias?\n",
      "Counter({0: 55, 1: 1})\n",
      "------------------\n",
      "50 infection?\n",
      "Counter({0: 60, 1: 8})\n",
      "------------------\n",
      "51 infiltrate?\n",
      "Counter({1: 317, 0: 114})\n",
      "------------------\n",
      "52 interstitial lung disease?\n",
      "Counter({0: 210, 1: 10})\n",
      "------------------\n",
      "53 kerley lines?\n",
      "Counter({1: 1})\n",
      "------------------\n",
      "54 lesions?\n",
      "Counter({1: 43, 0: 19})\n",
      "------------------\n",
      "55 liver?\n",
      "Counter({0: 3})\n",
      "------------------\n",
      "56 loculation?\n",
      "Counter({0: 8, 1: 1})\n",
      "------------------\n",
      "57 lucencies?\n",
      "Counter({0: 27, 1: 17})\n",
      "------------------\n",
      "58 lung parenchyma?\n",
      "Counter({1: 26, 0: 22})\n",
      "------------------\n",
      "59 lungs?\n",
      "Counter({1: 2402, 0: 1147})\n",
      "------------------\n",
      "60 lymph nodes?\n",
      "Counter({0: 14, 1: 1})\n",
      "------------------\n",
      "61 markings?\n",
      "Counter({0: 72, 1: 17})\n",
      "------------------\n",
      "62 masses?\n",
      "Counter({1: 104, 0: 83})\n",
      "------------------\n",
      "63 mediastinum?\n",
      "Counter({1: 1940, 0: 418})\n",
      "------------------\n",
      "64 nodules?\n",
      "Counter({0: 222, 1: 116})\n",
      "------------------\n",
      "65 opacities?\n",
      "Counter({0: 463, 1: 293})\n",
      "------------------\n",
      "66 ossification?\n",
      "Counter({1: 1, 0: 1})\n",
      "------------------\n",
      "67 peribronchial cuffing?\n",
      "Counter({0: 5})\n",
      "------------------\n",
      "68 pleural space?\n",
      "Counter({1: 2668, 0: 438})\n",
      "------------------\n",
      "69 pneumatocele?\n",
      "Counter({0: 1})\n",
      "------------------\n",
      "70 pneumomediastinum?\n",
      "Counter({1: 7, 0: 1})\n",
      "------------------\n",
      "71 pneumonia?\n",
      "Counter({0: 142, 1: 124})\n",
      "------------------\n",
      "72 pneumoperitoneum?\n",
      "Counter({1: 6, 0: 4})\n",
      "------------------\n",
      "73 pneumothorax?\n",
      "Counter({1: 2554, 0: 135})\n",
      "------------------\n",
      "74 prominence?\n",
      "Counter({0: 155})\n",
      "------------------\n",
      "75 pulmonary hila?\n",
      "Counter({0: 184, 1: 65})\n",
      "------------------\n",
      "76 pulmonary vascularity?\n",
      "Counter({1: 614, 0: 201})\n",
      "------------------\n",
      "77 radiation?\n",
      "Counter({0: 4})\n",
      "------------------\n",
      "78 ribs?\n",
      "Counter({0: 116, 1: 77})\n",
      "------------------\n",
      "79 sagittal chest?\n",
      "Counter()\n",
      "------------------\n",
      "80 sarcoidosis?\n",
      "Counter({1: 8, 0: 2})\n",
      "------------------\n",
      "81 scarring?\n",
      "Counter({0: 231, 1: 3})\n",
      "------------------\n",
      "82 shadow?\n",
      "Counter({1: 8, 0: 6})\n",
      "------------------\n",
      "83 skinfold?\n",
      "Counter({0: 2, 1: 1})\n",
      "------------------\n",
      "84 soft tissue?\n",
      "Counter({1: 121, 0: 24})\n",
      "------------------\n",
      "85 stomach?\n",
      "Counter({1: 15, 0: 3})\n",
      "------------------\n",
      "86 sulci?\n",
      "Counter({0: 16, 1: 8})\n",
      "------------------\n",
      "87 support devices and foreign bodies?\n",
      "Counter({1: 355, 0: 84})\n",
      "------------------\n",
      "88 surgery?\n",
      "Counter({1: 214, 0: 58})\n",
      "------------------\n",
      "89 tendon?\n",
      "Counter({0: 2})\n",
      "------------------\n",
      "90 thoracic aorta?\n",
      "Counter({0: 222, 1: 175})\n",
      "------------------\n",
      "91 thyroid?\n",
      "Counter({0: 2})\n",
      "------------------\n",
      "92 tortuosity?\n",
      "Counter({1: 153, 0: 73})\n",
      "------------------\n",
      "93 trachea?\n",
      "Counter({1: 85, 0: 26})\n",
      "------------------\n",
      "94 trauma?\n",
      "Counter({1: 10, 0: 2})\n",
      "------------------\n",
      "95 tubes and lines?\n",
      "Counter({1: 183, 0: 36})\n",
      "------------------\n",
      "96 vena cava?\n",
      "Counter({1: 54, 0: 1})\n"
     ]
    }
   ],
   "source": [
    "print_health_statistics(iuxray_qid2answers, iuxray_qa_adapted_reports['questions'])"
   ]
  },
  {
   "cell_type": "code",
   "execution_count": 41,
   "metadata": {},
   "outputs": [],
   "source": [
    "_q = 'stomach?'\n",
    "# _q = iuxray_qa_adapted_reports['questions'][74]\n",
    "_qid = iuxray_qa_adapted_reports['questions'].index(_q)\n",
    "answers = get_answers(str(_qid), iuxray_balanced_metadata, iuxray_qa_adapted_reports['reports'])"
   ]
  },
  {
   "cell_type": "code",
   "execution_count": 42,
   "metadata": {},
   "outputs": [
    {
     "data": {
      "text/plain": [
       "('stomach?', 18)"
      ]
     },
     "execution_count": 42,
     "metadata": {},
     "output_type": "execute_result"
    }
   ],
   "source": [
    "_q, len(answers)"
   ]
  },
  {
   "cell_type": "code",
   "execution_count": 43,
   "metadata": {
    "scrolled": true
   },
   "outputs": [
    {
     "data": {
      "text/plain": [
       "[(1, ('band', 'procedure')),\n",
       " (1, ('below', 'diaphragm')),\n",
       " (1, ('catheter',)),\n",
       " (1, ('contours', 'normal')),\n",
       " (1, ('course', 'inferiorly')),\n",
       " (1, ('esophagogastric', 'distal')),\n",
       " (1, ('fluid',)),\n",
       " (1, ('large',)),\n",
       " (1, ('lateral',)),\n",
       " (1, ('loops',)),\n",
       " (1, ('mild',)),\n",
       " (1, ('multiple', 'distended')),\n",
       " (1, ('nasogastric',)),\n",
       " (1, ('not',)),\n",
       " (1, ('overlying',)),\n",
       " (1, ('postoperative', 'esophagectomy')),\n",
       " (1, ('projecting', 'body')),\n",
       " (1, ('pull',)),\n",
       " (1, ('rectal',)),\n",
       " (1, ('removed', 'gastric')),\n",
       " (1, ('small', 'bowel')),\n",
       " (1, ('suction',)),\n",
       " (1, ('upper', 'quadrant')),\n",
       " (2, ('enteric',)),\n",
       " (2, ('tube', 'tip')),\n",
       " (3, ('aorta',)),\n",
       " (3, ('cardiac', 'apex')),\n",
       " (3, ('sided',)),\n",
       " (3, ('stomach', 'left'))]"
      ]
     },
     "execution_count": 43,
     "metadata": {},
     "output_type": "execute_result"
    }
   ],
   "source": [
    "iuxray_balanced_metadata['top_ngrams'][(_qid, 1)]"
   ]
  },
  {
   "cell_type": "code",
   "execution_count": 44,
   "metadata": {},
   "outputs": [
    {
     "data": {
      "text/plain": [
       "[(0, 1, 'To the stomach contours appear grossly clear'),\n",
       " (0,\n",
       "  0,\n",
       "  'Large hiatal hernia is identified containing stomach and colon. Stable appearance of large hiatal hernia containing stomach and large bowel as well as possible small bowel loops'),\n",
       " (0,\n",
       "  2,\n",
       "  'The stomach is distended with an air-fluid level. Large hiatal hernia with dilated intrathoracic stomach. CT findings suggestive organoaxial gastric volvulus')]"
      ]
     },
     "execution_count": 44,
     "metadata": {},
     "output_type": "execute_result"
    }
   ],
   "source": [
    "[x for x in answers if x[0] == 0]"
   ]
  },
  {
   "cell_type": "code",
   "execution_count": 45,
   "metadata": {
    "scrolled": true
   },
   "outputs": [
    {
     "data": {
      "text/plain": [
       "Counter({4: 1,\n",
       "         9: 1,\n",
       "         0: 1,\n",
       "         10: 1,\n",
       "         7: 1,\n",
       "         15: 1,\n",
       "         25: 3,\n",
       "         12: 1,\n",
       "         19: 1,\n",
       "         1: 1,\n",
       "         23: 1,\n",
       "         6: 1,\n",
       "         3: 1})"
      ]
     },
     "execution_count": 45,
     "metadata": {},
     "output_type": "execute_result"
    }
   ],
   "source": [
    "Counter([x[1] for x in answers if x[0] == 1])"
   ]
  },
  {
   "cell_type": "code",
   "execution_count": 24,
   "metadata": {},
   "outputs": [],
   "source": [
    "from torch.utils.data import Dataset\n",
    "from collections import Counter"
   ]
  },
  {
   "cell_type": "code",
   "execution_count": 3,
   "metadata": {},
   "outputs": [],
   "source": [
    "class AtomicDataset(Dataset):\n",
    "    def __init__(self, label, k):\n",
    "        self.data = [f'{label}_{i}' for i in range(k)]\n",
    "        self._length = int(1e12)\n",
    "    \n",
    "    def __len__(self):\n",
    "        return self._length\n",
    "\n",
    "    def __getitem__(self, i):\n",
    "        data = self.data\n",
    "        return data[i % len(data)]"
   ]
  },
  {
   "cell_type": "code",
   "execution_count": 10,
   "metadata": {},
   "outputs": [],
   "source": [
    "class CompositeDataset(Dataset):\n",
    "    def __init__(self, datasets, weights):\n",
    "        self.datasets = datasets\n",
    "        self._init_indices(datasets, weights)\n",
    "        self._length = int(1e12)\n",
    "    \n",
    "    def _init_indices(self, datasets, weights):\n",
    "        tot_w = sum(weights)\n",
    "        freqs = [int(len(datasets) * 200 * w/tot_w) for w in weights]\n",
    "        count = sum(freqs)\n",
    "        indices = [None] * count\n",
    "        dataset_ids = list(range(len(datasets)))\n",
    "        dataset_ids.sort(key = lambda i : freqs[i], reverse=True)\n",
    "        available_slots = list(range(count))\n",
    "        for i in dataset_ids:\n",
    "            assert len(available_slots) >= freqs[i]\n",
    "            step = len(available_slots) / freqs[i]\n",
    "            for j in range(freqs[i]):\n",
    "                jj = int(j * step)\n",
    "                indices[available_slots[jj]] = i\n",
    "            available_slots = [s for s in available_slots if indices[s] is None]\n",
    "        indices = [i for i in indices if i is not None]\n",
    "        \n",
    "        dataset_counts = [[0] * len(indices) for _ in range(len(datasets))]\n",
    "        for i in range(len(datasets)):\n",
    "            for j in range(len(indices)):\n",
    "                dataset_counts[i][j] = (indices[j] == i) + (dataset_counts[i][j-1] if j > 0 else 0)\n",
    "            assert dataset_counts[i][-1] > 0, (i, dataset_counts[i], indices)\n",
    "\n",
    "        self.indices = indices\n",
    "        self.counts = dataset_counts\n",
    "    \n",
    "    def __len__(self):\n",
    "        return self._length\n",
    "    \n",
    "    def __getitem__(self, i):\n",
    "        indices = self.indices        \n",
    "        ii = i % len(indices)\n",
    "        idx = indices[ii]\n",
    "        assert idx < len(self.datasets)\n",
    "        counts = self.counts[idx]\n",
    "        j = (i // len(indices)) * counts[-1] + (counts[ii - 1] if ii > 0 else 0)\n",
    "        assert j < len(self.datasets[idx])\n",
    "        return self.datasets[idx][j]"
   ]
  },
  {
   "cell_type": "code",
   "execution_count": 37,
   "metadata": {},
   "outputs": [],
   "source": [
    "import numpy as np\n",
    "\n",
    "INFINITE_DATASET_LENGTH = int(1e18)\n",
    "\n",
    "def _get_balancedly_distributed_class_indices(class_weights):\n",
    "    w_sum = sum(class_weights)\n",
    "    ws = [w / w_sum for w in class_weights]\n",
    "    w_min = min(ws)\n",
    "    assert w_min > 0\n",
    "    freqs = [int(20 * w/w_min) for w in ws]\n",
    "    count = sum(freqs)\n",
    "    indices = [None] * count\n",
    "    class_ids = list(range(len(class_weights)))\n",
    "    class_ids.sort(key = lambda i : freqs[i], reverse=True)\n",
    "    available_slots = list(range(count))\n",
    "    for i in class_ids:\n",
    "        assert len(available_slots) >= freqs[i]\n",
    "        step = len(available_slots) / freqs[i]\n",
    "        for j in range(freqs[i]):\n",
    "            jj = int(j * step)\n",
    "            indices[available_slots[jj]] = i\n",
    "        available_slots = [s for s in available_slots if indices[s] is None]\n",
    "    indices = [i for i in indices if i is not None]\n",
    "    return np.array(indices, dtype=int)\n",
    "\n",
    "class BatchedCompositeInfiniteDataset(Dataset):\n",
    "    def __init__(self, datasets, weights, batch_size):\n",
    "        self.datasets = datasets\n",
    "        self._init_indices(datasets, weights)\n",
    "        self.batch_size = batch_size\n",
    "    \n",
    "    def _init_indices(self, datasets, weights):\n",
    "        assert len(datasets) == len(weights)\n",
    "        \n",
    "        dataset_indices = _get_balancedly_distributed_class_indices(weights)\n",
    "        \n",
    "        dataset_counts = np.zeros((len(datasets), len(dataset_indices)), dtype=int)\n",
    "        for i in range(len(datasets)):\n",
    "            for j in range(len(dataset_indices)):\n",
    "                dataset_counts[i][j] = (dataset_indices[j] == i) + (dataset_counts[i][j-1] if j > 0 else 0)\n",
    "            assert dataset_counts[i][-1] > 0, (i, dataset_counts[i], dataset_indices)\n",
    "\n",
    "        self.indices = dataset_indices\n",
    "        self.counts = dataset_counts\n",
    "    \n",
    "    def __len__(self):\n",
    "        return INFINITE_DATASET_LENGTH\n",
    "    \n",
    "    def __getitem__(self, i):\n",
    "        indices = self.indices\n",
    "        batch_size = self.batch_size\n",
    "        batch_i = i // batch_size\n",
    "        dataset_i = batch_i % len(indices)\n",
    "        dataset_id = indices[dataset_i]\n",
    "        assert dataset_id < len(self.datasets)\n",
    "        counts = self.counts[dataset_id]\n",
    "        j = (counts[-1] * (batch_i // len(indices)) +\n",
    "            (counts[dataset_i - 1] if dataset_i > 0 else 0) - batch_i) * batch_size + i\n",
    "        assert j < len(self.datasets[dataset_id])\n",
    "        return self.datasets[dataset_id][j]"
   ]
  },
  {
   "cell_type": "code",
   "execution_count": 6,
   "metadata": {},
   "outputs": [],
   "source": [
    "datasetA = AtomicDataset('A', 5123)"
   ]
  },
  {
   "cell_type": "code",
   "execution_count": 7,
   "metadata": {},
   "outputs": [],
   "source": [
    "datasetB = AtomicDataset('B', 1022)"
   ]
  },
  {
   "cell_type": "code",
   "execution_count": 8,
   "metadata": {},
   "outputs": [],
   "source": [
    "datasetC = AtomicDataset('C', 3033)"
   ]
  },
  {
   "cell_type": "code",
   "execution_count": 9,
   "metadata": {},
   "outputs": [],
   "source": [
    "datasetD = AtomicDataset('D', 232)"
   ]
  },
  {
   "cell_type": "code",
   "execution_count": 38,
   "metadata": {},
   "outputs": [],
   "source": [
    "batched_dataset = BatchedCompositeInfiniteDataset([datasetA, datasetB, datasetC], [1,2,3], 2)"
   ]
  },
  {
   "cell_type": "code",
   "execution_count": 39,
   "metadata": {},
   "outputs": [
    {
     "data": {
      "text/plain": [
       "Counter({2: 60, 1: 40, 0: 20})"
      ]
     },
     "execution_count": 39,
     "metadata": {},
     "output_type": "execute_result"
    }
   ],
   "source": [
    "Counter(batched_dataset.indices)"
   ]
  },
  {
   "cell_type": "code",
   "execution_count": 36,
   "metadata": {},
   "outputs": [
    {
     "data": {
      "text/plain": [
       "array([2, 2, 2, 2, 1, 1, 2, 1, 1, 1, 2, 0, 0, 2, 1, 2, 2, 1, 0, 2, 0, 1,\n",
       "       1, 0, 2, 0, 2, 1, 2, 2, 2, 1, 2, 2, 2, 1, 1, 2, 1, 2, 2, 1, 2, 2,\n",
       "       0, 1, 2, 2, 1, 2])"
      ]
     },
     "execution_count": 36,
     "metadata": {},
     "output_type": "execute_result"
    }
   ],
   "source": [
    "batched_dataset.indices[:50]"
   ]
  },
  {
   "cell_type": "code",
   "execution_count": 31,
   "metadata": {},
   "outputs": [
    {
     "data": {
      "text/plain": [
       "['C_0',\n",
       " 'C_1',\n",
       " 'C_2',\n",
       " 'C_3',\n",
       " 'B_0',\n",
       " 'B_1',\n",
       " 'C_4',\n",
       " 'C_5',\n",
       " 'B_2',\n",
       " 'B_3',\n",
       " 'C_6',\n",
       " 'C_7',\n",
       " 'B_4',\n",
       " 'B_5',\n",
       " 'C_8',\n",
       " 'C_9',\n",
       " 'A_0',\n",
       " 'A_1',\n",
       " 'C_10',\n",
       " 'C_11',\n",
       " 'B_6',\n",
       " 'B_7',\n",
       " 'C_12',\n",
       " 'C_13',\n",
       " 'B_8',\n",
       " 'B_9',\n",
       " 'C_14',\n",
       " 'C_15',\n",
       " 'A_2',\n",
       " 'A_3',\n",
       " 'C_16',\n",
       " 'C_17',\n",
       " 'B_10',\n",
       " 'B_11',\n",
       " 'C_18',\n",
       " 'C_19',\n",
       " 'B_12',\n",
       " 'B_13',\n",
       " 'C_20',\n",
       " 'C_21',\n",
       " 'A_4',\n",
       " 'A_5',\n",
       " 'C_22',\n",
       " 'C_23',\n",
       " 'B_14',\n",
       " 'B_15',\n",
       " 'C_24',\n",
       " 'C_25',\n",
       " 'B_16',\n",
       " 'B_17']"
      ]
     },
     "execution_count": 31,
     "metadata": {},
     "output_type": "execute_result"
    }
   ],
   "source": [
    "[batched_dataset[i] for i in range(50)]"
   ]
  },
  {
   "cell_type": "code",
   "execution_count": 508,
   "metadata": {},
   "outputs": [
    {
     "name": "stdout",
     "output_type": "stream",
     "text": [
      "freqs =  [1, 2, 596]\n"
     ]
    }
   ],
   "source": [
    "complex_dataset = ComposedDataset([datasetA, datasetB, datasetC], [5, 7, 2000])"
   ]
  },
  {
   "cell_type": "code",
   "execution_count": 506,
   "metadata": {},
   "outputs": [
    {
     "name": "stdout",
     "output_type": "stream",
     "text": [
      "freqs =  [200, 200]\n"
     ]
    }
   ],
   "source": [
    "complex_dataset_2 = ComposedDataset([complex_dataset, datasetD], [1, 1])"
   ]
  },
  {
   "cell_type": "code",
   "execution_count": 507,
   "metadata": {},
   "outputs": [
    {
     "data": {
      "text/plain": [
       "['C_0',\n",
       " 'D_0',\n",
       " 'C_1',\n",
       " 'D_1',\n",
       " 'B_0',\n",
       " 'D_2',\n",
       " 'C_2',\n",
       " 'D_3',\n",
       " 'C_3',\n",
       " 'D_4',\n",
       " 'B_1',\n",
       " 'D_5',\n",
       " 'C_4',\n",
       " 'D_6',\n",
       " 'C_5',\n",
       " 'D_7',\n",
       " 'A_0',\n",
       " 'D_8',\n",
       " 'C_6',\n",
       " 'D_9',\n",
       " 'B_2',\n",
       " 'D_10',\n",
       " 'C_7',\n",
       " 'D_11',\n",
       " 'C_8',\n",
       " 'D_12',\n",
       " 'A_1',\n",
       " 'D_13',\n",
       " 'C_9',\n",
       " 'D_14',\n",
       " 'C_10',\n",
       " 'D_15',\n",
       " 'B_3',\n",
       " 'D_16',\n",
       " 'C_11',\n",
       " 'D_17',\n",
       " 'B_4',\n",
       " 'D_18',\n",
       " 'C_12',\n",
       " 'D_19',\n",
       " 'C_13',\n",
       " 'D_20',\n",
       " 'A_2',\n",
       " 'D_21',\n",
       " 'C_14',\n",
       " 'D_22',\n",
       " 'C_15',\n",
       " 'D_23',\n",
       " 'B_5',\n",
       " 'D_24']"
      ]
     },
     "execution_count": 507,
     "metadata": {},
     "output_type": "execute_result"
    }
   ],
   "source": [
    "[complex_dataset_2[i] for i in range(50)]"
   ]
  },
  {
   "cell_type": "code",
   "execution_count": 510,
   "metadata": {},
   "outputs": [],
   "source": [
    "import math"
   ]
  },
  {
   "cell_type": "code",
   "execution_count": 576,
   "metadata": {},
   "outputs": [],
   "source": [
    "def normalize_weights(ws):\n",
    "    w_sum = sum(ws)\n",
    "    ws = [w/w_sum for w in ws]\n",
    "    ws = [math.log(1 + w * 2e3) for w in ws]\n",
    "    w_sum = sum(ws)\n",
    "    ws = [w/w_sum for w in ws]\n",
    "    return ws"
   ]
  },
  {
   "cell_type": "code",
   "execution_count": 580,
   "metadata": {},
   "outputs": [
    {
     "data": {
      "text/plain": [
       "[0.672374888615261, 0.32762511138473915]"
      ]
     },
     "execution_count": 580,
     "metadata": {},
     "output_type": "execute_result"
    }
   ],
   "source": [
    "normalize_weights([5000, 100])"
   ]
  },
  {
   "cell_type": "code",
   "execution_count": 554,
   "metadata": {},
   "outputs": [
    {
     "data": {
      "text/plain": [
       "([8.699681400989514, 0.5596157879354227, 2.772588722239781],\n",
       " [0.7230521852702111, 0.04651106169616683, 0.2304367530336221])"
      ]
     },
     "execution_count": 554,
     "metadata": {},
     "output_type": "execute_result"
    }
   ],
   "source": [
    "x = [math.log(1 + x * 0.15) for x in [4e4, 5, 100]]\n",
    "x_sum = sum(x)\n",
    "x, [y/x_sum for y in x]"
   ]
  }
 ],
 "metadata": {
  "kernelspec": {
   "display_name": "Python 3",
   "language": "python",
   "name": "python3"
  },
  "language_info": {
   "codemirror_mode": {
    "name": "ipython",
    "version": 3
   },
   "file_extension": ".py",
   "mimetype": "text/x-python",
   "name": "python",
   "nbconvert_exporter": "python",
   "pygments_lexer": "ipython3",
   "version": "3.6.9"
  }
 },
 "nbformat": 4,
 "nbformat_minor": 4
}
