{
 "cells": [
  {
   "cell_type": "code",
   "execution_count": null,
   "id": "525b6006",
   "metadata": {
    "scrolled": true
   },
   "outputs": [],
   "source": [
    "!python ../../scripts/mimiccxr/paraphrase_anatomical_locations_with_openai.py \\\n",
    "    --integrated_fact_metadata_filepath \"/home/pamessina/medvqa-workspace/cache/mimiccxr/integrated_fact_metadata(578718,58628868).jsonl\" \\\n",
    "    --offset 10000 \\\n",
    "    --num_sentences 10000 \\\n",
    "    --max_requests_per_minute 3000 \\\n",
    "    --max_tokens_per_minute 80000 \\\n",
    "    --max_tokens_per_request 300 \\\n",
    "    --logging_level \"INFO\" \\\n",
    "    --api_key_name \"OPENAI_API_KEY_2\" \\\n",
    "    --openai_model_name \"gpt-3.5-turbo-0613\" \\\n",
    "    --alias \"__part2\""
   ]
  },
  {
   "cell_type": "code",
   "execution_count": 8,
   "id": "fdadc356",
   "metadata": {},
   "outputs": [],
   "source": [
    "from medvqa.utils.files import load_jsonl\n",
    "\n",
    "_tmp = load_jsonl('/home/pamessina/medvqa-workspace/cache/mimiccxr/openai/gpt-3.5-turbo-0613_paraphrased_anatomical_locations__part2.jsonl')"
   ]
  },
  {
   "cell_type": "code",
   "execution_count": 9,
   "id": "5702acc3",
   "metadata": {},
   "outputs": [
    {
     "data": {
      "text/plain": [
       "9890"
      ]
     },
     "execution_count": 9,
     "metadata": {},
     "output_type": "execute_result"
    }
   ],
   "source": [
    "len(_tmp)"
   ]
  },
  {
   "cell_type": "code",
   "execution_count": 22,
   "id": "0487aa13",
   "metadata": {},
   "outputs": [
    {
     "data": {
      "text/plain": [
       "{'metadata': {'anatomical location': 'superior to the lung apices'},\n",
       " 'parsed_response': ['above the lung apices',\n",
       "  'cranial to the lung apices',\n",
       "  'superior to the uppermost part of the lungs',\n",
       "  'higher than the lung apices',\n",
       "  'located above the apex of the lungs',\n",
       "  'cephalad to the lung apices',\n",
       "  'at a higher level than the lung apices',\n",
       "  'situated superiorly to the lung apices',\n",
       "  'above the highest point of the lungs',\n",
       "  'superior to the uppermost portion of the lungs',\n",
       "  'positioned cranially to the lung apices',\n",
       "  'found at a higher position than the lung apices',\n",
       "  'situated above the apex of the lungs',\n",
       "  'located superiorly to the lung apices',\n",
       "  'above the most superior part of the lungs',\n",
       "  'superior to the uppermost area of the lungs',\n",
       "  'positioned cranially to the apex of the lungs',\n",
       "  'found at a higher level than the lung apices',\n",
       "  'situated above the highest point of the lungs']}"
      ]
     },
     "execution_count": 22,
     "metadata": {},
     "output_type": "execute_result"
    }
   ],
   "source": [
    "_tmp[-4000]"
   ]
  }
 ],
 "metadata": {
  "kernelspec": {
   "display_name": "venv2",
   "language": "python",
   "name": "venv2"
  },
  "language_info": {
   "codemirror_mode": {
    "name": "ipython",
    "version": 3
   },
   "file_extension": ".py",
   "mimetype": "text/x-python",
   "name": "python",
   "nbconvert_exporter": "python",
   "pygments_lexer": "ipython3",
   "version": "3.10.10"
  }
 },
 "nbformat": 4,
 "nbformat_minor": 5
}
