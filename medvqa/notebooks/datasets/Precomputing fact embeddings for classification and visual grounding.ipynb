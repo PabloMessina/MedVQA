{
 "cells": [
  {
   "cell_type": "code",
   "execution_count": 1,
   "id": "765bb40b",
   "metadata": {
    "scrolled": true
   },
   "outputs": [
    {
     "name": "stdout",
     "output_type": "stream",
     "text": [
      "env: CUDA_VISIBLE_DEVICES=1\n"
     ]
    }
   ],
   "source": [
    "%env CUDA_VISIBLE_DEVICES=1"
   ]
  },
  {
   "cell_type": "code",
   "execution_count": 9,
   "id": "4814cd7a",
   "metadata": {},
   "outputs": [],
   "source": [
    "from medvqa.utils.files_utils import load_pickle, list_filepaths_with_prefix_and_timestamps"
   ]
  },
  {
   "cell_type": "code",
   "execution_count": 2,
   "id": "4771be87",
   "metadata": {},
   "outputs": [
    {
     "data": {
      "text/plain": [
       "[('/mnt/data/pamessina_folder_backup_15_10_24/pamessina/medvqa-workspace/cache/vinbig/label_phrase_embeddings__modified(hash=572,2522233010228708301).pkl',\n",
       "  '2025-02-02 22:55:01'),\n",
       " ('/mnt/data/pamessina_folder_backup_15_10_24/pamessina/medvqa-workspace/cache/vinbig/label_phrase_embeddings(hash=353,2491289492560726319).pkl.random_vectors.pkl',\n",
       "  '2025-01-30 09:54:46'),\n",
       " ('/mnt/data/pamessina_folder_backup_15_10_24/pamessina/medvqa-workspace/cache/vinbig/label_phrase_embeddings(hash=561,2254045888337408829).pkl',\n",
       "  '2025-01-25 12:07:50'),\n",
       " ('/mnt/data/pamessina_folder_backup_15_10_24/pamessina/medvqa-workspace/cache/vinbig/label_phrase_embeddings(hash=585,3062020762864450005).pkl',\n",
       "  '2025-01-08 00:06:29'),\n",
       " ('/mnt/data/pamessina_folder_backup_15_10_24/pamessina/medvqa-workspace/cache/vinbig/label_phrase_embeddings(hash=353,2491289492560726319).pkl',\n",
       "  '2024-10-25 16:40:36'),\n",
       " ('/mnt/data/pamessina_folder_backup_15_10_24/pamessina/medvqa-workspace/cache/vinbig/label_phrase_embeddings(hash=514,3911788164261367088).pkl',\n",
       "  '2024-10-25 10:15:49'),\n",
       " ('/mnt/data/pamessina_folder_backup_15_10_24/pamessina/medvqa-workspace/cache/vinbig/label_phrase_embeddings(hash=325,3209166273642513277).pkl',\n",
       "  '2024-10-15 08:07:02'),\n",
       " ('/mnt/data/pamessina_folder_backup_15_10_24/pamessina/medvqa-workspace/cache/vinbig/label_phrase_embeddings(hash=325,2238524744738711392).pkl',\n",
       "  '2024-10-15 08:07:02')]"
      ]
     },
     "execution_count": 2,
     "metadata": {},
     "output_type": "execute_result"
    }
   ],
   "source": [
    "list_filepaths_with_prefix_and_timestamps('/mnt/data/pamessina_folder_backup_15_10_24/pamessina/medvqa-workspace/cache/vinbig/label_phrase_embeddings')"
   ]
  },
  {
   "cell_type": "markdown",
   "id": "50250026",
   "metadata": {},
   "source": [
    "# VinDR-CXR"
   ]
  },
  {
   "cell_type": "code",
   "execution_count": 69,
   "id": "f6b67632",
   "metadata": {},
   "outputs": [
    {
     "name": "stdout",
     "output_type": "stream",
     "text": [
      "checkpoint_names = ['checkpoint_196_cacc+chf1+chf1+cscc+encc+hscc+nlcc+sass+spss+ta0)+ta1)+ta2)+ta0)+ta1)+ta2)+ta3)+ta4)+ta5)+ta6)+ta7)=0.9189.pt']\n",
      "\u001b[1mExtracting embeddings...\u001b[0m\n",
      "  0%|                                                    | 0/28 [00:00<?, ?it/s]Loading cached text embeddings from /mnt/data/pamessina_folder_backup_15_10_24/pamessina/medvqa-workspace/cache/text_embeddings_cache(hash=469,680486110513564934).pkl\n",
      "len(self.cache[\"hashes\"]) = 623048\n",
      "self.cache[\"embeddings\"].shape = (623048, 128)\n",
      "100%|███████████████████████████████████████████| 28/28 [00:00<00:00, 65.45it/s]\n",
      "\u001b[1m\u001b[34mSaving output to:\u001b[0m \u001b[1m\u001b[34m/mnt/data/pamessina_folder_backup_15_10_24/pamessina/medvqa-workspace/cache/vinbig/label_phrase_embeddings(hash=353,2491289492560726319).pkl\u001b[0m\n",
      "Done!\n"
     ]
    }
   ],
   "source": [
    "!python ../../scripts/vinbig/precompute_phrase_embeddings.py \\\n",
    "--model_name \"microsoft/BiomedVLP-CXR-BERT-specialized\" \\\n",
    "--model_checkpoint_folder_path \\\n",
    "\"/mnt/data/pamessina/workspaces/medvqa-workspace/models/fact_embedding/20240629_084405_MIMIC-CXR(triplets+classif+entcont+nli+radgraph+autoencoder)_FactEncoder(microsoft-BiomedVLP-CXR-BERT-specialized)\""
   ]
  },
  {
   "cell_type": "code",
   "execution_count": 53,
   "id": "3fbdd2b6",
   "metadata": {},
   "outputs": [
    {
     "name": "stdout",
     "output_type": "stream",
     "text": [
      "checkpoint_names = ['checkpoint_196_cacc+chf1+chf1+cscc+encc+hscc+nlcc+sass+spss+ta0)+ta1)+ta2)+ta0)+ta1)+ta2)+ta3)+ta4)+ta5)+ta6)+ta7)=0.9189.pt']\n",
      "Loading integrated fact metadata from: /home/pamessina/medvqa-workspace/cache/mimiccxr/integrated_fact_metadata(595880,60579117).improved_comparison(6741113).jsonl\n",
      "Loaded 595875 facts.\n",
      "\u001b[1mExtracting embeddings...\u001b[0m\n",
      "  0%|                                                | 0/595875 [00:00<?, ?it/s]Loading cached text embeddings from /mnt/data/pamessina_folder_backup_15_10_24/pamessina/medvqa-workspace/cache/text_embeddings_cache(hash=469,680486110513564934).pkl\n",
      "len(self.cache[\"hashes\"]) = 623048\n",
      "self.cache[\"embeddings\"].shape = (623048, 128)\n",
      "100%|███████████████████████████████| 595875/595875 [00:01<00:00, 331384.00it/s]\n",
      "100%|███████████████████████████████████████| 28/28 [00:00<00:00, 268129.02it/s]\n",
      "\u001b[1m\u001b[34mSaving output to:\u001b[0m \u001b[1m\u001b[34m/mnt/data/pamessina_folder_backup_15_10_24/pamessina/medvqa-workspace/cache/vinbig/label_phrase_embeddings(hash=514,3911788164261367088).pkl\u001b[0m\n",
      "Done!\n"
     ]
    }
   ],
   "source": [
    "!python ../../scripts/vinbig/precompute_phrase_embeddings.py \\\n",
    "--model_name \"microsoft/BiomedVLP-CXR-BERT-specialized\" \\\n",
    "--model_checkpoint_folder_path \\\n",
    "\"/mnt/data/pamessina/workspaces/medvqa-workspace/models/fact_embedding/20240629_084405_MIMIC-CXR(triplets+classif+entcont+nli+radgraph+autoencoder)_FactEncoder(microsoft-BiomedVLP-CXR-BERT-specialized)\" \\\n",
    "--average_top_k_most_similar \\\n",
    "--top_k 10 \\\n",
    "--integrated_fact_metadata_filepath \\\n",
    "\"/home/pamessina/medvqa-workspace/cache/mimiccxr/integrated_fact_metadata(595880,60579117).improved_comparison(6741113).jsonl\""
   ]
  },
  {
   "cell_type": "code",
   "execution_count": 37,
   "id": "ab1191de",
   "metadata": {
    "scrolled": true
   },
   "outputs": [
    {
     "name": "stdout",
     "output_type": "stream",
     "text": [
      "Loading facts_relevant_to_anchor_facts from /mnt/data/pamessina_folder_backup_15_10_24/pamessina/medvqa-workspace/cache/mimiccxr_find_facts_relevant_to_anchor_facts(af=25,rf=404064)(hash=411,1888951042299108423).pkl...\n",
      "\u001b[1mExtracting embeddings...\u001b[0m\n",
      "100%|███████████████████████████████| 404064/404064 [00:00<00:00, 447070.94it/s]\n",
      "model state dict has 210 keys, loaded state dict has 252 keys, intersection has 210 keys, union has 252 keys.\n",
      "Examples of keys in loaded state dict but not in model:\n",
      "  fact_decoder.decoder.layers.0.linear2.bias\n",
      "  fact_decoder.decoder.layers.0.self_attn.in_proj_bias\n",
      "  chest_imagenome_obs_classifier.weight\n",
      "  fact_decoder_input_layer.bias\n",
      "  fact_decoder.decoder.layers.0.multihead_attn.in_proj_weight\n",
      "  nli_classifier.bias\n",
      "  fact_decoder.decoder.layers.0.norm3.weight\n",
      "  fact_decoder.W_vocab.weight\n",
      "  health_status_classifier.weight\n",
      "  nli_hidden_layer.bias\n",
      "100%|█████████████████████████████████████| 12557/12557 [04:35<00:00, 45.52it/s]\n",
      "100%|███████████████████████████████| 401824/401824 [00:00<00:00, 588333.74it/s]\n",
      "100%|███████████████████████████████████████| 28/28 [00:00<00:00, 193796.22it/s]\n",
      "model state dict has 210 keys, loaded state dict has 252 keys, intersection has 210 keys, union has 252 keys.\n",
      "Examples of keys in loaded state dict but not in model:\n",
      "  health_status_classifier.bias\n",
      "  comparison_status_classifier.weight\n",
      "  fact_decoder.decoder.layers.0.multihead_attn.out_proj.bias\n",
      "  fact_decoder_embedding_table.weight\n",
      "  fact_decoder.decoder.layers.0.linear2.bias\n",
      "  nli_classifier.weight\n",
      "  aux_task_hidden_layer.bias\n",
      "  fact_decoder.decoder.layers.0.norm2.bias\n",
      "  nli_hidden_layer.weight\n",
      "  fact_decoder.decoder.layers.0.norm3.bias\n",
      "100%|█████████████████████████████████████████████| 1/1 [00:00<00:00, 59.86it/s]\n",
      "100%|████████████████████████████████████████| 20/20 [00:00<00:00, 85163.53it/s]\n",
      "Aortic enlargement: len(anchor_fact_idxs)=2754\n",
      "Atelectasis: len(anchor_fact_idxs)=40553\n",
      "Calcification: len(anchor_fact_idxs)=12673\n",
      "Cardiomegaly: len(anchor_fact_idxs)=9865\n",
      "Clavicle fracture: len(anchor_fact_idxs)=1366\n",
      "Consolidation: len(anchor_fact_idxs)=36095\n",
      "Edema: len(anchor_fact_idxs)=21285\n",
      "Emphysema: len(anchor_fact_idxs)=5403\n",
      "Enlarged PA: len(anchor_fact_idxs)=3108\n",
      "ILD: len(anchor_fact_idxs)=10232\n",
      "Infiltration: len(anchor_fact_idxs)=6239\n",
      "Lung Opacity: len(anchor_fact_idxs)=143698\n",
      "Lung cavity: len(anchor_fact_idxs)=2671\n",
      "Lung cyst: len(anchor_fact_idxs)=1305\n",
      "Mediastinal shift: len(anchor_fact_idxs)=1887\n",
      "Nodule/Mass: len(anchor_fact_idxs)=30361\n",
      "Pleural effusion: len(anchor_fact_idxs)=54765\n",
      "Pleural thickening: len(anchor_fact_idxs)=4117\n",
      "Pneumothorax: len(anchor_fact_idxs)=20049\n",
      "Pulmonary fibrosis: len(anchor_fact_idxs)=3398\n",
      "Rib fracture: len(anchor_fact_idxs)=10976\n",
      "COPD: len(anchor_fact_idxs)=1844\n",
      "Lung tumor: len(anchor_fact_idxs)=2399\n",
      "Pneumonia: len(anchor_fact_idxs)=25849\n",
      "Tuberculosis: len(anchor_fact_idxs)=420\n",
      "\u001b[1m\u001b[34mSaving output to:\u001b[0m \u001b[1m\u001b[34m/mnt/data/pamessina_folder_backup_15_10_24/pamessina/medvqa-workspace/cache/vinbig/label_phrase_embeddings__modified(hash=563,1619361318328240166).pkl\u001b[0m\n",
      "Done!\n"
     ]
    }
   ],
   "source": [
    "!python ../../scripts/vinbig/precompute_phrase_embeddings.py \\\n",
    "--model_name \"microsoft/BiomedVLP-CXR-BERT-specialized\" \\\n",
    "--model_checkpoint_folder_path \\\n",
    "\"/mnt/data/pamessina/workspaces/medvqa-workspace/models/fact_embedding/20250610_213953_MIMIC-CXR(triplets+classif+entcont+nli+autoencoder)_FactEncoder(microsoft-BiomedVLP-CXR-BERT-specialized)\" \\\n",
    "--average_top_k_most_similar \\\n",
    "--top_k 100 \\\n",
    "--facts_relevant_to_anchor_facts_pickle_filepath \\\n",
    "\"/mnt/data/pamessina_folder_backup_15_10_24/pamessina/medvqa-workspace/cache/mimiccxr_find_facts_relevant_to_anchor_facts(af=25,rf=404064)(hash=411,1888951042299108423).pkl\" \\\n",
    "--use_modified_labels"
   ]
  },
  {
   "cell_type": "code",
   "execution_count": 45,
   "id": "bb0764a2",
   "metadata": {},
   "outputs": [
    {
     "name": "stdout",
     "output_type": "stream",
     "text": [
      "Loading facts_relevant_to_anchor_facts from /mnt/data/pamessina_folder_backup_15_10_24/pamessina/medvqa-workspace/cache/mimiccxr_find_facts_relevant_to_anchor_facts(af=25,rf=404064)(hash=411,1888951042299108423).pkl...\n",
      "\u001b[1mExtracting embeddings...\u001b[0m\n",
      "100%|████████████████████████████████| 404064/404064 [00:04<00:00, 95187.54it/s]\n",
      "100%|███████████████████████████████████████| 28/28 [00:00<00:00, 199389.66it/s]\n",
      "model state dict has 210 keys, loaded state dict has 252 keys, intersection has 210 keys, union has 252 keys.\n",
      "Examples of keys in loaded state dict but not in model:\n",
      "  chest_imagenome_anatloc_classifier.bias\n",
      "  fact_decoder.decoder.layers.0.norm3.bias\n",
      "  fact_decoder_input_layer.weight\n",
      "  fact_decoder.decoder.layers.0.norm1.weight\n",
      "  fact_decoder.decoder.layers.0.multihead_attn.out_proj.weight\n",
      "  health_status_classifier.bias\n",
      "  nli_classifier.weight\n",
      "  fact_decoder.pos_encoder.pe\n",
      "  fact_decoder.decoder.layers.0.multihead_attn.out_proj.bias\n",
      "  fact_decoder.decoder.layers.0.linear1.bias\n",
      "100%|█████████████████████████████████████████████| 1/1 [00:00<00:00,  5.65it/s]\n",
      "100%|███████████████████████████████████████████| 1/1 [00:00<00:00, 5729.92it/s]\n",
      "Aortic enlargement: len(anchor_fact_idxs)=2754\n",
      "Atelectasis: len(anchor_fact_idxs)=40553\n",
      "Calcification: len(anchor_fact_idxs)=12673\n",
      "Cardiomegaly: len(anchor_fact_idxs)=9865\n",
      "Clavicle fracture: len(anchor_fact_idxs)=1366\n",
      "Consolidation: len(anchor_fact_idxs)=36095\n",
      "Edema: len(anchor_fact_idxs)=21285\n",
      "Emphysema: len(anchor_fact_idxs)=5403\n",
      "Enlarged PA: len(anchor_fact_idxs)=3108\n",
      "ILD: len(anchor_fact_idxs)=10232\n",
      "Infiltration: len(anchor_fact_idxs)=6239\n",
      "Lung Opacity: len(anchor_fact_idxs)=143698\n",
      "Lung cavity: len(anchor_fact_idxs)=2671\n",
      "Lung cyst: len(anchor_fact_idxs)=1305\n",
      "Mediastinal shift: len(anchor_fact_idxs)=1887\n",
      "Nodule/Mass: len(anchor_fact_idxs)=30361\n",
      "Pleural effusion: len(anchor_fact_idxs)=54765\n",
      "Pleural thickening: len(anchor_fact_idxs)=4117\n",
      "Pneumothorax: len(anchor_fact_idxs)=20049\n",
      "Pulmonary fibrosis: len(anchor_fact_idxs)=3398\n",
      "Rib fracture: len(anchor_fact_idxs)=10976\n",
      "COPD: len(anchor_fact_idxs)=1844\n",
      "Lung tumor: len(anchor_fact_idxs)=2399\n",
      "Pneumonia: len(anchor_fact_idxs)=25849\n",
      "Tuberculosis: len(anchor_fact_idxs)=420\n",
      "\u001b[1m\u001b[34mSaving output to:\u001b[0m \u001b[1m\u001b[34m/mnt/data/pamessina_folder_backup_15_10_24/pamessina/medvqa-workspace/cache/vinbig/label_phrase_embeddings(hash=553,547344555309613415).pkl\u001b[0m\n",
      "Done!\n"
     ]
    }
   ],
   "source": [
    "!python ../../scripts/vinbig/precompute_phrase_embeddings.py \\\n",
    "--model_name \"microsoft/BiomedVLP-CXR-BERT-specialized\" \\\n",
    "--model_checkpoint_folder_path \\\n",
    "\"/mnt/data/pamessina/workspaces/medvqa-workspace/models/fact_embedding/20250610_213953_MIMIC-CXR(triplets+classif+entcont+nli+autoencoder)_FactEncoder(microsoft-BiomedVLP-CXR-BERT-specialized)\" \\\n",
    "--average_top_k_most_similar \\\n",
    "--top_k 100 \\\n",
    "--facts_relevant_to_anchor_facts_pickle_filepath \\\n",
    "\"/mnt/data/pamessina_folder_backup_15_10_24/pamessina/medvqa-workspace/cache/mimiccxr_find_facts_relevant_to_anchor_facts(af=25,rf=404064)(hash=411,1888951042299108423).pkl\""
   ]
  },
  {
   "cell_type": "code",
   "execution_count": 38,
   "id": "b24e7959",
   "metadata": {},
   "outputs": [],
   "source": [
    "tmp = load_pickle('/mnt/data/pamessina_folder_backup_15_10_24/pamessina/medvqa-workspace/cache/vinbig/label_phrase_embeddings__modified(hash=563,1619361318328240166).pkl')"
   ]
  },
  {
   "cell_type": "code",
   "execution_count": 39,
   "id": "0b5ea793",
   "metadata": {},
   "outputs": [
    {
     "data": {
      "text/plain": [
       "dict_keys(['phrases', 'phrase_embeddings', 'most_similar_facts', 'most_similar_fact_embeddings', 'most_similar_fact_similarities'])"
      ]
     },
     "execution_count": 39,
     "metadata": {},
     "output_type": "execute_result"
    }
   ],
   "source": [
    "tmp.keys()"
   ]
  },
  {
   "cell_type": "code",
   "execution_count": 40,
   "id": "8bc9c26a",
   "metadata": {},
   "outputs": [
    {
     "data": {
      "text/plain": [
       "dtype('float32')"
      ]
     },
     "execution_count": 40,
     "metadata": {},
     "output_type": "execute_result"
    }
   ],
   "source": [
    "tmp['phrase_embeddings'].dtype"
   ]
  },
  {
   "cell_type": "code",
   "execution_count": 43,
   "id": "77d6194a",
   "metadata": {
    "scrolled": true
   },
   "outputs": [
    {
     "name": "stdout",
     "output_type": "stream",
     "text": [
      "----------------------\n",
      "aortic enlargement seen\n",
      "['aorta is dilated', 'enlarged aortic contour', 'aortic enlargement', 'significantly enlarged aorta', 'aortic root enlargement', 'thoracic aortic enlargement', 'generalized aortic enlargement', 'markedly enlarged aorta', 'enlarged aorta', 'enlargement of aorta']\n",
      "[0.9713574  0.969104   0.9653585  0.9648416  0.9645272  0.96390647\n",
      " 0.96342325 0.96238637 0.96209025 0.9608657 ]\n",
      "----------------------\n",
      "atelectasis seen\n",
      "['atelectasis seen', 'Atelectasis observed', 'atelectasis observed', 'atelectasis identified', 'atelectasis noted', 'atelectasis present', 'atelectasis demonstrated', 'atelectasis appreciated', 'atelectasis developed', 'new atelectases']\n",
      "[1.         0.99909073 0.9990906  0.9988968  0.9986898  0.9985175\n",
      " 0.9981873  0.99236274 0.98004293 0.9553515 ]\n",
      "----------------------\n",
      "calcification seen\n",
      "['calcification seen', 'calcification observed', 'calcification present', 'calcifications demonstrated', 'calcifications visualized', 'calcifications noted', 'calcifications present', 'calcifications observed', 'punctate calcifications seen', 'calcified plaque seen']\n",
      "[1.         0.99847066 0.99828213 0.9968583  0.99532133 0.9947009\n",
      " 0.99468863 0.99317986 0.9844264  0.9805123 ]\n",
      "----------------------\n",
      "cardiomegaly seen\n",
      "['cardiomegaly observed', 'cardiomegaly noted', 'cardiomegaly demonstrated', 'cardiomegaly present', 'cardiac enlargement identified', 'cardiomegaly is demonstrated', 'present cardiac enlargement', 'heart appears enlarged', 'observation of cardiomegaly', 'cardiomegaly is present']\n",
      "[0.99936646 0.99874616 0.99687636 0.9964437  0.99446404 0.9939389\n",
      " 0.992974   0.98405206 0.9820003  0.9812925 ]\n",
      "----------------------\n",
      "clavicle fracture seen\n",
      "['clavicle fracture visualized', 'clavicle fracture', 'clavicular fracture', 'fractured clavicle', 'broken clavicle', 'clavicular injury', 'evidence of clavicular fracture', 'evidence of a clavicular fracture', 'clavicular shaft fracture', 'fracture through the clavicle']\n",
      "[0.998462   0.9893524  0.98914695 0.9890115  0.9869726  0.9856817\n",
      " 0.98347557 0.9834194  0.98089933 0.98084176]\n",
      "----------------------\n",
      "consolidation seen\n",
      "['consolidation seen', 'consolidation demonstrated', 'consolidation noted', 'consolidation observed', 'consolidation present', 'consolidation appreciated', 'consolidation evident', 'consolidation confirmed', 'consolidation visible', 'region of consolidation visible']\n",
      "[1.         0.99979866 0.999632   0.99961066 0.99935174 0.9988359\n",
      " 0.99782956 0.99661934 0.9965754  0.97171897]\n",
      "----------------------\n",
      "edema seen\n",
      "['edema observed', 'edema present', 'tissue edema', 'edema evident', 'edema in the regions', 'extensive edema', 'edematous changes', 'areas of edema', 'edema visible', 'widespread edema']\n",
      "[0.99837416 0.96582633 0.9230507  0.91713065 0.9161499  0.9157603\n",
      " 0.9127152  0.9110169  0.91079473 0.90916026]\n",
      "----------------------\n",
      "emphysema seen\n",
      "['emphysema observed', 'emphysema noted', 'emphysema demonstrated', 'emphysema evident', 'emphysema', 'Emphysema', 'emphysema is seen', 'element of emphysema', 'emphysema confirmed', 'presence of emphysema']\n",
      "[0.99958885 0.9994512  0.9990628  0.9981103  0.9923599  0.9923599\n",
      " 0.98971725 0.9890929  0.9877672  0.9876895 ]\n",
      "----------------------\n",
      "enlarged pulmonary artery seen\n",
      "['enlarged pulmonary artery silhouette', 'dilated pulmonary artery', 'enlarged pulmonary artery', 'enlargement of the pulmonary arterial silhouette', 'enlarged pulmonary artery silhouettes', 'enlargement of pulmonary artery', 'prominent enlarged pulmonary artery', 'enlarged pulmonary artery trunk', 'enlarged pulmonary arterial branches', 'increased size of pulmonary artery']\n",
      "[0.98216426 0.97914124 0.9766252  0.9723306  0.97066045 0.96553123\n",
      " 0.96492374 0.96274275 0.9587435  0.95843303]\n",
      "----------------------\n",
      "interstitial lung disease seen\n",
      "['interstitial lung disease demonstrated', 'observation in interstitial lung disease', 'observation in the interstitial lung disease', 'interstitial lung disease', 'observation of interstitial lung disease', 'presence of interstitial lung disease', 'pulmonary interstitial disease', 'interstitial pulmonary disease', 'moderate interstitial lung disease', 'ILD in the lungs']\n",
      "[0.99794066 0.9780232  0.9774957  0.9773712  0.97608674 0.97566974\n",
      " 0.9753671  0.9753344  0.97161674 0.97098786]\n",
      "----------------------\n",
      "infiltration seen\n",
      "['infiltrate observed', 'infiltrate present', 'dense infiltrate', 'infiltrates noted', 'infiltrates observed', 'infiltrate', 'focal infiltrate detected', 'infiltrates present', 'small infiltrate seen', 'parenchymal infiltrate']\n",
      "[0.9942233  0.99210054 0.9649707  0.96219623 0.9586178  0.9572309\n",
      " 0.95176303 0.9482425  0.94023424 0.9398174 ]\n",
      "----------------------\n",
      "lung opacity seen\n",
      "['lung opacity', 'opacity of lung', 'opacity of the lung', 'opacity in the lung region', 'opacity involving the lung', 'opacity within the lung', 'opacity of the lung parenchyma', 'opacification in the lung', 'radiopacity in the lung', 'opacity in the lung field']\n",
      "[0.98314494 0.9828703  0.9803405  0.97819173 0.9780655  0.97788364\n",
      " 0.97686887 0.9757449  0.97545403 0.97488874]\n",
      "----------------------\n",
      "lung cavity seen\n",
      "['lung cavity', 'cavity in the lung', 'dominant cavity in the lung', 'cavity in lung', 'evidence of lung cavitation', 'internal cavitation in the lung', 'cavitation in lungs', 'cavitation within the lung', 'cavitation in the lungs', 'lung cavitation']\n",
      "[0.9499321  0.91539454 0.89792    0.88797796 0.8636884  0.8626301\n",
      " 0.8616682  0.86049676 0.8580778  0.8572396 ]\n",
      "----------------------\n",
      "lung cyst seen\n",
      "['lung cyst', 'cystic transformation in the lungs', 'bullae in the lung', 'bleb in the lung', 'lung cysts', 'bullas in the lungs', 'bullae in the lungs', 'bulla in the lung', 'pulmonary bullae', 'pulmonary bulla']\n",
      "[0.98356056 0.9797052  0.9795141  0.9768473  0.9766237  0.9762691\n",
      " 0.9752649  0.9740289  0.97353125 0.96710455]\n",
      "----------------------\n",
      "mediastinal shift seen\n",
      "['mediastinal shift present', 'presence of mediastinal shift', 'mediastinal shift is present', 'shift in the mediastinum', 'shifting of mediastinum', 'shifting of the mediastinum', 'shift of the mediastinum', 'deviation of mediastinal structures', 'shifting mediastinum', 'shift of mediastinum']\n",
      "[0.9957905  0.98222494 0.97242355 0.97221935 0.9596649  0.95963204\n",
      " 0.9579015  0.957317   0.9571357  0.9566859 ]\n",
      "----------------------\n",
      "nodule/mass seen\n",
      "['conspicuous nodule/mass', 'mass or lesion', 'mass lesion seen', 'mass lesion identified', 'nodule seen in retrospect', 'nodule/mass', 'work up indicated for nodules', 'detection of acinar-sized nodules', 'presence of satellite nodules', 'mass with fiducial seeds']\n",
      "[0.98133874 0.97392404 0.96042037 0.9594425  0.9575485  0.9563037\n",
      " 0.95343626 0.94963443 0.94779253 0.9474905 ]\n",
      "----------------------\n",
      "pleural effusion seen\n",
      "['pleural effusion seen', 'pleural effusion observed', 'pleural effusion noted', 'pleural effusion detected', 'pleural effusion demonstrated', 'pleural effusion visualized', 'pleural fluid demonstrated', 'pleural effusion confirmed', 'pleural effusion evident', 'pleural effusion appreciated']\n",
      "[0.9999998  0.99862593 0.99785686 0.99733216 0.9930043  0.9889251\n",
      " 0.980499   0.9774554  0.97435856 0.97319704]\n",
      "----------------------\n",
      "pleural thickening seen\n",
      "['pleural thickening seen', 'pleural thickening noted', 'pleural thickening observed', 'pleural thickening present', 'abnormal pleural thickening', 'irregular pleural thickening', 'thickening in the pleura', 'dense pleural thickening', 'thickened pleura', 'abnormally thickened pleura']\n",
      "[1.         0.9989096  0.9967998  0.99494565 0.98755646 0.9845449\n",
      " 0.98230624 0.97992146 0.9781806  0.9781701 ]\n",
      "----------------------\n",
      "pneumothorax seen\n",
      "['pneumothorax seen', 'pneumothorax observed', 'pneumothorax noted', 'pneumothorax detected', 'pneumothorax visualized', 'pneumothorax demonstrated', 'presence of pneumothoraces', 'lung visualized pneumothorax', 'presence of pneumothorax', 'pneumothorax evident']\n",
      "[1.         0.9995223  0.9974746  0.9957169  0.9873448  0.98588276\n",
      " 0.9800172  0.9743429  0.9583444  0.94808316]\n",
      "----------------------\n",
      "pulmonary fibrosis seen\n",
      "['presence of pulmonary fibrosis', 'pulmonary fibrosis', 'pulmonary fibrotic changes', 'fibrosis in lungs', 'documented lung fibrosis', 'known fibrosis in the lungs', 'pulmonary fibrotic disease', 'fibrosis in the lungs', 'lungs suggesting fibrosis', 'background pulmonary fibrosis']\n",
      "[0.9790399  0.97891784 0.97546756 0.9749995  0.97361434 0.97224694\n",
      " 0.971805   0.9701842  0.9688275  0.9680959 ]\n",
      "----------------------\n",
      "rib fracture seen\n",
      "['rib fracture seen', 'rib fracture identified', 'rib fracture confirmed', 'rib fractures visible', 'rib fractures demonstrated', 'rib fractures appreciated', 'rib injuries seen', 'rib fractures noted', 'rib fractures detected', 'rib fractures observed']\n",
      "[1.         0.99728805 0.9869614  0.97672254 0.97333777 0.9704648\n",
      " 0.9694104  0.9692559  0.9678498  0.96778905]\n",
      "----------------------\n",
      "other lesion seen\n",
      "----------------------\n",
      "copd seen\n",
      "['COPD noted', 'demonstrated COPD', 'demonstrates COPD', 'known COPD', 'Known COPD', 'presence of COPD', 'history COPD', 'indicates COPD', 'sign of COPD', 'known underlying COPD']\n",
      "[0.9990438  0.9965117  0.99364847 0.99317366 0.9931736  0.9927967\n",
      " 0.9917728  0.9900909  0.9899467  0.989511  ]\n",
      "----------------------\n",
      "lung tumor seen\n",
      "['tumor involvement of the lung', 'acute lung nodule malignancy', 'lung mass highly concerning for malignancy', 'mass concerning for primary lung malignancy', 'mass highly concerning for primary lung malignancy', 'nodule highly concerning for a primary lung cancer', 'tumor burden in the lung', 'nodule highly concerning for primary lung cancer', 'nodule concerning for primary lung cancer', 'neoplasm within the lung']\n",
      "[0.9665378  0.96080524 0.95693517 0.952621   0.95172775 0.9505334\n",
      " 0.9488964  0.94865704 0.94813174 0.947533  ]\n",
      "----------------------\n",
      "pneumonia seen\n",
      "['pneumonia seen', 'pneumonia noted', 'pneumonia demonstrated', 'pneumonia diagnosed', 'pneumonia present', 'pneumonia confirmed', 'detect pneumonia', 'detection of pneumonia', 'presence of viral pneumonia', 'diagnosed with pneumonia']\n",
      "[1.         0.9984437  0.99653614 0.9942281  0.9873688  0.98489916\n",
      " 0.97766775 0.97556806 0.9748285  0.9746533 ]\n",
      "----------------------\n",
      "tuberculosis seen\n",
      "['known tuberculosis', 'primary tuberculosis', 'appearance seen in tuberculosis', 'worrisome for tuberculosis', 'm. tuberculosis', 'current tuberculosis', 'reactivation tuberculosis', 'acute focal tuberculosis', 'reactive tuberculosis', 'finding concerning for tuberculosis']\n",
      "[0.9709166  0.96301246 0.9593439  0.9549421  0.95448554 0.9528585\n",
      " 0.94973946 0.9490417  0.9470302  0.9466109 ]\n",
      "----------------------\n",
      "other disease seen\n",
      "----------------------\n",
      "abnormal findings seen\n"
     ]
    }
   ],
   "source": [
    "import numpy as np\n",
    "for i, (p, ms, sims) in enumerate(zip(tmp['phrases'], tmp['most_similar_facts'], tmp['most_similar_fact_similarities'])):\n",
    "    print('----------------------')\n",
    "    print(p)\n",
    "    if ms is not None:\n",
    "        print(ms[:10])\n",
    "    if sims is not None:\n",
    "        print(sims[:10])"
   ]
  },
  {
   "cell_type": "markdown",
   "id": "ae2490a7",
   "metadata": {},
   "source": [
    "# Chest ImaGenome"
   ]
  },
  {
   "cell_type": "code",
   "execution_count": 64,
   "id": "ff441f3a",
   "metadata": {},
   "outputs": [
    {
     "name": "stdout",
     "output_type": "stream",
     "text": [
      "checkpoint_names = ['checkpoint_196_cacc+chf1+chf1+cscc+encc+hscc+nlcc+sass+spss+ta0)+ta1)+ta2)+ta0)+ta1)+ta2)+ta3)+ta4)+ta5)+ta6)+ta7)=0.9189.pt']\n",
      "Loading integrated fact metadata from: /home/pamessina/medvqa-workspace/cache/mimiccxr/integrated_fact_metadata(595880,60579117).improved_comparison(6741113).jsonl\n",
      "Loaded 28858 anatomical locations.\n",
      "\u001b[1mExtracting embeddings...\u001b[0m\n",
      "  0%|                                                 | 0/28858 [00:00<?, ?it/s]Loading cached text embeddings from /mnt/data/pamessina_folder_backup_15_10_24/pamessina/medvqa-workspace/cache/text_embeddings_cache(hash=469,680486110513564934).pkl\n",
      "len(self.cache[\"hashes\"]) = 623048\n",
      "self.cache[\"embeddings\"].shape = (623048, 128)\n",
      "100%|██████████████████████████████████| 28858/28858 [00:00<00:00, 58194.12it/s]\n",
      "100%|███████████████████████████████████████| 36/36 [00:00<00:00, 135058.09it/s]\n",
      "\u001b[1m\u001b[34mSaving output to:\u001b[0m \u001b[1m\u001b[34m/mnt/data/pamessina_folder_backup_15_10_24/pamessina/medvqa-workspace/cache/chest_imagenome/bbox_phrase_embeddings(hash=522,1261303459192373044).pkl\u001b[0m\n",
      "Done!\n"
     ]
    }
   ],
   "source": [
    "!python ../../scripts/chest_imagenome/precompute_bbox_phrase_embeddings.py \\\n",
    "--model_name \"microsoft/BiomedVLP-CXR-BERT-specialized\" \\\n",
    "--model_checkpoint_folder_path \\\n",
    "\"/mnt/data/pamessina/workspaces/medvqa-workspace/models/fact_embedding/20240629_084405_MIMIC-CXR(triplets+classif+entcont+nli+radgraph+autoencoder)_FactEncoder(microsoft-BiomedVLP-CXR-BERT-specialized)\" \\\n",
    "--average_top_k_most_similar \\\n",
    "--top_k 10 \\\n",
    "--integrated_fact_metadata_filepath \\\n",
    "\"/home/pamessina/medvqa-workspace/cache/mimiccxr/integrated_fact_metadata(595880,60579117).improved_comparison(6741113).jsonl\""
   ]
  },
  {
   "cell_type": "code",
   "execution_count": 26,
   "id": "e29890bc",
   "metadata": {
    "scrolled": true
   },
   "outputs": [
    {
     "name": "stdout",
     "output_type": "stream",
     "text": [
      "Loading integrated fact metadata from: /home/pamessina/medvqa-workspace/cache/mimiccxr/integrated_fact_metadata(606074,61621903).jsonl\n",
      "Loaded 28898 anatomical locations.\n",
      "\u001b[1mExtracting embeddings...\u001b[0m\n",
      "100%|█████████████████████████████████| 28898/28898 [00:00<00:00, 128531.08it/s]\n",
      "100%|███████████████████████████████████████| 36/36 [00:00<00:00, 179542.15it/s]\n",
      "\u001b[1mRanking and re-ranking anatomical locations...\u001b[0m\n",
      "\u001b[1m\u001b[34mSaving output to:\u001b[0m \u001b[1m\u001b[34m/mnt/data/pamessina_folder_backup_15_10_24/pamessina/medvqa-workspace/cache/chest_imagenome/bbox_phrase_embeddings_hybrid(hash=493,1727013299556214953).pkl\u001b[0m\n",
      "Done!\n"
     ]
    }
   ],
   "source": [
    "!python ../../scripts/chest_imagenome/precompute_bbox_phrase_embeddings.py \\\n",
    "--model_name \"microsoft/BiomedVLP-CXR-BERT-specialized\" \\\n",
    "--model_checkpoint_folder_path \\\n",
    "\"/mnt/data/pamessina/workspaces/medvqa-workspace/models/fact_embedding/20250610_213953_MIMIC-CXR(triplets+classif+entcont+nli+autoencoder)_FactEncoder(microsoft-BiomedVLP-CXR-BERT-specialized)\" \\\n",
    "--include_top_k_most_similar \\\n",
    "--top_k 10 \\\n",
    "--integrated_fact_metadata_filepath \\\n",
    "\"/home/pamessina/medvqa-workspace/cache/mimiccxr/integrated_fact_metadata(606074,61621903).jsonl\""
   ]
  },
  {
   "cell_type": "code",
   "execution_count": 4,
   "id": "09f102a1",
   "metadata": {},
   "outputs": [
    {
     "name": "stdout",
     "output_type": "stream",
     "text": [
      "Loading augmented groundings from: /mnt/data/pamessina_folder_backup_15_10_24/pamessina/medvqa-workspace/cache/chest_imagenome/augmented_groundings_(hash=328,857478564560124280).pkl\n",
      "Loaded 204839 phrases from augmented groundings.\n",
      "100%|███████████████████████████████| 204839/204839 [00:00<00:00, 571450.17it/s]\n",
      "model state dict has 210 keys, loaded state dict has 252 keys, intersection has 210 keys, union has 252 keys.\n",
      "Examples of keys in loaded state dict but not in model:\n",
      "  nli_hidden_layer.bias\n",
      "  fact_decoder_input_layer.bias\n",
      "  fact_decoder.decoder.layers.0.self_attn.in_proj_bias\n",
      "  fact_decoder.decoder.layers.0.norm3.weight\n",
      "  fact_decoder_input_layer.weight\n",
      "  fact_decoder.decoder.layers.0.linear2.weight\n",
      "  aux_task_hidden_layer.bias\n",
      "  chest_imagenome_anatloc_classifier.bias\n",
      "  fact_decoder.decoder.layers.0.linear2.bias\n",
      "  chest_imagenome_obs_classifier.weight\n",
      "100%|███████████████████████████████████████| 6377/6377 [01:10<00:00, 90.49it/s]\n",
      "100%|███████████████████████████████| 204052/204052 [00:00<00:00, 591345.50it/s]\n",
      "\u001b[1m\u001b[34mSaving output to:\u001b[0m \u001b[1m\u001b[34m/mnt/data/pamessina_folder_backup_15_10_24/pamessina/medvqa-workspace/cache/chest_imagenome/chest_imagenome_phrase_embeddings_(hash=531,1962336077955156067).pkl\u001b[0m\n",
      "Done!\n"
     ]
    }
   ],
   "source": [
    "!python ../../scripts/chest_imagenome/precompute_phrase_embeddings.py \\\n",
    "--model_name \"microsoft/BiomedVLP-CXR-BERT-specialized\" \\\n",
    "--model_checkpoint_folder_path \\\n",
    "\"/mnt/data/pamessina/workspaces/medvqa-workspace/models/fact_embedding/20250610_213953_MIMIC-CXR(triplets+classif+entcont+nli+autoencoder)_FactEncoder(microsoft-BiomedVLP-CXR-BERT-specialized)\" \\\n",
    "--chest_imagenome_augmented_groundings_filepath \\\n",
    "\"/mnt/data/pamessina_folder_backup_15_10_24/pamessina/medvqa-workspace/cache/chest_imagenome/augmented_groundings_(hash=328,857478564560124280).pkl\""
   ]
  },
  {
   "cell_type": "code",
   "execution_count": 27,
   "id": "def3dbd8",
   "metadata": {},
   "outputs": [
    {
     "name": "stdout",
     "output_type": "stream",
     "text": [
      "-rw-rw-r-- 1 pamessina socvis 212K Jun 11 11:47 '/mnt/data/pamessina_folder_backup_15_10_24/pamessina/medvqa-workspace/cache/chest_imagenome/bbox_phrase_embeddings_hybrid(hash=493,1727013299556214953).pkl'\r\n"
     ]
    }
   ],
   "source": [
    "!ls -lh \"/mnt/data/pamessina_folder_backup_15_10_24/pamessina/medvqa-workspace/cache/chest_imagenome/bbox_phrase_embeddings_hybrid(hash=493,1727013299556214953).pkl\""
   ]
  },
  {
   "cell_type": "code",
   "execution_count": 7,
   "id": "1075f086",
   "metadata": {},
   "outputs": [
    {
     "name": "stdout",
     "output_type": "stream",
     "text": [
      "-rw-rw-r-- 1 pamessina socvis 111M Jun 11 11:34 '/mnt/data/pamessina_folder_backup_15_10_24/pamessina/medvqa-workspace/cache/chest_imagenome/chest_imagenome_phrase_embeddings_(hash=531,1962336077955156067).pkl'\r\n"
     ]
    }
   ],
   "source": [
    "!ls -lh \"/mnt/data/pamessina_folder_backup_15_10_24/pamessina/medvqa-workspace/cache/chest_imagenome/chest_imagenome_phrase_embeddings_(hash=531,1962336077955156067).pkl\""
   ]
  },
  {
   "cell_type": "code",
   "execution_count": 10,
   "id": "4b5e1d43",
   "metadata": {},
   "outputs": [],
   "source": [
    "tmp = load_pickle('/mnt/data/pamessina_folder_backup_15_10_24/pamessina/medvqa-workspace/cache/chest_imagenome/chest_imagenome_phrase_embeddings_(hash=531,1962336077955156067).pkl')"
   ]
  },
  {
   "cell_type": "code",
   "execution_count": 18,
   "id": "d8587f08",
   "metadata": {},
   "outputs": [
    {
     "name": "stdout",
     "output_type": "stream",
     "text": [
      "pulmonary edema improved since prior\n",
      "1.0 pulmonary edema improved since prior\n",
      "0.9920251 Pulmonary edema improved compared to prior study\n",
      "0.98919266 Pulmonary edema has improved since prior\n",
      "0.9824708 Pulmonary edema appears improved\n",
      "0.9788469 Improvement in pulmonary edema compared to the prior study\n",
      "0.97663945 Improved pulmonary edema since 1 day prior\n",
      "0.97631264 Pulmonary edema continues to improve\n",
      "0.97564375 Pulmonary edema appears improved from prior\n",
      "0.97329813 Moderately severe pulmonary edema has improved\n",
      "0.9730483 Improving pulmonary edema since yesterday\n",
      "0.9727064 Severe pulmonary edema has improved slightly\n",
      "0.970967 Previously severe pulmonary edema has improved\n",
      "0.9701641 Pulmonary edema with interval improvement\n",
      "0.96777487 Pulmonary edema has minimally improved\n",
      "0.96702176 Pulmonary edema has overall improved\n",
      "0.9667089 Severe pulmonary edema may have improved slightly\n",
      "0.96644866 Pulmonary edema demonstrates interval improvement\n",
      "0.96627104 Intervally improved pulmonary edema\n",
      "0.9662269 Substantial pulmonary edema is improved\n",
      "0.96606237 Pulmonary edema has decreased since the prior study\n"
     ]
    }
   ],
   "source": [
    "import numpy as np\n",
    "i = -100\n",
    "embeddings = tmp['embeddings']\n",
    "sims = np.dot(embeddings[i], embeddings.T)\n",
    "idxs = np.argsort(-sims)\n",
    "print(tmp['phrases'][i])\n",
    "for idx in idxs[:20]:\n",
    "    print(sims[idx], tmp['phrases'][idx])"
   ]
  },
  {
   "cell_type": "code",
   "execution_count": 19,
   "id": "caa3f61b",
   "metadata": {},
   "outputs": [
    {
     "data": {
      "text/plain": [
       "dict_keys(['phrases', 'embeddings'])"
      ]
     },
     "execution_count": 19,
     "metadata": {},
     "output_type": "execute_result"
    }
   ],
   "source": [
    "tmp.keys()"
   ]
  },
  {
   "cell_type": "code",
   "execution_count": 28,
   "id": "4582e3ac",
   "metadata": {},
   "outputs": [],
   "source": [
    "tmp = load_pickle('/mnt/data/pamessina_folder_backup_15_10_24/pamessina/medvqa-workspace/cache/chest_imagenome/bbox_phrase_embeddings_hybrid(hash=493,1727013299556214953).pkl')"
   ]
  },
  {
   "cell_type": "code",
   "execution_count": 29,
   "id": "50f857dd",
   "metadata": {},
   "outputs": [
    {
     "data": {
      "text/plain": [
       "(10, 128)"
      ]
     },
     "execution_count": 29,
     "metadata": {},
     "output_type": "execute_result"
    }
   ],
   "source": [
    "tmp['most_similar_anatomical_location_embeddings'][0].shape"
   ]
  },
  {
   "cell_type": "code",
   "execution_count": 30,
   "id": "e911ee7f",
   "metadata": {
    "scrolled": true
   },
   "outputs": [
    {
     "name": "stdout",
     "output_type": "stream",
     "text": [
      "----------------------\n",
      "right lung\n",
      "['right lung', 'right lungs', 'right lung zone', 'right lung field', 'right lung zones', 'right lung region', 'right lung fields', 'right lung chain', 'right lung portion', 'right lung regions']\n",
      "[1.         0.99607486 0.98345196 0.98770475 0.9851338  0.9870178\n",
      " 0.98653805 0.96969134 0.9877143  0.98439795]\n",
      "----------------------\n",
      "right upper lung zone\n",
      "['right upper lung zone', 'right upper lung zones', 'right lung upper zone', 'upper right lung zone', 'right upper lung lobe', 'right upper lung region', 'right upper lung field', 'right upper lung areas', 'right upper lung fields', 'right upper lung']\n",
      "[1.         0.9870718  0.99948466 0.99658155 0.9910225  0.9993677\n",
      " 0.99937034 0.98653716 0.988176   0.99900645]\n",
      "----------------------\n",
      "right mid lung zone\n",
      "['right mid lung zone', 'right lung mid zone', 'mid right lung zone', 'right mid lung lobe', 'right middle lung zone', 'right mid lung area', 'right mid lung level', 'right mid lung region', 'right mid lung field', 'right mid lung']\n",
      "[1.         0.9984493  0.9972918  0.995168   0.9984033  0.99979526\n",
      " 0.99504447 0.999733   0.99968415 0.99704754]\n",
      "----------------------\n",
      "right lower lung zone\n",
      "['right lower lung zone', 'right low lung zone', 'lower right lung zone', 'right lower lung space', 'right lower lung plate', 'right lower lung area', 'right lower lung region', 'right lower lung aspect', 'right lower lung field', 'right basal lung zone']\n",
      "[0.9999999  0.99923915 0.99770546 0.99854493 0.99834347 0.9998916\n",
      " 0.99984646 0.998834   0.9997987  0.9954547 ]\n",
      "----------------------\n",
      "right hilar structures\n",
      "['right hilar structures', 'right-sided hilar structures', 'right pulmonary hilar structures', 'right hilar borders', 'right hilar contours', 'right hilar area', 'right hilar regions', 'right hilar silhouette', 'right hilar border', 'right hilar region']\n",
      "[1.         0.9937104  0.97318757 0.98402923 0.983351   0.991644\n",
      " 0.9874237  0.9813759  0.97630805 0.9919865 ]\n",
      "----------------------\n",
      "right apical zone\n",
      "['right apical lung', 'right apical area', 'right apical space', 'right apical region', 'right apical lungs', 'right apical portion', 'right apical areas', 'right apical', 'right apical parenchyma', 'right lung apical']\n",
      "[0.9802871  0.9982791  0.9850979  0.99819994 0.98005253 0.9957595\n",
      " 0.9789696  0.99592495 0.97527295 0.97709215]\n",
      "----------------------\n",
      "right costophrenic angle\n",
      "['right costophrenic angle', 'right costophrenic angles', 'right costo-phrenic angle', 'right latter costophrenic angle', 'extreme right costophrenic angle', 'right costophrenic sinuse', 'right costophrenic sinuses', 'R costophrenic angle', 'right costophrenic sulci', 'right costophrenic sinus']\n",
      "[1.         0.9987065  0.97948503 0.99323416 0.98117906 0.9921168\n",
      " 0.9966227  0.99956846 0.99810576 0.99192125]\n",
      "----------------------\n",
      "right cardiophrenic angle\n",
      "['right cardiophrenic angle', 'right cardiophrenic angles', 'right cardiphrenic angle', 'right cardiophrenic angle region', 'right cardiophrenic sinus', 'right-sided cardiophrenic angle', 'right lateral cardiophrenic angle', 'right cardiophrenic zone', 'right cardiophrenic sulcus', 'right cardiophrenic recess']\n",
      "[1.0000001  0.9981606  0.9786341  0.99699354 0.9915045  0.98882747\n",
      " 0.94860154 0.96204865 0.9850008  0.98454654]\n",
      "----------------------\n",
      "right hemidiaphragm\n",
      "['right hemidiaphragm', 'right hemi hemidiaphragm', 'right hemidiaphragm region', 'root right hemidiaphragm', 'right hemidiaphragm border', 'right hemidiaphragm margin', 'near right hemidiaphragm', 'right hemidiaphragms', 'right hemidiaphragm margins', 'adjacent right hemidiaphragm']\n",
      "[0.99999994 0.99063516 0.99442434 0.965175   0.97750205 0.97739017\n",
      " 0.9526055  0.98092914 0.9597913  0.96478784]\n",
      "----------------------\n",
      "left lung\n",
      "['left lung', 'left lungs', 'left lung area', 'left lung zone', 'left lobe lung', 'left lung field', 'left lung parts', 'left lung region', 'left lung areas', 'left lung tissue']\n",
      "[1.         0.9955603  0.9905333  0.98793256 0.98162913 0.9896152\n",
      " 0.9770395  0.9901135  0.97427166 0.98790944]\n",
      "----------------------\n",
      "left upper lung zone\n",
      "['left upper lung zone', 'left upper lung zones', 'left lung upper zone', 'left upper lung lobe', 'upper left lung zone', 'left upper lung level', 'left upper lobe zone', 'left upper lung region', 'left upper lung field', 'left upper lung']\n",
      "[0.9999999  0.9792122  0.9990586  0.9877671  0.9944105  0.9942\n",
      " 0.97453403 0.99920315 0.9994252  0.99785924]\n",
      "----------------------\n",
      "left mid lung zone\n",
      "['left mid lung zone', 'left lung mid zone', 'mid left lung zone', 'left mid lung lobe', 'left middle lung zone', 'left mid lung area', 'left mid lung region', 'left mid lung field', 'left mid lung', 'left mid lobe lung']\n",
      "[1.         0.9985673  0.99813074 0.99372023 0.9986429  0.99973476\n",
      " 0.9996535  0.999698   0.9954929  0.9931532 ]\n",
      "----------------------\n",
      "left lower lung zone\n",
      "['left lower lung zone', 'lower left lung zone', 'left lower lung lobe', 'left lower lung level', 'left lower lung area', 'left lower lung region', 'left lower lung field', 'left lower lung basis', 'left lower lung', 'left lower lobe lung']\n",
      "[1.         0.99711186 0.9937111  0.9963964  0.9997242  0.9996733\n",
      " 0.9995729  0.9938661  0.99780035 0.9927507 ]\n",
      "----------------------\n",
      "left hilar structures\n",
      "['left hilar structures', 'left-sided hilar structures', 'left hilar contours', 'left hilar regions', 'left hilar area', 'left hilar areas', 'left hilar silhouette', 'left hilar region', 'left hilar vicinity', 'left hilar border']\n",
      "[1.         0.9902765  0.9626906  0.981387   0.9806373  0.979712\n",
      " 0.96256053 0.9815216  0.9758279  0.95068574]\n",
      "----------------------\n",
      "left apical zone\n",
      "['left apical zone', 'left apical lung', 'left apical area', 'left apical region', 'left apical segment', 'left apical', 'left apical lung area', 'apical left', 'left apical lung portion', 'left-sided apical area']\n",
      "[1.         0.9905212  0.9992484  0.9992553  0.9986092  0.99808264\n",
      " 0.9913348  0.99506897 0.9912307  0.9824513 ]\n",
      "----------------------\n",
      "left costophrenic angle\n",
      "['left costophrenic angle', 'left costophrenic angles', 'left costophrenic angle region', 'left extreme costophrenic angle', 'extreme left costophrenic angle', 'left costophrenic sinuse', 'left costophrenic space', 'left costophrenic sinuses', 'left costophrenic sulci', 'left costophrenic region']\n",
      "[1.         0.9980562  0.9981646  0.99047697 0.98229307 0.9918305\n",
      " 0.9896016  0.994569   0.9979218  0.9891832 ]\n",
      "----------------------\n",
      "left hemidiaphragm\n",
      "['left hemidiaphragm', 'left the hemidiaphragm', 'left hemidiaphragm region', 'left hemidiaphragm border', 'left hemidiaphragm margin', 'left hemidiaphragms', 'left hemidiaphragm borders', 'left hemidiaphragm margins', 'adjacent left hemidiaphragm', 'left hemi-diaphragm']\n",
      "[0.99999994 0.99857867 0.9943761  0.9773059  0.9759538  0.9776769\n",
      " 0.9630474  0.9556581  0.9567244  0.94134426]\n",
      "----------------------\n",
      "trachea\n",
      "['trachea', 'trachea lumen', 'prox trachea', 'proximal trachea', 'adjacent trachea', 'upper trachea', 'trachea mediastinal', 'superior trachea', 'tracheal', 'trache']\n",
      "[1.0000001  0.9824663  0.94189376 0.9371283  0.9324557  0.88457394\n",
      " 0.92717975 0.8771754  0.9963855  0.9825926 ]\n",
      "----------------------\n",
      "spine\n",
      "['spine', 'spine area', 'vertebral spine', 'skeletal spine', 'partially imaged spine', 'vertebral bodies of the spine', 'partially visualized lumbar spine', 'spinal column', 'spinal process', 'spinal canal']\n",
      "[0.9999999  0.98584855 0.9861375  0.939535   0.9371475  0.9626807\n",
      " 0.93841994 0.989824   0.94816303 0.9429192 ]\n",
      "----------------------\n",
      "right clavicle\n",
      "['right clavicle', 'right clavicle head', 'right sided clavicle', 'right clavicle shaft', 'right distal clavicle', 'right proximal clavicle', 'distal right clavicle', 'right clavicular', 'right clavicle neck', 'proximal right clavicle']\n",
      "[1.         0.986706   0.9955461  0.9908427  0.96209955 0.98328376\n",
      " 0.95816064 0.99972063 0.9292288  0.97881997]\n",
      "----------------------\n",
      "left clavicle\n",
      "['left clavicle', 'left clavicle head', 'left clavicle plate', 'left clavicle shaft', 'left clavicles', 'left clavicula', 'left distal clavicle', 'left proximal clavicle', 'distal left clavicle', 'proximal left clavicle']\n",
      "[1.         0.98951286 0.9946393  0.9919649  0.99345624 0.9905215\n",
      " 0.965397   0.98848826 0.9644583  0.987815  ]\n",
      "----------------------\n",
      "aortic arch\n",
      "['aortic arch', 'aortic arch area', 'in aortic arch', 'aortic arch roof', 'aorta arch', 'aortic arch branches', 'aortic arch contour', 'ascending aortic arch', 'aortic arch vessels', 'transverse aortic arch']\n",
      "[1.         0.9942395  0.9463443  0.98422337 0.9785447  0.9787796\n",
      " 0.95625603 0.96486926 0.94096005 0.96485084]\n",
      "----------------------\n",
      "mediastinum\n",
      "['mediastinum', 'mediastinum region', 'mediastinum borders', 'mediastinum surfaces', 'mediastinal', 'mediastinal area', 'mediastinal space', 'perimediastinal', 'juxtamediastinal', 'mediastinal region']\n",
      "[1.         0.9846292  0.9749156  0.9798788  0.9935918  0.9865615\n",
      " 0.9872961  0.9528619  0.96277714 0.98540795]\n",
      "----------------------\n",
      "upper mediastinum\n",
      "['upper mediastinum', 'upper mediastinal', 'superior mediastinum', 'anterior upper mediastinum', 'upper anterior mediastinum', 'upper mediastinal region', 'upper mediastinal aspect', 'upper mediastinal surface', 'upper portion of the mediastinum', 'upper mediastinal contour']\n",
      "[1.         0.9979203  0.9856988  0.90886474 0.90852654 0.99027157\n",
      " 0.9862163  0.96753263 0.9695513  0.9623586 ]\n",
      "----------------------\n",
      "svc\n",
      "['svc', 'md svc', 'high svc', 'superior vena cava', 'superior vena cava (SVC)', 'high superior vena cava', 'superior vena cava vein', 'proximal superior vena cava', 'SVC', 'superior vena cava syndrome']\n",
      "[0.99999994 0.976432   0.9522483  0.97596234 0.977518   0.9648564\n",
      " 0.95530397 0.96133757 1.         0.9542731 ]\n",
      "----------------------\n",
      "cardiac silhouette\n",
      "['cardiac silhouette', 'Cardiac silhouette', 'cardiac silhouettes', 'cardiac sillouette', 'cardiac mediastinal silhouette', 'cardiothoracic silhouette', 'heart silhouette', 'cardiomediastinal cardiac silhouette', 'cardiopulmonary silhouette', 'cardiac shadow']\n",
      "[1.0000001  1.0000001  0.9917489  0.9741447  0.9484656  0.9761739\n",
      " 0.9960984  0.94377434 0.9654703  0.99905455]\n",
      "----------------------\n",
      "left cardiac silhouette\n",
      "['left cardiac silhouette', 'left-sided cardiac silhouette', 'left heart silhouette', 'left of the cardiac silhouette', 'left cardiac contour', 'left cardiac contours', 'left cardiac border', 'left aspect of cardiac silhouette', 'left cardiac margin', 'left cardiac']\n",
      "[1.         0.98287666 0.9959676  0.99249315 0.99694717 0.9906313\n",
      " 0.99069613 0.98857343 0.99430275 0.974529  ]\n",
      "----------------------\n",
      "right cardiac silhouette\n",
      "['right cardiac silhouette', 'right-sided cardiac silhouette', 'right heart silhouette', 'right cardiac contour', 'right of the cardiac silhouette', 'right cardiac contours', 'right cardiac border', 'right cardiac borders', 'right aspect of cardiac silhouette', 'right margin of cardiac silhouette']\n",
      "[1.0000001  0.9935519  0.9929892  0.99756545 0.9941791  0.9950731\n",
      " 0.99551284 0.9916891  0.99077964 0.98822284]\n",
      "----------------------\n",
      "cavoatrial junction\n",
      "['cavoatrial junction', 'key cavoatrial junction', 'cavoatrial junction level', 'cavoatrial junction region', 'root cavoatrial junction', 'region cavoatrial junction', 'cavoatrial atrial junction', 'distal cavoatrial junction', 'cavo-atrial junction', 'proximal cavoatrial junction']\n",
      "[0.9999999  0.98368365 0.9965545  0.99681795 0.9696394  0.9922706\n",
      " 0.9790137  0.97599596 0.98455024 0.988415  ]\n",
      "----------------------\n",
      "right atrium\n",
      "['right atrium', 'deep right atrium', 'Right atrium', 'main right atrium', 'high right atrium', 'right atrial', 'right atria', 'right proximal atrium', 'proximal right atrium', 'distal right atrium']\n",
      "[1.         0.98633856 1.         0.9764322  0.9572337  0.9981364\n",
      " 0.9952208  0.98666453 0.98082316 0.95437396]\n",
      "----------------------\n",
      "descending aorta\n",
      "['descending aorta', 'entire descending aorta', 'distal descending aorta', 'lower descending aorta', 'descending aortic', 'proximal descending aorta', 'thoracic descending aorta', 'descending thoracic aorta', 'distal descending thoracic aorta', 'descending region of the aorta']\n",
      "[1.         0.9562216  0.94763935 0.92971534 0.96205395 0.95464486\n",
      " 0.9477253  0.94703424 0.9273858  0.97372985]\n",
      "----------------------\n",
      "carina\n",
      "['carina', 'above carina', 'below carina', 'carina bifurcation', 'Carina', 'carinal', 'above the carina', 'just above carina', 'below the carina', 'beneath the carina']\n",
      "[0.9999999  0.96630955 0.93961895 0.9702588  0.9999999  0.9861357\n",
      " 0.9530512  0.96002275 0.94123673 0.9502312 ]\n",
      "----------------------\n",
      "left upper abdomen\n",
      "['left upper abdomen', 'upper left abdomen', 'left upper abdominal', 'left upper quadrant abdomen', 'peritoneal left upper abdomen', 'left upper quadrant', 'left upper quadrant/abdomen', 'abdomen left upper quadrant', 'left upper quadrant of abdomen', 'uppermost left abdomen']\n",
      "[0.9999999  0.9964268  0.99942815 0.9883505  0.96725035 0.9941702\n",
      " 0.96026146 0.9836812  0.97982204 0.98520565]\n",
      "----------------------\n",
      "right upper abdomen\n",
      "['right upper abdomen', 'upper right abdomen', 'right upper abdominal', 'right upper quadrant abdomen', 'right upper quadrant', 'right upper quadrants', 'right upper quadrant the abdomen', 'right abdomen', 'right upper quadrant of abdomen', 'right upper abdominal region']\n",
      "[1.         0.99825835 0.9996011  0.99078643 0.992126   0.9780097\n",
      " 0.9928725  0.94773614 0.9784886  0.99609965]\n",
      "----------------------\n",
      "abdomen\n",
      "['abdomen', 'hemi abdomen', 'abdomen pelvis', 'abdomen pelvic', 'abdomen wall', 'abdomen structures', 'abdominal', 'abdomen/pelvis', 'abdominal region', 'abdominal area']\n",
      "[1.         0.9626176  0.98444074 0.9774296  0.9391084  0.93071735\n",
      " 0.9914557  0.9758685  0.98834115 0.98993945]\n",
      "----------------------\n",
      "left cardiophrenic angle\n",
      "['left cardiophrenic angle', 'left cardiophrenic angle region', 'left lateral cardiophrenic angle', 'left constrophrenic angle', 'left costrophrenic angle', 'left costophrenic angle', 'left cardiophrenic region', 'left costofrenic angle', 'left costal phrenic angle', 'left CP angle']\n",
      "[1.         0.99668026 0.9490675  0.964099   0.9329104  0.9270443\n",
      " 0.93914276 0.9367782  0.92632043 0.94225925]\n"
     ]
    }
   ],
   "source": [
    "for p, ms, sims in zip(tmp['bbox_phrases'], tmp['most_similar_anatomical_locations'], tmp['most_similar_similarities']):\n",
    "    print('----------------------')\n",
    "    print(p)\n",
    "    print(ms)\n",
    "    print(sims)"
   ]
  },
  {
   "cell_type": "markdown",
   "id": "4fcdbeb9",
   "metadata": {},
   "source": [
    "# MS-CXR"
   ]
  },
  {
   "cell_type": "code",
   "execution_count": 4,
   "id": "11d062ab",
   "metadata": {},
   "outputs": [
    {
     "name": "stdout",
     "output_type": "stream",
     "text": [
      "len(phrases): 715\n",
      "\u001b[1mObtaining embeddings for each phrase...\u001b[0m\n",
      "checkpoint_names = ['checkpoint_196_cacc+chf1+chf1+cscc+encc+hscc+nlcc+sass+spss+ta0)+ta1)+ta2)+ta0)+ta1)+ta2)+ta3)+ta4)+ta5)+ta6)+ta7)=0.9189.pt']\n",
      "  0%|                                                   | 0/715 [00:00<?, ?it/s]Loading cached text embeddings from /mnt/data/pamessina_folder_backup_15_10_24/pamessina/medvqa-workspace/cache/text_embeddings_cache(hash=469,680486110513564934).pkl\n",
      "len(self.cache[\"hashes\"]) = 1778188\n",
      "self.cache[\"embeddings\"].shape = (1778188, 128)\n",
      "100%|████████████████████████████████████████| 715/715 [00:01<00:00, 514.37it/s]\n",
      "Computing embeddings for 523 new texts\n",
      "checkpoint_names = ['checkpoint_196_cacc+chf1+chf1+cscc+encc+hscc+nlcc+sass+spss+ta0)+ta1)+ta2)+ta0)+ta1)+ta2)+ta3)+ta4)+ta5)+ta6)+ta7)=0.9189.pt']\n",
      "Loading model weights from /mnt/data/pamessina/workspaces/medvqa-workspace/models/fact_embedding/20240629_084405_MIMIC-CXR(triplets+classif+entcont+nli+radgraph+autoencoder)_FactEncoder(microsoft-BiomedVLP-CXR-BERT-specialized)/checkpoint_196_cacc+chf1+chf1+cscc+encc+hscc+nlcc+sass+spss+ta0)+ta1)+ta2)+ta0)+ta1)+ta2)+ta3)+ta4)+ta5)+ta6)+ta7)=0.9189.pt\n",
      "\u001b[93mWarning: model state dict has 210 keys, loaded state dict has 257 keys, intersection has 210 keys, union has 257 keys.\u001b[0m\n",
      "\u001b[93mExamples of keys in loaded state dict but not in model:\u001b[0m\n",
      "\u001b[93m  fact_decoder.decoder.layers.0.self_attn.out_proj.weight\u001b[0m\n",
      "\u001b[93m  fact_decoder_input_layer.bias\u001b[0m\n",
      "\u001b[93m  nli_classifier.weight\u001b[0m\n",
      "\u001b[93m  spert_entity_classifier.weight\u001b[0m\n",
      "\u001b[93m  fact_decoder.decoder.layers.0.norm3.bias\u001b[0m\n",
      "\u001b[93m  fact_decoder.decoder.layers.0.norm2.weight\u001b[0m\n",
      "\u001b[93m  aux_task_hidden_layer.weight\u001b[0m\n",
      "\u001b[93m  spert_entity_classifier.bias\u001b[0m\n",
      "\u001b[93m  fact_decoder.decoder.layers.0.linear2.weight\u001b[0m\n",
      "\u001b[93m  category_classifier.bias\u001b[0m\n",
      "100%|███████████████████████████████████████████| 17/17 [00:00<00:00, 18.42it/s]\n",
      "Saving updated cache to /mnt/data/pamessina_folder_backup_15_10_24/pamessina/medvqa-workspace/cache/text_embeddings_cache(hash=469,680486110513564934).pkl\n",
      "100%|█████████████████████████████████████| 523/523 [00:00<00:00, 190899.05it/s]\n",
      "phrase_embeddings.shape: (715, 128)\n",
      "len(phrase2embedding): 715\n",
      "\u001b[1m\u001b[34mSaving output to:\u001b[0m \u001b[1m\u001b[34m/mnt/data/pamessina_folder_backup_15_10_24/pamessina/medvqa-workspace/cache/mimiccxr/mscxr_phrase2embedding(hash=36549,2076639799495206637).pkl\u001b[0m\n",
      "Done!\n"
     ]
    }
   ],
   "source": [
    "!python ../../scripts/mscxr/precompute_phrase_embeddings.py \\\n",
    "--model_name \"microsoft/BiomedVLP-CXR-BERT-specialized\" \\\n",
    "--model_checkpoint_folder_path \\\n",
    "\"/mnt/data/pamessina/workspaces/medvqa-workspace/models/fact_embedding/20240629_084405_MIMIC-CXR(triplets+classif+entcont+nli+radgraph+autoencoder)_FactEncoder(microsoft-BiomedVLP-CXR-BERT-specialized)\""
   ]
  },
  {
   "cell_type": "code",
   "execution_count": 32,
   "id": "de86add1",
   "metadata": {},
   "outputs": [
    {
     "name": "stdout",
     "output_type": "stream",
     "text": [
      "len(phrases): 715\n",
      "\u001b[1mObtaining embeddings for each phrase...\u001b[0m\n",
      "100%|███████████████████████████████████████| 715/715 [00:00<00:00, 4115.46it/s]\n",
      "phrase_embeddings.shape: (715, 128)\n",
      "len(phrase2embedding): 715\n",
      "\u001b[1m\u001b[34mSaving output to:\u001b[0m \u001b[1m\u001b[34m/mnt/data/pamessina_folder_backup_15_10_24/pamessina/medvqa-workspace/cache/mimiccxr/mscxr_phrase2embedding(hash=36540,735014075025888377).pkl\u001b[0m\n",
      "Done!\n"
     ]
    }
   ],
   "source": [
    "!python ../../scripts/mscxr/precompute_phrase_embeddings.py \\\n",
    "--model_name \"microsoft/BiomedVLP-CXR-BERT-specialized\" \\\n",
    "--model_checkpoint_folder_path \\\n",
    "\"/mnt/data/pamessina/workspaces/medvqa-workspace/models/fact_embedding/20250610_213953_MIMIC-CXR(triplets+classif+entcont+nli+autoencoder)_FactEncoder(microsoft-BiomedVLP-CXR-BERT-specialized)\""
   ]
  },
  {
   "cell_type": "markdown",
   "id": "79ed634a",
   "metadata": {},
   "source": [
    "# PadChest-GR"
   ]
  },
  {
   "cell_type": "code",
   "execution_count": 7,
   "id": "0f698aae",
   "metadata": {},
   "outputs": [
    {
     "name": "stdout",
     "output_type": "stream",
     "text": [
      "\u001b[32m2025-05-07 09:12:10,135 - root - INFO\u001b[0m - Logging configured (Color: True).\u001b[0m\n",
      "\u001b[32m2025-05-07 09:12:10,574 - __main__ - INFO\u001b[0m - len(phrases): 4007\u001b[0m\n",
      "\u001b[32m2025-05-07 09:12:10,574 - __main__ - INFO\u001b[0m - Obtaining embeddings for each phrase...\u001b[0m\n",
      "\u001b[32m2025-05-07 09:12:10,574 - medvqa.models.checkpoint - INFO\u001b[0m - checkpoint_names = ['checkpoint_196_cacc+chf1+chf1+cscc+encc+hscc+nlcc+sass+spss+ta0)+ta1)+ta2)+ta0)+ta1)+ta2)+ta3)+ta4)+ta5)+ta6)+ta7)=0.9189.pt']\u001b[0m\n",
      "  0%|                                                  | 0/4007 [00:00<?, ?it/s]\u001b[32m2025-05-07 09:12:10,727 - medvqa.models.huggingface_utils - INFO\u001b[0m - Loading cached text embeddings from /mnt/data/pamessina_folder_backup_15_10_24/pamessina/medvqa-workspace/cache/text_embeddings_cache(hash=469,680486110513564934).pkl\u001b[0m\n",
      "\u001b[32m2025-05-07 09:12:11,400 - medvqa.models.huggingface_utils - INFO\u001b[0m - len(self.cache[\"hashes\"]) = 1782485\u001b[0m\n",
      "\u001b[32m2025-05-07 09:12:11,400 - medvqa.models.huggingface_utils - INFO\u001b[0m - self.cache[\"embeddings\"].shape = (1782485, 128)\u001b[0m\n",
      "100%|█████████████████████████████████████| 4007/4007 [00:01<00:00, 3155.28it/s]\n",
      "\u001b[32m2025-05-07 09:12:11,997 - medvqa.models.huggingface_utils - INFO\u001b[0m - Computing embeddings for 59 new texts\u001b[0m\n",
      "\u001b[32m2025-05-07 09:12:17,826 - medvqa.models.checkpoint - INFO\u001b[0m - checkpoint_names = ['checkpoint_196_cacc+chf1+chf1+cscc+encc+hscc+nlcc+sass+spss+ta0)+ta1)+ta2)+ta0)+ta1)+ta2)+ta3)+ta4)+ta5)+ta6)+ta7)=0.9189.pt']\u001b[0m\n",
      "\u001b[32m2025-05-07 09:12:17,827 - medvqa.models.huggingface_utils - INFO\u001b[0m - Loading model weights from /mnt/data/pamessina/workspaces/medvqa-workspace/models/fact_embedding/20240629_084405_MIMIC-CXR(triplets+classif+entcont+nli+radgraph+autoencoder)_FactEncoder(microsoft-BiomedVLP-CXR-BERT-specialized)/checkpoint_196_cacc+chf1+chf1+cscc+encc+hscc+nlcc+sass+spss+ta0)+ta1)+ta2)+ta0)+ta1)+ta2)+ta3)+ta4)+ta5)+ta6)+ta7)=0.9189.pt\u001b[0m\n",
      "\u001b[33m2025-05-07 09:12:18,556 - medvqa.models.checkpoint - WARNING\u001b[0m - model state dict has 210 keys, loaded state dict has 257 keys, intersection has 210 keys, union has 257 keys.\n",
      "Examples of keys in loaded state dict but not in model:\n",
      "  chest_imagenome_anatloc_classifier.bias\n",
      "  category_classifier.bias\n",
      "  nli_classifier.bias\n",
      "  comparison_status_classifier.bias\n",
      "  spert_entity_classifier.bias\n",
      "  fact_decoder.embedding_table.weight\n",
      "  fact_decoder.decoder.layers.0.norm1.bias\n",
      "  fact_decoder.decoder.layers.0.norm2.bias\n",
      "  fact_decoder.decoder.layers.0.multihead_attn.out_proj.weight\n",
      "  fact_decoder.decoder.layers.0.multihead_attn.in_proj_bias\u001b[0m\n",
      "100%|█████████████████████████████████████████████| 2/2 [00:00<00:00,  3.28it/s]\n",
      "\u001b[32m2025-05-07 09:12:21,348 - medvqa.models.huggingface_utils - INFO\u001b[0m - Saving updated cache to /mnt/data/pamessina_folder_backup_15_10_24/pamessina/medvqa-workspace/cache/text_embeddings_cache(hash=469,680486110513564934).pkl\u001b[0m\n",
      "100%|███████████████████████████████████████| 59/59 [00:00<00:00, 135300.13it/s]\n",
      "\u001b[32m2025-05-07 09:12:31,075 - __main__ - INFO\u001b[0m - phrase_embeddings.shape: (4007, 128)\u001b[0m\n",
      "\u001b[32m2025-05-07 09:12:31,076 - __main__ - INFO\u001b[0m - len(phrase2embedding): 4007\u001b[0m\n",
      "\u001b[32m2025-05-07 09:12:31,279 - __main__ - INFO\u001b[0m - \u001b[1;34mSaving output to: /mnt/data/pamessina_folder_backup_15_10_24/pamessina/medvqa-workspace/cache/padchest/padchest_gr_phrase2embedding(hash=197646,3110652540680293604).pkl\u001b[0m\n",
      "\u001b[32m2025-05-07 09:12:31,430 - __main__ - INFO\u001b[0m - Done!\u001b[0m\n"
     ]
    }
   ],
   "source": [
    "!python ../../scripts/padchest_gr/precompute_phrase_embeddings.py \\\n",
    "--model_name \"microsoft/BiomedVLP-CXR-BERT-specialized\" \\\n",
    "--model_checkpoint_folder_path \\\n",
    "\"/mnt/data/pamessina/workspaces/medvqa-workspace/models/fact_embedding/20240629_084405_MIMIC-CXR(triplets+classif+entcont+nli+radgraph+autoencoder)_FactEncoder(microsoft-BiomedVLP-CXR-BERT-specialized)\""
   ]
  },
  {
   "cell_type": "code",
   "execution_count": 33,
   "id": "297da395",
   "metadata": {},
   "outputs": [
    {
     "name": "stdout",
     "output_type": "stream",
     "text": [
      "\u001b[32m2025-06-13 00:59:29,888 - INFO - root\u001b[0m - Logging configured (Color: True).\u001b[0m\n",
      "\u001b[32m2025-06-13 00:59:30,321 - INFO - __main__\u001b[0m - len(phrases): 4007\u001b[0m\n",
      "\u001b[32m2025-06-13 00:59:30,321 - INFO - __main__\u001b[0m - Obtaining embeddings for each phrase...\u001b[0m\n",
      "\u001b[32m2025-06-13 00:59:30,321 - INFO - medvqa.models.checkpoint\u001b[0m - checkpoint_names = ['checkpoint_154_cacc+chf1+chf1+cscc+encc+hscc+nlcc+sass+ta0)+ta1)+ta2)+ta0)+ta1)+ta2)+ta3)+ta4)+ta5)+ta6)+ta7)+ta8)=0.9070.pt']\u001b[0m\n",
      "  0%|                                                  | 0/4007 [00:00<?, ?it/s]\u001b[32m2025-06-13 00:59:30,493 - INFO - medvqa.models.huggingface_utils\u001b[0m - Loading cached text embeddings from /mnt/data/pamessina_folder_backup_15_10_24/pamessina/medvqa-workspace/cache/text_embeddings_cache(hash=460,3706359848383981295).pkl\u001b[0m\n",
      "\u001b[32m2025-06-13 00:59:30,596 - INFO - medvqa.models.huggingface_utils\u001b[0m - len(self.cache[\"hashes\"]) = 236920\u001b[0m\n",
      "\u001b[32m2025-06-13 00:59:30,596 - INFO - medvqa.models.huggingface_utils\u001b[0m - self.cache[\"embeddings\"].shape = (236920, 128)\u001b[0m\n",
      "100%|████████████████████████████████████| 4007/4007 [00:00<00:00, 21623.24it/s]\n",
      "\u001b[32m2025-06-13 00:59:30,679 - INFO - medvqa.models.huggingface_utils\u001b[0m - Computing embeddings for 982 new texts\u001b[0m\n",
      "\u001b[32m2025-06-13 00:59:34,460 - INFO - medvqa.models.checkpoint\u001b[0m - checkpoint_names = ['checkpoint_154_cacc+chf1+chf1+cscc+encc+hscc+nlcc+sass+ta0)+ta1)+ta2)+ta0)+ta1)+ta2)+ta3)+ta4)+ta5)+ta6)+ta7)+ta8)=0.9070.pt']\u001b[0m\n",
      "\u001b[32m2025-06-13 00:59:34,460 - INFO - medvqa.models.huggingface_utils\u001b[0m - Loading model weights from /mnt/data/pamessina/workspaces/medvqa-workspace/models/fact_embedding/20250610_213953_MIMIC-CXR(triplets+classif+entcont+nli+autoencoder)_FactEncoder(microsoft-BiomedVLP-CXR-BERT-specialized)/checkpoint_154_cacc+chf1+chf1+cscc+encc+hscc+nlcc+sass+ta0)+ta1)+ta2)+ta0)+ta1)+ta2)+ta3)+ta4)+ta5)+ta6)+ta7)+ta8)=0.9070.pt\u001b[0m\n",
      "\u001b[33m2025-06-13 00:59:35,262 - WARNING - medvqa.models.checkpoint\u001b[0m - model state dict has 210 keys, loaded state dict has 252 keys, intersection has 210 keys, union has 252 keys.\n",
      "Examples of keys in loaded state dict but not in model:\n",
      "  fact_decoder.decoder.layers.0.self_attn.out_proj.bias\n",
      "  category_classifier.weight\n",
      "  fact_decoder.decoder.layers.0.linear2.weight\n",
      "  nli_hidden_layer.bias\n",
      "  fact_decoder.embedding_table.weight\n",
      "  fact_decoder.decoder.layers.0.norm1.bias\n",
      "  fact_decoder.decoder.layers.0.norm3.bias\n",
      "  fact_decoder.W_vocab.weight\n",
      "  health_status_classifier.weight\n",
      "  fact_decoder.decoder.layers.0.norm2.bias\u001b[0m\n",
      "100%|███████████████████████████████████████████| 31/31 [00:00<00:00, 31.03it/s]\n",
      "\u001b[32m2025-06-13 00:59:37,617 - INFO - medvqa.models.huggingface_utils\u001b[0m - Saving updated cache to /mnt/data/pamessina_folder_backup_15_10_24/pamessina/medvqa-workspace/cache/text_embeddings_cache(hash=460,3706359848383981295).pkl\u001b[0m\n",
      "100%|█████████████████████████████████████| 982/982 [00:00<00:00, 198296.02it/s]\n",
      "\u001b[32m2025-06-13 00:59:38,338 - INFO - __main__\u001b[0m - phrase_embeddings.shape: (4007, 128)\u001b[0m\n",
      "\u001b[32m2025-06-13 00:59:38,339 - INFO - __main__\u001b[0m - len(phrase2embedding): 4007\u001b[0m\n",
      "\u001b[32m2025-06-13 00:59:38,539 - INFO - __main__\u001b[0m - \u001b[1;34mSaving output to: /mnt/data/pamessina_folder_backup_15_10_24/pamessina/medvqa-workspace/cache/padchest/padchest_gr_phrase2embedding(hash=197637,3883807560112046018).pkl\u001b[0m\n",
      "\u001b[32m2025-06-13 00:59:38,657 - INFO - __main__\u001b[0m - Done!\u001b[0m\n"
     ]
    }
   ],
   "source": [
    "!python ../../scripts/padchest_gr/precompute_phrase_embeddings.py \\\n",
    "--model_name \"microsoft/BiomedVLP-CXR-BERT-specialized\" \\\n",
    "--model_checkpoint_folder_path \\\n",
    "\"/mnt/data/pamessina/workspaces/medvqa-workspace/models/fact_embedding/20250610_213953_MIMIC-CXR(triplets+classif+entcont+nli+autoencoder)_FactEncoder(microsoft-BiomedVLP-CXR-BERT-specialized)\""
   ]
  }
 ],
 "metadata": {
  "kernelspec": {
   "display_name": "venv2",
   "language": "python",
   "name": "venv2"
  },
  "language_info": {
   "codemirror_mode": {
    "name": "ipython",
    "version": 3
   },
   "file_extension": ".py",
   "mimetype": "text/x-python",
   "name": "python",
   "nbconvert_exporter": "python",
   "pygments_lexer": "ipython3",
   "version": "3.10.10"
  }
 },
 "nbformat": 4,
 "nbformat_minor": 5
}
