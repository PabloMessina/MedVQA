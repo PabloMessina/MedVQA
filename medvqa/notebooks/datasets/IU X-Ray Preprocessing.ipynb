{
 "cells": [
  {
   "cell_type": "code",
   "execution_count": 1,
   "metadata": {},
   "outputs": [],
   "source": [
    "from medvqa.utils.files import load_json_file\n",
    "from medvqa.datasets.iuxray import IUXRAY_REPORTS_JSON_PATH, IUXRAY_REPORTS_MIN_JSON_PATH\n",
    "from medvqa.utils.common import CACHE_DIR\n",
    "import os"
   ]
  },
  {
   "cell_type": "code",
   "execution_count": 3,
   "metadata": {},
   "outputs": [],
   "source": [
    "reports = load_json_file(IUXRAY_REPORTS_MIN_JSON_PATH)"
   ]
  },
  {
   "cell_type": "code",
   "execution_count": 5,
   "metadata": {},
   "outputs": [],
   "source": [
    "merged = []\n",
    "for x in reports.values():\n",
    "    findings = x['findings']\n",
    "    impression = x['impression']\n",
    "    if findings or impression:\n",
    "        if findings and not impression:\n",
    "            text = findings\n",
    "        elif not findings and impression:\n",
    "            text = impression\n",
    "        else:\n",
    "            if findings[-1] == '.':\n",
    "                text = findings + ' ' + impression\n",
    "            else:\n",
    "                text = findings + '. ' + impression\n",
    "        merged.append(text)"
   ]
  },
  {
   "cell_type": "code",
   "execution_count": 6,
   "metadata": {},
   "outputs": [
    {
     "data": {
      "text/plain": [
       "3955"
      ]
     },
     "execution_count": 6,
     "metadata": {},
     "output_type": "execute_result"
    }
   ],
   "source": [
    "len(reports)"
   ]
  },
  {
   "cell_type": "code",
   "execution_count": 7,
   "metadata": {},
   "outputs": [
    {
     "data": {
      "text/plain": [
       "3927"
      ]
     },
     "execution_count": 7,
     "metadata": {},
     "output_type": "execute_result"
    }
   ],
   "source": [
    "len(merged)"
   ]
  },
  {
   "cell_type": "code",
   "execution_count": 10,
   "metadata": {},
   "outputs": [],
   "source": [
    "with open(os.path.join(CACHE_DIR, 'iuxray', 'findings+impression.txt'), 'w') as f:\n",
    "    for line in merged:\n",
    "        f.write(line)\n",
    "        f.write('\\n')"
   ]
  },
  {
   "cell_type": "code",
   "execution_count": 4,
   "metadata": {},
   "outputs": [],
   "source": [
    "original_reports = load_json_file(IUXRAY_REPORTS_MIN_JSON_PATH)"
   ]
  },
  {
   "cell_type": "code",
   "execution_count": 11,
   "metadata": {},
   "outputs": [
    {
     "name": "stdout",
     "output_type": "stream",
     "text": [
      "XXXX-year-old XXXX with chest pain.\n",
      "Hypertension, cardiac murmur\n",
      "pt with XXXX and difficulty\n",
      "XXXX-year-old male with positive PPD.\n",
      "XXXX.\n",
      "XXXX-year-old female. Pain after XXXX.\n",
      "XXXX-year-old female shortness of breath.\n",
      "Persistent XXXX.\n",
      "XXXX-year-old XXXX with shortness of breath.\n",
      "XXXX, dyspnea\n",
      "XXXX-year-old male status post XXXX on right side.\n",
      "XXXX-year-old male with XXXX and rib pain.\n",
      "XXXX-year-old female with XXXX, XXXX XXXX XXXX, pain in the left lower ribs.\n",
      "MVC. Back pain.\n",
      "Nonproductive XXXX\n",
      "Preoperative evaluation for internal fixation of ankle fracture.\n",
      "XXXX-year-old male XXXX with abnormal EKG.\n",
      "XXXX-year-old female with pain in right side of chest that increases with XXXX and deep breathing\n",
      "None\n",
      "Left-sided chest pain x2 days.\n"
     ]
    }
   ],
   "source": [
    "i = 0\n",
    "for report in original_reports.values():\n",
    "    print(report['indication'])\n",
    "    i += 1\n",
    "    if i == 20: break"
   ]
  },
  {
   "cell_type": "code",
   "execution_count": 10,
   "metadata": {},
   "outputs": [
    {
     "data": {
      "text/plain": [
       "{'comparison',\n",
       " 'filename',\n",
       " 'findings',\n",
       " 'images',\n",
       " 'impression',\n",
       " 'indication',\n",
       " 'tags_auto',\n",
       " 'tags_manual'}"
      ]
     },
     "execution_count": 10,
     "metadata": {},
     "output_type": "execute_result"
    }
   ],
   "source": [
    "keys"
   ]
  }
 ],
 "metadata": {
  "kernelspec": {
   "display_name": "Python 3 (ipykernel)",
   "language": "python",
   "name": "python3"
  },
  "language_info": {
   "codemirror_mode": {
    "name": "ipython",
    "version": 3
   },
   "file_extension": ".py",
   "mimetype": "text/x-python",
   "name": "python",
   "nbconvert_exporter": "python",
   "pygments_lexer": "ipython3",
   "version": "3.10.10"
  }
 },
 "nbformat": 4,
 "nbformat_minor": 4
}
