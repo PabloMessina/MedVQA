{
 "cells": [
  {
   "cell_type": "code",
   "execution_count": 1,
   "id": "bbec2ebf",
   "metadata": {},
   "outputs": [],
   "source": [
    "from medvqa.utils.files import load_jsonl"
   ]
  },
  {
   "cell_type": "code",
   "execution_count": 2,
   "id": "f377560f",
   "metadata": {},
   "outputs": [],
   "source": [
    "mli_train = load_jsonl('/mnt/data/physionet.org/files/mednli/1.0.0/mli_train_v1.jsonl')"
   ]
  },
  {
   "cell_type": "code",
   "execution_count": 3,
   "id": "b4a7607a",
   "metadata": {},
   "outputs": [],
   "source": [
    "mli_dev = load_jsonl('/mnt/data/physionet.org/files/mednli/1.0.0/mli_dev_v1.jsonl')"
   ]
  },
  {
   "cell_type": "code",
   "execution_count": 4,
   "id": "48fd6ea6",
   "metadata": {},
   "outputs": [],
   "source": [
    "mli_test = load_jsonl('/mnt/data/physionet.org/files/mednli/1.0.0/mli_test_v1.jsonl')"
   ]
  },
  {
   "cell_type": "code",
   "execution_count": 14,
   "id": "a2f26cc3",
   "metadata": {},
   "outputs": [
    {
     "data": {
      "text/plain": [
       "{'sentence1': 'Pregnancy was complicated by spotting at 18 weeks and 26 weeks.',\n",
       " 'pairID': '2449db5e-66c7-11e7-b9aa-f45c89b91419',\n",
       " 'sentence1_parse': '(ROOT (S (NP (NN Pregnancy)) (VP (VBD was) (VP (VBN complicated) (PP (IN by) (S (VP (VP (VBG spotting) (PP (IN at) (NP (CD 18) (NNS weeks)))) (CC and) (NP (CD 26) (NNS weeks))))))) (. .)))',\n",
       " 'sentence1_binary_parse': '( Pregnancy ( ( was ( complicated ( by ( ( ( spotting ( at ( 18 weeks ) ) ) and ) ( 26 weeks ) ) ) ) ) . ) )',\n",
       " 'sentence2': ' Pregnancy was uncomplicated',\n",
       " 'sentence2_parse': '(ROOT (S (NP (NN Pregnancy)) (VP (VBD was) (ADJP (JJ uncomplicated)))))',\n",
       " 'sentence2_binary_parse': '( Pregnancy ( was uncomplicated ) )',\n",
       " 'gold_label': 'contradiction'}"
      ]
     },
     "execution_count": 14,
     "metadata": {},
     "output_type": "execute_result"
    }
   ],
   "source": [
    "mli_train[-2]"
   ]
  },
  {
   "cell_type": "code",
   "execution_count": 16,
   "id": "00337e2c",
   "metadata": {},
   "outputs": [],
   "source": [
    "radnli_dev = load_jsonl('/mnt/data/physionet.org/files/radnli-report-inference/1.0.0/radnli_dev_v1.jsonl')"
   ]
  },
  {
   "cell_type": "code",
   "execution_count": 17,
   "id": "96519e94",
   "metadata": {},
   "outputs": [],
   "source": [
    "radnli_test = load_jsonl('/mnt/data/physionet.org/files/radnli-report-inference/1.0.0/radnli_test_v1.jsonl')"
   ]
  },
  {
   "cell_type": "code",
   "execution_count": 62,
   "id": "4da3473e",
   "metadata": {},
   "outputs": [
    {
     "data": {
      "text/plain": [
       "{'pair_id': '475',\n",
       " 'sentence1': 'No acute osseous abnormality is visualized.',\n",
       " 'sentence2': 'There is no focal infiltrate.',\n",
       " 'gold_label': 'neutral'}"
      ]
     },
     "execution_count": 62,
     "metadata": {},
     "output_type": "execute_result"
    }
   ],
   "source": [
    "radnli_test[-5]"
   ]
  },
  {
   "cell_type": "code",
   "execution_count": 24,
   "id": "86bee63d",
   "metadata": {},
   "outputs": [
    {
     "name": "stdout",
     "output_type": "stream",
     "text": [
      "{'pair_id': '0', 'sentence1': 'No free air below the right hemidiaphragm is seen.', 'sentence2': 'There is again mild relative elevation of the right hemidiaphragm.', 'gold_label': 'neutral'}\n",
      "{'pair_id': '1', 'sentence1': 'There is again mild relative elevation of the right hemidiaphragm.', 'sentence2': 'No free air below the right hemidiaphragm is seen.', 'gold_label': 'neutral'}\n"
     ]
    }
   ],
   "source": [
    "q = 'No free air below the right hemidiaphragm is seen.'\n",
    "for y in (radnli_dev, radnli_test):\n",
    "    for x in y:\n",
    "        if x['sentence1'] == q:\n",
    "            print(x)\n",
    "            continue\n",
    "        if x['sentence2'] == q:\n",
    "            print(x)\n",
    "            continue"
   ]
  },
  {
   "cell_type": "code",
   "execution_count": 40,
   "id": "fa1bc35a",
   "metadata": {},
   "outputs": [],
   "source": [
    "import re\n",
    "regex = re.compile(r'^\\{\\s*\"e\":\\s*\"(.*)\",\\s*\"c\":\\s*\"(.*)\",\\s*\"n\":\\s*\"(.*)\"\\s*\\}$')"
   ]
  },
  {
   "cell_type": "code",
   "execution_count": 47,
   "id": "d96e075c",
   "metadata": {},
   "outputs": [
    {
     "data": {
      "text/plain": [
       "'{\\n\"e\": \"The patient previously had a pleural drainage catheter in the right lung.\",\\n\"c\": \"The patient has never had a pleural drainage catheter.\",\\n\"n\": \"There is no evidence of pneumothorax in the left lung.\"\\n}'"
      ]
     },
     "execution_count": 47,
     "metadata": {},
     "output_type": "execute_result"
    }
   ],
   "source": [
    "regex.search(\"\"\"{\n",
    "\"e\": \"The patient previously had a pleural drainage catheter in the right lung.\",\n",
    "\"c\": \"The patient has never had a pleural drainage catheter.\",\n",
    "\"n\": \"There is no evidence of pneumothorax in the left lung.\"\n",
    "}\"\"\").group(0)"
   ]
  },
  {
   "cell_type": "code",
   "execution_count": null,
   "id": "690a60a0",
   "metadata": {},
   "outputs": [],
   "source": []
  }
 ],
 "metadata": {
  "kernelspec": {
   "display_name": "venv2",
   "language": "python",
   "name": "venv2"
  },
  "language_info": {
   "codemirror_mode": {
    "name": "ipython",
    "version": 3
   },
   "file_extension": ".py",
   "mimetype": "text/x-python",
   "name": "python",
   "nbconvert_exporter": "python",
   "pygments_lexer": "ipython3",
   "version": "3.10.10"
  }
 },
 "nbformat": 4,
 "nbformat_minor": 5
}
