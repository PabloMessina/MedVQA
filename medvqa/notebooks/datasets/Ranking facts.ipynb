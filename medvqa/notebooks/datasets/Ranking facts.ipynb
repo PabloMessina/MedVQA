{
 "cells": [
  {
   "cell_type": "code",
   "execution_count": 6,
   "id": "18c28507",
   "metadata": {},
   "outputs": [],
   "source": [
    "from medvqa.utils.files import load_jsonl, load_pickle"
   ]
  },
  {
   "cell_type": "code",
   "execution_count": 2,
   "id": "75c555d5",
   "metadata": {},
   "outputs": [],
   "source": [
    "integrated_fact_metadata = load_jsonl(\"/home/pamessina/medvqa-workspace/cache/mimiccxr/integrated_fact_metadata(578718,58628868).jsonl\")"
   ]
  },
  {
   "cell_type": "code",
   "execution_count": 4,
   "id": "c71b7e21",
   "metadata": {},
   "outputs": [
    {
     "data": {
      "text/plain": [
       "578718"
      ]
     },
     "execution_count": 4,
     "metadata": {},
     "output_type": "execute_result"
    }
   ],
   "source": [
    "len(integrated_fact_metadata)"
   ]
  },
  {
   "cell_type": "code",
   "execution_count": 81,
   "id": "a909bff1",
   "metadata": {},
   "outputs": [
    {
     "data": {
      "text/plain": [
       "{'fact': 'worsening osteoporosis in a debilitated and wheelchair-bound patient',\n",
       " 'metadata': {'anatomical location': '',\n",
       "  'detailed observation': 'worsening osteoporosis',\n",
       "  'short observation': 'osteoporosis',\n",
       "  'category': 'disease',\n",
       "  'health status': 'abnormal',\n",
       "  'prev_study_comparison?': 'no',\n",
       "  'comparison status': ''},\n",
       " 'extraction_method': 'gpt-3.5-turbo-0613'}"
      ]
     },
     "execution_count": 81,
     "metadata": {},
     "output_type": "execute_result"
    }
   ],
   "source": [
    "integrated_fact_metadata[1]"
   ]
  },
  {
   "cell_type": "code",
   "execution_count": 7,
   "id": "9a11d095",
   "metadata": {},
   "outputs": [],
   "source": [
    "anat_loc_embeddings = load_pickle('/mnt/data/pamessina/workspaces/medvqa-workspace/cache/mimiccxr/anatomical_location_embeddings(BiomedVLP-CXR-BERT-specialized,28347,779891).pkl')"
   ]
  },
  {
   "cell_type": "code",
   "execution_count": 34,
   "id": "1540284a",
   "metadata": {},
   "outputs": [],
   "source": [
    "from nltk.tokenize import word_tokenize\n",
    "\n",
    "word2anatlocs = {}\n",
    "for x in anat_loc_embeddings['anatomical locations']:\n",
    "    for word in word_tokenize(x):\n",
    "        try:\n",
    "            word2anatlocs[word].append(x)\n",
    "        except KeyError:\n",
    "            word2anatlocs[word] = [x]"
   ]
  },
  {
   "cell_type": "code",
   "execution_count": 80,
   "id": "a258dd45",
   "metadata": {},
   "outputs": [
    {
     "data": {
      "text/plain": [
       "318"
      ]
     },
     "execution_count": 80,
     "metadata": {},
     "output_type": "execute_result"
    }
   ],
   "source": [
    "word = 'line'\n",
    "# word = 'gastroesophageal'\n",
    "len(word2anatlocs[word])"
   ]
  },
  {
   "cell_type": "code",
   "execution_count": 52,
   "id": "17d8dc45",
   "metadata": {},
   "outputs": [
    {
     "data": {
      "text/plain": [
       "['upper esophageal sphincter']"
      ]
     },
     "execution_count": 52,
     "metadata": {},
     "output_type": "execute_result"
    }
   ],
   "source": [
    "import random\n",
    "random.sample(word2anatlocs[word], min(20,len(word2anatlocs[word])))"
   ]
  },
  {
   "cell_type": "code",
   "execution_count": 63,
   "id": "fad2a702",
   "metadata": {},
   "outputs": [
    {
     "data": {
      "text/plain": [
       "<module 'medvqa.utils.math' from '/home/pamessina/medvqa/medvqa/utils/math.py'>"
      ]
     },
     "execution_count": 63,
     "metadata": {},
     "output_type": "execute_result"
    }
   ],
   "source": [
    "reload(medvqa.utils.math)"
   ]
  },
  {
   "cell_type": "code",
   "execution_count": 64,
   "id": "672cf676",
   "metadata": {
    "scrolled": false
   },
   "outputs": [
    {
     "name": "stdout",
     "output_type": "stream",
     "text": [
      "6065\n",
      "region of the cardioesophageal junction\n",
      "----\n",
      "region of the cardioesophageal junction\n",
      "cardioesophageal junction\n",
      "posterior aspect of the costophrenic sinus\n",
      "lower thoracic esophagus above the thoracoabdominal junction\n",
      "aortopulmonic level\n",
      "adjacent to the descending thoracic aorta above the diaphragm\n",
      "posterior aspect of the costophrenic sulcus\n",
      "lateral inferior costophrenic angles\n",
      "posterior aspect of the costophrenic sinuses\n",
      "inferior thoracic\n",
      "inferior most aspects of the costophrenic sulci\n",
      "lateral aspect of the costophrenic sinus\n",
      "thoracolumbar junction (T12-L1)\n",
      "posterior costophrenic angle\n",
      "posterior CP angles\n",
      "abdominal fat pad\n",
      "posterior aspect of the sinuses\n",
      "posterior to the cardiac silhouette\n",
      "lower thoracic spine to the right\n",
      "posterior costophrenic sulci\n",
      "posterior cardiophrenic\n",
      "deep posterior costophrenic sulci\n",
      "inferior most aspects of the costophrenic angles\n",
      "very inferior posterior costophrenic angles\n",
      "non posterior costophrenic angles\n",
      "posterior CP angle\n",
      "posterior to the heart\n",
      "inferior most aspect of the costophrenic angle\n",
      "thoracoabdominal junction region\n",
      "region of the cardiophrenic angle\n",
      "T6-T7 level\n",
      "T6/T7 level\n"
     ]
    }
   ],
   "source": [
    "from medvqa.utils.math import rank_vectors_by_consine_similarity, rank_vectors_by_dot_product\n",
    "import random\n",
    "\n",
    "# query_idx = random.choice(range(anat_loc_embeddings['embeddings'].shape[0]))\n",
    "# query_idx = anat_loc_embeddings['anatomical locations'].index('upper part of non-distended stomach')\n",
    "query_idx = anat_loc_embeddings['anatomical locations'].index('region of the cardioesophageal junction')\n",
    "# query_idx = anat_loc_embeddings['anatomical locations'].index('right lung')\n",
    "\n",
    "query_embedding = anat_loc_embeddings['embeddings'][query_idx]\n",
    "# ranked_indices = rank_vectors_by_consine_similarity(anat_loc_embeddings['embeddings'], query_embedding)\n",
    "ranked_indices = rank_vectors_by_dot_product(anat_loc_embeddings['embeddings'], query_embedding)\n",
    "\n",
    "print(query_idx)\n",
    "print(anat_loc_embeddings['anatomical locations'][query_idx])\n",
    "print('----')\n",
    "\n",
    "for j, i in enumerate(ranked_indices):\n",
    "    print(anat_loc_embeddings['anatomical locations'][i])\n",
    "    if j > 30:\n",
    "        break"
   ]
  },
  {
   "cell_type": "code",
   "execution_count": 10,
   "id": "cd8c954b",
   "metadata": {},
   "outputs": [],
   "source": [
    "anatloc2embedding = {x:y for x,y in zip(anat_loc_embeddings['anatomical locations'], anat_loc_embeddings['embeddings'])}"
   ]
  },
  {
   "cell_type": "code",
   "execution_count": 15,
   "id": "fb969a82",
   "metadata": {},
   "outputs": [],
   "source": [
    "from importlib import reload\n",
    "import medvqa"
   ]
  },
  {
   "cell_type": "code",
   "execution_count": 73,
   "id": "65d7c848",
   "metadata": {},
   "outputs": [
    {
     "data": {
      "text/plain": [
       "<module 'medvqa.datasets.fact_ranking_rules.anatomical_location' from '/home/pamessina/medvqa/medvqa/datasets/fact_ranking_rules/anatomical_location.py'>"
      ]
     },
     "execution_count": 73,
     "metadata": {},
     "output_type": "execute_result"
    }
   ],
   "source": [
    "reload(medvqa.datasets.fact_ranking_rules.anatomical_location)"
   ]
  },
  {
   "cell_type": "code",
   "execution_count": 74,
   "id": "ca3605c5",
   "metadata": {},
   "outputs": [],
   "source": [
    "from medvqa.datasets.fact_ranking_rules.anatomical_location import AnatomicalLocationTripletRanker"
   ]
  },
  {
   "cell_type": "code",
   "execution_count": 75,
   "id": "252de294",
   "metadata": {},
   "outputs": [],
   "source": [
    "ranker = AnatomicalLocationTripletRanker(anatloc2embedding)"
   ]
  },
  {
   "cell_type": "code",
   "execution_count": 77,
   "id": "3b81d06a",
   "metadata": {
    "scrolled": false
   },
   "outputs": [
    {
     "name": "stdout",
     "output_type": "stream",
     "text": [
      "\u001b[93mUnsure: unsure prediction for\n",
      "\tquery=region of the cardioesophageal junction\n",
      "\tfact1=bottom of the image at the region of the cardioesophageal junction\n",
      "\tfact2=posterior aspect of the costophrenic sinus\n",
      "\tsim1=0.5641763210296631\n",
      "\tsim2=0.9537634253501892\n",
      "\tlevd1=27\n",
      "\tlevd2=31\n",
      "\tlabel=1\n",
      "\tpred=0\u001b[0m\n",
      "\u001b[93mUnsure: unsure prediction for\n",
      "\tquery=region of the cardioesophageal junction\n",
      "\tfact1=bottom of the image at the region of the cardioesophageal junction\n",
      "\tfact2=posterior aspect of the costophrenic sulcus\n",
      "\tsim1=0.5641763210296631\n",
      "\tsim2=0.9423143863677979\n",
      "\tlevd1=27\n",
      "\tlevd2=30\n",
      "\tlabel=1\n",
      "\tpred=0\u001b[0m\n",
      "\u001b[93mUnsure: unsure prediction for\n",
      "\tquery=region of the cardioesophageal junction\n",
      "\tfact1=bottom of the image at the region of the cardioesophageal junction\n",
      "\tfact2=lateral inferior costophrenic angles\n",
      "\tsim1=0.5641763210296631\n",
      "\tsim2=0.9414252638816833\n",
      "\tlevd1=27\n",
      "\tlevd2=31\n",
      "\tlabel=1\n",
      "\tpred=0\u001b[0m\n",
      "\u001b[93mUnsure: unsure prediction for\n",
      "\tquery=region of the cardioesophageal junction\n",
      "\tfact1=bottom of the image at the region of the cardioesophageal junction\n",
      "\tfact2=lower thoracic spine to the right\n",
      "\tsim1=0.5641763210296631\n",
      "\tsim2=0.9319028854370117\n",
      "\tlevd1=27\n",
      "\tlevd2=30\n",
      "\tlabel=1\n",
      "\tpred=0\u001b[0m\n",
      "\u001b[93mUnsure: unsure prediction for\n",
      "\tquery=region of the cardioesophageal junction\n",
      "\tfact1=bottom of the image at the region of the cardioesophageal junction\n",
      "\tfact2=aortopulmonic level\n",
      "\tsim1=0.5641763210296631\n",
      "\tsim2=0.950537919998169\n",
      "\tlevd1=27\n",
      "\tlevd2=34\n",
      "\tlabel=1\n",
      "\tpred=0\u001b[0m\n",
      "\u001b[93mUnsure: unsure prediction for\n",
      "\tquery=region of the cardioesophageal junction\n",
      "\tfact1=bottom of the image at the region of the cardioesophageal junction\n",
      "\tfact2=abdominal fat pad\n",
      "\tsim1=0.5641763210296631\n",
      "\tsim2=0.9326440691947937\n",
      "\tlevd1=27\n",
      "\tlevd2=33\n",
      "\tlabel=1\n",
      "\tpred=0\u001b[0m\n",
      "\u001b[93mUnsure: unsure prediction for\n",
      "\tquery=region of the cardioesophageal junction\n",
      "\tfact1=just above the cardioesophageal junction\n",
      "\tfact2=posterior aspect of the costophrenic sinus\n",
      "\tsim1=0.6608749032020569\n",
      "\tsim2=0.9537634253501892\n",
      "\tlevd1=9\n",
      "\tlevd2=31\n",
      "\tlabel=1\n",
      "\tpred=0\u001b[0m\n",
      "\u001b[93mUnsure: unsure prediction for\n",
      "\tquery=region of the cardioesophageal junction\n",
      "\tfact1=just above the cardioesophageal junction\n",
      "\tfact2=posterior aspect of the costophrenic sulcus\n",
      "\tsim1=0.6608749032020569\n",
      "\tsim2=0.9423143863677979\n",
      "\tlevd1=9\n",
      "\tlevd2=30\n",
      "\tlabel=1\n",
      "\tpred=0\u001b[0m\n",
      "\u001b[93mUnsure: unsure prediction for\n",
      "\tquery=region of the cardioesophageal junction\n",
      "\tfact1=just above the cardioesophageal junction\n",
      "\tfact2=lateral inferior costophrenic angles\n",
      "\tsim1=0.6608749032020569\n",
      "\tsim2=0.9414252638816833\n",
      "\tlevd1=9\n",
      "\tlevd2=31\n",
      "\tlabel=1\n",
      "\tpred=0\u001b[0m\n",
      "\u001b[93mUnsure: unsure prediction for\n",
      "\tquery=region of the cardioesophageal junction\n",
      "\tfact1=just above the cardioesophageal junction\n",
      "\tfact2=lower thoracic spine to the right\n",
      "\tsim1=0.6608749032020569\n",
      "\tsim2=0.9319028854370117\n",
      "\tlevd1=9\n",
      "\tlevd2=30\n",
      "\tlabel=1\n",
      "\tpred=0\u001b[0m\n",
      "\u001b[93mUnsure: unsure prediction for\n",
      "\tquery=region of the cardioesophageal junction\n",
      "\tfact1=just above the cardioesophageal junction\n",
      "\tfact2=aortopulmonic level\n",
      "\tsim1=0.6608749032020569\n",
      "\tsim2=0.950537919998169\n",
      "\tlevd1=9\n",
      "\tlevd2=34\n",
      "\tlabel=1\n",
      "\tpred=0\u001b[0m\n",
      "\u001b[93mUnsure: unsure prediction for\n",
      "\tquery=region of the cardioesophageal junction\n",
      "\tfact1=just above the cardioesophageal junction\n",
      "\tfact2=abdominal fat pad\n",
      "\tsim1=0.6608749032020569\n",
      "\tsim2=0.9326440691947937\n",
      "\tlevd1=9\n",
      "\tlevd2=33\n",
      "\tlabel=1\n",
      "\tpred=0\u001b[0m\n",
      "Accuracy: 0.43. Correct: 9, Incorrect: 0, Unsure: 12\n"
     ]
    }
   ],
   "source": [
    "ranker.run_tests('/home/pamessina/medvqa/medvqa/datasets/fact_ranking_rules/tests/anatomical_location_triplets.json')"
   ]
  },
  {
   "cell_type": "code",
   "execution_count": 19,
   "id": "3d69b047",
   "metadata": {},
   "outputs": [
    {
     "name": "stdout",
     "output_type": "stream",
     "text": [
      "0.9801390171051025 0.3071393072605133\n"
     ]
    },
    {
     "data": {
      "text/plain": [
       "1"
      ]
     },
     "execution_count": 19,
     "metadata": {},
     "output_type": "execute_result"
    }
   ],
   "source": [
    "ranker.rank('L lung', 'left lung', 'right lung')"
   ]
  },
  {
   "cell_type": "code",
   "execution_count": 20,
   "id": "182286a2",
   "metadata": {},
   "outputs": [
    {
     "name": "stdout",
     "output_type": "stream",
     "text": [
      "0.3071393072605133 0.9801390171051025\n"
     ]
    },
    {
     "data": {
      "text/plain": [
       "-1"
      ]
     },
     "execution_count": 20,
     "metadata": {},
     "output_type": "execute_result"
    }
   ],
   "source": [
    "ranker.rank('L lung', 'right lung', 'left lung')"
   ]
  }
 ],
 "metadata": {
  "kernelspec": {
   "display_name": "venv2",
   "language": "python",
   "name": "venv2"
  },
  "language_info": {
   "codemirror_mode": {
    "name": "ipython",
    "version": 3
   },
   "file_extension": ".py",
   "mimetype": "text/x-python",
   "name": "python",
   "nbconvert_exporter": "python",
   "pygments_lexer": "ipython3",
   "version": "3.10.10"
  }
 },
 "nbformat": 4,
 "nbformat_minor": 5
}
