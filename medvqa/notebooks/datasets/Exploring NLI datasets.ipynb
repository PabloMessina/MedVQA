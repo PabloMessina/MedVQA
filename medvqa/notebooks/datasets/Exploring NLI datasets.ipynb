{
 "cells": [
  {
   "cell_type": "code",
   "execution_count": 1,
   "id": "4128b793",
   "metadata": {},
   "outputs": [
    {
     "name": "stdout",
     "output_type": "stream",
     "text": [
      "anli_v1.0      multinli_1.0\t snli_1.0\r\n",
      "anli_v1.0.zip  multinli_1.0.zip  snli_1.0.zip\r\n"
     ]
    }
   ],
   "source": [
    "!ls /mnt/data/NLI_datasets/"
   ]
  },
  {
   "cell_type": "code",
   "execution_count": 13,
   "id": "b64d0d93",
   "metadata": {},
   "outputs": [
    {
     "name": "stdout",
     "output_type": "stream",
     "text": [
      "dev.jsonl  test.jsonl  train.jsonl\r\n"
     ]
    }
   ],
   "source": [
    "!ls /mnt/data/NLI_datasets/anli_v1.0/R3/"
   ]
  },
  {
   "cell_type": "code",
   "execution_count": 4,
   "id": "b26e0e33",
   "metadata": {},
   "outputs": [],
   "source": [
    "from medvqa.utils.files import load_jsonl"
   ]
  },
  {
   "cell_type": "code",
   "execution_count": 5,
   "id": "b7ec9796",
   "metadata": {},
   "outputs": [],
   "source": [
    "anli_v1_r1_dev = load_jsonl('/mnt/data/NLI_datasets/anli_v1.0/R1/dev.jsonl')"
   ]
  },
  {
   "cell_type": "code",
   "execution_count": 10,
   "id": "c9ff9f03",
   "metadata": {},
   "outputs": [],
   "source": [
    "anli_v1_r1_train = load_jsonl('/mnt/data/NLI_datasets/anli_v1.0/R1/train.jsonl')"
   ]
  },
  {
   "cell_type": "code",
   "execution_count": 14,
   "id": "7c02e480",
   "metadata": {},
   "outputs": [],
   "source": [
    "anli_v1_r3_test = load_jsonl('/mnt/data/NLI_datasets/anli_v1.0/R1/test.jsonl')"
   ]
  },
  {
   "cell_type": "code",
   "execution_count": 11,
   "id": "dbc6f5db",
   "metadata": {},
   "outputs": [
    {
     "data": {
      "text/plain": [
       "16946"
      ]
     },
     "execution_count": 11,
     "metadata": {},
     "output_type": "execute_result"
    }
   ],
   "source": [
    "len(anli_v1_r1_train)"
   ]
  },
  {
   "cell_type": "code",
   "execution_count": 12,
   "id": "6e431d51",
   "metadata": {},
   "outputs": [
    {
     "data": {
      "text/plain": [
       "{'uid': '0fd0abfb-659e-4453-b196-c3a64d2d8267',\n",
       " 'context': 'The Parma trolleybus system (Italian: \"Rete filoviaria di Parma\" ) forms part of the public transport network of the city and \"comune\" of Parma, in the region of Emilia-Romagna, northern Italy. In operation since 1953, the system presently comprises four urban routes.',\n",
       " 'hypothesis': 'The trolleybus system has over 2 urban routes',\n",
       " 'label': 'e',\n",
       " 'model_label': 'e',\n",
       " 'emturk': False,\n",
       " 'genre': 'wikipedia',\n",
       " 'reason': '',\n",
       " 'tag': 'r1_train'}"
      ]
     },
     "execution_count": 12,
     "metadata": {},
     "output_type": "execute_result"
    }
   ],
   "source": [
    "anli_v1_r1_train[0]"
   ]
  },
  {
   "cell_type": "code",
   "execution_count": 16,
   "id": "d0c38246",
   "metadata": {},
   "outputs": [
    {
     "data": {
      "text/plain": [
       "{'uid': '4aae63a8-fcf7-406c-a2f3-50c31c5934a9',\n",
       " 'context': 'Ernest Jones is a British jeweller and watchmaker. Established in 1949, its first store was opened in Oxford Street, London. Ernest Jones specialises in diamonds and watches, stocking brands such as Gucci and Emporio Armani. Ernest Jones is part of the Signet Jewelers group.',\n",
       " 'hypothesis': 'The first Ernest Jones store was opened on the continent of Europe.',\n",
       " 'label': 'e',\n",
       " 'model_label': 'n',\n",
       " 'emturk': False,\n",
       " 'genre': 'wikipedia',\n",
       " 'reason': \"The first store was opened in London, which is in Europe. It may have been difficult for the system because continents weren't mentioned.\",\n",
       " 'tag': 'r1_test'}"
      ]
     },
     "execution_count": 16,
     "metadata": {},
     "output_type": "execute_result"
    }
   ],
   "source": [
    "anli_v1_r3_test[0]"
   ]
  },
  {
   "cell_type": "code",
   "execution_count": 17,
   "id": "ba39b9a7",
   "metadata": {},
   "outputs": [
    {
     "name": "stdout",
     "output_type": "stream",
     "text": [
      "Icon\t\t\t\t   multinli_1.0_train.jsonl\r\n",
      "multinli_1.0_dev_matched.jsonl\t   multinli_1.0_train.txt\r\n",
      "multinli_1.0_dev_matched.txt\t   paper.pdf\r\n",
      "multinli_1.0_dev_mismatched.jsonl  README.txt\r\n",
      "multinli_1.0_dev_mismatched.txt\r\n"
     ]
    }
   ],
   "source": [
    "!ls /mnt/data/NLI_datasets/multinli_1.0/"
   ]
  },
  {
   "cell_type": "code",
   "execution_count": 20,
   "id": "884e965d",
   "metadata": {},
   "outputs": [],
   "source": [
    "multinli_dev_matched = load_jsonl('/mnt/data/NLI_datasets/multinli_1.0/multinli_1.0_dev_matched.jsonl')"
   ]
  },
  {
   "cell_type": "code",
   "execution_count": 24,
   "id": "54c879c0",
   "metadata": {},
   "outputs": [],
   "source": [
    "multinli_dev_mismatched = load_jsonl('/mnt/data/NLI_datasets/multinli_1.0/multinli_1.0_dev_mismatched.jsonl')"
   ]
  },
  {
   "cell_type": "code",
   "execution_count": 27,
   "id": "9855445f",
   "metadata": {},
   "outputs": [],
   "source": [
    "multinli_train = load_jsonl('/mnt/data/NLI_datasets/multinli_1.0/multinli_1.0_train.jsonl')"
   ]
  },
  {
   "cell_type": "code",
   "execution_count": 21,
   "id": "34500a24",
   "metadata": {},
   "outputs": [
    {
     "data": {
      "text/plain": [
       "10000"
      ]
     },
     "execution_count": 21,
     "metadata": {},
     "output_type": "execute_result"
    }
   ],
   "source": [
    "len(multinli_dev_matched)"
   ]
  },
  {
   "cell_type": "code",
   "execution_count": 25,
   "id": "60fa80d6",
   "metadata": {},
   "outputs": [
    {
     "data": {
      "text/plain": [
       "10000"
      ]
     },
     "execution_count": 25,
     "metadata": {},
     "output_type": "execute_result"
    }
   ],
   "source": [
    "len(multinli_dev_mismatched)"
   ]
  },
  {
   "cell_type": "code",
   "execution_count": 28,
   "id": "cf36fc0e",
   "metadata": {},
   "outputs": [
    {
     "data": {
      "text/plain": [
       "392702"
      ]
     },
     "execution_count": 28,
     "metadata": {},
     "output_type": "execute_result"
    }
   ],
   "source": [
    "len(multinli_train)"
   ]
  },
  {
   "cell_type": "code",
   "execution_count": 22,
   "id": "85dc63e9",
   "metadata": {},
   "outputs": [
    {
     "data": {
      "text/plain": [
       "{'annotator_labels': ['neutral',\n",
       "  'entailment',\n",
       "  'neutral',\n",
       "  'neutral',\n",
       "  'neutral'],\n",
       " 'genre': 'slate',\n",
       " 'gold_label': 'neutral',\n",
       " 'pairID': '63735n',\n",
       " 'promptID': '63735',\n",
       " 'sentence1': 'The new rights are nice enough',\n",
       " 'sentence1_binary_parse': '( ( The ( new rights ) ) ( are ( nice enough ) ) )',\n",
       " 'sentence1_parse': '(ROOT (S (NP (DT The) (JJ new) (NNS rights)) (VP (VBP are) (ADJP (JJ nice) (RB enough)))))',\n",
       " 'sentence2': 'Everyone really likes the newest benefits ',\n",
       " 'sentence2_binary_parse': '( Everyone ( really ( likes ( the ( newest benefits ) ) ) ) )',\n",
       " 'sentence2_parse': '(ROOT (S (NP (NN Everyone)) (VP (ADVP (RB really)) (VBZ likes) (NP (DT the) (JJS newest) (NNS benefits)))))'}"
      ]
     },
     "execution_count": 22,
     "metadata": {},
     "output_type": "execute_result"
    }
   ],
   "source": [
    "multinli_dev_matched[0]"
   ]
  },
  {
   "cell_type": "code",
   "execution_count": 26,
   "id": "2efa1172",
   "metadata": {},
   "outputs": [
    {
     "data": {
      "text/plain": [
       "{'annotator_labels': ['contradiction',\n",
       "  'contradiction',\n",
       "  'contradiction',\n",
       "  'contradiction',\n",
       "  'contradiction'],\n",
       " 'genre': 'letters',\n",
       " 'gold_label': 'contradiction',\n",
       " 'pairID': '75290c',\n",
       " 'promptID': '75290',\n",
       " 'sentence1': 'Your contribution helped make it possible for us to provide our students with a quality education.',\n",
       " 'sentence1_binary_parse': '( ( Your contribution ) ( ( helped ( make ( it ( possible ( for ( us ( to ( ( provide ( our students ) ) ( with ( a ( quality education ) ) ) ) ) ) ) ) ) ) ) . ) )',\n",
       " 'sentence1_parse': '(ROOT (S (NP (PRP$ Your) (NN contribution)) (VP (VBD helped) (VP (VB make) (S (NP (PRP it)) (ADJP (JJ possible)) (SBAR (IN for) (S (NP (PRP us)) (VP (TO to) (VP (VB provide) (NP (PRP$ our) (NNS students)) (PP (IN with) (NP (DT a) (NN quality) (NN education)))))))))) (. .)))',\n",
       " 'sentence2': \"Your contributions were of no help with our students' education.\",\n",
       " 'sentence2_binary_parse': \"( ( Your contributions ) ( ( were ( of ( ( no help ) ( with ( ( our ( students ' ) ) education ) ) ) ) ) . ) )\",\n",
       " 'sentence2_parse': \"(ROOT (S (NP (PRP$ Your) (NNS contributions)) (VP (VBD were) (PP (IN of) (NP (NP (DT no) (NN help)) (PP (IN with) (NP (NP (PRP$ our) (NNS students) (POS ')) (NN education)))))) (. .)))\"}"
      ]
     },
     "execution_count": 26,
     "metadata": {},
     "output_type": "execute_result"
    }
   ],
   "source": [
    "multinli_dev_mismatched[0]"
   ]
  },
  {
   "cell_type": "code",
   "execution_count": 29,
   "id": "b24e583e",
   "metadata": {},
   "outputs": [
    {
     "data": {
      "text/plain": [
       "{'annotator_labels': ['neutral'],\n",
       " 'genre': 'government',\n",
       " 'gold_label': 'neutral',\n",
       " 'pairID': '31193n',\n",
       " 'promptID': '31193',\n",
       " 'sentence1': 'Conceptually cream skimming has two basic dimensions - product and geography.',\n",
       " 'sentence1_binary_parse': '( ( Conceptually ( cream skimming ) ) ( ( has ( ( ( two ( basic dimensions ) ) - ) ( ( product and ) geography ) ) ) . ) )',\n",
       " 'sentence1_parse': '(ROOT (S (NP (JJ Conceptually) (NN cream) (NN skimming)) (VP (VBZ has) (NP (NP (CD two) (JJ basic) (NNS dimensions)) (: -) (NP (NN product) (CC and) (NN geography)))) (. .)))',\n",
       " 'sentence2': 'Product and geography are what make cream skimming work. ',\n",
       " 'sentence2_binary_parse': '( ( ( Product and ) geography ) ( ( are ( what ( make ( cream ( skimming work ) ) ) ) ) . ) )',\n",
       " 'sentence2_parse': '(ROOT (S (NP (NN Product) (CC and) (NN geography)) (VP (VBP are) (SBAR (WHNP (WP what)) (S (VP (VBP make) (NP (NP (NN cream)) (VP (VBG skimming) (NP (NN work)))))))) (. .)))'}"
      ]
     },
     "execution_count": 29,
     "metadata": {},
     "output_type": "execute_result"
    }
   ],
   "source": [
    "multinli_train[0]"
   ]
  },
  {
   "cell_type": "code",
   "execution_count": 30,
   "id": "abc309b2",
   "metadata": {},
   "outputs": [
    {
     "name": "stdout",
     "output_type": "stream",
     "text": [
      "Icon\t    snli_1.0_dev.jsonl\tsnli_1.0_test.jsonl  snli_1.0_train.jsonl\r\n",
      "README.txt  snli_1.0_dev.txt\tsnli_1.0_test.txt    snli_1.0_train.txt\r\n"
     ]
    }
   ],
   "source": [
    "!ls /mnt/data/NLI_datasets/snli_1.0/"
   ]
  },
  {
   "cell_type": "code",
   "execution_count": 31,
   "id": "ab981fb6",
   "metadata": {},
   "outputs": [],
   "source": [
    "snli_test = load_jsonl('/mnt/data/NLI_datasets/snli_1.0/snli_1.0_test.jsonl')"
   ]
  },
  {
   "cell_type": "code",
   "execution_count": 36,
   "id": "dfa29730",
   "metadata": {},
   "outputs": [],
   "source": [
    "snli_train = load_jsonl('/mnt/data/NLI_datasets/snli_1.0/snli_1.0_train.jsonl')"
   ]
  },
  {
   "cell_type": "code",
   "execution_count": 35,
   "id": "439bacf6",
   "metadata": {},
   "outputs": [
    {
     "data": {
      "text/plain": [
       "10000"
      ]
     },
     "execution_count": 35,
     "metadata": {},
     "output_type": "execute_result"
    }
   ],
   "source": [
    "len(snli_test)"
   ]
  },
  {
   "cell_type": "code",
   "execution_count": 37,
   "id": "a8f5b4cc",
   "metadata": {},
   "outputs": [
    {
     "data": {
      "text/plain": [
       "550152"
      ]
     },
     "execution_count": 37,
     "metadata": {},
     "output_type": "execute_result"
    }
   ],
   "source": [
    "len(snli_train)"
   ]
  },
  {
   "cell_type": "code",
   "execution_count": 33,
   "id": "5b7be824",
   "metadata": {},
   "outputs": [
    {
     "data": {
      "text/plain": [
       "{'annotator_labels': ['entailment',\n",
       "  'entailment',\n",
       "  'entailment',\n",
       "  'neutral',\n",
       "  'entailment'],\n",
       " 'captionID': '2677109430.jpg#1',\n",
       " 'gold_label': 'entailment',\n",
       " 'pairID': '2677109430.jpg#1r1e',\n",
       " 'sentence1': 'This church choir sings to the masses as they sing joyous songs from the book at a church.',\n",
       " 'sentence1_binary_parse': '( ( This ( church choir ) ) ( ( ( sings ( to ( the masses ) ) ) ( as ( they ( ( sing ( joyous songs ) ) ( from ( ( the book ) ( at ( a church ) ) ) ) ) ) ) ) . ) )',\n",
       " 'sentence1_parse': '(ROOT (S (NP (DT This) (NN church) (NN choir)) (VP (VBZ sings) (PP (TO to) (NP (DT the) (NNS masses))) (SBAR (IN as) (S (NP (PRP they)) (VP (VBP sing) (NP (JJ joyous) (NNS songs)) (PP (IN from) (NP (NP (DT the) (NN book)) (PP (IN at) (NP (DT a) (NN church))))))))) (. .)))',\n",
       " 'sentence2': 'The church is filled with song.',\n",
       " 'sentence2_binary_parse': '( ( The church ) ( ( is ( filled ( with song ) ) ) . ) )',\n",
       " 'sentence2_parse': '(ROOT (S (NP (DT The) (NN church)) (VP (VBZ is) (VP (VBN filled) (PP (IN with) (NP (NN song))))) (. .)))'}"
      ]
     },
     "execution_count": 33,
     "metadata": {},
     "output_type": "execute_result"
    }
   ],
   "source": [
    "snli_test[1]"
   ]
  },
  {
   "cell_type": "code",
   "execution_count": 38,
   "id": "91522929",
   "metadata": {},
   "outputs": [
    {
     "data": {
      "text/plain": [
       "{'annotator_labels': ['neutral'],\n",
       " 'captionID': '3416050480.jpg#4',\n",
       " 'gold_label': 'neutral',\n",
       " 'pairID': '3416050480.jpg#4r1n',\n",
       " 'sentence1': 'A person on a horse jumps over a broken down airplane.',\n",
       " 'sentence1_binary_parse': '( ( ( A person ) ( on ( a horse ) ) ) ( ( jumps ( over ( a ( broken ( down airplane ) ) ) ) ) . ) )',\n",
       " 'sentence1_parse': '(ROOT (S (NP (NP (DT A) (NN person)) (PP (IN on) (NP (DT a) (NN horse)))) (VP (VBZ jumps) (PP (IN over) (NP (DT a) (JJ broken) (JJ down) (NN airplane)))) (. .)))',\n",
       " 'sentence2': 'A person is training his horse for a competition.',\n",
       " 'sentence2_binary_parse': '( ( A person ) ( ( is ( ( training ( his horse ) ) ( for ( a competition ) ) ) ) . ) )',\n",
       " 'sentence2_parse': '(ROOT (S (NP (DT A) (NN person)) (VP (VBZ is) (VP (VBG training) (NP (PRP$ his) (NN horse)) (PP (IN for) (NP (DT a) (NN competition))))) (. .)))'}"
      ]
     },
     "execution_count": 38,
     "metadata": {},
     "output_type": "execute_result"
    }
   ],
   "source": [
    "snli_train[0]"
   ]
  }
 ],
 "metadata": {
  "kernelspec": {
   "display_name": "venv2",
   "language": "python",
   "name": "venv2"
  },
  "language_info": {
   "codemirror_mode": {
    "name": "ipython",
    "version": 3
   },
   "file_extension": ".py",
   "mimetype": "text/x-python",
   "name": "python",
   "nbconvert_exporter": "python",
   "pygments_lexer": "ipython3",
   "version": "3.10.10"
  }
 },
 "nbformat": 4,
 "nbformat_minor": 5
}
