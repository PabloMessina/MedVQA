{
 "cells": [
  {
   "cell_type": "code",
   "execution_count": null,
   "id": "525b6006",
   "metadata": {
    "scrolled": true
   },
   "outputs": [
    {
     "name": "stdout",
     "output_type": "stream",
     "text": [
      "2023-07-05 20:58:20,978 - \u001b[1;32mINFO\u001b[1;0m - Loaded 1 already parsed facts from /home/pamessina/medvqa-workspace/cache/mimiccxr/openai/gpt-3.5-turbo-0613_parsed_facts__v2.jsonl\n",
      "2023-07-05 20:58:20,978 - \u001b[1;32mINFO\u001b[1;0m - Loading facts from /home/pamessina/medvqa-workspace/cache/mimiccxr/integrated_sentence_facts(58655550,49843061).jsonl\n",
      "2023-07-05 20:58:25,724 - \u001b[1;32mINFO\u001b[1;0m - Loaded 677694 rows from /home/pamessina/medvqa-workspace/cache/mimiccxr/integrated_sentence_facts(58655550,49843061).jsonl\n",
      "2023-07-05 20:58:26,399 - \u001b[1;32mINFO\u001b[1;0m - Found 578718 unique facts in /home/pamessina/medvqa-workspace/cache/mimiccxr/integrated_sentence_facts(58655550,49843061).jsonl\n",
      "2023-07-05 20:58:26,440 - \u001b[1;32mINFO\u001b[1;0m - Sorting facts by difficulty...\n",
      "100%|████████████████████████████████| 578718/578718 [00:42<00:00, 13509.10it/s]\n",
      "2023-07-05 20:59:09,306 - \u001b[1;32mINFO\u001b[1;0m - Counting word frequencies...\n",
      "100%|███████████████████████████████| 578718/578718 [00:00<00:00, 918892.98it/s]\n",
      "2023-07-05 20:59:10,771 - \u001b[1;32mINFO\u001b[1;0m - Done sorting facts.\n",
      "2023-07-05 20:59:10,771 - \u001b[1;32mINFO\u001b[1;0m - First fact: A BENIGN CALCIFICATION IN LUNG OR RIB, OR VESSEL, EITHER ON END OR CROSSING in the right lower lung\n",
      "2023-07-05 20:59:10,771 - \u001b[1;32mINFO\u001b[1;0m - Last fact: right\n",
      "2023-07-05 20:59:10,946 - \u001b[1;32mINFO\u001b[1;0m - Total number of facts to parse: 19999\n",
      "2023-07-05 20:59:10,946 - \u001b[1;32mINFO\u001b[1;0m - Example facts to parse:\n",
      "2023-07-05 20:59:10,947 - \u001b[1;32mINFO\u001b[1;0m - 1. LEFT INTERNAL JUGULAR LINE TIP TERMINATES AT THE LEVEL OF CAVOATRIAL BRANCH\n",
      "2023-07-05 20:59:10,947 - \u001b[1;32mINFO\u001b[1;0m - 2223. lightly widened right superior paramediastinal region\n",
      "2023-07-05 20:59:10,947 - \u001b[1;32mINFO\u001b[1;0m - 4445. airation of lung tissue\n",
      "2023-07-05 20:59:10,947 - \u001b[1;32mINFO\u001b[1;0m - 6667. double contour and enlargement of the left upper mediastinal aortal contour\n",
      "2023-07-05 20:59:10,947 - \u001b[1;32mINFO\u001b[1;0m - 8889. endotracheal tube 0.1 cm above the chronic\n",
      "2023-07-05 20:59:10,947 - \u001b[1;32mINFO\u001b[1;0m - 11111. left upper lobe apicoposterior segment partially aerated\n",
      "2023-07-05 20:59:10,947 - \u001b[1;32mINFO\u001b[1;0m - 13333. Dobhoff-type tube observed in the AP view\n",
      "2023-07-05 20:59:10,947 - \u001b[1;32mINFO\u001b[1;0m - 15555. subcapsular hepatic collection\n",
      "2023-07-05 20:59:10,947 - \u001b[1;32mINFO\u001b[1;0m - 17777. recent oropharyngeal swallow\n",
      "2023-07-05 20:59:10,947 - \u001b[1;32mINFO\u001b[1;0m - 19999. re-evaluation of concurrent pneumonia after the patient's hemodynamic status improves\n",
      "2023-07-05 20:59:11,382 - \u001b[1;32mINFO\u001b[1;0m - Saving API requests to /home/pamessina/medvqa-workspace/tmp/mimiccxr/openai/api_requests_20230705_205911.jsonl\n",
      "2023-07-05 20:59:11,382 - \u001b[1;32mINFO\u001b[1;0m - Saving API responses to /home/pamessina/medvqa-workspace/tmp/mimiccxr/openai/api_responses_20230705_205911.jsonl\n",
      "2023-07-05 20:59:11,836 - \u001b[1;32mINFO\u001b[1;0m - Starting request #0\n",
      "2023-07-05 20:59:11,902 - \u001b[1;32mINFO\u001b[1;0m - Starting request #20\n",
      "2023-07-05 20:59:12,004 - \u001b[1;32mINFO\u001b[1;0m - Starting request #40\n",
      "2023-07-05 20:59:12,079 - \u001b[1;32mINFO\u001b[1;0m - Starting request #60\n",
      "2023-07-05 20:59:12,149 - \u001b[1;32mINFO\u001b[1;0m - Starting request #80\n",
      "2023-07-05 20:59:18,292 - \u001b[1;32mINFO\u001b[1;0m - Starting request #100\n",
      "2023-07-05 20:59:31,394 - \u001b[1;32mINFO\u001b[1;0m - Starting request #120\n",
      "2023-07-05 20:59:44,482 - \u001b[1;32mINFO\u001b[1;0m - Starting request #140\n",
      "2023-07-05 20:59:57,654 - \u001b[1;32mINFO\u001b[1;0m - Starting request #160\n",
      "2023-07-05 21:00:10,820 - \u001b[1;32mINFO\u001b[1;0m - Starting request #180\n"
     ]
    }
   ],
   "source": [
    "!python ../../scripts/mimiccxr/extract_metadata_from_facts_with_openai.py \\\n",
    "    --extracted_facts_jsonl_filepath \"/home/pamessina/medvqa-workspace/cache/mimiccxr/integrated_sentence_facts(58655550,49843061).jsonl\" \\\n",
    "    --offset 0 \\\n",
    "    --num_facts 20000 \\\n",
    "    --max_requests_per_minute 3000 \\\n",
    "    --max_tokens_per_minute 80000 \\\n",
    "    --max_tokens_per_request 200 \\\n",
    "    --logging_level \"INFO\" \\\n",
    "    --api_key_name \"OPENAI_API_KEY_1\" \\\n",
    "    --openai_model_name \"gpt-3.5-turbo-0613\" \\\n",
    "    --alias \"__v2\""
   ]
  },
  {
   "cell_type": "code",
   "execution_count": 8,
   "id": "73b0fb70",
   "metadata": {},
   "outputs": [
    {
     "name": "stdout",
     "output_type": "stream",
     "text": [
      " gpt-3.5-turbo-0301_parsed_sentences.jsonl\r\n",
      " gpt-3.5-turbo-0613_parsed_facts__hard.jsonl\r\n",
      " gpt-3.5-turbo-0613_parsed_facts__uniform.jsonl\r\n",
      " gpt-3.5-turbo-0613_parsed_facts__v2.jsonl\r\n",
      "'gpt-3.5-turbo-0613_parsed_facts__v2_offset=20000.jsonl'\r\n",
      " gpt-3.5-turbo-0613_parsed_sentences__v2.jsonl\r\n",
      "'gpt-3.5-turbo-0613_parsed_sentences__v2(uniform).jsonl'\r\n",
      " gpt-3.5-turbo_parsed_backgrounds.jsonl\r\n",
      " gpt-3.5-turbo_parsed_reports__backup.jsonl\r\n",
      " gpt-3.5-turbo_parsed_reports.jsonl\r\n",
      "'gpt-3.5-turbo_parsed_reports(old).jsonl'\r\n",
      " gpt-3.5-turbo_parsed_sentences.jsonl\r\n",
      " gpt-4-0613_parsed_reports.jsonl\r\n",
      " gpt-4-0613_parsed_sentences.jsonl\r\n",
      " gpt-4-0613_parsed_sentences__v2.jsonl\r\n"
     ]
    }
   ],
   "source": [
    "!ls /home/pamessina/medvqa-workspace/cache/mimiccxr/openai/"
   ]
  },
  {
   "cell_type": "code",
   "execution_count": 9,
   "id": "3f633648",
   "metadata": {},
   "outputs": [],
   "source": [
    "from medvqa.utils.files import load_jsonl"
   ]
  },
  {
   "cell_type": "code",
   "execution_count": 10,
   "id": "fdadc356",
   "metadata": {},
   "outputs": [],
   "source": [
    "tmp = load_jsonl('/home/pamessina/medvqa-workspace/cache/mimiccxr/openai/gpt-3.5-turbo-0613_parsed_facts__v2.jsonl')"
   ]
  },
  {
   "cell_type": "code",
   "execution_count": 11,
   "id": "5702acc3",
   "metadata": {},
   "outputs": [
    {
     "data": {
      "text/plain": [
       "19936"
      ]
     },
     "execution_count": 11,
     "metadata": {},
     "output_type": "execute_result"
    }
   ],
   "source": [
    "len(tmp)"
   ]
  },
  {
   "cell_type": "code",
   "execution_count": 32,
   "id": "0487aa13",
   "metadata": {},
   "outputs": [
    {
     "data": {
      "text/plain": [
       "{'metadata': {'fact': 'followup radiographs following treatment of acute illness'},\n",
       " 'parsed_response': {'anatomical location': '',\n",
       "  'detailed observation': 'followup radiographs following treatment of acute illness',\n",
       "  'short observation': 'followup radiographs',\n",
       "  'category': 'technical assessment',\n",
       "  'health status': 'unknown',\n",
       "  'prev_study_comparison?': 'no',\n",
       "  'comparison status': ''}}"
      ]
     },
     "execution_count": 32,
     "metadata": {},
     "output_type": "execute_result"
    }
   ],
   "source": [
    "tmp[-21]"
   ]
  }
 ],
 "metadata": {
  "kernelspec": {
   "display_name": "venv2",
   "language": "python",
   "name": "venv2"
  },
  "language_info": {
   "codemirror_mode": {
    "name": "ipython",
    "version": 3
   },
   "file_extension": ".py",
   "mimetype": "text/x-python",
   "name": "python",
   "nbconvert_exporter": "python",
   "pygments_lexer": "ipython3",
   "version": "3.10.10"
  }
 },
 "nbformat": 4,
 "nbformat_minor": 5
}
