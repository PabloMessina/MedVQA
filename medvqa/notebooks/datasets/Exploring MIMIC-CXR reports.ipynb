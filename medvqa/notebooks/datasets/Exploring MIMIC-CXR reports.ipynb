{
 "cells": [
  {
   "cell_type": "code",
   "execution_count": 27,
   "metadata": {},
   "outputs": [],
   "source": [
    "from tqdm import tqdm\n",
    "import pandas as pd\n",
    "from medvqa.datasets.mimiccxr.preprocessing import (\n",
    "    extract_report_and_patient_background,\n",
    "    extract_background_findings_and_impression,\n",
    ")\n",
    "from medvqa.datasets.mimiccxr import MIMICCXR_METADATA_CSV_PATH, MIMICCXR_CACHE_DIR, get_reports_txt_paths\n",
    "from medvqa.utils.files import save_pickle\n",
    "import os\n",
    "from pprint import pprint"
   ]
  },
  {
   "cell_type": "code",
   "execution_count": 7,
   "metadata": {},
   "outputs": [],
   "source": [
    "from importlib import reload\n",
    "import medvqa"
   ]
  },
  {
   "cell_type": "code",
   "execution_count": 66,
   "metadata": {},
   "outputs": [
    {
     "data": {
      "text/plain": [
       "<module 'medvqa.datasets.mimiccxr.preprocessing' from '/home/pamessina/medvqa/medvqa/datasets/mimiccxr/preprocessing.py'>"
      ]
     },
     "execution_count": 66,
     "metadata": {},
     "output_type": "execute_result"
    }
   ],
   "source": [
    "reload(medvqa.datasets.mimiccxr.preprocessing)"
   ]
  },
  {
   "cell_type": "code",
   "execution_count": 3,
   "metadata": {},
   "outputs": [],
   "source": [
    "report_paths  = get_reports_txt_paths()"
   ]
  },
  {
   "cell_type": "code",
   "execution_count": 35,
   "metadata": {},
   "outputs": [
    {
     "data": {
      "text/plain": [
       "'/mnt/data/mimic-cxr/files/p10/p10703179/s58829627.txt'"
      ]
     },
     "execution_count": 35,
     "metadata": {},
     "output_type": "execute_result"
    }
   ],
   "source": [
    "report_paths[0]"
   ]
  },
  {
   "cell_type": "code",
   "execution_count": 4,
   "metadata": {},
   "outputs": [
    {
     "data": {
      "text/plain": [
       "227835"
      ]
     },
     "execution_count": 4,
     "metadata": {},
     "output_type": "execute_result"
    }
   ],
   "source": [
    "len(report_paths)"
   ]
  },
  {
   "cell_type": "code",
   "execution_count": 5,
   "metadata": {},
   "outputs": [
    {
     "name": "stdout",
     "output_type": "stream",
     "text": [
      "                                 FINAL REPORT\n",
      " INDICATION:  ___ year old woman with recurrent endocarditis septic emboli  //\n",
      " PNA or abscess\n",
      " \n",
      " TECHNIQUE:  AP portable chest radiograph\n",
      " \n",
      " COMPARISON:  ___\n",
      " \n",
      " FINDINGS: \n",
      " \n",
      " No focal consolidation, pleural effusion or pneumothorax identified.  In the\n",
      " size the cardiomediastinal silhouette is within normal limits.\n",
      " \n",
      " Interval removal of the left PICC line.\n",
      " \n",
      " IMPRESSION: \n",
      " \n",
      " No evidence of acute cardiopulmonary disease.\n",
      "\n"
     ]
    }
   ],
   "source": [
    "with open(report_paths[-4]) as f:\n",
    "    print(f.read())"
   ]
  },
  {
   "cell_type": "code",
   "execution_count": 169,
   "metadata": {},
   "outputs": [
    {
     "name": "stdout",
     "output_type": "stream",
     "text": [
      "135896\n",
      "                                 FINAL REPORT\n",
      " HISTORY:  Incarcerated hernia, sepsis, vent dependence.  Question interval\n",
      " change.\n",
      " \n",
      " CHEST, SINGLE AP PORTABLE VIEW.\n",
      " \n",
      " COMPARISON:  Chest x-ray from ___ at 4:51 a.m.\n",
      " \n",
      " Rotated positioning.  A tracheostomy tube is in place.  A right IJ central\n",
      " line tip lies in the region of the SVC/RA junction.  The cardiomediastinal\n",
      " silhouette is prominent, but unchanged.  There is upper zone re-distribution\n",
      " and diffuse vascular blurring, raising the question of CHF/fluid overload. \n",
      " The right costophrenic sulcus remains clear.  There is increased retrocardiac\n",
      " density consistent with left lower lobe collapse and/or consolidation,\n",
      " unchanged.\n",
      "\n",
      "OrderedDict([('(HEADERLESS PARAGRAPH)',\n",
      "              ['                                 FINAL REPORT']),\n",
      "             ('HISTORY:',\n",
      "              ['  Incarcerated hernia, sepsis, vent dependence.  Question '\n",
      "               'interval\\n'\n",
      "               ' change.']),\n",
      "             ('(AFTER) HISTORY:',\n",
      "              ['\\n \\n ',\n",
      "               ' \\n ',\n",
      "               'CHEST, SINGLE AP PORTABLE VIEW.',\n",
      "               '\\n \\n ',\n",
      "               ' \\n ']),\n",
      "             ('COMPARISON:', ['  Chest x-ray from ___ at 4:51 a.m.']),\n",
      "             ('(AFTER) COMPARISON:',\n",
      "              ['\\n \\n ',\n",
      "               ' \\n ',\n",
      "               'Rotated positioning.  A tracheostomy tube is in place.  A '\n",
      "               'right IJ central\\n'\n",
      "               ' line tip lies in the region of the SVC/RA junction.  The '\n",
      "               'cardiomediastinal\\n'\n",
      "               ' silhouette is prominent, but unchanged.  There is upper zone '\n",
      "               're-distribution\\n'\n",
      "               ' and diffuse vascular blurring, raising the question of '\n",
      "               'CHF/fluid overload. \\n'\n",
      "               ' The right costophrenic sulcus remains clear.  There is '\n",
      "               'increased retrocardiac\\n'\n",
      "               ' density consistent with left lower lobe collapse and/or '\n",
      "               'consolidation,\\n'\n",
      "               ' unchanged.\\n'])])\n",
      "===================================================\n"
     ]
    },
    {
     "data": {
      "text/plain": [
       "{'background': 'history: Incarcerated hernia, sepsis, vent dependence. Question interval change.',\n",
       " 'findings': 'Rotated positioning. A tracheostomy tube is in place. A right IJ central line tip lies in the region of the SVC/RA junction. The cardiomediastinal silhouette is prominent, but unchanged. There is upper zone re-distribution and diffuse vascular blurring, raising the question of CHF/fluid overload. The right costophrenic sulcus remains clear. There is increased retrocardiac density consistent with left lower lobe collapse and/or consolidation, unchanged.',\n",
       " 'impression': ''}"
      ]
     },
     "execution_count": 169,
     "metadata": {},
     "output_type": "execute_result"
    }
   ],
   "source": [
    "import random\n",
    "# idx = random.randint(0, len(report_paths)-1)\n",
    "idx = 135896\n",
    "print(idx)\n",
    "extract_background_findings_and_impression(report_paths[idx], True)"
   ]
  },
  {
   "cell_type": "code",
   "execution_count": 172,
   "metadata": {},
   "outputs": [
    {
     "name": "stdout",
     "output_type": "stream",
     "text": [
      "Processing 227835 reports from MIMIC-CXR...\n",
      "100%|█████████████████████████████████| 227835/227835 [01:33<00:00, 2430.06it/s]\n",
      "Saved results to /mnt/data/pamessina/workspaces/medvqa-workspace/cache/mimiccxr/background_findings_and_impression_20230612_174143.json\n"
     ]
    }
   ],
   "source": [
    "!python ../../scripts/mimiccxr/extract_background_findings_and_impression.py"
   ]
  },
  {
   "cell_type": "code",
   "execution_count": 176,
   "metadata": {
    "scrolled": true
   },
   "outputs": [
    {
     "name": "stdout",
     "output_type": "stream",
     "text": [
      "\u001b[1mLoading reports from /mnt/data/pamessina/workspaces/medvqa-workspace/cache/mimiccxr/background_findings_and_impression_20230612_174143.json...\u001b[0m\n",
      "Number of reports: 227835\n",
      "\u001b[1mLoading CheXpert labels from /mnt/data/pamessina/workspaces/medvqa-workspace/cache/mimiccxr/chexpert_labels_per_report__20220904_113605.pkl...\u001b[0m\n",
      "CheXpert labels shape: (227835, 14)\n",
      "\u001b[1mLoading Chest ImaGenome labels from imageId2labels(min_freq=0).pkl...\u001b[0m\n",
      "Chest ImaGenome labels shape: (227835, 736)\n",
      "\u001b[1mConcatenating the labels...\u001b[0m\n",
      "Labels shape: (227835, 750)\n",
      "\u001b[1mCounting label occurrences...\u001b[0m\n",
      "\u001b[1mFinding bins for reports in parallel with 10 workers...\u001b[0m\n",
      "len(global_label_indices): 93\n",
      "\u001b[1mSorting each bin by complexity...\u001b[0m\n",
      "Mean CheXpert label sum: 2.485403910724867\n",
      "Mean Chest ImaGenome label sum: 19.943195733754692\n",
      "Mean report length: 414.6148572431804\n",
      "\u001b[1mBin sizes and label names:\u001b[0m\n",
      "0: 2 ('texture', 'calcified')\n",
      "1: 2 ('texture', 'interstitial')\n",
      "2: 3 ('texture', 'alveolar')\n",
      "3: 11 ('texture', 'opacity')\n",
      "4: 56 ('anatomicalfinding', 'diaphragmatic eventration (benign)')\n",
      "5: 101 ('device', 'aortic graft/repair')\n",
      "6: 197 ('technicalassessment', 'skin fold')\n",
      "7: 416 ('tubesandlines', 'mediastinal drain')\n",
      "8: 418 ('technicalassessment', 'artifact')\n",
      "9: 518 ('tubesandlines', 'intra-aortic balloon pump')\n",
      "10: 584 ('disease', 'goiter')\n",
      "11: 800 ('anatomicalfinding', 'cyst/bullae')\n",
      "12: 801 ('anatomicalfinding', 'clavicle fracture')\n",
      "13: 808 ('anatomicalfinding', 'pneumomediastinum')\n",
      "14: 866 ('anatomicalfinding', 'bronchiectasis')\n",
      "15: 906 ('anatomicalfinding', 'hydropneumothorax')\n",
      "16: 920 ('technicalassessment', 'breast/nipple shadows')\n",
      "17: 1108 No Labels\n",
      "18: 1138 ('anatomicalfinding', 'sub-diaphragmatic air')\n",
      "19: 1323 ('anatomicalfinding', 'increased reticular markings/ild pattern')\n",
      "20: 1332 ('disease', 'pericardial effusion')\n",
      "21: 1644 ('disease', 'lung cancer')\n",
      "22: 1677 ('anatomicalfinding', 'bone lesion')\n",
      "23: 1689 ('disease', 'alveolar hemorrhage')\n",
      "24: 1860 ('technicalassessment', 'rotated')\n",
      "25: 1889 ('disease', 'interstitial lung disease')\n",
      "26: 2031 ('tubesandlines', 'swan-ganz catheter')\n",
      "27: 2080 ('anatomicalfinding', 'shoulder osteoarthritis')\n",
      "28: 2282 ('disease', 'granulomatous disease')\n",
      "29: 2541 ('anatomicalfinding', 'calcified nodule')\n",
      "30: 2783 ('device', 'prosthetic valve')\n",
      "31: 2806 ('anatomicalfinding', 'infiltration')\n",
      "32: 2850 ('anatomicalfinding', 'hernia')\n",
      "33: 2950 ('anatomicalfinding', 'spinal fracture')\n",
      "34: 2994 ('anatomicalfinding', 'scoliosis')\n",
      "35: 3074 ('anatomicalfinding', 'vascular redistribution')\n",
      "36: 3092 ('anatomicalfinding', 'superior mediastinal mass/enlargement')\n",
      "37: 3169 ('anatomicalfinding', 'subcutaneous air')\n",
      "38: 3277 ('anatomicalfinding', 'mediastinal displacement')\n",
      "39: 3321 ('tubesandlines', 'pigtail catheter')\n",
      "40: 3496 ('anatomicalfinding', 'multiple masses/nodules')\n",
      "41: 3559 ('device', 'cabg grafts')\n",
      "42: 3586 ('tubesandlines', 'subclavian line')\n",
      "43: 4315 ('tubesandlines', 'tracheostomy tube')\n",
      "44: 4731 ('anatomicalfinding', 'mediastinal widening')\n",
      "45: 5121 Pleural Other\n",
      "46: 5437 ('anatomicalfinding', 'costophrenic angle blunting')\n",
      "47: 6010 ('disease', 'copd/emphysema')\n",
      "48: 6054 ('anatomicalfinding', 'elevated hemidiaphragm')\n",
      "49: 6182 ('disease', 'fluid overload/heart failure')\n",
      "50: 6188 ('anatomicalfinding', 'spinal degenerative changes')\n",
      "51: 6506 ('anatomicalfinding', 'rib fracture')\n",
      "52: 6738 ('tubesandlines', 'chest port')\n",
      "53: 7341 ('anatomicalfinding', 'mass/nodule (not otherwise specified)')\n",
      "54: 8099 ('anatomicalfinding', 'airspace opacity')\n",
      "55: 8325 ('disease', 'aspiration')\n",
      "56: 8423 ('anatomicalfinding', 'enlarged hilum')\n",
      "57: 8634 Fracture\n",
      "58: 9016 ('anatomicalfinding', 'lobar/segmental collapse')\n",
      "59: 9327 ('anatomicalfinding', 'hyperaeration')\n",
      "60: 9659 ('tubesandlines', 'chest tube')\n",
      "61: 9689 ('anatomicalfinding', 'vascular calcification')\n",
      "62: 9873 ('anatomicalfinding', 'pneumothorax')\n",
      "63: 9983 Lung Lesion\n",
      "64: 11476 ('tubesandlines', 'ij line')\n",
      "65: 11669 ('device', 'cardiac pacer and wires')\n",
      "66: 12047 ('anatomicalfinding', 'linear/patchy atelectasis')\n",
      "67: 12594 ('anatomicalfinding', 'tortuous aorta')\n",
      "68: 12668 ('anatomicalfinding', 'lung lesion')\n",
      "69: 13255 ('anatomicalfinding', 'pleural/parenchymal scarring')\n",
      "70: 13307 ('tubesandlines', 'picc')\n",
      "71: 13340 Pneumothorax\n",
      "72: 16647 ('anatomicalfinding', 'consolidation')\n",
      "73: 20405 Consolidation\n",
      "74: 20935 ('tubesandlines', 'endotracheal tube')\n",
      "75: 23359 ('anatomicalfinding', 'vascular congestion')\n",
      "76: 24893 ('tubesandlines', 'enteric tube')\n",
      "77: 26894 ('technicalassessment', 'low lung volumes')\n",
      "78: 32367 ('disease', 'pneumonia')\n",
      "79: 33445 ('anatomicalfinding', 'pulmonary edema/hazy opacity')\n",
      "80: 38403 Pneumonia\n",
      "81: 44036 Edema\n",
      "82: 44472 No Finding\n",
      "83: 44490 Enlarged Cardiomediastinum\n",
      "84: 54545 ('anatomicalfinding', 'enlarged cardiac silhouette')\n",
      "85: 68111 ('anatomicalfinding', 'pleural effusion')\n",
      "86: 70499 Pleural Effusion\n",
      "87: 71410 Atelectasis\n",
      "88: 73763 Cardiomegaly\n",
      "89: 74626 ('anatomicalfinding', 'atelectasis')\n",
      "90: 75845 Lung Opacity\n",
      "91: 90333 Support Devices\n",
      "92: 145485 ('anatomicalfinding', 'lung opacity')\n",
      "93: 172650 ('nlp', 'abnormal')\n",
      "\u001b[1mCreating ranked report indices...\u001b[0m\n",
      "\u001b[1m\u001b[35mSaved ranked report indices to /mnt/data/pamessina/workspaces/medvqa-workspace/cache/mimiccxr/ranked_report_indices_1.0_1.0_1.0.pkl\u001b[0m\n"
     ]
    }
   ],
   "source": [
    "!python ../../scripts/mimiccxr/rank_reports_by_complexity.py \\\n",
    "    --reports-filename \"background_findings_and_impression_20230612_174143.json\" \\\n",
    "    --chexpert-labels-filename \"chexpert_labels_per_report__20220904_113605.pkl\" \\\n",
    "    --chest-imagenome-labels-filename \"imageId2labels(min_freq=0).pkl\" \\\n",
    "    --chest-imagenome-label-names-filename \"labels(min_freq=0).pkl\" \\\n",
    "    --verbose"
   ]
  },
  {
   "cell_type": "code",
   "execution_count": 182,
   "metadata": {},
   "outputs": [
    {
     "name": "stdout",
     "output_type": "stream",
     "text": [
      "\u001b[1mLoading reports from /mnt/data/pamessina/workspaces/medvqa-workspace/cache/mimiccxr/background_findings_and_impression_20230612_174143.json...\u001b[0m\n",
      "Number of reports: 227835\n",
      "\u001b[1mCollecting vocabulary of all reports' background sections...\u001b[0m\n",
      "100%|█████████████████████████████████| 227835/227835 [00:52<00:00, 4321.70it/s]\n",
      "100%|███████████████████████████████| 227835/227835 [00:01<00:00, 142881.19it/s]\n",
      "Vocabulary size: 30978\n",
      "\u001b[1mSorting backgrounds by the inverse of the frequency of their words...\u001b[0m\n",
      "Mean word frequency: 113.85576860998128\n",
      "\u001b[35mSaved ranked background indices to /mnt/data/pamessina/workspaces/medvqa-workspace/cache/mimiccxr/ranked_background_idxs_(background_findings_and_impression_20230612_174143.json).pkl\u001b[0m\n"
     ]
    }
   ],
   "source": [
    "!python ../../scripts/mimiccxr/rank_patient_backgrounds_by_complexity.py \\\n",
    "    --reports-filename \"background_findings_and_impression_20230612_174143.json\""
   ]
  },
  {
   "cell_type": "code",
   "execution_count": 183,
   "metadata": {},
   "outputs": [],
   "source": [
    "from medvqa.utils.files import load_pickle\n",
    "# ranked_indices = load_pickle('/mnt/data/pamessina/workspaces/medvqa-workspace/cache/mimiccxr/ranked_report_indices_1.0_1.0_1.0.pkl')\n",
    "ranked_indices = load_pickle('/mnt/data/pamessina/workspaces/medvqa-workspace/cache/mimiccxr/ranked_background_idxs_(background_findings_and_impression_20230612_174143.json).pkl')"
   ]
  },
  {
   "cell_type": "code",
   "execution_count": 1,
   "metadata": {},
   "outputs": [],
   "source": [
    "from medvqa.utils.files import load_json\n",
    "tmp = load_json('/mnt/data/pamessina/workspaces/medvqa-workspace/cache/mimiccxr/background_findings_and_impression_20230612_174143.json')"
   ]
  },
  {
   "cell_type": "code",
   "execution_count": 1,
   "metadata": {},
   "outputs": [],
   "source": [
    "from medvqa.utils.files import load_jsonl\n",
    "tmp = load_jsonl('/home/pamessina/medvqa-workspace/tmp/mimiccxr/openai/gpt-3.5-turbo_parsed_reports__backup.jsonl')"
   ]
  },
  {
   "cell_type": "code",
   "execution_count": 2,
   "metadata": {},
   "outputs": [
    {
     "data": {
      "text/plain": [
       "227835"
      ]
     },
     "execution_count": 2,
     "metadata": {},
     "output_type": "execute_result"
    }
   ],
   "source": [
    "len(tmp)"
   ]
  },
  {
   "cell_type": "code",
   "execution_count": 4,
   "metadata": {},
   "outputs": [
    {
     "data": {
      "text/plain": [
       "{'background': 'indication: New dyspnea on exertion.',\n",
       " 'findings': 'Heart size is normal. There are mild aortic knob calcifications. Cardiomediastinal silhouette and hilar contours are otherwise unremarkable. Lungs are clear. Pleural surfaces are clear without effusion or pneumothorax.',\n",
       " 'impression': 'No acute cardiopulmonary abnormality.',\n",
       " 'path': '/mnt/data/mimic-cxr/files/p10/p10703179/s58829627.txt'}"
      ]
     },
     "execution_count": 4,
     "metadata": {},
     "output_type": "execute_result"
    }
   ],
   "source": [
    "tmp[0]"
   ]
  },
  {
   "cell_type": "code",
   "execution_count": 8,
   "metadata": {},
   "outputs": [
    {
     "name": "stderr",
     "output_type": "stream",
     "text": [
      "227835it [12:16, 309.42it/s]\n"
     ]
    }
   ],
   "source": [
    "from tqdm import tqdm\n",
    "\n",
    "tmp2 = [None] * len(tmp)\n",
    "for i, x in tqdm(enumerate(tmp), mininterval=2):\n",
    "    tmp2[i] = {**x}\n",
    "    with open(x['path']) as f:\n",
    "        tmp2[i]['original_report'] = f.read()"
   ]
  },
  {
   "cell_type": "code",
   "execution_count": 9,
   "metadata": {},
   "outputs": [],
   "source": [
    "from medvqa.utils.files import save_json"
   ]
  },
  {
   "cell_type": "code",
   "execution_count": 10,
   "metadata": {},
   "outputs": [],
   "source": [
    "save_json(tmp2, '/mnt/data/pamessina/workspaces/medvqa-workspace/cache/mimiccxr/reports_backgrounds_findings_impressions.json')"
   ]
  },
  {
   "cell_type": "code",
   "execution_count": 14,
   "metadata": {},
   "outputs": [
    {
     "name": "stdout",
     "output_type": "stream",
     "text": [
      "-rw-rw-r-- 1 pamessina pamessina 288M Aug 14 16:15 /mnt/data/pamessina/workspaces/medvqa-workspace/cache/mimiccxr/reports_backgrounds_findings_impressions.json\r\n"
     ]
    }
   ],
   "source": [
    "!ls -lh /mnt/data/pamessina/workspaces/medvqa-workspace/cache/mimiccxr/reports_backgrounds_findings_impressions.json"
   ]
  },
  {
   "cell_type": "code",
   "execution_count": 11,
   "metadata": {},
   "outputs": [],
   "source": [
    "tmp3 = load_json('/mnt/data/pamessina/workspaces/medvqa-workspace/cache/mimiccxr/reports_backgrounds_findings_impressions.json')"
   ]
  },
  {
   "cell_type": "code",
   "execution_count": 13,
   "metadata": {},
   "outputs": [
    {
     "data": {
      "text/plain": [
       "{'background': 'indication: Chest pain.',\n",
       " 'findings': 'The cardiac silhouette size is top normal. The aorta is mildly unfolded. Hilar contours are normal. The pulmonary vascularity is normal and the lungs are clear. No pleural effusion or pneumothorax is seen. There are mild degenerative changes of the thoracic spine.',\n",
       " 'impression': 'No acute cardiopulmonary abnormality.',\n",
       " 'path': '/mnt/data/mimic-cxr/files/p19/p19216802/s51441827.txt',\n",
       " 'original_report': '                                 FINAL REPORT\\n INDICATION:  Chest pain.\\n \\n COMPARISON:  None.\\n \\n PA AND LATERAL VIEWS OF THE CHEST:  The cardiac silhouette size is top normal.\\n The aorta is mildly unfolded. Hilar contours are normal. The pulmonary\\n vascularity is normal and the lungs are clear.  No pleural effusion or\\n pneumothorax is seen.  There are mild degenerative changes of the thoracic\\n spine.  \\n \\n IMPRESSION:  No acute cardiopulmonary abnormality.\\n'}"
      ]
     },
     "execution_count": 13,
     "metadata": {},
     "output_type": "execute_result"
    }
   ],
   "source": [
    "tmp3[-1]"
   ]
  },
  {
   "cell_type": "code",
   "execution_count": 51,
   "metadata": {},
   "outputs": [
    {
     "data": {
      "text/plain": [
       "<re.Match object; span=(0, 7), match='   #neg'>"
      ]
     },
     "execution_count": 51,
     "metadata": {},
     "output_type": "execute_result"
    }
   ],
   "source": [
    "re.match(r\"^.+\\s#(pos|neg)$\", \"   #neg\")"
   ]
  },
  {
   "cell_type": "code",
   "execution_count": 53,
   "metadata": {},
   "outputs": [
    {
     "data": {
      "text/plain": [
       "{'background': 'indication: y/o M with CAD, ischemic cardiomyopathy (EF % TTE ), HTN, HLD, moderate AS who presented with worsening fatigue, abdominal distention, leg swelling, decreased exercise tolerance, and decreased appetite, likely secondary to decompensated congestive heart failure. // Interval change? Interval change?.',\n",
       " 'findings': 'Tip of the new intra-aortic balloon pump is less than a cm from the apex of the aortic knob, proximally 2 cm above optimal placement. Pulmonary edema is mild, substantially improved since . Lung volumes are still very low, with particular elevation of the right hemidiaphragm. Cardiomegaly is moderate to severe. Left internal jugular Swan-Ganz catheter ends in the main pulmonary artery. A dual channel right jugular line ends in the low SVC. Right pleural drainage catheter unchanged in position. No pneumothorax or appreciable pleural effusion on either side. Stomach is moderately distended with air and fluid. No nasogastric tube is seen.',\n",
       " 'impression': '',\n",
       " 'path': '/mnt/data/mimic-cxr/files/p13/p13877262/s57729642.txt'}"
      ]
     },
     "execution_count": 53,
     "metadata": {},
     "output_type": "execute_result"
    }
   ],
   "source": [
    "tmp[68626]"
   ]
  },
  {
   "cell_type": "code",
   "execution_count": 41,
   "metadata": {},
   "outputs": [
    {
     "data": {
      "text/plain": [
       "[]"
      ]
     },
     "execution_count": 41,
     "metadata": {},
     "output_type": "execute_result"
    }
   ],
   "source": [
    "import re\n",
    "import json\n",
    "match = re.search(r\"\\[\\s*(\\\".+?\\\",?\\s*)*\\]\", \"\"\"\n",
    "[] (no facts can be extracted without specific information)\"\"\")\n",
    "json.loads(match.group(0))"
   ]
  },
  {
   "cell_type": "code",
   "execution_count": 27,
   "metadata": {},
   "outputs": [
    {
     "data": {
      "text/plain": [
       "['female',\n",
       " 'fall',\n",
       " 'headstrike',\n",
       " 'no loss of consciousness',\n",
       " 'rule out intracranial hemorrhage',\n",
       " 'rule out pneunomia']"
      ]
     },
     "execution_count": 27,
     "metadata": {},
     "output_type": "execute_result"
    }
   ],
   "source": [
    "eval(match.group(0))"
   ]
  },
  {
   "cell_type": "code",
   "execution_count": 17,
   "metadata": {},
   "outputs": [
    {
     "data": {
      "text/plain": [
       "'[\\n\"female\",\\n\"fall\",\\n\"headstrike\",\\n\"no loss of consciousness\",\\n\"rule out intracranial hemorrhage\",\\n\"rule out pneunomia\"\\n]'"
      ]
     },
     "execution_count": 17,
     "metadata": {},
     "output_type": "execute_result"
    }
   ],
   "source": [
    "\"\"\"[\n",
    "\"female\",\n",
    "\"fall\",\n",
    "\"headstrike\",\n",
    "\"no loss of consciousness\",\n",
    "\"rule out intracranial hemorrhage\",\n",
    "\"rule out pneunomia\"\n",
    "]\"\"\""
   ]
  },
  {
   "cell_type": "code",
   "execution_count": 14,
   "metadata": {},
   "outputs": [
    {
     "data": {
      "text/plain": [
       "{'background': 'indication: <Clinical Indication><Reason For Exam>.',\n",
       " 'findings': '<Procedure Description>. Severe subcutaneous emphysema in the right chest and both sides of the neck has probably not worsened since after increasing substantially relative to . Small right hydro pneumothorax collected laterally is unchanged, pleural drain still in the right chest. Pulmonary vascular congestion has increased since . Heart size is normal. Epidural infusion catheter is coiled in the midline.',\n",
       " 'impression': '',\n",
       " 'path': '/mnt/data/mimic-cxr/files/p14/p14990450/s55851998.txt'}"
      ]
     },
     "execution_count": 14,
     "metadata": {},
     "output_type": "execute_result"
    }
   ],
   "source": [
    "# tmp[ranked_indices[3011]]\n",
    "tmp[106263]"
   ]
  },
  {
   "cell_type": "code",
   "execution_count": 180,
   "metadata": {},
   "outputs": [
    {
     "data": {
      "text/plain": [
       "['indication',\n",
       " ':',\n",
       " 'year',\n",
       " 'old',\n",
       " 'woman',\n",
       " 's',\n",
       " '/',\n",
       " 'p',\n",
       " 'chest',\n",
       " 'tube',\n",
       " '//',\n",
       " 'chest',\n",
       " 'tube',\n",
       " 'placement',\n",
       " '.']"
      ]
     },
     "execution_count": 180,
     "metadata": {},
     "output_type": "execute_result"
    }
   ],
   "source": [
    "from nltk.tokenize import wordpunct_tokenize\n",
    "wordpunct_tokenize('indication: year old woman s/p chest tube // chest tube placement.')"
   ]
  },
  {
   "cell_type": "code",
   "execution_count": 178,
   "metadata": {
    "scrolled": true
   },
   "outputs": [
    {
     "name": "stdout",
     "output_type": "stream",
     "text": [
      "141869\n",
      "                                 FINAL REPORT\n",
      " EXAMINATION:  CHEST (PORTABLE AP)\n",
      " \n",
      " INDICATION:  ___ year old woman s/p chest tube  // chest tube placement\n",
      " \n",
      " COMPARISON:  Chest x-ray from ___ at 18:18\n",
      " \n",
      " FINDINGS: \n",
      " \n",
      " Rotated positioning.\n",
      " \n",
      " A Port-A-Cath type catheter is present, tip probably also overlies the distal\n",
      " SVC.\n",
      " \n",
      " Again seen is cardiomegaly, with a globular configuration.\n",
      " \n",
      " Also again seen is left lower lobe collapse and/or consolidation with air\n",
      " bronchograms obscuration of left hemidiaphragm.  The possibility of associated\n",
      " left pleural fluid cannot be excluded.  The upper portion left lung is grossly\n",
      " clear without CHF or focal infiltrate.  No left-sided pneumothorax.\n",
      " \n",
      " On the right, 2 chest tubes are seen at the base of the lung.  Fluid and air\n",
      " may be present tracking at the right lung apex.\n",
      " \n",
      " Compare to the prior study, there is a new large lobulated opacity along the\n",
      " right mediastinum and in the right mid zone.  A small amount pleural fluid is\n",
      " seen in the right sulcus.  The etiology of this is unclear.  Most likely\n",
      " etiology is some loculated fluid along the medial surface of the right lung,\n",
      " together with fluid along the minor fissure.  Collapse of a portion of the\n",
      " lung is considered less likely.  Surrounding the right mid zone opacity, the\n",
      " vascular markings are essentially normal, only minimally prominent.\n",
      " \n",
      " Residual subcutaneous emphysema again noted in the right supraclavicular area\n",
      " and along the right lower chest wall.\n",
      " \n",
      " IMPRESSION: \n",
      " \n",
      " Persistent marked cardiomegaly. Globular appearance of the cardiac silhouette\n",
      " is similar to the prior study.\n",
      " \n",
      " Persistent left lower lobe collapse and/or consolidation, probably with an\n",
      " associated left pleural effusion.\n",
      " \n",
      " New large opacity in the right mid zone with obscuration of the right cardiac\n",
      " border.  The most likely etiology is loculated pleural fluid, including fluid\n",
      " in the minor fissure.  If so, then note is made that a large amount of fluid\n",
      " has developed over the period of 1 day.  An area of lung collapse is\n",
      " considered less likely.\n",
      " \n",
      " 2 chest tubes present at the base of the right lung.  Small amount of fluid\n",
      " seen in the right costophrenic angle.\n",
      " \n",
      " Hazy density at the right lung apex could reflect the presence of some\n",
      " tracking fluid and a possible small pneumothorax (hydro pneumothorax).\n",
      " \n",
      " If clinically indicated, CT could help to better characterize the findings in\n",
      " the right lung.\n",
      " \n",
      " NOTIFICATION:\n",
      " Given globular appearance,\n",
      "\n",
      "OrderedDict([('(HEADERLESS PARAGRAPH)',\n",
      "              ['                                 FINAL REPORT']),\n",
      "             ('EXAMINATION:', ['  CHEST (PORTABLE AP)']),\n",
      "             ('(AFTER) EXAMINATION:', ['\\n \\n ', ' \\n ']),\n",
      "             ('INDICATION:',\n",
      "              ['  ___ year old woman s/p chest tube  // chest tube placement']),\n",
      "             ('(AFTER) INDICATION:', ['\\n \\n ', ' \\n ']),\n",
      "             ('COMPARISON:', ['  Chest x-ray from ___ at 18:18']),\n",
      "             ('(AFTER) COMPARISON:', ['\\n \\n ', ' \\n ']),\n",
      "             ('FINDINGS:', ['']),\n",
      "             ('(AFTER) FINDINGS:',\n",
      "              [' \\n \\n ',\n",
      "               ' \\n ',\n",
      "               'Rotated positioning.',\n",
      "               '\\n \\n ',\n",
      "               ' \\n ',\n",
      "               'A Port-A-Cath type catheter is present, tip probably also '\n",
      "               'overlies the distal\\n'\n",
      "               ' SVC.',\n",
      "               '\\n \\n ',\n",
      "               ' \\n ',\n",
      "               'Again seen is cardiomegaly, with a globular configuration.',\n",
      "               '\\n \\n ',\n",
      "               ' \\n ',\n",
      "               'Also again seen is left lower lobe collapse and/or '\n",
      "               'consolidation with air\\n'\n",
      "               ' bronchograms obscuration of left hemidiaphragm.  The '\n",
      "               'possibility of associated\\n'\n",
      "               ' left pleural fluid cannot be excluded.  The upper portion '\n",
      "               'left lung is grossly\\n'\n",
      "               ' clear without CHF or focal infiltrate.  No left-sided '\n",
      "               'pneumothorax.',\n",
      "               '\\n \\n ',\n",
      "               ' \\n ',\n",
      "               'On the right, 2 chest tubes are seen at the base of the lung.  '\n",
      "               'Fluid and air\\n'\n",
      "               ' may be present tracking at the right lung apex.',\n",
      "               '\\n \\n ',\n",
      "               ' \\n ',\n",
      "               'Compare to the prior study, there is a new large lobulated '\n",
      "               'opacity along the\\n'\n",
      "               ' right mediastinum and in the right mid zone.  A small amount '\n",
      "               'pleural fluid is\\n'\n",
      "               ' seen in the right sulcus.  The etiology of this is unclear.  '\n",
      "               'Most likely\\n'\n",
      "               ' etiology is some loculated fluid along the medial surface of '\n",
      "               'the right lung,\\n'\n",
      "               ' together with fluid along the minor fissure.  Collapse of a '\n",
      "               'portion of the\\n'\n",
      "               ' lung is considered less likely.  Surrounding the right mid '\n",
      "               'zone opacity, the\\n'\n",
      "               ' vascular markings are essentially normal, only minimally '\n",
      "               'prominent.',\n",
      "               '\\n \\n ',\n",
      "               ' \\n ',\n",
      "               'Residual subcutaneous emphysema again noted in the right '\n",
      "               'supraclavicular area\\n'\n",
      "               ' and along the right lower chest wall.',\n",
      "               '\\n \\n ',\n",
      "               ' \\n ']),\n",
      "             ('IMPRESSION:', ['']),\n",
      "             ('(AFTER) IMPRESSION:',\n",
      "              [' \\n \\n ',\n",
      "               ' \\n ',\n",
      "               'Persistent marked cardiomegaly. Globular appearance of the '\n",
      "               'cardiac silhouette\\n'\n",
      "               ' is similar to the prior study.',\n",
      "               '\\n \\n ',\n",
      "               ' \\n ',\n",
      "               'Persistent left lower lobe collapse and/or consolidation, '\n",
      "               'probably with an\\n'\n",
      "               ' associated left pleural effusion.',\n",
      "               '\\n \\n ',\n",
      "               ' \\n ',\n",
      "               'New large opacity in the right mid zone with obscuration of '\n",
      "               'the right cardiac\\n'\n",
      "               ' border.  The most likely etiology is loculated pleural fluid, '\n",
      "               'including fluid\\n'\n",
      "               ' in the minor fissure.  If so, then note is made that a large '\n",
      "               'amount of fluid\\n'\n",
      "               ' has developed over the period of 1 day.  An area of lung '\n",
      "               'collapse is\\n'\n",
      "               ' considered less likely.',\n",
      "               '\\n \\n ',\n",
      "               ' \\n ',\n",
      "               '2 chest tubes present at the base of the right lung.  Small '\n",
      "               'amount of fluid\\n'\n",
      "               ' seen in the right costophrenic angle.',\n",
      "               '\\n \\n ',\n",
      "               ' \\n ',\n",
      "               'Hazy density at the right lung apex could reflect the presence '\n",
      "               'of some\\n'\n",
      "               ' tracking fluid and a possible small pneumothorax (hydro '\n",
      "               'pneumothorax).',\n",
      "               '\\n \\n ',\n",
      "               ' \\n ',\n",
      "               'If clinically indicated, CT could help to better characterize '\n",
      "               'the findings in\\n'\n",
      "               ' the right lung.',\n",
      "               '\\n \\n ',\n",
      "               ' \\n ']),\n",
      "             ('NOTIFICATION:', ['\\n Given globular appearance,\\n'])])\n",
      "===================================================\n"
     ]
    },
    {
     "data": {
      "text/plain": [
       "{'background': 'indication: year old woman s/p chest tube // chest tube placement.',\n",
       " 'findings': 'Rotated positioning. A Port-A-Cath type catheter is present, tip probably also overlies the distal SVC. Again seen is cardiomegaly, with a globular configuration. Also again seen is left lower lobe collapse and/or consolidation with air bronchograms obscuration of left hemidiaphragm. The possibility of associated left pleural fluid cannot be excluded. The upper portion left lung is grossly clear without CHF or focal infiltrate. No left-sided pneumothorax. On the right, 2 chest tubes are seen at the base of the lung. Fluid and air may be present tracking at the right lung apex. Compare to the prior study, there is a new large lobulated opacity along the right mediastinum and in the right mid zone. A small amount pleural fluid is seen in the right sulcus. The etiology of this is unclear. Most likely etiology is some loculated fluid along the medial surface of the right lung, together with fluid along the minor fissure. Collapse of a portion of the lung is considered less likely. Surrounding the right mid zone opacity, the vascular markings are essentially normal, only minimally prominent. Residual subcutaneous emphysema again noted in the right supraclavicular area and along the right lower chest wall.',\n",
       " 'impression': 'Persistent marked cardiomegaly. Globular appearance of the cardiac silhouette is similar to the prior study. Persistent left lower lobe collapse and/or consolidation, probably with an associated left pleural effusion. New large opacity in the right mid zone with obscuration of the right cardiac border. The most likely etiology is loculated pleural fluid, including fluid in the minor fissure. If so, then note is made that a large amount of fluid has developed over the period of 1 day. An area of lung collapse is considered less likely. 2 chest tubes present at the base of the right lung. Small amount of fluid seen in the right costophrenic angle. Hazy density at the right lung apex could reflect the presence of some tracking fluid and a possible small pneumothorax (hydro pneumothorax). If clinically indicated, CT could help to better characterize the findings in the right lung.'}"
      ]
     },
     "execution_count": 178,
     "metadata": {},
     "output_type": "execute_result"
    }
   ],
   "source": [
    "idx = ranked_indices[82]\n",
    "print(idx)\n",
    "extract_background_findings_and_impression(report_paths[idx], True)"
   ]
  },
  {
   "cell_type": "code",
   "execution_count": 1103,
   "metadata": {},
   "outputs": [
    {
     "data": {
      "text/plain": [
       "['WET READ: ___ ___ ___ 6:17 PM\\n  Comp:  ___',\n",
       " '\\n  \\n  ',\n",
       " '  \\n  ',\n",
       " None,\n",
       " 'Interval placement of right pigtail catheter\\n  Persistent right costophrenic angle opacity and more medial right basilar\\n  opacity as well.\\n  Thin lucency along the lateral chest wall may represent air introduced during\\n  the procedure.  No large pneumothorax is present.',\n",
       " None,\n",
       " None,\n",
       " '\\n ______________________________________________________________________________\\n',\n",
       " '                                 FINAL REPORT\\n EXAMINATION:  CHEST (PORTABLE AP)',\n",
       " '\\n \\n ',\n",
       " ' \\n ',\n",
       " None,\n",
       " 'INDICATION:  ___ year old man with chest tube  // ? ptx      ? ptx',\n",
       " '\\n \\n ',\n",
       " ' \\n ',\n",
       " None,\n",
       " 'COMPARISON:  Chest radiographs most recently ___.',\n",
       " '\\n \\n ',\n",
       " ' \\n ',\n",
       " None,\n",
       " 'IMPRESSION:',\n",
       " ' \\n \\n ',\n",
       " ' \\n ',\n",
       " None,\n",
       " 'Since ___:55, with insertion of a right basal pigtail pleural\\n drainage catheter, most of the previous moderate right pleural effusion has\\n been evacuated.  Small localized pneumothorax is new.  Opacification in the\\n right lower lobe could be atelectasis alone or there could be pneumonia. \\n Previous mild pulmonary edema has improved.  Left lower lobe is chronically\\n atelectatic reflected in elevation of the left hemidiaphragm and leftward\\n mediastinal shift.  Overall lung volumes are large, due to emphysema or\\n obstructive lung disease.  Moderate cardiomegaly is underestimated as a\\n result.']"
      ]
     },
     "execution_count": 1103,
     "metadata": {},
     "output_type": "execute_result"
    }
   ],
   "source": [
    "_re_paragraph_breaks.split('''WET READ: ___ ___ ___ 6:17 PM\n",
    "  Comp:  ___\n",
    "  \n",
    "  Interval placement of right pigtail catheter\n",
    "  Persistent right costophrenic angle opacity and more medial right basilar\n",
    "  opacity as well.\n",
    "  Thin lucency along the lateral chest wall may represent air introduced during\n",
    "  the procedure.  No large pneumothorax is present.\n",
    " ______________________________________________________________________________\n",
    "                                 FINAL REPORT\n",
    " EXAMINATION:  CHEST (PORTABLE AP)\n",
    " \n",
    " INDICATION:  ___ year old man with chest tube  // ? ptx      ? ptx\n",
    " \n",
    " COMPARISON:  Chest radiographs most recently ___.\n",
    " \n",
    " IMPRESSION: \n",
    " \n",
    " Since ___:55, with insertion of a right basal pigtail pleural\n",
    " drainage catheter, most of the previous moderate right pleural effusion has\n",
    " been evacuated.  Small localized pneumothorax is new.  Opacification in the\n",
    " right lower lobe could be atelectasis alone or there could be pneumonia. \n",
    " Previous mild pulmonary edema has improved.  Left lower lobe is chronically\n",
    " atelectatic reflected in elevation of the left hemidiaphragm and leftward\n",
    " mediastinal shift.  Overall lung volumes are large, due to emphysema or\n",
    " obstructive lung disease.  Moderate cardiomegaly is underestimated as a\n",
    " result.''')"
   ]
  },
  {
   "cell_type": "code",
   "execution_count": 1015,
   "metadata": {},
   "outputs": [
    {
     "data": {
      "text/plain": [
       "['  SA AAaa:', '\\n RES-  - R- SE:', '\\n ASDKFD:', '\\nBaaa:']"
      ]
     },
     "execution_count": 1015,
     "metadata": {},
     "output_type": "execute_result"
    }
   ],
   "source": [
    "_p = \"  SA AAaa:\\n RES-  - R- SE: asdfasdf sdfds  \\n ASDKFD: /ASD FASDF: \\nBaaa:\"\n",
    "[_p[i.span()[0]:i.span()[1]] for i in _re_header.finditer(_p)]"
   ]
  },
  {
   "cell_type": "code",
   "execution_count": 1969,
   "metadata": {},
   "outputs": [],
   "source": [
    "from collections import OrderedDict\n",
    "import re\n",
    "_re_header = re.compile(r'(^|\\n)\\s*([A-Z][a-zA-Z]*(( |-|&)+[a-zA-Z]+)*?:)')\n",
    "_re_paragraph_breaks = re.compile(r'(\\s*\\n(\\s*\\n\\s*)+)|(\\n\\s*_+\\s*\\n)')\n",
    "\n",
    "def split_report_into_sections(report_path, debug=False):\n",
    "    with open(report_path) as f:\n",
    "        text = f.read()\n",
    "    if debug:\n",
    "        print(text)\n",
    "    paragraphs = _re_paragraph_breaks.split(text)\n",
    "    sections = OrderedDict()\n",
    "    last_k = None\n",
    "    for p in paragraphs:\n",
    "        if p is None: continue\n",
    "#         if debug:\n",
    "#             print('------------------')\n",
    "#             print(p)\n",
    "        spans = [i.span() for i in _re_header.finditer(p)]\n",
    "        if len(spans) > 0:            \n",
    "            if spans[0][0] > 0:\n",
    "                if last_k is None:\n",
    "                    k = '(HEADERLESS PARAGRAPH)'\n",
    "                else:\n",
    "                    k = f'(AFTER) {last_k}'\n",
    "                try:\n",
    "                    tmp = sections[k]\n",
    "                except KeyError:\n",
    "                    tmp = sections[k] = []\n",
    "                tmp.append(p[:spans[0][0]])\n",
    "            for i, span in enumerate(spans):\n",
    "                k = p[span[0]:span[1]]\n",
    "                k = ' '.join(k.split()).strip()\n",
    "                v = p[span[1]:] if i+1 == len(spans) else p[span[1]:spans[i+1][0]]\n",
    "                # sections[k] = v\n",
    "                try:\n",
    "                    tmp = sections[k]\n",
    "                except KeyError:\n",
    "                    tmp = sections[k] = []\n",
    "                tmp.append(v)\n",
    "                last_k = k\n",
    "        else:\n",
    "            if last_k is None:\n",
    "                k = '(HEADERLESS PARAGRAPH)'\n",
    "            else:\n",
    "                k = f'(AFTER) {last_k}'\n",
    "            try:\n",
    "                tmp = sections[k]\n",
    "            except KeyError:\n",
    "                tmp = sections[k] = []\n",
    "            tmp.append(p)\n",
    "    return sections"
   ]
  },
  {
   "cell_type": "code",
   "execution_count": 364,
   "metadata": {},
   "outputs": [],
   "source": [
    "# split_report_into_sections(rp, True)"
   ]
  },
  {
   "cell_type": "code",
   "execution_count": 2019,
   "metadata": {},
   "outputs": [],
   "source": [
    "SECTION_HEADERS_FOR_REPORT = set([\n",
    "    'FINDINGS:',\n",
    "    'FINDNINGS:',\n",
    "    'FINGDINGS:',\n",
    "    'FINIDNGS:',\n",
    "    'Findings:',\n",
    "    'FINDINS:',\n",
    "    'FINDING:',\n",
    "    'FINDINDGS:',\n",
    "    'FIMPRESSION:',\n",
    "    'FINSINGS:',\n",
    "    'FINDIGNS:',\n",
    "    'FINDINGS and IMPRESSION:',\n",
    "    'MPRESSION:',\n",
    "    'IMPRESSION:',\n",
    "    'IMPRESSON:',\n",
    "    'IMPRESSIONS:',\n",
    "    'IMPRESION:',\n",
    "    'IMPESSION:',\n",
    "    'IMPRSSION:',\n",
    "    'IMPRESSOIN:',\n",
    "    'Findings and Impression:',\n",
    "    'FINDINGS AND IMPRESSION:',\n",
    "    'Impression:',\n",
    "#     'EXAMINATION:',\n",
    "    'REPORT:',\n",
    "    'CONCLUSION:',\n",
    "    'Conclusion:',\n",
    "    'THEY REPORT TEXT FOLLOWS:',\n",
    "    'PORTABLE SUPINE FRONTAL VIEW OF THE CHEST:',\n",
    "    'FRONTAL AND LATERAL CHEST RADIOGRAPHS:',\n",
    "    'FRONTAL AND LATERAL CHEST RADIOGRAPH:',\n",
    "    'FRONTAL AND LATERAL VIEWS OF THE CHEST:',\n",
    "    'PA AND LATERAL CHEST RADIOGRAPH:',\n",
    "    'PA AND LATERAL VIEWS OF THE CHEST:',\n",
    "    'PA AND LATERAL:',\n",
    "    'AP AND LATERAL:',\n",
    "    'PA AND LATERAL CHEST:',\n",
    "    'FRONTAL AND LATERAL CHEST:',\n",
    "    'TWO VIEWS OF THE CHEST:',\n",
    "    'PORTABLE AP CHEST:',\n",
    "    'PORTABLE AP CHEST RADIOGRAPH:',\n",
    "    'PA AND LATERAL CHEST RADIOGRAPHS:',\n",
    "    'UPRIGHT PORTABLE RADIOGRAPH OF THE CHEST:',\n",
    "    'PORTABLE RADIOGRAPH OF THE CHEST:',\n",
    "    'FRONTAL CHEST RADIOGRAPH:',\n",
    "    'FRONTAL UPRIGHT PORTABLE CHEST:',\n",
    "    'PORTABLE FRONTAL CHEST RADIOGRAPH:',\n",
    "    'PORTABLE UPRIGHT FRONTAL VIEW OF THE CHEST:',\n",
    "    'UPRIGHT AP VIEW OF THE CHEST:',\n",
    "    'PORTABLE CHEST RADIOGRAPH:',\n",
    "    'SINGLE AP PORTABLE VIEW:',\n",
    "    'SINGLE PORTABLE CHEST RADIOGRAPH:',\n",
    "    'SINGLE PORTABLE VIEW OF THE CHEST:',\n",
    "    'UPRIGHT FRONTAL CHEST RADIOGRAPHS:',\n",
    "    'AP:',\n",
    "    'AP UPRIGHT:',\n",
    "    'AP CHEST:',\n",
    "    'CHEST RADIOGRAPH:',\n",
    "    'TWO VIEWS OF THE THORACIC SPINE:',\n",
    "    'TWO VIEWS:',\n",
    "    'AP AND LATERAL VIEWS OF THE CHEST:',\n",
    "    'ERECT FRONTAL CHEST RADIOGRAPH:',\n",
    "    'PORTABLE FRONTAL VIEW OF THE CHEST:',\n",
    "    'PORTABLE RADIOGRAPH:',\n",
    "    'CHEST AP:',\n",
    "    'ONE VIEW OF THE CHEST:',\n",
    "    'AP FILM:',\n",
    "    'SUPINE AP VIEW OF THE CHEST:',\n",
    "    'AP VIEW OF THE CHEST:',\n",
    "    'AP AND LATERAL CHEST RADIOGRAPHS:',\n",
    "    'AP PORTABLE CHEST:',\n",
    "    'PORTABLE AP UPRIGHT CHEST RADIOGRAPH:',\n",
    "    'SINGLE FRONTAL VIEW OF THE CHEST:',\n",
    "    'DOUBLE CHEST RADIOGRAPH:',\n",
    "    'CHEST TWO VIEWS:',\n",
    "    'SUPINE PORTABLE CHEST RADIOGRAPH:',\n",
    "    'SINGLE PORTABLE AP CHEST RADIOGRAPH:',\n",
    "    'PORTABLE AP VIEW OF THE CHEST:',\n",
    "    'PORTABLE ERECT RADIOGRAPH:',\n",
    "    'PFI:',\n",
    "    'PORTABLE SUPINE RADIOGRAPH OF THE CHEST:',\n",
    "    'SINGLE AP VIEW:',\n",
    "    'PORTABLE UPRIGHT AP VIEW OF THE CHEST:',\n",
    "    'FRONTAL VIEW OF THE CHEST:',\n",
    "    'SUPINE PORTABLE CHEST:',\n",
    "    'PORTABLE UPRIGHT RADIOGRAPH OF THE CHEST:',\n",
    "    'SINGLE AP VIEW OF THE CHEST:',\n",
    "    'SINGLE AP PORTABLE CHEST RADIOGRAPH:',\n",
    "    'PORTABLE AP AND LATERAL CHEST RADIOGRAPH:',\n",
    "    'CHEST PORTABLE:',\n",
    "    'PA AND LATERAL VIEWS:',\n",
    "    'AP SUPINE:',\n",
    "    'CHEST SINGLE VIEW:',\n",
    "    'FOUR IMAGES:',\n",
    "    'PORTABLE SUPINE CHEST RADIOGRAPH:',\n",
    "    'SEMIUPRIGHT PORTABLE RADIOGRAPH OF THE CHEST:',\n",
    "    'SINGLE FRONTAL CHEST RADIOGRAPHS:',\n",
    "    'FRONTAL SUPINE PORTABLE CHEST:',\n",
    "    'CHEST PA AND LAT RADIOGRAPH:',\n",
    "    'AP UPRIGHT AND LATERAL:',\n",
    "    'AP PORTABLE FRONTAL CHEST RADIOGRAPH:',\n",
    "    'SINGLE PORTABLE FRONTAL VIEW OF THE CHEST:',\n",
    "#     'RIGHT RIBS:',\n",
    "    'VIEWS:',\n",
    "    'FRONTAL AND LATERAL VIEWS THE CHEST:',\n",
    "    'AP FRONTAL CHEST RADIOGRAPH:',\n",
    "    'KYPHOTIC POSITIONING:',\n",
    "    'PORTABLE UPRIGHT CHEST RADIOGRAPH:',\n",
    "    'UPRIGHT FRONTAL AND LATERAL CHEST RADIOGRAPHS:',\n",
    "    'SUPINE CHEST RADIOGRAPH:',\n",
    "    'AP PORTABLE:',\n",
    "    'OSSEOUS STRUCTURES:',\n",
    "    'SINGLE VIEW:',\n",
    "    'SINGLE PORTABLE UPRIGHT VIEW OF THE CHEST:',    \n",
    "    'SINGLE FRONTAL PORTABLE VIEW OF THE CHEST:',\n",
    "    'FRONTAL AND LATERAL RADIOGRAPHS:',\n",
    "    'RADIOGRAPH:',\n",
    "    'SINGLE AP SUPINE PORTABLE VIEW:',\n",
    "    'LORDOTIC POSITIONING:',\n",
    "    'UPRIGHT AP AND LATERAL VIEWS OF THE CHEST:',\n",
    "    'SUPINE PORTABLE FRONTAL CHEST RADIOGRAPH:',\n",
    "    'AP CHEST RADIOGRAPH:',\n",
    "    'FRONTAL AND LATERAL VIEWS CHEST:',\n",
    "    'FRONTAL PORTABLE CHEST:',\n",
    "    'FRONTAL PORTABLE SUPINE CHEST:',\n",
    "    'UPRIGHT FRONTAL VIEW OF THE CHEST:',\n",
    "    'PORTABLE SUPINE AP CHEST RADIOGRAPH:',\n",
    "    'PA AND LATERAL VIEWS OF CHEST:',\n",
    "    'TECHNIQUE PA AND LATERAL VIEWS OF THE CHEST:',\n",
    "    'AP FRONTAL AND LATERAL CHEST RADIOGRAPHS:',\n",
    "    'CHEST PA:',\n",
    "    'AP PORTABLE CHEST RADIOGRAPH:',\n",
    "    'PORTABLE AP FRONTAL CHEST RADIOGRAPH:',\n",
    "    'SINGLE AP PORTABLE VIEW WHICH INCLUDES THE UPPER ABDOMEN:',\n",
    "    'LATERAL VIEWS OF THE CHEST:',\n",
    "    'SUPINE FRONTAL VIEW OF THE CHEST:',\n",
    "    'FRONTAL CHEST RADIOGRAPH WITH THE PATIENT IN SUPINE AND UPRIGHT POSITIONS:',\n",
    "    'AP UPRIGHT VIEW OF THE CHEST:',\n",
    "    'AP AND LATERAL CHEST RADIOGRAPH:',\n",
    "    'PORTABLE SEMI-ERECT FRONTAL CHEST RADIOGRAPH:',\n",
    "    'PORTABLE SUPINE FRONTAL CHEST RADIOGRAPH:',\n",
    "    'FRONTAL SEMI-UPRIGHT PORTABLE CHEST:',\n",
    "    'SEMI-ERECT PORTABLE AP CHEST RADIOGRAPH:',\n",
    "    'PORTABLE SEMI-UPRIGHT AP CHEST RADIOGRAPH:',\n",
    "    'PA AND LATERAL RADIOGRAPHS OF THE CHEST:',\n",
    "    'FRONTAL PORTABLE UPRIGHT RADIOGRAPH:',\n",
    "    'UPRIGHT PORTABLE CHEST RADIOGRAPH:',\n",
    "    'AP PORTABLE UPRIGHT CHEST RADIOGRAPH:',\n",
    "    'PORTABLE UPRIGHT RADIOGRAPH CHEST:',\n",
    "    'SINGLE AP PORTABLE VIEW OF THE CHEST:',\n",
    "    'SEMI-ERECT FRONTAL CHEST RADIOGRAPH:',\n",
    "    'SEMI-UPRIGHT AP VIEW OF THE CHEST:',\n",
    "    'FRONTAL SEMI-SUPINE PORTABLE CHEST:',\n",
    "    'FRONTAL PORTABLE UPRIGHT CHEST:',\n",
    "    'CHEST AP SUPINE:',\n",
    "    'AP UPRIGHT AND LATERAL CHEST RADIOGRAPHS:',\n",
    "    'PORTABLE UPRIGHT AP CHEST RADIOGRAPH:',\n",
    "    'PORTABLE UPRIGHT AP VIEW OF THE ABDOMEN:',\n",
    "    'PORTABLE AP SEMI-UPRIGHT CHEST RADIOGRAPH:',\n",
    "    'PA AND LAT CHEST RADIOGRAPH:',\n",
    "    'PORTABLE AP SEMI-ERECT RADIOGRAPH:',\n",
    "    'Chest:',\n",
    "    'PORTABLE SEMI-UPRIGHT FRONTAL CHEST RADIOGRAPH:',\n",
    "    'PA AND LAT:',\n",
    "    'FRONTAL AP AND LATERAL CHEST:',\n",
    "    'SEMI-ERECT PORTABLE CHEST RADIOGRAPH:',\n",
    "#     'Support Devices:',\n",
    "#     'Lungs:', \n",
    "#     'Pleura:', \n",
    "#     'Heart:',\n",
    "#     'Lines and Tubes:',\n",
    "#     'Lines and tubes:',\n",
    "#     'Mediastinum:',\n",
    "#     'Mediastinum and hila:',\n",
    "#     'Osseous structures:', \n",
    "#     'Other findings:',\n",
    "#     'Bony thorax:',\n",
    "#     'Pelvis:',\n",
    "#     'Abdomen:',\n",
    "    'AP UPRIGHT CHEST RADIOGRAPH:',\n",
    "    'PA AND LATERAL UPRIGHT CHEST RADIOGRAPHS:',\n",
    "    'TWO PORTABLE ERECT VIEWS OF THE CHEST:',\n",
    "    'CHEST AND UPPER ABDOMEN:',\n",
    "    'Portable chest:',\n",
    "    'PA and lateral chest reviewed in the absence of prior chest imaging:',\n",
    "    'CHEST AND PELVIS FILMS:',\n",
    "    'Chest radiographs:',\n",
    "    'FRONTAL and LATERAL VIEWS OF THE CHEST:',\n",
    "    'PORTABLES SEMI-ERECT CHEST RADIOGRAPH:',\n",
    "    'BEDSIDE FRONTAL CHEST RADIOGRAPH:',\n",
    "    'SEMI-ERECT PORTABLE CHEST:',\n",
    "    'SEMI-UPRIGHT PORTABLE RADIOGRAPH OF THE CHEST:',\n",
    "    'AP UPRIGHT VIEWS OF THE CHEST DURING INSPIRATION AND EXPIRATION:',\n",
    "    'SEMI-ERECT PORTABLE FRONTAL CHEST RADIOGRAPH:',\n",
    "    'PORTABLE SEMI-UPRIGHT VIEW OF THE CHEST:',\n",
    "    'FRONTAL SUPINE PORTABLE VIEW OF THE CHEST:',\n",
    "    'PA & LATERAL VIEW OF THE CHEST:',\n",
    "    'PA and lateral views of the chest:',\n",
    "    'In comparison to previous radiographs:',\n",
    "    'SUPINE CHEST:',\n",
    "    'TWO PORTABLE AP VIEWS OF THE CHEST:',\n",
    "    'PORTABLE SUPINE CHEST:',\n",
    "    'SUPINE PORTABLE FRONTAL VIEW OF THE CHEST:',\n",
    "    'BEDSIDE AP UPRIGHT RADIOGRAPH OF THE CHEST:',\n",
    "    'Again demonstrated are:',\n",
    "    'RIGHT AND LEFT FRONTAL OBLIQUE VIEWS OF THE CHEST:',\n",
    "    'PORTABLE SEMI-UPRIGHT RADIOGRAPH OF THE CHEST:',\n",
    "    'AP UPRIGHT AND LATERAL VIEWS OF THE CHEST:',\n",
    "    'AP SUPINE CHEST RADIOGRAPH:',\n",
    "    'FRONTAL VIEWS OF THE CHEST:',\n",
    "    'PA AND LATERAL CHEST FILMS:',\n",
    "    'BEDSIDE AP RADIOGRAPH OF THE CHEST:',\n",
    "    'PORTABLE AP UPRIGHT RADIOGRAPH OF THE CHEST:',\n",
    "    'CHEST RADIOGRAPHS:',\n",
    "    'PA AND LATERAL VIEWS CHEST:',\n",
    "    'PORTABLE SEMI-ERECT AP CHEST RADIOGRAPH:',\n",
    "    'SINGLE FRONTAL CHEST RADIOGRAPH:',\n",
    "    'PORTABLE AP FRONTAL VIEW OF THE CHEST:',\n",
    "    'SUPINE PORTABLE CHEST RADIOGRAPHS:',\n",
    "    'PORTABLE AP UPRIGHT VIEW OF THE CHEST:',\n",
    "    'PORTABLE PA CHEST RADIOGRAPH:',\n",
    "    'AP view of chest:',\n",
    "    'UPRIGHT AP AND LATERAL VIEWS OF CHEST:',\n",
    "    'PORTABLE SEMI-ERECT CHEST RADIOGRAPH:',\n",
    "    'SEMI-UPRIGHT PORTABLE CHEST RADIOGRAPH:',\n",
    "    'SINGLE AP ERECT PORTABLE VIEW OF THE CHEST:',\n",
    "    'SINGLE UPRIGHT PORTABLE CHEST RADIOGRAPH:',\n",
    "    'AP and lateral views of the chest:',\n",
    "    'UPRIGHT AP AND LATERAL CHEST RADIOGRAPH:',\n",
    "    'UPRIGHT FRONTAL AND LATERAL VIEWS OF THE CHEST:',\n",
    "    'PORTABLE UPRIGHT FRONTAL CHEST RADIOGRAPH:',\n",
    "    'FRONTAL AND LATERAL VIEWS OF CHEST:',\n",
    "    'FRONTAL CHEST RADIOGRAPHS:',\n",
    "    'PA and lateral views of chest:',\n",
    "    'SINGLE PORTABLE UPRIGHT CHEST RADIOGRAPH:',\n",
    "    'SUPINE AP PORTABLE CHEST RADIOGRAPH:',\n",
    "    'Additional findings:',\n",
    "    'SUPINE PORTABLE AP CHEST RADIOGRAPH:',\n",
    "    'SINGLE SEMI-ERECT PORTABLE VIEW OF THE CHEST:',\n",
    "    'PORTABLE SEMI-UPRIGHT CHEST RADIOGRAPH:',\n",
    "    'FRONTAL LATERAL CHEST RADIOGRAPH:',\n",
    "    'SEMI-ERECT PORTABLE VIEW OF THE CHEST:',\n",
    "    'PA AND LATERAL FILMS OF THE CHEST:',\n",
    "    'SEMI-UPRIGHT AP AND LATERAL VIEWS OF THE CHEST:',\n",
    "    'CHEST PA AND LATERAL RADIOGRAPH:',\n",
    "    'FRONTAL AND LATERAL UPRIGHT CHEST RADIOGRAPH:',\n",
    "    'PORTABLE SEMI-ERECT FRONTAL CHEST RADIOGRAPHS:',\n",
    "    'OPINION:',\n",
    "    'FRONTAL PORTABLE CHEST RADIOGRAPH:',\n",
    "    'SEMIERECT PORTABLE RADIOGRAPH OF THE CHEST:',\n",
    "    'PORTABLE SEMI-ERECT AP AND PA CHEST RADIOGRAPH:',\n",
    "    'FRONTAL SEMI UPRIGHT PORTABLE CHEST:',\n",
    "    'SEMIERECT AP VIEW OF THE CHEST:',\n",
    "    'AP VIEW AND LATERAL VIEW OF THE CHEST:',\n",
    "    'PORTABLE SEMI-ERECT CHEST:',\n",
    "    'PORTABLE SEMI-UPRIGHT FRONTAL VIEW OF THE CHEST:',\n",
    "    'AP SEMI-ERECT CHEST RADIOGRAPH:',\n",
    "    'SINGLE AP UPRIGHT PORTABLE CHEST RADIOGRAPH:',\n",
    "    'SINGLE SUPINE PORTABLE VIEW OF THE CHEST:',\n",
    "    'PA AND AP CHEST RADIOGRAPH:',\n",
    "    'SINGLE PORTABLE AP VIEW OF THE CHEST:',\n",
    "    'PORTABLE AP CHEST RADIOGRAPHS:',\n",
    "    'PORTABLE SEMI-UPRIGHT FRONTAL CHEST RADIOGRAPHS:',\n",
    "    'SEMI-UPRIGHT AP AND LATERAL CHEST RADIOGRAPHS:',\n",
    "    'SINGLE PORTABLE CHEST X-RAY:',\n",
    "    'PORTABLE SEMI-UPRIGHT RADIOGRAPH:',\n",
    "    'AP portable view of the chest:',\n",
    "    'AP chest reviewed in the absence of prior chest radiographs:',\n",
    "    'PA and lateral chest reviewed in the absence of prior chest radiographs:',\n",
    "])\n",
    "SECTION_HEADERS_FOR_REPORT.update([\n",
    "    f'(AFTER) {key}' for key in SECTION_HEADERS_FOR_REPORT\n",
    "])    \n",
    "SECTION_HEADERS_FOR_REPORT.update([\n",
    "    '(AFTER) WET READ:',\n",
    "    '(AFTER) COMPARISON:',\n",
    "    '(AFTER) COMPARISON FILM:',\n",
    "])\n",
    "\n",
    "SECTION_HEADERS_FOR_REPORT_BACKUP = set([\n",
    "    '(AFTER) REASON FOR EXAMINATION:',\n",
    "    '(AFTER) REASON FOR EXAM:',\n",
    "    '(AFTER) REASON FOR INDICATION:',\n",
    "    '(AFTER) INDICATION:',\n",
    "    '(AFTER) CLINICAL HISTORY:',\n",
    "    '(AFTER) HISTORY:',\n",
    "    '(AFTER) TECHNIQUE:',\n",
    "    '(AFTER) TYPE OF EXAMINATION:',\n",
    "    '(AFTER) EXAM:',\n",
    "    '(HEADERLESS PARAGRAPH)',\n",
    "])\n",
    "\n",
    "SECTION_HEADERS_FOR_PATIENT_BACKGROUND = set([\n",
    "    'REASON FOR EXAMINATION:',\n",
    "    'REASON FOR EXAM:',\n",
    "    'REASON FORE EXAM:',\n",
    "    'REASON FOR THE EXAM:',\n",
    "    'Reason for exam:',\n",
    "    'REASON FOR INDICATION:',\n",
    "    'INDICATION:',\n",
    "    'INDCATION:',\n",
    "    'IDICATION:',\n",
    "    'NDICATION:',\n",
    "    'INDICATIONS:',\n",
    "    'Indication:',\n",
    "    'ADDENDUM Indication:',\n",
    "#     'Comparisons:',\n",
    "#     'COMPARISON:',\n",
    "#     'COMPARISONS:',\n",
    "#     'Comparison:',\n",
    "#     'COMPARISION:',\n",
    "#     'COMPARISON STUDY:',\n",
    "#     'COMPARISON TO PRIOR STUDY:',\n",
    "#     'COMPARISON STUDIES:',\n",
    "#     'COMPARISON EXAMS:',\n",
    "#     'COMPARRISON:',\n",
    "#     'COMPARISON CHEST:',\n",
    "#     'Comp:',\n",
    "#     'PRIOR EXAM:',\n",
    "    'WET READ:',\n",
    "    '(AFTER) WET READ:',\n",
    "    'RESIDENT WET READ:',\n",
    "    'PRELIMINARY RESIDENT WET READ:',\n",
    "    'PRELIMINARY REPORT:',\n",
    "    'CLINICAL HISTORY:',\n",
    "    'CLINICAL HISTORY History:',\n",
    "    'CLINICAL INDICATION:',\n",
    "    'Clincal indication:',\n",
    "    'CLINICAL INFORMATION:',\n",
    "    'CLINIC INDICATION:',\n",
    "    'ADDITIONAL CLINICAL HISTORY PROVIDED:',\n",
    "    'HISTORY:',\n",
    "    'History:',\n",
    "    'ADDENDUM INDICATION:',\n",
    "    'PATIENT HISTORY:',\n",
    "    'COR:',\n",
    "    'CHOCTAW:',\n",
    "    'ICHCt abd:',\n",
    "    'NCHCT:',\n",
    "    'ILLNESS:',\n",
    "    'Surg:',\n",
    "    'Pre-op:',\n",
    "    'Pre-op CXR Surg:',\n",
    "    'Pre-op Surg:',\n",
    "    'Pre-op chest xray Surg:',\n",
    "    'Pre-operative planning Surg:',\n",
    "    'Please obtain pre-op CXR Surg:',\n",
    "    'CXR Surg:',\n",
    "    'BKA Surg:',\n",
    "    'X-ray Surg:',\n",
    "    'Story:',\n",
    "    'Head CT:',\n",
    "    'CT Head:',\n",
    "    'Please eval for acute process Surg:',\n",
    "    'Please assess for any abnormalities Surg:',\n",
    "    'Please evaluate Surg:',\n",
    "])\n",
    "\n",
    "IGNORABLE_HEADERS = set([\n",
    "     'EXAM:', 'STUDY:', 'TYPE OF EXAMINATION:',\n",
    "     'DATE:', 'RECOMMENDATIONS:', 'CXR:', 'TYPE OF THE EXAMINATION:',\n",
    "     'RECOMMENDATION:', 'CT:', 'CTA:', 'RUQ:', 'QUESTIONS TO BE ANSWERED:',\n",
    "    'CLINICAL INFORMATION & QUESTIONS TO BE ANSWERED:',\n",
    "    \"CC:\", 'Compressing:', 'Contact name:', 'Common:',\n",
    "])\n",
    "\n",
    "SECTION_HEADERS_FOR_PATIENT_BACKGROUND.update([x.lower() for x in SECTION_HEADERS_FOR_PATIENT_BACKGROUND])\n",
    "SECTION_HEADERS_FOR_REPORT.update([x.lower() for x in SECTION_HEADERS_FOR_REPORT])\n",
    "IGNORABLE_HEADERS.update([x.lower() for x in IGNORABLE_HEADERS])\n",
    "\n",
    "KNOWN_HEADERS = SECTION_HEADERS_FOR_PATIENT_BACKGROUND |\\\n",
    "                SECTION_HEADERS_FOR_REPORT_BACKUP |\\\n",
    "                SECTION_HEADERS_FOR_REPORT |\\\n",
    "                IGNORABLE_HEADERS\n",
    "KNOWN_HEADERS.update(x.lower() for x in [\n",
    "    'EXAMINATION:',\n",
    "    'COMPARISON:',\n",
    "    'COMPARISONS:',\n",
    "    'COMPARISON STUDY:',\n",
    "    'Comparisons:',\n",
    "    'COMPARISON:',\n",
    "    'COMPARISONS:',\n",
    "    'Comparison:',\n",
    "    'COMPARISION:',\n",
    "    'COMPARISON STUDY:',\n",
    "    'COMPARISON TO PRIOR STUDY:',\n",
    "    'COMPARISON STUDIES:',\n",
    "    'COMPARISON EXAMS:',\n",
    "    'COMPARRISON:',\n",
    "    'COMPARISON comparison:',\n",
    "    'COMPARISON CHEST:',\n",
    "    'Comp:',\n",
    "    'The comparison:',\n",
    "    'PRIOR EXAM:',\n",
    "    'CT chest:',\n",
    "    '(HEADERLESS PARAGRAPH)',\n",
    "    'Correction:',\n",
    "    'The:',\n",
    "    'Support Devices:',\n",
    "    'Lungs:', \n",
    "    'Pleura:', \n",
    "    'Heart:',\n",
    "    'Lines and Tubes:',\n",
    "    'Lines and tubes:',\n",
    "    'Mediastinum:',\n",
    "    'Mediastinum and hila:',\n",
    "    'Osseous structures:', \n",
    "    'Other findings:',\n",
    "    'Bony thorax:',\n",
    "    'RIGHT RIBS:',\n",
    "    'Multitrauma:',\n",
    "    'Pelvis:',\n",
    "    'Postoperative changes including:',\n",
    "    'Abdomen:',\n",
    "    'Tip of the new intra-aortic:',\n",
    "    'Multiple pulmonary abnormalities include:',\n",
    "    'The following support devices are identified:',\n",
    "    'CHEST:',\n",
    "    'ADDENDUM Clarification:',\n",
    "    'ADDENDUM IMPRESSION:',\n",
    "    'AMENDMENT:',\n",
    "    'ADDENDUM:',\n",
    "    'ADDENDUM Correction:',\n",
    "    'ADDENDUM To clarify the above read:',\n",
    "    'ADDENDUM The correct report should read as follows:',\n",
    "    'ADDENDUM Please read of the IMPRESSION as following:',\n",
    "    'The correct IMPRESSION heading should be inserted after:',\n",
    "    'Allowing for these limitations:',\n",
    "    'The impression should read:',\n",
    "    'Impression should read:',\n",
    "     'Right lower lung opacity has increased:',\n",
    "    'Final:',\n",
    "    'CTA chest:',\n",
    "    'Note:',\n",
    "    'Comment:',\n",
    "    'NOTIFICATIONS:',\n",
    "    'NOTIFICATION:',\n",
    "    'MAIN REPORT:',\n",
    "    'TECHNIQUE:',\n",
    "    'PROCEDURE:',\n",
    "    'NOTE:',\n",
    "    'COMMENTS:',\n",
    "    'COMMENT:',\n",
    "    'PORTABLE CHEST:',\n",
    "    'REFERENCE EXAM:',\n",
    "    'REFERENCE EXAMINATION:',\n",
    "    'COMPARISON EXAM:',\n",
    "    'COMPARISON FILM:',\n",
    "    'COMPARISON FILMS:',\n",
    "    'CHEST COMPARISON FILM:',\n",
    "])"
   ]
  },
  {
   "cell_type": "code",
   "execution_count": 2031,
   "metadata": {},
   "outputs": [
    {
     "name": "stderr",
     "output_type": "stream",
     "text": [
      "  3%|▎         | 3609/120600 [00:12<06:48, 286.35it/s]"
     ]
    },
    {
     "name": "stdout",
     "output_type": "stream",
     "text": [
      "110844 /mnt/data/mimic-cxr/files/p14/p14065514/s56763333.txt\n"
     ]
    },
    {
     "name": "stderr",
     "output_type": "stream",
     "text": [
      "\n"
     ]
    },
    {
     "ename": "AssertionError",
     "evalue": "",
     "output_type": "error",
     "traceback": [
      "\u001b[0;31m---------------------------------------------------------------------------\u001b[0m",
      "\u001b[0;31mAssertionError\u001b[0m                            Traceback (most recent call last)",
      "\u001b[0;32m<ipython-input-2031-4e18ee79e17f>\u001b[0m in \u001b[0;36m<module>\u001b[0;34m\u001b[0m\n\u001b[1;32m      9\u001b[0m \u001b[0;34m\u001b[0m\u001b[0m\n\u001b[1;32m     10\u001b[0m         \u001b[0mtmp\u001b[0m \u001b[0;34m=\u001b[0m \u001b[0mextract_report_and_patient_background\u001b[0m\u001b[0;34m(\u001b[0m\u001b[0mrp\u001b[0m\u001b[0;34m)\u001b[0m\u001b[0;34m\u001b[0m\u001b[0;34m\u001b[0m\u001b[0m\n\u001b[0;32m---> 11\u001b[0;31m         \u001b[0;32massert\u001b[0m \u001b[0mlen\u001b[0m\u001b[0;34m(\u001b[0m\u001b[0mtmp\u001b[0m\u001b[0;34m[\u001b[0m\u001b[0;34m'report'\u001b[0m\u001b[0;34m]\u001b[0m\u001b[0;34m)\u001b[0m \u001b[0;34m>\u001b[0m \u001b[0;36m0\u001b[0m\u001b[0;34m\u001b[0m\u001b[0;34m\u001b[0m\u001b[0m\n\u001b[0m\u001b[1;32m     12\u001b[0m \u001b[0;31m#         assert len(tmp['background']) > 0\u001b[0m\u001b[0;34m\u001b[0m\u001b[0;34m\u001b[0m\u001b[0;34m\u001b[0m\u001b[0m\n\u001b[1;32m     13\u001b[0m     \u001b[0;32mexcept\u001b[0m \u001b[0mAssertionError\u001b[0m\u001b[0;34m:\u001b[0m\u001b[0;34m\u001b[0m\u001b[0;34m\u001b[0m\u001b[0m\n",
      "\u001b[0;31mAssertionError\u001b[0m: "
     ]
    }
   ],
   "source": [
    "for i in tqdm(range(i+1, len(report_paths))):\n",
    "    rp = report_paths[i]\n",
    "    try:\n",
    "        sections = split_report_into_sections(rp)\n",
    "        for k in sections.keys():\n",
    "            if not k.startswith('(AFTER)'):\n",
    "                assert k.lower() in KNOWN_HEADERS, k\n",
    "        assert len(sections) > 0\n",
    "        \n",
    "        tmp = extract_report_and_patient_background(rp)\n",
    "        assert len(tmp['report']) > 0\n",
    "#         assert len(tmp['background']) > 0\n",
    "    except AssertionError:\n",
    "        print(i, rp)\n",
    "        raise"
   ]
  },
  {
   "cell_type": "code",
   "execution_count": 1941,
   "metadata": {},
   "outputs": [
    {
     "data": {
      "text/plain": [
       "<_sre.SRE_Match object; span=(789, 796), match='records'>"
      ]
     },
     "execution_count": 1941,
     "metadata": {},
     "output_type": "execute_result"
    }
   ],
   "source": [
    "re_invalid.search('''AP single view of the chest has been obtained with patient in semi-upright\n",
    " position.  The heart size is within normal limits paying attention to AP\n",
    " technique.  No typical configurational abnormality is seen.  Thoracic aorta\n",
    " unremarkable with the exception of some calcium deposits in the wall at the\n",
    " level of the arch.  The pulmonary vasculature is not congested.  No signs of\n",
    " acute parenchymal infiltrates are present.  The right lateral pleural sinus is\n",
    " free; however, there is a small amount of pleural density blunting the left\n",
    " lateral pleural sinus, and some crowded vasculature on the left base suggests\n",
    " some degree of atelectasis.  Acute new infiltrates cannot be identified on\n",
    " this portable single view chest examination.  No pneumothorax exists in the\n",
    " apical area.  Our records do not include a previous chest examination\n",
    " available for comparison.''')"
   ]
  },
  {
   "cell_type": "code",
   "execution_count": 2033,
   "metadata": {},
   "outputs": [],
   "source": [
    "import random"
   ]
  },
  {
   "cell_type": "code",
   "execution_count": 2054,
   "metadata": {},
   "outputs": [],
   "source": [
    "rp = random.choice(report_paths)\n",
    "try:\n",
    "    sections = split_report_into_sections(rp)\n",
    "    for k in sections.keys():\n",
    "        if not k.startswith('(AFTER)'):\n",
    "            assert k.lower() in KNOWN_HEADERS, k\n",
    "    assert len(sections) > 0\n",
    "\n",
    "    tmp = extract_report_and_patient_background(rp)\n",
    "    assert len(tmp['report']) > 0\n",
    "    assert len(tmp['background']) > 0\n",
    "except AssertionError:\n",
    "    print(i, rp)\n",
    "    raise"
   ]
  },
  {
   "cell_type": "code",
   "execution_count": 2055,
   "metadata": {
    "scrolled": false
   },
   "outputs": [
    {
     "name": "stdout",
     "output_type": "stream",
     "text": [
      "                                 FINAL REPORT\n",
      " CHEST RADIOGRAPH\n",
      " \n",
      " INDICATION:  Recent pneumonia, persistent cough, evaluation.\n",
      " \n",
      " COMPARISON:  No comparison available at the time of dictation.\n",
      " \n",
      " FINDINGS:  Normal lung volumes.  Normal size of the cardiac silhouette. \n",
      " Normal appearance of the lung parenchyma.  No evidence of pneumonia.  Small\n",
      " right pericardial fat pad.  No pleural effusions.\n",
      "\n",
      "OrderedDict([('(HEADERLESS PARAGRAPH)',\n",
      "              ['                                 FINAL REPORT\\n'\n",
      "               ' CHEST RADIOGRAPH',\n",
      "               '\\n \\n ',\n",
      "               ' \\n ']),\n",
      "             ('INDICATION:',\n",
      "              ['  Recent pneumonia, persistent cough, evaluation.']),\n",
      "             ('(AFTER) INDICATION:', ['\\n \\n ', ' \\n ']),\n",
      "             ('COMPARISON:',\n",
      "              ['  No comparison available at the time of dictation.']),\n",
      "             ('(AFTER) COMPARISON:', ['\\n \\n ', ' \\n ']),\n",
      "             ('FINDINGS:',\n",
      "              ['  Normal lung volumes.  Normal size of the cardiac '\n",
      "               'silhouette. \\n'\n",
      "               ' Normal appearance of the lung parenchyma.  No evidence of '\n",
      "               'pneumonia.  Small\\n'\n",
      "               ' right pericardial fat pad.  No pleural effusions.\\n'])])\n",
      "===================================================\n",
      "{'background': [('indication:',\n",
      "                 'Recent pneumonia, persistent cough, evaluation.')],\n",
      " 'report': [('findings:',\n",
      "             'Normal lung volumes. Normal size of the cardiac silhouette. '\n",
      "             'Normal appearance of the lung parenchyma. No evidence of '\n",
      "             'pneumonia. Small right pericardial fat pad. No pleural '\n",
      "             'effusions.')]}\n"
     ]
    }
   ],
   "source": [
    "pprint(extract_report_and_patient_background(rp, True))"
   ]
  },
  {
   "cell_type": "code",
   "execution_count": 1964,
   "metadata": {},
   "outputs": [],
   "source": [
    "re_invalid = load_invalid_patterns_regex()"
   ]
  },
  {
   "cell_type": "code",
   "execution_count": 1829,
   "metadata": {},
   "outputs": [
    {
     "data": {
      "text/plain": [
       "<_sre.SRE_Match object; span=(52, 57), match='by Dr'>"
      ]
     },
     "execution_count": 1829,
     "metadata": {},
     "output_type": "execute_result"
    }
   ],
   "source": [
    "re_invalid.search('The impression and recommendation above was entered by Dr. on at '\n",
    "             '11:12 into the Department of Radiology critical communications '\n",
    "             'system for direct communication to the referring provider.')"
   ]
  },
  {
   "cell_type": "code",
   "execution_count": 1500,
   "metadata": {},
   "outputs": [],
   "source": [
    "from medvqa.metrics.medical.med_completeness import MEDICAL_TERMS_PATH\n",
    "from medvqa.utils.files import read_lines_from_txt\n",
    "from nltk import wordpunct_tokenize\n",
    "\n",
    "medical_terms = set(read_lines_from_txt(MEDICAL_TERMS_PATH))"
   ]
  },
  {
   "cell_type": "code",
   "execution_count": 1501,
   "metadata": {},
   "outputs": [],
   "source": [
    "def contains_medical_terms(text, k):\n",
    "    count = 0\n",
    "    for x in wordpunct_tokenize(text.lower()):\n",
    "        if x in medical_terms:\n",
    "            count += 1\n",
    "            if count >= k: return True\n",
    "    return False"
   ]
  },
  {
   "cell_type": "code",
   "execution_count": 1817,
   "metadata": {},
   "outputs": [],
   "source": [
    "import re\n",
    "from medvqa.datasets.qa_pairs_extractor import REGULAR_EXPRESSIONS_FOLDER\n",
    "\n",
    "def load_invalid_patterns_regex():\n",
    "    pattern = ''\n",
    "    with open(os.path.join(REGULAR_EXPRESSIONS_FOLDER, 'invalid_sentence_patterns.txt')) as f:\n",
    "        for line in f.readlines():\n",
    "            if len(pattern) > 0:\n",
    "                pattern += '|'\n",
    "            pattern += f'({line.strip()})'\n",
    "    return re.compile(pattern, re.IGNORECASE)"
   ]
  },
  {
   "cell_type": "code",
   "execution_count": 1844,
   "metadata": {},
   "outputs": [],
   "source": [
    "def contains_no_invalid_patterns(text):\n",
    "    return not re_invalid.search(text)"
   ]
  },
  {
   "cell_type": "code",
   "execution_count": 1521,
   "metadata": {},
   "outputs": [
    {
     "data": {
      "text/plain": [
       "True"
      ]
     },
     "execution_count": 1521,
     "metadata": {},
     "output_type": "execute_result"
    }
   ],
   "source": [
    "contains_medical_terms('in comparison to previous chest x-ray support devices radiography', 1)"
   ]
  },
  {
   "cell_type": "code",
   "execution_count": 1607,
   "metadata": {},
   "outputs": [
    {
     "data": {
      "text/plain": [
       "False"
      ]
     },
     "execution_count": 1607,
     "metadata": {},
     "output_type": "execute_result"
    }
   ],
   "source": [
    "'3dAsdfasdf'[0].isalpha()"
   ]
  },
  {
   "cell_type": "code",
   "execution_count": 1955,
   "metadata": {},
   "outputs": [],
   "source": [
    "def extract_report_and_patient_background(report_path, debug=False):\n",
    "    sections = split_report_into_sections(report_path, debug=debug)\n",
    "    if debug:\n",
    "        pprint(sections)\n",
    "    report_chunks = []\n",
    "    background_chunks = []\n",
    "    \n",
    "    if debug:\n",
    "        print('===================================================')\n",
    "    \n",
    "    for k_, v in sections.items():\n",
    "        k = k_.lower()\n",
    "        \n",
    "        if k in SECTION_HEADERS_FOR_PATIENT_BACKGROUND:\n",
    "            \n",
    "            if type(v) is list:\n",
    "                for i in range(len(v)):\n",
    "                    v[i] = v[i].replace('_', ' ')\n",
    "                    v[i] = v[i].strip()\n",
    "                    if len(v[i]) > 0 and v[i][-1] != '.': v[i] += '.'\n",
    "                if k == '(after) wet read:':\n",
    "                    v = ' '.join(x for x in v if len(x) > 0 and contains_medical_terms(x, 1))\n",
    "                else:\n",
    "                    v = ' '.join(x for x in v if len(x) > 0)\n",
    "            else:\n",
    "                v = v.replace('_', ' ').strip()\n",
    "                if k == '(after) wet read:' and not contains_medical_terms(v, 1):\n",
    "                    v = ''                    \n",
    "            v = ' '.join(v.split())\n",
    "            if len(v) == 0 or v == '.': continue\n",
    "            if v[-1] != '.': v += '.'\n",
    "            background_chunks.append((k, v))\n",
    "            \n",
    "        elif k in SECTION_HEADERS_FOR_REPORT:\n",
    "            \n",
    "            if type(v) is list:\n",
    "                for i in range(len(v)):\n",
    "                    v[i] = v[i].replace('_', ' ')\n",
    "                    v[i] = v[i].strip()\n",
    "                    if len(v[i]) > 0 and v[i][-1] != '.': v[i] += '.'\n",
    "                v = ' '.join(x for x in v if len(x) > 0)\n",
    "            else:\n",
    "                v = v.replace('_', ' ').strip()\n",
    "            v = ' '.join(v.split())\n",
    "            if len(v) == 0 or v == '.': continue\n",
    "            if v[-1] != '.': v += '.'            \n",
    "            \n",
    "            report_chunks.append((k, v))\n",
    "            \n",
    "        elif k not in IGNORABLE_HEADERS:\n",
    "            \n",
    "            if type(v) is list:\n",
    "                for i in range(len(v)):\n",
    "                    v[i] = v[i].replace('_', ' ')\n",
    "                    v[i] = v[i].strip()\n",
    "#                     if len(v[i]) > 0 and v[i][-1] != '.' and (i+1 == len(v) or len(v[i+1]) == 0 or\n",
    "#                                                               v[i+1][0].isalpha()): v[i] += '.'\n",
    "                v = ' '.join(x for x in v if len(x) > 0 and\\\n",
    "                             contains_medical_terms(x, 2) and\\\n",
    "                             contains_no_invalid_patterns(x))\n",
    "            elif contains_medical_terms(v, 2) and contains_no_invalid_patterns(v):\n",
    "                v = v.replace('_', ' ').strip()\n",
    "            else:\n",
    "                v = ''\n",
    "            v = ' '.join(v.split())\n",
    "            if len(v) == 0 or v == '.': continue\n",
    "            if v[-1] != '.': v += '.'\n",
    "                \n",
    "            if (not k.startswith('(after)') and contains_medical_terms(k, 1)):\n",
    "                v = f'{k_} {v}'\n",
    "            \n",
    "            report_chunks.append((k, v))\n",
    "            \n",
    "    if len(report_chunks) == 0:\n",
    "        for i, p in enumerate(background_chunks):\n",
    "            if contains_medical_terms(p[1], 3) and contains_no_invalid_patterns(p[1]):\n",
    "                report_chunks.append(p)\n",
    "                background_chunks[i] = None\n",
    "        background_chunks = [p for p in background_chunks if p is not None]\n",
    "\n",
    "    return dict(\n",
    "        report = report_chunks,\n",
    "        background = background_chunks,\n",
    "    )"
   ]
  },
  {
   "cell_type": "code",
   "execution_count": 756,
   "metadata": {},
   "outputs": [
    {
     "data": {
      "text/plain": [
       "157"
      ]
     },
     "execution_count": 756,
     "metadata": {},
     "output_type": "execute_result"
    }
   ],
   "source": [
    "len(\"\"\"Chest tubes and right pleural catheter are in unchanged position.  There is no\n",
    " evident pneumothorax.  Bibasilar opacities have increased.  This is partially\"\"\")"
   ]
  },
  {
   "cell_type": "code",
   "execution_count": 23,
   "metadata": {},
   "outputs": [
    {
     "data": {
      "text/plain": [
       "6"
      ]
     },
     "execution_count": 23,
     "metadata": {},
     "output_type": "execute_result"
    }
   ],
   "source": [
    "len(split_report_into_sections(report_paths[0]))"
   ]
  },
  {
   "cell_type": "code",
   "execution_count": 23,
   "metadata": {},
   "outputs": [],
   "source": [
    "from medvqa.datasets.mimiccxr import load_mimiccxr_reports_detailed_metadata\n",
    "from medvqa.utils.files import list_filepaths_with_prefix_and_timestamps, read_txt\n",
    "from medvqa.utils.logging import print_bold"
   ]
  },
  {
   "cell_type": "code",
   "execution_count": 16,
   "metadata": {},
   "outputs": [
    {
     "data": {
      "text/plain": [
       "[('/mnt/data/pamessina/workspaces/medvqa-workspace/cache/mimiccxr/background_findings_and_impression_20230612_174143.json__detailed_metadata.pkl',\n",
       "  '2023-08-29 10:04:02'),\n",
       " ('/mnt/data/pamessina/workspaces/medvqa-workspace/cache/mimiccxr/background_findings_and_impression_20230612_174143.json',\n",
       "  '2023-06-12 17:41:46'),\n",
       " ('/mnt/data/pamessina/workspaces/medvqa-workspace/cache/mimiccxr/background_findings_and_impression_20230610_132343.json',\n",
       "  '2023-06-10 13:23:46')]"
      ]
     },
     "execution_count": 16,
     "metadata": {},
     "output_type": "execute_result"
    }
   ],
   "source": [
    "list_filepaths_with_prefix_and_timestamps('/mnt/data/pamessina/workspaces/medvqa-workspace/cache/mimiccxr/background')"
   ]
  },
  {
   "cell_type": "code",
   "execution_count": 1,
   "metadata": {},
   "outputs": [
    {
     "name": "stdout",
     "output_type": "stream",
     "text": [
      "-rw-rw-r-- 1 pamessina pamessina 147M Aug 29  2023 /mnt/data/pamessina/workspaces/medvqa-workspace/cache/mimiccxr/background_findings_and_impression_20230612_174143.json__detailed_metadata.pkl\r\n"
     ]
    }
   ],
   "source": [
    "!ls -lh \"/mnt/data/pamessina/workspaces/medvqa-workspace/cache/mimiccxr/background_findings_and_impression_20230612_174143.json__detailed_metadata.pkl\""
   ]
  },
  {
   "cell_type": "code",
   "execution_count": 17,
   "metadata": {},
   "outputs": [],
   "source": [
    "metadata = load_mimiccxr_reports_detailed_metadata('/mnt/data/pamessina/workspaces/medvqa-workspace/cache/mimiccxr/background_findings_and_impression_20230612_174143.json')"
   ]
  },
  {
   "cell_type": "code",
   "execution_count": 18,
   "metadata": {},
   "outputs": [
    {
     "data": {
      "text/plain": [
       "5599"
      ]
     },
     "execution_count": 18,
     "metadata": {},
     "output_type": "execute_result"
    }
   ],
   "source": [
    "i = metadata['study_ids'].index(53531026)\n",
    "i"
   ]
  },
  {
   "cell_type": "code",
   "execution_count": 25,
   "metadata": {},
   "outputs": [
    {
     "name": "stdout",
     "output_type": "stream",
     "text": [
      "/mnt/data/mimic-cxr/files/p10/p10382575/s53531026.txt\n",
      "\n",
      "                                 FINAL REPORT\n",
      " EXAMINATION:  CHEST (PA AND LAT)\n",
      " \n",
      " INDICATION:  ___ year old woman with new cirrhosis with decompensation  // ?\n",
      " Pneumonia      ? Pneumonia\n",
      " \n",
      " COMPARISON:  No comparison studies.  Please note that comparison to old with\n",
      " images can be helpful to detect subtle interval change.\n",
      " \n",
      " FINDINGS: \n",
      " \n",
      " PA and lateral views of the chest ___ at 13:19 are submitted.\n",
      " \n",
      " IMPRESSION: \n",
      " \n",
      " There is minimal blunting of left costophrenic angle and patchy opacity at the\n",
      " left base which may reflect a combination of atelectasis and or scarring in\n",
      " the setting of a small effusion or chronic pleural thickening.  An early\n",
      " infectious process should also be considered.  Clinical correlation is\n",
      " recommended.  No pulmonary edema or pneumothorax.  Overall cardiac and\n",
      " mediastinal contours are within normal limits.\n",
      "\n",
      "\n",
      "\u001b[1mBackground:\u001b[0m\n",
      "\n",
      "indication: year old woman with new cirrhosis with decompensation // ? Pneumonia ? Pneumonia.\n",
      "\n",
      "\u001b[1mFindings:\u001b[0m\n",
      "\n",
      "PA and lateral views of the chest at 13:19 are submitted. There is minimal blunting of left costophrenic angle and patchy opacity at the left base which may reflect a combination of atelectasis and or scarring in the setting of a small effusion or chronic pleural thickening. An early infectious process should also be considered. Clinical correlation is recommended. No pulmonary edema or pneumothorax. Overall cardiac and mediastinal contours are within normal limits.\n",
      "\n",
      "\u001b[1mImpression:\u001b[0m\n",
      "\n",
      "\n"
     ]
    }
   ],
   "source": [
    "print(metadata['filepaths'][i])\n",
    "print()\n",
    "print(read_txt(metadata['filepaths'][i]))\n",
    "print()\n",
    "print_bold('Background:')\n",
    "print()\n",
    "print(metadata['backgrounds'][i])\n",
    "print()\n",
    "print_bold('Findings:')\n",
    "print()\n",
    "print(metadata['findings'][i])\n",
    "print()\n",
    "print_bold('Impression:')\n",
    "print()\n",
    "print(metadata['impressions'][i])"
   ]
  },
  {
   "cell_type": "code",
   "execution_count": 29,
   "metadata": {},
   "outputs": [
    {
     "name": "stdout",
     "output_type": "stream",
     "text": [
      "                                 FINAL REPORT\n",
      " EXAMINATION:  CHEST (PA AND LAT)\n",
      " \n",
      " INDICATION:  ___ year old woman with new cirrhosis with decompensation  // ?\n",
      " Pneumonia      ? Pneumonia\n",
      " \n",
      " COMPARISON:  No comparison studies.  Please note that comparison to old with\n",
      " images can be helpful to detect subtle interval change.\n",
      " \n",
      " FINDINGS: \n",
      " \n",
      " PA and lateral views of the chest ___ at 13:19 are submitted.\n",
      " \n",
      " IMPRESSION: \n",
      " \n",
      " There is minimal blunting of left costophrenic angle and patchy opacity at the\n",
      " left base which may reflect a combination of atelectasis and or scarring in\n",
      " the setting of a small effusion or chronic pleural thickening.  An early\n",
      " infectious process should also be considered.  Clinical correlation is\n",
      " recommended.  No pulmonary edema or pneumothorax.  Overall cardiac and\n",
      " mediastinal contours are within normal limits.\n",
      "\n",
      "OrderedDict([('(HEADERLESS PARAGRAPH)',\n",
      "              ['                                 FINAL REPORT']),\n",
      "             ('EXAMINATION:', ['  CHEST (PA AND LAT)']),\n",
      "             ('(AFTER) EXAMINATION:', ['\\n \\n ', ' \\n ']),\n",
      "             ('INDICATION:',\n",
      "              ['  ___ year old woman with new cirrhosis with decompensation  '\n",
      "               '// ?\\n'\n",
      "               ' Pneumonia      ? Pneumonia']),\n",
      "             ('(AFTER) INDICATION:', ['\\n \\n ', ' \\n ']),\n",
      "             ('COMPARISON:',\n",
      "              ['  No comparison studies.  Please note that comparison to old '\n",
      "               'with\\n'\n",
      "               ' images can be helpful to detect subtle interval change.']),\n",
      "             ('(AFTER) COMPARISON:', ['\\n \\n ', ' \\n ']),\n",
      "             ('FINDINGS:', ['']),\n",
      "             ('(AFTER) FINDINGS:',\n",
      "              [' \\n \\n ',\n",
      "               ' \\n ',\n",
      "               'PA and lateral views of the chest ___ at 13:19 are submitted.',\n",
      "               '\\n \\n ',\n",
      "               ' \\n ']),\n",
      "             ('IMPRESSION:', ['']),\n",
      "             ('(AFTER) IMPRESSION:',\n",
      "              [' \\n \\n ',\n",
      "               ' \\n ',\n",
      "               'There is minimal blunting of left costophrenic angle and '\n",
      "               'patchy opacity at the\\n'\n",
      "               ' left base which may reflect a combination of atelectasis and '\n",
      "               'or scarring in\\n'\n",
      "               ' the setting of a small effusion or chronic pleural '\n",
      "               'thickening.  An early\\n'\n",
      "               ' infectious process should also be considered.  Clinical '\n",
      "               'correlation is\\n'\n",
      "               ' recommended.  No pulmonary edema or pneumothorax.  Overall '\n",
      "               'cardiac and\\n'\n",
      "               ' mediastinal contours are within normal limits.\\n'])])\n",
      "===================================================\n"
     ]
    },
    {
     "data": {
      "text/plain": [
       "{'background': 'indication: year old woman with new cirrhosis with decompensation // ? Pneumonia ? Pneumonia.',\n",
       " 'findings': 'PA and lateral views of the chest at 13:19 are submitted. There is minimal blunting of left costophrenic angle and patchy opacity at the left base which may reflect a combination of atelectasis and or scarring in the setting of a small effusion or chronic pleural thickening. An early infectious process should also be considered. Clinical correlation is recommended. No pulmonary edema or pneumothorax. Overall cardiac and mediastinal contours are within normal limits.',\n",
       " 'impression': ''}"
      ]
     },
     "execution_count": 29,
     "metadata": {},
     "output_type": "execute_result"
    }
   ],
   "source": [
    "extract_background_findings_and_impression(metadata['filepaths'][i], debug=True)"
   ]
  },
  {
   "cell_type": "code",
   "execution_count": 12,
   "metadata": {},
   "outputs": [],
   "source": [
    "import pandas as pd\n",
    "from medvqa.datasets.mimiccxr import MIMICCXR_METADATA_CSV_PATH, get_mimiccxr_report_path, get_imageId2partId\n",
    "from medvqa.utils.files_utils import read_txt"
   ]
  },
  {
   "cell_type": "code",
   "execution_count": 10,
   "metadata": {},
   "outputs": [],
   "source": [
    "imageId2partId = get_imageId2partId()"
   ]
  },
  {
   "cell_type": "code",
   "execution_count": 3,
   "metadata": {},
   "outputs": [],
   "source": [
    "df = pd.read_csv(MIMICCXR_METADATA_CSV_PATH)"
   ]
  },
  {
   "cell_type": "code",
   "execution_count": 6,
   "metadata": {},
   "outputs": [
    {
     "data": {
      "text/html": [
       "<div>\n",
       "<style scoped>\n",
       "    .dataframe tbody tr th:only-of-type {\n",
       "        vertical-align: middle;\n",
       "    }\n",
       "\n",
       "    .dataframe tbody tr th {\n",
       "        vertical-align: top;\n",
       "    }\n",
       "\n",
       "    .dataframe thead th {\n",
       "        text-align: right;\n",
       "    }\n",
       "</style>\n",
       "<table border=\"1\" class=\"dataframe\">\n",
       "  <thead>\n",
       "    <tr style=\"text-align: right;\">\n",
       "      <th></th>\n",
       "      <th>dicom_id</th>\n",
       "      <th>subject_id</th>\n",
       "      <th>study_id</th>\n",
       "      <th>PerformedProcedureStepDescription</th>\n",
       "      <th>ViewPosition</th>\n",
       "      <th>Rows</th>\n",
       "      <th>Columns</th>\n",
       "      <th>StudyDate</th>\n",
       "      <th>StudyTime</th>\n",
       "      <th>ProcedureCodeSequence_CodeMeaning</th>\n",
       "      <th>ViewCodeSequence_CodeMeaning</th>\n",
       "      <th>PatientOrientationCodeSequence_CodeMeaning</th>\n",
       "    </tr>\n",
       "  </thead>\n",
       "  <tbody>\n",
       "    <tr>\n",
       "      <th>1513</th>\n",
       "      <td>8bb728f7-59213a2c-1dab5f9e-875589a2-a308d030</td>\n",
       "      <td>10035780</td>\n",
       "      <td>55343330</td>\n",
       "      <td>Performed Desc</td>\n",
       "      <td>LL</td>\n",
       "      <td>2021</td>\n",
       "      <td>1560</td>\n",
       "      <td>21310807</td>\n",
       "      <td>153542.0</td>\n",
       "      <td>CHEST (PA AND LAT)</td>\n",
       "      <td>left lateral</td>\n",
       "      <td>Recumbent</td>\n",
       "    </tr>\n",
       "    <tr>\n",
       "      <th>1514</th>\n",
       "      <td>efe8834c-2f3e9afb-011c86bc-4506aff3-204a3256</td>\n",
       "      <td>10035780</td>\n",
       "      <td>55343330</td>\n",
       "      <td>Performed Desc</td>\n",
       "      <td>PA</td>\n",
       "      <td>1633</td>\n",
       "      <td>1813</td>\n",
       "      <td>21310807</td>\n",
       "      <td>153542.0</td>\n",
       "      <td>CHEST (PA AND LAT)</td>\n",
       "      <td>postero-anterior</td>\n",
       "      <td>Recumbent</td>\n",
       "    </tr>\n",
       "  </tbody>\n",
       "</table>\n",
       "</div>"
      ],
      "text/plain": [
       "                                          dicom_id  subject_id  study_id  \\\n",
       "1513  8bb728f7-59213a2c-1dab5f9e-875589a2-a308d030    10035780  55343330   \n",
       "1514  efe8834c-2f3e9afb-011c86bc-4506aff3-204a3256    10035780  55343330   \n",
       "\n",
       "     PerformedProcedureStepDescription ViewPosition  Rows  Columns  StudyDate  \\\n",
       "1513                    Performed Desc           LL  2021     1560   21310807   \n",
       "1514                    Performed Desc           PA  1633     1813   21310807   \n",
       "\n",
       "      StudyTime ProcedureCodeSequence_CodeMeaning  \\\n",
       "1513   153542.0                CHEST (PA AND LAT)   \n",
       "1514   153542.0                CHEST (PA AND LAT)   \n",
       "\n",
       "     ViewCodeSequence_CodeMeaning PatientOrientationCodeSequence_CodeMeaning  \n",
       "1513                 left lateral                                  Recumbent  \n",
       "1514             postero-anterior                                  Recumbent  "
      ]
     },
     "execution_count": 6,
     "metadata": {},
     "output_type": "execute_result"
    }
   ],
   "source": [
    "df[df.study_id == 55343330]"
   ]
  },
  {
   "cell_type": "code",
   "execution_count": 7,
   "metadata": {},
   "outputs": [
    {
     "data": {
      "text/html": [
       "<div>\n",
       "<style scoped>\n",
       "    .dataframe tbody tr th:only-of-type {\n",
       "        vertical-align: middle;\n",
       "    }\n",
       "\n",
       "    .dataframe tbody tr th {\n",
       "        vertical-align: top;\n",
       "    }\n",
       "\n",
       "    .dataframe thead th {\n",
       "        text-align: right;\n",
       "    }\n",
       "</style>\n",
       "<table border=\"1\" class=\"dataframe\">\n",
       "  <thead>\n",
       "    <tr style=\"text-align: right;\">\n",
       "      <th></th>\n",
       "      <th>dicom_id</th>\n",
       "      <th>subject_id</th>\n",
       "      <th>study_id</th>\n",
       "      <th>PerformedProcedureStepDescription</th>\n",
       "      <th>ViewPosition</th>\n",
       "      <th>Rows</th>\n",
       "      <th>Columns</th>\n",
       "      <th>StudyDate</th>\n",
       "      <th>StudyTime</th>\n",
       "      <th>ProcedureCodeSequence_CodeMeaning</th>\n",
       "      <th>ViewCodeSequence_CodeMeaning</th>\n",
       "      <th>PatientOrientationCodeSequence_CodeMeaning</th>\n",
       "    </tr>\n",
       "  </thead>\n",
       "  <tbody>\n",
       "    <tr>\n",
       "      <th>1509</th>\n",
       "      <td>5b434f5b-7a561c59-c4869996-f2707d0f-2eff09f6</td>\n",
       "      <td>10035780</td>\n",
       "      <td>52502485</td>\n",
       "      <td>CHEST (PORTABLE AP)</td>\n",
       "      <td>AP</td>\n",
       "      <td>3056</td>\n",
       "      <td>2544</td>\n",
       "      <td>21310725</td>\n",
       "      <td>174711.000</td>\n",
       "      <td>CHEST (PORTABLE AP)</td>\n",
       "      <td>antero-posterior</td>\n",
       "      <td>Erect</td>\n",
       "    </tr>\n",
       "    <tr>\n",
       "      <th>1510</th>\n",
       "      <td>b872a0c8-1a7c1ded-43ff067d-47d52e47-3fa5e874</td>\n",
       "      <td>10035780</td>\n",
       "      <td>53087369</td>\n",
       "      <td>CHEST (PA AND LAT)</td>\n",
       "      <td>AP</td>\n",
       "      <td>2843</td>\n",
       "      <td>2480</td>\n",
       "      <td>21320609</td>\n",
       "      <td>172416.156</td>\n",
       "      <td>CHEST (PA AND LAT)</td>\n",
       "      <td>antero-posterior</td>\n",
       "      <td>Erect</td>\n",
       "    </tr>\n",
       "    <tr>\n",
       "      <th>1511</th>\n",
       "      <td>e83fe62e-4d4818fa-139761b6-c1d1d171-ed224714</td>\n",
       "      <td>10035780</td>\n",
       "      <td>53087369</td>\n",
       "      <td>CHEST (PA AND LAT)</td>\n",
       "      <td>LATERAL</td>\n",
       "      <td>3056</td>\n",
       "      <td>2544</td>\n",
       "      <td>21320609</td>\n",
       "      <td>172416.156</td>\n",
       "      <td>CHEST (PA AND LAT)</td>\n",
       "      <td>lateral</td>\n",
       "      <td>Erect</td>\n",
       "    </tr>\n",
       "    <tr>\n",
       "      <th>1512</th>\n",
       "      <td>1ca83fb4-cebdf1c6-0ebd8f9d-7cb0ff82-09395c91</td>\n",
       "      <td>10035780</td>\n",
       "      <td>53120593</td>\n",
       "      <td>CHEST (PORTABLE AP)</td>\n",
       "      <td>AP</td>\n",
       "      <td>2544</td>\n",
       "      <td>3056</td>\n",
       "      <td>21320514</td>\n",
       "      <td>154031.984</td>\n",
       "      <td>CHEST (PORTABLE AP)</td>\n",
       "      <td>antero-posterior</td>\n",
       "      <td>Erect</td>\n",
       "    </tr>\n",
       "    <tr>\n",
       "      <th>1513</th>\n",
       "      <td>8bb728f7-59213a2c-1dab5f9e-875589a2-a308d030</td>\n",
       "      <td>10035780</td>\n",
       "      <td>55343330</td>\n",
       "      <td>Performed Desc</td>\n",
       "      <td>LL</td>\n",
       "      <td>2021</td>\n",
       "      <td>1560</td>\n",
       "      <td>21310807</td>\n",
       "      <td>153542.000</td>\n",
       "      <td>CHEST (PA AND LAT)</td>\n",
       "      <td>left lateral</td>\n",
       "      <td>Recumbent</td>\n",
       "    </tr>\n",
       "    <tr>\n",
       "      <th>1514</th>\n",
       "      <td>efe8834c-2f3e9afb-011c86bc-4506aff3-204a3256</td>\n",
       "      <td>10035780</td>\n",
       "      <td>55343330</td>\n",
       "      <td>Performed Desc</td>\n",
       "      <td>PA</td>\n",
       "      <td>1633</td>\n",
       "      <td>1813</td>\n",
       "      <td>21310807</td>\n",
       "      <td>153542.000</td>\n",
       "      <td>CHEST (PA AND LAT)</td>\n",
       "      <td>postero-anterior</td>\n",
       "      <td>Recumbent</td>\n",
       "    </tr>\n",
       "    <tr>\n",
       "      <th>1515</th>\n",
       "      <td>06bb8f91-598d12db-baa0c122-aa071d90-d976c5a7</td>\n",
       "      <td>10035780</td>\n",
       "      <td>59076224</td>\n",
       "      <td>NaN</td>\n",
       "      <td>LATERAL</td>\n",
       "      <td>3056</td>\n",
       "      <td>2544</td>\n",
       "      <td>21311109</td>\n",
       "      <td>91234.203</td>\n",
       "      <td>lateral</td>\n",
       "      <td>Erect</td>\n",
       "      <td>NaN</td>\n",
       "    </tr>\n",
       "    <tr>\n",
       "      <th>1516</th>\n",
       "      <td>81601813-88063656-fdacf6b6-2f97c7dd-ace5238e</td>\n",
       "      <td>10035780</td>\n",
       "      <td>59076224</td>\n",
       "      <td>NaN</td>\n",
       "      <td>AP</td>\n",
       "      <td>3056</td>\n",
       "      <td>2544</td>\n",
       "      <td>21311109</td>\n",
       "      <td>91234.203</td>\n",
       "      <td>antero-posterior</td>\n",
       "      <td>Erect</td>\n",
       "      <td>NaN</td>\n",
       "    </tr>\n",
       "  </tbody>\n",
       "</table>\n",
       "</div>"
      ],
      "text/plain": [
       "                                          dicom_id  subject_id  study_id  \\\n",
       "1509  5b434f5b-7a561c59-c4869996-f2707d0f-2eff09f6    10035780  52502485   \n",
       "1510  b872a0c8-1a7c1ded-43ff067d-47d52e47-3fa5e874    10035780  53087369   \n",
       "1511  e83fe62e-4d4818fa-139761b6-c1d1d171-ed224714    10035780  53087369   \n",
       "1512  1ca83fb4-cebdf1c6-0ebd8f9d-7cb0ff82-09395c91    10035780  53120593   \n",
       "1513  8bb728f7-59213a2c-1dab5f9e-875589a2-a308d030    10035780  55343330   \n",
       "1514  efe8834c-2f3e9afb-011c86bc-4506aff3-204a3256    10035780  55343330   \n",
       "1515  06bb8f91-598d12db-baa0c122-aa071d90-d976c5a7    10035780  59076224   \n",
       "1516  81601813-88063656-fdacf6b6-2f97c7dd-ace5238e    10035780  59076224   \n",
       "\n",
       "     PerformedProcedureStepDescription ViewPosition  Rows  Columns  StudyDate  \\\n",
       "1509               CHEST (PORTABLE AP)           AP  3056     2544   21310725   \n",
       "1510                CHEST (PA AND LAT)           AP  2843     2480   21320609   \n",
       "1511                CHEST (PA AND LAT)      LATERAL  3056     2544   21320609   \n",
       "1512               CHEST (PORTABLE AP)           AP  2544     3056   21320514   \n",
       "1513                    Performed Desc           LL  2021     1560   21310807   \n",
       "1514                    Performed Desc           PA  1633     1813   21310807   \n",
       "1515                               NaN      LATERAL  3056     2544   21311109   \n",
       "1516                               NaN           AP  3056     2544   21311109   \n",
       "\n",
       "       StudyTime ProcedureCodeSequence_CodeMeaning  \\\n",
       "1509  174711.000               CHEST (PORTABLE AP)   \n",
       "1510  172416.156                CHEST (PA AND LAT)   \n",
       "1511  172416.156                CHEST (PA AND LAT)   \n",
       "1512  154031.984               CHEST (PORTABLE AP)   \n",
       "1513  153542.000                CHEST (PA AND LAT)   \n",
       "1514  153542.000                CHEST (PA AND LAT)   \n",
       "1515   91234.203                           lateral   \n",
       "1516   91234.203                  antero-posterior   \n",
       "\n",
       "     ViewCodeSequence_CodeMeaning PatientOrientationCodeSequence_CodeMeaning  \n",
       "1509             antero-posterior                                      Erect  \n",
       "1510             antero-posterior                                      Erect  \n",
       "1511                      lateral                                      Erect  \n",
       "1512             antero-posterior                                      Erect  \n",
       "1513                 left lateral                                  Recumbent  \n",
       "1514             postero-anterior                                  Recumbent  \n",
       "1515                        Erect                                        NaN  \n",
       "1516                        Erect                                        NaN  "
      ]
     },
     "execution_count": 7,
     "metadata": {},
     "output_type": "execute_result"
    }
   ],
   "source": [
    "df[df.subject_id == 10035780]"
   ]
  },
  {
   "cell_type": "code",
   "execution_count": 15,
   "metadata": {},
   "outputs": [
    {
     "name": "stdout",
     "output_type": "stream",
     "text": [
      " WET READ: ___ ___ 8:14 AM\n",
      "  \n",
      "  \n",
      "  \n",
      "  No acute cardiopulmonary process.\n",
      " WET READ VERSION #1 ___ ___ 1:21 AM\n",
      "  No acute cardiopulmonary process.\n",
      " ______________________________________________________________________________\n",
      "                                 FINAL REPORT\n",
      " EXAMINATION:  CHEST (PORTABLE AP)\n",
      " \n",
      " INDICATION:  ___ year old woman with CKD admitted for HD initiation  // Require\n",
      " (-) ppd and (-) CXR for outpatient HD.\n",
      " \n",
      " COMPARISON:  ___.\n",
      " \n",
      " IMPRESSION: \n",
      " \n",
      " Low lung volumes.  Borderline size of the cardiac silhouette.  Mild elongation\n",
      " of the descending aorta.  No pneumonia, no pneumothorax, no pleural effusions.\n",
      " No evidence of TB.\n",
      "\n"
     ]
    }
   ],
   "source": [
    "dicom_id = '81601813-88063656-fdacf6b6-2f97c7dd-ace5238e'\n",
    "part_id = imageId2partId[dicom_id]\n",
    "subject_id = 10035780\n",
    "study_id = 52502485\n",
    "print(read_txt(get_mimiccxr_report_path(part_id, subject_id, study_id)))"
   ]
  },
  {
   "cell_type": "code",
   "execution_count": 16,
   "metadata": {},
   "outputs": [
    {
     "name": "stdout",
     "output_type": "stream",
     "text": [
      "                                 FINAL REPORT\n",
      " EXAMINATION:  CHEST (PA AND LAT)\n",
      " \n",
      " INDICATION:  ___ year old woman with new leukocytosis.  // R/O infection\n",
      " \n",
      " TECHNIQUE:  Chest PA and lateral\n",
      " \n",
      " COMPARISON:  Chest radiograph dated ___.\n",
      " \n",
      " FINDINGS: \n",
      " \n",
      " There is a dialysis catheter overlying the right chest with the tip in the\n",
      " cavoatrial junction.  Heart size is stable.  The mediastinal and hilar\n",
      " contours are stable. The pulmonary vasculature is normal. Lungs are clear.  No\n",
      " pleural effusion or pneumothorax is seen. There are no acute osseous\n",
      " abnormalities.\n",
      " \n",
      " IMPRESSION: \n",
      " \n",
      " No evidence of pneumonia.\n",
      "\n"
     ]
    }
   ],
   "source": [
    "dicom_id = 'efe8834c-2f3e9afb-011c86bc-4506aff3-204a3256'\n",
    "part_id = imageId2partId[dicom_id]\n",
    "subject_id = 10035780\n",
    "study_id = 55343330\n",
    "print(read_txt(get_mimiccxr_report_path(part_id, subject_id, study_id)))"
   ]
  }
 ],
 "metadata": {
  "kernelspec": {
   "display_name": "venv2",
   "language": "python",
   "name": "venv2"
  },
  "language_info": {
   "codemirror_mode": {
    "name": "ipython",
    "version": 3
   },
   "file_extension": ".py",
   "mimetype": "text/x-python",
   "name": "python",
   "nbconvert_exporter": "python",
   "pygments_lexer": "ipython3",
   "version": "3.10.10"
  }
 },
 "nbformat": 4,
 "nbformat_minor": 4
}
