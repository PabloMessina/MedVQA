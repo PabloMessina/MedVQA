{
 "cells": [
  {
   "cell_type": "code",
   "execution_count": 1,
   "metadata": {},
   "outputs": [],
   "source": [
    "from medvqa.datasets.tokenizer import Tokenizer\n",
    "from medvqa.datasets.iuxray import IUXRAY_CACHE_DIR\n",
    "from medvqa.datasets.mimiccxr import MIMICCXR_CACHE_DIR\n",
    "from medvqa.datasets.medical_tags_extractor import MedicalTagsExtractor\n",
    "from nltk.tokenize import wordpunct_tokenize\n",
    "import os\n",
    "import re"
   ]
  },
  {
   "cell_type": "code",
   "execution_count": 2,
   "metadata": {},
   "outputs": [],
   "source": [
    "iuxray_path = os.path.join(IUXRAY_CACHE_DIR, \"qa_adapted_reports__20220416_072043.json\")\n",
    "mimiccxr_path = os.path.join(MIMICCXR_CACHE_DIR, \"qa_adapted_reports__20220416_083114.json\")"
   ]
  },
  {
   "cell_type": "code",
   "execution_count": 3,
   "metadata": {},
   "outputs": [
    {
     "name": "stdout",
     "output_type": "stream",
     "text": [
      "Loading /home/pamessina/medvqa-workspace/cache/vocab__min_freq=5__from(qa_adapted_reports__20220416_072043.json;qa_adapted_reports__20220416_083114.json).pkl ...\n"
     ]
    }
   ],
   "source": [
    "tokenizer = Tokenizer([iuxray_path, mimiccxr_path], \n",
    "                      medical_terms_frequency_filename='medical_terms_frequency__20220501_191043.pkl')"
   ]
  },
  {
   "cell_type": "code",
   "execution_count": 5,
   "metadata": {},
   "outputs": [
    {
     "data": {
      "text/plain": [
       "'<s> heart . . . , . , lungs </s>'"
      ]
     },
     "execution_count": 5,
     "metadata": {},
     "output_type": "execute_result"
    }
   ],
   "source": [
    "tokenizer.ids2string(tokenizer.strig2medical_tag_ids('hola como estás heart attack. . . , . , lungs'))"
   ]
  },
  {
   "cell_type": "code",
   "execution_count": 6,
   "metadata": {},
   "outputs": [
    {
     "data": {
      "text/plain": [
       "'<s> osseous osseous structures , : normal </s>'"
      ]
     },
     "execution_count": 6,
     "metadata": {},
     "output_type": "execute_result"
    }
   ],
   "source": [
    "tokenizer.ids2string(tokenizer.strig2medical_tag_ids('skeleton and bones structures, ,,, : unremarkable'))"
   ]
  }
 ],
 "metadata": {
  "kernelspec": {
   "display_name": "Python 3",
   "language": "python",
   "name": "python3"
  },
  "language_info": {
   "codemirror_mode": {
    "name": "ipython",
    "version": 3
   },
   "file_extension": ".py",
   "mimetype": "text/x-python",
   "name": "python",
   "nbconvert_exporter": "python",
   "pygments_lexer": "ipython3",
   "version": "3.6.9"
  }
 },
 "nbformat": 4,
 "nbformat_minor": 4
}
