{
 "cells": [
  {
   "cell_type": "code",
   "execution_count": 1,
   "metadata": {},
   "outputs": [
    {
     "name": "stdout",
     "output_type": "stream",
     "text": [
      "env: CUDA_VISIBLE_DEVICES=0\n"
     ]
    }
   ],
   "source": [
    "%env CUDA_VISIBLE_DEVICES=0"
   ]
  },
  {
   "cell_type": "code",
   "execution_count": 2,
   "metadata": {},
   "outputs": [],
   "source": [
    "import torchvision.models as models\n",
    "import torch\n",
    "import torch.nn as nn\n",
    "import medvqa\n",
    "from importlib import reload"
   ]
  },
  {
   "cell_type": "code",
   "execution_count": 18,
   "metadata": {},
   "outputs": [],
   "source": [
    "X_img = torch.rand(3, 9, 5)\n",
    "X_p = torch.rand(3, 4, 5)"
   ]
  },
  {
   "cell_type": "code",
   "execution_count": 19,
   "metadata": {
    "scrolled": true
   },
   "outputs": [
    {
     "data": {
      "text/plain": [
       "(tensor([[[0.6588, 0.1172, 0.7249, 0.4767, 0.9591],\n",
       "          [0.0534, 0.0162, 0.1109, 0.5247, 0.7599],\n",
       "          [0.2589, 0.0994, 0.7275, 0.8573, 0.5266],\n",
       "          [0.9412, 0.9412, 0.4805, 0.1644, 0.5976],\n",
       "          [0.5531, 0.2986, 0.0520, 0.8480, 0.4089],\n",
       "          [0.2109, 0.2914, 0.9323, 0.6878, 0.4152],\n",
       "          [0.9007, 0.6001, 0.5335, 0.5847, 0.2113],\n",
       "          [0.1323, 0.2430, 0.1032, 0.6317, 0.6760],\n",
       "          [0.3530, 0.5641, 0.0498, 0.0578, 0.8478]],\n",
       " \n",
       "         [[0.9078, 0.4368, 0.5504, 0.4209, 0.9427],\n",
       "          [0.3060, 0.5426, 0.7139, 0.8106, 0.4349],\n",
       "          [0.1742, 0.6740, 0.5641, 0.6185, 0.2979],\n",
       "          [0.9770, 0.9013, 0.9362, 0.6552, 0.7226],\n",
       "          [0.9587, 0.5567, 0.9956, 0.3197, 0.5510],\n",
       "          [0.4163, 0.4865, 0.0933, 0.4464, 0.1467],\n",
       "          [0.6607, 0.6462, 0.6645, 0.2047, 0.5548],\n",
       "          [0.5901, 0.0348, 0.1829, 0.6226, 0.5177],\n",
       "          [0.4563, 0.3868, 0.1813, 0.3611, 0.7824]],\n",
       " \n",
       "         [[0.3548, 0.5287, 0.8975, 0.7151, 0.7802],\n",
       "          [0.4655, 0.9833, 0.1971, 0.1750, 0.9305],\n",
       "          [0.3906, 0.1350, 0.2590, 0.2741, 0.7455],\n",
       "          [0.3265, 0.2242, 0.8598, 0.9724, 0.3062],\n",
       "          [0.7466, 0.8704, 0.8833, 0.0744, 0.4579],\n",
       "          [0.2467, 0.9121, 0.5700, 0.0577, 0.7495],\n",
       "          [0.4101, 0.2721, 0.1158, 0.8381, 0.9205],\n",
       "          [0.4577, 0.2210, 0.2068, 0.0019, 0.1079],\n",
       "          [0.7616, 0.6934, 0.0966, 0.4155, 0.1009]]]),\n",
       " tensor([[[0.2498, 0.1069, 0.8564, 0.1481, 0.1594],\n",
       "          [0.7661, 0.8230, 0.1665, 0.5940, 0.9768],\n",
       "          [0.5896, 0.4133, 0.4982, 0.9456, 0.5285],\n",
       "          [0.3796, 0.7437, 0.6134, 0.9185, 0.5094]],\n",
       " \n",
       "         [[0.4137, 0.8304, 0.5043, 0.8849, 0.1098],\n",
       "          [0.3419, 0.2658, 0.2754, 0.5857, 0.3164],\n",
       "          [0.8783, 0.8623, 0.1971, 0.0632, 0.3100],\n",
       "          [0.4035, 0.6731, 0.0692, 0.9540, 0.0232]],\n",
       " \n",
       "         [[0.4148, 0.1411, 0.1688, 0.5961, 0.1077],\n",
       "          [0.1888, 0.6739, 0.4029, 0.6987, 0.8475],\n",
       "          [0.5353, 0.9507, 0.0420, 0.0918, 0.9429],\n",
       "          [0.4223, 0.0710, 0.9098, 0.5664, 0.7991]]]))"
      ]
     },
     "execution_count": 19,
     "metadata": {},
     "output_type": "execute_result"
    }
   ],
   "source": [
    "X_img, X_p"
   ]
  },
  {
   "cell_type": "code",
   "execution_count": 20,
   "metadata": {},
   "outputs": [],
   "source": [
    "X_img = X_img.unsqueeze(1).expand(-1, X_p.size(1), -1, -1)\n",
    "\n",
    "X_p = X_p.unsqueeze(2)\n",
    "\n",
    "X_concat = torch.cat((X_p, X_img), dim=2)"
   ]
  },
  {
   "cell_type": "code",
   "execution_count": 21,
   "metadata": {
    "scrolled": false
   },
   "outputs": [
    {
     "data": {
      "text/plain": [
       "torch.Size([3, 4, 9, 5])"
      ]
     },
     "execution_count": 21,
     "metadata": {},
     "output_type": "execute_result"
    }
   ],
   "source": [
    "X_img.shape"
   ]
  },
  {
   "cell_type": "code",
   "execution_count": 22,
   "metadata": {
    "scrolled": true
   },
   "outputs": [
    {
     "data": {
      "text/plain": [
       "tensor([[[[0.6588, 0.1172, 0.7249, 0.4767, 0.9591],\n",
       "          [0.0534, 0.0162, 0.1109, 0.5247, 0.7599],\n",
       "          [0.2589, 0.0994, 0.7275, 0.8573, 0.5266],\n",
       "          [0.9412, 0.9412, 0.4805, 0.1644, 0.5976],\n",
       "          [0.5531, 0.2986, 0.0520, 0.8480, 0.4089],\n",
       "          [0.2109, 0.2914, 0.9323, 0.6878, 0.4152],\n",
       "          [0.9007, 0.6001, 0.5335, 0.5847, 0.2113],\n",
       "          [0.1323, 0.2430, 0.1032, 0.6317, 0.6760],\n",
       "          [0.3530, 0.5641, 0.0498, 0.0578, 0.8478]],\n",
       "\n",
       "         [[0.6588, 0.1172, 0.7249, 0.4767, 0.9591],\n",
       "          [0.0534, 0.0162, 0.1109, 0.5247, 0.7599],\n",
       "          [0.2589, 0.0994, 0.7275, 0.8573, 0.5266],\n",
       "          [0.9412, 0.9412, 0.4805, 0.1644, 0.5976],\n",
       "          [0.5531, 0.2986, 0.0520, 0.8480, 0.4089],\n",
       "          [0.2109, 0.2914, 0.9323, 0.6878, 0.4152],\n",
       "          [0.9007, 0.6001, 0.5335, 0.5847, 0.2113],\n",
       "          [0.1323, 0.2430, 0.1032, 0.6317, 0.6760],\n",
       "          [0.3530, 0.5641, 0.0498, 0.0578, 0.8478]],\n",
       "\n",
       "         [[0.6588, 0.1172, 0.7249, 0.4767, 0.9591],\n",
       "          [0.0534, 0.0162, 0.1109, 0.5247, 0.7599],\n",
       "          [0.2589, 0.0994, 0.7275, 0.8573, 0.5266],\n",
       "          [0.9412, 0.9412, 0.4805, 0.1644, 0.5976],\n",
       "          [0.5531, 0.2986, 0.0520, 0.8480, 0.4089],\n",
       "          [0.2109, 0.2914, 0.9323, 0.6878, 0.4152],\n",
       "          [0.9007, 0.6001, 0.5335, 0.5847, 0.2113],\n",
       "          [0.1323, 0.2430, 0.1032, 0.6317, 0.6760],\n",
       "          [0.3530, 0.5641, 0.0498, 0.0578, 0.8478]],\n",
       "\n",
       "         [[0.6588, 0.1172, 0.7249, 0.4767, 0.9591],\n",
       "          [0.0534, 0.0162, 0.1109, 0.5247, 0.7599],\n",
       "          [0.2589, 0.0994, 0.7275, 0.8573, 0.5266],\n",
       "          [0.9412, 0.9412, 0.4805, 0.1644, 0.5976],\n",
       "          [0.5531, 0.2986, 0.0520, 0.8480, 0.4089],\n",
       "          [0.2109, 0.2914, 0.9323, 0.6878, 0.4152],\n",
       "          [0.9007, 0.6001, 0.5335, 0.5847, 0.2113],\n",
       "          [0.1323, 0.2430, 0.1032, 0.6317, 0.6760],\n",
       "          [0.3530, 0.5641, 0.0498, 0.0578, 0.8478]]],\n",
       "\n",
       "\n",
       "        [[[0.9078, 0.4368, 0.5504, 0.4209, 0.9427],\n",
       "          [0.3060, 0.5426, 0.7139, 0.8106, 0.4349],\n",
       "          [0.1742, 0.6740, 0.5641, 0.6185, 0.2979],\n",
       "          [0.9770, 0.9013, 0.9362, 0.6552, 0.7226],\n",
       "          [0.9587, 0.5567, 0.9956, 0.3197, 0.5510],\n",
       "          [0.4163, 0.4865, 0.0933, 0.4464, 0.1467],\n",
       "          [0.6607, 0.6462, 0.6645, 0.2047, 0.5548],\n",
       "          [0.5901, 0.0348, 0.1829, 0.6226, 0.5177],\n",
       "          [0.4563, 0.3868, 0.1813, 0.3611, 0.7824]],\n",
       "\n",
       "         [[0.9078, 0.4368, 0.5504, 0.4209, 0.9427],\n",
       "          [0.3060, 0.5426, 0.7139, 0.8106, 0.4349],\n",
       "          [0.1742, 0.6740, 0.5641, 0.6185, 0.2979],\n",
       "          [0.9770, 0.9013, 0.9362, 0.6552, 0.7226],\n",
       "          [0.9587, 0.5567, 0.9956, 0.3197, 0.5510],\n",
       "          [0.4163, 0.4865, 0.0933, 0.4464, 0.1467],\n",
       "          [0.6607, 0.6462, 0.6645, 0.2047, 0.5548],\n",
       "          [0.5901, 0.0348, 0.1829, 0.6226, 0.5177],\n",
       "          [0.4563, 0.3868, 0.1813, 0.3611, 0.7824]],\n",
       "\n",
       "         [[0.9078, 0.4368, 0.5504, 0.4209, 0.9427],\n",
       "          [0.3060, 0.5426, 0.7139, 0.8106, 0.4349],\n",
       "          [0.1742, 0.6740, 0.5641, 0.6185, 0.2979],\n",
       "          [0.9770, 0.9013, 0.9362, 0.6552, 0.7226],\n",
       "          [0.9587, 0.5567, 0.9956, 0.3197, 0.5510],\n",
       "          [0.4163, 0.4865, 0.0933, 0.4464, 0.1467],\n",
       "          [0.6607, 0.6462, 0.6645, 0.2047, 0.5548],\n",
       "          [0.5901, 0.0348, 0.1829, 0.6226, 0.5177],\n",
       "          [0.4563, 0.3868, 0.1813, 0.3611, 0.7824]],\n",
       "\n",
       "         [[0.9078, 0.4368, 0.5504, 0.4209, 0.9427],\n",
       "          [0.3060, 0.5426, 0.7139, 0.8106, 0.4349],\n",
       "          [0.1742, 0.6740, 0.5641, 0.6185, 0.2979],\n",
       "          [0.9770, 0.9013, 0.9362, 0.6552, 0.7226],\n",
       "          [0.9587, 0.5567, 0.9956, 0.3197, 0.5510],\n",
       "          [0.4163, 0.4865, 0.0933, 0.4464, 0.1467],\n",
       "          [0.6607, 0.6462, 0.6645, 0.2047, 0.5548],\n",
       "          [0.5901, 0.0348, 0.1829, 0.6226, 0.5177],\n",
       "          [0.4563, 0.3868, 0.1813, 0.3611, 0.7824]]],\n",
       "\n",
       "\n",
       "        [[[0.3548, 0.5287, 0.8975, 0.7151, 0.7802],\n",
       "          [0.4655, 0.9833, 0.1971, 0.1750, 0.9305],\n",
       "          [0.3906, 0.1350, 0.2590, 0.2741, 0.7455],\n",
       "          [0.3265, 0.2242, 0.8598, 0.9724, 0.3062],\n",
       "          [0.7466, 0.8704, 0.8833, 0.0744, 0.4579],\n",
       "          [0.2467, 0.9121, 0.5700, 0.0577, 0.7495],\n",
       "          [0.4101, 0.2721, 0.1158, 0.8381, 0.9205],\n",
       "          [0.4577, 0.2210, 0.2068, 0.0019, 0.1079],\n",
       "          [0.7616, 0.6934, 0.0966, 0.4155, 0.1009]],\n",
       "\n",
       "         [[0.3548, 0.5287, 0.8975, 0.7151, 0.7802],\n",
       "          [0.4655, 0.9833, 0.1971, 0.1750, 0.9305],\n",
       "          [0.3906, 0.1350, 0.2590, 0.2741, 0.7455],\n",
       "          [0.3265, 0.2242, 0.8598, 0.9724, 0.3062],\n",
       "          [0.7466, 0.8704, 0.8833, 0.0744, 0.4579],\n",
       "          [0.2467, 0.9121, 0.5700, 0.0577, 0.7495],\n",
       "          [0.4101, 0.2721, 0.1158, 0.8381, 0.9205],\n",
       "          [0.4577, 0.2210, 0.2068, 0.0019, 0.1079],\n",
       "          [0.7616, 0.6934, 0.0966, 0.4155, 0.1009]],\n",
       "\n",
       "         [[0.3548, 0.5287, 0.8975, 0.7151, 0.7802],\n",
       "          [0.4655, 0.9833, 0.1971, 0.1750, 0.9305],\n",
       "          [0.3906, 0.1350, 0.2590, 0.2741, 0.7455],\n",
       "          [0.3265, 0.2242, 0.8598, 0.9724, 0.3062],\n",
       "          [0.7466, 0.8704, 0.8833, 0.0744, 0.4579],\n",
       "          [0.2467, 0.9121, 0.5700, 0.0577, 0.7495],\n",
       "          [0.4101, 0.2721, 0.1158, 0.8381, 0.9205],\n",
       "          [0.4577, 0.2210, 0.2068, 0.0019, 0.1079],\n",
       "          [0.7616, 0.6934, 0.0966, 0.4155, 0.1009]],\n",
       "\n",
       "         [[0.3548, 0.5287, 0.8975, 0.7151, 0.7802],\n",
       "          [0.4655, 0.9833, 0.1971, 0.1750, 0.9305],\n",
       "          [0.3906, 0.1350, 0.2590, 0.2741, 0.7455],\n",
       "          [0.3265, 0.2242, 0.8598, 0.9724, 0.3062],\n",
       "          [0.7466, 0.8704, 0.8833, 0.0744, 0.4579],\n",
       "          [0.2467, 0.9121, 0.5700, 0.0577, 0.7495],\n",
       "          [0.4101, 0.2721, 0.1158, 0.8381, 0.9205],\n",
       "          [0.4577, 0.2210, 0.2068, 0.0019, 0.1079],\n",
       "          [0.7616, 0.6934, 0.0966, 0.4155, 0.1009]]]])"
      ]
     },
     "execution_count": 22,
     "metadata": {},
     "output_type": "execute_result"
    }
   ],
   "source": [
    "X_img"
   ]
  },
  {
   "cell_type": "code",
   "execution_count": 15,
   "metadata": {},
   "outputs": [
    {
     "data": {
      "text/plain": [
       "torch.Size([3, 4, 1, 5])"
      ]
     },
     "execution_count": 15,
     "metadata": {},
     "output_type": "execute_result"
    }
   ],
   "source": [
    "X_p.shape"
   ]
  },
  {
   "cell_type": "code",
   "execution_count": 16,
   "metadata": {
    "scrolled": true
   },
   "outputs": [
    {
     "data": {
      "text/plain": [
       "tensor([[[[0.4964, 0.2060, 0.1891, 0.2111, 0.0695]],\n",
       "\n",
       "         [[0.4605, 0.7170, 0.0621, 0.6113, 0.0297]],\n",
       "\n",
       "         [[0.8787, 0.6520, 0.0037, 0.2185, 0.5683]],\n",
       "\n",
       "         [[0.1213, 0.9927, 0.5936, 0.8538, 0.5697]]],\n",
       "\n",
       "\n",
       "        [[[0.3638, 0.9723, 0.8514, 0.9982, 0.9262]],\n",
       "\n",
       "         [[0.9035, 0.2926, 0.1462, 0.4874, 0.4531]],\n",
       "\n",
       "         [[0.6280, 0.1764, 0.2794, 0.8178, 0.9047]],\n",
       "\n",
       "         [[0.4996, 0.0254, 0.6290, 0.4638, 0.0191]]],\n",
       "\n",
       "\n",
       "        [[[0.9961, 0.0028, 0.7636, 0.6620, 0.7969]],\n",
       "\n",
       "         [[0.3818, 0.5811, 0.5576, 0.0052, 0.2201]],\n",
       "\n",
       "         [[0.0728, 0.0120, 0.8613, 0.1844, 0.9980]],\n",
       "\n",
       "         [[0.9343, 0.9276, 0.9611, 0.1742, 0.2248]]]])"
      ]
     },
     "execution_count": 16,
     "metadata": {},
     "output_type": "execute_result"
    }
   ],
   "source": [
    "X_p"
   ]
  },
  {
   "cell_type": "code",
   "execution_count": 10,
   "metadata": {},
   "outputs": [
    {
     "data": {
      "text/plain": [
       "torch.Size([3, 4, 10, 5])"
      ]
     },
     "execution_count": 10,
     "metadata": {},
     "output_type": "execute_result"
    }
   ],
   "source": [
    "X_concat.shape"
   ]
  },
  {
   "cell_type": "code",
   "execution_count": 17,
   "metadata": {},
   "outputs": [
    {
     "data": {
      "text/plain": [
       "tensor([[[0.3638, 0.9723, 0.8514, 0.9982, 0.9262],\n",
       "         [0.5844, 0.6913, 0.2713, 0.9370, 0.5356],\n",
       "         [0.4260, 0.9921, 0.4503, 0.9168, 0.4406],\n",
       "         [0.1749, 0.5050, 0.1900, 0.4415, 0.0981],\n",
       "         [0.5524, 0.7273, 0.2965, 0.0156, 0.4983],\n",
       "         [0.3504, 0.7392, 0.7636, 0.5351, 0.7405],\n",
       "         [0.9383, 0.1348, 0.3232, 0.2274, 0.2499],\n",
       "         [0.7439, 0.2111, 0.4863, 0.2655, 0.4155],\n",
       "         [0.4706, 0.1429, 0.7417, 0.6085, 0.3931],\n",
       "         [0.9943, 0.4565, 0.6805, 0.2267, 0.3703]],\n",
       "\n",
       "        [[0.9035, 0.2926, 0.1462, 0.4874, 0.4531],\n",
       "         [0.5844, 0.6913, 0.2713, 0.9370, 0.5356],\n",
       "         [0.4260, 0.9921, 0.4503, 0.9168, 0.4406],\n",
       "         [0.1749, 0.5050, 0.1900, 0.4415, 0.0981],\n",
       "         [0.5524, 0.7273, 0.2965, 0.0156, 0.4983],\n",
       "         [0.3504, 0.7392, 0.7636, 0.5351, 0.7405],\n",
       "         [0.9383, 0.1348, 0.3232, 0.2274, 0.2499],\n",
       "         [0.7439, 0.2111, 0.4863, 0.2655, 0.4155],\n",
       "         [0.4706, 0.1429, 0.7417, 0.6085, 0.3931],\n",
       "         [0.9943, 0.4565, 0.6805, 0.2267, 0.3703]],\n",
       "\n",
       "        [[0.6280, 0.1764, 0.2794, 0.8178, 0.9047],\n",
       "         [0.5844, 0.6913, 0.2713, 0.9370, 0.5356],\n",
       "         [0.4260, 0.9921, 0.4503, 0.9168, 0.4406],\n",
       "         [0.1749, 0.5050, 0.1900, 0.4415, 0.0981],\n",
       "         [0.5524, 0.7273, 0.2965, 0.0156, 0.4983],\n",
       "         [0.3504, 0.7392, 0.7636, 0.5351, 0.7405],\n",
       "         [0.9383, 0.1348, 0.3232, 0.2274, 0.2499],\n",
       "         [0.7439, 0.2111, 0.4863, 0.2655, 0.4155],\n",
       "         [0.4706, 0.1429, 0.7417, 0.6085, 0.3931],\n",
       "         [0.9943, 0.4565, 0.6805, 0.2267, 0.3703]],\n",
       "\n",
       "        [[0.4996, 0.0254, 0.6290, 0.4638, 0.0191],\n",
       "         [0.5844, 0.6913, 0.2713, 0.9370, 0.5356],\n",
       "         [0.4260, 0.9921, 0.4503, 0.9168, 0.4406],\n",
       "         [0.1749, 0.5050, 0.1900, 0.4415, 0.0981],\n",
       "         [0.5524, 0.7273, 0.2965, 0.0156, 0.4983],\n",
       "         [0.3504, 0.7392, 0.7636, 0.5351, 0.7405],\n",
       "         [0.9383, 0.1348, 0.3232, 0.2274, 0.2499],\n",
       "         [0.7439, 0.2111, 0.4863, 0.2655, 0.4155],\n",
       "         [0.4706, 0.1429, 0.7417, 0.6085, 0.3931],\n",
       "         [0.9943, 0.4565, 0.6805, 0.2267, 0.3703]]])"
      ]
     },
     "execution_count": 17,
     "metadata": {},
     "output_type": "execute_result"
    }
   ],
   "source": [
    "X_concat[1]"
   ]
  },
  {
   "cell_type": "code",
   "execution_count": 23,
   "metadata": {
    "scrolled": true
   },
   "outputs": [
    {
     "data": {
      "text/plain": [
       "torch.Size([3, 4, 10, 5])"
      ]
     },
     "execution_count": 23,
     "metadata": {},
     "output_type": "execute_result"
    }
   ],
   "source": [
    "X_concat.shape"
   ]
  },
  {
   "cell_type": "code",
   "execution_count": 30,
   "metadata": {},
   "outputs": [],
   "source": [
    "B = 8  # Batch size\n",
    "N = 10  # Sequence length\n",
    "D = 32  # Embedding dimension\n",
    "num_heads = 4  # Number of attention heads\n",
    "dim_feedforward = 64  # Dimension of the feedforward layer\n",
    "num_layers = 2  # Number of Transformer encoder layers\n",
    "\n",
    "# Create a random tensor to represent a batch of sequences\n",
    "x = torch.randn(B, N, D)\n",
    "\n",
    "# Define a Transformer Encoder Layer\n",
    "encoder_layer = nn.TransformerEncoderLayer(d_model=D, nhead=num_heads, dim_feedforward=dim_feedforward, batch_first=True)\n",
    "\n",
    "# Define the Transformer Encoder with multiple layers\n",
    "transformer_encoder = nn.TransformerEncoder(encoder_layer, num_layers=num_layers)"
   ]
  },
  {
   "cell_type": "code",
   "execution_count": 31,
   "metadata": {},
   "outputs": [
    {
     "data": {
      "text/plain": [
       "torch.Size([8, 10, 32])"
      ]
     },
     "execution_count": 31,
     "metadata": {},
     "output_type": "execute_result"
    }
   ],
   "source": [
    "transformer_encoder(x).shape"
   ]
  },
  {
   "cell_type": "code",
   "execution_count": 3,
   "metadata": {},
   "outputs": [],
   "source": [
    "densenet = models.densenet121(pretrained=False)"
   ]
  },
  {
   "cell_type": "code",
   "execution_count": 19,
   "metadata": {},
   "outputs": [],
   "source": [
    "path = \"/home/pdpino/workspace-medical-ai/public_checkpoints/cls-0321_052008_chexpert_densenet-121-v2_drop0.3_labels13_normS_wd1e-05_size256_lr0.0001_sch-roc_auc-p3-f0.5_shuffle.pt\"\n",
    "checkpoint = torch.load(path, map_location='cuda')"
   ]
  },
  {
   "cell_type": "code",
   "execution_count": 30,
   "metadata": {},
   "outputs": [],
   "source": [
    "del checkpoint[\"prediction.weight\"]\n",
    "del checkpoint[\"prediction.bias\"]"
   ]
  },
  {
   "cell_type": "code",
   "execution_count": 27,
   "metadata": {},
   "outputs": [],
   "source": [
    "densenet.classifier = None"
   ]
  },
  {
   "cell_type": "code",
   "execution_count": 31,
   "metadata": {
    "scrolled": true
   },
   "outputs": [
    {
     "data": {
      "text/plain": [
       "<All keys matched successfully>"
      ]
     },
     "execution_count": 31,
     "metadata": {},
     "output_type": "execute_result"
    }
   ],
   "source": [
    "densenet.load_state_dict(checkpoint)"
   ]
  },
  {
   "cell_type": "code",
   "execution_count": 5,
   "metadata": {},
   "outputs": [],
   "source": [
    "BS = 5 # batch_size\n",
    "images = torch.rand(BS, 3, 256, 256)"
   ]
  },
  {
   "cell_type": "code",
   "execution_count": 8,
   "metadata": {},
   "outputs": [
    {
     "data": {
      "text/plain": [
       "torch.Size([5, 1000])"
      ]
     },
     "execution_count": 8,
     "metadata": {},
     "output_type": "execute_result"
    }
   ],
   "source": [
    "densenet(images).shape"
   ]
  },
  {
   "cell_type": "code",
   "execution_count": 12,
   "metadata": {},
   "outputs": [],
   "source": [
    "image_encoder = nn.Sequential(*list(densenet.children())[:-1])"
   ]
  },
  {
   "cell_type": "code",
   "execution_count": 9,
   "metadata": {},
   "outputs": [
    {
     "data": {
      "text/plain": [
       "torch.Size([5, 1024, 8, 8])"
      ]
     },
     "execution_count": 9,
     "metadata": {},
     "output_type": "execute_result"
    }
   ],
   "source": [
    "densenet.features(images).shape"
   ]
  },
  {
   "cell_type": "code",
   "execution_count": 13,
   "metadata": {},
   "outputs": [
    {
     "data": {
      "text/plain": [
       "torch.Size([5, 1024, 8, 8])"
      ]
     },
     "execution_count": 13,
     "metadata": {},
     "output_type": "execute_result"
    }
   ],
   "source": [
    "image_encoder(images).shape"
   ]
  },
  {
   "cell_type": "code",
   "execution_count": 1,
   "metadata": {},
   "outputs": [],
   "source": [
    "from medvqa.datasets.medical_tags_extractor import MedicalTagsExtractor"
   ]
  },
  {
   "cell_type": "code",
   "execution_count": 2,
   "metadata": {},
   "outputs": [],
   "source": [
    "med_tags_extractor = MedicalTagsExtractor('medical_terms_frequency__20220317_145545.pkl')"
   ]
  },
  {
   "cell_type": "code",
   "execution_count": 4,
   "metadata": {},
   "outputs": [
    {
     "name": "stdout",
     "output_type": "stream",
     "text": [
      "['lung', 'obscured', 'effusion', 'consolidation', 'pneumonia', 'base', 'moderate', 'size', 'atelectasis', 'heart', 'lobe', 'small', 'right', 'enlarged', 'left', 'pleural', 'lower']\n",
      "['lung', 'obscured', 'effusion', 'consolidation', 'pneumonia', 'base', 'moderate', 'size', 'atelectasis', 'heart', 'lobe', 'small', 'right', 'enlarged', 'left', 'pleural', 'lower']\n"
     ]
    }
   ],
   "source": [
    "_text = 'small right and moderate left pleural effusions are improving revealing stable moderate size consolidation at the right lung base that could be atelectasis or pneumonia and improved left lower lobe atelectasis. Heart is probably moderately enlarged so substantially obscured by pleural effusion and atelectasis'\n",
    "list1 = med_tags_extractor.extract_tags(_text)\n",
    "list2 = [med_tags_extractor.tags[x] for x in med_tags_extractor.extract_tag_ids(_text)]\n",
    "assert sorted(list1) == sorted(list2)\n",
    "print(list1)\n",
    "print(list2)"
   ]
  },
  {
   "cell_type": "code",
   "execution_count": 5,
   "metadata": {},
   "outputs": [
    {
     "data": {
      "text/plain": [
       "1956"
      ]
     },
     "execution_count": 5,
     "metadata": {},
     "output_type": "execute_result"
    }
   ],
   "source": [
    "len(med_tags_extractor.tags)"
   ]
  },
  {
   "cell_type": "code",
   "execution_count": 9,
   "metadata": {},
   "outputs": [],
   "source": [
    "from sklearn.metrics import accuracy_score"
   ]
  },
  {
   "cell_type": "code",
   "execution_count": 26,
   "metadata": {},
   "outputs": [
    {
     "data": {
      "text/plain": [
       "tensor([-0.0922,  0.4901,  0.0535,  0.0776, -0.3434, -0.2360, -0.4179,  0.2466,\n",
       "        -0.3487])"
      ]
     },
     "execution_count": 26,
     "metadata": {},
     "output_type": "execute_result"
    }
   ],
   "source": [
    "torch.rand(9) - 0.5"
   ]
  },
  {
   "cell_type": "code",
   "execution_count": 8,
   "metadata": {},
   "outputs": [
    {
     "data": {
      "text/plain": [
       "0.28571428571428575"
      ]
     },
     "execution_count": 8,
     "metadata": {},
     "output_type": "execute_result"
    }
   ],
   "source": [
    "f1_score([1,1,1,0,0,0,0,0,0], (torch.rand(9) - 0.5) > 0)"
   ]
  },
  {
   "cell_type": "code",
   "execution_count": 4,
   "metadata": {},
   "outputs": [],
   "source": [
    "from medvqa.metrics.classification.multilabel_f1score import f1_score"
   ]
  },
  {
   "cell_type": "code",
   "execution_count": 12,
   "metadata": {},
   "outputs": [
    {
     "data": {
      "text/plain": [
       "0.75"
      ]
     },
     "execution_count": 12,
     "metadata": {},
     "output_type": "execute_result"
    }
   ],
   "source": [
    "accuracy_score([0,0,0,1], [0,1,0,1])"
   ]
  },
  {
   "cell_type": "code",
   "execution_count": 19,
   "metadata": {},
   "outputs": [
    {
     "data": {
      "text/plain": [
       "tensor([[True, True, True, True, True, True, True, True, True, True],\n",
       "        [True, True, True, True, True, True, True, True, True, True],\n",
       "        [True, True, True, True, True, True, True, True, True, True],\n",
       "        [True, True, True, True, True, True, True, True, True, True],\n",
       "        [True, True, True, True, True, True, True, True, True, True]])"
      ]
     },
     "execution_count": 19,
     "metadata": {},
     "output_type": "execute_result"
    }
   ],
   "source": [
    "(torch.rand(5, 10).detach() > 0) == 1"
   ]
  },
  {
   "cell_type": "code",
   "execution_count": 39,
   "metadata": {},
   "outputs": [],
   "source": [
    "from sklearn.preprocessing import MultiLabelBinarizer"
   ]
  },
  {
   "cell_type": "code",
   "execution_count": 45,
   "metadata": {},
   "outputs": [
    {
     "data": {
      "text/plain": [
       "[[1], [2, 4]]"
      ]
     },
     "execution_count": 45,
     "metadata": {},
     "output_type": "execute_result"
    }
   ],
   "source": [
    "aux = [[1], [2,4]]"
   ]
  },
  {
   "cell_type": "code",
   "execution_count": 62,
   "metadata": {},
   "outputs": [],
   "source": [
    "x = MultiLabelBinarizer(list(range(10))).fit_transform([[1], [0, 0, 0, 0, 5]])"
   ]
  },
  {
   "cell_type": "code",
   "execution_count": 63,
   "metadata": {},
   "outputs": [
    {
     "data": {
      "text/plain": [
       "array([[0, 1, 0, 0, 0, 0, 0, 0, 0, 0],\n",
       "       [1, 0, 0, 0, 0, 1, 0, 0, 0, 0]])"
      ]
     },
     "execution_count": 63,
     "metadata": {},
     "output_type": "execute_result"
    }
   ],
   "source": [
    "x"
   ]
  },
  {
   "cell_type": "code",
   "execution_count": 57,
   "metadata": {},
   "outputs": [
    {
     "data": {
      "text/plain": [
       "<2x10 sparse matrix of type '<class 'numpy.int64'>'\n",
       "\twith 4 stored elements in Compressed Sparse Row format>"
      ]
     },
     "execution_count": 57,
     "metadata": {},
     "output_type": "execute_result"
    }
   ],
   "source": [
    "x"
   ]
  },
  {
   "cell_type": "code",
   "execution_count": 9,
   "metadata": {},
   "outputs": [
    {
     "data": {
      "text/plain": [
       "False"
      ]
     },
     "execution_count": 9,
     "metadata": {},
     "output_type": "execute_result"
    }
   ],
   "source": [
    "type(\"asfasdf\") is list"
   ]
  },
  {
   "cell_type": "code",
   "execution_count": 1,
   "metadata": {},
   "outputs": [],
   "source": [
    "from medvqa.datasets.mimiccxr.mimiccxr_vqa_dataset_management import MIMICCXR_VQA_Trainer"
   ]
  },
  {
   "cell_type": "code",
   "execution_count": 11,
   "metadata": {},
   "outputs": [],
   "source": [
    "tokenizer = Tokenizer(qa_adapted_filenames=[iuxray_qa_adapted_reports_filename,\n",
    "                                                mimiccxr_qa_adapted_reports_filename],\n",
    "                          qa_adapted_datasets=[iuxray_qa_reports, mimiccxr_qa_reports],\n",
    "                          min_freq=vocab_min_freq)\n",
    "mvt = MIMICCXR_VQA_Trainer()"
   ]
  },
  {
   "cell_type": "code",
   "execution_count": 21,
   "metadata": {},
   "outputs": [
    {
     "name": "stdout",
     "output_type": "stream",
     "text": [
      "True\n"
     ]
    },
    {
     "data": {
      "text/plain": [
       "True"
      ]
     },
     "execution_count": 21,
     "metadata": {},
     "output_type": "execute_result"
    }
   ],
   "source": [
    "x = torch.rand([])\n",
    "print(hasattr(x, '__len__'))\n",
    "type(x) is torch.Tensor"
   ]
  },
  {
   "cell_type": "code",
   "execution_count": 22,
   "metadata": {},
   "outputs": [],
   "source": [
    "import numbers"
   ]
  },
  {
   "cell_type": "code",
   "execution_count": 26,
   "metadata": {},
   "outputs": [
    {
     "data": {
      "text/plain": [
       "True"
      ]
     },
     "execution_count": 26,
     "metadata": {},
     "output_type": "execute_result"
    }
   ],
   "source": [
    "isinstance(x.item(), numbers.Number)"
   ]
  },
  {
   "cell_type": "code",
   "execution_count": 35,
   "metadata": {},
   "outputs": [
    {
     "data": {
      "text/plain": [
       "True"
      ]
     },
     "execution_count": 35,
     "metadata": {},
     "output_type": "execute_result"
    }
   ],
   "source": [
    "isinstance((x == x).item(), numbers.Number)"
   ]
  },
  {
   "cell_type": "code",
   "execution_count": 33,
   "metadata": {},
   "outputs": [
    {
     "data": {
      "text/plain": [
       "int"
      ]
     },
     "execution_count": 33,
     "metadata": {},
     "output_type": "execute_result"
    }
   ],
   "source": [
    "type(y)"
   ]
  },
  {
   "cell_type": "code",
   "execution_count": 18,
   "metadata": {},
   "outputs": [
    {
     "data": {
      "text/plain": [
       "'(55, 23, 3, 555)'"
      ]
     },
     "execution_count": 18,
     "metadata": {},
     "output_type": "execute_result"
    }
   ],
   "source": [
    "x = {'asdf': 23, 'sdfsd':3, 'aaaa': 55, 'zzz':555}\n",
    "vals = tuple(x[k] for k in sorted(list(x.keys())))\n",
    "f'{vals}'"
   ]
  },
  {
   "cell_type": "code",
   "execution_count": 21,
   "metadata": {},
   "outputs": [],
   "source": [
    "from medvqa.utils.files import load_json_file\n",
    "from medvqa.datasets.iuxray import IUXRAY_CACHE_DIR\n",
    "import os"
   ]
  },
  {
   "cell_type": "code",
   "execution_count": 22,
   "metadata": {},
   "outputs": [],
   "source": [
    "iuxray_reports = load_json_file(os.path.join(IUXRAY_CACHE_DIR, 'qa_adapted_reports__20220324_143133.json'))"
   ]
  },
  {
   "cell_type": "code",
   "execution_count": 24,
   "metadata": {},
   "outputs": [
    {
     "data": {
      "text/plain": [
       "'pneumatocele?'"
      ]
     },
     "execution_count": 24,
     "metadata": {},
     "output_type": "execute_result"
    }
   ],
   "source": [
    "iuxray_reports['questions'][69]"
   ]
  },
  {
   "cell_type": "code",
   "execution_count": 8,
   "metadata": {},
   "outputs": [
    {
     "data": {
      "text/plain": [
       "<module 'medvqa.models.vqa' from '/home/pamessina/medvqa/medvqa/models/vqa/__init__.py'>"
      ]
     },
     "execution_count": 8,
     "metadata": {},
     "output_type": "execute_result"
    }
   ],
   "source": [
    "reload(medvqa.models.vqa)"
   ]
  },
  {
   "cell_type": "code",
   "execution_count": 9,
   "metadata": {},
   "outputs": [],
   "source": [
    "from medvqa.models.vqa import ImageQuestionClassifier"
   ]
  },
  {
   "cell_type": "code",
   "execution_count": 10,
   "metadata": {},
   "outputs": [],
   "source": [
    "image_question_classifier = ImageQuestionClassifier(1024, 97)"
   ]
  },
  {
   "cell_type": "code",
   "execution_count": 11,
   "metadata": {},
   "outputs": [],
   "source": [
    "checkpoint = torch.load('/home/pamessina/medvqa-workspace/models/vqa/20220508_110803_mimiccxr+iuxray_oevqa(densenet121+bilstm+lstm)_voc-minf=5_model-args=(128,128,512,2,128,1024,0)_cnn-pretr=0_mim-iux-freqs=200,10_medtok=1_tags=0_orien=1_chx=1_ql=1_use_amp/checkpoint_194_emq+cD+wmdcmp+oracc+chxlf1+qlf1=0.6855.pt')"
   ]
  },
  {
   "cell_type": "code",
   "execution_count": 16,
   "metadata": {},
   "outputs": [
    {
     "data": {
      "text/plain": [
       "_IncompatibleKeys(missing_keys=[], unexpected_keys=['embedding_table.weight', 'question_encoder.embedding_table.weight', 'question_encoder.lstm.weight_ih_l0', 'question_encoder.lstm.weight_hh_l0', 'question_encoder.lstm.bias_ih_l0', 'question_encoder.lstm.bias_hh_l0', 'question_encoder.lstm.weight_ih_l0_reverse', 'question_encoder.lstm.weight_hh_l0_reverse', 'question_encoder.lstm.bias_ih_l0_reverse', 'question_encoder.lstm.bias_hh_l0_reverse', 'question_encoder.W_out.weight', 'question_encoder.W_out.bias', 'question_decoder.start_idx', 'question_decoder.embedding_table.weight', 'question_decoder.lstm_cell.weight_ih', 'question_decoder.lstm_cell.weight_hh', 'question_decoder.lstm_cell.bias_ih', 'question_decoder.lstm_cell.bias_hh', 'question_decoder.W_o.weight', 'question_decoder.W_o.bias', 'question_decoder.W_h.weight', 'question_decoder.W_h.bias', 'question_decoder.W_c.weight', 'question_decoder.W_c.bias', 'question_decoder.W_vocab.weight', 'question_decoder.W_vocab.bias', 'answer_decoder.start_idx', 'answer_decoder.embedding_table.weight', 'answer_decoder.W_g2o.weight', 'answer_decoder.W_g2o.bias', 'answer_decoder.W_h.weight', 'answer_decoder.W_c.weight', 'answer_decoder.lstm_cell.weight_ih', 'answer_decoder.lstm_cell.weight_hh', 'answer_decoder.lstm_cell.bias_ih', 'answer_decoder.lstm_cell.bias_hh', 'answer_decoder.stacked_lstm_cell.lstm_cells.0.weight_ih', 'answer_decoder.stacked_lstm_cell.lstm_cells.0.weight_hh', 'answer_decoder.stacked_lstm_cell.lstm_cells.0.bias_ih', 'answer_decoder.stacked_lstm_cell.lstm_cells.0.bias_hh', 'answer_decoder.W_attn.weight', 'answer_decoder.W_u.weight', 'answer_decoder.W_u.bias', 'answer_decoder.W_vocab.weight', 'answer_decoder.W_vocab.bias', 'W_ori_mimiccxr.weight', 'W_ori_mimiccxr.bias', 'W_ori_iuxray.weight', 'W_ori_iuxray.bias', 'W_chx.weight', 'W_chx.bias'])"
      ]
     },
     "execution_count": 16,
     "metadata": {},
     "output_type": "execute_result"
    }
   ],
   "source": [
    "image_question_classifier.load_state_dict(checkpoint['model'], strict=False)"
   ]
  },
  {
   "cell_type": "code",
   "execution_count": 19,
   "metadata": {},
   "outputs": [],
   "source": [
    "batch_size = 6\n",
    "vocab_size = 10\n",
    "k = 3"
   ]
  },
  {
   "cell_type": "code",
   "execution_count": 59,
   "metadata": {},
   "outputs": [],
   "source": [
    "def expand_tensor_for_beamsearch(x, k=3):\n",
    "    x = x.unsqueeze(1)\n",
    "    expanded_shape = list(x.shape)\n",
    "    expanded_shape[1] = k\n",
    "    final_shape = (-1, *expanded_shape[2:])\n",
    "    x = x.expand(expanded_shape).reshape(final_shape)\n",
    "    return x"
   ]
  },
  {
   "cell_type": "code",
   "execution_count": 74,
   "metadata": {},
   "outputs": [],
   "source": [
    "y = torch.rand((batch_size,2,2))"
   ]
  },
  {
   "cell_type": "code",
   "execution_count": 66,
   "metadata": {},
   "outputs": [
    {
     "data": {
      "text/plain": [
       "torch.Size([6])"
      ]
     },
     "execution_count": 66,
     "metadata": {},
     "output_type": "execute_result"
    }
   ],
   "source": [
    "y.shape"
   ]
  },
  {
   "cell_type": "code",
   "execution_count": 67,
   "metadata": {},
   "outputs": [],
   "source": [
    "yy = expand_tensor_for_beamsearch(y, 3)"
   ]
  },
  {
   "cell_type": "code",
   "execution_count": 68,
   "metadata": {},
   "outputs": [
    {
     "data": {
      "text/plain": [
       "torch.Size([18])"
      ]
     },
     "execution_count": 68,
     "metadata": {},
     "output_type": "execute_result"
    }
   ],
   "source": [
    "yy.shape"
   ]
  },
  {
   "cell_type": "code",
   "execution_count": 69,
   "metadata": {},
   "outputs": [
    {
     "data": {
      "text/plain": [
       "tensor([0.7631, 0.7631, 0.7631, 0.6812, 0.6812, 0.6812, 0.1418, 0.1418, 0.1418,\n",
       "        0.6295, 0.6295, 0.6295, 0.7533, 0.7533, 0.7533, 0.8059, 0.8059, 0.8059])"
      ]
     },
     "execution_count": 69,
     "metadata": {},
     "output_type": "execute_result"
    }
   ],
   "source": [
    "yy"
   ]
  },
  {
   "cell_type": "code",
   "execution_count": 33,
   "metadata": {},
   "outputs": [
    {
     "data": {
      "text/plain": [
       "tensor([0.5277, 0.5277, 0.5277, 0.5786, 0.5786, 0.5786, 0.3248, 0.3248, 0.3248,\n",
       "        0.7825, 0.7825, 0.7825, 0.1196, 0.1196, 0.1196, 0.2675, 0.2675, 0.2675])"
      ]
     },
     "execution_count": 33,
     "metadata": {},
     "output_type": "execute_result"
    }
   ],
   "source": [
    "y.view(-1, 1).expand((-1, 3)).reshape(-1)"
   ]
  },
  {
   "cell_type": "code",
   "execution_count": 77,
   "metadata": {},
   "outputs": [],
   "source": [
    "x = torch.rand((batch_size * k, vocab_size))"
   ]
  },
  {
   "cell_type": "code",
   "execution_count": 78,
   "metadata": {},
   "outputs": [
    {
     "data": {
      "text/plain": [
       "torch.Size([18, 10])"
      ]
     },
     "execution_count": 78,
     "metadata": {},
     "output_type": "execute_result"
    }
   ],
   "source": [
    "x.shape"
   ]
  },
  {
   "cell_type": "code",
   "execution_count": 79,
   "metadata": {},
   "outputs": [],
   "source": [
    "next_topk = x.topk(3)"
   ]
  },
  {
   "cell_type": "code",
   "execution_count": 80,
   "metadata": {},
   "outputs": [
    {
     "data": {
      "text/plain": [
       "torch.Size([18, 3])"
      ]
     },
     "execution_count": 80,
     "metadata": {},
     "output_type": "execute_result"
    }
   ],
   "source": [
    "next_topk.values.shape"
   ]
  },
  {
   "cell_type": "code",
   "execution_count": 83,
   "metadata": {},
   "outputs": [
    {
     "data": {
      "text/plain": [
       "tensor([[0.9615, 0.7342, 0.7289],\n",
       "        [0.7679, 0.7453, 0.6772],\n",
       "        [0.9683, 0.9119, 0.8841],\n",
       "        [0.6275, 0.6149, 0.5978],\n",
       "        [0.9538, 0.9323, 0.8339],\n",
       "        [0.9604, 0.9191, 0.8751],\n",
       "        [0.9534, 0.9025, 0.7567],\n",
       "        [0.9223, 0.8865, 0.7758],\n",
       "        [0.7818, 0.6555, 0.5447],\n",
       "        [0.9999, 0.8322, 0.7741],\n",
       "        [0.8682, 0.7486, 0.6980],\n",
       "        [0.9704, 0.8717, 0.7842],\n",
       "        [0.9834, 0.9494, 0.9206],\n",
       "        [0.9605, 0.9173, 0.8819],\n",
       "        [0.9625, 0.9216, 0.6936],\n",
       "        [0.9250, 0.8615, 0.7895],\n",
       "        [0.9633, 0.9026, 0.8803],\n",
       "        [0.9792, 0.6997, 0.6621]])"
      ]
     },
     "execution_count": 83,
     "metadata": {},
     "output_type": "execute_result"
    }
   ],
   "source": [
    "next_topk.values"
   ]
  },
  {
   "cell_type": "code",
   "execution_count": 100,
   "metadata": {},
   "outputs": [
    {
     "data": {
      "text/plain": [
       "tensor([[0, 0],\n",
       "        [0, 0]])"
      ]
     },
     "execution_count": 100,
     "metadata": {},
     "output_type": "execute_result"
    }
   ],
   "source": [
    "next_topk.indices.dtype\n",
    "torch.zeros((2,2), dtype=int)"
   ]
  },
  {
   "cell_type": "code",
   "execution_count": null,
   "metadata": {},
   "outputs": [],
   "source": []
  },
  {
   "cell_type": "code",
   "execution_count": 76,
   "metadata": {},
   "outputs": [
    {
     "ename": "RuntimeError",
     "evalue": "selected index k out of range",
     "output_type": "error",
     "traceback": [
      "\u001b[0;31m---------------------------------------------------------------------------\u001b[0m",
      "\u001b[0;31mRuntimeError\u001b[0m                              Traceback (most recent call last)",
      "\u001b[0;32m<ipython-input-76-48b87905fe21>\u001b[0m in \u001b[0;36m<module>\u001b[0;34m\u001b[0m\n\u001b[0;32m----> 1\u001b[0;31m \u001b[0mtop_k\u001b[0m \u001b[0;34m=\u001b[0m \u001b[0my\u001b[0m\u001b[0;34m.\u001b[0m\u001b[0mtopk\u001b[0m\u001b[0;34m(\u001b[0m\u001b[0;36m3\u001b[0m\u001b[0;34m)\u001b[0m\u001b[0;34m\u001b[0m\u001b[0;34m\u001b[0m\u001b[0m\n\u001b[0m",
      "\u001b[0;31mRuntimeError\u001b[0m: selected index k out of range"
     ]
    }
   ],
   "source": [
    "top_k = y.topk(3)"
   ]
  },
  {
   "cell_type": "code",
   "execution_count": 88,
   "metadata": {},
   "outputs": [
    {
     "data": {
      "text/plain": [
       "tensor(0.9735)"
      ]
     },
     "execution_count": 88,
     "metadata": {},
     "output_type": "execute_result"
    }
   ],
   "source": [
    "1 + torch.log(top_k.values[0][0])"
   ]
  },
  {
   "cell_type": "code",
   "execution_count": 90,
   "metadata": {},
   "outputs": [
    {
     "data": {
      "text/plain": [
       "tensor([[0.5606, 0.1659, 0.1629, 0.1728, 0.3895, 0.7289, 0.2209, 0.5765, 0.9615,\n",
       "         0.7342],\n",
       "        [0.1508, 0.0255, 0.2021, 0.4179, 0.3990, 0.6003, 0.7679, 0.1248, 0.7453,\n",
       "         0.6772],\n",
       "        [0.8841, 0.2324, 0.6177, 0.0073, 0.4803, 0.9119, 0.9683, 0.0910, 0.1812,\n",
       "         0.7829],\n",
       "        [0.4662, 0.0948, 0.1873, 0.2887, 0.6149, 0.0134, 0.5978, 0.6275, 0.4856,\n",
       "         0.4884],\n",
       "        [0.0216, 0.7627, 0.9323, 0.7105, 0.9538, 0.2230, 0.3695, 0.8339, 0.5819,\n",
       "         0.6050],\n",
       "        [0.1597, 0.8483, 0.9604, 0.1341, 0.1380, 0.8751, 0.2443, 0.6905, 0.7692,\n",
       "         0.9191],\n",
       "        [0.1655, 0.6862, 0.7442, 0.7567, 0.9025, 0.5976, 0.0313, 0.6703, 0.1105,\n",
       "         0.9534],\n",
       "        [0.9223, 0.1618, 0.7278, 0.1070, 0.3003, 0.8865, 0.3092, 0.7758, 0.0682,\n",
       "         0.6432],\n",
       "        [0.7818, 0.2490, 0.3800, 0.5447, 0.0992, 0.1432, 0.1930, 0.6555, 0.1866,\n",
       "         0.1581],\n",
       "        [0.9999, 0.4593, 0.6465, 0.8322, 0.1118, 0.3830, 0.3434, 0.7741, 0.7548,\n",
       "         0.0706],\n",
       "        [0.3038, 0.5476, 0.5647, 0.7486, 0.8682, 0.5170, 0.2501, 0.1854, 0.5812,\n",
       "         0.6980],\n",
       "        [0.6434, 0.0783, 0.9704, 0.7842, 0.8717, 0.5172, 0.4219, 0.3536, 0.3973,\n",
       "         0.4277],\n",
       "        [0.4765, 0.0049, 0.4077, 0.0147, 0.7938, 0.9206, 0.1773, 0.9834, 0.2820,\n",
       "         0.9494],\n",
       "        [0.4915, 0.8819, 0.5466, 0.9173, 0.7531, 0.6795, 0.3962, 0.6542, 0.9605,\n",
       "         0.8455],\n",
       "        [0.5792, 0.9216, 0.2221, 0.4398, 0.3046, 0.3870, 0.0688, 0.6936, 0.9625,\n",
       "         0.0731],\n",
       "        [0.1174, 0.3957, 0.8615, 0.7895, 0.6297, 0.4106, 0.0961, 0.2281, 0.9250,\n",
       "         0.2050],\n",
       "        [0.8445, 0.3980, 0.2941, 0.8083, 0.8059, 0.8594, 0.9026, 0.8803, 0.9633,\n",
       "         0.2061],\n",
       "        [0.4527, 0.2162, 0.5356, 0.9792, 0.6621, 0.6464, 0.4183, 0.6997, 0.5699,\n",
       "         0.2753]])"
      ]
     },
     "execution_count": 90,
     "metadata": {},
     "output_type": "execute_result"
    }
   ],
   "source": [
    "x.clone()"
   ]
  },
  {
   "cell_type": "code",
   "execution_count": 73,
   "metadata": {},
   "outputs": [
    {
     "data": {
      "text/plain": [
       "torch.Size([18, 3])"
      ]
     },
     "execution_count": 73,
     "metadata": {},
     "output_type": "execute_result"
    }
   ],
   "source": [
    "top_k.values.shape"
   ]
  },
  {
   "cell_type": "code",
   "execution_count": 13,
   "metadata": {},
   "outputs": [
    {
     "data": {
      "text/plain": [
       "tensor([[-0.0387, -0.0631, -0.0649],\n",
       "        [-0.0310, -0.0430, -0.0625],\n",
       "        [-0.0460, -0.0485, -0.1475],\n",
       "        [-0.0859, -0.1304, -0.1547],\n",
       "        [-0.0399, -0.1235, -0.1504],\n",
       "        [-0.0206, -0.0722, -0.0846],\n",
       "        [-0.0070, -0.0371, -0.2323],\n",
       "        [-0.0062, -0.0300, -0.0804],\n",
       "        [-0.1127, -0.1605, -0.1654],\n",
       "        [-0.0186, -0.0257, -0.0407]])"
      ]
     },
     "execution_count": 13,
     "metadata": {},
     "output_type": "execute_result"
    }
   ],
   "source": [
    "torch.log(top_k.values)"
   ]
  },
  {
   "cell_type": "code",
   "execution_count": 17,
   "metadata": {},
   "outputs": [
    {
     "data": {
      "text/plain": [
       "torch.Size([5, 40])"
      ]
     },
     "execution_count": 17,
     "metadata": {},
     "output_type": "execute_result"
    }
   ],
   "source": [
    "x.view(5,-1).shape"
   ]
  },
  {
   "cell_type": "code",
   "execution_count": 15,
   "metadata": {},
   "outputs": [
    {
     "data": {
      "text/plain": [
       "torch.return_types.topk(\n",
       "values=tensor([[0.9695, 0.9620, 0.9579],\n",
       "        [0.9550, 0.9526, 0.9177],\n",
       "        [0.9796, 0.9609, 0.9304],\n",
       "        [0.9938, 0.9930, 0.9705],\n",
       "        [0.9815, 0.9747, 0.9601]]),\n",
       "indices=tensor([[39, 10, 24],\n",
       "        [ 3,  4, 20],\n",
       "        [21, 17, 26],\n",
       "        [29,  4, 27],\n",
       "        [24, 23, 26]]))"
      ]
     },
     "execution_count": 15,
     "metadata": {},
     "output_type": "execute_result"
    }
   ],
   "source": [
    "torch.topk(x.view(5,-1), 3)"
   ]
  },
  {
   "cell_type": "code",
   "execution_count": 14,
   "metadata": {},
   "outputs": [],
   "source": [
    "from importlib import reload"
   ]
  },
  {
   "cell_type": "code",
   "execution_count": 259,
   "metadata": {},
   "outputs": [],
   "source": [
    "import medvqa\n",
    "from medvqa.models.vqa.answer_decoder import AnswerDecoder"
   ]
  },
  {
   "cell_type": "code",
   "execution_count": 258,
   "metadata": {},
   "outputs": [
    {
     "data": {
      "text/plain": [
       "<module 'medvqa.models.vqa.answer_decoder' from '/home/pamessina/medvqa/medvqa/models/vqa/answer_decoder.py'>"
      ]
     },
     "execution_count": 258,
     "metadata": {},
     "output_type": "execute_result"
    }
   ],
   "source": [
    "reload(medvqa.models.vqa.answer_decoder)"
   ]
  },
  {
   "cell_type": "code",
   "execution_count": 265,
   "metadata": {},
   "outputs": [],
   "source": [
    "embedding_table = nn.Embedding(10, 100, 0)"
   ]
  },
  {
   "cell_type": "code",
   "execution_count": 266,
   "metadata": {},
   "outputs": [],
   "source": [
    "answer_decoder = AnswerDecoder(\n",
    "    embedding_table=embedding_table,\n",
    "    image_local_feat_size=100,\n",
    "    question_vec_size=100,\n",
    "    embed_size=100,\n",
    "    hidden_size=100,\n",
    "    n_lstm_layers=3,\n",
    "    start_idx=1,\n",
    "    vocab_size=10,\n",
    "    dropout_prob=0,\n",
    "    padding_idx=0,\n",
    "    eos_idx=2,\n",
    ")"
   ]
  },
  {
   "cell_type": "code",
   "execution_count": 267,
   "metadata": {},
   "outputs": [],
   "source": [
    "batch_size = 5"
   ]
  },
  {
   "cell_type": "code",
   "execution_count": 268,
   "metadata": {},
   "outputs": [],
   "source": [
    "image_local_feat = torch.rand((batch_size, 16, 100))\n",
    "image_global_feat = torch.rand((batch_size, 200))\n",
    "question_vecs = torch.rand((batch_size, 100))"
   ]
  },
  {
   "cell_type": "code",
   "execution_count": 273,
   "metadata": {
    "scrolled": true
   },
   "outputs": [
    {
     "name": "stdout",
     "output_type": "stream",
     "text": [
      "\n",
      "****** t = 0\n",
      "\n",
      "\n",
      "ki = 0\n",
      "topk_list[ki]:\n",
      "torch.return_types.topk(\n",
      "values=tensor([[0.1352, 0.1148, 0.1123, 0.1088],\n",
      "        [0.1300, 0.1137, 0.1131, 0.1081],\n",
      "        [0.1302, 0.1159, 0.1153, 0.1084],\n",
      "        [0.1318, 0.1170, 0.1128, 0.1121],\n",
      "        [0.1371, 0.1168, 0.1163, 0.1087]]),\n",
      "indices=tensor([[4, 8, 3, 5],\n",
      "        [4, 3, 8, 5],\n",
      "        [4, 8, 3, 5],\n",
      "        [4, 8, 5, 3],\n",
      "        [4, 3, 8, 5]]))\n",
      "output_list[ki]:\n",
      "tensor([[4, 0, 0, 0, 0, 0, 0, 0, 0, 0],\n",
      "        [4, 0, 0, 0, 0, 0, 0, 0, 0, 0],\n",
      "        [4, 0, 0, 0, 0, 0, 0, 0, 0, 0],\n",
      "        [4, 0, 0, 0, 0, 0, 0, 0, 0, 0],\n",
      "        [4, 0, 0, 0, 0, 0, 0, 0, 0, 0]])\n",
      "EOS_found[ki]:\n",
      "[False, False, False, False, False]\n",
      "log_prob_sums[ki]:\n",
      "tensor([-2.0008, -2.0406, -2.0385, -2.0264, -1.9869], dtype=torch.float64)\n",
      "\n",
      "ki = 1\n",
      "topk_list[ki]:\n",
      "None\n",
      "output_list[ki]:\n",
      "tensor([[8, 0, 0, 0, 0, 0, 0, 0, 0, 0],\n",
      "        [3, 0, 0, 0, 0, 0, 0, 0, 0, 0],\n",
      "        [8, 0, 0, 0, 0, 0, 0, 0, 0, 0],\n",
      "        [8, 0, 0, 0, 0, 0, 0, 0, 0, 0],\n",
      "        [3, 0, 0, 0, 0, 0, 0, 0, 0, 0]])\n",
      "EOS_found[ki]:\n",
      "[False, False, False, False, False]\n",
      "log_prob_sums[ki]:\n",
      "tensor([-2.1647, -2.1743, -2.1550, -2.1457, -2.1477], dtype=torch.float64)\n",
      "\n",
      "ki = 2\n",
      "topk_list[ki]:\n",
      "None\n",
      "output_list[ki]:\n",
      "tensor([[3, 0, 0, 0, 0, 0, 0, 0, 0, 0],\n",
      "        [8, 0, 0, 0, 0, 0, 0, 0, 0, 0],\n",
      "        [3, 0, 0, 0, 0, 0, 0, 0, 0, 0],\n",
      "        [5, 0, 0, 0, 0, 0, 0, 0, 0, 0],\n",
      "        [8, 0, 0, 0, 0, 0, 0, 0, 0, 0]])\n",
      "EOS_found[ki]:\n",
      "[False, False, False, False, False]\n",
      "log_prob_sums[ki]:\n",
      "tensor([-2.1862, -2.1791, -2.1606, -2.1825, -2.1518], dtype=torch.float64)\n",
      "\n",
      "ki = 3\n",
      "topk_list[ki]:\n",
      "None\n",
      "output_list[ki]:\n",
      "tensor([[5, 0, 0, 0, 0, 0, 0, 0, 0, 0],\n",
      "        [5, 0, 0, 0, 0, 0, 0, 0, 0, 0],\n",
      "        [5, 0, 0, 0, 0, 0, 0, 0, 0, 0],\n",
      "        [3, 0, 0, 0, 0, 0, 0, 0, 0, 0],\n",
      "        [5, 0, 0, 0, 0, 0, 0, 0, 0, 0]])\n",
      "EOS_found[ki]:\n",
      "[False, False, False, False, False]\n",
      "log_prob_sums[ki]:\n",
      "tensor([-2.2183, -2.2244, -2.2215, -2.1885, -2.2189], dtype=torch.float64)\n",
      "\n",
      "****** t = 1\n",
      "\n",
      "\n",
      "ki = 0\n",
      "topk_list[ki]:\n",
      "torch.return_types.topk(\n",
      "values=tensor([[0.1336, 0.1152, 0.1107, 0.1100],\n",
      "        [0.1292, 0.1136, 0.1120, 0.1100],\n",
      "        [0.1303, 0.1158, 0.1132, 0.1093],\n",
      "        [0.1321, 0.1163, 0.1132, 0.1112],\n",
      "        [0.1369, 0.1174, 0.1148, 0.1094]]),\n",
      "indices=tensor([[4, 8, 3, 5],\n",
      "        [4, 8, 3, 5],\n",
      "        [4, 8, 3, 5],\n",
      "        [4, 8, 5, 3],\n",
      "        [4, 8, 3, 5]]))\n",
      "output_list[ki]:\n",
      "tensor([[4, 4, 0, 0, 0, 0, 0, 0, 0, 0],\n",
      "        [4, 4, 0, 0, 0, 0, 0, 0, 0, 0],\n",
      "        [4, 4, 0, 0, 0, 0, 0, 0, 0, 0],\n",
      "        [4, 4, 0, 0, 0, 0, 0, 0, 0, 0],\n",
      "        [4, 4, 0, 0, 0, 0, 0, 0, 0, 0]])\n",
      "EOS_found[ki]:\n",
      "[False, False, False, False, False]\n",
      "log_prob_sums[ki]:\n",
      "tensor([-4.0137, -4.0871, -4.0761, -4.0508, -3.9754], dtype=torch.float64)\n",
      "\n",
      "ki = 1\n",
      "topk_list[ki]:\n",
      "torch.return_types.topk(\n",
      "values=tensor([[0.1336, 0.1152, 0.1107, 0.1101],\n",
      "        [0.1292, 0.1136, 0.1119, 0.1100],\n",
      "        [0.1303, 0.1159, 0.1132, 0.1094],\n",
      "        [0.1320, 0.1163, 0.1133, 0.1112],\n",
      "        [0.1369, 0.1174, 0.1147, 0.1094]]),\n",
      "indices=tensor([[4, 8, 3, 5],\n",
      "        [4, 8, 3, 5],\n",
      "        [4, 8, 3, 5],\n",
      "        [4, 8, 5, 3],\n",
      "        [4, 8, 3, 5]]))\n",
      "output_list[ki]:\n",
      "tensor([[4, 8, 0, 0, 0, 0, 0, 0, 0, 0],\n",
      "        [4, 8, 0, 0, 0, 0, 0, 0, 0, 0],\n",
      "        [8, 4, 0, 0, 0, 0, 0, 0, 0, 0],\n",
      "        [8, 4, 0, 0, 0, 0, 0, 0, 0, 0],\n",
      "        [4, 8, 0, 0, 0, 0, 0, 0, 0, 0]])\n",
      "EOS_found[ki]:\n",
      "[False, False, False, False, False]\n",
      "log_prob_sums[ki]:\n",
      "tensor([-4.1622, -4.2156, -4.1931, -4.1707, -4.1293], dtype=torch.float64)\n",
      "\n",
      "ki = 2\n",
      "topk_list[ki]:\n",
      "torch.return_types.topk(\n",
      "values=tensor([[0.1336, 0.1152, 0.1106, 0.1100],\n",
      "        [0.1291, 0.1136, 0.1120, 0.1100],\n",
      "        [0.1303, 0.1159, 0.1131, 0.1094],\n",
      "        [0.1322, 0.1163, 0.1133, 0.1110],\n",
      "        [0.1369, 0.1174, 0.1149, 0.1094]]),\n",
      "indices=tensor([[4, 8, 3, 5],\n",
      "        [4, 8, 3, 5],\n",
      "        [4, 8, 3, 5],\n",
      "        [4, 8, 5, 3],\n",
      "        [4, 8, 3, 5]]))\n",
      "output_list[ki]:\n",
      "tensor([[8, 4, 0, 0, 0, 0, 0, 0, 0, 0],\n",
      "        [3, 4, 0, 0, 0, 0, 0, 0, 0, 0],\n",
      "        [4, 8, 0, 0, 0, 0, 0, 0, 0, 0],\n",
      "        [4, 8, 0, 0, 0, 0, 0, 0, 0, 0],\n",
      "        [3, 4, 0, 0, 0, 0, 0, 0, 0, 0]])\n",
      "EOS_found[ki]:\n",
      "[False, False, False, False, False]\n",
      "log_prob_sums[ki]:\n",
      "tensor([-4.1777, -4.2207, -4.1940, -4.1782, -4.1358], dtype=torch.float64)\n",
      "\n",
      "ki = 3\n",
      "topk_list[ki]:\n",
      "torch.return_types.topk(\n",
      "values=tensor([[0.1337, 0.1152, 0.1106, 0.1101],\n",
      "        [0.1293, 0.1136, 0.1119, 0.1101],\n",
      "        [0.1304, 0.1159, 0.1130, 0.1094],\n",
      "        [0.1321, 0.1163, 0.1132, 0.1111],\n",
      "        [0.1370, 0.1174, 0.1147, 0.1094]]),\n",
      "indices=tensor([[4, 8, 3, 5],\n",
      "        [4, 8, 3, 5],\n",
      "        [4, 8, 3, 5],\n",
      "        [4, 8, 5, 3],\n",
      "        [4, 8, 3, 5]]))\n",
      "output_list[ki]:\n",
      "tensor([[3, 4, 0, 0, 0, 0, 0, 0, 0, 0],\n",
      "        [8, 4, 0, 0, 0, 0, 0, 0, 0, 0],\n",
      "        [3, 4, 0, 0, 0, 0, 0, 0, 0, 0],\n",
      "        [4, 5, 0, 0, 0, 0, 0, 0, 0, 0],\n",
      "        [8, 4, 0, 0, 0, 0, 0, 0, 0, 0]])\n",
      "EOS_found[ki]:\n",
      "[False, False, False, False, False]\n",
      "log_prob_sums[ki]:\n",
      "tensor([-4.1990, -4.2260, -4.1982, -4.2049, -4.1404], dtype=torch.float64)\n",
      "\n",
      "****** t = 2\n",
      "\n",
      "\n",
      "ki = 0\n",
      "topk_list[ki]:\n",
      "torch.return_types.topk(\n",
      "values=tensor([[0.1325, 0.1155, 0.1107, 0.1103],\n",
      "        [0.1290, 0.1138, 0.1116, 0.1109],\n",
      "        [0.1300, 0.1158, 0.1123, 0.1099],\n",
      "        [0.1318, 0.1159, 0.1133, 0.1112],\n",
      "        [0.1368, 0.1178, 0.1139, 0.1098]]),\n",
      "indices=tensor([[4, 8, 5, 3],\n",
      "        [4, 8, 3, 5],\n",
      "        [4, 8, 3, 5],\n",
      "        [4, 8, 5, 3],\n",
      "        [4, 8, 3, 5]]))\n",
      "output_list[ki]:\n",
      "tensor([[4, 4, 4, 0, 0, 0, 0, 0, 0, 0],\n",
      "        [4, 4, 4, 0, 0, 0, 0, 0, 0, 0],\n",
      "        [4, 4, 4, 0, 0, 0, 0, 0, 0, 0],\n",
      "        [4, 4, 4, 0, 0, 0, 0, 0, 0, 0],\n",
      "        [4, 4, 4, 0, 0, 0, 0, 0, 0, 0]])\n",
      "EOS_found[ki]:\n",
      "[False, False, False, False, False]\n",
      "log_prob_sums[ki]:\n",
      "tensor([-6.0346, -6.1354, -6.1163, -6.0772, -5.9647], dtype=torch.float64)\n",
      "\n",
      "ki = 1\n",
      "topk_list[ki]:\n",
      "torch.return_types.topk(\n",
      "values=tensor([[0.1325, 0.1154, 0.1107, 0.1103],\n",
      "        [0.1288, 0.1136, 0.1117, 0.1110],\n",
      "        [0.1299, 0.1157, 0.1124, 0.1100],\n",
      "        [0.1318, 0.1158, 0.1133, 0.1112],\n",
      "        [0.1366, 0.1177, 0.1141, 0.1098]]),\n",
      "indices=tensor([[4, 8, 5, 3],\n",
      "        [4, 8, 3, 5],\n",
      "        [4, 8, 3, 5],\n",
      "        [4, 8, 5, 3],\n",
      "        [4, 8, 3, 5]]))\n",
      "output_list[ki]:\n",
      "tensor([[4, 4, 8, 0, 0, 0, 0, 0, 0, 0],\n",
      "        [4, 4, 8, 0, 0, 0, 0, 0, 0, 0],\n",
      "        [4, 4, 8, 0, 0, 0, 0, 0, 0, 0],\n",
      "        [8, 4, 4, 0, 0, 0, 0, 0, 0, 0],\n",
      "        [4, 4, 8, 0, 0, 0, 0, 0, 0, 0]])\n",
      "EOS_found[ki]:\n",
      "[False, False, False, False, False]\n",
      "log_prob_sums[ki]:\n",
      "tensor([-6.1724, -6.2607, -6.2316, -6.1973, -6.1142], dtype=torch.float64)\n",
      "\n",
      "ki = 2\n",
      "topk_list[ki]:\n",
      "torch.return_types.topk(\n",
      "values=tensor([[0.1325, 0.1154, 0.1106, 0.1103],\n",
      "        [0.1289, 0.1135, 0.1117, 0.1109],\n",
      "        [0.1299, 0.1158, 0.1124, 0.1100],\n",
      "        [0.1317, 0.1159, 0.1134, 0.1112],\n",
      "        [0.1366, 0.1176, 0.1141, 0.1098]]),\n",
      "indices=tensor([[4, 8, 5, 3],\n",
      "        [4, 8, 3, 5],\n",
      "        [4, 8, 3, 5],\n",
      "        [4, 8, 5, 3],\n",
      "        [4, 8, 3, 5]]))\n",
      "output_list[ki]:\n",
      "tensor([[4, 8, 4, 0, 0, 0, 0, 0, 0, 0],\n",
      "        [4, 8, 4, 0, 0, 0, 0, 0, 0, 0],\n",
      "        [8, 4, 4, 0, 0, 0, 0, 0, 0, 0],\n",
      "        [4, 8, 4, 0, 0, 0, 0, 0, 0, 0],\n",
      "        [4, 8, 4, 0, 0, 0, 0, 0, 0, 0]])\n",
      "EOS_found[ki]:\n",
      "[False, False, False, False, False]\n",
      "log_prob_sums[ki]:\n",
      "tensor([-6.1835, -6.2648, -6.2337, -6.2053, -6.1200], dtype=torch.float64)\n",
      "\n",
      "ki = 3\n",
      "topk_list[ki]:\n",
      "torch.return_types.topk(\n",
      "values=tensor([[0.1325, 0.1154, 0.1106, 0.1103],\n",
      "        [0.1289, 0.1135, 0.1117, 0.1109],\n",
      "        [0.1299, 0.1157, 0.1124, 0.1100],\n",
      "        [0.1319, 0.1159, 0.1133, 0.1111],\n",
      "        [0.1366, 0.1176, 0.1141, 0.1098]]),\n",
      "indices=tensor([[4, 8, 5, 3],\n",
      "        [4, 8, 3, 5],\n",
      "        [4, 8, 3, 5],\n",
      "        [4, 8, 5, 3],\n",
      "        [4, 8, 3, 5]]))\n",
      "output_list[ki]:\n",
      "tensor([[8, 4, 4, 0, 0, 0, 0, 0, 0, 0],\n",
      "        [3, 4, 4, 0, 0, 0, 0, 0, 0, 0],\n",
      "        [4, 8, 4, 0, 0, 0, 0, 0, 0, 0],\n",
      "        [4, 4, 8, 0, 0, 0, 0, 0, 0, 0],\n",
      "        [3, 4, 4, 0, 0, 0, 0, 0, 0, 0]])\n",
      "EOS_found[ki]:\n",
      "[False, False, False, False, False]\n",
      "log_prob_sums[ki]:\n",
      "tensor([-6.1988, -6.2696, -6.2351, -6.2056, -6.1263], dtype=torch.float64)\n",
      "\n",
      "****** t = 3\n",
      "\n",
      "\n",
      "ki = 0\n",
      "topk_list[ki]:\n",
      "torch.return_types.topk(\n",
      "values=tensor([[0.1320, 0.1157, 0.1110, 0.1103],\n",
      "        [0.1290, 0.1138, 0.1116, 0.1114],\n",
      "        [0.1298, 0.1159, 0.1120, 0.1102],\n",
      "        [0.1316, 0.1158, 0.1133, 0.1115],\n",
      "        [0.1368, 0.1180, 0.1136, 0.1100]]),\n",
      "indices=tensor([[4, 8, 5, 3],\n",
      "        [4, 8, 3, 5],\n",
      "        [4, 8, 3, 5],\n",
      "        [4, 8, 5, 3],\n",
      "        [4, 8, 3, 5]]))\n",
      "output_list[ki]:\n",
      "tensor([[4, 4, 4, 4, 0, 0, 0, 0, 0, 0],\n",
      "        [4, 4, 4, 4, 0, 0, 0, 0, 0, 0],\n",
      "        [4, 4, 4, 4, 0, 0, 0, 0, 0, 0],\n",
      "        [4, 4, 4, 4, 0, 0, 0, 0, 0, 0],\n",
      "        [4, 4, 4, 4, 0, 0, 0, 0, 0, 0]])\n",
      "EOS_found[ki]:\n",
      "[False, False, False, False, False]\n",
      "log_prob_sums[ki]:\n",
      "tensor([-8.0598, -8.1836, -8.1584, -8.1050, -7.9542], dtype=torch.float64)\n",
      "\n",
      "ki = 1\n",
      "topk_list[ki]:\n",
      "torch.return_types.topk(\n",
      "values=tensor([[0.1319, 0.1157, 0.1111, 0.1103],\n",
      "        [0.1289, 0.1138, 0.1116, 0.1115],\n",
      "        [0.1297, 0.1160, 0.1120, 0.1103],\n",
      "        [0.1316, 0.1157, 0.1133, 0.1115],\n",
      "        [0.1367, 0.1180, 0.1137, 0.1101]]),\n",
      "indices=tensor([[4, 8, 5, 3],\n",
      "        [4, 8, 3, 5],\n",
      "        [4, 8, 3, 5],\n",
      "        [4, 8, 5, 3],\n",
      "        [4, 8, 3, 5]]))\n",
      "output_list[ki]:\n",
      "tensor([[4, 4, 4, 8, 0, 0, 0, 0, 0, 0],\n",
      "        [4, 4, 4, 8, 0, 0, 0, 0, 0, 0],\n",
      "        [4, 4, 4, 8, 0, 0, 0, 0, 0, 0],\n",
      "        [8, 4, 4, 4, 0, 0, 0, 0, 0, 0],\n",
      "        [4, 4, 4, 8, 0, 0, 0, 0, 0, 0]])\n",
      "EOS_found[ki]:\n",
      "[False, False, False, False, False]\n",
      "log_prob_sums[ki]:\n",
      "tensor([-8.1916, -8.3091, -8.2712, -8.2251, -8.1022], dtype=torch.float64)\n",
      "\n",
      "ki = 2\n",
      "topk_list[ki]:\n",
      "torch.return_types.topk(\n",
      "values=tensor([[0.1320, 0.1156, 0.1111, 0.1104],\n",
      "        [0.1289, 0.1135, 0.1117, 0.1115],\n",
      "        [0.1298, 0.1158, 0.1121, 0.1103],\n",
      "        [0.1316, 0.1158, 0.1134, 0.1115],\n",
      "        [0.1366, 0.1178, 0.1139, 0.1101]]),\n",
      "indices=tensor([[4, 8, 5, 3],\n",
      "        [4, 8, 3, 5],\n",
      "        [4, 8, 3, 5],\n",
      "        [4, 8, 5, 3],\n",
      "        [4, 8, 3, 5]]))\n",
      "output_list[ki]:\n",
      "tensor([[4, 4, 8, 4, 0, 0, 0, 0, 0, 0],\n",
      "        [4, 4, 8, 4, 0, 0, 0, 0, 0, 0],\n",
      "        [4, 4, 8, 4, 0, 0, 0, 0, 0, 0],\n",
      "        [4, 4, 4, 8, 0, 0, 0, 0, 0, 0],\n",
      "        [4, 4, 8, 4, 0, 0, 0, 0, 0, 0]])\n",
      "EOS_found[ki]:\n",
      "[False, False, False, False, False]\n",
      "log_prob_sums[ki]:\n",
      "tensor([-8.1978, -8.3092, -8.2740, -8.2331, -8.1040], dtype=torch.float64)\n",
      "\n",
      "ki = 3\n",
      "topk_list[ki]:\n",
      "torch.return_types.topk(\n",
      "values=tensor([[0.1320, 0.1155, 0.1110, 0.1103],\n",
      "        [0.1289, 0.1135, 0.1117, 0.1114],\n",
      "        [0.1297, 0.1158, 0.1122, 0.1104],\n",
      "        [0.1316, 0.1158, 0.1134, 0.1114],\n",
      "        [0.1366, 0.1178, 0.1138, 0.1100]]),\n",
      "indices=tensor([[4, 8, 5, 3],\n",
      "        [4, 8, 3, 5],\n",
      "        [4, 8, 3, 5],\n",
      "        [4, 8, 5, 3],\n",
      "        [4, 8, 3, 5]]))\n",
      "output_list[ki]:\n",
      "tensor([[4, 8, 4, 4, 0, 0, 0, 0, 0, 0],\n",
      "        [4, 8, 4, 4, 0, 0, 0, 0, 0, 0],\n",
      "        [8, 4, 4, 4, 0, 0, 0, 0, 0, 0],\n",
      "        [4, 8, 4, 4, 0, 0, 0, 0, 0, 0],\n",
      "        [4, 8, 4, 4, 0, 0, 0, 0, 0, 0]])\n",
      "EOS_found[ki]:\n",
      "[False, False, False, False, False]\n",
      "log_prob_sums[ki]:\n",
      "tensor([-8.2087, -8.3137, -8.2758, -8.2336, -8.1109], dtype=torch.float64)\n",
      "\n",
      "****** t = 4\n",
      "\n",
      "\n",
      "ki = 0\n",
      "topk_list[ki]:\n",
      "torch.return_types.topk(\n",
      "values=tensor([[0.1317, 0.1158, 0.1112, 0.1104],\n",
      "        [0.1290, 0.1137, 0.1117, 0.1116],\n",
      "        [0.1297, 0.1160, 0.1120, 0.1104],\n",
      "        [0.1316, 0.1157, 0.1132, 0.1117],\n",
      "        [0.1368, 0.1180, 0.1136, 0.1101]]),\n",
      "indices=tensor([[4, 8, 5, 3],\n",
      "        [4, 8, 3, 5],\n",
      "        [4, 8, 3, 5],\n",
      "        [4, 8, 5, 3],\n",
      "        [4, 8, 3, 5]]))\n",
      "output_list[ki]:\n",
      "tensor([[4, 4, 4, 4, 4, 0, 0, 0, 0, 0],\n",
      "        [4, 4, 4, 4, 4, 0, 0, 0, 0, 0],\n",
      "        [4, 4, 4, 4, 4, 0, 0, 0, 0, 0],\n",
      "        [4, 4, 4, 4, 4, 0, 0, 0, 0, 0],\n",
      "        [4, 4, 4, 4, 4, 0, 0, 0, 0, 0]])\n",
      "EOS_found[ki]:\n",
      "[False, False, False, False, False]\n",
      "log_prob_sums[ki]:\n",
      "tensor([-10.0870, -10.2312, -10.2012, -10.1333,  -9.9437], dtype=torch.float64)\n",
      "\n",
      "ki = 1\n",
      "topk_list[ki]:\n",
      "torch.return_types.topk(\n",
      "values=tensor([[0.1317, 0.1158, 0.1113, 0.1104],\n",
      "        [0.1290, 0.1137, 0.1117, 0.1117],\n",
      "        [0.1296, 0.1160, 0.1120, 0.1105],\n",
      "        [0.1316, 0.1157, 0.1132, 0.1117],\n",
      "        [0.1367, 0.1180, 0.1136, 0.1102]]),\n",
      "indices=tensor([[4, 8, 5, 3],\n",
      "        [4, 8, 5, 3],\n",
      "        [4, 8, 3, 5],\n",
      "        [4, 8, 5, 3],\n",
      "        [4, 8, 3, 5]]))\n",
      "output_list[ki]:\n",
      "tensor([[4, 4, 4, 4, 8, 0, 0, 0, 0, 0],\n",
      "        [4, 4, 4, 8, 4, 0, 0, 0, 0, 0],\n",
      "        [4, 4, 4, 4, 8, 0, 0, 0, 0, 0],\n",
      "        [8, 4, 4, 4, 4, 0, 0, 0, 0, 0],\n",
      "        [4, 4, 4, 4, 8, 0, 0, 0, 0, 0]])\n",
      "EOS_found[ki]:\n",
      "[False, False, False, False, False]\n",
      "log_prob_sums[ki]:\n",
      "tensor([-10.2158, -10.3570, -10.3127, -10.2533, -10.0913], dtype=torch.float64)\n",
      "\n",
      "ki = 2\n",
      "topk_list[ki]:\n",
      "torch.return_types.topk(\n",
      "values=tensor([[0.1317, 0.1158, 0.1113, 0.1104],\n",
      "        [0.1290, 0.1137, 0.1118, 0.1117],\n",
      "        [0.1296, 0.1160, 0.1120, 0.1105],\n",
      "        [0.1315, 0.1158, 0.1133, 0.1117],\n",
      "        [0.1367, 0.1180, 0.1137, 0.1102]]),\n",
      "indices=tensor([[4, 8, 5, 3],\n",
      "        [4, 8, 5, 3],\n",
      "        [4, 8, 3, 5],\n",
      "        [4, 8, 5, 3],\n",
      "        [4, 8, 3, 5]]))\n",
      "output_list[ki]:\n",
      "tensor([[4, 4, 4, 8, 4, 0, 0, 0, 0, 0],\n",
      "        [4, 4, 8, 4, 4, 0, 0, 0, 0, 0],\n",
      "        [4, 4, 4, 8, 4, 0, 0, 0, 0, 0],\n",
      "        [4, 4, 4, 4, 8, 0, 0, 0, 0, 0],\n",
      "        [4, 4, 4, 8, 4, 0, 0, 0, 0, 0]])\n",
      "EOS_found[ki]:\n",
      "[False, False, False, False, False]\n",
      "log_prob_sums[ki]:\n",
      "tensor([-10.2191, -10.3571, -10.3145, -10.2614, -10.0919], dtype=torch.float64)\n",
      "\n",
      "ki = 3\n",
      "topk_list[ki]:\n",
      "torch.return_types.topk(\n",
      "values=tensor([[0.1317, 0.1157, 0.1114, 0.1105],\n",
      "        [0.1290, 0.1134, 0.1119, 0.1118],\n",
      "        [0.1297, 0.1158, 0.1121, 0.1105],\n",
      "        [0.1315, 0.1157, 0.1134, 0.1118],\n",
      "        [0.1366, 0.1178, 0.1139, 0.1103]]),\n",
      "indices=tensor([[4, 8, 5, 3],\n",
      "        [4, 8, 3, 5],\n",
      "        [4, 8, 3, 5],\n",
      "        [4, 8, 5, 3],\n",
      "        [4, 8, 3, 5]]))\n",
      "output_list[ki]:\n",
      "tensor([[4, 4, 8, 4, 4, 0, 0, 0, 0, 0],\n",
      "        [4, 4, 4, 4, 8, 0, 0, 0, 0, 0],\n",
      "        [4, 4, 8, 4, 4, 0, 0, 0, 0, 0],\n",
      "        [4, 8, 4, 4, 4, 0, 0, 0, 0, 0],\n",
      "        [4, 4, 8, 4, 4, 0, 0, 0, 0, 0]])\n",
      "EOS_found[ki]:\n",
      "[False, False, False, False, False]\n",
      "log_prob_sums[ki]:\n",
      "tensor([-10.2252, -10.3580, -10.3173, -10.2620, -10.0937], dtype=torch.float64)\n",
      "\n",
      "****** t = 5\n",
      "\n",
      "\n",
      "ki = 0\n",
      "topk_list[ki]:\n",
      "torch.return_types.topk(\n",
      "values=tensor([[0.1316, 0.1158, 0.1113, 0.1104],\n",
      "        [0.1291, 0.1136, 0.1118, 0.1118],\n",
      "        [0.1296, 0.1160, 0.1120, 0.1105],\n",
      "        [0.1315, 0.1157, 0.1131, 0.1119],\n",
      "        [0.1368, 0.1180, 0.1137, 0.1102]]),\n",
      "indices=tensor([[4, 8, 5, 3],\n",
      "        [4, 8, 3, 5],\n",
      "        [4, 8, 3, 5],\n",
      "        [4, 8, 5, 3],\n",
      "        [4, 8, 3, 5]]))\n",
      "output_list[ki]:\n",
      "tensor([[4, 4, 4, 4, 4, 4, 0, 0, 0, 0],\n",
      "        [4, 4, 4, 4, 4, 4, 0, 0, 0, 0],\n",
      "        [4, 4, 4, 4, 4, 4, 0, 0, 0, 0],\n",
      "        [4, 4, 4, 4, 4, 4, 0, 0, 0, 0],\n",
      "        [4, 4, 4, 4, 4, 4, 0, 0, 0, 0]])\n",
      "EOS_found[ki]:\n",
      "[False, False, False, False, False]\n",
      "log_prob_sums[ki]:\n",
      "tensor([-12.1150, -12.2781, -12.2444, -12.1617, -11.9328], dtype=torch.float64)\n",
      "\n",
      "ki = 1\n",
      "topk_list[ki]:\n",
      "torch.return_types.topk(\n",
      "values=tensor([[0.1316, 0.1159, 0.1114, 0.1104],\n",
      "        [0.1291, 0.1136, 0.1119, 0.1119],\n",
      "        [0.1296, 0.1160, 0.1120, 0.1105],\n",
      "        [0.1316, 0.1156, 0.1131, 0.1120],\n",
      "        [0.1368, 0.1180, 0.1137, 0.1102]]),\n",
      "indices=tensor([[4, 8, 5, 3],\n",
      "        [4, 8, 5, 3],\n",
      "        [4, 8, 3, 5],\n",
      "        [4, 8, 5, 3],\n",
      "        [4, 8, 3, 5]]))\n",
      "output_list[ki]:\n",
      "tensor([[4, 4, 4, 4, 4, 8, 0, 0, 0, 0],\n",
      "        [4, 4, 8, 4, 4, 4, 0, 0, 0, 0],\n",
      "        [4, 4, 4, 4, 4, 8, 0, 0, 0, 0],\n",
      "        [8, 4, 4, 4, 4, 4, 0, 0, 0, 0],\n",
      "        [4, 4, 4, 4, 8, 4, 0, 0, 0, 0]])\n",
      "EOS_found[ki]:\n",
      "[False, False, False, False, False]\n",
      "log_prob_sums[ki]:\n",
      "tensor([-12.2425, -12.4040, -12.3554, -12.2814, -12.0808], dtype=torch.float64)\n",
      "\n",
      "ki = 2\n",
      "topk_list[ki]:\n",
      "torch.return_types.topk(\n",
      "values=tensor([[0.1316, 0.1158, 0.1114, 0.1105],\n",
      "        [0.1291, 0.1135, 0.1119, 0.1119],\n",
      "        [0.1296, 0.1160, 0.1120, 0.1106],\n",
      "        [0.1315, 0.1157, 0.1132, 0.1119],\n",
      "        [0.1368, 0.1180, 0.1138, 0.1103]]),\n",
      "indices=tensor([[4, 8, 5, 3],\n",
      "        [4, 8, 5, 3],\n",
      "        [4, 8, 3, 5],\n",
      "        [4, 8, 5, 3],\n",
      "        [4, 8, 3, 5]]))\n",
      "output_list[ki]:\n",
      "tensor([[4, 4, 4, 4, 8, 4, 0, 0, 0, 0],\n",
      "        [4, 4, 4, 8, 4, 4, 0, 0, 0, 0],\n",
      "        [4, 4, 4, 4, 8, 4, 0, 0, 0, 0],\n",
      "        [4, 4, 4, 4, 4, 8, 0, 0, 0, 0],\n",
      "        [4, 4, 4, 4, 4, 8, 0, 0, 0, 0]])\n",
      "EOS_found[ki]:\n",
      "[False, False, False, False, False]\n",
      "log_prob_sums[ki]:\n",
      "tensor([-12.2441, -12.4042, -12.3563, -12.2900, -12.0808], dtype=torch.float64)\n",
      "\n",
      "ki = 3\n",
      "topk_list[ki]:\n",
      "torch.return_types.topk(\n",
      "values=tensor([[0.1316, 0.1158, 0.1115, 0.1105],\n",
      "        [0.1291, 0.1136, 0.1118, 0.1118],\n",
      "        [0.1296, 0.1160, 0.1121, 0.1106],\n",
      "        [0.1316, 0.1156, 0.1133, 0.1121],\n",
      "        [0.1368, 0.1180, 0.1138, 0.1103]]),\n",
      "indices=tensor([[4, 8, 5, 3],\n",
      "        [4, 8, 5, 3],\n",
      "        [4, 8, 3, 5],\n",
      "        [4, 8, 5, 3],\n",
      "        [4, 8, 3, 5]]))\n",
      "output_list[ki]:\n",
      "tensor([[4, 4, 4, 8, 4, 4, 0, 0, 0, 0],\n",
      "        [4, 4, 4, 4, 8, 4, 0, 0, 0, 0],\n",
      "        [4, 4, 4, 8, 4, 4, 0, 0, 0, 0],\n",
      "        [4, 8, 4, 4, 4, 4, 0, 0, 0, 0],\n",
      "        [4, 4, 4, 8, 4, 4, 0, 0, 0, 0]])\n",
      "EOS_found[ki]:\n",
      "[False, False, False, False, False]\n",
      "log_prob_sums[ki]:\n",
      "tensor([-12.2472, -12.4054, -12.3580, -12.2901, -12.0813], dtype=torch.float64)\n",
      "\n",
      "****** t = 6\n",
      "\n",
      "\n",
      "ki = 0\n",
      "topk_list[ki]:\n",
      "torch.return_types.topk(\n",
      "values=tensor([[0.1316, 0.1159, 0.1114, 0.1105],\n",
      "        [0.1292, 0.1135, 0.1120, 0.1118],\n",
      "        [0.1296, 0.1160, 0.1120, 0.1105],\n",
      "        [0.1316, 0.1157, 0.1130, 0.1121],\n",
      "        [0.1368, 0.1180, 0.1138, 0.1102]]),\n",
      "indices=tensor([[4, 8, 5, 3],\n",
      "        [4, 8, 3, 5],\n",
      "        [4, 8, 3, 5],\n",
      "        [4, 8, 5, 3],\n",
      "        [4, 8, 3, 5]]))\n",
      "output_list[ki]:\n",
      "tensor([[4, 4, 4, 4, 4, 4, 4, 0, 0, 0],\n",
      "        [4, 4, 4, 4, 4, 4, 4, 0, 0, 0],\n",
      "        [4, 4, 4, 4, 4, 4, 4, 0, 0, 0],\n",
      "        [4, 4, 4, 4, 4, 4, 4, 0, 0, 0],\n",
      "        [4, 4, 4, 4, 4, 4, 4, 0, 0, 0]])\n",
      "EOS_found[ki]:\n",
      "[False, False, False, False, False]\n",
      "log_prob_sums[ki]:\n",
      "tensor([-14.1432, -14.3245, -14.2875, -14.1900, -13.9217], dtype=torch.float64)\n",
      "\n",
      "ki = 1\n",
      "topk_list[ki]:\n",
      "torch.return_types.topk(\n",
      "values=tensor([[0.1315, 0.1159, 0.1114, 0.1105],\n",
      "        [0.1292, 0.1134, 0.1121, 0.1120],\n",
      "        [0.1296, 0.1160, 0.1120, 0.1106],\n",
      "        [0.1316, 0.1156, 0.1131, 0.1121],\n",
      "        [0.1368, 0.1180, 0.1138, 0.1103]]),\n",
      "indices=tensor([[4, 8, 5, 3],\n",
      "        [4, 8, 3, 5],\n",
      "        [4, 8, 3, 5],\n",
      "        [4, 8, 5, 3],\n",
      "        [4, 8, 3, 5]]))\n",
      "output_list[ki]:\n",
      "tensor([[4, 4, 4, 4, 4, 4, 8, 0, 0, 0],\n",
      "        [4, 4, 8, 4, 4, 4, 4, 0, 0, 0],\n",
      "        [4, 4, 4, 4, 4, 4, 8, 0, 0, 0],\n",
      "        [8, 4, 4, 4, 4, 4, 4, 0, 0, 0],\n",
      "        [4, 4, 4, 4, 8, 4, 4, 0, 0, 0]])\n",
      "EOS_found[ki]:\n",
      "[False, False, False, False, False]\n",
      "log_prob_sums[ki]:\n",
      "tensor([-14.2704, -14.4500, -14.3985, -14.3094, -14.0700], dtype=torch.float64)\n",
      "\n",
      "ki = 2\n",
      "topk_list[ki]:\n",
      "torch.return_types.topk(\n",
      "values=tensor([[0.1315, 0.1159, 0.1115, 0.1106],\n",
      "        [0.1292, 0.1134, 0.1120, 0.1120],\n",
      "        [0.1296, 0.1160, 0.1121, 0.1106],\n",
      "        [0.1315, 0.1157, 0.1131, 0.1121],\n",
      "        [0.1368, 0.1180, 0.1138, 0.1103]]),\n",
      "indices=tensor([[4, 8, 5, 3],\n",
      "        [4, 8, 3, 5],\n",
      "        [4, 8, 3, 5],\n",
      "        [4, 8, 5, 3],\n",
      "        [4, 8, 3, 5]]))\n",
      "output_list[ki]:\n",
      "tensor([[4, 4, 4, 4, 4, 8, 4, 0, 0, 0],\n",
      "        [4, 4, 4, 8, 4, 4, 4, 0, 0, 0],\n",
      "        [4, 4, 4, 4, 4, 8, 4, 0, 0, 0],\n",
      "        [4, 8, 4, 4, 4, 4, 4, 0, 0, 0],\n",
      "        [4, 4, 4, 4, 4, 8, 4, 0, 0, 0]])\n",
      "EOS_found[ki]:\n",
      "[False, False, False, False, False]\n",
      "log_prob_sums[ki]:\n",
      "tensor([-14.2711, -14.4506, -14.3989, -14.3179, -14.0700], dtype=torch.float64)\n",
      "\n",
      "ki = 3\n",
      "topk_list[ki]:\n",
      "torch.return_types.topk(\n",
      "values=tensor([[0.1316, 0.1158, 0.1115, 0.1106],\n",
      "        [0.1292, 0.1135, 0.1120, 0.1120],\n",
      "        [0.1296, 0.1160, 0.1121, 0.1107],\n",
      "        [0.1316, 0.1156, 0.1132, 0.1122],\n",
      "        [0.1368, 0.1180, 0.1139, 0.1103]]),\n",
      "indices=tensor([[4, 8, 5, 3],\n",
      "        [4, 8, 3, 5],\n",
      "        [4, 8, 3, 5],\n",
      "        [4, 8, 5, 3],\n",
      "        [4, 8, 3, 5]]))\n",
      "output_list[ki]:\n",
      "tensor([[4, 4, 4, 4, 8, 4, 4, 0, 0, 0],\n",
      "        [4, 4, 4, 4, 8, 4, 4, 0, 0, 0],\n",
      "        [4, 4, 4, 4, 8, 4, 4, 0, 0, 0],\n",
      "        [4, 4, 4, 4, 4, 4, 8, 0, 0, 0],\n",
      "        [4, 4, 4, 4, 4, 4, 8, 0, 0, 0]])\n",
      "EOS_found[ki]:\n",
      "[False, False, False, False, False]\n",
      "log_prob_sums[ki]:\n",
      "tensor([-14.2725, -14.4521, -14.3998, -14.3186, -14.0702], dtype=torch.float64)\n",
      "\n",
      "****** t = 7\n",
      "\n",
      "\n",
      "ki = 0\n",
      "topk_list[ki]:\n",
      "torch.return_types.topk(\n",
      "values=tensor([[0.1316, 0.1159, 0.1114, 0.1106],\n",
      "        [0.1292, 0.1134, 0.1121, 0.1119],\n",
      "        [0.1296, 0.1160, 0.1121, 0.1105],\n",
      "        [0.1316, 0.1157, 0.1130, 0.1122],\n",
      "        [0.1369, 0.1179, 0.1139, 0.1102]]),\n",
      "indices=tensor([[4, 8, 5, 3],\n",
      "        [4, 8, 3, 5],\n",
      "        [4, 8, 3, 5],\n",
      "        [4, 8, 5, 3],\n",
      "        [4, 8, 3, 5]]))\n",
      "output_list[ki]:\n",
      "tensor([[4, 4, 4, 4, 4, 4, 4, 4, 0, 0],\n",
      "        [4, 4, 4, 4, 4, 4, 4, 4, 0, 0],\n",
      "        [4, 4, 4, 4, 4, 4, 4, 4, 0, 0],\n",
      "        [4, 4, 4, 4, 4, 4, 4, 4, 0, 0],\n",
      "        [4, 4, 4, 4, 4, 4, 4, 4, 0, 0]])\n",
      "EOS_found[ki]:\n",
      "[False, False, False, False, False]\n",
      "log_prob_sums[ki]:\n",
      "tensor([-16.1714, -16.3706, -16.3304, -16.2179, -15.9103], dtype=torch.float64)\n",
      "\n",
      "ki = 1\n",
      "topk_list[ki]:\n",
      "torch.return_types.topk(\n",
      "values=tensor([[0.1315, 0.1159, 0.1115, 0.1106],\n",
      "        [0.1293, 0.1133, 0.1122, 0.1120],\n",
      "        [0.1296, 0.1160, 0.1121, 0.1106],\n",
      "        [0.1316, 0.1156, 0.1130, 0.1122],\n",
      "        [0.1369, 0.1179, 0.1139, 0.1104]]),\n",
      "indices=tensor([[4, 8, 5, 3],\n",
      "        [4, 8, 3, 5],\n",
      "        [4, 8, 3, 5],\n",
      "        [4, 8, 5, 3],\n",
      "        [4, 8, 3, 5]]))\n",
      "output_list[ki]:\n",
      "tensor([[4, 4, 4, 4, 4, 4, 4, 8, 0, 0],\n",
      "        [4, 4, 8, 4, 4, 4, 4, 4, 0, 0],\n",
      "        [4, 4, 4, 4, 4, 4, 4, 8, 0, 0],\n",
      "        [8, 4, 4, 4, 4, 4, 4, 4, 0, 0],\n",
      "        [4, 4, 4, 4, 8, 4, 4, 4, 0, 0]])\n",
      "EOS_found[ki]:\n",
      "[False, False, False, False, False]\n",
      "log_prob_sums[ki]:\n",
      "tensor([-16.2985, -16.4956, -16.4416, -16.3371, -16.0586], dtype=torch.float64)\n",
      "\n",
      "ki = 2\n",
      "topk_list[ki]:\n",
      "torch.return_types.topk(\n",
      "values=tensor([[0.1316, 0.1159, 0.1115, 0.1106],\n",
      "        [0.1293, 0.1133, 0.1121, 0.1120],\n",
      "        [0.1296, 0.1160, 0.1121, 0.1107],\n",
      "        [0.1317, 0.1156, 0.1131, 0.1123],\n",
      "        [0.1369, 0.1180, 0.1139, 0.1103]]),\n",
      "indices=tensor([[4, 8, 5, 3],\n",
      "        [4, 8, 3, 5],\n",
      "        [4, 8, 3, 5],\n",
      "        [4, 8, 5, 3],\n",
      "        [4, 8, 3, 5]]))\n",
      "output_list[ki]:\n",
      "tensor([[4, 4, 4, 4, 4, 4, 8, 4, 0, 0],\n",
      "        [4, 4, 4, 8, 4, 4, 4, 4, 0, 0],\n",
      "        [4, 4, 4, 4, 4, 4, 8, 4, 0, 0],\n",
      "        [4, 8, 4, 4, 4, 4, 4, 4, 0, 0],\n",
      "        [4, 4, 4, 4, 4, 8, 4, 4, 0, 0]])\n",
      "EOS_found[ki]:\n",
      "[False, False, False, False, False]\n",
      "log_prob_sums[ki]:\n",
      "tensor([-16.2988, -16.4963, -16.4418, -16.3453, -16.0589], dtype=torch.float64)\n",
      "\n",
      "ki = 3\n",
      "topk_list[ki]:\n",
      "torch.return_types.topk(\n",
      "values=tensor([[0.1316, 0.1158, 0.1115, 0.1106],\n",
      "        [0.1293, 0.1134, 0.1121, 0.1120],\n",
      "        [0.1296, 0.1160, 0.1122, 0.1107],\n",
      "        [0.1315, 0.1157, 0.1130, 0.1122],\n",
      "        [0.1368, 0.1180, 0.1139, 0.1103]]),\n",
      "indices=tensor([[4, 8, 5, 3],\n",
      "        [4, 8, 3, 5],\n",
      "        [4, 8, 3, 5],\n",
      "        [4, 8, 5, 3],\n",
      "        [4, 8, 3, 5]]))\n",
      "output_list[ki]:\n",
      "tensor([[4, 4, 4, 4, 4, 8, 4, 4, 0, 0],\n",
      "        [4, 4, 4, 4, 8, 4, 4, 4, 0, 0],\n",
      "        [4, 4, 4, 4, 4, 8, 4, 4, 0, 0],\n",
      "        [4, 4, 4, 4, 4, 4, 4, 8, 0, 0],\n",
      "        [4, 4, 4, 4, 4, 4, 8, 4, 0, 0]])\n",
      "EOS_found[ki]:\n",
      "[False, False, False, False, False]\n",
      "log_prob_sums[ki]:\n",
      "tensor([-16.2994, -16.4981, -16.4422, -16.3470, -16.0591], dtype=torch.float64)\n",
      "\n",
      "****** t = 8\n",
      "\n",
      "\n",
      "ki = 0\n",
      "topk_list[ki]:\n",
      "torch.return_types.topk(\n",
      "values=tensor([[0.1316, 0.1159, 0.1114, 0.1106],\n",
      "        [0.1293, 0.1133, 0.1121, 0.1119],\n",
      "        [0.1297, 0.1160, 0.1121, 0.1105],\n",
      "        [0.1317, 0.1157, 0.1129, 0.1122],\n",
      "        [0.1369, 0.1179, 0.1139, 0.1102]]),\n",
      "indices=tensor([[4, 8, 5, 3],\n",
      "        [4, 8, 3, 5],\n",
      "        [4, 8, 3, 5],\n",
      "        [4, 8, 5, 3],\n",
      "        [4, 8, 3, 5]]))\n",
      "output_list[ki]:\n",
      "tensor([[4, 4, 4, 4, 4, 4, 4, 4, 4, 0],\n",
      "        [4, 4, 4, 4, 4, 4, 4, 4, 4, 0],\n",
      "        [4, 4, 4, 4, 4, 4, 4, 4, 4, 0],\n",
      "        [4, 4, 4, 4, 4, 4, 4, 4, 4, 0],\n",
      "        [4, 4, 4, 4, 4, 4, 4, 4, 4, 0]])\n",
      "EOS_found[ki]:\n",
      "[False, False, False, False, False]\n",
      "log_prob_sums[ki]:\n",
      "tensor([-18.1993, -18.4163, -18.3731, -18.2455, -17.8987], dtype=torch.float64)\n",
      "\n",
      "ki = 1\n",
      "topk_list[ki]:\n",
      "torch.return_types.topk(\n",
      "values=tensor([[0.1316, 0.1159, 0.1115, 0.1106],\n",
      "        [0.1293, 0.1133, 0.1122, 0.1120],\n",
      "        [0.1296, 0.1160, 0.1121, 0.1106],\n",
      "        [0.1317, 0.1156, 0.1130, 0.1122],\n",
      "        [0.1369, 0.1179, 0.1140, 0.1104]]),\n",
      "indices=tensor([[4, 8, 5, 3],\n",
      "        [4, 8, 3, 5],\n",
      "        [4, 8, 3, 5],\n",
      "        [4, 8, 5, 3],\n",
      "        [4, 8, 3, 5]]))\n",
      "output_list[ki]:\n",
      "tensor([[4, 4, 4, 4, 4, 4, 4, 4, 8, 0],\n",
      "        [4, 4, 8, 4, 4, 4, 4, 4, 4, 0],\n",
      "        [4, 4, 4, 4, 4, 4, 4, 4, 8, 0],\n",
      "        [8, 4, 4, 4, 4, 4, 4, 4, 4, 0],\n",
      "        [4, 4, 4, 4, 8, 4, 4, 4, 4, 0]])\n",
      "EOS_found[ki]:\n",
      "[False, False, False, False, False]\n",
      "log_prob_sums[ki]:\n",
      "tensor([-18.3266, -18.5409, -18.4846, -18.3645, -18.0468], dtype=torch.float64)\n",
      "\n",
      "ki = 2\n",
      "topk_list[ki]:\n",
      "torch.return_types.topk(\n",
      "values=tensor([[0.1316, 0.1159, 0.1115, 0.1106],\n",
      "        [0.1293, 0.1133, 0.1122, 0.1121],\n",
      "        [0.1296, 0.1160, 0.1121, 0.1107],\n",
      "        [0.1317, 0.1156, 0.1131, 0.1123],\n",
      "        [0.1369, 0.1179, 0.1140, 0.1104]]),\n",
      "indices=tensor([[4, 8, 5, 3],\n",
      "        [4, 8, 3, 5],\n",
      "        [4, 8, 3, 5],\n",
      "        [4, 8, 5, 3],\n",
      "        [4, 8, 3, 5]]))\n",
      "output_list[ki]:\n",
      "tensor([[4, 4, 4, 4, 4, 4, 4, 8, 4, 0],\n",
      "        [4, 4, 4, 8, 4, 4, 4, 4, 4, 0],\n",
      "        [4, 4, 4, 4, 4, 4, 4, 8, 4, 0],\n",
      "        [4, 8, 4, 4, 4, 4, 4, 4, 4, 0],\n",
      "        [4, 4, 4, 4, 4, 8, 4, 4, 4, 0]])\n",
      "EOS_found[ki]:\n",
      "[False, False, False, False, False]\n",
      "log_prob_sums[ki]:\n",
      "tensor([-18.3268, -18.5416, -18.4847, -18.3726, -18.0473], dtype=torch.float64)\n",
      "\n",
      "ki = 3\n",
      "topk_list[ki]:\n",
      "torch.return_types.topk(\n",
      "values=tensor([[0.1316, 0.1158, 0.1116, 0.1107],\n",
      "        [0.1293, 0.1133, 0.1122, 0.1121],\n",
      "        [0.1297, 0.1160, 0.1122, 0.1107],\n",
      "        [0.1316, 0.1157, 0.1130, 0.1122],\n",
      "        [0.1369, 0.1179, 0.1139, 0.1103]]),\n",
      "indices=tensor([[4, 8, 5, 3],\n",
      "        [4, 8, 3, 5],\n",
      "        [4, 8, 3, 5],\n",
      "        [4, 8, 5, 3],\n",
      "        [4, 8, 3, 5]]))\n",
      "output_list[ki]:\n",
      "tensor([[4, 4, 4, 4, 4, 4, 8, 4, 4, 0],\n",
      "        [4, 4, 4, 4, 8, 4, 4, 4, 4, 0],\n",
      "        [4, 4, 4, 4, 4, 4, 8, 4, 4, 0],\n",
      "        [4, 4, 4, 4, 4, 4, 4, 4, 8, 0],\n",
      "        [4, 4, 4, 4, 4, 4, 8, 4, 4, 0]])\n",
      "EOS_found[ki]:\n",
      "[False, False, False, False, False]\n",
      "log_prob_sums[ki]:\n",
      "tensor([-18.3269, -18.5435, -18.4849, -18.3750, -18.0477], dtype=torch.float64)\n",
      "\n",
      "****** t = 9\n",
      "\n",
      "\n",
      "ki = 0\n",
      "topk_list[ki]:\n",
      "torch.return_types.topk(\n",
      "values=tensor([[0.1316, 0.1159, 0.1114, 0.1106],\n",
      "        [0.1293, 0.1133, 0.1122, 0.1119],\n",
      "        [0.1297, 0.1160, 0.1121, 0.1105],\n",
      "        [0.1317, 0.1156, 0.1129, 0.1122],\n",
      "        [0.1370, 0.1179, 0.1139, 0.1102]]),\n",
      "indices=tensor([[4, 8, 5, 3],\n",
      "        [4, 8, 3, 5],\n",
      "        [4, 8, 3, 5],\n",
      "        [4, 8, 5, 3],\n",
      "        [4, 8, 3, 5]]))\n",
      "output_list[ki]:\n",
      "tensor([[4, 4, 4, 4, 4, 4, 4, 4, 4, 4],\n",
      "        [4, 4, 4, 4, 4, 4, 4, 4, 4, 4],\n",
      "        [4, 4, 4, 4, 4, 4, 4, 4, 4, 4],\n",
      "        [4, 4, 4, 4, 4, 4, 4, 4, 4, 4],\n",
      "        [4, 4, 4, 4, 4, 4, 4, 4, 4, 4]])\n",
      "EOS_found[ki]:\n",
      "[False, False, False, False, False]\n",
      "log_prob_sums[ki]:\n",
      "tensor([-20.2271, -20.4618, -20.4155, -20.2728, -19.8868], dtype=torch.float64)\n",
      "\n",
      "ki = 1\n",
      "topk_list[ki]:\n",
      "torch.return_types.topk(\n",
      "values=tensor([[0.1316, 0.1159, 0.1115, 0.1106],\n",
      "        [0.1294, 0.1132, 0.1122, 0.1120],\n",
      "        [0.1297, 0.1160, 0.1121, 0.1106],\n",
      "        [0.1317, 0.1156, 0.1129, 0.1123],\n",
      "        [0.1370, 0.1179, 0.1140, 0.1104]]),\n",
      "indices=tensor([[4, 8, 5, 3],\n",
      "        [4, 8, 3, 5],\n",
      "        [4, 8, 3, 5],\n",
      "        [4, 8, 5, 3],\n",
      "        [4, 8, 3, 5]]))\n",
      "output_list[ki]:\n",
      "tensor([[4, 4, 4, 4, 4, 4, 8, 4, 4, 4],\n",
      "        [4, 4, 8, 4, 4, 4, 4, 4, 4, 4],\n",
      "        [4, 4, 4, 4, 4, 4, 4, 4, 4, 8],\n",
      "        [8, 4, 4, 4, 4, 4, 4, 4, 4, 4],\n",
      "        [4, 4, 4, 4, 8, 4, 4, 4, 4, 4]])\n",
      "EOS_found[ki]:\n",
      "[False, False, False, False, False]\n",
      "log_prob_sums[ki]:\n",
      "tensor([-20.3546, -20.5860, -20.5274, -20.3917, -20.0346], dtype=torch.float64)\n",
      "\n",
      "ki = 2\n",
      "topk_list[ki]:\n",
      "torch.return_types.topk(\n",
      "values=tensor([[0.1316, 0.1159, 0.1115, 0.1107],\n",
      "        [0.1294, 0.1132, 0.1123, 0.1120],\n",
      "        [0.1297, 0.1160, 0.1122, 0.1107],\n",
      "        [0.1317, 0.1156, 0.1130, 0.1123],\n",
      "        [0.1370, 0.1179, 0.1140, 0.1104]]),\n",
      "indices=tensor([[4, 8, 5, 3],\n",
      "        [4, 8, 3, 5],\n",
      "        [4, 8, 3, 5],\n",
      "        [4, 8, 5, 3],\n",
      "        [4, 8, 3, 5]]))\n",
      "output_list[ki]:\n",
      "tensor([[4, 4, 4, 4, 4, 4, 4, 4, 4, 8],\n",
      "        [4, 4, 4, 8, 4, 4, 4, 4, 4, 4],\n",
      "        [4, 4, 4, 4, 4, 4, 8, 4, 4, 4],\n",
      "        [4, 8, 4, 4, 4, 4, 4, 4, 4, 4],\n",
      "        [4, 4, 4, 4, 4, 8, 4, 4, 4, 4]])\n",
      "EOS_found[ki]:\n",
      "[False, False, False, False, False]\n",
      "log_prob_sums[ki]:\n",
      "tensor([-20.3546, -20.5867, -20.5274, -20.3996, -20.0352], dtype=torch.float64)\n",
      "\n",
      "ki = 3\n",
      "topk_list[ki]:\n",
      "torch.return_types.topk(\n",
      "values=tensor([[0.1316, 0.1158, 0.1116, 0.1107],\n",
      "        [0.1294, 0.1132, 0.1123, 0.1121],\n",
      "        [0.1297, 0.1160, 0.1122, 0.1107],\n",
      "        [0.1316, 0.1157, 0.1130, 0.1122],\n",
      "        [0.1369, 0.1179, 0.1140, 0.1104]]),\n",
      "indices=tensor([[4, 8, 5, 3],\n",
      "        [4, 8, 3, 5],\n",
      "        [4, 8, 3, 5],\n",
      "        [4, 8, 5, 3],\n",
      "        [4, 8, 3, 5]]))\n",
      "output_list[ki]:\n",
      "tensor([[4, 4, 4, 4, 4, 4, 4, 8, 4, 4],\n",
      "        [4, 4, 4, 4, 8, 4, 4, 4, 4, 4],\n",
      "        [4, 4, 4, 4, 4, 4, 4, 4, 8, 4],\n",
      "        [4, 4, 4, 4, 4, 4, 4, 4, 4, 8],\n",
      "        [4, 4, 4, 4, 4, 4, 8, 4, 4, 4]])\n",
      "EOS_found[ki]:\n",
      "[False, False, False, False, False]\n",
      "log_prob_sums[ki]:\n",
      "tensor([-20.3547, -20.5886, -20.5275, -20.4027, -20.0359], dtype=torch.float64)\n"
     ]
    }
   ],
   "source": [
    "with torch.set_grad_enabled(False):\n",
    "    answer_decoder.train(False)\n",
    "    beam_output = answer_decoder.beam_search_decoding(\n",
    "        image_local_feat,\n",
    "        image_global_feat,\n",
    "        question_vecs,\n",
    "        max_answer_length=10,\n",
    "        k=4,\n",
    "    )"
   ]
  },
  {
   "cell_type": "code",
   "execution_count": 270,
   "metadata": {},
   "outputs": [],
   "source": [
    "with torch.set_grad_enabled(False):\n",
    "    answer_decoder.train(False)\n",
    "    greedy_output = answer_decoder.greedy_search_decoding(\n",
    "        image_local_feat,\n",
    "        image_global_feat,\n",
    "        question_vecs,\n",
    "        max_answer_length=10,\n",
    "    )"
   ]
  },
  {
   "cell_type": "code",
   "execution_count": 271,
   "metadata": {},
   "outputs": [
    {
     "data": {
      "text/plain": [
       "tensor([[4, 4, 4, 4, 4, 4, 4, 4, 4, 4],\n",
       "        [4, 4, 4, 4, 4, 4, 4, 4, 4, 4],\n",
       "        [4, 4, 4, 4, 4, 4, 4, 4, 4, 4],\n",
       "        [4, 4, 4, 4, 4, 4, 4, 4, 4, 4],\n",
       "        [4, 4, 4, 4, 4, 4, 4, 4, 4, 4]])"
      ]
     },
     "execution_count": 271,
     "metadata": {},
     "output_type": "execute_result"
    }
   ],
   "source": [
    "greedy_output"
   ]
  },
  {
   "cell_type": "code",
   "execution_count": 274,
   "metadata": {
    "scrolled": false
   },
   "outputs": [
    {
     "data": {
      "text/plain": [
       "([tensor([[4, 4, 4, 4, 4, 4, 4, 4, 4, 4],\n",
       "          [4, 4, 4, 4, 4, 4, 4, 4, 4, 4],\n",
       "          [4, 4, 4, 4, 4, 4, 4, 4, 4, 4],\n",
       "          [4, 4, 4, 4, 4, 4, 4, 4, 4, 4],\n",
       "          [4, 4, 4, 4, 4, 4, 4, 4, 4, 4]]),\n",
       "  tensor([[4, 4, 4, 4, 4, 4, 8, 4, 4, 4],\n",
       "          [4, 4, 8, 4, 4, 4, 4, 4, 4, 4],\n",
       "          [4, 4, 4, 4, 4, 4, 4, 4, 4, 8],\n",
       "          [8, 4, 4, 4, 4, 4, 4, 4, 4, 4],\n",
       "          [4, 4, 4, 4, 8, 4, 4, 4, 4, 4]]),\n",
       "  tensor([[4, 4, 4, 4, 4, 4, 4, 4, 4, 8],\n",
       "          [4, 4, 4, 8, 4, 4, 4, 4, 4, 4],\n",
       "          [4, 4, 4, 4, 4, 4, 8, 4, 4, 4],\n",
       "          [4, 8, 4, 4, 4, 4, 4, 4, 4, 4],\n",
       "          [4, 4, 4, 4, 4, 8, 4, 4, 4, 4]]),\n",
       "  tensor([[4, 4, 4, 4, 4, 4, 4, 8, 4, 4],\n",
       "          [4, 4, 4, 4, 8, 4, 4, 4, 4, 4],\n",
       "          [4, 4, 4, 4, 4, 4, 4, 4, 8, 4],\n",
       "          [4, 4, 4, 4, 4, 4, 4, 4, 4, 8],\n",
       "          [4, 4, 4, 4, 4, 4, 8, 4, 4, 4]])],\n",
       " tensor([[-20.2271, -20.4618, -20.4155, -20.2728, -19.8868],\n",
       "         [-20.3546, -20.5860, -20.5274, -20.3917, -20.0346],\n",
       "         [-20.3546, -20.5867, -20.5274, -20.3996, -20.0352],\n",
       "         [-20.3547, -20.5886, -20.5275, -20.4027, -20.0359]],\n",
       "        dtype=torch.float64),\n",
       " [[False, False, False, False, False],\n",
       "  [False, False, False, False, False],\n",
       "  [False, False, False, False, False],\n",
       "  [False, False, False, False, False]])"
      ]
     },
     "execution_count": 274,
     "metadata": {},
     "output_type": "execute_result"
    }
   ],
   "source": [
    "beam_output"
   ]
  },
  {
   "cell_type": "code",
   "execution_count": 133,
   "metadata": {},
   "outputs": [],
   "source": [
    "_x = torch.rand(5,5)\n",
    "_x2 = _x.clone()"
   ]
  },
  {
   "cell_type": "code",
   "execution_count": 134,
   "metadata": {},
   "outputs": [
    {
     "data": {
      "text/plain": [
       "tensor([[0.3948, 0.3327, 0.8307, 0.0634, 0.0054],\n",
       "        [0.5373, 0.1518, 0.4682, 0.9005, 0.4235],\n",
       "        [0.1074, 0.0699, 0.9498, 0.1834, 0.1292],\n",
       "        [0.2304, 0.8344, 0.1235, 0.1750, 0.2598],\n",
       "        [0.5720, 0.6804, 0.6465, 0.0694, 0.9396]])"
      ]
     },
     "execution_count": 134,
     "metadata": {},
     "output_type": "execute_result"
    }
   ],
   "source": [
    "_x"
   ]
  },
  {
   "cell_type": "code",
   "execution_count": 136,
   "metadata": {},
   "outputs": [],
   "source": [
    "_x2[0][0] += 5"
   ]
  },
  {
   "cell_type": "code",
   "execution_count": 182,
   "metadata": {},
   "outputs": [
    {
     "data": {
      "text/plain": [
       "tensor([[1.5395e+01, 3.3272e-01, 8.3066e-01, 6.3414e-02, 5.4101e-03],\n",
       "        [5.3727e-01, 1.5181e-01, 4.6817e-01, 9.0047e-01, 4.2347e-01],\n",
       "        [1.0737e-01, 6.9916e-02, 9.4979e-01, 1.8339e-01, 1.2918e-01],\n",
       "        [2.3036e-01, 8.3443e-01, 1.2347e-01, 1.7497e-01, 2.5978e-01],\n",
       "        [5.7201e-01, 6.8044e-01, 6.4649e-01, 6.9358e-02, 9.3962e-01]])"
      ]
     },
     "execution_count": 182,
     "metadata": {},
     "output_type": "execute_result"
    }
   ],
   "source": [
    "_x2"
   ]
  },
  {
   "cell_type": "code",
   "execution_count": 183,
   "metadata": {},
   "outputs": [],
   "source": [
    "_aux = _x2[0][0]"
   ]
  },
  {
   "cell_type": "code",
   "execution_count": 185,
   "metadata": {},
   "outputs": [],
   "source": [
    "_aux = _aux + 10"
   ]
  },
  {
   "cell_type": "code",
   "execution_count": 186,
   "metadata": {},
   "outputs": [
    {
     "data": {
      "text/plain": [
       "(tensor(25.3948),\n",
       " tensor([[1.5395e+01, 3.3272e-01, 8.3066e-01, 6.3414e-02, 5.4101e-03],\n",
       "         [5.3727e-01, 1.5181e-01, 4.6817e-01, 9.0047e-01, 4.2347e-01],\n",
       "         [1.0737e-01, 6.9916e-02, 9.4979e-01, 1.8339e-01, 1.2918e-01],\n",
       "         [2.3036e-01, 8.3443e-01, 1.2347e-01, 1.7497e-01, 2.5978e-01],\n",
       "         [5.7201e-01, 6.8044e-01, 6.4649e-01, 6.9358e-02, 9.3962e-01]]))"
      ]
     },
     "execution_count": 186,
     "metadata": {},
     "output_type": "execute_result"
    }
   ],
   "source": [
    "_aux, _x2"
   ]
  },
  {
   "cell_type": "code",
   "execution_count": 174,
   "metadata": {},
   "outputs": [
    {
     "data": {
      "text/plain": [
       "tensor(-24.9336)"
      ]
     },
     "execution_count": 174,
     "metadata": {},
     "output_type": "execute_result"
    }
   ],
   "source": [
    "torch.log(torch.tensor(0.0000000000001)) + 5"
   ]
  },
  {
   "cell_type": "code",
   "execution_count": 278,
   "metadata": {},
   "outputs": [
    {
     "data": {
      "text/plain": [
       "'1.00000,2.00000,3.00000,,4.00000,4.00000,'"
      ]
     },
     "execution_count": 278,
     "metadata": {},
     "output_type": "execute_result"
    }
   ],
   "source": [
    "','.join(f'{s:.5f}' if s is not None else '' for s in [1,2,3,None,4,4,None])"
   ]
  },
  {
   "cell_type": "code",
   "execution_count": 280,
   "metadata": {},
   "outputs": [],
   "source": [
    "from sklearn.metrics import roc_auc_score\n",
    "import numpy as np"
   ]
  },
  {
   "cell_type": "code",
   "execution_count": 301,
   "metadata": {},
   "outputs": [
    {
     "data": {
      "text/plain": [
       "(array([[0, 0, 1, 0, 1],\n",
       "        [0, 0, 1, 0, 1],\n",
       "        [1, 1, 0, 1, 0],\n",
       "        [1, 0, 0, 1, 0],\n",
       "        [0, 0, 0, 1, 0],\n",
       "        [1, 0, 0, 0, 1],\n",
       "        [0, 1, 1, 1, 1],\n",
       "        [0, 1, 1, 0, 0],\n",
       "        [0, 1, 1, 0, 1],\n",
       "        [1, 0, 1, 1, 1]]),\n",
       " array([[0.13655995, 0.58067257, 0.4758888 , 0.01857358, 0.90228371],\n",
       "        [0.14327247, 0.99197391, 0.37433684, 0.81784944, 0.31000734],\n",
       "        [0.30670386, 0.8831272 , 0.38707029, 0.02805834, 0.20474047],\n",
       "        [0.84755107, 0.20126986, 0.93645088, 0.92002467, 0.4051819 ],\n",
       "        [0.01372999, 0.12910772, 0.59537521, 0.18069637, 0.15656574],\n",
       "        [0.81544862, 0.84454266, 0.81466468, 0.0823764 , 0.10051308],\n",
       "        [0.22296433, 0.64325898, 0.87730709, 0.68973472, 0.94932946],\n",
       "        [0.80919735, 0.68117015, 0.01128755, 0.78992126, 0.42008587],\n",
       "        [0.70502539, 0.19442073, 0.55524255, 0.05112857, 0.47034507],\n",
       "        [0.35802589, 0.86911532, 0.1968217 , 0.58394408, 0.11611865]]))"
      ]
     },
     "execution_count": 301,
     "metadata": {},
     "output_type": "execute_result"
    }
   ],
   "source": [
    "labels = np.random.randint(0, 2, (10, 5))\n",
    "# labels[:, 0] = 0\n",
    "scores = np.random.rand(10, 5)\n",
    "labels, scores"
   ]
  },
  {
   "cell_type": "code",
   "execution_count": 293,
   "metadata": {},
   "outputs": [
    {
     "data": {
      "text/plain": [
       "[[0, 1, 0, 0, 1],\n",
       " [0, 1, 0, 0, 1],\n",
       " [1, 0, 0, 0, 1],\n",
       " [1, 1, 1, 1, 1],\n",
       " [0, 0, 1, 1, 1],\n",
       " [1, 1, 0, 0, 1],\n",
       " [1, 0, 1, 1, 0],\n",
       " [1, 0, 0, 1, 1],\n",
       " [0, 1, 1, 1, 1],\n",
       " [1, 1, 1, 1, 1]]"
      ]
     },
     "execution_count": 293,
     "metadata": {},
     "output_type": "execute_result"
    }
   ],
   "source": [
    "labels.tolist()"
   ]
  },
  {
   "cell_type": "code",
   "execution_count": 302,
   "metadata": {},
   "outputs": [
    {
     "data": {
      "text/plain": [
       "array([0.83333333, 0.5       , 0.20833333, 0.6       , 0.58333333])"
      ]
     },
     "execution_count": 302,
     "metadata": {},
     "output_type": "execute_result"
    }
   ],
   "source": [
    "roc_auc_score(labels.tolist(), scores.tolist(), average=None, )"
   ]
  },
  {
   "cell_type": "code",
   "execution_count": 295,
   "metadata": {},
   "outputs": [],
   "source": [
    "import random"
   ]
  },
  {
   "cell_type": "code",
   "execution_count": 296,
   "metadata": {},
   "outputs": [
    {
     "data": {
      "text/plain": [
       "0.4643210768973631"
      ]
     },
     "execution_count": 296,
     "metadata": {},
     "output_type": "execute_result"
    }
   ],
   "source": [
    "random.random()"
   ]
  },
  {
   "cell_type": "code",
   "execution_count": 310,
   "metadata": {},
   "outputs": [],
   "source": [
    "bce = nn.BCEWithLogitsLoss(reduction='none')"
   ]
  },
  {
   "cell_type": "code",
   "execution_count": 351,
   "metadata": {},
   "outputs": [],
   "source": [
    "_output = torch.randn((20, 6))\n",
    "_target = torch.empty((20, 6)).random_(2)\n",
    "# _output, _target"
   ]
  },
  {
   "cell_type": "code",
   "execution_count": 323,
   "metadata": {},
   "outputs": [
    {
     "data": {
      "text/plain": [
       "tensor([[0.5118, 1.4194, 0.4911, 0.5084, 0.3416, 1.6968],\n",
       "        [1.3920, 0.3531, 0.6241, 2.0380, 1.3193, 0.9906],\n",
       "        [0.7879, 0.4139, 0.3359, 0.7290, 0.6034, 1.2483],\n",
       "        [0.4240, 0.6391, 0.6337, 0.3318, 0.9897, 1.0377],\n",
       "        [0.2391, 1.5802, 0.4641, 0.8932, 0.3398, 0.7600]])"
      ]
     },
     "execution_count": 323,
     "metadata": {},
     "output_type": "execute_result"
    }
   ],
   "source": [
    "loss = bce(_output, _target)\n",
    "loss"
   ]
  },
  {
   "cell_type": "code",
   "execution_count": 336,
   "metadata": {},
   "outputs": [
    {
     "data": {
      "text/plain": [
       "(tensor([3., 1., 2., 1., 5., 3.]),\n",
       " tensor([2., 4., 3., 4., 0., 2.]),\n",
       " tensor([5., 5., 5., 5., 5., 5.]))"
      ]
     },
     "execution_count": 336,
     "metadata": {},
     "output_type": "execute_result"
    }
   ],
   "source": [
    "positive = _target.sum(0)\n",
    "negative = (1 - _target).sum(0)\n",
    "total = positive + negative\n",
    "positive, negative, total"
   ]
  },
  {
   "cell_type": "code",
   "execution_count": 337,
   "metadata": {},
   "outputs": [
    {
     "data": {
      "text/plain": [
       "tensor([0.6000, 0.2000, 0.4000, 0.2000, 1.0000, 0.6000])"
      ]
     },
     "execution_count": 337,
     "metadata": {},
     "output_type": "execute_result"
    }
   ],
   "source": [
    "positive / 5"
   ]
  },
  {
   "cell_type": "code",
   "execution_count": 339,
   "metadata": {},
   "outputs": [
    {
     "data": {
      "text/plain": [
       "(tensor([0.4000, 0.7000, 0.6000, 0.7000, 0.3000, 0.4000]),\n",
       " tensor([0.6000, 0.2000, 0.4000, 0.2000, 1.0000, 0.6000]))"
      ]
     },
     "execution_count": 339,
     "metadata": {},
     "output_type": "execute_result"
    }
   ],
   "source": [
    "BP = (negative / total).clamp_(0.3, 0.7)\n",
    "BN = positive / total\n",
    "BP, BN"
   ]
  },
  {
   "cell_type": "code",
   "execution_count": 340,
   "metadata": {},
   "outputs": [
    {
     "data": {
      "text/plain": [
       "tensor([0.4000, 0.7000, 0.6000, 0.7000, 0.3000, 0.4000])"
      ]
     },
     "execution_count": 340,
     "metadata": {},
     "output_type": "execute_result"
    }
   ],
   "source": [
    "BP.clamp()"
   ]
  },
  {
   "cell_type": "code",
   "execution_count": 338,
   "metadata": {},
   "outputs": [
    {
     "data": {
      "text/plain": [
       "tensor(0.2671)"
      ]
     },
     "execution_count": 338,
     "metadata": {},
     "output_type": "execute_result"
    }
   ],
   "source": [
    "((_target * BP + (1 - _target) * BN) * loss).mean()"
   ]
  },
  {
   "cell_type": "code",
   "execution_count": 328,
   "metadata": {},
   "outputs": [
    {
     "data": {
      "text/plain": [
       "tensor([[0.2047, 0.2839, 0.2947, 0.1017, 0.0000, 0.6787],\n",
       "        [0.5568, 0.0706, 0.2496, 0.4076, 0.0000, 0.3962],\n",
       "        [0.4727, 0.3311, 0.1343, 0.1458, 0.0000, 0.4993],\n",
       "        [0.2544, 0.1278, 0.2535, 0.0664, 0.0000, 0.6226],\n",
       "        [0.0956, 0.3160, 0.2784, 0.7146, 0.0000, 0.4560]])"
      ]
     },
     "execution_count": 328,
     "metadata": {},
     "output_type": "execute_result"
    }
   ],
   "source": [
    "-BP * _target * torch.log(torch.sigmoid(_output)) - BN * (1 - _target) * torch.log(1 - torch.sigmoid(_output))"
   ]
  },
  {
   "cell_type": "code",
   "execution_count": 313,
   "metadata": {
    "scrolled": true
   },
   "outputs": [
    {
     "data": {
      "text/plain": [
       "tensor([1.5144, 0.4718, 0.3493])"
      ]
     },
     "execution_count": 313,
     "metadata": {},
     "output_type": "execute_result"
    }
   ],
   "source": [
    "torch.randn(3)"
   ]
  },
  {
   "cell_type": "code",
   "execution_count": 312,
   "metadata": {},
   "outputs": [
    {
     "data": {
      "text/plain": [
       "tensor([0., 0., 1.])"
      ]
     },
     "execution_count": 312,
     "metadata": {},
     "output_type": "execute_result"
    }
   ],
   "source": [
    "target = torch.empty(3).random_(2)\n",
    "target"
   ]
  },
  {
   "cell_type": "code",
   "execution_count": 366,
   "metadata": {},
   "outputs": [],
   "source": [
    "class WeigthedBCEByClassLoss(nn.Module):\n",
    "    def __init__(self, epsilon=1e-7):\n",
    "        super().__init__()\n",
    "        self.bce = nn.BCEWithLogitsLoss(reduction='none')\n",
    "        self.epsilon = epsilon\n",
    "\n",
    "    def forward(self, output, target):\n",
    "        target = target.float()\n",
    "        not_target = 1 - target\n",
    "        positive = target.sum(0)\n",
    "        negative = not_target.sum(0)\n",
    "        total = target.size(0)\n",
    "        pos_weight = negative / positive.clamp(1, total)\n",
    "        neg_weight = positive / negative.clamp(1, total)\n",
    "        pos_weight.clamp_(1, total * 0.3)\n",
    "        neg_weight.clamp_(1, total * 0.3)\n",
    "        print(pos_weight, neg_weight)\n",
    "        # weight_sum = pos_weight + neg_weight\n",
    "        # pos_weight = pos_weight / weight_sum\n",
    "        # neg_weight = neg_weight / weight_sum\n",
    "        loss = (target * pos_weight + not_target * neg_weight) * self.bce(output, target)\n",
    "        return loss.mean()"
   ]
  },
  {
   "cell_type": "code",
   "execution_count": 367,
   "metadata": {},
   "outputs": [],
   "source": [
    "wbce = WeigthedBCEByClassLoss()"
   ]
  },
  {
   "cell_type": "code",
   "execution_count": 357,
   "metadata": {},
   "outputs": [
    {
     "name": "stdout",
     "output_type": "stream",
     "text": [
      "tensor([1.0000, 1.0000, 1.0000, 1.8571, 1.2222, 2.3333]) tensor([1.2222, 1.2222, 1.8571, 1.0000, 1.0000, 1.0000])\n"
     ]
    },
    {
     "data": {
      "text/plain": [
       "tensor(0.8510)"
      ]
     },
     "execution_count": 357,
     "metadata": {},
     "output_type": "execute_result"
    }
   ],
   "source": [
    "wbce(_output, _target)"
   ]
  },
  {
   "cell_type": "code",
   "execution_count": 368,
   "metadata": {},
   "outputs": [
    {
     "name": "stdout",
     "output_type": "stream",
     "text": [
      "tensor([0.2000, 0.2000, 0.2000, 0.2000, 0.2000, 0.2000]) tensor([0.2000, 0.2000, 0.2000, 0.2000, 0.2000, 0.2000])\n"
     ]
    },
    {
     "data": {
      "text/plain": [
       "tensor(0.1415)"
      ]
     },
     "execution_count": 368,
     "metadata": {},
     "output_type": "execute_result"
    }
   ],
   "source": [
    "wbce(_output, _target)"
   ]
  },
  {
   "cell_type": "code",
   "execution_count": 1,
   "metadata": {},
   "outputs": [],
   "source": [
    "from medvqa.utils.files import load_json_file\n",
    "from medvqa.datasets.mimiccxr import MIMICCXR_CACHE_DIR\n",
    "from medvqa.datasets.iuxray import IUXRAY_CACHE_DIR\n",
    "from medvqa.datasets.tokenizer import Tokenizer\n",
    "\n",
    "import random\n",
    "import os"
   ]
  },
  {
   "cell_type": "code",
   "execution_count": 2,
   "metadata": {},
   "outputs": [],
   "source": [
    "reports = load_json_file(os.path.join(MIMICCXR_CACHE_DIR, 'qa_adapted_reports__20220904_095810.json'))"
   ]
  },
  {
   "cell_type": "code",
   "execution_count": 3,
   "metadata": {},
   "outputs": [],
   "source": [
    "reports_ = load_json_file(os.path.join(IUXRAY_CACHE_DIR, 'qa_adapted_reports__20220904_091601.json'))"
   ]
  },
  {
   "cell_type": "code",
   "execution_count": 4,
   "metadata": {},
   "outputs": [
    {
     "name": "stderr",
     "output_type": "stream",
     "text": [
      "1427203it [00:08, 176284.83it/s]"
     ]
    },
    {
     "name": "stdout",
     "output_type": "stream",
     "text": [
      "Vocabulary saved to /home/pamessina/medvqa-workspace/cache/vocab__min_freq=10__mode=report__from(qa_adapted_reports__20220904_095810.json;qa_adapted_reports__20220904_091601.json).pkl\n"
     ]
    },
    {
     "name": "stderr",
     "output_type": "stream",
     "text": [
      "\n"
     ]
    }
   ],
   "source": [
    "tokenizer = Tokenizer([\n",
    "    os.path.join(MIMICCXR_CACHE_DIR, 'qa_adapted_reports__20220904_095810.json'),\n",
    "    os.path.join(IUXRAY_CACHE_DIR, 'qa_adapted_reports__20220904_091601.json'),\n",
    "], mode='report', min_freq=10, medical_terms_frequency_filename='medical_terms_frequency__20220904_105617.pkl',\n",
    "    overwrite=True)"
   ]
  },
  {
   "cell_type": "code",
   "execution_count": 6,
   "metadata": {},
   "outputs": [
    {
     "data": {
      "text/plain": [
       "4838"
      ]
     },
     "execution_count": 6,
     "metadata": {},
     "output_type": "execute_result"
    }
   ],
   "source": [
    "tokenizer.vocab_size"
   ]
  },
  {
   "cell_type": "code",
   "execution_count": 7,
   "metadata": {},
   "outputs": [
    {
     "data": {
      "text/plain": [
       "{'sentences': ['Heart size is normal',\n",
       "  'There are mild aortic knob calcifications',\n",
       "  'Cardiomediastinal silhouette and hilar contours are otherwise unremarkable',\n",
       "  'Lungs are clear',\n",
       "  'Pleural surfaces are clear without effusion or pneumothorax',\n",
       "  'No acute cardiopulmonary abnormality'],\n",
       " 'invalid': [],\n",
       " 'unmatched': [],\n",
       " 'matched': [0, 1, 2, 3, 4, 5],\n",
       " 'qa': {'48': [0, 5],\n",
       "  '90': [1],\n",
       "  '24': [1],\n",
       "  '75': [2],\n",
       "  '26': [2],\n",
       "  '63': [2],\n",
       "  '59': [3, 5],\n",
       "  '68': [4],\n",
       "  '73': [4]},\n",
       " 'question_ids': [48, 90, 24, 75, 26, 63, 59, 68, 73],\n",
       " 'filepath': '/mnt/data/mimic-cxr/files/p10/p10703179/s58829627.txt',\n",
       " 'background': 'indication: New dyspnea on exertion.'}"
      ]
     },
     "execution_count": 7,
     "metadata": {},
     "output_type": "execute_result"
    }
   ],
   "source": [
    "reports['reports'][0]"
   ]
  },
  {
   "cell_type": "code",
   "execution_count": 12,
   "metadata": {},
   "outputs": [
    {
     "name": "stdout",
     "output_type": "stream",
     "text": [
      "{'sentences': ['Single frontal view of the chest', 'The lungs are clear without focal consolidation', 'No pleural effusion or pneumothorax is seen', 'The cardiac and mediastinal silhouettes are stable', 'No acute cardiopulmonary process'], 'invalid': [], 'unmatched': [0], 'matched': [1, 2, 3, 4], 'qa': {'59': [1, 4], '32': [1], '68': [2], '73': [2], '26': [3], '63': [3], '48': [4]}, 'question_ids': [59, 32, 68, 73, 26, 63, 48], 'filepath': '/mnt/data/mimic-cxr/files/p11/p11172653/s57202012.txt', 'background': 'indication: History: F with Lower GI bleed // Eval for infiltrate.'}\n",
      "\n",
      "Single frontal view of the chest. The lungs are clear without focal consolidation. No pleural effusion or pneumothorax is seen. The cardiac and mediastinal silhouettes are stable. No acute cardiopulmonary process\n",
      "\n",
      "<s> lungs clear no focal consolidation . no pleural effusion pneumothorax . cardiac mediastinal silhouette stable . no cardiopulmonary process </s>\n"
     ]
    }
   ],
   "source": [
    "x = random.choice(reports['reports'])\n",
    "r_raw = '. '.join(x['sentences'])\n",
    "r = '. '.join(x['sentences'][i] for i in x['matched'])\n",
    "# r, tokenizer.ids2string(tokenizer.string2ids(r))\n",
    "print(x)\n",
    "print()\n",
    "print(r_raw)\n",
    "print()\n",
    "print(tokenizer.ids2string(tokenizer.tokenize(r)))"
   ]
  },
  {
   "cell_type": "code",
   "execution_count": 32,
   "metadata": {},
   "outputs": [
    {
     "data": {
      "text/plain": [
       "55"
      ]
     },
     "execution_count": 32,
     "metadata": {},
     "output_type": "execute_result"
    }
   ],
   "source": [
    "tokenizer.token2id[':']"
   ]
  },
  {
   "cell_type": "code",
   "execution_count": 26,
   "metadata": {},
   "outputs": [],
   "source": [
    "from nltk import wordpunct_tokenize"
   ]
  },
  {
   "cell_type": "code",
   "execution_count": 13,
   "metadata": {},
   "outputs": [],
   "source": [
    "# wordpunct_tokenize('Comparison is made to radiograph dated .. lateral chest radiographs were obtained. Previously suspected small right pneumothorax along the right costophrenic angle has resolved , or may have been artifactual on the prior study. There is no new pneumothorax identified. Lungs are clear bilaterally with no focal consolidation. Cardiomediastinal and hilar contours are normal. There is no pleural effusion. Osseous structures are without an acute abnormality. Resolution of prior small right pneumothorax. No acute intrathoracic abnormality is detected')"
   ]
  },
  {
   "cell_type": "code",
   "execution_count": 85,
   "metadata": {},
   "outputs": [
    {
     "data": {
      "text/plain": [
       "[1, 2]"
      ]
     },
     "execution_count": 85,
     "metadata": {},
     "output_type": "execute_result"
    }
   ],
   "source": [
    "tokenizer.tokenize(\"\")"
   ]
  },
  {
   "cell_type": "code",
   "execution_count": 73,
   "metadata": {},
   "outputs": [],
   "source": [
    "import torch"
   ]
  },
  {
   "cell_type": "code",
   "execution_count": 74,
   "metadata": {},
   "outputs": [],
   "source": [
    "tmp = torch.nn.parameter.Parameter(torch.Tensor(14, 10))"
   ]
  },
  {
   "cell_type": "code",
   "execution_count": 76,
   "metadata": {},
   "outputs": [],
   "source": [
    "batch = torch.rand(5, 14)"
   ]
  },
  {
   "cell_type": "code",
   "execution_count": 84,
   "metadata": {},
   "outputs": [
    {
     "data": {
      "text/plain": [
       "torch.Size([5, 10])"
      ]
     },
     "execution_count": 84,
     "metadata": {},
     "output_type": "execute_result"
    }
   ],
   "source": [
    "torch.matmul(batch, tmp).shape"
   ]
  },
  {
   "cell_type": "code",
   "execution_count": 23,
   "metadata": {},
   "outputs": [
    {
     "data": {
      "text/plain": [
       "{'sentences': ['Frontal and lateral views of the chest are compared to prior from',\n",
       "  'There is diffuse increased interstitial markings in the lungs , most notably at the bases',\n",
       "  'There is no large confluent consolidation',\n",
       "  'Cardiac silhouette is enlarged , stable in configuration',\n",
       "  'Degenerative changes and potentially post-traumatic changes identified at the left glenohumeral joint',\n",
       "  'Hypertrophic changes are seen in the spine',\n",
       "  'Increased interstitial markings in the lungs bilaterally , slightly more so',\n",
       "  \"This is compatible with patient's underlying chronic lung disease , component of infection or pulmonary edema is not completely excluded\"],\n",
       " 'invalid': [],\n",
       " 'unmatched': [0],\n",
       " 'matched': [1, 2, 3, 4, 5, 6, 7],\n",
       " 'qa': {'59': [1, 6],\n",
       "  '52': [1, 6],\n",
       "  '61': [1, 6],\n",
       "  '32': [2],\n",
       "  '26': [3],\n",
       "  '16': [4, 5],\n",
       "  '94': [4],\n",
       "  '36': [7],\n",
       "  '50': [7]},\n",
       " 'question_ids': [59, 52, 61, 32, 26, 16, 94, 36, 50],\n",
       " 'filepath': '/mnt/data/mimic-cxr/files/p10/p10083833/s59766637.txt',\n",
       " 'background': 'history: -year-old male with chest pain. Question pneumonia or CHF. History of NSIP.'}"
      ]
     },
     "execution_count": 23,
     "metadata": {},
     "output_type": "execute_result"
    }
   ],
   "source": [
    "reports['reports'][20]"
   ]
  },
  {
   "cell_type": "code",
   "execution_count": 27,
   "metadata": {},
   "outputs": [
    {
     "data": {
      "text/plain": [
       "['lungs?',\n",
       " 'interstitial lung disease?',\n",
       " 'markings?',\n",
       " 'consolidation?',\n",
       " 'cardiac silhouette?',\n",
       " 'bones?',\n",
       " 'trauma?',\n",
       " 'edema?',\n",
       " 'infection?']"
      ]
     },
     "execution_count": 27,
     "metadata": {},
     "output_type": "execute_result"
    }
   ],
   "source": [
    "[reports['questions'][x] for x in reports['reports'][20]['question_ids']]"
   ]
  },
  {
   "cell_type": "code",
   "execution_count": 16,
   "metadata": {},
   "outputs": [],
   "source": [
    "from IPython.display import Image"
   ]
  },
  {
   "cell_type": "code",
   "execution_count": 26,
   "metadata": {},
   "outputs": [
    {
     "data": {
      "image/jpeg": "[encoded data removed]",
      "text/plain": [
       "<IPython.core.display.Image object>"
      ]
     },
     "execution_count": 26,
     "metadata": {},
     "output_type": "execute_result"
    }
   ],
   "source": [
    "Image('/mnt/data/mimic-cxr-jpg/images-small/p10/p10083833/s59766637/8ad4512f-06c0b241-ef2e1e18-708c89ac-37ad8160.jpg')"
   ]
  },
  {
   "cell_type": "code",
   "execution_count": 28,
   "metadata": {},
   "outputs": [],
   "source": [
    "from PIL import Image\n",
    "img = Image.open('/mnt/data/mimic-cxr-jpg/images-small/p10/p10083833/s59766637/8ad4512f-06c0b241-ef2e1e18-708c89ac-37ad8160.jpg').convert('RGB')"
   ]
  },
  {
   "cell_type": "code",
   "execution_count": 32,
   "metadata": {},
   "outputs": [],
   "source": [
    "import numpy as np"
   ]
  },
  {
   "cell_type": "code",
   "execution_count": 34,
   "metadata": {},
   "outputs": [
    {
     "data": {
      "image/png": "[encoded data removed]",
      "text/plain": [
       "<PIL.Image.Image image mode=RGB size=256x256 at 0x7F129A1E8320>"
      ]
     },
     "execution_count": 34,
     "metadata": {},
     "output_type": "execute_result"
    }
   ],
   "source": [
    "Image.fromarray(np.uint8(np.random.rand(256, 256, 3)*255))"
   ]
  },
  {
   "cell_type": "code",
   "execution_count": 31,
   "metadata": {},
   "outputs": [
    {
     "data": {
      "text/plain": [
       "(256, 256)"
      ]
     },
     "execution_count": 31,
     "metadata": {},
     "output_type": "execute_result"
    }
   ],
   "source": [
    "img.size"
   ]
  },
  {
   "cell_type": "code",
   "execution_count": 1,
   "metadata": {},
   "outputs": [],
   "source": [
    "import torch"
   ]
  },
  {
   "cell_type": "code",
   "execution_count": 5,
   "metadata": {},
   "outputs": [],
   "source": [
    "sim_pos = torch.rand(5)\n",
    "sim_neg = -torch.rand(5)"
   ]
  },
  {
   "cell_type": "code",
   "execution_count": 11,
   "metadata": {},
   "outputs": [],
   "source": [
    "sim = torch.empty((len(sim_pos), 1 + len(sim_neg)))\n",
    "sim[:, 0] = sim_pos\n",
    "sim[:, 1:] = sim_neg"
   ]
  },
  {
   "cell_type": "code",
   "execution_count": 12,
   "metadata": {},
   "outputs": [
    {
     "data": {
      "text/plain": [
       "(tensor([0.1328, 0.5664, 0.5693, 0.7387, 0.0510]),\n",
       " tensor([-0.6859, -0.8792, -0.9221, -0.2595, -0.5328]),\n",
       " tensor([[ 0.1328, -0.6859, -0.8792, -0.9221, -0.2595, -0.5328],\n",
       "         [ 0.5664, -0.6859, -0.8792, -0.9221, -0.2595, -0.5328],\n",
       "         [ 0.5693, -0.6859, -0.8792, -0.9221, -0.2595, -0.5328],\n",
       "         [ 0.7387, -0.6859, -0.8792, -0.9221, -0.2595, -0.5328],\n",
       "         [ 0.0510, -0.6859, -0.8792, -0.9221, -0.2595, -0.5328]]))"
      ]
     },
     "execution_count": 12,
     "metadata": {},
     "output_type": "execute_result"
    }
   ],
   "source": [
    "sim_pos, sim_neg, sim"
   ]
  },
  {
   "cell_type": "code",
   "execution_count": 13,
   "metadata": {},
   "outputs": [],
   "source": [
    "import torch\n",
    "\n",
    "class NTXentLoss(torch.nn.Module):\n",
    "    def __init__(self, temperature, device):\n",
    "        super().__init__()\n",
    "        self.temperature = temperature\n",
    "        self.criterion = torch.nn.CrossEntropyLoss(reduction='mean')\n",
    "        self.device = device\n",
    "\n",
    "    def forward(self, pos_sim, neg_sim):\n",
    "        # Create matrix of shape (K_pos, 1 + K_neg), where the first column\n",
    "        # is the positive similarity and the remaining columns are the\n",
    "        # negative similarity values.\n",
    "        sim = torch.empty((len(pos_sim), 1 + len(neg_sim)))\n",
    "        sim[:, 0] = pos_sim\n",
    "        sim[:, 1:] = neg_sim\n",
    "        # Scale the similarities by the temperature parameter.\n",
    "        sim /= self.temperature\n",
    "        # Compute cross entropy loss.\n",
    "        labels = torch.zeros(len(pos_sim), dtype=torch.long).to(self.device) # 0 is the positive pair\n",
    "        loss = self.criterion(sim, labels)\n",
    "        return loss"
   ]
  },
  {
   "cell_type": "code",
   "execution_count": 18,
   "metadata": {},
   "outputs": [],
   "source": [
    "criterion = NTXentLoss(0.1, 'cpu')"
   ]
  },
  {
   "cell_type": "code",
   "execution_count": 19,
   "metadata": {},
   "outputs": [
    {
     "data": {
      "text/plain": [
       "tensor(0.0138)"
      ]
     },
     "execution_count": 19,
     "metadata": {},
     "output_type": "execute_result"
    }
   ],
   "source": [
    "criterion(sim_pos, sim_neg)"
   ]
  },
  {
   "cell_type": "code",
   "execution_count": 32,
   "metadata": {},
   "outputs": [
    {
     "data": {
      "text/plain": [
       "tensor([0.4286, 0.0000, 0.3333, 0.5000, 0.1429])"
      ]
     },
     "execution_count": 32,
     "metadata": {},
     "output_type": "execute_result"
    }
   ],
   "source": [
    "a = torch.rand(5, 10) > 0.5\n",
    "b = (torch.rand(5, 10) > 0.5) + 0\n",
    "(a & a).sum(-1) / (a | b).sum(-1)"
   ]
  },
  {
   "cell_type": "code",
   "execution_count": 45,
   "metadata": {},
   "outputs": [],
   "source": [
    "a = torch.rand(5, 4, 10)\n",
    "b = torch.rand(5, 9, 10)"
   ]
  },
  {
   "cell_type": "code",
   "execution_count": 48,
   "metadata": {},
   "outputs": [
    {
     "data": {
      "text/plain": [
       "torch.Size([5, 4, 9, 10])"
      ]
     },
     "execution_count": 48,
     "metadata": {},
     "output_type": "execute_result"
    }
   ],
   "source": [
    "(a.unsqueeze(2) * b.unsqueeze(1)).shape"
   ]
  },
  {
   "cell_type": "code",
   "execution_count": 1,
   "metadata": {},
   "outputs": [],
   "source": [
    "from medvqa.utils.files import load_pickle"
   ]
  },
  {
   "cell_type": "code",
   "execution_count": 2,
   "metadata": {},
   "outputs": [],
   "source": [
    "tmp = load_pickle('/mnt/workspace/pamessina/medvqa-workspace/cache/mimiccxr/nli_classes(hash=706,3904515100811994876).pkl')"
   ]
  },
  {
   "cell_type": "code",
   "execution_count": 25,
   "metadata": {},
   "outputs": [],
   "source": [
    "tmp2 = load_pickle('/mnt/workspace/pamessina/medvqa-workspace/cache/mimiccxr/representative_facts(hash=391,248059762588202032).pkl')"
   ]
  },
  {
   "cell_type": "code",
   "execution_count": 26,
   "metadata": {},
   "outputs": [
    {
     "data": {
      "text/plain": [
       "dict_keys(['representative_facts', 'representative_fact_embeddings', 'dedup_facts', 'dedup_fact_embeddings'])"
      ]
     },
     "execution_count": 26,
     "metadata": {},
     "output_type": "execute_result"
    }
   ],
   "source": [
    "tmp2.keys()"
   ]
  },
  {
   "cell_type": "code",
   "execution_count": 29,
   "metadata": {},
   "outputs": [],
   "source": [
    "tmp3 = load_pickle('/mnt/workspace/pamessina/medvqa-workspace/cache/mimiccxr/integrated_report_annotations(hash=1005,3660907086036749586).pkl')"
   ]
  },
  {
   "cell_type": "code",
   "execution_count": 30,
   "metadata": {},
   "outputs": [
    {
     "data": {
      "text/plain": [
       "dict_keys(['reports', 'cluster_based_label_names', 'sentences', 'sentence_embeddings', 'sentence_cluster_ids', 'sentence_fact_idxs', 'facts', 'fact_embeddings', 'fact_cluster_ids', 'fact_metadata', 'anatomical_locations', 'anatomical_location_embeddings', 'anatomical_location_cluster_ids'])"
      ]
     },
     "execution_count": 30,
     "metadata": {},
     "output_type": "execute_result"
    }
   ],
   "source": [
    "tmp3.keys()"
   ]
  },
  {
   "cell_type": "code",
   "execution_count": 32,
   "metadata": {},
   "outputs": [],
   "source": [
    "findings_fact_idxs = set()\n",
    "for r in tmp3['reports']:\n",
    "    findings_fact_idxs.update(r['findings_fact_idxs'])\n",
    "findings_fact_idxs = list(findings_fact_idxs)\n",
    "findings_fact_idxs.sort()\n",
    "facts = tmp3['facts']\n",
    "facts = [facts[i] for i in findings_fact_idxs]"
   ]
  },
  {
   "cell_type": "code",
   "execution_count": 33,
   "metadata": {},
   "outputs": [
    {
     "data": {
      "text/plain": [
       "502588"
      ]
     },
     "execution_count": 33,
     "metadata": {},
     "output_type": "execute_result"
    }
   ],
   "source": [
    "len(facts)"
   ]
  },
  {
   "cell_type": "code",
   "execution_count": 15,
   "metadata": {},
   "outputs": [],
   "source": [
    "from collections import Counter"
   ]
  },
  {
   "cell_type": "code",
   "execution_count": 18,
   "metadata": {},
   "outputs": [
    {
     "data": {
      "text/plain": [
       "107.057294"
      ]
     },
     "execution_count": 18,
     "metadata": {},
     "output_type": "execute_result"
    }
   ],
   "source": [
    "107057294 / 1e6"
   ]
  },
  {
   "cell_type": "code",
   "execution_count": 20,
   "metadata": {},
   "outputs": [
    {
     "data": {
      "text/plain": [
       "6.205479"
      ]
     },
     "execution_count": 20,
     "metadata": {},
     "output_type": "execute_result"
    }
   ],
   "source": [
    "6205479 / 1e6"
   ]
  },
  {
   "cell_type": "code",
   "execution_count": 21,
   "metadata": {},
   "outputs": [],
   "source": [
    "import random"
   ]
  },
  {
   "cell_type": "code",
   "execution_count": 48,
   "metadata": {},
   "outputs": [
    {
     "name": "stdout",
     "output_type": "stream",
     "text": [
      "92697269\n",
      "375292\n",
      "supine position of the patient makes evaluation of pleural effusion impossible\n",
      "145\n",
      "dextroscoliosis of the spine\n",
      "2\n"
     ]
    }
   ],
   "source": [
    "i = random.randint(0, len(tmp['NLI_classes'])-1)\n",
    "print(i)\n",
    "print(tmp['P_index'][i])\n",
    "print(facts[tmp['P_index'][i]])\n",
    "print(tmp['H_index'][i])\n",
    "print(tmp2['dedup_facts'][tmp['H_index'][i]])\n",
    "print(tmp['NLI_classes'][i])"
   ]
  },
  {
   "cell_type": "code",
   "execution_count": 16,
   "metadata": {},
   "outputs": [
    {
     "data": {
      "text/plain": [
       "Counter({0: 107057294, 2: 10876463, 1: 6205479})"
      ]
     },
     "execution_count": 16,
     "metadata": {},
     "output_type": "execute_result"
    }
   ],
   "source": [
    "Counter(tmp['NLI_classes'])"
   ]
  },
  {
   "cell_type": "code",
   "execution_count": 3,
   "metadata": {},
   "outputs": [],
   "source": [
    "import torch"
   ]
  },
  {
   "cell_type": "code",
   "execution_count": 45,
   "metadata": {},
   "outputs": [],
   "source": [
    "list1 = [torch.rand(10) for _ in range(1)]\n",
    "list2 = [torch.rand(10) for _ in range(2)]\n",
    "list3 = [torch.rand(10) for _ in range(3)]\n",
    "list4 = [torch.rand(10) for _ in range(3)]"
   ]
  },
  {
   "cell_type": "code",
   "execution_count": 46,
   "metadata": {},
   "outputs": [],
   "source": [
    "lists = [list1, list2, list3, list4]"
   ]
  },
  {
   "cell_type": "code",
   "execution_count": 47,
   "metadata": {},
   "outputs": [
    {
     "name": "stdout",
     "output_type": "stream",
     "text": [
      "torch.Size([1, 10])\n",
      "torch.Size([2, 10])\n",
      "torch.Size([3, 10])\n",
      "torch.Size([3, 10])\n"
     ]
    }
   ],
   "source": [
    "t1 = torch.stack(list1)\n",
    "t2 = torch.stack(list2)\n",
    "t3 = torch.stack(list3)\n",
    "t4 = torch.stack(list4)\n",
    "print(t1.shape)\n",
    "print(t2.shape)\n",
    "print(t3.shape)\n",
    "print(t4.shape)"
   ]
  },
  {
   "cell_type": "code",
   "execution_count": 48,
   "metadata": {},
   "outputs": [],
   "source": [
    "out = torch.nn.utils.rnn.pad_sequence([t1, t2, t3, t4], batch_first=True)"
   ]
  },
  {
   "cell_type": "code",
   "execution_count": 49,
   "metadata": {},
   "outputs": [
    {
     "data": {
      "text/plain": [
       "tensor([[[0.2341, 0.3336, 0.0703, 0.0592, 0.8050, 0.4212, 0.7382, 0.8715,\n",
       "          0.3452, 0.8725],\n",
       "         [0.0000, 0.0000, 0.0000, 0.0000, 0.0000, 0.0000, 0.0000, 0.0000,\n",
       "          0.0000, 0.0000],\n",
       "         [0.0000, 0.0000, 0.0000, 0.0000, 0.0000, 0.0000, 0.0000, 0.0000,\n",
       "          0.0000, 0.0000]],\n",
       "\n",
       "        [[0.3444, 0.6753, 0.3539, 0.2217, 0.8758, 0.3120, 0.3791, 0.8879,\n",
       "          0.5261, 0.8365],\n",
       "         [0.3887, 0.6904, 0.7415, 0.0708, 0.8439, 0.1548, 0.1611, 0.9988,\n",
       "          0.8611, 0.5633],\n",
       "         [0.0000, 0.0000, 0.0000, 0.0000, 0.0000, 0.0000, 0.0000, 0.0000,\n",
       "          0.0000, 0.0000]],\n",
       "\n",
       "        [[0.9355, 0.3520, 0.4743, 0.5851, 0.4685, 0.1721, 0.6958, 0.6573,\n",
       "          0.7703, 0.7217],\n",
       "         [0.9665, 0.1890, 0.7165, 0.7014, 0.7632, 0.4182, 0.9142, 0.3466,\n",
       "          0.2934, 0.6462],\n",
       "         [0.4945, 0.5487, 0.2548, 0.3120, 0.3339, 0.1275, 0.7066, 0.3061,\n",
       "          0.4256, 0.3045]],\n",
       "\n",
       "        [[0.4786, 0.2917, 0.7880, 0.4865, 0.0576, 0.2024, 0.1920, 0.3995,\n",
       "          0.0166, 0.6298],\n",
       "         [0.1242, 0.5392, 0.2774, 0.2737, 0.7902, 0.7257, 0.7804, 0.0836,\n",
       "          0.9558, 0.0769],\n",
       "         [0.0081, 0.4692, 0.7802, 0.4315, 0.5911, 0.9238, 0.0879, 0.8177,\n",
       "          0.7408, 0.5378]]])"
      ]
     },
     "execution_count": 49,
     "metadata": {},
     "output_type": "execute_result"
    }
   ],
   "source": [
    "out"
   ]
  },
  {
   "cell_type": "code",
   "execution_count": 9,
   "metadata": {},
   "outputs": [],
   "source": [
    "import torch.nn as nn\n",
    "from torch import Tensor\n",
    "from torch.nn import TransformerEncoder, TransformerEncoderLayer\n",
    "from medvqa.models.nlp.positional_encoding import PositionalEncoding\n",
    "\n",
    "class TransformerModel(nn.Module):\n",
    "\n",
    "    def __init__(self, d_model: int, nhead: int, d_ff: int, nlayers: int, dropout: float = 0.):\n",
    "        super().__init__()\n",
    "        self.pos_encoder = PositionalEncoding(d_model, dropout)\n",
    "        encoder_layers = TransformerEncoderLayer(d_model, nhead, d_ff, dropout)\n",
    "        self.transformer_encoder = TransformerEncoder(encoder_layers, nlayers)\n",
    "        self.d_model = d_model\n",
    "\n",
    "    def forward(self, src: Tensor, src_key_padding_mask: Tensor) -> Tensor:\n",
    "        \"\"\"\n",
    "        Arguments:\n",
    "            src: Tensor, shape ``[seq_len, batch_size]``\n",
    "            src_key_padding_mask: Tensor, shape ``[batch_size, seq_len]``\n",
    "\n",
    "        Returns:\n",
    "            output Tensor of shape ``[seq_len, batch_size, d_model]``\n",
    "        \"\"\"\n",
    "        src = self.pos_encoder(src)\n",
    "        print('src:', src)\n",
    "        print('src.shape:', src.shape)\n",
    "        print('src_key_padding_mask:', src_key_padding_mask)\n",
    "        print('src_key_padding_mask.shape:', src_key_padding_mask.shape)\n",
    "        output = self.transformer_encoder(src=src, src_key_padding_mask=src_key_padding_mask)\n",
    "        print('output:', output)\n",
    "        print('output.shape:', output.shape)\n",
    "        return output"
   ]
  },
  {
   "cell_type": "code",
   "execution_count": 50,
   "metadata": {},
   "outputs": [],
   "source": [
    "tm = TransformerModel(d_model=10, nhead=1, d_ff=10, nlayers=4)"
   ]
  },
  {
   "cell_type": "code",
   "execution_count": 52,
   "metadata": {},
   "outputs": [],
   "source": [
    "src = torch.nn.utils.rnn.pad_sequence([t1, t2, t3, t4], batch_first=True, padding_value=0)"
   ]
  },
  {
   "cell_type": "code",
   "execution_count": 53,
   "metadata": {},
   "outputs": [],
   "source": [
    "batch_size = src.size(0)\n",
    "max_seq_len = src.size(1)\n",
    "key_padding_mask = torch.ones(batch_size, max_seq_len)\n",
    "for i, x in enumerate(lists):\n",
    "    key_padding_mask[i, len(x):] = 0\n",
    "key_padding_mask = key_padding_mask.transpose(0, 1) # shape: (max_seq_len, batch_size)"
   ]
  },
  {
   "cell_type": "code",
   "execution_count": 54,
   "metadata": {},
   "outputs": [
    {
     "data": {
      "text/plain": [
       "tensor([[1., 1., 1., 1.],\n",
       "        [0., 1., 1., 1.],\n",
       "        [0., 0., 1., 1.]])"
      ]
     },
     "execution_count": 54,
     "metadata": {},
     "output_type": "execute_result"
    }
   ],
   "source": [
    "key_padding_mask"
   ]
  },
  {
   "cell_type": "code",
   "execution_count": 55,
   "metadata": {
    "scrolled": false
   },
   "outputs": [
    {
     "name": "stdout",
     "output_type": "stream",
     "text": [
      "src: tensor([[[ 2.3414e-01,  1.3336e+00,  7.0287e-02,  1.0592e+00,  8.0502e-01,\n",
      "           1.4212e+00,  7.3824e-01,  1.8715e+00,  3.4525e-01,  1.8725e+00],\n",
      "         [ 0.0000e+00,  1.0000e+00,  0.0000e+00,  1.0000e+00,  0.0000e+00,\n",
      "           1.0000e+00,  0.0000e+00,  1.0000e+00,  0.0000e+00,  1.0000e+00],\n",
      "         [ 0.0000e+00,  1.0000e+00,  0.0000e+00,  1.0000e+00,  0.0000e+00,\n",
      "           1.0000e+00,  0.0000e+00,  1.0000e+00,  0.0000e+00,  1.0000e+00]],\n",
      "\n",
      "        [[ 1.1859e+00,  1.2156e+00,  5.1174e-01,  1.2092e+00,  9.0088e-01,\n",
      "           1.3117e+00,  3.8310e-01,  1.8879e+00,  5.2678e-01,  1.8365e+00],\n",
      "         [ 1.2302e+00,  1.2307e+00,  8.9933e-01,  1.0583e+00,  8.6902e-01,\n",
      "           1.1545e+00,  1.6509e-01,  1.9988e+00,  8.6171e-01,  1.5633e+00],\n",
      "         [ 8.4147e-01,  5.4030e-01,  1.5783e-01,  9.8747e-01,  2.5116e-02,\n",
      "           9.9968e-01,  3.9811e-03,  9.9999e-01,  6.3096e-04,  1.0000e+00]],\n",
      "\n",
      "        [[ 1.8448e+00, -6.4156e-02,  7.8602e-01,  1.5352e+00,  5.1875e-01,\n",
      "           1.1708e+00,  7.0380e-01,  1.6573e+00,  7.7159e-01,  1.7217e+00],\n",
      "         [ 1.8758e+00, -2.2717e-01,  1.0282e+00,  1.6516e+00,  8.1345e-01,\n",
      "           1.4170e+00,  9.2216e-01,  1.3466e+00,  2.9466e-01,  1.6462e+00],\n",
      "         [ 1.4038e+00,  1.3254e-01,  5.6645e-01,  1.2622e+00,  3.8416e-01,\n",
      "           1.1262e+00,  7.1460e-01,  1.3060e+00,  4.2682e-01,  1.3045e+00]],\n",
      "\n",
      "        [[ 6.1974e-01, -6.9827e-01,  1.2458e+00,  1.3756e+00,  1.3291e-01,\n",
      "           1.1996e+00,  2.0397e-01,  1.3994e+00,  1.8510e-02,  1.6298e+00],\n",
      "         [ 2.6528e-01, -4.5075e-01,  7.3511e-01,  1.1628e+00,  8.6546e-01,\n",
      "           1.7229e+00,  7.9229e-01,  1.0835e+00,  9.5768e-01,  1.0769e+00],\n",
      "         [ 1.4917e-01, -5.2078e-01,  1.2379e+00,  1.3205e+00,  6.6635e-01,\n",
      "           1.9210e+00,  9.9804e-02,  1.8176e+00,  7.4273e-01,  1.5378e+00]]])\n",
      "src.shape: torch.Size([4, 3, 10])\n",
      "src_key_padding_mask: tensor([[1., 1., 1., 1.],\n",
      "        [0., 1., 1., 1.],\n",
      "        [0., 0., 1., 1.]])\n",
      "src_key_padding_mask.shape: torch.Size([3, 4])\n",
      "output: tensor([[[-0.0402,  0.8644, -0.8118,  0.6337, -0.2153, -1.3380,  0.6315,\n",
      "           1.4386, -1.8482,  0.6853],\n",
      "         [ 0.0408,  1.3048, -0.8963,  1.5965, -0.5725, -1.2792, -0.2532,\n",
      "           1.0476, -1.3095,  0.3211],\n",
      "         [ 0.2073,  1.2279, -0.9382,  1.5020, -0.3489, -1.4293, -0.2213,\n",
      "           1.1365, -1.3304,  0.1944]],\n",
      "\n",
      "        [[ 0.1203,  0.6059, -0.6167,  0.7565, -0.0424, -1.5797,  0.2562,\n",
      "           1.5117, -1.7915,  0.7798],\n",
      "         [-0.0420,  0.8553, -0.4942,  1.4039, -0.2300, -1.8174, -0.7366,\n",
      "           1.3743, -0.9362,  0.6228],\n",
      "         [ 0.4192,  0.8183, -0.9650,  1.6588, -0.3678, -1.5229, -0.3417,\n",
      "           1.1637, -1.1976,  0.3350]],\n",
      "\n",
      "        [[ 0.0804, -0.3415, -0.3380,  1.0878, -0.1862, -1.5938,  0.4413,\n",
      "           1.7367, -1.5389,  0.6522],\n",
      "         [ 0.5203, -0.5264, -0.6639,  1.9020, -0.4473, -1.3700, -0.0460,\n",
      "           1.3360, -1.1528,  0.4481],\n",
      "         [ 0.4854,  0.1814, -1.0808,  1.7063, -0.4551, -1.6204, -0.0126,\n",
      "           1.4100, -0.8738,  0.2595]],\n",
      "\n",
      "        [[-0.2041, -0.3733,  0.1603,  1.1419, -0.2122, -1.3835,  0.4075,\n",
      "           1.4898, -1.8582,  0.8318],\n",
      "         [-0.9173, -0.6918, -0.4752,  1.6433, -0.3797, -0.9064,  0.9707,\n",
      "           1.5490, -1.1487,  0.3561],\n",
      "         [-0.5887, -0.2246, -0.3528,  1.9004, -0.3439, -1.1823, -0.3146,\n",
      "           1.6572, -1.0981,  0.5475]]], grad_fn=<NativeLayerNormBackward0>)\n",
      "output.shape: torch.Size([4, 3, 10])\n"
     ]
    }
   ],
   "source": [
    "tmp = tm(src, key_padding_mask)"
   ]
  },
  {
   "cell_type": "code",
   "execution_count": 56,
   "metadata": {},
   "outputs": [
    {
     "data": {
      "text/plain": [
       "tensor([[[0.2341, 0.3336, 0.0703, 0.0592, 0.8050, 0.4212, 0.7382, 0.8715,\n",
       "          0.3452, 0.8725],\n",
       "         [0.0000, 0.0000, 0.0000, 0.0000, 0.0000, 0.0000, 0.0000, 0.0000,\n",
       "          0.0000, 0.0000],\n",
       "         [1.0000, 1.0000, 1.0000, 1.0000, 1.0000, 1.0000, 1.0000, 1.0000,\n",
       "          1.0000, 1.0000]],\n",
       "\n",
       "        [[0.3444, 0.6753, 0.3539, 0.2217, 0.8758, 0.3120, 0.3791, 0.8879,\n",
       "          0.5261, 0.8365],\n",
       "         [0.3887, 0.6904, 0.7415, 0.0708, 0.8439, 0.1548, 0.1611, 0.9988,\n",
       "          0.8611, 0.5633],\n",
       "         [1.0000, 1.0000, 1.0000, 1.0000, 1.0000, 1.0000, 1.0000, 1.0000,\n",
       "          1.0000, 1.0000]],\n",
       "\n",
       "        [[0.9355, 0.3520, 0.4743, 0.5851, 0.4685, 0.1721, 0.6958, 0.6573,\n",
       "          0.7703, 0.7217],\n",
       "         [0.9665, 0.1890, 0.7165, 0.7014, 0.7632, 0.4182, 0.9142, 0.3466,\n",
       "          0.2934, 0.6462],\n",
       "         [1.0000, 1.0000, 1.0000, 1.0000, 1.0000, 1.0000, 1.0000, 1.0000,\n",
       "          1.0000, 1.0000]],\n",
       "\n",
       "        [[0.4786, 0.2917, 0.7880, 0.4865, 0.0576, 0.2024, 0.1920, 0.3995,\n",
       "          0.0166, 0.6298],\n",
       "         [0.1242, 0.5392, 0.2774, 0.2737, 0.7902, 0.7257, 0.7804, 0.0836,\n",
       "          0.9558, 0.0769],\n",
       "         [1.0000, 1.0000, 1.0000, 1.0000, 1.0000, 1.0000, 1.0000, 1.0000,\n",
       "          1.0000, 1.0000]]])"
      ]
     },
     "execution_count": 56,
     "metadata": {},
     "output_type": "execute_result"
    }
   ],
   "source": [
    "src2 = src.clone()\n",
    "src2[:,-1,:] = 1.0\n",
    "src2"
   ]
  },
  {
   "cell_type": "code",
   "execution_count": 57,
   "metadata": {},
   "outputs": [
    {
     "name": "stdout",
     "output_type": "stream",
     "text": [
      "src: tensor([[[ 0.2341,  1.3336,  0.0703,  1.0592,  0.8050,  1.4212,  0.7382,\n",
      "           1.8715,  0.3452,  1.8725],\n",
      "         [ 0.0000,  1.0000,  0.0000,  1.0000,  0.0000,  1.0000,  0.0000,\n",
      "           1.0000,  0.0000,  1.0000],\n",
      "         [ 1.0000,  2.0000,  1.0000,  2.0000,  1.0000,  2.0000,  1.0000,\n",
      "           2.0000,  1.0000,  2.0000]],\n",
      "\n",
      "        [[ 1.1859,  1.2156,  0.5117,  1.2092,  0.9009,  1.3117,  0.3831,\n",
      "           1.8879,  0.5268,  1.8365],\n",
      "         [ 1.2302,  1.2307,  0.8993,  1.0583,  0.8690,  1.1545,  0.1651,\n",
      "           1.9988,  0.8617,  1.5633],\n",
      "         [ 1.8415,  1.5403,  1.1578,  1.9875,  1.0251,  1.9997,  1.0040,\n",
      "           2.0000,  1.0006,  2.0000]],\n",
      "\n",
      "        [[ 1.8448, -0.0642,  0.7860,  1.5352,  0.5188,  1.1708,  0.7038,\n",
      "           1.6573,  0.7716,  1.7217],\n",
      "         [ 1.8758, -0.2272,  1.0282,  1.6516,  0.8135,  1.4170,  0.9222,\n",
      "           1.3466,  0.2947,  1.6462],\n",
      "         [ 1.9093,  0.5839,  1.3117,  1.9502,  1.0502,  1.9987,  1.0080,\n",
      "           2.0000,  1.0013,  2.0000]],\n",
      "\n",
      "        [[ 0.6197, -0.6983,  1.2458,  1.3756,  0.1329,  1.1996,  0.2040,\n",
      "           1.3994,  0.0185,  1.6298],\n",
      "         [ 0.2653, -0.4507,  0.7351,  1.1628,  0.8655,  1.7229,  0.7923,\n",
      "           1.0835,  0.9577,  1.0769],\n",
      "         [ 1.1411,  0.0100,  1.4578,  1.8891,  1.0753,  1.9972,  1.0119,\n",
      "           1.9999,  1.0019,  2.0000]]])\n",
      "src.shape: torch.Size([4, 3, 10])\n",
      "src_key_padding_mask: tensor([[1., 1., 1., 1.],\n",
      "        [0., 1., 1., 1.],\n",
      "        [0., 0., 1., 1.]])\n",
      "src_key_padding_mask.shape: torch.Size([3, 4])\n",
      "output: tensor([[[-0.0402,  0.8644, -0.8118,  0.6337, -0.2153, -1.3380,  0.6315,\n",
      "           1.4386, -1.8482,  0.6853],\n",
      "         [ 0.0408,  1.3048, -0.8963,  1.5965, -0.5725, -1.2792, -0.2532,\n",
      "           1.0476, -1.3095,  0.3211],\n",
      "         [ 0.0128,  0.9895, -0.8144,  1.1622, -0.3542, -1.5063,  0.2281,\n",
      "           1.3177, -1.5873,  0.5520]],\n",
      "\n",
      "        [[ 0.1203,  0.6059, -0.6167,  0.7565, -0.0424, -1.5797,  0.2562,\n",
      "           1.5117, -1.7915,  0.7798],\n",
      "         [-0.0420,  0.8553, -0.4942,  1.4039, -0.2300, -1.8174, -0.7366,\n",
      "           1.3743, -0.9362,  0.6228],\n",
      "         [ 0.1714,  0.5079, -0.6643,  1.2337, -0.2612, -1.6835,  0.1586,\n",
      "           1.3381, -1.5645,  0.7640]],\n",
      "\n",
      "        [[ 0.0804, -0.3415, -0.3380,  1.0878, -0.1862, -1.5938,  0.4413,\n",
      "           1.7367, -1.5389,  0.6522],\n",
      "         [ 0.5203, -0.5264, -0.6639,  1.9020, -0.4473, -1.3700, -0.0460,\n",
      "           1.3360, -1.1528,  0.4481],\n",
      "         [ 0.0538, -0.1401, -0.4404,  1.3132, -0.2032, -1.6122,  0.2414,\n",
      "           1.5635, -1.5314,  0.7554]],\n",
      "\n",
      "        [[-0.2041, -0.3733,  0.1603,  1.1419, -0.2122, -1.3835,  0.4075,\n",
      "           1.4898, -1.8582,  0.8318],\n",
      "         [-0.9173, -0.6918, -0.4752,  1.6433, -0.3797, -0.9064,  0.9707,\n",
      "           1.5490, -1.1487,  0.3561],\n",
      "         [-0.3422, -0.3266, -0.2281,  1.2913, -0.1915, -1.5343,  0.4505,\n",
      "           1.5731, -1.5184,  0.8262]]], grad_fn=<NativeLayerNormBackward0>)\n",
      "output.shape: torch.Size([4, 3, 10])\n"
     ]
    }
   ],
   "source": [
    "tmp2 = tm(src2, key_padding_mask)"
   ]
  },
  {
   "cell_type": "code",
   "execution_count": 71,
   "metadata": {},
   "outputs": [
    {
     "name": "stdout",
     "output_type": "stream",
     "text": [
      "input 1:\n",
      "torch.Size([5, 2, 512])\n",
      "tensor([[[0.9680, 0.9021, 0.4939,  ..., 0.2728, 0.5066, 0.7744],\n",
      "         [0.5090, 0.8252, 0.6058,  ..., 0.3313, 0.8132, 0.8742]],\n",
      "\n",
      "        [[0.7696, 0.1450, 0.7943,  ..., 0.9458, 0.8926, 0.3899],\n",
      "         [0.3658, 0.0751, 0.6213,  ..., 0.4027, 0.1464, 0.6443]],\n",
      "\n",
      "        [[0.1483, 0.9049, 0.7640,  ..., 0.1553, 0.0923, 0.6507],\n",
      "         [0.3887, 0.2514, 0.2191,  ..., 0.6427, 0.9578, 0.6291]],\n",
      "\n",
      "        [[0.8575, 0.1495, 0.4336,  ..., 0.9430, 0.2064, 0.6729],\n",
      "         [0.9887, 0.6739, 0.9527,  ..., 0.8513, 0.0041, 0.8631]],\n",
      "\n",
      "        [[0.3472, 0.6068, 0.0983,  ..., 0.6664, 0.0789, 0.4770],\n",
      "         [0.1783, 0.5413, 0.5850,  ..., 0.6914, 0.5661, 0.2863]]])\n",
      "input 2:\n",
      "torch.Size([5, 2, 512])\n",
      "tensor([[[ 0.9680,  0.9021,  0.4939,  ...,  0.2728,  0.5066,  0.7744],\n",
      "         [ 0.5090,  0.8252,  0.6058,  ...,  0.3313,  0.8132,  0.8742]],\n",
      "\n",
      "        [[ 0.7696,  0.1450,  0.7943,  ...,  0.9458,  0.8926,  0.3899],\n",
      "         [ 0.3658,  0.0751,  0.6213,  ...,  0.4027,  0.1464,  0.6443]],\n",
      "\n",
      "        [[-1.0000, -1.0000, -1.0000,  ..., -1.0000, -1.0000, -1.0000],\n",
      "         [-1.0000, -1.0000, -1.0000,  ..., -1.0000, -1.0000, -1.0000]],\n",
      "\n",
      "        [[-1.0000, -1.0000, -1.0000,  ..., -1.0000, -1.0000, -1.0000],\n",
      "         [-1.0000, -1.0000, -1.0000,  ..., -1.0000, -1.0000, -1.0000]],\n",
      "\n",
      "        [[-1.0000, -1.0000, -1.0000,  ..., -1.0000, -1.0000, -1.0000],\n",
      "         [-1.0000, -1.0000, -1.0000,  ..., -1.0000, -1.0000, -1.0000]]])\n",
      "mask:\n",
      "tensor([[False, False,  True,  True,  True],\n",
      "        [False, False,  True,  True,  True]])\n",
      "torch.Size([5, 2, 512])\n",
      "Output 1:\n",
      " tensor([[[-2.5818e-01,  7.2148e-01, -1.0462e+00,  ..., -9.5523e-01,\n",
      "           9.0649e-01, -6.0686e-01],\n",
      "         [-6.2504e-01,  7.3584e-01, -7.0150e-01,  ..., -6.3013e-01,\n",
      "           1.9427e+00,  4.4472e-01]],\n",
      "\n",
      "        [[-4.5462e-01, -6.2657e-01, -3.6704e-01,  ..., -1.2490e-01,\n",
      "           2.5105e+00, -5.5749e-01],\n",
      "         [-1.4907e+00, -1.0808e+00, -6.9784e-01,  ..., -7.0998e-01,\n",
      "           2.6534e-01, -1.6804e-01]],\n",
      "\n",
      "        [[-1.5382e+00,  8.8302e-01, -5.0303e-01,  ..., -8.9919e-01,\n",
      "           7.6954e-01, -7.3735e-01],\n",
      "         [-1.2529e+00, -3.8734e-01, -1.1032e+00,  ..., -4.4380e-01,\n",
      "           2.0222e+00, -2.9946e-01]],\n",
      "\n",
      "        [[-7.1197e-02, -1.0362e+00, -1.3979e+00,  ...,  7.5650e-02,\n",
      "           1.3471e+00, -6.0734e-01],\n",
      "         [ 5.3243e-02, -1.6000e-01, -1.9681e-01,  ..., -9.4815e-02,\n",
      "           1.1188e+00, -1.0472e-01]],\n",
      "\n",
      "        [[-1.1768e+00,  2.1072e-01, -1.3622e+00,  ..., -8.7852e-01,\n",
      "           8.6851e-01, -8.4865e-01],\n",
      "         [-1.9070e+00, -2.4835e-01, -7.1896e-04,  ..., -2.9953e-01,\n",
      "           1.4333e+00, -1.0527e+00]]], grad_fn=<NativeLayerNormBackward0>)\n",
      "Output 2:\n",
      " tensor([[[-0.2582,  0.7215, -1.0462,  ..., -0.9552,  0.9065, -0.6069],\n",
      "         [-0.6250,  0.7358, -0.7015,  ..., -0.6301,  1.9427,  0.4447]],\n",
      "\n",
      "        [[-0.4546, -0.6266, -0.3670,  ..., -0.1249,  2.5105, -0.5575],\n",
      "         [-1.4907, -1.0808, -0.6978,  ..., -0.7100,  0.2653, -0.1680]],\n",
      "\n",
      "        [[-0.9049, -0.0059, -1.1571,  ..., -0.7576,  1.7011, -1.2578],\n",
      "         [-1.2667, -0.3450, -0.9220,  ..., -0.3737,  2.0974, -1.0500]],\n",
      "\n",
      "        [[-0.9049, -0.0059, -1.1571,  ..., -0.7576,  1.7011, -1.2578],\n",
      "         [-1.2667, -0.3450, -0.9220,  ..., -0.3737,  2.0974, -1.0500]],\n",
      "\n",
      "        [[-0.9049, -0.0059, -1.1571,  ..., -0.7576,  1.7011, -1.2578],\n",
      "         [-1.2667, -0.3450, -0.9220,  ..., -0.3737,  2.0974, -1.0500]]],\n",
      "       grad_fn=<NativeLayerNormBackward0>)\n",
      "Output 3:\n",
      " tensor([[[-0.2582,  0.7215, -1.0462,  ..., -0.9552,  0.9065, -0.6069],\n",
      "         [-0.6250,  0.7358, -0.7015,  ..., -0.6301,  1.9427,  0.4447]],\n",
      "\n",
      "        [[-0.4546, -0.6266, -0.3670,  ..., -0.1249,  2.5105, -0.5575],\n",
      "         [-1.4907, -1.0808, -0.6978,  ..., -0.7100,  0.2653, -0.1680]],\n",
      "\n",
      "        [[-0.9049, -0.0059, -1.1571,  ..., -0.7576,  1.7011, -1.2578],\n",
      "         [-1.2667, -0.3450, -0.9220,  ..., -0.3737,  2.0974, -1.0500]],\n",
      "\n",
      "        [[-0.9049, -0.0059, -1.1571,  ..., -0.7576,  1.7011, -1.2578],\n",
      "         [-1.2667, -0.3450, -0.9220,  ..., -0.3737,  2.0974, -1.0500]],\n",
      "\n",
      "        [[-0.9049, -0.0059, -1.1571,  ..., -0.7576,  1.7011, -1.2578],\n",
      "         [-1.2667, -0.3450, -0.9220,  ..., -0.3737,  2.0974, -1.0500]]],\n",
      "       grad_fn=<NativeLayerNormBackward0>)\n"
     ]
    }
   ],
   "source": [
    "import torch\n",
    "import torch.nn as nn\n",
    "import torch.nn.functional as F\n",
    "\n",
    "class TransformerEncoder_(nn.Module):\n",
    "    def __init__(self, d_model, n_heads, n_layers):\n",
    "        super(TransformerEncoder_, self).__init__()\n",
    "        self.layers = nn.ModuleList([\n",
    "            nn.TransformerEncoderLayer(d_model, n_heads) for _ in range(n_layers)\n",
    "        ])\n",
    "        \n",
    "    def forward(self, src, mask=None):\n",
    "        for layer in self.layers:\n",
    "            src = layer(src, src_key_padding_mask=mask)\n",
    "        return src\n",
    "\n",
    "# Let's create a function to generate mask for masking out certain positions\n",
    "def create_mask(batch_size, seq_len, excluded_positions):\n",
    "    mask = torch.zeros(batch_size, seq_len, dtype=torch.bool)\n",
    "    mask[:, excluded_positions] = True\n",
    "    return mask\n",
    "\n",
    "# Define model parameters\n",
    "d_model = 512\n",
    "n_heads = 8\n",
    "n_layers = 6\n",
    "\n",
    "# Create transformer encoder\n",
    "encoder = TransformerEncoder_(d_model, n_heads, n_layers)\n",
    "encoder.eval()\n",
    "\n",
    "# Define input data and mask\n",
    "input_data_1 = torch.rand(2, 5, d_model)  # (batch_size, seq_len, d_model)\n",
    "input_data_2 = input_data_1.clone()\n",
    "input_data_2[:, [2, 3, 4]] = -1.0\n",
    "input_data_1 = input_data_1.transpose(0, 1)\n",
    "input_data_2 = input_data_2.transpose(0, 1)\n",
    "mask = create_mask(2, 5, [2, 3, 4])       # Mask for mini-batch\n",
    "\n",
    "print(\"input 1:\")\n",
    "print(input_data_1.shape)\n",
    "print(input_data_1)\n",
    "\n",
    "print(\"input 2:\")\n",
    "print(input_data_2.shape)\n",
    "print(input_data_2)\n",
    "print(\"mask:\")\n",
    "print(mask)\n",
    "\n",
    "# Forward pass through the encoder with different masks\n",
    "output_1 = encoder(input_data_1, mask)\n",
    "output_2 = encoder(input_data_2, mask)\n",
    "output_3 = encoder(input_data_2, mask)\n",
    "\n",
    "# Compare outputs\n",
    "print(output_1.shape)\n",
    "print(\"Output 1:\\n\", output_1)\n",
    "print(\"Output 2:\\n\", output_2)\n",
    "print(\"Output 3:\\n\", output_3)"
   ]
  },
  {
   "cell_type": "code",
   "execution_count": 72,
   "metadata": {},
   "outputs": [],
   "source": [
    "x = torch.rand(5, 4, 10)"
   ]
  },
  {
   "cell_type": "code",
   "execution_count": 79,
   "metadata": {},
   "outputs": [],
   "source": [
    "y = torch.rand(10).unsqueeze(0).unsqueeze(0).expand(1, 4, -1)"
   ]
  },
  {
   "cell_type": "code",
   "execution_count": 81,
   "metadata": {},
   "outputs": [
    {
     "data": {
      "text/plain": [
       "tensor([[[0.0495, 0.2182, 0.7305, 0.7270, 0.4491, 0.1107, 0.6353, 0.0967,\n",
       "          0.5219, 0.8325],\n",
       "         [0.0495, 0.2182, 0.7305, 0.7270, 0.4491, 0.1107, 0.6353, 0.0967,\n",
       "          0.5219, 0.8325],\n",
       "         [0.0495, 0.2182, 0.7305, 0.7270, 0.4491, 0.1107, 0.6353, 0.0967,\n",
       "          0.5219, 0.8325],\n",
       "         [0.0495, 0.2182, 0.7305, 0.7270, 0.4491, 0.1107, 0.6353, 0.0967,\n",
       "          0.5219, 0.8325]],\n",
       "\n",
       "        [[0.6265, 0.9912, 0.0108, 0.6549, 0.7205, 0.8551, 0.6654, 0.8845,\n",
       "          0.2610, 0.4599],\n",
       "         [0.2353, 0.9653, 0.1956, 0.3733, 0.3000, 0.1170, 0.4993, 0.7477,\n",
       "          0.1133, 0.7959],\n",
       "         [0.4867, 0.4816, 0.9720, 0.2416, 0.8790, 0.6412, 0.7736, 0.3998,\n",
       "          0.4036, 0.3038],\n",
       "         [0.0118, 0.8090, 0.3424, 0.1010, 0.1997, 0.3644, 0.7840, 0.6324,\n",
       "          0.3870, 0.7973]],\n",
       "\n",
       "        [[0.6557, 0.6867, 0.8270, 0.3416, 0.0471, 0.4943, 0.9703, 0.1783,\n",
       "          0.4377, 0.5919],\n",
       "         [0.1122, 0.5279, 0.9482, 0.2316, 0.3986, 0.3332, 0.7483, 0.2414,\n",
       "          0.8766, 0.6786],\n",
       "         [0.3146, 0.9928, 0.2115, 0.9990, 0.6738, 0.6049, 0.8964, 0.2340,\n",
       "          0.4549, 0.1075],\n",
       "         [0.9132, 0.7433, 0.3371, 0.0320, 0.8681, 0.8821, 0.8162, 0.6273,\n",
       "          0.6355, 0.0682]],\n",
       "\n",
       "        [[0.5583, 0.5588, 0.6640, 0.1516, 0.2424, 0.7591, 0.8584, 0.3749,\n",
       "          0.2557, 0.4624],\n",
       "         [0.0260, 0.6057, 0.8594, 0.7077, 0.3692, 0.5957, 0.6032, 0.0300,\n",
       "          0.4962, 0.7542],\n",
       "         [0.7518, 0.4606, 0.8436, 0.7709, 0.3982, 0.0710, 0.4621, 0.9525,\n",
       "          0.5294, 0.4129],\n",
       "         [0.4656, 0.0449, 0.4010, 0.9683, 0.9630, 0.9236, 0.6350, 0.4640,\n",
       "          0.9049, 0.5279]],\n",
       "\n",
       "        [[0.8706, 0.7619, 0.9457, 0.0839, 0.2167, 0.6918, 0.1430, 0.3674,\n",
       "          0.1609, 0.1028],\n",
       "         [0.0039, 0.3850, 0.2698, 0.4678, 0.4611, 0.5591, 0.6142, 0.8462,\n",
       "          0.3488, 0.4255],\n",
       "         [0.4203, 0.7584, 0.6657, 0.4554, 0.0555, 0.2392, 0.7424, 0.3773,\n",
       "          0.5011, 0.5659],\n",
       "         [0.1570, 0.3524, 0.6480, 0.8656, 0.6473, 0.9559, 0.4944, 0.0124,\n",
       "          0.6751, 0.2362]],\n",
       "\n",
       "        [[0.8597, 0.6434, 0.1139, 0.1107, 0.9593, 0.2237, 0.1533, 0.7931,\n",
       "          0.4743, 0.2282],\n",
       "         [0.4060, 0.1618, 0.9549, 0.9915, 0.0324, 0.1904, 0.6889, 0.1295,\n",
       "          0.0887, 0.1430],\n",
       "         [0.7391, 0.2072, 0.3468, 0.1521, 0.3053, 0.3188, 0.9247, 0.1782,\n",
       "          0.4863, 0.3183],\n",
       "         [0.3699, 0.0328, 0.0262, 0.4856, 0.7711, 0.8562, 0.9658, 0.6154,\n",
       "          0.8003, 0.9555]]])"
      ]
     },
     "execution_count": 81,
     "metadata": {},
     "output_type": "execute_result"
    }
   ],
   "source": [
    "torch.cat([y, x], dim=0)"
   ]
  },
  {
   "cell_type": "code",
   "execution_count": 1,
   "metadata": {},
   "outputs": [
    {
     "name": "stdout",
     "output_type": "stream",
     "text": [
      "'checkpoint_97_nli_acc=0.7780.pt'   metadata.json   metrics_logs.csv\r\n"
     ]
    }
   ],
   "source": [
    "!ls \"/mnt/data/pamessina/workspaces/medvqa-workspace/models/fact_embedding/20240407_173847_NLI(Embedding-based)_EmbeddingBasedNLI(128,512-256-128)\""
   ]
  },
  {
   "cell_type": "code",
   "execution_count": 2,
   "metadata": {},
   "outputs": [],
   "source": [
    "import torch"
   ]
  },
  {
   "cell_type": "code",
   "execution_count": 10,
   "metadata": {},
   "outputs": [],
   "source": [
    "tmp = torch.load('/mnt/data/pamessina/workspaces/medvqa-workspace/models/seq2seq/20240407_162203_multitask(nli+mlm)_Seq2Seq(facebook-bart-base)/checkpoint_45_exact_match+s2s_loss=0.8742.pt')"
   ]
  },
  {
   "cell_type": "code",
   "execution_count": 11,
   "metadata": {},
   "outputs": [
    {
     "data": {
      "text/plain": [
       "dict_keys(['model', 'optimizer', 'lr_scheduler', 'epoch'])"
      ]
     },
     "execution_count": 11,
     "metadata": {},
     "output_type": "execute_result"
    }
   ],
   "source": [
    "tmp.keys()"
   ]
  },
  {
   "cell_type": "code",
   "execution_count": 12,
   "metadata": {},
   "outputs": [],
   "source": [
    "weights = tmp['model']"
   ]
  },
  {
   "cell_type": "code",
   "execution_count": 14,
   "metadata": {},
   "outputs": [],
   "source": [
    "torch.save(weights, '/home/pamessina/public_model_weights/bart_nli(20240407_162203,0.8742).pt')"
   ]
  },
  {
   "cell_type": "code",
   "execution_count": 16,
   "metadata": {},
   "outputs": [],
   "source": [
    "!cp \"/mnt/data/pamessina/workspaces/medvqa-workspace/models/seq2seq/20240407_162203_multitask(nli+mlm)_Seq2Seq(facebook-bart-base)/metadata.json\" \"/home/pamessina/public_model_weights/bart_nli(20240407_162203,0.8742)_metadata.json\""
   ]
  },
  {
   "cell_type": "code",
   "execution_count": 17,
   "metadata": {},
   "outputs": [
    {
     "name": "stdout",
     "output_type": "stream",
     "text": [
      "total 1.6G\r\n",
      "-rw-rw-r-- 1 pamessina pamessina 5.7K Apr 22 22:45 'bart_nli(20240407_162203,0.8742)_metadata.json'\r\n",
      "-rw-rw-r-- 1 pamessina pamessina 533M Apr 22 22:42 'bart_nli(20240407_162203,0.8742).pt'\r\n",
      "-rw-rw-r-- 1 pamessina pamessina 419M Mar 20 11:20 'CXRFE(T+C+EC+NLI+ER+SD).pt'\r\n",
      "-rw-rw-r-- 1 pamessina pamessina 419M Mar 20 11:23 'CXRFE(T+C+EC+NLI+SD).pt'\r\n",
      "-rw-rw-r-- 1 pamessina pamessina 5.2K Apr 22 20:23 'mlp_nli(20240407_173847,0.7780)_metadata.json'\r\n",
      "-rw-rw-r-- 1 pamessina pamessina 2.2M Apr 22 20:22 'mlp_nli(20240407_173847,0.7780).pt'\r\n",
      "-rw-rw-r-- 1 pamessina pamessina 231M Apr 22 16:36 't5_small_for_fact_extraction(20240320_195545,0.9127).pt'\r\n"
     ]
    }
   ],
   "source": [
    "!ls -lh /home/pamessina/public_model_weights/"
   ]
  }
 ],
 "metadata": {
  "kernelspec": {
   "display_name": "Python 3 (ipykernel)",
   "language": "python",
   "name": "python3"
  },
  "language_info": {
   "codemirror_mode": {
    "name": "ipython",
    "version": 3
   },
   "file_extension": ".py",
   "mimetype": "text/x-python",
   "name": "python",
   "nbconvert_exporter": "python",
   "pygments_lexer": "ipython3",
   "version": "3.10.10"
  }
 },
 "nbformat": 4,
 "nbformat_minor": 4
}
