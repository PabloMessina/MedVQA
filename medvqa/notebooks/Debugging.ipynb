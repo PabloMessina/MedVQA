{
 "cells": [
  {
   "cell_type": "code",
   "execution_count": 1,
   "metadata": {},
   "outputs": [
    {
     "name": "stdout",
     "output_type": "stream",
     "text": [
      "env: CUDA_VISIBLE_DEVICES=2\n"
     ]
    }
   ],
   "source": [
    "%env CUDA_VISIBLE_DEVICES=2"
   ]
  },
  {
   "cell_type": "code",
   "execution_count": 2,
   "metadata": {},
   "outputs": [],
   "source": [
    "import torchvision.models as models\n",
    "import torch\n",
    "import torch.nn as nn\n",
    "import medvqa\n",
    "from importlib import reload"
   ]
  },
  {
   "cell_type": "code",
   "execution_count": 3,
   "metadata": {},
   "outputs": [],
   "source": [
    "densenet = models.densenet121(pretrained=False)"
   ]
  },
  {
   "cell_type": "code",
   "execution_count": 19,
   "metadata": {},
   "outputs": [],
   "source": [
    "path = \"/home/pdpino/workspace-medical-ai/public_checkpoints/cls-0321_052008_chexpert_densenet-121-v2_drop0.3_labels13_normS_wd1e-05_size256_lr0.0001_sch-roc_auc-p3-f0.5_shuffle.pt\"\n",
    "checkpoint = torch.load(path, map_location='cuda')"
   ]
  },
  {
   "cell_type": "code",
   "execution_count": 30,
   "metadata": {},
   "outputs": [],
   "source": [
    "del checkpoint[\"prediction.weight\"]\n",
    "del checkpoint[\"prediction.bias\"]"
   ]
  },
  {
   "cell_type": "code",
   "execution_count": 27,
   "metadata": {},
   "outputs": [],
   "source": [
    "densenet.classifier = None"
   ]
  },
  {
   "cell_type": "code",
   "execution_count": 31,
   "metadata": {
    "scrolled": true
   },
   "outputs": [
    {
     "data": {
      "text/plain": [
       "<All keys matched successfully>"
      ]
     },
     "execution_count": 31,
     "metadata": {},
     "output_type": "execute_result"
    }
   ],
   "source": [
    "densenet.load_state_dict(checkpoint)"
   ]
  },
  {
   "cell_type": "code",
   "execution_count": 5,
   "metadata": {},
   "outputs": [],
   "source": [
    "BS = 5 # batch_size\n",
    "images = torch.rand(BS, 3, 256, 256)"
   ]
  },
  {
   "cell_type": "code",
   "execution_count": 8,
   "metadata": {},
   "outputs": [
    {
     "data": {
      "text/plain": [
       "torch.Size([5, 1000])"
      ]
     },
     "execution_count": 8,
     "metadata": {},
     "output_type": "execute_result"
    }
   ],
   "source": [
    "densenet(images).shape"
   ]
  },
  {
   "cell_type": "code",
   "execution_count": 12,
   "metadata": {},
   "outputs": [],
   "source": [
    "image_encoder = nn.Sequential(*list(densenet.children())[:-1])"
   ]
  },
  {
   "cell_type": "code",
   "execution_count": 9,
   "metadata": {},
   "outputs": [
    {
     "data": {
      "text/plain": [
       "torch.Size([5, 1024, 8, 8])"
      ]
     },
     "execution_count": 9,
     "metadata": {},
     "output_type": "execute_result"
    }
   ],
   "source": [
    "densenet.features(images).shape"
   ]
  },
  {
   "cell_type": "code",
   "execution_count": 13,
   "metadata": {},
   "outputs": [
    {
     "data": {
      "text/plain": [
       "torch.Size([5, 1024, 8, 8])"
      ]
     },
     "execution_count": 13,
     "metadata": {},
     "output_type": "execute_result"
    }
   ],
   "source": [
    "image_encoder(images).shape"
   ]
  },
  {
   "cell_type": "code",
   "execution_count": 1,
   "metadata": {},
   "outputs": [],
   "source": [
    "from medvqa.datasets.medical_tags_extractor import MedicalTagsExtractor"
   ]
  },
  {
   "cell_type": "code",
   "execution_count": 2,
   "metadata": {},
   "outputs": [],
   "source": [
    "med_tags_extractor = MedicalTagsExtractor('medical_terms_frequency__20220317_145545.pkl')"
   ]
  },
  {
   "cell_type": "code",
   "execution_count": 4,
   "metadata": {},
   "outputs": [
    {
     "name": "stdout",
     "output_type": "stream",
     "text": [
      "['lung', 'obscured', 'effusion', 'consolidation', 'pneumonia', 'base', 'moderate', 'size', 'atelectasis', 'heart', 'lobe', 'small', 'right', 'enlarged', 'left', 'pleural', 'lower']\n",
      "['lung', 'obscured', 'effusion', 'consolidation', 'pneumonia', 'base', 'moderate', 'size', 'atelectasis', 'heart', 'lobe', 'small', 'right', 'enlarged', 'left', 'pleural', 'lower']\n"
     ]
    }
   ],
   "source": [
    "_text = 'small right and moderate left pleural effusions are improving revealing stable moderate size consolidation at the right lung base that could be atelectasis or pneumonia and improved left lower lobe atelectasis. Heart is probably moderately enlarged so substantially obscured by pleural effusion and atelectasis'\n",
    "list1 = med_tags_extractor.extract_tags(_text)\n",
    "list2 = [med_tags_extractor.tags[x] for x in med_tags_extractor.extract_tag_ids(_text)]\n",
    "assert sorted(list1) == sorted(list2)\n",
    "print(list1)\n",
    "print(list2)"
   ]
  },
  {
   "cell_type": "code",
   "execution_count": 5,
   "metadata": {},
   "outputs": [
    {
     "data": {
      "text/plain": [
       "1956"
      ]
     },
     "execution_count": 5,
     "metadata": {},
     "output_type": "execute_result"
    }
   ],
   "source": [
    "len(med_tags_extractor.tags)"
   ]
  },
  {
   "cell_type": "code",
   "execution_count": 9,
   "metadata": {},
   "outputs": [],
   "source": [
    "from sklearn.metrics import accuracy_score"
   ]
  },
  {
   "cell_type": "code",
   "execution_count": 26,
   "metadata": {},
   "outputs": [
    {
     "data": {
      "text/plain": [
       "tensor([-0.0922,  0.4901,  0.0535,  0.0776, -0.3434, -0.2360, -0.4179,  0.2466,\n",
       "        -0.3487])"
      ]
     },
     "execution_count": 26,
     "metadata": {},
     "output_type": "execute_result"
    }
   ],
   "source": [
    "torch.rand(9) - 0.5"
   ]
  },
  {
   "cell_type": "code",
   "execution_count": 8,
   "metadata": {},
   "outputs": [
    {
     "data": {
      "text/plain": [
       "0.28571428571428575"
      ]
     },
     "execution_count": 8,
     "metadata": {},
     "output_type": "execute_result"
    }
   ],
   "source": [
    "f1_score([1,1,1,0,0,0,0,0,0], (torch.rand(9) - 0.5) > 0)"
   ]
  },
  {
   "cell_type": "code",
   "execution_count": 4,
   "metadata": {},
   "outputs": [],
   "source": [
    "from medvqa.metrics.classification.multilabel_f1score import f1_score"
   ]
  },
  {
   "cell_type": "code",
   "execution_count": 12,
   "metadata": {},
   "outputs": [
    {
     "data": {
      "text/plain": [
       "0.75"
      ]
     },
     "execution_count": 12,
     "metadata": {},
     "output_type": "execute_result"
    }
   ],
   "source": [
    "accuracy_score([0,0,0,1], [0,1,0,1])"
   ]
  },
  {
   "cell_type": "code",
   "execution_count": 19,
   "metadata": {},
   "outputs": [
    {
     "data": {
      "text/plain": [
       "tensor([[True, True, True, True, True, True, True, True, True, True],\n",
       "        [True, True, True, True, True, True, True, True, True, True],\n",
       "        [True, True, True, True, True, True, True, True, True, True],\n",
       "        [True, True, True, True, True, True, True, True, True, True],\n",
       "        [True, True, True, True, True, True, True, True, True, True]])"
      ]
     },
     "execution_count": 19,
     "metadata": {},
     "output_type": "execute_result"
    }
   ],
   "source": [
    "(torch.rand(5, 10).detach() > 0) == 1"
   ]
  },
  {
   "cell_type": "code",
   "execution_count": 39,
   "metadata": {},
   "outputs": [],
   "source": [
    "from sklearn.preprocessing import MultiLabelBinarizer"
   ]
  },
  {
   "cell_type": "code",
   "execution_count": 45,
   "metadata": {},
   "outputs": [
    {
     "data": {
      "text/plain": [
       "[[1], [2, 4]]"
      ]
     },
     "execution_count": 45,
     "metadata": {},
     "output_type": "execute_result"
    }
   ],
   "source": [
    "aux = [[1], [2,4]]"
   ]
  },
  {
   "cell_type": "code",
   "execution_count": 62,
   "metadata": {},
   "outputs": [],
   "source": [
    "x = MultiLabelBinarizer(list(range(10))).fit_transform([[1], [0, 0, 0, 0, 5]])"
   ]
  },
  {
   "cell_type": "code",
   "execution_count": 63,
   "metadata": {},
   "outputs": [
    {
     "data": {
      "text/plain": [
       "array([[0, 1, 0, 0, 0, 0, 0, 0, 0, 0],\n",
       "       [1, 0, 0, 0, 0, 1, 0, 0, 0, 0]])"
      ]
     },
     "execution_count": 63,
     "metadata": {},
     "output_type": "execute_result"
    }
   ],
   "source": [
    "x"
   ]
  },
  {
   "cell_type": "code",
   "execution_count": 57,
   "metadata": {},
   "outputs": [
    {
     "data": {
      "text/plain": [
       "<2x10 sparse matrix of type '<class 'numpy.int64'>'\n",
       "\twith 4 stored elements in Compressed Sparse Row format>"
      ]
     },
     "execution_count": 57,
     "metadata": {},
     "output_type": "execute_result"
    }
   ],
   "source": [
    "x"
   ]
  },
  {
   "cell_type": "code",
   "execution_count": 9,
   "metadata": {},
   "outputs": [
    {
     "data": {
      "text/plain": [
       "False"
      ]
     },
     "execution_count": 9,
     "metadata": {},
     "output_type": "execute_result"
    }
   ],
   "source": [
    "type(\"asfasdf\") is list"
   ]
  },
  {
   "cell_type": "code",
   "execution_count": 1,
   "metadata": {},
   "outputs": [],
   "source": [
    "from medvqa.datasets.mimiccxr.mimiccxr_vqa_dataset_management import MIMICCXR_VQA_Trainer"
   ]
  },
  {
   "cell_type": "code",
   "execution_count": 11,
   "metadata": {},
   "outputs": [],
   "source": [
    "tokenizer = Tokenizer(qa_adapted_filenames=[iuxray_qa_adapted_reports_filename,\n",
    "                                                mimiccxr_qa_adapted_reports_filename],\n",
    "                          qa_adapted_datasets=[iuxray_qa_reports, mimiccxr_qa_reports],\n",
    "                          min_freq=vocab_min_freq)\n",
    "mvt = MIMICCXR_VQA_Trainer()"
   ]
  },
  {
   "cell_type": "code",
   "execution_count": 21,
   "metadata": {},
   "outputs": [
    {
     "name": "stdout",
     "output_type": "stream",
     "text": [
      "True\n"
     ]
    },
    {
     "data": {
      "text/plain": [
       "True"
      ]
     },
     "execution_count": 21,
     "metadata": {},
     "output_type": "execute_result"
    }
   ],
   "source": [
    "x = torch.rand([])\n",
    "print(hasattr(x, '__len__'))\n",
    "type(x) is torch.Tensor"
   ]
  },
  {
   "cell_type": "code",
   "execution_count": 22,
   "metadata": {},
   "outputs": [],
   "source": [
    "import numbers"
   ]
  },
  {
   "cell_type": "code",
   "execution_count": 26,
   "metadata": {},
   "outputs": [
    {
     "data": {
      "text/plain": [
       "True"
      ]
     },
     "execution_count": 26,
     "metadata": {},
     "output_type": "execute_result"
    }
   ],
   "source": [
    "isinstance(x.item(), numbers.Number)"
   ]
  },
  {
   "cell_type": "code",
   "execution_count": 35,
   "metadata": {},
   "outputs": [
    {
     "data": {
      "text/plain": [
       "True"
      ]
     },
     "execution_count": 35,
     "metadata": {},
     "output_type": "execute_result"
    }
   ],
   "source": [
    "isinstance((x == x).item(), numbers.Number)"
   ]
  },
  {
   "cell_type": "code",
   "execution_count": 33,
   "metadata": {},
   "outputs": [
    {
     "data": {
      "text/plain": [
       "int"
      ]
     },
     "execution_count": 33,
     "metadata": {},
     "output_type": "execute_result"
    }
   ],
   "source": [
    "type(y)"
   ]
  },
  {
   "cell_type": "code",
   "execution_count": 18,
   "metadata": {},
   "outputs": [
    {
     "data": {
      "text/plain": [
       "'(55, 23, 3, 555)'"
      ]
     },
     "execution_count": 18,
     "metadata": {},
     "output_type": "execute_result"
    }
   ],
   "source": [
    "x = {'asdf': 23, 'sdfsd':3, 'aaaa': 55, 'zzz':555}\n",
    "vals = tuple(x[k] for k in sorted(list(x.keys())))\n",
    "f'{vals}'"
   ]
  },
  {
   "cell_type": "code",
   "execution_count": 21,
   "metadata": {},
   "outputs": [],
   "source": [
    "from medvqa.utils.files import load_json_file\n",
    "from medvqa.datasets.iuxray import IUXRAY_CACHE_DIR\n",
    "import os"
   ]
  },
  {
   "cell_type": "code",
   "execution_count": 22,
   "metadata": {},
   "outputs": [],
   "source": [
    "iuxray_reports = load_json_file(os.path.join(IUXRAY_CACHE_DIR, 'qa_adapted_reports__20220324_143133.json'))"
   ]
  },
  {
   "cell_type": "code",
   "execution_count": 24,
   "metadata": {},
   "outputs": [
    {
     "data": {
      "text/plain": [
       "'pneumatocele?'"
      ]
     },
     "execution_count": 24,
     "metadata": {},
     "output_type": "execute_result"
    }
   ],
   "source": [
    "iuxray_reports['questions'][69]"
   ]
  },
  {
   "cell_type": "code",
   "execution_count": 8,
   "metadata": {},
   "outputs": [
    {
     "data": {
      "text/plain": [
       "<module 'medvqa.models.vqa' from '/home/pamessina/medvqa/medvqa/models/vqa/__init__.py'>"
      ]
     },
     "execution_count": 8,
     "metadata": {},
     "output_type": "execute_result"
    }
   ],
   "source": [
    "reload(medvqa.models.vqa)"
   ]
  },
  {
   "cell_type": "code",
   "execution_count": 9,
   "metadata": {},
   "outputs": [],
   "source": [
    "from medvqa.models.vqa import ImageQuestionClassifier"
   ]
  },
  {
   "cell_type": "code",
   "execution_count": 10,
   "metadata": {},
   "outputs": [],
   "source": [
    "image_question_classifier = ImageQuestionClassifier(1024, 97)"
   ]
  },
  {
   "cell_type": "code",
   "execution_count": 11,
   "metadata": {},
   "outputs": [],
   "source": [
    "checkpoint = torch.load('/home/pamessina/medvqa-workspace/models/vqa/20220508_110803_mimiccxr+iuxray_oevqa(densenet121+bilstm+lstm)_voc-minf=5_model-args=(128,128,512,2,128,1024,0)_cnn-pretr=0_mim-iux-freqs=200,10_medtok=1_tags=0_orien=1_chx=1_ql=1_use_amp/checkpoint_194_emq+cD+wmdcmp+oracc+chxlf1+qlf1=0.6855.pt')"
   ]
  },
  {
   "cell_type": "code",
   "execution_count": 16,
   "metadata": {},
   "outputs": [
    {
     "data": {
      "text/plain": [
       "_IncompatibleKeys(missing_keys=[], unexpected_keys=['embedding_table.weight', 'question_encoder.embedding_table.weight', 'question_encoder.lstm.weight_ih_l0', 'question_encoder.lstm.weight_hh_l0', 'question_encoder.lstm.bias_ih_l0', 'question_encoder.lstm.bias_hh_l0', 'question_encoder.lstm.weight_ih_l0_reverse', 'question_encoder.lstm.weight_hh_l0_reverse', 'question_encoder.lstm.bias_ih_l0_reverse', 'question_encoder.lstm.bias_hh_l0_reverse', 'question_encoder.W_out.weight', 'question_encoder.W_out.bias', 'question_decoder.start_idx', 'question_decoder.embedding_table.weight', 'question_decoder.lstm_cell.weight_ih', 'question_decoder.lstm_cell.weight_hh', 'question_decoder.lstm_cell.bias_ih', 'question_decoder.lstm_cell.bias_hh', 'question_decoder.W_o.weight', 'question_decoder.W_o.bias', 'question_decoder.W_h.weight', 'question_decoder.W_h.bias', 'question_decoder.W_c.weight', 'question_decoder.W_c.bias', 'question_decoder.W_vocab.weight', 'question_decoder.W_vocab.bias', 'answer_decoder.start_idx', 'answer_decoder.embedding_table.weight', 'answer_decoder.W_g2o.weight', 'answer_decoder.W_g2o.bias', 'answer_decoder.W_h.weight', 'answer_decoder.W_c.weight', 'answer_decoder.lstm_cell.weight_ih', 'answer_decoder.lstm_cell.weight_hh', 'answer_decoder.lstm_cell.bias_ih', 'answer_decoder.lstm_cell.bias_hh', 'answer_decoder.stacked_lstm_cell.lstm_cells.0.weight_ih', 'answer_decoder.stacked_lstm_cell.lstm_cells.0.weight_hh', 'answer_decoder.stacked_lstm_cell.lstm_cells.0.bias_ih', 'answer_decoder.stacked_lstm_cell.lstm_cells.0.bias_hh', 'answer_decoder.W_attn.weight', 'answer_decoder.W_u.weight', 'answer_decoder.W_u.bias', 'answer_decoder.W_vocab.weight', 'answer_decoder.W_vocab.bias', 'W_ori_mimiccxr.weight', 'W_ori_mimiccxr.bias', 'W_ori_iuxray.weight', 'W_ori_iuxray.bias', 'W_chx.weight', 'W_chx.bias'])"
      ]
     },
     "execution_count": 16,
     "metadata": {},
     "output_type": "execute_result"
    }
   ],
   "source": [
    "image_question_classifier.load_state_dict(checkpoint['model'], strict=False)"
   ]
  },
  {
   "cell_type": "code",
   "execution_count": 19,
   "metadata": {},
   "outputs": [],
   "source": [
    "batch_size = 6\n",
    "vocab_size = 10\n",
    "k = 3"
   ]
  },
  {
   "cell_type": "code",
   "execution_count": 59,
   "metadata": {},
   "outputs": [],
   "source": [
    "def expand_tensor_for_beamsearch(x, k=3):\n",
    "    x = x.unsqueeze(1)\n",
    "    expanded_shape = list(x.shape)\n",
    "    expanded_shape[1] = k\n",
    "    final_shape = (-1, *expanded_shape[2:])\n",
    "    x = x.expand(expanded_shape).reshape(final_shape)\n",
    "    return x"
   ]
  },
  {
   "cell_type": "code",
   "execution_count": 74,
   "metadata": {},
   "outputs": [],
   "source": [
    "y = torch.rand((batch_size,2,2))"
   ]
  },
  {
   "cell_type": "code",
   "execution_count": 66,
   "metadata": {},
   "outputs": [
    {
     "data": {
      "text/plain": [
       "torch.Size([6])"
      ]
     },
     "execution_count": 66,
     "metadata": {},
     "output_type": "execute_result"
    }
   ],
   "source": [
    "y.shape"
   ]
  },
  {
   "cell_type": "code",
   "execution_count": 67,
   "metadata": {},
   "outputs": [],
   "source": [
    "yy = expand_tensor_for_beamsearch(y, 3)"
   ]
  },
  {
   "cell_type": "code",
   "execution_count": 68,
   "metadata": {},
   "outputs": [
    {
     "data": {
      "text/plain": [
       "torch.Size([18])"
      ]
     },
     "execution_count": 68,
     "metadata": {},
     "output_type": "execute_result"
    }
   ],
   "source": [
    "yy.shape"
   ]
  },
  {
   "cell_type": "code",
   "execution_count": 69,
   "metadata": {},
   "outputs": [
    {
     "data": {
      "text/plain": [
       "tensor([0.7631, 0.7631, 0.7631, 0.6812, 0.6812, 0.6812, 0.1418, 0.1418, 0.1418,\n",
       "        0.6295, 0.6295, 0.6295, 0.7533, 0.7533, 0.7533, 0.8059, 0.8059, 0.8059])"
      ]
     },
     "execution_count": 69,
     "metadata": {},
     "output_type": "execute_result"
    }
   ],
   "source": [
    "yy"
   ]
  },
  {
   "cell_type": "code",
   "execution_count": 33,
   "metadata": {},
   "outputs": [
    {
     "data": {
      "text/plain": [
       "tensor([0.5277, 0.5277, 0.5277, 0.5786, 0.5786, 0.5786, 0.3248, 0.3248, 0.3248,\n",
       "        0.7825, 0.7825, 0.7825, 0.1196, 0.1196, 0.1196, 0.2675, 0.2675, 0.2675])"
      ]
     },
     "execution_count": 33,
     "metadata": {},
     "output_type": "execute_result"
    }
   ],
   "source": [
    "y.view(-1, 1).expand((-1, 3)).reshape(-1)"
   ]
  },
  {
   "cell_type": "code",
   "execution_count": 77,
   "metadata": {},
   "outputs": [],
   "source": [
    "x = torch.rand((batch_size * k, vocab_size))"
   ]
  },
  {
   "cell_type": "code",
   "execution_count": 78,
   "metadata": {},
   "outputs": [
    {
     "data": {
      "text/plain": [
       "torch.Size([18, 10])"
      ]
     },
     "execution_count": 78,
     "metadata": {},
     "output_type": "execute_result"
    }
   ],
   "source": [
    "x.shape"
   ]
  },
  {
   "cell_type": "code",
   "execution_count": 79,
   "metadata": {},
   "outputs": [],
   "source": [
    "next_topk = x.topk(3)"
   ]
  },
  {
   "cell_type": "code",
   "execution_count": 80,
   "metadata": {},
   "outputs": [
    {
     "data": {
      "text/plain": [
       "torch.Size([18, 3])"
      ]
     },
     "execution_count": 80,
     "metadata": {},
     "output_type": "execute_result"
    }
   ],
   "source": [
    "next_topk.values.shape"
   ]
  },
  {
   "cell_type": "code",
   "execution_count": 83,
   "metadata": {},
   "outputs": [
    {
     "data": {
      "text/plain": [
       "tensor([[0.9615, 0.7342, 0.7289],\n",
       "        [0.7679, 0.7453, 0.6772],\n",
       "        [0.9683, 0.9119, 0.8841],\n",
       "        [0.6275, 0.6149, 0.5978],\n",
       "        [0.9538, 0.9323, 0.8339],\n",
       "        [0.9604, 0.9191, 0.8751],\n",
       "        [0.9534, 0.9025, 0.7567],\n",
       "        [0.9223, 0.8865, 0.7758],\n",
       "        [0.7818, 0.6555, 0.5447],\n",
       "        [0.9999, 0.8322, 0.7741],\n",
       "        [0.8682, 0.7486, 0.6980],\n",
       "        [0.9704, 0.8717, 0.7842],\n",
       "        [0.9834, 0.9494, 0.9206],\n",
       "        [0.9605, 0.9173, 0.8819],\n",
       "        [0.9625, 0.9216, 0.6936],\n",
       "        [0.9250, 0.8615, 0.7895],\n",
       "        [0.9633, 0.9026, 0.8803],\n",
       "        [0.9792, 0.6997, 0.6621]])"
      ]
     },
     "execution_count": 83,
     "metadata": {},
     "output_type": "execute_result"
    }
   ],
   "source": [
    "next_topk.values"
   ]
  },
  {
   "cell_type": "code",
   "execution_count": 100,
   "metadata": {},
   "outputs": [
    {
     "data": {
      "text/plain": [
       "tensor([[0, 0],\n",
       "        [0, 0]])"
      ]
     },
     "execution_count": 100,
     "metadata": {},
     "output_type": "execute_result"
    }
   ],
   "source": [
    "next_topk.indices.dtype\n",
    "torch.zeros((2,2), dtype=int)"
   ]
  },
  {
   "cell_type": "code",
   "execution_count": null,
   "metadata": {},
   "outputs": [],
   "source": []
  },
  {
   "cell_type": "code",
   "execution_count": 76,
   "metadata": {},
   "outputs": [
    {
     "ename": "RuntimeError",
     "evalue": "selected index k out of range",
     "output_type": "error",
     "traceback": [
      "\u001b[0;31m---------------------------------------------------------------------------\u001b[0m",
      "\u001b[0;31mRuntimeError\u001b[0m                              Traceback (most recent call last)",
      "\u001b[0;32m<ipython-input-76-48b87905fe21>\u001b[0m in \u001b[0;36m<module>\u001b[0;34m\u001b[0m\n\u001b[0;32m----> 1\u001b[0;31m \u001b[0mtop_k\u001b[0m \u001b[0;34m=\u001b[0m \u001b[0my\u001b[0m\u001b[0;34m.\u001b[0m\u001b[0mtopk\u001b[0m\u001b[0;34m(\u001b[0m\u001b[0;36m3\u001b[0m\u001b[0;34m)\u001b[0m\u001b[0;34m\u001b[0m\u001b[0;34m\u001b[0m\u001b[0m\n\u001b[0m",
      "\u001b[0;31mRuntimeError\u001b[0m: selected index k out of range"
     ]
    }
   ],
   "source": [
    "top_k = y.topk(3)"
   ]
  },
  {
   "cell_type": "code",
   "execution_count": 88,
   "metadata": {},
   "outputs": [
    {
     "data": {
      "text/plain": [
       "tensor(0.9735)"
      ]
     },
     "execution_count": 88,
     "metadata": {},
     "output_type": "execute_result"
    }
   ],
   "source": [
    "1 + torch.log(top_k.values[0][0])"
   ]
  },
  {
   "cell_type": "code",
   "execution_count": 90,
   "metadata": {},
   "outputs": [
    {
     "data": {
      "text/plain": [
       "tensor([[0.5606, 0.1659, 0.1629, 0.1728, 0.3895, 0.7289, 0.2209, 0.5765, 0.9615,\n",
       "         0.7342],\n",
       "        [0.1508, 0.0255, 0.2021, 0.4179, 0.3990, 0.6003, 0.7679, 0.1248, 0.7453,\n",
       "         0.6772],\n",
       "        [0.8841, 0.2324, 0.6177, 0.0073, 0.4803, 0.9119, 0.9683, 0.0910, 0.1812,\n",
       "         0.7829],\n",
       "        [0.4662, 0.0948, 0.1873, 0.2887, 0.6149, 0.0134, 0.5978, 0.6275, 0.4856,\n",
       "         0.4884],\n",
       "        [0.0216, 0.7627, 0.9323, 0.7105, 0.9538, 0.2230, 0.3695, 0.8339, 0.5819,\n",
       "         0.6050],\n",
       "        [0.1597, 0.8483, 0.9604, 0.1341, 0.1380, 0.8751, 0.2443, 0.6905, 0.7692,\n",
       "         0.9191],\n",
       "        [0.1655, 0.6862, 0.7442, 0.7567, 0.9025, 0.5976, 0.0313, 0.6703, 0.1105,\n",
       "         0.9534],\n",
       "        [0.9223, 0.1618, 0.7278, 0.1070, 0.3003, 0.8865, 0.3092, 0.7758, 0.0682,\n",
       "         0.6432],\n",
       "        [0.7818, 0.2490, 0.3800, 0.5447, 0.0992, 0.1432, 0.1930, 0.6555, 0.1866,\n",
       "         0.1581],\n",
       "        [0.9999, 0.4593, 0.6465, 0.8322, 0.1118, 0.3830, 0.3434, 0.7741, 0.7548,\n",
       "         0.0706],\n",
       "        [0.3038, 0.5476, 0.5647, 0.7486, 0.8682, 0.5170, 0.2501, 0.1854, 0.5812,\n",
       "         0.6980],\n",
       "        [0.6434, 0.0783, 0.9704, 0.7842, 0.8717, 0.5172, 0.4219, 0.3536, 0.3973,\n",
       "         0.4277],\n",
       "        [0.4765, 0.0049, 0.4077, 0.0147, 0.7938, 0.9206, 0.1773, 0.9834, 0.2820,\n",
       "         0.9494],\n",
       "        [0.4915, 0.8819, 0.5466, 0.9173, 0.7531, 0.6795, 0.3962, 0.6542, 0.9605,\n",
       "         0.8455],\n",
       "        [0.5792, 0.9216, 0.2221, 0.4398, 0.3046, 0.3870, 0.0688, 0.6936, 0.9625,\n",
       "         0.0731],\n",
       "        [0.1174, 0.3957, 0.8615, 0.7895, 0.6297, 0.4106, 0.0961, 0.2281, 0.9250,\n",
       "         0.2050],\n",
       "        [0.8445, 0.3980, 0.2941, 0.8083, 0.8059, 0.8594, 0.9026, 0.8803, 0.9633,\n",
       "         0.2061],\n",
       "        [0.4527, 0.2162, 0.5356, 0.9792, 0.6621, 0.6464, 0.4183, 0.6997, 0.5699,\n",
       "         0.2753]])"
      ]
     },
     "execution_count": 90,
     "metadata": {},
     "output_type": "execute_result"
    }
   ],
   "source": [
    "x.clone()"
   ]
  },
  {
   "cell_type": "code",
   "execution_count": 73,
   "metadata": {},
   "outputs": [
    {
     "data": {
      "text/plain": [
       "torch.Size([18, 3])"
      ]
     },
     "execution_count": 73,
     "metadata": {},
     "output_type": "execute_result"
    }
   ],
   "source": [
    "top_k.values.shape"
   ]
  },
  {
   "cell_type": "code",
   "execution_count": 13,
   "metadata": {},
   "outputs": [
    {
     "data": {
      "text/plain": [
       "tensor([[-0.0387, -0.0631, -0.0649],\n",
       "        [-0.0310, -0.0430, -0.0625],\n",
       "        [-0.0460, -0.0485, -0.1475],\n",
       "        [-0.0859, -0.1304, -0.1547],\n",
       "        [-0.0399, -0.1235, -0.1504],\n",
       "        [-0.0206, -0.0722, -0.0846],\n",
       "        [-0.0070, -0.0371, -0.2323],\n",
       "        [-0.0062, -0.0300, -0.0804],\n",
       "        [-0.1127, -0.1605, -0.1654],\n",
       "        [-0.0186, -0.0257, -0.0407]])"
      ]
     },
     "execution_count": 13,
     "metadata": {},
     "output_type": "execute_result"
    }
   ],
   "source": [
    "torch.log(top_k.values)"
   ]
  },
  {
   "cell_type": "code",
   "execution_count": 17,
   "metadata": {},
   "outputs": [
    {
     "data": {
      "text/plain": [
       "torch.Size([5, 40])"
      ]
     },
     "execution_count": 17,
     "metadata": {},
     "output_type": "execute_result"
    }
   ],
   "source": [
    "x.view(5,-1).shape"
   ]
  },
  {
   "cell_type": "code",
   "execution_count": 15,
   "metadata": {},
   "outputs": [
    {
     "data": {
      "text/plain": [
       "torch.return_types.topk(\n",
       "values=tensor([[0.9695, 0.9620, 0.9579],\n",
       "        [0.9550, 0.9526, 0.9177],\n",
       "        [0.9796, 0.9609, 0.9304],\n",
       "        [0.9938, 0.9930, 0.9705],\n",
       "        [0.9815, 0.9747, 0.9601]]),\n",
       "indices=tensor([[39, 10, 24],\n",
       "        [ 3,  4, 20],\n",
       "        [21, 17, 26],\n",
       "        [29,  4, 27],\n",
       "        [24, 23, 26]]))"
      ]
     },
     "execution_count": 15,
     "metadata": {},
     "output_type": "execute_result"
    }
   ],
   "source": [
    "torch.topk(x.view(5,-1), 3)"
   ]
  },
  {
   "cell_type": "code",
   "execution_count": 14,
   "metadata": {},
   "outputs": [],
   "source": [
    "from importlib import reload"
   ]
  },
  {
   "cell_type": "code",
   "execution_count": 259,
   "metadata": {},
   "outputs": [],
   "source": [
    "import medvqa\n",
    "from medvqa.models.vqa.answer_decoder import AnswerDecoder"
   ]
  },
  {
   "cell_type": "code",
   "execution_count": 258,
   "metadata": {},
   "outputs": [
    {
     "data": {
      "text/plain": [
       "<module 'medvqa.models.vqa.answer_decoder' from '/home/pamessina/medvqa/medvqa/models/vqa/answer_decoder.py'>"
      ]
     },
     "execution_count": 258,
     "metadata": {},
     "output_type": "execute_result"
    }
   ],
   "source": [
    "reload(medvqa.models.vqa.answer_decoder)"
   ]
  },
  {
   "cell_type": "code",
   "execution_count": 265,
   "metadata": {},
   "outputs": [],
   "source": [
    "embedding_table = nn.Embedding(10, 100, 0)"
   ]
  },
  {
   "cell_type": "code",
   "execution_count": 266,
   "metadata": {},
   "outputs": [],
   "source": [
    "answer_decoder = AnswerDecoder(\n",
    "    embedding_table=embedding_table,\n",
    "    image_local_feat_size=100,\n",
    "    question_vec_size=100,\n",
    "    embed_size=100,\n",
    "    hidden_size=100,\n",
    "    n_lstm_layers=3,\n",
    "    start_idx=1,\n",
    "    vocab_size=10,\n",
    "    dropout_prob=0,\n",
    "    padding_idx=0,\n",
    "    eos_idx=2,\n",
    ")"
   ]
  },
  {
   "cell_type": "code",
   "execution_count": 267,
   "metadata": {},
   "outputs": [],
   "source": [
    "batch_size = 5"
   ]
  },
  {
   "cell_type": "code",
   "execution_count": 268,
   "metadata": {},
   "outputs": [],
   "source": [
    "image_local_feat = torch.rand((batch_size, 16, 100))\n",
    "image_global_feat = torch.rand((batch_size, 200))\n",
    "question_vecs = torch.rand((batch_size, 100))"
   ]
  },
  {
   "cell_type": "code",
   "execution_count": 273,
   "metadata": {
    "scrolled": true
   },
   "outputs": [
    {
     "name": "stdout",
     "output_type": "stream",
     "text": [
      "\n",
      "****** t = 0\n",
      "\n",
      "\n",
      "ki = 0\n",
      "topk_list[ki]:\n",
      "torch.return_types.topk(\n",
      "values=tensor([[0.1352, 0.1148, 0.1123, 0.1088],\n",
      "        [0.1300, 0.1137, 0.1131, 0.1081],\n",
      "        [0.1302, 0.1159, 0.1153, 0.1084],\n",
      "        [0.1318, 0.1170, 0.1128, 0.1121],\n",
      "        [0.1371, 0.1168, 0.1163, 0.1087]]),\n",
      "indices=tensor([[4, 8, 3, 5],\n",
      "        [4, 3, 8, 5],\n",
      "        [4, 8, 3, 5],\n",
      "        [4, 8, 5, 3],\n",
      "        [4, 3, 8, 5]]))\n",
      "output_list[ki]:\n",
      "tensor([[4, 0, 0, 0, 0, 0, 0, 0, 0, 0],\n",
      "        [4, 0, 0, 0, 0, 0, 0, 0, 0, 0],\n",
      "        [4, 0, 0, 0, 0, 0, 0, 0, 0, 0],\n",
      "        [4, 0, 0, 0, 0, 0, 0, 0, 0, 0],\n",
      "        [4, 0, 0, 0, 0, 0, 0, 0, 0, 0]])\n",
      "EOS_found[ki]:\n",
      "[False, False, False, False, False]\n",
      "log_prob_sums[ki]:\n",
      "tensor([-2.0008, -2.0406, -2.0385, -2.0264, -1.9869], dtype=torch.float64)\n",
      "\n",
      "ki = 1\n",
      "topk_list[ki]:\n",
      "None\n",
      "output_list[ki]:\n",
      "tensor([[8, 0, 0, 0, 0, 0, 0, 0, 0, 0],\n",
      "        [3, 0, 0, 0, 0, 0, 0, 0, 0, 0],\n",
      "        [8, 0, 0, 0, 0, 0, 0, 0, 0, 0],\n",
      "        [8, 0, 0, 0, 0, 0, 0, 0, 0, 0],\n",
      "        [3, 0, 0, 0, 0, 0, 0, 0, 0, 0]])\n",
      "EOS_found[ki]:\n",
      "[False, False, False, False, False]\n",
      "log_prob_sums[ki]:\n",
      "tensor([-2.1647, -2.1743, -2.1550, -2.1457, -2.1477], dtype=torch.float64)\n",
      "\n",
      "ki = 2\n",
      "topk_list[ki]:\n",
      "None\n",
      "output_list[ki]:\n",
      "tensor([[3, 0, 0, 0, 0, 0, 0, 0, 0, 0],\n",
      "        [8, 0, 0, 0, 0, 0, 0, 0, 0, 0],\n",
      "        [3, 0, 0, 0, 0, 0, 0, 0, 0, 0],\n",
      "        [5, 0, 0, 0, 0, 0, 0, 0, 0, 0],\n",
      "        [8, 0, 0, 0, 0, 0, 0, 0, 0, 0]])\n",
      "EOS_found[ki]:\n",
      "[False, False, False, False, False]\n",
      "log_prob_sums[ki]:\n",
      "tensor([-2.1862, -2.1791, -2.1606, -2.1825, -2.1518], dtype=torch.float64)\n",
      "\n",
      "ki = 3\n",
      "topk_list[ki]:\n",
      "None\n",
      "output_list[ki]:\n",
      "tensor([[5, 0, 0, 0, 0, 0, 0, 0, 0, 0],\n",
      "        [5, 0, 0, 0, 0, 0, 0, 0, 0, 0],\n",
      "        [5, 0, 0, 0, 0, 0, 0, 0, 0, 0],\n",
      "        [3, 0, 0, 0, 0, 0, 0, 0, 0, 0],\n",
      "        [5, 0, 0, 0, 0, 0, 0, 0, 0, 0]])\n",
      "EOS_found[ki]:\n",
      "[False, False, False, False, False]\n",
      "log_prob_sums[ki]:\n",
      "tensor([-2.2183, -2.2244, -2.2215, -2.1885, -2.2189], dtype=torch.float64)\n",
      "\n",
      "****** t = 1\n",
      "\n",
      "\n",
      "ki = 0\n",
      "topk_list[ki]:\n",
      "torch.return_types.topk(\n",
      "values=tensor([[0.1336, 0.1152, 0.1107, 0.1100],\n",
      "        [0.1292, 0.1136, 0.1120, 0.1100],\n",
      "        [0.1303, 0.1158, 0.1132, 0.1093],\n",
      "        [0.1321, 0.1163, 0.1132, 0.1112],\n",
      "        [0.1369, 0.1174, 0.1148, 0.1094]]),\n",
      "indices=tensor([[4, 8, 3, 5],\n",
      "        [4, 8, 3, 5],\n",
      "        [4, 8, 3, 5],\n",
      "        [4, 8, 5, 3],\n",
      "        [4, 8, 3, 5]]))\n",
      "output_list[ki]:\n",
      "tensor([[4, 4, 0, 0, 0, 0, 0, 0, 0, 0],\n",
      "        [4, 4, 0, 0, 0, 0, 0, 0, 0, 0],\n",
      "        [4, 4, 0, 0, 0, 0, 0, 0, 0, 0],\n",
      "        [4, 4, 0, 0, 0, 0, 0, 0, 0, 0],\n",
      "        [4, 4, 0, 0, 0, 0, 0, 0, 0, 0]])\n",
      "EOS_found[ki]:\n",
      "[False, False, False, False, False]\n",
      "log_prob_sums[ki]:\n",
      "tensor([-4.0137, -4.0871, -4.0761, -4.0508, -3.9754], dtype=torch.float64)\n",
      "\n",
      "ki = 1\n",
      "topk_list[ki]:\n",
      "torch.return_types.topk(\n",
      "values=tensor([[0.1336, 0.1152, 0.1107, 0.1101],\n",
      "        [0.1292, 0.1136, 0.1119, 0.1100],\n",
      "        [0.1303, 0.1159, 0.1132, 0.1094],\n",
      "        [0.1320, 0.1163, 0.1133, 0.1112],\n",
      "        [0.1369, 0.1174, 0.1147, 0.1094]]),\n",
      "indices=tensor([[4, 8, 3, 5],\n",
      "        [4, 8, 3, 5],\n",
      "        [4, 8, 3, 5],\n",
      "        [4, 8, 5, 3],\n",
      "        [4, 8, 3, 5]]))\n",
      "output_list[ki]:\n",
      "tensor([[4, 8, 0, 0, 0, 0, 0, 0, 0, 0],\n",
      "        [4, 8, 0, 0, 0, 0, 0, 0, 0, 0],\n",
      "        [8, 4, 0, 0, 0, 0, 0, 0, 0, 0],\n",
      "        [8, 4, 0, 0, 0, 0, 0, 0, 0, 0],\n",
      "        [4, 8, 0, 0, 0, 0, 0, 0, 0, 0]])\n",
      "EOS_found[ki]:\n",
      "[False, False, False, False, False]\n",
      "log_prob_sums[ki]:\n",
      "tensor([-4.1622, -4.2156, -4.1931, -4.1707, -4.1293], dtype=torch.float64)\n",
      "\n",
      "ki = 2\n",
      "topk_list[ki]:\n",
      "torch.return_types.topk(\n",
      "values=tensor([[0.1336, 0.1152, 0.1106, 0.1100],\n",
      "        [0.1291, 0.1136, 0.1120, 0.1100],\n",
      "        [0.1303, 0.1159, 0.1131, 0.1094],\n",
      "        [0.1322, 0.1163, 0.1133, 0.1110],\n",
      "        [0.1369, 0.1174, 0.1149, 0.1094]]),\n",
      "indices=tensor([[4, 8, 3, 5],\n",
      "        [4, 8, 3, 5],\n",
      "        [4, 8, 3, 5],\n",
      "        [4, 8, 5, 3],\n",
      "        [4, 8, 3, 5]]))\n",
      "output_list[ki]:\n",
      "tensor([[8, 4, 0, 0, 0, 0, 0, 0, 0, 0],\n",
      "        [3, 4, 0, 0, 0, 0, 0, 0, 0, 0],\n",
      "        [4, 8, 0, 0, 0, 0, 0, 0, 0, 0],\n",
      "        [4, 8, 0, 0, 0, 0, 0, 0, 0, 0],\n",
      "        [3, 4, 0, 0, 0, 0, 0, 0, 0, 0]])\n",
      "EOS_found[ki]:\n",
      "[False, False, False, False, False]\n",
      "log_prob_sums[ki]:\n",
      "tensor([-4.1777, -4.2207, -4.1940, -4.1782, -4.1358], dtype=torch.float64)\n",
      "\n",
      "ki = 3\n",
      "topk_list[ki]:\n",
      "torch.return_types.topk(\n",
      "values=tensor([[0.1337, 0.1152, 0.1106, 0.1101],\n",
      "        [0.1293, 0.1136, 0.1119, 0.1101],\n",
      "        [0.1304, 0.1159, 0.1130, 0.1094],\n",
      "        [0.1321, 0.1163, 0.1132, 0.1111],\n",
      "        [0.1370, 0.1174, 0.1147, 0.1094]]),\n",
      "indices=tensor([[4, 8, 3, 5],\n",
      "        [4, 8, 3, 5],\n",
      "        [4, 8, 3, 5],\n",
      "        [4, 8, 5, 3],\n",
      "        [4, 8, 3, 5]]))\n",
      "output_list[ki]:\n",
      "tensor([[3, 4, 0, 0, 0, 0, 0, 0, 0, 0],\n",
      "        [8, 4, 0, 0, 0, 0, 0, 0, 0, 0],\n",
      "        [3, 4, 0, 0, 0, 0, 0, 0, 0, 0],\n",
      "        [4, 5, 0, 0, 0, 0, 0, 0, 0, 0],\n",
      "        [8, 4, 0, 0, 0, 0, 0, 0, 0, 0]])\n",
      "EOS_found[ki]:\n",
      "[False, False, False, False, False]\n",
      "log_prob_sums[ki]:\n",
      "tensor([-4.1990, -4.2260, -4.1982, -4.2049, -4.1404], dtype=torch.float64)\n",
      "\n",
      "****** t = 2\n",
      "\n",
      "\n",
      "ki = 0\n",
      "topk_list[ki]:\n",
      "torch.return_types.topk(\n",
      "values=tensor([[0.1325, 0.1155, 0.1107, 0.1103],\n",
      "        [0.1290, 0.1138, 0.1116, 0.1109],\n",
      "        [0.1300, 0.1158, 0.1123, 0.1099],\n",
      "        [0.1318, 0.1159, 0.1133, 0.1112],\n",
      "        [0.1368, 0.1178, 0.1139, 0.1098]]),\n",
      "indices=tensor([[4, 8, 5, 3],\n",
      "        [4, 8, 3, 5],\n",
      "        [4, 8, 3, 5],\n",
      "        [4, 8, 5, 3],\n",
      "        [4, 8, 3, 5]]))\n",
      "output_list[ki]:\n",
      "tensor([[4, 4, 4, 0, 0, 0, 0, 0, 0, 0],\n",
      "        [4, 4, 4, 0, 0, 0, 0, 0, 0, 0],\n",
      "        [4, 4, 4, 0, 0, 0, 0, 0, 0, 0],\n",
      "        [4, 4, 4, 0, 0, 0, 0, 0, 0, 0],\n",
      "        [4, 4, 4, 0, 0, 0, 0, 0, 0, 0]])\n",
      "EOS_found[ki]:\n",
      "[False, False, False, False, False]\n",
      "log_prob_sums[ki]:\n",
      "tensor([-6.0346, -6.1354, -6.1163, -6.0772, -5.9647], dtype=torch.float64)\n",
      "\n",
      "ki = 1\n",
      "topk_list[ki]:\n",
      "torch.return_types.topk(\n",
      "values=tensor([[0.1325, 0.1154, 0.1107, 0.1103],\n",
      "        [0.1288, 0.1136, 0.1117, 0.1110],\n",
      "        [0.1299, 0.1157, 0.1124, 0.1100],\n",
      "        [0.1318, 0.1158, 0.1133, 0.1112],\n",
      "        [0.1366, 0.1177, 0.1141, 0.1098]]),\n",
      "indices=tensor([[4, 8, 5, 3],\n",
      "        [4, 8, 3, 5],\n",
      "        [4, 8, 3, 5],\n",
      "        [4, 8, 5, 3],\n",
      "        [4, 8, 3, 5]]))\n",
      "output_list[ki]:\n",
      "tensor([[4, 4, 8, 0, 0, 0, 0, 0, 0, 0],\n",
      "        [4, 4, 8, 0, 0, 0, 0, 0, 0, 0],\n",
      "        [4, 4, 8, 0, 0, 0, 0, 0, 0, 0],\n",
      "        [8, 4, 4, 0, 0, 0, 0, 0, 0, 0],\n",
      "        [4, 4, 8, 0, 0, 0, 0, 0, 0, 0]])\n",
      "EOS_found[ki]:\n",
      "[False, False, False, False, False]\n",
      "log_prob_sums[ki]:\n",
      "tensor([-6.1724, -6.2607, -6.2316, -6.1973, -6.1142], dtype=torch.float64)\n",
      "\n",
      "ki = 2\n",
      "topk_list[ki]:\n",
      "torch.return_types.topk(\n",
      "values=tensor([[0.1325, 0.1154, 0.1106, 0.1103],\n",
      "        [0.1289, 0.1135, 0.1117, 0.1109],\n",
      "        [0.1299, 0.1158, 0.1124, 0.1100],\n",
      "        [0.1317, 0.1159, 0.1134, 0.1112],\n",
      "        [0.1366, 0.1176, 0.1141, 0.1098]]),\n",
      "indices=tensor([[4, 8, 5, 3],\n",
      "        [4, 8, 3, 5],\n",
      "        [4, 8, 3, 5],\n",
      "        [4, 8, 5, 3],\n",
      "        [4, 8, 3, 5]]))\n",
      "output_list[ki]:\n",
      "tensor([[4, 8, 4, 0, 0, 0, 0, 0, 0, 0],\n",
      "        [4, 8, 4, 0, 0, 0, 0, 0, 0, 0],\n",
      "        [8, 4, 4, 0, 0, 0, 0, 0, 0, 0],\n",
      "        [4, 8, 4, 0, 0, 0, 0, 0, 0, 0],\n",
      "        [4, 8, 4, 0, 0, 0, 0, 0, 0, 0]])\n",
      "EOS_found[ki]:\n",
      "[False, False, False, False, False]\n",
      "log_prob_sums[ki]:\n",
      "tensor([-6.1835, -6.2648, -6.2337, -6.2053, -6.1200], dtype=torch.float64)\n",
      "\n",
      "ki = 3\n",
      "topk_list[ki]:\n",
      "torch.return_types.topk(\n",
      "values=tensor([[0.1325, 0.1154, 0.1106, 0.1103],\n",
      "        [0.1289, 0.1135, 0.1117, 0.1109],\n",
      "        [0.1299, 0.1157, 0.1124, 0.1100],\n",
      "        [0.1319, 0.1159, 0.1133, 0.1111],\n",
      "        [0.1366, 0.1176, 0.1141, 0.1098]]),\n",
      "indices=tensor([[4, 8, 5, 3],\n",
      "        [4, 8, 3, 5],\n",
      "        [4, 8, 3, 5],\n",
      "        [4, 8, 5, 3],\n",
      "        [4, 8, 3, 5]]))\n",
      "output_list[ki]:\n",
      "tensor([[8, 4, 4, 0, 0, 0, 0, 0, 0, 0],\n",
      "        [3, 4, 4, 0, 0, 0, 0, 0, 0, 0],\n",
      "        [4, 8, 4, 0, 0, 0, 0, 0, 0, 0],\n",
      "        [4, 4, 8, 0, 0, 0, 0, 0, 0, 0],\n",
      "        [3, 4, 4, 0, 0, 0, 0, 0, 0, 0]])\n",
      "EOS_found[ki]:\n",
      "[False, False, False, False, False]\n",
      "log_prob_sums[ki]:\n",
      "tensor([-6.1988, -6.2696, -6.2351, -6.2056, -6.1263], dtype=torch.float64)\n",
      "\n",
      "****** t = 3\n",
      "\n",
      "\n",
      "ki = 0\n",
      "topk_list[ki]:\n",
      "torch.return_types.topk(\n",
      "values=tensor([[0.1320, 0.1157, 0.1110, 0.1103],\n",
      "        [0.1290, 0.1138, 0.1116, 0.1114],\n",
      "        [0.1298, 0.1159, 0.1120, 0.1102],\n",
      "        [0.1316, 0.1158, 0.1133, 0.1115],\n",
      "        [0.1368, 0.1180, 0.1136, 0.1100]]),\n",
      "indices=tensor([[4, 8, 5, 3],\n",
      "        [4, 8, 3, 5],\n",
      "        [4, 8, 3, 5],\n",
      "        [4, 8, 5, 3],\n",
      "        [4, 8, 3, 5]]))\n",
      "output_list[ki]:\n",
      "tensor([[4, 4, 4, 4, 0, 0, 0, 0, 0, 0],\n",
      "        [4, 4, 4, 4, 0, 0, 0, 0, 0, 0],\n",
      "        [4, 4, 4, 4, 0, 0, 0, 0, 0, 0],\n",
      "        [4, 4, 4, 4, 0, 0, 0, 0, 0, 0],\n",
      "        [4, 4, 4, 4, 0, 0, 0, 0, 0, 0]])\n",
      "EOS_found[ki]:\n",
      "[False, False, False, False, False]\n",
      "log_prob_sums[ki]:\n",
      "tensor([-8.0598, -8.1836, -8.1584, -8.1050, -7.9542], dtype=torch.float64)\n",
      "\n",
      "ki = 1\n",
      "topk_list[ki]:\n",
      "torch.return_types.topk(\n",
      "values=tensor([[0.1319, 0.1157, 0.1111, 0.1103],\n",
      "        [0.1289, 0.1138, 0.1116, 0.1115],\n",
      "        [0.1297, 0.1160, 0.1120, 0.1103],\n",
      "        [0.1316, 0.1157, 0.1133, 0.1115],\n",
      "        [0.1367, 0.1180, 0.1137, 0.1101]]),\n",
      "indices=tensor([[4, 8, 5, 3],\n",
      "        [4, 8, 3, 5],\n",
      "        [4, 8, 3, 5],\n",
      "        [4, 8, 5, 3],\n",
      "        [4, 8, 3, 5]]))\n",
      "output_list[ki]:\n",
      "tensor([[4, 4, 4, 8, 0, 0, 0, 0, 0, 0],\n",
      "        [4, 4, 4, 8, 0, 0, 0, 0, 0, 0],\n",
      "        [4, 4, 4, 8, 0, 0, 0, 0, 0, 0],\n",
      "        [8, 4, 4, 4, 0, 0, 0, 0, 0, 0],\n",
      "        [4, 4, 4, 8, 0, 0, 0, 0, 0, 0]])\n",
      "EOS_found[ki]:\n",
      "[False, False, False, False, False]\n",
      "log_prob_sums[ki]:\n",
      "tensor([-8.1916, -8.3091, -8.2712, -8.2251, -8.1022], dtype=torch.float64)\n",
      "\n",
      "ki = 2\n",
      "topk_list[ki]:\n",
      "torch.return_types.topk(\n",
      "values=tensor([[0.1320, 0.1156, 0.1111, 0.1104],\n",
      "        [0.1289, 0.1135, 0.1117, 0.1115],\n",
      "        [0.1298, 0.1158, 0.1121, 0.1103],\n",
      "        [0.1316, 0.1158, 0.1134, 0.1115],\n",
      "        [0.1366, 0.1178, 0.1139, 0.1101]]),\n",
      "indices=tensor([[4, 8, 5, 3],\n",
      "        [4, 8, 3, 5],\n",
      "        [4, 8, 3, 5],\n",
      "        [4, 8, 5, 3],\n",
      "        [4, 8, 3, 5]]))\n",
      "output_list[ki]:\n",
      "tensor([[4, 4, 8, 4, 0, 0, 0, 0, 0, 0],\n",
      "        [4, 4, 8, 4, 0, 0, 0, 0, 0, 0],\n",
      "        [4, 4, 8, 4, 0, 0, 0, 0, 0, 0],\n",
      "        [4, 4, 4, 8, 0, 0, 0, 0, 0, 0],\n",
      "        [4, 4, 8, 4, 0, 0, 0, 0, 0, 0]])\n",
      "EOS_found[ki]:\n",
      "[False, False, False, False, False]\n",
      "log_prob_sums[ki]:\n",
      "tensor([-8.1978, -8.3092, -8.2740, -8.2331, -8.1040], dtype=torch.float64)\n",
      "\n",
      "ki = 3\n",
      "topk_list[ki]:\n",
      "torch.return_types.topk(\n",
      "values=tensor([[0.1320, 0.1155, 0.1110, 0.1103],\n",
      "        [0.1289, 0.1135, 0.1117, 0.1114],\n",
      "        [0.1297, 0.1158, 0.1122, 0.1104],\n",
      "        [0.1316, 0.1158, 0.1134, 0.1114],\n",
      "        [0.1366, 0.1178, 0.1138, 0.1100]]),\n",
      "indices=tensor([[4, 8, 5, 3],\n",
      "        [4, 8, 3, 5],\n",
      "        [4, 8, 3, 5],\n",
      "        [4, 8, 5, 3],\n",
      "        [4, 8, 3, 5]]))\n",
      "output_list[ki]:\n",
      "tensor([[4, 8, 4, 4, 0, 0, 0, 0, 0, 0],\n",
      "        [4, 8, 4, 4, 0, 0, 0, 0, 0, 0],\n",
      "        [8, 4, 4, 4, 0, 0, 0, 0, 0, 0],\n",
      "        [4, 8, 4, 4, 0, 0, 0, 0, 0, 0],\n",
      "        [4, 8, 4, 4, 0, 0, 0, 0, 0, 0]])\n",
      "EOS_found[ki]:\n",
      "[False, False, False, False, False]\n",
      "log_prob_sums[ki]:\n",
      "tensor([-8.2087, -8.3137, -8.2758, -8.2336, -8.1109], dtype=torch.float64)\n",
      "\n",
      "****** t = 4\n",
      "\n",
      "\n",
      "ki = 0\n",
      "topk_list[ki]:\n",
      "torch.return_types.topk(\n",
      "values=tensor([[0.1317, 0.1158, 0.1112, 0.1104],\n",
      "        [0.1290, 0.1137, 0.1117, 0.1116],\n",
      "        [0.1297, 0.1160, 0.1120, 0.1104],\n",
      "        [0.1316, 0.1157, 0.1132, 0.1117],\n",
      "        [0.1368, 0.1180, 0.1136, 0.1101]]),\n",
      "indices=tensor([[4, 8, 5, 3],\n",
      "        [4, 8, 3, 5],\n",
      "        [4, 8, 3, 5],\n",
      "        [4, 8, 5, 3],\n",
      "        [4, 8, 3, 5]]))\n",
      "output_list[ki]:\n",
      "tensor([[4, 4, 4, 4, 4, 0, 0, 0, 0, 0],\n",
      "        [4, 4, 4, 4, 4, 0, 0, 0, 0, 0],\n",
      "        [4, 4, 4, 4, 4, 0, 0, 0, 0, 0],\n",
      "        [4, 4, 4, 4, 4, 0, 0, 0, 0, 0],\n",
      "        [4, 4, 4, 4, 4, 0, 0, 0, 0, 0]])\n",
      "EOS_found[ki]:\n",
      "[False, False, False, False, False]\n",
      "log_prob_sums[ki]:\n",
      "tensor([-10.0870, -10.2312, -10.2012, -10.1333,  -9.9437], dtype=torch.float64)\n",
      "\n",
      "ki = 1\n",
      "topk_list[ki]:\n",
      "torch.return_types.topk(\n",
      "values=tensor([[0.1317, 0.1158, 0.1113, 0.1104],\n",
      "        [0.1290, 0.1137, 0.1117, 0.1117],\n",
      "        [0.1296, 0.1160, 0.1120, 0.1105],\n",
      "        [0.1316, 0.1157, 0.1132, 0.1117],\n",
      "        [0.1367, 0.1180, 0.1136, 0.1102]]),\n",
      "indices=tensor([[4, 8, 5, 3],\n",
      "        [4, 8, 5, 3],\n",
      "        [4, 8, 3, 5],\n",
      "        [4, 8, 5, 3],\n",
      "        [4, 8, 3, 5]]))\n",
      "output_list[ki]:\n",
      "tensor([[4, 4, 4, 4, 8, 0, 0, 0, 0, 0],\n",
      "        [4, 4, 4, 8, 4, 0, 0, 0, 0, 0],\n",
      "        [4, 4, 4, 4, 8, 0, 0, 0, 0, 0],\n",
      "        [8, 4, 4, 4, 4, 0, 0, 0, 0, 0],\n",
      "        [4, 4, 4, 4, 8, 0, 0, 0, 0, 0]])\n",
      "EOS_found[ki]:\n",
      "[False, False, False, False, False]\n",
      "log_prob_sums[ki]:\n",
      "tensor([-10.2158, -10.3570, -10.3127, -10.2533, -10.0913], dtype=torch.float64)\n",
      "\n",
      "ki = 2\n",
      "topk_list[ki]:\n",
      "torch.return_types.topk(\n",
      "values=tensor([[0.1317, 0.1158, 0.1113, 0.1104],\n",
      "        [0.1290, 0.1137, 0.1118, 0.1117],\n",
      "        [0.1296, 0.1160, 0.1120, 0.1105],\n",
      "        [0.1315, 0.1158, 0.1133, 0.1117],\n",
      "        [0.1367, 0.1180, 0.1137, 0.1102]]),\n",
      "indices=tensor([[4, 8, 5, 3],\n",
      "        [4, 8, 5, 3],\n",
      "        [4, 8, 3, 5],\n",
      "        [4, 8, 5, 3],\n",
      "        [4, 8, 3, 5]]))\n",
      "output_list[ki]:\n",
      "tensor([[4, 4, 4, 8, 4, 0, 0, 0, 0, 0],\n",
      "        [4, 4, 8, 4, 4, 0, 0, 0, 0, 0],\n",
      "        [4, 4, 4, 8, 4, 0, 0, 0, 0, 0],\n",
      "        [4, 4, 4, 4, 8, 0, 0, 0, 0, 0],\n",
      "        [4, 4, 4, 8, 4, 0, 0, 0, 0, 0]])\n",
      "EOS_found[ki]:\n",
      "[False, False, False, False, False]\n",
      "log_prob_sums[ki]:\n",
      "tensor([-10.2191, -10.3571, -10.3145, -10.2614, -10.0919], dtype=torch.float64)\n",
      "\n",
      "ki = 3\n",
      "topk_list[ki]:\n",
      "torch.return_types.topk(\n",
      "values=tensor([[0.1317, 0.1157, 0.1114, 0.1105],\n",
      "        [0.1290, 0.1134, 0.1119, 0.1118],\n",
      "        [0.1297, 0.1158, 0.1121, 0.1105],\n",
      "        [0.1315, 0.1157, 0.1134, 0.1118],\n",
      "        [0.1366, 0.1178, 0.1139, 0.1103]]),\n",
      "indices=tensor([[4, 8, 5, 3],\n",
      "        [4, 8, 3, 5],\n",
      "        [4, 8, 3, 5],\n",
      "        [4, 8, 5, 3],\n",
      "        [4, 8, 3, 5]]))\n",
      "output_list[ki]:\n",
      "tensor([[4, 4, 8, 4, 4, 0, 0, 0, 0, 0],\n",
      "        [4, 4, 4, 4, 8, 0, 0, 0, 0, 0],\n",
      "        [4, 4, 8, 4, 4, 0, 0, 0, 0, 0],\n",
      "        [4, 8, 4, 4, 4, 0, 0, 0, 0, 0],\n",
      "        [4, 4, 8, 4, 4, 0, 0, 0, 0, 0]])\n",
      "EOS_found[ki]:\n",
      "[False, False, False, False, False]\n",
      "log_prob_sums[ki]:\n",
      "tensor([-10.2252, -10.3580, -10.3173, -10.2620, -10.0937], dtype=torch.float64)\n",
      "\n",
      "****** t = 5\n",
      "\n",
      "\n",
      "ki = 0\n",
      "topk_list[ki]:\n",
      "torch.return_types.topk(\n",
      "values=tensor([[0.1316, 0.1158, 0.1113, 0.1104],\n",
      "        [0.1291, 0.1136, 0.1118, 0.1118],\n",
      "        [0.1296, 0.1160, 0.1120, 0.1105],\n",
      "        [0.1315, 0.1157, 0.1131, 0.1119],\n",
      "        [0.1368, 0.1180, 0.1137, 0.1102]]),\n",
      "indices=tensor([[4, 8, 5, 3],\n",
      "        [4, 8, 3, 5],\n",
      "        [4, 8, 3, 5],\n",
      "        [4, 8, 5, 3],\n",
      "        [4, 8, 3, 5]]))\n",
      "output_list[ki]:\n",
      "tensor([[4, 4, 4, 4, 4, 4, 0, 0, 0, 0],\n",
      "        [4, 4, 4, 4, 4, 4, 0, 0, 0, 0],\n",
      "        [4, 4, 4, 4, 4, 4, 0, 0, 0, 0],\n",
      "        [4, 4, 4, 4, 4, 4, 0, 0, 0, 0],\n",
      "        [4, 4, 4, 4, 4, 4, 0, 0, 0, 0]])\n",
      "EOS_found[ki]:\n",
      "[False, False, False, False, False]\n",
      "log_prob_sums[ki]:\n",
      "tensor([-12.1150, -12.2781, -12.2444, -12.1617, -11.9328], dtype=torch.float64)\n",
      "\n",
      "ki = 1\n",
      "topk_list[ki]:\n",
      "torch.return_types.topk(\n",
      "values=tensor([[0.1316, 0.1159, 0.1114, 0.1104],\n",
      "        [0.1291, 0.1136, 0.1119, 0.1119],\n",
      "        [0.1296, 0.1160, 0.1120, 0.1105],\n",
      "        [0.1316, 0.1156, 0.1131, 0.1120],\n",
      "        [0.1368, 0.1180, 0.1137, 0.1102]]),\n",
      "indices=tensor([[4, 8, 5, 3],\n",
      "        [4, 8, 5, 3],\n",
      "        [4, 8, 3, 5],\n",
      "        [4, 8, 5, 3],\n",
      "        [4, 8, 3, 5]]))\n",
      "output_list[ki]:\n",
      "tensor([[4, 4, 4, 4, 4, 8, 0, 0, 0, 0],\n",
      "        [4, 4, 8, 4, 4, 4, 0, 0, 0, 0],\n",
      "        [4, 4, 4, 4, 4, 8, 0, 0, 0, 0],\n",
      "        [8, 4, 4, 4, 4, 4, 0, 0, 0, 0],\n",
      "        [4, 4, 4, 4, 8, 4, 0, 0, 0, 0]])\n",
      "EOS_found[ki]:\n",
      "[False, False, False, False, False]\n",
      "log_prob_sums[ki]:\n",
      "tensor([-12.2425, -12.4040, -12.3554, -12.2814, -12.0808], dtype=torch.float64)\n",
      "\n",
      "ki = 2\n",
      "topk_list[ki]:\n",
      "torch.return_types.topk(\n",
      "values=tensor([[0.1316, 0.1158, 0.1114, 0.1105],\n",
      "        [0.1291, 0.1135, 0.1119, 0.1119],\n",
      "        [0.1296, 0.1160, 0.1120, 0.1106],\n",
      "        [0.1315, 0.1157, 0.1132, 0.1119],\n",
      "        [0.1368, 0.1180, 0.1138, 0.1103]]),\n",
      "indices=tensor([[4, 8, 5, 3],\n",
      "        [4, 8, 5, 3],\n",
      "        [4, 8, 3, 5],\n",
      "        [4, 8, 5, 3],\n",
      "        [4, 8, 3, 5]]))\n",
      "output_list[ki]:\n",
      "tensor([[4, 4, 4, 4, 8, 4, 0, 0, 0, 0],\n",
      "        [4, 4, 4, 8, 4, 4, 0, 0, 0, 0],\n",
      "        [4, 4, 4, 4, 8, 4, 0, 0, 0, 0],\n",
      "        [4, 4, 4, 4, 4, 8, 0, 0, 0, 0],\n",
      "        [4, 4, 4, 4, 4, 8, 0, 0, 0, 0]])\n",
      "EOS_found[ki]:\n",
      "[False, False, False, False, False]\n",
      "log_prob_sums[ki]:\n",
      "tensor([-12.2441, -12.4042, -12.3563, -12.2900, -12.0808], dtype=torch.float64)\n",
      "\n",
      "ki = 3\n",
      "topk_list[ki]:\n",
      "torch.return_types.topk(\n",
      "values=tensor([[0.1316, 0.1158, 0.1115, 0.1105],\n",
      "        [0.1291, 0.1136, 0.1118, 0.1118],\n",
      "        [0.1296, 0.1160, 0.1121, 0.1106],\n",
      "        [0.1316, 0.1156, 0.1133, 0.1121],\n",
      "        [0.1368, 0.1180, 0.1138, 0.1103]]),\n",
      "indices=tensor([[4, 8, 5, 3],\n",
      "        [4, 8, 5, 3],\n",
      "        [4, 8, 3, 5],\n",
      "        [4, 8, 5, 3],\n",
      "        [4, 8, 3, 5]]))\n",
      "output_list[ki]:\n",
      "tensor([[4, 4, 4, 8, 4, 4, 0, 0, 0, 0],\n",
      "        [4, 4, 4, 4, 8, 4, 0, 0, 0, 0],\n",
      "        [4, 4, 4, 8, 4, 4, 0, 0, 0, 0],\n",
      "        [4, 8, 4, 4, 4, 4, 0, 0, 0, 0],\n",
      "        [4, 4, 4, 8, 4, 4, 0, 0, 0, 0]])\n",
      "EOS_found[ki]:\n",
      "[False, False, False, False, False]\n",
      "log_prob_sums[ki]:\n",
      "tensor([-12.2472, -12.4054, -12.3580, -12.2901, -12.0813], dtype=torch.float64)\n",
      "\n",
      "****** t = 6\n",
      "\n",
      "\n",
      "ki = 0\n",
      "topk_list[ki]:\n",
      "torch.return_types.topk(\n",
      "values=tensor([[0.1316, 0.1159, 0.1114, 0.1105],\n",
      "        [0.1292, 0.1135, 0.1120, 0.1118],\n",
      "        [0.1296, 0.1160, 0.1120, 0.1105],\n",
      "        [0.1316, 0.1157, 0.1130, 0.1121],\n",
      "        [0.1368, 0.1180, 0.1138, 0.1102]]),\n",
      "indices=tensor([[4, 8, 5, 3],\n",
      "        [4, 8, 3, 5],\n",
      "        [4, 8, 3, 5],\n",
      "        [4, 8, 5, 3],\n",
      "        [4, 8, 3, 5]]))\n",
      "output_list[ki]:\n",
      "tensor([[4, 4, 4, 4, 4, 4, 4, 0, 0, 0],\n",
      "        [4, 4, 4, 4, 4, 4, 4, 0, 0, 0],\n",
      "        [4, 4, 4, 4, 4, 4, 4, 0, 0, 0],\n",
      "        [4, 4, 4, 4, 4, 4, 4, 0, 0, 0],\n",
      "        [4, 4, 4, 4, 4, 4, 4, 0, 0, 0]])\n",
      "EOS_found[ki]:\n",
      "[False, False, False, False, False]\n",
      "log_prob_sums[ki]:\n",
      "tensor([-14.1432, -14.3245, -14.2875, -14.1900, -13.9217], dtype=torch.float64)\n",
      "\n",
      "ki = 1\n",
      "topk_list[ki]:\n",
      "torch.return_types.topk(\n",
      "values=tensor([[0.1315, 0.1159, 0.1114, 0.1105],\n",
      "        [0.1292, 0.1134, 0.1121, 0.1120],\n",
      "        [0.1296, 0.1160, 0.1120, 0.1106],\n",
      "        [0.1316, 0.1156, 0.1131, 0.1121],\n",
      "        [0.1368, 0.1180, 0.1138, 0.1103]]),\n",
      "indices=tensor([[4, 8, 5, 3],\n",
      "        [4, 8, 3, 5],\n",
      "        [4, 8, 3, 5],\n",
      "        [4, 8, 5, 3],\n",
      "        [4, 8, 3, 5]]))\n",
      "output_list[ki]:\n",
      "tensor([[4, 4, 4, 4, 4, 4, 8, 0, 0, 0],\n",
      "        [4, 4, 8, 4, 4, 4, 4, 0, 0, 0],\n",
      "        [4, 4, 4, 4, 4, 4, 8, 0, 0, 0],\n",
      "        [8, 4, 4, 4, 4, 4, 4, 0, 0, 0],\n",
      "        [4, 4, 4, 4, 8, 4, 4, 0, 0, 0]])\n",
      "EOS_found[ki]:\n",
      "[False, False, False, False, False]\n",
      "log_prob_sums[ki]:\n",
      "tensor([-14.2704, -14.4500, -14.3985, -14.3094, -14.0700], dtype=torch.float64)\n",
      "\n",
      "ki = 2\n",
      "topk_list[ki]:\n",
      "torch.return_types.topk(\n",
      "values=tensor([[0.1315, 0.1159, 0.1115, 0.1106],\n",
      "        [0.1292, 0.1134, 0.1120, 0.1120],\n",
      "        [0.1296, 0.1160, 0.1121, 0.1106],\n",
      "        [0.1315, 0.1157, 0.1131, 0.1121],\n",
      "        [0.1368, 0.1180, 0.1138, 0.1103]]),\n",
      "indices=tensor([[4, 8, 5, 3],\n",
      "        [4, 8, 3, 5],\n",
      "        [4, 8, 3, 5],\n",
      "        [4, 8, 5, 3],\n",
      "        [4, 8, 3, 5]]))\n",
      "output_list[ki]:\n",
      "tensor([[4, 4, 4, 4, 4, 8, 4, 0, 0, 0],\n",
      "        [4, 4, 4, 8, 4, 4, 4, 0, 0, 0],\n",
      "        [4, 4, 4, 4, 4, 8, 4, 0, 0, 0],\n",
      "        [4, 8, 4, 4, 4, 4, 4, 0, 0, 0],\n",
      "        [4, 4, 4, 4, 4, 8, 4, 0, 0, 0]])\n",
      "EOS_found[ki]:\n",
      "[False, False, False, False, False]\n",
      "log_prob_sums[ki]:\n",
      "tensor([-14.2711, -14.4506, -14.3989, -14.3179, -14.0700], dtype=torch.float64)\n",
      "\n",
      "ki = 3\n",
      "topk_list[ki]:\n",
      "torch.return_types.topk(\n",
      "values=tensor([[0.1316, 0.1158, 0.1115, 0.1106],\n",
      "        [0.1292, 0.1135, 0.1120, 0.1120],\n",
      "        [0.1296, 0.1160, 0.1121, 0.1107],\n",
      "        [0.1316, 0.1156, 0.1132, 0.1122],\n",
      "        [0.1368, 0.1180, 0.1139, 0.1103]]),\n",
      "indices=tensor([[4, 8, 5, 3],\n",
      "        [4, 8, 3, 5],\n",
      "        [4, 8, 3, 5],\n",
      "        [4, 8, 5, 3],\n",
      "        [4, 8, 3, 5]]))\n",
      "output_list[ki]:\n",
      "tensor([[4, 4, 4, 4, 8, 4, 4, 0, 0, 0],\n",
      "        [4, 4, 4, 4, 8, 4, 4, 0, 0, 0],\n",
      "        [4, 4, 4, 4, 8, 4, 4, 0, 0, 0],\n",
      "        [4, 4, 4, 4, 4, 4, 8, 0, 0, 0],\n",
      "        [4, 4, 4, 4, 4, 4, 8, 0, 0, 0]])\n",
      "EOS_found[ki]:\n",
      "[False, False, False, False, False]\n",
      "log_prob_sums[ki]:\n",
      "tensor([-14.2725, -14.4521, -14.3998, -14.3186, -14.0702], dtype=torch.float64)\n",
      "\n",
      "****** t = 7\n",
      "\n",
      "\n",
      "ki = 0\n",
      "topk_list[ki]:\n",
      "torch.return_types.topk(\n",
      "values=tensor([[0.1316, 0.1159, 0.1114, 0.1106],\n",
      "        [0.1292, 0.1134, 0.1121, 0.1119],\n",
      "        [0.1296, 0.1160, 0.1121, 0.1105],\n",
      "        [0.1316, 0.1157, 0.1130, 0.1122],\n",
      "        [0.1369, 0.1179, 0.1139, 0.1102]]),\n",
      "indices=tensor([[4, 8, 5, 3],\n",
      "        [4, 8, 3, 5],\n",
      "        [4, 8, 3, 5],\n",
      "        [4, 8, 5, 3],\n",
      "        [4, 8, 3, 5]]))\n",
      "output_list[ki]:\n",
      "tensor([[4, 4, 4, 4, 4, 4, 4, 4, 0, 0],\n",
      "        [4, 4, 4, 4, 4, 4, 4, 4, 0, 0],\n",
      "        [4, 4, 4, 4, 4, 4, 4, 4, 0, 0],\n",
      "        [4, 4, 4, 4, 4, 4, 4, 4, 0, 0],\n",
      "        [4, 4, 4, 4, 4, 4, 4, 4, 0, 0]])\n",
      "EOS_found[ki]:\n",
      "[False, False, False, False, False]\n",
      "log_prob_sums[ki]:\n",
      "tensor([-16.1714, -16.3706, -16.3304, -16.2179, -15.9103], dtype=torch.float64)\n",
      "\n",
      "ki = 1\n",
      "topk_list[ki]:\n",
      "torch.return_types.topk(\n",
      "values=tensor([[0.1315, 0.1159, 0.1115, 0.1106],\n",
      "        [0.1293, 0.1133, 0.1122, 0.1120],\n",
      "        [0.1296, 0.1160, 0.1121, 0.1106],\n",
      "        [0.1316, 0.1156, 0.1130, 0.1122],\n",
      "        [0.1369, 0.1179, 0.1139, 0.1104]]),\n",
      "indices=tensor([[4, 8, 5, 3],\n",
      "        [4, 8, 3, 5],\n",
      "        [4, 8, 3, 5],\n",
      "        [4, 8, 5, 3],\n",
      "        [4, 8, 3, 5]]))\n",
      "output_list[ki]:\n",
      "tensor([[4, 4, 4, 4, 4, 4, 4, 8, 0, 0],\n",
      "        [4, 4, 8, 4, 4, 4, 4, 4, 0, 0],\n",
      "        [4, 4, 4, 4, 4, 4, 4, 8, 0, 0],\n",
      "        [8, 4, 4, 4, 4, 4, 4, 4, 0, 0],\n",
      "        [4, 4, 4, 4, 8, 4, 4, 4, 0, 0]])\n",
      "EOS_found[ki]:\n",
      "[False, False, False, False, False]\n",
      "log_prob_sums[ki]:\n",
      "tensor([-16.2985, -16.4956, -16.4416, -16.3371, -16.0586], dtype=torch.float64)\n",
      "\n",
      "ki = 2\n",
      "topk_list[ki]:\n",
      "torch.return_types.topk(\n",
      "values=tensor([[0.1316, 0.1159, 0.1115, 0.1106],\n",
      "        [0.1293, 0.1133, 0.1121, 0.1120],\n",
      "        [0.1296, 0.1160, 0.1121, 0.1107],\n",
      "        [0.1317, 0.1156, 0.1131, 0.1123],\n",
      "        [0.1369, 0.1180, 0.1139, 0.1103]]),\n",
      "indices=tensor([[4, 8, 5, 3],\n",
      "        [4, 8, 3, 5],\n",
      "        [4, 8, 3, 5],\n",
      "        [4, 8, 5, 3],\n",
      "        [4, 8, 3, 5]]))\n",
      "output_list[ki]:\n",
      "tensor([[4, 4, 4, 4, 4, 4, 8, 4, 0, 0],\n",
      "        [4, 4, 4, 8, 4, 4, 4, 4, 0, 0],\n",
      "        [4, 4, 4, 4, 4, 4, 8, 4, 0, 0],\n",
      "        [4, 8, 4, 4, 4, 4, 4, 4, 0, 0],\n",
      "        [4, 4, 4, 4, 4, 8, 4, 4, 0, 0]])\n",
      "EOS_found[ki]:\n",
      "[False, False, False, False, False]\n",
      "log_prob_sums[ki]:\n",
      "tensor([-16.2988, -16.4963, -16.4418, -16.3453, -16.0589], dtype=torch.float64)\n",
      "\n",
      "ki = 3\n",
      "topk_list[ki]:\n",
      "torch.return_types.topk(\n",
      "values=tensor([[0.1316, 0.1158, 0.1115, 0.1106],\n",
      "        [0.1293, 0.1134, 0.1121, 0.1120],\n",
      "        [0.1296, 0.1160, 0.1122, 0.1107],\n",
      "        [0.1315, 0.1157, 0.1130, 0.1122],\n",
      "        [0.1368, 0.1180, 0.1139, 0.1103]]),\n",
      "indices=tensor([[4, 8, 5, 3],\n",
      "        [4, 8, 3, 5],\n",
      "        [4, 8, 3, 5],\n",
      "        [4, 8, 5, 3],\n",
      "        [4, 8, 3, 5]]))\n",
      "output_list[ki]:\n",
      "tensor([[4, 4, 4, 4, 4, 8, 4, 4, 0, 0],\n",
      "        [4, 4, 4, 4, 8, 4, 4, 4, 0, 0],\n",
      "        [4, 4, 4, 4, 4, 8, 4, 4, 0, 0],\n",
      "        [4, 4, 4, 4, 4, 4, 4, 8, 0, 0],\n",
      "        [4, 4, 4, 4, 4, 4, 8, 4, 0, 0]])\n",
      "EOS_found[ki]:\n",
      "[False, False, False, False, False]\n",
      "log_prob_sums[ki]:\n",
      "tensor([-16.2994, -16.4981, -16.4422, -16.3470, -16.0591], dtype=torch.float64)\n",
      "\n",
      "****** t = 8\n",
      "\n",
      "\n",
      "ki = 0\n",
      "topk_list[ki]:\n",
      "torch.return_types.topk(\n",
      "values=tensor([[0.1316, 0.1159, 0.1114, 0.1106],\n",
      "        [0.1293, 0.1133, 0.1121, 0.1119],\n",
      "        [0.1297, 0.1160, 0.1121, 0.1105],\n",
      "        [0.1317, 0.1157, 0.1129, 0.1122],\n",
      "        [0.1369, 0.1179, 0.1139, 0.1102]]),\n",
      "indices=tensor([[4, 8, 5, 3],\n",
      "        [4, 8, 3, 5],\n",
      "        [4, 8, 3, 5],\n",
      "        [4, 8, 5, 3],\n",
      "        [4, 8, 3, 5]]))\n",
      "output_list[ki]:\n",
      "tensor([[4, 4, 4, 4, 4, 4, 4, 4, 4, 0],\n",
      "        [4, 4, 4, 4, 4, 4, 4, 4, 4, 0],\n",
      "        [4, 4, 4, 4, 4, 4, 4, 4, 4, 0],\n",
      "        [4, 4, 4, 4, 4, 4, 4, 4, 4, 0],\n",
      "        [4, 4, 4, 4, 4, 4, 4, 4, 4, 0]])\n",
      "EOS_found[ki]:\n",
      "[False, False, False, False, False]\n",
      "log_prob_sums[ki]:\n",
      "tensor([-18.1993, -18.4163, -18.3731, -18.2455, -17.8987], dtype=torch.float64)\n",
      "\n",
      "ki = 1\n",
      "topk_list[ki]:\n",
      "torch.return_types.topk(\n",
      "values=tensor([[0.1316, 0.1159, 0.1115, 0.1106],\n",
      "        [0.1293, 0.1133, 0.1122, 0.1120],\n",
      "        [0.1296, 0.1160, 0.1121, 0.1106],\n",
      "        [0.1317, 0.1156, 0.1130, 0.1122],\n",
      "        [0.1369, 0.1179, 0.1140, 0.1104]]),\n",
      "indices=tensor([[4, 8, 5, 3],\n",
      "        [4, 8, 3, 5],\n",
      "        [4, 8, 3, 5],\n",
      "        [4, 8, 5, 3],\n",
      "        [4, 8, 3, 5]]))\n",
      "output_list[ki]:\n",
      "tensor([[4, 4, 4, 4, 4, 4, 4, 4, 8, 0],\n",
      "        [4, 4, 8, 4, 4, 4, 4, 4, 4, 0],\n",
      "        [4, 4, 4, 4, 4, 4, 4, 4, 8, 0],\n",
      "        [8, 4, 4, 4, 4, 4, 4, 4, 4, 0],\n",
      "        [4, 4, 4, 4, 8, 4, 4, 4, 4, 0]])\n",
      "EOS_found[ki]:\n",
      "[False, False, False, False, False]\n",
      "log_prob_sums[ki]:\n",
      "tensor([-18.3266, -18.5409, -18.4846, -18.3645, -18.0468], dtype=torch.float64)\n",
      "\n",
      "ki = 2\n",
      "topk_list[ki]:\n",
      "torch.return_types.topk(\n",
      "values=tensor([[0.1316, 0.1159, 0.1115, 0.1106],\n",
      "        [0.1293, 0.1133, 0.1122, 0.1121],\n",
      "        [0.1296, 0.1160, 0.1121, 0.1107],\n",
      "        [0.1317, 0.1156, 0.1131, 0.1123],\n",
      "        [0.1369, 0.1179, 0.1140, 0.1104]]),\n",
      "indices=tensor([[4, 8, 5, 3],\n",
      "        [4, 8, 3, 5],\n",
      "        [4, 8, 3, 5],\n",
      "        [4, 8, 5, 3],\n",
      "        [4, 8, 3, 5]]))\n",
      "output_list[ki]:\n",
      "tensor([[4, 4, 4, 4, 4, 4, 4, 8, 4, 0],\n",
      "        [4, 4, 4, 8, 4, 4, 4, 4, 4, 0],\n",
      "        [4, 4, 4, 4, 4, 4, 4, 8, 4, 0],\n",
      "        [4, 8, 4, 4, 4, 4, 4, 4, 4, 0],\n",
      "        [4, 4, 4, 4, 4, 8, 4, 4, 4, 0]])\n",
      "EOS_found[ki]:\n",
      "[False, False, False, False, False]\n",
      "log_prob_sums[ki]:\n",
      "tensor([-18.3268, -18.5416, -18.4847, -18.3726, -18.0473], dtype=torch.float64)\n",
      "\n",
      "ki = 3\n",
      "topk_list[ki]:\n",
      "torch.return_types.topk(\n",
      "values=tensor([[0.1316, 0.1158, 0.1116, 0.1107],\n",
      "        [0.1293, 0.1133, 0.1122, 0.1121],\n",
      "        [0.1297, 0.1160, 0.1122, 0.1107],\n",
      "        [0.1316, 0.1157, 0.1130, 0.1122],\n",
      "        [0.1369, 0.1179, 0.1139, 0.1103]]),\n",
      "indices=tensor([[4, 8, 5, 3],\n",
      "        [4, 8, 3, 5],\n",
      "        [4, 8, 3, 5],\n",
      "        [4, 8, 5, 3],\n",
      "        [4, 8, 3, 5]]))\n",
      "output_list[ki]:\n",
      "tensor([[4, 4, 4, 4, 4, 4, 8, 4, 4, 0],\n",
      "        [4, 4, 4, 4, 8, 4, 4, 4, 4, 0],\n",
      "        [4, 4, 4, 4, 4, 4, 8, 4, 4, 0],\n",
      "        [4, 4, 4, 4, 4, 4, 4, 4, 8, 0],\n",
      "        [4, 4, 4, 4, 4, 4, 8, 4, 4, 0]])\n",
      "EOS_found[ki]:\n",
      "[False, False, False, False, False]\n",
      "log_prob_sums[ki]:\n",
      "tensor([-18.3269, -18.5435, -18.4849, -18.3750, -18.0477], dtype=torch.float64)\n",
      "\n",
      "****** t = 9\n",
      "\n",
      "\n",
      "ki = 0\n",
      "topk_list[ki]:\n",
      "torch.return_types.topk(\n",
      "values=tensor([[0.1316, 0.1159, 0.1114, 0.1106],\n",
      "        [0.1293, 0.1133, 0.1122, 0.1119],\n",
      "        [0.1297, 0.1160, 0.1121, 0.1105],\n",
      "        [0.1317, 0.1156, 0.1129, 0.1122],\n",
      "        [0.1370, 0.1179, 0.1139, 0.1102]]),\n",
      "indices=tensor([[4, 8, 5, 3],\n",
      "        [4, 8, 3, 5],\n",
      "        [4, 8, 3, 5],\n",
      "        [4, 8, 5, 3],\n",
      "        [4, 8, 3, 5]]))\n",
      "output_list[ki]:\n",
      "tensor([[4, 4, 4, 4, 4, 4, 4, 4, 4, 4],\n",
      "        [4, 4, 4, 4, 4, 4, 4, 4, 4, 4],\n",
      "        [4, 4, 4, 4, 4, 4, 4, 4, 4, 4],\n",
      "        [4, 4, 4, 4, 4, 4, 4, 4, 4, 4],\n",
      "        [4, 4, 4, 4, 4, 4, 4, 4, 4, 4]])\n",
      "EOS_found[ki]:\n",
      "[False, False, False, False, False]\n",
      "log_prob_sums[ki]:\n",
      "tensor([-20.2271, -20.4618, -20.4155, -20.2728, -19.8868], dtype=torch.float64)\n",
      "\n",
      "ki = 1\n",
      "topk_list[ki]:\n",
      "torch.return_types.topk(\n",
      "values=tensor([[0.1316, 0.1159, 0.1115, 0.1106],\n",
      "        [0.1294, 0.1132, 0.1122, 0.1120],\n",
      "        [0.1297, 0.1160, 0.1121, 0.1106],\n",
      "        [0.1317, 0.1156, 0.1129, 0.1123],\n",
      "        [0.1370, 0.1179, 0.1140, 0.1104]]),\n",
      "indices=tensor([[4, 8, 5, 3],\n",
      "        [4, 8, 3, 5],\n",
      "        [4, 8, 3, 5],\n",
      "        [4, 8, 5, 3],\n",
      "        [4, 8, 3, 5]]))\n",
      "output_list[ki]:\n",
      "tensor([[4, 4, 4, 4, 4, 4, 8, 4, 4, 4],\n",
      "        [4, 4, 8, 4, 4, 4, 4, 4, 4, 4],\n",
      "        [4, 4, 4, 4, 4, 4, 4, 4, 4, 8],\n",
      "        [8, 4, 4, 4, 4, 4, 4, 4, 4, 4],\n",
      "        [4, 4, 4, 4, 8, 4, 4, 4, 4, 4]])\n",
      "EOS_found[ki]:\n",
      "[False, False, False, False, False]\n",
      "log_prob_sums[ki]:\n",
      "tensor([-20.3546, -20.5860, -20.5274, -20.3917, -20.0346], dtype=torch.float64)\n",
      "\n",
      "ki = 2\n",
      "topk_list[ki]:\n",
      "torch.return_types.topk(\n",
      "values=tensor([[0.1316, 0.1159, 0.1115, 0.1107],\n",
      "        [0.1294, 0.1132, 0.1123, 0.1120],\n",
      "        [0.1297, 0.1160, 0.1122, 0.1107],\n",
      "        [0.1317, 0.1156, 0.1130, 0.1123],\n",
      "        [0.1370, 0.1179, 0.1140, 0.1104]]),\n",
      "indices=tensor([[4, 8, 5, 3],\n",
      "        [4, 8, 3, 5],\n",
      "        [4, 8, 3, 5],\n",
      "        [4, 8, 5, 3],\n",
      "        [4, 8, 3, 5]]))\n",
      "output_list[ki]:\n",
      "tensor([[4, 4, 4, 4, 4, 4, 4, 4, 4, 8],\n",
      "        [4, 4, 4, 8, 4, 4, 4, 4, 4, 4],\n",
      "        [4, 4, 4, 4, 4, 4, 8, 4, 4, 4],\n",
      "        [4, 8, 4, 4, 4, 4, 4, 4, 4, 4],\n",
      "        [4, 4, 4, 4, 4, 8, 4, 4, 4, 4]])\n",
      "EOS_found[ki]:\n",
      "[False, False, False, False, False]\n",
      "log_prob_sums[ki]:\n",
      "tensor([-20.3546, -20.5867, -20.5274, -20.3996, -20.0352], dtype=torch.float64)\n",
      "\n",
      "ki = 3\n",
      "topk_list[ki]:\n",
      "torch.return_types.topk(\n",
      "values=tensor([[0.1316, 0.1158, 0.1116, 0.1107],\n",
      "        [0.1294, 0.1132, 0.1123, 0.1121],\n",
      "        [0.1297, 0.1160, 0.1122, 0.1107],\n",
      "        [0.1316, 0.1157, 0.1130, 0.1122],\n",
      "        [0.1369, 0.1179, 0.1140, 0.1104]]),\n",
      "indices=tensor([[4, 8, 5, 3],\n",
      "        [4, 8, 3, 5],\n",
      "        [4, 8, 3, 5],\n",
      "        [4, 8, 5, 3],\n",
      "        [4, 8, 3, 5]]))\n",
      "output_list[ki]:\n",
      "tensor([[4, 4, 4, 4, 4, 4, 4, 8, 4, 4],\n",
      "        [4, 4, 4, 4, 8, 4, 4, 4, 4, 4],\n",
      "        [4, 4, 4, 4, 4, 4, 4, 4, 8, 4],\n",
      "        [4, 4, 4, 4, 4, 4, 4, 4, 4, 8],\n",
      "        [4, 4, 4, 4, 4, 4, 8, 4, 4, 4]])\n",
      "EOS_found[ki]:\n",
      "[False, False, False, False, False]\n",
      "log_prob_sums[ki]:\n",
      "tensor([-20.3547, -20.5886, -20.5275, -20.4027, -20.0359], dtype=torch.float64)\n"
     ]
    }
   ],
   "source": [
    "with torch.set_grad_enabled(False):\n",
    "    answer_decoder.train(False)\n",
    "    beam_output = answer_decoder.beam_search_decoding(\n",
    "        image_local_feat,\n",
    "        image_global_feat,\n",
    "        question_vecs,\n",
    "        max_answer_length=10,\n",
    "        k=4,\n",
    "    )"
   ]
  },
  {
   "cell_type": "code",
   "execution_count": 270,
   "metadata": {},
   "outputs": [],
   "source": [
    "with torch.set_grad_enabled(False):\n",
    "    answer_decoder.train(False)\n",
    "    greedy_output = answer_decoder.greedy_search_decoding(\n",
    "        image_local_feat,\n",
    "        image_global_feat,\n",
    "        question_vecs,\n",
    "        max_answer_length=10,\n",
    "    )"
   ]
  },
  {
   "cell_type": "code",
   "execution_count": 271,
   "metadata": {},
   "outputs": [
    {
     "data": {
      "text/plain": [
       "tensor([[4, 4, 4, 4, 4, 4, 4, 4, 4, 4],\n",
       "        [4, 4, 4, 4, 4, 4, 4, 4, 4, 4],\n",
       "        [4, 4, 4, 4, 4, 4, 4, 4, 4, 4],\n",
       "        [4, 4, 4, 4, 4, 4, 4, 4, 4, 4],\n",
       "        [4, 4, 4, 4, 4, 4, 4, 4, 4, 4]])"
      ]
     },
     "execution_count": 271,
     "metadata": {},
     "output_type": "execute_result"
    }
   ],
   "source": [
    "greedy_output"
   ]
  },
  {
   "cell_type": "code",
   "execution_count": 274,
   "metadata": {
    "scrolled": false
   },
   "outputs": [
    {
     "data": {
      "text/plain": [
       "([tensor([[4, 4, 4, 4, 4, 4, 4, 4, 4, 4],\n",
       "          [4, 4, 4, 4, 4, 4, 4, 4, 4, 4],\n",
       "          [4, 4, 4, 4, 4, 4, 4, 4, 4, 4],\n",
       "          [4, 4, 4, 4, 4, 4, 4, 4, 4, 4],\n",
       "          [4, 4, 4, 4, 4, 4, 4, 4, 4, 4]]),\n",
       "  tensor([[4, 4, 4, 4, 4, 4, 8, 4, 4, 4],\n",
       "          [4, 4, 8, 4, 4, 4, 4, 4, 4, 4],\n",
       "          [4, 4, 4, 4, 4, 4, 4, 4, 4, 8],\n",
       "          [8, 4, 4, 4, 4, 4, 4, 4, 4, 4],\n",
       "          [4, 4, 4, 4, 8, 4, 4, 4, 4, 4]]),\n",
       "  tensor([[4, 4, 4, 4, 4, 4, 4, 4, 4, 8],\n",
       "          [4, 4, 4, 8, 4, 4, 4, 4, 4, 4],\n",
       "          [4, 4, 4, 4, 4, 4, 8, 4, 4, 4],\n",
       "          [4, 8, 4, 4, 4, 4, 4, 4, 4, 4],\n",
       "          [4, 4, 4, 4, 4, 8, 4, 4, 4, 4]]),\n",
       "  tensor([[4, 4, 4, 4, 4, 4, 4, 8, 4, 4],\n",
       "          [4, 4, 4, 4, 8, 4, 4, 4, 4, 4],\n",
       "          [4, 4, 4, 4, 4, 4, 4, 4, 8, 4],\n",
       "          [4, 4, 4, 4, 4, 4, 4, 4, 4, 8],\n",
       "          [4, 4, 4, 4, 4, 4, 8, 4, 4, 4]])],\n",
       " tensor([[-20.2271, -20.4618, -20.4155, -20.2728, -19.8868],\n",
       "         [-20.3546, -20.5860, -20.5274, -20.3917, -20.0346],\n",
       "         [-20.3546, -20.5867, -20.5274, -20.3996, -20.0352],\n",
       "         [-20.3547, -20.5886, -20.5275, -20.4027, -20.0359]],\n",
       "        dtype=torch.float64),\n",
       " [[False, False, False, False, False],\n",
       "  [False, False, False, False, False],\n",
       "  [False, False, False, False, False],\n",
       "  [False, False, False, False, False]])"
      ]
     },
     "execution_count": 274,
     "metadata": {},
     "output_type": "execute_result"
    }
   ],
   "source": [
    "beam_output"
   ]
  },
  {
   "cell_type": "code",
   "execution_count": 133,
   "metadata": {},
   "outputs": [],
   "source": [
    "_x = torch.rand(5,5)\n",
    "_x2 = _x.clone()"
   ]
  },
  {
   "cell_type": "code",
   "execution_count": 134,
   "metadata": {},
   "outputs": [
    {
     "data": {
      "text/plain": [
       "tensor([[0.3948, 0.3327, 0.8307, 0.0634, 0.0054],\n",
       "        [0.5373, 0.1518, 0.4682, 0.9005, 0.4235],\n",
       "        [0.1074, 0.0699, 0.9498, 0.1834, 0.1292],\n",
       "        [0.2304, 0.8344, 0.1235, 0.1750, 0.2598],\n",
       "        [0.5720, 0.6804, 0.6465, 0.0694, 0.9396]])"
      ]
     },
     "execution_count": 134,
     "metadata": {},
     "output_type": "execute_result"
    }
   ],
   "source": [
    "_x"
   ]
  },
  {
   "cell_type": "code",
   "execution_count": 136,
   "metadata": {},
   "outputs": [],
   "source": [
    "_x2[0][0] += 5"
   ]
  },
  {
   "cell_type": "code",
   "execution_count": 182,
   "metadata": {},
   "outputs": [
    {
     "data": {
      "text/plain": [
       "tensor([[1.5395e+01, 3.3272e-01, 8.3066e-01, 6.3414e-02, 5.4101e-03],\n",
       "        [5.3727e-01, 1.5181e-01, 4.6817e-01, 9.0047e-01, 4.2347e-01],\n",
       "        [1.0737e-01, 6.9916e-02, 9.4979e-01, 1.8339e-01, 1.2918e-01],\n",
       "        [2.3036e-01, 8.3443e-01, 1.2347e-01, 1.7497e-01, 2.5978e-01],\n",
       "        [5.7201e-01, 6.8044e-01, 6.4649e-01, 6.9358e-02, 9.3962e-01]])"
      ]
     },
     "execution_count": 182,
     "metadata": {},
     "output_type": "execute_result"
    }
   ],
   "source": [
    "_x2"
   ]
  },
  {
   "cell_type": "code",
   "execution_count": 183,
   "metadata": {},
   "outputs": [],
   "source": [
    "_aux = _x2[0][0]"
   ]
  },
  {
   "cell_type": "code",
   "execution_count": 185,
   "metadata": {},
   "outputs": [],
   "source": [
    "_aux = _aux + 10"
   ]
  },
  {
   "cell_type": "code",
   "execution_count": 186,
   "metadata": {},
   "outputs": [
    {
     "data": {
      "text/plain": [
       "(tensor(25.3948),\n",
       " tensor([[1.5395e+01, 3.3272e-01, 8.3066e-01, 6.3414e-02, 5.4101e-03],\n",
       "         [5.3727e-01, 1.5181e-01, 4.6817e-01, 9.0047e-01, 4.2347e-01],\n",
       "         [1.0737e-01, 6.9916e-02, 9.4979e-01, 1.8339e-01, 1.2918e-01],\n",
       "         [2.3036e-01, 8.3443e-01, 1.2347e-01, 1.7497e-01, 2.5978e-01],\n",
       "         [5.7201e-01, 6.8044e-01, 6.4649e-01, 6.9358e-02, 9.3962e-01]]))"
      ]
     },
     "execution_count": 186,
     "metadata": {},
     "output_type": "execute_result"
    }
   ],
   "source": [
    "_aux, _x2"
   ]
  },
  {
   "cell_type": "code",
   "execution_count": 174,
   "metadata": {},
   "outputs": [
    {
     "data": {
      "text/plain": [
       "tensor(-24.9336)"
      ]
     },
     "execution_count": 174,
     "metadata": {},
     "output_type": "execute_result"
    }
   ],
   "source": [
    "torch.log(torch.tensor(0.0000000000001)) + 5"
   ]
  },
  {
   "cell_type": "code",
   "execution_count": 278,
   "metadata": {},
   "outputs": [
    {
     "data": {
      "text/plain": [
       "'1.00000,2.00000,3.00000,,4.00000,4.00000,'"
      ]
     },
     "execution_count": 278,
     "metadata": {},
     "output_type": "execute_result"
    }
   ],
   "source": [
    "','.join(f'{s:.5f}' if s is not None else '' for s in [1,2,3,None,4,4,None])"
   ]
  },
  {
   "cell_type": "code",
   "execution_count": 280,
   "metadata": {},
   "outputs": [],
   "source": [
    "from sklearn.metrics import roc_auc_score\n",
    "import numpy as np"
   ]
  },
  {
   "cell_type": "code",
   "execution_count": 301,
   "metadata": {},
   "outputs": [
    {
     "data": {
      "text/plain": [
       "(array([[0, 0, 1, 0, 1],\n",
       "        [0, 0, 1, 0, 1],\n",
       "        [1, 1, 0, 1, 0],\n",
       "        [1, 0, 0, 1, 0],\n",
       "        [0, 0, 0, 1, 0],\n",
       "        [1, 0, 0, 0, 1],\n",
       "        [0, 1, 1, 1, 1],\n",
       "        [0, 1, 1, 0, 0],\n",
       "        [0, 1, 1, 0, 1],\n",
       "        [1, 0, 1, 1, 1]]),\n",
       " array([[0.13655995, 0.58067257, 0.4758888 , 0.01857358, 0.90228371],\n",
       "        [0.14327247, 0.99197391, 0.37433684, 0.81784944, 0.31000734],\n",
       "        [0.30670386, 0.8831272 , 0.38707029, 0.02805834, 0.20474047],\n",
       "        [0.84755107, 0.20126986, 0.93645088, 0.92002467, 0.4051819 ],\n",
       "        [0.01372999, 0.12910772, 0.59537521, 0.18069637, 0.15656574],\n",
       "        [0.81544862, 0.84454266, 0.81466468, 0.0823764 , 0.10051308],\n",
       "        [0.22296433, 0.64325898, 0.87730709, 0.68973472, 0.94932946],\n",
       "        [0.80919735, 0.68117015, 0.01128755, 0.78992126, 0.42008587],\n",
       "        [0.70502539, 0.19442073, 0.55524255, 0.05112857, 0.47034507],\n",
       "        [0.35802589, 0.86911532, 0.1968217 , 0.58394408, 0.11611865]]))"
      ]
     },
     "execution_count": 301,
     "metadata": {},
     "output_type": "execute_result"
    }
   ],
   "source": [
    "labels = np.random.randint(0, 2, (10, 5))\n",
    "# labels[:, 0] = 0\n",
    "scores = np.random.rand(10, 5)\n",
    "labels, scores"
   ]
  },
  {
   "cell_type": "code",
   "execution_count": 293,
   "metadata": {},
   "outputs": [
    {
     "data": {
      "text/plain": [
       "[[0, 1, 0, 0, 1],\n",
       " [0, 1, 0, 0, 1],\n",
       " [1, 0, 0, 0, 1],\n",
       " [1, 1, 1, 1, 1],\n",
       " [0, 0, 1, 1, 1],\n",
       " [1, 1, 0, 0, 1],\n",
       " [1, 0, 1, 1, 0],\n",
       " [1, 0, 0, 1, 1],\n",
       " [0, 1, 1, 1, 1],\n",
       " [1, 1, 1, 1, 1]]"
      ]
     },
     "execution_count": 293,
     "metadata": {},
     "output_type": "execute_result"
    }
   ],
   "source": [
    "labels.tolist()"
   ]
  },
  {
   "cell_type": "code",
   "execution_count": 302,
   "metadata": {},
   "outputs": [
    {
     "data": {
      "text/plain": [
       "array([0.83333333, 0.5       , 0.20833333, 0.6       , 0.58333333])"
      ]
     },
     "execution_count": 302,
     "metadata": {},
     "output_type": "execute_result"
    }
   ],
   "source": [
    "roc_auc_score(labels.tolist(), scores.tolist(), average=None, )"
   ]
  },
  {
   "cell_type": "code",
   "execution_count": 295,
   "metadata": {},
   "outputs": [],
   "source": [
    "import random"
   ]
  },
  {
   "cell_type": "code",
   "execution_count": 296,
   "metadata": {},
   "outputs": [
    {
     "data": {
      "text/plain": [
       "0.4643210768973631"
      ]
     },
     "execution_count": 296,
     "metadata": {},
     "output_type": "execute_result"
    }
   ],
   "source": [
    "random.random()"
   ]
  },
  {
   "cell_type": "code",
   "execution_count": 310,
   "metadata": {},
   "outputs": [],
   "source": [
    "bce = nn.BCEWithLogitsLoss(reduction='none')"
   ]
  },
  {
   "cell_type": "code",
   "execution_count": 351,
   "metadata": {},
   "outputs": [],
   "source": [
    "_output = torch.randn((20, 6))\n",
    "_target = torch.empty((20, 6)).random_(2)\n",
    "# _output, _target"
   ]
  },
  {
   "cell_type": "code",
   "execution_count": 323,
   "metadata": {},
   "outputs": [
    {
     "data": {
      "text/plain": [
       "tensor([[0.5118, 1.4194, 0.4911, 0.5084, 0.3416, 1.6968],\n",
       "        [1.3920, 0.3531, 0.6241, 2.0380, 1.3193, 0.9906],\n",
       "        [0.7879, 0.4139, 0.3359, 0.7290, 0.6034, 1.2483],\n",
       "        [0.4240, 0.6391, 0.6337, 0.3318, 0.9897, 1.0377],\n",
       "        [0.2391, 1.5802, 0.4641, 0.8932, 0.3398, 0.7600]])"
      ]
     },
     "execution_count": 323,
     "metadata": {},
     "output_type": "execute_result"
    }
   ],
   "source": [
    "loss = bce(_output, _target)\n",
    "loss"
   ]
  },
  {
   "cell_type": "code",
   "execution_count": 336,
   "metadata": {},
   "outputs": [
    {
     "data": {
      "text/plain": [
       "(tensor([3., 1., 2., 1., 5., 3.]),\n",
       " tensor([2., 4., 3., 4., 0., 2.]),\n",
       " tensor([5., 5., 5., 5., 5., 5.]))"
      ]
     },
     "execution_count": 336,
     "metadata": {},
     "output_type": "execute_result"
    }
   ],
   "source": [
    "positive = _target.sum(0)\n",
    "negative = (1 - _target).sum(0)\n",
    "total = positive + negative\n",
    "positive, negative, total"
   ]
  },
  {
   "cell_type": "code",
   "execution_count": 337,
   "metadata": {},
   "outputs": [
    {
     "data": {
      "text/plain": [
       "tensor([0.6000, 0.2000, 0.4000, 0.2000, 1.0000, 0.6000])"
      ]
     },
     "execution_count": 337,
     "metadata": {},
     "output_type": "execute_result"
    }
   ],
   "source": [
    "positive / 5"
   ]
  },
  {
   "cell_type": "code",
   "execution_count": 339,
   "metadata": {},
   "outputs": [
    {
     "data": {
      "text/plain": [
       "(tensor([0.4000, 0.7000, 0.6000, 0.7000, 0.3000, 0.4000]),\n",
       " tensor([0.6000, 0.2000, 0.4000, 0.2000, 1.0000, 0.6000]))"
      ]
     },
     "execution_count": 339,
     "metadata": {},
     "output_type": "execute_result"
    }
   ],
   "source": [
    "BP = (negative / total).clamp_(0.3, 0.7)\n",
    "BN = positive / total\n",
    "BP, BN"
   ]
  },
  {
   "cell_type": "code",
   "execution_count": 340,
   "metadata": {},
   "outputs": [
    {
     "data": {
      "text/plain": [
       "tensor([0.4000, 0.7000, 0.6000, 0.7000, 0.3000, 0.4000])"
      ]
     },
     "execution_count": 340,
     "metadata": {},
     "output_type": "execute_result"
    }
   ],
   "source": [
    "BP.clamp()"
   ]
  },
  {
   "cell_type": "code",
   "execution_count": 338,
   "metadata": {},
   "outputs": [
    {
     "data": {
      "text/plain": [
       "tensor(0.2671)"
      ]
     },
     "execution_count": 338,
     "metadata": {},
     "output_type": "execute_result"
    }
   ],
   "source": [
    "((_target * BP + (1 - _target) * BN) * loss).mean()"
   ]
  },
  {
   "cell_type": "code",
   "execution_count": 328,
   "metadata": {},
   "outputs": [
    {
     "data": {
      "text/plain": [
       "tensor([[0.2047, 0.2839, 0.2947, 0.1017, 0.0000, 0.6787],\n",
       "        [0.5568, 0.0706, 0.2496, 0.4076, 0.0000, 0.3962],\n",
       "        [0.4727, 0.3311, 0.1343, 0.1458, 0.0000, 0.4993],\n",
       "        [0.2544, 0.1278, 0.2535, 0.0664, 0.0000, 0.6226],\n",
       "        [0.0956, 0.3160, 0.2784, 0.7146, 0.0000, 0.4560]])"
      ]
     },
     "execution_count": 328,
     "metadata": {},
     "output_type": "execute_result"
    }
   ],
   "source": [
    "-BP * _target * torch.log(torch.sigmoid(_output)) - BN * (1 - _target) * torch.log(1 - torch.sigmoid(_output))"
   ]
  },
  {
   "cell_type": "code",
   "execution_count": 313,
   "metadata": {
    "scrolled": true
   },
   "outputs": [
    {
     "data": {
      "text/plain": [
       "tensor([1.5144, 0.4718, 0.3493])"
      ]
     },
     "execution_count": 313,
     "metadata": {},
     "output_type": "execute_result"
    }
   ],
   "source": [
    "torch.randn(3)"
   ]
  },
  {
   "cell_type": "code",
   "execution_count": 312,
   "metadata": {},
   "outputs": [
    {
     "data": {
      "text/plain": [
       "tensor([0., 0., 1.])"
      ]
     },
     "execution_count": 312,
     "metadata": {},
     "output_type": "execute_result"
    }
   ],
   "source": [
    "target = torch.empty(3).random_(2)\n",
    "target"
   ]
  },
  {
   "cell_type": "code",
   "execution_count": 366,
   "metadata": {},
   "outputs": [],
   "source": [
    "class WeigthedBCEByClassLoss(nn.Module):\n",
    "    def __init__(self, epsilon=1e-7):\n",
    "        super().__init__()\n",
    "        self.bce = nn.BCEWithLogitsLoss(reduction='none')\n",
    "        self.epsilon = epsilon\n",
    "\n",
    "    def forward(self, output, target):\n",
    "        target = target.float()\n",
    "        not_target = 1 - target\n",
    "        positive = target.sum(0)\n",
    "        negative = not_target.sum(0)\n",
    "        total = target.size(0)\n",
    "        pos_weight = negative / positive.clamp(1, total)\n",
    "        neg_weight = positive / negative.clamp(1, total)\n",
    "        pos_weight.clamp_(1, total * 0.3)\n",
    "        neg_weight.clamp_(1, total * 0.3)\n",
    "        print(pos_weight, neg_weight)\n",
    "        # weight_sum = pos_weight + neg_weight\n",
    "        # pos_weight = pos_weight / weight_sum\n",
    "        # neg_weight = neg_weight / weight_sum\n",
    "        loss = (target * pos_weight + not_target * neg_weight) * self.bce(output, target)\n",
    "        return loss.mean()"
   ]
  },
  {
   "cell_type": "code",
   "execution_count": 367,
   "metadata": {},
   "outputs": [],
   "source": [
    "wbce = WeigthedBCEByClassLoss()"
   ]
  },
  {
   "cell_type": "code",
   "execution_count": 357,
   "metadata": {},
   "outputs": [
    {
     "name": "stdout",
     "output_type": "stream",
     "text": [
      "tensor([1.0000, 1.0000, 1.0000, 1.8571, 1.2222, 2.3333]) tensor([1.2222, 1.2222, 1.8571, 1.0000, 1.0000, 1.0000])\n"
     ]
    },
    {
     "data": {
      "text/plain": [
       "tensor(0.8510)"
      ]
     },
     "execution_count": 357,
     "metadata": {},
     "output_type": "execute_result"
    }
   ],
   "source": [
    "wbce(_output, _target)"
   ]
  },
  {
   "cell_type": "code",
   "execution_count": 368,
   "metadata": {},
   "outputs": [
    {
     "name": "stdout",
     "output_type": "stream",
     "text": [
      "tensor([0.2000, 0.2000, 0.2000, 0.2000, 0.2000, 0.2000]) tensor([0.2000, 0.2000, 0.2000, 0.2000, 0.2000, 0.2000])\n"
     ]
    },
    {
     "data": {
      "text/plain": [
       "tensor(0.1415)"
      ]
     },
     "execution_count": 368,
     "metadata": {},
     "output_type": "execute_result"
    }
   ],
   "source": [
    "wbce(_output, _target)"
   ]
  },
  {
   "cell_type": "code",
   "execution_count": 1,
   "metadata": {},
   "outputs": [],
   "source": [
    "from medvqa.utils.files import load_json_file\n",
    "from medvqa.datasets.mimiccxr import MIMICCXR_CACHE_DIR\n",
    "from medvqa.datasets.iuxray import IUXRAY_CACHE_DIR\n",
    "from medvqa.datasets.tokenizer import Tokenizer\n",
    "\n",
    "import random\n",
    "import os"
   ]
  },
  {
   "cell_type": "code",
   "execution_count": 2,
   "metadata": {},
   "outputs": [],
   "source": [
    "reports = load_json_file(os.path.join(MIMICCXR_CACHE_DIR, 'qa_adapted_reports__20220904_095810.json'))"
   ]
  },
  {
   "cell_type": "code",
   "execution_count": 3,
   "metadata": {},
   "outputs": [],
   "source": [
    "reports_ = load_json_file(os.path.join(IUXRAY_CACHE_DIR, 'qa_adapted_reports__20220904_091601.json'))"
   ]
  },
  {
   "cell_type": "code",
   "execution_count": 4,
   "metadata": {},
   "outputs": [
    {
     "name": "stderr",
     "output_type": "stream",
     "text": [
      "1427203it [00:08, 176284.83it/s]"
     ]
    },
    {
     "name": "stdout",
     "output_type": "stream",
     "text": [
      "Vocabulary saved to /home/pamessina/medvqa-workspace/cache/vocab__min_freq=10__mode=report__from(qa_adapted_reports__20220904_095810.json;qa_adapted_reports__20220904_091601.json).pkl\n"
     ]
    },
    {
     "name": "stderr",
     "output_type": "stream",
     "text": [
      "\n"
     ]
    }
   ],
   "source": [
    "tokenizer = Tokenizer([\n",
    "    os.path.join(MIMICCXR_CACHE_DIR, 'qa_adapted_reports__20220904_095810.json'),\n",
    "    os.path.join(IUXRAY_CACHE_DIR, 'qa_adapted_reports__20220904_091601.json'),\n",
    "], mode='report', min_freq=10, medical_terms_frequency_filename='medical_terms_frequency__20220904_105617.pkl',\n",
    "    overwrite=True)"
   ]
  },
  {
   "cell_type": "code",
   "execution_count": 6,
   "metadata": {},
   "outputs": [
    {
     "data": {
      "text/plain": [
       "4838"
      ]
     },
     "execution_count": 6,
     "metadata": {},
     "output_type": "execute_result"
    }
   ],
   "source": [
    "tokenizer.vocab_size"
   ]
  },
  {
   "cell_type": "code",
   "execution_count": 7,
   "metadata": {},
   "outputs": [
    {
     "data": {
      "text/plain": [
       "{'sentences': ['Heart size is normal',\n",
       "  'There are mild aortic knob calcifications',\n",
       "  'Cardiomediastinal silhouette and hilar contours are otherwise unremarkable',\n",
       "  'Lungs are clear',\n",
       "  'Pleural surfaces are clear without effusion or pneumothorax',\n",
       "  'No acute cardiopulmonary abnormality'],\n",
       " 'invalid': [],\n",
       " 'unmatched': [],\n",
       " 'matched': [0, 1, 2, 3, 4, 5],\n",
       " 'qa': {'48': [0, 5],\n",
       "  '90': [1],\n",
       "  '24': [1],\n",
       "  '75': [2],\n",
       "  '26': [2],\n",
       "  '63': [2],\n",
       "  '59': [3, 5],\n",
       "  '68': [4],\n",
       "  '73': [4]},\n",
       " 'question_ids': [48, 90, 24, 75, 26, 63, 59, 68, 73],\n",
       " 'filepath': '/mnt/data/mimic-cxr/files/p10/p10703179/s58829627.txt',\n",
       " 'background': 'indication: New dyspnea on exertion.'}"
      ]
     },
     "execution_count": 7,
     "metadata": {},
     "output_type": "execute_result"
    }
   ],
   "source": [
    "reports['reports'][0]"
   ]
  },
  {
   "cell_type": "code",
   "execution_count": 12,
   "metadata": {},
   "outputs": [
    {
     "name": "stdout",
     "output_type": "stream",
     "text": [
      "{'sentences': ['Single frontal view of the chest', 'The lungs are clear without focal consolidation', 'No pleural effusion or pneumothorax is seen', 'The cardiac and mediastinal silhouettes are stable', 'No acute cardiopulmonary process'], 'invalid': [], 'unmatched': [0], 'matched': [1, 2, 3, 4], 'qa': {'59': [1, 4], '32': [1], '68': [2], '73': [2], '26': [3], '63': [3], '48': [4]}, 'question_ids': [59, 32, 68, 73, 26, 63, 48], 'filepath': '/mnt/data/mimic-cxr/files/p11/p11172653/s57202012.txt', 'background': 'indication: History: F with Lower GI bleed // Eval for infiltrate.'}\n",
      "\n",
      "Single frontal view of the chest. The lungs are clear without focal consolidation. No pleural effusion or pneumothorax is seen. The cardiac and mediastinal silhouettes are stable. No acute cardiopulmonary process\n",
      "\n",
      "<s> lungs clear no focal consolidation . no pleural effusion pneumothorax . cardiac mediastinal silhouette stable . no cardiopulmonary process </s>\n"
     ]
    }
   ],
   "source": [
    "x = random.choice(reports['reports'])\n",
    "r_raw = '. '.join(x['sentences'])\n",
    "r = '. '.join(x['sentences'][i] for i in x['matched'])\n",
    "# r, tokenizer.ids2string(tokenizer.string2ids(r))\n",
    "print(x)\n",
    "print()\n",
    "print(r_raw)\n",
    "print()\n",
    "print(tokenizer.ids2string(tokenizer.tokenize(r)))"
   ]
  },
  {
   "cell_type": "code",
   "execution_count": 32,
   "metadata": {},
   "outputs": [
    {
     "data": {
      "text/plain": [
       "55"
      ]
     },
     "execution_count": 32,
     "metadata": {},
     "output_type": "execute_result"
    }
   ],
   "source": [
    "tokenizer.token2id[':']"
   ]
  },
  {
   "cell_type": "code",
   "execution_count": 26,
   "metadata": {},
   "outputs": [],
   "source": [
    "from nltk import wordpunct_tokenize"
   ]
  },
  {
   "cell_type": "code",
   "execution_count": 13,
   "metadata": {},
   "outputs": [],
   "source": [
    "# wordpunct_tokenize('Comparison is made to radiograph dated .. lateral chest radiographs were obtained. Previously suspected small right pneumothorax along the right costophrenic angle has resolved , or may have been artifactual on the prior study. There is no new pneumothorax identified. Lungs are clear bilaterally with no focal consolidation. Cardiomediastinal and hilar contours are normal. There is no pleural effusion. Osseous structures are without an acute abnormality. Resolution of prior small right pneumothorax. No acute intrathoracic abnormality is detected')"
   ]
  },
  {
   "cell_type": "code",
   "execution_count": 85,
   "metadata": {},
   "outputs": [
    {
     "data": {
      "text/plain": [
       "[1, 2]"
      ]
     },
     "execution_count": 85,
     "metadata": {},
     "output_type": "execute_result"
    }
   ],
   "source": [
    "tokenizer.tokenize(\"\")"
   ]
  },
  {
   "cell_type": "code",
   "execution_count": 73,
   "metadata": {},
   "outputs": [],
   "source": [
    "import torch"
   ]
  },
  {
   "cell_type": "code",
   "execution_count": 74,
   "metadata": {},
   "outputs": [],
   "source": [
    "tmp = torch.nn.parameter.Parameter(torch.Tensor(14, 10))"
   ]
  },
  {
   "cell_type": "code",
   "execution_count": 76,
   "metadata": {},
   "outputs": [],
   "source": [
    "batch = torch.rand(5, 14)"
   ]
  },
  {
   "cell_type": "code",
   "execution_count": 84,
   "metadata": {},
   "outputs": [
    {
     "data": {
      "text/plain": [
       "torch.Size([5, 10])"
      ]
     },
     "execution_count": 84,
     "metadata": {},
     "output_type": "execute_result"
    }
   ],
   "source": [
    "torch.matmul(batch, tmp).shape"
   ]
  },
  {
   "cell_type": "code",
   "execution_count": 23,
   "metadata": {},
   "outputs": [
    {
     "data": {
      "text/plain": [
       "{'sentences': ['Frontal and lateral views of the chest are compared to prior from',\n",
       "  'There is diffuse increased interstitial markings in the lungs , most notably at the bases',\n",
       "  'There is no large confluent consolidation',\n",
       "  'Cardiac silhouette is enlarged , stable in configuration',\n",
       "  'Degenerative changes and potentially post-traumatic changes identified at the left glenohumeral joint',\n",
       "  'Hypertrophic changes are seen in the spine',\n",
       "  'Increased interstitial markings in the lungs bilaterally , slightly more so',\n",
       "  \"This is compatible with patient's underlying chronic lung disease , component of infection or pulmonary edema is not completely excluded\"],\n",
       " 'invalid': [],\n",
       " 'unmatched': [0],\n",
       " 'matched': [1, 2, 3, 4, 5, 6, 7],\n",
       " 'qa': {'59': [1, 6],\n",
       "  '52': [1, 6],\n",
       "  '61': [1, 6],\n",
       "  '32': [2],\n",
       "  '26': [3],\n",
       "  '16': [4, 5],\n",
       "  '94': [4],\n",
       "  '36': [7],\n",
       "  '50': [7]},\n",
       " 'question_ids': [59, 52, 61, 32, 26, 16, 94, 36, 50],\n",
       " 'filepath': '/mnt/data/mimic-cxr/files/p10/p10083833/s59766637.txt',\n",
       " 'background': 'history: -year-old male with chest pain. Question pneumonia or CHF. History of NSIP.'}"
      ]
     },
     "execution_count": 23,
     "metadata": {},
     "output_type": "execute_result"
    }
   ],
   "source": [
    "reports['reports'][20]"
   ]
  },
  {
   "cell_type": "code",
   "execution_count": 27,
   "metadata": {},
   "outputs": [
    {
     "data": {
      "text/plain": [
       "['lungs?',\n",
       " 'interstitial lung disease?',\n",
       " 'markings?',\n",
       " 'consolidation?',\n",
       " 'cardiac silhouette?',\n",
       " 'bones?',\n",
       " 'trauma?',\n",
       " 'edema?',\n",
       " 'infection?']"
      ]
     },
     "execution_count": 27,
     "metadata": {},
     "output_type": "execute_result"
    }
   ],
   "source": [
    "[reports['questions'][x] for x in reports['reports'][20]['question_ids']]"
   ]
  },
  {
   "cell_type": "code",
   "execution_count": 16,
   "metadata": {},
   "outputs": [],
   "source": [
    "from IPython.display import Image"
   ]
  },
  {
   "cell_type": "code",
   "execution_count": 26,
   "metadata": {},
   "outputs": [
    {
     "data": {
      "image/jpeg": "[encoded data removed]",
      "text/plain": [
       "<IPython.core.display.Image object>"
      ]
     },
     "execution_count": 26,
     "metadata": {},
     "output_type": "execute_result"
    }
   ],
   "source": [
    "Image('/mnt/data/mimic-cxr-jpg/images-small/p10/p10083833/s59766637/8ad4512f-06c0b241-ef2e1e18-708c89ac-37ad8160.jpg')"
   ]
  }
 ],
 "metadata": {
  "kernelspec": {
   "display_name": "Python 3",
   "language": "python",
   "name": "python3"
  },
  "language_info": {
   "codemirror_mode": {
    "name": "ipython",
    "version": 3
   },
   "file_extension": ".py",
   "mimetype": "text/x-python",
   "name": "python",
   "nbconvert_exporter": "python",
   "pygments_lexer": "ipython3",
   "version": "3.6.9"
  }
 },
 "nbformat": 4,
 "nbformat_minor": 4
}
