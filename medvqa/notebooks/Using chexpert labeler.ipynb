{
 "cells": [
  {
   "cell_type": "code",
   "execution_count": 31,
   "metadata": {},
   "outputs": [],
   "source": [
    "import subprocess\n",
    "import os\n",
    "import pandas as pd"
   ]
  },
  {
   "cell_type": "code",
   "execution_count": 3,
   "metadata": {},
   "outputs": [],
   "source": [
    "CHEXPERT_FOLDER = '~/chexpert/chexpert-labeler'"
   ]
  },
  {
   "cell_type": "code",
   "execution_count": 4,
   "metadata": {},
   "outputs": [],
   "source": [
    "CHEXPERT_PYTHON = '~/miniconda3/envs/chexpert-label/bin/python'"
   ]
  },
  {
   "cell_type": "code",
   "execution_count": 5,
   "metadata": {},
   "outputs": [],
   "source": [
    "TMP_FOLDER = '~/medvqa-workspace/tmp'"
   ]
  },
  {
   "cell_type": "code",
   "execution_count": 26,
   "metadata": {},
   "outputs": [],
   "source": [
    "NEGBIO_PATH = '/home/pamessina/chexpert/NegBio'"
   ]
  },
  {
   "cell_type": "code",
   "execution_count": 27,
   "metadata": {},
   "outputs": [],
   "source": [
    "def _get_custom_env():\n",
    "    custom_env = os.environ.copy()\n",
    "    prev = custom_env.get('PYTHONPATH', '')\n",
    "    custom_env['PYTHONPATH'] = f'{NEGBIO_PATH}:{prev}'\n",
    "    return custom_env"
   ]
  },
  {
   "cell_type": "code",
   "execution_count": 30,
   "metadata": {},
   "outputs": [
    {
     "data": {
      "text/plain": [
       "CompletedProcess(args='cd ~/chexpert/chexpert-labeler && ~/miniconda3/envs/chexpert-label/bin/python label.py --reports_path ~/medvqa-workspace/tmp/reports-input.csv --output_path ~/medvqa-workspace/tmp/reports-output.csv', returncode=0, stdout=b'', stderr=b'')"
      ]
     },
     "execution_count": 30,
     "metadata": {},
     "output_type": "execute_result"
    }
   ],
   "source": [
    "input_path = os.path.join(TMP_FOLDER, 'reports-input.csv')\n",
    "output_path = os.path.join(TMP_FOLDER, 'reports-output.csv')\n",
    "cmd_cd = f'cd {CHEXPERT_FOLDER}'\n",
    "cmd_call = f'{CHEXPERT_PYTHON} label.py --reports_path {input_path} --output_path {output_path}'\n",
    "cmd = f'{cmd_cd} && {cmd_call}'\n",
    "\n",
    "subprocess.run(\n",
    "    cmd, shell=True, check=True,\n",
    "    stdout=subprocess.PIPE, stderr=subprocess.PIPE,\n",
    "    env=_get_custom_env(),\n",
    ")"
   ]
  },
  {
   "cell_type": "code",
   "execution_count": 14,
   "metadata": {},
   "outputs": [
    {
     "name": "stdout",
     "output_type": "stream",
     "text": [
      "no free air below the right hemidiaphragm is seen\r\n",
      "however , other radiopaque fluid , such as fluid , , , be filling the airspace in this region\r\n",
      "there is no free air under the hemidiaphragms . low lung volumes but no acute process and no evidence of free peritoneal air .\r\n"
     ]
    }
   ],
   "source": [
    "!head /home/pamessina/medvqa-workspace/tmp/reports-input.csv"
   ]
  },
  {
   "cell_type": "code",
   "execution_count": 33,
   "metadata": {},
   "outputs": [
    {
     "data": {
      "text/plain": [
       "3"
      ]
     },
     "execution_count": 33,
     "metadata": {},
     "output_type": "execute_result"
    }
   ],
   "source": [
    "len(pd.DataFrame(['asdfasdf', 'asdfasdfasdf', 'asdfasdf']))"
   ]
  }
 ],
 "metadata": {
  "kernelspec": {
   "display_name": "Python 3",
   "language": "python",
   "name": "python3"
  },
  "language_info": {
   "codemirror_mode": {
    "name": "ipython",
    "version": 3
   },
   "file_extension": ".py",
   "mimetype": "text/x-python",
   "name": "python",
   "nbconvert_exporter": "python",
   "pygments_lexer": "ipython3",
   "version": "3.6.9"
  }
 },
 "nbformat": 4,
 "nbformat_minor": 4
}
