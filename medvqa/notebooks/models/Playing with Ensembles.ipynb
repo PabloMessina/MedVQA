{
 "cells": [
  {
   "cell_type": "code",
   "execution_count": 1,
   "id": "3adcdc1a",
   "metadata": {},
   "outputs": [],
   "source": [
    "from importlib import reload\n",
    "import medvqa"
   ]
  },
  {
   "cell_type": "code",
   "execution_count": 20,
   "id": "0e05b4cc",
   "metadata": {},
   "outputs": [
    {
     "data": {
      "text/plain": [
       "<module 'medvqa.models.ensemble.multilabel_ensemble_search' from '/home/pamessina/medvqa/medvqa/models/ensemble/multilabel_ensemble_search.py'>"
      ]
     },
     "execution_count": 20,
     "metadata": {},
     "output_type": "execute_result"
    }
   ],
   "source": [
    "reload(medvqa.models.ensemble.multilabel_ensemble_search)"
   ]
  },
  {
   "cell_type": "code",
   "execution_count": 2,
   "id": "c8ae34d3",
   "metadata": {},
   "outputs": [],
   "source": [
    "import numpy as np\n",
    "from medvqa.models.ensemble import MultilabelOptimalEnsembleSearcher"
   ]
  },
  {
   "cell_type": "code",
   "execution_count": 3,
   "id": "3c421257",
   "metadata": {},
   "outputs": [],
   "source": [
    "k = 4\n",
    "n = 10\n",
    "m = 5\n",
    "probs = np.random.rand(k, n, m)\n",
    "gt = np.random.randint(0, 2, (n, m))"
   ]
  },
  {
   "cell_type": "code",
   "execution_count": 4,
   "id": "d46c2ea1",
   "metadata": {},
   "outputs": [
    {
     "data": {
      "text/plain": [
       "((4, 10, 5), (10, 5))"
      ]
     },
     "execution_count": 4,
     "metadata": {},
     "output_type": "execute_result"
    }
   ],
   "source": [
    "probs.shape, gt.shape"
   ]
  },
  {
   "cell_type": "code",
   "execution_count": 5,
   "id": "bce8ca6c",
   "metadata": {},
   "outputs": [
    {
     "data": {
      "text/plain": [
       "array([[1, 0, 0, 1, 0],\n",
       "       [0, 0, 1, 0, 0],\n",
       "       [0, 0, 0, 1, 1],\n",
       "       [0, 0, 1, 0, 0],\n",
       "       [1, 0, 1, 1, 1],\n",
       "       [1, 1, 0, 0, 1],\n",
       "       [0, 1, 0, 0, 1],\n",
       "       [0, 0, 1, 1, 1],\n",
       "       [1, 0, 1, 0, 1],\n",
       "       [0, 0, 1, 1, 1]])"
      ]
     },
     "execution_count": 5,
     "metadata": {},
     "output_type": "execute_result"
    }
   ],
   "source": [
    "gt"
   ]
  },
  {
   "cell_type": "code",
   "execution_count": 11,
   "id": "045efe22",
   "metadata": {},
   "outputs": [],
   "source": [
    "mloes = MultilabelOptimalEnsembleSearcher(probs, gt, score_name='prc_auc')"
   ]
  },
  {
   "cell_type": "code",
   "execution_count": 13,
   "id": "81abe6e0",
   "metadata": {},
   "outputs": [
    {
     "name": "stdout",
     "output_type": "stream",
     "text": [
      "Trying basic weight heuristics...\n",
      "  1) Try each model alone\n"
     ]
    },
    {
     "name": "stderr",
     "output_type": "stream",
     "text": [
      "100%|████████████████████████████████████████████████████████████████████████████████████| 4/4 [00:00<00:00, 291.14it/s]\n"
     ]
    },
    {
     "name": "stdout",
     "output_type": "stream",
     "text": [
      "  2) Try pairs of models\n"
     ]
    },
    {
     "name": "stderr",
     "output_type": "stream",
     "text": [
      "100%|████████████████████████████████████████████████████████████████████████████████████| 6/6 [00:00<00:00, 330.08it/s]"
     ]
    },
    {
     "name": "stdout",
     "output_type": "stream",
     "text": [
      "  3) Try the average of all models\n",
      "  Done\n"
     ]
    },
    {
     "name": "stderr",
     "output_type": "stream",
     "text": [
      "\n"
     ]
    }
   ],
   "source": [
    "mloes.try_basic_weight_heuristics()"
   ]
  },
  {
   "cell_type": "code",
   "execution_count": 14,
   "id": "a7143915",
   "metadata": {},
   "outputs": [
    {
     "name": "stdout",
     "output_type": "stream",
     "text": [
      "\u001b[34mscore=0.5569653250188964\u001b[0m\n"
     ]
    },
    {
     "data": {
      "text/plain": [
       "0.5569653250188964"
      ]
     },
     "execution_count": 14,
     "metadata": {},
     "output_type": "execute_result"
    }
   ],
   "source": [
    "mloes.evaluate_best_predictions()"
   ]
  },
  {
   "cell_type": "code",
   "execution_count": 15,
   "id": "4c0afb1e",
   "metadata": {},
   "outputs": [
    {
     "name": "stderr",
     "output_type": "stream",
     "text": [
      "100%|████████████████████████████████████████████████████████████████████████████████| 100/100 [00:00<00:00, 422.40it/s]\n"
     ]
    }
   ],
   "source": [
    "mloes.sample_weights(100)"
   ]
  },
  {
   "cell_type": "code",
   "execution_count": 16,
   "id": "bf146c60",
   "metadata": {},
   "outputs": [
    {
     "name": "stderr",
     "output_type": "stream",
     "text": [
      "100%|████████████████████████████████████████████████████████████████████████████████| 100/100 [00:00<00:00, 331.91it/s]\n"
     ]
    }
   ],
   "source": [
    "mloes.sample_weights_from_previous_ones(100)"
   ]
  },
  {
   "cell_type": "code",
   "execution_count": 17,
   "id": "1177f057",
   "metadata": {},
   "outputs": [
    {
     "name": "stdout",
     "output_type": "stream",
     "text": [
      "\u001b[34mscore=0.5689990551776265\u001b[0m\n"
     ]
    },
    {
     "data": {
      "text/plain": [
       "0.5689990551776265"
      ]
     },
     "execution_count": 17,
     "metadata": {},
     "output_type": "execute_result"
    }
   ],
   "source": [
    "mloes.evaluate_best_predictions()"
   ]
  },
  {
   "cell_type": "code",
   "execution_count": 21,
   "id": "7a15b878",
   "metadata": {},
   "outputs": [
    {
     "data": {
      "text/plain": [
       "(array([[0.14379834, 0.26243938, 0.76658406, 0.79135398],\n",
       "        [0.20708627, 0.88920296, 0.45012919, 0.03209512],\n",
       "        [0.67813027, 0.46265779, 0.91703017, 0.34301678],\n",
       "        [0.20183022, 0.71330381, 0.06806284, 0.22237544],\n",
       "        [0.41513064, 0.58478495, 0.74702036, 0.37799092],\n",
       "        [0.74269982, 0.53022088, 0.15216235, 0.49835152],\n",
       "        [0.38217506, 0.38718614, 0.85134016, 0.98693191],\n",
       "        [0.51776825, 0.43410479, 0.81180903, 0.66853343],\n",
       "        [0.05370033, 0.04599556, 0.05297401, 0.33564935],\n",
       "        [0.10626623, 0.97262455, 0.87907408, 0.35905688]]),\n",
       " array([1, 0, 0, 0, 1, 1, 0, 0, 1, 0]))"
      ]
     },
     "execution_count": 21,
     "metadata": {},
     "output_type": "execute_result"
    }
   ],
   "source": [
    "P = probs.transpose(2, 1, 0)[0]\n",
    "G = gt.transpose(1, 0)[0]\n",
    "P, G"
   ]
  },
  {
   "cell_type": "code",
   "execution_count": 24,
   "id": "dd975809",
   "metadata": {},
   "outputs": [],
   "source": [
    "import numpy as np\n",
    "from sklearn.metrics import precision_recall_curve, auc\n",
    "from scipy.optimize import minimize\n",
    "\n",
    "# Assume P is your MxN matrix of probabilities\n",
    "# Assume G is your ground-truth label vector of size N\n",
    "M = 5\n",
    "N = 10\n",
    "P = np.random.rand(M, N)\n",
    "G = np.random.randint(0, 2, N)\n",
    "\n",
    "def weighted_average_ensemble(weights, P):\n",
    "    # weights is a vector of size M\n",
    "    # P is a matrix of size MxN\n",
    "    return np.average(P, axis=0, weights=weights)\n",
    "\n",
    "def prc_auc_score(weights, P, G):\n",
    "    # Get the weighted average predictions\n",
    "    ensemble_preds = weighted_average_ensemble(weights, P)\n",
    "    # Calculate precision-recall curve\n",
    "    precision, recall, _ = precision_recall_curve(G, ensemble_preds)\n",
    "    # Calculate AUC\n",
    "    return -auc(recall, precision)  # Negative because we minimize in optimization\n",
    "\n",
    "# Initial weights (equal weights)\n",
    "initial_weights = np.ones(P.shape[0]) / P.shape[0]\n",
    "\n",
    "# Constraints: weights should sum to 1\n",
    "constraints = ({'type': 'eq', 'fun': lambda w: 1 - sum(w)})\n",
    "\n",
    "# Bounds: weights should be between 0 and 1\n",
    "bounds = [(0, 1) for _ in range(P.shape[0])]\n",
    "\n",
    "# Optimization\n",
    "result = minimize(prc_auc_score, initial_weights, args=(P, G), method='SLSQP', bounds=bounds, constraints=constraints)\n",
    "\n",
    "# Optimal weights\n",
    "optimal_weights = result.x\n",
    "\n",
    "# Ensemble predictions using optimal weights\n",
    "ensemble_predictions = weighted_average_ensemble(optimal_weights, P)"
   ]
  },
  {
   "cell_type": "code",
   "execution_count": 29,
   "id": "5b68ed3c",
   "metadata": {},
   "outputs": [
    {
     "data": {
      "text/plain": [
       "(array([[0.47827167, 0.59811935, 0.86960844, 0.24509691, 0.58580935,\n",
       "         0.843191  , 0.45777964, 0.97483341, 0.72187809, 0.54398505],\n",
       "        [0.88490294, 0.49918815, 0.52818815, 0.56698574, 0.49010634,\n",
       "         0.4057819 , 0.35461876, 0.07430059, 0.31466248, 0.423951  ],\n",
       "        [0.0851603 , 0.81548073, 0.99937688, 0.25524354, 0.07929188,\n",
       "         0.09721713, 0.47920024, 0.68515235, 0.85483686, 0.98815449],\n",
       "        [0.80357453, 0.63788271, 0.57995352, 0.16103289, 0.69228241,\n",
       "         0.75792728, 0.23938673, 0.70676791, 0.7750239 , 0.57492023],\n",
       "        [0.77281565, 0.30924471, 0.61881496, 0.96483308, 0.91492042,\n",
       "         0.72214136, 0.52489136, 0.64917116, 0.06701547, 0.38123213]]),\n",
       " array([0.60494502, 0.57198313, 0.71918839, 0.43863843, 0.55248208,\n",
       "        0.56525173, 0.41117534, 0.61804509, 0.54668336, 0.58244858]),\n",
       " array([0.2, 0.2, 0.2, 0.2, 0.2]))"
      ]
     },
     "execution_count": 29,
     "metadata": {},
     "output_type": "execute_result"
    }
   ],
   "source": [
    "P, ensemble_predictions, optimal_weights"
   ]
  },
  {
   "cell_type": "code",
   "execution_count": 31,
   "id": "1689c897",
   "metadata": {},
   "outputs": [
    {
     "data": {
      "text/plain": [
       "((5, 10), (10,))"
      ]
     },
     "execution_count": 31,
     "metadata": {},
     "output_type": "execute_result"
    }
   ],
   "source": [
    "P.shape, G.shape"
   ]
  },
  {
   "cell_type": "code",
   "execution_count": 41,
   "id": "e83b78b0",
   "metadata": {},
   "outputs": [],
   "source": [
    "from sklearn.linear_model import LogisticRegression\n",
    "\n",
    "meta_model = LogisticRegression()\n",
    "meta_model.fit(P.T, G)\n",
    "meta_predictions = meta_model.predict_proba(P.T)[:, 1]"
   ]
  },
  {
   "cell_type": "code",
   "execution_count": 43,
   "id": "4c7cefda",
   "metadata": {},
   "outputs": [],
   "source": [
    "precision, recall, _ = precision_recall_curve(G, meta_predictions)\n",
    "prc_auc = auc(recall, precision)"
   ]
  },
  {
   "cell_type": "code",
   "execution_count": 47,
   "id": "7a25a060",
   "metadata": {},
   "outputs": [
    {
     "data": {
      "text/plain": [
       "array([[ 0.58731864, -0.33928372,  0.83438047,  0.38039845, -0.53600753]])"
      ]
     },
     "execution_count": 47,
     "metadata": {},
     "output_type": "execute_result"
    }
   ],
   "source": [
    "meta_model.coef_"
   ]
  },
  {
   "cell_type": "code",
   "execution_count": 48,
   "id": "6bac63e9",
   "metadata": {},
   "outputs": [
    {
     "data": {
      "text/plain": [
       "array([-0.13903571])"
      ]
     },
     "execution_count": 48,
     "metadata": {},
     "output_type": "execute_result"
    }
   ],
   "source": [
    "meta_model.intercept_"
   ]
  },
  {
   "cell_type": "code",
   "execution_count": 44,
   "id": "085adb30",
   "metadata": {},
   "outputs": [
    {
     "data": {
      "text/plain": [
       "0.9742063492063491"
      ]
     },
     "execution_count": 44,
     "metadata": {},
     "output_type": "execute_result"
    }
   ],
   "source": [
    "prc_auc"
   ]
  }
 ],
 "metadata": {
  "kernelspec": {
   "display_name": "venv2",
   "language": "python",
   "name": "venv2"
  },
  "language_info": {
   "codemirror_mode": {
    "name": "ipython",
    "version": 3
   },
   "file_extension": ".py",
   "mimetype": "text/x-python",
   "name": "python",
   "nbconvert_exporter": "python",
   "pygments_lexer": "ipython3",
   "version": "3.10.10"
  }
 },
 "nbformat": 4,
 "nbformat_minor": 5
}
