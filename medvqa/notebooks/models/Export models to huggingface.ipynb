{
 "cells": [
  {
   "cell_type": "markdown",
   "id": "79c9bbb1",
   "metadata": {},
   "source": [
    "## CXRFE (Chest X-ray Fact Encoder)"
   ]
  },
  {
   "cell_type": "code",
   "execution_count": 10,
   "id": "67385a1f",
   "metadata": {},
   "outputs": [],
   "source": [
    "from medvqa.models.huggingface_utils import _adapt_checkpoint_keys\n",
    "from medvqa.models.checkpoint import load_model_state_dict, get_checkpoint_filepath\n",
    "from transformers import AutoTokenizer, AutoModel\n",
    "import torch"
   ]
  },
  {
   "cell_type": "code",
   "execution_count": 19,
   "id": "16b58cc0",
   "metadata": {},
   "outputs": [
    {
     "name": "stdout",
     "output_type": "stream",
     "text": [
      "checkpoint_names = ['checkpoint_196_cacc+chf1+chf1+cscc+encc+hscc+nlcc+sass+spss+ta0)+ta1)+ta2)+ta0)+ta1)+ta2)+ta3)+ta4)+ta5)+ta6)+ta7)=0.9189.pt']\n",
      "\u001b[93mWarning: model state dict has 210 keys, loaded state dict has 257 keys, intersection has 210 keys, union has 257 keys.\u001b[0m\n",
      "\u001b[93mExamples of keys in loaded state dict but not in model:\u001b[0m\n",
      "\u001b[93m  fact_decoder.start_idx\u001b[0m\n",
      "\u001b[93m  spert_rel_classifier.bias\u001b[0m\n",
      "\u001b[93m  fact_decoder.decoder.layers.0.linear2.weight\u001b[0m\n",
      "\u001b[93m  fact_decoder.decoder.layers.0.linear2.bias\u001b[0m\n",
      "\u001b[93m  fact_decoder.W_vocab.bias\u001b[0m\n",
      "\u001b[93m  chest_imagenome_anatloc_classifier.bias\u001b[0m\n",
      "\u001b[93m  fact_decoder.pos_encoder.pe\u001b[0m\n",
      "\u001b[93m  fact_decoder.decoder.layers.0.multihead_attn.in_proj_weight\u001b[0m\n",
      "\u001b[93m  comparison_status_classifier.bias\u001b[0m\n",
      "\u001b[93m  category_classifier.weight\u001b[0m\n"
     ]
    }
   ],
   "source": [
    "model_checkpoint_folder_path = '/mnt/data/pamessina/workspaces/medvqa-workspace/models/fact_embedding/20240629_084405_MIMIC-CXR(triplets+classif+entcont+nli+radgraph+autoencoder)_FactEncoder(microsoft-BiomedVLP-CXR-BERT-specialized)'\n",
    "model = AutoModel.from_pretrained('microsoft/BiomedVLP-CXR-BERT-specialized', revision=\"6cfc310817fb7d86762d888ced1e3709c57ac578\", trust_remote_code=True)\n",
    "model_checkpoint_filepath = get_checkpoint_filepath(model_checkpoint_folder_path)\n",
    "checkpoint = torch.load(model_checkpoint_filepath)\n",
    "load_model_state_dict(model, _adapt_checkpoint_keys(checkpoint['model']), strict=False)"
   ]
  },
  {
   "cell_type": "code",
   "execution_count": 20,
   "id": "b61a55f9",
   "metadata": {},
   "outputs": [
    {
     "data": {
      "text/plain": [
       "CXRBertConfig {\n",
       "  \"_name_or_path\": \"microsoft/BiomedVLP-CXR-BERT-specialized\",\n",
       "  \"architectures\": [\n",
       "    \"CXRBertModel\"\n",
       "  ],\n",
       "  \"attention_probs_dropout_prob\": 0.25,\n",
       "  \"auto_map\": {\n",
       "    \"AutoConfig\": \"microsoft/BiomedVLP-CXR-BERT-specialized--configuration_cxrbert.CXRBertConfig\",\n",
       "    \"AutoModel\": \"microsoft/BiomedVLP-CXR-BERT-specialized--modeling_cxrbert.CXRBertModel\"\n",
       "  },\n",
       "  \"classifier_dropout\": null,\n",
       "  \"gradient_checkpointing\": false,\n",
       "  \"hidden_act\": \"gelu\",\n",
       "  \"hidden_dropout_prob\": 0.25,\n",
       "  \"hidden_size\": 768,\n",
       "  \"initializer_range\": 0.02,\n",
       "  \"intermediate_size\": 3072,\n",
       "  \"layer_norm_eps\": 1e-12,\n",
       "  \"max_position_embeddings\": 512,\n",
       "  \"model_type\": \"cxr-bert\",\n",
       "  \"num_attention_heads\": 12,\n",
       "  \"num_hidden_layers\": 12,\n",
       "  \"pad_token_id\": 0,\n",
       "  \"position_embedding_type\": \"absolute\",\n",
       "  \"projection_size\": 128,\n",
       "  \"torch_dtype\": \"float32\",\n",
       "  \"transformers_version\": \"4.41.2\",\n",
       "  \"type_vocab_size\": 2,\n",
       "  \"use_cache\": true,\n",
       "  \"vocab_size\": 30522\n",
       "}"
      ]
     },
     "execution_count": 20,
     "metadata": {},
     "output_type": "execute_result"
    }
   ],
   "source": [
    "model.config"
   ]
  },
  {
   "cell_type": "code",
   "execution_count": 22,
   "id": "d4841b23",
   "metadata": {},
   "outputs": [],
   "source": [
    "model.save_pretrained(\"/home/pamessina/huggingface_models/CXRFE_debug/\", revision=\"refs/pr/5\")"
   ]
  },
  {
   "cell_type": "code",
   "execution_count": 13,
   "id": "3f21f67b",
   "metadata": {},
   "outputs": [
    {
     "data": {
      "text/plain": [
       "('/home/pamessina/huggingface_models/CXRFE/tokenizer_config.json',\n",
       " '/home/pamessina/huggingface_models/CXRFE/special_tokens_map.json',\n",
       " '/home/pamessina/huggingface_models/CXRFE/vocab.txt',\n",
       " '/home/pamessina/huggingface_models/CXRFE/added_tokens.json')"
      ]
     },
     "execution_count": 13,
     "metadata": {},
     "output_type": "execute_result"
    }
   ],
   "source": [
    "tokenizer = AutoTokenizer.from_pretrained('microsoft/BiomedVLP-CXR-BERT-specialized', revision=\"refs/pr/5\", trust_remote_code=True)\n",
    "tokenizer.save_pretrained(\"/home/pamessina/huggingface_models/CXRFE_test/\")"
   ]
  },
  {
   "cell_type": "markdown",
   "id": "5e516d10",
   "metadata": {},
   "source": [
    "## T5 Fact Extractor"
   ]
  },
  {
   "cell_type": "code",
   "execution_count": 5,
   "id": "e114cb15",
   "metadata": {},
   "outputs": [],
   "source": [
    "from transformers import T5ForConditionalGeneration\n",
    "from transformers import T5TokenizerFast"
   ]
  },
  {
   "cell_type": "code",
   "execution_count": 6,
   "id": "eb82ee74",
   "metadata": {},
   "outputs": [
    {
     "name": "stdout",
     "output_type": "stream",
     "text": [
      "checkpoint_names = ['checkpoint_25_s2s_loss=0.9127.pt']\n"
     ]
    }
   ],
   "source": [
    "model = T5ForConditionalGeneration.from_pretrained('t5-small')\n",
    "model_checkpoint_folder_path = '/mnt/data/pamessina/workspaces/medvqa-workspace/models/seq2seq/20240320_195545_sentence2facts(S2F)_Seq2Seq(t5-small)/'\n",
    "model_checkpoint_filepath = get_checkpoint_filepath(model_checkpoint_folder_path)\n",
    "checkpoint = torch.load(model_checkpoint_filepath)\n",
    "load_model_state_dict(model, _adapt_checkpoint_keys(checkpoint['model']), strict=False)"
   ]
  },
  {
   "cell_type": "code",
   "execution_count": 7,
   "id": "1be985ca",
   "metadata": {},
   "outputs": [],
   "source": [
    "model.save_pretrained(\"/home/pamessina/huggingface_models/T5FactExtractor/\")"
   ]
  },
  {
   "cell_type": "code",
   "execution_count": 9,
   "id": "cc9a8554",
   "metadata": {},
   "outputs": [
    {
     "data": {
      "text/plain": [
       "('/home/pamessina/huggingface_models/T5FactExtractor/tokenizer_config.json',\n",
       " '/home/pamessina/huggingface_models/T5FactExtractor/special_tokens_map.json',\n",
       " '/home/pamessina/huggingface_models/T5FactExtractor/spiece.model',\n",
       " '/home/pamessina/huggingface_models/T5FactExtractor/added_tokens.json',\n",
       " '/home/pamessina/huggingface_models/T5FactExtractor/tokenizer.json')"
      ]
     },
     "execution_count": 9,
     "metadata": {},
     "output_type": "execute_result"
    }
   ],
   "source": [
    "tokenizer = T5TokenizerFast.from_pretrained('t5-small')\n",
    "tokenizer.save_pretrained(\"/home/pamessina/huggingface_models/T5FactExtractor/\")"
   ]
  }
 ],
 "metadata": {
  "kernelspec": {
   "display_name": "venv2",
   "language": "python",
   "name": "venv2"
  },
  "language_info": {
   "codemirror_mode": {
    "name": "ipython",
    "version": 3
   },
   "file_extension": ".py",
   "mimetype": "text/x-python",
   "name": "python",
   "nbconvert_exporter": "python",
   "pygments_lexer": "ipython3",
   "version": "3.10.10"
  }
 },
 "nbformat": 4,
 "nbformat_minor": 5
}
