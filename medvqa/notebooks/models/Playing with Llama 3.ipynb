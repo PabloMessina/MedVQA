{
 "cells": [
  {
   "cell_type": "code",
   "execution_count": 1,
   "id": "05ef6fe8",
   "metadata": {},
   "outputs": [
    {
     "name": "stdout",
     "output_type": "stream",
     "text": [
      "env: CUDA_VISIBLE_DIVICES=0\n"
     ]
    }
   ],
   "source": [
    "%env CUDA_VISIBLE_DIVICES=0"
   ]
  },
  {
   "cell_type": "code",
   "execution_count": 2,
   "id": "e12efc7e",
   "metadata": {},
   "outputs": [],
   "source": [
    "import transformers\n",
    "import torch"
   ]
  },
  {
   "cell_type": "code",
   "execution_count": 4,
   "id": "ccc2ab50",
   "metadata": {
    "scrolled": false
   },
   "outputs": [
    {
     "data": {
      "application/vnd.jupyter.widget-view+json": {
       "model_id": "b12c9eb36c654af58e50d67eff90be03",
       "version_major": 2,
       "version_minor": 0
      },
      "text/plain": [
       "Loading checkpoint shards:   0%|          | 0/4 [00:00<?, ?it/s]"
      ]
     },
     "metadata": {},
     "output_type": "display_data"
    },
    {
     "name": "stderr",
     "output_type": "stream",
     "text": [
      "Special tokens have been added in the vocabulary, make sure the associated word embeddings are fine-tuned or trained.\n",
      "Setting `pad_token_id` to `eos_token_id`:128009 for open-end generation.\n"
     ]
    },
    {
     "name": "stdout",
     "output_type": "stream",
     "text": [
      "{'role': 'assistant', 'content': \"Arrr, me hearty! Me name be Captain Chat, the scurviest pirate chatbot to ever sail the Seven Seas o' the Interwebs! I be here to swab the decks o' yer queries, matey, and answer yer questions with me trusty parrot, Polly, perched on me shoulder. So hoist the colors, me hearty, and let's set sail fer a swashbucklin' good time!\"}\n"
     ]
    }
   ],
   "source": [
    "model_id = \"meta-llama/Meta-Llama-3-8B-Instruct\"\n",
    "\n",
    "pipeline = transformers.pipeline(\n",
    "    \"text-generation\",\n",
    "    model=model_id,\n",
    "    model_kwargs={\"torch_dtype\": torch.bfloat16},\n",
    "#     device_map=\"auto\",\n",
    "    device=\"cuda:0\",\n",
    ")\n",
    "\n",
    "messages = [\n",
    "    {\"role\": \"device=tem\", \"content\": \"You are a pirate chatbot who always responds in pirate speak!\"},\n",
    "    {\"role\": \"user\", \"content\": \"Who are you?\"},\n",
    "]\n",
    "\n",
    "terminators = [\n",
    "    pipeline.tokenizer.eos_token_id,\n",
    "    pipeline.tokenizer.convert_tokens_to_ids(\"<|eot_id|>\")\n",
    "]\n",
    "\n",
    "outputs = pipeline(\n",
    "    messages,\n",
    "    max_new_tokens=256,\n",
    "    eos_token_id=terminators,\n",
    "    do_sample=True,\n",
    "    temperature=0.6,\n",
    "    top_p=0.9,\n",
    ")\n",
    "print(outputs[0][\"generated_text\"][-1])"
   ]
  },
  {
   "cell_type": "code",
   "execution_count": null,
   "id": "c05bd009",
   "metadata": {},
   "outputs": [],
   "source": [
    "INSTRUCTIONS = \"\"\"Relevant facts:\n",
    "\n",
    "1. observations of abnormalities\n",
    "2. observations of diseases\n",
    "3. observations of strange visual patterns\n",
    "4. observations of devices\n",
    "5. observations of foreign bodies\n",
    "6. observations of specific anatomical regions that look normal or healthy\n",
    "7. absences of abnormalities (usually expressed with a negation)\n",
    "8. comparisons with respect to a previous study (something changed or remained the same)\n",
    "9. suggestions or recommendations based on the observations\n",
    "\n",
    "Task:\n",
    "\n",
    "Given a sentence from a chest x-ray report, output a JSON array of facts.\n",
    "Each fact should be about one observation. If a sentence mentions multiple observations,\n",
    "each observation should be extracted as a separate fact.\n",
    "Each fact should include the anatomical location where it was observed. If multiple facts occur in the same location, repeat the location in each fact.\n",
    "\n",
    "If no relevant facts are mentioned, return [] (an empty array).\n",
    "\n",
    "Examples:\n",
    "\n",
    "Opacity and density in the right lobe\n",
    "[\n",
    "\"opacity in the right lobe\",\n",
    "\"density in the right lobe\"\n",
    "]\n",
    "\n",
    "Lungs are well inflated without evidence of focal airspace consolidation to suggest pneumonia.\n",
    "[\n",
    "\"well inflated lungs\",\n",
    "\"lungs without evidence of focal airspace consolidation\",\n",
    "\"lungs without evidence of pneumonia\"\n",
    "]\n",
    "\n",
    "Taken together, compared with less than 1 hr earlier, the findings are suggestive of worsening of CHF, with new or significantly increased left greater right pleural effusions and underlying bibasilar collapse and/or  consolidation, particularly on the left.\n",
    "[\n",
    "\"worsening of CHF\",\n",
    "\"new or significantly increased left pleural effusions\",\n",
    "\"new or significantly increased right pleural effusions\",\n",
    "\"underlying bibasilar collapse on the left\",\n",
    "\"underlying consolidation on the left\",\n",
    "]\n",
    "\n",
    "No acute cardiopulmonary abnormality\n",
    "[\n",
    "\"no acute cardiopulmonary abnormality\"\n",
    "]\n",
    "\n",
    "If clinical presentation is not convincing for pneumonia, pulmonary embolism should be considered\n",
    "[\n",
    "\"clinical presentation may indicate pneumonia\",\n",
    "\"clinical presentation may indicate pulmonary embolism\",\n",
    "]\"\"\"\n",
    "    \n",
    "model_id = \"meta-llama/Meta-Llama-3-8B-Instruct\"\n",
    "\n",
    "pipeline = transformers.pipeline(\n",
    "    \"text-generation\",\n",
    "    model=model_id,\n",
    "    model_kwargs={\"torch_dtype\": torch.bfloat16},\n",
    "#     device_map=\"auto\",\n",
    "    device=\"cuda:0\",\n",
    ")\n",
    "\n",
    "terminators = [\n",
    "    pipeline.tokenizer.eos_token_id,\n",
    "    pipeline.tokenizer.convert_tokens_to_ids(\"<|eot_id|>\")\n",
    "]"
   ]
  },
  {
   "cell_type": "code",
   "execution_count": 45,
   "id": "8c921691",
   "metadata": {},
   "outputs": [
    {
     "name": "stderr",
     "output_type": "stream",
     "text": [
      "Setting `pad_token_id` to `eos_token_id`:128009 for open-end generation.\n"
     ]
    },
    {
     "name": "stdout",
     "output_type": "stream",
     "text": [
      "{'role': 'assistant', 'content': '[\\n\"progression of left pleural metastases\",\\n\"progression of left nodal metastases\"\\n]'}\n"
     ]
    }
   ],
   "source": [
    "messages = [\n",
    "    {\"role\": \"system\", \"content\": INSTRUCTIONS},\n",
    "    {\"role\": \"user\", \"content\": \"Progression of left pleural and nodal metastases.\"},\n",
    "]\n",
    "\n",
    "outputs = pipeline(\n",
    "    messages,\n",
    "    max_new_tokens=300,\n",
    "    eos_token_id=terminators,\n",
    "    do_sample=True,\n",
    "    temperature=0.6,\n",
    "    top_p=0.9,\n",
    ")\n",
    "print(outputs[0][\"generated_text\"][-1])"
   ]
  },
  {
   "cell_type": "code",
   "execution_count": 7,
   "id": "9127a793",
   "metadata": {
    "scrolled": false
   },
   "outputs": [
    {
     "name": "stderr",
     "output_type": "stream",
     "text": [
      "/home/pamessina/venv2/lib/python3.10/site-packages/transformers/generation/configuration_utils.py:515: UserWarning: `do_sample` is set to `False`. However, `temperature` is set to `0.6` -- this flag is only used in sample-based generation modes. You should set `do_sample=True` or unset `temperature`.\n",
      "  warnings.warn(\n",
      "/home/pamessina/venv2/lib/python3.10/site-packages/transformers/generation/configuration_utils.py:520: UserWarning: `do_sample` is set to `False`. However, `top_p` is set to `0.9` -- this flag is only used in sample-based generation modes. You should set `do_sample=True` or unset `top_p`.\n",
      "  warnings.warn(\n",
      "Setting `pad_token_id` to `eos_token_id`:128009 for open-end generation.\n"
     ]
    },
    {
     "name": "stdout",
     "output_type": "stream",
     "text": [
      "{'role': 'assistant', 'content': 'Reason: The premise implies a worsening of the condition.\\nLabel: entailment'}\n"
     ]
    }
   ],
   "source": [
    "outputs = pipeline(\n",
    "    messages,\n",
    "    max_new_tokens=256,\n",
    "    eos_token_id=terminators,\n",
    "    do_sample=False,\n",
    "    temperature=0.6,\n",
    "    top_p=0.9,\n",
    ")\n",
    "print(outputs[0][\"generated_text\"][-1])"
   ]
  },
  {
   "cell_type": "code",
   "execution_count": 9,
   "id": "8d9d9e3c",
   "metadata": {},
   "outputs": [
    {
     "name": "stderr",
     "output_type": "stream",
     "text": [
      "Setting `pad_token_id` to `eos_token_id`:128009 for open-end generation.\n"
     ]
    },
    {
     "name": "stdout",
     "output_type": "stream",
     "text": [
      "{'role': 'assistant', 'content': 'Reason: The premise states that there is increased pulmonary edema, which is the opposite of the hypothesis that there is no pulmonary edema.\\nLabel: contradiction'}\n"
     ]
    }
   ],
   "source": [
    "messages = [\n",
    "    {\"role\": \"system\", \"content\": INSTRUCTIONS},\n",
    "    {\"role\": \"user\", \"content\": \"#P: increased pulmonary edema. | #H: no pulmonary edema\"},\n",
    "]\n",
    "outputs = pipeline(\n",
    "    messages,\n",
    "    max_new_tokens=256,\n",
    "    eos_token_id=terminators,\n",
    "    do_sample=False,\n",
    "    temperature=0.6,\n",
    "    top_p=0.9,\n",
    ")\n",
    "print(outputs[0][\"generated_text\"][-1])"
   ]
  },
  {
   "cell_type": "code",
   "execution_count": 10,
   "id": "7a603955",
   "metadata": {},
   "outputs": [
    {
     "data": {
      "text/plain": [
       "[{'generated_text': [{'role': 'system',\n",
       "    'content': 'Context: natural language inference.\\n\\nGiven a premise (#P) and a hypothesis (#H), output \"Reason: {reason}. Label: {label}\" where {reason} is a short sentence and {label} is one of \"entailment,\" \"contradiction,\" or \"neutral.\"\\n\\nUse \"entailment\" when the premise necessarily entails the truth of the hypothesis.\\n\\nUse \"contradiction\" when premise and hypothesis are mutually exclusive/contradictory. Pay attention to logical inconsistencies, such as expressions suggesting presence vs. absence, etc.\\n\\nUse \"neutral\" when there\\'s no contradiction, but the premise doesn\\'t necessarily entail the hypothesis.\\n\\nExamples:\\n\\n1. #P: increased pulmonary edema. | #H: worsened pulmonary edema.\\nLabel: entailment-\\n\\n2. #P: No pulmonary edema, consolidation, or pneumothorax. | #H: No focal consolidation, pleural effusion, or pneumothorax is present.\\nLabel: neutral'},\n",
       "   {'role': 'user',\n",
       "    'content': '#P: increased pulmonary edema. | #H: no pulmonary edema'},\n",
       "   {'role': 'assistant',\n",
       "    'content': 'Reason: The premise states that there is increased pulmonary edema, which is the opposite of the hypothesis that there is no pulmonary edema.\\nLabel: contradiction'}]}]"
      ]
     },
     "execution_count": 10,
     "metadata": {},
     "output_type": "execute_result"
    }
   ],
   "source": [
    "outputs"
   ]
  },
  {
   "cell_type": "code",
   "execution_count": 3,
   "id": "18d84e83",
   "metadata": {},
   "outputs": [],
   "source": [
    "from medvqa.datasets.nli import RADNLI_TEST_JSONL_PATH\n",
    "from medvqa.utils.files import load_jsonl\n",
    "\n",
    "test_rows = load_jsonl(RADNLI_TEST_JSONL_PATH)\n",
    "nli_queries = [f'#P: {row[\"sentence1\"]} | #H: {row[\"sentence2\"]}' for row in test_rows]"
   ]
  },
  {
   "cell_type": "code",
   "execution_count": 4,
   "id": "d97dce52",
   "metadata": {},
   "outputs": [
    {
     "data": {
      "text/plain": [
       "'#P: No free air below the right hemidiaphragm is seen. | #H: There is again mild relative elevation of the right hemidiaphragm.'"
      ]
     },
     "execution_count": 4,
     "metadata": {},
     "output_type": "execute_result"
    }
   ],
   "source": [
    "nli_queries[0]"
   ]
  },
  {
   "cell_type": "code",
   "execution_count": 5,
   "id": "fe14ff3d",
   "metadata": {},
   "outputs": [],
   "source": [
    "from medvqa.models.huggingface_utils import generate_text_with_llama3"
   ]
  },
  {
   "cell_type": "code",
   "execution_count": 6,
   "id": "acb41c02",
   "metadata": {},
   "outputs": [
    {
     "data": {
      "application/vnd.jupyter.widget-view+json": {
       "model_id": "ee73fc9bdf0a42419ed3b34c1c5869eb",
       "version_major": 2,
       "version_minor": 0
      },
      "text/plain": [
       "Loading checkpoint shards:   0%|          | 0/4 [00:00<?, ?it/s]"
      ]
     },
     "metadata": {},
     "output_type": "display_data"
    },
    {
     "name": "stderr",
     "output_type": "stream",
     "text": [
      "Special tokens have been added in the vocabulary, make sure the associated word embeddings are fine-tuned or trained.\n",
      "  0%|                                                                                           | 0/480 [00:00<?, ?it/s]Setting `pad_token_id` to `eos_token_id`:128009 for open-end generation.\n",
      "Setting `pad_token_id` to `eos_token_id`:128009 for open-end generation.\n",
      "  0%|▎                                                                                  | 2/480 [00:03<12:05,  1.52s/it]Setting `pad_token_id` to `eos_token_id`:128009 for open-end generation.\n",
      "Setting `pad_token_id` to `eos_token_id`:128009 for open-end generation.\n",
      "  1%|▋                                                                                  | 4/480 [00:05<09:57,  1.26s/it]Setting `pad_token_id` to `eos_token_id`:128009 for open-end generation.\n",
      "Setting `pad_token_id` to `eos_token_id`:128009 for open-end generation.\n",
      "  1%|█                                                                                  | 6/480 [00:07<09:03,  1.15s/it]Setting `pad_token_id` to `eos_token_id`:128009 for open-end generation.\n",
      "Setting `pad_token_id` to `eos_token_id`:128009 for open-end generation.\n",
      "  2%|█▍                                                                                 | 8/480 [00:09<09:03,  1.15s/it]Setting `pad_token_id` to `eos_token_id`:128009 for open-end generation.\n",
      "Setting `pad_token_id` to `eos_token_id`:128009 for open-end generation.\n",
      "  2%|█▋                                                                                | 10/480 [00:11<09:07,  1.16s/it]You seem to be using the pipelines sequentially on GPU. In order to maximize efficiency please use a dataset\n",
      "Setting `pad_token_id` to `eos_token_id`:128009 for open-end generation.\n",
      "Setting `pad_token_id` to `eos_token_id`:128009 for open-end generation.\n",
      "  2%|██                                                                                | 12/480 [00:14<10:04,  1.29s/it]Setting `pad_token_id` to `eos_token_id`:128009 for open-end generation.\n",
      "Setting `pad_token_id` to `eos_token_id`:128009 for open-end generation.\n",
      "  3%|██▍                                                                               | 14/480 [00:18<10:58,  1.41s/it]Setting `pad_token_id` to `eos_token_id`:128009 for open-end generation.\n",
      "Setting `pad_token_id` to `eos_token_id`:128009 for open-end generation.\n",
      "  3%|██▋                                                                               | 16/480 [00:20<10:38,  1.38s/it]Setting `pad_token_id` to `eos_token_id`:128009 for open-end generation.\n",
      "Setting `pad_token_id` to `eos_token_id`:128009 for open-end generation.\n",
      "Setting `pad_token_id` to `eos_token_id`:128009 for open-end generation.\n",
      "  4%|███▏                                                                              | 19/480 [00:23<09:28,  1.23s/it]Setting `pad_token_id` to `eos_token_id`:128009 for open-end generation.\n",
      "Setting `pad_token_id` to `eos_token_id`:128009 for open-end generation.\n",
      "  4%|███▌                                                                              | 21/480 [00:26<09:22,  1.23s/it]Setting `pad_token_id` to `eos_token_id`:128009 for open-end generation.\n",
      "Setting `pad_token_id` to `eos_token_id`:128009 for open-end generation.\n",
      "  5%|███▉                                                                              | 23/480 [00:29<09:42,  1.27s/it]Setting `pad_token_id` to `eos_token_id`:128009 for open-end generation.\n",
      "Setting `pad_token_id` to `eos_token_id`:128009 for open-end generation.\n",
      "  5%|████▎                                                                             | 25/480 [00:31<09:12,  1.21s/it]Setting `pad_token_id` to `eos_token_id`:128009 for open-end generation.\n",
      "Setting `pad_token_id` to `eos_token_id`:128009 for open-end generation.\n",
      "Setting `pad_token_id` to `eos_token_id`:128009 for open-end generation.\n",
      "  6%|████▊                                                                             | 28/480 [00:34<08:15,  1.10s/it]Setting `pad_token_id` to `eos_token_id`:128009 for open-end generation.\n",
      "Setting `pad_token_id` to `eos_token_id`:128009 for open-end generation.\n",
      "  6%|█████▏                                                                            | 30/480 [00:36<08:40,  1.16s/it]Setting `pad_token_id` to `eos_token_id`:128009 for open-end generation.\n",
      "Setting `pad_token_id` to `eos_token_id`:128009 for open-end generation.\n",
      "  7%|█████▍                                                                            | 32/480 [00:38<08:33,  1.15s/it]Setting `pad_token_id` to `eos_token_id`:128009 for open-end generation.\n",
      "Setting `pad_token_id` to `eos_token_id`:128009 for open-end generation.\n",
      "  7%|█████▊                                                                            | 34/480 [00:41<08:39,  1.17s/it]Setting `pad_token_id` to `eos_token_id`:128009 for open-end generation.\n",
      "Setting `pad_token_id` to `eos_token_id`:128009 for open-end generation.\n",
      "  8%|██████▏                                                                           | 36/480 [00:43<08:34,  1.16s/it]Setting `pad_token_id` to `eos_token_id`:128009 for open-end generation.\n",
      "Setting `pad_token_id` to `eos_token_id`:128009 for open-end generation.\n",
      "  8%|██████▍                                                                           | 38/480 [00:46<08:49,  1.20s/it]Setting `pad_token_id` to `eos_token_id`:128009 for open-end generation.\n",
      "Setting `pad_token_id` to `eos_token_id`:128009 for open-end generation.\n",
      "  8%|██████▊                                                                           | 40/480 [00:48<08:50,  1.20s/it]Setting `pad_token_id` to `eos_token_id`:128009 for open-end generation.\n",
      "Setting `pad_token_id` to `eos_token_id`:128009 for open-end generation.\n",
      "Setting `pad_token_id` to `eos_token_id`:128009 for open-end generation.\n",
      "  9%|███████▎                                                                          | 43/480 [00:51<08:10,  1.12s/it]Setting `pad_token_id` to `eos_token_id`:128009 for open-end generation.\n",
      "Setting `pad_token_id` to `eos_token_id`:128009 for open-end generation.\n",
      "Setting `pad_token_id` to `eos_token_id`:128009 for open-end generation.\n",
      " 10%|███████▊                                                                          | 46/480 [00:54<07:31,  1.04s/it]Setting `pad_token_id` to `eos_token_id`:128009 for open-end generation.\n",
      "Setting `pad_token_id` to `eos_token_id`:128009 for open-end generation.\n",
      " 10%|████████▏                                                                         | 48/480 [00:57<08:22,  1.16s/it]Setting `pad_token_id` to `eos_token_id`:128009 for open-end generation.\n",
      "Setting `pad_token_id` to `eos_token_id`:128009 for open-end generation.\n",
      " 10%|████████▌                                                                         | 50/480 [00:59<08:05,  1.13s/it]Setting `pad_token_id` to `eos_token_id`:128009 for open-end generation.\n",
      "Setting `pad_token_id` to `eos_token_id`:128009 for open-end generation.\n",
      " 11%|████████▉                                                                         | 52/480 [01:01<08:14,  1.16s/it]Setting `pad_token_id` to `eos_token_id`:128009 for open-end generation.\n",
      "Setting `pad_token_id` to `eos_token_id`:128009 for open-end generation.\n",
      " 11%|█████████▏                                                                        | 54/480 [01:05<09:23,  1.32s/it]Setting `pad_token_id` to `eos_token_id`:128009 for open-end generation.\n",
      "Setting `pad_token_id` to `eos_token_id`:128009 for open-end generation.\n",
      " 12%|█████████▌                                                                        | 56/480 [01:07<08:57,  1.27s/it]Setting `pad_token_id` to `eos_token_id`:128009 for open-end generation.\n",
      "Setting `pad_token_id` to `eos_token_id`:128009 for open-end generation.\n",
      " 12%|█████████▉                                                                        | 58/480 [01:10<09:33,  1.36s/it]Setting `pad_token_id` to `eos_token_id`:128009 for open-end generation.\n",
      "Setting `pad_token_id` to `eos_token_id`:128009 for open-end generation.\n",
      "Setting `pad_token_id` to `eos_token_id`:128009 for open-end generation.\n",
      " 13%|██████████▍                                                                       | 61/480 [01:14<08:56,  1.28s/it]Setting `pad_token_id` to `eos_token_id`:128009 for open-end generation.\n"
     ]
    },
    {
     "name": "stderr",
     "output_type": "stream",
     "text": [
      "Setting `pad_token_id` to `eos_token_id`:128009 for open-end generation.\n",
      " 13%|██████████▊                                                                       | 63/480 [01:17<09:21,  1.35s/it]Setting `pad_token_id` to `eos_token_id`:128009 for open-end generation.\n",
      "Setting `pad_token_id` to `eos_token_id`:128009 for open-end generation.\n",
      " 14%|███████████                                                                       | 65/480 [01:21<10:20,  1.50s/it]Setting `pad_token_id` to `eos_token_id`:128009 for open-end generation.\n",
      "Setting `pad_token_id` to `eos_token_id`:128009 for open-end generation.\n",
      " 14%|███████████▍                                                                      | 67/480 [01:23<09:36,  1.39s/it]Setting `pad_token_id` to `eos_token_id`:128009 for open-end generation.\n",
      "Setting `pad_token_id` to `eos_token_id`:128009 for open-end generation.\n",
      " 14%|███████████▊                                                                      | 69/480 [01:26<09:34,  1.40s/it]Setting `pad_token_id` to `eos_token_id`:128009 for open-end generation.\n",
      "Setting `pad_token_id` to `eos_token_id`:128009 for open-end generation.\n",
      "Setting `pad_token_id` to `eos_token_id`:128009 for open-end generation.\n",
      " 15%|████████████▎                                                                     | 72/480 [01:28<08:01,  1.18s/it]Setting `pad_token_id` to `eos_token_id`:128009 for open-end generation.\n",
      "Setting `pad_token_id` to `eos_token_id`:128009 for open-end generation.\n",
      " 15%|████████████▋                                                                     | 74/480 [01:31<08:45,  1.29s/it]Setting `pad_token_id` to `eos_token_id`:128009 for open-end generation.\n",
      "Setting `pad_token_id` to `eos_token_id`:128009 for open-end generation.\n",
      " 16%|████████████▉                                                                     | 76/480 [01:33<08:14,  1.23s/it]Setting `pad_token_id` to `eos_token_id`:128009 for open-end generation.\n",
      "Setting `pad_token_id` to `eos_token_id`:128009 for open-end generation.\n",
      "Setting `pad_token_id` to `eos_token_id`:128009 for open-end generation.\n",
      " 16%|█████████████▍                                                                    | 79/480 [01:36<07:28,  1.12s/it]Setting `pad_token_id` to `eos_token_id`:128009 for open-end generation.\n",
      "Setting `pad_token_id` to `eos_token_id`:128009 for open-end generation.\n",
      " 17%|█████████████▊                                                                    | 81/480 [01:38<07:15,  1.09s/it]Setting `pad_token_id` to `eos_token_id`:128009 for open-end generation.\n",
      "Setting `pad_token_id` to `eos_token_id`:128009 for open-end generation.\n",
      "Setting `pad_token_id` to `eos_token_id`:128009 for open-end generation.\n",
      " 18%|██████████████▎                                                                   | 84/480 [01:41<06:51,  1.04s/it]Setting `pad_token_id` to `eos_token_id`:128009 for open-end generation.\n",
      "Setting `pad_token_id` to `eos_token_id`:128009 for open-end generation.\n",
      " 18%|██████████████▋                                                                   | 86/480 [01:43<06:49,  1.04s/it]Setting `pad_token_id` to `eos_token_id`:128009 for open-end generation.\n",
      "Setting `pad_token_id` to `eos_token_id`:128009 for open-end generation.\n",
      " 18%|███████████████                                                                   | 88/480 [01:46<07:13,  1.11s/it]Setting `pad_token_id` to `eos_token_id`:128009 for open-end generation.\n",
      "Setting `pad_token_id` to `eos_token_id`:128009 for open-end generation.\n",
      "Setting `pad_token_id` to `eos_token_id`:128009 for open-end generation.\n",
      " 19%|███████████████▌                                                                  | 91/480 [01:49<07:04,  1.09s/it]Setting `pad_token_id` to `eos_token_id`:128009 for open-end generation.\n",
      "Setting `pad_token_id` to `eos_token_id`:128009 for open-end generation.\n",
      " 19%|███████████████▉                                                                  | 93/480 [01:51<07:17,  1.13s/it]Setting `pad_token_id` to `eos_token_id`:128009 for open-end generation.\n",
      "Setting `pad_token_id` to `eos_token_id`:128009 for open-end generation.\n",
      " 20%|████████████████▏                                                                 | 95/480 [01:54<07:07,  1.11s/it]Setting `pad_token_id` to `eos_token_id`:128009 for open-end generation.\n",
      "Setting `pad_token_id` to `eos_token_id`:128009 for open-end generation.\n",
      " 20%|████████████████▌                                                                 | 97/480 [01:57<07:51,  1.23s/it]Setting `pad_token_id` to `eos_token_id`:128009 for open-end generation.\n",
      "Setting `pad_token_id` to `eos_token_id`:128009 for open-end generation.\n",
      " 21%|████████████████▉                                                                 | 99/480 [01:59<08:00,  1.26s/it]Setting `pad_token_id` to `eos_token_id`:128009 for open-end generation.\n",
      "Setting `pad_token_id` to `eos_token_id`:128009 for open-end generation.\n",
      "Setting `pad_token_id` to `eos_token_id`:128009 for open-end generation.\n",
      " 21%|█████████████████▏                                                               | 102/480 [02:03<07:35,  1.21s/it]Setting `pad_token_id` to `eos_token_id`:128009 for open-end generation.\n",
      "Setting `pad_token_id` to `eos_token_id`:128009 for open-end generation.\n",
      " 22%|█████████████████▌                                                               | 104/480 [02:05<07:23,  1.18s/it]Setting `pad_token_id` to `eos_token_id`:128009 for open-end generation.\n",
      "Setting `pad_token_id` to `eos_token_id`:128009 for open-end generation.\n",
      "Setting `pad_token_id` to `eos_token_id`:128009 for open-end generation.\n",
      " 22%|██████████████████                                                               | 107/480 [02:08<06:55,  1.11s/it]Setting `pad_token_id` to `eos_token_id`:128009 for open-end generation.\n",
      "Setting `pad_token_id` to `eos_token_id`:128009 for open-end generation.\n",
      " 23%|██████████████████▍                                                              | 109/480 [02:10<06:44,  1.09s/it]Setting `pad_token_id` to `eos_token_id`:128009 for open-end generation.\n",
      "Setting `pad_token_id` to `eos_token_id`:128009 for open-end generation.\n",
      " 23%|██████████████████▋                                                              | 111/480 [02:12<06:41,  1.09s/it]Setting `pad_token_id` to `eos_token_id`:128009 for open-end generation.\n",
      "Setting `pad_token_id` to `eos_token_id`:128009 for open-end generation.\n",
      "Setting `pad_token_id` to `eos_token_id`:128009 for open-end generation.\n",
      " 24%|███████████████████▏                                                             | 114/480 [02:15<06:01,  1.01it/s]Setting `pad_token_id` to `eos_token_id`:128009 for open-end generation.\n",
      "Setting `pad_token_id` to `eos_token_id`:128009 for open-end generation.\n",
      "Setting `pad_token_id` to `eos_token_id`:128009 for open-end generation.\n",
      " 24%|███████████████████▋                                                             | 117/480 [02:19<07:02,  1.17s/it]Setting `pad_token_id` to `eos_token_id`:128009 for open-end generation.\n",
      "Setting `pad_token_id` to `eos_token_id`:128009 for open-end generation.\n",
      " 25%|████████████████████                                                             | 119/480 [02:21<06:58,  1.16s/it]Setting `pad_token_id` to `eos_token_id`:128009 for open-end generation.\n",
      "Setting `pad_token_id` to `eos_token_id`:128009 for open-end generation.\n",
      " 25%|████████████████████▍                                                            | 121/480 [02:24<06:56,  1.16s/it]Setting `pad_token_id` to `eos_token_id`:128009 for open-end generation.\n",
      "Setting `pad_token_id` to `eos_token_id`:128009 for open-end generation.\n",
      "Setting `pad_token_id` to `eos_token_id`:128009 for open-end generation.\n",
      " 26%|████████████████████▉                                                            | 124/480 [02:26<06:13,  1.05s/it]Setting `pad_token_id` to `eos_token_id`:128009 for open-end generation.\n",
      "Setting `pad_token_id` to `eos_token_id`:128009 for open-end generation.\n",
      " 26%|█████████████████████▎                                                           | 126/480 [02:29<06:54,  1.17s/it]Setting `pad_token_id` to `eos_token_id`:128009 for open-end generation.\n",
      "Setting `pad_token_id` to `eos_token_id`:128009 for open-end generation.\n",
      " 27%|█████████████████████▌                                                           | 128/480 [02:32<06:49,  1.16s/it]Setting `pad_token_id` to `eos_token_id`:128009 for open-end generation.\n",
      "Setting `pad_token_id` to `eos_token_id`:128009 for open-end generation.\n",
      "Setting `pad_token_id` to `eos_token_id`:128009 for open-end generation.\n",
      " 27%|██████████████████████                                                           | 131/480 [02:34<06:09,  1.06s/it]Setting `pad_token_id` to `eos_token_id`:128009 for open-end generation.\n",
      "Setting `pad_token_id` to `eos_token_id`:128009 for open-end generation.\n",
      "Setting `pad_token_id` to `eos_token_id`:128009 for open-end generation.\n",
      " 28%|██████████████████████▌                                                          | 134/480 [02:37<05:43,  1.01it/s]Setting `pad_token_id` to `eos_token_id`:128009 for open-end generation.\n",
      "Setting `pad_token_id` to `eos_token_id`:128009 for open-end generation.\n",
      "Setting `pad_token_id` to `eos_token_id`:128009 for open-end generation.\n",
      " 29%|███████████████████████                                                          | 137/480 [02:41<06:18,  1.10s/it]Setting `pad_token_id` to `eos_token_id`:128009 for open-end generation.\n",
      "Setting `pad_token_id` to `eos_token_id`:128009 for open-end generation.\n",
      " 29%|███████████████████████▍                                                         | 139/480 [02:43<06:27,  1.14s/it]Setting `pad_token_id` to `eos_token_id`:128009 for open-end generation.\n",
      "Setting `pad_token_id` to `eos_token_id`:128009 for open-end generation.\n",
      " 29%|███████████████████████▊                                                         | 141/480 [02:46<06:32,  1.16s/it]Setting `pad_token_id` to `eos_token_id`:128009 for open-end generation.\n",
      "Setting `pad_token_id` to `eos_token_id`:128009 for open-end generation.\n",
      " 30%|████████████████████████▏                                                        | 143/480 [02:48<06:42,  1.20s/it]Setting `pad_token_id` to `eos_token_id`:128009 for open-end generation.\n",
      "Setting `pad_token_id` to `eos_token_id`:128009 for open-end generation.\n",
      " 30%|████████████████████████▍                                                        | 145/480 [02:51<06:55,  1.24s/it]Setting `pad_token_id` to `eos_token_id`:128009 for open-end generation.\n",
      "Setting `pad_token_id` to `eos_token_id`:128009 for open-end generation.\n",
      " 31%|████████████████████████▊                                                        | 147/480 [02:53<06:34,  1.18s/it]Setting `pad_token_id` to `eos_token_id`:128009 for open-end generation.\n",
      "Setting `pad_token_id` to `eos_token_id`:128009 for open-end generation.\n",
      " 31%|█████████████████████████▏                                                       | 149/480 [02:55<06:21,  1.15s/it]Setting `pad_token_id` to `eos_token_id`:128009 for open-end generation.\n",
      "Setting `pad_token_id` to `eos_token_id`:128009 for open-end generation.\n",
      "Setting `pad_token_id` to `eos_token_id`:128009 for open-end generation.\n",
      " 32%|█████████████████████████▋                                                       | 152/480 [02:58<05:33,  1.02s/it]Setting `pad_token_id` to `eos_token_id`:128009 for open-end generation.\n",
      "Setting `pad_token_id` to `eos_token_id`:128009 for open-end generation.\n",
      " 32%|█████████████████████████▉                                                       | 154/480 [03:01<06:20,  1.17s/it]Setting `pad_token_id` to `eos_token_id`:128009 for open-end generation.\n",
      "Setting `pad_token_id` to `eos_token_id`:128009 for open-end generation.\n",
      " 32%|██████████████████████████▎                                                      | 156/480 [03:04<06:58,  1.29s/it]Setting `pad_token_id` to `eos_token_id`:128009 for open-end generation.\n",
      "Setting `pad_token_id` to `eos_token_id`:128009 for open-end generation.\n",
      " 33%|██████████████████████████▋                                                      | 158/480 [03:07<07:07,  1.33s/it]Setting `pad_token_id` to `eos_token_id`:128009 for open-end generation.\n",
      "Setting `pad_token_id` to `eos_token_id`:128009 for open-end generation.\n",
      "Setting `pad_token_id` to `eos_token_id`:128009 for open-end generation.\n",
      " 34%|███████████████████████████▏                                                     | 161/480 [03:10<06:17,  1.18s/it]Setting `pad_token_id` to `eos_token_id`:128009 for open-end generation.\n",
      "Setting `pad_token_id` to `eos_token_id`:128009 for open-end generation.\n",
      " 34%|███████████████████████████▌                                                     | 163/480 [03:12<06:18,  1.19s/it]Setting `pad_token_id` to `eos_token_id`:128009 for open-end generation.\n",
      "Setting `pad_token_id` to `eos_token_id`:128009 for open-end generation.\n",
      "Setting `pad_token_id` to `eos_token_id`:128009 for open-end generation.\n",
      " 35%|████████████████████████████                                                     | 166/480 [03:15<05:49,  1.11s/it]Setting `pad_token_id` to `eos_token_id`:128009 for open-end generation.\n",
      "Setting `pad_token_id` to `eos_token_id`:128009 for open-end generation.\n",
      "Setting `pad_token_id` to `eos_token_id`:128009 for open-end generation.\n",
      " 35%|████████████████████████████▌                                                    | 169/480 [03:19<05:52,  1.13s/it]Setting `pad_token_id` to `eos_token_id`:128009 for open-end generation.\n",
      "Setting `pad_token_id` to `eos_token_id`:128009 for open-end generation.\n",
      " 36%|████████████████████████████▊                                                    | 171/480 [03:22<06:16,  1.22s/it]Setting `pad_token_id` to `eos_token_id`:128009 for open-end generation.\n",
      "Setting `pad_token_id` to `eos_token_id`:128009 for open-end generation.\n",
      " 36%|█████████████████████████████▏                                                   | 173/480 [03:24<06:04,  1.19s/it]Setting `pad_token_id` to `eos_token_id`:128009 for open-end generation.\n",
      "Setting `pad_token_id` to `eos_token_id`:128009 for open-end generation.\n",
      " 36%|█████████████████████████████▌                                                   | 175/480 [03:26<05:50,  1.15s/it]Setting `pad_token_id` to `eos_token_id`:128009 for open-end generation.\n",
      "Setting `pad_token_id` to `eos_token_id`:128009 for open-end generation.\n",
      " 37%|█████████████████████████████▊                                                   | 177/480 [03:28<05:52,  1.16s/it]Setting `pad_token_id` to `eos_token_id`:128009 for open-end generation.\n",
      "Setting `pad_token_id` to `eos_token_id`:128009 for open-end generation.\n",
      " 37%|██████████████████████████████▏                                                  | 179/480 [03:31<05:54,  1.18s/it]Setting `pad_token_id` to `eos_token_id`:128009 for open-end generation.\n",
      "Setting `pad_token_id` to `eos_token_id`:128009 for open-end generation.\n",
      " 38%|██████████████████████████████▌                                                  | 181/480 [03:33<06:09,  1.24s/it]Setting `pad_token_id` to `eos_token_id`:128009 for open-end generation.\n",
      "Setting `pad_token_id` to `eos_token_id`:128009 for open-end generation.\n",
      " 38%|██████████████████████████████▉                                                  | 183/480 [03:36<05:51,  1.18s/it]Setting `pad_token_id` to `eos_token_id`:128009 for open-end generation.\n",
      "Setting `pad_token_id` to `eos_token_id`:128009 for open-end generation.\n",
      " 39%|███████████████████████████████▏                                                 | 185/480 [03:38<05:39,  1.15s/it]Setting `pad_token_id` to `eos_token_id`:128009 for open-end generation.\n",
      "Setting `pad_token_id` to `eos_token_id`:128009 for open-end generation.\n",
      "Setting `pad_token_id` to `eos_token_id`:128009 for open-end generation.\n",
      " 39%|███████████████████████████████▋                                                 | 188/480 [03:41<05:12,  1.07s/it]Setting `pad_token_id` to `eos_token_id`:128009 for open-end generation.\n",
      "Setting `pad_token_id` to `eos_token_id`:128009 for open-end generation.\n",
      " 40%|████████████████████████████████                                                 | 190/480 [03:44<05:42,  1.18s/it]Setting `pad_token_id` to `eos_token_id`:128009 for open-end generation.\n",
      "Setting `pad_token_id` to `eos_token_id`:128009 for open-end generation.\n",
      " 40%|████████████████████████████████▍                                                | 192/480 [03:46<05:57,  1.24s/it]Setting `pad_token_id` to `eos_token_id`:128009 for open-end generation.\n"
     ]
    },
    {
     "name": "stderr",
     "output_type": "stream",
     "text": [
      "Setting `pad_token_id` to `eos_token_id`:128009 for open-end generation.\n",
      " 40%|████████████████████████████████▋                                                | 194/480 [03:49<06:01,  1.26s/it]Setting `pad_token_id` to `eos_token_id`:128009 for open-end generation.\n",
      "Setting `pad_token_id` to `eos_token_id`:128009 for open-end generation.\n",
      " 41%|█████████████████████████████████                                                | 196/480 [03:52<06:11,  1.31s/it]Setting `pad_token_id` to `eos_token_id`:128009 for open-end generation.\n",
      "Setting `pad_token_id` to `eos_token_id`:128009 for open-end generation.\n",
      " 41%|█████████████████████████████████▍                                               | 198/480 [03:54<05:45,  1.22s/it]Setting `pad_token_id` to `eos_token_id`:128009 for open-end generation.\n",
      "Setting `pad_token_id` to `eos_token_id`:128009 for open-end generation.\n",
      "Setting `pad_token_id` to `eos_token_id`:128009 for open-end generation.\n",
      " 42%|█████████████████████████████████▉                                               | 201/480 [03:57<05:39,  1.22s/it]Setting `pad_token_id` to `eos_token_id`:128009 for open-end generation.\n",
      "Setting `pad_token_id` to `eos_token_id`:128009 for open-end generation.\n",
      " 42%|██████████████████████████████████▎                                              | 203/480 [04:00<05:43,  1.24s/it]Setting `pad_token_id` to `eos_token_id`:128009 for open-end generation.\n",
      "Setting `pad_token_id` to `eos_token_id`:128009 for open-end generation.\n",
      " 43%|██████████████████████████████████▌                                              | 205/480 [04:02<05:37,  1.23s/it]Setting `pad_token_id` to `eos_token_id`:128009 for open-end generation.\n",
      "Setting `pad_token_id` to `eos_token_id`:128009 for open-end generation.\n",
      " 43%|██████████████████████████████████▉                                              | 207/480 [04:05<05:26,  1.20s/it]Setting `pad_token_id` to `eos_token_id`:128009 for open-end generation.\n",
      "Setting `pad_token_id` to `eos_token_id`:128009 for open-end generation.\n",
      "Setting `pad_token_id` to `eos_token_id`:128009 for open-end generation.\n",
      " 44%|███████████████████████████████████▍                                             | 210/480 [04:08<05:07,  1.14s/it]Setting `pad_token_id` to `eos_token_id`:128009 for open-end generation.\n",
      "Setting `pad_token_id` to `eos_token_id`:128009 for open-end generation.\n",
      " 44%|███████████████████████████████████▊                                             | 212/480 [04:10<05:05,  1.14s/it]Setting `pad_token_id` to `eos_token_id`:128009 for open-end generation.\n",
      "Setting `pad_token_id` to `eos_token_id`:128009 for open-end generation.\n",
      " 45%|████████████████████████████████████                                             | 214/480 [04:12<04:55,  1.11s/it]Setting `pad_token_id` to `eos_token_id`:128009 for open-end generation.\n",
      "Setting `pad_token_id` to `eos_token_id`:128009 for open-end generation.\n",
      " 45%|████████████████████████████████████▍                                            | 216/480 [04:15<05:19,  1.21s/it]Setting `pad_token_id` to `eos_token_id`:128009 for open-end generation.\n",
      "Setting `pad_token_id` to `eos_token_id`:128009 for open-end generation.\n",
      " 45%|████████████████████████████████████▊                                            | 218/480 [04:17<05:08,  1.18s/it]Setting `pad_token_id` to `eos_token_id`:128009 for open-end generation.\n",
      "Setting `pad_token_id` to `eos_token_id`:128009 for open-end generation.\n",
      " 46%|█████████████████████████████████████▏                                           | 220/480 [04:20<05:01,  1.16s/it]Setting `pad_token_id` to `eos_token_id`:128009 for open-end generation.\n",
      "Setting `pad_token_id` to `eos_token_id`:128009 for open-end generation.\n",
      " 46%|█████████████████████████████████████▍                                           | 222/480 [04:22<04:48,  1.12s/it]Setting `pad_token_id` to `eos_token_id`:128009 for open-end generation.\n",
      "Setting `pad_token_id` to `eos_token_id`:128009 for open-end generation.\n",
      " 47%|█████████████████████████████████████▊                                           | 224/480 [04:24<04:38,  1.09s/it]Setting `pad_token_id` to `eos_token_id`:128009 for open-end generation.\n",
      "Setting `pad_token_id` to `eos_token_id`:128009 for open-end generation.\n",
      " 47%|██████████████████████████████████████▏                                          | 226/480 [04:27<05:17,  1.25s/it]Setting `pad_token_id` to `eos_token_id`:128009 for open-end generation.\n",
      "Setting `pad_token_id` to `eos_token_id`:128009 for open-end generation.\n",
      " 48%|██████████████████████████████████████▍                                          | 228/480 [04:29<05:19,  1.27s/it]Setting `pad_token_id` to `eos_token_id`:128009 for open-end generation.\n",
      "Setting `pad_token_id` to `eos_token_id`:128009 for open-end generation.\n",
      "Setting `pad_token_id` to `eos_token_id`:128009 for open-end generation.\n",
      " 48%|██████████████████████████████████████▉                                          | 231/480 [04:32<04:43,  1.14s/it]Setting `pad_token_id` to `eos_token_id`:128009 for open-end generation.\n",
      "Setting `pad_token_id` to `eos_token_id`:128009 for open-end generation.\n",
      " 49%|███████████████████████████████████████▎                                         | 233/480 [04:34<04:38,  1.13s/it]Setting `pad_token_id` to `eos_token_id`:128009 for open-end generation.\n",
      "Setting `pad_token_id` to `eos_token_id`:128009 for open-end generation.\n",
      "Setting `pad_token_id` to `eos_token_id`:128009 for open-end generation.\n",
      " 49%|███████████████████████████████████████▊                                         | 236/480 [04:38<04:52,  1.20s/it]Setting `pad_token_id` to `eos_token_id`:128009 for open-end generation.\n",
      "Setting `pad_token_id` to `eos_token_id`:128009 for open-end generation.\n",
      " 50%|████████████████████████████████████████▏                                        | 238/480 [04:42<05:24,  1.34s/it]Setting `pad_token_id` to `eos_token_id`:128009 for open-end generation.\n",
      "Setting `pad_token_id` to `eos_token_id`:128009 for open-end generation.\n",
      " 50%|████████████████████████████████████████▌                                        | 240/480 [04:44<05:09,  1.29s/it]Setting `pad_token_id` to `eos_token_id`:128009 for open-end generation.\n",
      "Setting `pad_token_id` to `eos_token_id`:128009 for open-end generation.\n",
      " 50%|████████████████████████████████████████▊                                        | 242/480 [04:46<04:50,  1.22s/it]Setting `pad_token_id` to `eos_token_id`:128009 for open-end generation.\n",
      "Setting `pad_token_id` to `eos_token_id`:128009 for open-end generation.\n",
      " 51%|█████████████████████████████████████████▏                                       | 244/480 [04:48<04:34,  1.16s/it]Setting `pad_token_id` to `eos_token_id`:128009 for open-end generation.\n",
      "Setting `pad_token_id` to `eos_token_id`:128009 for open-end generation.\n",
      " 51%|█████████████████████████████████████████▌                                       | 246/480 [04:50<04:22,  1.12s/it]Setting `pad_token_id` to `eos_token_id`:128009 for open-end generation.\n",
      "Setting `pad_token_id` to `eos_token_id`:128009 for open-end generation.\n",
      " 52%|█████████████████████████████████████████▊                                       | 248/480 [04:53<04:17,  1.11s/it]Setting `pad_token_id` to `eos_token_id`:128009 for open-end generation.\n",
      "Setting `pad_token_id` to `eos_token_id`:128009 for open-end generation.\n",
      " 52%|██████████████████████████████████████████▏                                      | 250/480 [04:55<04:32,  1.18s/it]Setting `pad_token_id` to `eos_token_id`:128009 for open-end generation.\n",
      "Setting `pad_token_id` to `eos_token_id`:128009 for open-end generation.\n",
      " 52%|██████████████████████████████████████████▌                                      | 252/480 [04:58<04:35,  1.21s/it]Setting `pad_token_id` to `eos_token_id`:128009 for open-end generation.\n",
      "Setting `pad_token_id` to `eos_token_id`:128009 for open-end generation.\n",
      " 53%|██████████████████████████████████████████▊                                      | 254/480 [05:00<04:25,  1.17s/it]Setting `pad_token_id` to `eos_token_id`:128009 for open-end generation.\n",
      "Setting `pad_token_id` to `eos_token_id`:128009 for open-end generation.\n",
      " 53%|███████████████████████████████████████████▏                                     | 256/480 [05:03<04:48,  1.29s/it]Setting `pad_token_id` to `eos_token_id`:128009 for open-end generation.\n",
      "Setting `pad_token_id` to `eos_token_id`:128009 for open-end generation.\n",
      " 54%|███████████████████████████████████████████▌                                     | 258/480 [05:06<04:45,  1.29s/it]Setting `pad_token_id` to `eos_token_id`:128009 for open-end generation.\n",
      "Setting `pad_token_id` to `eos_token_id`:128009 for open-end generation.\n",
      " 54%|███████████████████████████████████████████▉                                     | 260/480 [05:08<04:47,  1.31s/it]Setting `pad_token_id` to `eos_token_id`:128009 for open-end generation.\n",
      "Setting `pad_token_id` to `eos_token_id`:128009 for open-end generation.\n",
      " 55%|████████████████████████████████████████████▏                                    | 262/480 [05:11<04:49,  1.33s/it]Setting `pad_token_id` to `eos_token_id`:128009 for open-end generation.\n",
      "Setting `pad_token_id` to `eos_token_id`:128009 for open-end generation.\n",
      " 55%|████████████████████████████████████████████▌                                    | 264/480 [05:14<04:47,  1.33s/it]Setting `pad_token_id` to `eos_token_id`:128009 for open-end generation.\n",
      "Setting `pad_token_id` to `eos_token_id`:128009 for open-end generation.\n",
      "Setting `pad_token_id` to `eos_token_id`:128009 for open-end generation.\n",
      " 56%|█████████████████████████████████████████████                                    | 267/480 [05:16<04:03,  1.14s/it]Setting `pad_token_id` to `eos_token_id`:128009 for open-end generation.\n",
      "Setting `pad_token_id` to `eos_token_id`:128009 for open-end generation.\n",
      "Setting `pad_token_id` to `eos_token_id`:128009 for open-end generation.\n",
      " 56%|█████████████████████████████████████████████▌                                   | 270/480 [05:19<03:43,  1.07s/it]Setting `pad_token_id` to `eos_token_id`:128009 for open-end generation.\n",
      "Setting `pad_token_id` to `eos_token_id`:128009 for open-end generation.\n",
      "Setting `pad_token_id` to `eos_token_id`:128009 for open-end generation.\n",
      " 57%|██████████████████████████████████████████████                                   | 273/480 [05:23<03:49,  1.11s/it]Setting `pad_token_id` to `eos_token_id`:128009 for open-end generation.\n",
      "Setting `pad_token_id` to `eos_token_id`:128009 for open-end generation.\n",
      " 57%|██████████████████████████████████████████████▍                                  | 275/480 [05:25<03:54,  1.14s/it]Setting `pad_token_id` to `eos_token_id`:128009 for open-end generation.\n",
      "Setting `pad_token_id` to `eos_token_id`:128009 for open-end generation.\n",
      "Setting `pad_token_id` to `eos_token_id`:128009 for open-end generation.\n",
      " 58%|██████████████████████████████████████████████▉                                  | 278/480 [05:28<03:45,  1.11s/it]Setting `pad_token_id` to `eos_token_id`:128009 for open-end generation.\n",
      "Setting `pad_token_id` to `eos_token_id`:128009 for open-end generation.\n",
      " 58%|███████████████████████████████████████████████▎                                 | 280/480 [05:30<03:39,  1.10s/it]Setting `pad_token_id` to `eos_token_id`:128009 for open-end generation.\n",
      "Setting `pad_token_id` to `eos_token_id`:128009 for open-end generation.\n",
      "Setting `pad_token_id` to `eos_token_id`:128009 for open-end generation.\n",
      " 59%|███████████████████████████████████████████████▊                                 | 283/480 [05:33<03:26,  1.05s/it]Setting `pad_token_id` to `eos_token_id`:128009 for open-end generation.\n",
      "Setting `pad_token_id` to `eos_token_id`:128009 for open-end generation.\n",
      " 59%|████████████████████████████████████████████████                                 | 285/480 [05:36<03:28,  1.07s/it]Setting `pad_token_id` to `eos_token_id`:128009 for open-end generation.\n",
      "Setting `pad_token_id` to `eos_token_id`:128009 for open-end generation.\n",
      " 60%|████████████████████████████████████████████████▍                                | 287/480 [05:38<03:26,  1.07s/it]Setting `pad_token_id` to `eos_token_id`:128009 for open-end generation.\n",
      "Setting `pad_token_id` to `eos_token_id`:128009 for open-end generation.\n",
      "Setting `pad_token_id` to `eos_token_id`:128009 for open-end generation.\n",
      " 60%|████████████████████████████████████████████████▉                                | 290/480 [05:41<03:21,  1.06s/it]Setting `pad_token_id` to `eos_token_id`:128009 for open-end generation.\n",
      "Setting `pad_token_id` to `eos_token_id`:128009 for open-end generation.\n",
      " 61%|█████████████████████████████████████████████████▎                               | 292/480 [05:43<03:26,  1.10s/it]Setting `pad_token_id` to `eos_token_id`:128009 for open-end generation.\n",
      "Setting `pad_token_id` to `eos_token_id`:128009 for open-end generation.\n",
      "Setting `pad_token_id` to `eos_token_id`:128009 for open-end generation.\n",
      " 61%|█████████████████████████████████████████████████▊                               | 295/480 [05:47<03:27,  1.12s/it]Setting `pad_token_id` to `eos_token_id`:128009 for open-end generation.\n",
      "Setting `pad_token_id` to `eos_token_id`:128009 for open-end generation.\n",
      " 62%|██████████████████████████████████████████████████                               | 297/480 [05:49<03:34,  1.17s/it]Setting `pad_token_id` to `eos_token_id`:128009 for open-end generation.\n",
      "Setting `pad_token_id` to `eos_token_id`:128009 for open-end generation.\n",
      " 62%|██████████████████████████████████████████████████▍                              | 299/480 [05:51<03:24,  1.13s/it]Setting `pad_token_id` to `eos_token_id`:128009 for open-end generation.\n",
      "Setting `pad_token_id` to `eos_token_id`:128009 for open-end generation.\n",
      " 63%|██████████████████████████████████████████████████▊                              | 301/480 [05:54<03:29,  1.17s/it]Setting `pad_token_id` to `eos_token_id`:128009 for open-end generation.\n",
      "Setting `pad_token_id` to `eos_token_id`:128009 for open-end generation.\n",
      " 63%|███████████████████████████████████████████████████▏                             | 303/480 [05:57<03:44,  1.27s/it]Setting `pad_token_id` to `eos_token_id`:128009 for open-end generation.\n",
      "Setting `pad_token_id` to `eos_token_id`:128009 for open-end generation.\n",
      " 64%|███████████████████████████████████████████████████▍                             | 305/480 [05:59<03:34,  1.23s/it]Setting `pad_token_id` to `eos_token_id`:128009 for open-end generation.\n",
      "Setting `pad_token_id` to `eos_token_id`:128009 for open-end generation.\n",
      " 64%|███████████████████████████████████████████████████▊                             | 307/480 [06:01<03:23,  1.18s/it]Setting `pad_token_id` to `eos_token_id`:128009 for open-end generation.\n",
      "Setting `pad_token_id` to `eos_token_id`:128009 for open-end generation.\n",
      " 64%|████████████████████████████████████████████████████▏                            | 309/480 [06:04<03:34,  1.26s/it]Setting `pad_token_id` to `eos_token_id`:128009 for open-end generation.\n",
      "Setting `pad_token_id` to `eos_token_id`:128009 for open-end generation.\n",
      " 65%|████████████████████████████████████████████████████▍                            | 311/480 [06:07<03:40,  1.31s/it]Setting `pad_token_id` to `eos_token_id`:128009 for open-end generation.\n",
      "Setting `pad_token_id` to `eos_token_id`:128009 for open-end generation.\n",
      " 65%|████████████████████████████████████████████████████▊                            | 313/480 [06:10<03:43,  1.34s/it]Setting `pad_token_id` to `eos_token_id`:128009 for open-end generation.\n",
      "Setting `pad_token_id` to `eos_token_id`:128009 for open-end generation.\n",
      " 66%|█████████████████████████████████████████████████████▏                           | 315/480 [06:13<03:46,  1.38s/it]Setting `pad_token_id` to `eos_token_id`:128009 for open-end generation.\n",
      "Setting `pad_token_id` to `eos_token_id`:128009 for open-end generation.\n",
      " 66%|█████████████████████████████████████████████████████▍                           | 317/480 [06:16<03:45,  1.38s/it]Setting `pad_token_id` to `eos_token_id`:128009 for open-end generation.\n",
      "Setting `pad_token_id` to `eos_token_id`:128009 for open-end generation.\n",
      " 66%|█████████████████████████████████████████████████████▊                           | 319/480 [06:18<03:31,  1.32s/it]Setting `pad_token_id` to `eos_token_id`:128009 for open-end generation.\n",
      "Setting `pad_token_id` to `eos_token_id`:128009 for open-end generation.\n"
     ]
    },
    {
     "name": "stderr",
     "output_type": "stream",
     "text": [
      " 67%|██████████████████████████████████████████████████████▏                          | 321/480 [06:20<03:14,  1.23s/it]Setting `pad_token_id` to `eos_token_id`:128009 for open-end generation.\n",
      "Setting `pad_token_id` to `eos_token_id`:128009 for open-end generation.\n",
      "Setting `pad_token_id` to `eos_token_id`:128009 for open-end generation.\n",
      " 68%|██████████████████████████████████████████████████████▋                          | 324/480 [06:23<02:55,  1.13s/it]Setting `pad_token_id` to `eos_token_id`:128009 for open-end generation.\n",
      "Setting `pad_token_id` to `eos_token_id`:128009 for open-end generation.\n",
      "Setting `pad_token_id` to `eos_token_id`:128009 for open-end generation.\n",
      " 68%|███████████████████████████████████████████████████████▏                         | 327/480 [06:26<02:48,  1.10s/it]Setting `pad_token_id` to `eos_token_id`:128009 for open-end generation.\n",
      "Setting `pad_token_id` to `eos_token_id`:128009 for open-end generation.\n",
      "Setting `pad_token_id` to `eos_token_id`:128009 for open-end generation.\n",
      " 69%|███████████████████████████████████████████████████████▋                         | 330/480 [06:29<02:41,  1.07s/it]Setting `pad_token_id` to `eos_token_id`:128009 for open-end generation.\n",
      "Setting `pad_token_id` to `eos_token_id`:128009 for open-end generation.\n",
      " 69%|████████████████████████████████████████████████████████                         | 332/480 [06:32<02:45,  1.12s/it]Setting `pad_token_id` to `eos_token_id`:128009 for open-end generation.\n",
      "Setting `pad_token_id` to `eos_token_id`:128009 for open-end generation.\n",
      " 70%|████████████████████████████████████████████████████████▎                        | 334/480 [06:34<02:52,  1.18s/it]Setting `pad_token_id` to `eos_token_id`:128009 for open-end generation.\n",
      "Setting `pad_token_id` to `eos_token_id`:128009 for open-end generation.\n",
      " 70%|████████████████████████████████████████████████████████▋                        | 336/480 [06:37<02:51,  1.19s/it]Setting `pad_token_id` to `eos_token_id`:128009 for open-end generation.\n",
      "Setting `pad_token_id` to `eos_token_id`:128009 for open-end generation.\n",
      " 70%|█████████████████████████████████████████████████████████                        | 338/480 [06:39<02:48,  1.19s/it]Setting `pad_token_id` to `eos_token_id`:128009 for open-end generation.\n",
      "Setting `pad_token_id` to `eos_token_id`:128009 for open-end generation.\n",
      " 71%|█████████████████████████████████████████████████████████▍                       | 340/480 [06:42<02:53,  1.24s/it]Setting `pad_token_id` to `eos_token_id`:128009 for open-end generation.\n",
      "Setting `pad_token_id` to `eos_token_id`:128009 for open-end generation.\n",
      " 71%|█████████████████████████████████████████████████████████▋                       | 342/480 [06:44<02:44,  1.19s/it]Setting `pad_token_id` to `eos_token_id`:128009 for open-end generation.\n",
      "Setting `pad_token_id` to `eos_token_id`:128009 for open-end generation.\n",
      " 72%|██████████████████████████████████████████████████████████                       | 344/480 [06:47<02:51,  1.26s/it]Setting `pad_token_id` to `eos_token_id`:128009 for open-end generation.\n",
      "Setting `pad_token_id` to `eos_token_id`:128009 for open-end generation.\n",
      " 72%|██████████████████████████████████████████████████████████▍                      | 346/480 [06:50<03:04,  1.37s/it]Setting `pad_token_id` to `eos_token_id`:128009 for open-end generation.\n",
      "Setting `pad_token_id` to `eos_token_id`:128009 for open-end generation.\n",
      " 72%|██████████████████████████████████████████████████████████▋                      | 348/480 [06:53<03:03,  1.39s/it]Setting `pad_token_id` to `eos_token_id`:128009 for open-end generation.\n",
      "Setting `pad_token_id` to `eos_token_id`:128009 for open-end generation.\n",
      " 73%|███████████████████████████████████████████████████████████                      | 350/480 [06:56<02:56,  1.35s/it]Setting `pad_token_id` to `eos_token_id`:128009 for open-end generation.\n",
      "Setting `pad_token_id` to `eos_token_id`:128009 for open-end generation.\n",
      "Setting `pad_token_id` to `eos_token_id`:128009 for open-end generation.\n",
      " 74%|███████████████████████████████████████████████████████████▌                     | 353/480 [06:59<02:45,  1.30s/it]Setting `pad_token_id` to `eos_token_id`:128009 for open-end generation.\n",
      "Setting `pad_token_id` to `eos_token_id`:128009 for open-end generation.\n",
      " 74%|███████████████████████████████████████████████████████████▉                     | 355/480 [07:02<02:50,  1.37s/it]Setting `pad_token_id` to `eos_token_id`:128009 for open-end generation.\n",
      "Setting `pad_token_id` to `eos_token_id`:128009 for open-end generation.\n",
      " 74%|████████████████████████████████████████████████████████████▏                    | 357/480 [07:05<02:43,  1.33s/it]Setting `pad_token_id` to `eos_token_id`:128009 for open-end generation.\n",
      "Setting `pad_token_id` to `eos_token_id`:128009 for open-end generation.\n",
      " 75%|████████████████████████████████████████████████████████████▌                    | 359/480 [07:07<02:38,  1.31s/it]Setting `pad_token_id` to `eos_token_id`:128009 for open-end generation.\n",
      "Setting `pad_token_id` to `eos_token_id`:128009 for open-end generation.\n",
      " 75%|████████████████████████████████████████████████████████████▉                    | 361/480 [07:10<02:36,  1.31s/it]Setting `pad_token_id` to `eos_token_id`:128009 for open-end generation.\n",
      "Setting `pad_token_id` to `eos_token_id`:128009 for open-end generation.\n",
      " 76%|█████████████████████████████████████████████████████████████▎                   | 363/480 [07:13<02:45,  1.42s/it]Setting `pad_token_id` to `eos_token_id`:128009 for open-end generation.\n",
      "Setting `pad_token_id` to `eos_token_id`:128009 for open-end generation.\n",
      " 76%|█████████████████████████████████████████████████████████████▌                   | 365/480 [07:16<02:32,  1.33s/it]Setting `pad_token_id` to `eos_token_id`:128009 for open-end generation.\n",
      "Setting `pad_token_id` to `eos_token_id`:128009 for open-end generation.\n",
      " 76%|█████████████████████████████████████████████████████████████▉                   | 367/480 [07:18<02:19,  1.24s/it]Setting `pad_token_id` to `eos_token_id`:128009 for open-end generation.\n",
      "Setting `pad_token_id` to `eos_token_id`:128009 for open-end generation.\n",
      " 77%|██████████████████████████████████████████████████████████████▎                  | 369/480 [07:20<02:10,  1.17s/it]Setting `pad_token_id` to `eos_token_id`:128009 for open-end generation.\n",
      "Setting `pad_token_id` to `eos_token_id`:128009 for open-end generation.\n",
      " 77%|██████████████████████████████████████████████████████████████▌                  | 371/480 [07:22<02:13,  1.22s/it]Setting `pad_token_id` to `eos_token_id`:128009 for open-end generation.\n",
      "Setting `pad_token_id` to `eos_token_id`:128009 for open-end generation.\n",
      " 78%|██████████████████████████████████████████████████████████████▉                  | 373/480 [07:26<02:26,  1.37s/it]Setting `pad_token_id` to `eos_token_id`:128009 for open-end generation.\n",
      "Setting `pad_token_id` to `eos_token_id`:128009 for open-end generation.\n",
      " 78%|███████████████████████████████████████████████████████████████▎                 | 375/480 [07:30<02:43,  1.56s/it]Setting `pad_token_id` to `eos_token_id`:128009 for open-end generation.\n",
      "Setting `pad_token_id` to `eos_token_id`:128009 for open-end generation.\n",
      " 79%|███████████████████████████████████████████████████████████████▌                 | 377/480 [07:32<02:26,  1.43s/it]Setting `pad_token_id` to `eos_token_id`:128009 for open-end generation.\n",
      "Setting `pad_token_id` to `eos_token_id`:128009 for open-end generation.\n",
      " 79%|███████████████████████████████████████████████████████████████▉                 | 379/480 [07:35<02:19,  1.38s/it]Setting `pad_token_id` to `eos_token_id`:128009 for open-end generation.\n",
      "Setting `pad_token_id` to `eos_token_id`:128009 for open-end generation.\n",
      " 79%|████████████████████████████████████████████████████████████████▎                | 381/480 [07:37<02:18,  1.40s/it]Setting `pad_token_id` to `eos_token_id`:128009 for open-end generation.\n",
      "Setting `pad_token_id` to `eos_token_id`:128009 for open-end generation.\n",
      "Setting `pad_token_id` to `eos_token_id`:128009 for open-end generation.\n",
      " 80%|████████████████████████████████████████████████████████████████▊                | 384/480 [07:40<01:49,  1.14s/it]Setting `pad_token_id` to `eos_token_id`:128009 for open-end generation.\n",
      "Setting `pad_token_id` to `eos_token_id`:128009 for open-end generation.\n",
      " 80%|█████████████████████████████████████████████████████████████████▏               | 386/480 [07:43<01:55,  1.23s/it]Setting `pad_token_id` to `eos_token_id`:128009 for open-end generation.\n",
      "Setting `pad_token_id` to `eos_token_id`:128009 for open-end generation.\n",
      " 81%|█████████████████████████████████████████████████████████████████▍               | 388/480 [07:45<01:49,  1.19s/it]Setting `pad_token_id` to `eos_token_id`:128009 for open-end generation.\n",
      "Setting `pad_token_id` to `eos_token_id`:128009 for open-end generation.\n",
      "Setting `pad_token_id` to `eos_token_id`:128009 for open-end generation.\n",
      " 81%|█████████████████████████████████████████████████████████████████▉               | 391/480 [07:48<01:37,  1.10s/it]Setting `pad_token_id` to `eos_token_id`:128009 for open-end generation.\n",
      "Setting `pad_token_id` to `eos_token_id`:128009 for open-end generation.\n",
      " 82%|██████████████████████████████████████████████████████████████████▎              | 393/480 [07:50<01:37,  1.12s/it]Setting `pad_token_id` to `eos_token_id`:128009 for open-end generation.\n",
      "Setting `pad_token_id` to `eos_token_id`:128009 for open-end generation.\n",
      "Setting `pad_token_id` to `eos_token_id`:128009 for open-end generation.\n",
      " 82%|██████████████████████████████████████████████████████████████████▊              | 396/480 [07:53<01:25,  1.02s/it]Setting `pad_token_id` to `eos_token_id`:128009 for open-end generation.\n",
      "Setting `pad_token_id` to `eos_token_id`:128009 for open-end generation.\n",
      " 83%|███████████████████████████████████████████████████████████████████▏             | 398/480 [07:56<01:33,  1.14s/it]Setting `pad_token_id` to `eos_token_id`:128009 for open-end generation.\n",
      "Setting `pad_token_id` to `eos_token_id`:128009 for open-end generation.\n",
      " 83%|███████████████████████████████████████████████████████████████████▌             | 400/480 [07:58<01:38,  1.23s/it]Setting `pad_token_id` to `eos_token_id`:128009 for open-end generation.\n",
      "Setting `pad_token_id` to `eos_token_id`:128009 for open-end generation.\n",
      " 84%|███████████████████████████████████████████████████████████████████▊             | 402/480 [08:01<01:32,  1.18s/it]Setting `pad_token_id` to `eos_token_id`:128009 for open-end generation.\n",
      "Setting `pad_token_id` to `eos_token_id`:128009 for open-end generation.\n",
      "Setting `pad_token_id` to `eos_token_id`:128009 for open-end generation.\n",
      " 84%|████████████████████████████████████████████████████████████████████▎            | 405/480 [08:03<01:18,  1.04s/it]Setting `pad_token_id` to `eos_token_id`:128009 for open-end generation.\n",
      "Setting `pad_token_id` to `eos_token_id`:128009 for open-end generation.\n",
      " 85%|████████████████████████████████████████████████████████████████████▋            | 407/480 [08:06<01:20,  1.10s/it]Setting `pad_token_id` to `eos_token_id`:128009 for open-end generation.\n",
      "Setting `pad_token_id` to `eos_token_id`:128009 for open-end generation.\n",
      " 85%|█████████████████████████████████████████████████████████████████████            | 409/480 [08:08<01:16,  1.07s/it]Setting `pad_token_id` to `eos_token_id`:128009 for open-end generation.\n",
      "Setting `pad_token_id` to `eos_token_id`:128009 for open-end generation.\n",
      " 86%|█████████████████████████████████████████████████████████████████████▎           | 411/480 [08:10<01:16,  1.10s/it]Setting `pad_token_id` to `eos_token_id`:128009 for open-end generation.\n",
      "Setting `pad_token_id` to `eos_token_id`:128009 for open-end generation.\n",
      " 86%|█████████████████████████████████████████████████████████████████████▋           | 413/480 [08:13<01:19,  1.19s/it]Setting `pad_token_id` to `eos_token_id`:128009 for open-end generation.\n",
      "Setting `pad_token_id` to `eos_token_id`:128009 for open-end generation.\n",
      " 86%|██████████████████████████████████████████████████████████████████████           | 415/480 [08:15<01:14,  1.14s/it]Setting `pad_token_id` to `eos_token_id`:128009 for open-end generation.\n",
      "Setting `pad_token_id` to `eos_token_id`:128009 for open-end generation.\n",
      " 87%|██████████████████████████████████████████████████████████████████████▎          | 417/480 [08:17<01:11,  1.14s/it]Setting `pad_token_id` to `eos_token_id`:128009 for open-end generation.\n",
      "Setting `pad_token_id` to `eos_token_id`:128009 for open-end generation.\n",
      " 87%|██████████████████████████████████████████████████████████████████████▋          | 419/480 [08:19<01:09,  1.14s/it]Setting `pad_token_id` to `eos_token_id`:128009 for open-end generation.\n",
      "Setting `pad_token_id` to `eos_token_id`:128009 for open-end generation.\n",
      "Setting `pad_token_id` to `eos_token_id`:128009 for open-end generation.\n",
      " 88%|███████████████████████████████████████████████████████████████████████▏         | 422/480 [08:22<01:00,  1.04s/it]Setting `pad_token_id` to `eos_token_id`:128009 for open-end generation.\n",
      "Setting `pad_token_id` to `eos_token_id`:128009 for open-end generation.\n",
      "Setting `pad_token_id` to `eos_token_id`:128009 for open-end generation.\n",
      " 89%|███████████████████████████████████████████████████████████████████████▋         | 425/480 [08:24<00:51,  1.07it/s]Setting `pad_token_id` to `eos_token_id`:128009 for open-end generation.\n",
      "Setting `pad_token_id` to `eos_token_id`:128009 for open-end generation.\n",
      "Setting `pad_token_id` to `eos_token_id`:128009 for open-end generation.\n",
      " 89%|████████████████████████████████████████████████████████████████████████▏        | 428/480 [08:28<00:56,  1.08s/it]Setting `pad_token_id` to `eos_token_id`:128009 for open-end generation.\n",
      "Setting `pad_token_id` to `eos_token_id`:128009 for open-end generation.\n",
      " 90%|████████████████████████████████████████████████████████████████████████▌        | 430/480 [08:31<00:55,  1.11s/it]Setting `pad_token_id` to `eos_token_id`:128009 for open-end generation.\n",
      "Setting `pad_token_id` to `eos_token_id`:128009 for open-end generation.\n",
      " 90%|████████████████████████████████████████████████████████████████████████▉        | 432/480 [08:33<00:55,  1.16s/it]Setting `pad_token_id` to `eos_token_id`:128009 for open-end generation.\n",
      "Setting `pad_token_id` to `eos_token_id`:128009 for open-end generation.\n",
      " 90%|█████████████████████████████████████████████████████████████████████████▏       | 434/480 [08:36<00:52,  1.15s/it]Setting `pad_token_id` to `eos_token_id`:128009 for open-end generation.\n",
      "Setting `pad_token_id` to `eos_token_id`:128009 for open-end generation.\n",
      "Setting `pad_token_id` to `eos_token_id`:128009 for open-end generation.\n",
      " 91%|█████████████████████████████████████████████████████████████████████████▋       | 437/480 [08:39<00:48,  1.13s/it]Setting `pad_token_id` to `eos_token_id`:128009 for open-end generation.\n",
      "Setting `pad_token_id` to `eos_token_id`:128009 for open-end generation.\n",
      " 91%|██████████████████████████████████████████████████████████████████████████       | 439/480 [08:42<00:49,  1.20s/it]Setting `pad_token_id` to `eos_token_id`:128009 for open-end generation.\n",
      "Setting `pad_token_id` to `eos_token_id`:128009 for open-end generation.\n",
      " 92%|██████████████████████████████████████████████████████████████████████████▍      | 441/480 [08:45<00:50,  1.29s/it]Setting `pad_token_id` to `eos_token_id`:128009 for open-end generation.\n",
      "Setting `pad_token_id` to `eos_token_id`:128009 for open-end generation.\n",
      "Setting `pad_token_id` to `eos_token_id`:128009 for open-end generation.\n",
      " 92%|██████████████████████████████████████████████████████████████████████████▉      | 444/480 [08:47<00:40,  1.12s/it]Setting `pad_token_id` to `eos_token_id`:128009 for open-end generation.\n",
      "Setting `pad_token_id` to `eos_token_id`:128009 for open-end generation.\n",
      " 93%|███████████████████████████████████████████████████████████████████████████▎     | 446/480 [08:50<00:39,  1.17s/it]Setting `pad_token_id` to `eos_token_id`:128009 for open-end generation.\n",
      "Setting `pad_token_id` to `eos_token_id`:128009 for open-end generation.\n",
      " 93%|███████████████████████████████████████████████████████████████████████████▌     | 448/480 [08:52<00:38,  1.19s/it]Setting `pad_token_id` to `eos_token_id`:128009 for open-end generation.\n"
     ]
    },
    {
     "name": "stderr",
     "output_type": "stream",
     "text": [
      "Setting `pad_token_id` to `eos_token_id`:128009 for open-end generation.\n",
      "Setting `pad_token_id` to `eos_token_id`:128009 for open-end generation.\n",
      " 94%|████████████████████████████████████████████████████████████████████████████     | 451/480 [08:55<00:32,  1.13s/it]Setting `pad_token_id` to `eos_token_id`:128009 for open-end generation.\n",
      "Setting `pad_token_id` to `eos_token_id`:128009 for open-end generation.\n",
      "Setting `pad_token_id` to `eos_token_id`:128009 for open-end generation.\n",
      " 95%|████████████████████████████████████████████████████████████████████████████▌    | 454/480 [08:58<00:28,  1.09s/it]Setting `pad_token_id` to `eos_token_id`:128009 for open-end generation.\n",
      "Setting `pad_token_id` to `eos_token_id`:128009 for open-end generation.\n",
      " 95%|████████████████████████████████████████████████████████████████████████████▉    | 456/480 [09:02<00:28,  1.21s/it]Setting `pad_token_id` to `eos_token_id`:128009 for open-end generation.\n",
      "Setting `pad_token_id` to `eos_token_id`:128009 for open-end generation.\n",
      " 95%|█████████████████████████████████████████████████████████████████████████████▎   | 458/480 [09:04<00:26,  1.22s/it]Setting `pad_token_id` to `eos_token_id`:128009 for open-end generation.\n",
      "Setting `pad_token_id` to `eos_token_id`:128009 for open-end generation.\n",
      "Setting `pad_token_id` to `eos_token_id`:128009 for open-end generation.\n",
      " 96%|█████████████████████████████████████████████████████████████████████████████▊   | 461/480 [09:07<00:22,  1.17s/it]Setting `pad_token_id` to `eos_token_id`:128009 for open-end generation.\n",
      "Setting `pad_token_id` to `eos_token_id`:128009 for open-end generation.\n",
      " 96%|██████████████████████████████████████████████████████████████████████████████▏  | 463/480 [09:10<00:21,  1.24s/it]Setting `pad_token_id` to `eos_token_id`:128009 for open-end generation.\n",
      "Setting `pad_token_id` to `eos_token_id`:128009 for open-end generation.\n",
      " 97%|██████████████████████████████████████████████████████████████████████████████▍  | 465/480 [09:13<00:19,  1.30s/it]Setting `pad_token_id` to `eos_token_id`:128009 for open-end generation.\n",
      "Setting `pad_token_id` to `eos_token_id`:128009 for open-end generation.\n",
      " 97%|██████████████████████████████████████████████████████████████████████████████▊  | 467/480 [09:16<00:17,  1.38s/it]Setting `pad_token_id` to `eos_token_id`:128009 for open-end generation.\n",
      "Setting `pad_token_id` to `eos_token_id`:128009 for open-end generation.\n",
      " 98%|███████████████████████████████████████████████████████████████████████████████▏ | 469/480 [09:18<00:14,  1.30s/it]Setting `pad_token_id` to `eos_token_id`:128009 for open-end generation.\n",
      "Setting `pad_token_id` to `eos_token_id`:128009 for open-end generation.\n",
      " 98%|███████████████████████████████████████████████████████████████████████████████▍ | 471/480 [09:21<00:10,  1.22s/it]Setting `pad_token_id` to `eos_token_id`:128009 for open-end generation.\n",
      "Setting `pad_token_id` to `eos_token_id`:128009 for open-end generation.\n",
      "Setting `pad_token_id` to `eos_token_id`:128009 for open-end generation.\n",
      " 99%|███████████████████████████████████████████████████████████████████████████████▉ | 474/480 [09:24<00:07,  1.17s/it]Setting `pad_token_id` to `eos_token_id`:128009 for open-end generation.\n",
      "Setting `pad_token_id` to `eos_token_id`:128009 for open-end generation.\n",
      "Setting `pad_token_id` to `eos_token_id`:128009 for open-end generation.\n",
      " 99%|████████████████████████████████████████████████████████████████████████████████▍| 477/480 [09:27<00:03,  1.08s/it]Setting `pad_token_id` to `eos_token_id`:128009 for open-end generation.\n",
      "Setting `pad_token_id` to `eos_token_id`:128009 for open-end generation.\n",
      "100%|████████████████████████████████████████████████████████████████████████████████▊| 479/480 [09:30<00:01,  1.18s/it]Setting `pad_token_id` to `eos_token_id`:128009 for open-end generation.\n",
      "100%|█████████████████████████████████████████████████████████████████████████████████| 480/480 [09:31<00:00,  1.19s/it]\n"
     ]
    }
   ],
   "source": [
    "INSTRUCTIONS = \"\"\"Context: natural language inference.\n",
    "\n",
    "Given a premise (#P) and a hypothesis (#H), output \"Reason: {reason}. Label: {label}\" where {reason} is a short sentence and {label} is one of \"entailment,\" \"contradiction,\" or \"neutral.\"\n",
    "\n",
    "Use \"entailment\" when the premise necessarily entails the truth of the hypothesis.\n",
    "\n",
    "Use \"contradiction\" when premise and hypothesis are mutually exclusive/contradictory. Pay attention to logical inconsistencies, such as expressions suggesting presence vs. absence, etc.\n",
    "\n",
    "Use \"neutral\" when there's no contradiction, but the premise doesn't necessarily entail the hypothesis.\n",
    "\n",
    "Examples:\n",
    "\n",
    "1. #P: increased pulmonary edema. | #H: worsened pulmonary edema.\n",
    "Label: entailment\n",
    "\n",
    "2. #P: No pulmonary edema, consolidation, or pneumothorax. | #H: No focal consolidation, pleural effusion, or pneumothorax is present.\n",
    "Label: neutral\"\"\"\n",
    "\n",
    "outputs = generate_text_with_llama3(\n",
    "    system_instructions=INSTRUCTIONS,\n",
    "    user_input_texts=nli_queries,\n",
    "    do_sample=False,\n",
    "    temperature=None,\n",
    "    top_p=None,\n",
    "    device=\"cuda:0\",\n",
    "    device_map=None,\n",
    ")"
   ]
  },
  {
   "cell_type": "code",
   "execution_count": 38,
   "id": "c3904e3b",
   "metadata": {},
   "outputs": [],
   "source": [
    "from medvqa.utils.files import save_pickle"
   ]
  },
  {
   "cell_type": "code",
   "execution_count": 10,
   "id": "0f74dfd1",
   "metadata": {},
   "outputs": [
    {
     "data": {
      "text/plain": [
       "'Reason: The premise and hypothesis are identical, except for the phrase \"is detected\".\\nLabel: entailment'"
      ]
     },
     "execution_count": 10,
     "metadata": {},
     "output_type": "execute_result"
    }
   ],
   "source": [
    "outputs[-3]"
   ]
  },
  {
   "cell_type": "code",
   "execution_count": 11,
   "id": "96ff8d4b",
   "metadata": {},
   "outputs": [
    {
     "data": {
      "text/plain": [
       "'Reason: The absence of an acute osseous abnormality implies the absence of a focal infiltrate.\\nLabel: entailment'"
      ]
     },
     "execution_count": 11,
     "metadata": {},
     "output_type": "execute_result"
    }
   ],
   "source": [
    "outputs[-5]"
   ]
  },
  {
   "cell_type": "code",
   "execution_count": 12,
   "id": "b33b91fb",
   "metadata": {},
   "outputs": [
    {
     "data": {
      "text/plain": [
       "{'pair_id': '0',\n",
       " 'sentence1': 'No free air below the right hemidiaphragm is seen.',\n",
       " 'sentence2': 'There is again mild relative elevation of the right hemidiaphragm.',\n",
       " 'gold_label': 'neutral'}"
      ]
     },
     "execution_count": 12,
     "metadata": {},
     "output_type": "execute_result"
    }
   ],
   "source": [
    "test_rows[0]"
   ]
  },
  {
   "cell_type": "code",
   "execution_count": 13,
   "id": "8d9e4255",
   "metadata": {},
   "outputs": [
    {
     "name": "stdout",
     "output_type": "stream",
     "text": [
      "Given a list of radiological factual statements (#F) and a hypothesis (#H), output \"Reason: {reason}. Label: {label}\" where {reason} is a short explanatory sentence and {label} is one of {definitely true, likely true, unknown, likely false, definitely false}.\n"
     ]
    }
   ],
   "source": [
    "from medvqa.eval_NLI_v4 import _compute_confusion_matrix"
   ]
  },
  {
   "cell_type": "code",
   "execution_count": 20,
   "id": "14a47ed2",
   "metadata": {},
   "outputs": [],
   "source": [
    "NLI_CLASSES = ['entailment', 'neutral', 'contradiction']"
   ]
  },
  {
   "cell_type": "code",
   "execution_count": 27,
   "id": "55d20cc7",
   "metadata": {},
   "outputs": [
    {
     "name": "stdout",
     "output_type": "stream",
     "text": [
      "193 Reason: The two statements are unrelated and do not provide any logical connection between the absence of acute pulmonary parenchymal infiltrates and the absence of displaced rib fracture. fracture.\n"
     ]
    }
   ],
   "source": [
    "pred_labels = []\n",
    "for j, x in enumerate(outputs):\n",
    "    xx = x.split()[-1]\n",
    "    found = False\n",
    "    for i, y in enumerate(NLI_CLASSES):\n",
    "        if xx == y:\n",
    "            pred_labels.append(i)\n",
    "            found = True\n",
    "            break\n",
    "    if not found:\n",
    "        print(j, x, xx)\n",
    "        pred_labels.append(None)"
   ]
  },
  {
   "cell_type": "code",
   "execution_count": 18,
   "id": "f1fabeb7",
   "metadata": {},
   "outputs": [],
   "source": [
    "from collections import Counter"
   ]
  },
  {
   "cell_type": "code",
   "execution_count": 28,
   "id": "dbbcf781",
   "metadata": {},
   "outputs": [
    {
     "data": {
      "text/plain": [
       "{'pair_id': '193',\n",
       " 'sentence1': 'No acute pulmonary parenchymal infiltrates can be identified.',\n",
       " 'sentence2': 'No displaced rib fracture is definitively identified.',\n",
       " 'gold_label': 'neutral'}"
      ]
     },
     "execution_count": 28,
     "metadata": {},
     "output_type": "execute_result"
    }
   ],
   "source": [
    "test_rows[193]"
   ]
  },
  {
   "cell_type": "code",
   "execution_count": 31,
   "id": "edea71c6",
   "metadata": {},
   "outputs": [],
   "source": [
    "pred_labels[193] = NLI_CLASSES.index('neutral')"
   ]
  },
  {
   "cell_type": "code",
   "execution_count": 19,
   "id": "50478cb1",
   "metadata": {},
   "outputs": [
    {
     "data": {
      "text/plain": [
       "Counter({1: 154, 0: 248, 2: 77, None: 1})"
      ]
     },
     "execution_count": 19,
     "metadata": {},
     "output_type": "execute_result"
    }
   ],
   "source": [
    "Counter(pred_labels)"
   ]
  },
  {
   "cell_type": "code",
   "execution_count": 22,
   "id": "e4de3af5",
   "metadata": {},
   "outputs": [],
   "source": [
    "gt_labels = [NLI_CLASSES.index(x['gold_label']) for x in test_rows]"
   ]
  },
  {
   "cell_type": "code",
   "execution_count": 32,
   "id": "dc00ac75",
   "metadata": {},
   "outputs": [],
   "source": [
    "import numpy as np\n",
    "pred_labels = np.array(pred_labels)\n",
    "gt_labels = np.array(gt_labels)"
   ]
  },
  {
   "cell_type": "code",
   "execution_count": 33,
   "id": "b8406e81",
   "metadata": {},
   "outputs": [
    {
     "name": "stdout",
     "output_type": "stream",
     "text": [
      "\u001b[1m\u001b[34mAccuracy: 0.6146\u001b[0m\n"
     ]
    },
    {
     "data": {
      "image/png": "[encoded data removed]",
      "text/plain": [
       "<Figure size 800x600 with 2 Axes>"
      ]
     },
     "metadata": {},
     "output_type": "display_data"
    }
   ],
   "source": [
    "_compute_confusion_matrix(pred_labels, gt_labels)"
   ]
  },
  {
   "cell_type": "code",
   "execution_count": 6,
   "id": "35f9fd28",
   "metadata": {},
   "outputs": [
    {
     "data": {
      "application/vnd.jupyter.widget-view+json": {
       "model_id": "f3abb6f4bcc74bbc8687802c4941cfe5",
       "version_major": 2,
       "version_minor": 0
      },
      "text/plain": [
       "Loading checkpoint shards:   0%|          | 0/4 [00:00<?, ?it/s]"
      ]
     },
     "metadata": {},
     "output_type": "display_data"
    },
    {
     "name": "stderr",
     "output_type": "stream",
     "text": [
      "Special tokens have been added in the vocabulary, make sure the associated word embeddings are fine-tuned or trained.\n",
      "  0%|                                                                                           | 0/480 [00:00<?, ?it/s]Setting `pad_token_id` to `eos_token_id`:128009 for open-end generation.\n",
      "Setting `pad_token_id` to `eos_token_id`:128009 for open-end generation.\n",
      "Setting `pad_token_id` to `eos_token_id`:128009 for open-end generation.\n",
      "Setting `pad_token_id` to `eos_token_id`:128009 for open-end generation.\n",
      "  1%|▋                                                                                  | 4/480 [00:02<05:14,  1.51it/s]Setting `pad_token_id` to `eos_token_id`:128009 for open-end generation.\n",
      "Setting `pad_token_id` to `eos_token_id`:128009 for open-end generation.\n",
      "Setting `pad_token_id` to `eos_token_id`:128009 for open-end generation.\n",
      "Setting `pad_token_id` to `eos_token_id`:128009 for open-end generation.\n",
      "  2%|█▍                                                                                 | 8/480 [00:10<11:45,  1.50s/it]Setting `pad_token_id` to `eos_token_id`:128009 for open-end generation.\n",
      "Setting `pad_token_id` to `eos_token_id`:128009 for open-end generation.\n",
      "You seem to be using the pipelines sequentially on GPU. In order to maximize efficiency please use a dataset\n",
      "Setting `pad_token_id` to `eos_token_id`:128009 for open-end generation.\n",
      "Setting `pad_token_id` to `eos_token_id`:128009 for open-end generation.\n",
      "  2%|██                                                                                | 12/480 [00:13<08:48,  1.13s/it]Setting `pad_token_id` to `eos_token_id`:128009 for open-end generation.\n",
      "Setting `pad_token_id` to `eos_token_id`:128009 for open-end generation.\n",
      "Setting `pad_token_id` to `eos_token_id`:128009 for open-end generation.\n",
      "  3%|██▌                                                                               | 15/480 [00:16<08:27,  1.09s/it]Setting `pad_token_id` to `eos_token_id`:128009 for open-end generation.\n",
      "Setting `pad_token_id` to `eos_token_id`:128009 for open-end generation.\n",
      "Setting `pad_token_id` to `eos_token_id`:128009 for open-end generation.\n",
      "  4%|███                                                                               | 18/480 [00:19<07:54,  1.03s/it]Setting `pad_token_id` to `eos_token_id`:128009 for open-end generation.\n",
      "Setting `pad_token_id` to `eos_token_id`:128009 for open-end generation.\n",
      "Setting `pad_token_id` to `eos_token_id`:128009 for open-end generation.\n",
      "  4%|███▌                                                                              | 21/480 [00:28<12:19,  1.61s/it]Setting `pad_token_id` to `eos_token_id`:128009 for open-end generation.\n",
      "Setting `pad_token_id` to `eos_token_id`:128009 for open-end generation.\n",
      "Setting `pad_token_id` to `eos_token_id`:128009 for open-end generation.\n",
      "Setting `pad_token_id` to `eos_token_id`:128009 for open-end generation.\n",
      "Setting `pad_token_id` to `eos_token_id`:128009 for open-end generation.\n",
      "  5%|████▍                                                                             | 26/480 [00:30<08:43,  1.15s/it]Setting `pad_token_id` to `eos_token_id`:128009 for open-end generation.\n",
      "Setting `pad_token_id` to `eos_token_id`:128009 for open-end generation.\n",
      "Setting `pad_token_id` to `eos_token_id`:128009 for open-end generation.\n",
      "  6%|████▉                                                                             | 29/480 [00:36<10:18,  1.37s/it]Setting `pad_token_id` to `eos_token_id`:128009 for open-end generation.\n",
      "Setting `pad_token_id` to `eos_token_id`:128009 for open-end generation.\n",
      "  6%|█████▎                                                                            | 31/480 [00:39<10:30,  1.41s/it]Setting `pad_token_id` to `eos_token_id`:128009 for open-end generation.\n",
      "Setting `pad_token_id` to `eos_token_id`:128009 for open-end generation.\n",
      "  7%|█████▋                                                                            | 33/480 [00:43<11:06,  1.49s/it]Setting `pad_token_id` to `eos_token_id`:128009 for open-end generation.\n",
      "Setting `pad_token_id` to `eos_token_id`:128009 for open-end generation.\n",
      "Setting `pad_token_id` to `eos_token_id`:128009 for open-end generation.\n",
      "  8%|██████▏                                                                           | 36/480 [00:47<10:26,  1.41s/it]Setting `pad_token_id` to `eos_token_id`:128009 for open-end generation.\n",
      "Setting `pad_token_id` to `eos_token_id`:128009 for open-end generation.\n",
      "  8%|██████▍                                                                           | 38/480 [00:53<13:26,  1.82s/it]Setting `pad_token_id` to `eos_token_id`:128009 for open-end generation.\n",
      "Setting `pad_token_id` to `eos_token_id`:128009 for open-end generation.\n",
      "  8%|██████▊                                                                           | 40/480 [00:57<13:31,  1.85s/it]Setting `pad_token_id` to `eos_token_id`:128009 for open-end generation.\n",
      "Setting `pad_token_id` to `eos_token_id`:128009 for open-end generation.\n",
      "Setting `pad_token_id` to `eos_token_id`:128009 for open-end generation.\n",
      "  9%|███████▎                                                                          | 43/480 [01:01<12:19,  1.69s/it]Setting `pad_token_id` to `eos_token_id`:128009 for open-end generation.\n",
      "Setting `pad_token_id` to `eos_token_id`:128009 for open-end generation.\n",
      "  9%|███████▋                                                                          | 45/480 [01:03<11:20,  1.56s/it]Setting `pad_token_id` to `eos_token_id`:128009 for open-end generation.\n",
      "Setting `pad_token_id` to `eos_token_id`:128009 for open-end generation.\n",
      " 10%|████████                                                                          | 47/480 [01:07<11:56,  1.66s/it]Setting `pad_token_id` to `eos_token_id`:128009 for open-end generation.\n",
      "Setting `pad_token_id` to `eos_token_id`:128009 for open-end generation.\n",
      "Setting `pad_token_id` to `eos_token_id`:128009 for open-end generation.\n",
      " 10%|████████▌                                                                         | 50/480 [01:10<09:44,  1.36s/it]Setting `pad_token_id` to `eos_token_id`:128009 for open-end generation.\n",
      "Setting `pad_token_id` to `eos_token_id`:128009 for open-end generation.\n",
      " 11%|████████▉                                                                         | 52/480 [01:13<10:06,  1.42s/it]Setting `pad_token_id` to `eos_token_id`:128009 for open-end generation.\n",
      "Setting `pad_token_id` to `eos_token_id`:128009 for open-end generation.\n",
      " 11%|█████████▏                                                                        | 54/480 [01:16<10:44,  1.51s/it]Setting `pad_token_id` to `eos_token_id`:128009 for open-end generation.\n",
      "Setting `pad_token_id` to `eos_token_id`:128009 for open-end generation.\n",
      "Setting `pad_token_id` to `eos_token_id`:128009 for open-end generation.\n",
      " 12%|█████████▋                                                                        | 57/480 [01:19<09:16,  1.32s/it]Setting `pad_token_id` to `eos_token_id`:128009 for open-end generation.\n",
      "Setting `pad_token_id` to `eos_token_id`:128009 for open-end generation.\n",
      " 12%|██████████                                                                        | 59/480 [01:24<11:12,  1.60s/it]Setting `pad_token_id` to `eos_token_id`:128009 for open-end generation.\n",
      "Setting `pad_token_id` to `eos_token_id`:128009 for open-end generation.\n",
      " 13%|██████████▍                                                                       | 61/480 [01:26<10:21,  1.48s/it]Setting `pad_token_id` to `eos_token_id`:128009 for open-end generation.\n",
      "Setting `pad_token_id` to `eos_token_id`:128009 for open-end generation.\n",
      " 13%|██████████▊                                                                       | 63/480 [01:29<09:52,  1.42s/it]Setting `pad_token_id` to `eos_token_id`:128009 for open-end generation.\n",
      "Setting `pad_token_id` to `eos_token_id`:128009 for open-end generation.\n",
      " 14%|███████████                                                                       | 65/480 [01:32<10:24,  1.50s/it]Setting `pad_token_id` to `eos_token_id`:128009 for open-end generation.\n",
      "Setting `pad_token_id` to `eos_token_id`:128009 for open-end generation.\n",
      " 14%|███████████▍                                                                      | 67/480 [01:36<10:53,  1.58s/it]Setting `pad_token_id` to `eos_token_id`:128009 for open-end generation.\n",
      "Setting `pad_token_id` to `eos_token_id`:128009 for open-end generation.\n",
      " 14%|███████████▊                                                                      | 69/480 [01:39<10:47,  1.58s/it]Setting `pad_token_id` to `eos_token_id`:128009 for open-end generation.\n",
      "Setting `pad_token_id` to `eos_token_id`:128009 for open-end generation.\n",
      " 15%|████████████▏                                                                     | 71/480 [01:42<10:07,  1.49s/it]Setting `pad_token_id` to `eos_token_id`:128009 for open-end generation.\n",
      "Setting `pad_token_id` to `eos_token_id`:128009 for open-end generation.\n",
      "Setting `pad_token_id` to `eos_token_id`:128009 for open-end generation.\n",
      "Setting `pad_token_id` to `eos_token_id`:128009 for open-end generation.\n",
      " 16%|████████████▊                                                                     | 75/480 [01:47<09:22,  1.39s/it]Setting `pad_token_id` to `eos_token_id`:128009 for open-end generation.\n",
      "Setting `pad_token_id` to `eos_token_id`:128009 for open-end generation.\n",
      "Setting `pad_token_id` to `eos_token_id`:128009 for open-end generation.\n",
      "Setting `pad_token_id` to `eos_token_id`:128009 for open-end generation.\n",
      " 16%|█████████████▍                                                                    | 79/480 [01:51<08:09,  1.22s/it]Setting `pad_token_id` to `eos_token_id`:128009 for open-end generation.\n",
      "Setting `pad_token_id` to `eos_token_id`:128009 for open-end generation.\n",
      " 17%|█████████████▊                                                                    | 81/480 [01:53<08:12,  1.23s/it]Setting `pad_token_id` to `eos_token_id`:128009 for open-end generation.\n",
      "Setting `pad_token_id` to `eos_token_id`:128009 for open-end generation.\n",
      " 17%|██████████████▏                                                                   | 83/480 [01:57<09:38,  1.46s/it]Setting `pad_token_id` to `eos_token_id`:128009 for open-end generation.\n",
      "Setting `pad_token_id` to `eos_token_id`:128009 for open-end generation.\n",
      " 18%|██████████████▌                                                                   | 85/480 [02:00<09:09,  1.39s/it]Setting `pad_token_id` to `eos_token_id`:128009 for open-end generation.\n",
      "Setting `pad_token_id` to `eos_token_id`:128009 for open-end generation.\n",
      "Setting `pad_token_id` to `eos_token_id`:128009 for open-end generation.\n",
      "Setting `pad_token_id` to `eos_token_id`:128009 for open-end generation.\n",
      "Setting `pad_token_id` to `eos_token_id`:128009 for open-end generation.\n",
      "Setting `pad_token_id` to `eos_token_id`:128009 for open-end generation.\n",
      " 19%|███████████████▌                                                                  | 91/480 [02:05<07:02,  1.09s/it]Setting `pad_token_id` to `eos_token_id`:128009 for open-end generation.\n",
      "Setting `pad_token_id` to `eos_token_id`:128009 for open-end generation.\n",
      " 19%|███████████████▉                                                                  | 93/480 [02:10<08:53,  1.38s/it]Setting `pad_token_id` to `eos_token_id`:128009 for open-end generation.\n",
      "Setting `pad_token_id` to `eos_token_id`:128009 for open-end generation.\n",
      " 20%|████████████████▏                                                                 | 95/480 [02:12<08:34,  1.34s/it]Setting `pad_token_id` to `eos_token_id`:128009 for open-end generation.\n",
      "Setting `pad_token_id` to `eos_token_id`:128009 for open-end generation.\n",
      " 20%|████████████████▌                                                                 | 97/480 [02:15<08:33,  1.34s/it]Setting `pad_token_id` to `eos_token_id`:128009 for open-end generation.\n",
      "Setting `pad_token_id` to `eos_token_id`:128009 for open-end generation.\n",
      "Setting `pad_token_id` to `eos_token_id`:128009 for open-end generation.\n",
      "Setting `pad_token_id` to `eos_token_id`:128009 for open-end generation.\n",
      "Setting `pad_token_id` to `eos_token_id`:128009 for open-end generation.\n",
      " 21%|█████████████████▏                                                               | 102/480 [02:17<05:55,  1.06it/s]Setting `pad_token_id` to `eos_token_id`:128009 for open-end generation.\n",
      "Setting `pad_token_id` to `eos_token_id`:128009 for open-end generation.\n",
      "Setting `pad_token_id` to `eos_token_id`:128009 for open-end generation.\n",
      "Setting `pad_token_id` to `eos_token_id`:128009 for open-end generation.\n",
      "Setting `pad_token_id` to `eos_token_id`:128009 for open-end generation.\n",
      "Setting `pad_token_id` to `eos_token_id`:128009 for open-end generation.\n",
      "Setting `pad_token_id` to `eos_token_id`:128009 for open-end generation.\n",
      " 23%|██████████████████▍                                                              | 109/480 [02:22<04:51,  1.27it/s]Setting `pad_token_id` to `eos_token_id`:128009 for open-end generation.\n",
      "Setting `pad_token_id` to `eos_token_id`:128009 for open-end generation.\n",
      "Setting `pad_token_id` to `eos_token_id`:128009 for open-end generation.\n",
      " 23%|██████████████████▉                                                              | 112/480 [02:28<06:33,  1.07s/it]Setting `pad_token_id` to `eos_token_id`:128009 for open-end generation.\n",
      "Setting `pad_token_id` to `eos_token_id`:128009 for open-end generation.\n",
      "Setting `pad_token_id` to `eos_token_id`:128009 for open-end generation.\n",
      "Setting `pad_token_id` to `eos_token_id`:128009 for open-end generation.\n",
      " 24%|███████████████████▌                                                             | 116/480 [02:33<06:49,  1.13s/it]Setting `pad_token_id` to `eos_token_id`:128009 for open-end generation.\n",
      "Setting `pad_token_id` to `eos_token_id`:128009 for open-end generation.\n",
      "Setting `pad_token_id` to `eos_token_id`:128009 for open-end generation.\n",
      "Setting `pad_token_id` to `eos_token_id`:128009 for open-end generation.\n",
      "Setting `pad_token_id` to `eos_token_id`:128009 for open-end generation.\n",
      "Setting `pad_token_id` to `eos_token_id`:128009 for open-end generation.\n",
      "Setting `pad_token_id` to `eos_token_id`:128009 for open-end generation.\n",
      "Setting `pad_token_id` to `eos_token_id`:128009 for open-end generation.\n",
      "Setting `pad_token_id` to `eos_token_id`:128009 for open-end generation.\n",
      " 26%|█████████████████████                                                            | 125/480 [02:37<04:53,  1.21it/s]Setting `pad_token_id` to `eos_token_id`:128009 for open-end generation.\n",
      "Setting `pad_token_id` to `eos_token_id`:128009 for open-end generation.\n",
      "Setting `pad_token_id` to `eos_token_id`:128009 for open-end generation.\n",
      "Setting `pad_token_id` to `eos_token_id`:128009 for open-end generation.\n",
      "Setting `pad_token_id` to `eos_token_id`:128009 for open-end generation.\n",
      " 27%|█████████████████████▉                                                           | 130/480 [02:41<04:36,  1.27it/s]Setting `pad_token_id` to `eos_token_id`:128009 for open-end generation.\n",
      "Setting `pad_token_id` to `eos_token_id`:128009 for open-end generation.\n",
      "Setting `pad_token_id` to `eos_token_id`:128009 for open-end generation.\n",
      " 28%|██████████████████████▍                                                          | 133/480 [02:47<05:48,  1.00s/it]Setting `pad_token_id` to `eos_token_id`:128009 for open-end generation.\n",
      "Setting `pad_token_id` to `eos_token_id`:128009 for open-end generation.\n",
      "Setting `pad_token_id` to `eos_token_id`:128009 for open-end generation.\n",
      " 28%|██████████████████████▉                                                          | 136/480 [02:51<06:29,  1.13s/it]Setting `pad_token_id` to `eos_token_id`:128009 for open-end generation.\n",
      "Setting `pad_token_id` to `eos_token_id`:128009 for open-end generation.\n",
      " 29%|███████████████████████▎                                                         | 138/480 [02:56<07:33,  1.33s/it]Setting `pad_token_id` to `eos_token_id`:128009 for open-end generation.\n",
      "Setting `pad_token_id` to `eos_token_id`:128009 for open-end generation.\n",
      " 29%|███████████████████████▋                                                         | 140/480 [03:01<09:05,  1.60s/it]Setting `pad_token_id` to `eos_token_id`:128009 for open-end generation.\n",
      "Setting `pad_token_id` to `eos_token_id`:128009 for open-end generation.\n",
      "Setting `pad_token_id` to `eos_token_id`:128009 for open-end generation.\n",
      "Setting `pad_token_id` to `eos_token_id`:128009 for open-end generation.\n"
     ]
    },
    {
     "name": "stderr",
     "output_type": "stream",
     "text": [
      " 30%|████████████████████████▎                                                        | 144/480 [03:04<07:19,  1.31s/it]Setting `pad_token_id` to `eos_token_id`:128009 for open-end generation.\n",
      "Setting `pad_token_id` to `eos_token_id`:128009 for open-end generation.\n",
      " 30%|████████████████████████▋                                                        | 146/480 [03:10<09:03,  1.63s/it]Setting `pad_token_id` to `eos_token_id`:128009 for open-end generation.\n",
      "Setting `pad_token_id` to `eos_token_id`:128009 for open-end generation.\n",
      "Setting `pad_token_id` to `eos_token_id`:128009 for open-end generation.\n",
      " 31%|█████████████████████████▏                                                       | 149/480 [03:13<07:52,  1.43s/it]Setting `pad_token_id` to `eos_token_id`:128009 for open-end generation.\n",
      "Setting `pad_token_id` to `eos_token_id`:128009 for open-end generation.\n",
      "Setting `pad_token_id` to `eos_token_id`:128009 for open-end generation.\n",
      " 32%|█████████████████████████▋                                                       | 152/480 [03:18<08:09,  1.49s/it]Setting `pad_token_id` to `eos_token_id`:128009 for open-end generation.\n",
      "Setting `pad_token_id` to `eos_token_id`:128009 for open-end generation.\n",
      "Setting `pad_token_id` to `eos_token_id`:128009 for open-end generation.\n",
      "Setting `pad_token_id` to `eos_token_id`:128009 for open-end generation.\n",
      "Setting `pad_token_id` to `eos_token_id`:128009 for open-end generation.\n",
      " 33%|██████████████████████████▍                                                      | 157/480 [03:23<07:02,  1.31s/it]Setting `pad_token_id` to `eos_token_id`:128009 for open-end generation.\n",
      "Setting `pad_token_id` to `eos_token_id`:128009 for open-end generation.\n",
      "Setting `pad_token_id` to `eos_token_id`:128009 for open-end generation.\n",
      " 33%|███████████████████████████                                                      | 160/480 [03:26<06:23,  1.20s/it]Setting `pad_token_id` to `eos_token_id`:128009 for open-end generation.\n",
      "Setting `pad_token_id` to `eos_token_id`:128009 for open-end generation.\n",
      "Setting `pad_token_id` to `eos_token_id`:128009 for open-end generation.\n",
      " 34%|███████████████████████████▌                                                     | 163/480 [03:28<05:44,  1.09s/it]Setting `pad_token_id` to `eos_token_id`:128009 for open-end generation.\n",
      "Setting `pad_token_id` to `eos_token_id`:128009 for open-end generation.\n",
      "Setting `pad_token_id` to `eos_token_id`:128009 for open-end generation.\n",
      " 35%|████████████████████████████                                                     | 166/480 [03:32<05:46,  1.10s/it]Setting `pad_token_id` to `eos_token_id`:128009 for open-end generation.\n",
      "Setting `pad_token_id` to `eos_token_id`:128009 for open-end generation.\n",
      " 35%|████████████████████████████▎                                                    | 168/480 [03:37<07:30,  1.44s/it]Setting `pad_token_id` to `eos_token_id`:128009 for open-end generation.\n",
      "Setting `pad_token_id` to `eos_token_id`:128009 for open-end generation.\n",
      " 35%|████████████████████████████▋                                                    | 170/480 [03:43<09:14,  1.79s/it]Setting `pad_token_id` to `eos_token_id`:128009 for open-end generation.\n",
      "Setting `pad_token_id` to `eos_token_id`:128009 for open-end generation.\n",
      "Setting `pad_token_id` to `eos_token_id`:128009 for open-end generation.\n",
      "Setting `pad_token_id` to `eos_token_id`:128009 for open-end generation.\n",
      "Setting `pad_token_id` to `eos_token_id`:128009 for open-end generation.\n",
      "Setting `pad_token_id` to `eos_token_id`:128009 for open-end generation.\n",
      "Setting `pad_token_id` to `eos_token_id`:128009 for open-end generation.\n",
      " 37%|█████████████████████████████▊                                                   | 177/480 [03:46<05:16,  1.04s/it]Setting `pad_token_id` to `eos_token_id`:128009 for open-end generation.\n",
      "Setting `pad_token_id` to `eos_token_id`:128009 for open-end generation.\n",
      "Setting `pad_token_id` to `eos_token_id`:128009 for open-end generation.\n",
      " 38%|██████████████████████████████▍                                                  | 180/480 [03:49<05:16,  1.06s/it]Setting `pad_token_id` to `eos_token_id`:128009 for open-end generation.\n",
      "Setting `pad_token_id` to `eos_token_id`:128009 for open-end generation.\n",
      "Setting `pad_token_id` to `eos_token_id`:128009 for open-end generation.\n",
      "Setting `pad_token_id` to `eos_token_id`:128009 for open-end generation.\n",
      "Setting `pad_token_id` to `eos_token_id`:128009 for open-end generation.\n",
      " 39%|███████████████████████████████▏                                                 | 185/480 [03:53<04:29,  1.09it/s]Setting `pad_token_id` to `eos_token_id`:128009 for open-end generation.\n",
      "Setting `pad_token_id` to `eos_token_id`:128009 for open-end generation.\n",
      "Setting `pad_token_id` to `eos_token_id`:128009 for open-end generation.\n",
      " 39%|███████████████████████████████▋                                                 | 188/480 [04:00<06:14,  1.28s/it]Setting `pad_token_id` to `eos_token_id`:128009 for open-end generation.\n",
      "Setting `pad_token_id` to `eos_token_id`:128009 for open-end generation.\n",
      "Setting `pad_token_id` to `eos_token_id`:128009 for open-end generation.\n",
      "Setting `pad_token_id` to `eos_token_id`:128009 for open-end generation.\n",
      "Setting `pad_token_id` to `eos_token_id`:128009 for open-end generation.\n",
      " 40%|████████████████████████████████▌                                                | 193/480 [04:04<05:26,  1.14s/it]Setting `pad_token_id` to `eos_token_id`:128009 for open-end generation.\n",
      "Setting `pad_token_id` to `eos_token_id`:128009 for open-end generation.\n",
      "Setting `pad_token_id` to `eos_token_id`:128009 for open-end generation.\n",
      " 41%|█████████████████████████████████                                                | 196/480 [04:07<05:11,  1.10s/it]Setting `pad_token_id` to `eos_token_id`:128009 for open-end generation.\n",
      "Setting `pad_token_id` to `eos_token_id`:128009 for open-end generation.\n",
      "Setting `pad_token_id` to `eos_token_id`:128009 for open-end generation.\n",
      " 41%|█████████████████████████████████▌                                               | 199/480 [04:10<05:00,  1.07s/it]Setting `pad_token_id` to `eos_token_id`:128009 for open-end generation.\n",
      "Setting `pad_token_id` to `eos_token_id`:128009 for open-end generation.\n",
      "Setting `pad_token_id` to `eos_token_id`:128009 for open-end generation.\n",
      " 42%|██████████████████████████████████                                               | 202/480 [04:17<06:27,  1.40s/it]Setting `pad_token_id` to `eos_token_id`:128009 for open-end generation.\n",
      "Setting `pad_token_id` to `eos_token_id`:128009 for open-end generation.\n",
      "Setting `pad_token_id` to `eos_token_id`:128009 for open-end generation.\n",
      " 43%|██████████████████████████████████▌                                              | 205/480 [04:20<05:41,  1.24s/it]Setting `pad_token_id` to `eos_token_id`:128009 for open-end generation.\n",
      "Setting `pad_token_id` to `eos_token_id`:128009 for open-end generation.\n",
      "Setting `pad_token_id` to `eos_token_id`:128009 for open-end generation.\n",
      "Setting `pad_token_id` to `eos_token_id`:128009 for open-end generation.\n",
      " 44%|███████████████████████████████████▎                                             | 209/480 [04:22<04:49,  1.07s/it]Setting `pad_token_id` to `eos_token_id`:128009 for open-end generation.\n",
      "Setting `pad_token_id` to `eos_token_id`:128009 for open-end generation.\n",
      "Setting `pad_token_id` to `eos_token_id`:128009 for open-end generation.\n",
      "Setting `pad_token_id` to `eos_token_id`:128009 for open-end generation.\n",
      "Setting `pad_token_id` to `eos_token_id`:128009 for open-end generation.\n",
      "Setting `pad_token_id` to `eos_token_id`:128009 for open-end generation.\n",
      " 45%|████████████████████████████████████▎                                            | 215/480 [04:25<03:33,  1.24it/s]Setting `pad_token_id` to `eos_token_id`:128009 for open-end generation.\n",
      "Setting `pad_token_id` to `eos_token_id`:128009 for open-end generation.\n",
      "Setting `pad_token_id` to `eos_token_id`:128009 for open-end generation.\n",
      " 45%|████████████████████████████████████▊                                            | 218/480 [04:30<04:30,  1.03s/it]Setting `pad_token_id` to `eos_token_id`:128009 for open-end generation.\n",
      "Setting `pad_token_id` to `eos_token_id`:128009 for open-end generation.\n",
      "Setting `pad_token_id` to `eos_token_id`:128009 for open-end generation.\n"
     ]
    },
    {
     "name": "stderr",
     "output_type": "stream",
     "text": [
      "Setting `pad_token_id` to `eos_token_id`:128009 for open-end generation.\n",
      " 46%|█████████████████████████████████████▍                                           | 222/480 [04:34<04:08,  1.04it/s]Setting `pad_token_id` to `eos_token_id`:128009 for open-end generation.\n",
      "Setting `pad_token_id` to `eos_token_id`:128009 for open-end generation.\n",
      "Setting `pad_token_id` to `eos_token_id`:128009 for open-end generation.\n",
      "Setting `pad_token_id` to `eos_token_id`:128009 for open-end generation.\n",
      "Setting `pad_token_id` to `eos_token_id`:128009 for open-end generation.\n",
      " 47%|██████████████████████████████████████▎                                          | 227/480 [04:37<03:33,  1.18it/s]Setting `pad_token_id` to `eos_token_id`:128009 for open-end generation.\n",
      "Setting `pad_token_id` to `eos_token_id`:128009 for open-end generation.\n",
      "Setting `pad_token_id` to `eos_token_id`:128009 for open-end generation.\n",
      "Setting `pad_token_id` to `eos_token_id`:128009 for open-end generation.\n",
      "Setting `pad_token_id` to `eos_token_id`:128009 for open-end generation.\n",
      "Setting `pad_token_id` to `eos_token_id`:128009 for open-end generation.\n",
      "Setting `pad_token_id` to `eos_token_id`:128009 for open-end generation.\n",
      "Setting `pad_token_id` to `eos_token_id`:128009 for open-end generation.\n",
      "Setting `pad_token_id` to `eos_token_id`:128009 for open-end generation.\n",
      " 49%|███████████████████████████████████████▊                                         | 236/480 [04:42<02:51,  1.42it/s]Setting `pad_token_id` to `eos_token_id`:128009 for open-end generation.\n",
      "Setting `pad_token_id` to `eos_token_id`:128009 for open-end generation.\n",
      "Setting `pad_token_id` to `eos_token_id`:128009 for open-end generation.\n",
      "Setting `pad_token_id` to `eos_token_id`:128009 for open-end generation.\n",
      "Setting `pad_token_id` to `eos_token_id`:128009 for open-end generation.\n",
      "Setting `pad_token_id` to `eos_token_id`:128009 for open-end generation.\n",
      "Setting `pad_token_id` to `eos_token_id`:128009 for open-end generation.\n",
      "Setting `pad_token_id` to `eos_token_id`:128009 for open-end generation.\n",
      "Setting `pad_token_id` to `eos_token_id`:128009 for open-end generation.\n",
      " 51%|█████████████████████████████████████████▎                                       | 245/480 [04:45<02:12,  1.77it/s]Setting `pad_token_id` to `eos_token_id`:128009 for open-end generation.\n",
      "Setting `pad_token_id` to `eos_token_id`:128009 for open-end generation.\n",
      "Setting `pad_token_id` to `eos_token_id`:128009 for open-end generation.\n",
      "Setting `pad_token_id` to `eos_token_id`:128009 for open-end generation.\n",
      " 52%|██████████████████████████████████████████                                       | 249/480 [04:48<02:20,  1.64it/s]Setting `pad_token_id` to `eos_token_id`:128009 for open-end generation.\n",
      "Setting `pad_token_id` to `eos_token_id`:128009 for open-end generation.\n",
      "Setting `pad_token_id` to `eos_token_id`:128009 for open-end generation.\n",
      "Setting `pad_token_id` to `eos_token_id`:128009 for open-end generation.\n",
      " 53%|██████████████████████████████████████████▋                                      | 253/480 [04:51<02:27,  1.54it/s]Setting `pad_token_id` to `eos_token_id`:128009 for open-end generation.\n",
      "Setting `pad_token_id` to `eos_token_id`:128009 for open-end generation.\n",
      "Setting `pad_token_id` to `eos_token_id`:128009 for open-end generation.\n",
      "Setting `pad_token_id` to `eos_token_id`:128009 for open-end generation.\n",
      "Setting `pad_token_id` to `eos_token_id`:128009 for open-end generation.\n",
      "Setting `pad_token_id` to `eos_token_id`:128009 for open-end generation.\n",
      "Setting `pad_token_id` to `eos_token_id`:128009 for open-end generation.\n",
      "Setting `pad_token_id` to `eos_token_id`:128009 for open-end generation.\n",
      "Setting `pad_token_id` to `eos_token_id`:128009 for open-end generation.\n",
      " 55%|████████████████████████████████████████████▏                                    | 262/480 [04:55<01:56,  1.87it/s]Setting `pad_token_id` to `eos_token_id`:128009 for open-end generation.\n",
      "Setting `pad_token_id` to `eos_token_id`:128009 for open-end generation.\n",
      "Setting `pad_token_id` to `eos_token_id`:128009 for open-end generation.\n",
      "Setting `pad_token_id` to `eos_token_id`:128009 for open-end generation.\n",
      " 55%|████████████████████████████████████████████▉                                    | 266/480 [04:58<02:07,  1.68it/s]Setting `pad_token_id` to `eos_token_id`:128009 for open-end generation.\n",
      "Setting `pad_token_id` to `eos_token_id`:128009 for open-end generation.\n",
      "Setting `pad_token_id` to `eos_token_id`:128009 for open-end generation.\n",
      "Setting `pad_token_id` to `eos_token_id`:128009 for open-end generation.\n",
      "Setting `pad_token_id` to `eos_token_id`:128009 for open-end generation.\n",
      " 56%|█████████████████████████████████████████████▋                                   | 271/480 [05:02<02:20,  1.49it/s]Setting `pad_token_id` to `eos_token_id`:128009 for open-end generation.\n",
      "Setting `pad_token_id` to `eos_token_id`:128009 for open-end generation.\n",
      "Setting `pad_token_id` to `eos_token_id`:128009 for open-end generation.\n",
      "Setting `pad_token_id` to `eos_token_id`:128009 for open-end generation.\n",
      " 57%|██████████████████████████████████████████████▍                                  | 275/480 [05:08<02:52,  1.18it/s]Setting `pad_token_id` to `eos_token_id`:128009 for open-end generation.\n",
      "Setting `pad_token_id` to `eos_token_id`:128009 for open-end generation.\n",
      "Setting `pad_token_id` to `eos_token_id`:128009 for open-end generation.\n",
      "Setting `pad_token_id` to `eos_token_id`:128009 for open-end generation.\n",
      " 58%|███████████████████████████████████████████████                                  | 279/480 [05:11<02:48,  1.19it/s]Setting `pad_token_id` to `eos_token_id`:128009 for open-end generation.\n",
      "Setting `pad_token_id` to `eos_token_id`:128009 for open-end generation.\n",
      "Setting `pad_token_id` to `eos_token_id`:128009 for open-end generation.\n",
      " 59%|███████████████████████████████████████████████▌                                 | 282/480 [05:14<02:49,  1.17it/s]Setting `pad_token_id` to `eos_token_id`:128009 for open-end generation.\n",
      "Setting `pad_token_id` to `eos_token_id`:128009 for open-end generation.\n",
      "Setting `pad_token_id` to `eos_token_id`:128009 for open-end generation.\n",
      "Setting `pad_token_id` to `eos_token_id`:128009 for open-end generation.\n",
      "Setting `pad_token_id` to `eos_token_id`:128009 for open-end generation.\n",
      "Setting `pad_token_id` to `eos_token_id`:128009 for open-end generation.\n",
      "Setting `pad_token_id` to `eos_token_id`:128009 for open-end generation.\n",
      " 60%|████████████████████████████████████████████████▊                                | 289/480 [05:17<02:07,  1.49it/s]Setting `pad_token_id` to `eos_token_id`:128009 for open-end generation.\n",
      "Setting `pad_token_id` to `eos_token_id`:128009 for open-end generation.\n",
      "Setting `pad_token_id` to `eos_token_id`:128009 for open-end generation.\n",
      "Setting `pad_token_id` to `eos_token_id`:128009 for open-end generation.\n",
      "Setting `pad_token_id` to `eos_token_id`:128009 for open-end generation.\n",
      "Setting `pad_token_id` to `eos_token_id`:128009 for open-end generation.\n",
      " 61%|█████████████████████████████████████████████████▊                               | 295/480 [05:19<01:44,  1.76it/s]Setting `pad_token_id` to `eos_token_id`:128009 for open-end generation.\n",
      "Setting `pad_token_id` to `eos_token_id`:128009 for open-end generation.\n",
      "Setting `pad_token_id` to `eos_token_id`:128009 for open-end generation.\n",
      "Setting `pad_token_id` to `eos_token_id`:128009 for open-end generation.\n",
      " 62%|██████████████████████████████████████████████████▍                              | 299/480 [05:23<01:55,  1.56it/s]Setting `pad_token_id` to `eos_token_id`:128009 for open-end generation.\n",
      "Setting `pad_token_id` to `eos_token_id`:128009 for open-end generation.\n",
      "Setting `pad_token_id` to `eos_token_id`:128009 for open-end generation.\n",
      "Setting `pad_token_id` to `eos_token_id`:128009 for open-end generation.\n",
      " 63%|███████████████████████████████████████████████████▏                             | 303/480 [05:27<02:17,  1.29it/s]Setting `pad_token_id` to `eos_token_id`:128009 for open-end generation.\n",
      "Setting `pad_token_id` to `eos_token_id`:128009 for open-end generation.\n",
      "Setting `pad_token_id` to `eos_token_id`:128009 for open-end generation.\n",
      " 64%|███████████████████████████████████████████████████▋                             | 306/480 [05:33<02:57,  1.02s/it]Setting `pad_token_id` to `eos_token_id`:128009 for open-end generation.\n",
      "Setting `pad_token_id` to `eos_token_id`:128009 for open-end generation.\n",
      "Setting `pad_token_id` to `eos_token_id`:128009 for open-end generation.\n",
      " 64%|████████████████████████████████████████████████████▏                            | 309/480 [05:37<03:14,  1.13s/it]Setting `pad_token_id` to `eos_token_id`:128009 for open-end generation.\n",
      "Setting `pad_token_id` to `eos_token_id`:128009 for open-end generation.\n",
      "Setting `pad_token_id` to `eos_token_id`:128009 for open-end generation.\n",
      " 65%|████████████████████████████████████████████████████▋                            | 312/480 [05:41<03:19,  1.19s/it]Setting `pad_token_id` to `eos_token_id`:128009 for open-end generation.\n",
      "Setting `pad_token_id` to `eos_token_id`:128009 for open-end generation.\n",
      " 65%|████████████████████████████████████████████████████▉                            | 314/480 [05:45<03:41,  1.33s/it]Setting `pad_token_id` to `eos_token_id`:128009 for open-end generation.\n",
      "Setting `pad_token_id` to `eos_token_id`:128009 for open-end generation.\n",
      "Setting `pad_token_id` to `eos_token_id`:128009 for open-end generation.\n",
      " 66%|█████████████████████████████████████████████████████▍                           | 317/480 [05:48<03:07,  1.15s/it]Setting `pad_token_id` to `eos_token_id`:128009 for open-end generation.\n",
      "Setting `pad_token_id` to `eos_token_id`:128009 for open-end generation.\n",
      " 66%|█████████████████████████████████████████████████████▊                           | 319/480 [05:53<03:53,  1.45s/it]Setting `pad_token_id` to `eos_token_id`:128009 for open-end generation.\n",
      "Setting `pad_token_id` to `eos_token_id`:128009 for open-end generation.\n",
      "Setting `pad_token_id` to `eos_token_id`:128009 for open-end generation.\n",
      "Setting `pad_token_id` to `eos_token_id`:128009 for open-end generation.\n",
      "Setting `pad_token_id` to `eos_token_id`:128009 for open-end generation.\n",
      "Setting `pad_token_id` to `eos_token_id`:128009 for open-end generation.\n",
      "Setting `pad_token_id` to `eos_token_id`:128009 for open-end generation.\n",
      " 68%|███████████████████████████████████████████████████████                          | 326/480 [05:56<02:28,  1.04it/s]Setting `pad_token_id` to `eos_token_id`:128009 for open-end generation.\n",
      "Setting `pad_token_id` to `eos_token_id`:128009 for open-end generation.\n",
      "Setting `pad_token_id` to `eos_token_id`:128009 for open-end generation.\n",
      " 69%|███████████████████████████████████████████████████████▌                         | 329/480 [06:00<02:33,  1.02s/it]Setting `pad_token_id` to `eos_token_id`:128009 for open-end generation.\n",
      "Setting `pad_token_id` to `eos_token_id`:128009 for open-end generation.\n",
      "Setting `pad_token_id` to `eos_token_id`:128009 for open-end generation.\n",
      " 69%|████████████████████████████████████████████████████████                         | 332/480 [06:07<03:26,  1.39s/it]Setting `pad_token_id` to `eos_token_id`:128009 for open-end generation.\n",
      "Setting `pad_token_id` to `eos_token_id`:128009 for open-end generation.\n",
      "Setting `pad_token_id` to `eos_token_id`:128009 for open-end generation.\n",
      "Setting `pad_token_id` to `eos_token_id`:128009 for open-end generation.\n",
      " 70%|████████████████████████████████████████████████████████▋                        | 336/480 [06:10<02:44,  1.14s/it]Setting `pad_token_id` to `eos_token_id`:128009 for open-end generation.\n",
      "Setting `pad_token_id` to `eos_token_id`:128009 for open-end generation.\n",
      "Setting `pad_token_id` to `eos_token_id`:128009 for open-end generation.\n",
      " 71%|█████████████████████████████████████████████████████████▏                       | 339/480 [06:13<02:37,  1.12s/it]Setting `pad_token_id` to `eos_token_id`:128009 for open-end generation.\n",
      "Setting `pad_token_id` to `eos_token_id`:128009 for open-end generation.\n",
      "Setting `pad_token_id` to `eos_token_id`:128009 for open-end generation.\n",
      " 71%|█████████████████████████████████████████████████████████▋                       | 342/480 [06:17<02:45,  1.20s/it]Setting `pad_token_id` to `eos_token_id`:128009 for open-end generation.\n",
      "Setting `pad_token_id` to `eos_token_id`:128009 for open-end generation.\n",
      " 72%|██████████████████████████████████████████████████████████                       | 344/480 [06:22<03:21,  1.48s/it]Setting `pad_token_id` to `eos_token_id`:128009 for open-end generation.\n",
      "Setting `pad_token_id` to `eos_token_id`:128009 for open-end generation.\n",
      " 72%|██████████████████████████████████████████████████████████▍                      | 346/480 [06:26<03:28,  1.55s/it]Setting `pad_token_id` to `eos_token_id`:128009 for open-end generation.\n",
      "Setting `pad_token_id` to `eos_token_id`:128009 for open-end generation.\n",
      "Setting `pad_token_id` to `eos_token_id`:128009 for open-end generation.\n",
      "Setting `pad_token_id` to `eos_token_id`:128009 for open-end generation.\n",
      "Setting `pad_token_id` to `eos_token_id`:128009 for open-end generation.\n",
      " 73%|███████████████████████████████████████████████████████████▏                     | 351/480 [06:30<02:33,  1.19s/it]Setting `pad_token_id` to `eos_token_id`:128009 for open-end generation.\n",
      "Setting `pad_token_id` to `eos_token_id`:128009 for open-end generation.\n",
      " 74%|███████████████████████████████████████████████████████████▌                     | 353/480 [06:32<02:32,  1.20s/it]Setting `pad_token_id` to `eos_token_id`:128009 for open-end generation.\n",
      "Setting `pad_token_id` to `eos_token_id`:128009 for open-end generation.\n",
      " 74%|███████████████████████████████████████████████████████████▉                     | 355/480 [06:40<03:55,  1.89s/it]Setting `pad_token_id` to `eos_token_id`:128009 for open-end generation.\n",
      "Setting `pad_token_id` to `eos_token_id`:128009 for open-end generation.\n",
      " 74%|████████████████████████████████████████████████████████████▏                    | 357/480 [06:43<03:40,  1.79s/it]Setting `pad_token_id` to `eos_token_id`:128009 for open-end generation.\n",
      "Setting `pad_token_id` to `eos_token_id`:128009 for open-end generation.\n",
      " 75%|████████████████████████████████████████████████████████████▌                    | 359/480 [06:47<03:35,  1.78s/it]Setting `pad_token_id` to `eos_token_id`:128009 for open-end generation.\n",
      "Setting `pad_token_id` to `eos_token_id`:128009 for open-end generation.\n",
      "Setting `pad_token_id` to `eos_token_id`:128009 for open-end generation.\n",
      " 75%|█████████████████████████████████████████████████████████████                    | 362/480 [06:51<03:07,  1.59s/it]Setting `pad_token_id` to `eos_token_id`:128009 for open-end generation.\n",
      "Setting `pad_token_id` to `eos_token_id`:128009 for open-end generation.\n",
      " 76%|█████████████████████████████████████████████████████████████▍                   | 364/480 [06:54<03:12,  1.66s/it]Setting `pad_token_id` to `eos_token_id`:128009 for open-end generation.\n",
      "Setting `pad_token_id` to `eos_token_id`:128009 for open-end generation.\n",
      " 76%|█████████████████████████████████████████████████████████████▊                   | 366/480 [06:57<02:56,  1.55s/it]Setting `pad_token_id` to `eos_token_id`:128009 for open-end generation.\n",
      "Setting `pad_token_id` to `eos_token_id`:128009 for open-end generation.\n",
      "Setting `pad_token_id` to `eos_token_id`:128009 for open-end generation.\n",
      "Setting `pad_token_id` to `eos_token_id`:128009 for open-end generation.\n",
      " 77%|██████████████████████████████████████████████████████████████▍                  | 370/480 [07:01<02:24,  1.31s/it]Setting `pad_token_id` to `eos_token_id`:128009 for open-end generation.\n",
      "Setting `pad_token_id` to `eos_token_id`:128009 for open-end generation.\n",
      " 78%|██████████████████████████████████████████████████████████████▊                  | 372/480 [07:05<02:38,  1.47s/it]Setting `pad_token_id` to `eos_token_id`:128009 for open-end generation.\n",
      "Setting `pad_token_id` to `eos_token_id`:128009 for open-end generation.\n",
      " 78%|███████████████████████████████████████████████████████████████                  | 374/480 [07:08<02:36,  1.48s/it]Setting `pad_token_id` to `eos_token_id`:128009 for open-end generation.\n",
      "Setting `pad_token_id` to `eos_token_id`:128009 for open-end generation.\n"
     ]
    },
    {
     "name": "stderr",
     "output_type": "stream",
     "text": [
      " 78%|███████████████████████████████████████████████████████████████▍                 | 376/480 [07:17<03:56,  2.27s/it]Setting `pad_token_id` to `eos_token_id`:128009 for open-end generation.\n",
      "Setting `pad_token_id` to `eos_token_id`:128009 for open-end generation.\n",
      " 79%|███████████████████████████████████████████████████████████████▊                 | 378/480 [07:20<03:30,  2.06s/it]Setting `pad_token_id` to `eos_token_id`:128009 for open-end generation.\n",
      "Setting `pad_token_id` to `eos_token_id`:128009 for open-end generation.\n",
      " 79%|████████████████████████████████████████████████████████████████▏                | 380/480 [07:25<03:37,  2.17s/it]Setting `pad_token_id` to `eos_token_id`:128009 for open-end generation.\n",
      "Setting `pad_token_id` to `eos_token_id`:128009 for open-end generation.\n",
      "Setting `pad_token_id` to `eos_token_id`:128009 for open-end generation.\n",
      "Setting `pad_token_id` to `eos_token_id`:128009 for open-end generation.\n",
      " 80%|████████████████████████████████████████████████████████████████▊                | 384/480 [07:29<02:35,  1.62s/it]Setting `pad_token_id` to `eos_token_id`:128009 for open-end generation.\n",
      "Setting `pad_token_id` to `eos_token_id`:128009 for open-end generation.\n",
      " 80%|█████████████████████████████████████████████████████████████████▏               | 386/480 [07:34<03:02,  1.94s/it]Setting `pad_token_id` to `eos_token_id`:128009 for open-end generation.\n",
      "Setting `pad_token_id` to `eos_token_id`:128009 for open-end generation.\n",
      " 81%|█████████████████████████████████████████████████████████████████▍               | 388/480 [07:38<02:49,  1.85s/it]Setting `pad_token_id` to `eos_token_id`:128009 for open-end generation.\n",
      "Setting `pad_token_id` to `eos_token_id`:128009 for open-end generation.\n",
      "Setting `pad_token_id` to `eos_token_id`:128009 for open-end generation.\n",
      " 81%|█████████████████████████████████████████████████████████████████▉               | 391/480 [07:42<02:35,  1.75s/it]Setting `pad_token_id` to `eos_token_id`:128009 for open-end generation.\n",
      "Setting `pad_token_id` to `eos_token_id`:128009 for open-end generation.\n",
      " 82%|██████████████████████████████████████████████████████████████████▎              | 393/480 [07:45<02:19,  1.61s/it]Setting `pad_token_id` to `eos_token_id`:128009 for open-end generation.\n",
      "Setting `pad_token_id` to `eos_token_id`:128009 for open-end generation.\n",
      " 82%|██████████████████████████████████████████████████████████████████▋              | 395/480 [07:48<02:19,  1.64s/it]Setting `pad_token_id` to `eos_token_id`:128009 for open-end generation.\n",
      "Setting `pad_token_id` to `eos_token_id`:128009 for open-end generation.\n",
      " 83%|██████████████████████████████████████████████████████████████████▉              | 397/480 [07:51<02:09,  1.56s/it]Setting `pad_token_id` to `eos_token_id`:128009 for open-end generation.\n",
      "Setting `pad_token_id` to `eos_token_id`:128009 for open-end generation.\n",
      "Setting `pad_token_id` to `eos_token_id`:128009 for open-end generation.\n",
      "Setting `pad_token_id` to `eos_token_id`:128009 for open-end generation.\n",
      " 84%|███████████████████████████████████████████████████████████████████▋             | 401/480 [07:54<01:33,  1.18s/it]Setting `pad_token_id` to `eos_token_id`:128009 for open-end generation.\n",
      "Setting `pad_token_id` to `eos_token_id`:128009 for open-end generation.\n",
      " 84%|████████████████████████████████████████████████████████████████████             | 403/480 [07:56<01:34,  1.23s/it]Setting `pad_token_id` to `eos_token_id`:128009 for open-end generation.\n",
      "Setting `pad_token_id` to `eos_token_id`:128009 for open-end generation.\n",
      " 84%|████████████████████████████████████████████████████████████████████▎            | 405/480 [08:00<01:44,  1.40s/it]Setting `pad_token_id` to `eos_token_id`:128009 for open-end generation.\n",
      "Setting `pad_token_id` to `eos_token_id`:128009 for open-end generation.\n",
      "Setting `pad_token_id` to `eos_token_id`:128009 for open-end generation.\n",
      "Setting `pad_token_id` to `eos_token_id`:128009 for open-end generation.\n",
      " 85%|█████████████████████████████████████████████████████████████████████            | 409/480 [08:03<01:16,  1.08s/it]Setting `pad_token_id` to `eos_token_id`:128009 for open-end generation.\n",
      "Setting `pad_token_id` to `eos_token_id`:128009 for open-end generation.\n",
      "Setting `pad_token_id` to `eos_token_id`:128009 for open-end generation.\n",
      " 86%|█████████████████████████████████████████████████████████████████████▌           | 412/480 [08:07<01:23,  1.23s/it]Setting `pad_token_id` to `eos_token_id`:128009 for open-end generation.\n",
      "Setting `pad_token_id` to `eos_token_id`:128009 for open-end generation.\n",
      " 86%|█████████████████████████████████████████████████████████████████████▊           | 414/480 [08:10<01:19,  1.21s/it]Setting `pad_token_id` to `eos_token_id`:128009 for open-end generation.\n",
      "Setting `pad_token_id` to `eos_token_id`:128009 for open-end generation.\n",
      " 87%|██████████████████████████████████████████████████████████████████████▏          | 416/480 [08:16<01:50,  1.72s/it]Setting `pad_token_id` to `eos_token_id`:128009 for open-end generation.\n",
      "Setting `pad_token_id` to `eos_token_id`:128009 for open-end generation.\n",
      " 87%|██████████████████████████████████████████████████████████████████████▌          | 418/480 [08:20<01:52,  1.81s/it]Setting `pad_token_id` to `eos_token_id`:128009 for open-end generation.\n",
      "Setting `pad_token_id` to `eos_token_id`:128009 for open-end generation.\n",
      "Setting `pad_token_id` to `eos_token_id`:128009 for open-end generation.\n",
      "Setting `pad_token_id` to `eos_token_id`:128009 for open-end generation.\n",
      "Setting `pad_token_id` to `eos_token_id`:128009 for open-end generation.\n",
      "Setting `pad_token_id` to `eos_token_id`:128009 for open-end generation.\n",
      "Setting `pad_token_id` to `eos_token_id`:128009 for open-end generation.\n",
      " 89%|███████████████████████████████████████████████████████████████████████▋         | 425/480 [08:23<00:54,  1.01it/s]Setting `pad_token_id` to `eos_token_id`:128009 for open-end generation.\n",
      "Setting `pad_token_id` to `eos_token_id`:128009 for open-end generation.\n",
      "Setting `pad_token_id` to `eos_token_id`:128009 for open-end generation.\n",
      " 89%|████████████████████████████████████████████████████████████████████████▏        | 428/480 [08:25<00:49,  1.05it/s]Setting `pad_token_id` to `eos_token_id`:128009 for open-end generation.\n",
      "Setting `pad_token_id` to `eos_token_id`:128009 for open-end generation.\n",
      "Setting `pad_token_id` to `eos_token_id`:128009 for open-end generation.\n",
      "Setting `pad_token_id` to `eos_token_id`:128009 for open-end generation.\n",
      "Setting `pad_token_id` to `eos_token_id`:128009 for open-end generation.\n",
      " 90%|█████████████████████████████████████████████████████████████████████████        | 433/480 [08:28<00:37,  1.24it/s]Setting `pad_token_id` to `eos_token_id`:128009 for open-end generation.\n",
      "Setting `pad_token_id` to `eos_token_id`:128009 for open-end generation.\n",
      "Setting `pad_token_id` to `eos_token_id`:128009 for open-end generation.\n",
      " 91%|█████████████████████████████████████████████████████████████████████████▌       | 436/480 [08:32<00:41,  1.05it/s]Setting `pad_token_id` to `eos_token_id`:128009 for open-end generation.\n",
      "Setting `pad_token_id` to `eos_token_id`:128009 for open-end generation.\n",
      "Setting `pad_token_id` to `eos_token_id`:128009 for open-end generation.\n",
      " 91%|██████████████████████████████████████████████████████████████████████████       | 439/480 [08:40<00:54,  1.33s/it]Setting `pad_token_id` to `eos_token_id`:128009 for open-end generation.\n",
      "Setting `pad_token_id` to `eos_token_id`:128009 for open-end generation.\n",
      " 92%|██████████████████████████████████████████████████████████████████████████▍      | 441/480 [08:43<00:54,  1.40s/it]Setting `pad_token_id` to `eos_token_id`:128009 for open-end generation.\n",
      "Setting `pad_token_id` to `eos_token_id`:128009 for open-end generation.\n",
      "Setting `pad_token_id` to `eos_token_id`:128009 for open-end generation.\n",
      "Setting `pad_token_id` to `eos_token_id`:128009 for open-end generation.\n",
      " 93%|███████████████████████████████████████████████████████████████████████████      | 445/480 [08:45<00:38,  1.09s/it]Setting `pad_token_id` to `eos_token_id`:128009 for open-end generation.\n",
      "Setting `pad_token_id` to `eos_token_id`:128009 for open-end generation.\n",
      "Setting `pad_token_id` to `eos_token_id`:128009 for open-end generation.\n"
     ]
    },
    {
     "name": "stderr",
     "output_type": "stream",
     "text": [
      " 93%|███████████████████████████████████████████████████████████████████████████▌     | 448/480 [08:49<00:37,  1.16s/it]Setting `pad_token_id` to `eos_token_id`:128009 for open-end generation.\n",
      "Setting `pad_token_id` to `eos_token_id`:128009 for open-end generation.\n",
      "Setting `pad_token_id` to `eos_token_id`:128009 for open-end generation.\n",
      " 94%|████████████████████████████████████████████████████████████████████████████     | 451/480 [08:58<00:48,  1.69s/it]Setting `pad_token_id` to `eos_token_id`:128009 for open-end generation.\n",
      "Setting `pad_token_id` to `eos_token_id`:128009 for open-end generation.\n",
      "Setting `pad_token_id` to `eos_token_id`:128009 for open-end generation.\n",
      "Setting `pad_token_id` to `eos_token_id`:128009 for open-end generation.\n",
      " 95%|████████████████████████████████████████████████████████████████████████████▊    | 455/480 [09:03<00:37,  1.51s/it]Setting `pad_token_id` to `eos_token_id`:128009 for open-end generation.\n",
      "Setting `pad_token_id` to `eos_token_id`:128009 for open-end generation.\n",
      "Setting `pad_token_id` to `eos_token_id`:128009 for open-end generation.\n",
      "Setting `pad_token_id` to `eos_token_id`:128009 for open-end generation.\n",
      " 96%|█████████████████████████████████████████████████████████████████████████████▍   | 459/480 [09:06<00:26,  1.28s/it]Setting `pad_token_id` to `eos_token_id`:128009 for open-end generation.\n",
      "Setting `pad_token_id` to `eos_token_id`:128009 for open-end generation.\n",
      "Setting `pad_token_id` to `eos_token_id`:128009 for open-end generation.\n",
      "Setting `pad_token_id` to `eos_token_id`:128009 for open-end generation.\n",
      "Setting `pad_token_id` to `eos_token_id`:128009 for open-end generation.\n",
      "Setting `pad_token_id` to `eos_token_id`:128009 for open-end generation.\n",
      " 97%|██████████████████████████████████████████████████████████████████████████████▍  | 465/480 [09:11<00:16,  1.07s/it]Setting `pad_token_id` to `eos_token_id`:128009 for open-end generation.\n",
      "Setting `pad_token_id` to `eos_token_id`:128009 for open-end generation.\n",
      "Setting `pad_token_id` to `eos_token_id`:128009 for open-end generation.\n",
      " 98%|██████████████████████████████████████████████████████████████████████████████▉  | 468/480 [09:15<00:13,  1.14s/it]Setting `pad_token_id` to `eos_token_id`:128009 for open-end generation.\n",
      "Setting `pad_token_id` to `eos_token_id`:128009 for open-end generation.\n",
      "Setting `pad_token_id` to `eos_token_id`:128009 for open-end generation.\n",
      "Setting `pad_token_id` to `eos_token_id`:128009 for open-end generation.\n",
      "Setting `pad_token_id` to `eos_token_id`:128009 for open-end generation.\n",
      " 99%|███████████████████████████████████████████████████████████████████████████████▊ | 473/480 [09:19<00:06,  1.02it/s]Setting `pad_token_id` to `eos_token_id`:128009 for open-end generation.\n",
      "Setting `pad_token_id` to `eos_token_id`:128009 for open-end generation.\n",
      "Setting `pad_token_id` to `eos_token_id`:128009 for open-end generation.\n",
      " 99%|████████████████████████████████████████████████████████████████████████████████▎| 476/480 [09:27<00:05,  1.41s/it]Setting `pad_token_id` to `eos_token_id`:128009 for open-end generation.\n",
      "Setting `pad_token_id` to `eos_token_id`:128009 for open-end generation.\n",
      "100%|████████████████████████████████████████████████████████████████████████████████▋| 478/480 [09:31<00:03,  1.51s/it]Setting `pad_token_id` to `eos_token_id`:128009 for open-end generation.\n",
      "Setting `pad_token_id` to `eos_token_id`:128009 for open-end generation.\n",
      "100%|█████████████████████████████████████████████████████████████████████████████████| 480/480 [09:37<00:00,  1.20s/it]\n"
     ]
    }
   ],
   "source": [
    "INSTRUCTIONS_v2 = \"\"\"Context: natural language inference.\n",
    "\n",
    "Given a premise and a hypothesis, output \"entailment\", \"contradiction\", or \"neutral\".\n",
    "\n",
    "Use \"entailment\" when the facts stated by the premise necessarily entail the truth of the hypothesis.\n",
    "\n",
    "Use \"contradiction\" when premise and hypothesis are mutually exclusive/contradictory (both cannot be true at the same time).\n",
    "\n",
    "Use \"neutral\", if there is no contradiction (premise and hypothesis are compatible), but the premise does not entail the hypothesis (it's possible for the premise to be true and the hypothesis still be false). In other words, use \"neutral\" when neither \"entailment\" nor \"contradiction\" adequately fit.\"\"\"\n",
    "\n",
    "outputs_v2 = generate_text_with_llama3(\n",
    "    system_instructions=INSTRUCTIONS_v2,\n",
    "    user_input_texts=nli_queries,\n",
    "    do_sample=False,\n",
    "    temperature=None,\n",
    "    top_p=None,\n",
    "    device=\"cuda:0\",\n",
    "    device_map=None,\n",
    ")"
   ]
  },
  {
   "cell_type": "code",
   "execution_count": 7,
   "id": "b7dc7e3c",
   "metadata": {},
   "outputs": [
    {
     "name": "stdout",
     "output_type": "stream",
     "text": [
      "Given a list of radiological factual statements (#F) and a hypothesis (#H), output \"Reason: {reason}. Label: {label}\" where {reason} is a short explanatory sentence and {label} is one of {definitely true, likely true, unknown, likely false, definitely false}.\n"
     ]
    }
   ],
   "source": [
    "from medvqa.eval_NLI_v4 import _compute_confusion_matrix"
   ]
  },
  {
   "cell_type": "code",
   "execution_count": 8,
   "id": "98d5fbf6",
   "metadata": {},
   "outputs": [],
   "source": [
    "NLI_CLASSES = ['entailment', 'neutral', 'contradiction']"
   ]
  },
  {
   "cell_type": "code",
   "execution_count": 11,
   "id": "2cbba949",
   "metadata": {},
   "outputs": [
    {
     "name": "stdout",
     "output_type": "stream",
     "text": [
      "379 I would classify this pair as \"neutral\".\n",
      "\n",
      "The premise states that there are no focal parenchymal opacities, while the hypothesis describes the presence of widespread parenchymal opacities. These two statements are not mutually exclusive, and the presence of widespread opacities does not necessarily contradict the absence of focal opacities. Additionally, the premise does not entail the truth of the hypothesis, as it is possible for there to be no focal opacities but still have widespread opacities. Therefore, the relationship between the premise and hypothesis is neutral. i\n"
     ]
    }
   ],
   "source": [
    "pred_labels = []\n",
    "for j, x in enumerate(outputs_v2):\n",
    "    xx = x.lower().split()[0]\n",
    "    found = False\n",
    "    for i, y in enumerate(NLI_CLASSES):\n",
    "        if xx == y:\n",
    "            pred_labels.append(i)\n",
    "            found = True\n",
    "            break\n",
    "    if not found:\n",
    "        print(j, x, xx)\n",
    "        pred_labels.append(None)"
   ]
  },
  {
   "cell_type": "code",
   "execution_count": 13,
   "id": "3179b559",
   "metadata": {},
   "outputs": [],
   "source": [
    "pred_labels[379] = NLI_CLASSES.index('neutral')"
   ]
  },
  {
   "cell_type": "code",
   "execution_count": 14,
   "id": "94bfd665",
   "metadata": {},
   "outputs": [],
   "source": [
    "from collections import Counter"
   ]
  },
  {
   "cell_type": "code",
   "execution_count": 15,
   "id": "94b77f21",
   "metadata": {},
   "outputs": [
    {
     "data": {
      "text/plain": [
       "Counter({1: 179, 0: 251, 2: 50})"
      ]
     },
     "execution_count": 15,
     "metadata": {},
     "output_type": "execute_result"
    }
   ],
   "source": [
    "Counter(pred_labels)"
   ]
  },
  {
   "cell_type": "code",
   "execution_count": 16,
   "id": "00c31303",
   "metadata": {},
   "outputs": [],
   "source": [
    "gt_labels = [NLI_CLASSES.index(x['gold_label']) for x in test_rows]"
   ]
  },
  {
   "cell_type": "code",
   "execution_count": 17,
   "id": "36193e02",
   "metadata": {},
   "outputs": [],
   "source": [
    "import numpy as np\n",
    "pred_labels = np.array(pred_labels)\n",
    "gt_labels = np.array(gt_labels)"
   ]
  },
  {
   "cell_type": "code",
   "execution_count": 18,
   "id": "ab57a8d2",
   "metadata": {},
   "outputs": [
    {
     "name": "stdout",
     "output_type": "stream",
     "text": [
      "\u001b[1m\u001b[34mAccuracy: 0.5813\u001b[0m\n"
     ]
    },
    {
     "data": {
      "image/png": "[encoded data removed]",
      "text/plain": [
       "<Figure size 800x600 with 2 Axes>"
      ]
     },
     "metadata": {},
     "output_type": "display_data"
    }
   ],
   "source": [
    "_compute_confusion_matrix(pred_labels, gt_labels)"
   ]
  },
  {
   "cell_type": "code",
   "execution_count": 3,
   "id": "7cdccb7b",
   "metadata": {},
   "outputs": [],
   "source": [
    "from medvqa.utils.files import load_pickle, save_pickle, list_filepaths_with_prefix_and_timestamps"
   ]
  },
  {
   "cell_type": "code",
   "execution_count": 26,
   "id": "f3c4ed79",
   "metadata": {},
   "outputs": [
    {
     "data": {
      "text/plain": [
       "[('/mnt/data/pamessina/workspaces/medvqa-workspace/cache/mimiccxr/background_findings_and_impression_20230612_174143.json__detailed_metadata.pkl',\n",
       "  '2023-08-29 10:04:02'),\n",
       " ('/mnt/data/pamessina/workspaces/medvqa-workspace/cache/mimiccxr/background_findings_and_impression_20230612_174143.json',\n",
       "  '2023-06-12 17:41:46'),\n",
       " ('/mnt/data/pamessina/workspaces/medvqa-workspace/cache/mimiccxr/background_findings_and_impression_20230610_132343.json',\n",
       "  '2023-06-10 13:23:46')]"
      ]
     },
     "execution_count": 26,
     "metadata": {},
     "output_type": "execute_result"
    }
   ],
   "source": [
    "list_filepaths_with_prefix_and_timestamps('/mnt/data/pamessina/workspaces/medvqa-workspace/cache/mimiccxr/background_findings_and_impression')"
   ]
  },
  {
   "cell_type": "code",
   "execution_count": 4,
   "id": "02f87c5e",
   "metadata": {},
   "outputs": [],
   "source": [
    "from medvqa.datasets.mimiccxr import load_mimiccxr_reports_detailed_metadata"
   ]
  },
  {
   "cell_type": "code",
   "execution_count": 5,
   "id": "ee921b9c",
   "metadata": {},
   "outputs": [],
   "source": [
    "tmp = load_mimiccxr_reports_detailed_metadata(\n",
    "    background_findings_and_impression_per_report_filepath='/mnt/data/pamessina/workspaces/medvqa-workspace/cache/mimiccxr/background_findings_and_impression_20230612_174143.json')"
   ]
  },
  {
   "cell_type": "code",
   "execution_count": 6,
   "id": "210b5109",
   "metadata": {},
   "outputs": [
    {
     "data": {
      "text/plain": [
       "dict_keys(['part_ids', 'subject_ids', 'study_ids', 'dicom_id_view_pos_pairs', 'splits', 'filepaths', 'backgrounds', 'findings', 'impressions'])"
      ]
     },
     "execution_count": 6,
     "metadata": {},
     "output_type": "execute_result"
    }
   ],
   "source": [
    "tmp.keys()"
   ]
  },
  {
   "cell_type": "code",
   "execution_count": 7,
   "id": "58ec7f9b",
   "metadata": {},
   "outputs": [],
   "source": [
    "from nltk.tokenize import sent_tokenize"
   ]
  },
  {
   "cell_type": "code",
   "execution_count": 8,
   "id": "c3c5a782",
   "metadata": {},
   "outputs": [],
   "source": [
    "sentences = set()\n",
    "for findings, impression, split in zip(tmp['findings'], tmp['impressions'], tmp['splits']):\n",
    "    if split == 'test':\n",
    "        if findings:\n",
    "            sentences.update(sent_tokenize(findings))\n",
    "        if impression:\n",
    "            sentences.update(sent_tokenize(impression))                "
   ]
  },
  {
   "cell_type": "code",
   "execution_count": 9,
   "id": "b88bd8fa",
   "metadata": {},
   "outputs": [
    {
     "data": {
      "text/plain": [
       "17376"
      ]
     },
     "execution_count": 9,
     "metadata": {},
     "output_type": "execute_result"
    }
   ],
   "source": [
    "len(sentences)"
   ]
  },
  {
   "cell_type": "code",
   "execution_count": 10,
   "id": "53899778",
   "metadata": {},
   "outputs": [],
   "source": [
    "sentences_list = list(sentences)"
   ]
  },
  {
   "cell_type": "code",
   "execution_count": 11,
   "id": "5c532cdf",
   "metadata": {},
   "outputs": [],
   "source": [
    "sentences_list.sort()"
   ]
  },
  {
   "cell_type": "code",
   "execution_count": 12,
   "id": "30475178",
   "metadata": {},
   "outputs": [
    {
     "data": {
      "text/plain": [
       "'Progression of left pleural and nodal metastases.'"
      ]
     },
     "execution_count": 12,
     "metadata": {},
     "output_type": "execute_result"
    }
   ],
   "source": [
    "sentences_list[10000]"
   ]
  },
  {
   "cell_type": "code",
   "execution_count": 13,
   "id": "4b68dc9a",
   "metadata": {},
   "outputs": [],
   "source": [
    "from medvqa.models.huggingface_utils import generate_text_with_llama3"
   ]
  },
  {
   "cell_type": "code",
   "execution_count": 14,
   "id": "1539d4a6",
   "metadata": {},
   "outputs": [
    {
     "data": {
      "application/vnd.jupyter.widget-view+json": {
       "model_id": "2de2b93513cd4cce9ce42718f2677fe2",
       "version_major": 2,
       "version_minor": 0
      },
      "text/plain": [
       "Loading checkpoint shards:   0%|          | 0/4 [00:00<?, ?it/s]"
      ]
     },
     "metadata": {},
     "output_type": "display_data"
    },
    {
     "name": "stderr",
     "output_type": "stream",
     "text": [
      "Special tokens have been added in the vocabulary, make sure the associated word embeddings are fine-tuned or trained.\n",
      "100%|███████████████████████████████████████████████████████████████████████████| 17376/17376 [6:26:41<00:00,  1.34s/it]\n"
     ]
    }
   ],
   "source": [
    "INSTRUCTIONS = \"\"\"Relevant facts:\n",
    "\n",
    "1. observations of abnormalities\n",
    "2. observations of diseases\n",
    "3. observations of strange visual patterns\n",
    "4. observations of devices\n",
    "5. observations of foreign bodies\n",
    "6. observations of specific anatomical regions that look normal or healthy\n",
    "7. absences of abnormalities (usually expressed with a negation)\n",
    "8. comparisons with respect to a previous study (something changed or remained the same)\n",
    "9. suggestions or recommendations based on the observations\n",
    "\n",
    "Task:\n",
    "\n",
    "Given a sentence from a chest x-ray report, output a JSON array of facts.\n",
    "Each fact should be about one observation. If a sentence mentions multiple observations,\n",
    "each observation should be extracted as a separate fact.\n",
    "Each fact should include the anatomical location where it was observed. If multiple facts occur in the same location, repeat the location in each fact.\n",
    "\n",
    "If no relevant facts are mentioned, return [] (an empty array).\n",
    "\n",
    "Examples:\n",
    "\n",
    "Opacity and density in the right lobe\n",
    "[\n",
    "\"opacity in the right lobe\",\n",
    "\"density in the right lobe\"\n",
    "]\n",
    "\n",
    "Lungs are well inflated without evidence of focal airspace consolidation to suggest pneumonia.\n",
    "[\n",
    "\"well inflated lungs\",\n",
    "\"lungs without evidence of focal airspace consolidation\",\n",
    "\"lungs without evidence of pneumonia\"\n",
    "]\n",
    "\n",
    "Taken together, compared with less than 1 hr earlier, the findings are suggestive of worsening of CHF, with new or significantly increased left greater right pleural effusions and underlying bibasilar collapse and/or  consolidation, particularly on the left.\n",
    "[\n",
    "\"worsening of CHF\",\n",
    "\"new or significantly increased left pleural effusions\",\n",
    "\"new or significantly increased right pleural effusions\",\n",
    "\"underlying bibasilar collapse on the left\",\n",
    "\"underlying consolidation on the left\",\n",
    "]\n",
    "\n",
    "No acute cardiopulmonary abnormality\n",
    "[\n",
    "\"no acute cardiopulmonary abnormality\"\n",
    "]\n",
    "\n",
    "If clinical presentation is not convincing for pneumonia, pulmonary embolism should be considered\n",
    "[\n",
    "\"clinical presentation may indicate pneumonia\",\n",
    "\"clinical presentation may indicate pulmonary embolism\",\n",
    "]\"\"\"\n",
    "\n",
    "extracted_facts = generate_text_with_llama3(\n",
    "    system_instructions=INSTRUCTIONS,\n",
    "    user_input_texts=sentences,\n",
    "    max_len=300,\n",
    "    do_sample=False,\n",
    "    temperature=None,\n",
    "    top_p=None,\n",
    "    device=\"cuda:0\",\n",
    "    device_map=None,\n",
    ")"
   ]
  },
  {
   "cell_type": "code",
   "execution_count": 30,
   "id": "425d9490",
   "metadata": {},
   "outputs": [],
   "source": [
    "sentences_list_2 = list(sentences)"
   ]
  },
  {
   "cell_type": "code",
   "execution_count": 40,
   "id": "92af5aa1",
   "metadata": {},
   "outputs": [],
   "source": [
    "to_save = {\n",
    "    'sentences': sentences_list_2,\n",
    "    'extracted_facts': extracted_facts,\n",
    "}\n",
    "save_pickle(to_save, '/home/pamessina/tmp/llama3_mimiccxr_test_set_sentences2facts.pkl')"
   ]
  },
  {
   "cell_type": "code",
   "execution_count": 41,
   "id": "34ba9299",
   "metadata": {},
   "outputs": [
    {
     "name": "stdout",
     "output_type": "stream",
     "text": [
      "env: TOKENIZERS_PARALLELISM=false\n"
     ]
    }
   ],
   "source": [
    "%env TOKENIZERS_PARALLELISM=false"
   ]
  },
  {
   "cell_type": "code",
   "execution_count": 42,
   "id": "0dde4066",
   "metadata": {},
   "outputs": [
    {
     "name": "stdout",
     "output_type": "stream",
     "text": [
      "-rw-rw-r-- 1 pamessina pamessina 3.5M May 31 21:34 /home/pamessina/tmp/llama3_mimiccxr_test_set_sentences2facts.pkl\r\n"
     ]
    }
   ],
   "source": [
    "!ls -lh  \"/home/pamessina/tmp/llama3_mimiccxr_test_set_sentences2facts.pkl\""
   ]
  },
  {
   "cell_type": "code",
   "execution_count": 43,
   "id": "1f0c94c6",
   "metadata": {},
   "outputs": [],
   "source": [
    "tmp = load_pickle('/home/pamessina/tmp/llama3_mimiccxr_test_set_sentences2facts.pkl')"
   ]
  },
  {
   "cell_type": "code",
   "execution_count": 44,
   "id": "b11fc5f3",
   "metadata": {},
   "outputs": [
    {
     "data": {
      "text/plain": [
       "dict_keys(['sentences', 'extracted_facts'])"
      ]
     },
     "execution_count": 44,
     "metadata": {},
     "output_type": "execute_result"
    }
   ],
   "source": [
    "tmp.keys()"
   ]
  },
  {
   "cell_type": "code",
   "execution_count": 45,
   "id": "362f94f0",
   "metadata": {},
   "outputs": [
    {
     "data": {
      "text/plain": [
       "17376"
      ]
     },
     "execution_count": 45,
     "metadata": {},
     "output_type": "execute_result"
    }
   ],
   "source": [
    "len(tmp['sentences'])"
   ]
  },
  {
   "cell_type": "code",
   "execution_count": 46,
   "id": "04cafd09",
   "metadata": {},
   "outputs": [
    {
     "data": {
      "text/plain": [
       "17376"
      ]
     },
     "execution_count": 46,
     "metadata": {},
     "output_type": "execute_result"
    }
   ],
   "source": [
    "len(tmp['extracted_facts'])"
   ]
  },
  {
   "cell_type": "code",
   "execution_count": 54,
   "id": "78f743b6",
   "metadata": {},
   "outputs": [
    {
     "name": "stdout",
     "output_type": "stream",
     "text": [
      "An opacity at the base of the right lung is not similar in appearance to chest radiograph on and may represent overlapping structures.\n",
      "Here is the output in JSON array format:\n",
      "\n",
      "[\n",
      "\"opacity at the base of the right lung\",\n",
      "\"opacity may represent overlapping structures\"\n",
      "]\n",
      "\n",
      "Note that I extracted two separate facts from the sentence: one about the opacity and another about the potential cause of the opacity.\n"
     ]
    }
   ],
   "source": [
    "i = -120\n",
    "print(tmp['sentences'][i])\n",
    "print(tmp['extracted_facts'][i])"
   ]
  },
  {
   "cell_type": "code",
   "execution_count": 55,
   "id": "9322e03d",
   "metadata": {},
   "outputs": [],
   "source": [
    "from medvqa.scripts.mimiccxr.extract_facts_from_report_sentences_with_openai import _JSON_STRING_ARRAY_REGEX"
   ]
  },
  {
   "cell_type": "code",
   "execution_count": 57,
   "id": "911f410d",
   "metadata": {},
   "outputs": [],
   "source": [
    "match = _JSON_STRING_ARRAY_REGEX.search(\"\"\"Here is the output in JSON array format:\n",
    "\n",
    "[\n",
    "\"opacity at the base of the right lung\",\n",
    "\"opacity may represent overlapping structures\"\n",
    "]\n",
    "\n",
    "Note that I extracted two separate facts from the sentence: one about the opacity and another about the potential cause of the opacity.\"\"\")"
   ]
  },
  {
   "cell_type": "code",
   "execution_count": 59,
   "id": "09fb5aad",
   "metadata": {},
   "outputs": [],
   "source": [
    "s2fs = {}\n",
    "for s, fs in zip(tmp['sentences'], tmp['extracted_facts']):\n",
    "    match = _JSON_STRING_ARRAY_REGEX.search(fs)\n",
    "    if match:\n",
    "        fs = eval(match.group(0))\n",
    "    else:\n",
    "        fs = []\n",
    "    s2fs[s] = fs"
   ]
  },
  {
   "cell_type": "code",
   "execution_count": 62,
   "id": "10b9c7c9",
   "metadata": {},
   "outputs": [
    {
     "data": {
      "text/plain": [
       "('There is stable widening of the mediastinum.',\n",
       " ['stable widening of the mediastinum'])"
      ]
     },
     "execution_count": 62,
     "metadata": {},
     "output_type": "execute_result"
    }
   ],
   "source": [
    "i = -1\n",
    "tmp['sentences'][i], s2fs[tmp['sentences'][i]]"
   ]
  },
  {
   "cell_type": "code",
   "execution_count": 63,
   "id": "a15a5f06",
   "metadata": {},
   "outputs": [],
   "source": [
    "save_pickle(s2fs, '/home/pamessina/tmp/llama3_mimiccxr_test_set_sentences2facts_dict.pkl')"
   ]
  }
 ],
 "metadata": {
  "kernelspec": {
   "display_name": "venv2",
   "language": "python",
   "name": "venv2"
  },
  "language_info": {
   "codemirror_mode": {
    "name": "ipython",
    "version": 3
   },
   "file_extension": ".py",
   "mimetype": "text/x-python",
   "name": "python",
   "nbconvert_exporter": "python",
   "pygments_lexer": "ipython3",
   "version": "3.10.10"
  }
 },
 "nbformat": 4,
 "nbformat_minor": 5
}
