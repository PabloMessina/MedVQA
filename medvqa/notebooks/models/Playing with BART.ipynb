{
 "cells": [
  {
   "cell_type": "code",
   "execution_count": 1,
   "id": "465ce67d",
   "metadata": {},
   "outputs": [
    {
     "name": "stdout",
     "output_type": "stream",
     "text": [
      "env: CUDA_VISIBLE_DEVICES=2\n"
     ]
    }
   ],
   "source": [
    "%env CUDA_VISIBLE_DEVICES=2"
   ]
  },
  {
   "cell_type": "code",
   "execution_count": 8,
   "id": "bf265026",
   "metadata": {},
   "outputs": [],
   "source": [
    "import torch\n",
    "from transformers import BartTokenizer, BartTokenizerFast, BartForConditionalGeneration, BartConfig\n",
    "import textwrap"
   ]
  },
  {
   "cell_type": "code",
   "execution_count": 3,
   "id": "6551f646",
   "metadata": {},
   "outputs": [],
   "source": [
    "DEVICE = torch.device('cuda')"
   ]
  },
  {
   "cell_type": "code",
   "execution_count": 4,
   "id": "0fb9b7ba",
   "metadata": {},
   "outputs": [],
   "source": [
    "configuration = BartConfig()"
   ]
  },
  {
   "cell_type": "code",
   "execution_count": 5,
   "id": "61da4b3a",
   "metadata": {
    "scrolled": true
   },
   "outputs": [
    {
     "data": {
      "application/vnd.jupyter.widget-view+json": {
       "model_id": "947e18d1022a4ed3b31ee191c591b22b",
       "version_major": 2,
       "version_minor": 0
      },
      "text/plain": [
       "Downloading (…)lve/main/config.json:   0%|          | 0.00/1.72k [00:00<?, ?B/s]"
      ]
     },
     "metadata": {},
     "output_type": "display_data"
    },
    {
     "data": {
      "text/plain": [
       "BartConfig {\n",
       "  \"_name_or_path\": \"bart-base\",\n",
       "  \"activation_dropout\": 0.1,\n",
       "  \"activation_function\": \"gelu\",\n",
       "  \"add_bias_logits\": false,\n",
       "  \"add_final_layer_norm\": false,\n",
       "  \"architectures\": [\n",
       "    \"BartModel\"\n",
       "  ],\n",
       "  \"attention_dropout\": 0.1,\n",
       "  \"bos_token_id\": 0,\n",
       "  \"classif_dropout\": 0.1,\n",
       "  \"classifier_dropout\": 0.0,\n",
       "  \"d_model\": 768,\n",
       "  \"decoder_attention_heads\": 12,\n",
       "  \"decoder_ffn_dim\": 3072,\n",
       "  \"decoder_layerdrop\": 0.0,\n",
       "  \"decoder_layers\": 6,\n",
       "  \"decoder_start_token_id\": 2,\n",
       "  \"dropout\": 0.1,\n",
       "  \"early_stopping\": true,\n",
       "  \"encoder_attention_heads\": 12,\n",
       "  \"encoder_ffn_dim\": 3072,\n",
       "  \"encoder_layerdrop\": 0.0,\n",
       "  \"encoder_layers\": 6,\n",
       "  \"eos_token_id\": 2,\n",
       "  \"forced_bos_token_id\": 0,\n",
       "  \"forced_eos_token_id\": 2,\n",
       "  \"gradient_checkpointing\": false,\n",
       "  \"id2label\": {\n",
       "    \"0\": \"LABEL_0\",\n",
       "    \"1\": \"LABEL_1\",\n",
       "    \"2\": \"LABEL_2\"\n",
       "  },\n",
       "  \"init_std\": 0.02,\n",
       "  \"is_encoder_decoder\": true,\n",
       "  \"label2id\": {\n",
       "    \"LABEL_0\": 0,\n",
       "    \"LABEL_1\": 1,\n",
       "    \"LABEL_2\": 2\n",
       "  },\n",
       "  \"max_position_embeddings\": 1024,\n",
       "  \"model_type\": \"bart\",\n",
       "  \"no_repeat_ngram_size\": 3,\n",
       "  \"normalize_before\": false,\n",
       "  \"normalize_embedding\": true,\n",
       "  \"num_beams\": 4,\n",
       "  \"num_hidden_layers\": 6,\n",
       "  \"pad_token_id\": 1,\n",
       "  \"scale_embedding\": false,\n",
       "  \"task_specific_params\": {\n",
       "    \"summarization\": {\n",
       "      \"length_penalty\": 1.0,\n",
       "      \"max_length\": 128,\n",
       "      \"min_length\": 12,\n",
       "      \"num_beams\": 4\n",
       "    },\n",
       "    \"summarization_cnn\": {\n",
       "      \"length_penalty\": 2.0,\n",
       "      \"max_length\": 142,\n",
       "      \"min_length\": 56,\n",
       "      \"num_beams\": 4\n",
       "    },\n",
       "    \"summarization_xsum\": {\n",
       "      \"length_penalty\": 1.0,\n",
       "      \"max_length\": 62,\n",
       "      \"min_length\": 11,\n",
       "      \"num_beams\": 6\n",
       "    }\n",
       "  },\n",
       "  \"torch_dtype\": \"float32\",\n",
       "  \"transformers_version\": \"4.27.4\",\n",
       "  \"use_cache\": true,\n",
       "  \"vocab_size\": 50265\n",
       "}"
      ]
     },
     "execution_count": 5,
     "metadata": {},
     "output_type": "execute_result"
    }
   ],
   "source": [
    "configuration.from_pretrained(\"facebook/bart-base\")"
   ]
  },
  {
   "cell_type": "code",
   "execution_count": 6,
   "id": "b55bcf8d",
   "metadata": {},
   "outputs": [
    {
     "data": {
      "application/vnd.jupyter.widget-view+json": {
       "model_id": "3ccdffa7f3c946429b4bce2353504c99",
       "version_major": 2,
       "version_minor": 0
      },
      "text/plain": [
       "Downloading pytorch_model.bin:   0%|          | 0.00/558M [00:00<?, ?B/s]"
      ]
     },
     "metadata": {},
     "output_type": "display_data"
    }
   ],
   "source": [
    "model = BartForConditionalGeneration.from_pretrained(\"facebook/bart-base\").to(DEVICE)"
   ]
  },
  {
   "cell_type": "code",
   "execution_count": 9,
   "id": "ca586653",
   "metadata": {},
   "outputs": [
    {
     "data": {
      "application/vnd.jupyter.widget-view+json": {
       "model_id": "f2da5c9735ee4d238df4909dab935786",
       "version_major": 2,
       "version_minor": 0
      },
      "text/plain": [
       "Downloading (…)olve/main/vocab.json:   0%|          | 0.00/899k [00:00<?, ?B/s]"
      ]
     },
     "metadata": {},
     "output_type": "display_data"
    },
    {
     "data": {
      "application/vnd.jupyter.widget-view+json": {
       "model_id": "7fce70a198b8483ba620e041c80263d8",
       "version_major": 2,
       "version_minor": 0
      },
      "text/plain": [
       "Downloading (…)olve/main/merges.txt:   0%|          | 0.00/456k [00:00<?, ?B/s]"
      ]
     },
     "metadata": {},
     "output_type": "display_data"
    },
    {
     "data": {
      "application/vnd.jupyter.widget-view+json": {
       "model_id": "ea62da28482d496dbb1e94f25376c6ea",
       "version_major": 2,
       "version_minor": 0
      },
      "text/plain": [
       "Downloading (…)/main/tokenizer.json:   0%|          | 0.00/1.36M [00:00<?, ?B/s]"
      ]
     },
     "metadata": {},
     "output_type": "display_data"
    }
   ],
   "source": [
    "tokenizer = BartTokenizerFast.from_pretrained(\"facebook/bart-base\")"
   ]
  },
  {
   "cell_type": "code",
   "execution_count": null,
   "id": "2170a509",
   "metadata": {},
   "outputs": [],
   "source": [
    "model.forward()"
   ]
  },
  {
   "cell_type": "code",
   "execution_count": 10,
   "id": "92d53d5c",
   "metadata": {},
   "outputs": [],
   "source": [
    "def bold(text):\n",
    "    return '\\033[1m' + text + '\\033[0m'\n",
    "  \n",
    "def generate_text(text, tokenizer, model, num_beams=5, num_sentences=5,\n",
    "                   min_length=30, max_length=100, early_stopping=True):\n",
    "    print(bold(\"Input Text:\"))\n",
    "    print(textwrap.fill(text, width=70), end='\\n\\n')\n",
    "\n",
    "    tokenized_text = tokenizer.encode(text, return_tensors=\"pt\").to(DEVICE)\n",
    "\n",
    "    # generated texts\n",
    "    gen_text_ids = model.generate(tokenized_text,\n",
    "                              num_beams=num_beams,\n",
    "                              num_return_sequences=num_sentences,\n",
    "                              min_length=min_length,\n",
    "                              max_length=max_length,\n",
    "                              early_stopping=early_stopping)\n",
    "\n",
    "    print(bold(\"Generated texts:\\n\"))\n",
    "    for i, beam_output in enumerate(gen_text_ids):\n",
    "        output = tokenizer.decode(beam_output, skip_special_tokens=True)\n",
    "        print(bold(f\"Generated text {i}:\"))\n",
    "        print(textwrap.fill(output, width=70), end='\\n\\n')"
   ]
  },
  {
   "cell_type": "code",
   "execution_count": 34,
   "id": "e77d95ba",
   "metadata": {},
   "outputs": [
    {
     "data": {
      "text/plain": [
       "torch.Size([1, 10])"
      ]
     },
     "execution_count": 34,
     "metadata": {},
     "output_type": "execute_result"
    }
   ],
   "source": [
    "tokenizer.encode(text, return_tensors=\"pt\").shape"
   ]
  },
  {
   "cell_type": "code",
   "execution_count": 11,
   "id": "ff883ecf",
   "metadata": {},
   "outputs": [
    {
     "name": "stdout",
     "output_type": "stream",
     "text": [
      "\u001b[1mInput Text:\u001b[0m\n",
      " translate English to German: That is good.\n",
      "\n",
      "\u001b[1mGenerated texts:\n",
      "\u001b[0m\n",
      "\u001b[1mGenerated text 0:\u001b[0m\n",
      "Transtranslate English to German: That is good. Thanks for the help.Ad\n",
      "vertisementsadvertisementadvertisementAbstractBackground:Introduction:\n",
      "Introduction: Introduction.Introduction:Background:Background.Descript\n",
      "ion:Description:Introduction.Introduction.Description.Translate\n",
      "English and German.Background.Transparent English to\n",
      "English.Background:Description.English:English: That's English.English\n",
      "to English: That wouldtranslateEnglish to German-English to Spanish:\n",
      "That.translate to English to Japanese:That is good, right?\n",
      "\n",
      "\u001b[1mGenerated text 1:\u001b[0m\n",
      "Transtranslate English to German: That is good. Thanks for the help.Ad\n",
      "vertisementsadvertisementadvertisementAbstractBackground:Introduction:\n",
      "Introduction: Introduction.Introduction:Background:Background.Descript\n",
      "ion:Description:Introduction.Introduction.Description.Translate\n",
      "English and German.Background.Transparent English to\n",
      "English.Background:Description.English:English: That's English.English\n",
      "to English: That wouldtranslateEnglish to German-English to Spanish:\n",
      "That.translate to English to Japanese:That is good, that is\n",
      "\n",
      "\u001b[1mGenerated text 2:\u001b[0m\n",
      "Transtranslate English to German: That is good. Thanks for the help.Ad\n",
      "vertisementsadvertisementadvertisementAbstractBackground:Introduction:\n",
      "Introduction: Introduction.Introduction:Background:Background.Descript\n",
      "ion:Description:Introduction.Introduction.Description.Translate\n",
      "English and German.Background.Transparent English to\n",
      "English.Background:Description.English:English: That's English.English\n",
      "to English: That wouldtranslateEnglish to German-English to Spanish:\n",
      "That.translate to English to Japanese:That is good?\n",
      "\n",
      "\u001b[1mGenerated text 3:\u001b[0m\n",
      "Transtranslate English to German: That is good. Thanks for the help.Ad\n",
      "vertisementsadvertisementadvertisementAbstractBackground:Introduction:\n",
      "Introduction: Introduction.Introduction:Background:Background.Descript\n",
      "ion:Description:Introduction.Introduction.Description.Translate\n",
      "English and German.Background.Transparent English to\n",
      "English.Background:Description.English:English: That's English.English\n",
      "to English: That wouldtranslateEnglish to German-English to Spanish:\n",
      "That.translate to English to Japanese:That is good,\n",
      "\n",
      "\u001b[1mGenerated text 4:\u001b[0m\n",
      "Transtranslate English to German: That is good. Thanks for the help.Ad\n",
      "vertisementsadvertisementadvertisementAbstractBackground:Introduction:\n",
      "Introduction: Introduction.Introduction:Background:Background.Descript\n",
      "ion:Description:Introduction.Introduction.Description.Translate\n",
      "English and German.Background.Transparent English to\n",
      "English.Background:Description.English:English: That's English.English\n",
      "to English: That wouldtranslateEnglish to German-English to Spanish:\n",
      "That.translate to English to Japanese:That is good\n",
      "\n"
     ]
    }
   ],
   "source": [
    "text =\"\"\"\n",
    "translate English to German: That is good.\n",
    "\"\"\"\n",
    "\n",
    "generate_text(text, tokenizer, model, min_length=100, max_length=150)"
   ]
  }
 ],
 "metadata": {
  "kernelspec": {
   "display_name": "venv2",
   "language": "python",
   "name": "venv2"
  },
  "language_info": {
   "codemirror_mode": {
    "name": "ipython",
    "version": 3
   },
   "file_extension": ".py",
   "mimetype": "text/x-python",
   "name": "python",
   "nbconvert_exporter": "python",
   "pygments_lexer": "ipython3",
   "version": "3.10.10"
  }
 },
 "nbformat": 4,
 "nbformat_minor": 5
}
