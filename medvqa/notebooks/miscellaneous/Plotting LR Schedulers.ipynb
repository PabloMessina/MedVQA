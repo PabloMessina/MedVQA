{
 "cells": [
  {
   "cell_type": "code",
   "execution_count": 1,
   "metadata": {},
   "outputs": [],
   "source": [
    "from torch.optim.lr_scheduler import _LRScheduler\n",
    "from torch.optim import AdamW\n",
    "from torch import nn\n",
    "import math"
   ]
  },
  {
   "cell_type": "code",
   "execution_count": 2,
   "metadata": {},
   "outputs": [],
   "source": [
    "class Network(nn.Module):\n",
    "    def __init__(self):\n",
    "        super().__init__()\n",
    "        self.layer = nn.Linear(10,10)\n",
    "    def forward(x):\n",
    "        return self.layer(x)"
   ]
  },
  {
   "cell_type": "code",
   "execution_count": 3,
   "metadata": {},
   "outputs": [],
   "source": [
    "network = Network()"
   ]
  },
  {
   "cell_type": "code",
   "execution_count": 12,
   "metadata": {},
   "outputs": [],
   "source": [
    "optimizer = AdamW(network.parameters())"
   ]
  },
  {
   "cell_type": "code",
   "execution_count": 19,
   "metadata": {},
   "outputs": [],
   "source": [
    "class CosineAnnealingWarmRestarts(_LRScheduler):\n",
    "\n",
    "    def __init__(self, optimizer, T_0, T_mult=1, eta_min=0, last_epoch=-1, verbose=False):\n",
    "        if T_0 <= 0 or not isinstance(T_0, int):\n",
    "            raise ValueError(\"Expected positive integer T_0, but got {}\".format(T_0))\n",
    "        if T_mult < 1 or not isinstance(T_mult, int):\n",
    "            raise ValueError(\"Expected integer T_mult >= 1, but got {}\".format(T_mult))\n",
    "        self.T_0 = T_0\n",
    "        self.T_i = T_0\n",
    "        self.T_mult = T_mult\n",
    "        self.eta_min = eta_min\n",
    "        self.starting_lrs = [group['lr'] for group in optimizer.param_groups]\n",
    "\n",
    "        super(CosineAnnealingWarmRestarts, self).__init__(optimizer, last_epoch, verbose)\n",
    "\n",
    "        self.T_cur = self.last_epoch\n",
    "\n",
    "    def get_lr(self):\n",
    "        if not self._get_lr_called_within_step:\n",
    "            warnings.warn(\"To get the last learning rate computed by the scheduler, \"\n",
    "                          \"please use `get_last_lr()`.\", UserWarning)\n",
    "\n",
    "        return [self.eta_min + (base_lr - self.eta_min) * (1 + math.cos(math.pi * self.T_cur / self.T_i)) / 2\n",
    "                for base_lr in self.starting_lrs]\n",
    "\n",
    "    def step(self, epoch=None):\n",
    "\n",
    "        if epoch is None and self.last_epoch < 0:\n",
    "            epoch = 0\n",
    "\n",
    "        if epoch is None:\n",
    "            epoch = self.last_epoch + 1\n",
    "            self.T_cur = self.T_cur + 1\n",
    "            if self.T_cur >= self.T_i:\n",
    "                self.T_cur = self.T_cur - self.T_i\n",
    "                self.T_i = self.T_i * self.T_mult\n",
    "        else:\n",
    "            if epoch < 0:\n",
    "                raise ValueError(\"Expected non-negative epoch, but got {}\".format(epoch))\n",
    "            if epoch >= self.T_0:\n",
    "                if self.T_mult == 1:\n",
    "                    self.T_cur = epoch % self.T_0\n",
    "                else:\n",
    "                    n = int(math.log((epoch / self.T_0 * (self.T_mult - 1) + 1), self.T_mult))\n",
    "                    self.T_cur = epoch - self.T_0 * (self.T_mult ** n - 1) / (self.T_mult - 1)\n",
    "                    self.T_i = self.T_0 * self.T_mult ** (n)\n",
    "            else:\n",
    "                self.T_i = self.T_0\n",
    "                self.T_cur = epoch\n",
    "        self.last_epoch = math.floor(epoch)\n",
    "\n",
    "        class _enable_get_lr_call:\n",
    "\n",
    "            def __init__(self, o):\n",
    "                self.o = o\n",
    "\n",
    "            def __enter__(self):\n",
    "                self.o._get_lr_called_within_step = True\n",
    "                return self\n",
    "\n",
    "            def __exit__(self, type, value, traceback):\n",
    "                self.o._get_lr_called_within_step = False\n",
    "                return self\n",
    "\n",
    "        with _enable_get_lr_call(self):\n",
    "            for i, data in enumerate(zip(self.optimizer.param_groups, self.get_lr())):\n",
    "                param_group, lr = data\n",
    "                param_group['lr'] = lr\n",
    "                self.print_lr(self.verbose, i, lr, epoch)\n",
    "\n",
    "        self._last_lr = [group['lr'] for group in self.optimizer.param_groups]"
   ]
  },
  {
   "cell_type": "code",
   "execution_count": 28,
   "metadata": {},
   "outputs": [],
   "source": [
    "lr_scheduler = CosineAnnealingWarmRestarts(optimizer, 20)"
   ]
  },
  {
   "cell_type": "code",
   "execution_count": 6,
   "metadata": {},
   "outputs": [],
   "source": [
    "from medvqa.losses.schedulers import create_lr_scheduler"
   ]
  },
  {
   "cell_type": "code",
   "execution_count": 13,
   "metadata": {},
   "outputs": [
    {
     "name": "stdout",
     "output_type": "stream",
     "text": [
      "Using warmup+cyclicdecay scheduler: 1e-6,10,4e-4,10,1e-6\n",
      "1e-06 10 0.0004 10 1e-06\n",
      "self.steps_to_restart = 4000\n",
      "self.steps = -1\n",
      "self.initial_lr = 0.0004\n"
     ]
    }
   ],
   "source": [
    "lr_scheduler = create_lr_scheduler('warmup+cyclicdecay', optimizer, warmup_and_decay_args=\"1e-6,10,4e-4,10,1e-6\", n_batches_per_epoch=400)"
   ]
  },
  {
   "cell_type": "code",
   "execution_count": 14,
   "metadata": {},
   "outputs": [
    {
     "name": "stderr",
     "output_type": "stream",
     "text": [
      "/home/pamessina/venv/lib/python3.6/site-packages/torch/optim/lr_scheduler.py:134: UserWarning: Detected call of `lr_scheduler.step()` before `optimizer.step()`. In PyTorch 1.1.0 and later, you should call them in the opposite order: `optimizer.step()` before `lr_scheduler.step()`.  Failure to do this will result in PyTorch skipping the first value of the learning rate schedule. See more details at https://pytorch.org/docs/stable/optim.html#how-to-adjust-learning-rate\n",
      "  \"https://pytorch.org/docs/stable/optim.html#how-to-adjust-learning-rate\", UserWarning)\n"
     ]
    }
   ],
   "source": [
    "lrs = []\n",
    "for i in range(100000):\n",
    "    lrs.append(optimizer.param_groups[0]['lr'])\n",
    "    lr_scheduler.step()"
   ]
  },
  {
   "cell_type": "code",
   "execution_count": 9,
   "metadata": {},
   "outputs": [],
   "source": [
    "import matplotlib.pyplot as plt"
   ]
  },
  {
   "cell_type": "code",
   "execution_count": 16,
   "metadata": {},
   "outputs": [
    {
     "data": {
      "image/png": "[encoded data removed]",
      "text/plain": [
       "<Figure size 1080x360 with 1 Axes>"
      ]
     },
     "metadata": {
      "needs_background": "light"
     },
     "output_type": "display_data"
    }
   ],
   "source": [
    "tmp = lrs[:20000]\n",
    "plt.figure(figsize=(15, 5))\n",
    "plt.plot(list(range(len(tmp))), tmp)\n",
    "plt.show()"
   ]
  }
 ],
 "metadata": {
  "kernelspec": {
   "display_name": "Python 3",
   "language": "python",
   "name": "python3"
  },
  "language_info": {
   "codemirror_mode": {
    "name": "ipython",
    "version": 3
   },
   "file_extension": ".py",
   "mimetype": "text/x-python",
   "name": "python",
   "nbconvert_exporter": "python",
   "pygments_lexer": "ipython3",
   "version": "3.6.9"
  }
 },
 "nbformat": 4,
 "nbformat_minor": 4
}
