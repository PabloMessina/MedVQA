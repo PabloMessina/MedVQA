{
 "cells": [
  {
   "cell_type": "code",
   "execution_count": 1,
   "metadata": {},
   "outputs": [],
   "source": [
    "import subprocess\n",
    "import os\n",
    "import pandas as pd"
   ]
  },
  {
   "cell_type": "code",
   "execution_count": 2,
   "metadata": {},
   "outputs": [],
   "source": [
    "CHEXPERT_FOLDER = '~/chexpert/chexpert-labeler'"
   ]
  },
  {
   "cell_type": "code",
   "execution_count": 3,
   "metadata": {},
   "outputs": [],
   "source": [
    "CHEXPERT_PYTHON = '~/miniconda3/envs/chexpert-label/bin/python'"
   ]
  },
  {
   "cell_type": "code",
   "execution_count": 4,
   "metadata": {},
   "outputs": [],
   "source": [
    "TMP_FOLDER = '~/medvqa-workspace/tmp'"
   ]
  },
  {
   "cell_type": "code",
   "execution_count": 5,
   "metadata": {},
   "outputs": [],
   "source": [
    "NEGBIO_PATH = '/home/pamessina/chexpert/NegBio'"
   ]
  },
  {
   "cell_type": "code",
   "execution_count": 6,
   "metadata": {},
   "outputs": [],
   "source": [
    "def _get_custom_env():\n",
    "    custom_env = os.environ.copy()\n",
    "    prev = custom_env.get('PYTHONPATH', '')\n",
    "    custom_env['PYTHONPATH'] = f'{NEGBIO_PATH}:{prev}'\n",
    "    return custom_env"
   ]
  },
  {
   "cell_type": "code",
   "execution_count": 11,
   "metadata": {},
   "outputs": [],
   "source": [
    "# input_path = os.path.join(TMP_FOLDER, 'reports-input.csv')\n",
    "input_path = '/home/pamessina/medvqa-workspace/tmp/chexpert-labeler/labeler-input.csv'\n",
    "output_path = os.path.join(TMP_FOLDER, 'reports-output-v2.csv')\n",
    "cmd_cd = f'cd {CHEXPERT_FOLDER}'\n",
    "cmd_call = f'{CHEXPERT_PYTHON} label.py --reports_path {input_path} --output_path {output_path}'\n",
    "cmd = f'{cmd_cd} && {cmd_call}'\n",
    "\n",
    "try:            \n",
    "    subprocess.run(\n",
    "        cmd, shell=True, check=True,\n",
    "        stdout=subprocess.PIPE, stderr=subprocess.PIPE,\n",
    "        env=_get_custom_env(),\n",
    "    )\n",
    "except subprocess.CalledProcessError as e:\n",
    "    print('Labeler failed, stdout and stderr:')\n",
    "    print(e.stdout)\n",
    "    print(e.stderr)\n",
    "    raise"
   ]
  },
  {
   "cell_type": "code",
   "execution_count": 14,
   "metadata": {},
   "outputs": [
    {
     "name": "stdout",
     "output_type": "stream",
     "text": [
      "no free air below the right hemidiaphragm is seen\r\n",
      "however , other radiopaque fluid , such as fluid , , , be filling the airspace in this region\r\n",
      "there is no free air under the hemidiaphragms . low lung volumes but no acute process and no evidence of free peritoneal air .\r\n"
     ]
    }
   ],
   "source": [
    "!head /home/pamessina/medvqa-workspace/tmp/reports-input.csv"
   ]
  },
  {
   "cell_type": "code",
   "execution_count": 33,
   "metadata": {},
   "outputs": [
    {
     "data": {
      "text/plain": [
       "3"
      ]
     },
     "execution_count": 33,
     "metadata": {},
     "output_type": "execute_result"
    }
   ],
   "source": [
    "len(pd.DataFrame(['asdfasdf', 'asdfasdfasdf', 'asdfasdf']))"
   ]
  },
  {
   "cell_type": "code",
   "execution_count": 2,
   "metadata": {},
   "outputs": [],
   "source": [
    "import getpass, os"
   ]
  },
  {
   "cell_type": "code",
   "execution_count": 3,
   "metadata": {},
   "outputs": [
    {
     "data": {
      "text/plain": [
       "998"
      ]
     },
     "execution_count": 3,
     "metadata": {},
     "output_type": "execute_result"
    }
   ],
   "source": [
    "os.getegid()"
   ]
  },
  {
   "cell_type": "code",
   "execution_count": 4,
   "metadata": {},
   "outputs": [
    {
     "data": {
      "text/plain": [
       "1001"
      ]
     },
     "execution_count": 4,
     "metadata": {},
     "output_type": "execute_result"
    }
   ],
   "source": [
    "os.geteuid()"
   ]
  },
  {
   "cell_type": "code",
   "execution_count": 5,
   "metadata": {},
   "outputs": [
    {
     "data": {
      "text/plain": [
       "'pamessina'"
      ]
     },
     "execution_count": 5,
     "metadata": {},
     "output_type": "execute_result"
    }
   ],
   "source": [
    "os.getlogin()"
   ]
  },
  {
   "cell_type": "code",
   "execution_count": 6,
   "metadata": {},
   "outputs": [
    {
     "data": {
      "text/plain": [
       "'pamessina'"
      ]
     },
     "execution_count": 6,
     "metadata": {},
     "output_type": "execute_result"
    }
   ],
   "source": [
    "getpass.getuser()"
   ]
  },
  {
   "cell_type": "code",
   "execution_count": 5,
   "metadata": {},
   "outputs": [],
   "source": [
    "import grp"
   ]
  },
  {
   "cell_type": "code",
   "execution_count": 6,
   "metadata": {},
   "outputs": [],
   "source": [
    "groupinfo = grp.getgrnam('docker')"
   ]
  },
  {
   "cell_type": "code",
   "execution_count": 7,
   "metadata": {},
   "outputs": [
    {
     "data": {
      "text/plain": [
       "grp.struct_group(gr_name='docker', gr_passwd='x', gr_gid=998, gr_mem=['pamessina'])"
      ]
     },
     "execution_count": 7,
     "metadata": {},
     "output_type": "execute_result"
    }
   ],
   "source": [
    "groupinfo"
   ]
  },
  {
   "cell_type": "code",
   "execution_count": 17,
   "metadata": {},
   "outputs": [
    {
     "ename": "PermissionError",
     "evalue": "[Errno 1] Operation not permitted",
     "output_type": "error",
     "traceback": [
      "\u001b[0;31m---------------------------------------------------------------------------\u001b[0m",
      "\u001b[0;31mPermissionError\u001b[0m                           Traceback (most recent call last)",
      "\u001b[0;32m<ipython-input-17-fde2dd395c9c>\u001b[0m in \u001b[0;36m<module>\u001b[0;34m\u001b[0m\n\u001b[0;32m----> 1\u001b[0;31m \u001b[0mos\u001b[0m\u001b[0;34m.\u001b[0m\u001b[0msetgid\u001b[0m\u001b[0;34m(\u001b[0m\u001b[0mgroupinfo\u001b[0m\u001b[0;34m.\u001b[0m\u001b[0mgr_gid\u001b[0m\u001b[0;34m)\u001b[0m\u001b[0;34m\u001b[0m\u001b[0;34m\u001b[0m\u001b[0m\n\u001b[0m",
      "\u001b[0;31mPermissionError\u001b[0m: [Errno 1] Operation not permitted"
     ]
    }
   ],
   "source": [
    "os.setgid(groupinfo.gr_gid)"
   ]
  },
  {
   "cell_type": "code",
   "execution_count": null,
   "metadata": {},
   "outputs": [],
   "source": [
    "os.setegid(998)"
   ]
  },
  {
   "cell_type": "code",
   "execution_count": 8,
   "metadata": {},
   "outputs": [
    {
     "name": "stdout",
     "output_type": "stream",
     "text": [
      "docker run -v /home/pamessina/medvqa-workspace/tmp/chexpert-labeler:/data chexpert-labeler:latest python label.py --reports_path /data/labeler-input.csv --output_path /data/labeler-output-v1234.csv --verbose\n"
     ]
    }
   ],
   "source": [
    "directory_path = '/home/pamessina/medvqa-workspace/tmp/chexpert-labeler'\n",
    "input_filename = 'labeler-input.csv'\n",
    "output_filename = 'labeler-output-v1234.csv'\n",
    "cmd = (f'docker run -v {directory_path}:/data chexpert-labeler:latest '\n",
    "       f'python label.py --reports_path /data/{input_filename} --output_path /data/{output_filename}')\n",
    "\n",
    "print(cmd)\n",
    "\n",
    "try:            \n",
    "    subprocess.run(\n",
    "        cmd, shell=True, check=True,\n",
    "        stdout=subprocess.PIPE, stderr=subprocess.PIPE,\n",
    "    )\n",
    "except subprocess.CalledProcessError as e:\n",
    "    print('Labeler failed, stdout and stderr:')\n",
    "    print(e.stdout)\n",
    "    print(e.stderr)\n",
    "    raise"
   ]
  },
  {
   "cell_type": "code",
   "execution_count": 43,
   "metadata": {},
   "outputs": [],
   "source": [
    "from medvqa.utils.common import TMP_DIR\n",
    "from medvqa.utils.constants import CHEXPERT_LABELS\n",
    "import numpy as np\n",
    "import pandas as pd\n",
    "import csv\n",
    "import time\n",
    "\n",
    "TMP_FOLDER = os.path.join(TMP_DIR, 'chexpert-labeler')\n",
    "\n",
    "class ChexpertLabelerJob:\n",
    "    def __init__(self, texts, input_filename, output_filename):\n",
    "        \n",
    "        self.texts = texts\n",
    "        \n",
    "        # Define input & output paths for i-th chunk\n",
    "        self.input_path = os.path.join(TMP_FOLDER, input_filename)\n",
    "        self.output_path = os.path.join(TMP_FOLDER, output_filename)\n",
    "\n",
    "        # Create input file\n",
    "        os.makedirs(TMP_FOLDER, exist_ok=True)\n",
    "        in_df = pd.DataFrame(texts)        \n",
    "        in_df.to_csv(self.input_path, header=False, index=False, quoting=csv.QUOTE_ALL)\n",
    "\n",
    "        # Build command\n",
    "        self.cmd = (f'docker run -v {TMP_FOLDER}:/data chexpert-labeler:latest '\n",
    "        f'python label.py --reports_path /data/{input_filename} --output_path /data/{output_filename}')\n",
    "        \n",
    "\n",
    "def invoke_chexpert_labeler_process(texts, tmp_suffix='', n_chunks = 1, max_processes = 1):\n",
    "\n",
    "    n = len(texts)\n",
    "    if n < 50:\n",
    "        n_chunks = 1\n",
    "\n",
    "    chunk_size = n // n_chunks + (n % n_chunks > 0)\n",
    "    processes = []\n",
    "    output_paths = []\n",
    "    \n",
    "    print(f'Chexpert labeler: running a maximum of {max_processes} concurrent processes over {n_chunks} chunks')\n",
    "    \n",
    "    jobs = []\n",
    "    for i in range(n_chunks):\n",
    "        b = i * chunk_size\n",
    "        e = b + chunk_size\n",
    "        texts_chunk = texts[b:e]\n",
    "        print(f'i={i}, b={b}, e={e}, n={n}, chunk_size={len(texts_chunk)}')\n",
    "        input_filename = f'labeler-input{tmp_suffix}_{i}.csv'\n",
    "        output_filename = f'labeler-output{tmp_suffix}_{i}.csv'\n",
    "        jobs.append(ChexpertLabelerJob(texts_chunk, input_filename, output_filename))\n",
    "\n",
    "    start = time.time()    \n",
    "    idx = 1    \n",
    "    job_idxs = list(range(len(jobs)))\n",
    "    \n",
    "    while len(job_idxs) > 0 or len(processes) > 0:\n",
    "        \n",
    "        if len(processes) == max_processes or len(job_idxs) == 0:\n",
    "            \n",
    "            next_processes = []\n",
    "            \n",
    "            for p in processes:\n",
    "                p.wait()\n",
    "                print(f'\\tprocess {idx} finished, elapsed time = {time.time() - start}')\n",
    "                idx += 1\n",
    "                \n",
    "                if len(job_idxs) > 0:\n",
    "                    time.sleep(1)\n",
    "                    i = job_idxs.pop(0)\n",
    "                    print(f'\\t{i+1}) Running chexpert labeler over {len(jobs[i].texts)} texts ...')\n",
    "                    print(f'\\tCommand = {jobs[i].cmd}')\n",
    "                    next_processes.append(subprocess.Popen(jobs[i].cmd, shell=True))\n",
    "                    \n",
    "            \n",
    "            processes.clear()\n",
    "            processes = next_processes\n",
    "        \n",
    "        else:\n",
    "            time.sleep(1)\n",
    "            i = job_idxs.pop(0)\n",
    "            print(f'\\t{i+1}) Running chexpert labeler over {len(jobs[i].texts)} texts ...')\n",
    "            print(f'\\tCommand = {jobs[i].cmd}')\n",
    "            processes.append(subprocess.Popen(jobs[i].cmd, shell=True))    \n",
    "       \n",
    "    time.sleep(3)\n",
    "    \n",
    "    out_labels = np.empty((n, len(CHEXPERT_LABELS)), np.int8)\n",
    "    \n",
    "    offset = 0\n",
    "    \n",
    "    for job in jobs:\n",
    "        # Read chexpert-labeler output\n",
    "        out_df = pd.read_csv(job.output_path)\n",
    "        out_df = out_df.fillna(-2)\n",
    "        assert len(out_df) == len(job.texts)\n",
    "        out_labels[offset : offset + len(out_df)] = out_df[CHEXPERT_LABELS].to_numpy().astype(np.int8)\n",
    "        offset += len(out_df)\n",
    "\n",
    "    assert offset == n\n",
    "\n",
    "    return out_labels"
   ]
  },
  {
   "cell_type": "code",
   "execution_count": 44,
   "metadata": {},
   "outputs": [],
   "source": [
    "texts = list(pd.read_csv(os.path.join(TMP_FOLDER, 'labeler-input.csv'), header=None)[0])"
   ]
  },
  {
   "cell_type": "code",
   "execution_count": 45,
   "metadata": {},
   "outputs": [
    {
     "data": {
      "text/plain": [
       "477"
      ]
     },
     "execution_count": 45,
     "metadata": {},
     "output_type": "execute_result"
    }
   ],
   "source": [
    "len(texts)"
   ]
  },
  {
   "cell_type": "code",
   "execution_count": 46,
   "metadata": {},
   "outputs": [
    {
     "name": "stdout",
     "output_type": "stream",
     "text": [
      "Chexpert labeler: running a maximum of 1 concurrent processes over 1 chunks\n",
      "i=0, b=0, e=477, n=477, chunk_size=477\n",
      "\t1) Running chexpert labeler over 477 texts ...\n",
      "\tCommand = docker run -v /home/pamessina/medvqa-workspace/tmp/chexpert-labeler:/data chexpert-labeler:latest python label.py --reports_path /data/labeler-input__debug01_0.csv --output_path /data/labeler-output__debug01_0.csv\n",
      "\tprocess 1 finished, elapsed time = 111.12745642662048\n"
     ]
    }
   ],
   "source": [
    "labels1 = invoke_chexpert_labeler_process(texts, '__debug01', n_chunks=1, max_processes=1)"
   ]
  },
  {
   "cell_type": "code",
   "execution_count": 49,
   "metadata": {},
   "outputs": [
    {
     "name": "stdout",
     "output_type": "stream",
     "text": [
      "Chexpert labeler: running a maximum of 1 concurrent processes over 2 chunks\n",
      "i=0, b=0, e=239, n=477, chunk_size=239\n",
      "i=1, b=239, e=478, n=477, chunk_size=238\n",
      "\t1) Running chexpert labeler over 239 texts ...\n",
      "\tCommand = docker run -v /home/pamessina/medvqa-workspace/tmp/chexpert-labeler:/data chexpert-labeler:latest python label.py --reports_path /data/labeler-input__debug01_0.csv --output_path /data/labeler-output__debug01_0.csv\n",
      "\tprocess 1 finished, elapsed time = 58.21437931060791\n",
      "\t2) Running chexpert labeler over 238 texts ...\n",
      "\tCommand = docker run -v /home/pamessina/medvqa-workspace/tmp/chexpert-labeler:/data chexpert-labeler:latest python label.py --reports_path /data/labeler-input__debug01_1.csv --output_path /data/labeler-output__debug01_1.csv\n",
      "\tprocess 2 finished, elapsed time = 119.26192998886108\n"
     ]
    }
   ],
   "source": [
    "labels2 = invoke_chexpert_labeler_process(texts, '__debug01', n_chunks=2, max_processes=1)"
   ]
  },
  {
   "cell_type": "code",
   "execution_count": 51,
   "metadata": {},
   "outputs": [
    {
     "name": "stdout",
     "output_type": "stream",
     "text": [
      "Chexpert labeler: running a maximum of 5 concurrent processes over 10 chunks\n",
      "i=0, b=0, e=48, n=477, chunk_size=48\n",
      "i=1, b=48, e=96, n=477, chunk_size=48\n",
      "i=2, b=96, e=144, n=477, chunk_size=48\n",
      "i=3, b=144, e=192, n=477, chunk_size=48\n",
      "i=4, b=192, e=240, n=477, chunk_size=48\n",
      "i=5, b=240, e=288, n=477, chunk_size=48\n",
      "i=6, b=288, e=336, n=477, chunk_size=48\n",
      "i=7, b=336, e=384, n=477, chunk_size=48\n",
      "i=8, b=384, e=432, n=477, chunk_size=48\n",
      "i=9, b=432, e=480, n=477, chunk_size=45\n",
      "\t1) Running chexpert labeler over 48 texts ...\n",
      "\tCommand = docker run -v /home/pamessina/medvqa-workspace/tmp/chexpert-labeler:/data chexpert-labeler:latest python label.py --reports_path /data/labeler-input__debug_c10_p5_0.csv --output_path /data/labeler-output__debug_c10_p5_0.csv\n",
      "\t2) Running chexpert labeler over 48 texts ...\n",
      "\tCommand = docker run -v /home/pamessina/medvqa-workspace/tmp/chexpert-labeler:/data chexpert-labeler:latest python label.py --reports_path /data/labeler-input__debug_c10_p5_1.csv --output_path /data/labeler-output__debug_c10_p5_1.csv\n",
      "\t3) Running chexpert labeler over 48 texts ...\n",
      "\tCommand = docker run -v /home/pamessina/medvqa-workspace/tmp/chexpert-labeler:/data chexpert-labeler:latest python label.py --reports_path /data/labeler-input__debug_c10_p5_2.csv --output_path /data/labeler-output__debug_c10_p5_2.csv\n",
      "\t4) Running chexpert labeler over 48 texts ...\n",
      "\tCommand = docker run -v /home/pamessina/medvqa-workspace/tmp/chexpert-labeler:/data chexpert-labeler:latest python label.py --reports_path /data/labeler-input__debug_c10_p5_3.csv --output_path /data/labeler-output__debug_c10_p5_3.csv\n",
      "\t5) Running chexpert labeler over 48 texts ...\n",
      "\tCommand = docker run -v /home/pamessina/medvqa-workspace/tmp/chexpert-labeler:/data chexpert-labeler:latest python label.py --reports_path /data/labeler-input__debug_c10_p5_4.csv --output_path /data/labeler-output__debug_c10_p5_4.csv\n",
      "\tprocess 1 finished, elapsed time = 18.25391387939453\n",
      "\t6) Running chexpert labeler over 48 texts ...\n",
      "\tCommand = docker run -v /home/pamessina/medvqa-workspace/tmp/chexpert-labeler:/data chexpert-labeler:latest python label.py --reports_path /data/labeler-input__debug_c10_p5_5.csv --output_path /data/labeler-output__debug_c10_p5_5.csv\n",
      "\tprocess 2 finished, elapsed time = 21.318655490875244\n",
      "\t7) Running chexpert labeler over 48 texts ...\n",
      "\tCommand = docker run -v /home/pamessina/medvqa-workspace/tmp/chexpert-labeler:/data chexpert-labeler:latest python label.py --reports_path /data/labeler-input__debug_c10_p5_6.csv --output_path /data/labeler-output__debug_c10_p5_6.csv\n",
      "\tprocess 3 finished, elapsed time = 26.446038246154785\n",
      "\t8) Running chexpert labeler over 48 texts ...\n",
      "\tCommand = docker run -v /home/pamessina/medvqa-workspace/tmp/chexpert-labeler:/data chexpert-labeler:latest python label.py --reports_path /data/labeler-input__debug_c10_p5_7.csv --output_path /data/labeler-output__debug_c10_p5_7.csv\n",
      "\tprocess 4 finished, elapsed time = 27.454824924468994\n",
      "\t9) Running chexpert labeler over 48 texts ...\n",
      "\tCommand = docker run -v /home/pamessina/medvqa-workspace/tmp/chexpert-labeler:/data chexpert-labeler:latest python label.py --reports_path /data/labeler-input__debug_c10_p5_8.csv --output_path /data/labeler-output__debug_c10_p5_8.csv\n",
      "\tprocess 5 finished, elapsed time = 28.46383237838745\n",
      "\t10) Running chexpert labeler over 45 texts ...\n",
      "\tCommand = docker run -v /home/pamessina/medvqa-workspace/tmp/chexpert-labeler:/data chexpert-labeler:latest python label.py --reports_path /data/labeler-input__debug_c10_p5_9.csv --output_path /data/labeler-output__debug_c10_p5_9.csv\n",
      "\tprocess 6 finished, elapsed time = 40.50163745880127\n",
      "\tprocess 7 finished, elapsed time = 40.50193214416504\n",
      "\tprocess 8 finished, elapsed time = 47.074931621551514\n",
      "\tprocess 9 finished, elapsed time = 49.462871074676514\n",
      "\tprocess 10 finished, elapsed time = 52.59447979927063\n"
     ]
    }
   ],
   "source": [
    "labels5 = invoke_chexpert_labeler_process(texts, '__debug_c10_p5', n_chunks=10, max_processes=5)"
   ]
  },
  {
   "cell_type": "code",
   "execution_count": 53,
   "metadata": {},
   "outputs": [
    {
     "name": "stdout",
     "output_type": "stream",
     "text": [
      "Chexpert labeler: running a maximum of 5 concurrent processes over 5 chunks\n",
      "i=0, b=0, e=96, n=477, chunk_size=96\n",
      "i=1, b=96, e=192, n=477, chunk_size=96\n",
      "i=2, b=192, e=288, n=477, chunk_size=96\n",
      "i=3, b=288, e=384, n=477, chunk_size=96\n",
      "i=4, b=384, e=480, n=477, chunk_size=93\n",
      "\t1) Running chexpert labeler over 96 texts ...\n",
      "\tCommand = docker run -v /home/pamessina/medvqa-workspace/tmp/chexpert-labeler:/data chexpert-labeler:latest python label.py --reports_path /data/labeler-input__debug_c5_p5_0.csv --output_path /data/labeler-output__debug_c5_p5_0.csv\n",
      "\t2) Running chexpert labeler over 96 texts ...\n",
      "\tCommand = docker run -v /home/pamessina/medvqa-workspace/tmp/chexpert-labeler:/data chexpert-labeler:latest python label.py --reports_path /data/labeler-input__debug_c5_p5_1.csv --output_path /data/labeler-output__debug_c5_p5_1.csv\n",
      "\t3) Running chexpert labeler over 96 texts ...\n",
      "\tCommand = docker run -v /home/pamessina/medvqa-workspace/tmp/chexpert-labeler:/data chexpert-labeler:latest python label.py --reports_path /data/labeler-input__debug_c5_p5_2.csv --output_path /data/labeler-output__debug_c5_p5_2.csv\n",
      "\t4) Running chexpert labeler over 96 texts ...\n",
      "\tCommand = docker run -v /home/pamessina/medvqa-workspace/tmp/chexpert-labeler:/data chexpert-labeler:latest python label.py --reports_path /data/labeler-input__debug_c5_p5_3.csv --output_path /data/labeler-output__debug_c5_p5_3.csv\n",
      "\t5) Running chexpert labeler over 93 texts ...\n",
      "\tCommand = docker run -v /home/pamessina/medvqa-workspace/tmp/chexpert-labeler:/data chexpert-labeler:latest python label.py --reports_path /data/labeler-input__debug_c5_p5_4.csv --output_path /data/labeler-output__debug_c5_p5_4.csv\n",
      "\tprocess 1 finished, elapsed time = 28.907858848571777\n",
      "\tprocess 2 finished, elapsed time = 35.13967180252075\n",
      "\tprocess 3 finished, elapsed time = 36.51233267784119\n",
      "\tprocess 4 finished, elapsed time = 36.51299262046814\n",
      "\tprocess 5 finished, elapsed time = 39.090975284576416\n"
     ]
    }
   ],
   "source": [
    "labels5_ = invoke_chexpert_labeler_process(texts, '__debug_c5_p5', n_chunks=5, max_processes=5)"
   ]
  },
  {
   "cell_type": "code",
   "execution_count": 18,
   "metadata": {},
   "outputs": [
    {
     "name": "stdout",
     "output_type": "stream",
     "text": [
      "Chexpert labeler: running 1 processes in parallel\n",
      "i=0, b=0, e=477, n=477, chunk_size=477\n",
      "\t1) Running chexpert labeler over 477 texts ...\n",
      "\tCommand = docker run -v /home/pamessina/medvqa-workspace/tmp/chexpert-labeler:/data chexpert-labeler:latest python label.py --reports_path /data/labeler-input__debug0_0.csv --output_path /data/labeler-output__debug0_0.csv\n",
      "\tprocess 0 finished, elapsed time = 109.28207302093506\n"
     ]
    }
   ],
   "source": [
    "labels1 = invoke_chexpert_labeler_process(texts, '__debug0', n_processes=1)"
   ]
  },
  {
   "cell_type": "code",
   "execution_count": 21,
   "metadata": {
    "scrolled": true
   },
   "outputs": [
    {
     "name": "stdout",
     "output_type": "stream",
     "text": [
      "Chexpert labeler: running 2 processes in parallel\n",
      "i=0, b=0, e=238, n=477, chunk_size=238\n",
      "\t1) Running chexpert labeler over 238 texts ...\n",
      "\tCommand = docker run -v /home/pamessina/medvqa-workspace/tmp/chexpert-labeler:/data chexpert-labeler:latest python label.py --reports_path /data/labeler-input__debug2_0.csv --output_path /data/labeler-output__debug2_0.csv\n",
      "i=1, b=238, e=477, n=477, chunk_size=238\n",
      "\t2) Running chexpert labeler over 239 texts ...\n",
      "\tCommand = docker run -v /home/pamessina/medvqa-workspace/tmp/chexpert-labeler:/data chexpert-labeler:latest python label.py --reports_path /data/labeler-input__debug2_1.csv --output_path /data/labeler-output__debug2_1.csv\n",
      "\tprocess 0 finished, elapsed time = 59.74182081222534\n",
      "\tprocess 1 finished, elapsed time = 62.908774852752686\n"
     ]
    }
   ],
   "source": [
    "labels2 = invoke_chexpert_labeler_process(texts, '__debug2', n_processes=2)"
   ]
  },
  {
   "cell_type": "code",
   "execution_count": 24,
   "metadata": {},
   "outputs": [
    {
     "name": "stdout",
     "output_type": "stream",
     "text": [
      "Chexpert labeler: running 3 processes in parallel\n",
      "i=0, b=0, e=159, n=477, chunk_size=159\n",
      "\t1) Running chexpert labeler over 159 texts ...\n",
      "\tCommand = docker run -v /home/pamessina/medvqa-workspace/tmp/chexpert-labeler:/data chexpert-labeler:latest python label.py --reports_path /data/labeler-input__debug3_0.csv --output_path /data/labeler-output__debug3_0.csv\n",
      "i=1, b=159, e=318, n=477, chunk_size=159\n",
      "\t2) Running chexpert labeler over 159 texts ...\n",
      "\tCommand = docker run -v /home/pamessina/medvqa-workspace/tmp/chexpert-labeler:/data chexpert-labeler:latest python label.py --reports_path /data/labeler-input__debug3_1.csv --output_path /data/labeler-output__debug3_1.csv\n",
      "i=2, b=318, e=477, n=477, chunk_size=159\n",
      "\t3) Running chexpert labeler over 159 texts ...\n",
      "\tCommand = docker run -v /home/pamessina/medvqa-workspace/tmp/chexpert-labeler:/data chexpert-labeler:latest python label.py --reports_path /data/labeler-input__debug3_2.csv --output_path /data/labeler-output__debug3_2.csv\n",
      "\tprocess 0 finished, elapsed time = 43.3086576461792\n",
      "\tprocess 1 finished, elapsed time = 44.94981598854065\n",
      "\tprocess 2 finished, elapsed time = 48.50945973396301\n"
     ]
    }
   ],
   "source": [
    "labels3 = invoke_chexpert_labeler_process(texts, '__debug3', n_processes=3)"
   ]
  },
  {
   "cell_type": "code",
   "execution_count": 26,
   "metadata": {},
   "outputs": [
    {
     "name": "stdout",
     "output_type": "stream",
     "text": [
      "Chexpert labeler: running 8 processes in parallel\n",
      "i=0, b=0, e=59, n=477, chunk_size=59\n",
      "\t1) Running chexpert labeler over 59 texts ...\n",
      "\tCommand = docker run -v /home/pamessina/medvqa-workspace/tmp/chexpert-labeler:/data chexpert-labeler:latest python label.py --reports_path /data/labeler-input__debug8_0.csv --output_path /data/labeler-output__debug8_0.csv\n",
      "i=1, b=59, e=118, n=477, chunk_size=59\n",
      "\t2) Running chexpert labeler over 59 texts ...\n",
      "\tCommand = docker run -v /home/pamessina/medvqa-workspace/tmp/chexpert-labeler:/data chexpert-labeler:latest python label.py --reports_path /data/labeler-input__debug8_1.csv --output_path /data/labeler-output__debug8_1.csv\n",
      "i=2, b=118, e=177, n=477, chunk_size=59\n",
      "\t3) Running chexpert labeler over 59 texts ...\n",
      "\tCommand = docker run -v /home/pamessina/medvqa-workspace/tmp/chexpert-labeler:/data chexpert-labeler:latest python label.py --reports_path /data/labeler-input__debug8_2.csv --output_path /data/labeler-output__debug8_2.csv\n",
      "i=3, b=177, e=236, n=477, chunk_size=59\n",
      "\t4) Running chexpert labeler over 59 texts ...\n",
      "\tCommand = docker run -v /home/pamessina/medvqa-workspace/tmp/chexpert-labeler:/data chexpert-labeler:latest python label.py --reports_path /data/labeler-input__debug8_3.csv --output_path /data/labeler-output__debug8_3.csv\n",
      "i=4, b=236, e=295, n=477, chunk_size=59\n",
      "\t5) Running chexpert labeler over 59 texts ...\n",
      "\tCommand = docker run -v /home/pamessina/medvqa-workspace/tmp/chexpert-labeler:/data chexpert-labeler:latest python label.py --reports_path /data/labeler-input__debug8_4.csv --output_path /data/labeler-output__debug8_4.csv\n",
      "i=5, b=295, e=354, n=477, chunk_size=59\n",
      "\t6) Running chexpert labeler over 59 texts ...\n",
      "\tCommand = docker run -v /home/pamessina/medvqa-workspace/tmp/chexpert-labeler:/data chexpert-labeler:latest python label.py --reports_path /data/labeler-input__debug8_5.csv --output_path /data/labeler-output__debug8_5.csv\n",
      "i=6, b=354, e=413, n=477, chunk_size=59\n",
      "\t7) Running chexpert labeler over 59 texts ...\n",
      "\tCommand = docker run -v /home/pamessina/medvqa-workspace/tmp/chexpert-labeler:/data chexpert-labeler:latest python label.py --reports_path /data/labeler-input__debug8_6.csv --output_path /data/labeler-output__debug8_6.csv\n",
      "i=7, b=413, e=477, n=477, chunk_size=59\n",
      "\t8) Running chexpert labeler over 64 texts ...\n",
      "\tCommand = docker run -v /home/pamessina/medvqa-workspace/tmp/chexpert-labeler:/data chexpert-labeler:latest python label.py --reports_path /data/labeler-input__debug8_7.csv --output_path /data/labeler-output__debug8_7.csv\n",
      "\tprocess 0 finished, elapsed time = 18.48303484916687\n",
      "\tprocess 1 finished, elapsed time = 27.338212490081787\n",
      "\tprocess 2 finished, elapsed time = 27.338618755340576\n",
      "\tprocess 3 finished, elapsed time = 27.39862608909607\n",
      "\tprocess 4 finished, elapsed time = 28.834975481033325\n",
      "\tprocess 5 finished, elapsed time = 28.835558652877808\n",
      "\tprocess 6 finished, elapsed time = 31.79205083847046\n",
      "\tprocess 7 finished, elapsed time = 33.054194688797\n"
     ]
    }
   ],
   "source": [
    "labels8 = invoke_chexpert_labeler_process(texts, '__debug8', n_processes=8)"
   ]
  },
  {
   "cell_type": "code",
   "execution_count": 59,
   "metadata": {},
   "outputs": [
    {
     "data": {
      "text/plain": [
       "(1000, 1)"
      ]
     },
     "execution_count": 59,
     "metadata": {},
     "output_type": "execute_result"
    }
   ],
   "source": [
    "n = 1000\n",
    "n_chunks = 1\n",
    "chunk_size = n // n_chunks + (n % n_chunks > 0)\n",
    "\n",
    "if chunk_size < 80:\n",
    "    chunk_size = 80\n",
    "    n_chunks = n // chunk_size + (n % chunk_size > 0)\n",
    "    chunk_size = n // n_chunks + (n % n_chunks > 0)\n",
    "    \n",
    "(chunk_size, n_chunks)"
   ]
  }
 ],
 "metadata": {
  "kernelspec": {
   "display_name": "Python 3",
   "language": "python",
   "name": "python3"
  },
  "language_info": {
   "codemirror_mode": {
    "name": "ipython",
    "version": 3
   },
   "file_extension": ".py",
   "mimetype": "text/x-python",
   "name": "python",
   "nbconvert_exporter": "python",
   "pygments_lexer": "ipython3",
   "version": "3.6.9"
  }
 },
 "nbformat": 4,
 "nbformat_minor": 4
}
