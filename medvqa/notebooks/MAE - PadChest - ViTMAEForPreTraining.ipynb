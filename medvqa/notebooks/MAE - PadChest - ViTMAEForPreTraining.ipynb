{
 "cells": [
  {
   "cell_type": "code",
   "execution_count": 1,
   "metadata": {},
   "outputs": [
    {
     "name": "stdout",
     "output_type": "stream",
     "text": [
      "env: CUDA_VISIBLE_DEVICES=1\n"
     ]
    }
   ],
   "source": [
    "%env CUDA_VISIBLE_DEVICES=1"
   ]
  },
  {
   "cell_type": "code",
   "execution_count": 2,
   "metadata": {},
   "outputs": [],
   "source": [
    "from medvqa.train_mae import debug_main\n",
    "import shlex"
   ]
  },
  {
   "cell_type": "code",
   "execution_count": 3,
   "metadata": {
    "scrolled": false
   },
   "outputs": [
    {
     "name": "stdout",
     "output_type": "stream",
     "text": [
      "script's arguments:\n",
      "   epochs: 1\n",
      "   batches_per_epoch: 20\n",
      "   checkpoint_folder: None\n",
      "   pretrained_model_name_or_path: facebook/vit-mae-base\n",
      "   optimizer_name: adamw\n",
      "   num_accumulation_steps: 1\n",
      "   lr: 1e-06\n",
      "   override_lr: False\n",
      "   scheduler: warmup+decay\n",
      "   lr_decay: 0.76\n",
      "   lr_decay_patience: 2\n",
      "   warmup_and_decay_args: 1e-6,4,4e-4,76,5e-6\n",
      "   warmup_and_cosine_args: None\n",
      "   num_workers: 3\n",
      "   batch_size: 80\n",
      "   device: GPU\n",
      "   padchest_weight: 1.0\n",
      "   use_amp: True\n",
      "   use_padchest: True\n",
      "   padchest_training_data_mode: all\n",
      "   padchest_use_validation: True\n",
      "   padchest_train_study_ids_path: /home/pamessina/medvqa-workspace/cache/padchest/train_study_ids_20221213_201435.txt\n",
      "   padchest_val_study_ids_path: /home/pamessina/medvqa-workspace/cache/padchest/val_study_ids_20221213_201435.txt\n",
      "   padchest_test_study_ids_path: /home/pamessina/medvqa-workspace/cache/padchest/test_study_ids_20221213_201435.txt\n",
      "   save: False\n",
      "\u001b[34m------------------- Training ViTMAE from scratch -------------------\u001b[0m\n",
      "\u001b[34m--------------------------------------------------\u001b[0m\n",
      "\u001b[34m1) \u001b[0m\u001b[34mDevice: cuda\u001b[0m\n",
      "\u001b[34m--------------------------------------------------\u001b[0m\n",
      "\u001b[34m2) \u001b[0m\u001b[34mCreating instance of ViTMAEForPreTraining ...\u001b[0m\n",
      "pretrained_model_name_or_path: facebook/vit-mae-base\n",
      "\u001b[34m--------------------------------------------------\u001b[0m\n",
      "\u001b[34m3) \u001b[0m\u001b[34mCreating optimizer ...\u001b[0m\n",
      "create_optimizer(): name = adamw\n",
      "\u001b[34m--------------------------------------------------\u001b[0m\n",
      "\u001b[34m4) \u001b[0m\u001b[34mCreating learning rate scheduler ...\u001b[0m\n",
      "Using warmup+decay scheduler: 1e-6,4,4e-4,76,5e-6\n",
      "1e-06 4 0.0004 76 5e-06\n",
      "Adjusting learning rate of group 0 to 1.0000e-06.\n",
      "Adjusting learning rate of group 0 to 1.0000e-06.\n",
      "\u001b[34m--------------------------------------------------\u001b[0m\n",
      "\u001b[34m5) \u001b[0m\u001b[34mCreating trainer and validator engines ...\u001b[0m\n",
      "\u001b[34m--------------------------------------------------\u001b[0m\n",
      "\u001b[34m6) \u001b[0m\u001b[34mCreating instance of ViTFeatureExtractor ...\u001b[0m\n",
      "\u001b[34m--------------------------------------------------\u001b[0m\n",
      "\u001b[34m7) \u001b[0m\u001b[34mCreating image transform ...\u001b[0m\n",
      "\u001b[34m--------------------------------------------------\u001b[0m\n",
      "\u001b[34m8) \u001b[0m\u001b[34mCreating PadChest MAE trainer ...\u001b[0m\n"
     ]
    },
    {
     "name": "stderr",
     "output_type": "stream",
     "text": [
      "/home/pamessina/MedVQA/medvqa/datasets/padchest/padchest_dataset_management.py:590: DtypeWarning: Columns (19,20) have mixed types.Specify dtype option on import or set low_memory=False.\n",
      "  training_data_mode, use_validation_set, keep_one_projection_per_study=False)\n"
     ]
    },
    {
     "name": "stdout",
     "output_type": "stream",
     "text": [
      "Number of rows before filtering: 160861\n",
      "Number of rows after filtering: 160754 (dropped nan rows)\n",
      "Number of rows after filtering: 160741 (dropped study ids not in all_study_ids_set)\n",
      "Number of rows after filtering: 160723 (dropped rows with unexpected PatientSex_DICOM)\n",
      "Number of rows after filtering: 160704 (dropped rows with unexpected Projection)\n",
      "Number of rows after filtering: 160692 (dropped rows with broken images)\n",
      "Number of labels: 193\n",
      "Number of localizations: 104\n",
      "Creating train dataset and dataloader ...\n"
     ]
    },
    {
     "name": "stderr",
     "output_type": "stream",
     "text": [
      "100%|███████████████████████████████████████████████████████████████████████████████████████████| 193/193 [00:48<00:00,  3.94it/s]\n"
     ]
    },
    {
     "name": "stdout",
     "output_type": "stream",
     "text": [
      "Done!\n",
      "Train dataset size: 1000000000000000000\n",
      "Creating val dataset and dataloader ...\n",
      "Done!\n",
      "Val dataset size: 5526\n"
     ]
    }
   ],
   "source": [
    "output = debug_main(args=shlex.split(\n",
    "    ' '.join([        \n",
    "        '--epochs 1',\n",
    "        '--batches-per-epoch 20',\n",
    "        '--batch-size 80',\n",
    "        '--num-accumulation-steps 1',\n",
    "        '--num-workers 3',\n",
    "        '--optimizer-name \"adamw\"',\n",
    "        '--scheduler \"warmup+decay\"',\n",
    "        '--lr 1e-6',\n",
    "        '--warmup-and-decay-args \"1e-6,4,4e-4,76,5e-6\"',\n",
    "        '--use-padchest',\n",
    "        '--padchest-use-validation',\n",
    "        '--padchest-weight 1',\n",
    "        '--padchest-train-study-ids-path \"/home/pamessina/medvqa-workspace/cache/padchest/train_study_ids_20221213_201435.txt\"',\n",
    "        '--padchest-val-study-ids-path \"/home/pamessina/medvqa-workspace/cache/padchest/val_study_ids_20221213_201435.txt\"',\n",
    "        '--padchest-test-study-ids-path \"/home/pamessina/medvqa-workspace/cache/padchest/test_study_ids_20221213_201435.txt\"',\n",
    "        '--use-amp',\n",
    "        '--no-save',\n",
    "    ])\n",
    "))"
   ]
  },
  {
   "cell_type": "code",
   "execution_count": 10,
   "metadata": {},
   "outputs": [
    {
     "data": {
      "text/plain": [
       "99254"
      ]
     },
     "execution_count": 10,
     "metadata": {},
     "output_type": "execute_result"
    }
   ],
   "source": [
    "output['padchest_mae_trainer'].train_dataset[0]['idx']"
   ]
  },
  {
   "cell_type": "code",
   "execution_count": 13,
   "metadata": {},
   "outputs": [
    {
     "data": {
      "text/plain": [
       "{'idx': 3,\n",
       " 'i': tensor([[[-0.3883, -0.4568, -0.4568,  ..., -1.4843, -1.5014, -1.4843],\n",
       "          [-0.4226, -0.4054, -0.3883,  ..., -1.4672, -1.4672, -1.4843],\n",
       "          [-0.4054, -0.4054, -0.3883,  ..., -1.4500, -1.4500, -1.4843],\n",
       "          ...,\n",
       "          [ 1.2214,  1.2385,  1.3413,  ...,  0.7762,  0.7591,  0.7077],\n",
       "          [ 1.2385,  1.2214,  1.3413,  ...,  0.8276,  0.7762,  0.7933],\n",
       "          [ 1.2899,  1.3070,  1.3755,  ...,  0.8961,  0.8447,  0.8276]],\n",
       " \n",
       "         [[-0.2675, -0.3375, -0.3375,  ..., -1.3880, -1.4055, -1.3880],\n",
       "          [-0.3025, -0.2850, -0.2675,  ..., -1.3704, -1.3704, -1.3880],\n",
       "          [-0.2850, -0.2850, -0.2675,  ..., -1.3529, -1.3529, -1.3880],\n",
       "          ...,\n",
       "          [ 1.3782,  1.3957,  1.5007,  ...,  0.9230,  0.9055,  0.8529],\n",
       "          [ 1.3957,  1.3782,  1.5007,  ...,  0.9755,  0.9230,  0.9405],\n",
       "          [ 1.4482,  1.4657,  1.5357,  ...,  1.0455,  0.9930,  0.9755]],\n",
       " \n",
       "         [[-0.0441, -0.1138, -0.1138,  ..., -1.1596, -1.1770, -1.1596],\n",
       "          [-0.0790, -0.0615, -0.0441,  ..., -1.1421, -1.1421, -1.1596],\n",
       "          [-0.0615, -0.0615, -0.0441,  ..., -1.1247, -1.1247, -1.1596],\n",
       "          ...,\n",
       "          [ 1.5942,  1.6117,  1.7163,  ...,  1.1411,  1.1237,  1.0714],\n",
       "          [ 1.6117,  1.5942,  1.7163,  ...,  1.1934,  1.1411,  1.1585],\n",
       "          [ 1.6640,  1.6814,  1.7511,  ...,  1.2631,  1.2108,  1.1934]]])}"
      ]
     },
     "execution_count": 13,
     "metadata": {},
     "output_type": "execute_result"
    }
   ],
   "source": [
    "output['padchest_mae_trainer'].val_dataset[0]"
   ]
  },
  {
   "cell_type": "code",
   "execution_count": 7,
   "metadata": {
    "scrolled": false
   },
   "outputs": [
    {
     "name": "stdout",
     "output_type": "stream",
     "text": [
      "script's arguments:\n",
      "   epochs: 3\n",
      "   batches_per_epoch: 20\n",
      "   checkpoint_folder: None\n",
      "   pretrained_model_name_or_path: facebook/vit-mae-base\n",
      "   optimizer_name: adamw\n",
      "   num_accumulation_steps: 1\n",
      "   lr: 1e-06\n",
      "   override_lr: False\n",
      "   scheduler: warmup+decay\n",
      "   lr_decay: 0.76\n",
      "   lr_decay_patience: 2\n",
      "   warmup_and_decay_args: 1e-6,4,4e-4,76,5e-6\n",
      "   warmup_and_cosine_args: None\n",
      "   num_workers: 3\n",
      "   batch_size: 80\n",
      "   device: GPU\n",
      "   padchest_weight: 1.0\n",
      "   use_amp: True\n",
      "   use_padchest: True\n",
      "   padchest_training_data_mode: all\n",
      "   padchest_use_validation: True\n",
      "   padchest_train_study_ids_path: /home/pamessina/medvqa-workspace/cache/padchest/train_study_ids_20221213_201435.txt\n",
      "   padchest_val_study_ids_path: /home/pamessina/medvqa-workspace/cache/padchest/val_study_ids_20221213_201435.txt\n",
      "   padchest_test_study_ids_path: /home/pamessina/medvqa-workspace/cache/padchest/test_study_ids_20221213_201435.txt\n",
      "   save: True\n",
      "\u001b[34m------------------- Training ViTMAE from scratch -------------------\u001b[0m\n",
      "\u001b[34m--------------------------------------------------\u001b[0m\n",
      "\u001b[34m1) \u001b[0m\u001b[34mDevice: cuda\u001b[0m\n",
      "\u001b[34m--------------------------------------------------\u001b[0m\n",
      "\u001b[34m2) \u001b[0m\u001b[34mCreating instance of ViTMAEForPreTraining ...\u001b[0m\n",
      "pretrained_model_name_or_path: facebook/vit-mae-base\n",
      "\u001b[34m--------------------------------------------------\u001b[0m\n",
      "\u001b[34m3) \u001b[0m\u001b[34mCreating optimizer ...\u001b[0m\n",
      "create_optimizer(): name = adamw\n",
      "\u001b[34m--------------------------------------------------\u001b[0m\n",
      "\u001b[34m4) \u001b[0m\u001b[34mCreating learning rate scheduler ...\u001b[0m\n",
      "Using warmup+decay scheduler: 1e-6,4,4e-4,76,5e-6\n",
      "1e-06 4 0.0004 76 5e-06\n",
      "Adjusting learning rate of group 0 to 1.0000e-06.\n",
      "Adjusting learning rate of group 0 to 1.0000e-06.\n",
      "\u001b[34m--------------------------------------------------\u001b[0m\n",
      "\u001b[34m5) \u001b[0m\u001b[34mCreating trainer and validator engines ...\u001b[0m\n",
      "\u001b[34m--------------------------------------------------\u001b[0m\n",
      "\u001b[34m6) \u001b[0m\u001b[34mCreating instance of ViTFeatureExtractor ...\u001b[0m\n",
      "\u001b[34m--------------------------------------------------\u001b[0m\n",
      "\u001b[34m7) \u001b[0m\u001b[34mCreating image transform ...\u001b[0m\n",
      "\u001b[34m--------------------------------------------------\u001b[0m\n",
      "\u001b[34m8) \u001b[0m\u001b[34mCreating PadChest MAE trainer ...\u001b[0m\n",
      "/home/pamessina/MedVQA/medvqa/datasets/padchest/padchest_dataset_management.py:590: DtypeWarning: Columns (19,20) have mixed types.Specify dtype option on import or set low_memory=False.\n",
      "  training_data_mode, use_validation_set, keep_one_projection_per_study=False)\n",
      "Number of rows before filtering: 160861\n",
      "Number of rows after filtering: 160754 (dropped nan rows)\n",
      "Number of rows after filtering: 160741 (dropped study ids not in all_study_ids_set)\n",
      "Number of rows after filtering: 160723 (dropped rows with unexpected PatientSex_DICOM)\n",
      "Number of rows after filtering: 160704 (dropped rows with unexpected Projection)\n",
      "Number of rows after filtering: 160692 (dropped rows with broken images)\n",
      "Number of labels: 193\n",
      "Number of localizations: 104\n",
      "Creating train dataset and dataloader ...\n",
      "100%|█████████████████████████████████████████| 193/193 [01:23<00:00,  2.32it/s]\n",
      "Done!\n",
      "Train dataset size: 1000000000000000000\n",
      "Creating val dataset and dataloader ...\n",
      "Done!\n",
      "Val dataset size: 5526\n",
      "\u001b[34m--------------------------------------------------\u001b[0m\n",
      "\u001b[34m9) \u001b[0m\u001b[34mCreating dataloaders ...\u001b[0m\n",
      "len(_train_dataloaders) = 1\n",
      "len(_val_dataloaders) = 1\n",
      "_train_weights = [1.0]\n",
      "merged_dataset_name = padchest\n",
      "\u001b[34m--------------------------------------------------\u001b[0m\n",
      "\u001b[34m10) \u001b[0m\u001b[34mAttaching metrics, losses, timer and events to engines ...\u001b[0m\n",
      "\u001b[34m--------------------------------------------------\u001b[0m\n",
      "\u001b[34m11) \u001b[0m\u001b[34mCreating learning rate scheduler handler ...\u001b[0m\n",
      "\u001b[34m--------------------------------------------------\u001b[0m\n",
      "\u001b[34m12) \u001b[0m\u001b[34mDefining checkpoint folder path ...\u001b[0m\n",
      "\u001b[31mcheckpoint_folder_path =\u001b[0m \u001b[31m/home/pamessina/medvqa-workspace/models/mae/20221224_173745_padchest_VitMAE\u001b[0m\n",
      "metadata saved to /home/pamessina/medvqa-workspace/models/mae/20221224_173745_padchest_VitMAE/metadata.json\n",
      "\u001b[34m--------------------------------------------------\u001b[0m\n",
      "\u001b[34m13) \u001b[0m\u001b[34mCreating log_metrics_handler ...\u001b[0m\n",
      "MetricsLogger :: we'll be logging to /home/pamessina/medvqa-workspace/models/mae/20221224_173745_padchest_VitMAE/metrics_logs.csv\n",
      "\u001b[34m--------------------------------------------------\u001b[0m\n",
      "\u001b[34m14) \u001b[0m\u001b[34mRunning trainer engine ...\u001b[0m\n",
      "---- Epoch 1/3\n",
      "(1) Training stage (lr = 0.000001) ...\n",
      "loss 0.04299, 131.77 secs\n",
      "(2) Validation stage ...\n",
      "^C iteration 40\n",
      "Engine run is terminating due to exception: \n"
     ]
    }
   ],
   "source": [
    "!python ../train_mae.py \\\n",
    "        --epochs 3 \\\n",
    "        --batches-per-epoch 20 \\\n",
    "        --batch-size 80 \\\n",
    "        --num-accumulation-steps 1 \\\n",
    "        --num-workers 3 \\\n",
    "        --optimizer-name \"adamw\" \\\n",
    "        --scheduler \"warmup+decay\" \\\n",
    "        --lr 1e-6 \\\n",
    "        --warmup-and-decay-args \"1e-6,4,4e-4,76,5e-6\" \\\n",
    "        --use-padchest \\\n",
    "        --padchest-use-validation \\\n",
    "        --padchest-weight 1 \\\n",
    "        --padchest-train-study-ids-path \"/home/pamessina/medvqa-workspace/cache/padchest/train_study_ids_20221213_201435.txt\" \\\n",
    "        --padchest-val-study-ids-path \"/home/pamessina/medvqa-workspace/cache/padchest/val_study_ids_20221213_201435.txt\" \\\n",
    "        --padchest-test-study-ids-path \"/home/pamessina/medvqa-workspace/cache/padchest/test_study_ids_20221213_201435.txt\" \\\n",
    "        --use-amp \\\n",
    "        --save"
   ]
  }
 ],
 "metadata": {
  "kernelspec": {
   "display_name": "Python 3 (ipykernel)",
   "language": "python",
   "name": "python3"
  },
  "language_info": {
   "codemirror_mode": {
    "name": "ipython",
    "version": 3
   },
   "file_extension": ".py",
   "mimetype": "text/x-python",
   "name": "python",
   "nbconvert_exporter": "python",
   "pygments_lexer": "ipython3",
   "version": "3.7.10"
  }
 },
 "nbformat": 4,
 "nbformat_minor": 4
}
