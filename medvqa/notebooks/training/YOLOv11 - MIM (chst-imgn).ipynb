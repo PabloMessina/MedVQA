{
 "cells": [
  {
   "cell_type": "code",
   "execution_count": 1,
   "metadata": {},
   "outputs": [
    {
     "name": "stdout",
     "output_type": "stream",
     "text": [
      "env: CUDA_VISIBLE_DEVICES=1\n"
     ]
    }
   ],
   "source": [
    "%env CUDA_VISIBLE_DEVICES=1"
   ]
  },
  {
   "cell_type": "code",
   "execution_count": null,
   "metadata": {
    "scrolled": false
   },
   "outputs": [
    {
     "name": "stdout",
     "output_type": "stream",
     "text": [
      "script's arguments:\n",
      "   model_name_or_path: yolo11l.pt\n",
      "   decent_images_only: True\n",
      "   validation_only: False\n",
      "   image_size: 416\n",
      "   batch_size: 25\n",
      "   epochs: 5\n",
      "   workers: 5\n",
      "   debug: False\n",
      "Found /home/pamessina/medvqa-workspace/cache/chest_imagenome/yolov5/images/train(decent_images_only).txt\n",
      "Found /home/pamessina/medvqa-workspace/cache/chest_imagenome/yolov5/images/val(decent_images_only).txt\n",
      "Found /home/pamessina/medvqa-workspace/cache/chest_imagenome/yolov5/images/test(decent_images_only).txt\n",
      "Found /mnt/workspace/physionet.org/files/mimic-cxr-jpg/chest_imagenome_yolov5_labels\n",
      "Found /home/pamessina/medvqa-workspace/cache/chest_imagenome/yolov5/config(decent_images_only).yaml\n",
      "(DEBUGGING) args: {'task': 'detect', 'data': '/home/pamessina/medvqa-workspace/cache/chest_imagenome/yolov5/config(decent_images_only).yaml', 'imgsz': 416, 'single_cls': False, 'model': 'yolo11l.pt', 'epochs': 5, 'batch': 25, 'workers': 5, 'project': '/mnt/data/pamessina/workspaces/medvqa-workspace/cache/chest_imagenome/yolov11', 'mode': 'train'}\n",
      "Ultralytics 8.3.31 🚀 Python-3.10.10 torch-2.3.0+cu121 CUDA:0 (NVIDIA GeForce RTX 2080 Ti, 11004MiB)\n",
      "\u001b[34m\u001b[1mengine/trainer: \u001b[0mtask=detect, mode=train, model=yolo11l.pt, data=/home/pamessina/medvqa-workspace/cache/chest_imagenome/yolov5/config(decent_images_only).yaml, epochs=5, time=None, patience=100, batch=25, imgsz=416, save=True, save_period=-1, cache=False, device=None, workers=5, project=/mnt/data/pamessina/workspaces/medvqa-workspace/cache/chest_imagenome/yolov11, name=train4, exist_ok=False, pretrained=True, optimizer=auto, verbose=True, seed=0, deterministic=True, single_cls=False, rect=False, cos_lr=False, close_mosaic=10, resume=False, amp=True, fraction=1.0, profile=False, freeze=None, multi_scale=False, overlap_mask=True, mask_ratio=4, dropout=0.0, val=True, split=val, save_json=False, save_hybrid=False, conf=None, iou=0.7, max_det=300, half=False, dnn=False, plots=True, source=None, vid_stride=1, stream_buffer=False, visualize=False, augment=False, agnostic_nms=False, classes=None, retina_masks=False, embed=None, show=False, save_frames=False, save_txt=False, save_conf=False, save_crop=False, show_labels=True, show_conf=True, show_boxes=True, line_width=None, format=torchscript, keras=False, optimize=False, int8=False, dynamic=False, simplify=True, opset=None, workspace=4, nms=False, lr0=0.01, lrf=0.01, momentum=0.937, weight_decay=0.0005, warmup_epochs=3.0, warmup_momentum=0.8, warmup_bias_lr=0.1, box=7.5, cls=0.5, dfl=1.5, pose=12.0, kobj=1.0, label_smoothing=0.0, nbs=64, hsv_h=0.015, hsv_s=0.7, hsv_v=0.4, degrees=0.0, translate=0.1, scale=0.5, shear=0.0, perspective=0.0, flipud=0.0, fliplr=0.5, bgr=0.0, mosaic=1.0, mixup=0.0, copy_paste=0.0, copy_paste_mode=flip, auto_augment=randaugment, erasing=0.4, crop_fraction=1.0, cfg=None, tracker=botsort.yaml, save_dir=/mnt/data/pamessina/workspaces/medvqa-workspace/cache/chest_imagenome/yolov11/train4\n",
      "Overriding model.yaml nc=80 with nc=36\n",
      "\n",
      "                   from  n    params  module                                       arguments                     \n",
      "  0                  -1  1      1856  ultralytics.nn.modules.conv.Conv             [3, 64, 3, 2]                 \n",
      "  1                  -1  1     73984  ultralytics.nn.modules.conv.Conv             [64, 128, 3, 2]               \n",
      "  2                  -1  2    173824  ultralytics.nn.modules.block.C3k2            [128, 256, 2, True, 0.25]     \n",
      "  3                  -1  1    590336  ultralytics.nn.modules.conv.Conv             [256, 256, 3, 2]              \n",
      "  4                  -1  2    691712  ultralytics.nn.modules.block.C3k2            [256, 512, 2, True, 0.25]     \n",
      "  5                  -1  1   2360320  ultralytics.nn.modules.conv.Conv             [512, 512, 3, 2]              \n",
      "  6                  -1  2   2234368  ultralytics.nn.modules.block.C3k2            [512, 512, 2, True]           \n",
      "  7                  -1  1   2360320  ultralytics.nn.modules.conv.Conv             [512, 512, 3, 2]              \n",
      "  8                  -1  2   2234368  ultralytics.nn.modules.block.C3k2            [512, 512, 2, True]           \n",
      "  9                  -1  1    656896  ultralytics.nn.modules.block.SPPF            [512, 512, 5]                 \n",
      " 10                  -1  2   1455616  ultralytics.nn.modules.block.C2PSA           [512, 512, 2]                 \n",
      " 11                  -1  1         0  torch.nn.modules.upsampling.Upsample         [None, 2, 'nearest']          \n",
      " 12             [-1, 6]  1         0  ultralytics.nn.modules.conv.Concat           [1]                           \n",
      " 13                  -1  2   2496512  ultralytics.nn.modules.block.C3k2            [1024, 512, 2, True]          \n",
      " 14                  -1  1         0  torch.nn.modules.upsampling.Upsample         [None, 2, 'nearest']          \n",
      " 15             [-1, 4]  1         0  ultralytics.nn.modules.conv.Concat           [1]                           \n",
      " 16                  -1  2    756736  ultralytics.nn.modules.block.C3k2            [1024, 256, 2, True]          \n",
      " 17                  -1  1    590336  ultralytics.nn.modules.conv.Conv             [256, 256, 3, 2]              \n",
      " 18            [-1, 13]  1         0  ultralytics.nn.modules.conv.Concat           [1]                           \n",
      " 19                  -1  2   2365440  ultralytics.nn.modules.block.C3k2            [768, 512, 2, True]           \n",
      " 20                  -1  1   2360320  ultralytics.nn.modules.conv.Conv             [512, 512, 3, 2]              \n",
      " 21            [-1, 10]  1         0  ultralytics.nn.modules.conv.Concat           [1]                           \n",
      " 22                  -1  2   2496512  ultralytics.nn.modules.block.C3k2            [1024, 512, 2, True]          \n",
      " 23        [16, 19, 22]  1   1438780  ultralytics.nn.modules.head.Detect           [36, [256, 512, 512]]         \n",
      "YOLO11l summary: 631 layers, 25,338,236 parameters, 25,338,220 gradients, 87.4 GFLOPs\n",
      "\n",
      "Transferred 1009/1015 items from pretrained weights\n",
      "\u001b[34m\u001b[1mTensorBoard: \u001b[0mStart with 'tensorboard --logdir /mnt/data/pamessina/workspaces/medvqa-workspace/cache/chest_imagenome/yolov11/train4', view at http://localhost:6006/\n",
      "Freezing layer 'model.23.dfl.conv.weight'\n",
      "\u001b[34m\u001b[1mAMP: \u001b[0mrunning Automatic Mixed Precision (AMP) checks...\n",
      "\u001b[34m\u001b[1mAMP: \u001b[0mchecks passed ✅\n",
      "(DEBUGGING) from dataset.py::YOLODataset::__init__\n",
      "self.data: {'path': PosixPath('/home/pamessina/medvqa-workspace/cache/chest_imagenome/yolov5'), 'train': '/home/pamessina/medvqa-workspace/cache/chest_imagenome/yolov5/images/train(decent_images_only).txt', 'val': '/home/pamessina/medvqa-workspace/cache/chest_imagenome/yolov5/images/val(decent_images_only).txt', 'test': '/home/pamessina/medvqa-workspace/cache/chest_imagenome/yolov5/images/test(decent_images_only).txt', 'source_pattern': '/mnt/workspace/physionet.org/files/mimic-cxr-jpg/2.0.0/files', 'target_pattern': '/mnt/workspace/physionet.org/files/mimic-cxr-jpg/chest_imagenome_yolov5_labels', 'nc': 36, 'names': {0: 'right lung', 1: 'right upper lung zone', 2: 'right mid lung zone', 3: 'right lower lung zone', 4: 'right hilar structures', 5: 'right apical zone', 6: 'right costophrenic angle', 7: 'right cardiophrenic angle', 8: 'right hemidiaphragm', 9: 'left lung', 10: 'left upper lung zone', 11: 'left mid lung zone', 12: 'left lower lung zone', 13: 'left hilar structures', 14: 'left apical zone', 15: 'left costophrenic angle', 16: 'left hemidiaphragm', 17: 'trachea', 18: 'spine', 19: 'right clavicle', 20: 'left clavicle', 21: 'aortic arch', 22: 'mediastinum', 23: 'upper mediastinum', 24: 'svc', 25: 'cardiac silhouette', 26: 'left cardiac silhouette', 27: 'right cardiac silhouette', 28: 'cavoatrial junction', 29: 'right atrium', 30: 'descending aorta', 31: 'carina', 32: 'left upper abdomen', 33: 'right upper abdomen', 34: 'abdomen', 35: 'left cardiophrenic angle'}, 'yaml_file': '/home/pamessina/medvqa-workspace/cache/chest_imagenome/yolov5/config(decent_images_only).yaml'}\n",
      "\u001b[34m\u001b[1mtrain: \u001b[0mScanning /mnt/workspace/physionet.org/files/mimic-cxr-jpg/chest_imagenome\u001b[0m\n",
      "\u001b[34m\u001b[1mtrain: \u001b[0mNew cache created: /mnt/workspace/physionet.org/files/mimic-cxr-jpg/chest_imagenome_yolov5_labels/p10/p10000032/s50414267.cache\n",
      "\u001b[34m\u001b[1malbumentations: \u001b[0mBlur(p=0.01, blur_limit=(3, 7)), MedianBlur(p=0.01, blur_limit=(3, 7)), ToGray(p=0.01), CLAHE(p=0.01, clip_limit=(1, 4.0), tile_grid_size=(8, 8))\n"
     ]
    },
    {
     "name": "stdout",
     "output_type": "stream",
     "text": [
      "(DEBUGGING) from dataset.py::YOLODataset::__init__\n",
      "self.data: {'path': PosixPath('/home/pamessina/medvqa-workspace/cache/chest_imagenome/yolov5'), 'train': '/home/pamessina/medvqa-workspace/cache/chest_imagenome/yolov5/images/train(decent_images_only).txt', 'val': '/home/pamessina/medvqa-workspace/cache/chest_imagenome/yolov5/images/val(decent_images_only).txt', 'test': '/home/pamessina/medvqa-workspace/cache/chest_imagenome/yolov5/images/test(decent_images_only).txt', 'source_pattern': '/mnt/workspace/physionet.org/files/mimic-cxr-jpg/2.0.0/files', 'target_pattern': '/mnt/workspace/physionet.org/files/mimic-cxr-jpg/chest_imagenome_yolov5_labels', 'nc': 36, 'names': {0: 'right lung', 1: 'right upper lung zone', 2: 'right mid lung zone', 3: 'right lower lung zone', 4: 'right hilar structures', 5: 'right apical zone', 6: 'right costophrenic angle', 7: 'right cardiophrenic angle', 8: 'right hemidiaphragm', 9: 'left lung', 10: 'left upper lung zone', 11: 'left mid lung zone', 12: 'left lower lung zone', 13: 'left hilar structures', 14: 'left apical zone', 15: 'left costophrenic angle', 16: 'left hemidiaphragm', 17: 'trachea', 18: 'spine', 19: 'right clavicle', 20: 'left clavicle', 21: 'aortic arch', 22: 'mediastinum', 23: 'upper mediastinum', 24: 'svc', 25: 'cardiac silhouette', 26: 'left cardiac silhouette', 27: 'right cardiac silhouette', 28: 'cavoatrial junction', 29: 'right atrium', 30: 'descending aorta', 31: 'carina', 32: 'left upper abdomen', 33: 'right upper abdomen', 34: 'abdomen', 35: 'left cardiophrenic angle'}, 'yaml_file': '/home/pamessina/medvqa-workspace/cache/chest_imagenome/yolov5/config(decent_images_only).yaml'}\n",
      "\u001b[34m\u001b[1mval: \u001b[0mScanning /mnt/workspace/physionet.org/files/mimic-cxr-jpg/chest_imagenome_y\u001b[0m\n",
      "\u001b[34m\u001b[1mval: \u001b[0mNew cache created: /mnt/workspace/physionet.org/files/mimic-cxr-jpg/chest_imagenome_yolov5_labels/p10/p10003502/s50084553.cache\n",
      "Plotting labels to /mnt/data/pamessina/workspaces/medvqa-workspace/cache/chest_imagenome/yolov11/train4/labels.jpg... \n",
      "\u001b[34m\u001b[1moptimizer:\u001b[0m 'optimizer=auto' found, ignoring 'lr0=0.01' and 'momentum=0.937' and determining best 'optimizer', 'lr0' and 'momentum' automatically... \n",
      "\u001b[34m\u001b[1moptimizer:\u001b[0m SGD(lr=0.01, momentum=0.9) with parameter groups 167 weight(decay=0.0), 174 weight(decay=0.0005859375000000001), 173 bias(decay=0.0)\n",
      "\u001b[34m\u001b[1mTensorBoard: \u001b[0mmodel graph visualization added ✅\n",
      "Image sizes 416 train, 416 val\n",
      "Using 5 dataloader workers\n",
      "Logging results to \u001b[1m/mnt/data/pamessina/workspaces/medvqa-workspace/cache/chest_imagenome/yolov11/train4\u001b[0m\n",
      "Starting training for 5 epochs...\n",
      "\n",
      "      Epoch    GPU_mem   box_loss   cls_loss   dfl_loss  Instances       Size\n",
      "        1/5      7.81G        1.2     0.8664      1.401        873        416: 1\n",
      "                 Class     Images  Instances      Box(P          R      mAP50  m\n",
      "                   all       1934      69098      0.917      0.871      0.911       0.66\n",
      "\n",
      "      Epoch    GPU_mem   box_loss   cls_loss   dfl_loss  Instances       Size\n",
      "        2/5      7.65G      1.024      0.565      1.256       1422        416:  "
     ]
    }
   ],
   "source": [
    "!/home/pamessina/venv2/bin/python ../train_yolov11.py \\\n",
    "    --decent-images-only \\\n",
    "    --epochs 5 \\\n",
    "    --model-name-or-path \"yolo11l.pt\" \\\n",
    "    --batch-size 25 \\\n",
    "    --workers 5"
   ]
  }
 ],
 "metadata": {
  "kernelspec": {
   "display_name": "venv2",
   "language": "python",
   "name": "venv2"
  },
  "language_info": {
   "codemirror_mode": {
    "name": "ipython",
    "version": 3
   },
   "file_extension": ".py",
   "mimetype": "text/x-python",
   "name": "python",
   "nbconvert_exporter": "python",
   "pygments_lexer": "ipython3",
   "version": "3.10.10"
  }
 },
 "nbformat": 4,
 "nbformat_minor": 4
}
