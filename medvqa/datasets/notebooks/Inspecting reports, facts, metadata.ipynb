{
 "cells": [
  {
   "cell_type": "code",
   "execution_count": 4,
   "id": "75d2512a",
   "metadata": {},
   "outputs": [],
   "source": [
    "from importlib import reload\n",
    "import medvqa"
   ]
  },
  {
   "cell_type": "code",
   "execution_count": 10,
   "id": "7957a28c",
   "metadata": {},
   "outputs": [
    {
     "data": {
      "text/plain": [
       "<module 'medvqa.datasets.mimiccxr.report_utils' from '/home/pamessina/medvqa/medvqa/datasets/mimiccxr/report_utils.py'>"
      ]
     },
     "execution_count": 10,
     "metadata": {},
     "output_type": "execute_result"
    }
   ],
   "source": [
    "reload(medvqa.datasets.mimiccxr.report_utils)"
   ]
  },
  {
   "cell_type": "code",
   "execution_count": 11,
   "id": "e00f653c",
   "metadata": {},
   "outputs": [],
   "source": [
    "from medvqa.datasets.mimiccxr.report_utils import ReportFactsDisplayer"
   ]
  },
  {
   "cell_type": "code",
   "execution_count": 12,
   "id": "823c0bb2",
   "metadata": {},
   "outputs": [
    {
     "name": "stdout",
     "output_type": "stream",
     "text": [
      "Loading preprocessed reports from /mnt/data/pamessina/workspaces/medvqa-workspace/cache/mimiccxr/background_findings_and_impression_20230612_174143.json...\n",
      "Loading extracted facts from /home/pamessina/medvqa-workspace/cache/mimiccxr/openai/gpt-4-0613_parsed_sentences__v2.jsonl...\n",
      "Loading extracted facts from /home/pamessina/medvqa-workspace/cache/mimiccxr/openai/gpt-3.5-turbo-0613_parsed_sentences__v2.jsonl...\n",
      "Loading extracted facts from /home/pamessina/medvqa-workspace/cache/mimiccxr/openai/gpt-3.5-turbo-0613_parsed_sentences__v2(uniform).jsonl...\n",
      "Loading extracted facts from /home/pamessina/medvqa-workspace/cache/mimiccxr/huggingface/extracted_facts_Seq2Seq(t5-small)_256_1_20230704_081617.jsonl...\n",
      "Building facts...\n",
      "Building facts to report ids...\n"
     ]
    },
    {
     "name": "stderr",
     "output_type": "stream",
     "text": [
      "227835it [00:54, 4148.79it/s]"
     ]
    },
    {
     "name": "stdout",
     "output_type": "stream",
     "text": [
      "Loaded 227835 preprocessed reports\n",
      "Loaded 677694 sentences with extracted facts\n",
      "Loaded 578802 unique facts\n",
      "Loaded 578802 facts with report ids\n"
     ]
    },
    {
     "name": "stderr",
     "output_type": "stream",
     "text": [
      "\n"
     ]
    }
   ],
   "source": [
    "rfd = ReportFactsDisplayer(\n",
    "    preprocessed_reports_filepath='/mnt/data/pamessina/workspaces/medvqa-workspace/cache/mimiccxr/background_findings_and_impression_20230612_174143.json',\n",
    "    extracted_facts_filepaths=[\n",
    "        '/home/pamessina/medvqa-workspace/cache/mimiccxr/openai/gpt-4-0613_parsed_sentences__v2.jsonl',\n",
    "        '/home/pamessina/medvqa-workspace/cache/mimiccxr/openai/gpt-3.5-turbo-0613_parsed_sentences__v2.jsonl',\n",
    "        '/home/pamessina/medvqa-workspace/cache/mimiccxr/openai/gpt-3.5-turbo-0613_parsed_sentences__v2(uniform).jsonl',\n",
    "        '/home/pamessina/medvqa-workspace/cache/mimiccxr/huggingface/extracted_facts_Seq2Seq(t5-small)_256_1_20230704_081617.jsonl',\n",
    "    ],\n",
    ")"
   ]
  },
  {
   "cell_type": "code",
   "execution_count": 16,
   "id": "bb03e7b7",
   "metadata": {},
   "outputs": [
    {
     "name": "stdout",
     "output_type": "stream",
     "text": [
      "RID: 195097\n",
      "\n",
      "{'background': 'history: -year-old man with MRSA bacteremia.',\n",
      " 'findings': 'AP chest compared to :. Relatively global pulmonary '\n",
      "             'opacification progressing since is most readily explained by '\n",
      "             'pulmonary edema. Concurrent pneumonia might not be recognized. '\n",
      "             'Moderate bilateral pleural effusion, left greater than right has '\n",
      "             'increased minimally since , worsened since . ET tube is in '\n",
      "             'standard placement. Nasogastric tube passes into the stomach and '\n",
      "             'out of view. No pneumothorax. Moderate cardiomegaly, unchanged.',\n",
      " 'impression': '',\n",
      " 'path': '/mnt/data/mimic-cxr/files/p18/p18769510/s51811670.txt'}\n",
      "\n",
      "                                 FINAL REPORT\n",
      " AP CHEST 1:27 A.M. ON ___\n",
      " \n",
      " HISTORY:  ___-year-old man with MRSA bacteremia.\n",
      " \n",
      " IMPRESSION:\n",
      " AP chest compared to ___:\n",
      " \n",
      " Relatively global pulmonary opacification progressing since ___ is\n",
      " most readily explained by pulmonary edema.  Concurrent pneumonia might not be\n",
      " recognized.  Moderate bilateral pleural effusion, left greater than right has\n",
      " increased minimally since ___, worsened since ___.\n",
      " \n",
      " ET tube is in standard placement.  Nasogastric tube passes into the stomach\n",
      " and out of view.  No pneumothorax.  Moderate cardiomegaly, unchanged.\n",
      "\n",
      "\n",
      "Facts:\n",
      "\tAP chest compared to :.\n",
      "\tRelatively global pulmonary opacification progressing since is most readily explained by pulmonary edema.\n",
      "\t\trelatively global pulmonary opacification\n",
      "\t\tprogressing pulmonary opacification\n",
      "\t\tpulmonary edema\n",
      "\tConcurrent pneumonia might not be recognized.\n",
      "\t\tconcurrent pneumonia might not be recognized\n",
      "\tModerate bilateral pleural effusion, left greater than right has increased minimally since , worsened since .\n",
      "\t\tmoderate bilateral pleural effusion\n",
      "\t\tleft pleural effusion greater than right pleural effusion\n",
      "\t\tincreased bilateral pleural effusion\n",
      "\t\tworsened bilateral pleural effusion\n",
      "\tET tube is in standard placement.\n",
      "\t\tET tube in standard placement\n",
      "\tNasogastric tube passes into the stomach and out of view.\n",
      "\t\tnasogastric tube passes into the stomach\n",
      "\t\tnasogastric tube out of view\n",
      "\tNo pneumothorax.\n",
      "\t\tno pneumothorax\n",
      "\tModerate cardiomegaly, unchanged.\n",
      "\t\tmoderate cardiomegaly\n",
      "\n",
      "Paraphrased report:\n",
      "\trelatively global pulmonary opacification\n",
      "\tprogressing pulmonary opacification\n",
      "\tpulmonary edema\n",
      "\tconcurrent pneumonia might not be recognized\n",
      "\tmoderate bilateral pleural effusion\n",
      "\tleft pleural effusion greater than right pleural effusion\n",
      "\tincreased bilateral pleural effusion\n",
      "\tworsened bilateral pleural effusion\n",
      "\tET tube in standard placement\n",
      "\tnasogastric tube passes into the stomach\n",
      "\tnasogastric tube out of view\n",
      "\tno pneumothorax\n",
      "\tmoderate cardiomegaly\n"
     ]
    }
   ],
   "source": [
    "# rfd.display(85687)\n",
    "rfd.display()"
   ]
  },
  {
   "cell_type": "code",
   "execution_count": 17,
   "id": "dbf2e1e3",
   "metadata": {},
   "outputs": [],
   "source": [
    "from medvqa.utils.files import load_jsonl"
   ]
  },
  {
   "cell_type": "code",
   "execution_count": 39,
   "id": "30314af5",
   "metadata": {},
   "outputs": [],
   "source": [
    "tmp = load_jsonl(\"/home/pamessina/medvqa-workspace/cache/mimiccxr/integrated_fact_metadata(578733,58628071).improved_comparison(6526297).jsonl\")"
   ]
  },
  {
   "cell_type": "code",
   "execution_count": 40,
   "id": "4b4d26c9",
   "metadata": {},
   "outputs": [
    {
     "data": {
      "text/plain": [
       "578733"
      ]
     },
     "execution_count": 40,
     "metadata": {},
     "output_type": "execute_result"
    }
   ],
   "source": [
    "len(tmp)"
   ]
  },
  {
   "cell_type": "code",
   "execution_count": 25,
   "id": "d0f4e827",
   "metadata": {},
   "outputs": [],
   "source": [
    "from pprint import pprint"
   ]
  },
  {
   "cell_type": "code",
   "execution_count": 34,
   "id": "4939fddd",
   "metadata": {},
   "outputs": [],
   "source": [
    "aux = []\n",
    "for x in tmp:\n",
    "    if x['metadata']['prev_study_comparison?'] == 'yes':\\\n",
    "        aux.append(x)"
   ]
  },
  {
   "cell_type": "code",
   "execution_count": 36,
   "id": "c99f9762",
   "metadata": {},
   "outputs": [
    {
     "data": {
      "text/plain": [
       "{'fact': 'stable right-sided pleural thickening',\n",
       " 'metadata': {'anatomical location': 'right',\n",
       "  'detailed observation': 'stable right-sided pleural thickening',\n",
       "  'short observation': 'pleural thickening',\n",
       "  'category': 'anatomical finding',\n",
       "  'health status': 'abnormal',\n",
       "  'prev_study_comparison?': 'yes',\n",
       "  'comparison status': 'stable'},\n",
       " 'extraction_method': 't5-small-finetuned'}"
      ]
     },
     "execution_count": 36,
     "metadata": {},
     "output_type": "execute_result"
    }
   ],
   "source": [
    "import random\n",
    "random.choice(aux)"
   ]
  },
  {
   "cell_type": "code",
   "execution_count": 38,
   "id": "61defa33",
   "metadata": {},
   "outputs": [
    {
     "data": {
      "text/plain": [
       "{'fact': 'no longer net volume loss in the left hemithorax',\n",
       " 'metadata': {'anatomical location': 'left hemithorax',\n",
       "  'detailed observation': 'no longer net volume loss',\n",
       "  'short observation': 'no longer net volume loss',\n",
       "  'category': 'anatomical finding',\n",
       "  'health status': 'normal',\n",
       "  'prev_study_comparison?': 'yes',\n",
       "  'comparison status': 'resolved'},\n",
       " 'extraction_method': 'gpt-3.5-turbo-0613'}"
      ]
     },
     "execution_count": 38,
     "metadata": {},
     "output_type": "execute_result"
    }
   ],
   "source": [
    "aux[4000]"
   ]
  },
  {
   "cell_type": "code",
   "execution_count": 51,
   "id": "919317db",
   "metadata": {},
   "outputs": [
    {
     "data": {
      "text/plain": [
       "{'fact': 'long-standing calcified granuloma in the right lower lobe',\n",
       " 'metadata': {'anatomical location': 'right lower lobe',\n",
       "  'detailed observation': 'long-standing calcified granuloma',\n",
       "  'short observation': 'calcified granuloma',\n",
       "  'category': 'anatomical finding',\n",
       "  'health status': 'unknown',\n",
       "  'prev_study_comparison?': 'no',\n",
       "  'comparison status': ''},\n",
       " 'extraction_method': 't5-small-finetuned',\n",
       " 'improved_comparison': {'comparison': 'no comparison',\n",
       "  'extraction_method': 't5-small-finetuned'}}"
      ]
     },
     "execution_count": 51,
     "metadata": {},
     "output_type": "execute_result"
    }
   ],
   "source": [
    "tmp[-1]"
   ]
  },
  {
   "cell_type": "code",
   "execution_count": 42,
   "id": "92466645",
   "metadata": {},
   "outputs": [],
   "source": [
    "from collections import Counter"
   ]
  },
  {
   "cell_type": "code",
   "execution_count": 47,
   "id": "73226968",
   "metadata": {},
   "outputs": [
    {
     "data": {
      "text/plain": [
       "28348"
      ]
     },
     "execution_count": 47,
     "metadata": {},
     "output_type": "execute_result"
    }
   ],
   "source": [
    "len(set(x['metadata']['anatomical location'] for x in tmp))"
   ]
  },
  {
   "cell_type": "code",
   "execution_count": 45,
   "id": "3d5aa278",
   "metadata": {},
   "outputs": [
    {
     "data": {
      "text/plain": [
       "428912"
      ]
     },
     "execution_count": 45,
     "metadata": {},
     "output_type": "execute_result"
    }
   ],
   "source": [
    "len(set(x['metadata']['detailed observation'] for x in tmp))"
   ]
  },
  {
   "cell_type": "code",
   "execution_count": 46,
   "id": "35545afa",
   "metadata": {},
   "outputs": [
    {
     "data": {
      "text/plain": [
       "214604"
      ]
     },
     "execution_count": 46,
     "metadata": {},
     "output_type": "execute_result"
    }
   ],
   "source": [
    "len(set(x['metadata']['short observation'] for x in tmp))"
   ]
  },
  {
   "cell_type": "code",
   "execution_count": 52,
   "id": "05cb2fa4",
   "metadata": {},
   "outputs": [],
   "source": [
    "aux2 = []\n",
    "for x in tmp:\n",
    "    try:\n",
    "        y = x['improved_comparison']['comparison']\n",
    "    except KeyError:\n",
    "        y = x['metadata']['comparison status']\n",
    "    if y == '':\n",
    "        y = 'no comparison'\n",
    "    aux2.append(y)"
   ]
  },
  {
   "cell_type": "code",
   "execution_count": 58,
   "id": "7dedd5af",
   "metadata": {},
   "outputs": [
    {
     "name": "stdout",
     "output_type": "stream",
     "text": [
      "332669\tno comparison\n",
      "62095\tstable/unchanged\n",
      "28092\tworsened\n",
      "25292\tresolved\n",
      "23833\timproved\n",
      "23214\tposition changed\n",
      "19614\tunclear comparison\n",
      "17690\tnew finding\n",
      "14540\tincrease\n",
      "9434\tdecrease\n",
      "7434\tprogressed\n",
      "5657\tlarger\n",
      "5475\tsmaller\n",
      "3548\treappeared\n",
      "146\tother\n"
     ]
    }
   ],
   "source": [
    "for x,y in sorted(list(Counter(aux2).items()), key=lambda x:x[1], reverse=True):\n",
    "    print(f'{y}\\t{x}')"
   ]
  },
  {
   "cell_type": "code",
   "execution_count": 60,
   "id": "d19514ba",
   "metadata": {},
   "outputs": [],
   "source": [
    "aux3 = [x['metadata']['category'] for x in tmp]"
   ]
  },
  {
   "cell_type": "code",
   "execution_count": 61,
   "id": "25332a41",
   "metadata": {},
   "outputs": [
    {
     "name": "stdout",
     "output_type": "stream",
     "text": [
      "379530\tanatomical finding\n",
      "81103\ttubes and lines\n",
      "48601\ttechnical assessment\n",
      "34586\tdisease\n",
      "34035\tdevice\n",
      "413\t\n",
      "193\tsymptom\n",
      "159\tprocedure\n",
      "85\tunknown\n",
      "14\thealth status\n",
      "5\tforeign body\n",
      "3\tsurgical procedure\n",
      "2\tcomplication\n",
      "2\tsurgery\n",
      "1\ttreatment\n",
      "1\tnormal\n"
     ]
    }
   ],
   "source": [
    "for x,y in sorted(list(Counter(aux3).items()), key=lambda x:x[1], reverse=True):\n",
    "    print(f'{y}\\t{x}')"
   ]
  },
  {
   "cell_type": "code",
   "execution_count": 62,
   "id": "05e4d17b",
   "metadata": {},
   "outputs": [],
   "source": [
    "aux4 = [x['metadata']['health status'] for x in tmp]"
   ]
  },
  {
   "cell_type": "code",
   "execution_count": 63,
   "id": "40c40e11",
   "metadata": {},
   "outputs": [
    {
     "name": "stdout",
     "output_type": "stream",
     "text": [
      "303619\tabnormal\n",
      "163015\tunknown\n",
      "75101\tnormal\n",
      "36706\tambiguous\n",
      "263\t\n",
      "24\timproved\n",
      "5\tresolved\n"
     ]
    }
   ],
   "source": [
    "for x,y in sorted(list(Counter(aux4).items()), key=lambda x:x[1], reverse=True):\n",
    "    print(f'{y}\\t{x}')"
   ]
  },
  {
   "cell_type": "code",
   "execution_count": 64,
   "id": "cee49de8",
   "metadata": {},
   "outputs": [],
   "source": [
    "tmp2 = load_jsonl(\"/home/pamessina/medvqa-workspace/cache/mimiccxr/openai/gpt-4-0613_paraphrased_observations__two-or-more-words_cluster-balanced.jsonl\")"
   ]
  },
  {
   "cell_type": "code",
   "execution_count": 73,
   "id": "cb43a47e",
   "metadata": {},
   "outputs": [
    {
     "name": "stdout",
     "output_type": "stream",
     "text": [
      "abnormality potentially explained by an inflammatory process such as atypical infection\n",
      "----\n",
      "The irregularity might be due to an inflammatory condition like an unusual infection\n",
      "Possible inflammation such as an atypical infection could account for the abnormality\n",
      "The abnormality could be a result of an inflammatory process, perhaps an unusual infection\n",
      "An unusual infection or other inflammatory process might explain the abnormality\n",
      "The abnormality might be attributable to an inflammation, such as an atypical infection\n",
      "The observed abnormality could be caused by an inflammatory process like an unusual infection\n",
      "An inflammatory process like an atypical infection might be the cause of the observed abnormality\n",
      "The abnormality could potentially be due to an inflammatory condition like an atypical infection\n",
      "The abnormality could be related to an inflammatory process, possibly an unusual infection\n",
      "An atypical infection or similar inflammatory process could explain the abnormality\n",
      "The abnormality might be linked to an inflammation, such as an unusual infection\n",
      "An unusual infection, or other inflammatory process, might be responsible for the abnormality\n",
      "The abnormality could be a consequence of an inflammatory process like an atypical infection\n",
      "The abnormality might be associated with an inflammatory condition like an unusual infection\n"
     ]
    }
   ],
   "source": [
    "x = 9888\n",
    "print(tmp2[x]['metadata']['query'])\n",
    "print('----')\n",
    "for y in tmp2[x]['parsed_response']:\n",
    "    print(y)"
   ]
  },
  {
   "cell_type": "code",
   "execution_count": null,
   "id": "4f159ac6",
   "metadata": {},
   "outputs": [],
   "source": []
  }
 ],
 "metadata": {
  "kernelspec": {
   "display_name": "venv2",
   "language": "python",
   "name": "venv2"
  },
  "language_info": {
   "codemirror_mode": {
    "name": "ipython",
    "version": 3
   },
   "file_extension": ".py",
   "mimetype": "text/x-python",
   "name": "python",
   "nbconvert_exporter": "python",
   "pygments_lexer": "ipython3",
   "version": "3.10.10"
  }
 },
 "nbformat": 4,
 "nbformat_minor": 5
}
