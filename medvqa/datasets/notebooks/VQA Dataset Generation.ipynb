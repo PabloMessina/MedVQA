{
 "cells": [
  {
   "cell_type": "code",
   "execution_count": 1,
   "metadata": {},
   "outputs": [
    {
     "name": "stdout",
     "output_type": "stream",
     "text": [
      "Loading file /mnt/workspace/iu-x-ray/dataset/reports/reports.json ...\r\n",
      "Extracing and merging findings and impressions ...\r\n",
      "Saving to /home/pamessina/medvqa-workspace/cache/iuxray/findings+impression.txt ...\r\n",
      "done!\r\n"
     ]
    }
   ],
   "source": [
    "!python ../iuxray/extract_findings_and_impressions.py"
   ]
  },
  {
   "cell_type": "code",
   "execution_count": 2,
   "metadata": {},
   "outputs": [
    {
     "name": "stdout",
     "output_type": "stream",
     "text": [
      "Loading MIMIC-CXR's report file paths ...\n",
      "227835it [02:43, 1394.99it/s] \n",
      "Saving findings + impressions to /home/pamessina/medvqa-workspace/cache/mimiccxr/findings+impression.txt ...\n",
      "100%|██████████████████████████████████| 227835/227835 [09:44<00:00, 390.11it/s]\n",
      "Num failed paths = 419\n",
      "Done!\n"
     ]
    }
   ],
   "source": [
    "!python ../mimiccxr/extract_findings_and_impressions.py"
   ]
  },
  {
   "cell_type": "code",
   "execution_count": 1,
   "metadata": {},
   "outputs": [],
   "source": [
    "from importlib import reload"
   ]
  },
  {
   "cell_type": "code",
   "execution_count": 2,
   "metadata": {},
   "outputs": [],
   "source": [
    "from medvqa.utils.files import read_lines_from_txt\n",
    "from medvqa.utils.common import CACHE_DIR\n",
    "from medvqa.datasets.qa_pairs_extractor import QuestionAnswerExtractor\n",
    "import medvqa\n",
    "import re\n",
    "import os\n",
    "import random\n",
    "import math\n",
    "from tqdm import tqdm"
   ]
  },
  {
   "cell_type": "code",
   "execution_count": 586,
   "metadata": {},
   "outputs": [
    {
     "data": {
      "text/plain": [
       "<module 'medvqa.datasets.qa_pairs_extractor' from '/home/pamessina/medvqa/medvqa/datasets/qa_pairs_extractor.py'>"
      ]
     },
     "execution_count": 586,
     "metadata": {},
     "output_type": "execute_result"
    }
   ],
   "source": [
    "reload(medvqa.datasets.qa_pairs_extractor)"
   ]
  },
  {
   "cell_type": "code",
   "execution_count": 3,
   "metadata": {},
   "outputs": [],
   "source": [
    "iuxray_raw_reports = read_lines_from_txt(os.path.join(CACHE_DIR, 'iuxray', 'findings+impression.txt'))"
   ]
  },
  {
   "cell_type": "code",
   "execution_count": 4,
   "metadata": {},
   "outputs": [],
   "source": [
    "mimiccxr_raw_reports = read_lines_from_txt(os.path.join(CACHE_DIR, 'mimiccxr', 'findings+impression.txt'))"
   ]
  },
  {
   "cell_type": "code",
   "execution_count": 5,
   "metadata": {},
   "outputs": [
    {
     "data": {
      "text/plain": [
       "(3927, 227416)"
      ]
     },
     "execution_count": 5,
     "metadata": {},
     "output_type": "execute_result"
    }
   ],
   "source": [
    "len(iuxray_raw_reports), len(mimiccxr_raw_reports)"
   ]
  },
  {
   "cell_type": "code",
   "execution_count": 6,
   "metadata": {},
   "outputs": [],
   "source": [
    "def print_qa_pairs(qa_pairs):\n",
    "    for k, v in qa_pairs.items():\n",
    "        print('------------')\n",
    "        print('Q:', k)\n",
    "        for s in v:\n",
    "            print('A:',s)"
   ]
  },
  {
   "cell_type": "code",
   "execution_count": 7,
   "metadata": {},
   "outputs": [],
   "source": [
    "qa_extractor = QuestionAnswerExtractor()"
   ]
  },
  {
   "cell_type": "code",
   "execution_count": 8,
   "metadata": {},
   "outputs": [
    {
     "data": {
      "text/plain": [
       "re.compile(r'(\\bwhen\\b|\\band\\b|\\bbut\\b|\\bhowever\\b|\\balthough\\b|\\bshould\\b|\\bsince\\b|\\bunless\\b|\\bnevertheless\\b|[,;.:])+(\\s+(\\bwhen\\b|\\band\\b|\\bbut\\b|\\bhowever\\b|\\balthough\\b|\\bshould\\b|\\bsince\\b|\\bunless\\b|\\bnevertheless\\b|[,;.:])+)*',\n",
       "re.IGNORECASE|re.UNICODE)"
      ]
     },
     "execution_count": 8,
     "metadata": {},
     "output_type": "execute_result"
    }
   ],
   "source": [
    "connectors = ['when', 'and', 'but', 'however', 'although', 'should', 'since', 'unless', 'nevertheless']\n",
    "exp = '('+'|'.join(f'\\\\b{x}\\\\b' for x in connectors)+'|[,;.:])'\n",
    "full_exp = f'{exp}+(\\\\s+{exp}+)*'\n",
    "sep_regex = re.compile(full_exp, re.IGNORECASE)\n",
    "sep_regex"
   ]
  },
  {
   "cell_type": "code",
   "execution_count": 9,
   "metadata": {},
   "outputs": [],
   "source": [
    "def clean_sentence(self, sentence):\n",
    "    last_sep = None\n",
    "    i = 0\n",
    "    n = len(sentence)\n",
    "    clean_sentence = ''\n",
    "    prepend_to_next_chunk = None\n",
    "    for match in sep_regex.finditer(sentence):\n",
    "        span = match.span()\n",
    "        if i < span[0]:\n",
    "            chunk = sentence[i:span[0]].strip()\n",
    "            if prepend_to_next_chunk:\n",
    "                if len(clean_sentence) > 0:\n",
    "                    chunk = prepend_to_next_chunk + chunk\n",
    "                prepend_to_next_chunk = None\n",
    "            if self._is_relevant(chunk):\n",
    "                if len(clean_sentence) > 0:\n",
    "                    if last_sep:\n",
    "                        clean_sentence += ' ' + last_sep\n",
    "                    clean_sentence += ' '                    \n",
    "                clean_sentence += chunk\n",
    "            print('chunk =', chunk)\n",
    "        i = span[1]\n",
    "        last_sep = sentence[span[0]:span[1]]\n",
    "        print('last_sep =', last_sep)\n",
    "        if last_sep not in ('and', 'but', ':'):\n",
    "            if last_sep == ', however,':\n",
    "                last_sep = None\n",
    "            else:\n",
    "                done = False\n",
    "                for x in ('should', 'since', 'unless', 'when'):\n",
    "                    if x in last_sep:\n",
    "                        prepend_to_next_chunk = last_sep + ' '\n",
    "                        last_sep = None\n",
    "                        done = True\n",
    "                        break\n",
    "                if not done:\n",
    "                    last_sep = ','\n",
    "    if i < n:\n",
    "        chunk = sentence[i:].strip()\n",
    "        if prepend_to_next_chunk:\n",
    "            chunk = prepend_to_next_chunk + chunk\n",
    "        if self._is_relevant(chunk):\n",
    "            if len(clean_sentence) > 0:\n",
    "                if last_sep:\n",
    "                    clean_sentence += ' ' + last_sep\n",
    "                clean_sentence += ' '\n",
    "            clean_sentence += chunk\n",
    "        print('chunk =', chunk)\n",
    "    return clean_sentence"
   ]
  },
  {
   "cell_type": "code",
   "execution_count": 10,
   "metadata": {},
   "outputs": [
    {
     "name": "stdout",
     "output_type": "stream",
     "text": [
      "<_sre.SRE_Match object; span=(29, 30), match=':'>\n",
      "<_sre.SRE_Match object; span=(61, 64), match='and'>\n",
      "<_sre.SRE_Match object; span=(112, 119), match='since .'>\n",
      "chunk = AP chest compared to through\n",
      "last_sep = :\n",
      "chunk = Pulmonary vascular congestion\n",
      "last_sep = and\n",
      "chunk = mediastinal venous engorgement have progressed\n",
      "last_sep = since .\n",
      "$$$$Pulmonary vascular congestion and mediastinal venous engorgement have progressed$$$$\n",
      "$$$$Pulmonary vascular congestion and mediastinal venous engorgement have progressed$$$$\n"
     ]
    }
   ],
   "source": [
    "_s = 'AP chest compared to through : Pulmonary vascular congestion and mediastinal venous engorgement have progressed since .'\n",
    "for x in sep_regex.finditer(_s):\n",
    "    print(str(x))\n",
    "print(\"$$$$\"+clean_sentence(qa_extractor, _s)+\"$$$$\")\n",
    "print(\"$$$$\"+qa_extractor.clean_sentence(_s)+\"$$$$\")"
   ]
  },
  {
   "cell_type": "code",
   "execution_count": 11,
   "metadata": {},
   "outputs": [
    {
     "name": "stdout",
     "output_type": "stream",
     "text": [
      "------------\n",
      "Q: lungs?\n",
      "A: Lung volumes continues to be low\n",
      "A: Unchanged low lung volumes , mild pulmonary edema and bilateral moderate pleural effusions\n",
      "------------\n",
      "Q: heart?\n",
      "A: The heart continues to be moderately enlarged with unchanged mild to moderate edema\n",
      "------------\n",
      "Q: edema?\n",
      "A: The heart continues to be moderately enlarged with unchanged mild to moderate edema\n",
      "A: Unchanged low lung volumes , mild pulmonary edema and bilateral moderate pleural effusions\n",
      "------------\n",
      "Q: pleural space?\n",
      "A: Moderate bilateral , right greater than left , pleural effusions are unchanged\n",
      "A: Unchanged low lung volumes , mild pulmonary edema and bilateral moderate pleural effusions\n",
      "------------\n",
      "Q: tubes and lines?\n",
      "A: ET tube is in appropriate position , the gastric tube ends in the stomach\n",
      "A: Left central venous line is in appropriate position\n",
      "A: Right PICC line ends at the lower SVC\n",
      "------------\n",
      "Q: support devices and foreign bodies?\n",
      "A: ET tube is in appropriate position , the gastric tube ends in the stomach\n",
      "A: Left central venous line is in appropriate position\n",
      "A: Right PICC line ends at the lower SVC\n",
      "------------\n",
      "Q: stomach?\n",
      "A: ET tube is in appropriate position , the gastric tube ends in the stomach\n",
      "------------\n",
      "Q: vena cava?\n",
      "A: Right PICC line ends at the lower SVC\n"
     ]
    }
   ],
   "source": [
    "tmp = qa_extractor.generate_qa_pairs('Lung volumes continues to be low.  The heart continues to be moderately enlarged with unchanged mild to moderate edema.  Moderate bilateral, right greater than left, pleural effusions are unchanged.  ET tube is in appropriate position, and the gastric tube ends in the stomach.  Left central venous line is in appropriate position.  Right PICC line ends at the lower SVC. Unchanged low lung volumes, mild pulmonary edema and bilateral moderate pleural effusions. ', debug=True)\n",
    "print_qa_pairs(tmp)"
   ]
  },
  {
   "cell_type": "code",
   "execution_count": 13,
   "metadata": {},
   "outputs": [
    {
     "name": "stdout",
     "output_type": "stream",
     "text": [
      "------------\n",
      "Q: lungs?\n",
      "A: Lung volumes continues to be low\n",
      "A: Unchanged low lung volumes , mild pulmonary edema and bilateral moderate pleural effusions\n",
      "------------\n",
      "Q: heart?\n",
      "A: The heart continues to be moderately enlarged with unchanged mild to moderate edema\n",
      "------------\n",
      "Q: edema?\n",
      "A: The heart continues to be moderately enlarged with unchanged mild to moderate edema\n",
      "A: Unchanged low lung volumes , mild pulmonary edema and bilateral moderate pleural effusions\n",
      "------------\n",
      "Q: pleural space?\n",
      "A: Moderate bilateral , right greater than left , pleural effusions are unchanged\n",
      "A: Unchanged low lung volumes , mild pulmonary edema and bilateral moderate pleural effusions\n",
      "------------\n",
      "Q: tubes and lines?\n",
      "A: ET tube is in appropriate position , the gastric tube ends in the stomach\n",
      "A: Left central venous line is in appropriate position\n",
      "A: Right PICC line ends at the lower SVC\n",
      "------------\n",
      "Q: support devices and foreign bodies?\n",
      "A: ET tube is in appropriate position , the gastric tube ends in the stomach\n",
      "A: Left central venous line is in appropriate position\n",
      "A: Right PICC line ends at the lower SVC\n",
      "------------\n",
      "Q: stomach?\n",
      "A: ET tube is in appropriate position , the gastric tube ends in the stomach\n",
      "------------\n",
      "Q: vena cava?\n",
      "A: Right PICC line ends at the lower SVC\n"
     ]
    }
   ],
   "source": [
    "tmp = qa_extractor.generate_qa_pairs('Lung volumes continues to be low.  The heart continues to be moderately enlarged with unchanged mild to moderate edema.  Moderate bilateral, right greater than left, pleural effusions are unchanged.  ET tube is in appropriate position, and the gastric tube ends in the stomach.  Left central venous line is in appropriate position.  Right PICC line ends at the lower SVC. Unchanged low lung volumes, mild pulmonary edema and bilateral moderate pleural effusions. ', debug=True)\n",
    "print_qa_pairs(tmp)"
   ]
  },
  {
   "cell_type": "code",
   "execution_count": 14,
   "metadata": {},
   "outputs": [
    {
     "name": "stdout",
     "output_type": "stream",
     "text": [
      "PA and lateral views of the chest demonstrate the lungs are well expanded. Apparent bulging of the posterior left mediastinum adjacent to the descending aorta, has been attributed to varices on prior studies. There is no evidence of focal consolidation, effusion, or pneumothorax. Mild interstitial prominence is present, most notably in the right lower lung, with no evidence of overt pulmonary edema. Mild interstitial prominence with no evidence of overt pulmonary edema. No pneumonia is present.\n",
      "=============================\n",
      "------------\n",
      "Q: lungs?\n",
      "A: lateral views of the chest demonstrate the lungs are well expanded\n",
      "A: Mild interstitial prominence is present , most notably in the right lower lung , with no evidence of overt pulmonary edema\n",
      "A: Mild interstitial prominence with no evidence of overt pulmonary edema\n",
      "------------\n",
      "Q: thoracic aorta?\n",
      "A: Apparent bulging of the posterior left mediastinum adjacent to the descending aorta\n",
      "------------\n",
      "Q: mediastinum?\n",
      "A: Apparent bulging of the posterior left mediastinum adjacent to the descending aorta\n",
      "------------\n",
      "Q: pleural space?\n",
      "A: There is no evidence of focal consolidation , effusion , or pneumothorax\n",
      "------------\n",
      "Q: pneumothorax?\n",
      "A: There is no evidence of focal consolidation , effusion , or pneumothorax\n",
      "------------\n",
      "Q: consolidation?\n",
      "A: There is no evidence of focal consolidation , effusion , or pneumothorax\n",
      "------------\n",
      "Q: edema?\n",
      "A: Mild interstitial prominence is present , most notably in the right lower lung , with no evidence of overt pulmonary edema\n",
      "A: Mild interstitial prominence with no evidence of overt pulmonary edema\n",
      "------------\n",
      "Q: prominence?\n",
      "A: Mild interstitial prominence is present , most notably in the right lower lung , with no evidence of overt pulmonary edema\n",
      "A: Mild interstitial prominence with no evidence of overt pulmonary edema\n",
      "------------\n",
      "Q: interstitial lung disease?\n",
      "A: Mild interstitial prominence is present , most notably in the right lower lung , with no evidence of overt pulmonary edema\n",
      "A: Mild interstitial prominence with no evidence of overt pulmonary edema\n",
      "------------\n",
      "Q: pneumonia?\n",
      "A: No pneumonia is present\n"
     ]
    }
   ],
   "source": [
    "report = random.choice(mimiccxr_raw_reports)\n",
    "print(report)\n",
    "print('=============================')\n",
    "tmp = qa_extractor.generate_qa_pairs(report, debug=True)\n",
    "print_qa_pairs(tmp)"
   ]
  },
  {
   "cell_type": "code",
   "execution_count": 17,
   "metadata": {},
   "outputs": [
    {
     "data": {
      "text/plain": [
       "{'sentences': ['lateral views of the chest demonstrate the lungs are well expanded',\n",
       "  'Apparent bulging of the posterior left mediastinum adjacent to the descending aorta',\n",
       "  'There is no evidence of focal consolidation , effusion , or pneumothorax',\n",
       "  'Mild interstitial prominence is present , most notably in the right lower lung , with no evidence of overt pulmonary edema',\n",
       "  'Mild interstitial prominence with no evidence of overt pulmonary edema',\n",
       "  'No pneumonia is present'],\n",
       " 'invalid': [],\n",
       " 'unmatched': [],\n",
       " 'matched': [0, 1, 2, 3, 4, 5],\n",
       " 'qa': {'59': [0, 3, 4],\n",
       "  '90': [1],\n",
       "  '63': [1],\n",
       "  '68': [2],\n",
       "  '73': [2],\n",
       "  '32': [2],\n",
       "  '36': [3, 4],\n",
       "  '74': [3, 4],\n",
       "  '52': [3, 4],\n",
       "  '71': [5]},\n",
       " 'question_ids': [59, 90, 63, 68, 73, 32, 36, 74, 52, 71]}"
      ]
     },
     "execution_count": 17,
     "metadata": {},
     "output_type": "execute_result"
    }
   ],
   "source": [
    "tmp = qa_extractor.generate_qa_pairs_compact_version(report)\n",
    "tmp"
   ]
  },
  {
   "cell_type": "code",
   "execution_count": 13,
   "metadata": {},
   "outputs": [
    {
     "name": "stdout",
     "output_type": "stream",
     "text": [
      "$$$$the enlarging pleural effusion has displaced the cardiomediastinal contours towards the left$$$$\n"
     ]
    }
   ],
   "source": [
    "_s = 'the enlarging pleural effusion has displaced the cardiomediastinal contours towards the left , limiting assessment of the heart size'\n",
    "print(\"$$$$\"+qa_extractor.clean_sentence(_s)+\"$$$$\")"
   ]
  },
  {
   "cell_type": "code",
   "execution_count": 14,
   "metadata": {},
   "outputs": [
    {
     "data": {
      "text/plain": [
       "(97,\n",
       " ['ARDS?',\n",
       "  'COPD?',\n",
       "  'abscess and cavitation?',\n",
       "  'adenopathy?',\n",
       "  'air collections?',\n",
       "  'air space disease?',\n",
       "  'air-fluid level?',\n",
       "  'airways?',\n",
       "  'apical zone?',\n",
       "  'ascites?',\n",
       "  'aspiration?',\n",
       "  'atelectasis?',\n",
       "  'azygos lobe?',\n",
       "  'azygos vein?',\n",
       "  'bleeding?',\n",
       "  'blurring?',\n",
       "  'bones?',\n",
       "  'bowel obstruction and loops?',\n",
       "  'bowel?',\n",
       "  'bronchiectasis?',\n",
       "  'bronchogram?',\n",
       "  'bronchovascular crowding?',\n",
       "  'bronchus?',\n",
       "  'bullae and blebs?',\n",
       "  'calcification?',\n",
       "  'cancer or tumor?',\n",
       "  'cardiac silhouette?',\n",
       "  'cardiomegaly?',\n",
       "  'carina?',\n",
       "  'cholelithiasis?',\n",
       "  'colon?',\n",
       "  'congestive heart failure CHF?',\n",
       "  'consolidation?',\n",
       "  'contrast?',\n",
       "  'densities?',\n",
       "  'diaphragm?',\n",
       "  'edema?',\n",
       "  'emphysema?',\n",
       "  'esophagus?',\n",
       "  'fibrosis?',\n",
       "  'fissures?',\n",
       "  'fluid overload?',\n",
       "  'fluid?',\n",
       "  'fractures?',\n",
       "  'free air?',\n",
       "  'gas distension?',\n",
       "  'granumola?',\n",
       "  'haze?',\n",
       "  'heart?',\n",
       "  'hernias?',\n",
       "  'infection?',\n",
       "  'infiltrate?',\n",
       "  'interstitial lung disease?',\n",
       "  'kerley lines?',\n",
       "  'lesions?',\n",
       "  'liver?',\n",
       "  'loculation?',\n",
       "  'lucencies?',\n",
       "  'lung parenchyma?',\n",
       "  'lungs?',\n",
       "  'lymph nodes?',\n",
       "  'markings?',\n",
       "  'masses?',\n",
       "  'mediastinum?',\n",
       "  'nodules?',\n",
       "  'opacities?',\n",
       "  'ossification?',\n",
       "  'peribronchial cuffing?',\n",
       "  'pleural space?',\n",
       "  'pneumatocele?',\n",
       "  'pneumomediastinum?',\n",
       "  'pneumonia?',\n",
       "  'pneumoperitoneum?',\n",
       "  'pneumothorax?',\n",
       "  'prominence?',\n",
       "  'pulmonary hila?',\n",
       "  'pulmonary vascularity?',\n",
       "  'radiation?',\n",
       "  'ribs?',\n",
       "  'sagittal chest?',\n",
       "  'sarcoidosis?',\n",
       "  'scarring?',\n",
       "  'shadow?',\n",
       "  'skinfold?',\n",
       "  'soft tissue?',\n",
       "  'stomach?',\n",
       "  'sulci?',\n",
       "  'support devices and foreign bodies?',\n",
       "  'surgery?',\n",
       "  'tendon?',\n",
       "  'thoracic aorta?',\n",
       "  'thyroid?',\n",
       "  'tortuosity?',\n",
       "  'trachea?',\n",
       "  'trauma?',\n",
       "  'tubes and lines?',\n",
       "  'vena cava?'])"
      ]
     },
     "execution_count": 14,
     "metadata": {},
     "output_type": "execute_result"
    }
   ],
   "source": [
    "len(qa_extractor.questions), qa_extractor.questions"
   ]
  },
  {
   "cell_type": "code",
   "execution_count": 15,
   "metadata": {},
   "outputs": [
    {
     "data": {
      "text/plain": [
       "(2, 170895)"
      ]
     },
     "execution_count": 15,
     "metadata": {},
     "output_type": "execute_result"
    }
   ],
   "source": [
    "tmp = qa_extractor.search_by_unmatched(0, mimiccxr_raw_reports, 100)\n",
    "x = tmp[1]\n",
    "tmp"
   ]
  },
  {
   "cell_type": "code",
   "execution_count": 16,
   "metadata": {},
   "outputs": [
    {
     "data": {
      "text/plain": [
       "{'sentences': ['Left hip replacement',\n",
       "  'Portable AP radiograph of the chest was reviewed in comparison to .',\n",
       "  'The ET tube tip is 6 , 5 cm above the carina',\n",
       "  'Heart size and mediastinum are stable',\n",
       "  'Bibasilar areas of atelectasis are noted , might be reflecting aspiration',\n",
       "  'Attention to these areas on the subsequent studies is recommended'],\n",
       " 'invalid': [1],\n",
       " 'unmatched': [0, 5],\n",
       " 'matched': [2, 3, 4],\n",
       " 'qa': {'95': [2],\n",
       "  '87': [2],\n",
       "  '28': [2],\n",
       "  '48': [3],\n",
       "  '63': [3],\n",
       "  '59': [4],\n",
       "  '11': [4],\n",
       "  '10': [4]}}"
      ]
     },
     "execution_count": 16,
     "metadata": {},
     "output_type": "execute_result"
    }
   ],
   "source": [
    "qa_extractor.generate_qa_pairs_compact_version(mimiccxr_raw_reports[x])"
   ]
  },
  {
   "cell_type": "code",
   "execution_count": 17,
   "metadata": {
    "scrolled": false
   },
   "outputs": [
    {
     "name": "stdout",
     "output_type": "stream",
     "text": [
      "Left hip replacement. Portable AP radiograph of the chest was reviewed in comparison to . The ET tube tip is 6.5 cm above the carina. Heart size and mediastinum are stable. Bibasilar areas of atelectasis are noted, new since the prior study, but might be reflecting aspiration. Attention to these areas on the subsequent studies is recommended.\n",
      "======================\n",
      "---- invalid: Portable AP radiograph of the chest was reviewed in comparison to .\n",
      "** not captured: Left hip replacement\n",
      "** not captured: Attention to these areas on the subsequent studies is recommended\n",
      "------------\n",
      "Q: tubes and lines?\n",
      "A: The ET tube tip is 6 , 5 cm above the carina\n",
      "------------\n",
      "Q: support devices and foreign bodies?\n",
      "A: The ET tube tip is 6 , 5 cm above the carina\n",
      "------------\n",
      "Q: carina?\n",
      "A: The ET tube tip is 6 , 5 cm above the carina\n",
      "------------\n",
      "Q: heart?\n",
      "A: Heart size and mediastinum are stable\n",
      "------------\n",
      "Q: mediastinum?\n",
      "A: Heart size and mediastinum are stable\n",
      "------------\n",
      "Q: lungs?\n",
      "A: Bibasilar areas of atelectasis are noted , might be reflecting aspiration\n",
      "------------\n",
      "Q: atelectasis?\n",
      "A: Bibasilar areas of atelectasis are noted , might be reflecting aspiration\n",
      "------------\n",
      "Q: aspiration?\n",
      "A: Bibasilar areas of atelectasis are noted , might be reflecting aspiration\n"
     ]
    }
   ],
   "source": [
    "# _report = \"\"\n",
    "# print(_report)\n",
    "# _qa_pairs = qa_generator.generate_question_answer_pairs(_report)\n",
    "print(mimiccxr_raw_reports[x])\n",
    "print(\"======================\")\n",
    "_qa_pairs = qa_extractor.generate_qa_pairs(mimiccxr_raw_reports[x], debug=True)\n",
    "# _qa_pairs = qa_generator.remove_almost_duplicate_sentences(_qa_pairs)\n",
    "print_qa_pairs(_qa_pairs)"
   ]
  },
  {
   "cell_type": "code",
   "execution_count": 19,
   "metadata": {},
   "outputs": [],
   "source": [
    "def get_informative_unmatched_sentences(corpus, qa_extractor, n_samples = 2000):\n",
    "    \n",
    "    indices = range(len(corpus))\n",
    "    if len(corpus) > n_samples:\n",
    "        indices = random.sample(indices, n_samples)\n",
    "        \n",
    "    unmatched_sentences = set()\n",
    "    word2freq = dict()\n",
    "    \n",
    "    for i in tqdm(indices):\n",
    "        for s in qa_extractor.get_unmatched_sentences(corpus[i]):\n",
    "            unmatched_sentences.add(s)\n",
    "            for w in re.split(r\",?\\s+\", s):\n",
    "                word2freq[w] = word2freq.get(w, 0) + 1\n",
    "    \n",
    "    max_freq = max(word2freq.values())    \n",
    "    unmatched_sentences = list(unmatched_sentences)\n",
    "    \n",
    "    def score(s):\n",
    "        score_max = 0\n",
    "        score_sum = 0\n",
    "        cnt = 0\n",
    "        for w in re.split(r\",?\\s+\", s):\n",
    "            if w not in qa_extractor.stopwords:\n",
    "                tmp = max_freq - word2freq.get(w, 0)\n",
    "                score_max = max(tmp, score_max)\n",
    "                score_sum += tmp\n",
    "                cnt += 1\n",
    "        return score_max * 0.4 + (score_sum / math.sqrt(max(cnt,1))) * 0.6\n",
    "    \n",
    "    unmatched_sentences.sort(key=score, reverse=True)\n",
    "    return unmatched_sentences"
   ]
  },
  {
   "cell_type": "code",
   "execution_count": 20,
   "metadata": {},
   "outputs": [
    {
     "name": "stderr",
     "output_type": "stream",
     "text": [
      "100%|██████████| 1000/1000 [00:06<00:00, 143.00it/s]\n"
     ]
    }
   ],
   "source": [
    "unmatched_sentences = get_informative_unmatched_sentences(mimiccxr_raw_reports, qa_extractor, n_samples=1000)"
   ]
  },
  {
   "cell_type": "code",
   "execution_count": 21,
   "metadata": {},
   "outputs": [
    {
     "data": {
      "text/plain": [
       "209"
      ]
     },
     "execution_count": 21,
     "metadata": {},
     "output_type": "execute_result"
    }
   ],
   "source": [
    "len(unmatched_sentences)"
   ]
  },
  {
   "cell_type": "code",
   "execution_count": 22,
   "metadata": {},
   "outputs": [],
   "source": [
    "qa_extractor.reload()"
   ]
  },
  {
   "cell_type": "code",
   "execution_count": 23,
   "metadata": {},
   "outputs": [
    {
     "name": "stdout",
     "output_type": "stream",
     "text": [
      "** not captured: The distance between the superior margin of the lung and the outer chest wall is about 15 mm , which is slightly increased\n",
      "** not captured: oblique and lordotic chest x-ray views to determine whether this lies within the lung or the bone\n",
      "** not captured: the left hemithorax has increased in transparency , likely reflecting improved ventilation\n",
      "** not captured: lateral chest radiographs are limited by patient's body habitus and inability to raise arms\n",
      "** not captured: Appears to cross the midline , there is concern for potential arterial location\n",
      "** not captured: Tip probably does not enter the transverse portion of the left brachiocephalic vein\n",
      "** not captured: there is a minimal improvement in transparency , likely reflecting improved ventilation\n",
      "** not captured: lordotic views to determine whether this lies within the lung or the bone\n",
      "** not captured: Recommend withdrawal by approximately 2 cm for optimal positioning\n",
      "** not captured: This could be advanced several cm for standard positioning\n",
      "** not captured: Aorta profile is mildly elongated , a sign of aortosclerosis\n",
      "** not captured: Altered mental status , status post fall\n",
      "** not captured: Relative improvement may merely reflect the better inspiration\n",
      "** not captured: The lateral aspect of the right hemi thorax is excluded from view\n",
      "** not captured: Lungs are hyperextended , reflecting chronic pulmonary disease\n",
      "** not captured: There is marked rightward rotation of the patient on the current radiograph\n",
      "** not captured: Of note the upper portion of the chest was not included on the field of view\n",
      "** not captured: Limited chest radiograph due to partial obscuration of the lower chest as described above\n",
      "** not captured: there is less obliquity of the patient , was taken a better inspiration\n",
      "** not captured: Left main stem obstruction after partial debridement\n",
      "** not captured: be considered to exclude the possibility of radiographically occult abnormality\n",
      "** not captured: appears to be normally oriented on the accompanying abdominal radiographs\n",
      "** not captured: some calcium deposits are also seen in the wall of the aorta\n",
      "** not captured: There is also hyperinflation demonstrated on both PA and lateral views\n",
      "** not captured: Recommend advancing it 2 cm for better seating\n",
      "** not captured: Intestinal tract in the upper abdomen is not severely dilated\n",
      "** not captured: No other relevant Short interval change considering positional differences between the studies\n",
      "** not captured: After initial improvement , there has been little subsequent change\n",
      "** not captured: there is little overall change except for some improved degree of inspiration\n",
      "** not captured: The patient is significantly rotated to the left on the frontal view\n",
      "** not captured: compared to a demonstrate substantial interval progression of the abnormalities\n",
      "** not captured: The chest is somewhat underpenetrated due to body habitus\n",
      "** not captured: A single portable frontal view of the chest was performed\n",
      "** not captured: LATERAL VIEWS OF THE CHEST\n",
      "** not captured: No evidence of abnormality demonstrated to explain the patient's symptoms\n",
      "** not captured: lateral chest radiographs to exclude artifacts of supine positioning\n",
      "** not captured: neither the frontal nor the lateral view are of substantial differences\n",
      "** not captured: There is some limitation due to respiratory motion\n",
      "** not captured: In the absence of new or worsening symptoms\n",
      "** not captured: Portable AP chest radiograph demonstrates no significant interval change from\n"
     ]
    }
   ],
   "source": [
    "print_qa_pairs(qa_extractor.generate_qa_pairs('. '.join(unmatched_sentences[0:40]), debug=True))"
   ]
  },
  {
   "cell_type": "code",
   "execution_count": 18,
   "metadata": {
    "scrolled": true
   },
   "outputs": [
    {
     "name": "stdout",
     "output_type": "stream",
     "text": [
      "Loading original reports from /mnt/workspace/iu-x-ray/dataset/reports/reports.json\n",
      "Processing each report ...\n",
      "100%|██████████████████████████████████████| 3955/3955 [00:36<00:00, 107.62it/s]\n",
      "Saving qa adapted reports to /home/pamessina/medvqa-workspace/cache/iuxray/qa_adapted_reports__20220428_181414.json\n",
      "Done!\n"
     ]
    }
   ],
   "source": [
    "!python ../../scripts/iuxray/generate_qa_pairs_from_reports.py"
   ]
  },
  {
   "cell_type": "code",
   "execution_count": null,
   "metadata": {
    "scrolled": false
   },
   "outputs": [
    {
     "name": "stdout",
     "output_type": "stream",
     "text": [
      "Processing MIMIC-CXR's original reports ...\n",
      "6533it [01:56, 78.90it/s]"
     ]
    }
   ],
   "source": [
    "!python ../../scripts/mimiccxr/generate_qa_pairs_from_reports.py"
   ]
  },
  {
   "cell_type": "markdown",
   "metadata": {},
   "source": [
    "## Generate summary file"
   ]
  },
  {
   "cell_type": "code",
   "execution_count": 3,
   "metadata": {},
   "outputs": [],
   "source": [
    "from medvqa.utils.files import load_json_file"
   ]
  },
  {
   "cell_type": "code",
   "execution_count": 14,
   "metadata": {},
   "outputs": [],
   "source": [
    "iuxray_qa_adapted_reports = load_json_file('/home/pamessina/medvqa-workspace/cache/iuxray/qa_adapted_reports__20220416_072043.json')"
   ]
  },
  {
   "cell_type": "code",
   "execution_count": 15,
   "metadata": {},
   "outputs": [],
   "source": [
    "mimiccxr_qa_adapted_reports = load_json_file('/home/pamessina/medvqa-workspace/cache/mimiccxr/qa_adapted_reports__20220416_083114.json')"
   ]
  },
  {
   "cell_type": "code",
   "execution_count": 6,
   "metadata": {},
   "outputs": [
    {
     "data": {
      "text/plain": [
       "(97, 3927)"
      ]
     },
     "execution_count": 6,
     "metadata": {},
     "output_type": "execute_result"
    }
   ],
   "source": [
    "len(iuxray_qa_adapted_reports['questions']), len(iuxray_qa_adapted_reports['reports'])"
   ]
  },
  {
   "cell_type": "code",
   "execution_count": 16,
   "metadata": {},
   "outputs": [
    {
     "data": {
      "text/plain": [
       "(97, 227835)"
      ]
     },
     "execution_count": 16,
     "metadata": {},
     "output_type": "execute_result"
    }
   ],
   "source": [
    "len(mimiccxr_qa_adapted_reports['questions']), len(mimiccxr_qa_adapted_reports['reports'])"
   ]
  },
  {
   "cell_type": "code",
   "execution_count": 17,
   "metadata": {},
   "outputs": [
    {
     "data": {
      "text/plain": [
       "{'sentences': ['The cardiac silhouette and mediastinum size are within normal limits',\n",
       "  'There is no pulmonary edema',\n",
       "  'There is no focal consolidation',\n",
       "  'There are no XXXX of a pleural effusion.',\n",
       "  'There is no evidence of pneumothorax',\n",
       "  'Normal chest x-XXXX.'],\n",
       " 'invalid': [3, 5],\n",
       " 'unmatched': [],\n",
       " 'matched': [0, 1, 2, 4],\n",
       " 'qa': {'26': [0], '63': [0], '36': [1], '32': [2], '73': [4]},\n",
       " 'filename': '1.xml'}"
      ]
     },
     "execution_count": 17,
     "metadata": {},
     "output_type": "execute_result"
    }
   ],
   "source": [
    "iuxray_qa_adapted_reports['reports'][0]"
   ]
  },
  {
   "cell_type": "code",
   "execution_count": 18,
   "metadata": {},
   "outputs": [
    {
     "data": {
      "text/plain": [
       "{'sentences': ['Heart size is normal',\n",
       "  'There are mild aortic knob calcifications',\n",
       "  'Cardiomediastinal silhouette and hilar contours are otherwise unremarkable',\n",
       "  'Lungs are clear',\n",
       "  'Pleural surfaces are clear without effusion or pneumothorax',\n",
       "  'No acute cardiopulmonary abnormality'],\n",
       " 'invalid': [],\n",
       " 'unmatched': [],\n",
       " 'matched': [0, 1, 2, 3, 4, 5],\n",
       " 'qa': {'48': [0, 5],\n",
       "  '90': [1],\n",
       "  '24': [1],\n",
       "  '75': [2],\n",
       "  '26': [2],\n",
       "  '63': [2],\n",
       "  '59': [3, 5],\n",
       "  '68': [4],\n",
       "  '73': [4]},\n",
       " 'filepath': '/mnt/data/mimic-cxr/files/p10/p10703179/s58829627.txt'}"
      ]
     },
     "execution_count": 18,
     "metadata": {},
     "output_type": "execute_result"
    }
   ],
   "source": [
    "mimiccxr_qa_adapted_reports['reports'][0]"
   ]
  },
  {
   "cell_type": "code",
   "execution_count": 19,
   "metadata": {},
   "outputs": [],
   "source": [
    "def generate_summary_file(dataset, k, kk, output_path):\n",
    "    \n",
    "    q2a = [[] for _ in range(len(dataset['questions']))]\n",
    "    n_invalid = 0\n",
    "    unmatched_sentences = []\n",
    "    for ri, report in enumerate(dataset['reports']):\n",
    "        s = report['sentences']\n",
    "        for q_idx, a_idxs in report['qa'].items():\n",
    "            q_idx = int(q_idx)\n",
    "            a_len = sum(len(s[i]) for i in a_idxs)\n",
    "            q2a[q_idx].append((a_len, ri))\n",
    "        n_invalid += len(report['invalid'])\n",
    "        unmatched_sentences.extend(s[i] for i in report['unmatched'])\n",
    "            \n",
    "    sorted_questions = sorted([(len(a), i) for i,a in enumerate(q2a)], reverse=True)    \n",
    "    \n",
    "    with open(output_path, 'w') as file:\n",
    "        file.write('Preguntas ordenadas por frecuencia (decreciente)\\n\\n')\n",
    "        for f, q in sorted_questions:\n",
    "            file.write('%d, %s\\n' % (f, dataset['questions'][q]))\n",
    "        file.write('\\n')\n",
    "        file.write('Ejemplos de respuestas por pregunta:')\n",
    "        for i,(_,q) in enumerate(sorted_questions):\n",
    "            answers = q2a[q]\n",
    "            answers.sort()            \n",
    "            tmp = []\n",
    "            for _, a in answers:\n",
    "                report = dataset['reports'][a]\n",
    "                sentences = report['sentences']\n",
    "                a_idxs = report['qa'][str(q)]\n",
    "                answer = '. '.join(sentences[i] for i in a_idxs)\n",
    "                tmp.append(answer)\n",
    "            answers = tmp            \n",
    "            n = len(answers)\n",
    "            print(\"n=%d, %s\" % (n, dataset['questions'][q]))\n",
    "            if n > k:\n",
    "                sample = []\n",
    "                for j in range(k):\n",
    "                    sample.append(answers[random.randint(int(n*j/k), int(n*(j+1)/k)-1)])\n",
    "            else:\n",
    "                sample = answers\n",
    "            file.write('\\n\\n%d) %s:\\n\\n' % (i+1, dataset['questions'][q]))\n",
    "            for a in sample:\n",
    "                file.write('    A: %s\\n' % a)\n",
    "        file.write('\\n\\nTotal oraciones inválidas: %d\\n' % n_invalid)\n",
    "        file.write('Total oraciones sin match: %d\\n' % len(unmatched_sentences))\n",
    "        file.write('\\n\\nEjemplos de oraciones válidas que no hicieron match con ninguna pregunta\\n\\n')\n",
    "        unmatched_sentences = list(set(unmatched_sentences))\n",
    "        unmatched_sentences.sort(key=lambda s:len(s))\n",
    "        nn = len(unmatched_sentences)\n",
    "        for j in range(kk):\n",
    "            file.write('    %s\\n' % unmatched_sentences[random.randint(int(nn*j/kk), int(nn*(j+1)/kk)-1)])"
   ]
  },
  {
   "cell_type": "code",
   "execution_count": 20,
   "metadata": {},
   "outputs": [
    {
     "name": "stdout",
     "output_type": "stream",
     "text": [
      "n=3514, lungs?\n",
      "n=3343, heart?\n",
      "n=3053, pleural space?\n",
      "n=2686, pneumothorax?\n",
      "n=2345, mediastinum?\n",
      "n=1934, bones?\n",
      "n=1224, consolidation?\n",
      "n=1180, cardiac silhouette?\n",
      "n=796, pulmonary vascularity?\n",
      "n=714, opacities?\n",
      "n=546, air space disease?\n",
      "n=540, calcification?\n",
      "n=435, granumola?\n",
      "n=414, infiltrate?\n",
      "n=408, support devices and foreign bodies?\n",
      "n=389, thoracic aorta?\n",
      "n=360, atelectasis?\n",
      "n=348, edema?\n",
      "n=328, nodules?\n",
      "n=303, cardiomegaly?\n",
      "n=257, pneumonia?\n",
      "n=239, diaphragm?\n",
      "n=223, tortuosity?\n",
      "n=220, surgery?\n",
      "n=213, interstitial lung disease?\n",
      "n=207, scarring?\n",
      "n=207, pulmonary hila?\n",
      "n=204, tubes and lines?\n",
      "n=192, fractures?\n",
      "n=190, ribs?\n",
      "n=182, masses?\n",
      "n=144, prominence?\n",
      "n=138, soft tissue?\n",
      "n=135, densities?\n",
      "n=122, emphysema?\n",
      "n=109, trachea?\n",
      "n=107, apical zone?\n",
      "n=98, adenopathy?\n",
      "n=97, bronchus?\n",
      "n=88, markings?\n",
      "n=82, bronchovascular crowding?\n",
      "n=74, fluid?\n",
      "n=65, infection?\n",
      "n=64, free air?\n",
      "n=61, air collections?\n",
      "n=57, lesions?\n",
      "n=53, hernias?\n",
      "n=48, lung parenchyma?\n",
      "n=46, vena cava?\n",
      "n=43, COPD?\n",
      "n=42, fibrosis?\n",
      "n=41, lucencies?\n",
      "n=36, cancer or tumor?\n",
      "n=28, airways?\n",
      "n=23, sulci?\n",
      "n=19, fissures?\n",
      "n=19, congestive heart failure CHF?\n",
      "n=18, stomach?\n",
      "n=15, lymph nodes?\n",
      "n=13, aspiration?\n",
      "n=12, shadow?\n",
      "n=11, bullae and blebs?\n",
      "n=10, trauma?\n",
      "n=10, sarcoidosis?\n",
      "n=10, pneumoperitoneum?\n",
      "n=9, loculation?\n",
      "n=9, carina?\n",
      "n=9, bowel?\n",
      "n=8, pneumomediastinum?\n",
      "n=8, contrast?\n",
      "n=8, bowel obstruction and loops?\n",
      "n=8, air-fluid level?\n",
      "n=7, colon?\n",
      "n=5, peribronchial cuffing?\n",
      "n=5, esophagus?\n",
      "n=5, bronchiectasis?\n",
      "n=3, liver?\n",
      "n=3, gas distension?\n",
      "n=3, abscess and cavitation?\n",
      "n=2, thyroid?\n",
      "n=2, tendon?\n",
      "n=2, skinfold?\n",
      "n=2, radiation?\n",
      "n=2, ossification?\n",
      "n=2, haze?\n",
      "n=2, azygos lobe?\n",
      "n=1, pneumatocele?\n",
      "n=1, kerley lines?\n",
      "n=1, cholelithiasis?\n",
      "n=1, azygos vein?\n",
      "n=0, sagittal chest?\n",
      "n=0, fluid overload?\n",
      "n=0, bronchogram?\n",
      "n=0, blurring?\n",
      "n=0, bleeding?\n",
      "n=0, ascites?\n",
      "n=0, ARDS?\n"
     ]
    }
   ],
   "source": [
    "generate_summary_file(iuxray_qa_adapted_reports, 10, 120, '../iuxray/iuxray_qa_dataset_summary_file.txt')"
   ]
  },
  {
   "cell_type": "code",
   "execution_count": 21,
   "metadata": {
    "scrolled": false
   },
   "outputs": [
    {
     "name": "stdout",
     "output_type": "stream",
     "text": [
      "n=191641, lungs?\n",
      "n=184260, pleural space?\n",
      "n=144619, pneumothorax?\n",
      "n=129244, heart?\n",
      "n=117811, mediastinum?\n",
      "n=107593, support devices and foreign bodies?\n",
      "n=97824, cardiac silhouette?\n",
      "n=86492, tubes and lines?\n",
      "n=72867, bones?\n",
      "n=69556, opacities?\n",
      "n=69505, consolidation?\n",
      "n=69001, atelectasis?\n",
      "n=65524, edema?\n",
      "n=54153, pulmonary hila?\n",
      "n=53740, pulmonary vascularity?\n",
      "n=52914, pneumonia?\n",
      "n=31810, cardiomegaly?\n",
      "n=28096, surgery?\n",
      "n=25534, diaphragm?\n",
      "n=22222, thoracic aorta?\n",
      "n=20327, vena cava?\n",
      "n=17058, stomach?\n",
      "n=16204, trachea?\n",
      "n=15391, interstitial lung disease?\n",
      "n=14336, calcification?\n",
      "n=13946, apical zone?\n",
      "n=13616, fractures?\n",
      "n=13425, infection?\n",
      "n=11897, carina?\n",
      "n=11465, lung parenchyma?\n",
      "n=11200, ribs?\n",
      "n=11120, tortuosity?\n",
      "n=10721, prominence?\n",
      "n=9560, free air?\n",
      "n=9184, fluid?\n",
      "n=8704, bronchus?\n",
      "n=8331, aspiration?\n",
      "n=7628, scarring?\n",
      "n=6981, densities?\n",
      "n=6901, nodules?\n",
      "n=5485, emphysema?\n",
      "n=5371, markings?\n",
      "n=5371, congestive heart failure CHF?\n",
      "n=4781, infiltrate?\n",
      "n=4594, esophagus?\n",
      "n=4186, air collections?\n",
      "n=4064, masses?\n",
      "n=3935, soft tissue?\n",
      "n=3750, lesions?\n",
      "n=3252, bronchovascular crowding?\n",
      "n=3028, fluid overload?\n",
      "n=2990, hernias?\n",
      "n=2978, haze?\n",
      "n=2975, gas distension?\n",
      "n=2828, cancer or tumor?\n",
      "n=2720, loculation?\n",
      "n=2425, adenopathy?\n",
      "n=2391, COPD?\n",
      "n=2189, granumola?\n",
      "n=2183, fissures?\n",
      "n=1908, lucencies?\n",
      "n=1797, bleeding?\n",
      "n=1732, fibrosis?\n",
      "n=1688, pneumomediastinum?\n",
      "n=1290, bowel?\n",
      "n=1188, shadow?\n",
      "n=1146, lymph nodes?\n",
      "n=1039, bronchogram?\n",
      "n=1015, thyroid?\n",
      "n=989, peribronchial cuffing?\n",
      "n=939, trauma?\n",
      "n=932, pneumoperitoneum?\n",
      "n=902, airways?\n",
      "n=891, bowel obstruction and loops?\n",
      "n=874, sulci?\n",
      "n=840, bronchiectasis?\n",
      "n=715, air-fluid level?\n",
      "n=709, radiation?\n",
      "n=615, azygos vein?\n",
      "n=540, contrast?\n",
      "n=534, colon?\n",
      "n=507, air space disease?\n",
      "n=478, abscess and cavitation?\n",
      "n=476, ARDS?\n",
      "n=448, bullae and blebs?\n",
      "n=385, skinfold?\n",
      "n=311, sarcoidosis?\n",
      "n=304, liver?\n",
      "n=263, blurring?\n",
      "n=251, kerley lines?\n",
      "n=162, azygos lobe?\n",
      "n=104, ascites?\n",
      "n=75, ossification?\n",
      "n=59, pneumatocele?\n",
      "n=42, tendon?\n",
      "n=16, cholelithiasis?\n",
      "n=10, sagittal chest?\n"
     ]
    }
   ],
   "source": [
    "generate_summary_file(mimiccxr_qa_adapted_reports, 10, 120, '../mimiccxr/mimiccxr_qa_dataset_summary_file.txt')"
   ]
  }
 ],
 "metadata": {
  "celltoolbar": "Raw Cell Format",
  "kernelspec": {
   "display_name": "Python 3",
   "language": "python",
   "name": "python3"
  },
  "language_info": {
   "codemirror_mode": {
    "name": "ipython",
    "version": 3
   },
   "file_extension": ".py",
   "mimetype": "text/x-python",
   "name": "python",
   "nbconvert_exporter": "python",
   "pygments_lexer": "ipython3",
   "version": "3.6.9"
  }
 },
 "nbformat": 4,
 "nbformat_minor": 4
}
