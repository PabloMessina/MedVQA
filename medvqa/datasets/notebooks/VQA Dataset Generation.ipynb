{
 "cells": [
  {
   "cell_type": "code",
   "execution_count": 4,
   "metadata": {},
   "outputs": [
    {
     "name": "stdout",
     "output_type": "stream",
     "text": [
      "Loading file /mnt/workspace/iu-x-ray/dataset/reports/reports.min.json ...\r\n",
      "Extracing and merging findings and impressions ...\r\n",
      "Saving to /home/pamessina/medvqa-workspace/cache/iuxray/findings+impression.txt ...\r\n",
      "done!\r\n"
     ]
    }
   ],
   "source": [
    "!python ../../scripts/iuxray/extract_findings_and_impressions.py"
   ]
  },
  {
   "cell_type": "code",
   "execution_count": 5,
   "metadata": {},
   "outputs": [
    {
     "name": "stdout",
     "output_type": "stream",
     "text": [
      "Loading MIMIC-CXR's report file paths ...\n",
      "227835it [03:10, 1197.91it/s] \n",
      "Saving findings + impressions to /home/pamessina/medvqa-workspace/cache/mimiccxr/findings+impression.txt ...\n",
      "100%|████████████████████████████████| 227835/227835 [00:10<00:00, 21755.81it/s]\n",
      "Num failed paths = 649\n",
      "Done!\n"
     ]
    }
   ],
   "source": [
    "!python ../../scripts/mimiccxr/extract_findings_and_impressions.py"
   ]
  },
  {
   "cell_type": "code",
   "execution_count": 6,
   "metadata": {},
   "outputs": [],
   "source": [
    "from importlib import reload"
   ]
  },
  {
   "cell_type": "code",
   "execution_count": 7,
   "metadata": {},
   "outputs": [],
   "source": [
    "from medvqa.utils.files import read_lines_from_txt\n",
    "from medvqa.utils.common import CACHE_DIR\n",
    "from medvqa.datasets.qa_pairs_extractor import QuestionAnswerExtractor\n",
    "import medvqa\n",
    "import re\n",
    "import os\n",
    "import random\n",
    "import math\n",
    "from tqdm import tqdm"
   ]
  },
  {
   "cell_type": "code",
   "execution_count": 8,
   "metadata": {},
   "outputs": [
    {
     "data": {
      "text/plain": [
       "<module 'medvqa.datasets.qa_pairs_extractor' from '/home/pamessina/medvqa/medvqa/datasets/qa_pairs_extractor.py'>"
      ]
     },
     "execution_count": 8,
     "metadata": {},
     "output_type": "execute_result"
    }
   ],
   "source": [
    "reload(medvqa.datasets.qa_pairs_extractor)"
   ]
  },
  {
   "cell_type": "code",
   "execution_count": 9,
   "metadata": {},
   "outputs": [],
   "source": [
    "iuxray_raw_reports = read_lines_from_txt(os.path.join(CACHE_DIR, 'iuxray', 'findings+impression.txt'))"
   ]
  },
  {
   "cell_type": "code",
   "execution_count": 10,
   "metadata": {},
   "outputs": [],
   "source": [
    "mimiccxr_raw_reports = read_lines_from_txt(os.path.join(CACHE_DIR, 'mimiccxr', 'findings+impression.txt'))"
   ]
  },
  {
   "cell_type": "code",
   "execution_count": 11,
   "metadata": {},
   "outputs": [
    {
     "data": {
      "text/plain": [
       "(3927, 227186)"
      ]
     },
     "execution_count": 11,
     "metadata": {},
     "output_type": "execute_result"
    }
   ],
   "source": [
    "len(iuxray_raw_reports), len(mimiccxr_raw_reports)"
   ]
  },
  {
   "cell_type": "code",
   "execution_count": 12,
   "metadata": {},
   "outputs": [],
   "source": [
    "def print_qa_pairs(qa_pairs):\n",
    "    for k, v in qa_pairs.items():\n",
    "        print('------------')\n",
    "        print('Q:', k)\n",
    "        for s in v:\n",
    "            print('A:',s)"
   ]
  },
  {
   "cell_type": "code",
   "execution_count": 13,
   "metadata": {},
   "outputs": [],
   "source": [
    "qa_extractor = QuestionAnswerExtractor()"
   ]
  },
  {
   "cell_type": "code",
   "execution_count": 14,
   "metadata": {},
   "outputs": [
    {
     "data": {
      "text/plain": [
       "re.compile(r'(\\bwhen\\b|\\band\\b|\\bbut\\b|\\bhowever\\b|\\balthough\\b|\\bshould\\b|\\bsince\\b|\\bunless\\b|\\bnevertheless\\b|[,;.:])+(\\s+(\\bwhen\\b|\\band\\b|\\bbut\\b|\\bhowever\\b|\\balthough\\b|\\bshould\\b|\\bsince\\b|\\bunless\\b|\\bnevertheless\\b|[,;.:])+)*',\n",
       "re.IGNORECASE|re.UNICODE)"
      ]
     },
     "execution_count": 14,
     "metadata": {},
     "output_type": "execute_result"
    }
   ],
   "source": [
    "connectors = ['when', 'and', 'but', 'however', 'although', 'should', 'since', 'unless', 'nevertheless']\n",
    "exp = '('+'|'.join(f'\\\\b{x}\\\\b' for x in connectors)+'|[,;.:])'\n",
    "full_exp = f'{exp}+(\\\\s+{exp}+)*'\n",
    "sep_regex = re.compile(full_exp, re.IGNORECASE)\n",
    "sep_regex"
   ]
  },
  {
   "cell_type": "code",
   "execution_count": 15,
   "metadata": {},
   "outputs": [],
   "source": [
    "def clean_sentence(self, sentence):\n",
    "    last_sep = None\n",
    "    i = 0\n",
    "    n = len(sentence)\n",
    "    sentence = self._apply_replacements(sentence)\n",
    "    clean_sentence = ''\n",
    "    prepend_to_next_chunk = None\n",
    "    for match in sep_regex.finditer(sentence):\n",
    "        span = match.span()\n",
    "        if i < span[0]:\n",
    "            chunk = sentence[i:span[0]].strip()\n",
    "            if prepend_to_next_chunk:\n",
    "                if len(clean_sentence) > 0:\n",
    "                    chunk = prepend_to_next_chunk + chunk\n",
    "                prepend_to_next_chunk = None\n",
    "            if self._is_relevant(chunk):\n",
    "                if len(clean_sentence) > 0:\n",
    "                    if last_sep:\n",
    "                        clean_sentence += ' ' + last_sep\n",
    "                    clean_sentence += ' '                    \n",
    "                clean_sentence += chunk\n",
    "            print('chunk =', chunk)\n",
    "        i = span[1]\n",
    "        last_sep = sentence[span[0]:span[1]]\n",
    "        print('last_sep =', last_sep)\n",
    "        if last_sep not in ('and', 'but', ':'):\n",
    "            if last_sep == ', however,':\n",
    "                last_sep = None\n",
    "            else:\n",
    "                done = False\n",
    "                for x in ('should', 'since', 'unless', 'when'):\n",
    "                    if x in last_sep:\n",
    "                        prepend_to_next_chunk = last_sep + ' '\n",
    "                        last_sep = None\n",
    "                        done = True\n",
    "                        break\n",
    "                if not done:\n",
    "                    last_sep = ','\n",
    "    if i < n:\n",
    "        chunk = sentence[i:].strip()\n",
    "        if prepend_to_next_chunk:\n",
    "            chunk = prepend_to_next_chunk + chunk\n",
    "        if self._is_relevant(chunk):\n",
    "            if len(clean_sentence) > 0:\n",
    "                if last_sep:\n",
    "                    clean_sentence += ' ' + last_sep\n",
    "                clean_sentence += ' '\n",
    "            clean_sentence += chunk\n",
    "        print('chunk =', chunk)\n",
    "    return clean_sentence"
   ]
  },
  {
   "cell_type": "code",
   "execution_count": 16,
   "metadata": {},
   "outputs": [
    {
     "name": "stdout",
     "output_type": "stream",
     "text": [
      "<_sre.SRE_Match object; span=(3, 6), match='and'>\n",
      "<_sre.SRE_Match object; span=(95, 96), match=','>\n",
      "<_sre.SRE_Match object; span=(122, 123), match='.'>\n",
      "<_sre.SRE_Match object; span=(167, 168), match='.'>\n",
      "<_sre.SRE_Match object; span=(196, 197), match='.'>\n",
      "<_sre.SRE_Match object; span=(240, 241), match='.'>\n",
      "chunk = pa\n",
      "last_sep = and\n",
      "chunk = lateral views of the chest provided demonstrate clear lungs without focal consolidation\n",
      "last_sep = ,\n",
      "chunk = effusion or pneumothorax\n",
      "last_sep = .\n",
      "chunk = the cardiomediastinal silhouette is normal\n",
      "last_sep = .\n",
      "chunk = bony structures are intact\n",
      "last_sep = .\n",
      "chunk = no free air below the right hemidiaphragm\n",
      "last_sep = .\n",
      "$$$$lateral views of the chest provided demonstrate clear lungs without focal consolidation , effusion or pneumothorax , the cardiomediastinal silhouette is normal , bony structures are intact , no free air below the right hemidiaphragm$$$$\n",
      "$$$$lateral views of the chest provided demonstrate clear lungs without focal consolidation , effusion or pneumothorax , the cardiomediastinal silhouette is normal , bony structures are intact , no free air below the right hemidiaphragm$$$$\n"
     ]
    }
   ],
   "source": [
    "# _s = 'AP chest compared to through : Pulmonary vascular congestion and mediastinal venous engorgement have progressed since .'\n",
    "_s = 'pa and lateral views of the chest provided demonstrate clear lungs without focal consolidation , effusion or pneumothorax . the cardiomediastinal silhouette is normal . bony structures are intact . no free air below the right hemidiaphragm .'\n",
    "for x in sep_regex.finditer(_s):\n",
    "    print(str(x))\n",
    "print(\"$$$$\"+clean_sentence(qa_extractor, _s)+\"$$$$\")\n",
    "print(\"$$$$\"+qa_extractor.clean_sentence(_s)+\"$$$$\")"
   ]
  },
  {
   "cell_type": "code",
   "execution_count": 17,
   "metadata": {},
   "outputs": [],
   "source": [
    "from nltk.tokenize import sent_tokenize"
   ]
  },
  {
   "cell_type": "code",
   "execution_count": 18,
   "metadata": {},
   "outputs": [
    {
     "data": {
      "text/plain": [
       "['Mild-to-moderate pulmonary edema is new.',\n",
       " 'Right lower lobe opacity has improved consistent with improving atelectasis.',\n",
       " 'Small bilateral pleural effusions are unchanged.',\n",
       " 'Opacity in the left apex and irregularity of the left upper ribs corresponds to mass seen in prior CTA.',\n",
       " 'Cardiomegaly is stable.',\n",
       " 'Increasing opacity in the left lower lobe is consistent with increasing atelectasis and pleural effusion.',\n",
       " 'Spinal hardware is again noted.']"
      ]
     },
     "execution_count": 18,
     "metadata": {},
     "output_type": "execute_result"
    }
   ],
   "source": [
    "sent_tokenize('Mild-to-moderate pulmonary edema is new. Right lower lobe opacity has improved consistent with improving atelectasis. Small bilateral pleural effusions are unchanged. Opacity in the left apex and irregularity of the left upper ribs corresponds to mass seen in prior CTA. Cardiomegaly is stable. Increasing opacity in the left lower lobe is consistent with increasing atelectasis and pleural effusion. Spinal hardware is again noted.')"
   ]
  },
  {
   "cell_type": "code",
   "execution_count": 19,
   "metadata": {},
   "outputs": [
    {
     "name": "stdout",
     "output_type": "stream",
     "text": [
      "------------\n",
      "Q: pleural space?\n",
      "A: Previous moderate left pleural effusion\n",
      "A: Moderate enlarged of the cardiac silhouette is clear due to cardiomegaly and /or pericardial effusion and there is new mild interstitial edema in the right lower lung\n",
      "------------\n",
      "Q: pneumothorax?\n",
      "A: There is no pneumothorax\n",
      "------------\n",
      "Q: lungs?\n",
      "A: Moderate enlarged of the cardiac silhouette is clear due to cardiomegaly and /or pericardial effusion and there is new mild interstitial edema in the right lower lung\n",
      "------------\n",
      "Q: heart?\n",
      "A: Moderate enlarged of the cardiac silhouette is clear due to cardiomegaly and /or pericardial effusion and there is new mild interstitial edema in the right lower lung\n",
      "A: Hemodialysis catheter ends in the right atrium as before\n",
      "------------\n",
      "Q: cardiomegaly?\n",
      "A: Moderate enlarged of the cardiac silhouette is clear due to cardiomegaly and /or pericardial effusion and there is new mild interstitial edema in the right lower lung\n",
      "------------\n",
      "Q: cardiac silhouette?\n",
      "A: Moderate enlarged of the cardiac silhouette is clear due to cardiomegaly and /or pericardial effusion and there is new mild interstitial edema in the right lower lung\n",
      "------------\n",
      "Q: edema?\n",
      "A: Moderate enlarged of the cardiac silhouette is clear due to cardiomegaly and /or pericardial effusion and there is new mild interstitial edema in the right lower lung\n",
      "------------\n",
      "Q: interstitial lung disease?\n",
      "A: Moderate enlarged of the cardiac silhouette is clear due to cardiomegaly and /or pericardial effusion and there is new mild interstitial edema in the right lower lung\n",
      "------------\n",
      "Q: tubes and lines?\n",
      "A: Hemodialysis catheter ends in the right atrium as before\n",
      "------------\n",
      "Q: support devices and foreign bodies?\n",
      "A: Hemodialysis catheter ends in the right atrium as before\n"
     ]
    }
   ],
   "source": [
    "tmp = qa_extractor.generate_qa_pairs('Previous moderate left pleural effusion and left lower lobe collapse have improved has the patient had thoracentesis?  There is no pneumothorax. Moderate enlarged of the cardiac silhouette is clear due to cardiomegaly and/or pericardial effusion and there is new mild interstitial edema in the right lower lung. Hemodialysis catheter ends in the right atrium as before.', debug=True)\n",
    "print_qa_pairs(tmp)"
   ]
  },
  {
   "cell_type": "code",
   "execution_count": 20,
   "metadata": {},
   "outputs": [
    {
     "name": "stdout",
     "output_type": "stream",
     "text": [
      "In comparison with the study of , the right subclavian PICC line has been pulled back, though the tip still remains in the left brachiocephalic vein. Other monitoring and support devices are unchanged. The bilateral pulmonary opacifications have decreased, especially on the right. Nevertheless, in the appropriate clinical setting, aspiration pneumonia at the left base would have to be seriously considered.\n",
      "=============================\n",
      "------------\n",
      "Q: tubes and lines?\n",
      "A: the right subclavian PICC line has been pulled back , though the tip still remains in the left brachiocephalic vein\n",
      "------------\n",
      "Q: support devices and foreign bodies?\n",
      "A: the right subclavian PICC line has been pulled back , though the tip still remains in the left brachiocephalic vein\n",
      "A: Other monitoring and support devices are unchanged\n",
      "------------\n",
      "Q: opacities?\n",
      "A: The bilateral pulmonary opacifications have decreased , especially on the right\n",
      "------------\n",
      "Q: lungs?\n",
      "A: in the appropriate clinical setting , aspiration pneumonia at the left base would have to be seriously considered\n",
      "------------\n",
      "Q: pneumonia?\n",
      "A: in the appropriate clinical setting , aspiration pneumonia at the left base would have to be seriously considered\n",
      "------------\n",
      "Q: aspiration?\n",
      "A: in the appropriate clinical setting , aspiration pneumonia at the left base would have to be seriously considered\n"
     ]
    }
   ],
   "source": [
    "report = random.choice(mimiccxr_raw_reports)\n",
    "print(report)\n",
    "print('=============================')\n",
    "tmp = qa_extractor.generate_qa_pairs(report, debug=True)\n",
    "print_qa_pairs(tmp)"
   ]
  },
  {
   "cell_type": "code",
   "execution_count": 21,
   "metadata": {},
   "outputs": [
    {
     "data": {
      "text/plain": [
       "{'sentences': ['the right subclavian PICC line has been pulled back , though the tip still remains in the left brachiocephalic vein',\n",
       "  'Other monitoring and support devices are unchanged',\n",
       "  'The bilateral pulmonary opacifications have decreased , especially on the right',\n",
       "  'in the appropriate clinical setting , aspiration pneumonia at the left base would have to be seriously considered'],\n",
       " 'invalid': [],\n",
       " 'unmatched': [],\n",
       " 'matched': [0, 1, 2, 3],\n",
       " 'qa': {'95': [0], '87': [0, 1], '65': [2], '59': [3], '71': [3], '10': [3]},\n",
       " 'question_ids': [95, 87, 65, 59, 71, 10]}"
      ]
     },
     "execution_count": 21,
     "metadata": {},
     "output_type": "execute_result"
    }
   ],
   "source": [
    "tmp = qa_extractor.generate_qa_pairs_compact_version(report)\n",
    "tmp"
   ]
  },
  {
   "cell_type": "code",
   "execution_count": 22,
   "metadata": {},
   "outputs": [
    {
     "name": "stdout",
     "output_type": "stream",
     "text": [
      "$$$$The tip of the endotracheal tube projects approximately NUMBER cm above the carina and is normal$$$$\n"
     ]
    }
   ],
   "source": [
    "_s = 'The tip of the endotracheal tube projects approximately 3.5 cm above the carina and is within normal limits.'\n",
    "print(\"$$$$\"+qa_extractor.clean_sentence(_s)+\"$$$$\")"
   ]
  },
  {
   "cell_type": "code",
   "execution_count": 23,
   "metadata": {},
   "outputs": [
    {
     "data": {
      "text/plain": [
       "(97,\n",
       " ['ARDS?',\n",
       "  'COPD?',\n",
       "  'abscess and cavitation?',\n",
       "  'adenopathy?',\n",
       "  'air collections?',\n",
       "  'air space disease?',\n",
       "  'air-fluid level?',\n",
       "  'airways?',\n",
       "  'apical zone?',\n",
       "  'ascites?',\n",
       "  'aspiration?',\n",
       "  'atelectasis?',\n",
       "  'azygos lobe?',\n",
       "  'azygos vein?',\n",
       "  'bleeding?',\n",
       "  'blurring?',\n",
       "  'bones?',\n",
       "  'bowel obstruction and loops?',\n",
       "  'bowel?',\n",
       "  'bronchiectasis?',\n",
       "  'bronchogram?',\n",
       "  'bronchovascular crowding?',\n",
       "  'bronchus?',\n",
       "  'bullae and blebs?',\n",
       "  'calcification?',\n",
       "  'cancer or tumor?',\n",
       "  'cardiac silhouette?',\n",
       "  'cardiomegaly?',\n",
       "  'carina?',\n",
       "  'cholelithiasis?',\n",
       "  'colon?',\n",
       "  'congestive heart failure CHF?',\n",
       "  'consolidation?',\n",
       "  'contrast?',\n",
       "  'densities?',\n",
       "  'diaphragm?',\n",
       "  'edema?',\n",
       "  'emphysema?',\n",
       "  'esophagus?',\n",
       "  'fibrosis?',\n",
       "  'fissures?',\n",
       "  'fluid overload?',\n",
       "  'fluid?',\n",
       "  'fractures?',\n",
       "  'free air?',\n",
       "  'gas distension?',\n",
       "  'granumola?',\n",
       "  'haze?',\n",
       "  'heart?',\n",
       "  'hernias?',\n",
       "  'infection?',\n",
       "  'infiltrate?',\n",
       "  'interstitial lung disease?',\n",
       "  'kerley lines?',\n",
       "  'lesions?',\n",
       "  'liver?',\n",
       "  'loculation?',\n",
       "  'lucencies?',\n",
       "  'lung parenchyma?',\n",
       "  'lungs?',\n",
       "  'lymph nodes?',\n",
       "  'markings?',\n",
       "  'masses?',\n",
       "  'mediastinum?',\n",
       "  'nodules?',\n",
       "  'opacities?',\n",
       "  'ossification?',\n",
       "  'peribronchial cuffing?',\n",
       "  'pleural space?',\n",
       "  'pneumatocele?',\n",
       "  'pneumomediastinum?',\n",
       "  'pneumonia?',\n",
       "  'pneumoperitoneum?',\n",
       "  'pneumothorax?',\n",
       "  'prominence?',\n",
       "  'pulmonary hila?',\n",
       "  'pulmonary vascularity?',\n",
       "  'radiation?',\n",
       "  'ribs?',\n",
       "  'sagittal chest?',\n",
       "  'sarcoidosis?',\n",
       "  'scarring?',\n",
       "  'shadow?',\n",
       "  'skinfold?',\n",
       "  'soft tissue?',\n",
       "  'stomach?',\n",
       "  'sulci?',\n",
       "  'support devices and foreign bodies?',\n",
       "  'surgery?',\n",
       "  'tendon?',\n",
       "  'thoracic aorta?',\n",
       "  'thyroid?',\n",
       "  'tortuosity?',\n",
       "  'trachea?',\n",
       "  'trauma?',\n",
       "  'tubes and lines?',\n",
       "  'vena cava?'])"
      ]
     },
     "execution_count": 23,
     "metadata": {},
     "output_type": "execute_result"
    }
   ],
   "source": [
    "len(qa_extractor.questions), qa_extractor.questions"
   ]
  },
  {
   "cell_type": "code",
   "execution_count": 24,
   "metadata": {},
   "outputs": [
    {
     "data": {
      "text/plain": [
       "(4, 33058)"
      ]
     },
     "execution_count": 24,
     "metadata": {},
     "output_type": "execute_result"
    }
   ],
   "source": [
    "tmp = qa_extractor.search_by_unmatched(0, mimiccxr_raw_reports, 100)\n",
    "x = tmp[1]\n",
    "tmp"
   ]
  },
  {
   "cell_type": "code",
   "execution_count": 25,
   "metadata": {},
   "outputs": [
    {
     "data": {
      "text/plain": [
       "{'sentences': ['there is no relevant change',\n",
       "  'The right lower hemithorax has minimally increased in transparency , the left hemithorax has slightly decreased in transparency',\n",
       "  'These changes are likely caused by changes in patient position',\n",
       "  'Unchanged overall severity of pulmonary pathology',\n",
       "  'Constant size of the cardiac silhouette',\n",
       "  'Unchanged appearance of the cardiac monitoring and support devices'],\n",
       " 'invalid': [],\n",
       " 'unmatched': [0, 1, 2, 3],\n",
       " 'matched': [4, 5],\n",
       " 'qa': {'26': [4], '87': [5]},\n",
       " 'question_ids': [26, 87]}"
      ]
     },
     "execution_count": 25,
     "metadata": {},
     "output_type": "execute_result"
    }
   ],
   "source": [
    "qa_extractor.generate_qa_pairs_compact_version(mimiccxr_raw_reports[x])"
   ]
  },
  {
   "cell_type": "code",
   "execution_count": 26,
   "metadata": {
    "scrolled": false
   },
   "outputs": [
    {
     "name": "stdout",
     "output_type": "stream",
     "text": [
      "As compared to the previous radiograph, there is no relevant change. The right lower hemithorax has minimally increased in transparency, the left hemithorax has slightly decreased in transparency. These changes are likely caused by changes in patient position. Unchanged overall severity of pulmonary pathology. Constant size of the cardiac silhouette. Unchanged appearance of the cardiac monitoring and support devices.\n",
      "======================\n",
      "** not captured: there is no relevant change\n",
      "** not captured: The right lower hemithorax has minimally increased in transparency , the left hemithorax has slightly decreased in transparency\n",
      "** not captured: These changes are likely caused by changes in patient position\n",
      "** not captured: Unchanged overall severity of pulmonary pathology\n",
      "------------\n",
      "Q: cardiac silhouette?\n",
      "A: Constant size of the cardiac silhouette\n",
      "------------\n",
      "Q: support devices and foreign bodies?\n",
      "A: Unchanged appearance of the cardiac monitoring and support devices\n"
     ]
    }
   ],
   "source": [
    "# _report = \"\"\n",
    "# print(_report)\n",
    "# _qa_pairs = qa_generator.generate_question_answer_pairs(_report)\n",
    "print(mimiccxr_raw_reports[x])\n",
    "print(\"======================\")\n",
    "_qa_pairs = qa_extractor.generate_qa_pairs(mimiccxr_raw_reports[x], debug=True)\n",
    "# _qa_pairs = qa_generator.remove_almost_duplicate_sentences(_qa_pairs)\n",
    "print_qa_pairs(_qa_pairs)"
   ]
  },
  {
   "cell_type": "code",
   "execution_count": 27,
   "metadata": {},
   "outputs": [],
   "source": [
    "def get_informative_unmatched_sentences(corpus, qa_extractor, n_samples = 2000):\n",
    "    \n",
    "    indices = range(len(corpus))\n",
    "    if len(corpus) > n_samples:\n",
    "        indices = random.sample(indices, n_samples)\n",
    "        \n",
    "    unmatched_sentences = set()\n",
    "    word2freq = dict()\n",
    "    \n",
    "    for i in tqdm(indices):\n",
    "        for s in qa_extractor.get_unmatched_sentences(corpus[i]):\n",
    "            unmatched_sentences.add(s)\n",
    "            for w in re.split(r\",?\\s+\", s):\n",
    "                word2freq[w] = word2freq.get(w, 0) + 1\n",
    "    \n",
    "    max_freq = max(word2freq.values())    \n",
    "    unmatched_sentences = list(unmatched_sentences)\n",
    "    \n",
    "    def score(s):\n",
    "        score_max = 0\n",
    "        score_sum = 0\n",
    "        cnt = 0\n",
    "        for w in re.split(r\",?\\s+\", s):\n",
    "            if w not in qa_extractor.stopwords:\n",
    "                tmp = max_freq - word2freq.get(w, 0)\n",
    "                score_max = max(tmp, score_max)\n",
    "                score_sum += tmp\n",
    "                cnt += 1\n",
    "        return score_max * 0.4 + (score_sum / math.sqrt(max(cnt,1))) * 0.6\n",
    "    \n",
    "    unmatched_sentences.sort(key=score, reverse=True)\n",
    "    return unmatched_sentences"
   ]
  },
  {
   "cell_type": "code",
   "execution_count": 28,
   "metadata": {},
   "outputs": [
    {
     "name": "stderr",
     "output_type": "stream",
     "text": [
      "100%|██████████| 1000/1000 [00:05<00:00, 182.62it/s]\n"
     ]
    }
   ],
   "source": [
    "unmatched_sentences = get_informative_unmatched_sentences(mimiccxr_raw_reports, qa_extractor, n_samples=1000)"
   ]
  },
  {
   "cell_type": "code",
   "execution_count": 29,
   "metadata": {},
   "outputs": [
    {
     "data": {
      "text/plain": [
       "198"
      ]
     },
     "execution_count": 29,
     "metadata": {},
     "output_type": "execute_result"
    }
   ],
   "source": [
    "len(unmatched_sentences)"
   ]
  },
  {
   "cell_type": "code",
   "execution_count": 30,
   "metadata": {},
   "outputs": [],
   "source": [
    "qa_extractor.reload()"
   ]
  },
  {
   "cell_type": "code",
   "execution_count": 31,
   "metadata": {},
   "outputs": [
    {
     "name": "stdout",
     "output_type": "stream",
     "text": [
      "** not captured: The multifocal patchy abnormalities identified in chest CT are not particularly well seen on current chest radiograph\n",
      "** not captured: Small small to moderate residual left hemothorax has continued to decrease\n",
      "** not captured: An additional right lateral decubitus view would be helpful for clarification\n",
      "** not captured: the patient has an outside CT scan , which has not yet been uploaded for reference\n",
      "** not captured: One of the images shows the midline and left chest , excludes the right\n",
      "** not captured: Oblique views might be able to demonstrate both of these areas to better advantage\n",
      "** not captured: MRI of the chest may be useful in differentiating thymic hyperplasia from lymphoma\n",
      "** not captured: long term stability suggest a benign etiology\n",
      "** not captured: The remainder of the examination is unchanged compared to the prior radiograph\n",
      "** not captured: Findings may represent underpenetration secondary to technique\n",
      "** not captured: Disease at the right cardiophrenic angle is also more conspicuous\n",
      "** not captured: It is stable compared to prior exams listed above\n",
      "** not captured: The rest of the appearance of the thorax is unchanged as well\n",
      "** not captured: There currently is no evidence of acute or chronic lung disease\n",
      "** not captured: Single frontal AP view of the chest provided with patient positioned upright\n",
      "** not captured: Recommend further attention to this area on already ordered CT chest\n",
      "** not captured: No radiographic evidence of underlying pulmonary drug toxicity\n",
      "** not captured: There is some external artifact projecting over the patient on the lateral view\n",
      "** not captured: Note is made of extensive systemic collaterals\n",
      "** not captured: Mediastinal and extrapleural fat deposition is chronic\n",
      "** not captured: This discordance raises the possibility of cardiomyopathy\n",
      "** not captured: Both leads project over the right ventricle\n",
      "** not captured: Recommend withdrawing by approximately 3 cm\n",
      "** not captured: Retraction by approximately NUMBER cm is recommended\n",
      "** not captured: Remainder of the study is unchanged without acute abnormality\n",
      "** not captured: Portable AP upright view of the dated at 05\n",
      "** not captured: Vascular line ends in the left axilla\n",
      "** not captured: This can contribute to conduction abnormalities in some patients\n",
      "** not captured: The patient is rotated to the left on the frontal view\n",
      "** not captured: Single portable view of the chest is compared to previous exam from\n",
      "** not captured: Allowing for differences in positioning , there has not been a relevant change in the appearance of the chest\n",
      "** not captured: No acute findings detected on this single frontal view\n",
      "** not captured: The position of the mitral valve is unremarkable\n",
      "** not captured: Partially imaged upper abdomen is unremarkable\n",
      "** not captured: The patient is status post extubation\n",
      "** not captured: patient has taken a much better inspiration\n",
      "** not captured: No other relevant change compared to recent chest radiograph of except for extubation\n",
      "** not captured: No clear evidence of acute cardiac or pulmonary process\n",
      "** not captured: The visualized upper abdomen is unremarkable\n",
      "** not captured: The patient is rotated considerably to the right\n"
     ]
    }
   ],
   "source": [
    "print_qa_pairs(qa_extractor.generate_qa_pairs('. '.join(unmatched_sentences[0:40]), debug=True))"
   ]
  },
  {
   "cell_type": "code",
   "execution_count": 32,
   "metadata": {
    "scrolled": true
   },
   "outputs": [
    {
     "name": "stdout",
     "output_type": "stream",
     "text": [
      "Loading original reports from /mnt/workspace/iu-x-ray/dataset/reports/reports.min.json\n",
      "Processing each report ...\n",
      "100%|██████████████████████████████████████| 3955/3955 [00:31<00:00, 123.88it/s]\n",
      "Saving qa adapted reports to /home/pamessina/medvqa-workspace/cache/iuxray/qa_adapted_reports__20220629_042239.json\n",
      "Done!\n"
     ]
    }
   ],
   "source": [
    "!python ../../scripts/iuxray/generate_qa_pairs_from_reports.py"
   ]
  },
  {
   "cell_type": "code",
   "execution_count": 33,
   "metadata": {
    "scrolled": false
   },
   "outputs": [
    {
     "name": "stdout",
     "output_type": "stream",
     "text": [
      "Processing MIMIC-CXR's original reports ...\n",
      "198369it [38:14, 85.93it/s] "
     ]
    },
    {
     "name": "stderr",
     "output_type": "stream",
     "text": [
      "IOPub message rate exceeded.\n",
      "The notebook server will temporarily stop sending output\n",
      "to the client in order to avoid crashing it.\n",
      "To change this limit, set the config variable\n",
      "`--NotebookApp.iopub_msg_rate_limit`.\n",
      "\n",
      "Current values:\n",
      "NotebookApp.iopub_msg_rate_limit=1000.0 (msgs/sec)\n",
      "NotebookApp.rate_limit_window=3.0 (secs)\n",
      "\n"
     ]
    },
    {
     "name": "stdout",
     "output_type": "stream",
     "text": [
      "227835it [44:01, 86.25it/s] \n",
      "Saving qa adapted reports to /home/pamessina/medvqa-workspace/cache/mimiccxr/qa_adapted_reports__20220629_050643.json\n",
      "Done!\n"
     ]
    }
   ],
   "source": [
    "!python ../../scripts/mimiccxr/generate_qa_pairs_from_reports.py"
   ]
  },
  {
   "cell_type": "markdown",
   "metadata": {},
   "source": [
    "## Generate summary file"
   ]
  },
  {
   "cell_type": "code",
   "execution_count": 34,
   "metadata": {},
   "outputs": [],
   "source": [
    "from medvqa.utils.files import load_json_file"
   ]
  },
  {
   "cell_type": "code",
   "execution_count": 35,
   "metadata": {},
   "outputs": [],
   "source": [
    "iuxray_qa_adapted_reports = load_json_file('/home/pamessina/medvqa-workspace/cache/iuxray/qa_adapted_reports__20220629_042239.json')"
   ]
  },
  {
   "cell_type": "code",
   "execution_count": 36,
   "metadata": {},
   "outputs": [],
   "source": [
    "mimiccxr_qa_adapted_reports = load_json_file('/home/pamessina/medvqa-workspace/cache/mimiccxr/qa_adapted_reports__20220629_050643.json')"
   ]
  },
  {
   "cell_type": "code",
   "execution_count": 37,
   "metadata": {},
   "outputs": [
    {
     "data": {
      "text/plain": [
       "(97, 3927)"
      ]
     },
     "execution_count": 37,
     "metadata": {},
     "output_type": "execute_result"
    }
   ],
   "source": [
    "len(iuxray_qa_adapted_reports['questions']), len(iuxray_qa_adapted_reports['reports'])"
   ]
  },
  {
   "cell_type": "code",
   "execution_count": 38,
   "metadata": {},
   "outputs": [
    {
     "data": {
      "text/plain": [
       "(97, 227835)"
      ]
     },
     "execution_count": 38,
     "metadata": {},
     "output_type": "execute_result"
    }
   ],
   "source": [
    "len(mimiccxr_qa_adapted_reports['questions']), len(mimiccxr_qa_adapted_reports['reports'])"
   ]
  },
  {
   "cell_type": "code",
   "execution_count": 39,
   "metadata": {},
   "outputs": [
    {
     "data": {
      "text/plain": [
       "{'sentences': ['The lungs are hyperexpanded , with increased AP diameter of the chest',\n",
       "  'The cardiomediastinal silhouette is stable and normal',\n",
       "  'There is no pneumothorax or large pleural effusion',\n",
       "  'No acute cardiopulmonary abnormality',\n",
       "  'Chronic changes consistent with emphysema'],\n",
       " 'invalid': [],\n",
       " 'unmatched': [],\n",
       " 'matched': [0, 1, 2, 3, 4],\n",
       " 'qa': {'59': [0, 3],\n",
       "  '26': [1],\n",
       "  '63': [1],\n",
       "  '68': [2],\n",
       "  '73': [2],\n",
       "  '48': [3],\n",
       "  '37': [4]},\n",
       " 'question_ids': [59, 26, 63, 68, 73, 48, 37],\n",
       " 'filename': '2509.xml'}"
      ]
     },
     "execution_count": 39,
     "metadata": {},
     "output_type": "execute_result"
    }
   ],
   "source": [
    "iuxray_qa_adapted_reports['reports'][0]"
   ]
  },
  {
   "cell_type": "code",
   "execution_count": 40,
   "metadata": {},
   "outputs": [
    {
     "data": {
      "text/plain": [
       "{'sentences': ['Heart size is normal',\n",
       "  'There are mild aortic knob calcifications',\n",
       "  'Cardiomediastinal silhouette and hilar contours are otherwise unremarkable',\n",
       "  'Lungs are clear',\n",
       "  'Pleural surfaces are clear without effusion or pneumothorax',\n",
       "  'No acute cardiopulmonary abnormality'],\n",
       " 'invalid': [],\n",
       " 'unmatched': [],\n",
       " 'matched': [0, 1, 2, 3, 4, 5],\n",
       " 'qa': {'48': [0, 5],\n",
       "  '90': [1],\n",
       "  '24': [1],\n",
       "  '75': [2],\n",
       "  '26': [2],\n",
       "  '63': [2],\n",
       "  '59': [3, 5],\n",
       "  '68': [4],\n",
       "  '73': [4]},\n",
       " 'question_ids': [48, 90, 24, 75, 26, 63, 59, 68, 73],\n",
       " 'filepath': '/mnt/data/mimic-cxr/files/p10/p10703179/s58829627.txt'}"
      ]
     },
     "execution_count": 40,
     "metadata": {},
     "output_type": "execute_result"
    }
   ],
   "source": [
    "mimiccxr_qa_adapted_reports['reports'][0]"
   ]
  },
  {
   "cell_type": "code",
   "execution_count": 41,
   "metadata": {},
   "outputs": [],
   "source": [
    "def generate_summary_file(dataset, k, kk, output_path):\n",
    "    \n",
    "    q2a = [[] for _ in range(len(dataset['questions']))]\n",
    "    n_invalid = 0\n",
    "    unmatched_sentences = []\n",
    "    for ri, report in enumerate(dataset['reports']):\n",
    "        s = report['sentences']\n",
    "        for q_idx, a_idxs in report['qa'].items():\n",
    "            q_idx = int(q_idx)\n",
    "            a_len = sum(len(s[i]) for i in a_idxs)\n",
    "            q2a[q_idx].append((a_len, ri))\n",
    "        n_invalid += len(report['invalid'])\n",
    "        unmatched_sentences.extend(s[i] for i in report['unmatched'])\n",
    "            \n",
    "    sorted_questions = sorted([(len(a), i) for i,a in enumerate(q2a)], reverse=True)    \n",
    "    \n",
    "    with open(output_path, 'w') as file:\n",
    "        file.write('Preguntas ordenadas por frecuencia (decreciente)\\n\\n')\n",
    "        for f, q in sorted_questions:\n",
    "            file.write('%d, %s\\n' % (f, dataset['questions'][q]))\n",
    "        file.write('\\n')\n",
    "        file.write('Ejemplos de respuestas por pregunta:')\n",
    "        for i,(_,q) in enumerate(sorted_questions):\n",
    "            answers = q2a[q]\n",
    "            answers.sort()            \n",
    "            tmp = []\n",
    "            for _, a in answers:\n",
    "                report = dataset['reports'][a]\n",
    "                sentences = report['sentences']\n",
    "                a_idxs = report['qa'][str(q)]\n",
    "                answer = '. '.join(sentences[i] for i in a_idxs)\n",
    "                tmp.append(answer)\n",
    "            answers = tmp            \n",
    "            n = len(answers)\n",
    "            print(\"n=%d, %s\" % (n, dataset['questions'][q]))\n",
    "            if n > k:\n",
    "                sample = []\n",
    "                for j in range(k):\n",
    "                    sample.append(answers[random.randint(int(n*j/k), int(n*(j+1)/k)-1)])\n",
    "            else:\n",
    "                sample = answers\n",
    "            file.write('\\n\\n%d) %s:\\n\\n' % (i+1, dataset['questions'][q]))\n",
    "            for a in sample:\n",
    "                file.write('    A: %s\\n' % a)\n",
    "        file.write('\\n\\nTotal oraciones inválidas: %d\\n' % n_invalid)\n",
    "        file.write('Total oraciones sin match: %d\\n' % len(unmatched_sentences))\n",
    "        file.write('\\n\\nEjemplos de oraciones válidas que no hicieron match con ninguna pregunta\\n\\n')\n",
    "        unmatched_sentences = list(set(unmatched_sentences))\n",
    "        unmatched_sentences.sort(key=lambda s:len(s))\n",
    "        nn = len(unmatched_sentences)\n",
    "        for j in range(kk):\n",
    "            file.write('    %s\\n' % unmatched_sentences[random.randint(int(nn*j/kk), int(nn*(j+1)/kk)-1)])"
   ]
  },
  {
   "cell_type": "code",
   "execution_count": 42,
   "metadata": {},
   "outputs": [
    {
     "name": "stdout",
     "output_type": "stream",
     "text": [
      "n=3549, lungs?\n",
      "n=3369, heart?\n",
      "n=3106, pleural space?\n",
      "n=2689, pneumothorax?\n",
      "n=2358, mediastinum?\n",
      "n=1960, bones?\n",
      "n=1242, consolidation?\n",
      "n=1184, cardiac silhouette?\n",
      "n=815, pulmonary vascularity?\n",
      "n=756, opacities?\n",
      "n=601, calcification?\n",
      "n=552, air space disease?\n",
      "n=457, granumola?\n",
      "n=439, support devices and foreign bodies?\n",
      "n=431, infiltrate?\n",
      "n=397, thoracic aorta?\n",
      "n=395, atelectasis?\n",
      "n=354, edema?\n",
      "n=338, nodules?\n",
      "n=305, cardiomegaly?\n",
      "n=272, surgery?\n",
      "n=266, pneumonia?\n",
      "n=249, pulmonary hila?\n",
      "n=244, diaphragm?\n",
      "n=234, scarring?\n",
      "n=226, tortuosity?\n",
      "n=220, interstitial lung disease?\n",
      "n=219, tubes and lines?\n",
      "n=204, fractures?\n",
      "n=193, ribs?\n",
      "n=187, masses?\n",
      "n=155, prominence?\n",
      "n=149, densities?\n",
      "n=145, soft tissue?\n",
      "n=122, emphysema?\n",
      "n=112, apical zone?\n",
      "n=111, trachea?\n",
      "n=103, bronchus?\n",
      "n=100, adenopathy?\n",
      "n=89, markings?\n",
      "n=83, bronchovascular crowding?\n",
      "n=74, fluid?\n",
      "n=70, air collections?\n",
      "n=68, infection?\n",
      "n=64, free air?\n",
      "n=62, lesions?\n",
      "n=56, hernias?\n",
      "n=55, vena cava?\n",
      "n=49, COPD?\n",
      "n=48, lung parenchyma?\n",
      "n=44, lucencies?\n",
      "n=44, fibrosis?\n",
      "n=42, cancer or tumor?\n",
      "n=31, airways?\n",
      "n=24, sulci?\n",
      "n=20, fissures?\n",
      "n=19, congestive heart failure CHF?\n",
      "n=18, stomach?\n",
      "n=15, lymph nodes?\n",
      "n=14, shadow?\n",
      "n=13, contrast?\n",
      "n=13, aspiration?\n",
      "n=12, trauma?\n",
      "n=12, bowel?\n",
      "n=11, bullae and blebs?\n",
      "n=10, sarcoidosis?\n",
      "n=10, pneumoperitoneum?\n",
      "n=9, loculation?\n",
      "n=9, carina?\n",
      "n=8, pneumomediastinum?\n",
      "n=8, bowel obstruction and loops?\n",
      "n=8, air-fluid level?\n",
      "n=7, colon?\n",
      "n=5, peribronchial cuffing?\n",
      "n=5, esophagus?\n",
      "n=5, bronchiectasis?\n",
      "n=4, radiation?\n",
      "n=3, skinfold?\n",
      "n=3, liver?\n",
      "n=3, gas distension?\n",
      "n=3, abscess and cavitation?\n",
      "n=2, thyroid?\n",
      "n=2, tendon?\n",
      "n=2, ossification?\n",
      "n=2, haze?\n",
      "n=2, azygos lobe?\n",
      "n=1, pneumatocele?\n",
      "n=1, kerley lines?\n",
      "n=1, cholelithiasis?\n",
      "n=1, bleeding?\n",
      "n=1, azygos vein?\n",
      "n=0, sagittal chest?\n",
      "n=0, fluid overload?\n",
      "n=0, bronchogram?\n",
      "n=0, blurring?\n",
      "n=0, ascites?\n",
      "n=0, ARDS?\n"
     ]
    }
   ],
   "source": [
    "generate_summary_file(iuxray_qa_adapted_reports, 10, 120, '../iuxray/iuxray_qa_dataset_summary_file.txt')"
   ]
  },
  {
   "cell_type": "code",
   "execution_count": 43,
   "metadata": {
    "scrolled": false
   },
   "outputs": [
    {
     "name": "stdout",
     "output_type": "stream",
     "text": [
      "n=192912, lungs?\n",
      "n=184641, pleural space?\n",
      "n=144632, pneumothorax?\n",
      "n=129627, heart?\n",
      "n=118715, mediastinum?\n",
      "n=108012, support devices and foreign bodies?\n",
      "n=99016, cardiac silhouette?\n",
      "n=86835, tubes and lines?\n",
      "n=73530, bones?\n",
      "n=71347, opacities?\n",
      "n=70728, consolidation?\n",
      "n=69741, atelectasis?\n",
      "n=65994, edema?\n",
      "n=54761, pulmonary hila?\n",
      "n=54217, pneumonia?\n",
      "n=54173, pulmonary vascularity?\n",
      "n=32181, cardiomegaly?\n",
      "n=27947, surgery?\n",
      "n=25929, diaphragm?\n",
      "n=22360, thoracic aorta?\n",
      "n=20568, vena cava?\n",
      "n=17330, stomach?\n",
      "n=16369, trachea?\n",
      "n=15835, interstitial lung disease?\n",
      "n=14581, calcification?\n",
      "n=14342, apical zone?\n",
      "n=13903, fractures?\n",
      "n=13804, infection?\n",
      "n=12029, carina?\n",
      "n=11713, lung parenchyma?\n",
      "n=11553, ribs?\n",
      "n=11388, prominence?\n",
      "n=11185, tortuosity?\n",
      "n=9608, free air?\n",
      "n=9366, fluid?\n",
      "n=8896, bronchus?\n",
      "n=8551, aspiration?\n",
      "n=7848, nodules?\n",
      "n=7839, scarring?\n",
      "n=7339, densities?\n",
      "n=5642, emphysema?\n",
      "n=5552, markings?\n",
      "n=5366, congestive heart failure CHF?\n",
      "n=4861, infiltrate?\n",
      "n=4632, esophagus?\n",
      "n=4403, masses?\n",
      "n=4385, air collections?\n",
      "n=4042, lesions?\n",
      "n=4023, soft tissue?\n",
      "n=3274, bronchovascular crowding?\n",
      "n=3089, haze?\n",
      "n=3079, hernias?\n",
      "n=3046, fluid overload?\n",
      "n=3028, gas distension?\n",
      "n=3020, cancer or tumor?\n",
      "n=2818, loculation?\n",
      "n=2724, adenopathy?\n",
      "n=2414, COPD?\n",
      "n=2245, granumola?\n",
      "n=2232, fissures?\n",
      "n=2005, lucencies?\n",
      "n=1841, fibrosis?\n",
      "n=1747, bleeding?\n",
      "n=1721, pneumomediastinum?\n",
      "n=1299, bowel?\n",
      "n=1228, lymph nodes?\n",
      "n=1217, shadow?\n",
      "n=1085, thyroid?\n",
      "n=1061, bronchogram?\n",
      "n=1020, peribronchial cuffing?\n",
      "n=980, trauma?\n",
      "n=954, pneumoperitoneum?\n",
      "n=941, airways?\n",
      "n=904, bronchiectasis?\n",
      "n=903, bowel obstruction and loops?\n",
      "n=900, sulci?\n",
      "n=784, radiation?\n",
      "n=742, air-fluid level?\n",
      "n=699, contrast?\n",
      "n=637, azygos vein?\n",
      "n=559, colon?\n",
      "n=515, abscess and cavitation?\n",
      "n=514, air space disease?\n",
      "n=498, ARDS?\n",
      "n=480, bullae and blebs?\n",
      "n=391, skinfold?\n",
      "n=355, sarcoidosis?\n",
      "n=277, liver?\n",
      "n=277, blurring?\n",
      "n=254, kerley lines?\n",
      "n=162, azygos lobe?\n",
      "n=113, ascites?\n",
      "n=76, ossification?\n",
      "n=60, pneumatocele?\n",
      "n=44, tendon?\n",
      "n=17, cholelithiasis?\n",
      "n=9, sagittal chest?\n"
     ]
    }
   ],
   "source": [
    "generate_summary_file(mimiccxr_qa_adapted_reports, 10, 120, '../mimiccxr/mimiccxr_qa_dataset_summary_file.txt')"
   ]
  }
 ],
 "metadata": {
  "celltoolbar": "Raw Cell Format",
  "kernelspec": {
   "display_name": "Python 3",
   "language": "python",
   "name": "python3"
  },
  "language_info": {
   "codemirror_mode": {
    "name": "ipython",
    "version": 3
   },
   "file_extension": ".py",
   "mimetype": "text/x-python",
   "name": "python",
   "nbconvert_exporter": "python",
   "pygments_lexer": "ipython3",
   "version": "3.6.9"
  }
 },
 "nbformat": 4,
 "nbformat_minor": 4
}
