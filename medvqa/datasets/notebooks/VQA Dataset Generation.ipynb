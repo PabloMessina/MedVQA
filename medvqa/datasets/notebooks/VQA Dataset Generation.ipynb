{
 "cells": [
  {
   "cell_type": "code",
   "execution_count": 1,
   "metadata": {},
   "outputs": [
    {
     "name": "stdout",
     "output_type": "stream",
     "text": [
      "Loading file /mnt/workspace/iu-x-ray/dataset/reports/reports.min.json ...\r\n",
      "Extracing and merging findings and impressions ...\r\n",
      "Saving to /home/pamessina/medvqa-workspace/cache/iuxray/findings+impression.txt ...\r\n",
      "done!\r\n"
     ]
    }
   ],
   "source": [
    "!python ../../scripts/iuxray/extract_findings_and_impressions.py"
   ]
  },
  {
   "cell_type": "code",
   "execution_count": 2,
   "metadata": {},
   "outputs": [
    {
     "name": "stdout",
     "output_type": "stream",
     "text": [
      "Loading MIMIC-CXR's report file paths ...\n",
      "227835it [02:53, 1309.62it/s] \n",
      "Saving findings + impressions to /home/pamessina/medvqa-workspace/cache/mimiccxr/findings+impression.txt ...\n",
      "100%|██████████████████████████████████| 227835/227835 [07:25<00:00, 510.92it/s]\n",
      "Num failed paths = 77\n",
      "Done!\n"
     ]
    }
   ],
   "source": [
    "!python ../../scripts/mimiccxr/extract_findings_and_impressions.py"
   ]
  },
  {
   "cell_type": "code",
   "execution_count": 3,
   "metadata": {},
   "outputs": [],
   "source": [
    "from importlib import reload"
   ]
  },
  {
   "cell_type": "code",
   "execution_count": 11,
   "metadata": {},
   "outputs": [],
   "source": [
    "from medvqa.utils.files import read_lines_from_txt\n",
    "from medvqa.utils.common import CACHE_DIR\n",
    "from medvqa.datasets.qa_pairs_extractor import QuestionAnswerExtractor\n",
    "import medvqa\n",
    "import re\n",
    "import os\n",
    "import random\n",
    "import math\n",
    "from tqdm import tqdm"
   ]
  },
  {
   "cell_type": "code",
   "execution_count": 5,
   "metadata": {},
   "outputs": [
    {
     "data": {
      "text/plain": [
       "<module 'medvqa.datasets.qa_pairs_extractor' from '/home/pamessina/medvqa/medvqa/datasets/qa_pairs_extractor.py'>"
      ]
     },
     "execution_count": 5,
     "metadata": {},
     "output_type": "execute_result"
    }
   ],
   "source": [
    "reload(medvqa.datasets.qa_pairs_extractor)"
   ]
  },
  {
   "cell_type": "code",
   "execution_count": 6,
   "metadata": {},
   "outputs": [],
   "source": [
    "iuxray_raw_reports = read_lines_from_txt(os.path.join(CACHE_DIR, 'iuxray', 'findings+impression.txt'))"
   ]
  },
  {
   "cell_type": "code",
   "execution_count": 7,
   "metadata": {},
   "outputs": [],
   "source": [
    "mimiccxr_raw_reports = read_lines_from_txt(os.path.join(CACHE_DIR, 'mimiccxr', 'findings+impression.txt'))"
   ]
  },
  {
   "cell_type": "code",
   "execution_count": 8,
   "metadata": {},
   "outputs": [
    {
     "data": {
      "text/plain": [
       "(3927, 227758)"
      ]
     },
     "execution_count": 8,
     "metadata": {},
     "output_type": "execute_result"
    }
   ],
   "source": [
    "len(iuxray_raw_reports), len(mimiccxr_raw_reports)"
   ]
  },
  {
   "cell_type": "code",
   "execution_count": 9,
   "metadata": {},
   "outputs": [],
   "source": [
    "def print_qa_pairs(qa_pairs):\n",
    "    for k, v in qa_pairs.items():\n",
    "        print('------------')\n",
    "        print('Q:', k)\n",
    "        for s in v:\n",
    "            print('A:',s)"
   ]
  },
  {
   "cell_type": "code",
   "execution_count": 10,
   "metadata": {},
   "outputs": [],
   "source": [
    "qa_extractor = QuestionAnswerExtractor()"
   ]
  },
  {
   "cell_type": "code",
   "execution_count": 11,
   "metadata": {},
   "outputs": [
    {
     "data": {
      "text/plain": [
       "re.compile(r'(\\bwhen\\b|\\band\\b|\\bbut\\b|\\bhowever\\b|\\balthough\\b|\\bshould\\b|\\bsince\\b|\\bunless\\b|\\bnevertheless\\b|[,;.:])+(\\s+(\\bwhen\\b|\\band\\b|\\bbut\\b|\\bhowever\\b|\\balthough\\b|\\bshould\\b|\\bsince\\b|\\bunless\\b|\\bnevertheless\\b|[,;.:])+)*',\n",
       "re.IGNORECASE|re.UNICODE)"
      ]
     },
     "execution_count": 11,
     "metadata": {},
     "output_type": "execute_result"
    }
   ],
   "source": [
    "connectors = ['when', 'and', 'but', 'however', 'although', 'should', 'since', 'unless', 'nevertheless']\n",
    "exp = '('+'|'.join(f'\\\\b{x}\\\\b' for x in connectors)+'|[,;.:])'\n",
    "full_exp = f'{exp}+(\\\\s+{exp}+)*'\n",
    "sep_regex = re.compile(full_exp, re.IGNORECASE)\n",
    "sep_regex"
   ]
  },
  {
   "cell_type": "code",
   "execution_count": 12,
   "metadata": {},
   "outputs": [],
   "source": [
    "def clean_sentence(self, sentence):\n",
    "    last_sep = None\n",
    "    i = 0\n",
    "    n = len(sentence)\n",
    "    sentence = self._apply_replacements(sentence)\n",
    "    clean_sentence = ''\n",
    "    prepend_to_next_chunk = None\n",
    "    for match in sep_regex.finditer(sentence):\n",
    "        span = match.span()\n",
    "        if i < span[0]:\n",
    "            chunk = sentence[i:span[0]].strip()\n",
    "            if prepend_to_next_chunk:\n",
    "                if len(clean_sentence) > 0:\n",
    "                    chunk = prepend_to_next_chunk + chunk\n",
    "                prepend_to_next_chunk = None\n",
    "            if self._is_relevant(chunk):\n",
    "                if len(clean_sentence) > 0:\n",
    "                    if last_sep:\n",
    "                        clean_sentence += ' ' + last_sep\n",
    "                    clean_sentence += ' '                    \n",
    "                clean_sentence += chunk\n",
    "            print('chunk =', chunk)\n",
    "        i = span[1]\n",
    "        last_sep = sentence[span[0]:span[1]]\n",
    "        print('last_sep =', last_sep)\n",
    "        if last_sep not in ('and', 'but', ':'):\n",
    "            if last_sep == ', however,':\n",
    "                last_sep = None\n",
    "            else:\n",
    "                done = False\n",
    "                for x in ('should', 'since', 'unless', 'when'):\n",
    "                    if x in last_sep:\n",
    "                        prepend_to_next_chunk = last_sep + ' '\n",
    "                        last_sep = None\n",
    "                        done = True\n",
    "                        break\n",
    "                if not done:\n",
    "                    last_sep = ','\n",
    "    if i < n:\n",
    "        chunk = sentence[i:].strip()\n",
    "        if prepend_to_next_chunk:\n",
    "            chunk = prepend_to_next_chunk + chunk\n",
    "        if self._is_relevant(chunk):\n",
    "            if len(clean_sentence) > 0:\n",
    "                if last_sep:\n",
    "                    clean_sentence += ' ' + last_sep\n",
    "                clean_sentence += ' '\n",
    "            clean_sentence += chunk\n",
    "        print('chunk =', chunk)\n",
    "    return clean_sentence"
   ]
  },
  {
   "cell_type": "code",
   "execution_count": 13,
   "metadata": {},
   "outputs": [
    {
     "name": "stdout",
     "output_type": "stream",
     "text": [
      "<_sre.SRE_Match object; span=(3, 6), match='and'>\n",
      "<_sre.SRE_Match object; span=(95, 96), match=','>\n",
      "<_sre.SRE_Match object; span=(122, 123), match='.'>\n",
      "<_sre.SRE_Match object; span=(167, 168), match='.'>\n",
      "<_sre.SRE_Match object; span=(196, 197), match='.'>\n",
      "<_sre.SRE_Match object; span=(240, 241), match='.'>\n",
      "chunk = pa\n",
      "last_sep = and\n",
      "chunk = lateral views of the chest provided demonstrate clear lungs without focal consolidation\n",
      "last_sep = ,\n",
      "chunk = effusion or pneumothorax\n",
      "last_sep = .\n",
      "chunk = the cardiomediastinal silhouette is normal\n",
      "last_sep = .\n",
      "chunk = bony structures are intact\n",
      "last_sep = .\n",
      "chunk = no free air below the right hemidiaphragm\n",
      "last_sep = .\n",
      "$$$$lateral views of the chest provided demonstrate clear lungs without focal consolidation , effusion or pneumothorax , the cardiomediastinal silhouette is normal , bony structures are intact , no free air below the right hemidiaphragm$$$$\n",
      "$$$$lateral views of the chest provided demonstrate clear lungs without focal consolidation , effusion or pneumothorax , the cardiomediastinal silhouette is normal , bony structures are intact , no free air below the right hemidiaphragm$$$$\n"
     ]
    }
   ],
   "source": [
    "# _s = 'AP chest compared to through : Pulmonary vascular congestion and mediastinal venous engorgement have progressed since .'\n",
    "_s = 'pa and lateral views of the chest provided demonstrate clear lungs without focal consolidation , effusion or pneumothorax . the cardiomediastinal silhouette is normal . bony structures are intact . no free air below the right hemidiaphragm .'\n",
    "for x in sep_regex.finditer(_s):\n",
    "    print(str(x))\n",
    "print(\"$$$$\"+clean_sentence(qa_extractor, _s)+\"$$$$\")\n",
    "print(\"$$$$\"+qa_extractor.clean_sentence(_s)+\"$$$$\")"
   ]
  },
  {
   "cell_type": "code",
   "execution_count": 14,
   "metadata": {},
   "outputs": [],
   "source": [
    "from nltk.tokenize import sent_tokenize"
   ]
  },
  {
   "cell_type": "code",
   "execution_count": 15,
   "metadata": {},
   "outputs": [
    {
     "data": {
      "text/plain": [
       "['Mild-to-moderate pulmonary edema is new.',\n",
       " 'Right lower lobe opacity has improved consistent with improving atelectasis.',\n",
       " 'Small bilateral pleural effusions are unchanged.',\n",
       " 'Opacity in the left apex and irregularity of the left upper ribs corresponds to mass seen in prior CTA.',\n",
       " 'Cardiomegaly is stable.',\n",
       " 'Increasing opacity in the left lower lobe is consistent with increasing atelectasis and pleural effusion.',\n",
       " 'Spinal hardware is again noted.']"
      ]
     },
     "execution_count": 15,
     "metadata": {},
     "output_type": "execute_result"
    }
   ],
   "source": [
    "sent_tokenize('Mild-to-moderate pulmonary edema is new. Right lower lobe opacity has improved consistent with improving atelectasis. Small bilateral pleural effusions are unchanged. Opacity in the left apex and irregularity of the left upper ribs corresponds to mass seen in prior CTA. Cardiomegaly is stable. Increasing opacity in the left lower lobe is consistent with increasing atelectasis and pleural effusion. Spinal hardware is again noted.')"
   ]
  },
  {
   "cell_type": "code",
   "execution_count": 16,
   "metadata": {},
   "outputs": [
    {
     "name": "stdout",
     "output_type": "stream",
     "text": [
      "------------\n",
      "Q: pleural space?\n",
      "A: Previous moderate left pleural effusion\n",
      "A: Moderate enlarged of the cardiac silhouette is clear due to cardiomegaly and /or pericardial effusion and there is new mild interstitial edema in the right lower lung\n",
      "------------\n",
      "Q: pneumothorax?\n",
      "A: There is no pneumothorax\n",
      "------------\n",
      "Q: lungs?\n",
      "A: Moderate enlarged of the cardiac silhouette is clear due to cardiomegaly and /or pericardial effusion and there is new mild interstitial edema in the right lower lung\n",
      "------------\n",
      "Q: heart?\n",
      "A: Moderate enlarged of the cardiac silhouette is clear due to cardiomegaly and /or pericardial effusion and there is new mild interstitial edema in the right lower lung\n",
      "A: Hemodialysis catheter ends in the right atrium as before\n",
      "------------\n",
      "Q: cardiomegaly?\n",
      "A: Moderate enlarged of the cardiac silhouette is clear due to cardiomegaly and /or pericardial effusion and there is new mild interstitial edema in the right lower lung\n",
      "------------\n",
      "Q: cardiac silhouette?\n",
      "A: Moderate enlarged of the cardiac silhouette is clear due to cardiomegaly and /or pericardial effusion and there is new mild interstitial edema in the right lower lung\n",
      "------------\n",
      "Q: edema?\n",
      "A: Moderate enlarged of the cardiac silhouette is clear due to cardiomegaly and /or pericardial effusion and there is new mild interstitial edema in the right lower lung\n",
      "------------\n",
      "Q: interstitial lung disease?\n",
      "A: Moderate enlarged of the cardiac silhouette is clear due to cardiomegaly and /or pericardial effusion and there is new mild interstitial edema in the right lower lung\n",
      "------------\n",
      "Q: tubes and lines?\n",
      "A: Hemodialysis catheter ends in the right atrium as before\n",
      "------------\n",
      "Q: support devices and foreign bodies?\n",
      "A: Hemodialysis catheter ends in the right atrium as before\n"
     ]
    }
   ],
   "source": [
    "tmp = qa_extractor.generate_qa_pairs('Previous moderate left pleural effusion and left lower lobe collapse have improved has the patient had thoracentesis?  There is no pneumothorax. Moderate enlarged of the cardiac silhouette is clear due to cardiomegaly and/or pericardial effusion and there is new mild interstitial edema in the right lower lung. Hemodialysis catheter ends in the right atrium as before.', debug=True)\n",
    "print_qa_pairs(tmp)"
   ]
  },
  {
   "cell_type": "code",
   "execution_count": 18,
   "metadata": {},
   "outputs": [
    {
     "name": "stdout",
     "output_type": "stream",
     "text": [
      "The lungs are well expanded and appear clear. There is no focal consolidation, pleural effusion, or pneumothorax. The cardiomediastinal silhouette and hilar contours are unchanged. No acute cardiopulmonary process.\n",
      "=============================\n",
      "------------\n",
      "Q: lungs?\n",
      "A: The lungs are well expanded and appear clear\n",
      "A: No acute cardiopulmonary process\n",
      "------------\n",
      "Q: pleural space?\n",
      "A: There is no focal consolidation , pleural effusion , or pneumothorax\n",
      "------------\n",
      "Q: pneumothorax?\n",
      "A: There is no focal consolidation , pleural effusion , or pneumothorax\n",
      "------------\n",
      "Q: consolidation?\n",
      "A: There is no focal consolidation , pleural effusion , or pneumothorax\n",
      "------------\n",
      "Q: pulmonary hila?\n",
      "A: The cardiomediastinal silhouette and hilar contours are unchanged\n",
      "------------\n",
      "Q: cardiac silhouette?\n",
      "A: The cardiomediastinal silhouette and hilar contours are unchanged\n",
      "------------\n",
      "Q: mediastinum?\n",
      "A: The cardiomediastinal silhouette and hilar contours are unchanged\n",
      "------------\n",
      "Q: heart?\n",
      "A: No acute cardiopulmonary process\n"
     ]
    }
   ],
   "source": [
    "report = random.choice(mimiccxr_raw_reports)\n",
    "print(report)\n",
    "print('=============================')\n",
    "tmp = qa_extractor.generate_qa_pairs(report, debug=True)\n",
    "print_qa_pairs(tmp)"
   ]
  },
  {
   "cell_type": "code",
   "execution_count": 19,
   "metadata": {},
   "outputs": [
    {
     "data": {
      "text/plain": [
       "{'sentences': ['The lungs are well expanded and appear clear',\n",
       "  'There is no focal consolidation , pleural effusion , or pneumothorax',\n",
       "  'The cardiomediastinal silhouette and hilar contours are unchanged',\n",
       "  'No acute cardiopulmonary process'],\n",
       " 'invalid': [],\n",
       " 'unmatched': [],\n",
       " 'matched': [0, 1, 2, 3],\n",
       " 'qa': {'59': [0, 3],\n",
       "  '68': [1],\n",
       "  '73': [1],\n",
       "  '32': [1],\n",
       "  '75': [2],\n",
       "  '26': [2],\n",
       "  '63': [2],\n",
       "  '48': [3]},\n",
       " 'question_ids': [59, 68, 73, 32, 75, 26, 63, 48]}"
      ]
     },
     "execution_count": 19,
     "metadata": {},
     "output_type": "execute_result"
    }
   ],
   "source": [
    "tmp = qa_extractor.generate_qa_pairs_compact_version(report)\n",
    "tmp"
   ]
  },
  {
   "cell_type": "code",
   "execution_count": 21,
   "metadata": {},
   "outputs": [
    {
     "name": "stdout",
     "output_type": "stream",
     "text": [
      "$$$$The tip of the endotracheal tube projects approximately NUMBER cm above the carina and is normal$$$$\n"
     ]
    }
   ],
   "source": [
    "_s = 'The tip of the endotracheal tube projects approximately 3.5 cm above the carina and is within normal limits.'\n",
    "print(\"$$$$\"+qa_extractor.clean_sentence(_s)+\"$$$$\")"
   ]
  },
  {
   "cell_type": "code",
   "execution_count": 22,
   "metadata": {},
   "outputs": [
    {
     "data": {
      "text/plain": [
       "(97,\n",
       " ['ARDS?',\n",
       "  'COPD?',\n",
       "  'abscess and cavitation?',\n",
       "  'adenopathy?',\n",
       "  'air collections?',\n",
       "  'air space disease?',\n",
       "  'air-fluid level?',\n",
       "  'airways?',\n",
       "  'apical zone?',\n",
       "  'ascites?',\n",
       "  'aspiration?',\n",
       "  'atelectasis?',\n",
       "  'azygos lobe?',\n",
       "  'azygos vein?',\n",
       "  'bleeding?',\n",
       "  'blurring?',\n",
       "  'bones?',\n",
       "  'bowel obstruction and loops?',\n",
       "  'bowel?',\n",
       "  'bronchiectasis?',\n",
       "  'bronchogram?',\n",
       "  'bronchovascular crowding?',\n",
       "  'bronchus?',\n",
       "  'bullae and blebs?',\n",
       "  'calcification?',\n",
       "  'cancer or tumor?',\n",
       "  'cardiac silhouette?',\n",
       "  'cardiomegaly?',\n",
       "  'carina?',\n",
       "  'cholelithiasis?',\n",
       "  'colon?',\n",
       "  'congestive heart failure CHF?',\n",
       "  'consolidation?',\n",
       "  'contrast?',\n",
       "  'densities?',\n",
       "  'diaphragm?',\n",
       "  'edema?',\n",
       "  'emphysema?',\n",
       "  'esophagus?',\n",
       "  'fibrosis?',\n",
       "  'fissures?',\n",
       "  'fluid overload?',\n",
       "  'fluid?',\n",
       "  'fractures?',\n",
       "  'free air?',\n",
       "  'gas distension?',\n",
       "  'granumola?',\n",
       "  'haze?',\n",
       "  'heart?',\n",
       "  'hernias?',\n",
       "  'infection?',\n",
       "  'infiltrate?',\n",
       "  'interstitial lung disease?',\n",
       "  'kerley lines?',\n",
       "  'lesions?',\n",
       "  'liver?',\n",
       "  'loculation?',\n",
       "  'lucencies?',\n",
       "  'lung parenchyma?',\n",
       "  'lungs?',\n",
       "  'lymph nodes?',\n",
       "  'markings?',\n",
       "  'masses?',\n",
       "  'mediastinum?',\n",
       "  'nodules?',\n",
       "  'opacities?',\n",
       "  'ossification?',\n",
       "  'peribronchial cuffing?',\n",
       "  'pleural space?',\n",
       "  'pneumatocele?',\n",
       "  'pneumomediastinum?',\n",
       "  'pneumonia?',\n",
       "  'pneumoperitoneum?',\n",
       "  'pneumothorax?',\n",
       "  'prominence?',\n",
       "  'pulmonary hila?',\n",
       "  'pulmonary vascularity?',\n",
       "  'radiation?',\n",
       "  'ribs?',\n",
       "  'sagittal chest?',\n",
       "  'sarcoidosis?',\n",
       "  'scarring?',\n",
       "  'shadow?',\n",
       "  'skinfold?',\n",
       "  'soft tissue?',\n",
       "  'stomach?',\n",
       "  'sulci?',\n",
       "  'support devices and foreign bodies?',\n",
       "  'surgery?',\n",
       "  'tendon?',\n",
       "  'thoracic aorta?',\n",
       "  'thyroid?',\n",
       "  'tortuosity?',\n",
       "  'trachea?',\n",
       "  'trauma?',\n",
       "  'tubes and lines?',\n",
       "  'vena cava?'])"
      ]
     },
     "execution_count": 22,
     "metadata": {},
     "output_type": "execute_result"
    }
   ],
   "source": [
    "len(qa_extractor.questions), qa_extractor.questions"
   ]
  },
  {
   "cell_type": "code",
   "execution_count": 23,
   "metadata": {},
   "outputs": [
    {
     "data": {
      "text/plain": [
       "(2, 215937)"
      ]
     },
     "execution_count": 23,
     "metadata": {},
     "output_type": "execute_result"
    }
   ],
   "source": [
    "tmp = qa_extractor.search_by_unmatched(0, mimiccxr_raw_reports, 100)\n",
    "x = tmp[1]\n",
    "tmp"
   ]
  },
  {
   "cell_type": "code",
   "execution_count": 24,
   "metadata": {},
   "outputs": [
    {
     "data": {
      "text/plain": [
       "{'sentences': ['lateral views of the chest provided',\n",
       "  'Patient is slightly rotated to his left',\n",
       "  'Bilateral lower lobe airspace consolidation is concerning for pneumonia',\n",
       "  'No large effusion or pneumothorax',\n",
       "  'Cardiac silhouette appears mildly enlarged',\n",
       "  'Mediastinal contour is normal',\n",
       "  'Imaged osseous structures are intact',\n",
       "  'No free air below the right hemidiaphragm is seen',\n",
       "  'Bilateral lower lobe pneumonia'],\n",
       " 'invalid': [],\n",
       " 'unmatched': [0, 1],\n",
       " 'matched': [2, 3, 4, 5, 6, 7, 8],\n",
       " 'qa': {'59': [2, 8],\n",
       "  '32': [2],\n",
       "  '71': [2, 8],\n",
       "  '68': [3],\n",
       "  '73': [3],\n",
       "  '26': [4],\n",
       "  '63': [5],\n",
       "  '16': [6],\n",
       "  '35': [7],\n",
       "  '44': [7]},\n",
       " 'question_ids': [59, 32, 71, 68, 73, 26, 63, 16, 35, 44]}"
      ]
     },
     "execution_count": 24,
     "metadata": {},
     "output_type": "execute_result"
    }
   ],
   "source": [
    "qa_extractor.generate_qa_pairs_compact_version(mimiccxr_raw_reports[x])"
   ]
  },
  {
   "cell_type": "code",
   "execution_count": 25,
   "metadata": {
    "scrolled": false
   },
   "outputs": [
    {
     "name": "stdout",
     "output_type": "stream",
     "text": [
      "PA and lateral views of the chest provided. Patient is slightly rotated to his left. Bilateral lower lobe airspace consolidation is concerning for pneumonia. No large effusion or pneumothorax. Cardiac silhouette appears mildly enlarged. Mediastinal contour is normal. Imaged osseous structures are intact. No free air below the right hemidiaphragm is seen. Bilateral lower lobe pneumonia.\n",
      "======================\n",
      "** not captured: lateral views of the chest provided\n",
      "** not captured: Patient is slightly rotated to his left\n",
      "------------\n",
      "Q: lungs?\n",
      "A: Bilateral lower lobe airspace consolidation is concerning for pneumonia\n",
      "A: Bilateral lower lobe pneumonia\n",
      "------------\n",
      "Q: consolidation?\n",
      "A: Bilateral lower lobe airspace consolidation is concerning for pneumonia\n",
      "------------\n",
      "Q: pneumonia?\n",
      "A: Bilateral lower lobe airspace consolidation is concerning for pneumonia\n",
      "A: Bilateral lower lobe pneumonia\n",
      "------------\n",
      "Q: pleural space?\n",
      "A: No large effusion or pneumothorax\n",
      "------------\n",
      "Q: pneumothorax?\n",
      "A: No large effusion or pneumothorax\n",
      "------------\n",
      "Q: cardiac silhouette?\n",
      "A: Cardiac silhouette appears mildly enlarged\n",
      "------------\n",
      "Q: mediastinum?\n",
      "A: Mediastinal contour is normal\n",
      "------------\n",
      "Q: bones?\n",
      "A: Imaged osseous structures are intact\n",
      "------------\n",
      "Q: diaphragm?\n",
      "A: No free air below the right hemidiaphragm is seen\n",
      "------------\n",
      "Q: free air?\n",
      "A: No free air below the right hemidiaphragm is seen\n"
     ]
    }
   ],
   "source": [
    "# _report = \"\"\n",
    "# print(_report)\n",
    "# _qa_pairs = qa_generator.generate_question_answer_pairs(_report)\n",
    "print(mimiccxr_raw_reports[x])\n",
    "print(\"======================\")\n",
    "_qa_pairs = qa_extractor.generate_qa_pairs(mimiccxr_raw_reports[x], debug=True)\n",
    "# _qa_pairs = qa_generator.remove_almost_duplicate_sentences(_qa_pairs)\n",
    "print_qa_pairs(_qa_pairs)"
   ]
  },
  {
   "cell_type": "code",
   "execution_count": 26,
   "metadata": {},
   "outputs": [],
   "source": [
    "def get_informative_unmatched_sentences(corpus, qa_extractor, n_samples = 2000):\n",
    "    \n",
    "    indices = range(len(corpus))\n",
    "    if len(corpus) > n_samples:\n",
    "        indices = random.sample(indices, n_samples)\n",
    "        \n",
    "    unmatched_sentences = set()\n",
    "    word2freq = dict()\n",
    "    \n",
    "    for i in tqdm(indices):\n",
    "        for s in qa_extractor.get_unmatched_sentences(corpus[i]):\n",
    "            unmatched_sentences.add(s)\n",
    "            for w in re.split(r\",?\\s+\", s):\n",
    "                word2freq[w] = word2freq.get(w, 0) + 1\n",
    "    \n",
    "    max_freq = max(word2freq.values())    \n",
    "    unmatched_sentences = list(unmatched_sentences)\n",
    "    \n",
    "    def score(s):\n",
    "        score_max = 0\n",
    "        score_sum = 0\n",
    "        cnt = 0\n",
    "        for w in re.split(r\",?\\s+\", s):\n",
    "            if w not in qa_extractor.stopwords:\n",
    "                tmp = max_freq - word2freq.get(w, 0)\n",
    "                score_max = max(tmp, score_max)\n",
    "                score_sum += tmp\n",
    "                cnt += 1\n",
    "        return score_max * 0.4 + (score_sum / math.sqrt(max(cnt,1))) * 0.6\n",
    "    \n",
    "    unmatched_sentences.sort(key=score, reverse=True)\n",
    "    return unmatched_sentences"
   ]
  },
  {
   "cell_type": "code",
   "execution_count": 27,
   "metadata": {},
   "outputs": [
    {
     "name": "stderr",
     "output_type": "stream",
     "text": [
      "100%|██████████| 1000/1000 [00:03<00:00, 269.39it/s]\n"
     ]
    }
   ],
   "source": [
    "unmatched_sentences = get_informative_unmatched_sentences(mimiccxr_raw_reports, qa_extractor, n_samples=1000)"
   ]
  },
  {
   "cell_type": "code",
   "execution_count": 28,
   "metadata": {},
   "outputs": [
    {
     "data": {
      "text/plain": [
       "274"
      ]
     },
     "execution_count": 28,
     "metadata": {},
     "output_type": "execute_result"
    }
   ],
   "source": [
    "len(unmatched_sentences)"
   ]
  },
  {
   "cell_type": "code",
   "execution_count": 29,
   "metadata": {},
   "outputs": [],
   "source": [
    "qa_extractor.reload()"
   ]
  },
  {
   "cell_type": "code",
   "execution_count": 30,
   "metadata": {},
   "outputs": [
    {
     "name": "stdout",
     "output_type": "stream",
     "text": [
      "** not captured: An explanation could be that the patient during the latest examination interval was mostly located on the right side explaining gravitational forces\n",
      "** not captured: Oblique views may be obtained for confirmation now , otherwise we suggest a repeat study in 24 hours if patient does not declare clinically\n",
      "** not captured: The patient has known cardiac chamber enlargement as well as a patent foramen ovale as reported on recent echo\n",
      "** not captured: No definite acute intrathoracic process , this single AP radiograph is slightly limited due to body habitus\n",
      "** not captured: The current position represents malposition , given potential damage to the vocal cords\n",
      "** not captured: Further evaluation with echocardiogram may be warranted in the right clinical setting if this is not been previously evaluated\n",
      "** not captured: the frontal view is not marked , the accompanying lateral view was obtained with the patient sitting or standing nearly erect\n",
      "** not captured: The patient's overlying arm on the lateral view partially obscures the view and makes evaluation of the lateral view suboptimal\n",
      "** not captured: The radiograph is labeled as upright , patient position appears supine or semi upright\n",
      "** not captured: Recommend withdrawal of approximately 17 cm or consider repositioning under fluoroscopic guidance\n",
      "** not captured: MINIMAL DILATATION OF THE SPLENIC FLEXURE CANNOT BE EXCLUDED\n",
      "** not captured: if none available , further evaluation with a non urgent CT could be performed\n",
      "** not captured: if this cannot be confirmed , a repeat radiograph is recommended to ensure it is no longer present\n",
      "** not captured: SINGLE AP PORTABLE VIEW , No previous chest x-rays on PACS record for comparison\n",
      "** not captured: The quality of the image is limited due to patient's body habitus\n",
      "** not captured: Follow-up radiographs to show resolution are recommended in approximately eight weeks\n",
      "** not captured: accounting for differences in the degree of obliquity , there is little overall change\n",
      "** not captured: A lateral view or CT would be necessary to unequivocally make this diagnosis\n",
      "** not captured: FINAL REPORT SINGLE FRONTAL VIEW OF THE CHEST\n",
      "** not captured: lateral upright chest radiographs were reviewed in comparison to several prior studies dating back to\n",
      "** not captured: It can be safely advanced 2 cm for more secured seating\n",
      "** not captured: I would recommend conventional chest radiographs supplemented by shallow oblique views\n",
      "** not captured: Upright conventional chest radiographs would be very helpful in distinguishing among these possibilities\n",
      "** not captured: no substantial change demonstrated as compared to the prior study obtained day before\n",
      "** not captured: Followup radiographs after treatment are recommended to ensure resolution of this finding\n",
      "** not captured: Single frontal chest radiograph was obtained portably with the patient in a semi upright position\n",
      "** not captured: FINAL REPORT PORTABLE AP SEMI-ERECT CHEST FILM\n",
      "** not captured: particularly a lateral view would be helpful to evaluate the retrocardiac area\n",
      "** not captured: No acute abnormalities identified to explain patient's left-sided chest pain\n",
      "** not captured: no significant interval change in comparison with yesterday's examination can be identified\n",
      "** not captured: Single AP supine portable chest view was read in comparison with prior chest radiograph from\n",
      "** not captured: Study is read in conjunction with the CT torso on the same day\n",
      "** not captured: It was normal size on , probably larger now\n",
      "** not captured: There exists no prior chest examination or records available for comparison\n",
      "** not captured: Please note that this radiograph does not include the upper thorax\n",
      "** not captured: The patient has taken a somewhat better inspiration\n",
      "** not captured: The visualized portion of the upper abdomen is unremarkable\n",
      "** not captured: Otherwise there are no interval changes compared to prior study\n",
      "** not captured: particularly a lateral view would be very helpful in serial assessments\n",
      "** not captured: FINAL ADDENDUM ADDENDUM No specific addendum\n"
     ]
    }
   ],
   "source": [
    "print_qa_pairs(qa_extractor.generate_qa_pairs('. '.join(unmatched_sentences[0:40]), debug=True))"
   ]
  },
  {
   "cell_type": "code",
   "execution_count": 31,
   "metadata": {
    "scrolled": true
   },
   "outputs": [
    {
     "name": "stdout",
     "output_type": "stream",
     "text": [
      "Loading original reports from /mnt/workspace/iu-x-ray/dataset/reports/reports.min.json\n",
      "Processing each report ...\n",
      "100%|██████████████████████████████████████| 3955/3955 [00:26<00:00, 147.71it/s]\n",
      "Saving qa adapted reports to /home/pamessina/medvqa-workspace/cache/iuxray/qa_adapted_reports__20220904_091601.json\n",
      "Done!\n"
     ]
    }
   ],
   "source": [
    "!python ../../scripts/iuxray/generate_qa_pairs_from_reports.py"
   ]
  },
  {
   "cell_type": "code",
   "execution_count": 37,
   "metadata": {
    "scrolled": false
   },
   "outputs": [
    {
     "name": "stdout",
     "output_type": "stream",
     "text": [
      "Processing MIMIC-CXR's original reports ...\n",
      "163634it [26:52, 105.42it/s]"
     ]
    },
    {
     "name": "stderr",
     "output_type": "stream",
     "text": [
      "IOPub message rate exceeded.\n",
      "The notebook server will temporarily stop sending output\n",
      "to the client in order to avoid crashing it.\n",
      "To change this limit, set the config variable\n",
      "`--NotebookApp.iopub_msg_rate_limit`.\n",
      "\n",
      "Current values:\n",
      "NotebookApp.iopub_msg_rate_limit=1000.0 (msgs/sec)\n",
      "NotebookApp.rate_limit_window=3.0 (secs)\n",
      "\n"
     ]
    }
   ],
   "source": [
    "!python ../../scripts/mimiccxr/generate_qa_pairs_from_reports.py"
   ]
  },
  {
   "cell_type": "markdown",
   "metadata": {},
   "source": [
    "## Generate summary file"
   ]
  },
  {
   "cell_type": "code",
   "execution_count": 1,
   "metadata": {},
   "outputs": [],
   "source": [
    "from medvqa.utils.files import load_json_file"
   ]
  },
  {
   "cell_type": "code",
   "execution_count": 3,
   "metadata": {},
   "outputs": [],
   "source": [
    "iuxray_qa_adapted_reports = load_json_file('/mnt/data/pamessina/workspaces/medvqa-workspace/cache/iuxray/qa_adapted_reports__20220904_091601.json')"
   ]
  },
  {
   "cell_type": "code",
   "execution_count": 4,
   "metadata": {},
   "outputs": [],
   "source": [
    "mimiccxr_qa_adapted_reports = load_json_file('/mnt/data/pamessina/workspaces/medvqa-workspace/cache/mimiccxr/qa_adapted_reports__20220904_095810.json')"
   ]
  },
  {
   "cell_type": "code",
   "execution_count": 5,
   "metadata": {},
   "outputs": [
    {
     "data": {
      "text/plain": [
       "(97, 3927)"
      ]
     },
     "execution_count": 5,
     "metadata": {},
     "output_type": "execute_result"
    }
   ],
   "source": [
    "len(iuxray_qa_adapted_reports['questions']), len(iuxray_qa_adapted_reports['reports'])"
   ]
  },
  {
   "cell_type": "code",
   "execution_count": 6,
   "metadata": {},
   "outputs": [
    {
     "data": {
      "text/plain": [
       "(97, 227835)"
      ]
     },
     "execution_count": 6,
     "metadata": {},
     "output_type": "execute_result"
    }
   ],
   "source": [
    "len(mimiccxr_qa_adapted_reports['questions']), len(mimiccxr_qa_adapted_reports['reports'])"
   ]
  },
  {
   "cell_type": "code",
   "execution_count": 7,
   "metadata": {},
   "outputs": [
    {
     "data": {
      "text/plain": [
       "{'sentences': ['The lungs are hyperexpanded , with increased AP diameter of the chest',\n",
       "  'The cardiomediastinal silhouette is stable and normal',\n",
       "  'There is no pneumothorax or large pleural effusion',\n",
       "  'No acute cardiopulmonary abnormality',\n",
       "  'Chronic changes consistent with emphysema'],\n",
       " 'invalid': [],\n",
       " 'unmatched': [],\n",
       " 'matched': [0, 1, 2, 3, 4],\n",
       " 'qa': {'59': [0, 3],\n",
       "  '26': [1],\n",
       "  '63': [1],\n",
       "  '68': [2],\n",
       "  '73': [2],\n",
       "  '48': [3],\n",
       "  '37': [4]},\n",
       " 'question_ids': [59, 26, 63, 68, 73, 48, 37],\n",
       " 'filename': '2509.xml',\n",
       " 'background': 'XXXX-year-old XXXX with chest pain.'}"
      ]
     },
     "execution_count": 7,
     "metadata": {},
     "output_type": "execute_result"
    }
   ],
   "source": [
    "iuxray_qa_adapted_reports['reports'][0]"
   ]
  },
  {
   "cell_type": "code",
   "execution_count": 8,
   "metadata": {},
   "outputs": [
    {
     "data": {
      "text/plain": [
       "{'sentences': ['Portable AP semi-erect chest radiograph was obtained',\n",
       "  'Lung volumes continues to be low',\n",
       "  'The heart continues to be moderately enlarged with unchanged mild to moderate edema',\n",
       "  'Moderate bilateral , right greater than left , pleural effusions are unchanged',\n",
       "  'ET tube is in appropriate position , the gastric tube ends in the stomach',\n",
       "  'Left central venous line is in appropriate position',\n",
       "  'Right PICC line ends at the lower SVC',\n",
       "  'Unchanged low lung volumes , mild pulmonary edema and bilateral moderate pleural effusions'],\n",
       " 'invalid': [],\n",
       " 'unmatched': [0],\n",
       " 'matched': [1, 2, 3, 4, 5, 6, 7],\n",
       " 'qa': {'59': [1, 7],\n",
       "  '48': [2],\n",
       "  '36': [2, 7],\n",
       "  '68': [3, 7],\n",
       "  '95': [4, 5, 6],\n",
       "  '87': [4, 5, 6],\n",
       "  '85': [4],\n",
       "  '96': [6]},\n",
       " 'question_ids': [59, 48, 36, 68, 95, 87, 85, 96],\n",
       " 'filepath': '/mnt/data/mimic-cxr/files/p19/p19830694/s59684066.txt',\n",
       " 'background': 'history: -year-old man with ET tube, fluid overload. Evaluate for interval change. Portable AP.'}"
      ]
     },
     "execution_count": 8,
     "metadata": {},
     "output_type": "execute_result"
    }
   ],
   "source": [
    "mimiccxr_qa_adapted_reports['reports'][-1000]"
   ]
  },
  {
   "cell_type": "code",
   "execution_count": 9,
   "metadata": {},
   "outputs": [],
   "source": [
    "def generate_summary_file(dataset, k, kk, output_path):\n",
    "    \n",
    "    q2a = [[] for _ in range(len(dataset['questions']))]\n",
    "    n_invalid = 0\n",
    "    unmatched_sentences = []\n",
    "    for ri, report in enumerate(dataset['reports']):\n",
    "        s = report['sentences']\n",
    "        for q_idx, a_idxs in report['qa'].items():\n",
    "            q_idx = int(q_idx)\n",
    "            a_len = sum(len(s[i]) for i in a_idxs)\n",
    "            q2a[q_idx].append((a_len, ri))\n",
    "        n_invalid += len(report['invalid'])\n",
    "        unmatched_sentences.extend(s[i] for i in report['unmatched'])\n",
    "            \n",
    "    sorted_questions = sorted([(len(a), i) for i,a in enumerate(q2a)], reverse=True)    \n",
    "    \n",
    "    with open(output_path, 'w') as file:\n",
    "        file.write('Preguntas ordenadas por frecuencia (decreciente)\\n\\n')\n",
    "        for f, q in sorted_questions:\n",
    "            file.write('%d, %s\\n' % (f, dataset['questions'][q]))\n",
    "        file.write('\\n')\n",
    "        file.write('Ejemplos de respuestas por pregunta:')\n",
    "        for i,(_,q) in enumerate(sorted_questions):\n",
    "            answers = q2a[q]\n",
    "            answers.sort()            \n",
    "            tmp = []\n",
    "            for _, a in answers:\n",
    "                report = dataset['reports'][a]\n",
    "                sentences = report['sentences']\n",
    "                a_idxs = report['qa'][str(q)]\n",
    "                answer = '. '.join(sentences[i] for i in a_idxs)\n",
    "                tmp.append(answer)\n",
    "            answers = tmp            \n",
    "            n = len(answers)\n",
    "            print(\"n=%d, %s\" % (n, dataset['questions'][q]))\n",
    "            if n > k:\n",
    "                sample = []\n",
    "                for j in range(k):\n",
    "                    sample.append(answers[random.randint(int(n*j/k), int(n*(j+1)/k)-1)])\n",
    "            else:\n",
    "                sample = answers\n",
    "            file.write('\\n\\n%d) %s:\\n\\n' % (i+1, dataset['questions'][q]))\n",
    "            for a in sample:\n",
    "                file.write('    A: %s\\n' % a)\n",
    "        file.write('\\n\\nTotal oraciones inválidas: %d\\n' % n_invalid)\n",
    "        file.write('Total oraciones sin match: %d\\n' % len(unmatched_sentences))\n",
    "        file.write('\\n\\nEjemplos de oraciones válidas que no hicieron match con ninguna pregunta\\n\\n')\n",
    "        unmatched_sentences = list(set(unmatched_sentences))\n",
    "        unmatched_sentences.sort(key=lambda s:len(s))\n",
    "        nn = len(unmatched_sentences)\n",
    "        for j in range(kk):\n",
    "            file.write('    %s\\n' % unmatched_sentences[random.randint(int(nn*j/kk), int(nn*(j+1)/kk)-1)])"
   ]
  },
  {
   "cell_type": "code",
   "execution_count": 12,
   "metadata": {
    "scrolled": true
   },
   "outputs": [
    {
     "name": "stdout",
     "output_type": "stream",
     "text": [
      "n=3551, lungs?\n",
      "n=3371, heart?\n",
      "n=3106, pleural space?\n",
      "n=2691, pneumothorax?\n",
      "n=2360, mediastinum?\n",
      "n=1967, bones?\n",
      "n=1243, consolidation?\n",
      "n=1185, cardiac silhouette?\n",
      "n=815, pulmonary vascularity?\n",
      "n=757, opacities?\n",
      "n=601, calcification?\n",
      "n=552, air space disease?\n",
      "n=457, granumola?\n",
      "n=440, support devices and foreign bodies?\n",
      "n=431, infiltrate?\n",
      "n=397, thoracic aorta?\n",
      "n=395, atelectasis?\n",
      "n=354, edema?\n",
      "n=341, nodules?\n",
      "n=305, cardiomegaly?\n",
      "n=273, surgery?\n",
      "n=268, pneumonia?\n",
      "n=249, pulmonary hila?\n",
      "n=244, diaphragm?\n",
      "n=235, scarring?\n",
      "n=226, tortuosity?\n",
      "n=220, tubes and lines?\n",
      "n=220, interstitial lung disease?\n",
      "n=209, fractures?\n",
      "n=194, ribs?\n",
      "n=188, masses?\n",
      "n=155, prominence?\n",
      "n=149, densities?\n",
      "n=146, soft tissue?\n",
      "n=122, emphysema?\n",
      "n=113, apical zone?\n",
      "n=111, trachea?\n",
      "n=103, bronchus?\n",
      "n=100, adenopathy?\n",
      "n=89, markings?\n",
      "n=83, bronchovascular crowding?\n",
      "n=75, fluid?\n",
      "n=71, infection?\n",
      "n=70, air collections?\n",
      "n=64, free air?\n",
      "n=63, lesions?\n",
      "n=56, hernias?\n",
      "n=55, vena cava?\n",
      "n=49, lung parenchyma?\n",
      "n=49, COPD?\n",
      "n=44, lucencies?\n",
      "n=44, fibrosis?\n",
      "n=43, cancer or tumor?\n",
      "n=31, airways?\n",
      "n=26, contrast?\n",
      "n=25, sulci?\n",
      "n=20, fissures?\n",
      "n=19, congestive heart failure CHF?\n",
      "n=18, stomach?\n",
      "n=15, lymph nodes?\n",
      "n=14, shadow?\n",
      "n=13, aspiration?\n",
      "n=12, trauma?\n",
      "n=12, bowel?\n",
      "n=11, pneumoperitoneum?\n",
      "n=11, bullae and blebs?\n",
      "n=10, sarcoidosis?\n",
      "n=9, loculation?\n",
      "n=9, carina?\n",
      "n=8, pneumomediastinum?\n",
      "n=8, bowel obstruction and loops?\n",
      "n=8, air-fluid level?\n",
      "n=7, colon?\n",
      "n=5, peribronchial cuffing?\n",
      "n=5, esophagus?\n",
      "n=5, bronchiectasis?\n",
      "n=4, radiation?\n",
      "n=3, skinfold?\n",
      "n=3, liver?\n",
      "n=3, gas distension?\n",
      "n=3, abscess and cavitation?\n",
      "n=2, thyroid?\n",
      "n=2, tendon?\n",
      "n=2, ossification?\n",
      "n=2, haze?\n",
      "n=2, azygos lobe?\n",
      "n=1, pneumatocele?\n",
      "n=1, kerley lines?\n",
      "n=1, cholelithiasis?\n",
      "n=1, bleeding?\n",
      "n=1, azygos vein?\n",
      "n=0, sagittal chest?\n",
      "n=0, fluid overload?\n",
      "n=0, bronchogram?\n",
      "n=0, blurring?\n",
      "n=0, ascites?\n",
      "n=0, ARDS?\n"
     ]
    }
   ],
   "source": [
    "generate_summary_file(iuxray_qa_adapted_reports, 20, 120, '/home/pamessina/medvqa/medvqa/datasets/iuxray/iuxray_qa_dataset_summary_file.txt')"
   ]
  },
  {
   "cell_type": "code",
   "execution_count": 14,
   "metadata": {
    "scrolled": true
   },
   "outputs": [
    {
     "name": "stdout",
     "output_type": "stream",
     "text": [
      "n=195450, lungs?\n",
      "n=187598, pleural space?\n",
      "n=147038, pneumothorax?\n",
      "n=131916, heart?\n",
      "n=121099, mediastinum?\n",
      "n=109798, support devices and foreign bodies?\n",
      "n=100728, cardiac silhouette?\n",
      "n=88316, tubes and lines?\n",
      "n=75213, bones?\n",
      "n=72255, opacities?\n",
      "n=71586, consolidation?\n",
      "n=70460, atelectasis?\n",
      "n=66303, edema?\n",
      "n=55357, pulmonary hila?\n",
      "n=54769, pulmonary vascularity?\n",
      "n=54753, pneumonia?\n",
      "n=32604, cardiomegaly?\n",
      "n=28386, surgery?\n",
      "n=26564, diaphragm?\n",
      "n=22876, thoracic aorta?\n",
      "n=21104, vena cava?\n",
      "n=17690, stomach?\n",
      "n=16618, trachea?\n",
      "n=16061, interstitial lung disease?\n",
      "n=14877, calcification?\n",
      "n=14737, apical zone?\n",
      "n=14274, fractures?\n",
      "n=14140, infection?\n",
      "n=12334, carina?\n",
      "n=11983, lung parenchyma?\n",
      "n=11940, ribs?\n",
      "n=11769, prominence?\n",
      "n=11488, tortuosity?\n",
      "n=9707, free air?\n",
      "n=9551, fluid?\n",
      "n=9077, bronchus?\n",
      "n=8660, aspiration?\n",
      "n=8229, nodules?\n",
      "n=7984, scarring?\n",
      "n=7663, densities?\n",
      "n=5755, emphysema?\n",
      "n=5713, markings?\n",
      "n=5694, congestive heart failure CHF?\n",
      "n=5079, infiltrate?\n",
      "n=4709, esophagus?\n",
      "n=4562, masses?\n",
      "n=4482, air collections?\n",
      "n=4244, lesions?\n",
      "n=4185, soft tissue?\n",
      "n=3342, bronchovascular crowding?\n",
      "n=3157, haze?\n",
      "n=3130, hernias?\n",
      "n=3071, cancer or tumor?\n",
      "n=3070, gas distension?\n",
      "n=3060, fluid overload?\n",
      "n=2860, adenopathy?\n",
      "n=2847, loculation?\n",
      "n=2493, COPD?\n",
      "n=2307, fissures?\n",
      "n=2293, granumola?\n",
      "n=2106, lucencies?\n",
      "n=1870, fibrosis?\n",
      "n=1767, pneumomediastinum?\n",
      "n=1732, bleeding?\n",
      "n=1351, bowel?\n",
      "n=1267, lymph nodes?\n",
      "n=1262, shadow?\n",
      "n=1182, trauma?\n",
      "n=1124, thyroid?\n",
      "n=1099, bronchogram?\n",
      "n=1074, contrast?\n",
      "n=1045, peribronchial cuffing?\n",
      "n=973, pneumoperitoneum?\n",
      "n=967, airways?\n",
      "n=949, bowel obstruction and loops?\n",
      "n=944, sulci?\n",
      "n=926, bronchiectasis?\n",
      "n=836, radiation?\n",
      "n=767, air-fluid level?\n",
      "n=648, azygos vein?\n",
      "n=564, colon?\n",
      "n=543, air space disease?\n",
      "n=522, abscess and cavitation?\n",
      "n=504, ARDS?\n",
      "n=493, bullae and blebs?\n",
      "n=406, skinfold?\n",
      "n=356, sarcoidosis?\n",
      "n=356, blurring?\n",
      "n=275, liver?\n",
      "n=260, kerley lines?\n",
      "n=165, azygos lobe?\n",
      "n=109, ascites?\n",
      "n=82, ossification?\n",
      "n=63, pneumatocele?\n",
      "n=45, tendon?\n",
      "n=17, cholelithiasis?\n",
      "n=11, sagittal chest?\n"
     ]
    }
   ],
   "source": [
    "generate_summary_file(mimiccxr_qa_adapted_reports, 20, 120, '/home/pamessina/medvqa/medvqa/datasets/mimiccxr/mimiccxr_qa_dataset_summary_file.txt')"
   ]
  }
 ],
 "metadata": {
  "celltoolbar": "Raw Cell Format",
  "kernelspec": {
   "display_name": "Python 3",
   "language": "python",
   "name": "python3"
  },
  "language_info": {
   "codemirror_mode": {
    "name": "ipython",
    "version": 3
   },
   "file_extension": ".py",
   "mimetype": "text/x-python",
   "name": "python",
   "nbconvert_exporter": "python",
   "pygments_lexer": "ipython3",
   "version": "3.6.9"
  }
 },
 "nbformat": 4,
 "nbformat_minor": 4
}
