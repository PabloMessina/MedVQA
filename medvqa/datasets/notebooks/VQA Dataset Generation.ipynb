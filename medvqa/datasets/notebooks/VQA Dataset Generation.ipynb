{
 "cells": [
  {
   "cell_type": "code",
   "execution_count": 1,
   "metadata": {},
   "outputs": [],
   "source": [
    "# import math\n",
    "# import re\n",
    "# import nltk\n",
    "# import random\n",
    "# import json\n",
    "# import os\n",
    "# from nltk.corpus import stopwords\n",
    "# from nltk.tokenize import sent_tokenize\n",
    "# from tqdm import tqdm\n",
    "\n",
    "# from medvqa.datasets.qa_pairs_extractor import QuestionAnswerExtractor\n",
    "# from medvqa.utils.common import CACHE_DIR"
   ]
  },
  {
   "cell_type": "code",
   "execution_count": 1,
   "metadata": {},
   "outputs": [
    {
     "name": "stdout",
     "output_type": "stream",
     "text": [
      "Loading file /mnt/workspace/iu-x-ray/dataset/reports/reports.json ...\r\n",
      "Extracing and merging findings and impressions ...\r\n",
      "Saving to /home/pamessina/medvqa-workspace/cache/iuxray/findings+impression.txt ...\r\n",
      "done!\r\n"
     ]
    }
   ],
   "source": [
    "!python ../iuxray/extract_findings_and_impressions.py"
   ]
  },
  {
   "cell_type": "code",
   "execution_count": 2,
   "metadata": {},
   "outputs": [
    {
     "name": "stdout",
     "output_type": "stream",
     "text": [
      "Loading MIMIC-CXR's report file paths ...\n",
      "227835it [02:43, 1394.99it/s] \n",
      "Saving findings + impressions to /home/pamessina/medvqa-workspace/cache/mimiccxr/findings+impression.txt ...\n",
      "100%|██████████████████████████████████| 227835/227835 [09:44<00:00, 390.11it/s]\n",
      "Num failed paths = 419\n",
      "Done!\n"
     ]
    }
   ],
   "source": [
    "!python ../mimiccxr/extract_findings_and_impressions.py"
   ]
  },
  {
   "cell_type": "code",
   "execution_count": 501,
   "metadata": {},
   "outputs": [],
   "source": [
    "from importlib import reload"
   ]
  },
  {
   "cell_type": "code",
   "execution_count": 590,
   "metadata": {},
   "outputs": [],
   "source": [
    "from medvqa.utils.files import read_lines_from_txt\n",
    "from medvqa.utils.common import CACHE_DIR\n",
    "from medvqa.datasets.qa_pairs_extractor import QuestionAnswerExtractor\n",
    "import medvqa\n",
    "import re\n",
    "import os\n",
    "import random\n",
    "import math\n",
    "from tqdm import tqdm"
   ]
  },
  {
   "cell_type": "code",
   "execution_count": 586,
   "metadata": {},
   "outputs": [
    {
     "data": {
      "text/plain": [
       "<module 'medvqa.datasets.qa_pairs_extractor' from '/home/pamessina/medvqa/medvqa/datasets/qa_pairs_extractor.py'>"
      ]
     },
     "execution_count": 586,
     "metadata": {},
     "output_type": "execute_result"
    }
   ],
   "source": [
    "reload(medvqa.datasets.qa_pairs_extractor)"
   ]
  },
  {
   "cell_type": "code",
   "execution_count": 8,
   "metadata": {},
   "outputs": [],
   "source": [
    "iuxray_raw_reports = read_lines_from_txt(os.path.join(CACHE_DIR, 'iuxray', 'findings+impression.txt'))"
   ]
  },
  {
   "cell_type": "code",
   "execution_count": 10,
   "metadata": {},
   "outputs": [],
   "source": [
    "mimiccxr_raw_reports = read_lines_from_txt(os.path.join(CACHE_DIR, 'mimiccxr', 'findings+impression.txt'))"
   ]
  },
  {
   "cell_type": "code",
   "execution_count": 19,
   "metadata": {},
   "outputs": [
    {
     "data": {
      "text/plain": [
       "(3927, 227416)"
      ]
     },
     "execution_count": 19,
     "metadata": {},
     "output_type": "execute_result"
    }
   ],
   "source": [
    "len(iuxray_raw_reports), len(mimiccxr_raw_reports)"
   ]
  },
  {
   "cell_type": "code",
   "execution_count": 20,
   "metadata": {},
   "outputs": [],
   "source": [
    "def print_qa_pairs(qa_pairs):\n",
    "    for k, v in qa_pairs.items():\n",
    "        print('------------')\n",
    "        print('Q:', k)\n",
    "        for s in v:\n",
    "            print('A:',s)"
   ]
  },
  {
   "cell_type": "code",
   "execution_count": 588,
   "metadata": {},
   "outputs": [],
   "source": [
    "qa_extractor = QuestionAnswerExtractor()"
   ]
  },
  {
   "cell_type": "code",
   "execution_count": 514,
   "metadata": {},
   "outputs": [
    {
     "data": {
      "text/plain": [
       "re.compile(r'(\\bwhen\\b|\\band\\b|\\bbut\\b|\\bhowever\\b|\\balthough\\b|\\bshould\\b|\\bsince\\b|\\bunless\\b|\\bnevertheless\\b|\\balthough\\b|[,;.:])+(\\s+(\\bwhen\\b|\\band\\b|\\bbut\\b|\\bhowever\\b|\\balthough\\b|\\bshould\\b|\\bsince\\b|\\bunless\\b|\\bnevertheless\\b|\\balthough\\b|[,;.:])+)*',\n",
       "re.IGNORECASE|re.UNICODE)"
      ]
     },
     "execution_count": 514,
     "metadata": {},
     "output_type": "execute_result"
    }
   ],
   "source": [
    "connectors = ['when', 'and', 'but', 'however', 'although', 'should', 'since', 'unless', 'nevertheless', 'although']\n",
    "exp = '('+'|'.join(f'\\\\b{x}\\\\b' for x in connectors)+'|[,;.:])'\n",
    "full_exp = f'{exp}+(\\\\s+{exp}+)*'\n",
    "sep_regex = re.compile(full_exp, re.IGNORECASE)\n",
    "sep_regex"
   ]
  },
  {
   "cell_type": "code",
   "execution_count": 515,
   "metadata": {},
   "outputs": [],
   "source": [
    "def clean_sentence(self, sentence):\n",
    "    last_sep = None\n",
    "    i = 0\n",
    "    n = len(sentence)\n",
    "    clean_sentence = ''\n",
    "    prepend_to_next_chunk = None\n",
    "    for match in sep_regex.finditer(sentence):\n",
    "        span = match.span()\n",
    "        if i < span[0]:\n",
    "            chunk = sentence[i:span[0]].strip()\n",
    "            if prepend_to_next_chunk:\n",
    "                if len(clean_sentence) > 0:\n",
    "                    chunk = prepend_to_next_chunk + chunk\n",
    "                prepend_to_next_chunk = None\n",
    "            if self._is_relevant(chunk):\n",
    "                if len(clean_sentence) > 0:\n",
    "                    if last_sep:\n",
    "                        clean_sentence += ' ' + last_sep\n",
    "                    clean_sentence += ' '                    \n",
    "                clean_sentence += chunk\n",
    "            print('chunk =', chunk)\n",
    "        i = span[1]\n",
    "        last_sep = sentence[span[0]:span[1]]\n",
    "        print('last_sep =', last_sep)\n",
    "        if last_sep not in ('and', 'but', ':'):\n",
    "            if last_sep == ', however,':\n",
    "                last_sep = None\n",
    "            else:\n",
    "                done = False\n",
    "                for x in ('should', 'since', 'unless', 'when'):\n",
    "                    if x in last_sep:\n",
    "                        prepend_to_next_chunk = last_sep + ' '\n",
    "                        last_sep = None\n",
    "                        done = True\n",
    "                        break\n",
    "                if not done:\n",
    "                    last_sep = ','\n",
    "    if i < n:\n",
    "        chunk = sentence[i:].strip()\n",
    "        if prepend_to_next_chunk:\n",
    "            chunk = prepend_to_next_chunk + chunk\n",
    "        if self._is_relevant(chunk):\n",
    "            if len(clean_sentence) > 0:\n",
    "                if last_sep:\n",
    "                    clean_sentence += ' ' + last_sep\n",
    "                clean_sentence += ' '\n",
    "            clean_sentence += chunk\n",
    "        print('chunk =', chunk)\n",
    "    return clean_sentence"
   ]
  },
  {
   "cell_type": "code",
   "execution_count": 518,
   "metadata": {},
   "outputs": [
    {
     "name": "stdout",
     "output_type": "stream",
     "text": [
      "<_sre.SRE_Match object; span=(29, 30), match=':'>\n",
      "<_sre.SRE_Match object; span=(61, 64), match='and'>\n",
      "<_sre.SRE_Match object; span=(112, 119), match='since .'>\n",
      "chunk = AP chest compared to through\n",
      "last_sep = :\n",
      "chunk = Pulmonary vascular congestion\n",
      "last_sep = and\n",
      "chunk = mediastinal venous engorgement have progressed\n",
      "last_sep = since .\n",
      "$$$$Pulmonary vascular congestion and mediastinal venous engorgement have progressed$$$$\n",
      "$$$$Pulmonary vascular congestion and mediastinal venous engorgement have progressed$$$$\n"
     ]
    }
   ],
   "source": [
    "_s = 'AP chest compared to through : Pulmonary vascular congestion and mediastinal venous engorgement have progressed since .'\n",
    "for x in sep_regex.finditer(_s):\n",
    "    print(str(x))\n",
    "print(\"$$$$\"+clean_sentence(qa_extractor, _s)+\"$$$$\")\n",
    "print(\"$$$$\"+qa_extractor.clean_sentence(_s)+\"$$$$\")"
   ]
  },
  {
   "cell_type": "code",
   "execution_count": 23,
   "metadata": {},
   "outputs": [
    {
     "name": "stdout",
     "output_type": "stream",
     "text": [
      "------------\n",
      "Q: what about the lungs?\n",
      "A: Lung volumes continues to be low.\n",
      "A: Unchanged low lung volumes, mild pulmonary edema and bilateral moderate pleural effusions.\n",
      "------------\n",
      "Q: what about the heart?\n",
      "A: The heart continues to be moderately enlarged with unchanged mild to moderate edema.\n",
      "------------\n",
      "Q: what about edema?\n",
      "A: The heart continues to be moderately enlarged with unchanged mild to moderate edema.\n",
      "A: Unchanged low lung volumes, mild pulmonary edema and bilateral moderate pleural effusions.\n",
      "------------\n",
      "Q: what about pleural space?\n",
      "A: Moderate bilateral, right greater than left, pleural effusions are unchanged.\n",
      "A: Unchanged low lung volumes, mild pulmonary edema and bilateral moderate pleural effusions.\n",
      "------------\n",
      "Q: what about tubes and lines?\n",
      "A: ET tube is in appropriate position, and the gastric tube ends in the stomach.\n",
      "A: Left central venous line is in appropriate position.\n",
      "A: Right PICC line ends at the lower SVC.\n",
      "------------\n",
      "Q: what about support devices and foreign bodies?\n",
      "A: ET tube is in appropriate position, and the gastric tube ends in the stomach.\n",
      "A: Left central venous line is in appropriate position.\n",
      "A: Right PICC line ends at the lower SVC.\n",
      "------------\n",
      "Q: what about the stomach?\n",
      "A: ET tube is in appropriate position, and the gastric tube ends in the stomach.\n",
      "------------\n",
      "Q: what about vena cava?\n",
      "A: Right PICC line ends at the lower SVC.\n"
     ]
    }
   ],
   "source": [
    "tmp = qa_extractor.generate_qa_pairs('Lung volumes continues to be low.  The heart continues to be moderately enlarged with unchanged mild to moderate edema.  Moderate bilateral, right greater than left, pleural effusions are unchanged.  ET tube is in appropriate position, and the gastric tube ends in the stomach.  Left central venous line is in appropriate position.  Right PICC line ends at the lower SVC. Unchanged low lung volumes, mild pulmonary edema and bilateral moderate pleural effusions. ', debug=True)\n",
    "print_qa_pairs(tmp)"
   ]
  },
  {
   "cell_type": "code",
   "execution_count": 507,
   "metadata": {},
   "outputs": [
    {
     "name": "stdout",
     "output_type": "stream",
     "text": [
      "------------\n",
      "Q: what about the lungs?\n",
      "A: Lung volumes continues to be low.\n",
      "A: Unchanged low lung volumes, mild pulmonary edema and bilateral moderate pleural effusions.\n",
      "------------\n",
      "Q: what about the heart?\n",
      "A: The heart continues to be moderately enlarged with unchanged mild to moderate edema.\n",
      "------------\n",
      "Q: what about edema?\n",
      "A: The heart continues to be moderately enlarged with unchanged mild to moderate edema.\n",
      "A: Unchanged low lung volumes, mild pulmonary edema and bilateral moderate pleural effusions.\n",
      "------------\n",
      "Q: what about pleural space?\n",
      "A: Moderate bilateral, right greater than left, pleural effusions are unchanged.\n",
      "A: Unchanged low lung volumes, mild pulmonary edema and bilateral moderate pleural effusions.\n",
      "------------\n",
      "Q: what about tubes and lines?\n",
      "A: ET tube is in appropriate position, and the gastric tube ends in the stomach.\n",
      "A: Left central venous line is in appropriate position.\n",
      "A: Right PICC line ends at the lower SVC.\n",
      "------------\n",
      "Q: what about support devices and foreign bodies?\n",
      "A: ET tube is in appropriate position, and the gastric tube ends in the stomach.\n",
      "A: Left central venous line is in appropriate position.\n",
      "A: Right PICC line ends at the lower SVC.\n",
      "------------\n",
      "Q: what about the stomach?\n",
      "A: ET tube is in appropriate position, and the gastric tube ends in the stomach.\n",
      "------------\n",
      "Q: what about vena cava?\n",
      "A: Right PICC line ends at the lower SVC.\n"
     ]
    }
   ],
   "source": [
    "tmp = qa_extractor.generate_qa_pairs('Lung volumes continues to be low.  The heart continues to be moderately enlarged with unchanged mild to moderate edema.  Moderate bilateral, right greater than left, pleural effusions are unchanged.  ET tube is in appropriate position, and the gastric tube ends in the stomach.  Left central venous line is in appropriate position.  Right PICC line ends at the lower SVC. Unchanged low lung volumes, mild pulmonary edema and bilateral moderate pleural effusions. ', debug=True)\n",
    "print_qa_pairs(tmp)"
   ]
  },
  {
   "cell_type": "code",
   "execution_count": 555,
   "metadata": {},
   "outputs": [
    {
     "name": "stdout",
     "output_type": "stream",
     "text": [
      "The heart size and mediastinal contours appear within normal limits. There are low lung volumes with left basilar subsegmental atelectasis. No focal airspace consolidation, effusions or pneumothorax. No acute bony abnormalities. No acute cardiopulmonary findings.\n",
      "=============================\n",
      "------------\n",
      "Q: what about the heart?\n",
      "A: The heart size and mediastinal contours appear within normal limits\n",
      "A: No acute cardiopulmonary findings\n",
      "------------\n",
      "Q: what about the mediastinum?\n",
      "A: The heart size and mediastinal contours appear within normal limits\n",
      "------------\n",
      "Q: what about the lungs?\n",
      "A: There are low lung volumes with left basilar subsegmental atelectasis\n",
      "A: No acute cardiopulmonary findings\n",
      "------------\n",
      "Q: what about atelectasis?\n",
      "A: There are low lung volumes with left basilar subsegmental atelectasis\n",
      "------------\n",
      "Q: what about pleural space?\n",
      "A: No focal airspace consolidation , effusions or pneumothorax\n",
      "------------\n",
      "Q: what about pneumothorax?\n",
      "A: No focal airspace consolidation , effusions or pneumothorax\n",
      "------------\n",
      "Q: what about consolidation?\n",
      "A: No focal airspace consolidation , effusions or pneumothorax\n",
      "------------\n",
      "Q: what about bones?\n",
      "A: No acute bony abnormalities\n"
     ]
    }
   ],
   "source": [
    "report = random.choice(iuxray_raw_reports)\n",
    "print(report)\n",
    "print('=============================')\n",
    "tmp = qa_extractor.generate_qa_pairs(report, debug=True)\n",
    "print_qa_pairs(tmp)"
   ]
  },
  {
   "cell_type": "code",
   "execution_count": 556,
   "metadata": {},
   "outputs": [
    {
     "name": "stdout",
     "output_type": "stream",
     "text": [
      "$$$$Pulmonary vascular congestion and mediastinal venous engorgement have progressed$$$$\n"
     ]
    }
   ],
   "source": [
    "_s = 'AP chest compared to through : Pulmonary vascular congestion and mediastinal venous engorgement have progressed since .'\n",
    "print(\"$$$$\"+qa_extractor.clean_sentence(_s)+\"$$$$\")"
   ]
  },
  {
   "cell_type": "code",
   "execution_count": 559,
   "metadata": {},
   "outputs": [
    {
     "data": {
      "text/plain": [
       "(91,\n",
       " ['what about COPD?',\n",
       "  'what about abscess and cavitation?',\n",
       "  'what about adenopathy?',\n",
       "  'what about air collections?',\n",
       "  'what about air space disease?',\n",
       "  'what about air-fluid level?',\n",
       "  'what about airways?',\n",
       "  'what about ascites?',\n",
       "  'what about aspiration?',\n",
       "  'what about atelectasis?',\n",
       "  'what about azygos lobe?',\n",
       "  'what about azygos vein?',\n",
       "  'what about bleeding?',\n",
       "  'what about blurring?',\n",
       "  'what about bones?',\n",
       "  'what about bowel obstruction and loops?',\n",
       "  'what about bronchiectasis?',\n",
       "  'what about bronchogram?',\n",
       "  'what about bronchovascular crowding?',\n",
       "  'what about bullae and blebs?',\n",
       "  'what about calcification?',\n",
       "  'what about cancer or tumor?',\n",
       "  'what about cardiomegaly?',\n",
       "  'what about cholelithiasis?',\n",
       "  'what about congestive heart failure CHF?',\n",
       "  'what about consolidation?',\n",
       "  'what about contrast?',\n",
       "  'what about densities?',\n",
       "  'what about edema?',\n",
       "  'what about emphysema?',\n",
       "  'what about fissures?',\n",
       "  'what about fluid overload?',\n",
       "  'what about fluid?',\n",
       "  'what about fractures?',\n",
       "  'what about free air?',\n",
       "  'what about gas distension?',\n",
       "  'what about granumola?',\n",
       "  'what about haze?',\n",
       "  'what about hernias?',\n",
       "  'what about infiltrate?',\n",
       "  'what about interstitial lung disease?',\n",
       "  'what about kerley lines?',\n",
       "  'what about lesions?',\n",
       "  'what about lucencies?',\n",
       "  'what about lung parenchyma?',\n",
       "  'what about lymph nodes?',\n",
       "  'what about markings?',\n",
       "  'what about masses?',\n",
       "  'what about nodules?',\n",
       "  'what about opacities?',\n",
       "  'what about ossification?',\n",
       "  'what about peribronchial cuffing?',\n",
       "  'what about pleural space?',\n",
       "  'what about pneumatocele?',\n",
       "  'what about pneumomediastinum?',\n",
       "  'what about pneumonia?',\n",
       "  'what about pneumoperitoneum?',\n",
       "  'what about pneumothorax?',\n",
       "  'what about prominence?',\n",
       "  'what about pulmonary hila?',\n",
       "  'what about pulmonary vascularity?',\n",
       "  'what about sagittal chest?',\n",
       "  'what about sarcoidosis?',\n",
       "  'what about scarring?',\n",
       "  'what about shadow?',\n",
       "  'what about soft tissue?',\n",
       "  'what about sulci?',\n",
       "  'what about support devices and foreign bodies?',\n",
       "  'what about surgery?',\n",
       "  'what about tendon?',\n",
       "  'what about the apical zone?',\n",
       "  'what about the bowel?',\n",
       "  'what about the bronchus?',\n",
       "  'what about the cardiac silhouette?',\n",
       "  'what about the carina?',\n",
       "  'what about the colon?',\n",
       "  'what about the diaphragm?',\n",
       "  'what about the esophagus?',\n",
       "  'what about the heart?',\n",
       "  'what about the liver?',\n",
       "  'what about the lungs?',\n",
       "  'what about the mediastinum?',\n",
       "  'what about the ribs?',\n",
       "  'what about the stomach?',\n",
       "  'what about the thyroid?',\n",
       "  'what about the trachea?',\n",
       "  'what about thoracic aorta?',\n",
       "  'what about tortuosity?',\n",
       "  'what about trauma?',\n",
       "  'what about tubes and lines?',\n",
       "  'what about vena cava?'])"
      ]
     },
     "execution_count": 559,
     "metadata": {},
     "output_type": "execute_result"
    }
   ],
   "source": [
    "len(qa_extractor.questions), qa_extractor.questions"
   ]
  },
  {
   "cell_type": "code",
   "execution_count": 571,
   "metadata": {},
   "outputs": [
    {
     "data": {
      "text/plain": [
       "(2, 66019)"
      ]
     },
     "execution_count": 571,
     "metadata": {},
     "output_type": "execute_result"
    }
   ],
   "source": [
    "tmp = qa_extractor.search_by_unmatched(0, mimiccxr_raw_reports, 100)\n",
    "x = tmp[1]\n",
    "tmp"
   ]
  },
  {
   "cell_type": "code",
   "execution_count": 572,
   "metadata": {},
   "outputs": [
    {
     "data": {
      "text/plain": [
       "{'sentences': ['Portable upright AP radiograph of the chest',\n",
       "  'There are low lung volumes',\n",
       "  'Moderate right and small left bilateral pleural effusions persist , right pleural effusion appears decreased in extent',\n",
       "  'There is also likely a component of bibasilar atelectasis',\n",
       "  'Underlying infection in these locations cannot be ruled out',\n",
       "  'The remainder of the lungs bilaterally is clear',\n",
       "  'There is no pneumothorax',\n",
       "  'A right PICC terminates in the mid SVC',\n",
       "  'The cardiac size is unchanged',\n",
       "  'Moderate right and small left pleural effusions with associated atelectasis',\n",
       "  'Underlying infection in the lower lobes cannot be excluded'],\n",
       " 'invalid': [],\n",
       " 'unmatched': [0, 4],\n",
       " 'matched': [1, 2, 3, 5, 6, 7, 8, 9, 10],\n",
       " 'qa': {'80': [1, 3, 5, 9, 10],\n",
       "  '52': [2, 9],\n",
       "  '9': [3, 9],\n",
       "  '57': [6],\n",
       "  '89': [7],\n",
       "  '67': [7],\n",
       "  '90': [7],\n",
       "  '78': [8]}}"
      ]
     },
     "execution_count": 572,
     "metadata": {},
     "output_type": "execute_result"
    }
   ],
   "source": [
    "qa_extractor.generate_qa_pairs_compact_version(mimiccxr_raw_reports[x])"
   ]
  },
  {
   "cell_type": "code",
   "execution_count": 573,
   "metadata": {
    "scrolled": false
   },
   "outputs": [
    {
     "name": "stdout",
     "output_type": "stream",
     "text": [
      "Portable upright AP radiograph of the chest. There are low lung volumes. Moderate right and small left bilateral pleural effusions persist, although right pleural effusion appears decreased in extent.. There is also likely a component of bibasilar atelectasis. Underlying infection in these locations cannot be ruled out. The remainder of the lungs bilaterally is clear. There is no pneumothorax. A right PICC terminates in the mid SVC. The cardiac size is unchanged. Moderate right and small left pleural effusions with associated atelectasis. Underlying infection in the lower lobes cannot be excluded.\n",
      "======================\n",
      "** not captured: Portable upright AP radiograph of the chest\n",
      "** not captured: Underlying infection in these locations cannot be ruled out\n",
      "------------\n",
      "Q: what about the lungs?\n",
      "A: There are low lung volumes\n",
      "A: There is also likely a component of bibasilar atelectasis\n",
      "A: The remainder of the lungs bilaterally is clear\n",
      "A: Moderate right and small left pleural effusions with associated atelectasis\n",
      "A: Underlying infection in the lower lobes cannot be excluded\n",
      "------------\n",
      "Q: what about pleural space?\n",
      "A: Moderate right and small left bilateral pleural effusions persist , right pleural effusion appears decreased in extent\n",
      "A: Moderate right and small left pleural effusions with associated atelectasis\n",
      "------------\n",
      "Q: what about atelectasis?\n",
      "A: There is also likely a component of bibasilar atelectasis\n",
      "A: Moderate right and small left pleural effusions with associated atelectasis\n",
      "------------\n",
      "Q: what about pneumothorax?\n",
      "A: There is no pneumothorax\n",
      "------------\n",
      "Q: what about tubes and lines?\n",
      "A: A right PICC terminates in the mid SVC\n",
      "------------\n",
      "Q: what about support devices and foreign bodies?\n",
      "A: A right PICC terminates in the mid SVC\n",
      "------------\n",
      "Q: what about vena cava?\n",
      "A: A right PICC terminates in the mid SVC\n",
      "------------\n",
      "Q: what about the heart?\n",
      "A: The cardiac size is unchanged\n"
     ]
    }
   ],
   "source": [
    "# _report = \"\"\n",
    "# print(_report)\n",
    "# _qa_pairs = qa_generator.generate_question_answer_pairs(_report)\n",
    "print(mimiccxr_raw_reports[x])\n",
    "print(\"======================\")\n",
    "_qa_pairs = qa_extractor.generate_qa_pairs(mimiccxr_raw_reports[x], debug=True)\n",
    "# _qa_pairs = qa_generator.remove_almost_duplicate_sentences(_qa_pairs)\n",
    "print_qa_pairs(_qa_pairs)"
   ]
  },
  {
   "cell_type": "code",
   "execution_count": 582,
   "metadata": {},
   "outputs": [],
   "source": [
    "def get_informative_unmatched_sentences(corpus, qa_extractor, n_samples = 2000):\n",
    "    \n",
    "    indices = range(len(corpus))\n",
    "    if len(corpus) > n_samples:\n",
    "        indices = random.sample(indices, n_samples)\n",
    "        \n",
    "    unmatched_sentences = set()\n",
    "    word2freq = dict()\n",
    "    \n",
    "    for i in tqdm(indices):\n",
    "        for s in qa_extractor.get_unmatched_sentences(corpus[i]):\n",
    "            unmatched_sentences.add(s)\n",
    "            for w in re.split(r\",?\\s+\", s):\n",
    "                word2freq[w] = word2freq.get(w, 0) + 1\n",
    "    \n",
    "    max_freq = max(word2freq.values())    \n",
    "    unmatched_sentences = list(unmatched_sentences)\n",
    "    \n",
    "    def score(s):\n",
    "        score_max = 0\n",
    "        score_sum = 0\n",
    "        cnt = 0\n",
    "        for w in re.split(r\",?\\s+\", s):\n",
    "            if w not in qa_extractor.stopwords:\n",
    "                tmp = max_freq - word2freq.get(w, 0)\n",
    "                score_max = max(tmp, score_max)\n",
    "                score_sum += tmp\n",
    "                cnt += 1\n",
    "        return score_max * 0.4 + (score_sum / math.sqrt(max(cnt,1))) * 0.6\n",
    "    \n",
    "    unmatched_sentences.sort(key=score, reverse=True)\n",
    "    return unmatched_sentences"
   ]
  },
  {
   "cell_type": "code",
   "execution_count": 591,
   "metadata": {},
   "outputs": [
    {
     "name": "stderr",
     "output_type": "stream",
     "text": [
      "100%|██████████| 1000/1000 [00:06<00:00, 157.95it/s]\n"
     ]
    }
   ],
   "source": [
    "unmatched_sentences = get_informative_unmatched_sentences(mimiccxr_raw_reports, qa_extractor, n_samples=1000)"
   ]
  },
  {
   "cell_type": "code",
   "execution_count": 592,
   "metadata": {},
   "outputs": [
    {
     "data": {
      "text/plain": [
       "208"
      ]
     },
     "execution_count": 592,
     "metadata": {},
     "output_type": "execute_result"
    }
   ],
   "source": [
    "len(unmatched_sentences)"
   ]
  },
  {
   "cell_type": "code",
   "execution_count": 18,
   "metadata": {},
   "outputs": [],
   "source": [
    "# qa_extractor.reload()"
   ]
  },
  {
   "cell_type": "code",
   "execution_count": 595,
   "metadata": {},
   "outputs": [
    {
     "name": "stdout",
     "output_type": "stream",
     "text": [
      "** not captured: The patient was unable to sit upright for this film and given change in positioning , there is no substantial interval change compared to the prior\n",
      "** not captured: With only a single portable radiograph available , it is uncertain whether this is intrathoracic or a structure external to the patient\n",
      "** not captured: This examination is limited due to underpenetration likely owing to patient's body habitus\n",
      "** not captured: The exam is suboptimal due to underpenetration due to patient's overlying body habitus\n",
      "** not captured: There are no major changes in the chest findings , except for mild central vein dilatation\n",
      "** not captured: Also on the differential is intermittent environmental or medication exposures causing intersitial reaction\n",
      "** not captured: Recommend pull back by 1 , 0 cm for optimal placement\n",
      "** not captured: This may represent focal infection in the proper clinical setting\n",
      "** not captured: All these changes are more on the right side and may represent continuing alveolitis\n",
      "** not captured: there are no major interval changes , there is a mild dilatation of the mediastinal vein\n",
      "** not captured: Normal chest findings as can be identified on portable AP single view examination\n",
      "** not captured: Skin project over the right lateral chest wall and left hemithorax\n",
      "** not captured: The patient is very rotated , this limits the evaluation of the film\n",
      "** not captured: Ascending aortic diameter cannot be accurately measured\n",
      "** not captured: Note is made of a subcutaneous insertable cardiac monitor\n",
      "** not captured: Limited assessment of the upper abdomen is within normal limits\n",
      "** not captured: Minimal pericardial air consistent with recent pericardiocentesis\n",
      "** not captured: the nature of suspected underlying disease if needed clinically\n",
      "** not captured: there is unchanged evidence of a left lateral chest wall air inclusion\n",
      "** not captured: the location of any referrable focal findings should be clearly marked\n",
      "** not captured: Chest wall air is also similar to prior\n",
      "** not captured: Air outlining the left pectoral muscle is unchanged\n",
      "** not captured: ARDS may be another possibility to explain the findings\n",
      "** not captured: Evaluation is limited given the large body habitus\n",
      "** not captured: A second cathether overlies the mid abdomen\n",
      "** not captured: most likely due to slightly different projection of the radiograph\n",
      "** not captured: Left CP angle is excluded on both views provided\n",
      "** not captured: Patient is slightly rotated to her right on both frontal projections\n",
      "** not captured: Assessment slightly limited by patient positioning and rotation\n",
      "** not captured: Portable semi-erect AP chest film dated at 02\n",
      "** not captured: AP upright , Underpenetration limits assessment\n",
      "** not captured: Recommend standard PA and lateral chest radiograph for confirmation\n",
      "** not captured: No radiographs are recommended if clinical condition continues to improve\n",
      "** not captured: A partially imaged upper abdomen is unremarkable\n",
      "** not captured: correlation with cross sectional imaging is recommended\n",
      "** not captured: As the present examination does not include a lateral view\n",
      "** not captured: Left fissural loculation has completely resolved\n",
      "** not captured: Mild dextroconvex thoracic curvature is again noted\n",
      "** not captured: Support and monitoring equipment also unchanged\n",
      "** not captured: Remainder of the study is within normal limits\n"
     ]
    }
   ],
   "source": [
    "print_qa_pairs(qa_extractor.generate_qa_pairs('. '.join(unmatched_sentences[0:40]), debug=True))"
   ]
  },
  {
   "cell_type": "code",
   "execution_count": 598,
   "metadata": {
    "scrolled": true
   },
   "outputs": [
    {
     "name": "stdout",
     "output_type": "stream",
     "text": [
      "Loading original reports from /mnt/workspace/iu-x-ray/dataset/reports/reports.json\n",
      "100%|██████████████████████████████████████| 3955/3955 [00:33<00:00, 116.71it/s]\n",
      "Saving qa adapted reports to /home/pamessina/medvqa-workspace/cache/iuxray/qa_adapted_reports.json\n",
      "Done!\n"
     ]
    }
   ],
   "source": [
    "!python ../iuxray/generate_qa_pairs_from_reports.py"
   ]
  },
  {
   "cell_type": "code",
   "execution_count": 599,
   "metadata": {
    "scrolled": false
   },
   "outputs": [
    {
     "name": "stdout",
     "output_type": "stream",
     "text": [
      "Processing MIMIC-CXR's original reports ...\n",
      "147368it [29:05, 89.04it/s] "
     ]
    },
    {
     "name": "stderr",
     "output_type": "stream",
     "text": [
      "IOPub message rate exceeded.\n",
      "The notebook server will temporarily stop sending output\n",
      "to the client in order to avoid crashing it.\n",
      "To change this limit, set the config variable\n",
      "`--NotebookApp.iopub_msg_rate_limit`.\n",
      "\n",
      "Current values:\n",
      "NotebookApp.iopub_msg_rate_limit=1000.0 (msgs/sec)\n",
      "NotebookApp.rate_limit_window=3.0 (secs)\n",
      "\n"
     ]
    }
   ],
   "source": [
    "!python ../mimiccxr/generate_qa_pairs_from_reports.py"
   ]
  },
  {
   "cell_type": "markdown",
   "metadata": {},
   "source": [
    "## Generate summary file"
   ]
  },
  {
   "cell_type": "code",
   "execution_count": 601,
   "metadata": {},
   "outputs": [],
   "source": [
    "from medvqa.datasets.iuxray import IUXRAY_QA_ADAPTED_REPORTS_JSON_PATH\n",
    "from medvqa.datasets.mimiccxr import MIMICCXR_QA_ADAPTED_REPORTS_JSON_PATH\n",
    "from medvqa.utils.files import load_json_file"
   ]
  },
  {
   "cell_type": "code",
   "execution_count": 602,
   "metadata": {},
   "outputs": [],
   "source": [
    "iuxray_qa_adapted_reports = load_json_file(IUXRAY_QA_ADAPTED_REPORTS_JSON_PATH)"
   ]
  },
  {
   "cell_type": "code",
   "execution_count": 603,
   "metadata": {},
   "outputs": [],
   "source": [
    "mimiccxr_qa_adapted_reports = load_json_file(MIMICCXR_QA_ADAPTED_REPORTS_JSON_PATH)"
   ]
  },
  {
   "cell_type": "code",
   "execution_count": 607,
   "metadata": {},
   "outputs": [
    {
     "data": {
      "text/plain": [
       "(91, 3927)"
      ]
     },
     "execution_count": 607,
     "metadata": {},
     "output_type": "execute_result"
    }
   ],
   "source": [
    "len(iuxray_qa_adapted_reports['questions']), len(iuxray_qa_adapted_reports['reports'])"
   ]
  },
  {
   "cell_type": "code",
   "execution_count": 608,
   "metadata": {},
   "outputs": [
    {
     "data": {
      "text/plain": [
       "(91, 227835)"
      ]
     },
     "execution_count": 608,
     "metadata": {},
     "output_type": "execute_result"
    }
   ],
   "source": [
    "len(mimiccxr_qa_adapted_reports['questions']), len(mimiccxr_qa_adapted_reports['reports'])"
   ]
  },
  {
   "cell_type": "code",
   "execution_count": 609,
   "metadata": {},
   "outputs": [
    {
     "data": {
      "text/plain": [
       "{'sentences': ['The cardiomediastinal silhouette is within normal limits for size and contour',\n",
       "  'The lungs are normally inflated without evidence of focal airspace disease , pleural effusion , or pneumothorax',\n",
       "  'Stable calcified granuloma within the right upper lung',\n",
       "  'No acute bone abnormality , No acute cardiopulmonary process'],\n",
       " 'invalid': [],\n",
       " 'unmatched': [],\n",
       " 'matched': [0, 1, 2, 3],\n",
       " 'qa': {'73': [0],\n",
       "  '81': [0],\n",
       "  '80': [1, 2, 3],\n",
       "  '52': [1],\n",
       "  '57': [1],\n",
       "  '4': [1],\n",
       "  '20': [2],\n",
       "  '36': [2],\n",
       "  '78': [3],\n",
       "  '14': [3]},\n",
       " 'filename': '10.xml'}"
      ]
     },
     "execution_count": 609,
     "metadata": {},
     "output_type": "execute_result"
    }
   ],
   "source": [
    "iuxray_qa_adapted_reports['reports'][1]"
   ]
  },
  {
   "cell_type": "code",
   "execution_count": 614,
   "metadata": {},
   "outputs": [],
   "source": [
    "def generate_summary_file(dataset, k, kk, output_filename):\n",
    "    \n",
    "    q2a = [[] for _ in range(len(dataset['questions']))]\n",
    "    n_invalid = 0\n",
    "    unmatched_sentences = []\n",
    "    for ri, report in enumerate(dataset['reports']):\n",
    "        s = report['sentences']\n",
    "        for q_idx, a_idxs in report['qa'].items():\n",
    "            q_idx = int(q_idx)\n",
    "            a_len = sum(len(s[i]) for i in a_idxs)\n",
    "            q2a[q_idx].append((a_len, ri))\n",
    "        n_invalid += len(report['invalid'])\n",
    "        unmatched_sentences.extend(s[i] for i in report['unmatched'])\n",
    "            \n",
    "    sorted_questions = sorted([(len(a), i) for i,a in enumerate(q2a)], reverse=True)    \n",
    "    \n",
    "    with open(f'./{output_filename}', 'w') as file:\n",
    "        file.write('Preguntas ordenadas por frecuencia (decreciente)\\n\\n')\n",
    "        for f, q in sorted_questions:\n",
    "            file.write('%d, %s\\n' % (f, dataset['questions'][q]))\n",
    "        file.write('\\n')\n",
    "        file.write('Ejemplos de respuestas por pregunta:')\n",
    "        for i,(_,q) in enumerate(sorted_questions):\n",
    "            answers = q2a[q]\n",
    "            answers.sort()            \n",
    "            tmp = []\n",
    "            for _, a in answers:\n",
    "                report = dataset['reports'][a]\n",
    "                sentences = report['sentences']\n",
    "                a_idxs = report['qa'][str(q)]\n",
    "                answer = '. '.join(sentences[i] for i in a_idxs)\n",
    "                tmp.append(answer)\n",
    "            answers = tmp            \n",
    "            n = len(answers)\n",
    "            print(\"n=%d, %s\" % (n, dataset['questions'][q]))\n",
    "            if n > k:\n",
    "                sample = []\n",
    "                for j in range(k):\n",
    "                    sample.append(answers[random.randint(int(n*j/k), int(n*(j+1)/k)-1)])\n",
    "            else:\n",
    "                sample = answers\n",
    "            file.write('\\n\\n%d) %s:\\n\\n' % (i+1, dataset['questions'][q]))\n",
    "            for a in sample:\n",
    "                file.write('    A: %s\\n' % a)\n",
    "        file.write('\\n\\nTotal oraciones inválidas: %d\\n' % n_invalid)\n",
    "        file.write('Total oraciones sin match: %d\\n' % len(unmatched_sentences))\n",
    "        file.write('\\n\\nEjemplos de oraciones válidas que no hicieron match con ninguna pregunta\\n\\n')\n",
    "        unmatched_sentences = list(set(unmatched_sentences))\n",
    "        unmatched_sentences.sort(key=lambda s:len(s))\n",
    "        nn = len(unmatched_sentences)\n",
    "        for j in range(kk):\n",
    "            file.write('    %s\\n' % unmatched_sentences[random.randint(int(nn*j/kk), int(nn*(j+1)/kk)-1)])"
   ]
  },
  {
   "cell_type": "code",
   "execution_count": 615,
   "metadata": {},
   "outputs": [
    {
     "name": "stdout",
     "output_type": "stream",
     "text": [
      "n=3484, what about the lungs?\n",
      "n=3342, what about the heart?\n",
      "n=3053, what about pleural space?\n",
      "n=2688, what about pneumothorax?\n",
      "n=2346, what about the mediastinum?\n",
      "n=1939, what about bones?\n",
      "n=1224, what about consolidation?\n",
      "n=1180, what about the cardiac silhouette?\n",
      "n=790, what about pulmonary vascularity?\n",
      "n=714, what about opacities?\n",
      "n=546, what about air space disease?\n",
      "n=540, what about calcification?\n",
      "n=531, what about support devices and foreign bodies?\n",
      "n=435, what about granumola?\n",
      "n=414, what about infiltrate?\n",
      "n=389, what about thoracic aorta?\n",
      "n=360, what about atelectasis?\n",
      "n=348, what about edema?\n",
      "n=330, what about tubes and lines?\n",
      "n=328, what about nodules?\n",
      "n=303, what about cardiomegaly?\n",
      "n=257, what about pneumonia?\n",
      "n=239, what about the diaphragm?\n",
      "n=223, what about tortuosity?\n",
      "n=220, what about surgery?\n",
      "n=207, what about scarring?\n",
      "n=207, what about pulmonary hila?\n",
      "n=192, what about fractures?\n",
      "n=190, what about the ribs?\n",
      "n=182, what about masses?\n",
      "n=158, what about interstitial lung disease?\n",
      "n=144, what about prominence?\n",
      "n=139, what about soft tissue?\n",
      "n=135, what about densities?\n",
      "n=122, what about emphysema?\n",
      "n=109, what about the trachea?\n",
      "n=108, what about the apical zone?\n",
      "n=98, what about adenopathy?\n",
      "n=97, what about the bronchus?\n",
      "n=88, what about markings?\n",
      "n=82, what about bronchovascular crowding?\n",
      "n=75, what about fluid?\n",
      "n=64, what about free air?\n",
      "n=57, what about lesions?\n",
      "n=53, what about hernias?\n",
      "n=48, what about lung parenchyma?\n",
      "n=46, what about vena cava?\n",
      "n=43, what about COPD?\n",
      "n=41, what about lucencies?\n",
      "n=36, what about cancer or tumor?\n",
      "n=28, what about airways?\n",
      "n=24, what about sulci?\n",
      "n=19, what about fissures?\n",
      "n=19, what about congestive heart failure CHF?\n",
      "n=18, what about the stomach?\n",
      "n=15, what about lymph nodes?\n",
      "n=13, what about aspiration?\n",
      "n=13, what about air collections?\n",
      "n=12, what about shadow?\n",
      "n=11, what about pneumoperitoneum?\n",
      "n=11, what about bullae and blebs?\n",
      "n=10, what about trauma?\n",
      "n=10, what about sarcoidosis?\n",
      "n=9, what about the carina?\n",
      "n=9, what about the bowel?\n",
      "n=8, what about pneumomediastinum?\n",
      "n=8, what about contrast?\n",
      "n=8, what about bowel obstruction and loops?\n",
      "n=8, what about air-fluid level?\n",
      "n=7, what about the colon?\n",
      "n=5, what about the esophagus?\n",
      "n=5, what about peribronchial cuffing?\n",
      "n=5, what about bronchiectasis?\n",
      "n=3, what about the liver?\n",
      "n=3, what about gas distension?\n",
      "n=3, what about abscess and cavitation?\n",
      "n=2, what about the thyroid?\n",
      "n=2, what about tendon?\n",
      "n=2, what about ossification?\n",
      "n=2, what about haze?\n",
      "n=2, what about azygos lobe?\n",
      "n=1, what about pneumatocele?\n",
      "n=1, what about kerley lines?\n",
      "n=1, what about cholelithiasis?\n",
      "n=1, what about azygos vein?\n",
      "n=0, what about sagittal chest?\n",
      "n=0, what about fluid overload?\n",
      "n=0, what about bronchogram?\n",
      "n=0, what about blurring?\n",
      "n=0, what about bleeding?\n",
      "n=0, what about ascites?\n"
     ]
    }
   ],
   "source": [
    "generate_summary_file(iuxray_qa_adapted_reports, 10, 120, 'iuxray_qa_dataset_summary_file.txt')"
   ]
  },
  {
   "cell_type": "code",
   "execution_count": 616,
   "metadata": {
    "scrolled": false
   },
   "outputs": [
    {
     "name": "stdout",
     "output_type": "stream",
     "text": [
      "n=189851, what about the lungs?\n",
      "n=184337, what about pleural space?\n",
      "n=144696, what about pneumothorax?\n",
      "n=129067, what about the heart?\n",
      "n=117642, what about the mediastinum?\n",
      "n=108540, what about support devices and foreign bodies?\n",
      "n=98366, what about the cardiac silhouette?\n",
      "n=88360, what about tubes and lines?\n",
      "n=72995, what about bones?\n",
      "n=69614, what about opacities?\n",
      "n=69547, what about consolidation?\n",
      "n=69038, what about atelectasis?\n",
      "n=65557, what about edema?\n",
      "n=54184, what about pulmonary hila?\n",
      "n=52975, what about pneumonia?\n",
      "n=52167, what about pulmonary vascularity?\n",
      "n=31834, what about cardiomegaly?\n",
      "n=28107, what about surgery?\n",
      "n=25554, what about the diaphragm?\n",
      "n=22225, what about thoracic aorta?\n",
      "n=20327, what about vena cava?\n",
      "n=17063, what about the stomach?\n",
      "n=16217, what about the trachea?\n",
      "n=14343, what about calcification?\n",
      "n=14053, what about the apical zone?\n",
      "n=13651, what about fractures?\n",
      "n=11898, what about the carina?\n",
      "n=11572, what about lung parenchyma?\n",
      "n=11231, what about the ribs?\n",
      "n=11120, what about tortuosity?\n",
      "n=10731, what about prominence?\n",
      "n=9573, what about free air?\n",
      "n=9314, what about interstitial lung disease?\n",
      "n=9204, what about fluid?\n",
      "n=8737, what about the bronchus?\n",
      "n=8339, what about aspiration?\n",
      "n=7628, what about scarring?\n",
      "n=6995, what about densities?\n",
      "n=6907, what about nodules?\n",
      "n=5505, what about emphysema?\n",
      "n=5379, what about congestive heart failure CHF?\n",
      "n=5378, what about markings?\n",
      "n=4794, what about infiltrate?\n",
      "n=4601, what about the esophagus?\n",
      "n=4071, what about masses?\n",
      "n=4016, what about soft tissue?\n",
      "n=3757, what about lesions?\n",
      "n=3282, what about bronchovascular crowding?\n",
      "n=3031, what about fluid overload?\n",
      "n=2995, what about hernias?\n",
      "n=2981, what about haze?\n",
      "n=2977, what about gas distension?\n",
      "n=2835, what about cancer or tumor?\n",
      "n=2429, what about adenopathy?\n",
      "n=2391, what about COPD?\n",
      "n=2189, what about granumola?\n",
      "n=2184, what about fissures?\n",
      "n=1908, what about lucencies?\n",
      "n=1891, what about air collections?\n",
      "n=1799, what about bleeding?\n",
      "n=1693, what about pneumomediastinum?\n",
      "n=1293, what about the bowel?\n",
      "n=1191, what about shadow?\n",
      "n=1148, what about lymph nodes?\n",
      "n=1039, what about bronchogram?\n",
      "n=1015, what about the thyroid?\n",
      "n=1013, what about trauma?\n",
      "n=989, what about peribronchial cuffing?\n",
      "n=935, what about pneumoperitoneum?\n",
      "n=903, what about airways?\n",
      "n=895, what about bowel obstruction and loops?\n",
      "n=882, what about sulci?\n",
      "n=841, what about bronchiectasis?\n",
      "n=716, what about air-fluid level?\n",
      "n=615, what about azygos vein?\n",
      "n=540, what about contrast?\n",
      "n=534, what about the colon?\n",
      "n=530, what about air space disease?\n",
      "n=478, what about abscess and cavitation?\n",
      "n=450, what about bullae and blebs?\n",
      "n=311, what about sarcoidosis?\n",
      "n=304, what about the liver?\n",
      "n=264, what about blurring?\n",
      "n=251, what about kerley lines?\n",
      "n=162, what about azygos lobe?\n",
      "n=104, what about ascites?\n",
      "n=75, what about ossification?\n",
      "n=60, what about pneumatocele?\n",
      "n=42, what about tendon?\n",
      "n=16, what about cholelithiasis?\n",
      "n=10, what about sagittal chest?\n"
     ]
    }
   ],
   "source": [
    "generate_summary_file(mimiccxr_qa_adapted_reports, 10, 120, 'mimiccxr_qa_dataset_summary_file.txt')"
   ]
  }
 ],
 "metadata": {
  "celltoolbar": "Raw Cell Format",
  "kernelspec": {
   "display_name": "Python 3",
   "language": "python",
   "name": "python3"
  },
  "language_info": {
   "codemirror_mode": {
    "name": "ipython",
    "version": 3
   },
   "file_extension": ".py",
   "mimetype": "text/x-python",
   "name": "python",
   "nbconvert_exporter": "python",
   "pygments_lexer": "ipython3",
   "version": "3.6.9"
  }
 },
 "nbformat": 4,
 "nbformat_minor": 4
}
