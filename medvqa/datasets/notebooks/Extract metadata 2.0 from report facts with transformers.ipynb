{
 "cells": [
  {
   "cell_type": "code",
   "execution_count": 1,
   "id": "2ffa899a",
   "metadata": {},
   "outputs": [
    {
     "name": "stdout",
     "output_type": "stream",
     "text": [
      "env: CUDA_VISIBLE_DEVICES=0\n"
     ]
    }
   ],
   "source": [
    "%env CUDA_VISIBLE_DEVICES=0"
   ]
  },
  {
   "cell_type": "code",
   "execution_count": 4,
   "id": "56af0386",
   "metadata": {
    "scrolled": true
   },
   "outputs": [
    {
     "name": "stdout",
     "output_type": "stream",
     "text": [
      "2025-01-06 09:21:14,420 - \u001b[1;32mINFO\u001b[1;0m - Loading preprocessed facts to skip from /mnt/data/pamessina_folder_backup_15_10_24/pamessina/medvqa-workspace/cache/mimiccxr/openai/gpt-4o-mini_fact_to_metadata.jsonl\n",
      "2025-01-06 09:21:18,436 - \u001b[1;32mINFO\u001b[1;0m - Loaded 400982 facts to skip\n",
      "2025-01-06 09:21:18,705 - \u001b[1;32mINFO\u001b[1;0m - Total number of facts to skip: 400982\n",
      "2025-01-06 09:21:18,706 - \u001b[1;32mINFO\u001b[1;0m - Loading facts from /home/pamessina/medvqa-workspace/cache/mimiccxr/integrated_sentence_facts(59349684,50956825).jsonl\n",
      "2025-01-06 09:21:25,808 - \u001b[1;32mINFO\u001b[1;0m - Found 190938 facts to process\n",
      "2025-01-06 09:21:25,822 - \u001b[1;32mINFO\u001b[1;0m - Example facts to process:\n",
      "2025-01-06 09:21:25,829 - \u001b[1;32mINFO\u001b[1;0m - 39274: ill-defined lower lobe opacification on the lateral\n",
      "2025-01-06 09:21:25,829 - \u001b[1;32mINFO\u001b[1;0m - 14545: ET tube tip should be retracted 2 cm\n",
      "2025-01-06 09:21:25,829 - \u001b[1;32mINFO\u001b[1;0m - 137577: persistent pneumonia in the right lower lung\n",
      "2025-01-06 09:21:25,829 - \u001b[1;32mINFO\u001b[1;0m - 89663: suggestion for followup studies\n",
      "2025-01-06 09:21:25,829 - \u001b[1;32mINFO\u001b[1;0m - 103804: position of the patient\n",
      "2025-01-06 09:21:25,829 - \u001b[1;32mINFO\u001b[1;0m - 135786: opacity reflecting multifocal pneumonia\n",
      "2025-01-06 09:21:25,829 - \u001b[1;32mINFO\u001b[1;0m - 99921: underlying COPD\n",
      "2025-01-06 09:21:25,829 - \u001b[1;32mINFO\u001b[1;0m - 103558: concern for atelectasis in the retrocardiac region\n",
      "2025-01-06 09:21:25,829 - \u001b[1;32mINFO\u001b[1;0m - 114767: no large pleural fluid collection\n",
      "2025-01-06 09:21:25,829 - \u001b[1;32mINFO\u001b[1;0m - 158302: substantial pleural effusion in the left lower lung\n",
      "2025-01-06 09:21:25,829 - \u001b[1;32mINFO\u001b[1;0m - Example sentences to process:\n",
      "2025-01-06 09:21:25,835 - \u001b[1;32mINFO\u001b[1;0m - 53577: opacity suggestive of aspiration\n",
      "2025-01-06 09:21:25,835 - \u001b[1;32mINFO\u001b[1;0m - 167115: new left upper lobe opacity concerning for pneumonia\n",
      "2025-01-06 09:21:25,835 - \u001b[1;32mINFO\u001b[1;0m - 106714: nasogastric tube tip in the distal esophagus\n",
      "2025-01-06 09:21:25,835 - \u001b[1;32mINFO\u001b[1;0m - 10497: small pleural effusions not apparent\n",
      "2025-01-06 09:21:25,835 - \u001b[1;32mINFO\u001b[1;0m - 16494: better seen lesion on the prior chest CT\n",
      "2025-01-06 09:21:25,835 - \u001b[1;32mINFO\u001b[1;0m - 22959: persistent linear atelectasis in both lung bases\n",
      "2025-01-06 09:21:25,835 - \u001b[1;32mINFO\u001b[1;0m - 75323: multiple focal opacities\n",
      "2025-01-06 09:21:25,835 - \u001b[1;32mINFO\u001b[1;0m - 163546: opacities in the left lower lobe\n",
      "2025-01-06 09:21:25,835 - \u001b[1;32mINFO\u001b[1;0m - 95728: right-sided Port-A-Cath terminating at the cavoatrial junction\n",
      "2025-01-06 09:21:25,836 - \u001b[1;32mINFO\u001b[1;0m - 173997: new opacification at the base of the right hemithorax\n",
      "metadata loaded from /mnt/data/pamessina/workspaces/medvqa-workspace/models/seq2seq/20250105_195544_fact2metadata_v2(F2Mv2)_Seq2Seq(t5-small)/metadata.json\n",
      "2025-01-06 09:21:25,891 - \u001b[1;32mINFO\u001b[1;0m - Creating Seq2SeqModel\n",
      "Seq2Seq model:\n",
      "  model_name: t5-small\n",
      "2025-01-06 09:21:27,473 - \u001b[1;32mINFO\u001b[1;0m - Loading model weights from /mnt/data/pamessina/workspaces/medvqa-workspace/models/seq2seq/20250105_195544_fact2metadata_v2(F2Mv2)_Seq2Seq(t5-small)\n",
      "checkpoint_names = ['checkpoint_200_s2s_loss=0.8827.pt']\n",
      "2025-01-06 09:21:27,473 - \u001b[1;32mINFO\u001b[1;0m - Loading model weights from /mnt/data/pamessina/workspaces/medvqa-workspace/models/seq2seq/20250105_195544_fact2metadata_v2(F2Mv2)_Seq2Seq(t5-small)/checkpoint_200_s2s_loss=0.8827.pt\n",
      "2025-01-06 09:21:27,886 - \u001b[1;32mINFO\u001b[1;0m - Creating tokenizer\n",
      "2025-01-06 09:21:28,145 - \u001b[1;32mINFO\u001b[1;0m - Creating dataloader\n",
      "2025-01-06 09:21:28,145 - \u001b[1;32mINFO\u001b[1;0m - Running inference\n",
      "  0%|                                                   | 0/764 [00:00<?, ?it/s]2025-01-06 09:21:31,484 - \u001b[1;32mINFO\u001b[1;0m - Processed 1 sentences\n",
      "2025-01-06 09:21:31,484 - \u001b[1;32mINFO\u001b[1;0m - Example output:\n",
      "2025-01-06 09:21:31,484 - \u001b[1;32mINFO\u001b[1;0m - {'fact': 'known pleural metastatic foci', 'metadata': {'reason': 'The statement indicates the presence of metastatic foci in the pleura, which is a significant finding in a radiology report. This suggests the presence of cancer spread to the pleura, which can be visually observed on imaging. Therefore, it is categorized as a major abnormality.', 'too_noisy_or_irrelevant': 'no', 'visually_observable': 'yes', 'category': 'disease', 'abnormality_status': 'major abnormality', 'anatomical_location': 'pleura', 'general_observation': 'pleural metastatic foci'}}\n",
      "  2%|█                                         | 19/764 [00:34<21:28,  1.73s/it]2025-01-06 09:22:05,932 - \u001b[1;32mINFO\u001b[1;0m - Processed 5001 sentences\n",
      "2025-01-06 09:22:05,932 - \u001b[1;32mINFO\u001b[1;0m - Example output:\n",
      "2025-01-06 09:22:05,933 - \u001b[1;32mINFO\u001b[1;0m - {'fact': 'focal opacity at the right medial base', 'metadata': {'reason': 'The statement describes a specific finding on a chest X-ray, indicating an area of increased density or opacity. This suggests a potential abnormality that can be visually observed. The location is specified as the right medial base.', 'too_noisy_or_irrelevant': 'no', 'visually_observable': 'yes', 'category': 'anatomical finding', 'abnormality_status': 'partial or minor abnormality', 'anatomical_location': 'right medial base', 'general_observation': 'focal opacity'}}\n",
      "  5%|██▏                                       | 39/764 [01:09<21:12,  1.76s/it]2025-01-06 09:22:40,985 - \u001b[1;32mINFO\u001b[1;0m - Processed 10001 sentences\n",
      "2025-01-06 09:22:40,985 - \u001b[1;32mINFO\u001b[1;0m - Example output:\n",
      "2025-01-06 09:22:40,985 - \u001b[1;32mINFO\u001b[1;0m - {'fact': 'right Port-A-Cath is unchanged', 'metadata': {'reason': 'The statement indicates that the Port-A-Cath, which is a type of device used for long-term intravenous access, has not changed. This is a relevant observation in a radiology report regarding the status of a medical device.', 'too_noisy_or_irrelevant': 'no', 'visually_observable': 'yes', 'category': 'device', 'abnormality_status': 'does not apply', 'anatomical_location': 'right side', 'general_observation': 'Port-A-Cath is unchanged'}}\n",
      "  8%|███▏                                      | 59/764 [01:44<20:42,  1.76s/it]2025-01-06 09:23:15,956 - \u001b[1;32mINFO\u001b[1;0m - Processed 15001 sentences\n",
      "2025-01-06 09:23:15,956 - \u001b[1;32mINFO\u001b[1;0m - Example output:\n",
      "2025-01-06 09:23:15,956 - \u001b[1;32mINFO\u001b[1;0m - {'fact': 'obscuration due to fat pad', 'metadata': {'reason': \"The statement indicates an observation related to the presence of a fat pad, which can obscure the appearance of structures on a chest X-ray. This suggests a potential anatomical finding that may be visually assessed. The term 'obscuration' implies that there is an abnormality present.\", 'too_noisy_or_irrelevant': 'no', 'visually_observable': 'yes', 'category': 'anatomical finding', 'abnormality_status': 'partial or minor abnormality', 'anatomical_location': 'does not apply', 'general_observation': 'obscuration due to fat pad'}}\n",
      "100%|█████████████████████████████████████████| 764/764 [22:28<00:00,  1.76s/it]\n",
      "2025-01-06 09:43:56,372 - \u001b[1;32mINFO\u001b[1;0m - Successfully processed 190938 sentences\n",
      "2025-01-06 09:43:56,372 - \u001b[1;32mINFO\u001b[1;0m - Example output:\n",
      "2025-01-06 09:43:56,372 - \u001b[1;32mINFO\u001b[1;0m - {'fact': 'pacer lead tip in a standard position in the right ventricle', 'metadata': {'reason': 'The statement describes the position of a pacemaker lead, which is a medical device used to regulate heartbeats. This observation can be visually confirmed on a chest X-ray. The anatomical location is specified as the right ventricle.', 'too_noisy_or_irrelevant': 'no', 'visually_observable': 'yes', 'category': 'device', 'abnormality_status': 'does not apply', 'anatomical_location': 'right ventricle', 'general_observation': 'pacer lead tip in standard position'}}\n",
      "2025-01-06 09:43:56,372 - \u001b[1;32mINFO\u001b[1;0m - Saving outputs to /home/pamessina/medvqa-workspace/cache/mimiccxr/huggingface/extracted_metadata_v2_Seq2Seq(t5-small)_250_1_20250106_094356.jsonl\n",
      "2025-01-06 09:43:58,633 - \u001b[1;32mINFO\u001b[1;0m - DONE\n"
     ]
    }
   ],
   "source": [
    "!python ../../scripts/mimiccxr/extract_metadata_from_facts_with_transformer_v2.py \\\n",
    "--preprocessed_facts_to_skip_filepaths \\\n",
    "\"/mnt/data/pamessina_folder_backup_15_10_24/pamessina/medvqa-workspace/cache/mimiccxr/openai/gpt-4o-mini_fact_to_metadata.jsonl\" \\\n",
    "--extracted_facts_jsonl_filepath \\\n",
    "\"/home/pamessina/medvqa-workspace/cache/mimiccxr/integrated_sentence_facts(59349684,50956825).jsonl\" \\\n",
    "--logging_level \"INFO\" \\\n",
    "--checkpoint_folder_path \\\n",
    "\"/mnt/data/pamessina/workspaces/medvqa-workspace/models/seq2seq/20250105_195544_fact2metadata_v2(F2Mv2)_Seq2Seq(t5-small)\" \\\n",
    "--batch_size 250 \\\n",
    "--num_beams 1 \\\n",
    "--max_length 250 \\\n",
    "--num_workers 4"
   ]
  },
  {
   "cell_type": "code",
   "execution_count": 2,
   "id": "e24af43d",
   "metadata": {},
   "outputs": [],
   "source": [
    "from medvqa.utils.files import load_jsonl"
   ]
  },
  {
   "cell_type": "code",
   "execution_count": 6,
   "id": "2cfc108a",
   "metadata": {},
   "outputs": [],
   "source": [
    "metadata_from_t5 = load_jsonl('/home/pamessina/medvqa-workspace/cache/mimiccxr/huggingface/extracted_metadata_v2_Seq2Seq(t5-small)_250_1_20250106_094356.jsonl')"
   ]
  },
  {
   "cell_type": "code",
   "execution_count": 7,
   "id": "acf7f90a",
   "metadata": {},
   "outputs": [
    {
     "data": {
      "text/plain": [
       "190938"
      ]
     },
     "execution_count": 7,
     "metadata": {},
     "output_type": "execute_result"
    }
   ],
   "source": [
    "len(metadata_from_t5)"
   ]
  },
  {
   "cell_type": "code",
   "execution_count": 22,
   "id": "1c0cd86b",
   "metadata": {},
   "outputs": [
    {
     "data": {
      "text/plain": [
       "{'fact': 'pacer lead tip in a standard position in the right ventricle',\n",
       " 'metadata': {'reason': 'The statement describes the position of a pacemaker lead, which is a medical device used to regulate heartbeats. This observation can be visually confirmed on a chest X-ray. The anatomical location is specified as the right ventricle.',\n",
       "  'too_noisy_or_irrelevant': 'no',\n",
       "  'visually_observable': 'yes',\n",
       "  'category': 'device',\n",
       "  'abnormality_status': 'does not apply',\n",
       "  'anatomical_location': 'right ventricle',\n",
       "  'general_observation': 'pacer lead tip in standard position'}}"
      ]
     },
     "execution_count": 22,
     "metadata": {},
     "output_type": "execute_result"
    }
   ],
   "source": [
    "metadata_from_t5[-1]"
   ]
  },
  {
   "cell_type": "code",
   "execution_count": 23,
   "id": "831f7179",
   "metadata": {},
   "outputs": [
    {
     "name": "stdout",
     "output_type": "stream",
     "text": [
      "Loading extracted metadata from /mnt/data/pamessina_folder_backup_15_10_24/pamessina/medvqa-workspace/cache/mimiccxr/openai/gpt-4o-mini_fact_to_metadata.jsonl...\n",
      "100%|███████████████████████████████| 400982/400982 [00:01<00:00, 226443.00it/s]\n",
      "Loading extracted metadata from /home/pamessina/medvqa-workspace/cache/mimiccxr/huggingface/extracted_metadata_v2_Seq2Seq(t5-small)_250_1_20250106_094356.jsonl...\n",
      "100%|███████████████████████████████| 190938/190938 [00:00<00:00, 350972.42it/s]\n",
      "2025-01-06 11:11:23,987 - \u001b[1;32mINFO\u001b[1;0m - Total number of metadata rows: 591920\n",
      "2025-01-06 11:11:23,987 - \u001b[1;32mINFO\u001b[1;0m - Total length of metadata: 209004293\n",
      "2025-01-06 11:11:29,667 - \u001b[1;32mINFO\u001b[1;0m - Saved fact metadata to /home/pamessina/medvqa-workspace/cache/mimiccxr/huggingface/integrated_fact_metadata(591920,209004293).jsonl\n"
     ]
    }
   ],
   "source": [
    "!python ../../scripts/mimiccxr/extract_metadata_from_facts_with_transformer_v2.py \\\n",
    "--integrate_metadata_files \\\n",
    "--metadata_jsonl_filepaths_to_integrate \\\n",
    "\"/mnt/data/pamessina_folder_backup_15_10_24/pamessina/medvqa-workspace/cache/mimiccxr/openai/gpt-4o-mini_fact_to_metadata.jsonl\" \\\n",
    "\"/home/pamessina/medvqa-workspace/cache/mimiccxr/huggingface/extracted_metadata_v2_Seq2Seq(t5-small)_250_1_20250106_094356.jsonl\" \\\n",
    "--metadata_extraction_methods \\\n",
    "\"gpt-4o-mini\" \\\n",
    "\"t5-small-finetuned\""
   ]
  },
  {
   "cell_type": "code",
   "execution_count": 1,
   "id": "c9a31bd4",
   "metadata": {
    "scrolled": true
   },
   "outputs": [
    {
     "name": "stdout",
     "output_type": "stream",
     "text": [
      "2025-01-29 20:10:31,941 - \u001b[1;32mINFO\u001b[1;0m - Loading preprocessed facts to skip from /mnt/data/pamessina_folder_backup_15_10_24/pamessina/medvqa-workspace/cache/mimiccxr/openai/gpt-4o-mini_fact_to_metadata.jsonl\n",
      "2025-01-29 20:10:36,066 - \u001b[1;32mINFO\u001b[1;0m - Loaded 400982 facts to skip\n",
      "2025-01-29 20:10:36,340 - \u001b[1;32mINFO\u001b[1;0m - Total number of facts to skip: 400982\n",
      "2025-01-29 20:10:36,340 - \u001b[1;32mINFO\u001b[1;0m - Loading facts from /home/pamessina/medvqa-workspace/cache/mimiccxr/integrated_sentence_facts(58655550,50990861).jsonl\n",
      "2025-01-29 20:10:43,573 - \u001b[1;32mINFO\u001b[1;0m - Found 318190 facts to process\n",
      "2025-01-29 20:10:43,600 - \u001b[1;32mINFO\u001b[1;0m - Example facts to process:\n",
      "2025-01-29 20:10:43,610 - \u001b[1;32mINFO\u001b[1;0m - 240899: asymmetry likely due to superimposed edema\n",
      "2025-01-29 20:10:43,610 - \u001b[1;32mINFO\u001b[1;0m - 292796: lack of clear correlate on the frontal view\n",
      "2025-01-29 20:10:43,610 - \u001b[1;32mINFO\u001b[1;0m - 87493: VP shunt in the abdomen\n",
      "2025-01-29 20:10:43,610 - \u001b[1;32mINFO\u001b[1;0m - 82123: course of the pump is unremarkable\n",
      "2025-01-29 20:10:43,610 - \u001b[1;32mINFO\u001b[1;0m - 176317: opacity at the right base is likely not significantly changed\n",
      "2025-01-29 20:10:43,611 - \u001b[1;32mINFO\u001b[1;0m - 193532: multifocal regions of consolidation in the left lower lobe\n",
      "2025-01-29 20:10:43,611 - \u001b[1;32mINFO\u001b[1;0m - 184068: opacity in the left midlung is similar in appearance to previous\n",
      "2025-01-29 20:10:43,611 - \u001b[1;32mINFO\u001b[1;0m - 16753: increased consolidations on the left\n",
      "2025-01-29 20:10:43,611 - \u001b[1;32mINFO\u001b[1;0m - 167511: consider echocardiogram to exclude pericardial effusion\n",
      "2025-01-29 20:10:43,611 - \u001b[1;32mINFO\u001b[1;0m - 296528: presence of diffuse opacities\n",
      "2025-01-29 20:10:43,611 - \u001b[1;32mINFO\u001b[1;0m - Example sentences to process:\n",
      "2025-01-29 20:10:43,621 - \u001b[1;32mINFO\u001b[1;0m - 19327: dual-lead left pectoral pacemaker device in the left transvenous approach\n",
      "2025-01-29 20:10:43,622 - \u001b[1;32mINFO\u001b[1;0m - 262867: lucent line projecting over the left lung apex\n",
      "2025-01-29 20:10:43,622 - \u001b[1;32mINFO\u001b[1;0m - 30517: atelectasis in the left lower lobe remains in differential diagnosis\n",
      "2025-01-29 20:10:43,622 - \u001b[1;32mINFO\u001b[1;0m - 226664: increased right hilar opacity\n",
      "2025-01-29 20:10:43,622 - \u001b[1;32mINFO\u001b[1;0m - 300202: right reticular opacities greater than left\n",
      "2025-01-29 20:10:43,622 - \u001b[1;32mINFO\u001b[1;0m - 17360: possible fracture involving the right seventh lateral rib arch\n",
      "2025-01-29 20:10:43,622 - \u001b[1;32mINFO\u001b[1;0m - 300706: stable pulmonary vasculature\n",
      "2025-01-29 20:10:43,622 - \u001b[1;32mINFO\u001b[1;0m - 201006: similar lung volumes\n",
      "2025-01-29 20:10:43,622 - \u001b[1;32mINFO\u001b[1;0m - 227754: decreased apical pneumothorax\n",
      "2025-01-29 20:10:43,622 - \u001b[1;32mINFO\u001b[1;0m - 296615: bilateral patchy opacities unchanged compared to previous study\n",
      "metadata loaded from /mnt/data/pamessina/workspaces/medvqa-workspace/models/seq2seq/20250105_195544_fact2metadata_v2(F2Mv2)_Seq2Seq(t5-small)/metadata.json\n",
      "2025-01-29 20:10:43,674 - \u001b[1;32mINFO\u001b[1;0m - Creating Seq2SeqModel\n",
      "Seq2Seq model:\n",
      "  model_name: t5-small\n",
      "\u001b[93m\u001b[1mWARNING: unused kwargs: {'pretrained_checkpoint_folder_path': None}\u001b[0m\n",
      "2025-01-29 20:10:45,927 - \u001b[1;32mINFO\u001b[1;0m - Loading model weights from /mnt/data/pamessina/workspaces/medvqa-workspace/models/seq2seq/20250105_195544_fact2metadata_v2(F2Mv2)_Seq2Seq(t5-small)\n",
      "checkpoint_names = ['checkpoint_200_s2s_loss=0.8827.pt']\n",
      "2025-01-29 20:10:45,927 - \u001b[1;32mINFO\u001b[1;0m - Loading model weights from /mnt/data/pamessina/workspaces/medvqa-workspace/models/seq2seq/20250105_195544_fact2metadata_v2(F2Mv2)_Seq2Seq(t5-small)/checkpoint_200_s2s_loss=0.8827.pt\n",
      "2025-01-29 20:10:46,334 - \u001b[1;32mINFO\u001b[1;0m - Creating tokenizer\n",
      "2025-01-29 20:10:46,620 - \u001b[1;32mINFO\u001b[1;0m - Creating dataloader\n",
      "2025-01-29 20:10:46,620 - \u001b[1;32mINFO\u001b[1;0m - Running inference\n",
      "  0%|                                                  | 0/1273 [00:00<?, ?it/s]2025-01-29 20:10:50,227 - \u001b[1;32mINFO\u001b[1;0m - Processed 1 sentences\n",
      "2025-01-29 20:10:50,227 - \u001b[1;32mINFO\u001b[1;0m - Example output:\n",
      "2025-01-29 20:10:50,227 - \u001b[1;32mINFO\u001b[1;0m - {'fact': 'hazy opacity in the left lung', 'metadata': {'reason': 'The statement describes a specific finding on a chest X-ray, indicating an abnormality in the left lung. Hazy opacity suggests the presence of fluid, infection, or other pathological processes. This observation is visually identifiable on the imaging.', 'too_noisy_or_irrelevant': 'no', 'visually_observable': 'yes', 'category': 'anatomical finding', 'abnormality_status': 'partial or minor abnormality', 'anatomical_location': 'left lung', 'general_observation': 'hazy opacity'}}\n",
      "  1%|▌                                        | 19/1273 [00:34<36:02,  1.72s/it]2025-01-29 20:11:24,591 - \u001b[1;32mINFO\u001b[1;0m - Processed 5001 sentences\n",
      "2025-01-29 20:11:24,591 - \u001b[1;32mINFO\u001b[1;0m - Example output:\n",
      "2025-01-29 20:11:24,591 - \u001b[1;32mINFO\u001b[1;0m - {'fact': 'new left-sided pleural effusion compared to prior chest radiograph', 'metadata': {'reason': 'The statement indicates the presence of a new pleural effusion on the left side, which is a significant finding in a chest X-ray. This suggests a change from a previous radiograph, indicating a potential abnormality. The comparison to a prior radiograph provides context for the observation.', 'too_noisy_or_irrelevant': 'no', 'visually_observable': 'yes', 'category': 'disease', 'abnormality_status': 'major abnormality', 'anatomical_location': 'left side of the chest', 'general_observation': 'new pleural effusion'}}\n",
      "  3%|█▎                                       | 39/1273 [01:08<35:08,  1.71s/it]2025-01-29 20:11:58,989 - \u001b[1;32mINFO\u001b[1;0m - Processed 10001 sentences\n",
      "2025-01-29 20:11:58,989 - \u001b[1;32mINFO\u001b[1;0m - Example output:\n",
      "2025-01-29 20:11:58,989 - \u001b[1;32mINFO\u001b[1;0m - {'fact': 'right basal opacity could represent atelectasis', 'metadata': {'reason': \"The statement describes a potential finding on a chest X-ray, specifically an opacity in the right basal region that may indicate atelectasis. This is a medical observation that can be visually assessed on the imaging. The term 'opacity' suggests an abnormality in the lung area.\", 'too_noisy_or_irrelevant': 'no', 'visually_observable': 'yes', 'category': 'disease', 'abnormality_status': 'partial or minor abnormality', 'anatomical_location': 'right basal region', 'general_observation': 'right basal opacity could represent atelectasis'}}\n",
      "  5%|█▉                                       | 59/1273 [01:43<34:46,  1.72s/it]2025-01-29 20:12:33,403 - \u001b[1;32mINFO\u001b[1;0m - Processed 15001 sentences\n",
      "2025-01-29 20:12:33,403 - \u001b[1;32mINFO\u001b[1;0m - Example output:\n",
      "2025-01-29 20:12:33,403 - \u001b[1;32mINFO\u001b[1;0m - {'fact': 'calcification in the aortic knob', 'metadata': {'reason': 'The statement describes the presence of calcification, which is a specific finding that can be observed on a chest X-ray. It indicates a potential abnormality in the aortic knob area. This finding is relevant for assessing cardiovascular health.', 'too_noisy_or_irrelevant': 'no', 'visually_observable': 'yes', 'category': 'anatomical finding', 'abnormality_status': 'partial or minor abnormality', 'anatomical_location': 'aortic knob', 'general_observation': 'calcification in the aortic knob'}}\n",
      " 91%|███████████████████████████████████▍   | 1157/1273 [34:45<03:49,  1.98s/it]2025-01-29 20:45:35,912 - \u001b[1;33mWARNING\u001b[1;0m - Failed to process output text: \"reason\": \"The statement indicates that there have been no significant changes in the findings observed in a previous radiology report. This suggests stability in the findings over a short period.\", \"too_noisy_or_irrelevant\": \"no\", \"visually_observable\": \"no\", \"category\": \"does not apply\", \"abnormality_status\": \"does not apply\", \"anatomical_location\": \"does not apply\", \"general_observation\": \"findings stable since 3:17 a.m., for sentence: findings not significantly changed since 3:17 a.m., idx: 289518\n",
      "2025-01-29 20:45:35,912 - \u001b[1;33mWARNING\u001b[1;0m - Exception: 'NoneType' object has no attribute 'group'\n",
      "100%|███████████████████████████████████████| 1273/1273 [38:32<00:00,  1.82s/it]\n",
      "2025-01-29 20:49:19,052 - \u001b[1;33mWARNING\u001b[1;0m - Failed to process 1 sentences\n",
      "2025-01-29 20:49:19,052 - \u001b[1;32mINFO\u001b[1;0m - Successfully processed 318189 sentences\n",
      "2025-01-29 20:49:19,052 - \u001b[1;32mINFO\u001b[1;0m - Example output:\n",
      "2025-01-29 20:49:19,052 - \u001b[1;32mINFO\u001b[1;0m - {'fact': 'right lower lobe atelectasis has remained relatively stable', 'metadata': {'reason': \"The statement indicates a finding of atelectasis in the right lower lobe, which is a medical observation that can be assessed visually on a chest X-ray. The term'relatively stable' suggests that there has been no significant change in the condition over time. This information is relevant for monitoring the patient's lung health.\", 'too_noisy_or_irrelevant': 'no', 'visually_observable': 'yes', 'category': 'disease', 'abnormality_status': 'partial or minor abnormality', 'anatomical_location': 'right lower lobe', 'general_observation': 'atelectasis has remained stable'}}\n",
      "2025-01-29 20:49:19,052 - \u001b[1;32mINFO\u001b[1;0m - Saving outputs to /home/pamessina/medvqa-workspace/cache/mimiccxr/huggingface/extracted_metadata_v2_Seq2Seq(t5-small)_250_1_20250129_204919.jsonl\n"
     ]
    },
    {
     "name": "stdout",
     "output_type": "stream",
     "text": [
      "2025-01-29 20:49:23,326 - \u001b[1;32mINFO\u001b[1;0m - Saving unprocessed sentences to /home/pamessina/medvqa-workspace/cache/mimiccxr/huggingface/extracted_metadata_v2_Seq2Seq(t5-small)_250_1_20250129_20491.unprocessed.jsonl\r\n",
      "2025-01-29 20:49:23,326 - \u001b[1;32mINFO\u001b[1;0m - DONE\r\n"
     ]
    }
   ],
   "source": [
    "!python ../../scripts/mimiccxr/extract_metadata_from_facts_with_transformer_v2.py \\\n",
    "--preprocessed_facts_to_skip_filepaths \\\n",
    "\"/mnt/data/pamessina_folder_backup_15_10_24/pamessina/medvqa-workspace/cache/mimiccxr/openai/gpt-4o-mini_fact_to_metadata.jsonl\" \\\n",
    "--extracted_facts_jsonl_filepath \\\n",
    "\"/home/pamessina/medvqa-workspace/cache/mimiccxr/integrated_sentence_facts(58655550,50990861).jsonl\" \\\n",
    "--logging_level \"INFO\" \\\n",
    "--checkpoint_folder_path \\\n",
    "\"/mnt/data/pamessina/workspaces/medvqa-workspace/models/seq2seq/20250105_195544_fact2metadata_v2(F2Mv2)_Seq2Seq(t5-small)\" \\\n",
    "--batch_size 250 \\\n",
    "--num_beams 1 \\\n",
    "--max_length 250 \\\n",
    "--num_workers 4"
   ]
  },
  {
   "cell_type": "code",
   "execution_count": 8,
   "id": "3a3fbbfa",
   "metadata": {
    "scrolled": true
   },
   "outputs": [
    {
     "name": "stdout",
     "output_type": "stream",
     "text": [
      "2025-01-29 23:41:13,106 - \u001b[1;32mINFO\u001b[1;0m - Loading preprocessed facts to skip from /mnt/data/pamessina_folder_backup_15_10_24/pamessina/medvqa-workspace/cache/mimiccxr/openai/gpt-4o-mini_fact_to_metadata.jsonl\n",
      "2025-01-29 23:41:17,147 - \u001b[1;32mINFO\u001b[1;0m - Loaded 400982 facts to skip\n",
      "2025-01-29 23:41:17,425 - \u001b[1;32mINFO\u001b[1;0m - Total number of facts to skip: 400982\n",
      "2025-01-29 23:41:17,425 - \u001b[1;32mINFO\u001b[1;0m - Loading preprocessed facts to skip from /home/pamessina/medvqa-workspace/cache/mimiccxr/huggingface/extracted_metadata_v2_Seq2Seq(t5-small)_250_1_20250129_204919.jsonl\n",
      "2025-01-29 23:41:21,119 - \u001b[1;32mINFO\u001b[1;0m - Loaded 318189 facts to skip\n",
      "2025-01-29 23:41:21,318 - \u001b[1;32mINFO\u001b[1;0m - Total number of facts to skip: 719171\n",
      "2025-01-29 23:41:21,318 - \u001b[1;32mINFO\u001b[1;0m - Loading facts from /home/pamessina/medvqa-workspace/cache/mimiccxr/integrated_sentence_facts(58655550,50990861).jsonl\n",
      "2025-01-29 23:41:27,534 - \u001b[1;32mINFO\u001b[1;0m - Found 1 facts to process\n",
      "2025-01-29 23:41:27,535 - \u001b[1;32mINFO\u001b[1;0m - Example facts to process:\n",
      "2025-01-29 23:41:27,535 - \u001b[1;32mINFO\u001b[1;0m - 0: findings not significantly changed since 3:17 a.m.\n",
      "2025-01-29 23:41:27,535 - \u001b[1;32mINFO\u001b[1;0m - Example sentences to process:\n",
      "2025-01-29 23:41:27,535 - \u001b[1;32mINFO\u001b[1;0m - 0: findings not significantly changed since 3:17 a.m.\n",
      "metadata loaded from /mnt/data/pamessina/workspaces/medvqa-workspace/models/seq2seq/20250105_195544_fact2metadata_v2(F2Mv2)_Seq2Seq(t5-small)/metadata.json\n",
      "2025-01-29 23:41:27,598 - \u001b[1;32mINFO\u001b[1;0m - Creating Seq2SeqModel\n",
      "Seq2Seq model:\n",
      "  model_name: t5-small\n",
      "\u001b[93m\u001b[1mWARNING: unused kwargs: {'pretrained_checkpoint_folder_path': None}\u001b[0m\n",
      "2025-01-29 23:41:31,183 - \u001b[1;32mINFO\u001b[1;0m - Loading model weights from /mnt/data/pamessina/workspaces/medvqa-workspace/models/seq2seq/20250105_195544_fact2metadata_v2(F2Mv2)_Seq2Seq(t5-small)\n",
      "checkpoint_names = ['checkpoint_200_s2s_loss=0.8827.pt']\n",
      "2025-01-29 23:41:31,183 - \u001b[1;32mINFO\u001b[1;0m - Loading model weights from /mnt/data/pamessina/workspaces/medvqa-workspace/models/seq2seq/20250105_195544_fact2metadata_v2(F2Mv2)_Seq2Seq(t5-small)/checkpoint_200_s2s_loss=0.8827.pt\n",
      "2025-01-29 23:41:31,590 - \u001b[1;32mINFO\u001b[1;0m - Creating tokenizer\n",
      "2025-01-29 23:41:34,650 - \u001b[1;32mINFO\u001b[1;0m - Creating dataloader\n",
      "2025-01-29 23:41:34,650 - \u001b[1;32mINFO\u001b[1;0m - Running inference\n",
      "100%|█████████████████████████████████████████████| 1/1 [00:02<00:00,  2.36s/it]\n",
      "2025-01-29 23:41:37,016 - \u001b[1;32mINFO\u001b[1;0m - Successfully processed 1 sentences\n",
      "2025-01-29 23:41:37,016 - \u001b[1;32mINFO\u001b[1;0m - Example output:\n",
      "2025-01-29 23:41:37,017 - \u001b[1;32mINFO\u001b[1;0m - {'fact': 'findings not significantly changed since 3:17 a.m.', 'metadata': {'reason': 'The statement indicates that there have been no significant changes observed in the findings compared to a previous time. This suggests stability in the findings, which is a relevant observation in radiology.', 'too_noisy_or_irrelevant': 'no', 'visually_observable': 'no', 'category': 'does not apply', 'abnormality_status': 'does not apply', 'anatomical_location': 'does not apply', 'general_observation': 'findings not significantly changed'}}\n",
      "2025-01-29 23:41:37,017 - \u001b[1;32mINFO\u001b[1;0m - Saving outputs to /home/pamessina/medvqa-workspace/cache/mimiccxr/huggingface/extracted_metadata_v2_Seq2Seq(t5-small)_250_3_20250129_234137.jsonl\n",
      "2025-01-29 23:41:37,017 - \u001b[1;32mINFO\u001b[1;0m - DONE\n"
     ]
    }
   ],
   "source": [
    "!python ../../scripts/mimiccxr/extract_metadata_from_facts_with_transformer_v2.py \\\n",
    "--preprocessed_facts_to_skip_filepaths \\\n",
    "\"/mnt/data/pamessina_folder_backup_15_10_24/pamessina/medvqa-workspace/cache/mimiccxr/openai/gpt-4o-mini_fact_to_metadata.jsonl\" \\\n",
    "\"/home/pamessina/medvqa-workspace/cache/mimiccxr/huggingface/extracted_metadata_v2_Seq2Seq(t5-small)_250_1_20250129_204919.jsonl\" \\\n",
    "--extracted_facts_jsonl_filepath \\\n",
    "\"/home/pamessina/medvqa-workspace/cache/mimiccxr/integrated_sentence_facts(58655550,50990861).jsonl\" \\\n",
    "--logging_level \"INFO\" \\\n",
    "--checkpoint_folder_path \\\n",
    "\"/mnt/data/pamessina/workspaces/medvqa-workspace/models/seq2seq/20250105_195544_fact2metadata_v2(F2Mv2)_Seq2Seq(t5-small)\" \\\n",
    "--batch_size 250 \\\n",
    "--num_beams 3 \\\n",
    "--max_length 250 \\\n",
    "--num_workers 4"
   ]
  },
  {
   "cell_type": "code",
   "execution_count": 9,
   "id": "7ca5a822",
   "metadata": {},
   "outputs": [],
   "source": [
    "tmp = load_jsonl('/home/pamessina/medvqa-workspace/cache/mimiccxr/huggingface/extracted_metadata_v2_Seq2Seq(t5-small)_250_3_20250129_234137.jsonl')"
   ]
  },
  {
   "cell_type": "code",
   "execution_count": 11,
   "id": "9537f795",
   "metadata": {},
   "outputs": [
    {
     "data": {
      "text/plain": [
       "[{'fact': 'findings not significantly changed since 3:17 a.m.',\n",
       "  'metadata': {'reason': 'The statement indicates that there have been no significant changes observed in the findings compared to a previous time. This suggests stability in the findings, which is a relevant observation in radiology.',\n",
       "   'too_noisy_or_irrelevant': 'no',\n",
       "   'visually_observable': 'no',\n",
       "   'category': 'does not apply',\n",
       "   'abnormality_status': 'does not apply',\n",
       "   'anatomical_location': 'does not apply',\n",
       "   'general_observation': 'findings not significantly changed'}}]"
      ]
     },
     "execution_count": 11,
     "metadata": {},
     "output_type": "execute_result"
    }
   ],
   "source": [
    "tmp"
   ]
  },
  {
   "cell_type": "code",
   "execution_count": 12,
   "id": "3cce7481",
   "metadata": {
    "scrolled": true
   },
   "outputs": [
    {
     "name": "stdout",
     "output_type": "stream",
     "text": [
      "Loading extracted metadata from /mnt/data/pamessina_folder_backup_15_10_24/pamessina/medvqa-workspace/cache/mimiccxr/openai/gpt-4o-mini_fact_to_metadata.jsonl...\n",
      "100%|███████████████████████████████| 400982/400982 [00:01<00:00, 221267.98it/s]\n",
      "Loading extracted metadata from /home/pamessina/medvqa-workspace/cache/mimiccxr/huggingface/extracted_metadata_v2_Seq2Seq(t5-small)_250_1_20250129_204919.jsonl...\n",
      "100%|███████████████████████████████| 318189/318189 [00:01<00:00, 217688.68it/s]\n",
      "Loading extracted metadata from /home/pamessina/medvqa-workspace/cache/mimiccxr/huggingface/extracted_metadata_v2_Seq2Seq(t5-small)_250_3_20250129_234137.jsonl...\n",
      "100%|██████████████████████████████████████████| 1/1 [00:00<00:00, 22671.91it/s]\n",
      "2025-01-29 23:46:57,672 - \u001b[1;32mINFO\u001b[1;0m - Total number of metadata rows: 719172\n",
      "2025-01-29 23:46:57,672 - \u001b[1;32mINFO\u001b[1;0m - Total length of metadata: 256085081\n",
      "2025-01-29 23:47:04,584 - \u001b[1;32mINFO\u001b[1;0m - Saved fact metadata to /home/pamessina/medvqa-workspace/cache/mimiccxr/huggingface/integrated_fact_metadata(719172,256085081).jsonl\n"
     ]
    }
   ],
   "source": [
    "!python ../../scripts/mimiccxr/extract_metadata_from_facts_with_transformer_v2.py \\\n",
    "--integrate_metadata_files \\\n",
    "--metadata_jsonl_filepaths_to_integrate \\\n",
    "\"/mnt/data/pamessina_folder_backup_15_10_24/pamessina/medvqa-workspace/cache/mimiccxr/openai/gpt-4o-mini_fact_to_metadata.jsonl\" \\\n",
    "\"/home/pamessina/medvqa-workspace/cache/mimiccxr/huggingface/extracted_metadata_v2_Seq2Seq(t5-small)_250_1_20250129_204919.jsonl\" \\\n",
    "\"/home/pamessina/medvqa-workspace/cache/mimiccxr/huggingface/extracted_metadata_v2_Seq2Seq(t5-small)_250_3_20250129_234137.jsonl\" \\\n",
    "--metadata_extraction_methods \\\n",
    "\"gpt-4o-mini\" \\\n",
    "\"t5-small-finetuned\" \\\n",
    "\"t5-small-finetuned\""
   ]
  },
  {
   "cell_type": "code",
   "execution_count": 10,
   "id": "2c05e967",
   "metadata": {},
   "outputs": [
    {
     "name": "stdout",
     "output_type": "stream",
     "text": [
      "-rw-rw-r-- 1 pamessina pamessina 438M Jan 29 23:47 '/home/pamessina/medvqa-workspace/cache/mimiccxr/huggingface/integrated_fact_metadata(719172,256085081).jsonl'\r\n"
     ]
    }
   ],
   "source": [
    "!ls -lh \"/home/pamessina/medvqa-workspace/cache/mimiccxr/huggingface/integrated_fact_metadata(719172,256085081).jsonl\""
   ]
  },
  {
   "cell_type": "code",
   "execution_count": 3,
   "id": "6e0d44df",
   "metadata": {},
   "outputs": [],
   "source": [
    "integrated_fact_metadata = load_jsonl('/home/pamessina/medvqa-workspace/cache/mimiccxr/huggingface/integrated_fact_metadata(719172,256085081).jsonl')"
   ]
  },
  {
   "cell_type": "code",
   "execution_count": 4,
   "id": "c079a69c",
   "metadata": {},
   "outputs": [
    {
     "data": {
      "text/plain": [
       "719172"
      ]
     },
     "execution_count": 4,
     "metadata": {},
     "output_type": "execute_result"
    }
   ],
   "source": [
    "len(integrated_fact_metadata)"
   ]
  },
  {
   "cell_type": "code",
   "execution_count": 18,
   "id": "7414daa4",
   "metadata": {},
   "outputs": [
    {
     "data": {
      "text/plain": [
       "{'fact': 'right lower lobe atelectasis has remained relatively stable',\n",
       " 'metadata': {'reason': \"The statement indicates a finding of atelectasis in the right lower lobe, which is a medical observation that can be assessed visually on a chest X-ray. The term'relatively stable' suggests that there has been no significant change in the condition over time. This information is relevant for monitoring the patient's lung health.\",\n",
       "  'too_noisy_or_irrelevant': 'no',\n",
       "  'visually_observable': 'yes',\n",
       "  'category': 'disease',\n",
       "  'abnormality_status': 'partial or minor abnormality',\n",
       "  'anatomical_location': 'right lower lobe',\n",
       "  'general_observation': 'atelectasis has remained stable'},\n",
       " 'extraction_method': 't5-small-finetuned'}"
      ]
     },
     "execution_count": 18,
     "metadata": {},
     "output_type": "execute_result"
    }
   ],
   "source": [
    "integrated_fact_metadata[-2]"
   ]
  },
  {
   "cell_type": "code",
   "execution_count": 20,
   "id": "50840922",
   "metadata": {},
   "outputs": [
    {
     "data": {
      "text/plain": [
       "{'fact': 'lower lobe probably atelectatic',\n",
       " 'metadata': {'reason': 'The statement indicates a potential abnormality in the lower lobe of the lung, suggesting a condition that can be visually assessed on a chest X-ray. Atelectasis refers to the collapse of part of the lung, which is a significant finding in radiology. This observation is relevant for diagnosing respiratory issues.',\n",
       "  'too_noisy_or_irrelevant': 'no',\n",
       "  'visually_observable': 'yes',\n",
       "  'category': 'disease',\n",
       "  'abnormality_status': 'major abnormality',\n",
       "  'anatomical_location': 'lower lobe',\n",
       "  'general_observation': 'probably atelectatic'},\n",
       " 'extraction_method': 't5-small-finetuned'}"
      ]
     },
     "execution_count": 20,
     "metadata": {},
     "output_type": "execute_result"
    }
   ],
   "source": [
    "integrated_fact_metadata[-10001]"
   ]
  },
  {
   "cell_type": "code",
   "execution_count": 5,
   "id": "284e5b99",
   "metadata": {},
   "outputs": [],
   "source": [
    "from collections import Counter"
   ]
  },
  {
   "cell_type": "code",
   "execution_count": 9,
   "id": "e3384125",
   "metadata": {},
   "outputs": [
    {
     "data": {
      "text/plain": [
       "Counter({'gpt-4o-mini': 400982, 't5-small-finetuned': 318190})"
      ]
     },
     "execution_count": 9,
     "metadata": {},
     "output_type": "execute_result"
    }
   ],
   "source": [
    "Counter(x['extraction_method'] for x in integrated_fact_metadata)"
   ]
  },
  {
   "cell_type": "code",
   "execution_count": 22,
   "id": "d13409c2",
   "metadata": {},
   "outputs": [
    {
     "data": {
      "text/plain": [
       "Counter({'no': 73692, 'yes': 645480})"
      ]
     },
     "execution_count": 22,
     "metadata": {},
     "output_type": "execute_result"
    }
   ],
   "source": [
    "Counter(x['metadata']['visually_observable'] for x in integrated_fact_metadata)"
   ]
  },
  {
   "cell_type": "code",
   "execution_count": 23,
   "id": "0a4fa51c",
   "metadata": {},
   "outputs": [
    {
     "data": {
      "text/plain": [
       "Counter({'yes': 41541, 'no': 677631})"
      ]
     },
     "execution_count": 23,
     "metadata": {},
     "output_type": "execute_result"
    }
   ],
   "source": [
    "Counter(x['metadata']['too_noisy_or_irrelevant'] for x in integrated_fact_metadata)"
   ]
  },
  {
   "cell_type": "code",
   "execution_count": 24,
   "id": "24a86fdf",
   "metadata": {},
   "outputs": [
    {
     "data": {
      "text/plain": [
       "Counter({'does not apply': 44633,\n",
       "         'device': 113892,\n",
       "         'anatomical finding': 262414,\n",
       "         'foreign body': 2147,\n",
       "         'technical assessment': 13387,\n",
       "         'procedure': 9217,\n",
       "         'disease': 243913,\n",
       "         'tubes and lines': 26381,\n",
       "         'symptom': 3135,\n",
       "         'major abnormality': 1,\n",
       "         'abnormality': 50,\n",
       "         'complication': 1,\n",
       "         'abnormality finding': 1})"
      ]
     },
     "execution_count": 24,
     "metadata": {},
     "output_type": "execute_result"
    }
   ],
   "source": [
    "Counter(x['metadata']['category'] for x in integrated_fact_metadata)"
   ]
  },
  {
   "cell_type": "code",
   "execution_count": 25,
   "id": "c0a83273",
   "metadata": {},
   "outputs": [
    {
     "data": {
      "text/plain": [
       "Counter({'does not apply': 214692,\n",
       "         'major abnormality': 192741,\n",
       "         'partial or minor abnormality': 256169,\n",
       "         'completely normal or healthy': 55570})"
      ]
     },
     "execution_count": 25,
     "metadata": {},
     "output_type": "execute_result"
    }
   ],
   "source": [
    "Counter(x['metadata']['abnormality_status'] for x in integrated_fact_metadata)"
   ]
  },
  {
   "cell_type": "code",
   "execution_count": 34,
   "id": "266e2abe",
   "metadata": {},
   "outputs": [
    {
     "name": "stdout",
     "output_type": "stream",
     "text": [
      "297977\n"
     ]
    }
   ],
   "source": [
    "general_observations = set()\n",
    "for x in integrated_fact_metadata:\n",
    "    go = x['metadata']['general_observation']\n",
    "    if go != 'does not apply':\n",
    "        general_observations.add(go)\n",
    "print(len(general_observations))"
   ]
  },
  {
   "cell_type": "code",
   "execution_count": 37,
   "id": "765948c9",
   "metadata": {},
   "outputs": [],
   "source": [
    "idxs = [i for i,x in enumerate(integrated_fact_metadata) if x['metadata']['visually_observable'] == 'no']"
   ]
  },
  {
   "cell_type": "code",
   "execution_count": 54,
   "id": "c8133146",
   "metadata": {},
   "outputs": [
    {
     "data": {
      "text/plain": [
       "3350"
      ]
     },
     "execution_count": 54,
     "metadata": {},
     "output_type": "execute_result"
    }
   ],
   "source": [
    "idxs = [i for i,x in enumerate(integrated_fact_metadata) if (\n",
    "    x['metadata']['visually_observable'] == 'no' and\n",
    "    x['metadata']['general_observation'] != 'doest not apply' and\n",
    "    x['metadata']['abnormality_status'] in ('major abnormality', 'partial or minor abnormality')\n",
    ")\n",
    "]\n",
    "len(idxs)"
   ]
  },
  {
   "cell_type": "code",
   "execution_count": 118,
   "id": "fccb305f",
   "metadata": {},
   "outputs": [
    {
     "data": {
      "text/plain": [
       "15318"
      ]
     },
     "execution_count": 118,
     "metadata": {},
     "output_type": "execute_result"
    }
   ],
   "source": [
    "idxs = [i for i,x in enumerate(integrated_fact_metadata) if (\n",
    "    x['metadata']['visually_observable'] == 'yes' and\n",
    "    x['metadata']['category'] in ('anatomical finding', 'disease') and\n",
    "    x['metadata']['abnormality_status'] == 'does not apply'\n",
    ")\n",
    "]\n",
    "len(idxs)"
   ]
  },
  {
   "cell_type": "code",
   "execution_count": 200,
   "id": "bb506fd8",
   "metadata": {},
   "outputs": [
    {
     "data": {
      "text/plain": [
       "3335"
      ]
     },
     "execution_count": 200,
     "metadata": {},
     "output_type": "execute_result"
    }
   ],
   "source": [
    "idxs = [i for i,x in enumerate(integrated_fact_metadata) if (\n",
    "    x['metadata']['category'] == 'technical assessment' and\n",
    "    x['metadata']['visually_observable'] == 'yes'\n",
    ")]\n",
    "len(idxs)"
   ]
  },
  {
   "cell_type": "code",
   "execution_count": 111,
   "id": "85c22e06",
   "metadata": {},
   "outputs": [
    {
     "data": {
      "text/plain": [
       "3940"
      ]
     },
     "execution_count": 111,
     "metadata": {},
     "output_type": "execute_result"
    }
   ],
   "source": [
    "import re\n",
    "vague_regex = re.compile(r'\\bvague\\b|\\black\\.*\\bdetail')\n",
    "idxs = [i for i,x in enumerate(integrated_fact_metadata) if vague_regex.search(x['metadata']['reason'])]\n",
    "len(idxs)"
   ]
  },
  {
   "cell_type": "code",
   "execution_count": 217,
   "id": "994f2905",
   "metadata": {},
   "outputs": [
    {
     "data": {
      "text/plain": [
       "{'fact': 'repositioning observed on radiograph at 08:15',\n",
       " 'metadata': {'reason': 'The statement indicates that a repositioning was noted on the radiograph, which is a relevant observation in a radiology report. This suggests a change in the positioning of the patient or the imaging equipment during the procedure.',\n",
       "  'too_noisy_or_irrelevant': 'no',\n",
       "  'visually_observable': 'yes',\n",
       "  'category': 'technical assessment',\n",
       "  'abnormality_status': 'does not apply',\n",
       "  'anatomical_location': 'does not apply',\n",
       "  'general_observation': 'repositioning observed on radiograph'},\n",
       " 'extraction_method': 'gpt-4o-mini'}"
      ]
     },
     "execution_count": 217,
     "metadata": {},
     "output_type": "execute_result"
    }
   ],
   "source": [
    "integrated_fact_metadata[idxs[16]]"
   ]
  },
  {
   "cell_type": "code",
   "execution_count": 218,
   "id": "2dd5b072",
   "metadata": {},
   "outputs": [],
   "source": [
    "no_facts = [x['fact'] for x in integrated_fact_metadata if x['fact'].lower().startswith('no ')]"
   ]
  },
  {
   "cell_type": "code",
   "execution_count": 219,
   "id": "e306bfab",
   "metadata": {},
   "outputs": [
    {
     "data": {
      "text/plain": [
       "27998"
      ]
     },
     "execution_count": 219,
     "metadata": {},
     "output_type": "execute_result"
    }
   ],
   "source": [
    "len(no_facts)"
   ]
  },
  {
   "cell_type": "code",
   "execution_count": 231,
   "id": "6c3923ce",
   "metadata": {},
   "outputs": [
    {
     "name": "stdout",
     "output_type": "stream",
     "text": [
      "{'fact': 'no change of left basilar atelectasis', 'metadata': {'reason': 'The statement indicates that there is no change in the condition of left basilar atelectasis, which is a specific finding that can be observed on a chest X-ray. This suggests a stable condition regarding the atelectasis. Therefore, it is relevant and can be categorized appropriately.', 'too_noisy_or_irrelevant': 'no', 'visually_observable': 'yes', 'category': 'anatomical finding', 'abnormality_status': 'partial or minor abnormality', 'anatomical_location': 'left basilar region', 'general_observation': 'no change of atelectasis'}, 'extraction_method': 't5-small-finetuned'}\n"
     ]
    }
   ],
   "source": [
    "# for x in integrated_fact_metadata:\n",
    "#     if x['metadata']['category'] == 'abnormality finding':\n",
    "#         print(x)\n",
    "#         break\n",
    "for x in integrated_fact_metadata:\n",
    "#     if x['fact'] == 'unchanged obliques':\n",
    "    if x['fact'] == no_facts[-100]:\n",
    "        print(x)\n",
    "        break"
   ]
  },
  {
   "cell_type": "code",
   "execution_count": 48,
   "id": "8b49e217",
   "metadata": {},
   "outputs": [],
   "source": [
    "integrated_report_facts = load_jsonl('/home/pamessina/medvqa-workspace/cache/mimiccxr/integrated_report_facts(79040140).jsonl')"
   ]
  },
  {
   "cell_type": "code",
   "execution_count": 215,
   "id": "c2d62227",
   "metadata": {},
   "outputs": [
    {
     "name": "stdout",
     "output_type": "stream",
     "text": [
      "['single AP upright portable view of the chest was obtained',\n",
      " 'patient rotated to the left',\n",
      " 'large area of opacification in the right mid to lower lung',\n",
      " 'pleural effusion in the right mid to lower lung',\n",
      " 'overlying atelectasis in the right mid to lower lung',\n",
      " 'underlying consolidation cannot be excluded in the right mid to lower lung',\n",
      " 'blunting of the left costophrenic angle',\n",
      " 'pleural effusion in the left costophrenic angle',\n",
      " 'left retrocardiac opacity',\n",
      " 'obscuration of the left hemidiaphragm',\n",
      " 'possible pleural effusion in the left retrocardiac region',\n",
      " 'possible atelectasis in the left retrocardiac region',\n",
      " 'possible underlying consolidation in the left retrocardiac region',\n",
      " 'cardiac silhouette shifted leftward of midline due to patient '\n",
      " 'positioning/rotation',\n",
      " 'mediastinal silhouette shifted leftward of midline due to patient '\n",
      " 'positioning/rotation',\n",
      " 'suggestion for repeat with better positioning when patient able']\n",
      "                                 FINAL REPORT\n",
      " EXAM:  Chest single semi-erect AP portable view.\n",
      " \n",
      " CLINICAL INFORMATION:  ___-year-old female with history of lethargy.\n",
      " \n",
      " COMPARISON:  None.\n",
      " \n",
      " FINDINGS:  Single AP upright portable view of the chest was obtained.  The\n",
      " patient is rotated to the left.  Large area of opacification involving the\n",
      " right mid to lower lung suggests pleural effusion with overlying atelectasis,\n",
      " underlying consolidation cannot be excluded.  There is also blunting of the\n",
      " left costophrenic angle which may be due to pleural effusion.  The left\n",
      " retrocardiac opacity and obscuration of the left hemidiaphragm is seen, may be\n",
      " due to pleural effusion and atelectasis although underlying consolidation not\n",
      " excluded.  The cardiac and mediastinal silhouettes are shifted leftward of\n",
      " midline presumably due to patient positioning/rotation.  Suggest repeat with\n",
      " better positioning when patient able.\n",
      "\n"
     ]
    }
   ],
   "source": [
    "from pprint import pprint\n",
    "\n",
    "f = 'mediastinal silhouette shifted leftward of midline due to patient positioning/rotation'\n",
    "for x in integrated_report_facts:\n",
    "    if f in x['facts']:\n",
    "        pprint(x['facts'])\n",
    "        break\n",
    "        \n",
    "print(read_txt(x['path']))"
   ]
  },
  {
   "cell_type": "code",
   "execution_count": 109,
   "id": "7818bc9c",
   "metadata": {},
   "outputs": [],
   "source": [
    "from medvqa.utils.files import read_txt"
   ]
  },
  {
   "cell_type": "code",
   "execution_count": 128,
   "id": "f55282b4",
   "metadata": {},
   "outputs": [
    {
     "data": {
      "text/plain": [
       "'                                 FINAL REPORT\\n HISTORY:  Assault.\\n \\n TECHNIQUE:  PA and lateral views of the chest.\\n \\n COMPARISON:  None.\\n \\n FINDINGS:\\n \\n Low lung volumes exaggerate the cardiac size, which may still be enlarged, as\\n well as contribute to minimal basilar atelectasis.  There is no pleural\\n effusion, pneumonia, pneumothorax or pulmonary edema.  No fractures are\\n identified on this nondedicated film.\\n \\n IMPRESSION:\\n \\n No evidence of acute cardiopulmonary process. Chest radiography is\\n nonsensitive for bony abnormalities and dedicated views should be obtained if\\n indicated.\\n'"
      ]
     },
     "execution_count": 128,
     "metadata": {},
     "output_type": "execute_result"
    }
   ],
   "source": [
    "read_txt('/mnt/data/mimic-cxr/files/p12/p12674333/s58436645.txt')"
   ]
  }
 ],
 "metadata": {
  "kernelspec": {
   "display_name": "venv2",
   "language": "python",
   "name": "venv2"
  },
  "language_info": {
   "codemirror_mode": {
    "name": "ipython",
    "version": 3
   },
   "file_extension": ".py",
   "mimetype": "text/x-python",
   "name": "python",
   "nbconvert_exporter": "python",
   "pygments_lexer": "ipython3",
   "version": "3.10.10"
  }
 },
 "nbformat": 4,
 "nbformat_minor": 5
}
