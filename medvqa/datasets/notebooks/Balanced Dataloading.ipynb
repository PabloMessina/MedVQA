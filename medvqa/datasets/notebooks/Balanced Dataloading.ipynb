{
 "cells": [
  {
   "cell_type": "code",
   "execution_count": 259,
   "metadata": {},
   "outputs": [],
   "source": [
    "from medvqa.utils.files import load_pickle, load_json_file, save_to_pickle\n",
    "from medvqa.datasets.iuxray import IUXRAY_CACHE_DIR\n",
    "from medvqa.datasets.mimiccxr import MIMICCXR_CACHE_DIR\n",
    "from medvqa.utils.common import CACHE_DIR\n",
    "from medvqa.datasets.medical_tags_extractor import MedicalTagsExtractor\n",
    "import medvqa\n",
    "from PIL import Image\n",
    "import random\n",
    "import os\n",
    "from importlib import reload"
   ]
  },
  {
   "cell_type": "code",
   "execution_count": 59,
   "metadata": {},
   "outputs": [
    {
     "data": {
      "text/plain": [
       "<module 'medvqa.datasets.medical_tags_extractor' from '/home/pamessina/medvqa/medvqa/datasets/medical_tags_extractor.py'>"
      ]
     },
     "execution_count": 59,
     "metadata": {},
     "output_type": "execute_result"
    }
   ],
   "source": [
    "reload(medvqa.datasets.medical_tags_extractor)"
   ]
  },
  {
   "cell_type": "code",
   "execution_count": 4,
   "metadata": {},
   "outputs": [],
   "source": [
    "iuxray_qa_adapted_reports_path = os.path.join(IUXRAY_CACHE_DIR, \"qa_adapted_reports__20220324_143133.json\")\n",
    "iuxray_qa_adapted_reports = load_json_file(iuxray_qa_adapted_reports_path)"
   ]
  },
  {
   "cell_type": "code",
   "execution_count": 260,
   "metadata": {},
   "outputs": [],
   "source": [
    "mimiccxr_qa_adapted_reports_path = os.path.join(MIMICCXR_CACHE_DIR, \"qa_adapted_reports__20220324_151809.json\")\n",
    "mimiccxr_qa_adapted_reports = load_json_file(mimiccxr_qa_adapted_reports_path)"
   ]
  },
  {
   "cell_type": "code",
   "execution_count": 13,
   "metadata": {},
   "outputs": [],
   "source": [
    "iuxray_chexpert_labels = load_pickle(os.path.join(IUXRAY_CACHE_DIR, \"chexpert_labels_per_report__20220405_160451.pkl\"))"
   ]
  },
  {
   "cell_type": "code",
   "execution_count": 261,
   "metadata": {},
   "outputs": [],
   "source": [
    "mimiccxr_chexpert_labels = load_pickle(os.path.join(MIMICCXR_CACHE_DIR, \"chexpert_labels_per_report__20220405_160542.pkl\"))"
   ]
  },
  {
   "cell_type": "code",
   "execution_count": 262,
   "metadata": {},
   "outputs": [],
   "source": [
    "assert len(iuxray_chexpert_labels) == len(iuxray_qa_adapted_reports['reports'])"
   ]
  },
  {
   "cell_type": "code",
   "execution_count": 263,
   "metadata": {},
   "outputs": [],
   "source": [
    "assert len(mimiccxr_chexpert_labels) == len(mimiccxr_qa_adapted_reports['reports'])"
   ]
  },
  {
   "cell_type": "code",
   "execution_count": 15,
   "metadata": {},
   "outputs": [],
   "source": [
    "for i, labels in enumerate(iuxray_chexpert_labels):\n",
    "    if labels[0] == 1:\n",
    "        assert all(x == 0 for x in labels[1:]), (labels, iuxray_qa_adapted_reports['reports'][i])"
   ]
  },
  {
   "cell_type": "code",
   "execution_count": 264,
   "metadata": {},
   "outputs": [],
   "source": [
    "for i, labels in enumerate(mimiccxr_chexpert_labels):\n",
    "    if labels[0] == 1:\n",
    "        assert all(x == 0 for x in labels[1:]), (labels, mimiccxr_qa_adapted_reports['reports'][i])"
   ]
  },
  {
   "cell_type": "code",
   "execution_count": 35,
   "metadata": {},
   "outputs": [],
   "source": [
    "def healthy_and_unhealthy_reports(chexpert_labels):\n",
    "    healthy_ids = []\n",
    "    unhealthy_ids = []\n",
    "    for i, labels in enumerate(chexpert_labels):\n",
    "        if labels[0] == 1:\n",
    "            healthy_ids.append(i)\n",
    "        else:\n",
    "            unhealthy_ids.append(i)\n",
    "    return healthy_ids, unhealthy_ids"
   ]
  },
  {
   "cell_type": "code",
   "execution_count": 265,
   "metadata": {},
   "outputs": [
    {
     "data": {
      "text/plain": [
       "(1416, 2511)"
      ]
     },
     "execution_count": 265,
     "metadata": {},
     "output_type": "execute_result"
    }
   ],
   "source": [
    "iu_h_ids, iu_unh_ids = healthy_and_unhealthy_reports(iuxray_chexpert_labels)\n",
    "len(iu_h_ids), len(iu_unh_ids)"
   ]
  },
  {
   "cell_type": "code",
   "execution_count": 266,
   "metadata": {},
   "outputs": [
    {
     "data": {
      "text/plain": [
       "(37178, 190657)"
      ]
     },
     "execution_count": 266,
     "metadata": {},
     "output_type": "execute_result"
    }
   ],
   "source": [
    "mi_h_ids, mi_unh_ids = healthy_and_unhealthy_reports(mimiccxr_chexpert_labels)\n",
    "len(mi_h_ids), len(mi_unh_ids)"
   ]
  },
  {
   "cell_type": "code",
   "execution_count": 267,
   "metadata": {},
   "outputs": [
    {
     "data": {
      "text/plain": [
       "array([1, 0, 0, 0, 0, 0, 0, 0, 0, 0, 0, 0, 0, 0], dtype=int8)"
      ]
     },
     "execution_count": 267,
     "metadata": {},
     "output_type": "execute_result"
    }
   ],
   "source": [
    "iuxray_chexpert_labels[random.choice(iu_h_ids)]"
   ]
  },
  {
   "cell_type": "code",
   "execution_count": 268,
   "metadata": {},
   "outputs": [
    {
     "data": {
      "text/plain": [
       "array([0, 0, 1, 0, 0, 0, 0, 0, 0, 0, 0, 0, 0, 0], dtype=int8)"
      ]
     },
     "execution_count": 268,
     "metadata": {},
     "output_type": "execute_result"
    }
   ],
   "source": [
    "iuxray_chexpert_labels[random.choice(iu_unh_ids)]"
   ]
  },
  {
   "cell_type": "code",
   "execution_count": 272,
   "metadata": {},
   "outputs": [
    {
     "data": {
      "text/plain": [
       "array([1, 0, 0, 0, 0, 0, 0, 0, 0, 0, 0, 0, 0, 0], dtype=int8)"
      ]
     },
     "execution_count": 272,
     "metadata": {},
     "output_type": "execute_result"
    }
   ],
   "source": [
    "mimiccxr_chexpert_labels[random.choice(mi_h_ids)]"
   ]
  },
  {
   "cell_type": "code",
   "execution_count": 277,
   "metadata": {},
   "outputs": [
    {
     "data": {
      "text/plain": [
       "array([0, 1, 0, 0, 0, 0, 0, 0, 1, 0, 1, 0, 1, 1], dtype=int8)"
      ]
     },
     "execution_count": 277,
     "metadata": {},
     "output_type": "execute_result"
    }
   ],
   "source": [
    "mimiccxr_chexpert_labels[random.choice(mi_unh_ids)]"
   ]
  },
  {
   "cell_type": "code",
   "execution_count": 61,
   "metadata": {},
   "outputs": [],
   "source": [
    "med_tags_extractor = MedicalTagsExtractor('medical_terms_frequency__20220317_145545.pkl')"
   ]
  },
  {
   "cell_type": "code",
   "execution_count": 278,
   "metadata": {},
   "outputs": [],
   "source": [
    "def show_iuxray_example(idx, reports):    \n",
    "    report = reports[idx]\n",
    "    report = '. '.join(report['sentences'][i] for i in report['matched'])\n",
    "    print('Report:\\n')\n",
    "    print(report)\n",
    "    print('\\nTags:\\n')\n",
    "    print(med_tags_extractor.extract_tags_sequence(report))"
   ]
  },
  {
   "cell_type": "code",
   "execution_count": 289,
   "metadata": {},
   "outputs": [
    {
     "data": {
      "text/plain": [
       "['ARDS?',\n",
       " 'COPD?',\n",
       " 'abscess and cavitation?',\n",
       " 'adenopathy?',\n",
       " 'air collections?',\n",
       " 'air space disease?',\n",
       " 'air-fluid level?',\n",
       " 'airways?',\n",
       " 'apical zone?',\n",
       " 'ascites?',\n",
       " 'aspiration?',\n",
       " 'atelectasis?',\n",
       " 'azygos lobe?',\n",
       " 'azygos vein?',\n",
       " 'bleeding?',\n",
       " 'blurring?',\n",
       " 'bones?',\n",
       " 'bowel obstruction and loops?',\n",
       " 'bowel?',\n",
       " 'bronchiectasis?',\n",
       " 'bronchogram?',\n",
       " 'bronchovascular crowding?',\n",
       " 'bronchus?',\n",
       " 'bullae and blebs?',\n",
       " 'calcification?',\n",
       " 'cancer or tumor?',\n",
       " 'cardiac silhouette?',\n",
       " 'cardiomegaly?',\n",
       " 'carina?',\n",
       " 'cholelithiasis?',\n",
       " 'colon?',\n",
       " 'congestive heart failure CHF?',\n",
       " 'consolidation?',\n",
       " 'contrast?',\n",
       " 'densities?',\n",
       " 'diaphragm?',\n",
       " 'edema?',\n",
       " 'emphysema?',\n",
       " 'esophagus?',\n",
       " 'fibrosis?',\n",
       " 'fissures?',\n",
       " 'fluid overload?',\n",
       " 'fluid?',\n",
       " 'fractures?',\n",
       " 'free air?',\n",
       " 'gas distension?',\n",
       " 'granumola?',\n",
       " 'haze?',\n",
       " 'heart?',\n",
       " 'hernias?',\n",
       " 'infection?',\n",
       " 'infiltrate?',\n",
       " 'interstitial lung disease?',\n",
       " 'kerley lines?',\n",
       " 'lesions?',\n",
       " 'liver?',\n",
       " 'loculation?',\n",
       " 'lucencies?',\n",
       " 'lung parenchyma?',\n",
       " 'lungs?',\n",
       " 'lymph nodes?',\n",
       " 'markings?',\n",
       " 'masses?',\n",
       " 'mediastinum?',\n",
       " 'nodules?',\n",
       " 'opacities?',\n",
       " 'ossification?',\n",
       " 'peribronchial cuffing?',\n",
       " 'pleural space?',\n",
       " 'pneumatocele?',\n",
       " 'pneumomediastinum?',\n",
       " 'pneumonia?',\n",
       " 'pneumoperitoneum?',\n",
       " 'pneumothorax?',\n",
       " 'prominence?',\n",
       " 'pulmonary hila?',\n",
       " 'pulmonary vascularity?',\n",
       " 'radiation?',\n",
       " 'ribs?',\n",
       " 'sagittal chest?',\n",
       " 'sarcoidosis?',\n",
       " 'scarring?',\n",
       " 'shadow?',\n",
       " 'skinfold?',\n",
       " 'soft tissue?',\n",
       " 'stomach?',\n",
       " 'sulci?',\n",
       " 'support devices and foreign bodies?',\n",
       " 'surgery?',\n",
       " 'tendon?',\n",
       " 'thoracic aorta?',\n",
       " 'thyroid?',\n",
       " 'tortuosity?',\n",
       " 'trachea?',\n",
       " 'trauma?',\n",
       " 'tubes and lines?',\n",
       " 'vena cava?']"
      ]
     },
     "execution_count": 289,
     "metadata": {},
     "output_type": "execute_result"
    }
   ],
   "source": [
    "iuxray_qa_adapted_reports['questions']"
   ]
  },
  {
   "cell_type": "code",
   "execution_count": 279,
   "metadata": {},
   "outputs": [
    {
     "name": "stdout",
     "output_type": "stream",
     "text": [
      "Report:\n",
      "\n",
      "Heart size is normal. No focal infiltrates. No pneumothorax. No large pleural effusion. Mildly tortuous aorta. No acute cardiopulmonary findings\n",
      "\n",
      "Tags:\n",
      "\n",
      "['heart', 'size', 'normal', 'no', 'focal', 'infiltrate', 'no', 'pneumothorax', 'no', 'large', 'pleural', 'effusion', 'mild', 'tortuous', 'aorta', 'no', 'cardiopulmonary']\n"
     ]
    },
    {
     "data": {
      "text/plain": [
       "(1995, None)"
      ]
     },
     "execution_count": 279,
     "metadata": {},
     "output_type": "execute_result"
    }
   ],
   "source": [
    "x = random.choice(iu_h_ids)\n",
    "x, show_iuxray_example(x, iuxray_qa_adapted_reports['reports'])"
   ]
  },
  {
   "cell_type": "code",
   "execution_count": 280,
   "metadata": {},
   "outputs": [
    {
     "name": "stdout",
     "output_type": "stream",
     "text": [
      "Report:\n",
      "\n",
      "The cardiomediastinal silhouette and pulmonary vasculature are within normal limits in size. The lungs are clear of focal airspace disease , pneumothorax , or pleural effusion. XXXX closure device demonstrated projecting over the right heart. There are no acute bony findings. No acute cardiopulmonary findings\n",
      "\n",
      "Tags:\n",
      "\n",
      "['cardiomediastinal', 'silhouette', 'pulmonary', 'vasculature', 'normal', 'limits', 'size', 'lungs', 'clear', 'focal', 'airspace', 'disease', 'pneumothorax', 'pleural', 'effusion', 'closure', 'devices', 'projecting', 'right', 'heart', 'no', 'osseous', 'no', 'cardiopulmonary']\n"
     ]
    },
    {
     "data": {
      "text/plain": [
       "(2029, None)"
      ]
     },
     "execution_count": 280,
     "metadata": {},
     "output_type": "execute_result"
    }
   ],
   "source": [
    "x = random.choice(iu_unh_ids)\n",
    "x, show_iuxray_example(x, iuxray_qa_adapted_reports['reports'])"
   ]
  },
  {
   "cell_type": "code",
   "execution_count": 283,
   "metadata": {},
   "outputs": [
    {
     "name": "stdout",
     "output_type": "stream",
     "text": [
      "Report:\n",
      "\n",
      "Normal cardiomediastinal contours. Tortuous thoracic aorta. Clear lungs with no evidence of pneumothorax or pleural effusion\n",
      "\n",
      "Tags:\n",
      "\n",
      "['normal', 'cardiomediastinal', 'contours', 'tortuous', 'thoracic', 'aorta', 'clear', 'lungs', 'no', 'pneumothorax', 'pleural', 'effusion']\n"
     ]
    },
    {
     "data": {
      "text/plain": [
       "(176265, None)"
      ]
     },
     "execution_count": 283,
     "metadata": {},
     "output_type": "execute_result"
    }
   ],
   "source": [
    "x = random.choice(mi_h_ids)\n",
    "x, show_iuxray_example(x, mimiccxr_qa_adapted_reports['reports'])"
   ]
  },
  {
   "cell_type": "code",
   "execution_count": 287,
   "metadata": {},
   "outputs": [
    {
     "name": "stdout",
     "output_type": "stream",
     "text": [
      "Report:\n",
      "\n",
      "The lungs are clear. No focal pulmonary consolidation , pulmonary edema , pleural effusion , or pneumothorax. Normal cardiomediastinal silhouette , pleura , hila. Elevated right hemidiaphragm with associated incidental note of the colon interposed between the liver and diaphragm in the sub-diaphragmatic right upper quadrant of the abdomen. Stable appearance of the thoracic spinal fixation devices and prior kyphoplasty. Slight pectus excavatum. No acute osseous abnormality. No acute cardiopulmonary process including no focal consolidation to suggest pneumonia. Chilaiditi syndrome with associated elevation of the right hemidiaphragm\n",
      "\n",
      "Tags:\n",
      "\n",
      "['lungs', 'clear', 'no', 'focal', 'pulmonary', 'consolidation', 'pulmonary', 'edema', 'pleural', 'effusion', 'pneumothorax', 'normal', 'cardiomediastinal', 'silhouette', 'pleural', 'hilar', 'elevation', 'right', 'hemidiaphragm', 'colon', 'interposed', 'liver', 'diaphragm', 'sub', 'diaphragm', 'right', 'upper', 'quadrant', 'abdomen', 'thoracic', 'spine', 'fixation', 'devices', 'kyphoplasty', 'pectus', 'excavatum', 'no', 'osseous', 'abnormality', 'no', 'cardiopulmonary', 'process', 'no', 'focal', 'consolidation', 'pneumonia', 'chilaiditi', 'syndrome', 'elevation', 'right', 'hemidiaphragm']\n"
     ]
    },
    {
     "data": {
      "text/plain": [
       "(160915, None)"
      ]
     },
     "execution_count": 287,
     "metadata": {},
     "output_type": "execute_result"
    }
   ],
   "source": [
    "x = random.choice(mi_unh_ids)\n",
    "x, show_iuxray_example(x, mimiccxr_qa_adapted_reports['reports'])"
   ]
  },
  {
   "cell_type": "code",
   "execution_count": 225,
   "metadata": {},
   "outputs": [],
   "source": [
    "def _get_top_k_ngrams(reports, q_id, used_vocab, k=10, n=3):\n",
    "    freq = dict()\n",
    "    for report in reports:\n",
    "        if q_id not in report['qa']:\n",
    "            continue\n",
    "        for i in report['qa'][q_id]:\n",
    "            tags = med_tags_extractor.extract_tags_sequence(report['sentences'][i])\n",
    "            for j in range(len(tags)-n+1):\n",
    "                key = tuple(tags[j:j+n])\n",
    "                freq[key] = freq.get(key, 0) + 1\n",
    "    pairs = [(f,k) for k,f in freq.items()]\n",
    "    pairs.sort(reverse=True)\n",
    "    output = []\n",
    "    for p in pairs:\n",
    "        valid = True\n",
    "        for w in p[1]:\n",
    "            if w in used_vocab:\n",
    "                valid = False\n",
    "                break\n",
    "        if valid:\n",
    "            output.append(p)\n",
    "            used_vocab.update(p[1])\n",
    "            if len(output) == k:\n",
    "                break\n",
    "    return output\n",
    "\n",
    "def get_top_k_ngrams(reports, q_id, ks, ns):\n",
    "    used_vocab = set()\n",
    "    output = []\n",
    "    for k, n in zip(ks, ns):\n",
    "        pairs = _get_top_k_ngrams(reports, q_id, used_vocab, k, n)\n",
    "        output.extend(pairs)\n",
    "    output.sort()\n",
    "    return output"
   ]
  },
  {
   "cell_type": "code",
   "execution_count": 297,
   "metadata": {},
   "outputs": [],
   "source": [
    "x = (y for y in range(10))"
   ]
  },
  {
   "cell_type": "code",
   "execution_count": 306,
   "metadata": {},
   "outputs": [
    {
     "data": {
      "text/plain": [
       "True"
      ]
     },
     "execution_count": 306,
     "metadata": {},
     "output_type": "execute_result"
    }
   ],
   "source": [
    "True == "
   ]
  },
  {
   "cell_type": "code",
   "execution_count": 299,
   "metadata": {},
   "outputs": [],
   "source": [
    "for y in iter(x): print(y)"
   ]
  },
  {
   "cell_type": "code",
   "execution_count": 226,
   "metadata": {
    "scrolled": true
   },
   "outputs": [
    {
     "data": {
      "text/plain": [
       "{'sentences': ['The cardiac silhouette and mediastinum size are within normal limits',\n",
       "  'There is no pulmonary edema',\n",
       "  'There is no focal consolidation',\n",
       "  'There are no XXXX of a pleural effusion.',\n",
       "  'There is no evidence of pneumothorax',\n",
       "  'Normal chest x-XXXX.'],\n",
       " 'invalid': [3, 5],\n",
       " 'unmatched': [],\n",
       " 'matched': [0, 1, 2, 4],\n",
       " 'qa': {'26': [0], '63': [0], '36': [1], '32': [2], '73': [4]},\n",
       " 'filename': '1.xml'}"
      ]
     },
     "execution_count": 226,
     "metadata": {},
     "output_type": "execute_result"
    }
   ],
   "source": [
    "iuxray_qa_adapted_reports['reports'][0]"
   ]
  },
  {
   "cell_type": "code",
   "execution_count": 206,
   "metadata": {},
   "outputs": [],
   "source": [
    "# iuxray_qa_adapted_reports['questions']"
   ]
  },
  {
   "cell_type": "code",
   "execution_count": 252,
   "metadata": {},
   "outputs": [],
   "source": [
    "q_id = str(iuxray_qa_adapted_reports['questions'].index('support devices and foreign bodies?'))\n",
    "top_ngrams = get_top_k_ngrams(iuxray_qa_adapted_reports['reports'], q_id, ks=[50, 50], ns=[2, 1])"
   ]
  },
  {
   "cell_type": "code",
   "execution_count": 253,
   "metadata": {},
   "outputs": [
    {
     "data": {
      "text/plain": [
       "[(2, ('focal', 'air')),\n",
       " (2, ('hilar', 'contours')),\n",
       " (2, ('humeral', 'prosthetic')),\n",
       " (2, ('lung', 'volumes')),\n",
       " (2, ('osseous', 'anchors')),\n",
       " (2, ('radiopaque', 'density')),\n",
       " (2, ('screws', 'fixation')),\n",
       " (2, ('space', 'consolidation')),\n",
       " (2, ('terminates', 'lower')),\n",
       " (2, ('thoracic', 'spine')),\n",
       " (2, ('tunneled', 'dialysis')),\n",
       " (3, ('base', 'atelectasis')),\n",
       " (3, ('bullet', 'fragment')),\n",
       " (3, ('generator', 'projecting')),\n",
       " (3, ('icd', 'position')),\n",
       " (3, ('limits', 'mediastinal')),\n",
       " (3, ('vp', 'shunt')),\n",
       " (4, ('bilateral', 'breast')),\n",
       " (4, ('closure', 'devices')),\n",
       " (4, ('nerve', 'stimulator')),\n",
       " (4, ('post',)),\n",
       " (4, ('small',)),\n",
       " (4, ('vertebral',)),\n",
       " (5, ('abdominal',)),\n",
       " (5, ('aicd',)),\n",
       " (5, ('below', 'diaphragm')),\n",
       " (5, ('cardiomegaly',)),\n",
       " (5, ('cava',)),\n",
       " (5, ('configuration',)),\n",
       " (5, ('course',)),\n",
       " (5, ('disease',)),\n",
       " (5, ('fracture',)),\n",
       " (5, ('hemithorax',)),\n",
       " (5, ('midline',)),\n",
       " (5, ('pneumothorax',)),\n",
       " (5, ('pulmonary',)),\n",
       " (5, ('rib',)),\n",
       " (5, ('stool',)),\n",
       " (5, ('subclavian', 'vein')),\n",
       " (5, ('sutures', 'material')),\n",
       " (5, ('wall', 'intact')),\n",
       " (6, ('abnormality',)),\n",
       " (6, ('apex',)),\n",
       " (6, ('cardiomediastinal', 'silhouette')),\n",
       " (6, ('feeding',)),\n",
       " (6, ('lobe',)),\n",
       " (6, ('marker',)),\n",
       " (6, ('nipple', 'shadow')),\n",
       " (6, ('normal', 'size')),\n",
       " (6, ('posterior',)),\n",
       " (6, ('postoperative',)),\n",
       " (7, ('above', 'carina')),\n",
       " (7, ('bypass', 'graft')),\n",
       " (7, ('calcified',)),\n",
       " (7, ('implants',)),\n",
       " (7, ('process',)),\n",
       " (7, ('replacement',)),\n",
       " (7, ('soft', 'tissue')),\n",
       " (7, ('sternotomy',)),\n",
       " (8, ('aorta', 'valve')),\n",
       " (8, ('coronary', 'artery')),\n",
       " (8, ('mediastinum',)),\n",
       " (8, ('multiple',)),\n",
       " (8, ('proximal',)),\n",
       " (9, ('axilla',)),\n",
       " (9, ('dual', 'lumen')),\n",
       " (9, ('tips',)),\n",
       " (10, ('anterior',)),\n",
       " (10, ('clavicle',)),\n",
       " (10, ('extremity',)),\n",
       " (10, ('foreign', 'body')),\n",
       " (10, ('frontal', 'lateral')),\n",
       " (10, ('infection',)),\n",
       " (11, ('heart',)),\n",
       " (11, ('monitoring', 'leads')),\n",
       " (11, ('overlying', 'external')),\n",
       " (12, ('cavoatrial', 'junction')),\n",
       " (12, ('ij',)),\n",
       " (12, ('internal', 'jugular')),\n",
       " (12, ('picc', 'line')),\n",
       " (13, ('cabg',)),\n",
       " (13, ('mid', 'svc')),\n",
       " (13, ('tracheostomy', 'tube')),\n",
       " (15, ('defibrillator',)),\n",
       " (16, ('abdomen',)),\n",
       " (16, ('cardiac', 'pacemaker')),\n",
       " (16, ('cholecystectomy',)),\n",
       " (16, ('region',)),\n",
       " (17, ('place',)),\n",
       " (17, ('stent',)),\n",
       " (23, ('distal',)),\n",
       " (24, ('upper', 'quadrant')),\n",
       " (27, ('removed',)),\n",
       " (29, ('central', 'venous')),\n",
       " (30, ('left', 'sided')),\n",
       " (36, ('ventricle',)),\n",
       " (39, ('catheter', 'tip')),\n",
       " (44, ('right', 'atrium')),\n",
       " (49, ('no', 'tuberculosis')),\n",
       " (67, ('surgical', 'clips'))]"
      ]
     },
     "execution_count": 253,
     "metadata": {},
     "output_type": "execute_result"
    }
   ],
   "source": [
    "top_ngrams"
   ]
  },
  {
   "cell_type": "code",
   "execution_count": 254,
   "metadata": {},
   "outputs": [],
   "source": [
    "def classify_sentence(s, top_ngrams, max_n):\n",
    "    tags = med_tags_extractor.extract_tags_sequence(s)\n",
    "    ngram_sets = [set() for _ in range(max_n)]\n",
    "    for n in range(1, max_n+1):\n",
    "        for i in range(len(tags)-n+1):\n",
    "            ngram = tuple(tags[i:i+n])\n",
    "            ngram_sets[n-1].add(ngram)\n",
    "    for i, ngram in enumerate(top_ngrams):\n",
    "        if ngram[1] in ngram_sets[len(ngram[1])-1]:\n",
    "            return i\n",
    "    return len(top_ngrams)"
   ]
  },
  {
   "cell_type": "code",
   "execution_count": 255,
   "metadata": {},
   "outputs": [],
   "source": [
    "def classify_sentences(reports, q_id, top_ngrams, max_n):\n",
    "    freqs = dict()\n",
    "    for report in reports:\n",
    "        if q_id not in report['qa']:\n",
    "            continue\n",
    "        for i in report['qa'][q_id]:\n",
    "            x = classify_sentence(report['sentences'][i], top_ngrams, max_n)\n",
    "            freqs[x] = freqs.get(x, 0) + 1\n",
    "    return freqs"
   ]
  },
  {
   "cell_type": "code",
   "execution_count": 256,
   "metadata": {},
   "outputs": [
    {
     "data": {
      "text/plain": [
       "61"
      ]
     },
     "execution_count": 256,
     "metadata": {},
     "output_type": "execute_result"
    }
   ],
   "source": [
    "classify_sentence('The cardiac silhouette and mediastinum size are within normal limits', top_ngrams, 2)"
   ]
  },
  {
   "cell_type": "code",
   "execution_count": 258,
   "metadata": {
    "scrolled": true
   },
   "outputs": [
    {
     "data": {
      "text/plain": [
       "{100: 71,\n",
       " 4: 2,\n",
       " 83: 8,\n",
       " 93: 10,\n",
       " 40: 2,\n",
       " 99: 14,\n",
       " 96: 8,\n",
       " 98: 37,\n",
       " 35: 4,\n",
       " 79: 10,\n",
       " 84: 14,\n",
       " 92: 17,\n",
       " 19: 4,\n",
       " 60: 5,\n",
       " 28: 5,\n",
       " 91: 10,\n",
       " 95: 14,\n",
       " 90: 7,\n",
       " 44: 3,\n",
       " 29: 1,\n",
       " 17: 4,\n",
       " 53: 4,\n",
       " 80: 6,\n",
       " 69: 6,\n",
       " 64: 9,\n",
       " 57: 4,\n",
       " 65: 6,\n",
       " 76: 8,\n",
       " 50: 4,\n",
       " 16: 3,\n",
       " 55: 4,\n",
       " 25: 5,\n",
       " 34: 5,\n",
       " 87: 4,\n",
       " 89: 6,\n",
       " 72: 5,\n",
       " 18: 4,\n",
       " 77: 4,\n",
       " 82: 6,\n",
       " 1: 2,\n",
       " 62: 5,\n",
       " 33: 3,\n",
       " 27: 5,\n",
       " 63: 7,\n",
       " 36: 4,\n",
       " 78: 7,\n",
       " 43: 5,\n",
       " 66: 7,\n",
       " 67: 5,\n",
       " 68: 2,\n",
       " 41: 6,\n",
       " 85: 11,\n",
       " 26: 5,\n",
       " 8: 2,\n",
       " 86: 13,\n",
       " 20: 4,\n",
       " 11: 2,\n",
       " 32: 2,\n",
       " 0: 2,\n",
       " 21: 3,\n",
       " 37: 5,\n",
       " 38: 4,\n",
       " 47: 4,\n",
       " 24: 5,\n",
       " 88: 2,\n",
       " 22: 3,\n",
       " 94: 7,\n",
       " 31: 5,\n",
       " 59: 5,\n",
       " 23: 5,\n",
       " 73: 2,\n",
       " 52: 5,\n",
       " 15: 2,\n",
       " 12: 3,\n",
       " 56: 5,\n",
       " 39: 5,\n",
       " 13: 3,\n",
       " 61: 6,\n",
       " 45: 4,\n",
       " 2: 2,\n",
       " 49: 2,\n",
       " 81: 8,\n",
       " 42: 3,\n",
       " 46: 5,\n",
       " 3: 1,\n",
       " 5: 2,\n",
       " 51: 7,\n",
       " 54: 3,\n",
       " 6: 2,\n",
       " 58: 1,\n",
       " 9: 1,\n",
       " 30: 5,\n",
       " 10: 2,\n",
       " 14: 3,\n",
       " 70: 3,\n",
       " 97: 2}"
      ]
     },
     "execution_count": 258,
     "metadata": {},
     "output_type": "execute_result"
    }
   ],
   "source": [
    "classify_sentences(iuxray_qa_adapted_reports['reports'], q_id, top_ngrams, 2)"
   ]
  },
  {
   "cell_type": "code",
   "execution_count": 399,
   "metadata": {
    "scrolled": false
   },
   "outputs": [
    {
     "name": "stdout",
     "output_type": "stream",
     "text": [
      "Loading files ...\n",
      "Loading /home/pamessina/medvqa-workspace/cache/vocab__min_freq=5__from(qa_adapted_reports__20220324_143133.json;qa_adapted_reports__20220324_151809.json).pkl ...\n",
      "Precomputing metadata ...\n",
      "3927it [00:01, 2784.22it/s]\n",
      "3927it [00:00, 8726.93it/s]\n",
      "Balanced dataloading metadata saved to /home/pamessina/medvqa-workspace/cache/iuxray/balanced_dataloading_metadata__20220407_150040.pkl\n",
      "227835it [01:59, 1909.64it/s]\n",
      "227835it [00:42, 5385.59it/s]\n",
      "Balanced dataloading metadata saved to /home/pamessina/medvqa-workspace/cache/mimiccxr/balanced_dataloading_metadata__20220407_150400.pkl\n"
     ]
    }
   ],
   "source": [
    "!python ../../scripts/precompute_balanced_dataloading_metadata.py \\\n",
    "        --iuxray-qa-dataset-filename \"qa_adapted_reports__20220324_143133.json\" \\\n",
    "        --mimiccxr-qa-dataset-filename \"qa_adapted_reports__20220324_151809.json\" \\\n",
    "        --chexpert-labels-cache-filename \"precomputed_chexpert_labels_20220331_065722.pkl\" \\\n",
    "        --medical-terms-frequency-filename \"medical_terms_frequency__20220324_165005.pkl\""
   ]
  },
  {
   "cell_type": "code",
   "execution_count": 593,
   "metadata": {},
   "outputs": [],
   "source": [
    "from medvqa.utils.files import load_pickle\n",
    "from collections import Counter"
   ]
  },
  {
   "cell_type": "code",
   "execution_count": 594,
   "metadata": {},
   "outputs": [],
   "source": [
    "iuxray_balanced_metadata = load_pickle('/home/pamessina/medvqa-workspace/cache/iuxray/balanced_dataloading_metadata__20220407_150040.pkl')"
   ]
  },
  {
   "cell_type": "code",
   "execution_count": 595,
   "metadata": {},
   "outputs": [],
   "source": [
    "mimiccxr_balanced_metadata = load_pickle('/home/pamessina/medvqa-workspace/cache/mimiccxr/balanced_dataloading_metadata__20220407_150400.pkl')"
   ]
  },
  {
   "cell_type": "code",
   "execution_count": 596,
   "metadata": {},
   "outputs": [],
   "source": [
    "def get_answers(q_id, metadata, reports):\n",
    "    output = []\n",
    "    for ri, report in enumerate(reports):\n",
    "        if q_id in report['qa']:\n",
    "            answer = '. '.join(report['sentences'][i] for i in report['qa'][q_id])\n",
    "            output.append((metadata['healthy'][ri][q_id],\n",
    "                           metadata['tags_based_class'][ri][q_id],\n",
    "                           answer))\n",
    "    return output"
   ]
  },
  {
   "cell_type": "code",
   "execution_count": 597,
   "metadata": {},
   "outputs": [],
   "source": [
    "iuxray_qid2answers = {}\n",
    "for qid in range(len(iuxray_qa_adapted_reports['questions'])):\n",
    "    iuxray_qid2answers[qid] = get_answers(str(qid), iuxray_balanced_metadata, iuxray_qa_adapted_reports['reports'])"
   ]
  },
  {
   "cell_type": "code",
   "execution_count": 598,
   "metadata": {},
   "outputs": [],
   "source": [
    "mimiccxr_qid2answers = {}\n",
    "for qid in range(len(mimiccxr_qa_adapted_reports['questions'])):\n",
    "    mimiccxr_qid2answers[qid] = get_answers(str(qid), mimiccxr_balanced_metadata, mimiccxr_qa_adapted_reports['reports'])"
   ]
  },
  {
   "cell_type": "code",
   "execution_count": 612,
   "metadata": {},
   "outputs": [],
   "source": [
    "def print_health_statistics(qid2answers, questions):\n",
    "    for qid, answers in qid2answers.items():\n",
    "        print(\"------------------\")\n",
    "        print(qid, questions[qid])\n",
    "        print(Counter(x[0] for x in answers))"
   ]
  },
  {
   "cell_type": "code",
   "execution_count": 600,
   "metadata": {
    "scrolled": true
   },
   "outputs": [],
   "source": [
    "# print_health_statistics(mimiccxr_qid2answers, mimiccxr_qa_adapted_reports['questions'])"
   ]
  },
  {
   "cell_type": "code",
   "execution_count": 613,
   "metadata": {
    "scrolled": true
   },
   "outputs": [
    {
     "name": "stdout",
     "output_type": "stream",
     "text": [
      "------------------\n",
      "0 ARDS?\n",
      "Counter()\n",
      "------------------\n",
      "1 COPD?\n",
      "Counter({0: 38, 1: 5})\n",
      "------------------\n",
      "2 abscess and cavitation?\n",
      "Counter({1: 3})\n",
      "------------------\n",
      "3 adenopathy?\n",
      "Counter({0: 67, 1: 31})\n",
      "------------------\n",
      "4 air collections?\n",
      "Counter({1: 55, 0: 6})\n",
      "------------------\n",
      "5 air space disease?\n",
      "Counter({1: 399, 0: 147})\n",
      "------------------\n",
      "6 air-fluid level?\n",
      "Counter({0: 4, 1: 4})\n",
      "------------------\n",
      "7 airways?\n",
      "Counter({1: 24, 0: 4})\n",
      "------------------\n",
      "8 apical zone?\n",
      "Counter({0: 78, 1: 29})\n",
      "------------------\n",
      "9 ascites?\n",
      "Counter()\n",
      "------------------\n",
      "10 aspiration?\n",
      "Counter({0: 10, 1: 3})\n",
      "------------------\n",
      "11 atelectasis?\n",
      "Counter({0: 351, 1: 9})\n",
      "------------------\n",
      "12 azygos lobe?\n",
      "Counter({1: 2})\n",
      "------------------\n",
      "13 azygos vein?\n",
      "Counter({0: 1})\n",
      "------------------\n",
      "14 bleeding?\n",
      "Counter()\n",
      "------------------\n",
      "15 blurring?\n",
      "Counter()\n",
      "------------------\n",
      "16 bones?\n",
      "Counter({1: 1169, 0: 765})\n",
      "------------------\n",
      "17 bowel obstruction and loops?\n",
      "Counter({1: 7, 0: 1})\n",
      "------------------\n",
      "18 bowel?\n",
      "Counter({1: 8, 0: 1})\n",
      "------------------\n",
      "19 bronchiectasis?\n",
      "Counter({0: 4, 1: 1})\n",
      "------------------\n",
      "20 bronchogram?\n",
      "Counter()\n",
      "------------------\n",
      "21 bronchovascular crowding?\n",
      "Counter({1: 49, 0: 33})\n",
      "------------------\n",
      "22 bronchus?\n",
      "Counter({1: 52, 0: 45})\n",
      "------------------\n",
      "23 bullae and blebs?\n",
      "Counter({0: 10, 1: 1})\n",
      "------------------\n",
      "24 calcification?\n",
      "Counter({0: 532, 1: 8})\n",
      "------------------\n",
      "25 cancer or tumor?\n",
      "Counter({0: 20, 1: 16})\n",
      "------------------\n",
      "26 cardiac silhouette?\n",
      "Counter({1: 958, 0: 222})\n",
      "------------------\n",
      "27 cardiomegaly?\n",
      "Counter({0: 301, 1: 2})\n",
      "------------------\n",
      "28 carina?\n",
      "Counter({0: 9})\n",
      "------------------\n",
      "29 cholelithiasis?\n",
      "Counter({1: 1})\n",
      "------------------\n",
      "30 colon?\n",
      "Counter({1: 6, 0: 1})\n",
      "------------------\n",
      "31 congestive heart failure CHF?\n",
      "Counter({1: 10, 0: 9})\n",
      "------------------\n",
      "32 consolidation?\n",
      "Counter({1: 1140, 0: 84})\n",
      "------------------\n",
      "33 contrast?\n",
      "Counter({1: 6, 0: 2})\n",
      "------------------\n",
      "34 densities?\n",
      "Counter({0: 124, 1: 11})\n",
      "------------------\n",
      "35 diaphragm?\n",
      "Counter({0: 137, 1: 102})\n",
      "------------------\n",
      "36 edema?\n",
      "Counter({1: 201, 0: 147})\n",
      "------------------\n",
      "37 emphysema?\n",
      "Counter({0: 122})\n",
      "------------------\n",
      "38 esophagus?\n",
      "Counter({0: 3, 1: 2})\n",
      "------------------\n",
      "39 fibrosis?\n",
      "Counter({0: 35, 1: 7})\n",
      "------------------\n",
      "40 fissures?\n",
      "Counter({0: 19})\n",
      "------------------\n",
      "41 fluid overload?\n",
      "Counter()\n",
      "------------------\n",
      "42 fluid?\n",
      "Counter({1: 42, 0: 32})\n",
      "------------------\n",
      "43 fractures?\n",
      "Counter({0: 110, 1: 82})\n",
      "------------------\n",
      "44 free air?\n",
      "Counter({1: 62, 0: 2})\n",
      "------------------\n",
      "45 gas distension?\n",
      "Counter({1: 3})\n",
      "------------------\n",
      "46 granumola?\n",
      "Counter({0: 433, 1: 2})\n",
      "------------------\n",
      "47 haze?\n",
      "Counter({0: 2})\n",
      "------------------\n",
      "48 heart?\n",
      "Counter({1: 2434, 0: 909})\n",
      "------------------\n",
      "49 hernias?\n",
      "Counter({0: 52, 1: 1})\n",
      "------------------\n",
      "50 infection?\n",
      "Counter({0: 59, 1: 6})\n",
      "------------------\n",
      "51 infiltrate?\n",
      "Counter({1: 306, 0: 108})\n",
      "------------------\n",
      "52 interstitial lung disease?\n",
      "Counter({0: 203, 1: 10})\n",
      "------------------\n",
      "53 kerley lines?\n",
      "Counter({0: 1})\n",
      "------------------\n",
      "54 lesions?\n",
      "Counter({1: 41, 0: 16})\n",
      "------------------\n",
      "55 liver?\n",
      "Counter({0: 3})\n",
      "------------------\n",
      "56 loculation?\n",
      "Counter({0: 8, 1: 1})\n",
      "------------------\n",
      "57 lucencies?\n",
      "Counter({0: 24, 1: 17})\n",
      "------------------\n",
      "58 lung parenchyma?\n",
      "Counter({1: 26, 0: 22})\n",
      "------------------\n",
      "59 lungs?\n",
      "Counter({1: 2410, 0: 1104})\n",
      "------------------\n",
      "60 lymph nodes?\n",
      "Counter({0: 14, 1: 1})\n",
      "------------------\n",
      "61 markings?\n",
      "Counter({0: 71, 1: 17})\n",
      "------------------\n",
      "62 masses?\n",
      "Counter({1: 102, 0: 80})\n",
      "------------------\n",
      "63 mediastinum?\n",
      "Counter({1: 1827, 0: 518})\n",
      "------------------\n",
      "64 nodules?\n",
      "Counter({0: 209, 1: 119})\n",
      "------------------\n",
      "65 opacities?\n",
      "Counter({0: 422, 1: 292})\n",
      "------------------\n",
      "66 ossification?\n",
      "Counter({0: 1, 1: 1})\n",
      "------------------\n",
      "67 peribronchial cuffing?\n",
      "Counter({0: 5})\n",
      "------------------\n",
      "68 pleural space?\n",
      "Counter({1: 2660, 0: 393})\n",
      "------------------\n",
      "69 pneumatocele?\n",
      "Counter({0: 1})\n",
      "------------------\n",
      "70 pneumomediastinum?\n",
      "Counter({1: 7, 0: 1})\n",
      "------------------\n",
      "71 pneumonia?\n",
      "Counter({0: 135, 1: 122})\n",
      "------------------\n",
      "72 pneumoperitoneum?\n",
      "Counter({1: 6, 0: 4})\n",
      "------------------\n",
      "73 pneumothorax?\n",
      "Counter({1: 2541, 0: 145})\n",
      "------------------\n",
      "74 prominence?\n",
      "Counter({0: 144})\n",
      "------------------\n",
      "75 pulmonary hila?\n",
      "Counter({0: 163, 1: 44})\n",
      "------------------\n",
      "76 pulmonary vascularity?\n",
      "Counter({1: 624, 0: 172})\n",
      "------------------\n",
      "77 radiation?\n",
      "Counter({0: 2})\n",
      "------------------\n",
      "78 ribs?\n",
      "Counter({0: 115, 1: 75})\n",
      "------------------\n",
      "79 sagittal chest?\n",
      "Counter()\n",
      "------------------\n",
      "80 sarcoidosis?\n",
      "Counter({1: 8, 0: 2})\n",
      "------------------\n",
      "81 scarring?\n",
      "Counter({0: 204, 1: 3})\n",
      "------------------\n",
      "82 shadow?\n",
      "Counter({1: 7, 0: 5})\n",
      "------------------\n",
      "83 skinfold?\n",
      "Counter({0: 2})\n",
      "------------------\n",
      "84 soft tissue?\n",
      "Counter({1: 118, 0: 20})\n",
      "------------------\n",
      "85 stomach?\n",
      "Counter({1: 11, 0: 7})\n",
      "------------------\n",
      "86 sulci?\n",
      "Counter({0: 16, 1: 7})\n",
      "------------------\n",
      "87 support devices and foreign bodies?\n",
      "Counter({0: 248, 1: 225})\n",
      "------------------\n",
      "88 surgery?\n",
      "Counter({1: 154, 0: 66})\n",
      "------------------\n",
      "89 tendon?\n",
      "Counter({0: 2})\n",
      "------------------\n",
      "90 thoracic aorta?\n",
      "Counter({0: 218, 1: 171})\n",
      "------------------\n",
      "91 thyroid?\n",
      "Counter({0: 2})\n",
      "------------------\n",
      "92 tortuosity?\n",
      "Counter({1: 151, 0: 72})\n",
      "------------------\n",
      "93 trachea?\n",
      "Counter({1: 83, 0: 26})\n",
      "------------------\n",
      "94 trauma?\n",
      "Counter({1: 9, 0: 1})\n",
      "------------------\n",
      "95 tubes and lines?\n",
      "Counter({0: 170, 1: 99})\n",
      "------------------\n",
      "96 vena cava?\n",
      "Counter({0: 34, 1: 12})\n"
     ]
    }
   ],
   "source": [
    "print_health_statistics(iuxray_qid2answers, iuxray_qa_adapted_reports['questions'])"
   ]
  },
  {
   "cell_type": "code",
   "execution_count": 606,
   "metadata": {},
   "outputs": [],
   "source": [
    "_q = 'stomach?'\n",
    "# _q = iuxray_qa_adapted_reports['questions'][74]\n",
    "_qid = iuxray_qa_adapted_reports['questions'].index(_q)\n",
    "answers = get_answers(str(_qid), iuxray_balanced_metadata, iuxray_qa_adapted_reports['reports'])"
   ]
  },
  {
   "cell_type": "code",
   "execution_count": 607,
   "metadata": {},
   "outputs": [
    {
     "data": {
      "text/plain": [
       "('stomach?', 18)"
      ]
     },
     "execution_count": 607,
     "metadata": {},
     "output_type": "execute_result"
    }
   ],
   "source": [
    "_q, len(answers)"
   ]
  },
  {
   "cell_type": "code",
   "execution_count": 609,
   "metadata": {
    "scrolled": true
   },
   "outputs": [
    {
     "data": {
      "text/plain": [
       "[(1, ('contours', 'normal')),\n",
       " (1, ('distal',)),\n",
       " (1, ('fluid',)),\n",
       " (1, ('inferiorly',)),\n",
       " (1, ('large',)),\n",
       " (1, ('loops',)),\n",
       " (1, ('mild',)),\n",
       " (1, ('multiple', 'distended')),\n",
       " (1, ('not',)),\n",
       " (1, ('postoperative', 'esophagectomy')),\n",
       " (1, ('pull',)),\n",
       " (1, ('rectal',)),\n",
       " (1, ('removed', 'gastric')),\n",
       " (1, ('small', 'bowel')),\n",
       " (1, ('suction', 'tube')),\n",
       " (1, ('tip', 'course')),\n",
       " (3, ('cardiac', 'apex')),\n",
       " (3, ('sided',)),\n",
       " (3, ('stomach', 'left'))]"
      ]
     },
     "execution_count": 609,
     "metadata": {},
     "output_type": "execute_result"
    }
   ],
   "source": [
    "iuxray_balanced_metadata['top_ngrams'][(_qid, 1)]"
   ]
  },
  {
   "cell_type": "code",
   "execution_count": 611,
   "metadata": {},
   "outputs": [
    {
     "data": {
      "text/plain": [
       "[(0,\n",
       "  0,\n",
       "  'Catheter tubing overlies the left upper quadrant , appearance of the lateral projection suggest prior gastric banding procedure'),\n",
       " (0,\n",
       "  6,\n",
       "  'The stomach is distended with an air-fluid level. Large hiatal hernia with dilated intrathoracic stomach'),\n",
       " (0, 11, 'Nasogastric tube tip XXXX within the stomach body'),\n",
       " (0, 17, 'Enteric tube tip in the stomach'),\n",
       " (0,\n",
       "  2,\n",
       "  'Large hiatal hernia is identified containing stomach and colon. Stable appearance of large hiatal hernia containing stomach and large bowel as well as possible small bowel loops'),\n",
       " (0,\n",
       "  4,\n",
       "  'Enteric tube is again noted , coursing below the diaphragm the tip of which is seen projecting over the expected location of the body of the stomach'),\n",
       " (0, 3, 'To the stomach contours appear grossly clear')]"
      ]
     },
     "execution_count": 611,
     "metadata": {},
     "output_type": "execute_result"
    }
   ],
   "source": [
    "[x for x in answers if x[0] == 0]"
   ]
  },
  {
   "cell_type": "code",
   "execution_count": 397,
   "metadata": {
    "scrolled": true
   },
   "outputs": [
    {
     "data": {
      "text/plain": [
       "Counter({32: 1,\n",
       "         49: 2,\n",
       "         47: 2,\n",
       "         99: 13,\n",
       "         98: 35,\n",
       "         100: 15,\n",
       "         66: 2,\n",
       "         60: 1,\n",
       "         94: 3,\n",
       "         78: 5,\n",
       "         63: 3,\n",
       "         89: 3,\n",
       "         91: 5,\n",
       "         97: 12,\n",
       "         40: 1,\n",
       "         37: 1,\n",
       "         2: 1,\n",
       "         81: 4,\n",
       "         95: 2,\n",
       "         82: 5,\n",
       "         50: 1,\n",
       "         74: 2,\n",
       "         24: 1,\n",
       "         10: 1,\n",
       "         92: 4,\n",
       "         34: 1,\n",
       "         55: 2,\n",
       "         44: 1,\n",
       "         64: 2,\n",
       "         18: 1,\n",
       "         93: 1,\n",
       "         59: 2,\n",
       "         88: 2,\n",
       "         96: 11,\n",
       "         72: 1,\n",
       "         16: 1,\n",
       "         19: 1,\n",
       "         75: 2,\n",
       "         17: 1,\n",
       "         80: 4,\n",
       "         38: 1,\n",
       "         71: 2,\n",
       "         62: 3,\n",
       "         56: 1,\n",
       "         29: 1,\n",
       "         61: 2,\n",
       "         20: 1,\n",
       "         77: 2,\n",
       "         11: 1,\n",
       "         53: 2,\n",
       "         12: 1,\n",
       "         5: 1,\n",
       "         70: 3,\n",
       "         58: 2,\n",
       "         51: 2,\n",
       "         76: 2,\n",
       "         14: 1,\n",
       "         27: 1,\n",
       "         0: 1,\n",
       "         26: 1,\n",
       "         9: 1,\n",
       "         48: 2,\n",
       "         69: 2,\n",
       "         3: 1,\n",
       "         35: 1,\n",
       "         13: 1,\n",
       "         6: 1,\n",
       "         73: 4,\n",
       "         1: 1,\n",
       "         43: 1,\n",
       "         68: 1,\n",
       "         45: 2,\n",
       "         23: 1,\n",
       "         33: 1,\n",
       "         65: 1,\n",
       "         25: 1,\n",
       "         83: 1,\n",
       "         22: 1,\n",
       "         4: 1,\n",
       "         8: 1,\n",
       "         7: 1,\n",
       "         90: 1,\n",
       "         36: 1,\n",
       "         67: 2,\n",
       "         41: 1,\n",
       "         52: 1,\n",
       "         15: 1,\n",
       "         31: 1,\n",
       "         57: 1})"
      ]
     },
     "execution_count": 397,
     "metadata": {},
     "output_type": "execute_result"
    }
   ],
   "source": [
    "Counter([x[1] for x in answers if x[0] == 1])"
   ]
  },
  {
   "cell_type": "code",
   "execution_count": 509,
   "metadata": {},
   "outputs": [],
   "source": [
    "from torch.utils.data import Dataset"
   ]
  },
  {
   "cell_type": "code",
   "execution_count": 477,
   "metadata": {},
   "outputs": [],
   "source": [
    "class AtomicDataset(Dataset):\n",
    "    def __init__(self, label, k):\n",
    "        self.data = [f'{label}_{i}' for i in range(k)]\n",
    "        self._length = int(1e12)\n",
    "    \n",
    "    def __len__(self):\n",
    "        return self._length\n",
    "\n",
    "    def __getitem__(self, i):\n",
    "        data = self.data\n",
    "        return data[i % len(data)]"
   ]
  },
  {
   "cell_type": "code",
   "execution_count": 498,
   "metadata": {},
   "outputs": [],
   "source": [
    "class ComposedDataset(Dataset):\n",
    "    def __init__(self, datasets, weights):\n",
    "        self.datasets = datasets\n",
    "        self._init_indices(datasets, weights)\n",
    "        self._length = int(1e12)\n",
    "    \n",
    "    def _init_indices(self, datasets, weights):\n",
    "        tot_w = sum(weights)\n",
    "        freqs = [int(len(datasets) * 200 * w/tot_w) for w in weights]\n",
    "        count = sum(freqs)\n",
    "        indices = [None] * count\n",
    "        dataset_ids = list(range(len(datasets)))\n",
    "        dataset_ids.sort(key = lambda i : freqs[i], reverse=True)\n",
    "        available_slots = list(range(count))\n",
    "        for i in dataset_ids:\n",
    "            assert len(available_slots) >= freqs[i]\n",
    "            step = len(available_slots) / freqs[i]\n",
    "            for j in range(freqs[i]):\n",
    "                jj = int(j * step)\n",
    "                indices[available_slots[jj]] = i\n",
    "            available_slots = [s for s in available_slots if indices[s] is None]\n",
    "        indices = [i for i in indices if i is not None]\n",
    "        \n",
    "        dataset_counts = [[0] * len(indices) for _ in range(len(datasets))]\n",
    "        for i in range(len(datasets)):\n",
    "            for j in range(len(indices)):\n",
    "                dataset_counts[i][j] = (indices[j] == i) + (dataset_counts[i][j-1] if j > 0 else 0)\n",
    "            assert dataset_counts[i][-1] > 0, (i, dataset_counts[i], indices)\n",
    "\n",
    "        self.indices = indices\n",
    "        self.counts = dataset_counts\n",
    "    \n",
    "    def __len__(self):\n",
    "        return self._length\n",
    "    \n",
    "    def __getitem__(self, i):\n",
    "        indices = self.indices        \n",
    "        ii = i % len(indices)\n",
    "        idx = indices[ii]\n",
    "        assert idx < len(self.datasets)\n",
    "        counts = self.counts[idx]\n",
    "        j = (i // len(indices)) * counts[-1] + (counts[ii - 1] if ii > 0 else 0)\n",
    "        assert j < len(self.datasets[idx])\n",
    "        return self.datasets[idx][j]"
   ]
  },
  {
   "cell_type": "code",
   "execution_count": 494,
   "metadata": {},
   "outputs": [],
   "source": [
    "datasetA = AtomicDataset('A', 5123)"
   ]
  },
  {
   "cell_type": "code",
   "execution_count": 495,
   "metadata": {},
   "outputs": [],
   "source": [
    "datasetB = AtomicDataset('B', 1022)"
   ]
  },
  {
   "cell_type": "code",
   "execution_count": 496,
   "metadata": {},
   "outputs": [],
   "source": [
    "datasetC = AtomicDataset('C', 3033)"
   ]
  },
  {
   "cell_type": "code",
   "execution_count": 505,
   "metadata": {},
   "outputs": [],
   "source": [
    "datasetD = AtomicDataset('D', 232)"
   ]
  },
  {
   "cell_type": "code",
   "execution_count": 508,
   "metadata": {},
   "outputs": [
    {
     "name": "stdout",
     "output_type": "stream",
     "text": [
      "freqs =  [1, 2, 596]\n"
     ]
    }
   ],
   "source": [
    "complex_dataset = ComposedDataset([datasetA, datasetB, datasetC], [5, 7, 2000])"
   ]
  },
  {
   "cell_type": "code",
   "execution_count": 506,
   "metadata": {},
   "outputs": [
    {
     "name": "stdout",
     "output_type": "stream",
     "text": [
      "freqs =  [200, 200]\n"
     ]
    }
   ],
   "source": [
    "complex_dataset_2 = ComposedDataset([complex_dataset, datasetD], [1, 1])"
   ]
  },
  {
   "cell_type": "code",
   "execution_count": 507,
   "metadata": {},
   "outputs": [
    {
     "data": {
      "text/plain": [
       "['C_0',\n",
       " 'D_0',\n",
       " 'C_1',\n",
       " 'D_1',\n",
       " 'B_0',\n",
       " 'D_2',\n",
       " 'C_2',\n",
       " 'D_3',\n",
       " 'C_3',\n",
       " 'D_4',\n",
       " 'B_1',\n",
       " 'D_5',\n",
       " 'C_4',\n",
       " 'D_6',\n",
       " 'C_5',\n",
       " 'D_7',\n",
       " 'A_0',\n",
       " 'D_8',\n",
       " 'C_6',\n",
       " 'D_9',\n",
       " 'B_2',\n",
       " 'D_10',\n",
       " 'C_7',\n",
       " 'D_11',\n",
       " 'C_8',\n",
       " 'D_12',\n",
       " 'A_1',\n",
       " 'D_13',\n",
       " 'C_9',\n",
       " 'D_14',\n",
       " 'C_10',\n",
       " 'D_15',\n",
       " 'B_3',\n",
       " 'D_16',\n",
       " 'C_11',\n",
       " 'D_17',\n",
       " 'B_4',\n",
       " 'D_18',\n",
       " 'C_12',\n",
       " 'D_19',\n",
       " 'C_13',\n",
       " 'D_20',\n",
       " 'A_2',\n",
       " 'D_21',\n",
       " 'C_14',\n",
       " 'D_22',\n",
       " 'C_15',\n",
       " 'D_23',\n",
       " 'B_5',\n",
       " 'D_24']"
      ]
     },
     "execution_count": 507,
     "metadata": {},
     "output_type": "execute_result"
    }
   ],
   "source": [
    "[complex_dataset_2[i] for i in range(50)]"
   ]
  },
  {
   "cell_type": "code",
   "execution_count": 510,
   "metadata": {},
   "outputs": [],
   "source": [
    "import math"
   ]
  },
  {
   "cell_type": "code",
   "execution_count": 576,
   "metadata": {},
   "outputs": [],
   "source": [
    "def normalize_weights(ws):\n",
    "    w_sum = sum(ws)\n",
    "    ws = [w/w_sum for w in ws]\n",
    "    ws = [math.log(1 + w * 2e3) for w in ws]\n",
    "    w_sum = sum(ws)\n",
    "    ws = [w/w_sum for w in ws]\n",
    "    return ws"
   ]
  },
  {
   "cell_type": "code",
   "execution_count": 580,
   "metadata": {},
   "outputs": [
    {
     "data": {
      "text/plain": [
       "[0.672374888615261, 0.32762511138473915]"
      ]
     },
     "execution_count": 580,
     "metadata": {},
     "output_type": "execute_result"
    }
   ],
   "source": [
    "normalize_weights([5000, 100])"
   ]
  },
  {
   "cell_type": "code",
   "execution_count": 554,
   "metadata": {},
   "outputs": [
    {
     "data": {
      "text/plain": [
       "([8.699681400989514, 0.5596157879354227, 2.772588722239781],\n",
       " [0.7230521852702111, 0.04651106169616683, 0.2304367530336221])"
      ]
     },
     "execution_count": 554,
     "metadata": {},
     "output_type": "execute_result"
    }
   ],
   "source": [
    "x = [math.log(1 + x * 0.15) for x in [4e4, 5, 100]]\n",
    "x_sum = sum(x)\n",
    "x, [y/x_sum for y in x]"
   ]
  }
 ],
 "metadata": {
  "kernelspec": {
   "display_name": "Python 3",
   "language": "python",
   "name": "python3"
  },
  "language_info": {
   "codemirror_mode": {
    "name": "ipython",
    "version": 3
   },
   "file_extension": ".py",
   "mimetype": "text/x-python",
   "name": "python",
   "nbconvert_exporter": "python",
   "pygments_lexer": "ipython3",
   "version": "3.6.9"
  }
 },
 "nbformat": 4,
 "nbformat_minor": 4
}
