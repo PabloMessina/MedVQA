{
 "cells": [
  {
   "cell_type": "code",
   "execution_count": 2,
   "id": "765bb40b",
   "metadata": {
    "scrolled": true
   },
   "outputs": [
    {
     "name": "stdout",
     "output_type": "stream",
     "text": [
      "env: CUDA_VISIBLE_DEVICES=1\n"
     ]
    }
   ],
   "source": [
    "%env CUDA_VISIBLE_DEVICES=1"
   ]
  },
  {
   "cell_type": "code",
   "execution_count": 5,
   "id": "4814cd7a",
   "metadata": {},
   "outputs": [],
   "source": [
    "from medvqa.utils.files import load_pickle"
   ]
  },
  {
   "cell_type": "markdown",
   "id": "50250026",
   "metadata": {},
   "source": [
    "# VinDR-CXR"
   ]
  },
  {
   "cell_type": "code",
   "execution_count": 69,
   "id": "f6b67632",
   "metadata": {},
   "outputs": [
    {
     "name": "stdout",
     "output_type": "stream",
     "text": [
      "checkpoint_names = ['checkpoint_196_cacc+chf1+chf1+cscc+encc+hscc+nlcc+sass+spss+ta0)+ta1)+ta2)+ta0)+ta1)+ta2)+ta3)+ta4)+ta5)+ta6)+ta7)=0.9189.pt']\n",
      "\u001b[1mExtracting embeddings...\u001b[0m\n",
      "  0%|                                                    | 0/28 [00:00<?, ?it/s]Loading cached text embeddings from /mnt/data/pamessina_folder_backup_15_10_24/pamessina/medvqa-workspace/cache/text_embeddings_cache(hash=469,680486110513564934).pkl\n",
      "len(self.cache[\"hashes\"]) = 623048\n",
      "self.cache[\"embeddings\"].shape = (623048, 128)\n",
      "100%|███████████████████████████████████████████| 28/28 [00:00<00:00, 65.45it/s]\n",
      "\u001b[1m\u001b[34mSaving output to:\u001b[0m \u001b[1m\u001b[34m/mnt/data/pamessina_folder_backup_15_10_24/pamessina/medvqa-workspace/cache/vinbig/label_phrase_embeddings(hash=353,2491289492560726319).pkl\u001b[0m\n",
      "Done!\n"
     ]
    }
   ],
   "source": [
    "!python ../../scripts/vinbig/precompute_phrase_embeddings.py \\\n",
    "--model_name \"microsoft/BiomedVLP-CXR-BERT-specialized\" \\\n",
    "--model_checkpoint_folder_path \\\n",
    "\"/mnt/data/pamessina/workspaces/medvqa-workspace/models/fact_embedding/20240629_084405_MIMIC-CXR(triplets+classif+entcont+nli+radgraph+autoencoder)_FactEncoder(microsoft-BiomedVLP-CXR-BERT-specialized)\""
   ]
  },
  {
   "cell_type": "code",
   "execution_count": 53,
   "id": "3fbdd2b6",
   "metadata": {},
   "outputs": [
    {
     "name": "stdout",
     "output_type": "stream",
     "text": [
      "checkpoint_names = ['checkpoint_196_cacc+chf1+chf1+cscc+encc+hscc+nlcc+sass+spss+ta0)+ta1)+ta2)+ta0)+ta1)+ta2)+ta3)+ta4)+ta5)+ta6)+ta7)=0.9189.pt']\n",
      "Loading integrated fact metadata from: /home/pamessina/medvqa-workspace/cache/mimiccxr/integrated_fact_metadata(595880,60579117).improved_comparison(6741113).jsonl\n",
      "Loaded 595875 facts.\n",
      "\u001b[1mExtracting embeddings...\u001b[0m\n",
      "  0%|                                                | 0/595875 [00:00<?, ?it/s]Loading cached text embeddings from /mnt/data/pamessina_folder_backup_15_10_24/pamessina/medvqa-workspace/cache/text_embeddings_cache(hash=469,680486110513564934).pkl\n",
      "len(self.cache[\"hashes\"]) = 623048\n",
      "self.cache[\"embeddings\"].shape = (623048, 128)\n",
      "100%|███████████████████████████████| 595875/595875 [00:01<00:00, 331384.00it/s]\n",
      "100%|███████████████████████████████████████| 28/28 [00:00<00:00, 268129.02it/s]\n",
      "\u001b[1m\u001b[34mSaving output to:\u001b[0m \u001b[1m\u001b[34m/mnt/data/pamessina_folder_backup_15_10_24/pamessina/medvqa-workspace/cache/vinbig/label_phrase_embeddings(hash=514,3911788164261367088).pkl\u001b[0m\n",
      "Done!\n"
     ]
    }
   ],
   "source": [
    "!python ../../scripts/vinbig/precompute_phrase_embeddings.py \\\n",
    "--model_name \"microsoft/BiomedVLP-CXR-BERT-specialized\" \\\n",
    "--model_checkpoint_folder_path \\\n",
    "\"/mnt/data/pamessina/workspaces/medvqa-workspace/models/fact_embedding/20240629_084405_MIMIC-CXR(triplets+classif+entcont+nli+radgraph+autoencoder)_FactEncoder(microsoft-BiomedVLP-CXR-BERT-specialized)\" \\\n",
    "--average_top_k_most_similar \\\n",
    "--top_k 10 \\\n",
    "--integrated_fact_metadata_filepath \\\n",
    "\"/home/pamessina/medvqa-workspace/cache/mimiccxr/integrated_fact_metadata(595880,60579117).improved_comparison(6741113).jsonl\""
   ]
  },
  {
   "cell_type": "code",
   "execution_count": 54,
   "id": "b24e7959",
   "metadata": {},
   "outputs": [],
   "source": [
    "tmp = load_pickle('/mnt/data/pamessina_folder_backup_15_10_24/pamessina/medvqa-workspace/cache/vinbig/label_phrase_embeddings(hash=514,3911788164261367088).pkl')"
   ]
  },
  {
   "cell_type": "code",
   "execution_count": 55,
   "id": "0b5ea793",
   "metadata": {},
   "outputs": [
    {
     "data": {
      "text/plain": [
       "dict_keys(['phrases', 'phrase_embeddings', 'most_similar_facts', 'most_similar_fact_embeddings', 'most_similar_fact_similarities'])"
      ]
     },
     "execution_count": 55,
     "metadata": {},
     "output_type": "execute_result"
    }
   ],
   "source": [
    "tmp.keys()"
   ]
  },
  {
   "cell_type": "code",
   "execution_count": 56,
   "id": "8bc9c26a",
   "metadata": {},
   "outputs": [
    {
     "data": {
      "text/plain": [
       "dtype('float32')"
      ]
     },
     "execution_count": 56,
     "metadata": {},
     "output_type": "execute_result"
    }
   ],
   "source": [
    "tmp['phrase_embeddings'].dtype"
   ]
  },
  {
   "cell_type": "code",
   "execution_count": 59,
   "id": "77d6194a",
   "metadata": {
    "scrolled": true
   },
   "outputs": [
    {
     "name": "stdout",
     "output_type": "stream",
     "text": [
      "----------------------\n",
      "aortic enlargement seen\n",
      "['enlarged aortic arch', 'aorta that is dilated', 'enlargement of the aortic arch', 'enlarged arch of the aorta', 'aortic enlargement', 'dilatation of the aortic arch', 'dilated aortic arch', 'enlarged aortic contour', 'significantly enlarged aorta', 'markedly enlarged aorta']\n",
      "[0.96139735 0.9609735  0.9601847  0.9530184  0.9525049  0.9490653\n",
      " 0.94730663 0.944776   0.94387376 0.94266385]\n",
      "----------------------\n",
      "atelectasis seen\n",
      "['atelectasis seen', 'atelectasis present', 'new transient atelectasis', 'atelectasis that developed', 'atelectasis that developed postoperatively', 'interval development of atelectasis', 'present atelectasis', 'new atelectases', 'presence of atelectasis', 'atelectasis that developed after']\n",
      "[0.99999994 0.99622214 0.96153843 0.95888746 0.95835733 0.9580489\n",
      " 0.957905   0.957592   0.9538084  0.94895506]\n",
      "----------------------\n",
      "calcification seen\n",
      "['calcifications present', 'calcified plaque seen throughout', 'calcified plaque throughout', 'punctate calcifications', 'coarse calcification', 'unusual calcification', 'calcification', 'diffuse calcification', 'diffuse calcifications', 'calcifications']\n",
      "[0.9896301  0.96919096 0.9683995  0.9677843  0.9671533  0.96555257\n",
      " 0.9638673  0.96143574 0.9559089  0.95554245]\n",
      "----------------------\n",
      "cardiomegaly seen\n",
      "['cardiomegaly seen', 'cardiomegaly noted', 'cardiomegaly demonstrated', 'cardiomegaly present', 'findings of cardiac enlargement', 'present cardiac enlargement', 'enlarged cardiomegaly', 'observation of cardiomegaly', 'evidence of cardiac enlargement', 'gross cardiomegaly']\n",
      "[0.99999994 0.998275   0.9977342  0.9902705  0.98435247 0.9813506\n",
      " 0.9785652  0.97603667 0.9757262  0.9736581 ]\n",
      "----------------------\n",
      "clavicle fracture seen\n",
      "['fractured clavicle', 'fracture of the clavicle', 'clavicular injury', 'skeletal injury in clavicle', 'clavicular fractures', 'high concern for clavicular fracture', 'old clavicular fracture', 'extensive clavicular injuries', 'pseudoarthrosis with clavicle', 'old fracture of the clavicle']\n",
      "[0.9891785  0.98026204 0.9746213  0.97111046 0.9638345  0.9499297\n",
      " 0.92840594 0.9181344  0.9037149  0.90360224]\n",
      "----------------------\n",
      "consolidation seen\n",
      "['consolidation present', 'presence of focal consolidation', 'area of consolidation', 'consolidation in that region', 'region of consolidation', 'consolidation', 'focal consolidation', 'presence of consolidation', 'area of focal consolidation', 'focus of consolidation']\n",
      "[0.99779105 0.9448031  0.93619305 0.92908025 0.92901    0.92828846\n",
      " 0.917983   0.91367257 0.91290045 0.91150707]\n",
      "----------------------\n",
      "edema seen\n",
      "['visible edema', 'abnormality is edema', 'gravitational edema', 'transient asymmetric edema', 'relatives asymmetry favors edema', 'select edema', 'gravitorational edema', 'florid edema', 'consolidatory signs of edema', 'consolidatory signs of congestion']\n",
      "[0.95521235 0.9393126  0.9243424  0.92406714 0.91611755 0.91568166\n",
      " 0.9107294  0.90683067 0.9041936  0.9030295 ]\n",
      "----------------------\n",
      "emphysema seen\n",
      "['emphysema noted', 'emphysema', 'emphysema is present', 'element of emphysema', 'component of emphysema', 'known emphysema', 'manifestations of emphysema', 'background emphysema', 'patient with emphysema', 'presence of emphysema']\n",
      "[0.99958724 0.9893057  0.9855996  0.98461074 0.983276   0.9821842\n",
      " 0.98165965 0.98139244 0.980594   0.97974885]\n",
      "----------------------\n",
      "enlarged pulmonary artery seen\n",
      "['elevated pulmonary artery', 'pulmonary artery is enlarged', 'dilated pulmonary artery', 'enlarged pulmonary artery silhouette', 'enlarged pulmonary artery', 'enlarged pulmonary artery silhouettes', 'dilated pulmonary outflow tract', 'very dilated pulmonary arteries', 'enlargement of the pulmonary outflow tract', 'distended pulmonary vessels']\n",
      "[0.97585624 0.97163475 0.9694364  0.9662586  0.9634929  0.95987\n",
      " 0.9526307  0.9478699  0.9474372  0.94229543]\n",
      "----------------------\n",
      "interstitial lung disease seen\n",
      "['intersitial lung disease', 'presence of interstitial lung disease', 'findings concerning for interstitial lung disease', 'interstitial lung disease', 'presence of an interstitial lung disease', 'appearance of interstitial lung disease', 'interstitial lung disease diagnosed on CT', 'interstitial lung disease demonstrated on chest CT', 'evidence of interstitial lung disease', 'interstitial pulmonary disease']\n",
      "[0.986944   0.97516507 0.97464085 0.97458005 0.97436386 0.97416127\n",
      " 0.97311795 0.97219086 0.9719524  0.9704824 ]\n",
      "----------------------\n",
      "infiltration seen\n",
      "['infiltration', 'infiltrate', 'Infiltrate', 'dense infiltrate', 'infiltrative process', 'acute infiltrate', 'infiltrates', 'prominent infiltrate', 'focal infiltrate detected', 'component of infiltrate']\n",
      "[0.96252036 0.94614077 0.94614077 0.9363061  0.9339993  0.91922146\n",
      " 0.9156243  0.91355634 0.9109211  0.90763414]\n",
      "----------------------\n",
      "lung opacity seen\n",
      "['opacification within the lung', 'lung opacity', 'opacification in the lungs', 'opacified lung', 'opacity in the parenchyma', 'opacity in the lung', 'opacity within the lung parenchyma', 'abnormalities', 'lesions', 'opacity present on chest x-ray']\n",
      "[0.96772504 0.96643645 0.9628747  0.9563787  0.94573754 0.94073486\n",
      " 0.9362987  0.9308436  0.9298222  0.9236531 ]\n",
      "----------------------\n",
      "lung cavity seen\n",
      "['clear pneumothorax in the lungs', 'trapped lung', 'newly cavitated lungs', 'lung expansion in the chest', 'extrapulmonary hematoma', 'trapped lung syndrome', 'lung infarction', 'airation of lung tissue', 'air surrounding the entire lung', 'bleeding due to local chest cage trauma']\n",
      "[0.8439119  0.8436548  0.80457556 0.75011    0.74268603 0.736745\n",
      " 0.7327286  0.7316476  0.7302324  0.72711515]\n",
      "----------------------\n",
      "lung cyst seen\n",
      "['bulla within the lungs', 'bulla formation in the lungs', 'bullas in the lungs', 'bulla', 'bulla formation', 'bullae', 'paraseptal bullae', 'bullous changes', 'bullous changes throughout the lung fields', 'bipical blebs']\n",
      "[0.98599553 0.98495245 0.98289204 0.9574982  0.9568895  0.9563167\n",
      " 0.95577747 0.9552519  0.9530705  0.95269173]\n",
      "----------------------\n",
      "mediastinal shift seen\n",
      "['shift of the mediastinum', 'shifting of the mediastinum', 'deviation of the mediastinum', 'displacement of the mediastinum', 'displaced mediastinum', 'mediastinal displacement', 'mediastinal shift', 'apparent shift of mediastinal structures', 'shift of mediastinal structures', 'lefward mediastinal shift']\n",
      "[0.97026265 0.9690083  0.96581614 0.9620367  0.9612732  0.957061\n",
      " 0.9556905  0.95433235 0.95283574 0.95225734]\n",
      "----------------------\n",
      "nodule/mass seen\n",
      "['telephoned discovery of a nodule', 'nodules that should be further assessed with chest CT', 'firing-in-nodules', 'work up indicated for nodules', 'mass', 'nodule requires biopsy', 'concern for nodule in this region', 'high density of the nodule', 'mass lesion', 'apparent nodularity']\n",
      "[0.9418812  0.91711247 0.9156755  0.9150784  0.91387993 0.91383034\n",
      " 0.91374445 0.9135142  0.91193295 0.9104467 ]\n",
      "----------------------\n",
      "pleural effusion seen\n",
      "['pleural effusion seen', 'pleural effusion demonstrated', 'pleural effusion noted', 'pleural effusion present', 'pleural effusions identified', 'pleural effusions present', 'remarked pleural effusion', 'finding of pleural effusion', 'pleural effusions appreciated', 'appearance of the pleural effusion with loculated component visualized']\n",
      "[0.99999994 0.99824286 0.998112   0.9581105  0.9570011  0.94701374\n",
      " 0.9329876  0.9178543  0.9100845  0.90072215]\n",
      "----------------------\n",
      "pleural thickening seen\n",
      "['pleural thickening present', 'presence of pleural thickening', 'abnormally thickened pleura', 'irregular thickening of the pleura', 'thickened pleura', 'pleural-based thickening', 'pleural thickening', 'thickening of the pleura', 'thickening of the pleural surface', 'pleural thickenings']\n",
      "[0.9897887  0.97374165 0.9643719  0.96040314 0.960004   0.9589355\n",
      " 0.9584462  0.95570517 0.95444113 0.9529124 ]\n",
      "----------------------\n",
      "pneumothorax seen\n",
      "['pneumothorax seen', 'pneumothoraces seen', 'pneumothoraces identified', 'pneumothorax detected', 'pneumothorax visualized', 'evident pneumothorax', 'findings of the pneumothorax', 'appearance of pneumothorax', 'detection of pneumothorax', 'finding of pneumothorax']\n",
      "[1.         0.9985651  0.99745834 0.99686456 0.99307656 0.9275962\n",
      " 0.9149611  0.9142322  0.91132236 0.9093394 ]\n",
      "----------------------\n",
      "pulmonary fibrosis seen\n",
      "['pulmonary fibrosis present', 'pulmonary fibrosis present radiographically', 'evidence of fibrotic changes in the lungs', 'evidence of pulmonary fibrosis', 'fibrosis in the lungs', 'documented lung fibrosis', 'component of fibrotic lung disease', 'component of fibrosis in the lungs', 'pulmonary fibrosis', 'pulmonary fibrotic disease']\n",
      "[0.9968208  0.9933108  0.97924674 0.9772235  0.975438   0.9745836\n",
      " 0.97265613 0.9724115  0.9723858  0.9719062 ]\n",
      "----------------------\n",
      "rib fracture seen\n",
      "['rib fractures appreciated', 'rib fractures identified', 'acute fracture of the ribs', 'rib fractures appear recent', 'detection of rib fractures', 'rib fracture with cortical defect', 'new rib fracture', 'fourth rib fracture confirmed on CT', 'rib fracture', 'Rib fx']\n",
      "[0.9701328  0.9659438  0.94037926 0.9369842  0.93511534 0.9341844\n",
      " 0.92252076 0.9188123  0.9184716  0.9180277 ]\n",
      "----------------------\n",
      "other lesion seen\n",
      "['other lesions', 'other abnormality', 'left apical pneumothorax obscured by the apical chest tube', 'small pneumothorax obscured by overlying tubing', 'massive change', 'suggestion of additional small lung nodules in the left lower lobe', 'other mass lesion', 'other mass', 'pleural effusion tracking laterally on the left', 'other mass effect']\n",
      "[0.96152705 0.9486482  0.94380516 0.93627465 0.93510514 0.93429065\n",
      " 0.93333054 0.9301095  0.92846215 0.9283295 ]\n",
      "----------------------\n",
      "copd seen\n",
      "['COPD noted', 'Background COPD noted', 'background COPD noted', 'COPD present', 'COPD-related', 'background COPD', 'Background COPD', 'demonstrates COPD', 'COPD', 'coPD']\n",
      "[0.9993664  0.9937909  0.9937909  0.99266887 0.99195015 0.9918004\n",
      " 0.9918004  0.99080503 0.9906209  0.99062073]\n",
      "----------------------\n",
      "lung tumor seen\n",
      "['primary pulmonary neoplasm', 'nodule highly concerning for a primary lung cancer', 'primary lung neoplasm', 'known lung neoplasm', 'lung mass concerning for malignancy', 'pulmonary nodules concerning for malignancy', 'malignant nodules', 'neoplastic lung lesions', 'pulmonary metastatic lesion visualized', 'pulmonary nodule concerning for malignancy']\n",
      "[0.9407993  0.9382577  0.9334847  0.9237673  0.9185182  0.9176345\n",
      " 0.91688627 0.91539896 0.91107965 0.9094274 ]\n",
      "----------------------\n",
      "pneumonia seen\n",
      "['pneumonia diagnosed', 'detection of pneumonia', 'Detect pneumonia', 'detect pneumonia', 'presence of a pneumonia', 'pneumonia present', 'manifestation of pneumonia', 'apparent pneumonia', 'presence of pneumonia', 'focus of developing pneumonia']\n",
      "[0.99318355 0.9820012  0.97354287 0.97354287 0.9724071  0.9711001\n",
      " 0.97024035 0.9662852  0.9613037  0.9610524 ]\n",
      "----------------------\n",
      "tuberculosis seen\n",
      "['appearance seen in tuberculosis', 'findings concerning for tuberculosis', 'known tuberculosis', 'concerning for tuberculosis', 'tuberculosis', 'sarcoid', 'worrisome for tuberculosis', 'reactivation tuberculosis', 'known sarcoid', 'findings highly concerning for tuberculosis']\n",
      "[0.9762796  0.9682035  0.9662773  0.9662242  0.96408343 0.9637277\n",
      " 0.96069217 0.96052265 0.95604163 0.95017457]\n",
      "----------------------\n",
      "other disease seen\n",
      "['other inflammatory processes', 'other inflammatory process', 'other superimposed acute process', 'suggestion of further decompensation of left heart failure', 'presence of other etiologies', 'sequelae of other infectious process', 'reactive to other condition', 'additional process such as interstitial disease', 'atypical infectious processes', 'infectious condition']\n",
      "[0.8821435  0.8624681  0.8234452  0.8090427  0.80411804 0.79887325\n",
      " 0.79728556 0.7931178  0.7863209  0.78257126]\n",
      "----------------------\n",
      "no abnormalities seen\n",
      "['no abnormalities seen', 'no abnormalities identified', 'no abnormalities demonstrated', 'no abnormalities present', 'radiograph shows no evidence of abnormality', 'no confirmation of abnormality', 'no abnormalities present on the chest x-ray', 'no abnormalities present on radiograph', 'no abnormalities seen on the chest x-ray', 'no visualization of the abnormality']\n",
      "[0.9999999  0.99944305 0.99865746 0.9976819  0.9819038  0.97326064\n",
      " 0.97208726 0.9714158  0.9699172  0.96841925]\n"
     ]
    }
   ],
   "source": [
    "import numpy as np\n",
    "for i, (p, ms, sims) in enumerate(zip(tmp['phrases'], tmp['most_similar_facts'], tmp['most_similar_fact_similarities'])):\n",
    "    print('----------------------')\n",
    "    print(p)\n",
    "    print(ms)\n",
    "    print(sims)"
   ]
  },
  {
   "cell_type": "markdown",
   "id": "ae2490a7",
   "metadata": {},
   "source": [
    "# Chest ImaGenome"
   ]
  },
  {
   "cell_type": "code",
   "execution_count": 64,
   "id": "ff441f3a",
   "metadata": {},
   "outputs": [
    {
     "name": "stdout",
     "output_type": "stream",
     "text": [
      "checkpoint_names = ['checkpoint_196_cacc+chf1+chf1+cscc+encc+hscc+nlcc+sass+spss+ta0)+ta1)+ta2)+ta0)+ta1)+ta2)+ta3)+ta4)+ta5)+ta6)+ta7)=0.9189.pt']\n",
      "Loading integrated fact metadata from: /home/pamessina/medvqa-workspace/cache/mimiccxr/integrated_fact_metadata(595880,60579117).improved_comparison(6741113).jsonl\n",
      "Loaded 28858 anatomical locations.\n",
      "\u001b[1mExtracting embeddings...\u001b[0m\n",
      "  0%|                                                 | 0/28858 [00:00<?, ?it/s]Loading cached text embeddings from /mnt/data/pamessina_folder_backup_15_10_24/pamessina/medvqa-workspace/cache/text_embeddings_cache(hash=469,680486110513564934).pkl\n",
      "len(self.cache[\"hashes\"]) = 623048\n",
      "self.cache[\"embeddings\"].shape = (623048, 128)\n",
      "100%|██████████████████████████████████| 28858/28858 [00:00<00:00, 58194.12it/s]\n",
      "100%|███████████████████████████████████████| 36/36 [00:00<00:00, 135058.09it/s]\n",
      "\u001b[1m\u001b[34mSaving output to:\u001b[0m \u001b[1m\u001b[34m/mnt/data/pamessina_folder_backup_15_10_24/pamessina/medvqa-workspace/cache/chest_imagenome/bbox_phrase_embeddings(hash=522,1261303459192373044).pkl\u001b[0m\n",
      "Done!\n"
     ]
    }
   ],
   "source": [
    "!python ../../scripts/chest_imagenome/precompute_bbox_phrase_embeddings.py \\\n",
    "--model_name \"microsoft/BiomedVLP-CXR-BERT-specialized\" \\\n",
    "--model_checkpoint_folder_path \\\n",
    "\"/mnt/data/pamessina/workspaces/medvqa-workspace/models/fact_embedding/20240629_084405_MIMIC-CXR(triplets+classif+entcont+nli+radgraph+autoencoder)_FactEncoder(microsoft-BiomedVLP-CXR-BERT-specialized)\" \\\n",
    "--average_top_k_most_similar \\\n",
    "--top_k 10 \\\n",
    "--integrated_fact_metadata_filepath \\\n",
    "\"/home/pamessina/medvqa-workspace/cache/mimiccxr/integrated_fact_metadata(595880,60579117).improved_comparison(6741113).jsonl\""
   ]
  },
  {
   "cell_type": "code",
   "execution_count": 65,
   "id": "4b5e1d43",
   "metadata": {},
   "outputs": [],
   "source": [
    "tmp = load_pickle('/mnt/data/pamessina_folder_backup_15_10_24/pamessina/medvqa-workspace/cache/chest_imagenome/bbox_phrase_embeddings(hash=522,1261303459192373044).pkl')"
   ]
  },
  {
   "cell_type": "code",
   "execution_count": 66,
   "id": "caa3f61b",
   "metadata": {},
   "outputs": [
    {
     "data": {
      "text/plain": [
       "dict_keys(['bbox_phrases', 'bbox_phrase_embeddings', 'most_similar_anatomical_locations', 'most_similar_similarities'])"
      ]
     },
     "execution_count": 66,
     "metadata": {},
     "output_type": "execute_result"
    }
   ],
   "source": [
    "tmp.keys()"
   ]
  },
  {
   "cell_type": "code",
   "execution_count": 67,
   "id": "50f857dd",
   "metadata": {},
   "outputs": [
    {
     "data": {
      "text/plain": [
       "dtype('float32')"
      ]
     },
     "execution_count": 67,
     "metadata": {},
     "output_type": "execute_result"
    }
   ],
   "source": [
    "tmp['bbox_phrase_embeddings'].dtype"
   ]
  },
  {
   "cell_type": "code",
   "execution_count": 68,
   "id": "e911ee7f",
   "metadata": {
    "scrolled": false
   },
   "outputs": [
    {
     "name": "stdout",
     "output_type": "stream",
     "text": [
      "----------------------\n",
      "right lung\n",
      "['right lung', 'right of the right lung', 'right lungs', 'right-sided lung', 'right lung portion', 'right lung area', 'right side of the lung', 'right lung field', 'right lung region', 'right lung zone']\n",
      "[1.         0.99347186 0.9914743  0.9882028  0.9875809  0.9857907\n",
      " 0.9852991  0.98505723 0.9850455  0.9827703 ]\n",
      "----------------------\n",
      "right upper lung zone\n",
      "['right upper lung zone', 'right upper lung region', 'right upper lung field', 'right lung upper zone', 'right upper-lung', 'right upper lung', 'upper right lung zone', 'right upper pulmonary', 'upper right lung segment', 'right upper lungs']\n",
      "[1.         0.9980136  0.99767506 0.99722415 0.9945689  0.99415666\n",
      " 0.9918362  0.990432   0.99024725 0.98959744]\n",
      "----------------------\n",
      "right mid lung zone\n",
      "['right mid lung zone', 'right mid lung field', 'right mid lung area', 'right middle lung zone', 'right mid lungfield', 'right mid lung region', 'mid right lung zone', 'right middle lung region', 'right middle lung field', 'mid right lung field']\n",
      "[0.99999994 0.9992064  0.9988095  0.99874306 0.9986694  0.9986165\n",
      " 0.998106   0.9977752  0.99774563 0.9976259 ]\n",
      "----------------------\n",
      "right lower lung zone\n",
      "['right lower lung zone', 'right lower lung area', 'right lower lung region', 'right lower lung field', 'right lower lung space', 'right low lung zone', 'right lower lung aspect', 'lower right lung region', 'lower right lung zone', 'lower right lung field']\n",
      "[1.         0.9997138  0.9996396  0.99953425 0.99805593 0.9979845\n",
      " 0.99748915 0.997307   0.99708545 0.9968223 ]\n",
      "----------------------\n",
      "right hilar structures\n",
      "['right hilar structures', 'right-sided hilar structures', 'hilar structures on the right', 'right hilar area', 'right hilar region', 'right hilar zone', 'right hilar regions', 'hilar region on the right', 'right hilar vicinity', 'right pulmonary hilar structures']\n",
      "[1.         0.99310803 0.9922066  0.99073106 0.99052215 0.9900425\n",
      " 0.9881775  0.9862132  0.98338324 0.9831288 ]\n",
      "----------------------\n",
      "right apical zone\n",
      "['right apical region', 'right apical area', 'right apically', 'right apical portion', 'R apical', 'right apical', 'apical right', 'apical portion of right', 'right-sided apical area', 'apical region on the right']\n",
      "[0.99778306 0.9975211  0.99567807 0.9953085  0.9933529  0.99126005\n",
      " 0.98513985 0.98386896 0.98332524 0.9830066 ]\n",
      "----------------------\n",
      "right costophrenic angle\n",
      "['right costophrenic angle', 'R costophrenic angle', 'right costophrenic recess', 'right costophrenic sulci', 'right costophrenic angles', 'right costophrenic sinuses', 'right latter costophrenic angle', 'right CP angles', 'right costophrenic sulcus', 'right costophrenic at angle']\n",
      "[1.         0.9988955  0.9981278  0.9976399  0.99689305 0.9946935\n",
      " 0.9945206  0.99331486 0.9929104  0.99235624]\n",
      "----------------------\n",
      "right cardiophrenic angle\n",
      "['right cardiophrenic angle', 'right cardiophrenic angles', 'right cardiophrenic angle region', 'right cardiophrenic sinus', 'right-sided cardiophrenic angle', 'right cardiophrenic recess', 'cardiophrenic angle on the right', 'right cardiophrenic sulcus', 'right cardiphrenic angle', 'right cardiophrenic dorsal sinus']\n",
      "[1.0000001  0.99593186 0.9956595  0.98404723 0.9825026  0.9765649\n",
      " 0.9730201  0.970533   0.96822476 0.9680909 ]\n",
      "----------------------\n",
      "right hemidiaphragm\n",
      "['right hemidiaphragm', 'R hemidiaphragm', 'right-sided hemidiaphragm', 'right hemidiaphragm region', 'hemidiaphragm on the right', 'right hemi hemidiaphragm', 'right hemidiaphragmatic tonsillar', 'dome of the right hemidiaphragm', 'right diaphragm', 'portion of the right hemidiaphragm']\n",
      "[1.         0.99954605 0.99423575 0.992165   0.9915908  0.98720956\n",
      " 0.980531   0.97862464 0.9783473  0.975003  ]\n",
      "----------------------\n",
      "left lung\n",
      "['left lung', 'L lung', 'left pulmonary', 'left lungs', 'left-sided lung', 'lungs left', 'left lung portion', 'left lung field', 'left lung area', 'left lung region']\n",
      "[1.         0.9947081  0.99443257 0.99402976 0.98280454 0.98165953\n",
      " 0.98126787 0.9805881  0.98027605 0.9781534 ]\n",
      "----------------------\n",
      "left upper lung zone\n",
      "['left upper lung zone', 'left upper lung field', 'left upper lung region', 'left lung upper zone', 'upper left lung zone', 'upper zone of the left lung', 'left upper zone', 'left upper lung', 'left lung in the upper lung field', 'upper left lung field']\n",
      "[1.         0.9982613  0.99729013 0.9970733  0.9872899  0.98515344\n",
      " 0.98133117 0.9809011  0.97956896 0.97666204]\n",
      "----------------------\n",
      "left mid lung zone\n",
      "['left mid lung zone', 'left mid lung field', 'left middle lung zone', 'mid left lung zone', 'left mid lung area', 'left mid lung region', 'left middle lung field', 'mid left lung field', 'mid left lung region', 'left lung mid zone']\n",
      "[0.9999998  0.9992359  0.99913347 0.99906415 0.9989771  0.9988458\n",
      " 0.99854916 0.9982956  0.9980718  0.99756825]\n",
      "----------------------\n",
      "left lower lung zone\n",
      "['left lower lung zone', 'left lower lung field', 'left lower lung area', 'left lower lung region', 'lower left lung zone', 'lower left lung field', 'left lower lung', 'lower zone of left lung', 'left basal lung zone', 'left basal lung area']\n",
      "[0.99999994 0.9995148  0.99944013 0.99942565 0.9976599  0.99664706\n",
      " 0.99571586 0.99564934 0.9946053  0.99432147]\n",
      "----------------------\n",
      "left hilar structures\n",
      "['left hilar structures', 'left-sided hilar structures', 'left hilar regions', 'left hilar areas', 'left hilar area', 'left hilar region', 'left hilar structure', 'left hilar', 'left hilar vicinity', 'left intra hilar']\n",
      "[0.99999994 0.990862   0.98817813 0.9875746  0.98743606 0.9872816\n",
      " 0.9864917  0.980572   0.97991127 0.979658  ]\n",
      "----------------------\n",
      "left apical zone\n",
      "['left apical zone', 'left apical region', 'left apical area', 'left apical segment', 'L apical', 'left apical', 'left apex region', 'left apex area', 'apical left', 'left-sided apical area']\n",
      "[1.         0.99807245 0.9976493  0.996822   0.9912548  0.988832\n",
      " 0.9877729  0.98763704 0.98477864 0.98045474]\n",
      "----------------------\n",
      "left costophrenic angle\n",
      "['left costophrenic angle', 'left costophrenic sulci', 'left costophrenic recess', 'left costophrenic angle region', 'left costophrenic angles', 'left costophrenic sulcus', 'left costophrenic sulcus region', 'left costophrenic sinuses', 'left CP angles', 'left costophrenic']\n",
      "[1.0000001  0.9982175  0.99804115 0.99685127 0.99678093 0.9954703\n",
      " 0.99402136 0.9919335  0.9867426  0.9845038 ]\n",
      "----------------------\n",
      "left hemidiaphragm\n",
      "['left hemidiaphragm', 'left the hemidiaphragm', 'L hemidiaphragm', 'left-sided hemidiaphragm', 'left hemidiaphragm region', 'left diaphragm', 'left-sided diaphragm', 'left diaphragmatic', 'dome of the left hemidiaphragm', 'left-sided diaphragmatic']\n",
      "[1.         0.99913764 0.99838907 0.9948098  0.9922036  0.9876338\n",
      " 0.98755497 0.9818797  0.97927094 0.9759424 ]\n",
      "----------------------\n",
      "trachea\n",
      "['trachea', 'tracheal', 'trache', 'trachea lumen', 'tracheal lumen', 'tracheal portion', 'intratracheal portion', 'intratracheal', 'tracheal tree', 'tracheal walls']\n",
      "[1.         0.9970471  0.991755   0.988996   0.98695457 0.9852022\n",
      " 0.9808116  0.9801095  0.96819854 0.95463794]\n",
      "----------------------\n",
      "spine\n",
      "['spine', 'vertebral', 'vertebral spine', 'vertebral bodies', 'spinal column', 'vertebrae', 'spine area', 'vertebral column', 'vertebral body', 'vertebral bodies of the spine']\n",
      "[1.         0.9786741  0.9777541  0.9698969  0.9645873  0.9625219\n",
      " 0.96143967 0.9595797  0.9514248  0.9441378 ]\n",
      "----------------------\n",
      "right clavicle\n",
      "['right clavicle', 'right clavicular', 'right sided clavicle', 'right clavicular region', 'clavicle on the right', 'right-sided clavicle', 'right clavicle shaft', 'right clavicle head', 'right clavicular head', 'clavicles on the right']\n",
      "[1.         0.9985938  0.9857908  0.98329043 0.97893023 0.9700916\n",
      " 0.9654614  0.9418468  0.9328872  0.93099666]\n",
      "----------------------\n",
      "left clavicle\n",
      "['left clavicle', 'left clavicular', 'left clavicular companion', 'left clavicle plate', 'left clavicles', 'left clavicle shaft', 'left-sided clavicle', 'left clavicula', 'left clavicle head', 'left clavicular head']\n",
      "[1.         0.9981705  0.9878242  0.98184955 0.9809956  0.9800286\n",
      " 0.97476137 0.9744373  0.9570669  0.9528269 ]\n",
      "----------------------\n",
      "aortic arch\n",
      "['aortic arch', 'aortic arch area', 'arch aorta', 'aorta arch', 'aortic arch branches', 'aortic bulb', 'arch of aorta', 'arch of the aorta', 'aorta at arch', 'aortic']\n",
      "[1.0000002  0.98975265 0.9714848  0.9632491  0.9587501  0.9543555\n",
      " 0.950799   0.9485645  0.9459521  0.94378746]\n",
      "----------------------\n",
      "mediastinum\n",
      "['mediastinum', 'mediastinal', 'mediastinal compartment', 'mediastinal space', 'mediastinal contents', 'mediastinal area', 'mediastinal region', 'mediastinal confines', 'mediastinum region', 'mediastinal components']\n",
      "[1.0000001  0.9957367  0.9787828  0.97716975 0.9741226  0.97332263\n",
      " 0.9716013  0.9711102  0.9672886  0.9634657 ]\n",
      "----------------------\n",
      "upper mediastinum\n",
      "['upper mediastinum', 'upper mediastinal', 'upper mediastinal aspect', 'upper mediastinal region', 'superior mediastinal', 'superior mediastinum', 'superior mediastinal area', 'superior mediastinal region', 'mediastinum superiorly', 'upper portion of the mediastinum']\n",
      "[1.         0.99803025 0.9918015  0.9870708  0.9854884  0.9846595\n",
      " 0.97929865 0.9781556  0.9773769  0.9770983 ]\n",
      "----------------------\n",
      "svc\n",
      "['SVC', 'svc', 'SVC region', 'md svc', 'superior vena cava (SVC)', 'superior vena cava', 'origine of SVC', 'origin of SVC', 'superior vena cava vein', 'proximal SVC']\n",
      "[1.         0.99999994 0.9696071  0.96867657 0.95646435 0.9552449\n",
      " 0.9409649  0.9398017  0.9359992  0.93483406]\n",
      "----------------------\n",
      "cardiac silhouette\n",
      "['cardiac silhouette', 'Cardiac silhouette', 'heart silhouette', 'cardiac outline', 'heart shadow', 'cardiac shadow', 'cardiac contour', 'cardiothoracic silhouette', 'cardiac contours', 'cardiac silhouettes']\n",
      "[1.         1.         0.99846923 0.9979706  0.9973075  0.9968204\n",
      " 0.99445724 0.9817402  0.9793464  0.9789234 ]\n",
      "----------------------\n",
      "left cardiac silhouette\n",
      "['left cardiac silhouette', 'left heart shadow', 'left heart silhouette', 'left cardiac contour', 'left cardiac margin', 'left of the cardiac silhouette', 'left aspect of cardiac silhouette', 'left cardiac border', 'left heart margin', 'left heart contour']\n",
      "[1.0000001  0.99878454 0.9983773  0.9977872  0.9969236  0.99635834\n",
      " 0.99499035 0.9949224  0.9944525  0.9942545 ]\n",
      "----------------------\n",
      "right cardiac silhouette\n",
      "['right cardiac silhouette', 'right heart shadow', 'right cardiac contour', 'right heart silhouette', 'right cardiac margin', 'right cardiac border', 'right of the cardiac silhouette', 'right-sided cardiac border', 'right-sided cardiac contour', 'right aspect of cardiac silhouette']\n",
      "[0.9999999  0.99598    0.99584603 0.9956634  0.9949572  0.99354315\n",
      " 0.9933324  0.993109   0.9926204  0.9920489 ]\n",
      "----------------------\n",
      "cavoatrial junction\n",
      "['cavoatrial junction', 'cavoatrial juncture', 'cavoatrial kx', 'cavoatrial junction region', 'cavoatrial junction level', 'cavoatrial', 'region cavoatrial junction', 'region of the cavoatrial junction', 'key cavoatrial junction', 'cavo-atrial junction']\n",
      "[1.         0.9952056  0.9940013  0.9937483  0.9919952  0.9909985\n",
      " 0.9896811  0.981675   0.97715884 0.97072256]\n",
      "----------------------\n",
      "right atrium\n",
      "['Right atrium', 'right atrium', 'right atrial', 'R atrium', 'right atria', 'right atrium region', 'right atrial area', 'right atrium in E', 'body of the right atrium', 'right proximal atrium']\n",
      "[1.         1.         0.99792147 0.995323   0.9936596  0.98932135\n",
      " 0.98684597 0.9676664  0.96351147 0.9626776 ]\n",
      "----------------------\n",
      "descending aorta\n",
      "['descending aorta', 'aorta throughout the descending aorta', 'descending portion of the aorta', 'origine of the descending aorta', 'descending aortic contours', 'lower descending aorta', 'descending thoracic aorta', 'thoracic descending aorta', 'distal descending aorta', 'descending aorta through the thorax']\n",
      "[1.         0.9671972  0.9657315  0.96324533 0.95838654 0.9582528\n",
      " 0.9482857  0.94649494 0.94439286 0.9438217 ]\n",
      "----------------------\n",
      "carina\n",
      "['Carina', 'carina', 'carinal', 'carina bifurcation', 'carinal level', 'below carina', 'sub carinal', 'carinal duct', 'level of the carina', 'below the carina']\n",
      "[1.0000001  1.         0.9813987  0.96821415 0.96445644 0.943504\n",
      " 0.9428888  0.9374392  0.93624747 0.9349235 ]\n",
      "----------------------\n",
      "left upper abdomen\n",
      "['left upper abdomen', 'left upper abdominal', 'upper left abdomen', 'upper left abdominal', 'left upper quadrant', 'left upper abdominal quadrant', 'left upper quadrant abdomen', 'left upper quadrant area', 'upper left abdominal quadrant', 'left upper quadrant of the abdomen']\n",
      "[0.9999999  0.99947464 0.996227   0.9952413  0.99043334 0.98954475\n",
      " 0.9889848  0.98838407 0.9882279  0.9871515 ]\n",
      "----------------------\n",
      "right upper abdomen\n",
      "['right upper abdomen', 'right upper abdominal', 'right upper abdominal region', 'upper right abdomen', 'right upper quadrant', 'upper right abdominal quadrant', 'right upper quadrant the abdomen', 'right upper abdominal quadrant', 'right upper quadrant abdomen', 'right upper quadrant of the abdomen']\n",
      "[1.         0.99956906 0.9953318  0.99489903 0.99302864 0.9925419\n",
      " 0.99080944 0.9888183  0.988444   0.98500717]\n",
      "----------------------\n",
      "abdomen\n",
      "['abdomen', 'abdominal region', 'abdominal area', 'intraabdominal', 'abdominal cavity', 'peritoneum', 'abdominal', 'abdomen pelvis', 'intra-abdominal', 'pelvis']\n",
      "[0.99999994 0.99362814 0.9934091  0.9923225  0.9915403  0.98915255\n",
      " 0.98719    0.9854228  0.98126024 0.97893554]\n",
      "----------------------\n",
      "left cardiophrenic angle\n",
      "['left cardiophrenic angle', 'left cardiophrenic angle region', 'left constphrenic sinus', 'left cardiophrenic region', 'left constrophrenic angle', 'left lateral cardiophrenic angle', 'left costrophrenic angle', 'left cardiophrenic', 'left CP', 'left CP angle']\n",
      "[1.         0.9948939  0.9693805  0.93634605 0.9354352  0.91439945\n",
      " 0.90518314 0.90303844 0.8965734  0.8949057 ]\n"
     ]
    }
   ],
   "source": [
    "for p, ms, sims in zip(tmp['bbox_phrases'], tmp['most_similar_anatomical_locations'], tmp['most_similar_similarities']):\n",
    "    print('----------------------')\n",
    "    print(p)\n",
    "    print(ms)\n",
    "    print(sims)"
   ]
  }
 ],
 "metadata": {
  "kernelspec": {
   "display_name": "venv2",
   "language": "python",
   "name": "venv2"
  },
  "language_info": {
   "codemirror_mode": {
    "name": "ipython",
    "version": 3
   },
   "file_extension": ".py",
   "mimetype": "text/x-python",
   "name": "python",
   "nbconvert_exporter": "python",
   "pygments_lexer": "ipython3",
   "version": "3.10.10"
  }
 },
 "nbformat": 4,
 "nbformat_minor": 5
}
