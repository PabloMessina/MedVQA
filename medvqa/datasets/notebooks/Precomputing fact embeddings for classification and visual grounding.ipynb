{
 "cells": [
  {
   "cell_type": "code",
   "execution_count": 2,
   "id": "765bb40b",
   "metadata": {
    "scrolled": true
   },
   "outputs": [
    {
     "name": "stdout",
     "output_type": "stream",
     "text": [
      "env: CUDA_VISIBLE_DEVICES=1\n"
     ]
    }
   ],
   "source": [
    "%env CUDA_VISIBLE_DEVICES=1"
   ]
  },
  {
   "cell_type": "code",
   "execution_count": 5,
   "id": "4814cd7a",
   "metadata": {},
   "outputs": [],
   "source": [
    "from medvqa.utils.files import load_pickle"
   ]
  },
  {
   "cell_type": "markdown",
   "id": "50250026",
   "metadata": {},
   "source": [
    "# VinDR-CXR"
   ]
  },
  {
   "cell_type": "code",
   "execution_count": 29,
   "id": "3fbdd2b6",
   "metadata": {},
   "outputs": [
    {
     "name": "stdout",
     "output_type": "stream",
     "text": [
      "checkpoint_names = ['checkpoint_196_cacc+chf1+chf1+cscc+encc+hscc+nlcc+sass+spss+ta0)+ta1)+ta2)+ta0)+ta1)+ta2)+ta3)+ta4)+ta5)+ta6)+ta7)=0.9189.pt']\n",
      "Loading integrated fact metadata from: /home/pamessina/medvqa-workspace/cache/mimiccxr/integrated_fact_metadata(595880,60579117).improved_comparison(6741113).jsonl\n",
      "Loaded 595875 facts.\n",
      "\u001b[1mExtracting embeddings...\u001b[0m\n",
      "  0%|                                                | 0/595875 [00:00<?, ?it/s]Loading cached text embeddings from /mnt/data/pamessina_folder_backup_15_10_24/pamessina/medvqa-workspace/cache/text_embeddings_cache(hash=469,680486110513564934).pkl\n",
      "len(self.cache[\"hashes\"]) = 623048\n",
      "self.cache[\"embeddings\"].shape = (623048, 128)\n",
      "100%|███████████████████████████████| 595875/595875 [00:01<00:00, 316141.93it/s]\n",
      "100%|███████████████████████████████████████| 28/28 [00:00<00:00, 120823.57it/s]\n",
      "\u001b[1m\u001b[34mSaving output to:\u001b[0m \u001b[1m\u001b[34m/mnt/data/pamessina_folder_backup_15_10_24/pamessina/medvqa-workspace/cache/vinbig/label_phrase_embeddings(hash=514,3911788164261367088).pkl\u001b[0m\n",
      "Done!\n"
     ]
    }
   ],
   "source": [
    "!python ../../scripts/vinbig/precompute_phrase_embeddings.py \\\n",
    "--model_name \"microsoft/BiomedVLP-CXR-BERT-specialized\" \\\n",
    "--model_checkpoint_folder_path \\\n",
    "\"/mnt/data/pamessina/workspaces/medvqa-workspace/models/fact_embedding/20240629_084405_MIMIC-CXR(triplets+classif+entcont+nli+radgraph+autoencoder)_FactEncoder(microsoft-BiomedVLP-CXR-BERT-specialized)\" \\\n",
    "--average_top_k_most_similar \\\n",
    "--top_k 10 \\\n",
    "--integrated_fact_metadata_filepath \\\n",
    "\"/home/pamessina/medvqa-workspace/cache/mimiccxr/integrated_fact_metadata(595880,60579117).improved_comparison(6741113).jsonl\""
   ]
  },
  {
   "cell_type": "code",
   "execution_count": 30,
   "id": "b24e7959",
   "metadata": {},
   "outputs": [],
   "source": [
    "tmp = load_pickle('/mnt/data/pamessina_folder_backup_15_10_24/pamessina/medvqa-workspace/cache/vinbig/label_phrase_embeddings(hash=514,3911788164261367088).pkl')"
   ]
  },
  {
   "cell_type": "code",
   "execution_count": 31,
   "id": "0b5ea793",
   "metadata": {},
   "outputs": [
    {
     "data": {
      "text/plain": [
       "dict_keys(['phrases', 'phrase_embeddings', 'most_similar_facts'])"
      ]
     },
     "execution_count": 31,
     "metadata": {},
     "output_type": "execute_result"
    }
   ],
   "source": [
    "tmp.keys()"
   ]
  },
  {
   "cell_type": "code",
   "execution_count": 32,
   "id": "8bc9c26a",
   "metadata": {},
   "outputs": [
    {
     "data": {
      "text/plain": [
       "dtype('float32')"
      ]
     },
     "execution_count": 32,
     "metadata": {},
     "output_type": "execute_result"
    }
   ],
   "source": [
    "tmp['phrase_embeddings'].dtype"
   ]
  },
  {
   "cell_type": "code",
   "execution_count": 12,
   "id": "77d6194a",
   "metadata": {
    "scrolled": true
   },
   "outputs": [
    {
     "name": "stdout",
     "output_type": "stream",
     "text": [
      "----------------------\n",
      "aortic enlargement seen\n",
      "['enlarged aortic arch', 'aorta that is dilated', 'enlargement of the aortic arch', 'enlarged arch of the aorta', 'aortic enlargement', 'dilatation of the aortic arch', 'dilated aortic arch', 'enlarged aortic contour', 'significantly enlarged aorta', 'markedly enlarged aorta']\n",
      "----------------------\n",
      "atelectasis seen\n",
      "['atelectasis seen', 'atelectasis present', 'new transient atelectasis', 'atelectasis that developed', 'atelectasis that developed postoperatively', 'interval development of atelectasis', 'present atelectasis', 'new atelectases', 'presence of atelectasis', 'atelectasis that developed after']\n",
      "----------------------\n",
      "calcification seen\n",
      "['calcifications present', 'calcified plaque seen throughout', 'calcified plaque throughout', 'punctate calcifications', 'coarse calcification', 'unusual calcification', 'calcification', 'diffuse calcification', 'diffuse calcifications', 'calcifications']\n",
      "----------------------\n",
      "cardiomegaly seen\n",
      "['cardiomegaly seen', 'cardiomegaly noted', 'cardiomegaly demonstrated', 'cardiomegaly present', 'findings of cardiac enlargement', 'present cardiac enlargement', 'enlarged cardiomegaly', 'observation of cardiomegaly', 'evidence of cardiac enlargement', 'gross cardiomegaly']\n",
      "----------------------\n",
      "clavicle fracture seen\n",
      "['fractured clavicle', 'fracture of the clavicle', 'clavicular injury', 'skeletal injury in clavicle', 'clavicular fractures', 'high concern for clavicular fracture', 'old clavicular fracture', 'extensive clavicular injuries', 'pseudoarthrosis with clavicle', 'old fracture of the clavicle']\n",
      "----------------------\n",
      "consolidation seen\n",
      "['consolidation present', 'presence of focal consolidation', 'area of consolidation', 'consolidation in that region', 'region of consolidation', 'consolidation', 'focal consolidation', 'presence of consolidation', 'area of focal consolidation', 'focus of consolidation']\n",
      "----------------------\n",
      "edema seen\n",
      "['visible edema', 'abnormality is edema', 'gravitational edema', 'transient asymmetric edema', 'relatives asymmetry favors edema', 'select edema', 'gravitorational edema', 'florid edema', 'consolidatory signs of edema', 'consolidatory signs of congestion']\n",
      "----------------------\n",
      "emphysema seen\n",
      "['emphysema noted', 'emphysema', 'emphysema is present', 'element of emphysema', 'component of emphysema', 'known emphysema', 'manifestations of emphysema', 'background emphysema', 'patient with emphysema', 'presence of emphysema']\n",
      "----------------------\n",
      "enlarged pulmonary artery seen\n",
      "['elevated pulmonary artery', 'pulmonary artery is enlarged', 'dilated pulmonary artery', 'enlarged pulmonary artery silhouette', 'enlarged pulmonary artery', 'enlarged pulmonary artery silhouettes', 'dilated pulmonary outflow tract', 'very dilated pulmonary arteries', 'enlargement of the pulmonary outflow tract', 'distended pulmonary vessels']\n",
      "----------------------\n",
      "interstitial lung disease seen\n",
      "['intersitial lung disease', 'presence of interstitial lung disease', 'findings concerning for interstitial lung disease', 'interstitial lung disease', 'presence of an interstitial lung disease', 'appearance of interstitial lung disease', 'interstitial lung disease diagnosed on CT', 'interstitial lung disease demonstrated on chest CT', 'evidence of interstitial lung disease', 'interstitial pulmonary disease']\n",
      "----------------------\n",
      "infiltration seen\n",
      "['infiltration', 'infiltrate', 'Infiltrate', 'dense infiltrate', 'infiltrative process', 'acute infiltrate', 'infiltrates', 'prominent infiltrate', 'focal infiltrate detected', 'component of infiltrate']\n",
      "----------------------\n",
      "lung opacity seen\n",
      "['opacification within the lung', 'lung opacity', 'opacification in the lungs', 'opacified lung', 'opacity in the parenchyma', 'opacity in the lung', 'opacity within the lung parenchyma', 'abnormalities', 'lesions', 'opacity present on chest x-ray']\n",
      "----------------------\n",
      "lung cavity seen\n",
      "['clear pneumothorax in the lungs', 'trapped lung', 'newly cavitated lungs', 'lung expansion in the chest', 'extrapulmonary hematoma', 'trapped lung syndrome', 'lung infarction', 'airation of lung tissue', 'air surrounding the entire lung', 'bleeding due to local chest cage trauma']\n",
      "----------------------\n",
      "lung cyst seen\n",
      "['bulla within the lungs', 'bulla formation in the lungs', 'bullas in the lungs', 'bulla', 'bulla formation', 'bullae', 'paraseptal bullae', 'bullous changes', 'bullous changes throughout the lung fields', 'bipical blebs']\n",
      "----------------------\n",
      "mediastinal shift seen\n",
      "['shift of the mediastinum', 'shifting of the mediastinum', 'deviation of the mediastinum', 'displacement of the mediastinum', 'displaced mediastinum', 'mediastinal displacement', 'mediastinal shift', 'apparent shift of mediastinal structures', 'shift of mediastinal structures', 'lefward mediastinal shift']\n",
      "----------------------\n",
      "nodule/mass seen\n",
      "['telephoned discovery of a nodule', 'nodules that should be further assessed with chest CT', 'firing-in-nodules', 'work up indicated for nodules', 'mass', 'nodule requires biopsy', 'concern for nodule in this region', 'high density of the nodule', 'mass lesion', 'apparent nodularity']\n",
      "----------------------\n",
      "pleural effusion seen\n",
      "['pleural effusion seen', 'pleural effusion demonstrated', 'pleural effusion noted', 'pleural effusion present', 'pleural effusions identified', 'pleural effusions present', 'remarked pleural effusion', 'finding of pleural effusion', 'pleural effusions appreciated', 'appearance of the pleural effusion with loculated component visualized']\n",
      "----------------------\n",
      "pleural thickening seen\n",
      "['pleural thickening present', 'presence of pleural thickening', 'abnormally thickened pleura', 'irregular thickening of the pleura', 'thickened pleura', 'pleural-based thickening', 'pleural thickening', 'thickening of the pleura', 'thickening of the pleural surface', 'pleural thickenings']\n",
      "----------------------\n",
      "pneumothorax seen\n",
      "['pneumothorax seen', 'pneumothoraces seen', 'pneumothoraces identified', 'pneumothorax detected', 'pneumothorax visualized', 'evident pneumothorax', 'findings of the pneumothorax', 'appearance of pneumothorax', 'detection of pneumothorax', 'finding of pneumothorax']\n",
      "----------------------\n",
      "pulmonary fibrosis seen\n",
      "['pulmonary fibrosis present', 'pulmonary fibrosis present radiographically', 'evidence of fibrotic changes in the lungs', 'evidence of pulmonary fibrosis', 'fibrosis in the lungs', 'documented lung fibrosis', 'component of fibrotic lung disease', 'component of fibrosis in the lungs', 'pulmonary fibrosis', 'pulmonary fibrotic disease']\n",
      "----------------------\n",
      "rib fracture seen\n",
      "['rib fractures appreciated', 'rib fractures identified', 'acute fracture of the ribs', 'rib fractures appear recent', 'detection of rib fractures', 'rib fracture with cortical defect', 'new rib fracture', 'fourth rib fracture confirmed on CT', 'rib fracture', 'Rib fx']\n",
      "----------------------\n",
      "other lesion seen\n",
      "['other lesions', 'other abnormality', 'left apical pneumothorax obscured by the apical chest tube', 'small pneumothorax obscured by overlying tubing', 'massive change', 'suggestion of additional small lung nodules in the left lower lobe', 'other mass lesion', 'other mass', 'pleural effusion tracking laterally on the left', 'other mass effect']\n",
      "----------------------\n",
      "copd seen\n",
      "['COPD noted', 'Background COPD noted', 'background COPD noted', 'COPD present', 'COPD-related', 'Background COPD', 'background COPD', 'demonstrates COPD', 'COPD', 'coPD']\n",
      "----------------------\n",
      "lung tumor seen\n",
      "['primary pulmonary neoplasm', 'nodule highly concerning for a primary lung cancer', 'primary lung neoplasm', 'known lung neoplasm', 'lung mass concerning for malignancy', 'pulmonary nodules concerning for malignancy', 'malignant nodules', 'neoplastic lung lesions', 'pulmonary metastatic lesion visualized', 'pulmonary nodule concerning for malignancy']\n",
      "----------------------\n",
      "pneumonia seen\n",
      "['pneumonia diagnosed', 'detection of pneumonia', 'detect pneumonia', 'Detect pneumonia', 'presence of a pneumonia', 'pneumonia present', 'manifestation of pneumonia', 'apparent pneumonia', 'presence of pneumonia', 'focus of developing pneumonia']\n",
      "----------------------\n",
      "tuberculosis seen\n",
      "['appearance seen in tuberculosis', 'findings concerning for tuberculosis', 'known tuberculosis', 'concerning for tuberculosis', 'tuberculosis', 'sarcoid', 'worrisome for tuberculosis', 'reactivation tuberculosis', 'known sarcoid', 'findings highly concerning for tuberculosis']\n",
      "----------------------\n",
      "other disease seen\n",
      "['other inflammatory processes', 'other inflammatory process', 'other superimposed acute process', 'suggestion of further decompensation of left heart failure', 'presence of other etiologies', 'sequelae of other infectious process', 'reactive to other condition', 'additional process such as interstitial disease', 'atypical infectious processes', 'infectious condition']\n",
      "----------------------\n",
      "no abnormalities seen\n",
      "['no abnormalities seen', 'no abnormalities identified', 'no abnormalities demonstrated', 'no abnormalities present', 'radiograph shows no evidence of abnormality', 'no confirmation of abnormality', 'no abnormalities present on the chest x-ray', 'no abnormalities present on radiograph', 'no abnormalities seen on the chest x-ray', 'no visualization of the abnormality']\n"
     ]
    }
   ],
   "source": [
    "for p, ms in zip(tmp['phrases'], tmp['most_similar_facts']):\n",
    "    print('----------------------')\n",
    "    print(p)\n",
    "    print(ms)    "
   ]
  },
  {
   "cell_type": "markdown",
   "id": "ae2490a7",
   "metadata": {},
   "source": [
    "# Chest ImaGenome"
   ]
  },
  {
   "cell_type": "code",
   "execution_count": 25,
   "id": "ff441f3a",
   "metadata": {},
   "outputs": [
    {
     "name": "stdout",
     "output_type": "stream",
     "text": [
      "checkpoint_names = ['checkpoint_196_cacc+chf1+chf1+cscc+encc+hscc+nlcc+sass+spss+ta0)+ta1)+ta2)+ta0)+ta1)+ta2)+ta3)+ta4)+ta5)+ta6)+ta7)=0.9189.pt']\n",
      "Loading integrated fact metadata from: /home/pamessina/medvqa-workspace/cache/mimiccxr/integrated_fact_metadata(595880,60579117).improved_comparison(6741113).jsonl\n",
      "Loaded 28858 anatomical locations.\n",
      "\u001b[1mExtracting embeddings...\u001b[0m\n",
      "  0%|                                                 | 0/28858 [00:00<?, ?it/s]Loading cached text embeddings from /mnt/data/pamessina_folder_backup_15_10_24/pamessina/medvqa-workspace/cache/text_embeddings_cache(hash=469,680486110513564934).pkl\n",
      "len(self.cache[\"hashes\"]) = 623048\n",
      "self.cache[\"embeddings\"].shape = (623048, 128)\n",
      "100%|██████████████████████████████████| 28858/28858 [00:00<00:00, 53897.11it/s]\n",
      "100%|███████████████████████████████████████| 36/36 [00:00<00:00, 106035.78it/s]\n",
      "\u001b[1m\u001b[34mSaving output to:\u001b[0m \u001b[1m\u001b[34m/mnt/data/pamessina_folder_backup_15_10_24/pamessina/medvqa-workspace/cache/chest_imagenome/bbox_phrase_embeddings(hash=522,1261303459192373044).pkl\u001b[0m\n",
      "Done!\n"
     ]
    }
   ],
   "source": [
    "!python ../../scripts/chest_imagenome/precompute_bbox_phrase_embeddings.py \\\n",
    "--model_name \"microsoft/BiomedVLP-CXR-BERT-specialized\" \\\n",
    "--model_checkpoint_folder_path \\\n",
    "\"/mnt/data/pamessina/workspaces/medvqa-workspace/models/fact_embedding/20240629_084405_MIMIC-CXR(triplets+classif+entcont+nli+radgraph+autoencoder)_FactEncoder(microsoft-BiomedVLP-CXR-BERT-specialized)\" \\\n",
    "--average_top_k_most_similar \\\n",
    "--top_k 10 \\\n",
    "--integrated_fact_metadata_filepath \\\n",
    "\"/home/pamessina/medvqa-workspace/cache/mimiccxr/integrated_fact_metadata(595880,60579117).improved_comparison(6741113).jsonl\""
   ]
  },
  {
   "cell_type": "code",
   "execution_count": 26,
   "id": "4b5e1d43",
   "metadata": {},
   "outputs": [],
   "source": [
    "tmp = load_pickle('/mnt/data/pamessina_folder_backup_15_10_24/pamessina/medvqa-workspace/cache/chest_imagenome/bbox_phrase_embeddings(hash=522,1261303459192373044).pkl')"
   ]
  },
  {
   "cell_type": "code",
   "execution_count": 27,
   "id": "caa3f61b",
   "metadata": {},
   "outputs": [
    {
     "data": {
      "text/plain": [
       "dict_keys(['bbox_phrases', 'bbox_phrase_embeddings', 'most_similar_anatomical_locations'])"
      ]
     },
     "execution_count": 27,
     "metadata": {},
     "output_type": "execute_result"
    }
   ],
   "source": [
    "tmp.keys()"
   ]
  },
  {
   "cell_type": "code",
   "execution_count": 28,
   "id": "50f857dd",
   "metadata": {},
   "outputs": [
    {
     "data": {
      "text/plain": [
       "dtype('float32')"
      ]
     },
     "execution_count": 28,
     "metadata": {},
     "output_type": "execute_result"
    }
   ],
   "source": [
    "tmp['bbox_phrase_embeddings'].dtype"
   ]
  },
  {
   "cell_type": "code",
   "execution_count": 16,
   "id": "e911ee7f",
   "metadata": {
    "scrolled": true
   },
   "outputs": [
    {
     "name": "stdout",
     "output_type": "stream",
     "text": [
      "----------------------\n",
      "right lung\n",
      "['right lung', 'right of the right lung', 'right lungs', 'right-sided lung', 'right lung portion', 'right lung area', 'right side of the lung', 'right lung field', 'right lung region', 'right lung zone']\n",
      "----------------------\n",
      "right upper lung zone\n",
      "['right upper lung zone', 'right upper lung region', 'right upper lung field', 'right lung upper zone', 'right upper-lung', 'right upper lung', 'upper right lung zone', 'right upper pulmonary', 'upper right lung segment', 'right upper lungs']\n",
      "----------------------\n",
      "right mid lung zone\n",
      "['right mid lung zone', 'right mid lung field', 'right mid lung area', 'right middle lung zone', 'right mid lungfield', 'right mid lung region', 'mid right lung zone', 'right middle lung region', 'right middle lung field', 'mid right lung field']\n",
      "----------------------\n",
      "right lower lung zone\n",
      "['right lower lung zone', 'right lower lung area', 'right lower lung region', 'right lower lung field', 'right lower lung space', 'right low lung zone', 'right lower lung aspect', 'lower right lung region', 'lower right lung zone', 'lower right lung field']\n",
      "----------------------\n",
      "right hilar structures\n",
      "['right hilar structures', 'right-sided hilar structures', 'hilar structures on the right', 'right hilar area', 'right hilar region', 'right hilar zone', 'right hilar regions', 'hilar region on the right', 'right hilar vicinity', 'right pulmonary hilar structures']\n",
      "----------------------\n",
      "right apical zone\n",
      "['right apical region', 'right apical area', 'right apically', 'right apical portion', 'R apical', 'right apical', 'apical right', 'apical portion of right', 'right-sided apical area', 'apical region on the right']\n",
      "----------------------\n",
      "right costophrenic angle\n",
      "['right costophrenic angle', 'R costophrenic angle', 'right costophrenic recess', 'right costophrenic sulci', 'right costophrenic angles', 'right costophrenic sinuses', 'right latter costophrenic angle', 'right CP angles', 'right costophrenic sulcus', 'right costophrenic at angle']\n",
      "----------------------\n",
      "right cardiophrenic angle\n",
      "['right cardiophrenic angle', 'right cardiophrenic angles', 'right cardiophrenic angle region', 'right cardiophrenic sinus', 'right-sided cardiophrenic angle', 'right cardiophrenic recess', 'cardiophrenic angle on the right', 'right cardiophrenic sulcus', 'right cardiphrenic angle', 'right cardiophrenic dorsal sinus']\n",
      "----------------------\n",
      "right hemidiaphragm\n",
      "['right hemidiaphragm', 'R hemidiaphragm', 'right-sided hemidiaphragm', 'right hemidiaphragm region', 'hemidiaphragm on the right', 'right hemi hemidiaphragm', 'right hemidiaphragmatic tonsillar', 'dome of the right hemidiaphragm', 'right diaphragm', 'portion of the right hemidiaphragm']\n",
      "----------------------\n",
      "left lung\n",
      "['left lung', 'L lung', 'left pulmonary', 'left lungs', 'left-sided lung', 'lungs left', 'left lung portion', 'left lung field', 'left lung area', 'left lung region']\n",
      "----------------------\n",
      "left upper lung zone\n",
      "['left upper lung zone', 'left upper lung field', 'left upper lung region', 'left lung upper zone', 'upper left lung zone', 'upper zone of the left lung', 'left upper zone', 'left upper lung', 'left lung in the upper lung field', 'upper left lung field']\n",
      "----------------------\n",
      "left mid lung zone\n",
      "['left mid lung zone', 'left mid lung field', 'left middle lung zone', 'mid left lung zone', 'left mid lung area', 'left mid lung region', 'left middle lung field', 'mid left lung field', 'mid left lung region', 'left lung mid zone']\n",
      "----------------------\n",
      "left lower lung zone\n",
      "['left lower lung zone', 'left lower lung field', 'left lower lung area', 'left lower lung region', 'lower left lung zone', 'lower left lung field', 'left lower lung', 'lower zone of left lung', 'left basal lung zone', 'left basal lung area']\n",
      "----------------------\n",
      "left hilar structures\n",
      "['left hilar structures', 'left-sided hilar structures', 'left hilar regions', 'left hilar areas', 'left hilar area', 'left hilar region', 'left hilar structure', 'left hilar', 'left hilar vicinity', 'left intra hilar']\n",
      "----------------------\n",
      "left apical zone\n",
      "['left apical zone', 'left apical region', 'left apical area', 'left apical segment', 'L apical', 'left apical', 'left apex region', 'left apex area', 'apical left', 'left-sided apical area']\n",
      "----------------------\n",
      "left costophrenic angle\n",
      "['left costophrenic angle', 'left costophrenic sulci', 'left costophrenic recess', 'left costophrenic angle region', 'left costophrenic angles', 'left costophrenic sulcus', 'left costophrenic sulcus region', 'left costophrenic sinuses', 'left CP angles', 'left costophrenic']\n",
      "----------------------\n",
      "left hemidiaphragm\n",
      "['left hemidiaphragm', 'left the hemidiaphragm', 'L hemidiaphragm', 'left-sided hemidiaphragm', 'left hemidiaphragm region', 'left diaphragm', 'left-sided diaphragm', 'left diaphragmatic', 'dome of the left hemidiaphragm', 'left-sided diaphragmatic']\n",
      "----------------------\n",
      "trachea\n",
      "['trachea', 'tracheal', 'trache', 'trachea lumen', 'tracheal lumen', 'tracheal portion', 'intratracheal portion', 'intratracheal', 'tracheal tree', 'tracheal walls']\n",
      "----------------------\n",
      "spine\n",
      "['spine', 'vertebral', 'vertebral spine', 'vertebral bodies', 'spinal column', 'vertebrae', 'spine area', 'vertebral column', 'vertebral body', 'vertebral bodies of the spine']\n",
      "----------------------\n",
      "right clavicle\n",
      "['right clavicle', 'right clavicular', 'right sided clavicle', 'right clavicular region', 'clavicle on the right', 'right-sided clavicle', 'right clavicle shaft', 'right clavicle head', 'right clavicular head', 'clavicles on the right']\n",
      "----------------------\n",
      "left clavicle\n",
      "['left clavicle', 'left clavicular', 'left clavicular companion', 'left clavicle plate', 'left clavicles', 'left clavicle shaft', 'left-sided clavicle', 'left clavicula', 'left clavicle head', 'left clavicular head']\n",
      "----------------------\n",
      "aortic arch\n",
      "['aortic arch', 'aortic arch area', 'arch aorta', 'aorta arch', 'aortic arch branches', 'aortic bulb', 'arch of aorta', 'arch of the aorta', 'aorta at arch', 'aortic']\n",
      "----------------------\n",
      "mediastinum\n",
      "['mediastinum', 'mediastinal', 'mediastinal compartment', 'mediastinal space', 'mediastinal contents', 'mediastinal area', 'mediastinal region', 'mediastinal confines', 'mediastinum region', 'mediastinal components']\n",
      "----------------------\n",
      "upper mediastinum\n",
      "['upper mediastinum', 'upper mediastinal', 'upper mediastinal aspect', 'upper mediastinal region', 'superior mediastinal', 'superior mediastinum', 'superior mediastinal area', 'superior mediastinal region', 'mediastinum superiorly', 'upper portion of the mediastinum']\n",
      "----------------------\n",
      "svc\n",
      "['SVC', 'svc', 'SVC region', 'md svc', 'superior vena cava (SVC)', 'superior vena cava', 'origine of SVC', 'origin of SVC', 'superior vena cava vein', 'proximal SVC']\n",
      "----------------------\n",
      "cardiac silhouette\n",
      "['cardiac silhouette', 'Cardiac silhouette', 'heart silhouette', 'cardiac outline', 'heart shadow', 'cardiac shadow', 'cardiac contour', 'cardiothoracic silhouette', 'cardiac contours', 'cardiac silhouettes']\n",
      "----------------------\n",
      "left cardiac silhouette\n",
      "['left cardiac silhouette', 'left heart shadow', 'left heart silhouette', 'left cardiac contour', 'left cardiac margin', 'left of the cardiac silhouette', 'left aspect of cardiac silhouette', 'left cardiac border', 'left heart margin', 'left heart contour']\n",
      "----------------------\n",
      "right cardiac silhouette\n",
      "['right cardiac silhouette', 'right heart shadow', 'right cardiac contour', 'right heart silhouette', 'right cardiac margin', 'right cardiac border', 'right of the cardiac silhouette', 'right-sided cardiac border', 'right-sided cardiac contour', 'right aspect of cardiac silhouette']\n",
      "----------------------\n",
      "cavoatrial junction\n",
      "['cavoatrial junction', 'cavoatrial juncture', 'cavoatrial kx', 'cavoatrial junction region', 'cavoatrial junction level', 'cavoatrial', 'region cavoatrial junction', 'region of the cavoatrial junction', 'key cavoatrial junction', 'cavo-atrial junction']\n",
      "----------------------\n",
      "right atrium\n",
      "['Right atrium', 'right atrium', 'right atrial', 'R atrium', 'right atria', 'right atrium region', 'right atrial area', 'right atrium in E', 'body of the right atrium', 'right proximal atrium']\n",
      "----------------------\n",
      "descending aorta\n",
      "['descending aorta', 'aorta throughout the descending aorta', 'descending portion of the aorta', 'origine of the descending aorta', 'descending aortic contours', 'lower descending aorta', 'descending thoracic aorta', 'thoracic descending aorta', 'distal descending aorta', 'descending aorta through the thorax']\n",
      "----------------------\n",
      "carina\n",
      "['Carina', 'carina', 'carinal', 'carina bifurcation', 'carinal level', 'below carina', 'sub carinal', 'carinal duct', 'level of the carina', 'below the carina']\n",
      "----------------------\n",
      "left upper abdomen\n",
      "['left upper abdomen', 'left upper abdominal', 'upper left abdomen', 'upper left abdominal', 'left upper quadrant', 'left upper abdominal quadrant', 'left upper quadrant abdomen', 'left upper quadrant area', 'upper left abdominal quadrant', 'left upper quadrant of the abdomen']\n",
      "----------------------\n",
      "right upper abdomen\n",
      "['right upper abdomen', 'right upper abdominal', 'right upper abdominal region', 'upper right abdomen', 'right upper quadrant', 'upper right abdominal quadrant', 'right upper quadrant the abdomen', 'right upper abdominal quadrant', 'right upper quadrant abdomen', 'right upper quadrant of the abdomen']\n",
      "----------------------\n",
      "abdomen\n",
      "['abdomen', 'abdominal region', 'abdominal area', 'intraabdominal', 'abdominal cavity', 'peritoneum', 'abdominal', 'abdomen pelvis', 'intra-abdominal', 'pelvis']\n",
      "----------------------\n",
      "left cardiophrenic angle\n",
      "['left cardiophrenic angle', 'left cardiophrenic angle region', 'left constphrenic sinus', 'left cardiophrenic region', 'left constrophrenic angle', 'left lateral cardiophrenic angle', 'left costrophrenic angle', 'left cardiophrenic', 'left CP', 'left CP angle']\n"
     ]
    }
   ],
   "source": [
    "for p, ms in zip(tmp['bbox_phrases'], tmp['most_similar_anatomical_locations']):\n",
    "    print('----------------------')\n",
    "    print(p)\n",
    "    print(ms)    "
   ]
  }
 ],
 "metadata": {
  "kernelspec": {
   "display_name": "venv2",
   "language": "python",
   "name": "venv2"
  },
  "language_info": {
   "codemirror_mode": {
    "name": "ipython",
    "version": 3
   },
   "file_extension": ".py",
   "mimetype": "text/x-python",
   "name": "python",
   "nbconvert_exporter": "python",
   "pygments_lexer": "ipython3",
   "version": "3.10.10"
  }
 },
 "nbformat": 4,
 "nbformat_minor": 5
}
