{
 "cells": [
  {
   "cell_type": "code",
   "execution_count": 4,
   "id": "895b7eb4",
   "metadata": {},
   "outputs": [],
   "source": [
    "import pandas as pd\n",
    "from medvqa.datasets.iuxray import IUXRAY_REPORTS_JSON_PATH, IUXRAY_REPORTS_MIN_JSON_PATH\n",
    "from medvqa.utils.files import load_json"
   ]
  },
  {
   "cell_type": "code",
   "execution_count": 2,
   "id": "e22dc0d9",
   "metadata": {},
   "outputs": [],
   "source": [
    "mti_tags_df = pd.read_csv(\"/mnt/workspace/iu-x-ray/dataset/mti-tags.csv\")"
   ]
  },
  {
   "cell_type": "code",
   "execution_count": 3,
   "id": "0caed9e9",
   "metadata": {},
   "outputs": [
    {
     "data": {
      "text/html": [
       "<div>\n",
       "<style scoped>\n",
       "    .dataframe tbody tr th:only-of-type {\n",
       "        vertical-align: middle;\n",
       "    }\n",
       "\n",
       "    .dataframe tbody tr th {\n",
       "        vertical-align: top;\n",
       "    }\n",
       "\n",
       "    .dataframe thead th {\n",
       "        text-align: right;\n",
       "    }\n",
       "</style>\n",
       "<table border=\"1\" class=\"dataframe\">\n",
       "  <thead>\n",
       "    <tr style=\"text-align: right;\">\n",
       "      <th></th>\n",
       "      <th>filename</th>\n",
       "      <th>calcified granuloma</th>\n",
       "      <th>atelectases</th>\n",
       "      <th>mass lesion</th>\n",
       "      <th>opacity</th>\n",
       "      <th>atelectasis</th>\n",
       "      <th>ribs</th>\n",
       "      <th>diffuse fibrosis</th>\n",
       "      <th>fibrosis</th>\n",
       "      <th>pulmonary fibrosis</th>\n",
       "      <th>...</th>\n",
       "      <th>knee joint</th>\n",
       "      <th>knee prosthesis</th>\n",
       "      <th>osteoarthritis knee</th>\n",
       "      <th>mitral valve replacement</th>\n",
       "      <th>comminuted fracture</th>\n",
       "      <th>pneumomediastinum</th>\n",
       "      <th>fracture comminuted</th>\n",
       "      <th>lung volume reduction</th>\n",
       "      <th>pleural disease</th>\n",
       "      <th>pulmonary metastasis</th>\n",
       "    </tr>\n",
       "  </thead>\n",
       "  <tbody>\n",
       "    <tr>\n",
       "      <th>0</th>\n",
       "      <td>1.xml</td>\n",
       "      <td>0</td>\n",
       "      <td>0</td>\n",
       "      <td>0</td>\n",
       "      <td>0</td>\n",
       "      <td>0</td>\n",
       "      <td>0</td>\n",
       "      <td>0</td>\n",
       "      <td>0</td>\n",
       "      <td>0</td>\n",
       "      <td>...</td>\n",
       "      <td>0</td>\n",
       "      <td>0</td>\n",
       "      <td>0</td>\n",
       "      <td>0</td>\n",
       "      <td>0</td>\n",
       "      <td>0</td>\n",
       "      <td>0</td>\n",
       "      <td>0</td>\n",
       "      <td>0</td>\n",
       "      <td>0</td>\n",
       "    </tr>\n",
       "    <tr>\n",
       "      <th>1</th>\n",
       "      <td>10.xml</td>\n",
       "      <td>1</td>\n",
       "      <td>0</td>\n",
       "      <td>0</td>\n",
       "      <td>0</td>\n",
       "      <td>0</td>\n",
       "      <td>0</td>\n",
       "      <td>0</td>\n",
       "      <td>0</td>\n",
       "      <td>0</td>\n",
       "      <td>...</td>\n",
       "      <td>0</td>\n",
       "      <td>0</td>\n",
       "      <td>0</td>\n",
       "      <td>0</td>\n",
       "      <td>0</td>\n",
       "      <td>0</td>\n",
       "      <td>0</td>\n",
       "      <td>0</td>\n",
       "      <td>0</td>\n",
       "      <td>0</td>\n",
       "    </tr>\n",
       "    <tr>\n",
       "      <th>2</th>\n",
       "      <td>100.xml</td>\n",
       "      <td>0</td>\n",
       "      <td>0</td>\n",
       "      <td>0</td>\n",
       "      <td>0</td>\n",
       "      <td>0</td>\n",
       "      <td>0</td>\n",
       "      <td>0</td>\n",
       "      <td>0</td>\n",
       "      <td>0</td>\n",
       "      <td>...</td>\n",
       "      <td>0</td>\n",
       "      <td>0</td>\n",
       "      <td>0</td>\n",
       "      <td>0</td>\n",
       "      <td>0</td>\n",
       "      <td>0</td>\n",
       "      <td>0</td>\n",
       "      <td>0</td>\n",
       "      <td>0</td>\n",
       "      <td>0</td>\n",
       "    </tr>\n",
       "    <tr>\n",
       "      <th>3</th>\n",
       "      <td>1000.xml</td>\n",
       "      <td>0</td>\n",
       "      <td>1</td>\n",
       "      <td>1</td>\n",
       "      <td>1</td>\n",
       "      <td>1</td>\n",
       "      <td>1</td>\n",
       "      <td>0</td>\n",
       "      <td>0</td>\n",
       "      <td>0</td>\n",
       "      <td>...</td>\n",
       "      <td>0</td>\n",
       "      <td>0</td>\n",
       "      <td>0</td>\n",
       "      <td>0</td>\n",
       "      <td>0</td>\n",
       "      <td>0</td>\n",
       "      <td>0</td>\n",
       "      <td>0</td>\n",
       "      <td>0</td>\n",
       "      <td>0</td>\n",
       "    </tr>\n",
       "    <tr>\n",
       "      <th>4</th>\n",
       "      <td>1001.xml</td>\n",
       "      <td>0</td>\n",
       "      <td>0</td>\n",
       "      <td>0</td>\n",
       "      <td>0</td>\n",
       "      <td>0</td>\n",
       "      <td>0</td>\n",
       "      <td>1</td>\n",
       "      <td>1</td>\n",
       "      <td>1</td>\n",
       "      <td>...</td>\n",
       "      <td>0</td>\n",
       "      <td>0</td>\n",
       "      <td>0</td>\n",
       "      <td>0</td>\n",
       "      <td>0</td>\n",
       "      <td>0</td>\n",
       "      <td>0</td>\n",
       "      <td>0</td>\n",
       "      <td>0</td>\n",
       "      <td>0</td>\n",
       "    </tr>\n",
       "    <tr>\n",
       "      <th>...</th>\n",
       "      <td>...</td>\n",
       "      <td>...</td>\n",
       "      <td>...</td>\n",
       "      <td>...</td>\n",
       "      <td>...</td>\n",
       "      <td>...</td>\n",
       "      <td>...</td>\n",
       "      <td>...</td>\n",
       "      <td>...</td>\n",
       "      <td>...</td>\n",
       "      <td>...</td>\n",
       "      <td>...</td>\n",
       "      <td>...</td>\n",
       "      <td>...</td>\n",
       "      <td>...</td>\n",
       "      <td>...</td>\n",
       "      <td>...</td>\n",
       "      <td>...</td>\n",
       "      <td>...</td>\n",
       "      <td>...</td>\n",
       "      <td>...</td>\n",
       "    </tr>\n",
       "    <tr>\n",
       "      <th>3950</th>\n",
       "      <td>995.xml</td>\n",
       "      <td>0</td>\n",
       "      <td>0</td>\n",
       "      <td>0</td>\n",
       "      <td>0</td>\n",
       "      <td>0</td>\n",
       "      <td>0</td>\n",
       "      <td>0</td>\n",
       "      <td>0</td>\n",
       "      <td>0</td>\n",
       "      <td>...</td>\n",
       "      <td>0</td>\n",
       "      <td>0</td>\n",
       "      <td>0</td>\n",
       "      <td>0</td>\n",
       "      <td>0</td>\n",
       "      <td>0</td>\n",
       "      <td>0</td>\n",
       "      <td>0</td>\n",
       "      <td>0</td>\n",
       "      <td>0</td>\n",
       "    </tr>\n",
       "    <tr>\n",
       "      <th>3951</th>\n",
       "      <td>996.xml</td>\n",
       "      <td>0</td>\n",
       "      <td>0</td>\n",
       "      <td>0</td>\n",
       "      <td>0</td>\n",
       "      <td>0</td>\n",
       "      <td>0</td>\n",
       "      <td>0</td>\n",
       "      <td>0</td>\n",
       "      <td>0</td>\n",
       "      <td>...</td>\n",
       "      <td>0</td>\n",
       "      <td>0</td>\n",
       "      <td>0</td>\n",
       "      <td>0</td>\n",
       "      <td>0</td>\n",
       "      <td>0</td>\n",
       "      <td>0</td>\n",
       "      <td>0</td>\n",
       "      <td>0</td>\n",
       "      <td>0</td>\n",
       "    </tr>\n",
       "    <tr>\n",
       "      <th>3952</th>\n",
       "      <td>997.xml</td>\n",
       "      <td>0</td>\n",
       "      <td>0</td>\n",
       "      <td>0</td>\n",
       "      <td>0</td>\n",
       "      <td>0</td>\n",
       "      <td>0</td>\n",
       "      <td>0</td>\n",
       "      <td>0</td>\n",
       "      <td>0</td>\n",
       "      <td>...</td>\n",
       "      <td>0</td>\n",
       "      <td>0</td>\n",
       "      <td>0</td>\n",
       "      <td>0</td>\n",
       "      <td>0</td>\n",
       "      <td>0</td>\n",
       "      <td>0</td>\n",
       "      <td>0</td>\n",
       "      <td>0</td>\n",
       "      <td>0</td>\n",
       "    </tr>\n",
       "    <tr>\n",
       "      <th>3953</th>\n",
       "      <td>998.xml</td>\n",
       "      <td>0</td>\n",
       "      <td>0</td>\n",
       "      <td>0</td>\n",
       "      <td>0</td>\n",
       "      <td>0</td>\n",
       "      <td>0</td>\n",
       "      <td>0</td>\n",
       "      <td>0</td>\n",
       "      <td>0</td>\n",
       "      <td>...</td>\n",
       "      <td>0</td>\n",
       "      <td>0</td>\n",
       "      <td>0</td>\n",
       "      <td>0</td>\n",
       "      <td>0</td>\n",
       "      <td>0</td>\n",
       "      <td>0</td>\n",
       "      <td>0</td>\n",
       "      <td>0</td>\n",
       "      <td>0</td>\n",
       "    </tr>\n",
       "    <tr>\n",
       "      <th>3954</th>\n",
       "      <td>999.xml</td>\n",
       "      <td>0</td>\n",
       "      <td>0</td>\n",
       "      <td>0</td>\n",
       "      <td>0</td>\n",
       "      <td>0</td>\n",
       "      <td>0</td>\n",
       "      <td>0</td>\n",
       "      <td>0</td>\n",
       "      <td>0</td>\n",
       "      <td>...</td>\n",
       "      <td>0</td>\n",
       "      <td>0</td>\n",
       "      <td>0</td>\n",
       "      <td>0</td>\n",
       "      <td>0</td>\n",
       "      <td>0</td>\n",
       "      <td>0</td>\n",
       "      <td>0</td>\n",
       "      <td>0</td>\n",
       "      <td>0</td>\n",
       "    </tr>\n",
       "  </tbody>\n",
       "</table>\n",
       "<p>3955 rows × 587 columns</p>\n",
       "</div>"
      ],
      "text/plain": [
       "      filename  calcified granuloma  atelectases  mass lesion  opacity  \\\n",
       "0        1.xml                    0            0            0        0   \n",
       "1       10.xml                    1            0            0        0   \n",
       "2      100.xml                    0            0            0        0   \n",
       "3     1000.xml                    0            1            1        1   \n",
       "4     1001.xml                    0            0            0        0   \n",
       "...        ...                  ...          ...          ...      ...   \n",
       "3950   995.xml                    0            0            0        0   \n",
       "3951   996.xml                    0            0            0        0   \n",
       "3952   997.xml                    0            0            0        0   \n",
       "3953   998.xml                    0            0            0        0   \n",
       "3954   999.xml                    0            0            0        0   \n",
       "\n",
       "      atelectasis  ribs  diffuse fibrosis  fibrosis  pulmonary fibrosis  ...  \\\n",
       "0               0     0                 0         0                   0  ...   \n",
       "1               0     0                 0         0                   0  ...   \n",
       "2               0     0                 0         0                   0  ...   \n",
       "3               1     1                 0         0                   0  ...   \n",
       "4               0     0                 1         1                   1  ...   \n",
       "...           ...   ...               ...       ...                 ...  ...   \n",
       "3950            0     0                 0         0                   0  ...   \n",
       "3951            0     0                 0         0                   0  ...   \n",
       "3952            0     0                 0         0                   0  ...   \n",
       "3953            0     0                 0         0                   0  ...   \n",
       "3954            0     0                 0         0                   0  ...   \n",
       "\n",
       "      knee joint  knee prosthesis  osteoarthritis knee  \\\n",
       "0              0                0                    0   \n",
       "1              0                0                    0   \n",
       "2              0                0                    0   \n",
       "3              0                0                    0   \n",
       "4              0                0                    0   \n",
       "...          ...              ...                  ...   \n",
       "3950           0                0                    0   \n",
       "3951           0                0                    0   \n",
       "3952           0                0                    0   \n",
       "3953           0                0                    0   \n",
       "3954           0                0                    0   \n",
       "\n",
       "      mitral valve replacement  comminuted fracture  pneumomediastinum  \\\n",
       "0                            0                    0                  0   \n",
       "1                            0                    0                  0   \n",
       "2                            0                    0                  0   \n",
       "3                            0                    0                  0   \n",
       "4                            0                    0                  0   \n",
       "...                        ...                  ...                ...   \n",
       "3950                         0                    0                  0   \n",
       "3951                         0                    0                  0   \n",
       "3952                         0                    0                  0   \n",
       "3953                         0                    0                  0   \n",
       "3954                         0                    0                  0   \n",
       "\n",
       "      fracture comminuted  lung volume reduction  pleural disease  \\\n",
       "0                       0                      0                0   \n",
       "1                       0                      0                0   \n",
       "2                       0                      0                0   \n",
       "3                       0                      0                0   \n",
       "4                       0                      0                0   \n",
       "...                   ...                    ...              ...   \n",
       "3950                    0                      0                0   \n",
       "3951                    0                      0                0   \n",
       "3952                    0                      0                0   \n",
       "3953                    0                      0                0   \n",
       "3954                    0                      0                0   \n",
       "\n",
       "      pulmonary metastasis  \n",
       "0                        0  \n",
       "1                        0  \n",
       "2                        0  \n",
       "3                        0  \n",
       "4                        0  \n",
       "...                    ...  \n",
       "3950                     0  \n",
       "3951                     0  \n",
       "3952                     0  \n",
       "3953                     0  \n",
       "3954                     0  \n",
       "\n",
       "[3955 rows x 587 columns]"
      ]
     },
     "execution_count": 3,
     "metadata": {},
     "output_type": "execute_result"
    }
   ],
   "source": [
    "mti_tags_df"
   ]
  },
  {
   "cell_type": "code",
   "execution_count": 17,
   "id": "7d65aa70",
   "metadata": {},
   "outputs": [],
   "source": [
    "filenames = mti_tags_df['filename'].tolist()"
   ]
  },
  {
   "cell_type": "code",
   "execution_count": 20,
   "id": "d28a6eea",
   "metadata": {},
   "outputs": [],
   "source": [
    "tags = mti_tags_df.columns[1:].tolist()"
   ]
  },
  {
   "cell_type": "code",
   "execution_count": 23,
   "id": "8ce0a708",
   "metadata": {},
   "outputs": [
    {
     "data": {
      "text/plain": [
       "(3955, 586)"
      ]
     },
     "execution_count": 23,
     "metadata": {},
     "output_type": "execute_result"
    }
   ],
   "source": [
    "labels = mti_tags_df[tags].values\n",
    "labels.shape"
   ]
  },
  {
   "cell_type": "code",
   "execution_count": 6,
   "id": "4993138b",
   "metadata": {},
   "outputs": [],
   "source": [
    "reports = load_json(IUXRAY_REPORTS_MIN_JSON_PATH)"
   ]
  },
  {
   "cell_type": "code",
   "execution_count": 9,
   "id": "911d4e47",
   "metadata": {},
   "outputs": [],
   "source": [
    "keys = list(reports.keys())"
   ]
  },
  {
   "cell_type": "code",
   "execution_count": 10,
   "id": "7bed76a6",
   "metadata": {},
   "outputs": [
    {
     "data": {
      "text/plain": [
       "3955"
      ]
     },
     "execution_count": 10,
     "metadata": {},
     "output_type": "execute_result"
    }
   ],
   "source": [
    "len(keys)"
   ]
  },
  {
   "cell_type": "code",
   "execution_count": 43,
   "id": "9ad4068a",
   "metadata": {},
   "outputs": [
    {
     "data": {
      "text/plain": [
       "{'filename': '3852.xml',\n",
       " 'images': [{'id': 'CXR3852_IM-1949-1001',\n",
       "   'caption': 'Chest XXXX and lateral'},\n",
       "  {'id': 'CXR3852_IM-1949-4004', 'caption': 'Chest XXXX and lateral'}],\n",
       " 'comparison': 'None available.',\n",
       " 'indication': 'XXXX-year-old male status post XXXX on right side.',\n",
       " 'findings': 'Heart size is normal. No pneumothorax or focal airspace disease. No pleural effusion. Eventration of the right hemidiaphragm. Mild degenerative changes of the thoracic spine without fracture.',\n",
       " 'impression': 'No acute cardiopulmonary findings.',\n",
       " 'tags_manual': ['Diaphragmatic Eventration/right',\n",
       "  'Thoracic Vertebrae/degenerative/mild'],\n",
       " 'tags_auto': ['degenerative change', 'eventration', 'Diaphragm']}"
      ]
     },
     "execution_count": 43,
     "metadata": {},
     "output_type": "execute_result"
    }
   ],
   "source": [
    "key = keys[10]\n",
    "reports[key]"
   ]
  },
  {
   "cell_type": "code",
   "execution_count": 44,
   "id": "d240a809",
   "metadata": {},
   "outputs": [
    {
     "name": "stdout",
     "output_type": "stream",
     "text": [
      "degenerative change\n",
      "diaphragm\n",
      "eventration\n"
     ]
    }
   ],
   "source": [
    "i = filenames.index(key)\n",
    "for j, tag in enumerate(tags):\n",
    "    if labels[i,j] == 1:\n",
    "        print(tag)"
   ]
  },
  {
   "cell_type": "code",
   "execution_count": 49,
   "id": "45bf07b7",
   "metadata": {},
   "outputs": [],
   "source": [
    "manual_tags = set()\n",
    "for key in keys:\n",
    "    manual_tags.update(reports[key]['tags_manual'])\n",
    "manual_tags = list(manual_tags)\n",
    "manual_tags.sort()"
   ]
  },
  {
   "cell_type": "code",
   "execution_count": 50,
   "id": "b1dc6fc7",
   "metadata": {},
   "outputs": [
    {
     "data": {
      "text/plain": [
       "1719"
      ]
     },
     "execution_count": 50,
     "metadata": {},
     "output_type": "execute_result"
    }
   ],
   "source": [
    "len(manual_tags)"
   ]
  },
  {
   "cell_type": "code",
   "execution_count": 55,
   "id": "c5f96f73",
   "metadata": {},
   "outputs": [
    {
     "name": "stdout",
     "output_type": "stream",
     "text": [
      "Blister/lung/apex/bilateral\n",
      "Blister/lung/upper lobe/bilateral\n",
      "Blister/lung/upper lobe/bilateral/multiple\n",
      "Blister/lung/upper lobe/right\n"
     ]
    }
   ],
   "source": [
    "for i, x in enumerate(manual_tags):\n",
    "    if 'lister' in x:\n",
    "        print(x)"
   ]
  },
  {
   "cell_type": "code",
   "execution_count": 56,
   "id": "e7aef61b",
   "metadata": {},
   "outputs": [
    {
     "data": {
      "text/plain": [
       "(66, 'Opacity/lung/upper lobe/bilateral/reticular/round/multiple/chronic')"
      ]
     },
     "execution_count": 56,
     "metadata": {},
     "output_type": "execute_result"
    }
   ],
   "source": [
    "max((len(x), x) for x in manual_tags)"
   ]
  },
  {
   "cell_type": "code",
   "execution_count": 51,
   "id": "b27ee52b",
   "metadata": {},
   "outputs": [
    {
     "data": {
      "text/plain": [
       "['Abdomen/enlarged/mild',\n",
       " 'Abdomen/enlarged/severe',\n",
       " 'Adipose Tissue/lung/base/right',\n",
       " 'Adipose Tissue/mediastinum',\n",
       " 'Adipose Tissue/pleura/left',\n",
       " 'Adipose Tissue/right',\n",
       " 'Airspace Disease/lung',\n",
       " 'Airspace Disease/lung/apex/left/patchy',\n",
       " 'Airspace Disease/lung/base',\n",
       " 'Airspace Disease/lung/base/bilateral',\n",
       " 'Airspace Disease/lung/base/bilateral/mild',\n",
       " 'Airspace Disease/lung/base/bilateral/patchy',\n",
       " 'Airspace Disease/lung/base/bilateral/patchy/mild',\n",
       " 'Airspace Disease/lung/base/bilateral/streaky/mild',\n",
       " 'Airspace Disease/lung/base/left',\n",
       " 'Airspace Disease/lung/base/left/focal',\n",
       " 'Airspace Disease/lung/base/left/mild',\n",
       " 'Airspace Disease/lung/base/left/patchy',\n",
       " 'Airspace Disease/lung/base/left/severe',\n",
       " 'Airspace Disease/lung/base/left/streaky',\n",
       " 'Airspace Disease/lung/base/left/streaky/mild',\n",
       " 'Airspace Disease/lung/base/patchy',\n",
       " 'Airspace Disease/lung/base/pulmonary alveoli/right',\n",
       " 'Airspace Disease/lung/base/right',\n",
       " 'Airspace Disease/lung/base/right/acute',\n",
       " 'Airspace Disease/lung/base/right/focal',\n",
       " 'Airspace Disease/lung/base/right/mild',\n",
       " 'Airspace Disease/lung/base/right/patchy',\n",
       " 'Airspace Disease/lung/base/right/streaky',\n",
       " 'Airspace Disease/lung/base/right/streaky/mild',\n",
       " 'Airspace Disease/lung/bilateral',\n",
       " 'Airspace Disease/lung/bilateral/patchy',\n",
       " 'Airspace Disease/lung/bilateral/patchy/severe',\n",
       " 'Airspace Disease/lung/bilateral/scattered/patchy/multiple/mild',\n",
       " 'Airspace Disease/lung/costophrenic angle/left/mild',\n",
       " 'Airspace Disease/lung/hilum/right',\n",
       " 'Airspace Disease/lung/left',\n",
       " 'Airspace Disease/lung/left/patchy',\n",
       " 'Airspace Disease/lung/left/retrocardiac',\n",
       " 'Airspace Disease/lung/lingula',\n",
       " 'Airspace Disease/lung/lingula/patchy',\n",
       " 'Airspace Disease/lung/lingula/patchy/mild',\n",
       " 'Airspace Disease/lung/lower lobe/bilateral',\n",
       " 'Airspace Disease/lung/lower lobe/left',\n",
       " 'Airspace Disease/lung/lower lobe/left/patchy',\n",
       " 'Airspace Disease/lung/lower lobe/right',\n",
       " 'Airspace Disease/lung/lower lobe/right/mild',\n",
       " 'Airspace Disease/lung/lower lobe/right/patchy',\n",
       " 'Airspace Disease/lung/lower lobe/right/patchy/mild',\n",
       " 'Airspace Disease/lung/middle lobe/right',\n",
       " 'Airspace Disease/lung/middle lobe/right/focal',\n",
       " 'Airspace Disease/lung/middle lobe/right/mild',\n",
       " 'Airspace Disease/lung/middle lobe/right/patchy',\n",
       " 'Airspace Disease/lung/mild',\n",
       " 'Airspace Disease/lung/retrocardiac/mild',\n",
       " 'Airspace Disease/lung/right',\n",
       " 'Airspace Disease/lung/right/diffuse',\n",
       " 'Airspace Disease/lung/streaky',\n",
       " 'Airspace Disease/lung/upper lobe/left',\n",
       " 'Airspace Disease/lung/upper lobe/right',\n",
       " 'Airspace Disease/lung/upper lobe/right/patchy',\n",
       " 'Aorta, Thoracic/enlarged',\n",
       " 'Aorta, Thoracic/prominent',\n",
       " 'Aorta, Thoracic/prominent/mild',\n",
       " 'Aorta, Thoracic/tortuous',\n",
       " 'Aorta, Thoracic/tortuous/mild',\n",
       " 'Aorta, Thoracic/tortuous/moderate',\n",
       " 'Aorta, Thoracic/tortuous/severe',\n",
       " 'Aorta/enlarged/tortuous',\n",
       " 'Aorta/enlarged/tortuous/mild',\n",
       " 'Aorta/obscured',\n",
       " 'Aorta/prominent',\n",
       " 'Aorta/retrocardiac/enlarged',\n",
       " 'Aorta/tortuous',\n",
       " 'Aorta/tortuous/mild',\n",
       " 'Aorta/tortuous/prominent',\n",
       " 'Aortic Aneurysm',\n",
       " 'Aortic Aneurysm/aorta, thoracic',\n",
       " 'Arthritis',\n",
       " 'Arthritis/cervical vertebrae',\n",
       " 'Arthritis/cervical vertebrae/degenerative',\n",
       " 'Arthritis/cervical vertebrae/multiple',\n",
       " 'Arthritis/humerus/left',\n",
       " 'Arthritis/severe',\n",
       " 'Arthritis/shoulder/bilateral/mild',\n",
       " 'Arthritis/spine',\n",
       " 'Arthritis/spine/mild',\n",
       " 'Arthritis/thoracic vertebrae/mild',\n",
       " 'Atherosclerosis',\n",
       " 'Atherosclerosis/aorta',\n",
       " 'Atherosclerosis/aorta, thoracic',\n",
       " 'Atherosclerosis/aorta, thoracic/mild',\n",
       " 'Atherosclerosis/aorta/mild',\n",
       " 'Atherosclerosis/aorta/severe',\n",
       " 'Atherosclerosis/mild',\n",
       " 'Atherosclerosis/severe',\n",
       " 'Blister/lung/apex/bilateral',\n",
       " 'Blister/lung/upper lobe/bilateral',\n",
       " 'Blister/lung/upper lobe/bilateral/multiple',\n",
       " 'Blister/lung/upper lobe/right']"
      ]
     },
     "execution_count": 51,
     "metadata": {},
     "output_type": "execute_result"
    }
   ],
   "source": [
    "manual_tags[:100]"
   ]
  },
  {
   "cell_type": "code",
   "execution_count": 62,
   "id": "7de3f55f",
   "metadata": {
    "scrolled": true
   },
   "outputs": [
    {
     "name": "stdout",
     "output_type": "stream",
     "text": [
      "2024-05-09 11:37:53,856 - \u001b[1;32mINFO\u001b[1;0m - Loaded 10 already processed queries from /home/pamessina/medvqa-workspace/cache/iuxray/openai/gpt-4-1106-preview_manual_tags_to_sentences.jsonl\n",
      "2024-05-09 11:37:53,931 - \u001b[1;32mINFO\u001b[1;0m - Queries to make: 1719 (before removing queries that have already been processed)\n",
      "2024-05-09 11:37:53,932 - \u001b[1;32mINFO\u001b[1;0m - Queries to make: 1709 (after removing queries that have already been processed)\n",
      "2024-05-09 11:37:53,932 - \u001b[1;32mINFO\u001b[1;0m - Removed 10 queries that have already been processed\n",
      "2024-05-09 11:37:53,932 - \u001b[1;32mINFO\u001b[1;0m - Example queries to make:\n",
      "2024-05-09 11:37:53,932 - \u001b[1;32mINFO\u001b[1;0m - Query 1399: Pneumothorax/right/small\n",
      "2024-05-09 11:37:53,932 - \u001b[1;32mINFO\u001b[1;0m - Query 129: Calcified Granuloma/lung/bilateral/scattered\n",
      "2024-05-09 11:37:53,932 - \u001b[1;32mINFO\u001b[1;0m - Query 349: Cicatrix/lung/middle lobe/right/chronic\n",
      "2024-05-09 11:37:53,936 - \u001b[1;32mINFO\u001b[1;0m - Saving API requests to /home/pamessina/medvqa-workspace/tmp/iuxray/openai/api_requests_20240509_113753.jsonl\n",
      "2024-05-09 11:37:53,936 - \u001b[1;32mINFO\u001b[1;0m - Saving API responses to /home/pamessina/medvqa-workspace/tmp/iuxray/openai/api_responses_20240509_113753.jsonl\n",
      "2024-05-09 11:37:54,399 - \u001b[1;32mINFO\u001b[1;0m - Starting request #0\n",
      "2024-05-09 11:37:54,563 - \u001b[1;32mINFO\u001b[1;0m - Starting request #50\n",
      "2024-05-09 11:37:54,713 - \u001b[1;32mINFO\u001b[1;0m - Starting request #100\n",
      "2024-05-09 11:37:54,860 - \u001b[1;32mINFO\u001b[1;0m - Starting request #150\n",
      "2024-05-09 11:37:54,974 - \u001b[1;32mINFO\u001b[1;0m - Starting request #200\n",
      "2024-05-09 11:37:55,116 - \u001b[1;32mINFO\u001b[1;0m - Starting request #250\n",
      "2024-05-09 11:37:55,221 - \u001b[1;32mINFO\u001b[1;0m - Starting request #300\n",
      "2024-05-09 11:37:55,330 - \u001b[1;32mINFO\u001b[1;0m - Starting request #350\n",
      "2024-05-09 11:37:55,522 - \u001b[1;32mINFO\u001b[1;0m - Starting request #400\n",
      "2024-05-09 11:37:55,629 - \u001b[1;32mINFO\u001b[1;0m - Starting request #450\n",
      "2024-05-09 11:37:55,745 - \u001b[1;32mINFO\u001b[1;0m - Starting request #500\n",
      "2024-05-09 11:37:55,862 - \u001b[1;32mINFO\u001b[1;0m - Starting request #550\n",
      "2024-05-09 11:37:55,982 - \u001b[1;32mINFO\u001b[1;0m - Starting request #600\n",
      "2024-05-09 11:37:56,110 - \u001b[1;32mINFO\u001b[1;0m - Starting request #650\n",
      "2024-05-09 11:37:56,234 - \u001b[1;32mINFO\u001b[1;0m - Starting request #700\n",
      "2024-05-09 11:37:56,371 - \u001b[1;32mINFO\u001b[1;0m - Starting request #750\n",
      "2024-05-09 11:37:56,511 - \u001b[1;32mINFO\u001b[1;0m - Starting request #800\n",
      "2024-05-09 11:37:56,657 - \u001b[1;32mINFO\u001b[1;0m - Starting request #850\n",
      "2024-05-09 11:37:56,803 - \u001b[1;32mINFO\u001b[1;0m - Starting request #900\n",
      "2024-05-09 11:37:56,945 - \u001b[1;32mINFO\u001b[1;0m - Starting request #950\n",
      "2024-05-09 11:37:57,114 - \u001b[1;32mINFO\u001b[1;0m - Starting request #1000\n",
      "2024-05-09 11:37:57,258 - \u001b[1;32mINFO\u001b[1;0m - Starting request #1050\n",
      "2024-05-09 11:37:57,417 - \u001b[1;32mINFO\u001b[1;0m - Starting request #1100\n",
      "2024-05-09 11:37:57,575 - \u001b[1;32mINFO\u001b[1;0m - Starting request #1150\n",
      "2024-05-09 11:37:57,717 - \u001b[1;32mINFO\u001b[1;0m - Starting request #1200\n",
      "2024-05-09 11:37:57,859 - \u001b[1;32mINFO\u001b[1;0m - Starting request #1250\n",
      "2024-05-09 11:37:58,004 - \u001b[1;32mINFO\u001b[1;0m - Starting request #1300\n",
      "2024-05-09 11:37:58,188 - \u001b[1;32mINFO\u001b[1;0m - Starting request #1350\n",
      "2024-05-09 11:37:58,324 - \u001b[1;32mINFO\u001b[1;0m - Starting request #1400\n",
      "2024-05-09 11:37:58,458 - \u001b[1;32mINFO\u001b[1;0m - Starting request #1450\n",
      "2024-05-09 11:37:58,598 - \u001b[1;32mINFO\u001b[1;0m - Starting request #1500\n",
      "2024-05-09 11:37:58,730 - \u001b[1;32mINFO\u001b[1;0m - Starting request #1550\n",
      "2024-05-09 11:37:58,863 - \u001b[1;32mINFO\u001b[1;0m - Starting request #1600\n",
      "2024-05-09 11:37:59,026 - \u001b[1;32mINFO\u001b[1;0m - Starting request #1650\n",
      "2024-05-09 11:37:59,162 - \u001b[1;32mINFO\u001b[1;0m - Starting request #1700\n",
      "2024-05-09 11:38:03,546 - \u001b[1;32mINFO\u001b[1;0m - Parallel processing complete. Results saved to /home/pamessina/medvqa-workspace/tmp/iuxray/openai/api_responses_20240509_113753.jsonl\n",
      "2024-05-09 11:38:03,550 - \u001b[1;32mINFO\u001b[1;0m - Loading API responses from /home/pamessina/medvqa-workspace/tmp/iuxray/openai/api_responses_20240509_113753.jsonl\n",
      "2024-05-09 11:38:03,606 - \u001b[1;31mERROR\u001b[1;0m - Error parsing response [{\"model\": \"gpt-4-1106-preview\", \"messages\": [{\"role\": \"system\", \"content\": \"Given a tag extracted from a IU X-ray report, generate a short factual statement conveying the same information contained in the tag.\\n\\nExamples:\\n\\nInput: Diaphragmatic Ev...ay report, please provide it for a more accurate statement.\"}, \"logprobs\": null, \"finish_reason\": \"stop\"}], \"usage\": {\"prompt_tokens\": 112, \"completion_tokens\": 56, \"total_tokens\": 168}, \"system_fingerprint\": null}, {\"query\": \"Surgical Instruments\"}] for query \"Surgical Instruments\": GPT is protesting: The tag \"Surgical Instruments\" does not provide specific information about a condition or finding. It is a general term referring to tools used during surgical procedures. If you have a specific tag related to surgical instruments from an X-ray report, please provide it for a more accurate statement.\n",
      "2024-05-09 11:38:03,606 - \u001b[1;32mINFO\u001b[1;0m - Deleting API requests and responses\n",
      "2024-05-09 11:38:03,606 - \u001b[1;32mINFO\u001b[1;0m - Succesfully processed 1708 of 1709 API responses.\n",
      "                    1 of 1709 API responses could not be processed.\n",
      "                    Saving processed texts to /home/pamessina/medvqa-workspace/cache/iuxray/openai/gpt-4-1106-preview_manual_tags_to_sentences.jsonl\n"
     ]
    }
   ],
   "source": [
    "!python ../../scripts/iuxray/convert_manual_tags_to_sentences_with_openai.py \\\n",
    "--max_requests_per_minute 9500 \\\n",
    "--max_tokens_per_minute 1500000 \\\n",
    "--max_tokens_per_request 100 \\\n",
    "--logging_level \"INFO\" \\\n",
    "--api_key_name \"OPENAI_API_KEY_1\" \\\n",
    "--openai_model_name \"gpt-4-1106-preview\""
   ]
  },
  {
   "cell_type": "code",
   "execution_count": 87,
   "id": "208e6262",
   "metadata": {},
   "outputs": [
    {
     "name": "stdout",
     "output_type": "stream",
     "text": [
      "2024-05-09 12:00:08,497 - \u001b[1;32mINFO\u001b[1;0m - Queries to make: 1658 (before removing queries that have already been processed)\n",
      "2024-05-09 12:00:08,497 - \u001b[1;32mINFO\u001b[1;0m - Queries to make: 1658 (after removing queries that have already been processed)\n",
      "2024-05-09 12:00:08,498 - \u001b[1;32mINFO\u001b[1;0m - Removed 0 queries that have already been processed\n",
      "2024-05-09 12:00:08,498 - \u001b[1;32mINFO\u001b[1;0m - Example queries to make:\n",
      "2024-05-09 12:00:08,498 - \u001b[1;32mINFO\u001b[1;0m - Query 892: Lymph nodes/left/enlarged\n",
      "2024-05-09 12:00:08,498 - \u001b[1;32mINFO\u001b[1;0m - Query 947: Mass/breast/large\n",
      "2024-05-09 12:00:08,498 - \u001b[1;32mINFO\u001b[1;0m - Query 541: Density/lung/right/round/multiple\n",
      "2024-05-09 12:00:08,502 - \u001b[1;32mINFO\u001b[1;0m - Saving API requests to /home/pamessina/medvqa-workspace/tmp/iuxray/openai/api_requests_20240509_120008.jsonl\n",
      "2024-05-09 12:00:08,502 - \u001b[1;32mINFO\u001b[1;0m - Saving API responses to /home/pamessina/medvqa-workspace/tmp/iuxray/openai/api_responses_20240509_120008.jsonl\n",
      "2024-05-09 12:00:08,965 - \u001b[1;32mINFO\u001b[1;0m - Starting request #0\n",
      "2024-05-09 12:00:09,118 - \u001b[1;32mINFO\u001b[1;0m - Starting request #50\n",
      "2024-05-09 12:00:09,273 - \u001b[1;32mINFO\u001b[1;0m - Starting request #100\n",
      "2024-05-09 12:00:09,427 - \u001b[1;32mINFO\u001b[1;0m - Starting request #150\n",
      "2024-05-09 12:00:09,540 - \u001b[1;32mINFO\u001b[1;0m - Starting request #200\n",
      "2024-05-09 12:00:09,653 - \u001b[1;32mINFO\u001b[1;0m - Starting request #250\n",
      "2024-05-09 12:00:09,760 - \u001b[1;32mINFO\u001b[1;0m - Starting request #300\n",
      "2024-05-09 12:00:09,872 - \u001b[1;32mINFO\u001b[1;0m - Starting request #350\n",
      "2024-05-09 12:00:09,985 - \u001b[1;32mINFO\u001b[1;0m - Starting request #400\n",
      "2024-05-09 12:00:10,178 - \u001b[1;32mINFO\u001b[1;0m - Starting request #450\n",
      "2024-05-09 12:00:10,293 - \u001b[1;32mINFO\u001b[1;0m - Starting request #500\n",
      "2024-05-09 12:00:10,484 - \u001b[1;32mINFO\u001b[1;0m - Starting request #550\n",
      "2024-05-09 12:00:10,591 - \u001b[1;32mINFO\u001b[1;0m - Starting request #600\n",
      "2024-05-09 12:00:10,721 - \u001b[1;32mINFO\u001b[1;0m - Starting request #650\n",
      "2024-05-09 12:00:10,854 - \u001b[1;32mINFO\u001b[1;0m - Starting request #700\n",
      "2024-05-09 12:00:10,986 - \u001b[1;32mINFO\u001b[1;0m - Starting request #750\n",
      "2024-05-09 12:00:11,127 - \u001b[1;32mINFO\u001b[1;0m - Starting request #800\n",
      "2024-05-09 12:00:11,252 - \u001b[1;32mINFO\u001b[1;0m - Starting request #850\n",
      "2024-05-09 12:00:11,409 - \u001b[1;32mINFO\u001b[1;0m - Starting request #900\n",
      "2024-05-09 12:00:11,550 - \u001b[1;32mINFO\u001b[1;0m - Starting request #950\n",
      "2024-05-09 12:00:11,708 - \u001b[1;32mINFO\u001b[1;0m - Starting request #1000\n",
      "2024-05-09 12:00:11,873 - \u001b[1;32mINFO\u001b[1;0m - Starting request #1050\n",
      "2024-05-09 12:00:12,015 - \u001b[1;32mINFO\u001b[1;0m - Starting request #1100\n",
      "2024-05-09 12:00:12,162 - \u001b[1;32mINFO\u001b[1;0m - Starting request #1150\n",
      "2024-05-09 12:00:12,310 - \u001b[1;32mINFO\u001b[1;0m - Starting request #1200\n",
      "2024-05-09 12:00:12,460 - \u001b[1;32mINFO\u001b[1;0m - Starting request #1250\n",
      "2024-05-09 12:00:12,593 - \u001b[1;32mINFO\u001b[1;0m - Starting request #1300\n",
      "2024-05-09 12:00:12,728 - \u001b[1;32mINFO\u001b[1;0m - Starting request #1350\n",
      "2024-05-09 12:00:12,910 - \u001b[1;32mINFO\u001b[1;0m - Starting request #1400\n",
      "2024-05-09 12:00:13,047 - \u001b[1;32mINFO\u001b[1;0m - Starting request #1450\n",
      "2024-05-09 12:00:13,213 - \u001b[1;32mINFO\u001b[1;0m - Starting request #1500\n",
      "2024-05-09 12:00:13,368 - \u001b[1;32mINFO\u001b[1;0m - Starting request #1550\n",
      "2024-05-09 12:00:13,558 - \u001b[1;32mINFO\u001b[1;0m - Starting request #1600\n",
      "2024-05-09 12:00:13,692 - \u001b[1;32mINFO\u001b[1;0m - Starting request #1650\n",
      "2024-05-09 12:00:17,894 - \u001b[1;32mINFO\u001b[1;0m - Parallel processing complete. Results saved to /home/pamessina/medvqa-workspace/tmp/iuxray/openai/api_responses_20240509_120008.jsonl\n",
      "2024-05-09 12:00:17,898 - \u001b[1;32mINFO\u001b[1;0m - Loading API responses from /home/pamessina/medvqa-workspace/tmp/iuxray/openai/api_responses_20240509_120008.jsonl\n",
      "2024-05-09 12:00:17,952 - \u001b[1;32mINFO\u001b[1;0m - Deleting API requests and responses\n",
      "2024-05-09 12:00:17,952 - \u001b[1;32mINFO\u001b[1;0m - Succesfully processed 1658 of 1658 API responses.\n",
      "                    0 of 1658 API responses could not be processed.\n",
      "                    Saving processed texts to /home/pamessina/medvqa-workspace/cache/iuxray/openai/gpt-4-1106-preview_manual_tags_to_sentences(with_forward_slash).jsonl\n"
     ]
    }
   ],
   "source": [
    "!python ../../scripts/iuxray/convert_manual_tags_to_sentences_with_openai.py \\\n",
    "--max_requests_per_minute 9500 \\\n",
    "--max_tokens_per_minute 1500000 \\\n",
    "--max_tokens_per_request 100 \\\n",
    "--logging_level \"INFO\" \\\n",
    "--api_key_name \"OPENAI_API_KEY_1\" \\\n",
    "--openai_model_name \"gpt-4-1106-preview\""
   ]
  },
  {
   "cell_type": "code",
   "execution_count": 59,
   "id": "a2fc9df9",
   "metadata": {},
   "outputs": [],
   "source": [
    "from medvqa.utils.files import load_jsonl"
   ]
  },
  {
   "cell_type": "code",
   "execution_count": 88,
   "id": "c3416c32",
   "metadata": {},
   "outputs": [],
   "source": [
    "tmp = load_jsonl('/home/pamessina/medvqa-workspace/cache/iuxray/openai/gpt-4-1106-preview_manual_tags_to_sentences(with_forward_slash).jsonl')"
   ]
  },
  {
   "cell_type": "code",
   "execution_count": 89,
   "id": "fca20ea9",
   "metadata": {},
   "outputs": [
    {
     "data": {
      "text/plain": [
       "1658"
      ]
     },
     "execution_count": 89,
     "metadata": {},
     "output_type": "execute_result"
    }
   ],
   "source": [
    "len(tmp)"
   ]
  },
  {
   "cell_type": "code",
   "execution_count": 90,
   "id": "766bc598",
   "metadata": {
    "scrolled": true
   },
   "outputs": [
    {
     "data": {
      "text/plain": [
       "[{'metadata': {'query': 'Scoliosis/thoracic vertebrae/right/moderate'},\n",
       "  'parsed_response': 'Moderate scoliosis of the right thoracic vertebrae'},\n",
       " {'metadata': {'query': 'Sutures/mediastinum'},\n",
       "  'parsed_response': 'Sutures present in the mediastinum.'},\n",
       " {'metadata': {'query': 'Lumbar Vertebrae/degenerative/multiple'},\n",
       "  'parsed_response': 'Multiple degenerative lumbar vertebrae.'},\n",
       " {'metadata': {'query': 'Shoulder/degenerative'},\n",
       "  'parsed_response': 'Degenerative changes in the shoulder.'},\n",
       " {'metadata': {'query': 'Shoulder/bilateral/degenerative/severe'},\n",
       "  'parsed_response': 'Severe degenerative changes in both shoulders.'},\n",
       " {'metadata': {'query': 'Opacity/mediastinum/posterior/round'},\n",
       "  'parsed_response': 'Round opacity in the posterior mediastinum'},\n",
       " {'metadata': {'query': 'Pulmonary Emphysema/base/bilateral'},\n",
       "  'parsed_response': 'Bilateral pulmonary emphysema at the base of the lungs.'},\n",
       " {'metadata': {'query': 'Scoliosis/lumbar vertebrae/moderate'},\n",
       "  'parsed_response': 'Moderate scoliosis of the lumbar vertebrae'},\n",
       " {'metadata': {'query': 'Pulmonary Atelectasis/base/left/mild'},\n",
       "  'parsed_response': 'Mild pulmonary atelectasis at the base of the left lung.'},\n",
       " {'metadata': {'query': 'Pneumonectomy/lung/upper lobe/left'},\n",
       "  'parsed_response': 'Left upper lobe pneumonectomy of the lung.'}]"
      ]
     },
     "execution_count": 90,
     "metadata": {},
     "output_type": "execute_result"
    }
   ],
   "source": [
    "tmp[-10:]"
   ]
  },
  {
   "cell_type": "code",
   "execution_count": 92,
   "id": "252bd48d",
   "metadata": {},
   "outputs": [
    {
     "name": "stdout",
     "output_type": "stream",
     "text": [
      "(85, 'Severe diffuse bilateral interstitial lung opacity with reticular and round patterns.', 1160)\n",
      "{'metadata': {'query': 'Opacity/lung/bilateral/interstitial/diffuse/reticular/round/severe'}, 'parsed_response': 'Severe diffuse bilateral interstitial lung opacity with reticular and round patterns.'}\n"
     ]
    }
   ],
   "source": [
    "responses = [x['parsed_response'] for x in tmp]\n",
    "aux = max((len(x), x, i) for i, x in enumerate(responses))\n",
    "print(aux)\n",
    "print(tmp[aux[-1]])"
   ]
  },
  {
   "cell_type": "code",
   "execution_count": 76,
   "id": "0c23bd00",
   "metadata": {},
   "outputs": [],
   "source": [
    "anomalous_cases = []\n",
    "for x in tmp:\n",
    "    q = x['metadata']['query']\n",
    "    r = x['parsed_response']\n",
    "    if len(q) * 3 < len(r):\n",
    "        anomalous_cases.append(x)"
   ]
  },
  {
   "cell_type": "code",
   "execution_count": 77,
   "id": "d07f06e2",
   "metadata": {},
   "outputs": [
    {
     "data": {
      "text/plain": [
       "8"
      ]
     },
     "execution_count": 77,
     "metadata": {},
     "output_type": "execute_result"
    }
   ],
   "source": [
    "len(anomalous_cases)"
   ]
  },
  {
   "cell_type": "code",
   "execution_count": 78,
   "id": "1d45b674",
   "metadata": {},
   "outputs": [
    {
     "data": {
      "text/plain": [
       "[{'metadata': {'query': 'Cicatrix'},\n",
       "  'parsed_response': 'Presence of a cicatrix (scar tissue).'},\n",
       " {'metadata': {'query': 'Cystic Fibrosis'},\n",
       "  'parsed_response': 'Cystic fibrosis is a genetic disorder characterized by the production of abnormally thick and sticky mucus, leading to severe respiratory and digestive system complications.'},\n",
       " {'metadata': {'query': 'Nodule'}, 'parsed_response': 'Presence of a nodule.'},\n",
       " {'metadata': {'query': 'No Indexing'},\n",
       "  'parsed_response': 'The X-ray report indicates that there is no indexing present.'},\n",
       " {'metadata': {'query': 'Medical Device'},\n",
       "  'parsed_response': 'The X-ray report indicates the presence of a medical device.'},\n",
       " {'metadata': {'query': 'Pneumoperitoneum'},\n",
       "  'parsed_response': 'Presence of free air within the peritoneal cavity.'},\n",
       " {'metadata': {'query': 'Stents'},\n",
       "  'parsed_response': 'Coronary stents placed'},\n",
       " {'metadata': {'query': 'normal'},\n",
       "  'parsed_response': 'Normal findings on the X-ray report.'}]"
      ]
     },
     "execution_count": 78,
     "metadata": {},
     "output_type": "execute_result"
    }
   ],
   "source": [
    "anomalous_cases"
   ]
  },
  {
   "cell_type": "code",
   "execution_count": 96,
   "id": "a7ea8acb",
   "metadata": {},
   "outputs": [
    {
     "name": "stdout",
     "output_type": "stream",
     "text": [
      "\u001b[34mComputing positive and negative facts per image...\u001b[0m\n",
      "Loading IUXray reports from /mnt/workspace/iu-x-ray/dataset/reports/reports.min.json...\n",
      "Loading manual tags with slashes to sentences from /home/pamessina/medvqa-workspace/cache/iuxray/openai/gpt-4-1106-preview_manual_tags_to_sentences(with_forward_slash).jsonl...\n",
      "Loaded 1658 tags.\n",
      "100%|███████████████████████████████████| 3955/3955 [00:00<00:00, 149891.32it/s]\n",
      "Computing negative facts...\n",
      "100%|█████████████████████████████████████| 3955/3955 [00:01<00:00, 2827.58it/s]\n",
      "Assigning positive and negative facts to each image...\n",
      "100%|█████████████████████████████████████| 3955/3955 [00:00<00:00, 9542.17it/s]\n",
      "checkpoint_names = ['checkpoint_91_cacc+chf1+chf1+cscc+encc+hscc+nlcc+sass+spss+ta0)+ta1)+ta2)+ta0)+ta1)+ta2)+ta3)+ta4)+ta5)+ta6)+ta7)=0.9337.pt']\n",
      "  0%|                                                  | 0/2331 [00:00<?, ?it/s]Loading cached text embeddings from /mnt/workspace/pamessina/medvqa-workspace/cache/text_embeddings_cache(hash=440,3465006188639683439).pkl\n",
      "len(self.cache[\"hashes\"]) = 4758973\n",
      "self.cache[\"embeddings\"].shape = (4758973, 128)\n",
      "100%|██████████████████████████████████████| 2331/2331 [00:05<00:00, 422.91it/s]\n",
      "Computing embeddings for 1977 new texts\n",
      "Explicitly passing a `revision` is encouraged when loading a configuration with custom code to ensure no malicious code has been contributed in a newer revision.\n",
      "Explicitly passing a `revision` is encouraged when loading a model with custom code to ensure no malicious code has been contributed in a newer revision.\n",
      "checkpoint_names = ['checkpoint_91_cacc+chf1+chf1+cscc+encc+hscc+nlcc+sass+spss+ta0)+ta1)+ta2)+ta0)+ta1)+ta2)+ta3)+ta4)+ta5)+ta6)+ta7)=0.9337.pt']\n",
      "Loading model weights from /mnt/data/pamessina/workspaces/medvqa-workspace/models/fact_embedding/20240207_184445_MIMIC-CXR(triplets+classif+entcont+nli+radgraph+autoencoder)_FactEncoder(microsoft-BiomedVLP-CXR-BERT-specialized)/checkpoint_91_cacc+chf1+chf1+cscc+encc+hscc+nlcc+sass+spss+ta0)+ta1)+ta2)+ta0)+ta1)+ta2)+ta3)+ta4)+ta5)+ta6)+ta7)=0.9337.pt\n",
      "\u001b[93mWarning: model state dict has 211 keys, loaded state dict has 258 keys, intersection has 211 keys, union has 258 keys.\u001b[0m\n",
      "\u001b[93mExamples of keys in loaded state dict but not in model:\u001b[0m\n",
      "\u001b[93m  fact_decoder.decoder.layers.0.multihead_attn.out_proj.bias\u001b[0m\n",
      "\u001b[93m  fact_decoder.decoder.layers.0.self_attn.out_proj.bias\u001b[0m\n",
      "\u001b[93m  aux_task_hidden_layer.weight\u001b[0m\n",
      "\u001b[93m  health_status_classifier.weight\u001b[0m\n",
      "\u001b[93m  fact_decoder.decoder.layers.0.norm3.bias\u001b[0m\n",
      "\u001b[93m  fact_decoder_input_layer.weight\u001b[0m\n",
      "\u001b[93m  spert_rel_classifier.bias\u001b[0m\n",
      "\u001b[93m  spert_entity_classifier.weight\u001b[0m\n",
      "\u001b[93m  category_classifier.weight\u001b[0m\n",
      "\u001b[93m  fact_decoder.decoder.layers.0.linear2.bias\u001b[0m\n",
      "Explicitly passing a `revision` is encouraged when loading a model with custom code to ensure no malicious code has been contributed in a newer revision.\n",
      "100%|███████████████████████████████████████████| 10/10 [00:02<00:00,  3.35it/s]\n",
      "Saving updated cache to /mnt/workspace/pamessina/medvqa-workspace/cache/text_embeddings_cache(hash=440,3465006188639683439).pkl\n",
      "100%|███████████████████████████████████| 1977/1977 [00:00<00:00, 219316.54it/s]\n",
      "Saving /mnt/workspace/pamessina/medvqa-workspace/cache/iuxray/image_id_to_pos_neg_facts(hash=450,2802712764817701122).pkl...\n",
      "\u001b[1m\u001b[34mDone!\u001b[0m\n"
     ]
    }
   ],
   "source": [
    "!python ../../scripts/iuxray/export_image_id_to_pos_neg_facts.py \\\n",
    "--manual_tags_with_slashes_to_sentences_jsol_filepath \\\n",
    "\"/home/pamessina/medvqa-workspace/cache/iuxray/openai/gpt-4-1106-preview_manual_tags_to_sentences(with_forward_slash).jsonl\" \\\n",
    "--fact_embedding_model_name \"microsoft/BiomedVLP-CXR-BERT-specialized\" \\\n",
    "--fact_embedding_model_checkpoint_folder_path \\\n",
    "\"/mnt/data/pamessina/workspaces/medvqa-workspace/models/fact_embedding/20240207_184445_MIMIC-CXR(triplets+classif+entcont+nli+radgraph+autoencoder)_FactEncoder(microsoft-BiomedVLP-CXR-BERT-specialized)\" \\\n",
    "--fact_embedding_batch_size 200 \\\n",
    "--fact_embedding_num_workers 4"
   ]
  },
  {
   "cell_type": "code",
   "execution_count": 97,
   "id": "6bf1eb64",
   "metadata": {},
   "outputs": [],
   "source": [
    "from medvqa.utils.files import load_pickle"
   ]
  },
  {
   "cell_type": "code",
   "execution_count": 98,
   "id": "735b98db",
   "metadata": {},
   "outputs": [],
   "source": [
    "tmp = load_pickle('/mnt/workspace/pamessina/medvqa-workspace/cache/iuxray/image_id_to_pos_neg_facts(hash=450,2802712764817701122).pkl')"
   ]
  },
  {
   "cell_type": "code",
   "execution_count": 99,
   "id": "1a15d50e",
   "metadata": {},
   "outputs": [
    {
     "data": {
      "text/plain": [
       "dict_keys(['facts', 'embeddings', 'image_id_to_pos_neg_facts'])"
      ]
     },
     "execution_count": 99,
     "metadata": {},
     "output_type": "execute_result"
    }
   ],
   "source": [
    "tmp.keys()"
   ]
  },
  {
   "cell_type": "code",
   "execution_count": 104,
   "id": "d5c5427f",
   "metadata": {},
   "outputs": [
    {
     "data": {
      "text/plain": [
       "(2331, (2331, 128))"
      ]
     },
     "execution_count": 104,
     "metadata": {},
     "output_type": "execute_result"
    }
   ],
   "source": [
    "len(tmp['facts']), tmp['embeddings'].shape"
   ]
  },
  {
   "cell_type": "code",
   "execution_count": 105,
   "id": "64c0bfbf",
   "metadata": {},
   "outputs": [],
   "source": [
    "image_ids = list(tmp['image_id_to_pos_neg_facts'].keys())"
   ]
  },
  {
   "cell_type": "code",
   "execution_count": 128,
   "id": "dce169bb",
   "metadata": {},
   "outputs": [
    {
     "data": {
      "text/plain": [
       "'CXR2509_IM-1031-1001'"
      ]
     },
     "execution_count": 128,
     "metadata": {},
     "output_type": "execute_result"
    }
   ],
   "source": [
    "image_ids[0]"
   ]
  },
  {
   "cell_type": "code",
   "execution_count": 125,
   "id": "fab1b3c1",
   "metadata": {},
   "outputs": [
    {
     "data": {
      "text/plain": [
       "25"
      ]
     },
     "execution_count": 125,
     "metadata": {},
     "output_type": "execute_result"
    }
   ],
   "source": [
    "tmp['facts'].index('normal')"
   ]
  },
  {
   "cell_type": "code",
   "execution_count": 127,
   "id": "5b487671",
   "metadata": {},
   "outputs": [
    {
     "data": {
      "text/plain": [
       "4774"
      ]
     },
     "execution_count": 127,
     "metadata": {},
     "output_type": "execute_result"
    }
   ],
   "source": [
    "count = 0\n",
    "for x in tmp['image_id_to_pos_neg_facts'].values():\n",
    "    if x[0] != [25]:\n",
    "        count+=1\n",
    "count"
   ]
  },
  {
   "cell_type": "code",
   "execution_count": 124,
   "id": "49a83cf1",
   "metadata": {},
   "outputs": [
    {
     "name": "stdout",
     "output_type": "stream",
     "text": [
      "atelectases\n",
      "opacity\n",
      "Atelectasis\n",
      "Left lung base opacity\n",
      "scarring\n",
      "scar\n"
     ]
    }
   ],
   "source": [
    "for x in tmp['image_id_to_pos_neg_facts'][image_ids[950]][0]:\n",
    "    print(tmp['facts'][x])"
   ]
  },
  {
   "cell_type": "code",
   "execution_count": 103,
   "id": "015b412f",
   "metadata": {},
   "outputs": [
    {
     "data": {
      "text/plain": [
       "['Small opacity in the right hilum of the lung.',\n",
       " 'Prominent markings',\n",
       " 'cachexia',\n",
       " 'Cachexia',\n",
       " 'Lungs, Hyperlucent',\n",
       " 'Bilateral pulmonary emphysema at the base of the lungs.',\n",
       " 'Calcinosis in the aorta and lymph nodes.',\n",
       " 'Calcinosis in the pulmonary artery and lymph nodes.',\n",
       " 'Small cicatrix in the right middle lobe of the lung.',\n",
       " 'Small cicatrix in the right lower lobe of the lung.']"
      ]
     },
     "execution_count": 103,
     "metadata": {},
     "output_type": "execute_result"
    }
   ],
   "source": [
    "tmp['facts'][-10:]"
   ]
  },
  {
   "cell_type": "code",
   "execution_count": 139,
   "id": "b8cca033",
   "metadata": {},
   "outputs": [],
   "source": [
    "from importlib import reload\n",
    "import medvqa\n",
    "from IPython.display import Image"
   ]
  },
  {
   "cell_type": "code",
   "execution_count": 135,
   "id": "8f58554f",
   "metadata": {},
   "outputs": [
    {
     "data": {
      "text/plain": [
       "<module 'medvqa.datasets.iuxray' from '/home/pamessina/medvqa/medvqa/datasets/iuxray/__init__.py'>"
      ]
     },
     "execution_count": 135,
     "metadata": {},
     "output_type": "execute_result"
    }
   ],
   "source": [
    "reload(medvqa.datasets.iuxray)"
   ]
  },
  {
   "cell_type": "code",
   "execution_count": 136,
   "id": "ecd8d122",
   "metadata": {},
   "outputs": [],
   "source": [
    "from medvqa.datasets.iuxray import get_invalid_images, get_iuxray_image_path"
   ]
  },
  {
   "cell_type": "code",
   "execution_count": 137,
   "id": "5e77d50d",
   "metadata": {},
   "outputs": [],
   "source": [
    "invalid_images = list(get_invalid_images())"
   ]
  },
  {
   "cell_type": "code",
   "execution_count": 164,
   "id": "4aca3d9a",
   "metadata": {},
   "outputs": [
    {
     "data": {
      "image/png": "[encoded data removed]",
      "text/plain": [
       "<IPython.core.display.Image object>"
      ]
     },
     "execution_count": 164,
     "metadata": {},
     "output_type": "execute_result"
    }
   ],
   "source": [
    "Image(get_iuxray_image_path(invalid_images[-3]))"
   ]
  }
 ],
 "metadata": {
  "kernelspec": {
   "display_name": "venv2",
   "language": "python",
   "name": "venv2"
  },
  "language_info": {
   "codemirror_mode": {
    "name": "ipython",
    "version": 3
   },
   "file_extension": ".py",
   "mimetype": "text/x-python",
   "name": "python",
   "nbconvert_exporter": "python",
   "pygments_lexer": "ipython3",
   "version": "3.10.10"
  }
 },
 "nbformat": 4,
 "nbformat_minor": 5
}
