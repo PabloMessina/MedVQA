{
 "cells": [
  {
   "cell_type": "code",
   "execution_count": 3,
   "id": "6a189c8a",
   "metadata": {},
   "outputs": [
    {
     "name": "stdout",
     "output_type": "stream",
     "text": [
      "env: CUDA_VISIBLE_DEVICES=0\n"
     ]
    }
   ],
   "source": [
    "%env CUDA_VISIBLE_DEVICES=0"
   ]
  },
  {
   "cell_type": "code",
   "execution_count": 2,
   "id": "83346fab",
   "metadata": {},
   "outputs": [
    {
     "name": "stdout",
     "output_type": "stream",
     "text": [
      " gpt-3.5-turbo-0301_comparisons__part1.jsonl\r\n",
      "'gpt-3.5-turbo-0301_comparisons__part1(obsolete).jsonl'\r\n",
      " gpt-3.5-turbo-0301_comparisons__part2.jsonl\r\n",
      " gpt-3.5-turbo-0301_parsed_sentences.jsonl\r\n",
      " gpt-3.5-turbo-0613_chest_imagenome_anatomies_from_sentences__skip_top50000_most_difficult__uniform.jsonl\r\n",
      " gpt-3.5-turbo-0613_chest_imagenome_anatomies_from_sentences__top25000_most_difficult.jsonl\r\n",
      "'gpt-3.5-turbo-0613_chest_imagenome_anatomies_from_sentences__top50000_most_difficult__offset=25000.jsonl'\r\n",
      " gpt-3.5-turbo-0613_chest_imagenome_labels_from_sentences__skip_top20000__40000_uniform__1of2.jsonl\r\n",
      " gpt-3.5-turbo-0613_chest_imagenome_labels_from_sentences__skip_top20000__40000_uniform__2of2.jsonl\r\n",
      " gpt-3.5-turbo-0613_chest_imagenome_labels_from_sentences__top20000_most_difficult.jsonl\r\n",
      " gpt-3.5-turbo-0613_chest_imagenome_labels_from_sentencestop20000_most_difficult.jsonl\r\n",
      "'gpt-3.5-turbo-0613_chest_imagenome_labels_from_sentences__top20000_most_difficult__offset=5000.jsonl'\r\n",
      " gpt-3.5-turbo-0613_comparisons__part1.jsonl\r\n",
      " gpt-3.5-turbo-0613_comparisons__part2.jsonl\r\n",
      " gpt-3.5-turbo-0613_paraphrased_anatomical_locations__part1.jsonl\r\n",
      " gpt-3.5-turbo-0613_paraphrased_anatomical_locations__part2.jsonl\r\n",
      " gpt-3.5-turbo-0613_paraphrased_observations__single-words.jsonl\r\n",
      " gpt-3.5-turbo-0613_paraphrased_observations__two-or-more-words_cluster-balanced_1of5.jsonl\r\n",
      " gpt-3.5-turbo-0613_paraphrased_observations__two-or-more-words_cluster-balanced_2of5.jsonl\r\n",
      " gpt-3.5-turbo-0613_paraphrased_observations__two-or-more-words_cluster-balanced_3of5.jsonl\r\n",
      " gpt-3.5-turbo-0613_paraphrased_observations__two-or-more-words_cluster-balanced_4of5.jsonl\r\n",
      " gpt-3.5-turbo-0613_paraphrased_observations__two-or-more-words__part1.jsonl\r\n",
      " gpt-3.5-turbo-0613_paraphrased_observations__two-or-more-words__part3.jsonl\r\n",
      " gpt-3.5-turbo-0613_parsed_facts__hard.jsonl\r\n",
      " gpt-3.5-turbo-0613_parsed_facts__uniform.jsonl\r\n",
      " gpt-3.5-turbo-0613_parsed_facts__v2.jsonl\r\n",
      "'gpt-3.5-turbo-0613_parsed_facts__v2_offset=20000.jsonl'\r\n",
      "'gpt-3.5-turbo-0613_parsed_facts__v2_offset=40000_uniform.jsonl'\r\n",
      " gpt-3.5-turbo-0613_parsed_sentences__v2.jsonl\r\n",
      "'gpt-3.5-turbo-0613_parsed_sentences__v2(uniform).jsonl'\r\n",
      " gpt-3.5-turbo-16k-0613_paraphrased_anatomical_locations__part3.jsonl\r\n",
      " gpt-3.5-turbo-16k-0613_paraphrased_observations__two-or-more-words__part2.jsonl\r\n",
      " gpt-3.5-turbo-16k-0613_paraphrased_observations__two-or-more-words__part4.jsonl\r\n",
      " gpt-3.5-turbo_parsed_backgrounds.jsonl\r\n",
      " gpt-3.5-turbo_parsed_reports__backup.jsonl\r\n",
      " gpt-3.5-turbo_parsed_reports.jsonl\r\n",
      "'gpt-3.5-turbo_parsed_reports(old).jsonl'\r\n",
      " gpt-3.5-turbo_parsed_sentences.jsonl\r\n",
      " gpt-4-0613_chest_imagenome_labels_from_sentences__top5000_most_difficult.jsonl\r\n",
      " gpt-4-0613_paraphrased_observations__two-or-more-words_cluster-balanced.jsonl\r\n",
      " gpt-4-0613_parsed_reports.jsonl\r\n",
      " gpt-4-0613_parsed_sentences.jsonl\r\n",
      " gpt-4-0613_parsed_sentences__v2.jsonl\r\n"
     ]
    }
   ],
   "source": [
    "!ls /home/pamessina/medvqa-workspace/cache/mimiccxr/openai/"
   ]
  },
  {
   "cell_type": "code",
   "execution_count": 68,
   "id": "3e0106b3",
   "metadata": {
    "scrolled": true
   },
   "outputs": [
    {
     "name": "stdout",
     "output_type": "stream",
     "text": [
      "2023-07-14 09:38:46,794 - \u001b[1;32mINFO\u001b[1;0m - Collecting all sentences, observations and anatomical locations from input files...\n",
      "2023-07-14 09:38:46,794 - \u001b[1;32mINFO\u001b[1;0m - Loading integrated fact metadata from /home/pamessina/medvqa-workspace/cache/mimiccxr/integrated_fact_metadata(578733,58628071).jsonl...\n",
      "2023-07-14 09:38:55,083 - \u001b[1;32mINFO\u001b[1;0m - Found 578733 integrated fact metadata rows.\n",
      "2023-07-14 09:38:58,241 - \u001b[1;32mINFO\u001b[1;0m - Collecting strings from /home/pamessina/medvqa-workspace/cache/mimiccxr/openai/gpt-3.5-turbo-0613_paraphrased_anatomical_locations__part1.jsonl...\n",
      "2023-07-14 09:38:58,373 - \u001b[1;32mINFO\u001b[1;0m - Found 9891 paraphrased anatomical locations.\n",
      "2023-07-14 09:38:58,463 - \u001b[1;32mINFO\u001b[1;0m - Collecting strings from /home/pamessina/medvqa-workspace/cache/mimiccxr/openai/gpt-3.5-turbo-0613_paraphrased_anatomical_locations__part2.jsonl...\n",
      "2023-07-14 09:38:58,592 - \u001b[1;32mINFO\u001b[1;0m - Found 9890 paraphrased anatomical locations.\n",
      "2023-07-14 09:38:59,462 - \u001b[1;32mINFO\u001b[1;0m - Collecting strings from /home/pamessina/medvqa-workspace/cache/mimiccxr/openai/gpt-3.5-turbo-16k-0613_paraphrased_anatomical_locations__part3.jsonl...\n",
      "2023-07-14 09:38:59,580 - \u001b[1;32mINFO\u001b[1;0m - Found 8511 paraphrased anatomical locations.\n",
      "2023-07-14 09:38:59,666 - \u001b[1;32mINFO\u001b[1;0m - Found 297669 unique anatomical locations.\n",
      "2023-07-14 09:39:00,981 - \u001b[1;32mINFO\u001b[1;0m - Collecting strings from /home/pamessina/medvqa-workspace/cache/mimiccxr/openai/gpt-3.5-turbo-0613_paraphrased_observations__two-or-more-words__part1.jsonl...\n",
      "2023-07-14 09:39:01,154 - \u001b[1;32mINFO\u001b[1;0m - Found 14993 paraphrased observations.\n",
      "2023-07-14 09:39:01,271 - \u001b[1;32mINFO\u001b[1;0m - Collecting strings from /home/pamessina/medvqa-workspace/cache/mimiccxr/openai/gpt-3.5-turbo-16k-0613_paraphrased_observations__two-or-more-words__part2.jsonl...\n",
      "2023-07-14 09:39:01,460 - \u001b[1;32mINFO\u001b[1;0m - Found 14971 paraphrased observations.\n",
      "2023-07-14 09:39:01,631 - \u001b[1;32mINFO\u001b[1;0m - Collecting strings from /home/pamessina/medvqa-workspace/cache/mimiccxr/openai/gpt-3.5-turbo-0613_paraphrased_observations__two-or-more-words__part3.jsonl...\n",
      "2023-07-14 09:39:01,787 - \u001b[1;32mINFO\u001b[1;0m - Found 14972 paraphrased observations.\n",
      "2023-07-14 09:39:01,915 - \u001b[1;32mINFO\u001b[1;0m - Collecting strings from /home/pamessina/medvqa-workspace/cache/mimiccxr/openai/gpt-3.5-turbo-16k-0613_paraphrased_observations__two-or-more-words__part4.jsonl...\n",
      "2023-07-14 09:39:02,104 - \u001b[1;32mINFO\u001b[1;0m - Found 14965 paraphrased observations.\n",
      "2023-07-14 09:39:03,226 - \u001b[1;32mINFO\u001b[1;0m - Found 1315702 unique observations.\n",
      "2023-07-14 09:39:10,691 - \u001b[1;32mINFO\u001b[1;0m - Found 1605733 unique sentences.\n",
      "2023-07-14 09:39:21,847 - \u001b[1;32mINFO\u001b[1;0m - Examples of anatomical locations:\n",
      "2023-07-14 09:39:21,848 - \u001b[1;32mINFO\u001b[1;0m - 0: '\n",
      "2023-07-14 09:39:21,848 - \u001b[1;32mINFO\u001b[1;0m - 33074: left lung midsection\n",
      "2023-07-14 09:39:21,848 - \u001b[1;32mINFO\u001b[1;0m - 66148: left mid- and lower zones\n",
      "2023-07-14 09:39:21,848 - \u001b[1;32mINFO\u001b[1;0m - 99222: fundus portion of the stomach\n",
      "2023-07-14 09:39:21,848 - \u001b[1;32mINFO\u001b[1;0m - 132296: right mid-lateral lung territory\n",
      "2023-07-14 09:39:21,848 - \u001b[1;32mINFO\u001b[1;0m - 165371: located on the backside of the graft\n",
      "2023-07-14 09:39:21,848 - \u001b[1;32mINFO\u001b[1;0m - 198445: lower pigtail catheter on the right side\n",
      "2023-07-14 09:39:21,848 - \u001b[1;32mINFO\u001b[1;0m - 231519: outermost part of the right side of the chest\n",
      "2023-07-14 09:39:21,848 - \u001b[1;32mINFO\u001b[1;0m - 264593: lying on the first costochondral junction on the left\n",
      "2023-07-14 09:39:21,848 - \u001b[1;32mINFO\u001b[1;0m - 297668: overlying the region where the posterior part of the sixth rib on the left side overlaps with the anterior part of the fourth rib on the left side\n",
      "2023-07-14 09:39:21,848 - \u001b[1;32mINFO\u001b[1;0m - Examples of observations:\n",
      "2023-07-14 09:39:21,848 - \u001b[1;32mINFO\u001b[1;0m - 0: 2\n",
      "2023-07-14 09:39:21,848 - \u001b[1;32mINFO\u001b[1;0m - 146189: persistent marked scoliosis\n",
      "2023-07-14 09:39:21,848 - \u001b[1;32mINFO\u001b[1;0m - 292378: persistent splenic calcifications\n",
      "2023-07-14 09:39:21,848 - \u001b[1;32mINFO\u001b[1;0m - 438567: linear lucency in the lower right lung\n",
      "2023-07-14 09:39:21,849 - \u001b[1;32mINFO\u001b[1;0m - 584756: prior proximal right humeral rib fractures\n",
      "2023-07-14 09:39:21,849 - \u001b[1;32mINFO\u001b[1;0m - 730945: acute flare-up of chronic respiratory condition\n",
      "2023-07-14 09:39:21,849 - \u001b[1;32mINFO\u001b[1;0m - 877134: small linear opacity probably due to focal scarring\n",
      "2023-07-14 09:39:21,849 - \u001b[1;32mINFO\u001b[1;0m - 1023323: right hemidiaphragm suspicious for right pneumoperitoneum\n",
      "2023-07-14 09:39:21,849 - \u001b[1;32mINFO\u001b[1;0m - 1169512: slightly increased pneumomediastinum alongside the left upper lobe\n",
      "2023-07-14 09:39:21,849 - \u001b[1;32mINFO\u001b[1;0m - 1315701: worsening of combined alveolar opacities in the bilateral asymmetrically distributed combined interstitial opacities in the bilateral asymmetrically distributed combined alveolar opacities in the bilateral asymmetrically distributed combined interstitial opacities\n",
      "2023-07-14 09:39:22,410 - \u001b[1;32mINFO\u001b[1;0m - Found precomputed sentence embeddings at /mnt/workspace/pamessina/medvqa-workspace/cache/mimiccxr/cxr_bert_sentence_embeddings(1605733,71051120).pkl. Loading...\n",
      "2023-07-14 09:39:23,723 - \u001b[1;32mINFO\u001b[1;0m - Found precomputed clusters at /mnt/workspace/pamessina/medvqa-workspace/cache/mimiccxr/clusters(100,100297669,1315702).pkl. Loading...\n",
      "2023-07-14 09:39:25,299 - \u001b[1;32mINFO\u001b[1;0m - ============================================================\n",
      "2023-07-14 09:39:25,299 - \u001b[1;32mINFO\u001b[1;0m - Sampling triplets for anatomical locations...\n",
      "2023-07-14 09:39:25,299 - \u001b[1;32mINFO\u001b[1;0m - ---------------------------------------\n",
      "Rule 1: \"Rank paraphrases very highly\"\n",
      "  0%|                                                 | 0/28292 [00:00<?, ?it/s]2023-07-14 09:39:25,302 - \u001b[1;33mWARNING\u001b[1;0m - No paraphrases found for \"end\". Skipping...\n",
      "  7%|██▌                                 | 2055/28292 [00:02<00:25, 1027.49it/s]2023-07-14 09:39:27,813 - \u001b[1;33mWARNING\u001b[1;0m - No paraphrases found for \"both locations\". Skipping...\n",
      " 64%|██████████████████████▎            | 18026/28292 [00:14<00:07, 1310.31it/s]2023-07-14 09:39:41,268 - \u001b[1;33mWARNING\u001b[1;0m - No paraphrases found for \"right mid to upper lung laterally\". Skipping...\n",
      "100%|███████████████████████████████████| 28292/28292 [00:21<00:00, 1289.21it/s]\n",
      "2023-07-14 09:39:47,247 - \u001b[1;32mINFO\u001b[1;0m - Actual number of triplets sampled for Rule 1: \"Rank paraphrases very highly\": 1504826\n",
      "2023-07-14 09:39:47,247 - \u001b[1;32mINFO\u001b[1;0m - ---------------------------------------\n",
      "Rule 1.1: \"Rank paraphrases very highly - Hard negative\"\n",
      "  0%|                                                 | 0/28292 [00:00<?, ?it/s]2023-07-14 09:39:47,248 - \u001b[1;33mWARNING\u001b[1;0m - No paraphrases found for \"end\". Skipping...\n",
      "  5%|█▊                                   | 1396/28292 [00:02<00:38, 697.96it/s]2023-07-14 09:39:50,625 - \u001b[1;33mWARNING\u001b[1;0m - No paraphrases found for \"both locations\". Skipping...\n",
      " 70%|████████████████████████▋          | 19913/28292 [00:20<00:08, 1002.75it/s]2023-07-14 09:40:08,018 - \u001b[1;33mWARNING\u001b[1;0m - No paraphrases found for \"right mid to upper lung laterally\". Skipping...\n",
      "100%|███████████████████████████████████| 28292/28292 [00:28<00:00, 1008.39it/s]\n",
      "2023-07-14 09:40:15,304 - \u001b[1;32mINFO\u001b[1;0m - Actual number of triplets sampled for Rule 1.1: \"Rank paraphrases very highly - Hard negative\": 1494278\n",
      "2023-07-14 09:40:15,304 - \u001b[1;32mINFO\u001b[1;0m - ---------------------------------------\n",
      "Rule 2: \"Rank some triplets according to CXR-BERT and Leveinshtein consensus\"\n",
      "100%|██████████████████████████████████| 297669/297669 [05:08<00:00, 964.03it/s]\n",
      "2023-07-14 09:45:24,080 - \u001b[1;32mINFO\u001b[1;0m - Actual number of triplets sampled for Rule 2: \"Rank some triplets according to CXR-BERT and Leveinshtein consensus\": 1315916\n",
      "2023-07-14 09:45:24,080 - \u001b[1;32mINFO\u001b[1;0m - ============================================================\n",
      "2023-07-14 09:45:24,080 - \u001b[1;32mINFO\u001b[1;0m - Sampling triplets for observations...\n",
      "2023-07-14 09:45:24,080 - \u001b[1;32mINFO\u001b[1;0m - ---------------------------------------\n",
      "Rule 1: \"Rank paraphrases very highly\"\n",
      "100%|████████████████████████████████████| 59901/59901 [01:09<00:00, 864.02it/s]\n",
      "2023-07-14 09:46:33,410 - \u001b[1;32mINFO\u001b[1;0m - Actual number of triplets sampled for Rule 1: \"Rank paraphrases very highly\": 5383418\n",
      "2023-07-14 09:46:33,410 - \u001b[1;32mINFO\u001b[1;0m - ---------------------------------------\n",
      "Rule 1.1: \"Rank paraphrases very highly - Hard negative\"\n"
     ]
    },
    {
     "name": "stdout",
     "output_type": "stream",
     "text": [
      "100%|████████████████████████████████████| 59901/59901 [01:19<00:00, 754.33it/s]\n",
      "2023-07-14 09:47:52,820 - \u001b[1;32mINFO\u001b[1;0m - Actual number of triplets sampled for Rule 1.1: \"Rank paraphrases very highly - Hard negative\": 5373063\n",
      "2023-07-14 09:47:52,820 - \u001b[1;32mINFO\u001b[1;0m - ---------------------------------------\n",
      "2023-07-14 09:47:55,925 - \u001b[1;32mINFO\u001b[1;0m - len(hs2id): 7\n",
      "2023-07-14 09:47:55,925 - \u001b[1;32mINFO\u001b[1;0m - hs2id: {'ambiguous': 0, 'abnormal': 1, 'unknown': 2, 'normal': 3, 'resolved': 4, 'improved': 5, '': 6}\n",
      "2023-07-14 09:47:57,605 - \u001b[1;32mINFO\u001b[1;0m - Number of observations for each health status:\n",
      "2023-07-14 09:47:57,605 - \u001b[1;32mINFO\u001b[1;0m - 669229 observations with health status \"abnormal\"\n",
      "2023-07-14 09:47:57,605 - \u001b[1;32mINFO\u001b[1;0m - 392492 observations with health status \"unknown\"\n",
      "2023-07-14 09:47:57,605 - \u001b[1;32mINFO\u001b[1;0m - 164968 observations with health status \"normal\"\n",
      "2023-07-14 09:47:57,605 - \u001b[1;32mINFO\u001b[1;0m - 88490 observations with health status \"ambiguous\"\n",
      "2023-07-14 09:47:57,605 - \u001b[1;32mINFO\u001b[1;0m - 463 observations with health status \"\"\n",
      "2023-07-14 09:47:57,605 - \u001b[1;32mINFO\u001b[1;0m - 52 observations with health status \"improved\"\n",
      "2023-07-14 09:47:57,605 - \u001b[1;32mINFO\u001b[1;0m - 8 observations with health status \"resolved\"\n",
      "2023-07-14 09:48:00,822 - \u001b[1;32mINFO\u001b[1;0m - len(hsid_cid_2_obs_idxs): 469\n",
      "2023-07-14 09:48:00,823 - \u001b[1;32mINFO\u001b[1;0m - len(obs_idx_2_hsid_cid): 1315702\n",
      "Rule 2: \"Rank some triplets according to CXR-BERT and Leveinshtein consensus, while anchor and positive share the same health status\"\n",
      "100%|███████████████████████████████| 1315702/1315702 [20:09<00:00, 1087.80it/s]\n",
      "2023-07-14 10:08:10,326 - \u001b[1;32mINFO\u001b[1;0m - Actual number of triplets sampled for Rule 2: \"Rank some triplets according to CXR-BERT and Leveinshtein consensus, while anchor and positive share the same health status\": 4440769\n",
      "2023-07-14 10:08:10,326 - \u001b[1;32mINFO\u001b[1;0m - ---------------------------------------\n",
      "Rule 3: \"Hard health-status-vs-others triplets\"\n",
      "n_triplets_per_iter: 84\n",
      "100%|████████████████████████████████████| 59901/59901 [02:45<00:00, 361.60it/s]\n",
      "2023-07-14 10:10:55,981 - \u001b[1;32mINFO\u001b[1;0m - Actual number of triplets sampled for Rule 3: \"Hard health-status-vs-others triplets\": 4910133\n",
      "2023-07-14 10:10:55,981 - \u001b[1;32mINFO\u001b[1;0m - Extracting triplets for validation set...\n",
      "2023-07-14 10:11:37,372 - \u001b[1;32mINFO\u001b[1;0m - Saving triplets to /mnt/workspace/pamessina/medvqa-workspace/cache/mimiccxr/triplets(1605733,297669,1315702,4001000,20002000,1000,2000).pkl...\n",
      "2023-07-14 10:11:39,087 - \u001b[1;32mINFO\u001b[1;0m - Done!\n"
     ]
    }
   ],
   "source": [
    "!python ../../scripts/mimiccxr/sample_triplets_for_fact_embedding_learning.py \\\n",
    "--precomputed_sentence_embeddings_filepath \\\n",
    "\"/mnt/workspace/pamessina/medvqa-workspace/cache/mimiccxr/cxr_bert_sentence_embeddings(1605733,71051120).pkl\" \\\n",
    "--paraphrased_anatomical_locations_filepaths \\\n",
    "\"/home/pamessina/medvqa-workspace/cache/mimiccxr/openai/gpt-3.5-turbo-0613_paraphrased_anatomical_locations__part1.jsonl\" \\\n",
    "\"/home/pamessina/medvqa-workspace/cache/mimiccxr/openai/gpt-3.5-turbo-0613_paraphrased_anatomical_locations__part2.jsonl\" \\\n",
    "\"/home/pamessina/medvqa-workspace/cache/mimiccxr/openai/gpt-3.5-turbo-16k-0613_paraphrased_anatomical_locations__part3.jsonl\" \\\n",
    "--paraphrased_observations_filepaths \\\n",
    "\"/home/pamessina/medvqa-workspace/cache/mimiccxr/openai/gpt-3.5-turbo-0613_paraphrased_observations__two-or-more-words__part1.jsonl\" \\\n",
    "\"/home/pamessina/medvqa-workspace/cache/mimiccxr/openai/gpt-3.5-turbo-16k-0613_paraphrased_observations__two-or-more-words__part2.jsonl\" \\\n",
    "\"/home/pamessina/medvqa-workspace/cache/mimiccxr/openai/gpt-3.5-turbo-0613_paraphrased_observations__two-or-more-words__part3.jsonl\" \\\n",
    "\"/home/pamessina/medvqa-workspace/cache/mimiccxr/openai/gpt-3.5-turbo-16k-0613_paraphrased_observations__two-or-more-words__part4.jsonl\" \\\n",
    "\"/home/pamessina/medvqa-workspace/cache/mimiccxr/openai/gpt-4-0613_paraphrased_observations__two-or-more-words_cluster-balanced.jsonl\" \\\n",
    "\"/home/pamessina/medvqa-workspace/cache/mimiccxr/openai/gpt-3.5-turbo-0613_paraphrased_observations__two-or-more-words_cluster-balanced_1of5.jsonl\" \\\n",
    "\"/home/pamessina/medvqa-workspace/cache/mimiccxr/openai/gpt-3.5-turbo-0613_paraphrased_observations__two-or-more-words_cluster-balanced_2of5.jsonl\" \\\n",
    "\"/home/pamessina/medvqa-workspace/cache/mimiccxr/openai/gpt-3.5-turbo-0613_paraphrased_observations__two-or-more-words_cluster-balanced_3of5.jsonl\" \\\n",
    "\"/home/pamessina/medvqa-workspace/cache/mimiccxr/openai/gpt-3.5-turbo-0613_paraphrased_observations__two-or-more-words_cluster-balanced_4of5.jsonl\" \\\n",
    "--integrated_fact_metadata_filepath \\\n",
    "\"/home/pamessina/medvqa-workspace/cache/mimiccxr/integrated_fact_metadata(578733,58628071).jsonl\" \\\n",
    "--num_anatloc_clusters 100 \\\n",
    "--num_obs_clusters 100 \\\n",
    "--num_train_anatloc_triplets 4000000 \\\n",
    "--num_train_obs_triplets 20000000 \\\n",
    "--num_val_anatloc_triplets 1000 \\\n",
    "--num_val_obs_triplets 2000 \\\n",
    "--batch_size 450 \\\n",
    "--num_workers 10"
   ]
  },
  {
   "cell_type": "code",
   "execution_count": 202,
   "id": "690b6e9f",
   "metadata": {
    "scrolled": true
   },
   "outputs": [
    {
     "name": "stdout",
     "output_type": "stream",
     "text": [
      "2023-07-21 02:28:22,238 - \u001b[1;32mINFO\u001b[1;0m - Collecting all sentences, observations and anatomical locations from input files...\n",
      "2023-07-21 02:28:22,238 - \u001b[1;32mINFO\u001b[1;0m - Loading integrated fact metadata from /home/pamessina/medvqa-workspace/cache/mimiccxr/integrated_fact_metadata(578733,58628071).jsonl...\n",
      "2023-07-21 02:28:27,531 - \u001b[1;32mINFO\u001b[1;0m - Found 578733 integrated fact metadata rows.\n",
      "2023-07-21 02:28:29,130 - \u001b[1;32mINFO\u001b[1;0m - Collecting strings from /home/pamessina/medvqa-workspace/cache/mimiccxr/openai/gpt-3.5-turbo-0613_paraphrased_anatomical_locations__part1.jsonl...\n",
      "2023-07-21 02:28:29,211 - \u001b[1;32mINFO\u001b[1;0m - Found 9891 paraphrased anatomical locations.\n",
      "2023-07-21 02:28:29,293 - \u001b[1;32mINFO\u001b[1;0m - Collecting strings from /home/pamessina/medvqa-workspace/cache/mimiccxr/openai/gpt-3.5-turbo-0613_paraphrased_anatomical_locations__part2.jsonl...\n",
      "2023-07-21 02:28:29,381 - \u001b[1;32mINFO\u001b[1;0m - Found 9890 paraphrased anatomical locations.\n",
      "2023-07-21 02:28:30,033 - \u001b[1;32mINFO\u001b[1;0m - Collecting strings from /home/pamessina/medvqa-workspace/cache/mimiccxr/openai/gpt-3.5-turbo-16k-0613_paraphrased_anatomical_locations__part3.jsonl...\n",
      "2023-07-21 02:28:30,116 - \u001b[1;32mINFO\u001b[1;0m - Found 8511 paraphrased anatomical locations.\n",
      "2023-07-21 02:28:30,185 - \u001b[1;32mINFO\u001b[1;0m - Found 297669 unique anatomical locations.\n",
      "2023-07-21 02:28:31,011 - \u001b[1;32mINFO\u001b[1;0m - Collecting strings from /home/pamessina/medvqa-workspace/cache/mimiccxr/openai/gpt-3.5-turbo-0613_paraphrased_observations__two-or-more-words__part1.jsonl...\n",
      "2023-07-21 02:28:31,123 - \u001b[1;32mINFO\u001b[1;0m - Found 14993 paraphrased observations.\n",
      "2023-07-21 02:28:31,235 - \u001b[1;32mINFO\u001b[1;0m - Collecting strings from /home/pamessina/medvqa-workspace/cache/mimiccxr/openai/gpt-3.5-turbo-16k-0613_paraphrased_observations__two-or-more-words__part2.jsonl...\n",
      "2023-07-21 02:28:31,357 - \u001b[1;32mINFO\u001b[1;0m - Found 14971 paraphrased observations.\n",
      "2023-07-21 02:28:31,506 - \u001b[1;32mINFO\u001b[1;0m - Collecting strings from /home/pamessina/medvqa-workspace/cache/mimiccxr/openai/gpt-3.5-turbo-0613_paraphrased_observations__two-or-more-words__part3.jsonl...\n",
      "2023-07-21 02:28:31,627 - \u001b[1;32mINFO\u001b[1;0m - Found 14972 paraphrased observations.\n",
      "2023-07-21 02:28:31,737 - \u001b[1;32mINFO\u001b[1;0m - Collecting strings from /home/pamessina/medvqa-workspace/cache/mimiccxr/openai/gpt-3.5-turbo-16k-0613_paraphrased_observations__two-or-more-words__part4.jsonl...\n",
      "2023-07-21 02:28:31,859 - \u001b[1;32mINFO\u001b[1;0m - Found 14965 paraphrased observations.\n",
      "2023-07-21 02:28:32,742 - \u001b[1;32mINFO\u001b[1;0m - Collecting strings from /home/pamessina/medvqa-workspace/cache/mimiccxr/openai/gpt-4-0613_paraphrased_observations__two-or-more-words_cluster-balanced.jsonl...\n",
      "2023-07-21 02:28:32,842 - \u001b[1;32mINFO\u001b[1;0m - Found 10000 paraphrased observations.\n",
      "2023-07-21 02:28:32,922 - \u001b[1;32mINFO\u001b[1;0m - Collecting strings from /home/pamessina/medvqa-workspace/cache/mimiccxr/openai/gpt-3.5-turbo-0613_paraphrased_observations__two-or-more-words_cluster-balanced_1of5.jsonl...\n",
      "2023-07-21 02:28:33,019 - \u001b[1;32mINFO\u001b[1;0m - Found 9999 paraphrased observations.\n",
      "2023-07-21 02:28:33,099 - \u001b[1;32mINFO\u001b[1;0m - Collecting strings from /home/pamessina/medvqa-workspace/cache/mimiccxr/openai/gpt-3.5-turbo-0613_paraphrased_observations__two-or-more-words_cluster-balanced_2of5.jsonl...\n",
      "2023-07-21 02:28:33,202 - \u001b[1;32mINFO\u001b[1;0m - Found 9997 paraphrased observations.\n",
      "2023-07-21 02:28:33,287 - \u001b[1;32mINFO\u001b[1;0m - Collecting strings from /home/pamessina/medvqa-workspace/cache/mimiccxr/openai/gpt-3.5-turbo-0613_paraphrased_observations__two-or-more-words_cluster-balanced_3of5.jsonl...\n",
      "2023-07-21 02:28:33,387 - \u001b[1;32mINFO\u001b[1;0m - Found 9994 paraphrased observations.\n",
      "2023-07-21 02:28:33,473 - \u001b[1;32mINFO\u001b[1;0m - Collecting strings from /home/pamessina/medvqa-workspace/cache/mimiccxr/openai/gpt-3.5-turbo-0613_paraphrased_observations__two-or-more-words_cluster-balanced_4of5.jsonl...\n",
      "2023-07-21 02:28:33,572 - \u001b[1;32mINFO\u001b[1;0m - Found 9996 paraphrased observations.\n",
      "2023-07-21 02:28:33,656 - \u001b[1;32mINFO\u001b[1;0m - Found 1996654 unique observations.\n",
      "2023-07-21 02:28:41,197 - \u001b[1;32mINFO\u001b[1;0m - Found 2286627 unique sentences.\n",
      "2023-07-21 02:28:51,683 - \u001b[1;32mINFO\u001b[1;0m - Examples of anatomical locations:\n",
      "2023-07-21 02:28:51,683 - \u001b[1;32mINFO\u001b[1;0m - 0: '\n",
      "2023-07-21 02:28:51,683 - \u001b[1;32mINFO\u001b[1;0m - 33074: left lung midsection\n",
      "2023-07-21 02:28:51,683 - \u001b[1;32mINFO\u001b[1;0m - 66148: left mid- and lower zones\n",
      "2023-07-21 02:28:51,684 - \u001b[1;32mINFO\u001b[1;0m - 99222: fundus portion of the stomach\n",
      "2023-07-21 02:28:51,684 - \u001b[1;32mINFO\u001b[1;0m - 132296: right mid-lateral lung territory\n",
      "2023-07-21 02:28:51,684 - \u001b[1;32mINFO\u001b[1;0m - 165371: located on the backside of the graft\n",
      "2023-07-21 02:28:51,684 - \u001b[1;32mINFO\u001b[1;0m - 198445: lower pigtail catheter on the right side\n",
      "2023-07-21 02:28:51,684 - \u001b[1;32mINFO\u001b[1;0m - 231519: outermost part of the right side of the chest\n",
      "2023-07-21 02:28:51,684 - \u001b[1;32mINFO\u001b[1;0m - 264593: lying on the first costochondral junction on the left\n",
      "2023-07-21 02:28:51,684 - \u001b[1;32mINFO\u001b[1;0m - 297668: overlying the region where the posterior part of the sixth rib on the left side overlaps with the anterior part of the fourth rib on the left side\n",
      "2023-07-21 02:28:51,684 - \u001b[1;32mINFO\u001b[1;0m - Examples of observations:\n",
      "2023-07-21 02:28:51,684 - \u001b[1;32mINFO\u001b[1;0m - 0: 2\n",
      "2023-07-21 02:28:51,684 - \u001b[1;32mINFO\u001b[1;0m - 221850: PICC line tip in the lower SVC\n",
      "2023-07-21 02:28:51,684 - \u001b[1;32mINFO\u001b[1;0m - 443700: pacemaker leads positioned in the RV\n",
      "2023-07-21 02:28:51,684 - \u001b[1;32mINFO\u001b[1;0m - 665551: thickening along the right lateral pleura\n",
      "2023-07-21 02:28:51,684 - \u001b[1;32mINFO\u001b[1;0m - 887401: nodule previously characterized as a hamartoma\n",
      "2023-07-21 02:28:51,684 - \u001b[1;32mINFO\u001b[1;0m - 1109251: indistinct haziness over the right lower lung field\n",
      "2023-07-21 02:28:51,684 - \u001b[1;32mINFO\u001b[1;0m - 1331102: substantial air and fluid effusion in the pleural cavity\n",
      "2023-07-21 02:28:51,684 - \u001b[1;32mINFO\u001b[1;0m - 1552952: calcified pleural plaque projecting over the right heart border\n",
      "2023-07-21 02:28:51,684 - \u001b[1;32mINFO\u001b[1;0m - 1774802: There is a slight enhancement of opacity in the right cardiophrenic angle\n",
      "2023-07-21 02:28:51,684 - \u001b[1;32mINFO\u001b[1;0m - 1996653: worsening of combined alveolar opacities in the bilateral asymmetrically distributed combined interstitial opacities in the bilateral asymmetrically distributed combined alveolar opacities in the bilateral asymmetrically distributed combined interstitial opacities\n",
      "2023-07-21 02:28:52,259 - \u001b[1;32mINFO\u001b[1;0m - Found precomputed sentence embeddings at /mnt/workspace/pamessina/medvqa-workspace/cache/mimiccxr/cxr_bert_sentence_embeddings(2286627,111346983).pkl. Loading...\n",
      "2023-07-21 02:28:53,612 - \u001b[1;32mINFO\u001b[1;0m - Found precomputed clusters at /mnt/workspace/pamessina/medvqa-workspace/cache/mimiccxr/clusters(100,100297669,1996654).pkl. Loading...\n",
      "2023-07-21 02:28:54,785 - \u001b[1;32mINFO\u001b[1;0m - ============================================================\n",
      "2023-07-21 02:28:54,785 - \u001b[1;32mINFO\u001b[1;0m - Sampling triplets for anatomical locations...\n",
      "2023-07-21 02:28:54,785 - \u001b[1;32mINFO\u001b[1;0m - Rule 1: \"Rank paraphrases very highly\"\n",
      "  0%|                                                 | 0/28292 [00:00<?, ?it/s]2023-07-21 02:28:54,788 - \u001b[1;33mWARNING\u001b[1;0m - No paraphrases found for \"end\". Skipping...\n",
      "  9%|███▍                                 | 2586/28292 [00:04<00:38, 660.39it/s]2023-07-21 02:28:58,995 - \u001b[1;33mWARNING\u001b[1;0m - No paraphrases found for \"both locations\". Skipping...\n",
      " 71%|█████████████████████████▌          | 20095/28292 [00:28<00:11, 728.29it/s]2023-07-21 02:29:23,481 - \u001b[1;33mWARNING\u001b[1;0m - No paraphrases found for \"right mid to upper lung laterally\". Skipping...\n",
      "100%|████████████████████████████████████| 28292/28292 [00:39<00:00, 717.36it/s]\n",
      "2023-07-21 02:29:34,225 - \u001b[1;32mINFO\u001b[1;0m - Actual number of triplets sampled for Rule 1: \"Rank paraphrases very highly\": 2881494\n",
      "2023-07-21 02:29:34,225 - \u001b[1;32mINFO\u001b[1;0m - Rule 2: \"Rank paraphrases very highly - Hard negative\"\n",
      "  0%|                                                 | 0/28292 [00:00<?, ?it/s]2023-07-21 02:29:34,227 - \u001b[1;33mWARNING\u001b[1;0m - No paraphrases found for \"end\". Skipping...\n"
     ]
    },
    {
     "name": "stdout",
     "output_type": "stream",
     "text": [
      "  9%|███▍                                 | 2610/28292 [00:04<00:38, 664.20it/s]2023-07-21 02:29:38,395 - \u001b[1;33mWARNING\u001b[1;0m - No paraphrases found for \"both locations\". Skipping...\n",
      " 71%|█████████████████████████▍          | 19963/28292 [00:28<00:11, 706.60it/s]2023-07-21 02:30:03,269 - \u001b[1;33mWARNING\u001b[1;0m - No paraphrases found for \"right mid to upper lung laterally\". Skipping...\n",
      "100%|████████████████████████████████████| 28292/28292 [00:39<00:00, 709.16it/s]\n",
      "2023-07-21 02:30:14,121 - \u001b[1;32mINFO\u001b[1;0m - Actual number of triplets sampled for Rule 2: \"Rank paraphrases very highly - Hard negative\": 2869295\n",
      "2023-07-21 02:30:14,121 - \u001b[1;32mINFO\u001b[1;0m - Rule 3: \"Rank some triplets according to CXR-BERT and Leveinshtein consensus\"\n",
      "100%|██████████████████████████████████| 297669/297669 [11:12<00:00, 442.63it/s]\n",
      "2023-07-21 02:41:26,626 - \u001b[1;32mINFO\u001b[1;0m - Actual number of triplets sampled for Rule 3: \"Rank some triplets according to CXR-BERT and Leveinshtein consensus\": 2002430\n",
      "2023-07-21 02:41:26,626 - \u001b[1;32mINFO\u001b[1;0m - ============================================================\n",
      "2023-07-21 02:41:26,626 - \u001b[1;32mINFO\u001b[1;0m - Sampling triplets for observations...\n",
      "2023-07-21 02:41:26,626 - \u001b[1;32mINFO\u001b[1;0m - Rule 1: \"Rank paraphrases very highly\"\n",
      "100%|█████████████████████████████████| 109887/109887 [00:57<00:00, 1900.92it/s]\n",
      "2023-07-21 02:42:24,434 - \u001b[1;32mINFO\u001b[1;0m - Actual number of triplets sampled for Rule 1: \"Rank paraphrases very highly\": 3770449\n",
      "2023-07-21 02:42:24,434 - \u001b[1;32mINFO\u001b[1;0m - Rule 2: \"Rank paraphrases very highly - Hard negative\"\n",
      "100%|█████████████████████████████████| 109887/109887 [00:55<00:00, 1969.82it/s]\n",
      "2023-07-21 02:43:20,220 - \u001b[1;32mINFO\u001b[1;0m - Actual number of triplets sampled for Rule 2: \"Rank paraphrases very highly - Hard negative\": 3763709\n",
      "2023-07-21 02:43:20,220 - \u001b[1;32mINFO\u001b[1;0m - ---------------------------------------\n",
      "2023-07-21 02:43:22,006 - \u001b[1;32mINFO\u001b[1;0m - len(hs2id): 7\n",
      "2023-07-21 02:43:22,006 - \u001b[1;32mINFO\u001b[1;0m - hs2id: {'ambiguous': 0, 'abnormal': 1, 'unknown': 2, 'normal': 3, 'resolved': 4, 'improved': 5, '': 6}\n",
      "2023-07-21 02:43:23,807 - \u001b[1;32mINFO\u001b[1;0m - Number of observations for each health status:\n",
      "2023-07-21 02:43:23,808 - \u001b[1;32mINFO\u001b[1;0m - 1054149 observations with health status \"abnormal\"\n",
      "2023-07-21 02:43:23,808 - \u001b[1;32mINFO\u001b[1;0m - 561565 observations with health status \"unknown\"\n",
      "2023-07-21 02:43:23,808 - \u001b[1;32mINFO\u001b[1;0m - 244241 observations with health status \"normal\"\n",
      "2023-07-21 02:43:23,808 - \u001b[1;32mINFO\u001b[1;0m - 135766 observations with health status \"ambiguous\"\n",
      "2023-07-21 02:43:23,808 - \u001b[1;32mINFO\u001b[1;0m - 818 observations with health status \"\"\n",
      "2023-07-21 02:43:23,808 - \u001b[1;32mINFO\u001b[1;0m - 78 observations with health status \"improved\"\n",
      "2023-07-21 02:43:23,808 - \u001b[1;32mINFO\u001b[1;0m - 37 observations with health status \"resolved\"\n",
      "2023-07-21 02:43:26,520 - \u001b[1;32mINFO\u001b[1;0m - len(hsid_cid_2_obs_idxs): 484\n",
      "2023-07-21 02:43:26,520 - \u001b[1;32mINFO\u001b[1;0m - len(obs_idx_2_hsid_cid): 1996654\n",
      "2023-07-21 02:43:26,520 - \u001b[1;32mINFO\u001b[1;0m - ---------------------------------------\n",
      "2023-07-21 02:43:26,520 - \u001b[1;32mINFO\u001b[1;0m - Rule 3: \"Rank some triplets according to CXR-BERT and Leveinshtein consensus, while anchor and positive share the same health status\"\n",
      "100%|███████████████████████████████| 1996654/1996654 [22:06<00:00, 1504.99it/s]\n",
      "2023-07-21 03:05:33,207 - \u001b[1;32mINFO\u001b[1;0m - Actual number of triplets sampled for Rule 2: \"Rank some triplets according to CXR-BERT and Leveinshtein consensus, while anchor and positive share the same health status\": 2218029\n",
      "2023-07-21 03:05:33,207 - \u001b[1;32mINFO\u001b[1;0m - Rule 4: \"Hard health-status-vs-others triplets\"\n",
      "100%|█████████████████████████████████| 109887/109887 [00:54<00:00, 2004.28it/s]\n",
      "2023-07-21 03:06:28,034 - \u001b[1;32mINFO\u001b[1;0m - Actual number of triplets sampled for Rule 4: \"Hard health-status-vs-others triplets\": 2474084\n",
      "2023-07-21 03:06:28,034 - \u001b[1;32mINFO\u001b[1;0m - Rule 5: \"Short observation, detailed observation, and fact must be close to each other - Hard negative\"\n",
      "100%|█████████████████████████████████| 578733/578733 [01:25<00:00, 6803.16it/s]\n",
      "2023-07-21 03:07:53,103 - \u001b[1;33mWARNING\u001b[1;0m - Failed to find enough observations for 68865/578733 integrated fact metadata rows.\n",
      "2023-07-21 03:07:53,103 - \u001b[1;32mINFO\u001b[1;0m - Actual number of triplets sampled for Rule 5: \"Short observation, detailed observation, and fact must be close to each other - Hard negative\": 4430094\n",
      "2023-07-21 03:07:53,103 - \u001b[1;32mINFO\u001b[1;0m - Extracting triplets for validation set...\n",
      "2023-07-21 03:08:19,994 - \u001b[1;32mINFO\u001b[1;0m - Saving triplets to /mnt/workspace/pamessina/medvqa-workspace/cache/mimiccxr/triplets(2286627,297669,1996654,2501000,1000).pkl...\n",
      "2023-07-21 03:08:21,384 - \u001b[1;32mINFO\u001b[1;0m - Done!\n"
     ]
    }
   ],
   "source": [
    "!python ../../scripts/mimiccxr/sample_triplets_for_fact_embedding_learning.py \\\n",
    "--precomputed_sentence_embeddings_filepath \\\n",
    "\"/mnt/workspace/pamessina/medvqa-workspace/cache/mimiccxr/cxr_bert_sentence_embeddings(1605733,71051120).pkl\" \\\n",
    "--paraphrased_anatomical_locations_filepaths \\\n",
    "\"/home/pamessina/medvqa-workspace/cache/mimiccxr/openai/gpt-3.5-turbo-0613_paraphrased_anatomical_locations__part1.jsonl\" \\\n",
    "\"/home/pamessina/medvqa-workspace/cache/mimiccxr/openai/gpt-3.5-turbo-0613_paraphrased_anatomical_locations__part2.jsonl\" \\\n",
    "\"/home/pamessina/medvqa-workspace/cache/mimiccxr/openai/gpt-3.5-turbo-16k-0613_paraphrased_anatomical_locations__part3.jsonl\" \\\n",
    "--paraphrased_observations_filepaths \\\n",
    "\"/home/pamessina/medvqa-workspace/cache/mimiccxr/openai/gpt-3.5-turbo-0613_paraphrased_observations__two-or-more-words__part1.jsonl\" \\\n",
    "\"/home/pamessina/medvqa-workspace/cache/mimiccxr/openai/gpt-3.5-turbo-16k-0613_paraphrased_observations__two-or-more-words__part2.jsonl\" \\\n",
    "\"/home/pamessina/medvqa-workspace/cache/mimiccxr/openai/gpt-3.5-turbo-0613_paraphrased_observations__two-or-more-words__part3.jsonl\" \\\n",
    "\"/home/pamessina/medvqa-workspace/cache/mimiccxr/openai/gpt-3.5-turbo-16k-0613_paraphrased_observations__two-or-more-words__part4.jsonl\" \\\n",
    "\"/home/pamessina/medvqa-workspace/cache/mimiccxr/openai/gpt-4-0613_paraphrased_observations__two-or-more-words_cluster-balanced.jsonl\" \\\n",
    "\"/home/pamessina/medvqa-workspace/cache/mimiccxr/openai/gpt-3.5-turbo-0613_paraphrased_observations__two-or-more-words_cluster-balanced_1of5.jsonl\" \\\n",
    "\"/home/pamessina/medvqa-workspace/cache/mimiccxr/openai/gpt-3.5-turbo-0613_paraphrased_observations__two-or-more-words_cluster-balanced_2of5.jsonl\" \\\n",
    "\"/home/pamessina/medvqa-workspace/cache/mimiccxr/openai/gpt-3.5-turbo-0613_paraphrased_observations__two-or-more-words_cluster-balanced_3of5.jsonl\" \\\n",
    "\"/home/pamessina/medvqa-workspace/cache/mimiccxr/openai/gpt-3.5-turbo-0613_paraphrased_observations__two-or-more-words_cluster-balanced_4of5.jsonl\" \\\n",
    "--integrated_fact_metadata_filepath \\\n",
    "\"/home/pamessina/medvqa-workspace/cache/mimiccxr/integrated_fact_metadata(578733,58628071).jsonl\" \\\n",
    "--num_anatloc_clusters 100 \\\n",
    "--num_obs_clusters 100 \\\n",
    "--num_train_triplets_per_rule 2500000 \\\n",
    "--num_val_triplets_per_rule 1000 \\\n",
    "--batch_size 400 \\\n",
    "--num_workers 10"
   ]
  },
  {
   "cell_type": "code",
   "execution_count": 324,
   "id": "f9a58e7b",
   "metadata": {
    "scrolled": true
   },
   "outputs": [
    {
     "name": "stdout",
     "output_type": "stream",
     "text": [
      "2023-07-30 00:06:31,038 - \u001b[1;32mINFO\u001b[1;0m - Collecting all sentences, observations and anatomical locations from input files...\n",
      "2023-07-30 00:06:31,038 - \u001b[1;32mINFO\u001b[1;0m - Loading integrated fact metadata from /home/pamessina/medvqa-workspace/cache/mimiccxr/integrated_fact_metadata(578733,58628071).jsonl...\n",
      "2023-07-30 00:06:36,207 - \u001b[1;32mINFO\u001b[1;0m - Found 578733 integrated fact metadata rows.\n",
      "2023-07-30 00:06:37,728 - \u001b[1;32mINFO\u001b[1;0m - Collecting strings from /home/pamessina/medvqa-workspace/cache/mimiccxr/openai/gpt-3.5-turbo-0613_paraphrased_anatomical_locations__part1.jsonl...\n",
      "2023-07-30 00:06:37,809 - \u001b[1;32mINFO\u001b[1;0m - Found 9891 paraphrased anatomical locations.\n",
      "2023-07-30 00:06:37,885 - \u001b[1;32mINFO\u001b[1;0m - Collecting strings from /home/pamessina/medvqa-workspace/cache/mimiccxr/openai/gpt-3.5-turbo-0613_paraphrased_anatomical_locations__part2.jsonl...\n",
      "2023-07-30 00:06:37,971 - \u001b[1;32mINFO\u001b[1;0m - Found 9890 paraphrased anatomical locations.\n",
      "2023-07-30 00:06:38,587 - \u001b[1;32mINFO\u001b[1;0m - Collecting strings from /home/pamessina/medvqa-workspace/cache/mimiccxr/openai/gpt-3.5-turbo-16k-0613_paraphrased_anatomical_locations__part3.jsonl...\n",
      "2023-07-30 00:06:38,668 - \u001b[1;32mINFO\u001b[1;0m - Found 8511 paraphrased anatomical locations.\n",
      "2023-07-30 00:06:38,733 - \u001b[1;32mINFO\u001b[1;0m - Found 297669 unique anatomical locations.\n",
      "2023-07-30 00:06:39,507 - \u001b[1;32mINFO\u001b[1;0m - Collecting strings from /home/pamessina/medvqa-workspace/cache/mimiccxr/openai/gpt-3.5-turbo-0613_paraphrased_observations__two-or-more-words__part1.jsonl...\n",
      "2023-07-30 00:06:39,622 - \u001b[1;32mINFO\u001b[1;0m - Found 14993 paraphrased observations.\n",
      "2023-07-30 00:06:39,732 - \u001b[1;32mINFO\u001b[1;0m - Collecting strings from /home/pamessina/medvqa-workspace/cache/mimiccxr/openai/gpt-3.5-turbo-16k-0613_paraphrased_observations__two-or-more-words__part2.jsonl...\n",
      "2023-07-30 00:06:39,857 - \u001b[1;32mINFO\u001b[1;0m - Found 14971 paraphrased observations.\n",
      "2023-07-30 00:06:40,004 - \u001b[1;32mINFO\u001b[1;0m - Collecting strings from /home/pamessina/medvqa-workspace/cache/mimiccxr/openai/gpt-3.5-turbo-0613_paraphrased_observations__two-or-more-words__part3.jsonl...\n",
      "2023-07-30 00:06:40,126 - \u001b[1;32mINFO\u001b[1;0m - Found 14972 paraphrased observations.\n",
      "2023-07-30 00:06:40,235 - \u001b[1;32mINFO\u001b[1;0m - Collecting strings from /home/pamessina/medvqa-workspace/cache/mimiccxr/openai/gpt-3.5-turbo-16k-0613_paraphrased_observations__two-or-more-words__part4.jsonl...\n",
      "2023-07-30 00:06:40,358 - \u001b[1;32mINFO\u001b[1;0m - Found 14965 paraphrased observations.\n",
      "2023-07-30 00:06:41,234 - \u001b[1;32mINFO\u001b[1;0m - Collecting strings from /home/pamessina/medvqa-workspace/cache/mimiccxr/openai/gpt-4-0613_paraphrased_observations__two-or-more-words_cluster-balanced.jsonl...\n",
      "2023-07-30 00:06:41,335 - \u001b[1;32mINFO\u001b[1;0m - Found 10000 paraphrased observations.\n",
      "2023-07-30 00:06:41,415 - \u001b[1;32mINFO\u001b[1;0m - Collecting strings from /home/pamessina/medvqa-workspace/cache/mimiccxr/openai/gpt-3.5-turbo-0613_paraphrased_observations__two-or-more-words_cluster-balanced_1of5.jsonl...\n",
      "2023-07-30 00:06:41,516 - \u001b[1;32mINFO\u001b[1;0m - Found 9999 paraphrased observations.\n",
      "2023-07-30 00:06:41,595 - \u001b[1;32mINFO\u001b[1;0m - Collecting strings from /home/pamessina/medvqa-workspace/cache/mimiccxr/openai/gpt-3.5-turbo-0613_paraphrased_observations__two-or-more-words_cluster-balanced_2of5.jsonl...\n",
      "2023-07-30 00:06:41,699 - \u001b[1;32mINFO\u001b[1;0m - Found 9997 paraphrased observations.\n",
      "2023-07-30 00:06:41,784 - \u001b[1;32mINFO\u001b[1;0m - Collecting strings from /home/pamessina/medvqa-workspace/cache/mimiccxr/openai/gpt-3.5-turbo-0613_paraphrased_observations__two-or-more-words_cluster-balanced_3of5.jsonl...\n",
      "2023-07-30 00:06:41,887 - \u001b[1;32mINFO\u001b[1;0m - Found 9994 paraphrased observations.\n",
      "2023-07-30 00:06:41,972 - \u001b[1;32mINFO\u001b[1;0m - Collecting strings from /home/pamessina/medvqa-workspace/cache/mimiccxr/openai/gpt-3.5-turbo-0613_paraphrased_observations__two-or-more-words_cluster-balanced_4of5.jsonl...\n",
      "2023-07-30 00:06:42,072 - \u001b[1;32mINFO\u001b[1;0m - Found 9996 paraphrased observations.\n",
      "2023-07-30 00:06:42,156 - \u001b[1;32mINFO\u001b[1;0m - Found 1996654 unique observations.\n",
      "2023-07-30 00:06:49,652 - \u001b[1;32mINFO\u001b[1;0m - Loading Chest ImaGenome sentences and labels from /home/pamessina/medvqa-workspace/cache/mimiccxr/integrated_chest_imagenome_labels(6).pkl...\n",
      "2023-07-30 00:06:50,935 - \u001b[1;32mINFO\u001b[1;0m - Found 2842463 unique sentences.\n",
      "2023-07-30 00:07:03,911 - \u001b[1;32mINFO\u001b[1;0m - Examples of anatomical locations:\n",
      "2023-07-30 00:07:03,911 - \u001b[1;32mINFO\u001b[1;0m - 0: '\n",
      "2023-07-30 00:07:03,911 - \u001b[1;32mINFO\u001b[1;0m - 33074: left lung midsection\n",
      "2023-07-30 00:07:03,912 - \u001b[1;32mINFO\u001b[1;0m - 66148: left mid- and lower zones\n",
      "2023-07-30 00:07:03,912 - \u001b[1;32mINFO\u001b[1;0m - 99222: fundus portion of the stomach\n",
      "2023-07-30 00:07:03,912 - \u001b[1;32mINFO\u001b[1;0m - 132296: right mid-lateral lung territory\n",
      "2023-07-30 00:07:03,912 - \u001b[1;32mINFO\u001b[1;0m - 165371: located on the backside of the graft\n",
      "2023-07-30 00:07:03,912 - \u001b[1;32mINFO\u001b[1;0m - 198445: lower pigtail catheter on the right side\n",
      "2023-07-30 00:07:03,912 - \u001b[1;32mINFO\u001b[1;0m - 231519: outermost part of the right side of the chest\n",
      "2023-07-30 00:07:03,912 - \u001b[1;32mINFO\u001b[1;0m - 264593: lying on the first costochondral junction on the left\n",
      "2023-07-30 00:07:03,912 - \u001b[1;32mINFO\u001b[1;0m - 297668: overlying the region where the posterior part of the sixth rib on the left side overlaps with the anterior part of the fourth rib on the left side\n",
      "2023-07-30 00:07:03,912 - \u001b[1;32mINFO\u001b[1;0m - Examples of observations:\n",
      "2023-07-30 00:07:03,912 - \u001b[1;32mINFO\u001b[1;0m - 0: 2\n",
      "2023-07-30 00:07:03,912 - \u001b[1;32mINFO\u001b[1;0m - 221850: PICC line tip in the lower SVC\n",
      "2023-07-30 00:07:03,912 - \u001b[1;32mINFO\u001b[1;0m - 443700: pacemaker leads positioned in the RV\n",
      "2023-07-30 00:07:03,912 - \u001b[1;32mINFO\u001b[1;0m - 665551: thickening along the right lateral pleura\n",
      "2023-07-30 00:07:03,912 - \u001b[1;32mINFO\u001b[1;0m - 887401: nodule previously characterized as a hamartoma\n",
      "2023-07-30 00:07:03,912 - \u001b[1;32mINFO\u001b[1;0m - 1109251: indistinct haziness over the right lower lung field\n",
      "2023-07-30 00:07:03,912 - \u001b[1;32mINFO\u001b[1;0m - 1331102: substantial air and fluid effusion in the pleural cavity\n",
      "2023-07-30 00:07:03,912 - \u001b[1;32mINFO\u001b[1;0m - 1552952: calcified pleural plaque projecting over the right heart border\n",
      "2023-07-30 00:07:03,912 - \u001b[1;32mINFO\u001b[1;0m - 1774802: There is a slight enhancement of opacity in the right cardiophrenic angle\n",
      "2023-07-30 00:07:03,912 - \u001b[1;32mINFO\u001b[1;0m - 1996653: worsening of combined alveolar opacities in the bilateral asymmetrically distributed combined interstitial opacities in the bilateral asymmetrically distributed combined alveolar opacities in the bilateral asymmetrically distributed combined interstitial opacities\n",
      "2023-07-30 00:07:04,601 - \u001b[1;32mINFO\u001b[1;0m - Found precomputed sentence embeddings at /mnt/workspace/pamessina/medvqa-workspace/cache/mimiccxr/cxr_bert_sentence_embeddings(2842463,162085125).pkl. Loading...\n",
      "2023-07-30 00:07:06,259 - \u001b[1;32mINFO\u001b[1;0m - Found precomputed clusters at /mnt/workspace/pamessina/medvqa-workspace/cache/mimiccxr/clusters(100,100297669,1996654,2842463,162085125).pkl. Loading...\n",
      "2023-07-30 00:07:07,474 - \u001b[1;32mINFO\u001b[1;0m - ============================================================\n",
      "2023-07-30 00:07:07,475 - \u001b[1;32mINFO\u001b[1;0m - Sampling triplets for anatomical locations...\n",
      "2023-07-30 00:07:07,475 - \u001b[1;32mINFO\u001b[1;0m - Rule 1: \"Rank paraphrases very highly\"\n",
      "  0%|                                                 | 0/28292 [00:00<?, ?it/s]2023-07-30 00:07:07,477 - \u001b[1;33mWARNING\u001b[1;0m - No paraphrases found for \"end\". Skipping...\n",
      " 10%|███▌                                 | 2737/28292 [00:04<00:36, 691.27it/s]2023-07-30 00:07:11,479 - \u001b[1;33mWARNING\u001b[1;0m - No paraphrases found for \"both locations\". Skipping...\n",
      " 71%|█████████████████████████▋          | 20200/28292 [00:28<00:11, 727.33it/s]2023-07-30 00:07:36,033 - \u001b[1;33mWARNING\u001b[1;0m - No paraphrases found for \"right mid to upper lung laterally\". Skipping...\n",
      "100%|████████████████████████████████████| 28292/28292 [00:39<00:00, 720.16it/s]\n",
      "2023-07-30 00:07:46,762 - \u001b[1;32mINFO\u001b[1;0m - Actual number of triplets sampled for Rule 1: \"Rank paraphrases very highly\": 2881495\n",
      "2023-07-30 00:07:46,762 - \u001b[1;32mINFO\u001b[1;0m - Rule 2: \"Rank paraphrases very highly - Hard negative\"\n",
      "  0%|                                                 | 0/28292 [00:00<?, ?it/s]2023-07-30 00:07:46,764 - \u001b[1;33mWARNING\u001b[1;0m - No paraphrases found for \"end\". Skipping...\n"
     ]
    },
    {
     "name": "stdout",
     "output_type": "stream",
     "text": [
      "  5%|█▉                                   | 1438/28292 [00:02<00:37, 718.86it/s]2023-07-30 00:07:50,532 - \u001b[1;33mWARNING\u001b[1;0m - No paraphrases found for \"both locations\". Skipping...\n",
      " 72%|█████████████████████████▊          | 20305/28292 [00:28<00:11, 708.25it/s]2023-07-30 00:08:15,422 - \u001b[1;33mWARNING\u001b[1;0m - No paraphrases found for \"right mid to upper lung laterally\". Skipping...\n",
      "100%|████████████████████████████████████| 28292/28292 [00:39<00:00, 716.09it/s]\n",
      "2023-07-30 00:08:26,271 - \u001b[1;32mINFO\u001b[1;0m - Actual number of triplets sampled for Rule 2: \"Rank paraphrases very highly - Hard negative\": 2872477\n",
      "2023-07-30 00:08:26,272 - \u001b[1;32mINFO\u001b[1;0m - Rule 3: \"Rank some triplets according to CXR-BERT and Leveinshtein consensus\"\n",
      "100%|██████████████████████████████████| 297669/297669 [11:14<00:00, 441.61it/s]\n",
      "2023-07-30 00:19:40,320 - \u001b[1;32mINFO\u001b[1;0m - Actual number of triplets sampled for Rule 3: \"Rank some triplets according to CXR-BERT and Leveinshtein consensus\": 1986876\n",
      "2023-07-30 00:19:40,320 - \u001b[1;32mINFO\u001b[1;0m - ============================================================\n",
      "2023-07-30 00:19:40,320 - \u001b[1;32mINFO\u001b[1;0m - Sampling triplets for observations...\n",
      "2023-07-30 00:19:40,320 - \u001b[1;32mINFO\u001b[1;0m - Rule 1: \"Rank paraphrases very highly\"\n",
      "100%|█████████████████████████████████| 109887/109887 [00:57<00:00, 1903.37it/s]\n",
      "2023-07-30 00:20:38,053 - \u001b[1;32mINFO\u001b[1;0m - Actual number of triplets sampled for Rule 1: \"Rank paraphrases very highly\": 3770457\n",
      "2023-07-30 00:20:38,053 - \u001b[1;32mINFO\u001b[1;0m - Rule 2: \"Rank paraphrases very highly - Hard negative\"\n",
      "100%|█████████████████████████████████| 109887/109887 [00:55<00:00, 1970.15it/s]\n",
      "2023-07-30 00:21:33,830 - \u001b[1;32mINFO\u001b[1;0m - Actual number of triplets sampled for Rule 2: \"Rank paraphrases very highly - Hard negative\": 3763631\n",
      "2023-07-30 00:21:33,830 - \u001b[1;32mINFO\u001b[1;0m - ---------------------------------------\n",
      "2023-07-30 00:21:35,490 - \u001b[1;32mINFO\u001b[1;0m - len(hs2id): 7\n",
      "2023-07-30 00:21:35,490 - \u001b[1;32mINFO\u001b[1;0m - hs2id: {'ambiguous': 0, 'abnormal': 1, 'unknown': 2, 'normal': 3, 'resolved': 4, 'improved': 5, '': 6}\n",
      "2023-07-30 00:21:37,188 - \u001b[1;32mINFO\u001b[1;0m - Number of observations for each health status:\n",
      "2023-07-30 00:21:37,188 - \u001b[1;32mINFO\u001b[1;0m - 1054149 observations with health status \"abnormal\"\n",
      "2023-07-30 00:21:37,188 - \u001b[1;32mINFO\u001b[1;0m - 561565 observations with health status \"unknown\"\n",
      "2023-07-30 00:21:37,188 - \u001b[1;32mINFO\u001b[1;0m - 244241 observations with health status \"normal\"\n",
      "2023-07-30 00:21:37,188 - \u001b[1;32mINFO\u001b[1;0m - 135766 observations with health status \"ambiguous\"\n",
      "2023-07-30 00:21:37,188 - \u001b[1;32mINFO\u001b[1;0m - 818 observations with health status \"\"\n",
      "2023-07-30 00:21:37,188 - \u001b[1;32mINFO\u001b[1;0m - 78 observations with health status \"improved\"\n",
      "2023-07-30 00:21:37,188 - \u001b[1;32mINFO\u001b[1;0m - 37 observations with health status \"resolved\"\n",
      "2023-07-30 00:21:39,787 - \u001b[1;32mINFO\u001b[1;0m - len(hsid_cid_2_obs_idxs): 485\n",
      "2023-07-30 00:21:39,788 - \u001b[1;32mINFO\u001b[1;0m - len(obs_idx_2_hsid_cid): 1996654\n",
      "2023-07-30 00:21:39,788 - \u001b[1;32mINFO\u001b[1;0m - ---------------------------------------\n",
      "2023-07-30 00:21:39,788 - \u001b[1;32mINFO\u001b[1;0m - Rule 3: \"Rank some triplets according to CXR-BERT and Leveinshtein consensus, while anchor and positive share the same health status\"\n",
      "100%|███████████████████████████████| 1996654/1996654 [21:39<00:00, 1536.87it/s]\n",
      "2023-07-30 00:43:18,957 - \u001b[1;32mINFO\u001b[1;0m - Actual number of triplets sampled for Rule 2: \"Rank some triplets according to CXR-BERT and Leveinshtein consensus, while anchor and positive share the same health status\": 2223660\n",
      "2023-07-30 00:43:18,957 - \u001b[1;32mINFO\u001b[1;0m - Rule 4: \"Hard health-status-vs-others triplets\"\n",
      "100%|█████████████████████████████████| 109887/109887 [00:53<00:00, 2065.42it/s]\n",
      "2023-07-30 00:44:12,160 - \u001b[1;32mINFO\u001b[1;0m - Actual number of triplets sampled for Rule 4: \"Hard health-status-vs-others triplets\": 2472362\n",
      "2023-07-30 00:44:12,161 - \u001b[1;32mINFO\u001b[1;0m - Rule 5: \"Short observation, detailed observation, and fact must be close to each other - Hard negative\"\n",
      "100%|█████████████████████████████████| 578733/578733 [01:23<00:00, 6969.24it/s]\n",
      "2023-07-30 00:45:35,202 - \u001b[1;33mWARNING\u001b[1;0m - Failed to find enough observations for 68865/578733 integrated fact metadata rows.\n",
      "2023-07-30 00:45:35,202 - \u001b[1;32mINFO\u001b[1;0m - Actual number of triplets sampled for Rule 5: \"Short observation, detailed observation, and fact must be close to each other - Hard negative\": 4430015\n",
      "2023-07-30 00:45:35,315 - \u001b[1;32mINFO\u001b[1;0m - len(chest_imagenome_sentences): 2552490\n",
      "2023-07-30 00:45:35,315 - \u001b[1;32mINFO\u001b[1;0m - chest_imagenome_labels.shape: (2552490, 74)\n",
      "2023-07-30 00:45:35,315 - \u001b[1;32mINFO\u001b[1;0m - Rule 6: \"Rank triplets according to Chest ImaGenome labels\"\n",
      "100%|███████████████████████████████| 2552490/2552490 [09:33<00:00, 4448.02it/s]\n",
      "100%|███████████████████████████████████████████| 74/74 [01:40<00:00,  1.35s/it]\n",
      "2023-07-30 00:56:49,419 - \u001b[1;32mINFO\u001b[1;0m - Actual number of triplets sampled for Rule 6: \"Rank triplets according to Chest ImaGenome labels\": 2831670\n",
      "2023-07-30 00:56:49,580 - \u001b[1;32mINFO\u001b[1;0m - Extracting triplets for validation set...\n",
      "2023-07-30 00:57:18,794 - \u001b[1;32mINFO\u001b[1;0m - Saving triplets to /mnt/workspace/pamessina/medvqa-workspace/cache/mimiccxr/triplets(2842463,297669,1996654,2501000,1000).pkl...\n",
      "2023-07-30 00:57:21,080 - \u001b[1;32mINFO\u001b[1;0m - Done!\n"
     ]
    }
   ],
   "source": [
    "!python ../../scripts/mimiccxr/sample_triplets_for_fact_embedding_learning.py \\\n",
    "--precomputed_sentence_embeddings_filepath \\\n",
    "\"/mnt/workspace/pamessina/medvqa-workspace/cache/mimiccxr/cxr_bert_sentence_embeddings(2286627,111346983).pkl\" \\\n",
    "--paraphrased_anatomical_locations_filepaths \\\n",
    "\"/home/pamessina/medvqa-workspace/cache/mimiccxr/openai/gpt-3.5-turbo-0613_paraphrased_anatomical_locations__part1.jsonl\" \\\n",
    "\"/home/pamessina/medvqa-workspace/cache/mimiccxr/openai/gpt-3.5-turbo-0613_paraphrased_anatomical_locations__part2.jsonl\" \\\n",
    "\"/home/pamessina/medvqa-workspace/cache/mimiccxr/openai/gpt-3.5-turbo-16k-0613_paraphrased_anatomical_locations__part3.jsonl\" \\\n",
    "--paraphrased_observations_filepaths \\\n",
    "\"/home/pamessina/medvqa-workspace/cache/mimiccxr/openai/gpt-3.5-turbo-0613_paraphrased_observations__two-or-more-words__part1.jsonl\" \\\n",
    "\"/home/pamessina/medvqa-workspace/cache/mimiccxr/openai/gpt-3.5-turbo-16k-0613_paraphrased_observations__two-or-more-words__part2.jsonl\" \\\n",
    "\"/home/pamessina/medvqa-workspace/cache/mimiccxr/openai/gpt-3.5-turbo-0613_paraphrased_observations__two-or-more-words__part3.jsonl\" \\\n",
    "\"/home/pamessina/medvqa-workspace/cache/mimiccxr/openai/gpt-3.5-turbo-16k-0613_paraphrased_observations__two-or-more-words__part4.jsonl\" \\\n",
    "\"/home/pamessina/medvqa-workspace/cache/mimiccxr/openai/gpt-4-0613_paraphrased_observations__two-or-more-words_cluster-balanced.jsonl\" \\\n",
    "\"/home/pamessina/medvqa-workspace/cache/mimiccxr/openai/gpt-3.5-turbo-0613_paraphrased_observations__two-or-more-words_cluster-balanced_1of5.jsonl\" \\\n",
    "\"/home/pamessina/medvqa-workspace/cache/mimiccxr/openai/gpt-3.5-turbo-0613_paraphrased_observations__two-or-more-words_cluster-balanced_2of5.jsonl\" \\\n",
    "\"/home/pamessina/medvqa-workspace/cache/mimiccxr/openai/gpt-3.5-turbo-0613_paraphrased_observations__two-or-more-words_cluster-balanced_3of5.jsonl\" \\\n",
    "\"/home/pamessina/medvqa-workspace/cache/mimiccxr/openai/gpt-3.5-turbo-0613_paraphrased_observations__two-or-more-words_cluster-balanced_4of5.jsonl\" \\\n",
    "--integrated_fact_metadata_filepath \\\n",
    "\"/home/pamessina/medvqa-workspace/cache/mimiccxr/integrated_fact_metadata(578733,58628071).jsonl\" \\\n",
    "--chest_imagenome_sentences_and_labels_filepath \\\n",
    "\"/home/pamessina/medvqa-workspace/cache/mimiccxr/integrated_chest_imagenome_labels(6).pkl\" \\\n",
    "--num_anatloc_clusters 100 \\\n",
    "--num_obs_clusters 100 \\\n",
    "--num_train_triplets_per_rule 2500000 \\\n",
    "--num_val_triplets_per_rule 1000 \\\n",
    "--batch_size 300 \\\n",
    "--num_workers 10"
   ]
  },
  {
   "cell_type": "code",
   "execution_count": 75,
   "id": "b1f1e141",
   "metadata": {
    "scrolled": true
   },
   "outputs": [
    {
     "name": "stdout",
     "output_type": "stream",
     "text": [
      "2023-08-14 12:34:10,963 - \u001b[1;32mINFO\u001b[1;0m - Collecting all sentences, observations and anatomical locations from input files...\n",
      "2023-08-14 12:34:10,964 - \u001b[1;32mINFO\u001b[1;0m - Loading integrated fact metadata from /home/pamessina/medvqa-workspace/cache/mimiccxr/integrated_fact_metadata(578733,58628071).jsonl...\n",
      "2023-08-14 12:36:09,769 - \u001b[1;32mINFO\u001b[1;0m - Found 578733 integrated fact metadata rows.\n",
      "2023-08-14 12:36:40,033 - \u001b[1;32mINFO\u001b[1;0m - Collecting strings from /home/pamessina/medvqa-workspace/cache/mimiccxr/openai/gpt-3.5-turbo-0613_paraphrased_anatomical_locations__part1.jsonl...\n",
      "2023-08-14 12:36:42,048 - \u001b[1;32mINFO\u001b[1;0m - Found 9891 paraphrased anatomical locations.\n",
      "2023-08-14 12:36:43,457 - \u001b[1;32mINFO\u001b[1;0m - Collecting strings from /home/pamessina/medvqa-workspace/cache/mimiccxr/openai/gpt-3.5-turbo-0613_paraphrased_anatomical_locations__part2.jsonl...\n",
      "2023-08-14 12:36:45,623 - \u001b[1;32mINFO\u001b[1;0m - Found 9890 paraphrased anatomical locations.\n",
      "2023-08-14 12:36:53,086 - \u001b[1;32mINFO\u001b[1;0m - Collecting strings from /home/pamessina/medvqa-workspace/cache/mimiccxr/openai/gpt-3.5-turbo-16k-0613_paraphrased_anatomical_locations__part3.jsonl...\n",
      "2023-08-14 12:36:54,994 - \u001b[1;32mINFO\u001b[1;0m - Found 8511 paraphrased anatomical locations.\n",
      "2023-08-14 12:36:56,197 - \u001b[1;32mINFO\u001b[1;0m - Found 297669 unique anatomical locations.\n",
      "2023-08-14 12:37:10,155 - \u001b[1;32mINFO\u001b[1;0m - Collecting strings from /home/pamessina/medvqa-workspace/cache/mimiccxr/openai/gpt-3.5-turbo-0613_paraphrased_observations__two-or-more-words__part1.jsonl...\n",
      "2023-08-14 12:37:12,943 - \u001b[1;32mINFO\u001b[1;0m - Found 14993 paraphrased observations.\n",
      "2023-08-14 12:37:14,880 - \u001b[1;32mINFO\u001b[1;0m - Collecting strings from /home/pamessina/medvqa-workspace/cache/mimiccxr/openai/gpt-3.5-turbo-16k-0613_paraphrased_observations__two-or-more-words__part2.jsonl...\n",
      "2023-08-14 12:37:17,838 - \u001b[1;32mINFO\u001b[1;0m - Found 14971 paraphrased observations.\n",
      "2023-08-14 12:37:20,525 - \u001b[1;32mINFO\u001b[1;0m - Collecting strings from /home/pamessina/medvqa-workspace/cache/mimiccxr/openai/gpt-3.5-turbo-0613_paraphrased_observations__two-or-more-words__part3.jsonl...\n",
      "2023-08-14 12:37:23,470 - \u001b[1;32mINFO\u001b[1;0m - Found 14972 paraphrased observations.\n",
      "2023-08-14 12:37:25,388 - \u001b[1;32mINFO\u001b[1;0m - Collecting strings from /home/pamessina/medvqa-workspace/cache/mimiccxr/openai/gpt-3.5-turbo-16k-0613_paraphrased_observations__two-or-more-words__part4.jsonl...\n",
      "2023-08-14 12:37:28,206 - \u001b[1;32mINFO\u001b[1;0m - Found 14965 paraphrased observations.\n",
      "2023-08-14 12:37:38,854 - \u001b[1;32mINFO\u001b[1;0m - Collecting strings from /home/pamessina/medvqa-workspace/cache/mimiccxr/openai/gpt-4-0613_paraphrased_observations__two-or-more-words_cluster-balanced.jsonl...\n",
      "2023-08-14 12:37:41,214 - \u001b[1;32mINFO\u001b[1;0m - Found 10000 paraphrased observations.\n",
      "2023-08-14 12:37:42,499 - \u001b[1;32mINFO\u001b[1;0m - Collecting strings from /home/pamessina/medvqa-workspace/cache/mimiccxr/openai/gpt-3.5-turbo-0613_paraphrased_observations__two-or-more-words_cluster-balanced_1of5.jsonl...\n",
      "2023-08-14 12:37:44,851 - \u001b[1;32mINFO\u001b[1;0m - Found 9999 paraphrased observations.\n",
      "2023-08-14 12:37:46,235 - \u001b[1;32mINFO\u001b[1;0m - Collecting strings from /home/pamessina/medvqa-workspace/cache/mimiccxr/openai/gpt-3.5-turbo-0613_paraphrased_observations__two-or-more-words_cluster-balanced_2of5.jsonl...\n",
      "2023-08-14 12:37:48,562 - \u001b[1;32mINFO\u001b[1;0m - Found 9997 paraphrased observations.\n",
      "2023-08-14 12:37:49,959 - \u001b[1;32mINFO\u001b[1;0m - Collecting strings from /home/pamessina/medvqa-workspace/cache/mimiccxr/openai/gpt-3.5-turbo-0613_paraphrased_observations__two-or-more-words_cluster-balanced_3of5.jsonl...\n",
      "2023-08-14 12:37:52,296 - \u001b[1;32mINFO\u001b[1;0m - Found 9994 paraphrased observations.\n",
      "2023-08-14 12:37:53,676 - \u001b[1;32mINFO\u001b[1;0m - Collecting strings from /home/pamessina/medvqa-workspace/cache/mimiccxr/openai/gpt-3.5-turbo-0613_paraphrased_observations__two-or-more-words_cluster-balanced_4of5.jsonl...\n",
      "2023-08-14 12:37:56,015 - \u001b[1;32mINFO\u001b[1;0m - Found 9996 paraphrased observations.\n",
      "2023-08-14 12:37:57,444 - \u001b[1;32mINFO\u001b[1;0m - Found 1996654 unique observations.\n",
      "2023-08-14 12:39:50,718 - \u001b[1;32mINFO\u001b[1;0m - Loading Chest ImaGenome sentences and labels from /home/pamessina/medvqa-workspace/cache/mimiccxr/integrated_chest_imagenome_labels(6).pkl...\n",
      "2023-08-14 12:40:08,993 - \u001b[1;32mINFO\u001b[1;0m - Loading RadGraph sentences and labels from /mnt/workspace/pamessina/medvqa-workspace/cache/radgraph/label_sets_per_sentence.pkl...\n",
      "2023-08-14 12:42:42,942 - \u001b[1;32mINFO\u001b[1;0m - len(radgraph_data[train])=2170\n",
      "2023-08-14 12:42:42,961 - \u001b[1;32mINFO\u001b[1;0m - len(radgraph_data[dev])=430\n",
      "2023-08-14 12:42:42,966 - \u001b[1;32mINFO\u001b[1;0m - len(radgraph_data[test])=526\n",
      "2023-08-14 12:42:42,971 - \u001b[1;32mINFO\u001b[1;0m - len(radgraph_data[chexpert])=2270\n",
      "2023-08-14 12:42:42,994 - \u001b[1;32mINFO\u001b[1;0m - len(radgraph_data[mimiccxr])=635245\n",
      "2023-08-14 12:42:48,395 - \u001b[1;32mINFO\u001b[1;0m - Found 3471872 unique sentences.\n",
      "2023-08-14 12:46:42,026 - \u001b[1;32mINFO\u001b[1;0m - Examples of anatomical locations:\n",
      "2023-08-14 12:46:42,030 - \u001b[1;32mINFO\u001b[1;0m - 0: '\n",
      "2023-08-14 12:46:42,031 - \u001b[1;32mINFO\u001b[1;0m - 33074: left lung midsection\n",
      "2023-08-14 12:46:42,031 - \u001b[1;32mINFO\u001b[1;0m - 66148: left mid- and lower zones\n",
      "2023-08-14 12:46:42,032 - \u001b[1;32mINFO\u001b[1;0m - 99222: fundus portion of the stomach\n",
      "2023-08-14 12:46:42,033 - \u001b[1;32mINFO\u001b[1;0m - 132296: right mid-lateral lung territory\n",
      "2023-08-14 12:46:42,034 - \u001b[1;32mINFO\u001b[1;0m - 165371: located on the backside of the graft\n",
      "2023-08-14 12:46:42,035 - \u001b[1;32mINFO\u001b[1;0m - 198445: lower pigtail catheter on the right side\n",
      "2023-08-14 12:46:42,035 - \u001b[1;32mINFO\u001b[1;0m - 231519: outermost part of the right side of the chest\n",
      "2023-08-14 12:46:42,036 - \u001b[1;32mINFO\u001b[1;0m - 264593: lying on the first costochondral junction on the left\n",
      "2023-08-14 12:46:42,037 - \u001b[1;32mINFO\u001b[1;0m - 297668: overlying the region where the posterior part of the sixth rib on the left side overlaps with the anterior part of the fourth rib on the left side\n",
      "2023-08-14 12:46:42,038 - \u001b[1;32mINFO\u001b[1;0m - Examples of observations:\n",
      "2023-08-14 12:46:42,039 - \u001b[1;32mINFO\u001b[1;0m - 0: 2\n",
      "2023-08-14 12:46:42,040 - \u001b[1;32mINFO\u001b[1;0m - 221850: PICC line tip in the lower SVC\n",
      "2023-08-14 12:46:42,041 - \u001b[1;32mINFO\u001b[1;0m - 443700: pacemaker leads positioned in the RV\n",
      "2023-08-14 12:46:42,042 - \u001b[1;32mINFO\u001b[1;0m - 665551: thickening along the right lateral pleura\n",
      "2023-08-14 12:46:42,043 - \u001b[1;32mINFO\u001b[1;0m - 887401: nodule previously characterized as a hamartoma\n",
      "2023-08-14 12:46:42,043 - \u001b[1;32mINFO\u001b[1;0m - 1109251: indistinct haziness over the right lower lung field\n",
      "2023-08-14 12:46:42,044 - \u001b[1;32mINFO\u001b[1;0m - 1331102: substantial air and fluid effusion in the pleural cavity\n",
      "2023-08-14 12:46:42,045 - \u001b[1;32mINFO\u001b[1;0m - 1552952: calcified pleural plaque projecting over the right heart border\n",
      "2023-08-14 12:46:42,046 - \u001b[1;32mINFO\u001b[1;0m - 1774802: There is a slight enhancement of opacity in the right cardiophrenic angle\n",
      "2023-08-14 12:46:42,047 - \u001b[1;32mINFO\u001b[1;0m - 1996653: worsening of combined alveolar opacities in the bilateral asymmetrically distributed combined interstitial opacities in the bilateral asymmetrically distributed combined alveolar opacities in the bilateral asymmetrically distributed combined interstitial opacities\n",
      "2023-08-14 12:46:56,481 - \u001b[1;32mINFO\u001b[1;0m - Found precomputed sentence embeddings at /mnt/workspace/pamessina/medvqa-workspace/cache/mimiccxr/cxr_bert_sentence_embeddings(3471872,213302565).pkl. Loading...\n",
      "2023-08-14 12:47:30,849 - \u001b[1;32mINFO\u001b[1;0m - Found precomputed clusters at /mnt/workspace/pamessina/medvqa-workspace/cache/mimiccxr/clusters(100,100297669,1996654,3471872,213302565).pkl. Loading...\n",
      "2023-08-14 12:48:00,479 - \u001b[1;32mINFO\u001b[1;0m - Found precomputed radgraph clusters at /mnt/workspace/pamessina/medvqa-workspace/cache/mimiccxr/radgraph_clusters(637929,213302565).pkl. Loading...\n",
      "2023-08-14 12:48:01,113 - \u001b[1;32mINFO\u001b[1;0m - ============================================================\n",
      "2023-08-14 12:48:01,115 - \u001b[1;32mINFO\u001b[1;0m - Sampling triplets for anatomical locations...\n",
      "2023-08-14 12:48:01,116 - \u001b[1;32mINFO\u001b[1;0m - Rule 1: \"Rank paraphrases very highly\"\n",
      "  0%|                                                 | 0/28292 [00:00<?, ?it/s]2023-08-14 12:48:01,173 - \u001b[1;33mWARNING\u001b[1;0m - No paraphrases found for \"end\". Skipping...\n"
     ]
    },
    {
     "name": "stdout",
     "output_type": "stream",
     "text": [
      " 10%|███▋                                  | 2732/28292 [01:32<12:47, 33.32it/s]2023-08-14 12:49:33,373 - \u001b[1;33mWARNING\u001b[1;0m - No paraphrases found for \"both locations\". Skipping...\n",
      " 73%|██████████████████████████▉          | 20564/28292 [10:33<03:59, 32.24it/s]2023-08-14 12:58:34,621 - \u001b[1;33mWARNING\u001b[1;0m - No paraphrases found for \"right mid to upper lung laterally\". Skipping...\n",
      "100%|█████████████████████████████████████| 28292/28292 [14:29<00:00, 32.52it/s]\n",
      "2023-08-14 13:02:31,069 - \u001b[1;32mINFO\u001b[1;0m - Actual number of triplets sampled for Rule 1: \"Rank paraphrases very highly\": 2881490\n",
      "2023-08-14 13:02:31,071 - \u001b[1;32mINFO\u001b[1;0m - Rule 2: \"Rank paraphrases very highly - Hard negative\"\n",
      "  0%|                                                 | 0/28292 [00:00<?, ?it/s]2023-08-14 13:02:31,107 - \u001b[1;33mWARNING\u001b[1;0m - No paraphrases found for \"end\". Skipping...\n",
      " 10%|███▋                                  | 2720/28292 [01:31<12:25, 34.32it/s]2023-08-14 13:04:03,248 - \u001b[1;33mWARNING\u001b[1;0m - No paraphrases found for \"both locations\". Skipping...\n",
      " 73%|██████████████████████████▉          | 20562/28292 [10:38<04:04, 31.61it/s]2023-08-14 13:13:10,300 - \u001b[1;33mWARNING\u001b[1;0m - No paraphrases found for \"right mid to upper lung laterally\". Skipping...\n",
      "100%|█████████████████████████████████████| 28292/28292 [14:39<00:00, 32.17it/s]\n",
      "2023-08-14 13:17:10,582 - \u001b[1;32mINFO\u001b[1;0m - Actual number of triplets sampled for Rule 2: \"Rank paraphrases very highly - Hard negative\": 2869030\n",
      "2023-08-14 13:17:10,583 - \u001b[1;32mINFO\u001b[1;0m - Rule 3: \"Rank some triplets according to CXR-BERT and Leveinshtein consensus\"\n",
      "100%|█████████████████████████████████| 297669/297669 [1:04:00<00:00, 77.52it/s]\n",
      "2023-08-14 14:21:10,696 - \u001b[1;32mINFO\u001b[1;0m - Actual number of triplets sampled for Rule 3: \"Rank some triplets according to CXR-BERT and Leveinshtein consensus\": 2005328\n",
      "2023-08-14 14:21:10,696 - \u001b[1;32mINFO\u001b[1;0m - ============================================================\n",
      "2023-08-14 14:21:10,696 - \u001b[1;32mINFO\u001b[1;0m - Sampling triplets for observations...\n",
      "2023-08-14 14:21:10,696 - \u001b[1;32mINFO\u001b[1;0m - Rule 1: \"Rank paraphrases very highly\"\n",
      "100%|█████████████████████████████████| 109887/109887 [00:57<00:00, 1926.43it/s]\n",
      "2023-08-14 14:22:07,738 - \u001b[1;32mINFO\u001b[1;0m - Actual number of triplets sampled for Rule 1: \"Rank paraphrases very highly\": 3770458\n",
      "2023-08-14 14:22:07,739 - \u001b[1;32mINFO\u001b[1;0m - Rule 2: \"Rank paraphrases very highly - Hard negative\"\n",
      "100%|█████████████████████████████████| 109887/109887 [00:54<00:00, 2000.43it/s]\n",
      "2023-08-14 14:23:02,671 - \u001b[1;32mINFO\u001b[1;0m - Actual number of triplets sampled for Rule 2: \"Rank paraphrases very highly - Hard negative\": 3763638\n",
      "2023-08-14 14:23:02,671 - \u001b[1;32mINFO\u001b[1;0m - ---------------------------------------\n",
      "2023-08-14 14:23:04,333 - \u001b[1;32mINFO\u001b[1;0m - len(hs2id): 7\n",
      "2023-08-14 14:23:04,333 - \u001b[1;32mINFO\u001b[1;0m - hs2id: {'ambiguous': 0, 'abnormal': 1, 'unknown': 2, 'normal': 3, 'resolved': 4, 'improved': 5, '': 6}\n",
      "2023-08-14 14:23:06,049 - \u001b[1;32mINFO\u001b[1;0m - Number of observations for each health status:\n",
      "2023-08-14 14:23:06,049 - \u001b[1;32mINFO\u001b[1;0m - 1054149 observations with health status \"abnormal\"\n",
      "2023-08-14 14:23:06,050 - \u001b[1;32mINFO\u001b[1;0m - 561565 observations with health status \"unknown\"\n",
      "2023-08-14 14:23:06,050 - \u001b[1;32mINFO\u001b[1;0m - 244241 observations with health status \"normal\"\n",
      "2023-08-14 14:23:06,050 - \u001b[1;32mINFO\u001b[1;0m - 135766 observations with health status \"ambiguous\"\n",
      "2023-08-14 14:23:06,050 - \u001b[1;32mINFO\u001b[1;0m - 818 observations with health status \"\"\n",
      "2023-08-14 14:23:06,050 - \u001b[1;32mINFO\u001b[1;0m - 78 observations with health status \"improved\"\n",
      "2023-08-14 14:23:06,050 - \u001b[1;32mINFO\u001b[1;0m - 37 observations with health status \"resolved\"\n",
      "2023-08-14 14:23:08,667 - \u001b[1;32mINFO\u001b[1;0m - len(hsid_cid_2_obs_idxs): 484\n",
      "2023-08-14 14:23:08,667 - \u001b[1;32mINFO\u001b[1;0m - len(obs_idx_2_hsid_cid): 1996654\n",
      "2023-08-14 14:23:08,667 - \u001b[1;32mINFO\u001b[1;0m - ---------------------------------------\n",
      "2023-08-14 14:23:08,667 - \u001b[1;32mINFO\u001b[1;0m - Rule 3: \"Rank some triplets according to CXR-BERT and Leveinshtein consensus, while anchor and positive share the same health status\"\n",
      "100%|███████████████████████████████| 1996654/1996654 [21:28<00:00, 1549.99it/s]\n",
      "2023-08-14 14:44:36,837 - \u001b[1;32mINFO\u001b[1;0m - Actual number of triplets sampled for Rule 2: \"Rank some triplets according to CXR-BERT and Leveinshtein consensus, while anchor and positive share the same health status\": 2217656\n",
      "2023-08-14 14:44:36,837 - \u001b[1;32mINFO\u001b[1;0m - Rule 4: \"Hard health-status-vs-others triplets\"\n",
      "100%|█████████████████████████████████| 109887/109887 [00:52<00:00, 2078.99it/s]\n",
      "2023-08-14 14:45:29,693 - \u001b[1;32mINFO\u001b[1;0m - Actual number of triplets sampled for Rule 4: \"Hard health-status-vs-others triplets\": 2477412\n",
      "2023-08-14 14:45:29,693 - \u001b[1;32mINFO\u001b[1;0m - Rule 5: \"Short observation, detailed observation, and fact must be close to each other - Hard negative\"\n",
      "100%|█████████████████████████████████| 578733/578733 [01:21<00:00, 7064.10it/s]\n",
      "2023-08-14 14:46:51,620 - \u001b[1;33mWARNING\u001b[1;0m - Failed to find enough observations for 68865/578733 integrated fact metadata rows.\n",
      "2023-08-14 14:46:51,620 - \u001b[1;32mINFO\u001b[1;0m - Actual number of triplets sampled for Rule 5: \"Short observation, detailed observation, and fact must be close to each other - Hard negative\": 4430119\n",
      "2023-08-14 14:46:51,739 - \u001b[1;32mINFO\u001b[1;0m - len(chest_imagenome_sentences): 2552490\n",
      "2023-08-14 14:46:51,739 - \u001b[1;32mINFO\u001b[1;0m - chest_imagenome_labels.shape: (2552490, 74)\n",
      "2023-08-14 14:46:51,739 - \u001b[1;32mINFO\u001b[1;0m - Rule 6: \"Rank triplets according to Chest ImaGenome labels\"\n",
      "100%|███████████████████████████████| 2552490/2552490 [09:32<00:00, 4456.96it/s]\n",
      "100%|███████████████████████████████████████████| 74/74 [01:39<00:00,  1.35s/it]\n",
      "2023-08-14 14:58:04,254 - \u001b[1;32mINFO\u001b[1;0m - Actual number of triplets sampled for Rule 6: \"Rank triplets according to Chest ImaGenome labels\": 2832046\n",
      "2023-08-14 14:58:04,605 - \u001b[1;32mINFO\u001b[1;0m - Rule 7: \"RadGraph-based triplets (Human Annotations)\"\n",
      "2023-08-14 14:58:04,605 - \u001b[1;32mINFO\u001b[1;0m - len(sentence_labels_pairs)=3003\n",
      "2023-08-14 14:58:04,605 - \u001b[1;32mINFO\u001b[1;0m - n_triplets_per_anchor=834\n",
      "100%|██████████████████████████████████████| 3003/3003 [00:28<00:00, 106.30it/s]\n",
      "2023-08-14 14:58:32,855 - \u001b[1;32mINFO\u001b[1;0m - Actual number of triplets sampled for Rule 7: \"RadGraph-based triplets (Human Annotations)\": 2421298\n",
      "2023-08-14 14:58:39,033 - \u001b[1;32mINFO\u001b[1;0m - Rule 8: \"RadGraph-based triplets (Machine Annotations)\"\n",
      "2023-08-14 14:58:39,033 - \u001b[1;32mINFO\u001b[1;0m - len(sentence_labels_pairs)=637929\n",
      "2023-08-14 14:58:39,033 - \u001b[1;32mINFO\u001b[1;0m - Computing cluster2idxs...\n",
      "637929it [00:01, 424508.84it/s]\n",
      "2023-08-14 14:58:40,536 - \u001b[1;32mINFO\u001b[1;0m - Sampling triplets...\n",
      "2023-08-14 14:58:40,536 - \u001b[1;32mINFO\u001b[1;0m - n_triplets_per_anchor=4\n",
      "100%|██████████████████████████████████| 637929/637929 [12:16<00:00, 865.89it/s]\n",
      "2023-08-14 15:10:57,269 - \u001b[1;32mINFO\u001b[1;0m - Actual number of triplets sampled for Rule 8: \"RadGraph-based triplets (Machine Annotations)\": 2535644\n",
      "2023-08-14 15:10:57,306 - \u001b[1;32mINFO\u001b[1;0m - Extracting triplets for validation and test sets...\n",
      "2023-08-14 15:11:31,462 - \u001b[1;32mINFO\u001b[1;0m - Saving triplets to /mnt/workspace/pamessina/medvqa-workspace/cache/mimiccxr/triplets(3471872,297669,1996654,2502000,1000,1000).pkl...\n",
      "2023-08-14 15:11:33,523 - \u001b[1;32mINFO\u001b[1;0m - Done!\n"
     ]
    }
   ],
   "source": [
    "!python ../../scripts/mimiccxr/sample_triplets_for_fact_embedding_learning.py \\\n",
    "--precomputed_sentence_embeddings_filepath \\\n",
    "\"/mnt/workspace/pamessina/medvqa-workspace/cache/mimiccxr/cxr_bert_sentence_embeddings(2842463,162085125).pkl\" \\\n",
    "--paraphrased_anatomical_locations_filepaths \\\n",
    "\"/home/pamessina/medvqa-workspace/cache/mimiccxr/openai/gpt-3.5-turbo-0613_paraphrased_anatomical_locations__part1.jsonl\" \\\n",
    "\"/home/pamessina/medvqa-workspace/cache/mimiccxr/openai/gpt-3.5-turbo-0613_paraphrased_anatomical_locations__part2.jsonl\" \\\n",
    "\"/home/pamessina/medvqa-workspace/cache/mimiccxr/openai/gpt-3.5-turbo-16k-0613_paraphrased_anatomical_locations__part3.jsonl\" \\\n",
    "--paraphrased_observations_filepaths \\\n",
    "\"/home/pamessina/medvqa-workspace/cache/mimiccxr/openai/gpt-3.5-turbo-0613_paraphrased_observations__single-words.jsonl\" \\\n",
    "\"/home/pamessina/medvqa-workspace/cache/mimiccxr/openai/gpt-3.5-turbo-0613_paraphrased_observations__two-or-more-words__part1.jsonl\" \\\n",
    "\"/home/pamessina/medvqa-workspace/cache/mimiccxr/openai/gpt-3.5-turbo-16k-0613_paraphrased_observations__two-or-more-words__part2.jsonl\" \\\n",
    "\"/home/pamessina/medvqa-workspace/cache/mimiccxr/openai/gpt-3.5-turbo-0613_paraphrased_observations__two-or-more-words__part3.jsonl\" \\\n",
    "\"/home/pamessina/medvqa-workspace/cache/mimiccxr/openai/gpt-3.5-turbo-16k-0613_paraphrased_observations__two-or-more-words__part4.jsonl\" \\\n",
    "\"/home/pamessina/medvqa-workspace/cache/mimiccxr/openai/gpt-4-0613_paraphrased_observations__two-or-more-words_cluster-balanced.jsonl\" \\\n",
    "\"/home/pamessina/medvqa-workspace/cache/mimiccxr/openai/gpt-3.5-turbo-0613_paraphrased_observations__two-or-more-words_cluster-balanced_1of5.jsonl\" \\\n",
    "\"/home/pamessina/medvqa-workspace/cache/mimiccxr/openai/gpt-3.5-turbo-0613_paraphrased_observations__two-or-more-words_cluster-balanced_2of5.jsonl\" \\\n",
    "\"/home/pamessina/medvqa-workspace/cache/mimiccxr/openai/gpt-3.5-turbo-0613_paraphrased_observations__two-or-more-words_cluster-balanced_3of5.jsonl\" \\\n",
    "\"/home/pamessina/medvqa-workspace/cache/mimiccxr/openai/gpt-3.5-turbo-0613_paraphrased_observations__two-or-more-words_cluster-balanced_4of5.jsonl\" \\\n",
    "--integrated_fact_metadata_filepath \\\n",
    "\"/home/pamessina/medvqa-workspace/cache/mimiccxr/integrated_fact_metadata(578733,58628071).jsonl\" \\\n",
    "--chest_imagenome_sentences_and_labels_filepath \\\n",
    "\"/home/pamessina/medvqa-workspace/cache/mimiccxr/integrated_chest_imagenome_labels(6).pkl\" \\\n",
    "--radgraph_sentences_and_labels_filepath \\\n",
    "\"/mnt/workspace/pamessina/medvqa-workspace/cache/radgraph/label_sets_per_sentence.pkl\" \\\n",
    "--num_anatloc_clusters 100 \\\n",
    "--num_obs_clusters 100 \\\n",
    "--num_radgraph_clusters 100 \\\n",
    "--num_train_triplets_per_rule 2500000 \\\n",
    "--num_val_triplets_per_rule 1000 \\\n",
    "--num_test_triplets_per_rule 1000 \\\n",
    "--batch_size 400 \\\n",
    "--num_workers 10"
   ]
  },
  {
   "cell_type": "code",
   "execution_count": 389,
   "id": "825964a1",
   "metadata": {
    "scrolled": true
   },
   "outputs": [
    {
     "name": "stdout",
     "output_type": "stream",
     "text": [
      "2023-08-19 21:05:44,950 - \u001b[1;32mINFO\u001b[1;0m - Collecting all sentences, observations and anatomical locations from input files...\n",
      "2023-08-19 21:05:44,951 - \u001b[1;32mINFO\u001b[1;0m - Loading integrated fact metadata from /home/pamessina/medvqa-workspace/cache/mimiccxr/integrated_fact_metadata(578733,58628071).jsonl...\n",
      "2023-08-19 21:05:50,044 - \u001b[1;32mINFO\u001b[1;0m - Found 578733 integrated fact metadata rows.\n",
      "2023-08-19 21:05:51,553 - \u001b[1;32mINFO\u001b[1;0m - Collecting strings from /home/pamessina/medvqa-workspace/cache/mimiccxr/openai/gpt-3.5-turbo-0613_paraphrased_anatomical_locations__part1.jsonl...\n",
      "2023-08-19 21:05:51,631 - \u001b[1;32mINFO\u001b[1;0m - Found 9891 paraphrased anatomical locations.\n",
      "2023-08-19 21:05:51,705 - \u001b[1;32mINFO\u001b[1;0m - Collecting strings from /home/pamessina/medvqa-workspace/cache/mimiccxr/openai/gpt-3.5-turbo-0613_paraphrased_anatomical_locations__part2.jsonl...\n",
      "2023-08-19 21:05:51,790 - \u001b[1;32mINFO\u001b[1;0m - Found 9890 paraphrased anatomical locations.\n",
      "2023-08-19 21:05:52,409 - \u001b[1;32mINFO\u001b[1;0m - Collecting strings from /home/pamessina/medvqa-workspace/cache/mimiccxr/openai/gpt-3.5-turbo-16k-0613_paraphrased_anatomical_locations__part3.jsonl...\n",
      "2023-08-19 21:05:52,484 - \u001b[1;32mINFO\u001b[1;0m - Found 8511 paraphrased anatomical locations.\n",
      "2023-08-19 21:05:52,552 - \u001b[1;32mINFO\u001b[1;0m - Found 297669 unique anatomical locations.\n",
      "2023-08-19 21:05:53,272 - \u001b[1;32mINFO\u001b[1;0m - Collecting strings from /home/pamessina/medvqa-workspace/cache/mimiccxr/openai/gpt-3.5-turbo-0613_paraphrased_observations__single-words.jsonl...\n",
      "2023-08-19 21:05:53,282 - \u001b[1;32mINFO\u001b[1;0m - Found 1864 paraphrased observations.\n",
      "2023-08-19 21:05:53,294 - \u001b[1;32mINFO\u001b[1;0m - Collecting strings from /home/pamessina/medvqa-workspace/cache/mimiccxr/openai/gpt-3.5-turbo-0613_paraphrased_observations__two-or-more-words__part1.jsonl...\n",
      "2023-08-19 21:05:53,406 - \u001b[1;32mINFO\u001b[1;0m - Found 14993 paraphrased observations.\n",
      "2023-08-19 21:05:53,511 - \u001b[1;32mINFO\u001b[1;0m - Collecting strings from /home/pamessina/medvqa-workspace/cache/mimiccxr/openai/gpt-3.5-turbo-16k-0613_paraphrased_observations__two-or-more-words__part2.jsonl...\n",
      "2023-08-19 21:05:53,628 - \u001b[1;32mINFO\u001b[1;0m - Found 14971 paraphrased observations.\n",
      "2023-08-19 21:05:53,769 - \u001b[1;32mINFO\u001b[1;0m - Collecting strings from /home/pamessina/medvqa-workspace/cache/mimiccxr/openai/gpt-3.5-turbo-0613_paraphrased_observations__two-or-more-words__part3.jsonl...\n",
      "2023-08-19 21:05:53,885 - \u001b[1;32mINFO\u001b[1;0m - Found 14972 paraphrased observations.\n",
      "2023-08-19 21:05:53,991 - \u001b[1;32mINFO\u001b[1;0m - Collecting strings from /home/pamessina/medvqa-workspace/cache/mimiccxr/openai/gpt-3.5-turbo-16k-0613_paraphrased_observations__two-or-more-words__part4.jsonl...\n",
      "2023-08-19 21:05:54,816 - \u001b[1;32mINFO\u001b[1;0m - Found 14965 paraphrased observations.\n",
      "2023-08-19 21:05:54,960 - \u001b[1;32mINFO\u001b[1;0m - Collecting strings from /home/pamessina/medvqa-workspace/cache/mimiccxr/openai/gpt-4-0613_paraphrased_observations__two-or-more-words_cluster-balanced.jsonl...\n",
      "2023-08-19 21:05:55,057 - \u001b[1;32mINFO\u001b[1;0m - Found 10000 paraphrased observations.\n",
      "2023-08-19 21:05:55,131 - \u001b[1;32mINFO\u001b[1;0m - Collecting strings from /home/pamessina/medvqa-workspace/cache/mimiccxr/openai/gpt-3.5-turbo-0613_paraphrased_observations__two-or-more-words_cluster-balanced_1of5.jsonl...\n",
      "2023-08-19 21:05:55,226 - \u001b[1;32mINFO\u001b[1;0m - Found 9999 paraphrased observations.\n",
      "2023-08-19 21:05:55,302 - \u001b[1;32mINFO\u001b[1;0m - Collecting strings from /home/pamessina/medvqa-workspace/cache/mimiccxr/openai/gpt-3.5-turbo-0613_paraphrased_observations__two-or-more-words_cluster-balanced_2of5.jsonl...\n",
      "2023-08-19 21:05:55,400 - \u001b[1;32mINFO\u001b[1;0m - Found 9997 paraphrased observations.\n",
      "2023-08-19 21:05:55,482 - \u001b[1;32mINFO\u001b[1;0m - Collecting strings from /home/pamessina/medvqa-workspace/cache/mimiccxr/openai/gpt-3.5-turbo-0613_paraphrased_observations__two-or-more-words_cluster-balanced_3of5.jsonl...\n",
      "2023-08-19 21:05:55,578 - \u001b[1;32mINFO\u001b[1;0m - Found 9994 paraphrased observations.\n",
      "2023-08-19 21:05:55,660 - \u001b[1;32mINFO\u001b[1;0m - Collecting strings from /home/pamessina/medvqa-workspace/cache/mimiccxr/openai/gpt-3.5-turbo-0613_paraphrased_observations__two-or-more-words_cluster-balanced_4of5.jsonl...\n",
      "2023-08-19 21:05:55,754 - \u001b[1;32mINFO\u001b[1;0m - Found 9996 paraphrased observations.\n",
      "2023-08-19 21:05:55,835 - \u001b[1;32mINFO\u001b[1;0m - Found 2008308 unique observations.\n",
      "2023-08-19 21:06:02,685 - \u001b[1;32mINFO\u001b[1;0m - Loading Chest ImaGenome sentences and labels from /home/pamessina/medvqa-workspace/cache/mimiccxr/integrated_chest_imagenome_labels(6).pkl...\n",
      "2023-08-19 21:06:03,249 - \u001b[1;32mINFO\u001b[1;0m - len(group[\"sentences\"])=556111\n",
      "2023-08-19 21:06:03,853 - \u001b[1;32mINFO\u001b[1;0m - len(group[\"sentences\"])=1936609\n",
      "2023-08-19 21:06:03,855 - \u001b[1;32mINFO\u001b[1;0m - len(group[\"sentences\"])=5000\n",
      "2023-08-19 21:06:03,859 - \u001b[1;32mINFO\u001b[1;0m - len(group[\"sentences\"])=14859\n",
      "2023-08-19 21:06:03,866 - \u001b[1;32mINFO\u001b[1;0m - len(group[\"sentences\"])=19952\n",
      "2023-08-19 21:06:03,872 - \u001b[1;32mINFO\u001b[1;0m - len(group[\"sentences\"])=19959\n",
      "2023-08-19 21:06:03,872 - \u001b[1;32mINFO\u001b[1;0m - Loading RadGraph sentences and labels from /mnt/workspace/pamessina/medvqa-workspace/cache/radgraph/label_sets_per_sentence.pkl...\n",
      "2023-08-19 21:06:12,261 - \u001b[1;32mINFO\u001b[1;0m - len(radgraph_data[train])=2170\n",
      "2023-08-19 21:06:12,263 - \u001b[1;32mINFO\u001b[1;0m - len(radgraph_data[dev])=430\n",
      "2023-08-19 21:06:12,263 - \u001b[1;32mINFO\u001b[1;0m - len(radgraph_data[test])=526\n",
      "2023-08-19 21:06:12,263 - \u001b[1;32mINFO\u001b[1;0m - len(radgraph_data[chexpert])=2270\n",
      "2023-08-19 21:06:12,264 - \u001b[1;32mINFO\u001b[1;0m - len(radgraph_data[mimiccxr])=635245\n",
      "2023-08-19 21:06:12,577 - \u001b[1;32mINFO\u001b[1;0m - Found 3482434 unique sentences.\n",
      "2023-08-19 21:06:27,201 - \u001b[1;32mINFO\u001b[1;0m - Examples of anatomical locations:\n",
      "2023-08-19 21:06:27,201 - \u001b[1;32mINFO\u001b[1;0m - 0: '\n",
      "2023-08-19 21:06:27,201 - \u001b[1;32mINFO\u001b[1;0m - 33074: left lung midsection\n",
      "2023-08-19 21:06:27,201 - \u001b[1;32mINFO\u001b[1;0m - 66148: left mid- and lower zones\n",
      "2023-08-19 21:06:27,201 - \u001b[1;32mINFO\u001b[1;0m - 99222: fundus portion of the stomach\n",
      "2023-08-19 21:06:27,201 - \u001b[1;32mINFO\u001b[1;0m - 132296: right mid-lateral lung territory\n",
      "2023-08-19 21:06:27,201 - \u001b[1;32mINFO\u001b[1;0m - 165371: located on the backside of the graft\n",
      "2023-08-19 21:06:27,201 - \u001b[1;32mINFO\u001b[1;0m - 198445: lower pigtail catheter on the right side\n",
      "2023-08-19 21:06:27,201 - \u001b[1;32mINFO\u001b[1;0m - 231519: outermost part of the right side of the chest\n",
      "2023-08-19 21:06:27,202 - \u001b[1;32mINFO\u001b[1;0m - 264593: lying on the first costochondral junction on the left\n",
      "2023-08-19 21:06:27,202 - \u001b[1;32mINFO\u001b[1;0m - 297668: overlying the region where the posterior part of the sixth rib on the left side overlaps with the anterior part of the fourth rib on the left side\n",
      "2023-08-19 21:06:27,202 - \u001b[1;32mINFO\u001b[1;0m - Examples of observations:\n",
      "2023-08-19 21:06:27,202 - \u001b[1;32mINFO\u001b[1;0m - 0: 2\n",
      "2023-08-19 21:06:27,202 - \u001b[1;32mINFO\u001b[1;0m - 223145: residual multiloculated areas\n",
      "2023-08-19 21:06:27,202 - \u001b[1;32mINFO\u001b[1;0m - 446290: layering effusions in the right base\n",
      "2023-08-19 21:06:27,202 - \u001b[1;32mINFO\u001b[1;0m - 669435: possible underlying effusion not excluded\n",
      "2023-08-19 21:06:27,202 - \u001b[1;32mINFO\u001b[1;0m - 892580: left pleural pigtail catheter remains in place\n",
      "2023-08-19 21:06:27,202 - \u001b[1;32mINFO\u001b[1;0m - 1115726: crowding of bronchovascular structures in the lungs\n",
      "2023-08-19 21:06:27,202 - \u001b[1;32mINFO\u001b[1;0m - 1338871: probable decrease in volume in the right infrahilar area\n",
      "2023-08-19 21:06:27,202 - \u001b[1;32mINFO\u001b[1;0m - 1562016: There is a diverse texture observed over the cardiac silhouette\n",
      "2023-08-19 21:06:27,202 - \u001b[1;32mINFO\u001b[1;0m - 1785161: The right pleural effusion has undergone a significant decrease in amount\n",
      "2023-08-19 21:06:27,202 - \u001b[1;32mINFO\u001b[1;0m - 2008307: worsening of combined alveolar opacities in the bilateral asymmetrically distributed combined interstitial opacities in the bilateral asymmetrically distributed combined alveolar opacities in the bilateral asymmetrically distributed combined interstitial opacities\n",
      "2023-08-19 21:06:28,005 - \u001b[1;32mINFO\u001b[1;0m - Found precomputed sentence embeddings at /mnt/workspace/pamessina/medvqa-workspace/cache/mimiccxr/sentence_embeddings(BiomedVLP_BioVilT,3482434,213526141).pkl. Loading...\n"
     ]
    },
    {
     "name": "stdout",
     "output_type": "stream",
     "text": [
      "2023-08-19 21:06:29,941 - \u001b[1;32mINFO\u001b[1;0m - Found precomputed clusters at /mnt/workspace/pamessina/medvqa-workspace/cache/mimiccxr/clusters(100,100297669,2008308,3482434,213526141).pkl. Loading...\n",
      "2023-08-19 21:06:31,098 - \u001b[1;32mINFO\u001b[1;0m - Found precomputed radgraph clusters at /mnt/workspace/pamessina/medvqa-workspace/cache/mimiccxr/radgraph_clusters(637929,213526141).pkl. Loading...\n",
      "2023-08-19 21:06:31,124 - \u001b[1;32mINFO\u001b[1;0m - ============================================================\n",
      "2023-08-19 21:06:31,124 - \u001b[1;32mINFO\u001b[1;0m - Sampling triplets for anatomical locations...\n",
      "2023-08-19 21:06:31,124 - \u001b[1;32mINFO\u001b[1;0m - Rule 1: \"Rank paraphrases very highly\"\n",
      "  0%|                                                 | 0/28292 [00:00<?, ?it/s]2023-08-19 21:06:31,127 - \u001b[1;33mWARNING\u001b[1;0m - No paraphrases found for \"end\". Skipping...\n",
      "  8%|██▉                                  | 2242/28292 [00:04<00:45, 574.42it/s]2023-08-19 21:06:35,901 - \u001b[1;33mWARNING\u001b[1;0m - No paraphrases found for \"both locations\". Skipping...\n",
      " 72%|█████████████████████████▊          | 20278/28292 [00:32<00:12, 643.53it/s]2023-08-19 21:07:03,627 - \u001b[1;33mWARNING\u001b[1;0m - No paraphrases found for \"right mid to upper lung laterally\". Skipping...\n",
      "100%|████████████████████████████████████| 28292/28292 [00:44<00:00, 634.35it/s]\n",
      "2023-08-19 21:07:15,726 - \u001b[1;32mINFO\u001b[1;0m - Actual number of triplets sampled for Rule 1: \"Rank paraphrases very highly\": 3390985\n",
      "2023-08-19 21:07:15,726 - \u001b[1;32mINFO\u001b[1;0m - Rule 2: \"Rank paraphrases very highly - Hard negative\"\n",
      "  0%|                                                 | 0/28292 [00:00<?, ?it/s]2023-08-19 21:07:15,729 - \u001b[1;33mWARNING\u001b[1;0m - No paraphrases found for \"end\". Skipping...\n",
      "  9%|███▍                                 | 2583/28292 [00:04<00:39, 648.73it/s]2023-08-19 21:07:19,959 - \u001b[1;33mWARNING\u001b[1;0m - No paraphrases found for \"both locations\". Skipping...\n",
      " 70%|█████████████████████████▏          | 19749/28292 [00:30<00:12, 657.70it/s]2023-08-19 21:07:47,161 - \u001b[1;33mWARNING\u001b[1;0m - No paraphrases found for \"right mid to upper lung laterally\". Skipping...\n",
      "100%|████████████████████████████████████| 28292/28292 [00:42<00:00, 659.35it/s]\n",
      "2023-08-19 21:07:58,635 - \u001b[1;32mINFO\u001b[1;0m - Actual number of triplets sampled for Rule 2: \"Rank paraphrases very highly - Hard negative\": 3371021\n",
      "2023-08-19 21:07:58,635 - \u001b[1;32mINFO\u001b[1;0m - Rule 3: \"Rank some triplets according to CXR-BERT and Leveinshtein consensus\"\n",
      "100%|██████████████████████████████████| 297669/297669 [15:32<00:00, 319.16it/s]\n",
      "2023-08-19 21:23:31,309 - \u001b[1;32mINFO\u001b[1;0m - Actual number of triplets sampled for Rule 3: \"Rank some triplets according to CXR-BERT and Leveinshtein consensus\": 3274321\n",
      "2023-08-19 21:23:31,310 - \u001b[1;32mINFO\u001b[1;0m - ============================================================\n",
      "2023-08-19 21:23:31,310 - \u001b[1;32mINFO\u001b[1;0m - Sampling triplets for observations...\n",
      "2023-08-19 21:23:31,310 - \u001b[1;32mINFO\u001b[1;0m - Rule 1: \"Rank paraphrases very highly\"\n",
      "100%|█████████████████████████████████| 111751/111751 [00:58<00:00, 1913.37it/s]\n",
      "2023-08-19 21:24:29,715 - \u001b[1;32mINFO\u001b[1;0m - Actual number of triplets sampled for Rule 1: \"Rank paraphrases very highly\": 3929112\n",
      "2023-08-19 21:24:29,716 - \u001b[1;32mINFO\u001b[1;0m - Rule 2: \"Rank paraphrases very highly - Hard negative\"\n",
      "100%|█████████████████████████████████| 111751/111751 [00:54<00:00, 2044.55it/s]\n",
      "2023-08-19 21:25:24,374 - \u001b[1;32mINFO\u001b[1;0m - Actual number of triplets sampled for Rule 2: \"Rank paraphrases very highly - Hard negative\": 3917351\n",
      "2023-08-19 21:25:24,374 - \u001b[1;32mINFO\u001b[1;0m - ---------------------------------------\n",
      "2023-08-19 21:25:25,990 - \u001b[1;32mINFO\u001b[1;0m - len(hs2id): 7\n",
      "2023-08-19 21:25:25,990 - \u001b[1;32mINFO\u001b[1;0m - hs2id: {'ambiguous': 0, 'abnormal': 1, 'unknown': 2, 'normal': 3, 'resolved': 4, 'improved': 5, '': 6}\n",
      "2023-08-19 21:25:27,671 - \u001b[1;32mINFO\u001b[1;0m - Number of observations for each health status:\n",
      "2023-08-19 21:25:27,672 - \u001b[1;32mINFO\u001b[1;0m - 1060312 observations with health status \"abnormal\"\n",
      "2023-08-19 21:25:27,672 - \u001b[1;32mINFO\u001b[1;0m - 566392 observations with health status \"unknown\"\n",
      "2023-08-19 21:25:27,672 - \u001b[1;32mINFO\u001b[1;0m - 244477 observations with health status \"normal\"\n",
      "2023-08-19 21:25:27,672 - \u001b[1;32mINFO\u001b[1;0m - 136194 observations with health status \"ambiguous\"\n",
      "2023-08-19 21:25:27,672 - \u001b[1;32mINFO\u001b[1;0m - 818 observations with health status \"\"\n",
      "2023-08-19 21:25:27,672 - \u001b[1;32mINFO\u001b[1;0m - 78 observations with health status \"improved\"\n",
      "2023-08-19 21:25:27,672 - \u001b[1;32mINFO\u001b[1;0m - 37 observations with health status \"resolved\"\n",
      "2023-08-19 21:25:30,196 - \u001b[1;32mINFO\u001b[1;0m - len(hsid_cid_2_obs_idxs): 477\n",
      "2023-08-19 21:25:30,197 - \u001b[1;32mINFO\u001b[1;0m - len(obs_idx_2_hsid_cid): 2008308\n",
      "2023-08-19 21:25:30,197 - \u001b[1;32mINFO\u001b[1;0m - ---------------------------------------\n",
      "2023-08-19 21:25:30,197 - \u001b[1;32mINFO\u001b[1;0m - Rule 3: \"Rank some triplets according to CXR-BERT and Leveinshtein consensus, while anchor and positive share the same health status\"\n",
      "100%|████████████████████████████████| 2008308/2008308 [36:01<00:00, 929.19it/s]\n",
      "2023-08-19 22:01:31,550 - \u001b[1;32mINFO\u001b[1;0m - Actual number of triplets sampled for Rule 3: \"Rank some triplets according to CXR-BERT and Leveinshtein consensus, while anchor and positive share the same health status\": 4016559\n",
      "2023-08-19 22:01:31,550 - \u001b[1;32mINFO\u001b[1;0m - Rule 4: \"Hard health-status-vs-others triplets\"\n",
      "100%|█████████████████████████████████| 111751/111751 [00:56<00:00, 1964.63it/s]\n",
      "2023-08-19 22:02:28,432 - \u001b[1;32mINFO\u001b[1;0m - Actual number of triplets sampled for Rule 4: \"Hard health-status-vs-others triplets\": 2758881\n",
      "2023-08-19 22:02:28,432 - \u001b[1;32mINFO\u001b[1;0m - Rule 5: \"Short observation, detailed observation, and fact must be close to each other - Hard negative\"\n",
      "100%|█████████████████████████████████| 578733/578733 [01:32<00:00, 6243.83it/s]\n",
      "2023-08-19 22:04:01,121 - \u001b[1;33mWARNING\u001b[1;0m - Failed to find enough observations for 68195/578733 integrated fact metadata rows.\n",
      "2023-08-19 22:04:01,121 - \u001b[1;32mINFO\u001b[1;0m - Actual number of triplets sampled for Rule 5: \"Short observation, detailed observation, and fact must be close to each other - Hard negative\": 4973068\n",
      "2023-08-19 22:04:01,240 - \u001b[1;32mINFO\u001b[1;0m - len(chest_imagenome_sentences): 2552490\n",
      "2023-08-19 22:04:01,240 - \u001b[1;32mINFO\u001b[1;0m - chest_imagenome_labels.shape: (2552490, 74)\n",
      "2023-08-19 22:04:01,240 - \u001b[1;32mINFO\u001b[1;0m - Rule 6: \"Rank triplets according to Chest ImaGenome labels\"\n",
      "100%|███████████████████████████████| 2552490/2552490 [09:18<00:00, 4567.06it/s]\n",
      "100%|███████████████████████████████████████████| 74/74 [02:00<00:00,  1.63s/it]\n",
      "2023-08-19 22:15:20,643 - \u001b[1;32mINFO\u001b[1;0m - Actual number of triplets sampled for Rule 6: \"Rank triplets according to Chest ImaGenome labels\": 3430752\n",
      "2023-08-19 22:15:27,535 - \u001b[1;32mINFO\u001b[1;0m - Rule 7: \"RadGraph-based triplets\"\n",
      "2023-08-19 22:15:27,536 - \u001b[1;32mINFO\u001b[1;0m - len(sentence_labels_pairs)=637929\n",
      "2023-08-19 22:15:27,536 - \u001b[1;32mINFO\u001b[1;0m - Computing cluster2idxs...\n",
      "637929it [00:01, 416816.32it/s]\n",
      "2023-08-19 22:15:29,066 - \u001b[1;32mINFO\u001b[1;0m - Sampling triplets...\n",
      "2023-08-19 22:15:29,066 - \u001b[1;32mINFO\u001b[1;0m - n_triplets_per_anchor=5\n",
      "100%|██████████████████████████████████| 637929/637929 [12:31<00:00, 848.49it/s]\n",
      "2023-08-19 22:28:00,910 - \u001b[1;32mINFO\u001b[1;0m - Actual number of triplets sampled for Rule 7: \"RadGraph-based triplets\": 3174838\n",
      "2023-08-19 22:28:00,948 - \u001b[1;32mINFO\u001b[1;0m - Extracting triplets for validation and test sets...\n",
      "2023-08-19 22:28:39,648 - \u001b[1;32mINFO\u001b[1;0m - Saving triplets to /mnt/workspace/pamessina/medvqa-workspace/cache/mimiccxr/triplets(3482434,297669,2008308,3002000,1000,1000).pkl...\n",
      "2023-08-19 22:28:42,579 - \u001b[1;32mINFO\u001b[1;0m - Done!\n"
     ]
    }
   ],
   "source": [
    "!python ../../scripts/mimiccxr/sample_triplets_for_fact_embedding_learning.py \\\n",
    "--paraphrased_anatomical_locations_filepaths \\\n",
    "\"/home/pamessina/medvqa-workspace/cache/mimiccxr/openai/gpt-3.5-turbo-0613_paraphrased_anatomical_locations__part1.jsonl\" \\\n",
    "\"/home/pamessina/medvqa-workspace/cache/mimiccxr/openai/gpt-3.5-turbo-0613_paraphrased_anatomical_locations__part2.jsonl\" \\\n",
    "\"/home/pamessina/medvqa-workspace/cache/mimiccxr/openai/gpt-3.5-turbo-16k-0613_paraphrased_anatomical_locations__part3.jsonl\" \\\n",
    "--paraphrased_observations_filepaths \\\n",
    "\"/home/pamessina/medvqa-workspace/cache/mimiccxr/openai/gpt-3.5-turbo-0613_paraphrased_observations__single-words.jsonl\" \\\n",
    "\"/home/pamessina/medvqa-workspace/cache/mimiccxr/openai/gpt-3.5-turbo-0613_paraphrased_observations__two-or-more-words__part1.jsonl\" \\\n",
    "\"/home/pamessina/medvqa-workspace/cache/mimiccxr/openai/gpt-3.5-turbo-16k-0613_paraphrased_observations__two-or-more-words__part2.jsonl\" \\\n",
    "\"/home/pamessina/medvqa-workspace/cache/mimiccxr/openai/gpt-3.5-turbo-0613_paraphrased_observations__two-or-more-words__part3.jsonl\" \\\n",
    "\"/home/pamessina/medvqa-workspace/cache/mimiccxr/openai/gpt-3.5-turbo-16k-0613_paraphrased_observations__two-or-more-words__part4.jsonl\" \\\n",
    "\"/home/pamessina/medvqa-workspace/cache/mimiccxr/openai/gpt-4-0613_paraphrased_observations__two-or-more-words_cluster-balanced.jsonl\" \\\n",
    "\"/home/pamessina/medvqa-workspace/cache/mimiccxr/openai/gpt-3.5-turbo-0613_paraphrased_observations__two-or-more-words_cluster-balanced_1of5.jsonl\" \\\n",
    "\"/home/pamessina/medvqa-workspace/cache/mimiccxr/openai/gpt-3.5-turbo-0613_paraphrased_observations__two-or-more-words_cluster-balanced_2of5.jsonl\" \\\n",
    "\"/home/pamessina/medvqa-workspace/cache/mimiccxr/openai/gpt-3.5-turbo-0613_paraphrased_observations__two-or-more-words_cluster-balanced_3of5.jsonl\" \\\n",
    "\"/home/pamessina/medvqa-workspace/cache/mimiccxr/openai/gpt-3.5-turbo-0613_paraphrased_observations__two-or-more-words_cluster-balanced_4of5.jsonl\" \\\n",
    "--integrated_fact_metadata_filepath \\\n",
    "\"/home/pamessina/medvqa-workspace/cache/mimiccxr/integrated_fact_metadata(578733,58628071).jsonl\" \\\n",
    "--chest_imagenome_sentences_and_labels_filepath \\\n",
    "\"/home/pamessina/medvqa-workspace/cache/mimiccxr/integrated_chest_imagenome_labels(6).pkl\" \\\n",
    "--radgraph_sentences_and_labels_filepath \\\n",
    "\"/mnt/workspace/pamessina/medvqa-workspace/cache/radgraph/label_sets_per_sentence.pkl\" \\\n",
    "--bert_model_name \"BiomedVLP_BioVilT\" \\\n",
    "--num_anatloc_clusters 100 \\\n",
    "--num_obs_clusters 100 \\\n",
    "--num_radgraph_clusters 100 \\\n",
    "--num_train_triplets_per_rule 3000000 \\\n",
    "--num_val_triplets_per_rule 1000 \\\n",
    "--num_test_triplets_per_rule 1000 \\\n",
    "--batch_size 400 \\\n",
    "--num_workers 10"
   ]
  },
  {
   "cell_type": "code",
   "execution_count": 613,
   "id": "2f98bc91",
   "metadata": {
    "scrolled": true
   },
   "outputs": [
    {
     "name": "stdout",
     "output_type": "stream",
     "text": [
      "2023-09-16 16:07:00,273 - \u001b[1;32mINFO\u001b[1;0m - Collecting all sentences, observations and anatomical locations from input files...\n",
      "2023-09-16 16:07:00,273 - \u001b[1;32mINFO\u001b[1;0m - Loading integrated fact metadata from /home/pamessina/medvqa-workspace/cache/mimiccxr/integrated_fact_metadata(595880,60579117).improved_comparison(6741113).jsonl...\n",
      "2023-09-16 16:07:06,883 - \u001b[1;32mINFO\u001b[1;0m - Found 595880 integrated fact metadata rows.\n",
      "2023-09-16 16:07:08,491 - \u001b[1;32mINFO\u001b[1;0m - Collecting strings from /home/pamessina/medvqa-workspace/cache/mimiccxr/openai/gpt-3.5-turbo-0613_paraphrased_anatomical_locations__part1.jsonl...\n",
      "2023-09-16 16:07:08,569 - \u001b[1;32mINFO\u001b[1;0m - Found 9891 paraphrased anatomical locations.\n",
      "2023-09-16 16:07:08,641 - \u001b[1;32mINFO\u001b[1;0m - Collecting strings from /home/pamessina/medvqa-workspace/cache/mimiccxr/openai/gpt-3.5-turbo-0613_paraphrased_anatomical_locations__part2.jsonl...\n",
      "2023-09-16 16:07:08,730 - \u001b[1;32mINFO\u001b[1;0m - Found 9890 paraphrased anatomical locations.\n",
      "2023-09-16 16:07:08,808 - \u001b[1;32mINFO\u001b[1;0m - Collecting strings from /home/pamessina/medvqa-workspace/cache/mimiccxr/openai/gpt-3.5-turbo-16k-0613_paraphrased_anatomical_locations__part3.jsonl...\n",
      "2023-09-16 16:07:08,889 - \u001b[1;32mINFO\u001b[1;0m - Found 8511 paraphrased anatomical locations.\n",
      "2023-09-16 16:07:08,956 - \u001b[1;32mINFO\u001b[1;0m - Collecting strings from /home/pamessina/medvqa-workspace/cache/mimiccxr/openai/gpt-3.5-turbo-0613_paraphrased_observations__single-words.jsonl...\n",
      "2023-09-16 16:07:08,972 - \u001b[1;32mINFO\u001b[1;0m - Found 1864 paraphrased observations.\n",
      "2023-09-16 16:07:08,984 - \u001b[1;32mINFO\u001b[1;0m - Collecting strings from /home/pamessina/medvqa-workspace/cache/mimiccxr/openai/gpt-3.5-turbo-0613_paraphrased_observations__two-or-more-words__part1.jsonl...\n",
      "2023-09-16 16:07:09,097 - \u001b[1;32mINFO\u001b[1;0m - Found 14993 paraphrased observations.\n",
      "2023-09-16 16:07:09,203 - \u001b[1;32mINFO\u001b[1;0m - Collecting strings from /home/pamessina/medvqa-workspace/cache/mimiccxr/openai/gpt-3.5-turbo-16k-0613_paraphrased_observations__two-or-more-words__part2.jsonl...\n",
      "2023-09-16 16:07:09,320 - \u001b[1;32mINFO\u001b[1;0m - Found 14971 paraphrased observations.\n",
      "2023-09-16 16:07:09,460 - \u001b[1;32mINFO\u001b[1;0m - Collecting strings from /home/pamessina/medvqa-workspace/cache/mimiccxr/openai/gpt-3.5-turbo-0613_paraphrased_observations__two-or-more-words__part3.jsonl...\n",
      "2023-09-16 16:07:10,344 - \u001b[1;32mINFO\u001b[1;0m - Found 14972 paraphrased observations.\n",
      "2023-09-16 16:07:10,449 - \u001b[1;32mINFO\u001b[1;0m - Collecting strings from /home/pamessina/medvqa-workspace/cache/mimiccxr/openai/gpt-3.5-turbo-16k-0613_paraphrased_observations__two-or-more-words__part4.jsonl...\n",
      "2023-09-16 16:07:10,568 - \u001b[1;32mINFO\u001b[1;0m - Found 14965 paraphrased observations.\n",
      "2023-09-16 16:07:10,711 - \u001b[1;32mINFO\u001b[1;0m - Collecting strings from /home/pamessina/medvqa-workspace/cache/mimiccxr/openai/gpt-4-0613_paraphrased_observations__two-or-more-words_cluster-balanced.jsonl...\n",
      "2023-09-16 16:07:10,807 - \u001b[1;32mINFO\u001b[1;0m - Found 10000 paraphrased observations.\n",
      "2023-09-16 16:07:10,882 - \u001b[1;32mINFO\u001b[1;0m - Collecting strings from /home/pamessina/medvqa-workspace/cache/mimiccxr/openai/gpt-3.5-turbo-0613_paraphrased_observations__two-or-more-words_cluster-balanced_1of5.jsonl...\n",
      "2023-09-16 16:07:10,978 - \u001b[1;32mINFO\u001b[1;0m - Found 9999 paraphrased observations.\n",
      "2023-09-16 16:07:11,058 - \u001b[1;32mINFO\u001b[1;0m - Collecting strings from /home/pamessina/medvqa-workspace/cache/mimiccxr/openai/gpt-3.5-turbo-0613_paraphrased_observations__two-or-more-words_cluster-balanced_2of5.jsonl...\n",
      "2023-09-16 16:07:11,153 - \u001b[1;32mINFO\u001b[1;0m - Found 9997 paraphrased observations.\n",
      "2023-09-16 16:07:11,231 - \u001b[1;32mINFO\u001b[1;0m - Collecting strings from /home/pamessina/medvqa-workspace/cache/mimiccxr/openai/gpt-3.5-turbo-0613_paraphrased_observations__two-or-more-words_cluster-balanced_3of5.jsonl...\n",
      "2023-09-16 16:07:11,331 - \u001b[1;32mINFO\u001b[1;0m - Found 9994 paraphrased observations.\n",
      "2023-09-16 16:07:11,412 - \u001b[1;32mINFO\u001b[1;0m - Collecting strings from /home/pamessina/medvqa-workspace/cache/mimiccxr/openai/gpt-3.5-turbo-0613_paraphrased_observations__two-or-more-words_cluster-balanced_4of5.jsonl...\n",
      "2023-09-16 16:07:11,508 - \u001b[1;32mINFO\u001b[1;0m - Found 9996 paraphrased observations.\n",
      "2023-09-16 16:07:11,592 - \u001b[1;32mINFO\u001b[1;0m - Loading hard triplets from facts from ['/home/pamessina/medvqa-workspace/cache/mimiccxr/openai/gpt-3.5-turbo-0613_hard_triplets_from_facts(cluster-balanced,hardest)-part1.jsonl', '/home/pamessina/medvqa-workspace/cache/mimiccxr/openai/gpt-3.5-turbo-0613_hard_triplets_from_facts(cluster-balanced,hardest)-part2.jsonl', '/home/pamessina/medvqa-workspace/cache/mimiccxr/openai/gpt-3.5-turbo-0613_hard_triplets_from_facts(cluster-balanced,hardest)-part3.jsonl']...\n",
      "2023-09-16 16:07:12,735 - \u001b[1;32mINFO\u001b[1;0m - Loaded 19937 rows from /home/pamessina/medvqa-workspace/cache/mimiccxr/openai/gpt-3.5-turbo-0613_hard_triplets_from_facts(cluster-balanced,hardest)-part1.jsonl.\n",
      "2023-09-16 16:07:13,205 - \u001b[1;32mINFO\u001b[1;0m - Loaded 19937 rows from /home/pamessina/medvqa-workspace/cache/mimiccxr/openai/gpt-3.5-turbo-0613_hard_triplets_from_facts(cluster-balanced,hardest)-part2.jsonl.\n",
      "2023-09-16 16:07:14,696 - \u001b[1;32mINFO\u001b[1;0m - Loaded 19943 rows from /home/pamessina/medvqa-workspace/cache/mimiccxr/openai/gpt-3.5-turbo-0613_hard_triplets_from_facts(cluster-balanced,hardest)-part3.jsonl.\n",
      "2023-09-16 16:07:14,880 - \u001b[1;32mINFO\u001b[1;0m - Loading Chest ImaGenome sentences and labels from /home/pamessina/medvqa-workspace/cache/mimiccxr/integrated_chest_imagenome_observations(9).pkl...\n",
      "2023-09-16 16:07:15,577 - \u001b[1;32mINFO\u001b[1;0m - len(group[\"sentences\"])=556111\n",
      "2023-09-16 16:07:16,472 - \u001b[1;32mINFO\u001b[1;0m - len(group[\"sentences\"])=2816982\n",
      "2023-09-16 16:07:16,474 - \u001b[1;32mINFO\u001b[1;0m - len(group[\"sentences\"])=5000\n",
      "2023-09-16 16:07:16,479 - \u001b[1;32mINFO\u001b[1;0m - len(group[\"sentences\"])=14859\n",
      "2023-09-16 16:07:16,485 - \u001b[1;32mINFO\u001b[1;0m - len(group[\"sentences\"])=19952\n",
      "2023-09-16 16:07:16,491 - \u001b[1;32mINFO\u001b[1;0m - len(group[\"sentences\"])=19959\n",
      "2023-09-16 16:07:16,494 - \u001b[1;32mINFO\u001b[1;0m - len(group[\"sentences\"])=9977\n",
      "2023-09-16 16:07:16,498 - \u001b[1;32mINFO\u001b[1;0m - len(group[\"sentences\"])=9974\n",
      "2023-09-16 16:07:16,501 - \u001b[1;32mINFO\u001b[1;0m - len(group[\"sentences\"])=9987\n",
      "2023-09-16 16:07:16,501 - \u001b[1;32mINFO\u001b[1;0m - Loading RadGraph sentences and labels from /mnt/workspace/pamessina/medvqa-workspace/cache/radgraph/label_sets_per_sentence.pkl...\n",
      "2023-09-16 16:07:23,897 - \u001b[1;32mINFO\u001b[1;0m - len(radgraph_data[train])=2170\n",
      "2023-09-16 16:07:23,899 - \u001b[1;32mINFO\u001b[1;0m - len(radgraph_data[dev])=430\n",
      "2023-09-16 16:07:23,899 - \u001b[1;32mINFO\u001b[1;0m - len(radgraph_data[test])=526\n",
      "2023-09-16 16:07:23,899 - \u001b[1;32mINFO\u001b[1;0m - len(radgraph_data[chexpert])=2270\n",
      "2023-09-16 16:07:23,901 - \u001b[1;32mINFO\u001b[1;0m - len(radgraph_data[mimiccxr])=635245\n",
      "2023-09-16 16:07:24,233 - \u001b[1;32mINFO\u001b[1;0m - Found 4374074 unique sentences.\n",
      "2023-09-16 16:07:43,469 - \u001b[1;32mINFO\u001b[1;0m - Found 318620 unique anatomical locations.\n",
      "2023-09-16 16:07:43,469 - \u001b[1;32mINFO\u001b[1;0m - len(anatloc2paraphrases)=28944\n",
      "2023-09-16 16:07:52,274 - \u001b[1;32mINFO\u001b[1;0m - Found 2395255 unique observations.\n",
      "2023-09-16 16:07:52,274 - \u001b[1;32mINFO\u001b[1;0m - len(obs2paraphrases)=164355\n",
      "2023-09-16 16:07:53,134 - \u001b[1;32mINFO\u001b[1;0m - Examples of anatomical locations:\n",
      "2023-09-16 16:07:53,135 - \u001b[1;32mINFO\u001b[1;0m - 0: '\n",
      "2023-09-16 16:07:53,135 - \u001b[1;32mINFO\u001b[1;0m - 35402: intrathoracic hernia\n",
      "2023-09-16 16:07:53,135 - \u001b[1;32mINFO\u001b[1;0m - 70804: left medial superior lobe\n",
      "2023-09-16 16:07:53,135 - \u001b[1;32mINFO\u001b[1;0m - 106206: just higher than the effusion\n",
      "2023-09-16 16:07:53,135 - \u001b[1;32mINFO\u001b[1;0m - 141608: subcutaneous tissue on the right\n",
      "2023-09-16 16:07:53,135 - \u001b[1;32mINFO\u001b[1;0m - 177010: paramediastinal region near the apex\n",
      "2023-09-16 16:07:53,135 - \u001b[1;32mINFO\u001b[1;0m - 212412: pulmonary artery at the interlobar level\n",
      "2023-09-16 16:07:53,135 - \u001b[1;32mINFO\u001b[1;0m - 247814: subsegment in the lower zone of the left lung\n",
      "2023-09-16 16:07:53,135 - \u001b[1;32mINFO\u001b[1;0m - 283216: ventral surface of the lower thoracic vertebral bones\n",
      "2023-09-16 16:07:53,135 - \u001b[1;32mINFO\u001b[1;0m - 318619: Identification of a mass in the lung or pleura at the back of the chest, observed on the lateral view, projecting over the pedicles of the lower thoracic spine\n",
      "2023-09-16 16:07:53,135 - \u001b[1;32mINFO\u001b[1;0m - Examples of observations:\n",
      "2023-09-16 16:07:53,135 - \u001b[1;32mINFO\u001b[1;0m - 0: 2\n",
      "2023-09-16 16:07:53,135 - \u001b[1;32mINFO\u001b[1;0m - 266139: small median sternotomy wires\n",
      "2023-09-16 16:07:53,135 - \u001b[1;32mINFO\u001b[1;0m - 532278: pleural effusion that comes and goes\n",
      "2023-09-16 16:07:53,135 - \u001b[1;32mINFO\u001b[1;0m - 798418: Right side of thorax has diminished volume\n",
      "2023-09-16 16:07:53,135 - \u001b[1;32mINFO\u001b[1;0m - 1064557: Nasogastric tube tip in at least distal stomach\n",
      "2023-09-16 16:07:53,135 - \u001b[1;32mINFO\u001b[1;0m - 1330696: Presence of Langerhans cell histiocytosis on imaging\n",
      "2023-09-16 16:07:53,135 - \u001b[1;32mINFO\u001b[1;0m - 1596836: opacity arising from the patient's bodily characteristics\n",
      "2023-09-16 16:07:53,135 - \u001b[1;32mINFO\u001b[1;0m - 1862975: lungs appear normal without any nodules suspicious for pneumonia\n",
      "2023-09-16 16:07:53,135 - \u001b[1;32mINFO\u001b[1;0m - 2129114: Similar opacity detected at the right hilum as seen in the previous imaging\n",
      "2023-09-16 16:07:53,135 - \u001b[1;32mINFO\u001b[1;0m - 2395254: worsening of combined alveolar opacities in the bilateral asymmetrically distributed combined interstitial opacities in the bilateral asymmetrically distributed combined alveolar opacities in the bilateral asymmetrically distributed combined interstitial opacities\n"
     ]
    },
    {
     "name": "stdout",
     "output_type": "stream",
     "text": [
      "  0%|                                               | 0/4374074 [00:00<?, ?it/s]Loading cached text embeddings from /mnt/workspace/pamessina/medvqa-workspace/cache/text_embeddings_cache(hash=315,2581617422603266970).pkl\n",
      "len(self.cache[\"hashes\"]) = 4704961\n",
      "self.cache[\"embeddings\"].shape = (4704961, 128)\n",
      "100%|█████████████████████████████| 4374074/4374074 [00:14<00:00, 301288.52it/s]\n",
      "2023-09-16 16:08:26,454 - \u001b[1;32mINFO\u001b[1;0m - embeddings.shape: (4374074, 128)\n",
      "Loading cached kmeans labels from /mnt/workspace/pamessina/medvqa-workspace/cache/kmeans_labels(11447145,1398886533558018037).pkl\n",
      "Loading cached kmeans labels from /mnt/workspace/pamessina/medvqa-workspace/cache/kmeans_labels(122685398,21121309784828603).pkl\n",
      "Loading cached kmeans labels from /mnt/workspace/pamessina/medvqa-workspace/cache/kmeans_labels(51574501,125274983419924537).pkl\n",
      "2023-09-16 16:08:59,457 - \u001b[1;32mINFO\u001b[1;0m - ============================================================\n",
      "2023-09-16 16:08:59,458 - \u001b[1;32mINFO\u001b[1;0m - Sampling triplets for anatomical locations...\n",
      "2023-09-16 16:08:59,458 - \u001b[1;32mINFO\u001b[1;0m - Rule 1: \"Rank paraphrases very highly\"\n",
      "  0%|                                                 | 0/28944 [00:00<?, ?it/s]2023-09-16 16:08:59,462 - \u001b[1;33mWARNING\u001b[1;0m - No paraphrases found for \"end\". Skipping...\n",
      "  9%|███▏                                 | 2530/28944 [00:04<00:41, 634.39it/s]2023-09-16 16:09:03,789 - \u001b[1;33mWARNING\u001b[1;0m - No paraphrases found for \"both locations\". Skipping...\n",
      " 67%|████████████████████████▎           | 19497/28944 [00:30<00:14, 652.54it/s]2023-09-16 16:09:31,163 - \u001b[1;33mWARNING\u001b[1;0m - No paraphrases found for \"right mid to upper lung laterally\". Skipping...\n",
      "100%|████████████████████████████████████| 28944/28944 [00:44<00:00, 648.77it/s]\n",
      "2023-09-16 16:09:44,072 - \u001b[1;32mINFO\u001b[1;0m - Actual number of triplets sampled for Rule 1: \"Rank paraphrases very highly\": 3442324\n",
      "2023-09-16 16:09:44,072 - \u001b[1;32mINFO\u001b[1;0m - Rule 2: \"Rank paraphrases very highly - Hard negative\"\n",
      "  0%|                                                 | 0/28944 [00:00<?, ?it/s]2023-09-16 16:09:44,074 - \u001b[1;33mWARNING\u001b[1;0m - No paraphrases found for \"end\". Skipping...\n",
      "  9%|███▍                                 | 2713/28944 [00:04<00:38, 681.06it/s]2023-09-16 16:09:48,110 - \u001b[1;33mWARNING\u001b[1;0m - No paraphrases found for \"both locations\". Skipping...\n",
      " 68%|████████████████████████▍           | 19624/28944 [00:28<00:13, 703.10it/s]2023-09-16 16:10:13,565 - \u001b[1;33mWARNING\u001b[1;0m - No paraphrases found for \"right mid to upper lung laterally\". Skipping...\n",
      "100%|████████████████████████████████████| 28944/28944 [00:41<00:00, 701.25it/s]\n",
      "2023-09-16 16:10:25,347 - \u001b[1;32mINFO\u001b[1;0m - Actual number of triplets sampled for Rule 2: \"Rank paraphrases very highly - Hard negative\": 3434231\n",
      "2023-09-16 16:10:25,348 - \u001b[1;32mINFO\u001b[1;0m - Rule 3: \"Rank some triplets according to CXR-BERT and Leveinshtein consensus\"\n",
      "100%|██████████████████████████████████| 318620/318620 [17:04<00:00, 310.89it/s]\n",
      "2023-09-16 16:27:30,213 - \u001b[1;32mINFO\u001b[1;0m - Actual number of triplets sampled for Rule 3: \"Rank some triplets according to CXR-BERT and Leveinshtein consensus\": 3186200\n",
      "2023-09-16 16:27:30,213 - \u001b[1;32mINFO\u001b[1;0m - ============================================================\n",
      "2023-09-16 16:27:30,213 - \u001b[1;32mINFO\u001b[1;0m - Sampling triplets for observations...\n",
      "2023-09-16 16:27:30,213 - \u001b[1;32mINFO\u001b[1;0m - Rule 1: \"Rank paraphrases very highly\"\n",
      "  0%|                                                | 0/164355 [00:00<?, ?it/s]2023-09-16 16:27:30,213 - \u001b[1;33mWARNING\u001b[1;0m - No paraphrases found for \"end\". Skipping...\n",
      "100%|█████████████████████████████████| 164355/164355 [01:03<00:00, 2587.44it/s]\n",
      "2023-09-16 16:28:33,734 - \u001b[1;32mINFO\u001b[1;0m - Actual number of triplets sampled for Rule 1: \"Rank paraphrases very highly\": 4059112\n",
      "2023-09-16 16:28:33,734 - \u001b[1;32mINFO\u001b[1;0m - Rule 2: \"Rank paraphrases very highly - Hard negative\"\n",
      "  0%|                                                | 0/164355 [00:00<?, ?it/s]2023-09-16 16:28:33,734 - \u001b[1;33mWARNING\u001b[1;0m - No paraphrases found for \"end\". Skipping...\n",
      "100%|█████████████████████████████████| 164355/164355 [00:57<00:00, 2872.97it/s]\n",
      "2023-09-16 16:29:30,942 - \u001b[1;32mINFO\u001b[1;0m - Actual number of triplets sampled for Rule 2: \"Rank paraphrases very highly - Hard negative\": 4057244\n",
      "2023-09-16 16:29:30,942 - \u001b[1;32mINFO\u001b[1;0m - ---------------------------------------\n",
      "2023-09-16 16:29:32,866 - \u001b[1;32mINFO\u001b[1;0m - len(hs2id): 7\n",
      "2023-09-16 16:29:32,866 - \u001b[1;32mINFO\u001b[1;0m - hs2id: {'ambiguous': 0, 'abnormal': 1, 'unknown': 2, 'normal': 3, 'resolved': 4, 'improved': 5, '': 6}\n",
      "2023-09-16 16:29:34,803 - \u001b[1;32mINFO\u001b[1;0m - Number of observations for each health status:\n",
      "2023-09-16 16:29:34,803 - \u001b[1;32mINFO\u001b[1;0m - 1162342 observations with health status \"abnormal\"\n",
      "2023-09-16 16:29:34,803 - \u001b[1;32mINFO\u001b[1;0m - 639730 observations with health status \"unknown\"\n",
      "2023-09-16 16:29:34,803 - \u001b[1;32mINFO\u001b[1;0m - 266976 observations with health status \"normal\"\n",
      "2023-09-16 16:29:34,803 - \u001b[1;32mINFO\u001b[1;0m - 144657 observations with health status \"ambiguous\"\n",
      "2023-09-16 16:29:34,803 - \u001b[1;32mINFO\u001b[1;0m - 977 observations with health status \"\"\n",
      "2023-09-16 16:29:34,803 - \u001b[1;32mINFO\u001b[1;0m - 164 observations with health status \"improved\"\n",
      "2023-09-16 16:29:34,803 - \u001b[1;32mINFO\u001b[1;0m - 67 observations with health status \"resolved\"\n",
      "2023-09-16 16:29:34,803 - \u001b[1;33mWARNING\u001b[1;0m - Could not find health status for 14863 paraphrased observations.\n",
      "2023-09-16 16:29:37,297 - \u001b[1;32mINFO\u001b[1;0m - len(hsid_cid_2_obs_idxs): 459\n",
      "2023-09-16 16:29:37,297 - \u001b[1;32mINFO\u001b[1;0m - len(obs_idx_2_hsid_cid): 2214913\n",
      "2023-09-16 16:29:37,297 - \u001b[1;32mINFO\u001b[1;0m - ---------------------------------------\n",
      "2023-09-16 16:29:37,297 - \u001b[1;32mINFO\u001b[1;0m - Rule 3: \"Rank some triplets according to CXR-BERT and Leveinshtein consensus, while anchor and positive share the same health status\"\n",
      "100%|████████████████████████████████| 2214913/2214913 [39:42<00:00, 929.70it/s]\n",
      "2023-09-16 17:09:19,694 - \u001b[1;32mINFO\u001b[1;0m - Actual number of triplets sampled for Rule 3: \"Rank some triplets according to CXR-BERT and Leveinshtein consensus, while anchor and positive share the same health status\": 4429792\n",
      "2023-09-16 17:09:19,694 - \u001b[1;32mINFO\u001b[1;0m - Rule 4: \"Hard health-status-vs-others triplets\"\n",
      "2023-09-16 17:09:19,840 - \u001b[1;32mINFO\u001b[1;0m - Number of observations with health status and paraphrases: 149626\n",
      "2023-09-16 17:09:19,840 - \u001b[1;32mINFO\u001b[1;0m - Number of observations with health status: 2214913\n",
      "2023-09-16 17:09:19,840 - \u001b[1;32mINFO\u001b[1;0m - Number of observations with paraphrases: 164355\n",
      "2023-09-16 17:09:19,840 - \u001b[1;32mINFO\u001b[1;0m - Number of triplets to sample per iteration: 21\n",
      "  0%|                                                | 0/149626 [00:00<?, ?it/s]2023-09-16 17:09:19,840 - \u001b[1;33mWARNING\u001b[1;0m - Not enough paraphrases found for \"end\". Skipping...\n",
      "100%|█████████████████████████████████| 149626/149626 [01:16<00:00, 1958.63it/s]\n",
      "2023-09-16 17:10:36,234 - \u001b[1;32mINFO\u001b[1;0m - Actual number of triplets sampled for Rule 4: \"Hard health-status-vs-others triplets\": 2604759\n",
      "2023-09-16 17:10:36,237 - \u001b[1;32mINFO\u001b[1;0m - Rule 5: \"Short observation, detailed observation, and fact must be close to each other\"\n",
      "100%|█████████████████████████████████| 595880/595880 [02:17<00:00, 4343.62it/s]\n",
      "2023-09-16 17:12:53,423 - \u001b[1;33mWARNING\u001b[1;0m - Failed to find enough observations for 64656/595880 integrated fact metadata rows.\n",
      "2023-09-16 17:12:53,423 - \u001b[1;32mINFO\u001b[1;0m - Actual number of triplets sampled for Rule 5: \"Short observation, detailed observation, and fact must be close to each other\": 6249226\n",
      "2023-09-16 17:12:53,691 - \u001b[1;32mINFO\u001b[1;0m - len(chest_imagenome_sentences): 3462801\n",
      "2023-09-16 17:12:53,691 - \u001b[1;32mINFO\u001b[1;0m - chest_imagenome_labels.shape: (3462801, 74)\n",
      "2023-09-16 17:12:53,691 - \u001b[1;32mINFO\u001b[1;0m - Rule 6: \"Rank triplets according to Chest ImaGenome labels\"\n",
      "100%|███████████████████████████████| 3462801/3462801 [13:29<00:00, 4275.09it/s]\n",
      "100%|███████████████████████████████████████████| 74/74 [03:20<00:00,  2.71s/it]\n",
      "2023-09-16 17:29:44,570 - \u001b[1;32mINFO\u001b[1;0m - Actual number of triplets sampled for Rule 6: \"Rank triplets according to Chest ImaGenome labels\": 3514298\n"
     ]
    },
    {
     "name": "stdout",
     "output_type": "stream",
     "text": [
      "2023-09-16 17:29:53,231 - \u001b[1;32mINFO\u001b[1;0m - Rule 7: \"RadGraph-based triplets\"\n",
      "2023-09-16 17:29:53,231 - \u001b[1;32mINFO\u001b[1;0m - len(sentence_labels_pairs)=637929\n",
      "2023-09-16 17:29:53,231 - \u001b[1;32mINFO\u001b[1;0m - Computing cluster2idxs...\n",
      "637929it [00:01, 441453.27it/s]\n",
      "2023-09-16 17:29:54,677 - \u001b[1;32mINFO\u001b[1;0m - Sampling triplets...\n",
      "2023-09-16 17:29:54,677 - \u001b[1;32mINFO\u001b[1;0m - n_triplets_per_anchor=5\n",
      "100%|██████████████████████████████████| 637929/637929 [12:42<00:00, 837.01it/s]\n",
      "2023-09-16 17:42:36,827 - \u001b[1;32mINFO\u001b[1;0m - Actual number of triplets sampled for Rule 7: \"RadGraph-based triplets\": 3174933\n",
      "2023-09-16 17:42:36,864 - \u001b[1;32mINFO\u001b[1;0m - Rule 8: \"Hard negative triplets generated by ChatGPT\"\n",
      "100%|███████████████████████████████████| 59817/59817 [00:08<00:00, 7433.48it/s]\n",
      "2023-09-16 17:42:44,912 - \u001b[1;32mINFO\u001b[1;0m - Actual number of triplets sampled for Rule 8: \"Hard negative triplets generated by ChatGPT\": 3046779\n",
      "2023-09-16 17:42:44,912 - \u001b[1;32mINFO\u001b[1;0m - Extracting triplets for validation and test sets...\n",
      "2023-09-16 17:43:32,119 - \u001b[1;32mINFO\u001b[1;0m - Saving triplets to /mnt/workspace/pamessina/medvqa-workspace/cache/mimiccxr/triplets(4374074,318620,2395255,3002000,1000,1000).pkl...\n",
      "2023-09-16 17:43:35,662 - \u001b[1;32mINFO\u001b[1;0m - Done!\n"
     ]
    }
   ],
   "source": [
    "!python ../../scripts/mimiccxr/sample_triplets_for_fact_embedding_learning.py \\\n",
    "--paraphrased_anatomical_locations_filepaths \\\n",
    "\"/home/pamessina/medvqa-workspace/cache/mimiccxr/openai/gpt-3.5-turbo-0613_paraphrased_anatomical_locations__part1.jsonl\" \\\n",
    "\"/home/pamessina/medvqa-workspace/cache/mimiccxr/openai/gpt-3.5-turbo-0613_paraphrased_anatomical_locations__part2.jsonl\" \\\n",
    "\"/home/pamessina/medvqa-workspace/cache/mimiccxr/openai/gpt-3.5-turbo-16k-0613_paraphrased_anatomical_locations__part3.jsonl\" \\\n",
    "--paraphrased_observations_filepaths \\\n",
    "\"/home/pamessina/medvqa-workspace/cache/mimiccxr/openai/gpt-3.5-turbo-0613_paraphrased_observations__single-words.jsonl\" \\\n",
    "\"/home/pamessina/medvqa-workspace/cache/mimiccxr/openai/gpt-3.5-turbo-0613_paraphrased_observations__two-or-more-words__part1.jsonl\" \\\n",
    "\"/home/pamessina/medvqa-workspace/cache/mimiccxr/openai/gpt-3.5-turbo-16k-0613_paraphrased_observations__two-or-more-words__part2.jsonl\" \\\n",
    "\"/home/pamessina/medvqa-workspace/cache/mimiccxr/openai/gpt-3.5-turbo-0613_paraphrased_observations__two-or-more-words__part3.jsonl\" \\\n",
    "\"/home/pamessina/medvqa-workspace/cache/mimiccxr/openai/gpt-3.5-turbo-16k-0613_paraphrased_observations__two-or-more-words__part4.jsonl\" \\\n",
    "\"/home/pamessina/medvqa-workspace/cache/mimiccxr/openai/gpt-4-0613_paraphrased_observations__two-or-more-words_cluster-balanced.jsonl\" \\\n",
    "\"/home/pamessina/medvqa-workspace/cache/mimiccxr/openai/gpt-3.5-turbo-0613_paraphrased_observations__two-or-more-words_cluster-balanced_1of5.jsonl\" \\\n",
    "\"/home/pamessina/medvqa-workspace/cache/mimiccxr/openai/gpt-3.5-turbo-0613_paraphrased_observations__two-or-more-words_cluster-balanced_2of5.jsonl\" \\\n",
    "\"/home/pamessina/medvqa-workspace/cache/mimiccxr/openai/gpt-3.5-turbo-0613_paraphrased_observations__two-or-more-words_cluster-balanced_3of5.jsonl\" \\\n",
    "\"/home/pamessina/medvqa-workspace/cache/mimiccxr/openai/gpt-3.5-turbo-0613_paraphrased_observations__two-or-more-words_cluster-balanced_4of5.jsonl\" \\\n",
    "--integrated_fact_metadata_filepath \\\n",
    "\"/home/pamessina/medvqa-workspace/cache/mimiccxr/integrated_fact_metadata(595880,60579117).improved_comparison(6741113).jsonl\" \\\n",
    "--chest_imagenome_sentences_and_labels_filepath \\\n",
    "\"/home/pamessina/medvqa-workspace/cache/mimiccxr/integrated_chest_imagenome_observations(9).pkl\" \\\n",
    "--radgraph_sentences_and_labels_filepath \\\n",
    "\"/mnt/workspace/pamessina/medvqa-workspace/cache/radgraph/label_sets_per_sentence.pkl\" \\\n",
    "--hard_triplets_from_facts_filepaths \\\n",
    "\"/home/pamessina/medvqa-workspace/cache/mimiccxr/openai/gpt-3.5-turbo-0613_hard_triplets_from_facts(cluster-balanced,hardest)-part1.jsonl\" \\\n",
    "\"/home/pamessina/medvqa-workspace/cache/mimiccxr/openai/gpt-3.5-turbo-0613_hard_triplets_from_facts(cluster-balanced,hardest)-part2.jsonl\" \\\n",
    "\"/home/pamessina/medvqa-workspace/cache/mimiccxr/openai/gpt-3.5-turbo-0613_hard_triplets_from_facts(cluster-balanced,hardest)-part3.jsonl\" \\\n",
    "--bert_model_name \"BiomedVLP-CXR-BERT-specialized\" \\\n",
    "--bert_checkpoint_folder_path \\\n",
    "\"/mnt/data/pamessina/workspaces/medvqa-workspace/models/fact_embedding/20230823_124048_MIMIC-CXR(GPT3.5,GPT4,CXR-BERT,triplet_loss,ChestImaGenome,RadGraph)_FactEncoder(microsoft-BiomedVLP-CXR-BERT-specialized)/\" \\\n",
    "--num_anatloc_clusters 100 \\\n",
    "--num_obs_clusters 100 \\\n",
    "--num_radgraph_clusters 100 \\\n",
    "--num_train_triplets_per_rule 3000000 \\\n",
    "--num_val_triplets_per_rule 1000 \\\n",
    "--num_test_triplets_per_rule 1000 \\\n",
    "--batch_size 400 \\\n",
    "--num_workers 4"
   ]
  },
  {
   "cell_type": "code",
   "execution_count": 1,
   "id": "98e41886",
   "metadata": {},
   "outputs": [],
   "source": [
    "from importlib import reload\n",
    "import medvqa"
   ]
  },
  {
   "cell_type": "code",
   "execution_count": 2,
   "id": "dbd9615f",
   "metadata": {},
   "outputs": [],
   "source": [
    "from medvqa.utils.files import load_pickle"
   ]
  },
  {
   "cell_type": "code",
   "execution_count": 3,
   "id": "3732b43d",
   "metadata": {},
   "outputs": [
    {
     "name": "stdout",
     "output_type": "stream",
     "text": [
      "-rw-rw-r-- 1 pamessina socvis 1.2G Sep 16 17:43 '/mnt/workspace/pamessina/medvqa-workspace/cache/mimiccxr/triplets(4374074,318620,2395255,3002000,1000,1000).pkl'\r\n"
     ]
    }
   ],
   "source": [
    "!ls -lh \"/mnt/workspace/pamessina/medvqa-workspace/cache/mimiccxr/triplets(4374074,318620,2395255,3002000,1000,1000).pkl\""
   ]
  },
  {
   "cell_type": "code",
   "execution_count": 4,
   "id": "b206ec79",
   "metadata": {},
   "outputs": [],
   "source": [
    "# triplets = load_pickle('/mnt/workspace/pamessina/medvqa-workspace/cache/mimiccxr/triplets(2286627,297669,1996654,2501000,1000).pkl')\n",
    "# triplets = load_pickle(\"/mnt/workspace/pamessina/medvqa-workspace/cache/mimiccxr/triplets(2842463,297669,1996654,2500100,100).pkl\")\n",
    "# triplets = load_pickle(\"/mnt/workspace/pamessina/medvqa-workspace/cache/mimiccxr/triplets(2842463,297669,1996654,2501000,1000).pkl\")\n",
    "# triplets = load_pickle(\"/mnt/workspace/pamessina/medvqa-workspace/cache/mimiccxr/triplets(3471872,297669,1996654,1200,100,100).pkl\")\n",
    "# triplets = load_pickle(\"/mnt/workspace/pamessina/medvqa-workspace/cache/mimiccxr/triplets(3471872,297669,1996654,2502000,1000,1000).pkl\")\n",
    "# triplets = load_pickle(\"/mnt/workspace/pamessina/medvqa-workspace/cache/mimiccxr/triplets(3482434,297669,2008308,3002000,1000,1000).pkl\")\n",
    "# triplets = load_pickle(\"/mnt/workspace/pamessina/medvqa-workspace/cache/mimiccxr/triplets(4458054,299586,2046553,3002000,1000,1000).pkl\")\n",
    "# triplets = load_pickle(\"/mnt/workspace/pamessina/medvqa-workspace/cache/mimiccxr/triplets(3482434,297669,2008308,10200,100,100).pkl\")\n",
    "triplets = load_pickle('/mnt/workspace/pamessina/medvqa-workspace/cache/mimiccxr/triplets(4374074,318620,2395255,3002000,1000,1000).pkl')"
   ]
  },
  {
   "cell_type": "code",
   "execution_count": 5,
   "id": "e18eab4e",
   "metadata": {},
   "outputs": [
    {
     "data": {
      "text/plain": [
       "dict_keys(['sentences', 'train', 'val', 'test'])"
      ]
     },
     "execution_count": 5,
     "metadata": {},
     "output_type": "execute_result"
    }
   ],
   "source": [
    "triplets.keys()"
   ]
  },
  {
   "cell_type": "code",
   "execution_count": 6,
   "id": "a247ab94",
   "metadata": {},
   "outputs": [
    {
     "data": {
      "text/plain": [
       "4374074"
      ]
     },
     "execution_count": 6,
     "metadata": {},
     "output_type": "execute_result"
    }
   ],
   "source": [
    "len(triplets['sentences'])"
   ]
  },
  {
   "cell_type": "code",
   "execution_count": 7,
   "id": "3dfd9661",
   "metadata": {},
   "outputs": [],
   "source": [
    "sentences = triplets['sentences']"
   ]
  },
  {
   "cell_type": "code",
   "execution_count": 8,
   "id": "19ebe356",
   "metadata": {},
   "outputs": [
    {
     "name": "stderr",
     "output_type": "stream",
     "text": [
      "\r",
      "  0%|                                                                                       | 0/4374074 [00:00<?, ?it/s]"
     ]
    },
    {
     "name": "stdout",
     "output_type": "stream",
     "text": [
      "Loading cached text embeddings from /mnt/workspace/pamessina/medvqa-workspace/cache/text_embeddings_cache(hash=315,2581617422603266970).pkl\n",
      "len(self.cache[\"hashes\"]) = 4704961\n",
      "self.cache[\"embeddings\"].shape = (4704961, 128)\n"
     ]
    },
    {
     "name": "stderr",
     "output_type": "stream",
     "text": [
      "100%|█████████████████████████████████████████████████████████████████████| 4374074/4374074 [00:12<00:00, 340262.06it/s]\n"
     ]
    }
   ],
   "source": [
    "from medvqa.models.huggingface_utils import CachedTextEmbeddingExtractor\n",
    "emb_extractor = CachedTextEmbeddingExtractor(\n",
    "    model_name='BiomedVLP-CXR-BERT-specialized',\n",
    "    model_checkpoint_folder_path=\"/mnt/data/pamessina/workspaces/medvqa-workspace/models/fact_embedding/20230823_124048_MIMIC-CXR(GPT3.5,GPT4,CXR-BERT,triplet_loss,ChestImaGenome,RadGraph)_FactEncoder(microsoft-BiomedVLP-CXR-BERT-specialized)/\",\n",
    ")\n",
    "embeddings = emb_extractor.compute_text_embeddings(sentences)"
   ]
  },
  {
   "cell_type": "code",
   "execution_count": 9,
   "id": "556ada7f",
   "metadata": {},
   "outputs": [
    {
     "data": {
      "text/plain": [
       "4374074"
      ]
     },
     "execution_count": 9,
     "metadata": {},
     "output_type": "execute_result"
    }
   ],
   "source": [
    "len(sentences)"
   ]
  },
  {
   "cell_type": "code",
   "execution_count": 10,
   "id": "2286cb2d",
   "metadata": {},
   "outputs": [
    {
     "data": {
      "text/plain": [
       "(4374074, 128)"
      ]
     },
     "execution_count": 10,
     "metadata": {},
     "output_type": "execute_result"
    }
   ],
   "source": [
    "embeddings.shape"
   ]
  },
  {
   "cell_type": "code",
   "execution_count": 11,
   "id": "999a9b31",
   "metadata": {},
   "outputs": [],
   "source": [
    "from medvqa.utils.math import rank_vectors_by_dot_product"
   ]
  },
  {
   "cell_type": "code",
   "execution_count": 104,
   "id": "2d29d883",
   "metadata": {},
   "outputs": [],
   "source": [
    "import random\n",
    "query_idx = sentences.index('cardiomegaly')\n",
    "# query_idx = random.randint(0, len(sentences)-1)"
   ]
  },
  {
   "cell_type": "code",
   "execution_count": 105,
   "id": "0a6d27ee",
   "metadata": {},
   "outputs": [],
   "source": [
    "indices = rank_vectors_by_dot_product(embeddings, embeddings[query_idx])"
   ]
  },
  {
   "cell_type": "code",
   "execution_count": 106,
   "id": "fe2af9ec",
   "metadata": {},
   "outputs": [
    {
     "name": "stdout",
     "output_type": "stream",
     "text": [
      "cardiomegaly\n",
      "\n",
      "Cardiomegaly\n",
      "CARDIOMEGALY\n",
      "cardiomegaly\n",
      "Cardiac hypertrophy\n",
      "cardiac hypertrophy\n",
      "cardiac cardiomegaly\n",
      "cardiac enlargement\n",
      "Cardiac enlargement\n",
      "enlarged myocardium\n",
      "heart hypertrophy\n",
      "hypertrophied heart\n",
      "excessively enlarged heart\n",
      "Excessively enlarged heart\n",
      "preexisting cardiomegaly\n",
      "excessive heart enlargement\n",
      "heart excessively enlarged\n",
      "hypertrophied cardiac silhouette\n",
      "Dilated cardiac silhouette\n",
      "dilated cardiac silhouette\n",
      "Enlarged heart\n",
      "ENLARGED HEART\n",
      "enlarged heart\n",
      "abnormal enlargement of the cardiac silhouette\n",
      "excessive cardiac size\n",
      "increase heart size\n",
      "hypertrophied heart silhouette\n",
      "heart enlargement\n",
      "Abnormal increase in heart size\n",
      "excessively enlarged heart shadow\n",
      "cardiomegally\n"
     ]
    }
   ],
   "source": [
    "print(sentences[query_idx])\n",
    "print()\n",
    "for i in indices[:30]:\n",
    "    print(sentences[i])\n",
    "    \n",
    "# import json\n",
    "# print()\n",
    "# print(json.dumps([sentences[i] for i in indices[:20]]))"
   ]
  },
  {
   "cell_type": "code",
   "execution_count": 15,
   "id": "8b7cc2d3",
   "metadata": {},
   "outputs": [],
   "source": [
    "def _print_triplet(t):\n",
    "    print('A:', sentences[t[0]])\n",
    "    print('P:', sentences[t[1]])\n",
    "    print('N:', sentences[t[2]])"
   ]
  },
  {
   "cell_type": "code",
   "execution_count": 621,
   "id": "60f278eb",
   "metadata": {},
   "outputs": [
    {
     "name": "stdout",
     "output_type": "stream",
     "text": [
      "Rank paraphrases very highly - Hard negative\n"
     ]
    },
    {
     "data": {
      "text/plain": [
       "3432231"
      ]
     },
     "execution_count": 621,
     "metadata": {},
     "output_type": "execute_result"
    }
   ],
   "source": [
    "ridx = 1\n",
    "print(triplets['train']['anatomical_locations'][ridx]['rule'])\n",
    "aux = triplets['train']['anatomical_locations'][ridx]['triplets']\n",
    "len(aux)"
   ]
  },
  {
   "cell_type": "code",
   "execution_count": 47,
   "id": "36cb821d",
   "metadata": {},
   "outputs": [
    {
     "name": "stdout",
     "output_type": "stream",
     "text": [
      "Rank triplets according to Chest ImaGenome labels\n"
     ]
    },
    {
     "data": {
      "text/plain": [
       "3512298"
      ]
     },
     "execution_count": 47,
     "metadata": {},
     "output_type": "execute_result"
    }
   ],
   "source": [
    "ridx = 5\n",
    "print(triplets['train']['observations'][ridx]['rule'])\n",
    "aux = triplets['train']['observations'][ridx]['triplets']\n",
    "len(aux)"
   ]
  },
  {
   "cell_type": "code",
   "execution_count": 97,
   "id": "2af485ce",
   "metadata": {},
   "outputs": [
    {
     "name": "stdout",
     "output_type": "stream",
     "text": [
      "A: potential remaining collapse of lung tissue at the lower left lung base towards the middle\n",
      "P: left lower lung infiltrate indicating collapsed lung\n",
      "N: No significant change in small right apical pneumothorax status post right sided chest tube removal.\n"
     ]
    }
   ],
   "source": [
    "import random\n",
    "_print_triplet(random.choice(aux))"
   ]
  },
  {
   "cell_type": "code",
   "execution_count": 18,
   "id": "956517b9",
   "metadata": {},
   "outputs": [],
   "source": [
    "chest_imagenome_labels = load_pickle(\"/home/pamessina/medvqa-workspace/cache/mimiccxr/integrated_chest_imagenome_observations(9).pkl\")"
   ]
  },
  {
   "cell_type": "code",
   "execution_count": 19,
   "id": "084da46c",
   "metadata": {},
   "outputs": [
    {
     "data": {
      "text/plain": [
       "dict_keys(['label_names', 'groups'])"
      ]
     },
     "execution_count": 19,
     "metadata": {},
     "output_type": "execute_result"
    }
   ],
   "source": [
    "chest_imagenome_labels.keys()"
   ]
  },
  {
   "cell_type": "code",
   "execution_count": 95,
   "id": "ed6fe04d",
   "metadata": {},
   "outputs": [
    {
     "name": "stdout",
     "output_type": "stream",
     "text": [
      "---------\n",
      "t5-small-finetuned\n",
      "\n",
      "reduced vertebral body heights\n",
      "\n",
      "spinal degenerative changes\n"
     ]
    }
   ],
   "source": [
    "q = \"reduced vertebral body heights\"\n",
    "# q = 'small linear opacity at the base of the left lung'\n",
    "\n",
    "for group in chest_imagenome_labels['groups']:\n",
    "    for i, s in enumerate(group['sentences']):\n",
    "        if s == q:\n",
    "            print('---------')\n",
    "            print(group['extraction_method'])\n",
    "            print()\n",
    "            print(s)\n",
    "            print()\n",
    "            for j, l in enumerate(group['labels'][i]):\n",
    "                if l == 1:\n",
    "                    print(chest_imagenome_labels['label_names'][j])"
   ]
  },
  {
   "cell_type": "code",
   "execution_count": 511,
   "id": "6838411d",
   "metadata": {},
   "outputs": [],
   "source": [
    "import numpy as np\n",
    "\n",
    "def dot_product_triplets_accuracy(vectors, A, P, N):\n",
    "    A = vectors[A]\n",
    "    P = vectors[P]\n",
    "    N = vectors[N]\n",
    "    AP = np.sum(A * P, axis=1)\n",
    "    AN = np.sum(A * N, axis=1)\n",
    "    return np.mean(AP > AN)"
   ]
  },
  {
   "cell_type": "code",
   "execution_count": 612,
   "id": "88280144",
   "metadata": {},
   "outputs": [
    {
     "data": {
      "text/plain": [
       "dict_keys(['sentences', 'train', 'val', 'test'])"
      ]
     },
     "execution_count": 612,
     "metadata": {},
     "output_type": "execute_result"
    }
   ],
   "source": [
    "triplets.keys()"
   ]
  },
  {
   "cell_type": "code",
   "execution_count": 527,
   "id": "7e723ac6",
   "metadata": {},
   "outputs": [
    {
     "name": "stdout",
     "output_type": "stream",
     "text": [
      "Rank paraphrases very highly - Hard negative\n"
     ]
    },
    {
     "data": {
      "text/plain": [
       "0.875"
      ]
     },
     "execution_count": 527,
     "metadata": {},
     "output_type": "execute_result"
    }
   ],
   "source": [
    "ridx = 1\n",
    "split = 'val'\n",
    "category  = 'anatomical_locations'\n",
    "# category  = 'observations'\n",
    "\n",
    "print(triplets[split][category][ridx]['rule'])\n",
    "\n",
    "A = triplets[split][category][ridx]['triplets'].T[0]\n",
    "P = triplets[split][category][ridx]['triplets'].T[1]\n",
    "N = triplets[split][category][ridx]['triplets'].T[2]\n",
    "\n",
    "dot_product_triplets_accuracy(embeddings, A, P, N)"
   ]
  },
  {
   "cell_type": "code",
   "execution_count": 56,
   "id": "7d2aace4",
   "metadata": {},
   "outputs": [],
   "source": [
    "clusters = load_pickle('/mnt/workspace/pamessina/medvqa-workspace/cache/mimiccxr/clusters(100,100297669,1315702).pkl')"
   ]
  },
  {
   "cell_type": "code",
   "execution_count": 57,
   "id": "d8f98b1e",
   "metadata": {},
   "outputs": [
    {
     "data": {
      "text/plain": [
       "dict_keys(['indices', 'clusters'])"
      ]
     },
     "execution_count": 57,
     "metadata": {},
     "output_type": "execute_result"
    }
   ],
   "source": [
    "clusters['anatomical_locations'].keys()"
   ]
  },
  {
   "cell_type": "code",
   "execution_count": 58,
   "id": "358dc4ee",
   "metadata": {},
   "outputs": [],
   "source": [
    "anatloc_cluster2indices = [[] for _ in range(max(clusters['anatomical_locations']['clusters'])+1)]\n",
    "for cid, idx in zip(clusters['anatomical_locations']['clusters'], clusters['anatomical_locations']['indices']):\n",
    "    anatloc_cluster2indices[cid].append(idx)"
   ]
  },
  {
   "cell_type": "code",
   "execution_count": 59,
   "id": "52803305",
   "metadata": {},
   "outputs": [
    {
     "data": {
      "text/plain": [
       "100"
      ]
     },
     "execution_count": 59,
     "metadata": {},
     "output_type": "execute_result"
    }
   ],
   "source": [
    "len(anatloc_cluster2indices)"
   ]
  },
  {
   "cell_type": "code",
   "execution_count": 60,
   "id": "8775a1b2",
   "metadata": {},
   "outputs": [],
   "source": [
    "obs_cluster2indices = [[] for _ in range(max(clusters['observations']['clusters'])+1)]\n",
    "for cid, idx in zip(clusters['observations']['clusters'], clusters['observations']['indices']):\n",
    "    obs_cluster2indices[cid].append(idx)"
   ]
  },
  {
   "cell_type": "code",
   "execution_count": 61,
   "id": "8a5a945a",
   "metadata": {},
   "outputs": [
    {
     "data": {
      "text/plain": [
       "100"
      ]
     },
     "execution_count": 61,
     "metadata": {},
     "output_type": "execute_result"
    }
   ],
   "source": [
    "len(obs_cluster2indices)"
   ]
  },
  {
   "cell_type": "code",
   "execution_count": 62,
   "id": "4ef981c0",
   "metadata": {},
   "outputs": [],
   "source": [
    "import matplotlib.pyplot as plt"
   ]
  },
  {
   "cell_type": "code",
   "execution_count": 63,
   "id": "394754c6",
   "metadata": {},
   "outputs": [
    {
     "data": {
      "image/png": "[encoded data removed]",
      "text/plain": [
       "<Figure size 640x480 with 1 Axes>"
      ]
     },
     "metadata": {},
     "output_type": "display_data"
    }
   ],
   "source": [
    "plt.hist([len(x) for x in anatloc_cluster2indices], bins=100)\n",
    "plt.show()"
   ]
  },
  {
   "cell_type": "code",
   "execution_count": 64,
   "id": "33616072",
   "metadata": {},
   "outputs": [
    {
     "data": {
      "image/png": "[encoded data removed]",
      "text/plain": [
       "<Figure size 640x480 with 1 Axes>"
      ]
     },
     "metadata": {},
     "output_type": "display_data"
    }
   ],
   "source": [
    "plt.hist([len(x) for x in obs_cluster2indices], bins=100)\n",
    "plt.show()"
   ]
  },
  {
   "cell_type": "code",
   "execution_count": 66,
   "id": "1cb239eb",
   "metadata": {},
   "outputs": [
    {
     "name": "stdout",
     "output_type": "stream",
     "text": [
      "right lateral aspect of the previously identified basilar pneumothorax\n",
      "superior right thoracic cavity\n",
      "right lung's superior aspect after surgery\n",
      "right chest wall in the lower area\n",
      "right-sided subcutaneous catheter\n",
      "right lung at the fifth intercostal notch\n",
      "right lateral space\n",
      "right lower mid chest compartment\n",
      "right lateral chest wall lower\n",
      "right upper lateral hemithoracic compartment\n",
      "lower in position compared to the right apical opacity\n",
      "remnant of the right upper lobe bronchus\n",
      "right chest walls\n",
      "located in front of the right major fissure\n",
      "upper apical area of the right hemithorax\n",
      "right lower chest wall lateral area\n",
      "right chest wall below the skin\n",
      "pleural membrane at the apex of the right lung\n",
      "right apical subpleural\n",
      "right hemithoracic apicolateral aspects\n"
     ]
    }
   ],
   "source": [
    "import random\n",
    "\n",
    "cid = 6\n",
    "for i in random.sample(anatloc_cluster2indices[cid], 20):\n",
    "    print(sentence_embeddings['sentences'][i])"
   ]
  },
  {
   "cell_type": "code",
   "execution_count": 67,
   "id": "7545795a",
   "metadata": {},
   "outputs": [
    {
     "name": "stdout",
     "output_type": "stream",
     "text": [
      "truncation of the right lateral collarbone\n",
      "degenerative changes at the right bilateral acromioclavicular joints\n",
      "rule out pneumonia\n",
      "possibility of small airways disease\n",
      "subtle opacity over left fourth rib\n",
      "lucency anteriorly on the previous lateral view\n",
      "probable innocuous calcified granuloma\n",
      "nodular opacification in the retrosternal region on the lateral view\n",
      "8-mm possible pulmonary nodule\n",
      "no consolidative opacity on the lateral view\n",
      "potential calcified granuloma\n",
      "minimal peribronchiolar opacities in the right infrahilar region\n",
      "small deviation of the fracture in the right posterolateral seventh rib\n",
      "exhibiting a posterior projection on the lateral view\n",
      "degenerative abnormalities of the AC joint in both shoulders\n",
      "no vertebral body depression fracture\n",
      "slight opacity in the outer region of the upper half of the chest\n",
      "likelihood of an enlarged thyroid gland on the right side\n",
      "nodular shadows projecting over the right anterior fifth rib\n",
      "subtle ovoid 7-8 mm nodular opacity projecting over the right lung base\n"
     ]
    }
   ],
   "source": [
    "cid = 6\n",
    "for i in random.sample(obs_cluster2indices[cid], 20):\n",
    "    print(sentence_embeddings['sentences'][i])"
   ]
  }
 ],
 "metadata": {
  "kernelspec": {
   "display_name": "venv2",
   "language": "python",
   "name": "venv2"
  },
  "language_info": {
   "codemirror_mode": {
    "name": "ipython",
    "version": 3
   },
   "file_extension": ".py",
   "mimetype": "text/x-python",
   "name": "python",
   "nbconvert_exporter": "python",
   "pygments_lexer": "ipython3",
   "version": "3.10.10"
  }
 },
 "nbformat": 4,
 "nbformat_minor": 5
}
