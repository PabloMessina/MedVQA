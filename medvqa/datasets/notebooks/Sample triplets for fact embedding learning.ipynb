{
 "cells": [
  {
   "cell_type": "code",
   "execution_count": 1,
   "id": "6a189c8a",
   "metadata": {},
   "outputs": [
    {
     "name": "stdout",
     "output_type": "stream",
     "text": [
      "env: CUDA_VISIBLE_DEVICES=0\n"
     ]
    }
   ],
   "source": [
    "%env CUDA_VISIBLE_DEVICES=0"
   ]
  },
  {
   "cell_type": "code",
   "execution_count": 2,
   "id": "83346fab",
   "metadata": {},
   "outputs": [
    {
     "name": "stdout",
     "output_type": "stream",
     "text": [
      " gpt-3.5-turbo-0301_comparisons__part1.jsonl\r\n",
      "'gpt-3.5-turbo-0301_comparisons__part1(obsolete).jsonl'\r\n",
      " gpt-3.5-turbo-0301_comparisons__part2.jsonl\r\n",
      " gpt-3.5-turbo-0301_parsed_sentences.jsonl\r\n",
      " gpt-3.5-turbo-0613_comparisons__part1.jsonl\r\n",
      " gpt-3.5-turbo-0613_comparisons__part2.jsonl\r\n",
      " gpt-3.5-turbo-0613_paraphrased_anatomical_locations__part1.jsonl\r\n",
      " gpt-3.5-turbo-0613_paraphrased_anatomical_locations__part2.jsonl\r\n",
      " gpt-3.5-turbo-0613_paraphrased_observations__single-words.jsonl\r\n",
      " gpt-3.5-turbo-0613_paraphrased_observations__two-or-more-words_cluster-balanced_1of5.jsonl\r\n",
      " gpt-3.5-turbo-0613_paraphrased_observations__two-or-more-words_cluster-balanced_2of5.jsonl\r\n",
      " gpt-3.5-turbo-0613_paraphrased_observations__two-or-more-words_cluster-balanced_3of5.jsonl\r\n",
      " gpt-3.5-turbo-0613_paraphrased_observations__two-or-more-words_cluster-balanced_4of5.jsonl\r\n",
      " gpt-3.5-turbo-0613_paraphrased_observations__two-or-more-words__part1.jsonl\r\n",
      " gpt-3.5-turbo-0613_paraphrased_observations__two-or-more-words__part3.jsonl\r\n",
      " gpt-3.5-turbo-0613_parsed_facts__hard.jsonl\r\n",
      " gpt-3.5-turbo-0613_parsed_facts__uniform.jsonl\r\n",
      " gpt-3.5-turbo-0613_parsed_facts__v2.jsonl\r\n",
      "'gpt-3.5-turbo-0613_parsed_facts__v2_offset=20000.jsonl'\r\n",
      "'gpt-3.5-turbo-0613_parsed_facts__v2_offset=40000_uniform.jsonl'\r\n",
      " gpt-3.5-turbo-0613_parsed_sentences__v2.jsonl\r\n",
      "'gpt-3.5-turbo-0613_parsed_sentences__v2(uniform).jsonl'\r\n",
      " gpt-3.5-turbo-16k-0613_paraphrased_anatomical_locations__part3.jsonl\r\n",
      " gpt-3.5-turbo-16k-0613_paraphrased_observations__two-or-more-words__part2.jsonl\r\n",
      " gpt-3.5-turbo-16k-0613_paraphrased_observations__two-or-more-words__part4.jsonl\r\n",
      " gpt-3.5-turbo_parsed_backgrounds.jsonl\r\n",
      " gpt-3.5-turbo_parsed_reports__backup.jsonl\r\n",
      " gpt-3.5-turbo_parsed_reports.jsonl\r\n",
      "'gpt-3.5-turbo_parsed_reports(old).jsonl'\r\n",
      " gpt-3.5-turbo_parsed_sentences.jsonl\r\n",
      " gpt-4-0613_paraphrased_observations__two-or-more-words_cluster-balanced.jsonl\r\n",
      " gpt-4-0613_parsed_reports.jsonl\r\n",
      " gpt-4-0613_parsed_sentences.jsonl\r\n",
      " gpt-4-0613_parsed_sentences__v2.jsonl\r\n"
     ]
    }
   ],
   "source": [
    "!ls /home/pamessina/medvqa-workspace/cache/mimiccxr/openai/"
   ]
  },
  {
   "cell_type": "code",
   "execution_count": 68,
   "id": "3e0106b3",
   "metadata": {
    "scrolled": false
   },
   "outputs": [
    {
     "name": "stdout",
     "output_type": "stream",
     "text": [
      "2023-07-14 09:38:46,794 - \u001b[1;32mINFO\u001b[1;0m - Collecting all sentences, observations and anatomical locations from input files...\n",
      "2023-07-14 09:38:46,794 - \u001b[1;32mINFO\u001b[1;0m - Loading integrated fact metadata from /home/pamessina/medvqa-workspace/cache/mimiccxr/integrated_fact_metadata(578733,58628071).jsonl...\n",
      "2023-07-14 09:38:55,083 - \u001b[1;32mINFO\u001b[1;0m - Found 578733 integrated fact metadata rows.\n",
      "2023-07-14 09:38:58,241 - \u001b[1;32mINFO\u001b[1;0m - Collecting strings from /home/pamessina/medvqa-workspace/cache/mimiccxr/openai/gpt-3.5-turbo-0613_paraphrased_anatomical_locations__part1.jsonl...\n",
      "2023-07-14 09:38:58,373 - \u001b[1;32mINFO\u001b[1;0m - Found 9891 paraphrased anatomical locations.\n",
      "2023-07-14 09:38:58,463 - \u001b[1;32mINFO\u001b[1;0m - Collecting strings from /home/pamessina/medvqa-workspace/cache/mimiccxr/openai/gpt-3.5-turbo-0613_paraphrased_anatomical_locations__part2.jsonl...\n",
      "2023-07-14 09:38:58,592 - \u001b[1;32mINFO\u001b[1;0m - Found 9890 paraphrased anatomical locations.\n",
      "2023-07-14 09:38:59,462 - \u001b[1;32mINFO\u001b[1;0m - Collecting strings from /home/pamessina/medvqa-workspace/cache/mimiccxr/openai/gpt-3.5-turbo-16k-0613_paraphrased_anatomical_locations__part3.jsonl...\n",
      "2023-07-14 09:38:59,580 - \u001b[1;32mINFO\u001b[1;0m - Found 8511 paraphrased anatomical locations.\n",
      "2023-07-14 09:38:59,666 - \u001b[1;32mINFO\u001b[1;0m - Found 297669 unique anatomical locations.\n",
      "2023-07-14 09:39:00,981 - \u001b[1;32mINFO\u001b[1;0m - Collecting strings from /home/pamessina/medvqa-workspace/cache/mimiccxr/openai/gpt-3.5-turbo-0613_paraphrased_observations__two-or-more-words__part1.jsonl...\n",
      "2023-07-14 09:39:01,154 - \u001b[1;32mINFO\u001b[1;0m - Found 14993 paraphrased observations.\n",
      "2023-07-14 09:39:01,271 - \u001b[1;32mINFO\u001b[1;0m - Collecting strings from /home/pamessina/medvqa-workspace/cache/mimiccxr/openai/gpt-3.5-turbo-16k-0613_paraphrased_observations__two-or-more-words__part2.jsonl...\n",
      "2023-07-14 09:39:01,460 - \u001b[1;32mINFO\u001b[1;0m - Found 14971 paraphrased observations.\n",
      "2023-07-14 09:39:01,631 - \u001b[1;32mINFO\u001b[1;0m - Collecting strings from /home/pamessina/medvqa-workspace/cache/mimiccxr/openai/gpt-3.5-turbo-0613_paraphrased_observations__two-or-more-words__part3.jsonl...\n",
      "2023-07-14 09:39:01,787 - \u001b[1;32mINFO\u001b[1;0m - Found 14972 paraphrased observations.\n",
      "2023-07-14 09:39:01,915 - \u001b[1;32mINFO\u001b[1;0m - Collecting strings from /home/pamessina/medvqa-workspace/cache/mimiccxr/openai/gpt-3.5-turbo-16k-0613_paraphrased_observations__two-or-more-words__part4.jsonl...\n",
      "2023-07-14 09:39:02,104 - \u001b[1;32mINFO\u001b[1;0m - Found 14965 paraphrased observations.\n",
      "2023-07-14 09:39:03,226 - \u001b[1;32mINFO\u001b[1;0m - Found 1315702 unique observations.\n",
      "2023-07-14 09:39:10,691 - \u001b[1;32mINFO\u001b[1;0m - Found 1605733 unique sentences.\n",
      "2023-07-14 09:39:21,847 - \u001b[1;32mINFO\u001b[1;0m - Examples of anatomical locations:\n",
      "2023-07-14 09:39:21,848 - \u001b[1;32mINFO\u001b[1;0m - 0: '\n",
      "2023-07-14 09:39:21,848 - \u001b[1;32mINFO\u001b[1;0m - 33074: left lung midsection\n",
      "2023-07-14 09:39:21,848 - \u001b[1;32mINFO\u001b[1;0m - 66148: left mid- and lower zones\n",
      "2023-07-14 09:39:21,848 - \u001b[1;32mINFO\u001b[1;0m - 99222: fundus portion of the stomach\n",
      "2023-07-14 09:39:21,848 - \u001b[1;32mINFO\u001b[1;0m - 132296: right mid-lateral lung territory\n",
      "2023-07-14 09:39:21,848 - \u001b[1;32mINFO\u001b[1;0m - 165371: located on the backside of the graft\n",
      "2023-07-14 09:39:21,848 - \u001b[1;32mINFO\u001b[1;0m - 198445: lower pigtail catheter on the right side\n",
      "2023-07-14 09:39:21,848 - \u001b[1;32mINFO\u001b[1;0m - 231519: outermost part of the right side of the chest\n",
      "2023-07-14 09:39:21,848 - \u001b[1;32mINFO\u001b[1;0m - 264593: lying on the first costochondral junction on the left\n",
      "2023-07-14 09:39:21,848 - \u001b[1;32mINFO\u001b[1;0m - 297668: overlying the region where the posterior part of the sixth rib on the left side overlaps with the anterior part of the fourth rib on the left side\n",
      "2023-07-14 09:39:21,848 - \u001b[1;32mINFO\u001b[1;0m - Examples of observations:\n",
      "2023-07-14 09:39:21,848 - \u001b[1;32mINFO\u001b[1;0m - 0: 2\n",
      "2023-07-14 09:39:21,848 - \u001b[1;32mINFO\u001b[1;0m - 146189: persistent marked scoliosis\n",
      "2023-07-14 09:39:21,848 - \u001b[1;32mINFO\u001b[1;0m - 292378: persistent splenic calcifications\n",
      "2023-07-14 09:39:21,848 - \u001b[1;32mINFO\u001b[1;0m - 438567: linear lucency in the lower right lung\n",
      "2023-07-14 09:39:21,849 - \u001b[1;32mINFO\u001b[1;0m - 584756: prior proximal right humeral rib fractures\n",
      "2023-07-14 09:39:21,849 - \u001b[1;32mINFO\u001b[1;0m - 730945: acute flare-up of chronic respiratory condition\n",
      "2023-07-14 09:39:21,849 - \u001b[1;32mINFO\u001b[1;0m - 877134: small linear opacity probably due to focal scarring\n",
      "2023-07-14 09:39:21,849 - \u001b[1;32mINFO\u001b[1;0m - 1023323: right hemidiaphragm suspicious for right pneumoperitoneum\n",
      "2023-07-14 09:39:21,849 - \u001b[1;32mINFO\u001b[1;0m - 1169512: slightly increased pneumomediastinum alongside the left upper lobe\n",
      "2023-07-14 09:39:21,849 - \u001b[1;32mINFO\u001b[1;0m - 1315701: worsening of combined alveolar opacities in the bilateral asymmetrically distributed combined interstitial opacities in the bilateral asymmetrically distributed combined alveolar opacities in the bilateral asymmetrically distributed combined interstitial opacities\n",
      "2023-07-14 09:39:22,410 - \u001b[1;32mINFO\u001b[1;0m - Found precomputed sentence embeddings at /mnt/workspace/pamessina/medvqa-workspace/cache/mimiccxr/cxr_bert_sentence_embeddings(1605733,71051120).pkl. Loading...\n",
      "2023-07-14 09:39:23,723 - \u001b[1;32mINFO\u001b[1;0m - Found precomputed clusters at /mnt/workspace/pamessina/medvqa-workspace/cache/mimiccxr/clusters(100,100297669,1315702).pkl. Loading...\n",
      "2023-07-14 09:39:25,299 - \u001b[1;32mINFO\u001b[1;0m - ============================================================\n",
      "2023-07-14 09:39:25,299 - \u001b[1;32mINFO\u001b[1;0m - Sampling triplets for anatomical locations...\n",
      "2023-07-14 09:39:25,299 - \u001b[1;32mINFO\u001b[1;0m - ---------------------------------------\n",
      "Rule 1: \"Rank paraphrases very highly\"\n",
      "  0%|                                                 | 0/28292 [00:00<?, ?it/s]2023-07-14 09:39:25,302 - \u001b[1;33mWARNING\u001b[1;0m - No paraphrases found for \"end\". Skipping...\n",
      "  7%|██▌                                 | 2055/28292 [00:02<00:25, 1027.49it/s]2023-07-14 09:39:27,813 - \u001b[1;33mWARNING\u001b[1;0m - No paraphrases found for \"both locations\". Skipping...\n",
      " 64%|██████████████████████▎            | 18026/28292 [00:14<00:07, 1310.31it/s]2023-07-14 09:39:41,268 - \u001b[1;33mWARNING\u001b[1;0m - No paraphrases found for \"right mid to upper lung laterally\". Skipping...\n",
      "100%|███████████████████████████████████| 28292/28292 [00:21<00:00, 1289.21it/s]\n",
      "2023-07-14 09:39:47,247 - \u001b[1;32mINFO\u001b[1;0m - Actual number of triplets sampled for Rule 1: \"Rank paraphrases very highly\": 1504826\n",
      "2023-07-14 09:39:47,247 - \u001b[1;32mINFO\u001b[1;0m - ---------------------------------------\n",
      "Rule 1.1: \"Rank paraphrases very highly - Hard negative\"\n",
      "  0%|                                                 | 0/28292 [00:00<?, ?it/s]2023-07-14 09:39:47,248 - \u001b[1;33mWARNING\u001b[1;0m - No paraphrases found for \"end\". Skipping...\n",
      "  5%|█▊                                   | 1396/28292 [00:02<00:38, 697.96it/s]2023-07-14 09:39:50,625 - \u001b[1;33mWARNING\u001b[1;0m - No paraphrases found for \"both locations\". Skipping...\n",
      " 70%|████████████████████████▋          | 19913/28292 [00:20<00:08, 1002.75it/s]2023-07-14 09:40:08,018 - \u001b[1;33mWARNING\u001b[1;0m - No paraphrases found for \"right mid to upper lung laterally\". Skipping...\n",
      "100%|███████████████████████████████████| 28292/28292 [00:28<00:00, 1008.39it/s]\n",
      "2023-07-14 09:40:15,304 - \u001b[1;32mINFO\u001b[1;0m - Actual number of triplets sampled for Rule 1.1: \"Rank paraphrases very highly - Hard negative\": 1494278\n",
      "2023-07-14 09:40:15,304 - \u001b[1;32mINFO\u001b[1;0m - ---------------------------------------\n",
      "Rule 2: \"Rank some triplets according to CXR-BERT and Leveinshtein consensus\"\n",
      "100%|██████████████████████████████████| 297669/297669 [05:08<00:00, 964.03it/s]\n",
      "2023-07-14 09:45:24,080 - \u001b[1;32mINFO\u001b[1;0m - Actual number of triplets sampled for Rule 2: \"Rank some triplets according to CXR-BERT and Leveinshtein consensus\": 1315916\n",
      "2023-07-14 09:45:24,080 - \u001b[1;32mINFO\u001b[1;0m - ============================================================\n",
      "2023-07-14 09:45:24,080 - \u001b[1;32mINFO\u001b[1;0m - Sampling triplets for observations...\n",
      "2023-07-14 09:45:24,080 - \u001b[1;32mINFO\u001b[1;0m - ---------------------------------------\n",
      "Rule 1: \"Rank paraphrases very highly\"\n",
      "100%|████████████████████████████████████| 59901/59901 [01:09<00:00, 864.02it/s]\n",
      "2023-07-14 09:46:33,410 - \u001b[1;32mINFO\u001b[1;0m - Actual number of triplets sampled for Rule 1: \"Rank paraphrases very highly\": 5383418\n",
      "2023-07-14 09:46:33,410 - \u001b[1;32mINFO\u001b[1;0m - ---------------------------------------\n",
      "Rule 1.1: \"Rank paraphrases very highly - Hard negative\"\n"
     ]
    },
    {
     "name": "stdout",
     "output_type": "stream",
     "text": [
      "100%|████████████████████████████████████| 59901/59901 [01:19<00:00, 754.33it/s]\n",
      "2023-07-14 09:47:52,820 - \u001b[1;32mINFO\u001b[1;0m - Actual number of triplets sampled for Rule 1.1: \"Rank paraphrases very highly - Hard negative\": 5373063\n",
      "2023-07-14 09:47:52,820 - \u001b[1;32mINFO\u001b[1;0m - ---------------------------------------\n",
      "2023-07-14 09:47:55,925 - \u001b[1;32mINFO\u001b[1;0m - len(hs2id): 7\n",
      "2023-07-14 09:47:55,925 - \u001b[1;32mINFO\u001b[1;0m - hs2id: {'ambiguous': 0, 'abnormal': 1, 'unknown': 2, 'normal': 3, 'resolved': 4, 'improved': 5, '': 6}\n",
      "2023-07-14 09:47:57,605 - \u001b[1;32mINFO\u001b[1;0m - Number of observations for each health status:\n",
      "2023-07-14 09:47:57,605 - \u001b[1;32mINFO\u001b[1;0m - 669229 observations with health status \"abnormal\"\n",
      "2023-07-14 09:47:57,605 - \u001b[1;32mINFO\u001b[1;0m - 392492 observations with health status \"unknown\"\n",
      "2023-07-14 09:47:57,605 - \u001b[1;32mINFO\u001b[1;0m - 164968 observations with health status \"normal\"\n",
      "2023-07-14 09:47:57,605 - \u001b[1;32mINFO\u001b[1;0m - 88490 observations with health status \"ambiguous\"\n",
      "2023-07-14 09:47:57,605 - \u001b[1;32mINFO\u001b[1;0m - 463 observations with health status \"\"\n",
      "2023-07-14 09:47:57,605 - \u001b[1;32mINFO\u001b[1;0m - 52 observations with health status \"improved\"\n",
      "2023-07-14 09:47:57,605 - \u001b[1;32mINFO\u001b[1;0m - 8 observations with health status \"resolved\"\n",
      "2023-07-14 09:48:00,822 - \u001b[1;32mINFO\u001b[1;0m - len(hsid_cid_2_obs_idxs): 469\n",
      "2023-07-14 09:48:00,823 - \u001b[1;32mINFO\u001b[1;0m - len(obs_idx_2_hsid_cid): 1315702\n",
      "Rule 2: \"Rank some triplets according to CXR-BERT and Leveinshtein consensus, while anchor and positive share the same health status\"\n",
      "100%|███████████████████████████████| 1315702/1315702 [20:09<00:00, 1087.80it/s]\n",
      "2023-07-14 10:08:10,326 - \u001b[1;32mINFO\u001b[1;0m - Actual number of triplets sampled for Rule 2: \"Rank some triplets according to CXR-BERT and Leveinshtein consensus, while anchor and positive share the same health status\": 4440769\n",
      "2023-07-14 10:08:10,326 - \u001b[1;32mINFO\u001b[1;0m - ---------------------------------------\n",
      "Rule 3: \"Hard health-status-vs-others triplets\"\n",
      "n_triplets_per_iter: 84\n",
      "100%|████████████████████████████████████| 59901/59901 [02:45<00:00, 361.60it/s]\n",
      "2023-07-14 10:10:55,981 - \u001b[1;32mINFO\u001b[1;0m - Actual number of triplets sampled for Rule 3: \"Hard health-status-vs-others triplets\": 4910133\n",
      "2023-07-14 10:10:55,981 - \u001b[1;32mINFO\u001b[1;0m - Extracting triplets for validation set...\n",
      "2023-07-14 10:11:37,372 - \u001b[1;32mINFO\u001b[1;0m - Saving triplets to /mnt/workspace/pamessina/medvqa-workspace/cache/mimiccxr/triplets(1605733,297669,1315702,4001000,20002000,1000,2000).pkl...\n",
      "2023-07-14 10:11:39,087 - \u001b[1;32mINFO\u001b[1;0m - Done!\n"
     ]
    }
   ],
   "source": [
    "!python ../../scripts/mimiccxr/sample_triplets_for_fact_embedding_learning.py \\\n",
    "--precomputed_sentence_embeddings_filepath \\\n",
    "\"/mnt/workspace/pamessina/medvqa-workspace/cache/mimiccxr/cxr_bert_sentence_embeddings(1605733,71051120).pkl\" \\\n",
    "--paraphrased_anatomical_locations_filepaths \\\n",
    "\"/home/pamessina/medvqa-workspace/cache/mimiccxr/openai/gpt-3.5-turbo-0613_paraphrased_anatomical_locations__part1.jsonl\" \\\n",
    "\"/home/pamessina/medvqa-workspace/cache/mimiccxr/openai/gpt-3.5-turbo-0613_paraphrased_anatomical_locations__part2.jsonl\" \\\n",
    "\"/home/pamessina/medvqa-workspace/cache/mimiccxr/openai/gpt-3.5-turbo-16k-0613_paraphrased_anatomical_locations__part3.jsonl\" \\\n",
    "--paraphrased_observations_filepaths \\\n",
    "\"/home/pamessina/medvqa-workspace/cache/mimiccxr/openai/gpt-3.5-turbo-0613_paraphrased_observations__two-or-more-words__part1.jsonl\" \\\n",
    "\"/home/pamessina/medvqa-workspace/cache/mimiccxr/openai/gpt-3.5-turbo-16k-0613_paraphrased_observations__two-or-more-words__part2.jsonl\" \\\n",
    "\"/home/pamessina/medvqa-workspace/cache/mimiccxr/openai/gpt-3.5-turbo-0613_paraphrased_observations__two-or-more-words__part3.jsonl\" \\\n",
    "\"/home/pamessina/medvqa-workspace/cache/mimiccxr/openai/gpt-3.5-turbo-16k-0613_paraphrased_observations__two-or-more-words__part4.jsonl\" \\\n",
    "\"/home/pamessina/medvqa-workspace/cache/mimiccxr/openai/gpt-4-0613_paraphrased_observations__two-or-more-words_cluster-balanced.jsonl\" \\\n",
    "\"/home/pamessina/medvqa-workspace/cache/mimiccxr/openai/gpt-3.5-turbo-0613_paraphrased_observations__two-or-more-words_cluster-balanced_1of5.jsonl\" \\\n",
    "\"/home/pamessina/medvqa-workspace/cache/mimiccxr/openai/gpt-3.5-turbo-0613_paraphrased_observations__two-or-more-words_cluster-balanced_2of5.jsonl\" \\\n",
    "\"/home/pamessina/medvqa-workspace/cache/mimiccxr/openai/gpt-3.5-turbo-0613_paraphrased_observations__two-or-more-words_cluster-balanced_3of5.jsonl\" \\\n",
    "\"/home/pamessina/medvqa-workspace/cache/mimiccxr/openai/gpt-3.5-turbo-0613_paraphrased_observations__two-or-more-words_cluster-balanced_4of5.jsonl\" \\\n",
    "--integrated_fact_metadata_filepath \\\n",
    "\"/home/pamessina/medvqa-workspace/cache/mimiccxr/integrated_fact_metadata(578733,58628071).jsonl\" \\\n",
    "--num_anatloc_clusters 100 \\\n",
    "--num_obs_clusters 100 \\\n",
    "--num_train_anatloc_triplets 4000000 \\\n",
    "--num_train_obs_triplets 20000000 \\\n",
    "--num_val_anatloc_triplets 1000 \\\n",
    "--num_val_obs_triplets 2000 \\\n",
    "--batch_size 450 \\\n",
    "--num_workers 10"
   ]
  },
  {
   "cell_type": "code",
   "execution_count": 202,
   "id": "690b6e9f",
   "metadata": {
    "scrolled": false
   },
   "outputs": [
    {
     "name": "stdout",
     "output_type": "stream",
     "text": [
      "2023-07-21 02:28:22,238 - \u001b[1;32mINFO\u001b[1;0m - Collecting all sentences, observations and anatomical locations from input files...\n",
      "2023-07-21 02:28:22,238 - \u001b[1;32mINFO\u001b[1;0m - Loading integrated fact metadata from /home/pamessina/medvqa-workspace/cache/mimiccxr/integrated_fact_metadata(578733,58628071).jsonl...\n",
      "2023-07-21 02:28:27,531 - \u001b[1;32mINFO\u001b[1;0m - Found 578733 integrated fact metadata rows.\n",
      "2023-07-21 02:28:29,130 - \u001b[1;32mINFO\u001b[1;0m - Collecting strings from /home/pamessina/medvqa-workspace/cache/mimiccxr/openai/gpt-3.5-turbo-0613_paraphrased_anatomical_locations__part1.jsonl...\n",
      "2023-07-21 02:28:29,211 - \u001b[1;32mINFO\u001b[1;0m - Found 9891 paraphrased anatomical locations.\n",
      "2023-07-21 02:28:29,293 - \u001b[1;32mINFO\u001b[1;0m - Collecting strings from /home/pamessina/medvqa-workspace/cache/mimiccxr/openai/gpt-3.5-turbo-0613_paraphrased_anatomical_locations__part2.jsonl...\n",
      "2023-07-21 02:28:29,381 - \u001b[1;32mINFO\u001b[1;0m - Found 9890 paraphrased anatomical locations.\n",
      "2023-07-21 02:28:30,033 - \u001b[1;32mINFO\u001b[1;0m - Collecting strings from /home/pamessina/medvqa-workspace/cache/mimiccxr/openai/gpt-3.5-turbo-16k-0613_paraphrased_anatomical_locations__part3.jsonl...\n",
      "2023-07-21 02:28:30,116 - \u001b[1;32mINFO\u001b[1;0m - Found 8511 paraphrased anatomical locations.\n",
      "2023-07-21 02:28:30,185 - \u001b[1;32mINFO\u001b[1;0m - Found 297669 unique anatomical locations.\n",
      "2023-07-21 02:28:31,011 - \u001b[1;32mINFO\u001b[1;0m - Collecting strings from /home/pamessina/medvqa-workspace/cache/mimiccxr/openai/gpt-3.5-turbo-0613_paraphrased_observations__two-or-more-words__part1.jsonl...\n",
      "2023-07-21 02:28:31,123 - \u001b[1;32mINFO\u001b[1;0m - Found 14993 paraphrased observations.\n",
      "2023-07-21 02:28:31,235 - \u001b[1;32mINFO\u001b[1;0m - Collecting strings from /home/pamessina/medvqa-workspace/cache/mimiccxr/openai/gpt-3.5-turbo-16k-0613_paraphrased_observations__two-or-more-words__part2.jsonl...\n",
      "2023-07-21 02:28:31,357 - \u001b[1;32mINFO\u001b[1;0m - Found 14971 paraphrased observations.\n",
      "2023-07-21 02:28:31,506 - \u001b[1;32mINFO\u001b[1;0m - Collecting strings from /home/pamessina/medvqa-workspace/cache/mimiccxr/openai/gpt-3.5-turbo-0613_paraphrased_observations__two-or-more-words__part3.jsonl...\n",
      "2023-07-21 02:28:31,627 - \u001b[1;32mINFO\u001b[1;0m - Found 14972 paraphrased observations.\n",
      "2023-07-21 02:28:31,737 - \u001b[1;32mINFO\u001b[1;0m - Collecting strings from /home/pamessina/medvqa-workspace/cache/mimiccxr/openai/gpt-3.5-turbo-16k-0613_paraphrased_observations__two-or-more-words__part4.jsonl...\n",
      "2023-07-21 02:28:31,859 - \u001b[1;32mINFO\u001b[1;0m - Found 14965 paraphrased observations.\n",
      "2023-07-21 02:28:32,742 - \u001b[1;32mINFO\u001b[1;0m - Collecting strings from /home/pamessina/medvqa-workspace/cache/mimiccxr/openai/gpt-4-0613_paraphrased_observations__two-or-more-words_cluster-balanced.jsonl...\n",
      "2023-07-21 02:28:32,842 - \u001b[1;32mINFO\u001b[1;0m - Found 10000 paraphrased observations.\n",
      "2023-07-21 02:28:32,922 - \u001b[1;32mINFO\u001b[1;0m - Collecting strings from /home/pamessina/medvqa-workspace/cache/mimiccxr/openai/gpt-3.5-turbo-0613_paraphrased_observations__two-or-more-words_cluster-balanced_1of5.jsonl...\n",
      "2023-07-21 02:28:33,019 - \u001b[1;32mINFO\u001b[1;0m - Found 9999 paraphrased observations.\n",
      "2023-07-21 02:28:33,099 - \u001b[1;32mINFO\u001b[1;0m - Collecting strings from /home/pamessina/medvqa-workspace/cache/mimiccxr/openai/gpt-3.5-turbo-0613_paraphrased_observations__two-or-more-words_cluster-balanced_2of5.jsonl...\n",
      "2023-07-21 02:28:33,202 - \u001b[1;32mINFO\u001b[1;0m - Found 9997 paraphrased observations.\n",
      "2023-07-21 02:28:33,287 - \u001b[1;32mINFO\u001b[1;0m - Collecting strings from /home/pamessina/medvqa-workspace/cache/mimiccxr/openai/gpt-3.5-turbo-0613_paraphrased_observations__two-or-more-words_cluster-balanced_3of5.jsonl...\n",
      "2023-07-21 02:28:33,387 - \u001b[1;32mINFO\u001b[1;0m - Found 9994 paraphrased observations.\n",
      "2023-07-21 02:28:33,473 - \u001b[1;32mINFO\u001b[1;0m - Collecting strings from /home/pamessina/medvqa-workspace/cache/mimiccxr/openai/gpt-3.5-turbo-0613_paraphrased_observations__two-or-more-words_cluster-balanced_4of5.jsonl...\n",
      "2023-07-21 02:28:33,572 - \u001b[1;32mINFO\u001b[1;0m - Found 9996 paraphrased observations.\n",
      "2023-07-21 02:28:33,656 - \u001b[1;32mINFO\u001b[1;0m - Found 1996654 unique observations.\n",
      "2023-07-21 02:28:41,197 - \u001b[1;32mINFO\u001b[1;0m - Found 2286627 unique sentences.\n",
      "2023-07-21 02:28:51,683 - \u001b[1;32mINFO\u001b[1;0m - Examples of anatomical locations:\n",
      "2023-07-21 02:28:51,683 - \u001b[1;32mINFO\u001b[1;0m - 0: '\n",
      "2023-07-21 02:28:51,683 - \u001b[1;32mINFO\u001b[1;0m - 33074: left lung midsection\n",
      "2023-07-21 02:28:51,683 - \u001b[1;32mINFO\u001b[1;0m - 66148: left mid- and lower zones\n",
      "2023-07-21 02:28:51,684 - \u001b[1;32mINFO\u001b[1;0m - 99222: fundus portion of the stomach\n",
      "2023-07-21 02:28:51,684 - \u001b[1;32mINFO\u001b[1;0m - 132296: right mid-lateral lung territory\n",
      "2023-07-21 02:28:51,684 - \u001b[1;32mINFO\u001b[1;0m - 165371: located on the backside of the graft\n",
      "2023-07-21 02:28:51,684 - \u001b[1;32mINFO\u001b[1;0m - 198445: lower pigtail catheter on the right side\n",
      "2023-07-21 02:28:51,684 - \u001b[1;32mINFO\u001b[1;0m - 231519: outermost part of the right side of the chest\n",
      "2023-07-21 02:28:51,684 - \u001b[1;32mINFO\u001b[1;0m - 264593: lying on the first costochondral junction on the left\n",
      "2023-07-21 02:28:51,684 - \u001b[1;32mINFO\u001b[1;0m - 297668: overlying the region where the posterior part of the sixth rib on the left side overlaps with the anterior part of the fourth rib on the left side\n",
      "2023-07-21 02:28:51,684 - \u001b[1;32mINFO\u001b[1;0m - Examples of observations:\n",
      "2023-07-21 02:28:51,684 - \u001b[1;32mINFO\u001b[1;0m - 0: 2\n",
      "2023-07-21 02:28:51,684 - \u001b[1;32mINFO\u001b[1;0m - 221850: PICC line tip in the lower SVC\n",
      "2023-07-21 02:28:51,684 - \u001b[1;32mINFO\u001b[1;0m - 443700: pacemaker leads positioned in the RV\n",
      "2023-07-21 02:28:51,684 - \u001b[1;32mINFO\u001b[1;0m - 665551: thickening along the right lateral pleura\n",
      "2023-07-21 02:28:51,684 - \u001b[1;32mINFO\u001b[1;0m - 887401: nodule previously characterized as a hamartoma\n",
      "2023-07-21 02:28:51,684 - \u001b[1;32mINFO\u001b[1;0m - 1109251: indistinct haziness over the right lower lung field\n",
      "2023-07-21 02:28:51,684 - \u001b[1;32mINFO\u001b[1;0m - 1331102: substantial air and fluid effusion in the pleural cavity\n",
      "2023-07-21 02:28:51,684 - \u001b[1;32mINFO\u001b[1;0m - 1552952: calcified pleural plaque projecting over the right heart border\n",
      "2023-07-21 02:28:51,684 - \u001b[1;32mINFO\u001b[1;0m - 1774802: There is a slight enhancement of opacity in the right cardiophrenic angle\n",
      "2023-07-21 02:28:51,684 - \u001b[1;32mINFO\u001b[1;0m - 1996653: worsening of combined alveolar opacities in the bilateral asymmetrically distributed combined interstitial opacities in the bilateral asymmetrically distributed combined alveolar opacities in the bilateral asymmetrically distributed combined interstitial opacities\n",
      "2023-07-21 02:28:52,259 - \u001b[1;32mINFO\u001b[1;0m - Found precomputed sentence embeddings at /mnt/workspace/pamessina/medvqa-workspace/cache/mimiccxr/cxr_bert_sentence_embeddings(2286627,111346983).pkl. Loading...\n",
      "2023-07-21 02:28:53,612 - \u001b[1;32mINFO\u001b[1;0m - Found precomputed clusters at /mnt/workspace/pamessina/medvqa-workspace/cache/mimiccxr/clusters(100,100297669,1996654).pkl. Loading...\n",
      "2023-07-21 02:28:54,785 - \u001b[1;32mINFO\u001b[1;0m - ============================================================\n",
      "2023-07-21 02:28:54,785 - \u001b[1;32mINFO\u001b[1;0m - Sampling triplets for anatomical locations...\n",
      "2023-07-21 02:28:54,785 - \u001b[1;32mINFO\u001b[1;0m - Rule 1: \"Rank paraphrases very highly\"\n",
      "  0%|                                                 | 0/28292 [00:00<?, ?it/s]2023-07-21 02:28:54,788 - \u001b[1;33mWARNING\u001b[1;0m - No paraphrases found for \"end\". Skipping...\n",
      "  9%|███▍                                 | 2586/28292 [00:04<00:38, 660.39it/s]2023-07-21 02:28:58,995 - \u001b[1;33mWARNING\u001b[1;0m - No paraphrases found for \"both locations\". Skipping...\n",
      " 71%|█████████████████████████▌          | 20095/28292 [00:28<00:11, 728.29it/s]2023-07-21 02:29:23,481 - \u001b[1;33mWARNING\u001b[1;0m - No paraphrases found for \"right mid to upper lung laterally\". Skipping...\n",
      "100%|████████████████████████████████████| 28292/28292 [00:39<00:00, 717.36it/s]\n",
      "2023-07-21 02:29:34,225 - \u001b[1;32mINFO\u001b[1;0m - Actual number of triplets sampled for Rule 1: \"Rank paraphrases very highly\": 2881494\n",
      "2023-07-21 02:29:34,225 - \u001b[1;32mINFO\u001b[1;0m - Rule 2: \"Rank paraphrases very highly - Hard negative\"\n",
      "  0%|                                                 | 0/28292 [00:00<?, ?it/s]2023-07-21 02:29:34,227 - \u001b[1;33mWARNING\u001b[1;0m - No paraphrases found for \"end\". Skipping...\n"
     ]
    },
    {
     "name": "stdout",
     "output_type": "stream",
     "text": [
      "  9%|███▍                                 | 2610/28292 [00:04<00:38, 664.20it/s]2023-07-21 02:29:38,395 - \u001b[1;33mWARNING\u001b[1;0m - No paraphrases found for \"both locations\". Skipping...\n",
      " 71%|█████████████████████████▍          | 19963/28292 [00:28<00:11, 706.60it/s]2023-07-21 02:30:03,269 - \u001b[1;33mWARNING\u001b[1;0m - No paraphrases found for \"right mid to upper lung laterally\". Skipping...\n",
      "100%|████████████████████████████████████| 28292/28292 [00:39<00:00, 709.16it/s]\n",
      "2023-07-21 02:30:14,121 - \u001b[1;32mINFO\u001b[1;0m - Actual number of triplets sampled for Rule 2: \"Rank paraphrases very highly - Hard negative\": 2869295\n",
      "2023-07-21 02:30:14,121 - \u001b[1;32mINFO\u001b[1;0m - Rule 3: \"Rank some triplets according to CXR-BERT and Leveinshtein consensus\"\n",
      "100%|██████████████████████████████████| 297669/297669 [11:12<00:00, 442.63it/s]\n",
      "2023-07-21 02:41:26,626 - \u001b[1;32mINFO\u001b[1;0m - Actual number of triplets sampled for Rule 3: \"Rank some triplets according to CXR-BERT and Leveinshtein consensus\": 2002430\n",
      "2023-07-21 02:41:26,626 - \u001b[1;32mINFO\u001b[1;0m - ============================================================\n",
      "2023-07-21 02:41:26,626 - \u001b[1;32mINFO\u001b[1;0m - Sampling triplets for observations...\n",
      "2023-07-21 02:41:26,626 - \u001b[1;32mINFO\u001b[1;0m - Rule 1: \"Rank paraphrases very highly\"\n",
      "100%|█████████████████████████████████| 109887/109887 [00:57<00:00, 1900.92it/s]\n",
      "2023-07-21 02:42:24,434 - \u001b[1;32mINFO\u001b[1;0m - Actual number of triplets sampled for Rule 1: \"Rank paraphrases very highly\": 3770449\n",
      "2023-07-21 02:42:24,434 - \u001b[1;32mINFO\u001b[1;0m - Rule 2: \"Rank paraphrases very highly - Hard negative\"\n",
      "100%|█████████████████████████████████| 109887/109887 [00:55<00:00, 1969.82it/s]\n",
      "2023-07-21 02:43:20,220 - \u001b[1;32mINFO\u001b[1;0m - Actual number of triplets sampled for Rule 2: \"Rank paraphrases very highly - Hard negative\": 3763709\n",
      "2023-07-21 02:43:20,220 - \u001b[1;32mINFO\u001b[1;0m - ---------------------------------------\n",
      "2023-07-21 02:43:22,006 - \u001b[1;32mINFO\u001b[1;0m - len(hs2id): 7\n",
      "2023-07-21 02:43:22,006 - \u001b[1;32mINFO\u001b[1;0m - hs2id: {'ambiguous': 0, 'abnormal': 1, 'unknown': 2, 'normal': 3, 'resolved': 4, 'improved': 5, '': 6}\n",
      "2023-07-21 02:43:23,807 - \u001b[1;32mINFO\u001b[1;0m - Number of observations for each health status:\n",
      "2023-07-21 02:43:23,808 - \u001b[1;32mINFO\u001b[1;0m - 1054149 observations with health status \"abnormal\"\n",
      "2023-07-21 02:43:23,808 - \u001b[1;32mINFO\u001b[1;0m - 561565 observations with health status \"unknown\"\n",
      "2023-07-21 02:43:23,808 - \u001b[1;32mINFO\u001b[1;0m - 244241 observations with health status \"normal\"\n",
      "2023-07-21 02:43:23,808 - \u001b[1;32mINFO\u001b[1;0m - 135766 observations with health status \"ambiguous\"\n",
      "2023-07-21 02:43:23,808 - \u001b[1;32mINFO\u001b[1;0m - 818 observations with health status \"\"\n",
      "2023-07-21 02:43:23,808 - \u001b[1;32mINFO\u001b[1;0m - 78 observations with health status \"improved\"\n",
      "2023-07-21 02:43:23,808 - \u001b[1;32mINFO\u001b[1;0m - 37 observations with health status \"resolved\"\n",
      "2023-07-21 02:43:26,520 - \u001b[1;32mINFO\u001b[1;0m - len(hsid_cid_2_obs_idxs): 484\n",
      "2023-07-21 02:43:26,520 - \u001b[1;32mINFO\u001b[1;0m - len(obs_idx_2_hsid_cid): 1996654\n",
      "2023-07-21 02:43:26,520 - \u001b[1;32mINFO\u001b[1;0m - ---------------------------------------\n",
      "2023-07-21 02:43:26,520 - \u001b[1;32mINFO\u001b[1;0m - Rule 3: \"Rank some triplets according to CXR-BERT and Leveinshtein consensus, while anchor and positive share the same health status\"\n",
      "100%|███████████████████████████████| 1996654/1996654 [22:06<00:00, 1504.99it/s]\n",
      "2023-07-21 03:05:33,207 - \u001b[1;32mINFO\u001b[1;0m - Actual number of triplets sampled for Rule 2: \"Rank some triplets according to CXR-BERT and Leveinshtein consensus, while anchor and positive share the same health status\": 2218029\n",
      "2023-07-21 03:05:33,207 - \u001b[1;32mINFO\u001b[1;0m - Rule 4: \"Hard health-status-vs-others triplets\"\n",
      "100%|█████████████████████████████████| 109887/109887 [00:54<00:00, 2004.28it/s]\n",
      "2023-07-21 03:06:28,034 - \u001b[1;32mINFO\u001b[1;0m - Actual number of triplets sampled for Rule 4: \"Hard health-status-vs-others triplets\": 2474084\n",
      "2023-07-21 03:06:28,034 - \u001b[1;32mINFO\u001b[1;0m - Rule 5: \"Short observation, detailed observation, and fact must be close to each other - Hard negative\"\n",
      "100%|█████████████████████████████████| 578733/578733 [01:25<00:00, 6803.16it/s]\n",
      "2023-07-21 03:07:53,103 - \u001b[1;33mWARNING\u001b[1;0m - Failed to find enough observations for 68865/578733 integrated fact metadata rows.\n",
      "2023-07-21 03:07:53,103 - \u001b[1;32mINFO\u001b[1;0m - Actual number of triplets sampled for Rule 5: \"Short observation, detailed observation, and fact must be close to each other - Hard negative\": 4430094\n",
      "2023-07-21 03:07:53,103 - \u001b[1;32mINFO\u001b[1;0m - Extracting triplets for validation set...\n",
      "2023-07-21 03:08:19,994 - \u001b[1;32mINFO\u001b[1;0m - Saving triplets to /mnt/workspace/pamessina/medvqa-workspace/cache/mimiccxr/triplets(2286627,297669,1996654,2501000,1000).pkl...\n",
      "2023-07-21 03:08:21,384 - \u001b[1;32mINFO\u001b[1;0m - Done!\n"
     ]
    }
   ],
   "source": [
    "!python ../../scripts/mimiccxr/sample_triplets_for_fact_embedding_learning.py \\\n",
    "--precomputed_sentence_embeddings_filepath \\\n",
    "\"/mnt/workspace/pamessina/medvqa-workspace/cache/mimiccxr/cxr_bert_sentence_embeddings(1605733,71051120).pkl\" \\\n",
    "--paraphrased_anatomical_locations_filepaths \\\n",
    "\"/home/pamessina/medvqa-workspace/cache/mimiccxr/openai/gpt-3.5-turbo-0613_paraphrased_anatomical_locations__part1.jsonl\" \\\n",
    "\"/home/pamessina/medvqa-workspace/cache/mimiccxr/openai/gpt-3.5-turbo-0613_paraphrased_anatomical_locations__part2.jsonl\" \\\n",
    "\"/home/pamessina/medvqa-workspace/cache/mimiccxr/openai/gpt-3.5-turbo-16k-0613_paraphrased_anatomical_locations__part3.jsonl\" \\\n",
    "--paraphrased_observations_filepaths \\\n",
    "\"/home/pamessina/medvqa-workspace/cache/mimiccxr/openai/gpt-3.5-turbo-0613_paraphrased_observations__two-or-more-words__part1.jsonl\" \\\n",
    "\"/home/pamessina/medvqa-workspace/cache/mimiccxr/openai/gpt-3.5-turbo-16k-0613_paraphrased_observations__two-or-more-words__part2.jsonl\" \\\n",
    "\"/home/pamessina/medvqa-workspace/cache/mimiccxr/openai/gpt-3.5-turbo-0613_paraphrased_observations__two-or-more-words__part3.jsonl\" \\\n",
    "\"/home/pamessina/medvqa-workspace/cache/mimiccxr/openai/gpt-3.5-turbo-16k-0613_paraphrased_observations__two-or-more-words__part4.jsonl\" \\\n",
    "\"/home/pamessina/medvqa-workspace/cache/mimiccxr/openai/gpt-4-0613_paraphrased_observations__two-or-more-words_cluster-balanced.jsonl\" \\\n",
    "\"/home/pamessina/medvqa-workspace/cache/mimiccxr/openai/gpt-3.5-turbo-0613_paraphrased_observations__two-or-more-words_cluster-balanced_1of5.jsonl\" \\\n",
    "\"/home/pamessina/medvqa-workspace/cache/mimiccxr/openai/gpt-3.5-turbo-0613_paraphrased_observations__two-or-more-words_cluster-balanced_2of5.jsonl\" \\\n",
    "\"/home/pamessina/medvqa-workspace/cache/mimiccxr/openai/gpt-3.5-turbo-0613_paraphrased_observations__two-or-more-words_cluster-balanced_3of5.jsonl\" \\\n",
    "\"/home/pamessina/medvqa-workspace/cache/mimiccxr/openai/gpt-3.5-turbo-0613_paraphrased_observations__two-or-more-words_cluster-balanced_4of5.jsonl\" \\\n",
    "--integrated_fact_metadata_filepath \\\n",
    "\"/home/pamessina/medvqa-workspace/cache/mimiccxr/integrated_fact_metadata(578733,58628071).jsonl\" \\\n",
    "--num_anatloc_clusters 100 \\\n",
    "--num_obs_clusters 100 \\\n",
    "--num_train_triplets_per_rule 2500000 \\\n",
    "--num_val_triplets_per_rule 1000 \\\n",
    "--batch_size 400 \\\n",
    "--num_workers 10"
   ]
  },
  {
   "cell_type": "code",
   "execution_count": 324,
   "id": "f9a58e7b",
   "metadata": {
    "scrolled": true
   },
   "outputs": [
    {
     "name": "stdout",
     "output_type": "stream",
     "text": [
      "2023-07-30 00:06:31,038 - \u001b[1;32mINFO\u001b[1;0m - Collecting all sentences, observations and anatomical locations from input files...\n",
      "2023-07-30 00:06:31,038 - \u001b[1;32mINFO\u001b[1;0m - Loading integrated fact metadata from /home/pamessina/medvqa-workspace/cache/mimiccxr/integrated_fact_metadata(578733,58628071).jsonl...\n",
      "2023-07-30 00:06:36,207 - \u001b[1;32mINFO\u001b[1;0m - Found 578733 integrated fact metadata rows.\n",
      "2023-07-30 00:06:37,728 - \u001b[1;32mINFO\u001b[1;0m - Collecting strings from /home/pamessina/medvqa-workspace/cache/mimiccxr/openai/gpt-3.5-turbo-0613_paraphrased_anatomical_locations__part1.jsonl...\n",
      "2023-07-30 00:06:37,809 - \u001b[1;32mINFO\u001b[1;0m - Found 9891 paraphrased anatomical locations.\n",
      "2023-07-30 00:06:37,885 - \u001b[1;32mINFO\u001b[1;0m - Collecting strings from /home/pamessina/medvqa-workspace/cache/mimiccxr/openai/gpt-3.5-turbo-0613_paraphrased_anatomical_locations__part2.jsonl...\n",
      "2023-07-30 00:06:37,971 - \u001b[1;32mINFO\u001b[1;0m - Found 9890 paraphrased anatomical locations.\n",
      "2023-07-30 00:06:38,587 - \u001b[1;32mINFO\u001b[1;0m - Collecting strings from /home/pamessina/medvqa-workspace/cache/mimiccxr/openai/gpt-3.5-turbo-16k-0613_paraphrased_anatomical_locations__part3.jsonl...\n",
      "2023-07-30 00:06:38,668 - \u001b[1;32mINFO\u001b[1;0m - Found 8511 paraphrased anatomical locations.\n",
      "2023-07-30 00:06:38,733 - \u001b[1;32mINFO\u001b[1;0m - Found 297669 unique anatomical locations.\n",
      "2023-07-30 00:06:39,507 - \u001b[1;32mINFO\u001b[1;0m - Collecting strings from /home/pamessina/medvqa-workspace/cache/mimiccxr/openai/gpt-3.5-turbo-0613_paraphrased_observations__two-or-more-words__part1.jsonl...\n",
      "2023-07-30 00:06:39,622 - \u001b[1;32mINFO\u001b[1;0m - Found 14993 paraphrased observations.\n",
      "2023-07-30 00:06:39,732 - \u001b[1;32mINFO\u001b[1;0m - Collecting strings from /home/pamessina/medvqa-workspace/cache/mimiccxr/openai/gpt-3.5-turbo-16k-0613_paraphrased_observations__two-or-more-words__part2.jsonl...\n",
      "2023-07-30 00:06:39,857 - \u001b[1;32mINFO\u001b[1;0m - Found 14971 paraphrased observations.\n",
      "2023-07-30 00:06:40,004 - \u001b[1;32mINFO\u001b[1;0m - Collecting strings from /home/pamessina/medvqa-workspace/cache/mimiccxr/openai/gpt-3.5-turbo-0613_paraphrased_observations__two-or-more-words__part3.jsonl...\n",
      "2023-07-30 00:06:40,126 - \u001b[1;32mINFO\u001b[1;0m - Found 14972 paraphrased observations.\n",
      "2023-07-30 00:06:40,235 - \u001b[1;32mINFO\u001b[1;0m - Collecting strings from /home/pamessina/medvqa-workspace/cache/mimiccxr/openai/gpt-3.5-turbo-16k-0613_paraphrased_observations__two-or-more-words__part4.jsonl...\n",
      "2023-07-30 00:06:40,358 - \u001b[1;32mINFO\u001b[1;0m - Found 14965 paraphrased observations.\n",
      "2023-07-30 00:06:41,234 - \u001b[1;32mINFO\u001b[1;0m - Collecting strings from /home/pamessina/medvqa-workspace/cache/mimiccxr/openai/gpt-4-0613_paraphrased_observations__two-or-more-words_cluster-balanced.jsonl...\n",
      "2023-07-30 00:06:41,335 - \u001b[1;32mINFO\u001b[1;0m - Found 10000 paraphrased observations.\n",
      "2023-07-30 00:06:41,415 - \u001b[1;32mINFO\u001b[1;0m - Collecting strings from /home/pamessina/medvqa-workspace/cache/mimiccxr/openai/gpt-3.5-turbo-0613_paraphrased_observations__two-or-more-words_cluster-balanced_1of5.jsonl...\n",
      "2023-07-30 00:06:41,516 - \u001b[1;32mINFO\u001b[1;0m - Found 9999 paraphrased observations.\n",
      "2023-07-30 00:06:41,595 - \u001b[1;32mINFO\u001b[1;0m - Collecting strings from /home/pamessina/medvqa-workspace/cache/mimiccxr/openai/gpt-3.5-turbo-0613_paraphrased_observations__two-or-more-words_cluster-balanced_2of5.jsonl...\n",
      "2023-07-30 00:06:41,699 - \u001b[1;32mINFO\u001b[1;0m - Found 9997 paraphrased observations.\n",
      "2023-07-30 00:06:41,784 - \u001b[1;32mINFO\u001b[1;0m - Collecting strings from /home/pamessina/medvqa-workspace/cache/mimiccxr/openai/gpt-3.5-turbo-0613_paraphrased_observations__two-or-more-words_cluster-balanced_3of5.jsonl...\n",
      "2023-07-30 00:06:41,887 - \u001b[1;32mINFO\u001b[1;0m - Found 9994 paraphrased observations.\n",
      "2023-07-30 00:06:41,972 - \u001b[1;32mINFO\u001b[1;0m - Collecting strings from /home/pamessina/medvqa-workspace/cache/mimiccxr/openai/gpt-3.5-turbo-0613_paraphrased_observations__two-or-more-words_cluster-balanced_4of5.jsonl...\n",
      "2023-07-30 00:06:42,072 - \u001b[1;32mINFO\u001b[1;0m - Found 9996 paraphrased observations.\n",
      "2023-07-30 00:06:42,156 - \u001b[1;32mINFO\u001b[1;0m - Found 1996654 unique observations.\n",
      "2023-07-30 00:06:49,652 - \u001b[1;32mINFO\u001b[1;0m - Loading Chest ImaGenome sentences and labels from /home/pamessina/medvqa-workspace/cache/mimiccxr/integrated_chest_imagenome_labels(6).pkl...\n",
      "2023-07-30 00:06:50,935 - \u001b[1;32mINFO\u001b[1;0m - Found 2842463 unique sentences.\n",
      "2023-07-30 00:07:03,911 - \u001b[1;32mINFO\u001b[1;0m - Examples of anatomical locations:\n",
      "2023-07-30 00:07:03,911 - \u001b[1;32mINFO\u001b[1;0m - 0: '\n",
      "2023-07-30 00:07:03,911 - \u001b[1;32mINFO\u001b[1;0m - 33074: left lung midsection\n",
      "2023-07-30 00:07:03,912 - \u001b[1;32mINFO\u001b[1;0m - 66148: left mid- and lower zones\n",
      "2023-07-30 00:07:03,912 - \u001b[1;32mINFO\u001b[1;0m - 99222: fundus portion of the stomach\n",
      "2023-07-30 00:07:03,912 - \u001b[1;32mINFO\u001b[1;0m - 132296: right mid-lateral lung territory\n",
      "2023-07-30 00:07:03,912 - \u001b[1;32mINFO\u001b[1;0m - 165371: located on the backside of the graft\n",
      "2023-07-30 00:07:03,912 - \u001b[1;32mINFO\u001b[1;0m - 198445: lower pigtail catheter on the right side\n",
      "2023-07-30 00:07:03,912 - \u001b[1;32mINFO\u001b[1;0m - 231519: outermost part of the right side of the chest\n",
      "2023-07-30 00:07:03,912 - \u001b[1;32mINFO\u001b[1;0m - 264593: lying on the first costochondral junction on the left\n",
      "2023-07-30 00:07:03,912 - \u001b[1;32mINFO\u001b[1;0m - 297668: overlying the region where the posterior part of the sixth rib on the left side overlaps with the anterior part of the fourth rib on the left side\n",
      "2023-07-30 00:07:03,912 - \u001b[1;32mINFO\u001b[1;0m - Examples of observations:\n",
      "2023-07-30 00:07:03,912 - \u001b[1;32mINFO\u001b[1;0m - 0: 2\n",
      "2023-07-30 00:07:03,912 - \u001b[1;32mINFO\u001b[1;0m - 221850: PICC line tip in the lower SVC\n",
      "2023-07-30 00:07:03,912 - \u001b[1;32mINFO\u001b[1;0m - 443700: pacemaker leads positioned in the RV\n",
      "2023-07-30 00:07:03,912 - \u001b[1;32mINFO\u001b[1;0m - 665551: thickening along the right lateral pleura\n",
      "2023-07-30 00:07:03,912 - \u001b[1;32mINFO\u001b[1;0m - 887401: nodule previously characterized as a hamartoma\n",
      "2023-07-30 00:07:03,912 - \u001b[1;32mINFO\u001b[1;0m - 1109251: indistinct haziness over the right lower lung field\n",
      "2023-07-30 00:07:03,912 - \u001b[1;32mINFO\u001b[1;0m - 1331102: substantial air and fluid effusion in the pleural cavity\n",
      "2023-07-30 00:07:03,912 - \u001b[1;32mINFO\u001b[1;0m - 1552952: calcified pleural plaque projecting over the right heart border\n",
      "2023-07-30 00:07:03,912 - \u001b[1;32mINFO\u001b[1;0m - 1774802: There is a slight enhancement of opacity in the right cardiophrenic angle\n",
      "2023-07-30 00:07:03,912 - \u001b[1;32mINFO\u001b[1;0m - 1996653: worsening of combined alveolar opacities in the bilateral asymmetrically distributed combined interstitial opacities in the bilateral asymmetrically distributed combined alveolar opacities in the bilateral asymmetrically distributed combined interstitial opacities\n",
      "2023-07-30 00:07:04,601 - \u001b[1;32mINFO\u001b[1;0m - Found precomputed sentence embeddings at /mnt/workspace/pamessina/medvqa-workspace/cache/mimiccxr/cxr_bert_sentence_embeddings(2842463,162085125).pkl. Loading...\n",
      "2023-07-30 00:07:06,259 - \u001b[1;32mINFO\u001b[1;0m - Found precomputed clusters at /mnt/workspace/pamessina/medvqa-workspace/cache/mimiccxr/clusters(100,100297669,1996654,2842463,162085125).pkl. Loading...\n",
      "2023-07-30 00:07:07,474 - \u001b[1;32mINFO\u001b[1;0m - ============================================================\n",
      "2023-07-30 00:07:07,475 - \u001b[1;32mINFO\u001b[1;0m - Sampling triplets for anatomical locations...\n",
      "2023-07-30 00:07:07,475 - \u001b[1;32mINFO\u001b[1;0m - Rule 1: \"Rank paraphrases very highly\"\n",
      "  0%|                                                 | 0/28292 [00:00<?, ?it/s]2023-07-30 00:07:07,477 - \u001b[1;33mWARNING\u001b[1;0m - No paraphrases found for \"end\". Skipping...\n",
      " 10%|███▌                                 | 2737/28292 [00:04<00:36, 691.27it/s]2023-07-30 00:07:11,479 - \u001b[1;33mWARNING\u001b[1;0m - No paraphrases found for \"both locations\". Skipping...\n",
      " 71%|█████████████████████████▋          | 20200/28292 [00:28<00:11, 727.33it/s]2023-07-30 00:07:36,033 - \u001b[1;33mWARNING\u001b[1;0m - No paraphrases found for \"right mid to upper lung laterally\". Skipping...\n",
      "100%|████████████████████████████████████| 28292/28292 [00:39<00:00, 720.16it/s]\n",
      "2023-07-30 00:07:46,762 - \u001b[1;32mINFO\u001b[1;0m - Actual number of triplets sampled for Rule 1: \"Rank paraphrases very highly\": 2881495\n",
      "2023-07-30 00:07:46,762 - \u001b[1;32mINFO\u001b[1;0m - Rule 2: \"Rank paraphrases very highly - Hard negative\"\n",
      "  0%|                                                 | 0/28292 [00:00<?, ?it/s]2023-07-30 00:07:46,764 - \u001b[1;33mWARNING\u001b[1;0m - No paraphrases found for \"end\". Skipping...\n"
     ]
    },
    {
     "name": "stdout",
     "output_type": "stream",
     "text": [
      "  5%|█▉                                   | 1438/28292 [00:02<00:37, 718.86it/s]2023-07-30 00:07:50,532 - \u001b[1;33mWARNING\u001b[1;0m - No paraphrases found for \"both locations\". Skipping...\n",
      " 72%|█████████████████████████▊          | 20305/28292 [00:28<00:11, 708.25it/s]2023-07-30 00:08:15,422 - \u001b[1;33mWARNING\u001b[1;0m - No paraphrases found for \"right mid to upper lung laterally\". Skipping...\n",
      "100%|████████████████████████████████████| 28292/28292 [00:39<00:00, 716.09it/s]\n",
      "2023-07-30 00:08:26,271 - \u001b[1;32mINFO\u001b[1;0m - Actual number of triplets sampled for Rule 2: \"Rank paraphrases very highly - Hard negative\": 2872477\n",
      "2023-07-30 00:08:26,272 - \u001b[1;32mINFO\u001b[1;0m - Rule 3: \"Rank some triplets according to CXR-BERT and Leveinshtein consensus\"\n",
      "100%|██████████████████████████████████| 297669/297669 [11:14<00:00, 441.61it/s]\n",
      "2023-07-30 00:19:40,320 - \u001b[1;32mINFO\u001b[1;0m - Actual number of triplets sampled for Rule 3: \"Rank some triplets according to CXR-BERT and Leveinshtein consensus\": 1986876\n",
      "2023-07-30 00:19:40,320 - \u001b[1;32mINFO\u001b[1;0m - ============================================================\n",
      "2023-07-30 00:19:40,320 - \u001b[1;32mINFO\u001b[1;0m - Sampling triplets for observations...\n",
      "2023-07-30 00:19:40,320 - \u001b[1;32mINFO\u001b[1;0m - Rule 1: \"Rank paraphrases very highly\"\n",
      "100%|█████████████████████████████████| 109887/109887 [00:57<00:00, 1903.37it/s]\n",
      "2023-07-30 00:20:38,053 - \u001b[1;32mINFO\u001b[1;0m - Actual number of triplets sampled for Rule 1: \"Rank paraphrases very highly\": 3770457\n",
      "2023-07-30 00:20:38,053 - \u001b[1;32mINFO\u001b[1;0m - Rule 2: \"Rank paraphrases very highly - Hard negative\"\n",
      "100%|█████████████████████████████████| 109887/109887 [00:55<00:00, 1970.15it/s]\n",
      "2023-07-30 00:21:33,830 - \u001b[1;32mINFO\u001b[1;0m - Actual number of triplets sampled for Rule 2: \"Rank paraphrases very highly - Hard negative\": 3763631\n",
      "2023-07-30 00:21:33,830 - \u001b[1;32mINFO\u001b[1;0m - ---------------------------------------\n",
      "2023-07-30 00:21:35,490 - \u001b[1;32mINFO\u001b[1;0m - len(hs2id): 7\n",
      "2023-07-30 00:21:35,490 - \u001b[1;32mINFO\u001b[1;0m - hs2id: {'ambiguous': 0, 'abnormal': 1, 'unknown': 2, 'normal': 3, 'resolved': 4, 'improved': 5, '': 6}\n",
      "2023-07-30 00:21:37,188 - \u001b[1;32mINFO\u001b[1;0m - Number of observations for each health status:\n",
      "2023-07-30 00:21:37,188 - \u001b[1;32mINFO\u001b[1;0m - 1054149 observations with health status \"abnormal\"\n",
      "2023-07-30 00:21:37,188 - \u001b[1;32mINFO\u001b[1;0m - 561565 observations with health status \"unknown\"\n",
      "2023-07-30 00:21:37,188 - \u001b[1;32mINFO\u001b[1;0m - 244241 observations with health status \"normal\"\n",
      "2023-07-30 00:21:37,188 - \u001b[1;32mINFO\u001b[1;0m - 135766 observations with health status \"ambiguous\"\n",
      "2023-07-30 00:21:37,188 - \u001b[1;32mINFO\u001b[1;0m - 818 observations with health status \"\"\n",
      "2023-07-30 00:21:37,188 - \u001b[1;32mINFO\u001b[1;0m - 78 observations with health status \"improved\"\n",
      "2023-07-30 00:21:37,188 - \u001b[1;32mINFO\u001b[1;0m - 37 observations with health status \"resolved\"\n",
      "2023-07-30 00:21:39,787 - \u001b[1;32mINFO\u001b[1;0m - len(hsid_cid_2_obs_idxs): 485\n",
      "2023-07-30 00:21:39,788 - \u001b[1;32mINFO\u001b[1;0m - len(obs_idx_2_hsid_cid): 1996654\n",
      "2023-07-30 00:21:39,788 - \u001b[1;32mINFO\u001b[1;0m - ---------------------------------------\n",
      "2023-07-30 00:21:39,788 - \u001b[1;32mINFO\u001b[1;0m - Rule 3: \"Rank some triplets according to CXR-BERT and Leveinshtein consensus, while anchor and positive share the same health status\"\n",
      "100%|███████████████████████████████| 1996654/1996654 [21:39<00:00, 1536.87it/s]\n",
      "2023-07-30 00:43:18,957 - \u001b[1;32mINFO\u001b[1;0m - Actual number of triplets sampled for Rule 2: \"Rank some triplets according to CXR-BERT and Leveinshtein consensus, while anchor and positive share the same health status\": 2223660\n",
      "2023-07-30 00:43:18,957 - \u001b[1;32mINFO\u001b[1;0m - Rule 4: \"Hard health-status-vs-others triplets\"\n",
      "100%|█████████████████████████████████| 109887/109887 [00:53<00:00, 2065.42it/s]\n",
      "2023-07-30 00:44:12,160 - \u001b[1;32mINFO\u001b[1;0m - Actual number of triplets sampled for Rule 4: \"Hard health-status-vs-others triplets\": 2472362\n",
      "2023-07-30 00:44:12,161 - \u001b[1;32mINFO\u001b[1;0m - Rule 5: \"Short observation, detailed observation, and fact must be close to each other - Hard negative\"\n",
      "100%|█████████████████████████████████| 578733/578733 [01:23<00:00, 6969.24it/s]\n",
      "2023-07-30 00:45:35,202 - \u001b[1;33mWARNING\u001b[1;0m - Failed to find enough observations for 68865/578733 integrated fact metadata rows.\n",
      "2023-07-30 00:45:35,202 - \u001b[1;32mINFO\u001b[1;0m - Actual number of triplets sampled for Rule 5: \"Short observation, detailed observation, and fact must be close to each other - Hard negative\": 4430015\n",
      "2023-07-30 00:45:35,315 - \u001b[1;32mINFO\u001b[1;0m - len(chest_imagenome_sentences): 2552490\n",
      "2023-07-30 00:45:35,315 - \u001b[1;32mINFO\u001b[1;0m - chest_imagenome_labels.shape: (2552490, 74)\n",
      "2023-07-30 00:45:35,315 - \u001b[1;32mINFO\u001b[1;0m - Rule 6: \"Rank triplets according to Chest ImaGenome labels\"\n",
      "100%|███████████████████████████████| 2552490/2552490 [09:33<00:00, 4448.02it/s]\n",
      "100%|███████████████████████████████████████████| 74/74 [01:40<00:00,  1.35s/it]\n",
      "2023-07-30 00:56:49,419 - \u001b[1;32mINFO\u001b[1;0m - Actual number of triplets sampled for Rule 6: \"Rank triplets according to Chest ImaGenome labels\": 2831670\n",
      "2023-07-30 00:56:49,580 - \u001b[1;32mINFO\u001b[1;0m - Extracting triplets for validation set...\n",
      "2023-07-30 00:57:18,794 - \u001b[1;32mINFO\u001b[1;0m - Saving triplets to /mnt/workspace/pamessina/medvqa-workspace/cache/mimiccxr/triplets(2842463,297669,1996654,2501000,1000).pkl...\n",
      "2023-07-30 00:57:21,080 - \u001b[1;32mINFO\u001b[1;0m - Done!\n"
     ]
    }
   ],
   "source": [
    "!python ../../scripts/mimiccxr/sample_triplets_for_fact_embedding_learning.py \\\n",
    "--precomputed_sentence_embeddings_filepath \\\n",
    "\"/mnt/workspace/pamessina/medvqa-workspace/cache/mimiccxr/cxr_bert_sentence_embeddings(2286627,111346983).pkl\" \\\n",
    "--paraphrased_anatomical_locations_filepaths \\\n",
    "\"/home/pamessina/medvqa-workspace/cache/mimiccxr/openai/gpt-3.5-turbo-0613_paraphrased_anatomical_locations__part1.jsonl\" \\\n",
    "\"/home/pamessina/medvqa-workspace/cache/mimiccxr/openai/gpt-3.5-turbo-0613_paraphrased_anatomical_locations__part2.jsonl\" \\\n",
    "\"/home/pamessina/medvqa-workspace/cache/mimiccxr/openai/gpt-3.5-turbo-16k-0613_paraphrased_anatomical_locations__part3.jsonl\" \\\n",
    "--paraphrased_observations_filepaths \\\n",
    "\"/home/pamessina/medvqa-workspace/cache/mimiccxr/openai/gpt-3.5-turbo-0613_paraphrased_observations__two-or-more-words__part1.jsonl\" \\\n",
    "\"/home/pamessina/medvqa-workspace/cache/mimiccxr/openai/gpt-3.5-turbo-16k-0613_paraphrased_observations__two-or-more-words__part2.jsonl\" \\\n",
    "\"/home/pamessina/medvqa-workspace/cache/mimiccxr/openai/gpt-3.5-turbo-0613_paraphrased_observations__two-or-more-words__part3.jsonl\" \\\n",
    "\"/home/pamessina/medvqa-workspace/cache/mimiccxr/openai/gpt-3.5-turbo-16k-0613_paraphrased_observations__two-or-more-words__part4.jsonl\" \\\n",
    "\"/home/pamessina/medvqa-workspace/cache/mimiccxr/openai/gpt-4-0613_paraphrased_observations__two-or-more-words_cluster-balanced.jsonl\" \\\n",
    "\"/home/pamessina/medvqa-workspace/cache/mimiccxr/openai/gpt-3.5-turbo-0613_paraphrased_observations__two-or-more-words_cluster-balanced_1of5.jsonl\" \\\n",
    "\"/home/pamessina/medvqa-workspace/cache/mimiccxr/openai/gpt-3.5-turbo-0613_paraphrased_observations__two-or-more-words_cluster-balanced_2of5.jsonl\" \\\n",
    "\"/home/pamessina/medvqa-workspace/cache/mimiccxr/openai/gpt-3.5-turbo-0613_paraphrased_observations__two-or-more-words_cluster-balanced_3of5.jsonl\" \\\n",
    "\"/home/pamessina/medvqa-workspace/cache/mimiccxr/openai/gpt-3.5-turbo-0613_paraphrased_observations__two-or-more-words_cluster-balanced_4of5.jsonl\" \\\n",
    "--integrated_fact_metadata_filepath \\\n",
    "\"/home/pamessina/medvqa-workspace/cache/mimiccxr/integrated_fact_metadata(578733,58628071).jsonl\" \\\n",
    "--chest_imagenome_sentences_and_labels_filepath \\\n",
    "\"/home/pamessina/medvqa-workspace/cache/mimiccxr/integrated_chest_imagenome_labels(6).pkl\" \\\n",
    "--num_anatloc_clusters 100 \\\n",
    "--num_obs_clusters 100 \\\n",
    "--num_train_triplets_per_rule 2500000 \\\n",
    "--num_val_triplets_per_rule 1000 \\\n",
    "--batch_size 300 \\\n",
    "--num_workers 10"
   ]
  },
  {
   "cell_type": "code",
   "execution_count": 75,
   "id": "b1f1e141",
   "metadata": {
    "scrolled": false
   },
   "outputs": [
    {
     "name": "stdout",
     "output_type": "stream",
     "text": [
      "2023-08-14 12:34:10,963 - \u001b[1;32mINFO\u001b[1;0m - Collecting all sentences, observations and anatomical locations from input files...\n",
      "2023-08-14 12:34:10,964 - \u001b[1;32mINFO\u001b[1;0m - Loading integrated fact metadata from /home/pamessina/medvqa-workspace/cache/mimiccxr/integrated_fact_metadata(578733,58628071).jsonl...\n",
      "2023-08-14 12:36:09,769 - \u001b[1;32mINFO\u001b[1;0m - Found 578733 integrated fact metadata rows.\n",
      "2023-08-14 12:36:40,033 - \u001b[1;32mINFO\u001b[1;0m - Collecting strings from /home/pamessina/medvqa-workspace/cache/mimiccxr/openai/gpt-3.5-turbo-0613_paraphrased_anatomical_locations__part1.jsonl...\n",
      "2023-08-14 12:36:42,048 - \u001b[1;32mINFO\u001b[1;0m - Found 9891 paraphrased anatomical locations.\n",
      "2023-08-14 12:36:43,457 - \u001b[1;32mINFO\u001b[1;0m - Collecting strings from /home/pamessina/medvqa-workspace/cache/mimiccxr/openai/gpt-3.5-turbo-0613_paraphrased_anatomical_locations__part2.jsonl...\n",
      "2023-08-14 12:36:45,623 - \u001b[1;32mINFO\u001b[1;0m - Found 9890 paraphrased anatomical locations.\n",
      "2023-08-14 12:36:53,086 - \u001b[1;32mINFO\u001b[1;0m - Collecting strings from /home/pamessina/medvqa-workspace/cache/mimiccxr/openai/gpt-3.5-turbo-16k-0613_paraphrased_anatomical_locations__part3.jsonl...\n",
      "2023-08-14 12:36:54,994 - \u001b[1;32mINFO\u001b[1;0m - Found 8511 paraphrased anatomical locations.\n",
      "2023-08-14 12:36:56,197 - \u001b[1;32mINFO\u001b[1;0m - Found 297669 unique anatomical locations.\n",
      "2023-08-14 12:37:10,155 - \u001b[1;32mINFO\u001b[1;0m - Collecting strings from /home/pamessina/medvqa-workspace/cache/mimiccxr/openai/gpt-3.5-turbo-0613_paraphrased_observations__two-or-more-words__part1.jsonl...\n",
      "2023-08-14 12:37:12,943 - \u001b[1;32mINFO\u001b[1;0m - Found 14993 paraphrased observations.\n",
      "2023-08-14 12:37:14,880 - \u001b[1;32mINFO\u001b[1;0m - Collecting strings from /home/pamessina/medvqa-workspace/cache/mimiccxr/openai/gpt-3.5-turbo-16k-0613_paraphrased_observations__two-or-more-words__part2.jsonl...\n",
      "2023-08-14 12:37:17,838 - \u001b[1;32mINFO\u001b[1;0m - Found 14971 paraphrased observations.\n",
      "2023-08-14 12:37:20,525 - \u001b[1;32mINFO\u001b[1;0m - Collecting strings from /home/pamessina/medvqa-workspace/cache/mimiccxr/openai/gpt-3.5-turbo-0613_paraphrased_observations__two-or-more-words__part3.jsonl...\n",
      "2023-08-14 12:37:23,470 - \u001b[1;32mINFO\u001b[1;0m - Found 14972 paraphrased observations.\n",
      "2023-08-14 12:37:25,388 - \u001b[1;32mINFO\u001b[1;0m - Collecting strings from /home/pamessina/medvqa-workspace/cache/mimiccxr/openai/gpt-3.5-turbo-16k-0613_paraphrased_observations__two-or-more-words__part4.jsonl...\n",
      "2023-08-14 12:37:28,206 - \u001b[1;32mINFO\u001b[1;0m - Found 14965 paraphrased observations.\n",
      "2023-08-14 12:37:38,854 - \u001b[1;32mINFO\u001b[1;0m - Collecting strings from /home/pamessina/medvqa-workspace/cache/mimiccxr/openai/gpt-4-0613_paraphrased_observations__two-or-more-words_cluster-balanced.jsonl...\n",
      "2023-08-14 12:37:41,214 - \u001b[1;32mINFO\u001b[1;0m - Found 10000 paraphrased observations.\n",
      "2023-08-14 12:37:42,499 - \u001b[1;32mINFO\u001b[1;0m - Collecting strings from /home/pamessina/medvqa-workspace/cache/mimiccxr/openai/gpt-3.5-turbo-0613_paraphrased_observations__two-or-more-words_cluster-balanced_1of5.jsonl...\n",
      "2023-08-14 12:37:44,851 - \u001b[1;32mINFO\u001b[1;0m - Found 9999 paraphrased observations.\n",
      "2023-08-14 12:37:46,235 - \u001b[1;32mINFO\u001b[1;0m - Collecting strings from /home/pamessina/medvqa-workspace/cache/mimiccxr/openai/gpt-3.5-turbo-0613_paraphrased_observations__two-or-more-words_cluster-balanced_2of5.jsonl...\n",
      "2023-08-14 12:37:48,562 - \u001b[1;32mINFO\u001b[1;0m - Found 9997 paraphrased observations.\n",
      "2023-08-14 12:37:49,959 - \u001b[1;32mINFO\u001b[1;0m - Collecting strings from /home/pamessina/medvqa-workspace/cache/mimiccxr/openai/gpt-3.5-turbo-0613_paraphrased_observations__two-or-more-words_cluster-balanced_3of5.jsonl...\n",
      "2023-08-14 12:37:52,296 - \u001b[1;32mINFO\u001b[1;0m - Found 9994 paraphrased observations.\n",
      "2023-08-14 12:37:53,676 - \u001b[1;32mINFO\u001b[1;0m - Collecting strings from /home/pamessina/medvqa-workspace/cache/mimiccxr/openai/gpt-3.5-turbo-0613_paraphrased_observations__two-or-more-words_cluster-balanced_4of5.jsonl...\n",
      "2023-08-14 12:37:56,015 - \u001b[1;32mINFO\u001b[1;0m - Found 9996 paraphrased observations.\n",
      "2023-08-14 12:37:57,444 - \u001b[1;32mINFO\u001b[1;0m - Found 1996654 unique observations.\n",
      "2023-08-14 12:39:50,718 - \u001b[1;32mINFO\u001b[1;0m - Loading Chest ImaGenome sentences and labels from /home/pamessina/medvqa-workspace/cache/mimiccxr/integrated_chest_imagenome_labels(6).pkl...\n",
      "2023-08-14 12:40:08,993 - \u001b[1;32mINFO\u001b[1;0m - Loading RadGraph sentences and labels from /mnt/workspace/pamessina/medvqa-workspace/cache/radgraph/label_sets_per_sentence.pkl...\n",
      "2023-08-14 12:42:42,942 - \u001b[1;32mINFO\u001b[1;0m - len(radgraph_data[train])=2170\n",
      "2023-08-14 12:42:42,961 - \u001b[1;32mINFO\u001b[1;0m - len(radgraph_data[dev])=430\n",
      "2023-08-14 12:42:42,966 - \u001b[1;32mINFO\u001b[1;0m - len(radgraph_data[test])=526\n",
      "2023-08-14 12:42:42,971 - \u001b[1;32mINFO\u001b[1;0m - len(radgraph_data[chexpert])=2270\n",
      "2023-08-14 12:42:42,994 - \u001b[1;32mINFO\u001b[1;0m - len(radgraph_data[mimiccxr])=635245\n",
      "2023-08-14 12:42:48,395 - \u001b[1;32mINFO\u001b[1;0m - Found 3471872 unique sentences.\n",
      "2023-08-14 12:46:42,026 - \u001b[1;32mINFO\u001b[1;0m - Examples of anatomical locations:\n",
      "2023-08-14 12:46:42,030 - \u001b[1;32mINFO\u001b[1;0m - 0: '\n",
      "2023-08-14 12:46:42,031 - \u001b[1;32mINFO\u001b[1;0m - 33074: left lung midsection\n",
      "2023-08-14 12:46:42,031 - \u001b[1;32mINFO\u001b[1;0m - 66148: left mid- and lower zones\n",
      "2023-08-14 12:46:42,032 - \u001b[1;32mINFO\u001b[1;0m - 99222: fundus portion of the stomach\n",
      "2023-08-14 12:46:42,033 - \u001b[1;32mINFO\u001b[1;0m - 132296: right mid-lateral lung territory\n",
      "2023-08-14 12:46:42,034 - \u001b[1;32mINFO\u001b[1;0m - 165371: located on the backside of the graft\n",
      "2023-08-14 12:46:42,035 - \u001b[1;32mINFO\u001b[1;0m - 198445: lower pigtail catheter on the right side\n",
      "2023-08-14 12:46:42,035 - \u001b[1;32mINFO\u001b[1;0m - 231519: outermost part of the right side of the chest\n",
      "2023-08-14 12:46:42,036 - \u001b[1;32mINFO\u001b[1;0m - 264593: lying on the first costochondral junction on the left\n",
      "2023-08-14 12:46:42,037 - \u001b[1;32mINFO\u001b[1;0m - 297668: overlying the region where the posterior part of the sixth rib on the left side overlaps with the anterior part of the fourth rib on the left side\n",
      "2023-08-14 12:46:42,038 - \u001b[1;32mINFO\u001b[1;0m - Examples of observations:\n",
      "2023-08-14 12:46:42,039 - \u001b[1;32mINFO\u001b[1;0m - 0: 2\n",
      "2023-08-14 12:46:42,040 - \u001b[1;32mINFO\u001b[1;0m - 221850: PICC line tip in the lower SVC\n",
      "2023-08-14 12:46:42,041 - \u001b[1;32mINFO\u001b[1;0m - 443700: pacemaker leads positioned in the RV\n",
      "2023-08-14 12:46:42,042 - \u001b[1;32mINFO\u001b[1;0m - 665551: thickening along the right lateral pleura\n",
      "2023-08-14 12:46:42,043 - \u001b[1;32mINFO\u001b[1;0m - 887401: nodule previously characterized as a hamartoma\n",
      "2023-08-14 12:46:42,043 - \u001b[1;32mINFO\u001b[1;0m - 1109251: indistinct haziness over the right lower lung field\n",
      "2023-08-14 12:46:42,044 - \u001b[1;32mINFO\u001b[1;0m - 1331102: substantial air and fluid effusion in the pleural cavity\n",
      "2023-08-14 12:46:42,045 - \u001b[1;32mINFO\u001b[1;0m - 1552952: calcified pleural plaque projecting over the right heart border\n",
      "2023-08-14 12:46:42,046 - \u001b[1;32mINFO\u001b[1;0m - 1774802: There is a slight enhancement of opacity in the right cardiophrenic angle\n",
      "2023-08-14 12:46:42,047 - \u001b[1;32mINFO\u001b[1;0m - 1996653: worsening of combined alveolar opacities in the bilateral asymmetrically distributed combined interstitial opacities in the bilateral asymmetrically distributed combined alveolar opacities in the bilateral asymmetrically distributed combined interstitial opacities\n",
      "2023-08-14 12:46:56,481 - \u001b[1;32mINFO\u001b[1;0m - Found precomputed sentence embeddings at /mnt/workspace/pamessina/medvqa-workspace/cache/mimiccxr/cxr_bert_sentence_embeddings(3471872,213302565).pkl. Loading...\n",
      "2023-08-14 12:47:30,849 - \u001b[1;32mINFO\u001b[1;0m - Found precomputed clusters at /mnt/workspace/pamessina/medvqa-workspace/cache/mimiccxr/clusters(100,100297669,1996654,3471872,213302565).pkl. Loading...\n",
      "2023-08-14 12:48:00,479 - \u001b[1;32mINFO\u001b[1;0m - Found precomputed radgraph clusters at /mnt/workspace/pamessina/medvqa-workspace/cache/mimiccxr/radgraph_clusters(637929,213302565).pkl. Loading...\n",
      "2023-08-14 12:48:01,113 - \u001b[1;32mINFO\u001b[1;0m - ============================================================\n",
      "2023-08-14 12:48:01,115 - \u001b[1;32mINFO\u001b[1;0m - Sampling triplets for anatomical locations...\n",
      "2023-08-14 12:48:01,116 - \u001b[1;32mINFO\u001b[1;0m - Rule 1: \"Rank paraphrases very highly\"\n",
      "  0%|                                                 | 0/28292 [00:00<?, ?it/s]2023-08-14 12:48:01,173 - \u001b[1;33mWARNING\u001b[1;0m - No paraphrases found for \"end\". Skipping...\n"
     ]
    },
    {
     "name": "stdout",
     "output_type": "stream",
     "text": [
      " 10%|███▋                                  | 2732/28292 [01:32<12:47, 33.32it/s]2023-08-14 12:49:33,373 - \u001b[1;33mWARNING\u001b[1;0m - No paraphrases found for \"both locations\". Skipping...\n",
      " 73%|██████████████████████████▉          | 20564/28292 [10:33<03:59, 32.24it/s]2023-08-14 12:58:34,621 - \u001b[1;33mWARNING\u001b[1;0m - No paraphrases found for \"right mid to upper lung laterally\". Skipping...\n",
      "100%|█████████████████████████████████████| 28292/28292 [14:29<00:00, 32.52it/s]\n",
      "2023-08-14 13:02:31,069 - \u001b[1;32mINFO\u001b[1;0m - Actual number of triplets sampled for Rule 1: \"Rank paraphrases very highly\": 2881490\n",
      "2023-08-14 13:02:31,071 - \u001b[1;32mINFO\u001b[1;0m - Rule 2: \"Rank paraphrases very highly - Hard negative\"\n",
      "  0%|                                                 | 0/28292 [00:00<?, ?it/s]2023-08-14 13:02:31,107 - \u001b[1;33mWARNING\u001b[1;0m - No paraphrases found for \"end\". Skipping...\n",
      " 10%|███▋                                  | 2720/28292 [01:31<12:25, 34.32it/s]2023-08-14 13:04:03,248 - \u001b[1;33mWARNING\u001b[1;0m - No paraphrases found for \"both locations\". Skipping...\n",
      " 73%|██████████████████████████▉          | 20562/28292 [10:38<04:04, 31.61it/s]2023-08-14 13:13:10,300 - \u001b[1;33mWARNING\u001b[1;0m - No paraphrases found for \"right mid to upper lung laterally\". Skipping...\n",
      "100%|█████████████████████████████████████| 28292/28292 [14:39<00:00, 32.17it/s]\n",
      "2023-08-14 13:17:10,582 - \u001b[1;32mINFO\u001b[1;0m - Actual number of triplets sampled for Rule 2: \"Rank paraphrases very highly - Hard negative\": 2869030\n",
      "2023-08-14 13:17:10,583 - \u001b[1;32mINFO\u001b[1;0m - Rule 3: \"Rank some triplets according to CXR-BERT and Leveinshtein consensus\"\n",
      "100%|█████████████████████████████████| 297669/297669 [1:04:00<00:00, 77.52it/s]\n",
      "2023-08-14 14:21:10,696 - \u001b[1;32mINFO\u001b[1;0m - Actual number of triplets sampled for Rule 3: \"Rank some triplets according to CXR-BERT and Leveinshtein consensus\": 2005328\n",
      "2023-08-14 14:21:10,696 - \u001b[1;32mINFO\u001b[1;0m - ============================================================\n",
      "2023-08-14 14:21:10,696 - \u001b[1;32mINFO\u001b[1;0m - Sampling triplets for observations...\n",
      "2023-08-14 14:21:10,696 - \u001b[1;32mINFO\u001b[1;0m - Rule 1: \"Rank paraphrases very highly\"\n",
      "100%|█████████████████████████████████| 109887/109887 [00:57<00:00, 1926.43it/s]\n",
      "2023-08-14 14:22:07,738 - \u001b[1;32mINFO\u001b[1;0m - Actual number of triplets sampled for Rule 1: \"Rank paraphrases very highly\": 3770458\n",
      "2023-08-14 14:22:07,739 - \u001b[1;32mINFO\u001b[1;0m - Rule 2: \"Rank paraphrases very highly - Hard negative\"\n",
      "100%|█████████████████████████████████| 109887/109887 [00:54<00:00, 2000.43it/s]\n",
      "2023-08-14 14:23:02,671 - \u001b[1;32mINFO\u001b[1;0m - Actual number of triplets sampled for Rule 2: \"Rank paraphrases very highly - Hard negative\": 3763638\n",
      "2023-08-14 14:23:02,671 - \u001b[1;32mINFO\u001b[1;0m - ---------------------------------------\n",
      "2023-08-14 14:23:04,333 - \u001b[1;32mINFO\u001b[1;0m - len(hs2id): 7\n",
      "2023-08-14 14:23:04,333 - \u001b[1;32mINFO\u001b[1;0m - hs2id: {'ambiguous': 0, 'abnormal': 1, 'unknown': 2, 'normal': 3, 'resolved': 4, 'improved': 5, '': 6}\n",
      "2023-08-14 14:23:06,049 - \u001b[1;32mINFO\u001b[1;0m - Number of observations for each health status:\n",
      "2023-08-14 14:23:06,049 - \u001b[1;32mINFO\u001b[1;0m - 1054149 observations with health status \"abnormal\"\n",
      "2023-08-14 14:23:06,050 - \u001b[1;32mINFO\u001b[1;0m - 561565 observations with health status \"unknown\"\n",
      "2023-08-14 14:23:06,050 - \u001b[1;32mINFO\u001b[1;0m - 244241 observations with health status \"normal\"\n",
      "2023-08-14 14:23:06,050 - \u001b[1;32mINFO\u001b[1;0m - 135766 observations with health status \"ambiguous\"\n",
      "2023-08-14 14:23:06,050 - \u001b[1;32mINFO\u001b[1;0m - 818 observations with health status \"\"\n",
      "2023-08-14 14:23:06,050 - \u001b[1;32mINFO\u001b[1;0m - 78 observations with health status \"improved\"\n",
      "2023-08-14 14:23:06,050 - \u001b[1;32mINFO\u001b[1;0m - 37 observations with health status \"resolved\"\n",
      "2023-08-14 14:23:08,667 - \u001b[1;32mINFO\u001b[1;0m - len(hsid_cid_2_obs_idxs): 484\n",
      "2023-08-14 14:23:08,667 - \u001b[1;32mINFO\u001b[1;0m - len(obs_idx_2_hsid_cid): 1996654\n",
      "2023-08-14 14:23:08,667 - \u001b[1;32mINFO\u001b[1;0m - ---------------------------------------\n",
      "2023-08-14 14:23:08,667 - \u001b[1;32mINFO\u001b[1;0m - Rule 3: \"Rank some triplets according to CXR-BERT and Leveinshtein consensus, while anchor and positive share the same health status\"\n",
      "100%|███████████████████████████████| 1996654/1996654 [21:28<00:00, 1549.99it/s]\n",
      "2023-08-14 14:44:36,837 - \u001b[1;32mINFO\u001b[1;0m - Actual number of triplets sampled for Rule 2: \"Rank some triplets according to CXR-BERT and Leveinshtein consensus, while anchor and positive share the same health status\": 2217656\n",
      "2023-08-14 14:44:36,837 - \u001b[1;32mINFO\u001b[1;0m - Rule 4: \"Hard health-status-vs-others triplets\"\n",
      "100%|█████████████████████████████████| 109887/109887 [00:52<00:00, 2078.99it/s]\n",
      "2023-08-14 14:45:29,693 - \u001b[1;32mINFO\u001b[1;0m - Actual number of triplets sampled for Rule 4: \"Hard health-status-vs-others triplets\": 2477412\n",
      "2023-08-14 14:45:29,693 - \u001b[1;32mINFO\u001b[1;0m - Rule 5: \"Short observation, detailed observation, and fact must be close to each other - Hard negative\"\n",
      "100%|█████████████████████████████████| 578733/578733 [01:21<00:00, 7064.10it/s]\n",
      "2023-08-14 14:46:51,620 - \u001b[1;33mWARNING\u001b[1;0m - Failed to find enough observations for 68865/578733 integrated fact metadata rows.\n",
      "2023-08-14 14:46:51,620 - \u001b[1;32mINFO\u001b[1;0m - Actual number of triplets sampled for Rule 5: \"Short observation, detailed observation, and fact must be close to each other - Hard negative\": 4430119\n",
      "2023-08-14 14:46:51,739 - \u001b[1;32mINFO\u001b[1;0m - len(chest_imagenome_sentences): 2552490\n",
      "2023-08-14 14:46:51,739 - \u001b[1;32mINFO\u001b[1;0m - chest_imagenome_labels.shape: (2552490, 74)\n",
      "2023-08-14 14:46:51,739 - \u001b[1;32mINFO\u001b[1;0m - Rule 6: \"Rank triplets according to Chest ImaGenome labels\"\n",
      "100%|███████████████████████████████| 2552490/2552490 [09:32<00:00, 4456.96it/s]\n",
      "100%|███████████████████████████████████████████| 74/74 [01:39<00:00,  1.35s/it]\n",
      "2023-08-14 14:58:04,254 - \u001b[1;32mINFO\u001b[1;0m - Actual number of triplets sampled for Rule 6: \"Rank triplets according to Chest ImaGenome labels\": 2832046\n",
      "2023-08-14 14:58:04,605 - \u001b[1;32mINFO\u001b[1;0m - Rule 7: \"RadGraph-based triplets (Human Annotations)\"\n",
      "2023-08-14 14:58:04,605 - \u001b[1;32mINFO\u001b[1;0m - len(sentence_labels_pairs)=3003\n",
      "2023-08-14 14:58:04,605 - \u001b[1;32mINFO\u001b[1;0m - n_triplets_per_anchor=834\n",
      "100%|██████████████████████████████████████| 3003/3003 [00:28<00:00, 106.30it/s]\n",
      "2023-08-14 14:58:32,855 - \u001b[1;32mINFO\u001b[1;0m - Actual number of triplets sampled for Rule 7: \"RadGraph-based triplets (Human Annotations)\": 2421298\n",
      "2023-08-14 14:58:39,033 - \u001b[1;32mINFO\u001b[1;0m - Rule 8: \"RadGraph-based triplets (Machine Annotations)\"\n",
      "2023-08-14 14:58:39,033 - \u001b[1;32mINFO\u001b[1;0m - len(sentence_labels_pairs)=637929\n",
      "2023-08-14 14:58:39,033 - \u001b[1;32mINFO\u001b[1;0m - Computing cluster2idxs...\n",
      "637929it [00:01, 424508.84it/s]\n",
      "2023-08-14 14:58:40,536 - \u001b[1;32mINFO\u001b[1;0m - Sampling triplets...\n",
      "2023-08-14 14:58:40,536 - \u001b[1;32mINFO\u001b[1;0m - n_triplets_per_anchor=4\n",
      "100%|██████████████████████████████████| 637929/637929 [12:16<00:00, 865.89it/s]\n",
      "2023-08-14 15:10:57,269 - \u001b[1;32mINFO\u001b[1;0m - Actual number of triplets sampled for Rule 8: \"RadGraph-based triplets (Machine Annotations)\": 2535644\n",
      "2023-08-14 15:10:57,306 - \u001b[1;32mINFO\u001b[1;0m - Extracting triplets for validation and test sets...\n",
      "2023-08-14 15:11:31,462 - \u001b[1;32mINFO\u001b[1;0m - Saving triplets to /mnt/workspace/pamessina/medvqa-workspace/cache/mimiccxr/triplets(3471872,297669,1996654,2502000,1000,1000).pkl...\n",
      "2023-08-14 15:11:33,523 - \u001b[1;32mINFO\u001b[1;0m - Done!\n"
     ]
    }
   ],
   "source": [
    "!python ../../scripts/mimiccxr/sample_triplets_for_fact_embedding_learning.py \\\n",
    "--precomputed_sentence_embeddings_filepath \\\n",
    "\"/mnt/workspace/pamessina/medvqa-workspace/cache/mimiccxr/cxr_bert_sentence_embeddings(2842463,162085125).pkl\" \\\n",
    "--paraphrased_anatomical_locations_filepaths \\\n",
    "\"/home/pamessina/medvqa-workspace/cache/mimiccxr/openai/gpt-3.5-turbo-0613_paraphrased_anatomical_locations__part1.jsonl\" \\\n",
    "\"/home/pamessina/medvqa-workspace/cache/mimiccxr/openai/gpt-3.5-turbo-0613_paraphrased_anatomical_locations__part2.jsonl\" \\\n",
    "\"/home/pamessina/medvqa-workspace/cache/mimiccxr/openai/gpt-3.5-turbo-16k-0613_paraphrased_anatomical_locations__part3.jsonl\" \\\n",
    "--paraphrased_observations_filepaths \\\n",
    "\"/home/pamessina/medvqa-workspace/cache/mimiccxr/openai/gpt-3.5-turbo-0613_paraphrased_observations__two-or-more-words__part1.jsonl\" \\\n",
    "\"/home/pamessina/medvqa-workspace/cache/mimiccxr/openai/gpt-3.5-turbo-16k-0613_paraphrased_observations__two-or-more-words__part2.jsonl\" \\\n",
    "\"/home/pamessina/medvqa-workspace/cache/mimiccxr/openai/gpt-3.5-turbo-0613_paraphrased_observations__two-or-more-words__part3.jsonl\" \\\n",
    "\"/home/pamessina/medvqa-workspace/cache/mimiccxr/openai/gpt-3.5-turbo-16k-0613_paraphrased_observations__two-or-more-words__part4.jsonl\" \\\n",
    "\"/home/pamessina/medvqa-workspace/cache/mimiccxr/openai/gpt-4-0613_paraphrased_observations__two-or-more-words_cluster-balanced.jsonl\" \\\n",
    "\"/home/pamessina/medvqa-workspace/cache/mimiccxr/openai/gpt-3.5-turbo-0613_paraphrased_observations__two-or-more-words_cluster-balanced_1of5.jsonl\" \\\n",
    "\"/home/pamessina/medvqa-workspace/cache/mimiccxr/openai/gpt-3.5-turbo-0613_paraphrased_observations__two-or-more-words_cluster-balanced_2of5.jsonl\" \\\n",
    "\"/home/pamessina/medvqa-workspace/cache/mimiccxr/openai/gpt-3.5-turbo-0613_paraphrased_observations__two-or-more-words_cluster-balanced_3of5.jsonl\" \\\n",
    "\"/home/pamessina/medvqa-workspace/cache/mimiccxr/openai/gpt-3.5-turbo-0613_paraphrased_observations__two-or-more-words_cluster-balanced_4of5.jsonl\" \\\n",
    "--integrated_fact_metadata_filepath \\\n",
    "\"/home/pamessina/medvqa-workspace/cache/mimiccxr/integrated_fact_metadata(578733,58628071).jsonl\" \\\n",
    "--chest_imagenome_sentences_and_labels_filepath \\\n",
    "\"/home/pamessina/medvqa-workspace/cache/mimiccxr/integrated_chest_imagenome_labels(6).pkl\" \\\n",
    "--radgraph_sentences_and_labels_filepath \\\n",
    "\"/mnt/workspace/pamessina/medvqa-workspace/cache/radgraph/label_sets_per_sentence.pkl\" \\\n",
    "--num_anatloc_clusters 100 \\\n",
    "--num_obs_clusters 100 \\\n",
    "--num_radgraph_clusters 100 \\\n",
    "--num_train_triplets_per_rule 2500000 \\\n",
    "--num_val_triplets_per_rule 1000 \\\n",
    "--num_test_triplets_per_rule 1000 \\\n",
    "--batch_size 400 \\\n",
    "--num_workers 10"
   ]
  },
  {
   "cell_type": "code",
   "execution_count": 34,
   "id": "dbd9615f",
   "metadata": {},
   "outputs": [],
   "source": [
    "from medvqa.utils.files import load_pickle"
   ]
  },
  {
   "cell_type": "code",
   "execution_count": 35,
   "id": "bb82c6d2",
   "metadata": {},
   "outputs": [],
   "source": [
    "tmp = load_pickle('/mnt/workspace/pamessina/medvqa-workspace/cache/mimiccxr/radgraph_clusters(637929,213302565).pkl')"
   ]
  },
  {
   "cell_type": "code",
   "execution_count": 36,
   "id": "72a454e0",
   "metadata": {},
   "outputs": [
    {
     "data": {
      "text/plain": [
       "dict_keys(['indices', 'clusters'])"
      ]
     },
     "execution_count": 36,
     "metadata": {},
     "output_type": "execute_result"
    }
   ],
   "source": [
    "tmp.keys()"
   ]
  },
  {
   "cell_type": "code",
   "execution_count": 13,
   "id": "2087ebd3",
   "metadata": {},
   "outputs": [],
   "source": [
    "c2i = dict()\n",
    "for i,c in zip(tmp['indices'], tmp['clusters']):\n",
    "    if c not in c2i:\n",
    "        c2i[c] = []\n",
    "    c2i[c].append(i)"
   ]
  },
  {
   "cell_type": "code",
   "execution_count": 15,
   "id": "a0ecc258",
   "metadata": {},
   "outputs": [
    {
     "name": "stdout",
     "output_type": "stream",
     "text": [
      "No definite evidence of acute focal consolidation after the aspiration\n",
      "Neo new parenchymal changes\n",
      "no evidence of pneumothorax following recent bronchoscopic biopsy procedure\n",
      "Multifocal opacities , larger on the bases bilaterally have improved\n",
      "There are no newly appeared parenchymal opacities\n",
      "No evidence of pneumonia in remaining areas of well-ventilated lung\n",
      "No worsening consolidation\n",
      "Otherwise , diffuse patchy opacities throughout the lung fields have improved\n",
      "There are some increased lung markings at the right base and an early infiltrate in this region\n",
      "They were compatible with contusion\n",
      "There is increased alveolar opacity in the left mid lung , but it is due to low lung volumes or an early infiltrate\n",
      "not identify any new discrete parenchymal densities that could have\n",
      "This is new from the prior\n",
      "There is a questionable perihilar consolidation in the right lower lobe\n",
      "no new lung findings\n",
      "radiographic evidence of pneumothorax or pneumomediastinum following recent bronchoscopic procedure\n",
      "In the well-ventilated lung areas , there is no evidence for newly appeared parenchymal opacities\n",
      "There is interval improvement of interstitial air and alveolar opacities demonstrated on the\n",
      "No new focal air space consolidations\n",
      "No new focal parenchymal opacities have appeared in\n"
     ]
    }
   ],
   "source": [
    "import random\n",
    "c = 0\n",
    "for i in random.sample(c2i[c], 20):\n",
    "    print(tmp2['sentences'][i])"
   ]
  },
  {
   "cell_type": "code",
   "execution_count": 10,
   "id": "33b5cf38",
   "metadata": {},
   "outputs": [],
   "source": [
    "tmp2 = load_pickle('/mnt/workspace/pamessina/medvqa-workspace/cache/mimiccxr/cxr_bert_sentence_embeddings(3471872,213302565).pkl')"
   ]
  },
  {
   "cell_type": "code",
   "execution_count": 12,
   "id": "a19763d1",
   "metadata": {},
   "outputs": [
    {
     "data": {
      "text/plain": [
       "dict_keys(['sentences', 'embeddings'])"
      ]
     },
     "execution_count": 12,
     "metadata": {},
     "output_type": "execute_result"
    }
   ],
   "source": [
    "tmp2.keys()"
   ]
  },
  {
   "cell_type": "code",
   "execution_count": null,
   "id": "bbe7e8cd",
   "metadata": {},
   "outputs": [],
   "source": []
  },
  {
   "cell_type": "code",
   "execution_count": 203,
   "id": "f1b0ef09",
   "metadata": {},
   "outputs": [
    {
     "name": "stdout",
     "output_type": "stream",
     "text": [
      "-rw-rw-r-- 1 pamessina socvis 672M Jul 21 03:08 '/mnt/workspace/pamessina/medvqa-workspace/cache/mimiccxr/triplets(2286627,297669,1996654,2501000,1000).pkl'\r\n"
     ]
    }
   ],
   "source": [
    "!ls -lh '/mnt/workspace/pamessina/medvqa-workspace/cache/mimiccxr/triplets(2286627,297669,1996654,2501000,1000).pkl'"
   ]
  },
  {
   "cell_type": "code",
   "execution_count": 128,
   "id": "175969d1",
   "metadata": {},
   "outputs": [],
   "source": [
    "sentence_embeddings = load_pickle('/mnt/workspace/pamessina/medvqa-workspace/cache/mimiccxr/cxr_bert_sentence_embeddings(3471872,213302565).pkl')"
   ]
  },
  {
   "cell_type": "code",
   "execution_count": 129,
   "id": "de0d5839",
   "metadata": {},
   "outputs": [
    {
     "name": "stdout",
     "output_type": "stream",
     "text": [
      "dict_keys(['sentences', 'embeddings'])\n",
      "3471872\n",
      "(3471872, 128)\n"
     ]
    }
   ],
   "source": [
    "print(sentence_embeddings.keys())\n",
    "print(len(sentence_embeddings['sentences']))\n",
    "print(sentence_embeddings['embeddings'].shape)"
   ]
  },
  {
   "cell_type": "code",
   "execution_count": 224,
   "id": "999a9b31",
   "metadata": {},
   "outputs": [],
   "source": [
    "from medvqa.utils.math import rank_vectors_by_dot_product"
   ]
  },
  {
   "cell_type": "code",
   "execution_count": 257,
   "id": "2d29d883",
   "metadata": {},
   "outputs": [],
   "source": [
    "import random\n",
    "# query_idx = sentence_embeddings['sentences'].index('minimal radiolucency adjacent to the lateral aspect of the aortic knob')\n",
    "# query_idx = sentence_embeddings['sentences'].index('no focal lung abnormality')\n",
    "# query_idx = sentence_embeddings['sentences'].index('The previously noted opacity is no longer apparent')\n",
    "query_idx = random.randint(0, len(sentence_embeddings['sentences'])-1)"
   ]
  },
  {
   "cell_type": "code",
   "execution_count": 258,
   "id": "0a6d27ee",
   "metadata": {},
   "outputs": [],
   "source": [
    "indices = rank_vectors_by_dot_product(sentence_embeddings['embeddings'], sentence_embeddings['embeddings'][query_idx])"
   ]
  },
  {
   "cell_type": "code",
   "execution_count": 259,
   "id": "fe2af9ec",
   "metadata": {},
   "outputs": [
    {
     "name": "stdout",
     "output_type": "stream",
     "text": [
      "There are newly identified opacities in the airspace when compared to the prior imaging\n",
      "There is a slight decrease in the density of the infiltrates observed\n",
      "The opacities are more prominent than in the previous scans\n",
      "There are newly identified opacities in the airspace compared to the previous examination\n",
      "Infiltrates are seen diffusely in both lungs on the X-ray\n",
      "The involvement of lung parenchymal opacities is limited\n",
      "The opacities in the cluster are getting more prominent\n",
      "An infectious process has developed widely during the interval\n",
      "The infiltrates are more prominent now compared to the previous findings\n",
      "Diffuse multifocal opacities are seen on the chest X-ray\n",
      "newly appeared bilateral pattern of parenchymal opacities\n",
      "newly-appeared bilateral opacities in the lung parenchyma\n",
      "more extensive infiltrate noted than on prior CT\n",
      "new or substantially progressed heterogeneous opacification\n",
      "The opacities have shown a slight increase in prominence over the period\n",
      "The bilateral opacities have become more noticeable since the recent chest CT\n",
      "The opacity pattern has become more multifocal\n",
      "opacities in the pulmonary tissue of both lungs\n",
      "new parenchymal opacities since previous study\n",
      "bilateral lung parenchymal infiltrates starting at the hilum\n",
      "[\"There are newly identified opacities in the airspace when compared to the prior imaging\", \"There is a slight decrease in the density of the infiltrates observed\", \"The opacities are more prominent than in the previous scans\", \"There are newly identified opacities in the airspace compared to the previous examination\", \"Infiltrates are seen diffusely in both lungs on the X-ray\", \"The involvement of lung parenchymal opacities is limited\", \"The opacities in the cluster are getting more prominent\", \"An infectious process has developed widely during the interval\", \"The infiltrates are more prominent now compared to the previous findings\", \"Diffuse multifocal opacities are seen on the chest X-ray\", \"newly appeared bilateral pattern of parenchymal opacities\", \"newly-appeared bilateral opacities in the lung parenchyma\", \"more extensive infiltrate noted than on prior CT\", \"new or substantially progressed heterogeneous opacification\", \"The opacities have shown a slight increase in prominence over the period\", \"The bilateral opacities have become more noticeable since the recent chest CT\", \"The opacity pattern has become more multifocal\", \"opacities in the pulmonary tissue of both lungs\", \"new parenchymal opacities since previous study\", \"bilateral lung parenchymal infiltrates starting at the hilum\"]\n"
     ]
    }
   ],
   "source": [
    "for i in indices[:20]:\n",
    "    print(sentence_embeddings['sentences'][i])\n",
    "    \n",
    "import json\n",
    "print(json.dumps([sentence_embeddings['sentences'][i] for i in indices[:20]]))"
   ]
  },
  {
   "cell_type": "code",
   "execution_count": 325,
   "id": "0bbe6d3e",
   "metadata": {},
   "outputs": [
    {
     "name": "stdout",
     "output_type": "stream",
     "text": [
      "-rw-rw-r-- 1 pamessina socvis 787M Jul 30 00:57 '/mnt/workspace/pamessina/medvqa-workspace/cache/mimiccxr/triplets(2842463,297669,1996654,2501000,1000).pkl'\r\n"
     ]
    }
   ],
   "source": [
    "!ls -lh \"/mnt/workspace/pamessina/medvqa-workspace/cache/mimiccxr/triplets(2842463,297669,1996654,2501000,1000).pkl\""
   ]
  },
  {
   "cell_type": "code",
   "execution_count": 76,
   "id": "bbe4de06",
   "metadata": {},
   "outputs": [],
   "source": [
    "from medvqa.utils.files import load_pickle\n",
    "\n",
    "# triplets = load_pickle('/mnt/workspace/pamessina/medvqa-workspace/cache/mimiccxr/triplets(2286627,297669,1996654,2501000,1000).pkl')\n",
    "# triplets = load_pickle(\"/mnt/workspace/pamessina/medvqa-workspace/cache/mimiccxr/triplets(2842463,297669,1996654,2500100,100).pkl\")\n",
    "# triplets = load_pickle(\"/mnt/workspace/pamessina/medvqa-workspace/cache/mimiccxr/triplets(2842463,297669,1996654,2501000,1000).pkl\")\n",
    "# triplets = load_pickle(\"/mnt/workspace/pamessina/medvqa-workspace/cache/mimiccxr/triplets(3471872,297669,1996654,1200,100,100).pkl\")\n",
    "triplets = load_pickle(\"/mnt/workspace/pamessina/medvqa-workspace/cache/mimiccxr/triplets(3471872,297669,1996654,2502000,1000,1000).pkl\")"
   ]
  },
  {
   "cell_type": "code",
   "execution_count": 77,
   "id": "8db96ef9",
   "metadata": {},
   "outputs": [
    {
     "data": {
      "text/plain": [
       "dict_keys(['sentences', 'train', 'val', 'test'])"
      ]
     },
     "execution_count": 77,
     "metadata": {},
     "output_type": "execute_result"
    }
   ],
   "source": [
    "triplets.keys()"
   ]
  },
  {
   "cell_type": "code",
   "execution_count": 78,
   "id": "7eec6451",
   "metadata": {},
   "outputs": [
    {
     "data": {
      "text/plain": [
       "3471872"
      ]
     },
     "execution_count": 78,
     "metadata": {},
     "output_type": "execute_result"
    }
   ],
   "source": [
    "len(triplets['sentences'])"
   ]
  },
  {
   "cell_type": "code",
   "execution_count": 79,
   "id": "8b7cc2d3",
   "metadata": {},
   "outputs": [],
   "source": [
    "def _print_triplet(t):\n",
    "    print('A:', triplets['sentences'][t[0]])\n",
    "    print('P:', triplets['sentences'][t[1]])\n",
    "    print('N:', triplets['sentences'][t[2]])"
   ]
  },
  {
   "cell_type": "code",
   "execution_count": 80,
   "id": "60f278eb",
   "metadata": {},
   "outputs": [
    {
     "name": "stdout",
     "output_type": "stream",
     "text": [
      "Rank paraphrases very highly\n"
     ]
    },
    {
     "data": {
      "text/plain": [
       "2879490"
      ]
     },
     "execution_count": 80,
     "metadata": {},
     "output_type": "execute_result"
    }
   ],
   "source": [
    "ridx = 0\n",
    "print(triplets['train']['anatomical_locations'][ridx]['rule'])\n",
    "aux = triplets['train']['anatomical_locations'][ridx]['triplets']\n",
    "len(aux)"
   ]
  },
  {
   "cell_type": "code",
   "execution_count": 156,
   "id": "36cb821d",
   "metadata": {},
   "outputs": [
    {
     "name": "stdout",
     "output_type": "stream",
     "text": [
      "Short observation, detailed observation, and fact must be close to each other - Hard negative\n"
     ]
    },
    {
     "data": {
      "text/plain": [
       "4428119"
      ]
     },
     "execution_count": 156,
     "metadata": {},
     "output_type": "execute_result"
    }
   ],
   "source": [
    "ridx = 4\n",
    "print(triplets['train']['observations'][ridx]['rule'])\n",
    "aux = triplets['train']['observations'][ridx]['triplets']\n",
    "len(aux)"
   ]
  },
  {
   "cell_type": "code",
   "execution_count": 154,
   "id": "2af485ce",
   "metadata": {},
   "outputs": [
    {
     "name": "stdout",
     "output_type": "stream",
     "text": [
      "A: FINDINGS : The heart is mildly enlarged with a left ventricular configuration\n",
      "P: Cardiac silhouette is mildly enlarged\n",
      "N: Right apical pneumothorax with a diameter of approximately 13 mm\n"
     ]
    }
   ],
   "source": [
    "import random\n",
    "_print_triplet(random.choice(aux))"
   ]
  },
  {
   "cell_type": "code",
   "execution_count": 125,
   "id": "6838411d",
   "metadata": {},
   "outputs": [],
   "source": [
    "import numpy as np\n",
    "\n",
    "def dot_product_triplets_accuracy(vectors, A, P, N):\n",
    "    A = vectors[A]\n",
    "    P = vectors[P]\n",
    "    N = vectors[N]\n",
    "    AP = np.sum(A * P, axis=1)\n",
    "    AN = np.sum(A * N, axis=1)\n",
    "    return np.mean(AP > AN)"
   ]
  },
  {
   "cell_type": "code",
   "execution_count": 138,
   "id": "7e723ac6",
   "metadata": {},
   "outputs": [
    {
     "name": "stdout",
     "output_type": "stream",
     "text": [
      "RadGraph-based triplets (Human Annotations)\n"
     ]
    },
    {
     "data": {
      "text/plain": [
       "0.989"
      ]
     },
     "execution_count": 138,
     "metadata": {},
     "output_type": "execute_result"
    }
   ],
   "source": [
    "ridx = 6\n",
    "split = 'val'\n",
    "# category  = 'anatomical_locations'\n",
    "category  = 'observations'\n",
    "\n",
    "print(triplets[split][category][ridx]['rule'])\n",
    "\n",
    "A = triplets[split][category][ridx]['triplets'].T[0]\n",
    "P = triplets[split][category][ridx]['triplets'].T[1]\n",
    "N = triplets[split][category][ridx]['triplets'].T[2]\n",
    "\n",
    "dot_product_triplets_accuracy(sentence_embeddings['embeddings'], A, P, N)"
   ]
  },
  {
   "cell_type": "code",
   "execution_count": 56,
   "id": "7d2aace4",
   "metadata": {},
   "outputs": [],
   "source": [
    "clusters = load_pickle('/mnt/workspace/pamessina/medvqa-workspace/cache/mimiccxr/clusters(100,100297669,1315702).pkl')"
   ]
  },
  {
   "cell_type": "code",
   "execution_count": 57,
   "id": "d8f98b1e",
   "metadata": {},
   "outputs": [
    {
     "data": {
      "text/plain": [
       "dict_keys(['indices', 'clusters'])"
      ]
     },
     "execution_count": 57,
     "metadata": {},
     "output_type": "execute_result"
    }
   ],
   "source": [
    "clusters['anatomical_locations'].keys()"
   ]
  },
  {
   "cell_type": "code",
   "execution_count": 58,
   "id": "358dc4ee",
   "metadata": {},
   "outputs": [],
   "source": [
    "anatloc_cluster2indices = [[] for _ in range(max(clusters['anatomical_locations']['clusters'])+1)]\n",
    "for cid, idx in zip(clusters['anatomical_locations']['clusters'], clusters['anatomical_locations']['indices']):\n",
    "    anatloc_cluster2indices[cid].append(idx)"
   ]
  },
  {
   "cell_type": "code",
   "execution_count": 59,
   "id": "52803305",
   "metadata": {},
   "outputs": [
    {
     "data": {
      "text/plain": [
       "100"
      ]
     },
     "execution_count": 59,
     "metadata": {},
     "output_type": "execute_result"
    }
   ],
   "source": [
    "len(anatloc_cluster2indices)"
   ]
  },
  {
   "cell_type": "code",
   "execution_count": 60,
   "id": "8775a1b2",
   "metadata": {},
   "outputs": [],
   "source": [
    "obs_cluster2indices = [[] for _ in range(max(clusters['observations']['clusters'])+1)]\n",
    "for cid, idx in zip(clusters['observations']['clusters'], clusters['observations']['indices']):\n",
    "    obs_cluster2indices[cid].append(idx)"
   ]
  },
  {
   "cell_type": "code",
   "execution_count": 61,
   "id": "8a5a945a",
   "metadata": {},
   "outputs": [
    {
     "data": {
      "text/plain": [
       "100"
      ]
     },
     "execution_count": 61,
     "metadata": {},
     "output_type": "execute_result"
    }
   ],
   "source": [
    "len(obs_cluster2indices)"
   ]
  },
  {
   "cell_type": "code",
   "execution_count": 62,
   "id": "4ef981c0",
   "metadata": {},
   "outputs": [],
   "source": [
    "import matplotlib.pyplot as plt"
   ]
  },
  {
   "cell_type": "code",
   "execution_count": 63,
   "id": "394754c6",
   "metadata": {},
   "outputs": [
    {
     "data": {
      "image/png": "[encoded data removed]",
      "text/plain": [
       "<Figure size 640x480 with 1 Axes>"
      ]
     },
     "metadata": {},
     "output_type": "display_data"
    }
   ],
   "source": [
    "plt.hist([len(x) for x in anatloc_cluster2indices], bins=100)\n",
    "plt.show()"
   ]
  },
  {
   "cell_type": "code",
   "execution_count": 64,
   "id": "33616072",
   "metadata": {},
   "outputs": [
    {
     "data": {
      "image/png": "[encoded data removed]",
      "text/plain": [
       "<Figure size 640x480 with 1 Axes>"
      ]
     },
     "metadata": {},
     "output_type": "display_data"
    }
   ],
   "source": [
    "plt.hist([len(x) for x in obs_cluster2indices], bins=100)\n",
    "plt.show()"
   ]
  },
  {
   "cell_type": "code",
   "execution_count": 66,
   "id": "1cb239eb",
   "metadata": {},
   "outputs": [
    {
     "name": "stdout",
     "output_type": "stream",
     "text": [
      "right lateral aspect of the previously identified basilar pneumothorax\n",
      "superior right thoracic cavity\n",
      "right lung's superior aspect after surgery\n",
      "right chest wall in the lower area\n",
      "right-sided subcutaneous catheter\n",
      "right lung at the fifth intercostal notch\n",
      "right lateral space\n",
      "right lower mid chest compartment\n",
      "right lateral chest wall lower\n",
      "right upper lateral hemithoracic compartment\n",
      "lower in position compared to the right apical opacity\n",
      "remnant of the right upper lobe bronchus\n",
      "right chest walls\n",
      "located in front of the right major fissure\n",
      "upper apical area of the right hemithorax\n",
      "right lower chest wall lateral area\n",
      "right chest wall below the skin\n",
      "pleural membrane at the apex of the right lung\n",
      "right apical subpleural\n",
      "right hemithoracic apicolateral aspects\n"
     ]
    }
   ],
   "source": [
    "import random\n",
    "\n",
    "cid = 6\n",
    "for i in random.sample(anatloc_cluster2indices[cid], 20):\n",
    "    print(sentence_embeddings['sentences'][i])"
   ]
  },
  {
   "cell_type": "code",
   "execution_count": 67,
   "id": "7545795a",
   "metadata": {},
   "outputs": [
    {
     "name": "stdout",
     "output_type": "stream",
     "text": [
      "truncation of the right lateral collarbone\n",
      "degenerative changes at the right bilateral acromioclavicular joints\n",
      "rule out pneumonia\n",
      "possibility of small airways disease\n",
      "subtle opacity over left fourth rib\n",
      "lucency anteriorly on the previous lateral view\n",
      "probable innocuous calcified granuloma\n",
      "nodular opacification in the retrosternal region on the lateral view\n",
      "8-mm possible pulmonary nodule\n",
      "no consolidative opacity on the lateral view\n",
      "potential calcified granuloma\n",
      "minimal peribronchiolar opacities in the right infrahilar region\n",
      "small deviation of the fracture in the right posterolateral seventh rib\n",
      "exhibiting a posterior projection on the lateral view\n",
      "degenerative abnormalities of the AC joint in both shoulders\n",
      "no vertebral body depression fracture\n",
      "slight opacity in the outer region of the upper half of the chest\n",
      "likelihood of an enlarged thyroid gland on the right side\n",
      "nodular shadows projecting over the right anterior fifth rib\n",
      "subtle ovoid 7-8 mm nodular opacity projecting over the right lung base\n"
     ]
    }
   ],
   "source": [
    "cid = 6\n",
    "for i in random.sample(obs_cluster2indices[cid], 20):\n",
    "    print(sentence_embeddings['sentences'][i])"
   ]
  }
 ],
 "metadata": {
  "kernelspec": {
   "display_name": "venv2",
   "language": "python",
   "name": "venv2"
  },
  "language_info": {
   "codemirror_mode": {
    "name": "ipython",
    "version": 3
   },
   "file_extension": ".py",
   "mimetype": "text/x-python",
   "name": "python",
   "nbconvert_exporter": "python",
   "pygments_lexer": "ipython3",
   "version": "3.10.10"
  }
 },
 "nbformat": 4,
 "nbformat_minor": 5
}
