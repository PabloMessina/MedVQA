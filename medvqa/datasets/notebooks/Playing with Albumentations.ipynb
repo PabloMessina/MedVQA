{
 "cells": [
  {
   "cell_type": "code",
   "execution_count": 6,
   "metadata": {},
   "outputs": [
    {
     "name": "stdout",
     "output_type": "stream",
     "text": [
      "Requirement already satisfied: pip in /home/pamessina/venv/lib/python3.6/site-packages (21.3.1)\n",
      "Requirement already satisfied: setuptools in /home/pamessina/venv/lib/python3.6/site-packages (45.2.0)\n",
      "Collecting setuptools\n",
      "  Downloading setuptools-59.6.0-py3-none-any.whl (952 kB)\n",
      "     |████████████████████████████████| 952 kB 14.0 MB/s            \n",
      "\u001b[?25hRequirement already satisfied: wheel in /home/pamessina/venv/lib/python3.6/site-packages (0.34.2)\n",
      "Collecting wheel\n",
      "  Downloading wheel-0.37.1-py2.py3-none-any.whl (35 kB)\n",
      "Installing collected packages: wheel, setuptools\n",
      "  Attempting uninstall: wheel\n",
      "    Found existing installation: wheel 0.34.2\n",
      "    Uninstalling wheel-0.34.2:\n",
      "      Successfully uninstalled wheel-0.34.2\n",
      "  Attempting uninstall: setuptools\n",
      "    Found existing installation: setuptools 45.2.0\n",
      "    Uninstalling setuptools-45.2.0:\n",
      "      Successfully uninstalled setuptools-45.2.0\n",
      "Successfully installed setuptools-59.6.0 wheel-0.37.1\n"
     ]
    }
   ],
   "source": [
    "!pip install --upgrade pip setuptools wheel"
   ]
  },
  {
   "cell_type": "code",
   "execution_count": 7,
   "metadata": {},
   "outputs": [
    {
     "name": "stdout",
     "output_type": "stream",
     "text": [
      "Requirement already satisfied: pip in /home/pamessina/venv/lib/python3.6/site-packages (21.3.1)\r\n"
     ]
    }
   ],
   "source": [
    "!pip install --upgrade pip"
   ]
  },
  {
   "cell_type": "code",
   "execution_count": 8,
   "metadata": {},
   "outputs": [
    {
     "name": "stdout",
     "output_type": "stream",
     "text": [
      "Collecting albumentations\n",
      "  Using cached albumentations-1.3.0-py3-none-any.whl (123 kB)\n",
      "Requirement already satisfied: scipy in /home/pamessina/venv/lib/python3.6/site-packages (from albumentations) (1.4.1)\n",
      "Requirement already satisfied: numpy>=1.11.1 in /home/pamessina/venv/lib/python3.6/site-packages (from albumentations) (1.19.5)\n",
      "Collecting opencv-python-headless>=4.1.1\n",
      "  Using cached opencv-python-headless-4.7.0.68.tar.gz (91.1 MB)\n",
      "  Installing build dependencies ... \u001b[?25ldone\n",
      "\u001b[?25h  Getting requirements to build wheel ... \u001b[?25ldone\n",
      "\u001b[?25h  Preparing metadata (pyproject.toml) ... \u001b[?25ldone\n",
      "\u001b[?25hRequirement already satisfied: PyYAML in /home/pamessina/venv/lib/python3.6/site-packages (from albumentations) (5.4.1)\n",
      "Collecting qudida>=0.0.4\n",
      "  Using cached qudida-0.0.4-py3-none-any.whl (3.5 kB)\n",
      "Requirement already satisfied: scikit-image>=0.16.1 in /home/pamessina/venv/lib/python3.6/site-packages (from albumentations) (0.17.1)\n",
      "Requirement already satisfied: typing-extensions in /home/pamessina/venv/lib/python3.6/site-packages (from qudida>=0.0.4->albumentations) (3.10.0.0)\n",
      "Requirement already satisfied: scikit-learn>=0.19.1 in /home/pamessina/venv/lib/python3.6/site-packages (from qudida>=0.0.4->albumentations) (0.22.2.post1)\n",
      "Requirement already satisfied: pillow!=7.1.0,!=7.1.1,>=4.3.0 in /home/pamessina/venv/lib/python3.6/site-packages (from scikit-image>=0.16.1->albumentations) (7.0.0)\n",
      "Requirement already satisfied: PyWavelets>=1.1.1 in /home/pamessina/venv/lib/python3.6/site-packages (from scikit-image>=0.16.1->albumentations) (1.1.1)\n",
      "Requirement already satisfied: pooch>=0.5.2 in /home/pamessina/venv/lib/python3.6/site-packages (from scikit-image>=0.16.1->albumentations) (1.1.0)\n",
      "Requirement already satisfied: tifffile>=2019.7.26 in /home/pamessina/venv/lib/python3.6/site-packages (from scikit-image>=0.16.1->albumentations) (2020.5.7)\n",
      "Requirement already satisfied: imageio>=2.3.0 in /home/pamessina/venv/lib/python3.6/site-packages (from scikit-image>=0.16.1->albumentations) (2.8.0)\n",
      "Requirement already satisfied: networkx>=2.0 in /home/pamessina/venv/lib/python3.6/site-packages (from scikit-image>=0.16.1->albumentations) (2.4)\n",
      "Requirement already satisfied: matplotlib!=3.0.0,>=2.0.0 in /home/pamessina/venv/lib/python3.6/site-packages (from scikit-image>=0.16.1->albumentations) (3.3.4)\n",
      "Requirement already satisfied: pyparsing!=2.0.4,!=2.1.2,!=2.1.6,>=2.0.3 in /home/pamessina/venv/lib/python3.6/site-packages (from matplotlib!=3.0.0,>=2.0.0->scikit-image>=0.16.1->albumentations) (2.4.7)\n",
      "Requirement already satisfied: kiwisolver>=1.0.1 in /home/pamessina/venv/lib/python3.6/site-packages (from matplotlib!=3.0.0,>=2.0.0->scikit-image>=0.16.1->albumentations) (1.2.0)\n",
      "Requirement already satisfied: cycler>=0.10 in /home/pamessina/venv/lib/python3.6/site-packages (from matplotlib!=3.0.0,>=2.0.0->scikit-image>=0.16.1->albumentations) (0.10.0)\n",
      "Requirement already satisfied: python-dateutil>=2.1 in /home/pamessina/venv/lib/python3.6/site-packages (from matplotlib!=3.0.0,>=2.0.0->scikit-image>=0.16.1->albumentations) (2.8.1)\n",
      "Requirement already satisfied: decorator>=4.3.0 in /home/pamessina/venv/lib/python3.6/site-packages (from networkx>=2.0->scikit-image>=0.16.1->albumentations) (4.4.2)\n",
      "Requirement already satisfied: appdirs in /home/pamessina/venv/lib/python3.6/site-packages (from pooch>=0.5.2->scikit-image>=0.16.1->albumentations) (1.4.3)\n",
      "Requirement already satisfied: requests in /home/pamessina/venv/lib/python3.6/site-packages (from pooch>=0.5.2->scikit-image>=0.16.1->albumentations) (2.23.0)\n",
      "Requirement already satisfied: packaging in /home/pamessina/venv/lib/python3.6/site-packages (from pooch>=0.5.2->scikit-image>=0.16.1->albumentations) (21.3)\n",
      "Requirement already satisfied: joblib>=0.11 in /home/pamessina/venv/lib/python3.6/site-packages (from scikit-learn>=0.19.1->qudida>=0.0.4->albumentations) (0.14.1)\n",
      "Requirement already satisfied: imagecodecs>=2020.2.18 in /home/pamessina/venv/lib/python3.6/site-packages (from tifffile>=2019.7.26->scikit-image>=0.16.1->albumentations) (2020.2.18)\n",
      "Requirement already satisfied: six in /home/pamessina/venv/lib/python3.6/site-packages (from cycler>=0.10->matplotlib!=3.0.0,>=2.0.0->scikit-image>=0.16.1->albumentations) (1.14.0)\n",
      "Requirement already satisfied: urllib3!=1.25.0,!=1.25.1,<1.26,>=1.21.1 in /home/pamessina/venv/lib/python3.6/site-packages (from requests->pooch>=0.5.2->scikit-image>=0.16.1->albumentations) (1.25.9)\n",
      "Requirement already satisfied: idna<3,>=2.5 in /home/pamessina/venv/lib/python3.6/site-packages (from requests->pooch>=0.5.2->scikit-image>=0.16.1->albumentations) (2.9)\n",
      "Requirement already satisfied: certifi>=2017.4.17 in /home/pamessina/venv/lib/python3.6/site-packages (from requests->pooch>=0.5.2->scikit-image>=0.16.1->albumentations) (2020.4.5.1)\n",
      "Requirement already satisfied: chardet<4,>=3.0.2 in /home/pamessina/venv/lib/python3.6/site-packages (from requests->pooch>=0.5.2->scikit-image>=0.16.1->albumentations) (3.0.4)\n",
      "Building wheels for collected packages: opencv-python-headless\n",
      "  Building wheel for opencv-python-headless (pyproject.toml) ... \u001b[?25ldone\n",
      "\u001b[?25h  Created wheel for opencv-python-headless: filename=opencv_python_headless-4.7.0.68-cp36-cp36m-linux_x86_64.whl size=29247936 sha256=8101d1539dda6ee2ea45732035d8562e6a0f4399bc9f96fe4552cd1693b08888\n",
      "  Stored in directory: /home/pamessina/.cache/pip/wheels/40/32/12/7375f7b8e8290fe0e76391cc7d0b32504570ca4b1ba55b9510\n",
      "Successfully built opencv-python-headless\n",
      "Installing collected packages: opencv-python-headless, qudida, albumentations\n",
      "Successfully installed albumentations-1.3.0 opencv-python-headless-4.7.0.68 qudida-0.0.4\n"
     ]
    }
   ],
   "source": [
    "!pip install albumentations"
   ]
  }
 ],
 "metadata": {
  "kernelspec": {
   "display_name": "Python 3",
   "language": "python",
   "name": "python3"
  },
  "language_info": {
   "codemirror_mode": {
    "name": "ipython",
    "version": 3
   },
   "file_extension": ".py",
   "mimetype": "text/x-python",
   "name": "python",
   "nbconvert_exporter": "python",
   "pygments_lexer": "ipython3",
   "version": "3.6.9"
  }
 },
 "nbformat": 4,
 "nbformat_minor": 4
}
