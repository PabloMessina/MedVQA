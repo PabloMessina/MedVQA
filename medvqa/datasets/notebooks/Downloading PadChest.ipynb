{
 "cells": [
  {
   "cell_type": "code",
   "execution_count": 1,
   "id": "ea3b0a83",
   "metadata": {},
   "outputs": [
    {
     "name": "stdout",
     "output_type": "stream",
     "text": [
      "total 306G\r\n",
      "-rw-r--r-- 1 pamessina pamessina    0 Oct 20 09:20 0.zip\r\n",
      "-rw-r--r-- 1 pamessina pamessina 238K Oct 22 18:27 0.zip.unzip-l.txt\r\n",
      "-rw-r--r-- 1 pamessina pamessina    0 Oct 20 09:20 10.zip\r\n",
      "-rw-r--r-- 1 pamessina pamessina    0 Oct 20 09:20 10.zip.unzip-l.txt\r\n",
      "-rw-r--r-- 1 pamessina pamessina    0 Oct 20 09:20 11.zip\r\n",
      "-rw-r--r-- 1 pamessina pamessina    0 Oct 20 09:20 11.zip.unzip-l.txt\r\n",
      "-rw-r--r-- 1 pamessina pamessina    0 Oct 20 09:20 12.zip\r\n",
      "-rw-r--r-- 1 pamessina pamessina 281K Oct 22 18:43 12.zip.unzip-l.txt\r\n",
      "-rw-r--r-- 1 pamessina pamessina    0 Oct 20 09:20 13.zip\r\n",
      "-rw-r--r-- 1 pamessina pamessina    0 Oct 20 09:18 13.zip.unzip-l.txt\r\n",
      "-rw-r--r-- 1 pamessina pamessina    0 Oct 20 09:16 14.zip\r\n",
      "-rw-r--r-- 1 pamessina pamessina    0 Oct 20 09:14 14.zip.unzip-l.txt\r\n",
      "-rw-r--r-- 1 pamessina pamessina    0 Oct 20 09:12 15.zip\r\n",
      "-rw-r--r-- 1 pamessina pamessina    0 Oct 20 09:12 15.zip.unzip-l.txt\r\n",
      "-rw-r--r-- 1 pamessina pamessina    0 Oct 20 09:12 16.zip\r\n",
      "-rw-r--r-- 1 pamessina pamessina 285K Oct 22 18:43 16.zip.unzip-l.txt\r\n",
      "-rw-r--r-- 1 pamessina pamessina    0 Oct 20 09:12 17.zip\r\n",
      "-rw-r--r-- 1 pamessina pamessina    0 Oct 20 09:12 17.zip.unzip-l.txt\r\n",
      "-rw-r--r-- 1 pamessina pamessina    0 Oct 20 09:12 18.zip\r\n",
      "-rw-r--r-- 1 pamessina pamessina    0 Oct 20 09:12 18.zip.unzip-l.txt\r\n",
      "-rw-r--r-- 1 pamessina pamessina    0 Oct 20 09:12 19.zip\r\n",
      "-rw-r--r-- 1 pamessina pamessina 285K Oct 22 18:43 19.zip.unzip-l.txt\r\n",
      "-rw-r--r-- 1 pamessina pamessina    0 Oct 20 09:20 1.zip\r\n",
      "-rw-r--r-- 1 pamessina pamessina    0 Oct 20 09:20 1.zip.unzip-l.txt\r\n",
      "-rw-r--r-- 1 pamessina pamessina    0 Oct 20 09:12 20.zip\r\n",
      "-rw-r--r-- 1 pamessina pamessina    0 Oct 20 09:12 20.zip.unzip-l.txt\r\n",
      "-rw-r--r-- 1 pamessina pamessina    0 Oct 20 09:12 21.zip\r\n",
      "-rw-r--r-- 1 pamessina pamessina    0 Oct 20 09:12 21.zip.unzip-l.txt\r\n",
      "-rw-r--r-- 1 pamessina pamessina    0 Oct 20 09:12 22.zip\r\n",
      "-rw-r--r-- 1 pamessina pamessina    0 Oct 20 09:12 22.zip.unzip-l.txt\r\n",
      "-rw-r--r-- 1 pamessina pamessina    0 Oct 20 09:12 23.zip\r\n",
      "-rw-r--r-- 1 pamessina pamessina    0 Oct 20 09:12 23.zip.unzip-l.txt\r\n",
      "-rw-r--r-- 1 pamessina pamessina    0 Oct 20 09:12 24.zip\r\n",
      "-rw-r--r-- 1 pamessina pamessina    0 Oct 20 09:12 24.zip.unzip-l.txt\r\n",
      "-rw-r--r-- 1 pamessina pamessina    0 Oct 20 09:12 25.zip\r\n",
      "-rw-r--r-- 1 pamessina pamessina    0 Oct 20 09:12 25.zip.unzip-l.txt\r\n",
      "-rw-r--r-- 1 pamessina pamessina 2.1G Oct 22 19:07 26.zip\r\n",
      "-rw-r--r-- 1 pamessina pamessina    0 Oct 20 09:12 26.zip.unzip-l.txt\r\n",
      "-rw-r--r-- 1 pamessina pamessina 3.1G Oct 20 09:12 27.zip\r\n",
      "-rw-r--r-- 1 pamessina pamessina 285K Oct 20 09:02 27.zip.unzip-l.txt\r\n",
      "-rw-r--r-- 1 pamessina pamessina 2.6G Oct 20 09:02 28.zip\r\n",
      "-rw-r--r-- 1 pamessina pamessina 285K Oct 20 08:53 28.zip.unzip-l.txt\r\n",
      "-rw-r--r-- 1 pamessina pamessina    0 Oct 20 08:52 29.zip\r\n",
      "-rw-r--r-- 1 pamessina pamessina    0 Oct 20 08:52 29.zip.unzip-l.txt\r\n",
      "-rw-r--r-- 1 pamessina pamessina    0 Oct 20 09:12 2.zip\r\n",
      "-rw-r--r-- 1 pamessina pamessina    0 Oct 20 09:12 2.zip.unzip-l.txt\r\n",
      "-rw-r--r-- 1 pamessina pamessina    0 Oct 20 08:52 30.zip\r\n",
      "-rw-r--r-- 1 pamessina pamessina    0 Oct 20 08:52 30.zip.unzip-l.txt\r\n",
      "-rw-r--r-- 1 pamessina pamessina    0 Oct 20 08:52 31.zip\r\n",
      "-rw-r--r-- 1 pamessina pamessina 285K Oct 22 18:52 31.zip.unzip-l.txt\r\n",
      "-rw-r--r-- 1 pamessina pamessina    0 Oct 20 08:52 32.zip\r\n",
      "-rw-r--r-- 1 pamessina pamessina    0 Oct 20 08:52 32.zip.unzip-l.txt\r\n",
      "-rw-r--r-- 1 pamessina pamessina    0 Oct 20 08:52 33.zip\r\n",
      "-rw-r--r-- 1 pamessina pamessina    0 Oct 20 08:52 33.zip.unzip-l.txt\r\n",
      "-rw-r--r-- 1 pamessina pamessina    0 Oct 20 08:52 34.zip\r\n",
      "-rw-r--r-- 1 pamessina pamessina    0 Oct 20 08:52 34.zip.unzip-l.txt\r\n",
      "-rw-r--r-- 1 pamessina pamessina 1.3G Oct 20 08:52 35.zip\r\n",
      "-rw-r--r-- 1 pamessina pamessina 285K Oct 20 08:47 35.zip.unzip-l.txt\r\n",
      "-rw-r--r-- 1 pamessina pamessina  20G Oct 20 08:47 36.zip\r\n",
      "-rw-r--r-- 1 pamessina pamessina 285K Oct 20 07:27 36.zip.unzip-l.txt\r\n",
      "-rw-r--r-- 1 pamessina pamessina  19G Oct 20 07:27 37.zip\r\n",
      "-rw-r--r-- 1 pamessina pamessina 284K Oct 20 05:57 37.zip.unzip-l.txt\r\n",
      "-rw-r--r-- 1 pamessina pamessina    0 Oct 20 05:57 38.zip\r\n",
      "-rw-r--r-- 1 pamessina pamessina    0 Oct 20 05:57 38.zip.unzip-l.txt\r\n",
      "-rw-r--r-- 1 pamessina pamessina    0 Oct 20 05:57 39.zip\r\n",
      "-rw-r--r-- 1 pamessina pamessina    0 Oct 20 05:57 39.zip.unzip-l.txt\r\n",
      "-rw-r--r-- 1 pamessina pamessina    0 Oct 20 08:52 3.zip\r\n",
      "-rw-r--r-- 1 pamessina pamessina    0 Oct 20 08:52 3.zip.unzip-l.txt\r\n",
      "-rw-r--r-- 1 pamessina pamessina    0 Oct 20 05:57 40.zip\r\n",
      "-rw-r--r-- 1 pamessina pamessina    0 Oct 20 05:57 40.zip.unzip-l.txt\r\n",
      "-rw-r--r-- 1 pamessina pamessina    0 Oct 20 05:57 41.zip\r\n",
      "-rw-r--r-- 1 pamessina pamessina    0 Oct 20 05:57 41.zip.unzip-l.txt\r\n",
      "-rw-r--r-- 1 pamessina pamessina 9.0G Oct 20 05:57 42.zip\r\n",
      "-rw-r--r-- 1 pamessina pamessina 285K Oct 20 04:58 42.zip.unzip-l.txt\r\n",
      "-rw-r--r-- 1 pamessina pamessina  18G Oct 20 04:58 43.zip\r\n",
      "-rw-r--r-- 1 pamessina pamessina 285K Oct 20 03:47 43.zip.unzip-l.txt\r\n",
      "-rw-r--r-- 1 pamessina pamessina  19G Oct 20 03:47 44.zip\r\n",
      "-rw-r--r-- 1 pamessina pamessina 285K Oct 20 02:42 44.zip.unzip-l.txt\r\n",
      "-rw-r--r-- 1 pamessina pamessina  18G Oct 20 02:42 45.zip\r\n",
      "-rw-r--r-- 1 pamessina pamessina 285K Oct 20 01:23 45.zip.unzip-l.txt\r\n",
      "-rw-r--r-- 1 pamessina pamessina  20G Oct 20 01:23 46.zip\r\n",
      "-rw-r--r-- 1 pamessina pamessina 285K Oct 20 00:17 46.zip.unzip-l.txt\r\n",
      "-rw-r--r-- 1 pamessina pamessina  19G Oct 20 00:17 47.zip\r\n",
      "-rw-r--r-- 1 pamessina pamessina 285K Oct 19 23:20 47.zip.unzip-l.txt\r\n",
      "-rw-r--r-- 1 pamessina pamessina  20G Oct 19 23:20 48.zip\r\n",
      "-rw-r--r-- 1 pamessina pamessina 284K Oct 19 21:42 48.zip.unzip-l.txt\r\n",
      "-rw-r--r-- 1 pamessina pamessina  20G Oct 19 21:42 49.zip\r\n",
      "-rw-r--r-- 1 pamessina pamessina 285K Oct 19 20:38 49.zip.unzip-l.txt\r\n",
      "-rw-r--r-- 1 pamessina pamessina    0 Oct 20 05:57 4.zip\r\n",
      "-rw-r--r-- 1 pamessina pamessina    0 Oct 20 05:57 4.zip.unzip-l.txt\r\n",
      "-rw-r--r-- 1 pamessina pamessina  14M Oct 19 19:31 50.zip\r\n",
      "-rw-r--r-- 1 pamessina pamessina  259 Oct 19 19:31 50.zip.unzip-l.txt\r\n",
      "-rw-r--r-- 1 pamessina pamessina  30G Oct 19 19:31 54.zip\r\n",
      "-rw-r--r-- 1 pamessina pamessina 340K Oct 19 17:54 54.zip.unzip-l.txt\r\n",
      "-rw-r--r-- 1 pamessina pamessina  21G Oct 19 20:38 5.zip\r\n",
      "-rw-r--r-- 1 pamessina pamessina 233K Oct 19 19:31 5.zip.unzip-l.txt\r\n",
      "-rw-r--r-- 1 pamessina pamessina  12G Oct 19 17:54 6.zip\r\n",
      "-rw-r--r-- 1 pamessina pamessina 131K Oct 19 17:19 6.zip.unzip-l.txt\r\n",
      "-rw-r--r-- 1 pamessina pamessina  19G Oct 19 17:19 7.zip\r\n",
      "-rw-r--r-- 1 pamessina pamessina 217K Oct 19 15:52 7.zip.unzip-l.txt\r\n",
      "-rw-r--r-- 1 pamessina pamessina  21G Oct 19 15:52 8.zip\r\n",
      "-rw-r--r-- 1 pamessina pamessina 237K Oct 19 14:18 8.zip.unzip-l.txt\r\n",
      "-rw-r--r-- 1 pamessina pamessina  21G Oct 19 14:18 9.zip\r\n",
      "-rw-r--r-- 1 pamessina pamessina 237K Oct 19 12:36 9.zip.unzip-l.txt\r\n",
      "-rw-r--r-- 1 pamessina pamessina 2.5K Oct 19 12:35 HEADER.md\r\n",
      "-rw-r--r-- 1 pamessina pamessina 4.1K Oct 19 12:35 LICENSE.md\r\n",
      "-rw-r--r-- 1 pamessina pamessina  17M Oct 19 12:35 PADCHEST_chest_x_ray_images_labels_160K_01.02.19.csv.gz\r\n",
      "-rw-r--r-- 1 pamessina pamessina  312 Oct 19 12:35 README.md\r\n",
      "-rw-r--r-- 1 pamessina pamessina 5.8K Oct 19 12:35 sha1sums-b.txt\r\n",
      "-rw-r--r-- 1 pamessina pamessina 5.8K Oct 19 12:35 sha1sums.txt\r\n",
      "-rw-r--r-- 1 pamessina pamessina 4.9K Oct 19 12:35 Verify_Zips_ImageCounts.csv.xlsx\r\n"
     ]
    }
   ],
   "source": [
    "!ls -lh /mnt/data2/PadChest/"
   ]
  },
  {
   "cell_type": "code",
   "execution_count": 22,
   "id": "5fa8a479",
   "metadata": {},
   "outputs": [],
   "source": [
    "import hashlib\n",
    "import os\n",
    "import subprocess\n",
    "from termcolor import colored\n",
    "from tqdm import tqdm"
   ]
  },
  {
   "cell_type": "code",
   "execution_count": 3,
   "id": "0a96714a",
   "metadata": {},
   "outputs": [],
   "source": [
    "def load_sha1sums():\n",
    "    file2sha1sum = dict()\n",
    "    with open('/mnt/data2/PadChest/sha1sums.txt', 'r') as f:\n",
    "        for line in f.readlines():\n",
    "            sha1sum, filename = line.split()\n",
    "            file2sha1sum[filename] = sha1sum\n",
    "    return file2sha1sum"
   ]
  },
  {
   "cell_type": "code",
   "execution_count": 4,
   "id": "3a2775be",
   "metadata": {},
   "outputs": [],
   "source": [
    "def compute_sha1(filepath):\n",
    "    # BUF_SIZE is totally arbitrary, change for your app!\n",
    "    BUF_SIZE = 65536  # lets read stuff in 64kb chunks!\n",
    "\n",
    "    sha1 = hashlib.sha1()\n",
    "\n",
    "    with open(filepath, 'rb') as f:\n",
    "        while True:\n",
    "            data = f.read(BUF_SIZE)\n",
    "            if not data:\n",
    "                break\n",
    "            sha1.update(data)\n",
    "            \n",
    "    return sha1.hexdigest()"
   ]
  },
  {
   "cell_type": "code",
   "execution_count": 5,
   "id": "c26cde86",
   "metadata": {},
   "outputs": [],
   "source": [
    "def start(executable_file):\n",
    "    return subprocess.Popen(\n",
    "        executable_file,\n",
    "        shell=True,\n",
    "        stdin=subprocess.PIPE,\n",
    "        stdout=subprocess.PIPE,\n",
    "        stderr=subprocess.PIPE)\n",
    "\n",
    "def read(process):\n",
    "    return process.stdout.readline().decode(\"utf-8\").strip()\n",
    "\n",
    "def write(process, message):\n",
    "    process.stdin.write(f\"{message.strip()}\\n\".encode(\"utf-8\"))\n",
    "    process.stdin.flush()\n",
    "\n",
    "def terminate(process):\n",
    "    process.stdin.close()\n",
    "    process.terminate()\n",
    "    process.wait(timeout=0.2)"
   ]
  },
  {
   "cell_type": "code",
   "execution_count": 6,
   "id": "a01f802e",
   "metadata": {},
   "outputs": [],
   "source": [
    "expected_sha1sums = load_sha1sums()"
   ]
  },
  {
   "cell_type": "code",
   "execution_count": 23,
   "id": "49b2a19e",
   "metadata": {},
   "outputs": [
    {
     "data": {
      "text/plain": [
       "{'0.zip': '249815521b04435271eb1ea473f64a8c48655392',\n",
       " '10.zip': '209283a99e481208d02c57225574fb6ac824d697',\n",
       " '11.zip': 'd18c752350b0f1443d563ee14b5862a6f991dc73',\n",
       " '12.zip': '7be008ac1296d65fba1e4f73ac9341a54eddf021',\n",
       " '13.zip': '68b921ad41c963677ae7080f5a885118205279a0',\n",
       " '14.zip': '2301e7f0b02eac86646c4b464ea416b4e320976b',\n",
       " '15.zip': 'b496dc8abc8f1f38e62e92bbf34373fff30330eb',\n",
       " '16.zip': '5109b5f485886c49ac508df95c496fe427e009e9',\n",
       " '17.zip': '3834dbaec03da167f24a4caaeddd2ccf829bf5b9',\n",
       " '18.zip': '5a56a3a33d17fc84d3306aabc7bf667746c5b5ab',\n",
       " '19.zip': '8e536a2c1ede845d2963291c31b6d9ba445dcbbe',\n",
       " '1.zip': 'e31e56df1a5f7314d6e44a989fe9a42155320a44',\n",
       " '20.zip': '362a7cbd18934157138bf0f18fc771d74320b4e4',\n",
       " '21.zip': 'a5181ba195f50b5d32de7e4bbbb9ceef0bda771d',\n",
       " '22.zip': '15e74429e5c8c4364e481aa0b3991b2b211355fd',\n",
       " '23.zip': '26db77ac6e8937a34949a877ee29da4a2f566e96',\n",
       " '24.zip': '363ef142020593baf7e7cdab570f1c9798ab9028',\n",
       " '25.zip': '5ac2987165df07cfea95d8bd6522ebbd3074845e',\n",
       " '26.zip': '4369b0aa40c6a00ea303e1e8e522e1d0c909276f',\n",
       " '27.zip': '0048f295b8948b648ca757f006050e3cb03d005d',\n",
       " '28.zip': '3e212e2dca460598c7bf600a764b849288043ac4',\n",
       " '29.zip': 'c5abfdf85e08af4ef5cdf651451258ec4ea7d53b',\n",
       " '2.zip': '5000938dd1df10969d24a023dedbfe3de86b01ed',\n",
       " '30.zip': 'b72445cdd6e1bc5e6f2934a973b3b84b3b67d8bf',\n",
       " '31.zip': 'f7cbbb18fa7184419239cd0644ff164ccce14099',\n",
       " '32.zip': 'aabf12633e8939bd35af0adb9a030ff36f994659',\n",
       " '33.zip': 'c46ec908094d83bda99be215222ab2e5bab92071',\n",
       " '34.zip': '5b0a82ed5ad32987091cf232794f315548d52a3c',\n",
       " '35.zip': '0c61bfb809e131b48832d58311bf49236efe9ad9',\n",
       " '36.zip': 'ca397e56bde94e48943c8f51c3a3bda2aabe24c5',\n",
       " '37.zip': 'd6dd814b4bd2a468b62752d427e36355e6c94151',\n",
       " '38.zip': '354d336b17203a85d120273e2a7470c122bd8fd6',\n",
       " '39.zip': '0024f2327e55778d10c0752fcd0baabb4bdd5b05',\n",
       " '3.zip': '4f5113737cc52db8a76938f0c422092fac28e413',\n",
       " '40.zip': '8ea3b8889f21cd53868d34b6f5d20f6101da61d6',\n",
       " '41.zip': '8c0f514a602428dfb6e4074428af989cff0bd1f6',\n",
       " '42.zip': '5d3c9ddcb0eb2ad08298711ebf1f94640fbb1bdf',\n",
       " '43.zip': 'c1021b24c7307aaa19128d99658b20c5f78ad87b',\n",
       " '44.zip': 'b84106d0e4e04d2e6434857962787a6f9e57c0a3',\n",
       " '45.zip': '7ac74a95a35c44646184625b8f220e94de530575',\n",
       " '46.zip': '3eedc85e78730963fdab4c5164fd4081698a2be4',\n",
       " '47.zip': '64ad4b376fe55b168893b01beb79a61222ee59c0',\n",
       " '48.zip': '0550191bcaa56657f6c211f8dc147eb4a65c0b46',\n",
       " '49.zip': 'a27e82a338cbee05743a50691cdd40eb73f8bc71',\n",
       " '4.zip': '2090b9f123aa0c3e65ad14fbfc9d5f382699ef02',\n",
       " '50.zip': '5d57691b4bd88a26818869a3da170eabaef8063c',\n",
       " '54.zip': 'f872ea235449f3b55a3c27dfc3f97f1e6631959d',\n",
       " '5.zip': '7054eef97f0846db8530a5f54f445137508a8b5f',\n",
       " '6.zip': '95a965a318c2300ddc17391cfb5e0d02642fe555',\n",
       " '7.zip': '31899cd1f427a899fce6df2f865f865ecca0807c',\n",
       " '8.zip': '9054ca3daefe1bcf741080737f1f604896182c87',\n",
       " '9.zip': 'bcef1bf3303f767757457d0ced536d728e279c79',\n",
       " 'PADCHEST_chest_x_ray_images_labels_160K_01.02.19.csv.gz': 'e71f94264059d649b73d9dba2acb45271a75367a',\n",
       " '0.zip.unzip-l.txt': 'ef2e9143eae375095ccba9951bf1154d8f8db380',\n",
       " '10.zip.unzip-l.txt': 'a0eb4407a90d1b66b7237f368754a4d923403e98',\n",
       " '11.zip.unzip-l.txt': '2154e6cda6121ddf7f03a5346cc19eee5b2e51be',\n",
       " '12.zip.unzip-l.txt': '702a7e85b5466acef7a43736b1b76779863e83f3',\n",
       " '13.zip.unzip-l.txt': '94032ccb7cbb7e9d23407fd805d7c24036c6603b',\n",
       " '14.zip.unzip-l.txt': '79a0abe11bbce70acd6c6b18b2fc567f91658fe6',\n",
       " '15.zip.unzip-l.txt': '822f2bb85787ab58826c61fe286b8962dc129772',\n",
       " '16.zip.unzip-l.txt': 'a35a707d819fee48c12a8c0b2976aa1eeb06404b',\n",
       " '17.zip.unzip-l.txt': '012b8e0818f52c296eb5911f27f02b116d52285b',\n",
       " '18.zip.unzip-l.txt': 'f8c046bf84c0b962112cb63230e4bf3b990ed2c4',\n",
       " '19.zip.unzip-l.txt': 'ba33c3e9ebc465b6264794a35ef239fbbb10b565',\n",
       " '1.zip.unzip-l.txt': 'b3b3c17f0639911c875f9e20c36e4fb72bbe6a73',\n",
       " '20.zip.unzip-l.txt': '8175f68f881bf4289b169d6dc63c7ec3fe5af061',\n",
       " '21.zip.unzip-l.txt': '4f599b0f5ee43036665cc6e81b2f965536a512bc',\n",
       " '22.zip.unzip-l.txt': '68801b48f02c473364f90ddd2bdec38dc7f1736f',\n",
       " '23.zip.unzip-l.txt': '621630adf3f9cc4b7339167a5caeba8be1a308bc',\n",
       " '24.zip.unzip-l.txt': '9777d577a393dfade396dc9a64d7a9ca0f770a3f',\n",
       " '25.zip.unzip-l.txt': '9a537d1e7f3d6268bbcb7f40de69d1e60c065497',\n",
       " '26.zip.unzip-l.txt': '2cc58f0151951de399a99e342a2835864ae9120c',\n",
       " '27.zip.unzip-l.txt': 'e80e5d2760459bb85c07eb99450f34eaac903fbf',\n",
       " '28.zip.unzip-l.txt': '0c901b6429ac40b001a3af94016794223b8ad8ae',\n",
       " '29.zip.unzip-l.txt': '44c8075bdf481bf050af475a2e737dd99fb06df3',\n",
       " '2.zip.unzip-l.txt': 'cd4f8eec9f4939bdf075200389ae19135e3b32e5',\n",
       " '30.zip.unzip-l.txt': '6103a0d880663e431ac7775af7e0956d7f7721d2',\n",
       " '31.zip.unzip-l.txt': '5864b2fe370f2754c37f26c732ce344c82d36baa',\n",
       " '32.zip.unzip-l.txt': 'ae7810a490c8c9e89edc6aac7438b114ca06d307',\n",
       " '33.zip.unzip-l.txt': '8ae0ace8b43abb6463eea5227f4e5a516f026b12',\n",
       " '34.zip.unzip-l.txt': '1c2b9741e8ebc32830c9d3e252bde0d1980aceea',\n",
       " '35.zip.unzip-l.txt': 'e6e249dad59ca5f00a60a0129aed22c023e68df4',\n",
       " '36.zip.unzip-l.txt': '209471fc17b04bccbc6c67bbb714155cbee8a4b2',\n",
       " '37.zip.unzip-l.txt': '2be7e82382125725133525f5e53f45c802d5dbf9',\n",
       " '38.zip.unzip-l.txt': '49083e6d128c77b41a4e34379ab1e01187718031',\n",
       " '39.zip.unzip-l.txt': 'ea1aa3c28add91cb147667b7f11576ac9563caea',\n",
       " '3.zip.unzip-l.txt': '93b51a372ff9ebf9d4e805726304e73ba5121324',\n",
       " '40.zip.unzip-l.txt': '5f60b5c21b10d69a0f83ac8afd1c2ca0cec90ad4',\n",
       " '41.zip.unzip-l.txt': 'd7a559ef97724f3baaafd60512b1f4e1484064f8',\n",
       " '42.zip.unzip-l.txt': 'b12dadf7b5714dbb6d17e4558a0b30a7e8900a21',\n",
       " '43.zip.unzip-l.txt': '9bce519e49de55e0ffc8c345dae1c6b68b76d40e',\n",
       " '44.zip.unzip-l.txt': 'a486fa2055729acf91619c9ec42aa5b51a27fd95',\n",
       " '45.zip.unzip-l.txt': '5a6b50f94e1042955a8b3b2a3ed845a422d44010',\n",
       " '46.zip.unzip-l.txt': '57694ddeb4c620088c6fa66088477d665f16d179',\n",
       " '47.zip.unzip-l.txt': '5d337318ab7a8a856ac9db17fe60192d63b08659',\n",
       " '48.zip.unzip-l.txt': '0219a614e0d866ca56399fc58a27abe75cccb43a',\n",
       " '49.zip.unzip-l.txt': '0ded5ba41981e07ab2bf57384864913a150ac863',\n",
       " '4.zip.unzip-l.txt': 'c171c4c9333fae0720c198267b3f5e3796b6ba10',\n",
       " '50.zip.unzip-l.txt': '1c642224add0b74a7d9944dad29c1c9d41d79bdd',\n",
       " '54.zip.unzip-l.txt': '16ae8c8062d9bff345b8602a05958057871af828',\n",
       " '5.zip.unzip-l.txt': '7ee09d051496f57bcc80750aaf2ab61695ae98d9',\n",
       " '6.zip.unzip-l.txt': '2e555a910d891c2b8745545abd6ec085fb911d2a',\n",
       " '7.zip.unzip-l.txt': 'c1fe8aa4f9662565dbc5ab6ac118cede1b32d8d5',\n",
       " '8.zip.unzip-l.txt': 'e292d58e638ddc4fecdf664bdfc47a0cf6c0e6c6',\n",
       " '9.zip.unzip-l.txt': '2e5859ab6a77d7aab3a59044023c62d5b4531944',\n",
       " 'LICENSE.md': '6616102cdcd307faaead57a015a51b5ef49c482e',\n",
       " 'Verify_Zips_ImageCounts.csv.xlsx': 'e6a47979216dcb5b73249ae7d4211295802feeb8'}"
      ]
     },
     "execution_count": 23,
     "metadata": {},
     "output_type": "execute_result"
    }
   ],
   "source": [
    "expected_sha1sums"
   ]
  },
  {
   "cell_type": "code",
   "execution_count": 24,
   "id": "e0e03552",
   "metadata": {},
   "outputs": [],
   "source": [
    "wrong_or_missing_filenames = []"
   ]
  },
  {
   "cell_type": "code",
   "execution_count": 25,
   "id": "769cd387",
   "metadata": {
    "scrolled": true
   },
   "outputs": [
    {
     "name": "stdout",
     "output_type": "stream",
     "text": [
      "------------------------\n",
      "\u001b[34mMissing file 50.zip\u001b[0m\n",
      "------------------------\n",
      "\u001b[34mMissing file 50.zip.unzip-l.txt\u001b[0m\n"
     ]
    },
    {
     "name": "stderr",
     "output_type": "stream",
     "text": [
      "\r",
      "  0%|                                                                                                     | 0/109 [00:00<?, ?it/s]"
     ]
    },
    {
     "name": "stdout",
     "output_type": "stream",
     "text": [
      "------------------------\n",
      "/mnt/data2/PadChest/46.zip.unzip-l.txt\n"
     ]
    },
    {
     "name": "stderr",
     "output_type": "stream",
     "text": [
      "\r",
      "  1%|▊                                                                                            | 1/109 [00:00<01:10,  1.54it/s]"
     ]
    },
    {
     "name": "stdout",
     "output_type": "stream",
     "text": [
      "expected sha1:\t57694ddeb4c620088c6fa66088477d665f16d179\n",
      "actual sha1:\t57694ddeb4c620088c6fa66088477d665f16d179\n",
      "\u001b[32mOK!!!\u001b[0m\n",
      "------------------------\n",
      "/mnt/data2/PadChest/43.zip.unzip-l.txt\n",
      "expected sha1:\t9bce519e49de55e0ffc8c345dae1c6b68b76d40e\n",
      "actual sha1:\t9bce519e49de55e0ffc8c345dae1c6b68b76d40e\n",
      "\u001b[32mOK!!!\u001b[0m\n",
      "------------------------\n",
      "/mnt/data2/PadChest/7.zip.unzip-l.txt\n",
      "expected sha1:\tc1fe8aa4f9662565dbc5ab6ac118cede1b32d8d5\n",
      "actual sha1:\tc1fe8aa4f9662565dbc5ab6ac118cede1b32d8d5\n",
      "\u001b[32mOK!!!\u001b[0m\n",
      "------------------------\n",
      "/mnt/data2/PadChest/31.zip.unzip-l.txt\n",
      "expected sha1:\t5864b2fe370f2754c37f26c732ce344c82d36baa\n",
      "actual sha1:\t5864b2fe370f2754c37f26c732ce344c82d36baa\n",
      "\u001b[32mOK!!!\u001b[0m\n",
      "------------------------\n",
      "/mnt/data2/PadChest/0.zip.unzip-l.txt\n",
      "expected sha1:\tef2e9143eae375095ccba9951bf1154d8f8db380\n",
      "actual sha1:\tef2e9143eae375095ccba9951bf1154d8f8db380\n",
      "\u001b[32mOK!!!\u001b[0m\n",
      "------------------------\n",
      "/mnt/data2/PadChest/44.zip\n"
     ]
    },
    {
     "name": "stderr",
     "output_type": "stream",
     "text": [
      "\r",
      "  6%|█████                                                                                        | 6/109 [01:39<29:52, 17.40s/it]"
     ]
    },
    {
     "name": "stdout",
     "output_type": "stream",
     "text": [
      "expected sha1:\tb84106d0e4e04d2e6434857962787a6f9e57c0a3\n",
      "actual sha1:\tb84106d0e4e04d2e6434857962787a6f9e57c0a3\n",
      "\u001b[32mOK!!!\u001b[0m\n",
      "------------------------\n",
      "/mnt/data2/PadChest/16.zip.unzip-l.txt\n",
      "expected sha1:\ta35a707d819fee48c12a8c0b2976aa1eeb06404b\n",
      "actual sha1:\ta35a707d819fee48c12a8c0b2976aa1eeb06404b\n",
      "\u001b[32mOK!!!\u001b[0m\n",
      "------------------------\n",
      "/mnt/data2/PadChest/LICENSE.md\n",
      "expected sha1:\t6616102cdcd307faaead57a015a51b5ef49c482e\n",
      "actual sha1:\t6616102cdcd307faaead57a015a51b5ef49c482e\n",
      "\u001b[32mOK!!!\u001b[0m\n",
      "------------------------\n",
      "/mnt/data2/PadChest/19.zip.unzip-l.txt\n",
      "expected sha1:\tba33c3e9ebc465b6264794a35ef239fbbb10b565\n",
      "actual sha1:\tba33c3e9ebc465b6264794a35ef239fbbb10b565\n",
      "\u001b[32mOK!!!\u001b[0m\n",
      "------------------------\n",
      "/mnt/data2/PadChest/12.zip.unzip-l.txt\n",
      "expected sha1:\t702a7e85b5466acef7a43736b1b76779863e83f3\n",
      "actual sha1:\t702a7e85b5466acef7a43736b1b76779863e83f3\n",
      "\u001b[32mOK!!!\u001b[0m\n",
      "------------------------\n",
      "/mnt/data2/PadChest/49.zip.unzip-l.txt\n",
      "expected sha1:\t0ded5ba41981e07ab2bf57384864913a150ac863\n",
      "actual sha1:\t0ded5ba41981e07ab2bf57384864913a150ac863\n",
      "\u001b[32mOK!!!\u001b[0m\n",
      "------------------------\n",
      "/mnt/data2/PadChest/26.zip\n"
     ]
    },
    {
     "name": "stderr",
     "output_type": "stream",
     "text": [
      "\r",
      " 11%|██████████▏                                                                                 | 12/109 [03:25<28:22, 17.55s/it]"
     ]
    },
    {
     "name": "stdout",
     "output_type": "stream",
     "text": [
      "expected sha1:\t4369b0aa40c6a00ea303e1e8e522e1d0c909276f\n",
      "actual sha1:\t4369b0aa40c6a00ea303e1e8e522e1d0c909276f\n",
      "\u001b[32mOK!!!\u001b[0m\n",
      "------------------------\n",
      "/mnt/data2/PadChest/5.zip.unzip-l.txt\n",
      "expected sha1:\t7ee09d051496f57bcc80750aaf2ab61695ae98d9\n",
      "actual sha1:\t7ee09d051496f57bcc80750aaf2ab61695ae98d9\n",
      "\u001b[32mOK!!!\u001b[0m\n",
      "------------------------\n",
      "/mnt/data2/PadChest/29.zip\n"
     ]
    },
    {
     "name": "stderr",
     "output_type": "stream",
     "text": [
      "\r",
      " 13%|███████████▊                                                                                | 14/109 [05:11<40:20, 25.48s/it]"
     ]
    },
    {
     "name": "stdout",
     "output_type": "stream",
     "text": [
      "expected sha1:\tc5abfdf85e08af4ef5cdf651451258ec4ea7d53b\n",
      "actual sha1:\tc5abfdf85e08af4ef5cdf651451258ec4ea7d53b\n",
      "\u001b[32mOK!!!\u001b[0m\n",
      "------------------------\n",
      "/mnt/data2/PadChest/20.zip.unzip-l.txt\n",
      "expected sha1:\t8175f68f881bf4289b169d6dc63c7ec3fe5af061\n",
      "actual sha1:\t8175f68f881bf4289b169d6dc63c7ec3fe5af061\n",
      "\u001b[32mOK!!!\u001b[0m\n",
      "------------------------\n",
      "/mnt/data2/PadChest/24.zip\n"
     ]
    },
    {
     "name": "stderr",
     "output_type": "stream",
     "text": [
      " 17%|███████████████▏                                                                            | 18/109 [06:54<35:44, 23.56s/it]"
     ]
    },
    {
     "name": "stdout",
     "output_type": "stream",
     "text": [
      "expected sha1:\t363ef142020593baf7e7cdab570f1c9798ab9028\n",
      "actual sha1:\t363ef142020593baf7e7cdab570f1c9798ab9028\n",
      "\u001b[32mOK!!!\u001b[0m\n",
      "------------------------\n",
      "/mnt/data2/PadChest/33.zip.unzip-l.txt\n",
      "expected sha1:\t8ae0ace8b43abb6463eea5227f4e5a516f026b12\n",
      "actual sha1:\t8ae0ace8b43abb6463eea5227f4e5a516f026b12\n",
      "\u001b[32mOK!!!\u001b[0m\n",
      "------------------------\n",
      "/mnt/data2/PadChest/PADCHEST_chest_x_ray_images_labels_160K_01.02.19.csv.gz\n",
      "expected sha1:\te71f94264059d649b73d9dba2acb45271a75367a\n",
      "actual sha1:\te71f94264059d649b73d9dba2acb45271a75367a\n",
      "\u001b[32mOK!!!\u001b[0m\n",
      "------------------------\n",
      "/mnt/data2/PadChest/Verify_Zips_ImageCounts.csv.xlsx\n",
      "expected sha1:\te6a47979216dcb5b73249ae7d4211295802feeb8\n",
      "actual sha1:\te6a47979216dcb5b73249ae7d4211295802feeb8\n",
      "\u001b[32mOK!!!\u001b[0m\n",
      "------------------------\n",
      "/mnt/data2/PadChest/41.zip.unzip-l.txt\n"
     ]
    },
    {
     "name": "stderr",
     "output_type": "stream",
     "text": [
      "\r",
      " 18%|████████████████▉                                                                           | 20/109 [06:54<25:36, 17.26s/it]"
     ]
    },
    {
     "name": "stdout",
     "output_type": "stream",
     "text": [
      "expected sha1:\td7a559ef97724f3baaafd60512b1f4e1484064f8\n",
      "actual sha1:\td7a559ef97724f3baaafd60512b1f4e1484064f8\n",
      "\u001b[32mOK!!!\u001b[0m\n",
      "------------------------\n",
      "/mnt/data2/PadChest/13.zip\n"
     ]
    },
    {
     "name": "stderr",
     "output_type": "stream",
     "text": [
      " 19%|█████████████████▋                                                                          | 21/109 [08:39<46:04, 31.42s/it]"
     ]
    },
    {
     "name": "stdout",
     "output_type": "stream",
     "text": [
      "expected sha1:\t68b921ad41c963677ae7080f5a885118205279a0\n",
      "actual sha1:\t68b921ad41c963677ae7080f5a885118205279a0\n",
      "\u001b[32mOK!!!\u001b[0m\n",
      "------------------------\n",
      "/mnt/data2/PadChest/7.zip\n"
     ]
    },
    {
     "name": "stderr",
     "output_type": "stream",
     "text": [
      "\r",
      " 20%|██████████████████▏                                                                       | 22/109 [10:20<1:04:24, 44.42s/it]"
     ]
    },
    {
     "name": "stdout",
     "output_type": "stream",
     "text": [
      "expected sha1:\t31899cd1f427a899fce6df2f865f865ecca0807c\n",
      "actual sha1:\t31899cd1f427a899fce6df2f865f865ecca0807c\n",
      "\u001b[32mOK!!!\u001b[0m\n",
      "------------------------\n",
      "/mnt/data2/PadChest/48.zip.unzip-l.txt\n",
      "expected sha1:\t0219a614e0d866ca56399fc58a27abe75cccb43a\n",
      "actual sha1:\t0219a614e0d866ca56399fc58a27abe75cccb43a\n",
      "\u001b[32mOK!!!\u001b[0m\n",
      "------------------------\n",
      "/mnt/data2/PadChest/37.zip.unzip-l.txt\n",
      "expected sha1:\t2be7e82382125725133525f5e53f45c802d5dbf9\n",
      "actual sha1:\t2be7e82382125725133525f5e53f45c802d5dbf9\n",
      "\u001b[32mOK!!!\u001b[0m\n",
      "------------------------\n",
      "/mnt/data2/PadChest/14.zip.unzip-l.txt\n",
      "expected sha1:\t79a0abe11bbce70acd6c6b18b2fc567f91658fe6\n",
      "actual sha1:\t79a0abe11bbce70acd6c6b18b2fc567f91658fe6\n",
      "\u001b[32mOK!!!\u001b[0m\n",
      "------------------------\n",
      "/mnt/data2/PadChest/10.zip\n"
     ]
    },
    {
     "name": "stderr",
     "output_type": "stream",
     "text": [
      "\r",
      " 24%|█████████████████████▉                                                                      | 26/109 [12:14<50:08, 36.24s/it]"
     ]
    },
    {
     "name": "stdout",
     "output_type": "stream",
     "text": [
      "expected sha1:\t209283a99e481208d02c57225574fb6ac824d697\n",
      "actual sha1:\t209283a99e481208d02c57225574fb6ac824d697\n",
      "\u001b[32mOK!!!\u001b[0m\n",
      "------------------------\n",
      "/mnt/data2/PadChest/27.zip\n"
     ]
    },
    {
     "name": "stderr",
     "output_type": "stream",
     "text": [
      "\r",
      " 25%|██████████████████████▎                                                                   | 27/109 [14:03<1:04:51, 47.46s/it]"
     ]
    },
    {
     "name": "stdout",
     "output_type": "stream",
     "text": [
      "expected sha1:\t0048f295b8948b648ca757f006050e3cb03d005d\n",
      "actual sha1:\t0048f295b8948b648ca757f006050e3cb03d005d\n",
      "\u001b[32mOK!!!\u001b[0m\n",
      "------------------------\n",
      "/mnt/data2/PadChest/37.zip\n"
     ]
    },
    {
     "name": "stderr",
     "output_type": "stream",
     "text": [
      "\r",
      " 26%|███████████████████████                                                                   | 28/109 [15:43<1:17:09, 57.15s/it]"
     ]
    },
    {
     "name": "stdout",
     "output_type": "stream",
     "text": [
      "expected sha1:\td6dd814b4bd2a468b62752d427e36355e6c94151\n",
      "actual sha1:\td6dd814b4bd2a468b62752d427e36355e6c94151\n",
      "\u001b[32mOK!!!\u001b[0m\n",
      "------------------------\n",
      "/mnt/data2/PadChest/43.zip\n"
     ]
    },
    {
     "name": "stderr",
     "output_type": "stream",
     "text": [
      "\r",
      " 27%|███████████████████████▉                                                                  | 29/109 [17:21<1:27:15, 65.44s/it]"
     ]
    },
    {
     "name": "stdout",
     "output_type": "stream",
     "text": [
      "expected sha1:\tc1021b24c7307aaa19128d99658b20c5f78ad87b\n",
      "actual sha1:\tc1021b24c7307aaa19128d99658b20c5f78ad87b\n",
      "\u001b[32mOK!!!\u001b[0m\n",
      "------------------------\n",
      "/mnt/data2/PadChest/17.zip.unzip-l.txt\n",
      "expected sha1:\t012b8e0818f52c296eb5911f27f02b116d52285b\n",
      "actual sha1:\t012b8e0818f52c296eb5911f27f02b116d52285b\n",
      "\u001b[32mOK!!!\u001b[0m\n",
      "------------------------\n",
      "/mnt/data2/PadChest/40.zip\n"
     ]
    },
    {
     "name": "stderr",
     "output_type": "stream",
     "text": [
      "\r",
      " 28%|█████████████████████████▌                                                                | 31/109 [19:02<1:18:01, 60.02s/it]"
     ]
    },
    {
     "name": "stdout",
     "output_type": "stream",
     "text": [
      "expected sha1:\t8ea3b8889f21cd53868d34b6f5d20f6101da61d6\n",
      "actual sha1:\t8ea3b8889f21cd53868d34b6f5d20f6101da61d6\n",
      "\u001b[32mOK!!!\u001b[0m\n",
      "------------------------\n",
      "/mnt/data2/PadChest/9.zip\n"
     ]
    },
    {
     "name": "stderr",
     "output_type": "stream",
     "text": [
      "\r",
      " 30%|███████████████████████████▏                                                              | 33/109 [20:49<1:13:08, 57.75s/it]"
     ]
    },
    {
     "name": "stdout",
     "output_type": "stream",
     "text": [
      "expected sha1:\tbcef1bf3303f767757457d0ced536d728e279c79\n",
      "actual sha1:\tbcef1bf3303f767757457d0ced536d728e279c79\n",
      "\u001b[32mOK!!!\u001b[0m\n",
      "------------------------\n",
      "/mnt/data2/PadChest/28.zip\n"
     ]
    },
    {
     "name": "stderr",
     "output_type": "stream",
     "text": [
      "\r",
      " 31%|████████████████████████████                                                              | 34/109 [22:37<1:24:31, 67.62s/it]"
     ]
    },
    {
     "name": "stdout",
     "output_type": "stream",
     "text": [
      "expected sha1:\t3e212e2dca460598c7bf600a764b849288043ac4\n",
      "actual sha1:\t3e212e2dca460598c7bf600a764b849288043ac4\n",
      "\u001b[32mOK!!!\u001b[0m\n",
      "------------------------\n",
      "/mnt/data2/PadChest/8.zip.unzip-l.txt\n",
      "expected sha1:\te292d58e638ddc4fecdf664bdfc47a0cf6c0e6c6\n",
      "actual sha1:\te292d58e638ddc4fecdf664bdfc47a0cf6c0e6c6\n",
      "\u001b[32mOK!!!\u001b[0m\n",
      "------------------------\n",
      "/mnt/data2/PadChest/46.zip\n"
     ]
    },
    {
     "name": "stderr",
     "output_type": "stream",
     "text": [
      "\r",
      " 33%|█████████████████████████████▋                                                            | 36/109 [24:21<1:15:31, 62.07s/it]"
     ]
    },
    {
     "name": "stdout",
     "output_type": "stream",
     "text": [
      "expected sha1:\t3eedc85e78730963fdab4c5164fd4081698a2be4\n",
      "actual sha1:\t3eedc85e78730963fdab4c5164fd4081698a2be4\n",
      "\u001b[32mOK!!!\u001b[0m\n",
      "------------------------\n",
      "/mnt/data2/PadChest/25.zip.unzip-l.txt\n",
      "expected sha1:\t9a537d1e7f3d6268bbcb7f40de69d1e60c065497\n",
      "actual sha1:\t9a537d1e7f3d6268bbcb7f40de69d1e60c065497\n",
      "\u001b[32mOK!!!\u001b[0m\n",
      "------------------------\n",
      "/mnt/data2/PadChest/6.zip\n"
     ]
    },
    {
     "name": "stderr",
     "output_type": "stream",
     "text": [
      "\r",
      " 36%|████████████████████████████████▉                                                           | 39/109 [25:23<51:12, 43.89s/it]"
     ]
    },
    {
     "name": "stdout",
     "output_type": "stream",
     "text": [
      "expected sha1:\t95a965a318c2300ddc17391cfb5e0d02642fe555\n",
      "actual sha1:\t95a965a318c2300ddc17391cfb5e0d02642fe555\n",
      "\u001b[32mOK!!!\u001b[0m\n",
      "------------------------\n",
      "/mnt/data2/PadChest/32.zip.unzip-l.txt\n",
      "expected sha1:\tae7810a490c8c9e89edc6aac7438b114ca06d307\n",
      "actual sha1:\tae7810a490c8c9e89edc6aac7438b114ca06d307\n",
      "\u001b[32mOK!!!\u001b[0m\n",
      "------------------------\n",
      "/mnt/data2/PadChest/29.zip.unzip-l.txt\n",
      "expected sha1:\t44c8075bdf481bf050af475a2e737dd99fb06df3\n",
      "actual sha1:\t44c8075bdf481bf050af475a2e737dd99fb06df3\n",
      "\u001b[32mOK!!!\u001b[0m\n",
      "------------------------\n",
      "/mnt/data2/PadChest/12.zip\n",
      "expected sha1:\t7be008ac1296d65fba1e4f73ac9341a54eddf021\n",
      "actual sha1:\ta6b5b294af72e3f1b10715cc0c6e676b8f8570b1\n",
      "\u001b[31mWrong hash :(\u001b[0m\n",
      "Removing broken file /mnt/data2/PadChest/12.zip\n"
     ]
    },
    {
     "name": "stderr",
     "output_type": "stream",
     "text": [
      "\r",
      " 39%|███████████████████████████████████▍                                                        | 42/109 [26:09<36:49, 32.98s/it]"
     ]
    },
    {
     "name": "stdout",
     "output_type": "stream",
     "text": [
      "Done\n",
      "------------------------\n",
      "/mnt/data2/PadChest/45.zip\n"
     ]
    },
    {
     "name": "stderr",
     "output_type": "stream",
     "text": [
      "\r",
      " 39%|████████████████████████████████████▎                                                       | 43/109 [27:42<46:28, 42.25s/it]"
     ]
    },
    {
     "name": "stdout",
     "output_type": "stream",
     "text": [
      "expected sha1:\t7ac74a95a35c44646184625b8f220e94de530575\n",
      "actual sha1:\t7ac74a95a35c44646184625b8f220e94de530575\n",
      "\u001b[32mOK!!!\u001b[0m\n",
      "------------------------\n",
      "/mnt/data2/PadChest/13.zip.unzip-l.txt\n",
      "expected sha1:\t94032ccb7cbb7e9d23407fd805d7c24036c6603b\n",
      "actual sha1:\t94032ccb7cbb7e9d23407fd805d7c24036c6603b\n",
      "\u001b[32mOK!!!\u001b[0m\n",
      "------------------------\n",
      "/mnt/data2/PadChest/28.zip.unzip-l.txt\n",
      "expected sha1:\t0c901b6429ac40b001a3af94016794223b8ad8ae\n",
      "actual sha1:\t0c901b6429ac40b001a3af94016794223b8ad8ae\n",
      "\u001b[32mOK!!!\u001b[0m\n",
      "------------------------\n",
      "/mnt/data2/PadChest/4.zip.unzip-l.txt\n",
      "expected sha1:\tc171c4c9333fae0720c198267b3f5e3796b6ba10\n",
      "actual sha1:\tc171c4c9333fae0720c198267b3f5e3796b6ba10\n",
      "\u001b[32mOK!!!\u001b[0m\n",
      "------------------------\n",
      "/mnt/data2/PadChest/2.zip.unzip-l.txt\n",
      "expected sha1:\tcd4f8eec9f4939bdf075200389ae19135e3b32e5\n",
      "actual sha1:\tcd4f8eec9f4939bdf075200389ae19135e3b32e5\n",
      "\u001b[32mOK!!!\u001b[0m\n",
      "------------------------\n",
      "/mnt/data2/PadChest/39.zip\n"
     ]
    },
    {
     "name": "stderr",
     "output_type": "stream",
     "text": [
      "\r",
      " 45%|█████████████████████████████████████████▎                                                  | 49/109 [29:25<27:58, 27.98s/it]"
     ]
    },
    {
     "name": "stdout",
     "output_type": "stream",
     "text": [
      "expected sha1:\t0024f2327e55778d10c0752fcd0baabb4bdd5b05\n",
      "actual sha1:\t0024f2327e55778d10c0752fcd0baabb4bdd5b05\n",
      "\u001b[32mOK!!!\u001b[0m\n",
      "------------------------\n",
      "/mnt/data2/PadChest/49.zip\n"
     ]
    },
    {
     "name": "stderr",
     "output_type": "stream",
     "text": [
      "\r",
      " 46%|██████████████████████████████████████████▏                                                 | 50/109 [31:08<36:20, 36.95s/it]"
     ]
    },
    {
     "name": "stdout",
     "output_type": "stream",
     "text": [
      "expected sha1:\ta27e82a338cbee05743a50691cdd40eb73f8bc71\n",
      "actual sha1:\ta27e82a338cbee05743a50691cdd40eb73f8bc71\n",
      "\u001b[32mOK!!!\u001b[0m\n",
      "------------------------\n",
      "/mnt/data2/PadChest/20.zip\n",
      "expected sha1:\t362a7cbd18934157138bf0f18fc771d74320b4e4\n",
      "actual sha1:\t57e2c657b1e1a1ba7d8ede914239a061aee8479f\n",
      "\u001b[31mWrong hash :(\u001b[0m\n",
      "Removing broken file /mnt/data2/PadChest/20.zip\n"
     ]
    },
    {
     "name": "stderr",
     "output_type": "stream",
     "text": [
      "\r",
      " 47%|███████████████████████████████████████████                                                 | 51/109 [32:51<45:00, 46.57s/it]"
     ]
    },
    {
     "name": "stdout",
     "output_type": "stream",
     "text": [
      "Done\n",
      "------------------------\n",
      "/mnt/data2/PadChest/42.zip.unzip-l.txt\n",
      "expected sha1:\tb12dadf7b5714dbb6d17e4558a0b30a7e8900a21\n",
      "actual sha1:\tb12dadf7b5714dbb6d17e4558a0b30a7e8900a21\n",
      "\u001b[32mOK!!!\u001b[0m\n",
      "------------------------\n",
      "/mnt/data2/PadChest/32.zip\n"
     ]
    },
    {
     "name": "stderr",
     "output_type": "stream",
     "text": [
      "\r",
      " 49%|████████████████████████████████████████████▋                                               | 53/109 [34:41<45:41, 48.95s/it]"
     ]
    },
    {
     "name": "stdout",
     "output_type": "stream",
     "text": [
      "expected sha1:\taabf12633e8939bd35af0adb9a030ff36f994659\n",
      "actual sha1:\taabf12633e8939bd35af0adb9a030ff36f994659\n",
      "\u001b[32mOK!!!\u001b[0m\n",
      "------------------------\n",
      "/mnt/data2/PadChest/36.zip.unzip-l.txt\n",
      "expected sha1:\t209471fc17b04bccbc6c67bbb714155cbee8a4b2\n",
      "actual sha1:\t209471fc17b04bccbc6c67bbb714155cbee8a4b2\n",
      "\u001b[32mOK!!!\u001b[0m\n",
      "------------------------\n",
      "/mnt/data2/PadChest/6.zip.unzip-l.txt\n",
      "expected sha1:\t2e555a910d891c2b8745545abd6ec085fb911d2a\n",
      "actual sha1:\t2e555a910d891c2b8745545abd6ec085fb911d2a\n",
      "\u001b[32mOK!!!\u001b[0m\n",
      "------------------------\n",
      "/mnt/data2/PadChest/4.zip\n"
     ]
    },
    {
     "name": "stderr",
     "output_type": "stream",
     "text": [
      "\r",
      " 51%|███████████████████████████████████████████████▎                                            | 56/109 [36:35<39:29, 44.71s/it]"
     ]
    },
    {
     "name": "stdout",
     "output_type": "stream",
     "text": [
      "expected sha1:\t2090b9f123aa0c3e65ad14fbfc9d5f382699ef02\n",
      "actual sha1:\t2090b9f123aa0c3e65ad14fbfc9d5f382699ef02\n",
      "\u001b[32mOK!!!\u001b[0m\n",
      "------------------------\n",
      "/mnt/data2/PadChest/1.zip.unzip-l.txt\n",
      "expected sha1:\tb3b3c17f0639911c875f9e20c36e4fb72bbe6a73\n",
      "actual sha1:\tb3b3c17f0639911c875f9e20c36e4fb72bbe6a73\n",
      "\u001b[32mOK!!!\u001b[0m\n",
      "------------------------\n",
      "/mnt/data2/PadChest/21.zip.unzip-l.txt\n",
      "expected sha1:\t4f599b0f5ee43036665cc6e81b2f965536a512bc\n",
      "actual sha1:\t4f599b0f5ee43036665cc6e81b2f965536a512bc\n",
      "\u001b[32mOK!!!\u001b[0m\n",
      "------------------------\n",
      "/mnt/data2/PadChest/35.zip\n"
     ]
    },
    {
     "name": "stderr",
     "output_type": "stream",
     "text": [
      "\r",
      " 54%|█████████████████████████████████████████████████▊                                          | 59/109 [38:24<34:49, 41.79s/it]"
     ]
    },
    {
     "name": "stdout",
     "output_type": "stream",
     "text": [
      "expected sha1:\t0c61bfb809e131b48832d58311bf49236efe9ad9\n",
      "actual sha1:\t0c61bfb809e131b48832d58311bf49236efe9ad9\n",
      "\u001b[32mOK!!!\u001b[0m\n",
      "------------------------\n",
      "/mnt/data2/PadChest/30.zip.unzip-l.txt\n",
      "expected sha1:\t6103a0d880663e431ac7775af7e0956d7f7721d2\n",
      "actual sha1:\t6103a0d880663e431ac7775af7e0956d7f7721d2\n",
      "\u001b[32mOK!!!\u001b[0m\n",
      "------------------------\n",
      "/mnt/data2/PadChest/19.zip\n"
     ]
    },
    {
     "name": "stderr",
     "output_type": "stream",
     "text": [
      "\r",
      " 56%|███████████████████████████████████████████████████▍                                        | 61/109 [40:19<36:34, 45.71s/it]"
     ]
    },
    {
     "name": "stdout",
     "output_type": "stream",
     "text": [
      "expected sha1:\t8e536a2c1ede845d2963291c31b6d9ba445dcbbe\n",
      "actual sha1:\t8e536a2c1ede845d2963291c31b6d9ba445dcbbe\n",
      "\u001b[32mOK!!!\u001b[0m\n",
      "------------------------\n",
      "/mnt/data2/PadChest/21.zip\n"
     ]
    },
    {
     "name": "stderr",
     "output_type": "stream",
     "text": [
      "\r",
      " 57%|████████████████████████████████████████████████████▎                                       | 62/109 [42:05<43:02, 54.94s/it]"
     ]
    },
    {
     "name": "stdout",
     "output_type": "stream",
     "text": [
      "expected sha1:\ta5181ba195f50b5d32de7e4bbbb9ceef0bda771d\n",
      "actual sha1:\ta5181ba195f50b5d32de7e4bbbb9ceef0bda771d\n",
      "\u001b[32mOK!!!\u001b[0m\n",
      "------------------------\n",
      "/mnt/data2/PadChest/34.zip\n"
     ]
    },
    {
     "name": "stderr",
     "output_type": "stream",
     "text": [
      "\r",
      " 58%|█████████████████████████████████████████████████████▏                                      | 63/109 [44:01<50:30, 65.87s/it]"
     ]
    },
    {
     "name": "stdout",
     "output_type": "stream",
     "text": [
      "expected sha1:\t5b0a82ed5ad32987091cf232794f315548d52a3c\n",
      "actual sha1:\t5b0a82ed5ad32987091cf232794f315548d52a3c\n",
      "\u001b[32mOK!!!\u001b[0m\n",
      "------------------------\n",
      "/mnt/data2/PadChest/25.zip\n"
     ]
    },
    {
     "name": "stderr",
     "output_type": "stream",
     "text": [
      "\r",
      " 60%|██████████████████████████████████████████████████████▊                                     | 65/109 [45:43<44:36, 60.83s/it]"
     ]
    },
    {
     "name": "stdout",
     "output_type": "stream",
     "text": [
      "expected sha1:\t5ac2987165df07cfea95d8bd6522ebbd3074845e\n",
      "actual sha1:\t5ac2987165df07cfea95d8bd6522ebbd3074845e\n",
      "\u001b[32mOK!!!\u001b[0m\n",
      "------------------------\n",
      "/mnt/data2/PadChest/15.zip\n"
     ]
    },
    {
     "name": "stderr",
     "output_type": "stream",
     "text": [
      "\r",
      " 61%|███████████████████████████████████████████████████████▋                                    | 66/109 [47:30<50:10, 70.00s/it]"
     ]
    },
    {
     "name": "stdout",
     "output_type": "stream",
     "text": [
      "expected sha1:\tb496dc8abc8f1f38e62e92bbf34373fff30330eb\n",
      "actual sha1:\tb496dc8abc8f1f38e62e92bbf34373fff30330eb\n",
      "\u001b[32mOK!!!\u001b[0m\n",
      "------------------------\n",
      "/mnt/data2/PadChest/11.zip\n"
     ]
    },
    {
     "name": "stderr",
     "output_type": "stream",
     "text": [
      "\r",
      " 61%|████████████████████████████████████████████████████████▌                                   | 67/109 [49:29<56:21, 80.52s/it]"
     ]
    },
    {
     "name": "stdout",
     "output_type": "stream",
     "text": [
      "expected sha1:\td18c752350b0f1443d563ee14b5862a6f991dc73\n",
      "actual sha1:\td18c752350b0f1443d563ee14b5862a6f991dc73\n",
      "\u001b[32mOK!!!\u001b[0m\n",
      "------------------------\n",
      "/mnt/data2/PadChest/18.zip.unzip-l.txt\n",
      "expected sha1:\tf8c046bf84c0b962112cb63230e4bf3b990ed2c4\n",
      "actual sha1:\tf8c046bf84c0b962112cb63230e4bf3b990ed2c4\n",
      "\u001b[32mOK!!!\u001b[0m\n",
      "------------------------\n",
      "/mnt/data2/PadChest/2.zip\n"
     ]
    },
    {
     "name": "stderr",
     "output_type": "stream",
     "text": [
      "\r",
      " 63%|██████████████████████████████████████████████████████████▏                                 | 69/109 [51:26<48:02, 72.07s/it]"
     ]
    },
    {
     "name": "stdout",
     "output_type": "stream",
     "text": [
      "expected sha1:\t5000938dd1df10969d24a023dedbfe3de86b01ed\n",
      "actual sha1:\t5000938dd1df10969d24a023dedbfe3de86b01ed\n",
      "\u001b[32mOK!!!\u001b[0m\n",
      "------------------------\n",
      "/mnt/data2/PadChest/10.zip.unzip-l.txt\n",
      "expected sha1:\ta0eb4407a90d1b66b7237f368754a4d923403e98\n",
      "actual sha1:\ta0eb4407a90d1b66b7237f368754a4d923403e98\n",
      "\u001b[32mOK!!!\u001b[0m\n",
      "------------------------\n",
      "/mnt/data2/PadChest/44.zip.unzip-l.txt\n",
      "expected sha1:\ta486fa2055729acf91619c9ec42aa5b51a27fd95\n",
      "actual sha1:\ta486fa2055729acf91619c9ec42aa5b51a27fd95\n",
      "\u001b[32mOK!!!\u001b[0m\n",
      "------------------------\n",
      "/mnt/data2/PadChest/3.zip.unzip-l.txt\n",
      "expected sha1:\t93b51a372ff9ebf9d4e805726304e73ba5121324\n",
      "actual sha1:\t93b51a372ff9ebf9d4e805726304e73ba5121324\n",
      "\u001b[32mOK!!!\u001b[0m\n",
      "------------------------\n",
      "/mnt/data2/PadChest/9.zip.unzip-l.txt\n",
      "expected sha1:\t2e5859ab6a77d7aab3a59044023c62d5b4531944\n",
      "actual sha1:\t2e5859ab6a77d7aab3a59044023c62d5b4531944\n",
      "\u001b[32mOK!!!\u001b[0m\n",
      "------------------------\n",
      "/mnt/data2/PadChest/15.zip.unzip-l.txt\n",
      "expected sha1:\t822f2bb85787ab58826c61fe286b8962dc129772\n",
      "actual sha1:\t822f2bb85787ab58826c61fe286b8962dc129772\n",
      "\u001b[32mOK!!!\u001b[0m\n",
      "------------------------\n",
      "/mnt/data2/PadChest/38.zip.unzip-l.txt\n",
      "expected sha1:\t49083e6d128c77b41a4e34379ab1e01187718031\n",
      "actual sha1:\t49083e6d128c77b41a4e34379ab1e01187718031\n",
      "\u001b[32mOK!!!\u001b[0m\n",
      "------------------------\n",
      "/mnt/data2/PadChest/23.zip.unzip-l.txt\n",
      "expected sha1:\t621630adf3f9cc4b7339167a5caeba8be1a308bc\n",
      "actual sha1:\t621630adf3f9cc4b7339167a5caeba8be1a308bc\n",
      "\u001b[32mOK!!!\u001b[0m\n",
      "------------------------\n",
      "/mnt/data2/PadChest/3.zip\n"
     ]
    },
    {
     "name": "stderr",
     "output_type": "stream",
     "text": [
      "\r",
      " 71%|████████████████████████████████████████████████████████████████▉                           | 77/109 [53:22<17:22, 32.59s/it]"
     ]
    },
    {
     "name": "stdout",
     "output_type": "stream",
     "text": [
      "expected sha1:\t4f5113737cc52db8a76938f0c422092fac28e413\n",
      "actual sha1:\t4f5113737cc52db8a76938f0c422092fac28e413\n",
      "\u001b[32mOK!!!\u001b[0m\n",
      "------------------------\n",
      "/mnt/data2/PadChest/41.zip\n"
     ]
    },
    {
     "name": "stderr",
     "output_type": "stream",
     "text": [
      "\r",
      " 72%|█████████████████████████████████████████████████████████████████▊                          | 78/109 [55:13<21:13, 41.07s/it]"
     ]
    },
    {
     "name": "stdout",
     "output_type": "stream",
     "text": [
      "expected sha1:\t8c0f514a602428dfb6e4074428af989cff0bd1f6\n",
      "actual sha1:\t8c0f514a602428dfb6e4074428af989cff0bd1f6\n",
      "\u001b[32mOK!!!\u001b[0m\n",
      "------------------------\n",
      "/mnt/data2/PadChest/31.zip\n"
     ]
    },
    {
     "name": "stderr",
     "output_type": "stream",
     "text": [
      "\r",
      " 72%|██████████████████████████████████████████████████████████████████▋                         | 79/109 [57:00<24:59, 49.97s/it]"
     ]
    },
    {
     "name": "stdout",
     "output_type": "stream",
     "text": [
      "expected sha1:\tf7cbbb18fa7184419239cd0644ff164ccce14099\n",
      "actual sha1:\tf7cbbb18fa7184419239cd0644ff164ccce14099\n",
      "\u001b[32mOK!!!\u001b[0m\n",
      "------------------------\n",
      "/mnt/data2/PadChest/18.zip\n"
     ]
    },
    {
     "name": "stderr",
     "output_type": "stream",
     "text": [
      "\r",
      " 73%|███████████████████████████████████████████████████████████████████▌                        | 80/109 [58:52<29:02, 60.08s/it]"
     ]
    },
    {
     "name": "stdout",
     "output_type": "stream",
     "text": [
      "expected sha1:\t5a56a3a33d17fc84d3306aabc7bf667746c5b5ab\n",
      "actual sha1:\t5a56a3a33d17fc84d3306aabc7bf667746c5b5ab\n",
      "\u001b[32mOK!!!\u001b[0m\n",
      "------------------------\n",
      "/mnt/data2/PadChest/42.zip\n",
      "expected sha1:\t5d3c9ddcb0eb2ad08298711ebf1f94640fbb1bdf\n",
      "actual sha1:\tcb8cb91928225a9bdbc20e6904a91f251218b9b9\n",
      "\u001b[31mWrong hash :(\u001b[0m\n",
      "Removing broken file /mnt/data2/PadChest/42.zip\n"
     ]
    },
    {
     "name": "stderr",
     "output_type": "stream",
     "text": [
      "\r",
      " 74%|████████████████████████████████████████████████████████████████████▎                       | 81/109 [59:29<26:01, 55.78s/it]"
     ]
    },
    {
     "name": "stdout",
     "output_type": "stream",
     "text": [
      "Done\n",
      "------------------------\n",
      "/mnt/data2/PadChest/17.zip\n"
     ]
    },
    {
     "name": "stderr",
     "output_type": "stream",
     "text": [
      "\r",
      " 75%|███████████████████████████████████████████████████████████████████▋                      | 82/109 [1:01:28<31:05, 69.09s/it]"
     ]
    },
    {
     "name": "stdout",
     "output_type": "stream",
     "text": [
      "expected sha1:\t3834dbaec03da167f24a4caaeddd2ccf829bf5b9\n",
      "actual sha1:\t3834dbaec03da167f24a4caaeddd2ccf829bf5b9\n",
      "\u001b[32mOK!!!\u001b[0m\n",
      "------------------------\n",
      "/mnt/data2/PadChest/26.zip.unzip-l.txt\n",
      "expected sha1:\t2cc58f0151951de399a99e342a2835864ae9120c\n",
      "actual sha1:\t2cc58f0151951de399a99e342a2835864ae9120c\n",
      "\u001b[32mOK!!!\u001b[0m\n",
      "------------------------\n",
      "/mnt/data2/PadChest/5.zip\n"
     ]
    },
    {
     "name": "stderr",
     "output_type": "stream",
     "text": [
      "\r",
      " 77%|█████████████████████████████████████████████████████████████████████▎                    | 84/109 [1:03:17<26:29, 63.57s/it]"
     ]
    },
    {
     "name": "stdout",
     "output_type": "stream",
     "text": [
      "expected sha1:\t7054eef97f0846db8530a5f54f445137508a8b5f\n",
      "actual sha1:\t7054eef97f0846db8530a5f54f445137508a8b5f\n",
      "\u001b[32mOK!!!\u001b[0m\n",
      "------------------------\n",
      "/mnt/data2/PadChest/11.zip.unzip-l.txt\n",
      "expected sha1:\t2154e6cda6121ddf7f03a5346cc19eee5b2e51be\n",
      "actual sha1:\t2154e6cda6121ddf7f03a5346cc19eee5b2e51be\n",
      "\u001b[32mOK!!!\u001b[0m\n",
      "------------------------\n",
      "/mnt/data2/PadChest/38.zip\n"
     ]
    },
    {
     "name": "stderr",
     "output_type": "stream",
     "text": [
      "\r",
      " 79%|███████████████████████████████████████████████████████████████████████                   | 86/109 [1:05:02<22:52, 59.68s/it]"
     ]
    },
    {
     "name": "stdout",
     "output_type": "stream",
     "text": [
      "expected sha1:\t354d336b17203a85d120273e2a7470c122bd8fd6\n",
      "actual sha1:\t354d336b17203a85d120273e2a7470c122bd8fd6\n",
      "\u001b[32mOK!!!\u001b[0m\n",
      "------------------------\n",
      "/mnt/data2/PadChest/22.zip.unzip-l.txt\n",
      "expected sha1:\t68801b48f02c473364f90ddd2bdec38dc7f1736f\n",
      "actual sha1:\t68801b48f02c473364f90ddd2bdec38dc7f1736f\n",
      "\u001b[32mOK!!!\u001b[0m\n",
      "------------------------\n",
      "/mnt/data2/PadChest/23.zip\n"
     ]
    },
    {
     "name": "stderr",
     "output_type": "stream",
     "text": [
      "\r",
      " 81%|████████████████████████████████████████████████████████████████████████▋                 | 88/109 [1:06:54<20:30, 58.57s/it]"
     ]
    },
    {
     "name": "stdout",
     "output_type": "stream",
     "text": [
      "expected sha1:\t26db77ac6e8937a34949a877ee29da4a2f566e96\n",
      "actual sha1:\t26db77ac6e8937a34949a877ee29da4a2f566e96\n",
      "\u001b[32mOK!!!\u001b[0m\n",
      "------------------------\n",
      "/mnt/data2/PadChest/47.zip\n"
     ]
    },
    {
     "name": "stderr",
     "output_type": "stream",
     "text": [
      "\r",
      " 82%|█████████████████████████████████████████████████████████████████████████▍                | 89/109 [1:08:34<22:07, 66.40s/it]"
     ]
    },
    {
     "name": "stdout",
     "output_type": "stream",
     "text": [
      "expected sha1:\t64ad4b376fe55b168893b01beb79a61222ee59c0\n",
      "actual sha1:\t64ad4b376fe55b168893b01beb79a61222ee59c0\n",
      "\u001b[32mOK!!!\u001b[0m\n",
      "------------------------\n",
      "/mnt/data2/PadChest/45.zip.unzip-l.txt\n",
      "expected sha1:\t5a6b50f94e1042955a8b3b2a3ed845a422d44010\n",
      "actual sha1:\t5a6b50f94e1042955a8b3b2a3ed845a422d44010\n",
      "\u001b[32mOK!!!\u001b[0m\n",
      "------------------------\n",
      "/mnt/data2/PadChest/35.zip.unzip-l.txt\n",
      "expected sha1:\te6e249dad59ca5f00a60a0129aed22c023e68df4\n",
      "actual sha1:\te6e249dad59ca5f00a60a0129aed22c023e68df4\n",
      "\u001b[32mOK!!!\u001b[0m\n",
      "------------------------\n",
      "/mnt/data2/PadChest/8.zip\n"
     ]
    },
    {
     "name": "stderr",
     "output_type": "stream",
     "text": [
      "\r",
      " 84%|███████████████████████████████████████████████████████████████████████████▉              | 92/109 [1:10:21<14:54, 52.59s/it]"
     ]
    },
    {
     "name": "stdout",
     "output_type": "stream",
     "text": [
      "expected sha1:\t9054ca3daefe1bcf741080737f1f604896182c87\n",
      "actual sha1:\t9054ca3daefe1bcf741080737f1f604896182c87\n",
      "\u001b[32mOK!!!\u001b[0m\n",
      "------------------------\n",
      "/mnt/data2/PadChest/40.zip.unzip-l.txt\n",
      "expected sha1:\t5f60b5c21b10d69a0f83ac8afd1c2ca0cec90ad4\n",
      "actual sha1:\t5f60b5c21b10d69a0f83ac8afd1c2ca0cec90ad4\n",
      "\u001b[32mOK!!!\u001b[0m\n",
      "------------------------\n",
      "/mnt/data2/PadChest/0.zip\n"
     ]
    },
    {
     "name": "stderr",
     "output_type": "stream",
     "text": [
      "\r",
      " 86%|█████████████████████████████████████████████████████████████████████████████▌            | 94/109 [1:12:23<13:45, 55.05s/it]"
     ]
    },
    {
     "name": "stdout",
     "output_type": "stream",
     "text": [
      "expected sha1:\t249815521b04435271eb1ea473f64a8c48655392\n",
      "actual sha1:\t249815521b04435271eb1ea473f64a8c48655392\n",
      "\u001b[32mOK!!!\u001b[0m\n",
      "------------------------\n",
      "/mnt/data2/PadChest/14.zip\n"
     ]
    },
    {
     "name": "stderr",
     "output_type": "stream",
     "text": [
      "\r",
      " 87%|██████████████████████████████████████████████████████████████████████████████▍           | 95/109 [1:14:17<15:16, 65.47s/it]"
     ]
    },
    {
     "name": "stdout",
     "output_type": "stream",
     "text": [
      "expected sha1:\t2301e7f0b02eac86646c4b464ea416b4e320976b\n",
      "actual sha1:\t2301e7f0b02eac86646c4b464ea416b4e320976b\n",
      "\u001b[32mOK!!!\u001b[0m\n",
      "------------------------\n",
      "/mnt/data2/PadChest/54.zip\n"
     ]
    },
    {
     "name": "stderr",
     "output_type": "stream",
     "text": [
      "\r",
      " 88%|███████████████████████████████████████████████████████████████████████████████▎          | 96/109 [1:16:54<18:12, 84.00s/it]"
     ]
    },
    {
     "name": "stdout",
     "output_type": "stream",
     "text": [
      "expected sha1:\tf872ea235449f3b55a3c27dfc3f97f1e6631959d\n",
      "actual sha1:\tf872ea235449f3b55a3c27dfc3f97f1e6631959d\n",
      "\u001b[32mOK!!!\u001b[0m\n",
      "------------------------\n",
      "/mnt/data2/PadChest/27.zip.unzip-l.txt\n",
      "expected sha1:\te80e5d2760459bb85c07eb99450f34eaac903fbf\n",
      "actual sha1:\te80e5d2760459bb85c07eb99450f34eaac903fbf\n",
      "\u001b[32mOK!!!\u001b[0m\n",
      "------------------------\n",
      "/mnt/data2/PadChest/33.zip\n"
     ]
    },
    {
     "name": "stderr",
     "output_type": "stream",
     "text": [
      "\r",
      " 90%|████████████████████████████████████████████████████████████████████████████████▉         | 98/109 [1:18:54<13:47, 75.22s/it]"
     ]
    },
    {
     "name": "stdout",
     "output_type": "stream",
     "text": [
      "expected sha1:\tc46ec908094d83bda99be215222ab2e5bab92071\n",
      "actual sha1:\tc46ec908094d83bda99be215222ab2e5bab92071\n",
      "\u001b[32mOK!!!\u001b[0m\n",
      "------------------------\n",
      "/mnt/data2/PadChest/47.zip.unzip-l.txt\n",
      "expected sha1:\t5d337318ab7a8a856ac9db17fe60192d63b08659\n",
      "actual sha1:\t5d337318ab7a8a856ac9db17fe60192d63b08659\n",
      "\u001b[32mOK!!!\u001b[0m\n",
      "------------------------\n",
      "/mnt/data2/PadChest/34.zip.unzip-l.txt\n",
      "expected sha1:\t1c2b9741e8ebc32830c9d3e252bde0d1980aceea\n",
      "actual sha1:\t1c2b9741e8ebc32830c9d3e252bde0d1980aceea\n",
      "\u001b[32mOK!!!\u001b[0m\n",
      "------------------------\n",
      "/mnt/data2/PadChest/54.zip.unzip-l.txt\n",
      "expected sha1:\t16ae8c8062d9bff345b8602a05958057871af828\n",
      "actual sha1:\t16ae8c8062d9bff345b8602a05958057871af828\n",
      "\u001b[32mOK!!!\u001b[0m\n",
      "------------------------\n",
      "/mnt/data2/PadChest/30.zip\n"
     ]
    },
    {
     "name": "stderr",
     "output_type": "stream",
     "text": [
      "\r",
      " 94%|███████████████████████████████████████████████████████████████████████████████████▎     | 102/109 [1:20:50<06:00, 51.57s/it]"
     ]
    },
    {
     "name": "stdout",
     "output_type": "stream",
     "text": [
      "expected sha1:\tb72445cdd6e1bc5e6f2934a973b3b84b3b67d8bf\n",
      "actual sha1:\tb72445cdd6e1bc5e6f2934a973b3b84b3b67d8bf\n",
      "\u001b[32mOK!!!\u001b[0m\n",
      "------------------------\n",
      "/mnt/data2/PadChest/36.zip\n"
     ]
    },
    {
     "name": "stderr",
     "output_type": "stream",
     "text": [
      "\r",
      " 94%|████████████████████████████████████████████████████████████████████████████████████     | 103/109 [1:22:39<06:02, 60.43s/it]"
     ]
    },
    {
     "name": "stdout",
     "output_type": "stream",
     "text": [
      "expected sha1:\tca397e56bde94e48943c8f51c3a3bda2aabe24c5\n",
      "actual sha1:\tca397e56bde94e48943c8f51c3a3bda2aabe24c5\n",
      "\u001b[32mOK!!!\u001b[0m\n",
      "------------------------\n",
      "/mnt/data2/PadChest/24.zip.unzip-l.txt\n",
      "expected sha1:\t9777d577a393dfade396dc9a64d7a9ca0f770a3f\n",
      "actual sha1:\t9777d577a393dfade396dc9a64d7a9ca0f770a3f\n",
      "\u001b[32mOK!!!\u001b[0m\n",
      "------------------------\n",
      "/mnt/data2/PadChest/22.zip\n"
     ]
    },
    {
     "name": "stderr",
     "output_type": "stream",
     "text": [
      "\r",
      " 96%|█████████████████████████████████████████████████████████████████████████████████████▋   | 105/109 [1:24:42<04:02, 60.75s/it]"
     ]
    },
    {
     "name": "stdout",
     "output_type": "stream",
     "text": [
      "expected sha1:\t15e74429e5c8c4364e481aa0b3991b2b211355fd\n",
      "actual sha1:\t15e74429e5c8c4364e481aa0b3991b2b211355fd\n",
      "\u001b[32mOK!!!\u001b[0m\n",
      "------------------------\n",
      "/mnt/data2/PadChest/39.zip.unzip-l.txt\n",
      "expected sha1:\tea1aa3c28add91cb147667b7f11576ac9563caea\n",
      "actual sha1:\tea1aa3c28add91cb147667b7f11576ac9563caea\n",
      "\u001b[32mOK!!!\u001b[0m\n",
      "------------------------\n",
      "/mnt/data2/PadChest/48.zip\n"
     ]
    },
    {
     "name": "stderr",
     "output_type": "stream",
     "text": [
      "\r",
      " 98%|███████████████████████████████████████████████████████████████████████████████████████▎ | 107/109 [1:26:27<01:56, 58.23s/it]"
     ]
    },
    {
     "name": "stdout",
     "output_type": "stream",
     "text": [
      "expected sha1:\t0550191bcaa56657f6c211f8dc147eb4a65c0b46\n",
      "actual sha1:\t0550191bcaa56657f6c211f8dc147eb4a65c0b46\n",
      "\u001b[32mOK!!!\u001b[0m\n",
      "------------------------\n",
      "/mnt/data2/PadChest/1.zip\n"
     ]
    },
    {
     "name": "stderr",
     "output_type": "stream",
     "text": [
      "\r",
      " 99%|████████████████████████████████████████████████████████████████████████████████████████▏| 108/109 [1:28:32<01:10, 70.17s/it]"
     ]
    },
    {
     "name": "stdout",
     "output_type": "stream",
     "text": [
      "expected sha1:\te31e56df1a5f7314d6e44a989fe9a42155320a44\n",
      "actual sha1:\te31e56df1a5f7314d6e44a989fe9a42155320a44\n",
      "\u001b[32mOK!!!\u001b[0m\n",
      "------------------------\n",
      "/mnt/data2/PadChest/16.zip\n"
     ]
    },
    {
     "name": "stderr",
     "output_type": "stream",
     "text": [
      "100%|█████████████████████████████████████████████████████████████████████████████████████████| 109/109 [1:30:30<00:00, 49.83s/it]"
     ]
    },
    {
     "name": "stdout",
     "output_type": "stream",
     "text": [
      "expected sha1:\t5109b5f485886c49ac508df95c496fe427e009e9\n",
      "actual sha1:\t5109b5f485886c49ac508df95c496fe427e009e9\n",
      "\u001b[32mOK!!!\u001b[0m\n"
     ]
    },
    {
     "name": "stderr",
     "output_type": "stream",
     "text": [
      "\n"
     ]
    }
   ],
   "source": [
    "existing_files = os.listdir('/mnt/data2/PadChest')\n",
    "\n",
    "for filename in expected_sha1sums.keys():    \n",
    "    if filename not in existing_files:        \n",
    "        print('------------------------')\n",
    "        print(colored(f'Missing file {filename}', 'blue'))\n",
    "        wrong_or_missing_filenames.append(filename)\n",
    "\n",
    "for filename in tqdm(existing_files):\n",
    "    if filename in expected_sha1sums:\n",
    "        \n",
    "        filepath = os.path.join('/mnt/data2/PadChest', filename)\n",
    "        print('------------------------')\n",
    "        print(filepath)    \n",
    "        exp_sha1 = expected_sha1sums[filename]\n",
    "        actual_sha1 = compute_sha1(filepath)\n",
    "\n",
    "        print(f'expected sha1:\\t{exp_sha1}')\n",
    "        print(f'actual sha1:\\t{actual_sha1}')\n",
    "        if actual_sha1 == exp_sha1:\n",
    "            print(colored('OK!!!', 'green'))\n",
    "        else:\n",
    "            print(colored('Wrong hash :(', 'red'))\n",
    "            print(f'Removing broken file {filepath}')\n",
    "            os.remove(filepath)\n",
    "            print(f'Done')\n",
    "            wrong_or_missing_filenames.append(filename)"
   ]
  },
  {
   "cell_type": "code",
   "execution_count": 26,
   "id": "c15f332d",
   "metadata": {
    "scrolled": true
   },
   "outputs": [
    {
     "data": {
      "text/plain": [
       "['50.zip', '50.zip.unzip-l.txt', '12.zip', '20.zip', '42.zip']"
      ]
     },
     "execution_count": 26,
     "metadata": {},
     "output_type": "execute_result"
    }
   ],
   "source": [
    "wrong_or_missing_filenames"
   ]
  },
  {
   "cell_type": "code",
   "execution_count": 27,
   "id": "b597a8ee",
   "metadata": {},
   "outputs": [
    {
     "data": {
      "text/plain": [
       "'mget 50.zip 50.zip.unzip-l.txt 12.zip 20.zip 42.zip'"
      ]
     },
     "execution_count": 27,
     "metadata": {},
     "output_type": "execute_result"
    }
   ],
   "source": [
    "command_string = f'mget {\" \".join(wrong_or_missing_filenames)}'\n",
    "command_string"
   ]
  },
  {
   "cell_type": "code",
   "execution_count": 30,
   "id": "4156fd67",
   "metadata": {},
   "outputs": [
    {
     "name": "stderr",
     "output_type": "stream",
     "text": [
      "\r",
      "  0%|                                                                                                       | 0/5 [00:00<?, ?it/s]"
     ]
    },
    {
     "name": "stdout",
     "output_type": "stream",
     "text": [
      "------------------------\n",
      "/mnt/data2/PadChest/50.zip\n",
      "expected sha1:\t5d57691b4bd88a26818869a3da170eabaef8063c\n",
      "actual sha1:\t5d57691b4bd88a26818869a3da170eabaef8063c\n",
      "\u001b[32mOK!!!\u001b[0m\n",
      "------------------------\n",
      "/mnt/data2/PadChest/50.zip.unzip-l.txt\n",
      "expected sha1:\t1c642224add0b74a7d9944dad29c1c9d41d79bdd\n",
      "actual sha1:\t1c642224add0b74a7d9944dad29c1c9d41d79bdd\n",
      "\u001b[32mOK!!!\u001b[0m\n",
      "------------------------\n",
      "/mnt/data2/PadChest/12.zip\n"
     ]
    },
    {
     "name": "stderr",
     "output_type": "stream",
     "text": [
      "100%|███████████████████████████████████████████████████████████████████████████████████████████████| 5/5 [00:20<00:00,  4.11s/it]"
     ]
    },
    {
     "name": "stdout",
     "output_type": "stream",
     "text": [
      "expected sha1:\t7be008ac1296d65fba1e4f73ac9341a54eddf021\n",
      "actual sha1:\t7be008ac1296d65fba1e4f73ac9341a54eddf021\n",
      "\u001b[32mOK!!!\u001b[0m\n",
      "------------------------\n",
      "/mnt/data2/PadChest/20.zip\n",
      "\u001b[34mMissing file 20.zip\u001b[0m\n",
      "------------------------\n",
      "/mnt/data2/PadChest/42.zip\n",
      "\u001b[34mMissing file 42.zip\u001b[0m\n"
     ]
    },
    {
     "name": "stderr",
     "output_type": "stream",
     "text": [
      "\n"
     ]
    }
   ],
   "source": [
    "wrong_or_missing_filenames_2 = []\n",
    "\n",
    "for filename in tqdm(wrong_or_missing_filenames):\n",
    "    if filename in expected_sha1sums:\n",
    "        \n",
    "        filepath = os.path.join('/mnt/data2/PadChest', filename)\n",
    "        print('------------------------')\n",
    "        print(filepath)\n",
    "        try:\n",
    "            exp_sha1 = expected_sha1sums[filename]\n",
    "            actual_sha1 = compute_sha1(filepath)\n",
    "\n",
    "            print(f'expected sha1:\\t{exp_sha1}')\n",
    "            print(f'actual sha1:\\t{actual_sha1}')\n",
    "            if actual_sha1 == exp_sha1:\n",
    "                print(colored('OK!!!', 'green'))\n",
    "            else:\n",
    "                print(colored('Wrong hash :(', 'red'))\n",
    "                print(f'Removing broken file {filepath}')\n",
    "                os.remove(filepath)\n",
    "                print(f'Done')\n",
    "                wrong_or_missing_filenames_2.append(filename)\n",
    "        except FileNotFoundError:\n",
    "            print(colored(f'Missing file {filename}', 'blue'))\n",
    "            wrong_or_missing_filenames_2.append(filename)            "
   ]
  },
  {
   "cell_type": "code",
   "execution_count": 31,
   "id": "07e640d8",
   "metadata": {},
   "outputs": [
    {
     "data": {
      "text/plain": [
       "['20.zip', '42.zip']"
      ]
     },
     "execution_count": 31,
     "metadata": {},
     "output_type": "execute_result"
    }
   ],
   "source": [
    "wrong_or_missing_filenames_2"
   ]
  },
  {
   "cell_type": "code",
   "execution_count": 32,
   "id": "d023934a",
   "metadata": {},
   "outputs": [
    {
     "data": {
      "text/plain": [
       "'mget 20.zip 42.zip'"
      ]
     },
     "execution_count": 32,
     "metadata": {},
     "output_type": "execute_result"
    }
   ],
   "source": [
    "command_string = f'mget {\" \".join(wrong_or_missing_filenames_2)}'\n",
    "command_string"
   ]
  },
  {
   "cell_type": "code",
   "execution_count": 28,
   "id": "23b920cb",
   "metadata": {},
   "outputs": [],
   "source": [
    "# if len(wrong_or_missing_filenames) > 0:\n",
    "#     cadaver_process = start(\"cd /mnt/data2/PadChest && cadaver https://b2drop.bsc.es/public.php/webdav/\")\n",
    "#     write(cadaver_process, 'BIMCV-PadChest-FULL') # username\n",
    "#     write(cadaver_process, '') # password\n",
    "#     write(cadaver_process, command_string)"
   ]
  }
 ],
 "metadata": {
  "kernelspec": {
   "display_name": "Python 3 (ipykernel)",
   "language": "python",
   "name": "python3"
  },
  "language_info": {
   "codemirror_mode": {
    "name": "ipython",
    "version": 3
   },
   "file_extension": ".py",
   "mimetype": "text/x-python",
   "name": "python",
   "nbconvert_exporter": "python",
   "pygments_lexer": "ipython3",
   "version": "3.7.10"
  }
 },
 "nbformat": 4,
 "nbformat_minor": 5
}
