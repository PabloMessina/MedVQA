{
 "cells": [
  {
   "cell_type": "code",
   "execution_count": 1,
   "metadata": {},
   "outputs": [],
   "source": [
    "from tqdm import tqdm\n",
    "from data_preprocessing_utils import (\n",
    "    extract_findings_plus_impression_MIMIC_CXR,\n",
    "    report_paths_generator_MIMIC_CXR,\n",
    ")"
   ]
  },
  {
   "cell_type": "code",
   "execution_count": 11,
   "metadata": {},
   "outputs": [],
   "source": [
    "report_file_paths = [None] * 300000"
   ]
  },
  {
   "cell_type": "code",
   "execution_count": 12,
   "metadata": {},
   "outputs": [
    {
     "name": "stderr",
     "output_type": "stream",
     "text": [
      "227835it [00:02, 76195.26it/s] \n"
     ]
    }
   ],
   "source": [
    "for i, filepath in tqdm(enumerate(report_paths_generator_MIMIC_CXR())):\n",
    "    report_file_paths[i] = filepath\n",
    "assert report_file_paths[i] is not None\n",
    "assert report_file_paths[i+1] is None\n",
    "report_file_paths = report_file_paths[:i+1]"
   ]
  },
  {
   "cell_type": "code",
   "execution_count": 245,
   "metadata": {},
   "outputs": [],
   "source": [
    "failed_paths = []\n",
    "with open('./mimic-cxr_findings+impression.txt', 'w') as f:\n",
    "    for path in report_file_paths:\n",
    "        report = extract_findings_plus_impression_MIMIC_CXR(path.as_posix())\n",
    "        if report:\n",
    "            f.write(report)\n",
    "            f.write('\\n')\n",
    "        else:\n",
    "            failed_paths.append(path)"
   ]
  },
  {
   "cell_type": "code",
   "execution_count": 246,
   "metadata": {},
   "outputs": [
    {
     "data": {
      "text/plain": [
       "227835"
      ]
     },
     "execution_count": 246,
     "metadata": {},
     "output_type": "execute_result"
    }
   ],
   "source": [
    "len(report_file_paths)"
   ]
  },
  {
   "cell_type": "code",
   "execution_count": 247,
   "metadata": {},
   "outputs": [
    {
     "data": {
      "text/plain": [
       "419"
      ]
     },
     "execution_count": 247,
     "metadata": {},
     "output_type": "execute_result"
    }
   ],
   "source": [
    "len(failed_paths)"
   ]
  },
  {
   "cell_type": "code",
   "execution_count": 260,
   "metadata": {},
   "outputs": [
    {
     "name": "stdout",
     "output_type": "stream",
     "text": [
      "                                 FINAL REPORT\n",
      " SINGLE FRONTAL VIEW OF THE CHEST\n",
      " \n",
      " REASON FOR EXAM:  Assess Dobbhoff placement.\n",
      " \n",
      " Comparison is made with the prior study performed one hour earlier.\n",
      " \n",
      " Dobbhoff tube tip now appears to be in proximal duodenum.  There are no other\n",
      " interval changes.\n",
      "\n"
     ]
    },
    {
     "data": {
      "text/plain": [
       "''"
      ]
     },
     "execution_count": 260,
     "metadata": {},
     "output_type": "execute_result"
    }
   ],
   "source": [
    "extract_findings_plus_impression(failed_paths[-20].as_posix(), debug=True)"
   ]
  },
  {
   "cell_type": "code",
   "execution_count": 9,
   "metadata": {},
   "outputs": [
    {
     "name": "stdout",
     "output_type": "stream",
     "text": [
      "                                 FINAL REPORT\n",
      " HISTORY:  ___-year-old man with ET tube, fluid overload.  Evaluate for interval\n",
      " change.  Portable AP.\n",
      " \n",
      " TECHNIQUE:  Portable AP semi-erect chest radiograph was obtained.  \n",
      " \n",
      " COMPARISON:  Chest radiograph from ___.  \n",
      " \n",
      " FINDINGS:\n",
      " \n",
      " Lung volumes continues to be low.  The heart continues to be moderately\n",
      " enlarged with unchanged mild to moderate edema.  Moderate bilateral, right\n",
      " greater than left, pleural effusions are unchanged.  ET tube is in appropriate\n",
      " position, and the gastric tube ends in the stomach.  Left central venous line\n",
      " is in appropriate position.  Right PICC line ends at the lower SVC.  \n",
      " \n",
      " IMPRESSION:\n",
      " \n",
      " Unchanged low lung volumes, mild pulmonary edema and bilateral moderate\n",
      " pleural effusions.\n",
      "\n"
     ]
    },
    {
     "data": {
      "text/plain": [
       "'Lung volumes continues to be low. The heart continues to be moderately enlarged with unchanged mild to moderate edema. Moderate bilateral, right greater than left, pleural effusions are unchanged. ET tube is in appropriate position, and the gastric tube ends in the stomach. Left central venous line is in appropriate position. Right PICC line ends at the lower SVC. Unchanged low lung volumes, mild pulmonary edema and bilateral moderate pleural effusions.'"
      ]
     },
     "execution_count": 9,
     "metadata": {},
     "output_type": "execute_result"
    }
   ],
   "source": [
    "extract_findings_plus_impression(report_file_paths[-1000].as_posix(), debug=True)"
   ]
  },
  {
   "cell_type": "code",
   "execution_count": 2,
   "metadata": {},
   "outputs": [],
   "source": [
    "from medvqa.utils.files import find_inconsistencies_between_directories"
   ]
  },
  {
   "cell_type": "code",
   "execution_count": 2,
   "metadata": {},
   "outputs": [
    {
     "name": "stderr",
     "output_type": "stream",
     "text": [
      "159it [00:00, 1576.72it/s]"
     ]
    },
    {
     "name": "stdout",
     "output_type": "stream",
     "text": [
      "Checking that all files and subdirectories in /mnt/data/mimic-cxr-jpg/images/ are also in /mnt/workspace/mimic-cxr-jpg/images/...\n"
     ]
    },
    {
     "name": "stderr",
     "output_type": "stream",
     "text": [
      "293225it [01:24, 3489.45it/s]\n",
      "4161it [00:00, 41606.96it/s]"
     ]
    },
    {
     "name": "stdout",
     "output_type": "stream",
     "text": [
      "Checking that all files and subdirectories in /mnt/workspace/mimic-cxr-jpg/images/ are also in /mnt/data/mimic-cxr-jpg/images/...\n"
     ]
    },
    {
     "name": "stderr",
     "output_type": "stream",
     "text": [
      "66735it [00:01, 51010.52it/s]\n"
     ]
    }
   ],
   "source": [
    "output = find_inconsistencies_between_directories(\n",
    "    '/mnt/data/mimic-cxr-jpg/images/',\n",
    "    '/mnt/workspace/mimic-cxr-jpg/images/',\n",
    ")"
   ]
  },
  {
   "cell_type": "code",
   "execution_count": 6,
   "metadata": {},
   "outputs": [
    {
     "data": {
      "text/plain": [
       "(560010, 0)"
      ]
     },
     "execution_count": 6,
     "metadata": {},
     "output_type": "execute_result"
    }
   ],
   "source": [
    "len(output['in_dir1_not_in_dir2']), len(output['in_dir2_not_in_dir1'])"
   ]
  },
  {
   "cell_type": "code",
   "execution_count": 13,
   "metadata": {},
   "outputs": [
    {
     "data": {
      "text/plain": [
       "333520"
      ]
     },
     "execution_count": 13,
     "metadata": {},
     "output_type": "execute_result"
    }
   ],
   "source": [
    "sum(1 for x in output['in_dir1_not_in_dir2'] if x.endswith('.jpg'))"
   ]
  },
  {
   "cell_type": "code",
   "execution_count": 14,
   "metadata": {},
   "outputs": [],
   "source": [
    "image_paths = [x for x in output['in_dir1_not_in_dir2'] if x.endswith('.jpg')]"
   ]
  },
  {
   "cell_type": "code",
   "execution_count": 17,
   "metadata": {
    "scrolled": true
   },
   "outputs": [
    {
     "data": {
      "text/plain": [
       "'/mnt/data/mimic-cxr-jpg/images/p19/p19216802/s51441827/0fdf338e-e2069e51-78babced-d93fc499-3a5e02f2.jpg'"
      ]
     },
     "execution_count": 17,
     "metadata": {},
     "output_type": "execute_result"
    }
   ],
   "source": [
    "image_paths[-1]"
   ]
  },
  {
   "cell_type": "code",
   "execution_count": 18,
   "metadata": {},
   "outputs": [
    {
     "name": "stderr",
     "output_type": "stream",
     "text": [
      "7490it [00:00, 31449.58it/s]"
     ]
    },
    {
     "name": "stdout",
     "output_type": "stream",
     "text": [
      "Checking that all files and subdirectories in /mnt/data/mimic-cxr-jpg/images/ are also in /mnt/workspace/mimic-cxr-jpg/images-small/...\n"
     ]
    },
    {
     "name": "stderr",
     "output_type": "stream",
     "text": [
      "293225it [00:06, 45204.64it/s]\n",
      "3225it [00:00, 32242.88it/s]"
     ]
    },
    {
     "name": "stdout",
     "output_type": "stream",
     "text": [
      "Checking that all files and subdirectories in /mnt/workspace/mimic-cxr-jpg/images-small/ are also in /mnt/data/mimic-cxr-jpg/images/...\n"
     ]
    },
    {
     "name": "stderr",
     "output_type": "stream",
     "text": [
      "293225it [00:06, 41940.94it/s]\n"
     ]
    }
   ],
   "source": [
    "output = find_inconsistencies_between_directories(\n",
    "    '/mnt/data/mimic-cxr-jpg/images/',\n",
    "    '/mnt/workspace/mimic-cxr-jpg/images-small/',\n",
    ")"
   ]
  },
  {
   "cell_type": "code",
   "execution_count": 20,
   "metadata": {},
   "outputs": [
    {
     "data": {
      "text/plain": [
       "0"
      ]
     },
     "execution_count": 20,
     "metadata": {},
     "output_type": "execute_result"
    }
   ],
   "source": [
    "len(output['in_dir2_not_in_dir1'])"
   ]
  },
  {
   "cell_type": "code",
   "execution_count": 42,
   "metadata": {},
   "outputs": [
    {
     "name": "stdout",
     "output_type": "stream",
     "text": [
      "Found 10 part folders in /mnt/data/mimic-cxr-jpg/images/\n",
      "/mnt/data/mimic-cxr-jpg/images/p11\n",
      "/mnt/data/mimic-cxr-jpg/images/p13\n",
      "/mnt/data/mimic-cxr-jpg/images/p18\n",
      "/mnt/data/mimic-cxr-jpg/images/p16\n",
      "/mnt/data/mimic-cxr-jpg/images/p12\n",
      "/mnt/data/mimic-cxr-jpg/images/p14\n",
      "/mnt/data/mimic-cxr-jpg/images/p15\n",
      "/mnt/data/mimic-cxr-jpg/images/p17\n",
      "/mnt/data/mimic-cxr-jpg/images/p10\n",
      "/mnt/data/mimic-cxr-jpg/images/p19\n",
      "Created target dir /mnt/workspace/mimic-cxr-jpg/images-medium(512)/\n",
      "Created target dir /mnt/workspace/mimic-cxr-jpg/images-medium(512)/p11\n",
      "Created target dir /mnt/workspace/mimic-cxr-jpg/images-medium(512)/p13\n",
      "Created target dir /mnt/workspace/mimic-cxr-jpg/images-medium(512)/p18\n",
      "Created target dir /mnt/workspace/mimic-cxr-jpg/images-medium(512)/p16\n",
      "Created target dir /mnt/workspace/mimic-cxr-jpg/images-medium(512)/p12\n",
      "Created target dir /mnt/workspace/mimic-cxr-jpg/images-medium(512)/p14\n",
      "Created target dir /mnt/workspace/mimic-cxr-jpg/images-medium(512)/p15\n",
      "Created target dir /mnt/workspace/mimic-cxr-jpg/images-medium(512)/p17\n",
      "Created target dir /mnt/workspace/mimic-cxr-jpg/images-medium(512)/p10\n",
      "Created target dir /mnt/workspace/mimic-cxr-jpg/images-medium(512)/p19\n",
      "Resizing images in parallel using 5 workers...\n",
      "Done\n"
     ]
    }
   ],
   "source": [
    "!python ../../scripts/mimiccxr/resize_images.py \\\n",
    "    --mimiccxr-images-source-dir \"/mnt/data/mimic-cxr-jpg/images/\" \\\n",
    "    --mimiccxr-images-target-dir \"/mnt/workspace/mimic-cxr-jpg/images-medium(512)/\" \\\n",
    "    --target-size 512 \\\n",
    "    --num-workers 5"
   ]
  },
  {
   "cell_type": "code",
   "execution_count": 3,
   "metadata": {},
   "outputs": [
    {
     "name": "stderr",
     "output_type": "stream",
     "text": [
      "2937it [00:00, 29368.42it/s]"
     ]
    },
    {
     "name": "stdout",
     "output_type": "stream",
     "text": [
      "Checking that all files and subdirectories in /mnt/data/mimic-cxr-jpg/images/ are also in /mnt/workspace/mimic-cxr-jpg/images-medium(512)/...\n"
     ]
    },
    {
     "name": "stderr",
     "output_type": "stream",
     "text": [
      "293225it [00:05, 52751.39it/s]\n",
      "9579it [00:00, 44511.65it/s]"
     ]
    },
    {
     "name": "stdout",
     "output_type": "stream",
     "text": [
      "Checking that all files and subdirectories in /mnt/workspace/mimic-cxr-jpg/images-medium(512)/ are also in /mnt/data/mimic-cxr-jpg/images/...\n"
     ]
    },
    {
     "name": "stderr",
     "output_type": "stream",
     "text": [
      "293225it [00:05, 52759.26it/s]"
     ]
    },
    {
     "name": "stdout",
     "output_type": "stream",
     "text": [
      "In /mnt/data/mimic-cxr-jpg/images/ but not in /mnt/workspace/mimic-cxr-jpg/images-medium(512)/: 0\n",
      "In /mnt/workspace/mimic-cxr-jpg/images-medium(512)/ but not in /mnt/data/mimic-cxr-jpg/images/: 0\n",
      "No inconsistencies found!\n"
     ]
    },
    {
     "name": "stderr",
     "output_type": "stream",
     "text": [
      "\n"
     ]
    }
   ],
   "source": [
    "output = find_inconsistencies_between_directories(\n",
    "    '/mnt/data/mimic-cxr-jpg/images/',\n",
    "    '/mnt/workspace/mimic-cxr-jpg/images-medium(512)/',\n",
    ")"
   ]
  }
 ],
 "metadata": {
  "kernelspec": {
   "display_name": "Python 3",
   "language": "python",
   "name": "python3"
  },
  "language_info": {
   "codemirror_mode": {
    "name": "ipython",
    "version": 3
   },
   "file_extension": ".py",
   "mimetype": "text/x-python",
   "name": "python",
   "nbconvert_exporter": "python",
   "pygments_lexer": "ipython3",
   "version": "3.6.9"
  }
 },
 "nbformat": 4,
 "nbformat_minor": 4
}
