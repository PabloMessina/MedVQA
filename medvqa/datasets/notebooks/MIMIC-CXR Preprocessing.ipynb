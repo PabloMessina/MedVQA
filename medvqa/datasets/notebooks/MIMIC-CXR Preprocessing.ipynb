{
 "cells": [
  {
   "cell_type": "code",
   "execution_count": 1,
   "metadata": {},
   "outputs": [],
   "source": [
    "from tqdm import tqdm\n",
    "from data_preprocessing_utils import extract_findings_plus_impression_MIMIC_CXR, report_paths_generator_MIMIC_CXR"
   ]
  },
  {
   "cell_type": "code",
   "execution_count": 11,
   "metadata": {},
   "outputs": [],
   "source": [
    "report_file_paths = [None] * 300000"
   ]
  },
  {
   "cell_type": "code",
   "execution_count": 12,
   "metadata": {},
   "outputs": [
    {
     "name": "stderr",
     "output_type": "stream",
     "text": [
      "227835it [00:02, 76195.26it/s] \n"
     ]
    }
   ],
   "source": [
    "for i, filepath in tqdm(enumerate(report_paths_generator_MIMIC_CXR())):\n",
    "    report_file_paths[i] = filepath\n",
    "assert report_file_paths[i] is not None\n",
    "assert report_file_paths[i+1] is None\n",
    "report_file_paths = report_file_paths[:i+1]"
   ]
  },
  {
   "cell_type": "code",
   "execution_count": 245,
   "metadata": {},
   "outputs": [],
   "source": [
    "failed_paths = []\n",
    "with open('./mimic-cxr_findings+impression.txt', 'w') as f:\n",
    "    for path in report_file_paths:\n",
    "        report = extract_findings_plus_impression_MIMIC_CXR(path.as_posix())\n",
    "        if report:\n",
    "            f.write(report)\n",
    "            f.write('\\n')\n",
    "        else:\n",
    "            failed_paths.append(path)"
   ]
  },
  {
   "cell_type": "code",
   "execution_count": 246,
   "metadata": {},
   "outputs": [
    {
     "data": {
      "text/plain": [
       "227835"
      ]
     },
     "execution_count": 246,
     "metadata": {},
     "output_type": "execute_result"
    }
   ],
   "source": [
    "len(report_file_paths)"
   ]
  },
  {
   "cell_type": "code",
   "execution_count": 247,
   "metadata": {},
   "outputs": [
    {
     "data": {
      "text/plain": [
       "419"
      ]
     },
     "execution_count": 247,
     "metadata": {},
     "output_type": "execute_result"
    }
   ],
   "source": [
    "len(failed_paths)"
   ]
  },
  {
   "cell_type": "code",
   "execution_count": 260,
   "metadata": {},
   "outputs": [
    {
     "name": "stdout",
     "output_type": "stream",
     "text": [
      "                                 FINAL REPORT\n",
      " SINGLE FRONTAL VIEW OF THE CHEST\n",
      " \n",
      " REASON FOR EXAM:  Assess Dobbhoff placement.\n",
      " \n",
      " Comparison is made with the prior study performed one hour earlier.\n",
      " \n",
      " Dobbhoff tube tip now appears to be in proximal duodenum.  There are no other\n",
      " interval changes.\n",
      "\n"
     ]
    },
    {
     "data": {
      "text/plain": [
       "''"
      ]
     },
     "execution_count": 260,
     "metadata": {},
     "output_type": "execute_result"
    }
   ],
   "source": [
    "extract_findings_plus_impression(failed_paths[-20].as_posix(), debug=True)"
   ]
  },
  {
   "cell_type": "code",
   "execution_count": 9,
   "metadata": {},
   "outputs": [
    {
     "name": "stdout",
     "output_type": "stream",
     "text": [
      "                                 FINAL REPORT\n",
      " HISTORY:  ___-year-old man with ET tube, fluid overload.  Evaluate for interval\n",
      " change.  Portable AP.\n",
      " \n",
      " TECHNIQUE:  Portable AP semi-erect chest radiograph was obtained.  \n",
      " \n",
      " COMPARISON:  Chest radiograph from ___.  \n",
      " \n",
      " FINDINGS:\n",
      " \n",
      " Lung volumes continues to be low.  The heart continues to be moderately\n",
      " enlarged with unchanged mild to moderate edema.  Moderate bilateral, right\n",
      " greater than left, pleural effusions are unchanged.  ET tube is in appropriate\n",
      " position, and the gastric tube ends in the stomach.  Left central venous line\n",
      " is in appropriate position.  Right PICC line ends at the lower SVC.  \n",
      " \n",
      " IMPRESSION:\n",
      " \n",
      " Unchanged low lung volumes, mild pulmonary edema and bilateral moderate\n",
      " pleural effusions.\n",
      "\n"
     ]
    },
    {
     "data": {
      "text/plain": [
       "'Lung volumes continues to be low. The heart continues to be moderately enlarged with unchanged mild to moderate edema. Moderate bilateral, right greater than left, pleural effusions are unchanged. ET tube is in appropriate position, and the gastric tube ends in the stomach. Left central venous line is in appropriate position. Right PICC line ends at the lower SVC. Unchanged low lung volumes, mild pulmonary edema and bilateral moderate pleural effusions.'"
      ]
     },
     "execution_count": 9,
     "metadata": {},
     "output_type": "execute_result"
    }
   ],
   "source": [
    "extract_findings_plus_impression(report_file_paths[-1000].as_posix(), debug=True)"
   ]
  }
 ],
 "metadata": {
  "kernelspec": {
   "display_name": "Python 3",
   "language": "python",
   "name": "python3"
  },
  "language_info": {
   "codemirror_mode": {
    "name": "ipython",
    "version": 3
   },
   "file_extension": ".py",
   "mimetype": "text/x-python",
   "name": "python",
   "nbconvert_exporter": "python",
   "pygments_lexer": "ipython3",
   "version": "3.6.9"
  }
 },
 "nbformat": 4,
 "nbformat_minor": 4
}
