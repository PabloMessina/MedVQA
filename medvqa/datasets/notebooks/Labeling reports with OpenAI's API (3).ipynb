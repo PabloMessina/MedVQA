{
 "cells": [
  {
   "cell_type": "code",
   "execution_count": 71,
   "id": "525b6006",
   "metadata": {
    "scrolled": true
   },
   "outputs": [
    {
     "name": "stdout",
     "output_type": "stream",
     "text": [
      "2023-06-14 17:15:58,379 - \u001b[1;32mINFO\u001b[1;0m - Loaded 9205 already parsed sentences from /home/pamessina/medvqa-workspace/cache/mimiccxr/openai/gpt-3.5-turbo_parsed_sentences.jsonl\n",
      "2023-06-14 17:15:58,379 - \u001b[1;32mINFO\u001b[1;0m - Loading preprocessed sentences to skip from /home/pamessina/medvqa-workspace/cache/mimiccxr/openai/gpt-4-0613_parsed_sentences.jsonl\n",
      "2023-06-14 17:15:58,516 - \u001b[1;32mINFO\u001b[1;0m - Loaded 19999 sentences to skip\n",
      "2023-06-14 17:15:58,526 - \u001b[1;32mINFO\u001b[1;0m - Total number of sentences to skip: 29204\n",
      "2023-06-14 17:15:58,526 - \u001b[1;32mINFO\u001b[1;0m - Loading sentences from /home/pamessina/medvqa-workspace/cache/mimiccxr/openai/gpt-4-0613_parsed_reports.jsonl\n",
      "2023-06-14 17:15:59,025 - \u001b[1;32mINFO\u001b[1;0m - Loaded 15322 reports with extracted sentences from /home/pamessina/medvqa-workspace/cache/mimiccxr/openai/gpt-4-0613_parsed_reports.jsonl\n",
      "2023-06-14 17:15:59,134 - \u001b[1;32mINFO\u001b[1;0m - Found 101397 unique sentences to parse\n",
      "2023-06-14 17:15:59,177 - \u001b[1;32mINFO\u001b[1;0m - Example sentences to parse:\n",
      "2023-06-14 17:15:59,177 - \u001b[1;32mINFO\u001b[1;0m - 1. In the setting of closed chest trauma this need not indicate disruption of the esophagus or tracheal bronchial tree, either of which would probably produce more air in the mediastinum and conceivably hemo mediastinal hematoma\n",
      "2023-06-14 17:15:59,177 - \u001b[1;32mINFO\u001b[1;0m - 2. The upper enteric drainage tube ends in the mid esophagus would have needed to be advanced at least 20 cm to move all the side ports into the stomach, but was repositioned as of a chest radiograph performed 05:30 today\n",
      "2023-06-14 17:15:59,177 - \u001b[1;32mINFO\u001b[1;0m - 3. A temporary transvenous pacing line is seen extending over the expected course of the right internal jugular vein down across the right side of the heart with the tip at the expected level of the right ventricle\n",
      "2023-06-14 17:15:59,177 - \u001b[1;32mINFO\u001b[1;0m - 4. If the demonstration of such a chest cage abnormality is clinically warranted, the location of any referrable focal findings should be clearly marked and imaged with either bone detail views or CT scanning\n",
      "2023-06-14 17:15:59,177 - \u001b[1;32mINFO\u001b[1;0m - 5. If demonstration of trauma to the chest wall is clinically warranted, location of any referrable focal findings should be clearly marked and imaged with either bone detail radiographs or Chest CT scanning\n",
      "2023-06-14 17:15:59,177 - \u001b[1;32mINFO\u001b[1;0m - 96. There continues to be dense opacity in the perihilar regions bilaterally in the retrocardiac region with infiltrate/volume loss in both lower lungs\n",
      "2023-06-14 17:15:59,177 - \u001b[1;32mINFO\u001b[1;0m - 97. Interval placement of a right apical pigtail catheter resulted in decrease in size of right apical pneumothorax and right apical loculated effusion\n",
      "2023-06-14 17:15:59,177 - \u001b[1;32mINFO\u001b[1;0m - 98. Diffuse bilateral nearly confluent multifocal airspace opacities are consistent with multifocal pneumonia and/or superimposed multifocal metastases\n",
      "2023-06-14 17:15:59,177 - \u001b[1;32mINFO\u001b[1;0m - 99. Increasing left pleural effusion in the setting of a pericardial effusion and recent cardiac surgery is concerning for post pericardiotomy syndrome\n",
      "2023-06-14 17:15:59,177 - \u001b[1;32mINFO\u001b[1;0m - 100. Opacities overlying the spine and heart on the lateral view are suspicious for a lower lobe and potentially lingular or right middle lobe pneumonia\n",
      "2023-06-14 17:15:59,746 - \u001b[1;32mINFO\u001b[1;0m - Saving API requests to /home/pamessina/medvqa-workspace/tmp/mimiccxr/openai/api_requests_20230614_171559.jsonl\n",
      "2023-06-14 17:15:59,746 - \u001b[1;32mINFO\u001b[1;0m - Saving API responses to /home/pamessina/medvqa-workspace/tmp/mimiccxr/openai/api_responses_20230614_171559.jsonl\n",
      "2023-06-14 17:16:00,167 - \u001b[1;32mINFO\u001b[1;0m - Starting request #0\n",
      "2023-06-14 17:16:00,244 - \u001b[1;32mINFO\u001b[1;0m - Starting request #20\n",
      "2023-06-14 17:16:00,483 - \u001b[1;32mINFO\u001b[1;0m - Starting request #40\n",
      "2023-06-14 17:16:00,540 - \u001b[1;32mINFO\u001b[1;0m - Starting request #60\n",
      "2023-06-14 17:16:00,600 - \u001b[1;32mINFO\u001b[1;0m - Starting request #80\n",
      "2023-06-14 17:16:17,137 - \u001b[1;32mINFO\u001b[1;0m - Parallel processing complete. Results saved to /home/pamessina/medvqa-workspace/tmp/mimiccxr/openai/api_responses_20230614_171559.jsonl\n",
      "2023-06-14 17:16:17,139 - \u001b[1;32mINFO\u001b[1;0m - Loading API responses from /home/pamessina/medvqa-workspace/tmp/mimiccxr/openai/api_responses_20230614_171559.jsonl\n",
      "2023-06-14 17:16:17,148 - \u001b[1;31mERROR\u001b[1;0m - Error parsing response [{\"model\": \"gpt-3.5-turbo\", \"messages\": [{\"role\": \"system\", \"content\": \"Given a sentence from a chest x-ray report, generate a JSON list of strings.\\n...d pulmonary edema\\\",\\n]\"}, \"finish_reason\": \"stop\", \"index\": 0}]}, {\"sentence\": \"Mild pulmonary edema is minimally improved from the previous study\"}] for sentence \"Mild pulmonary edema is minimally improved from the previous study\": Expecting value: line 4 column 1 (char 45)\n",
      "2023-06-14 17:16:17,149 - \u001b[1;31mERROR\u001b[1;0m - Error parsing response [{\"model\": \"gpt-3.5-turbo\", \"messages\": [{\"role\": \"system\", \"content\": \"Given a sentence from a chest x-ray report, generate a JSON list of strings.\\n...hy\\\",\\n]\"}, \"finish_reason\": \"stop\", \"index\": 0}]}, {\"sentence\": \"The known bulky mediastinal lymphadenopathy is better appreciated on the prior CT\"}] for sentence \"The known bulky mediastinal lymphadenopathy is better appreciated on the prior CT\": Expecting value: line 4 column 1 (char 70)\n",
      "2023-06-14 17:16:17,150 - \u001b[1;31mERROR\u001b[1;0m - Error parsing response [{\"model\": \"gpt-3.5-turbo\", \"messages\": [{\"role\": \"system\", \"content\": \"Given a sentence from a chest x-ray report, generate a JSON list of strings.\\n...lower lung opacity\\\",\\n\\\"Increased opacity\\\",\\n]\"}, \"finish_reason\": \"stop\", \"index\": 0}]}, {\"sentence\": \"Increased opacity in the right lower lung\"}] for sentence \"Increased opacity in the right lower lung\": Expecting value: line 5 column 1 (char 62)\n",
      "2023-06-14 17:16:17,152 - \u001b[1;31mERROR\u001b[1;0m - Error parsing response [{\"model\": \"gpt-3.5-turbo\", \"messages\": [{\"role\": \"system\", \"content\": \"Given a sentence from a chest x-ray report, generate a JSON list of strings.\\n... tumors, or fluid accumulation.\"}, \"finish_reason\": \"stop\", \"index\": 0}]}, {\"sentence\": \"Opacity could relate to overlapping soft tissues and edema\"}] for sentence \"Opacity could relate to overlapping soft tissues and edema\": Could not parse output: Thank you for the input! However, for the purposes of this exercise, we are looking for positive observations of abnormalities, diseases, strange visual patterns, devices, and foreign bodies. Therefore, \"opacity\" in this context refers to an abnormal density or shadow in the lung tissue, which can be indicative of various conditions such as pneumonia, tumors, or fluid accumulation.\n",
      "2023-06-14 17:16:17,152 - \u001b[1;31mERROR\u001b[1;0m - Error parsing response [{\"model\": \"gpt-3.5-turbo\", \"messages\": [{\"role\": \"system\", \"content\": \"Given a sentence from a chest x-ray report, generate a JSON list of strings.\\n...e from a chest x-ray report to generate a list of facts.\"}, \"finish_reason\": \"stop\", \"index\": 0}]}, {\"sentence\": \"Probably a functional abnormality\"}] for sentence \"Probably a functional abnormality\": Could not parse output: I'm sorry, but that is not a valid input for this task. I need a sentence from a chest x-ray report to generate a list of facts.\n",
      "2023-06-14 17:16:17,152 - \u001b[1;31mERROR\u001b[1;0m - Error parsing response [{\"model\": \"gpt-3.5-turbo\", \"messages\": [{\"role\": \"system\", \"content\": \"Given a sentence from a chest x-ray report, generate a JSON list of strings.\\n...ct. Opacity can be caused by atelectasis, among other things.\"}, \"finish_reason\": \"stop\", \"index\": 0}]}, {\"sentence\": \"Opacity could be atelectasis\"}] for sentence \"Opacity could be atelectasis\": Could not parse output: Yes, that's correct. Opacity can be caused by atelectasis, among other things.\n",
      "2023-06-14 17:16:17,153 - \u001b[1;31mERROR\u001b[1;0m - Error parsing response [{\"model\": \"gpt-3.5-turbo\", \"messages\": [{\"role\": \"system\", \"content\": \"Given a sentence from a chest x-ray report, generate a JSON list of strings.\\n...\": \"assistant\", \"content\": \"[\\n\\\"Drains\\\",\\n\\\"Midline drains\\\",\\n]\"}, \"finish_reason\": \"stop\", \"index\": 0}]}, {\"sentence\": \"Midline drains in place\"}] for sentence \"Midline drains in place\": Expecting value: line 4 column 1 (char 30)\n",
      "2023-06-14 17:16:17,153 - \u001b[1;31mERROR\u001b[1;0m - Error parsing response [{\"model\": \"gpt-3.5-turbo\", \"messages\": [{\"role\": \"system\", \"content\": \"Given a sentence from a chest x-ray report, generate a JSON list of strings.\\n...isual pattern, device, or foreign body. Therefore, the output should be an empty list.\"}, \"finish_reason\": \"stop\", \"index\": 0}]}, {\"sentence\": \"NSR\"}] for sentence \"NSR\": Could not parse output: Since \"NSR\" stands for \"normal sinus rhythm\", it is a normal finding and does not meet the criteria of a positive observation of an abnormality, disease, strange visual pattern, device, or foreign body. Therefore, the output should be an empty list.\n",
      "2023-06-14 17:16:17,153 - \u001b[1;32mINFO\u001b[1;0m - Deleting API requests and responses\n",
      "2023-06-14 17:16:17,153 - \u001b[1;32mINFO\u001b[1;0m - Succesfully processed 92 of 100 API responses.\n",
      "                    8 of 100 API responses could not be processed.\n",
      "                    Saving parsed sentences to /home/pamessina/medvqa-workspace/cache/mimiccxr/openai/gpt-3.5-turbo_parsed_sentences.jsonl\n"
     ]
    }
   ],
   "source": [
    "!python ../../scripts/mimiccxr/extract_facts_from_report_sentences_with_openai.py \\\n",
    "    --extracted_sentences_jsonl_filepaths \\\n",
    "        \"/home/pamessina/medvqa-workspace/cache/mimiccxr/openai/gpt-4-0613_parsed_reports.jsonl\" \\\n",
    "    --preprocessed_sentences_to_skip_filename \"gpt-4-0613_parsed_sentences.jsonl\" \\\n",
    "    --num_sentences 100 \\\n",
    "    --sample_sentences_uniformly \\\n",
    "    --max_requests_per_minute 3500 \\\n",
    "    --max_tokens_per_minute 80000 \\\n",
    "    --max_tokens_per_request 512 \\\n",
    "    --logging_level \"INFO\" \\\n",
    "    --api_key_name \"OPENAI_API_KEY\" \\\n",
    "    --openai_model_name \"gpt-3.5-turbo\""
   ]
  },
  {
   "cell_type": "code",
   "execution_count": 4,
   "id": "50b691b8",
   "metadata": {},
   "outputs": [],
   "source": [
    "from medvqa.utils.files import load_jsonl"
   ]
  },
  {
   "cell_type": "code",
   "execution_count": 72,
   "id": "8b5d95b1",
   "metadata": {},
   "outputs": [],
   "source": [
    "# tmp = load_jsonl('/home/pamessina/medvqa-workspace/cache/mimiccxr/openai/gpt-4-0613_parsed_sentences.jsonl')\n",
    "tmp = load_jsonl('/home/pamessina/medvqa-workspace/cache/mimiccxr/openai/gpt-3.5-turbo_parsed_sentences.jsonl')"
   ]
  },
  {
   "cell_type": "code",
   "execution_count": 73,
   "id": "fcab2a53",
   "metadata": {},
   "outputs": [
    {
     "data": {
      "text/plain": [
       "9297"
      ]
     },
     "execution_count": 73,
     "metadata": {},
     "output_type": "execute_result"
    }
   ],
   "source": [
    "len(tmp)"
   ]
  },
  {
   "cell_type": "code",
   "execution_count": 83,
   "id": "4c3caee5",
   "metadata": {},
   "outputs": [
    {
     "data": {
      "text/plain": [
       "{'metadata': {'sentence': 'Could be atelectasis or pneumonia'},\n",
       " 'parsed_response': ['Atelectasis', 'Pneumonia']}"
      ]
     },
     "execution_count": 83,
     "metadata": {},
     "output_type": "execute_result"
    }
   ],
   "source": [
    "tmp[-10]"
   ]
  },
  {
   "cell_type": "code",
   "execution_count": 16,
   "id": "e61058ef",
   "metadata": {},
   "outputs": [],
   "source": [
    "max_i = 0\n",
    "max_len = 0\n",
    "for i in range(len(tmp)):\n",
    "    for s, _ in tmp[i]['parsed_response']:\n",
    "        if len(s) > max_len:\n",
    "            max_len = len(s)\n",
    "            max_i = i"
   ]
  },
  {
   "cell_type": "code",
   "execution_count": 17,
   "id": "e46ca266",
   "metadata": {},
   "outputs": [
    {
     "data": {
      "text/plain": [
       "(195, 184)"
      ]
     },
     "execution_count": 17,
     "metadata": {},
     "output_type": "execute_result"
    }
   ],
   "source": [
    "max_i, max_len"
   ]
  },
  {
   "cell_type": "code",
   "execution_count": 20,
   "id": "11615ed3",
   "metadata": {},
   "outputs": [
    {
     "data": {
      "text/plain": [
       "184"
      ]
     },
     "execution_count": 20,
     "metadata": {},
     "output_type": "execute_result"
    }
   ],
   "source": [
    "x = ['Low lung volumes with mild pulmonary vascular '\n",
    "                      'congestion, small bilateral pleural effusions, and '\n",
    "                      'patchy opacities in the lung bases, likely atelectasis '\n",
    "                      'though infection is not excluded',\n",
    "                      1][0]\n",
    "len(x)"
   ]
  },
  {
   "cell_type": "code",
   "execution_count": 18,
   "id": "de98a7a3",
   "metadata": {
    "scrolled": false
   },
   "outputs": [
    {
     "name": "stdout",
     "output_type": "stream",
     "text": [
      "{'metadata': {'part_id': 15,\n",
      "              'report': {'background': 'indication: History: F with dyspnea.',\n",
      "                         'findings': 'Upright AP and lateral views of the '\n",
      "                                     'chest. Lung volumes are low. Heart size '\n",
      "                                     'remains mildly enlarged with a left '\n",
      "                                     'ventricular predominance. Mediastinal '\n",
      "                                     'and hilar contours are unchanged. Mild '\n",
      "                                     'pulmonary vascular congestion is '\n",
      "                                     'present. Patchy opacities in the lung '\n",
      "                                     'bases may reflect areas of atelectasis '\n",
      "                                     'but infection is not excluded. Linear '\n",
      "                                     'opacity within the periphery of the '\n",
      "                                     'right mid lung field likely reflects '\n",
      "                                     'subsegmental atelectasis. Trace '\n",
      "                                     'bilateral pleural effusions are noted. '\n",
      "                                     'No pneumothorax is present. Partially '\n",
      "                                     'imaged is an inferior vena cava filter '\n",
      "                                     'within the upper abdomen. Mild to mold '\n",
      "                                     'moderate multilevel degenerative changes '\n",
      "                                     'are seen in the thoracic spine.',\n",
      "                         'impression': 'Low lung volumes with mild pulmonary '\n",
      "                                       'vascular congestion, small bilateral '\n",
      "                                       'pleural effusions, and patchy '\n",
      "                                       'opacities in the lung bases, likely '\n",
      "                                       'atelectasis though infection is not '\n",
      "                                       'excluded.',\n",
      "                         'path': '/mnt/data/mimic-cxr/files/p15/p15520884/s50757891.txt'},\n",
      "              'report_index': 115982,\n",
      "              'study_id': 50757891,\n",
      "              'subject_id': 15520884},\n",
      " 'parsed_response': [['Upright AP and lateral views of the chest were taken',\n",
      "                      0],\n",
      "                     ['Lung volumes are low', 1],\n",
      "                     ['Heart size remains mildly enlarged with a left '\n",
      "                      'ventricular predominance',\n",
      "                      1],\n",
      "                     ['Mediastinal and hilar contours are unchanged', 0],\n",
      "                     ['Mild pulmonary vascular congestion is present', 1],\n",
      "                     ['Patchy opacities in the lung bases may reflect areas of '\n",
      "                      'atelectasis but infection is not excluded',\n",
      "                      1],\n",
      "                     ['Linear opacity within the periphery of the right mid '\n",
      "                      'lung field likely reflects subsegmental atelectasis',\n",
      "                      1],\n",
      "                     ['Trace bilateral pleural effusions are noted', 1],\n",
      "                     ['No pneumothorax is present', 0],\n",
      "                     ['Partially imaged is an inferior vena cava filter within '\n",
      "                      'the upper abdomen',\n",
      "                      1],\n",
      "                     ['Mild to mold moderate multilevel degenerative changes '\n",
      "                      'are seen in the thoracic spine',\n",
      "                      1],\n",
      "                     ['Low lung volumes with mild pulmonary vascular '\n",
      "                      'congestion, small bilateral pleural effusions, and '\n",
      "                      'patchy opacities in the lung bases, likely atelectasis '\n",
      "                      'though infection is not excluded',\n",
      "                      1]]}\n",
      "Upright AP and lateral views of the chest. Lung volumes are low. Heart size remains mildly enlarged with a left ventricular predominance. Mediastinal and hilar contours are unchanged. Mild pulmonary vascular congestion is present. Patchy opacities in the lung bases may reflect areas of atelectasis but infection is not excluded. Linear opacity within the periphery of the right mid lung field likely reflects subsegmental atelectasis. Trace bilateral pleural effusions are noted. No pneumothorax is present. Partially imaged is an inferior vena cava filter within the upper abdomen. Mild to mold moderate multilevel degenerative changes are seen in the thoracic spine. Low lung volumes with mild pulmonary vascular congestion, small bilateral pleural effusions, and patchy opacities in the lung bases, likely atelectasis though infection is not excluded.\n"
     ]
    }
   ],
   "source": [
    "from pprint import pprint\n",
    "pprint(tmp[max_i])\n",
    "print(tmp[max_i]['metadata']['report']['findings'] + \" \" + tmp[max_i]['metadata']['report']['impression'])"
   ]
  },
  {
   "cell_type": "code",
   "execution_count": 43,
   "id": "5e4d3314",
   "metadata": {},
   "outputs": [],
   "source": [
    "tmp = load_jsonl('/home/pamessina/medvqa-workspace/tmp/mimiccxr/openai/gpt-3.5-turbo_parsed_reports.jsonl')"
   ]
  },
  {
   "cell_type": "code",
   "execution_count": 44,
   "id": "6d997d37",
   "metadata": {},
   "outputs": [
    {
     "data": {
      "text/plain": [
       "{'metadata': {'report_index': 32990,\n",
       "  'part_id': 11,\n",
       "  'subject_id': 11123456,\n",
       "  'study_id': 57510538,\n",
       "  'report': {'background': 'indication: History: F with shortness of breath, lung cancer.',\n",
       "   'findings': 'The patient is status post right upper lobectomy with unchanged right hilar opacity along the resection margin, grossly similar compared with the prior CT. Heart size is moderately enlarged, increased compared to the previous chest radiograph. Pulmonary vasculature is not engorged. Mediastinal contour is similar. New left basilar opacity is demonstrated with a small to moderate size left pleural effusion. No pneumothorax is identified. There is diffuse demineralization of the osseous structures with multiple compression deformities re- demonstrated, not substantially changed from the previous CT.',\n",
       "   'impression': 'New small to moderate size left pleural effusion and left basilar opacity concerning for pneumonia. Right hilar opacity along the resection margin remains concerning for disease recurrence, better assessed on the previous CT.',\n",
       "   'path': '/mnt/data/mimic-cxr/files/p11/p11123456/s57510538.txt'}},\n",
       " 'parsed_response': [['Unchanged right hilar opacity along resection margin',\n",
       "   1],\n",
       "  ['Moderately enlarged heart size compared to previous chest radiograph', 1],\n",
       "  ['New left basilar opacity and small to moderate size left pleural effusion',\n",
       "   1],\n",
       "  ['No pneumothorax identified', 0],\n",
       "  ['Diffuse demineralization of osseous structures with multiple compression deformities re-demonstrated, not substantially changed from previous CT',\n",
       "   0],\n",
       "  ['Concern for disease recurrence in right hilar opacity, better assessed on previous CT',\n",
       "   1]]}"
      ]
     },
     "execution_count": 44,
     "metadata": {},
     "output_type": "execute_result"
    }
   ],
   "source": [
    "tmp[-1]"
   ]
  },
  {
   "cell_type": "code",
   "execution_count": 2,
   "id": "77656bd7",
   "metadata": {},
   "outputs": [],
   "source": [
    "from medvqa.utils.files import load_jsonl"
   ]
  },
  {
   "cell_type": "code",
   "execution_count": 37,
   "id": "d2a7c573",
   "metadata": {},
   "outputs": [],
   "source": [
    "tmp = load_jsonl('/home/pamessina/medvqa-workspace/cache/mimiccxr/openai/gpt-3.5-turbo_parsed_backgrounds.jsonl')"
   ]
  },
  {
   "cell_type": "code",
   "execution_count": 38,
   "id": "1477807a",
   "metadata": {},
   "outputs": [
    {
     "data": {
      "text/plain": [
       "19974"
      ]
     },
     "execution_count": 38,
     "metadata": {},
     "output_type": "execute_result"
    }
   ],
   "source": [
    "len(tmp)"
   ]
  },
  {
   "cell_type": "code",
   "execution_count": 39,
   "id": "6874eddc",
   "metadata": {},
   "outputs": [
    {
     "data": {
      "text/plain": [
       "{'metadata': {'report_index': 88870,\n",
       "  'part_id': 13,\n",
       "  'subject_id': 13966539,\n",
       "  'study_id': 56152636,\n",
       "  'background': 'indication: prostate ca s/p robotic prostatectomy now s/p repeat laparatomy for bleeding, still intubated and on neosynephrine for hypotension // ?acute change, ET placement ; prostate ca s/p robotic prostatectomy now s/p repeat laparatomy for bleeding, still intubated now with OG tube replacement // OGT placement.'},\n",
       " 'parsed_response': ['prostate cancer',\n",
       "  'robotic prostatectomy',\n",
       "  'repeat laparotomy for bleeding',\n",
       "  'intubated',\n",
       "  'neosynephrine for hypotension',\n",
       "  'acute change',\n",
       "  'ET placement',\n",
       "  'OG tube replacement',\n",
       "  'OGT placement']}"
      ]
     },
     "execution_count": 39,
     "metadata": {},
     "output_type": "execute_result"
    }
   ],
   "source": [
    "tmp[-1]"
   ]
  }
 ],
 "metadata": {
  "kernelspec": {
   "display_name": "venv2",
   "language": "python",
   "name": "venv2"
  },
  "language_info": {
   "codemirror_mode": {
    "name": "ipython",
    "version": 3
   },
   "file_extension": ".py",
   "mimetype": "text/x-python",
   "name": "python",
   "nbconvert_exporter": "python",
   "pygments_lexer": "ipython3",
   "version": "3.10.10"
  }
 },
 "nbformat": 4,
 "nbformat_minor": 5
}
