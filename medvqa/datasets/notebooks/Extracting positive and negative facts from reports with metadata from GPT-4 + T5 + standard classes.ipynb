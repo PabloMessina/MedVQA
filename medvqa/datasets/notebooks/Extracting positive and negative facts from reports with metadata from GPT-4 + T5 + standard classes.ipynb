{
 "cells": [
  {
   "cell_type": "code",
   "execution_count": 1,
   "id": "765bb40b",
   "metadata": {
    "scrolled": true
   },
   "outputs": [
    {
     "name": "stdout",
     "output_type": "stream",
     "text": [
      "env: CUDA_VISIBLE_DEVICES=0\n"
     ]
    }
   ],
   "source": [
    "%env CUDA_VISIBLE_DEVICES=0"
   ]
  },
  {
   "cell_type": "code",
   "execution_count": 2,
   "id": "31af3ad1",
   "metadata": {},
   "outputs": [],
   "source": [
    "from medvqa.models.huggingface_utils import (\n",
    "    CachedTextEmbeddingExtractor,\n",
    "    SupportedHuggingfaceMedicalBERTModels,\n",
    ")\n",
    "from medvqa.utils.files import (\n",
    "    load_jsonl, load_pickle,\n",
    ")\n",
    "from medvqa.utils.math import rank_vectors_by_dot_product\n",
    "import numpy as np"
   ]
  },
  {
   "cell_type": "code",
   "execution_count": 3,
   "id": "97cfb8dd",
   "metadata": {},
   "outputs": [],
   "source": [
    "from importlib import reload\n",
    "import medvqa"
   ]
  },
  {
   "cell_type": "code",
   "execution_count": 425,
   "id": "e3ad90e3",
   "metadata": {},
   "outputs": [
    {
     "data": {
      "text/plain": [
       "<module 'medvqa.utils.constants' from '/home/pamessina/medvqa/medvqa/utils/constants.py'>"
      ]
     },
     "execution_count": 425,
     "metadata": {},
     "output_type": "execute_result"
    }
   ],
   "source": [
    "reload(medvqa.utils.constants)"
   ]
  },
  {
   "cell_type": "code",
   "execution_count": 4,
   "id": "560a7643",
   "metadata": {},
   "outputs": [],
   "source": [
    "integrated_fact_metadata_filepath = \"/home/pamessina/medvqa-workspace/cache/mimiccxr/huggingface/integrated_fact_metadata(591920,209004293).jsonl\""
   ]
  },
  {
   "cell_type": "code",
   "execution_count": 5,
   "id": "6fa3ec5a",
   "metadata": {},
   "outputs": [
    {
     "name": "stdout",
     "output_type": "stream",
     "text": [
      "297\n"
     ]
    }
   ],
   "source": [
    "from medvqa.utils.constants import MULTIDATASET_UNIFIED_CLASSES\n",
    "phrases = MULTIDATASET_UNIFIED_CLASSES\n",
    "print(len(phrases))"
   ]
  },
  {
   "cell_type": "code",
   "execution_count": 6,
   "id": "f6b67632",
   "metadata": {},
   "outputs": [
    {
     "name": "stdout",
     "output_type": "stream",
     "text": [
      "checkpoint_names = ['checkpoint_196_cacc+chf1+chf1+cscc+encc+hscc+nlcc+sass+spss+ta0)+ta1)+ta2)+ta0)+ta1)+ta2)+ta3)+ta4)+ta5)+ta6)+ta7)=0.9189.pt']\n"
     ]
    }
   ],
   "source": [
    "# Create embedding extractor\n",
    "embedding_extractor = CachedTextEmbeddingExtractor(\n",
    "    model_name='microsoft/BiomedVLP-CXR-BERT-specialized',\n",
    "    model_checkpoint_folder_path='/mnt/data/pamessina/workspaces/medvqa-workspace/models/fact_embedding/20240629_084405_MIMIC-CXR(triplets+classif+entcont+nli+radgraph+autoencoder)_FactEncoder(microsoft-BiomedVLP-CXR-BERT-specialized)',\n",
    "    device='cuda',\n",
    ")"
   ]
  },
  {
   "cell_type": "code",
   "execution_count": 7,
   "id": "c8d99193",
   "metadata": {},
   "outputs": [
    {
     "name": "stdout",
     "output_type": "stream",
     "text": [
      "Loading integrated fact metadata from: /home/pamessina/medvqa-workspace/cache/mimiccxr/huggingface/integrated_fact_metadata(591920,209004293).jsonl\n"
     ]
    }
   ],
   "source": [
    "# Load integrated fact metadata\n",
    "print('Loading integrated fact metadata from:', integrated_fact_metadata_filepath)\n",
    "integrated_fact_metadata = load_jsonl(integrated_fact_metadata_filepath)"
   ]
  },
  {
   "cell_type": "code",
   "execution_count": 8,
   "id": "89fd5a45",
   "metadata": {},
   "outputs": [
    {
     "name": "stdout",
     "output_type": "stream",
     "text": [
      "Loaded 591920 facts.\n"
     ]
    }
   ],
   "source": [
    "# Extract facts\n",
    "all_facts = set()\n",
    "for x in integrated_fact_metadata:\n",
    "    fact = x['fact']\n",
    "    if fact: all_facts.add(fact)\n",
    "all_facts = list(all_facts)\n",
    "all_facts.sort()\n",
    "print(f'Loaded {len(all_facts)} facts.')"
   ]
  },
  {
   "cell_type": "code",
   "execution_count": 9,
   "id": "8b81ef68",
   "metadata": {},
   "outputs": [
    {
     "name": "stderr",
     "output_type": "stream",
     "text": [
      "\r",
      "  0%|                                                                                        | 0/591920 [00:00<?, ?it/s]"
     ]
    },
    {
     "name": "stdout",
     "output_type": "stream",
     "text": [
      "Loading cached text embeddings from /mnt/data/pamessina_folder_backup_15_10_24/pamessina/medvqa-workspace/cache/text_embeddings_cache(hash=469,680486110513564934).pkl\n",
      "len(self.cache[\"hashes\"]) = 876541\n",
      "self.cache[\"embeddings\"].shape = (876541, 128)\n"
     ]
    },
    {
     "name": "stderr",
     "output_type": "stream",
     "text": [
      "100%|███████████████████████████████████████████████████████████████████████| 591920/591920 [00:01<00:00, 314964.84it/s]\n"
     ]
    }
   ],
   "source": [
    "fact_embeddings = embedding_extractor.compute_text_embeddings(all_facts)"
   ]
  },
  {
   "cell_type": "code",
   "execution_count": 10,
   "id": "faced6b8",
   "metadata": {
    "scrolled": true
   },
   "outputs": [
    {
     "name": "stderr",
     "output_type": "stream",
     "text": [
      "100%|█████████████████████████████████████████████████████████████████████████████| 297/297 [00:00<00:00, 261264.32it/s]\n"
     ]
    }
   ],
   "source": [
    "phrase_embeddings = embedding_extractor.compute_text_embeddings(phrases)"
   ]
  },
  {
   "cell_type": "code",
   "execution_count": 11,
   "id": "9655869e",
   "metadata": {},
   "outputs": [
    {
     "data": {
      "text/plain": [
       "38"
      ]
     },
     "execution_count": 11,
     "metadata": {},
     "output_type": "execute_result"
    }
   ],
   "source": [
    "i = phrases.index('bullae')\n",
    "i"
   ]
  },
  {
   "cell_type": "code",
   "execution_count": 12,
   "id": "f2274b5a",
   "metadata": {},
   "outputs": [],
   "source": [
    "idxs = rank_vectors_by_dot_product(fact_embeddings, phrase_embeddings[i])"
   ]
  },
  {
   "cell_type": "code",
   "execution_count": 14,
   "id": "2a29fcce",
   "metadata": {
    "scrolled": true
   },
   "outputs": [
    {
     "name": "stdout",
     "output_type": "stream",
     "text": [
      "bullae 0.99999994\n",
      "bulla 0.9935278\n",
      "bulla formation 0.990708\n",
      "blebs 0.9893153\n",
      "bleb 0.988828\n",
      "bullous changes 0.98770356\n",
      "bullous change 0.9871189\n",
      "cysts 0.9870987\n",
      "cystic changes 0.97311807\n",
      "cystic abnormalities 0.96693194\n",
      "paraseptal bullae 0.9661053\n",
      "blebectomy 0.9629918\n",
      "cystic lucencies 0.96020746\n",
      "unusual bulla 0.95713097\n",
      "pneumatocele 0.9561011\n",
      "areas of bullous change 0.9550576\n",
      "sebaceous cyst 0.9536319\n",
      "underlying bleb 0.95282066\n",
      "multiple bullae 0.9515826\n",
      "bullous disease 0.95083356\n",
      "multiple bulla 0.9505608\n",
      "pneumatocele formation 0.94924504\n",
      "PROMINENT bullous change 0.94900554\n",
      "bipical blebs 0.94535685\n",
      "bullae in the lungs 0.9449865\n",
      "prominent bullous formation in the region 0.9439609\n",
      "pneumatoceles 0.9427241\n",
      "multiple blebs 0.9425837\n",
      "seed cysts 0.93939626\n",
      "known bleb in the region 0.93627673\n",
      "bullae filled with fluid 0.93498886\n",
      "bulla within the lungs 0.93294966\n",
      "bulla formation in the lungs 0.9322265\n",
      "evidence of bullous disease 0.93140024\n",
      "bullas in the lungs 0.93029946\n",
      "several large bullae 0.9298261\n",
      "bullous disease in the lungs 0.9261691\n",
      "large bulla 0.9242734\n",
      "cyst in the wall 0.92255247\n",
      "scattered cystic lucencies 0.92105186\n",
      "superficial cystic mass 0.9194695\n",
      "cicatricial cysts 0.9185723\n",
      "large bullae 0.9182742\n",
      "regions of bullous emphysema 0.91626\n",
      "Multilevel Tarlov cysts 0.9160201\n",
      "extensive bullous disease 0.9143393\n",
      "cystic spaces due to pneumatoceles 0.90936524\n",
      "large bleb in the lungs 0.90919495\n",
      "small cystic areas 0.90862197\n",
      "background bullous changes 0.90738547\n",
      "pulmonary blebs 0.9053358\n",
      "small bulla 0.90204656\n",
      "extensive background bullous change 0.9000649\n",
      "congenital bullous anomaly 0.8979478\n",
      "underlying bullous disease 0.89784026\n",
      "bullous emphysematous changes 0.8975559\n",
      "bulla bilaterally 0.89740837\n",
      "thin-walled cystic lucencies reflecting bullae 0.8969358\n",
      "known bullous changes 0.8968649\n",
      "suggestion of pneumatocele 0.89681196\n",
      "representation of a sebaceous cyst 0.8960101\n",
      "pneumatoceles in the lungs 0.89582473\n",
      "bullous emphysema 0.8916229\n",
      "subchondral cystic changes 0.89121014\n",
      "marked bullous emphysema 0.88991916\n",
      "large paraseptal bulla 0.8895923\n",
      "suggestive of bullous disease 0.8882979\n",
      "adjacent fluid-filled bulla 0.887596\n",
      "severe bullous disease 0.8857014\n",
      "appearance suggesting bullae 0.8854214\n",
      "fluid-filled pneumatocele 0.88489825\n",
      "diffuse thin walled cysts within the lung parenchyma 0.8844917\n",
      "septation of the known bullous 0.88401324\n",
      "extensive bullous emphysema in this region 0.8835707\n",
      "extensive bullous emphysema 0.8818971\n",
      "significant bullous emphysema 0.8818697\n",
      "thin-walled cyst that is either a bulla or pneumatocele 0.88178587\n",
      "appearance suggesting blebs 0.88164747\n",
      "bullous changes throughout the lung fields 0.87793005\n",
      "thin-walled cystic lucencies reflecting pneumatoceles 0.8767238\n",
      "subpleural cysts 0.87373066\n",
      "probable bullous changes 0.87251586\n",
      "scattered small cystic lucencies 0.87217146\n",
      "concern for bulla 0.8710222\n",
      "subchondral cysts 0.8703218\n",
      "likely from blebs 0.8645196\n",
      "diffuse cystic lung disease 0.8640576\n",
      "bullous emphysema in the lungs 0.86067677\n",
      "cystic change seen peripherally bilaterally 0.8575905\n",
      "emphysema bullous changes 0.85732615\n",
      "suggestion of a bleb as the etiology 0.85711104\n",
      "relative lucency reflecting bullous change 0.85632694\n",
      "congenital cystic lesions 0.85618174\n",
      "suggestive of possible bullous change 0.8559811\n",
      "fluid retained in the cystic spaces 0.855371\n",
      "lucencies consistent with blebs 0.8543009\n",
      "bulla with an air-fluid level adjacent to this area 0.8522266\n",
      "presence of bullous emphysema 0.8517031\n",
      "multiple bulla throughout both lungs 0.8508649\n",
      "calcified liver cyst 0.8503906\n"
     ]
    }
   ],
   "source": [
    "for k in range(100):\n",
    "    print(all_facts[idxs[k]], np.dot(fact_embeddings[idxs[k]], phrase_embeddings[i]))"
   ]
  },
  {
   "cell_type": "code",
   "execution_count": 340,
   "id": "86b6c757",
   "metadata": {
    "scrolled": false
   },
   "outputs": [
    {
     "name": "stdout",
     "output_type": "stream",
     "text": [
      "\u001b[1m\u001b[34mRunning _find_facts_similar_to_anchor_facts()...\u001b[0m\n",
      "len(anchor_facts): 297\n",
      "min_similarity_threshold: 0.65\n",
      "Loading /home/pamessina/medvqa-workspace/cache/mimiccxr/integrated_fact_metadata(606074,61621903).jsonl...\n",
      "Loaded 505377 facts (skipped 100693 facts)\n",
      "len(facts) before removing invalid facts: 505377\n",
      "100%|█████████████████████████████████| 505377/505377 [01:05<00:00, 7694.00it/s]\n",
      "len(facts) after removing invalid facts: 503311\n",
      "checkpoint_names = ['checkpoint_196_cacc+chf1+chf1+cscc+encc+hscc+nlcc+sass+spss+ta0)+ta1)+ta2)+ta0)+ta1)+ta2)+ta3)+ta4)+ta5)+ta6)+ta7)=0.9189.pt']\n",
      "  0%|                                                | 0/503311 [00:00<?, ?it/s]Loading cached text embeddings from /mnt/data/pamessina_folder_backup_15_10_24/pamessina/medvqa-workspace/cache/text_embeddings_cache(hash=469,680486110513564934).pkl\n",
      "len(self.cache[\"hashes\"]) = 702198\n",
      "self.cache[\"embeddings\"].shape = (702198, 128)\n",
      "100%|███████████████████████████████| 503311/503311 [00:01<00:00, 324126.43it/s]\n",
      "100%|█████████████████████████████████████| 297/297 [00:00<00:00, 208521.64it/s]\n",
      "fact_embeddings.shape: (503311, 128)\n",
      "anchor_fact_embeddings.shape: (297, 128)\n",
      "Finding similar facts...\n",
      "100%|████████████████████████████████████████| 297/297 [00:02<00:00, 100.83it/s]\n",
      "len(similar_facts): 198384\n",
      "Saving /mnt/data/pamessina_folder_backup_15_10_24/pamessina/medvqa-workspace/cache/mimiccxr_find_facts_similar_to_anchor_facts(af=297,sf=198384,sim_th=0.650)(hash=573,3696983295009554622).pkl...\n",
      "\u001b[1m\u001b[34mDone!\u001b[0m\n"
     ]
    }
   ],
   "source": [
    "!python ../../scripts/mimiccxr/find_pos_neg_facts_per_report_around_reference_classes.py \\\n",
    "--task \"find_facts_similar_to_anchor_facts\" \\\n",
    "--integrated_fact_metadata_jsonl_filepath \\\n",
    "\"/home/pamessina/medvqa-workspace/cache/mimiccxr/integrated_fact_metadata(606074,61621903).jsonl\" \\\n",
    "--fact_embedding_model_name \"microsoft/BiomedVLP-CXR-BERT-specialized\" \\\n",
    "--fact_embedding_model_checkpoint_folder_path \\\n",
    "\"/mnt/data/pamessina/workspaces/medvqa-workspace/models/fact_embedding/20240629_084405_MIMIC-CXR(triplets+classif+entcont+nli+radgraph+autoencoder)_FactEncoder(microsoft-BiomedVLP-CXR-BERT-specialized)\" \\\n",
    "--fact_embedding_batch_size 200 \\\n",
    "--fact_embedding_num_workers 4 \\\n",
    "--min_similarity_threshold 0.65"
   ]
  },
  {
   "cell_type": "code",
   "execution_count": 136,
   "id": "5c71b451",
   "metadata": {},
   "outputs": [
    {
     "name": "stdout",
     "output_type": "stream",
     "text": [
      "\u001b[1m\u001b[34mRunning _find_facts_similar_to_anchor_facts()...\u001b[0m\n",
      "len(anchor_facts): 297\n",
      "min_similarity_threshold: 0.5\n",
      "Loading /home/pamessina/medvqa-workspace/cache/mimiccxr/huggingface/integrated_fact_metadata(591920,209004293).jsonl...\n",
      "len(banned_facts): 112282\n",
      "Loaded 479638 unique facts (skipped 112282 facts)\n",
      "Loaded 250466 unique general facts\n",
      "checkpoint_names = ['checkpoint_196_cacc+chf1+chf1+cscc+encc+hscc+nlcc+sass+spss+ta0)+ta1)+ta2)+ta0)+ta1)+ta2)+ta3)+ta4)+ta5)+ta6)+ta7)=0.9189.pt']\n",
      "  0%|                                                | 0/479638 [00:00<?, ?it/s]Loading cached text embeddings from /mnt/data/pamessina_folder_backup_15_10_24/pamessina/medvqa-workspace/cache/text_embeddings_cache(hash=469,680486110513564934).pkl\n",
      "len(self.cache[\"hashes\"]) = 876541\n",
      "self.cache[\"embeddings\"].shape = (876541, 128)\n",
      "100%|███████████████████████████████| 479638/479638 [00:01<00:00, 293344.30it/s]\n",
      "100%|███████████████████████████████| 250466/250466 [00:00<00:00, 432146.02it/s]\n",
      "100%|█████████████████████████████████████| 297/297 [00:00<00:00, 157604.79it/s]\n",
      "unique_fact_embeddings.shape: (479638, 128)\n",
      "unique_general_fact_embeddings.shape: (250466, 128)\n",
      "anchor_fact_embeddings.shape: (297, 128)\n",
      "Finding similar facts...\n",
      "100%|█████████████████████████████████████████| 297/297 [00:10<00:00, 28.17it/s]\n",
      "100%|███████████████████████████████| 591920/591920 [00:01<00:00, 336063.79it/s]\n",
      "Saving /mnt/data/pamessina_folder_backup_15_10_24/pamessina/medvqa-workspace/cache/mimiccxr_find_facts_similar_to_anchor_facts(af=297,sf=416649,sgf=207909,sim_th=0.500)(hash=635,1389408443551332457).pkl...\n",
      "\u001b[1m\u001b[34mDone!\u001b[0m\n"
     ]
    }
   ],
   "source": [
    "!python ../../scripts/mimiccxr/find_pos_neg_facts_per_report_around_reference_classes.py \\\n",
    "--task \"find_facts_similar_to_anchor_facts\" \\\n",
    "--integrated_fact_metadata_jsonl_filepath \\\n",
    "\"/home/pamessina/medvqa-workspace/cache/mimiccxr/huggingface/integrated_fact_metadata(591920,209004293).jsonl\"\\\n",
    "--fact_embedding_model_name \"microsoft/BiomedVLP-CXR-BERT-specialized\" \\\n",
    "--fact_embedding_model_checkpoint_folder_path \\\n",
    "\"/mnt/data/pamessina/workspaces/medvqa-workspace/models/fact_embedding/20240629_084405_MIMIC-CXR(triplets+classif+entcont+nli+radgraph+autoencoder)_FactEncoder(microsoft-BiomedVLP-CXR-BERT-specialized)\" \\\n",
    "--fact_embedding_batch_size 200 \\\n",
    "--fact_embedding_num_workers 4 \\\n",
    "--min_similarity_threshold 0.5"
   ]
  },
  {
   "cell_type": "code",
   "execution_count": 2,
   "id": "8cfbf0ff",
   "metadata": {
    "scrolled": true
   },
   "outputs": [
    {
     "name": "stdout",
     "output_type": "stream",
     "text": [
      "\u001b[1m\u001b[34mRunning _find_facts_similar_to_anchor_facts()...\u001b[0m\n",
      "len(anchor_facts): 297\n",
      "min_similarity_threshold: 0.6\n",
      "Loading /home/pamessina/medvqa-workspace/cache/mimiccxr/huggingface/integrated_fact_metadata(591920,209004293).jsonl...\n",
      "Loaded 479638 unique facts (skipped 112282 facts)\n",
      "Loaded 252372 unique general facts\n",
      "checkpoint_names = ['checkpoint_196_cacc+chf1+chf1+cscc+encc+hscc+nlcc+sass+spss+ta0)+ta1)+ta2)+ta0)+ta1)+ta2)+ta3)+ta4)+ta5)+ta6)+ta7)=0.9189.pt']\n",
      "  0%|                                                | 0/479638 [00:00<?, ?it/s]Loading cached text embeddings from /mnt/data/pamessina_folder_backup_15_10_24/pamessina/medvqa-workspace/cache/text_embeddings_cache(hash=469,680486110513564934).pkl\n",
      "len(self.cache[\"hashes\"]) = 855787\n",
      "self.cache[\"embeddings\"].shape = (855787, 128)\n",
      "100%|███████████████████████████████| 479638/479638 [00:01<00:00, 298602.39it/s]\n",
      "100%|███████████████████████████████| 252372/252372 [00:00<00:00, 442395.44it/s]\n",
      "100%|█████████████████████████████████████| 297/297 [00:00<00:00, 260881.32it/s]\n",
      "unique_fact_embeddings.shape: (479638, 128)\n",
      "unique_general_fact_embeddings.shape: (252372, 128)\n",
      "anchor_fact_embeddings.shape: (297, 128)\n",
      "Finding similar facts...\n",
      "100%|█████████████████████████████████████████| 297/297 [00:16<00:00, 18.05it/s]\n",
      "Saving /mnt/data/pamessina_folder_backup_15_10_24/pamessina/medvqa-workspace/cache/mimiccxr_find_facts_similar_to_anchor_facts(af=297,sf=348502,sgf=163561,sim_th=0.600)(hash=635,3022033311261050615).pkl...\n",
      "\u001b[1m\u001b[34mDone!\u001b[0m\n"
     ]
    }
   ],
   "source": [
    "!python ../../scripts/mimiccxr/find_pos_neg_facts_per_report_around_reference_classes.py \\\n",
    "--task \"find_facts_similar_to_anchor_facts\" \\\n",
    "--integrated_fact_metadata_jsonl_filepath \\\n",
    "\"/home/pamessina/medvqa-workspace/cache/mimiccxr/huggingface/integrated_fact_metadata(591920,209004293).jsonl\"\\\n",
    "--fact_embedding_model_name \"microsoft/BiomedVLP-CXR-BERT-specialized\" \\\n",
    "--fact_embedding_model_checkpoint_folder_path \\\n",
    "\"/mnt/data/pamessina/workspaces/medvqa-workspace/models/fact_embedding/20240629_084405_MIMIC-CXR(triplets+classif+entcont+nli+radgraph+autoencoder)_FactEncoder(microsoft-BiomedVLP-CXR-BERT-specialized)\" \\\n",
    "--fact_embedding_batch_size 200 \\\n",
    "--fact_embedding_num_workers 4 \\\n",
    "--min_similarity_threshold 0.6"
   ]
  },
  {
   "cell_type": "code",
   "execution_count": 33,
   "id": "8b9edccc",
   "metadata": {},
   "outputs": [
    {
     "name": "stdout",
     "output_type": "stream",
     "text": [
      "\u001b[1m\u001b[34mRunning _find_facts_similar_to_anchor_facts()...\u001b[0m\n",
      "len(anchor_facts): 297\n",
      "min_similarity_threshold: 0.7\n",
      "Loading /home/pamessina/medvqa-workspace/cache/mimiccxr/huggingface/integrated_fact_metadata(591920,209004293).jsonl...\n",
      "Loaded 479638 unique facts (skipped 112282 facts)\n",
      "Loaded 252372 unique general facts\n",
      "checkpoint_names = ['checkpoint_196_cacc+chf1+chf1+cscc+encc+hscc+nlcc+sass+spss+ta0)+ta1)+ta2)+ta0)+ta1)+ta2)+ta3)+ta4)+ta5)+ta6)+ta7)=0.9189.pt']\n",
      "  0%|                                                | 0/479638 [00:00<?, ?it/s]Loading cached text embeddings from /mnt/data/pamessina_folder_backup_15_10_24/pamessina/medvqa-workspace/cache/text_embeddings_cache(hash=469,680486110513564934).pkl\n",
      "len(self.cache[\"hashes\"]) = 855787\n",
      "self.cache[\"embeddings\"].shape = (855787, 128)\n",
      "100%|███████████████████████████████| 479638/479638 [00:01<00:00, 297262.65it/s]\n",
      "100%|███████████████████████████████| 252372/252372 [00:00<00:00, 435967.21it/s]\n",
      "100%|█████████████████████████████████████| 297/297 [00:00<00:00, 264089.10it/s]\n",
      "unique_fact_embeddings.shape: (479638, 128)\n",
      "unique_general_fact_embeddings.shape: (252372, 128)\n",
      "anchor_fact_embeddings.shape: (297, 128)\n",
      "Finding similar facts...\n",
      "100%|█████████████████████████████████████████| 297/297 [00:06<00:00, 43.28it/s]\n",
      "Saving /mnt/data/pamessina_folder_backup_15_10_24/pamessina/medvqa-workspace/cache/mimiccxr_find_facts_similar_to_anchor_facts(af=297,sf=264712,sgf=112403,sim_th=0.700)(hash=635,4083500793166322646).pkl...\n",
      "\u001b[1m\u001b[34mDone!\u001b[0m\n"
     ]
    }
   ],
   "source": [
    "!python ../../scripts/mimiccxr/find_pos_neg_facts_per_report_around_reference_classes.py \\\n",
    "--task \"find_facts_similar_to_anchor_facts\" \\\n",
    "--integrated_fact_metadata_jsonl_filepath \\\n",
    "\"/home/pamessina/medvqa-workspace/cache/mimiccxr/huggingface/integrated_fact_metadata(591920,209004293).jsonl\" \\\n",
    "--fact_embedding_model_name \"microsoft/BiomedVLP-CXR-BERT-specialized\" \\\n",
    "--fact_embedding_model_checkpoint_folder_path \\\n",
    "\"/mnt/data/pamessina/workspaces/medvqa-workspace/models/fact_embedding/20240629_084405_MIMIC-CXR(triplets+classif+entcont+nli+radgraph+autoencoder)_FactEncoder(microsoft-BiomedVLP-CXR-BERT-specialized)\" \\\n",
    "--fact_embedding_batch_size 200 \\\n",
    "--fact_embedding_num_workers 4 \\\n",
    "--min_similarity_threshold 0.7"
   ]
  },
  {
   "cell_type": "code",
   "execution_count": 149,
   "id": "f7a9fc64",
   "metadata": {},
   "outputs": [
    {
     "name": "stdout",
     "output_type": "stream",
     "text": [
      "-rw-rw-r-- 1 pamessina socvis 42M Jan  7 16:41 '/mnt/data/pamessina_folder_backup_15_10_24/pamessina/medvqa-workspace/cache/mimiccxr_find_facts_similar_to_anchor_facts(af=297,sf=416649,sgf=207909,sim_th=0.500)(hash=635,1389408443551332457).pkl'\r\n"
     ]
    }
   ],
   "source": [
    "!ls -lh \"/mnt/data/pamessina_folder_backup_15_10_24/pamessina/medvqa-workspace/cache/mimiccxr_find_facts_similar_to_anchor_facts(af=297,sf=416649,sgf=207909,sim_th=0.500)(hash=635,1389408443551332457).pkl\""
   ]
  },
  {
   "cell_type": "code",
   "execution_count": 137,
   "id": "9d9aee1c",
   "metadata": {},
   "outputs": [],
   "source": [
    "tmp = load_pickle(\"/mnt/data/pamessina_folder_backup_15_10_24/pamessina/medvqa-workspace/cache/mimiccxr_find_facts_similar_to_anchor_facts(af=297,sf=416649,sgf=207909,sim_th=0.500)(hash=635,1389408443551332457).pkl\")"
   ]
  },
  {
   "cell_type": "code",
   "execution_count": 138,
   "id": "cdade7eb",
   "metadata": {},
   "outputs": [
    {
     "data": {
      "text/plain": [
       "dict_keys(['anchor_facts', 'preserved_general_facts', 'preserved_facts', 'most_similar_to_fact', 'most_similar_to_general_fact'])"
      ]
     },
     "execution_count": 138,
     "metadata": {},
     "output_type": "execute_result"
    }
   ],
   "source": [
    "tmp.keys()"
   ]
  },
  {
   "cell_type": "code",
   "execution_count": 142,
   "id": "d0132799",
   "metadata": {},
   "outputs": [
    {
     "data": {
      "text/plain": [
       "265832"
      ]
     },
     "execution_count": 142,
     "metadata": {},
     "output_type": "execute_result"
    }
   ],
   "source": [
    "tmp['preserved_facts'].index('pneumothorax')"
   ]
  },
  {
   "cell_type": "code",
   "execution_count": 143,
   "id": "81e16770",
   "metadata": {},
   "outputs": [
    {
     "data": {
      "text/plain": [
       "252"
      ]
     },
     "execution_count": 143,
     "metadata": {},
     "output_type": "execute_result"
    }
   ],
   "source": [
    "class_idx = tmp['anchor_facts'].index('reticulation')\n",
    "class_idx"
   ]
  },
  {
   "cell_type": "code",
   "execution_count": 144,
   "id": "f87dcfb0",
   "metadata": {},
   "outputs": [
    {
     "data": {
      "text/plain": [
       "(42, 33)"
      ]
     },
     "execution_count": 144,
     "metadata": {},
     "output_type": "execute_result"
    }
   ],
   "source": [
    "idxs1 = [i for i, x in enumerate(tmp['most_similar_to_general_fact']) if x is not None and x[1] == class_idx]\n",
    "idxs1.sort(key=lambda idx: tmp['most_similar_to_general_fact'][idx][0], reverse=True)\n",
    "idxs2 = [i for i, x in enumerate(tmp['most_similar_to_fact']) if x is not None and x[1] == class_idx]\n",
    "idxs2.sort(key=lambda idx: tmp['most_similar_to_fact'][idx][0], reverse=True)\n",
    "len(idxs1), len(idxs2)"
   ]
  },
  {
   "cell_type": "code",
   "execution_count": 145,
   "id": "373d0847",
   "metadata": {
    "scrolled": true
   },
   "outputs": [
    {
     "name": "stdout",
     "output_type": "stream",
     "text": [
      "0.9706587791442871\treticular prominence (reticulation)\n",
      "0.970277726650238\treticulation seen (reticulation)\n",
      "0.9595723748207092\tbackground reticulation (reticulation)\n",
      "0.958702564239502\treticulation pattern observed (reticulation)\n",
      "0.9443132877349854\tconspicuity of reticular architecture (reticulation)\n",
      "0.9388192892074585\tcoarse reticulation (reticulation)\n",
      "0.9381308555603027\tprominent reticular pattern (reticulation)\n",
      "0.9291142225265503\tcoarse reticulations (reticulation)\n",
      "0.9289706945419312\tinterstitial abnormality with B-lines (reticulation)\n",
      "0.9217033386230469\tinterstitial abnormality including B-lines (reticulation)\n",
      "0.9206329584121704\tcortical reticulation (reticulation)\n",
      "0.9119927883148193\treticulation most pronounced (reticulation)\n",
      "0.9075450301170349\tgeneralized reticulation (reticulation)\n",
      "0.9017454981803894\tdense streak (reticulation)\n",
      "0.8959839344024658\tcoarse markings (reticulation)\n",
      "0.8754942417144775\tnew reticular pattern (reticulation)\n",
      "0.8647550344467163\tcoarsened markings (reticulation)\n",
      "0.8581036329269409\tnew reticulation (reticulation)\n",
      "0.8438680171966553\tprominent tissue markings (reticulation)\n",
      "0.8411478400230408\tcoarse markings present (reticulation)\n",
      "0.8379271030426025\tcalcified parenchymal changes (reticulation)\n",
      "0.8165963888168335\tstringy appearance (reticulation)\n",
      "0.8043386340141296\tvertical linear markings (reticulation)\n",
      "0.7947496175765991\tdiffuse coarse linear abnormality (reticulation)\n",
      "0.7716032862663269\tparenchymal component (reticulation)\n",
      "0.7668924331665039\tdiffuse linear pattern (reticulation)\n",
      "0.766815185546875\tlinear density in soft tissues (reticulation)\n",
      "0.7664911150932312\tlinear radiopaque density in soft tissues (reticulation)\n",
      "0.7661618590354919\tlinear densities in soft tissues (reticulation)\n",
      "0.7648159265518188\tadjacent parenchymal abnormality (reticulation)\n",
      "0.747180163860321\tclustered vascular markings (reticulation)\n",
      "0.728037416934967\tmetallic linear density in soft tissues (reticulation)\n",
      "0.7180294990539551\tlinear markings likely due to external factors (reticulation)\n",
      "0.6970354914665222\tstaple lines (reticulation)\n",
      "0.6899299621582031\tlinear densities related to wedge resection (reticulation)\n",
      "0.6767457723617554\tband-like appearance on PA view (reticulation)\n",
      "0.6429980993270874\tsuture lines visualized (reticulation)\n",
      "0.641970157623291\tcurvilinear density may be related to overlying material (reticulation)\n",
      "0.6068093776702881\tstreaky opacity possibly due to vascular overlap (reticulation)\n",
      "0.573235273361206\tclips at the thoracic inlet (reticulation)\n",
      "0.5437530279159546\ttunneled line present (reticulation)\n",
      "0.5343649983406067\tintravenous contrast seen within the kidneys (reticulation)\n"
     ]
    }
   ],
   "source": [
    "for i in range(0, min(200, len(idxs1))):\n",
    "    i = idxs1[i]\n",
    "    anc = tmp['anchor_facts'][tmp['most_similar_to_general_fact'][i][1]]\n",
    "    fac = tmp['preserved_general_facts'][i]\n",
    "    sim = tmp['most_similar_to_general_fact'][i][0]\n",
    "    print(f'{sim}\\t{fac} ({anc})')"
   ]
  },
  {
   "cell_type": "code",
   "execution_count": 146,
   "id": "74ea6af9",
   "metadata": {
    "scrolled": true
   },
   "outputs": [
    {
     "name": "stdout",
     "output_type": "stream",
     "text": [
      "0.9797871708869934\treticulations (reticulation)\n",
      "0.9560151100158691\tsuperimposed reticulation (reticulation)\n",
      "0.9431335926055908\treticular prominence process (reticulation)\n",
      "0.9428203701972961\tconspicuity of the reticular architecture (reticulation)\n",
      "0.9388192892074585\tcoarse reticulation (reticulation)\n",
      "0.9289706945419312\tinterstitial abnormality with B-lines (reticulation)\n",
      "0.9217033386230469\tinterstitial abnormality including B-lines (reticulation)\n",
      "0.8746028542518616\tinterstitial abnormality best seen on the lateral view (reticulation)\n",
      "0.8647550344467163\tcoarsened markings (reticulation)\n",
      "0.8438680171966553\tprominent tissue markings (reticulation)\n",
      "0.838477373123169\tintraparenchymal abnormalities (reticulation)\n",
      "0.8379271030426025\tcalcified parenchymal changes (reticulation)\n",
      "0.8340967893600464\tintraparenchymal abnormality (reticulation)\n",
      "0.804874062538147\tB-lines compared with the prior radiograph (reticulation)\n",
      "0.7993770241737366\tdiffuse interstitial abnormality in the lateral view (reticulation)\n",
      "0.7954308986663818\tsuperimposed linear vascular markings (reticulation)\n",
      "0.7716032862663269\tparenchymal component (reticulation)\n",
      "0.7650715112686157\tlinear markings likely represented overlying hair or fabric (reticulation)\n",
      "0.7648159265518188\tadjacent parenchymal abnormality (reticulation)\n",
      "0.7444836497306824\tparenchymal abnormalities visualized on CT examination (reticulation)\n",
      "0.7198226451873779\tprominent ascending shadow (reticulation)\n",
      "0.7135598063468933\tinterstitial markings seen on scout image from CT (reticulation)\n",
      "0.7104693651199341\tdiffuse prominence of the vascular markings (reticulation)\n",
      "0.6675276756286621\tmultiple suture lines throughout the right lung (reticulation)\n",
      "0.6620846390724182\tcurvilinear density may be related to some overlying material (reticulation)\n",
      "0.6542038917541504\tnew upper-lobe predominant reticular pattern (reticulation)\n",
      "0.6537691354751587\tband-like appearance on the PA view (reticulation)\n",
      "0.6512026786804199\tchain suture probably in the lingula (reticulation)\n",
      "0.6429980993270874\tsuture lines visualized (reticulation)\n",
      "0.6139010787010193\tmicrocalcifications better characterized on the prior CT chest (reticulation)\n",
      "0.5970557928085327\tnew radiopaque linear foreign bodies compared to prior (reticulation)\n",
      "0.560148298740387\tsuture lines projecting over the right upper chest (reticulation)\n",
      "0.5343649983406067\tintravenous contrast seen within the kidneys (reticulation)\n"
     ]
    }
   ],
   "source": [
    "for i in range(0, min(200, len(idxs2))):\n",
    "    i = idxs2[i]\n",
    "    anc = tmp['anchor_facts'][tmp['most_similar_to_fact'][i][1]]\n",
    "    fac = tmp['preserved_facts'][i]\n",
    "    sim = tmp['most_similar_to_fact'][i][0]\n",
    "    print(f'{sim}\\t{fac} ({anc})')"
   ]
  },
  {
   "cell_type": "code",
   "execution_count": 443,
   "id": "90103b50",
   "metadata": {},
   "outputs": [
    {
     "name": "stdout",
     "output_type": "stream",
     "text": [
      "{'fact': 'right lower lobe consolidation', 'metadata': {'anatomical location': 'right lower lobe', 'detailed observation': 'consolidation', 'short observation': 'consolidation', 'category': 'anatomical finding', 'health status': 'abnormal', 'prev_study_comparison?': 'no', 'comparison status': ''}, 'extraction_method': 'gpt-3.5-turbo-0613'}\n"
     ]
    }
   ],
   "source": [
    "for x in integrated_fact_metadata:\n",
    "    if x['fact'] == \"right lower lobe consolidation\":\n",
    "        print(x)\n",
    "        break"
   ]
  },
  {
   "cell_type": "code",
   "execution_count": 150,
   "id": "8964f0f9",
   "metadata": {
    "scrolled": true
   },
   "outputs": [
    {
     "name": "stdout",
     "output_type": "stream",
     "text": [
      "\u001b[1m\u001b[34mRunning _find_positive_negative_facts_per_report_with_fact_embeddings_and_mlp_nli()...\u001b[0m\n",
      "Reading /home/pamessina/medvqa-workspace/cache/mimiccxr/integrated_report_facts(79040140).jsonl...\n",
      "n_reports: 227835\n",
      "len(all_facts): 586352\n",
      "Loading /home/pamessina/medvqa-workspace/cache/mimiccxr/huggingface/integrated_fact_metadata(591920,209004293).jsonl...\n",
      "len(all_facts): 769532\n",
      "Loading /mnt/data/pamessina_folder_backup_15_10_24/pamessina/medvqa-workspace/cache/mimiccxr_find_facts_similar_to_anchor_facts(af=297,sf=416649,sgf=207909,sim_th=0.500)(hash=635,1389408443551332457).pkl...\n",
      "len(preserved_facts): 416649\n",
      "len(preserved_general_facts): 207909\n",
      "len(all_facts): 769532\n",
      "checkpoint_names = ['checkpoint_196_cacc+chf1+chf1+cscc+encc+hscc+nlcc+sass+spss+ta0)+ta1)+ta2)+ta0)+ta1)+ta2)+ta3)+ta4)+ta5)+ta6)+ta7)=0.9189.pt']\n",
      "  0%|                                                | 0/769532 [00:00<?, ?it/s]Loading cached text embeddings from /mnt/data/pamessina_folder_backup_15_10_24/pamessina/medvqa-workspace/cache/text_embeddings_cache(hash=469,680486110513564934).pkl\n",
      "len(self.cache[\"hashes\"]) = 876541\n",
      "self.cache[\"embeddings\"].shape = (876541, 128)\n",
      "100%|███████████████████████████████| 769532/769532 [00:02<00:00, 345918.66it/s]\n",
      "100%|███████████████████████████████| 550410/550410 [00:01<00:00, 453923.95it/s]\n",
      "all_fact_embeddings.shape: (769532, 128)\n",
      "similar_fact_embeddings.shape: (550410, 128)\n",
      "Clustering embeddings...\n",
      "Loading cached kmeans labels from /mnt/data/pamessina_folder_backup_15_10_24/pamessina/medvqa-workspace/cache/kmeans_labels(34393235,2940802466805005424).pkl\n",
      "len(cluster2simfidxs): 300\n",
      "len(nonempty_clusters): 300\n",
      "Assigning candidate negative facts to reports...\n",
      "100%|██████████████████████████████████| 227835/227835 [07:37<00:00, 497.55it/s]\n",
      "Computing softmaxes over candidate negative facts...\n",
      "100%|██████████████████████████████████| 227835/227835 [07:37<00:00, 497.55it/s]\n",
      "Computing softmaxes over candidate negative facts...\n",
      "metadata loaded from /mnt/data/pamessina/workspaces/medvqa-workspace/models/fact_embedding/20240731_002153_NLI(Embedding-based)_EmbeddingBasedNLI(128,512-256-128)/metadata.json\n",
      "metadata loaded from /mnt/data/pamessina/workspaces/medvqa-workspace/models/fact_embedding/20240731_002153_NLI(Embedding-based)_EmbeddingBasedNLI(128,512-256-128)/metadata.json\n",
      "Creating model\n",
      "EmbeddingBasedNLI\n",
      "  embedding_dim: 128\n",
      "  mlp_hidden_dims: [512, 256, 128]\n",
      "  dropout: 0.0\n",
      "\u001b[93m\u001b[1mWARNING: unused_kwargs: {'pretrained_checkpoint_folder_path': '/mnt/data/pamessina/workspaces/medvqa-workspace/models/fact_embedding/20240407_173847_NLI(Embedding-based)_EmbeddingBasedNLI(128,512-256-128)'}\u001b[0m\n",
      "Creating model\n",
      "EmbeddingBasedNLI\n",
      "  embedding_dim: 128\n",
      "  mlp_hidden_dims: [512, 256, 128]\n",
      "  dropout: 0.0\n",
      "\u001b[93m\u001b[1mWARNING: unused_kwargs: {'pretrained_checkpoint_folder_path': '/mnt/data/pamessina/workspaces/medvqa-workspace/models/fact_embedding/20240407_173847_NLI(Embedding-based)_EmbeddingBasedNLI(128,512-256-128)'}\u001b[0m\n",
      "Loading model weights from /mnt/data/pamessina/workspaces/medvqa-workspace/models/fact_embedding/20240731_002153_NLI(Embedding-based)_EmbeddingBasedNLI(128,512-256-128)\n",
      "checkpoint_names = ['checkpoint_55_nli_acc=0.7684.pt']\n",
      "Loading model weights from /mnt/data/pamessina/workspaces/medvqa-workspace/models/fact_embedding/20240731_002153_NLI(Embedding-based)_EmbeddingBasedNLI(128,512-256-128)/checkpoint_55_nli_acc=0.7684.pt\n",
      "Estimated output memory size: 2172.80 MB\n",
      "Computing softmaxes...\n",
      "  0%|                                                | 0/113918 [00:00<?, ?it/s]Loading model weights from /mnt/data/pamessina/workspaces/medvqa-workspace/models/fact_embedding/20240731_002153_NLI(Embedding-based)_EmbeddingBasedNLI(128,512-256-128)\n",
      "checkpoint_names = ['checkpoint_55_nli_acc=0.7684.pt']\n",
      "Loading model weights from /mnt/data/pamessina/workspaces/medvqa-workspace/models/fact_embedding/20240731_002153_NLI(Embedding-based)_EmbeddingBasedNLI(128,512-256-128)/checkpoint_55_nli_acc=0.7684.pt\n",
      "Estimated output memory size: 2172.80 MB\n",
      "Computing softmaxes...\n",
      "100%|███████████████████████████████████| 113918/113918 [32:21<00:00, 58.67it/s]\n",
      "100%|███████████████████████████████████| 113918/113918 [32:21<00:00, 58.67it/s]\n",
      "Filtering out negative facts with high entailment softmaxes...\n",
      "Filtering out negative facts with high entailment softmaxes...\n",
      "Number of valid negative facts: 101715051/113917500\n",
      "Percentage of valid negative facts: 89.29%\n",
      "Number of valid negative facts: 101715051/113917500\n",
      "Percentage of valid negative facts: 89.29%\n",
      "Average number of negative facts per report: 446.44\n",
      "Average number of negative facts per report: 446.44\n",
      "Saving /mnt/data/pamessina_folder_backup_15_10_24/pamessina/medvqa-workspace/cache/mimiccxr_dicom_id_to_pos_neg_facts(num_sim_facts=550410,num_clusters=300,max_neg=500,ent_th=0.172)(hash=997,752767386763313321).pkl...\n",
      "Saving /mnt/data/pamessina_folder_backup_15_10_24/pamessina/medvqa-workspace/cache/mimiccxr_dicom_id_to_pos_neg_facts(num_sim_facts=550410,num_clusters=300,max_neg=500,ent_th=0.172)(hash=997,752767386763313321).pkl...\n",
      "\u001b[1m\u001b[34mDone!\u001b[0m\n",
      "\u001b[1m\u001b[34mDone!\u001b[0m\n"
     ]
    }
   ],
   "source": [
    "!python ../../scripts/mimiccxr/find_pos_neg_facts_per_report_around_reference_classes.py \\\n",
    "--task \"find_positive_negative_facts_per_report_with_fact_embeddings_and_mlp_nli\" \\\n",
    "--integrated_report_facts_jsonl_filepath \\\n",
    "\"/home/pamessina/medvqa-workspace/cache/mimiccxr/integrated_report_facts(79040140).jsonl\" \\\n",
    "--integrated_fact_metadata_jsonl_filepath \\\n",
    "\"/home/pamessina/medvqa-workspace/cache/mimiccxr/huggingface/integrated_fact_metadata(591920,209004293).jsonl\" \\\n",
    "--facts_similar_to_anchor_facts_pickle_filepath \\\n",
    "\"/mnt/data/pamessina_folder_backup_15_10_24/pamessina/medvqa-workspace/cache/mimiccxr_find_facts_similar_to_anchor_facts(af=297,sf=416649,sgf=207909,sim_th=0.500)(hash=635,1389408443551332457).pkl\" \\\n",
    "--fact_embedding_model_name \"microsoft/BiomedVLP-CXR-BERT-specialized\" \\\n",
    "--fact_embedding_model_checkpoint_folder_path \\\n",
    "\"/mnt/data/pamessina/workspaces/medvqa-workspace/models/fact_embedding/20240629_084405_MIMIC-CXR(triplets+classif+entcont+nli+radgraph+autoencoder)_FactEncoder(microsoft-BiomedVLP-CXR-BERT-specialized)\" \\\n",
    "--fact_embedding_batch_size 200 \\\n",
    "--fact_embedding_num_workers 4 \\\n",
    "--mlp_batch_size 1000 \\\n",
    "--mlp_num_workers 4 \\\n",
    "--mlp_nli_checkpoint_folder_path \\\n",
    "\"/mnt/data/pamessina/workspaces/medvqa-workspace/models/fact_embedding/20240731_002153_NLI(Embedding-based)_EmbeddingBasedNLI(128,512-256-128)\" \\\n",
    "--mlp_nli_entailment_threshold 0.1723824292421341 \\\n",
    "--num_clusters 300 \\\n",
    "--max_negative_facts_per_report 500"
   ]
  },
  {
   "cell_type": "code",
   "execution_count": 15,
   "id": "ea311136",
   "metadata": {},
   "outputs": [
    {
     "name": "stdout",
     "output_type": "stream",
     "text": [
      "-rw-rw-r-- 1 pamessina socvis 908M Jan  7 17:31 '/mnt/data/pamessina_folder_backup_15_10_24/pamessina/medvqa-workspace/cache/mimiccxr_dicom_id_to_pos_neg_facts(num_sim_facts=550410,num_clusters=300,max_neg=500,ent_th=0.172)(hash=997,752767386763313321).pkl'\r\n"
     ]
    }
   ],
   "source": [
    "!ls -lh \"/mnt/data/pamessina_folder_backup_15_10_24/pamessina/medvqa-workspace/cache/mimiccxr_dicom_id_to_pos_neg_facts(num_sim_facts=550410,num_clusters=300,max_neg=500,ent_th=0.172)(hash=997,752767386763313321).pkl\""
   ]
  },
  {
   "cell_type": "code",
   "execution_count": 16,
   "id": "f0a037a7",
   "metadata": {},
   "outputs": [],
   "source": [
    "aux = load_pickle('/mnt/data/pamessina_folder_backup_15_10_24/pamessina/medvqa-workspace/cache/mimiccxr_dicom_id_to_pos_neg_facts(num_sim_facts=550410,num_clusters=300,max_neg=500,ent_th=0.172)(hash=997,752767386763313321).pkl')"
   ]
  },
  {
   "cell_type": "code",
   "execution_count": 17,
   "id": "2ab567e7",
   "metadata": {},
   "outputs": [
    {
     "data": {
      "text/plain": [
       "dict_keys(['facts', 'embeddings', 'dicom_id_to_pos_neg_facts'])"
      ]
     },
     "execution_count": 17,
     "metadata": {},
     "output_type": "execute_result"
    }
   ],
   "source": [
    "aux.keys()"
   ]
  },
  {
   "cell_type": "code",
   "execution_count": 18,
   "id": "022cb9d9",
   "metadata": {},
   "outputs": [
    {
     "data": {
      "text/plain": [
       "769532"
      ]
     },
     "execution_count": 18,
     "metadata": {},
     "output_type": "execute_result"
    }
   ],
   "source": [
    "len(aux['facts'])"
   ]
  },
  {
   "cell_type": "code",
   "execution_count": 19,
   "id": "6c829bb6",
   "metadata": {},
   "outputs": [
    {
     "data": {
      "text/plain": [
       "(769532, 128)"
      ]
     },
     "execution_count": 19,
     "metadata": {},
     "output_type": "execute_result"
    }
   ],
   "source": [
    "aux['embeddings'].shape"
   ]
  },
  {
   "cell_type": "code",
   "execution_count": 20,
   "id": "57b1b1e1",
   "metadata": {},
   "outputs": [],
   "source": [
    "dicom_id_to_pos_neg_facts = aux['dicom_id_to_pos_neg_facts']"
   ]
  },
  {
   "cell_type": "code",
   "execution_count": 21,
   "id": "98aa3021",
   "metadata": {},
   "outputs": [],
   "source": [
    "dicom_ids = list(dicom_id_to_pos_neg_facts.keys())"
   ]
  },
  {
   "cell_type": "code",
   "execution_count": 22,
   "id": "8b1e67a7",
   "metadata": {},
   "outputs": [],
   "source": [
    "integrated_report_facts = load_jsonl('/home/pamessina/medvqa-workspace/cache/mimiccxr/integrated_report_facts(79040140).jsonl')"
   ]
  },
  {
   "cell_type": "code",
   "execution_count": 23,
   "id": "056004f6",
   "metadata": {},
   "outputs": [],
   "source": [
    "from medvqa.datasets.mimiccxr import get_detailed_metadata_for_dicom_id\n",
    "from medvqa.utils.files import read_txt"
   ]
  },
  {
   "cell_type": "code",
   "execution_count": 62,
   "id": "5ea0fa18",
   "metadata": {
    "scrolled": true
   },
   "outputs": [
    {
     "name": "stdout",
     "output_type": "stream",
     "text": [
      "{'report_index': 227833, 'part_id': 19, 'subject_id': 19095472, 'study_id': 55025385, 'dicom_id': 'f31268a9-0df36c66-69874c18-f1929147-ea49bde2', 'view_pos': 'PA', 'split': 'train', 'filepath': '/mnt/data/mimic-cxr/files/p19/p19095472/s55025385.txt', 'dicom_id_view_pos_pairs': [('baca4b7b-efde034e-c5a89f7d-dad69eb1-05062cd9', 'LL'), ('f31268a9-0df36c66-69874c18-f1929147-ea49bde2', 'PA')]}\n",
      "\n",
      "\n",
      "                                 FINAL REPORT\n",
      " EXAMINATION:  CHEST (PA AND LAT)\n",
      " \n",
      " INDICATION:  ___ year old woman with mitral valve endocarditis with persistent\n",
      " fevers  // evidence of infiltrate\n",
      " \n",
      " TECHNIQUE:  Chest PA and lateral\n",
      " \n",
      " COMPARISON:  ___\n",
      " \n",
      " FINDINGS: \n",
      " \n",
      " Cardiomediastinal contours are normal.  Opacities in the left base have\n",
      " resolved. There is no pneumothorax or pleural effusion.  The osseous\n",
      " structures are unremarkable.  Right PICC tip remains in standard position.\n",
      " \n",
      " IMPRESSION: \n",
      " \n",
      " No acute cardiopulmonary abnormalities\n",
      "\n",
      "\n",
      "\n",
      "All facts:\n",
      "['normal cardiomediastinal contours', 'resolved opacities in the left base', 'no pneumothorax', 'no pleural effusion', 'unremarkable osseous structures', 'right PICC tip remains in standard position', 'no acute cardiopulmonary abnormalities']\n",
      "\n",
      "\n",
      "positive facts:\n",
      "['PICC tip in standard position', 'right PICC tip remains in standard position']\n",
      "\n",
      "\n",
      "excluded positive facts:\n",
      "['normal cardiomediastinal contours', 'resolved opacities in the left base', 'no pneumothorax', 'no pleural effusion', 'unremarkable osseous structures', 'no acute cardiopulmonary abnormalities']\n",
      "\n",
      "\n",
      "negative facts:\n",
      "new patchy opacity in left retrocardiac region\n",
      "irregularity along the left humeral head\n",
      "Dobbhoff tube coiled in esophagus\n",
      "concern for disseminated septic emboli\n",
      "nonsensitive chest radiography for bony abnormalities\n",
      "rounded opacity not visualized\n",
      "bibasilar opacities more prominent\n",
      "obscuration of the lateral left hemidiaphragm\n",
      "increased medial right base opacities\n",
      "progressive consolidation in the right middle lobe\n",
      "replaced right humerus partially imaged\n",
      "moderate size hemothorax\n",
      "unchanged appearance of left internal jugular vein access lines\n",
      "chronic volume loss postoperative left chest\n",
      "rounded lesions in both lungs\n",
      "distal end of the orogastric tube is looped with the tip in the fundus\n",
      "central lymphadenopathy better seen on prior CT examination\n",
      "left pectoral cardiac pacing device in the region of the right atrium\n",
      "placement of right basilar pigtail catheter\n",
      "nodule seen superior to the major fissures\n",
      "tubing over the left upper quadrant\n",
      "air-filled loops of bowel in the upper abdomen\n",
      "changes at the level of the left lung base\n",
      "enlargement possibly slightly increased compared to the prior study\n",
      "rapid improvement likely represented atelectasis\n",
      "heart slightly increased from prior\n",
      "increased visibility of airways\n",
      "unchanged appearance of large lung mass in left upper half of thorax\n",
      "possible volume overload in pulmonary vessels\n",
      "focal right upper lung consolidation\n",
      "small basal lateral pneumothorax at the site of tube insertion\n",
      "flowing anterior osteophytes in the spine\n",
      "parenchymal opacity in the left upper lung compared to prior\n",
      "possible chronic lung disease at the left lung base\n",
      "partially calcified nodal mass in the chest\n",
      "few scattered B-lines\n",
      "Right PIC line ends approximately 4.5 cm beyond the anticipated location of the superior cavoatrial junction\n",
      "left basilar air-fluid levels\n",
      "no appreciable change in small left pneumothorax\n",
      "observation seen on lateral view overlying the lobes\n",
      "worsening of opacity at left lung base\n",
      "improvement of central vascular engorgement\n",
      "subcutaneous air on the left lateral chest tube\n",
      "metastatic choriocarcinoma\n",
      "small nodular opacities projecting over the anterior left fifth rib\n",
      "mediastinal fullness in the right paratracheal region\n",
      "tip of the chest tube has moved inferiorly into the costophrenic sulcus\n",
      "prominence of the minor fissure on the lateral view\n",
      "improved aeration of the right middle lobe pneumonia\n",
      "mild degenerative narrowing\n",
      "opacity at the right lung base laterally could be focal infection\n",
      "additional left ventricular pacing lead present\n",
      "minimally decreased subsequent areas of atelectasis\n",
      "Aspiration pneumonia\n",
      "coiled Dobbhoff catheter in the upper esophagus\n",
      "persistent reticulation at the lung bases\n",
      "other masses in the mediastinum\n",
      "no interval change in cardiomegaly\n",
      "nasogastric tube pointing upwards\n",
      "possible superimposed hilus\n",
      "suggestion of a well-defined inferior margin on the lateral view\n",
      "substantial interval development of bilateral opacities in the perihilar location\n",
      "atelectasis in the right superior\n",
      "surgical material from prior wedge resection\n",
      "removal of a pigtail catheter\n",
      "fullness in the aortopulmonic window is unchanged\n",
      "left subclavian central venous catheter tip terminates in the upper SVC\n",
      "worsened bibasilar areas of apparent atelectasis\n",
      "callus formation at the anterior right second rib\n",
      "dilated or tortuous descending aorta\n",
      "right internal jugular catheter terminating more proximally in the right atrium\n",
      "predominantly left perihilar region\n",
      "bronchial cuffing in the interstitial region\n",
      "increased bilateral pleural effusion\n",
      "stranding opacities\n",
      "necklace overlying the very upper chest in the midline\n",
      "left hilus larger than the right\n",
      "suggests abscessing septic embolus\n",
      "interstitial reticular opacities consistent with patient's emphysema\n",
      "progressive multifocal opacities\n",
      "pneumonia in the right infrahilar area\n",
      "unchanged right subpulmonic pneumothorax\n",
      "unchanged loss of height of the T11 vertebral body from prior CT\n",
      "left-sided jugular line in distal brachiocephalic vein\n",
      "compression deformity in a upper lumbar vertebral body\n",
      "opacities on lateral view\n",
      "lucency extending inferiorly deep into the sulcus\n",
      "NG tube coiled above GE jxn\n",
      "mild progression of interstitial fibrotic disease\n",
      "tip of the diaphragm projecting over the left upper quadrant\n",
      "platelike atelectasis at the level of the right hilus\n",
      "pulmonary vessels more sharply seen\n",
      "unchanged flattening of the right hemidiaphragm\n",
      "left pleural drain pulled in slightly higher position\n",
      "partial resection of the fifth rib is stable\n",
      "partially imaged gas distention\n",
      "pleural effusion that may be loculated\n",
      "partial silhouetting of the left hemidiaphragm\n",
      "Redundancy of the diaphragmatic pleural surface\n",
      "smaller chest cavity\n",
      "less well seen right upper lobe lung nodule\n",
      "9-mm rounded opacity projecting over the right lung base\n",
      "tip of the porta cath\n",
      "a Port-A-Cath present\n",
      "tip of the central line lies at the SVC/atrial junction\n",
      "development of atelectasis and mucoid impaction\n",
      "no significant interval change in multiple masses in the right lung\n",
      "bilateral old multiple rib fractures\n",
      "pediatric sternal wires unchanged\n",
      "effusion seen on lateral radiograph\n",
      "severe calcification\n",
      "small right apical pneumothorax measuring 10 mm\n",
      "worsening of pulmonary edema at both lung bases\n",
      "acute change compared to previous image\n",
      "left-sided pneumothorax not clearly identified\n",
      "small bore right pleural catheter unchanged in position at the mid chest level\n",
      "worse findings at the left base\n",
      "possibility of free air difficult to assess on this non-upright image\n",
      "possibility of superimposed pneumonia on the right\n",
      "stable mild rightward mediastinal shift\n",
      "tiny densities in the right lower zone\n",
      "opacity consistent with aspiration event\n",
      "pacer leads in RA\n",
      "minimal right pleural effusion better seen on the lateral radiograph\n",
      "stable right basal pneumothorax\n",
      "decreasing subcutaneous gas in the left supraclavicular region\n",
      "lower lung volumes following tracheal extubation\n",
      "right jugular sheath ends in the region of the superior cavoatrial junction\n",
      "mild persistent interstitial edema\n",
      "difficult to assess subtle interval changes due to extensive background fibrosis\n",
      "minimally improved left sided pleural effusion\n",
      "recurrent volume loss in the right lower lobe\n",
      "possible underlying pulm nodule\n",
      "1-cm right apical lateral pneumothorax\n",
      "miliary pattern observed\n",
      "abnormal prominence of the pulmonary hilum\n",
      "possible persistence of the gastric diaphragmatic hernia\n",
      "unchanged position of the left-sided cardiac pacemaker-defibrillator device\n",
      "skin fold projecting over the left lower chest laterally\n",
      "pleural effusions larger than prior study\n",
      "subtle findings visible on chest CT\n",
      "deformity of the posterior rib\n",
      "leads in the coronary sinus distribution\n",
      "right PICC line tip most likely just proximal to the junction with SVC\n",
      "heart failure slightly worse compared to prior exam\n",
      "left sided chest tube remains\n",
      "preexisting scarring\n",
      "opacities consistent with known treated lung cancer in the left mid lung\n",
      "new ill-defined parenchymal opacity\n",
      "pneumonia around the bullae in the right lung\n",
      "weighted enteric catheter with tip in the region of the gastroesophageal junction\n",
      "left lower lobe rendered airless\n",
      "nodules better appreciated on the prior examination\n",
      "moderate-to-severe rightward convex curvature of the thoracic spine\n",
      "stable mild bibasilar opacities\n",
      "pulmonary vein seen\n",
      "widened upper mediastinum due to the lordotic view\n",
      "fractures through sternotomy wires are stable\n",
      "caliber of the trachea is significantly reduced\n",
      "apparent increase in left effusion\n",
      "tip of nasogastric tube well below the gastroesophageal junction\n",
      "pre described left upper lobe 1 cm pulmonary nodule might be obscured by the ECG cable\n",
      "aortic valvular calcification\n",
      "possible slightly more pronounced abnormality\n",
      "evidence of prior surgery in the thyroid bed\n",
      "NG tube seen near gastric antrum\n",
      "Swan-Ganz catheter terminates at the level of the right main pulmonary artery\n",
      "external drain tip in the approximate location of the right kidney\n",
      "extent of the small left pleural effusion is limited to the region of the costophrenic sinus\n",
      "mild increase in severity of the pre-existing left midlung parenchymal opacity\n",
      "opacification reflecting atelectasis\n",
      "may reflect post hemorrhagic changes\n",
      "subtle opacity just lateral to the left pulmonary artery\n",
      "chin overlies the upper chest in the midline\n",
      "incompletely imaged shoulder prostheses\n",
      "unchanged pleural lesion in the periphery of the right mid lung\n",
      "slightly worsened diffuse alveolar pulmonary edema\n",
      "nasogastric drainage tube ends in the upper portion of a chronically distended stomach\n",
      "no substantial change in the left moderate pleural effusion\n",
      "hyperlucency of the right upper lung\n",
      "scattered atherosclerotic calcifications in the aorta\n",
      "lingular opacity in the frontal radiograph\n",
      "mild rightward convex scoliosis\n",
      "superimposition of vessels\n",
      "widespread combined interstitial opacities affecting the left lung\n",
      "ET tube position obscured by feeding tube\n",
      "residual around the left hilus\n",
      "surgical sutures overlying the perihilar region\n",
      "disseminated tumor in the right lung\n",
      "pleural thickening in the bilateral costophrenic angles\n",
      "sternal wires in good position\n",
      "intra-aortic balloon pump positioned 2.2 cm below the aortic knob\n",
      "known metastatic nodule seen better on prior imaging\n",
      "Enteric tube positioning recommendation\n",
      "increased density in the left upper quadrant\n",
      "multiple rib fractures of the left posterior third rib\n",
      "mild probably chronic loss in two adjacent vertebral body heights along the lower thoracic spine\n",
      "left apical pneumothorax similar to previous examination\n",
      "loculated hyperlucency in the right lateral lower thorax\n",
      "likely bibasalar atelectasis\n",
      "multiple air-fluid levels in appearance suggestive of ileus\n",
      "increasing size of the cardiac silhouette\n",
      "interval repositioning of the endotracheal tube in the midtrachea\n",
      "AVR in appropriate position\n",
      "stable calcified lymph nodes within the AP window\n",
      "known displaced rib fractures are unchanged\n",
      "persistent opacity in the region of the lingular mass\n",
      "endotracheal tube excessively withdrawn\n",
      "new 1.3 cm nodule in the left lower lung\n",
      "improved infiltrative pulmonary process\n",
      "distal tip of feeding tube below the GE junction\n",
      "Right-sided IJV catheter in situ\n",
      "lead terminating overlying the right ventricle\n",
      "markedly worsened bibasilar atelectases\n",
      "left PICC courses across midline into the right brachiocephalic vein\n",
      "tip of central line in the distal SVC\n",
      "possible scarring in the parenchyma\n",
      "mixed lucency overlying lung parenchyma\n",
      "Dobbhoff tube unchanged\n",
      "lower lobe entirely collapsed\n",
      "cardiomegaly without definite signs of edema\n",
      "NG tube tip position unchanged\n",
      "stable compression deformities in the lower thoracic spine\n",
      "unchanged opacity in the right suprahilar region\n",
      "opacity along the right mid to lower lateral chest\n",
      "left upper lobe aspiration\n",
      "connective tubing in the upper abdomen\n",
      "increased opacity at left apex\n",
      "questionable sub cm left upper lobe nodular opacity\n",
      "known pulmonary fibrosis at the lung bases\n",
      "linear scarring in the right middle lobe\n",
      "overall slightly improved consolidations in the right upper lobe\n",
      "unchanged aortic endograft\n",
      "assessment recommended to exclude infectious process\n",
      "overlapping structures of the 5th rib\n",
      "minimally decreased air in the pneumonectomy space\n",
      "lung rotation\n",
      "small plate-like atelectasis at the left lung base\n",
      "stable linear bands of scarring in the bilateral lung bases\n",
      "lower thoracic spine compression deformities\n",
      "suggestion of lobulation on the right side\n",
      "scarring from prior surgery at the left base\n",
      "unchanged clips of the CABG\n",
      "improved opacity in the right lower lobe\n",
      "abandoned leads stable in position\n",
      "left pectoral transvenous cardiac pacemaker positioned with tips in the left ventricle\n",
      "continued relatively low lung volumes\n",
      "slightly increased moderate to large right-sided pleural effusion\n",
      "interval improvement of subsegmental airspace opacification in the lingula\n",
      "incompletely imaged lower thoracic spine posterior fusion construct with pedicle screws\n",
      "minimal increased bronchovascular markings in the bilateral bases\n",
      "opacities that could be caused by infection\n",
      "ET tube positioned 5.9 cm from carina\n",
      "endotracheal tube directed towards right mainstem bronchus\n",
      "appearance of likely pneumonia in the left mid lung\n",
      "lung volumes assessed on frontal view\n",
      "more pronounced venous engorgement\n",
      "large aspiration pneumonia\n",
      "marked improvement of diffuse sarcoid changes on lateral chest examination\n",
      "enteric catheter ends within the bronchus\n",
      "head of the tooth brush projected over the stomach\n",
      "possible acute exacerbation seen at multiple time points\n",
      "right subclavian central line with its tip unchanged at the cavoatrial junction\n",
      "skin fold projecting over the thorax\n",
      "tracheostomy tube terminates 4.4 cm above the carina\n",
      "possible focal infiltrate\n",
      "mild enlargement of the left lower lobes pulmonary artery\n",
      "unchanged evidence of a minimal right apical pneumothorax\n",
      "small biapical nodules\n",
      "postoperative widening of the superior mediastinum is unchanged during the latest four hours\n",
      "punctate density over the rib\n",
      "evaluation for resolution of process\n",
      "hazy opacification at the base of the right lung\n",
      "cholecystectomy closure in the right upper quadrant\n",
      "concern for an air leak\n",
      "air beneath the right hemidiaphragm\n",
      "edema in the lung that has substantially cleared\n",
      "opacity not entirely due to hilar vasculature\n",
      "resolving hydropneumothorax\n",
      "streaky opacification of the right costophrenic sulcus\n",
      "bilateral basal infiltrates\n",
      "small residual area of aerated lung at the left lung apex\n",
      "spiculated nodular density at the costophrenic angle\n",
      "dilatation up to 6 cm\n",
      "rapid development of adenopathy\n",
      "potential overinflation of the lungs\n",
      "no relevant change in extent of the pleural effusions\n",
      "midline lucency\n",
      "multifocal pneumonia (radiographically indeterminate)\n",
      "possible underlying fat pad\n",
      "old left rib cage deformities appear unchanged\n",
      "bone changes consistent with sickle cell disease\n",
      "small questioned pneumomediastinum\n",
      "tube or wire coiling\n",
      "opacification about the left hilar region\n",
      "partially layering pleural effusion in the right lower hemi thorax\n",
      "left-sided Port-A-Cath type catheter present\n",
      "dense alveolar infiltrate in the right lower lobe\n",
      "curvilinear density above the meniscus of the pleural effusion\n",
      "minimal increase in aeration in the bilateral lungs\n",
      "extensive subcutaneous gas in the bilateral chest walls\n",
      "Left IJ catheter tip seen\n",
      "dual-channel right jugular catheter ending in the upper SVC\n",
      "pleural effusions potentially accentuated by positional differences\n",
      "left-sided port unchanged since prior study\n",
      "small amount of postoperative pneumoperitoneum\n",
      "pulmonary edema not significantly changed since the prior radiograph\n",
      "probable postoperative edema of the left lung\n",
      "tip of the Swan-catheter projects over the proximal right pulmonary artery\n",
      "old right sided rib fractures\n",
      "prosthetic mitral valve projects over the heart\n",
      "cavitation on PET-CT\n",
      "right breast prosthesis not appearing to have worsened\n",
      "possibly a parenchymal nodule\n",
      "complete atelectasis\n",
      "distribution consistent with eosinophilic pneumonia\n",
      "consistent with previously diagnosed pulmonary hypertension\n",
      "mild elevation of pulmonary vascularity\n",
      "increase in size of known tumor\n",
      "worsening diffuse interstitial pulmonary edema\n",
      "minimal worsening of right upper lobe consolidation\n",
      "generally widened thoracic aorta in elderly female patient\n",
      "hernia may contain only stomach\n",
      "accentuated contours of the cardiomediastinal area\n",
      "distended vascular structures in the right paratracheal soft tissues\n",
      "typical track-shaped calcifications in antero position within the heart shadow\n",
      "increasing homogeneous opacity in the left lower lung\n",
      "obscured margins of hemidiaphragms\n",
      "possible chronic interstitial abnormality\n",
      "densities new since the prior study\n",
      "perihilar parenchymal opacities\n",
      "apparent healed fracture with displacement of the proximal right humerus\n",
      "surgical clips reflecting previous thyroid surgery\n",
      "intra-aortic balloon pump terminates 6 cm below the aortic knob\n",
      "pacemaker intact\n",
      "pigtail drainage catheter visible\n",
      "need for follow-up to rule out pneumonia\n",
      "interval improvement of opacity in the right lower lung\n",
      "line and tubes in appropriate position\n",
      "ventriculoperitoneal shunt catheter projects over the chest wall\n",
      "position of the internal jugular vein catheter\n",
      "improved right aspiration pneumonia\n",
      "pleural drain has been pulled back\n",
      "follow up chest radiograph after pneumonia treatment\n",
      "effusion on the frontal radiograph\n",
      "heterogeneous patch\n",
      "endotracheal tube 3 cm in the chronic\n",
      "lucency overlying the abdomen\n",
      "mild mediastinal shift toward the right\n",
      "upper vascular re-distribution suggesting volume overload\n",
      "possible bone island\n",
      "obscuring of diaphragmatic contours\n",
      "nipple shadows over each anterior interspace\n",
      "previous large right pleural effusion is now small\n",
      "diffuse right pleural thickening\n",
      "concern for foreign body in the left common or external iliac artery\n",
      "deformities of the axillary portions of fifth rib on the right side\n",
      "pronounced leftward shift of the mediastinum\n",
      "volume loss of increased impression slightly worse compared to prior study\n",
      "chronic loculated left pleural effusion\n",
      "minimal residual atelectasis in the right lung base\n",
      "apparent enlargement of the left pulmonary artery\n",
      "opacity without a correlate on the lateral view\n",
      "improving atelectasis in the upper lobe\n",
      "diffuse lung consolidation\n",
      "extensive severe hyperinflation\n",
      "atelectasis in the lower lobes\n",
      "possible concurrent pneumonia at the left lower lobe\n",
      "opacification worse on the right\n",
      "dual chamber cardiac pacemaker leads running into the right atrium\n",
      "slight shift to the left\n",
      "PICC line ends far from the left subclavian veins\n",
      "multiple bilateral pulmonary nodules stable in size\n",
      "feeding tube no longer visible in the upper abdomen\n",
      "minimally increased pulmonary edema compared to prior exam\n",
      "substantially re-expanded right lower lobe\n",
      "leads in unchanged configuration\n",
      "endograft placed\n",
      "thickening of the major fissure on lateral view\n",
      "subtle pneumonia impossible to exclude\n",
      "hazy opacity similar to film dated at 00:05 a.m.\n",
      "hemorrhage in the mid to lower lungs\n",
      "pre-existing small right pleural effusion has minimally increased in extent\n",
      "suspected persistent pleural effusion\n",
      "new diffuse bilateral opacities\n",
      "spiculated mass\n",
      "opacity silhouettes the heart border\n",
      "old right pleural effusion\n",
      "substantial residual convex opacity\n",
      "severe elevation of the hilar structures\n",
      "severe worsening of airspace opacities\n",
      "obscured upper SVC by pacer leads\n",
      "unchanged atelectasis at the bases bilaterally\n",
      "questionable deep sulcus sign\n",
      "stable changes of the right hilum\n",
      "mild non-specific interstitial prominence\n",
      "post-obstructive consolidation\n",
      "fluid along the fissure\n",
      "surrounding opacities compatible with expected post-procedural change\n",
      "increased opacity at the left first costochondral junction due to degenerative changes\n",
      "endotracheal tube seen within a 5.2 cm from the carina\n",
      "tube in the hypopharynx\n",
      "mildly exaggerated kyphotic curvature along the visualized upper lumbar spine\n",
      "sizable chest wall hematoma\n",
      "lesion improvement\n",
      "hardware appears to be stable\n",
      "widened mediastinum minimally increased\n",
      "relative discordance between cardiac size and degree of vascularity\n",
      "adjacent clips in the region\n",
      "improved upper lobe component of moderate interstitial pulmonary abnormality\n",
      "extensive opacification of lung fields\n",
      "linear opacities within the lung apices\n",
      "post infectious fibrotic changes\n",
      "large spiculated mass in the right upper lung\n",
      "tip of the ET tube terminating 6.7 cm above the carina\n",
      "mild potentially post-intervention parenchymal opacities\n",
      "previous mild pulmonary vascular congestion is still present\n",
      "decreased pleural scarring\n",
      "cardiac conduction device contiguous with a single lead\n",
      "decreased extent of perihilar opacities on the left\n",
      "nonspecific right lung base opacity\n",
      "aorta tortuous proximal to the diaphragmatic hiatus\n",
      "partially visualized VP shunt\n",
      "heterogeneous opacification in the lower lung\n",
      "worsening multifocal opacities\n",
      "slight progression of left lower lobe collapse\n",
      "opacity may be due to edema\n",
      "central venous line remains in place unchanged\n",
      "unclear observation of chest tube\n",
      "asymmetric seen only on frontal view\n",
      "improvement in edema since yesterday\n",
      "increased rounded densities along the minor fissure\n",
      "opacity warrants radiographic follow-up to ensure clearance\n",
      "unchanged linear opacity in the left mid lung field\n",
      "asymmetric edema adjacent to the right hilum\n",
      "increased obscuring of the heart border\n",
      "post-surgical changes in the left lower lung\n",
      "cuffed dilated airways in the upper lobes bilaterally\n",
      "substantial progression of thoracic infection\n",
      "lead tip seen in the right ventricle\n",
      "right peripheral catheter terminates in the right axillary vein\n",
      "presence of urinary catheter\n",
      "atelectasis not distinguishing from pneumonia\n",
      "calcified nodule consistent with a granuloma\n",
      "subcentimeter rounded opacity overlying the left second anterior rib\n",
      "new moderate subcutaneous emphysema in the bilateral supraclavicular regions\n",
      "contour irregularity of the distal third of the right clavicle\n",
      "large atelectasis in the retrocardiac lung regions\n",
      "metallic stent within vasculature\n",
      "moderate right fluid\n",
      "mild bronchiectasis unchanged from baseline\n",
      "similar appearance of right pleural effusion to most recent prior study\n",
      "atelectases in left lower lobe\n",
      "sclerosis of the spine\n",
      "left basilar calcified granuloma unchanged in position\n",
      "NGT extends below the diaphragm\n",
      "opacity obscuring the right upper chest is unchanged\n",
      "likely terminates at the cavoatrial junction\n",
      "prior seen radiolucency on the portable film\n",
      "endotracheal tube terminates at the inferior margin of the clavicles\n",
      "minimal atelectatic changes at both lung bases\n",
      "diffuse heterogeneous opacification of the lung is unchanged\n",
      "slight increase in extent of the pleural effusion on the left\n",
      "heterogeneous opacification of the lung\n"
     ]
    }
   ],
   "source": [
    "dicom_id = dicom_ids[-3]\n",
    "metadata = get_detailed_metadata_for_dicom_id(dicom_id)[0]\n",
    "print(metadata)\n",
    "print()\n",
    "print()\n",
    "print(read_txt(metadata['filepath']))\n",
    "print()\n",
    "print()\n",
    "print('All facts:')\n",
    "facts = integrated_report_facts[metadata['report_index']]['facts']\n",
    "print(facts)\n",
    "print()\n",
    "print()\n",
    "print('positive facts:')\n",
    "positive_facts = [aux['facts'][idx] for idx in dicom_id_to_pos_neg_facts[dicom_id][0]]\n",
    "print(positive_facts)\n",
    "print()\n",
    "print()\n",
    "print('excluded positive facts:')\n",
    "print([f for f in facts if f not in positive_facts])\n",
    "print()\n",
    "print()\n",
    "print('negative facts:')\n",
    "for idx in dicom_id_to_pos_neg_facts[dicom_id][1]:\n",
    "    print(aux['facts'][idx])"
   ]
  },
  {
   "cell_type": "code",
   "execution_count": 118,
   "id": "29dfb030",
   "metadata": {},
   "outputs": [
    {
     "data": {
      "text/plain": [
       "{'fact': 'history of sternal debridement in bilateral pectoralis flaps',\n",
       " 'metadata': {'reason': 'The statement refers to a medical history involving surgical procedures but does not describe a current observation from a radiology report. It indicates past interventions rather than findings from an imaging study.',\n",
       "  'too_noisy_or_irrelevant': 'yes',\n",
       "  'visually_observable': 'no',\n",
       "  'category': 'does not apply',\n",
       "  'abnormality_status': 'does not apply',\n",
       "  'anatomical_location': 'does not apply',\n",
       "  'general_observation': 'does not apply'},\n",
       " 'extraction_method': 'gpt-4o-mini'}"
      ]
     },
     "execution_count": 118,
     "metadata": {},
     "output_type": "execute_result"
    }
   ],
   "source": [
    "integrated_fact_metadata[0]"
   ]
  },
  {
   "cell_type": "code",
   "execution_count": 30,
   "id": "1741252f",
   "metadata": {},
   "outputs": [],
   "source": [
    "from medvqa.scripts.mimiccxr.find_pos_neg_facts_per_report_around_reference_classes import _filter_facts"
   ]
  },
  {
   "cell_type": "code",
   "execution_count": 31,
   "id": "862acf5a",
   "metadata": {},
   "outputs": [
    {
     "name": "stdout",
     "output_type": "stream",
     "text": [
      "len(banned_facts): 112282\n",
      "Loaded 479638 unique facts (skipped 112282 facts)\n",
      "Loaded 250466 unique general facts\n"
     ]
    }
   ],
   "source": [
    "_unique_facts, _unique_general_facts, _f2gf, banned_facts = _filter_facts(integrated_fact_metadata)"
   ]
  },
  {
   "cell_type": "code",
   "execution_count": 33,
   "id": "eb808380",
   "metadata": {},
   "outputs": [],
   "source": [
    "banned_facts = list(banned_facts)"
   ]
  },
  {
   "cell_type": "code",
   "execution_count": 39,
   "id": "49f19931",
   "metadata": {},
   "outputs": [
    {
     "data": {
      "text/plain": [
       "'no superadded pneumonia'"
      ]
     },
     "execution_count": 39,
     "metadata": {},
     "output_type": "execute_result"
    }
   ],
   "source": [
    "banned_facts[2]"
   ]
  },
  {
   "cell_type": "code",
   "execution_count": 46,
   "id": "6d9b3e8b",
   "metadata": {},
   "outputs": [
    {
     "data": {
      "text/plain": [
       "1813"
      ]
     },
     "execution_count": 46,
     "metadata": {},
     "output_type": "execute_result"
    }
   ],
   "source": [
    "b_idxs = [i for i,x in enumerate(banned_facts) if 'line' in x.lower()]\n",
    "len(b_idxs)"
   ]
  },
  {
   "cell_type": "code",
   "execution_count": 54,
   "id": "9a18e5f7",
   "metadata": {},
   "outputs": [
    {
     "name": "stdout",
     "output_type": "stream",
     "text": [
      "possible artifactual at the right lung base\n",
      "\n",
      "{'fact': 'possible artifactual at the right lung base', 'metadata': {'reason': 'The statement suggests the presence of an artifact in the imaging of the right lung base. Artifacts can affect the interpretation of radiological images and are relevant observations in radiology reports.', 'too_noisy_or_irrelevant': 'no', 'visually_observable': 'yes', 'category': 'technical assessment', 'abnormality_status': 'does not apply', 'anatomical_location': 'right lung base', 'general_observation': 'possible artifactual at the lung base'}, 'extraction_method': 'gpt-4o-mini'}\n",
      "\n",
      "0.4726397693157196  prominent hila\n",
      "0.46213287115097046  prominence of hilum\n",
      "0.4599626064300537  hyperinflation\n",
      "0.4561922252178192  hilum prominent\n",
      "0.4299100637435913  hyperaeration\n",
      "0.42224496603012085  hyperexpanded lungs\n",
      "0.4140942692756653  lobar/segmental collapse\n",
      "0.3989369869232178  interstitial opacification\n",
      "0.3954535722732544  increased interstitial markings\n",
      "0.3942326605319977  increased markings\n",
      "0.3934185206890106  interstitial shadowing\n",
      "0.39287489652633667  hyperexpansion\n",
      "0.3913366198539734  chest hyperinflated\n",
      "0.3910713791847229  hilar prominence\n",
      "0.3809998035430908  chest wall tissue abnormality\n",
      "0.36239826679229736  atelectatic change\n",
      "0.36200594902038574  atelectatic findings\n",
      "0.3538031578063965  bone lesion\n",
      "0.35143548250198364  linear/patchy atelectasis\n",
      "0.3470725119113922  liner atelectasis\n",
      "0.33666929602622986  increased reticular markings/ild pattern\n",
      "0.3345876932144165  reticular interstitial pattern\n",
      "0.33371224999427795  vascular prominence at hilum\n",
      "0.3291434049606323  enlarged hilum\n",
      "0.32814112305641174  soft tissue abnormality\n",
      "0.32428407669067383  pleural/parenchymal scarring\n",
      "0.3224344849586487  interstitial nodularity\n",
      "0.3204308748245239  atelectatic bands\n",
      "0.3175930380821228  subsegmental atelectasis\n",
      "0.3162848949432373  pulmonary opacity\n",
      "0.31345048546791077  decreased lung size\n",
      "0.31213247776031494  paraspinal density\n",
      "0.3074690103530884  lung lesion\n",
      "0.3061557412147522  lung/lobe collapse\n",
      "0.29784834384918213  breast/nipple shadows\n",
      "0.29588615894317627  pleural density\n",
      "0.29567599296569824  shadowing\n",
      "0.2939422130584717  hilum/hilar bulky\n",
      "0.28640255331993103  subclavian line\n",
      "0.2781526446342468  reticular density\n",
      "0.27694639563560486  pleural thickening\n",
      "0.27421724796295166  bulky hilum\n",
      "0.274039626121521  consolidation\n",
      "0.27194058895111084  atelectasis\n",
      "0.26963287591934204  cervical area tissue abnormality\n",
      "0.2682201564311981  pulmonary nodule\n",
      "0.26770496368408203  lung opacity\n",
      "0.2654075622558594  honeycombing\n",
      "0.2649243175983429  pleural shadow\n",
      "0.26218125224113464  lung nodule\n",
      "0.2609899342060089  parenchymal nodule\n",
      "0.2606971859931946  lobar atelectasis\n",
      "0.2600020170211792  dextrocardia\n",
      "0.2584249973297119  aspiration\n",
      "0.2572280168533325  parenchymal mass or nodule\n",
      "0.25383174419403076  parietal pleural thickening\n",
      "0.2534031271934509  reticulation\n",
      "0.2516523003578186  pulmonary mass\n",
      "0.24897727370262146  enlargement of hilum\n",
      "0.24773266911506653  subcutaneous tissue abnormality\n",
      "0.2469809651374817  reticular pattern\n",
      "0.24678954482078552  hilar abnormalities\n",
      "0.24361029267311096  reticular shadow\n",
      "0.24264606833457947  reticular shadowing\n",
      "0.2419602870941162  nodule\n",
      "0.2409941554069519  sail sign\n",
      "0.2397955060005188  decreased lung volume\n",
      "0.23912018537521362  mass\n",
      "0.23461800813674927  reticulonodular pattern\n",
      "0.2327583134174347  parenchymal consolidation\n",
      "0.23026463389396667  increased parenchymal lung markings\n",
      "0.23015016317367554  nodule/mass\n",
      "0.23001468181610107  breast abnormality\n",
      "0.22764593362808228  hilar enlargement\n",
      "0.2263946831226349  infiltration\n",
      "0.22566501796245575  reticular opacification\n",
      "0.22422805428504944  lung consolidation\n",
      "0.22324593365192413  intra-aortic balloon pump\n",
      "0.22104021906852722  costophrenic angle attenuated\n",
      "0.2204030156135559  step in rib\n",
      "0.21999140083789825  reticular changes\n",
      "0.21951894462108612  pleurally based changes\n",
      "0.21947702765464783  cyst/bullae\n",
      "0.21916009485721588  sternotomy wires\n",
      "0.2135884165763855  osteopenia\n",
      "0.21309515833854675  golden s sign\n",
      "0.21016231179237366  fissure\n",
      "0.2100028395652771  elevated hemidiaphragm\n",
      "0.20903897285461426  cutaneous tissue abnormality\n",
      "0.20395341515541077  fibrotic change\n",
      "0.2001991719007492  fibrosis\n",
      "0.19836196303367615  small volume lungs\n",
      "0.19560253620147705  lung mass\n",
      "0.19427688419818878  parenchymal opacity\n",
      "0.1915069818496704  hemidiaphragm elevated\n",
      "0.19145353138446808  pleural scarring\n",
      "0.18692156672477722  lung lucencies\n",
      "0.1868518888950348  situs inversus\n",
      "0.1859542280435562  lung cyst\n",
      "0.18449845910072327  apical thickening\n",
      "0.18428198993206024  tracheostomy tube\n",
      "0.17940565943717957  opacification with septal line\n",
      "0.17904195189476013  increased lung markings\n",
      "0.17876523733139038  pleural shadowing\n",
      "0.17461970448493958  batwing shadowing\n",
      "0.1745082139968872  lobectomy\n",
      "0.17433103919029236  fluid in minor fissure\n",
      "0.17057451605796814  spinal degenerative changes\n",
      "0.16779084503650665  round atelectasis\n",
      "0.16490568220615387  low lung volumes\n",
      "0.16396477818489075  elevation of hemidiaphragm\n",
      "0.1618741750717163  hilar mass\n",
      "0.15823516249656677  apical interstitial change\n",
      "0.15650561451911926  interlobular septal thickening\n",
      "0.1549404412508011  parenchymal opacification\n",
      "0.15437102317810059  idiopathic pulmonary fibrosis\n",
      "0.1528347134590149  peribronchial thickening\n",
      "0.14661270380020142  interstitial lung disease\n",
      "0.14511358737945557  peri-hilar opacification\n",
      "0.1425868272781372  paraspinal mass\n",
      "0.14168620109558105  pulmonary edema/hazy opacity\n",
      "0.14103011786937714  kyphosis\n",
      "0.13866719603538513  bone-forming neoplasm\n",
      "0.13823768496513367  mediastinal drain\n",
      "0.13664484024047852  bulla\n",
      "0.13318315148353577  clavicular fracture\n",
      "0.12972114980220795  hilar adenopathy\n",
      "0.12748703360557556  parenchymal mass\n",
      "0.1262960135936737  hilar lymphadenopathy\n",
      "0.12395364046096802  mass next to spine\n",
      "0.1238170638680458  bullae\n",
      "0.12346704304218292  clavicle fracture\n",
      "0.12325708568096161  pulmonary fibrosis\n",
      "0.12150409817695618  kerley b lines\n",
      "0.12120363116264343  tenting of hemidiaphragm\n",
      "0.12064535915851593  pleural abnormalities\n",
      "0.12029361724853516  mass adjacent to spine\n",
      "0.11796742677688599  skin fold\n",
      "0.11601610481739044  bullous emphysema\n",
      "0.10739798843860626  hilar calcification\n",
      "0.10714394599199295  emphysematous change\n",
      "0.10571689158678055  septal thickening\n",
      "0.10463816672563553  chest tube\n",
      "0.09865452349185944  enlarged cardiac silhouette\n",
      "0.09668964147567749  chest port\n",
      "0.09426729381084442  edema\n",
      "0.09347963333129883  prosthetic valve\n",
      "0.09274451434612274  bronchial wall thickening\n",
      "0.08788295090198517  support devices\n",
      "0.08758088946342468  cardiomediastinum displaced\n",
      "0.08695947378873825  effusion\n",
      "0.08356957882642746  hilar lymph node enlargement\n",
      "0.08333892375230789  pneumoperitoneum\n",
      "0.08329135179519653  cardiomegaly\n",
      "0.08250155299901962  cardiac silhouette enlarged\n",
      "0.07869762182235718  supraclavicular fossa tissue abnormality\n",
      "0.0743921548128128  pleural lesion\n",
      "0.07435251772403717  subcutaneous air\n",
      "0.07327380776405334  ij line\n",
      "0.07177884876728058  airspace consolidation\n",
      "0.07162225246429443  prominent gas shadow\n",
      "0.06914506107568741  calcification of the cardiac wall\n",
      "0.067258320748806  ground glass opacity\n",
      "0.0665559396147728  cardiac enlargement\n",
      "0.06630916893482208  enlarged pulmonary veins/vessels\n",
      "0.06628048419952393  cavitating lesion\n",
      "0.062402285635471344  distended gas filled viscus\n",
      "0.06130345165729523  enlarged pulmonary artery\n",
      "0.06067865341901779  pectus deformity\n",
      "0.06067180261015892  subcutaneous emphysema\n",
      "0.059062421321868896  alveolar shadowing\n",
      "0.05875454097986221  heart enlarged\n",
      "0.05818508565425873  calcification of the cardiac valve\n",
      "0.05655801668763161  pigtail catheter\n",
      "0.05448169261217117  pleural plaques\n",
      "0.053498830646276474  costophrenic angle blunting\n",
      "0.0534195601940155  spinal fracture\n",
      "0.051773689687252045  heart shadow enlarged\n",
      "0.051173385232686996  mediastinal shift\n",
      "0.04803420603275299  ground glass density\n",
      "0.04770452901721001  apical fibrosis\n",
      "0.04400277137756348  pericardial effusion\n",
      "0.04288388043642044  airspace changes\n",
      "0.03946686536073685  goiter\n",
      "0.03729180991649628  displaced mediastinum\n",
      "0.03593387454748154  copd/emphysema\n",
      "0.03575945645570755  enlarged cardiomediastinum\n",
      "0.03393586724996567  airspace shadowing\n",
      "0.03323068469762802  pleural reaction\n",
      "0.026322290301322937  mediastinal displacement\n",
      "0.026072807610034943  endotracheal tube\n",
      "0.020709596574306488  septal lines\n",
      "0.019504956901073456  superior mediastinal mass/enlargement\n",
      "0.01876833662390709  subdiaphragmatic air\n",
      "0.018496697768568993  hernia\n",
      "0.01488099992275238  granuloma\n",
      "0.013936571776866913  calcified pleural plaques\n",
      "0.0058212727308273315  airspace opacity\n",
      "0.003063645213842392  calcified nodule\n",
      "0.002494674175977707  airspace opacification\n",
      "0.0020866654813289642  aortic enlargement\n",
      "0.0016078595072031021  emphysema\n",
      "3.147497773170471e-05  blunting of costophrenic angle\n",
      "-0.002148635685443878  ground glass shadowing\n",
      "-0.004417698830366135  cardiac calcification\n",
      "-0.006626972928643227  lung cavity\n",
      "-0.01631464995443821  surgical emphysema\n",
      "-0.027546487748622894  fluid in major fissure\n",
      "-0.02856353484094143  eventration of diaphragm\n",
      "-0.029499288648366928  calcification\n",
      "-0.03003058023750782  cardiomyopathy\n",
      "-0.03338465839624405  enteric tube\n",
      "-0.033565815538167953  bronchiectasis\n",
      "-0.03479813411831856  hiatus hernia\n",
      "-0.03703581169247627  tension pneumothorax\n",
      "-0.03807558864355087  pleural fluid\n",
      "-0.040934596210718155  diaphragmatic eventration\n",
      "-0.042642347514629364  widening of the mediastinum\n",
      "-0.05468926578760147  copd\n",
      "-0.055945731699466705  hemidiaphragmatic hump\n",
      "-0.05636858940124512  prominent upper lobe pulmonary vessels/vasculature\n",
      "-0.06085633859038353  aortic tortuosity\n",
      "-0.06449972838163376  distended gastric bubble\n",
      "-0.06546061486005783  ground glass change\n",
      "-0.06812447309494019  vascular congestion\n",
      "-0.0685214102268219  alveolar hemorrhage\n",
      "-0.06914159655570984  large heart shadow\n",
      "-0.06974352151155472  tortuous aorta\n",
      "-0.06976421922445297  fracture\n",
      "-0.07299067080020905  cardiac pacer and wires\n",
      "-0.07534327358007431  mediastinal widening\n",
      "-0.08068478107452393  pleural effusion\n",
      "-0.08103635907173157  unfolded thoracic aorta\n",
      "-0.08659906685352325  cavitation\n",
      "-0.09398692846298218  upper limb tissue abnormality\n",
      "-0.09971363097429276  unfolding of the descending aorta\n",
      "-0.10414045304059982  fluid overload/heart failure\n",
      "-0.10509364306926727  vascular calcification\n",
      "-0.10794827342033386  aortic graft/repair\n",
      "-0.10978849232196808  unfolding of the thoracic aorta\n",
      "-0.11607146263122559  pneumomediastinum\n",
      "-0.11790647357702255  bronchial changes\n",
      "-0.12081275135278702  large heart\n",
      "-0.12284744530916214  dilated/enlarged upper lobe vessels\n",
      "-0.12525272369384766  bone metastasis\n",
      "-0.12544569373130798  calcification of the aorta\n",
      "-0.12750771641731262  adenopathy\n",
      "-0.1326218545436859  bronchiolectasis\n",
      "-0.13331863284111023  calcification of the coronary artery\n",
      "-0.13667802512645721  azygos lobe\n",
      "-0.13696864247322083  ill-defined density\n",
      "-0.1378142088651657  lymphadenopathy\n",
      "-0.13978782296180725  paratracheal soft tissue\n",
      "-0.1426897644996643  enlarged lymph node\n",
      "-0.14409181475639343  large lung volume\n",
      "-0.1455029845237732  cavity\n",
      "-0.16294367611408234  widening of paratracheal stripe\n",
      "-0.16333794593811035  granulomatous disease\n",
      "-0.1657322496175766  distended stomach\n",
      "-0.1673710197210312  prominent bowel\n",
      "-0.16893340647220612  calcification of the coronary vessels\n",
      "-0.1767195761203766  rib fracture\n",
      "-0.18771375715732574  bone metastases\n",
      "-0.196452796459198  pneumothorax\n",
      "-0.21145419776439667  prominent small bowel loops\n",
      "-0.21561378240585327  swan-ganz catheter\n",
      "-0.22418595850467682  infarction\n",
      "-0.22897374629974365  vascular redistribution\n",
      "-0.23836499452590942  cardiac aneurysm\n",
      "-0.2387894093990326  shoulder osteoarthritis\n",
      "-0.25895950198173523  hydropneumothorax\n",
      "-0.2624230682849884  dilated loop bowel\n",
      "-0.27299559116363525  prominent loops of bowel\n",
      "-0.27781349420547485  kyphoscoliosis\n",
      "-0.2786129117012024  cabg grafts\n",
      "-0.2821958363056183  pneumonia\n",
      "-0.285196989774704  changes of pulmonary edema\n",
      "-0.2882274389266968  air in mediastinum\n",
      "-0.29029959440231323  pulmonary blood flow redistribution\n",
      "-0.3067944645881653  upper lobe diversion\n",
      "-0.30943846702575684  lung tumor\n",
      "-0.31012582778930664  paratracheal adenopathy\n",
      "-0.3127397298812866  picc\n",
      "-0.3149513006210327  paratracheal lymphadenopathy\n",
      "-0.324435293674469  scoliosis\n",
      "-0.33162546157836914  dilatation of bowel loops\n",
      "-0.3443889021873474  paratracheal opacification\n",
      "-0.3464687466621399  pulmonary hypertension\n",
      "-0.3521638512611389  primary lung malignancy\n",
      "-0.35235804319381714  pulmonary metastases\n",
      "-0.358848512172699  axillary mass\n",
      "-0.36062562465667725  axillary adenopathy\n",
      "-0.3620678782463074  axillary lymphadenopathy\n",
      "-0.36446404457092285  tuberculosis\n",
      "-0.394241064786911  lung malignancy\n",
      "-0.4000256359577179  lung metastases\n",
      "-0.41476812958717346  lung cancer\n"
     ]
    }
   ],
   "source": [
    "query = 'possible artifactual at the right lung base'\n",
    "# query = banned_facts[b_idxs[10]]\n",
    "print(query)\n",
    "print()\n",
    "\n",
    "for x in integrated_fact_metadata:\n",
    "    if x['fact'] == query:\n",
    "        print(x)\n",
    "        break\n",
    "print()\n",
    "\n",
    "q_idx = all_facts.index(query)\n",
    "sims = np.dot(phrase_embeddings, fact_embeddings[q_idx])\n",
    "idxs = np.argsort(sims)[::-1]\n",
    "for idx in idxs:\n",
    "    print(f'{sims[idx]}  {phrases[idx]}')"
   ]
  },
  {
   "cell_type": "code",
   "execution_count": 130,
   "id": "d31cc188",
   "metadata": {
    "scrolled": false
   },
   "outputs": [
    {
     "name": "stdout",
     "output_type": "stream",
     "text": [
      "{'fact': 'no pneumothorax after pacemaker placement', 'metadata': {'reason': 'The statement indicates the absence of a pneumothorax, which is a significant observation following a medical procedure. This finding can be visually confirmed on a chest X-ray. It suggests that the procedure was successful without complications.', 'too_noisy_or_irrelevant': 'no', 'visually_observable': 'yes', 'category': 'procedure', 'abnormality_status': 'completely normal or healthy', 'anatomical_location': 'chest', 'general_observation': 'no pneumothorax'}, 'extraction_method': 't5-small-finetuned'}\n",
      "\n",
      "{'fact': 'no pneumothorax after pigtail placement', 'metadata': {'reason': \"The statement indicates the absence of a pneumothorax, which is a significant observation following a medical procedure. It suggests that the pigtail placement of the device has been performed, which is relevant to the assessment of the patient's condition. This finding can be visually confirmed on a chest X-ray.\", 'too_noisy_or_irrelevant': 'no', 'visually_observable': 'yes', 'category': 'device', 'abnormality_status': 'completely normal or healthy', 'anatomical_location': 'chest', 'general_observation': 'no pneumothorax'}, 'extraction_method': 't5-small-finetuned'}\n",
      "\n",
      "{'fact': 'no pneumothorax on the left internal jugular line ends in the low SVC', 'metadata': {'reason': 'The statement indicates the absence of a pneumothorax, which is a significant observation in a chest X-ray. It specifies the anatomical location where the line terminates, which is relevant for assessing the placement of the device. This information is crucial for ensuring proper function and avoiding complications.', 'too_noisy_or_irrelevant': 'no', 'visually_observable': 'yes', 'category': 'device', 'abnormality_status': 'completely normal or healthy', 'anatomical_location': 'left internal jugular line, low SVC', 'general_observation': 'no pneumothorax'}, 'extraction_method': 't5-small-finetuned'}\n",
      "\n",
      "{'fact': 'no pneumothorax related to placement', 'metadata': {'reason': \"The statement indicates the absence of a pneumothorax, which is a significant observation in a chest X-ray. It suggests that the lungs appear normal in relation to the placement of the device. This is a relevant finding in assessing the patient's respiratory status.\", 'too_noisy_or_irrelevant': 'no', 'visually_observable': 'yes', 'category': 'device', 'abnormality_status': 'completely normal or healthy', 'anatomical_location': 'lungs', 'general_observation': 'no pneumothorax'}, 'extraction_method': 't5-small-finetuned'}\n",
      "\n",
      "{'fact': 'no pneumothorax of the pacemaker placement', 'metadata': {'reason': 'The statement indicates the absence of a pneumothorax, which is a significant observation in a radiology report. It suggests that the pacemaker is positioned correctly without any air in the pleural space. This is a relevant finding in the context of a chest X-ray.', 'too_noisy_or_irrelevant': 'no', 'visually_observable': 'yes', 'category': 'device', 'abnormality_status': 'completely normal or healthy', 'anatomical_location': 'pleural space', 'general_observation': 'no pneumothorax'}, 'extraction_method': 't5-small-finetuned'}\n",
      "\n"
     ]
    },
    {
     "data": {
      "text/plain": [
       "245"
      ]
     },
     "execution_count": 130,
     "metadata": {},
     "output_type": "execute_result"
    }
   ],
   "source": [
    "query_idxs = []\n",
    "for i, x in enumerate(integrated_fact_metadata):\n",
    "    if x['metadata']['general_observation'] == query:\n",
    "        query_idxs.append(i)\n",
    "        if x['metadata']['category'] not in ('anatomical finding', 'disease'):\n",
    "            print(x)\n",
    "            print()\n",
    "len(query_idxs)"
   ]
  },
  {
   "cell_type": "code",
   "execution_count": 439,
   "id": "fb866d96",
   "metadata": {},
   "outputs": [],
   "source": [
    "from collections import Counter"
   ]
  },
  {
   "cell_type": "code",
   "execution_count": 440,
   "id": "3f3ae595",
   "metadata": {},
   "outputs": [
    {
     "data": {
      "text/plain": [
       "Counter({'anatomical finding': 396065,\n",
       "         'disease': 37122,\n",
       "         'technical assessment': 53424,\n",
       "         'tubes and lines': 83396,\n",
       "         'device': 35156,\n",
       "         'procedure': 160,\n",
       "         'unknown': 83,\n",
       "         'health status': 14,\n",
       "         'symptom': 226,\n",
       "         '': 413,\n",
       "         'foreign body': 5,\n",
       "         'surgical procedure': 3,\n",
       "         'complication': 2,\n",
       "         'treatment': 1,\n",
       "         'surgery': 2,\n",
       "         'normal': 1,\n",
       "         'tubes and lines unchanged': 1})"
      ]
     },
     "execution_count": 440,
     "metadata": {},
     "output_type": "execute_result"
    }
   ],
   "source": [
    "Counter(x['metadata']['category'] for x in integrated_fact_metadata)"
   ]
  },
  {
   "cell_type": "code",
   "execution_count": 441,
   "id": "dd007fc1",
   "metadata": {},
   "outputs": [
    {
     "data": {
      "text/plain": [
       "Counter({'ambiguous': 41261,\n",
       "         'abnormal': 315390,\n",
       "         'unknown': 172249,\n",
       "         'normal': 76889,\n",
       "         'resolved': 5,\n",
       "         'improved': 23,\n",
       "         '': 257})"
      ]
     },
     "execution_count": 441,
     "metadata": {},
     "output_type": "execute_result"
    }
   ],
   "source": [
    "Counter(x['metadata']['health status'] for x in integrated_fact_metadata)"
   ]
  },
  {
   "cell_type": "code",
   "execution_count": 471,
   "id": "c57e7135",
   "metadata": {},
   "outputs": [],
   "source": [
    "# _VALID_JSON_OBJECT_REGEX = re.compile(r\"\\{\\s*\\\"reason\\\"\\s*:\\s*\\\"[^\\\"]*\\\"\\s*,\\s*\\\"too\\_noisy\\_or\\_irrelevant\\\"\\s*:\\s*\\\"[^\\\"]*\\\"\\s*,\\s*\\\"visually\\_observable\\\"\\s*:\\s*\\\"[^\\\"]*\\\"\\s*,\\s*\\\"category\\\"\\s*:\\s*\\\"[^\\\"]*\\\"\\s*,\\s*\\\"abnormality\\_status\\\"\\s*:\\s*\\\"[^\\\"]*\\\"\\s*,\\s*\\\"anatomical\\_location\\?\\\"\\s*:\\s*\\\"[^\\\"]*\\\"\\s*,\\s*\\\"general\\_observation\\\"\\s*:\\s*\\\"[^\\\"]*\\\"\\s*\\}\")\n",
    "\n",
    "_VALID_JSON_OBJECT_REGEX = re.compile(\n",
    "    r'\\{\\s*\"reason\"\\s*:\\s*\"[^\"]*\"\\s*,\\s*\"too_noisy_or_irrelevant\"\\s*:\\s*\"[^\"]*\"\\s*,\\s*\"visually_observable\"\\s*:\\s*\"[^\"]*\"\\s*,\\s*\"category\"\\s*:\\s*\"[^\"]*\"\\s*,\\s*\"abnormality_status\"\\s*:\\s*\"[^\"]*\"\\s*,\\s*\"anatomical_location\"\\s*:\\s*\"[^\"]*\"\\s*,\\s*\"general_observation\"\\s*:\\s*\"[^\"]*\"\\s*\\}',\n",
    "    re.DOTALL\n",
    ")"
   ]
  },
  {
   "cell_type": "code",
   "execution_count": 483,
   "id": "391e9526",
   "metadata": {},
   "outputs": [
    {
     "name": "stdout",
     "output_type": "stream",
     "text": [
      "{\n",
      "  \"reason\": \"The statement describes the presence of surgical clips, which are a visual finding on a chest X-ray. These clips indicate a previous surgical procedure, specifically an axillary dissection. This information is relevant for assessing the patient's surgical history and any potential implications for current health.\",\n",
      "  \"too_noisy_or_irrelevant\": \"no\",\n",
      "  \"visually_observable\": \"yes\",\n",
      "  \"category\": \"device\",\n",
      "  \"abnormality_status\": \"does not apply\",\n",
      "  \"anatomical_location\": \"axilla\",\n",
      "  \"general_observation\": \"surgical clips present\"\n",
      "}\n"
     ]
    }
   ],
   "source": [
    "match = _VALID_JSON_OBJECT_REGEX.search(\"\"\"{\n",
    "  \"reason\": \"The statement describes the presence of surgical clips, which are a visual finding on a chest X-ray. These clips indicate a previous surgical procedure, specifically an axillary dissection. This information is relevant for assessing the patient's surgical history and any potential implications for current health.\",\n",
    "  \"too_noisy_or_irrelevant\": \"no\",\n",
    "  \"visually_observable\": \"yes\",\n",
    "  \"category\": \"device\",\n",
    "  \"abnormality_status\": \"does not apply\",\n",
    "  \"anatomical_location\": \"axilla\",\n",
    "  \"general_observation\": \"surgical clips present\"\n",
    "}\"\"\")\n",
    "if match:\n",
    "    print(match.group(0))"
   ]
  }
 ],
 "metadata": {
  "kernelspec": {
   "display_name": "venv2",
   "language": "python",
   "name": "venv2"
  },
  "language_info": {
   "codemirror_mode": {
    "name": "ipython",
    "version": 3
   },
   "file_extension": ".py",
   "mimetype": "text/x-python",
   "name": "python",
   "nbconvert_exporter": "python",
   "pygments_lexer": "ipython3",
   "version": "3.10.10"
  }
 },
 "nbformat": 4,
 "nbformat_minor": 5
}
