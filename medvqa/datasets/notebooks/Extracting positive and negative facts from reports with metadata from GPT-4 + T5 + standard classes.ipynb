{
 "cells": [
  {
   "cell_type": "code",
   "execution_count": 70,
   "id": "765bb40b",
   "metadata": {
    "scrolled": true
   },
   "outputs": [
    {
     "name": "stdout",
     "output_type": "stream",
     "text": [
      "env: CUDA_VISIBLE_DEVICES=0\n"
     ]
    }
   ],
   "source": [
    "%env CUDA_VISIBLE_DEVICES=0"
   ]
  },
  {
   "cell_type": "code",
   "execution_count": 499,
   "id": "31af3ad1",
   "metadata": {},
   "outputs": [],
   "source": [
    "from medvqa.models.huggingface_utils import (\n",
    "    CachedTextEmbeddingExtractor,\n",
    "    SupportedHuggingfaceMedicalBERTModels,\n",
    ")\n",
    "from medvqa.utils.files import (\n",
    "    load_jsonl, load_pickle, load_class_specific_regex,\n",
    ")\n",
    "from medvqa.utils.math import rank_vectors_by_dot_product, rank_vectors_by_average_dot_product\n",
    "import numpy as np"
   ]
  },
  {
   "cell_type": "code",
   "execution_count": 3,
   "id": "97cfb8dd",
   "metadata": {},
   "outputs": [],
   "source": [
    "from importlib import reload\n",
    "import medvqa"
   ]
  },
  {
   "cell_type": "code",
   "execution_count": 498,
   "id": "e3ad90e3",
   "metadata": {},
   "outputs": [
    {
     "data": {
      "text/plain": [
       "<module 'medvqa.utils.common' from '/home/pamessina/medvqa/medvqa/utils/common.py'>"
      ]
     },
     "execution_count": 498,
     "metadata": {},
     "output_type": "execute_result"
    }
   ],
   "source": [
    "reload(medvqa.utils.files)\n",
    "reload(medvqa.utils.common)"
   ]
  },
  {
   "cell_type": "code",
   "execution_count": 187,
   "id": "560a7643",
   "metadata": {},
   "outputs": [],
   "source": [
    "integrated_fact_metadata_filepath = \"/home/pamessina/medvqa-workspace/cache/mimiccxr/huggingface/integrated_fact_metadata(591920,209004293).jsonl\""
   ]
  },
  {
   "cell_type": "code",
   "execution_count": 54,
   "id": "6fa3ec5a",
   "metadata": {},
   "outputs": [
    {
     "name": "stdout",
     "output_type": "stream",
     "text": [
      "297\n"
     ]
    }
   ],
   "source": [
    "from medvqa.utils.constants import MULTIDATASET_UNIFIED_CLASSES\n",
    "phrases = MULTIDATASET_UNIFIED_CLASSES\n",
    "print(len(phrases))"
   ]
  },
  {
   "cell_type": "code",
   "execution_count": 55,
   "id": "f6b67632",
   "metadata": {},
   "outputs": [
    {
     "name": "stdout",
     "output_type": "stream",
     "text": [
      "checkpoint_names = ['checkpoint_196_cacc+chf1+chf1+cscc+encc+hscc+nlcc+sass+spss+ta0)+ta1)+ta2)+ta0)+ta1)+ta2)+ta3)+ta4)+ta5)+ta6)+ta7)=0.9189.pt']\n"
     ]
    }
   ],
   "source": [
    "# Create embedding extractor\n",
    "embedding_extractor = CachedTextEmbeddingExtractor(\n",
    "    model_name='microsoft/BiomedVLP-CXR-BERT-specialized',\n",
    "    model_checkpoint_folder_path='/mnt/data/pamessina/workspaces/medvqa-workspace/models/fact_embedding/20240629_084405_MIMIC-CXR(triplets+classif+entcont+nli+radgraph+autoencoder)_FactEncoder(microsoft-BiomedVLP-CXR-BERT-specialized)',\n",
    "    device='cuda',\n",
    ")"
   ]
  },
  {
   "cell_type": "code",
   "execution_count": 294,
   "id": "c8d99193",
   "metadata": {},
   "outputs": [
    {
     "name": "stdout",
     "output_type": "stream",
     "text": [
      "Loading integrated fact metadata from: /home/pamessina/medvqa-workspace/cache/mimiccxr/huggingface/integrated_fact_metadata(591920,209004293).jsonl\n"
     ]
    }
   ],
   "source": [
    "# Load integrated fact metadata\n",
    "print('Loading integrated fact metadata from:', integrated_fact_metadata_filepath)\n",
    "integrated_fact_metadata = load_jsonl(integrated_fact_metadata_filepath)"
   ]
  },
  {
   "cell_type": "code",
   "execution_count": 295,
   "id": "89fd5a45",
   "metadata": {},
   "outputs": [
    {
     "name": "stdout",
     "output_type": "stream",
     "text": [
      "Loaded 591920 facts.\n"
     ]
    }
   ],
   "source": [
    "# Extract facts\n",
    "all_facts = set()\n",
    "for x in integrated_fact_metadata:\n",
    "    fact = x['fact']\n",
    "    if fact: all_facts.add(fact)\n",
    "all_facts = list(all_facts)\n",
    "all_facts.sort()\n",
    "print(f'Loaded {len(all_facts)} facts.')"
   ]
  },
  {
   "cell_type": "code",
   "execution_count": 408,
   "id": "dc9d50f3",
   "metadata": {},
   "outputs": [
    {
     "name": "stdout",
     "output_type": "stream",
     "text": [
      "pleural surfaces without pneumothorax\n"
     ]
    }
   ],
   "source": [
    "for f in facts:\n",
    "    if 'pneumothorax' in f:\n",
    "        print(f)\n",
    "        break"
   ]
  },
  {
   "cell_type": "code",
   "execution_count": 296,
   "id": "8b81ef68",
   "metadata": {},
   "outputs": [
    {
     "name": "stderr",
     "output_type": "stream",
     "text": [
      "100%|███████████████████████████████████████████████████████████████████████| 591920/591920 [00:01<00:00, 445021.78it/s]\n"
     ]
    }
   ],
   "source": [
    "fact_embeddings = embedding_extractor.compute_text_embeddings(all_facts)"
   ]
  },
  {
   "cell_type": "code",
   "execution_count": 59,
   "id": "faced6b8",
   "metadata": {
    "scrolled": true
   },
   "outputs": [
    {
     "name": "stderr",
     "output_type": "stream",
     "text": [
      "100%|█████████████████████████████████████████████████████████████████████████████| 297/297 [00:00<00:00, 106198.49it/s]\n"
     ]
    }
   ],
   "source": [
    "phrase_embeddings = embedding_extractor.compute_text_embeddings(phrases)"
   ]
  },
  {
   "cell_type": "code",
   "execution_count": 11,
   "id": "9655869e",
   "metadata": {},
   "outputs": [
    {
     "data": {
      "text/plain": [
       "38"
      ]
     },
     "execution_count": 11,
     "metadata": {},
     "output_type": "execute_result"
    }
   ],
   "source": [
    "i = phrases.index('bullae')\n",
    "i"
   ]
  },
  {
   "cell_type": "code",
   "execution_count": 12,
   "id": "f2274b5a",
   "metadata": {},
   "outputs": [],
   "source": [
    "idxs = rank_vectors_by_dot_product(fact_embeddings, phrase_embeddings[i])"
   ]
  },
  {
   "cell_type": "code",
   "execution_count": 14,
   "id": "2a29fcce",
   "metadata": {
    "scrolled": true
   },
   "outputs": [
    {
     "name": "stdout",
     "output_type": "stream",
     "text": [
      "bullae 0.99999994\n",
      "bulla 0.9935278\n",
      "bulla formation 0.990708\n",
      "blebs 0.9893153\n",
      "bleb 0.988828\n",
      "bullous changes 0.98770356\n",
      "bullous change 0.9871189\n",
      "cysts 0.9870987\n",
      "cystic changes 0.97311807\n",
      "cystic abnormalities 0.96693194\n",
      "paraseptal bullae 0.9661053\n",
      "blebectomy 0.9629918\n",
      "cystic lucencies 0.96020746\n",
      "unusual bulla 0.95713097\n",
      "pneumatocele 0.9561011\n",
      "areas of bullous change 0.9550576\n",
      "sebaceous cyst 0.9536319\n",
      "underlying bleb 0.95282066\n",
      "multiple bullae 0.9515826\n",
      "bullous disease 0.95083356\n",
      "multiple bulla 0.9505608\n",
      "pneumatocele formation 0.94924504\n",
      "PROMINENT bullous change 0.94900554\n",
      "bipical blebs 0.94535685\n",
      "bullae in the lungs 0.9449865\n",
      "prominent bullous formation in the region 0.9439609\n",
      "pneumatoceles 0.9427241\n",
      "multiple blebs 0.9425837\n",
      "seed cysts 0.93939626\n",
      "known bleb in the region 0.93627673\n",
      "bullae filled with fluid 0.93498886\n",
      "bulla within the lungs 0.93294966\n",
      "bulla formation in the lungs 0.9322265\n",
      "evidence of bullous disease 0.93140024\n",
      "bullas in the lungs 0.93029946\n",
      "several large bullae 0.9298261\n",
      "bullous disease in the lungs 0.9261691\n",
      "large bulla 0.9242734\n",
      "cyst in the wall 0.92255247\n",
      "scattered cystic lucencies 0.92105186\n",
      "superficial cystic mass 0.9194695\n",
      "cicatricial cysts 0.9185723\n",
      "large bullae 0.9182742\n",
      "regions of bullous emphysema 0.91626\n",
      "Multilevel Tarlov cysts 0.9160201\n",
      "extensive bullous disease 0.9143393\n",
      "cystic spaces due to pneumatoceles 0.90936524\n",
      "large bleb in the lungs 0.90919495\n",
      "small cystic areas 0.90862197\n",
      "background bullous changes 0.90738547\n",
      "pulmonary blebs 0.9053358\n",
      "small bulla 0.90204656\n",
      "extensive background bullous change 0.9000649\n",
      "congenital bullous anomaly 0.8979478\n",
      "underlying bullous disease 0.89784026\n",
      "bullous emphysematous changes 0.8975559\n",
      "bulla bilaterally 0.89740837\n",
      "thin-walled cystic lucencies reflecting bullae 0.8969358\n",
      "known bullous changes 0.8968649\n",
      "suggestion of pneumatocele 0.89681196\n",
      "representation of a sebaceous cyst 0.8960101\n",
      "pneumatoceles in the lungs 0.89582473\n",
      "bullous emphysema 0.8916229\n",
      "subchondral cystic changes 0.89121014\n",
      "marked bullous emphysema 0.88991916\n",
      "large paraseptal bulla 0.8895923\n",
      "suggestive of bullous disease 0.8882979\n",
      "adjacent fluid-filled bulla 0.887596\n",
      "severe bullous disease 0.8857014\n",
      "appearance suggesting bullae 0.8854214\n",
      "fluid-filled pneumatocele 0.88489825\n",
      "diffuse thin walled cysts within the lung parenchyma 0.8844917\n",
      "septation of the known bullous 0.88401324\n",
      "extensive bullous emphysema in this region 0.8835707\n",
      "extensive bullous emphysema 0.8818971\n",
      "significant bullous emphysema 0.8818697\n",
      "thin-walled cyst that is either a bulla or pneumatocele 0.88178587\n",
      "appearance suggesting blebs 0.88164747\n",
      "bullous changes throughout the lung fields 0.87793005\n",
      "thin-walled cystic lucencies reflecting pneumatoceles 0.8767238\n",
      "subpleural cysts 0.87373066\n",
      "probable bullous changes 0.87251586\n",
      "scattered small cystic lucencies 0.87217146\n",
      "concern for bulla 0.8710222\n",
      "subchondral cysts 0.8703218\n",
      "likely from blebs 0.8645196\n",
      "diffuse cystic lung disease 0.8640576\n",
      "bullous emphysema in the lungs 0.86067677\n",
      "cystic change seen peripherally bilaterally 0.8575905\n",
      "emphysema bullous changes 0.85732615\n",
      "suggestion of a bleb as the etiology 0.85711104\n",
      "relative lucency reflecting bullous change 0.85632694\n",
      "congenital cystic lesions 0.85618174\n",
      "suggestive of possible bullous change 0.8559811\n",
      "fluid retained in the cystic spaces 0.855371\n",
      "lucencies consistent with blebs 0.8543009\n",
      "bulla with an air-fluid level adjacent to this area 0.8522266\n",
      "presence of bullous emphysema 0.8517031\n",
      "multiple bulla throughout both lungs 0.8508649\n",
      "calcified liver cyst 0.8503906\n"
     ]
    }
   ],
   "source": [
    "for k in range(100):\n",
    "    print(all_facts[idxs[k]], np.dot(fact_embeddings[idxs[k]], phrase_embeddings[i]))"
   ]
  },
  {
   "cell_type": "code",
   "execution_count": 611,
   "id": "ee3a40e2",
   "metadata": {},
   "outputs": [
    {
     "name": "stderr",
     "output_type": "stream",
     "text": [
      "100%|██████████████████████████████████████████████████████████████████████████████████| 1/1 [00:00<00:00, 14266.34it/s]\n"
     ]
    },
    {
     "name": "stdout",
     "output_type": "stream",
     "text": [
      "Computing embeddings for 1 new texts\n",
      "checkpoint_names = ['checkpoint_196_cacc+chf1+chf1+cscc+encc+hscc+nlcc+sass+spss+ta0)+ta1)+ta2)+ta0)+ta1)+ta2)+ta3)+ta4)+ta5)+ta6)+ta7)=0.9189.pt']\n",
      "Loading model weights from /mnt/data/pamessina/workspaces/medvqa-workspace/models/fact_embedding/20240629_084405_MIMIC-CXR(triplets+classif+entcont+nli+radgraph+autoencoder)_FactEncoder(microsoft-BiomedVLP-CXR-BERT-specialized)/checkpoint_196_cacc+chf1+chf1+cscc+encc+hscc+nlcc+sass+spss+ta0)+ta1)+ta2)+ta0)+ta1)+ta2)+ta3)+ta4)+ta5)+ta6)+ta7)=0.9189.pt\n",
      "\u001b[93mWarning: model state dict has 210 keys, loaded state dict has 257 keys, intersection has 210 keys, union has 257 keys.\u001b[0m\n",
      "\u001b[93mExamples of keys in loaded state dict but not in model:\u001b[0m\n",
      "\u001b[93m  nli_classifier.bias\u001b[0m\n",
      "\u001b[93m  fact_decoder_input_layer.bias\u001b[0m\n",
      "\u001b[93m  health_status_classifier.weight\u001b[0m\n",
      "\u001b[93m  fact_decoder.decoder.layers.0.norm1.bias\u001b[0m\n",
      "\u001b[93m  category_classifier.weight\u001b[0m\n",
      "\u001b[93m  chest_imagenome_obs_classifier.weight\u001b[0m\n",
      "\u001b[93m  fact_decoder_input_layer.weight\u001b[0m\n",
      "\u001b[93m  spert_size_embeddings.weight\u001b[0m\n",
      "\u001b[93m  fact_decoder.decoder.layers.0.multihead_attn.out_proj.bias\u001b[0m\n",
      "\u001b[93m  fact_decoder.decoder.layers.0.self_attn.out_proj.weight\u001b[0m\n"
     ]
    },
    {
     "name": "stderr",
     "output_type": "stream",
     "text": [
      "100%|█████████████████████████████████████████████████████████████████████████████████████| 1/1 [00:00<00:00, 81.57it/s]\n",
      "100%|██████████████████████████████████████████████████████████████████████████████████| 1/1 [00:00<00:00, 15363.75it/s]\n"
     ]
    }
   ],
   "source": [
    "# query = 'cavity'\n",
    "# query_embedding = embedding_extractor.compute_text_embeddings([query], update_cache_on_disk=False)[0]\n",
    "# queries = [\n",
    "#     'cavity',\n",
    "#     'lung cavity',\n",
    "#     'cavitating lesion',\n",
    "#     'cavitation',\n",
    "# ]\n",
    "queries = [\n",
    "    'enlarged PA',\n",
    "#     'batwing shadowing',\n",
    "#     'airspace shadowing',\n",
    "#     'alveolar shadowing',\n",
    "]\n",
    "query_embeddings = embedding_extractor.compute_text_embeddings(queries, update_cache_on_disk=False)"
   ]
  },
  {
   "cell_type": "code",
   "execution_count": 612,
   "id": "3e42f374",
   "metadata": {},
   "outputs": [],
   "source": [
    "# idxs = rank_vectors_by_dot_product(fact_embeddings, query_embedding)\n",
    "idxs = rank_vectors_by_average_dot_product(fact_embeddings, query_embeddings)"
   ]
  },
  {
   "cell_type": "code",
   "execution_count": 581,
   "id": "3eb85c30",
   "metadata": {},
   "outputs": [
    {
     "name": "stderr",
     "output_type": "stream",
     "text": [
      "100%|███████████████████████████████████████████████████████████████████████| 591920/591920 [00:03<00:00, 159476.66it/s]\n"
     ]
    },
    {
     "data": {
      "text/plain": [
       "533"
      ]
     },
     "execution_count": 581,
     "metadata": {},
     "output_type": "execute_result"
    }
   ],
   "source": [
    "from tqdm import tqdm\n",
    "regex = load_class_specific_regex('VinDr-CXR', \"Tuberculosis\")\n",
    "filtered = [f for f in tqdm(all_facts, mininterval=2) if regex.search(f)]\n",
    "len(filtered)"
   ]
  },
  {
   "cell_type": "code",
   "execution_count": 585,
   "id": "f3864504",
   "metadata": {
    "scrolled": true
   },
   "outputs": [
    {
     "data": {
      "text/plain": [
       "['no TB reactive a shin',\n",
       " 'no radiographic evidence to suggest tuberculosis',\n",
       " 'no non-active TB',\n",
       " 'linear scarring pattern potentially reflecting old tuberculous disease',\n",
       " 'possible reactivation tuberculosis in the right upper lobe',\n",
       " 'no radiographic evidence for active pulmonary TB',\n",
       " 'no findings to suggest latent pulmonary tuberculosis infection',\n",
       " 'no radiographic evidence of latent pulmonary tuberculosis infection',\n",
       " 'likely old tuberculous disease in bilateral apices',\n",
       " 'no evidence of inactive TB',\n",
       " 'no known recent TB',\n",
       " 'TB is less likely',\n",
       " 'no evidence of old tuberculous disease',\n",
       " 'residual of tuberculosis in the right lung apex',\n",
       " 'no evidence of tuberculous infection',\n",
       " 'no radiographic evidence of latent tuberculosis',\n",
       " 'nodules related to prior TB',\n",
       " 'no signs of non-active tuberculosis',\n",
       " 'reticular changes consistent with known provided history of active tuberculosis',\n",
       " 'findings suggestive of old tuberculosis infection',\n",
       " 'calcifications consistent with history of prior TB exposure',\n",
       " 'no findings to suggest reactivation TB',\n",
       " 'no acute tuberculous disease identified',\n",
       " 'prior exposure to granulomatous disease such as tuberculosis',\n",
       " 'no findings to suggest active TB',\n",
       " 'nontuberculous infection',\n",
       " 'no parenchymal changes suggestive of active TB',\n",
       " 'no evidence of pulmonary tuberculosis',\n",
       " 'worrisome for tuberculosis',\n",
       " 'no abnormality to suggest chronic tuberculosis',\n",
       " 'biapical pleural thickening suggestive of old tuberculous exposure',\n",
       " 'concerning for infectious process such as tuberculosis',\n",
       " 'lingula without findings suggesting reactivation tuberculosis',\n",
       " 'indolent infection such as miliary tuberculosis in the left lower',\n",
       " 'TB',\n",
       " 'lungs without radiographic evidence of latent TB',\n",
       " 'no findings to confirm the presence of pulmonary TB',\n",
       " 'no definite findings to suggest active tuberculosis',\n",
       " 'findings typically seen in old TB',\n",
       " 'no sign of latent TB',\n",
       " 'infection such as miliary TB',\n",
       " 'possible tuberculosis',\n",
       " \"fibrotic changes consistent with patient's history of prior tuberculosis exposure\",\n",
       " 'no evidence of active pulmonary tuberculosis infection',\n",
       " 'lungs without active tuberculosis',\n",
       " 'no evidence of apical scar formations related to previous tuberculous infection of the lungs',\n",
       " 'no signs indicative of non-recent TB',\n",
       " 'micronodular opacities concerning for miliary tuberculosis',\n",
       " 'sequela of prior tuberculosis infection',\n",
       " 'no evidence of latent pulmonary tuberculosis']"
      ]
     },
     "execution_count": 585,
     "metadata": {},
     "output_type": "execute_result"
    }
   ],
   "source": [
    "import random\n",
    "random.sample(filtered, 50)"
   ]
  },
  {
   "cell_type": "code",
   "execution_count": 613,
   "id": "38f4ada0",
   "metadata": {
    "scrolled": true
   },
   "outputs": [
    {
     "name": "stdout",
     "output_type": "stream",
     "text": [
      "0.9308 enlargement of the main PA\n",
      "0.9117 substantially increased size\n",
      "0.9006 significantly increased size\n",
      "0.9001 dense for their size\n",
      "0.8989 greater size\n",
      "0.8986 expansion in the AP dimension\n",
      "0.8936 increased size of the abnormality\n",
      "0.8908 probably larger size\n",
      "0.8880 widening in the prior exam\n",
      "0.8852 enlargement compared to prior study\n",
      "0.8833 increased size from the prior CT\n",
      "0.8797 accentuated enlargement by the projection\n",
      "0.8787 changes in size\n",
      "0.8770 exaggerated size due to AP projection\n",
      "0.8769 increase in size\n",
      "0.8756 increased AP dimension\n",
      "0.8750 perceived enlargement\n",
      "0.8728 substantially enlarged\n",
      "0.8678 increased size\n",
      "0.8671 increased size compared to the prior study\n",
      "0.8642 prominent size\n",
      "0.8602 larger appearance\n",
      "0.8599 multichamber enlargement\n",
      "0.8550 contour appears enlarged\n",
      "0.8536 exaggerated enlargement due to the AP projection\n",
      "0.8536 enlarged size\n",
      "0.8530 large\n",
      "0.8487 increase in size compared to prior exam\n",
      "0.8480 large AP distance\n",
      "0.8464 increased size of the silhouette\n",
      "0.8436 enlarged\n",
      "0.8428 enlargement exaggerated by AP technique\n",
      "0.8425 enlargement likely accentuated by AP technique\n",
      "0.8421 fullness\n",
      "0.8415 larger regions today than on previous study\n",
      "0.8408 increased size of the cavity\n",
      "0.8407 increased widening over a larger studies\n",
      "0.8397 widening seen on the prior study\n",
      "0.8389 increase size since the prior study\n",
      "0.8387 substantial increase in size compared to prior study\n",
      "0.8382 enlarged appearance since the prior studies\n",
      "0.8359 substantial increase in size compared to the prior study\n",
      "0.8332 enlarged comparison to prior\n",
      "0.8316 prominence\n",
      "0.8312 increased volumes\n",
      "0.8298 vascular enlargement present\n",
      "0.8294 distension\n",
      "0.8292 more prominent\n",
      "0.8291 widening of the AP diameter\n",
      "0.8274 widened AP diameter\n"
     ]
    }
   ],
   "source": [
    "# for k in range(100):\n",
    "#     print(f'{np.dot(fact_embeddings[idxs[k]], query_embedding):.4f} {all_facts[idxs[k]]}')\n",
    "for k in range(50):\n",
    "#     k = -k-1\n",
    "    print(f'{np.dot(fact_embeddings[idxs[k]], query_embeddings.T).mean():.4f} {all_facts[idxs[k]]}')"
   ]
  },
  {
   "cell_type": "code",
   "execution_count": 340,
   "id": "86b6c757",
   "metadata": {
    "scrolled": false
   },
   "outputs": [
    {
     "name": "stdout",
     "output_type": "stream",
     "text": [
      "\u001b[1m\u001b[34mRunning _find_facts_similar_to_anchor_facts()...\u001b[0m\n",
      "len(anchor_facts): 297\n",
      "min_similarity_threshold: 0.65\n",
      "Loading /home/pamessina/medvqa-workspace/cache/mimiccxr/integrated_fact_metadata(606074,61621903).jsonl...\n",
      "Loaded 505377 facts (skipped 100693 facts)\n",
      "len(facts) before removing invalid facts: 505377\n",
      "100%|█████████████████████████████████| 505377/505377 [01:05<00:00, 7694.00it/s]\n",
      "len(facts) after removing invalid facts: 503311\n",
      "checkpoint_names = ['checkpoint_196_cacc+chf1+chf1+cscc+encc+hscc+nlcc+sass+spss+ta0)+ta1)+ta2)+ta0)+ta1)+ta2)+ta3)+ta4)+ta5)+ta6)+ta7)=0.9189.pt']\n",
      "  0%|                                                | 0/503311 [00:00<?, ?it/s]Loading cached text embeddings from /mnt/data/pamessina_folder_backup_15_10_24/pamessina/medvqa-workspace/cache/text_embeddings_cache(hash=469,680486110513564934).pkl\n",
      "len(self.cache[\"hashes\"]) = 702198\n",
      "self.cache[\"embeddings\"].shape = (702198, 128)\n",
      "100%|███████████████████████████████| 503311/503311 [00:01<00:00, 324126.43it/s]\n",
      "100%|█████████████████████████████████████| 297/297 [00:00<00:00, 208521.64it/s]\n",
      "fact_embeddings.shape: (503311, 128)\n",
      "anchor_fact_embeddings.shape: (297, 128)\n",
      "Finding similar facts...\n",
      "100%|████████████████████████████████████████| 297/297 [00:02<00:00, 100.83it/s]\n",
      "len(similar_facts): 198384\n",
      "Saving /mnt/data/pamessina_folder_backup_15_10_24/pamessina/medvqa-workspace/cache/mimiccxr_find_facts_similar_to_anchor_facts(af=297,sf=198384,sim_th=0.650)(hash=573,3696983295009554622).pkl...\n",
      "\u001b[1m\u001b[34mDone!\u001b[0m\n"
     ]
    }
   ],
   "source": [
    "!python ../../scripts/mimiccxr/find_pos_neg_facts_per_report_around_reference_classes.py \\\n",
    "--task \"find_facts_similar_to_anchor_facts\" \\\n",
    "--integrated_fact_metadata_jsonl_filepath \\\n",
    "\"/home/pamessina/medvqa-workspace/cache/mimiccxr/integrated_fact_metadata(606074,61621903).jsonl\" \\\n",
    "--fact_embedding_model_name \"microsoft/BiomedVLP-CXR-BERT-specialized\" \\\n",
    "--fact_embedding_model_checkpoint_folder_path \\\n",
    "\"/mnt/data/pamessina/workspaces/medvqa-workspace/models/fact_embedding/20240629_084405_MIMIC-CXR(triplets+classif+entcont+nli+radgraph+autoencoder)_FactEncoder(microsoft-BiomedVLP-CXR-BERT-specialized)\" \\\n",
    "--fact_embedding_batch_size 200 \\\n",
    "--fact_embedding_num_workers 4 \\\n",
    "--min_similarity_threshold 0.65"
   ]
  },
  {
   "cell_type": "code",
   "execution_count": 136,
   "id": "5c71b451",
   "metadata": {},
   "outputs": [
    {
     "name": "stdout",
     "output_type": "stream",
     "text": [
      "\u001b[1m\u001b[34mRunning _find_facts_similar_to_anchor_facts()...\u001b[0m\n",
      "len(anchor_facts): 297\n",
      "min_similarity_threshold: 0.5\n",
      "Loading /home/pamessina/medvqa-workspace/cache/mimiccxr/huggingface/integrated_fact_metadata(591920,209004293).jsonl...\n",
      "len(banned_facts): 112282\n",
      "Loaded 479638 unique facts (skipped 112282 facts)\n",
      "Loaded 250466 unique general facts\n",
      "checkpoint_names = ['checkpoint_196_cacc+chf1+chf1+cscc+encc+hscc+nlcc+sass+spss+ta0)+ta1)+ta2)+ta0)+ta1)+ta2)+ta3)+ta4)+ta5)+ta6)+ta7)=0.9189.pt']\n",
      "  0%|                                                | 0/479638 [00:00<?, ?it/s]Loading cached text embeddings from /mnt/data/pamessina_folder_backup_15_10_24/pamessina/medvqa-workspace/cache/text_embeddings_cache(hash=469,680486110513564934).pkl\n",
      "len(self.cache[\"hashes\"]) = 876541\n",
      "self.cache[\"embeddings\"].shape = (876541, 128)\n",
      "100%|███████████████████████████████| 479638/479638 [00:01<00:00, 293344.30it/s]\n",
      "100%|███████████████████████████████| 250466/250466 [00:00<00:00, 432146.02it/s]\n",
      "100%|█████████████████████████████████████| 297/297 [00:00<00:00, 157604.79it/s]\n",
      "unique_fact_embeddings.shape: (479638, 128)\n",
      "unique_general_fact_embeddings.shape: (250466, 128)\n",
      "anchor_fact_embeddings.shape: (297, 128)\n",
      "Finding similar facts...\n",
      "100%|█████████████████████████████████████████| 297/297 [00:10<00:00, 28.17it/s]\n",
      "100%|███████████████████████████████| 591920/591920 [00:01<00:00, 336063.79it/s]\n",
      "Saving /mnt/data/pamessina_folder_backup_15_10_24/pamessina/medvqa-workspace/cache/mimiccxr_find_facts_similar_to_anchor_facts(af=297,sf=416649,sgf=207909,sim_th=0.500)(hash=635,1389408443551332457).pkl...\n",
      "\u001b[1m\u001b[34mDone!\u001b[0m\n"
     ]
    }
   ],
   "source": [
    "!python ../../scripts/mimiccxr/find_pos_neg_facts_per_report_around_reference_classes.py \\\n",
    "--task \"find_facts_similar_to_anchor_facts\" \\\n",
    "--integrated_fact_metadata_jsonl_filepath \\\n",
    "\"/home/pamessina/medvqa-workspace/cache/mimiccxr/huggingface/integrated_fact_metadata(591920,209004293).jsonl\"\\\n",
    "--fact_embedding_model_name \"microsoft/BiomedVLP-CXR-BERT-specialized\" \\\n",
    "--fact_embedding_model_checkpoint_folder_path \\\n",
    "\"/mnt/data/pamessina/workspaces/medvqa-workspace/models/fact_embedding/20240629_084405_MIMIC-CXR(triplets+classif+entcont+nli+radgraph+autoencoder)_FactEncoder(microsoft-BiomedVLP-CXR-BERT-specialized)\" \\\n",
    "--fact_embedding_batch_size 200 \\\n",
    "--fact_embedding_num_workers 4 \\\n",
    "--min_similarity_threshold 0.5"
   ]
  },
  {
   "cell_type": "code",
   "execution_count": 2,
   "id": "8cfbf0ff",
   "metadata": {
    "scrolled": true
   },
   "outputs": [
    {
     "name": "stdout",
     "output_type": "stream",
     "text": [
      "\u001b[1m\u001b[34mRunning _find_facts_similar_to_anchor_facts()...\u001b[0m\n",
      "len(anchor_facts): 297\n",
      "min_similarity_threshold: 0.6\n",
      "Loading /home/pamessina/medvqa-workspace/cache/mimiccxr/huggingface/integrated_fact_metadata(591920,209004293).jsonl...\n",
      "Loaded 479638 unique facts (skipped 112282 facts)\n",
      "Loaded 252372 unique general facts\n",
      "checkpoint_names = ['checkpoint_196_cacc+chf1+chf1+cscc+encc+hscc+nlcc+sass+spss+ta0)+ta1)+ta2)+ta0)+ta1)+ta2)+ta3)+ta4)+ta5)+ta6)+ta7)=0.9189.pt']\n",
      "  0%|                                                | 0/479638 [00:00<?, ?it/s]Loading cached text embeddings from /mnt/data/pamessina_folder_backup_15_10_24/pamessina/medvqa-workspace/cache/text_embeddings_cache(hash=469,680486110513564934).pkl\n",
      "len(self.cache[\"hashes\"]) = 855787\n",
      "self.cache[\"embeddings\"].shape = (855787, 128)\n",
      "100%|███████████████████████████████| 479638/479638 [00:01<00:00, 298602.39it/s]\n",
      "100%|███████████████████████████████| 252372/252372 [00:00<00:00, 442395.44it/s]\n",
      "100%|█████████████████████████████████████| 297/297 [00:00<00:00, 260881.32it/s]\n",
      "unique_fact_embeddings.shape: (479638, 128)\n",
      "unique_general_fact_embeddings.shape: (252372, 128)\n",
      "anchor_fact_embeddings.shape: (297, 128)\n",
      "Finding similar facts...\n",
      "100%|█████████████████████████████████████████| 297/297 [00:16<00:00, 18.05it/s]\n",
      "Saving /mnt/data/pamessina_folder_backup_15_10_24/pamessina/medvqa-workspace/cache/mimiccxr_find_facts_similar_to_anchor_facts(af=297,sf=348502,sgf=163561,sim_th=0.600)(hash=635,3022033311261050615).pkl...\n",
      "\u001b[1m\u001b[34mDone!\u001b[0m\n"
     ]
    }
   ],
   "source": [
    "!python ../../scripts/mimiccxr/find_pos_neg_facts_per_report_around_reference_classes.py \\\n",
    "--task \"find_facts_similar_to_anchor_facts\" \\\n",
    "--integrated_fact_metadata_jsonl_filepath \\\n",
    "\"/home/pamessina/medvqa-workspace/cache/mimiccxr/huggingface/integrated_fact_metadata(591920,209004293).jsonl\"\\\n",
    "--fact_embedding_model_name \"microsoft/BiomedVLP-CXR-BERT-specialized\" \\\n",
    "--fact_embedding_model_checkpoint_folder_path \\\n",
    "\"/mnt/data/pamessina/workspaces/medvqa-workspace/models/fact_embedding/20240629_084405_MIMIC-CXR(triplets+classif+entcont+nli+radgraph+autoencoder)_FactEncoder(microsoft-BiomedVLP-CXR-BERT-specialized)\" \\\n",
    "--fact_embedding_batch_size 200 \\\n",
    "--fact_embedding_num_workers 4 \\\n",
    "--min_similarity_threshold 0.6"
   ]
  },
  {
   "cell_type": "code",
   "execution_count": 33,
   "id": "8b9edccc",
   "metadata": {},
   "outputs": [
    {
     "name": "stdout",
     "output_type": "stream",
     "text": [
      "\u001b[1m\u001b[34mRunning _find_facts_similar_to_anchor_facts()...\u001b[0m\n",
      "len(anchor_facts): 297\n",
      "min_similarity_threshold: 0.7\n",
      "Loading /home/pamessina/medvqa-workspace/cache/mimiccxr/huggingface/integrated_fact_metadata(591920,209004293).jsonl...\n",
      "Loaded 479638 unique facts (skipped 112282 facts)\n",
      "Loaded 252372 unique general facts\n",
      "checkpoint_names = ['checkpoint_196_cacc+chf1+chf1+cscc+encc+hscc+nlcc+sass+spss+ta0)+ta1)+ta2)+ta0)+ta1)+ta2)+ta3)+ta4)+ta5)+ta6)+ta7)=0.9189.pt']\n",
      "  0%|                                                | 0/479638 [00:00<?, ?it/s]Loading cached text embeddings from /mnt/data/pamessina_folder_backup_15_10_24/pamessina/medvqa-workspace/cache/text_embeddings_cache(hash=469,680486110513564934).pkl\n",
      "len(self.cache[\"hashes\"]) = 855787\n",
      "self.cache[\"embeddings\"].shape = (855787, 128)\n",
      "100%|███████████████████████████████| 479638/479638 [00:01<00:00, 297262.65it/s]\n",
      "100%|███████████████████████████████| 252372/252372 [00:00<00:00, 435967.21it/s]\n",
      "100%|█████████████████████████████████████| 297/297 [00:00<00:00, 264089.10it/s]\n",
      "unique_fact_embeddings.shape: (479638, 128)\n",
      "unique_general_fact_embeddings.shape: (252372, 128)\n",
      "anchor_fact_embeddings.shape: (297, 128)\n",
      "Finding similar facts...\n",
      "100%|█████████████████████████████████████████| 297/297 [00:06<00:00, 43.28it/s]\n",
      "Saving /mnt/data/pamessina_folder_backup_15_10_24/pamessina/medvqa-workspace/cache/mimiccxr_find_facts_similar_to_anchor_facts(af=297,sf=264712,sgf=112403,sim_th=0.700)(hash=635,4083500793166322646).pkl...\n",
      "\u001b[1m\u001b[34mDone!\u001b[0m\n"
     ]
    }
   ],
   "source": [
    "!python ../../scripts/mimiccxr/find_pos_neg_facts_per_report_around_reference_classes.py \\\n",
    "--task \"find_facts_similar_to_anchor_facts\" \\\n",
    "--integrated_fact_metadata_jsonl_filepath \\\n",
    "\"/home/pamessina/medvqa-workspace/cache/mimiccxr/huggingface/integrated_fact_metadata(591920,209004293).jsonl\" \\\n",
    "--fact_embedding_model_name \"microsoft/BiomedVLP-CXR-BERT-specialized\" \\\n",
    "--fact_embedding_model_checkpoint_folder_path \\\n",
    "\"/mnt/data/pamessina/workspaces/medvqa-workspace/models/fact_embedding/20240629_084405_MIMIC-CXR(triplets+classif+entcont+nli+radgraph+autoencoder)_FactEncoder(microsoft-BiomedVLP-CXR-BERT-specialized)\" \\\n",
    "--fact_embedding_batch_size 200 \\\n",
    "--fact_embedding_num_workers 4 \\\n",
    "--min_similarity_threshold 0.7"
   ]
  },
  {
   "cell_type": "code",
   "execution_count": 149,
   "id": "f7a9fc64",
   "metadata": {},
   "outputs": [
    {
     "name": "stdout",
     "output_type": "stream",
     "text": [
      "-rw-rw-r-- 1 pamessina socvis 42M Jan  7 16:41 '/mnt/data/pamessina_folder_backup_15_10_24/pamessina/medvqa-workspace/cache/mimiccxr_find_facts_similar_to_anchor_facts(af=297,sf=416649,sgf=207909,sim_th=0.500)(hash=635,1389408443551332457).pkl'\r\n"
     ]
    }
   ],
   "source": [
    "!ls -lh \"/mnt/data/pamessina_folder_backup_15_10_24/pamessina/medvqa-workspace/cache/mimiccxr_find_facts_similar_to_anchor_facts(af=297,sf=416649,sgf=207909,sim_th=0.500)(hash=635,1389408443551332457).pkl\""
   ]
  },
  {
   "cell_type": "code",
   "execution_count": 64,
   "id": "9d9aee1c",
   "metadata": {},
   "outputs": [],
   "source": [
    "tmp = load_pickle(\"/mnt/data/pamessina_folder_backup_15_10_24/pamessina/medvqa-workspace/cache/mimiccxr_find_facts_similar_to_anchor_facts(af=297,sf=416649,sgf=207909,sim_th=0.500)(hash=635,1389408443551332457).pkl\")"
   ]
  },
  {
   "cell_type": "code",
   "execution_count": 65,
   "id": "cdade7eb",
   "metadata": {},
   "outputs": [
    {
     "data": {
      "text/plain": [
       "dict_keys(['anchor_facts', 'preserved_general_facts', 'preserved_facts', 'most_similar_to_fact', 'most_similar_to_general_fact'])"
      ]
     },
     "execution_count": 65,
     "metadata": {},
     "output_type": "execute_result"
    }
   ],
   "source": [
    "tmp.keys()"
   ]
  },
  {
   "cell_type": "code",
   "execution_count": 67,
   "id": "2b9fc2ad",
   "metadata": {},
   "outputs": [
    {
     "data": {
      "text/plain": [
       "(416649, 207909)"
      ]
     },
     "execution_count": 67,
     "metadata": {},
     "output_type": "execute_result"
    }
   ],
   "source": [
    "len(tmp['preserved_facts']), len(tmp['preserved_general_facts'])"
   ]
  },
  {
   "cell_type": "code",
   "execution_count": 75,
   "id": "807b157a",
   "metadata": {},
   "outputs": [
    {
     "data": {
      "text/plain": [
       "550410"
      ]
     },
     "execution_count": 75,
     "metadata": {},
     "output_type": "execute_result"
    }
   ],
   "source": [
    "len(set(tmp['preserved_facts']) | set(tmp['preserved_general_facts']))"
   ]
  },
  {
   "cell_type": "code",
   "execution_count": 142,
   "id": "d0132799",
   "metadata": {},
   "outputs": [
    {
     "data": {
      "text/plain": [
       "265832"
      ]
     },
     "execution_count": 142,
     "metadata": {},
     "output_type": "execute_result"
    }
   ],
   "source": [
    "tmp['preserved_facts'].index('pneumothorax')"
   ]
  },
  {
   "cell_type": "code",
   "execution_count": 143,
   "id": "81e16770",
   "metadata": {},
   "outputs": [
    {
     "data": {
      "text/plain": [
       "252"
      ]
     },
     "execution_count": 143,
     "metadata": {},
     "output_type": "execute_result"
    }
   ],
   "source": [
    "class_idx = tmp['anchor_facts'].index('reticulation')\n",
    "class_idx"
   ]
  },
  {
   "cell_type": "code",
   "execution_count": 144,
   "id": "f87dcfb0",
   "metadata": {},
   "outputs": [
    {
     "data": {
      "text/plain": [
       "(42, 33)"
      ]
     },
     "execution_count": 144,
     "metadata": {},
     "output_type": "execute_result"
    }
   ],
   "source": [
    "idxs1 = [i for i, x in enumerate(tmp['most_similar_to_general_fact']) if x is not None and x[1] == class_idx]\n",
    "idxs1.sort(key=lambda idx: tmp['most_similar_to_general_fact'][idx][0], reverse=True)\n",
    "idxs2 = [i for i, x in enumerate(tmp['most_similar_to_fact']) if x is not None and x[1] == class_idx]\n",
    "idxs2.sort(key=lambda idx: tmp['most_similar_to_fact'][idx][0], reverse=True)\n",
    "len(idxs1), len(idxs2)"
   ]
  },
  {
   "cell_type": "code",
   "execution_count": 145,
   "id": "373d0847",
   "metadata": {
    "scrolled": true
   },
   "outputs": [
    {
     "name": "stdout",
     "output_type": "stream",
     "text": [
      "0.9706587791442871\treticular prominence (reticulation)\n",
      "0.970277726650238\treticulation seen (reticulation)\n",
      "0.9595723748207092\tbackground reticulation (reticulation)\n",
      "0.958702564239502\treticulation pattern observed (reticulation)\n",
      "0.9443132877349854\tconspicuity of reticular architecture (reticulation)\n",
      "0.9388192892074585\tcoarse reticulation (reticulation)\n",
      "0.9381308555603027\tprominent reticular pattern (reticulation)\n",
      "0.9291142225265503\tcoarse reticulations (reticulation)\n",
      "0.9289706945419312\tinterstitial abnormality with B-lines (reticulation)\n",
      "0.9217033386230469\tinterstitial abnormality including B-lines (reticulation)\n",
      "0.9206329584121704\tcortical reticulation (reticulation)\n",
      "0.9119927883148193\treticulation most pronounced (reticulation)\n",
      "0.9075450301170349\tgeneralized reticulation (reticulation)\n",
      "0.9017454981803894\tdense streak (reticulation)\n",
      "0.8959839344024658\tcoarse markings (reticulation)\n",
      "0.8754942417144775\tnew reticular pattern (reticulation)\n",
      "0.8647550344467163\tcoarsened markings (reticulation)\n",
      "0.8581036329269409\tnew reticulation (reticulation)\n",
      "0.8438680171966553\tprominent tissue markings (reticulation)\n",
      "0.8411478400230408\tcoarse markings present (reticulation)\n",
      "0.8379271030426025\tcalcified parenchymal changes (reticulation)\n",
      "0.8165963888168335\tstringy appearance (reticulation)\n",
      "0.8043386340141296\tvertical linear markings (reticulation)\n",
      "0.7947496175765991\tdiffuse coarse linear abnormality (reticulation)\n",
      "0.7716032862663269\tparenchymal component (reticulation)\n",
      "0.7668924331665039\tdiffuse linear pattern (reticulation)\n",
      "0.766815185546875\tlinear density in soft tissues (reticulation)\n",
      "0.7664911150932312\tlinear radiopaque density in soft tissues (reticulation)\n",
      "0.7661618590354919\tlinear densities in soft tissues (reticulation)\n",
      "0.7648159265518188\tadjacent parenchymal abnormality (reticulation)\n",
      "0.747180163860321\tclustered vascular markings (reticulation)\n",
      "0.728037416934967\tmetallic linear density in soft tissues (reticulation)\n",
      "0.7180294990539551\tlinear markings likely due to external factors (reticulation)\n",
      "0.6970354914665222\tstaple lines (reticulation)\n",
      "0.6899299621582031\tlinear densities related to wedge resection (reticulation)\n",
      "0.6767457723617554\tband-like appearance on PA view (reticulation)\n",
      "0.6429980993270874\tsuture lines visualized (reticulation)\n",
      "0.641970157623291\tcurvilinear density may be related to overlying material (reticulation)\n",
      "0.6068093776702881\tstreaky opacity possibly due to vascular overlap (reticulation)\n",
      "0.573235273361206\tclips at the thoracic inlet (reticulation)\n",
      "0.5437530279159546\ttunneled line present (reticulation)\n",
      "0.5343649983406067\tintravenous contrast seen within the kidneys (reticulation)\n"
     ]
    }
   ],
   "source": [
    "for i in range(0, min(200, len(idxs1))):\n",
    "    i = idxs1[i]\n",
    "    anc = tmp['anchor_facts'][tmp['most_similar_to_general_fact'][i][1]]\n",
    "    fac = tmp['preserved_general_facts'][i]\n",
    "    sim = tmp['most_similar_to_general_fact'][i][0]\n",
    "    print(f'{sim}\\t{fac} ({anc})')"
   ]
  },
  {
   "cell_type": "code",
   "execution_count": 146,
   "id": "74ea6af9",
   "metadata": {
    "scrolled": true
   },
   "outputs": [
    {
     "name": "stdout",
     "output_type": "stream",
     "text": [
      "0.9797871708869934\treticulations (reticulation)\n",
      "0.9560151100158691\tsuperimposed reticulation (reticulation)\n",
      "0.9431335926055908\treticular prominence process (reticulation)\n",
      "0.9428203701972961\tconspicuity of the reticular architecture (reticulation)\n",
      "0.9388192892074585\tcoarse reticulation (reticulation)\n",
      "0.9289706945419312\tinterstitial abnormality with B-lines (reticulation)\n",
      "0.9217033386230469\tinterstitial abnormality including B-lines (reticulation)\n",
      "0.8746028542518616\tinterstitial abnormality best seen on the lateral view (reticulation)\n",
      "0.8647550344467163\tcoarsened markings (reticulation)\n",
      "0.8438680171966553\tprominent tissue markings (reticulation)\n",
      "0.838477373123169\tintraparenchymal abnormalities (reticulation)\n",
      "0.8379271030426025\tcalcified parenchymal changes (reticulation)\n",
      "0.8340967893600464\tintraparenchymal abnormality (reticulation)\n",
      "0.804874062538147\tB-lines compared with the prior radiograph (reticulation)\n",
      "0.7993770241737366\tdiffuse interstitial abnormality in the lateral view (reticulation)\n",
      "0.7954308986663818\tsuperimposed linear vascular markings (reticulation)\n",
      "0.7716032862663269\tparenchymal component (reticulation)\n",
      "0.7650715112686157\tlinear markings likely represented overlying hair or fabric (reticulation)\n",
      "0.7648159265518188\tadjacent parenchymal abnormality (reticulation)\n",
      "0.7444836497306824\tparenchymal abnormalities visualized on CT examination (reticulation)\n",
      "0.7198226451873779\tprominent ascending shadow (reticulation)\n",
      "0.7135598063468933\tinterstitial markings seen on scout image from CT (reticulation)\n",
      "0.7104693651199341\tdiffuse prominence of the vascular markings (reticulation)\n",
      "0.6675276756286621\tmultiple suture lines throughout the right lung (reticulation)\n",
      "0.6620846390724182\tcurvilinear density may be related to some overlying material (reticulation)\n",
      "0.6542038917541504\tnew upper-lobe predominant reticular pattern (reticulation)\n",
      "0.6537691354751587\tband-like appearance on the PA view (reticulation)\n",
      "0.6512026786804199\tchain suture probably in the lingula (reticulation)\n",
      "0.6429980993270874\tsuture lines visualized (reticulation)\n",
      "0.6139010787010193\tmicrocalcifications better characterized on the prior CT chest (reticulation)\n",
      "0.5970557928085327\tnew radiopaque linear foreign bodies compared to prior (reticulation)\n",
      "0.560148298740387\tsuture lines projecting over the right upper chest (reticulation)\n",
      "0.5343649983406067\tintravenous contrast seen within the kidneys (reticulation)\n"
     ]
    }
   ],
   "source": [
    "for i in range(0, min(200, len(idxs2))):\n",
    "    i = idxs2[i]\n",
    "    anc = tmp['anchor_facts'][tmp['most_similar_to_fact'][i][1]]\n",
    "    fac = tmp['preserved_facts'][i]\n",
    "    sim = tmp['most_similar_to_fact'][i][0]\n",
    "    print(f'{sim}\\t{fac} ({anc})')"
   ]
  },
  {
   "cell_type": "code",
   "execution_count": 443,
   "id": "90103b50",
   "metadata": {},
   "outputs": [
    {
     "name": "stdout",
     "output_type": "stream",
     "text": [
      "{'fact': 'right lower lobe consolidation', 'metadata': {'anatomical location': 'right lower lobe', 'detailed observation': 'consolidation', 'short observation': 'consolidation', 'category': 'anatomical finding', 'health status': 'abnormal', 'prev_study_comparison?': 'no', 'comparison status': ''}, 'extraction_method': 'gpt-3.5-turbo-0613'}\n"
     ]
    }
   ],
   "source": [
    "for x in integrated_fact_metadata:\n",
    "    if x['fact'] == \"right lower lobe consolidation\":\n",
    "        print(x)\n",
    "        break"
   ]
  },
  {
   "cell_type": "code",
   "execution_count": 150,
   "id": "8964f0f9",
   "metadata": {
    "scrolled": true
   },
   "outputs": [
    {
     "name": "stdout",
     "output_type": "stream",
     "text": [
      "\u001b[1m\u001b[34mRunning _find_positive_negative_facts_per_report_with_fact_embeddings_and_mlp_nli()...\u001b[0m\n",
      "Reading /home/pamessina/medvqa-workspace/cache/mimiccxr/integrated_report_facts(79040140).jsonl...\n",
      "n_reports: 227835\n",
      "len(all_facts): 586352\n",
      "Loading /home/pamessina/medvqa-workspace/cache/mimiccxr/huggingface/integrated_fact_metadata(591920,209004293).jsonl...\n",
      "len(all_facts): 769532\n",
      "Loading /mnt/data/pamessina_folder_backup_15_10_24/pamessina/medvqa-workspace/cache/mimiccxr_find_facts_similar_to_anchor_facts(af=297,sf=416649,sgf=207909,sim_th=0.500)(hash=635,1389408443551332457).pkl...\n",
      "len(preserved_facts): 416649\n",
      "len(preserved_general_facts): 207909\n",
      "len(all_facts): 769532\n",
      "checkpoint_names = ['checkpoint_196_cacc+chf1+chf1+cscc+encc+hscc+nlcc+sass+spss+ta0)+ta1)+ta2)+ta0)+ta1)+ta2)+ta3)+ta4)+ta5)+ta6)+ta7)=0.9189.pt']\n",
      "  0%|                                                | 0/769532 [00:00<?, ?it/s]Loading cached text embeddings from /mnt/data/pamessina_folder_backup_15_10_24/pamessina/medvqa-workspace/cache/text_embeddings_cache(hash=469,680486110513564934).pkl\n",
      "len(self.cache[\"hashes\"]) = 876541\n",
      "self.cache[\"embeddings\"].shape = (876541, 128)\n",
      "100%|███████████████████████████████| 769532/769532 [00:02<00:00, 345918.66it/s]\n",
      "100%|███████████████████████████████| 550410/550410 [00:01<00:00, 453923.95it/s]\n",
      "all_fact_embeddings.shape: (769532, 128)\n",
      "similar_fact_embeddings.shape: (550410, 128)\n",
      "Clustering embeddings...\n",
      "Loading cached kmeans labels from /mnt/data/pamessina_folder_backup_15_10_24/pamessina/medvqa-workspace/cache/kmeans_labels(34393235,2940802466805005424).pkl\n",
      "len(cluster2simfidxs): 300\n",
      "len(nonempty_clusters): 300\n",
      "Assigning candidate negative facts to reports...\n",
      "100%|██████████████████████████████████| 227835/227835 [07:37<00:00, 497.55it/s]\n",
      "Computing softmaxes over candidate negative facts...\n",
      "100%|██████████████████████████████████| 227835/227835 [07:37<00:00, 497.55it/s]\n",
      "Computing softmaxes over candidate negative facts...\n",
      "metadata loaded from /mnt/data/pamessina/workspaces/medvqa-workspace/models/fact_embedding/20240731_002153_NLI(Embedding-based)_EmbeddingBasedNLI(128,512-256-128)/metadata.json\n",
      "metadata loaded from /mnt/data/pamessina/workspaces/medvqa-workspace/models/fact_embedding/20240731_002153_NLI(Embedding-based)_EmbeddingBasedNLI(128,512-256-128)/metadata.json\n",
      "Creating model\n",
      "EmbeddingBasedNLI\n",
      "  embedding_dim: 128\n",
      "  mlp_hidden_dims: [512, 256, 128]\n",
      "  dropout: 0.0\n",
      "\u001b[93m\u001b[1mWARNING: unused_kwargs: {'pretrained_checkpoint_folder_path': '/mnt/data/pamessina/workspaces/medvqa-workspace/models/fact_embedding/20240407_173847_NLI(Embedding-based)_EmbeddingBasedNLI(128,512-256-128)'}\u001b[0m\n",
      "Creating model\n",
      "EmbeddingBasedNLI\n",
      "  embedding_dim: 128\n",
      "  mlp_hidden_dims: [512, 256, 128]\n",
      "  dropout: 0.0\n",
      "\u001b[93m\u001b[1mWARNING: unused_kwargs: {'pretrained_checkpoint_folder_path': '/mnt/data/pamessina/workspaces/medvqa-workspace/models/fact_embedding/20240407_173847_NLI(Embedding-based)_EmbeddingBasedNLI(128,512-256-128)'}\u001b[0m\n",
      "Loading model weights from /mnt/data/pamessina/workspaces/medvqa-workspace/models/fact_embedding/20240731_002153_NLI(Embedding-based)_EmbeddingBasedNLI(128,512-256-128)\n",
      "checkpoint_names = ['checkpoint_55_nli_acc=0.7684.pt']\n",
      "Loading model weights from /mnt/data/pamessina/workspaces/medvqa-workspace/models/fact_embedding/20240731_002153_NLI(Embedding-based)_EmbeddingBasedNLI(128,512-256-128)/checkpoint_55_nli_acc=0.7684.pt\n",
      "Estimated output memory size: 2172.80 MB\n",
      "Computing softmaxes...\n",
      "  0%|                                                | 0/113918 [00:00<?, ?it/s]Loading model weights from /mnt/data/pamessina/workspaces/medvqa-workspace/models/fact_embedding/20240731_002153_NLI(Embedding-based)_EmbeddingBasedNLI(128,512-256-128)\n",
      "checkpoint_names = ['checkpoint_55_nli_acc=0.7684.pt']\n",
      "Loading model weights from /mnt/data/pamessina/workspaces/medvqa-workspace/models/fact_embedding/20240731_002153_NLI(Embedding-based)_EmbeddingBasedNLI(128,512-256-128)/checkpoint_55_nli_acc=0.7684.pt\n",
      "Estimated output memory size: 2172.80 MB\n",
      "Computing softmaxes...\n",
      "100%|███████████████████████████████████| 113918/113918 [32:21<00:00, 58.67it/s]\n",
      "100%|███████████████████████████████████| 113918/113918 [32:21<00:00, 58.67it/s]\n",
      "Filtering out negative facts with high entailment softmaxes...\n",
      "Filtering out negative facts with high entailment softmaxes...\n",
      "Number of valid negative facts: 101715051/113917500\n",
      "Percentage of valid negative facts: 89.29%\n",
      "Number of valid negative facts: 101715051/113917500\n",
      "Percentage of valid negative facts: 89.29%\n",
      "Average number of negative facts per report: 446.44\n",
      "Average number of negative facts per report: 446.44\n",
      "Saving /mnt/data/pamessina_folder_backup_15_10_24/pamessina/medvqa-workspace/cache/mimiccxr_dicom_id_to_pos_neg_facts(num_sim_facts=550410,num_clusters=300,max_neg=500,ent_th=0.172)(hash=997,752767386763313321).pkl...\n",
      "Saving /mnt/data/pamessina_folder_backup_15_10_24/pamessina/medvqa-workspace/cache/mimiccxr_dicom_id_to_pos_neg_facts(num_sim_facts=550410,num_clusters=300,max_neg=500,ent_th=0.172)(hash=997,752767386763313321).pkl...\n",
      "\u001b[1m\u001b[34mDone!\u001b[0m\n",
      "\u001b[1m\u001b[34mDone!\u001b[0m\n"
     ]
    }
   ],
   "source": [
    "!python ../../scripts/mimiccxr/find_pos_neg_facts_per_report_around_reference_classes.py \\\n",
    "--task \"find_positive_negative_facts_per_report_with_fact_embeddings_and_mlp_nli\" \\\n",
    "--integrated_report_facts_jsonl_filepath \\\n",
    "\"/home/pamessina/medvqa-workspace/cache/mimiccxr/integrated_report_facts(79040140).jsonl\" \\\n",
    "--integrated_fact_metadata_jsonl_filepath \\\n",
    "\"/home/pamessina/medvqa-workspace/cache/mimiccxr/huggingface/integrated_fact_metadata(591920,209004293).jsonl\" \\\n",
    "--facts_similar_to_anchor_facts_pickle_filepath \\\n",
    "\"/mnt/data/pamessina_folder_backup_15_10_24/pamessina/medvqa-workspace/cache/mimiccxr_find_facts_similar_to_anchor_facts(af=297,sf=416649,sgf=207909,sim_th=0.500)(hash=635,1389408443551332457).pkl\" \\\n",
    "--fact_embedding_model_name \"microsoft/BiomedVLP-CXR-BERT-specialized\" \\\n",
    "--fact_embedding_model_checkpoint_folder_path \\\n",
    "\"/mnt/data/pamessina/workspaces/medvqa-workspace/models/fact_embedding/20240629_084405_MIMIC-CXR(triplets+classif+entcont+nli+radgraph+autoencoder)_FactEncoder(microsoft-BiomedVLP-CXR-BERT-specialized)\" \\\n",
    "--fact_embedding_batch_size 200 \\\n",
    "--fact_embedding_num_workers 4 \\\n",
    "--mlp_batch_size 1000 \\\n",
    "--mlp_num_workers 4 \\\n",
    "--mlp_nli_checkpoint_folder_path \\\n",
    "\"/mnt/data/pamessina/workspaces/medvqa-workspace/models/fact_embedding/20240731_002153_NLI(Embedding-based)_EmbeddingBasedNLI(128,512-256-128)\" \\\n",
    "--mlp_nli_entailment_threshold 0.1723824292421341 \\\n",
    "--num_clusters 300 \\\n",
    "--max_negative_facts_per_report 500"
   ]
  },
  {
   "cell_type": "code",
   "execution_count": 15,
   "id": "ea311136",
   "metadata": {
    "scrolled": true
   },
   "outputs": [
    {
     "name": "stdout",
     "output_type": "stream",
     "text": [
      "-rw-rw-r-- 1 pamessina socvis 908M Jan  7 17:31 '/mnt/data/pamessina_folder_backup_15_10_24/pamessina/medvqa-workspace/cache/mimiccxr_dicom_id_to_pos_neg_facts(num_sim_facts=550410,num_clusters=300,max_neg=500,ent_th=0.172)(hash=997,752767386763313321).pkl'\r\n"
     ]
    }
   ],
   "source": [
    "!ls -lh \"/mnt/data/pamessina_folder_backup_15_10_24/pamessina/medvqa-workspace/cache/mimiccxr_dicom_id_to_pos_neg_facts(num_sim_facts=550410,num_clusters=300,max_neg=500,ent_th=0.172)(hash=997,752767386763313321).pkl\""
   ]
  },
  {
   "cell_type": "code",
   "execution_count": 16,
   "id": "f0a037a7",
   "metadata": {},
   "outputs": [],
   "source": [
    "aux = load_pickle('/mnt/data/pamessina_folder_backup_15_10_24/pamessina/medvqa-workspace/cache/mimiccxr_dicom_id_to_pos_neg_facts(num_sim_facts=550410,num_clusters=300,max_neg=500,ent_th=0.172)(hash=997,752767386763313321).pkl')"
   ]
  },
  {
   "cell_type": "code",
   "execution_count": 17,
   "id": "2ab567e7",
   "metadata": {},
   "outputs": [
    {
     "data": {
      "text/plain": [
       "dict_keys(['facts', 'embeddings', 'dicom_id_to_pos_neg_facts'])"
      ]
     },
     "execution_count": 17,
     "metadata": {},
     "output_type": "execute_result"
    }
   ],
   "source": [
    "aux.keys()"
   ]
  },
  {
   "cell_type": "code",
   "execution_count": 18,
   "id": "022cb9d9",
   "metadata": {},
   "outputs": [
    {
     "data": {
      "text/plain": [
       "769532"
      ]
     },
     "execution_count": 18,
     "metadata": {},
     "output_type": "execute_result"
    }
   ],
   "source": [
    "len(aux['facts'])"
   ]
  },
  {
   "cell_type": "code",
   "execution_count": 19,
   "id": "6c829bb6",
   "metadata": {},
   "outputs": [
    {
     "data": {
      "text/plain": [
       "(769532, 128)"
      ]
     },
     "execution_count": 19,
     "metadata": {},
     "output_type": "execute_result"
    }
   ],
   "source": [
    "aux['embeddings'].shape"
   ]
  },
  {
   "cell_type": "code",
   "execution_count": 20,
   "id": "57b1b1e1",
   "metadata": {},
   "outputs": [],
   "source": [
    "dicom_id_to_pos_neg_facts = aux['dicom_id_to_pos_neg_facts']"
   ]
  },
  {
   "cell_type": "code",
   "execution_count": 21,
   "id": "98aa3021",
   "metadata": {},
   "outputs": [],
   "source": [
    "dicom_ids = list(dicom_id_to_pos_neg_facts.keys())"
   ]
  },
  {
   "cell_type": "code",
   "execution_count": 7,
   "id": "8b1e67a7",
   "metadata": {},
   "outputs": [],
   "source": [
    "integrated_report_facts = load_jsonl('/home/pamessina/medvqa-workspace/cache/mimiccxr/integrated_report_facts(79040140).jsonl')"
   ]
  },
  {
   "cell_type": "code",
   "execution_count": 8,
   "id": "056004f6",
   "metadata": {},
   "outputs": [],
   "source": [
    "from medvqa.datasets.mimiccxr import get_detailed_metadata_for_dicom_id\n",
    "from medvqa.utils.files import read_txt\n",
    "from medvqa.utils.logging import print_bold"
   ]
  },
  {
   "cell_type": "code",
   "execution_count": 172,
   "id": "442eaaed",
   "metadata": {},
   "outputs": [
    {
     "data": {
      "text/plain": [
       "{'report_idx': 3051,\n",
       " 'background': 'indication: year old man s/p R thoracotomy w/ multiple wedge resections // R/O PTX post CT removal, please do around 2PM R/O PTX post CT removal, please do around 2PM.',\n",
       " 'findings': 'In comparison with the earlier study of this date, the right chest tube is been removed and there is no evidence of pneumothorax. Otherwise little change in the appearance of the heart and lungs.',\n",
       " 'impression': '',\n",
       " 'path': '/mnt/data/mimic-cxr/files/p10/p10405305/s59536698.txt',\n",
       " 'facts': ['right chest tube has been removed',\n",
       "  'no evidence of pneumothorax',\n",
       "  'little change in the appearance of the heart',\n",
       "  'little change in the appearance of the lungs'],\n",
       " 'fact_based_report': 'right chest tube has been removed. no evidence of pneumothorax. little change in the appearance of the heart. little change in the appearance of the lungs'}"
      ]
     },
     "execution_count": 172,
     "metadata": {},
     "output_type": "execute_result"
    }
   ],
   "source": [
    "integrated_report_facts[metadata['report_index']]"
   ]
  },
  {
   "cell_type": "code",
   "execution_count": 151,
   "id": "5ea0fa18",
   "metadata": {
    "scrolled": true
   },
   "outputs": [
    {
     "name": "stdout",
     "output_type": "stream",
     "text": [
      "{'report_index': 3051, 'part_id': 10, 'subject_id': 10405305, 'study_id': 59536698, 'dicom_id': '32503ac2-0f5e85a1-461b3f33-934b1604-b6ef3d15', 'view_pos': 'LL', 'split': 'train', 'filepath': '/mnt/data/mimic-cxr/files/p10/p10405305/s59536698.txt', 'dicom_id_view_pos_pairs': [('32503ac2-0f5e85a1-461b3f33-934b1604-b6ef3d15', 'LL'), ('ec8ff472-7a5c52c3-1c88fad5-4081d595-9dbe483a', 'AP')]}\n",
      "\n",
      "\n",
      "                                 FINAL REPORT\n",
      " EXAMINATION:  CHEST (PA AND LAT)\n",
      " \n",
      " INDICATION:  ___ year old man s/p R thoracotomy w/ multiple wedge resections \n",
      " // R/O PTX post CT removal, please do around 2PM      R/O PTX post CT removal,\n",
      " please do around 2PM\n",
      " \n",
      " IMPRESSION: \n",
      " \n",
      " In comparison with the earlier study of this date, the right chest tube is\n",
      " been removed and there is no evidence of pneumothorax.  Otherwise little\n",
      " change in the appearance of the heart and lungs.\n",
      "\n",
      "\n",
      "\n",
      "right chest tube has been removed. no evidence of pneumothorax. little change in the appearance of the heart. little change in the appearance of the lungs\n",
      "\n",
      "\u001b[1mAll facts:\u001b[0m\n",
      "['right chest tube has been removed', 'no evidence of pneumothorax', 'little change in the appearance of the heart', 'little change in the appearance of the lungs']\n",
      "\n",
      "\u001b[1mPositive facts:\u001b[0m\n",
      "['chest tube has been removed', 'change in appearance of the lungs', 'change in the appearance of the heart', 'little change in the appearance of the heart', 'little change in the appearance of the lungs']\n",
      "\n",
      "\u001b[1mExcluded positive facts:\u001b[0m\n",
      "['right chest tube has been removed', 'no evidence of pneumothorax']\n",
      "\n",
      "\u001b[1mNegative facts:\u001b[0m\n",
      "worsening of peribronchial consolidations\n",
      "nipple shadows in bilateral lower lobes\n",
      "calcification difficult to localize\n",
      "enteric tube within the fundus of the stomach\n",
      "left pectoral pacemaker has been removed\n",
      "extensive catheter wire projecting\n",
      "decreased size of left upper lobe consolidation\n",
      "extensive sclerotic metastases related to prostate cancer\n",
      "tracheostomy tube overlying the trachea\n",
      "possible pneumonia improvement over a short period of time\n",
      "opacity secondary to right breast implant\n",
      "lead extending into the right ventricle\n",
      "difficulty in defining areas of focal ground-glass opacification on prior bedside chest radiograph\n",
      "persistent considerable atelectasis of the left lower lobe\n",
      "loculated air-level in the midline\n",
      "unchanged severity of right lung parenchymal opacities\n",
      "tip of PICC line over proximal SVC\n",
      "increased opacification in the left midlung\n",
      "basal parenchymal consolidations\n",
      "lobulated appearance of the right greater left hemidiaphragms\n",
      "peribronchial infiltration in the lingula\n",
      "improved nodular opacities throughout the left lung\n",
      "evidence of chronic interstitial changes\n",
      "decrease of pulmonary edema bilaterally\n",
      "potentially vasculature engorgement in the azygos vein\n",
      "large amount of fluid in the right pleural space\n",
      "blunting most pronounced posteriorly\n",
      "presence of a fungus ball in a cavity\n",
      "esophageal drainage tube is looped in the hypopharynx\n",
      "punctate sclerotic focus projecting over the intersection of the left third anterior rib\n",
      "lead tip in the distal SVC\n",
      "large radiopaque lesion in the right hepatic lobe\n",
      "extensive air tracking along subcutaneous fascial planes bilaterally\n",
      "unchanged location of mediastinal surgical clips\n",
      "coarsened reticular markings within the right mid lung\n",
      "senile degeneration in the left hemidiaphragm\n",
      "multiple small loculated fluid collections\n",
      "limited visualization of air column\n",
      "vascular clips present from prior median sternotomy\n",
      "prior fracture of the eighth rib\n",
      "scattered consolidations within the lungs concerning for pneumonia\n",
      "pulmonary nodules concerning for metastatic disease\n",
      "slight interval decrease in the loculated left basal pneumothorax\n",
      "increased mass effect on the trachea\n",
      "possible atelectasis at the base of the left lung\n",
      "some left pleural thickening in the region of healed upper posterior rib fractures\n",
      "change in configuration of fractured wires\n",
      "pleural effusion without definitive laterality\n",
      "stent in the abdominal aorta\n",
      "largest lesion in the right middle lobe has increased in size from 2.3 x 3.2 cm to 3.1 x 4.1 cm\n",
      "unchanged right chest wall dual lead pacing device\n",
      "pulmonary edema of noncardiogenic origin\n",
      "increase in pulmonary vascular redistribution\n",
      "subtle deformity at the lateral arch of the right tenth rib\n",
      "decreased left lower lung atelectasis compared to prior study\n",
      "heart projects more midline than on prior exam\n",
      "position of the stent unchanged since prior chest x-ray\n",
      "nearly resolved moderate left pneumothorax\n",
      "left-sided basilar chest tube in place\n",
      "no significant change in the position of the support lines\n",
      "surgical clips projecting about the left lateral chest wall in the left breast\n",
      "pleural effusions have not increased\n",
      "new consolidative appearance\n",
      "infection in the upper lobe\n",
      "extensive opacification in lung fields\n",
      "Increased density over the hilus\n",
      "possible parenchymal contusion\n",
      "mild increase in right pulmonary vasculature\n",
      "persistent relative opacity over the lung\n",
      "unchanged ETT\n",
      "suggestion for further assessment of the left mid lung lesion\n",
      "difficulty identifying pulmonary nodules\n",
      "right internal jugular dialysis catheter present\n",
      "PICC line ends far from the left subclavian veins\n",
      "unchanged status after lobectomy\n",
      "asymmetric interstitial pulmonary abnormality\n",
      "multiple small densities\n",
      "tube cannot be traced beyond level of the thoracic inlet\n",
      "projection over the lateral left lung apex\n",
      "possible rib calcification\n",
      "improvement of bibasal consolidations\n",
      "minimal fluid overload at the right lung base\n",
      "obscuring right heart border\n",
      "atypical pneumonia not excluded\n",
      "possible pleural abnormality at the right lung base\n",
      "ET tube tip position change\n",
      "old fracture of the second right rib\n",
      "stable mild lower thoracic compression deformities\n",
      "nodular quality of basal interstitial pulmonary abnormality suggesting disseminated carcinomatosis\n",
      "findings suggestive of infectious etiology\n",
      "possible community acquired lung infection\n",
      "pulmonary opacifications in a patient with prior surgery\n",
      "left pectoral dual-chamber pacer terminates in the right atrium\n",
      "interval increase in subcutaneous emphysema involving the right lateral chest wall\n",
      "right upper lobe opacity has almost resolved\n",
      "clearing of a lower lung consolidation\n",
      "new pacemaker with leads in expected position of the RV\n",
      "interval progression of a mid thoracic vertebral body compression fracture\n",
      "large retrocardiac left mid-to-lower hemithorax opacity\n",
      "increased left hydro pneumothorax\n",
      "mild degree of left vascular overload\n",
      "curvilinear lucency about the gastric bubble\n",
      "left-sided stimulator seen\n",
      "multiple calcified nodules throughout the lungs are unchanged\n",
      "stable perihilar consolidative opacities\n",
      "irregular nodular pleural thickening progressed\n",
      "slight increase in lung markings in the right base\n",
      "stent projects in the right upper quadrant\n",
      "nasogastric drainage tube traced to the low esophagus\n",
      "possibility of partial small-bowel obstruction\n",
      "small area of air deep to the left hemi-diaphragm\n",
      "known pleural plaques are unchanged\n",
      "possibility of small effusion in the left posterior costophrenic angle\n",
      "multiple clips within the lower neck\n",
      "unchanged or minimally increased pleural effusion\n",
      "small meniscus in the lung\n",
      "presence of second esophageal tube\n",
      "almost complete resolution of the right lung opacities\n",
      "hyperinflation likely from emphysema\n",
      "improved opacities in both lungs\n",
      "pneumonia located in the right lower lobe\n",
      "appropriately positioned subclavian line tip\n",
      "possible enlarged lymph node\n",
      "exclusion of the right costophrenic angle on the frontal view\n",
      "unchanged scar in the right lung base\n",
      "generalized bony sclerosis\n",
      "presence of gas likely from prior surgery\n",
      "increasing possible pulmonary hemorrhage\n",
      "retrocardiac opacity not confirmed on lateral view\n",
      "possible concern for pulmonary embolism\n",
      "incompletely evaluated clavicle\n",
      "possible small airways disease at the lung bases\n",
      "interstitial markings accentuated by differences in technique\n",
      "possible old aspiration of barium\n",
      "decreased size of opacity along the left chest wall\n",
      "surgical packing material projects over the site\n",
      "residual primarily interstitial infiltration\n",
      "symmetrical severity of apical thickening\n",
      "left internal jugular vein catheter tip courses upward in the SVC\n",
      "fat-containing hernia\n",
      "blood in the endotracheal tube\n",
      "large area of opacification has substantially cleared\n",
      "mild vascular congestion medially\n",
      "opacification at the base of the left chest\n",
      "AP diameter of the chest could indicate COPD\n",
      "likely chronic atelectasis near the lateral costophrenic angle\n",
      "resolving pneumonia in the left lung base is a possibility\n",
      "limited assessment of the ribs\n",
      "pigtail projecting over the left upper quadrant\n",
      "subcutaneous emphysema along the left lower chest wall is unchanged\n",
      "IABP tip approximately 1.6 cm below the transverse arch of the aorta\n",
      "worsening multifocal pulmonary opacities within the left lower lobe\n",
      "incidental left lower lobe granuloma\n",
      "opacities representing early infection\n",
      "right residual Cordis\n",
      "worsening opacity in the posterior basilar segment of the left lower lobe\n",
      "cardiomyopathy with normal pulmonary vessels\n",
      "increase in severity of retrocardiac atelectasis\n",
      "small effusions remaining on the right\n",
      "no change in position of the pigtail drainage catheter\n",
      "interval re-expansion of portions of the lung\n",
      "increased opacification within the right mid lung zone\n",
      "tenting of bilateral diaphragms\n",
      "substantial interval increase in pleural effusions\n",
      "nodules better appreciated on the chest CT\n",
      "large osteophytes through the lower thoracic spine\n",
      "faint localized increase in density in the right lower lung on the frontal view\n",
      "skin folds in the chest wall\n",
      "improvement in interstitial lung edema\n",
      "hyperdense nodular opacity projecting over the left lung base\n",
      "pulmonary edema in a perihilar and mildly basal predominant fashion\n",
      "elevation of left mediastinal\n",
      "streak of opacification in the anterior portion on the lateral view\n",
      "endotracheal tube slightly high\n",
      "surgical clips in the chest are grossly unchanged\n",
      "suggestion of bullous emphysematous changes in both apices\n",
      "lesion seen on the frontal view\n",
      "enteric tube tip at the pylorus\n",
      "aneurysm of descending aorta\n",
      "5.5 cm mass\n",
      "ET tube malposition\n",
      "left-sided chest tube pigtail end is overlying the pleural sinus\n",
      "termination of the catheter at the low SVC\n",
      "pigtail catheter within abscess cavity\n",
      "residual left costophrenic angle small hydropneumothorax\n",
      "L sided PICC is stable in positioned terminating at cavoatrial jx\n",
      "areas of scarring at the right lung basis\n",
      "endotracheal tube tip approximately 2.3 cm above the carina\n",
      "increased bilateral pleural effusions\n",
      "haziness projecting over the left lower lobe\n",
      "bilateral perihilar ill-defined opacities\n",
      "PICC line unchanged radiographically\n",
      "pigtail catheter on the right is in place\n",
      "pulmonary edema likely secondary to cardiac decompensation\n",
      "successful pleural drainage\n",
      "progressing right upper lobe consolidation\n",
      "mild adjacent pleural reaction\n",
      "worsening fibrosis in the right upper lung\n",
      "mildly hyperemic left lung\n",
      "pulmonary edema slightly worsened than the prior radiograph\n",
      "radiodensity projecting over the right lower lung\n",
      "fiducial marker identified\n",
      "trachea slightly deviated to the left\n",
      "tip of the pump projects approximately 1 cm below the upper most portion of the aortic arch\n",
      "left pleural effusion unchanged from yesterday\n",
      "difficult to see esophageal catheter\n",
      "slightly enlarged left pleural effusion\n",
      "mild to moderate pleural effusions\n",
      "calcified nodular opacity in the left upper lung\n",
      "right humeral surgical neck fracture\n",
      "foreign body measuring about 2.5 cm in length in the left upper quadrant\n",
      "large area of heterogeneous radiodensity\n",
      "right hilum appears more prominent\n",
      "feeding tube tip not visualized in the field of view provided\n",
      "unclear finding in the upper right lung\n",
      "nails likely residing within the stomach\n",
      "longstanding mediastinal contour\n",
      "small amount of fluid seen tracking in the minor fissure\n",
      "large scale consolidation in the lungs\n",
      "spiculated opacity within the periphery\n",
      "Left PICC line passes into the right brachiocephalic vein\n",
      "homogeneously increased retrocardiac density\n",
      "new orogastric tube in the stomach\n",
      "healing left rib fractures without complications\n",
      "possible fractures of the right shoulder joint\n",
      "adjacent left basilar opacity likely reflective of atelectasis\n",
      "subtle area of opacity overlying the lower thoracic spine\n",
      "no Dobbhoff tube detected\n",
      "postoperative left-sided chest tube in unchanged position\n",
      "PICC line terminates within the upper right atrium\n",
      "cephalization of pulmonary blood flow\n",
      "little change in minimal pneumothorax\n",
      "appearance of the heart and mediastinal structures\n",
      "leads expected region of the right atrium\n",
      "old healed rib fractures in the left ribs\n",
      "bilateral perihilar-predominant reticular opacities\n",
      "slight patchy prominence of the interstitial markings\n",
      "subsequent left basilar atelectasis is stable\n",
      "right PICC extends to the low SVC\n",
      "enteric tube tip could be advanced for optimal positioning\n",
      "tip of enteric drainage tube obscured\n",
      "focally dilated thoracic aorta\n",
      "left peripheral masslike lesion adjacent to the left chest wall\n",
      "obstructing the right main bronchus\n",
      "markedly distended large bowels\n",
      "tip of the right IJ likely terminates in the upper right atrium\n",
      "possible residual small left apical pneumothorax\n",
      "atelectasis at bilateral lung bases\n",
      "LLL opacity likely represents scarring\n",
      "quick resolution of midlung opacities\n",
      "well-defined inferior margin on lateral view\n",
      "placement of right subclavian central venous catheter\n",
      "heart slightly increased compared to prior study\n",
      "2.2 cm air collection in the right apex\n",
      "focal poor visualization in the region of the GE junction\n",
      "catheter tip in the region of the SVC/RA junction\n",
      "asymmetric edema at the base of the left lung\n",
      "Position of left PICC is unchanged.\n",
      "pneumonia at both bases\n",
      "opacities suggesting an aspiration-related cause\n",
      "associated humeral head osteonecrosis\n",
      "interval resolution of the left lower lobe consolidation\n",
      "substantial increased opacification at the right base\n",
      "borderline enlarged silhouette\n",
      "anterior cervical spine fixation plate intact\n",
      "opacity in the right basal lower lobe\n",
      "opacities suspicious for aspiration pneumonia\n",
      "mild atherosclerosis in a tortuous aorta\n",
      "additional tube/wire over the right cervical region\n",
      "linear opacities compatible with bibasilar atelectasis\n",
      "gastric bubble slightly over distended\n",
      "surgical in lung base unchanged in position\n",
      "slightly worse bibasilar atelectasis on the left\n",
      "diffusely increased interstitial markings unchanged from prior CT\n",
      "sternal wires in unchanged position\n",
      "right jugular line ends at the region of the superior cavoatrial junction\n",
      "linear density not present\n",
      "minimal atelectatic change in the left base\n",
      "tip of left PICC line terminating at the origin of the SVC\n",
      "unchanged pleural thickening at the left apex\n",
      "collapsing right middle lobe\n",
      "right costophrenic sulcus not seen\n",
      "small amount of fluid extending into the fissure\n",
      "extensive calcification in the arch\n",
      "high clinical suspicion for empyema\n",
      "enlarged right lateral mediastinal contour\n",
      "increased volume loss in the right lower lobe\n",
      "left pleural effusion similar to 1 day ago\n",
      "trache tube in expected position\n",
      "right lung base at the left lung base\n",
      "previously identified local suspicious hazy densities in the left upper lobe area have regressed\n",
      "mild vascular congestion on the left\n",
      "unchanged nonspecific linear scarring in the left upper lobe\n",
      "probable airspace process obscuring the left heart border\n",
      "coils projecting the area of left diaphragm\n",
      "decreasing opacity at the operative site\n",
      "new anterior compression deformity of T11 vertebral body\n",
      "component of atelectasis in the right basal region\n",
      "bilateral pleural effusions have decreased in size\n",
      "margin of the small region of pneumonia\n",
      "increased density within the right lower lung\n",
      "stable ET tube devices\n",
      "possible slight worsening of bilateral alveolar consolidations\n",
      "tip of endotracheal tube above the clavicles\n",
      "extensive diffuse consolidation\n",
      "tip located too distally\n",
      "decrease in overdistension of the stomach\n",
      "left sided PICC with tip in the lower SVC\n",
      "left-sided pacer device noted\n",
      "vague opacity projecting over the anterior right seventh rib\n",
      "opacity reflecting extensive fat pad\n",
      "pulmonary neoplastic disease\n",
      "slight interval increase in size of the pleural effusions bilaterally\n",
      "pacemaker lead unchanged\n",
      "right supraclavicular dual-channel dialysis end in the low SVC\n",
      "partially confluenting parenchymal infiltrates\n",
      "right upper mediastinal opacity\n",
      "left-sided chest tube ending in the lower hemithorax\n",
      "opacification due to hemothorax\n",
      "very tiny right apical pneumothorax\n",
      "opacity likely from epicardial fat pad\n",
      "endotracheal tube likely approximately 4 cm from the carina\n",
      "impeded venous return\n",
      "confluent airspace consolidation in the perihilar region\n",
      "status post interval placement of new pacer leads\n",
      "opacities representing a second infectious focus\n",
      "faint patchy opacity in the retrocardiac region\n",
      "persistent moderate right pleural effusion\n",
      "small area of lung volume\n",
      "small nodular opacities in the lungs\n",
      "opacity seen inferior to hilar structures\n",
      "previous hydro pneumothorax\n",
      "ET tube placed with the tip at 6 cm from carina\n",
      "prominence of the infrahilar contour\n",
      "sideport above the GE junction\n",
      "hyperdense material\n",
      "constant left subclavian catheter\n",
      "Pleur-ex catheter lies within the hemithorax\n",
      "implanted neurostimulator\n",
      "curvilinear densities\n",
      "left perihilar consolidation consistent with pneumonia\n",
      "significant progression from the prior chest radiograph\n",
      "suggestive of a nondisplaced fracture\n",
      "IC catheter tip in the SVC\n",
      "right lower lung density initially attributed to soft tissue projection\n",
      "possibility of aspiration in the right basal\n",
      "PICC tip persists in the lower SVC\n",
      "increasing volume loss in the left hemi thorax\n",
      "difficult to assess amount of residual right pleural effusion\n",
      "diffuse bilateral interstitial pattern\n",
      "partly missing right rib\n",
      "surgical hardware from the cervical spine fixation appears intact\n",
      "differential diagnosis includes evolving infectious pneumonia\n",
      "unchanged right-sided perihilar opacification\n",
      "inflamed airways\n",
      "small right pleural effusions\n",
      "replacement of the right humerus\n",
      "dual-lead cardiac pacer/AICD with leads in the coronary sinus\n",
      "subtle opacity at the right lung apex\n",
      "recommend followup exam to ensure resolution of current opacity\n",
      "partial atelectatic right lower lung\n",
      "increasing pneumothorax within the left\n",
      "nasogastric tube terminates in the left mid to lower chest\n",
      "calcified cardiac valves\n",
      "rounded contour of left upper lobe bronchus region of increased opacity\n",
      "increased severity of moderate pulmonary edema\n",
      "slight opacity above the minor fissure\n",
      "side port of nasogastric tube is within the distal esophagus\n",
      "sliver of lucency projecting over the upper abdomen\n",
      "unchanged loss of height of a vertebral body\n",
      "feeding tube and small hiatus hernia\n",
      "interval re-expansion of the atelectatic right lung\n",
      "partial collapse of mid thoracic vertebrae\n",
      "possible mild right mid lobe atelectasis\n",
      "diffusely mottled appearance of osseous structures\n",
      "subglottic air column not well visualized\n",
      "possible slight increase in PTX\n",
      "Port-A-Cath device present\n",
      "asymmetrical area of airspace opacification in the right apex\n",
      "suture lines in the region\n",
      "depression of the diaphragms\n",
      "sternal wires of the valvular replacement in correct alignment\n",
      "placement of a nasogastric tube that extends to the antrum of the stomach\n",
      "faint opacity projecting over the heart on the lateral view\n",
      "moderate to severe scoliosis\n",
      "widening of the mediastinal vascular pedicle\n",
      "partial resection of the fifth rib\n",
      "ET tube not significantly changed from prior\n",
      "nodular opacities projecting over the left she\n",
      "increasing left lateral pleural thickening\n",
      "catheter tip at midpoint of trachea\n",
      "tip of the nasogastric tube below the GE junction\n",
      "prior seen radiolucency on the portable film\n",
      "increasing amounts of air collection in soft tissues\n",
      "no more than minimal right pleural effusion\n",
      "possibility of epicardial fat pad\n",
      "vessel viewed end on\n",
      "attention to exclude underlying process such as pneumonia\n",
      "minimal right paramediastinal widening\n",
      "small portion of the pneumothorax\n",
      "eventration of the diaphragms\n",
      "coils cross the lower margin of the image\n",
      "tip of the line projecting over the confluence of the brachiocephalic and superior vena cava\n",
      "potential resolving aspiration\n",
      "two left chest tubes in the same position\n",
      "improved asymmetrical pulmonary edema in the right basilar region\n",
      "unchanged parenchymal calcifications\n",
      "small amount of pleural air unchanged\n",
      "decrease in the size of the patient's pneumoperitoneum\n",
      "pacemaker leads are in the expected location\n",
      "suggestion of a 7-mm nodule in the right upper lung\n",
      "right basilar airspace opacity is unchanged\n",
      "air-fluid levels better seen on the frontal image\n",
      "left jugular line in mid SVC\n",
      "positioning of trachea\n",
      "findings representative of radiation pneumonitis\n",
      "no longer visualized dual-lumen left chest wall port\n",
      "prominence of interstitial lung markings similar to prior studies\n",
      "NG tube curled\n",
      "increased bilateral mild atelectasis\n",
      "continued left basilar disease\n",
      "appropriate positioning of the right IJ\n",
      "infiltrates confirmed on lateral view\n",
      "severity of basal atelectasis\n",
      "possible abnormality in the origin of the SVC\n",
      "assessment for pulmonary nodule\n",
      "mild levoconvex thoracic scoliosis\n",
      "development of more confluent opacity\n",
      "confluent opacities in the right base\n",
      "pleural effusion at the retrocardiac region\n",
      "atrioventricular pacemaker is unchanged\n",
      "mild vascular congestion in the right mid lung\n",
      "difficulty in detecting pulmonary edema\n",
      "pacer leads of a left chest wall generator terminate in the right atrium\n",
      "Left PIC line ends approximately 3 cm below the estimated location of the superior cavoatrial junction\n",
      "triple-lumen central catheter tip\n",
      "less well seen rib fractures\n",
      "improved opacity at the right lung base\n",
      "substantial basal atelectasis unchanged\n",
      "coarsened reticular nodular markings\n",
      "right large bore dual lumen catheter unchanged in position\n",
      "new rounded opacity in the posterior right lower hemithorax\n",
      "left lower lobe consolidation more pronounced on this study\n",
      "6 mm rounded calcified right upper lobe granuloma is stable\n",
      "patchy density in the visualized portion of the left proximal humerus\n",
      "concurrent pneumonia not excludable by conventional chest radiography\n",
      "moderate thoracic vertebral body compression fracture\n",
      "metallic artifact\n",
      "MI on plain chest exam\n",
      "degree of rotation limits assessment of left hilar mass\n",
      "prominent diffuse bilateral pulmonary opacifications\n",
      "new left pleural drain extending from the surface of the elevated left hemidiaphragm laterally to the near apex of the left hemithorax\n",
      "right pleural effusion greater than left pleural effusion\n",
      "uncomplicated placement of a left Pleurx catheter\n",
      "intact left-sided Port-A-Cath\n",
      "enlarged bullae from prior\n",
      "scarring from a prior insult\n",
      "chronic postoperative changes at the right lung apex have not changed\n",
      "accentuated prominence of the pulmonary vasculature by low lung volumes\n",
      "slight loss in height of mid-to-lower lumbar vertebral bodies\n",
      "unclear etiology of the calcified density\n",
      "Port-A-Cath in a standard position\n",
      "pneumothorax more apparent than prior exam\n",
      "prominent abnormalities in the right upper lobe\n",
      "catheter coursing along the left mid-clavicular line\n",
      "improved left perihilar consolidation\n",
      "multifocal pulmonary opacities in the right upper lobe\n",
      "radiographic appearance compatible with a focal pneumonic infiltrate\n",
      "infectious infiltrate in both lungs\n",
      "possible infectious process such as pneumonia at the right lung base\n",
      "masslike opacification of the left midlung was recommended by biopsy\n",
      "right transjugular Swan-Ganz catheter present\n",
      "substantial consolidation in the left lung\n",
      "possible obstruction in the visualized portion of the abdomen\n"
     ]
    }
   ],
   "source": [
    "dicom_id = dicom_ids[5040]\n",
    "metadata = get_detailed_metadata_for_dicom_id(dicom_id)[0]\n",
    "print(metadata)\n",
    "print()\n",
    "print()\n",
    "print(read_txt(metadata['filepath']))\n",
    "print()\n",
    "print()\n",
    "facts = integrated_report_facts[metadata['report_index']]['facts']\n",
    "print('. '.join(facts))\n",
    "print()\n",
    "print_bold('All facts:')\n",
    "facts = integrated_report_facts[metadata['report_index']]['facts']\n",
    "print(facts)\n",
    "print()\n",
    "print_bold('Positive facts:')\n",
    "positive_facts = [aux['facts'][idx] for idx in dicom_id_to_pos_neg_facts[dicom_id][0]]\n",
    "print(positive_facts)\n",
    "print()\n",
    "print_bold('Excluded positive facts:')\n",
    "print([f for f in facts if f not in positive_facts])\n",
    "print()\n",
    "print_bold('Negative facts:')\n",
    "for idx in dicom_id_to_pos_neg_facts[dicom_id][1]:\n",
    "    print(aux['facts'][idx])"
   ]
  },
  {
   "cell_type": "code",
   "execution_count": 118,
   "id": "29dfb030",
   "metadata": {},
   "outputs": [
    {
     "data": {
      "text/plain": [
       "{'fact': 'history of sternal debridement in bilateral pectoralis flaps',\n",
       " 'metadata': {'reason': 'The statement refers to a medical history involving surgical procedures but does not describe a current observation from a radiology report. It indicates past interventions rather than findings from an imaging study.',\n",
       "  'too_noisy_or_irrelevant': 'yes',\n",
       "  'visually_observable': 'no',\n",
       "  'category': 'does not apply',\n",
       "  'abnormality_status': 'does not apply',\n",
       "  'anatomical_location': 'does not apply',\n",
       "  'general_observation': 'does not apply'},\n",
       " 'extraction_method': 'gpt-4o-mini'}"
      ]
     },
     "execution_count": 118,
     "metadata": {},
     "output_type": "execute_result"
    }
   ],
   "source": [
    "integrated_fact_metadata[0]"
   ]
  },
  {
   "cell_type": "code",
   "execution_count": 30,
   "id": "1741252f",
   "metadata": {},
   "outputs": [],
   "source": [
    "from medvqa.scripts.mimiccxr.find_pos_neg_facts_per_report_around_reference_classes import _filter_facts"
   ]
  },
  {
   "cell_type": "code",
   "execution_count": 31,
   "id": "862acf5a",
   "metadata": {},
   "outputs": [
    {
     "name": "stdout",
     "output_type": "stream",
     "text": [
      "len(banned_facts): 112282\n",
      "Loaded 479638 unique facts (skipped 112282 facts)\n",
      "Loaded 250466 unique general facts\n"
     ]
    }
   ],
   "source": [
    "_unique_facts, _unique_general_facts, _f2gf, banned_facts = _filter_facts(integrated_fact_metadata)"
   ]
  },
  {
   "cell_type": "code",
   "execution_count": 33,
   "id": "eb808380",
   "metadata": {},
   "outputs": [],
   "source": [
    "banned_facts = list(banned_facts)"
   ]
  },
  {
   "cell_type": "code",
   "execution_count": 39,
   "id": "49f19931",
   "metadata": {},
   "outputs": [
    {
     "data": {
      "text/plain": [
       "'no superadded pneumonia'"
      ]
     },
     "execution_count": 39,
     "metadata": {},
     "output_type": "execute_result"
    }
   ],
   "source": [
    "banned_facts[2]"
   ]
  },
  {
   "cell_type": "code",
   "execution_count": 46,
   "id": "6d9b3e8b",
   "metadata": {},
   "outputs": [
    {
     "data": {
      "text/plain": [
       "1813"
      ]
     },
     "execution_count": 46,
     "metadata": {},
     "output_type": "execute_result"
    }
   ],
   "source": [
    "b_idxs = [i for i,x in enumerate(banned_facts) if 'line' in x.lower()]\n",
    "len(b_idxs)"
   ]
  },
  {
   "cell_type": "code",
   "execution_count": 54,
   "id": "9a18e5f7",
   "metadata": {},
   "outputs": [
    {
     "name": "stdout",
     "output_type": "stream",
     "text": [
      "possible artifactual at the right lung base\n",
      "\n",
      "{'fact': 'possible artifactual at the right lung base', 'metadata': {'reason': 'The statement suggests the presence of an artifact in the imaging of the right lung base. Artifacts can affect the interpretation of radiological images and are relevant observations in radiology reports.', 'too_noisy_or_irrelevant': 'no', 'visually_observable': 'yes', 'category': 'technical assessment', 'abnormality_status': 'does not apply', 'anatomical_location': 'right lung base', 'general_observation': 'possible artifactual at the lung base'}, 'extraction_method': 'gpt-4o-mini'}\n",
      "\n",
      "0.4726397693157196  prominent hila\n",
      "0.46213287115097046  prominence of hilum\n",
      "0.4599626064300537  hyperinflation\n",
      "0.4561922252178192  hilum prominent\n",
      "0.4299100637435913  hyperaeration\n",
      "0.42224496603012085  hyperexpanded lungs\n",
      "0.4140942692756653  lobar/segmental collapse\n",
      "0.3989369869232178  interstitial opacification\n",
      "0.3954535722732544  increased interstitial markings\n",
      "0.3942326605319977  increased markings\n",
      "0.3934185206890106  interstitial shadowing\n",
      "0.39287489652633667  hyperexpansion\n",
      "0.3913366198539734  chest hyperinflated\n",
      "0.3910713791847229  hilar prominence\n",
      "0.3809998035430908  chest wall tissue abnormality\n",
      "0.36239826679229736  atelectatic change\n",
      "0.36200594902038574  atelectatic findings\n",
      "0.3538031578063965  bone lesion\n",
      "0.35143548250198364  linear/patchy atelectasis\n",
      "0.3470725119113922  liner atelectasis\n",
      "0.33666929602622986  increased reticular markings/ild pattern\n",
      "0.3345876932144165  reticular interstitial pattern\n",
      "0.33371224999427795  vascular prominence at hilum\n",
      "0.3291434049606323  enlarged hilum\n",
      "0.32814112305641174  soft tissue abnormality\n",
      "0.32428407669067383  pleural/parenchymal scarring\n",
      "0.3224344849586487  interstitial nodularity\n",
      "0.3204308748245239  atelectatic bands\n",
      "0.3175930380821228  subsegmental atelectasis\n",
      "0.3162848949432373  pulmonary opacity\n",
      "0.31345048546791077  decreased lung size\n",
      "0.31213247776031494  paraspinal density\n",
      "0.3074690103530884  lung lesion\n",
      "0.3061557412147522  lung/lobe collapse\n",
      "0.29784834384918213  breast/nipple shadows\n",
      "0.29588615894317627  pleural density\n",
      "0.29567599296569824  shadowing\n",
      "0.2939422130584717  hilum/hilar bulky\n",
      "0.28640255331993103  subclavian line\n",
      "0.2781526446342468  reticular density\n",
      "0.27694639563560486  pleural thickening\n",
      "0.27421724796295166  bulky hilum\n",
      "0.274039626121521  consolidation\n",
      "0.27194058895111084  atelectasis\n",
      "0.26963287591934204  cervical area tissue abnormality\n",
      "0.2682201564311981  pulmonary nodule\n",
      "0.26770496368408203  lung opacity\n",
      "0.2654075622558594  honeycombing\n",
      "0.2649243175983429  pleural shadow\n",
      "0.26218125224113464  lung nodule\n",
      "0.2609899342060089  parenchymal nodule\n",
      "0.2606971859931946  lobar atelectasis\n",
      "0.2600020170211792  dextrocardia\n",
      "0.2584249973297119  aspiration\n",
      "0.2572280168533325  parenchymal mass or nodule\n",
      "0.25383174419403076  parietal pleural thickening\n",
      "0.2534031271934509  reticulation\n",
      "0.2516523003578186  pulmonary mass\n",
      "0.24897727370262146  enlargement of hilum\n",
      "0.24773266911506653  subcutaneous tissue abnormality\n",
      "0.2469809651374817  reticular pattern\n",
      "0.24678954482078552  hilar abnormalities\n",
      "0.24361029267311096  reticular shadow\n",
      "0.24264606833457947  reticular shadowing\n",
      "0.2419602870941162  nodule\n",
      "0.2409941554069519  sail sign\n",
      "0.2397955060005188  decreased lung volume\n",
      "0.23912018537521362  mass\n",
      "0.23461800813674927  reticulonodular pattern\n",
      "0.2327583134174347  parenchymal consolidation\n",
      "0.23026463389396667  increased parenchymal lung markings\n",
      "0.23015016317367554  nodule/mass\n",
      "0.23001468181610107  breast abnormality\n",
      "0.22764593362808228  hilar enlargement\n",
      "0.2263946831226349  infiltration\n",
      "0.22566501796245575  reticular opacification\n",
      "0.22422805428504944  lung consolidation\n",
      "0.22324593365192413  intra-aortic balloon pump\n",
      "0.22104021906852722  costophrenic angle attenuated\n",
      "0.2204030156135559  step in rib\n",
      "0.21999140083789825  reticular changes\n",
      "0.21951894462108612  pleurally based changes\n",
      "0.21947702765464783  cyst/bullae\n",
      "0.21916009485721588  sternotomy wires\n",
      "0.2135884165763855  osteopenia\n",
      "0.21309515833854675  golden s sign\n",
      "0.21016231179237366  fissure\n",
      "0.2100028395652771  elevated hemidiaphragm\n",
      "0.20903897285461426  cutaneous tissue abnormality\n",
      "0.20395341515541077  fibrotic change\n",
      "0.2001991719007492  fibrosis\n",
      "0.19836196303367615  small volume lungs\n",
      "0.19560253620147705  lung mass\n",
      "0.19427688419818878  parenchymal opacity\n",
      "0.1915069818496704  hemidiaphragm elevated\n",
      "0.19145353138446808  pleural scarring\n",
      "0.18692156672477722  lung lucencies\n",
      "0.1868518888950348  situs inversus\n",
      "0.1859542280435562  lung cyst\n",
      "0.18449845910072327  apical thickening\n",
      "0.18428198993206024  tracheostomy tube\n",
      "0.17940565943717957  opacification with septal line\n",
      "0.17904195189476013  increased lung markings\n",
      "0.17876523733139038  pleural shadowing\n",
      "0.17461970448493958  batwing shadowing\n",
      "0.1745082139968872  lobectomy\n",
      "0.17433103919029236  fluid in minor fissure\n",
      "0.17057451605796814  spinal degenerative changes\n",
      "0.16779084503650665  round atelectasis\n",
      "0.16490568220615387  low lung volumes\n",
      "0.16396477818489075  elevation of hemidiaphragm\n",
      "0.1618741750717163  hilar mass\n",
      "0.15823516249656677  apical interstitial change\n",
      "0.15650561451911926  interlobular septal thickening\n",
      "0.1549404412508011  parenchymal opacification\n",
      "0.15437102317810059  idiopathic pulmonary fibrosis\n",
      "0.1528347134590149  peribronchial thickening\n",
      "0.14661270380020142  interstitial lung disease\n",
      "0.14511358737945557  peri-hilar opacification\n",
      "0.1425868272781372  paraspinal mass\n",
      "0.14168620109558105  pulmonary edema/hazy opacity\n",
      "0.14103011786937714  kyphosis\n",
      "0.13866719603538513  bone-forming neoplasm\n",
      "0.13823768496513367  mediastinal drain\n",
      "0.13664484024047852  bulla\n",
      "0.13318315148353577  clavicular fracture\n",
      "0.12972114980220795  hilar adenopathy\n",
      "0.12748703360557556  parenchymal mass\n",
      "0.1262960135936737  hilar lymphadenopathy\n",
      "0.12395364046096802  mass next to spine\n",
      "0.1238170638680458  bullae\n",
      "0.12346704304218292  clavicle fracture\n",
      "0.12325708568096161  pulmonary fibrosis\n",
      "0.12150409817695618  kerley b lines\n",
      "0.12120363116264343  tenting of hemidiaphragm\n",
      "0.12064535915851593  pleural abnormalities\n",
      "0.12029361724853516  mass adjacent to spine\n",
      "0.11796742677688599  skin fold\n",
      "0.11601610481739044  bullous emphysema\n",
      "0.10739798843860626  hilar calcification\n",
      "0.10714394599199295  emphysematous change\n",
      "0.10571689158678055  septal thickening\n",
      "0.10463816672563553  chest tube\n",
      "0.09865452349185944  enlarged cardiac silhouette\n",
      "0.09668964147567749  chest port\n",
      "0.09426729381084442  edema\n",
      "0.09347963333129883  prosthetic valve\n",
      "0.09274451434612274  bronchial wall thickening\n",
      "0.08788295090198517  support devices\n",
      "0.08758088946342468  cardiomediastinum displaced\n",
      "0.08695947378873825  effusion\n",
      "0.08356957882642746  hilar lymph node enlargement\n",
      "0.08333892375230789  pneumoperitoneum\n",
      "0.08329135179519653  cardiomegaly\n",
      "0.08250155299901962  cardiac silhouette enlarged\n",
      "0.07869762182235718  supraclavicular fossa tissue abnormality\n",
      "0.0743921548128128  pleural lesion\n",
      "0.07435251772403717  subcutaneous air\n",
      "0.07327380776405334  ij line\n",
      "0.07177884876728058  airspace consolidation\n",
      "0.07162225246429443  prominent gas shadow\n",
      "0.06914506107568741  calcification of the cardiac wall\n",
      "0.067258320748806  ground glass opacity\n",
      "0.0665559396147728  cardiac enlargement\n",
      "0.06630916893482208  enlarged pulmonary veins/vessels\n",
      "0.06628048419952393  cavitating lesion\n",
      "0.062402285635471344  distended gas filled viscus\n",
      "0.06130345165729523  enlarged pulmonary artery\n",
      "0.06067865341901779  pectus deformity\n",
      "0.06067180261015892  subcutaneous emphysema\n",
      "0.059062421321868896  alveolar shadowing\n",
      "0.05875454097986221  heart enlarged\n",
      "0.05818508565425873  calcification of the cardiac valve\n",
      "0.05655801668763161  pigtail catheter\n",
      "0.05448169261217117  pleural plaques\n",
      "0.053498830646276474  costophrenic angle blunting\n",
      "0.0534195601940155  spinal fracture\n",
      "0.051773689687252045  heart shadow enlarged\n",
      "0.051173385232686996  mediastinal shift\n",
      "0.04803420603275299  ground glass density\n",
      "0.04770452901721001  apical fibrosis\n",
      "0.04400277137756348  pericardial effusion\n",
      "0.04288388043642044  airspace changes\n",
      "0.03946686536073685  goiter\n",
      "0.03729180991649628  displaced mediastinum\n",
      "0.03593387454748154  copd/emphysema\n",
      "0.03575945645570755  enlarged cardiomediastinum\n",
      "0.03393586724996567  airspace shadowing\n",
      "0.03323068469762802  pleural reaction\n",
      "0.026322290301322937  mediastinal displacement\n",
      "0.026072807610034943  endotracheal tube\n",
      "0.020709596574306488  septal lines\n",
      "0.019504956901073456  superior mediastinal mass/enlargement\n",
      "0.01876833662390709  subdiaphragmatic air\n",
      "0.018496697768568993  hernia\n",
      "0.01488099992275238  granuloma\n",
      "0.013936571776866913  calcified pleural plaques\n",
      "0.0058212727308273315  airspace opacity\n",
      "0.003063645213842392  calcified nodule\n",
      "0.002494674175977707  airspace opacification\n",
      "0.0020866654813289642  aortic enlargement\n",
      "0.0016078595072031021  emphysema\n",
      "3.147497773170471e-05  blunting of costophrenic angle\n",
      "-0.002148635685443878  ground glass shadowing\n",
      "-0.004417698830366135  cardiac calcification\n",
      "-0.006626972928643227  lung cavity\n",
      "-0.01631464995443821  surgical emphysema\n",
      "-0.027546487748622894  fluid in major fissure\n",
      "-0.02856353484094143  eventration of diaphragm\n",
      "-0.029499288648366928  calcification\n",
      "-0.03003058023750782  cardiomyopathy\n",
      "-0.03338465839624405  enteric tube\n",
      "-0.033565815538167953  bronchiectasis\n",
      "-0.03479813411831856  hiatus hernia\n",
      "-0.03703581169247627  tension pneumothorax\n",
      "-0.03807558864355087  pleural fluid\n",
      "-0.040934596210718155  diaphragmatic eventration\n",
      "-0.042642347514629364  widening of the mediastinum\n",
      "-0.05468926578760147  copd\n",
      "-0.055945731699466705  hemidiaphragmatic hump\n",
      "-0.05636858940124512  prominent upper lobe pulmonary vessels/vasculature\n",
      "-0.06085633859038353  aortic tortuosity\n",
      "-0.06449972838163376  distended gastric bubble\n",
      "-0.06546061486005783  ground glass change\n",
      "-0.06812447309494019  vascular congestion\n",
      "-0.0685214102268219  alveolar hemorrhage\n",
      "-0.06914159655570984  large heart shadow\n",
      "-0.06974352151155472  tortuous aorta\n",
      "-0.06976421922445297  fracture\n",
      "-0.07299067080020905  cardiac pacer and wires\n",
      "-0.07534327358007431  mediastinal widening\n",
      "-0.08068478107452393  pleural effusion\n",
      "-0.08103635907173157  unfolded thoracic aorta\n",
      "-0.08659906685352325  cavitation\n",
      "-0.09398692846298218  upper limb tissue abnormality\n",
      "-0.09971363097429276  unfolding of the descending aorta\n",
      "-0.10414045304059982  fluid overload/heart failure\n",
      "-0.10509364306926727  vascular calcification\n",
      "-0.10794827342033386  aortic graft/repair\n",
      "-0.10978849232196808  unfolding of the thoracic aorta\n",
      "-0.11607146263122559  pneumomediastinum\n",
      "-0.11790647357702255  bronchial changes\n",
      "-0.12081275135278702  large heart\n",
      "-0.12284744530916214  dilated/enlarged upper lobe vessels\n",
      "-0.12525272369384766  bone metastasis\n",
      "-0.12544569373130798  calcification of the aorta\n",
      "-0.12750771641731262  adenopathy\n",
      "-0.1326218545436859  bronchiolectasis\n",
      "-0.13331863284111023  calcification of the coronary artery\n",
      "-0.13667802512645721  azygos lobe\n",
      "-0.13696864247322083  ill-defined density\n",
      "-0.1378142088651657  lymphadenopathy\n",
      "-0.13978782296180725  paratracheal soft tissue\n",
      "-0.1426897644996643  enlarged lymph node\n",
      "-0.14409181475639343  large lung volume\n",
      "-0.1455029845237732  cavity\n",
      "-0.16294367611408234  widening of paratracheal stripe\n",
      "-0.16333794593811035  granulomatous disease\n",
      "-0.1657322496175766  distended stomach\n",
      "-0.1673710197210312  prominent bowel\n",
      "-0.16893340647220612  calcification of the coronary vessels\n",
      "-0.1767195761203766  rib fracture\n",
      "-0.18771375715732574  bone metastases\n",
      "-0.196452796459198  pneumothorax\n",
      "-0.21145419776439667  prominent small bowel loops\n",
      "-0.21561378240585327  swan-ganz catheter\n",
      "-0.22418595850467682  infarction\n",
      "-0.22897374629974365  vascular redistribution\n",
      "-0.23836499452590942  cardiac aneurysm\n",
      "-0.2387894093990326  shoulder osteoarthritis\n",
      "-0.25895950198173523  hydropneumothorax\n",
      "-0.2624230682849884  dilated loop bowel\n",
      "-0.27299559116363525  prominent loops of bowel\n",
      "-0.27781349420547485  kyphoscoliosis\n",
      "-0.2786129117012024  cabg grafts\n",
      "-0.2821958363056183  pneumonia\n",
      "-0.285196989774704  changes of pulmonary edema\n",
      "-0.2882274389266968  air in mediastinum\n",
      "-0.29029959440231323  pulmonary blood flow redistribution\n",
      "-0.3067944645881653  upper lobe diversion\n",
      "-0.30943846702575684  lung tumor\n",
      "-0.31012582778930664  paratracheal adenopathy\n",
      "-0.3127397298812866  picc\n",
      "-0.3149513006210327  paratracheal lymphadenopathy\n",
      "-0.324435293674469  scoliosis\n",
      "-0.33162546157836914  dilatation of bowel loops\n",
      "-0.3443889021873474  paratracheal opacification\n",
      "-0.3464687466621399  pulmonary hypertension\n",
      "-0.3521638512611389  primary lung malignancy\n",
      "-0.35235804319381714  pulmonary metastases\n",
      "-0.358848512172699  axillary mass\n",
      "-0.36062562465667725  axillary adenopathy\n",
      "-0.3620678782463074  axillary lymphadenopathy\n",
      "-0.36446404457092285  tuberculosis\n",
      "-0.394241064786911  lung malignancy\n",
      "-0.4000256359577179  lung metastases\n",
      "-0.41476812958717346  lung cancer\n"
     ]
    }
   ],
   "source": [
    "query = 'possible artifactual at the right lung base'\n",
    "# query = banned_facts[b_idxs[10]]\n",
    "print(query)\n",
    "print()\n",
    "\n",
    "for x in integrated_fact_metadata:\n",
    "    if x['fact'] == query:\n",
    "        print(x)\n",
    "        break\n",
    "print()\n",
    "\n",
    "q_idx = all_facts.index(query)\n",
    "sims = np.dot(phrase_embeddings, fact_embeddings[q_idx])\n",
    "idxs = np.argsort(sims)[::-1]\n",
    "for idx in idxs:\n",
    "    print(f'{sims[idx]}  {phrases[idx]}')"
   ]
  },
  {
   "cell_type": "code",
   "execution_count": 130,
   "id": "d31cc188",
   "metadata": {
    "scrolled": false
   },
   "outputs": [
    {
     "name": "stdout",
     "output_type": "stream",
     "text": [
      "{'fact': 'no pneumothorax after pacemaker placement', 'metadata': {'reason': 'The statement indicates the absence of a pneumothorax, which is a significant observation following a medical procedure. This finding can be visually confirmed on a chest X-ray. It suggests that the procedure was successful without complications.', 'too_noisy_or_irrelevant': 'no', 'visually_observable': 'yes', 'category': 'procedure', 'abnormality_status': 'completely normal or healthy', 'anatomical_location': 'chest', 'general_observation': 'no pneumothorax'}, 'extraction_method': 't5-small-finetuned'}\n",
      "\n",
      "{'fact': 'no pneumothorax after pigtail placement', 'metadata': {'reason': \"The statement indicates the absence of a pneumothorax, which is a significant observation following a medical procedure. It suggests that the pigtail placement of the device has been performed, which is relevant to the assessment of the patient's condition. This finding can be visually confirmed on a chest X-ray.\", 'too_noisy_or_irrelevant': 'no', 'visually_observable': 'yes', 'category': 'device', 'abnormality_status': 'completely normal or healthy', 'anatomical_location': 'chest', 'general_observation': 'no pneumothorax'}, 'extraction_method': 't5-small-finetuned'}\n",
      "\n",
      "{'fact': 'no pneumothorax on the left internal jugular line ends in the low SVC', 'metadata': {'reason': 'The statement indicates the absence of a pneumothorax, which is a significant observation in a chest X-ray. It specifies the anatomical location where the line terminates, which is relevant for assessing the placement of the device. This information is crucial for ensuring proper function and avoiding complications.', 'too_noisy_or_irrelevant': 'no', 'visually_observable': 'yes', 'category': 'device', 'abnormality_status': 'completely normal or healthy', 'anatomical_location': 'left internal jugular line, low SVC', 'general_observation': 'no pneumothorax'}, 'extraction_method': 't5-small-finetuned'}\n",
      "\n",
      "{'fact': 'no pneumothorax related to placement', 'metadata': {'reason': \"The statement indicates the absence of a pneumothorax, which is a significant observation in a chest X-ray. It suggests that the lungs appear normal in relation to the placement of the device. This is a relevant finding in assessing the patient's respiratory status.\", 'too_noisy_or_irrelevant': 'no', 'visually_observable': 'yes', 'category': 'device', 'abnormality_status': 'completely normal or healthy', 'anatomical_location': 'lungs', 'general_observation': 'no pneumothorax'}, 'extraction_method': 't5-small-finetuned'}\n",
      "\n",
      "{'fact': 'no pneumothorax of the pacemaker placement', 'metadata': {'reason': 'The statement indicates the absence of a pneumothorax, which is a significant observation in a radiology report. It suggests that the pacemaker is positioned correctly without any air in the pleural space. This is a relevant finding in the context of a chest X-ray.', 'too_noisy_or_irrelevant': 'no', 'visually_observable': 'yes', 'category': 'device', 'abnormality_status': 'completely normal or healthy', 'anatomical_location': 'pleural space', 'general_observation': 'no pneumothorax'}, 'extraction_method': 't5-small-finetuned'}\n",
      "\n"
     ]
    },
    {
     "data": {
      "text/plain": [
       "245"
      ]
     },
     "execution_count": 130,
     "metadata": {},
     "output_type": "execute_result"
    }
   ],
   "source": [
    "query_idxs = []\n",
    "for i, x in enumerate(integrated_fact_metadata):\n",
    "    if x['metadata']['general_observation'] == query:\n",
    "        query_idxs.append(i)\n",
    "        if x['metadata']['category'] not in ('anatomical finding', 'disease'):\n",
    "            print(x)\n",
    "            print()\n",
    "len(query_idxs)"
   ]
  },
  {
   "cell_type": "code",
   "execution_count": 439,
   "id": "fb866d96",
   "metadata": {},
   "outputs": [],
   "source": [
    "from collections import Counter"
   ]
  },
  {
   "cell_type": "code",
   "execution_count": 440,
   "id": "3f3ae595",
   "metadata": {},
   "outputs": [
    {
     "data": {
      "text/plain": [
       "Counter({'anatomical finding': 396065,\n",
       "         'disease': 37122,\n",
       "         'technical assessment': 53424,\n",
       "         'tubes and lines': 83396,\n",
       "         'device': 35156,\n",
       "         'procedure': 160,\n",
       "         'unknown': 83,\n",
       "         'health status': 14,\n",
       "         'symptom': 226,\n",
       "         '': 413,\n",
       "         'foreign body': 5,\n",
       "         'surgical procedure': 3,\n",
       "         'complication': 2,\n",
       "         'treatment': 1,\n",
       "         'surgery': 2,\n",
       "         'normal': 1,\n",
       "         'tubes and lines unchanged': 1})"
      ]
     },
     "execution_count": 440,
     "metadata": {},
     "output_type": "execute_result"
    }
   ],
   "source": [
    "Counter(x['metadata']['category'] for x in integrated_fact_metadata)"
   ]
  },
  {
   "cell_type": "code",
   "execution_count": 441,
   "id": "dd007fc1",
   "metadata": {},
   "outputs": [
    {
     "data": {
      "text/plain": [
       "Counter({'ambiguous': 41261,\n",
       "         'abnormal': 315390,\n",
       "         'unknown': 172249,\n",
       "         'normal': 76889,\n",
       "         'resolved': 5,\n",
       "         'improved': 23,\n",
       "         '': 257})"
      ]
     },
     "execution_count": 441,
     "metadata": {},
     "output_type": "execute_result"
    }
   ],
   "source": [
    "Counter(x['metadata']['health status'] for x in integrated_fact_metadata)"
   ]
  },
  {
   "cell_type": "code",
   "execution_count": 471,
   "id": "c57e7135",
   "metadata": {},
   "outputs": [],
   "source": [
    "# _VALID_JSON_OBJECT_REGEX = re.compile(r\"\\{\\s*\\\"reason\\\"\\s*:\\s*\\\"[^\\\"]*\\\"\\s*,\\s*\\\"too\\_noisy\\_or\\_irrelevant\\\"\\s*:\\s*\\\"[^\\\"]*\\\"\\s*,\\s*\\\"visually\\_observable\\\"\\s*:\\s*\\\"[^\\\"]*\\\"\\s*,\\s*\\\"category\\\"\\s*:\\s*\\\"[^\\\"]*\\\"\\s*,\\s*\\\"abnormality\\_status\\\"\\s*:\\s*\\\"[^\\\"]*\\\"\\s*,\\s*\\\"anatomical\\_location\\?\\\"\\s*:\\s*\\\"[^\\\"]*\\\"\\s*,\\s*\\\"general\\_observation\\\"\\s*:\\s*\\\"[^\\\"]*\\\"\\s*\\}\")\n",
    "\n",
    "_VALID_JSON_OBJECT_REGEX = re.compile(\n",
    "    r'\\{\\s*\"reason\"\\s*:\\s*\"[^\"]*\"\\s*,\\s*\"too_noisy_or_irrelevant\"\\s*:\\s*\"[^\"]*\"\\s*,\\s*\"visually_observable\"\\s*:\\s*\"[^\"]*\"\\s*,\\s*\"category\"\\s*:\\s*\"[^\"]*\"\\s*,\\s*\"abnormality_status\"\\s*:\\s*\"[^\"]*\"\\s*,\\s*\"anatomical_location\"\\s*:\\s*\"[^\"]*\"\\s*,\\s*\"general_observation\"\\s*:\\s*\"[^\"]*\"\\s*\\}',\n",
    "    re.DOTALL\n",
    ")"
   ]
  },
  {
   "cell_type": "code",
   "execution_count": 483,
   "id": "391e9526",
   "metadata": {},
   "outputs": [
    {
     "name": "stdout",
     "output_type": "stream",
     "text": [
      "{\n",
      "  \"reason\": \"The statement describes the presence of surgical clips, which are a visual finding on a chest X-ray. These clips indicate a previous surgical procedure, specifically an axillary dissection. This information is relevant for assessing the patient's surgical history and any potential implications for current health.\",\n",
      "  \"too_noisy_or_irrelevant\": \"no\",\n",
      "  \"visually_observable\": \"yes\",\n",
      "  \"category\": \"device\",\n",
      "  \"abnormality_status\": \"does not apply\",\n",
      "  \"anatomical_location\": \"axilla\",\n",
      "  \"general_observation\": \"surgical clips present\"\n",
      "}\n"
     ]
    }
   ],
   "source": [
    "match = _VALID_JSON_OBJECT_REGEX.search(\"\"\"{\n",
    "  \"reason\": \"The statement describes the presence of surgical clips, which are a visual finding on a chest X-ray. These clips indicate a previous surgical procedure, specifically an axillary dissection. This information is relevant for assessing the patient's surgical history and any potential implications for current health.\",\n",
    "  \"too_noisy_or_irrelevant\": \"no\",\n",
    "  \"visually_observable\": \"yes\",\n",
    "  \"category\": \"device\",\n",
    "  \"abnormality_status\": \"does not apply\",\n",
    "  \"anatomical_location\": \"axilla\",\n",
    "  \"general_observation\": \"surgical clips present\"\n",
    "}\"\"\")\n",
    "if match:\n",
    "    print(match.group(0))"
   ]
  },
  {
   "cell_type": "code",
   "execution_count": 224,
   "id": "8cef80c7",
   "metadata": {},
   "outputs": [],
   "source": [
    "import re\n",
    "# _VALID_JSON_OBJECT_REGEX = re.compile(\n",
    "#     r'\\{\\s*\"reason\"\\s*:\\s*\"[^\"]*\"\\s*,\\s*\"ruled_out_abnormalities\"\\s*:\\s*\\{\\s*(?:\"[^\"]*\"\\s*:\\s*\\[\\s*\"[^\"]*\"(?:\\s*,\\s*\"[^\"]*\")*\\s*\\]\\s*,?\\s*)*\\}\\s*\\}',\n",
    "#     re.DOTALL\n",
    "# )\n",
    "_VALID_JSON_OBJECT_REGEX = re.compile(\n",
    "    r'\\{\\s*\"reason\"\\s*:\\s*\"[^\"]*\"\\s*,\\s*\"ruled_out_abnormalities\"\\s*:\\s*\\{\\s*(?:\"[^\"]*\"\\s*:\\s*\\[\\s*(?:\"[^\"]*\"(?:\\s*,\\s*\"[^\"]*\")*)?\\s*\\]\\s*,?\\s*)*\\}\\s*\\}',\n",
    "    re.DOTALL\n",
    ")"
   ]
  },
  {
   "cell_type": "code",
   "execution_count": 230,
   "id": "45364733",
   "metadata": {},
   "outputs": [
    {
     "data": {
      "text/plain": [
       "'{\\n  \"reason\": \"The report describes various post-surgical findings and the presence of medical devices, but also explicitly rules out certain conditions. \\'No evidence of CHF\\' and \\'no effusion seen on the frontal view\\' rule out congestive heart failure and pleural effusion, respectively. \\'No new consolidation\\' and \\'no pneumothorax detected\\' rule out the development of new lung consolidation and the presence of pneumothorax. However, \\'mild CHF\\' is mentioned, which indicates that while there is no evidence of acute or severe congestive heart failure, there is a mild form present, so CHF is not completely ruled out.\",\\n  \"ruled_out_abnormalities\": {\\n    \"no evidence of CHF\": [],\\n    \"no effusion seen on the frontal view\": [\"pleural effusion\"],\\n    \"no new consolidation\": [\"lung consolidation\"],\\n    \"no pneumothorax detected\": [\"pneumothorax\"]\\n  }\\n}'"
      ]
     },
     "execution_count": 230,
     "metadata": {},
     "output_type": "execute_result"
    }
   ],
   "source": [
    "input_string = \"\"\"\n",
    "\n",
    "```json\n",
    "{\n",
    "  \"reason\": \"The report describes various post-surgical findings and the presence of medical devices, but also explicitly rules out certain conditions. 'No evidence of CHF' and 'no effusion seen on the frontal view' rule out congestive heart failure and pleural effusion, respectively. 'No new consolidation' and 'no pneumothorax detected' rule out the development of new lung consolidation and the presence of pneumothorax. However, 'mild CHF' is mentioned, which indicates that while there is no evidence of acute or severe congestive heart failure, there is a mild form present, so CHF is not completely ruled out.\",\n",
    "  \"ruled_out_abnormalities\": {\n",
    "    \"no evidence of CHF\": [],\n",
    "    \"no effusion seen on the frontal view\": [\"pleural effusion\"],\n",
    "    \"no new consolidation\": [\"lung consolidation\"],\n",
    "    \"no pneumothorax detected\": [\"pneumothorax\"]\n",
    "  }\n",
    "}\n",
    "```\n",
    "\"\"\"\n",
    "_VALID_JSON_OBJECT_REGEX.search(input_string).group()"
   ]
  },
  {
   "cell_type": "code",
   "execution_count": 76,
   "id": "a6db854f",
   "metadata": {},
   "outputs": [],
   "source": [
    "# q = \"\"\"subtle increased opacity in the right lung base. clinical situation. recommend close interval follow-up. developing pneumonia is possible. right PICC line has been removed. nasogastric tube in unchanged position. unchanged appearance of the cardiac silhouette. unchanged appearance of the hilar structures. unchanged appearance of the lung parenchyma. no pneumonia\"\"\"\n",
    "q = 'escape of previous large right pleural air collection'\n",
    "for x in integrated_report_facts:\n",
    "#     if x['fact_based_report'] == q:\n",
    "#         break\n",
    "    if q in x['fact_based_report']:\n",
    "        break"
   ]
  },
  {
   "cell_type": "code",
   "execution_count": 77,
   "id": "351aee85",
   "metadata": {},
   "outputs": [
    {
     "name": "stdout",
     "output_type": "stream",
     "text": [
      "                                 FINAL REPORT\n",
      " EXAMINATION:  CHEST (PORTABLE AP)\n",
      " \n",
      " INDICATION:  ___ year old man with sob s/p pleurodesis  // any ptx?      any\n",
      " ptx?\n",
      " \n",
      " IMPRESSION: \n",
      " \n",
      " Compared to chest radiographs ___ through ___.\n",
      " \n",
      " The possibility of small bilateral pneumothorax is impossible to exclude given\n",
      " the severity of stable but pronounced subcutaneous emphysema and\n",
      " pneumomediastinum, all of which is attributable to the escape of previous\n",
      " large right pleural air collection with placement of the right basal pigtail\n",
      " pleural drainage catheter.  Upper lobe predominant emphysema is so severe that\n",
      " bibasilar opacification could be due to edema alone, more pronounced on the\n",
      " right because of its recent Re expansion.  Pneumonia and pulmonary hemorrhage\n",
      " are not excluded.\n",
      " \n",
      " Heart size normal.\n",
      "\n"
     ]
    }
   ],
   "source": [
    "print(read_txt(x['path']))"
   ]
  },
  {
   "cell_type": "code",
   "execution_count": 218,
   "id": "c73989b4",
   "metadata": {
    "scrolled": true
   },
   "outputs": [
    {
     "name": "stdout",
     "output_type": "stream",
     "text": [
      "2025-01-11 23:01:10,539 - \u001b[1;32mINFO\u001b[1;0m - Total number of fact based reports: 211226\n",
      "2025-01-11 23:01:10,594 - \u001b[1;32mINFO\u001b[1;0m - Loading cached sorted sentences from /mnt/data/pamessina_folder_backup_15_10_24/pamessina/medvqa-workspace/cache/sorted_sentences(211226,75856766).pkl...\n",
      "2025-01-11 23:01:10,668 - \u001b[1;32mINFO\u001b[1;0m - Done loading cached sorted sentences.\n",
      "2025-01-11 23:01:10,668 - \u001b[1;32mINFO\u001b[1;0m - First sentence: Destruction of the T6/T7 interspace. Increased T2/STIR signal at the T6/T7 interspace. Postcontrast enhancement at the T6/T7 interspace. Partial destruction of the T6 inferior end plate. Partial destruction of the T7 superior endplate. Loss of anterior vertebral body height at T6/T7. Discitis/osteomyelitis complex at T6/T7. prominent prevertebral enhancing soft tissue affecting the anterior inferior portion of the T5 vertebral body. anterior epidural enhancement from T5-T7. suspicion for small component of epidural abscess. exaggerated kyphotic angulation at the T6/T7 level. small amount of retropulsion focally contacting the cord. without significant canal stenosis. normal cord signal. multilevel non-critical degenerative changes. Multilevel Tarlov cysts. normal heart size. mild tortuosity of the thoracic aorta. unremarkable hilar contours. clear lungs. normal pleural surfaces. posterior thickening. healed left posterolateral rib fractures. midthoracic disc space narrowing due to chronic disc degeneration. T6/T7 discitis. T6/T7 osteomyelitis. interspace and endplate destruction at T6/T7. focal involvement of T5. probable tiny epidural abscess from T5-T7. kyphotic angulation focally contacting the spinal cord without compression at T5-T7. no acute cardiopulmonary abnormality\n",
      "2025-01-11 23:01:10,668 - \u001b[1;32mINFO\u001b[1;0m - Last sentence: \n",
      "2025-01-11 23:01:10,947 - \u001b[1;32mINFO\u001b[1;0m - Total number of queries to process: 1000\n",
      "2025-01-11 23:01:10,947 - \u001b[1;32mINFO\u001b[1;0m - Example queries to process:\n",
      "2025-01-11 23:01:10,947 - \u001b[1;32mINFO\u001b[1;0m - 1. Destruction of the T6/T7 interspace. Increased T2/STIR signal at the T6/T7 interspace. Postcontrast enhancement at the T6/T7 interspace. Partial destruction of the T6 inferior end plate. Partial destruction of the T7 superior endplate. Loss of anterior vertebral body height at T6/T7. Discitis/osteomyelitis complex at T6/T7. prominent prevertebral enhancing soft tissue affecting the anterior inferior portion of the T5 vertebral body. anterior epidural enhancement from T5-T7. suspicion for small component of epidural abscess. exaggerated kyphotic angulation at the T6/T7 level. small amount of retropulsion focally contacting the cord. without significant canal stenosis. normal cord signal. multilevel non-critical degenerative changes. Multilevel Tarlov cysts. normal heart size. mild tortuosity of the thoracic aorta. unremarkable hilar contours. clear lungs. normal pleural surfaces. posterior thickening. healed left posterolateral rib fractures. midthoracic disc space narrowing due to chronic disc degeneration. T6/T7 discitis. T6/T7 osteomyelitis. interspace and endplate destruction at T6/T7. focal involvement of T5. probable tiny epidural abscess from T5-T7. kyphotic angulation focally contacting the spinal cord without compression at T5-T7. no acute cardiopulmonary abnormality\n",
      "2025-01-11 23:01:10,947 - \u001b[1;32mINFO\u001b[1;0m - 112. PA chest view obtained with patient in upright position. lateral chest view obtained with patient in upright position. heart size within normal limits. no configurational abnormality. unremarkable thoracic aorta. unremarkable mediastinal structures. pulmonary vasculature not congested. unremarkable right hemithorax. evidence of pleural effusion on the left. pleural effusion blunting the lateral pleural sinus on the left. pleural effusion obliterating the diaphragmatic contours on the left. density along the lateral chest wall. density reaching the apical portion. minor 2 mm wide density. no evidence of air-fluid level in the pleural space. new pneumothorax can be excluded. accessible pulmonary vasculature does not show any congestive pattern. no new acute infiltrates are seen. parenchyma of left lower lobe cannot be assessed. pleural density obscuring the parenchyma of left lower lobe. reviewed next preceding torso CT. comparison via existing pleural density with today's finding. different patient position between the two studies. rough estimate of pleural effusion amount on the CT. reported 550 mL thoracocentesis of pleural effusion. no conclusive evidence for any parenchymal abnormality in the left lower lobe. status post right-sided nephrectomy. central liver mass. reduction of left-sided pleural effusion. moderate degree of remaining pleural effusion. remaining pleural effusion estimated to another 500 mL remaining\n",
      "2025-01-11 23:01:10,947 - \u001b[1;32mINFO\u001b[1;0m - 223. ET tube present. ET tube tip lies approximately 3.5 cm above the carina. NG tube present. NG tube unchanged in configuration. overlies the cardiac silhouette. curled in the gastric fundus. left subclavian line terminates in the proximal/mid SVC. left-sided PICC terminates in the proximal/mid SVC. patient rotated. enlarged cardiomediastinal silhouette. marked prominence of the right paratracheal soft tissues. prominence of the right paratracheal soft tissues more than expected from the patient rotation. prominence of the right paratracheal soft tissues of uncertain etiology. prominence of the right paratracheal soft tissues of uncertain significance. worsened CHF. marked vascular plethora. small-to-moderate bilateral effusions. underlying collapse. underlying consolidation. air bronchograms at the right base medially. possibility of an underlying infectious infiltrate. progressive CHF findings. interstitial edema. alveolar edema. marked prominence of the right paratracheal-mediastinal soft tissues. uncertain etiology of the right paratracheal-mediastinal soft tissues. uncertain significance of the right paratracheal-mediastinal soft tissues. findings in item #1 discussed with Dr. at approximately 10:20 am on ( , phone). findings in item #2 discussed with Dr. at approximately 10:20 am on ( , phone)\n",
      "2025-01-11 23:01:10,947 - \u001b[1;32mINFO\u001b[1;0m - 334. Substantial right pleural effusion collected laterally. Substantial right pleural effusion in the inter lobar fissures. Reaccumulation of right pleural effusion since previous drainage. Previous drainage of the lateral collection. New or repositioned right pigtail pleural drainage catheter. moderate atelectasis at the base of the right lung. improved pulmonary vascular engorgement. severe cardiomegaly. transvenous atrioventricular pacer leads unchanged in their respective positions. tiny residual right apical pneumothorax\n",
      "2025-01-11 23:01:10,947 - \u001b[1;32mINFO\u001b[1;0m - 445. orogastric tube ends in the distal portion of the stomach. nondistended stomach. ET tube in standard placement. left subclavian line in standard placement. proportionate generalized large bowel in the upper abdomen. proportionate generalized small bowel in the upper abdomen. suggestive of paralytic ileus in the upper abdomen. not suggestive of obstruction in the upper abdomen. normal heart size. heterogeneous opacification at the lung bases left. heterogeneous opacification at the lung bases right. atelectasis at the lung bases left. atelectasis at the lung bases right. clear upper lungs. no pulmonary edema. no pneumothorax. no appreciable pleural effusion\n",
      "2025-01-11 23:01:10,947 - \u001b[1;32mINFO\u001b[1;0m - 556. wedge shaped LLL opacity. concern for pulmonary embolism in LLL. diffuse swelling of the subcutaneous tissues of the left lower extremity. edema of the subcutaneous tissues of the left lower extremity. diffuse swelling of the left leg. edema of the left leg. known history of cellulitis. no air to suggest necrotizing fasciitis. no focal abscess. no bone abnormality. normal cardiomediastinal contours. normal hilar contours. heart in the upper limits of normal. well expanded right lung. clear right lung. peripheral opacity in the left lower lobe in the left lung base. opacity could represent atelectasis. opacity concerning for pulmonary embolism with infarction. trace left pleural effusion. no pulmonary edema. small left effusion. peripheral left lower lobe opacity. atelectasis in the left lower lobe. pulmonary infarction in the left lower lobe. left-sided pleuritic chest pain\n",
      "2025-01-11 23:01:10,947 - \u001b[1;32mINFO\u001b[1;0m - 667. new diffuse airspace pulm opacities. likely edema given rapid time course. infx/hemorrhage not excluded given pt hx. Increased pleural effusions on the right. Small increased pleural effusions on the left. Moderate cardiomegaly. large right pleural effusion. stable since. extensive new opacification in the left lung. perihilar distribution in the left lung. possible pulmonary edema in the left lung. possible pulmonary hemorrhage in the left lung. possible pneumonia in the left lung. enlarged heart. adjacent right pleural effusion. right jugular line ends in the mid SVC. no pneumothorax\n",
      "2025-01-11 23:01:10,948 - \u001b[1;32mINFO\u001b[1;0m - 778. new bi-basilar airspace opacities. concern for infection in a neutropenic patient. subtle bilateral parenchymal opacities at both lung bases. asymmetry of changes that could suggest atelectasis. early pneumonia as a differential diagnosis in this neutropenic patient. mild fluid overload. borderline size of the cardiac silhouette. unchanged position of the CVAL\n",
      "2025-01-11 23:01:10,948 - \u001b[1;32mINFO\u001b[1;0m - 889. improved re-expansion of the right lung. decreased moderate sized right hydrohemothorax. tiny apical component in the right lung. small dependent component in the right lung. aeration in the right lower lung is improving. moderate cardiomegaly is unchanged. clear left lung. mild vascular re-distribution in the left lung. elevated pulmonary venous pressure in the left lung. transvenous right atrial pacer leads unchanged in their respective positions. transvenous right ventricular pacer leads unchanged in their respective positions. elevated ventricular lead from the normal location on the floor of the ventricle. ventricular lead probably apposed to the mid portion of the interventricular septum\n",
      "2025-01-11 23:01:10,948 - \u001b[1;32mINFO\u001b[1;0m - 1000. two enteric tubes in place. both enteric tubes ending in the stomach. stable diffuse bilateral pulmonary opacifications. gas in the partially imaged right lower quadrant. stool in the loop of large bowel in the partially imaged right lower quadrant. 2 transesophageal tubes end in the upper portion of the nondistended stomach. mild to moderate cardiomegaly. chronic cardiomegaly. chronic severe multinodular pulmonary abnormality. bronchiectasis. substantial increase in background lung density. background lung density probably pulmonary edema. worsening of background lung density between 03:00 and 09:00. slight improvement of background lung density by 13:00. worsening of background lung density again. right jugular line ends in the upper right atrium. ET tube in standard placement\n",
      "2025-01-11 23:01:10,950 - \u001b[1;32mINFO\u001b[1;0m - Saving batch API requests to /home/pamessina/medvqa-workspace/tmp/mimiccxr/openai/batch_api_requests_20250111_230110.jsonl\n"
     ]
    },
    {
     "name": "stdout",
     "output_type": "stream",
     "text": [
      "2025-01-11 23:01:13,410 - \u001b[1;32mINFO\u001b[1;0m - HTTP Request: POST https://api.openai.com/v1/files \"HTTP/1.1 200 OK\"\n",
      "2025-01-11 23:01:13,412 - \u001b[1;32mINFO\u001b[1;0m - Creating batch with input file ID file-AbXtAx8RZcLEqfMbm2aJ83\n",
      "2025-01-11 23:01:14,049 - \u001b[1;32mINFO\u001b[1;0m - HTTP Request: POST https://api.openai.com/v1/batches \"HTTP/1.1 200 OK\"\n",
      "2025-01-11 23:01:14,055 - \u001b[1;32mINFO\u001b[1;0m - Batch object: Batch(id='batch_67832269d0f081909a56366025a52656', completion_window='24h', created_at=1736647273, endpoint='/v1/chat/completions', input_file_id='file-AbXtAx8RZcLEqfMbm2aJ83', object='batch', status='validating', cancelled_at=None, cancelling_at=None, completed_at=None, error_file_id=None, errors=None, expired_at=None, expires_at=1736733673, failed_at=None, finalizing_at=None, in_progress_at=None, metadata={'description': 'extract negative facts from fact-based reports'}, output_file_id=None, request_counts=BatchRequestCounts(completed=0, failed=0, total=0))\n",
      "2025-01-11 23:01:14,056 - \u001b[1;32mINFO\u001b[1;0m - Saving batch object to /home/pamessina/medvqa-workspace/tmp/mimiccxr/openai/batch_api/file-AbXtAx8RZcLEqfMbm2aJ83.pkl\n",
      "2025-01-11 23:01:14,056 - \u001b[1;32mINFO\u001b[1;0m - Deleting batch API requests at /home/pamessina/medvqa-workspace/tmp/mimiccxr/openai/batch_api_requests_20250111_230110.jsonl\n"
     ]
    }
   ],
   "source": [
    "!python ../../scripts/mimiccxr/extract_negative_facts_from_reports_with_openai.py \\\n",
    "--offset 0 \\\n",
    "--num_samples 1000 \\\n",
    "--integrated_report_facts_jsonl_filepath \\\n",
    "\"/home/pamessina/medvqa-workspace/cache/mimiccxr/integrated_report_facts(79040140).jsonl\" \\\n",
    "--max_requests_per_minute 9000 \\\n",
    "--max_tokens_per_minute 100000000 \\\n",
    "--max_tokens_per_request 500 \\\n",
    "--logging_level \"INFO\" \\\n",
    "--api_key_name \"OPENAI_API_KEY_1\" \\\n",
    "--openai_model_name \"gpt-4-1106-preview\" \\\n",
    "--use_batch_api \\\n",
    "--batch_description \"extract negative facts from fact-based reports\""
   ]
  },
  {
   "cell_type": "code",
   "execution_count": 234,
   "id": "7ca44aad",
   "metadata": {
    "scrolled": true
   },
   "outputs": [
    {
     "name": "stdout",
     "output_type": "stream",
     "text": [
      "2025-01-11 23:38:20,465 - \u001b[1;32mINFO\u001b[1;0m - Checking status of batch with input file ID file-AbXtAx8RZcLEqfMbm2aJ83\n",
      "2025-01-11 23:38:20,864 - \u001b[1;32mINFO\u001b[1;0m - Batch object: Batch(id='batch_67832269d0f081909a56366025a52656', completion_window='24h', created_at=1736647273, endpoint='/v1/chat/completions', input_file_id='file-AbXtAx8RZcLEqfMbm2aJ83', object='batch', status='validating', cancelled_at=None, cancelling_at=None, completed_at=None, error_file_id=None, errors=None, expired_at=None, expires_at=1736733673, failed_at=None, finalizing_at=None, in_progress_at=None, metadata={'description': 'extract negative facts from fact-based reports'}, output_file_id=None, request_counts=BatchRequestCounts(completed=0, failed=0, total=0))\n",
      "2025-01-11 23:38:22,032 - \u001b[1;32mINFO\u001b[1;0m - HTTP Request: GET https://api.openai.com/v1/batches/batch_67832269d0f081909a56366025a52656 \"HTTP/1.1 200 OK\"\n",
      "2025-01-11 23:38:22,040 - \u001b[1;32mINFO\u001b[1;0m - Batch: Batch(id='batch_67832269d0f081909a56366025a52656', completion_window='24h', created_at=1736647273, endpoint='/v1/chat/completions', input_file_id='file-AbXtAx8RZcLEqfMbm2aJ83', object='batch', status='completed', cancelled_at=None, cancelling_at=None, completed_at=1736647839, error_file_id=None, errors=None, expired_at=None, expires_at=1736733673, failed_at=None, finalizing_at=1736647758, in_progress_at=1736647275, metadata={'description': 'extract negative facts from fact-based reports'}, output_file_id='file-7nBf6zTyJNcem5cHbUj23H', request_counts=BatchRequestCounts(completed=1000, failed=0, total=1000))\n",
      "2025-01-11 23:38:22,040 - \u001b[1;32mINFO\u001b[1;0m - Batch status: completed\n",
      "2025-01-11 23:38:22,040 - \u001b[1;32mINFO\u001b[1;0m - Batch with input file ID file-AbXtAx8RZcLEqfMbm2aJ83 is completed\n",
      "2025-01-11 23:38:22,041 - \u001b[1;32mINFO\u001b[1;0m - Retrieving batch input file ID file-AbXtAx8RZcLEqfMbm2aJ83\n",
      "2025-01-11 23:38:22,924 - \u001b[1;32mINFO\u001b[1;0m - HTTP Request: GET https://api.openai.com/v1/files/file-AbXtAx8RZcLEqfMbm2aJ83/content \"HTTP/1.1 200 OK\"\n",
      "2025-01-11 23:38:23,784 - \u001b[1;32mINFO\u001b[1;0m - Retrieved metadata for 1000 queries\n",
      "2025-01-11 23:38:23,784 - \u001b[1;32mINFO\u001b[1;0m - Retrieving batch output file ID file-7nBf6zTyJNcem5cHbUj23H\n",
      "2025-01-11 23:38:24,195 - \u001b[1;32mINFO\u001b[1;0m - HTTP Request: GET https://api.openai.com/v1/files/file-7nBf6zTyJNcem5cHbUj23H/content \"HTTP/1.1 200 OK\"\n",
      "2025-01-11 23:38:24,958 - \u001b[1;31mERROR\u001b[1;0m - 1 error messages occurred while parsing responses\n",
      "2025-01-11 23:38:24,958 - \u001b[1;31mERROR\u001b[1;0m - Error parsing response {\"id\": \"batch_req_6783245b1fe48190b88fcb1b50b9f394\", \"custom_id\": \"152\", \"response\": {\"status_code\": 200, \"request_id\": \"1c4b09766793e8fe075d1e8f54e9dd05\", \"body\": {\"id\": \"chatcmpl-AohdBgIsiy1X7liFx0fObud329Pa4\", \"object\": \"chat.completion\", \"created\": 1736647481, \"model\": \"gpt-4-1106-preview\", \"choices\": [{\"index\": 0, \"message\": {\"role\": \"assistant\", \"content\": \"```json\\n{\\n  \\\"reason\\\": \\\"The radiology report provides specific findings that rule out certain abnormalities. Terms like 'within normal limits', 'no signs of', 'unremarkable', and 'free' indicate the absence of abnormalities in the respective anatomical regions.\\\",\\n  \\\"ruled_out_abnormalities\\\": {\\n    \\\"heart size within normal limits\\\": [\\\"cardiomegaly\\\"],\\n    \\\"no typical configurational abnormality\\\": [\\\"congenital heart deformity\\\"],\\n    \\\"unremarkable thoracic aorta\\\": [\\\"thoracic aortic aneurysm\\\", \\\"thoracic aortic dissection\\\"],\\n    \\\"no mediastinal abnormalities\\\": [\\\"mediastinal mass\\\", \\\"mediastinal lymphadenopathy\\\"],\\n    \\\"normal pulmonary vasculature\\\": [\\\"pulmonary embolism\\\", \\\"pulmonary arterial hypertension\\\"],\\n    \\\"no signs of acute parenchymal infiltrates\\\": [\\\"acute pneumonia\\\", \\\"acute interstitial lung disease\\\"],\\n    \\\"no signs of chronic parenchymal infiltrates\\\": [\\\"chronic pneumonia\\\", \\\"chronic interstitial lung disease\\\"],\\n    \\\"free lateral pleural sinuses\\\": [\\\"lateral pleural effusion\\\"],\\n    \\\"free posterior pleural sinuses\\\": [\\\"posterior pleural effusion\\\"],\\n    \\\"no pneumothorax identified in the apical area on the frontal view\\\": [\\\"apical pneumothorax\\\"],\\n    \\\"skeletal structures of the thorax within normal limits\\\": [\\\"rib fracture\\\", \\\"costochondral separation\\\"],\\n    \\\"unremarkable rib structures including rib one\\\": [\\\"first rib fracture\\\"],\\n    \\\"unremarkable rib structures including rib two\\\": [\\\"second rib fracture\\\"],\\n    \\\"unremarkable rib structures including rib three\\\": [\\\"third rib fracture\\\"],\\n    \\\"unremarkable rib structures including rib four\\\": [\\\"fourth rib fracture\\\"],\\n    \\\"unremarkable rib structures including rib five\\\": [\\\"fifth rib fracture\\\"],\\n    \\\"unremarkable rib structures including rib six\\\": [\\\"sixth rib fracture\\\"],\\n    \\\"unremarkable rib structures including rib seven\\\": [\\\"seventh rib fracture\\\"],\\n    \\\"unremarkable rib structures including rib eight\\\": [\\\"eighth rib fracture\\\"],\\n    \\\"unremarkable rib structures including rib nine\\\": [\\\"ninth rib fracture\\\"],\\n    \\\"unremarkable rib structures including rib ten\\\": [\\\"tenth rib fracture\\\"],\\n    \\\"unremarkable rib structures including rib eleven\\\": [\\\"eleventh rib fracture\\\"],\\n    \\\"unremarkable rib structures including rib twelve\\\":\", \"refusal\": null}, \"logprobs\": null, \"finish_reason\": \"length\"}], \"usage\": {\"prompt_tokens\": 575, \"completion_tokens\": 500, \"total_tokens\": 1075, \"prompt_tokens_details\": {\"cached_tokens\": 0, \"audio_tokens\": 0}, \"completion_tokens_details\": {\"reasoning_tokens\": 0, \"audio_tokens\": 0, \"accepted_prediction_tokens\": 0, \"rejected_prediction_tokens\": 0}}, \"service_tier\": \"default\", \"system_fingerprint\": null}}, \"error\": null} for query \"PA chest view obtained with patient in upright position. lateral chest view obtained with patient in upright position. heart size within normal limits. no typical configurational abnormality. unremarkable thoracic aorta. no mediastinal abnormalities. normal pulmonary vasculature. no signs of acute parenchymal infiltrates. no signs of chronic parenchymal infiltrates. free lateral pleural sinuses. free posterior pleural sinuses. no pneumothorax identified in the apical area on the frontal view. skeletal structures of the thorax within normal limits. unremarkable rib structures including rib one. unremarkable rib structures including rib two. unremarkable rib structures including rib three. unremarkable rib structures including rib four. unremarkable rib structures including rib five. unremarkable rib structures including rib six. unremarkable rib structures including rib seven. unremarkable rib structures including rib eight. unremarkable rib structures including rib nine. unremarkable rib structures including rib ten. unremarkable rib structures including rib eleven. unremarkable rib structures including rib twelve. unremarkable vertebral bodies of the thoracic spine on the lateral view. no sternal dislocation identified. unremarkable diaphragmatic contours. spleen size within normal limits. patient may have clinical evidence of acute rib fractures. recommendation for dedicated images using BB marker identification of most intense discomfort\": Could not parse output: ```json\n",
      "{\n",
      "  \"reason\": \"The radiology report provides specific findings that rule out certain abnormalities. Terms like 'within normal limits', 'no signs of', 'unremarkable', and 'free' indicate the absence of abnormalities in the respective anatomical regions.\",\n",
      "  \"ruled_out_abnormalities\": {\n",
      "    \"heart size within normal limits\": [\"cardiomegaly\"],\n",
      "    \"no typical configurational abnormality\": [\"congenital heart deformity\"],\n",
      "    \"unremarkable thoracic aorta\": [\"thoracic aortic aneurysm\", \"thoracic aortic dissection\"],\n",
      "    \"no mediastinal abnormalities\": [\"mediastinal mass\", \"mediastinal lymphadenopathy\"],\n",
      "    \"normal pulmonary vasculature\": [\"pulmonary embolism\", \"pulmonary arterial hypertension\"],\n",
      "    \"no signs of acute parenchymal infiltrates\": [\"acute pneumonia\", \"acute interstitial lung disease\"],\n",
      "    \"no signs of chronic parenchymal infiltrates\": [\"chronic pneumonia\", \"chronic interstitial lung disease\"],\n",
      "    \"free lateral pleural sinuses\": [\"lateral pleural effusion\"],\n",
      "    \"free posterior pleural sinuses\": [\"posterior pleural effusion\"],\n",
      "    \"no pneumothorax identified in the apical area on the frontal view\": [\"apical pneumothorax\"],\n"
     ]
    },
    {
     "name": "stdout",
     "output_type": "stream",
     "text": [
      "    \"skeletal structures of the thorax within normal limits\": [\"rib fracture\", \"costochondral separation\"],\r\n",
      "    \"unremarkable rib structures including rib one\": [\"first rib fracture\"],\r\n",
      "    \"unremarkable rib structures including rib two\": [\"second rib fracture\"],\r\n",
      "    \"unremarkable rib structures including rib three\": [\"third rib fracture\"],\r\n",
      "    \"unremarkable rib structures including rib four\": [\"fourth rib fracture\"],\r\n",
      "    \"unremarkable rib structures including rib five\": [\"fifth rib fracture\"],\r\n",
      "    \"unremarkable rib structures including rib six\": [\"sixth rib fracture\"],\r\n",
      "    \"unremarkable rib structures including rib seven\": [\"seventh rib fracture\"],\r\n",
      "    \"unremarkable rib structures including rib eight\": [\"eighth rib fracture\"],\r\n",
      "    \"unremarkable rib structures including rib nine\": [\"ninth rib fracture\"],\r\n",
      "    \"unremarkable rib structures including rib ten\": [\"tenth rib fracture\"],\r\n",
      "    \"unremarkable rib structures including rib eleven\": [\"eleventh rib fracture\"],\r\n",
      "    \"unremarkable rib structures including rib twelve\":\r\n",
      "2025-01-11 23:38:24,958 - \u001b[1;32mINFO\u001b[1;0m - Succesfully processed 999 of 1000 API responses.\r\n",
      "                                    1 of 1000 API responses could not be processed.\r\n",
      "                                    Saving processed texts to /mnt/data/pamessina_folder_backup_15_10_24/pamessina/medvqa-workspace/cache/mimiccxr/openai/gpt-4-1106-preview_fact_based_report_to_negative_facts.jsonl\r\n"
     ]
    }
   ],
   "source": [
    "!python ../../scripts/mimiccxr/extract_negative_facts_from_reports_with_openai.py \\\n",
    "--batch_input_file_id \"file-AbXtAx8RZcLEqfMbm2aJ83\" \\\n",
    "--logging_level \"INFO\" \\\n",
    "--api_key_name \"OPENAI_API_KEY_1\" \\\n",
    "--openai_model_name \"gpt-4-1106-preview\" \\\n",
    "--use_batch_api"
   ]
  },
  {
   "cell_type": "code",
   "execution_count": 248,
   "id": "ae1a6499",
   "metadata": {
    "scrolled": false
   },
   "outputs": [
    {
     "name": "stdout",
     "output_type": "stream",
     "text": [
      "2025-01-11 23:54:56,877 - \u001b[1;32mINFO\u001b[1;0m - Loaded 999 already processed queries from /mnt/data/pamessina_folder_backup_15_10_24/pamessina/medvqa-workspace/cache/mimiccxr/openai/gpt-4-1106-preview_fact_based_report_to_negative_facts.jsonl\n",
      "2025-01-11 23:55:00,586 - \u001b[1;32mINFO\u001b[1;0m - Total number of fact based reports: 211226\n",
      "2025-01-11 23:55:00,640 - \u001b[1;32mINFO\u001b[1;0m - Loading cached sorted sentences from /mnt/data/pamessina_folder_backup_15_10_24/pamessina/medvqa-workspace/cache/sorted_sentences(211226,75856766).pkl...\n",
      "2025-01-11 23:55:00,713 - \u001b[1;32mINFO\u001b[1;0m - Done loading cached sorted sentences.\n",
      "2025-01-11 23:55:00,713 - \u001b[1;32mINFO\u001b[1;0m - First sentence: Destruction of the T6/T7 interspace. Increased T2/STIR signal at the T6/T7 interspace. Postcontrast enhancement at the T6/T7 interspace. Partial destruction of the T6 inferior end plate. Partial destruction of the T7 superior endplate. Loss of anterior vertebral body height at T6/T7. Discitis/osteomyelitis complex at T6/T7. prominent prevertebral enhancing soft tissue affecting the anterior inferior portion of the T5 vertebral body. anterior epidural enhancement from T5-T7. suspicion for small component of epidural abscess. exaggerated kyphotic angulation at the T6/T7 level. small amount of retropulsion focally contacting the cord. without significant canal stenosis. normal cord signal. multilevel non-critical degenerative changes. Multilevel Tarlov cysts. normal heart size. mild tortuosity of the thoracic aorta. unremarkable hilar contours. clear lungs. normal pleural surfaces. posterior thickening. healed left posterolateral rib fractures. midthoracic disc space narrowing due to chronic disc degeneration. T6/T7 discitis. T6/T7 osteomyelitis. interspace and endplate destruction at T6/T7. focal involvement of T5. probable tiny epidural abscess from T5-T7. kyphotic angulation focally contacting the spinal cord without compression at T5-T7. no acute cardiopulmonary abnormality\n",
      "2025-01-11 23:55:00,713 - \u001b[1;32mINFO\u001b[1;0m - Last sentence: \n",
      "2025-01-11 23:55:01,001 - \u001b[1;32mINFO\u001b[1;0m - Total number of queries to process: 9001\n",
      "2025-01-11 23:55:01,001 - \u001b[1;32mINFO\u001b[1;0m - Example queries to process:\n",
      "2025-01-11 23:55:01,002 - \u001b[1;32mINFO\u001b[1;0m - 1. PA chest view obtained with patient in upright position. lateral chest view obtained with patient in upright position. heart size within normal limits. no typical configurational abnormality. unremarkable thoracic aorta. no mediastinal abnormalities. normal pulmonary vasculature. no signs of acute parenchymal infiltrates. no signs of chronic parenchymal infiltrates. free lateral pleural sinuses. free posterior pleural sinuses. no pneumothorax identified in the apical area on the frontal view. skeletal structures of the thorax within normal limits. unremarkable rib structures including rib one. unremarkable rib structures including rib two. unremarkable rib structures including rib three. unremarkable rib structures including rib four. unremarkable rib structures including rib five. unremarkable rib structures including rib six. unremarkable rib structures including rib seven. unremarkable rib structures including rib eight. unremarkable rib structures including rib nine. unremarkable rib structures including rib ten. unremarkable rib structures including rib eleven. unremarkable rib structures including rib twelve. unremarkable vertebral bodies of the thoracic spine on the lateral view. no sternal dislocation identified. unremarkable diaphragmatic contours. spleen size within normal limits. patient may have clinical evidence of acute rib fractures. recommendation for dedicated images using BB marker identification of most intense discomfort\n",
      "2025-01-11 23:55:01,002 - \u001b[1;32mINFO\u001b[1;0m - 1001. normal cardiac contours. normal mediastinal contours. normal hilar contours. normal pulmonary vascularity. clear lungs. no pleural effusion. no pneumothorax. no acute osseous abnormalities. unchanged ring-like metallic structure within the left upper quadrant of the abdomen. ring-like metallic structure within the left upper quadrant of the abdomen compatible with LINX implant. no acute cardiopulmonary abnormality\n",
      "2025-01-11 23:55:01,002 - \u001b[1;32mINFO\u001b[1;0m - 2001. round opacity in the left upper lobe. laceration seen on prior CT. enlarged round opacity. left rib fracture. no subcutaneous emphysema. small bilateral pleural effusions. left IJ catheter in stable position. no pneumothorax. enlarging hematocyst in the left lung. pulmonary laceration in the left lung\n",
      "2025-01-11 23:55:01,002 - \u001b[1;32mINFO\u001b[1;0m - 3001. stably enlarged cardiac silhouette. minimal increase in right perihilar opacities. minimal increase in right basilar opacities. minimal increase in left perihilar opacities. minimal increase in left basilar opacities. distention of the azygos vein. volume overload favoring asymmetric edema. no large pleural effusion. no pneumothorax. minimal interval increase of right perihilar/basilar predominant opacities. minimal interval increase of left perihilar/basilar predominant opacities. asymmetric pulmonary edema in the right perihilar/basilar region. asymmetric pulmonary edema in the left perihilar/basilar region. possible underlying infectious etiology in the right perihilar/basilar region. possible underlying infectious etiology in the left perihilar/basilar region\n",
      "2025-01-11 23:55:01,002 - \u001b[1;32mINFO\u001b[1;0m - 4001. PA view of the chest provided. lateral view of the chest provided. mildly enlarged heart. dual-lead pacer unchanged in position. lead tips extending into the right atrium. lead tips extending into the right ventricle. no pneumothorax. no pleural effusion. no signs of pneumonia. no CHF. intact bony structures. unchanged cardiomegaly. no evidence of interval change. no evidence of pacemaker-related complication\n",
      "2025-01-11 23:55:01,002 - \u001b[1;32mINFO\u001b[1;0m - 5001. PA chest compared to previous study. lateral chest compared to previous study. basal pleural drains in the right hemithorax. substantial increase in the right pleural effusion. largely basal right pleural effusion. small lateral component of right pleural effusion. obliteration of the right bronchial tree at the level of the upper lobe. possible extrinsic compression of the right bronchial tree at the level of the upper lobe. possible invasion of the right bronchial tree at the level of the upper lobe. possible retained secretions in the right bronchial tree at the level of the upper lobe. clear left lung. small left pleural effusion. obscured cardiac silhouette in the right hemithorax. pleural abnormalities in the right hemithorax. parenchymal abnormalities in the right hemithorax. shifted cardiac silhouette ipsilaterally. non-enlarged cardiac silhouette\n",
      "2025-01-11 23:55:01,002 - \u001b[1;32mINFO\u001b[1;0m - 6001. small-to-moderate right apical pneumothorax at the level of the third posterior interspace. degree of rightward mediastinal shift. stable since 12:30 p.m.. small left pleural effusion unchanged. cleared left lower lobe. developing early consolidation in the left upper lobe. normal heart size. volume of pleural fluid at the base of the right hemithorax is largely posterior. volume of pleural fluid at the base of the right hemithorax could be subpulmonic. volume of pleural fluid unchanged for the past several days. difficulty distinguishing atelectasis in the right middle lobe. suggestion for CT scanning if distinguishing atelectasis in the right middle lobe becomes an issue\n",
      "2025-01-11 23:55:01,002 - \u001b[1;32mINFO\u001b[1;0m - 7001. right pigtail pleural drainage catheter unchanged in position along the right lower costal pleural surface. right pigtail pleural drainage catheter folded as it enters the chest. moderate right pleural effusion. re-accumulating right pleural effusion. slightly larger right pleural effusion today. worsened left lower lobe atelectasis. left-sided pigtail pleural drainage catheter unchanged in position. left-sided pigtail pleural drainage catheter resting on the left heart border. no appreciable left pneumothorax. no pleural effusion. moderate cardiomegaly unchanged recently. moderate cardiomegaly new since. transvenous right atrio-biventricular pacer defibrillator system unchanged in position\n",
      "2025-01-11 23:55:01,002 - \u001b[1;32mINFO\u001b[1;0m - 8001. cardiomegaly. pulmonary vascular congestion. mild improvement since the previous exam. increased opacity in the right lower lobe. increased opacity in the left lower lobe. underlying pneumonia cannot be excluded. underlying aspiration cannot be excluded. surgical clips over the left upper ex. improved CHF. bilateral lower lobe opacities\n",
      "2025-01-11 23:55:01,002 - \u001b[1;32mINFO\u001b[1;0m - 9001. hypertension. depression. desaturation. lower lung volumes. difficulty comparing the size of the cavitary lesions. similar findings compared to the prior exam. increased pulmonary vascular redistribution. ill-defined hazy vasculature. element of fluid overload. fluid overload on top of infectious process. fluid overload on top of vasculitic process. fluid overload on top of neoplastic process\n"
     ]
    },
    {
     "name": "stdout",
     "output_type": "stream",
     "text": [
      "2025-01-11 23:55:01,028 - \u001b[1;32mINFO\u001b[1;0m - Saving batch API requests to /home/pamessina/medvqa-workspace/tmp/mimiccxr/openai/batch_api_requests_20250111_235501.jsonl\n",
      "2025-01-11 23:55:04,708 - \u001b[1;32mINFO\u001b[1;0m - HTTP Request: POST https://api.openai.com/v1/files \"HTTP/1.1 200 OK\"\n",
      "2025-01-11 23:55:04,710 - \u001b[1;32mINFO\u001b[1;0m - Creating batch with input file ID file-1yWDvxryqSg1iv1QUMvF4Z\n",
      "2025-01-11 23:55:05,737 - \u001b[1;32mINFO\u001b[1;0m - HTTP Request: POST https://api.openai.com/v1/batches \"HTTP/1.1 200 OK\"\n",
      "2025-01-11 23:55:05,744 - \u001b[1;32mINFO\u001b[1;0m - Batch object: Batch(id='batch_67832f09889081908b221f6b09a90912', completion_window='24h', created_at=1736650505, endpoint='/v1/chat/completions', input_file_id='file-1yWDvxryqSg1iv1QUMvF4Z', object='batch', status='validating', cancelled_at=None, cancelling_at=None, completed_at=None, error_file_id=None, errors=None, expired_at=None, expires_at=1736736905, failed_at=None, finalizing_at=None, in_progress_at=None, metadata={'description': 'extract negative facts from fact-based reports'}, output_file_id=None, request_counts=BatchRequestCounts(completed=0, failed=0, total=0))\n",
      "2025-01-11 23:55:05,745 - \u001b[1;32mINFO\u001b[1;0m - Saving batch object to /home/pamessina/medvqa-workspace/tmp/mimiccxr/openai/batch_api/file-1yWDvxryqSg1iv1QUMvF4Z.pkl\n",
      "2025-01-11 23:55:05,745 - \u001b[1;32mINFO\u001b[1;0m - Deleting batch API requests at /home/pamessina/medvqa-workspace/tmp/mimiccxr/openai/batch_api_requests_20250111_235501.jsonl\n"
     ]
    }
   ],
   "source": [
    "!python ../../scripts/mimiccxr/extract_negative_facts_from_reports_with_openai.py \\\n",
    "--offset 0 \\\n",
    "--num_samples 10000 \\\n",
    "--integrated_report_facts_jsonl_filepath \\\n",
    "\"/home/pamessina/medvqa-workspace/cache/mimiccxr/integrated_report_facts(79040140).jsonl\" \\\n",
    "--max_requests_per_minute 9000 \\\n",
    "--max_tokens_per_minute 100000000 \\\n",
    "--max_tokens_per_request 700 \\\n",
    "--logging_level \"INFO\" \\\n",
    "--api_key_name \"OPENAI_API_KEY_1\" \\\n",
    "--openai_model_name \"gpt-4-1106-preview\" \\\n",
    "--use_batch_api \\\n",
    "--batch_description \"extract negative facts from fact-based reports\""
   ]
  },
  {
   "cell_type": "code",
   "execution_count": 252,
   "id": "fe4ceb8b",
   "metadata": {
    "scrolled": true
   },
   "outputs": [
    {
     "name": "stdout",
     "output_type": "stream",
     "text": [
      "2025-01-12 02:05:46,610 - \u001b[1;32mINFO\u001b[1;0m - Checking status of batch with input file ID file-1yWDvxryqSg1iv1QUMvF4Z\n",
      "2025-01-12 02:05:47,004 - \u001b[1;32mINFO\u001b[1;0m - Batch object: Batch(id='batch_67832f09889081908b221f6b09a90912', completion_window='24h', created_at=1736650505, endpoint='/v1/chat/completions', input_file_id='file-1yWDvxryqSg1iv1QUMvF4Z', object='batch', status='validating', cancelled_at=None, cancelling_at=None, completed_at=None, error_file_id=None, errors=None, expired_at=None, expires_at=1736736905, failed_at=None, finalizing_at=None, in_progress_at=None, metadata={'description': 'extract negative facts from fact-based reports'}, output_file_id=None, request_counts=BatchRequestCounts(completed=0, failed=0, total=0))\n",
      "2025-01-12 02:05:47,883 - \u001b[1;32mINFO\u001b[1;0m - HTTP Request: GET https://api.openai.com/v1/batches/batch_67832f09889081908b221f6b09a90912 \"HTTP/1.1 200 OK\"\n",
      "2025-01-12 02:05:47,892 - \u001b[1;32mINFO\u001b[1;0m - Batch: Batch(id='batch_67832f09889081908b221f6b09a90912', completion_window='24h', created_at=1736650505, endpoint='/v1/chat/completions', input_file_id='file-1yWDvxryqSg1iv1QUMvF4Z', object='batch', status='completed', cancelled_at=None, cancelling_at=None, completed_at=1736653618, error_file_id=None, errors=None, expired_at=None, expires_at=1736736905, failed_at=None, finalizing_at=1736652701, in_progress_at=1736650508, metadata={'description': 'extract negative facts from fact-based reports'}, output_file_id='file-66BAZi44BFe72qnNbRQQZU', request_counts=BatchRequestCounts(completed=9001, failed=0, total=9001))\n",
      "2025-01-12 02:05:47,892 - \u001b[1;32mINFO\u001b[1;0m - Batch status: completed\n",
      "2025-01-12 02:05:47,892 - \u001b[1;32mINFO\u001b[1;0m - Batch with input file ID file-1yWDvxryqSg1iv1QUMvF4Z is completed\n",
      "2025-01-12 02:05:47,892 - \u001b[1;32mINFO\u001b[1;0m - Retrieving batch input file ID file-1yWDvxryqSg1iv1QUMvF4Z\n",
      "2025-01-12 02:05:48,625 - \u001b[1;32mINFO\u001b[1;0m - HTTP Request: GET https://api.openai.com/v1/files/file-1yWDvxryqSg1iv1QUMvF4Z/content \"HTTP/1.1 200 OK\"\n",
      "2025-01-12 02:05:50,238 - \u001b[1;32mINFO\u001b[1;0m - Retrieved metadata for 9001 queries\n",
      "2025-01-12 02:05:50,239 - \u001b[1;32mINFO\u001b[1;0m - Retrieving batch output file ID file-66BAZi44BFe72qnNbRQQZU\n",
      "2025-01-12 02:05:50,834 - \u001b[1;32mINFO\u001b[1;0m - HTTP Request: GET https://api.openai.com/v1/files/file-66BAZi44BFe72qnNbRQQZU/content \"HTTP/1.1 200 OK\"\n",
      "2025-01-12 02:05:52,790 - \u001b[1;32mINFO\u001b[1;0m - Succesfully processed 9001 of 9001 API responses.\n",
      "                                    0 of 9001 API responses could not be processed.\n",
      "                                    Saving processed texts to /mnt/data/pamessina_folder_backup_15_10_24/pamessina/medvqa-workspace/cache/mimiccxr/openai/gpt-4-1106-preview_fact_based_report_to_negative_facts.jsonl\n"
     ]
    }
   ],
   "source": [
    "!python ../../scripts/mimiccxr/extract_negative_facts_from_reports_with_openai.py \\\n",
    "--batch_input_file_id \"file-1yWDvxryqSg1iv1QUMvF4Z\" \\\n",
    "--logging_level \"INFO\" \\\n",
    "--api_key_name \"OPENAI_API_KEY_1\" \\\n",
    "--openai_model_name \"gpt-4-1106-preview\" \\\n",
    "--use_batch_api"
   ]
  },
  {
   "cell_type": "code",
   "execution_count": 250,
   "id": "b4afb4e8",
   "metadata": {
    "scrolled": true
   },
   "outputs": [
    {
     "name": "stdout",
     "output_type": "stream",
     "text": [
      "2025-01-12 00:05:35,613 - \u001b[1;32mINFO\u001b[1;0m - Total number of fact based reports: 211226\n",
      "2025-01-12 00:05:35,666 - \u001b[1;32mINFO\u001b[1;0m - Loading cached sorted sentences from /mnt/data/pamessina_folder_backup_15_10_24/pamessina/medvqa-workspace/cache/sorted_sentences(211226,75856766).pkl...\n",
      "2025-01-12 00:05:35,738 - \u001b[1;32mINFO\u001b[1;0m - Done loading cached sorted sentences.\n",
      "2025-01-12 00:05:35,738 - \u001b[1;32mINFO\u001b[1;0m - First sentence: Destruction of the T6/T7 interspace. Increased T2/STIR signal at the T6/T7 interspace. Postcontrast enhancement at the T6/T7 interspace. Partial destruction of the T6 inferior end plate. Partial destruction of the T7 superior endplate. Loss of anterior vertebral body height at T6/T7. Discitis/osteomyelitis complex at T6/T7. prominent prevertebral enhancing soft tissue affecting the anterior inferior portion of the T5 vertebral body. anterior epidural enhancement from T5-T7. suspicion for small component of epidural abscess. exaggerated kyphotic angulation at the T6/T7 level. small amount of retropulsion focally contacting the cord. without significant canal stenosis. normal cord signal. multilevel non-critical degenerative changes. Multilevel Tarlov cysts. normal heart size. mild tortuosity of the thoracic aorta. unremarkable hilar contours. clear lungs. normal pleural surfaces. posterior thickening. healed left posterolateral rib fractures. midthoracic disc space narrowing due to chronic disc degeneration. T6/T7 discitis. T6/T7 osteomyelitis. interspace and endplate destruction at T6/T7. focal involvement of T5. probable tiny epidural abscess from T5-T7. kyphotic angulation focally contacting the spinal cord without compression at T5-T7. no acute cardiopulmonary abnormality\n",
      "2025-01-12 00:05:35,738 - \u001b[1;32mINFO\u001b[1;0m - Last sentence: \n",
      "2025-01-12 00:05:36,028 - \u001b[1;32mINFO\u001b[1;0m - Total number of queries to process: 40000\n",
      "2025-01-12 00:05:36,028 - \u001b[1;32mINFO\u001b[1;0m - Example queries to process:\n",
      "2025-01-12 00:05:36,028 - \u001b[1;32mINFO\u001b[1;0m - 1. multiple median sternotomy wires. stable cardiomediastinal contours. tortuous thoracic aorta. eventration of the right hemidiaphragm is stable. unremarkable bilateral hila. clear lungs. lungs without focal consolidation. no evidence of pulmonary vascular congestion. no evidence of pulmonary edema. no pneumothorax. no pleural effusion. compression deformity of a lower thoracic vertebral body. acute kyphotic angulation at the level of the lower thoracic vertebral body. Lumbar spine fixation hardware with rods and transpedicular screws. partially imaged lumbar spine fixation hardware. no acute cardiopulmonary process\n",
      "2025-01-12 00:05:36,028 - \u001b[1;32mINFO\u001b[1;0m - 4445. better lung volumes. no focal parenchymal opacity. left PICC ends at midclavicular line. portacath ends in the lower SVC. unchanged portacath. previous vascular congestion has resolved. lung volumes have improved. mild cardiomegaly. chronic cardiomegaly. traceable left PIC line from left axilla to inner margin of first rib. tip lies more central than that. require conventional radiography for localization. left subclavian line ends in the mid SVC. no pneumothorax. no appreciable pleural effusion\n",
      "2025-01-12 00:05:36,028 - \u001b[1;32mINFO\u001b[1;0m - 8889. bulky mediastinal lymphadenopathy. bulky bilateral hilar lymphadenopathy. poorly defined right juxta hilar opacity. post procedural hemorrhage in the right juxta hilar. lavage fluid in the right juxta hilar. localized aspiration in the post biopsy setting. no evidence of pneumothorax. known pulmonary micronodules seen on recent CT\n",
      "2025-01-12 00:05:36,028 - \u001b[1;32mINFO\u001b[1;0m - 13334. insertion of the right apical pigtail pleural drainage catheter. previously large right pneumothorax almost entirely resolved. distracted rib fractures of the right upper hemi thorax are unchanged. no layering right pleural effusion. mild consolidation in the right lung. improving consolidation in the right lung. clear left lung. normal cardiomediastinal silhouette. transient increase in heart size related to volume. transient increase in heart size not related to cardiac dysfunction\n",
      "2025-01-12 00:05:36,028 - \u001b[1;32mINFO\u001b[1;0m - 17778. frontal view of the chest. lateral view of the chest. known pulmonary nodules not clearly identified on this plain film. known pulmonary nodules seen on prior chest CT. clear lungs. cardiomediastinal silhouette within normal limits. no acute osseous abnormalities. degenerative changes at the right acromioclavicular joint. known pulmonary nodules not identified on this chest x-ray. followup suggested per recommendations on prior chest CT. no acute cardiopulmonary process\n",
      "2025-01-12 00:05:36,028 - \u001b[1;32mINFO\u001b[1;0m - 22222. reviewed PA upright chest radiograph. reviewed lateral upright chest radiograph. comparison to prior study. normal heart size. normal mediastinum. clear lungs. no pleural effusion. no pneumothorax. no overall abnormality that can explain patient's symptoms. reassessment with chest CT might be considered. extensive abdominal surgery. cholecystectomy. potential nephrectomy\n",
      "2025-01-12 00:05:36,028 - \u001b[1;32mINFO\u001b[1;0m - 26667. stable cardiac contours. stable mediastinal contours. stable hilar contours. opacity along the left cardiac apex. waxing and waning minor atelectasis. small epicardial fat pad. clear lungs. no pleural effusion. no pneumothorax. no evidence of acute cardiopulmonary disease\n",
      "2025-01-12 00:05:36,029 - \u001b[1;32mINFO\u001b[1;0m - 31111. enteric tube terminates at the GE junction. support devices should be advanced for optimal placement. widespread parenchymal opacities. severe pulmonary edema. ARDS. widespread pneumonia. pulmonary hemorrhage. endotracheal tube terminates 7.4 cm from the carina. enteric tube should be advanced for optimal placement. development of widespread pulmonary airspace opacities. low lung volumes. no pneumothorax. no pleural effusion. stable cardiomediastinal contour. unremarkable upper abdomen. unremarkable osseous structures\n",
      "2025-01-12 00:05:36,029 - \u001b[1;32mINFO\u001b[1;0m - 35555. comparison with previous chest radiographs. left thoracotomy. upper rib resections. large scale consolidation in the right lung. consolidation in the right lung has not improved. concurrent small right pleural effusion. concurrent moderate right pleural effusion. smaller right pleural effusion. no pneumothorax. clear left upper lung. atelectatic left lower lung. normal heart size. ET tube in standard placement. left internal jugular line in standard placement. transesophageal drainage tube in standard placement\n",
      "2025-01-12 00:05:36,029 - \u001b[1;32mINFO\u001b[1;0m - 40000. ET tube tip 3.2 cm above the carinal. NG tube tip in the stomach. aortic stent projecting in the upper abdomen. aortic stent partially imaged in the upper abdomen. right PICC line tip at the junction of the right brachycephalic vein and subclavian vein. progression of the left retrocardiac opacity. interval development of left lower lobe atelectasis. small right pleural effusion. presence of the left mediastinal shift\n",
      "2025-01-12 00:05:36,260 - \u001b[1;32mINFO\u001b[1;0m - Saving batch API requests to /home/pamessina/medvqa-workspace/tmp/mimiccxr/openai/batch_api_requests_20250112_000536.jsonl\n",
      "2025-01-12 00:05:46,651 - \u001b[1;32mINFO\u001b[1;0m - HTTP Request: POST https://api.openai.com/v1/files \"HTTP/1.1 200 OK\"\n",
      "2025-01-12 00:05:46,653 - \u001b[1;32mINFO\u001b[1;0m - Creating batch with input file ID file-6duoksM7RNQg3mSWdXpBtM\n",
      "2025-01-12 00:05:47,384 - \u001b[1;32mINFO\u001b[1;0m - HTTP Request: POST https://api.openai.com/v1/batches \"HTTP/1.1 200 OK\"\n",
      "2025-01-12 00:05:47,391 - \u001b[1;32mINFO\u001b[1;0m - Batch object: Batch(id='batch_6783318b27108190bd0b17ad15b25a3c', completion_window='24h', created_at=1736651147, endpoint='/v1/chat/completions', input_file_id='file-6duoksM7RNQg3mSWdXpBtM', object='batch', status='validating', cancelled_at=None, cancelling_at=None, completed_at=None, error_file_id=None, errors=None, expired_at=None, expires_at=1736737547, failed_at=None, finalizing_at=None, in_progress_at=None, metadata={'description': 'extract negative facts from fact-based reports'}, output_file_id=None, request_counts=BatchRequestCounts(completed=0, failed=0, total=0))\n",
      "2025-01-12 00:05:47,391 - \u001b[1;32mINFO\u001b[1;0m - Saving batch object to /home/pamessina/medvqa-workspace/tmp/mimiccxr/openai/batch_api/file-6duoksM7RNQg3mSWdXpBtM.pkl\n",
      "2025-01-12 00:05:47,391 - \u001b[1;32mINFO\u001b[1;0m - Deleting batch API requests at /home/pamessina/medvqa-workspace/tmp/mimiccxr/openai/batch_api_requests_20250112_000536.jsonl\n"
     ]
    }
   ],
   "source": [
    "!python ../../scripts/mimiccxr/extract_negative_facts_from_reports_with_openai.py \\\n",
    "--offset 10000 \\\n",
    "--num_samples 40000 \\\n",
    "--integrated_report_facts_jsonl_filepath \\\n",
    "\"/home/pamessina/medvqa-workspace/cache/mimiccxr/integrated_report_facts(79040140).jsonl\" \\\n",
    "--max_requests_per_minute 9000 \\\n",
    "--max_tokens_per_minute 20000000 \\\n",
    "--max_tokens_per_request 700 \\\n",
    "--logging_level \"INFO\" \\\n",
    "--api_key_name \"OPENAI_API_KEY_1\" \\\n",
    "--openai_model_name \"gpt-4o\" \\\n",
    "--use_batch_api \\\n",
    "--batch_description \"extract negative facts from fact-based reports\""
   ]
  },
  {
   "cell_type": "code",
   "execution_count": 259,
   "id": "2cc5b7b3",
   "metadata": {
    "scrolled": true
   },
   "outputs": [
    {
     "name": "stdout",
     "output_type": "stream",
     "text": [
      "2025-01-12 09:25:33,140 - \u001b[1;32mINFO\u001b[1;0m - Checking status of batch with input file ID file-6duoksM7RNQg3mSWdXpBtM\n",
      "2025-01-12 09:25:33,532 - \u001b[1;32mINFO\u001b[1;0m - Batch object: Batch(id='batch_6783318b27108190bd0b17ad15b25a3c', completion_window='24h', created_at=1736651147, endpoint='/v1/chat/completions', input_file_id='file-6duoksM7RNQg3mSWdXpBtM', object='batch', status='validating', cancelled_at=None, cancelling_at=None, completed_at=None, error_file_id=None, errors=None, expired_at=None, expires_at=1736737547, failed_at=None, finalizing_at=None, in_progress_at=None, metadata={'description': 'extract negative facts from fact-based reports'}, output_file_id=None, request_counts=BatchRequestCounts(completed=0, failed=0, total=0))\n",
      "2025-01-12 09:25:34,599 - \u001b[1;32mINFO\u001b[1;0m - HTTP Request: GET https://api.openai.com/v1/batches/batch_6783318b27108190bd0b17ad15b25a3c \"HTTP/1.1 200 OK\"\n",
      "2025-01-12 09:25:34,607 - \u001b[1;32mINFO\u001b[1;0m - Batch: Batch(id='batch_6783318b27108190bd0b17ad15b25a3c', completion_window='24h', created_at=1736651147, endpoint='/v1/chat/completions', input_file_id='file-6duoksM7RNQg3mSWdXpBtM', object='batch', status='completed', cancelled_at=None, cancelling_at=None, completed_at=1736661309, error_file_id=None, errors=None, expired_at=None, expires_at=1736737547, failed_at=None, finalizing_at=1736656835, in_progress_at=1736651158, metadata={'description': 'extract negative facts from fact-based reports'}, output_file_id='file-NhbzwY7YBtZ2hHobD1StP4', request_counts=BatchRequestCounts(completed=40000, failed=0, total=40000))\n",
      "2025-01-12 09:25:34,607 - \u001b[1;32mINFO\u001b[1;0m - Batch status: completed\n",
      "2025-01-12 09:25:34,607 - \u001b[1;32mINFO\u001b[1;0m - Batch with input file ID file-6duoksM7RNQg3mSWdXpBtM is completed\n",
      "2025-01-12 09:25:34,607 - \u001b[1;32mINFO\u001b[1;0m - Retrieving batch input file ID file-6duoksM7RNQg3mSWdXpBtM\n",
      "2025-01-12 09:25:35,838 - \u001b[1;32mINFO\u001b[1;0m - HTTP Request: GET https://api.openai.com/v1/files/file-6duoksM7RNQg3mSWdXpBtM/content \"HTTP/1.1 200 OK\"\n",
      "2025-01-12 09:25:40,299 - \u001b[1;32mINFO\u001b[1;0m - Retrieved metadata for 40000 queries\n",
      "2025-01-12 09:25:40,299 - \u001b[1;32mINFO\u001b[1;0m - Retrieving batch output file ID file-NhbzwY7YBtZ2hHobD1StP4\n",
      "2025-01-12 09:25:41,086 - \u001b[1;32mINFO\u001b[1;0m - HTTP Request: GET https://api.openai.com/v1/files/file-NhbzwY7YBtZ2hHobD1StP4/content \"HTTP/1.1 200 OK\"\n",
      "2025-01-12 09:25:46,604 - \u001b[1;32mINFO\u001b[1;0m - Succesfully processed 40000 of 40000 API responses.\n",
      "                                    0 of 40000 API responses could not be processed.\n",
      "                                    Saving processed texts to /mnt/data/pamessina_folder_backup_15_10_24/pamessina/medvqa-workspace/cache/mimiccxr/openai/gpt-4o_fact_based_report_to_negative_facts.jsonl\n"
     ]
    }
   ],
   "source": [
    "!python ../../scripts/mimiccxr/extract_negative_facts_from_reports_with_openai.py \\\n",
    "--batch_input_file_id \"file-6duoksM7RNQg3mSWdXpBtM\" \\\n",
    "--logging_level \"INFO\" \\\n",
    "--api_key_name \"OPENAI_API_KEY_1\" \\\n",
    "--openai_model_name \"gpt-4o\" \\\n",
    "--use_batch_api"
   ]
  },
  {
   "cell_type": "code",
   "execution_count": 251,
   "id": "eb0602ae",
   "metadata": {
    "scrolled": true
   },
   "outputs": [
    {
     "name": "stdout",
     "output_type": "stream",
     "text": [
      "2025-01-12 00:09:54,842 - \u001b[1;32mINFO\u001b[1;0m - Total number of fact based reports: 211226\n",
      "2025-01-12 00:09:54,895 - \u001b[1;32mINFO\u001b[1;0m - Loading cached sorted sentences from /mnt/data/pamessina_folder_backup_15_10_24/pamessina/medvqa-workspace/cache/sorted_sentences(211226,75856766).pkl...\n",
      "2025-01-12 00:09:54,967 - \u001b[1;32mINFO\u001b[1;0m - Done loading cached sorted sentences.\n",
      "2025-01-12 00:09:54,968 - \u001b[1;32mINFO\u001b[1;0m - First sentence: Destruction of the T6/T7 interspace. Increased T2/STIR signal at the T6/T7 interspace. Postcontrast enhancement at the T6/T7 interspace. Partial destruction of the T6 inferior end plate. Partial destruction of the T7 superior endplate. Loss of anterior vertebral body height at T6/T7. Discitis/osteomyelitis complex at T6/T7. prominent prevertebral enhancing soft tissue affecting the anterior inferior portion of the T5 vertebral body. anterior epidural enhancement from T5-T7. suspicion for small component of epidural abscess. exaggerated kyphotic angulation at the T6/T7 level. small amount of retropulsion focally contacting the cord. without significant canal stenosis. normal cord signal. multilevel non-critical degenerative changes. Multilevel Tarlov cysts. normal heart size. mild tortuosity of the thoracic aorta. unremarkable hilar contours. clear lungs. normal pleural surfaces. posterior thickening. healed left posterolateral rib fractures. midthoracic disc space narrowing due to chronic disc degeneration. T6/T7 discitis. T6/T7 osteomyelitis. interspace and endplate destruction at T6/T7. focal involvement of T5. probable tiny epidural abscess from T5-T7. kyphotic angulation focally contacting the spinal cord without compression at T5-T7. no acute cardiopulmonary abnormality\n",
      "2025-01-12 00:09:54,968 - \u001b[1;32mINFO\u001b[1;0m - Last sentence: \n",
      "2025-01-12 00:09:55,259 - \u001b[1;32mINFO\u001b[1;0m - Total number of queries to process: 40000\n",
      "2025-01-12 00:09:55,259 - \u001b[1;32mINFO\u001b[1;0m - Example queries to process:\n",
      "2025-01-12 00:09:55,259 - \u001b[1;32mINFO\u001b[1;0m - 1. Dobbhoff catheter has been pulled back. tip projects over the gastroesophageal junction. tube could be advanced by at least 5 cm. parts of the lungs not included in the image. visible elements of the thorax appear unchanged\n",
      "2025-01-12 00:09:55,259 - \u001b[1;32mINFO\u001b[1;0m - 4445. healing rib fractures on the right. partly displaced rib fractures on the right. dorsal lateral portion of the sixth right rib. dorsal lateral portion of the seventh right rib. unremarkable lung parenchyma. no evidence for other bony lesions. status post cervical fixation devices. normal size of the cardiac silhouette. unchanged left pectoral pacemaker. mild tortuosity of the thoracic aorta\n",
      "2025-01-12 00:09:55,259 - \u001b[1;32mINFO\u001b[1;0m - 8889. right chest tube with tip at the medial aspect of the right lung. retraction by approximately 14 cm at the right lung apex. minimal residual right pneumothorax. extensive right chest wall emphysema. displaced right rib fractures\n",
      "2025-01-12 00:09:55,259 - \u001b[1;32mINFO\u001b[1;0m - 13334. right internal jugular Swan-Ganz catheter present. tip of Swan-Ganz catheter projecting over the right interlobar pulmonary artery. markedly enlarged cardiac silhouette. no significant interval change in the patchy airspace opacities throughout both lungs. no significant interval change in the confluent airspace opacities throughout both lungs. patchy airspace opacities greater on the right lung. confluent airspace opacities greater on the left lung. no significant interval change since the prior examination\n",
      "2025-01-12 00:09:55,259 - \u001b[1;32mINFO\u001b[1;0m - 17778. frontal chest radiographs obtained. patient in the supine position. mildly enlarged heart. bulging contour at the AP window. enlarged pulmonary artery at the AP window. prominent mediastinal fat at the AP window. low lung volumes. lungs without focal consolidation. lungs without pleural effusion. lungs without pulmonary edema. atherosclerotic calcifications at the aortic knob. cardiomegaly\n",
      "2025-01-12 00:09:55,259 - \u001b[1;32mINFO\u001b[1;0m - 22222. clear lungs. clear pleural spaces. lungs without evidence of pneumothorax. pleural spaces without evidence of pleural effusions. redemonstration of right hilar prominence. enlarged right pulmonary artery. heart size within upper limits of normal. tortuosity of the thoracic aorta. stable retrocardiac opacity. underlying atelectasis. osseous structures grossly unchanged. no acute intrathoracic process. stable prominence to the right perihilar region. enlargement of the right pulmonary artery\n",
      "2025-01-12 00:09:55,259 - \u001b[1;32mINFO\u001b[1;0m - 26667. nasogastric tube pushed forward. nasogastric tube coils within the upper stomach. side port of nasogastric tube distal to the esophagogastric junction. cardiac silhouette within normal limits. no definite vascular congestion. atelectatic changes at the left base. probable blunting of the costophrenic angle\n",
      "2025-01-12 00:09:55,259 - \u001b[1;32mINFO\u001b[1;0m - 31111. normal heart size. mildly tortuous aorta. normal hilar contours. clear lungs. no pleural effusion. no pneumothorax. no evidence of acute tuberculous disease. no evidence of chronic tuberculous disease\n",
      "2025-01-12 00:09:55,259 - \u001b[1;32mINFO\u001b[1;0m - 35555. multiple bilateral pleural calcifications. multiple bilateral diaphragmatic calcifications. cardiac silhouette not enlarged. stable mediastinal contours. stable hilar contours. mild atelectasis. no definite focal consolidation. stable cardiac silhouette. stable mediastinal silhouette. bilateral pleural plaques. bilateral diaphragmatic plaques. asbestos exposure\n",
      "2025-01-12 00:09:55,259 - \u001b[1;32mINFO\u001b[1;0m - 40000. clear lungs bilaterally. no focal consolidation identified. normal cardiomediastinal contours. normal hilar contours. no evidence of pneumothorax. no evidence of pleural effusion. no evidence of pulmonary edema. no air under the right hemidiaphragm. no acute intra thoracic abnormality\n",
      "2025-01-12 00:09:55,488 - \u001b[1;32mINFO\u001b[1;0m - Saving batch API requests to /home/pamessina/medvqa-workspace/tmp/mimiccxr/openai/batch_api_requests_20250112_000955.jsonl\n",
      "2025-01-12 00:10:05,255 - \u001b[1;32mINFO\u001b[1;0m - HTTP Request: POST https://api.openai.com/v1/files \"HTTP/1.1 200 OK\"\n",
      "2025-01-12 00:10:05,257 - \u001b[1;32mINFO\u001b[1;0m - Creating batch with input file ID file-NC5zixo1R4XAAoZWetgtQh\n",
      "2025-01-12 00:10:06,141 - \u001b[1;32mINFO\u001b[1;0m - HTTP Request: POST https://api.openai.com/v1/batches \"HTTP/1.1 200 OK\"\n",
      "2025-01-12 00:10:06,148 - \u001b[1;32mINFO\u001b[1;0m - Batch object: Batch(id='batch_6783328dbb4481909732fb30c16176eb', completion_window='24h', created_at=1736651406, endpoint='/v1/chat/completions', input_file_id='file-NC5zixo1R4XAAoZWetgtQh', object='batch', status='validating', cancelled_at=None, cancelling_at=None, completed_at=None, error_file_id=None, errors=None, expired_at=None, expires_at=1736737806, failed_at=None, finalizing_at=None, in_progress_at=None, metadata={'description': 'extract negative facts from fact-based reports'}, output_file_id=None, request_counts=BatchRequestCounts(completed=0, failed=0, total=0))\n",
      "2025-01-12 00:10:06,148 - \u001b[1;32mINFO\u001b[1;0m - Saving batch object to /home/pamessina/medvqa-workspace/tmp/mimiccxr/openai/batch_api/file-NC5zixo1R4XAAoZWetgtQh.pkl\n",
      "2025-01-12 00:10:06,148 - \u001b[1;32mINFO\u001b[1;0m - Deleting batch API requests at /home/pamessina/medvqa-workspace/tmp/mimiccxr/openai/batch_api_requests_20250112_000955.jsonl\n"
     ]
    }
   ],
   "source": [
    "!python ../../scripts/mimiccxr/extract_negative_facts_from_reports_with_openai.py \\\n",
    "--offset 50000 \\\n",
    "--num_samples 40000 \\\n",
    "--integrated_report_facts_jsonl_filepath \\\n",
    "\"/home/pamessina/medvqa-workspace/cache/mimiccxr/integrated_report_facts(79040140).jsonl\" \\\n",
    "--max_requests_per_minute 9000 \\\n",
    "--max_tokens_per_minute 20000000 \\\n",
    "--max_tokens_per_request 700 \\\n",
    "--logging_level \"INFO\" \\\n",
    "--api_key_name \"OPENAI_API_KEY_1\" \\\n",
    "--openai_model_name \"gpt-4o\" \\\n",
    "--use_batch_api \\\n",
    "--batch_description \"extract negative facts from fact-based reports\""
   ]
  },
  {
   "cell_type": "code",
   "execution_count": 260,
   "id": "3053b93f",
   "metadata": {
    "scrolled": true
   },
   "outputs": [
    {
     "name": "stdout",
     "output_type": "stream",
     "text": [
      "2025-01-12 09:26:10,833 - \u001b[1;32mINFO\u001b[1;0m - Checking status of batch with input file ID file-NC5zixo1R4XAAoZWetgtQh\n",
      "2025-01-12 09:26:11,222 - \u001b[1;32mINFO\u001b[1;0m - Batch object: Batch(id='batch_6783328dbb4481909732fb30c16176eb', completion_window='24h', created_at=1736651406, endpoint='/v1/chat/completions', input_file_id='file-NC5zixo1R4XAAoZWetgtQh', object='batch', status='validating', cancelled_at=None, cancelling_at=None, completed_at=None, error_file_id=None, errors=None, expired_at=None, expires_at=1736737806, failed_at=None, finalizing_at=None, in_progress_at=None, metadata={'description': 'extract negative facts from fact-based reports'}, output_file_id=None, request_counts=BatchRequestCounts(completed=0, failed=0, total=0))\n",
      "2025-01-12 09:26:11,741 - \u001b[1;32mINFO\u001b[1;0m - HTTP Request: GET https://api.openai.com/v1/batches/batch_6783328dbb4481909732fb30c16176eb \"HTTP/1.1 200 OK\"\n",
      "2025-01-12 09:26:11,749 - \u001b[1;32mINFO\u001b[1;0m - Batch: Batch(id='batch_6783328dbb4481909732fb30c16176eb', completion_window='24h', created_at=1736651406, endpoint='/v1/chat/completions', input_file_id='file-NC5zixo1R4XAAoZWetgtQh', object='batch', status='completed', cancelled_at=None, cancelling_at=None, completed_at=1736664337, error_file_id=None, errors=None, expired_at=None, expires_at=1736737806, failed_at=None, finalizing_at=1736658079, in_progress_at=1736651418, metadata={'description': 'extract negative facts from fact-based reports'}, output_file_id='file-8ge6m8wc7GnnTnFEx7X5ob', request_counts=BatchRequestCounts(completed=40000, failed=0, total=40000))\n",
      "2025-01-12 09:26:11,749 - \u001b[1;32mINFO\u001b[1;0m - Batch status: completed\n",
      "2025-01-12 09:26:11,749 - \u001b[1;32mINFO\u001b[1;0m - Batch with input file ID file-NC5zixo1R4XAAoZWetgtQh is completed\n",
      "2025-01-12 09:26:11,750 - \u001b[1;32mINFO\u001b[1;0m - Retrieving batch input file ID file-NC5zixo1R4XAAoZWetgtQh\n",
      "2025-01-12 09:26:12,713 - \u001b[1;32mINFO\u001b[1;0m - HTTP Request: GET https://api.openai.com/v1/files/file-NC5zixo1R4XAAoZWetgtQh/content \"HTTP/1.1 200 OK\"\n",
      "2025-01-12 09:26:17,097 - \u001b[1;32mINFO\u001b[1;0m - Retrieved metadata for 40000 queries\n",
      "2025-01-12 09:26:17,098 - \u001b[1;32mINFO\u001b[1;0m - Retrieving batch output file ID file-8ge6m8wc7GnnTnFEx7X5ob\n",
      "2025-01-12 09:26:18,136 - \u001b[1;32mINFO\u001b[1;0m - HTTP Request: GET https://api.openai.com/v1/files/file-8ge6m8wc7GnnTnFEx7X5ob/content \"HTTP/1.1 200 OK\"\n",
      "2025-01-12 09:26:23,587 - \u001b[1;31mERROR\u001b[1;0m - 2 error messages occurred while parsing responses\n",
      "2025-01-12 09:26:23,587 - \u001b[1;31mERROR\u001b[1;0m - Error parsing response {\"id\": \"batch_req_6783534c380c8190a7156654d683e3dd\", \"custom_id\": \"10837\", \"response\": {\"status_code\": 200, \"request_id\": \"332100cd83bc078a610c453a54e06f54\", \"body\": {\"id\": \"chatcmpl-Aoj4VwMtPvuDj11XJKgA6LKvZiGk4\", \"object\": \"chat.completion\", \"created\": 1736653019, \"model\": \"gpt-4o-2024-08-06\", \"choices\": [{\"index\": 0, \"message\": {\"role\": \"assistant\", \"content\": \"```json\\n{\\n  \\\"reason\\\": \\\"The report provides a mix of normal findings and abnormalities. It explicitly rules out certain conditions while identifying others. The presence of nodular opacities and their changes are noted, but some conditions are clearly negated.\\\",\\n  \\\"ruled_out_abnormalities\\\": {\\n    \\\"normal heart size\\\": [\\\"cardiomegaly\\\"],\\n    \\\"hilar contours within normal limits\\\": [\\\"hilar lymphadenopathy\\\"],\\n    \\\"mediastinal contours within normal limits\\\": [\\\"mediastinal mass\\\"],\\n    \\\"no focal consolidation\\\": [\\\"focal consolidation\\\"],\\n    \\\"no pneumothorax\", \"refusal\": null}, \"logprobs\": null, \"finish_reason\": \"stop\"}], \"usage\": {\"prompt_tokens\": 398, \"completion_tokens\": 126, \"total_tokens\": 524, \"prompt_tokens_details\": {\"cached_tokens\": 0, \"audio_tokens\": 0}, \"completion_tokens_details\": {\"reasoning_tokens\": 0, \"audio_tokens\": 0, \"accepted_prediction_tokens\": 0, \"rejected_prediction_tokens\": 0}}, \"service_tier\": \"default\", \"system_fingerprint\": \"fp_b7d65f1a5b\"}}, \"error\": null} for query \"normal heart size. hilar contours within normal limits. mediastinal contours within normal limits. numerous round nodular opacities in both lungs. new or increased size of round nodular opacities since the chest radiograph. no focal consolidation. chronic bibasilar bronchiectasis appears unchanged. atelectasis appears unchanged. no pneumothorax. no pleural effusion. multiple pulmonary nodules. increased size of pulmonary nodules. new pulmonary nodules. pulmonary nodules concerning for neoplastic process. no lobar consolidation\": Could not parse output: ```json\n",
      "{\n",
      "  \"reason\": \"The report provides a mix of normal findings and abnormalities. It explicitly rules out certain conditions while identifying others. The presence of nodular opacities and their changes are noted, but some conditions are clearly negated.\",\n",
      "  \"ruled_out_abnormalities\": {\n",
      "    \"normal heart size\": [\"cardiomegaly\"],\n",
      "    \"hilar contours within normal limits\": [\"hilar lymphadenopathy\"],\n",
      "    \"mediastinal contours within normal limits\": [\"mediastinal mass\"],\n",
      "    \"no focal consolidation\": [\"focal consolidation\"],\n",
      "    \"no pneumothorax\n",
      "2025-01-12 09:26:23,587 - \u001b[1;31mERROR\u001b[1;0m - Error parsing response {\"id\": \"batch_req_678355566e808190a3a1e4d4cb6dbb0e\", \"custom_id\": \"14229\", \"response\": {\"status_code\": 200, \"request_id\": \"6963735d0d76c1ac64a9ea4ac969334f\", \"body\": {\"id\": \"chatcmpl-AojCXcyohXd0qNL7204prmW0SY5wP\", \"object\": \"chat.completion\", \"created\": 1736653517, \"model\": \"gpt-4o-2024-08-06\", \"choices\": [{\"index\": 0, \"message\": {\"role\": \"assistant\", \"content\": \"```json\\n{\\n  \\\"reason\", \"refusal\": null}, \"logprobs\": null, \"finish_reason\": \"stop\"}], \"usage\": {\"prompt_tokens\": 383, \"completion_tokens\": 8, \"total_tokens\": 391, \"prompt_tokens_details\": {\"cached_tokens\": 0, \"audio_tokens\": 0}, \"completion_tokens_details\": {\"reasoning_tokens\": 0, \"audio_tokens\": 0, \"accepted_prediction_tokens\": 0, \"rejected_prediction_tokens\": 0}}, \"service_tier\": \"default\", \"system_fingerprint\": \"fp_b7d65f1a5b\"}}, \"error\": null} for query \"PA view of the chest. lateral view of the chest. triple lead pacing device along the right chest wall. leads in unchanged position. mitral valvular replacement. prominence of the interstitial markings. no evidence of focal consolidation. no evidence of overt pulmonary edema. no large pleural effusion. persistent probable fluid within the major fissure on the lateral. cardiomegaly has not changed. no acute osseous abnormalities detected. mild interstitial edema\": Could not parse output: ```json\n",
      "{\n",
      "  \"reason\n",
      "2025-01-12 09:26:23,587 - \u001b[1;32mINFO\u001b[1;0m - Succesfully processed 39998 of 40000 API responses.\n",
      "                                    2 of 40000 API responses could not be processed.\n",
      "                                    Saving processed texts to /mnt/data/pamessina_folder_backup_15_10_24/pamessina/medvqa-workspace/cache/mimiccxr/openai/gpt-4o_fact_based_report_to_negative_facts.jsonl\n"
     ]
    }
   ],
   "source": [
    "!python ../../scripts/mimiccxr/extract_negative_facts_from_reports_with_openai.py \\\n",
    "--batch_input_file_id \"file-NC5zixo1R4XAAoZWetgtQh\" \\\n",
    "--logging_level \"INFO\" \\\n",
    "--api_key_name \"OPENAI_API_KEY_1\" \\\n",
    "--openai_model_name \"gpt-4o\" \\\n",
    "--use_batch_api"
   ]
  },
  {
   "cell_type": "code",
   "execution_count": 1,
   "id": "a268473c",
   "metadata": {
    "scrolled": true
   },
   "outputs": [
    {
     "name": "stdout",
     "output_type": "stream",
     "text": [
      "2025-01-12 12:15:44,330 - \u001b[1;32mINFO\u001b[1;0m - Loaded 79998 already processed queries from /mnt/data/pamessina_folder_backup_15_10_24/pamessina/medvqa-workspace/cache/mimiccxr/openai/gpt-4o_fact_based_report_to_negative_facts.jsonl\n",
      "2025-01-12 12:15:48,916 - \u001b[1;32mINFO\u001b[1;0m - Total number of fact based reports: 211226\n",
      "2025-01-12 12:15:48,991 - \u001b[1;32mINFO\u001b[1;0m - Loading cached sorted sentences from /mnt/data/pamessina_folder_backup_15_10_24/pamessina/medvqa-workspace/cache/sorted_sentences(211226,75856766).pkl...\n",
      "2025-01-12 12:15:49,103 - \u001b[1;32mINFO\u001b[1;0m - Done loading cached sorted sentences.\n",
      "2025-01-12 12:15:49,103 - \u001b[1;32mINFO\u001b[1;0m - First sentence: Destruction of the T6/T7 interspace. Increased T2/STIR signal at the T6/T7 interspace. Postcontrast enhancement at the T6/T7 interspace. Partial destruction of the T6 inferior end plate. Partial destruction of the T7 superior endplate. Loss of anterior vertebral body height at T6/T7. Discitis/osteomyelitis complex at T6/T7. prominent prevertebral enhancing soft tissue affecting the anterior inferior portion of the T5 vertebral body. anterior epidural enhancement from T5-T7. suspicion for small component of epidural abscess. exaggerated kyphotic angulation at the T6/T7 level. small amount of retropulsion focally contacting the cord. without significant canal stenosis. normal cord signal. multilevel non-critical degenerative changes. Multilevel Tarlov cysts. normal heart size. mild tortuosity of the thoracic aorta. unremarkable hilar contours. clear lungs. normal pleural surfaces. posterior thickening. healed left posterolateral rib fractures. midthoracic disc space narrowing due to chronic disc degeneration. T6/T7 discitis. T6/T7 osteomyelitis. interspace and endplate destruction at T6/T7. focal involvement of T5. probable tiny epidural abscess from T5-T7. kyphotic angulation focally contacting the spinal cord without compression at T5-T7. no acute cardiopulmonary abnormality\n",
      "2025-01-12 12:15:49,103 - \u001b[1;32mINFO\u001b[1;0m - Last sentence: \n",
      "2025-01-12 12:15:49,517 - \u001b[1;32mINFO\u001b[1;0m - Total number of queries to process: 30000\n",
      "2025-01-12 12:15:49,517 - \u001b[1;32mINFO\u001b[1;0m - Example queries to process:\n",
      "2025-01-12 12:15:49,517 - \u001b[1;32mINFO\u001b[1;0m - 1. normal cardiac contours. normal mediastinal contours. normal hilar contours. increased opacification at the right lung base. mild pulmonary edema. aspiration. mild prominence of the pulmonary vasculature. surgical along the left mediastinum. sternotomy wires are midline. sternotomy wires are intact. left-sided dual-lead pacemaker device noted. leads terminating in the right atrium. leads terminating in the right ventricle. evidence of pleural calcification. mild pleural thickening on the right pleura. possible mid edema at the right lung base. possible pneumonia at the right lung base. calcified pleura. mild pleural thickening involving the right pleura\n",
      "2025-01-12 12:15:49,517 - \u001b[1;32mINFO\u001b[1;0m - 3334. stable mild cardiomegaly. new compared to the prior exam. subtle increase in opacity along the lateral right lung base. no pneumothorax. unremarkable visualized osseous structures. opacity secondary to pneumonia. oblique radiographs may be helpful to confirm. new small left pleural effusion. consolidation at the lateral right lung base\n",
      "2025-01-12 12:15:49,517 - \u001b[1;32mINFO\u001b[1;0m - 6667. bilateral regions of consolidation. multi focal pneumonia. repeat after treatment suggested. resolution. bilateral parenchymal opacities in the right upper lobe. bilateral parenchymal opacities at the left mid lung. bilateral parenchymal opacities at the left base. no effusion. cardiomediastinal silhouette within normal limits. no acute osseous abnormalities\n",
      "2025-01-12 12:15:49,517 - \u001b[1;32mINFO\u001b[1;0m - 10000. new diffuse interstitial opacities. likely interstitial pulmonary edema due to prior cardiac surgery. no evidence of central venous engorgement. no evidence of cardiomegaly. no evidence of pleural effusions. no confluent consolidation. no pneumothorax. normal mediastinal contours. normal hilar contours. unchanged mediastinal contours from prior. unchanged hilar contours from prior. mild cardiomegaly. post-surgical changes from prior CABG are unchanged. median sternotomy wires appear grossly intact. opacities likely related to pulmonary edema. opacities may be related to atypical infection\n",
      "2025-01-12 12:15:49,517 - \u001b[1;32mINFO\u001b[1;0m - 13333. ICD pacing device remains in place. additional lead for biventricular pacing. stable marked cardiomegaly. pulmonary vascular engorgement. mild-to-moderate pulmonary edema. linear atelectasis in left mid lung\n",
      "2025-01-12 12:15:49,517 - \u001b[1;32mINFO\u001b[1;0m - 16667. PICC has been pulled back. tip in the upper SVC. improved basilar opacities. resolving atelectasis. nearly completely resolved pleural effusions. possible tiny effusion on the left. no pulmonary edema. stable mild cardiomegaly. PICC line pulled back to the upper SVC. improved bibasilar opacifications. improved pulmonary congestion. residual pleural effusions. minimal atelectatic changes at the bases\n",
      "2025-01-12 12:15:49,517 - \u001b[1;32mINFO\u001b[1;0m - 20000. frontal view of the chest. lateral view of the chest. patchy lateral left lung base opacity. opacity that could relate to atelectasis. opacity that could relate to overlying soft tissue. underlying consolidation not excluded. no focal consolidation in the right lung. no pleural effusion. no pneumothorax. stable cardiac contours. stable mediastinal contours. stable hilar contours\n",
      "2025-01-12 12:15:49,517 - \u001b[1;32mINFO\u001b[1;0m - 23333. comparison with prior chest radiographs. comparison with chest radiographs since. comparison with chest radiographs most recently. well expanded lungs. linear scarring in the lingula. atelectasis in the lingula. clear lungs. normal cardiomediastinal contours. normal hilar contours. normal pleural surfaces. mild to moderate thoracolumbar scoliosis. worsening of thoracolumbar scoliosis\n",
      "2025-01-12 12:15:49,517 - \u001b[1;32mINFO\u001b[1;0m - 26666. repositioning of a left PICC. left PICC terminates in the body of the right atrium. enlarged cardiac silhouette. unchanged cardiac silhouette. pulmonary vascular congestion. minimal perihilar edema. improved left lower lobe atelectasis. persistent small left pleural effusion. patchy opacity in the right lower lobe. linear opacity in the right lower lobe. opacity likely represents atelectasis. decreased extent of intraperitoneal air\n",
      "2025-01-12 12:15:49,517 - \u001b[1;32mINFO\u001b[1;0m - 30000. comparison with prior chest radiographs. improved right pleural thickening at the site of rib resection. very small subpulmonic pleural effusion. no pneumothorax. mild right infrahilar atelectasis unchanged. clear left lung. clear right upper lungs. normal postoperative cardiomediastinal silhouette\n",
      "2025-01-12 12:15:49,677 - \u001b[1;32mINFO\u001b[1;0m - Saving batch API requests to /home/pamessina/medvqa-workspace/tmp/mimiccxr/openai/batch_api_requests_20250112_121549.jsonl\n",
      "2025-01-12 12:15:57,444 - \u001b[1;32mINFO\u001b[1;0m - HTTP Request: POST https://api.openai.com/v1/files \"HTTP/1.1 200 OK\"\n",
      "2025-01-12 12:15:57,446 - \u001b[1;32mINFO\u001b[1;0m - Creating batch with input file ID file-MMLj91ppHP8pu1SUhkmHwk\n",
      "2025-01-12 12:15:58,529 - \u001b[1;32mINFO\u001b[1;0m - HTTP Request: POST https://api.openai.com/v1/batches \"HTTP/1.1 200 OK\"\n",
      "2025-01-12 12:15:58,539 - \u001b[1;32mINFO\u001b[1;0m - Batch object: Batch(id='batch_6783dcae2fb08190a03b1343b4d3b29b', completion_window='24h', created_at=1736694958, endpoint='/v1/chat/completions', input_file_id='file-MMLj91ppHP8pu1SUhkmHwk', object='batch', status='validating', cancelled_at=None, cancelling_at=None, completed_at=None, error_file_id=None, errors=None, expired_at=None, expires_at=1736781358, failed_at=None, finalizing_at=None, in_progress_at=None, metadata={'description': 'extract negative facts from fact-based reports'}, output_file_id=None, request_counts=BatchRequestCounts(completed=0, failed=0, total=0))\n",
      "2025-01-12 12:15:58,540 - \u001b[1;32mINFO\u001b[1;0m - Saving batch object to /home/pamessina/medvqa-workspace/tmp/mimiccxr/openai/batch_api/file-MMLj91ppHP8pu1SUhkmHwk.pkl\n",
      "2025-01-12 12:15:58,540 - \u001b[1;32mINFO\u001b[1;0m - Deleting batch API requests at /home/pamessina/medvqa-workspace/tmp/mimiccxr/openai/batch_api_requests_20250112_121549.jsonl\n"
     ]
    }
   ],
   "source": [
    "!python ../../scripts/mimiccxr/extract_negative_facts_from_reports_with_openai.py \\\n",
    "--offset 90000 \\\n",
    "--num_samples 30000 \\\n",
    "--integrated_report_facts_jsonl_filepath \\\n",
    "\"/home/pamessina/medvqa-workspace/cache/mimiccxr/integrated_report_facts(79040140).jsonl\" \\\n",
    "--max_requests_per_minute 9000 \\\n",
    "--max_tokens_per_minute 20000000 \\\n",
    "--max_tokens_per_request 700 \\\n",
    "--logging_level \"INFO\" \\\n",
    "--api_key_name \"OPENAI_API_KEY_1\" \\\n",
    "--openai_model_name \"gpt-4o\" \\\n",
    "--use_batch_api \\\n",
    "--batch_description \"extract negative facts from fact-based reports\""
   ]
  },
  {
   "cell_type": "code",
   "execution_count": 31,
   "id": "abf6d7e1",
   "metadata": {
    "scrolled": true
   },
   "outputs": [
    {
     "name": "stdout",
     "output_type": "stream",
     "text": [
      "2025-01-12 14:15:11,539 - \u001b[1;32mINFO\u001b[1;0m - Checking status of batch with input file ID file-MMLj91ppHP8pu1SUhkmHwk\n",
      "2025-01-12 14:15:11,936 - \u001b[1;32mINFO\u001b[1;0m - Batch object: Batch(id='batch_6783dcae2fb08190a03b1343b4d3b29b', completion_window='24h', created_at=1736694958, endpoint='/v1/chat/completions', input_file_id='file-MMLj91ppHP8pu1SUhkmHwk', object='batch', status='validating', cancelled_at=None, cancelling_at=None, completed_at=None, error_file_id=None, errors=None, expired_at=None, expires_at=1736781358, failed_at=None, finalizing_at=None, in_progress_at=None, metadata={'description': 'extract negative facts from fact-based reports'}, output_file_id=None, request_counts=BatchRequestCounts(completed=0, failed=0, total=0))\n",
      "2025-01-12 14:15:12,820 - \u001b[1;32mINFO\u001b[1;0m - HTTP Request: GET https://api.openai.com/v1/batches/batch_6783dcae2fb08190a03b1343b4d3b29b \"HTTP/1.1 200 OK\"\n",
      "2025-01-12 14:15:12,828 - \u001b[1;32mINFO\u001b[1;0m - Batch: Batch(id='batch_6783dcae2fb08190a03b1343b4d3b29b', completion_window='24h', created_at=1736694958, endpoint='/v1/chat/completions', input_file_id='file-MMLj91ppHP8pu1SUhkmHwk', object='batch', status='completed', cancelled_at=None, cancelling_at=None, completed_at=1736701967, error_file_id=None, errors=None, expired_at=None, expires_at=1736781358, failed_at=None, finalizing_at=1736698619, in_progress_at=1736694966, metadata={'description': 'extract negative facts from fact-based reports'}, output_file_id='file-5GrTsBhyDWgqU3YJDN8Vp5', request_counts=BatchRequestCounts(completed=30000, failed=0, total=30000))\n",
      "2025-01-12 14:15:12,828 - \u001b[1;32mINFO\u001b[1;0m - Batch status: completed\n",
      "2025-01-12 14:15:12,828 - \u001b[1;32mINFO\u001b[1;0m - Batch with input file ID file-MMLj91ppHP8pu1SUhkmHwk is completed\n",
      "2025-01-12 14:15:12,828 - \u001b[1;32mINFO\u001b[1;0m - Retrieving batch input file ID file-MMLj91ppHP8pu1SUhkmHwk\n",
      "2025-01-12 14:15:14,097 - \u001b[1;32mINFO\u001b[1;0m - HTTP Request: GET https://api.openai.com/v1/files/file-MMLj91ppHP8pu1SUhkmHwk/content \"HTTP/1.1 200 OK\"\n",
      "2025-01-12 14:15:17,451 - \u001b[1;32mINFO\u001b[1;0m - Retrieved metadata for 30000 queries\n",
      "2025-01-12 14:15:17,451 - \u001b[1;32mINFO\u001b[1;0m - Retrieving batch output file ID file-5GrTsBhyDWgqU3YJDN8Vp5\n",
      "2025-01-12 14:15:18,174 - \u001b[1;32mINFO\u001b[1;0m - HTTP Request: GET https://api.openai.com/v1/files/file-5GrTsBhyDWgqU3YJDN8Vp5/content \"HTTP/1.1 200 OK\"\n",
      "2025-01-12 14:15:22,479 - \u001b[1;32mINFO\u001b[1;0m - Succesfully processed 30000 of 30000 API responses.\n",
      "                                    0 of 30000 API responses could not be processed.\n",
      "                                    Saving processed texts to /mnt/data/pamessina_folder_backup_15_10_24/pamessina/medvqa-workspace/cache/mimiccxr/openai/gpt-4o_fact_based_report_to_negative_facts.jsonl\n"
     ]
    }
   ],
   "source": [
    "!python ../../scripts/mimiccxr/extract_negative_facts_from_reports_with_openai.py \\\n",
    "--batch_input_file_id \"file-MMLj91ppHP8pu1SUhkmHwk\" \\\n",
    "--logging_level \"INFO\" \\\n",
    "--api_key_name \"OPENAI_API_KEY_1\" \\\n",
    "--openai_model_name \"gpt-4o\" \\\n",
    "--use_batch_api"
   ]
  },
  {
   "cell_type": "code",
   "execution_count": 37,
   "id": "e073464f",
   "metadata": {
    "scrolled": true
   },
   "outputs": [
    {
     "name": "stdout",
     "output_type": "stream",
     "text": [
      "2025-01-13 04:18:02,440 - \u001b[1;32mINFO\u001b[1;0m - Loaded 109998 already processed queries from /mnt/data/pamessina_folder_backup_15_10_24/pamessina/medvqa-workspace/cache/mimiccxr/openai/gpt-4o_fact_based_report_to_negative_facts.jsonl\n",
      "2025-01-13 04:18:05,932 - \u001b[1;32mINFO\u001b[1;0m - Total number of fact based reports: 211226\n",
      "2025-01-13 04:18:05,987 - \u001b[1;32mINFO\u001b[1;0m - Loading cached sorted sentences from /mnt/data/pamessina_folder_backup_15_10_24/pamessina/medvqa-workspace/cache/sorted_sentences(211226,75856766).pkl...\n",
      "2025-01-13 04:18:06,060 - \u001b[1;32mINFO\u001b[1;0m - Done loading cached sorted sentences.\n",
      "2025-01-13 04:18:06,060 - \u001b[1;32mINFO\u001b[1;0m - First sentence: Destruction of the T6/T7 interspace. Increased T2/STIR signal at the T6/T7 interspace. Postcontrast enhancement at the T6/T7 interspace. Partial destruction of the T6 inferior end plate. Partial destruction of the T7 superior endplate. Loss of anterior vertebral body height at T6/T7. Discitis/osteomyelitis complex at T6/T7. prominent prevertebral enhancing soft tissue affecting the anterior inferior portion of the T5 vertebral body. anterior epidural enhancement from T5-T7. suspicion for small component of epidural abscess. exaggerated kyphotic angulation at the T6/T7 level. small amount of retropulsion focally contacting the cord. without significant canal stenosis. normal cord signal. multilevel non-critical degenerative changes. Multilevel Tarlov cysts. normal heart size. mild tortuosity of the thoracic aorta. unremarkable hilar contours. clear lungs. normal pleural surfaces. posterior thickening. healed left posterolateral rib fractures. midthoracic disc space narrowing due to chronic disc degeneration. T6/T7 discitis. T6/T7 osteomyelitis. interspace and endplate destruction at T6/T7. focal involvement of T5. probable tiny epidural abscess from T5-T7. kyphotic angulation focally contacting the spinal cord without compression at T5-T7. no acute cardiopulmonary abnormality\n",
      "2025-01-13 04:18:06,060 - \u001b[1;32mINFO\u001b[1;0m - Last sentence: \n",
      "2025-01-13 04:18:06,339 - \u001b[1;32mINFO\u001b[1;0m - Total number of queries to process: 30000\n",
      "2025-01-13 04:18:06,339 - \u001b[1;32mINFO\u001b[1;0m - Example queries to process:\n",
      "2025-01-13 04:18:06,340 - \u001b[1;32mINFO\u001b[1;0m - 1. cardiomegaly. pulmonary vascular congestion. development of asymmetrical right-sided pulmonary edema. coexisting secondary process in the right lung. aspiration in the right lung. developing pneumonia in the right lung. persistent right pleural effusion. linear left lower lobe atelectasis\n",
      "2025-01-13 04:18:06,340 - \u001b[1;32mINFO\u001b[1;0m - 3334. NG tube tip passing below the diaphragm. NG tube tip terminating in the stomach. ET tube tip approximately 5 cm above the carina. pacemaker defibrillator leads in unchanged position. unchanged cardiomegaly. interval mild improvement in interstitial pulmonary edema. moderate interstitial pulmonary edema. bilateral pleural effusions. no definitive evidence of focal consolidation. no evidence of infectious process\n",
      "2025-01-13 04:18:06,340 - \u001b[1;32mINFO\u001b[1;0m - 6667. Dobbhoff tube placement. Dobbhoff tube in the lower esophagus. blunting of the left costophrenic angle. combination of atelectasis and pleural fluid. unchanged from previous study. small right-sided pleural effusion. unchanged cardiomediastinal silhouette. Dobbhoff tube tip projects over the lower esophagus. advancement of Dobbhoff\n",
      "2025-01-13 04:18:06,340 - \u001b[1;32mINFO\u001b[1;0m - 10000. clear lungs. lungs without focal consolidation. lungs without pneumonia. no pleural effusion. no pneumothorax. heart size is top normal. calcifications within the aortic arch. mild degenerative changes of the thoracic spine. mild degenerative changes of the acromioclavicular joints. no acute cardiopulmonary process\n",
      "2025-01-13 04:18:06,340 - \u001b[1;32mINFO\u001b[1;0m - 13333. placement of a left basilar pigtail catheter. significant decrease in size of a loculated left basilar pleural effusion. patchy airspace disease in the left mid lungs. patchy airspace disease in the left lower lungs. compressive atelectasis in the left mid lungs. compressive atelectasis in the left lower lungs. possible superimposed infectious process in the left mid lungs. possible superimposed infectious process in the left lower lungs. patchy opacity at the right base. area of patchy atelectasis at the right base. possible pneumonia at the right base. possible aspiration at the right base. no evidence of pulmonary edema. no large pneumothorax. unchanged cardiac contours. unchanged mediastinal contours\n",
      "2025-01-13 04:18:06,340 - \u001b[1;32mINFO\u001b[1;0m - 16667. stable lung volumes. retrocardiac opacity. opacity not in the hemidiaphragm silhouettes. lower left lung opacity. opacity partially obscuring the left heart border. normal cardiomediastinal hilar contours. normal pleural surfaces. stable degenerative changes of thoracic spine. left lower lung opacity. atelectatic changes. consolidation suggestive of pneumonia\n",
      "2025-01-13 04:18:06,340 - \u001b[1;32mINFO\u001b[1;0m - 20000. new small apical pneumothorax on the left. interval decrease in size of left pleural effusion. left-sided pigtail catheter in the lower left lung base. numerous bilateral pulmonary nodules. bibasilar atelectasis. small right pleural effusion. right Port-A-Cath unchanged in position. new small left apical pneumothorax\n",
      "2025-01-13 04:18:06,340 - \u001b[1;32mINFO\u001b[1;0m - 23333. ET tube tip 5.5 cm above the carina. NG tube tip in the stomach. stable heart size. stable mediastinum. bibasal areas of atelectasis. left pleural effusion. no evidence of pneumothorax\n",
      "2025-01-13 04:18:06,340 - \u001b[1;32mINFO\u001b[1;0m - 26666. well inflated lungs. clear lungs. mildly enlarged cardiac silhouette. no pleural effusion. no pneumothorax. unremarkable visualized upper abdomen. median sternotomy wires projecting over the mediastinum. surgical clips projecting over the mediastinum. surgical clips in the upper abdomen. calcifications of the aortic arch. no evidence of acute cardiopulmonary process. mild cardiomegaly\n",
      "2025-01-13 04:18:06,340 - \u001b[1;32mINFO\u001b[1;0m - 30000. relatively low lung volumes. similar to prior lung volumes. mild pulmonary edema. pulmonary edema slightly worse compared to prior. left chest wall pacing device. degree of cardiac enlargement unchanged. trace bilateral pleural effusions\n",
      "2025-01-13 04:18:06,430 - \u001b[1;32mINFO\u001b[1;0m - Saving batch API requests to /home/pamessina/medvqa-workspace/tmp/mimiccxr/openai/batch_api_requests_20250113_041806.jsonl\n",
      "2025-01-13 04:18:13,999 - \u001b[1;32mINFO\u001b[1;0m - HTTP Request: POST https://api.openai.com/v1/files \"HTTP/1.1 200 OK\"\n",
      "2025-01-13 04:18:14,001 - \u001b[1;32mINFO\u001b[1;0m - Creating batch with input file ID file-HG5ySPEVX4Yc3cCPVMco4p\n",
      "2025-01-13 04:18:15,084 - \u001b[1;32mINFO\u001b[1;0m - HTTP Request: POST https://api.openai.com/v1/batches \"HTTP/1.1 200 OK\"\n",
      "2025-01-13 04:18:15,091 - \u001b[1;32mINFO\u001b[1;0m - Batch object: Batch(id='batch_6784be36e5f481908a634f72bf6be91d', completion_window='24h', created_at=1736752694, endpoint='/v1/chat/completions', input_file_id='file-HG5ySPEVX4Yc3cCPVMco4p', object='batch', status='validating', cancelled_at=None, cancelling_at=None, completed_at=None, error_file_id=None, errors=None, expired_at=None, expires_at=1736839094, failed_at=None, finalizing_at=None, in_progress_at=None, metadata={'description': 'extract negative facts from fact-based reports'}, output_file_id=None, request_counts=BatchRequestCounts(completed=0, failed=0, total=0))\n",
      "2025-01-13 04:18:15,091 - \u001b[1;32mINFO\u001b[1;0m - Saving batch object to /home/pamessina/medvqa-workspace/tmp/mimiccxr/openai/batch_api/file-HG5ySPEVX4Yc3cCPVMco4p.pkl\n",
      "2025-01-13 04:18:15,092 - \u001b[1;32mINFO\u001b[1;0m - Deleting batch API requests at /home/pamessina/medvqa-workspace/tmp/mimiccxr/openai/batch_api_requests_20250113_041806.jsonl\n"
     ]
    }
   ],
   "source": [
    "!python ../../scripts/mimiccxr/extract_negative_facts_from_reports_with_openai.py \\\n",
    "--offset 120000 \\\n",
    "--num_samples 30000 \\\n",
    "--integrated_report_facts_jsonl_filepath \\\n",
    "\"/home/pamessina/medvqa-workspace/cache/mimiccxr/integrated_report_facts(79040140).jsonl\" \\\n",
    "--max_requests_per_minute 9000 \\\n",
    "--max_tokens_per_minute 20000000 \\\n",
    "--max_tokens_per_request 700 \\\n",
    "--logging_level \"INFO\" \\\n",
    "--api_key_name \"OPENAI_API_KEY_1\" \\\n",
    "--openai_model_name \"gpt-4o\" \\\n",
    "--use_batch_api \\\n",
    "--batch_description \"extract negative facts from fact-based reports\""
   ]
  },
  {
   "cell_type": "code",
   "execution_count": 39,
   "id": "84d6dec8",
   "metadata": {
    "scrolled": true
   },
   "outputs": [
    {
     "name": "stdout",
     "output_type": "stream",
     "text": [
      "2025-01-13 05:50:04,761 - \u001b[1;32mINFO\u001b[1;0m - Checking status of batch with input file ID file-HG5ySPEVX4Yc3cCPVMco4p\n",
      "2025-01-13 05:50:05,381 - \u001b[1;32mINFO\u001b[1;0m - Batch object: Batch(id='batch_6784be36e5f481908a634f72bf6be91d', completion_window='24h', created_at=1736752694, endpoint='/v1/chat/completions', input_file_id='file-HG5ySPEVX4Yc3cCPVMco4p', object='batch', status='validating', cancelled_at=None, cancelling_at=None, completed_at=None, error_file_id=None, errors=None, expired_at=None, expires_at=1736839094, failed_at=None, finalizing_at=None, in_progress_at=None, metadata={'description': 'extract negative facts from fact-based reports'}, output_file_id=None, request_counts=BatchRequestCounts(completed=0, failed=0, total=0))\n",
      "2025-01-13 05:50:06,407 - \u001b[1;32mINFO\u001b[1;0m - HTTP Request: GET https://api.openai.com/v1/batches/batch_6784be36e5f481908a634f72bf6be91d \"HTTP/1.1 200 OK\"\n",
      "2025-01-13 05:50:06,416 - \u001b[1;32mINFO\u001b[1;0m - Batch: Batch(id='batch_6784be36e5f481908a634f72bf6be91d', completion_window='24h', created_at=1736752694, endpoint='/v1/chat/completions', input_file_id='file-HG5ySPEVX4Yc3cCPVMco4p', object='batch', status='completed', cancelled_at=None, cancelling_at=None, completed_at=1736758071, error_file_id=None, errors=None, expired_at=None, expires_at=1736839094, failed_at=None, finalizing_at=1736756018, in_progress_at=1736752703, metadata={'description': 'extract negative facts from fact-based reports'}, output_file_id='file-REGt9HRYNBw1LJhJWddggo', request_counts=BatchRequestCounts(completed=30000, failed=0, total=30000))\n",
      "2025-01-13 05:50:06,416 - \u001b[1;32mINFO\u001b[1;0m - Batch status: completed\n",
      "2025-01-13 05:50:06,416 - \u001b[1;32mINFO\u001b[1;0m - Batch with input file ID file-HG5ySPEVX4Yc3cCPVMco4p is completed\n",
      "2025-01-13 05:50:06,416 - \u001b[1;32mINFO\u001b[1;0m - Retrieving batch input file ID file-HG5ySPEVX4Yc3cCPVMco4p\n",
      "2025-01-13 05:50:07,195 - \u001b[1;32mINFO\u001b[1;0m - HTTP Request: GET https://api.openai.com/v1/files/file-HG5ySPEVX4Yc3cCPVMco4p/content \"HTTP/1.1 200 OK\"\n",
      "2025-01-13 05:50:10,556 - \u001b[1;32mINFO\u001b[1;0m - Retrieved metadata for 30000 queries\n",
      "2025-01-13 05:50:10,557 - \u001b[1;32mINFO\u001b[1;0m - Retrieving batch output file ID file-REGt9HRYNBw1LJhJWddggo\n",
      "2025-01-13 05:50:11,680 - \u001b[1;32mINFO\u001b[1;0m - HTTP Request: GET https://api.openai.com/v1/files/file-REGt9HRYNBw1LJhJWddggo/content \"HTTP/1.1 200 OK\"\n",
      "2025-01-13 05:50:16,514 - \u001b[1;31mERROR\u001b[1;0m - 3 error messages occurred while parsing responses\n",
      "2025-01-13 05:50:16,514 - \u001b[1;31mERROR\u001b[1;0m - Error parsing response {\"id\": \"batch_req_6784d2e8920c8190b0e191cc46e08147\", \"custom_id\": \"28869\", \"response\": {\"status_code\": 200, \"request_id\": \"565b101ddd5d4bb3cad446068fc29928\", \"body\": {\"id\": \"chatcmpl-Ap9a7PvLpawXGjHIGcmMUKjU7etT5\", \"object\": \"chat.completion\", \"created\": 1736754923, \"model\": \"gpt-4o-2024-08-06\", \"choices\": [{\"index\": 0, \"message\": {\"role\": \"assistant\", \"content\": \"```json\\n{\\n    \\\"reason\\\": \\\"The report provides a detailed assessment of the chest X-ray, identifying both normal and abnormal findings. It explicitly rules out certain abnormalities while noting the presence of others. The use of terms like 'unremarkable' and 'no' clearly indicates the absence of specific conditions. The presence of a PICC line and opacification are noted without ruling them out as abnormalities.\\\",\\n    \\\"ruled_out_abnormalities\\\": {\\n        \\\"unremarkable cardiomediastinal contours\\\": [\\\"cardiomediastinal contour abnormality\\\"],\\n        \\\"unremarkable hilar contours\\\": [\\\"hilar contour abnormality\\\"],\\n        \\\"no pleural effusion identified\\\": [\\\"pleural effusion\\\"],\\n        \\\"no pneumothorax identified\\\": [\\\"pneumothorax\", \"refusal\": null}, \"logprobs\": null, \"finish_reason\": \"stop\"}], \"usage\": {\"prompt_tokens\": 368, \"completion_tokens\": 162, \"total_tokens\": 530, \"prompt_tokens_details\": {\"cached_tokens\": 0, \"audio_tokens\": 0}, \"completion_tokens_details\": {\"reasoning_tokens\": 0, \"audio_tokens\": 0, \"accepted_prediction_tokens\": 0, \"rejected_prediction_tokens\": 0}}, \"service_tier\": \"default\", \"system_fingerprint\": \"fp_703d4ff298\"}}, \"error\": null} for query \"unremarkable cardiomediastinal contours. unremarkable hilar contours. PICC line identified. PICC line terminating in the cavoatrial junction. opacification in the right middle lobe. bronchovascular structures exaggerated by rotation. no pleural effusion identified. no pneumothorax identified. degenerative changes in the thoracic spine. no acute cardiopulmonary process\": Could not parse output: ```json\n",
      "{\n",
      "    \"reason\": \"The report provides a detailed assessment of the chest X-ray, identifying both normal and abnormal findings. It explicitly rules out certain abnormalities while noting the presence of others. The use of terms like 'unremarkable' and 'no' clearly indicates the absence of specific conditions. The presence of a PICC line and opacification are noted without ruling them out as abnormalities.\",\n",
      "    \"ruled_out_abnormalities\": {\n",
      "        \"unremarkable cardiomediastinal contours\": [\"cardiomediastinal contour abnormality\"],\n",
      "        \"unremarkable hilar contours\": [\"hilar contour abnormality\"],\n",
      "        \"no pleural effusion identified\": [\"pleural effusion\"],\n",
      "        \"no pneumothorax identified\": [\"pneumothorax\n",
      "2025-01-13 05:50:16,515 - \u001b[1;31mERROR\u001b[1;0m - Error parsing response {\"id\": \"batch_req_6784d145a7a881908b608617b93de7d9\", \"custom_id\": \"22737\", \"response\": {\"status_code\": 200, \"request_id\": \"fb7f4c0bf92dbab1acf565fb61dcf8e4\", \"body\": {\"id\": \"chatcmpl-Ap9Sc24TRC3n1oCYA4eju0MGRLFwN\", \"object\": \"chat.completion\", \"created\": 1736754458, \"model\": \"gpt-4o-2024-08-06\", \"choices\": [{\"index\": 0, \"message\": {\"role\": \"assistant\", \"content\": \"```json\\n{\\n    \\\"reason\\\": \\\"The report provides a mix of normal and abnormal findings. It explicitly rules out certain conditions while indicating potential issues in other areas. The presence of patchy opacities and atelectasis suggests some abnormalities, but specific conditions like infection or aspiration are not definitively confirmed or ruled out.\\\",\\n    \\\"ruled_out_ab\", \"refusal\": null}, \"logprobs\": null, \"finish_reason\": \"stop\"}], \"usage\": {\"prompt_tokens\": 374, \"completion_tokens\": 73, \"total_tokens\": 447, \"prompt_tokens_details\": {\"cached_tokens\": 0, \"audio_tokens\": 0}, \"completion_tokens_details\": {\"reasoning_tokens\": 0, \"audio_tokens\": 0, \"accepted_prediction_tokens\": 0, \"rejected_prediction_tokens\": 0}}, \"service_tier\": \"default\", \"system_fingerprint\": \"fp_b7d65f1a5b\"}}, \"error\": null} for query \"low lung volumes. mildly enlarged cardiac silhouette. unremarkable mediastinal contours. unremarkable hilar contours. crowding of bronchovascular structures. no overt pulmonary edema. no pleural effusion. no pneumothorax. no acute osseous abnormality. patchy opacities in the lung bases. areas of atelectasis in the lung bases. infection cannot be fully excluded. aspiration cannot be fully excluded\": Could not parse output: ```json\n",
      "{\n",
      "    \"reason\": \"The report provides a mix of normal and abnormal findings. It explicitly rules out certain conditions while indicating potential issues in other areas. The presence of patchy opacities and atelectasis suggests some abnormalities, but specific conditions like infection or aspiration are not definitively confirmed or ruled out.\",\n",
      "    \"ruled_out_ab\n",
      "2025-01-13 05:50:16,515 - \u001b[1;31mERROR\u001b[1;0m - Error parsing response {\"id\": \"batch_req_6784cc0b70ec81909760dce788a1f1b4\", \"custom_id\": \"3196\", \"response\": {\"status_code\": 200, \"request_id\": \"0513f0e21397f2030a3ad27fab6d69c5\", \"body\": {\"id\": \"chatcmpl-Ap94MtTr9ZvYveo4SMw8C3LmecC7q\", \"object\": \"chat.completion\", \"created\": 1736752954, \"model\": \"gpt-4o-2024-08-06\", \"choices\": [{\"index\": 0, \"message\": {\"role\": \"assistant\", \"content\": \"```json\\n{\\n    \\\"reason\\\": \\\"The report provides a detailed assessment of the chest X-ray, noting the absence of abnormalities in key areas. It explicitly states normal findings for the heart size, mediastinum,\", \"refusal\": null}, \"logprobs\": null, \"finish_reason\": \"stop\"}], \"usage\": {\"prompt_tokens\": 346, \"completion_tokens\": 45, \"total_tokens\": 391, \"prompt_tokens_details\": {\"cached_tokens\": 0, \"audio_tokens\": 0}, \"completion_tokens_details\": {\"reasoning_tokens\": 0, \"audio_tokens\": 0, \"accepted_prediction_tokens\": 0, \"rejected_prediction_tokens\": 0}}, \"service_tier\": \"default\", \"system_fingerprint\": \"fp_703d4ff298\"}}, \"error\": null} for query \"reviewed PA upright chest radiograph. reviewed lateral upright chest radiograph. no prior studies available for comparison. normal heart size. normal mediastinum. clear lungs. no definitive evidence of focal consolidation. no evidence of infectious process. no pleural effusion. no pneumothorax\": Could not parse output: ```json\n",
      "{\n",
      "    \"reason\": \"The report provides a detailed assessment of the chest X-ray, noting the absence of abnormalities in key areas. It explicitly states normal findings for the heart size, mediastinum,\n",
      "2025-01-13 05:50:16,515 - \u001b[1;32mINFO\u001b[1;0m - Succesfully processed 29997 of 30000 API responses.\n",
      "                                    3 of 30000 API responses could not be processed.\n",
      "                                    Saving processed texts to /mnt/data/pamessina_folder_backup_15_10_24/pamessina/medvqa-workspace/cache/mimiccxr/openai/gpt-4o_fact_based_report_to_negative_facts.jsonl\n"
     ]
    }
   ],
   "source": [
    "!python ../../scripts/mimiccxr/extract_negative_facts_from_reports_with_openai.py \\\n",
    "--batch_input_file_id \"file-HG5ySPEVX4Yc3cCPVMco4p\" \\\n",
    "--logging_level \"INFO\" \\\n",
    "--api_key_name \"OPENAI_API_KEY_1\" \\\n",
    "--openai_model_name \"gpt-4o\" \\\n",
    "--use_batch_api"
   ]
  },
  {
   "cell_type": "code",
   "execution_count": 11,
   "id": "bb54ffbd",
   "metadata": {},
   "outputs": [],
   "source": [
    "tmp1 = load_jsonl('/mnt/data/pamessina_folder_backup_15_10_24/pamessina/medvqa-workspace/cache/mimiccxr/openai/gpt-4-1106-preview_fact_based_report_to_negative_facts.jsonl')"
   ]
  },
  {
   "cell_type": "code",
   "execution_count": 13,
   "id": "5ea38517",
   "metadata": {},
   "outputs": [
    {
     "data": {
      "text/plain": [
       "10000"
      ]
     },
     "execution_count": 13,
     "metadata": {},
     "output_type": "execute_result"
    }
   ],
   "source": [
    "len(tmp1)"
   ]
  },
  {
   "cell_type": "code",
   "execution_count": 40,
   "id": "aa1977ae",
   "metadata": {},
   "outputs": [],
   "source": [
    "tmp2 = load_jsonl('/mnt/data/pamessina_folder_backup_15_10_24/pamessina/medvqa-workspace/cache/mimiccxr/openai/gpt-4o_fact_based_report_to_negative_facts.jsonl')"
   ]
  },
  {
   "cell_type": "code",
   "execution_count": 41,
   "id": "5b1e5b7f",
   "metadata": {
    "scrolled": true
   },
   "outputs": [
    {
     "data": {
      "text/plain": [
       "139995"
      ]
     },
     "execution_count": 41,
     "metadata": {},
     "output_type": "execute_result"
    }
   ],
   "source": [
    "len(tmp2)"
   ]
  },
  {
   "cell_type": "code",
   "execution_count": 94,
   "id": "96aec605",
   "metadata": {},
   "outputs": [
    {
     "name": "stdout",
     "output_type": "stream",
     "text": [
      "{'metadata': {'query': 'unchanged low position of the endotracheal tube. tube needs to be withdrawn by about 2 cm. avoidance of Ms. of the right main bronchus. course of the nasogastric tube is unchanged. unchanged very low lung volumes. retrocardiac atelectasis. right basilar atelectasis. unchanged mild to moderate pulmonary edema'}, 'parsed_response': {'reason': 'The report describes the current state of various tubes and conditions within the chest, but does not explicitly rule out any abnormalities. Instead, it notes the presence of certain conditions such as atelectasis and pulmonary edema, and provides recommendations for the adjustment of the endotracheal tube. There are no statements that definitively indicate the absence of any abnormalities.', 'ruled_out_abnormalities': {}}}\n"
     ]
    }
   ],
   "source": [
    "q = \"avoidance of Ms. of the right main bronchus\"\n",
    "for x in tmp1 + tmp2:\n",
    "    if q in x['metadata']['query']:\n",
    "        print(x)\n",
    "        break"
   ]
  },
  {
   "cell_type": "code",
   "execution_count": 47,
   "id": "6d810610",
   "metadata": {},
   "outputs": [
    {
     "data": {
      "text/plain": [
       "11530"
      ]
     },
     "execution_count": 47,
     "metadata": {},
     "output_type": "execute_result"
    }
   ],
   "source": [
    "abnormalities = set()\n",
    "for x in tmp1 + tmp2:\n",
    "    for k, v in x['parsed_response']['ruled_out_abnormalities'].items():\n",
    "        assert isinstance(v, list)\n",
    "        abnormalities.update(v)\n",
    "        if 'PICC line in right atrium' in v:\n",
    "            print(x)\n",
    "abnormalities = list(abnormalities)\n",
    "abnormalities.sort()\n",
    "len(abnormalities)"
   ]
  },
  {
   "cell_type": "code",
   "execution_count": 43,
   "id": "4878a6ee",
   "metadata": {},
   "outputs": [
    {
     "data": {
      "text/plain": [
       "['AC joint arthritis',\n",
       " 'AC joint dislocation',\n",
       " 'AICD displacement',\n",
       " 'AICD lead dislodgement',\n",
       " 'AICD lead fracture',\n",
       " 'AICD malfunction',\n",
       " 'Acute Respiratory Distress Syndrome',\n",
       " 'Acute Respiratory Distress Syndrome (ARDS)',\n",
       " 'C-spine hardware displacement',\n",
       " 'C-spine hardware failure',\n",
       " 'CHF focal consolidation',\n",
       " 'Dobbhoff catheter coiling',\n",
       " 'Dobbhoff catheter complication',\n",
       " 'Dobbhoff catheter kinking',\n",
       " 'Dobbhoff catheter malposition',\n",
       " 'Dobbhoff catheter obstruction',\n",
       " 'Dobbhoff catheter-related complication',\n",
       " 'Dobbhoff line coiling',\n",
       " 'Dobbhoff line malposition',\n",
       " 'Dobbhoff line placement complication',\n",
       " 'Dobbhoff line-associated injury',\n",
       " 'Dobbhoff tube coiling',\n",
       " 'Dobbhoff tube complication',\n",
       " 'Dobbhoff tube malposition',\n",
       " 'Dobbhoff tube misplacement',\n",
       " 'Dobbhoff tube misplacement in the chest',\n",
       " 'Dobbhoff tube misplacement in the neck',\n",
       " 'Dobbhoff tube presence',\n",
       " 'Dobbhoff tube-related complication',\n",
       " 'Dobhoff catheter complication',\n",
       " 'Dobhoff tube in the respiratory tract',\n",
       " 'Dobhoff tube malposition',\n",
       " 'Dobhoff tube obstruction',\n",
       " 'Dobhoff tube outside the gastrointestinal tract',\n",
       " 'Dobhoff tube outside the stomach',\n",
       " 'Dobhoff tube-related complication',\n",
       " 'Dobhoff tube-related perforation',\n",
       " 'ECOM cannula malposition',\n",
       " 'ECOM catheter malposition',\n",
       " 'ET tube dislodgement',\n",
       " 'ET tube displacement',\n",
       " 'ET tube malposition',\n",
       " 'ET tube misplacement',\n",
       " 'ET tube obstruction',\n",
       " 'ET tube tip in correct position',\n",
       " 'ETT malposition',\n",
       " 'ETT-related complications',\n",
       " 'FDG-avid malignancy in lung nodules',\n",
       " 'GI ostomy complication',\n",
       " 'H-type vertebra',\n",
       " 'ICD device malfunction',\n",
       " 'ICD insertion complication',\n",
       " 'ICD lead complication',\n",
       " 'ICD lead dislodgement',\n",
       " 'ICD lead displacement',\n",
       " 'ICD lead fracture',\n",
       " 'ICD lead infection',\n",
       " 'ICD lead malposition',\n",
       " 'ICD lead perforation',\n",
       " 'Kerley B lines',\n",
       " 'Kerley lines',\n",
       " 'LVAD displacement',\n",
       " 'LVAD malfunction',\n",
       " 'Left subclavian line malposition',\n",
       " 'Lymphocytic interstitial pneumonia (LIP)',\n",
       " 'MG tube misplacement',\n",
       " 'MG tube misplacement in the thorax',\n",
       " 'MG tube outside of the gastrointestinal tract',\n",
       " 'MediPort discontinuity',\n",
       " 'MediPort kink',\n",
       " 'Methotrexate toxicity',\n",
       " 'NG tube above diaphragm',\n",
       " 'NG tube coiling in the hypopharynx',\n",
       " 'NG tube dislodgement',\n",
       " 'NG tube displacement',\n",
       " 'NG tube in the lung',\n",
       " 'NG tube malposition',\n",
       " 'NG tube malposition into the abdomen',\n",
       " 'NG tube misplacement',\n",
       " 'NG tube obstruction',\n",
       " 'NG tube outside the stomach',\n",
       " 'NG tube tip in the pylorus',\n",
       " 'NG tube tip in the small intestine',\n",
       " 'NG tube tip in the upper esophagus',\n",
       " 'NG tube-induced injury',\n",
       " 'NG tube-related complications',\n",
       " 'NGT malposition',\n",
       " 'NGT-related complications',\n",
       " 'New abnormalities',\n",
       " 'Normal stomach position',\n",
       " 'OG tube malposition',\n",
       " 'OGT malposition',\n",
       " 'PIC line complication',\n",
       " 'PIC line malposition',\n",
       " 'PICC line associated complications',\n",
       " 'PICC line complication',\n",
       " 'PICC line dislodgement',\n",
       " 'PICC line displacement',\n",
       " 'PICC line fragment',\n",
       " 'PICC line in axillary vein']"
      ]
     },
     "execution_count": 43,
     "metadata": {},
     "output_type": "execute_result"
    }
   ],
   "source": [
    "abnormalities[:100]"
   ]
  },
  {
   "cell_type": "code",
   "execution_count": 19,
   "id": "debec149",
   "metadata": {},
   "outputs": [
    {
     "data": {
      "text/plain": [
       "'{\"metadata\": {\"query\": \"Destruction of the T6/T7 interspace. Increased T2/STIR signal at the T6/T7 interspace. Postcontrast enhancement at the T6/T7 interspace. Partial destruction of the T6 inferior end plate. Partial destruction of the T7 superior endplate. Loss of anterior vertebral body height at T6/T7. Discitis/osteomyelitis complex at T6/T7. prominent prevertebral enhancing soft tissue affecting the anterior inferior portion of the T5 vertebral body. anterior epidural enhancement from T5-T7. suspicion for small component of epidural abscess. exaggerated kyphotic angulation at the T6/T7 level. small amount of retropulsion focally contacting the cord. without significant canal stenosis. normal cord signal. multilevel non-critical degenerative changes. Multilevel Tarlov cysts. normal heart size. mild tortuosity of the thoracic aorta. unremarkable hilar contours. clear lungs. normal pleural surfaces. posterior thickening. healed left posterolateral rib fractures. midthoracic disc space narrowing due to chronic disc degeneration. T6/T7 discitis. T6/T7 osteomyelitis. interspace and endplate destruction at T6/T7. focal involvement of T5. probable tiny epidural abscess from T5-T7. kyphotic angulation focally contacting the spinal cord without compression at T5-T7. no acute cardiopulmonary abnormality\"}, \"parsed_response\": {\"reason\": \"The report details various abnormalities in the thoracic spine, particularly at the T6/T7 level, but also explicitly states what is normal or unremarkable in other areas. For example, \\'normal heart size\\' rules out cardiomegaly, and \\'clear lungs\\' rules out lung opacities or consolidations.\", \"ruled_out_abnormalities\": {\"normal heart size\": [\"cardiomegaly\"], \"clear lungs\": [\"lung opacities\", \"lung consolidations\"], \"normal pleural surfaces\": [\"pleural effusion\", \"pleural thickening\"], \"unremarkable hilar contours\": [\"hilar lymphadenopathy\"], \"without significant canal stenosis\": [\"spinal canal stenosis\"], \"normal cord signal\": [\"spinal cord edema\", \"spinal cord compression\"], \"no acute cardiopulmonary abnormality\": [\"acute cardiopulmonary disease\"]}}}'"
      ]
     },
     "execution_count": 19,
     "metadata": {},
     "output_type": "execute_result"
    }
   ],
   "source": [
    "import json\n",
    "json.dumps(tmp1[0])"
   ]
  },
  {
   "cell_type": "code",
   "execution_count": 24,
   "id": "9cd282d9",
   "metadata": {},
   "outputs": [],
   "source": [
    "q = 'cardiopneumothorax'\n",
    "for x in tmp1:\n",
    "    if q in json.dumps(x):\n",
    "        print(x)\n",
    "        break"
   ]
  },
  {
   "cell_type": "code",
   "execution_count": 44,
   "id": "8e1bb747",
   "metadata": {},
   "outputs": [],
   "source": [
    "tmp = tmp2"
   ]
  },
  {
   "cell_type": "code",
   "execution_count": 46,
   "id": "4402eabe",
   "metadata": {},
   "outputs": [
    {
     "name": "stdout",
     "output_type": "stream",
     "text": [
      "single frontal view of the chest. no significant changes compared to prior exam. postsurgical changes at the right lung base. stable calcified granuloma in the left lung base. small bilateral pleural effusions. enlarged heart size is unchanged. no evidence of pneumothorax\n",
      "\n",
      "{'reason': 'The report describes a comparison with a prior exam, noting '\n",
      "           'stability in certain findings. It mentions postsurgical changes '\n",
      "           'and a stable granuloma, indicating no new developments. The '\n",
      "           'presence of small pleural effusions and an unchanged enlarged '\n",
      "           'heart size are noted. Pneumothorax is explicitly ruled out.',\n",
      " 'ruled_out_abnormalities': {'no evidence of pneumothorax': ['pneumothorax']}}\n"
     ]
    }
   ],
   "source": [
    "from pprint import pprint\n",
    "i = -2\n",
    "print(tmp[i]['metadata']['query'])\n",
    "print()\n",
    "pprint(tmp[i]['parsed_response'])"
   ]
  },
  {
   "cell_type": "code",
   "execution_count": 82,
   "id": "df9f74e0",
   "metadata": {
    "scrolled": true
   },
   "outputs": [
    {
     "name": "stdout",
     "output_type": "stream",
     "text": [
      "2025-01-13 16:16:04,810 - \u001b[1;32mINFO\u001b[1;0m - Total number of unique sentences: 592009\n",
      "2025-01-13 16:16:04,948 - \u001b[1;32mINFO\u001b[1;0m - Loading cached sorted sentences from /mnt/data/pamessina_folder_backup_15_10_24/pamessina/medvqa-workspace/cache/sorted_sentences(592009,27712466).pkl...\n",
      "2025-01-13 16:16:05,026 - \u001b[1;32mINFO\u001b[1;0m - Done loading cached sorted sentences.\n",
      "2025-01-13 16:16:05,027 - \u001b[1;32mINFO\u001b[1;0m - First sentence: A BENIGN CALCIFICATION IN LUNG OR RIB, OR VESSEL, EITHER ON END OR CROSSING in the right lower lung\n",
      "2025-01-13 16:16:05,027 - \u001b[1;32mINFO\u001b[1;0m - Last sentence:  \n",
      "checkpoint_names = ['checkpoint_196_cacc+chf1+chf1+cscc+encc+hscc+nlcc+sass+spss+ta0)+ta1)+ta2)+ta0)+ta1)+ta2)+ta3)+ta4)+ta5)+ta6)+ta7)=0.9189.pt']\n",
      "Loading cached text embeddings from /mnt/data/pamessina_folder_backup_15_10_24/pamessina/medvqa-workspace/cache/text_embeddings_cache(hash=469,680486110513564934).pkl\n",
      "len(self.cache[\"hashes\"]) = 876627\n",
      "self.cache[\"embeddings\"].shape = (876627, 128)\n",
      "Loading cached kmeans labels from /mnt/data/pamessina_folder_backup_15_10_24/pamessina/medvqa-workspace/cache/kmeans_labels(27712639,2372490246491455652).pkl\n",
      "2025-01-13 16:16:09,940 - \u001b[1;32mINFO\u001b[1;0m - Total number of queries to process: 5000\n",
      "2025-01-13 16:16:09,940 - \u001b[1;32mINFO\u001b[1;0m - Example queries to process:\n",
      "2025-01-13 16:16:09,941 - \u001b[1;32mINFO\u001b[1;0m - 1. LEFT INTERNAL JUGULAR LINE TIP TERMINATES AT THE LEVEL OF CAVOATRIAL BRANCH\n",
      "2025-01-13 16:16:09,941 - \u001b[1;32mINFO\u001b[1;0m - 556. rotatory component of the scoliosis emphasizes the appearance of the right hilum\n",
      "2025-01-13 16:16:09,941 - \u001b[1;32mINFO\u001b[1;0m - 1111. Which Shaped deformities in thoracic vertebral body\n",
      "2025-01-13 16:16:09,941 - \u001b[1;32mINFO\u001b[1;0m - 1667. opacity steadily improving\n",
      "2025-01-13 16:16:09,941 - \u001b[1;32mINFO\u001b[1;0m - 2222. postoperative blood/hematoma at the left lung apex\n",
      "2025-01-13 16:16:09,941 - \u001b[1;32mINFO\u001b[1;0m - 2778. 83 mm caliber of the neoesophagus on the right of the midline\n",
      "2025-01-13 16:16:09,941 - \u001b[1;32mINFO\u001b[1;0m - 3333. no interval change in multifocal basilar-predominant consolidations\n",
      "2025-01-13 16:16:09,941 - \u001b[1;32mINFO\u001b[1;0m - 3889. Increased scratched opacity in the right lung\n",
      "2025-01-13 16:16:09,941 - \u001b[1;32mINFO\u001b[1;0m - 4444. NG tube exiting the image inferiorly\n",
      "2025-01-13 16:16:09,941 - \u001b[1;32mINFO\u001b[1;0m - 5000. new ill-defined opacities in the right perilar region\n",
      "2025-01-13 16:16:09,955 - \u001b[1;32mINFO\u001b[1;0m - Saving batch API requests to /home/pamessina/medvqa-workspace/tmp/mimiccxr/openai/batch_api_requests_20250113_161609.jsonl\n",
      "2025-01-13 16:16:12,618 - \u001b[1;32mINFO\u001b[1;0m - HTTP Request: POST https://api.openai.com/v1/files \"HTTP/1.1 200 OK\"\n",
      "2025-01-13 16:16:12,620 - \u001b[1;32mINFO\u001b[1;0m - Creating batch with input file ID file-GYg6WAzVz2DBFCHLye86Kq\n",
      "2025-01-13 16:16:13,568 - \u001b[1;32mINFO\u001b[1;0m - HTTP Request: POST https://api.openai.com/v1/batches \"HTTP/1.1 200 OK\"\n",
      "2025-01-13 16:16:13,575 - \u001b[1;32mINFO\u001b[1;0m - Batch object: Batch(id='batch_6785667d41a48190aab6589870f2d3e2', completion_window='24h', created_at=1736795773, endpoint='/v1/chat/completions', input_file_id='file-GYg6WAzVz2DBFCHLye86Kq', object='batch', status='validating', cancelled_at=None, cancelling_at=None, completed_at=None, error_file_id=None, errors=None, expired_at=None, expires_at=1736882173, failed_at=None, finalizing_at=None, in_progress_at=None, metadata={'description': 'sentence to negative facts'}, output_file_id=None, request_counts=BatchRequestCounts(completed=0, failed=0, total=0))\n",
      "2025-01-13 16:16:13,575 - \u001b[1;32mINFO\u001b[1;0m - Saving batch object to /home/pamessina/medvqa-workspace/tmp/mimiccxr/openai/batch_api/file-GYg6WAzVz2DBFCHLye86Kq.pkl\n",
      "2025-01-13 16:16:13,576 - \u001b[1;32mINFO\u001b[1;0m - Deleting batch API requests at /home/pamessina/medvqa-workspace/tmp/mimiccxr/openai/batch_api_requests_20250113_161609.jsonl\n"
     ]
    }
   ],
   "source": [
    "!python ../../scripts/mimiccxr/extract_negative_facts_from_report_sentences_with_openai.py \\\n",
    "--offset 0 \\\n",
    "--num_samples 5000 \\\n",
    "--integrated_sentence_facts_jsonl_filepath \\\n",
    "\"/home/pamessina/medvqa-workspace/cache/mimiccxr/integrated_sentence_facts(59349684,50956825).jsonl\" \\\n",
    "--fact_embedding_model_name \"microsoft/BiomedVLP-CXR-BERT-specialized\" \\\n",
    "--fact_embedding_model_checkpoint_folder_path \\\n",
    "\"/mnt/data/pamessina/workspaces/medvqa-workspace/models/fact_embedding/20240629_084405_MIMIC-CXR(triplets+classif+entcont+nli+radgraph+autoencoder)_FactEncoder(microsoft-BiomedVLP-CXR-BERT-specialized)\" \\\n",
    "--fact_embedding_batch_size 200 \\\n",
    "--fact_embedding_num_workers 4 \\\n",
    "--max_requests_per_minute 20000 \\\n",
    "--max_tokens_per_minute 10000000 \\\n",
    "--max_tokens_per_request 350 \\\n",
    "--logging_level \"INFO\" \\\n",
    "--api_key_name \"OPENAI_API_KEY_1\" \\\n",
    "--openai_model_name \"gpt-4o\" \\\n",
    "--use_batch_api \\\n",
    "--batch_description \"sentence to negative facts\""
   ]
  },
  {
   "cell_type": "code",
   "execution_count": 85,
   "id": "6fd7b799",
   "metadata": {
    "scrolled": true
   },
   "outputs": [
    {
     "name": "stdout",
     "output_type": "stream",
     "text": [
      "2025-01-13 17:34:25,887 - \u001b[1;32mINFO\u001b[1;0m - Checking status of batch with input file ID file-GYg6WAzVz2DBFCHLye86Kq\n",
      "2025-01-13 17:34:26,324 - \u001b[1;32mINFO\u001b[1;0m - Batch object: Batch(id='batch_6785667d41a48190aab6589870f2d3e2', completion_window='24h', created_at=1736795773, endpoint='/v1/chat/completions', input_file_id='file-GYg6WAzVz2DBFCHLye86Kq', object='batch', status='validating', cancelled_at=None, cancelling_at=None, completed_at=None, error_file_id=None, errors=None, expired_at=None, expires_at=1736882173, failed_at=None, finalizing_at=None, in_progress_at=None, metadata={'description': 'sentence to negative facts'}, output_file_id=None, request_counts=BatchRequestCounts(completed=0, failed=0, total=0))\n",
      "2025-01-13 17:34:27,310 - \u001b[1;32mINFO\u001b[1;0m - HTTP Request: GET https://api.openai.com/v1/batches/batch_6785667d41a48190aab6589870f2d3e2 \"HTTP/1.1 200 OK\"\n",
      "2025-01-13 17:34:27,318 - \u001b[1;32mINFO\u001b[1;0m - Batch: Batch(id='batch_6785667d41a48190aab6589870f2d3e2', completion_window='24h', created_at=1736795773, endpoint='/v1/chat/completions', input_file_id='file-GYg6WAzVz2DBFCHLye86Kq', object='batch', status='completed', cancelled_at=None, cancelling_at=None, completed_at=1736800447, error_file_id=None, errors=None, expired_at=None, expires_at=1736882173, failed_at=None, finalizing_at=1736799902, in_progress_at=1736795775, metadata={'description': 'sentence to negative facts'}, output_file_id='file-QLXfAYphFYcnQ9VYKxUVts', request_counts=BatchRequestCounts(completed=5000, failed=0, total=5000))\n",
      "2025-01-13 17:34:27,318 - \u001b[1;32mINFO\u001b[1;0m - Batch status: completed\n",
      "2025-01-13 17:34:27,318 - \u001b[1;32mINFO\u001b[1;0m - Batch with input file ID file-GYg6WAzVz2DBFCHLye86Kq is completed\n",
      "2025-01-13 17:34:27,318 - \u001b[1;32mINFO\u001b[1;0m - Retrieving batch input file ID file-GYg6WAzVz2DBFCHLye86Kq\n",
      "2025-01-13 17:34:27,887 - \u001b[1;32mINFO\u001b[1;0m - HTTP Request: GET https://api.openai.com/v1/files/file-GYg6WAzVz2DBFCHLye86Kq/content \"HTTP/1.1 200 OK\"\n",
      "2025-01-13 17:34:29,082 - \u001b[1;32mINFO\u001b[1;0m - Retrieved metadata for 5000 queries\n",
      "2025-01-13 17:34:29,082 - \u001b[1;32mINFO\u001b[1;0m - Retrieving batch output file ID file-QLXfAYphFYcnQ9VYKxUVts\n",
      "2025-01-13 17:34:29,850 - \u001b[1;32mINFO\u001b[1;0m - HTTP Request: GET https://api.openai.com/v1/files/file-QLXfAYphFYcnQ9VYKxUVts/content \"HTTP/1.1 200 OK\"\n",
      "2025-01-13 17:34:31,107 - \u001b[1;31mERROR\u001b[1;0m - 6 error messages occurred while parsing responses\n",
      "2025-01-13 17:34:31,107 - \u001b[1;31mERROR\u001b[1;0m - Error parsing response {\"id\": \"batch_req_6785777d094081908a30986ab6e15e6c\", \"custom_id\": \"2007\", \"response\": {\"status_code\": 200, \"request_id\": \"704180396a6e60131d84c79fdd5ff1df\", \"body\": {\"id\": \"chatcmpl-ApKH7Qe5rB5dkT9z4rp56KDXUGo8b\", \"object\": \"chat.completion\", \"created\": 1736796029, \"model\": \"gpt-4o-2024-08-06\", \"choices\": [{\"index\": 0, \"message\": {\"role\": \"assistant\", \"content\": \"{\\n    \\\"reason\\\": The sentence suggests that the tube is not optimally positioned, but it does not explicitly rule out any abnormalities. It only indicates a need for adjustment.\\n    \\\"ruled_out_abnormalities\\\": {}\\n}\", \"refusal\": null}, \"logprobs\": null, \"finish_reason\": \"stop\"}], \"usage\": {\"prompt_tokens\": 370, \"completion_tokens\": 47, \"total_tokens\": 417, \"prompt_tokens_details\": {\"cached_tokens\": 0, \"audio_tokens\": 0}, \"completion_tokens_details\": {\"reasoning_tokens\": 0, \"audio_tokens\": 0, \"accepted_prediction_tokens\": 0, \"rejected_prediction_tokens\": 0}}, \"service_tier\": \"default\", \"system_fingerprint\": \"fp_703d4ff298\"}}, \"error\": null} for query \"tube needs to be pushed forward about a-10 cm for more optimal positioning\": Could not parse output: {\n",
      "    \"reason\": The sentence suggests that the tube is not optimally positioned, but it does not explicitly rule out any abnormalities. It only indicates a need for adjustment.\n",
      "    \"ruled_out_abnormalities\": {}\n",
      "}\n",
      "2025-01-13 17:34:31,107 - \u001b[1;31mERROR\u001b[1;0m - Error parsing response {\"id\": \"batch_req_67857747772c8190ba19ccb434fb6a12\", \"custom_id\": \"1536\", \"response\": {\"status_code\": 200, \"request_id\": \"ccfdddd0fb807afde05c242afec7ec42\", \"body\": {\"id\": \"chatcmpl-ApKGFUGyvR3HawqhMyolmWLvcreAr\", \"object\": \"chat.completion\", \"created\": 1736795975, \"model\": \"gpt-4o-2024-08-06\", \"choices\": [{\"index\": 0, \"message\": {\"role\": \"assistant\", \"content\": \"{\\n  \\\"reason\\\": The sentence describes the appearance of a left-sided chest tube but does not explicitly rule out any abnormalities. It only compares its position to a prior film without indicating any normal findings or ruling out specific conditions.\\\",\\n  \\\"ruled_out_abnormalities\\\": {}\\n}\", \"refusal\": null}, \"logprobs\": null, \"finish_reason\": \"stop\"}], \"usage\": {\"prompt_tokens\": 370, \"completion_tokens\": 57, \"total_tokens\": 427, \"prompt_tokens_details\": {\"cached_tokens\": 0, \"audio_tokens\": 0}, \"completion_tokens_details\": {\"reasoning_tokens\": 0, \"audio_tokens\": 0, \"accepted_prediction_tokens\": 0, \"rejected_prediction_tokens\": 0}}, \"service_tier\": \"default\", \"system_fingerprint\": \"fp_b7d65f1a5b\"}}, \"error\": null} for query \"left-sided chest tube appearing straighter in its course than on the prior film\": Could not parse output: {\n",
      "  \"reason\": The sentence describes the appearance of a left-sided chest tube but does not explicitly rule out any abnormalities. It only compares its position to a prior film without indicating any normal findings or ruling out specific conditions.\",\n",
      "  \"ruled_out_abnormalities\": {}\n",
      "}\n",
      "2025-01-13 17:34:31,107 - \u001b[1;31mERROR\u001b[1;0m - Error parsing response {\"id\": \"batch_req_6785789a2fbc819084f9d8c9ed08be76\", \"custom_id\": \"4674\", \"response\": {\"status_code\": 200, \"request_id\": \"d8ca80ecc4becbcf8748894cb9873fd0\", \"body\": {\"id\": \"chatcmpl-ApKMPnTpKTLCJYqtAO84hUPiv1Ck5\", \"object\": \"chat.completion\", \"created\": 1736796357, \"model\": \"gpt-4o-2024-08-06\", \"choices\": [{\"index\": 0, \"message\": {\"role\": \"assistant\", \"content\": \"{\\n  \\\"reason\\\": The sentence suggests a possible adjustment of the catheter's position but does not confirm any abnormalities or rule out any specific conditions. \\n  \\\"ruled_out_abnormalities\\\": {}\\n}\", \"refusal\": null}, \"logprobs\": null, \"finish_reason\": \"stop\"}], \"usage\": {\"prompt_tokens\": 366, \"completion_tokens\": 42, \"total_tokens\": 408, \"prompt_tokens_details\": {\"cached_tokens\": 0, \"audio_tokens\": 0}, \"completion_tokens_details\": {\"reasoning_tokens\": 0, \"audio_tokens\": 0, \"accepted_prediction_tokens\": 0, \"rejected_prediction_tokens\": 0}}, \"service_tier\": \"default\", \"system_fingerprint\": \"fp_703d4ff298\"}}, \"error\": null} for query \"left pleural drainage catheter may be partially reoriented\": Could not parse output: {\n",
      "  \"reason\": The sentence suggests a possible adjustment of the catheter's position but does not confirm any abnormalities or rule out any specific conditions. \n",
      "  \"ruled_out_abnormalities\": {}\n",
      "}\n",
      "2025-01-13 17:34:31,107 - \u001b[1;31mERROR\u001b[1;0m - Error parsing response {\"id\": \"batch_req_678576e013e48190b3fc11dcdf7e905e\", \"custom_id\": \"607\", \"response\": {\"status_code\": 200, \"request_id\": \"4666663a0868c30b2fa3222d48d0d4a4\", \"body\": {\"id\": \"chatcmpl-ApKEMzazyM30w4OdJaoI2aJN53TXD\", \"object\": \"chat.completion\", \"created\": 1736795858, \"model\": \"gpt-4o-2024-08-06\", \"choices\": [{\"index\": 0, \"message\": {\"role\": \"assistant\", \"content\": \"{\\n  \\\"reason\\\": The sentence indicates the removal of tubes or drains but does not provide information about the presence or absence of abnormalities. It is a procedural statement rather than a diagnostic one.\\n  \\\"ruled_out_abnormalities\\\": {}\\n}\", \"refusal\": null}, \"logprobs\": null, \"finish_reason\": \"stop\"}], \"usage\": {\"prompt_tokens\": 363, \"completion_tokens\": 50, \"total_tokens\": 413, \"prompt_tokens_details\": {\"cached_tokens\": 0, \"audio_tokens\": 0}, \"completion_tokens_details\": {\"reasoning_tokens\": 0, \"audio_tokens\": 0, \"accepted_prediction_tokens\": 0, \"rejected_prediction_tokens\": 0}}, \"service_tier\": \"default\", \"system_fingerprint\": \"fp_703d4ff298\"}}, \"error\": null} for query \"multiple tubes/mediastinal drains removed\": Could not parse output: {\n",
      "  \"reason\": The sentence indicates the removal of tubes or drains but does not provide information about the presence or absence of abnormalities. It is a procedural statement rather than a diagnostic one.\n",
      "  \"ruled_out_abnormalities\": {}\n",
      "}\n",
      "2025-01-13 17:34:31,107 - \u001b[1;31mERROR\u001b[1;0m - Error parsing response {\"id\": \"batch_req_6785778ab5e881909da68ee39f69b069\", \"custom_id\": \"2129\", \"response\": {\"status_code\": 200, \"request_id\": \"4d29ad39c076f91b1a2c258cc676503b\", \"body\": {\"id\": \"chatcmpl-ApKHZGmPS0RPTKD8btw6um3njmrWH\", \"object\": \"chat.completion\", \"created\": 1736796057, \"model\": \"gpt-4o-2024-08-06\", \"choices\": [{\"index\": 0, \"message\": {\"role\": \"assistant\", \"content\": \"{\\n    \\\"reason\\\": The sentence describes a minor change in the position of a medical device and does not explicitly rule out any abnormalities. \\n    \\\"ruled_out_abnormalities\\\": {}\\n}\", \"refusal\": null}, \"logprobs\": null, \"finish_reason\": \"stop\"}], \"usage\": {\"prompt_tokens\": 374, \"completion_tokens\": 40, \"total_tokens\": 414, \"prompt_tokens_details\": {\"cached_tokens\": 0, \"audio_tokens\": 0}, \"completion_tokens_details\": {\"reasoning_tokens\": 0, \"audio_tokens\": 0, \"accepted_prediction_tokens\": 0, \"rejected_prediction_tokens\": 0}}, \"service_tier\": \"default\", \"system_fingerprint\": \"fp_703d4ff298\"}}, \"error\": null} for query \"little change in the position of the pigtail catheter serving as a pericardial drain\": Could not parse output: {\n",
      "    \"reason\": The sentence describes a minor change in the position of a medical device and does not explicitly rule out any abnormalities. \n",
      "    \"ruled_out_abnormalities\": {}\n",
      "}\n",
      "2025-01-13 17:34:31,107 - \u001b[1;32mINFO\u001b[1;0m - Succesfully processed 4994 of 5000 API responses.\n",
      "                                    6 of 5000 API responses could not be processed.\n",
      "                                    Saving processed texts to /mnt/data/pamessina_folder_backup_15_10_24/pamessina/medvqa-workspace/cache/mimiccxr/openai/gpt-4o_sentence_to_negative_facts.jsonl\n"
     ]
    }
   ],
   "source": [
    "!python ../../scripts/mimiccxr/extract_negative_facts_from_report_sentences_with_openai.py \\\n",
    "--batch_input_file_id \"file-GYg6WAzVz2DBFCHLye86Kq\" \\\n",
    "--logging_level \"INFO\" \\\n",
    "--api_key_name \"OPENAI_API_KEY_1\" \\\n",
    "--openai_model_name \"gpt-4o\" \\\n",
    "--use_batch_api"
   ]
  },
  {
   "cell_type": "code",
   "execution_count": 6,
   "id": "e79cf3e0",
   "metadata": {
    "scrolled": true
   },
   "outputs": [
    {
     "name": "stdout",
     "output_type": "stream",
     "text": [
      "2025-01-13 18:29:43,986 - \u001b[1;32mINFO\u001b[1;0m - Loaded 4994 already processed queries from /mnt/data/pamessina_folder_backup_15_10_24/pamessina/medvqa-workspace/cache/mimiccxr/openai/gpt-4o_sentence_to_negative_facts.jsonl\n",
      "2025-01-13 18:29:49,955 - \u001b[1;32mINFO\u001b[1;0m - Total number of unique sentences: 1269593\n",
      "2025-01-13 18:29:50,252 - \u001b[1;32mINFO\u001b[1;0m - Loading cached sorted sentences from /mnt/data/pamessina_folder_backup_15_10_24/pamessina/medvqa-workspace/cache/sorted_sentences(1269593,86367250).pkl...\n",
      "2025-01-13 18:29:50,433 - \u001b[1;32mINFO\u001b[1;0m - Done loading cached sorted sentences.\n",
      "2025-01-13 18:29:50,433 - \u001b[1;32mINFO\u001b[1;0m - First sentence: l CP ANGLE OBSCURED BUT PT HAD SIMILAR APPEARANCE ON SCOUTS FOR PRIOR CT L-SPINE AT WHICH POINT NO PLEURAL EFFUSION WAS EVIDENT- THUS THIS MAY REPRESENT A PERICARDIAL FAT PAD- THOUGH CANNOT DEFINITIVELY RULE OUT LAYERING LEFT EFFUSION.\n",
      "2025-01-13 18:29:50,433 - \u001b[1;32mINFO\u001b[1;0m - Last sentence: .\n",
      "checkpoint_names = ['checkpoint_196_cacc+chf1+chf1+cscc+encc+hscc+nlcc+sass+spss+ta0)+ta1)+ta2)+ta0)+ta1)+ta2)+ta3)+ta4)+ta5)+ta6)+ta7)=0.9189.pt']\n",
      "Loading cached text embeddings from /mnt/data/pamessina_folder_backup_15_10_24/pamessina/medvqa-workspace/cache/text_embeddings_cache(hash=469,680486110513564934).pkl\n",
      "len(self.cache[\"hashes\"]) = 1554202\n",
      "self.cache[\"embeddings\"].shape = (1554202, 128)\n",
      "Loading cached kmeans labels from /mnt/data/pamessina_folder_backup_15_10_24/pamessina/medvqa-workspace/cache/kmeans_labels(86367423,552958962134983816).pkl\n",
      "2025-01-13 18:30:00,990 - \u001b[1;32mINFO\u001b[1;0m - Total number of queries to process: 45444\n",
      "2025-01-13 18:30:00,990 - \u001b[1;32mINFO\u001b[1;0m - Example queries to process:\n",
      "2025-01-13 18:30:00,991 - \u001b[1;32mINFO\u001b[1;0m - 1. CONSIDER DEDICATED ABDOMINAL RADIOGRAPH SERIES FOR MORE COMPLETE EVALUATION IF WARRANTED CLINICALLY.\n",
      "2025-01-13 18:30:00,991 - \u001b[1;32mINFO\u001b[1;0m - 5050. Within the consolidation are fluid levels concerning for cavitation/abscess.\n",
      "2025-01-13 18:30:00,991 - \u001b[1;32mINFO\u001b[1;0m - 10099. No evidence2 of improvement is noted.\n",
      "2025-01-13 18:30:00,991 - \u001b[1;32mINFO\u001b[1;0m - 15148. 5:10 PM NASOGASTRIC TUBE IN THE STOMACH WITH THE TIP OUT OF THE FIELD OF VIEW.\n",
      "2025-01-13 18:30:00,991 - \u001b[1;32mINFO\u001b[1;0m - 20197. WET READ VERSION #1 3:06 AM Stable, bilateral interstitial opacities better evaluated on CT .\n",
      "2025-01-13 18:30:00,991 - \u001b[1;32mINFO\u001b[1;0m - 25247. As compared to the previous radiograph, the previously coiled tube in the esophagus has been rectified.\n",
      "2025-01-13 18:30:00,991 - \u001b[1;32mINFO\u001b[1;0m - 30296. Size of these effusions has not changed during the latest one day interval.\n",
      "2025-01-13 18:30:00,991 - \u001b[1;32mINFO\u001b[1;0m - 35345. shift of the blood pool from the atelectatic left lung\n",
      "2025-01-13 18:30:00,991 - \u001b[1;32mINFO\u001b[1;0m - 40394. Extensive calcified pleural plaques and extensive apical thickening, together with fibrotic lung changes, creating unchanged distortion of the lung architecture air on the left.\n",
      "2025-01-13 18:30:00,991 - \u001b[1;32mINFO\u001b[1;0m - 45444. parenchymal opacities that preexisted are still clearly visible\n",
      "2025-01-13 18:30:01,349 - \u001b[1;32mINFO\u001b[1;0m - Saving batch API requests to /home/pamessina/medvqa-workspace/tmp/mimiccxr/openai/batch_api_requests_20250113_183001.jsonl\n",
      "2025-01-13 18:30:13,393 - \u001b[1;32mINFO\u001b[1;0m - HTTP Request: POST https://api.openai.com/v1/files \"HTTP/1.1 200 OK\"\n",
      "2025-01-13 18:30:13,395 - \u001b[1;32mINFO\u001b[1;0m - Creating batch with input file ID file-BidVjgMYq8xRF5obymmxcZ\n",
      "2025-01-13 18:30:14,477 - \u001b[1;32mINFO\u001b[1;0m - HTTP Request: POST https://api.openai.com/v1/batches \"HTTP/1.1 200 OK\"\n",
      "2025-01-13 18:30:14,484 - \u001b[1;32mINFO\u001b[1;0m - Batch object: Batch(id='batch_678585e63c9481908ff09e1c4b840103', completion_window='24h', created_at=1736803814, endpoint='/v1/chat/completions', input_file_id='file-BidVjgMYq8xRF5obymmxcZ', object='batch', status='validating', cancelled_at=None, cancelling_at=None, completed_at=None, error_file_id=None, errors=None, expired_at=None, expires_at=1736890214, failed_at=None, finalizing_at=None, in_progress_at=None, metadata={'description': 'sentence to negative facts'}, output_file_id=None, request_counts=BatchRequestCounts(completed=0, failed=0, total=0))\n",
      "2025-01-13 18:30:14,484 - \u001b[1;32mINFO\u001b[1;0m - Saving batch object to /home/pamessina/medvqa-workspace/tmp/mimiccxr/openai/batch_api/file-BidVjgMYq8xRF5obymmxcZ.pkl\n",
      "2025-01-13 18:30:14,484 - \u001b[1;32mINFO\u001b[1;0m - Deleting batch API requests at /home/pamessina/medvqa-workspace/tmp/mimiccxr/openai/batch_api_requests_20250113_183001.jsonl\n"
     ]
    }
   ],
   "source": [
    "!python ../../scripts/mimiccxr/extract_negative_facts_from_report_sentences_with_openai.py \\\n",
    "--offset 0 \\\n",
    "--num_samples 50000 \\\n",
    "--integrated_sentence_facts_jsonl_filepath \\\n",
    "\"/home/pamessina/medvqa-workspace/cache/mimiccxr/integrated_sentence_facts(59349684,50956825).jsonl\" \\\n",
    "--fact_embedding_model_name \"microsoft/BiomedVLP-CXR-BERT-specialized\" \\\n",
    "--fact_embedding_model_checkpoint_folder_path \\\n",
    "\"/mnt/data/pamessina/workspaces/medvqa-workspace/models/fact_embedding/20240629_084405_MIMIC-CXR(triplets+classif+entcont+nli+radgraph+autoencoder)_FactEncoder(microsoft-BiomedVLP-CXR-BERT-specialized)\" \\\n",
    "--fact_embedding_batch_size 350 \\\n",
    "--fact_embedding_num_workers 4 \\\n",
    "--max_requests_per_minute 20000 \\\n",
    "--max_tokens_per_minute 10000000 \\\n",
    "--max_tokens_per_request 350 \\\n",
    "--logging_level \"INFO\" \\\n",
    "--api_key_name \"OPENAI_API_KEY_1\" \\\n",
    "--openai_model_name \"gpt-4o\" \\\n",
    "--use_batch_api \\\n",
    "--batch_description \"sentence to negative facts\""
   ]
  },
  {
   "cell_type": "code",
   "execution_count": 15,
   "id": "632b209e",
   "metadata": {
    "scrolled": true
   },
   "outputs": [
    {
     "name": "stdout",
     "output_type": "stream",
     "text": [
      "2025-01-14 10:17:44,306 - \u001b[1;32mINFO\u001b[1;0m - Checking status of batch with input file ID file-BidVjgMYq8xRF5obymmxcZ\n",
      "2025-01-14 10:17:44,746 - \u001b[1;32mINFO\u001b[1;0m - Batch object: Batch(id='batch_678585e63c9481908ff09e1c4b840103', completion_window='24h', created_at=1736803814, endpoint='/v1/chat/completions', input_file_id='file-BidVjgMYq8xRF5obymmxcZ', object='batch', status='validating', cancelled_at=None, cancelling_at=None, completed_at=None, error_file_id=None, errors=None, expired_at=None, expires_at=1736890214, failed_at=None, finalizing_at=None, in_progress_at=None, metadata={'description': 'sentence to negative facts'}, output_file_id=None, request_counts=BatchRequestCounts(completed=0, failed=0, total=0))\n",
      "2025-01-14 10:17:45,622 - \u001b[1;32mINFO\u001b[1;0m - HTTP Request: GET https://api.openai.com/v1/batches/batch_678585e63c9481908ff09e1c4b840103 \"HTTP/1.1 200 OK\"\n",
      "2025-01-14 10:17:45,630 - \u001b[1;32mINFO\u001b[1;0m - Batch: Batch(id='batch_678585e63c9481908ff09e1c4b840103', completion_window='24h', created_at=1736803814, endpoint='/v1/chat/completions', input_file_id='file-BidVjgMYq8xRF5obymmxcZ', object='batch', status='completed', cancelled_at=None, cancelling_at=None, completed_at=1736815493, error_file_id=None, errors=None, expired_at=None, expires_at=1736890214, failed_at=None, finalizing_at=1736810147, in_progress_at=1736803827, metadata={'description': 'sentence to negative facts'}, output_file_id='file-YV7FTTYjFZnfuygNGe3mFN', request_counts=BatchRequestCounts(completed=45444, failed=0, total=45444))\n",
      "2025-01-14 10:17:45,630 - \u001b[1;32mINFO\u001b[1;0m - Batch status: completed\n",
      "2025-01-14 10:17:45,630 - \u001b[1;32mINFO\u001b[1;0m - Batch with input file ID file-BidVjgMYq8xRF5obymmxcZ is completed\n",
      "2025-01-14 10:17:45,631 - \u001b[1;32mINFO\u001b[1;0m - Retrieving batch input file ID file-BidVjgMYq8xRF5obymmxcZ\n",
      "2025-01-14 10:17:46,835 - \u001b[1;32mINFO\u001b[1;0m - HTTP Request: GET https://api.openai.com/v1/files/file-BidVjgMYq8xRF5obymmxcZ/content \"HTTP/1.1 200 OK\"\n",
      "2025-01-14 10:17:52,076 - \u001b[1;32mINFO\u001b[1;0m - Retrieved metadata for 45444 queries\n",
      "2025-01-14 10:17:52,076 - \u001b[1;32mINFO\u001b[1;0m - Retrieving batch output file ID file-YV7FTTYjFZnfuygNGe3mFN\n",
      "2025-01-14 10:17:53,311 - \u001b[1;32mINFO\u001b[1;0m - HTTP Request: GET https://api.openai.com/v1/files/file-YV7FTTYjFZnfuygNGe3mFN/content \"HTTP/1.1 200 OK\"\n",
      "2025-01-14 10:17:58,156 - \u001b[1;31mERROR\u001b[1;0m - 2 error messages occurred while parsing responses\n",
      "2025-01-14 10:17:58,156 - \u001b[1;31mERROR\u001b[1;0m - Error parsing response {\"id\": \"batch_req_6785ab5a7bec8190bc40635174636950\", \"custom_id\": \"27755\", \"response\": {\"status_code\": 200, \"request_id\": \"be7848917ed3b00fb68ae3449a27b93c\", \"body\": {\"id\": \"chatcmpl-ApNK7P91yWfuBcPWtCE132L7Q65Pq\", \"object\": \"chat.completion\", \"created\": 1736807747, \"model\": \"gpt-4o-2024-08-06\", \"choices\": [{\"index\": 0, \"message\": {\"role\": \"assistant\", \"content\": \"{\\n    \\\"reason\\\": The sentence indicates that fiducials are present and unchanged, but it does not rule out any abnormalities.\\n    \\\"ruled_out_abnormalities\\\": {}\\n}\", \"refusal\": null}, \"logprobs\": null, \"finish_reason\": \"stop\"}], \"usage\": {\"prompt_tokens\": 380, \"completion_tokens\": 38, \"total_tokens\": 418, \"prompt_tokens_details\": {\"cached_tokens\": 0, \"audio_tokens\": 0}, \"completion_tokens_details\": {\"reasoning_tokens\": 0, \"audio_tokens\": 0, \"accepted_prediction_tokens\": 0, \"rejected_prediction_tokens\": 0}}, \"service_tier\": \"default\", \"system_fingerprint\": \"fp_b7d65f1a5b\"}}, \"error\": null} for query \"fiducials present in the left lower lung are unchanged\": Could not parse output: {\n",
      "    \"reason\": The sentence indicates that fiducials are present and unchanged, but it does not rule out any abnormalities.\n",
      "    \"ruled_out_abnormalities\": {}\n",
      "}\n",
      "2025-01-14 10:17:58,156 - \u001b[1;31mERROR\u001b[1;0m - Error parsing response {\"id\": \"batch_req_6785b259079c81908f4504568fcae002\", \"custom_id\": \"42910\", \"response\": {\"status_code\": 200, \"request_id\": \"a18064ee514d7bfea37df54d7e6a8e9b\", \"body\": {\"id\": \"chatcmpl-ApNr0cmpDQHGBLbMJQlLApp4foVz6\", \"object\": \"chat.completion\", \"created\": 1736809786, \"model\": \"gpt-4o-2024-08-06\", \"choices\": [{\"index\": 0, \"message\": {\"role\": \"assistant\", \"content\": \"{\\n    \\\"reason\\\": The sentence describes the position of an Infuse-A-Port catheter tip, which is not related to ruling out any abnormalities.\\n    \\\"ruled_out_abnormalities\\\": {}\\n}\", \"refusal\": null}, \"logprobs\": null, \"finish_reason\": \"stop\"}], \"usage\": {\"prompt_tokens\": 379, \"completion_tokens\": 41, \"total_tokens\": 420, \"prompt_tokens_details\": {\"cached_tokens\": 0, \"audio_tokens\": 0}, \"completion_tokens_details\": {\"reasoning_tokens\": 0, \"audio_tokens\": 0, \"accepted_prediction_tokens\": 0, \"rejected_prediction_tokens\": 0}}, \"service_tier\": \"default\", \"system_fingerprint\": \"fp_703d4ff298\"}}, \"error\": null} for query \"Infuse-A-Port ends in the mid SVC\": Could not parse output: {\n",
      "    \"reason\": The sentence describes the position of an Infuse-A-Port catheter tip, which is not related to ruling out any abnormalities.\n",
      "    \"ruled_out_abnormalities\": {}\n",
      "}\n",
      "2025-01-14 10:17:58,156 - \u001b[1;32mINFO\u001b[1;0m - Succesfully processed 45442 of 45444 API responses.\n",
      "                                    2 of 45444 API responses could not be processed.\n",
      "                                    Saving processed texts to /mnt/data/pamessina_folder_backup_15_10_24/pamessina/medvqa-workspace/cache/mimiccxr/openai/gpt-4o_sentence_to_negative_facts.jsonl\n"
     ]
    }
   ],
   "source": [
    "!python ../../scripts/mimiccxr/extract_negative_facts_from_report_sentences_with_openai.py \\\n",
    "--batch_input_file_id \"file-BidVjgMYq8xRF5obymmxcZ\" \\\n",
    "--logging_level \"INFO\" \\\n",
    "--api_key_name \"OPENAI_API_KEY_1\" \\\n",
    "--openai_model_name \"gpt-4o\" \\\n",
    "--use_batch_api"
   ]
  },
  {
   "cell_type": "code",
   "execution_count": 7,
   "id": "4c4945e3",
   "metadata": {
    "scrolled": true
   },
   "outputs": [
    {
     "name": "stdout",
     "output_type": "stream",
     "text": [
      "2025-01-13 18:31:54,201 - \u001b[1;32mINFO\u001b[1;0m - Total number of unique sentences: 1269593\n",
      "2025-01-13 18:31:54,505 - \u001b[1;32mINFO\u001b[1;0m - Loading cached sorted sentences from /mnt/data/pamessina_folder_backup_15_10_24/pamessina/medvqa-workspace/cache/sorted_sentences(1269593,86367250).pkl...\n",
      "2025-01-13 18:31:54,681 - \u001b[1;32mINFO\u001b[1;0m - Done loading cached sorted sentences.\n",
      "2025-01-13 18:31:54,681 - \u001b[1;32mINFO\u001b[1;0m - First sentence: l CP ANGLE OBSCURED BUT PT HAD SIMILAR APPEARANCE ON SCOUTS FOR PRIOR CT L-SPINE AT WHICH POINT NO PLEURAL EFFUSION WAS EVIDENT- THUS THIS MAY REPRESENT A PERICARDIAL FAT PAD- THOUGH CANNOT DEFINITIVELY RULE OUT LAYERING LEFT EFFUSION.\n",
      "2025-01-13 18:31:54,681 - \u001b[1;32mINFO\u001b[1;0m - Last sentence: .\n",
      "checkpoint_names = ['checkpoint_196_cacc+chf1+chf1+cscc+encc+hscc+nlcc+sass+spss+ta0)+ta1)+ta2)+ta0)+ta1)+ta2)+ta3)+ta4)+ta5)+ta6)+ta7)=0.9189.pt']\n",
      "Loading cached text embeddings from /mnt/data/pamessina_folder_backup_15_10_24/pamessina/medvqa-workspace/cache/text_embeddings_cache(hash=469,680486110513564934).pkl\n",
      "len(self.cache[\"hashes\"]) = 1554202\n",
      "self.cache[\"embeddings\"].shape = (1554202, 128)\n",
      "Loading cached kmeans labels from /mnt/data/pamessina_folder_backup_15_10_24/pamessina/medvqa-workspace/cache/kmeans_labels(86367423,552958962134983816).pkl\n",
      "2025-01-13 18:32:05,127 - \u001b[1;32mINFO\u001b[1;0m - Total number of queries to process: 50000\n",
      "2025-01-13 18:32:05,127 - \u001b[1;32mINFO\u001b[1;0m - Example queries to process:\n",
      "2025-01-13 18:32:05,127 - \u001b[1;32mINFO\u001b[1;0m - 1. Worsening ground-glass opacification in the right lower lobe could be re-expansion edema, but has some of it has the quality of likely pneumonia at the left lung base another possibility, if patient has acute renal failure, is Goodpasture syndrome.\n",
      "2025-01-13 18:32:05,127 - \u001b[1;32mINFO\u001b[1;0m - 5556. WET READ VERSION #1 12:59 AM Left PICC is at the cavoatrial junction.\n",
      "2025-01-13 18:32:05,127 - \u001b[1;32mINFO\u001b[1;0m - 11111. 12:01 AM Left costophrenic sulcus not imaged, small left pleural effusion cannot be excluded.\n",
      "2025-01-13 18:32:05,127 - \u001b[1;32mINFO\u001b[1;0m - 16667. The left hemidiaphragm remains obscured and left lower lobe and perihilar consolidation as well as patchy opacity in the right upper lobe likewise appear radiographically unchanged compared to yesterday's study at 12:44 p.m.\n",
      "2025-01-13 18:32:05,127 - \u001b[1;32mINFO\u001b[1;0m - 22222. Left basal opacity appears to be slightly more pronounced than on the prior study, concerning for progression of atelectasis or infectious process, especially given the provided history of purulent secretions.\n",
      "2025-01-13 18:32:05,127 - \u001b[1;32mINFO\u001b[1;0m - 27778. possible persistance of abnormality\n",
      "2025-01-13 18:32:05,127 - \u001b[1;32mINFO\u001b[1;0m - 33333. Subpleural opacity involving the right lung apex is less conspicuous than prior study.\n",
      "2025-01-13 18:32:05,127 - \u001b[1;32mINFO\u001b[1;0m - 38889. Right IJ central venous catheter with tip in the mid/lower SVC\n",
      "2025-01-13 18:32:05,127 - \u001b[1;32mINFO\u001b[1;0m - 44444. There is an old-appearing fracture of the lateral right ninth rib, with evidence of callus seen.\n",
      "2025-01-13 18:32:05,127 - \u001b[1;32mINFO\u001b[1;0m - 50000. As compared to the previous radiograph, the pre-existing parenchymal opacities predominating at the right lung base have completely cleared.\n",
      "2025-01-13 18:32:05,284 - \u001b[1;32mINFO\u001b[1;0m - Saving batch API requests to /home/pamessina/medvqa-workspace/tmp/mimiccxr/openai/batch_api_requests_20250113_183205.jsonl\n",
      "2025-01-13 18:32:23,026 - \u001b[1;32mINFO\u001b[1;0m - HTTP Request: POST https://api.openai.com/v1/files \"HTTP/1.1 200 OK\"\n",
      "2025-01-13 18:32:23,029 - \u001b[1;32mINFO\u001b[1;0m - Creating batch with input file ID file-3x6mWvMFfj4YFPVv7dAUFi\n",
      "2025-01-13 18:32:23,842 - \u001b[1;32mINFO\u001b[1;0m - HTTP Request: POST https://api.openai.com/v1/batches \"HTTP/1.1 200 OK\"\n",
      "2025-01-13 18:32:23,849 - \u001b[1;32mINFO\u001b[1;0m - Batch object: Batch(id='batch_6785866798c8819085c770299ac6ecb2', completion_window='24h', created_at=1736803943, endpoint='/v1/chat/completions', input_file_id='file-3x6mWvMFfj4YFPVv7dAUFi', object='batch', status='validating', cancelled_at=None, cancelling_at=None, completed_at=None, error_file_id=None, errors=None, expired_at=None, expires_at=1736890343, failed_at=None, finalizing_at=None, in_progress_at=None, metadata={'description': 'sentence to negative facts'}, output_file_id=None, request_counts=BatchRequestCounts(completed=0, failed=0, total=0))\n",
      "2025-01-13 18:32:23,849 - \u001b[1;32mINFO\u001b[1;0m - Saving batch object to /home/pamessina/medvqa-workspace/tmp/mimiccxr/openai/batch_api/file-3x6mWvMFfj4YFPVv7dAUFi.pkl\n",
      "2025-01-13 18:32:23,850 - \u001b[1;32mINFO\u001b[1;0m - Deleting batch API requests at /home/pamessina/medvqa-workspace/tmp/mimiccxr/openai/batch_api_requests_20250113_183205.jsonl\n"
     ]
    }
   ],
   "source": [
    "!python ../../scripts/mimiccxr/extract_negative_facts_from_report_sentences_with_openai.py \\\n",
    "--offset 50000 \\\n",
    "--num_samples 50000 \\\n",
    "--integrated_sentence_facts_jsonl_filepath \\\n",
    "\"/home/pamessina/medvqa-workspace/cache/mimiccxr/integrated_sentence_facts(59349684,50956825).jsonl\" \\\n",
    "--fact_embedding_model_name \"microsoft/BiomedVLP-CXR-BERT-specialized\" \\\n",
    "--fact_embedding_model_checkpoint_folder_path \\\n",
    "\"/mnt/data/pamessina/workspaces/medvqa-workspace/models/fact_embedding/20240629_084405_MIMIC-CXR(triplets+classif+entcont+nli+radgraph+autoencoder)_FactEncoder(microsoft-BiomedVLP-CXR-BERT-specialized)\" \\\n",
    "--fact_embedding_batch_size 200 \\\n",
    "--fact_embedding_num_workers 4 \\\n",
    "--max_requests_per_minute 20000 \\\n",
    "--max_tokens_per_minute 10000000 \\\n",
    "--max_tokens_per_request 350 \\\n",
    "--logging_level \"INFO\" \\\n",
    "--api_key_name \"OPENAI_API_KEY_1\" \\\n",
    "--openai_model_name \"gpt-4o-mini\" \\\n",
    "--use_batch_api \\\n",
    "--batch_description \"sentence to negative facts\""
   ]
  },
  {
   "cell_type": "code",
   "execution_count": 16,
   "id": "e65a0fc4",
   "metadata": {
    "scrolled": true
   },
   "outputs": [
    {
     "name": "stdout",
     "output_type": "stream",
     "text": [
      "2025-01-14 10:18:44,964 - \u001b[1;32mINFO\u001b[1;0m - Checking status of batch with input file ID file-3x6mWvMFfj4YFPVv7dAUFi\n",
      "2025-01-14 10:18:45,398 - \u001b[1;32mINFO\u001b[1;0m - Batch object: Batch(id='batch_6785866798c8819085c770299ac6ecb2', completion_window='24h', created_at=1736803943, endpoint='/v1/chat/completions', input_file_id='file-3x6mWvMFfj4YFPVv7dAUFi', object='batch', status='validating', cancelled_at=None, cancelling_at=None, completed_at=None, error_file_id=None, errors=None, expired_at=None, expires_at=1736890343, failed_at=None, finalizing_at=None, in_progress_at=None, metadata={'description': 'sentence to negative facts'}, output_file_id=None, request_counts=BatchRequestCounts(completed=0, failed=0, total=0))\n",
      "2025-01-14 10:18:46,141 - \u001b[1;32mINFO\u001b[1;0m - HTTP Request: GET https://api.openai.com/v1/batches/batch_6785866798c8819085c770299ac6ecb2 \"HTTP/1.1 200 OK\"\n",
      "2025-01-14 10:18:46,149 - \u001b[1;32mINFO\u001b[1;0m - Batch: Batch(id='batch_6785866798c8819085c770299ac6ecb2', completion_window='24h', created_at=1736803943, endpoint='/v1/chat/completions', input_file_id='file-3x6mWvMFfj4YFPVv7dAUFi', object='batch', status='completed', cancelled_at=None, cancelling_at=None, completed_at=1736813947, error_file_id=None, errors=None, expired_at=None, expires_at=1736890343, failed_at=None, finalizing_at=1736810107, in_progress_at=1736803959, metadata={'description': 'sentence to negative facts'}, output_file_id='file-2uWzpLuT6TqxL1ABS2v3d3', request_counts=BatchRequestCounts(completed=50000, failed=0, total=50000))\n",
      "2025-01-14 10:18:46,149 - \u001b[1;32mINFO\u001b[1;0m - Batch status: completed\n",
      "2025-01-14 10:18:46,149 - \u001b[1;32mINFO\u001b[1;0m - Batch with input file ID file-3x6mWvMFfj4YFPVv7dAUFi is completed\n",
      "2025-01-14 10:18:46,149 - \u001b[1;32mINFO\u001b[1;0m - Retrieving batch input file ID file-3x6mWvMFfj4YFPVv7dAUFi\n",
      "2025-01-14 10:18:47,246 - \u001b[1;32mINFO\u001b[1;0m - HTTP Request: GET https://api.openai.com/v1/files/file-3x6mWvMFfj4YFPVv7dAUFi/content \"HTTP/1.1 200 OK\"\n",
      "2025-01-14 10:18:52,826 - \u001b[1;32mINFO\u001b[1;0m - Retrieved metadata for 50000 queries\n",
      "2025-01-14 10:18:52,826 - \u001b[1;32mINFO\u001b[1;0m - Retrieving batch output file ID file-2uWzpLuT6TqxL1ABS2v3d3\n",
      "2025-01-14 10:18:53,815 - \u001b[1;32mINFO\u001b[1;0m - HTTP Request: GET https://api.openai.com/v1/files/file-2uWzpLuT6TqxL1ABS2v3d3/content \"HTTP/1.1 200 OK\"\n",
      "2025-01-14 10:18:58,541 - \u001b[1;31mERROR\u001b[1;0m - 185 error messages occurred while parsing responses\n",
      "2025-01-14 10:18:58,542 - \u001b[1;31mERROR\u001b[1;0m - Error parsing response {\"id\": \"batch_req_6785a08816248190b29b94d9cafc81ff\", \"custom_id\": \"6720\", \"response\": {\"status_code\": 200, \"request_id\": \"e12f8f8bf27ef98f96864f123ebf6087\", \"body\": {\"id\": \"chatcmpl-ApMX7QA9D4KE5RRuaqeQHuyG4qXkK\", \"object\": \"chat.completion\", \"created\": 1736804709, \"model\": \"gpt-4o-mini-2024-07-18\", \"choices\": [{\"index\": 0, \"message\": {\"role\": \"assistant\", \"content\": \"{}\", \"refusal\": null}, \"logprobs\": null, \"finish_reason\": \"stop\"}], \"usage\": {\"prompt_tokens\": 380, \"completion_tokens\": 1, \"total_tokens\": 381, \"prompt_tokens_details\": {\"cached_tokens\": 0, \"audio_tokens\": 0}, \"completion_tokens_details\": {\"reasoning_tokens\": 0, \"audio_tokens\": 0, \"accepted_prediction_tokens\": 0, \"rejected_prediction_tokens\": 0}}, \"service_tier\": \"default\", \"system_fingerprint\": \"fp_72ed7ab54c\"}}, \"error\": null} for query \"PFI VERSION #2 1:14 PM.\": Could not parse output: {}\n",
      "2025-01-14 10:18:58,542 - \u001b[1;31mERROR\u001b[1;0m - Error parsing response {\"id\": \"batch_req_6785a41ccdd08190a003b8e8d1679fc2\", \"custom_id\": \"18452\", \"response\": {\"status_code\": 200, \"request_id\": \"91df1e8665c05720636251e6ba2857f4\", \"body\": {\"id\": \"chatcmpl-ApMpSyvVGGHyGCrZeq5CEk3WpV8DJ\", \"object\": \"chat.completion\", \"created\": 1736805846, \"model\": \"gpt-4o-mini-2024-07-18\", \"choices\": [{\"index\": 0, \"message\": {\"role\": \"assistant\", \"content\": \"{}\", \"refusal\": null}, \"logprobs\": null, \"finish_reason\": \"stop\"}], \"usage\": {\"prompt_tokens\": 372, \"completion_tokens\": 2, \"total_tokens\": 374, \"prompt_tokens_details\": {\"cached_tokens\": 0, \"audio_tokens\": 0}, \"completion_tokens_details\": {\"reasoning_tokens\": 0, \"audio_tokens\": 0, \"accepted_prediction_tokens\": 0, \"rejected_prediction_tokens\": 0}}, \"service_tier\": \"default\", \"system_fingerprint\": \"fp_72ed7ab54c\"}}, \"error\": null} for query \"re-evaluate\": Could not parse output: {}\n",
      "2025-01-14 10:18:58,542 - \u001b[1;31mERROR\u001b[1;0m - Error parsing response {\"id\": \"batch_req_6785a4913600819088bbfe8bff1df666\", \"custom_id\": \"19952\", \"response\": {\"status_code\": 200, \"request_id\": \"73343d7da197a56a95888a31ee733269\", \"body\": {\"id\": \"chatcmpl-ApMwVUjqJueVgr7y50fuh9PgkmsxB\", \"object\": \"chat.completion\", \"created\": 1736806283, \"model\": \"gpt-4o-mini-2024-07-18\", \"choices\": [{\"index\": 0, \"message\": {\"role\": \"assistant\", \"content\": \"{}\", \"refusal\": null}, \"logprobs\": null, \"finish_reason\": \"stop\"}], \"usage\": {\"prompt_tokens\": 375, \"completion_tokens\": 2, \"total_tokens\": 377, \"prompt_tokens_details\": {\"cached_tokens\": 0, \"audio_tokens\": 0}, \"completion_tokens_details\": {\"reasoning_tokens\": 0, \"audio_tokens\": 0, \"accepted_prediction_tokens\": 0, \"rejected_prediction_tokens\": 0}}, \"service_tier\": \"default\", \"system_fingerprint\": \"fp_72ed7ab54c\"}}, \"error\": null} for query \"comparison to 10:38\": Could not parse output: {}\n",
      "2025-01-14 10:18:58,542 - \u001b[1;31mERROR\u001b[1;0m - Error parsing response {\"id\": \"batch_req_6785a41a62e08190ac0a4f1aedc4e72d\", \"custom_id\": \"18420\", \"response\": {\"status_code\": 200, \"request_id\": \"d15a45bb6c37ac35b2f46c5762b0b71b\", \"body\": {\"id\": \"chatcmpl-ApMqYNIkxugHD0LjsjqPOnUQ2PWpy\", \"object\": \"chat.completion\", \"created\": 1736805914, \"model\": \"gpt-4o-mini-2024-07-18\", \"choices\": [{\"index\": 0, \"message\": {\"role\": \"assistant\", \"content\": \"{}\", \"refusal\": null}, \"logprobs\": null, \"finish_reason\": \"stop\"}], \"usage\": {\"prompt_tokens\": 376, \"completion_tokens\": 2, \"total_tokens\": 378, \"prompt_tokens_details\": {\"cached_tokens\": 0, \"audio_tokens\": 0}, \"completion_tokens_details\": {\"reasoning_tokens\": 0, \"audio_tokens\": 0, \"accepted_prediction_tokens\": 0, \"rejected_prediction_tokens\": 0}}, \"service_tier\": \"default\", \"system_fingerprint\": \"fp_72ed7ab54c\"}}, \"error\": null} for query \"1:33 AM 1.\": Could not parse output: {}\n",
      "2025-01-14 10:18:58,542 - \u001b[1;31mERROR\u001b[1;0m - Error parsing response {\"id\": \"batch_req_67859ec572948190ad304bbff6064f6d\", \"custom_id\": \"942\", \"response\": {\"status_code\": 200, \"request_id\": \"5af89cac06eac7d0945c9c09ee11be06\", \"body\": {\"id\": \"chatcmpl-ApMPp1xFmy2VISDbnNbjiBWuUzpY9\", \"object\": \"chat.completion\", \"created\": 1736804257, \"model\": \"gpt-4o-mini-2024-07-18\", \"choices\": [{\"index\": 0, \"message\": {\"role\": \"assistant\", \"content\": \"{}\", \"refusal\": null}, \"logprobs\": null, \"finish_reason\": \"stop\"}], \"usage\": {\"prompt_tokens\": 373, \"completion_tokens\": 2, \"total_tokens\": 375, \"prompt_tokens_details\": {\"cached_tokens\": 0, \"audio_tokens\": 0}, \"completion_tokens_details\": {\"reasoning_tokens\": 0, \"audio_tokens\": 0, \"accepted_prediction_tokens\": 0, \"rejected_prediction_tokens\": 0}}, \"service_tier\": \"default\", \"system_fingerprint\": \"fp_72ed7ab54c\"}}, \"error\": null} for query \"Pbisop.\": Could not parse output: {}\n",
      "2025-01-14 10:18:58,542 - \u001b[1;32mINFO\u001b[1;0m - Succesfully processed 49815 of 50000 API responses.\n",
      "                                    185 of 50000 API responses could not be processed.\n",
      "                                    Saving processed texts to /mnt/data/pamessina_folder_backup_15_10_24/pamessina/medvqa-workspace/cache/mimiccxr/openai/gpt-4o-mini_sentence_to_negative_facts.jsonl\n"
     ]
    }
   ],
   "source": [
    "!python ../../scripts/mimiccxr/extract_negative_facts_from_report_sentences_with_openai.py \\\n",
    "--batch_input_file_id \"file-3x6mWvMFfj4YFPVv7dAUFi\" \\\n",
    "--logging_level \"INFO\" \\\n",
    "--api_key_name \"OPENAI_API_KEY_1\" \\\n",
    "--openai_model_name \"gpt-4o-mini\" \\\n",
    "--use_batch_api"
   ]
  },
  {
   "cell_type": "code",
   "execution_count": 8,
   "id": "2bf9031b",
   "metadata": {
    "scrolled": true
   },
   "outputs": [
    {
     "name": "stdout",
     "output_type": "stream",
     "text": [
      "2025-01-13 18:32:49,521 - \u001b[1;32mINFO\u001b[1;0m - Total number of unique sentences: 1269593\n",
      "2025-01-13 18:32:49,826 - \u001b[1;32mINFO\u001b[1;0m - Loading cached sorted sentences from /mnt/data/pamessina_folder_backup_15_10_24/pamessina/medvqa-workspace/cache/sorted_sentences(1269593,86367250).pkl...\n",
      "2025-01-13 18:32:50,006 - \u001b[1;32mINFO\u001b[1;0m - Done loading cached sorted sentences.\n",
      "2025-01-13 18:32:50,006 - \u001b[1;32mINFO\u001b[1;0m - First sentence: l CP ANGLE OBSCURED BUT PT HAD SIMILAR APPEARANCE ON SCOUTS FOR PRIOR CT L-SPINE AT WHICH POINT NO PLEURAL EFFUSION WAS EVIDENT- THUS THIS MAY REPRESENT A PERICARDIAL FAT PAD- THOUGH CANNOT DEFINITIVELY RULE OUT LAYERING LEFT EFFUSION.\n",
      "2025-01-13 18:32:50,006 - \u001b[1;32mINFO\u001b[1;0m - Last sentence: .\n",
      "checkpoint_names = ['checkpoint_196_cacc+chf1+chf1+cscc+encc+hscc+nlcc+sass+spss+ta0)+ta1)+ta2)+ta0)+ta1)+ta2)+ta3)+ta4)+ta5)+ta6)+ta7)=0.9189.pt']\n",
      "Loading cached text embeddings from /mnt/data/pamessina_folder_backup_15_10_24/pamessina/medvqa-workspace/cache/text_embeddings_cache(hash=469,680486110513564934).pkl\n",
      "len(self.cache[\"hashes\"]) = 1554202\n",
      "self.cache[\"embeddings\"].shape = (1554202, 128)\n",
      "Loading cached kmeans labels from /mnt/data/pamessina_folder_backup_15_10_24/pamessina/medvqa-workspace/cache/kmeans_labels(86367423,552958962134983816).pkl\n",
      "2025-01-13 18:33:00,595 - \u001b[1;32mINFO\u001b[1;0m - Total number of queries to process: 50000\n",
      "2025-01-13 18:33:00,595 - \u001b[1;32mINFO\u001b[1;0m - Example queries to process:\n",
      "2025-01-13 18:33:00,595 - \u001b[1;32mINFO\u001b[1;0m - 1. effusions restricted to the region of the costophrenic sinuses\n",
      "2025-01-13 18:33:00,596 - \u001b[1;32mINFO\u001b[1;0m - 5556. Recurrent coarse reticular opacities in the left lower lung, similar to and new from represent recurrent infection in the clinical setting of fevers.\n",
      "2025-01-13 18:33:00,596 - \u001b[1;32mINFO\u001b[1;0m - 11111. Observed findings likely represent collapse of the right middle lobe and partial atelectasis of the right lower lobe, the latter coexisting with known complex fluid collection and consolidation based on review of recent CT.\n",
      "2025-01-13 18:33:00,596 - \u001b[1;32mINFO\u001b[1;0m - 16667. 3:59 PM Hyperinflated lungs.\n",
      "2025-01-13 18:33:00,596 - \u001b[1;32mINFO\u001b[1;0m - 22222. NG tube returning into view\n",
      "2025-01-13 18:33:00,596 - \u001b[1;32mINFO\u001b[1;0m - 27778. Severe heterogeneously distributed pulmonary consolidation has grown even more confluent since .\n",
      "2025-01-13 18:33:00,596 - \u001b[1;32mINFO\u001b[1;0m - 33333. 6:49 AM An enteric tube courses below the level of the diaphragm and appears to terminate in the stomach.\n",
      "2025-01-13 18:33:00,596 - \u001b[1;32mINFO\u001b[1;0m - 38889. WET READ VERSION #1 8:13 PM The right lung and left upper lobe remain clear.\n",
      "2025-01-13 18:33:00,596 - \u001b[1;32mINFO\u001b[1;0m - 44444. course suggestive of malpositioning within the left lower lobe bronchus\n",
      "2025-01-13 18:33:00,596 - \u001b[1;32mINFO\u001b[1;0m - 50000. appropriate murmurs\n",
      "2025-01-13 18:33:00,749 - \u001b[1;32mINFO\u001b[1;0m - Saving batch API requests to /home/pamessina/medvqa-workspace/tmp/mimiccxr/openai/batch_api_requests_20250113_183300.jsonl\n",
      "2025-01-13 18:33:12,673 - \u001b[1;32mINFO\u001b[1;0m - HTTP Request: POST https://api.openai.com/v1/files \"HTTP/1.1 200 OK\"\n",
      "2025-01-13 18:33:12,675 - \u001b[1;32mINFO\u001b[1;0m - Creating batch with input file ID file-6jngwynFipUWXjyyxWsNim\n",
      "2025-01-13 18:33:13,358 - \u001b[1;32mINFO\u001b[1;0m - HTTP Request: POST https://api.openai.com/v1/batches \"HTTP/1.1 200 OK\"\n",
      "2025-01-13 18:33:13,365 - \u001b[1;32mINFO\u001b[1;0m - Batch object: Batch(id='batch_678586991ab08190a080409823ada87d', completion_window='24h', created_at=1736803993, endpoint='/v1/chat/completions', input_file_id='file-6jngwynFipUWXjyyxWsNim', object='batch', status='validating', cancelled_at=None, cancelling_at=None, completed_at=None, error_file_id=None, errors=None, expired_at=None, expires_at=1736890393, failed_at=None, finalizing_at=None, in_progress_at=None, metadata={'description': 'sentence to negative facts'}, output_file_id=None, request_counts=BatchRequestCounts(completed=0, failed=0, total=0))\n",
      "2025-01-13 18:33:13,365 - \u001b[1;32mINFO\u001b[1;0m - Saving batch object to /home/pamessina/medvqa-workspace/tmp/mimiccxr/openai/batch_api/file-6jngwynFipUWXjyyxWsNim.pkl\n",
      "2025-01-13 18:33:13,366 - \u001b[1;32mINFO\u001b[1;0m - Deleting batch API requests at /home/pamessina/medvqa-workspace/tmp/mimiccxr/openai/batch_api_requests_20250113_183300.jsonl\n"
     ]
    }
   ],
   "source": [
    "!python ../../scripts/mimiccxr/extract_negative_facts_from_report_sentences_with_openai.py \\\n",
    "--offset 100000 \\\n",
    "--num_samples 50000 \\\n",
    "--integrated_sentence_facts_jsonl_filepath \\\n",
    "\"/home/pamessina/medvqa-workspace/cache/mimiccxr/integrated_sentence_facts(59349684,50956825).jsonl\" \\\n",
    "--fact_embedding_model_name \"microsoft/BiomedVLP-CXR-BERT-specialized\" \\\n",
    "--fact_embedding_model_checkpoint_folder_path \\\n",
    "\"/mnt/data/pamessina/workspaces/medvqa-workspace/models/fact_embedding/20240629_084405_MIMIC-CXR(triplets+classif+entcont+nli+radgraph+autoencoder)_FactEncoder(microsoft-BiomedVLP-CXR-BERT-specialized)\" \\\n",
    "--fact_embedding_batch_size 200 \\\n",
    "--fact_embedding_num_workers 4 \\\n",
    "--max_requests_per_minute 20000 \\\n",
    "--max_tokens_per_minute 10000000 \\\n",
    "--max_tokens_per_request 350 \\\n",
    "--logging_level \"INFO\" \\\n",
    "--api_key_name \"OPENAI_API_KEY_1\" \\\n",
    "--openai_model_name \"gpt-4o-mini\" \\\n",
    "--use_batch_api \\\n",
    "--batch_description \"sentence to negative facts\""
   ]
  },
  {
   "cell_type": "code",
   "execution_count": 17,
   "id": "72f2696f",
   "metadata": {
    "scrolled": true
   },
   "outputs": [
    {
     "name": "stdout",
     "output_type": "stream",
     "text": [
      "2025-01-14 10:19:54,639 - \u001b[1;32mINFO\u001b[1;0m - Checking status of batch with input file ID file-6jngwynFipUWXjyyxWsNim\n",
      "2025-01-14 10:19:55,069 - \u001b[1;32mINFO\u001b[1;0m - Batch object: Batch(id='batch_678586991ab08190a080409823ada87d', completion_window='24h', created_at=1736803993, endpoint='/v1/chat/completions', input_file_id='file-6jngwynFipUWXjyyxWsNim', object='batch', status='validating', cancelled_at=None, cancelling_at=None, completed_at=None, error_file_id=None, errors=None, expired_at=None, expires_at=1736890393, failed_at=None, finalizing_at=None, in_progress_at=None, metadata={'description': 'sentence to negative facts'}, output_file_id=None, request_counts=BatchRequestCounts(completed=0, failed=0, total=0))\n",
      "2025-01-14 10:19:56,166 - \u001b[1;32mINFO\u001b[1;0m - HTTP Request: GET https://api.openai.com/v1/batches/batch_678586991ab08190a080409823ada87d \"HTTP/1.1 200 OK\"\n",
      "2025-01-14 10:19:56,173 - \u001b[1;32mINFO\u001b[1;0m - Batch: Batch(id='batch_678586991ab08190a080409823ada87d', completion_window='24h', created_at=1736803993, endpoint='/v1/chat/completions', input_file_id='file-6jngwynFipUWXjyyxWsNim', object='batch', status='completed', cancelled_at=None, cancelling_at=None, completed_at=1736833796, error_file_id=None, errors=None, expired_at=None, expires_at=1736890393, failed_at=None, finalizing_at=1736828137, in_progress_at=1736804008, metadata={'description': 'sentence to negative facts'}, output_file_id='file-PTSQHwJj5HTRzhRw4KCfoD', request_counts=BatchRequestCounts(completed=50000, failed=0, total=50000))\n",
      "2025-01-14 10:19:56,174 - \u001b[1;32mINFO\u001b[1;0m - Batch status: completed\n",
      "2025-01-14 10:19:56,174 - \u001b[1;32mINFO\u001b[1;0m - Batch with input file ID file-6jngwynFipUWXjyyxWsNim is completed\n",
      "2025-01-14 10:19:56,174 - \u001b[1;32mINFO\u001b[1;0m - Retrieving batch input file ID file-6jngwynFipUWXjyyxWsNim\n",
      "2025-01-14 10:19:57,143 - \u001b[1;32mINFO\u001b[1;0m - HTTP Request: GET https://api.openai.com/v1/files/file-6jngwynFipUWXjyyxWsNim/content \"HTTP/1.1 200 OK\"\n",
      "2025-01-14 10:20:03,111 - \u001b[1;32mINFO\u001b[1;0m - Retrieved metadata for 50000 queries\n",
      "2025-01-14 10:20:03,111 - \u001b[1;32mINFO\u001b[1;0m - Retrieving batch output file ID file-PTSQHwJj5HTRzhRw4KCfoD\n",
      "2025-01-14 10:20:04,247 - \u001b[1;32mINFO\u001b[1;0m - HTTP Request: GET https://api.openai.com/v1/files/file-PTSQHwJj5HTRzhRw4KCfoD/content \"HTTP/1.1 200 OK\"\n",
      "2025-01-14 10:20:09,429 - \u001b[1;31mERROR\u001b[1;0m - 211 error messages occurred while parsing responses\n",
      "2025-01-14 10:20:09,429 - \u001b[1;31mERROR\u001b[1;0m - Error parsing response {\"id\": \"batch_req_6785e8b4a8348190834082e00e5b1f41\", \"custom_id\": \"8928\", \"response\": {\"status_code\": 200, \"request_id\": \"2a97d16e19885fb1cd4a7cf4a2f0f259\", \"body\": {\"id\": \"chatcmpl-ApPa6vhSOT7DMO2HJoHHA4ttZNmEH\", \"object\": \"chat.completion\", \"created\": 1736816426, \"model\": \"gpt-4o-mini-2024-07-18\", \"choices\": [{\"index\": 0, \"message\": {\"role\": \"assistant\", \"content\": \"{}\", \"refusal\": null}, \"logprobs\": null, \"finish_reason\": \"stop\"}], \"usage\": {\"prompt_tokens\": 371, \"completion_tokens\": 2, \"total_tokens\": 373, \"prompt_tokens_details\": {\"cached_tokens\": 0, \"audio_tokens\": 0}, \"completion_tokens_details\": {\"reasoning_tokens\": 0, \"audio_tokens\": 0, \"accepted_prediction_tokens\": 0, \"rejected_prediction_tokens\": 0}}, \"service_tier\": \"default\", \"system_fingerprint\": \"fp_72ed7ab54c\"}}, \"error\": null} for query \"perfusion\": Could not parse output: {}\n",
      "2025-01-14 10:20:09,429 - \u001b[1;31mERROR\u001b[1;0m - Error parsing response {\"id\": \"batch_req_6785f5daf6308190a40f3784e914b2e8\", \"custom_id\": \"39520\", \"response\": {\"status_code\": 200, \"request_id\": \"5fbf2c0426b5836307f8933d3182c492\", \"body\": {\"id\": \"chatcmpl-ApQOYKTh1lfJQkHu3uGvKI8M6VWyi\", \"object\": \"chat.completion\", \"created\": 1736819554, \"model\": \"gpt-4o-mini-2024-07-18\", \"choices\": [{\"index\": 0, \"message\": {\"role\": \"assistant\", \"content\": \"{}\", \"refusal\": null}, \"logprobs\": null, \"finish_reason\": \"stop\"}], \"usage\": {\"prompt_tokens\": 376, \"completion_tokens\": 2, \"total_tokens\": 378, \"prompt_tokens_details\": {\"cached_tokens\": 0, \"audio_tokens\": 0}, \"completion_tokens_details\": {\"reasoning_tokens\": 0, \"audio_tokens\": 0, \"accepted_prediction_tokens\": 0, \"rejected_prediction_tokens\": 0}}, \"service_tier\": \"default\", \"system_fingerprint\": \"fp_72ed7ab54c\"}}, \"error\": null} for query \"4:26 AM 1.\": Could not parse output: {}\n",
      "2025-01-14 10:20:09,429 - \u001b[1;31mERROR\u001b[1;0m - Error parsing response {\"id\": \"batch_req_6785e9e18a348190be410884abd4febc\", \"custom_id\": \"11620\", \"response\": {\"status_code\": 200, \"request_id\": \"11f3c4f7e50a80a4e19da5dc9d2625e7\", \"body\": {\"id\": \"chatcmpl-ApPh70qkJIypADaNTcbLolVnrR7uo\", \"object\": \"chat.completion\", \"created\": 1736816861, \"model\": \"gpt-4o-mini-2024-07-18\", \"choices\": [{\"index\": 0, \"message\": {\"role\": \"assistant\", \"content\": \"{}\", \"refusal\": null}, \"logprobs\": null, \"finish_reason\": \"stop\"}], \"usage\": {\"prompt_tokens\": 376, \"completion_tokens\": 1, \"total_tokens\": 377, \"prompt_tokens_details\": {\"cached_tokens\": 0, \"audio_tokens\": 0}, \"completion_tokens_details\": {\"reasoning_tokens\": 0, \"audio_tokens\": 0, \"accepted_prediction_tokens\": 0, \"rejected_prediction_tokens\": 0}}, \"service_tier\": \"default\", \"system_fingerprint\": \"fp_bd83329f63\"}}, \"error\": null} for query \"1:57 AM 1.\": Could not parse output: {}\n",
      "2025-01-14 10:20:09,429 - \u001b[1;31mERROR\u001b[1;0m - Error parsing response {\"id\": \"batch_req_6785f4a0a6ec819099354005b4d3b58a\", \"custom_id\": \"36861\", \"response\": {\"status_code\": 200, \"request_id\": \"83029dee2ae17475c1e5f4b9c544787b\", \"body\": {\"id\": \"chatcmpl-ApQHgWKMfkgcdBtlWghks5O7G3Nkz\", \"object\": \"chat.completion\", \"created\": 1736819128, \"model\": \"gpt-4o-mini-2024-07-18\", \"choices\": [{\"index\": 0, \"message\": {\"role\": \"assistant\", \"content\": \"{}\", \"refusal\": null}, \"logprobs\": null, \"finish_reason\": \"stop\"}], \"usage\": {\"prompt_tokens\": 378, \"completion_tokens\": 2, \"total_tokens\": 380, \"prompt_tokens_details\": {\"cached_tokens\": 0, \"audio_tokens\": 0}, \"completion_tokens_details\": {\"reasoning_tokens\": 0, \"audio_tokens\": 0, \"accepted_prediction_tokens\": 0, \"rejected_prediction_tokens\": 0}}, \"service_tier\": \"default\", \"system_fingerprint\": \"fp_bd83329f63\"}}, \"error\": null} for query \"chest radiographs at 02:45\": Could not parse output: {}\n",
      "2025-01-14 10:20:09,429 - \u001b[1;31mERROR\u001b[1;0m - Error parsing response {\"id\": \"batch_req_6785f1432db8819097b858e231c33e73\", \"custom_id\": \"29320\", \"response\": {\"status_code\": 200, \"request_id\": \"b117753fe067a81906c4c3b72728174d\", \"body\": {\"id\": \"chatcmpl-ApQ7HmojNXgHX4vyOFYLEt3XcOcR0\", \"object\": \"chat.completion\", \"created\": 1736818483, \"model\": \"gpt-4o-mini-2024-07-18\", \"choices\": [{\"index\": 0, \"message\": {\"role\": \"assistant\", \"content\": \"{}\", \"refusal\": null}, \"logprobs\": null, \"finish_reason\": \"stop\"}], \"usage\": {\"prompt_tokens\": 376, \"completion_tokens\": 2, \"total_tokens\": 378, \"prompt_tokens_details\": {\"cached_tokens\": 0, \"audio_tokens\": 0}, \"completion_tokens_details\": {\"reasoning_tokens\": 0, \"audio_tokens\": 0, \"accepted_prediction_tokens\": 0, \"rejected_prediction_tokens\": 0}}, \"service_tier\": \"default\", \"system_fingerprint\": \"fp_72ed7ab54c\"}}, \"error\": null} for query \"3:43 PM 1.\": Could not parse output: {}\n",
      "2025-01-14 10:20:09,429 - \u001b[1;32mINFO\u001b[1;0m - Succesfully processed 49789 of 50000 API responses.\n",
      "                                    211 of 50000 API responses could not be processed.\n",
      "                                    Saving processed texts to /mnt/data/pamessina_folder_backup_15_10_24/pamessina/medvqa-workspace/cache/mimiccxr/openai/gpt-4o-mini_sentence_to_negative_facts.jsonl\n"
     ]
    }
   ],
   "source": [
    "!python ../../scripts/mimiccxr/extract_negative_facts_from_report_sentences_with_openai.py \\\n",
    "--batch_input_file_id \"file-6jngwynFipUWXjyyxWsNim\" \\\n",
    "--logging_level \"INFO\" \\\n",
    "--api_key_name \"OPENAI_API_KEY_1\" \\\n",
    "--openai_model_name \"gpt-4o-mini\" \\\n",
    "--use_batch_api"
   ]
  },
  {
   "cell_type": "code",
   "execution_count": 9,
   "id": "dc1aaff0",
   "metadata": {
    "scrolled": true
   },
   "outputs": [
    {
     "name": "stdout",
     "output_type": "stream",
     "text": [
      "2025-01-13 18:33:25,519 - \u001b[1;32mINFO\u001b[1;0m - Total number of unique sentences: 1269593\n",
      "2025-01-13 18:33:25,820 - \u001b[1;32mINFO\u001b[1;0m - Loading cached sorted sentences from /mnt/data/pamessina_folder_backup_15_10_24/pamessina/medvqa-workspace/cache/sorted_sentences(1269593,86367250).pkl...\n",
      "2025-01-13 18:33:25,997 - \u001b[1;32mINFO\u001b[1;0m - Done loading cached sorted sentences.\n",
      "2025-01-13 18:33:25,997 - \u001b[1;32mINFO\u001b[1;0m - First sentence: l CP ANGLE OBSCURED BUT PT HAD SIMILAR APPEARANCE ON SCOUTS FOR PRIOR CT L-SPINE AT WHICH POINT NO PLEURAL EFFUSION WAS EVIDENT- THUS THIS MAY REPRESENT A PERICARDIAL FAT PAD- THOUGH CANNOT DEFINITIVELY RULE OUT LAYERING LEFT EFFUSION.\n",
      "2025-01-13 18:33:25,997 - \u001b[1;32mINFO\u001b[1;0m - Last sentence: .\n",
      "checkpoint_names = ['checkpoint_196_cacc+chf1+chf1+cscc+encc+hscc+nlcc+sass+spss+ta0)+ta1)+ta2)+ta0)+ta1)+ta2)+ta3)+ta4)+ta5)+ta6)+ta7)=0.9189.pt']\n",
      "Loading cached text embeddings from /mnt/data/pamessina_folder_backup_15_10_24/pamessina/medvqa-workspace/cache/text_embeddings_cache(hash=469,680486110513564934).pkl\n",
      "len(self.cache[\"hashes\"]) = 1554202\n",
      "self.cache[\"embeddings\"].shape = (1554202, 128)\n",
      "Loading cached kmeans labels from /mnt/data/pamessina_folder_backup_15_10_24/pamessina/medvqa-workspace/cache/kmeans_labels(86367423,552958962134983816).pkl\n",
      "2025-01-13 18:33:36,601 - \u001b[1;32mINFO\u001b[1;0m - Total number of queries to process: 50000\n",
      "2025-01-13 18:33:36,601 - \u001b[1;32mINFO\u001b[1;0m - Example queries to process:\n",
      "2025-01-13 18:33:36,602 - \u001b[1;32mINFO\u001b[1;0m - 1. severity of the known pulmonary edema has not substantially changed\n",
      "2025-01-13 18:33:36,602 - \u001b[1;32mINFO\u001b[1;0m - 5556. tip of trach tube 3 cm above the carina\n",
      "2025-01-13 18:33:36,602 - \u001b[1;32mINFO\u001b[1;0m - 11111. side-port projecting over the left mid to lower hemi thorax\n",
      "2025-01-13 18:33:36,602 - \u001b[1;32mINFO\u001b[1;0m - 16667. There is no overt pulmonary edema but mild chronic fluid overload could be present, given the mild enlargement of the vascular diameters in the lung.\n",
      "2025-01-13 18:33:36,602 - \u001b[1;32mINFO\u001b[1;0m - 22222. interval slight improvement of bilateral combined interstitial opacities\n",
      "2025-01-13 18:33:36,602 - \u001b[1;32mINFO\u001b[1;0m - 27778. large-bore central catheter terminates in the expected location of the right atrium\n",
      "2025-01-13 18:33:36,602 - \u001b[1;32mINFO\u001b[1;0m - 33333. Near resolution of bilateral ground-glass opacities, which likely represented pulmonary hemorrhage.\n",
      "2025-01-13 18:33:36,602 - \u001b[1;32mINFO\u001b[1;0m - 38889. reaccumulation of the large right-sided pleural effusion\n",
      "2025-01-13 18:33:36,602 - \u001b[1;32mINFO\u001b[1;0m - 44444. persistent small-to-moderate right pleural effusion\n",
      "2025-01-13 18:33:36,602 - \u001b[1;32mINFO\u001b[1;0m - 50000. The general appearance of the lung parenchyma with known parenchymal opacities and multiple monitoring and support devices has not changed.\n",
      "2025-01-13 18:33:36,757 - \u001b[1;32mINFO\u001b[1;0m - Saving batch API requests to /home/pamessina/medvqa-workspace/tmp/mimiccxr/openai/batch_api_requests_20250113_183336.jsonl\n",
      "2025-01-13 18:33:48,273 - \u001b[1;32mINFO\u001b[1;0m - HTTP Request: POST https://api.openai.com/v1/files \"HTTP/1.1 200 OK\"\n",
      "2025-01-13 18:33:48,275 - \u001b[1;32mINFO\u001b[1;0m - Creating batch with input file ID file-Jo6ZgNM44ckYBSz5HCWYm8\n",
      "2025-01-13 18:33:49,052 - \u001b[1;32mINFO\u001b[1;0m - HTTP Request: POST https://api.openai.com/v1/batches \"HTTP/1.1 200 OK\"\n",
      "2025-01-13 18:33:49,059 - \u001b[1;32mINFO\u001b[1;0m - Batch object: Batch(id='batch_678586bcb1f4819080cad25c76e64bc8', completion_window='24h', created_at=1736804028, endpoint='/v1/chat/completions', input_file_id='file-Jo6ZgNM44ckYBSz5HCWYm8', object='batch', status='validating', cancelled_at=None, cancelling_at=None, completed_at=None, error_file_id=None, errors=None, expired_at=None, expires_at=1736890428, failed_at=None, finalizing_at=None, in_progress_at=None, metadata={'description': 'sentence to negative facts'}, output_file_id=None, request_counts=BatchRequestCounts(completed=0, failed=0, total=0))\n",
      "2025-01-13 18:33:49,059 - \u001b[1;32mINFO\u001b[1;0m - Saving batch object to /home/pamessina/medvqa-workspace/tmp/mimiccxr/openai/batch_api/file-Jo6ZgNM44ckYBSz5HCWYm8.pkl\n",
      "2025-01-13 18:33:49,060 - \u001b[1;32mINFO\u001b[1;0m - Deleting batch API requests at /home/pamessina/medvqa-workspace/tmp/mimiccxr/openai/batch_api_requests_20250113_183336.jsonl\n"
     ]
    }
   ],
   "source": [
    "!python ../../scripts/mimiccxr/extract_negative_facts_from_report_sentences_with_openai.py \\\n",
    "--offset 150000 \\\n",
    "--num_samples 50000 \\\n",
    "--integrated_sentence_facts_jsonl_filepath \\\n",
    "\"/home/pamessina/medvqa-workspace/cache/mimiccxr/integrated_sentence_facts(59349684,50956825).jsonl\" \\\n",
    "--fact_embedding_model_name \"microsoft/BiomedVLP-CXR-BERT-specialized\" \\\n",
    "--fact_embedding_model_checkpoint_folder_path \\\n",
    "\"/mnt/data/pamessina/workspaces/medvqa-workspace/models/fact_embedding/20240629_084405_MIMIC-CXR(triplets+classif+entcont+nli+radgraph+autoencoder)_FactEncoder(microsoft-BiomedVLP-CXR-BERT-specialized)\" \\\n",
    "--fact_embedding_batch_size 200 \\\n",
    "--fact_embedding_num_workers 4 \\\n",
    "--max_requests_per_minute 20000 \\\n",
    "--max_tokens_per_minute 10000000 \\\n",
    "--max_tokens_per_request 350 \\\n",
    "--logging_level \"INFO\" \\\n",
    "--api_key_name \"OPENAI_API_KEY_1\" \\\n",
    "--openai_model_name \"gpt-4o-mini\" \\\n",
    "--use_batch_api \\\n",
    "--batch_description \"sentence to negative facts\""
   ]
  },
  {
   "cell_type": "code",
   "execution_count": 18,
   "id": "3a86be0d",
   "metadata": {
    "scrolled": true
   },
   "outputs": [
    {
     "name": "stdout",
     "output_type": "stream",
     "text": [
      "2025-01-14 10:21:13,778 - \u001b[1;32mINFO\u001b[1;0m - Checking status of batch with input file ID file-Jo6ZgNM44ckYBSz5HCWYm8\n",
      "2025-01-14 10:21:14,215 - \u001b[1;32mINFO\u001b[1;0m - Batch object: Batch(id='batch_678586bcb1f4819080cad25c76e64bc8', completion_window='24h', created_at=1736804028, endpoint='/v1/chat/completions', input_file_id='file-Jo6ZgNM44ckYBSz5HCWYm8', object='batch', status='validating', cancelled_at=None, cancelling_at=None, completed_at=None, error_file_id=None, errors=None, expired_at=None, expires_at=1736890428, failed_at=None, finalizing_at=None, in_progress_at=None, metadata={'description': 'sentence to negative facts'}, output_file_id=None, request_counts=BatchRequestCounts(completed=0, failed=0, total=0))\n",
      "2025-01-14 10:21:14,604 - \u001b[1;32mINFO\u001b[1;0m - HTTP Request: GET https://api.openai.com/v1/batches/batch_678586bcb1f4819080cad25c76e64bc8 \"HTTP/1.1 200 OK\"\n",
      "2025-01-14 10:21:14,612 - \u001b[1;32mINFO\u001b[1;0m - Batch: Batch(id='batch_678586bcb1f4819080cad25c76e64bc8', completion_window='24h', created_at=1736804028, endpoint='/v1/chat/completions', input_file_id='file-Jo6ZgNM44ckYBSz5HCWYm8', object='batch', status='completed', cancelled_at=None, cancelling_at=None, completed_at=1736833211, error_file_id=None, errors=None, expired_at=None, expires_at=1736890428, failed_at=None, finalizing_at=1736827603, in_progress_at=1736804043, metadata={'description': 'sentence to negative facts'}, output_file_id='file-EMvftgwPtUkwjTqznJqcXa', request_counts=BatchRequestCounts(completed=50000, failed=0, total=50000))\n",
      "2025-01-14 10:21:14,612 - \u001b[1;32mINFO\u001b[1;0m - Batch status: completed\n",
      "2025-01-14 10:21:14,612 - \u001b[1;32mINFO\u001b[1;0m - Batch with input file ID file-Jo6ZgNM44ckYBSz5HCWYm8 is completed\n",
      "2025-01-14 10:21:14,612 - \u001b[1;32mINFO\u001b[1;0m - Retrieving batch input file ID file-Jo6ZgNM44ckYBSz5HCWYm8\n",
      "2025-01-14 10:21:15,345 - \u001b[1;32mINFO\u001b[1;0m - HTTP Request: GET https://api.openai.com/v1/files/file-Jo6ZgNM44ckYBSz5HCWYm8/content \"HTTP/1.1 200 OK\"\n",
      "2025-01-14 10:21:20,947 - \u001b[1;32mINFO\u001b[1;0m - Retrieved metadata for 50000 queries\n",
      "2025-01-14 10:21:20,947 - \u001b[1;32mINFO\u001b[1;0m - Retrieving batch output file ID file-EMvftgwPtUkwjTqznJqcXa\n",
      "2025-01-14 10:21:21,972 - \u001b[1;32mINFO\u001b[1;0m - HTTP Request: GET https://api.openai.com/v1/files/file-EMvftgwPtUkwjTqznJqcXa/content \"HTTP/1.1 200 OK\"\n",
      "2025-01-14 10:21:26,811 - \u001b[1;31mERROR\u001b[1;0m - 217 error messages occurred while parsing responses\n",
      "2025-01-14 10:21:26,812 - \u001b[1;31mERROR\u001b[1;0m - Error parsing response {\"id\": \"batch_req_6785f34cd1908190bf41923e43f14b7c\", \"custom_id\": \"38120\", \"response\": {\"status_code\": 200, \"request_id\": \"7346acf0e309c149d862a8d3e2d71845\", \"body\": {\"id\": \"chatcmpl-ApQEsiUygppNCjW23ThsPpe0GifR8\", \"object\": \"chat.completion\", \"created\": 1736818954, \"model\": \"gpt-4o-mini-2024-07-18\", \"choices\": [{\"index\": 0, \"message\": {\"role\": \"assistant\", \"content\": \"{}\", \"refusal\": null}, \"logprobs\": null, \"finish_reason\": \"stop\"}], \"usage\": {\"prompt_tokens\": 374, \"completion_tokens\": 2, \"total_tokens\": 376, \"prompt_tokens_details\": {\"cached_tokens\": 0, \"audio_tokens\": 0}, \"completion_tokens_details\": {\"reasoning_tokens\": 0, \"audio_tokens\": 0, \"accepted_prediction_tokens\": 0, \"rejected_prediction_tokens\": 0}}, \"service_tier\": \"default\", \"system_fingerprint\": \"fp_72ed7ab54c\"}}, \"error\": null} for query \"4:48 AM.\": Could not parse output: {}\n",
      "2025-01-14 10:21:26,812 - \u001b[1;31mERROR\u001b[1;0m - Error parsing response {\"id\": \"batch_req_6785ebcb1e648190b8d3a17cedf57122\", \"custom_id\": \"20120\", \"response\": {\"status_code\": 200, \"request_id\": \"ed72cf9d32eda16fe3121763bc9e65d6\", \"body\": {\"id\": \"chatcmpl-ApPvxPIrFjsnz1sBToxci9Afopruc\", \"object\": \"chat.completion\", \"created\": 1736817781, \"model\": \"gpt-4o-mini-2024-07-18\", \"choices\": [{\"index\": 0, \"message\": {\"role\": \"assistant\", \"content\": \"{}\", \"refusal\": null}, \"logprobs\": null, \"finish_reason\": \"stop\"}], \"usage\": {\"prompt_tokens\": 374, \"completion_tokens\": 2, \"total_tokens\": 376, \"prompt_tokens_details\": {\"cached_tokens\": 0, \"audio_tokens\": 0}, \"completion_tokens_details\": {\"reasoning_tokens\": 0, \"audio_tokens\": 0, \"accepted_prediction_tokens\": 0, \"rejected_prediction_tokens\": 0}}, \"service_tier\": \"default\", \"system_fingerprint\": \"fp_72ed7ab54c\"}}, \"error\": null} for query \"12:43 AM.\": Could not parse output: {}\n",
      "2025-01-14 10:21:26,812 - \u001b[1;31mERROR\u001b[1;0m - Error parsing response {\"id\": \"batch_req_6785e80dd2788190a0925267e5011ece\", \"custom_id\": \"11720\", \"response\": {\"status_code\": 200, \"request_id\": \"04e614d191ddee653774ea8f304c55dc\", \"body\": {\"id\": \"chatcmpl-ApPhC4oHfgZcSXuUs4p0xCvTyKFHV\", \"object\": \"chat.completion\", \"created\": 1736816866, \"model\": \"gpt-4o-mini-2024-07-18\", \"choices\": [{\"index\": 0, \"message\": {\"role\": \"assistant\", \"content\": \"{}\", \"refusal\": null}, \"logprobs\": null, \"finish_reason\": \"stop\"}], \"usage\": {\"prompt_tokens\": 381, \"completion_tokens\": 2, \"total_tokens\": 383, \"prompt_tokens_details\": {\"cached_tokens\": 0, \"audio_tokens\": 0}, \"completion_tokens_details\": {\"reasoning_tokens\": 0, \"audio_tokens\": 0, \"accepted_prediction_tokens\": 0, \"rejected_prediction_tokens\": 0}}, \"service_tier\": \"default\", \"system_fingerprint\": \"fp_72ed7ab54c\"}}, \"error\": null} for query \"WET READ VERSION #1 2:59 PM.\": Could not parse output: {}\n",
      "2025-01-14 10:21:26,812 - \u001b[1;31mERROR\u001b[1;0m - Error parsing response {\"id\": \"batch_req_6785f7db5a288190be98908ba2cac514\", \"custom_id\": \"48020\", \"response\": {\"status_code\": 200, \"request_id\": \"dc21a79b28b9a2684bac4588b021b2ca\", \"body\": {\"id\": \"chatcmpl-ApQOv01RV6O4vCRTUUvAmISGPVqfo\", \"object\": \"chat.completion\", \"created\": 1736819577, \"model\": \"gpt-4o-mini-2024-07-18\", \"choices\": [{\"index\": 0, \"message\": {\"role\": \"assistant\", \"content\": \"{}\", \"refusal\": null}, \"logprobs\": null, \"finish_reason\": \"stop\"}], \"usage\": {\"prompt_tokens\": 382, \"completion_tokens\": 2, \"total_tokens\": 384, \"prompt_tokens_details\": {\"cached_tokens\": 0, \"audio_tokens\": 0}, \"completion_tokens_details\": {\"reasoning_tokens\": 0, \"audio_tokens\": 0, \"accepted_prediction_tokens\": 0, \"rejected_prediction_tokens\": 0}}, \"service_tier\": \"default\", \"system_fingerprint\": \"fp_72ed7ab54c\"}}, \"error\": null} for query \"WET READ VERSION # 12:39 AM 1.\": Could not parse output: {}\n",
      "2025-01-14 10:21:26,812 - \u001b[1;31mERROR\u001b[1;0m - Error parsing response {\"id\": \"batch_req_6785eef10e2881909b9226b26acd8723\", \"custom_id\": \"27658\", \"response\": {\"status_code\": 200, \"request_id\": \"bb204d0bf55042ee51b8cf7b85c4361c\", \"body\": {\"id\": \"chatcmpl-ApQ3g1gzuyvRGNJD3TnKf6XHZ7i61\", \"object\": \"chat.completion\", \"created\": 1736818260, \"model\": \"gpt-4o-mini-2024-07-18\", \"choices\": [{\"index\": 0, \"message\": {\"role\": \"assistant\", \"content\": \"```json\\n{}\\n```\", \"refusal\": null}, \"logprobs\": null, \"finish_reason\": \"stop\"}], \"usage\": {\"prompt_tokens\": 375, \"completion_tokens\": 6, \"total_tokens\": 381, \"prompt_tokens_details\": {\"cached_tokens\": 0, \"audio_tokens\": 0}, \"completion_tokens_details\": {\"reasoning_tokens\": 0, \"audio_tokens\": 0, \"accepted_prediction_tokens\": 0, \"rejected_prediction_tokens\": 0}}, \"service_tier\": \"default\", \"system_fingerprint\": \"fp_72ed7ab54c\"}}, \"error\": null} for query \"suggestion for more optimized technique\": Could not parse output: ```json\n",
      "{}\n",
      "```\n",
      "2025-01-14 10:21:26,812 - \u001b[1;32mINFO\u001b[1;0m - Succesfully processed 49783 of 50000 API responses.\n",
      "                                    217 of 50000 API responses could not be processed.\n",
      "                                    Saving processed texts to /mnt/data/pamessina_folder_backup_15_10_24/pamessina/medvqa-workspace/cache/mimiccxr/openai/gpt-4o-mini_sentence_to_negative_facts.jsonl\n"
     ]
    }
   ],
   "source": [
    "!python ../../scripts/mimiccxr/extract_negative_facts_from_report_sentences_with_openai.py \\\n",
    "--batch_input_file_id \"file-Jo6ZgNM44ckYBSz5HCWYm8\" \\\n",
    "--logging_level \"INFO\" \\\n",
    "--api_key_name \"OPENAI_API_KEY_1\" \\\n",
    "--openai_model_name \"gpt-4o-mini\" \\\n",
    "--use_batch_api"
   ]
  },
  {
   "cell_type": "code",
   "execution_count": 10,
   "id": "efd0316d",
   "metadata": {
    "scrolled": true
   },
   "outputs": [
    {
     "name": "stdout",
     "output_type": "stream",
     "text": [
      "2025-01-13 18:34:01,260 - \u001b[1;32mINFO\u001b[1;0m - Total number of unique sentences: 1269593\n",
      "2025-01-13 18:34:01,563 - \u001b[1;32mINFO\u001b[1;0m - Loading cached sorted sentences from /mnt/data/pamessina_folder_backup_15_10_24/pamessina/medvqa-workspace/cache/sorted_sentences(1269593,86367250).pkl...\n",
      "2025-01-13 18:34:01,744 - \u001b[1;32mINFO\u001b[1;0m - Done loading cached sorted sentences.\n",
      "2025-01-13 18:34:01,744 - \u001b[1;32mINFO\u001b[1;0m - First sentence: l CP ANGLE OBSCURED BUT PT HAD SIMILAR APPEARANCE ON SCOUTS FOR PRIOR CT L-SPINE AT WHICH POINT NO PLEURAL EFFUSION WAS EVIDENT- THUS THIS MAY REPRESENT A PERICARDIAL FAT PAD- THOUGH CANNOT DEFINITIVELY RULE OUT LAYERING LEFT EFFUSION.\n",
      "2025-01-13 18:34:01,744 - \u001b[1;32mINFO\u001b[1;0m - Last sentence: .\n",
      "checkpoint_names = ['checkpoint_196_cacc+chf1+chf1+cscc+encc+hscc+nlcc+sass+spss+ta0)+ta1)+ta2)+ta0)+ta1)+ta2)+ta3)+ta4)+ta5)+ta6)+ta7)=0.9189.pt']\n",
      "Loading cached text embeddings from /mnt/data/pamessina_folder_backup_15_10_24/pamessina/medvqa-workspace/cache/text_embeddings_cache(hash=469,680486110513564934).pkl\n",
      "len(self.cache[\"hashes\"]) = 1554202\n",
      "self.cache[\"embeddings\"].shape = (1554202, 128)\n",
      "Loading cached kmeans labels from /mnt/data/pamessina_folder_backup_15_10_24/pamessina/medvqa-workspace/cache/kmeans_labels(86367423,552958962134983816).pkl\n",
      "2025-01-13 18:34:12,417 - \u001b[1;32mINFO\u001b[1;0m - Total number of queries to process: 50000\n",
      "2025-01-13 18:34:12,417 - \u001b[1;32mINFO\u001b[1;0m - Example queries to process:\n",
      "2025-01-13 18:34:12,417 - \u001b[1;32mINFO\u001b[1;0m - 1. Mild edema or a developing region of consolidation is new at the right lung base since and should be carefully monitored.\n",
      "2025-01-13 18:34:12,417 - \u001b[1;32mINFO\u001b[1;0m - 5556. As compared to the previous radiograph, the previously malpositioned left PICC line is now correctly positioned.\n",
      "2025-01-13 18:34:12,417 - \u001b[1;32mINFO\u001b[1;0m - 11111. There is some blunting of the left posterior costophrenic angle, which could be due to atelectasis or small effusion versus small Bochdalek hernia.\n",
      "2025-01-13 18:34:12,417 - \u001b[1;32mINFO\u001b[1;0m - 16667. Emphysematous changes are re- demonstrated as well as hyperinflation of the lungs, and scarring within the left upper lobe is similar compared to the prior exam.\n",
      "2025-01-13 18:34:12,417 - \u001b[1;32mINFO\u001b[1;0m - 22222. In the retrocardiac area on the lateral image, there is increased opacity, which could represent atelectasis, or possibly pneumonia or sickle lung in the right clinical setting.\n",
      "2025-01-13 18:34:12,417 - \u001b[1;32mINFO\u001b[1;0m - 27778. clinical setting of neutropenic fever\n",
      "2025-01-13 18:34:12,418 - \u001b[1;32mINFO\u001b[1;0m - 33333. The questioned increased opacification at the right base is less prominent than on the earlier study.\n",
      "2025-01-13 18:34:12,418 - \u001b[1;32mINFO\u001b[1;0m - 38889. right-sided Port-A-Cath system in the mid portion of the SVC\n",
      "2025-01-13 18:34:12,418 - \u001b[1;32mINFO\u001b[1;0m - 44444. deformities in the 10th ribs\n",
      "2025-01-13 18:34:12,418 - \u001b[1;32mINFO\u001b[1;0m - 50000. location of previously described opacities not provided\n",
      "2025-01-13 18:34:12,569 - \u001b[1;32mINFO\u001b[1;0m - Saving batch API requests to /home/pamessina/medvqa-workspace/tmp/mimiccxr/openai/batch_api_requests_20250113_183412.jsonl\n",
      "2025-01-13 18:34:24,191 - \u001b[1;32mINFO\u001b[1;0m - HTTP Request: POST https://api.openai.com/v1/files \"HTTP/1.1 200 OK\"\n",
      "2025-01-13 18:34:24,193 - \u001b[1;32mINFO\u001b[1;0m - Creating batch with input file ID file-L6b2nzes5YxVi77JugQdhv\n",
      "2025-01-13 18:34:24,660 - \u001b[1;32mINFO\u001b[1;0m - HTTP Request: POST https://api.openai.com/v1/batches \"HTTP/1.1 200 OK\"\n",
      "2025-01-13 18:34:24,667 - \u001b[1;32mINFO\u001b[1;0m - Batch object: Batch(id='batch_678586e069d881909a72ddff19b5e8bb', completion_window='24h', created_at=1736804064, endpoint='/v1/chat/completions', input_file_id='file-L6b2nzes5YxVi77JugQdhv', object='batch', status='validating', cancelled_at=None, cancelling_at=None, completed_at=None, error_file_id=None, errors=None, expired_at=None, expires_at=1736890464, failed_at=None, finalizing_at=None, in_progress_at=None, metadata={'description': 'sentence to negative facts'}, output_file_id=None, request_counts=BatchRequestCounts(completed=0, failed=0, total=0))\n",
      "2025-01-13 18:34:24,667 - \u001b[1;32mINFO\u001b[1;0m - Saving batch object to /home/pamessina/medvqa-workspace/tmp/mimiccxr/openai/batch_api/file-L6b2nzes5YxVi77JugQdhv.pkl\n",
      "2025-01-13 18:34:24,667 - \u001b[1;32mINFO\u001b[1;0m - Deleting batch API requests at /home/pamessina/medvqa-workspace/tmp/mimiccxr/openai/batch_api_requests_20250113_183412.jsonl\n"
     ]
    }
   ],
   "source": [
    "!python ../../scripts/mimiccxr/extract_negative_facts_from_report_sentences_with_openai.py \\\n",
    "--offset 200000 \\\n",
    "--num_samples 50000 \\\n",
    "--integrated_sentence_facts_jsonl_filepath \\\n",
    "\"/home/pamessina/medvqa-workspace/cache/mimiccxr/integrated_sentence_facts(59349684,50956825).jsonl\" \\\n",
    "--fact_embedding_model_name \"microsoft/BiomedVLP-CXR-BERT-specialized\" \\\n",
    "--fact_embedding_model_checkpoint_folder_path \\\n",
    "\"/mnt/data/pamessina/workspaces/medvqa-workspace/models/fact_embedding/20240629_084405_MIMIC-CXR(triplets+classif+entcont+nli+radgraph+autoencoder)_FactEncoder(microsoft-BiomedVLP-CXR-BERT-specialized)\" \\\n",
    "--fact_embedding_batch_size 200 \\\n",
    "--fact_embedding_num_workers 4 \\\n",
    "--max_requests_per_minute 20000 \\\n",
    "--max_tokens_per_minute 10000000 \\\n",
    "--max_tokens_per_request 350 \\\n",
    "--logging_level \"INFO\" \\\n",
    "--api_key_name \"OPENAI_API_KEY_1\" \\\n",
    "--openai_model_name \"gpt-4o-mini\" \\\n",
    "--use_batch_api \\\n",
    "--batch_description \"sentence to negative facts\""
   ]
  },
  {
   "cell_type": "code",
   "execution_count": 67,
   "id": "e6af99d8",
   "metadata": {
    "scrolled": true
   },
   "outputs": [
    {
     "name": "stdout",
     "output_type": "stream",
     "text": [
      "2025-01-14 18:41:51,781 - \u001b[1;32mINFO\u001b[1;0m - Checking status of batch with input file ID file-L6b2nzes5YxVi77JugQdhv\n",
      "2025-01-14 18:41:52,296 - \u001b[1;32mINFO\u001b[1;0m - Batch object: Batch(id='batch_678586e069d881909a72ddff19b5e8bb', completion_window='24h', created_at=1736804064, endpoint='/v1/chat/completions', input_file_id='file-L6b2nzes5YxVi77JugQdhv', object='batch', status='validating', cancelled_at=None, cancelling_at=None, completed_at=None, error_file_id=None, errors=None, expired_at=None, expires_at=1736890464, failed_at=None, finalizing_at=None, in_progress_at=None, metadata={'description': 'sentence to negative facts'}, output_file_id=None, request_counts=BatchRequestCounts(completed=0, failed=0, total=0))\n",
      "2025-01-14 18:41:53,098 - \u001b[1;32mINFO\u001b[1;0m - HTTP Request: GET https://api.openai.com/v1/batches/batch_678586e069d881909a72ddff19b5e8bb \"HTTP/1.1 200 OK\"\n",
      "2025-01-14 18:41:53,106 - \u001b[1;32mINFO\u001b[1;0m - Batch: Batch(id='batch_678586e069d881909a72ddff19b5e8bb', completion_window='24h', created_at=1736804064, endpoint='/v1/chat/completions', input_file_id='file-L6b2nzes5YxVi77JugQdhv', object='batch', status='cancelled', cancelled_at=1736890709, cancelling_at=1736881657, completed_at=None, error_file_id='file-Bos6tdZHny1QaGUWb6FESu', errors=None, expired_at=None, expires_at=1736890464, failed_at=None, finalizing_at=None, in_progress_at=1736804077, metadata={'description': 'sentence to negative facts'}, output_file_id='file-UaCtJbmCH4XpfZok8PSNVX', request_counts=BatchRequestCounts(completed=49996, failed=0, total=50000))\n",
      "2025-01-14 18:41:53,106 - \u001b[1;32mINFO\u001b[1;0m - Batch status: cancelled\n",
      "2025-01-14 18:41:53,106 - \u001b[1;32mINFO\u001b[1;0m - Batch with input file ID file-L6b2nzes5YxVi77JugQdhv is cancelled\n",
      "2025-01-14 18:41:53,106 - \u001b[1;32mINFO\u001b[1;0m - Retrieving batch input file ID file-L6b2nzes5YxVi77JugQdhv\n",
      "2025-01-14 18:41:53,922 - \u001b[1;32mINFO\u001b[1;0m - HTTP Request: GET https://api.openai.com/v1/files/file-L6b2nzes5YxVi77JugQdhv/content \"HTTP/1.1 200 OK\"\n",
      "2025-01-14 18:41:59,648 - \u001b[1;32mINFO\u001b[1;0m - Retrieved metadata for 50000 queries\n",
      "2025-01-14 18:41:59,648 - \u001b[1;32mINFO\u001b[1;0m - Retrieving batch output file ID file-UaCtJbmCH4XpfZok8PSNVX\n",
      "2025-01-14 18:42:00,326 - \u001b[1;32mINFO\u001b[1;0m - HTTP Request: GET https://api.openai.com/v1/files/file-UaCtJbmCH4XpfZok8PSNVX/content \"HTTP/1.1 200 OK\"\n",
      "2025-01-14 18:42:05,055 - \u001b[1;31mERROR\u001b[1;0m - 182 error messages occurred while parsing responses\n",
      "2025-01-14 18:42:05,055 - \u001b[1;31mERROR\u001b[1;0m - Error parsing response {\"id\": \"batch_req_6786c64f2be8819086f6a73ffef43949\", \"custom_id\": \"20820\", \"response\": {\"status_code\": 200, \"request_id\": \"ea21916c492c65137cd579a51cad2932\", \"body\": {\"id\": \"chatcmpl-ApUN5Jej9iqMXreqUfq1k5Lu4XXBL\", \"object\": \"chat.completion\", \"created\": 1736834839, \"model\": \"gpt-4o-mini-2024-07-18\", \"choices\": [{\"index\": 0, \"message\": {\"role\": \"assistant\", \"content\": \"{}\", \"refusal\": null}, \"logprobs\": null, \"finish_reason\": \"stop\"}], \"usage\": {\"prompt_tokens\": 374, \"completion_tokens\": 2, \"total_tokens\": 376, \"prompt_tokens_details\": {\"cached_tokens\": 0, \"audio_tokens\": 0}, \"completion_tokens_details\": {\"reasoning_tokens\": 0, \"audio_tokens\": 0, \"accepted_prediction_tokens\": 0, \"rejected_prediction_tokens\": 0}}, \"service_tier\": \"default\", \"system_fingerprint\": \"fp_bd83329f63\"}}, \"error\": null} for query \"5:24 AM.\": Could not parse output: {}\n",
      "2025-01-14 18:42:05,055 - \u001b[1;31mERROR\u001b[1;0m - Error parsing response {\"id\": \"batch_req_6786bbeae6d881909865eb3a973849f3\", \"custom_id\": \"5220\", \"response\": {\"status_code\": 200, \"request_id\": \"7e97dd823e1eb9fa00a4f04a5eeb9dd7\", \"body\": {\"id\": \"chatcmpl-ApTvspiVt2Xej6JcE6J8wfcC52odi\", \"object\": \"chat.completion\", \"created\": 1736833152, \"model\": \"gpt-4o-mini-2024-07-18\", \"choices\": [{\"index\": 0, \"message\": {\"role\": \"assistant\", \"content\": \"{}\", \"refusal\": null}, \"logprobs\": null, \"finish_reason\": \"stop\"}], \"usage\": {\"prompt_tokens\": 376, \"completion_tokens\": 2, \"total_tokens\": 378, \"prompt_tokens_details\": {\"cached_tokens\": 0, \"audio_tokens\": 0}, \"completion_tokens_details\": {\"reasoning_tokens\": 0, \"audio_tokens\": 0, \"accepted_prediction_tokens\": 0, \"rejected_prediction_tokens\": 0}}, \"service_tier\": \"default\", \"system_fingerprint\": \"fp_72ed7ab54c\"}}, \"error\": null} for query \"12:38 PM 1.\": Could not parse output: {}\n",
      "2025-01-14 18:42:05,055 - \u001b[1;31mERROR\u001b[1;0m - Error parsing response {\"id\": \"batch_req_6786d387654481908ff6d5c2cf6cc4e3\", \"custom_id\": \"41152\", \"response\": {\"status_code\": 200, \"request_id\": \"4e32552e5b0f2243e22da8ad3457fd8e\", \"body\": {\"id\": \"chatcmpl-ApUljGE05W7uHJ3PgOXhmsWUhh6tN\", \"object\": \"chat.completion\", \"created\": 1736836367, \"model\": \"gpt-4o-mini-2024-07-18\", \"choices\": [{\"index\": 0, \"message\": {\"role\": \"assistant\", \"content\": \"{}\", \"refusal\": null}, \"logprobs\": null, \"finish_reason\": \"stop\"}], \"usage\": {\"prompt_tokens\": 376, \"completion_tokens\": 2, \"total_tokens\": 378, \"prompt_tokens_details\": {\"cached_tokens\": 0, \"audio_tokens\": 0}, \"completion_tokens_details\": {\"reasoning_tokens\": 0, \"audio_tokens\": 0, \"accepted_prediction_tokens\": 0, \"rejected_prediction_tokens\": 0}}, \"service_tier\": \"default\", \"system_fingerprint\": \"fp_72ed7ab54c\"}}, \"error\": null} for query \"Comparison to 17:11.\": Could not parse output: {}\n",
      "2025-01-14 18:42:05,055 - \u001b[1;31mERROR\u001b[1;0m - Error parsing response {\"id\": \"batch_req_6786c3e470b881909584c8ed70e2ef96\", \"custom_id\": \"17220\", \"response\": {\"status_code\": 200, \"request_id\": \"2b42e89a71d79a1a9b068f2ba850ad6b\", \"body\": {\"id\": \"chatcmpl-ApUGYhGAirjUS8CIbBHRa7TVz6DmR\", \"object\": \"chat.completion\", \"created\": 1736834434, \"model\": \"gpt-4o-mini-2024-07-18\", \"choices\": [{\"index\": 0, \"message\": {\"role\": \"assistant\", \"content\": \"{}\", \"refusal\": null}, \"logprobs\": null, \"finish_reason\": \"stop\"}], \"usage\": {\"prompt_tokens\": 376, \"completion_tokens\": 1, \"total_tokens\": 377, \"prompt_tokens_details\": {\"cached_tokens\": 0, \"audio_tokens\": 0}, \"completion_tokens_details\": {\"reasoning_tokens\": 0, \"audio_tokens\": 0, \"accepted_prediction_tokens\": 0, \"rejected_prediction_tokens\": 0}}, \"service_tier\": \"default\", \"system_fingerprint\": \"fp_72ed7ab54c\"}}, \"error\": null} for query \"12:33 PM 1.\": Could not parse output: {}\n",
      "2025-01-14 18:42:05,055 - \u001b[1;31mERROR\u001b[1;0m - Error parsing response {\"id\": \"batch_req_6786cc16cda48190841703b860a339e6\", \"custom_id\": \"29820\", \"response\": {\"status_code\": 200, \"request_id\": \"f7490be4e1b40bafab15bff860b63039\", \"body\": {\"id\": \"chatcmpl-ApUXbUY6YgmfYwmJBPYA3HwqpNIoM\", \"object\": \"chat.completion\", \"created\": 1736835491, \"model\": \"gpt-4o-mini-2024-07-18\", \"choices\": [{\"index\": 0, \"message\": {\"role\": \"assistant\", \"content\": \"{}\", \"refusal\": null}, \"logprobs\": null, \"finish_reason\": \"stop\"}], \"usage\": {\"prompt_tokens\": 376, \"completion_tokens\": 2, \"total_tokens\": 378, \"prompt_tokens_details\": {\"cached_tokens\": 0, \"audio_tokens\": 0}, \"completion_tokens_details\": {\"reasoning_tokens\": 0, \"audio_tokens\": 0, \"accepted_prediction_tokens\": 0, \"rejected_prediction_tokens\": 0}}, \"service_tier\": \"default\", \"system_fingerprint\": \"fp_72ed7ab54c\"}}, \"error\": null} for query \"2:50 AM 1.\": Could not parse output: {}\n",
      "2025-01-14 18:42:05,055 - \u001b[1;32mINFO\u001b[1;0m - Succesfully processed 49814 of 49996 API responses.\n",
      "                                    182 of 49996 API responses could not be processed.\n",
      "                                    Saving processed texts to /mnt/data/pamessina_folder_backup_15_10_24/pamessina/medvqa-workspace/cache/mimiccxr/openai/gpt-4o-mini_sentence_to_negative_facts.jsonl\n"
     ]
    }
   ],
   "source": [
    "!python ../../scripts/mimiccxr/extract_negative_facts_from_report_sentences_with_openai.py \\\n",
    "--batch_input_file_id \"file-L6b2nzes5YxVi77JugQdhv\" \\\n",
    "--logging_level \"INFO\" \\\n",
    "--api_key_name \"OPENAI_API_KEY_1\" \\\n",
    "--openai_model_name \"gpt-4o-mini\" \\\n",
    "--use_batch_api"
   ]
  },
  {
   "cell_type": "code",
   "execution_count": 11,
   "id": "9a37a552",
   "metadata": {
    "scrolled": true
   },
   "outputs": [
    {
     "name": "stdout",
     "output_type": "stream",
     "text": [
      "2025-01-13 18:34:36,686 - \u001b[1;32mINFO\u001b[1;0m - Total number of unique sentences: 1269593\n",
      "2025-01-13 18:34:36,984 - \u001b[1;32mINFO\u001b[1;0m - Loading cached sorted sentences from /mnt/data/pamessina_folder_backup_15_10_24/pamessina/medvqa-workspace/cache/sorted_sentences(1269593,86367250).pkl...\n",
      "2025-01-13 18:34:37,165 - \u001b[1;32mINFO\u001b[1;0m - Done loading cached sorted sentences.\n",
      "2025-01-13 18:34:37,166 - \u001b[1;32mINFO\u001b[1;0m - First sentence: l CP ANGLE OBSCURED BUT PT HAD SIMILAR APPEARANCE ON SCOUTS FOR PRIOR CT L-SPINE AT WHICH POINT NO PLEURAL EFFUSION WAS EVIDENT- THUS THIS MAY REPRESENT A PERICARDIAL FAT PAD- THOUGH CANNOT DEFINITIVELY RULE OUT LAYERING LEFT EFFUSION.\n",
      "2025-01-13 18:34:37,166 - \u001b[1;32mINFO\u001b[1;0m - Last sentence: .\n",
      "checkpoint_names = ['checkpoint_196_cacc+chf1+chf1+cscc+encc+hscc+nlcc+sass+spss+ta0)+ta1)+ta2)+ta0)+ta1)+ta2)+ta3)+ta4)+ta5)+ta6)+ta7)=0.9189.pt']\n",
      "Loading cached text embeddings from /mnt/data/pamessina_folder_backup_15_10_24/pamessina/medvqa-workspace/cache/text_embeddings_cache(hash=469,680486110513564934).pkl\n",
      "len(self.cache[\"hashes\"]) = 1554202\n",
      "self.cache[\"embeddings\"].shape = (1554202, 128)\n",
      "Loading cached kmeans labels from /mnt/data/pamessina_folder_backup_15_10_24/pamessina/medvqa-workspace/cache/kmeans_labels(86367423,552958962134983816).pkl\n",
      "2025-01-13 18:34:47,848 - \u001b[1;32mINFO\u001b[1;0m - Total number of queries to process: 50000\n",
      "2025-01-13 18:34:47,848 - \u001b[1;32mINFO\u001b[1;0m - Example queries to process:\n",
      "2025-01-13 18:34:47,848 - \u001b[1;32mINFO\u001b[1;0m - 1. new slight blunting of each costophrenic sulcus\n",
      "2025-01-13 18:34:47,848 - \u001b[1;32mINFO\u001b[1;0m - 5556. 9:57 PM Opacity suggesting pneumonia in the lingula.\n",
      "2025-01-13 18:34:47,848 - \u001b[1;32mINFO\u001b[1;0m - 11111. known esophageal leak in the right lower lobe\n",
      "2025-01-13 18:34:47,849 - \u001b[1;32mINFO\u001b[1;0m - 16667. Generalized hyperinflation is due to obstructive airways disease.\n",
      "2025-01-13 18:34:47,849 - \u001b[1;32mINFO\u001b[1;0m - 22222. It would need to be advanced 10 cm to move all the side ports into the stomach.\n",
      "2025-01-13 18:34:47,849 - \u001b[1;32mINFO\u001b[1;0m - 27778. Moderate bilateral pleural effusions increased since :00.\n",
      "2025-01-13 18:34:47,849 - \u001b[1;32mINFO\u001b[1;0m - 33333. Nasogastric drainage tube ends at the gastroesophageal junction would need to be advanced 10 cm to move all the side ports below the diaphragm.\n",
      "2025-01-13 18:34:47,849 - \u001b[1;32mINFO\u001b[1;0m - 38889. Elsewhere the lungs are clear of consolidation.\n",
      "2025-01-13 18:34:47,849 - \u001b[1;32mINFO\u001b[1;0m - 44444. bibasilar bronchiectatic changes\n",
      "2025-01-13 18:34:47,849 - \u001b[1;32mINFO\u001b[1;0m - 50000. no prevertebral soft tissue edema\n",
      "2025-01-13 18:34:48,006 - \u001b[1;32mINFO\u001b[1;0m - Saving batch API requests to /home/pamessina/medvqa-workspace/tmp/mimiccxr/openai/batch_api_requests_20250113_183448.jsonl\n",
      "2025-01-13 18:35:00,433 - \u001b[1;32mINFO\u001b[1;0m - HTTP Request: POST https://api.openai.com/v1/files \"HTTP/1.1 200 OK\"\n",
      "2025-01-13 18:35:00,435 - \u001b[1;32mINFO\u001b[1;0m - Creating batch with input file ID file-XckYHPzy5p7BALNAeBJi7H\n",
      "2025-01-13 18:35:01,185 - \u001b[1;32mINFO\u001b[1;0m - HTTP Request: POST https://api.openai.com/v1/batches \"HTTP/1.1 200 OK\"\n",
      "2025-01-13 18:35:01,192 - \u001b[1;32mINFO\u001b[1;0m - Batch object: Batch(id='batch_67858704e4588190b5494657e609ddcd', completion_window='24h', created_at=1736804101, endpoint='/v1/chat/completions', input_file_id='file-XckYHPzy5p7BALNAeBJi7H', object='batch', status='validating', cancelled_at=None, cancelling_at=None, completed_at=None, error_file_id=None, errors=None, expired_at=None, expires_at=1736890501, failed_at=None, finalizing_at=None, in_progress_at=None, metadata={'description': 'sentence to negative facts'}, output_file_id=None, request_counts=BatchRequestCounts(completed=0, failed=0, total=0))\n",
      "2025-01-13 18:35:01,193 - \u001b[1;32mINFO\u001b[1;0m - Saving batch object to /home/pamessina/medvqa-workspace/tmp/mimiccxr/openai/batch_api/file-XckYHPzy5p7BALNAeBJi7H.pkl\n",
      "2025-01-13 18:35:01,193 - \u001b[1;32mINFO\u001b[1;0m - Deleting batch API requests at /home/pamessina/medvqa-workspace/tmp/mimiccxr/openai/batch_api_requests_20250113_183448.jsonl\n"
     ]
    }
   ],
   "source": [
    "!python ../../scripts/mimiccxr/extract_negative_facts_from_report_sentences_with_openai.py \\\n",
    "--offset 250000 \\\n",
    "--num_samples 50000 \\\n",
    "--integrated_sentence_facts_jsonl_filepath \\\n",
    "\"/home/pamessina/medvqa-workspace/cache/mimiccxr/integrated_sentence_facts(59349684,50956825).jsonl\" \\\n",
    "--fact_embedding_model_name \"microsoft/BiomedVLP-CXR-BERT-specialized\" \\\n",
    "--fact_embedding_model_checkpoint_folder_path \\\n",
    "\"/mnt/data/pamessina/workspaces/medvqa-workspace/models/fact_embedding/20240629_084405_MIMIC-CXR(triplets+classif+entcont+nli+radgraph+autoencoder)_FactEncoder(microsoft-BiomedVLP-CXR-BERT-specialized)\" \\\n",
    "--fact_embedding_batch_size 200 \\\n",
    "--fact_embedding_num_workers 4 \\\n",
    "--max_requests_per_minute 20000 \\\n",
    "--max_tokens_per_minute 10000000 \\\n",
    "--max_tokens_per_request 350 \\\n",
    "--logging_level \"INFO\" \\\n",
    "--api_key_name \"OPENAI_API_KEY_1\" \\\n",
    "--openai_model_name \"gpt-4o-mini\" \\\n",
    "--use_batch_api \\\n",
    "--batch_description \"sentence to negative facts\""
   ]
  },
  {
   "cell_type": "code",
   "execution_count": 20,
   "id": "04ae968a",
   "metadata": {
    "scrolled": true
   },
   "outputs": [
    {
     "name": "stdout",
     "output_type": "stream",
     "text": [
      "2025-01-14 10:22:57,353 - \u001b[1;32mINFO\u001b[1;0m - Checking status of batch with input file ID file-XckYHPzy5p7BALNAeBJi7H\n",
      "2025-01-14 10:22:57,793 - \u001b[1;32mINFO\u001b[1;0m - Batch object: Batch(id='batch_67858704e4588190b5494657e609ddcd', completion_window='24h', created_at=1736804101, endpoint='/v1/chat/completions', input_file_id='file-XckYHPzy5p7BALNAeBJi7H', object='batch', status='validating', cancelled_at=None, cancelling_at=None, completed_at=None, error_file_id=None, errors=None, expired_at=None, expires_at=1736890501, failed_at=None, finalizing_at=None, in_progress_at=None, metadata={'description': 'sentence to negative facts'}, output_file_id=None, request_counts=BatchRequestCounts(completed=0, failed=0, total=0))\n",
      "2025-01-14 10:22:59,203 - \u001b[1;32mINFO\u001b[1;0m - HTTP Request: GET https://api.openai.com/v1/batches/batch_67858704e4588190b5494657e609ddcd \"HTTP/1.1 200 OK\"\n",
      "2025-01-14 10:22:59,211 - \u001b[1;32mINFO\u001b[1;0m - Batch: Batch(id='batch_67858704e4588190b5494657e609ddcd', completion_window='24h', created_at=1736804101, endpoint='/v1/chat/completions', input_file_id='file-XckYHPzy5p7BALNAeBJi7H', object='batch', status='completed', cancelled_at=None, cancelling_at=None, completed_at=1736831246, error_file_id=None, errors=None, expired_at=None, expires_at=1736890501, failed_at=None, finalizing_at=1736825599, in_progress_at=1736804115, metadata={'description': 'sentence to negative facts'}, output_file_id='file-6Zr4mE7YJqLfoxRAimbBGg', request_counts=BatchRequestCounts(completed=50000, failed=0, total=50000))\n",
      "2025-01-14 10:22:59,211 - \u001b[1;32mINFO\u001b[1;0m - Batch status: completed\n",
      "2025-01-14 10:22:59,211 - \u001b[1;32mINFO\u001b[1;0m - Batch with input file ID file-XckYHPzy5p7BALNAeBJi7H is completed\n",
      "2025-01-14 10:22:59,211 - \u001b[1;32mINFO\u001b[1;0m - Retrieving batch input file ID file-XckYHPzy5p7BALNAeBJi7H\n",
      "2025-01-14 10:22:59,892 - \u001b[1;32mINFO\u001b[1;0m - HTTP Request: GET https://api.openai.com/v1/files/file-XckYHPzy5p7BALNAeBJi7H/content \"HTTP/1.1 200 OK\"\n",
      "2025-01-14 10:23:05,336 - \u001b[1;32mINFO\u001b[1;0m - Retrieved metadata for 50000 queries\n",
      "2025-01-14 10:23:05,336 - \u001b[1;32mINFO\u001b[1;0m - Retrieving batch output file ID file-6Zr4mE7YJqLfoxRAimbBGg\n",
      "2025-01-14 10:23:06,378 - \u001b[1;32mINFO\u001b[1;0m - HTTP Request: GET https://api.openai.com/v1/files/file-6Zr4mE7YJqLfoxRAimbBGg/content \"HTTP/1.1 200 OK\"\n",
      "2025-01-14 10:23:11,489 - \u001b[1;31mERROR\u001b[1;0m - 164 error messages occurred while parsing responses\n",
      "2025-01-14 10:23:11,489 - \u001b[1;31mERROR\u001b[1;0m - Error parsing response {\"id\": \"batch_req_6785ea572a4c8190b64ea57b426518b8\", \"custom_id\": \"34120\", \"response\": {\"status_code\": 200, \"request_id\": \"eecda66731a10410e8e47c0a7b4f18e6\", \"body\": {\"id\": \"chatcmpl-ApQDFaozcqmLK7lk7xP7rDzVk0y06\", \"object\": \"chat.completion\", \"created\": 1736818853, \"model\": \"gpt-4o-mini-2024-07-18\", \"choices\": [{\"index\": 0, \"message\": {\"role\": \"assistant\", \"content\": \"{}\", \"refusal\": null}, \"logprobs\": null, \"finish_reason\": \"stop\"}], \"usage\": {\"prompt_tokens\": 374, \"completion_tokens\": 1, \"total_tokens\": 375, \"prompt_tokens_details\": {\"cached_tokens\": 0, \"audio_tokens\": 0}, \"completion_tokens_details\": {\"reasoning_tokens\": 0, \"audio_tokens\": 0, \"accepted_prediction_tokens\": 0, \"rejected_prediction_tokens\": 0}}, \"service_tier\": \"default\", \"system_fingerprint\": \"fp_72ed7ab54c\"}}, \"error\": null} for query \"3:05 PM.\": Could not parse output: {}\n",
      "2025-01-14 10:23:11,489 - \u001b[1;31mERROR\u001b[1;0m - Error parsing response {\"id\": \"batch_req_6785dc26100c8190bc5ebb0fbd03f8d8\", \"custom_id\": \"2620\", \"response\": {\"status_code\": 200, \"request_id\": \"80e55c8885577a00d684d1f89ddb896e\", \"body\": {\"id\": \"chatcmpl-ApPNnJKLLU5qYYDAVWXDEdPHOPIET\", \"object\": \"chat.completion\", \"created\": 1736815663, \"model\": \"gpt-4o-mini-2024-07-18\", \"choices\": [{\"index\": 0, \"message\": {\"role\": \"assistant\", \"content\": \"{}\", \"refusal\": null}, \"logprobs\": null, \"finish_reason\": \"stop\"}], \"usage\": {\"prompt_tokens\": 374, \"completion_tokens\": 2, \"total_tokens\": 376, \"prompt_tokens_details\": {\"cached_tokens\": 0, \"audio_tokens\": 0}, \"completion_tokens_details\": {\"reasoning_tokens\": 0, \"audio_tokens\": 0, \"accepted_prediction_tokens\": 0, \"rejected_prediction_tokens\": 0}}, \"service_tier\": \"default\", \"system_fingerprint\": \"fp_72ed7ab54c\"}}, \"error\": null} for query \"12:46 AM.\": Could not parse output: {}\n",
      "2025-01-14 10:23:11,489 - \u001b[1;31mERROR\u001b[1;0m - Error parsing response {\"id\": \"batch_req_6785ea12f3a481909391983a2fef6c3e\", \"custom_id\": \"33520\", \"response\": {\"status_code\": 200, \"request_id\": \"5545245dfe0d359850b713ba6bb23d68\", \"body\": {\"id\": \"chatcmpl-ApQCDugrvh6CSzySLHQbc2IAV7sUQ\", \"object\": \"chat.completion\", \"created\": 1736818789, \"model\": \"gpt-4o-mini-2024-07-18\", \"choices\": [{\"index\": 0, \"message\": {\"role\": \"assistant\", \"content\": \"{}\", \"refusal\": null}, \"logprobs\": null, \"finish_reason\": \"stop\"}], \"usage\": {\"prompt_tokens\": 374, \"completion_tokens\": 1, \"total_tokens\": 375, \"prompt_tokens_details\": {\"cached_tokens\": 0, \"audio_tokens\": 0}, \"completion_tokens_details\": {\"reasoning_tokens\": 0, \"audio_tokens\": 0, \"accepted_prediction_tokens\": 0, \"rejected_prediction_tokens\": 0}}, \"service_tier\": \"default\", \"system_fingerprint\": \"fp_72ed7ab54c\"}}, \"error\": null} for query \"6:33 PM.\": Could not parse output: {}\n",
      "2025-01-14 10:23:11,489 - \u001b[1;31mERROR\u001b[1;0m - Error parsing response {\"id\": \"batch_req_6785e7b92660819094b40d596c62a699\", \"custom_id\": \"28120\", \"response\": {\"status_code\": 200, \"request_id\": \"e9c42fd4db8a09507f0249b67016b0cd\", \"body\": {\"id\": \"chatcmpl-ApQ6lDZsiivKxRroTQiCO5rmPBnOe\", \"object\": \"chat.completion\", \"created\": 1736818451, \"model\": \"gpt-4o-mini-2024-07-18\", \"choices\": [{\"index\": 0, \"message\": {\"role\": \"assistant\", \"content\": \"{}\", \"refusal\": null}, \"logprobs\": null, \"finish_reason\": \"stop\"}], \"usage\": {\"prompt_tokens\": 376, \"completion_tokens\": 2, \"total_tokens\": 378, \"prompt_tokens_details\": {\"cached_tokens\": 0, \"audio_tokens\": 0}, \"completion_tokens_details\": {\"reasoning_tokens\": 0, \"audio_tokens\": 0, \"accepted_prediction_tokens\": 0, \"rejected_prediction_tokens\": 0}}, \"service_tier\": \"default\", \"system_fingerprint\": \"fp_72ed7ab54c\"}}, \"error\": null} for query \"5:25 PM 1.\": Could not parse output: {}\n",
      "2025-01-14 10:23:11,489 - \u001b[1;31mERROR\u001b[1;0m - Error parsing response {\"id\": \"batch_req_6785eaa1636481908b2c9d70cb1a7838\", \"custom_id\": \"34782\", \"response\": {\"status_code\": 200, \"request_id\": \"8293ba43ed0440be61a5594e6bb74e0c\", \"body\": {\"id\": \"chatcmpl-ApQF5gCfQwMr2YA6CH8zVIDiY1OUl\", \"object\": \"chat.completion\", \"created\": 1736818967, \"model\": \"gpt-4o-mini-2024-07-18\", \"choices\": [{\"index\": 0, \"message\": {\"role\": \"assistant\", \"content\": \"{}\", \"refusal\": null}, \"logprobs\": null, \"finish_reason\": \"stop\"}], \"usage\": {\"prompt_tokens\": 372, \"completion_tokens\": 2, \"total_tokens\": 374, \"prompt_tokens_details\": {\"cached_tokens\": 0, \"audio_tokens\": 0}, \"completion_tokens_details\": {\"reasoning_tokens\": 0, \"audio_tokens\": 0, \"accepted_prediction_tokens\": 0, \"rejected_prediction_tokens\": 0}}, \"service_tier\": \"default\", \"system_fingerprint\": \"fp_72ed7ab54c\"}}, \"error\": null} for query \"scapula\": Could not parse output: {}\n",
      "2025-01-14 10:23:11,490 - \u001b[1;32mINFO\u001b[1;0m - Succesfully processed 49836 of 50000 API responses.\n",
      "                                    164 of 50000 API responses could not be processed.\n",
      "                                    Saving processed texts to /mnt/data/pamessina_folder_backup_15_10_24/pamessina/medvqa-workspace/cache/mimiccxr/openai/gpt-4o-mini_sentence_to_negative_facts.jsonl\n"
     ]
    }
   ],
   "source": [
    "!python ../../scripts/mimiccxr/extract_negative_facts_from_report_sentences_with_openai.py \\\n",
    "--batch_input_file_id \"file-XckYHPzy5p7BALNAeBJi7H\" \\\n",
    "--logging_level \"INFO\" \\\n",
    "--api_key_name \"OPENAI_API_KEY_1\" \\\n",
    "--openai_model_name \"gpt-4o-mini\" \\\n",
    "--use_batch_api"
   ]
  },
  {
   "cell_type": "code",
   "execution_count": 12,
   "id": "097ee42d",
   "metadata": {
    "scrolled": true
   },
   "outputs": [
    {
     "name": "stdout",
     "output_type": "stream",
     "text": [
      "2025-01-13 18:35:13,304 - \u001b[1;32mINFO\u001b[1;0m - Total number of unique sentences: 1269593\n",
      "2025-01-13 18:35:13,606 - \u001b[1;32mINFO\u001b[1;0m - Loading cached sorted sentences from /mnt/data/pamessina_folder_backup_15_10_24/pamessina/medvqa-workspace/cache/sorted_sentences(1269593,86367250).pkl...\n",
      "2025-01-13 18:35:13,780 - \u001b[1;32mINFO\u001b[1;0m - Done loading cached sorted sentences.\n",
      "2025-01-13 18:35:13,780 - \u001b[1;32mINFO\u001b[1;0m - First sentence: l CP ANGLE OBSCURED BUT PT HAD SIMILAR APPEARANCE ON SCOUTS FOR PRIOR CT L-SPINE AT WHICH POINT NO PLEURAL EFFUSION WAS EVIDENT- THUS THIS MAY REPRESENT A PERICARDIAL FAT PAD- THOUGH CANNOT DEFINITIVELY RULE OUT LAYERING LEFT EFFUSION.\n",
      "2025-01-13 18:35:13,780 - \u001b[1;32mINFO\u001b[1;0m - Last sentence: .\n",
      "checkpoint_names = ['checkpoint_196_cacc+chf1+chf1+cscc+encc+hscc+nlcc+sass+spss+ta0)+ta1)+ta2)+ta0)+ta1)+ta2)+ta3)+ta4)+ta5)+ta6)+ta7)=0.9189.pt']\n",
      "Loading cached text embeddings from /mnt/data/pamessina_folder_backup_15_10_24/pamessina/medvqa-workspace/cache/text_embeddings_cache(hash=469,680486110513564934).pkl\n",
      "len(self.cache[\"hashes\"]) = 1554202\n",
      "self.cache[\"embeddings\"].shape = (1554202, 128)\n",
      "Loading cached kmeans labels from /mnt/data/pamessina_folder_backup_15_10_24/pamessina/medvqa-workspace/cache/kmeans_labels(86367423,552958962134983816).pkl\n",
      "2025-01-13 18:35:24,441 - \u001b[1;32mINFO\u001b[1;0m - Total number of queries to process: 50000\n",
      "2025-01-13 18:35:24,442 - \u001b[1;32mINFO\u001b[1;0m - Example queries to process:\n",
      "2025-01-13 18:35:24,442 - \u001b[1;32mINFO\u001b[1;0m - 1. no progression of pulmonary edema\n",
      "2025-01-13 18:35:24,442 - \u001b[1;32mINFO\u001b[1;0m - 5556. In comparison with the study of , there is now a tracheostomy tube in place with the tip approximately 1.2 cm above the carina.\n",
      "2025-01-13 18:35:24,442 - \u001b[1;32mINFO\u001b[1;0m - 11111. tip of tube extending beneath the diaphragm\n",
      "2025-01-13 18:35:24,442 - \u001b[1;32mINFO\u001b[1;0m - 16667. Pulmonary vascular congestion is most unlikely as the heart remains normal in size throughout.\n",
      "2025-01-13 18:35:24,442 - \u001b[1;32mINFO\u001b[1;0m - 22222. minimal increase in interstitial structures in the left hilus\n",
      "2025-01-13 18:35:24,442 - \u001b[1;32mINFO\u001b[1;0m - 27778. indwelling right subclavian central venous infusion catheter ends in the right atrium\n",
      "2025-01-13 18:35:24,442 - \u001b[1;32mINFO\u001b[1;0m - 33333. other etiologies for alveolar opacities\n",
      "2025-01-13 18:35:24,442 - \u001b[1;32mINFO\u001b[1;0m - 38889. right pleural effusion noted on prior pelvis\n",
      "2025-01-13 18:35:24,442 - \u001b[1;32mINFO\u001b[1;0m - 44444. residual minimal trace right pleural effusion\n",
      "2025-01-13 18:35:24,442 - \u001b[1;32mINFO\u001b[1;0m - 50000. Severe infiltrative pulmonary abnormality has not changed for several days.\n",
      "2025-01-13 18:35:24,593 - \u001b[1;32mINFO\u001b[1;0m - Saving batch API requests to /home/pamessina/medvqa-workspace/tmp/mimiccxr/openai/batch_api_requests_20250113_183524.jsonl\n",
      "2025-01-13 18:35:36,509 - \u001b[1;32mINFO\u001b[1;0m - HTTP Request: POST https://api.openai.com/v1/files \"HTTP/1.1 200 OK\"\n",
      "2025-01-13 18:35:36,512 - \u001b[1;32mINFO\u001b[1;0m - Creating batch with input file ID file-9mRqScmJC1mgzRFjqBpaRi\n",
      "2025-01-13 18:35:37,354 - \u001b[1;32mINFO\u001b[1;0m - HTTP Request: POST https://api.openai.com/v1/batches \"HTTP/1.1 200 OK\"\n",
      "2025-01-13 18:35:37,361 - \u001b[1;32mINFO\u001b[1;0m - Batch object: Batch(id='batch_6785872927b08190894ded7a36e6b129', completion_window='24h', created_at=1736804137, endpoint='/v1/chat/completions', input_file_id='file-9mRqScmJC1mgzRFjqBpaRi', object='batch', status='validating', cancelled_at=None, cancelling_at=None, completed_at=None, error_file_id=None, errors=None, expired_at=None, expires_at=1736890537, failed_at=None, finalizing_at=None, in_progress_at=None, metadata={'description': 'sentence to negative facts'}, output_file_id=None, request_counts=BatchRequestCounts(completed=0, failed=0, total=0))\n",
      "2025-01-13 18:35:37,362 - \u001b[1;32mINFO\u001b[1;0m - Saving batch object to /home/pamessina/medvqa-workspace/tmp/mimiccxr/openai/batch_api/file-9mRqScmJC1mgzRFjqBpaRi.pkl\n",
      "2025-01-13 18:35:37,362 - \u001b[1;32mINFO\u001b[1;0m - Deleting batch API requests at /home/pamessina/medvqa-workspace/tmp/mimiccxr/openai/batch_api_requests_20250113_183524.jsonl\n"
     ]
    }
   ],
   "source": [
    "!python ../../scripts/mimiccxr/extract_negative_facts_from_report_sentences_with_openai.py \\\n",
    "--offset 300000 \\\n",
    "--num_samples 50000 \\\n",
    "--integrated_sentence_facts_jsonl_filepath \\\n",
    "\"/home/pamessina/medvqa-workspace/cache/mimiccxr/integrated_sentence_facts(59349684,50956825).jsonl\" \\\n",
    "--fact_embedding_model_name \"microsoft/BiomedVLP-CXR-BERT-specialized\" \\\n",
    "--fact_embedding_model_checkpoint_folder_path \\\n",
    "\"/mnt/data/pamessina/workspaces/medvqa-workspace/models/fact_embedding/20240629_084405_MIMIC-CXR(triplets+classif+entcont+nli+radgraph+autoencoder)_FactEncoder(microsoft-BiomedVLP-CXR-BERT-specialized)\" \\\n",
    "--fact_embedding_batch_size 200 \\\n",
    "--fact_embedding_num_workers 4 \\\n",
    "--max_requests_per_minute 20000 \\\n",
    "--max_tokens_per_minute 10000000 \\\n",
    "--max_tokens_per_request 350 \\\n",
    "--logging_level \"INFO\" \\\n",
    "--api_key_name \"OPENAI_API_KEY_1\" \\\n",
    "--openai_model_name \"gpt-4o-mini\" \\\n",
    "--use_batch_api \\\n",
    "--batch_description \"sentence to negative facts\""
   ]
  },
  {
   "cell_type": "code",
   "execution_count": 21,
   "id": "6ad08c77",
   "metadata": {
    "scrolled": true
   },
   "outputs": [
    {
     "name": "stdout",
     "output_type": "stream",
     "text": [
      "2025-01-14 10:23:24,799 - \u001b[1;32mINFO\u001b[1;0m - Checking status of batch with input file ID file-9mRqScmJC1mgzRFjqBpaRi\n",
      "2025-01-14 10:23:25,228 - \u001b[1;32mINFO\u001b[1;0m - Batch object: Batch(id='batch_6785872927b08190894ded7a36e6b129', completion_window='24h', created_at=1736804137, endpoint='/v1/chat/completions', input_file_id='file-9mRqScmJC1mgzRFjqBpaRi', object='batch', status='validating', cancelled_at=None, cancelling_at=None, completed_at=None, error_file_id=None, errors=None, expired_at=None, expires_at=1736890537, failed_at=None, finalizing_at=None, in_progress_at=None, metadata={'description': 'sentence to negative facts'}, output_file_id=None, request_counts=BatchRequestCounts(completed=0, failed=0, total=0))\n",
      "2025-01-14 10:23:25,762 - \u001b[1;32mINFO\u001b[1;0m - HTTP Request: GET https://api.openai.com/v1/batches/batch_6785872927b08190894ded7a36e6b129 \"HTTP/1.1 200 OK\"\n",
      "2025-01-14 10:23:25,770 - \u001b[1;32mINFO\u001b[1;0m - Batch: Batch(id='batch_6785872927b08190894ded7a36e6b129', completion_window='24h', created_at=1736804137, endpoint='/v1/chat/completions', input_file_id='file-9mRqScmJC1mgzRFjqBpaRi', object='batch', status='completed', cancelled_at=None, cancelling_at=None, completed_at=1736813825, error_file_id=None, errors=None, expired_at=None, expires_at=1736890537, failed_at=None, finalizing_at=1736810309, in_progress_at=1736804151, metadata={'description': 'sentence to negative facts'}, output_file_id='file-8pQwmAMr7dC2tjS7JpNWMs', request_counts=BatchRequestCounts(completed=50000, failed=0, total=50000))\n",
      "2025-01-14 10:23:25,770 - \u001b[1;32mINFO\u001b[1;0m - Batch status: completed\n",
      "2025-01-14 10:23:25,770 - \u001b[1;32mINFO\u001b[1;0m - Batch with input file ID file-9mRqScmJC1mgzRFjqBpaRi is completed\n",
      "2025-01-14 10:23:25,770 - \u001b[1;32mINFO\u001b[1;0m - Retrieving batch input file ID file-9mRqScmJC1mgzRFjqBpaRi\n",
      "2025-01-14 10:23:27,149 - \u001b[1;32mINFO\u001b[1;0m - HTTP Request: GET https://api.openai.com/v1/files/file-9mRqScmJC1mgzRFjqBpaRi/content \"HTTP/1.1 200 OK\"\n",
      "2025-01-14 10:23:32,954 - \u001b[1;32mINFO\u001b[1;0m - Retrieved metadata for 50000 queries\n",
      "2025-01-14 10:23:32,954 - \u001b[1;32mINFO\u001b[1;0m - Retrieving batch output file ID file-8pQwmAMr7dC2tjS7JpNWMs\n",
      "2025-01-14 10:23:33,690 - \u001b[1;32mINFO\u001b[1;0m - HTTP Request: GET https://api.openai.com/v1/files/file-8pQwmAMr7dC2tjS7JpNWMs/content \"HTTP/1.1 200 OK\"\n",
      "2025-01-14 10:23:38,421 - \u001b[1;31mERROR\u001b[1;0m - 174 error messages occurred while parsing responses\n",
      "2025-01-14 10:23:38,421 - \u001b[1;31mERROR\u001b[1;0m - Error parsing response {\"id\": \"batch_req_6785abfc87988190a58af9ad606f1548\", \"custom_id\": \"46220\", \"response\": {\"status_code\": 200, \"request_id\": \"5bc17fea73552f305bead528bdcce14a\", \"body\": {\"id\": \"chatcmpl-ApNfVFpwTMyrjn2x3HKk7vxtkhGsC\", \"object\": \"chat.completion\", \"created\": 1736809073, \"model\": \"gpt-4o-mini-2024-07-18\", \"choices\": [{\"index\": 0, \"message\": {\"role\": \"assistant\", \"content\": \"{}\", \"refusal\": null}, \"logprobs\": null, \"finish_reason\": \"stop\"}], \"usage\": {\"prompt_tokens\": 376, \"completion_tokens\": 2, \"total_tokens\": 378, \"prompt_tokens_details\": {\"cached_tokens\": 0, \"audio_tokens\": 0}, \"completion_tokens_details\": {\"reasoning_tokens\": 0, \"audio_tokens\": 0, \"accepted_prediction_tokens\": 0, \"rejected_prediction_tokens\": 0}}, \"service_tier\": \"default\", \"system_fingerprint\": \"fp_72ed7ab54c\"}}, \"error\": null} for query \"10:57 PM 1.\": Could not parse output: {}\n",
      "2025-01-14 10:23:38,421 - \u001b[1;31mERROR\u001b[1;0m - Error parsing response {\"id\": \"batch_req_6785a567f224819093403012ae1b4e5e\", \"custom_id\": \"21920\", \"response\": {\"status_code\": 200, \"request_id\": \"6cba9d6e5661f18f49714326328110c7\", \"body\": {\"id\": \"chatcmpl-ApN24HmHplPjMI0JcMV7FMgJv2494\", \"object\": \"chat.completion\", \"created\": 1736806628, \"model\": \"gpt-4o-mini-2024-07-18\", \"choices\": [{\"index\": 0, \"message\": {\"role\": \"assistant\", \"content\": \"{}\", \"refusal\": null}, \"logprobs\": null, \"finish_reason\": \"stop\"}], \"usage\": {\"prompt_tokens\": 383, \"completion_tokens\": 2, \"total_tokens\": 385, \"prompt_tokens_details\": {\"cached_tokens\": 0, \"audio_tokens\": 0}, \"completion_tokens_details\": {\"reasoning_tokens\": 0, \"audio_tokens\": 0, \"accepted_prediction_tokens\": 0, \"rejected_prediction_tokens\": 0}}, \"service_tier\": \"default\", \"system_fingerprint\": \"fp_72ed7ab54c\"}}, \"error\": null} for query \"WET READ VERSION #1 11:48 PM 1.\": Could not parse output: {}\n",
      "2025-01-14 10:23:38,421 - \u001b[1;31mERROR\u001b[1;0m - Error parsing response {\"id\": \"batch_req_6785a591c7108190b61f37a21757d53c\", \"custom_id\": \"22520\", \"response\": {\"status_code\": 200, \"request_id\": \"fd2505d97b1785e3964efddbd3a9803f\", \"body\": {\"id\": \"chatcmpl-ApN2HwtxdGUULnE3y8OY5T1wR0oge\", \"object\": \"chat.completion\", \"created\": 1736806641, \"model\": \"gpt-4o-mini-2024-07-18\", \"choices\": [{\"index\": 0, \"message\": {\"role\": \"assistant\", \"content\": \"{}\", \"refusal\": null}, \"logprobs\": null, \"finish_reason\": \"stop\"}], \"usage\": {\"prompt_tokens\": 381, \"completion_tokens\": 2, \"total_tokens\": 383, \"prompt_tokens_details\": {\"cached_tokens\": 0, \"audio_tokens\": 0}, \"completion_tokens_details\": {\"reasoning_tokens\": 0, \"audio_tokens\": 0, \"accepted_prediction_tokens\": 0, \"rejected_prediction_tokens\": 0}}, \"service_tier\": \"default\", \"system_fingerprint\": \"fp_72ed7ab54c\"}}, \"error\": null} for query \"WET READ VERSION #1 6:54 AM.\": Could not parse output: {}\n",
      "2025-01-14 10:23:38,421 - \u001b[1;31mERROR\u001b[1;0m - Error parsing response {\"id\": \"batch_req_6785a0a47ce081908ac033b27e8bbcf3\", \"custom_id\": \"4820\", \"response\": {\"status_code\": 200, \"request_id\": \"384bf82d4c2b24122ffcae8afb9c9803\", \"body\": {\"id\": \"chatcmpl-ApMWy1khMWfhTSbvR0RomOvLos2vT\", \"object\": \"chat.completion\", \"created\": 1736804700, \"model\": \"gpt-4o-mini-2024-07-18\", \"choices\": [{\"index\": 0, \"message\": {\"role\": \"assistant\", \"content\": \"{}\", \"refusal\": null}, \"logprobs\": null, \"finish_reason\": \"stop\"}], \"usage\": {\"prompt_tokens\": 381, \"completion_tokens\": 2, \"total_tokens\": 383, \"prompt_tokens_details\": {\"cached_tokens\": 0, \"audio_tokens\": 0}, \"completion_tokens_details\": {\"reasoning_tokens\": 0, \"audio_tokens\": 0, \"accepted_prediction_tokens\": 0, \"rejected_prediction_tokens\": 0}}, \"service_tier\": \"default\", \"system_fingerprint\": \"fp_72ed7ab54c\"}}, \"error\": null} for query \"WET READ VERSION #1 7:02 AM.\": Could not parse output: {}\n",
      "2025-01-14 10:23:38,421 - \u001b[1;31mERROR\u001b[1;0m - Error parsing response {\"id\": \"batch_req_6785a66743a481909b073ffc9596e6f5\", \"custom_id\": \"25520\", \"response\": {\"status_code\": 200, \"request_id\": \"1255c07e07f59872f53daa277ab7edc8\", \"body\": {\"id\": \"chatcmpl-ApN5phMC9KOTZRieEwViieEjHhZAG\", \"object\": \"chat.completion\", \"created\": 1736806861, \"model\": \"gpt-4o-mini-2024-07-18\", \"choices\": [{\"index\": 0, \"message\": {\"role\": \"assistant\", \"content\": \"{}\", \"refusal\": null}, \"logprobs\": null, \"finish_reason\": \"stop\"}], \"usage\": {\"prompt_tokens\": 376, \"completion_tokens\": 2, \"total_tokens\": 378, \"prompt_tokens_details\": {\"cached_tokens\": 0, \"audio_tokens\": 0}, \"completion_tokens_details\": {\"reasoning_tokens\": 0, \"audio_tokens\": 0, \"accepted_prediction_tokens\": 0, \"rejected_prediction_tokens\": 0}}, \"service_tier\": \"default\", \"system_fingerprint\": \"fp_72ed7ab54c\"}}, \"error\": null} for query \"4:57 AM 1.\": Could not parse output: {}\n",
      "2025-01-14 10:23:38,421 - \u001b[1;32mINFO\u001b[1;0m - Succesfully processed 49826 of 50000 API responses.\n",
      "                                    174 of 50000 API responses could not be processed.\n",
      "                                    Saving processed texts to /mnt/data/pamessina_folder_backup_15_10_24/pamessina/medvqa-workspace/cache/mimiccxr/openai/gpt-4o-mini_sentence_to_negative_facts.jsonl\n"
     ]
    }
   ],
   "source": [
    "!python ../../scripts/mimiccxr/extract_negative_facts_from_report_sentences_with_openai.py \\\n",
    "--batch_input_file_id \"file-9mRqScmJC1mgzRFjqBpaRi\" \\\n",
    "--logging_level \"INFO\" \\\n",
    "--api_key_name \"OPENAI_API_KEY_1\" \\\n",
    "--openai_model_name \"gpt-4o-mini\" \\\n",
    "--use_batch_api"
   ]
  },
  {
   "cell_type": "code",
   "execution_count": 13,
   "id": "002ffa75",
   "metadata": {
    "scrolled": true
   },
   "outputs": [
    {
     "name": "stdout",
     "output_type": "stream",
     "text": [
      "2025-01-13 18:35:49,543 - \u001b[1;32mINFO\u001b[1;0m - Total number of unique sentences: 1269593\n",
      "2025-01-13 18:35:49,866 - \u001b[1;32mINFO\u001b[1;0m - Loading cached sorted sentences from /mnt/data/pamessina_folder_backup_15_10_24/pamessina/medvqa-workspace/cache/sorted_sentences(1269593,86367250).pkl...\n",
      "2025-01-13 18:35:50,050 - \u001b[1;32mINFO\u001b[1;0m - Done loading cached sorted sentences.\n",
      "2025-01-13 18:35:50,050 - \u001b[1;32mINFO\u001b[1;0m - First sentence: l CP ANGLE OBSCURED BUT PT HAD SIMILAR APPEARANCE ON SCOUTS FOR PRIOR CT L-SPINE AT WHICH POINT NO PLEURAL EFFUSION WAS EVIDENT- THUS THIS MAY REPRESENT A PERICARDIAL FAT PAD- THOUGH CANNOT DEFINITIVELY RULE OUT LAYERING LEFT EFFUSION.\n",
      "2025-01-13 18:35:50,050 - \u001b[1;32mINFO\u001b[1;0m - Last sentence: .\n",
      "checkpoint_names = ['checkpoint_196_cacc+chf1+chf1+cscc+encc+hscc+nlcc+sass+spss+ta0)+ta1)+ta2)+ta0)+ta1)+ta2)+ta3)+ta4)+ta5)+ta6)+ta7)=0.9189.pt']\n",
      "Loading cached text embeddings from /mnt/data/pamessina_folder_backup_15_10_24/pamessina/medvqa-workspace/cache/text_embeddings_cache(hash=469,680486110513564934).pkl\n",
      "len(self.cache[\"hashes\"]) = 1554202\n",
      "self.cache[\"embeddings\"].shape = (1554202, 128)\n",
      "Loading cached kmeans labels from /mnt/data/pamessina_folder_backup_15_10_24/pamessina/medvqa-workspace/cache/kmeans_labels(86367423,552958962134983816).pkl\n",
      "2025-01-13 18:36:00,753 - \u001b[1;32mINFO\u001b[1;0m - Total number of queries to process: 50000\n",
      "2025-01-13 18:36:00,753 - \u001b[1;32mINFO\u001b[1;0m - Example queries to process:\n",
      "2025-01-13 18:36:00,753 - \u001b[1;32mINFO\u001b[1;0m - 1. Heterogeneous opacification in the lower lungs is substantially atelectasis, given the much lower lung volumes today than in , but mild pulmonary edema is present and concurrent pneumonia is a real possibility.\n",
      "2025-01-13 18:36:00,753 - \u001b[1;32mINFO\u001b[1;0m - 5556. In comparison to prior radiograph of 2 days earlier, left PICC terminates in the lower superior vena cava.\n",
      "2025-01-13 18:36:00,753 - \u001b[1;32mINFO\u001b[1;0m - 11111. Trace left pleural effusion seen on recent CT is not well assessed on this current exam.\n",
      "2025-01-13 18:36:00,753 - \u001b[1;32mINFO\u001b[1;0m - 16667. Partial atelectasis of the right upper lobe appears slightly improved and bibasilar retrocardiac atelectasis is also slightly better in the interval.\n",
      "2025-01-13 18:36:00,753 - \u001b[1;32mINFO\u001b[1;0m - 22222. Left lower lobe consolidations are concerning for infection, alternatively atelectasis.\n",
      "2025-01-13 18:36:00,753 - \u001b[1;32mINFO\u001b[1;0m - 27778. presumed pneumocystis infection\n",
      "2025-01-13 18:36:00,753 - \u001b[1;32mINFO\u001b[1;0m - 33333. This decrease is notably seen at the bases of the right lung.\n",
      "2025-01-13 18:36:00,753 - \u001b[1;32mINFO\u001b[1;0m - 38889. right supraclavicular central venous catheter ends in the low SVC\n",
      "2025-01-13 18:36:00,753 - \u001b[1;32mINFO\u001b[1;0m - 44444. Rib deformities are unchanged.\n",
      "2025-01-13 18:36:00,753 - \u001b[1;32mINFO\u001b[1;0m - 50000. no longer present lucency along the right chest wall\n",
      "2025-01-13 18:36:00,906 - \u001b[1;32mINFO\u001b[1;0m - Saving batch API requests to /home/pamessina/medvqa-workspace/tmp/mimiccxr/openai/batch_api_requests_20250113_183600.jsonl\n",
      "2025-01-13 18:36:13,142 - \u001b[1;32mINFO\u001b[1;0m - HTTP Request: POST https://api.openai.com/v1/files \"HTTP/1.1 200 OK\"\n",
      "2025-01-13 18:36:13,144 - \u001b[1;32mINFO\u001b[1;0m - Creating batch with input file ID file-GKX6NbK9VEraK4tB6gRD9K\n",
      "2025-01-13 18:36:13,839 - \u001b[1;32mINFO\u001b[1;0m - HTTP Request: POST https://api.openai.com/v1/batches \"HTTP/1.1 200 OK\"\n",
      "2025-01-13 18:36:13,846 - \u001b[1;32mINFO\u001b[1;0m - Batch object: Batch(id='batch_6785874d99e4819091474be73e1fe251', completion_window='24h', created_at=1736804173, endpoint='/v1/chat/completions', input_file_id='file-GKX6NbK9VEraK4tB6gRD9K', object='batch', status='validating', cancelled_at=None, cancelling_at=None, completed_at=None, error_file_id=None, errors=None, expired_at=None, expires_at=1736890573, failed_at=None, finalizing_at=None, in_progress_at=None, metadata={'description': 'sentence to negative facts'}, output_file_id=None, request_counts=BatchRequestCounts(completed=0, failed=0, total=0))\n",
      "2025-01-13 18:36:13,847 - \u001b[1;32mINFO\u001b[1;0m - Saving batch object to /home/pamessina/medvqa-workspace/tmp/mimiccxr/openai/batch_api/file-GKX6NbK9VEraK4tB6gRD9K.pkl\n",
      "2025-01-13 18:36:13,847 - \u001b[1;32mINFO\u001b[1;0m - Deleting batch API requests at /home/pamessina/medvqa-workspace/tmp/mimiccxr/openai/batch_api_requests_20250113_183600.jsonl\n"
     ]
    }
   ],
   "source": [
    "!python ../../scripts/mimiccxr/extract_negative_facts_from_report_sentences_with_openai.py \\\n",
    "--offset 350000 \\\n",
    "--num_samples 50000 \\\n",
    "--integrated_sentence_facts_jsonl_filepath \\\n",
    "\"/home/pamessina/medvqa-workspace/cache/mimiccxr/integrated_sentence_facts(59349684,50956825).jsonl\" \\\n",
    "--fact_embedding_model_name \"microsoft/BiomedVLP-CXR-BERT-specialized\" \\\n",
    "--fact_embedding_model_checkpoint_folder_path \\\n",
    "\"/mnt/data/pamessina/workspaces/medvqa-workspace/models/fact_embedding/20240629_084405_MIMIC-CXR(triplets+classif+entcont+nli+radgraph+autoencoder)_FactEncoder(microsoft-BiomedVLP-CXR-BERT-specialized)\" \\\n",
    "--fact_embedding_batch_size 200 \\\n",
    "--fact_embedding_num_workers 4 \\\n",
    "--max_requests_per_minute 20000 \\\n",
    "--max_tokens_per_minute 10000000 \\\n",
    "--max_tokens_per_request 350 \\\n",
    "--logging_level \"INFO\" \\\n",
    "--api_key_name \"OPENAI_API_KEY_1\" \\\n",
    "--openai_model_name \"gpt-4o-mini\" \\\n",
    "--use_batch_api \\\n",
    "--batch_description \"sentence to negative facts\""
   ]
  },
  {
   "cell_type": "code",
   "execution_count": 22,
   "id": "ba2a1134",
   "metadata": {
    "scrolled": true
   },
   "outputs": [
    {
     "name": "stdout",
     "output_type": "stream",
     "text": [
      "2025-01-14 10:25:08,849 - \u001b[1;32mINFO\u001b[1;0m - Checking status of batch with input file ID file-GKX6NbK9VEraK4tB6gRD9K\n",
      "2025-01-14 10:25:09,307 - \u001b[1;32mINFO\u001b[1;0m - Batch object: Batch(id='batch_6785874d99e4819091474be73e1fe251', completion_window='24h', created_at=1736804173, endpoint='/v1/chat/completions', input_file_id='file-GKX6NbK9VEraK4tB6gRD9K', object='batch', status='validating', cancelled_at=None, cancelling_at=None, completed_at=None, error_file_id=None, errors=None, expired_at=None, expires_at=1736890573, failed_at=None, finalizing_at=None, in_progress_at=None, metadata={'description': 'sentence to negative facts'}, output_file_id=None, request_counts=BatchRequestCounts(completed=0, failed=0, total=0))\n",
      "2025-01-14 10:25:09,707 - \u001b[1;32mINFO\u001b[1;0m - HTTP Request: GET https://api.openai.com/v1/batches/batch_6785874d99e4819091474be73e1fe251 \"HTTP/1.1 200 OK\"\n",
      "2025-01-14 10:25:09,715 - \u001b[1;32mINFO\u001b[1;0m - Batch: Batch(id='batch_6785874d99e4819091474be73e1fe251', completion_window='24h', created_at=1736804173, endpoint='/v1/chat/completions', input_file_id='file-GKX6NbK9VEraK4tB6gRD9K', object='batch', status='completed', cancelled_at=None, cancelling_at=None, completed_at=1736817339, error_file_id=None, errors=None, expired_at=None, expires_at=1736890573, failed_at=None, finalizing_at=1736811477, in_progress_at=1736804191, metadata={'description': 'sentence to negative facts'}, output_file_id='file-NMq2meHBEMwXMTazsZZibL', request_counts=BatchRequestCounts(completed=50000, failed=0, total=50000))\n",
      "2025-01-14 10:25:09,715 - \u001b[1;32mINFO\u001b[1;0m - Batch status: completed\n",
      "2025-01-14 10:25:09,715 - \u001b[1;32mINFO\u001b[1;0m - Batch with input file ID file-GKX6NbK9VEraK4tB6gRD9K is completed\n",
      "2025-01-14 10:25:09,715 - \u001b[1;32mINFO\u001b[1;0m - Retrieving batch input file ID file-GKX6NbK9VEraK4tB6gRD9K\n",
      "2025-01-14 10:25:10,590 - \u001b[1;32mINFO\u001b[1;0m - HTTP Request: GET https://api.openai.com/v1/files/file-GKX6NbK9VEraK4tB6gRD9K/content \"HTTP/1.1 200 OK\"\n",
      "2025-01-14 10:25:16,089 - \u001b[1;32mINFO\u001b[1;0m - Retrieved metadata for 50000 queries\n",
      "2025-01-14 10:25:16,089 - \u001b[1;32mINFO\u001b[1;0m - Retrieving batch output file ID file-NMq2meHBEMwXMTazsZZibL\n",
      "2025-01-14 10:25:16,782 - \u001b[1;32mINFO\u001b[1;0m - HTTP Request: GET https://api.openai.com/v1/files/file-NMq2meHBEMwXMTazsZZibL/content \"HTTP/1.1 200 OK\"\n",
      "2025-01-14 10:25:22,183 - \u001b[1;31mERROR\u001b[1;0m - 155 error messages occurred while parsing responses\n",
      "2025-01-14 10:25:22,184 - \u001b[1;31mERROR\u001b[1;0m - Error parsing response {\"id\": \"batch_req_6785af3279fc81909f3ba3919dfe7eeb\", \"custom_id\": \"24729\", \"response\": {\"status_code\": 200, \"request_id\": \"daf7236f1625645dc2cdf91da7f517ed\", \"body\": {\"id\": \"chatcmpl-ApNDqrPOG9lYbUhswp8dtjkF8zSvN\", \"object\": \"chat.completion\", \"created\": 1736807358, \"model\": \"gpt-4o-mini-2024-07-18\", \"choices\": [{\"index\": 0, \"message\": {\"role\": \"assistant\", \"content\": \"{\\n  \\\"reason\\\": \\\"The sentence mentions 'fiducial markers in the vascular clips' but does not provide any information that rules out specific abnormalities. It is too vague to determine any clear negation of abnormalities.\\\",\\n  \\\"ruled_out_abnormal\", \"refusal\": null}, \"logprobs\": null, \"finish_reason\": \"stop\"}], \"usage\": {\"prompt_tokens\": 377, \"completion_tokens\": 52, \"total_tokens\": 429, \"prompt_tokens_details\": {\"cached_tokens\": 0, \"audio_tokens\": 0}, \"completion_tokens_details\": {\"reasoning_tokens\": 0, \"audio_tokens\": 0, \"accepted_prediction_tokens\": 0, \"rejected_prediction_tokens\": 0}}, \"service_tier\": \"default\", \"system_fingerprint\": \"fp_72ed7ab54c\"}}, \"error\": null} for query \"fiducial markers in the vascular clips\": Could not parse output: {\n",
      "  \"reason\": \"The sentence mentions 'fiducial markers in the vascular clips' but does not provide any information that rules out specific abnormalities. It is too vague to determine any clear negation of abnormalities.\",\n",
      "  \"ruled_out_abnormal\n",
      "2025-01-14 10:25:22,184 - \u001b[1;31mERROR\u001b[1;0m - Error parsing response {\"id\": \"batch_req_6785b79bd8608190bb752fb74a25c361\", \"custom_id\": \"42992\", \"response\": {\"status_code\": 200, \"request_id\": \"b9dee388237007bdf14d461099c5a63e\", \"body\": {\"id\": \"chatcmpl-ApNnqhoKI0v6u6iP9qfv4mKedSXZB\", \"object\": \"chat.completion\", \"created\": 1736809590, \"model\": \"gpt-4o-mini-2024-07-18\", \"choices\": [{\"index\": 0, \"message\": {\"role\": \"assistant\", \"content\": \"{}\", \"refusal\": null}, \"logprobs\": null, \"finish_reason\": \"stop\"}], \"usage\": {\"prompt_tokens\": 386, \"completion_tokens\": 2, \"total_tokens\": 388, \"prompt_tokens_details\": {\"cached_tokens\": 0, \"audio_tokens\": 0}, \"completion_tokens_details\": {\"reasoning_tokens\": 0, \"audio_tokens\": 0, \"accepted_prediction_tokens\": 0, \"rejected_prediction_tokens\": 0}}, \"service_tier\": \"default\", \"system_fingerprint\": \"fp_72ed7ab54c\"}}, \"error\": null} for query \"d.w dr. at 8:20 pm WET READ VERSION #1.\": Could not parse output: {}\n",
      "2025-01-14 10:25:22,184 - \u001b[1;31mERROR\u001b[1;0m - Error parsing response {\"id\": \"batch_req_6785b9a903cc8190a21d1f79b4e78be6\", \"custom_id\": \"47624\", \"response\": {\"status_code\": 200, \"request_id\": \"66060d21b748c6cdde8d6a2c78d590bc\", \"body\": {\"id\": \"chatcmpl-ApNx2GHn8CkWBwgBf5x739TrqREUw\", \"object\": \"chat.completion\", \"created\": 1736810160, \"model\": \"gpt-4o-mini-2024-07-18\", \"choices\": [{\"index\": 0, \"message\": {\"role\": \"assistant\", \"content\": \"{}\", \"refusal\": null}, \"logprobs\": null, \"finish_reason\": \"stop\"}], \"usage\": {\"prompt_tokens\": 371, \"completion_tokens\": 2, \"total_tokens\": 373, \"prompt_tokens_details\": {\"cached_tokens\": 0, \"audio_tokens\": 0}, \"completion_tokens_details\": {\"reasoning_tokens\": 0, \"audio_tokens\": 0, \"accepted_prediction_tokens\": 0, \"rejected_prediction_tokens\": 0}}, \"service_tier\": \"default\", \"system_fingerprint\": \"fp_72ed7ab54c\"}}, \"error\": null} for query \"question pneumonia\": Could not parse output: {}\n",
      "2025-01-14 10:25:22,184 - \u001b[1;31mERROR\u001b[1;0m - Error parsing response {\"id\": \"batch_req_6785af7a33ac8190b2e3868eae5fd82a\", \"custom_id\": \"25320\", \"response\": {\"status_code\": 200, \"request_id\": \"6b1bf82cc4d23859fa8387137f331d6d\", \"body\": {\"id\": \"chatcmpl-ApNFHct0rX8bOmYgORenQqJ2KQ17X\", \"object\": \"chat.completion\", \"created\": 1736807447, \"model\": \"gpt-4o-mini-2024-07-18\", \"choices\": [{\"index\": 0, \"message\": {\"role\": \"assistant\", \"content\": \"{}\", \"refusal\": null}, \"logprobs\": null, \"finish_reason\": \"stop\"}], \"usage\": {\"prompt_tokens\": 376, \"completion_tokens\": 2, \"total_tokens\": 378, \"prompt_tokens_details\": {\"cached_tokens\": 0, \"audio_tokens\": 0}, \"completion_tokens_details\": {\"reasoning_tokens\": 0, \"audio_tokens\": 0, \"accepted_prediction_tokens\": 0, \"rejected_prediction_tokens\": 0}}, \"service_tier\": \"default\", \"system_fingerprint\": \"fp_72ed7ab54c\"}}, \"error\": null} for query \"6:47 AM 1.\": Could not parse output: {}\n",
      "2025-01-14 10:25:22,184 - \u001b[1;31mERROR\u001b[1;0m - Error parsing response {\"id\": \"batch_req_6785b55964fc81908e4531299b649d52\", \"custom_id\": \"37920\", \"response\": {\"status_code\": 200, \"request_id\": \"574b415ba1da9ca350840622c2d42c5d\", \"body\": {\"id\": \"chatcmpl-ApNe64fDDzeU4gBFlm7JbZiCw23Bn\", \"object\": \"chat.completion\", \"created\": 1736808986, \"model\": \"gpt-4o-mini-2024-07-18\", \"choices\": [{\"index\": 0, \"message\": {\"role\": \"assistant\", \"content\": \"{}\", \"refusal\": null}, \"logprobs\": null, \"finish_reason\": \"stop\"}], \"usage\": {\"prompt_tokens\": 381, \"completion_tokens\": 2, \"total_tokens\": 383, \"prompt_tokens_details\": {\"cached_tokens\": 0, \"audio_tokens\": 0}, \"completion_tokens_details\": {\"reasoning_tokens\": 0, \"audio_tokens\": 0, \"accepted_prediction_tokens\": 0, \"rejected_prediction_tokens\": 0}}, \"service_tier\": \"default\", \"system_fingerprint\": \"fp_72ed7ab54c\"}}, \"error\": null} for query \"WET READ VERSION #1 10:58 PM.\": Could not parse output: {}\n",
      "2025-01-14 10:25:22,184 - \u001b[1;32mINFO\u001b[1;0m - Succesfully processed 49845 of 50000 API responses.\n",
      "                                    155 of 50000 API responses could not be processed.\n",
      "                                    Saving processed texts to /mnt/data/pamessina_folder_backup_15_10_24/pamessina/medvqa-workspace/cache/mimiccxr/openai/gpt-4o-mini_sentence_to_negative_facts.jsonl\n"
     ]
    }
   ],
   "source": [
    "!python ../../scripts/mimiccxr/extract_negative_facts_from_report_sentences_with_openai.py \\\n",
    "--batch_input_file_id \"file-GKX6NbK9VEraK4tB6gRD9K\" \\\n",
    "--logging_level \"INFO\" \\\n",
    "--api_key_name \"OPENAI_API_KEY_1\" \\\n",
    "--openai_model_name \"gpt-4o-mini\" \\\n",
    "--use_batch_api"
   ]
  },
  {
   "cell_type": "code",
   "execution_count": 14,
   "id": "af14d740",
   "metadata": {
    "scrolled": true
   },
   "outputs": [
    {
     "name": "stdout",
     "output_type": "stream",
     "text": [
      "2025-01-13 18:37:50,333 - \u001b[1;32mINFO\u001b[1;0m - Total number of unique sentences: 1269593\n",
      "2025-01-13 18:37:50,634 - \u001b[1;32mINFO\u001b[1;0m - Loading cached sorted sentences from /mnt/data/pamessina_folder_backup_15_10_24/pamessina/medvqa-workspace/cache/sorted_sentences(1269593,86367250).pkl...\n",
      "2025-01-13 18:37:50,811 - \u001b[1;32mINFO\u001b[1;0m - Done loading cached sorted sentences.\n",
      "2025-01-13 18:37:50,811 - \u001b[1;32mINFO\u001b[1;0m - First sentence: l CP ANGLE OBSCURED BUT PT HAD SIMILAR APPEARANCE ON SCOUTS FOR PRIOR CT L-SPINE AT WHICH POINT NO PLEURAL EFFUSION WAS EVIDENT- THUS THIS MAY REPRESENT A PERICARDIAL FAT PAD- THOUGH CANNOT DEFINITIVELY RULE OUT LAYERING LEFT EFFUSION.\n",
      "2025-01-13 18:37:50,811 - \u001b[1;32mINFO\u001b[1;0m - Last sentence: .\n",
      "checkpoint_names = ['checkpoint_196_cacc+chf1+chf1+cscc+encc+hscc+nlcc+sass+spss+ta0)+ta1)+ta2)+ta0)+ta1)+ta2)+ta3)+ta4)+ta5)+ta6)+ta7)=0.9189.pt']\n",
      "Loading cached text embeddings from /mnt/data/pamessina_folder_backup_15_10_24/pamessina/medvqa-workspace/cache/text_embeddings_cache(hash=469,680486110513564934).pkl\n",
      "len(self.cache[\"hashes\"]) = 1554202\n",
      "self.cache[\"embeddings\"].shape = (1554202, 128)\n",
      "Loading cached kmeans labels from /mnt/data/pamessina_folder_backup_15_10_24/pamessina/medvqa-workspace/cache/kmeans_labels(86367423,552958962134983816).pkl\n",
      "2025-01-13 18:38:01,385 - \u001b[1;32mINFO\u001b[1;0m - Total number of queries to process: 50000\n",
      "2025-01-13 18:38:01,385 - \u001b[1;32mINFO\u001b[1;0m - Example queries to process:\n",
      "2025-01-13 18:38:01,385 - \u001b[1;32mINFO\u001b[1;0m - 1. prior CTA of the chest in the left costophrenic sulcus\n",
      "2025-01-13 18:38:01,385 - \u001b[1;32mINFO\u001b[1;0m - 5556. There is a re-demonstration of left basal opacity concerning for infectious process.\n",
      "2025-01-13 18:38:01,385 - \u001b[1;32mINFO\u001b[1;0m - 11111. status post partial right pneumonectomy\n",
      "2025-01-13 18:38:01,385 - \u001b[1;32mINFO\u001b[1;0m - 16667. The left lung is hyperinflated, with relative paucity of vascularity in the apex, compatible with emphysema.\n",
      "2025-01-13 18:38:01,385 - \u001b[1;32mINFO\u001b[1;0m - 22222. probable PEG in place\n",
      "2025-01-13 18:38:01,385 - \u001b[1;32mINFO\u001b[1;0m - 27778. Moderate-to-severe right pleural effusion.\n",
      "2025-01-13 18:38:01,386 - \u001b[1;32mINFO\u001b[1;0m - 33333. A nasogastric tube is in-situ, the side port is below the left hemidiaphragm.\n",
      "2025-01-13 18:38:01,386 - \u001b[1;32mINFO\u001b[1;0m - 38889. transparency of the lung parenchyma\n",
      "2025-01-13 18:38:01,386 - \u001b[1;32mINFO\u001b[1;0m - 44444. smaller catheter tip not clearly delineated\n",
      "2025-01-13 18:38:01,386 - \u001b[1;32mINFO\u001b[1;0m - 50000. minimally prominent pulmonary interstitial markings\n",
      "2025-01-13 18:38:01,537 - \u001b[1;32mINFO\u001b[1;0m - Saving batch API requests to /home/pamessina/medvqa-workspace/tmp/mimiccxr/openai/batch_api_requests_20250113_183801.jsonl\n",
      "2025-01-13 18:38:13,502 - \u001b[1;32mINFO\u001b[1;0m - HTTP Request: POST https://api.openai.com/v1/files \"HTTP/1.1 200 OK\"\n",
      "2025-01-13 18:38:13,504 - \u001b[1;32mINFO\u001b[1;0m - Creating batch with input file ID file-UNzHT5PdnQeAfMNjNLurxv\n",
      "2025-01-13 18:38:13,980 - \u001b[1;32mINFO\u001b[1;0m - HTTP Request: POST https://api.openai.com/v1/batches \"HTTP/1.1 200 OK\"\n",
      "2025-01-13 18:38:13,987 - \u001b[1;32mINFO\u001b[1;0m - Batch object: Batch(id='batch_678587c5b98881908765b9cf29557951', completion_window='24h', created_at=1736804293, endpoint='/v1/chat/completions', input_file_id='file-UNzHT5PdnQeAfMNjNLurxv', object='batch', status='validating', cancelled_at=None, cancelling_at=None, completed_at=None, error_file_id=None, errors=None, expired_at=None, expires_at=1736890693, failed_at=None, finalizing_at=None, in_progress_at=None, metadata={'description': 'sentence to negative facts'}, output_file_id=None, request_counts=BatchRequestCounts(completed=0, failed=0, total=0))\n",
      "2025-01-13 18:38:13,987 - \u001b[1;32mINFO\u001b[1;0m - Saving batch object to /home/pamessina/medvqa-workspace/tmp/mimiccxr/openai/batch_api/file-UNzHT5PdnQeAfMNjNLurxv.pkl\n",
      "2025-01-13 18:38:13,987 - \u001b[1;32mINFO\u001b[1;0m - Deleting batch API requests at /home/pamessina/medvqa-workspace/tmp/mimiccxr/openai/batch_api_requests_20250113_183801.jsonl\n"
     ]
    }
   ],
   "source": [
    "!python ../../scripts/mimiccxr/extract_negative_facts_from_report_sentences_with_openai.py \\\n",
    "--offset 400000 \\\n",
    "--num_samples 50000 \\\n",
    "--integrated_sentence_facts_jsonl_filepath \\\n",
    "\"/home/pamessina/medvqa-workspace/cache/mimiccxr/integrated_sentence_facts(59349684,50956825).jsonl\" \\\n",
    "--fact_embedding_model_name \"microsoft/BiomedVLP-CXR-BERT-specialized\" \\\n",
    "--fact_embedding_model_checkpoint_folder_path \\\n",
    "\"/mnt/data/pamessina/workspaces/medvqa-workspace/models/fact_embedding/20240629_084405_MIMIC-CXR(triplets+classif+entcont+nli+radgraph+autoencoder)_FactEncoder(microsoft-BiomedVLP-CXR-BERT-specialized)\" \\\n",
    "--fact_embedding_batch_size 200 \\\n",
    "--fact_embedding_num_workers 4 \\\n",
    "--max_requests_per_minute 20000 \\\n",
    "--max_tokens_per_minute 10000000 \\\n",
    "--max_tokens_per_request 350 \\\n",
    "--logging_level \"INFO\" \\\n",
    "--api_key_name \"OPENAI_API_KEY_1\" \\\n",
    "--openai_model_name \"gpt-4o-mini\" \\\n",
    "--use_batch_api \\\n",
    "--batch_description \"sentence to negative facts\""
   ]
  },
  {
   "cell_type": "code",
   "execution_count": 23,
   "id": "0c954eb1",
   "metadata": {
    "scrolled": true
   },
   "outputs": [
    {
     "name": "stdout",
     "output_type": "stream",
     "text": [
      "2025-01-14 10:25:28,364 - \u001b[1;32mINFO\u001b[1;0m - Checking status of batch with input file ID file-UNzHT5PdnQeAfMNjNLurxv\n",
      "2025-01-14 10:25:28,801 - \u001b[1;32mINFO\u001b[1;0m - Batch object: Batch(id='batch_678587c5b98881908765b9cf29557951', completion_window='24h', created_at=1736804293, endpoint='/v1/chat/completions', input_file_id='file-UNzHT5PdnQeAfMNjNLurxv', object='batch', status='validating', cancelled_at=None, cancelling_at=None, completed_at=None, error_file_id=None, errors=None, expired_at=None, expires_at=1736890693, failed_at=None, finalizing_at=None, in_progress_at=None, metadata={'description': 'sentence to negative facts'}, output_file_id=None, request_counts=BatchRequestCounts(completed=0, failed=0, total=0))\n",
      "2025-01-14 10:25:29,887 - \u001b[1;32mINFO\u001b[1;0m - HTTP Request: GET https://api.openai.com/v1/batches/batch_678587c5b98881908765b9cf29557951 \"HTTP/1.1 200 OK\"\n",
      "2025-01-14 10:25:29,895 - \u001b[1;32mINFO\u001b[1;0m - Batch: Batch(id='batch_678587c5b98881908765b9cf29557951', completion_window='24h', created_at=1736804293, endpoint='/v1/chat/completions', input_file_id='file-UNzHT5PdnQeAfMNjNLurxv', object='batch', status='completed', cancelled_at=None, cancelling_at=None, completed_at=1736821213, error_file_id=None, errors=None, expired_at=None, expires_at=1736890693, failed_at=None, finalizing_at=1736813140, in_progress_at=1736804311, metadata={'description': 'sentence to negative facts'}, output_file_id='file-29htvr7CMh5ahTNcUdar8u', request_counts=BatchRequestCounts(completed=50000, failed=0, total=50000))\n",
      "2025-01-14 10:25:29,895 - \u001b[1;32mINFO\u001b[1;0m - Batch status: completed\n",
      "2025-01-14 10:25:29,896 - \u001b[1;32mINFO\u001b[1;0m - Batch with input file ID file-UNzHT5PdnQeAfMNjNLurxv is completed\n",
      "2025-01-14 10:25:29,896 - \u001b[1;32mINFO\u001b[1;0m - Retrieving batch input file ID file-UNzHT5PdnQeAfMNjNLurxv\n",
      "2025-01-14 10:25:30,960 - \u001b[1;32mINFO\u001b[1;0m - HTTP Request: GET https://api.openai.com/v1/files/file-UNzHT5PdnQeAfMNjNLurxv/content \"HTTP/1.1 200 OK\"\n",
      "2025-01-14 10:25:36,417 - \u001b[1;32mINFO\u001b[1;0m - Retrieved metadata for 50000 queries\n",
      "2025-01-14 10:25:36,417 - \u001b[1;32mINFO\u001b[1;0m - Retrieving batch output file ID file-29htvr7CMh5ahTNcUdar8u\n",
      "2025-01-14 10:25:37,371 - \u001b[1;32mINFO\u001b[1;0m - HTTP Request: GET https://api.openai.com/v1/files/file-29htvr7CMh5ahTNcUdar8u/content \"HTTP/1.1 200 OK\"\n",
      "2025-01-14 10:25:42,415 - \u001b[1;31mERROR\u001b[1;0m - 161 error messages occurred while parsing responses\n",
      "2025-01-14 10:25:42,415 - \u001b[1;31mERROR\u001b[1;0m - Error parsing response {\"id\": \"batch_req_6785c96f45008190b06b3f147df3694b\", \"custom_id\": \"49333\", \"response\": {\"status_code\": 200, \"request_id\": \"6fc6bf4d08ddb7b6dbc20085a7db51e9\", \"body\": {\"id\": \"chatcmpl-ApOTMNHZJEx3BlhctBxM2xaElWFa0\", \"object\": \"chat.completion\", \"created\": 1736812164, \"model\": \"gpt-4o-mini-2024-07-18\", \"choices\": [{\"index\": 0, \"message\": {\"role\": \"assistant\", \"content\": \"{}\", \"refusal\": null}, \"logprobs\": null, \"finish_reason\": \"stop\"}], \"usage\": {\"prompt_tokens\": 375, \"completion_tokens\": 2, \"total_tokens\": 377, \"prompt_tokens_details\": {\"cached_tokens\": 0, \"audio_tokens\": 0}, \"completion_tokens_details\": {\"reasoning_tokens\": 0, \"audio_tokens\": 0, \"accepted_prediction_tokens\": 0, \"rejected_prediction_tokens\": 0}}, \"service_tier\": \"default\", \"system_fingerprint\": \"fp_bd83329f63\"}}, \"error\": null} for query \"comparison to 10:23\": Could not parse output: {}\n",
      "2025-01-14 10:25:42,415 - \u001b[1;31mERROR\u001b[1;0m - Error parsing response {\"id\": \"batch_req_6785b38d35008190b415ca697039b454\", \"custom_id\": \"14247\", \"response\": {\"status_code\": 200, \"request_id\": \"2ce37aa5cbe9da048ef6e0c3ea59204a\", \"body\": {\"id\": \"chatcmpl-ApN3NXQCLTbLv1wcMWrCdlQVpCUV9\", \"object\": \"chat.completion\", \"created\": 1736806709, \"model\": \"gpt-4o-mini-2024-07-18\", \"choices\": [{\"index\": 0, \"message\": {\"role\": \"assistant\", \"content\": \"{}\", \"refusal\": null}, \"logprobs\": null, \"finish_reason\": \"stop\"}], \"usage\": {\"prompt_tokens\": 373, \"completion_tokens\": 2, \"total_tokens\": 375, \"prompt_tokens_details\": {\"cached_tokens\": 0, \"audio_tokens\": 0}, \"completion_tokens_details\": {\"reasoning_tokens\": 0, \"audio_tokens\": 0, \"accepted_prediction_tokens\": 0, \"rejected_prediction_tokens\": 0}}, \"service_tier\": \"default\", \"system_fingerprint\": \"fp_72ed7ab54c\"}}, \"error\": null} for query \"question of T7\": Could not parse output: {}\n",
      "2025-01-14 10:25:42,415 - \u001b[1;31mERROR\u001b[1;0m - Error parsing response {\"id\": \"batch_req_6785c13040248190b72b85c584823de8\", \"custom_id\": \"35920\", \"response\": {\"status_code\": 200, \"request_id\": \"cb1ec02949e837bcf7d55d7e11f760bc\", \"body\": {\"id\": \"chatcmpl-ApNvLzGciwgTN8SpNd7aro3gkpUly\", \"object\": \"chat.completion\", \"created\": 1736810055, \"model\": \"gpt-4o-mini-2024-07-18\", \"choices\": [{\"index\": 0, \"message\": {\"role\": \"assistant\", \"content\": \"{}\", \"refusal\": null}, \"logprobs\": null, \"finish_reason\": \"stop\"}], \"usage\": {\"prompt_tokens\": 374, \"completion_tokens\": 2, \"total_tokens\": 376, \"prompt_tokens_details\": {\"cached_tokens\": 0, \"audio_tokens\": 0}, \"completion_tokens_details\": {\"reasoning_tokens\": 0, \"audio_tokens\": 0, \"accepted_prediction_tokens\": 0, \"rejected_prediction_tokens\": 0}}, \"service_tier\": \"default\", \"system_fingerprint\": \"fp_72ed7ab54c\"}}, \"error\": null} for query \"10:16 AM.\": Could not parse output: {}\n",
      "2025-01-14 10:25:42,415 - \u001b[1;31mERROR\u001b[1;0m - Error parsing response {\"id\": \"batch_req_6785af35f5e4819085547d9127a4ba5a\", \"custom_id\": \"7530\", \"response\": {\"status_code\": 200, \"request_id\": \"7883b317ba61bef3117242f0128cbd34\", \"body\": {\"id\": \"chatcmpl-ApMlBvasXgudZaNfXFlTv4T7gOs66\", \"object\": \"chat.completion\", \"created\": 1736805581, \"model\": \"gpt-4o-mini-2024-07-18\", \"choices\": [{\"index\": 0, \"message\": {\"role\": \"assistant\", \"content\": \"{}\", \"refusal\": null}, \"logprobs\": null, \"finish_reason\": \"stop\"}], \"usage\": {\"prompt_tokens\": 371, \"completion_tokens\": 2, \"total_tokens\": 373, \"prompt_tokens_details\": {\"cached_tokens\": 0, \"audio_tokens\": 0}, \"completion_tokens_details\": {\"reasoning_tokens\": 0, \"audio_tokens\": 0, \"accepted_prediction_tokens\": 0, \"rejected_prediction_tokens\": 0}}, \"service_tier\": \"default\", \"system_fingerprint\": \"fp_72ed7ab54c\"}}, \"error\": null} for query \"evolution\": Could not parse output: {}\n",
      "2025-01-14 10:25:42,415 - \u001b[1;31mERROR\u001b[1;0m - Error parsing response {\"id\": \"batch_req_6785ae8f89d48190a5c9f1982d4c5b81\", \"custom_id\": \"6520\", \"response\": {\"status_code\": 200, \"request_id\": \"6ad470954d46f1f855e1cc9732d20fca\", \"body\": {\"id\": \"chatcmpl-ApMhg4qBJZi8LhMupYupabmkHlqGq\", \"object\": \"chat.completion\", \"created\": 1736805364, \"model\": \"gpt-4o-mini-2024-07-18\", \"choices\": [{\"index\": 0, \"message\": {\"role\": \"assistant\", \"content\": \"{}\", \"refusal\": null}, \"logprobs\": null, \"finish_reason\": \"stop\"}], \"usage\": {\"prompt_tokens\": 376, \"completion_tokens\": 1, \"total_tokens\": 377, \"prompt_tokens_details\": {\"cached_tokens\": 0, \"audio_tokens\": 0}, \"completion_tokens_details\": {\"reasoning_tokens\": 0, \"audio_tokens\": 0, \"accepted_prediction_tokens\": 0, \"rejected_prediction_tokens\": 0}}, \"service_tier\": \"default\", \"system_fingerprint\": \"fp_bd83329f63\"}}, \"error\": null} for query \"11:08 AM 1.\": Could not parse output: {}\n",
      "2025-01-14 10:25:42,415 - \u001b[1;32mINFO\u001b[1;0m - Succesfully processed 49839 of 50000 API responses.\n",
      "                                    161 of 50000 API responses could not be processed.\n",
      "                                    Saving processed texts to /mnt/data/pamessina_folder_backup_15_10_24/pamessina/medvqa-workspace/cache/mimiccxr/openai/gpt-4o-mini_sentence_to_negative_facts.jsonl\n"
     ]
    }
   ],
   "source": [
    "!python ../../scripts/mimiccxr/extract_negative_facts_from_report_sentences_with_openai.py \\\n",
    "--batch_input_file_id \"file-UNzHT5PdnQeAfMNjNLurxv\" \\\n",
    "--logging_level \"INFO\" \\\n",
    "--api_key_name \"OPENAI_API_KEY_1\" \\\n",
    "--openai_model_name \"gpt-4o-mini\" \\\n",
    "--use_batch_api"
   ]
  },
  {
   "cell_type": "code",
   "execution_count": 24,
   "id": "0e5c8d05",
   "metadata": {},
   "outputs": [],
   "source": [
    "tmp1 = load_jsonl('/mnt/data/pamessina_folder_backup_15_10_24/pamessina/medvqa-workspace/cache/mimiccxr/openai/gpt-4o_sentence_to_negative_facts.jsonl')"
   ]
  },
  {
   "cell_type": "code",
   "execution_count": 68,
   "id": "2db390c0",
   "metadata": {},
   "outputs": [],
   "source": [
    "tmp2 = load_jsonl('/mnt/data/pamessina_folder_backup_15_10_24/pamessina/medvqa-workspace/cache/mimiccxr/openai/gpt-4o-mini_sentence_to_negative_facts.jsonl')"
   ]
  },
  {
   "cell_type": "code",
   "execution_count": 69,
   "id": "639bd512",
   "metadata": {},
   "outputs": [
    {
     "data": {
      "text/plain": [
       "(50436, 398547)"
      ]
     },
     "execution_count": 69,
     "metadata": {},
     "output_type": "execute_result"
    }
   ],
   "source": [
    "len(tmp1), len(tmp2)"
   ]
  },
  {
   "cell_type": "code",
   "execution_count": 62,
   "id": "c09a64c5",
   "metadata": {},
   "outputs": [
    {
     "name": "stdout",
     "output_type": "stream",
     "text": [
      "{'metadata': {'query': 'Again, an enlarged epipericardial fat pad is preserved.'}, 'parsed_response': {'reason': 'The statement indicates that the enlarged epipericardial fat pad is still present, suggesting that it has not resolved or changed. There are no indications of any abnormalities being ruled out in this context.', 'ruled_out_abnormalities': {}}}\n",
      "{'metadata': {'query': 'enlarged epipericardial fat pad is preserved'}, 'parsed_response': {'reason': \"The phrase 'is preserved' indicates that the enlarged epipericardial fat pad remains unchanged and does not suggest any abnormalities. Therefore, it rules out any pathological conditions related to the epipericardial fat pad.\", 'ruled_out_abnormalities': {'enlarged epipericardial fat pad is preserved': ['epipericardial fat pad abnormality', 'epipericardial fat pad pathology']}}}\n"
     ]
    }
   ],
   "source": [
    "import json\n",
    "q = \"enlarged epipericardial fat pad is preserved\"\n",
    "for x in tmp2:\n",
    "    if q in json.dumps(x):\n",
    "        print(x)"
   ]
  },
  {
   "cell_type": "code",
   "execution_count": 37,
   "id": "485ae638",
   "metadata": {},
   "outputs": [
    {
     "data": {
      "text/plain": [
       "{'metadata': {'query': 'difficult to exclude right base consolidation'},\n",
       " 'parsed_response': {'reason': 'The statement indicates uncertainty regarding the presence of consolidation at the right base, suggesting that it cannot be definitively ruled out. Therefore, no specific abnormalities can be excluded based on this information.',\n",
       "  'ruled_out_abnormalities': {}}}"
      ]
     },
     "execution_count": 37,
     "metadata": {},
     "output_type": "execute_result"
    }
   ],
   "source": [
    "tmp2[-1]"
   ]
  },
  {
   "cell_type": "code",
   "execution_count": 45,
   "id": "4cdfe276",
   "metadata": {},
   "outputs": [
    {
     "data": {
      "text/plain": [
       "43576"
      ]
     },
     "execution_count": 45,
     "metadata": {},
     "output_type": "execute_result"
    }
   ],
   "source": [
    "aux = [x for x in tmp2 if len(x['parsed_response']['ruled_out_abnormalities']) > 0]\n",
    "len(aux)"
   ]
  },
  {
   "cell_type": "code",
   "execution_count": 44,
   "id": "fc520d86",
   "metadata": {},
   "outputs": [
    {
     "data": {
      "text/plain": [
       "{'metadata': {'query': 'satisfactory reexpansion following unclamping'},\n",
       " 'parsed_response': {'reason': 'The sentence indicates that the reexpansion process was successful after unclamping, suggesting that the area in question is now normal.',\n",
       "  'ruled_out_abnormalities': {'satisfactory reexpansion': ['lung collapse',\n",
       "    'atelectasis']}}}"
      ]
     },
     "execution_count": 44,
     "metadata": {},
     "output_type": "execute_result"
    }
   ],
   "source": [
    "aux[100]"
   ]
  },
  {
   "cell_type": "code",
   "execution_count": 95,
   "id": "26bf7dc8",
   "metadata": {},
   "outputs": [
    {
     "data": {
      "text/plain": [
       "{'sentence': 'Mild cardiomegaly is unchanged, but pulmonary edema has worsened, most pronounced in the right upper lobe.',\n",
       " 'facts': ['mild cardiomegaly',\n",
       "  'unchanged mild cardiomegaly',\n",
       "  'worsened pulmonary edema',\n",
       "  'most pronounced pulmonary edema in the right upper lobe'],\n",
       " 'extraction_method': 't5-small-finetuned'}"
      ]
     },
     "execution_count": 95,
     "metadata": {},
     "output_type": "execute_result"
    }
   ],
   "source": [
    "integrated_sentence_facts[0]"
   ]
  },
  {
   "cell_type": "code",
   "execution_count": 110,
   "id": "319dd8b0",
   "metadata": {},
   "outputs": [
    {
     "name": "stdout",
     "output_type": "stream",
     "text": [
      "{'sentence': 'Subsequent radiographs demonstrate satisfactory reexpansion following unclamping.', 'facts': ['satisfactory reexpansion following unclamping'], 'extraction_method': 'gpt-4-0613'}\n"
     ]
    }
   ],
   "source": [
    "q = 'satisfactory reexpansion following unclamping'\n",
    "for x in integrated_sentence_facts:\n",
    "    if q in x['facts']:\n",
    "        print(x)\n",
    "        break"
   ]
  },
  {
   "cell_type": "code",
   "execution_count": 71,
   "id": "005a0d80",
   "metadata": {},
   "outputs": [
    {
     "name": "stdout",
     "output_type": "stream",
     "text": [
      "2025-01-16 14:36:09,596 - \u001b[1;32mINFO\u001b[1;0m - Loading preprocessed queries to skip from /mnt/data/pamessina_folder_backup_15_10_24/pamessina/medvqa-workspace/cache/mimiccxr/openai/gpt-4o_sentence_to_negative_facts.jsonl\n",
      "2025-01-16 14:36:10,230 - \u001b[1;32mINFO\u001b[1;0m - Loaded 50436 queries to skip\n",
      "2025-01-16 14:36:10,260 - \u001b[1;32mINFO\u001b[1;0m - Total number of queries to skip: 50436\n",
      "2025-01-16 14:36:10,260 - \u001b[1;32mINFO\u001b[1;0m - Loading preprocessed queries to skip from /mnt/data/pamessina_folder_backup_15_10_24/pamessina/medvqa-workspace/cache/mimiccxr/openai/gpt-4o-mini_sentence_to_negative_facts.jsonl\n",
      "2025-01-16 14:36:14,368 - \u001b[1;32mINFO\u001b[1;0m - Loaded 398547 queries to skip\n",
      "2025-01-16 14:36:14,619 - \u001b[1;32mINFO\u001b[1;0m - Total number of queries to skip: 448573\n",
      "2025-01-16 14:36:14,619 - \u001b[1;32mINFO\u001b[1;0m - Loading sentences from /home/pamessina/medvqa-workspace/cache/mimiccxr/integrated_sentence_facts(59349684,50956825).jsonl\n",
      "2025-01-16 14:36:20,446 - \u001b[1;32mINFO\u001b[1;0m - Found 429416 sentences to process\n",
      "2025-01-16 14:36:20,480 - \u001b[1;32mINFO\u001b[1;0m - Example sentences to process:\n",
      "2025-01-16 14:36:20,494 - \u001b[1;32mINFO\u001b[1;0m - 138455: There has been interval improvement of the bibasilar atelectasis with persistent linear scarring at the bases.\n",
      "2025-01-16 14:36:20,494 - \u001b[1;32mINFO\u001b[1;0m - 316933: The smaller caliber esophageal device, presumably feeding tube ends just above the diaphragm.\n",
      "2025-01-16 14:36:20,494 - \u001b[1;32mINFO\u001b[1;0m - 327260: Blunting of the lateral costophrenic angle seen on the left.\n",
      "2025-01-16 14:36:20,494 - \u001b[1;32mINFO\u001b[1;0m - 231270: Minimal atelectasis at the lung bases and in the retrocardiac lung areas.\n",
      "2025-01-16 14:36:20,494 - \u001b[1;32mINFO\u001b[1;0m - 380089: Minimal blunting of the left costophrenic angle is also present.\n",
      "2025-01-16 14:36:20,494 - \u001b[1;32mINFO\u001b[1;0m - 403758: There is increased retrocardiac density and blunting of the left costophrenic angle, similar to the prior study, compatible with left lower lobe collapse and/or consolidation and possible small left effusion.\n",
      "2025-01-16 14:36:20,494 - \u001b[1;32mINFO\u001b[1;0m - 292481: Single portable upright radiograph of chest was reviewed in comparison with prior studies from and .\n",
      "2025-01-16 14:36:20,494 - \u001b[1;32mINFO\u001b[1;0m - 401671: There is no superimposed pneumothorax or pleural effusion.\n",
      "2025-01-16 14:36:20,494 - \u001b[1;32mINFO\u001b[1;0m - 161118: Small left pleural effusion with adjacent atelectasis, similar to prior.\n",
      "2025-01-16 14:36:20,494 - \u001b[1;32mINFO\u001b[1;0m - 90294: Patient has had remote pneumonectomy.\n",
      "2025-01-16 14:36:20,494 - \u001b[1;32mINFO\u001b[1;0m - Example sentences to process:\n",
      "2025-01-16 14:36:20,509 - \u001b[1;32mINFO\u001b[1;0m - 36175: Blunting of the costophrenic angles suggests trace pleural effusions.\n",
      "2025-01-16 14:36:20,509 - \u001b[1;32mINFO\u001b[1;0m - 322419: Mild cardiomegaly and mediastinal vascular engorgement are slightly greater, but there is no pulmonary edema, small right pleural effusion is likely.\n",
      "2025-01-16 14:36:20,509 - \u001b[1;32mINFO\u001b[1;0m - 47428: Stable mild right pulmonary edema.\n",
      "2025-01-16 14:36:20,509 - \u001b[1;32mINFO\u001b[1;0m - 128601: Interval placement of right-sided pigtail pleural catheter is seen.\n",
      "2025-01-16 14:36:20,509 - \u001b[1;32mINFO\u001b[1;0m - 230241: Right subclavian line extends no less than 6 cm into the right internal jugular line.\n",
      "2025-01-16 14:36:20,509 - \u001b[1;32mINFO\u001b[1;0m - 131933: There is minimal bilateral atelectasis.\n",
      "2025-01-16 14:36:20,509 - \u001b[1;32mINFO\u001b[1;0m - 381714: No evidence of infection, malignancy, lung disease or heart failure.\n",
      "2025-01-16 14:36:20,509 - \u001b[1;32mINFO\u001b[1;0m - 421928: Left central venous infusion catheter ends in the upper right atrium.\n",
      "2025-01-16 14:36:20,509 - \u001b[1;32mINFO\u001b[1;0m - 300240: The visualized cardiac silhouette is normal.\n",
      "2025-01-16 14:36:20,509 - \u001b[1;32mINFO\u001b[1;0m - 44553: Opacification at the left base silhouetting the hemidiaphragm is consistent with pleural fluid and volume loss in the left lower lobe.\n",
      "metadata loaded from /mnt/data/pamessina/workspaces/medvqa-workspace/models/seq2seq/20250114_184937_report2negative_facts(r2nf)_Seq2Seq(t5-small)/metadata.json\n",
      "2025-01-16 14:36:20,583 - \u001b[1;32mINFO\u001b[1;0m - Creating Seq2SeqModel\n",
      "Seq2Seq model:\n",
      "  model_name: t5-small\n",
      "2025-01-16 14:36:21,780 - \u001b[1;32mINFO\u001b[1;0m - Loading model weights from /mnt/data/pamessina/workspaces/medvqa-workspace/models/seq2seq/20250114_184937_report2negative_facts(r2nf)_Seq2Seq(t5-small)\n",
      "checkpoint_names = ['checkpoint_27_s2s_loss=0.8850.pt']\n",
      "2025-01-16 14:36:21,780 - \u001b[1;32mINFO\u001b[1;0m - Loading model weights from /mnt/data/pamessina/workspaces/medvqa-workspace/models/seq2seq/20250114_184937_report2negative_facts(r2nf)_Seq2Seq(t5-small)/checkpoint_27_s2s_loss=0.8850.pt\n",
      "2025-01-16 14:36:29,438 - \u001b[1;32mINFO\u001b[1;0m - Creating tokenizer\n",
      "2025-01-16 14:36:29,739 - \u001b[1;32mINFO\u001b[1;0m - Creating dataloader\n",
      "2025-01-16 14:36:29,739 - \u001b[1;32mINFO\u001b[1;0m - Running inference\n",
      "  0%|                                                  | 0/1718 [00:00<?, ?it/s]2025-01-16 14:36:31,217 - \u001b[1;32mINFO\u001b[1;0m - Processed 1 sentences\n",
      "2025-01-16 14:36:31,218 - \u001b[1;32mINFO\u001b[1;0m - Example output:\n",
      "2025-01-16 14:36:31,218 - \u001b[1;32mINFO\u001b[1;0m - {'sentence': 'Small bilateral pleural effusions with adjacent lower lobe streaky opacities likely reflect compressive atelectasis.', 'ruled_out_abnormalities': {}}\n",
      "  1%|▍                                        | 20/1718 [00:16<22:42,  1.25it/s]2025-01-16 14:36:47,127 - \u001b[1;32mINFO\u001b[1;0m - Processed 5001 sentences\n",
      "2025-01-16 14:36:47,127 - \u001b[1;32mINFO\u001b[1;0m - Example output:\n",
      "2025-01-16 14:36:47,127 - \u001b[1;32mINFO\u001b[1;0m - {'sentence': 'There is bilateral hilar congestion with mild pulmonary alveolar edema.', 'ruled_out_abnormalities': {}}\n",
      "  2%|▉                                        | 38/1718 [00:31<23:24,  1.20it/s]2025-01-16 14:37:04,272 - \u001b[1;32mINFO\u001b[1;0m - Processed 10001 sentences\n",
      "2025-01-16 14:37:04,272 - \u001b[1;32mINFO\u001b[1;0m - Example output:\n",
      "2025-01-16 14:37:04,272 - \u001b[1;32mINFO\u001b[1;0m - {'sentence': 'A left chest wall ICD is seen with the lead in the expected location of the right ventricle.', 'ruled_out_abnormalities': {}}\n",
      "  3%|█▍                                       | 59/1718 [00:49<23:17,  1.19it/s]2025-01-16 14:37:21,773 - \u001b[1;32mINFO\u001b[1;0m - Processed 15001 sentences\n",
      "2025-01-16 14:37:21,773 - \u001b[1;32mINFO\u001b[1;0m - Example output:\n",
      "2025-01-16 14:37:21,773 - \u001b[1;32mINFO\u001b[1;0m - {'sentence': 'The hilar cardiomediastinal contours are normal.', 'ruled_out_abnormalities': {'normal hilar cardiomediastinal contours': ['hilar mass', 'cardiomediastinal enlargement']}}\n",
      " 31%|████████████▌                           | 540/1718 [07:56<18:26,  1.06it/s]2025-01-16 14:44:27,641 - \u001b[1;33mWARNING\u001b[1;0m - Failed to process output text: \"left upper lobe pneumonia is improved\": [\"left upper lobe pneumonia\"], \"small left pleural effusion has resolved\": [\"left pleural effusion\"], \"small right pleural effusion is unchanged\": [\"new right pleural effusion\"], \"residual atelectasis is stable since., for sentence: Left upper lobe pneumonia is improved, small left pleural effusion has resolved, small right pleural effusion is unchanged, and residual atelectasis is stable since ., idx: 135463\n",
      "2025-01-16 14:44:27,641 - \u001b[1;33mWARNING\u001b[1;0m - Exception: Expecting property name enclosed in double quotes: line 1 column 222 (char 221)\n",
      " 35%|█████████████▉                          | 600/1718 [08:47<15:57,  1.17it/s]2025-01-16 14:45:20,093 - \u001b[1;33mWARNING\u001b[1;0m - Failed to process output text: \"appropriate positioning of right chest tube\": [\"malposition of right chest tube\", \"displacement of right chest tube\"], \"appropriate positioning of left pigtail\": [\"malposition of left pigtail\", \"left pigtail opacity\"], \"appropriate positioning of NG tube\": [\"malposition of NG tube\", \"displacement of NG tube\"], \"appropriate positioning of right subclavian\": [\"malposition of right subclavian right subclavian position\"], \"appropriate positioning of NG tube\": [\"malposition of right subclavian, \"malposition of right subclavian tube\"], for sentence: Right chest tube, left pigtail, NG tube, right subclavian, and NG tube all in appropriate positioning., idx: 150609\n",
      "2025-01-16 14:45:20,093 - \u001b[1;33mWARNING\u001b[1;0m - Exception: Expecting property name enclosed in double quotes: line 1 column 425 (char 424)\n"
     ]
    },
    {
     "name": "stdout",
     "output_type": "stream",
     "text": [
      " 94%|████████████████████████████████████▌  | 1612/1718 [25:12<02:08,  1.21s/it]2025-01-16 15:01:47,676 - \u001b[1;33mWARNING\u001b[1;0m - Failed to process output text: \"unchanged heart contours\": [\"cardiomegaly\", \"heart enlargement\"], \"unchanged mediastinal contours\": [\"mediastinal mass\", \"mediastinal widening\"], \"unchanged mediastinal surgical clips\": [\"mediastinal mass\", \"mediastinal widening\"], \"unchanged mediastinal contours\": [\"mediastinal mass\", \"mediastinal widening\"], \"unchanged mediastinal contours\": [\"mediastinal mass\", \"mediastinal widening\"], \"unchanged mediastinal contours\": [\"mediastinal mass\", \"mediastinal widening\"], \"unchanged mediastinal contours\": [\"mediastinal mass\", \"mediastinal widening\"], \"unchanged mediastinal contours\": [\"mediastinal mass\", \"mediastinal widening\"], \"unchanged mediastinal contours\": [\", for sentence: The heart and mediastinal contours, along with mediastinal surgical clips and sternotomy wires, are unchanged., idx: 403251\n",
      "2025-01-16 15:01:47,676 - \u001b[1;33mWARNING\u001b[1;0m - Exception: Expecting property name enclosed in double quotes: line 1 column 635 (char 634)\n",
      "100%|███████████████████████████████████████| 1718/1718 [27:28<00:00,  1.04it/s]\n",
      "2025-01-16 15:03:57,862 - \u001b[1;33mWARNING\u001b[1;0m - Failed to process 3 sentences\n",
      "2025-01-16 15:03:57,862 - \u001b[1;32mINFO\u001b[1;0m - Successfully processed 429413 sentences\n",
      "2025-01-16 15:03:57,863 - \u001b[1;32mINFO\u001b[1;0m - Example output:\n",
      "2025-01-16 15:03:57,863 - \u001b[1;32mINFO\u001b[1;0m - {'sentence': 'Increased right perihilar opacity concerning for pneumonia.', 'ruled_out_abnormalities': {}}\n",
      "2025-01-16 15:03:57,863 - \u001b[1;32mINFO\u001b[1;0m - Saving outputs to /home/pamessina/medvqa-workspace/cache/mimiccxr/huggingface/negative_facts_from_report_sentences_Seq2Seq(t5-small)_250_1_20250116_150357.jsonl\n",
      "2025-01-16 15:04:02,522 - \u001b[1;32mINFO\u001b[1;0m - Saving unprocessed sentences to /home/pamessina/medvqa-workspace/cache/mimiccxr/huggingface/negative_facts_from_report_sentences_Seq2Seq(t5-small)_250_1_20250116_15035.unprocessed.jsonl\n",
      "2025-01-16 15:04:02,523 - \u001b[1;32mINFO\u001b[1;0m - DONE\n"
     ]
    }
   ],
   "source": [
    "!python ../../scripts/mimiccxr/extract_negative_facts_from_report_sentences_with_transformer.py \\\n",
    "--preprocessed_queries_to_skip_filepaths \\\n",
    "\"/mnt/data/pamessina_folder_backup_15_10_24/pamessina/medvqa-workspace/cache/mimiccxr/openai/gpt-4o_sentence_to_negative_facts.jsonl\" \\\n",
    "\"/mnt/data/pamessina_folder_backup_15_10_24/pamessina/medvqa-workspace/cache/mimiccxr/openai/gpt-4o-mini_sentence_to_negative_facts.jsonl\" \\\n",
    "--integrated_sentence_facts_jsonl_filepath \\\n",
    "\"/home/pamessina/medvqa-workspace/cache/mimiccxr/integrated_sentence_facts(59349684,50956825).jsonl\" \\\n",
    "--logging_level \"INFO\" \\\n",
    "--checkpoint_folder_path \\\n",
    "\"/mnt/data/pamessina/workspaces/medvqa-workspace/models/seq2seq/20250114_184937_report2negative_facts(r2nf)_Seq2Seq(t5-small)\" \\\n",
    "--batch_size 250 \\\n",
    "--num_beams 1 \\\n",
    "--max_length 250 \\\n",
    "--num_workers 4"
   ]
  },
  {
   "cell_type": "code",
   "execution_count": 72,
   "id": "28eb72d0",
   "metadata": {},
   "outputs": [],
   "source": [
    "tmp = load_jsonl('/home/pamessina/medvqa-workspace/cache/mimiccxr/huggingface/negative_facts_from_report_sentences_Seq2Seq(t5-small)_250_1_20250116_150357.jsonl')"
   ]
  },
  {
   "cell_type": "code",
   "execution_count": 73,
   "id": "031359bb",
   "metadata": {},
   "outputs": [
    {
     "data": {
      "text/plain": [
       "429413"
      ]
     },
     "execution_count": 73,
     "metadata": {},
     "output_type": "execute_result"
    }
   ],
   "source": [
    "len(tmp)"
   ]
  },
  {
   "cell_type": "code",
   "execution_count": 103,
   "id": "9dfd14f8",
   "metadata": {},
   "outputs": [
    {
     "data": {
      "text/plain": [
       "{'sentence': 'There is slight elevation of the left hemidiaphragm with blunting of the left costophrenic angle and atelectasis at the left lung base, similar to the prior film.',\n",
       " 'ruled_out_abnormalities': {}}"
      ]
     },
     "execution_count": 103,
     "metadata": {},
     "output_type": "execute_result"
    }
   ],
   "source": [
    "tmp[-45]"
   ]
  },
  {
   "cell_type": "code",
   "execution_count": 104,
   "id": "7bab0f90",
   "metadata": {},
   "outputs": [],
   "source": [
    "tmp2 = load_jsonl('/home/pamessina/medvqa-workspace/cache/mimiccxr/huggingface/negative_facts_from_report_sentences_Seq2Seq(t5-small)_250_1_20250116_15035.unprocessed.jsonl')"
   ]
  },
  {
   "cell_type": "code",
   "execution_count": 105,
   "id": "351b1d2d",
   "metadata": {},
   "outputs": [
    {
     "data": {
      "text/plain": [
       "['Left upper lobe pneumonia is improved, small left pleural effusion has resolved, small right pleural effusion is unchanged, and residual atelectasis is stable since .',\n",
       " 'Right chest tube, left pigtail, NG tube, right subclavian, and NG tube all in appropriate positioning.',\n",
       " 'The heart and mediastinal contours, along with mediastinal surgical clips and sternotomy wires, are unchanged.']"
      ]
     },
     "execution_count": 105,
     "metadata": {},
     "output_type": "execute_result"
    }
   ],
   "source": [
    "tmp2"
   ]
  },
  {
   "cell_type": "code",
   "execution_count": 106,
   "id": "e30a9401",
   "metadata": {
    "scrolled": true
   },
   "outputs": [
    {
     "name": "stdout",
     "output_type": "stream",
     "text": [
      "2025-01-16 15:26:26,306 - \u001b[1;32mINFO\u001b[1;0m - Loading preprocessed queries to skip from /mnt/data/pamessina_folder_backup_15_10_24/pamessina/medvqa-workspace/cache/mimiccxr/openai/gpt-4o_sentence_to_negative_facts.jsonl\n",
      "2025-01-16 15:26:26,930 - \u001b[1;32mINFO\u001b[1;0m - Loaded 50436 queries to skip\n",
      "2025-01-16 15:26:26,960 - \u001b[1;32mINFO\u001b[1;0m - Total number of queries to skip: 50436\n",
      "2025-01-16 15:26:26,961 - \u001b[1;32mINFO\u001b[1;0m - Loading preprocessed queries to skip from /mnt/data/pamessina_folder_backup_15_10_24/pamessina/medvqa-workspace/cache/mimiccxr/openai/gpt-4o-mini_sentence_to_negative_facts.jsonl\n",
      "2025-01-16 15:26:31,007 - \u001b[1;32mINFO\u001b[1;0m - Loaded 398547 queries to skip\n",
      "2025-01-16 15:26:31,265 - \u001b[1;32mINFO\u001b[1;0m - Total number of queries to skip: 448573\n",
      "2025-01-16 15:26:31,265 - \u001b[1;32mINFO\u001b[1;0m - Loading preprocessed queries to skip from /home/pamessina/medvqa-workspace/cache/mimiccxr/huggingface/negative_facts_from_report_sentences_Seq2Seq(t5-small)_250_1_20250116_150357.jsonl\n",
      "2025-01-16 15:26:34,434 - \u001b[1;32mINFO\u001b[1;0m - Loaded 429413 queries to skip\n",
      "2025-01-16 15:26:34,884 - \u001b[1;32mINFO\u001b[1;0m - Total number of queries to skip: 877986\n",
      "2025-01-16 15:26:34,884 - \u001b[1;32mINFO\u001b[1;0m - Loading sentences from /home/pamessina/medvqa-workspace/cache/mimiccxr/integrated_sentence_facts(59349684,50956825).jsonl\n",
      "2025-01-16 15:26:40,341 - \u001b[1;32mINFO\u001b[1;0m - Found 3 sentences to process\n",
      "2025-01-16 15:26:40,341 - \u001b[1;32mINFO\u001b[1;0m - Example sentences to process:\n",
      "2025-01-16 15:26:40,341 - \u001b[1;32mINFO\u001b[1;0m - 1: Right chest tube, left pigtail, NG tube, right subclavian, and NG tube all in appropriate positioning.\n",
      "2025-01-16 15:26:40,341 - \u001b[1;32mINFO\u001b[1;0m - 2: Left upper lobe pneumonia is improved, small left pleural effusion has resolved, small right pleural effusion is unchanged, and residual atelectasis is stable since .\n",
      "2025-01-16 15:26:40,341 - \u001b[1;32mINFO\u001b[1;0m - 0: The heart and mediastinal contours, along with mediastinal surgical clips and sternotomy wires, are unchanged.\n",
      "2025-01-16 15:26:40,341 - \u001b[1;32mINFO\u001b[1;0m - Example sentences to process:\n",
      "2025-01-16 15:26:40,342 - \u001b[1;32mINFO\u001b[1;0m - 0: The heart and mediastinal contours, along with mediastinal surgical clips and sternotomy wires, are unchanged.\n",
      "2025-01-16 15:26:40,342 - \u001b[1;32mINFO\u001b[1;0m - 1: Right chest tube, left pigtail, NG tube, right subclavian, and NG tube all in appropriate positioning.\n",
      "2025-01-16 15:26:40,342 - \u001b[1;32mINFO\u001b[1;0m - 2: Left upper lobe pneumonia is improved, small left pleural effusion has resolved, small right pleural effusion is unchanged, and residual atelectasis is stable since .\n",
      "metadata loaded from /mnt/data/pamessina/workspaces/medvqa-workspace/models/seq2seq/20250114_184937_report2negative_facts(r2nf)_Seq2Seq(t5-small)/metadata.json\n",
      "2025-01-16 15:26:40,385 - \u001b[1;32mINFO\u001b[1;0m - Creating Seq2SeqModel\n",
      "Seq2Seq model:\n",
      "  model_name: t5-small\n",
      "2025-01-16 15:26:41,540 - \u001b[1;32mINFO\u001b[1;0m - Loading model weights from /mnt/data/pamessina/workspaces/medvqa-workspace/models/seq2seq/20250114_184937_report2negative_facts(r2nf)_Seq2Seq(t5-small)\n",
      "checkpoint_names = ['checkpoint_27_s2s_loss=0.8850.pt']\n",
      "2025-01-16 15:26:41,540 - \u001b[1;32mINFO\u001b[1;0m - Loading model weights from /mnt/data/pamessina/workspaces/medvqa-workspace/models/seq2seq/20250114_184937_report2negative_facts(r2nf)_Seq2Seq(t5-small)/checkpoint_27_s2s_loss=0.8850.pt\n",
      "2025-01-16 15:26:41,949 - \u001b[1;32mINFO\u001b[1;0m - Creating tokenizer\n",
      "2025-01-16 15:26:42,226 - \u001b[1;32mINFO\u001b[1;0m - Creating dataloader\n",
      "2025-01-16 15:26:42,227 - \u001b[1;32mINFO\u001b[1;0m - Running inference\n",
      "  0%|                                                     | 0/1 [00:00<?, ?it/s]2025-01-16 15:26:45,732 - \u001b[1;32mINFO\u001b[1;0m - Processed 1 sentences\n",
      "2025-01-16 15:26:45,732 - \u001b[1;32mINFO\u001b[1;0m - Example output:\n",
      "2025-01-16 15:26:45,732 - \u001b[1;32mINFO\u001b[1;0m - {'sentence': 'The heart and mediastinal contours, along with mediastinal surgical clips and sternotomy wires, are unchanged.', 'ruled_out_abnormalities': {'unchanged heart contours': ['cardiomegaly', 'heart enlargement'], 'unchanged mediastinal contours': ['mediastinal mass', 'mediastinal widening'], 'unchanged mediastinal surgical clips': ['mediastinal mass', 'mediastinal widening'], 'unchanged sternotomy wires': ['sternotomy wire displacement', 'sternotomy wire fracture']}}\n",
      "100%|█████████████████████████████████████████████| 1/1 [00:03<00:00,  3.57s/it]\n",
      "2025-01-16 15:26:45,798 - \u001b[1;32mINFO\u001b[1;0m - Successfully processed 3 sentences\n",
      "2025-01-16 15:26:45,798 - \u001b[1;32mINFO\u001b[1;0m - Example output:\n",
      "2025-01-16 15:26:45,798 - \u001b[1;32mINFO\u001b[1;0m - {'sentence': 'Left upper lobe pneumonia is improved, small left pleural effusion has resolved, small right pleural effusion is unchanged, and residual atelectasis is stable since .', 'ruled_out_abnormalities': {'left upper lobe pneumonia has resolved': ['left upper lobe pneumonia'], 'small left pleural effusion has resolved': ['left pleural effusion']}}\n",
      "2025-01-16 15:26:45,798 - \u001b[1;32mINFO\u001b[1;0m - Saving outputs to /home/pamessina/medvqa-workspace/cache/mimiccxr/huggingface/negative_facts_from_report_sentences_Seq2Seq(t5-small)_250_5_20250116_152645.jsonl\n",
      "2025-01-16 15:26:45,799 - \u001b[1;32mINFO\u001b[1;0m - DONE\n"
     ]
    }
   ],
   "source": [
    "!python ../../scripts/mimiccxr/extract_negative_facts_from_report_sentences_with_transformer.py \\\n",
    "--preprocessed_queries_to_skip_filepaths \\\n",
    "\"/mnt/data/pamessina_folder_backup_15_10_24/pamessina/medvqa-workspace/cache/mimiccxr/openai/gpt-4o_sentence_to_negative_facts.jsonl\" \\\n",
    "\"/mnt/data/pamessina_folder_backup_15_10_24/pamessina/medvqa-workspace/cache/mimiccxr/openai/gpt-4o-mini_sentence_to_negative_facts.jsonl\" \\\n",
    "\"/home/pamessina/medvqa-workspace/cache/mimiccxr/huggingface/negative_facts_from_report_sentences_Seq2Seq(t5-small)_250_1_20250116_150357.jsonl\" \\\n",
    "--integrated_sentence_facts_jsonl_filepath \\\n",
    "\"/home/pamessina/medvqa-workspace/cache/mimiccxr/integrated_sentence_facts(59349684,50956825).jsonl\" \\\n",
    "--logging_level \"INFO\" \\\n",
    "--checkpoint_folder_path \\\n",
    "\"/mnt/data/pamessina/workspaces/medvqa-workspace/models/seq2seq/20250114_184937_report2negative_facts(r2nf)_Seq2Seq(t5-small)\" \\\n",
    "--batch_size 250 \\\n",
    "--num_beams 5 \\\n",
    "--max_length 250 \\\n",
    "--num_workers 4"
   ]
  },
  {
   "cell_type": "code",
   "execution_count": 107,
   "id": "71372127",
   "metadata": {},
   "outputs": [
    {
     "data": {
      "text/plain": [
       "[{'sentence': 'The heart and mediastinal contours, along with mediastinal surgical clips and sternotomy wires, are unchanged.',\n",
       "  'ruled_out_abnormalities': {'unchanged heart contours': ['cardiomegaly',\n",
       "    'heart enlargement'],\n",
       "   'unchanged mediastinal contours': ['mediastinal mass',\n",
       "    'mediastinal widening'],\n",
       "   'unchanged mediastinal surgical clips': ['mediastinal mass',\n",
       "    'mediastinal widening'],\n",
       "   'unchanged sternotomy wires': ['sternotomy wire displacement',\n",
       "    'sternotomy wire fracture']}},\n",
       " {'sentence': 'Right chest tube, left pigtail, NG tube, right subclavian, and NG tube all in appropriate positioning.',\n",
       "  'ruled_out_abnormalities': {'appropriate positioning of right chest tube': ['malposition of right chest tube',\n",
       "    'displacement of right chest tube'],\n",
       "   'appropriate positioning of left pigtail': ['malposition of left pigtail',\n",
       "    'displacement of left pigtail'],\n",
       "   'appropriate positioning of NG tube': ['malposition of right subclavian tube',\n",
       "    'malposition of right subclavian tube'],\n",
       "   'appropriate positioning of right subclavian': ['malposition of right subclavian right subclavian position']}},\n",
       " {'sentence': 'Left upper lobe pneumonia is improved, small left pleural effusion has resolved, small right pleural effusion is unchanged, and residual atelectasis is stable since .',\n",
       "  'ruled_out_abnormalities': {'left upper lobe pneumonia has resolved': ['left upper lobe pneumonia'],\n",
       "   'small left pleural effusion has resolved': ['left pleural effusion']}}]"
      ]
     },
     "execution_count": 107,
     "metadata": {},
     "output_type": "execute_result"
    }
   ],
   "source": [
    "load_jsonl('/home/pamessina/medvqa-workspace/cache/mimiccxr/huggingface/negative_facts_from_report_sentences_Seq2Seq(t5-small)_250_5_20250116_152645.jsonl')"
   ]
  },
  {
   "cell_type": "code",
   "execution_count": 122,
   "id": "35d1182d",
   "metadata": {
    "scrolled": true
   },
   "outputs": [
    {
     "name": "stdout",
     "output_type": "stream",
     "text": [
      "Loading extracted negative facts from /mnt/data/pamessina_folder_backup_15_10_24/pamessina/medvqa-workspace/cache/mimiccxr/openai/gpt-4o_sentence_to_negative_facts.jsonl...\n",
      "100%|██████████████████████████████████| 50436/50436 [00:00<00:00, 80554.53it/s]\n",
      "Loading extracted negative facts from /mnt/data/pamessina_folder_backup_15_10_24/pamessina/medvqa-workspace/cache/mimiccxr/openai/gpt-4o-mini_sentence_to_negative_facts.jsonl...\n",
      "  0%|                                                | 0/398547 [00:00<?, ?it/s]\u001b[31mWarning: sentence \"no suggestion of TRALI/TACO in the pulmonary\" already found with different output. s2ra[s] = {'no suggestion of TRALI in the pulmonary': ['pulmonary TRALI'], 'no suggestion of TACO in the pulmonary': ['pulmonary TACO']}, ra = {'no suggestion of TRALI': ['Transfusion-Related Acute Lung Injury'], 'no suggestion of TACO': ['Transfusion-Associated Circulatory Overload']}\u001b[0m\n",
      "\u001b[31mWarning: sentence \"likely benign 1.8-cm sclerotic focus over the anterior right fifth rib\" already found with different output. s2ra[s] = {}, ra = {'likely benign sclerotic focus': ['malignant bone lesion', 'aggressive bone lesion']}\u001b[0m\n",
      "\u001b[31mWarning: sentence \"no acute intra-intrathoracic process\" already found with different output. s2ra[s] = {'no acute intra-intrathoracic process': ['acute intrathoracic disease', 'acute thoracic pathology']}, ra = {'no acute intra-thoracic process': ['acute pneumonia', 'acute pleural effusion']}\u001b[0m\n",
      "\u001b[31mWarning: sentence \"lungs without CJF\" already found with different output. s2ra[s] = {'lungs without CJF': ['congestive heart failure']}, ra = {}\u001b[0m\n",
      "\u001b[31mWarning: sentence \"Well aligned sternotomy wires\" already found with different output. s2ra[s] = {'well aligned sternotomy wires': ['sternotomy wire displacement', 'sternotomy wire misalignment']}, ra = {'well aligned sternotomy wires': ['sternotomy wire displacement', 'sternotomy wire malposition']}\u001b[0m\n",
      "\u001b[31mWarning: sentence \"right pneumothorax has Re 0 current\" already found with different output. s2ra[s] = {}, ra = {'right pneumothorax has Re 0 current': ['right pneumothorax']}\u001b[0m\n",
      "\u001b[31mWarning: sentence \"uninterrupted tracheal air column\" already found with different output. s2ra[s] = {'uninterrupted tracheal air column': ['tracheal obstruction', 'tracheal stenosis']}, ra = {'uninterrupted tracheal air column': ['tracheal obstruction', 'tracheal mass']}\u001b[0m\n",
      "\u001b[31mWarning: sentence \"clear lungs above the level of the obligatory relaxation atelectasis at the lung bases\" already found with different output. s2ra[s] = {'clear lungs above the level of the obligatory relaxation atelectasis at the lung bases': ['pneumonia above the level of the obligatory relaxation atelectasis', 'pulmonary edema above the level of the obligatory relaxation atelectasis']}, ra = {'clear lungs': ['pulmonary consolidation', 'pulmonary nodules']}\u001b[0m\n",
      "\u001b[31mWarning: sentence \"Atrioventricular pacer defibrillator leads unchanged in their respective positions continuous from the left pectoral generator\" already found with different output. s2ra[s] = {}, ra = {'unchanged atrioventricular pacer defibrillator leads': ['displacement of atrioventricular pacer defibrillator leads', 'malposition of atrioventricular pacer defibrillator leads']}\u001b[0m\n",
      "\u001b[31mWarning: sentence \"Intact left pectoral MediPort terminates in the mid SVC\" already found with different output. s2ra[s] = {'intact left pectoral MediPort': ['MediPort dislocation', 'MediPort malfunction']}, ra = {}\u001b[0m\n",
      "\u001b[31mWarning: sentence \"correlation with Clinical History to exclude the possibility of cardiac disease\" already found with different output. s2ra[s] = {}, ra = {'exclude the possibility of cardiac disease': ['cardiac disease']}\u001b[0m\n",
      "\u001b[31mWarning: sentence \"almost certainly not pulmonary edema\" already found with different output. s2ra[s] = {}, ra = {'almost certainly not pulmonary edema': ['pulmonary edema']}\u001b[0m\n",
      "\u001b[31mWarning: sentence \"resolved minute peripheral plate atelectasis on the left base\" already found with different output. s2ra[s] = {'resolved minute peripheral plate atelectasis on the left base': ['minute peripheral plate atelectasis on the left base']}, ra = {'resolved minute peripheral plate atelectasis on the left base': ['left base atelectasis']}\u001b[0m\n",
      "\u001b[31mWarning: sentence \"Standard positioning in the cavoatrial junction\" already found with different output. s2ra[s] = {'standard positioning in the cavoatrial junction': ['cavoatrial junction abnormality', 'cavoatrial junction malposition']}, ra = {}\u001b[0m\n",
      "\u001b[31mWarning: sentence \"relatively uniform soft-tissue appearance in the remainder of the upper zone\" already found with different output. s2ra[s] = {'relatively uniform soft-tissue appearance in the remainder of the upper zone': ['soft tissue lesion in the upper zone', 'soft tissue mass in the upper zone']}, ra = {'relatively uniform soft-tissue appearance': ['soft tissue mass', 'soft tissue edema']}\u001b[0m\n",
      "\u001b[31mWarning: sentence \"no large Imaged osseous structures intact\" already found with different output. s2ra[s] = {'intact imaged osseous structures': ['bone fracture', 'bone lesion']}, ra = {'no large osseous structures intact': ['large bone fracture', 'large bone lesion']}\u001b[0m\n",
      " 33%|██████████▋                     | 132402/398547 [00:02<00:04, 66181.41it/s]\u001b[31mWarning: sentence \"Healed lateral right ninth rib fracture\" already found with different output. s2ra[s] = {}, ra = {'healed lateral right ninth rib fracture': ['right ninth rib fracture']}\u001b[0m\n",
      "\u001b[31mWarning: sentence \"Metallic clips are intact\" already found with different output. s2ra[s] = {'intact metallic clips': ['metallic clip displacement', 'metallic clip malfunction']}, ra = {'metallic clips are intact': ['metallic clip displacement', 'metallic clip fracture']}\u001b[0m\n",
      "\u001b[31mWarning: sentence \"no PLEURAL EFFUSION\" already found with different output. s2ra[s] = {'no pleural effusion': ['pleural effusion']}, ra = {'no PLEURAL EFFUSION': ['pleural effusion']}\u001b[0m\n",
      "\u001b[31mWarning: sentence \"rib fractures with exception of the ninth right rib\" already found with different output. s2ra[s] = {'exception of the ninth right rib': ['right ninth rib fracture']}, ra = {'ninth right rib intact': ['ninth right rib fracture']}\u001b[0m\n",
      "100%|████████████████████████████████| 398547/398547 [00:06<00:00, 58335.54it/s]\n",
      "Loading extracted negative facts from /home/pamessina/medvqa-workspace/cache/mimiccxr/huggingface/negative_facts_from_report_sentences_Seq2Seq(t5-small)_250_1_20250116_150357.jsonl...\n",
      "100%|████████████████████████████████| 429413/429413 [00:09<00:00, 43760.86it/s]\n",
      "Loading extracted negative facts from /home/pamessina/medvqa-workspace/cache/mimiccxr/huggingface/negative_facts_from_report_sentences_Seq2Seq(t5-small)_250_5_20250116_152645.jsonl...\n",
      "100%|███████████████████████████████████████████| 3/3 [00:00<00:00, 2409.60it/s]\n",
      "2025-01-16 16:45:08,802 - \u001b[1;32mINFO\u001b[1;0m - Skipped 410 sentences with conflicting outputs\n",
      "2025-01-16 16:45:13,748 - \u001b[1;32mINFO\u001b[1;0m - Total number of rows: 877989\n",
      "2025-01-16 16:45:13,748 - \u001b[1;32mINFO\u001b[1;0m - Total length: 157625400\n",
      "2025-01-16 16:45:18,840 - \u001b[1;32mINFO\u001b[1;0m - Saved integrated negative facts to /home/pamessina/medvqa-workspace/cache/mimiccxr/integrated_sentence_to_negative_facts(877989,157625400).jsonl\n"
     ]
    }
   ],
   "source": [
    "!python ../../scripts/mimiccxr/extract_negative_facts_from_report_sentences_with_transformer.py \\\n",
    "--integrate_files \\\n",
    "--jsonl_filepaths_to_integrate \\\n",
    "\"/mnt/data/pamessina_folder_backup_15_10_24/pamessina/medvqa-workspace/cache/mimiccxr/openai/gpt-4o_sentence_to_negative_facts.jsonl\" \\\n",
    "\"/mnt/data/pamessina_folder_backup_15_10_24/pamessina/medvqa-workspace/cache/mimiccxr/openai/gpt-4o-mini_sentence_to_negative_facts.jsonl\" \\\n",
    "\"/home/pamessina/medvqa-workspace/cache/mimiccxr/huggingface/negative_facts_from_report_sentences_Seq2Seq(t5-small)_250_1_20250116_150357.jsonl\" \\\n",
    "\"/home/pamessina/medvqa-workspace/cache/mimiccxr/huggingface/negative_facts_from_report_sentences_Seq2Seq(t5-small)_250_5_20250116_152645.jsonl\" \\\n",
    "--extraction_methods \\\n",
    "\"gpt-4o\" \\\n",
    "\"gpt-4o-mini\" \\\n",
    "\"t5-small-finetuned\" \\\n",
    "\"t5-small-finetuned\""
   ]
  },
  {
   "cell_type": "code",
   "execution_count": 669,
   "id": "bcec4422",
   "metadata": {
    "scrolled": true
   },
   "outputs": [
    {
     "name": "stdout",
     "output_type": "stream",
     "text": [
      "Loading extracted negative facts from /mnt/data/pamessina_folder_backup_15_10_24/pamessina/medvqa-workspace/cache/mimiccxr/openai/gpt-4o_sentence_to_negative_facts.jsonl...\n",
      "100%|██████████████████████████████████| 50436/50436 [00:00<00:00, 79538.22it/s]\n",
      "Loading extracted negative facts from /mnt/data/pamessina_folder_backup_15_10_24/pamessina/medvqa-workspace/cache/mimiccxr/openai/gpt-4o-mini_sentence_to_negative_facts.jsonl...\n",
      "  0%|                                                | 0/398547 [00:00<?, ?it/s]\u001b[31mWarning: sentence \"no suggestion of TRALI/TACO in the pulmonary\" already found with different output. s2ra[s] = {'no suggestion of TRALI in the pulmonary': ['pulmonary TRALI'], 'no suggestion of TACO in the pulmonary': ['pulmonary TACO']}, ra = {'no suggestion of TRALI': ['Transfusion-Related Acute Lung Injury'], 'no suggestion of TACO': ['Transfusion-Associated Circulatory Overload']}\u001b[0m\n",
      "\u001b[31mWarning: sentence \"likely benign 1.8-cm sclerotic focus over the anterior right fifth rib\" already found with different output. s2ra[s] = {}, ra = {'likely benign sclerotic focus': ['malignant bone lesion', 'aggressive bone lesion']}\u001b[0m\n",
      "\u001b[31mWarning: sentence \"no acute intra-intrathoracic process\" already found with different output. s2ra[s] = {'no acute intra-intrathoracic process': ['acute intrathoracic disease', 'acute thoracic pathology']}, ra = {'no acute intra-thoracic process': ['acute pneumonia', 'acute pleural effusion']}\u001b[0m\n",
      "\u001b[31mWarning: sentence \"lungs without CJF\" already found with different output. s2ra[s] = {'lungs without CJF': ['congestive heart failure']}, ra = {}\u001b[0m\n",
      "\u001b[31mWarning: sentence \"Well aligned sternotomy wires\" already found with different output. s2ra[s] = {'well aligned sternotomy wires': ['sternotomy wire displacement', 'sternotomy wire misalignment']}, ra = {'well aligned sternotomy wires': ['sternotomy wire displacement', 'sternotomy wire malposition']}\u001b[0m\n",
      "\u001b[31mWarning: sentence \"right pneumothorax has Re 0 current\" already found with different output. s2ra[s] = {}, ra = {'right pneumothorax has Re 0 current': ['right pneumothorax']}\u001b[0m\n",
      "\u001b[31mWarning: sentence \"uninterrupted tracheal air column\" already found with different output. s2ra[s] = {'uninterrupted tracheal air column': ['tracheal obstruction', 'tracheal stenosis']}, ra = {'uninterrupted tracheal air column': ['tracheal obstruction', 'tracheal mass']}\u001b[0m\n",
      "\u001b[31mWarning: sentence \"clear lungs above the level of the obligatory relaxation atelectasis at the lung bases\" already found with different output. s2ra[s] = {'clear lungs above the level of the obligatory relaxation atelectasis at the lung bases': ['pneumonia above the level of the obligatory relaxation atelectasis', 'pulmonary edema above the level of the obligatory relaxation atelectasis']}, ra = {'clear lungs': ['pulmonary consolidation', 'pulmonary nodules']}\u001b[0m\n",
      "\u001b[31mWarning: sentence \"Atrioventricular pacer defibrillator leads unchanged in their respective positions continuous from the left pectoral generator\" already found with different output. s2ra[s] = {}, ra = {'unchanged atrioventricular pacer defibrillator leads': ['displacement of atrioventricular pacer defibrillator leads', 'malposition of atrioventricular pacer defibrillator leads']}\u001b[0m\n",
      "\u001b[31mWarning: sentence \"Intact left pectoral MediPort terminates in the mid SVC\" already found with different output. s2ra[s] = {'intact left pectoral MediPort': ['MediPort dislocation', 'MediPort malfunction']}, ra = {}\u001b[0m\n",
      "\u001b[31mWarning: sentence \"correlation with Clinical History to exclude the possibility of cardiac disease\" already found with different output. s2ra[s] = {}, ra = {'exclude the possibility of cardiac disease': ['cardiac disease']}\u001b[0m\n",
      "\u001b[31mWarning: sentence \"almost certainly not pulmonary edema\" already found with different output. s2ra[s] = {}, ra = {'almost certainly not pulmonary edema': ['pulmonary edema']}\u001b[0m\n",
      "\u001b[31mWarning: sentence \"resolved minute peripheral plate atelectasis on the left base\" already found with different output. s2ra[s] = {'resolved minute peripheral plate atelectasis on the left base': ['minute peripheral plate atelectasis on the left base']}, ra = {'resolved minute peripheral plate atelectasis on the left base': ['left base atelectasis']}\u001b[0m\n",
      "\u001b[31mWarning: sentence \"Standard positioning in the cavoatrial junction\" already found with different output. s2ra[s] = {'standard positioning in the cavoatrial junction': ['cavoatrial junction abnormality', 'cavoatrial junction malposition']}, ra = {}\u001b[0m\n",
      "\u001b[31mWarning: sentence \"relatively uniform soft-tissue appearance in the remainder of the upper zone\" already found with different output. s2ra[s] = {'relatively uniform soft-tissue appearance in the remainder of the upper zone': ['soft tissue lesion in the upper zone', 'soft tissue mass in the upper zone']}, ra = {'relatively uniform soft-tissue appearance': ['soft tissue mass', 'soft tissue edema']}\u001b[0m\n",
      " 33%|██████████▌                     | 131044/398547 [00:02<00:04, 65513.60it/s]\u001b[31mWarning: sentence \"no large Imaged osseous structures intact\" already found with different output. s2ra[s] = {'intact imaged osseous structures': ['bone fracture', 'bone lesion']}, ra = {'no large osseous structures intact': ['large bone fracture', 'large bone lesion']}\u001b[0m\n",
      "\u001b[31mWarning: sentence \"Healed lateral right ninth rib fracture\" already found with different output. s2ra[s] = {}, ra = {'healed lateral right ninth rib fracture': ['right ninth rib fracture']}\u001b[0m\n",
      "\u001b[31mWarning: sentence \"Metallic clips are intact\" already found with different output. s2ra[s] = {'intact metallic clips': ['metallic clip displacement', 'metallic clip malfunction']}, ra = {'metallic clips are intact': ['metallic clip displacement', 'metallic clip fracture']}\u001b[0m\n",
      "\u001b[31mWarning: sentence \"no PLEURAL EFFUSION\" already found with different output. s2ra[s] = {'no pleural effusion': ['pleural effusion']}, ra = {'no PLEURAL EFFUSION': ['pleural effusion']}\u001b[0m\n",
      "\u001b[31mWarning: sentence \"rib fractures with exception of the ninth right rib\" already found with different output. s2ra[s] = {'exception of the ninth right rib': ['right ninth rib fracture']}, ra = {'ninth right rib intact': ['ninth right rib fracture']}\u001b[0m\n",
      "100%|████████████████████████████████| 398547/398547 [00:06<00:00, 58225.32it/s]\n",
      "Loading extracted negative facts from /home/pamessina/medvqa-workspace/cache/mimiccxr/huggingface/negative_facts_from_report_sentences_Seq2Seq(t5-small)_250_1_20250116_150357.jsonl...\n",
      "100%|████████████████████████████████| 429413/429413 [00:09<00:00, 44004.95it/s]\n",
      "Loading extracted negative facts from /home/pamessina/medvqa-workspace/cache/mimiccxr/huggingface/negative_facts_from_report_sentences_Seq2Seq(t5-small)_250_5_20250116_152645.jsonl...\n",
      "100%|███████████████████████████████████████████| 3/3 [00:00<00:00, 2382.68it/s]\n",
      "2025-01-20 09:06:44,227 - \u001b[1;32mINFO\u001b[1;0m - Skipped 410 sentences with conflicting outputs\n",
      "2025-01-20 09:06:49,108 - \u001b[1;32mINFO\u001b[1;0m - Total number of rows: 877989\n",
      "2025-01-20 09:06:49,108 - \u001b[1;32mINFO\u001b[1;0m - Total length: 157547664\n",
      "2025-01-20 09:06:54,114 - \u001b[1;32mINFO\u001b[1;0m - Saved integrated negative facts to /home/pamessina/medvqa-workspace/cache/mimiccxr/integrated_sentence_to_negative_facts(877989,157547664).jsonl\n"
     ]
    }
   ],
   "source": [
    "!python ../../scripts/mimiccxr/extract_negative_facts_from_report_sentences_with_transformer.py \\\n",
    "--integrate_files \\\n",
    "--jsonl_filepaths_to_integrate \\\n",
    "\"/mnt/data/pamessina_folder_backup_15_10_24/pamessina/medvqa-workspace/cache/mimiccxr/openai/gpt-4o_sentence_to_negative_facts.jsonl\" \\\n",
    "\"/mnt/data/pamessina_folder_backup_15_10_24/pamessina/medvqa-workspace/cache/mimiccxr/openai/gpt-4o-mini_sentence_to_negative_facts.jsonl\" \\\n",
    "\"/home/pamessina/medvqa-workspace/cache/mimiccxr/huggingface/negative_facts_from_report_sentences_Seq2Seq(t5-small)_250_1_20250116_150357.jsonl\" \\\n",
    "\"/home/pamessina/medvqa-workspace/cache/mimiccxr/huggingface/negative_facts_from_report_sentences_Seq2Seq(t5-small)_250_5_20250116_152645.jsonl\" \\\n",
    "--extraction_methods \\\n",
    "\"gpt-4o\" \\\n",
    "\"gpt-4o-mini\" \\\n",
    "\"t5-small-finetuned\" \\\n",
    "\"t5-small-finetuned\""
   ]
  },
  {
   "cell_type": "code",
   "execution_count": 153,
   "id": "38be8c16",
   "metadata": {
    "scrolled": true
   },
   "outputs": [
    {
     "name": "stdout",
     "output_type": "stream",
     "text": [
      "\u001b[1m\u001b[34mRunning _find_facts_similar_to_anchor_facts()...\u001b[0m\n",
      "len(anchor_facts): 25\n",
      "min_similarity_threshold: 0.65\n",
      "Loading /home/pamessina/medvqa-workspace/cache/mimiccxr/huggingface/integrated_fact_metadata(591920,209004293).jsonl...\n",
      "len(banned_facts): 112282\n",
      "Loaded 479638 unique facts (skipped 112282 facts)\n",
      "Loaded 250466 unique general facts\n",
      "Loading /home/pamessina/medvqa-workspace/cache/mimiccxr/integrated_sentence_to_negative_facts(877989,157625400).jsonl...\n",
      "len(unique_negative_facts): 21243\n",
      "checkpoint_names = ['checkpoint_196_cacc+chf1+chf1+cscc+encc+hscc+nlcc+sass+spss+ta0)+ta1)+ta2)+ta0)+ta1)+ta2)+ta3)+ta4)+ta5)+ta6)+ta7)=0.9189.pt']\n",
      "  0%|                                                | 0/479638 [00:00<?, ?it/s]Loading cached text embeddings from /mnt/data/pamessina_folder_backup_15_10_24/pamessina/medvqa-workspace/cache/text_embeddings_cache(hash=469,680486110513564934).pkl\n",
      "len(self.cache[\"hashes\"]) = 1570498\n",
      "self.cache[\"embeddings\"].shape = (1570498, 128)\n",
      "100%|███████████████████████████████| 479638/479638 [00:02<00:00, 222656.50it/s]\n",
      "100%|███████████████████████████████| 250466/250466 [00:00<00:00, 438897.12it/s]\n",
      "100%|█████████████████████████████████| 21243/21243 [00:00<00:00, 367678.78it/s]\n",
      "100%|████████████████████████████████████████| 25/25 [00:00<00:00, 96287.97it/s]\n",
      "unique_specific_fact_embeddings.shape: (479638, 128)\n",
      "unique_general_fact_embeddings.shape: (250466, 128)\n",
      "unique_negative_fact_embeddings.shape: (21243, 128)\n",
      "anchor_fact_embeddings.shape: (25, 128)\n",
      "Finding similar facts...\n",
      "100%|███████████████████████████████████████████| 25/25 [00:00<00:00, 74.43it/s]\n",
      "100%|███████████████████████████████| 591920/591920 [00:01<00:00, 416664.21it/s]\n",
      "\u001b[93m\u001b[1mNOTE: 84920 None values in most_similar_to_specific_fact. Computing them...\u001b[0m\n",
      "100%|█████████████████████████████████| 84920/84920 [00:00<00:00, 420453.81it/s]\n",
      "100%|███████████████████████████████████████████| 25/25 [00:01<00:00, 19.76it/s]\n",
      "\u001b[93m\u001b[1mNOTE: 2105 None values in most_similar_to_general_fact. Computing them...\u001b[0m\n",
      "100%|███████████████████████████████████| 2105/2105 [00:00<00:00, 240973.00it/s]\n",
      "100%|██████████████████████████████████████████| 25/25 [00:00<00:00, 701.78it/s]\n",
      "\u001b[93m\u001b[1mNOTE: 1163 None values in most_similar_to_negative_fact. Computing them...\u001b[0m\n",
      "100%|███████████████████████████████████| 1163/1163 [00:00<00:00, 221685.85it/s]\n",
      "100%|█████████████████████████████████████████| 25/25 [00:00<00:00, 1023.20it/s]\n",
      "len(preserved_specific_facts): 129898\n",
      "len(preserved_general_facts): 44029\n",
      "len(preserved_negative_facts): 5972\n",
      "Saving /mnt/data/pamessina_folder_backup_15_10_24/pamessina/medvqa-workspace/cache/mimiccxr_find_facts_similar_to_anchor_facts(af=25,sf=129898,gf=44029,nf=5972,minsimth=0.650)(hash=686,1961964868541064712).pkl...\n",
      "\u001b[1m\u001b[34mDone!\u001b[0m\n"
     ]
    }
   ],
   "source": [
    "!python ../../scripts/mimiccxr/find_pos_neg_facts_per_report_around_reference_classes.py \\\n",
    "--task \"find_facts_similar_to_anchor_facts\" \\\n",
    "--integrated_fact_metadata_jsonl_filepath \\\n",
    "\"/home/pamessina/medvqa-workspace/cache/mimiccxr/huggingface/integrated_fact_metadata(591920,209004293).jsonl\" \\\n",
    "--integrated_sentence_to_negative_facts_jsonl_filepath \\\n",
    "\"/home/pamessina/medvqa-workspace/cache/mimiccxr/integrated_sentence_to_negative_facts(877989,157625400).jsonl\" \\\n",
    "--fact_embedding_model_name \"microsoft/BiomedVLP-CXR-BERT-specialized\" \\\n",
    "--fact_embedding_model_checkpoint_folder_path \\\n",
    "\"/mnt/data/pamessina/workspaces/medvqa-workspace/models/fact_embedding/20240629_084405_MIMIC-CXR(triplets+classif+entcont+nli+radgraph+autoencoder)_FactEncoder(microsoft-BiomedVLP-CXR-BERT-specialized)\" \\\n",
    "--fact_embedding_batch_size 200 \\\n",
    "--fact_embedding_num_workers 4 \\\n",
    "--min_similarity_threshold 0.65 \\\n",
    "--use_vindrcxr_facts"
   ]
  },
  {
   "cell_type": "code",
   "execution_count": 166,
   "id": "5b1e9bd0",
   "metadata": {},
   "outputs": [
    {
     "name": "stdout",
     "output_type": "stream",
     "text": [
      "-rw-rw-r-- 1 pamessina socvis 12M Jan 16 19:54 '/mnt/data/pamessina_folder_backup_15_10_24/pamessina/medvqa-workspace/cache/mimiccxr_find_facts_similar_to_anchor_facts(af=25,sf=129898,gf=44029,nf=5972,minsimth=0.650)(hash=686,1961964868541064712).pkl'\r\n"
     ]
    }
   ],
   "source": [
    "!ls -lh \"/mnt/data/pamessina_folder_backup_15_10_24/pamessina/medvqa-workspace/cache/mimiccxr_find_facts_similar_to_anchor_facts(af=25,sf=129898,gf=44029,nf=5972,minsimth=0.650)(hash=686,1961964868541064712).pkl\""
   ]
  },
  {
   "cell_type": "code",
   "execution_count": 167,
   "id": "d5d3fd45",
   "metadata": {},
   "outputs": [],
   "source": [
    "tmp = load_pickle(\"/mnt/data/pamessina_folder_backup_15_10_24/pamessina/medvqa-workspace/cache/mimiccxr_find_facts_similar_to_anchor_facts(af=25,sf=129898,gf=44029,nf=5972,minsimth=0.650)(hash=686,1961964868541064712).pkl\")"
   ]
  },
  {
   "cell_type": "code",
   "execution_count": 168,
   "id": "a77e7035",
   "metadata": {},
   "outputs": [
    {
     "data": {
      "text/plain": [
       "dict_keys(['anchor_facts', 'preserved_general_facts', 'preserved_specific_facts', 'preserved_negative_facts', 'most_similar_to_specific_fact', 'most_similar_to_general_fact', 'most_similar_to_negative_fact'])"
      ]
     },
     "execution_count": 168,
     "metadata": {},
     "output_type": "execute_result"
    }
   ],
   "source": [
    "tmp.keys()"
   ]
  },
  {
   "cell_type": "code",
   "execution_count": 169,
   "id": "b6e8a057",
   "metadata": {},
   "outputs": [
    {
     "name": "stdout",
     "output_type": "stream",
     "text": [
      "44029\n",
      "129898\n",
      "5972\n"
     ]
    }
   ],
   "source": [
    "print(len(tmp['preserved_general_facts']))\n",
    "print(len(tmp['preserved_specific_facts']))\n",
    "print(len(tmp['preserved_negative_facts']))"
   ]
  },
  {
   "cell_type": "code",
   "execution_count": 177,
   "id": "c5c9315a",
   "metadata": {},
   "outputs": [
    {
     "data": {
      "text/plain": [
       "0"
      ]
     },
     "execution_count": 177,
     "metadata": {},
     "output_type": "execute_result"
    }
   ],
   "source": [
    "class_idx = tmp['anchor_facts'].index('aortic enlargement')\n",
    "class_idx"
   ]
  },
  {
   "cell_type": "code",
   "execution_count": 178,
   "id": "6a0484ed",
   "metadata": {},
   "outputs": [
    {
     "data": {
      "text/plain": [
       "(1690, 6641, 308)"
      ]
     },
     "execution_count": 178,
     "metadata": {},
     "output_type": "execute_result"
    }
   ],
   "source": [
    "idxs1 = [i for i, x in enumerate(tmp['most_similar_to_general_fact']) if x is not None and x[1] == class_idx]\n",
    "idxs1.sort(key=lambda idx: tmp['most_similar_to_general_fact'][idx][0], reverse=True)\n",
    "\n",
    "idxs2 = [i for i, x in enumerate(tmp['most_similar_to_specific_fact']) if x[1] == class_idx]\n",
    "idxs2.sort(key=lambda idx: tmp['most_similar_to_specific_fact'][idx][0], reverse=True)\n",
    "\n",
    "idxs3 = [i for i, x in enumerate(tmp['most_similar_to_negative_fact']) if x[1] == class_idx]\n",
    "idxs3.sort(key=lambda idx: tmp['most_similar_to_negative_fact'][idx][0], reverse=True)\n",
    "\n",
    "len(idxs1), len(idxs2), len(idxs3)"
   ]
  },
  {
   "cell_type": "code",
   "execution_count": 179,
   "id": "a33925a8",
   "metadata": {
    "scrolled": true
   },
   "outputs": [
    {
     "name": "stdout",
     "output_type": "stream",
     "text": [
      "0.9999999403953552\taortic enlargement (aortic enlargement)\n",
      "0.2240704447031021\tSternotomy wires identified (aortic enlargement)\n",
      "0.36848869919776917\tpossible hypervascularity (aortic enlargement)\n",
      "0.42150241136550903\tcalcification in vascular structures (aortic enlargement)\n",
      "0.4432164132595062\tlymphadenopathy indicative of infection (aortic enlargement)\n",
      "0.46396884322166443\tpossibility of dilated vessels (aortic enlargement)\n",
      "0.4664706587791443\tobscured hilar contours (aortic enlargement)\n",
      "0.4679085314273834\tprominent aortic knob unchanged (aortic enlargement)\n",
      "0.4816696345806122\tenlargement of the graft (aortic enlargement)\n",
      "0.49418818950653076\tunchanged aneurysmal dilatation (aortic enlargement)\n",
      "0.5017157196998596\ttortuous but normal caliber aorta (aortic enlargement)\n",
      "0.5034435987472534\tdistortion of vascular architecture (aortic enlargement)\n",
      "0.5075288414955139\tpossible aneurysm (aortic enlargement)\n",
      "0.5127377510070801\tpersistent marked tortuosity (aortic enlargement)\n",
      "0.5275207757949829\tperihilar edema (aortic enlargement)\n",
      "0.5307711362838745\tknown aneurysm and dissection (aortic enlargement)\n",
      "0.5416773557662964\tmild-to-moderate tortuosity (aortic enlargement)\n",
      "0.5427258014678955\tprobable aortic aneurysm (aortic enlargement)\n",
      "0.5450958013534546\tpossible substantial aneurysm (aortic enlargement)\n",
      "0.545310914516449\tfusiform aneurysm (aortic enlargement)\n",
      "0.5467325448989868\tbiapical pleural thickening (aortic enlargement)\n",
      "0.5568830966949463\tfindings concerning for aortic aneurysm (aortic enlargement)\n",
      "0.5619335770606995\tlikely aneurysm (aortic enlargement)\n",
      "0.5713102221488953\taortic dissection (aortic enlargement)\n",
      "0.5737882256507874\tprominence of the cardiomediastinal area (aortic enlargement)\n",
      "0.5763372182846069\tfindings suggestive of aortic aneurysm (aortic enlargement)\n",
      "0.5858222246170044\tprominent hila (aortic enlargement)\n",
      "0.588588297367096\tpersistent mediastinal widening (aortic enlargement)\n",
      "0.5914881229400635\tesophageal deflection by the aorta (aortic enlargement)\n",
      "0.5917013883590698\tectasia (aortic enlargement)\n",
      "0.5919055938720703\tsaccular aneurysm (aortic enlargement)\n",
      "0.5964207053184509\tdisplacement by a tortuous artery (aortic enlargement)\n",
      "0.5985362529754639\tnonspecific biapical scarring (aortic enlargement)\n",
      "0.599858820438385\textensive aneurysmal dilation (aortic enlargement)\n",
      "0.5999186635017395\tdiffuse aneurysmal dilation (aortic enlargement)\n",
      "0.6001805663108826\tleft lung obscured by a large thoracic aorta (aortic enlargement)\n",
      "0.6055018901824951\tcalcification along the descending aorta (aortic enlargement)\n",
      "0.6057093739509583\tright hilar fullness (aortic enlargement)\n",
      "0.6086979508399963\tmassive increase in diameter of the aortic arch (aortic enlargement)\n",
      "0.6092958450317383\tcalcification of the aortic annulus (aortic enlargement)\n",
      "0.609961748123169\tincidental finding of azygos fissure (aortic enlargement)\n",
      "0.6115697026252747\tenlargement of the spleen (aortic enlargement)\n",
      "0.6147011518478394\telongation of the descending aorta (aortic enlargement)\n",
      "0.6157941222190857\tdifferential diagnosis includes calcified splenic artery aneurysm (aortic enlargement)\n",
      "0.6188620328903198\tdissection of the aortic knob contour (aortic enlargement)\n",
      "0.6201412677764893\tunchanged aortic tortuosity (aortic enlargement)\n",
      "0.6212854385375977\tdense arch calcifications (aortic enlargement)\n",
      "0.6221710443496704\tvascular indistinctness consistent with volume overload (aortic enlargement)\n",
      "0.6229937076568604\tcalcification in arteries (aortic enlargement)\n",
      "0.6232971549034119\tasymmetrical parenchymal scarring greater on the left (aortic enlargement)\n",
      "0.6236171722412109\tcardiac decompensation status (aortic enlargement)\n",
      "0.6237300634384155\tcalcification of aortic knob persists (aortic enlargement)\n",
      "0.6252572536468506\taortic arch pseudoaneurysm (aortic enlargement)\n",
      "0.6253355741500854\tprominent focal aneurysmal dilatation (aortic enlargement)\n",
      "0.6266024112701416\tstable aortic tortuosity (aortic enlargement)\n",
      "0.626929759979248\tfibrosis in the left supra hilar region (aortic enlargement)\n",
      "0.6272227168083191\tvascular prominence suggestive of fluid overload (aortic enlargement)\n",
      "0.6279661655426025\tinflammatory prominence (aortic enlargement)\n",
      "0.6296831965446472\theart size due to aneurysm (aortic enlargement)\n",
      "0.6305805444717407\tcalcification in aortic knuckle persists (aortic enlargement)\n",
      "0.6311076283454895\telongated descending aorta (aortic enlargement)\n",
      "0.6312816143035889\thilar prominence (aortic enlargement)\n",
      "0.631836473941803\tpossible worsening of cardiac function (aortic enlargement)\n",
      "0.6319230198860168\tevidence for enlargement (aortic enlargement)\n",
      "0.6323514580726624\tdisplacement due to tortuous aorta (aortic enlargement)\n",
      "0.6328996419906616\tcalcifications in the aortic annulus (aortic enlargement)\n",
      "0.6340803503990173\tmild dilation of the ascending aorta (aortic enlargement)\n",
      "0.6344668865203857\tmild tortuosity of the aorta (aortic enlargement)\n",
      "0.6347789168357849\taneurysmatic dilatation (aortic enlargement)\n",
      "0.6347790956497192\tAneurysmatic dilatation (aortic enlargement)\n",
      "0.6358972787857056\tcalcification and tortuosity (aortic enlargement)\n",
      "0.6366432905197144\ttortuous aorta unchanged (aortic enlargement)\n",
      "0.6367535591125488\tpossible dilation of the descending aorta (aortic enlargement)\n",
      "0.6371321678161621\tmild elongation of aorta (aortic enlargement)\n",
      "0.6386966109275818\tintimal calcification of the aortic knob (aortic enlargement)\n",
      "0.6391200423240662\twidened mediastinum suggesting cardiac decompensation (aortic enlargement)\n",
      "0.6393717527389526\tenlargement of known fibroid (aortic enlargement)\n",
      "0.6396639347076416\truptured aortic arch aneurysm (aortic enlargement)\n",
      "0.6406744718551636\tenlargement of the liver (aortic enlargement)\n",
      "0.640762984752655\tunchanged tortuous aorta (aortic enlargement)\n",
      "0.6408625841140747\tdense aortic knob with atherosclerotic calcifications (aortic enlargement)\n",
      "0.6409512758255005\tmild aneurysmal dilatation (aortic enlargement)\n",
      "0.6411466002464294\tapical scarring (aortic enlargement)\n",
      "0.6416348218917847\tdisplacement possibly due to a tortuous enlarged artery (aortic enlargement)\n",
      "0.642238974571228\taortic aneurysm (aortic enlargement)\n",
      "0.6426064968109131\tsaccular aortic arch aneurysm (aortic enlargement)\n",
      "0.6433110237121582\tbiapical scarring (aortic enlargement)\n",
      "0.6436889171600342\taorta appearance altered by positioning (aortic enlargement)\n",
      "0.6437792778015137\tdilated azygos vein (aortic enlargement)\n",
      "0.6439863443374634\tvascular prominence compatible with fluid overload (aortic enlargement)\n",
      "0.6454342603683472\tcontour abnormality suggesting enlargement (aortic enlargement)\n",
      "0.646033525466919\tscarring in the upper lung apex (aortic enlargement)\n",
      "0.64607834815979\tmild tortuous course of aorta (aortic enlargement)\n",
      "0.6462595462799072\tincrease in size of pseudoaneurysm (aortic enlargement)\n",
      "0.6475300788879395\tpredominantly upper lobe pulmonary fibrosis (aortic enlargement)\n",
      "0.6483259201049805\tlarge aortic aneurysm (aortic enlargement)\n",
      "0.6487244963645935\tfibrosis in the upper lung (aortic enlargement)\n",
      "0.6490675806999207\ttortuous ascending aorta unchanged (aortic enlargement)\n",
      "0.6494204998016357\tconsiderable calcification of aortic knob (aortic enlargement)\n",
      "0.6502211093902588\tpseudoaneurysm projecting off the aorta (aortic enlargement)\n"
     ]
    }
   ],
   "source": [
    "for i in range(0, min(100, len(idxs1))):\n",
    "    i = idxs1[-i]\n",
    "    anc = tmp['anchor_facts'][tmp['most_similar_to_general_fact'][i][1]]\n",
    "    fac = tmp['preserved_general_facts'][i]\n",
    "    sim = tmp['most_similar_to_general_fact'][i][0]\n",
    "    print(f'{sim}\\t{fac} ({anc})')"
   ]
  },
  {
   "cell_type": "code",
   "execution_count": 180,
   "id": "afd4a925",
   "metadata": {
    "scrolled": true
   },
   "outputs": [
    {
     "name": "stdout",
     "output_type": "stream",
     "text": [
      "0.9999999403953552\taortic enlargement (aortic enlargement)\n",
      "0.13645142316818237\tareas of opacification above the right hemidiaphragmatic contour (aortic enlargement)\n",
      "0.1393778920173645\tmilder hazy right perihilar opacification (aortic enlargement)\n",
      "0.14035749435424805\trounded structure overlying the left upper quadrant (aortic enlargement)\n",
      "0.14656345546245575\tlocalized area of opacification in the left upper zone (aortic enlargement)\n",
      "0.16093005239963531\tradiopaque areas in the left upper quadrant (aortic enlargement)\n",
      "0.16949015855789185\tradiopaque densities projecting over left upper quadrant (aortic enlargement)\n",
      "0.1708667278289795\tradiopaque densities projecting over the left upper quadrant (aortic enlargement)\n",
      "0.17104472219944\tleft perihilar round opacification less well seen (aortic enlargement)\n",
      "0.17327085137367249\tring like densities within the left upper quadrant of the abdomen (aortic enlargement)\n",
      "0.1902197152376175\tlobulated density projecting over the left upper zone (aortic enlargement)\n",
      "0.19256757199764252\tcurvilinear haziness in the left mid/upper zone (aortic enlargement)\n",
      "0.19444403052330017\tradiopaque densities projected over left upper quadrant (aortic enlargement)\n",
      "0.19461709260940552\topacification sparing the left upper lobe (aortic enlargement)\n",
      "0.1956663429737091\treverted mediastinal veins (aortic enlargement)\n",
      "0.19725511968135834\theart size identified on portable AP single view examination (aortic enlargement)\n",
      "0.20132938027381897\tbulging of the mid portion of the descending aorta towards the left (aortic enlargement)\n",
      "0.20661674439907074\tslightly more well defined mass-like opacity in the left upper lobe compared to the previous study (aortic enlargement)\n",
      "0.20894289016723633\tradiopaque densities in the left upper abdomen (aortic enlargement)\n",
      "0.21595832705497742\tsubtle areas of increased opacity in the left upper lobe (aortic enlargement)\n",
      "0.2193840742111206\tunchanged slight increase in diameter of the pulmonary artery on the left (aortic enlargement)\n",
      "0.2238600254058838\telongated density in the right suprahilar midlung (aortic enlargement)\n",
      "0.22930222749710083\theterogeneous consolidation in the left upper lobe (aortic enlargement)\n",
      "0.23260071873664856\trounded opacity in the superior left upper lobe (aortic enlargement)\n",
      "0.2335316240787506\tovoid opacity projecting over the left upper lung (aortic enlargement)\n",
      "0.23517508804798126\tspiculated nodule in the left upper zone (aortic enlargement)\n",
      "0.240152508020401\tfocal area of opacification in the right perihilar region (aortic enlargement)\n",
      "0.24199962615966797\tvague small opacity in the left upper lung (aortic enlargement)\n",
      "0.24215826392173767\tincreased opacity at the right hemidiaphragm (aortic enlargement)\n",
      "0.2424827516078949\tunchanged asymmetric pulmonary opacification at the left perihilar lung (aortic enlargement)\n",
      "0.24248722195625305\tadditional opacities adjacent to the aortic knob (aortic enlargement)\n",
      "0.24387335777282715\tfocal opacity at the medial left lung apex (aortic enlargement)\n",
      "0.24478895962238312\tpatchy left mid lung opacity likely within the lingula (aortic enlargement)\n",
      "0.245113343000412\tfocal opacity in the medial left upper lobe (aortic enlargement)\n",
      "0.24549029767513275\tresidual atelectasis in the right perihilar region (aortic enlargement)\n",
      "0.24619126319885254\tincreased prominence of the pulmonary vessels in the left mid zone (aortic enlargement)\n",
      "0.24628494679927826\topacity projecting over the left upper chest (aortic enlargement)\n",
      "0.24747982621192932\tincreased opacity along the left hemidiaphragm (aortic enlargement)\n",
      "0.24799764156341553\tfocal opacity in the left upper zone (aortic enlargement)\n",
      "0.24911344051361084\tpreexisting atelectasis in the upper zones of the left lung (aortic enlargement)\n",
      "0.24924516677856445\tincreased streaky opacities in the left mid lung field (aortic enlargement)\n",
      "0.24973884224891663\theterogeneous opacification in the upper lobe (aortic enlargement)\n",
      "0.2519238591194153\tworsening opacities within the left perihilar region (aortic enlargement)\n",
      "0.25224077701568604\topacity to the left of the aortic knob (aortic enlargement)\n",
      "0.2536050081253052\tconfluence of shadows in the right medial lung (aortic enlargement)\n",
      "0.2547387480735779\thazy perihilar opacities on the left (aortic enlargement)\n",
      "0.2556716799736023\tincreasing asymmetric opacities in the right perihilar region (aortic enlargement)\n",
      "0.25730445981025696\tconsolidative opacities in the upper left lung (aortic enlargement)\n",
      "0.25749024748802185\tirregular density overlying left upper quadrant (aortic enlargement)\n",
      "0.2575019896030426\trounded opacity in the left upper lung (aortic enlargement)\n",
      "0.257535457611084\tfocal irregular appearing opacity in the lateral left upper lobe (aortic enlargement)\n",
      "0.25783592462539673\tarea of patchy atelectasis in the left upper lung (aortic enlargement)\n",
      "0.26110848784446716\topacities in the left upper lung (aortic enlargement)\n",
      "0.2625555992126465\tengorged vessels in the upper mediastinum (aortic enlargement)\n",
      "0.2626049220561981\tpre-existing opacities in the left perihilar lung zones (aortic enlargement)\n",
      "0.26299676299095154\tknown neo esophagus (aortic enlargement)\n",
      "0.2634217143058777\tnodular opacities similar in appearance in the left upper lung (aortic enlargement)\n",
      "0.2641482353210449\tdense material in the left upper quadrant (aortic enlargement)\n",
      "0.2645500898361206\tovoid radiopacity in the upper left lung field (aortic enlargement)\n",
      "0.2650630474090576\tsubtle developing opacities in the left upper lobe (aortic enlargement)\n",
      "0.2653976082801819\theterogeneous left upper lobe opacification (aortic enlargement)\n",
      "0.26581376791000366\tround focal opacity projecting over the aortic arch on lateral view (aortic enlargement)\n",
      "0.2658899128437042\tadditional left perihilar mid lung opacity (aortic enlargement)\n",
      "0.26615941524505615\textensive areas of perihilar opacities on the right (aortic enlargement)\n",
      "0.2670149803161621\tlongstanding left upper lobe oval nodule (aortic enlargement)\n",
      "0.2676072418689728\tfocal onodular opacity in the left upper lung (aortic enlargement)\n",
      "0.2680199444293976\tconfluent opacification in the right upper zone (aortic enlargement)\n",
      "0.2680431604385376\tfocal area of increased opacity in the right mid zone laterally (aortic enlargement)\n",
      "0.2681604027748108\tspiculated mass in the left upper lobe (aortic enlargement)\n",
      "0.2690357267856598\tground glass opacity in the right upper lobe (aortic enlargement)\n",
      "0.26999422907829285\tfocal region of opacity in the right mid lung laterally (aortic enlargement)\n",
      "0.27029740810394287\tnot substantially improved multi focal consolidation in the right upper lobe (aortic enlargement)\n",
      "0.2713918685913086\tpartially visualized left upper lobe spiculated mass (aortic enlargement)\n",
      "0.2714271545410156\tnew focal opacity in the left upper lobe (aortic enlargement)\n",
      "0.27181074023246765\tpoorly defined perihilar opacities in the right lung (aortic enlargement)\n",
      "0.2723456025123596\tslightly enlarged left upper lobe opacity (aortic enlargement)\n",
      "0.27252572774887085\ttubular opacity in the left upper lobe (aortic enlargement)\n",
      "0.2727757692337036\tprobable opacities in the right perihilar region (aortic enlargement)\n",
      "0.27296552062034607\tcoarse interstitial opacities in the upper lobes bilaterally (aortic enlargement)\n",
      "0.2736886143684387\theterogeneous consolidative opacity within the periphery of the left upper lung (aortic enlargement)\n",
      "0.2737777829170227\taorta measuring up to 4.3 cm at the level of the aortic arch on the lateral view (aortic enlargement)\n",
      "0.27411404252052307\tradiopaque portion in the left upper quadrant (aortic enlargement)\n",
      "0.2746877074241638\ttwo adjacent nodular opacities along the upper aspect of the left ventricle (aortic enlargement)\n",
      "0.2748079299926758\tround opacity in the left upper lung (aortic enlargement)\n",
      "0.2754531502723694\tirregular opacities in the left upper lobe (aortic enlargement)\n",
      "0.27590230107307434\topacities in right upper lobe (aortic enlargement)\n",
      "0.27655553817749023\tfocal left upper zone opacity (aortic enlargement)\n",
      "0.2767102122306824\topacity projecting over left upper lung laterally (aortic enlargement)\n",
      "0.2771329879760742\topacity representing mass in the right upper lobe (aortic enlargement)\n",
      "0.27743279933929443\tarea of opacification in the anterior segment of the right upper lobe (aortic enlargement)\n",
      "0.27747607231140137\tsplenic calcifications projecting over the left upper quadrant (aortic enlargement)\n",
      "0.2777066230773926\tmasslike opacity in the left upper lobe (aortic enlargement)\n",
      "0.2777138948440552\tscattered perihilar left opacities (aortic enlargement)\n",
      "0.2791175842285156\tcurvilinear interface in upper left hemithorax (aortic enlargement)\n",
      "0.2792256474494934\tanterior right upper lobe linear atelectasis (aortic enlargement)\n",
      "0.2798954248428345\tdensity projecting over the left upper lung (aortic enlargement)\n",
      "0.2802956700325012\tpatchy opacity in the right upper lung represented atelectasis (aortic enlargement)\n",
      "0.28068801760673523\tvague focal left upper lobe opacities (aortic enlargement)\n",
      "0.28110095858573914\tminimally improved right perihilar residual edema (aortic enlargement)\n",
      "0.2813507914543152\tfocal opacities visualized within a background of indistinct upper zone prominence of pulmonary vessels (aortic enlargement)\n"
     ]
    }
   ],
   "source": [
    "for i in range(0, min(100, len(idxs2))):\n",
    "    i = idxs2[-i]\n",
    "    anc = tmp['anchor_facts'][tmp['most_similar_to_specific_fact'][i][1]]\n",
    "    fac = tmp['preserved_specific_facts'][i]\n",
    "    sim = tmp['most_similar_to_specific_fact'][i][0]\n",
    "    print(f'{sim}\\t{fac} ({anc})')"
   ]
  },
  {
   "cell_type": "code",
   "execution_count": 172,
   "id": "7fce352d",
   "metadata": {
    "scrolled": true
   },
   "outputs": [
    {
     "name": "stdout",
     "output_type": "stream",
     "text": [
      "1.0\tlung opacity (lung opacity)\n",
      "0.3342297673225403\tposterior opacification (lung opacity)\n",
      "0.352603018283844\tnew focal opacity in the left lower lobe (lung opacity)\n",
      "0.38320091366767883\tright lower lung opacity (lung opacity)\n",
      "0.39520886540412903\tfocal opacity in the left lower lobe (lung opacity)\n",
      "0.41364115476608276\tright lung base opacification (lung opacity)\n",
      "0.4141662120819092\tright lower lung opacification (lung opacity)\n",
      "0.41453152894973755\tright lower lung field opacity (lung opacity)\n",
      "0.415157675743103\tnew left lung opacity (lung opacity)\n",
      "0.4163133203983307\topacification at the right lung base (lung opacity)\n",
      "0.41722071170806885\tright lower lung zone opacity (lung opacity)\n",
      "0.4286625385284424\tright lower lung zone opacification (lung opacity)\n",
      "0.435288667678833\tparenchymal opacity in the left lower lobe (lung opacity)\n",
      "0.43999823927879333\theterogeneous opacification in the left lower lobe (lung opacity)\n",
      "0.44139403104782104\theterogeneous opacification in the lower lobe (lung opacity)\n",
      "0.4431131184101105\topacity within the right lung base (lung opacity)\n",
      "0.4502336382865906\tparenchymal opacities at the left lung base (lung opacity)\n",
      "0.4522215723991394\theterogeneous opacification in the right lower lobe (lung opacity)\n",
      "0.4542931616306305\tparenchymal opacity at the left lung base (lung opacity)\n",
      "0.45675909519195557\tleft lower lobe airspace opacification (lung opacity)\n",
      "0.4684300422668457\tdiscrete consolidation at the base of the left lung (lung opacity)\n",
      "0.4685404300689697\tleft lung airspace opacification (lung opacity)\n",
      "0.47081464529037476\tperipheral lung opacities (lung opacity)\n",
      "0.4714943766593933\theterogeneous opacification in both lower lungs (lung opacity)\n",
      "0.4722442030906677\tfocal opacity in the left lower lung (lung opacity)\n",
      "0.4800518751144409\tparenchymal opacities at the lung bases (lung opacity)\n",
      "0.480072021484375\tleft infrahilar consolidation (lung opacity)\n",
      "0.48071643710136414\tparenchymal opacity at the left lung bases (lung opacity)\n",
      "0.48259931802749634\tnew focal opacity in the right lower lobe (lung opacity)\n",
      "0.48295971751213074\tbasal opacity (lung opacity)\n",
      "0.4845663011074066\tbasal parenchymal opacities (lung opacity)\n",
      "0.495086669921875\tbilateral basal parenchymal opacities (lung opacity)\n",
      "0.4974250793457031\tfocal infiltrate at the left base (lung opacity)\n",
      "0.49822288751602173\tleft lower lobe opacification (lung opacity)\n",
      "0.49873149394989014\topacity in the right lung base (lung opacity)\n",
      "0.4990901052951813\tfocal opacification at the left base (lung opacity)\n",
      "0.5017243027687073\tbasal parenchymal opacity (lung opacity)\n",
      "0.5091724395751953\tleft lung base focal opacity (lung opacity)\n",
      "0.518121063709259\tbibasilar focal opacities (lung opacity)\n",
      "0.5232481956481934\tconsolidation in the right basilar region (lung opacity)\n",
      "0.5270543694496155\tfocal consolidation in the left lower lung (lung opacity)\n",
      "0.5274541974067688\tleft base opacification (lung opacity)\n",
      "0.5340478420257568\tmass-like consolidation in the left lung (lung opacity)\n",
      "0.5389063358306885\tleft basilar infiltrate (lung opacity)\n",
      "0.5439738035202026\tleft basilar opacification (lung opacity)\n",
      "0.5452339053153992\tfocal consolidation in the left lung (lung opacity)\n",
      "0.5454719066619873\tleft basal parenchymal opacity (lung opacity)\n",
      "0.5480630397796631\tconsolidation in the left lung (lung opacity)\n",
      "0.5497579574584961\tmultifocal parenchymal opacities (lung opacity)\n",
      "0.5498173236846924\tbasilar lung opacities (lung opacity)\n",
      "0.5533345341682434\topacification at the bases (lung opacity)\n",
      "0.558266818523407\tmultifocal opacities (lung opacity)\n",
      "0.5583182573318481\tfocal consolidation in the left lung base (lung opacity)\n",
      "0.5609564781188965\tpatchy airspace opacities (lung opacity)\n",
      "0.562344491481781\tleft bibasilar consolidation (lung opacity)\n",
      "0.5679744482040405\tleft basal consolidation (lung opacity)\n",
      "0.5682458877563477\tbibasilar ground-glass opacities (lung opacity)\n",
      "0.5685739517211914\topacity in the right lung apex (lung opacity)\n",
      "0.5762815475463867\tleft basilar consolidation (lung opacity)\n",
      "0.5764791965484619\tconsolidation at the left lung base (lung opacity)\n",
      "0.5765196084976196\tworsening pulmonary abnormality (lung opacity)\n",
      "0.5782634019851685\tbibasal consolidations (lung opacity)\n",
      "0.5795669555664062\tdense consolidation in the left lung (lung opacity)\n",
      "0.5807465314865112\tbilateral lung base opacity (lung opacity)\n",
      "0.5828742980957031\tconsolidation of the left lung base (lung opacity)\n",
      "0.5845781564712524\tleft base consolidation (lung opacity)\n",
      "0.5883825421333313\tbibasilar opacities (lung opacity)\n",
      "0.592907190322876\tbasilar consolidation (lung opacity)\n",
      "0.5941993594169617\tleft lung abnormality (lung opacity)\n",
      "0.6000365018844604\tconsolidation in the left base (lung opacity)\n",
      "0.602189838886261\tbibasilar pulmonary abnormality (lung opacity)\n",
      "0.6184858083724976\tbibasilar pulmonary opacities (lung opacity)\n",
      "0.6195815801620483\tdense atelectasis (lung opacity)\n",
      "0.6245778799057007\tcoalescent opacification (lung opacity)\n",
      "0.6253836750984192\tbibasal consolidation (lung opacity)\n",
      "0.6258894205093384\tdiffuse parenchymal opacities (lung opacity)\n",
      "0.6259384155273438\tfocal consolidation in the lung bases (lung opacity)\n",
      "0.6275451183319092\tnew opacity (lung opacity)\n",
      "0.6423691511154175\tleft lower lung consolidation (lung opacity)\n",
      "0.6500519514083862\tbibasal pulmonary consolidation (lung opacity)\n",
      "0.6507381200790405\tnewly appeared focal parenchymal opacity (lung opacity)\n",
      "0.6510140895843506\tleft lung abnormalities (lung opacity)\n",
      "0.6510450839996338\tapical lung parenchyma abnormality (lung opacity)\n",
      "0.6510586738586426\tdistal pulmonary consolidation (lung opacity)\n",
      "0.653508186340332\tdiffuse pulmonary abnormality (lung opacity)\n",
      "0.6537137031555176\tgeneralized pulmonary abnormality (lung opacity)\n",
      "0.655630350112915\tacute pulmonary abnormality (lung opacity)\n",
      "0.6567763090133667\tnew focal opacification (lung opacity)\n",
      "0.6569284200668335\tbibasilar lung opacities (lung opacity)\n",
      "0.6573053598403931\tchest tube tract abnormality (lung opacity)\n",
      "0.6585696935653687\tconfluent lung opacity (lung opacity)\n",
      "0.658790647983551\tpathologic contour abnormalities (lung opacity)\n",
      "0.6598840355873108\tpathological contour abnormality (lung opacity)\n",
      "0.6625406742095947\tgross chest abnormality (lung opacity)\n",
      "0.6638345718383789\tdiffuse parenchymal opacity (lung opacity)\n",
      "0.664298415184021\tnew parenchymal opacity (lung opacity)\n",
      "0.6643242835998535\tpulmonary pathology (lung opacity)\n",
      "0.664814829826355\tsuperimposed airspace opacification (lung opacity)\n",
      "0.6648557782173157\tscattered opacities (lung opacity)\n",
      "0.6648926734924316\tupper lung field abnormality (lung opacity)\n"
     ]
    }
   ],
   "source": [
    "for i in range(0, min(100, len(idxs3))):\n",
    "    i = idxs3[-i]\n",
    "    anc = tmp['anchor_facts'][tmp['most_similar_to_negative_fact'][i][1]]\n",
    "    fac = tmp['preserved_negative_facts'][i]\n",
    "    sim = tmp['most_similar_to_negative_fact'][i][0]\n",
    "    print(f'{sim}\\t{fac} ({anc})')"
   ]
  },
  {
   "cell_type": "code",
   "execution_count": 181,
   "id": "3f911e7b",
   "metadata": {},
   "outputs": [
    {
     "name": "stdout",
     "output_type": "stream",
     "text": [
      "checkpoint_names = ['checkpoint_196_cacc+chf1+chf1+cscc+encc+hscc+nlcc+sass+spss+ta0)+ta1)+ta2)+ta0)+ta1)+ta2)+ta3)+ta4)+ta5)+ta6)+ta7)=0.9189.pt']\n"
     ]
    }
   ],
   "source": [
    "# Create embedding extractor\n",
    "embedding_extractor = CachedTextEmbeddingExtractor(\n",
    "    model_name='microsoft/BiomedVLP-CXR-BERT-specialized',\n",
    "    model_checkpoint_folder_path='/mnt/data/pamessina/workspaces/medvqa-workspace/models/fact_embedding/20240629_084405_MIMIC-CXR(triplets+classif+entcont+nli+radgraph+autoencoder)_FactEncoder(microsoft-BiomedVLP-CXR-BERT-specialized)',\n",
    "    device='cuda',\n",
    ")"
   ]
  },
  {
   "cell_type": "code",
   "execution_count": 184,
   "id": "c73d0d74",
   "metadata": {},
   "outputs": [
    {
     "name": "stderr",
     "output_type": "stream",
     "text": [
      "100%|███████████████████████████████████████████████████████████████████████████████| 25/25 [00:00<00:00, 105384.52it/s]\n"
     ]
    }
   ],
   "source": [
    "anchor_embeddings = embedding_extractor.compute_text_embeddings(tmp['anchor_facts'], update_cache_on_disk=False)"
   ]
  },
  {
   "cell_type": "code",
   "execution_count": 230,
   "id": "7c7c0be7",
   "metadata": {},
   "outputs": [
    {
     "name": "stderr",
     "output_type": "stream",
     "text": [
      "100%|███████████████████████████████████████████████████████████████████████████████████| 1/1 [00:00<00:00, 8338.58it/s]"
     ]
    },
    {
     "name": "stdout",
     "output_type": "stream",
     "text": [
      "infiltration 0.6469321\n",
      "nodule/mass 0.61805177\n",
      "consolidation 0.53777665\n",
      "lung opacity 0.5020517\n",
      "clavicle fracture 0.48253575\n",
      "enlarged pulmonary artery 0.44464284\n",
      "edema 0.4213851\n",
      "cardiomegaly 0.40852526\n",
      "rib fracture 0.3983273\n",
      "pleural thickening 0.3955556\n",
      "emphysema 0.3933773\n",
      "mediastinal shift 0.3665044\n",
      "pulmonary fibrosis 0.3553869\n",
      "copd 0.34237832\n",
      "aortic enlargement 0.30483872\n",
      "interstitial lung disease 0.23485985\n",
      "calcification 0.15550865\n",
      "pneumonia 0.1340104\n",
      "lung cyst 0.123853184\n",
      "lung tumor 0.10439371\n",
      "lung cavity 0.1010775\n",
      "atelectasis 0.08027959\n",
      "pneumothorax -0.014359802\n",
      "pleural effusion -0.029280338\n",
      "tuberculosis -0.30615488\n"
     ]
    },
    {
     "name": "stderr",
     "output_type": "stream",
     "text": [
      "\n"
     ]
    }
   ],
   "source": [
    "query = 'acute bone lesion'\n",
    "query_embedding = embedding_extractor.compute_text_embeddings([query], update_cache_on_disk=False)[0]\n",
    "idxs = rank_vectors_by_dot_product(anchor_embeddings, query_embedding)\n",
    "for k in range(len(idxs)):\n",
    "    print(tmp['anchor_facts'][idxs[k]], np.dot(anchor_embeddings[idxs[k]], query_embedding))"
   ]
  },
  {
   "cell_type": "code",
   "execution_count": 227,
   "id": "2cf239ec",
   "metadata": {},
   "outputs": [
    {
     "name": "stderr",
     "output_type": "stream",
     "text": [
      "100%|███████████████████████████████████████████████████████████████████████████████████| 1/1 [00:00<00:00, 5526.09it/s]\n",
      "100%|██████████████████████████████████████████████████████████████████████████████████| 1/1 [00:00<00:00, 15196.75it/s]\n"
     ]
    },
    {
     "data": {
      "text/plain": [
       "0.30970702"
      ]
     },
     "execution_count": 227,
     "metadata": {},
     "output_type": "execute_result"
    }
   ],
   "source": [
    "query = 'opacity in the left upper lung'\n",
    "query_embedding = embedding_extractor.compute_text_embeddings([query], update_cache_on_disk=False)[0]\n",
    "ref = 'lung opacity'\n",
    "ref_embedding = embedding_extractor.compute_text_embeddings([ref], update_cache_on_disk=False)[0]\n",
    "\n",
    "np.dot(query_embedding, ref_embedding)"
   ]
  },
  {
   "cell_type": "code",
   "execution_count": 258,
   "id": "a03b17aa",
   "metadata": {
    "scrolled": true
   },
   "outputs": [
    {
     "name": "stdout",
     "output_type": "stream",
     "text": [
      "\u001b[1m\u001b[34mRunning _find_positive_negative_facts_per_report_with_fact_embeddings_and_mlp_nli()...\u001b[0m\n",
      "Reading /home/pamessina/medvqa-workspace/cache/mimiccxr/integrated_report_facts(79040140).jsonl...\n",
      "n_reports: 227835\n",
      "len(all_facts): 586352\n",
      "Loading /home/pamessina/medvqa-workspace/cache/mimiccxr/huggingface/integrated_fact_metadata(591920,209004293).jsonl...\n",
      "len(all_facts): 769532\n",
      "Loading /mnt/data/pamessina_folder_backup_15_10_24/pamessina/medvqa-workspace/cache/mimiccxr_find_facts_similar_to_anchor_facts(af=25,sf=129898,gf=44029,nf=5972,minsimth=0.650)(hash=686,1961964868541064712).pkl...\n",
      "len(preserved_specific_facts): 129898\n",
      "len(preserved_general_facts): 44029\n",
      "len(preserved_negative_facts): 5972\n",
      "len(anchor_facts): 25\n",
      "len(all_facts): 772711\n",
      "len(relevant_facts): 160797\n",
      "Loading /mnt/data/pamessina/workspaces/medvqa-workspace/cache/mimiccxr/background_findings_and_impression_20230612_174143.json...\n",
      "Loading /home/pamessina/medvqa-workspace/cache/mimiccxr/integrated_sentence_to_negative_facts(877989,157625400).jsonl...\n",
      "Average number of strong negative facts per report: 4.62\n",
      "Total number of strong negative facts: 1053421\n",
      "checkpoint_names = ['checkpoint_196_cacc+chf1+chf1+cscc+encc+hscc+nlcc+sass+spss+ta0)+ta1)+ta2)+ta0)+ta1)+ta2)+ta3)+ta4)+ta5)+ta6)+ta7)=0.9189.pt']\n",
      "  0%|                                                | 0/772711 [00:00<?, ?it/s]Loading cached text embeddings from /mnt/data/pamessina_folder_backup_15_10_24/pamessina/medvqa-workspace/cache/text_embeddings_cache(hash=469,680486110513564934).pkl\n",
      "len(self.cache[\"hashes\"]) = 1570498\n",
      "self.cache[\"embeddings\"].shape = (1570498, 128)\n",
      "100%|███████████████████████████████| 772711/772711 [00:02<00:00, 285713.00it/s]\n",
      "100%|███████████████████████████████| 160797/160797 [00:00<00:00, 433117.77it/s]\n",
      "all_fact_embeddings.shape: (772711, 128)\n",
      "relevant_fact_embeddings.shape: (160797, 128)\n",
      "Clustering embeddings...\n",
      "Loading cached kmeans labels from /mnt/data/pamessina_folder_backup_15_10_24/pamessina/medvqa-workspace/cache/kmeans_labels(34483791,113096986753883034).pkl\n",
      "len(cluster2relfidxs): 300\n",
      "len(nonempty_clusters): 275\n",
      "Assigning positive and negative facts to reports...\n",
      "100%|██████████████████████████████████| 227835/227835 [09:20<00:00, 406.38it/s]\n",
      "\u001b[1m\u001b[31mWARNING: 12972/227835 reports have contradictions!\u001b[0m\n",
      "Computing softmaxes over candidate weak negative facts...\n",
      "metadata loaded from /mnt/data/pamessina/workspaces/medvqa-workspace/models/fact_embedding/20240731_002153_NLI(Embedding-based)_EmbeddingBasedNLI(128,512-256-128)/metadata.json\n",
      "Creating model\n",
      "EmbeddingBasedNLI\n",
      "  embedding_dim: 128\n",
      "  mlp_hidden_dims: [512, 256, 128]\n",
      "  dropout: 0.0\n",
      "\u001b[93m\u001b[1mWARNING: unused_kwargs: {'pretrained_checkpoint_folder_path': '/mnt/data/pamessina/workspaces/medvqa-workspace/models/fact_embedding/20240407_173847_NLI(Embedding-based)_EmbeddingBasedNLI(128,512-256-128)'}\u001b[0m\n",
      "Loading model weights from /mnt/data/pamessina/workspaces/medvqa-workspace/models/fact_embedding/20240731_002153_NLI(Embedding-based)_EmbeddingBasedNLI(128,512-256-128)\n",
      "checkpoint_names = ['checkpoint_55_nli_acc=0.7684.pt']\n",
      "Loading model weights from /mnt/data/pamessina/workspaces/medvqa-workspace/models/fact_embedding/20240731_002153_NLI(Embedding-based)_EmbeddingBasedNLI(128,512-256-128)/checkpoint_55_nli_acc=0.7684.pt\n",
      "Estimated output memory size: 2172.80 MB\n",
      "Computing softmaxes...\n",
      "100%|███████████████████████████████████| 113918/113918 [30:27<00:00, 62.34it/s]\n",
      "Filtering out negative facts with high entailment softmaxes...\n",
      "Number of valid weak negative facts: 97820378/113917500\n",
      "Percentage of valid weak negative facts: 85.87%\n",
      "Average number of weak negative facts per report: 429.35\n",
      "Saving /mnt/data/pamessina_folder_backup_15_10_24/pamessina/medvqa-workspace/cache/mimiccxr_dicom_id_to_pos_neg_facts(num_rel_facts=160797,num_clusters=300,max_neg=500,ent_th=0.172)(hash=1231,1671346674768132252).pkl...\n",
      "\u001b[1m\u001b[34mDone!\u001b[0m\n"
     ]
    }
   ],
   "source": [
    "!python ../../scripts/mimiccxr/find_pos_neg_facts_per_report_around_reference_classes.py \\\n",
    "--task \"find_positive_negative_facts_per_report_with_fact_embeddings_and_mlp_nli\" \\\n",
    "--integrated_report_facts_jsonl_filepath \\\n",
    "\"/home/pamessina/medvqa-workspace/cache/mimiccxr/integrated_report_facts(79040140).jsonl\" \\\n",
    "--integrated_fact_metadata_jsonl_filepath \\\n",
    "\"/home/pamessina/medvqa-workspace/cache/mimiccxr/huggingface/integrated_fact_metadata(591920,209004293).jsonl\" \\\n",
    "--background_findings_and_impression_json_filepath \\\n",
    "\"/mnt/data/pamessina/workspaces/medvqa-workspace/cache/mimiccxr/background_findings_and_impression_20230612_174143.json\" \\\n",
    "--facts_similar_to_anchor_facts_pickle_filepath \\\n",
    "\"/mnt/data/pamessina_folder_backup_15_10_24/pamessina/medvqa-workspace/cache/mimiccxr_find_facts_similar_to_anchor_facts(af=25,sf=129898,gf=44029,nf=5972,minsimth=0.650)(hash=686,1961964868541064712).pkl\" \\\n",
    "--integrated_sentence_to_negative_facts_jsonl_filepath \\\n",
    "\"/home/pamessina/medvqa-workspace/cache/mimiccxr/integrated_sentence_to_negative_facts(877989,157625400).jsonl\" \\\n",
    "--fact_embedding_model_name \"microsoft/BiomedVLP-CXR-BERT-specialized\" \\\n",
    "--fact_embedding_model_checkpoint_folder_path \\\n",
    "\"/mnt/data/pamessina/workspaces/medvqa-workspace/models/fact_embedding/20240629_084405_MIMIC-CXR(triplets+classif+entcont+nli+radgraph+autoencoder)_FactEncoder(microsoft-BiomedVLP-CXR-BERT-specialized)\" \\\n",
    "--fact_embedding_batch_size 200 \\\n",
    "--fact_embedding_num_workers 4 \\\n",
    "--mlp_batch_size 1000 \\\n",
    "--mlp_num_workers 4 \\\n",
    "--mlp_nli_checkpoint_folder_path \\\n",
    "\"/mnt/data/pamessina/workspaces/medvqa-workspace/models/fact_embedding/20240731_002153_NLI(Embedding-based)_EmbeddingBasedNLI(128,512-256-128)\" \\\n",
    "--mlp_nli_entailment_threshold 0.1723824292421341 \\\n",
    "--num_clusters 300 \\\n",
    "--max_negative_facts_per_report 500"
   ]
  },
  {
   "cell_type": "code",
   "execution_count": 260,
   "id": "70c81b32",
   "metadata": {
    "scrolled": true
   },
   "outputs": [
    {
     "name": "stdout",
     "output_type": "stream",
     "text": [
      "-rw-rw-r-- 1 pamessina socvis 900M Jan 17 11:21 '/mnt/data/pamessina_folder_backup_15_10_24/pamessina/medvqa-workspace/cache/mimiccxr_dicom_id_to_pos_neg_facts(num_rel_facts=160797,num_clusters=300,max_neg=500,ent_th=0.172)(hash=1231,1671346674768132252).pkl'\r\n"
     ]
    }
   ],
   "source": [
    "!ls -lh \"/mnt/data/pamessina_folder_backup_15_10_24/pamessina/medvqa-workspace/cache/mimiccxr_dicom_id_to_pos_neg_facts(num_rel_facts=160797,num_clusters=300,max_neg=500,ent_th=0.172)(hash=1231,1671346674768132252).pkl\""
   ]
  },
  {
   "cell_type": "code",
   "execution_count": 261,
   "id": "4b60678a",
   "metadata": {},
   "outputs": [],
   "source": [
    "aux = load_pickle('/mnt/data/pamessina_folder_backup_15_10_24/pamessina/medvqa-workspace/cache/mimiccxr_dicom_id_to_pos_neg_facts(num_rel_facts=160797,num_clusters=300,max_neg=500,ent_th=0.172)(hash=1231,1671346674768132252).pkl')"
   ]
  },
  {
   "cell_type": "code",
   "execution_count": 262,
   "id": "9c24a9de",
   "metadata": {},
   "outputs": [
    {
     "data": {
      "text/plain": [
       "dict_keys(['facts', 'embeddings', 'dicom_id_to_pos_facts', 'dicom_id_to_strong_neg_facts', 'dicom_id_to_weak_neg_facts', 'report_idxs_with_contradictions'])"
      ]
     },
     "execution_count": 262,
     "metadata": {},
     "output_type": "execute_result"
    }
   ],
   "source": [
    "aux.keys()"
   ]
  },
  {
   "cell_type": "code",
   "execution_count": 263,
   "id": "db9d0f42",
   "metadata": {},
   "outputs": [
    {
     "data": {
      "text/plain": [
       "772711"
      ]
     },
     "execution_count": 263,
     "metadata": {},
     "output_type": "execute_result"
    }
   ],
   "source": [
    "len(aux['facts'])"
   ]
  },
  {
   "cell_type": "code",
   "execution_count": 264,
   "id": "3da2fcd1",
   "metadata": {},
   "outputs": [
    {
     "data": {
      "text/plain": [
       "(772711, 128)"
      ]
     },
     "execution_count": 264,
     "metadata": {},
     "output_type": "execute_result"
    }
   ],
   "source": [
    "aux['embeddings'].shape"
   ]
  },
  {
   "cell_type": "code",
   "execution_count": 272,
   "id": "9e46903b",
   "metadata": {},
   "outputs": [
    {
     "data": {
      "text/plain": [
       "36"
      ]
     },
     "execution_count": 272,
     "metadata": {},
     "output_type": "execute_result"
    }
   ],
   "source": [
    "aux['report_idxs_with_contradictions'][0]"
   ]
  },
  {
   "cell_type": "code",
   "execution_count": 265,
   "id": "fb6a6c07",
   "metadata": {},
   "outputs": [],
   "source": [
    "dicom_id_to_pos_facts = aux['dicom_id_to_pos_facts']\n",
    "dicom_id_to_strong_neg_facts = aux['dicom_id_to_strong_neg_facts']\n",
    "dicom_id_to_weak_neg_facts = aux['dicom_id_to_weak_neg_facts']"
   ]
  },
  {
   "cell_type": "code",
   "execution_count": 266,
   "id": "78bcfbd8",
   "metadata": {},
   "outputs": [],
   "source": [
    "dicom_ids = list(dicom_id_to_pos_facts.keys())"
   ]
  },
  {
   "cell_type": "code",
   "execution_count": 267,
   "id": "c071ca1a",
   "metadata": {},
   "outputs": [],
   "source": [
    "integrated_report_facts = load_jsonl('/home/pamessina/medvqa-workspace/cache/mimiccxr/integrated_report_facts(79040140).jsonl')"
   ]
  },
  {
   "cell_type": "code",
   "execution_count": 277,
   "id": "11114c77",
   "metadata": {},
   "outputs": [],
   "source": [
    "from medvqa.datasets.mimiccxr import get_detailed_metadata_for_dicom_id, load_mimiccxr_reports_detailed_metadata\n",
    "from medvqa.utils.files import read_txt\n",
    "from medvqa.utils.logging import print_bold"
   ]
  },
  {
   "cell_type": "code",
   "execution_count": 278,
   "id": "4e6b3b2d",
   "metadata": {},
   "outputs": [],
   "source": [
    "mimiccxr_reports_detailed_metadata = load_mimiccxr_reports_detailed_metadata()"
   ]
  },
  {
   "cell_type": "code",
   "execution_count": 279,
   "id": "cfb97927",
   "metadata": {},
   "outputs": [
    {
     "data": {
      "text/plain": [
       "[('59438c05-50a25def-e33ef9fd-433adade-bdeaa4f7', 'AP'),\n",
       " ('e66f882f-e1aecd35-d9d369f5-65b2ae0a-371b82bb', 'LATERAL')]"
      ]
     },
     "execution_count": 279,
     "metadata": {},
     "output_type": "execute_result"
    }
   ],
   "source": [
    "mimiccxr_reports_detailed_metadata['dicom_id_view_pos_pairs'][aux['report_idxs_with_contradictions'][0]]"
   ]
  },
  {
   "cell_type": "code",
   "execution_count": 281,
   "id": "fb104837",
   "metadata": {},
   "outputs": [
    {
     "data": {
      "text/plain": [
       "36"
      ]
     },
     "execution_count": 281,
     "metadata": {},
     "output_type": "execute_result"
    }
   ],
   "source": [
    "aux['report_idxs_with_contradictions'][0]"
   ]
  },
  {
   "cell_type": "code",
   "execution_count": 275,
   "id": "35188145",
   "metadata": {},
   "outputs": [
    {
     "data": {
      "text/plain": [
       "dict"
      ]
     },
     "execution_count": 275,
     "metadata": {},
     "output_type": "execute_result"
    }
   ],
   "source": [
    "type(image_views_dict)"
   ]
  },
  {
   "cell_type": "code",
   "execution_count": 285,
   "id": "4f9ef649",
   "metadata": {},
   "outputs": [],
   "source": [
    "integrated_sentence_to_negative_facts = load_jsonl('/home/pamessina/medvqa-workspace/cache/mimiccxr/integrated_sentence_to_negative_facts(877989,157625400).jsonl')"
   ]
  },
  {
   "cell_type": "code",
   "execution_count": 289,
   "id": "9590efe7",
   "metadata": {},
   "outputs": [],
   "source": [
    "s2nf = { x['sentence']: x['ruled_out_abnormalities'] for x in integrated_sentence_to_negative_facts }"
   ]
  },
  {
   "cell_type": "code",
   "execution_count": 287,
   "id": "2220323c",
   "metadata": {},
   "outputs": [],
   "source": [
    "from medvqa.utils.files import load_json"
   ]
  },
  {
   "cell_type": "code",
   "execution_count": 288,
   "id": "9955a677",
   "metadata": {},
   "outputs": [],
   "source": [
    "bfis = load_json(\"/mnt/data/pamessina/workspaces/medvqa-workspace/cache/mimiccxr/background_findings_and_impression_20230612_174143.json\")"
   ]
  },
  {
   "cell_type": "code",
   "execution_count": 291,
   "id": "d08400e3",
   "metadata": {},
   "outputs": [],
   "source": [
    "from nltk.tokenize import sent_tokenize"
   ]
  },
  {
   "cell_type": "code",
   "execution_count": 293,
   "id": "7e97641b",
   "metadata": {
    "scrolled": true
   },
   "outputs": [
    {
     "name": "stdout",
     "output_type": "stream",
     "text": [
      "{'report_index': 0, 'part_id': 10, 'subject_id': 10703179, 'study_id': 58829627, 'dicom_id': '3f1d4d25-bc07dfbd-0d530479-35ef51a0-a45291cc', 'view_pos': 'PA', 'split': 'train', 'filepath': '/mnt/data/mimic-cxr/files/p10/p10703179/s58829627.txt', 'dicom_id_view_pos_pairs': [('3f1d4d25-bc07dfbd-0d530479-35ef51a0-a45291cc', 'PA'), ('768efca4-214691b8-11c6e785-87c7ef6a-691ddac9', 'LATERAL')]}\n",
      "\n",
      "\n",
      "                                 FINAL REPORT\n",
      " EXAMINATION:  Chest radiograph\n",
      " \n",
      " INDICATION:  New dyspnea on exertion.\n",
      " \n",
      " TECHNIQUE:  Chest PA and lateral\n",
      " \n",
      " COMPARISON:  ___.\n",
      " \n",
      " FINDINGS: \n",
      " \n",
      " Heart size is normal.  There are mild aortic knob calcifications. \n",
      " Cardiomediastinal silhouette and hilar contours are otherwise unremarkable. \n",
      " Lungs are clear.  Pleural surfaces are clear without effusion or pneumothorax.\n",
      " \n",
      " IMPRESSION: \n",
      " \n",
      " No acute cardiopulmonary abnormality.\n",
      "\n",
      "\n",
      "\n",
      "normal heart size. mild aortic knob calcifications. unremarkable cardiomediastinal silhouette. unremarkable hilar contours. clear lungs. clear pleural surfaces. pleural surfaces without effusion. pleural surfaces without pneumothorax. no acute cardiopulmonary abnormality\n",
      "\n",
      "\u001b[1mAll facts:\u001b[0m\n",
      "['normal heart size', 'mild aortic knob calcifications', 'unremarkable cardiomediastinal silhouette', 'unremarkable hilar contours', 'clear lungs', 'clear pleural surfaces', 'pleural surfaces without effusion', 'pleural surfaces without pneumothorax', 'no acute cardiopulmonary abnormality']\n",
      "\n",
      "\u001b[1mRelevant positive facts:\u001b[0m\n",
      "['mild aortic knob calcifications', 'mild calcifications']\n",
      "\n",
      "\u001b[1mExcluded positive facts:\u001b[0m\n",
      "['normal heart size', 'unremarkable cardiomediastinal silhouette', 'unremarkable hilar contours', 'clear lungs', 'clear pleural surfaces', 'pleural surfaces without effusion', 'pleural surfaces without pneumothorax', 'no acute cardiopulmonary abnormality']\n",
      "\n",
      "\u001b[1mAll strong negative facts:\u001b[0m\n",
      "------\n",
      "Heart size is normal.\n",
      "{'normal heart size': ['cardiomegaly', 'heart enlargement']}\n",
      "------\n",
      "Cardiomediastinal silhouette and hilar contours are otherwise unremarkable.\n",
      "{'unremarkable cardiomediastinal silhouette': ['cardiomegaly', 'mediastinal mass'], 'unremarkable hilar contours': ['hilar lymphadenopathy', 'hilar mass']}\n",
      "------\n",
      "Lungs are clear.\n",
      "{'lungs are clear': ['pulmonary consolidation', 'pleural effusion']}\n",
      "------\n",
      "Pleural surfaces are clear without effusion or pneumothorax.\n",
      "{'clear pleural surfaces': ['pleural effusion', 'pneumothorax']}\n",
      "------\n",
      "Heart size is normal.\n",
      "{'normal heart size': ['cardiomegaly', 'heart enlargement']}\n",
      "------\n",
      "Cardiomediastinal silhouette and hilar contours are otherwise unremarkable.\n",
      "{'unremarkable cardiomediastinal silhouette': ['cardiomegaly', 'mediastinal mass'], 'unremarkable hilar contours': ['hilar lymphadenopathy', 'hilar mass']}\n",
      "------\n",
      "Lungs are clear.\n",
      "{'lungs are clear': ['pulmonary consolidation', 'pleural effusion']}\n",
      "------\n",
      "Pleural surfaces are clear without effusion or pneumothorax.\n",
      "{'clear pleural surfaces': ['pleural effusion', 'pneumothorax']}\n",
      "\n",
      "\u001b[1mRelevant strong negative facts:\u001b[0m\n",
      "['mediastinal mass', 'cardiomegaly', 'acute heart disease', 'pleural effusion', 'heart enlargement', 'acute lung disease', 'hilar mass', 'pulmonary consolidation', 'pneumothorax']\n",
      "\n",
      "\u001b[1mExcluded strong negative facts:\u001b[0m\n",
      "['hilar lymphadenopathy']\n",
      "\n",
      "\u001b[1mWeak negative facts:\u001b[0m\n",
      "lower cervical mass present\n",
      "concerning for pneumonia or aspiration\n",
      "juxta mediastinal pleural fluid loculation\n",
      "fissural thickening in the right basilar region\n",
      "3 mm calcified granuloma not visible on lateral chest radiograph\n",
      "lytic lesions throughout the osseous structures\n",
      "increased generalize radiodensity\n",
      "small remaining hematoma formed into a linear scar on the lateral view\n",
      "diffuse increase in radiodensity\n",
      "active rib lesion\n",
      "lung involvement by thyroid cancer\n",
      "persistent airspace consolidation in the left lower lung\n",
      "line past apparently markedly dilated right atrium\n",
      "possible prominent pulmonary arteries\n",
      "suspicious left mid lung nodule measures 5 mm\n",
      "lung tumor\n",
      "smaller moderate left pleural effusion\n",
      "little change in the appearance of the right lung\n",
      "similar appearance of fibrotic changes in the lungs bilaterally compared to prior\n",
      "bilateral pulmonary opacifications\n",
      "post-obstructive atelectasis in the left lung\n",
      "nodule seen in retrospect\n",
      "possible asbestos-related interstitial changes\n",
      "minimal pleural fluid at the left lung apex\n",
      "calcifications in the pleura\n",
      "increased asymmetric lingular consolidation\n",
      "subtle increased opacity on the lateral view\n",
      "evidence for soft tissue swelling\n",
      "calcified nodule over the left lung apex\n",
      "upper lung hyperlucency related to COPD\n",
      "unchanged position of previously described clavicular fracture\n",
      "plate atelectases on the right lung base\n",
      "small amount of pleural air at the site of chest tube insertion\n",
      "right pleural effusion equal to left\n",
      "moderately enlarged pulmonary artery\n",
      "signs suggestive of aspiration pneumonia\n",
      "central venous line seen\n",
      "partial collapse of the lower lobes\n",
      "mild superimposed consolidation\n",
      "mediastinal shift\n",
      "partially imaged emphysema on the recent cervical spine CT\n",
      "substantial prominence of the azygos vein\n",
      "redistributed mediastinal fluid\n",
      "unchanged left extensive parenchymal opacities\n",
      "possible early/very subtle consolidation\n",
      "right pleural effusion after right pigtail catheter placement\n",
      "free intra-abdominal gas\n",
      "unchanged evidence of severe likely emphysematous parenchymal destruction in the mid lung zone\n",
      "tortuosity of the brachiocephalic vessels\n",
      "areas of opacification reflecting the better inspiration\n",
      "interstitial markings suggestive of mild interstitial edema\n",
      "opacification more prominent on today's study\n",
      "development of pneumonic infiltrate in the right middle lobe area\n",
      "left apical cap\n",
      "diaphragm consistent with COPD\n",
      "possible shift of the mediastinum\n",
      "no change in small-to-moderate pneumothorax\n",
      "cleared multifocal areas of consolidation in the left perihilar region\n",
      "pulmonary vessels on the lateral view\n",
      "tuberculosis\n",
      "trace pleural effusion possible\n",
      "possible supraaortic lung mass\n",
      "round nodular focus\n",
      "collapsed thoracic vertebra\n",
      "hilar pulmonary artery enlargement\n",
      "scarring in the pleura and lung parenchyma\n",
      "rounded opacity projecting over the lower lobe posteriorly\n",
      "enlargement of the right pulmonary hilum\n",
      "residual small effusions\n",
      "midline displacement\n",
      "metastatic disease better characterized on recent CT scan\n",
      "old small granulomas visualized\n",
      "strong clinical suspicion for rib fracture\n",
      "enlargement of the right pulmonary artery\n",
      "mild lung consolidation\n",
      "fluid thickening of the right minor fissure\n",
      "potentially increased opacities\n",
      "apical pneumothorax on the left\n",
      "fracture of the hardware involving the cervicothoracic posterior fixation\n",
      "small left sided pneumothorax\n",
      "partial obscuration of the heart by the left diaphragmatic surface\n",
      "bilateral hilar calcified nodes\n",
      "slightly larger pulmonary artery\n",
      "distorted mediastinal contour by pleural fluid\n",
      "observations overlying the chest wall\n",
      "enlargement of the cardiac silhouette due to pericardial effusion\n",
      "discrete lung nodule projecting over the spine\n",
      "new pulmonary vascular congestion since the prior\n",
      "focal opacity projecting over the anterior right third rib\n",
      "bone lesion in the chest\n",
      "lung expansion in the chest\n",
      "areas of pleural thickening on the left\n",
      "right lung hyperinflated\n",
      "atrial lead pointing more to the right\n",
      "hazy opacity similar to film dated at 00:05 a.m.\n",
      "improving RUL pneumonia\n",
      "preexisting scarring at left base\n",
      "persistent right sided pneumothorax\n",
      "small pneumothorax roughly equal in volume in its place\n",
      "previously identified rib fracture\n",
      "slightly increased lung markings in the right lower lung\n",
      "airspace consolidation in the left upper lobe anterior segment\n",
      "pulmonary infection with a similar radiographic appearance\n",
      "status post clavicular fracture\n",
      "lung apex fibrosis\n",
      "basal predominance of interstitial pulmonary abnormality\n",
      "bulging of the cardiac silhouette\n",
      "mediastinal drain is noted\n",
      "findings consistent with chronic interstitial lung disease\n",
      "punctate lung nodules too small to detect on this study\n",
      "evidence of pneumothorax surrounding the pigtail catheter\n",
      "enlargement in a patient with intact midline sternal wires\n",
      "opacities similar to before\n",
      "largely atelectatic right lung\n",
      "increasing right basal opacity\n",
      "generalized increased sclerosis\n",
      "PICC line infection\n",
      "dilated ascending aortic contour\n",
      "ipsilateral mediastinal shift\n",
      "new small pleural effusions at the right lung base\n",
      "midline shift\n",
      "air-filled structure in the mediastinum\n",
      "persistent edema\n",
      "new substantial asymmetric opacities in the entire left lung\n",
      "aortic tortuosity related to dextroconvex thoracic scoliosis\n",
      "slightly increased opacity from the earlier study\n",
      "removal of cardiac support devices projecting pneumothorax\n",
      "irregular air collection probably referring to the esophagus\n",
      "vascular engorgement in the limited film\n",
      "cystic hemorrhage\n",
      "less severe atelectasis\n",
      "resolving alveolar edema\n",
      "large new focal consolidation in the right upper lobe\n",
      "mediastinal abnormality seen\n",
      "severe pleural thickening in the right apical area\n",
      "probable associated mild atelectasis\n",
      "pulmonary edema in the left mid lung\n",
      "small right pleural effusions better seen on prior CT\n",
      "posterior rib fractures at right four\n",
      "associated mild leftward mediastinal shift\n",
      "small amount of thickening in the right minor fissure\n",
      "persistent collapse of the middle lobe\n",
      "mediastinal wire displacement\n",
      "mass nodule\n",
      "increased pleural opacity\n",
      "right pigtail pleural thickening\n",
      "rib present\n",
      "minimal if any pneumothorax\n",
      "mediastinal left chest tube malposition\n",
      "Pneumothorax\n",
      "fiducial seeds within a mass\n",
      "small opacification around the fiducial clip\n",
      "calcified vascular stent\n",
      "mild collapse of the lung lobe\n",
      "simple pneumonia\n",
      "small residual pleural effusion following thoracentesis\n",
      "small amount of free air under the diaphragm\n",
      "decreased pre-existing right pneumothorax\n",
      "abnormality in the right lower lung\n",
      "widening of the mediastinum in the right paratracheal station\n",
      "opacity likely atelectatic in origin\n",
      "nodular opacities not within the overlying osseous structures\n",
      "atherosclerotic calcification in the right innominate artery\n",
      "peribronchial consolidation\n",
      "rounded opacity potentially within the rib\n",
      "extensive opacification overlying spine\n",
      "previously seen pneumomediastinum\n",
      "nodular opacity projecting over the mid thoracic spine on the lateral view\n",
      "globular morphology of the cardiac silhouette\n",
      "healing rib fractures in the right hemithorax\n",
      "remote rib fracture on the right\n",
      "right atelectasis on the left base\n",
      "moderate pleural effusion on the right side\n",
      "small opacity at the right base\n",
      "possible fracture of rib\n",
      "posterior right lower lobe bulla without evidence of acute infection\n",
      "curvilinear horizontal density over the heart\n",
      "subsequent left atelectasis\n",
      "prominence of the left main pulmonary artery\n",
      "parenchymal opacities that are still clearly visible\n",
      "lung nodules have decreased in size\n",
      "nodular opacity likely extrathoracic\n",
      "nodular opacity over the tip of the left scapula\n",
      "Right PIC line needs to be withdrawn one.5 to reposition it in the region of the superior cavoatrial junction\n",
      "moderate right pleural effusion in very low lung volumes\n",
      "bony island of the rib\n",
      "shift of the mediastinum towards the collapsed lung\n",
      "increased hazy perihilar opacities\n",
      "mildly enlarged left heart border\n",
      "subtle consolidation superimposed to lower thoracic spine\n",
      "radiopaque densities projecting over the lower in the cervical spine\n",
      "lateral left basilar consolidation\n",
      "known primary lung malignancy\n",
      "airways infection\n",
      "prominent right atrium\n",
      "patchy atelectasis seen on the recent prior CT\n",
      "marked enlargement of the right pulmonary artery\n",
      "extensive right hemi thorax atelectasis\n",
      "better previously described bibasilar lung opacities\n",
      "emphysema in the right mid lung zone\n",
      "distinctly nodular quality on the CT scan\n",
      "significantly increased subcutaneous emphysema along the left chest wall\n",
      "small pleural effusion better seen on the CT of the abdomen\n",
      "little change in the appearance of the right lung\n",
      "enlargement of the cardiac silhouette in a patient with prosthetic mitral valve\n",
      "increased density lateral to the descending thoracic aorta\n",
      "overlapping shadows of clavicle and transverse process\n",
      "development of moderate atelectasis\n",
      "unusual appearance of catheter\n",
      "enlarged pulmonary artery\n",
      "large right mid lung opacity\n",
      "small cavitary nodules seen on the CT\n",
      "large heart is moderate\n",
      "chronic effusions\n",
      "obscured right upper lung\n",
      "collapse in the bibasilar region\n",
      "slight rightward cardiomediastinal shift\n",
      "unusual density in the region of the GE junction\n",
      "tortuous venous anatomy in the left internal jugular line\n",
      "prominence of the central pulmonary vasculature\n",
      "clear left base pneumothorax\n",
      "bilateral ground-glass opacities without pulmonary edema\n",
      "small amount of fluid in the right costophrenic angle\n",
      "suggestion of increased opacification in the right upper zone\n",
      "nasoenteric line infection\n",
      "non healed fracture in the rib\n",
      "local chest wall emphysema in the lower lateral soft tissue of the chest wall\n",
      "scarring on the left laterally\n",
      "subtle increase in radiodensity over the lower spine on the lateral view\n",
      "suspicion for right upper lobe pneumonia\n",
      "nodularity\n",
      "right upper lobe scarring\n",
      "nodular opacity on the right at the level of the carina\n",
      "mild increased opacification at the right lung base\n",
      "ET tube positioning recommendation\n",
      "persistent lung effusion\n",
      "hyperinflation in the thoracic spine\n",
      "metastatic disease measuring up to 4 cm in the left lower lobe\n",
      "aneurysmal areas of the aorta were better demonstrated\n",
      "opacities similar to PA and lateral chest radiograph\n",
      "lung cyst\n",
      "areas of pneumonia in both lung bases\n",
      "focally dense opacity in the right lung base medially\n",
      "consolidations\n",
      "moderate cardiomegaly status post bypass surgery\n",
      "mild interstitial lung disease in the lower lungs\n",
      "atypical for right atrial enlargement\n",
      "mild decrease in left lower lobe atelectasis\n",
      "honeycombing\n",
      "slightly more prominent pulmonary vascular markings\n",
      "right lung base pulmonary nodule is seen\n",
      "occlusion of the left subclavian vein stent\n",
      "detection of edema\n",
      "right hilar congestion without overt pulmonary edema\n",
      "rounded opacity posterior to the carina\n",
      "pathological fluid collections\n",
      "new dense infiltrate\n",
      "prior chest radiographs to evaluate right pleural abnormality\n",
      "new focal opacity in the left retrocardiac region\n",
      "little change in the appearance of the triple-lead device extending to the apex of the right ventricle\n",
      "Increased focal opacification within the left lower lobe\n",
      "improved interstitial pulmonary opacities\n",
      "distinguishing discrete pulmonary abnormality\n",
      "injury in the left upper lung\n",
      "compression fracture present\n",
      "new nodular focus since the prior study\n",
      "worse edema\n",
      "alternative pulmonary infarction\n",
      "areas of left upper lobe scarring\n",
      "opacities better characterized on the CT scan\n",
      "extensive nodular densities\n",
      "unchanged to slightly improved moderate right bilateral pleural effusions\n",
      "possible underlying emphysema\n",
      "patchy areas of infiltrate\n",
      "persistent shift of the mediastinum\n",
      "rounded calcific density projecting over the upper abdomen\n",
      "suspicious infiltrate\n",
      "enlarged Hila\n",
      "increased lucency about the proximal humeral component\n",
      "suspected superimposed consolidation at the right lung base\n",
      "bullae and mass in the left upper lobe\n",
      "redeveloping edema\n",
      "increasing dense opacification of the right lower hemithorax suggesting pleural effusion\n",
      "tortuous vessel to the head and neck\n",
      "extent of the pleural effusion on the right has minimally increased\n",
      "neoplastic mass in the left mid lung\n",
      "atelectasis or aspiration\n",
      "ascending pulmonary flotation catheter loops at the inferior cavoatrial junction\n",
      "fixation device for fracture\n",
      "small right pneumothorax decreased from prior study\n",
      "AA central venous line seen at the cavoatrial junction\n",
      "clavicle fracture\n",
      "reduced chest wall emphysema\n",
      "large tension pneumothorax is stable\n",
      "routine views to assess for pneumonia\n",
      "small pneumothorax has slightly decreased in size\n",
      "severe restrictive left pleural calcification\n",
      "AA central venous line seen at the cavoatrial junction\n",
      "unchanged nodular abnormality in the lungs\n",
      "right pleural drainage tube lies alongside the mediastinum\n",
      "irregular right cardiac contour\n",
      "small left retrocardiac atelectasis\n",
      "increased lucency about the humeral component\n",
      "little change in the appearance of the triple-lead device extending to the apex of the right ventricle\n",
      "air within the chest wall\n",
      "improved interstitial process in right mid- to lower lung\n",
      "zone pneumonia\n",
      "pneumoperitoneum not unexpected in the immediate postoperative setting\n",
      "pyloric malposition\n",
      "possible artifactual nodular opacity\n",
      "increased left lingular opacity\n",
      "newly placed endotracheal tube\n",
      "large bulla in the right upper lobe is unchanged\n",
      "likely superimposed consolidation\n",
      "concern for left rib fracture\n",
      "interstitial marking due to fluid overload\n",
      "consolidation\n",
      "pneumonia in the perihilar region\n",
      "consolidation at the entry side of the chest tubes\n",
      "atrial lead pointing more to the right\n",
      "difficult to quantify due to the atelectasis\n",
      "Follow-up advised to detect pneumonia.\n",
      "similar appearance of bilateral atelectasis\n",
      "old left posterolateral rib fracture\n",
      "increased opacity at the bilateral lung bases\n",
      "likely does not account for the entire opacity\n",
      "flattened hemidiaphragms consistent with emphysema\n",
      "edema present\n",
      "discrete nodule cannot be excluded\n",
      "accumulation of left pleural effusion has been slowly progressive\n",
      "calcification in upper abdomen\n",
      "diffuse areas of opacification bilaterally\n",
      "severe colonic air distension\n",
      "opacification atelectasis\n",
      "large paracardiac fat collection simulating pleural effusion\n",
      "side hole of the gastric tube is far beyond the esophagogastric junction\n",
      "pulmonary hemorrhage pneumonia\n",
      "ovoid focal opacity\n",
      "infiltrate on the left\n",
      "apparent resorption of the left distal clavicle\n",
      "diagnosis of metastatic thyroid carcinoma\n",
      "new left mediastinal shift\n",
      "healed fractures of the ribs\n",
      "lymphadenopathy related to sarcoidosis\n",
      "COPD\n",
      "suggestive of lung collapse\n",
      "appearance representing pneumonia\n",
      "hazy opacity similar to film dated at 00:05 a.m.\n",
      "trapped lung\n",
      "extensive opacification on the right\n",
      "pulmonary TACO\n",
      "smooth atelectasis\n",
      "focal areas opacity\n",
      "opacities at the right lateral aspect of the hemithorax\n",
      "incompletely inflated right upper lobe\n",
      "amorphous calcification adjacent to the left humeral head\n",
      "chronic left lobe atelectasis\n",
      "unchanged to slightly improved small to moderate left pleural effusions\n",
      "suggestion of pneumonia in the right lung\n",
      "increased radiodensity in the thoracic spine\n",
      "likely dependent pulmonary edema\n",
      "persistent moderate-to-large right apical pneumothorax\n",
      "pleural effusions with extension to the long apex\n",
      "malignant nodule in the right base\n",
      "slight enlargement of pleural effusions\n",
      "pulmonary fibrosis\n",
      "remnant moderate parenchymal opacity\n",
      "apparent shift of the mediastinum to the right\n",
      "unchanged pleural thickening of the left costophrenic angle\n",
      "interval reaccumulation of left pleural fluid\n",
      "questionable atelectasis in the right upper lung\n",
      "decreased size of metastases\n",
      "likely apical bullae in a rotated patient\n",
      "mediastinal deviation\n",
      "stably enlarged cardiac silhouette\n",
      "cysts distension of multiple loops of bowel\n",
      "thoracic compression deformities observed\n",
      "lateral right pleural blebs\n",
      "unchanged small left-sided pleural effusion\n",
      "persistent effusion on the left\n",
      "emphysema better seen on prior CT\n",
      "unchanged large areas of atelectasis in the right middle lobe\n",
      "hyperinflated lungs compatible with COPD\n",
      "possible pneumonia at the bases in the appropriate clinical setting\n",
      "left clavicular fracture visualized\n",
      "potential small area of pneumothorax\n",
      "widespread increased interstitial markings mostly on the bases\n",
      "increased bibasal atelectasis since the prior study\n",
      "unchanged calcific paraaortic structure behind the heart\n",
      "prominence of the pulmonary vasculature centrally\n",
      "rib fracture\n",
      "slightly increased severity of peripheral consolidation in the right upper lobe abutting the minor fissure\n",
      "atherosclerotic calcification present on the right\n",
      "opacity projecting over inferior/posterior\n",
      "significant distention in the stomach\n",
      "subchondral cyst formation at the right acromioclavicular joint\n",
      "opacity that could represent sequela of recent pneumonia\n",
      "unchanged marked increase in diameter of the right pulmonary artery\n",
      "similar abnormality in the right lung base\n",
      "clear bullae in the lungs\n",
      "evidence of a fracture of the proximal right humerus\n",
      "possible component of atelectasis in the medial hemidiaphragm\n",
      "left pleural effusion following pigtail catheter removal\n",
      "atelectasis in the left lower hemi thorax\n",
      "interstitial edema in the hyperexpanded right lung\n",
      "consolidation not at the right lung base\n",
      "vascular fullness\n",
      "mild-to-moderate post-operative cardiac enlargement\n",
      "potential infiltrate\n",
      "fluid in the left pleural space\n",
      "opacity in the right mid lung zone\n",
      "ununited fractures of the rib\n",
      "unchanged left lateral basilar pleural thickening\n",
      "increased large bilateral pleural effusions\n",
      "prominent left main pulmonary artery\n",
      "enlargement in a patient with intact midline sternal wires\n",
      "mildly increased area of infiltrate\n",
      "large amount of stool\n",
      "small vague increased right middle lobe opacity\n",
      "fluid in an enlarged esophageal diverticulum\n",
      "subsegmental linear atelectasis in the mid-to-lower lung\n",
      "increased loculated pleural fluid in the right major fissure compared to previous study\n",
      "difficult to fully assess on a background bilateral increased opacities\n",
      "hilum enlargement\n",
      "pulmonary vessels seen on end\n",
      "increased mediastinal venous distention\n",
      "atelectasis of the left diaphragm\n",
      "signs indicative of interstitial lung edema substantially improved\n",
      "likely component of tension in chest tube\n",
      "lung parenchymal nodules\n",
      "stable prominence of pulmonary vessels\n",
      "stable bibasilar fibrotic changes\n",
      "left calcified pleural plaques over the hemidiaphragms\n",
      "parenchymal opacity in the left lower lung\n",
      "new left apical nodule\n",
      "rotated free air\n",
      "chronic degenerative disease\n",
      "infradiaphragmatic air\n",
      "comparison with studies showing the acute pneumonic process\n",
      "tuberculosis to be ruled out\n",
      "fibrotic scarring\n",
      "left pleural effusion remains moderate in size\n",
      "larger bore right-sided central venous catheter seen\n",
      "right greater than left diffuse opacification of the lungs\n",
      "moderate stable pleural effusion\n",
      "layering radiodense contrast in the upper abdomen\n",
      "edema\n",
      "presence of mediastinal lymphadenopathy\n",
      "radiopaque portion most likely related to the gastric fundus\n",
      "consolidation in the superior segment of the right lower lobe\n",
      "cardiomegaly in costophrenic angles\n",
      "splinting in the right lung to a lesser extent\n",
      "enlargement consistent with cardiomegaly\n",
      "minimal pleural effusion after thoracocentesis\n",
      "normally hyperexpanded lungs\n",
      "calcified splenic cystic lesion in the left upper quadrant\n",
      "relatively extensive right basilar atelectasis\n",
      "no significant change in pulmonary cystic structures\n",
      "bilateral ground-glass perihilar opacities\n",
      "internal jugular central venous line malposition\n",
      "change in nodule\n",
      "previous involvement of the lung\n",
      "pneumonia involving both upper lobes\n",
      "increased size of pulmonary parenchymal nodules\n",
      "mediastinal drain\n",
      "nodule projecting near the overlying lead on the left chest\n",
      "right CP angle compatible with pleural effusion\n",
      "small apical consolidation\n",
      "pulmonary fibrosis that affects the lower lungs\n"
     ]
    }
   ],
   "source": [
    "# dicom_id = dicom_ids[5040]\n",
    "# dicom_id = '59438c05-50a25def-e33ef9fd-433adade-bdeaa4f7'\n",
    "dicom_id = dicom_ids[0]\n",
    "metadata = get_detailed_metadata_for_dicom_id(dicom_id)[0]\n",
    "ridx = metadata['report_index']\n",
    "print(metadata)\n",
    "print()\n",
    "print()\n",
    "print(read_txt(metadata['filepath']))\n",
    "print()\n",
    "print()\n",
    "facts = integrated_report_facts[ridx]['facts']\n",
    "print('. '.join(facts))\n",
    "print()\n",
    "print_bold('All facts:')\n",
    "facts = integrated_report_facts[ridx]['facts']\n",
    "print(facts)\n",
    "print()\n",
    "print_bold('Relevant positive facts:')\n",
    "positive_facts = [aux['facts'][idx] for idx in dicom_id_to_pos_facts[dicom_id]]\n",
    "print(positive_facts)\n",
    "print()\n",
    "print_bold('Excluded positive facts:')\n",
    "print([f for f in facts if f not in positive_facts])\n",
    "print()\n",
    "print_bold('All strong negative facts:')\n",
    "all_strong_negative_facts = set()\n",
    "for x in (bfis[ridx]['findings'], bfis[ridx]['findings']):\n",
    "    for s in sent_tokenize(x):\n",
    "        nf = s2nf[s]\n",
    "        if nf:\n",
    "            print('------')\n",
    "            print(s)\n",
    "            print(nf)\n",
    "            for k, v in nf.items():\n",
    "                all_strong_negative_facts.update(v)\n",
    "all_strong_negative_facts = list(all_strong_negative_facts)\n",
    "print()\n",
    "print_bold('Relevant strong negative facts:')\n",
    "strong_negative_facts = [aux['facts'][idx] for idx in dicom_id_to_strong_neg_facts[dicom_id]]\n",
    "print(strong_negative_facts)\n",
    "print()\n",
    "print_bold('Excluded strong negative facts:')\n",
    "excluded_strong_negative_facts = [x for x in all_strong_negative_facts if x not in strong_negative_facts]\n",
    "print(excluded_strong_negative_facts)\n",
    "print()\n",
    "print_bold('Weak negative facts:')\n",
    "weak_negative_facts = [aux['facts'][idx] for idx in dicom_id_to_weak_neg_facts[dicom_id]]\n",
    "for f in weak_negative_facts:\n",
    "    print(f)"
   ]
  },
  {
   "cell_type": "code",
   "execution_count": 679,
   "id": "e1c4bb42",
   "metadata": {},
   "outputs": [
    {
     "name": "stdout",
     "output_type": "stream",
     "text": [
      "\u001b[1m\u001b[34mRunning _find_relevant_facts_with_respect_to_anchor_facts()...\u001b[0m\n",
      "len(anchor_facts): 25\n",
      "Loading /home/pamessina/medvqa-workspace/cache/mimiccxr/huggingface/integrated_fact_metadata(591920,209004293).jsonl...\n",
      "len(banned_facts): 112282\n",
      "Loaded 479638 unique facts (skipped 112282 facts)\n",
      "Loaded 250466 unique general facts\n",
      "Loading /home/pamessina/medvqa-workspace/cache/mimiccxr/integrated_sentence_to_negative_facts(877989,157547664).jsonl...\n",
      "len(unique_negative_facts): 21145\n",
      "len(unique_negative_facts): 20889 (after removing banned facts)\n",
      "Matching anchor fact 1/25: Aortic enlargement...\n",
      "100%|████████████████████████████████| 652433/652433 [00:07<00:00, 84927.67it/s]\n",
      "\tMatched 2305 facts\n",
      "Matching anchor fact 2/25: Atelectasis...\n",
      "100%|████████████████████████████████| 652433/652433 [00:09<00:00, 70781.80it/s]\n",
      "\tMatched 32094 facts\n",
      "Matching anchor fact 3/25: COPD...\n",
      "100%|███████████████████████████████| 652433/652433 [00:06<00:00, 104968.53it/s]\n",
      "\tMatched 964 facts\n",
      "Matching anchor fact 4/25: Calcification...\n",
      "100%|███████████████████████████████| 652433/652433 [00:02<00:00, 307657.15it/s]\n",
      "\tMatched 11033 facts\n",
      "Matching anchor fact 5/25: Cardiomegaly...\n",
      "100%|████████████████████████████████| 652433/652433 [00:07<00:00, 90913.42it/s]\n",
      "\tMatched 7010 facts\n",
      "Matching anchor fact 6/25: Clavicle fracture...\n",
      "100%|████████████████████████████████| 652433/652433 [00:06<00:00, 96030.33it/s]\n",
      "\tMatched 1224 facts\n",
      "Matching anchor fact 7/25: Consolidation...\n",
      "100%|████████████████████████████████| 652433/652433 [00:07<00:00, 85366.13it/s]\n",
      "\tMatched 27483 facts\n",
      "Matching anchor fact 8/25: Edema...\n",
      "100%|███████████████████████████████| 652433/652433 [00:05<00:00, 122896.22it/s]\n",
      "\tMatched 15320 facts\n",
      "Matching anchor fact 9/25: Emphysema...\n",
      "100%|███████████████████████████████| 652433/652433 [00:01<00:00, 405951.19it/s]\n",
      "\tMatched 4477 facts\n",
      "Matching anchor fact 10/25: Enlarged PA...\n",
      "100%|████████████████████████████████| 652433/652433 [00:16<00:00, 38622.67it/s]\n",
      "\tMatched 2585 facts\n",
      "Matching anchor fact 11/25: ILD...\n",
      "100%|████████████████████████████████| 652433/652433 [00:16<00:00, 39017.83it/s]\n",
      "\tMatched 7962 facts\n",
      "Matching anchor fact 12/25: Infiltration...\n",
      "100%|███████████████████████████████| 652433/652433 [00:02<00:00, 288620.43it/s]\n",
      "\tMatched 4733 facts\n",
      "Matching anchor fact 13/25: Lung Opacity...\n",
      "100%|████████████████████████████████| 652433/652433 [00:11<00:00, 56384.28it/s]\n",
      "\tMatched 113628 facts\n",
      "Matching anchor fact 14/25: Lung cavity...\n",
      "100%|███████████████████████████████| 652433/652433 [00:05<00:00, 127437.97it/s]\n",
      "\tMatched 2074 facts\n",
      "Matching anchor fact 15/25: Lung cyst...\n",
      "100%|███████████████████████████████| 652433/652433 [00:06<00:00, 105261.83it/s]\n",
      "\tMatched 1041 facts\n",
      "Matching anchor fact 16/25: Lung tumor...\n",
      "100%|████████████████████████████████| 652433/652433 [00:07<00:00, 83678.45it/s]\n",
      "\tMatched 1834 facts\n",
      "Matching anchor fact 17/25: Mediastinal shift...\n",
      "100%|███████████████████████████████| 652433/652433 [00:03<00:00, 164956.01it/s]\n",
      "\tMatched 1566 facts\n",
      "Matching anchor fact 18/25: Nodule/Mass...\n",
      "100%|███████████████████████████████| 652433/652433 [00:06<00:00, 107693.69it/s]\n",
      "\tMatched 24259 facts\n",
      "Matching anchor fact 19/25: Pleural effusion...\n",
      "100%|████████████████████████████████| 652433/652433 [00:08<00:00, 73147.36it/s]\n",
      "\tMatched 41985 facts\n",
      "Matching anchor fact 20/25: Pleural thickening...\n",
      "100%|███████████████████████████████| 652433/652433 [00:03<00:00, 179495.04it/s]\n",
      "\tMatched 3269 facts\n",
      "Matching anchor fact 21/25: Pneumonia...\n",
      "100%|████████████████████████████████| 652433/652433 [00:10<00:00, 59483.99it/s]\n",
      "\tMatched 17369 facts\n",
      "Matching anchor fact 22/25: Pneumothorax...\n",
      "100%|████████████████████████████████| 652433/652433 [00:15<00:00, 41693.54it/s]\n",
      "\tMatched 15527 facts\n",
      "Matching anchor fact 23/25: Pulmonary fibrosis...\n",
      "100%|███████████████████████████████| 652433/652433 [00:03<00:00, 174722.34it/s]\n",
      "\tMatched 2705 facts\n",
      "Matching anchor fact 24/25: Rib fracture...\n",
      "100%|████████████████████████████████| 652433/652433 [00:07<00:00, 88448.42it/s]\n",
      "\tMatched 9059 facts\n",
      "Matching anchor fact 25/25: Tuberculosis...\n",
      "100%|███████████████████████████████| 652433/652433 [00:04<00:00, 160121.65it/s]\n",
      "\tMatched 345 facts\n",
      "len(relevant_facts): 317035/652433\n",
      "Saving /mnt/data/pamessina_folder_backup_15_10_24/pamessina/medvqa-workspace/cache/mimiccxr_find_facts_relevant_to_anchor_facts(af=25,rf=317035)(hash=411,354564789477999375).pkl...\n",
      "\u001b[1m\u001b[34mDone!\u001b[0m\n"
     ]
    }
   ],
   "source": [
    "!python ../../scripts/mimiccxr/find_pos_neg_facts_per_report_around_reference_classes.py \\\n",
    "--task \"find_facts_relevant_to_anchor_facts\" \\\n",
    "--integrated_fact_metadata_jsonl_filepath \\\n",
    "\"/home/pamessina/medvqa-workspace/cache/mimiccxr/huggingface/integrated_fact_metadata(591920,209004293).jsonl\" \\\n",
    "--integrated_sentence_to_negative_facts_jsonl_filepath \\\n",
    "\"/home/pamessina/medvqa-workspace/cache/mimiccxr/integrated_sentence_to_negative_facts(877989,157547664).jsonl\""
   ]
  },
  {
   "cell_type": "code",
   "execution_count": 681,
   "id": "14184dfe",
   "metadata": {},
   "outputs": [],
   "source": [
    "tmp = load_pickle('/mnt/data/pamessina_folder_backup_15_10_24/pamessina/medvqa-workspace/cache/mimiccxr_find_facts_relevant_to_anchor_facts(af=25,rf=317035)(hash=411,354564789477999375).pkl')"
   ]
  },
  {
   "cell_type": "code",
   "execution_count": 682,
   "id": "cc5af5fa",
   "metadata": {},
   "outputs": [
    {
     "data": {
      "text/plain": [
       "dict_keys(['anchor_facts', 'relevant_facts', 'anchors_per_fact'])"
      ]
     },
     "execution_count": 682,
     "metadata": {},
     "output_type": "execute_result"
    }
   ],
   "source": [
    "tmp.keys()"
   ]
  },
  {
   "cell_type": "code",
   "execution_count": 684,
   "id": "b78757bb",
   "metadata": {
    "scrolled": true
   },
   "outputs": [
    {
     "data": {
      "text/plain": [
       "Counter({2: 31916, 1: 283680, 3: 1417, 4: 22})"
      ]
     },
     "execution_count": 684,
     "metadata": {},
     "output_type": "execute_result"
    }
   ],
   "source": [
    "from collections import Counter\n",
    "Counter(len(x) for x in tmp['anchors_per_fact'])"
   ]
  },
  {
   "cell_type": "code",
   "execution_count": 715,
   "id": "5d0839cf",
   "metadata": {
    "scrolled": true
   },
   "outputs": [
    {
     "name": "stdout",
     "output_type": "stream",
     "text": [
      "\u001b[1m\u001b[34mRunning _find_positive_negative_facts_per_report_with_fact_embeddings_and_mlp_nli()...\u001b[0m\n",
      "Reading /home/pamessina/medvqa-workspace/cache/mimiccxr/integrated_report_facts(79040140).jsonl...\n",
      "n_reports: 227835\n",
      "len(all_facts): 586352\n",
      "Loading /home/pamessina/medvqa-workspace/cache/mimiccxr/huggingface/integrated_fact_metadata(591920,209004293).jsonl...\n",
      "len(all_facts): 769532\n",
      "Loading /mnt/data/pamessina_folder_backup_15_10_24/pamessina/medvqa-workspace/cache/mimiccxr_find_facts_relevant_to_anchor_facts(af=25,rf=317035)(hash=411,354564789477999375).pkl...\n",
      "len(relevant_facts): 317035\n",
      "len(anchor_facts): 25\n",
      "len(anchors_per_fact): 317035\n",
      "len(all_facts): 773957\n",
      "len(anchor_to_relevant_facts): 297\n",
      "Min size: 1, Max size: 89199, Avg size: 1067.46\n",
      "Loading /mnt/data/pamessina/workspaces/medvqa-workspace/cache/mimiccxr/background_findings_and_impression_20230612_174143.json...\n",
      "Loading /home/pamessina/medvqa-workspace/cache/mimiccxr/integrated_sentence_to_negative_facts(877989,157547664).jsonl...\n",
      "Average number of strong negative facts per report: 3.54\n",
      "Total number of strong negative facts: 806072\n",
      "checkpoint_names = ['checkpoint_196_cacc+chf1+chf1+cscc+encc+hscc+nlcc+sass+spss+ta0)+ta1)+ta2)+ta0)+ta1)+ta2)+ta3)+ta4)+ta5)+ta6)+ta7)=0.9189.pt']\n",
      "  0%|                                                | 0/773957 [00:00<?, ?it/s]Loading cached text embeddings from /mnt/data/pamessina_folder_backup_15_10_24/pamessina/medvqa-workspace/cache/text_embeddings_cache(hash=469,680486110513564934).pkl\n",
      "len(self.cache[\"hashes\"]) = 1570508\n",
      "self.cache[\"embeddings\"].shape = (1570508, 128)\n",
      "100%|███████████████████████████████| 773957/773957 [00:02<00:00, 281118.49it/s]\n",
      "100%|███████████████████████████████| 317035/317035 [00:00<00:00, 440775.04it/s]\n",
      "all_fact_embeddings.shape: (773957, 128)\n",
      "relevant_fact_embeddings.shape: (317035, 128)\n",
      "Clustering embeddings...\n",
      "Running KMeans clustering with k=100\n",
      "Initialization complete\n",
      "Iteration 0, inertia 514927.75.\n",
      "Iteration 1, inertia 378437.8125.\n",
      "Iteration 2, inertia 368546.8125.\n",
      "Iteration 3, inertia 364703.40625.\n",
      "Iteration 4, inertia 362385.71875.\n",
      "Iteration 5, inertia 360779.5.\n",
      "Iteration 6, inertia 359634.53125.\n",
      "Iteration 7, inertia 358775.1875.\n",
      "Iteration 8, inertia 358075.96875.\n",
      "Iteration 9, inertia 357456.5625.\n",
      "Iteration 10, inertia 356888.46875.\n",
      "Iteration 11, inertia 356378.15625.\n",
      "Iteration 12, inertia 355876.625.\n",
      "Iteration 13, inertia 355442.40625.\n",
      "Iteration 14, inertia 355006.625.\n",
      "Iteration 15, inertia 354531.5.\n",
      "Iteration 16, inertia 354114.53125.\n",
      "Iteration 17, inertia 353841.125.\n",
      "Iteration 18, inertia 353666.5625.\n",
      "Iteration 19, inertia 353566.375.\n",
      "Iteration 20, inertia 353482.71875.\n",
      "Iteration 21, inertia 353402.25.\n",
      "Iteration 22, inertia 353319.6875.\n",
      "Iteration 23, inertia 353227.5625.\n",
      "Iteration 24, inertia 353140.1875.\n",
      "Iteration 25, inertia 353073.1875.\n",
      "Iteration 26, inertia 353026.0.\n",
      "Iteration 27, inertia 352993.1875.\n",
      "Iteration 28, inertia 352967.9375.\n",
      "Iteration 29, inertia 352949.15625.\n",
      "Iteration 30, inertia 352935.53125.\n",
      "Iteration 31, inertia 352925.0625.\n",
      "Iteration 32, inertia 352916.9375.\n",
      "Iteration 33, inertia 352910.03125.\n",
      "Iteration 34, inertia 352904.3125.\n",
      "Iteration 35, inertia 352899.59375.\n",
      "Iteration 36, inertia 352896.1875.\n",
      "Iteration 37, inertia 352891.875.\n",
      "Iteration 38, inertia 352889.125.\n",
      "Iteration 39, inertia 352886.78125.\n",
      "Iteration 40, inertia 352884.625.\n",
      "Iteration 41, inertia 352882.1875.\n",
      "Iteration 42, inertia 352880.3125.\n",
      "Iteration 43, inertia 352878.34375.\n",
      "Iteration 44, inertia 352876.5625.\n",
      "Iteration 45, inertia 352875.4375.\n",
      "Iteration 46, inertia 352873.875.\n",
      "Iteration 47, inertia 352873.0625.\n",
      "Iteration 48, inertia 352872.28125.\n",
      "Iteration 49, inertia 352871.0.\n",
      "Iteration 50, inertia 352870.25.\n",
      "Iteration 51, inertia 352868.4375.\n",
      "Iteration 52, inertia 352867.375.\n",
      "Iteration 53, inertia 352866.34375.\n",
      "Iteration 54, inertia 352865.125.\n",
      "Iteration 55, inertia 352864.5.\n",
      "Iteration 56, inertia 352863.4375.\n",
      "Iteration 57, inertia 352862.40625.\n",
      "Iteration 58, inertia 352861.53125.\n",
      "Iteration 59, inertia 352860.53125.\n",
      "Iteration 60, inertia 352859.1875.\n",
      "Iteration 61, inertia 352858.125.\n",
      "Iteration 62, inertia 352856.84375.\n",
      "Iteration 63, inertia 352854.8125.\n",
      "Iteration 64, inertia 352853.0.\n",
      "Iteration 65, inertia 352852.03125.\n",
      "Iteration 66, inertia 352850.5.\n",
      "Iteration 67, inertia 352848.5625.\n",
      "Iteration 68, inertia 352846.65625.\n",
      "Iteration 69, inertia 352845.15625.\n",
      "Iteration 70, inertia 352843.25.\n",
      "Iteration 71, inertia 352842.0625.\n",
      "Iteration 72, inertia 352840.09375.\n",
      "Iteration 73, inertia 352839.0.\n",
      "Iteration 74, inertia 352837.5625.\n",
      "Iteration 75, inertia 352836.46875.\n",
      "Iteration 76, inertia 352835.125.\n",
      "Iteration 77, inertia 352834.0625.\n",
      "Iteration 78, inertia 352833.4375.\n",
      "Iteration 79, inertia 352832.09375.\n",
      "Iteration 80, inertia 352830.875.\n",
      "Iteration 81, inertia 352829.875.\n",
      "Iteration 82, inertia 352828.65625.\n",
      "Iteration 83, inertia 352827.40625.\n",
      "Iteration 84, inertia 352827.09375.\n",
      "Iteration 85, inertia 352825.625.\n",
      "Iteration 86, inertia 352824.125.\n",
      "Iteration 87, inertia 352823.03125.\n",
      "Iteration 88, inertia 352822.0625.\n",
      "Iteration 89, inertia 352821.6875.\n",
      "Iteration 90, inertia 352820.53125.\n",
      "Iteration 91, inertia 352819.875.\n",
      "Iteration 92, inertia 352819.21875.\n",
      "Iteration 93, inertia 352818.1875.\n",
      "Iteration 94, inertia 352816.78125.\n",
      "Iteration 95, inertia 352815.125.\n",
      "Iteration 96, inertia 352814.28125.\n",
      "Iteration 97, inertia 352813.46875.\n",
      "Iteration 98, inertia 352811.40625.\n",
      "Iteration 99, inertia 352810.15625.\n",
      "Iteration 100, inertia 352809.03125.\n",
      "Iteration 101, inertia 352807.3125.\n",
      "Iteration 102, inertia 352805.5625.\n",
      "Iteration 103, inertia 352803.46875.\n",
      "Iteration 104, inertia 352801.65625.\n",
      "Iteration 105, inertia 352800.4375.\n",
      "Iteration 106, inertia 352800.34375.\n",
      "Iteration 107, inertia 352798.75.\n",
      "Iteration 108, inertia 352797.90625.\n",
      "Iteration 109, inertia 352796.53125.\n",
      "Iteration 110, inertia 352795.625.\n",
      "Iteration 111, inertia 352794.53125.\n",
      "Iteration 112, inertia 352793.3125.\n",
      "Iteration 113, inertia 352792.21875.\n",
      "Iteration 114, inertia 352790.8125.\n",
      "Iteration 115, inertia 352789.53125.\n",
      "Iteration 116, inertia 352788.34375.\n",
      "Iteration 117, inertia 352787.15625.\n",
      "Iteration 118, inertia 352786.03125.\n",
      "Iteration 119, inertia 352785.15625.\n",
      "Iteration 120, inertia 352784.375.\n",
      "Iteration 121, inertia 352783.59375.\n",
      "Iteration 122, inertia 352782.625.\n",
      "Iteration 123, inertia 352782.125.\n",
      "Iteration 124, inertia 352781.15625.\n",
      "Iteration 125, inertia 352780.1875.\n",
      "Iteration 126, inertia 352779.1875.\n",
      "Iteration 127, inertia 352778.59375.\n",
      "Iteration 128, inertia 352777.34375.\n",
      "Iteration 129, inertia 352775.9375.\n",
      "Iteration 130, inertia 352774.21875.\n",
      "Iteration 131, inertia 352771.96875.\n",
      "Iteration 132, inertia 352769.09375.\n",
      "Iteration 133, inertia 352765.71875.\n",
      "Iteration 134, inertia 352762.0.\n",
      "Iteration 135, inertia 352757.28125.\n",
      "Iteration 136, inertia 352751.4375.\n",
      "Iteration 137, inertia 352744.125.\n",
      "Iteration 138, inertia 352736.0.\n",
      "Iteration 139, inertia 352726.75.\n",
      "Iteration 140, inertia 352716.9375.\n",
      "Iteration 141, inertia 352706.5625.\n",
      "Iteration 142, inertia 352698.875.\n",
      "Iteration 143, inertia 352692.9375.\n",
      "Iteration 144, inertia 352688.40625.\n",
      "Iteration 145, inertia 352685.0625.\n",
      "Iteration 146, inertia 352683.375.\n",
      "Iteration 147, inertia 352681.96875.\n",
      "Iteration 148, inertia 352680.28125.\n",
      "Iteration 149, inertia 352678.5625.\n",
      "Iteration 150, inertia 352678.46875.\n",
      "Iteration 151, inertia 352677.53125.\n",
      "Iteration 152, inertia 352676.875.\n",
      "Iteration 153, inertia 352676.0.\n",
      "Iteration 154, inertia 352675.90625.\n",
      "Iteration 155, inertia 352675.84375.\n",
      "Iteration 156, inertia 352675.78125.\n",
      "Iteration 157, inertia 352675.6875.\n",
      "Iteration 158, inertia 352675.4375.\n",
      "Iteration 159, inertia 352675.1875.\n",
      "Iteration 160, inertia 352675.0625.\n",
      "Iteration 161, inertia 352675.03125.\n",
      "Iteration 162, inertia 352675.1875.\n",
      "Iteration 163, inertia 352675.125.\n",
      "Iteration 164, inertia 352675.0.\n",
      "Iteration 165, inertia 352674.96875.\n",
      "Iteration 166, inertia 352674.875.\n",
      "Iteration 167, inertia 352674.65625.\n",
      "Iteration 168, inertia 352674.625.\n",
      "Iteration 169, inertia 352674.4375.\n",
      "Iteration 170, inertia 352674.5.\n",
      "Iteration 171, inertia 352674.59375.\n",
      "Iteration 172, inertia 352674.46875.\n",
      "Iteration 173, inertia 352674.5.\n",
      "Iteration 174, inertia 352674.28125.\n",
      "Iteration 175, inertia 352674.40625.\n",
      "Iteration 176, inertia 352674.53125.\n",
      "Iteration 177, inertia 352674.4375.\n",
      "Converged at iteration 177: center shift 5.762823320765165e-07 within tolerance 7.62301916256547e-07.\n"
     ]
    },
    {
     "name": "stdout",
     "output_type": "stream",
     "text": [
      "Saved kmeans labels to /mnt/data/pamessina_folder_backup_15_10_24/pamessina/medvqa-workspace/cache/kmeans_labels(34535504,3823435769704199565).pkl\n",
      "Anchor (12, 17): 6424 facts, 71 non-empty clusters, min=1, max=1043, avg=90.48\n",
      "Anchor (12,): 89199 facts, 99 non-empty clusters, min=1, max=5592, avg=901.00\n",
      "Anchor (17,): 14984 facts, 85 non-empty clusters, min=1, max=3925, avg=176.28\n",
      "Anchor (12, 17, 20): 35 facts, 8 non-empty clusters, min=1, max=13, avg=4.38\n",
      "Anchor (3, 17): 764 facts, 29 non-empty clusters, min=1, max=331, avg=26.34\n",
      "Anchor (3,): 9447 facts, 66 non-empty clusters, min=1, max=2046, avg=143.14\n",
      "Anchor (21,): 15120 facts, 72 non-empty clusters, min=1, max=4774, avg=210.00\n",
      "Anchor (3, 12): 385 facts, 27 non-empty clusters, min=1, max=197, avg=14.26\n",
      "Anchor (1,): 27112 facts, 79 non-empty clusters, min=1, max=7748, avg=343.19\n",
      "Anchor (18,): 38955 facts, 86 non-empty clusters, min=1, max=9941, avg=452.97\n",
      "Anchor (13,): 1511 facts, 77 non-empty clusters, min=1, max=223, avg=19.62\n",
      "Anchor (3, 12, 17): 152 facts, 16 non-empty clusters, min=1, max=91, avg=9.50\n",
      "Anchor (23,): 8811 facts, 44 non-empty clusters, min=1, max=3122, avg=200.25\n",
      "Anchor (20,): 11876 facts, 68 non-empty clusters, min=1, max=5682, avg=174.65\n",
      "Anchor (14,): 839 facts, 46 non-empty clusters, min=1, max=367, avg=18.24\n",
      "Anchor (13, 21): 14 facts, 7 non-empty clusters, min=1, max=6, avg=2.00\n",
      "Anchor (11,): 4002 facts, 65 non-empty clusters, min=1, max=531, avg=61.57\n",
      "Anchor (6,): 18009 facts, 79 non-empty clusters, min=1, max=1599, avg=227.96\n",
      "Anchor (19,): 2823 facts, 54 non-empty clusters, min=1, max=1357, avg=52.28\n",
      "Anchor (6, 12): 6571 facts, 59 non-empty clusters, min=1, max=724, avg=111.37\n",
      "Anchor (0,): 2078 facts, 30 non-empty clusters, min=1, max=1616, avg=69.27\n",
      "Anchor (5,): 1219 facts, 7 non-empty clusters, min=1, max=856, avg=174.14\n",
      "Anchor (13, 17): 205 facts, 28 non-empty clusters, min=1, max=62, avg=7.32\n",
      "Anchor (15, 17): 334 facts, 13 non-empty clusters, min=1, max=280, avg=25.69\n",
      "Anchor (13, 14): 13 facts, 6 non-empty clusters, min=1, max=6, avg=2.17\n",
      "Anchor (7,): 13195 facts, 70 non-empty clusters, min=1, max=4838, avg=188.50\n",
      "Anchor (8,): 4233 facts, 58 non-empty clusters, min=1, max=1893, avg=72.98\n",
      "Anchor (2,): 843 facts, 19 non-empty clusters, min=1, max=729, avg=44.37\n",
      "Anchor (4,): 6479 facts, 50 non-empty clusters, min=1, max=3151, avg=129.58\n",
      "Anchor (10, 20): 99 facts, 8 non-empty clusters, min=1, max=72, avg=12.38\n",
      "Anchor (15,): 1274 facts, 37 non-empty clusters, min=1, max=978, avg=34.43\n",
      "Anchor (1, 20): 170 facts, 18 non-empty clusters, min=1, max=61, avg=9.44\n",
      "Anchor (1, 18): 1011 facts, 30 non-empty clusters, min=1, max=496, avg=33.70\n",
      "Anchor (10,): 5378 facts, 54 non-empty clusters, min=1, max=2135, avg=99.59\n",
      "Anchor (1, 12): 2822 facts, 43 non-empty clusters, min=1, max=1240, avg=65.63\n",
      "Anchor (10, 12): 1179 facts, 35 non-empty clusters, min=1, max=284, avg=33.69\n",
      "Anchor (2, 8): 33 facts, 1 non-empty clusters, min=33, max=33, avg=33.00\n",
      "Anchor (2, 20): 3 facts, 1 non-empty clusters, min=3, max=3, avg=3.00\n",
      "Anchor (1, 2): 2 facts, 1 non-empty clusters, min=2, max=2, avg=2.00\n",
      "Anchor (2, 6): 3 facts, 1 non-empty clusters, min=3, max=3, avg=3.00\n",
      "Anchor (2, 7): 6 facts, 1 non-empty clusters, min=6, max=6, avg=6.00\n",
      "Anchor (2, 18): 2 facts, 2 non-empty clusters, min=1, max=1, avg=1.00\n",
      "Anchor (18, 21): 237 facts, 26 non-empty clusters, min=1, max=59, avg=9.12\n",
      "Anchor (16,): 1469 facts, 36 non-empty clusters, min=1, max=415, avg=40.81\n",
      "Anchor (9,): 2510 facts, 41 non-empty clusters, min=1, max=799, avg=61.22\n",
      "Anchor (6, 20): 1019 facts, 26 non-empty clusters, min=1, max=416, avg=39.19\n",
      "Anchor (1, 6, 20): 8 facts, 4 non-empty clusters, min=1, max=5, avg=2.00\n",
      "Anchor (4, 14): 3 facts, 3 non-empty clusters, min=1, max=1, avg=1.00\n",
      "Anchor (12, 22): 134 facts, 19 non-empty clusters, min=1, max=71, avg=7.05\n",
      "Anchor (10, 22): 306 facts, 14 non-empty clusters, min=1, max=206, avg=21.86\n",
      "Anchor (22,): 2040 facts, 41 non-empty clusters, min=1, max=582, avg=49.76\n",
      "Anchor (18, 23): 19 facts, 7 non-empty clusters, min=1, max=9, avg=2.71\n",
      "Anchor (19, 23): 91 facts, 5 non-empty clusters, min=2, max=50, avg=18.20\n",
      "Anchor (10, 12, 17): 311 facts, 30 non-empty clusters, min=1, max=74, avg=10.37\n",
      "Anchor (12, 18): 803 facts, 36 non-empty clusters, min=1, max=208, avg=22.31\n",
      "Anchor (4, 12): 224 facts, 16 non-empty clusters, min=1, max=94, avg=14.00\n",
      "Anchor (10, 17): 129 facts, 18 non-empty clusters, min=1, max=50, avg=7.17\n",
      "Anchor (12, 20): 2977 facts, 33 non-empty clusters, min=1, max=1153, avg=90.21\n",
      "Anchor (7, 10): 251 facts, 7 non-empty clusters, min=1, max=151, avg=35.86\n",
      "Anchor (10, 18): 5 facts, 4 non-empty clusters, min=1, max=2, avg=1.25\n",
      "Anchor (6, 12, 20): 203 facts, 18 non-empty clusters, min=1, max=66, avg=11.28\n",
      "Anchor (18, 20): 96 facts, 12 non-empty clusters, min=1, max=47, avg=8.00\n",
      "Anchor (6, 17): 278 facts, 31 non-empty clusters, min=1, max=61, avg=8.97\n",
      "Anchor (1, 6): 421 facts, 25 non-empty clusters, min=1, max=213, avg=16.84\n",
      "Anchor (6, 18): 239 facts, 26 non-empty clusters, min=1, max=97, avg=9.19\n",
      "Anchor (6, 12, 17): 67 facts, 20 non-empty clusters, min=1, max=17, avg=3.35\n",
      "Anchor (7, 22): 15 facts, 7 non-empty clusters, min=1, max=4, avg=2.14\n",
      "Anchor (10, 11): 22 facts, 5 non-empty clusters, min=2, max=8, avg=4.40\n",
      "Anchor (15, 20): 14 facts, 2 non-empty clusters, min=1, max=13, avg=7.00\n",
      "Anchor (13, 18): 15 facts, 9 non-empty clusters, min=1, max=4, avg=1.67\n",
      "Anchor (7, 13): 2 facts, 2 non-empty clusters, min=1, max=1, avg=1.00\n",
      "Anchor (10, 12, 21): 1 facts, 1 non-empty clusters, min=1, max=1, avg=1.00\n",
      "Anchor (24,): 274 facts, 18 non-empty clusters, min=1, max=163, avg=15.22\n",
      "Anchor (20, 24): 13 facts, 5 non-empty clusters, min=1, max=9, avg=2.60\n",
      "Anchor (11, 20): 381 facts, 25 non-empty clusters, min=1, max=209, avg=15.24\n",
      "Anchor (1, 6, 12): 114 facts, 12 non-empty clusters, min=1, max=63, avg=9.50\n",
      "Anchor (8, 14): 36 facts, 5 non-empty clusters, min=1, max=26, avg=7.20\n",
      "Anchor (12, 19): 37 facts, 6 non-empty clusters, min=2, max=22, avg=6.17\n",
      "Anchor (7, 12): 993 facts, 32 non-empty clusters, min=1, max=637, avg=31.03\n",
      "Anchor (13, 20): 81 facts, 26 non-empty clusters, min=1, max=10, avg=3.12\n",
      "Anchor (6, 14): 7 facts, 4 non-empty clusters, min=1, max=3, avg=1.75\n",
      "Anchor (6, 12, 18): 11 facts, 6 non-empty clusters, min=1, max=4, avg=1.83\n",
      "Anchor (6, 7, 12): 131 facts, 16 non-empty clusters, min=1, max=36, avg=8.19\n",
      "Anchor (6, 12, 22): 4 facts, 2 non-empty clusters, min=1, max=3, avg=2.00\n",
      "Anchor (7, 11): 44 facts, 8 non-empty clusters, min=1, max=29, avg=5.50\n",
      "Anchor (0, 3): 129 facts, 11 non-empty clusters, min=1, max=88, avg=11.73\n",
      "Anchor (0, 9): 10 facts, 5 non-empty clusters, min=1, max=4, avg=2.00\n",
      "Anchor (0, 1): 2 facts, 2 non-empty clusters, min=1, max=1, avg=1.00\n",
      "Anchor (0, 18): 2 facts, 1 non-empty clusters, min=2, max=2, avg=2.00\n",
      "Anchor (0, 17): 17 facts, 5 non-empty clusters, min=1, max=9, avg=3.40\n",
      "Anchor (3, 6): 11 facts, 8 non-empty clusters, min=1, max=2, avg=1.38\n",
      "Anchor (12, 15): 109 facts, 17 non-empty clusters, min=1, max=79, avg=6.41\n",
      "Anchor (7, 20): 152 facts, 17 non-empty clusters, min=1, max=73, avg=8.94\n",
      "Anchor (1, 11): 26 facts, 10 non-empty clusters, min=1, max=7, avg=2.60\n",
      "Anchor (1, 17): 73 facts, 21 non-empty clusters, min=1, max=29, avg=3.48\n",
      "Anchor (14, 22): 26 facts, 8 non-empty clusters, min=1, max=12, avg=3.25\n",
      "Anchor (6, 11): 15 facts, 6 non-empty clusters, min=1, max=8, avg=2.50\n",
      "Anchor (6, 7): 138 facts, 20 non-empty clusters, min=1, max=35, avg=6.90\n",
      "Anchor (12, 13): 77 facts, 22 non-empty clusters, min=1, max=19, avg=3.50\n",
      "Anchor (7, 18): 93 facts, 14 non-empty clusters, min=1, max=37, avg=6.64\n",
      "Anchor (1, 10): 17 facts, 3 non-empty clusters, min=2, max=10, avg=5.67\n",
      "Anchor (17, 22): 8 facts, 6 non-empty clusters, min=1, max=2, avg=1.33\n",
      "Anchor (12, 23): 72 facts, 13 non-empty clusters, min=1, max=40, avg=5.54\n",
      "Anchor (17, 18): 65 facts, 19 non-empty clusters, min=1, max=13, avg=3.42\n",
      "Anchor (1, 7): 96 facts, 12 non-empty clusters, min=1, max=48, avg=8.00\n",
      "Anchor (1, 21): 28 facts, 9 non-empty clusters, min=1, max=9, avg=3.11\n",
      "Anchor (16, 17): 17 facts, 5 non-empty clusters, min=1, max=11, avg=3.40\n",
      "Anchor (18, 19): 173 facts, 17 non-empty clusters, min=1, max=62, avg=10.18\n",
      "Anchor (17, 23): 28 facts, 13 non-empty clusters, min=1, max=6, avg=2.15\n",
      "Anchor (11, 15): 27 facts, 9 non-empty clusters, min=1, max=11, avg=3.00\n",
      "Anchor (7, 8): 34 facts, 2 non-empty clusters, min=3, max=31, avg=17.00\n",
      "Anchor (12, 24): 12 facts, 5 non-empty clusters, min=1, max=6, avg=2.40\n",
      "Anchor (17, 19): 58 facts, 11 non-empty clusters, min=1, max=24, avg=5.27\n",
      "Anchor (1, 6, 18): 8 facts, 5 non-empty clusters, min=1, max=3, avg=1.60\n",
      "Anchor (1, 15): 11 facts, 6 non-empty clusters, min=1, max=3, avg=1.83\n",
      "Anchor (1, 4): 19 facts, 8 non-empty clusters, min=1, max=9, avg=2.38\n",
      "Anchor (1, 16): 15 facts, 5 non-empty clusters, min=1, max=11, avg=3.00\n",
      "Anchor (1, 14): 4 facts, 3 non-empty clusters, min=1, max=2, avg=1.33\n",
      "Anchor (1, 22): 12 facts, 7 non-empty clusters, min=1, max=4, avg=1.71\n",
      "Anchor (1, 19): 10 facts, 6 non-empty clusters, min=1, max=4, avg=1.67\n",
      "Anchor (1, 23): 5 facts, 2 non-empty clusters, min=1, max=4, avg=2.50\n",
      "Anchor (1, 18, 20): 3 facts, 3 non-empty clusters, min=1, max=1, avg=1.00\n",
      "Anchor (1, 3): 5 facts, 5 non-empty clusters, min=1, max=1, avg=1.00\n",
      "Anchor (1, 8, 14): 2 facts, 2 non-empty clusters, min=1, max=1, avg=1.00\n",
      "Anchor (8, 12): 30 facts, 4 non-empty clusters, min=1, max=27, avg=7.50\n",
      "Anchor (3, 19): 44 facts, 3 non-empty clusters, min=1, max=34, avg=14.67\n",
      "Anchor (6, 22): 13 facts, 6 non-empty clusters, min=1, max=6, avg=2.17\n",
      "Anchor (3, 22): 29 facts, 6 non-empty clusters, min=1, max=19, avg=4.83\n",
      "Anchor (19, 24): 7 facts, 3 non-empty clusters, min=1, max=5, avg=2.33\n",
      "Anchor (1, 6, 7): 4 facts, 2 non-empty clusters, min=1, max=3, avg=2.00\n",
      "Anchor (6, 10): 15 facts, 6 non-empty clusters, min=1, max=4, avg=2.50\n",
      "Anchor (1, 12, 18): 53 facts, 8 non-empty clusters, min=1, max=31, avg=6.62\n",
      "Anchor (11, 12): 103 facts, 20 non-empty clusters, min=1, max=23, avg=5.15\n",
      "Anchor (10, 12, 22): 44 facts, 2 non-empty clusters, min=3, max=41, avg=22.00\n",
      "Anchor (7, 12, 17): 9 facts, 5 non-empty clusters, min=1, max=3, avg=1.80\n",
      "Anchor (6, 7, 12, 17): 1 facts, 1 non-empty clusters, min=1, max=1, avg=1.00\n",
      "Anchor (12, 15, 17): 20 facts, 2 non-empty clusters, min=1, max=19, avg=10.00\n",
      "Anchor (1, 12, 20): 13 facts, 3 non-empty clusters, min=1, max=7, avg=4.33\n",
      "Anchor (6, 10, 12, 17): 4 facts, 2 non-empty clusters, min=2, max=2, avg=2.00\n",
      "Anchor (7, 10, 12, 17): 5 facts, 2 non-empty clusters, min=1, max=4, avg=2.50\n",
      "Anchor (4, 7): 70 facts, 6 non-empty clusters, min=1, max=38, avg=11.67\n",
      "Anchor (14, 17): 11 facts, 4 non-empty clusters, min=1, max=5, avg=2.75\n",
      "Anchor (2, 14): 2 facts, 1 non-empty clusters, min=2, max=2, avg=2.00\n",
      "Anchor (3, 14): 26 facts, 8 non-empty clusters, min=1, max=6, avg=3.25\n",
      "Anchor (3, 24): 12 facts, 4 non-empty clusters, min=1, max=6, avg=3.00\n",
      "Anchor (3, 21): 3 facts, 3 non-empty clusters, min=1, max=1, avg=1.00\n",
      "Anchor (3, 10, 12, 17): 2 facts, 2 non-empty clusters, min=1, max=1, avg=1.00\n",
      "Anchor (3, 17, 20): 3 facts, 1 non-empty clusters, min=3, max=3, avg=3.00\n",
      "Anchor (3, 13, 17): 1 facts, 1 non-empty clusters, min=1, max=1, avg=1.00\n",
      "Anchor (3, 20): 4 facts, 3 non-empty clusters, min=1, max=2, avg=1.33\n",
      "Anchor (3, 15): 4 facts, 1 non-empty clusters, min=4, max=4, avg=4.00\n",
      "Anchor (11, 18, 20): 2 facts, 2 non-empty clusters, min=1, max=1, avg=1.00\n",
      "Anchor (4, 9): 20 facts, 5 non-empty clusters, min=1, max=14, avg=4.00\n",
      "Anchor (4, 18): 125 facts, 9 non-empty clusters, min=1, max=55, avg=13.89\n",
      "Anchor (0, 4): 21 facts, 4 non-empty clusters, min=1, max=18, avg=5.25\n",
      "Anchor (2, 4): 3 facts, 2 non-empty clusters, min=1, max=2, avg=1.50\n",
      "Anchor (4, 20): 14 facts, 2 non-empty clusters, min=3, max=11, avg=7.00\n",
      "Anchor (4, 6): 5 facts, 3 non-empty clusters, min=1, max=3, avg=1.67\n",
      "Anchor (4, 10): 4 facts, 4 non-empty clusters, min=1, max=1, avg=1.00\n",
      "Anchor (4, 21): 1 facts, 1 non-empty clusters, min=1, max=1, avg=1.00\n",
      "Anchor (6, 13): 99 facts, 20 non-empty clusters, min=1, max=21, avg=4.95\n",
      "Anchor (13, 24): 4 facts, 4 non-empty clusters, min=1, max=1, avg=1.00\n",
      "Anchor (13, 15, 17): 4 facts, 2 non-empty clusters, min=2, max=2, avg=2.00\n",
      "Anchor (12, 13, 17): 25 facts, 10 non-empty clusters, min=1, max=10, avg=2.50\n",
      "Anchor (13, 15): 7 facts, 2 non-empty clusters, min=1, max=6, avg=3.50\n",
      "Anchor (1, 13): 3 facts, 3 non-empty clusters, min=1, max=1, avg=1.00\n",
      "Anchor (17, 20): 70 facts, 18 non-empty clusters, min=1, max=20, avg=3.89\n",
      "Anchor (11, 17): 53 facts, 17 non-empty clusters, min=1, max=14, avg=3.12\n",
      "Anchor (10, 11, 22): 2 facts, 1 non-empty clusters, min=2, max=2, avg=2.00\n",
      "Anchor (10, 14): 9 facts, 2 non-empty clusters, min=1, max=8, avg=4.50\n",
      "Anchor (2, 10, 22): 1 facts, 1 non-empty clusters, min=1, max=1, avg=1.00\n",
      "Anchor (8, 22): 8 facts, 1 non-empty clusters, min=8, max=8, avg=8.00\n",
      "Anchor (2, 11): 3 facts, 3 non-empty clusters, min=1, max=1, avg=1.00\n",
      "Anchor (8, 10): 25 facts, 2 non-empty clusters, min=1, max=24, avg=12.50\n",
      "Anchor (2, 10): 47 facts, 3 non-empty clusters, min=6, max=21, avg=15.67\n",
      "Anchor (5, 23): 5 facts, 3 non-empty clusters, min=1, max=3, avg=1.67\n",
      "Anchor (6, 10, 22): 4 facts, 3 non-empty clusters, min=1, max=2, avg=1.33\n",
      "Anchor (7, 15): 2 facts, 2 non-empty clusters, min=1, max=1, avg=1.00\n",
      "Anchor (6, 7, 17): 3 facts, 2 non-empty clusters, min=1, max=2, avg=1.50\n",
      "Anchor (11, 18): 19 facts, 10 non-empty clusters, min=1, max=5, avg=1.90\n",
      "Anchor (8, 10, 22): 3 facts, 1 non-empty clusters, min=3, max=3, avg=3.00\n",
      "Anchor (8, 17): 8 facts, 2 non-empty clusters, min=1, max=7, avg=4.00\n",
      "Anchor (7, 14, 20): 1 facts, 1 non-empty clusters, min=1, max=1, avg=1.00\n",
      "Anchor (1, 7, 20): 1 facts, 1 non-empty clusters, min=1, max=1, avg=1.00\n",
      "Anchor (6, 7, 10, 20): 2 facts, 2 non-empty clusters, min=1, max=1, avg=1.00\n",
      "Anchor (1, 7, 18): 3 facts, 2 non-empty clusters, min=1, max=2, avg=1.50\n",
      "Anchor (1, 7, 17): 2 facts, 1 non-empty clusters, min=2, max=2, avg=2.00\n",
      "Anchor (8, 21): 31 facts, 10 non-empty clusters, min=1, max=9, avg=3.10\n",
      "Anchor (12, 21): 23 facts, 10 non-empty clusters, min=1, max=8, avg=2.30\n",
      "Anchor (20, 22): 25 facts, 9 non-empty clusters, min=1, max=12, avg=2.78\n",
      "Anchor (6, 10, 12): 11 facts, 7 non-empty clusters, min=1, max=3, avg=1.57\n",
      "Anchor (6, 23): 6 facts, 4 non-empty clusters, min=1, max=2, avg=1.50\n",
      "Anchor (6, 15): 14 facts, 6 non-empty clusters, min=1, max=9, avg=2.33\n",
      "Anchor (6, 16): 4 facts, 2 non-empty clusters, min=2, max=2, avg=2.00\n",
      "Anchor (6, 18, 20): 1 facts, 1 non-empty clusters, min=1, max=1, avg=1.00\n",
      "Anchor (6, 13, 17): 4 facts, 3 non-empty clusters, min=1, max=2, avg=1.33\n",
      "Anchor (6, 21): 7 facts, 4 non-empty clusters, min=1, max=3, avg=1.75\n",
      "Anchor (14, 18): 7 facts, 4 non-empty clusters, min=1, max=3, avg=1.75\n",
      "Anchor (12, 14): 29 facts, 14 non-empty clusters, min=1, max=8, avg=2.07\n",
      "Anchor (14, 20): 9 facts, 7 non-empty clusters, min=1, max=2, avg=1.29\n",
      "Anchor (12, 14, 17): 2 facts, 1 non-empty clusters, min=2, max=2, avg=2.00\n",
      "Anchor (3, 12, 24): 2 facts, 1 non-empty clusters, min=2, max=2, avg=2.00\n",
      "Anchor (14, 21): 8 facts, 5 non-empty clusters, min=1, max=2, avg=1.60\n",
      "Anchor (7, 21): 5 facts, 4 non-empty clusters, min=1, max=2, avg=1.25\n",
      "Anchor (7, 10, 12): 15 facts, 3 non-empty clusters, min=1, max=9, avg=5.00\n",
      "Anchor (7, 12, 20): 2 facts, 2 non-empty clusters, min=1, max=1, avg=1.00\n",
      "Anchor (10, 12, 17, 20): 2 facts, 2 non-empty clusters, min=1, max=1, avg=1.00\n",
      "Anchor (11, 22): 1 facts, 1 non-empty clusters, min=1, max=1, avg=1.00\n",
      "Anchor (10, 12, 20): 32 facts, 4 non-empty clusters, min=1, max=27, avg=8.00\n",
      "Anchor (7, 17): 18 facts, 7 non-empty clusters, min=1, max=9, avg=2.57\n",
      "Anchor (9, 10): 8 facts, 3 non-empty clusters, min=1, max=6, avg=2.67\n",
      "Anchor (8, 9): 1 facts, 1 non-empty clusters, min=1, max=1, avg=1.00\n",
      "Anchor (16, 21): 16 facts, 6 non-empty clusters, min=1, max=4, avg=2.67\n",
      "Anchor (6, 13, 20): 1 facts, 1 non-empty clusters, min=1, max=1, avg=1.00\n",
      "Anchor (7, 14): 2 facts, 1 non-empty clusters, min=2, max=2, avg=2.00\n",
      "Anchor (7, 17, 20): 2 facts, 1 non-empty clusters, min=2, max=2, avg=2.00\n",
      "Anchor (16, 18): 25 facts, 6 non-empty clusters, min=1, max=19, avg=4.17\n",
      "Anchor (8, 13): 2 facts, 1 non-empty clusters, min=2, max=2, avg=2.00\n",
      "Anchor (8, 20): 14 facts, 2 non-empty clusters, min=1, max=13, avg=7.00\n",
      "Anchor (8, 23): 7 facts, 3 non-empty clusters, min=1, max=3, avg=2.33\n",
      "Anchor (6, 8, 20): 1 facts, 1 non-empty clusters, min=1, max=1, avg=1.00\n",
      "Anchor (6, 8): 5 facts, 2 non-empty clusters, min=2, max=3, avg=2.50\n",
      "Anchor (8, 14, 21): 1 facts, 1 non-empty clusters, min=1, max=1, avg=1.00\n",
      "Anchor (4, 17): 13 facts, 4 non-empty clusters, min=1, max=7, avg=3.25\n",
      "Anchor (2, 17): 2 facts, 1 non-empty clusters, min=2, max=2, avg=2.00\n",
      "Anchor (19, 22): 8 facts, 2 non-empty clusters, min=1, max=7, avg=4.00\n",
      "Anchor (12, 16): 12 facts, 6 non-empty clusters, min=1, max=4, avg=2.00\n",
      "Anchor (22, 24): 6 facts, 2 non-empty clusters, min=3, max=3, avg=3.00\n",
      "Anchor (2, 22): 2 facts, 1 non-empty clusters, min=2, max=2, avg=2.00\n",
      "Anchor (18, 22): 1 facts, 1 non-empty clusters, min=1, max=1, avg=1.00\n",
      "Anchor (10, 20, 22): 4 facts, 2 non-empty clusters, min=1, max=3, avg=2.00\n",
      "Anchor (6, 24): 1 facts, 1 non-empty clusters, min=1, max=1, avg=1.00\n",
      "Anchor (9, 12): 18 facts, 9 non-empty clusters, min=1, max=4, avg=2.00\n",
      "Anchor (0, 19): 2 facts, 1 non-empty clusters, min=2, max=2, avg=2.00\n",
      "Anchor (19, 21): 9 facts, 7 non-empty clusters, min=1, max=2, avg=1.29\n",
      "Anchor (11, 15, 17): 1 facts, 1 non-empty clusters, min=1, max=1, avg=1.00\n",
      "Anchor (9, 18): 1 facts, 1 non-empty clusters, min=1, max=1, avg=1.00\n",
      "Anchor (0, 12): 38 facts, 8 non-empty clusters, min=1, max=23, avg=4.75\n",
      "Anchor (4, 6, 12): 1 facts, 1 non-empty clusters, min=1, max=1, avg=1.00\n",
      "Anchor (11, 15, 20): 2 facts, 2 non-empty clusters, min=1, max=1, avg=1.00\n",
      "Anchor (10, 21): 3 facts, 3 non-empty clusters, min=1, max=1, avg=1.00\n",
      "Anchor (7, 10, 22): 2 facts, 1 non-empty clusters, min=2, max=2, avg=2.00\n",
      "Anchor (7, 10, 12, 22): 2 facts, 1 non-empty clusters, min=2, max=2, avg=2.00\n",
      "Anchor (10, 11, 20): 1 facts, 1 non-empty clusters, min=1, max=1, avg=1.00\n",
      "Anchor (8, 10, 12): 2 facts, 1 non-empty clusters, min=2, max=2, avg=2.00\n",
      "Anchor (3, 4): 4 facts, 1 non-empty clusters, min=4, max=4, avg=4.00\n",
      "Anchor (0, 3, 4): 4 facts, 2 non-empty clusters, min=1, max=3, avg=2.00\n",
      "Anchor (9, 17): 6 facts, 2 non-empty clusters, min=3, max=3, avg=3.00\n",
      "Anchor (21, 23): 10 facts, 3 non-empty clusters, min=2, max=5, avg=3.33\n",
      "Anchor (11, 24): 2 facts, 2 non-empty clusters, min=1, max=1, avg=1.00\n",
      "Anchor (6, 9, 12): 1 facts, 1 non-empty clusters, min=1, max=1, avg=1.00\n",
      "Anchor (6, 12, 15): 4 facts, 2 non-empty clusters, min=1, max=3, avg=2.00\n",
      "Anchor (0, 24): 1 facts, 1 non-empty clusters, min=1, max=1, avg=1.00\n",
      "Anchor (12, 17, 24): 2 facts, 1 non-empty clusters, min=2, max=2, avg=2.00\n",
      "Anchor (16, 22): 1 facts, 1 non-empty clusters, min=1, max=1, avg=1.00\n",
      "Anchor (17, 24): 7 facts, 3 non-empty clusters, min=1, max=4, avg=2.33\n",
      "Anchor (11, 12, 20): 23 facts, 8 non-empty clusters, min=1, max=10, avg=2.88\n",
      "Anchor (15, 18): 1 facts, 1 non-empty clusters, min=1, max=1, avg=1.00\n",
      "Anchor (6, 8, 12): 1 facts, 1 non-empty clusters, min=1, max=1, avg=1.00\n",
      "Anchor (13, 17, 18): 2 facts, 2 non-empty clusters, min=1, max=1, avg=1.00\n",
      "Anchor (15, 23): 1 facts, 1 non-empty clusters, min=1, max=1, avg=1.00\n",
      "Anchor (11, 13): 2 facts, 2 non-empty clusters, min=1, max=1, avg=1.00\n",
      "Anchor (17, 21): 5 facts, 3 non-empty clusters, min=1, max=2, avg=1.67\n",
      "Anchor (6, 12, 17, 20): 1 facts, 1 non-empty clusters, min=1, max=1, avg=1.00\n",
      "Anchor (1, 12, 17): 12 facts, 4 non-empty clusters, min=1, max=7, avg=3.00\n",
      "Anchor (11, 12, 17): 2 facts, 2 non-empty clusters, min=1, max=1, avg=1.00\n",
      "Anchor (12, 17, 23): 1 facts, 1 non-empty clusters, min=1, max=1, avg=1.00\n",
      "Anchor (12, 17, 18): 2 facts, 2 non-empty clusters, min=1, max=1, avg=1.00\n",
      "Anchor (10, 15, 17): 1 facts, 1 non-empty clusters, min=1, max=1, avg=1.00\n",
      "Anchor (1, 7, 12): 4 facts, 1 non-empty clusters, min=4, max=4, avg=4.00\n",
      "Anchor (2, 12): 9 facts, 1 non-empty clusters, min=9, max=9, avg=9.00\n",
      "Anchor (12, 14, 22): 1 facts, 1 non-empty clusters, min=1, max=1, avg=1.00\n",
      "Anchor (1, 12, 17, 20): 1 facts, 1 non-empty clusters, min=1, max=1, avg=1.00\n",
      "Anchor (6, 12, 21): 1 facts, 1 non-empty clusters, min=1, max=1, avg=1.00\n",
      "Anchor (19, 20): 1 facts, 1 non-empty clusters, min=1, max=1, avg=1.00\n",
      "Anchor (7, 19): 1 facts, 1 non-empty clusters, min=1, max=1, avg=1.00\n",
      "Anchor (6, 19): 3 facts, 1 non-empty clusters, min=3, max=3, avg=3.00\n",
      "Anchor (20, 21): 1 facts, 1 non-empty clusters, min=1, max=1, avg=1.00\n",
      "Anchor (20, 23): 2 facts, 2 non-empty clusters, min=1, max=1, avg=1.00\n",
      "Anchor (10, 15): 2 facts, 1 non-empty clusters, min=2, max=2, avg=2.00\n",
      "Anchor (3, 10): 1 facts, 1 non-empty clusters, min=1, max=1, avg=1.00\n",
      "Anchor (10, 14, 20): 2 facts, 1 non-empty clusters, min=2, max=2, avg=2.00\n",
      "Anchor (12, 18, 21): 1 facts, 1 non-empty clusters, min=1, max=1, avg=1.00\n",
      "Anchor (7, 9): 10 facts, 4 non-empty clusters, min=1, max=4, avg=2.50\n",
      "Anchor (0, 12, 17): 1 facts, 1 non-empty clusters, min=1, max=1, avg=1.00\n",
      "Anchor (6, 7, 12, 18): 2 facts, 1 non-empty clusters, min=2, max=2, avg=2.00\n",
      "Anchor (7, 16): 2 facts, 1 non-empty clusters, min=2, max=2, avg=2.00\n",
      "Anchor (15, 22): 2 facts, 1 non-empty clusters, min=2, max=2, avg=2.00\n",
      "Anchor (18, 19, 21): 2 facts, 2 non-empty clusters, min=1, max=1, avg=1.00\n",
      "Anchor (10, 24): 2 facts, 2 non-empty clusters, min=1, max=1, avg=1.00\n",
      "Anchor (2, 10, 12): 3 facts, 1 non-empty clusters, min=3, max=3, avg=3.00\n",
      "Anchor (1, 10, 12): 2 facts, 1 non-empty clusters, min=2, max=2, avg=2.00\n",
      "Anchor (10, 17, 20): 2 facts, 1 non-empty clusters, min=2, max=2, avg=2.00\n",
      "Anchor (6, 12, 16): 5 facts, 2 non-empty clusters, min=1, max=4, avg=2.50\n",
      "Anchor (6, 12, 13): 2 facts, 1 non-empty clusters, min=2, max=2, avg=2.00\n",
      "Anchor (14, 18, 22): 1 facts, 1 non-empty clusters, min=1, max=1, avg=1.00\n",
      "Anchor (3, 23): 1 facts, 1 non-empty clusters, min=1, max=1, avg=1.00\n",
      "Assigning positive and negative facts to reports with multiprocessing...\n"
     ]
    },
    {
     "name": "stdout",
     "output_type": "stream",
     "text": [
      "Elapsed time: 128.97s\n",
      "100%|████████████████████████████████| 227835/227835 [00:11<00:00, 20123.77it/s]\n",
      "\u001b[1m\u001b[31mWARNING: 12298/227835 reports have contradictions!\u001b[0m\n",
      "Computing softmaxes over candidate weak negative facts...\n",
      "metadata loaded from /mnt/data/pamessina/workspaces/medvqa-workspace/models/fact_embedding/20240731_002153_NLI(Embedding-based)_EmbeddingBasedNLI(128,512-256-128)/metadata.json\n",
      "Creating model\n",
      "EmbeddingBasedNLI\n",
      "  embedding_dim: 128\n",
      "  mlp_hidden_dims: [512, 256, 128]\n",
      "  dropout: 0.0\n",
      "\u001b[93m\u001b[1mWARNING: unused_kwargs: {'pretrained_checkpoint_folder_path': '/mnt/data/pamessina/workspaces/medvqa-workspace/models/fact_embedding/20240407_173847_NLI(Embedding-based)_EmbeddingBasedNLI(128,512-256-128)'}\u001b[0m\n",
      "Loading model weights from /mnt/data/pamessina/workspaces/medvqa-workspace/models/fact_embedding/20240731_002153_NLI(Embedding-based)_EmbeddingBasedNLI(128,512-256-128)\n",
      "checkpoint_names = ['checkpoint_55_nli_acc=0.7684.pt']\n",
      "Loading model weights from /mnt/data/pamessina/workspaces/medvqa-workspace/models/fact_embedding/20240731_002153_NLI(Embedding-based)_EmbeddingBasedNLI(128,512-256-128)/checkpoint_55_nli_acc=0.7684.pt\n",
      "Estimated output memory size: 2172.80 MB\n",
      "Computing softmaxes...\n",
      "100%|█████████████████████████████████████| 28480/28480 [17:04<00:00, 27.79it/s]\n",
      "Filtering out negative facts with high entailment softmaxes...\n",
      "Number of valid weak negative facts: 105980136/113917500\n",
      "Percentage of valid weak negative facts: 93.03%\n",
      "Average number of weak negative facts per report: 465.16\n",
      "Saving /mnt/data/pamessina_folder_backup_15_10_24/pamessina/medvqa-workspace/cache/mimiccxr_dicom_id_to_pos_neg_facts(num_rel_facts=317035,num_clusters=100,max_neg=500,ent_th=0.172)(hash=1200,2067390724509563020).pkl...\n",
      "\u001b[1m\u001b[34mDone!\u001b[0m\n"
     ]
    }
   ],
   "source": [
    "!python ../../scripts/mimiccxr/find_pos_neg_facts_per_report_around_reference_classes.py \\\n",
    "--task \"find_positive_negative_facts_per_report_with_fact_embeddings_and_mlp_nli\" \\\n",
    "--integrated_report_facts_jsonl_filepath \\\n",
    "\"/home/pamessina/medvqa-workspace/cache/mimiccxr/integrated_report_facts(79040140).jsonl\" \\\n",
    "--integrated_fact_metadata_jsonl_filepath \\\n",
    "\"/home/pamessina/medvqa-workspace/cache/mimiccxr/huggingface/integrated_fact_metadata(591920,209004293).jsonl\" \\\n",
    "--background_findings_and_impression_json_filepath \\\n",
    "\"/mnt/data/pamessina/workspaces/medvqa-workspace/cache/mimiccxr/background_findings_and_impression_20230612_174143.json\" \\\n",
    "--facts_relevant_to_anchor_facts_pickle_filepath \\\n",
    "\"/mnt/data/pamessina_folder_backup_15_10_24/pamessina/medvqa-workspace/cache/mimiccxr_find_facts_relevant_to_anchor_facts(af=25,rf=317035)(hash=411,354564789477999375).pkl\" \\\n",
    "--integrated_sentence_to_negative_facts_jsonl_filepath \\\n",
    "\"/home/pamessina/medvqa-workspace/cache/mimiccxr/integrated_sentence_to_negative_facts(877989,157547664).jsonl\" \\\n",
    "--fact_embedding_model_name \"microsoft/BiomedVLP-CXR-BERT-specialized\" \\\n",
    "--fact_embedding_model_checkpoint_folder_path \\\n",
    "\"/mnt/data/pamessina/workspaces/medvqa-workspace/models/fact_embedding/20240629_084405_MIMIC-CXR(triplets+classif+entcont+nli+radgraph+autoencoder)_FactEncoder(microsoft-BiomedVLP-CXR-BERT-specialized)\" \\\n",
    "--fact_embedding_batch_size 200 \\\n",
    "--fact_embedding_num_workers 4 \\\n",
    "--mlp_batch_size 4000 \\\n",
    "--mlp_num_workers 8 \\\n",
    "--mlp_nli_checkpoint_folder_path \\\n",
    "\"/mnt/data/pamessina/workspaces/medvqa-workspace/models/fact_embedding/20240731_002153_NLI(Embedding-based)_EmbeddingBasedNLI(128,512-256-128)\" \\\n",
    "--mlp_nli_entailment_threshold 0.1723824292421341 \\\n",
    "--num_clusters 100 \\\n",
    "--max_negative_facts_per_report 500"
   ]
  },
  {
   "cell_type": "code",
   "execution_count": 717,
   "id": "be1a7135",
   "metadata": {
    "scrolled": true
   },
   "outputs": [
    {
     "name": "stdout",
     "output_type": "stream",
     "text": [
      "-rw-rw-r-- 1 pamessina socvis 943M Jan 20 14:13 '/mnt/data/pamessina_folder_backup_15_10_24/pamessina/medvqa-workspace/cache/mimiccxr_dicom_id_to_pos_neg_facts(num_rel_facts=317035,num_clusters=100,max_neg=500,ent_th=0.172)(hash=1200,2067390724509563020).pkl'\r\n"
     ]
    }
   ],
   "source": [
    "!ls -lh \"/mnt/data/pamessina_folder_backup_15_10_24/pamessina/medvqa-workspace/cache/mimiccxr_dicom_id_to_pos_neg_facts(num_rel_facts=317035,num_clusters=100,max_neg=500,ent_th=0.172)(hash=1200,2067390724509563020).pkl\""
   ]
  },
  {
   "cell_type": "code",
   "execution_count": 718,
   "id": "9a11d507",
   "metadata": {},
   "outputs": [],
   "source": [
    "aux = load_pickle('/mnt/data/pamessina_folder_backup_15_10_24/pamessina/medvqa-workspace/cache/mimiccxr_dicom_id_to_pos_neg_facts(num_rel_facts=317035,num_clusters=100,max_neg=500,ent_th=0.172)(hash=1200,2067390724509563020).pkl')"
   ]
  },
  {
   "cell_type": "code",
   "execution_count": 719,
   "id": "6466d99d",
   "metadata": {},
   "outputs": [
    {
     "data": {
      "text/plain": [
       "dict_keys(['facts', 'embeddings', 'dicom_id_to_pos_facts', 'dicom_id_to_strong_neg_facts', 'dicom_id_to_weak_neg_facts', 'report_idxs_with_contradictions'])"
      ]
     },
     "execution_count": 719,
     "metadata": {},
     "output_type": "execute_result"
    }
   ],
   "source": [
    "aux.keys()"
   ]
  },
  {
   "cell_type": "code",
   "execution_count": 720,
   "id": "fdad47c2",
   "metadata": {},
   "outputs": [
    {
     "data": {
      "text/plain": [
       "773957"
      ]
     },
     "execution_count": 720,
     "metadata": {},
     "output_type": "execute_result"
    }
   ],
   "source": [
    "len(aux['facts'])"
   ]
  },
  {
   "cell_type": "code",
   "execution_count": 721,
   "id": "45c19aac",
   "metadata": {},
   "outputs": [
    {
     "data": {
      "text/plain": [
       "(773957, 128)"
      ]
     },
     "execution_count": 721,
     "metadata": {},
     "output_type": "execute_result"
    }
   ],
   "source": [
    "aux['embeddings'].shape"
   ]
  },
  {
   "cell_type": "code",
   "execution_count": 722,
   "id": "172f1a0e",
   "metadata": {},
   "outputs": [],
   "source": [
    "dicom_id_to_pos_facts = aux['dicom_id_to_pos_facts']\n",
    "dicom_id_to_strong_neg_facts = aux['dicom_id_to_strong_neg_facts']\n",
    "dicom_id_to_weak_neg_facts = aux['dicom_id_to_weak_neg_facts']"
   ]
  },
  {
   "cell_type": "code",
   "execution_count": 723,
   "id": "dbaba3ed",
   "metadata": {},
   "outputs": [],
   "source": [
    "dicom_ids = list(dicom_id_to_pos_facts.keys())"
   ]
  },
  {
   "cell_type": "code",
   "execution_count": 628,
   "id": "8832aabb",
   "metadata": {},
   "outputs": [],
   "source": [
    "integrated_report_facts = load_jsonl('/home/pamessina/medvqa-workspace/cache/mimiccxr/integrated_report_facts(79040140).jsonl')"
   ]
  },
  {
   "cell_type": "code",
   "execution_count": 629,
   "id": "56e687f3",
   "metadata": {},
   "outputs": [],
   "source": [
    "from medvqa.datasets.mimiccxr import get_detailed_metadata_for_dicom_id, load_mimiccxr_reports_detailed_metadata\n",
    "from medvqa.utils.files import read_txt\n",
    "from medvqa.utils.logging import print_bold"
   ]
  },
  {
   "cell_type": "code",
   "execution_count": 630,
   "id": "75f462a3",
   "metadata": {},
   "outputs": [],
   "source": [
    "mimiccxr_reports_detailed_metadata = load_mimiccxr_reports_detailed_metadata()"
   ]
  },
  {
   "cell_type": "code",
   "execution_count": 678,
   "id": "4f48d0b4",
   "metadata": {},
   "outputs": [
    {
     "name": "stdout",
     "output_type": "stream",
     "text": [
      "-rw-rw-r-- 1 pamessina pamessina 152M Jan 20 09:06 '/home/pamessina/medvqa-workspace/cache/mimiccxr/integrated_sentence_to_negative_facts(877989,157547664).jsonl'\r\n"
     ]
    }
   ],
   "source": [
    "!ls -lh \"/home/pamessina/medvqa-workspace/cache/mimiccxr/integrated_sentence_to_negative_facts(877989,157547664).jsonl\""
   ]
  },
  {
   "cell_type": "code",
   "execution_count": 724,
   "id": "4590ffc2",
   "metadata": {},
   "outputs": [],
   "source": [
    "integrated_sentence_to_negative_facts = load_jsonl('/home/pamessina/medvqa-workspace/cache/mimiccxr/integrated_sentence_to_negative_facts(877989,157547664).jsonl')"
   ]
  },
  {
   "cell_type": "code",
   "execution_count": 725,
   "id": "00abbb79",
   "metadata": {},
   "outputs": [],
   "source": [
    "s2nf = { x['sentence']: x['ruled_out_abnormalities'] for x in integrated_sentence_to_negative_facts }"
   ]
  },
  {
   "cell_type": "code",
   "execution_count": 726,
   "id": "6b89d286",
   "metadata": {},
   "outputs": [],
   "source": [
    "from medvqa.utils.files import load_json"
   ]
  },
  {
   "cell_type": "code",
   "execution_count": 636,
   "id": "170ca0cf",
   "metadata": {},
   "outputs": [],
   "source": [
    "bfis = load_json(\"/mnt/data/pamessina/workspaces/medvqa-workspace/cache/mimiccxr/background_findings_and_impression_20230612_174143.json\")"
   ]
  },
  {
   "cell_type": "code",
   "execution_count": 637,
   "id": "aef98263",
   "metadata": {},
   "outputs": [],
   "source": [
    "from nltk.tokenize import sent_tokenize"
   ]
  },
  {
   "cell_type": "code",
   "execution_count": 732,
   "id": "e98ea204",
   "metadata": {
    "scrolled": true
   },
   "outputs": [
    {
     "name": "stdout",
     "output_type": "stream",
     "text": [
      "bad40c6b-eece3bf2-5a3dc9f4-b3e5f211-f874304d\n",
      "{'report_index': 242, 'part_id': 10, 'subject_id': 10564151, 'study_id': 50414018, 'dicom_id': 'bad40c6b-eece3bf2-5a3dc9f4-b3e5f211-f874304d', 'view_pos': 'AP', 'split': 'train', 'filepath': '/mnt/data/mimic-cxr/files/p10/p10564151/s50414018.txt', 'dicom_id_view_pos_pairs': [('bad40c6b-eece3bf2-5a3dc9f4-b3e5f211-f874304d', 'AP')]}\n",
      "\n",
      "\n",
      "                                 FINAL REPORT\n",
      " EXAMINATION:  CHEST (PORTABLE AP)\n",
      " \n",
      " INDICATION:  ___ year old man with Hodgkin's lymphoma, fever, cough with\n",
      " worsening O2 requirement  // eval for pna, pulmonary edema\n",
      " \n",
      " TECHNIQUE:  Single frontal view of the chest\n",
      " \n",
      " COMPARISON:  ___ x-ray and ___ chest CT\n",
      " \n",
      " IMPRESSION: \n",
      " \n",
      " Left port a cath tip is in thelower SVC. Cardiac size is normal.  Bronchial\n",
      " wall thickening, centrilobular nodules and paramediastinal opacities (previous\n",
      " radiation) are better seen in prior CT. There is no pneumothorax or pleural\n",
      " effusion.  There is stable mild vascular congestion. There are no new lung\n",
      " abnormalities\n",
      "\n",
      "\n",
      "\n",
      "single frontal view of the chest. left port a cath tip in the lower SVC. normal cardiac size. bronchial wall thickening. centrilobular nodules. paramediastinal opacities. no pneumothorax. no pleural effusion. stable mild vascular congestion. no new lung abnormalities\n",
      "\n",
      "\u001b[1mAll facts:\u001b[0m\n",
      "['single frontal view of the chest', 'left port a cath tip in the lower SVC', 'normal cardiac size', 'bronchial wall thickening', 'centrilobular nodules', 'paramediastinal opacities', 'no pneumothorax', 'no pleural effusion', 'stable mild vascular congestion', 'no new lung abnormalities']\n",
      "\n",
      "\u001b[1mRelevant positive facts:\u001b[0m\n",
      "['opacities in the paramediastinal region', 'paramediastinal opacities', 'centrilobular nodules']\n",
      "\n",
      "\u001b[1mExcluded positive facts:\u001b[0m\n",
      "['single frontal view of the chest', 'left port a cath tip in the lower SVC', 'normal cardiac size', 'bronchial wall thickening', 'no pneumothorax', 'no pleural effusion', 'stable mild vascular congestion', 'no new lung abnormalities']\n",
      "\n",
      "\u001b[1mAll strong negative facts:\u001b[0m\n",
      "------\n",
      "Cardiac size is normal.\n",
      "{'normal cardiac size': ['cardiomegaly', 'enlarged heart']}\n",
      "------\n",
      "There is no pneumothorax or pleural effusion.\n",
      "{'no pneumothorax': ['pneumothorax'], 'no pleural effusion': ['pleural effusion']}\n",
      "------\n",
      "There are no new lung abnormalities.\n",
      "{'no new lung abnormalities': ['new lung mass', 'new lung nodule']}\n",
      "\n",
      "\u001b[1mRelevant strong negative facts:\u001b[0m\n",
      "['cardiomegaly', 'enlarged heart', 'pleural effusion', 'pneumothorax']\n",
      "\n",
      "\u001b[1mExcluded strong negative facts:\u001b[0m\n",
      "['new lung mass', 'new lung nodule']\n",
      "\n",
      "\u001b[1mWeak negative facts:\u001b[0m\n",
      "pleural infiltrate\n",
      "some left pleural calcification in the region of healed upper posterior rib fractures\n",
      "difficulty to ascribe the consolidation at the base of the right lung to atelectasis or pneumonia\n",
      "severe chronic pulmonary disease with fibrous scarring in both lungs\n",
      "subpleural effusions\n",
      "subcutaneous emphysema is a new finding\n",
      "redemonstration of large pulmonary arteries\n",
      "prominent pulmonary vessels in the right mid lung\n",
      "focal consolidation concerning for tuberculosis\n",
      "cavity with air-fluid level in the area of a previous atelectasis\n",
      "posterior consolidation seen on lateral radiography\n",
      "calcified goiter in the right lobe of the thyroid gland\n",
      "new developing infiltrate\n",
      "possible atelectasis in the bibasilar retrocardiac region\n",
      "improvement of multifocal pneumonic infiltrates\n",
      "consolidation over the spine\n",
      "faint background interstitial infiltrate\n",
      "combination of consolidation and/or effusion\n",
      "region of pleural thickening measuring approximately 6.3 x 3.1 cm on the frontal view\n",
      "focal increased pleural thickening\n",
      "prominent vasculature in the left upper lung\n",
      "advanced coronary calcifications\n",
      "increased sclerosis in the medullary cavity of the left proximal humeral shaft\n",
      "edema of loops of small bowel\n",
      "atelectasis around central tumors in the left upper lobe\n",
      "possible atelectasis related to stable cardiomegaly\n",
      "prominent costochondral junction calcification in the bilateral lung apices\n",
      "residual edema in the setting of chronically elevated right hemidiaphragm\n",
      "left hemidiaphragm infiltrate\n",
      "greater atelectasis/consolidation on the left\n",
      "interstitial markings better seen on PA views\n",
      "developing pulmonary edema in the right lung base\n",
      "improvement of exacerbation of COPD\n",
      "emphysema in the mid zone on the right\n",
      "possibility of apical aneurysm\n",
      "left suprahilar fibrosis\n",
      "cavitary pneumonia in the infrahilar portion of the right lower lobe\n",
      "replacement of pleural fluid by pneumothorax\n",
      "large left ventricular aneurysm calcified at the apex\n",
      "persistent small left apical pneumothorax related to prior blebectomy\n",
      "large region of chronic calcific consolidation\n",
      "status post mitral annuloplasty within enlarged heart shadow\n",
      "right lower lobe consolidation may represent atelectasis\n",
      "atelectasis adjacent to a large pericardial fat pad\n",
      "bilateral alveolar infiltrates likely due to pulmonary edema\n",
      "moderate cardiomegaly in the left hemithorax\n",
      "small effusion against background of chronic parenchymal changes of cystic fibrosis\n",
      "no acute new parenchymal infiltrates; advanced findings of COPD\n",
      "pleural thickening fibrosis in the right lung\n",
      "possible COPD in the posterior costophrenic angles\n",
      "moderate bowel left-sided subcutaneous emphysema\n",
      "pericardial fibrosis\n",
      "minimally increased size of fluid in the upper pleural space\n",
      "consolidations representing asymmetric edema\n",
      "evidence of mediastinal emphysema along the left-sided cardiac border\n",
      "dependent edema or consolidation worse on the right lung base\n",
      "cavitating pneumonia in the right upper lobe\n",
      "improved contribution of pulmonary edema to diffuse severe interstitial pulmonary abnormality\n",
      "possible pneumonia in the right posterior ninth rib\n",
      "focal edema sitting on the minor fissure\n",
      "global more air displaying progressive pleural thickening\n",
      "streaky consolidations\n",
      "consolidation in the rib right lower lobe\n",
      "rib deformities due to scoliosis\n",
      "NG tube ends in the proximal gastric cavity\n",
      "honeycombing in the right upper lobe\n",
      "minimal postprocedural right upper pneumothorax\n",
      "interstitial markings not well seen on the lateral view\n",
      "cyst pleural effusion at the left base\n",
      "cysts consistent with progressive improvement in the pleural effusion\n",
      "mild subcutaneous emphysema in the right upper lateral chest\n",
      "minimal right cardiophrenic atelecasis\n",
      "possible relaxation atelectasis in the left lower lobe due to the effusion\n",
      "small focus of a remnant fibrosis in right mid lung\n",
      "combination of atelectasis and early edema in the right mid lung zone\n",
      "difficulty distinguishing among fluid-filled bullae\n",
      "markedly improved bibasilar atelectases\n",
      "overlying subcutaneous edema\n",
      "worsening pneumonia in a region of severe preexisting emphysema\n",
      "possible nipple skin lesion on the right fifth rib anteriorly\n",
      "left lower lobe consolidation seen outside abdominal CT is unchanged\n",
      "COPD without superimposed pneumonia\n",
      "infarction mild pulmonary edema in the right lower lung\n",
      "possibility of an early pneumonic infiltrate in the left retrocardiac region\n",
      "calcified cyst\n",
      "small infiltrate in this region\n",
      "subchondral cyst formation at the right acromioclavicular joint\n",
      "severe atypical pneumonia\n",
      "severe scoliosis distorting the intrathoracic cavity is unchanged\n",
      "improvement of large cavitary pneumonia in the left lower lung\n",
      "adjacent atelectasis at the right apex\n",
      "widespread edematous patchy infiltrates\n",
      "possible small anteromedial left pneumothorax\n",
      "interstitial markings without focal consolidation\n",
      "emphysema in the left sixth rib fracture\n",
      "atelectasis/infiltrate at the right base\n",
      "lingular pneumonia would be obscured by the effusion\n",
      "region of consolidation most concerning for pneumonia\n",
      "slightly progressed atelectasis since the prior study\n",
      "consolidation in right apex could be related to an infectious pneumonia\n",
      "displaced cardiomediastinal contours towards the left\n",
      "smaller moderate cardiomegaly\n",
      "confluent consolidation in the region of the right heart border\n",
      "minor atelectasis associated with the hernia\n",
      "cavitation in the region of previous pneumonia\n",
      "large perihilar bleb\n",
      "cavitation cannot be excluded above the meniscus of the pleural effusion\n",
      "evacuation of apical effusion\n",
      "atelectasis/infiltrate at the right base near the right upper quadrant drain\n",
      "mild interstitial edema in the non consolidated right lung\n",
      "markedly increasing pleural air collection\n",
      "little change in scarring in the right upper lobe since most commonly tuberculosis\n",
      "extremely large, chronic descending thoracic aortic aneurysm obscured by the cardiac silhouette\n",
      "calcified granuloma projecting behind the clavicle\n",
      "right lower lobe interstitial abnormality without pneumothorax\n",
      "no appreciable change in the cavitary pneumonia in the left upper lobe\n",
      "interval increase in size of the known left upper lobe tumor\n",
      "enlargement in a patient with aortic valve replacement\n",
      "mediastinum displaced by hiatal hernia\n",
      "emphysema without focal consolidation\n",
      "edema with aspiration pneumonia\n",
      "desquamative interstitial pneumonia\n",
      "hilar pleural thickening\n",
      "consolidation smaller than previous pneumonia\n",
      "cavitated region of necrotizing pneumonia\n",
      "expected left mediastinal shift\n",
      "atelectasis related to stable moderate-to-severe cardiomegaly\n",
      "small peripheral bulla in the left lower lung\n",
      "atelectatic changes obscuring the medial half of the left hemidiaphragm\n",
      "left-sided septal lines are now visible\n",
      "worsening atelectasis with pneumonia\n",
      "5 mm x 9 mm cavitary lesion\n",
      "possible infiltrate/atelectasis near the left hilus\n",
      "possible juxtamediastinal pleural air\n",
      "slightly increased left apical pleural thickening compared with previous study\n",
      "not as well seen right basilar pneumothorax on previous study\n",
      "infiltrates overlying the vertebral bodies of the lower spine\n",
      "tip ends in mid gastric cavity\n",
      "difficulty in assessing pleural thickening\n",
      "calcification of the costal cartilage\n",
      "reticular changes consistent with active tuberculosis\n",
      "prominence of the interstitial markings in the right cardiophrenic region\n",
      "Mild interstitial abnormality along costophrenic angles\n",
      "difficult to assess small right-sided pneumothorax because of overlying tissue edema\n",
      "decreasing gas component of right basilar hydro pneumothorax\n",
      "pleural thickening on the left has overall decreased in extent\n",
      "improved consolidation likely due to improved atelectasis/edema\n",
      "mostly fluid-filled right apical pleural space with some air\n",
      "left subclavian PICC line pulled back to the junction of the left brachiocephalic vein and cysts superior vena cava\n",
      "posterior loculated pleural air fluid collection in the left basilar region\n",
      "new adjacent pleural effusion at the left lung base\n",
      "bibasal areas of atelectasis might represent nonspecific interstitial lung disease\n",
      "internal cavitation in the lung\n",
      "consolidation consistent with adenocarcinoma\n",
      "most pronounced cavitary consolidation on the right\n",
      "improvement in bibasal consolidations and pleural effusion\n",
      "minimal enlargement of the right pulmonary artery\n",
      "worsening of atelectasis in the region of fibrosis\n",
      "bullae in the cervical spine\n",
      "right neck subcutaneous emphysema is slightly improved\n",
      "leftward mediastinal shift after upper lobectomy\n",
      "honeycomb appearance in the right lung base\n",
      "slightly denser region of chronic calcific consolidation\n",
      "effusion of right IJ line tip\n",
      "emphysematous blebs\n",
      "linear areas of subsegmental atelectasis in the right upper lung\n",
      "more severe cavitary consolidation\n",
      "superimposed edema in the left retrocardiac region\n",
      "difficulty assessing increased markings due to pulmonary vascular congestion\n",
      "left basilar hydro pneumothorax characterized by CT of 1 day earlier\n",
      "elevation of the right hemidiaphragm secondary to radiation fibrosis\n",
      "basilar atelectasis with emphysematous bullae\n",
      "improvement in the previously seen subcutaneous emphysema in the right neck\n",
      "chronically large heart in the left lower lobe\n",
      "pleural thickening due to lateral fractures of the left posterior ribs\n",
      "edema visible\n",
      "emphysema affecting lung cavities\n",
      "lung density in the region of the right lung apex could represent mild pulmonary edema\n",
      "coarse interstitial markings consistent with emphysema\n",
      "left lower lobe more likely collapsed than due to pneumonia\n",
      "possibility of superimposition of a component of hydrostatic edema\n",
      "small residual interstitial edema at the right lung base\n",
      "concern for consolidation around a bleb in the right lung apex\n",
      "asymmetrical right apical pleural thickening partly superimposed over the clavicle\n",
      "minimal progression of a mixed interstitial abnormality of a mixed airspace\n",
      "slightly decreased mediastinal emphysema\n",
      "suggestion of further consolidation\n",
      "mediastinum shifted rightward by scoliosis\n",
      "calcified meningioma at T11\n",
      "known cystic fibrosis in the right upper lobe\n",
      "chronic hyperinflation due to small airway obstruction\n",
      "right pleural effusion tracks along the minor fissure\n",
      "mediastinal shift indistinct appearance of the right hilus\n",
      "persistent mild-to-moderate cardiomegaly in COPD patient\n",
      "Increased cysts in the right mid to lower lung\n",
      "pulmonary vascular prominence without frank edema\n",
      "component of loculated fluid in the right apical lateral pleural\n",
      "infiltrate suggestive of aspiration\n",
      "calcifications related to old tuberculous disease\n",
      "persistent left lower lobe infiltrate\n",
      "COPD without consolidation\n",
      "improvement in interstitial pneumonia\n",
      "subcutaneous emphysema presumably entailed with spinal surgery\n",
      "restrictive calcific fibrothorax encasing the left lung\n",
      "severe atelectasis due to purulent pneumonia\n",
      "low lung volumes without focal consolidation\n",
      "improving pulmonary vascular congestion and consolidation\n",
      "linear calcifications projecting over the right lung apex\n",
      "persisting retrocardiac consolidation concerning for pneumonia\n",
      "at least two small intramural abscesses in the sigmoid colon\n",
      "region behind the heart could easily hide a consolidation\n",
      "preexisting pulmonary fibrosis\n",
      "improving interstitial abnormality in the left lower lobe\n",
      "loculated pleural effusion with catheter placement\n",
      "possible infiltration of the mediastinal fat by retroxiphoid gas collection\n",
      "chronic linear scarring at a site of prior pneumonia\n",
      "fibrotic streak over the cardiac silhouette\n",
      "combination of atelectasis and effusion in the left base retrocardiac region\n",
      "large retrosternal bulla\n",
      "stable, mild left mediastinal shift\n",
      "significant multilobar atelectasis\n",
      "evidence of a deep sulcus sign\n",
      "limitation of lung assessment due to subcutaneous emphysema\n",
      "left apical hydropneumothorax not appreciably changed in size\n",
      "multiple lung metastases in the bilateral ribs\n",
      "cervical spinal cord edema\n",
      "biapical pleural parenchymal fibronodular scarring with calcifications\n",
      "decreased pleural thickening in the right lung\n",
      "loculated pleural effusion in the right mid lung\n",
      "basal predominant pulmonary consolidation\n",
      "severe pulmonary edema and cardiomegaly\n",
      "consolidation may contribute to mediastinal shift\n",
      "large pleural bleb\n",
      "chest examination showed basal infiltrates resembling pulmonary edema\n",
      "pleural thickening in the left mid chest\n",
      "improved consolidations attributed to pulmonary edema\n",
      "ventricular lead ends in the mid portion of the cavity of the right ventricle\n",
      "Increased cysts in the lung\n",
      "possibility of cavitary lung infection\n",
      "left apical pneumothorax obscured by the apical chest tube\n",
      "large abscesses in the right lower lung\n",
      "acute infectious process including TB in the upper lobe\n",
      "indeterminate contributions of pleural thickening on conventional radiographs\n",
      "improving atelectasis adjacent to the decreased effusion\n",
      "prominent calcifications at the aortic knob\n",
      "no significant improvement in atelectasis\n",
      "Kerley B lines without pleural effusion\n",
      "right effusion without edema\n",
      "difficulty assessing extent of consolidation\n",
      "patchy airspace process consistent with pulmonary edema\n",
      "moderate to severe left lower lobe atelectases\n",
      "interstitial pulmonary edema obscuring potential areas of infection\n",
      "small infiltrate associated with effusions\n",
      "old abscesses\n",
      "possible infiltrate in the right lung apex\n",
      "possibility of a calcified aneurysm\n",
      "cardiomegaly compatible with worsening pulmonary edema\n",
      "no interval change in extensive cavitary consolidation\n",
      "lower lobe atelectasis without convincing evidence of pneumonia\n",
      "internal cystic lucencies within the consolidation\n",
      "likely atelectasis adjacent to rib fracture\n",
      "moderate-to-severe emphysema on torso CT\n",
      "consolidation in the largely cavitated right upper lobe has remained stable\n",
      "volume of fluid containing at least one mycetoma in the large right apical cavity\n",
      "curved reticular markings within the right mid lung reflecting scarring\n",
      "pericardial emphysema\n",
      "consolidation in both costophrenic angles\n",
      "new moderate-to-severe pulmonary edema\n",
      "Linear, plate like atelectasis in the mid to lower right lung\n",
      "interval decrease in the amount of subcutaneous emphysema over the left chest wall\n",
      "unchanged shift of the upper mediastinum towards the right\n",
      "pre-existing atelectatic change with mediastinal shift on the left has almost completely resolved\n",
      "moderate lung consolidation\n",
      "extensive chronic pulmonary disease with coarse interstitial markings\n",
      "slightly prominent pulmonary vessels bilateral\n",
      "increase in extent of a partly cavitated lesion\n",
      "small elliptical region of atelectasis projecting over the mid thoracic spine\n",
      "worsening of edema in the region of fibrosis\n",
      "lateral view would be helpful in assessing for retrocardiac consolidation\n",
      "possible bronchioloalveolar cell carcinoma if pneumonia does not resolve\n",
      "artifact in the patient with attenuated vessels/COPD\n",
      "pleural thickening following rib destruction on the left is unchanged\n",
      "fibrotic changes compatible with COPD\n",
      "residual small effusion and atelectasis and/or consolidation\n",
      "inadequate position of the drain to clear the pleural effusion\n",
      "left perihilar consolidation consistent with pneumonia is unchanged\n",
      "new small bowel pleural effusions\n",
      "fibrotic nonspecific interstitial pneumonia\n",
      "aspiration or atelectasis in the right lower lung\n",
      "rib fractures better characterized on the recent prior CT\n",
      "dependent edema in the left mid zone\n",
      "calcified hepatic cyst\n",
      "combination of soft tissue and pleural thickening associated with chronic rib fractures\n",
      "calcified lymph node over the right axilla middle\n",
      "pleural effusion in the left thoracic cavity\n",
      "large calcified aneurysm of the left ventricle\n",
      "replacement of residual air-fluid level with local minor pleural thickening in the apical area\n",
      "small region of atelectasis adjacent to fissural pleural fluid just above the right hemidiaphragm\n",
      "calcified mediastinal cyst\n",
      "pleural effusion of the previously existing small post-operative pneumothorax in the left apical area\n",
      "tiny right upper pneumothorax\n",
      "slightly increased patchy atelectasis in the right cardiophrenic region\n",
      "right lower lobe consolidation consistent with resolution of atelectasis\n",
      "fractures without pneumothorax\n",
      "lower lobe area cannot exclude pneumonic infiltrates due to size of left-sided pleural effusion\n",
      "pulmonary bullae\n",
      "less prominent adenopathy in the aortopulmonic window than before\n",
      "aneurysmal thoracic aorta obscured by atelectasis\n",
      "2-3 mm right apical postprocedural pneumothorax\n",
      "underlying fibrosis in the superior thoracic trachea\n",
      "minimal subcutaneous emphysema of the soft tissues overlying the lateral right seventh rib fracture\n",
      "slight displacement of the cardiac silhouette by large right base bulla\n",
      "new superior segment pneumonia\n",
      "mild mediastinal shift likely related to post-radiation scarring\n",
      "presence of background interstitial edema could obscure a subtle residual infiltrate\n",
      "right mid lung parenchymal consolidation\n",
      "possible atelectasis at the previous pneumonia site\n",
      "additional foci of pneumonia in the right mid lobe\n",
      "pericardial calcification in the differential diagnosis\n",
      "decreased alveolar infiltrate on the right\n",
      "biapical scarring suggesting previous tuberculosis\n",
      "chronic tuberculosis infection\n",
      "pneumothoraces in the setting of sarcoma metastatic disease\n",
      "bibasilar consolidation presumably resolving pneumonia\n",
      "change in distribution of small right lung base pneumothorax\n",
      "redemonstration of a peripherally calcified left breast prosthesis\n",
      "mild interstitial abnormality in the heart\n",
      "consolidation on a background of interstitial lung disease\n",
      "likely loculated fluid in the right apical pleural thickening\n",
      "left rib fractures without pneumothorax\n",
      "no improvement in the extent of lower lobe pneumonia\n",
      "minimal area of atelectasis in the lingula\n",
      "enlargement of pulmonary artery can be suspected on the current radiograph\n",
      "right apical consolidation partially obsecured by the right clavical\n",
      "minimal pleural thickening at the lung bases\n",
      "early cavitation from necrotizing pneumonia within the consolidation\n",
      "equally distributed interstitial pulmonary abnormality in both lungs\n",
      "effusion catheter in the low SVC\n",
      "chronic proximal left humeral fourth rib fracture\n",
      "small residual pneumonia\n",
      "less likely asymmetric pulmonary edema with atelectasis on the right upper lung\n",
      "pulmonary edema in the upper lungs\n",
      "residual free pleural effusion\n",
      "dilated left pulmonary artery inseparable from the aortic arch\n",
      "known retrocardiac atelectasis with air bronchograms of unchanged extent\n",
      "continued subcutaneous emphysema adjacent to the lower right lung\n",
      "combination of residual small effusion and atelectasis and/or consolidation in the left lower lung\n",
      "small amount of calcification\n",
      "band of atelectasis crossing vascular clips\n",
      "blunting of the right costophrenic angle may relate to atelectasis\n",
      "obscured structure of the left lung due to calcific left fibrothorax\n",
      "large areas of cavitation\n",
      "combination of consolidation and effusion in the left basal region\n",
      "extensive rib fractures in the right upper chest\n",
      "postobstructive atelectasis lymphangitic spread from known non-small-cell lung cancer in the right upper lung\n",
      "thickening associated with right pleural effusion\n",
      "potential area of atelectasis in the left pleural effusion\n",
      "chronic hyperinflation due to small airway obstruction in the lateral view\n",
      "consolidative focus of tumor within the left low lung\n",
      "residual hydropneumothorax in the surgical cavity\n",
      "rounded atelectasis in the left mid lung\n",
      "right lower lobe infiltrate consistent with pneumonia\n",
      "unchanged moderate left basal atelectasis\n",
      "pulmonary edema with areas of atelectasis adjacent to pleural fluid\n",
      "substantial atelectasis in a patient with severe scoliosis\n",
      "consolidation in the superior segment of the lower lobe at the level of the carina\n",
      "rightward mediastinal shift suggesting atelectasis at the right base\n",
      "new perihilar infiltration on the right infrahilar consolidation\n",
      "mild prominence of the main pulmonary artery in the cardio mediastinal silhouette\n",
      "mild-mild moderate cardiomegaly\n",
      "unchanged extent of the right atelectatic areas subsequent to the effusion\n",
      "fibrotic changes in the lung bases bilaterally\n",
      "slightly enlarged left apical pneumothorax\n",
      "possible cavitation in pneumonia\n",
      "replacement with a right chest tube within the loculated right basilar pneumothorax\n",
      "difficulty in assessment of cardiac silhouette size due to moderate-to-large right pleural effusion\n",
      "previously seen small multifocal lung metastases\n",
      "exaggerated residual of mild edema in the right lower lobe\n",
      "more prominent blunting of the right costophrenic sulcus\n",
      "unchanged minimal fibrotic changes at the level of the left hilus\n",
      "pre-existing cardiomegaly\n",
      "increased interval aortic valve calcifications\n",
      "patchy consolidations suggestive of aspiration pneumonia\n",
      "resultant atelectasis in the left pleural effusion\n",
      "calcified pleural plaques limit assessment for pneumonia\n",
      "calcifications mimicking pneumothorax\n",
      "combination of atelectasis and pericardial effusion\n",
      "potentially fluid with a large cystic cavity in the left lung\n",
      "combination of pneumonic consolidation and interstitial edema in the right lower lung\n",
      "combination of atelectasis and potentially infectious process in the right mid lobe\n",
      "inferred atelectasis of the right lung\n",
      "stent edema\n",
      "right pulmonary artery enlargement suggesting pulmonary hypertension\n",
      "changes consistent with patient's known interstitial lung disease\n",
      "bilateral coarse reticular markings with basilar predominance have not substantially changed\n",
      "rounded atelectasis associated with bulky pleural calcifications on the left\n",
      "progression of coronary calcifications\n",
      "extensive subpleural bibasilar predominant honeycombing\n",
      "possibly cavitated pneumonia in the left lower lobe\n",
      "possible scarring from a prior insult such as previous infection or effusion in the lower lungs\n",
      "variation of interstitial infiltrative abnormality\n",
      "persisting consolidation in the retrocardiac area\n",
      "top-normal cardiomegaly\n",
      "cavitary changes in the right upper lung\n",
      "accentuated interstitial markings due to low lung volumes\n",
      "chronic cavitated lung\n",
      "progression of pulmonary edema since previous study\n",
      "calcific ovoid structure projecting over the left mediastinal\n",
      "calcified atelectasis in the left upper zone\n",
      "right upper lobe pneumonia is unchanged\n",
      "resolving edema in the basilar septal lines\n",
      "possible small effusion for aspiration pneumonia\n",
      "combination of atelectasis and dependent edema in the left retrocardiac region\n",
      "possible lung lesion at the costovertebral junction of the left posterior 3rd rib\n",
      "NG tube in the distal gastric cavity\n",
      "diffuse metastatic disease in the right pleural effusion\n",
      "developing infiltrate from pneumonia\n",
      "unchanged left ventricular aneurysm\n",
      "sequelae of prior pleural tuberculosis infection in the right lung\n",
      "fibrosis in atelectasis\n",
      "non interstitial lung disease in cardiomegaly\n",
      "confluent pulmonary fibrosis in the right upper lobe\n",
      "chronic interstitial infiltrative lung disease\n",
      "worsening of the left perihilar focal consolidations\n",
      "chest tube located within posteriorly in the left chest cavity\n",
      "challenging due to extensive overlying subcutaneous emphysema\n",
      "2 cm wide apical pneumothorax cavity\n",
      "anterior cardiac calcification in the descending coronary artery\n",
      "low sensitivity for rib fractures on conventional chest radiographs\n",
      "re-expansion edema following thoracentesis of a large left pleural effusion\n",
      "known infiltrative right middle lobe lung carcinoma\n",
      "infection superimposed on chronic lung disease\n",
      "localized bulla in the left upper lobe\n",
      "peribronchial infiltration due to edema\n",
      "pleural thickening or fluid at the base\n",
      "enlarged pulmonary arteries in the hila\n",
      "infiltrate cannot be excluded in the right hemothorax\n",
      "right pleural effusion associated with adjacent consolidation of the right lung\n",
      "small to moderate predominantly basal left pneumothorax\n",
      "slightly more leftward mediastinal shift\n",
      "calcified apical ventricular aneurysm\n",
      "super infection of bullae in the right upper lobe\n",
      "heart size not assessable due to severe pulmonary edema\n",
      "slightly less severe pulmonary edema on the right\n",
      "subchondral cyst in the right humeral head\n",
      "residual scarring from prior cavitary lesion\n",
      "improved bilateral reticular pattern\n",
      "improved infiltrative abnormality in the areas that were clearly consolidative\n",
      "pleural thickening with small pleural effusion\n",
      "calcified implant on the right\n",
      "pectus deformity of the chest cavity\n",
      "mild basilar scarring/fibrosis\n",
      "previously characterized cyst rounded atelectasis on the right\n",
      "possible subphrenic abscess in the right upper abdominal quadrant\n",
      "new mild left lung pulmonary edema\n",
      "rounded atelectasis with bulky pleural calcifications\n",
      "chronic infiltrative pulmonary disease\n"
     ]
    }
   ],
   "source": [
    "i = 5\n",
    "# dicom_id = dicom_ids[5040]\n",
    "# dicom_id = '59438c05-50a25def-e33ef9fd-433adade-bdeaa4f7'\n",
    "# dicom_id = 'ba822370-001bf2af-fc43ecb3-24b0e214-2271d081'\n",
    "# dicom_id = '59438c05-50a25def-e33ef9fd-433adade-bdeaa4f7'\n",
    "dicom_id = mimiccxr_reports_detailed_metadata['dicom_id_view_pos_pairs'][aux['report_idxs_with_contradictions'][i]][0][0]\n",
    "print(dicom_id)\n",
    "# dicom_id = dicom_ids[0]\n",
    "metadata = get_detailed_metadata_for_dicom_id(dicom_id)[0]\n",
    "ridx = metadata['report_index']\n",
    "print(metadata)\n",
    "print()\n",
    "print()\n",
    "print(read_txt(metadata['filepath']))\n",
    "print()\n",
    "print()\n",
    "facts = integrated_report_facts[ridx]['facts']\n",
    "print('. '.join(facts))\n",
    "print()\n",
    "print_bold('All facts:')\n",
    "facts = integrated_report_facts[ridx]['facts']\n",
    "print(facts)\n",
    "print()\n",
    "print_bold('Relevant positive facts:')\n",
    "positive_facts = [aux['facts'][idx] for idx in dicom_id_to_pos_facts[dicom_id]]\n",
    "print(positive_facts)\n",
    "print()\n",
    "print_bold('Excluded positive facts:')\n",
    "print([f for f in facts if f not in positive_facts])\n",
    "print()\n",
    "print_bold('All strong negative facts:')\n",
    "all_strong_negative_facts = set()\n",
    "for x in (bfis[ridx]['findings'], bfis[ridx]['impression']):\n",
    "    for s in sent_tokenize(x):\n",
    "        nf = s2nf[s]\n",
    "        if nf:\n",
    "            print('------')\n",
    "            print(s)\n",
    "            print(nf)\n",
    "            for k, v in nf.items():\n",
    "                all_strong_negative_facts.update(v)\n",
    "all_strong_negative_facts = list(all_strong_negative_facts)\n",
    "print()\n",
    "print_bold('Relevant strong negative facts:')\n",
    "strong_negative_facts = [aux['facts'][idx] for idx in dicom_id_to_strong_neg_facts[dicom_id]]\n",
    "print(strong_negative_facts)\n",
    "print()\n",
    "print_bold('Excluded strong negative facts:')\n",
    "excluded_strong_negative_facts = [x for x in all_strong_negative_facts if x not in strong_negative_facts]\n",
    "print(excluded_strong_negative_facts)\n",
    "print()\n",
    "print_bold('Weak negative facts:')\n",
    "weak_negative_facts = [aux['facts'][idx] for idx in dicom_id_to_weak_neg_facts[dicom_id]]\n",
    "for f in weak_negative_facts:\n",
    "    print(f)"
   ]
  },
  {
   "cell_type": "code",
   "execution_count": 710,
   "id": "83866c9e",
   "metadata": {},
   "outputs": [
    {
     "name": "stdout",
     "output_type": "stream",
     "text": [
      "{'fact': 'resolved mild-to-moderate pulmonary edema', 'metadata': {'reason': \"The statement indicates the presence of pulmonary edema, which is a medical condition that can be observed on a chest X-ray. The term 'resolved' suggests that the condition has improved or cleared up. This implies a previous abnormality that has now returned to a more normal state.\", 'too_noisy_or_irrelevant': 'no', 'visually_observable': 'yes', 'category': 'disease', 'abnormality_status': 'partial or minor abnormality', 'anatomical_location': 'lungs', 'general_observation': 'resolved pulmonary edema'}, 'extraction_method': 'gpt-4o-mini'}\n"
     ]
    }
   ],
   "source": [
    "q = 'resolved mild-to-moderate pulmonary edema'\n",
    "for x in integrated_fact_metadata:\n",
    "    if x['fact'] == q:\n",
    "        print(x)\n",
    "        break"
   ]
  },
  {
   "cell_type": "code",
   "execution_count": 730,
   "id": "57d76b56",
   "metadata": {},
   "outputs": [
    {
     "name": "stdout",
     "output_type": "stream",
     "text": [
      "{'sentence': 'Sutures in the left apex are unchanged with expected left upper lobectomy changes.', 'ruled_out_abnormalities': {'unchanged sutures in the left apex': ['left apex abnormality', 'left apex lesion'], 'expected left upper lobectomy changes': ['left upper lobe collapse', 'left upper lobe consolidation']}, 'extraction_method': 'gpt-4o-mini'}\n"
     ]
    }
   ],
   "source": [
    "q = 'Sutures in the left apex are unchanged with expected left upper lobectomy changes.'\n",
    "for x in integrated_sentence_to_negative_facts:\n",
    "    if x['sentence'] == q:\n",
    "        print(x)\n",
    "        break"
   ]
  }
 ],
 "metadata": {
  "kernelspec": {
   "display_name": "venv2",
   "language": "python",
   "name": "venv2"
  },
  "language_info": {
   "codemirror_mode": {
    "name": "ipython",
    "version": 3
   },
   "file_extension": ".py",
   "mimetype": "text/x-python",
   "name": "python",
   "nbconvert_exporter": "python",
   "pygments_lexer": "ipython3",
   "version": "3.10.10"
  }
 },
 "nbformat": 4,
 "nbformat_minor": 5
}
