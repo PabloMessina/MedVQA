{
 "cells": [
  {
   "cell_type": "code",
   "execution_count": 2,
   "id": "ca6eb115",
   "metadata": {},
   "outputs": [
    {
     "name": "stdout",
     "output_type": "stream",
     "text": [
      "env: CUDA_VISIBLE_DEVICES=2\n"
     ]
    }
   ],
   "source": [
    "%env CUDA_VISIBLE_DEVICES=2"
   ]
  },
  {
   "cell_type": "code",
   "execution_count": 1,
   "id": "e0769c86",
   "metadata": {},
   "outputs": [
    {
     "name": "stdout",
     "output_type": "stream",
     "text": [
      "test_public  test_public.csv\r\n"
     ]
    }
   ],
   "source": [
    "!ls /mnt/workspace/interpret-cxr-test-public-jpg/"
   ]
  },
  {
   "cell_type": "code",
   "execution_count": 3,
   "id": "4bfa1ea0",
   "metadata": {},
   "outputs": [],
   "source": [
    "import pandas as pd\n",
    "from IPython.display import Image"
   ]
  },
  {
   "cell_type": "code",
   "execution_count": 3,
   "id": "4176222f",
   "metadata": {},
   "outputs": [],
   "source": [
    "df = pd.read_csv('/mnt/workspace/interpret-cxr-test-public-jpg/test_public.csv')"
   ]
  },
  {
   "cell_type": "code",
   "execution_count": 4,
   "id": "2c2b386d",
   "metadata": {},
   "outputs": [
    {
     "data": {
      "text/html": [
       "<div>\n",
       "<style scoped>\n",
       "    .dataframe tbody tr th:only-of-type {\n",
       "        vertical-align: middle;\n",
       "    }\n",
       "\n",
       "    .dataframe tbody tr th {\n",
       "        vertical-align: top;\n",
       "    }\n",
       "\n",
       "    .dataframe thead th {\n",
       "        text-align: right;\n",
       "    }\n",
       "</style>\n",
       "<table border=\"1\" class=\"dataframe\">\n",
       "  <thead>\n",
       "    <tr style=\"text-align: right;\">\n",
       "      <th></th>\n",
       "      <th>images_path</th>\n",
       "      <th>findings</th>\n",
       "      <th>impression</th>\n",
       "    </tr>\n",
       "  </thead>\n",
       "  <tbody>\n",
       "    <tr>\n",
       "      <th>0</th>\n",
       "      <td>['/mnt/researchers/denis-parra/datasets/interp...</td>\n",
       "      <td>Bedside upright AP radiograph of the chest dem...</td>\n",
       "      <td>1. Mild chronic congestive heart failure with ...</td>\n",
       "    </tr>\n",
       "    <tr>\n",
       "      <th>1</th>\n",
       "      <td>['/mnt/researchers/denis-parra/datasets/interp...</td>\n",
       "      <td>Since most recent chest radiograph, there has ...</td>\n",
       "      <td>Right IJ central venous catheter terminates pr...</td>\n",
       "    </tr>\n",
       "    <tr>\n",
       "      <th>2</th>\n",
       "      <td>['/mnt/researchers/denis-parra/datasets/interp...</td>\n",
       "      <td>NaN</td>\n",
       "      <td>There has been interval increase in right lowe...</td>\n",
       "    </tr>\n",
       "    <tr>\n",
       "      <th>3</th>\n",
       "      <td>['/mnt/researchers/denis-parra/datasets/interp...</td>\n",
       "      <td>As compared to the previous radiograph, the kn...</td>\n",
       "      <td>NaN</td>\n",
       "    </tr>\n",
       "    <tr>\n",
       "      <th>4</th>\n",
       "      <td>['/mnt/researchers/denis-parra/datasets/interp...</td>\n",
       "      <td>There are no focal opacities. The patient has ...</td>\n",
       "      <td>No evidence of acute cardiopulmonary process.</td>\n",
       "    </tr>\n",
       "    <tr>\n",
       "      <th>...</th>\n",
       "      <td>...</td>\n",
       "      <td>...</td>\n",
       "      <td>...</td>\n",
       "    </tr>\n",
       "    <tr>\n",
       "      <th>3672</th>\n",
       "      <td>['/mnt/researchers/denis-parra/datasets/interp...</td>\n",
       "      <td>The lungs are clear. There is no effusion, con...</td>\n",
       "      <td>Normal chest x-ray.</td>\n",
       "    </tr>\n",
       "    <tr>\n",
       "      <th>3673</th>\n",
       "      <td>['/mnt/researchers/denis-parra/datasets/interp...</td>\n",
       "      <td>Lungs are relatively hyperinflated with the ca...</td>\n",
       "      <td>No definite acute cardiopulmonary process.</td>\n",
       "    </tr>\n",
       "    <tr>\n",
       "      <th>3674</th>\n",
       "      <td>['/mnt/researchers/denis-parra/datasets/interp...</td>\n",
       "      <td>The lungs are well expanded and clear. Coarsen...</td>\n",
       "      <td>No acute cardiopulmonary process. Unchanged ca...</td>\n",
       "    </tr>\n",
       "    <tr>\n",
       "      <th>3675</th>\n",
       "      <td>['/mnt/researchers/denis-parra/datasets/interp...</td>\n",
       "      <td>Bibasilar opacities are again seen silhouettin...</td>\n",
       "      <td>Moderate bilateral pleural effusions with adja...</td>\n",
       "    </tr>\n",
       "    <tr>\n",
       "      <th>3676</th>\n",
       "      <td>['/mnt/researchers/denis-parra/datasets/interp...</td>\n",
       "      <td>Support and monitoring devices are unchanged i...</td>\n",
       "      <td>NaN</td>\n",
       "    </tr>\n",
       "  </tbody>\n",
       "</table>\n",
       "<p>3677 rows × 3 columns</p>\n",
       "</div>"
      ],
      "text/plain": [
       "                                            images_path  \\\n",
       "0     ['/mnt/researchers/denis-parra/datasets/interp...   \n",
       "1     ['/mnt/researchers/denis-parra/datasets/interp...   \n",
       "2     ['/mnt/researchers/denis-parra/datasets/interp...   \n",
       "3     ['/mnt/researchers/denis-parra/datasets/interp...   \n",
       "4     ['/mnt/researchers/denis-parra/datasets/interp...   \n",
       "...                                                 ...   \n",
       "3672  ['/mnt/researchers/denis-parra/datasets/interp...   \n",
       "3673  ['/mnt/researchers/denis-parra/datasets/interp...   \n",
       "3674  ['/mnt/researchers/denis-parra/datasets/interp...   \n",
       "3675  ['/mnt/researchers/denis-parra/datasets/interp...   \n",
       "3676  ['/mnt/researchers/denis-parra/datasets/interp...   \n",
       "\n",
       "                                               findings  \\\n",
       "0     Bedside upright AP radiograph of the chest dem...   \n",
       "1     Since most recent chest radiograph, there has ...   \n",
       "2                                                   NaN   \n",
       "3     As compared to the previous radiograph, the kn...   \n",
       "4     There are no focal opacities. The patient has ...   \n",
       "...                                                 ...   \n",
       "3672  The lungs are clear. There is no effusion, con...   \n",
       "3673  Lungs are relatively hyperinflated with the ca...   \n",
       "3674  The lungs are well expanded and clear. Coarsen...   \n",
       "3675  Bibasilar opacities are again seen silhouettin...   \n",
       "3676  Support and monitoring devices are unchanged i...   \n",
       "\n",
       "                                             impression  \n",
       "0     1. Mild chronic congestive heart failure with ...  \n",
       "1     Right IJ central venous catheter terminates pr...  \n",
       "2     There has been interval increase in right lowe...  \n",
       "3                                                   NaN  \n",
       "4         No evidence of acute cardiopulmonary process.  \n",
       "...                                                 ...  \n",
       "3672                                Normal chest x-ray.  \n",
       "3673         No definite acute cardiopulmonary process.  \n",
       "3674  No acute cardiopulmonary process. Unchanged ca...  \n",
       "3675  Moderate bilateral pleural effusions with adja...  \n",
       "3676                                                NaN  \n",
       "\n",
       "[3677 rows x 3 columns]"
      ]
     },
     "execution_count": 4,
     "metadata": {},
     "output_type": "execute_result"
    }
   ],
   "source": [
    "df"
   ]
  },
  {
   "cell_type": "code",
   "execution_count": 7,
   "id": "4c8479bf",
   "metadata": {},
   "outputs": [
    {
     "data": {
      "text/plain": [
       "\"['/mnt/researchers/denis-parra/datasets/interpret-cxr-test-public-jpg/test_public/image_1_view_0.jpg']\""
      ]
     },
     "execution_count": 7,
     "metadata": {},
     "output_type": "execute_result"
    }
   ],
   "source": [
    "df.iloc[0]['images_path']"
   ]
  },
  {
   "cell_type": "code",
   "execution_count": 11,
   "id": "18a12b84",
   "metadata": {},
   "outputs": [
    {
     "data": {
      "text/plain": [
       "['/mnt/researchers/denis-parra/datasets/interpret-cxr-test-public-jpg/test_public/image_1_view_0.jpg']"
      ]
     },
     "execution_count": 11,
     "metadata": {},
     "output_type": "execute_result"
    }
   ],
   "source": [
    "eval(df['images_path'][0])"
   ]
  },
  {
   "cell_type": "code",
   "execution_count": 12,
   "id": "c21d47b4",
   "metadata": {},
   "outputs": [
    {
     "data": {
      "text/plain": [
       "Counter({1: 1832, 2: 1461, 4: 38, 3: 345, 5: 1})"
      ]
     },
     "execution_count": 12,
     "metadata": {},
     "output_type": "execute_result"
    }
   ],
   "source": [
    "from collections import Counter\n",
    "\n",
    "Counter(len(eval(x)) for x in df['images_path'])"
   ]
  },
  {
   "cell_type": "code",
   "execution_count": 8,
   "id": "0e602444",
   "metadata": {},
   "outputs": [
    {
     "data": {
      "image/jpeg": "[encoded data removed]",
      "text/plain": [
       "<IPython.core.display.Image object>"
      ]
     },
     "execution_count": 8,
     "metadata": {},
     "output_type": "execute_result"
    }
   ],
   "source": [
    "Image('/mnt/workspace/interpret-cxr-test-public-jpg/test_public/image_1_view_0.jpg')"
   ]
  },
  {
   "cell_type": "code",
   "execution_count": 1,
   "id": "5658fc76",
   "metadata": {},
   "outputs": [
    {
     "name": "stdout",
     "output_type": "stream",
     "text": [
      "test_hidden.csv  train.csv\t   val.csv\r\n",
      "test_public.csv  train_mimic.json  val_mimic.json\r\n"
     ]
    }
   ],
   "source": [
    "!ls /mnt/data/pamessina/workspaces/medvqa-workspace/cache/interpret-cxr-challenge"
   ]
  },
  {
   "cell_type": "code",
   "execution_count": 2,
   "id": "71e33f29",
   "metadata": {},
   "outputs": [],
   "source": [
    "from medvqa.utils.files import load_json"
   ]
  },
  {
   "cell_type": "code",
   "execution_count": 3,
   "id": "e860843d",
   "metadata": {},
   "outputs": [],
   "source": [
    "train_mimic = load_json('/mnt/data/pamessina/workspaces/medvqa-workspace/cache/interpret-cxr-challenge/train_mimic.json')"
   ]
  },
  {
   "cell_type": "code",
   "execution_count": 5,
   "id": "53cb0919",
   "metadata": {},
   "outputs": [
    {
     "data": {
      "text/plain": [
       "217190"
      ]
     },
     "execution_count": 5,
     "metadata": {},
     "output_type": "execute_result"
    }
   ],
   "source": [
    "len(train_mimic)"
   ]
  },
  {
   "cell_type": "code",
   "execution_count": 6,
   "id": "fb0c870f",
   "metadata": {},
   "outputs": [
    {
     "data": {
      "text/plain": [
       "{'findings': 'PA and lateral views of the chest were provided. There is no significant interval change from the recent CT and chest radiographs. Extensive fibrosis and upper lobe scarring is unchanged. An ovoid density in the right mid lung corresponds to a calcification on prior CT. There is slight upward retraction of the pulmonary hila, unchanged. The heart and mediastinal contour is unchanged. No evidence of superimposed pneumonia.',\n",
       " 'images': ['files/p18/p18458464/s53740823/ff5c5ccc-4883ce56-777c2507-f0ead07a-2418d636.jpg',\n",
       "  'files/p18/p18458464/s53740823/bc469234-01b22203-5b4ccb7a-c7dffa40-be3e61b1.jpg'],\n",
       " 'images_path': ['files/p18/p18458464/s53740823/ff5c5ccc-4883ce56-777c2507-f0ead07a-2418d636.jpg',\n",
       "  'files/p18/p18458464/s53740823/bc469234-01b22203-5b4ccb7a-c7dffa40-be3e61b1.jpg'],\n",
       " 'impression': 'Extensive scarring without superimposed pneumonia. Ovoid nodular opacity in the right mid lung corresponds with known calcification on prior CT.',\n",
       " 'source': 'MIMIC-CXR'}"
      ]
     },
     "execution_count": 6,
     "metadata": {},
     "output_type": "execute_result"
    }
   ],
   "source": [
    "train_mimic[0]"
   ]
  },
  {
   "cell_type": "code",
   "execution_count": 7,
   "id": "97a9518f",
   "metadata": {},
   "outputs": [],
   "source": [
    "val_mimic = load_json('/mnt/data/pamessina/workspaces/medvqa-workspace/cache/interpret-cxr-challenge/val_mimic.json')"
   ]
  },
  {
   "cell_type": "code",
   "execution_count": 8,
   "id": "55ca53ee",
   "metadata": {},
   "outputs": [
    {
     "data": {
      "text/plain": [
       "5568"
      ]
     },
     "execution_count": 8,
     "metadata": {},
     "output_type": "execute_result"
    }
   ],
   "source": [
    "len(val_mimic)"
   ]
  },
  {
   "cell_type": "code",
   "execution_count": 9,
   "id": "f92edeb3",
   "metadata": {},
   "outputs": [
    {
     "data": {
      "text/plain": [
       "{'findings': '',\n",
       " 'images': ['files/p10/p10052926/s51808680/e1ab22aa-40416991-f233c1d3-bfcde28d-7612f5ac.jpg',\n",
       "  'files/p10/p10052926/s51808680/660087a4-dbb7294b-fc377cbe-0eb9c4e7-9291ecd5.jpg'],\n",
       " 'images_path': ['files/p10/p10052926/s51808680/e1ab22aa-40416991-f233c1d3-bfcde28d-7612f5ac.jpg',\n",
       "  'files/p10/p10052926/s51808680/660087a4-dbb7294b-fc377cbe-0eb9c4e7-9291ecd5.jpg'],\n",
       " 'impression': 'In comparison with the study of ___, the left costophrenic angle is clear. There may be minimal basilar atelectatic changes. The cardiac silhouette is mildly enlarged for at the upper limits of normal in size and there is some tortuosity of the aorta. No definite vascular congestion or acute focal pneumonia.',\n",
       " 'source': 'MIMIC-CXR'}"
      ]
     },
     "execution_count": 9,
     "metadata": {},
     "output_type": "execute_result"
    }
   ],
   "source": [
    "val_mimic[0]"
   ]
  },
  {
   "cell_type": "code",
   "execution_count": 4,
   "id": "d7d89086",
   "metadata": {
    "scrolled": true
   },
   "outputs": [],
   "source": [
    "train_df = pd.read_csv('/mnt/data/pamessina/workspaces/medvqa-workspace/cache/interpret-cxr-challenge/train.csv')\n",
    "val_df = pd.read_csv('/mnt/data/pamessina/workspaces/medvqa-workspace/cache/interpret-cxr-challenge/val.csv')\n",
    "test_public_df = pd.read_csv('/mnt/data/pamessina/workspaces/medvqa-workspace/cache/interpret-cxr-challenge/test_public.csv')\n",
    "test_hidden_df = pd.read_csv('/mnt/data/pamessina/workspaces/medvqa-workspace/cache/interpret-cxr-challenge/test_hidden.csv')"
   ]
  },
  {
   "cell_type": "code",
   "execution_count": 11,
   "id": "fa2c41c3",
   "metadata": {},
   "outputs": [
    {
     "data": {
      "text/plain": [
       "array([['The radiology of the explored anatomical region does not show findings of pathological significance, with the bone and soft tissue patterns being of normal characteristics.'],\n",
       "       ['Small peripheral bilateral alveolar infiltrates in relation to multilobar pneumonia due to covid.'],\n",
       "       ['Portable ap chest x-ray showing an endotracheal tube 4.2 cm from the carina. venous catheter with tip in superior vena cava. bilateral alveolar interstitial infiltrate predominantly in the left basal region, development of some small apical and right basal windows without changes compared to the study of the date.'],\n",
       "       ['Chest x-ray. it is compared with the radiograph from 11/30/2020. bilateral reticular pattern without changes compared to the previous radiograph. opacity persists in the left lung base.'],\n",
       "       ['Information on covid. ap chest x-ray. it is compared with the previous study conducted yesterday. radiological improvement is noted, although bilateral interstitial pulmonary infiltrates persist, predominantly at the base and in the mid-field. the endotracheal tube is correctly positioned and the central venous catheter ends in the superior vena cava.'],\n",
       "       ['No findings in the lung parenchyma or in the cardiomedastinal silhouette.'],\n",
       "       ['Hematuria, dyspnea, aortic elongation. no consolidations or pleural effusion are observed. dilation of intestinal loops in the left hypochondrium.'],\n",
       "       ['Different radiological technique that makes comparison difficult. despite this, a slight decrease in the density of the bilateral interstitial alveolar infiltrates seems to be identified, predominantly those located in the lower field of the right hemithorax.'],\n",
       "       ['Aortic elongation. no images of interstitial pattern, alveolar condensation, or pleural effusion are observed.'],\n",
       "       ['It is compared with a previous study from march 31, 2020, observing slight radiological improvement due to a decrease in the density of the bilateral peripheral infiltrates, more evident in the right hemithorax, to be clinically correlated.'],\n",
       "       ['Bilateral interstitial alveolar pulmonary infiltrates with areas of peripheral and central consolidation affecting both lower and upper lobes radiologically is compatible with pneumonia due to covid with extensive involvement. no pleural effusion.']],\n",
       "      dtype=object)"
      ]
     },
     "execution_count": 11,
     "metadata": {},
     "output_type": "execute_result"
    }
   ],
   "source": [
    "train_df.loc[train_df.source == 'BIMCV-COVID19'][['findings']].values[:11]"
   ]
  },
  {
   "cell_type": "code",
   "execution_count": 80,
   "id": "c8bac98e",
   "metadata": {
    "scrolled": false
   },
   "outputs": [],
   "source": [
    "print('adsfds')"
   ]
  },
  {
   "cell_type": "code",
   "execution_count": 14,
   "id": "52bcff60",
   "metadata": {},
   "outputs": [
    {
     "data": {
      "text/html": [
       "<div>\n",
       "<style scoped>\n",
       "    .dataframe tbody tr th:only-of-type {\n",
       "        vertical-align: middle;\n",
       "    }\n",
       "\n",
       "    .dataframe tbody tr th {\n",
       "        vertical-align: top;\n",
       "    }\n",
       "\n",
       "    .dataframe thead th {\n",
       "        text-align: right;\n",
       "    }\n",
       "</style>\n",
       "<table border=\"1\" class=\"dataframe\">\n",
       "  <thead>\n",
       "    <tr style=\"text-align: right;\">\n",
       "      <th></th>\n",
       "      <th>source</th>\n",
       "      <th>images_path</th>\n",
       "      <th>findings</th>\n",
       "      <th>impression</th>\n",
       "      <th>images_path_old</th>\n",
       "    </tr>\n",
       "  </thead>\n",
       "  <tbody>\n",
       "    <tr>\n",
       "      <th>0</th>\n",
       "      <td>BIMCV-COVID19</td>\n",
       "      <td>['/mnt/researchers/denis-parra/datasets/interp...</td>\n",
       "      <td>No radiological alterations are observed in th...</td>\n",
       "      <td>NaN</td>\n",
       "      <td>['data/bimcv-covid19//images/sub-S313117_ses-E...</td>\n",
       "    </tr>\n",
       "    <tr>\n",
       "      <th>1</th>\n",
       "      <td>BIMCV-COVID19</td>\n",
       "      <td>['/mnt/researchers/denis-parra/datasets/interp...</td>\n",
       "      <td>Technique comparison with radiography of the d...</td>\n",
       "      <td>NaN</td>\n",
       "      <td>['data/bimcv-covid19//images/sub-S318300_ses-E...</td>\n",
       "    </tr>\n",
       "    <tr>\n",
       "      <th>2</th>\n",
       "      <td>CheXpert</td>\n",
       "      <td>['/mnt/researchers/denis-parra/datasets/interp...</td>\n",
       "      <td>NaN</td>\n",
       "      <td>1. SINGLE FRONTAL VIEW OF THE CHEST DEMONSTRAT...</td>\n",
       "      <td>['data/chexpert-public/train/patient39787/stud...</td>\n",
       "    </tr>\n",
       "    <tr>\n",
       "      <th>3</th>\n",
       "      <td>CheXpert</td>\n",
       "      <td>['/mnt/researchers/denis-parra/datasets/interp...</td>\n",
       "      <td>NaN</td>\n",
       "      <td>Normal heart size and pulmonary vascularity. N...</td>\n",
       "      <td>['data/chexpert-public/train/patient15955/stud...</td>\n",
       "    </tr>\n",
       "    <tr>\n",
       "      <th>4</th>\n",
       "      <td>CheXpert</td>\n",
       "      <td>['/mnt/researchers/denis-parra/datasets/interp...</td>\n",
       "      <td>NaN</td>\n",
       "      <td>1.THE LUNGS REMAIN FREE OF ACUTE CONSOLIDATION...</td>\n",
       "      <td>['data/chexpert-public/train/patient19674/stud...</td>\n",
       "    </tr>\n",
       "    <tr>\n",
       "      <th>...</th>\n",
       "      <td>...</td>\n",
       "      <td>...</td>\n",
       "      <td>...</td>\n",
       "      <td>...</td>\n",
       "      <td>...</td>\n",
       "    </tr>\n",
       "    <tr>\n",
       "      <th>8538</th>\n",
       "      <td>BIMCV-COVID19</td>\n",
       "      <td>['/mnt/researchers/denis-parra/datasets/interp...</td>\n",
       "      <td>Confirmed covid case. cough and shortness of b...</td>\n",
       "      <td>NaN</td>\n",
       "      <td>['data/bimcv-covid19//images/sub-S308389_ses-E...</td>\n",
       "    </tr>\n",
       "    <tr>\n",
       "      <th>8539</th>\n",
       "      <td>PadChest</td>\n",
       "      <td>['/mnt/researchers/denis-parra/datasets/interp...</td>\n",
       "      <td>No evidence of metastatic disease in this stud...</td>\n",
       "      <td>NaN</td>\n",
       "      <td>['data/padchest//images/2168401113669640131977...</td>\n",
       "    </tr>\n",
       "    <tr>\n",
       "      <th>8540</th>\n",
       "      <td>CheXpert</td>\n",
       "      <td>['/mnt/researchers/denis-parra/datasets/interp...</td>\n",
       "      <td>NaN</td>\n",
       "      <td>1. 2. THE REMAINDER OF THE EXAM IS UNREMARKABL...</td>\n",
       "      <td>['data/chexpert-public/train/patient19449/stud...</td>\n",
       "    </tr>\n",
       "    <tr>\n",
       "      <th>8541</th>\n",
       "      <td>BIMCV-COVID19</td>\n",
       "      <td>['/mnt/researchers/denis-parra/datasets/interp...</td>\n",
       "      <td>Findings of persistent alveolar-interstitial o...</td>\n",
       "      <td>NaN</td>\n",
       "      <td>['data/bimcv-covid19//images/sub-S09379_ses-E1...</td>\n",
       "    </tr>\n",
       "    <tr>\n",
       "      <th>8542</th>\n",
       "      <td>BIMCV-COVID19</td>\n",
       "      <td>['/mnt/researchers/denis-parra/datasets/interp...</td>\n",
       "      <td>Consolidation in the left lower lobe. no other...</td>\n",
       "      <td>NaN</td>\n",
       "      <td>['data/bimcv-covid19//images/sub-S11066_ses-E2...</td>\n",
       "    </tr>\n",
       "  </tbody>\n",
       "</table>\n",
       "<p>8543 rows × 5 columns</p>\n",
       "</div>"
      ],
      "text/plain": [
       "             source                                        images_path  \\\n",
       "0     BIMCV-COVID19  ['/mnt/researchers/denis-parra/datasets/interp...   \n",
       "1     BIMCV-COVID19  ['/mnt/researchers/denis-parra/datasets/interp...   \n",
       "2          CheXpert  ['/mnt/researchers/denis-parra/datasets/interp...   \n",
       "3          CheXpert  ['/mnt/researchers/denis-parra/datasets/interp...   \n",
       "4          CheXpert  ['/mnt/researchers/denis-parra/datasets/interp...   \n",
       "...             ...                                                ...   \n",
       "8538  BIMCV-COVID19  ['/mnt/researchers/denis-parra/datasets/interp...   \n",
       "8539       PadChest  ['/mnt/researchers/denis-parra/datasets/interp...   \n",
       "8540       CheXpert  ['/mnt/researchers/denis-parra/datasets/interp...   \n",
       "8541  BIMCV-COVID19  ['/mnt/researchers/denis-parra/datasets/interp...   \n",
       "8542  BIMCV-COVID19  ['/mnt/researchers/denis-parra/datasets/interp...   \n",
       "\n",
       "                                               findings  \\\n",
       "0     No radiological alterations are observed in th...   \n",
       "1     Technique comparison with radiography of the d...   \n",
       "2                                                   NaN   \n",
       "3                                                   NaN   \n",
       "4                                                   NaN   \n",
       "...                                                 ...   \n",
       "8538  Confirmed covid case. cough and shortness of b...   \n",
       "8539  No evidence of metastatic disease in this stud...   \n",
       "8540                                                NaN   \n",
       "8541  Findings of persistent alveolar-interstitial o...   \n",
       "8542  Consolidation in the left lower lobe. no other...   \n",
       "\n",
       "                                             impression  \\\n",
       "0                                                   NaN   \n",
       "1                                                   NaN   \n",
       "2     1. SINGLE FRONTAL VIEW OF THE CHEST DEMONSTRAT...   \n",
       "3     Normal heart size and pulmonary vascularity. N...   \n",
       "4     1.THE LUNGS REMAIN FREE OF ACUTE CONSOLIDATION...   \n",
       "...                                                 ...   \n",
       "8538                                                NaN   \n",
       "8539                                                NaN   \n",
       "8540  1. 2. THE REMAINDER OF THE EXAM IS UNREMARKABL...   \n",
       "8541                                                NaN   \n",
       "8542                                                NaN   \n",
       "\n",
       "                                        images_path_old  \n",
       "0     ['data/bimcv-covid19//images/sub-S313117_ses-E...  \n",
       "1     ['data/bimcv-covid19//images/sub-S318300_ses-E...  \n",
       "2     ['data/chexpert-public/train/patient39787/stud...  \n",
       "3     ['data/chexpert-public/train/patient15955/stud...  \n",
       "4     ['data/chexpert-public/train/patient19674/stud...  \n",
       "...                                                 ...  \n",
       "8538  ['data/bimcv-covid19//images/sub-S308389_ses-E...  \n",
       "8539  ['data/padchest//images/2168401113669640131977...  \n",
       "8540  ['data/chexpert-public/train/patient19449/stud...  \n",
       "8541  ['data/bimcv-covid19//images/sub-S09379_ses-E1...  \n",
       "8542  ['data/bimcv-covid19//images/sub-S11066_ses-E2...  \n",
       "\n",
       "[8543 rows x 5 columns]"
      ]
     },
     "execution_count": 14,
     "metadata": {},
     "output_type": "execute_result"
    }
   ],
   "source": [
    "val_df"
   ]
  },
  {
   "cell_type": "code",
   "execution_count": 18,
   "id": "f9db8c88",
   "metadata": {},
   "outputs": [
    {
     "data": {
      "text/plain": [
       "array(['CheXpert', 'PadChest', 'BIMCV-COVID19', 'OpenI'], dtype=object)"
      ]
     },
     "execution_count": 18,
     "metadata": {},
     "output_type": "execute_result"
    }
   ],
   "source": [
    "train_df.source.unique()"
   ]
  },
  {
   "cell_type": "code",
   "execution_count": 17,
   "id": "7560f92f",
   "metadata": {
    "scrolled": true
   },
   "outputs": [
    {
     "data": {
      "text/plain": [
       "array(['BIMCV-COVID19', 'CheXpert', 'PadChest', 'OpenI'], dtype=object)"
      ]
     },
     "execution_count": 17,
     "metadata": {},
     "output_type": "execute_result"
    }
   ],
   "source": [
    "val_df.source.unique()"
   ]
  },
  {
   "cell_type": "code",
   "execution_count": 23,
   "id": "0c3391e5",
   "metadata": {},
   "outputs": [
    {
     "data": {
      "text/plain": [
       "21"
      ]
     },
     "execution_count": 23,
     "metadata": {},
     "output_type": "execute_result"
    }
   ],
   "source": [
    "len(\"data/chexpert-public/\")"
   ]
  },
  {
   "cell_type": "code",
   "execution_count": 56,
   "id": "de200072",
   "metadata": {},
   "outputs": [
    {
     "data": {
      "text/plain": [
       "3729"
      ]
     },
     "execution_count": 56,
     "metadata": {},
     "output_type": "execute_result"
    }
   ],
   "source": [
    "len(train_df.loc[train_df.source == 'OpenI'])"
   ]
  },
  {
   "cell_type": "code",
   "execution_count": 35,
   "id": "34078713",
   "metadata": {},
   "outputs": [],
   "source": [
    "# train_df.loc[train_df.source == 'PadChest'].images_path_old.values\n",
    "findings = train_df.loc[train_df.source == 'BIMCV-COVID19'].findings.values"
   ]
  },
  {
   "cell_type": "code",
   "execution_count": 36,
   "id": "a8f88cb9",
   "metadata": {},
   "outputs": [
    {
     "data": {
      "text/plain": [
       "array(['The radiology of the explored anatomical region does not show findings of pathological significance, with the bone and soft tissue patterns being of normal characteristics.',\n",
       "       'Small peripheral bilateral alveolar infiltrates in relation to multilobar pneumonia due to covid.',\n",
       "       'Portable ap chest x-ray showing an endotracheal tube 4.2 cm from the carina. venous catheter with tip in superior vena cava. bilateral alveolar interstitial infiltrate predominantly in the left basal region, development of some small apical and right basal windows without changes compared to the study of the date.',\n",
       "       ..., 'Without significant alterations.',\n",
       "       'The same opacities recorded persist without changes as in the x-ray dated.',\n",
       "       'Persistent opacity of interstitial appearance persists in the left lung base, the one on the lsd is doubtful.'],\n",
       "      dtype=object)"
      ]
     },
     "execution_count": 36,
     "metadata": {},
     "output_type": "execute_result"
    }
   ],
   "source": [
    "findings"
   ]
  },
  {
   "cell_type": "code",
   "execution_count": 55,
   "id": "6b29d3d4",
   "metadata": {
    "scrolled": true
   },
   "outputs": [
    {
     "data": {
      "text/plain": [
       "97"
      ]
     },
     "execution_count": 55,
     "metadata": {},
     "output_type": "execute_result"
    }
   ],
   "source": [
    "len(val_df.loc[val_df.source == 'OpenI'])"
   ]
  },
  {
   "cell_type": "code",
   "execution_count": 61,
   "id": "949a51bd",
   "metadata": {},
   "outputs": [
    {
     "data": {
      "text/plain": [
       "['data/openi/images/CXR237_IM-0930-1001.pngdata/openi/images/CXR237_IM-0930-2001.png']"
      ]
     },
     "execution_count": 61,
     "metadata": {},
     "output_type": "execute_result"
    }
   ],
   "source": [
    "eval(val_df.loc[val_df.source == 'OpenI'].images_path_old.values[0])"
   ]
  },
  {
   "cell_type": "code",
   "execution_count": 64,
   "id": "003468eb",
   "metadata": {},
   "outputs": [
    {
     "data": {
      "text/plain": [
       "\"['data/chexpert-public/train/patient15955/study2/view1_frontal.jpg'\\n 'data/chexpert-public/train/patient15955/study2/view2_lateral.jpg']\""
      ]
     },
     "execution_count": 64,
     "metadata": {},
     "output_type": "execute_result"
    }
   ],
   "source": [
    "val_df.loc[val_df.source == 'CheXpert'].images_path_old.values[1]"
   ]
  },
  {
   "cell_type": "code",
   "execution_count": 27,
   "id": "f9306c12",
   "metadata": {},
   "outputs": [],
   "source": [
    "from medvqa.datasets.iuxray import get_iuxray_all_image_ids"
   ]
  },
  {
   "cell_type": "code",
   "execution_count": 29,
   "id": "e2d2d301",
   "metadata": {},
   "outputs": [
    {
     "name": "stdout",
     "output_type": "stream",
     "text": [
      "7470\n",
      "CXR2509_IM-1031-1001\n"
     ]
    }
   ],
   "source": [
    "iuxray_image_ids = get_iuxray_all_image_ids()\n",
    "print(len(iuxray_image_ids))\n",
    "print(iuxray_image_ids[0])"
   ]
  },
  {
   "cell_type": "code",
   "execution_count": 15,
   "id": "a071ed5f",
   "metadata": {},
   "outputs": [
    {
     "data": {
      "text/plain": [
       "['/mnt/researchers/denis-parra/datasets/interpret-cxr-test-public-jpg/test_public/image_4_view_0.jpg',\n",
       " '/mnt/researchers/denis-parra/datasets/interpret-cxr-test-public-jpg/test_public/image_4_view_1.jpg']"
      ]
     },
     "execution_count": 15,
     "metadata": {},
     "output_type": "execute_result"
    }
   ],
   "source": [
    "eval(test_public_df.images_path.values[3])"
   ]
  },
  {
   "cell_type": "code",
   "execution_count": 15,
   "id": "49786c45",
   "metadata": {},
   "outputs": [
    {
     "data": {
      "text/html": [
       "<div>\n",
       "<style scoped>\n",
       "    .dataframe tbody tr th:only-of-type {\n",
       "        vertical-align: middle;\n",
       "    }\n",
       "\n",
       "    .dataframe tbody tr th {\n",
       "        vertical-align: top;\n",
       "    }\n",
       "\n",
       "    .dataframe thead th {\n",
       "        text-align: right;\n",
       "    }\n",
       "</style>\n",
       "<table border=\"1\" class=\"dataframe\">\n",
       "  <thead>\n",
       "    <tr style=\"text-align: right;\">\n",
       "      <th></th>\n",
       "      <th>images_path</th>\n",
       "      <th>findings</th>\n",
       "      <th>impression</th>\n",
       "    </tr>\n",
       "  </thead>\n",
       "  <tbody>\n",
       "    <tr>\n",
       "      <th>0</th>\n",
       "      <td>['/mnt/researchers/denis-parra/datasets/interp...</td>\n",
       "      <td>Bedside upright AP radiograph of the chest dem...</td>\n",
       "      <td>1. Mild chronic congestive heart failure with ...</td>\n",
       "    </tr>\n",
       "    <tr>\n",
       "      <th>1</th>\n",
       "      <td>['/mnt/researchers/denis-parra/datasets/interp...</td>\n",
       "      <td>Since most recent chest radiograph, there has ...</td>\n",
       "      <td>Right IJ central venous catheter terminates pr...</td>\n",
       "    </tr>\n",
       "    <tr>\n",
       "      <th>2</th>\n",
       "      <td>['/mnt/researchers/denis-parra/datasets/interp...</td>\n",
       "      <td>NaN</td>\n",
       "      <td>There has been interval increase in right lowe...</td>\n",
       "    </tr>\n",
       "    <tr>\n",
       "      <th>3</th>\n",
       "      <td>['/mnt/researchers/denis-parra/datasets/interp...</td>\n",
       "      <td>As compared to the previous radiograph, the kn...</td>\n",
       "      <td>NaN</td>\n",
       "    </tr>\n",
       "    <tr>\n",
       "      <th>4</th>\n",
       "      <td>['/mnt/researchers/denis-parra/datasets/interp...</td>\n",
       "      <td>There are no focal opacities. The patient has ...</td>\n",
       "      <td>No evidence of acute cardiopulmonary process.</td>\n",
       "    </tr>\n",
       "    <tr>\n",
       "      <th>...</th>\n",
       "      <td>...</td>\n",
       "      <td>...</td>\n",
       "      <td>...</td>\n",
       "    </tr>\n",
       "    <tr>\n",
       "      <th>3672</th>\n",
       "      <td>['/mnt/researchers/denis-parra/datasets/interp...</td>\n",
       "      <td>The lungs are clear. There is no effusion, con...</td>\n",
       "      <td>Normal chest x-ray.</td>\n",
       "    </tr>\n",
       "    <tr>\n",
       "      <th>3673</th>\n",
       "      <td>['/mnt/researchers/denis-parra/datasets/interp...</td>\n",
       "      <td>Lungs are relatively hyperinflated with the ca...</td>\n",
       "      <td>No definite acute cardiopulmonary process.</td>\n",
       "    </tr>\n",
       "    <tr>\n",
       "      <th>3674</th>\n",
       "      <td>['/mnt/researchers/denis-parra/datasets/interp...</td>\n",
       "      <td>The lungs are well expanded and clear. Coarsen...</td>\n",
       "      <td>No acute cardiopulmonary process. Unchanged ca...</td>\n",
       "    </tr>\n",
       "    <tr>\n",
       "      <th>3675</th>\n",
       "      <td>['/mnt/researchers/denis-parra/datasets/interp...</td>\n",
       "      <td>Bibasilar opacities are again seen silhouettin...</td>\n",
       "      <td>Moderate bilateral pleural effusions with adja...</td>\n",
       "    </tr>\n",
       "    <tr>\n",
       "      <th>3676</th>\n",
       "      <td>['/mnt/researchers/denis-parra/datasets/interp...</td>\n",
       "      <td>Support and monitoring devices are unchanged i...</td>\n",
       "      <td>NaN</td>\n",
       "    </tr>\n",
       "  </tbody>\n",
       "</table>\n",
       "<p>3677 rows × 3 columns</p>\n",
       "</div>"
      ],
      "text/plain": [
       "                                            images_path  \\\n",
       "0     ['/mnt/researchers/denis-parra/datasets/interp...   \n",
       "1     ['/mnt/researchers/denis-parra/datasets/interp...   \n",
       "2     ['/mnt/researchers/denis-parra/datasets/interp...   \n",
       "3     ['/mnt/researchers/denis-parra/datasets/interp...   \n",
       "4     ['/mnt/researchers/denis-parra/datasets/interp...   \n",
       "...                                                 ...   \n",
       "3672  ['/mnt/researchers/denis-parra/datasets/interp...   \n",
       "3673  ['/mnt/researchers/denis-parra/datasets/interp...   \n",
       "3674  ['/mnt/researchers/denis-parra/datasets/interp...   \n",
       "3675  ['/mnt/researchers/denis-parra/datasets/interp...   \n",
       "3676  ['/mnt/researchers/denis-parra/datasets/interp...   \n",
       "\n",
       "                                               findings  \\\n",
       "0     Bedside upright AP radiograph of the chest dem...   \n",
       "1     Since most recent chest radiograph, there has ...   \n",
       "2                                                   NaN   \n",
       "3     As compared to the previous radiograph, the kn...   \n",
       "4     There are no focal opacities. The patient has ...   \n",
       "...                                                 ...   \n",
       "3672  The lungs are clear. There is no effusion, con...   \n",
       "3673  Lungs are relatively hyperinflated with the ca...   \n",
       "3674  The lungs are well expanded and clear. Coarsen...   \n",
       "3675  Bibasilar opacities are again seen silhouettin...   \n",
       "3676  Support and monitoring devices are unchanged i...   \n",
       "\n",
       "                                             impression  \n",
       "0     1. Mild chronic congestive heart failure with ...  \n",
       "1     Right IJ central venous catheter terminates pr...  \n",
       "2     There has been interval increase in right lowe...  \n",
       "3                                                   NaN  \n",
       "4         No evidence of acute cardiopulmonary process.  \n",
       "...                                                 ...  \n",
       "3672                                Normal chest x-ray.  \n",
       "3673         No definite acute cardiopulmonary process.  \n",
       "3674  No acute cardiopulmonary process. Unchanged ca...  \n",
       "3675  Moderate bilateral pleural effusions with adja...  \n",
       "3676                                                NaN  \n",
       "\n",
       "[3677 rows x 3 columns]"
      ]
     },
     "execution_count": 15,
     "metadata": {},
     "output_type": "execute_result"
    }
   ],
   "source": [
    "test_public_df"
   ]
  },
  {
   "cell_type": "code",
   "execution_count": 16,
   "id": "f33dd37a",
   "metadata": {},
   "outputs": [
    {
     "data": {
      "text/html": [
       "<div>\n",
       "<style scoped>\n",
       "    .dataframe tbody tr th:only-of-type {\n",
       "        vertical-align: middle;\n",
       "    }\n",
       "\n",
       "    .dataframe tbody tr th {\n",
       "        vertical-align: top;\n",
       "    }\n",
       "\n",
       "    .dataframe thead th {\n",
       "        text-align: right;\n",
       "    }\n",
       "</style>\n",
       "<table border=\"1\" class=\"dataframe\">\n",
       "  <thead>\n",
       "    <tr style=\"text-align: right;\">\n",
       "      <th></th>\n",
       "      <th>images_path</th>\n",
       "      <th>findings</th>\n",
       "      <th>impression</th>\n",
       "    </tr>\n",
       "  </thead>\n",
       "  <tbody>\n",
       "    <tr>\n",
       "      <th>0</th>\n",
       "      <td>['/mnt/researchers/denis-parra/datasets/interp...</td>\n",
       "      <td>NaN</td>\n",
       "      <td>to_generate</td>\n",
       "    </tr>\n",
       "    <tr>\n",
       "      <th>1</th>\n",
       "      <td>['/mnt/researchers/denis-parra/datasets/interp...</td>\n",
       "      <td>NaN</td>\n",
       "      <td>to_generate</td>\n",
       "    </tr>\n",
       "    <tr>\n",
       "      <th>2</th>\n",
       "      <td>['/mnt/researchers/denis-parra/datasets/interp...</td>\n",
       "      <td>to_generate</td>\n",
       "      <td>to_generate</td>\n",
       "    </tr>\n",
       "    <tr>\n",
       "      <th>3</th>\n",
       "      <td>['/mnt/researchers/denis-parra/datasets/interp...</td>\n",
       "      <td>NaN</td>\n",
       "      <td>to_generate</td>\n",
       "    </tr>\n",
       "    <tr>\n",
       "      <th>4</th>\n",
       "      <td>['/mnt/researchers/denis-parra/datasets/interp...</td>\n",
       "      <td>to_generate</td>\n",
       "      <td>to_generate</td>\n",
       "    </tr>\n",
       "    <tr>\n",
       "      <th>...</th>\n",
       "      <td>...</td>\n",
       "      <td>...</td>\n",
       "      <td>...</td>\n",
       "    </tr>\n",
       "    <tr>\n",
       "      <th>1688</th>\n",
       "      <td>['/mnt/researchers/denis-parra/datasets/interp...</td>\n",
       "      <td>to_generate</td>\n",
       "      <td>to_generate</td>\n",
       "    </tr>\n",
       "    <tr>\n",
       "      <th>1689</th>\n",
       "      <td>['/mnt/researchers/denis-parra/datasets/interp...</td>\n",
       "      <td>NaN</td>\n",
       "      <td>to_generate</td>\n",
       "    </tr>\n",
       "    <tr>\n",
       "      <th>1690</th>\n",
       "      <td>['/mnt/researchers/denis-parra/datasets/interp...</td>\n",
       "      <td>NaN</td>\n",
       "      <td>to_generate</td>\n",
       "    </tr>\n",
       "    <tr>\n",
       "      <th>1691</th>\n",
       "      <td>['/mnt/researchers/denis-parra/datasets/interp...</td>\n",
       "      <td>to_generate</td>\n",
       "      <td>to_generate</td>\n",
       "    </tr>\n",
       "    <tr>\n",
       "      <th>1692</th>\n",
       "      <td>['/mnt/researchers/denis-parra/datasets/interp...</td>\n",
       "      <td>NaN</td>\n",
       "      <td>to_generate</td>\n",
       "    </tr>\n",
       "  </tbody>\n",
       "</table>\n",
       "<p>1693 rows × 3 columns</p>\n",
       "</div>"
      ],
      "text/plain": [
       "                                            images_path     findings  \\\n",
       "0     ['/mnt/researchers/denis-parra/datasets/interp...          NaN   \n",
       "1     ['/mnt/researchers/denis-parra/datasets/interp...          NaN   \n",
       "2     ['/mnt/researchers/denis-parra/datasets/interp...  to_generate   \n",
       "3     ['/mnt/researchers/denis-parra/datasets/interp...          NaN   \n",
       "4     ['/mnt/researchers/denis-parra/datasets/interp...  to_generate   \n",
       "...                                                 ...          ...   \n",
       "1688  ['/mnt/researchers/denis-parra/datasets/interp...  to_generate   \n",
       "1689  ['/mnt/researchers/denis-parra/datasets/interp...          NaN   \n",
       "1690  ['/mnt/researchers/denis-parra/datasets/interp...          NaN   \n",
       "1691  ['/mnt/researchers/denis-parra/datasets/interp...  to_generate   \n",
       "1692  ['/mnt/researchers/denis-parra/datasets/interp...          NaN   \n",
       "\n",
       "       impression  \n",
       "0     to_generate  \n",
       "1     to_generate  \n",
       "2     to_generate  \n",
       "3     to_generate  \n",
       "4     to_generate  \n",
       "...           ...  \n",
       "1688  to_generate  \n",
       "1689  to_generate  \n",
       "1690  to_generate  \n",
       "1691  to_generate  \n",
       "1692  to_generate  \n",
       "\n",
       "[1693 rows x 3 columns]"
      ]
     },
     "execution_count": 16,
     "metadata": {},
     "output_type": "execute_result"
    }
   ],
   "source": [
    "test_hidden_df"
   ]
  },
  {
   "cell_type": "code",
   "execution_count": 67,
   "id": "77191ae0",
   "metadata": {},
   "outputs": [
    {
     "name": "stdout",
     "output_type": "stream",
     "text": [
      "\u001b[1m\u001b[34mMIMIC-CXR splits already exist at /mnt/data/pamessina/workspaces/medvqa-workspace/cache/interpret-cxr-challenge/mimiccxr_splits.pkl\u001b[0m\n",
      "\u001b[1m\u001b[34mCheXpert splits already exist at /mnt/data/pamessina/workspaces/medvqa-workspace/cache/interpret-cxr-challenge/chexpert_splits.pkl\u001b[0m\n",
      "\u001b[1m\u001b[34mOpenI splits already exist at /mnt/data/pamessina/workspaces/medvqa-workspace/cache/interpret-cxr-challenge/openi_splits.pkl\u001b[0m\n",
      "\u001b[1m\u001b[35mDone\u001b[0m\n"
     ]
    }
   ],
   "source": [
    "!python ../../scripts/interpret_cxr/export_splits.py \\\n",
    "--data_dir \\\n",
    "\"/mnt/data/pamessina/workspaces/medvqa-workspace/cache/interpret-cxr-challenge/\" \\\n",
    "--output_dir \\\n",
    "\"/mnt/data/pamessina/workspaces/medvqa-workspace/cache/interpret-cxr-challenge/\""
   ]
  },
  {
   "cell_type": "code",
   "execution_count": 52,
   "id": "45c36875",
   "metadata": {},
   "outputs": [
    {
     "data": {
      "text/plain": [
       "['data/chexpert-public/train/patient02130/study1/view2_lateral', '']"
      ]
     },
     "execution_count": 52,
     "metadata": {},
     "output_type": "execute_result"
    }
   ],
   "source": [
    "'data/chexpert-public/train/patient02130/study1/view2_lateral.jpg'.split('.jpg')"
   ]
  },
  {
   "cell_type": "code",
   "execution_count": 39,
   "id": "95635a87",
   "metadata": {},
   "outputs": [],
   "source": [
    "import pandas as pd\n",
    "from medvqa.datasets.chexpert import CHEXPERT_TEST_LABELS_CSV_PATH, CHEXPERT_TRAIN_VAL_CSV_PATH\n",
    "chexpert_train_val_df = pd.read_csv(CHEXPERT_TRAIN_VAL_CSV_PATH)"
   ]
  },
  {
   "cell_type": "code",
   "execution_count": 41,
   "id": "4fac87b7",
   "metadata": {},
   "outputs": [
    {
     "data": {
      "text/plain": [
       "19"
      ]
     },
     "execution_count": 41,
     "metadata": {},
     "output_type": "execute_result"
    }
   ],
   "source": [
    "len('CheXpert-v1.0-small')"
   ]
  },
  {
   "cell_type": "code",
   "execution_count": 44,
   "id": "46711e0d",
   "metadata": {},
   "outputs": [],
   "source": [
    "tmp  = chexpert_train_val_df.Path.values"
   ]
  },
  {
   "cell_type": "code",
   "execution_count": 48,
   "id": "549e348e",
   "metadata": {},
   "outputs": [
    {
     "data": {
      "text/plain": [
       "'train/patient00001/study1/view1_frontal.jpg'"
      ]
     },
     "execution_count": 48,
     "metadata": {},
     "output_type": "execute_result"
    }
   ],
   "source": [
    "tmp[0][20:]"
   ]
  },
  {
   "cell_type": "code",
   "execution_count": 16,
   "id": "316fb4ec",
   "metadata": {},
   "outputs": [],
   "source": [
    "from medvqa.utils.common import INTERPRET_CXR_TEST_PUBLIC_CSV_PATH"
   ]
  },
  {
   "cell_type": "code",
   "execution_count": 18,
   "id": "4aa9f3ee",
   "metadata": {},
   "outputs": [],
   "source": [
    "df = pd.read_csv(INTERPRET_CXR_TEST_PUBLIC_CSV_PATH)"
   ]
  },
  {
   "cell_type": "code",
   "execution_count": 22,
   "id": "9f1d1b3d",
   "metadata": {},
   "outputs": [
    {
     "data": {
      "text/plain": [
       "['/mnt/researchers/denis-parra/datasets/interpret-cxr-test-public-jpg/test_public/image_1_view_0.jpg']"
      ]
     },
     "execution_count": 22,
     "metadata": {},
     "output_type": "execute_result"
    }
   ],
   "source": [
    "eval(df.images_path[0])"
   ]
  }
 ],
 "metadata": {
  "kernelspec": {
   "display_name": "venv2",
   "language": "python",
   "name": "venv2"
  },
  "language_info": {
   "codemirror_mode": {
    "name": "ipython",
    "version": 3
   },
   "file_extension": ".py",
   "mimetype": "text/x-python",
   "name": "python",
   "nbconvert_exporter": "python",
   "pygments_lexer": "ipython3",
   "version": "3.10.10"
  }
 },
 "nbformat": 4,
 "nbformat_minor": 5
}
