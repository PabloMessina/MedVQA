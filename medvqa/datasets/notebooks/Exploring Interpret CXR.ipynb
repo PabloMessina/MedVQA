{
 "cells": [
  {
   "cell_type": "code",
   "execution_count": 1,
   "id": "ca6eb115",
   "metadata": {},
   "outputs": [
    {
     "name": "stdout",
     "output_type": "stream",
     "text": [
      "env: CUDA_VISIBLE_DEVICES=2\n"
     ]
    }
   ],
   "source": [
    "%env CUDA_VISIBLE_DEVICES=2"
   ]
  },
  {
   "cell_type": "code",
   "execution_count": 1,
   "id": "e0769c86",
   "metadata": {},
   "outputs": [
    {
     "name": "stdout",
     "output_type": "stream",
     "text": [
      "test_public  test_public.csv\r\n"
     ]
    }
   ],
   "source": [
    "!ls /mnt/workspace/interpret-cxr-test-public-jpg/"
   ]
  },
  {
   "cell_type": "code",
   "execution_count": 5,
   "id": "4bfa1ea0",
   "metadata": {},
   "outputs": [],
   "source": [
    "import pandas as pd\n",
    "from IPython.display import Image"
   ]
  },
  {
   "cell_type": "code",
   "execution_count": 3,
   "id": "4176222f",
   "metadata": {},
   "outputs": [],
   "source": [
    "df = pd.read_csv('/mnt/workspace/interpret-cxr-test-public-jpg/test_public.csv')"
   ]
  },
  {
   "cell_type": "code",
   "execution_count": 4,
   "id": "2c2b386d",
   "metadata": {},
   "outputs": [
    {
     "data": {
      "text/html": [
       "<div>\n",
       "<style scoped>\n",
       "    .dataframe tbody tr th:only-of-type {\n",
       "        vertical-align: middle;\n",
       "    }\n",
       "\n",
       "    .dataframe tbody tr th {\n",
       "        vertical-align: top;\n",
       "    }\n",
       "\n",
       "    .dataframe thead th {\n",
       "        text-align: right;\n",
       "    }\n",
       "</style>\n",
       "<table border=\"1\" class=\"dataframe\">\n",
       "  <thead>\n",
       "    <tr style=\"text-align: right;\">\n",
       "      <th></th>\n",
       "      <th>images_path</th>\n",
       "      <th>findings</th>\n",
       "      <th>impression</th>\n",
       "    </tr>\n",
       "  </thead>\n",
       "  <tbody>\n",
       "    <tr>\n",
       "      <th>0</th>\n",
       "      <td>['/mnt/researchers/denis-parra/datasets/interp...</td>\n",
       "      <td>Bedside upright AP radiograph of the chest dem...</td>\n",
       "      <td>1. Mild chronic congestive heart failure with ...</td>\n",
       "    </tr>\n",
       "    <tr>\n",
       "      <th>1</th>\n",
       "      <td>['/mnt/researchers/denis-parra/datasets/interp...</td>\n",
       "      <td>Since most recent chest radiograph, there has ...</td>\n",
       "      <td>Right IJ central venous catheter terminates pr...</td>\n",
       "    </tr>\n",
       "    <tr>\n",
       "      <th>2</th>\n",
       "      <td>['/mnt/researchers/denis-parra/datasets/interp...</td>\n",
       "      <td>NaN</td>\n",
       "      <td>There has been interval increase in right lowe...</td>\n",
       "    </tr>\n",
       "    <tr>\n",
       "      <th>3</th>\n",
       "      <td>['/mnt/researchers/denis-parra/datasets/interp...</td>\n",
       "      <td>As compared to the previous radiograph, the kn...</td>\n",
       "      <td>NaN</td>\n",
       "    </tr>\n",
       "    <tr>\n",
       "      <th>4</th>\n",
       "      <td>['/mnt/researchers/denis-parra/datasets/interp...</td>\n",
       "      <td>There are no focal opacities. The patient has ...</td>\n",
       "      <td>No evidence of acute cardiopulmonary process.</td>\n",
       "    </tr>\n",
       "    <tr>\n",
       "      <th>...</th>\n",
       "      <td>...</td>\n",
       "      <td>...</td>\n",
       "      <td>...</td>\n",
       "    </tr>\n",
       "    <tr>\n",
       "      <th>3672</th>\n",
       "      <td>['/mnt/researchers/denis-parra/datasets/interp...</td>\n",
       "      <td>The lungs are clear. There is no effusion, con...</td>\n",
       "      <td>Normal chest x-ray.</td>\n",
       "    </tr>\n",
       "    <tr>\n",
       "      <th>3673</th>\n",
       "      <td>['/mnt/researchers/denis-parra/datasets/interp...</td>\n",
       "      <td>Lungs are relatively hyperinflated with the ca...</td>\n",
       "      <td>No definite acute cardiopulmonary process.</td>\n",
       "    </tr>\n",
       "    <tr>\n",
       "      <th>3674</th>\n",
       "      <td>['/mnt/researchers/denis-parra/datasets/interp...</td>\n",
       "      <td>The lungs are well expanded and clear. Coarsen...</td>\n",
       "      <td>No acute cardiopulmonary process. Unchanged ca...</td>\n",
       "    </tr>\n",
       "    <tr>\n",
       "      <th>3675</th>\n",
       "      <td>['/mnt/researchers/denis-parra/datasets/interp...</td>\n",
       "      <td>Bibasilar opacities are again seen silhouettin...</td>\n",
       "      <td>Moderate bilateral pleural effusions with adja...</td>\n",
       "    </tr>\n",
       "    <tr>\n",
       "      <th>3676</th>\n",
       "      <td>['/mnt/researchers/denis-parra/datasets/interp...</td>\n",
       "      <td>Support and monitoring devices are unchanged i...</td>\n",
       "      <td>NaN</td>\n",
       "    </tr>\n",
       "  </tbody>\n",
       "</table>\n",
       "<p>3677 rows × 3 columns</p>\n",
       "</div>"
      ],
      "text/plain": [
       "                                            images_path  \\\n",
       "0     ['/mnt/researchers/denis-parra/datasets/interp...   \n",
       "1     ['/mnt/researchers/denis-parra/datasets/interp...   \n",
       "2     ['/mnt/researchers/denis-parra/datasets/interp...   \n",
       "3     ['/mnt/researchers/denis-parra/datasets/interp...   \n",
       "4     ['/mnt/researchers/denis-parra/datasets/interp...   \n",
       "...                                                 ...   \n",
       "3672  ['/mnt/researchers/denis-parra/datasets/interp...   \n",
       "3673  ['/mnt/researchers/denis-parra/datasets/interp...   \n",
       "3674  ['/mnt/researchers/denis-parra/datasets/interp...   \n",
       "3675  ['/mnt/researchers/denis-parra/datasets/interp...   \n",
       "3676  ['/mnt/researchers/denis-parra/datasets/interp...   \n",
       "\n",
       "                                               findings  \\\n",
       "0     Bedside upright AP radiograph of the chest dem...   \n",
       "1     Since most recent chest radiograph, there has ...   \n",
       "2                                                   NaN   \n",
       "3     As compared to the previous radiograph, the kn...   \n",
       "4     There are no focal opacities. The patient has ...   \n",
       "...                                                 ...   \n",
       "3672  The lungs are clear. There is no effusion, con...   \n",
       "3673  Lungs are relatively hyperinflated with the ca...   \n",
       "3674  The lungs are well expanded and clear. Coarsen...   \n",
       "3675  Bibasilar opacities are again seen silhouettin...   \n",
       "3676  Support and monitoring devices are unchanged i...   \n",
       "\n",
       "                                             impression  \n",
       "0     1. Mild chronic congestive heart failure with ...  \n",
       "1     Right IJ central venous catheter terminates pr...  \n",
       "2     There has been interval increase in right lowe...  \n",
       "3                                                   NaN  \n",
       "4         No evidence of acute cardiopulmonary process.  \n",
       "...                                                 ...  \n",
       "3672                                Normal chest x-ray.  \n",
       "3673         No definite acute cardiopulmonary process.  \n",
       "3674  No acute cardiopulmonary process. Unchanged ca...  \n",
       "3675  Moderate bilateral pleural effusions with adja...  \n",
       "3676                                                NaN  \n",
       "\n",
       "[3677 rows x 3 columns]"
      ]
     },
     "execution_count": 4,
     "metadata": {},
     "output_type": "execute_result"
    }
   ],
   "source": [
    "df"
   ]
  },
  {
   "cell_type": "code",
   "execution_count": 7,
   "id": "4c8479bf",
   "metadata": {},
   "outputs": [
    {
     "data": {
      "text/plain": [
       "\"['/mnt/researchers/denis-parra/datasets/interpret-cxr-test-public-jpg/test_public/image_1_view_0.jpg']\""
      ]
     },
     "execution_count": 7,
     "metadata": {},
     "output_type": "execute_result"
    }
   ],
   "source": [
    "df.iloc[0]['images_path']"
   ]
  },
  {
   "cell_type": "code",
   "execution_count": 11,
   "id": "18a12b84",
   "metadata": {},
   "outputs": [
    {
     "data": {
      "text/plain": [
       "['/mnt/researchers/denis-parra/datasets/interpret-cxr-test-public-jpg/test_public/image_1_view_0.jpg']"
      ]
     },
     "execution_count": 11,
     "metadata": {},
     "output_type": "execute_result"
    }
   ],
   "source": [
    "eval(df['images_path'][0])"
   ]
  },
  {
   "cell_type": "code",
   "execution_count": 12,
   "id": "c21d47b4",
   "metadata": {},
   "outputs": [
    {
     "data": {
      "text/plain": [
       "Counter({1: 1832, 2: 1461, 4: 38, 3: 345, 5: 1})"
      ]
     },
     "execution_count": 12,
     "metadata": {},
     "output_type": "execute_result"
    }
   ],
   "source": [
    "from collections import Counter\n",
    "\n",
    "Counter(len(eval(x)) for x in df['images_path'])"
   ]
  },
  {
   "cell_type": "code",
   "execution_count": 8,
   "id": "0e602444",
   "metadata": {},
   "outputs": [
    {
     "data": {
      "image/jpeg": "[encoded data removed]",
      "text/plain": [
       "<IPython.core.display.Image object>"
      ]
     },
     "execution_count": 8,
     "metadata": {},
     "output_type": "execute_result"
    }
   ],
   "source": [
    "Image('/mnt/workspace/interpret-cxr-test-public-jpg/test_public/image_1_view_0.jpg')"
   ]
  }
 ],
 "metadata": {
  "kernelspec": {
   "display_name": "venv2",
   "language": "python",
   "name": "venv2"
  },
  "language_info": {
   "codemirror_mode": {
    "name": "ipython",
    "version": 3
   },
   "file_extension": ".py",
   "mimetype": "text/x-python",
   "name": "python",
   "nbconvert_exporter": "python",
   "pygments_lexer": "ipython3",
   "version": "3.10.10"
  }
 },
 "nbformat": 4,
 "nbformat_minor": 5
}
