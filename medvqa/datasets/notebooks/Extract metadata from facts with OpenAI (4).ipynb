{
 "cells": [
  {
   "cell_type": "code",
   "execution_count": 4,
   "id": "39e471d4",
   "metadata": {},
   "outputs": [
    {
     "name": "stdout",
     "output_type": "stream",
     "text": [
      "2025-01-05 10:53:27,085 - \u001b[1;32mINFO\u001b[1;0m - Total number of unique facts: 591920\n",
      "2025-01-05 10:53:27,222 - \u001b[1;32mINFO\u001b[1;0m - Loading cached sorted sentences from /mnt/data/pamessina_folder_backup_15_10_24/pamessina/medvqa-workspace/cache/sorted_sentences(591920,27712377).pkl...\n",
      "2025-01-05 10:53:27,298 - \u001b[1;32mINFO\u001b[1;0m - Done loading cached sorted sentences.\n",
      "2025-01-05 10:53:27,298 - \u001b[1;32mINFO\u001b[1;0m - First sentence: A BENIGN CALCIFICATION IN LUNG OR RIB, OR VESSEL, EITHER ON END OR CROSSING in the right lower lung\n",
      "2025-01-05 10:53:27,298 - \u001b[1;32mINFO\u001b[1;0m - Last sentence: right\n",
      "checkpoint_names = ['checkpoint_196_cacc+chf1+chf1+cscc+encc+hscc+nlcc+sass+spss+ta0)+ta1)+ta2)+ta0)+ta1)+ta2)+ta3)+ta4)+ta5)+ta6)+ta7)=0.9189.pt']\n",
      "Loading cached text embeddings from /mnt/data/pamessina_folder_backup_15_10_24/pamessina/medvqa-workspace/cache/text_embeddings_cache(hash=469,680486110513564934).pkl\n",
      "len(self.cache[\"hashes\"]) = 702198\n",
      "self.cache[\"embeddings\"].shape = (702198, 128)\n",
      "Loading cached kmeans labels from /mnt/data/pamessina_folder_backup_15_10_24/pamessina/medvqa-workspace/cache/kmeans_labels(27712550,4222631749105572322).pkl\n",
      "2025-01-05 10:53:32,083 - \u001b[1;32mINFO\u001b[1;0m - Total number of queries to process: 1000\n",
      "2025-01-05 10:53:32,083 - \u001b[1;32mINFO\u001b[1;0m - Example queries to process:\n",
      "2025-01-05 10:53:32,083 - \u001b[1;32mINFO\u001b[1;0m - 1. history of sternal debridement in bilateral pectoralis flaps\n",
      "2025-01-05 10:53:32,083 - \u001b[1;32mINFO\u001b[1;0m - 112. opacity with a 'butterfly' appearance\n",
      "2025-01-05 10:53:32,083 - \u001b[1;32mINFO\u001b[1;0m - 223. Perihilar hazes\n",
      "2025-01-05 10:53:32,083 - \u001b[1;32mINFO\u001b[1;0m - 334. right lower paratacheal mediastinal buldge\n",
      "2025-01-05 10:53:32,083 - \u001b[1;32mINFO\u001b[1;0m - 445. subtlely dense ossesous structures\n",
      "2025-01-05 10:53:32,083 - \u001b[1;32mINFO\u001b[1;0m - 556. pleural effusion induced by TKI administration\n",
      "2025-01-05 10:53:32,083 - \u001b[1;32mINFO\u001b[1;0m - 667. previous chest CT saw a small hemorrhagic pleural effusion\n",
      "2025-01-05 10:53:32,083 - \u001b[1;32mINFO\u001b[1;0m - 778. minimally smaller large multiloculated left pleural effusion compared to 08:46 today\n",
      "2025-01-05 10:53:32,083 - \u001b[1;32mINFO\u001b[1;0m - 889. acceleratement of the stomach is more readily visible\n",
      "2025-01-05 10:53:32,083 - \u001b[1;32mINFO\u001b[1;0m - 1000. Possibly small pleural effusion\n",
      "2025-01-05 10:53:32,086 - \u001b[1;32mINFO\u001b[1;0m - Saving batch API requests to /home/pamessina/medvqa-workspace/tmp/mimiccxr/openai/batch_api_requests_20250105_105332.jsonl\n",
      "2025-01-05 10:53:35,028 - \u001b[1;32mINFO\u001b[1;0m - HTTP Request: POST https://api.openai.com/v1/files \"HTTP/1.1 200 OK\"\n",
      "2025-01-05 10:53:35,030 - \u001b[1;32mINFO\u001b[1;0m - Creating batch with input file ID file-WWLVpe13AavmeGtNcPgQ3z\n",
      "2025-01-05 10:53:36,335 - \u001b[1;32mINFO\u001b[1;0m - HTTP Request: POST https://api.openai.com/v1/batches \"HTTP/1.1 200 OK\"\n",
      "2025-01-05 10:53:36,342 - \u001b[1;32mINFO\u001b[1;0m - Batch object: Batch(id='batch_677a8ee0157c81908d4d2c633f81165a', completion_window='24h', created_at=1736085216, endpoint='/v1/chat/completions', input_file_id='file-WWLVpe13AavmeGtNcPgQ3z', object='batch', status='validating', cancelled_at=None, cancelling_at=None, completed_at=None, error_file_id=None, errors=None, expired_at=None, expires_at=1736171616, failed_at=None, finalizing_at=None, in_progress_at=None, metadata={'description': 'fact to metadata (improved)'}, output_file_id=None, request_counts=BatchRequestCounts(completed=0, failed=0, total=0))\n",
      "2025-01-05 10:53:36,342 - \u001b[1;32mINFO\u001b[1;0m - Saving batch object to /home/pamessina/medvqa-workspace/tmp/mimiccxr/openai/batch_api/file-WWLVpe13AavmeGtNcPgQ3z.pkl\n",
      "2025-01-05 10:53:36,343 - \u001b[1;32mINFO\u001b[1;0m - Deleting batch API requests at /home/pamessina/medvqa-workspace/tmp/mimiccxr/openai/batch_api_requests_20250105_105332.jsonl\n"
     ]
    }
   ],
   "source": [
    "!python ../../scripts/mimiccxr/extract_metadata_from_facts_with_openai_v2.py \\\n",
    "--offset 0 \\\n",
    "--num_samples 1000 \\\n",
    "--integrated_sentence_facts_jsonl_filepath \\\n",
    "\"/home/pamessina/medvqa-workspace/cache/mimiccxr/integrated_sentence_facts(59349684,50956825).jsonl\" \\\n",
    "--fact_embedding_model_name \"microsoft/BiomedVLP-CXR-BERT-specialized\" \\\n",
    "--fact_embedding_model_checkpoint_folder_path \\\n",
    "\"/mnt/data/pamessina/workspaces/medvqa-workspace/models/fact_embedding/20240629_084405_MIMIC-CXR(triplets+classif+entcont+nli+radgraph+autoencoder)_FactEncoder(microsoft-BiomedVLP-CXR-BERT-specialized)\" \\\n",
    "--fact_embedding_batch_size 200 \\\n",
    "--fact_embedding_num_workers 4 \\\n",
    "--max_requests_per_minute 20000 \\\n",
    "--max_tokens_per_minute 10000000 \\\n",
    "--max_tokens_per_request 350 \\\n",
    "--logging_level \"INFO\" \\\n",
    "--api_key_name \"OPENAI_API_KEY_1\" \\\n",
    "--openai_model_name \"gpt-4o-mini\" \\\n",
    "--use_batch_api \\\n",
    "--batch_description \"fact to metadata (improved)\""
   ]
  },
  {
   "cell_type": "code",
   "execution_count": 12,
   "id": "cfa82756",
   "metadata": {},
   "outputs": [
    {
     "name": "stdout",
     "output_type": "stream",
     "text": [
      "2025-01-05 11:12:29,818 - \u001b[1;32mINFO\u001b[1;0m - Checking status of batch with input file ID file-WWLVpe13AavmeGtNcPgQ3z\n",
      "2025-01-05 11:12:30,252 - \u001b[1;32mINFO\u001b[1;0m - Batch object: Batch(id='batch_677a8ee0157c81908d4d2c633f81165a', completion_window='24h', created_at=1736085216, endpoint='/v1/chat/completions', input_file_id='file-WWLVpe13AavmeGtNcPgQ3z', object='batch', status='validating', cancelled_at=None, cancelling_at=None, completed_at=None, error_file_id=None, errors=None, expired_at=None, expires_at=1736171616, failed_at=None, finalizing_at=None, in_progress_at=None, metadata={'description': 'fact to metadata (improved)'}, output_file_id=None, request_counts=BatchRequestCounts(completed=0, failed=0, total=0))\n",
      "2025-01-05 11:12:31,025 - \u001b[1;32mINFO\u001b[1;0m - HTTP Request: GET https://api.openai.com/v1/batches/batch_677a8ee0157c81908d4d2c633f81165a \"HTTP/1.1 200 OK\"\n",
      "2025-01-05 11:12:31,033 - \u001b[1;32mINFO\u001b[1;0m - Batch: Batch(id='batch_677a8ee0157c81908d4d2c633f81165a', completion_window='24h', created_at=1736085216, endpoint='/v1/chat/completions', input_file_id='file-WWLVpe13AavmeGtNcPgQ3z', object='batch', status='completed', cancelled_at=None, cancelling_at=None, completed_at=1736086316, error_file_id=None, errors=None, expired_at=None, expires_at=1736171616, failed_at=None, finalizing_at=1736086176, in_progress_at=1736085217, metadata={'description': 'fact to metadata (improved)'}, output_file_id='file-PeAzANDr9qNavNhEnZK4Y9', request_counts=BatchRequestCounts(completed=1000, failed=0, total=1000))\n",
      "2025-01-05 11:12:31,033 - \u001b[1;32mINFO\u001b[1;0m - Batch status: completed\n",
      "2025-01-05 11:12:31,033 - \u001b[1;32mINFO\u001b[1;0m - Batch with input file ID file-WWLVpe13AavmeGtNcPgQ3z is completed\n",
      "2025-01-05 11:12:31,034 - \u001b[1;32mINFO\u001b[1;0m - Retrieving batch input file ID file-WWLVpe13AavmeGtNcPgQ3z\n",
      "2025-01-05 11:12:31,883 - \u001b[1;32mINFO\u001b[1;0m - HTTP Request: GET https://api.openai.com/v1/files/file-WWLVpe13AavmeGtNcPgQ3z/content \"HTTP/1.1 200 OK\"\n",
      "2025-01-05 11:12:32,745 - \u001b[1;32mINFO\u001b[1;0m - Retrieved metadata for 1000 queries\n",
      "2025-01-05 11:12:32,745 - \u001b[1;32mINFO\u001b[1;0m - Retrieving batch output file ID file-PeAzANDr9qNavNhEnZK4Y9\n",
      "2025-01-05 11:12:33,311 - \u001b[1;32mINFO\u001b[1;0m - HTTP Request: GET https://api.openai.com/v1/files/file-PeAzANDr9qNavNhEnZK4Y9/content \"HTTP/1.1 200 OK\"\n",
      "2025-01-05 11:12:33,486 - \u001b[1;32mINFO\u001b[1;0m - Succesfully processed 1000 of 1000 API responses.\n",
      "                                    0 of 1000 API responses could not be processed.\n",
      "                                    Saving processed texts to /mnt/data/pamessina_folder_backup_15_10_24/pamessina/medvqa-workspace/cache/mimiccxr/openai/gpt-4o-mini_fact_to_metadata.jsonl\n"
     ]
    }
   ],
   "source": [
    "!python ../../scripts/mimiccxr/extract_metadata_from_facts_with_openai_v2.py \\\n",
    "--batch_input_file_id \"file-WWLVpe13AavmeGtNcPgQ3z\" \\\n",
    "--logging_level \"INFO\" \\\n",
    "--api_key_name \"OPENAI_API_KEY_1\" \\\n",
    "--openai_model_name \"gpt-4o-mini\" \\\n",
    "--use_batch_api"
   ]
  },
  {
   "cell_type": "code",
   "execution_count": 27,
   "id": "7500301c",
   "metadata": {
    "scrolled": true
   },
   "outputs": [
    {
     "name": "stdout",
     "output_type": "stream",
     "text": [
      "2025-01-05 11:27:52,622 - \u001b[1;32mINFO\u001b[1;0m - Loaded 1000 already processed queries from /mnt/data/pamessina_folder_backup_15_10_24/pamessina/medvqa-workspace/cache/mimiccxr/openai/gpt-4o-mini_fact_to_metadata.jsonl\n",
      "2025-01-05 11:27:58,509 - \u001b[1;32mINFO\u001b[1;0m - Total number of unique facts: 591920\n",
      "2025-01-05 11:27:58,653 - \u001b[1;32mINFO\u001b[1;0m - Loading cached sorted sentences from /mnt/data/pamessina_folder_backup_15_10_24/pamessina/medvqa-workspace/cache/sorted_sentences(591920,27712377).pkl...\n",
      "2025-01-05 11:27:58,729 - \u001b[1;32mINFO\u001b[1;0m - Done loading cached sorted sentences.\n",
      "2025-01-05 11:27:58,729 - \u001b[1;32mINFO\u001b[1;0m - First sentence: A BENIGN CALCIFICATION IN LUNG OR RIB, OR VESSEL, EITHER ON END OR CROSSING in the right lower lung\n",
      "2025-01-05 11:27:58,729 - \u001b[1;32mINFO\u001b[1;0m - Last sentence: right\n",
      "checkpoint_names = ['checkpoint_196_cacc+chf1+chf1+cscc+encc+hscc+nlcc+sass+spss+ta0)+ta1)+ta2)+ta0)+ta1)+ta2)+ta3)+ta4)+ta5)+ta6)+ta7)=0.9189.pt']\n",
      "Loading cached text embeddings from /mnt/data/pamessina_folder_backup_15_10_24/pamessina/medvqa-workspace/cache/text_embeddings_cache(hash=469,680486110513564934).pkl\n",
      "len(self.cache[\"hashes\"]) = 702198\n",
      "self.cache[\"embeddings\"].shape = (702198, 128)\n",
      "Loading cached kmeans labels from /mnt/data/pamessina_folder_backup_15_10_24/pamessina/medvqa-workspace/cache/kmeans_labels(27712550,4222631749105572322).pkl\n",
      "2025-01-05 11:28:03,508 - \u001b[1;32mINFO\u001b[1;0m - Total number of queries to process: 50000\n",
      "2025-01-05 11:28:03,508 - \u001b[1;32mINFO\u001b[1;0m - Example queries to process:\n",
      "2025-01-05 11:28:03,509 - \u001b[1;32mINFO\u001b[1;0m - 1. Asymmetric interistial edema\n",
      "2025-01-05 11:28:03,509 - \u001b[1;32mINFO\u001b[1;0m - 5556. redistributing pleural fluid\n",
      "2025-01-05 11:28:03,509 - \u001b[1;32mINFO\u001b[1;0m - 11111. dental crown lodged in the right lower lobe bronchus 2\n",
      "2025-01-05 11:28:03,509 - \u001b[1;32mINFO\u001b[1;0m - 16667. associated arthritic changes\n",
      "2025-01-05 11:28:03,509 - \u001b[1;32mINFO\u001b[1;0m - 22222. better demonstration of right apical pneumothorax on the recent CT interventional procedure\n",
      "2025-01-05 11:28:03,509 - \u001b[1;32mINFO\u001b[1;0m - 27778. opacity localizes to the right middle lobe on lateral projection\n",
      "2025-01-05 11:28:03,509 - \u001b[1;32mINFO\u001b[1;0m - 33333. nephroureteral stent in the right upper abdomen\n",
      "2025-01-05 11:28:03,509 - \u001b[1;32mINFO\u001b[1;0m - 38889. esophageal feeding tube needs to be placed securely in the stomach\n",
      "2025-01-05 11:28:03,509 - \u001b[1;32mINFO\u001b[1;0m - 44444. post-radiation changes in the right lung are unchanged\n",
      "2025-01-05 11:28:03,509 - \u001b[1;32mINFO\u001b[1;0m - 50000. no air to suggest necrotizing fasciitis\n",
      "2025-01-05 11:28:03,665 - \u001b[1;32mINFO\u001b[1;0m - Saving batch API requests to /home/pamessina/medvqa-workspace/tmp/mimiccxr/openai/batch_api_requests_20250105_112803.jsonl\n",
      "2025-01-05 11:28:14,370 - \u001b[1;32mINFO\u001b[1;0m - HTTP Request: POST https://api.openai.com/v1/files \"HTTP/1.1 200 OK\"\n",
      "2025-01-05 11:28:14,372 - \u001b[1;32mINFO\u001b[1;0m - Creating batch with input file ID file-1csRZzzzJ14fDdT5mgCFk3\n",
      "2025-01-05 11:28:15,583 - \u001b[1;32mINFO\u001b[1;0m - HTTP Request: POST https://api.openai.com/v1/batches \"HTTP/1.1 200 OK\"\n",
      "2025-01-05 11:28:15,590 - \u001b[1;32mINFO\u001b[1;0m - Batch object: Batch(id='batch_677a96ff59e88190b08d2d28e6d124dc', completion_window='24h', created_at=1736087295, endpoint='/v1/chat/completions', input_file_id='file-1csRZzzzJ14fDdT5mgCFk3', object='batch', status='validating', cancelled_at=None, cancelling_at=None, completed_at=None, error_file_id=None, errors=None, expired_at=None, expires_at=1736173695, failed_at=None, finalizing_at=None, in_progress_at=None, metadata={'description': 'fact to metadata (improved)'}, output_file_id=None, request_counts=BatchRequestCounts(completed=0, failed=0, total=0))\n",
      "2025-01-05 11:28:15,590 - \u001b[1;32mINFO\u001b[1;0m - Saving batch object to /home/pamessina/medvqa-workspace/tmp/mimiccxr/openai/batch_api/file-1csRZzzzJ14fDdT5mgCFk3.pkl\n",
      "2025-01-05 11:28:15,591 - \u001b[1;32mINFO\u001b[1;0m - Deleting batch API requests at /home/pamessina/medvqa-workspace/tmp/mimiccxr/openai/batch_api_requests_20250105_112803.jsonl\n"
     ]
    }
   ],
   "source": [
    "!python ../../scripts/mimiccxr/extract_metadata_from_facts_with_openai_v2.py \\\n",
    "--offset 1000 \\\n",
    "--num_samples 50000 \\\n",
    "--integrated_sentence_facts_jsonl_filepath \\\n",
    "\"/home/pamessina/medvqa-workspace/cache/mimiccxr/integrated_sentence_facts(59349684,50956825).jsonl\" \\\n",
    "--fact_embedding_model_name \"microsoft/BiomedVLP-CXR-BERT-specialized\" \\\n",
    "--fact_embedding_model_checkpoint_folder_path \\\n",
    "\"/mnt/data/pamessina/workspaces/medvqa-workspace/models/fact_embedding/20240629_084405_MIMIC-CXR(triplets+classif+entcont+nli+radgraph+autoencoder)_FactEncoder(microsoft-BiomedVLP-CXR-BERT-specialized)\" \\\n",
    "--fact_embedding_batch_size 200 \\\n",
    "--fact_embedding_num_workers 4 \\\n",
    "--max_requests_per_minute 20000 \\\n",
    "--max_tokens_per_minute 10000000 \\\n",
    "--max_tokens_per_request 350 \\\n",
    "--logging_level \"INFO\" \\\n",
    "--api_key_name \"OPENAI_API_KEY_1\" \\\n",
    "--openai_model_name \"gpt-4o-mini\" \\\n",
    "--use_batch_api \\\n",
    "--batch_description \"fact to metadata (improved)\""
   ]
  },
  {
   "cell_type": "code",
   "execution_count": 37,
   "id": "5c20dd78",
   "metadata": {
    "scrolled": true
   },
   "outputs": [
    {
     "name": "stdout",
     "output_type": "stream",
     "text": [
      "2025-01-05 18:48:42,545 - \u001b[1;32mINFO\u001b[1;0m - Checking status of batch with input file ID file-1csRZzzzJ14fDdT5mgCFk3\n",
      "2025-01-05 18:48:42,982 - \u001b[1;32mINFO\u001b[1;0m - Batch object: Batch(id='batch_677a96ff59e88190b08d2d28e6d124dc', completion_window='24h', created_at=1736087295, endpoint='/v1/chat/completions', input_file_id='file-1csRZzzzJ14fDdT5mgCFk3', object='batch', status='validating', cancelled_at=None, cancelling_at=None, completed_at=None, error_file_id=None, errors=None, expired_at=None, expires_at=1736173695, failed_at=None, finalizing_at=None, in_progress_at=None, metadata={'description': 'fact to metadata (improved)'}, output_file_id=None, request_counts=BatchRequestCounts(completed=0, failed=0, total=0))\n",
      "2025-01-05 18:48:43,883 - \u001b[1;32mINFO\u001b[1;0m - HTTP Request: GET https://api.openai.com/v1/batches/batch_677a96ff59e88190b08d2d28e6d124dc \"HTTP/1.1 200 OK\"\n",
      "2025-01-05 18:48:43,890 - \u001b[1;32mINFO\u001b[1;0m - Batch: Batch(id='batch_677a96ff59e88190b08d2d28e6d124dc', completion_window='24h', created_at=1736087295, endpoint='/v1/chat/completions', input_file_id='file-1csRZzzzJ14fDdT5mgCFk3', object='batch', status='completed', cancelled_at=None, cancelling_at=None, completed_at=1736104125, error_file_id=None, errors=None, expired_at=None, expires_at=1736173695, failed_at=None, finalizing_at=1736096203, in_progress_at=1736087309, metadata={'description': 'fact to metadata (improved)'}, output_file_id='file-ScJjGxQVUR1sPkJjk8hzeC', request_counts=BatchRequestCounts(completed=50000, failed=0, total=50000))\n",
      "2025-01-05 18:48:43,890 - \u001b[1;32mINFO\u001b[1;0m - Batch status: completed\n",
      "2025-01-05 18:48:43,891 - \u001b[1;32mINFO\u001b[1;0m - Batch with input file ID file-1csRZzzzJ14fDdT5mgCFk3 is completed\n",
      "2025-01-05 18:48:43,891 - \u001b[1;32mINFO\u001b[1;0m - Retrieving batch input file ID file-1csRZzzzJ14fDdT5mgCFk3\n",
      "2025-01-05 18:48:44,898 - \u001b[1;32mINFO\u001b[1;0m - HTTP Request: GET https://api.openai.com/v1/files/file-1csRZzzzJ14fDdT5mgCFk3/content \"HTTP/1.1 200 OK\"\n",
      "2025-01-05 18:48:50,775 - \u001b[1;32mINFO\u001b[1;0m - Retrieved metadata for 50000 queries\n",
      "2025-01-05 18:48:50,775 - \u001b[1;32mINFO\u001b[1;0m - Retrieving batch output file ID file-ScJjGxQVUR1sPkJjk8hzeC\n",
      "2025-01-05 18:48:52,086 - \u001b[1;32mINFO\u001b[1;0m - HTTP Request: GET https://api.openai.com/v1/files/file-ScJjGxQVUR1sPkJjk8hzeC/content \"HTTP/1.1 200 OK\"\n",
      "2025-01-05 18:48:58,278 - \u001b[1;31mERROR\u001b[1;0m - 1 error messages occurred while parsing responses\n",
      "2025-01-05 18:48:58,279 - \u001b[1;31mERROR\u001b[1;0m - Error parsing response {\"id\": \"batch_req_677ad5c99e8c81909b5ff26534bf2a0b\", \"custom_id\": \"45245\", \"response\": {\"status_code\": 200, \"request_id\": \"0edc7ad33d2e608cec022c1a150e0aab\", \"body\": {\"id\": \"chatcmpl-AmNif9LQomJkhgUMEjjYj7fEnCRrd\", \"object\": \"chat.completion\", \"created\": 1736094285, \"model\": \"gpt-4o-mini-2024-07-18\", \"choices\": [{\"index\": 0, \"message\": {\"role\": \"assistant\", \"content\": \"{\\n  \\\"reason\\\": \\\"The statement describes a specific finding related to the midthoracic vertebral body, indicating a mild wedge compression deformity that has not changed. This is a clear observation that can be visually assessed on an imaging study.\\\",\\n  \\\"too_noisy_or_irrelevant\\\": \\\"no\\\",\\n  \\\"visually_observable\\\":\", \"refusal\": null}, \"logprobs\": null, \"finish_reason\": \"stop\"}], \"usage\": {\"prompt_tokens\": 344, \"completion_tokens\": 71, \"total_tokens\": 415, \"prompt_tokens_details\": {\"cached_tokens\": 0, \"audio_tokens\": 0}, \"completion_tokens_details\": {\"reasoning_tokens\": 0, \"audio_tokens\": 0, \"accepted_prediction_tokens\": 0, \"rejected_prediction_tokens\": 0}}, \"system_fingerprint\": \"fp_0aa8d3e20b\"}}, \"error\": null} for query \"small volume of pre sternal subcutaneous emphysema\": Could not parse output: {\n",
      "  \"reason\": \"The statement describes a specific finding related to the midthoracic vertebral body, indicating a mild wedge compression deformity that has not changed. This is a clear observation that can be visually assessed on an imaging study.\",\n",
      "  \"too_noisy_or_irrelevant\": \"no\",\n",
      "  \"visually_observable\":\n",
      "2025-01-05 18:48:58,279 - \u001b[1;32mINFO\u001b[1;0m - Succesfully processed 49999 of 50000 API responses.\n",
      "                                    1 of 50000 API responses could not be processed.\n",
      "                                    Saving processed texts to /mnt/data/pamessina_folder_backup_15_10_24/pamessina/medvqa-workspace/cache/mimiccxr/openai/gpt-4o-mini_fact_to_metadata.jsonl\n"
     ]
    }
   ],
   "source": [
    "!python ../../scripts/mimiccxr/extract_metadata_from_facts_with_openai_v2.py \\\n",
    "--batch_input_file_id \"file-1csRZzzzJ14fDdT5mgCFk3\" \\\n",
    "--logging_level \"INFO\" \\\n",
    "--api_key_name \"OPENAI_API_KEY_1\" \\\n",
    "--openai_model_name \"gpt-4o-mini\" \\\n",
    "--use_batch_api"
   ]
  },
  {
   "cell_type": "code",
   "execution_count": 28,
   "id": "115f6a73",
   "metadata": {
    "scrolled": true
   },
   "outputs": [
    {
     "name": "stdout",
     "output_type": "stream",
     "text": [
      "2025-01-05 11:29:24,868 - \u001b[1;32mINFO\u001b[1;0m - Loaded 1000 already processed queries from /mnt/data/pamessina_folder_backup_15_10_24/pamessina/medvqa-workspace/cache/mimiccxr/openai/gpt-4o-mini_fact_to_metadata.jsonl\n",
      "2025-01-05 11:29:30,597 - \u001b[1;32mINFO\u001b[1;0m - Total number of unique facts: 591920\n",
      "2025-01-05 11:29:30,731 - \u001b[1;32mINFO\u001b[1;0m - Loading cached sorted sentences from /mnt/data/pamessina_folder_backup_15_10_24/pamessina/medvqa-workspace/cache/sorted_sentences(591920,27712377).pkl...\n",
      "2025-01-05 11:29:30,802 - \u001b[1;32mINFO\u001b[1;0m - Done loading cached sorted sentences.\n",
      "2025-01-05 11:29:30,803 - \u001b[1;32mINFO\u001b[1;0m - First sentence: A BENIGN CALCIFICATION IN LUNG OR RIB, OR VESSEL, EITHER ON END OR CROSSING in the right lower lung\n",
      "2025-01-05 11:29:30,803 - \u001b[1;32mINFO\u001b[1;0m - Last sentence: right\n",
      "checkpoint_names = ['checkpoint_196_cacc+chf1+chf1+cscc+encc+hscc+nlcc+sass+spss+ta0)+ta1)+ta2)+ta0)+ta1)+ta2)+ta3)+ta4)+ta5)+ta6)+ta7)=0.9189.pt']\n",
      "Loading cached text embeddings from /mnt/data/pamessina_folder_backup_15_10_24/pamessina/medvqa-workspace/cache/text_embeddings_cache(hash=469,680486110513564934).pkl\n",
      "len(self.cache[\"hashes\"]) = 702198\n",
      "self.cache[\"embeddings\"].shape = (702198, 128)\n",
      "Loading cached kmeans labels from /mnt/data/pamessina_folder_backup_15_10_24/pamessina/medvqa-workspace/cache/kmeans_labels(27712550,4222631749105572322).pkl\n",
      "2025-01-05 11:29:35,486 - \u001b[1;32mINFO\u001b[1;0m - Total number of queries to process: 50000\n",
      "2025-01-05 11:29:35,486 - \u001b[1;32mINFO\u001b[1;0m - Example queries to process:\n",
      "2025-01-05 11:29:35,486 - \u001b[1;32mINFO\u001b[1;0m - 1. evidence of previous right mastectomy\n",
      "2025-01-05 11:29:35,486 - \u001b[1;32mINFO\u001b[1;0m - 5556. metallic density in the shape of a bullet over the right hemidiaphragm\n",
      "2025-01-05 11:29:35,486 - \u001b[1;32mINFO\u001b[1;0m - 11111. tip reaches into the region of the lower SVC\n",
      "2025-01-05 11:29:35,486 - \u001b[1;32mINFO\u001b[1;0m - 16667. Pacemaker in unchanged position\n",
      "2025-01-05 11:29:35,486 - \u001b[1;32mINFO\u001b[1;0m - 22222. correctly positioned leads of a left pectoral pacemaker\n",
      "2025-01-05 11:29:35,486 - \u001b[1;32mINFO\u001b[1;0m - 27778. gradual decrease in the mediastinal width\n",
      "2025-01-05 11:29:35,486 - \u001b[1;32mINFO\u001b[1;0m - 33333. loculated hydropneumothorax components laterally\n",
      "2025-01-05 11:29:35,487 - \u001b[1;32mINFO\u001b[1;0m - 38889. cannot discern whether findings have improved\n",
      "2025-01-05 11:29:35,487 - \u001b[1;32mINFO\u001b[1;0m - 44444. catheter ends before the origin of the SVC\n",
      "2025-01-05 11:29:35,487 - \u001b[1;32mINFO\u001b[1;0m - 50000. worsening asymmetrically distributed lung opacities\n",
      "2025-01-05 11:29:35,637 - \u001b[1;32mINFO\u001b[1;0m - Saving batch API requests to /home/pamessina/medvqa-workspace/tmp/mimiccxr/openai/batch_api_requests_20250105_112935.jsonl\n",
      "2025-01-05 11:29:46,185 - \u001b[1;32mINFO\u001b[1;0m - HTTP Request: POST https://api.openai.com/v1/files \"HTTP/1.1 200 OK\"\n",
      "2025-01-05 11:29:46,187 - \u001b[1;32mINFO\u001b[1;0m - Creating batch with input file ID file-GRJu3L4aQSyVMGk85XDRYs\n",
      "2025-01-05 11:29:47,543 - \u001b[1;32mINFO\u001b[1;0m - HTTP Request: POST https://api.openai.com/v1/batches \"HTTP/1.1 200 OK\"\n",
      "2025-01-05 11:29:47,549 - \u001b[1;32mINFO\u001b[1;0m - Batch object: Batch(id='batch_677a975b56bc8190a75ebc1e34f9c848', completion_window='24h', created_at=1736087387, endpoint='/v1/chat/completions', input_file_id='file-GRJu3L4aQSyVMGk85XDRYs', object='batch', status='validating', cancelled_at=None, cancelling_at=None, completed_at=None, error_file_id=None, errors=None, expired_at=None, expires_at=1736173787, failed_at=None, finalizing_at=None, in_progress_at=None, metadata={'description': 'fact to metadata (improved)'}, output_file_id=None, request_counts=BatchRequestCounts(completed=0, failed=0, total=0))\n",
      "2025-01-05 11:29:47,550 - \u001b[1;32mINFO\u001b[1;0m - Saving batch object to /home/pamessina/medvqa-workspace/tmp/mimiccxr/openai/batch_api/file-GRJu3L4aQSyVMGk85XDRYs.pkl\n",
      "2025-01-05 11:29:47,550 - \u001b[1;32mINFO\u001b[1;0m - Deleting batch API requests at /home/pamessina/medvqa-workspace/tmp/mimiccxr/openai/batch_api_requests_20250105_112935.jsonl\n"
     ]
    }
   ],
   "source": [
    "!python ../../scripts/mimiccxr/extract_metadata_from_facts_with_openai_v2.py \\\n",
    "--offset 51000 \\\n",
    "--num_samples 50000 \\\n",
    "--integrated_sentence_facts_jsonl_filepath \\\n",
    "\"/home/pamessina/medvqa-workspace/cache/mimiccxr/integrated_sentence_facts(59349684,50956825).jsonl\" \\\n",
    "--fact_embedding_model_name \"microsoft/BiomedVLP-CXR-BERT-specialized\" \\\n",
    "--fact_embedding_model_checkpoint_folder_path \\\n",
    "\"/mnt/data/pamessina/workspaces/medvqa-workspace/models/fact_embedding/20240629_084405_MIMIC-CXR(triplets+classif+entcont+nli+radgraph+autoencoder)_FactEncoder(microsoft-BiomedVLP-CXR-BERT-specialized)\" \\\n",
    "--fact_embedding_batch_size 200 \\\n",
    "--fact_embedding_num_workers 4 \\\n",
    "--max_requests_per_minute 20000 \\\n",
    "--max_tokens_per_minute 10000000 \\\n",
    "--max_tokens_per_request 350 \\\n",
    "--logging_level \"INFO\" \\\n",
    "--api_key_name \"OPENAI_API_KEY_1\" \\\n",
    "--openai_model_name \"gpt-4o-mini\" \\\n",
    "--use_batch_api \\\n",
    "--batch_description \"fact to metadata (improved)\""
   ]
  },
  {
   "cell_type": "code",
   "execution_count": 40,
   "id": "3ffe41b0",
   "metadata": {
    "scrolled": true
   },
   "outputs": [
    {
     "name": "stdout",
     "output_type": "stream",
     "text": [
      "2025-01-05 18:51:25,476 - \u001b[1;32mINFO\u001b[1;0m - Checking status of batch with input file ID file-GRJu3L4aQSyVMGk85XDRYs\n",
      "2025-01-05 18:51:25,918 - \u001b[1;32mINFO\u001b[1;0m - Batch object: Batch(id='batch_677a975b56bc8190a75ebc1e34f9c848', completion_window='24h', created_at=1736087387, endpoint='/v1/chat/completions', input_file_id='file-GRJu3L4aQSyVMGk85XDRYs', object='batch', status='validating', cancelled_at=None, cancelling_at=None, completed_at=None, error_file_id=None, errors=None, expired_at=None, expires_at=1736173787, failed_at=None, finalizing_at=None, in_progress_at=None, metadata={'description': 'fact to metadata (improved)'}, output_file_id=None, request_counts=BatchRequestCounts(completed=0, failed=0, total=0))\n",
      "2025-01-05 18:51:26,555 - \u001b[1;32mINFO\u001b[1;0m - HTTP Request: GET https://api.openai.com/v1/batches/batch_677a975b56bc8190a75ebc1e34f9c848 \"HTTP/1.1 200 OK\"\n",
      "2025-01-05 18:51:26,563 - \u001b[1;32mINFO\u001b[1;0m - Batch: Batch(id='batch_677a975b56bc8190a75ebc1e34f9c848', completion_window='24h', created_at=1736087387, endpoint='/v1/chat/completions', input_file_id='file-GRJu3L4aQSyVMGk85XDRYs', object='batch', status='completed', cancelled_at=None, cancelling_at=None, completed_at=1736099432, error_file_id=None, errors=None, expired_at=None, expires_at=1736173787, failed_at=None, finalizing_at=1736094029, in_progress_at=1736087403, metadata={'description': 'fact to metadata (improved)'}, output_file_id='file-FMXspr8DnvnNEVk3mpGE9q', request_counts=BatchRequestCounts(completed=50000, failed=0, total=50000))\n",
      "2025-01-05 18:51:26,563 - \u001b[1;32mINFO\u001b[1;0m - Batch status: completed\n",
      "2025-01-05 18:51:26,563 - \u001b[1;32mINFO\u001b[1;0m - Batch with input file ID file-GRJu3L4aQSyVMGk85XDRYs is completed\n",
      "2025-01-05 18:51:26,564 - \u001b[1;32mINFO\u001b[1;0m - Retrieving batch input file ID file-GRJu3L4aQSyVMGk85XDRYs\n",
      "2025-01-05 18:51:27,920 - \u001b[1;32mINFO\u001b[1;0m - HTTP Request: GET https://api.openai.com/v1/files/file-GRJu3L4aQSyVMGk85XDRYs/content \"HTTP/1.1 200 OK\"\n",
      "2025-01-05 18:51:33,727 - \u001b[1;32mINFO\u001b[1;0m - Retrieved metadata for 50000 queries\n",
      "2025-01-05 18:51:33,727 - \u001b[1;32mINFO\u001b[1;0m - Retrieving batch output file ID file-FMXspr8DnvnNEVk3mpGE9q\n",
      "2025-01-05 18:51:34,823 - \u001b[1;32mINFO\u001b[1;0m - HTTP Request: GET https://api.openai.com/v1/files/file-FMXspr8DnvnNEVk3mpGE9q/content \"HTTP/1.1 200 OK\"\n",
      "2025-01-05 18:51:40,812 - \u001b[1;31mERROR\u001b[1;0m - 1 error messages occurred while parsing responses\n",
      "2025-01-05 18:51:40,813 - \u001b[1;31mERROR\u001b[1;0m - Error parsing response {\"id\": \"batch_req_677abcd156908190aca3c4d9bb9178e0\", \"custom_id\": \"27338\", \"response\": {\"status_code\": 200, \"request_id\": \"4cef7dcd4c49e13b7322915b70ee093f\", \"body\": {\"id\": \"chatcmpl-AmMj75R6zGuzolAU41M3qANQ2xblE\", \"object\": \"chat.completion\", \"created\": 1736090469, \"model\": \"gpt-4o-mini-2024-07-18\", \"choices\": [{\"index\": 0, \"message\": {\"role\": \"assistant\", \"content\": \"{\\n  \\\"reason\\\": \\\"The term 'hyperlucent lungs' indicates an abnormality in the lung fields that can be visually observed on a chest X-ray. It suggests an increase in air content, which may be indicative of certain lung conditions. This observation is relevant in assessing lung health.\\\",\\n  \\\"too_noisy_or_irrelevant\\\": \\\"no\\\",\\n  \\\"visually_observable\\\": \\\"yes\\\",\\n\", \"refusal\": null}, \"logprobs\": null, \"finish_reason\": \"stop\"}], \"usage\": {\"prompt_tokens\": 331, \"completion_tokens\": 83, \"total_tokens\": 414, \"prompt_tokens_details\": {\"cached_tokens\": 0, \"audio_tokens\": 0}, \"completion_tokens_details\": {\"reasoning_tokens\": 0, \"audio_tokens\": 0, \"accepted_prediction_tokens\": 0, \"rejected_prediction_tokens\": 0}}, \"system_fingerprint\": \"fp_0aa8d3e20b\"}}, \"error\": null} for query \"opacity projecting over right posterior 5th rib\": Could not parse output: {\n",
      "  \"reason\": \"The term 'hyperlucent lungs' indicates an abnormality in the lung fields that can be visually observed on a chest X-ray. It suggests an increase in air content, which may be indicative of certain lung conditions. This observation is relevant in assessing lung health.\",\n",
      "  \"too_noisy_or_irrelevant\": \"no\",\n",
      "  \"visually_observable\": \"yes\",\n",
      "\n",
      "2025-01-05 18:51:40,813 - \u001b[1;32mINFO\u001b[1;0m - Succesfully processed 49999 of 50000 API responses.\n",
      "                                    1 of 50000 API responses could not be processed.\n",
      "                                    Saving processed texts to /mnt/data/pamessina_folder_backup_15_10_24/pamessina/medvqa-workspace/cache/mimiccxr/openai/gpt-4o-mini_fact_to_metadata.jsonl\n"
     ]
    }
   ],
   "source": [
    "!python ../../scripts/mimiccxr/extract_metadata_from_facts_with_openai_v2.py \\\n",
    "--batch_input_file_id \"file-GRJu3L4aQSyVMGk85XDRYs\" \\\n",
    "--logging_level \"INFO\" \\\n",
    "--api_key_name \"OPENAI_API_KEY_1\" \\\n",
    "--openai_model_name \"gpt-4o-mini\" \\\n",
    "--use_batch_api"
   ]
  },
  {
   "cell_type": "code",
   "execution_count": 29,
   "id": "e8d7283f",
   "metadata": {
    "scrolled": true
   },
   "outputs": [
    {
     "name": "stdout",
     "output_type": "stream",
     "text": [
      "2025-01-05 11:31:02,378 - \u001b[1;32mINFO\u001b[1;0m - Loaded 1000 already processed queries from /mnt/data/pamessina_folder_backup_15_10_24/pamessina/medvqa-workspace/cache/mimiccxr/openai/gpt-4o-mini_fact_to_metadata.jsonl\n",
      "2025-01-05 11:31:08,179 - \u001b[1;32mINFO\u001b[1;0m - Total number of unique facts: 591920\n",
      "2025-01-05 11:31:08,317 - \u001b[1;32mINFO\u001b[1;0m - Loading cached sorted sentences from /mnt/data/pamessina_folder_backup_15_10_24/pamessina/medvqa-workspace/cache/sorted_sentences(591920,27712377).pkl...\n",
      "2025-01-05 11:31:08,389 - \u001b[1;32mINFO\u001b[1;0m - Done loading cached sorted sentences.\n",
      "2025-01-05 11:31:08,389 - \u001b[1;32mINFO\u001b[1;0m - First sentence: A BENIGN CALCIFICATION IN LUNG OR RIB, OR VESSEL, EITHER ON END OR CROSSING in the right lower lung\n",
      "2025-01-05 11:31:08,389 - \u001b[1;32mINFO\u001b[1;0m - Last sentence: right\n",
      "checkpoint_names = ['checkpoint_196_cacc+chf1+chf1+cscc+encc+hscc+nlcc+sass+spss+ta0)+ta1)+ta2)+ta0)+ta1)+ta2)+ta3)+ta4)+ta5)+ta6)+ta7)=0.9189.pt']\n",
      "Loading cached text embeddings from /mnt/data/pamessina_folder_backup_15_10_24/pamessina/medvqa-workspace/cache/text_embeddings_cache(hash=469,680486110513564934).pkl\n",
      "len(self.cache[\"hashes\"]) = 702198\n",
      "self.cache[\"embeddings\"].shape = (702198, 128)\n",
      "Loading cached kmeans labels from /mnt/data/pamessina_folder_backup_15_10_24/pamessina/medvqa-workspace/cache/kmeans_labels(27712550,4222631749105572322).pkl\n",
      "2025-01-05 11:31:13,158 - \u001b[1;32mINFO\u001b[1;0m - Total number of queries to process: 50000\n",
      "2025-01-05 11:31:13,158 - \u001b[1;32mINFO\u001b[1;0m - Example queries to process:\n",
      "2025-01-05 11:31:13,158 - \u001b[1;32mINFO\u001b[1;0m - 1. circular hyperlucency projecting over the aortic knob\n",
      "2025-01-05 11:31:13,158 - \u001b[1;32mINFO\u001b[1;0m - 5556. patient being supine\n",
      "2025-01-05 11:31:13,158 - \u001b[1;32mINFO\u001b[1;0m - 11111. mediastinal vessels appear more congested than on prior examinations\n",
      "2025-01-05 11:31:13,158 - \u001b[1;32mINFO\u001b[1;0m - 16667. suggestive of airspace filling due to pulmonary hemorrhage\n",
      "2025-01-05 11:31:13,158 - \u001b[1;32mINFO\u001b[1;0m - 22222. upper lung aeration does not appear substantially changed\n",
      "2025-01-05 11:31:13,158 - \u001b[1;32mINFO\u001b[1;0m - 27778. right upper lobe pulmonary nodule is re-demonstrated\n",
      "2025-01-05 11:31:13,158 - \u001b[1;32mINFO\u001b[1;0m - 33333. artifacts consistent with a previous gunshot wound\n",
      "2025-01-05 11:31:13,158 - \u001b[1;32mINFO\u001b[1;0m - 38889. right PICC line tip 1.5 cm from cavoatrial junction\n",
      "2025-01-05 11:31:13,158 - \u001b[1;32mINFO\u001b[1;0m - 44444. feeding tube appropriately sited in unchanged position\n",
      "2025-01-05 11:31:13,158 - \u001b[1;32mINFO\u001b[1;0m - 50000. small pleural effusions demonstrated bilaterally\n",
      "2025-01-05 11:31:13,312 - \u001b[1;32mINFO\u001b[1;0m - Saving batch API requests to /home/pamessina/medvqa-workspace/tmp/mimiccxr/openai/batch_api_requests_20250105_113113.jsonl\n",
      "2025-01-05 11:31:24,002 - \u001b[1;32mINFO\u001b[1;0m - HTTP Request: POST https://api.openai.com/v1/files \"HTTP/1.1 200 OK\"\n",
      "2025-01-05 11:31:24,005 - \u001b[1;32mINFO\u001b[1;0m - Creating batch with input file ID file-B5L7UaVGhTefkuJbwr7eCx\n",
      "2025-01-05 11:31:25,036 - \u001b[1;32mINFO\u001b[1;0m - HTTP Request: POST https://api.openai.com/v1/batches \"HTTP/1.1 200 OK\"\n",
      "2025-01-05 11:31:25,043 - \u001b[1;32mINFO\u001b[1;0m - Batch object: Batch(id='batch_677a97bcd52c81909a6bf79dc08e2a10', completion_window='24h', created_at=1736087484, endpoint='/v1/chat/completions', input_file_id='file-B5L7UaVGhTefkuJbwr7eCx', object='batch', status='validating', cancelled_at=None, cancelling_at=None, completed_at=None, error_file_id=None, errors=None, expired_at=None, expires_at=1736173884, failed_at=None, finalizing_at=None, in_progress_at=None, metadata={'description': 'fact to metadata (improved)'}, output_file_id=None, request_counts=BatchRequestCounts(completed=0, failed=0, total=0))\n",
      "2025-01-05 11:31:25,044 - \u001b[1;32mINFO\u001b[1;0m - Saving batch object to /home/pamessina/medvqa-workspace/tmp/mimiccxr/openai/batch_api/file-B5L7UaVGhTefkuJbwr7eCx.pkl\n",
      "2025-01-05 11:31:25,044 - \u001b[1;32mINFO\u001b[1;0m - Deleting batch API requests at /home/pamessina/medvqa-workspace/tmp/mimiccxr/openai/batch_api_requests_20250105_113113.jsonl\n"
     ]
    }
   ],
   "source": [
    "!python ../../scripts/mimiccxr/extract_metadata_from_facts_with_openai_v2.py \\\n",
    "--offset 101000 \\\n",
    "--num_samples 50000 \\\n",
    "--integrated_sentence_facts_jsonl_filepath \\\n",
    "\"/home/pamessina/medvqa-workspace/cache/mimiccxr/integrated_sentence_facts(59349684,50956825).jsonl\" \\\n",
    "--fact_embedding_model_name \"microsoft/BiomedVLP-CXR-BERT-specialized\" \\\n",
    "--fact_embedding_model_checkpoint_folder_path \\\n",
    "\"/mnt/data/pamessina/workspaces/medvqa-workspace/models/fact_embedding/20240629_084405_MIMIC-CXR(triplets+classif+entcont+nli+radgraph+autoencoder)_FactEncoder(microsoft-BiomedVLP-CXR-BERT-specialized)\" \\\n",
    "--fact_embedding_batch_size 200 \\\n",
    "--fact_embedding_num_workers 4 \\\n",
    "--max_requests_per_minute 20000 \\\n",
    "--max_tokens_per_minute 10000000 \\\n",
    "--max_tokens_per_request 350 \\\n",
    "--logging_level \"INFO\" \\\n",
    "--api_key_name \"OPENAI_API_KEY_1\" \\\n",
    "--openai_model_name \"gpt-4o-mini\" \\\n",
    "--use_batch_api \\\n",
    "--batch_description \"fact to metadata (improved)\""
   ]
  },
  {
   "cell_type": "code",
   "execution_count": 43,
   "id": "9caad254",
   "metadata": {
    "scrolled": true
   },
   "outputs": [
    {
     "name": "stdout",
     "output_type": "stream",
     "text": [
      "2025-01-05 18:56:31,863 - \u001b[1;32mINFO\u001b[1;0m - Checking status of batch with input file ID file-B5L7UaVGhTefkuJbwr7eCx\n",
      "2025-01-05 18:56:32,300 - \u001b[1;32mINFO\u001b[1;0m - Batch object: Batch(id='batch_677a97bcd52c81909a6bf79dc08e2a10', completion_window='24h', created_at=1736087484, endpoint='/v1/chat/completions', input_file_id='file-B5L7UaVGhTefkuJbwr7eCx', object='batch', status='validating', cancelled_at=None, cancelling_at=None, completed_at=None, error_file_id=None, errors=None, expired_at=None, expires_at=1736173884, failed_at=None, finalizing_at=None, in_progress_at=None, metadata={'description': 'fact to metadata (improved)'}, output_file_id=None, request_counts=BatchRequestCounts(completed=0, failed=0, total=0))\n",
      "2025-01-05 18:56:33,058 - \u001b[1;32mINFO\u001b[1;0m - HTTP Request: GET https://api.openai.com/v1/batches/batch_677a97bcd52c81909a6bf79dc08e2a10 \"HTTP/1.1 200 OK\"\n",
      "2025-01-05 18:56:33,066 - \u001b[1;32mINFO\u001b[1;0m - Batch: Batch(id='batch_677a97bcd52c81909a6bf79dc08e2a10', completion_window='24h', created_at=1736087484, endpoint='/v1/chat/completions', input_file_id='file-B5L7UaVGhTefkuJbwr7eCx', object='batch', status='completed', cancelled_at=None, cancelling_at=None, completed_at=1736096212, error_file_id=None, errors=None, expired_at=None, expires_at=1736173884, failed_at=None, finalizing_at=1736092819, in_progress_at=1736087499, metadata={'description': 'fact to metadata (improved)'}, output_file_id='file-U6m5MnRcBDCccdgh37SLJR', request_counts=BatchRequestCounts(completed=50000, failed=0, total=50000))\n",
      "2025-01-05 18:56:33,066 - \u001b[1;32mINFO\u001b[1;0m - Batch status: completed\n",
      "2025-01-05 18:56:33,066 - \u001b[1;32mINFO\u001b[1;0m - Batch with input file ID file-B5L7UaVGhTefkuJbwr7eCx is completed\n",
      "2025-01-05 18:56:33,067 - \u001b[1;32mINFO\u001b[1;0m - Retrieving batch input file ID file-B5L7UaVGhTefkuJbwr7eCx\n",
      "2025-01-05 18:56:34,070 - \u001b[1;32mINFO\u001b[1;0m - HTTP Request: GET https://api.openai.com/v1/files/file-B5L7UaVGhTefkuJbwr7eCx/content \"HTTP/1.1 200 OK\"\n",
      "2025-01-05 18:56:39,386 - \u001b[1;32mINFO\u001b[1;0m - Retrieved metadata for 50000 queries\n",
      "2025-01-05 18:56:39,386 - \u001b[1;32mINFO\u001b[1;0m - Retrieving batch output file ID file-U6m5MnRcBDCccdgh37SLJR\n",
      "2025-01-05 18:56:40,571 - \u001b[1;32mINFO\u001b[1;0m - HTTP Request: GET https://api.openai.com/v1/files/file-U6m5MnRcBDCccdgh37SLJR/content \"HTTP/1.1 200 OK\"\n",
      "2025-01-05 18:56:46,977 - \u001b[1;31mERROR\u001b[1;0m - 2 error messages occurred while parsing responses\n",
      "2025-01-05 18:56:46,977 - \u001b[1;31mERROR\u001b[1;0m - Error parsing response {\"id\": \"batch_req_677ab2dff8088190b5171189fd8b7956\", \"custom_id\": \"23524\", \"response\": {\"status_code\": 200, \"request_id\": \"1c1e68cf21384284075bd4277d043121\", \"body\": {\"id\": \"chatcmpl-AmMVFCU5ws6LBBmbdZlbRpxJwuTsQ\", \"object\": \"chat.completion\", \"created\": 1736089609, \"model\": \"gpt-4o-mini-2024-07-18\", \"choices\": [{\"index\": 0, \"message\": {\"role\": \"assistant\", \"content\": \"{\\n  \\\"reason\\\": \\\"The statement describes a significant finding related to the thyroid gland, which can be visually observed on imaging. It indicates the presence of a large nodule, suggesting a potential abnormality. This is relevant in the context of radiology as it pertains to the assessment of thyroid conditions.\\\",\\n  \\\"too_noisy_or_irrelevant\\\": \\\"no\\\",\\n  \\\"visually_observable\\\": \\\"yes\\\",\\n  \\\"category\\\": \\\"anatomical finding\\\",\\n  \\\"abnormality_status\\\": \\\"major abnormality\\\",\\n  \\\"anatomical_location\\\": \\\"left thyroid\\\",\\n  \\\"general_observation\", \"refusal\": null}, \"logprobs\": null, \"finish_reason\": \"stop\"}], \"usage\": {\"prompt_tokens\": 333, \"completion_tokens\": 123, \"total_tokens\": 456, \"prompt_tokens_details\": {\"cached_tokens\": 0, \"audio_tokens\": 0}, \"completion_tokens_details\": {\"reasoning_tokens\": 0, \"audio_tokens\": 0, \"accepted_prediction_tokens\": 0, \"rejected_prediction_tokens\": 0}}, \"system_fingerprint\": \"fp_0aa8d3e20b\"}}, \"error\": null} for query \"small amount of loculated fluid within the right mid lung field is unchanged\": Could not parse output: {\n",
      "  \"reason\": \"The statement describes a significant finding related to the thyroid gland, which can be visually observed on imaging. It indicates the presence of a large nodule, suggesting a potential abnormality. This is relevant in the context of radiology as it pertains to the assessment of thyroid conditions.\",\n",
      "  \"too_noisy_or_irrelevant\": \"no\",\n",
      "  \"visually_observable\": \"yes\",\n",
      "  \"category\": \"anatomical finding\",\n",
      "  \"abnormality_status\": \"major abnormality\",\n",
      "  \"anatomical_location\": \"left thyroid\",\n",
      "  \"general_observation\n",
      "2025-01-05 18:56:46,978 - \u001b[1;31mERROR\u001b[1;0m - Error parsing response {\"id\": \"batch_req_677ab3be812c8190ac521a9551d0061a\", \"custom_id\": \"26818\", \"response\": {\"status_code\": 200, \"request_id\": \"e940b114ffac7d9cab2bc557815c8a97\", \"body\": {\"id\": \"chatcmpl-AmMZgdkLkVKKxTL0sn9z34quPaekm\", \"object\": \"chat.completion\", \"created\": 1736089884, \"model\": \"gpt-4o-mini-2024-07-18\", \"choices\": [{\"index\": 0, \"message\": {\"role\": \"assistant\", \"content\": \"{\\n  \\\"reason\\\": \\\"The statement describes an observation related to the costochondral junction, which can be visually assessed on a chest X-ray. It indicates a specific anatomical finding that may suggest an abnormality. The prominence suggests a potential abnormality in that area.\\\",\\n  \\\"too_noisy_or_irrelevant\\\": \\\"no\\\",\\n  \\\"visually_observable\\\": \\\"yes\\\",\\n  \\\"category\\\": \\\"anatomical finding\\\",\\n  \\\"abnormality_status\\\": \\\"partial or minor abnormality\\\",\\n  \\\"anatomical_location\\\": \\\"right first costochondral junction\\\",\\n  \\\"\", \"refusal\": null}, \"logprobs\": null, \"finish_reason\": \"stop\"}], \"usage\": {\"prompt_tokens\": 337, \"completion_tokens\": 119, \"total_tokens\": 456, \"prompt_tokens_details\": {\"cached_tokens\": 0, \"audio_tokens\": 0}, \"completion_tokens_details\": {\"reasoning_tokens\": 0, \"audio_tokens\": 0, \"accepted_prediction_tokens\": 0, \"rejected_prediction_tokens\": 0}}, \"system_fingerprint\": \"fp_d02d531b47\"}}, \"error\": null} for query \"tubular structure projecting over the right clavicle\": Could not parse output: {\n",
      "  \"reason\": \"The statement describes an observation related to the costochondral junction, which can be visually assessed on a chest X-ray. It indicates a specific anatomical finding that may suggest an abnormality. The prominence suggests a potential abnormality in that area.\",\n",
      "  \"too_noisy_or_irrelevant\": \"no\",\n",
      "  \"visually_observable\": \"yes\",\n",
      "  \"category\": \"anatomical finding\",\n",
      "  \"abnormality_status\": \"partial or minor abnormality\",\n",
      "  \"anatomical_location\": \"right first costochondral junction\",\n",
      "  \"\n",
      "2025-01-05 18:56:46,978 - \u001b[1;32mINFO\u001b[1;0m - Succesfully processed 49998 of 50000 API responses.\n",
      "                                    2 of 50000 API responses could not be processed.\n",
      "                                    Saving processed texts to /mnt/data/pamessina_folder_backup_15_10_24/pamessina/medvqa-workspace/cache/mimiccxr/openai/gpt-4o-mini_fact_to_metadata.jsonl\n"
     ]
    }
   ],
   "source": [
    "!python ../../scripts/mimiccxr/extract_metadata_from_facts_with_openai_v2.py \\\n",
    "--batch_input_file_id \"file-B5L7UaVGhTefkuJbwr7eCx\" \\\n",
    "--logging_level \"INFO\" \\\n",
    "--api_key_name \"OPENAI_API_KEY_1\" \\\n",
    "--openai_model_name \"gpt-4o-mini\" \\\n",
    "--use_batch_api"
   ]
  },
  {
   "cell_type": "code",
   "execution_count": 30,
   "id": "5f2a85f6",
   "metadata": {
    "scrolled": true
   },
   "outputs": [
    {
     "name": "stdout",
     "output_type": "stream",
     "text": [
      "2025-01-05 11:32:01,249 - \u001b[1;32mINFO\u001b[1;0m - Loaded 1000 already processed queries from /mnt/data/pamessina_folder_backup_15_10_24/pamessina/medvqa-workspace/cache/mimiccxr/openai/gpt-4o-mini_fact_to_metadata.jsonl\n",
      "2025-01-05 11:32:07,027 - \u001b[1;32mINFO\u001b[1;0m - Total number of unique facts: 591920\n",
      "2025-01-05 11:32:07,164 - \u001b[1;32mINFO\u001b[1;0m - Loading cached sorted sentences from /mnt/data/pamessina_folder_backup_15_10_24/pamessina/medvqa-workspace/cache/sorted_sentences(591920,27712377).pkl...\n",
      "2025-01-05 11:32:07,236 - \u001b[1;32mINFO\u001b[1;0m - Done loading cached sorted sentences.\n",
      "2025-01-05 11:32:07,237 - \u001b[1;32mINFO\u001b[1;0m - First sentence: A BENIGN CALCIFICATION IN LUNG OR RIB, OR VESSEL, EITHER ON END OR CROSSING in the right lower lung\n",
      "2025-01-05 11:32:07,237 - \u001b[1;32mINFO\u001b[1;0m - Last sentence: right\n",
      "checkpoint_names = ['checkpoint_196_cacc+chf1+chf1+cscc+encc+hscc+nlcc+sass+spss+ta0)+ta1)+ta2)+ta0)+ta1)+ta2)+ta3)+ta4)+ta5)+ta6)+ta7)=0.9189.pt']\n",
      "Loading cached text embeddings from /mnt/data/pamessina_folder_backup_15_10_24/pamessina/medvqa-workspace/cache/text_embeddings_cache(hash=469,680486110513564934).pkl\n",
      "len(self.cache[\"hashes\"]) = 702198\n",
      "self.cache[\"embeddings\"].shape = (702198, 128)\n",
      "Loading cached kmeans labels from /mnt/data/pamessina_folder_backup_15_10_24/pamessina/medvqa-workspace/cache/kmeans_labels(27712550,4222631749105572322).pkl\n",
      "2025-01-05 11:32:11,973 - \u001b[1;32mINFO\u001b[1;0m - Total number of queries to process: 50000\n",
      "2025-01-05 11:32:11,973 - \u001b[1;32mINFO\u001b[1;0m - Example queries to process:\n",
      "2025-01-05 11:32:11,973 - \u001b[1;32mINFO\u001b[1;0m - 1. difficult to exclude very mild interstitial edema\n",
      "2025-01-05 11:32:11,974 - \u001b[1;32mINFO\u001b[1;0m - 5556. small to moderate sized pleural effusions\n",
      "2025-01-05 11:32:11,974 - \u001b[1;32mINFO\u001b[1;0m - 11111. suggestion to determine probe in the airway\n",
      "2025-01-05 11:32:11,974 - \u001b[1;32mINFO\u001b[1;0m - 16667. anterior dislocation of the right humeral head with respect to the glenoid\n",
      "2025-01-05 11:32:11,974 - \u001b[1;32mINFO\u001b[1;0m - 22222. small apical cavity\n",
      "2025-01-05 11:32:11,974 - \u001b[1;32mINFO\u001b[1;0m - 27778. newly developed middle lobe pneumonia\n",
      "2025-01-05 11:32:11,974 - \u001b[1;32mINFO\u001b[1;0m - 33333. metallic biliary stents in the right upper quadrant\n",
      "2025-01-05 11:32:11,974 - \u001b[1;32mINFO\u001b[1;0m - 38889. dobhoff tube in the stomach\n",
      "2025-01-05 11:32:11,974 - \u001b[1;32mINFO\u001b[1;0m - 44444. hilar congestion persists\n",
      "2025-01-05 11:32:11,974 - \u001b[1;32mINFO\u001b[1;0m - 50000. without sinus inversus\n",
      "2025-01-05 11:32:12,128 - \u001b[1;32mINFO\u001b[1;0m - Saving batch API requests to /home/pamessina/medvqa-workspace/tmp/mimiccxr/openai/batch_api_requests_20250105_113212.jsonl\n",
      "2025-01-05 11:32:22,355 - \u001b[1;32mINFO\u001b[1;0m - HTTP Request: POST https://api.openai.com/v1/files \"HTTP/1.1 200 OK\"\n",
      "2025-01-05 11:32:22,357 - \u001b[1;32mINFO\u001b[1;0m - Creating batch with input file ID file-53XJD8JH3WYK2yvaW8nmkk\n",
      "2025-01-05 11:32:22,970 - \u001b[1;32mINFO\u001b[1;0m - HTTP Request: POST https://api.openai.com/v1/batches \"HTTP/1.1 200 OK\"\n",
      "2025-01-05 11:32:22,977 - \u001b[1;32mINFO\u001b[1;0m - Batch object: Batch(id='batch_677a97f6c690819089464022e8af5a73', completion_window='24h', created_at=1736087542, endpoint='/v1/chat/completions', input_file_id='file-53XJD8JH3WYK2yvaW8nmkk', object='batch', status='validating', cancelled_at=None, cancelling_at=None, completed_at=None, error_file_id=None, errors=None, expired_at=None, expires_at=1736173942, failed_at=None, finalizing_at=None, in_progress_at=None, metadata={'description': 'fact to metadata (improved)'}, output_file_id=None, request_counts=BatchRequestCounts(completed=0, failed=0, total=0))\n",
      "2025-01-05 11:32:22,977 - \u001b[1;32mINFO\u001b[1;0m - Saving batch object to /home/pamessina/medvqa-workspace/tmp/mimiccxr/openai/batch_api/file-53XJD8JH3WYK2yvaW8nmkk.pkl\n",
      "2025-01-05 11:32:22,978 - \u001b[1;32mINFO\u001b[1;0m - Deleting batch API requests at /home/pamessina/medvqa-workspace/tmp/mimiccxr/openai/batch_api_requests_20250105_113212.jsonl\n"
     ]
    }
   ],
   "source": [
    "!python ../../scripts/mimiccxr/extract_metadata_from_facts_with_openai_v2.py \\\n",
    "--offset 151000 \\\n",
    "--num_samples 50000 \\\n",
    "--integrated_sentence_facts_jsonl_filepath \\\n",
    "\"/home/pamessina/medvqa-workspace/cache/mimiccxr/integrated_sentence_facts(59349684,50956825).jsonl\" \\\n",
    "--fact_embedding_model_name \"microsoft/BiomedVLP-CXR-BERT-specialized\" \\\n",
    "--fact_embedding_model_checkpoint_folder_path \\\n",
    "\"/mnt/data/pamessina/workspaces/medvqa-workspace/models/fact_embedding/20240629_084405_MIMIC-CXR(triplets+classif+entcont+nli+radgraph+autoencoder)_FactEncoder(microsoft-BiomedVLP-CXR-BERT-specialized)\" \\\n",
    "--fact_embedding_batch_size 200 \\\n",
    "--fact_embedding_num_workers 4 \\\n",
    "--max_requests_per_minute 20000 \\\n",
    "--max_tokens_per_minute 10000000 \\\n",
    "--max_tokens_per_request 350 \\\n",
    "--logging_level \"INFO\" \\\n",
    "--api_key_name \"OPENAI_API_KEY_1\" \\\n",
    "--openai_model_name \"gpt-4o-mini\" \\\n",
    "--use_batch_api \\\n",
    "--batch_description \"fact to metadata (improved)\""
   ]
  },
  {
   "cell_type": "code",
   "execution_count": 44,
   "id": "f3c183f9",
   "metadata": {
    "scrolled": true
   },
   "outputs": [
    {
     "name": "stdout",
     "output_type": "stream",
     "text": [
      "2025-01-05 19:04:14,097 - \u001b[1;32mINFO\u001b[1;0m - Checking status of batch with input file ID file-53XJD8JH3WYK2yvaW8nmkk\n",
      "2025-01-05 19:04:14,535 - \u001b[1;32mINFO\u001b[1;0m - Batch object: Batch(id='batch_677a97f6c690819089464022e8af5a73', completion_window='24h', created_at=1736087542, endpoint='/v1/chat/completions', input_file_id='file-53XJD8JH3WYK2yvaW8nmkk', object='batch', status='validating', cancelled_at=None, cancelling_at=None, completed_at=None, error_file_id=None, errors=None, expired_at=None, expires_at=1736173942, failed_at=None, finalizing_at=None, in_progress_at=None, metadata={'description': 'fact to metadata (improved)'}, output_file_id=None, request_counts=BatchRequestCounts(completed=0, failed=0, total=0))\n",
      "2025-01-05 19:04:15,390 - \u001b[1;32mINFO\u001b[1;0m - HTTP Request: GET https://api.openai.com/v1/batches/batch_677a97f6c690819089464022e8af5a73 \"HTTP/1.1 200 OK\"\n",
      "2025-01-05 19:04:15,398 - \u001b[1;32mINFO\u001b[1;0m - Batch: Batch(id='batch_677a97f6c690819089464022e8af5a73', completion_window='24h', created_at=1736087542, endpoint='/v1/chat/completions', input_file_id='file-53XJD8JH3WYK2yvaW8nmkk', object='batch', status='completed', cancelled_at=None, cancelling_at=None, completed_at=1736096589, error_file_id=None, errors=None, expired_at=None, expires_at=1736173942, failed_at=None, finalizing_at=1736093220, in_progress_at=1736087557, metadata={'description': 'fact to metadata (improved)'}, output_file_id='file-95yZ21R1yrihwu1LDWGi5n', request_counts=BatchRequestCounts(completed=50000, failed=0, total=50000))\n",
      "2025-01-05 19:04:15,398 - \u001b[1;32mINFO\u001b[1;0m - Batch status: completed\n",
      "2025-01-05 19:04:15,398 - \u001b[1;32mINFO\u001b[1;0m - Batch with input file ID file-53XJD8JH3WYK2yvaW8nmkk is completed\n",
      "2025-01-05 19:04:15,398 - \u001b[1;32mINFO\u001b[1;0m - Retrieving batch input file ID file-53XJD8JH3WYK2yvaW8nmkk\n",
      "2025-01-05 19:04:16,291 - \u001b[1;32mINFO\u001b[1;0m - HTTP Request: GET https://api.openai.com/v1/files/file-53XJD8JH3WYK2yvaW8nmkk/content \"HTTP/1.1 200 OK\"\n",
      "2025-01-05 19:04:22,019 - \u001b[1;32mINFO\u001b[1;0m - Retrieved metadata for 50000 queries\n",
      "2025-01-05 19:04:22,019 - \u001b[1;32mINFO\u001b[1;0m - Retrieving batch output file ID file-95yZ21R1yrihwu1LDWGi5n\n",
      "2025-01-05 19:04:23,234 - \u001b[1;32mINFO\u001b[1;0m - HTTP Request: GET https://api.openai.com/v1/files/file-95yZ21R1yrihwu1LDWGi5n/content \"HTTP/1.1 200 OK\"\n",
      "2025-01-05 19:04:29,354 - \u001b[1;31mERROR\u001b[1;0m - 4 error messages occurred while parsing responses\n",
      "2025-01-05 19:04:29,355 - \u001b[1;31mERROR\u001b[1;0m - Error parsing response {\"id\": \"batch_req_677ab40757b48190badf3436eb455326\", \"custom_id\": \"22428\", \"response\": {\"status_code\": 200, \"request_id\": \"fd9fc7efa6b007df4aeefa4d28baf6b1\", \"body\": {\"id\": \"chatcmpl-AmMUuw7qSa5vcM0V5sa4V2l17ftqh\", \"object\": \"chat.completion\", \"created\": 1736089588, \"model\": \"gpt-4o-mini-2024-07-18\", \"choices\": [{\"index\": 0, \"message\": {\"role\": \"assistant\", \"content\": \"{\\n  \\\"reason\\\": \\\"The statement indicates the presence of drains in the abdominal area, which is a relevant observation in a radiology report. This can be visually confirmed on imaging studies. The presence of drains suggests a medical procedure has been performed.\\\",\\n\", \"refusal\": null}, \"logprobs\": null, \"finish_reason\": \"stop\"}], \"usage\": {\"prompt_tokens\": 332, \"completion_tokens\": 51, \"total_tokens\": 383, \"prompt_tokens_details\": {\"cached_tokens\": 0, \"audio_tokens\": 0}, \"completion_tokens_details\": {\"reasoning_tokens\": 0, \"audio_tokens\": 0, \"accepted_prediction_tokens\": 0, \"rejected_prediction_tokens\": 0}}, \"system_fingerprint\": \"fp_d02d531b47\"}}, \"error\": null} for query \"repositioned left PIC line\": Could not parse output: {\n",
      "  \"reason\": \"The statement indicates the presence of drains in the abdominal area, which is a relevant observation in a radiology report. This can be visually confirmed on imaging studies. The presence of drains suggests a medical procedure has been performed.\",\n",
      "\n",
      "2025-01-05 19:04:29,355 - \u001b[1;31mERROR\u001b[1;0m - Error parsing response {\"id\": \"batch_req_677ab6dc452c8190b702fb95e36f9092\", \"custom_id\": \"33398\", \"response\": {\"status_code\": 200, \"request_id\": \"02cdb7ccc00c91db40c7a5b79cbb3afa\", \"body\": {\"id\": \"chatcmpl-AmMkyHwTr2IvnZdEtjz3XsqHPITrZ\", \"object\": \"chat.completion\", \"created\": 1736090584, \"model\": \"gpt-4o-mini-2024-07-18\", \"choices\": [{\"index\": 0, \"message\": {\"role\": \"assistant\", \"content\": \"{\\n  \\\"reason\\\": \\\"The statement indicates a potential issue with aspiration in the lungs, specifically in the bibasilar region. This suggests an abnormality that\", \"refusal\": null}, \"logprobs\": null, \"finish_reason\": \"stop\"}], \"usage\": {\"prompt_tokens\": 335, \"completion_tokens\": 33, \"total_tokens\": 368, \"prompt_tokens_details\": {\"cached_tokens\": 0, \"audio_tokens\": 0}, \"completion_tokens_details\": {\"reasoning_tokens\": 0, \"audio_tokens\": 0, \"accepted_prediction_tokens\": 0, \"rejected_prediction_tokens\": 0}}, \"system_fingerprint\": \"fp_0aa8d3e20b\"}}, \"error\": null} for query \"dual-lumen central venous catheter in the right side\": Could not parse output: {\n",
      "  \"reason\": \"The statement indicates a potential issue with aspiration in the lungs, specifically in the bibasilar region. This suggests an abnormality that\n",
      "2025-01-05 19:04:29,355 - \u001b[1;31mERROR\u001b[1;0m - Error parsing response {\"id\": \"batch_req_677aafd2b22881909d06446be0d0d98a\", \"custom_id\": \"6336\", \"response\": {\"status_code\": 200, \"request_id\": \"983b5f641f815acde288830779aae07d\", \"body\": {\"id\": \"chatcmpl-AmM7cHTuL6T7ut59okr5NVTY1nPam\", \"object\": \"chat.completion\", \"created\": 1736088144, \"model\": \"gpt-4o-mini-2024-07-18\", \"choices\": [{\"index\": 0, \"message\": {\"role\": \"assistant\", \"content\": \"{\\n  \\\"reason\\\": \\\"\", \"refusal\": null}, \"logprobs\": null, \"finish_reason\": \"stop\"}], \"usage\": {\"prompt_tokens\": 337, \"completion_tokens\": 7, \"total_tokens\": 344, \"prompt_tokens_details\": {\"cached_tokens\": 0, \"audio_tokens\": 0}, \"completion_tokens_details\": {\"reasoning_tokens\": 0, \"audio_tokens\": 0, \"accepted_prediction_tokens\": 0, \"rejected_prediction_tokens\": 0}}, \"system_fingerprint\": \"fp_0aa8d3e20b\"}}, \"error\": null} for query \"previous wedge resection site in the right mid lung\": Could not parse output: {\n",
      "  \"reason\": \"\n",
      "2025-01-05 19:04:29,355 - \u001b[1;31mERROR\u001b[1;0m - Error parsing response {\"id\": \"batch_req_677ab4e26b8c8190bbaf106763e0688c\", \"custom_id\": \"25733\", \"response\": {\"status_code\": 200, \"request_id\": \"ac84e2292f005448bfa1a794ae388676\", \"body\": {\"id\": \"chatcmpl-AmMZgwAztvhyTkA3PJQWxFObeIaAJ\", \"object\": \"chat.completion\", \"created\": 1736089884, \"model\": \"gpt-4o-mini-2024-07-18\", \"choices\": [{\"index\": 0, \"message\": {\"role\": \"assistant\", \"content\": \"{\\n  \\\"reason\\\": \\\"The statement describes a slight deviation of the trachea, which is a visual observation that can be made on a chest X-ray. This finding indicates a potential anatomical abnormality. The thoracic inlet is the specific anatomical location mentioned.\\\",\\n  \\\"too_noisy_or_irrelevant\\\": \\\"no\\\",\\n  \\\"visually_observable\\\": \\\"yes\\\",\\n  \\\"category\\\": \\\"anatomical finding\\\",\\n  \\\"abnormality_status\\\": \\\"partial or minor abnormality\\\",\\n  \\\"an\", \"refusal\": null}, \"logprobs\": null, \"finish_reason\": \"stop\"}], \"usage\": {\"prompt_tokens\": 343, \"completion_tokens\": 104, \"total_tokens\": 447, \"prompt_tokens_details\": {\"cached_tokens\": 0, \"audio_tokens\": 0}, \"completion_tokens_details\": {\"reasoning_tokens\": 0, \"audio_tokens\": 0, \"accepted_prediction_tokens\": 0, \"rejected_prediction_tokens\": 0}}, \"system_fingerprint\": \"fp_d02d531b47\"}}, \"error\": null} for query \"loculated right basal hydro pneumothorax\": Could not parse output: {\n",
      "  \"reason\": \"The statement describes a slight deviation of the trachea, which is a visual observation that can be made on a chest X-ray. This finding indicates a potential anatomical abnormality. The thoracic inlet is the specific anatomical location mentioned.\",\n",
      "  \"too_noisy_or_irrelevant\": \"no\",\n",
      "  \"visually_observable\": \"yes\",\n",
      "  \"category\": \"anatomical finding\",\n",
      "  \"abnormality_status\": \"partial or minor abnormality\",\n",
      "  \"an\n",
      "2025-01-05 19:04:29,355 - \u001b[1;32mINFO\u001b[1;0m - Succesfully processed 49996 of 50000 API responses.\n",
      "                                    4 of 50000 API responses could not be processed.\n",
      "                                    Saving processed texts to /mnt/data/pamessina_folder_backup_15_10_24/pamessina/medvqa-workspace/cache/mimiccxr/openai/gpt-4o-mini_fact_to_metadata.jsonl\n"
     ]
    }
   ],
   "source": [
    "!python ../../scripts/mimiccxr/extract_metadata_from_facts_with_openai_v2.py \\\n",
    "--batch_input_file_id \"file-53XJD8JH3WYK2yvaW8nmkk\" \\\n",
    "--logging_level \"INFO\" \\\n",
    "--api_key_name \"OPENAI_API_KEY_1\" \\\n",
    "--openai_model_name \"gpt-4o-mini\" \\\n",
    "--use_batch_api"
   ]
  },
  {
   "cell_type": "code",
   "execution_count": 33,
   "id": "9f9425de",
   "metadata": {
    "scrolled": true
   },
   "outputs": [
    {
     "name": "stdout",
     "output_type": "stream",
     "text": [
      "2025-01-05 11:40:10,318 - \u001b[1;32mINFO\u001b[1;0m - Loaded 1000 already processed queries from /mnt/data/pamessina_folder_backup_15_10_24/pamessina/medvqa-workspace/cache/mimiccxr/openai/gpt-4o-mini_fact_to_metadata.jsonl\n",
      "2025-01-05 11:40:16,089 - \u001b[1;32mINFO\u001b[1;0m - Total number of unique facts: 591920\n",
      "2025-01-05 11:40:16,223 - \u001b[1;32mINFO\u001b[1;0m - Loading cached sorted sentences from /mnt/data/pamessina_folder_backup_15_10_24/pamessina/medvqa-workspace/cache/sorted_sentences(591920,27712377).pkl...\n",
      "2025-01-05 11:40:16,297 - \u001b[1;32mINFO\u001b[1;0m - Done loading cached sorted sentences.\n",
      "2025-01-05 11:40:16,297 - \u001b[1;32mINFO\u001b[1;0m - First sentence: A BENIGN CALCIFICATION IN LUNG OR RIB, OR VESSEL, EITHER ON END OR CROSSING in the right lower lung\n",
      "2025-01-05 11:40:16,297 - \u001b[1;32mINFO\u001b[1;0m - Last sentence: right\n",
      "checkpoint_names = ['checkpoint_196_cacc+chf1+chf1+cscc+encc+hscc+nlcc+sass+spss+ta0)+ta1)+ta2)+ta0)+ta1)+ta2)+ta3)+ta4)+ta5)+ta6)+ta7)=0.9189.pt']\n",
      "Loading cached text embeddings from /mnt/data/pamessina_folder_backup_15_10_24/pamessina/medvqa-workspace/cache/text_embeddings_cache(hash=469,680486110513564934).pkl\n",
      "len(self.cache[\"hashes\"]) = 702198\n",
      "self.cache[\"embeddings\"].shape = (702198, 128)\n",
      "Loading cached kmeans labels from /mnt/data/pamessina_folder_backup_15_10_24/pamessina/medvqa-workspace/cache/kmeans_labels(27712550,4222631749105572322).pkl\n",
      "2025-01-05 11:40:21,077 - \u001b[1;32mINFO\u001b[1;0m - Total number of queries to process: 50000\n",
      "2025-01-05 11:40:21,077 - \u001b[1;32mINFO\u001b[1;0m - Example queries to process:\n",
      "2025-01-05 11:40:21,077 - \u001b[1;32mINFO\u001b[1;0m - 1. position of the right pectoral pacemaker\n",
      "2025-01-05 11:40:21,077 - \u001b[1;32mINFO\u001b[1;0m - 5556. right pleural effusion not substantially changed from previous chest radiograph\n",
      "2025-01-05 11:40:21,077 - \u001b[1;32mINFO\u001b[1;0m - 11111. position of the 2 left chest tubes is unchanged\n",
      "2025-01-05 11:40:21,077 - \u001b[1;32mINFO\u001b[1;0m - 16667. previously completely collapsed left lung\n",
      "2025-01-05 11:40:21,077 - \u001b[1;32mINFO\u001b[1;0m - 22222. internal part of the upper enteric drainage tube not visible in the field of view\n",
      "2025-01-05 11:40:21,077 - \u001b[1;32mINFO\u001b[1;0m - 27778. increased rounded density projecting over the IVC\n",
      "2025-01-05 11:40:21,077 - \u001b[1;32mINFO\u001b[1;0m - 33333. evidence of endobronchial secretions\n",
      "2025-01-05 11:40:21,077 - \u001b[1;32mINFO\u001b[1;0m - 38889. no mass elsewhere\n",
      "2025-01-05 11:40:21,077 - \u001b[1;32mINFO\u001b[1;0m - 44444. asymmetrically elevated right hemidiaphragm\n",
      "2025-01-05 11:40:21,077 - \u001b[1;32mINFO\u001b[1;0m - 50000. moderate to severe rightward convex curvature at the thoracic thoracolumbar junction\n",
      "2025-01-05 11:40:21,230 - \u001b[1;32mINFO\u001b[1;0m - Saving batch API requests to /home/pamessina/medvqa-workspace/tmp/mimiccxr/openai/batch_api_requests_20250105_114021.jsonl\n",
      "2025-01-05 11:40:31,380 - \u001b[1;32mINFO\u001b[1;0m - HTTP Request: POST https://api.openai.com/v1/files \"HTTP/1.1 200 OK\"\n",
      "2025-01-05 11:40:31,382 - \u001b[1;32mINFO\u001b[1;0m - Creating batch with input file ID file-9C3rcadrZ2ZTp7Ro2VB1Gr\n",
      "2025-01-05 11:40:32,459 - \u001b[1;32mINFO\u001b[1;0m - HTTP Request: POST https://api.openai.com/v1/batches \"HTTP/1.1 200 OK\"\n",
      "2025-01-05 11:40:32,466 - \u001b[1;32mINFO\u001b[1;0m - Batch object: Batch(id='batch_677a99e03a208190b0e649154f851e98', completion_window='24h', created_at=1736088032, endpoint='/v1/chat/completions', input_file_id='file-9C3rcadrZ2ZTp7Ro2VB1Gr', object='batch', status='validating', cancelled_at=None, cancelling_at=None, completed_at=None, error_file_id=None, errors=None, expired_at=None, expires_at=1736174432, failed_at=None, finalizing_at=None, in_progress_at=None, metadata={'description': 'fact to metadata (improved)'}, output_file_id=None, request_counts=BatchRequestCounts(completed=0, failed=0, total=0))\n",
      "2025-01-05 11:40:32,466 - \u001b[1;32mINFO\u001b[1;0m - Saving batch object to /home/pamessina/medvqa-workspace/tmp/mimiccxr/openai/batch_api/file-9C3rcadrZ2ZTp7Ro2VB1Gr.pkl\n",
      "2025-01-05 11:40:32,466 - \u001b[1;32mINFO\u001b[1;0m - Deleting batch API requests at /home/pamessina/medvqa-workspace/tmp/mimiccxr/openai/batch_api_requests_20250105_114021.jsonl\n"
     ]
    }
   ],
   "source": [
    "!python ../../scripts/mimiccxr/extract_metadata_from_facts_with_openai_v2.py \\\n",
    "--offset 201000 \\\n",
    "--num_samples 50000 \\\n",
    "--integrated_sentence_facts_jsonl_filepath \\\n",
    "\"/home/pamessina/medvqa-workspace/cache/mimiccxr/integrated_sentence_facts(59349684,50956825).jsonl\" \\\n",
    "--fact_embedding_model_name \"microsoft/BiomedVLP-CXR-BERT-specialized\" \\\n",
    "--fact_embedding_model_checkpoint_folder_path \\\n",
    "\"/mnt/data/pamessina/workspaces/medvqa-workspace/models/fact_embedding/20240629_084405_MIMIC-CXR(triplets+classif+entcont+nli+radgraph+autoencoder)_FactEncoder(microsoft-BiomedVLP-CXR-BERT-specialized)\" \\\n",
    "--fact_embedding_batch_size 200 \\\n",
    "--fact_embedding_num_workers 4 \\\n",
    "--max_requests_per_minute 20000 \\\n",
    "--max_tokens_per_minute 10000000 \\\n",
    "--max_tokens_per_request 350 \\\n",
    "--logging_level \"INFO\" \\\n",
    "--api_key_name \"OPENAI_API_KEY_1\" \\\n",
    "--openai_model_name \"gpt-4o-mini\" \\\n",
    "--use_batch_api \\\n",
    "--batch_description \"fact to metadata (improved)\""
   ]
  },
  {
   "cell_type": "code",
   "execution_count": 45,
   "id": "7bd989db",
   "metadata": {
    "scrolled": true
   },
   "outputs": [
    {
     "name": "stdout",
     "output_type": "stream",
     "text": [
      "2025-01-05 19:37:13,009 - \u001b[1;32mINFO\u001b[1;0m - Checking status of batch with input file ID file-9C3rcadrZ2ZTp7Ro2VB1Gr\n",
      "2025-01-05 19:37:13,446 - \u001b[1;32mINFO\u001b[1;0m - Batch object: Batch(id='batch_677a99e03a208190b0e649154f851e98', completion_window='24h', created_at=1736088032, endpoint='/v1/chat/completions', input_file_id='file-9C3rcadrZ2ZTp7Ro2VB1Gr', object='batch', status='validating', cancelled_at=None, cancelling_at=None, completed_at=None, error_file_id=None, errors=None, expired_at=None, expires_at=1736174432, failed_at=None, finalizing_at=None, in_progress_at=None, metadata={'description': 'fact to metadata (improved)'}, output_file_id=None, request_counts=BatchRequestCounts(completed=0, failed=0, total=0))\n",
      "2025-01-05 19:37:14,460 - \u001b[1;32mINFO\u001b[1;0m - HTTP Request: GET https://api.openai.com/v1/batches/batch_677a99e03a208190b0e649154f851e98 \"HTTP/1.1 200 OK\"\n",
      "2025-01-05 19:37:14,468 - \u001b[1;32mINFO\u001b[1;0m - Batch: Batch(id='batch_677a99e03a208190b0e649154f851e98', completion_window='24h', created_at=1736088032, endpoint='/v1/chat/completions', input_file_id='file-9C3rcadrZ2ZTp7Ro2VB1Gr', object='batch', status='completed', cancelled_at=None, cancelling_at=None, completed_at=1736099275, error_file_id=None, errors=None, expired_at=None, expires_at=1736174432, failed_at=None, finalizing_at=1736093964, in_progress_at=1736088047, metadata={'description': 'fact to metadata (improved)'}, output_file_id='file-LKBR4jXzW6X25qRf2mbvRL', request_counts=BatchRequestCounts(completed=50000, failed=0, total=50000))\n",
      "2025-01-05 19:37:14,468 - \u001b[1;32mINFO\u001b[1;0m - Batch status: completed\n",
      "2025-01-05 19:37:14,468 - \u001b[1;32mINFO\u001b[1;0m - Batch with input file ID file-9C3rcadrZ2ZTp7Ro2VB1Gr is completed\n",
      "2025-01-05 19:37:14,468 - \u001b[1;32mINFO\u001b[1;0m - Retrieving batch input file ID file-9C3rcadrZ2ZTp7Ro2VB1Gr\n",
      "2025-01-05 19:37:15,448 - \u001b[1;32mINFO\u001b[1;0m - HTTP Request: GET https://api.openai.com/v1/files/file-9C3rcadrZ2ZTp7Ro2VB1Gr/content \"HTTP/1.1 200 OK\"\n",
      "2025-01-05 19:37:20,746 - \u001b[1;32mINFO\u001b[1;0m - Retrieved metadata for 50000 queries\n",
      "2025-01-05 19:37:20,746 - \u001b[1;32mINFO\u001b[1;0m - Retrieving batch output file ID file-LKBR4jXzW6X25qRf2mbvRL\n",
      "2025-01-05 19:37:21,866 - \u001b[1;32mINFO\u001b[1;0m - HTTP Request: GET https://api.openai.com/v1/files/file-LKBR4jXzW6X25qRf2mbvRL/content \"HTTP/1.1 200 OK\"\n",
      "2025-01-05 19:37:28,100 - \u001b[1;31mERROR\u001b[1;0m - 1 error messages occurred while parsing responses\n",
      "2025-01-05 19:37:28,100 - \u001b[1;31mERROR\u001b[1;0m - Error parsing response {\"id\": \"batch_req_677ac58015dc81908668b2bb0796c877\", \"custom_id\": \"49307\", \"response\": {\"status_code\": 200, \"request_id\": \"ae11c0e6be1c2f2c65253ff6bd0df389\", \"body\": {\"id\": \"chatcmpl-AmNOLX92xxU1mCqJwZu5HxK12rkPC\", \"object\": \"chat.completion\", \"created\": 1736093025, \"model\": \"gpt-4o-mini-2024-07-18\", \"choices\": [{\"index\": 0, \"message\": {\"role\": \"assistant\", \"content\": \"{\\n  \\\"reason\\\": \\\"The statement indicates a lack of explanation for a symptom, which is weight loss. It does not provide any specific findings or observations from a radiology report.\\\",\\n  \\\"too_noisy_or_irrelevant\\\": \\\"\", \"refusal\": null}, \"logprobs\": null, \"finish_reason\": \"stop\"}], \"usage\": {\"prompt_tokens\": 332, \"completion_tokens\": 49, \"total_tokens\": 381, \"prompt_tokens_details\": {\"cached_tokens\": 0, \"audio_tokens\": 0}, \"completion_tokens_details\": {\"reasoning_tokens\": 0, \"audio_tokens\": 0, \"accepted_prediction_tokens\": 0, \"rejected_prediction_tokens\": 0}}, \"system_fingerprint\": \"fp_0aa8d3e20b\"}}, \"error\": null} for query \"endotracheal tube situated 5 cm above the carina\": Could not parse output: {\n",
      "  \"reason\": \"The statement indicates a lack of explanation for a symptom, which is weight loss. It does not provide any specific findings or observations from a radiology report.\",\n",
      "  \"too_noisy_or_irrelevant\": \"\n",
      "2025-01-05 19:37:28,100 - \u001b[1;32mINFO\u001b[1;0m - Succesfully processed 49999 of 50000 API responses.\n",
      "                                    1 of 50000 API responses could not be processed.\n",
      "                                    Saving processed texts to /mnt/data/pamessina_folder_backup_15_10_24/pamessina/medvqa-workspace/cache/mimiccxr/openai/gpt-4o-mini_fact_to_metadata.jsonl\n"
     ]
    }
   ],
   "source": [
    "!python ../../scripts/mimiccxr/extract_metadata_from_facts_with_openai_v2.py \\\n",
    "--batch_input_file_id \"file-9C3rcadrZ2ZTp7Ro2VB1Gr\" \\\n",
    "--logging_level \"INFO\" \\\n",
    "--api_key_name \"OPENAI_API_KEY_1\" \\\n",
    "--openai_model_name \"gpt-4o-mini\" \\\n",
    "--use_batch_api"
   ]
  },
  {
   "cell_type": "code",
   "execution_count": 34,
   "id": "03546189",
   "metadata": {
    "scrolled": true
   },
   "outputs": [
    {
     "name": "stdout",
     "output_type": "stream",
     "text": [
      "2025-01-05 11:40:57,502 - \u001b[1;32mINFO\u001b[1;0m - Loaded 1000 already processed queries from /mnt/data/pamessina_folder_backup_15_10_24/pamessina/medvqa-workspace/cache/mimiccxr/openai/gpt-4o-mini_fact_to_metadata.jsonl\n",
      "2025-01-05 11:41:03,485 - \u001b[1;32mINFO\u001b[1;0m - Total number of unique facts: 591920\n",
      "2025-01-05 11:41:03,620 - \u001b[1;32mINFO\u001b[1;0m - Loading cached sorted sentences from /mnt/data/pamessina_folder_backup_15_10_24/pamessina/medvqa-workspace/cache/sorted_sentences(591920,27712377).pkl...\n",
      "2025-01-05 11:41:03,695 - \u001b[1;32mINFO\u001b[1;0m - Done loading cached sorted sentences.\n",
      "2025-01-05 11:41:03,695 - \u001b[1;32mINFO\u001b[1;0m - First sentence: A BENIGN CALCIFICATION IN LUNG OR RIB, OR VESSEL, EITHER ON END OR CROSSING in the right lower lung\n",
      "2025-01-05 11:41:03,695 - \u001b[1;32mINFO\u001b[1;0m - Last sentence: right\n",
      "checkpoint_names = ['checkpoint_196_cacc+chf1+chf1+cscc+encc+hscc+nlcc+sass+spss+ta0)+ta1)+ta2)+ta0)+ta1)+ta2)+ta3)+ta4)+ta5)+ta6)+ta7)=0.9189.pt']\n",
      "Loading cached text embeddings from /mnt/data/pamessina_folder_backup_15_10_24/pamessina/medvqa-workspace/cache/text_embeddings_cache(hash=469,680486110513564934).pkl\n",
      "len(self.cache[\"hashes\"]) = 702198\n",
      "self.cache[\"embeddings\"].shape = (702198, 128)\n",
      "Loading cached kmeans labels from /mnt/data/pamessina_folder_backup_15_10_24/pamessina/medvqa-workspace/cache/kmeans_labels(27712550,4222631749105572322).pkl\n",
      "2025-01-05 11:41:08,491 - \u001b[1;32mINFO\u001b[1;0m - Total number of queries to process: 50000\n",
      "2025-01-05 11:41:08,491 - \u001b[1;32mINFO\u001b[1;0m - Example queries to process:\n",
      "2025-01-05 11:41:08,491 - \u001b[1;32mINFO\u001b[1;0m - 1. decreased postoperative widening of the cardiomediastinal silhouette\n",
      "2025-01-05 11:41:08,491 - \u001b[1;32mINFO\u001b[1;0m - 5556. pleural edge in the right upper chest\n",
      "2025-01-05 11:41:08,491 - \u001b[1;32mINFO\u001b[1;0m - 11111. aortic valve prosthesis is noted\n",
      "2025-01-05 11:41:08,491 - \u001b[1;32mINFO\u001b[1;0m - 16667. left PICC remains in unchanged position\n",
      "2025-01-05 11:41:08,491 - \u001b[1;32mINFO\u001b[1;0m - 22222. interval partial resolution of pneumonia\n",
      "2025-01-05 11:41:08,491 - \u001b[1;32mINFO\u001b[1;0m - 27778. side port of the transesophageal tube likely in the hernia\n",
      "2025-01-05 11:41:08,491 - \u001b[1;32mINFO\u001b[1;0m - 33333. no longer identified tiny left apical pneumothorax\n",
      "2025-01-05 11:41:08,491 - \u001b[1;32mINFO\u001b[1;0m - 38889. tip projects over the middle parts of the elevated stomach\n",
      "2025-01-05 11:41:08,491 - \u001b[1;32mINFO\u001b[1;0m - 44444. incompletely characterized spinal fusion hardware\n",
      "2025-01-05 11:41:08,491 - \u001b[1;32mINFO\u001b[1;0m - 50000. presumably infection\n",
      "2025-01-05 11:41:08,642 - \u001b[1;32mINFO\u001b[1;0m - Saving batch API requests to /home/pamessina/medvqa-workspace/tmp/mimiccxr/openai/batch_api_requests_20250105_114108.jsonl\n",
      "2025-01-05 11:41:18,893 - \u001b[1;32mINFO\u001b[1;0m - HTTP Request: POST https://api.openai.com/v1/files \"HTTP/1.1 200 OK\"\n",
      "2025-01-05 11:41:18,895 - \u001b[1;32mINFO\u001b[1;0m - Creating batch with input file ID file-RnaKnZoid5cwonruvAgoZp\n",
      "2025-01-05 11:41:20,071 - \u001b[1;32mINFO\u001b[1;0m - HTTP Request: POST https://api.openai.com/v1/batches \"HTTP/1.1 200 OK\"\n",
      "2025-01-05 11:41:20,077 - \u001b[1;32mINFO\u001b[1;0m - Batch object: Batch(id='batch_677a9a0fd6c08190b027dab4c13601de', completion_window='24h', created_at=1736088079, endpoint='/v1/chat/completions', input_file_id='file-RnaKnZoid5cwonruvAgoZp', object='batch', status='validating', cancelled_at=None, cancelling_at=None, completed_at=None, error_file_id=None, errors=None, expired_at=None, expires_at=1736174479, failed_at=None, finalizing_at=None, in_progress_at=None, metadata={'description': 'fact to metadata (improved)'}, output_file_id=None, request_counts=BatchRequestCounts(completed=0, failed=0, total=0))\n",
      "2025-01-05 11:41:20,077 - \u001b[1;32mINFO\u001b[1;0m - Saving batch object to /home/pamessina/medvqa-workspace/tmp/mimiccxr/openai/batch_api/file-RnaKnZoid5cwonruvAgoZp.pkl\n",
      "2025-01-05 11:41:20,078 - \u001b[1;32mINFO\u001b[1;0m - Deleting batch API requests at /home/pamessina/medvqa-workspace/tmp/mimiccxr/openai/batch_api_requests_20250105_114108.jsonl\n"
     ]
    }
   ],
   "source": [
    "!python ../../scripts/mimiccxr/extract_metadata_from_facts_with_openai_v2.py \\\n",
    "--offset 251000 \\\n",
    "--num_samples 50000 \\\n",
    "--integrated_sentence_facts_jsonl_filepath \\\n",
    "\"/home/pamessina/medvqa-workspace/cache/mimiccxr/integrated_sentence_facts(59349684,50956825).jsonl\" \\\n",
    "--fact_embedding_model_name \"microsoft/BiomedVLP-CXR-BERT-specialized\" \\\n",
    "--fact_embedding_model_checkpoint_folder_path \\\n",
    "\"/mnt/data/pamessina/workspaces/medvqa-workspace/models/fact_embedding/20240629_084405_MIMIC-CXR(triplets+classif+entcont+nli+radgraph+autoencoder)_FactEncoder(microsoft-BiomedVLP-CXR-BERT-specialized)\" \\\n",
    "--fact_embedding_batch_size 200 \\\n",
    "--fact_embedding_num_workers 4 \\\n",
    "--max_requests_per_minute 20000 \\\n",
    "--max_tokens_per_minute 10000000 \\\n",
    "--max_tokens_per_request 350 \\\n",
    "--logging_level \"INFO\" \\\n",
    "--api_key_name \"OPENAI_API_KEY_1\" \\\n",
    "--openai_model_name \"gpt-4o-mini\" \\\n",
    "--use_batch_api \\\n",
    "--batch_description \"fact to metadata (improved)\""
   ]
  },
  {
   "cell_type": "code",
   "execution_count": 46,
   "id": "abf4af46",
   "metadata": {
    "scrolled": true
   },
   "outputs": [
    {
     "name": "stdout",
     "output_type": "stream",
     "text": [
      "2025-01-05 19:38:21,278 - \u001b[1;32mINFO\u001b[1;0m - Checking status of batch with input file ID file-RnaKnZoid5cwonruvAgoZp\n",
      "2025-01-05 19:38:21,715 - \u001b[1;32mINFO\u001b[1;0m - Batch object: Batch(id='batch_677a9a0fd6c08190b027dab4c13601de', completion_window='24h', created_at=1736088079, endpoint='/v1/chat/completions', input_file_id='file-RnaKnZoid5cwonruvAgoZp', object='batch', status='validating', cancelled_at=None, cancelling_at=None, completed_at=None, error_file_id=None, errors=None, expired_at=None, expires_at=1736174479, failed_at=None, finalizing_at=None, in_progress_at=None, metadata={'description': 'fact to metadata (improved)'}, output_file_id=None, request_counts=BatchRequestCounts(completed=0, failed=0, total=0))\n",
      "2025-01-05 19:38:22,520 - \u001b[1;32mINFO\u001b[1;0m - HTTP Request: GET https://api.openai.com/v1/batches/batch_677a9a0fd6c08190b027dab4c13601de \"HTTP/1.1 200 OK\"\n",
      "2025-01-05 19:38:22,528 - \u001b[1;32mINFO\u001b[1;0m - Batch: Batch(id='batch_677a9a0fd6c08190b027dab4c13601de', completion_window='24h', created_at=1736088079, endpoint='/v1/chat/completions', input_file_id='file-RnaKnZoid5cwonruvAgoZp', object='batch', status='completed', cancelled_at=None, cancelling_at=None, completed_at=1736100918, error_file_id=None, errors=None, expired_at=None, expires_at=1736174479, failed_at=None, finalizing_at=1736095608, in_progress_at=1736088093, metadata={'description': 'fact to metadata (improved)'}, output_file_id='file-LrWiqC1eQUYaVVqcnRoJp4', request_counts=BatchRequestCounts(completed=50000, failed=0, total=50000))\n",
      "2025-01-05 19:38:22,528 - \u001b[1;32mINFO\u001b[1;0m - Batch status: completed\n",
      "2025-01-05 19:38:22,528 - \u001b[1;32mINFO\u001b[1;0m - Batch with input file ID file-RnaKnZoid5cwonruvAgoZp is completed\n",
      "2025-01-05 19:38:22,528 - \u001b[1;32mINFO\u001b[1;0m - Retrieving batch input file ID file-RnaKnZoid5cwonruvAgoZp\n",
      "2025-01-05 19:38:23,564 - \u001b[1;32mINFO\u001b[1;0m - HTTP Request: GET https://api.openai.com/v1/files/file-RnaKnZoid5cwonruvAgoZp/content \"HTTP/1.1 200 OK\"\n",
      "2025-01-05 19:38:29,578 - \u001b[1;32mINFO\u001b[1;0m - Retrieved metadata for 50000 queries\n",
      "2025-01-05 19:38:29,578 - \u001b[1;32mINFO\u001b[1;0m - Retrieving batch output file ID file-LrWiqC1eQUYaVVqcnRoJp4\n",
      "2025-01-05 19:38:30,685 - \u001b[1;32mINFO\u001b[1;0m - HTTP Request: GET https://api.openai.com/v1/files/file-LrWiqC1eQUYaVVqcnRoJp4/content \"HTTP/1.1 200 OK\"\n",
      "2025-01-05 19:38:36,923 - \u001b[1;31mERROR\u001b[1;0m - 2 error messages occurred while parsing responses\n",
      "2025-01-05 19:38:36,923 - \u001b[1;31mERROR\u001b[1;0m - Error parsing response {\"id\": \"batch_req_677abf23e2a08190bf3615452adc75bc\", \"custom_id\": \"18569\", \"response\": {\"status_code\": 200, \"request_id\": \"d3af542d221181aa2ac7b661e63286d3\", \"body\": {\"id\": \"chatcmpl-AmMkytT1CuMbw1ESzw1UQJsrflTjS\", \"object\": \"chat.completion\", \"created\": 1736090584, \"model\": \"gpt-4o-mini-2024-07-18\", \"choices\": [{\"index\": 0, \"message\": {\"role\": \"assistant\", \"content\": \"{\\n  \\\"reason\\\": \\\"The statement indicates the presence of an infection, which is a medical observation that can be visually assessed on a chest X-ray. It specifies the anatomical location of the infection as the left perihilar region\", \"refusal\": null}, \"logprobs\": null, \"finish_reason\": \"stop\"}], \"usage\": {\"prompt_tokens\": 338, \"completion_tokens\": 47, \"total_tokens\": 385, \"prompt_tokens_details\": {\"cached_tokens\": 0, \"audio_tokens\": 0}, \"completion_tokens_details\": {\"reasoning_tokens\": 0, \"audio_tokens\": 0, \"accepted_prediction_tokens\": 0, \"rejected_prediction_tokens\": 0}}, \"system_fingerprint\": \"fp_0aa8d3e20b\"}}, \"error\": null} for query \"exaggerated caliber of the cardiomediastinal silhouette\": Could not parse output: {\n",
      "  \"reason\": \"The statement indicates the presence of an infection, which is a medical observation that can be visually assessed on a chest X-ray. It specifies the anatomical location of the infection as the left perihilar region\n",
      "2025-01-05 19:38:36,923 - \u001b[1;31mERROR\u001b[1;0m - Error parsing response {\"id\": \"batch_req_677ac63bb66481909030edf93278d734\", \"custom_id\": \"35271\", \"response\": {\"status_code\": 200, \"request_id\": \"39b1e810191d048dd7ba6eaaf71cf16d\", \"body\": {\"id\": \"chatcmpl-AmNLa7ufx7GgBeknQCmizp0ZI0IIj\", \"object\": \"chat.completion\", \"created\": 1736092854, \"model\": \"gpt-4o-mini-2024-07-18\", \"choices\": [{\"index\": 0, \"message\": {\"role\": \"assistant\", \"content\": \"{\\n  \\\"reason\\\": \\\"The statement describes a condition observed in the stomach, indicating it is filled with air and distended. This is a clear anatomical finding that can be visually assessed on imaging. It suggests a potential abnormality in the gastrointestinal system.\\\",\\n  \\\"too_noisy_or_irrelevant\\\": \\\"no\\\",\\n \", \"refusal\": null}, \"logprobs\": null, \"finish_reason\": \"stop\"}], \"usage\": {\"prompt_tokens\": 332, \"completion_tokens\": 66, \"total_tokens\": 398, \"prompt_tokens_details\": {\"cached_tokens\": 0, \"audio_tokens\": 0}, \"completion_tokens_details\": {\"reasoning_tokens\": 0, \"audio_tokens\": 0, \"accepted_prediction_tokens\": 0, \"rejected_prediction_tokens\": 0}}, \"system_fingerprint\": \"fp_0aa8d3e20b\"}}, \"error\": null} for query \"limited evaluation due to semi-upright nature of the examination\": Could not parse output: {\n",
      "  \"reason\": \"The statement describes a condition observed in the stomach, indicating it is filled with air and distended. This is a clear anatomical finding that can be visually assessed on imaging. It suggests a potential abnormality in the gastrointestinal system.\",\n",
      "  \"too_noisy_or_irrelevant\": \"no\",\n",
      " \n",
      "2025-01-05 19:38:36,923 - \u001b[1;32mINFO\u001b[1;0m - Succesfully processed 49998 of 50000 API responses.\n",
      "                                    2 of 50000 API responses could not be processed.\n",
      "                                    Saving processed texts to /mnt/data/pamessina_folder_backup_15_10_24/pamessina/medvqa-workspace/cache/mimiccxr/openai/gpt-4o-mini_fact_to_metadata.jsonl\n"
     ]
    }
   ],
   "source": [
    "!python ../../scripts/mimiccxr/extract_metadata_from_facts_with_openai_v2.py \\\n",
    "--batch_input_file_id \"file-RnaKnZoid5cwonruvAgoZp\" \\\n",
    "--logging_level \"INFO\" \\\n",
    "--api_key_name \"OPENAI_API_KEY_1\" \\\n",
    "--openai_model_name \"gpt-4o-mini\" \\\n",
    "--use_batch_api"
   ]
  },
  {
   "cell_type": "code",
   "execution_count": 35,
   "id": "54dd9de1",
   "metadata": {
    "scrolled": true
   },
   "outputs": [
    {
     "name": "stdout",
     "output_type": "stream",
     "text": [
      "2025-01-05 13:20:24,568 - \u001b[1;32mINFO\u001b[1;0m - Loaded 1000 already processed queries from /mnt/data/pamessina_folder_backup_15_10_24/pamessina/medvqa-workspace/cache/mimiccxr/openai/gpt-4o-mini_fact_to_metadata.jsonl\n",
      "2025-01-05 13:20:30,456 - \u001b[1;32mINFO\u001b[1;0m - Total number of unique facts: 591920\n",
      "2025-01-05 13:20:30,594 - \u001b[1;32mINFO\u001b[1;0m - Loading cached sorted sentences from /mnt/data/pamessina_folder_backup_15_10_24/pamessina/medvqa-workspace/cache/sorted_sentences(591920,27712377).pkl...\n",
      "2025-01-05 13:20:30,669 - \u001b[1;32mINFO\u001b[1;0m - Done loading cached sorted sentences.\n",
      "2025-01-05 13:20:30,669 - \u001b[1;32mINFO\u001b[1;0m - First sentence: A BENIGN CALCIFICATION IN LUNG OR RIB, OR VESSEL, EITHER ON END OR CROSSING in the right lower lung\n",
      "2025-01-05 13:20:30,669 - \u001b[1;32mINFO\u001b[1;0m - Last sentence: right\n",
      "checkpoint_names = ['checkpoint_196_cacc+chf1+chf1+cscc+encc+hscc+nlcc+sass+spss+ta0)+ta1)+ta2)+ta0)+ta1)+ta2)+ta3)+ta4)+ta5)+ta6)+ta7)=0.9189.pt']\n",
      "Loading cached text embeddings from /mnt/data/pamessina_folder_backup_15_10_24/pamessina/medvqa-workspace/cache/text_embeddings_cache(hash=469,680486110513564934).pkl\n",
      "len(self.cache[\"hashes\"]) = 702198\n",
      "self.cache[\"embeddings\"].shape = (702198, 128)\n",
      "Loading cached kmeans labels from /mnt/data/pamessina_folder_backup_15_10_24/pamessina/medvqa-workspace/cache/kmeans_labels(27712550,4222631749105572322).pkl\n",
      "2025-01-05 13:20:35,398 - \u001b[1;32mINFO\u001b[1;0m - Total number of queries to process: 50000\n",
      "2025-01-05 13:20:35,398 - \u001b[1;32mINFO\u001b[1;0m - Example queries to process:\n",
      "2025-01-05 13:20:35,398 - \u001b[1;32mINFO\u001b[1;0m - 1. aortic dissection as the clinical concern\n",
      "2025-01-05 13:20:35,398 - \u001b[1;32mINFO\u001b[1;0m - 5556. mild-to-moderate thoracic compression deformity\n",
      "2025-01-05 13:20:35,399 - \u001b[1;32mINFO\u001b[1;0m - 11111. right pneumothorax obscured by subcutaneous air\n",
      "2025-01-05 13:20:35,399 - \u001b[1;32mINFO\u001b[1;0m - 16667. no significant interval change in the radiographic appearance of the chest\n",
      "2025-01-05 13:20:35,399 - \u001b[1;32mINFO\u001b[1;0m - 22222. position of the left-sided PICC line\n",
      "2025-01-05 13:20:35,399 - \u001b[1;32mINFO\u001b[1;0m - 27778. unchanged position of left subclavian central venous catheter line from prior examination\n",
      "2025-01-05 13:20:35,399 - \u001b[1;32mINFO\u001b[1;0m - 33333. biventricular lead in expected position\n",
      "2025-01-05 13:20:35,399 - \u001b[1;32mINFO\u001b[1;0m - 38889. slight improvement in small to moderate left pleural effusion\n",
      "2025-01-05 13:20:35,399 - \u001b[1;32mINFO\u001b[1;0m - 44444. opacity is more conspicuous today\n",
      "2025-01-05 13:20:35,399 - \u001b[1;32mINFO\u001b[1;0m - 50000. slight increased right basilar opacity on the frontal\n",
      "2025-01-05 13:20:35,556 - \u001b[1;32mINFO\u001b[1;0m - Saving batch API requests to /home/pamessina/medvqa-workspace/tmp/mimiccxr/openai/batch_api_requests_20250105_132035.jsonl\n",
      "2025-01-05 13:20:47,029 - \u001b[1;32mINFO\u001b[1;0m - HTTP Request: POST https://api.openai.com/v1/files \"HTTP/1.1 200 OK\"\n",
      "2025-01-05 13:20:47,031 - \u001b[1;32mINFO\u001b[1;0m - Creating batch with input file ID file-938bWdPDo2RXvkrNPasPJ3\n",
      "2025-01-05 13:20:48,358 - \u001b[1;32mINFO\u001b[1;0m - HTTP Request: POST https://api.openai.com/v1/batches \"HTTP/1.1 200 OK\"\n",
      "2025-01-05 13:20:48,364 - \u001b[1;32mINFO\u001b[1;0m - Batch object: Batch(id='batch_677ab16021508190ae4249db31de909f', completion_window='24h', created_at=1736094048, endpoint='/v1/chat/completions', input_file_id='file-938bWdPDo2RXvkrNPasPJ3', object='batch', status='validating', cancelled_at=None, cancelling_at=None, completed_at=None, error_file_id=None, errors=None, expired_at=None, expires_at=1736180448, failed_at=None, finalizing_at=None, in_progress_at=None, metadata={'description': 'fact to metadata (improved)'}, output_file_id=None, request_counts=BatchRequestCounts(completed=0, failed=0, total=0))\n",
      "2025-01-05 13:20:48,365 - \u001b[1;32mINFO\u001b[1;0m - Saving batch object to /home/pamessina/medvqa-workspace/tmp/mimiccxr/openai/batch_api/file-938bWdPDo2RXvkrNPasPJ3.pkl\n",
      "2025-01-05 13:20:48,365 - \u001b[1;32mINFO\u001b[1;0m - Deleting batch API requests at /home/pamessina/medvqa-workspace/tmp/mimiccxr/openai/batch_api_requests_20250105_132035.jsonl\n"
     ]
    }
   ],
   "source": [
    "!python ../../scripts/mimiccxr/extract_metadata_from_facts_with_openai_v2.py \\\n",
    "--offset 301000 \\\n",
    "--num_samples 50000 \\\n",
    "--integrated_sentence_facts_jsonl_filepath \\\n",
    "\"/home/pamessina/medvqa-workspace/cache/mimiccxr/integrated_sentence_facts(59349684,50956825).jsonl\" \\\n",
    "--fact_embedding_model_name \"microsoft/BiomedVLP-CXR-BERT-specialized\" \\\n",
    "--fact_embedding_model_checkpoint_folder_path \\\n",
    "\"/mnt/data/pamessina/workspaces/medvqa-workspace/models/fact_embedding/20240629_084405_MIMIC-CXR(triplets+classif+entcont+nli+radgraph+autoencoder)_FactEncoder(microsoft-BiomedVLP-CXR-BERT-specialized)\" \\\n",
    "--fact_embedding_batch_size 200 \\\n",
    "--fact_embedding_num_workers 4 \\\n",
    "--max_requests_per_minute 20000 \\\n",
    "--max_tokens_per_minute 10000000 \\\n",
    "--max_tokens_per_request 350 \\\n",
    "--logging_level \"INFO\" \\\n",
    "--api_key_name \"OPENAI_API_KEY_1\" \\\n",
    "--openai_model_name \"gpt-4o-mini\" \\\n",
    "--use_batch_api \\\n",
    "--batch_description \"fact to metadata (improved)\""
   ]
  },
  {
   "cell_type": "code",
   "execution_count": 47,
   "id": "9da63800",
   "metadata": {
    "scrolled": true
   },
   "outputs": [
    {
     "name": "stdout",
     "output_type": "stream",
     "text": [
      "2025-01-05 19:39:32,148 - \u001b[1;32mINFO\u001b[1;0m - Checking status of batch with input file ID file-938bWdPDo2RXvkrNPasPJ3\n",
      "2025-01-05 19:39:32,582 - \u001b[1;32mINFO\u001b[1;0m - Batch object: Batch(id='batch_677ab16021508190ae4249db31de909f', completion_window='24h', created_at=1736094048, endpoint='/v1/chat/completions', input_file_id='file-938bWdPDo2RXvkrNPasPJ3', object='batch', status='validating', cancelled_at=None, cancelling_at=None, completed_at=None, error_file_id=None, errors=None, expired_at=None, expires_at=1736180448, failed_at=None, finalizing_at=None, in_progress_at=None, metadata={'description': 'fact to metadata (improved)'}, output_file_id=None, request_counts=BatchRequestCounts(completed=0, failed=0, total=0))\n",
      "2025-01-05 19:39:33,339 - \u001b[1;32mINFO\u001b[1;0m - HTTP Request: GET https://api.openai.com/v1/batches/batch_677ab16021508190ae4249db31de909f \"HTTP/1.1 200 OK\"\n",
      "2025-01-05 19:39:33,348 - \u001b[1;32mINFO\u001b[1;0m - Batch: Batch(id='batch_677ab16021508190ae4249db31de909f', completion_window='24h', created_at=1736094048, endpoint='/v1/chat/completions', input_file_id='file-938bWdPDo2RXvkrNPasPJ3', object='batch', status='completed', cancelled_at=None, cancelling_at=None, completed_at=1736105656, error_file_id=None, errors=None, expired_at=None, expires_at=1736180448, failed_at=None, finalizing_at=1736100497, in_progress_at=1736094064, metadata={'description': 'fact to metadata (improved)'}, output_file_id='file-DyEgynreYn3NKcodChVCwK', request_counts=BatchRequestCounts(completed=50000, failed=0, total=50000))\n",
      "2025-01-05 19:39:33,348 - \u001b[1;32mINFO\u001b[1;0m - Batch status: completed\n",
      "2025-01-05 19:39:33,348 - \u001b[1;32mINFO\u001b[1;0m - Batch with input file ID file-938bWdPDo2RXvkrNPasPJ3 is completed\n",
      "2025-01-05 19:39:33,348 - \u001b[1;32mINFO\u001b[1;0m - Retrieving batch input file ID file-938bWdPDo2RXvkrNPasPJ3\n",
      "2025-01-05 19:39:34,234 - \u001b[1;32mINFO\u001b[1;0m - HTTP Request: GET https://api.openai.com/v1/files/file-938bWdPDo2RXvkrNPasPJ3/content \"HTTP/1.1 200 OK\"\n",
      "2025-01-05 19:39:40,398 - \u001b[1;32mINFO\u001b[1;0m - Retrieved metadata for 50000 queries\n",
      "2025-01-05 19:39:40,398 - \u001b[1;32mINFO\u001b[1;0m - Retrieving batch output file ID file-DyEgynreYn3NKcodChVCwK\n",
      "2025-01-05 19:39:41,439 - \u001b[1;32mINFO\u001b[1;0m - HTTP Request: GET https://api.openai.com/v1/files/file-DyEgynreYn3NKcodChVCwK/content \"HTTP/1.1 200 OK\"\n",
      "2025-01-05 19:39:47,773 - \u001b[1;31mERROR\u001b[1;0m - 4 error messages occurred while parsing responses\n",
      "2025-01-05 19:39:47,773 - \u001b[1;31mERROR\u001b[1;0m - Error parsing response {\"id\": \"batch_req_677acebb20f08190a2246ffe71547876\", \"custom_id\": \"10328\", \"response\": {\"status_code\": 200, \"request_id\": \"082e6533cd90411152c8f9d6d883b39e\", \"body\": {\"id\": \"chatcmpl-AmNyahXJ0enbQHN9yH7yzqPDuBu1U\", \"object\": \"chat.completion\", \"created\": 1736095272, \"model\": \"gpt-4o-mini-2024-07-18\", \"choices\": [{\"index\": 0, \"message\": {\"role\": \"assistant\", \"content\": \"{\\n  \\\"reason\\\": \\\"The statement suggests a potential diagnosis of chronic obstructive pulmonary disease (COPD) related to an observation in the right costophrenic angle. This indicates a specific anatomical location where changes may be noted on a chest X-ray. The mention of COPD implies a disease process that can be visually assessed.\\\",\\n  \\\"too_noisy_or_irrelevant\\\": \\\"no\\\",\\n  \\\"visually_observable\\\":\", \"refusal\": null}, \"logprobs\": null, \"finish_reason\": \"stop\"}], \"usage\": {\"prompt_tokens\": 338, \"completion_tokens\": 87, \"total_tokens\": 425, \"prompt_tokens_details\": {\"cached_tokens\": 0, \"audio_tokens\": 0}, \"completion_tokens_details\": {\"reasoning_tokens\": 0, \"audio_tokens\": 0, \"accepted_prediction_tokens\": 0, \"rejected_prediction_tokens\": 0}}, \"system_fingerprint\": \"fp_0aa8d3e20b\"}}, \"error\": null} for query \"air-filled loops of bowel in the imaged upper abdomen\": Could not parse output: {\n",
      "  \"reason\": \"The statement suggests a potential diagnosis of chronic obstructive pulmonary disease (COPD) related to an observation in the right costophrenic angle. This indicates a specific anatomical location where changes may be noted on a chest X-ray. The mention of COPD implies a disease process that can be visually assessed.\",\n",
      "  \"too_noisy_or_irrelevant\": \"no\",\n",
      "  \"visually_observable\":\n",
      "2025-01-05 19:39:47,773 - \u001b[1;31mERROR\u001b[1;0m - Error parsing response {\"id\": \"batch_req_677ad0c0d5b48190a439c408feed3371\", \"custom_id\": \"15180\", \"response\": {\"status_code\": 200, \"request_id\": \"405f7c0a895d22866042d92188d12ca4\", \"body\": {\"id\": \"chatcmpl-AmO6UbjJRBPRPDqjiKOWxTGeYeYSR\", \"object\": \"chat.completion\", \"created\": 1736095762, \"model\": \"gpt-4o-mini-2024-07-18\", \"choices\": [{\"index\": 0, \"message\": {\"role\": \"assistant\", \"content\": \"{\\n  \\\"reason\\\": \\\"The statement describes an observation related to the size of the cardiomediastinal contours, which can be visually assessed on a chest X-ray. It indicates a potential abnormality due to low lung volumes. This suggests a possible underlying condition affecting lung capacity.\\\",\\n  \\\"too_noisy_or_irrelevant\\\": \\\"no\\\",\\n  \\\"visually_observable\\\": \\\"yes\", \"refusal\": null}, \"logprobs\": null, \"finish_reason\": \"stop\"}], \"usage\": {\"prompt_tokens\": 341, \"completion_tokens\": 80, \"total_tokens\": 421, \"prompt_tokens_details\": {\"cached_tokens\": 0, \"audio_tokens\": 0}, \"completion_tokens_details\": {\"reasoning_tokens\": 0, \"audio_tokens\": 0, \"accepted_prediction_tokens\": 0, \"rejected_prediction_tokens\": 0}}, \"system_fingerprint\": \"fp_0aa8d3e20b\"}}, \"error\": null} for query \"opacity in the left perihilar region has slightly decreased in extent\": Could not parse output: {\n",
      "  \"reason\": \"The statement describes an observation related to the size of the cardiomediastinal contours, which can be visually assessed on a chest X-ray. It indicates a potential abnormality due to low lung volumes. This suggests a possible underlying condition affecting lung capacity.\",\n",
      "  \"too_noisy_or_irrelevant\": \"no\",\n",
      "  \"visually_observable\": \"yes\n",
      "2025-01-05 19:39:47,773 - \u001b[1;31mERROR\u001b[1;0m - Error parsing response {\"id\": \"batch_req_677ace9d06748190ad03fe4fbf783a32\", \"custom_id\": \"10048\", \"response\": {\"status_code\": 200, \"request_id\": \"db8403ad58df2dfcbe57267426af98a2\", \"body\": {\"id\": \"chatcmpl-AmNxODt4MwrPyQBlik8POJ0x22yP1\", \"object\": \"chat.completion\", \"created\": 1736095198, \"model\": \"gpt-4o-mini-2024-07-18\", \"choices\": [{\"index\": 0, \"message\": {\"role\": \"assistant\", \"content\": \"{\\n \", \"refusal\": null}, \"logprobs\": null, \"finish_reason\": \"stop\"}], \"usage\": {\"prompt_tokens\": 343, \"completion_tokens\": 3, \"total_tokens\": 346, \"prompt_tokens_details\": {\"cached_tokens\": 0, \"audio_tokens\": 0}, \"completion_tokens_details\": {\"reasoning_tokens\": 0, \"audio_tokens\": 0, \"accepted_prediction_tokens\": 0, \"rejected_prediction_tokens\": 0}}, \"system_fingerprint\": \"fp_0aa8d3e20b\"}}, \"error\": null} for query \"cardiomegaly slightly worse compared to prior examination\": Could not parse output: {\n",
      " \n",
      "2025-01-05 19:39:47,774 - \u001b[1;31mERROR\u001b[1;0m - Error parsing response {\"id\": \"batch_req_677ace400780819087cc7559327625af\", \"custom_id\": \"9172\", \"response\": {\"status_code\": 200, \"request_id\": \"8c02013e13c41aada283d07b7657bf95\", \"body\": {\"id\": \"chatcmpl-AmNw22oef3BY8xxsY74LhLC0efYqH\", \"object\": \"chat.completion\", \"created\": 1736095114, \"model\": \"gpt-4o-mini-2024-07-18\", \"choices\": [{\"index\": 0, \"message\": {\"role\": \"assistant\", \"content\": \"{\\n  \\\"reason\\\": \\\"The statement describes a specific finding of pleural thickening, which can be visually observed on a chest X-ray. It also mentions the context of multiple old rib fractures, indicating a potential relationship between the two observations. This suggests a pathological change in the pleura associated with the rib fractures.\\\",\\n  \\\"too_noisy_or_irrelevant\\\": \\\"no\\\",\\n  \\\"visually_observable\\\": \\\"yes\\\",\\n  \\\"category\\\": \\\"an\", \"refusal\": null}, \"logprobs\": null, \"finish_reason\": \"stop\"}], \"usage\": {\"prompt_tokens\": 339, \"completion_tokens\": 94, \"total_tokens\": 433, \"prompt_tokens_details\": {\"cached_tokens\": 0, \"audio_tokens\": 0}, \"completion_tokens_details\": {\"reasoning_tokens\": 0, \"audio_tokens\": 0, \"accepted_prediction_tokens\": 0, \"rejected_prediction_tokens\": 0}}, \"system_fingerprint\": \"fp_0aa8d3e20b\"}}, \"error\": null} for query \"structure consistent with left diaphragmatic hernia\": Could not parse output: {\n",
      "  \"reason\": \"The statement describes a specific finding of pleural thickening, which can be visually observed on a chest X-ray. It also mentions the context of multiple old rib fractures, indicating a potential relationship between the two observations. This suggests a pathological change in the pleura associated with the rib fractures.\",\n",
      "  \"too_noisy_or_irrelevant\": \"no\",\n",
      "  \"visually_observable\": \"yes\",\n",
      "  \"category\": \"an\n",
      "2025-01-05 19:39:47,774 - \u001b[1;32mINFO\u001b[1;0m - Succesfully processed 49996 of 50000 API responses.\n",
      "                                    4 of 50000 API responses could not be processed.\n",
      "                                    Saving processed texts to /mnt/data/pamessina_folder_backup_15_10_24/pamessina/medvqa-workspace/cache/mimiccxr/openai/gpt-4o-mini_fact_to_metadata.jsonl\n"
     ]
    }
   ],
   "source": [
    "!python ../../scripts/mimiccxr/extract_metadata_from_facts_with_openai_v2.py \\\n",
    "--batch_input_file_id \"file-938bWdPDo2RXvkrNPasPJ3\" \\\n",
    "--logging_level \"INFO\" \\\n",
    "--api_key_name \"OPENAI_API_KEY_1\" \\\n",
    "--openai_model_name \"gpt-4o-mini\" \\\n",
    "--use_batch_api"
   ]
  },
  {
   "cell_type": "code",
   "execution_count": 36,
   "id": "74c081ea",
   "metadata": {
    "scrolled": true
   },
   "outputs": [
    {
     "name": "stdout",
     "output_type": "stream",
     "text": [
      "2025-01-05 13:21:22,719 - \u001b[1;32mINFO\u001b[1;0m - Loaded 1000 already processed queries from /mnt/data/pamessina_folder_backup_15_10_24/pamessina/medvqa-workspace/cache/mimiccxr/openai/gpt-4o-mini_fact_to_metadata.jsonl\n",
      "2025-01-05 13:21:28,562 - \u001b[1;32mINFO\u001b[1;0m - Total number of unique facts: 591920\n",
      "2025-01-05 13:21:28,701 - \u001b[1;32mINFO\u001b[1;0m - Loading cached sorted sentences from /mnt/data/pamessina_folder_backup_15_10_24/pamessina/medvqa-workspace/cache/sorted_sentences(591920,27712377).pkl...\n",
      "2025-01-05 13:21:28,776 - \u001b[1;32mINFO\u001b[1;0m - Done loading cached sorted sentences.\n",
      "2025-01-05 13:21:28,777 - \u001b[1;32mINFO\u001b[1;0m - First sentence: A BENIGN CALCIFICATION IN LUNG OR RIB, OR VESSEL, EITHER ON END OR CROSSING in the right lower lung\n",
      "2025-01-05 13:21:28,777 - \u001b[1;32mINFO\u001b[1;0m - Last sentence: right\n",
      "checkpoint_names = ['checkpoint_196_cacc+chf1+chf1+cscc+encc+hscc+nlcc+sass+spss+ta0)+ta1)+ta2)+ta0)+ta1)+ta2)+ta3)+ta4)+ta5)+ta6)+ta7)=0.9189.pt']\n",
      "Loading cached text embeddings from /mnt/data/pamessina_folder_backup_15_10_24/pamessina/medvqa-workspace/cache/text_embeddings_cache(hash=469,680486110513564934).pkl\n",
      "len(self.cache[\"hashes\"]) = 702198\n",
      "self.cache[\"embeddings\"].shape = (702198, 128)\n",
      "Loading cached kmeans labels from /mnt/data/pamessina_folder_backup_15_10_24/pamessina/medvqa-workspace/cache/kmeans_labels(27712550,4222631749105572322).pkl\n",
      "2025-01-05 13:21:33,470 - \u001b[1;32mINFO\u001b[1;0m - Total number of queries to process: 50000\n",
      "2025-01-05 13:21:33,470 - \u001b[1;32mINFO\u001b[1;0m - Example queries to process:\n",
      "2025-01-05 13:21:33,470 - \u001b[1;32mINFO\u001b[1;0m - 1. possibly slightly increased pulmonary vascular congestion\n",
      "2025-01-05 13:21:33,470 - \u001b[1;32mINFO\u001b[1;0m - 5556. areas of volume loss at the lung apices\n",
      "2025-01-05 13:21:33,470 - \u001b[1;32mINFO\u001b[1;0m - 11111. Dobbhoff tube coiled within the distal esophagus\n",
      "2025-01-05 13:21:33,470 - \u001b[1;32mINFO\u001b[1;0m - 16667. spinal stimulator in the mid thoracic region\n",
      "2025-01-05 13:21:33,470 - \u001b[1;32mINFO\u001b[1;0m - 22222. assessment for underlying lesion\n",
      "2025-01-05 13:21:33,470 - \u001b[1;32mINFO\u001b[1;0m - 27778. mild asymmetric right apical pleural thickening\n",
      "2025-01-05 13:21:33,470 - \u001b[1;32mINFO\u001b[1;0m - 33333. bilateral changes suggesting moderate pulmonary edema\n",
      "2025-01-05 13:21:33,470 - \u001b[1;32mINFO\u001b[1;0m - 38889. assessment for superimposed pneumonia\n",
      "2025-01-05 13:21:33,470 - \u001b[1;32mINFO\u001b[1;0m - 44444. potential pneumonia in the left lower lobe\n",
      "2025-01-05 13:21:33,470 - \u001b[1;32mINFO\u001b[1;0m - 50000. prior ribs injury at the right lung apex\n",
      "2025-01-05 13:21:33,619 - \u001b[1;32mINFO\u001b[1;0m - Saving batch API requests to /home/pamessina/medvqa-workspace/tmp/mimiccxr/openai/batch_api_requests_20250105_132133.jsonl\n",
      "2025-01-05 13:21:43,468 - \u001b[1;32mINFO\u001b[1;0m - HTTP Request: POST https://api.openai.com/v1/files \"HTTP/1.1 200 OK\"\n",
      "2025-01-05 13:21:43,470 - \u001b[1;32mINFO\u001b[1;0m - Creating batch with input file ID file-1pXjm7iSvsPvQ3xpatBRMB\n",
      "2025-01-05 13:21:44,449 - \u001b[1;32mINFO\u001b[1;0m - HTTP Request: POST https://api.openai.com/v1/batches \"HTTP/1.1 200 OK\"\n",
      "2025-01-05 13:21:44,455 - \u001b[1;32mINFO\u001b[1;0m - Batch object: Batch(id='batch_677ab1983458819092c877b4cfb533c8', completion_window='24h', created_at=1736094104, endpoint='/v1/chat/completions', input_file_id='file-1pXjm7iSvsPvQ3xpatBRMB', object='batch', status='validating', cancelled_at=None, cancelling_at=None, completed_at=None, error_file_id=None, errors=None, expired_at=None, expires_at=1736180504, failed_at=None, finalizing_at=None, in_progress_at=None, metadata={'description': 'fact to metadata (improved)'}, output_file_id=None, request_counts=BatchRequestCounts(completed=0, failed=0, total=0))\n",
      "2025-01-05 13:21:44,455 - \u001b[1;32mINFO\u001b[1;0m - Saving batch object to /home/pamessina/medvqa-workspace/tmp/mimiccxr/openai/batch_api/file-1pXjm7iSvsPvQ3xpatBRMB.pkl\n",
      "2025-01-05 13:21:44,456 - \u001b[1;32mINFO\u001b[1;0m - Deleting batch API requests at /home/pamessina/medvqa-workspace/tmp/mimiccxr/openai/batch_api_requests_20250105_132133.jsonl\n"
     ]
    }
   ],
   "source": [
    "!python ../../scripts/mimiccxr/extract_metadata_from_facts_with_openai_v2.py \\\n",
    "--offset 351000 \\\n",
    "--num_samples 50000 \\\n",
    "--integrated_sentence_facts_jsonl_filepath \\\n",
    "\"/home/pamessina/medvqa-workspace/cache/mimiccxr/integrated_sentence_facts(59349684,50956825).jsonl\" \\\n",
    "--fact_embedding_model_name \"microsoft/BiomedVLP-CXR-BERT-specialized\" \\\n",
    "--fact_embedding_model_checkpoint_folder_path \\\n",
    "\"/mnt/data/pamessina/workspaces/medvqa-workspace/models/fact_embedding/20240629_084405_MIMIC-CXR(triplets+classif+entcont+nli+radgraph+autoencoder)_FactEncoder(microsoft-BiomedVLP-CXR-BERT-specialized)\" \\\n",
    "--fact_embedding_batch_size 200 \\\n",
    "--fact_embedding_num_workers 4 \\\n",
    "--max_requests_per_minute 20000 \\\n",
    "--max_tokens_per_minute 10000000 \\\n",
    "--max_tokens_per_request 350 \\\n",
    "--logging_level \"INFO\" \\\n",
    "--api_key_name \"OPENAI_API_KEY_1\" \\\n",
    "--openai_model_name \"gpt-4o-mini\" \\\n",
    "--use_batch_api \\\n",
    "--batch_description \"fact to metadata (improved)\""
   ]
  },
  {
   "cell_type": "code",
   "execution_count": 48,
   "id": "aa8df1ca",
   "metadata": {
    "scrolled": true
   },
   "outputs": [
    {
     "name": "stdout",
     "output_type": "stream",
     "text": [
      "2025-01-05 19:39:54,116 - \u001b[1;32mINFO\u001b[1;0m - Checking status of batch with input file ID file-1pXjm7iSvsPvQ3xpatBRMB\n",
      "2025-01-05 19:39:54,554 - \u001b[1;32mINFO\u001b[1;0m - Batch object: Batch(id='batch_677ab1983458819092c877b4cfb533c8', completion_window='24h', created_at=1736094104, endpoint='/v1/chat/completions', input_file_id='file-1pXjm7iSvsPvQ3xpatBRMB', object='batch', status='validating', cancelled_at=None, cancelling_at=None, completed_at=None, error_file_id=None, errors=None, expired_at=None, expires_at=1736180504, failed_at=None, finalizing_at=None, in_progress_at=None, metadata={'description': 'fact to metadata (improved)'}, output_file_id=None, request_counts=BatchRequestCounts(completed=0, failed=0, total=0))\n",
      "2025-01-05 19:39:55,065 - \u001b[1;32mINFO\u001b[1;0m - HTTP Request: GET https://api.openai.com/v1/batches/batch_677ab1983458819092c877b4cfb533c8 \"HTTP/1.1 200 OK\"\n",
      "2025-01-05 19:39:55,072 - \u001b[1;32mINFO\u001b[1;0m - Batch: Batch(id='batch_677ab1983458819092c877b4cfb533c8', completion_window='24h', created_at=1736094104, endpoint='/v1/chat/completions', input_file_id='file-1pXjm7iSvsPvQ3xpatBRMB', object='batch', status='completed', cancelled_at=None, cancelling_at=None, completed_at=1736110372, error_file_id=None, errors=None, expired_at=None, expires_at=1736180504, failed_at=None, finalizing_at=1736102720, in_progress_at=1736094119, metadata={'description': 'fact to metadata (improved)'}, output_file_id='file-T6y38U8Gk2SnNDUyNtfxsy', request_counts=BatchRequestCounts(completed=50000, failed=0, total=50000))\n",
      "2025-01-05 19:39:55,073 - \u001b[1;32mINFO\u001b[1;0m - Batch status: completed\n",
      "2025-01-05 19:39:55,073 - \u001b[1;32mINFO\u001b[1;0m - Batch with input file ID file-1pXjm7iSvsPvQ3xpatBRMB is completed\n",
      "2025-01-05 19:39:55,073 - \u001b[1;32mINFO\u001b[1;0m - Retrieving batch input file ID file-1pXjm7iSvsPvQ3xpatBRMB\n",
      "2025-01-05 19:39:55,870 - \u001b[1;32mINFO\u001b[1;0m - HTTP Request: GET https://api.openai.com/v1/files/file-1pXjm7iSvsPvQ3xpatBRMB/content \"HTTP/1.1 200 OK\"\n",
      "2025-01-05 19:40:05,403 - \u001b[1;32mINFO\u001b[1;0m - Retrieved metadata for 50000 queries\n",
      "2025-01-05 19:40:05,403 - \u001b[1;32mINFO\u001b[1;0m - Retrieving batch output file ID file-T6y38U8Gk2SnNDUyNtfxsy\n",
      "2025-01-05 19:40:06,839 - \u001b[1;32mINFO\u001b[1;0m - HTTP Request: GET https://api.openai.com/v1/files/file-T6y38U8Gk2SnNDUyNtfxsy/content \"HTTP/1.1 200 OK\"\n",
      "2025-01-05 19:40:13,217 - \u001b[1;31mERROR\u001b[1;0m - 3 error messages occurred while parsing responses\n",
      "2025-01-05 19:40:13,217 - \u001b[1;31mERROR\u001b[1;0m - Error parsing response {\"id\": \"batch_req_677ad5348e348190852880f55ae6ad6a\", \"custom_id\": \"3287\", \"response\": {\"status_code\": 200, \"request_id\": \"03902175274671812e17c018e19e17a5\", \"body\": {\"id\": \"chatcmpl-AmNoN87rDmngVPGtJ2VzuNrPOszZz\", \"object\": \"chat.completion\", \"created\": 1736094639, \"model\": \"gpt-4o-mini-2024-07-18\", \"choices\": [{\"index\": 0, \"message\": {\"role\": \"assistant\", \"content\": \"{\\n  \\\"reason\\\": \\\"The statement describes the position of a tube in relation to the carina, which is a specific anatomical landmark in the chest. This information is relevant for assessing the placement of the tube on a chest X-ray.\\\",\\n  \\\"too_noisy_or_irre\", \"refusal\": null}, \"logprobs\": null, \"finish_reason\": \"stop\"}], \"usage\": {\"prompt_tokens\": 338, \"completion_tokens\": 57, \"total_tokens\": 395, \"prompt_tokens_details\": {\"cached_tokens\": 0, \"audio_tokens\": 0}, \"completion_tokens_details\": {\"reasoning_tokens\": 0, \"audio_tokens\": 0, \"accepted_prediction_tokens\": 0, \"rejected_prediction_tokens\": 0}}, \"system_fingerprint\": \"fp_0aa8d3e20b\"}}, \"error\": null} for query \"orogastric tube courses through the stomach\": Could not parse output: {\n",
      "  \"reason\": \"The statement describes the position of a tube in relation to the carina, which is a specific anatomical landmark in the chest. This information is relevant for assessing the placement of the tube on a chest X-ray.\",\n",
      "  \"too_noisy_or_irre\n",
      "2025-01-05 19:40:13,217 - \u001b[1;31mERROR\u001b[1;0m - Error parsing response {\"id\": \"batch_req_677ad7fe7c90819090ea1c1ee0e02190\", \"custom_id\": \"7961\", \"response\": {\"status_code\": 200, \"request_id\": \"663cf8b372a13fec193231af77cd17ea\", \"body\": {\"id\": \"chatcmpl-AmNzoZSCwUTAukj8o9PucDsrFko1I\", \"object\": \"chat.completion\", \"created\": 1736095348, \"model\": \"gpt-4o-mini-2024-07-18\", \"choices\": [{\"index\": 0, \"message\": {\"role\": \"assistant\", \"content\": \"{\\n  \\\"reason\\\": \\\"The statement describes a change in the appearance of the lung, specifically noting an\", \"refusal\": null}, \"logprobs\": null, \"finish_reason\": \"stop\"}], \"usage\": {\"prompt_tokens\": 337, \"completion_tokens\": 22, \"total_tokens\": 359, \"prompt_tokens_details\": {\"cached_tokens\": 0, \"audio_tokens\": 0}, \"completion_tokens_details\": {\"reasoning_tokens\": 0, \"audio_tokens\": 0, \"accepted_prediction_tokens\": 0, \"rejected_prediction_tokens\": 0}}, \"system_fingerprint\": \"fp_0aa8d3e20b\"}}, \"error\": null} for query \"low single lead extending into the region of the right ventricle\": Could not parse output: {\n",
      "  \"reason\": \"The statement describes a change in the appearance of the lung, specifically noting an\n",
      "2025-01-05 19:40:13,217 - \u001b[1;31mERROR\u001b[1;0m - Error parsing response {\"id\": \"batch_req_677ae2cb91588190bf5f51b6212f9236\", \"custom_id\": \"25996\", \"response\": {\"status_code\": 200, \"request_id\": \"7253f35530769cd1e8766498260d8c27\", \"body\": {\"id\": \"chatcmpl-AmOhuwOE2eZi9sa8eimMQtOC3aRG9\", \"object\": \"chat.completion\", \"created\": 1736098082, \"model\": \"gpt-4o-mini-2024-07-18\", \"choices\": [{\"index\": 0, \"message\": {\"role\": \"assistant\", \"content\": \"{\\n  \\\"reason\\\": \\\"The statement describes an observable condition on\", \"refusal\": null}, \"logprobs\": null, \"finish_reason\": \"stop\"}], \"usage\": {\"prompt_tokens\": 337, \"completion_tokens\": 14, \"total_tokens\": 351, \"prompt_tokens_details\": {\"cached_tokens\": 0, \"audio_tokens\": 0}, \"completion_tokens_details\": {\"reasoning_tokens\": 0, \"audio_tokens\": 0, \"accepted_prediction_tokens\": 0, \"rejected_prediction_tokens\": 0}}, \"system_fingerprint\": \"fp_0aa8d3e20b\"}}, \"error\": null} for query \"increased density in the right upper quadrant\": Could not parse output: {\n",
      "  \"reason\": \"The statement describes an observable condition on\n",
      "2025-01-05 19:40:13,217 - \u001b[1;32mINFO\u001b[1;0m - Succesfully processed 49997 of 50000 API responses.\n",
      "                                    3 of 50000 API responses could not be processed.\n",
      "                                    Saving processed texts to /mnt/data/pamessina_folder_backup_15_10_24/pamessina/medvqa-workspace/cache/mimiccxr/openai/gpt-4o-mini_fact_to_metadata.jsonl\n"
     ]
    }
   ],
   "source": [
    "!python ../../scripts/mimiccxr/extract_metadata_from_facts_with_openai_v2.py \\\n",
    "--batch_input_file_id \"file-1pXjm7iSvsPvQ3xpatBRMB\" \\\n",
    "--logging_level \"INFO\" \\\n",
    "--api_key_name \"OPENAI_API_KEY_1\" \\\n",
    "--openai_model_name \"gpt-4o-mini\" \\\n",
    "--use_batch_api"
   ]
  },
  {
   "cell_type": "code",
   "execution_count": 13,
   "id": "a3c00c4b",
   "metadata": {},
   "outputs": [],
   "source": [
    "from medvqa.utils.files import load_jsonl"
   ]
  },
  {
   "cell_type": "code",
   "execution_count": 49,
   "id": "5ba01128",
   "metadata": {},
   "outputs": [],
   "source": [
    "tmp = load_jsonl('/mnt/data/pamessina_folder_backup_15_10_24/pamessina/medvqa-workspace/cache/mimiccxr/openai/gpt-4o-mini_fact_to_metadata.jsonl')"
   ]
  },
  {
   "cell_type": "code",
   "execution_count": 50,
   "id": "83778a5a",
   "metadata": {},
   "outputs": [
    {
     "data": {
      "text/plain": [
       "400982"
      ]
     },
     "execution_count": 50,
     "metadata": {},
     "output_type": "execute_result"
    }
   ],
   "source": [
    "len(tmp)"
   ]
  },
  {
   "cell_type": "code",
   "execution_count": 51,
   "id": "17031353",
   "metadata": {},
   "outputs": [
    {
     "data": {
      "text/plain": [
       "{'metadata': {'query': 'prior ribs injury at the right lung apex'},\n",
       " 'parsed_response': {'reason': \"The statement indicates a previous injury to the ribs, which is relevant to the chest area and can be visually assessed on an X-ray. It specifies the location of the injury as the right lung apex, which is an anatomical detail. This information is pertinent for understanding the patient's history and current condition.\",\n",
       "  'too_noisy_or_irrelevant': 'no',\n",
       "  'visually_observable': 'yes',\n",
       "  'category': 'anatomical finding',\n",
       "  'abnormality_status': 'partial or minor abnormality',\n",
       "  'anatomical_location': 'right lung apex',\n",
       "  'general_observation': 'prior ribs injury'}}"
      ]
     },
     "execution_count": 51,
     "metadata": {},
     "output_type": "execute_result"
    }
   ],
   "source": [
    "tmp[-1]"
   ]
  },
  {
   "cell_type": "code",
   "execution_count": 52,
   "id": "607884e5",
   "metadata": {},
   "outputs": [
    {
     "data": {
      "text/plain": [
       "400982"
      ]
     },
     "execution_count": 52,
     "metadata": {},
     "output_type": "execute_result"
    }
   ],
   "source": [
    "facts = set()\n",
    "for x in tmp:\n",
    "    facts.add(x['metadata']['query'])\n",
    "len(facts)"
   ]
  }
 ],
 "metadata": {
  "kernelspec": {
   "display_name": "venv2",
   "language": "python",
   "name": "venv2"
  },
  "language_info": {
   "codemirror_mode": {
    "name": "ipython",
    "version": 3
   },
   "file_extension": ".py",
   "mimetype": "text/x-python",
   "name": "python",
   "nbconvert_exporter": "python",
   "pygments_lexer": "ipython3",
   "version": "3.10.10"
  }
 },
 "nbformat": 4,
 "nbformat_minor": 5
}
