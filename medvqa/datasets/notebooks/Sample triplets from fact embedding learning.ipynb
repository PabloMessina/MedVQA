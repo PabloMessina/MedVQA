{
 "cells": [
  {
   "cell_type": "code",
   "execution_count": 1,
   "id": "6a189c8a",
   "metadata": {},
   "outputs": [
    {
     "name": "stdout",
     "output_type": "stream",
     "text": [
      "env: CUDA_VISIBLE_DEVICES=0\n"
     ]
    }
   ],
   "source": [
    "%env CUDA_VISIBLE_DEVICES=0"
   ]
  },
  {
   "cell_type": "code",
   "execution_count": 2,
   "id": "83346fab",
   "metadata": {},
   "outputs": [
    {
     "name": "stdout",
     "output_type": "stream",
     "text": [
      " gpt-3.5-turbo-0301_parsed_sentences.jsonl\r\n",
      " gpt-3.5-turbo-0613_paraphrased_anatomical_locations__part1.jsonl\r\n",
      " gpt-3.5-turbo-0613_paraphrased_anatomical_locations__part2.jsonl\r\n",
      " gpt-3.5-turbo-0613_paraphrased_observations__single-words.jsonl\r\n",
      " gpt-3.5-turbo-0613_paraphrased_observations__two-or-more-words__part1.jsonl\r\n",
      " gpt-3.5-turbo-0613_paraphrased_observations__two-or-more-words__part3.jsonl\r\n",
      " gpt-3.5-turbo-0613_parsed_facts__hard.jsonl\r\n",
      " gpt-3.5-turbo-0613_parsed_facts__uniform.jsonl\r\n",
      " gpt-3.5-turbo-0613_parsed_facts__v2.jsonl\r\n",
      "'gpt-3.5-turbo-0613_parsed_facts__v2_offset=20000.jsonl'\r\n",
      "'gpt-3.5-turbo-0613_parsed_facts__v2_offset=40000_uniform.jsonl'\r\n",
      " gpt-3.5-turbo-0613_parsed_sentences__v2.jsonl\r\n",
      "'gpt-3.5-turbo-0613_parsed_sentences__v2(uniform).jsonl'\r\n",
      " gpt-3.5-turbo-16k-0613_paraphrased_anatomical_locations__part3.jsonl\r\n",
      " gpt-3.5-turbo-16k-0613_paraphrased_observations__two-or-more-words__part2.jsonl\r\n",
      " gpt-3.5-turbo-16k-0613_paraphrased_observations__two-or-more-words__part4.jsonl\r\n",
      " gpt-3.5-turbo_parsed_backgrounds.jsonl\r\n",
      " gpt-3.5-turbo_parsed_reports__backup.jsonl\r\n",
      " gpt-3.5-turbo_parsed_reports.jsonl\r\n",
      "'gpt-3.5-turbo_parsed_reports(old).jsonl'\r\n",
      " gpt-3.5-turbo_parsed_sentences.jsonl\r\n",
      " gpt-4-0613_parsed_reports.jsonl\r\n",
      " gpt-4-0613_parsed_sentences.jsonl\r\n",
      " gpt-4-0613_parsed_sentences__v2.jsonl\r\n"
     ]
    }
   ],
   "source": [
    "!ls /home/pamessina/medvqa-workspace/cache/mimiccxr/openai/"
   ]
  },
  {
   "cell_type": "code",
   "execution_count": 68,
   "id": "3e0106b3",
   "metadata": {
    "scrolled": false
   },
   "outputs": [
    {
     "name": "stdout",
     "output_type": "stream",
     "text": [
      "2023-07-14 09:38:46,794 - \u001b[1;32mINFO\u001b[1;0m - Collecting all sentences, observations and anatomical locations from input files...\n",
      "2023-07-14 09:38:46,794 - \u001b[1;32mINFO\u001b[1;0m - Loading integrated fact metadata from /home/pamessina/medvqa-workspace/cache/mimiccxr/integrated_fact_metadata(578733,58628071).jsonl...\n",
      "2023-07-14 09:38:55,083 - \u001b[1;32mINFO\u001b[1;0m - Found 578733 integrated fact metadata rows.\n",
      "2023-07-14 09:38:58,241 - \u001b[1;32mINFO\u001b[1;0m - Collecting strings from /home/pamessina/medvqa-workspace/cache/mimiccxr/openai/gpt-3.5-turbo-0613_paraphrased_anatomical_locations__part1.jsonl...\n",
      "2023-07-14 09:38:58,373 - \u001b[1;32mINFO\u001b[1;0m - Found 9891 paraphrased anatomical locations.\n",
      "2023-07-14 09:38:58,463 - \u001b[1;32mINFO\u001b[1;0m - Collecting strings from /home/pamessina/medvqa-workspace/cache/mimiccxr/openai/gpt-3.5-turbo-0613_paraphrased_anatomical_locations__part2.jsonl...\n",
      "2023-07-14 09:38:58,592 - \u001b[1;32mINFO\u001b[1;0m - Found 9890 paraphrased anatomical locations.\n",
      "2023-07-14 09:38:59,462 - \u001b[1;32mINFO\u001b[1;0m - Collecting strings from /home/pamessina/medvqa-workspace/cache/mimiccxr/openai/gpt-3.5-turbo-16k-0613_paraphrased_anatomical_locations__part3.jsonl...\n",
      "2023-07-14 09:38:59,580 - \u001b[1;32mINFO\u001b[1;0m - Found 8511 paraphrased anatomical locations.\n",
      "2023-07-14 09:38:59,666 - \u001b[1;32mINFO\u001b[1;0m - Found 297669 unique anatomical locations.\n",
      "2023-07-14 09:39:00,981 - \u001b[1;32mINFO\u001b[1;0m - Collecting strings from /home/pamessina/medvqa-workspace/cache/mimiccxr/openai/gpt-3.5-turbo-0613_paraphrased_observations__two-or-more-words__part1.jsonl...\n",
      "2023-07-14 09:39:01,154 - \u001b[1;32mINFO\u001b[1;0m - Found 14993 paraphrased observations.\n",
      "2023-07-14 09:39:01,271 - \u001b[1;32mINFO\u001b[1;0m - Collecting strings from /home/pamessina/medvqa-workspace/cache/mimiccxr/openai/gpt-3.5-turbo-16k-0613_paraphrased_observations__two-or-more-words__part2.jsonl...\n",
      "2023-07-14 09:39:01,460 - \u001b[1;32mINFO\u001b[1;0m - Found 14971 paraphrased observations.\n",
      "2023-07-14 09:39:01,631 - \u001b[1;32mINFO\u001b[1;0m - Collecting strings from /home/pamessina/medvqa-workspace/cache/mimiccxr/openai/gpt-3.5-turbo-0613_paraphrased_observations__two-or-more-words__part3.jsonl...\n",
      "2023-07-14 09:39:01,787 - \u001b[1;32mINFO\u001b[1;0m - Found 14972 paraphrased observations.\n",
      "2023-07-14 09:39:01,915 - \u001b[1;32mINFO\u001b[1;0m - Collecting strings from /home/pamessina/medvqa-workspace/cache/mimiccxr/openai/gpt-3.5-turbo-16k-0613_paraphrased_observations__two-or-more-words__part4.jsonl...\n",
      "2023-07-14 09:39:02,104 - \u001b[1;32mINFO\u001b[1;0m - Found 14965 paraphrased observations.\n",
      "2023-07-14 09:39:03,226 - \u001b[1;32mINFO\u001b[1;0m - Found 1315702 unique observations.\n",
      "2023-07-14 09:39:10,691 - \u001b[1;32mINFO\u001b[1;0m - Found 1605733 unique sentences.\n",
      "2023-07-14 09:39:21,847 - \u001b[1;32mINFO\u001b[1;0m - Examples of anatomical locations:\n",
      "2023-07-14 09:39:21,848 - \u001b[1;32mINFO\u001b[1;0m - 0: '\n",
      "2023-07-14 09:39:21,848 - \u001b[1;32mINFO\u001b[1;0m - 33074: left lung midsection\n",
      "2023-07-14 09:39:21,848 - \u001b[1;32mINFO\u001b[1;0m - 66148: left mid- and lower zones\n",
      "2023-07-14 09:39:21,848 - \u001b[1;32mINFO\u001b[1;0m - 99222: fundus portion of the stomach\n",
      "2023-07-14 09:39:21,848 - \u001b[1;32mINFO\u001b[1;0m - 132296: right mid-lateral lung territory\n",
      "2023-07-14 09:39:21,848 - \u001b[1;32mINFO\u001b[1;0m - 165371: located on the backside of the graft\n",
      "2023-07-14 09:39:21,848 - \u001b[1;32mINFO\u001b[1;0m - 198445: lower pigtail catheter on the right side\n",
      "2023-07-14 09:39:21,848 - \u001b[1;32mINFO\u001b[1;0m - 231519: outermost part of the right side of the chest\n",
      "2023-07-14 09:39:21,848 - \u001b[1;32mINFO\u001b[1;0m - 264593: lying on the first costochondral junction on the left\n",
      "2023-07-14 09:39:21,848 - \u001b[1;32mINFO\u001b[1;0m - 297668: overlying the region where the posterior part of the sixth rib on the left side overlaps with the anterior part of the fourth rib on the left side\n",
      "2023-07-14 09:39:21,848 - \u001b[1;32mINFO\u001b[1;0m - Examples of observations:\n",
      "2023-07-14 09:39:21,848 - \u001b[1;32mINFO\u001b[1;0m - 0: 2\n",
      "2023-07-14 09:39:21,848 - \u001b[1;32mINFO\u001b[1;0m - 146189: persistent marked scoliosis\n",
      "2023-07-14 09:39:21,848 - \u001b[1;32mINFO\u001b[1;0m - 292378: persistent splenic calcifications\n",
      "2023-07-14 09:39:21,848 - \u001b[1;32mINFO\u001b[1;0m - 438567: linear lucency in the lower right lung\n",
      "2023-07-14 09:39:21,849 - \u001b[1;32mINFO\u001b[1;0m - 584756: prior proximal right humeral rib fractures\n",
      "2023-07-14 09:39:21,849 - \u001b[1;32mINFO\u001b[1;0m - 730945: acute flare-up of chronic respiratory condition\n",
      "2023-07-14 09:39:21,849 - \u001b[1;32mINFO\u001b[1;0m - 877134: small linear opacity probably due to focal scarring\n",
      "2023-07-14 09:39:21,849 - \u001b[1;32mINFO\u001b[1;0m - 1023323: right hemidiaphragm suspicious for right pneumoperitoneum\n",
      "2023-07-14 09:39:21,849 - \u001b[1;32mINFO\u001b[1;0m - 1169512: slightly increased pneumomediastinum alongside the left upper lobe\n",
      "2023-07-14 09:39:21,849 - \u001b[1;32mINFO\u001b[1;0m - 1315701: worsening of combined alveolar opacities in the bilateral asymmetrically distributed combined interstitial opacities in the bilateral asymmetrically distributed combined alveolar opacities in the bilateral asymmetrically distributed combined interstitial opacities\n",
      "2023-07-14 09:39:22,410 - \u001b[1;32mINFO\u001b[1;0m - Found precomputed sentence embeddings at /mnt/workspace/pamessina/medvqa-workspace/cache/mimiccxr/cxr_bert_sentence_embeddings(1605733,71051120).pkl. Loading...\n",
      "2023-07-14 09:39:23,723 - \u001b[1;32mINFO\u001b[1;0m - Found precomputed clusters at /mnt/workspace/pamessina/medvqa-workspace/cache/mimiccxr/clusters(100,100297669,1315702).pkl. Loading...\n",
      "2023-07-14 09:39:25,299 - \u001b[1;32mINFO\u001b[1;0m - ============================================================\n",
      "2023-07-14 09:39:25,299 - \u001b[1;32mINFO\u001b[1;0m - Sampling triplets for anatomical locations...\n",
      "2023-07-14 09:39:25,299 - \u001b[1;32mINFO\u001b[1;0m - ---------------------------------------\n",
      "Rule 1: \"Rank paraphrases very highly\"\n",
      "  0%|                                                 | 0/28292 [00:00<?, ?it/s]2023-07-14 09:39:25,302 - \u001b[1;33mWARNING\u001b[1;0m - No paraphrases found for \"end\". Skipping...\n",
      "  7%|██▌                                 | 2055/28292 [00:02<00:25, 1027.49it/s]2023-07-14 09:39:27,813 - \u001b[1;33mWARNING\u001b[1;0m - No paraphrases found for \"both locations\". Skipping...\n",
      " 64%|██████████████████████▎            | 18026/28292 [00:14<00:07, 1310.31it/s]2023-07-14 09:39:41,268 - \u001b[1;33mWARNING\u001b[1;0m - No paraphrases found for \"right mid to upper lung laterally\". Skipping...\n",
      "100%|███████████████████████████████████| 28292/28292 [00:21<00:00, 1289.21it/s]\n",
      "2023-07-14 09:39:47,247 - \u001b[1;32mINFO\u001b[1;0m - Actual number of triplets sampled for Rule 1: \"Rank paraphrases very highly\": 1504826\n",
      "2023-07-14 09:39:47,247 - \u001b[1;32mINFO\u001b[1;0m - ---------------------------------------\n",
      "Rule 1.1: \"Rank paraphrases very highly - Hard negative\"\n",
      "  0%|                                                 | 0/28292 [00:00<?, ?it/s]2023-07-14 09:39:47,248 - \u001b[1;33mWARNING\u001b[1;0m - No paraphrases found for \"end\". Skipping...\n",
      "  5%|█▊                                   | 1396/28292 [00:02<00:38, 697.96it/s]2023-07-14 09:39:50,625 - \u001b[1;33mWARNING\u001b[1;0m - No paraphrases found for \"both locations\". Skipping...\n",
      " 70%|████████████████████████▋          | 19913/28292 [00:20<00:08, 1002.75it/s]2023-07-14 09:40:08,018 - \u001b[1;33mWARNING\u001b[1;0m - No paraphrases found for \"right mid to upper lung laterally\". Skipping...\n",
      "100%|███████████████████████████████████| 28292/28292 [00:28<00:00, 1008.39it/s]\n",
      "2023-07-14 09:40:15,304 - \u001b[1;32mINFO\u001b[1;0m - Actual number of triplets sampled for Rule 1.1: \"Rank paraphrases very highly - Hard negative\": 1494278\n",
      "2023-07-14 09:40:15,304 - \u001b[1;32mINFO\u001b[1;0m - ---------------------------------------\n",
      "Rule 2: \"Rank some triplets according to CXR-BERT and Leveinshtein consensus\"\n",
      "100%|██████████████████████████████████| 297669/297669 [05:08<00:00, 964.03it/s]\n",
      "2023-07-14 09:45:24,080 - \u001b[1;32mINFO\u001b[1;0m - Actual number of triplets sampled for Rule 2: \"Rank some triplets according to CXR-BERT and Leveinshtein consensus\": 1315916\n",
      "2023-07-14 09:45:24,080 - \u001b[1;32mINFO\u001b[1;0m - ============================================================\n",
      "2023-07-14 09:45:24,080 - \u001b[1;32mINFO\u001b[1;0m - Sampling triplets for observations...\n",
      "2023-07-14 09:45:24,080 - \u001b[1;32mINFO\u001b[1;0m - ---------------------------------------\n",
      "Rule 1: \"Rank paraphrases very highly\"\n",
      "100%|████████████████████████████████████| 59901/59901 [01:09<00:00, 864.02it/s]\n",
      "2023-07-14 09:46:33,410 - \u001b[1;32mINFO\u001b[1;0m - Actual number of triplets sampled for Rule 1: \"Rank paraphrases very highly\": 5383418\n",
      "2023-07-14 09:46:33,410 - \u001b[1;32mINFO\u001b[1;0m - ---------------------------------------\n",
      "Rule 1.1: \"Rank paraphrases very highly - Hard negative\"\n"
     ]
    },
    {
     "name": "stdout",
     "output_type": "stream",
     "text": [
      "100%|████████████████████████████████████| 59901/59901 [01:19<00:00, 754.33it/s]\n",
      "2023-07-14 09:47:52,820 - \u001b[1;32mINFO\u001b[1;0m - Actual number of triplets sampled for Rule 1.1: \"Rank paraphrases very highly - Hard negative\": 5373063\n",
      "2023-07-14 09:47:52,820 - \u001b[1;32mINFO\u001b[1;0m - ---------------------------------------\n",
      "2023-07-14 09:47:55,925 - \u001b[1;32mINFO\u001b[1;0m - len(hs2id): 7\n",
      "2023-07-14 09:47:55,925 - \u001b[1;32mINFO\u001b[1;0m - hs2id: {'ambiguous': 0, 'abnormal': 1, 'unknown': 2, 'normal': 3, 'resolved': 4, 'improved': 5, '': 6}\n",
      "2023-07-14 09:47:57,605 - \u001b[1;32mINFO\u001b[1;0m - Number of observations for each health status:\n",
      "2023-07-14 09:47:57,605 - \u001b[1;32mINFO\u001b[1;0m - 669229 observations with health status \"abnormal\"\n",
      "2023-07-14 09:47:57,605 - \u001b[1;32mINFO\u001b[1;0m - 392492 observations with health status \"unknown\"\n",
      "2023-07-14 09:47:57,605 - \u001b[1;32mINFO\u001b[1;0m - 164968 observations with health status \"normal\"\n",
      "2023-07-14 09:47:57,605 - \u001b[1;32mINFO\u001b[1;0m - 88490 observations with health status \"ambiguous\"\n",
      "2023-07-14 09:47:57,605 - \u001b[1;32mINFO\u001b[1;0m - 463 observations with health status \"\"\n",
      "2023-07-14 09:47:57,605 - \u001b[1;32mINFO\u001b[1;0m - 52 observations with health status \"improved\"\n",
      "2023-07-14 09:47:57,605 - \u001b[1;32mINFO\u001b[1;0m - 8 observations with health status \"resolved\"\n",
      "2023-07-14 09:48:00,822 - \u001b[1;32mINFO\u001b[1;0m - len(hsid_cid_2_obs_idxs): 469\n",
      "2023-07-14 09:48:00,823 - \u001b[1;32mINFO\u001b[1;0m - len(obs_idx_2_hsid_cid): 1315702\n",
      "Rule 2: \"Rank some triplets according to CXR-BERT and Leveinshtein consensus, while anchor and positive share the same health status\"\n",
      "100%|███████████████████████████████| 1315702/1315702 [20:09<00:00, 1087.80it/s]\n",
      "2023-07-14 10:08:10,326 - \u001b[1;32mINFO\u001b[1;0m - Actual number of triplets sampled for Rule 2: \"Rank some triplets according to CXR-BERT and Leveinshtein consensus, while anchor and positive share the same health status\": 4440769\n",
      "2023-07-14 10:08:10,326 - \u001b[1;32mINFO\u001b[1;0m - ---------------------------------------\n",
      "Rule 3: \"Hard health-status-vs-others triplets\"\n",
      "n_triplets_per_iter: 84\n",
      "100%|████████████████████████████████████| 59901/59901 [02:45<00:00, 361.60it/s]\n",
      "2023-07-14 10:10:55,981 - \u001b[1;32mINFO\u001b[1;0m - Actual number of triplets sampled for Rule 3: \"Hard health-status-vs-others triplets\": 4910133\n",
      "2023-07-14 10:10:55,981 - \u001b[1;32mINFO\u001b[1;0m - Extracting triplets for validation set...\n",
      "2023-07-14 10:11:37,372 - \u001b[1;32mINFO\u001b[1;0m - Saving triplets to /mnt/workspace/pamessina/medvqa-workspace/cache/mimiccxr/triplets(1605733,297669,1315702,4001000,20002000,1000,2000).pkl...\n",
      "2023-07-14 10:11:39,087 - \u001b[1;32mINFO\u001b[1;0m - Done!\n"
     ]
    }
   ],
   "source": [
    "!python ../../scripts/mimiccxr/sample_triplets_for_fact_embedding_learning.py \\\n",
    "    --paraphrased_anatomical_locations_filepaths \\\n",
    "        \"/home/pamessina/medvqa-workspace/cache/mimiccxr/openai/gpt-3.5-turbo-0613_paraphrased_anatomical_locations__part1.jsonl\" \\\n",
    "        \"/home/pamessina/medvqa-workspace/cache/mimiccxr/openai/gpt-3.5-turbo-0613_paraphrased_anatomical_locations__part2.jsonl\" \\\n",
    "        \"/home/pamessina/medvqa-workspace/cache/mimiccxr/openai/gpt-3.5-turbo-16k-0613_paraphrased_anatomical_locations__part3.jsonl\" \\\n",
    "    --paraphrased_observations_filepaths \\\n",
    "        \"/home/pamessina/medvqa-workspace/cache/mimiccxr/openai/gpt-3.5-turbo-0613_paraphrased_observations__two-or-more-words__part1.jsonl\" \\\n",
    "        \"/home/pamessina/medvqa-workspace/cache/mimiccxr/openai/gpt-3.5-turbo-16k-0613_paraphrased_observations__two-or-more-words__part2.jsonl\" \\\n",
    "        \"/home/pamessina/medvqa-workspace/cache/mimiccxr/openai/gpt-3.5-turbo-0613_paraphrased_observations__two-or-more-words__part3.jsonl\" \\\n",
    "        \"/home/pamessina/medvqa-workspace/cache/mimiccxr/openai/gpt-3.5-turbo-16k-0613_paraphrased_observations__two-or-more-words__part4.jsonl\" \\\n",
    "    --integrated_fact_metadata_filepath \\\n",
    "        \"/home/pamessina/medvqa-workspace/cache/mimiccxr/integrated_fact_metadata(578733,58628071).jsonl\" \\\n",
    "    --num_anatloc_clusters 100 \\\n",
    "    --num_obs_clusters 100 \\\n",
    "    --num_train_anatloc_triplets 4000000 \\\n",
    "    --num_train_obs_triplets 20000000 \\\n",
    "    --num_val_anatloc_triplets 1000 \\\n",
    "    --num_val_obs_triplets 2000 \\\n",
    "    --batch_size 450 \\\n",
    "    --num_workers 10"
   ]
  },
  {
   "cell_type": "code",
   "execution_count": 3,
   "id": "dbd9615f",
   "metadata": {},
   "outputs": [],
   "source": [
    "from medvqa.utils.files import load_pickle"
   ]
  },
  {
   "cell_type": "code",
   "execution_count": 5,
   "id": "f1b0ef09",
   "metadata": {},
   "outputs": [
    {
     "name": "stdout",
     "output_type": "stream",
     "text": [
      "-rw-rw-r-- 1 pamessina socvis 857M Jul 13 10:07 '/mnt/workspace/pamessina/medvqa-workspace/cache/mimiccxr/cxr_bert_sentence_embeddings(1605733,71051120).pkl'\r\n"
     ]
    }
   ],
   "source": [
    "!ls -lh '/mnt/workspace/pamessina/medvqa-workspace/cache/mimiccxr/cxr_bert_sentence_embeddings(1605733,71051120).pkl'"
   ]
  },
  {
   "cell_type": "code",
   "execution_count": 4,
   "id": "175969d1",
   "metadata": {},
   "outputs": [],
   "source": [
    "sentence_embeddings = load_pickle('/mnt/workspace/pamessina/medvqa-workspace/cache/mimiccxr/cxr_bert_sentence_embeddings(1605733,71051120).pkl')"
   ]
  },
  {
   "cell_type": "code",
   "execution_count": 8,
   "id": "de0d5839",
   "metadata": {},
   "outputs": [
    {
     "name": "stdout",
     "output_type": "stream",
     "text": [
      "dict_keys(['sentences', 'embeddings'])\n",
      "1605733\n",
      "(1605733, 128)\n"
     ]
    }
   ],
   "source": [
    "print(sentence_embeddings.keys())\n",
    "print(len(sentence_embeddings['sentences']))\n",
    "print(sentence_embeddings['embeddings'].shape)"
   ]
  },
  {
   "cell_type": "code",
   "execution_count": 11,
   "id": "999a9b31",
   "metadata": {},
   "outputs": [],
   "source": [
    "from medvqa.utils.math import rank_vectors_by_dot_product"
   ]
  },
  {
   "cell_type": "code",
   "execution_count": 9,
   "id": "2d29d883",
   "metadata": {},
   "outputs": [],
   "source": [
    "query_idx = sentence_embeddings['sentences'].index('minimal radiolucency adjacent to the lateral aspect of the aortic knob')"
   ]
  },
  {
   "cell_type": "code",
   "execution_count": 12,
   "id": "0a6d27ee",
   "metadata": {},
   "outputs": [],
   "source": [
    "indices = rank_vectors_by_dot_product(sentence_embeddings['embeddings'], sentence_embeddings['embeddings'][query_idx])"
   ]
  },
  {
   "cell_type": "code",
   "execution_count": 14,
   "id": "fe2af9ec",
   "metadata": {},
   "outputs": [
    {
     "name": "stdout",
     "output_type": "stream",
     "text": [
      "minimal radiolucency adjacent to the lateral aspect of the aortic knob\n",
      "vascular stents in the region of the right upper arm\n",
      "calcified vessels projecting over the right portion of the mediastinum\n",
      "no focal lung abnormality\n",
      "no specific abnormality in the lungs\n",
      "no concentrated lung shadowing\n",
      "calcified vessels observed over the right aspect of the mediastinum\n",
      "vascular stents in the axilla\n",
      "no evident skeletal abnormality\n",
      "possible coronary stent\n",
      "no sharpness of the descending aorta\n",
      "no significant abnormal findings\n",
      "no evidence of acute consolidation in the heart or lungs\n",
      "opacity previously seen in the retrocardiac region is no longer evident\n",
      "region at the top of the sternum\n",
      "right carotid artery branching spot\n",
      "site of the previously identified subclavian pseudoaneurysm\n",
      "calcific tendinosis in the right supraspinatus tendon\n",
      "major artery in the axillary region\n",
      "calcification adjacent to the left of the trachea\n"
     ]
    }
   ],
   "source": [
    "for i in indices[:20]:\n",
    "    print(sentence_embeddings['sentences'][i])"
   ]
  },
  {
   "cell_type": "code",
   "execution_count": 15,
   "id": "0bbe6d3e",
   "metadata": {},
   "outputs": [
    {
     "name": "stdout",
     "output_type": "stream",
     "text": [
      "-rw-rw-r-- 1 pamessina socvis 378M Jul 14 01:34 '/mnt/workspace/pamessina/medvqa-workspace/cache/mimiccxr/triplets(1605733,297669,1315702,2500500,10002000,500,2000).pkl'\r\n"
     ]
    }
   ],
   "source": [
    "!ls -lh \"/mnt/workspace/pamessina/medvqa-workspace/cache/mimiccxr/triplets(1605733,297669,1315702,2500500,10002000,500,2000).pkl\""
   ]
  },
  {
   "cell_type": "code",
   "execution_count": 16,
   "id": "bbe4de06",
   "metadata": {},
   "outputs": [],
   "source": [
    "triplets = load_pickle('/mnt/workspace/pamessina/medvqa-workspace/cache/mimiccxr/triplets(1605733,297669,1315702,2500500,10002000,500,2000).pkl')"
   ]
  },
  {
   "cell_type": "code",
   "execution_count": 17,
   "id": "8db96ef9",
   "metadata": {},
   "outputs": [
    {
     "data": {
      "text/plain": [
       "dict_keys(['sentences', 'train', 'val'])"
      ]
     },
     "execution_count": 17,
     "metadata": {},
     "output_type": "execute_result"
    }
   ],
   "source": [
    "triplets.keys()"
   ]
  },
  {
   "cell_type": "code",
   "execution_count": 21,
   "id": "8b7cc2d3",
   "metadata": {},
   "outputs": [],
   "source": [
    "def _print_triplet(t):\n",
    "    print('A:', triplets['sentences'][t[0]])\n",
    "    print('P:', triplets['sentences'][t[1]])\n",
    "    print('N:', triplets['sentences'][t[2]])"
   ]
  },
  {
   "cell_type": "code",
   "execution_count": 53,
   "id": "60f278eb",
   "metadata": {},
   "outputs": [
    {
     "name": "stdout",
     "output_type": "stream",
     "text": [
      "Rank paraphrases very highly - Hard negative\n"
     ]
    },
    {
     "data": {
      "text/plain": [
       "964415"
      ]
     },
     "execution_count": 53,
     "metadata": {},
     "output_type": "execute_result"
    }
   ],
   "source": [
    "ridx = 1\n",
    "print(triplets['train']['anatomical_locations'][ridx]['rule'])\n",
    "aux = triplets['train']['anatomical_locations'][ridx]['triplets']\n",
    "len(aux)"
   ]
  },
  {
   "cell_type": "code",
   "execution_count": 55,
   "id": "2af485ce",
   "metadata": {},
   "outputs": [
    {
     "name": "stdout",
     "output_type": "stream",
     "text": [
      "A: mediastinum surfaces\n",
      "P: mediastinal sides\n",
      "N: at this specific site in the body\n"
     ]
    }
   ],
   "source": [
    "import random\n",
    "_print_triplet(random.choice(aux))"
   ]
  },
  {
   "cell_type": "code",
   "execution_count": 37,
   "id": "6838411d",
   "metadata": {},
   "outputs": [],
   "source": [
    "import numpy as np\n",
    "\n",
    "def dot_product_triplets_accuracy(vectors, A, P, N):\n",
    "    A = vectors[A]\n",
    "    P = vectors[P]\n",
    "    N = vectors[N]\n",
    "    AP = np.sum(A * P, axis=1)\n",
    "    AN = np.sum(A * N, axis=1)\n",
    "    return np.mean(AP > AN)"
   ]
  },
  {
   "cell_type": "code",
   "execution_count": 52,
   "id": "7e723ac6",
   "metadata": {},
   "outputs": [
    {
     "name": "stdout",
     "output_type": "stream",
     "text": [
      "Rank some triplets according to CXR-BERT and Leveinshtein consensus\n"
     ]
    },
    {
     "data": {
      "text/plain": [
       "1.0"
      ]
     },
     "execution_count": 52,
     "metadata": {},
     "output_type": "execute_result"
    }
   ],
   "source": [
    "ridx = 2\n",
    "split = 'val'\n",
    "category  = 'anatomical_locations'\n",
    "\n",
    "print(triplets[split][category][ridx]['rule'])\n",
    "\n",
    "A = triplets[split][category][ridx]['triplets'].T[0]\n",
    "P = triplets[split][category][ridx]['triplets'].T[1]\n",
    "N = triplets[split][category][ridx]['triplets'].T[2]\n",
    "\n",
    "dot_product_triplets_accuracy(sentence_embeddings['embeddings'], A, P, N)"
   ]
  },
  {
   "cell_type": "code",
   "execution_count": 56,
   "id": "7d2aace4",
   "metadata": {},
   "outputs": [],
   "source": [
    "clusters = load_pickle('/mnt/workspace/pamessina/medvqa-workspace/cache/mimiccxr/clusters(100,100297669,1315702).pkl')"
   ]
  },
  {
   "cell_type": "code",
   "execution_count": 57,
   "id": "d8f98b1e",
   "metadata": {},
   "outputs": [
    {
     "data": {
      "text/plain": [
       "dict_keys(['indices', 'clusters'])"
      ]
     },
     "execution_count": 57,
     "metadata": {},
     "output_type": "execute_result"
    }
   ],
   "source": [
    "clusters['anatomical_locations'].keys()"
   ]
  },
  {
   "cell_type": "code",
   "execution_count": 58,
   "id": "358dc4ee",
   "metadata": {},
   "outputs": [],
   "source": [
    "anatloc_cluster2indices = [[] for _ in range(max(clusters['anatomical_locations']['clusters'])+1)]\n",
    "for cid, idx in zip(clusters['anatomical_locations']['clusters'], clusters['anatomical_locations']['indices']):\n",
    "    anatloc_cluster2indices[cid].append(idx)"
   ]
  },
  {
   "cell_type": "code",
   "execution_count": 59,
   "id": "52803305",
   "metadata": {},
   "outputs": [
    {
     "data": {
      "text/plain": [
       "100"
      ]
     },
     "execution_count": 59,
     "metadata": {},
     "output_type": "execute_result"
    }
   ],
   "source": [
    "len(anatloc_cluster2indices)"
   ]
  },
  {
   "cell_type": "code",
   "execution_count": 60,
   "id": "8775a1b2",
   "metadata": {},
   "outputs": [],
   "source": [
    "obs_cluster2indices = [[] for _ in range(max(clusters['observations']['clusters'])+1)]\n",
    "for cid, idx in zip(clusters['observations']['clusters'], clusters['observations']['indices']):\n",
    "    obs_cluster2indices[cid].append(idx)"
   ]
  },
  {
   "cell_type": "code",
   "execution_count": 61,
   "id": "8a5a945a",
   "metadata": {},
   "outputs": [
    {
     "data": {
      "text/plain": [
       "100"
      ]
     },
     "execution_count": 61,
     "metadata": {},
     "output_type": "execute_result"
    }
   ],
   "source": [
    "len(obs_cluster2indices)"
   ]
  },
  {
   "cell_type": "code",
   "execution_count": 62,
   "id": "4ef981c0",
   "metadata": {},
   "outputs": [],
   "source": [
    "import matplotlib.pyplot as plt"
   ]
  },
  {
   "cell_type": "code",
   "execution_count": 63,
   "id": "394754c6",
   "metadata": {},
   "outputs": [
    {
     "data": {
      "image/png": "[encoded data removed]",
      "text/plain": [
       "<Figure size 640x480 with 1 Axes>"
      ]
     },
     "metadata": {},
     "output_type": "display_data"
    }
   ],
   "source": [
    "plt.hist([len(x) for x in anatloc_cluster2indices], bins=100)\n",
    "plt.show()"
   ]
  },
  {
   "cell_type": "code",
   "execution_count": 64,
   "id": "33616072",
   "metadata": {},
   "outputs": [
    {
     "data": {
      "image/png": "[encoded data removed]",
      "text/plain": [
       "<Figure size 640x480 with 1 Axes>"
      ]
     },
     "metadata": {},
     "output_type": "display_data"
    }
   ],
   "source": [
    "plt.hist([len(x) for x in obs_cluster2indices], bins=100)\n",
    "plt.show()"
   ]
  },
  {
   "cell_type": "code",
   "execution_count": 66,
   "id": "1cb239eb",
   "metadata": {},
   "outputs": [
    {
     "name": "stdout",
     "output_type": "stream",
     "text": [
      "right lateral aspect of the previously identified basilar pneumothorax\n",
      "superior right thoracic cavity\n",
      "right lung's superior aspect after surgery\n",
      "right chest wall in the lower area\n",
      "right-sided subcutaneous catheter\n",
      "right lung at the fifth intercostal notch\n",
      "right lateral space\n",
      "right lower mid chest compartment\n",
      "right lateral chest wall lower\n",
      "right upper lateral hemithoracic compartment\n",
      "lower in position compared to the right apical opacity\n",
      "remnant of the right upper lobe bronchus\n",
      "right chest walls\n",
      "located in front of the right major fissure\n",
      "upper apical area of the right hemithorax\n",
      "right lower chest wall lateral area\n",
      "right chest wall below the skin\n",
      "pleural membrane at the apex of the right lung\n",
      "right apical subpleural\n",
      "right hemithoracic apicolateral aspects\n"
     ]
    }
   ],
   "source": [
    "import random\n",
    "\n",
    "cid = 6\n",
    "for i in random.sample(anatloc_cluster2indices[cid], 20):\n",
    "    print(sentence_embeddings['sentences'][i])"
   ]
  },
  {
   "cell_type": "code",
   "execution_count": 67,
   "id": "7545795a",
   "metadata": {},
   "outputs": [
    {
     "name": "stdout",
     "output_type": "stream",
     "text": [
      "truncation of the right lateral collarbone\n",
      "degenerative changes at the right bilateral acromioclavicular joints\n",
      "rule out pneumonia\n",
      "possibility of small airways disease\n",
      "subtle opacity over left fourth rib\n",
      "lucency anteriorly on the previous lateral view\n",
      "probable innocuous calcified granuloma\n",
      "nodular opacification in the retrosternal region on the lateral view\n",
      "8-mm possible pulmonary nodule\n",
      "no consolidative opacity on the lateral view\n",
      "potential calcified granuloma\n",
      "minimal peribronchiolar opacities in the right infrahilar region\n",
      "small deviation of the fracture in the right posterolateral seventh rib\n",
      "exhibiting a posterior projection on the lateral view\n",
      "degenerative abnormalities of the AC joint in both shoulders\n",
      "no vertebral body depression fracture\n",
      "slight opacity in the outer region of the upper half of the chest\n",
      "likelihood of an enlarged thyroid gland on the right side\n",
      "nodular shadows projecting over the right anterior fifth rib\n",
      "subtle ovoid 7-8 mm nodular opacity projecting over the right lung base\n"
     ]
    }
   ],
   "source": [
    "cid = 6\n",
    "for i in random.sample(obs_cluster2indices[cid], 20):\n",
    "    print(sentence_embeddings['sentences'][i])"
   ]
  }
 ],
 "metadata": {
  "kernelspec": {
   "display_name": "venv2",
   "language": "python",
   "name": "venv2"
  },
  "language_info": {
   "codemirror_mode": {
    "name": "ipython",
    "version": 3
   },
   "file_extension": ".py",
   "mimetype": "text/x-python",
   "name": "python",
   "nbconvert_exporter": "python",
   "pygments_lexer": "ipython3",
   "version": "3.10.10"
  }
 },
 "nbformat": 4,
 "nbformat_minor": 5
}
