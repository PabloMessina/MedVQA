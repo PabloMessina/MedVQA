{
 "cells": [
  {
   "cell_type": "code",
   "execution_count": 2,
   "id": "900b94c1",
   "metadata": {},
   "outputs": [],
   "source": [
    "from transformers import AutoTokenizer"
   ]
  },
  {
   "cell_type": "code",
   "execution_count": 1,
   "id": "ebb7ddf6",
   "metadata": {},
   "outputs": [],
   "source": [
    "from medvqa.datasets.radgraph.spert_dataset import JsonInputReader"
   ]
  },
  {
   "cell_type": "code",
   "execution_count": 3,
   "id": "fcd345ba",
   "metadata": {},
   "outputs": [
    {
     "name": "stderr",
     "output_type": "stream",
     "text": [
      "Explicitly passing a `revision` is encouraged when loading a model with custom code to ensure no malicious code has been contributed in a newer revision.\n"
     ]
    }
   ],
   "source": [
    "tokenizer = AutoTokenizer.from_pretrained('microsoft/BiomedVLP-CXR-BERT-specialized', trust_remote_code=True)"
   ]
  },
  {
   "cell_type": "code",
   "execution_count": 8,
   "id": "c02ffd54",
   "metadata": {},
   "outputs": [],
   "source": [
    "from medvqa.utils.files import load_json"
   ]
  },
  {
   "cell_type": "code",
   "execution_count": 16,
   "id": "84fd2731",
   "metadata": {},
   "outputs": [
    {
     "name": "stdout",
     "output_type": "stream",
     "text": [
      "dev.json  prediction_example.json  test.json  train.json  types.json\r\n"
     ]
    }
   ],
   "source": [
    "!ls /home/pamessina/radgraph_conllformat/radgraph/train.json"
   ]
  },
  {
   "cell_type": "code",
   "execution_count": 17,
   "id": "3268ae70",
   "metadata": {},
   "outputs": [],
   "source": [
    "train_data = load_json('/home/pamessina/radgraph_conllformat/radgraph/train.json')"
   ]
  },
  {
   "cell_type": "code",
   "execution_count": 32,
   "id": "777a0fed",
   "metadata": {},
   "outputs": [
    {
     "data": {
      "text/plain": [
       "{'tokens': ['FINAL',\n",
       "  'REPORT',\n",
       "  'INDICATION',\n",
       "  ':',\n",
       "  '___',\n",
       "  'year',\n",
       "  'old',\n",
       "  'woman',\n",
       "  'with',\n",
       "  'SAH',\n",
       "  ',',\n",
       "  'intubated',\n",
       "  '/',\n",
       "  '/',\n",
       "  'serial',\n",
       "  'exam',\n",
       "  'TECHNIQUE',\n",
       "  ':',\n",
       "  'Chest',\n",
       "  'PA',\n",
       "  'and',\n",
       "  'lateral',\n",
       "  'COMPARISON',\n",
       "  ':',\n",
       "  'Chest',\n",
       "  'radiograph',\n",
       "  'from',\n",
       "  '___',\n",
       "  'FINDINGS',\n",
       "  ':',\n",
       "  'The',\n",
       "  'lung',\n",
       "  'volumes',\n",
       "  'are',\n",
       "  'stable',\n",
       "  '.',\n",
       "  'The',\n",
       "  'cardiomediastinal',\n",
       "  'and',\n",
       "  'hilar',\n",
       "  'contours',\n",
       "  'are',\n",
       "  'normal',\n",
       "  '.',\n",
       "  'The',\n",
       "  'pleural',\n",
       "  'surfaces',\n",
       "  'are',\n",
       "  'normal',\n",
       "  '.',\n",
       "  'The',\n",
       "  'ET',\n",
       "  'tube',\n",
       "  'terminates',\n",
       "  'approximately',\n",
       "  '1.8',\n",
       "  'cm',\n",
       "  'from',\n",
       "  'the',\n",
       "  'carina',\n",
       "  '.',\n",
       "  'The',\n",
       "  'NG',\n",
       "  'tube',\n",
       "  'appears',\n",
       "  'to',\n",
       "  'be',\n",
       "  'near',\n",
       "  'the',\n",
       "  'esophagogastric',\n",
       "  'junction',\n",
       "  'or',\n",
       "  'barely',\n",
       "  'in',\n",
       "  'the',\n",
       "  'proximal',\n",
       "  'stomach',\n",
       "  'and',\n",
       "  'the',\n",
       "  'side',\n",
       "  'ports',\n",
       "  'are',\n",
       "  'approximately',\n",
       "  '12',\n",
       "  'cm',\n",
       "  'from',\n",
       "  'the',\n",
       "  'mid',\n",
       "  'stomach',\n",
       "  '.',\n",
       "  'IMPRESSION',\n",
       "  ':',\n",
       "  'ET',\n",
       "  'tube',\n",
       "  'is',\n",
       "  'approximately',\n",
       "  '2',\n",
       "  'cm',\n",
       "  'from',\n",
       "  'the',\n",
       "  'carina',\n",
       "  'and',\n",
       "  'should',\n",
       "  'be',\n",
       "  'withdrawn',\n",
       "  'approximately',\n",
       "  '3',\n",
       "  'cm',\n",
       "  '.',\n",
       "  'NG',\n",
       "  'tube',\n",
       "  'is',\n",
       "  'malpositioned',\n",
       "  'and',\n",
       "  'should',\n",
       "  'be',\n",
       "  'advanced',\n",
       "  'approximately',\n",
       "  '12',\n",
       "  'cm',\n",
       "  '.'],\n",
       " 'entities': [{'type': 'ANAT-DP', 'start': 31, 'end': 32},\n",
       "  {'type': 'ANAT-DP', 'start': 32, 'end': 33},\n",
       "  {'type': 'OBS-DP', 'start': 34, 'end': 35},\n",
       "  {'type': 'ANAT-DP', 'start': 37, 'end': 38},\n",
       "  {'type': 'ANAT-DP', 'start': 39, 'end': 40},\n",
       "  {'type': 'ANAT-DP', 'start': 40, 'end': 41},\n",
       "  {'type': 'OBS-DP', 'start': 42, 'end': 43},\n",
       "  {'type': 'ANAT-DP', 'start': 45, 'end': 46},\n",
       "  {'type': 'ANAT-DP', 'start': 46, 'end': 47},\n",
       "  {'type': 'OBS-DP', 'start': 48, 'end': 49},\n",
       "  {'type': 'OBS-DP', 'start': 51, 'end': 52},\n",
       "  {'type': 'OBS-DP', 'start': 52, 'end': 53},\n",
       "  {'type': 'ANAT-DP', 'start': 54, 'end': 57},\n",
       "  {'type': 'ANAT-DP', 'start': 59, 'end': 60},\n",
       "  {'type': 'OBS-DP', 'start': 62, 'end': 63},\n",
       "  {'type': 'OBS-DP', 'start': 63, 'end': 64},\n",
       "  {'type': 'ANAT-DP', 'start': 67, 'end': 68},\n",
       "  {'type': 'ANAT-DP', 'start': 69, 'end': 70},\n",
       "  {'type': 'ANAT-DP', 'start': 70, 'end': 71},\n",
       "  {'type': 'ANAT-DP', 'start': 72, 'end': 73},\n",
       "  {'type': 'ANAT-DP', 'start': 75, 'end': 76},\n",
       "  {'type': 'ANAT-DP', 'start': 76, 'end': 77},\n",
       "  {'type': 'OBS-DP', 'start': 79, 'end': 81},\n",
       "  {'type': 'ANAT-DP', 'start': 82, 'end': 85},\n",
       "  {'type': 'ANAT-DP', 'start': 87, 'end': 88},\n",
       "  {'type': 'ANAT-DP', 'start': 88, 'end': 89},\n",
       "  {'type': 'OBS-DP', 'start': 92, 'end': 93},\n",
       "  {'type': 'OBS-DP', 'start': 93, 'end': 94},\n",
       "  {'type': 'ANAT-DP', 'start': 95, 'end': 98},\n",
       "  {'type': 'ANAT-DP', 'start': 100, 'end': 101},\n",
       "  {'type': 'OBS-DP', 'start': 109, 'end': 110},\n",
       "  {'type': 'OBS-DP', 'start': 110, 'end': 111},\n",
       "  {'type': 'OBS-DP', 'start': 112, 'end': 113}],\n",
       " 'relations': [{'type': 'modify', 'head': 1, 'tail': 0},\n",
       "  {'type': 'located_at', 'head': 2, 'tail': 0},\n",
       "  {'type': 'modify', 'head': 5, 'tail': 3},\n",
       "  {'type': 'modify', 'head': 5, 'tail': 4},\n",
       "  {'type': 'located_at', 'head': 6, 'tail': 3},\n",
       "  {'type': 'located_at', 'head': 6, 'tail': 4},\n",
       "  {'type': 'modify', 'head': 8, 'tail': 7},\n",
       "  {'type': 'located_at', 'head': 9, 'tail': 7},\n",
       "  {'type': 'modify', 'head': 11, 'tail': 10},\n",
       "  {'type': 'located_at', 'head': 11, 'tail': 13},\n",
       "  {'type': 'modify', 'head': 12, 'tail': 13},\n",
       "  {'type': 'modify', 'head': 14, 'tail': 15},\n",
       "  {'type': 'located_at', 'head': 15, 'tail': 17},\n",
       "  {'type': 'modify', 'head': 16, 'tail': 17},\n",
       "  {'type': 'modify', 'head': 18, 'tail': 17},\n",
       "  {'type': 'modify', 'head': 19, 'tail': 21},\n",
       "  {'type': 'modify', 'head': 20, 'tail': 21},\n",
       "  {'type': 'modify', 'head': 22, 'tail': 15},\n",
       "  {'type': 'located_at', 'head': 22, 'tail': 25},\n",
       "  {'type': 'modify', 'head': 23, 'tail': 25},\n",
       "  {'type': 'modify', 'head': 24, 'tail': 25},\n",
       "  {'type': 'modify', 'head': 26, 'tail': 27},\n",
       "  {'type': 'located_at', 'head': 27, 'tail': 29},\n",
       "  {'type': 'modify', 'head': 28, 'tail': 29},\n",
       "  {'type': 'modify', 'head': 31, 'tail': 30},\n",
       "  {'type': 'modify', 'head': 32, 'tail': 31}],\n",
       " 'orig_id': 5}"
      ]
     },
     "execution_count": 32,
     "metadata": {},
     "output_type": "execute_result"
    }
   ],
   "source": [
    "train_data[4]"
   ]
  },
  {
   "cell_type": "code",
   "execution_count": 9,
   "id": "e8750265",
   "metadata": {},
   "outputs": [],
   "source": [
    "tmp = load_json('/home/pamessina/radgraph_conllformat/radgraph/types.json')"
   ]
  },
  {
   "cell_type": "code",
   "execution_count": 46,
   "id": "2ebfc379",
   "metadata": {},
   "outputs": [
    {
     "data": {
      "text/plain": [
       "4"
      ]
     },
     "execution_count": 46,
     "metadata": {},
     "output_type": "execute_result"
    }
   ],
   "source": [
    "len(tmp['entities'])"
   ]
  },
  {
   "cell_type": "code",
   "execution_count": 44,
   "id": "9390c00a",
   "metadata": {},
   "outputs": [
    {
     "data": {
      "text/plain": [
       "3"
      ]
     },
     "execution_count": 44,
     "metadata": {},
     "output_type": "execute_result"
    }
   ],
   "source": [
    "tmp['relations']"
   ]
  },
  {
   "cell_type": "code",
   "execution_count": 14,
   "id": "87796659",
   "metadata": {},
   "outputs": [
    {
     "data": {
      "text/plain": [
       "{'located_at': {'short': 'located',\n",
       "  'verbose': 'located at',\n",
       "  'symmetric': False},\n",
       " 'modify': {'short': 'modify', 'verbose': 'modify', 'symmetric': False},\n",
       " 'suggestive_of': {'short': 'suggestive',\n",
       "  'verbose': 'suggestive of',\n",
       "  'symmetric': False}}"
      ]
     },
     "execution_count": 14,
     "metadata": {},
     "output_type": "execute_result"
    }
   ],
   "source": [
    "tmp['relations']"
   ]
  },
  {
   "cell_type": "code",
   "execution_count": 6,
   "id": "64d1a7dd",
   "metadata": {},
   "outputs": [
    {
     "name": "stdout",
     "output_type": "stream",
     "text": [
      "dev.json  prediction_example.json  test.json  train.json  types.json\r\n"
     ]
    }
   ],
   "source": [
    "!ls \"/home/pamessina/radgraph_conllformat/radgraph/types\""
   ]
  },
  {
   "cell_type": "code",
   "execution_count": 26,
   "id": "483dbd9c",
   "metadata": {},
   "outputs": [],
   "source": [
    "input_reader = JsonInputReader(\n",
    "    types_path='/home/pamessina/radgraph_conllformat/radgraph/types.json',\n",
    "    tokenizer=tokenizer,\n",
    "    neg_entity_count=100,\n",
    "    neg_rel_count=100,\n",
    "    max_span_size=10,\n",
    ")\n",
    "# train_dataset = input_reader.read(train_path, train_label)\n",
    "# validation_dataset = input_reader.read(valid_path, valid_label)"
   ]
  },
  {
   "cell_type": "code",
   "execution_count": 38,
   "id": "996e93bf",
   "metadata": {},
   "outputs": [
    {
     "data": {
      "text/plain": [
       "5"
      ]
     },
     "execution_count": 38,
     "metadata": {},
     "output_type": "execute_result"
    }
   ],
   "source": [
    "input_reader.entity_type_count"
   ]
  },
  {
   "cell_type": "code",
   "execution_count": 39,
   "id": "7ddde533",
   "metadata": {},
   "outputs": [
    {
     "data": {
      "text/plain": [
       "4"
      ]
     },
     "execution_count": 39,
     "metadata": {},
     "output_type": "execute_result"
    }
   ],
   "source": [
    "input_reader.relation_type_count"
   ]
  },
  {
   "cell_type": "code",
   "execution_count": 27,
   "id": "47566b10",
   "metadata": {},
   "outputs": [
    {
     "name": "stderr",
     "output_type": "stream",
     "text": [
      "Parse dataset 'train': 100%|██████████████████████████████████████████████████████████| 408/408 [00:05<00:00, 70.16it/s]\n"
     ]
    }
   ],
   "source": [
    "train_dataset = input_reader.read('/home/pamessina/radgraph_conllformat/radgraph/train.json', 'train')"
   ]
  },
  {
   "cell_type": "code",
   "execution_count": 43,
   "id": "457516ba",
   "metadata": {
    "scrolled": false
   },
   "outputs": [
    {
     "data": {
      "text/plain": [
       "{'encodings': tensor([    2,  3132,  2697,  2906,    30,  2649,    12,  4678,  2362,    13,\n",
       "          4210,    30,    41,    41,    41,  2035,  2758,  4839,  1719,  9633,\n",
       "            19,    19,  4912, 15416,  4912, 15416,  3822,    30,  2158,  1708,\n",
       "          2649,  7613,    41,    41,    41,    18,  2163,  2034,  2079,  8625,\n",
       "            18,  4596,  1823,  2782,    18,  2257, 10303,  1700,  9142, 23839,\n",
       "          1700,  3752,  6827,    18,     3]),\n",
       " 'context_masks': tensor([True, True, True, True, True, True, True, True, True, True, True, True,\n",
       "         True, True, True, True, True, True, True, True, True, True, True, True,\n",
       "         True, True, True, True, True, True, True, True, True, True, True, True,\n",
       "         True, True, True, True, True, True, True, True, True, True, True, True,\n",
       "         True, True, True, True, True, True, True]),\n",
       " 'entity_masks': tensor([[False, False, False,  ..., False, False, False],\n",
       "         [False, False, False,  ..., False, False, False],\n",
       "         [False, False, False,  ..., False, False, False],\n",
       "         ...,\n",
       "         [False, False, False,  ..., False, False, False],\n",
       "         [False, False, False,  ..., False, False, False],\n",
       "         [False, False, False,  ..., False, False, False]]),\n",
       " 'entity_sizes': tensor([ 1,  1,  1,  1,  1,  1,  1,  1,  1,  8,  1,  4, 10,  2,  2,  2,  8,  1,\n",
       "          3,  4, 10,  8,  4,  9,  4,  6,  9,  2,  1,  5,  1, 10,  3,  6,  2,  9,\n",
       "         10,  4,  3,  8, 10,  4,  9,  6,  1,  2,  4,  1,  2,  2,  8,  7,  9,  4,\n",
       "          9,  6,  2,  2,  2, 10,  2,  3,  4,  6,  6, 10,  5,  5,  2,  5,  6,  3,\n",
       "          9,  3,  7,  4,  9,  3,  2,  4,  1,  6,  5,  6,  1,  3,  1,  8,  3,  4,\n",
       "          8,  1,  8,  3,  6,  1,  7,  9,  4,  2,  5,  5, 10,  5,  2,  4,  5,  6]),\n",
       " 'entity_types': tensor([1, 2, 2, 1, 1, 1, 1, 1, 0, 0, 0, 0, 0, 0, 0, 0, 0, 0, 0, 0, 0, 0, 0, 0,\n",
       "         0, 0, 0, 0, 0, 0, 0, 0, 0, 0, 0, 0, 0, 0, 0, 0, 0, 0, 0, 0, 0, 0, 0, 0,\n",
       "         0, 0, 0, 0, 0, 0, 0, 0, 0, 0, 0, 0, 0, 0, 0, 0, 0, 0, 0, 0, 0, 0, 0, 0,\n",
       "         0, 0, 0, 0, 0, 0, 0, 0, 0, 0, 0, 0, 0, 0, 0, 0, 0, 0, 0, 0, 0, 0, 0, 0,\n",
       "         0, 0, 0, 0, 0, 0, 0, 0, 0, 0, 0, 0]),\n",
       " 'rels': tensor([[1, 0],\n",
       "         [2, 3],\n",
       "         [2, 4],\n",
       "         [2, 6],\n",
       "         [5, 3],\n",
       "         [5, 4],\n",
       "         [7, 6],\n",
       "         [1, 2],\n",
       "         [2, 7],\n",
       "         [1, 3],\n",
       "         [6, 7],\n",
       "         [7, 4],\n",
       "         [4, 1],\n",
       "         [6, 1],\n",
       "         [1, 7],\n",
       "         [2, 0],\n",
       "         [4, 0],\n",
       "         [0, 2],\n",
       "         [0, 4],\n",
       "         [7, 5],\n",
       "         [5, 6],\n",
       "         [6, 2],\n",
       "         [1, 5],\n",
       "         [2, 1],\n",
       "         [6, 4],\n",
       "         [5, 7],\n",
       "         [4, 5],\n",
       "         [3, 2],\n",
       "         [0, 6],\n",
       "         [3, 0],\n",
       "         [3, 6],\n",
       "         [5, 2],\n",
       "         [5, 0],\n",
       "         [3, 1],\n",
       "         [6, 5],\n",
       "         [4, 2],\n",
       "         [7, 2],\n",
       "         [3, 7],\n",
       "         [7, 0],\n",
       "         [5, 1],\n",
       "         [3, 4],\n",
       "         [3, 5],\n",
       "         [0, 3],\n",
       "         [0, 5],\n",
       "         [2, 5],\n",
       "         [7, 1],\n",
       "         [7, 3],\n",
       "         [1, 4],\n",
       "         [1, 6],\n",
       "         [0, 1],\n",
       "         [4, 6],\n",
       "         [4, 7],\n",
       "         [0, 7],\n",
       "         [4, 3],\n",
       "         [6, 3],\n",
       "         [6, 0]]),\n",
       " 'rel_masks': tensor([[False, False, False,  ..., False, False, False],\n",
       "         [False, False, False,  ..., False, False, False],\n",
       "         [False, False, False,  ..., False, False, False],\n",
       "         ...,\n",
       "         [False, False, False,  ..., False, False, False],\n",
       "         [False, False, False,  ..., False, False, False],\n",
       "         [False, False, False,  ..., False, False, False]]),\n",
       " 'rel_types': tensor([[1., 0., 0.],\n",
       "         [1., 0., 0.],\n",
       "         [1., 0., 0.],\n",
       "         [1., 0., 0.],\n",
       "         [0., 1., 0.],\n",
       "         [0., 1., 0.],\n",
       "         [0., 1., 0.],\n",
       "         [0., 0., 0.],\n",
       "         [0., 0., 0.],\n",
       "         [0., 0., 0.],\n",
       "         [0., 0., 0.],\n",
       "         [0., 0., 0.],\n",
       "         [0., 0., 0.],\n",
       "         [0., 0., 0.],\n",
       "         [0., 0., 0.],\n",
       "         [0., 0., 0.],\n",
       "         [0., 0., 0.],\n",
       "         [0., 0., 0.],\n",
       "         [0., 0., 0.],\n",
       "         [0., 0., 0.],\n",
       "         [0., 0., 0.],\n",
       "         [0., 0., 0.],\n",
       "         [0., 0., 0.],\n",
       "         [0., 0., 0.],\n",
       "         [0., 0., 0.],\n",
       "         [0., 0., 0.],\n",
       "         [0., 0., 0.],\n",
       "         [0., 0., 0.],\n",
       "         [0., 0., 0.],\n",
       "         [0., 0., 0.],\n",
       "         [0., 0., 0.],\n",
       "         [0., 0., 0.],\n",
       "         [0., 0., 0.],\n",
       "         [0., 0., 0.],\n",
       "         [0., 0., 0.],\n",
       "         [0., 0., 0.],\n",
       "         [0., 0., 0.],\n",
       "         [0., 0., 0.],\n",
       "         [0., 0., 0.],\n",
       "         [0., 0., 0.],\n",
       "         [0., 0., 0.],\n",
       "         [0., 0., 0.],\n",
       "         [0., 0., 0.],\n",
       "         [0., 0., 0.],\n",
       "         [0., 0., 0.],\n",
       "         [0., 0., 0.],\n",
       "         [0., 0., 0.],\n",
       "         [0., 0., 0.],\n",
       "         [0., 0., 0.],\n",
       "         [0., 0., 0.],\n",
       "         [0., 0., 0.],\n",
       "         [0., 0., 0.],\n",
       "         [0., 0., 0.],\n",
       "         [0., 0., 0.],\n",
       "         [0., 0., 0.],\n",
       "         [0., 0., 0.]]),\n",
       " 'entity_sample_masks': tensor([True, True, True, True, True, True, True, True, True, True, True, True,\n",
       "         True, True, True, True, True, True, True, True, True, True, True, True,\n",
       "         True, True, True, True, True, True, True, True, True, True, True, True,\n",
       "         True, True, True, True, True, True, True, True, True, True, True, True,\n",
       "         True, True, True, True, True, True, True, True, True, True, True, True,\n",
       "         True, True, True, True, True, True, True, True, True, True, True, True,\n",
       "         True, True, True, True, True, True, True, True, True, True, True, True,\n",
       "         True, True, True, True, True, True, True, True, True, True, True, True,\n",
       "         True, True, True, True, True, True, True, True, True, True, True, True]),\n",
       " 'rel_sample_masks': tensor([True, True, True, True, True, True, True, True, True, True, True, True,\n",
       "         True, True, True, True, True, True, True, True, True, True, True, True,\n",
       "         True, True, True, True, True, True, True, True, True, True, True, True,\n",
       "         True, True, True, True, True, True, True, True, True, True, True, True,\n",
       "         True, True, True, True, True, True, True, True])}"
      ]
     },
     "execution_count": 43,
     "metadata": {},
     "output_type": "execute_result"
    }
   ],
   "source": [
    "train_dataset[0]"
   ]
  },
  {
   "cell_type": "code",
   "execution_count": 42,
   "id": "0118dae7",
   "metadata": {
    "scrolled": false
   },
   "outputs": [
    {
     "data": {
      "text/plain": [
       "torch.Size([56, 3])"
      ]
     },
     "execution_count": 42,
     "metadata": {},
     "output_type": "execute_result"
    }
   ],
   "source": [
    "train_dataset[0]['rel_types'].shape"
   ]
  },
  {
   "cell_type": "code",
   "execution_count": 33,
   "id": "2fe4fcca",
   "metadata": {},
   "outputs": [
    {
     "data": {
      "text/plain": [
       "2"
      ]
     },
     "execution_count": 33,
     "metadata": {},
     "output_type": "execute_result"
    }
   ],
   "source": [
    "tokenizer.convert_tokens_to_ids('[CLS]')"
   ]
  },
  {
   "cell_type": "code",
   "execution_count": 34,
   "id": "1158e61c",
   "metadata": {},
   "outputs": [
    {
     "ename": "NameError",
     "evalue": "name '_tokenizer' is not defined",
     "output_type": "error",
     "traceback": [
      "\u001b[0;31m---------------------------------------------------------------------------\u001b[0m",
      "\u001b[0;31mNameError\u001b[0m                                 Traceback (most recent call last)",
      "Cell \u001b[0;32mIn[34], line 1\u001b[0m\n\u001b[0;32m----> 1\u001b[0m \u001b[43m_tokenizer\u001b[49m\u001b[38;5;241m.\u001b[39mcls_token\n",
      "\u001b[0;31mNameError\u001b[0m: name '_tokenizer' is not defined"
     ]
    }
   ],
   "source": [
    "_tokenizer.cls_token"
   ]
  }
 ],
 "metadata": {
  "kernelspec": {
   "display_name": "venv2",
   "language": "python",
   "name": "venv2"
  },
  "language_info": {
   "codemirror_mode": {
    "name": "ipython",
    "version": 3
   },
   "file_extension": ".py",
   "mimetype": "text/x-python",
   "name": "python",
   "nbconvert_exporter": "python",
   "pygments_lexer": "ipython3",
   "version": "3.10.10"
  }
 },
 "nbformat": 4,
 "nbformat_minor": 5
}
