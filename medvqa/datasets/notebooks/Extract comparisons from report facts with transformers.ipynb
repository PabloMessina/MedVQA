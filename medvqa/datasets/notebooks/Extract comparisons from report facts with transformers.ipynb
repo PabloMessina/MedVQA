{
 "cells": [
  {
   "cell_type": "code",
   "execution_count": 1,
   "id": "229ba112",
   "metadata": {},
   "outputs": [
    {
     "name": "stdout",
     "output_type": "stream",
     "text": [
      "env: CUDA_VISIBLE_DEVICES=0\n"
     ]
    }
   ],
   "source": [
    "%env CUDA_VISIBLE_DEVICES=0"
   ]
  },
  {
   "cell_type": "code",
   "execution_count": 2,
   "id": "70c03fc1",
   "metadata": {},
   "outputs": [
    {
     "name": "stdout",
     "output_type": "stream",
     "text": [
      " gpt-3.5-turbo-0301_comparisons__part1.jsonl\r\n",
      "'gpt-3.5-turbo-0301_comparisons__part1(obsolete).jsonl'\r\n",
      " gpt-3.5-turbo-0301_comparisons__part2.jsonl\r\n",
      " gpt-3.5-turbo-0301_parsed_sentences.jsonl\r\n",
      " gpt-3.5-turbo-0613_comparisons__part1.jsonl\r\n",
      " gpt-3.5-turbo-0613_comparisons__part2.jsonl\r\n",
      " gpt-3.5-turbo-0613_paraphrased_anatomical_locations__part1.jsonl\r\n",
      " gpt-3.5-turbo-0613_paraphrased_anatomical_locations__part2.jsonl\r\n",
      " gpt-3.5-turbo-0613_paraphrased_observations__single-words.jsonl\r\n",
      " gpt-3.5-turbo-0613_paraphrased_observations__two-or-more-words__part1.jsonl\r\n",
      " gpt-3.5-turbo-0613_paraphrased_observations__two-or-more-words__part3.jsonl\r\n",
      " gpt-3.5-turbo-0613_parsed_facts__hard.jsonl\r\n",
      " gpt-3.5-turbo-0613_parsed_facts__uniform.jsonl\r\n",
      " gpt-3.5-turbo-0613_parsed_facts__v2.jsonl\r\n",
      "'gpt-3.5-turbo-0613_parsed_facts__v2_offset=20000.jsonl'\r\n",
      "'gpt-3.5-turbo-0613_parsed_facts__v2_offset=40000_uniform.jsonl'\r\n",
      " gpt-3.5-turbo-0613_parsed_sentences__v2.jsonl\r\n",
      "'gpt-3.5-turbo-0613_parsed_sentences__v2(uniform).jsonl'\r\n",
      " gpt-3.5-turbo-16k-0613_paraphrased_anatomical_locations__part3.jsonl\r\n",
      " gpt-3.5-turbo-16k-0613_paraphrased_observations__two-or-more-words__part2.jsonl\r\n",
      " gpt-3.5-turbo-16k-0613_paraphrased_observations__two-or-more-words__part4.jsonl\r\n",
      " gpt-3.5-turbo_parsed_backgrounds.jsonl\r\n",
      " gpt-3.5-turbo_parsed_reports__backup.jsonl\r\n",
      " gpt-3.5-turbo_parsed_reports.jsonl\r\n",
      "'gpt-3.5-turbo_parsed_reports(old).jsonl'\r\n",
      " gpt-3.5-turbo_parsed_sentences.jsonl\r\n",
      " gpt-4-0613_parsed_reports.jsonl\r\n",
      " gpt-4-0613_parsed_sentences.jsonl\r\n",
      " gpt-4-0613_parsed_sentences__v2.jsonl\r\n"
     ]
    }
   ],
   "source": [
    "!ls /home/pamessina/medvqa-workspace/cache/mimiccxr/openai/"
   ]
  },
  {
   "cell_type": "code",
   "execution_count": 55,
   "id": "525b6006",
   "metadata": {
    "scrolled": false
   },
   "outputs": [
    {
     "name": "stdout",
     "output_type": "stream",
     "text": [
      "2023-07-18 11:38:44,533 - \u001b[1;32mINFO\u001b[1;0m - Loading preprocessed sentences to skip from /home/pamessina/medvqa-workspace/cache/mimiccxr/openai/gpt-3.5-turbo-0613_comparisons__part1.jsonl\n",
      "2023-07-18 11:38:44,601 - \u001b[1;32mINFO\u001b[1;0m - Loaded 13977 already processed sentences from /home/pamessina/medvqa-workspace/cache/mimiccxr/openai/gpt-3.5-turbo-0613_comparisons__part1.jsonl\n",
      "2023-07-18 11:38:44,601 - \u001b[1;32mINFO\u001b[1;0m - Loading preprocessed sentences to skip from /home/pamessina/medvqa-workspace/cache/mimiccxr/openai/gpt-3.5-turbo-0613_comparisons__part2.jsonl\n",
      "2023-07-18 11:38:44,841 - \u001b[1;32mINFO\u001b[1;0m - Loaded 44457 already processed sentences from /home/pamessina/medvqa-workspace/cache/mimiccxr/openai/gpt-3.5-turbo-0613_comparisons__part2.jsonl\n",
      "2023-07-18 11:38:44,841 - \u001b[1;32mINFO\u001b[1;0m - Loading facts metadata from /home/pamessina/medvqa-workspace/cache/mimiccxr/integrated_fact_metadata(578733,58628071).jsonl\n",
      "100%|███████████████████████████████| 578733/578733 [00:01<00:00, 380309.39it/s]\n",
      "2023-07-18 11:38:51,728 - \u001b[1;32mINFO\u001b[1;0m - Found 476977 sentences to process\n",
      "2023-07-18 11:38:51,770 - \u001b[1;32mINFO\u001b[1;0m - Example sentences to process:\n",
      "2023-07-18 11:38:51,787 - \u001b[1;32mINFO\u001b[1;0m - 231080: marked leftward patient rotation\n",
      "2023-07-18 11:38:51,787 - \u001b[1;32mINFO\u001b[1;0m - 305418: large mass in the left upper lobe\n",
      "2023-07-18 11:38:51,787 - \u001b[1;32mINFO\u001b[1;0m - 212018: ill-defined lower thoracic vertebral bodies anteriorly\n",
      "2023-07-18 11:38:51,787 - \u001b[1;32mINFO\u001b[1;0m - 371934: tracheal injury\n",
      "2023-07-18 11:38:51,787 - \u001b[1;32mINFO\u001b[1;0m - 77233: subtle opacity possibly within the left lower lobe\n",
      "2023-07-18 11:38:51,787 - \u001b[1;32mINFO\u001b[1;0m - 208069: gastric tube visualized\n",
      "2023-07-18 11:38:51,787 - \u001b[1;32mINFO\u001b[1;0m - 381050: moderate degree of widening of the thoracic aorta\n",
      "2023-07-18 11:38:51,787 - \u001b[1;32mINFO\u001b[1;0m - 17658: significant interval improvement of right pleural effusion\n",
      "2023-07-18 11:38:51,787 - \u001b[1;32mINFO\u001b[1;0m - 264961: prominence of the interstitial markings on the left\n",
      "2023-07-18 11:38:51,787 - \u001b[1;32mINFO\u001b[1;0m - 223716: streak like opacities in the right mid lung\n",
      "2023-07-18 11:38:51,787 - \u001b[1;32mINFO\u001b[1;0m - Example sentences to process:\n",
      "2023-07-18 11:38:51,803 - \u001b[1;32mINFO\u001b[1;0m - 362859: known history of pulmonary fibrosis\n",
      "2023-07-18 11:38:51,804 - \u001b[1;32mINFO\u001b[1;0m - 149982: localized right upper lobe opacity\n",
      "2023-07-18 11:38:51,804 - \u001b[1;32mINFO\u001b[1;0m - 440381: endobronchial lesion such as mucous plugging in the distal left mainstem bronchus\n",
      "2023-07-18 11:38:51,804 - \u001b[1;32mINFO\u001b[1;0m - 83439: postoperative bilateral pleural effusions\n",
      "2023-07-18 11:38:51,804 - \u001b[1;32mINFO\u001b[1;0m - 69276: no evidence of post procedure pneumomediastinum\n",
      "2023-07-18 11:38:51,804 - \u001b[1;32mINFO\u001b[1;0m - 67034: nasogastric drainage tube ends in the filled stomach\n",
      "2023-07-18 11:38:51,804 - \u001b[1;32mINFO\u001b[1;0m - 195722: stable asymmetric pulmonary edema\n",
      "2023-07-18 11:38:51,804 - \u001b[1;32mINFO\u001b[1;0m - 196471: hilar lymphadenopathy seen on chest CT\n",
      "2023-07-18 11:38:51,804 - \u001b[1;32mINFO\u001b[1;0m - 392358: left lower lobe is much worse\n",
      "2023-07-18 11:38:51,804 - \u001b[1;32mINFO\u001b[1;0m - 404052: nodular opacities above the right cardiophrenic angle\n",
      "metadata loaded from /mnt/data/pamessina/workspaces/medvqa-workspace/models/seq2seq/20230718_103406_fact2comparison(gpt-3.5-.._part1;gpt-3.5-.._part2)_Seq2Seq(t5-small)/metadata.json\n",
      "2023-07-18 11:38:51,852 - \u001b[1;32mINFO\u001b[1;0m - Creating Seq2SeqModel\n",
      "Seq2Seq model:\n",
      "  model_name: t5-small\n",
      "2023-07-18 11:38:56,390 - \u001b[1;32mINFO\u001b[1;0m - Loading model weights from /mnt/data/pamessina/workspaces/medvqa-workspace/models/seq2seq/20230718_103406_fact2comparison(gpt-3.5-.._part1;gpt-3.5-.._part2)_Seq2Seq(t5-small)/\n",
      "checkpoint_names = ['checkpoint_17_s2s_loss=0.8631.pt', 'checkpoint_23_s2s_loss=0.8861.pt']\n",
      "2023-07-18 11:38:56,390 - \u001b[1;32mINFO\u001b[1;0m - Loading model weights from /mnt/data/pamessina/workspaces/medvqa-workspace/models/seq2seq/20230718_103406_fact2comparison(gpt-3.5-.._part1;gpt-3.5-.._part2)_Seq2Seq(t5-small)/checkpoint_23_s2s_loss=0.8861.pt\n",
      "2023-07-18 11:38:56,872 - \u001b[1;32mINFO\u001b[1;0m - Creating tokenizer\n",
      "2023-07-18 11:38:57,123 - \u001b[1;32mINFO\u001b[1;0m - Creating dataloader\n",
      "2023-07-18 11:38:57,124 - \u001b[1;32mINFO\u001b[1;0m - Running inference\n",
      "  0%|                                                   | 0/477 [00:00<?, ?it/s]2023-07-18 11:38:58,839 - \u001b[1;32mINFO\u001b[1;0m - Processed 1 sentences\n",
      "2023-07-18 11:38:58,839 - \u001b[1;32mINFO\u001b[1;0m - Example output:\n",
      "2023-07-18 11:38:58,839 - \u001b[1;32mINFO\u001b[1;0m - {'sentence': 'confluent consolidation in the left mid lung region', 'comparison': 'no comparison'}\n",
      "  1%|▎                                          | 3/477 [00:02<05:34,  1.42it/s]2023-07-18 11:38:59,826 - \u001b[1;32mINFO\u001b[1;0m - Processed 5001 sentences\n",
      "2023-07-18 11:38:59,826 - \u001b[1;32mINFO\u001b[1;0m - Example output:\n",
      "2023-07-18 11:38:59,826 - \u001b[1;32mINFO\u001b[1;0m - {'sentence': 'chest apex excluded from the exam', 'comparison': 'no comparison'}\n",
      "2023-07-18 11:39:00,786 - \u001b[1;32mINFO\u001b[1;0m - Processed 10001 sentences\n",
      "2023-07-18 11:39:00,786 - \u001b[1;32mINFO\u001b[1;0m - Example output:\n",
      "2023-07-18 11:39:00,786 - \u001b[1;32mINFO\u001b[1;0m - {'sentence': 'Dobbhoff tube in the lower esophagus', 'comparison': 'no comparison'}\n",
      "  3%|█▏                                        | 14/477 [00:04<02:08,  3.62it/s]2023-07-18 11:39:01,758 - \u001b[1;32mINFO\u001b[1;0m - Processed 15001 sentences\n",
      "2023-07-18 11:39:01,758 - \u001b[1;32mINFO\u001b[1;0m - Example output:\n",
      "2023-07-18 11:39:01,758 - \u001b[1;32mINFO\u001b[1;0m - {'sentence': 'interval improvement in the bilateral perihilar alveolar edema', 'comparison': 'improved'}\n",
      "100%|█████████████████████████████████████████| 477/477 [01:33<00:00,  5.12it/s]\n",
      "2023-07-18 11:40:30,383 - \u001b[1;32mINFO\u001b[1;0m - Successfully processed 476977 sentences\n",
      "2023-07-18 11:40:30,383 - \u001b[1;32mINFO\u001b[1;0m - Example output:\n",
      "2023-07-18 11:40:30,383 - \u001b[1;32mINFO\u001b[1;0m - {'sentence': 'asymmetrical infection in right lower lung region', 'comparison': 'no comparison'}\n",
      "2023-07-18 11:40:30,383 - \u001b[1;32mINFO\u001b[1;0m - Saving outputs to /home/pamessina/medvqa-workspace/cache/mimiccxr/huggingface/extracted_comparisons_Seq2Seq(t5-small)_50_1_20230718_114030.jsonl\n",
      "2023-07-18 11:40:33,081 - \u001b[1;32mINFO\u001b[1;0m - DONE\n"
     ]
    }
   ],
   "source": [
    "!python ../../scripts/mimiccxr/extract_comparisons_from_facts_with_transformer.py \\\n",
    "    --integrated_fact_metadata_filepath \\\n",
    "        \"/home/pamessina/medvqa-workspace/cache/mimiccxr/integrated_fact_metadata(578733,58628071).jsonl\" \\\n",
    "    --preprocessed_sentences_to_skip_filepaths \\\n",
    "        \"/home/pamessina/medvqa-workspace/cache/mimiccxr/openai/gpt-3.5-turbo-0613_comparisons__part1.jsonl\" \\\n",
    "        \"/home/pamessina/medvqa-workspace/cache/mimiccxr/openai/gpt-3.5-turbo-0613_comparisons__part2.jsonl\" \\\n",
    "    --checkpoint_folder_path \\\n",
    "        \"/mnt/data/pamessina/workspaces/medvqa-workspace/models/seq2seq/20230718_103406_fact2comparison(gpt-3.5-.._part1;gpt-3.5-.._part2)_Seq2Seq(t5-small)/\" \\\n",
    "    --logging_level \"INFO\" \\\n",
    "    --batch_size 1000 \\\n",
    "    --num_beams 1 \\\n",
    "    --max_length 50 \\\n",
    "    --num_workers 4"
   ]
  },
  {
   "cell_type": "code",
   "execution_count": 5,
   "id": "e24af43d",
   "metadata": {},
   "outputs": [],
   "source": [
    "from medvqa.utils.files import load_jsonl"
   ]
  },
  {
   "cell_type": "code",
   "execution_count": 43,
   "id": "65e29b21",
   "metadata": {},
   "outputs": [],
   "source": [
    "aux = load_jsonl('/home/pamessina/medvqa-workspace/cache/mimiccxr/integrated_fact_metadata(578733,58628071).jsonl')"
   ]
  },
  {
   "cell_type": "code",
   "execution_count": 54,
   "id": "b65e528d",
   "metadata": {},
   "outputs": [
    {
     "name": "stdout",
     "output_type": "stream",
     "text": [
      "{'fact': 'worsening osteoporosis in a debilitated and wheelchair-bound patient', 'metadata': {'anatomical location': '', 'detailed observation': 'worsening osteoporosis', 'short observation': 'osteoporosis', 'category': 'disease', 'health status': 'abnormal', 'prev_study_comparison?': 'no', 'comparison status': ''}, 'extraction_method': 'gpt-3.5-turbo-0613'}\n"
     ]
    }
   ],
   "source": [
    "q = 'worsening osteoporosis in a debilitated and wheelchair-bound patient'\n",
    "for row in aux:\n",
    "    if row['fact'] == q:\n",
    "        print(row)"
   ]
  },
  {
   "cell_type": "code",
   "execution_count": 44,
   "id": "6f13d882",
   "metadata": {},
   "outputs": [],
   "source": [
    "paraphrased_inputs_jsonl_filepaths = [\n",
    "    \"/home/pamessina/medvqa-workspace/cache/mimiccxr/openai/gpt-3.5-turbo-0613_paraphrased_observations__two-or-more-words__part1.jsonl\",\n",
    "    \"/home/pamessina/medvqa-workspace/cache/mimiccxr/openai/gpt-3.5-turbo-16k-0613_paraphrased_observations__two-or-more-words__part2.jsonl\",\n",
    "    \"/home/pamessina/medvqa-workspace/cache/mimiccxr/openai/gpt-3.5-turbo-0613_paraphrased_observations__two-or-more-words__part3.jsonl\",\n",
    "    \"/home/pamessina/medvqa-workspace/cache/mimiccxr/openai/gpt-3.5-turbo-16k-0613_paraphrased_observations__two-or-more-words__part4.jsonl\",\n",
    "]\n",
    "input2paraphrases = {}\n",
    "for filepath in paraphrased_inputs_jsonl_filepaths:\n",
    "    paraphrased_inputs = load_jsonl(filepath)\n",
    "    for row in paraphrased_inputs:\n",
    "        input_text = next(iter(row['metadata'].values()))\n",
    "        paraphrases = row['parsed_response']\n",
    "        if input_text not in input2paraphrases:\n",
    "            input2paraphrases[input_text] = []\n",
    "        input2paraphrases[input_text].extend(paraphrases)"
   ]
  },
  {
   "cell_type": "code",
   "execution_count": 46,
   "id": "54b3fadb",
   "metadata": {},
   "outputs": [],
   "source": [
    "inputs = list(input2paraphrases.keys())"
   ]
  },
  {
   "cell_type": "code",
   "execution_count": 67,
   "id": "a4f439ad",
   "metadata": {},
   "outputs": [
    {
     "ename": "ValueError",
     "evalue": "'slight irregularity of the left lateral seventh rib' is not in list",
     "output_type": "error",
     "traceback": [
      "\u001b[0;31m---------------------------------------------------------------------------\u001b[0m",
      "\u001b[0;31mValueError\u001b[0m                                Traceback (most recent call last)",
      "Cell \u001b[0;32mIn[67], line 3\u001b[0m\n\u001b[1;32m      1\u001b[0m \u001b[38;5;66;03m# x = 10\u001b[39;00m\n\u001b[1;32m      2\u001b[0m \u001b[38;5;66;03m# x = inputs.index('degenerative bone disease worsening')\u001b[39;00m\n\u001b[0;32m----> 3\u001b[0m x \u001b[38;5;241m=\u001b[39m \u001b[43minputs\u001b[49m\u001b[38;5;241;43m.\u001b[39;49m\u001b[43mindex\u001b[49m\u001b[43m(\u001b[49m\u001b[38;5;124;43m'\u001b[39;49m\u001b[38;5;124;43mslight irregularity of the left lateral seventh rib\u001b[39;49m\u001b[38;5;124;43m'\u001b[39;49m\u001b[43m)\u001b[49m\n\u001b[1;32m      4\u001b[0m inputs[x], input2paraphrases[inputs[x]]\n",
      "\u001b[0;31mValueError\u001b[0m: 'slight irregularity of the left lateral seventh rib' is not in list"
     ]
    }
   ],
   "source": [
    "# x = 10\n",
    "# x = inputs.index('degenerative bone disease worsening')\n",
    "x = inputs.index('slight irregularity of the left lateral seventh rib')\n",
    "inputs[x], input2paraphrases[inputs[x]]"
   ]
  },
  {
   "cell_type": "code",
   "execution_count": 52,
   "id": "ac972892",
   "metadata": {},
   "outputs": [
    {
     "name": "stdout",
     "output_type": "stream",
     "text": [
      "('worsening osteoporosis in a debilitated and wheelchair-bound patient', ['deteriorating osteoporosis', 'progressive osteoporosis', 'advancing osteoporosis', 'worsening bone thinning', 'declining bone density', 'aggravating bone weakening', 'deterioration of bone strength', 'increasing fragility of bones', 'escalating loss of bone density', 'degenerative bone disease worsening', 'osteoporosis worsening in a debilitated and wheelchair-bound patient'])\n"
     ]
    }
   ],
   "source": [
    "q = 'degenerative bone disease worsening'\n",
    "for x, p in input2paraphrases.items():\n",
    "    if x == q or q in p:\n",
    "        print((x, p))"
   ]
  },
  {
   "cell_type": "code",
   "execution_count": 56,
   "id": "f77dc99d",
   "metadata": {},
   "outputs": [],
   "source": [
    "tmp = load_jsonl('/home/pamessina/medvqa-workspace/cache/mimiccxr/huggingface/extracted_comparisons_Seq2Seq(t5-small)_50_1_20230718_114030.jsonl')"
   ]
  },
  {
   "cell_type": "code",
   "execution_count": 57,
   "id": "e07d5d72",
   "metadata": {},
   "outputs": [
    {
     "data": {
      "text/plain": [
       "476977"
      ]
     },
     "execution_count": 57,
     "metadata": {},
     "output_type": "execute_result"
    }
   ],
   "source": [
    "len(tmp)"
   ]
  },
  {
   "cell_type": "code",
   "execution_count": 58,
   "id": "56d9a553",
   "metadata": {},
   "outputs": [
    {
     "data": {
      "text/plain": [
       "[{'sentence': 'tip of Swan-Ganz catheter in the pulmonary outflow tract',\n",
       "  'comparison': 'no comparison'},\n",
       " {'sentence': 'volume loss potentially associated with a mild right pleural effusion',\n",
       "  'comparison': 'decrease'},\n",
       " {'sentence': 'screws in place', 'comparison': 'no comparison'},\n",
       " {'sentence': 'significant improvement compared to the most recent prior exam',\n",
       "  'comparison': 'improved'},\n",
       " {'sentence': 'stable linear opacification in the left mid lung',\n",
       "  'comparison': 'stable/unchanged'},\n",
       " {'sentence': 'comparison with chest radiographs read in conjunction with chest CT',\n",
       "  'comparison': 'resolved'},\n",
       " {'sentence': 'ETT tip terminates approximately 5.2 cm above the carina',\n",
       "  'comparison': 'no comparison'},\n",
       " {'sentence': 'diffuse sclerosis of the bones', 'comparison': 'no comparison'},\n",
       " {'sentence': 'new opacification base of the left lung',\n",
       "  'comparison': 'new finding'},\n",
       " {'sentence': 'trace pleural effusion in the left posterior costophrenic angle',\n",
       "  'comparison': 'unclear comparison'},\n",
       " {'sentence': 'lucency compatible with colonic interposition',\n",
       "  'comparison': 'no comparison'},\n",
       " {'sentence': 'complete resolution of pre-existing pleural abnormalities',\n",
       "  'comparison': 'resolved'},\n",
       " {'sentence': 'right lower chest tube unchanged in position',\n",
       "  'comparison': 'stable/unchanged'},\n",
       " {'sentence': 'no evidence of other pleural effusion',\n",
       "  'comparison': 'no comparison'},\n",
       " {'sentence': 'Dobbhoff tube terminating in the right lower lobe bronchus',\n",
       "  'comparison': 'no comparison'},\n",
       " {'sentence': 'minor reticular opacity in the retrocardiac area',\n",
       "  'comparison': 'no comparison'},\n",
       " {'sentence': 'nipple or lung nodule in the anterior right fifth rib',\n",
       "  'comparison': 'no comparison'},\n",
       " {'sentence': 'left pleural effusion not significantly changed relative to prior study',\n",
       "  'comparison': 'stable/unchanged'},\n",
       " {'sentence': 'left-sided AICD device noted', 'comparison': 'new finding'},\n",
       " {'sentence': 'asymmetrical infection in right lower lung region',\n",
       "  'comparison': 'no comparison'}]"
      ]
     },
     "execution_count": 58,
     "metadata": {},
     "output_type": "execute_result"
    }
   ],
   "source": [
    "tmp[-20:]"
   ]
  },
  {
   "cell_type": "code",
   "execution_count": 59,
   "id": "599f439e",
   "metadata": {},
   "outputs": [
    {
     "name": "stdout",
     "output_type": "stream",
     "text": [
      "Loading extracted comparisons from /home/pamessina/medvqa-workspace/cache/mimiccxr/openai/gpt-3.5-turbo-0613_comparisons__part1.jsonl...\n",
      "Loading extracted comparisons from /home/pamessina/medvqa-workspace/cache/mimiccxr/openai/gpt-3.5-turbo-0613_comparisons__part2.jsonl...\n",
      "Loading extracted comparisons from /home/pamessina/medvqa-workspace/cache/mimiccxr/huggingface/extracted_comparisons_Seq2Seq(t5-small)_50_1_20230718_114030.jsonl...\n",
      "Loading extracted facts and metadata...\n",
      "\u001b[93mWarning: obscured not in allowed categories (fact: right lung abscess obscured by the effusion, extraction method: t5-small-finetuned)\u001b[0m\n",
      "\u001b[93mWarning: laterally no comparison not in allowed categories (fact: loculated component in the left pleural effusion laterally, extraction method: t5-small-finetuned)\u001b[0m\n",
      "\u001b[93mWarning: obscured not in allowed categories (fact: right lung mass obscured by the effusion, extraction method: t5-small-finetuned)\u001b[0m\n",
      "\u001b[93mWarning: partially visualized not in allowed categories (fact: prior right rib fractures partially visualized, extraction method: t5-small-finetuned)\u001b[0m\n",
      "\u001b[93mWarning: laterally not in allowed categories (fact: nodular densities in the right lung base laterally, extraction method: t5-small-finetuned)\u001b[0m\n",
      "\u001b[93mWarning: obscured not in allowed categories (fact: known right lower lobe mass obscured, extraction method: t5-small-finetuned)\u001b[0m\n",
      "\u001b[93mWarning: underestimate not in allowed categories (fact: extent of bibasilar atelectasis underestimated, extraction method: t5-small-finetuned)\u001b[0m\n",
      "\u001b[93mWarning: tracking not in allowed categories (fact: pleural effusion tracking laterally on the left, extraction method: t5-small-finetuned)\u001b[0m\n",
      "\u001b[93mWarning: laterally not in allowed categories (fact: atelectasis at the right lung base laterally, extraction method: t5-small-finetuned)\u001b[0m\n",
      "\u001b[93mWarning: laterally not in allowed categories (fact: new hazy opacity at the right lung base laterally, extraction method: t5-small-finetuned)\u001b[0m\n",
      "\u001b[93mWarning: obscured not in allowed categories (fact: right heart border obscured by right middle lobe consolidation, extraction method: t5-small-finetuned)\u001b[0m\n",
      "\u001b[93mWarning: collapsed not in allowed categories (fact: right lower lobe atelectasis collapsed, extraction method: t5-small-finetuned)\u001b[0m\n",
      "\u001b[93mWarning: laterally no comparison not in allowed categories (fact: nodular density at the right lung base laterally, extraction method: t5-small-finetuned)\u001b[0m\n",
      "\u001b[93mWarning: obscured not in allowed categories (fact: left apical pneumothorax obscured by the apical chest tube, extraction method: t5-small-finetuned)\u001b[0m\n",
      "\u001b[93mWarning: medially not in allowed categories (fact: atelectasis in the bilateral lower lungs medially, extraction method: t5-small-finetuned)\u001b[0m\n",
      "\u001b[93mWarning: obscured not in allowed categories (fact: extent of left lower lobe atelectasis obscured by the cardiac silhouette, extraction method: t5-small-finetuned)\u001b[0m\n",
      "\u001b[93mWarning: medially not in allowed categories (fact: atelectasis in the left lower lobe medially, extraction method: t5-small-finetuned)\u001b[0m\n",
      "Updated 521435/578733 facts with comparisons.\n",
      "no comparison: 283490\n",
      "stable/unchanged: 62095\n",
      "worsened: 27244\n",
      "position changed: 23214\n",
      "improved: 22099\n",
      "resolved: 20332\n",
      "unclear comparison: 19614\n",
      "new finding: 17690\n",
      "increase: 14539\n",
      "decrease: 9433\n",
      "progressed: 7418\n",
      "smaller: 5337\n",
      "larger: 5236\n",
      "reappeared: 3548\n",
      "other: 146\n",
      "Saving updated extracted facts and metadata...\n",
      "Saved updated extracted facts and metadata to /home/pamessina/medvqa-workspace/cache/mimiccxr/integrated_fact_metadata(578733,58628071).improved_comparison(6526297).jsonl\n",
      "Done!\n"
     ]
    }
   ],
   "source": [
    "!python ../../scripts/mimiccxr/integrate_metadata_and_comparisons.py \\\n",
    "    --integrated_fact_metadata_filepath \\\n",
    "        \"/home/pamessina/medvqa-workspace/cache/mimiccxr/integrated_fact_metadata(578733,58628071).jsonl\" \\\n",
    "    --extracted_comparisons_filepaths \\\n",
    "        \"/home/pamessina/medvqa-workspace/cache/mimiccxr/openai/gpt-3.5-turbo-0613_comparisons__part1.jsonl\" \\\n",
    "        \"/home/pamessina/medvqa-workspace/cache/mimiccxr/openai/gpt-3.5-turbo-0613_comparisons__part2.jsonl\" \\\n",
    "        \"/home/pamessina/medvqa-workspace/cache/mimiccxr/huggingface/extracted_comparisons_Seq2Seq(t5-small)_50_1_20230718_114030.jsonl\" \\\n",
    "    --extraction_methods \\\n",
    "        \"gpt-3.5-turbo-0613\" \\\n",
    "        \"gpt-3.5-turbo-0613\" \\\n",
    "        \"t5-small-finetuned\""
   ]
  },
  {
   "cell_type": "code",
   "execution_count": 60,
   "id": "2f031c4d",
   "metadata": {},
   "outputs": [
    {
     "name": "stdout",
     "output_type": "stream",
     "text": [
      "-rw-rw-r-- 1 pamessina pamessina 265M Jul 18 11:46 '/home/pamessina/medvqa-workspace/cache/mimiccxr/integrated_fact_metadata(578733,58628071).improved_comparison(6526297).jsonl'\r\n"
     ]
    }
   ],
   "source": [
    "!ls -lh '/home/pamessina/medvqa-workspace/cache/mimiccxr/integrated_fact_metadata(578733,58628071).improved_comparison(6526297).jsonl'"
   ]
  },
  {
   "cell_type": "code",
   "execution_count": 61,
   "id": "c2283bc9",
   "metadata": {},
   "outputs": [],
   "source": [
    "tmp2 = load_jsonl('/home/pamessina/medvqa-workspace/cache/mimiccxr/integrated_fact_metadata(578733,58628071).improved_comparison(6526297).jsonl')"
   ]
  },
  {
   "cell_type": "code",
   "execution_count": 62,
   "id": "133defd0",
   "metadata": {},
   "outputs": [
    {
     "data": {
      "text/plain": [
       "578733"
      ]
     },
     "execution_count": 62,
     "metadata": {},
     "output_type": "execute_result"
    }
   ],
   "source": [
    "len(tmp2)"
   ]
  },
  {
   "cell_type": "code",
   "execution_count": 64,
   "id": "ee3e32b4",
   "metadata": {},
   "outputs": [
    {
     "data": {
      "text/plain": [
       "{'fact': 'interval development of a small focal area of heterogeneously increased density in the anterior segment of the right upper lobe',\n",
       " 'metadata': {'anatomical location': 'anterior segment of the right upper lobe',\n",
       "  'detailed observation': 'interval development of a small focal area of heterogeneously increased density',\n",
       "  'short observation': 'small focal area of increased density',\n",
       "  'category': 'anatomical finding',\n",
       "  'health status': 'abnormal',\n",
       "  'prev_study_comparison?': 'yes',\n",
       "  'comparison status': 'new'},\n",
       " 'extraction_method': 't5-small-finetuned',\n",
       " 'improved_comparison': {'comparison': 'new finding',\n",
       "  'extraction_method': 't5-small-finetuned'}}"
      ]
     },
     "execution_count": 64,
     "metadata": {},
     "output_type": "execute_result"
    }
   ],
   "source": [
    "tmp2[-11]"
   ]
  }
 ],
 "metadata": {
  "kernelspec": {
   "display_name": "venv2",
   "language": "python",
   "name": "venv2"
  },
  "language_info": {
   "codemirror_mode": {
    "name": "ipython",
    "version": 3
   },
   "file_extension": ".py",
   "mimetype": "text/x-python",
   "name": "python",
   "nbconvert_exporter": "python",
   "pygments_lexer": "ipython3",
   "version": "3.10.10"
  }
 },
 "nbformat": 4,
 "nbformat_minor": 5
}
