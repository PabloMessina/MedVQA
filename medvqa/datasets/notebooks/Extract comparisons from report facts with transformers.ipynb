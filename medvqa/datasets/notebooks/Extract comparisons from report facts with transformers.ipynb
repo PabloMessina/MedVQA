{
 "cells": [
  {
   "cell_type": "code",
   "execution_count": 68,
   "id": "229ba112",
   "metadata": {},
   "outputs": [
    {
     "name": "stdout",
     "output_type": "stream",
     "text": [
      "env: CUDA_VISIBLE_DEVICES=0\n"
     ]
    }
   ],
   "source": [
    "%env CUDA_VISIBLE_DEVICES=0"
   ]
  },
  {
   "cell_type": "code",
   "execution_count": 69,
   "id": "70c03fc1",
   "metadata": {},
   "outputs": [
    {
     "name": "stdout",
     "output_type": "stream",
     "text": [
      " gpt-3.5-turbo-0301_comparisons__part1.jsonl\r\n",
      "'gpt-3.5-turbo-0301_comparisons__part1(obsolete).jsonl'\r\n",
      " gpt-3.5-turbo-0301_comparisons__part2.jsonl\r\n",
      " gpt-3.5-turbo-0301_parsed_sentences.jsonl\r\n",
      " gpt-3.5-turbo-0613_chest_imagenome_anatomies_from_sentences__skip_top50000_most_difficult__uniform.jsonl\r\n",
      " gpt-3.5-turbo-0613_chest_imagenome_anatomies_from_sentences__top25000_most_difficult.jsonl\r\n",
      "'gpt-3.5-turbo-0613_chest_imagenome_anatomies_from_sentences__top50000_most_difficult__offset=25000.jsonl'\r\n",
      " gpt-3.5-turbo-0613_chest_imagenome_labels_from_sentences__skip_top20000__40000_uniform__1of2.jsonl\r\n",
      " gpt-3.5-turbo-0613_chest_imagenome_labels_from_sentences__skip_top20000__40000_uniform__2of2.jsonl\r\n",
      " gpt-3.5-turbo-0613_chest_imagenome_labels_from_sentences__top20000_most_difficult.jsonl\r\n",
      " gpt-3.5-turbo-0613_chest_imagenome_labels_from_sentencestop20000_most_difficult.jsonl\r\n",
      "'gpt-3.5-turbo-0613_chest_imagenome_labels_from_sentences__top20000_most_difficult__offset=5000.jsonl'\r\n",
      " gpt-3.5-turbo-0613_comparisons__part1.jsonl\r\n",
      " gpt-3.5-turbo-0613_comparisons__part2.jsonl\r\n",
      "'gpt-3.5-turbo-0613_facts_from_sentences(cluster-balanced,hardest)_part1.jsonl'\r\n",
      "'gpt-3.5-turbo-0613_facts_from_sentences(cluster-balanced,hardest)_part2.jsonl'\r\n",
      " gpt-3.5-turbo-0613_paraphrased_anatomical_locations__part1.jsonl\r\n",
      " gpt-3.5-turbo-0613_paraphrased_anatomical_locations__part2.jsonl\r\n",
      " gpt-3.5-turbo-0613_paraphrased_observations__single-words.jsonl\r\n",
      " gpt-3.5-turbo-0613_paraphrased_observations__two-or-more-words_cluster-balanced_1of5.jsonl\r\n",
      " gpt-3.5-turbo-0613_paraphrased_observations__two-or-more-words_cluster-balanced_2of5.jsonl\r\n",
      " gpt-3.5-turbo-0613_paraphrased_observations__two-or-more-words_cluster-balanced_3of5.jsonl\r\n",
      " gpt-3.5-turbo-0613_paraphrased_observations__two-or-more-words_cluster-balanced_4of5.jsonl\r\n",
      " gpt-3.5-turbo-0613_paraphrased_observations__two-or-more-words__part1.jsonl\r\n",
      " gpt-3.5-turbo-0613_paraphrased_observations__two-or-more-words__part3.jsonl\r\n",
      " gpt-3.5-turbo-0613_parsed_facts__hard.jsonl\r\n",
      " gpt-3.5-turbo-0613_parsed_facts__uniform.jsonl\r\n",
      " gpt-3.5-turbo-0613_parsed_facts__v2.jsonl\r\n",
      "'gpt-3.5-turbo-0613_parsed_facts__v2_offset=20000.jsonl'\r\n",
      "'gpt-3.5-turbo-0613_parsed_facts__v2_offset=40000_uniform.jsonl'\r\n",
      " gpt-3.5-turbo-0613_parsed_sentences__v2.jsonl\r\n",
      "'gpt-3.5-turbo-0613_parsed_sentences__v2(uniform).jsonl'\r\n",
      " gpt-3.5-turbo-16k-0613_paraphrased_anatomical_locations__part3.jsonl\r\n",
      " gpt-3.5-turbo-16k-0613_paraphrased_observations__two-or-more-words__part2.jsonl\r\n",
      " gpt-3.5-turbo-16k-0613_paraphrased_observations__two-or-more-words__part4.jsonl\r\n",
      " gpt-3.5-turbo_parsed_backgrounds.jsonl\r\n",
      " gpt-3.5-turbo_parsed_reports__backup.jsonl\r\n",
      " gpt-3.5-turbo_parsed_reports.jsonl\r\n",
      "'gpt-3.5-turbo_parsed_reports(old).jsonl'\r\n",
      " gpt-3.5-turbo_parsed_sentences.jsonl\r\n",
      " gpt-4-0613_chest_imagenome_labels_from_sentences__top5000_most_difficult.jsonl\r\n",
      "'gpt-4-0613_facts_from_sentences(cluster-balanced,hardest).jsonl'\r\n",
      " gpt-4-0613_paraphrased_observations__two-or-more-words_cluster-balanced.jsonl\r\n",
      " gpt-4-0613_parsed_reports.jsonl\r\n",
      " gpt-4-0613_parsed_sentences.jsonl\r\n",
      " gpt-4-0613_parsed_sentences__v2.jsonl\r\n"
     ]
    }
   ],
   "source": [
    "!ls /home/pamessina/medvqa-workspace/cache/mimiccxr/openai/"
   ]
  },
  {
   "cell_type": "code",
   "execution_count": 70,
   "id": "525b6006",
   "metadata": {
    "scrolled": false
   },
   "outputs": [
    {
     "name": "stdout",
     "output_type": "stream",
     "text": [
      "2023-09-10 16:19:49,190 - \u001b[1;32mINFO\u001b[1;0m - Loading preprocessed sentences to skip from /home/pamessina/medvqa-workspace/cache/mimiccxr/openai/gpt-3.5-turbo-0613_comparisons__part1.jsonl\n",
      "2023-09-10 16:19:49,257 - \u001b[1;32mINFO\u001b[1;0m - Loaded 13977 already processed sentences from /home/pamessina/medvqa-workspace/cache/mimiccxr/openai/gpt-3.5-turbo-0613_comparisons__part1.jsonl\n",
      "2023-09-10 16:19:49,257 - \u001b[1;32mINFO\u001b[1;0m - Loading preprocessed sentences to skip from /home/pamessina/medvqa-workspace/cache/mimiccxr/openai/gpt-3.5-turbo-0613_comparisons__part2.jsonl\n",
      "2023-09-10 16:19:49,500 - \u001b[1;32mINFO\u001b[1;0m - Loaded 44457 already processed sentences from /home/pamessina/medvqa-workspace/cache/mimiccxr/openai/gpt-3.5-turbo-0613_comparisons__part2.jsonl\n",
      "2023-09-10 16:19:49,500 - \u001b[1;32mINFO\u001b[1;0m - Loading facts metadata from /home/pamessina/medvqa-workspace/cache/mimiccxr/integrated_fact_metadata(595880,60579117).jsonl\n",
      "100%|███████████████████████████████| 595880/595880 [00:01<00:00, 417260.70it/s]\n",
      "2023-09-10 16:19:56,262 - \u001b[1;32mINFO\u001b[1;0m - Found 501559 sentences to process\n",
      "2023-09-10 16:19:56,301 - \u001b[1;32mINFO\u001b[1;0m - Example sentences to process:\n",
      "2023-09-10 16:19:56,317 - \u001b[1;32mINFO\u001b[1;0m - 369650: enlarged comparison to prior\n",
      "2023-09-10 16:19:56,317 - \u001b[1;32mINFO\u001b[1;0m - 137825: no coiling within the hypopharynx\n",
      "2023-09-10 16:19:56,317 - \u001b[1;32mINFO\u001b[1;0m - 211204: slightly improved widespread interstitial opacities\n",
      "2023-09-10 16:19:56,317 - \u001b[1;32mINFO\u001b[1;0m - 67868: minimal aeration of the left hemithorax\n",
      "2023-09-10 16:19:56,317 - \u001b[1;32mINFO\u001b[1;0m - 207606: less conspicuous opacity\n",
      "2023-09-10 16:19:56,317 - \u001b[1;32mINFO\u001b[1;0m - 8870: substantial layering pleural effusions in the left hemithorax\n",
      "2023-09-10 16:19:56,317 - \u001b[1;32mINFO\u001b[1;0m - 120496: small amount of fluid seen in the pleural space\n",
      "2023-09-10 16:19:56,317 - \u001b[1;32mINFO\u001b[1;0m - 26399: atelectasis at the right base medially\n",
      "2023-09-10 16:19:56,317 - \u001b[1;32mINFO\u001b[1;0m - 2379: no convincing interstitial changes\n",
      "2023-09-10 16:19:56,317 - \u001b[1;32mINFO\u001b[1;0m - 194998: right lung collapsed around the large right upper lobe mass\n",
      "2023-09-10 16:19:56,317 - \u001b[1;32mINFO\u001b[1;0m - Example sentences to process:\n",
      "2023-09-10 16:19:56,334 - \u001b[1;32mINFO\u001b[1;0m - 391573: left pectoral pacemaker/defibrillator with two leads terminating in the right atrium\n",
      "2023-09-10 16:19:56,334 - \u001b[1;32mINFO\u001b[1;0m - 197888: subtle nodular opacities projecting over the left upper lung are unchanged\n",
      "2023-09-10 16:19:56,334 - \u001b[1;32mINFO\u001b[1;0m - 270540: band of increased opacification on the lateral view\n",
      "2023-09-10 16:19:56,334 - \u001b[1;32mINFO\u001b[1;0m - 336757: severe right lung overinflation\n",
      "2023-09-10 16:19:56,334 - \u001b[1;32mINFO\u001b[1;0m - 349129: skin\n",
      "2023-09-10 16:19:56,334 - \u001b[1;32mINFO\u001b[1;0m - 86044: Mild progression of heart size\n",
      "2023-09-10 16:19:56,334 - \u001b[1;32mINFO\u001b[1;0m - 442006: mid-thoracic vertebral body compression deformity\n",
      "2023-09-10 16:19:56,334 - \u001b[1;32mINFO\u001b[1;0m - 348305: ETT slightly advanced\n",
      "2023-09-10 16:19:56,334 - \u001b[1;32mINFO\u001b[1;0m - 358323: unchanged appearance of right basilar opacity\n",
      "2023-09-10 16:19:56,334 - \u001b[1;32mINFO\u001b[1;0m - 465817: tip of the Port-A-Cath in the lower portion of the SVC\n",
      "metadata loaded from /mnt/data/pamessina/workspaces/medvqa-workspace/models/seq2seq/20230718_103406_fact2comparison(gpt-3.5-.._part1;gpt-3.5-.._part2)_Seq2Seq(t5-small)/metadata.json\n",
      "2023-09-10 16:19:56,419 - \u001b[1;32mINFO\u001b[1;0m - Creating Seq2SeqModel\n",
      "Seq2Seq model:\n",
      "  model_name: t5-small\n",
      "2023-09-10 16:20:06,105 - \u001b[1;32mINFO\u001b[1;0m - Loading model weights from /mnt/data/pamessina/workspaces/medvqa-workspace/models/seq2seq/20230718_103406_fact2comparison(gpt-3.5-.._part1;gpt-3.5-.._part2)_Seq2Seq(t5-small)/\n",
      "checkpoint_names = ['checkpoint_17_s2s_loss=0.8631.pt', 'checkpoint_23_s2s_loss=0.8861.pt']\n",
      "2023-09-10 16:20:06,105 - \u001b[1;32mINFO\u001b[1;0m - Loading model weights from /mnt/data/pamessina/workspaces/medvqa-workspace/models/seq2seq/20230718_103406_fact2comparison(gpt-3.5-.._part1;gpt-3.5-.._part2)_Seq2Seq(t5-small)/checkpoint_23_s2s_loss=0.8861.pt\n",
      "2023-09-10 16:20:12,142 - \u001b[1;32mINFO\u001b[1;0m - Creating tokenizer\n",
      "2023-09-10 16:20:12,735 - \u001b[1;32mINFO\u001b[1;0m - Creating dataloader\n",
      "2023-09-10 16:20:12,736 - \u001b[1;32mINFO\u001b[1;0m - Running inference\n",
      "  0%|                                                   | 0/502 [00:00<?, ?it/s]2023-09-10 16:20:14,321 - \u001b[1;32mINFO\u001b[1;0m - Processed 1 sentences\n",
      "2023-09-10 16:20:14,321 - \u001b[1;32mINFO\u001b[1;0m - Example output:\n",
      "2023-09-10 16:20:14,321 - \u001b[1;32mINFO\u001b[1;0m - {'sentence': 'interval decrease in interstitial edema', 'comparison': 'decrease'}\n",
      "  1%|▎                                          | 4/502 [00:02<04:29,  1.85it/s]2023-09-10 16:20:15,303 - \u001b[1;32mINFO\u001b[1;0m - Processed 5001 sentences\n",
      "2023-09-10 16:20:15,303 - \u001b[1;32mINFO\u001b[1;0m - Example output:\n",
      "2023-09-10 16:20:15,303 - \u001b[1;32mINFO\u001b[1;0m - {'sentence': 'wire projecting over the left hemidiaphragm', 'comparison': 'no comparison'}\n",
      "2023-09-10 16:20:16,254 - \u001b[1;32mINFO\u001b[1;0m - Processed 10001 sentences\n",
      "2023-09-10 16:20:16,255 - \u001b[1;32mINFO\u001b[1;0m - Example output:\n",
      "2023-09-10 16:20:16,255 - \u001b[1;32mINFO\u001b[1;0m - {'sentence': 'unchanged appearance of severe dextroscoliosis', 'comparison': 'stable/unchanged'}\n",
      "  3%|█▎                                        | 15/502 [00:04<02:08,  3.79it/s]2023-09-10 16:20:17,223 - \u001b[1;32mINFO\u001b[1;0m - Processed 15001 sentences\n",
      "2023-09-10 16:20:17,224 - \u001b[1;32mINFO\u001b[1;0m - Example output:\n",
      "2023-09-10 16:20:17,224 - \u001b[1;32mINFO\u001b[1;0m - {'sentence': 'feeding tube in correct position in the stomach', 'comparison': 'position changed'}\n",
      "100%|█████████████████████████████████████████| 502/502 [01:36<00:00,  5.19it/s]\n",
      "2023-09-10 16:21:49,504 - \u001b[1;32mINFO\u001b[1;0m - Successfully processed 501559 sentences\n",
      "2023-09-10 16:21:49,504 - \u001b[1;32mINFO\u001b[1;0m - Example output:\n",
      "2023-09-10 16:21:49,504 - \u001b[1;32mINFO\u001b[1;0m - {'sentence': 'unchanged appearance of median sternotomy sutures', 'comparison': 'resolved'}\n",
      "2023-09-10 16:21:49,504 - \u001b[1;32mINFO\u001b[1;0m - Saving outputs to /home/pamessina/medvqa-workspace/cache/mimiccxr/huggingface/extracted_comparisons_Seq2Seq(t5-small)_50_1_20230910_162149.jsonl\n",
      "2023-09-10 16:21:52,078 - \u001b[1;32mINFO\u001b[1;0m - DONE\n"
     ]
    }
   ],
   "source": [
    "!python ../../scripts/mimiccxr/extract_comparisons_from_facts_with_transformer.py \\\n",
    "--integrated_fact_metadata_filepath \\\n",
    "\"/home/pamessina/medvqa-workspace/cache/mimiccxr/integrated_fact_metadata(595880,60579117).jsonl\" \\\n",
    "--preprocessed_sentences_to_skip_filepaths \\\n",
    "\"/home/pamessina/medvqa-workspace/cache/mimiccxr/openai/gpt-3.5-turbo-0613_comparisons__part1.jsonl\" \\\n",
    "\"/home/pamessina/medvqa-workspace/cache/mimiccxr/openai/gpt-3.5-turbo-0613_comparisons__part2.jsonl\" \\\n",
    "--checkpoint_folder_path \\\n",
    "\"/mnt/data/pamessina/workspaces/medvqa-workspace/models/seq2seq/20230718_103406_fact2comparison(gpt-3.5-.._part1;gpt-3.5-.._part2)_Seq2Seq(t5-small)/\" \\\n",
    "--logging_level \"INFO\" \\\n",
    "--batch_size 1000 \\\n",
    "--num_beams 1 \\\n",
    "--max_length 50 \\\n",
    "--num_workers 4"
   ]
  },
  {
   "cell_type": "code",
   "execution_count": 77,
   "id": "e24af43d",
   "metadata": {},
   "outputs": [],
   "source": [
    "from medvqa.utils.files import load_jsonl"
   ]
  },
  {
   "cell_type": "code",
   "execution_count": 75,
   "id": "f77dc99d",
   "metadata": {},
   "outputs": [],
   "source": [
    "tmp = load_jsonl('/home/pamessina/medvqa-workspace/cache/mimiccxr/huggingface/extracted_comparisons_Seq2Seq(t5-small)_50_1_20230910_162149.jsonl')"
   ]
  },
  {
   "cell_type": "code",
   "execution_count": 76,
   "id": "e07d5d72",
   "metadata": {},
   "outputs": [
    {
     "data": {
      "text/plain": [
       "501559"
      ]
     },
     "execution_count": 76,
     "metadata": {},
     "output_type": "execute_result"
    }
   ],
   "source": [
    "len(tmp)"
   ]
  },
  {
   "cell_type": "code",
   "execution_count": 79,
   "id": "56d9a553",
   "metadata": {},
   "outputs": [
    {
     "data": {
      "text/plain": [
       "[{'sentence': 'images of the lower chest on an abdomen CT',\n",
       "  'comparison': 'no comparison'},\n",
       " {'sentence': 'lung opacities obscuring heart margins',\n",
       "  'comparison': 'no comparison'},\n",
       " {'sentence': 'small amount of loculated fluid in the right anterior third rib',\n",
       "  'comparison': 'no comparison'},\n",
       " {'sentence': 'platelike atelectasis on the left side',\n",
       "  'comparison': 'no comparison'},\n",
       " {'sentence': 'improved bibasilar linear atelectasis',\n",
       "  'comparison': 'improved'},\n",
       " {'sentence': 'known history of left basal PE', 'comparison': 'no comparison'},\n",
       " {'sentence': 'nasogastric tube extends to the level of the carina',\n",
       "  'comparison': 'no comparison'},\n",
       " {'sentence': 'no overt congestion heart failure',\n",
       "  'comparison': 'no comparison'},\n",
       " {'sentence': 'parenchymal opacification in the right lower lobe',\n",
       "  'comparison': 'no comparison'},\n",
       " {'sentence': 'left PICC line ends in right atrium',\n",
       "  'comparison': 'no comparison'},\n",
       " {'sentence': 'morphology of changes favors pulmonary edema',\n",
       "  'comparison': 'no comparison'},\n",
       " {'sentence': 'pneumo studies cannot be entirely excluded',\n",
       "  'comparison': 'no comparison'},\n",
       " {'sentence': 'probable right lower lobe infiltrate',\n",
       "  'comparison': 'no comparison'},\n",
       " {'sentence': 'probable right base atelectasis',\n",
       "  'comparison': 'no comparison'},\n",
       " {'sentence': 'NG tube tip at the fundus', 'comparison': 'no comparison'},\n",
       " {'sentence': 'distended pulmonary artery in the right hilum',\n",
       "  'comparison': 'no comparison'},\n",
       " {'sentence': 'stable postsurgical scarring in the right lower lobe',\n",
       "  'comparison': 'stable/unchanged'},\n",
       " {'sentence': 'pleural effusions due to total body volume overload',\n",
       "  'comparison': 'no comparison'},\n",
       " {'sentence': 'increased extent of bilateral widespread parenchymal opacities',\n",
       "  'comparison': 'increase'},\n",
       " {'sentence': 'unchanged appearance of median sternotomy sutures',\n",
       "  'comparison': 'resolved'}]"
      ]
     },
     "execution_count": 79,
     "metadata": {},
     "output_type": "execute_result"
    }
   ],
   "source": [
    "tmp[-20:]"
   ]
  },
  {
   "cell_type": "code",
   "execution_count": 80,
   "id": "599f439e",
   "metadata": {},
   "outputs": [
    {
     "name": "stdout",
     "output_type": "stream",
     "text": [
      "Loading extracted comparisons from /home/pamessina/medvqa-workspace/cache/mimiccxr/openai/gpt-3.5-turbo-0613_comparisons__part1.jsonl...\n",
      "Loading extracted comparisons from /home/pamessina/medvqa-workspace/cache/mimiccxr/openai/gpt-3.5-turbo-0613_comparisons__part2.jsonl...\n",
      "Loading extracted comparisons from /home/pamessina/medvqa-workspace/cache/mimiccxr/huggingface/extracted_comparisons_Seq2Seq(t5-small)_50_1_20230910_162149.jsonl...\n",
      "Loading extracted facts and metadata...\n",
      "\u001b[93mWarning: laterally no comparison not in allowed categories (fact: loculated component in the left pleural effusion laterally, extraction method: t5-small-finetuned)\u001b[0m\n",
      "\u001b[93mWarning: laterally not in allowed categories (fact: atelectasis at the right lung base laterally, extraction method: t5-small-finetuned)\u001b[0m\n",
      "\u001b[93mWarning: obscured not in allowed categories (fact: right heart border obscured by right middle lobe consolidation, extraction method: t5-small-finetuned)\u001b[0m\n",
      "\u001b[93mWarning: obscured not in allowed categories (fact: obscured atelectasis on the radiograph, extraction method: t5-small-finetuned)\u001b[0m\n",
      "\u001b[93mWarning: obscured not in allowed categories (fact: known right lower lobe mass obscured, extraction method: t5-small-finetuned)\u001b[0m\n",
      "\u001b[93mWarning: medially not in allowed categories (fact: atelectasis in the bilateral lower lungs medially, extraction method: t5-small-finetuned)\u001b[0m\n",
      "\u001b[93mWarning: obscured not in allowed categories (fact: left apical pneumothorax obscured by the apical chest tube, extraction method: t5-small-finetuned)\u001b[0m\n",
      "\u001b[93mWarning: early not in allowed categories (fact: subtle left base opacity relates to a very early consolidation, extraction method: t5-small-finetuned)\u001b[0m\n",
      "\u001b[93mWarning: laterally no comparison not in allowed categories (fact: calcific nodular densities at the right lung base laterally, extraction method: t5-small-finetuned)\u001b[0m\n",
      "\u001b[93mWarning: obscured not in allowed categories (fact: right lung abscess obscured by the effusion, extraction method: t5-small-finetuned)\u001b[0m\n",
      "\u001b[93mWarning: obscured not in allowed categories (fact: extent of left lower lobe atelectasis obscured by the cardiac silhouette, extraction method: t5-small-finetuned)\u001b[0m\n",
      "\u001b[93mWarning: tracking not in allowed categories (fact: pleural effusion tracking laterally on the left, extraction method: t5-small-finetuned)\u001b[0m\n",
      "\u001b[93mWarning: partially visualized not in allowed categories (fact: prior right rib fractures partially visualized, extraction method: t5-small-finetuned)\u001b[0m\n",
      "\u001b[93mWarning: laterally not in allowed categories (fact: new hazy opacity at the right lung base laterally, extraction method: t5-small-finetuned)\u001b[0m\n",
      "\u001b[93mWarning: obscured not in allowed categories (fact: right lung mass obscured by the effusion, extraction method: t5-small-finetuned)\u001b[0m\n",
      "\u001b[93mWarning: collapsed not in allowed categories (fact: right lower lobe atelectasis collapsed, extraction method: t5-small-finetuned)\u001b[0m\n",
      "\u001b[93mWarning: medially not in allowed categories (fact: atelectasis in the left lower lobe medially, extraction method: t5-small-finetuned)\u001b[0m\n",
      "\u001b[93mWarning: underestimate not in allowed categories (fact: extent of bibasilar atelectasis underestimated, extraction method: t5-small-finetuned)\u001b[0m\n",
      "\u001b[93mWarning: laterally recognized not in allowed categories (fact: small right pleural effusion recognizable laterally, extraction method: t5-small-finetuned)\u001b[0m\n",
      "\u001b[93mWarning: obscured not in allowed categories (fact: tiny right pneumothorax obscured by the patient's chin, extraction method: t5-small-finetuned)\u001b[0m\n",
      "Updated 538573/595880 facts with comparisons.\n",
      "no comparison: 293882\n",
      "stable/unchanged: 63775\n",
      "worsened: 27998\n",
      "position changed: 23619\n",
      "improved: 22628\n",
      "resolved: 21630\n",
      "unclear comparison: 20476\n",
      "new finding: 17928\n",
      "increase: 14790\n",
      "decrease: 9566\n",
      "progressed: 7581\n",
      "larger: 5524\n",
      "smaller: 5416\n",
      "reappeared: 3601\n",
      "other: 159\n",
      "Saving updated extracted facts and metadata...\n",
      "Saved updated extracted facts and metadata to /home/pamessina/medvqa-workspace/cache/mimiccxr/integrated_fact_metadata(595880,60579117).improved_comparison(6741113).jsonl\n",
      "Done!\n"
     ]
    }
   ],
   "source": [
    "!python ../../scripts/mimiccxr/integrate_metadata_and_comparisons.py \\\n",
    "--integrated_fact_metadata_filepath \\\n",
    "\"/home/pamessina/medvqa-workspace/cache/mimiccxr/integrated_fact_metadata(595880,60579117).jsonl\" \\\n",
    "--extracted_comparisons_filepaths \\\n",
    "\"/home/pamessina/medvqa-workspace/cache/mimiccxr/openai/gpt-3.5-turbo-0613_comparisons__part1.jsonl\" \\\n",
    "\"/home/pamessina/medvqa-workspace/cache/mimiccxr/openai/gpt-3.5-turbo-0613_comparisons__part2.jsonl\" \\\n",
    "\"/home/pamessina/medvqa-workspace/cache/mimiccxr/huggingface/extracted_comparisons_Seq2Seq(t5-small)_50_1_20230910_162149.jsonl\" \\\n",
    "--extraction_methods \\\n",
    "\"gpt-3.5-turbo-0613\" \\\n",
    "\"gpt-3.5-turbo-0613\" \\\n",
    "\"t5-small-finetuned\""
   ]
  },
  {
   "cell_type": "code",
   "execution_count": 82,
   "id": "2f031c4d",
   "metadata": {},
   "outputs": [
    {
     "name": "stdout",
     "output_type": "stream",
     "text": [
      "-rw-rw-r-- 1 pamessina pamessina 273M Sep 10 16:30 '/home/pamessina/medvqa-workspace/cache/mimiccxr/integrated_fact_metadata(595880,60579117).improved_comparison(6741113).jsonl'\r\n"
     ]
    }
   ],
   "source": [
    "!ls -lh '/home/pamessina/medvqa-workspace/cache/mimiccxr/integrated_fact_metadata(595880,60579117).improved_comparison(6741113).jsonl'"
   ]
  },
  {
   "cell_type": "code",
   "execution_count": 83,
   "id": "c2283bc9",
   "metadata": {},
   "outputs": [],
   "source": [
    "tmp2 = load_jsonl('/home/pamessina/medvqa-workspace/cache/mimiccxr/integrated_fact_metadata(595880,60579117).improved_comparison(6741113).jsonl')"
   ]
  },
  {
   "cell_type": "code",
   "execution_count": 84,
   "id": "133defd0",
   "metadata": {},
   "outputs": [
    {
     "data": {
      "text/plain": [
       "595880"
      ]
     },
     "execution_count": 84,
     "metadata": {},
     "output_type": "execute_result"
    }
   ],
   "source": [
    "len(tmp2)"
   ]
  },
  {
   "cell_type": "code",
   "execution_count": 94,
   "id": "ee3e32b4",
   "metadata": {},
   "outputs": [
    {
     "data": {
      "text/plain": [
       "{'fact': 'differences in inspiration and positioning',\n",
       " 'metadata': {'anatomical location': '',\n",
       "  'detailed observation': 'differences in inspiration and positioning',\n",
       "  'short observation': 'differences in inspiration and positioning',\n",
       "  'category': 'technical assessment',\n",
       "  'health status': 'unknown',\n",
       "  'prev_study_comparison?': 'no',\n",
       "  'comparison status': ''},\n",
       " 'extraction_method': 't5-small-finetuned',\n",
       " 'improved_comparison': {'comparison': 'position changed',\n",
       "  'extraction_method': 't5-small-finetuned'}}"
      ]
     },
     "execution_count": 94,
     "metadata": {},
     "output_type": "execute_result"
    }
   ],
   "source": [
    "tmp2[-10]"
   ]
  }
 ],
 "metadata": {
  "kernelspec": {
   "display_name": "venv2",
   "language": "python",
   "name": "venv2"
  },
  "language_info": {
   "codemirror_mode": {
    "name": "ipython",
    "version": 3
   },
   "file_extension": ".py",
   "mimetype": "text/x-python",
   "name": "python",
   "nbconvert_exporter": "python",
   "pygments_lexer": "ipython3",
   "version": "3.10.10"
  }
 },
 "nbformat": 4,
 "nbformat_minor": 5
}
