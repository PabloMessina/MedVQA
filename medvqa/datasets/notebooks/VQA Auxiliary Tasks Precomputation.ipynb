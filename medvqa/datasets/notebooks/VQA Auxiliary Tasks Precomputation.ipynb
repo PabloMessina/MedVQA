{
 "cells": [
  {
   "cell_type": "markdown",
   "metadata": {},
   "source": [
    "### Precomputing medical tags per report"
   ]
  },
  {
   "cell_type": "code",
   "execution_count": 1,
   "metadata": {},
   "outputs": [
    {
     "name": "stdout",
     "output_type": "stream",
     "text": [
      "Computing medical terms frequency ...\n",
      "1297937it [00:04, 267194.41it/s]\n",
      "Medical terms frequency computed and saved to /home/pamessina/medvqa-workspace/cache/medical_terms_frequency__20220904_105617.pkl\n"
     ]
    }
   ],
   "source": [
    "!python ../../scripts/precompute_medical_terms_frequency.py \\\n",
    "        --iuxray-qa-dataset-filename \"qa_adapted_reports__20220904_091601.json\" \\\n",
    "        --mimiccxr-qa-dataset-filename \"qa_adapted_reports__20220904_095810.json\""
   ]
  },
  {
   "cell_type": "code",
   "execution_count": 2,
   "metadata": {},
   "outputs": [
    {
     "name": "stdout",
     "output_type": "stream",
     "text": [
      "3927it [00:00, 62236.10it/s]\n",
      "IUXRAY medical tags per report computed and saved to /home/pamessina/medvqa-workspace/cache/iuxray/medical_tags_per_report__from(qa_adapted_reports__20220904_091601.json)__20220904_105656.pkl\n"
     ]
    }
   ],
   "source": [
    "!python ../../scripts/iuxray/extract_medical_tags.py \\\n",
    "        --iuxray-qa-dataset-filename \"qa_adapted_reports__20220904_091601.json\" \\\n",
    "        --medical-terms-frequency-filename \"medical_terms_frequency__20220904_105617.pkl\""
   ]
  },
  {
   "cell_type": "code",
   "execution_count": 3,
   "metadata": {},
   "outputs": [
    {
     "name": "stdout",
     "output_type": "stream",
     "text": [
      "227835it [00:05, 44633.27it/s]\n",
      "MIMICCXR medical tags per report computed and saved to /home/pamessina/medvqa-workspace/cache/mimiccxr/medical_tags_per_report__from(qa_adapted_reports__20220904_095810.json)__20220904_105722.pkl\n"
     ]
    }
   ],
   "source": [
    "!python ../../scripts/mimiccxr/extract_medical_tags.py \\\n",
    "        --mimiccxr-qa-dataset-filename \"qa_adapted_reports__20220904_095810.json\" \\\n",
    "        --medical-terms-frequency-filename \"medical_terms_frequency__20220904_105617.pkl\""
   ]
  },
  {
   "cell_type": "markdown",
   "metadata": {},
   "source": [
    "### Precomputing question labels per report"
   ]
  },
  {
   "cell_type": "code",
   "execution_count": 4,
   "metadata": {
    "scrolled": false
   },
   "outputs": [
    {
     "name": "stdout",
     "output_type": "stream",
     "text": [
      "3927it [00:00, 421070.94it/s]\n",
      "Question labels saved to /home/pamessina/medvqa-workspace/cache/iuxray/question_labels_per_report__20220904_105752.pkl\n",
      "227835it [00:00, 395953.35it/s]\n",
      "Question labels saved to /home/pamessina/medvqa-workspace/cache/mimiccxr/question_labels_per_report__20220904_105753.pkl\n"
     ]
    }
   ],
   "source": [
    "!python ../../scripts/precompute_question_labels.py \\\n",
    "        --iuxray-qa-dataset-filename \"qa_adapted_reports__20220904_091601.json\" \\\n",
    "        --mimiccxr-qa-dataset-filename \"qa_adapted_reports__20220904_095810.json\""
   ]
  },
  {
   "cell_type": "markdown",
   "metadata": {},
   "source": [
    "### Precomputing chexpert labels per setence of report"
   ]
  },
  {
   "cell_type": "code",
   "execution_count": 5,
   "metadata": {
    "scrolled": true
   },
   "outputs": [
    {
     "name": "stdout",
     "output_type": "stream",
     "text": [
      "Loading /home/pamessina/medvqa-workspace/cache/vocab__min_freq=5__from(qa_adapted_reports__20220904_091601.json;qa_adapted_reports__20220904_095810.json).pkl ...\n",
      "1427203it [00:08, 172512.01it/s]\n",
      "Vocabulary saved to /home/pamessina/medvqa-workspace/cache/vocab__min_freq=5__from(qa_adapted_reports__20220904_091601.json;qa_adapted_reports__20220904_095810.json).pkl\n",
      "Collecting unique sentences ...\n",
      "1297937it [00:40, 32132.14it/s]\n",
      "len(unlabeled_texts): 29369\n",
      "average length: 15.947972351799516\n",
      "Chexpert labeler: running a maximum of 16 concurrent processes over 16 chunks\n",
      "chunk: i=0, b=0, e=1836, chunk_size=1836\n",
      "chunk: i=1, b=1836, e=3672, chunk_size=1836\n",
      "chunk: i=2, b=3672, e=5508, chunk_size=1836\n",
      "chunk: i=3, b=5508, e=7344, chunk_size=1836\n",
      "chunk: i=4, b=7344, e=9180, chunk_size=1836\n",
      "chunk: i=5, b=9180, e=11016, chunk_size=1836\n",
      "chunk: i=6, b=11016, e=12852, chunk_size=1836\n",
      "chunk: i=7, b=12852, e=14688, chunk_size=1836\n",
      "chunk: i=8, b=14688, e=16524, chunk_size=1836\n",
      "chunk: i=9, b=16524, e=18360, chunk_size=1836\n",
      "chunk: i=10, b=18360, e=20196, chunk_size=1836\n",
      "chunk: i=11, b=20196, e=22032, chunk_size=1836\n",
      "chunk: i=12, b=22032, e=23868, chunk_size=1836\n",
      "chunk: i=13, b=23868, e=25704, chunk_size=1836\n",
      "chunk: i=14, b=25704, e=27540, chunk_size=1836\n",
      "chunk: i=15, b=27540, e=29376, chunk_size=1829\n",
      "\t#### process 1: running chexpert labeler over 1836 texts ...\n",
      "\tCommand = docker run -v /home/pamessina/medvqa-workspace/tmp/chexpert-labeler:/data chexpert-labeler:latest python label.py --reports_path /data/labeler-input_20220904_105948_0.csv --output_path /data/labeler-output_20220904_105948_0.csv\n",
      "\t#### process 2: running chexpert labeler over 1836 texts ...\n",
      "\tCommand = docker run -v /home/pamessina/medvqa-workspace/tmp/chexpert-labeler:/data chexpert-labeler:latest python label.py --reports_path /data/labeler-input_20220904_105948_1.csv --output_path /data/labeler-output_20220904_105948_1.csv\n",
      "\t#### process 3: running chexpert labeler over 1836 texts ...\n",
      "\tCommand = docker run -v /home/pamessina/medvqa-workspace/tmp/chexpert-labeler:/data chexpert-labeler:latest python label.py --reports_path /data/labeler-input_20220904_105948_2.csv --output_path /data/labeler-output_20220904_105948_2.csv\n",
      "\t#### process 4: running chexpert labeler over 1836 texts ...\n",
      "\tCommand = docker run -v /home/pamessina/medvqa-workspace/tmp/chexpert-labeler:/data chexpert-labeler:latest python label.py --reports_path /data/labeler-input_20220904_105948_3.csv --output_path /data/labeler-output_20220904_105948_3.csv\n",
      "\t#### process 5: running chexpert labeler over 1836 texts ...\n",
      "\tCommand = docker run -v /home/pamessina/medvqa-workspace/tmp/chexpert-labeler:/data chexpert-labeler:latest python label.py --reports_path /data/labeler-input_20220904_105948_4.csv --output_path /data/labeler-output_20220904_105948_4.csv\n",
      "\t#### process 6: running chexpert labeler over 1836 texts ...\n",
      "\tCommand = docker run -v /home/pamessina/medvqa-workspace/tmp/chexpert-labeler:/data chexpert-labeler:latest python label.py --reports_path /data/labeler-input_20220904_105948_5.csv --output_path /data/labeler-output_20220904_105948_5.csv\n",
      "\t#### process 7: running chexpert labeler over 1836 texts ...\n",
      "\tCommand = docker run -v /home/pamessina/medvqa-workspace/tmp/chexpert-labeler:/data chexpert-labeler:latest python label.py --reports_path /data/labeler-input_20220904_105948_6.csv --output_path /data/labeler-output_20220904_105948_6.csv\n",
      "\t#### process 8: running chexpert labeler over 1836 texts ...\n",
      "\tCommand = docker run -v /home/pamessina/medvqa-workspace/tmp/chexpert-labeler:/data chexpert-labeler:latest python label.py --reports_path /data/labeler-input_20220904_105948_7.csv --output_path /data/labeler-output_20220904_105948_7.csv\n",
      "\t#### process 9: running chexpert labeler over 1836 texts ...\n",
      "\tCommand = docker run -v /home/pamessina/medvqa-workspace/tmp/chexpert-labeler:/data chexpert-labeler:latest python label.py --reports_path /data/labeler-input_20220904_105948_8.csv --output_path /data/labeler-output_20220904_105948_8.csv\n",
      "\t#### process 10: running chexpert labeler over 1836 texts ...\n",
      "\tCommand = docker run -v /home/pamessina/medvqa-workspace/tmp/chexpert-labeler:/data chexpert-labeler:latest python label.py --reports_path /data/labeler-input_20220904_105948_9.csv --output_path /data/labeler-output_20220904_105948_9.csv\n",
      "\t#### process 11: running chexpert labeler over 1836 texts ...\n",
      "\tCommand = docker run -v /home/pamessina/medvqa-workspace/tmp/chexpert-labeler:/data chexpert-labeler:latest python label.py --reports_path /data/labeler-input_20220904_105948_10.csv --output_path /data/labeler-output_20220904_105948_10.csv\n",
      "\t#### process 12: running chexpert labeler over 1836 texts ...\n",
      "\tCommand = docker run -v /home/pamessina/medvqa-workspace/tmp/chexpert-labeler:/data chexpert-labeler:latest python label.py --reports_path /data/labeler-input_20220904_105948_11.csv --output_path /data/labeler-output_20220904_105948_11.csv\n",
      "\t#### process 13: running chexpert labeler over 1836 texts ...\n",
      "\tCommand = docker run -v /home/pamessina/medvqa-workspace/tmp/chexpert-labeler:/data chexpert-labeler:latest python label.py --reports_path /data/labeler-input_20220904_105948_12.csv --output_path /data/labeler-output_20220904_105948_12.csv\n",
      "\t#### process 14: running chexpert labeler over 1836 texts ...\n",
      "\tCommand = docker run -v /home/pamessina/medvqa-workspace/tmp/chexpert-labeler:/data chexpert-labeler:latest python label.py --reports_path /data/labeler-input_20220904_105948_13.csv --output_path /data/labeler-output_20220904_105948_13.csv\n",
      "\t#### process 15: running chexpert labeler over 1836 texts ...\n",
      "\tCommand = docker run -v /home/pamessina/medvqa-workspace/tmp/chexpert-labeler:/data chexpert-labeler:latest python label.py --reports_path /data/labeler-input_20220904_105948_14.csv --output_path /data/labeler-output_20220904_105948_14.csv\n",
      "\t#### process 16: running chexpert labeler over 1829 texts ...\n",
      "\tCommand = docker run -v /home/pamessina/medvqa-workspace/tmp/chexpert-labeler:/data chexpert-labeler:latest python label.py --reports_path /data/labeler-input_20220904_105948_15.csv --output_path /data/labeler-output_20220904_105948_15.csv\n",
      "Generating LALR tables\n",
      "Downloading 'http://search.maven.org/remotecontent?filepath=edu/stanford/nlp/stanford-corenlp/3.5.2/stanford-corenlp-3.5.2.jar' -> '/root/.local/share/pystanforddeps/stanford-corenlp-3.5.2.jar'\n",
      "Generating LALR tables\n",
      "Downloading 'http://search.maven.org/remotecontent?filepath=edu/stanford/nlp/stanford-corenlp/3.5.2/stanford-corenlp-3.5.2.jar' -> '/root/.local/share/pystanforddeps/stanford-corenlp-3.5.2.jar'\n",
      "Generating LALR tables\n",
      "Downloading 'http://search.maven.org/remotecontent?filepath=edu/stanford/nlp/stanford-corenlp/3.5.2/stanford-corenlp-3.5.2.jar' -> '/root/.local/share/pystanforddeps/stanford-corenlp-3.5.2.jar'\n",
      "Generating LALR tables\n",
      "Downloading 'http://search.maven.org/remotecontent?filepath=edu/stanford/nlp/stanford-corenlp/3.5.2/stanford-corenlp-3.5.2.jar' -> '/root/.local/share/pystanforddeps/stanford-corenlp-3.5.2.jar'\n",
      "\t**** process 1 finished, elapsed time = 1904.747665643692\n",
      "Generating LALR tables\n",
      "Downloading 'http://search.maven.org/remotecontent?filepath=edu/stanford/nlp/stanford-corenlp/3.5.2/stanford-corenlp-3.5.2.jar' -> '/root/.local/share/pystanforddeps/stanford-corenlp-3.5.2.jar'\n",
      "Generating LALR tables\n",
      "Downloading 'http://search.maven.org/remotecontent?filepath=edu/stanford/nlp/stanford-corenlp/3.5.2/stanford-corenlp-3.5.2.jar' -> '/root/.local/share/pystanforddeps/stanford-corenlp-3.5.2.jar'\n",
      "Generating LALR tables\n",
      "Downloading 'http://search.maven.org/remotecontent?filepath=edu/stanford/nlp/stanford-corenlp/3.5.2/stanford-corenlp-3.5.2.jar' -> '/root/.local/share/pystanforddeps/stanford-corenlp-3.5.2.jar'\n",
      "Generating LALR tables\n",
      "Downloading 'http://search.maven.org/remotecontent?filepath=edu/stanford/nlp/stanford-corenlp/3.5.2/stanford-corenlp-3.5.2.jar' -> '/root/.local/share/pystanforddeps/stanford-corenlp-3.5.2.jar'\n",
      "Generating LALR tables\n",
      "Downloading 'http://search.maven.org/remotecontent?filepath=edu/stanford/nlp/stanford-corenlp/3.5.2/stanford-corenlp-3.5.2.jar' -> '/root/.local/share/pystanforddeps/stanford-corenlp-3.5.2.jar'\n",
      "Downloading 'http://search.maven.org/remotecontent?filepath=edu/stanford/nlp/stanford-corenlp/3.5.2/stanford-corenlp-3.5.2.jar' -> '/root/.local/share/pystanforddeps/stanford-corenlp-3.5.2.jar'\n",
      "Generating LALR tables\n"
     ]
    },
    {
     "name": "stdout",
     "output_type": "stream",
     "text": [
      "Generating LALR tables\n",
      "Downloading 'http://search.maven.org/remotecontent?filepath=edu/stanford/nlp/stanford-corenlp/3.5.2/stanford-corenlp-3.5.2.jar' -> '/root/.local/share/pystanforddeps/stanford-corenlp-3.5.2.jar'\n",
      "Generating LALR tables\n",
      "Downloading 'http://search.maven.org/remotecontent?filepath=edu/stanford/nlp/stanford-corenlp/3.5.2/stanford-corenlp-3.5.2.jar' -> '/root/.local/share/pystanforddeps/stanford-corenlp-3.5.2.jar'\n",
      "\t**** process 2 finished, elapsed time = 1988.2124905586243\n",
      "\t**** process 3 finished, elapsed time = 1988.2125585079193\n",
      "Generating LALR tables\n",
      "Downloading 'http://search.maven.org/remotecontent?filepath=edu/stanford/nlp/stanford-corenlp/3.5.2/stanford-corenlp-3.5.2.jar' -> '/root/.local/share/pystanforddeps/stanford-corenlp-3.5.2.jar'\n",
      "Downloading 'http://search.maven.org/remotecontent?filepath=edu/stanford/nlp/stanford-corenlp/3.5.2/stanford-corenlp-3.5.2.jar' -> '/root/.local/share/pystanforddeps/stanford-corenlp-3.5.2.jar'\n",
      "Generating LALR tables\n",
      "\t**** process 4 finished, elapsed time = 1991.699636220932\n",
      "\t**** process 5 finished, elapsed time = 1991.699709892273\n",
      "\t**** process 6 finished, elapsed time = 1991.6997380256653\n",
      "Generating LALR tables\n",
      "Downloading 'http://search.maven.org/remotecontent?filepath=edu/stanford/nlp/stanford-corenlp/3.5.2/stanford-corenlp-3.5.2.jar' -> '/root/.local/share/pystanforddeps/stanford-corenlp-3.5.2.jar'\n",
      "Generating LALR tables\n",
      "Downloading 'http://search.maven.org/remotecontent?filepath=edu/stanford/nlp/stanford-corenlp/3.5.2/stanford-corenlp-3.5.2.jar' -> '/root/.local/share/pystanforddeps/stanford-corenlp-3.5.2.jar'\n",
      "\t**** process 7 finished, elapsed time = 2005.4995262622833\n",
      "\t**** process 8 finished, elapsed time = 2005.4995937347412\n",
      "\t**** process 9 finished, elapsed time = 2005.4996211528778\n",
      "\t**** process 10 finished, elapsed time = 2005.49964427948\n",
      "\t**** process 11 finished, elapsed time = 2005.4996674060822\n",
      "\t**** process 12 finished, elapsed time = 2005.4996905326843\n",
      "\t**** process 13 finished, elapsed time = 2005.4997091293335\n",
      "\t**** process 14 finished, elapsed time = 2005.499727010727\n",
      "\t**** process 15 finished, elapsed time = 2005.499749660492\n",
      "\t**** process 16 finished, elapsed time = 2005.4997675418854\n",
      "Precomputed chexpert labels saved to /home/pamessina/medvqa-workspace/cache/precomputed_chexpert_labels_20220904_105948.pkl\n"
     ]
    }
   ],
   "source": [
    "!python ../../scripts/precompute_chexpert_labels.py \\\n",
    "        --iuxray-qa-dataset-filename \"qa_adapted_reports__20220904_091601.json\" \\\n",
    "        --mimiccxr-qa-dataset-filename \"qa_adapted_reports__20220904_095810.json\" \\\n",
    "        --chexpert-labels-cache-filename \"precomputed_chexpert_labels_20220629_053109.pkl\""
   ]
  },
  {
   "cell_type": "code",
   "execution_count": 6,
   "metadata": {},
   "outputs": [
    {
     "name": "stdout",
     "output_type": "stream",
     "text": [
      "-rw-rw-r-- 1 pamessina pamessina 48M Sep  4 11:33 /home/pamessina/medvqa-workspace/cache/precomputed_chexpert_labels_20220904_105948.pkl\r\n"
     ]
    }
   ],
   "source": [
    "!ls -lh /home/pamessina/medvqa-workspace/cache/precomputed_chexpert_labels_20220904_105948.pkl"
   ]
  },
  {
   "cell_type": "markdown",
   "metadata": {},
   "source": [
    "### Aggregating chexpert labels per report"
   ]
  },
  {
   "cell_type": "code",
   "execution_count": 7,
   "metadata": {
    "scrolled": false
   },
   "outputs": [
    {
     "name": "stdout",
     "output_type": "stream",
     "text": [
      "Loading /home/pamessina/medvqa-workspace/cache/vocab__min_freq=5__from(qa_adapted_reports__20220904_091601.json;qa_adapted_reports__20220904_095810.json).pkl ...\n",
      "3927it [00:01, 3925.50it/s]\n",
      "Chexpert labels aggregated and saved to /home/pamessina/medvqa-workspace/cache/iuxray/chexpert_labels_per_report__20220904_113427.pkl\n",
      "227835it [01:38, 2311.15it/s]\n",
      "Chexpert labels aggregated and saved to /home/pamessina/medvqa-workspace/cache/mimiccxr/chexpert_labels_per_report__20220904_113605.pkl\n"
     ]
    }
   ],
   "source": [
    "!python ../../scripts/aggregate_chexpert_labels_per_report.py \\\n",
    "        --iuxray-qa-dataset-filename \"qa_adapted_reports__20220904_091601.json\" \\\n",
    "        --mimiccxr-qa-dataset-filename \"qa_adapted_reports__20220904_095810.json\" \\\n",
    "        --chexpert-labels-cache-filename \"precomputed_chexpert_labels_20220904_105948.pkl\""
   ]
  }
 ],
 "metadata": {
  "kernelspec": {
   "display_name": "Python 3",
   "language": "python",
   "name": "python3"
  },
  "language_info": {
   "codemirror_mode": {
    "name": "ipython",
    "version": 3
   },
   "file_extension": ".py",
   "mimetype": "text/x-python",
   "name": "python",
   "nbconvert_exporter": "python",
   "pygments_lexer": "ipython3",
   "version": "3.6.9"
  }
 },
 "nbformat": 4,
 "nbformat_minor": 4
}
