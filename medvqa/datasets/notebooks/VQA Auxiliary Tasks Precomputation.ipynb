{
 "cells": [
  {
   "cell_type": "markdown",
   "metadata": {},
   "source": [
    "### Precomputing medical tags per report"
   ]
  },
  {
   "cell_type": "code",
   "execution_count": 13,
   "metadata": {},
   "outputs": [
    {
     "name": "stdout",
     "output_type": "stream",
     "text": [
      "Computing medical terms frequency ...\n",
      "1254323it [00:04, 256468.60it/s]\n",
      "Medical terms frequency computed and saved to /home/pamessina/medvqa-workspace/cache/medical_terms_frequency__20220416_111642.pkl\n"
     ]
    }
   ],
   "source": [
    "!python ../../scripts/precompute_medical_terms_frequency.py \\\n",
    "        --iuxray-qa-dataset-filename \"qa_adapted_reports__20220416_072043.json\" \\\n",
    "        --mimiccxr-qa-dataset-filename \"qa_adapted_reports__20220416_083114.json\""
   ]
  },
  {
   "cell_type": "code",
   "execution_count": 14,
   "metadata": {},
   "outputs": [
    {
     "name": "stdout",
     "output_type": "stream",
     "text": [
      "3927it [00:00, 66161.21it/s]\n",
      "IUXRAY medical tags per report computed and saved to /home/pamessina/medvqa-workspace/cache/iuxray/medical_tags_per_report__from(qa_adapted_reports__20220416_072043.json)__20220416_111751.pkl\n"
     ]
    }
   ],
   "source": [
    "!python ../../scripts/iuxray/extract_medical_tags.py \\\n",
    "        --iuxray-qa-dataset-filename \"qa_adapted_reports__20220416_072043.json\" \\\n",
    "        --medical-terms-frequency-filename \"medical_terms_frequency__20220416_111642.pkl\""
   ]
  },
  {
   "cell_type": "code",
   "execution_count": 15,
   "metadata": {},
   "outputs": [
    {
     "name": "stdout",
     "output_type": "stream",
     "text": [
      "227835it [00:04, 46653.38it/s]\n",
      "MIMICCXR medical tags per report computed and saved to /home/pamessina/medvqa-workspace/cache/mimiccxr/medical_tags_per_report__from(qa_adapted_reports__20220416_083114.json)__20220416_111829.pkl\n"
     ]
    }
   ],
   "source": [
    "!python ../../scripts/mimiccxr/extract_medical_tags.py \\\n",
    "        --mimiccxr-qa-dataset-filename \"qa_adapted_reports__20220416_083114.json\" \\\n",
    "        --medical-terms-frequency-filename \"medical_terms_frequency__20220416_111642.pkl\""
   ]
  },
  {
   "cell_type": "markdown",
   "metadata": {},
   "source": [
    "### Precomputing chexpert labels per setence of report"
   ]
  },
  {
   "cell_type": "code",
   "execution_count": 19,
   "metadata": {
    "scrolled": false
   },
   "outputs": [
    {
     "name": "stdout",
     "output_type": "stream",
     "text": [
      "Loading /home/pamessina/medvqa-workspace/cache/vocab__min_freq=5__from(qa_adapted_reports__20220416_072043.json;qa_adapted_reports__20220416_083114.json).pkl ...\n",
      "Collecting unique sentences ...\n",
      "1254323it [00:28, 44379.77it/s]\n",
      "len(unlabeled_texts): 0\n",
      "Precomputed chexpert labels saved to /home/pamessina/medvqa-workspace/cache/precomputed_chexpert_labels_20220417_034535.pkl\n"
     ]
    }
   ],
   "source": [
    "!python ../../scripts/precompute_chexpert_labels.py \\\n",
    "        --iuxray-qa-dataset-filename \"qa_adapted_reports__20220416_072043.json\" \\\n",
    "        --mimiccxr-qa-dataset-filename \"qa_adapted_reports__20220416_083114.json\" \\\n",
    "        --chexpert-labels-cache-filename \"precomputed_chexpert_labels_20220331_065722.pkl\""
   ]
  },
  {
   "cell_type": "markdown",
   "metadata": {},
   "source": [
    "### Aggregating chexpert labels per report"
   ]
  },
  {
   "cell_type": "code",
   "execution_count": 25,
   "metadata": {
    "scrolled": false
   },
   "outputs": [
    {
     "name": "stdout",
     "output_type": "stream",
     "text": [
      "Loading /home/pamessina/medvqa-workspace/cache/vocab__min_freq=5__from(qa_adapted_reports__20220416_072043.json;qa_adapted_reports__20220416_083114.json).pkl ...\n",
      "3927it [00:00, 5614.47it/s]\n",
      "Chexpert labels aggregated and saved to /home/pamessina/medvqa-workspace/cache/iuxray/chexpert_labels_per_report__20220417_035146.pkl\n",
      "227835it [00:50, 4513.13it/s]\n",
      "Chexpert labels aggregated and saved to /home/pamessina/medvqa-workspace/cache/mimiccxr/chexpert_labels_per_report__20220417_035236.pkl\n"
     ]
    }
   ],
   "source": [
    "!python ../../scripts/aggregate_chexpert_labels_per_report.py \\\n",
    "        --iuxray-qa-dataset-filename \"qa_adapted_reports__20220416_072043.json\" \\\n",
    "        --mimiccxr-qa-dataset-filename \"qa_adapted_reports__20220416_083114.json\" \\\n",
    "        --chexpert-labels-cache-filename \"precomputed_chexpert_labels_20220417_034535.pkl\""
   ]
  }
 ],
 "metadata": {
  "kernelspec": {
   "display_name": "Python 3",
   "language": "python",
   "name": "python3"
  },
  "language_info": {
   "codemirror_mode": {
    "name": "ipython",
    "version": 3
   },
   "file_extension": ".py",
   "mimetype": "text/x-python",
   "name": "python",
   "nbconvert_exporter": "python",
   "pygments_lexer": "ipython3",
   "version": "3.6.9"
  }
 },
 "nbformat": 4,
 "nbformat_minor": 4
}
