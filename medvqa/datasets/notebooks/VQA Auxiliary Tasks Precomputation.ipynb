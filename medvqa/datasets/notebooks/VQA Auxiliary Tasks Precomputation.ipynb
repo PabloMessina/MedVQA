{
 "cells": [
  {
   "cell_type": "markdown",
   "metadata": {},
   "source": [
    "### Precomputing medical tags per report"
   ]
  },
  {
   "cell_type": "code",
   "execution_count": 33,
   "metadata": {},
   "outputs": [
    {
     "name": "stdout",
     "output_type": "stream",
     "text": [
      "Computing medical terms frequency ...\n",
      "1254647it [00:04, 261270.79it/s]\n",
      "Medical terms frequency computed and saved to /home/pamessina/medvqa-workspace/cache/medical_terms_frequency__20220324_165005.pkl\n"
     ]
    }
   ],
   "source": [
    "!python ../../scripts/precompute_medical_terms_frequency.py \\\n",
    "        --iuxray-qa-dataset-filename \"qa_adapted_reports__20220324_143133.json\" \\\n",
    "        --mimiccxr-qa-dataset-filename \"qa_adapted_reports__20220324_151809.json\""
   ]
  },
  {
   "cell_type": "code",
   "execution_count": 34,
   "metadata": {},
   "outputs": [
    {
     "name": "stdout",
     "output_type": "stream",
     "text": [
      "3927it [00:00, 69427.72it/s]\n",
      "IUXRAY medical tags per report computed and saved to /home/pamessina/medvqa-workspace/cache/iuxray/medical_tags_per_report__from(qa_adapted_reports__20220324_143133.json)__20220324_165148.pkl\n"
     ]
    }
   ],
   "source": [
    "!python ../../scripts/iuxray/extract_medical_tags.py \\\n",
    "        --iuxray-qa-dataset-filename \"qa_adapted_reports__20220324_143133.json\" \\\n",
    "        --medical-terms-frequency-filename \"medical_terms_frequency__20220324_165005.pkl\""
   ]
  },
  {
   "cell_type": "code",
   "execution_count": 35,
   "metadata": {},
   "outputs": [
    {
     "name": "stdout",
     "output_type": "stream",
     "text": [
      "227835it [00:04, 51582.90it/s]\n",
      "MIMICCXR medical tags per report computed and saved to /home/pamessina/medvqa-workspace/cache/mimiccxr/medical_tags_per_report__from(qa_adapted_reports__20220324_151809.json)__20220324_165325.pkl\n"
     ]
    }
   ],
   "source": [
    "!python ../../scripts/mimiccxr/extract_medical_tags.py \\\n",
    "        --mimiccxr-qa-dataset-filename \"qa_adapted_reports__20220324_151809.json\" \\\n",
    "        --medical-terms-frequency-filename \"medical_terms_frequency__20220324_165005.pkl\""
   ]
  },
  {
   "cell_type": "markdown",
   "metadata": {},
   "source": [
    "### Precomputing chexpert labels per setence of report"
   ]
  },
  {
   "cell_type": "code",
   "execution_count": 1,
   "metadata": {
    "scrolled": false
   },
   "outputs": [
    {
     "name": "stdout",
     "output_type": "stream",
     "text": [
      "Loading /home/pamessina/medvqa-workspace/cache/vocab__min_freq=5__from(qa_adapted_reports__20220324_143133.json;qa_adapted_reports__20220324_151809.json).pkl ...\n",
      "Collecting unique sentences ...\n",
      "1254647it [00:28, 44494.03it/s]\n",
      "len(texts): 543077\n",
      "average length: 81.71870839678351\n",
      "Chexpert labeler: running a maximum of 16 concurrent processes over 28 chunks\n",
      "chunk: i=0, b=0, e=19396, chunk_size=19396\n",
      "chunk: i=1, b=19396, e=38792, chunk_size=19396\n",
      "chunk: i=2, b=38792, e=58188, chunk_size=19396\n",
      "chunk: i=3, b=58188, e=77584, chunk_size=19396\n",
      "chunk: i=4, b=77584, e=96980, chunk_size=19396\n",
      "chunk: i=5, b=96980, e=116376, chunk_size=19396\n",
      "chunk: i=6, b=116376, e=135772, chunk_size=19396\n",
      "chunk: i=7, b=135772, e=155168, chunk_size=19396\n",
      "chunk: i=8, b=155168, e=174564, chunk_size=19396\n",
      "chunk: i=9, b=174564, e=193960, chunk_size=19396\n",
      "chunk: i=10, b=193960, e=213356, chunk_size=19396\n",
      "chunk: i=11, b=213356, e=232752, chunk_size=19396\n",
      "chunk: i=12, b=232752, e=252148, chunk_size=19396\n",
      "chunk: i=13, b=252148, e=271544, chunk_size=19396\n",
      "chunk: i=14, b=271544, e=290940, chunk_size=19396\n",
      "chunk: i=15, b=290940, e=310336, chunk_size=19396\n",
      "chunk: i=16, b=310336, e=329732, chunk_size=19396\n",
      "chunk: i=17, b=329732, e=349128, chunk_size=19396\n",
      "chunk: i=18, b=349128, e=368524, chunk_size=19396\n",
      "chunk: i=19, b=368524, e=387920, chunk_size=19396\n",
      "chunk: i=20, b=387920, e=407316, chunk_size=19396\n",
      "chunk: i=21, b=407316, e=426712, chunk_size=19396\n",
      "chunk: i=22, b=426712, e=446108, chunk_size=19396\n",
      "chunk: i=23, b=446108, e=465504, chunk_size=19396\n",
      "chunk: i=24, b=465504, e=484900, chunk_size=19396\n",
      "chunk: i=25, b=484900, e=504296, chunk_size=19396\n",
      "chunk: i=26, b=504296, e=523692, chunk_size=19396\n",
      "chunk: i=27, b=523692, e=543088, chunk_size=19385\n",
      "\t#### process 1: running chexpert labeler over 19396 texts ...\n",
      "\tCommand = docker run -v /home/pamessina/medvqa-workspace/tmp/chexpert-labeler:/data chexpert-labeler:latest python label.py --reports_path /data/labeler-input_20220331_065722_0.csv --output_path /data/labeler-output_20220331_065722_0.csv\n",
      "\t#### process 2: running chexpert labeler over 19396 texts ...\n",
      "\tCommand = docker run -v /home/pamessina/medvqa-workspace/tmp/chexpert-labeler:/data chexpert-labeler:latest python label.py --reports_path /data/labeler-input_20220331_065722_1.csv --output_path /data/labeler-output_20220331_065722_1.csv\n",
      "\t#### process 3: running chexpert labeler over 19396 texts ...\n",
      "\tCommand = docker run -v /home/pamessina/medvqa-workspace/tmp/chexpert-labeler:/data chexpert-labeler:latest python label.py --reports_path /data/labeler-input_20220331_065722_2.csv --output_path /data/labeler-output_20220331_065722_2.csv\n",
      "\t#### process 4: running chexpert labeler over 19396 texts ...\n",
      "\tCommand = docker run -v /home/pamessina/medvqa-workspace/tmp/chexpert-labeler:/data chexpert-labeler:latest python label.py --reports_path /data/labeler-input_20220331_065722_3.csv --output_path /data/labeler-output_20220331_065722_3.csv\n",
      "\t#### process 5: running chexpert labeler over 19396 texts ...\n",
      "\tCommand = docker run -v /home/pamessina/medvqa-workspace/tmp/chexpert-labeler:/data chexpert-labeler:latest python label.py --reports_path /data/labeler-input_20220331_065722_4.csv --output_path /data/labeler-output_20220331_065722_4.csv\n",
      "\t#### process 6: running chexpert labeler over 19396 texts ...\n",
      "\tCommand = docker run -v /home/pamessina/medvqa-workspace/tmp/chexpert-labeler:/data chexpert-labeler:latest python label.py --reports_path /data/labeler-input_20220331_065722_5.csv --output_path /data/labeler-output_20220331_065722_5.csv\n",
      "\t#### process 7: running chexpert labeler over 19396 texts ...\n",
      "\tCommand = docker run -v /home/pamessina/medvqa-workspace/tmp/chexpert-labeler:/data chexpert-labeler:latest python label.py --reports_path /data/labeler-input_20220331_065722_6.csv --output_path /data/labeler-output_20220331_065722_6.csv\n",
      "\t#### process 8: running chexpert labeler over 19396 texts ...\n",
      "\tCommand = docker run -v /home/pamessina/medvqa-workspace/tmp/chexpert-labeler:/data chexpert-labeler:latest python label.py --reports_path /data/labeler-input_20220331_065722_7.csv --output_path /data/labeler-output_20220331_065722_7.csv\n",
      "\t#### process 9: running chexpert labeler over 19396 texts ...\n",
      "\tCommand = docker run -v /home/pamessina/medvqa-workspace/tmp/chexpert-labeler:/data chexpert-labeler:latest python label.py --reports_path /data/labeler-input_20220331_065722_8.csv --output_path /data/labeler-output_20220331_065722_8.csv\n",
      "\t#### process 10: running chexpert labeler over 19396 texts ...\n",
      "\tCommand = docker run -v /home/pamessina/medvqa-workspace/tmp/chexpert-labeler:/data chexpert-labeler:latest python label.py --reports_path /data/labeler-input_20220331_065722_9.csv --output_path /data/labeler-output_20220331_065722_9.csv\n",
      "\t#### process 11: running chexpert labeler over 19396 texts ...\n",
      "\tCommand = docker run -v /home/pamessina/medvqa-workspace/tmp/chexpert-labeler:/data chexpert-labeler:latest python label.py --reports_path /data/labeler-input_20220331_065722_10.csv --output_path /data/labeler-output_20220331_065722_10.csv\n",
      "\t#### process 12: running chexpert labeler over 19396 texts ...\n",
      "\tCommand = docker run -v /home/pamessina/medvqa-workspace/tmp/chexpert-labeler:/data chexpert-labeler:latest python label.py --reports_path /data/labeler-input_20220331_065722_11.csv --output_path /data/labeler-output_20220331_065722_11.csv\n",
      "\t#### process 13: running chexpert labeler over 19396 texts ...\n",
      "\tCommand = docker run -v /home/pamessina/medvqa-workspace/tmp/chexpert-labeler:/data chexpert-labeler:latest python label.py --reports_path /data/labeler-input_20220331_065722_12.csv --output_path /data/labeler-output_20220331_065722_12.csv\n",
      "\t#### process 14: running chexpert labeler over 19396 texts ...\n",
      "\tCommand = docker run -v /home/pamessina/medvqa-workspace/tmp/chexpert-labeler:/data chexpert-labeler:latest python label.py --reports_path /data/labeler-input_20220331_065722_13.csv --output_path /data/labeler-output_20220331_065722_13.csv\n",
      "\t#### process 15: running chexpert labeler over 19396 texts ...\n",
      "\tCommand = docker run -v /home/pamessina/medvqa-workspace/tmp/chexpert-labeler:/data chexpert-labeler:latest python label.py --reports_path /data/labeler-input_20220331_065722_14.csv --output_path /data/labeler-output_20220331_065722_14.csv\n",
      "\t#### process 16: running chexpert labeler over 19396 texts ...\n",
      "\tCommand = docker run -v /home/pamessina/medvqa-workspace/tmp/chexpert-labeler:/data chexpert-labeler:latest python label.py --reports_path /data/labeler-input_20220331_065722_15.csv --output_path /data/labeler-output_20220331_065722_15.csv\n",
      "Generating LALR tables\n",
      "Downloading 'http://search.maven.org/remotecontent?filepath=edu/stanford/nlp/stanford-corenlp/3.5.2/stanford-corenlp-3.5.2.jar' -> '/root/.local/share/pystanforddeps/stanford-corenlp-3.5.2.jar'\n",
      "Generating LALR tables\n",
      "Downloading 'http://search.maven.org/remotecontent?filepath=edu/stanford/nlp/stanford-corenlp/3.5.2/stanford-corenlp-3.5.2.jar' -> '/root/.local/share/pystanforddeps/stanford-corenlp-3.5.2.jar'\n",
      "Downloading 'http://search.maven.org/remotecontent?filepath=edu/stanford/nlp/stanford-corenlp/3.5.2/stanford-corenlp-3.5.2.jar' -> '/root/.local/share/pystanforddeps/stanford-corenlp-3.5.2.jar'\n",
      "Generating LALR tables\n",
      "Generating LALR tables\n",
      "Downloading 'http://search.maven.org/remotecontent?filepath=edu/stanford/nlp/stanford-corenlp/3.5.2/stanford-corenlp-3.5.2.jar' -> '/root/.local/share/pystanforddeps/stanford-corenlp-3.5.2.jar'\n",
      "Generating LALR tables\n",
      "Downloading 'http://search.maven.org/remotecontent?filepath=edu/stanford/nlp/stanford-corenlp/3.5.2/stanford-corenlp-3.5.2.jar' -> '/root/.local/share/pystanforddeps/stanford-corenlp-3.5.2.jar'\n",
      "Generating LALR tables\n",
      "Downloading 'http://search.maven.org/remotecontent?filepath=edu/stanford/nlp/stanford-corenlp/3.5.2/stanford-corenlp-3.5.2.jar' -> '/root/.local/share/pystanforddeps/stanford-corenlp-3.5.2.jar'\n",
      "Generating LALR tables\n",
      "Downloading 'http://search.maven.org/remotecontent?filepath=edu/stanford/nlp/stanford-corenlp/3.5.2/stanford-corenlp-3.5.2.jar' -> '/root/.local/share/pystanforddeps/stanford-corenlp-3.5.2.jar'\n",
      "Generating LALR tables\n",
      "Downloading 'http://search.maven.org/remotecontent?filepath=edu/stanford/nlp/stanford-corenlp/3.5.2/stanford-corenlp-3.5.2.jar' -> '/root/.local/share/pystanforddeps/stanford-corenlp-3.5.2.jar'\n"
     ]
    },
    {
     "name": "stdout",
     "output_type": "stream",
     "text": [
      "Generating LALR tables\n",
      "Downloading 'http://search.maven.org/remotecontent?filepath=edu/stanford/nlp/stanford-corenlp/3.5.2/stanford-corenlp-3.5.2.jar' -> '/root/.local/share/pystanforddeps/stanford-corenlp-3.5.2.jar'\n",
      "Generating LALR tables\n",
      "Downloading 'http://search.maven.org/remotecontent?filepath=edu/stanford/nlp/stanford-corenlp/3.5.2/stanford-corenlp-3.5.2.jar' -> '/root/.local/share/pystanforddeps/stanford-corenlp-3.5.2.jar'\n",
      "Generating LALR tables\n",
      "Downloading 'http://search.maven.org/remotecontent?filepath=edu/stanford/nlp/stanford-corenlp/3.5.2/stanford-corenlp-3.5.2.jar' -> '/root/.local/share/pystanforddeps/stanford-corenlp-3.5.2.jar'\n",
      "Generating LALR tables\n",
      "Downloading 'http://search.maven.org/remotecontent?filepath=edu/stanford/nlp/stanford-corenlp/3.5.2/stanford-corenlp-3.5.2.jar' -> '/root/.local/share/pystanforddeps/stanford-corenlp-3.5.2.jar'\n",
      "Generating LALR tables\n",
      "Downloading 'http://search.maven.org/remotecontent?filepath=edu/stanford/nlp/stanford-corenlp/3.5.2/stanford-corenlp-3.5.2.jar' -> '/root/.local/share/pystanforddeps/stanford-corenlp-3.5.2.jar'\n",
      "\t**** process 1 finished, elapsed time = 7726.922052621841\n",
      "\t#### process 17: running chexpert labeler over 19396 texts ...\n",
      "\tCommand = docker run -v /home/pamessina/medvqa-workspace/tmp/chexpert-labeler:/data chexpert-labeler:latest python label.py --reports_path /data/labeler-input_20220331_065722_16.csv --output_path /data/labeler-output_20220331_065722_16.csv\n",
      "Generating LALR tables\n",
      "Downloading 'http://search.maven.org/remotecontent?filepath=edu/stanford/nlp/stanford-corenlp/3.5.2/stanford-corenlp-3.5.2.jar' -> '/root/.local/share/pystanforddeps/stanford-corenlp-3.5.2.jar'\n",
      "Downloading 'http://search.maven.org/remotecontent?filepath=edu/stanford/nlp/stanford-corenlp/3.5.2/stanford-corenlp-3.5.2.jar' -> '/root/.local/share/pystanforddeps/stanford-corenlp-3.5.2.jar'\n",
      "Generating LALR tables\n",
      "\t**** process 2 finished, elapsed time = 7777.417042016983\n",
      "\t#### process 18: running chexpert labeler over 19396 texts ...\n",
      "\tCommand = docker run -v /home/pamessina/medvqa-workspace/tmp/chexpert-labeler:/data chexpert-labeler:latest python label.py --reports_path /data/labeler-input_20220331_065722_17.csv --output_path /data/labeler-output_20220331_065722_17.csv\n",
      "\t**** process 3 finished, elapsed time = 7778.463791847229\n",
      "\t#### process 19: running chexpert labeler over 19396 texts ...\n",
      "\tCommand = docker run -v /home/pamessina/medvqa-workspace/tmp/chexpert-labeler:/data chexpert-labeler:latest python label.py --reports_path /data/labeler-input_20220331_065722_18.csv --output_path /data/labeler-output_20220331_065722_18.csv\n",
      "\t**** process 4 finished, elapsed time = 7779.508936405182\n",
      "\t#### process 20: running chexpert labeler over 19396 texts ...\n",
      "\tCommand = docker run -v /home/pamessina/medvqa-workspace/tmp/chexpert-labeler:/data chexpert-labeler:latest python label.py --reports_path /data/labeler-input_20220331_065722_19.csv --output_path /data/labeler-output_20220331_065722_19.csv\n",
      "\t**** process 5 finished, elapsed time = 7780.556404829025\n",
      "\t#### process 21: running chexpert labeler over 19396 texts ...\n",
      "\tCommand = docker run -v /home/pamessina/medvqa-workspace/tmp/chexpert-labeler:/data chexpert-labeler:latest python label.py --reports_path /data/labeler-input_20220331_065722_20.csv --output_path /data/labeler-output_20220331_065722_20.csv\n",
      "\t**** process 6 finished, elapsed time = 7781.60325884819\n",
      "\t#### process 22: running chexpert labeler over 19396 texts ...\n",
      "\tCommand = docker run -v /home/pamessina/medvqa-workspace/tmp/chexpert-labeler:/data chexpert-labeler:latest python label.py --reports_path /data/labeler-input_20220331_065722_21.csv --output_path /data/labeler-output_20220331_065722_21.csv\n",
      "\t**** process 7 finished, elapsed time = 7782.647526741028\n",
      "\t#### process 23: running chexpert labeler over 19396 texts ...\n",
      "\tCommand = docker run -v /home/pamessina/medvqa-workspace/tmp/chexpert-labeler:/data chexpert-labeler:latest python label.py --reports_path /data/labeler-input_20220331_065722_22.csv --output_path /data/labeler-output_20220331_065722_22.csv\n",
      "Generating LALR tables\n",
      "Downloading 'http://search.maven.org/remotecontent?filepath=edu/stanford/nlp/stanford-corenlp/3.5.2/stanford-corenlp-3.5.2.jar' -> '/root/.local/share/pystanforddeps/stanford-corenlp-3.5.2.jar'\n",
      "\t**** process 8 finished, elapsed time = 7833.6506679058075\n",
      "\t#### process 24: running chexpert labeler over 19396 texts ...\n",
      "\tCommand = docker run -v /home/pamessina/medvqa-workspace/tmp/chexpert-labeler:/data chexpert-labeler:latest python label.py --reports_path /data/labeler-input_20220331_065722_23.csv --output_path /data/labeler-output_20220331_065722_23.csv\n",
      "\t**** process 9 finished, elapsed time = 7834.698933839798\n",
      "\t#### process 25: running chexpert labeler over 19396 texts ...\n",
      "\tCommand = docker run -v /home/pamessina/medvqa-workspace/tmp/chexpert-labeler:/data chexpert-labeler:latest python label.py --reports_path /data/labeler-input_20220331_065722_24.csv --output_path /data/labeler-output_20220331_065722_24.csv\n",
      "\t**** process 10 finished, elapsed time = 7835.744861364365\n",
      "\t#### process 26: running chexpert labeler over 19396 texts ...\n",
      "\tCommand = docker run -v /home/pamessina/medvqa-workspace/tmp/chexpert-labeler:/data chexpert-labeler:latest python label.py --reports_path /data/labeler-input_20220331_065722_25.csv --output_path /data/labeler-output_20220331_065722_25.csv\n",
      "\t**** process 11 finished, elapsed time = 7836.7912085056305\n",
      "\t#### process 27: running chexpert labeler over 19396 texts ...\n",
      "\tCommand = docker run -v /home/pamessina/medvqa-workspace/tmp/chexpert-labeler:/data chexpert-labeler:latest python label.py --reports_path /data/labeler-input_20220331_065722_26.csv --output_path /data/labeler-output_20220331_065722_26.csv\n",
      "\t**** process 12 finished, elapsed time = 7837.830315828323\n",
      "\t#### process 28: running chexpert labeler over 19385 texts ...\n",
      "\tCommand = docker run -v /home/pamessina/medvqa-workspace/tmp/chexpert-labeler:/data chexpert-labeler:latest python label.py --reports_path /data/labeler-input_20220331_065722_27.csv --output_path /data/labeler-output_20220331_065722_27.csv\n",
      "\t**** process 13 finished, elapsed time = 7838.871465682983\n",
      "\t**** process 14 finished, elapsed time = 7838.871541261673\n",
      "\t**** process 15 finished, elapsed time = 7838.8715698719025\n",
      "\t**** process 16 finished, elapsed time = 7838.871597290039\n",
      "Generating LALR tables\n",
      "Downloading 'http://search.maven.org/remotecontent?filepath=edu/stanford/nlp/stanford-corenlp/3.5.2/stanford-corenlp-3.5.2.jar' -> '/root/.local/share/pystanforddeps/stanford-corenlp-3.5.2.jar'\n",
      "Generating LALR tables\n",
      "Downloading 'http://search.maven.org/remotecontent?filepath=edu/stanford/nlp/stanford-corenlp/3.5.2/stanford-corenlp-3.5.2.jar' -> '/root/.local/share/pystanforddeps/stanford-corenlp-3.5.2.jar'\n",
      "Generating LALR tables\n",
      "Downloading 'http://search.maven.org/remotecontent?filepath=edu/stanford/nlp/stanford-corenlp/3.5.2/stanford-corenlp-3.5.2.jar' -> '/root/.local/share/pystanforddeps/stanford-corenlp-3.5.2.jar'\n",
      "\t**** process 17 finished, elapsed time = 14274.989541053772\n",
      "Downloading 'http://search.maven.org/remotecontent?filepath=edu/stanford/nlp/stanford-corenlp/3.5.2/stanford-corenlp-3.5.2.jar' -> '/root/.local/share/pystanforddeps/stanford-corenlp-3.5.2.jar'\n",
      "Generating LALR tables\n",
      "\t**** process 18 finished, elapsed time = 14351.959144830704\n",
      "Generating LALR tables\n",
      "Downloading 'http://search.maven.org/remotecontent?filepath=edu/stanford/nlp/stanford-corenlp/3.5.2/stanford-corenlp-3.5.2.jar' -> '/root/.local/share/pystanforddeps/stanford-corenlp-3.5.2.jar'\n",
      "Generating LALR tables\n",
      "Downloading 'http://search.maven.org/remotecontent?filepath=edu/stanford/nlp/stanford-corenlp/3.5.2/stanford-corenlp-3.5.2.jar' -> '/root/.local/share/pystanforddeps/stanford-corenlp-3.5.2.jar'\n",
      "Downloading 'http://search.maven.org/remotecontent?filepath=edu/stanford/nlp/stanford-corenlp/3.5.2/stanford-corenlp-3.5.2.jar' -> '/root/.local/share/pystanforddeps/stanford-corenlp-3.5.2.jar'\n",
      "Generating LALR tables\n",
      "Downloading 'http://search.maven.org/remotecontent?filepath=edu/stanford/nlp/stanford-corenlp/3.5.2/stanford-corenlp-3.5.2.jar' -> '/root/.local/share/pystanforddeps/stanford-corenlp-3.5.2.jar'\n",
      "Generating LALR tables\n"
     ]
    },
    {
     "name": "stdout",
     "output_type": "stream",
     "text": [
      "Generating LALR tables\n",
      "Downloading 'http://search.maven.org/remotecontent?filepath=edu/stanford/nlp/stanford-corenlp/3.5.2/stanford-corenlp-3.5.2.jar' -> '/root/.local/share/pystanforddeps/stanford-corenlp-3.5.2.jar'\n",
      "Generating LALR tables\n",
      "Downloading 'http://search.maven.org/remotecontent?filepath=edu/stanford/nlp/stanford-corenlp/3.5.2/stanford-corenlp-3.5.2.jar' -> '/root/.local/share/pystanforddeps/stanford-corenlp-3.5.2.jar'\n",
      "Downloading 'http://search.maven.org/remotecontent?filepath=edu/stanford/nlp/stanford-corenlp/3.5.2/stanford-corenlp-3.5.2.jar' -> '/root/.local/share/pystanforddeps/stanford-corenlp-3.5.2.jar'\n",
      "Generating LALR tables\n",
      "\t**** process 19 finished, elapsed time = 14542.364771842957\n",
      "\t**** process 20 finished, elapsed time = 14542.36485505104\n",
      "\t**** process 21 finished, elapsed time = 14542.36489892006\n",
      "\t**** process 22 finished, elapsed time = 14542.364938735962\n",
      "\t**** process 23 finished, elapsed time = 14542.364978790283\n",
      "\t**** process 24 finished, elapsed time = 14542.365018367767\n",
      "\t**** process 25 finished, elapsed time = 14542.365063667297\n",
      "\t**** process 26 finished, elapsed time = 14542.365100622177\n",
      "Generating LALR tables\n",
      "Downloading 'http://search.maven.org/remotecontent?filepath=edu/stanford/nlp/stanford-corenlp/3.5.2/stanford-corenlp-3.5.2.jar' -> '/root/.local/share/pystanforddeps/stanford-corenlp-3.5.2.jar'\n",
      "\t**** process 27 finished, elapsed time = 14604.338512182236\n",
      "\t**** process 28 finished, elapsed time = 14604.338616132736\n",
      "Precomputed chexpert labels saved to /home/pamessina/medvqa-workspace/cache/precomputed_chexpert_labels_20220331_065722.pkl\n"
     ]
    }
   ],
   "source": [
    "!python ../../scripts/precompute_chexpert_labels.py \\\n",
    "        --iuxray-qa-dataset-filename \"qa_adapted_reports__20220324_143133.json\" \\\n",
    "        --mimiccxr-qa-dataset-filename \"qa_adapted_reports__20220324_151809.json\""
   ]
  }
 ],
 "metadata": {
  "kernelspec": {
   "display_name": "Python 3",
   "language": "python",
   "name": "python3"
  },
  "language_info": {
   "codemirror_mode": {
    "name": "ipython",
    "version": 3
   },
   "file_extension": ".py",
   "mimetype": "text/x-python",
   "name": "python",
   "nbconvert_exporter": "python",
   "pygments_lexer": "ipython3",
   "version": "3.6.9"
  }
 },
 "nbformat": 4,
 "nbformat_minor": 4
}
