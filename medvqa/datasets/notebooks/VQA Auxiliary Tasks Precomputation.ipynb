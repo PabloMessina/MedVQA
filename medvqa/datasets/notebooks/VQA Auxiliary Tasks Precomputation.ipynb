{
 "cells": [
  {
   "cell_type": "markdown",
   "metadata": {},
   "source": [
    "### Precomputing medical tags per report"
   ]
  },
  {
   "cell_type": "code",
   "execution_count": 27,
   "metadata": {},
   "outputs": [
    {
     "name": "stdout",
     "output_type": "stream",
     "text": [
      "Computing medical terms frequency ...\n",
      "1254745it [00:04, 277275.11it/s]\n",
      "Medical terms frequency computed and saved to /home/pamessina/medvqa-workspace/cache/medical_terms_frequency__20220317_145545.pkl\n"
     ]
    }
   ],
   "source": [
    "!python ../../scripts/precompute_medical_terms_frequency.py \\\n",
    "        --iuxray-qa-dataset-filename \"qa_adapted_reports.json\" \\\n",
    "        --mimiccxr-qa-dataset-filename \"qa_adapted_reports.json\""
   ]
  },
  {
   "cell_type": "code",
   "execution_count": 29,
   "metadata": {},
   "outputs": [
    {
     "name": "stdout",
     "output_type": "stream",
     "text": [
      "3927it [00:00, 70962.79it/s]\n",
      "IUXRAY medical tags per report computed and saved to /home/pamessina/medvqa-workspace/cache/iuxray/medical_tags_per_report__from(qa_adapted_reports.json)__20220317_151326.pkl\n"
     ]
    }
   ],
   "source": [
    "!python ../../scripts/iuxray/extract_medical_tags.py \\\n",
    "        --iuxray-qa-dataset-filename \"qa_adapted_reports.json\" \\\n",
    "        --medical-terms-frequency-filename \"medical_terms_frequency__20220317_145545.pkl\""
   ]
  },
  {
   "cell_type": "code",
   "execution_count": 32,
   "metadata": {},
   "outputs": [
    {
     "name": "stdout",
     "output_type": "stream",
     "text": [
      "227835it [00:04, 49901.38it/s]\n",
      "MIMICCXR medical tags per report computed and saved to /home/pamessina/medvqa-workspace/cache/mimiccxr/medical_tags_per_report__from(qa_adapted_reports.json)__20220317_151645.pkl\n"
     ]
    }
   ],
   "source": [
    "!python ../../scripts/mimiccxr/extract_medical_tags.py \\\n",
    "        --mimiccxr-qa-dataset-filename \"qa_adapted_reports.json\" \\\n",
    "        --medical-terms-frequency-filename \"medical_terms_frequency__20220317_145545.pkl\""
   ]
  }
 ],
 "metadata": {
  "kernelspec": {
   "display_name": "Python 3",
   "language": "python",
   "name": "python3"
  },
  "language_info": {
   "codemirror_mode": {
    "name": "ipython",
    "version": 3
   },
   "file_extension": ".py",
   "mimetype": "text/x-python",
   "name": "python",
   "nbconvert_exporter": "python",
   "pygments_lexer": "ipython3",
   "version": "3.6.9"
  }
 },
 "nbformat": 4,
 "nbformat_minor": 4
}
