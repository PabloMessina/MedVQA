{
 "cells": [
  {
   "cell_type": "markdown",
   "metadata": {},
   "source": [
    "### Precomputing medical tags per report"
   ]
  },
  {
   "cell_type": "code",
   "execution_count": 1,
   "metadata": {},
   "outputs": [
    {
     "name": "stdout",
     "output_type": "stream",
     "text": [
      "Computing medical terms frequency ...\n",
      "1268216it [00:04, 269189.59it/s]\n",
      "Medical terms frequency computed and saved to /home/pamessina/medvqa-workspace/cache/medical_terms_frequency__20220629_052724.pkl\n"
     ]
    }
   ],
   "source": [
    "!python ../../scripts/precompute_medical_terms_frequency.py \\\n",
    "        --iuxray-qa-dataset-filename \"qa_adapted_reports__20220629_042239.json\" \\\n",
    "        --mimiccxr-qa-dataset-filename \"qa_adapted_reports__20220629_050643.json\""
   ]
  },
  {
   "cell_type": "code",
   "execution_count": 2,
   "metadata": {},
   "outputs": [
    {
     "name": "stdout",
     "output_type": "stream",
     "text": [
      "3927it [00:00, 66539.14it/s]\n",
      "IUXRAY medical tags per report computed and saved to /home/pamessina/medvqa-workspace/cache/iuxray/medical_tags_per_report__from(qa_adapted_reports__20220629_042239.json)__20220629_052743.pkl\n"
     ]
    }
   ],
   "source": [
    "!python ../../scripts/iuxray/extract_medical_tags.py \\\n",
    "        --iuxray-qa-dataset-filename \"qa_adapted_reports__20220629_042239.json\" \\\n",
    "        --medical-terms-frequency-filename \"medical_terms_frequency__20220629_052724.pkl\""
   ]
  },
  {
   "cell_type": "code",
   "execution_count": 3,
   "metadata": {},
   "outputs": [
    {
     "name": "stdout",
     "output_type": "stream",
     "text": [
      "227835it [00:04, 48614.51it/s]\n",
      "MIMICCXR medical tags per report computed and saved to /home/pamessina/medvqa-workspace/cache/mimiccxr/medical_tags_per_report__from(qa_adapted_reports__20220629_050643.json)__20220629_052812.pkl\n"
     ]
    }
   ],
   "source": [
    "!python ../../scripts/mimiccxr/extract_medical_tags.py \\\n",
    "        --mimiccxr-qa-dataset-filename \"qa_adapted_reports__20220629_050643.json\" \\\n",
    "        --medical-terms-frequency-filename \"medical_terms_frequency__20220629_052724.pkl\""
   ]
  },
  {
   "cell_type": "markdown",
   "metadata": {},
   "source": [
    "### Precomputing question labels per report"
   ]
  },
  {
   "cell_type": "code",
   "execution_count": 4,
   "metadata": {
    "scrolled": false
   },
   "outputs": [
    {
     "name": "stdout",
     "output_type": "stream",
     "text": [
      "3927it [00:00, 425190.56it/s]\n",
      "Question labels saved to /home/pamessina/medvqa-workspace/cache/iuxray/question_labels_per_report__20220629_052841.pkl\n",
      "227835it [00:00, 403515.93it/s]\n",
      "Question labels saved to /home/pamessina/medvqa-workspace/cache/mimiccxr/question_labels_per_report__20220629_052842.pkl\n"
     ]
    }
   ],
   "source": [
    "!python ../../scripts/precompute_question_labels.py \\\n",
    "        --iuxray-qa-dataset-filename \"qa_adapted_reports__20220629_042239.json\" \\\n",
    "        --mimiccxr-qa-dataset-filename \"qa_adapted_reports__20220629_050643.json\""
   ]
  },
  {
   "cell_type": "markdown",
   "metadata": {},
   "source": [
    "### Precomputing chexpert labels per setence of report"
   ]
  },
  {
   "cell_type": "code",
   "execution_count": 5,
   "metadata": {
    "scrolled": false
   },
   "outputs": [
    {
     "name": "stdout",
     "output_type": "stream",
     "text": [
      "Loading /home/pamessina/medvqa-workspace/cache/vocab__min_freq=5__from(qa_adapted_reports__20220629_042239.json;qa_adapted_reports__20220629_050643.json).pkl ...\n",
      "1351853it [00:07, 171640.68it/s]\n",
      "Vocabulary saved to /home/pamessina/medvqa-workspace/cache/vocab__min_freq=5__from(qa_adapted_reports__20220629_042239.json;qa_adapted_reports__20220629_050643.json).pkl\n",
      "Collecting unique sentences ...\n",
      "1268216it [00:30, 41756.55it/s]\n",
      "len(unlabeled_texts): 20303\n",
      "average length: 18.41205733142885\n",
      "Chexpert labeler: running a maximum of 16 concurrent processes over 16 chunks\n",
      "chunk: i=0, b=0, e=1269, chunk_size=1269\n",
      "chunk: i=1, b=1269, e=2538, chunk_size=1269\n",
      "chunk: i=2, b=2538, e=3807, chunk_size=1269\n",
      "chunk: i=3, b=3807, e=5076, chunk_size=1269\n",
      "chunk: i=4, b=5076, e=6345, chunk_size=1269\n",
      "chunk: i=5, b=6345, e=7614, chunk_size=1269\n",
      "chunk: i=6, b=7614, e=8883, chunk_size=1269\n",
      "chunk: i=7, b=8883, e=10152, chunk_size=1269\n",
      "chunk: i=8, b=10152, e=11421, chunk_size=1269\n",
      "chunk: i=9, b=11421, e=12690, chunk_size=1269\n",
      "chunk: i=10, b=12690, e=13959, chunk_size=1269\n",
      "chunk: i=11, b=13959, e=15228, chunk_size=1269\n",
      "chunk: i=12, b=15228, e=16497, chunk_size=1269\n",
      "chunk: i=13, b=16497, e=17766, chunk_size=1269\n",
      "chunk: i=14, b=17766, e=19035, chunk_size=1269\n",
      "chunk: i=15, b=19035, e=20304, chunk_size=1268\n",
      "\t#### process 1: running chexpert labeler over 1269 texts ...\n",
      "\tCommand = docker run -v /home/pamessina/medvqa-workspace/tmp/chexpert-labeler:/data chexpert-labeler:latest python label.py --reports_path /data/labeler-input_20220629_053109_0.csv --output_path /data/labeler-output_20220629_053109_0.csv\n",
      "\t#### process 2: running chexpert labeler over 1269 texts ...\n",
      "\tCommand = docker run -v /home/pamessina/medvqa-workspace/tmp/chexpert-labeler:/data chexpert-labeler:latest python label.py --reports_path /data/labeler-input_20220629_053109_1.csv --output_path /data/labeler-output_20220629_053109_1.csv\n",
      "\t#### process 3: running chexpert labeler over 1269 texts ...\n",
      "\tCommand = docker run -v /home/pamessina/medvqa-workspace/tmp/chexpert-labeler:/data chexpert-labeler:latest python label.py --reports_path /data/labeler-input_20220629_053109_2.csv --output_path /data/labeler-output_20220629_053109_2.csv\n",
      "\t#### process 4: running chexpert labeler over 1269 texts ...\n",
      "\tCommand = docker run -v /home/pamessina/medvqa-workspace/tmp/chexpert-labeler:/data chexpert-labeler:latest python label.py --reports_path /data/labeler-input_20220629_053109_3.csv --output_path /data/labeler-output_20220629_053109_3.csv\n",
      "\t#### process 5: running chexpert labeler over 1269 texts ...\n",
      "\tCommand = docker run -v /home/pamessina/medvqa-workspace/tmp/chexpert-labeler:/data chexpert-labeler:latest python label.py --reports_path /data/labeler-input_20220629_053109_4.csv --output_path /data/labeler-output_20220629_053109_4.csv\n",
      "\t#### process 6: running chexpert labeler over 1269 texts ...\n",
      "\tCommand = docker run -v /home/pamessina/medvqa-workspace/tmp/chexpert-labeler:/data chexpert-labeler:latest python label.py --reports_path /data/labeler-input_20220629_053109_5.csv --output_path /data/labeler-output_20220629_053109_5.csv\n",
      "\t#### process 7: running chexpert labeler over 1269 texts ...\n",
      "\tCommand = docker run -v /home/pamessina/medvqa-workspace/tmp/chexpert-labeler:/data chexpert-labeler:latest python label.py --reports_path /data/labeler-input_20220629_053109_6.csv --output_path /data/labeler-output_20220629_053109_6.csv\n",
      "\t#### process 8: running chexpert labeler over 1269 texts ...\n",
      "\tCommand = docker run -v /home/pamessina/medvqa-workspace/tmp/chexpert-labeler:/data chexpert-labeler:latest python label.py --reports_path /data/labeler-input_20220629_053109_7.csv --output_path /data/labeler-output_20220629_053109_7.csv\n",
      "\t#### process 9: running chexpert labeler over 1269 texts ...\n",
      "\tCommand = docker run -v /home/pamessina/medvqa-workspace/tmp/chexpert-labeler:/data chexpert-labeler:latest python label.py --reports_path /data/labeler-input_20220629_053109_8.csv --output_path /data/labeler-output_20220629_053109_8.csv\n",
      "\t#### process 10: running chexpert labeler over 1269 texts ...\n",
      "\tCommand = docker run -v /home/pamessina/medvqa-workspace/tmp/chexpert-labeler:/data chexpert-labeler:latest python label.py --reports_path /data/labeler-input_20220629_053109_9.csv --output_path /data/labeler-output_20220629_053109_9.csv\n",
      "\t#### process 11: running chexpert labeler over 1269 texts ...\n",
      "\tCommand = docker run -v /home/pamessina/medvqa-workspace/tmp/chexpert-labeler:/data chexpert-labeler:latest python label.py --reports_path /data/labeler-input_20220629_053109_10.csv --output_path /data/labeler-output_20220629_053109_10.csv\n",
      "\t#### process 12: running chexpert labeler over 1269 texts ...\n",
      "\tCommand = docker run -v /home/pamessina/medvqa-workspace/tmp/chexpert-labeler:/data chexpert-labeler:latest python label.py --reports_path /data/labeler-input_20220629_053109_11.csv --output_path /data/labeler-output_20220629_053109_11.csv\n",
      "\t#### process 13: running chexpert labeler over 1269 texts ...\n",
      "\tCommand = docker run -v /home/pamessina/medvqa-workspace/tmp/chexpert-labeler:/data chexpert-labeler:latest python label.py --reports_path /data/labeler-input_20220629_053109_12.csv --output_path /data/labeler-output_20220629_053109_12.csv\n",
      "\t#### process 14: running chexpert labeler over 1269 texts ...\n",
      "\tCommand = docker run -v /home/pamessina/medvqa-workspace/tmp/chexpert-labeler:/data chexpert-labeler:latest python label.py --reports_path /data/labeler-input_20220629_053109_13.csv --output_path /data/labeler-output_20220629_053109_13.csv\n",
      "\t#### process 15: running chexpert labeler over 1269 texts ...\n",
      "\tCommand = docker run -v /home/pamessina/medvqa-workspace/tmp/chexpert-labeler:/data chexpert-labeler:latest python label.py --reports_path /data/labeler-input_20220629_053109_14.csv --output_path /data/labeler-output_20220629_053109_14.csv\n",
      "\t#### process 16: running chexpert labeler over 1268 texts ...\n",
      "\tCommand = docker run -v /home/pamessina/medvqa-workspace/tmp/chexpert-labeler:/data chexpert-labeler:latest python label.py --reports_path /data/labeler-input_20220629_053109_15.csv --output_path /data/labeler-output_20220629_053109_15.csv\n",
      "Generating LALR tables\n",
      "Downloading 'http://search.maven.org/remotecontent?filepath=edu/stanford/nlp/stanford-corenlp/3.5.2/stanford-corenlp-3.5.2.jar' -> '/root/.local/share/pystanforddeps/stanford-corenlp-3.5.2.jar'\n",
      "Generating LALR tables\n",
      "Downloading 'http://search.maven.org/remotecontent?filepath=edu/stanford/nlp/stanford-corenlp/3.5.2/stanford-corenlp-3.5.2.jar' -> '/root/.local/share/pystanforddeps/stanford-corenlp-3.5.2.jar'\n",
      "Generating LALR tables\n",
      "Downloading 'http://search.maven.org/remotecontent?filepath=edu/stanford/nlp/stanford-corenlp/3.5.2/stanford-corenlp-3.5.2.jar' -> '/root/.local/share/pystanforddeps/stanford-corenlp-3.5.2.jar'\n",
      "Generating LALR tables\n",
      "Downloading 'http://search.maven.org/remotecontent?filepath=edu/stanford/nlp/stanford-corenlp/3.5.2/stanford-corenlp-3.5.2.jar' -> '/root/.local/share/pystanforddeps/stanford-corenlp-3.5.2.jar'\n",
      "Generating LALR tables\n",
      "Downloading 'http://search.maven.org/remotecontent?filepath=edu/stanford/nlp/stanford-corenlp/3.5.2/stanford-corenlp-3.5.2.jar' -> '/root/.local/share/pystanforddeps/stanford-corenlp-3.5.2.jar'\n",
      "Generating LALR tables\n",
      "Downloading 'http://search.maven.org/remotecontent?filepath=edu/stanford/nlp/stanford-corenlp/3.5.2/stanford-corenlp-3.5.2.jar' -> '/root/.local/share/pystanforddeps/stanford-corenlp-3.5.2.jar'\n",
      "Generating LALR tables\n",
      "Downloading 'http://search.maven.org/remotecontent?filepath=edu/stanford/nlp/stanford-corenlp/3.5.2/stanford-corenlp-3.5.2.jar' -> '/root/.local/share/pystanforddeps/stanford-corenlp-3.5.2.jar'\n",
      "Generating LALR tables\n",
      "Downloading 'http://search.maven.org/remotecontent?filepath=edu/stanford/nlp/stanford-corenlp/3.5.2/stanford-corenlp-3.5.2.jar' -> '/root/.local/share/pystanforddeps/stanford-corenlp-3.5.2.jar'\n",
      "Generating LALR tables\n",
      "Downloading 'http://search.maven.org/remotecontent?filepath=edu/stanford/nlp/stanford-corenlp/3.5.2/stanford-corenlp-3.5.2.jar' -> '/root/.local/share/pystanforddeps/stanford-corenlp-3.5.2.jar'\n",
      "Downloading 'http://search.maven.org/remotecontent?filepath=edu/stanford/nlp/stanford-corenlp/3.5.2/stanford-corenlp-3.5.2.jar' -> '/root/.local/share/pystanforddeps/stanford-corenlp-3.5.2.jar'\n",
      "Generating LALR tables\n"
     ]
    },
    {
     "name": "stdout",
     "output_type": "stream",
     "text": [
      "Downloading 'http://search.maven.org/remotecontent?filepath=edu/stanford/nlp/stanford-corenlp/3.5.2/stanford-corenlp-3.5.2.jar' -> '/root/.local/share/pystanforddeps/stanford-corenlp-3.5.2.jar'\n",
      "Generating LALR tables\n",
      "Downloading 'http://search.maven.org/remotecontent?filepath=edu/stanford/nlp/stanford-corenlp/3.5.2/stanford-corenlp-3.5.2.jar' -> '/root/.local/share/pystanforddeps/stanford-corenlp-3.5.2.jar'\n",
      "Generating LALR tables\n",
      "\t**** process 1 finished, elapsed time = 1048.9345591068268\n",
      "\t**** process 2 finished, elapsed time = 1048.934726715088\n",
      "\t**** process 3 finished, elapsed time = 1048.9347748756409\n",
      "\t**** process 4 finished, elapsed time = 1048.934821844101\n",
      "Downloading 'http://search.maven.org/remotecontent?filepath=edu/stanford/nlp/stanford-corenlp/3.5.2/stanford-corenlp-3.5.2.jar' -> '/root/.local/share/pystanforddeps/stanford-corenlp-3.5.2.jar'\n",
      "Generating LALR tables\n",
      "\t**** process 5 finished, elapsed time = 1063.822936296463\n",
      "Generating LALR tables\n",
      "Downloading 'http://search.maven.org/remotecontent?filepath=edu/stanford/nlp/stanford-corenlp/3.5.2/stanford-corenlp-3.5.2.jar' -> '/root/.local/share/pystanforddeps/stanford-corenlp-3.5.2.jar'\n",
      "Generating LALR tables\n",
      "Downloading 'http://search.maven.org/remotecontent?filepath=edu/stanford/nlp/stanford-corenlp/3.5.2/stanford-corenlp-3.5.2.jar' -> '/root/.local/share/pystanforddeps/stanford-corenlp-3.5.2.jar'\n",
      "\t**** process 6 finished, elapsed time = 1072.1395590305328\n",
      "\t**** process 7 finished, elapsed time = 1072.1396453380585\n",
      "\t**** process 8 finished, elapsed time = 1072.1396865844727\n",
      "\t**** process 9 finished, elapsed time = 1072.1397259235382\n",
      "\t**** process 10 finished, elapsed time = 1072.1397631168365\n",
      "\t**** process 11 finished, elapsed time = 1072.1398010253906\n",
      "Generating LALR tables\n",
      "Downloading 'http://search.maven.org/remotecontent?filepath=edu/stanford/nlp/stanford-corenlp/3.5.2/stanford-corenlp-3.5.2.jar' -> '/root/.local/share/pystanforddeps/stanford-corenlp-3.5.2.jar'\n",
      "\t**** process 12 finished, elapsed time = 1090.8192093372345\n",
      "\t**** process 13 finished, elapsed time = 1090.8193306922913\n",
      "\t**** process 14 finished, elapsed time = 1090.8193843364716\n",
      "\t**** process 15 finished, elapsed time = 1090.8194308280945\n",
      "\t**** process 16 finished, elapsed time = 1090.819475889206\n",
      "Precomputed chexpert labels saved to /home/pamessina/medvqa-workspace/cache/precomputed_chexpert_labels_20220629_053109.pkl\n"
     ]
    }
   ],
   "source": [
    "!python ../../scripts/precompute_chexpert_labels.py \\\n",
    "        --iuxray-qa-dataset-filename \"qa_adapted_reports__20220629_042239.json\" \\\n",
    "        --mimiccxr-qa-dataset-filename \"qa_adapted_reports__20220629_050643.json\" \\\n",
    "        --chexpert-labels-cache-filename \"precomputed_chexpert_labels_20220607_230058.pkl\""
   ]
  },
  {
   "cell_type": "markdown",
   "metadata": {},
   "source": [
    "### Aggregating chexpert labels per report"
   ]
  },
  {
   "cell_type": "code",
   "execution_count": 6,
   "metadata": {
    "scrolled": false
   },
   "outputs": [
    {
     "name": "stdout",
     "output_type": "stream",
     "text": [
      "Loading /home/pamessina/medvqa-workspace/cache/vocab__min_freq=5__from(qa_adapted_reports__20220629_042239.json;qa_adapted_reports__20220629_050643.json).pkl ...\n",
      "3927it [00:00, 5365.11it/s]\n",
      "Chexpert labels aggregated and saved to /home/pamessina/medvqa-workspace/cache/iuxray/chexpert_labels_per_report__20220629_055107.pkl\n",
      "227835it [00:51, 4398.13it/s]\n",
      "Chexpert labels aggregated and saved to /home/pamessina/medvqa-workspace/cache/mimiccxr/chexpert_labels_per_report__20220629_055159.pkl\n"
     ]
    }
   ],
   "source": [
    "!python ../../scripts/aggregate_chexpert_labels_per_report.py \\\n",
    "        --iuxray-qa-dataset-filename \"qa_adapted_reports__20220629_042239.json\" \\\n",
    "        --mimiccxr-qa-dataset-filename \"qa_adapted_reports__20220629_050643.json\" \\\n",
    "        --chexpert-labels-cache-filename \"precomputed_chexpert_labels_20220629_053109.pkl\""
   ]
  }
 ],
 "metadata": {
  "kernelspec": {
   "display_name": "Python 3",
   "language": "python",
   "name": "python3"
  },
  "language_info": {
   "codemirror_mode": {
    "name": "ipython",
    "version": 3
   },
   "file_extension": ".py",
   "mimetype": "text/x-python",
   "name": "python",
   "nbconvert_exporter": "python",
   "pygments_lexer": "ipython3",
   "version": "3.6.9"
  }
 },
 "nbformat": 4,
 "nbformat_minor": 4
}
