{
 "cells": [
  {
   "cell_type": "code",
   "execution_count": 44,
   "id": "ebfd099c",
   "metadata": {},
   "outputs": [],
   "source": [
    "from medvqa.utils.files import load_jsonl, load_pickle\n",
    "from collections import Counter"
   ]
  },
  {
   "cell_type": "code",
   "execution_count": 4,
   "id": "a4a58a99",
   "metadata": {},
   "outputs": [],
   "source": [
    "import os\n",
    "import datetime\n",
    "\n",
    "def list_files_with_prefix_and_timestamps(prefix, directory='.'):\n",
    "    matching_files = []\n",
    "    \n",
    "    for root, _, files in os.walk(directory):\n",
    "        for filename in files:\n",
    "            if filename.startswith(prefix):\n",
    "                full_path = os.path.join(root, filename)\n",
    "                creation_timestamp = os.path.getctime(full_path)\n",
    "                timestamp_human_readable = datetime.datetime.fromtimestamp(creation_timestamp).strftime('%Y-%m-%d %H:%M:%S')\n",
    "                matching_files.append((full_path, timestamp_human_readable))\n",
    "    \n",
    "    matching_files.sort(key=lambda x:x[1], reverse=True)\n",
    "    return matching_files\n",
    "\n",
    "# # Example usage:\n",
    "# prefix = \"example\"  # Replace with your desired prefix\n",
    "# directory_path = \"/path/to/your/directory\"  # Replace with the directory you want to search in\n",
    "\n",
    "# result = list_files_with_prefix_and_timestamps(prefix, directory_path)\n",
    "\n",
    "# if not result:\n",
    "#     print(f\"No files found with the prefix '{prefix}' in the directory '{directory_path}'.\")\n",
    "# else:\n",
    "#     print(f\"Files with the prefix '{prefix}' and their creation timestamps:\")\n",
    "#     for file_path, timestamp in result:\n",
    "#         print(f\"File: {file_path}\\nTimestamp: {timestamp}\\n\")"
   ]
  },
  {
   "cell_type": "code",
   "execution_count": 5,
   "id": "39e277d7",
   "metadata": {},
   "outputs": [
    {
     "data": {
      "text/plain": [
       "[('/home/pamessina/medvqa-workspace/cache/mimiccxr/integrated_fact_metadata(595880,60579117).improved_comparison(6741113).jsonl',\n",
       "  '2023-09-10 16:30:58'),\n",
       " ('/home/pamessina/medvqa-workspace/cache/mimiccxr/integrated_fact_metadata(595880,60579117).jsonl',\n",
       "  '2023-09-09 21:42:49'),\n",
       " ('/home/pamessina/medvqa-workspace/cache/mimiccxr/integrated_fact_metadata(578733,58628071).improved_comparison(6526297).jsonl',\n",
       "  '2023-07-18 11:46:52'),\n",
       " ('/home/pamessina/medvqa-workspace/cache/mimiccxr/integrated_fact_metadata(578733,58628071).improved_comparison(6595181).jsonl',\n",
       "  '2023-07-18 00:18:14'),\n",
       " ('/home/pamessina/medvqa-workspace/cache/mimiccxr/integrated_fact_metadata(578733,58628071).jsonl',\n",
       "  '2023-07-12 14:51:08'),\n",
       " ('/home/pamessina/medvqa-workspace/cache/mimiccxr/integrated_fact_metadata(578733,58628252).jsonl',\n",
       "  '2023-07-12 14:14:39'),\n",
       " ('/home/pamessina/medvqa-workspace/cache/mimiccxr/integrated_fact_metadata(578718,58626719).jsonl',\n",
       "  '2023-07-12 12:55:34'),\n",
       " ('/home/pamessina/medvqa-workspace/cache/mimiccxr/integrated_fact_metadata(578718,58628868).jsonl',\n",
       "  '2023-07-10 10:57:01')]"
      ]
     },
     "execution_count": 5,
     "metadata": {},
     "output_type": "execute_result"
    }
   ],
   "source": [
    "list_files_with_prefix_and_timestamps(\n",
    "    \"integrated_fact_metadata(\",\n",
    "    \"/home/pamessina/medvqa-workspace/cache/mimiccxr/\",\n",
    ")"
   ]
  },
  {
   "cell_type": "markdown",
   "id": "6dec88e5",
   "metadata": {},
   "source": [
    "# Facts"
   ]
  },
  {
   "cell_type": "code",
   "execution_count": 6,
   "id": "ebc80da5",
   "metadata": {},
   "outputs": [
    {
     "data": {
      "text/plain": [
       "[('/home/pamessina/medvqa-workspace/cache/mimiccxr/integrated_sentence_facts(58655550,50135857).jsonl',\n",
       "  '2023-09-09 21:42:41'),\n",
       " ('/home/pamessina/medvqa-workspace/cache/mimiccxr/integrated_sentence_facts(58655550,49840052).jsonl',\n",
       "  '2023-07-12 14:51:01'),\n",
       " ('/home/pamessina/medvqa-workspace/cache/mimiccxr/integrated_sentence_facts(58655550,49840759).jsonl',\n",
       "  '2023-07-12 14:14:27'),\n",
       " ('/home/pamessina/medvqa-workspace/cache/mimiccxr/integrated_sentence_facts(58655550,49843061).jsonl',\n",
       "  '2023-07-10 10:56:53'),\n",
       " ('/home/pamessina/medvqa-workspace/cache/mimiccxr/integrated_sentence_facts(58655550,46441815).jsonl',\n",
       "  '2023-07-08 14:14:29'),\n",
       " ('/home/pamessina/medvqa-workspace/cache/mimiccxr/integrated_sentence_facts(68493868,63882717).jsonl',\n",
       "  '2023-06-28 11:17:07'),\n",
       " ('/home/pamessina/medvqa-workspace/cache/mimiccxr/integrated_sentence_facts(68493868,63886474).jsonl',\n",
       "  '2023-06-26 17:31:31')]"
      ]
     },
     "execution_count": 6,
     "metadata": {},
     "output_type": "execute_result"
    }
   ],
   "source": [
    "list_files_with_prefix_and_timestamps(\n",
    "    \"integrated_sentence_facts(\",\n",
    "    \"/home/pamessina/medvqa-workspace/cache/mimiccxr/\",\n",
    ")"
   ]
  },
  {
   "cell_type": "code",
   "execution_count": 9,
   "id": "37810962",
   "metadata": {},
   "outputs": [],
   "source": [
    "tmp = load_jsonl(\"/home/pamessina/medvqa-workspace/cache/mimiccxr/integrated_sentence_facts(58655550,50135857).jsonl\")"
   ]
  },
  {
   "cell_type": "code",
   "execution_count": 10,
   "id": "e05d13f4",
   "metadata": {},
   "outputs": [
    {
     "data": {
      "text/plain": [
       "677694"
      ]
     },
     "execution_count": 10,
     "metadata": {},
     "output_type": "execute_result"
    }
   ],
   "source": [
    "len(tmp)"
   ]
  },
  {
   "cell_type": "code",
   "execution_count": 12,
   "id": "271e7a76",
   "metadata": {},
   "outputs": [
    {
     "data": {
      "text/plain": [
       "Counter({'gpt-4-0613': 14999,\n",
       "         'gpt-3.5-turbo-0613': 69936,\n",
       "         't5-small-finetuned': 592759})"
      ]
     },
     "execution_count": 12,
     "metadata": {},
     "output_type": "execute_result"
    }
   ],
   "source": [
    "Counter(x['extraction_method'] for x in tmp)"
   ]
  },
  {
   "cell_type": "code",
   "execution_count": 14,
   "id": "3e87082b",
   "metadata": {},
   "outputs": [
    {
     "data": {
      "text/plain": [
       "1323687"
      ]
     },
     "execution_count": 14,
     "metadata": {},
     "output_type": "execute_result"
    }
   ],
   "source": [
    "total_facts = sum(len(x['facts']) for x in tmp)\n",
    "total_facts"
   ]
  },
  {
   "cell_type": "code",
   "execution_count": 15,
   "id": "372c7e05",
   "metadata": {},
   "outputs": [
    {
     "data": {
      "text/plain": [
       "583202"
      ]
     },
     "execution_count": 15,
     "metadata": {},
     "output_type": "execute_result"
    }
   ],
   "source": [
    "unique_facts = set()\n",
    "for x in tmp:\n",
    "    unique_facts.update(x['facts'])\n",
    "len(unique_facts)"
   ]
  },
  {
   "cell_type": "markdown",
   "id": "69ad999a",
   "metadata": {},
   "source": [
    "# Metadata per fact"
   ]
  },
  {
   "cell_type": "code",
   "execution_count": 17,
   "id": "ec0bc795",
   "metadata": {},
   "outputs": [
    {
     "data": {
      "text/plain": [
       "[('/home/pamessina/medvqa-workspace/cache/mimiccxr/integrated_fact_metadata(595880,60579117).improved_comparison(6741113).jsonl',\n",
       "  '2023-09-10 16:30:58'),\n",
       " ('/home/pamessina/medvqa-workspace/cache/mimiccxr/integrated_fact_metadata(595880,60579117).jsonl',\n",
       "  '2023-09-09 21:42:49'),\n",
       " ('/home/pamessina/medvqa-workspace/cache/mimiccxr/integrated_fact_metadata(578733,58628071).improved_comparison(6526297).jsonl',\n",
       "  '2023-07-18 11:46:52'),\n",
       " ('/home/pamessina/medvqa-workspace/cache/mimiccxr/integrated_fact_metadata(578733,58628071).improved_comparison(6595181).jsonl',\n",
       "  '2023-07-18 00:18:14'),\n",
       " ('/home/pamessina/medvqa-workspace/cache/mimiccxr/integrated_fact_metadata(578733,58628071).jsonl',\n",
       "  '2023-07-12 14:51:08'),\n",
       " ('/home/pamessina/medvqa-workspace/cache/mimiccxr/integrated_fact_metadata(578733,58628252).jsonl',\n",
       "  '2023-07-12 14:14:39'),\n",
       " ('/home/pamessina/medvqa-workspace/cache/mimiccxr/integrated_fact_metadata(578718,58626719).jsonl',\n",
       "  '2023-07-12 12:55:34'),\n",
       " ('/home/pamessina/medvqa-workspace/cache/mimiccxr/integrated_fact_metadata(578718,58628868).jsonl',\n",
       "  '2023-07-10 10:57:01'),\n",
       " ('/home/pamessina/medvqa-workspace/cache/mimiccxr/integrated_fact_details(414607,17979974).jsonl',\n",
       "  '2023-06-28 11:17:12')]"
      ]
     },
     "execution_count": 17,
     "metadata": {},
     "output_type": "execute_result"
    }
   ],
   "source": [
    "list_files_with_prefix_and_timestamps(\n",
    "    \"integrated_fact\",\n",
    "    \"/home/pamessina/medvqa-workspace/cache/mimiccxr/\",\n",
    ")"
   ]
  },
  {
   "cell_type": "code",
   "execution_count": 18,
   "id": "90e351a9",
   "metadata": {},
   "outputs": [],
   "source": [
    "tmp2 = load_jsonl('/home/pamessina/medvqa-workspace/cache/mimiccxr/integrated_fact_metadata(595880,60579117).improved_comparison(6741113).jsonl')"
   ]
  },
  {
   "cell_type": "code",
   "execution_count": 19,
   "id": "3a61b5e0",
   "metadata": {},
   "outputs": [
    {
     "data": {
      "text/plain": [
       "595880"
      ]
     },
     "execution_count": 19,
     "metadata": {},
     "output_type": "execute_result"
    }
   ],
   "source": [
    "len(tmp2)"
   ]
  },
  {
   "cell_type": "code",
   "execution_count": 31,
   "id": "b9db2ea5",
   "metadata": {},
   "outputs": [
    {
     "data": {
      "text/plain": [
       "{'fact': 'infiltrated/extravasated contrast from contrast-enhanced CT in the right supraclavicular soft tissue',\n",
       " 'metadata': {'anatomical location': 'right supraclavicular soft tissue',\n",
       "  'detailed observation': 'infiltrated/extravasated contrast from contrast-enhanced CT',\n",
       "  'short observation': 'infiltrated/extravasated contrast',\n",
       "  'category': 'technical assessment',\n",
       "  'health status': 'abnormal',\n",
       "  'prev_study_comparison?': 'no',\n",
       "  'comparison status': ''},\n",
       " 'extraction_method': 'gpt-3.5-turbo-0613'}"
      ]
     },
     "execution_count": 31,
     "metadata": {},
     "output_type": "execute_result"
    }
   ],
   "source": [
    "tmp2[1009]"
   ]
  },
  {
   "cell_type": "code",
   "execution_count": 38,
   "id": "44ff23f8",
   "metadata": {},
   "outputs": [],
   "source": [
    "import json"
   ]
  },
  {
   "cell_type": "code",
   "execution_count": 41,
   "id": "48581586",
   "metadata": {},
   "outputs": [
    {
     "name": "stdout",
     "output_type": "stream",
     "text": [
      "bilateral effusions equivocally getting worse\n",
      "{\n",
      " \"anatomical location\": \"bilateral\",\n",
      " \"detailed observation\": \"effusions equivocally getting worse\",\n",
      " \"short observation\": \"effusions getting worse\",\n",
      " \"category\": \"anatomical finding\",\n",
      " \"health status\": \"abnormal\",\n",
      " \"prev_study_comparison?\": \"yes\",\n",
      " \"comparison status\": \"worsened\"\n",
      "}\n"
     ]
    }
   ],
   "source": [
    "idx = 10001\n",
    "print(tmp2[idx]['fact'])\n",
    "print(json.dumps(tmp2[idx]['metadata'],indent=1))"
   ]
  },
  {
   "cell_type": "code",
   "execution_count": 21,
   "id": "8206ebfa",
   "metadata": {},
   "outputs": [
    {
     "data": {
      "text/plain": [
       "Counter({'gpt-3.5-turbo-0613': 59921, 't5-small-finetuned': 535959})"
      ]
     },
     "execution_count": 21,
     "metadata": {},
     "output_type": "execute_result"
    }
   ],
   "source": [
    "Counter(x['extraction_method'] for x in tmp2)"
   ]
  },
  {
   "cell_type": "markdown",
   "id": "08d07cd9",
   "metadata": {},
   "source": [
    "# Observations per fact"
   ]
  },
  {
   "cell_type": "code",
   "execution_count": 43,
   "id": "78383d4e",
   "metadata": {},
   "outputs": [
    {
     "data": {
      "text/plain": [
       "[('/home/pamessina/medvqa-workspace/cache/mimiccxr/integrated_chest_imagenome_observations(9).pkl',\n",
       "  '2023-09-13 22:09:44')]"
      ]
     },
     "execution_count": 43,
     "metadata": {},
     "output_type": "execute_result"
    }
   ],
   "source": [
    "list_files_with_prefix_and_timestamps(\n",
    "    \"integrated_chest_imagenome_observations\",\n",
    "    \"/home/pamessina/medvqa-workspace/cache/mimiccxr/\",\n",
    ")"
   ]
  },
  {
   "cell_type": "code",
   "execution_count": 45,
   "id": "8229df5b",
   "metadata": {},
   "outputs": [],
   "source": [
    "tmp3 = load_pickle('/home/pamessina/medvqa-workspace/cache/mimiccxr/integrated_chest_imagenome_observations(9).pkl')"
   ]
  },
  {
   "cell_type": "code",
   "execution_count": 47,
   "id": "967f362a",
   "metadata": {},
   "outputs": [
    {
     "data": {
      "text/plain": [
       "dict_keys(['label_names', 'groups'])"
      ]
     },
     "execution_count": 47,
     "metadata": {},
     "output_type": "execute_result"
    }
   ],
   "source": [
    "tmp3.keys()"
   ]
  },
  {
   "cell_type": "code",
   "execution_count": 48,
   "id": "c7d7e27d",
   "metadata": {},
   "outputs": [
    {
     "data": {
      "text/plain": [
       "9"
      ]
     },
     "execution_count": 48,
     "metadata": {},
     "output_type": "execute_result"
    }
   ],
   "source": [
    "len(tmp3['groups'])"
   ]
  },
  {
   "cell_type": "code",
   "execution_count": 49,
   "id": "508980cf",
   "metadata": {},
   "outputs": [
    {
     "data": {
      "text/plain": [
       "dict_keys(['sentences', 'labels', 'extraction_method'])"
      ]
     },
     "execution_count": 49,
     "metadata": {},
     "output_type": "execute_result"
    }
   ],
   "source": [
    "tmp3['groups'][0].keys()"
   ]
  },
  {
   "cell_type": "code",
   "execution_count": 53,
   "id": "438463ff",
   "metadata": {},
   "outputs": [
    {
     "data": {
      "text/plain": [
       "'airspace opacity, atelectasis, bone lesion, bronchiectasis, calcified nodule, clavicle fracture, consolidation, costophrenic angle blunting, cyst/bullae, diaphragmatic eventration (benign), elevated hemidiaphragm, enlarged cardiac silhouette, enlarged hilum, hernia, hydropneumothorax, hyperaeration, increased reticular markings/ild pattern, infiltration, linear/patchy atelectasis, lobar/segmental collapse, lung lesion, lung opacity, mass/nodule (not otherwise specified), mediastinal displacement, mediastinal widening, multiple masses/nodules, pleural effusion, pleural/parenchymal scarring, pneumomediastinum, pneumothorax, pulmonary edema/hazy opacity, rib fracture, scoliosis, shoulder osteoarthritis, spinal degenerative changes, spinal fracture, sub-diaphragmatic air, subcutaneous air, superior mediastinal mass/enlargement, tortuous aorta, vascular calcification, vascular congestion, vascular redistribution, aortic graft/repair, cabg grafts, cardiac pacer and wires, prosthetic valve, alveolar hemorrhage, aspiration, copd/emphysema, fluid overload/heart failure, goiter, granulomatous disease, interstitial lung disease, lung cancer, pericardial effusion, pneumonia, artifact, breast/nipple shadows, low lung volumes, rotated, skin fold, chest port, chest tube, endotracheal tube, enteric tube, ij line, intra-aortic balloon pump, mediastinal drain, picc, pigtail catheter, subclavian line, swan-ganz catheter, tracheostomy tube'"
      ]
     },
     "execution_count": 53,
     "metadata": {},
     "output_type": "execute_result"
    }
   ],
   "source": [
    "', '.join(tmp3['label_names'])"
   ]
  },
  {
   "cell_type": "code",
   "execution_count": 110,
   "id": "a4063248",
   "metadata": {},
   "outputs": [
    {
     "name": "stdout",
     "output_type": "stream",
     "text": [
      "gpt-3.5-turbo-0613\n",
      "\n",
      "Overwhelming growth in the vicinity of the hilum of the right lung\n",
      "\n",
      "[\n",
      " \"enlarged hilum\",\n",
      " \"lung lesion\"\n",
      "]\n"
     ]
    }
   ],
   "source": [
    "g = tmp3['groups'][-1]\n",
    "idx = 101\n",
    "print(g['extraction_method'])\n",
    "print()\n",
    "print(g['sentences'][idx])\n",
    "print()\n",
    "obs = []\n",
    "for i, l in enumerate(g['labels'][idx]):\n",
    "    if l:\n",
    "        obs.append(tmp3['label_names'][i])\n",
    "print(json.dumps(obs, indent=1))"
   ]
  },
  {
   "cell_type": "code",
   "execution_count": 51,
   "id": "cfd097b0",
   "metadata": {},
   "outputs": [
    {
     "name": "stdout",
     "output_type": "stream",
     "text": [
      "chest-imagenome\n",
      "(556111, 74)\n",
      "\n",
      "t5-small-finetuned\n",
      "(2816982, 74)\n",
      "\n",
      "gpt-4-0613\n",
      "(5000, 74)\n",
      "\n",
      "gpt-3.5-turbo-0613\n",
      "(14859, 74)\n",
      "\n",
      "gpt-3.5-turbo-0613\n",
      "(19952, 74)\n",
      "\n",
      "gpt-3.5-turbo-0613\n",
      "(19959, 74)\n",
      "\n",
      "gpt-3.5-turbo-0613\n",
      "(9977, 74)\n",
      "\n",
      "gpt-3.5-turbo-0613\n",
      "(9974, 74)\n",
      "\n",
      "gpt-3.5-turbo-0613\n",
      "(9987, 74)\n",
      "\n"
     ]
    }
   ],
   "source": [
    "for g in tmp3['groups']:\n",
    "    print(g['extraction_method'])\n",
    "    print(g['labels'].shape)\n",
    "    print()"
   ]
  },
  {
   "cell_type": "markdown",
   "id": "e7fe3470",
   "metadata": {},
   "source": [
    "# Anatomical locations per fact"
   ]
  },
  {
   "cell_type": "code",
   "execution_count": 57,
   "id": "edb9df60",
   "metadata": {},
   "outputs": [
    {
     "data": {
      "text/plain": [
       "[('/home/pamessina/medvqa-workspace/cache/mimiccxr/integrated_chest_imagenome_observations(9).pkl',\n",
       "  '2023-09-13 22:09:44'),\n",
       " ('/home/pamessina/medvqa-workspace/cache/mimiccxr/integrated_chest_imagenome_labels(9).pkl',\n",
       "  '2023-09-13 05:23:48'),\n",
       " ('/home/pamessina/medvqa-workspace/cache/mimiccxr/integrated_chest_imagenome_anatomical_locations(5).pkl',\n",
       "  '2023-09-11 19:38:10'),\n",
       " ('/home/pamessina/medvqa-workspace/cache/mimiccxr/integrated_chest_imagenome_labels(6).pkl',\n",
       "  '2023-09-11 16:19:55')]"
      ]
     },
     "execution_count": 57,
     "metadata": {},
     "output_type": "execute_result"
    }
   ],
   "source": [
    "list_files_with_prefix_and_timestamps(\n",
    "    \"integrated_chest_im\",\n",
    "    \"/home/pamessina/medvqa-workspace/cache/mimiccxr/\",\n",
    ")"
   ]
  },
  {
   "cell_type": "code",
   "execution_count": 58,
   "id": "5bc5d9cf",
   "metadata": {},
   "outputs": [],
   "source": [
    "tmp4 = load_pickle('/home/pamessina/medvqa-workspace/cache/mimiccxr/integrated_chest_imagenome_anatomical_locations(5).pkl')"
   ]
  },
  {
   "cell_type": "code",
   "execution_count": 59,
   "id": "ad3d04fc",
   "metadata": {},
   "outputs": [
    {
     "data": {
      "text/plain": [
       "dict_keys(['label_names', 'groups'])"
      ]
     },
     "execution_count": 59,
     "metadata": {},
     "output_type": "execute_result"
    }
   ],
   "source": [
    "tmp4.keys()"
   ]
  },
  {
   "cell_type": "code",
   "execution_count": 61,
   "id": "ddaad61b",
   "metadata": {},
   "outputs": [
    {
     "data": {
      "text/plain": [
       "'abdomen, aortic arch, cardiac silhouette, carina, cavoatrial junction, left apical zone, left arm, left breast, left chest wall, left clavicle, left costophrenic angle, left hemidiaphragm, left hilar structures, left lower lung zone, left lung, left mid lung zone, left shoulder, left upper lung zone, mediastinum, neck, right apical zone, right arm, right atrium, right breast, right chest wall, right clavicle, right costophrenic angle, right hemidiaphragm, right hilar structures, right lower lung zone, right lung, right mid lung zone, right shoulder, right upper lung zone, spine, svc, trachea, upper mediastinum'"
      ]
     },
     "execution_count": 61,
     "metadata": {},
     "output_type": "execute_result"
    }
   ],
   "source": [
    "', '.join(tmp4['label_names'])"
   ]
  },
  {
   "cell_type": "code",
   "execution_count": 115,
   "id": "a3f63a8c",
   "metadata": {},
   "outputs": [
    {
     "name": "stdout",
     "output_type": "stream",
     "text": [
      "gpt-3.5-turbo-0613\n",
      "\n",
      "impacted foreign body within the upper esophagus\n",
      "\n",
      "[\n",
      " \"neck\"\n",
      "]\n"
     ]
    }
   ],
   "source": [
    "g = tmp4['groups'][-1]\n",
    "idx = 11\n",
    "print(g['extraction_method'])\n",
    "print()\n",
    "print(g['sentences'][idx])\n",
    "print()\n",
    "anat = []\n",
    "for i, l in enumerate(g['labels'][idx]):\n",
    "    if l:\n",
    "        anat.append(tmp4['label_names'][i])\n",
    "print(json.dumps(anat, indent=1))"
   ]
  },
  {
   "cell_type": "code",
   "execution_count": 62,
   "id": "14765a3b",
   "metadata": {
    "scrolled": true
   },
   "outputs": [
    {
     "name": "stdout",
     "output_type": "stream",
     "text": [
      "chest-imagenome\n",
      "(556111, 38)\n",
      "\n",
      "t5-small-finetuned\n",
      "(2598778, 38)\n",
      "\n",
      "gpt-3.5-turbo-0613\n",
      "(24068, 38)\n",
      "\n",
      "gpt-3.5-turbo-0613\n",
      "(23895, 38)\n",
      "\n",
      "gpt-3.5-turbo-0613\n",
      "(24437, 38)\n",
      "\n"
     ]
    }
   ],
   "source": [
    "for g in tmp4['groups']:\n",
    "    print(g['extraction_method'])\n",
    "    print(g['labels'].shape)\n",
    "    print()"
   ]
  },
  {
   "cell_type": "markdown",
   "id": "815713e0",
   "metadata": {},
   "source": [
    "# Paraphrases"
   ]
  },
  {
   "cell_type": "code",
   "execution_count": 84,
   "id": "2c6d181e",
   "metadata": {
    "scrolled": true
   },
   "outputs": [
    {
     "data": {
      "text/plain": [
       "[('/home/pamessina/medvqa-workspace/cache/mimiccxr/openai/gpt-4-0613_nli_contradiction_examples_part1.jsonl',\n",
       "  '2023-09-25 01:26:54'),\n",
       " ('/home/pamessina/medvqa-workspace/cache/mimiccxr/openai/gpt-4-0613_nli_contradiction_examples_part2.jsonl',\n",
       "  '2023-09-25 01:20:49'),\n",
       " ('/home/pamessina/medvqa-workspace/cache/mimiccxr/openai/gpt-4-0613_nli_contradiction_examples_part3.jsonl',\n",
       "  '2023-09-25 01:16:40'),\n",
       " ('/home/pamessina/medvqa-workspace/cache/mimiccxr/openai/gpt-4-0613_nli_queries_from_clusters_improved_queries_part2.jsonl',\n",
       "  '2023-09-24 20:04:11'),\n",
       " ('/home/pamessina/medvqa-workspace/cache/mimiccxr/openai/gpt-4-0613_nli_queries_from_clusters_improved_queries_part1.jsonl',\n",
       "  '2023-09-24 20:02:24'),\n",
       " ('/home/pamessina/medvqa-workspace/cache/mimiccxr/openai/gpt-4-0613_nli_queries_from_clusters_improved_queries_part3.jsonl',\n",
       "  '2023-09-24 19:59:59'),\n",
       " ('/home/pamessina/medvqa-workspace/cache/mimiccxr/openai/gpt-4-0613_radnli_queries.jsonl',\n",
       "  '2023-09-24 19:27:51'),\n",
       " ('/home/pamessina/medvqa-workspace/cache/mimiccxr/openai/gpt-4-0613_radnli_queries__old.jsonl',\n",
       "  '2023-09-24 19:23:04'),\n",
       " ('/home/pamessina/medvqa-workspace/cache/mimiccxr/openai/gpt-4-0613_nli_queries_from_clusters_part2.jsonl',\n",
       "  '2023-09-23 05:56:29'),\n",
       " ('/home/pamessina/medvqa-workspace/cache/mimiccxr/openai/gpt-4-0613_nli_queries_from_clusters_part1.jsonl',\n",
       "  '2023-09-23 05:50:09'),\n",
       " ('/home/pamessina/medvqa-workspace/cache/mimiccxr/openai/gpt-4-0613_nli_queries_from_clusters_part3.jsonl',\n",
       "  '2023-09-23 04:11:29'),\n",
       " ('/home/pamessina/medvqa-workspace/cache/mimiccxr/openai/gpt-4-0613_nli_examples_around_radnli_part2.jsonl',\n",
       "  '2023-09-22 10:08:49'),\n",
       " ('/home/pamessina/medvqa-workspace/cache/mimiccxr/openai/gpt-4-0613_nli_examples_around_radnli_part1.jsonl',\n",
       "  '2023-09-22 09:58:25'),\n",
       " ('/home/pamessina/medvqa-workspace/cache/mimiccxr/openai/gpt-4-0613_nli_examples_around_radnli_part3.jsonl',\n",
       "  '2023-09-22 09:52:01'),\n",
       " ('/home/pamessina/medvqa-workspace/cache/mimiccxr/openai/gpt-4-0613_nli_examples(cluster-balanced)-part3.jsonl',\n",
       "  '2023-09-21 03:22:19'),\n",
       " ('/home/pamessina/medvqa-workspace/cache/mimiccxr/openai/gpt-4-0613_nli_examples(cluster-balanced)-part2.jsonl',\n",
       "  '2023-09-21 03:22:08'),\n",
       " ('/home/pamessina/medvqa-workspace/cache/mimiccxr/openai/gpt-4-0613_nli_examples(cluster-balanced)-part1.jsonl',\n",
       "  '2023-09-21 03:21:19'),\n",
       " ('/home/pamessina/medvqa-workspace/cache/mimiccxr/openai/gpt-3.5-turbo-0613_chest_imagenome_observations_from_sentences(cluster-balanced,hardest)-part2.jsonl',\n",
       "  '2023-09-12 19:23:07'),\n",
       " ('/home/pamessina/medvqa-workspace/cache/mimiccxr/openai/gpt-3.5-turbo-0613_chest_imagenome_observations_from_sentences(cluster-balanced,hardest)-part3.jsonl',\n",
       "  '2023-09-12 19:21:35'),\n",
       " ('/home/pamessina/medvqa-workspace/cache/mimiccxr/openai/gpt-3.5-turbo-0613_chest_imagenome_observations_from_sentences(cluster-balanced,hardest)-part1.jsonl',\n",
       "  '2023-09-12 19:16:29'),\n",
       " ('/home/pamessina/medvqa-workspace/cache/mimiccxr/openai/gpt-3.5-turbo-0613_hard_triplets_from_facts(cluster-balanced,hardest)-part3.jsonl',\n",
       "  '2023-09-10 22:02:18'),\n",
       " ('/home/pamessina/medvqa-workspace/cache/mimiccxr/openai/gpt-3.5-turbo-0613_hard_triplets_from_facts(cluster-balanced,hardest)-part2.jsonl',\n",
       "  '2023-09-10 21:55:36'),\n",
       " ('/home/pamessina/medvqa-workspace/cache/mimiccxr/openai/gpt-3.5-turbo-0613_hard_triplets_from_facts(cluster-balanced,hardest)-part1.jsonl',\n",
       "  '2023-09-10 21:39:36'),\n",
       " ('/home/pamessina/medvqa-workspace/cache/mimiccxr/openai/gpt-3.5-turbo-0613_parsed_facts__v2.jsonl',\n",
       "  '2023-09-09 21:09:33'),\n",
       " ('/home/pamessina/medvqa-workspace/cache/mimiccxr/openai/gpt-3.5-turbo-0613_facts_from_sentences(cluster-balanced,hardest)_part2.jsonl',\n",
       "  '2023-09-08 19:11:28'),\n",
       " ('/home/pamessina/medvqa-workspace/cache/mimiccxr/openai/gpt-3.5-turbo-0613_facts_from_sentences(cluster-balanced,hardest)_part1.jsonl',\n",
       "  '2023-09-08 19:06:18'),\n",
       " ('/home/pamessina/medvqa-workspace/cache/mimiccxr/openai/gpt-4-0613_facts_from_sentences(cluster-balanced,hardest).jsonl',\n",
       "  '2023-09-08 18:19:27'),\n",
       " ('/home/pamessina/medvqa-workspace/cache/mimiccxr/openai/gpt-3.5-turbo-0613_chest_imagenome_anatomies_from_sentences__skip_top50000_most_difficult__uniform.jsonl',\n",
       "  '2023-08-15 22:45:42'),\n",
       " ('/home/pamessina/medvqa-workspace/cache/mimiccxr/openai/gpt-3.5-turbo-0613_chest_imagenome_anatomies_from_sentences__top50000_most_difficult__offset=25000.jsonl',\n",
       "  '2023-08-15 22:38:42'),\n",
       " ('/home/pamessina/medvqa-workspace/cache/mimiccxr/openai/gpt-3.5-turbo-0613_chest_imagenome_anatomies_from_sentences__top25000_most_difficult.jsonl',\n",
       "  '2023-08-15 22:31:22'),\n",
       " ('/home/pamessina/medvqa-workspace/cache/mimiccxr/openai/gpt-3.5-turbo-0613_chest_imagenome_labels_from_sentences__skip_top20000__40000_uniform__2of2.jsonl',\n",
       "  '2023-07-27 20:12:40'),\n",
       " ('/home/pamessina/medvqa-workspace/cache/mimiccxr/openai/gpt-3.5-turbo-0613_chest_imagenome_labels_from_sentences__skip_top20000__40000_uniform__1of2.jsonl',\n",
       "  '2023-07-27 20:04:31'),\n",
       " ('/home/pamessina/medvqa-workspace/cache/mimiccxr/openai/gpt-3.5-turbo-0613_chest_imagenome_labels_from_sentences__top20000_most_difficult__offset=5000.jsonl',\n",
       "  '2023-07-27 18:55:22'),\n",
       " ('/home/pamessina/medvqa-workspace/cache/mimiccxr/openai/gpt-4-0613_chest_imagenome_labels_from_sentences__top5000_most_difficult.jsonl',\n",
       "  '2023-07-27 18:11:49'),\n",
       " ('/home/pamessina/medvqa-workspace/cache/mimiccxr/openai/gpt-3.5-turbo-0613_chest_imagenome_labels_from_sentences__top20000_most_difficult.jsonl',\n",
       "  '2023-07-27 15:14:29'),\n",
       " ('/home/pamessina/medvqa-workspace/cache/mimiccxr/openai/gpt-3.5-turbo-0613_chest_imagenome_labels_from_sentencestop20000_most_difficult.jsonl',\n",
       "  '2023-07-27 14:05:22'),\n",
       " ('/home/pamessina/medvqa-workspace/cache/mimiccxr/openai/gpt-3.5-turbo-0613_paraphrased_observations__two-or-more-words_cluster-balanced_2of5.jsonl',\n",
       "  '2023-07-20 16:24:12'),\n",
       " ('/home/pamessina/medvqa-workspace/cache/mimiccxr/openai/gpt-3.5-turbo-0613_paraphrased_observations__two-or-more-words_cluster-balanced_1of5.jsonl',\n",
       "  '2023-07-20 16:22:00'),\n",
       " ('/home/pamessina/medvqa-workspace/cache/mimiccxr/openai/gpt-3.5-turbo-0613_paraphrased_observations__two-or-more-words_cluster-balanced_4of5.jsonl',\n",
       "  '2023-07-20 16:06:09'),\n",
       " ('/home/pamessina/medvqa-workspace/cache/mimiccxr/openai/gpt-4-0613_paraphrased_observations__two-or-more-words_cluster-balanced.jsonl',\n",
       "  '2023-07-20 15:06:08'),\n",
       " ('/home/pamessina/medvqa-workspace/cache/mimiccxr/openai/gpt-3.5-turbo-0613_paraphrased_observations__two-or-more-words_cluster-balanced_3of5.jsonl',\n",
       "  '2023-07-20 14:23:22'),\n",
       " ('/home/pamessina/medvqa-workspace/cache/mimiccxr/openai/gpt-3.5-turbo-0613_comparisons__part2.jsonl',\n",
       "  '2023-07-17 10:50:37'),\n",
       " ('/home/pamessina/medvqa-workspace/cache/mimiccxr/openai/gpt-3.5-turbo-0613_comparisons__part1.jsonl',\n",
       "  '2023-07-17 00:28:52'),\n",
       " ('/home/pamessina/medvqa-workspace/cache/mimiccxr/openai/gpt-3.5-turbo-0301_comparisons__part1.jsonl',\n",
       "  '2023-07-16 23:31:19'),\n",
       " ('/home/pamessina/medvqa-workspace/cache/mimiccxr/openai/gpt-3.5-turbo-0301_comparisons__part1(obsolete).jsonl',\n",
       "  '2023-07-16 23:30:30'),\n",
       " ('/home/pamessina/medvqa-workspace/cache/mimiccxr/openai/gpt-3.5-turbo-0301_comparisons__part2.jsonl',\n",
       "  '2023-07-16 23:05:38'),\n",
       " ('/home/pamessina/medvqa-workspace/cache/mimiccxr/openai/gpt-3.5-turbo-0613_paraphrased_observations__two-or-more-words__part3.jsonl',\n",
       "  '2023-07-12 19:28:21'),\n",
       " ('/home/pamessina/medvqa-workspace/cache/mimiccxr/openai/gpt-3.5-turbo-0613_paraphrased_observations__two-or-more-words__part1.jsonl',\n",
       "  '2023-07-12 19:21:14'),\n",
       " ('/home/pamessina/medvqa-workspace/cache/mimiccxr/openai/gpt-3.5-turbo-16k-0613_paraphrased_observations__two-or-more-words__part4.jsonl',\n",
       "  '2023-07-12 18:36:43'),\n",
       " ('/home/pamessina/medvqa-workspace/cache/mimiccxr/openai/gpt-3.5-turbo-16k-0613_paraphrased_observations__two-or-more-words__part2.jsonl',\n",
       "  '2023-07-12 18:34:57'),\n",
       " ('/home/pamessina/medvqa-workspace/cache/mimiccxr/openai/gpt-3.5-turbo-0613_paraphrased_observations__single-words.jsonl',\n",
       "  '2023-07-12 17:01:19'),\n",
       " ('/home/pamessina/medvqa-workspace/cache/mimiccxr/openai/gpt-3.5-turbo-16k-0613_paraphrased_anatomical_locations__part3.jsonl',\n",
       "  '2023-07-10 11:11:41'),\n",
       " ('/home/pamessina/medvqa-workspace/cache/mimiccxr/openai/gpt-3.5-turbo-0613_paraphrased_anatomical_locations__part2.jsonl',\n",
       "  '2023-07-09 22:31:15'),\n",
       " ('/home/pamessina/medvqa-workspace/cache/mimiccxr/openai/gpt-3.5-turbo-0613_paraphrased_anatomical_locations__part1.jsonl',\n",
       "  '2023-07-09 22:24:12'),\n",
       " ('/home/pamessina/medvqa-workspace/cache/mimiccxr/openai/gpt-3.5-turbo-0613_parsed_facts__v2_offset=40000_uniform.jsonl',\n",
       "  '2023-07-07 17:54:48'),\n",
       " ('/home/pamessina/medvqa-workspace/cache/mimiccxr/openai/gpt-3.5-turbo-0613_parsed_facts__v2_offset=20000.jsonl',\n",
       "  '2023-07-06 00:40:01'),\n",
       " ('/home/pamessina/medvqa-workspace/cache/mimiccxr/openai/gpt-3.5-turbo-0613_parsed_sentences__v2(uniform).jsonl',\n",
       "  '2023-07-03 19:29:30'),\n",
       " ('/home/pamessina/medvqa-workspace/cache/mimiccxr/openai/gpt-3.5-turbo-0613_parsed_sentences__v2.jsonl',\n",
       "  '2023-07-03 19:14:43'),\n",
       " ('/home/pamessina/medvqa-workspace/cache/mimiccxr/openai/gpt-4-0613_parsed_sentences__v2.jsonl',\n",
       "  '2023-07-03 19:13:13'),\n",
       " ('/home/pamessina/medvqa-workspace/cache/mimiccxr/openai/gpt-3.5-turbo-0613_parsed_facts__hard.jsonl',\n",
       "  '2023-06-28 10:01:37'),\n",
       " ('/home/pamessina/medvqa-workspace/cache/mimiccxr/openai/gpt-3.5-turbo-0613_parsed_facts__uniform.jsonl',\n",
       "  '2023-06-27 22:58:48'),\n",
       " ('/home/pamessina/medvqa-workspace/cache/mimiccxr/openai/gpt-3.5-turbo-0301_parsed_sentences.jsonl',\n",
       "  '2023-06-17 16:02:47'),\n",
       " ('/home/pamessina/medvqa-workspace/cache/mimiccxr/openai/gpt-3.5-turbo_parsed_reports.jsonl',\n",
       "  '2023-06-14 18:20:08'),\n",
       " ('/home/pamessina/medvqa-workspace/cache/mimiccxr/openai/gpt-3.5-turbo_parsed_sentences.jsonl',\n",
       "  '2023-06-14 17:16:17'),\n",
       " ('/home/pamessina/medvqa-workspace/cache/mimiccxr/openai/gpt-3.5-turbo_parsed_reports(old).jsonl',\n",
       "  '2023-06-14 13:56:35'),\n",
       " ('/home/pamessina/medvqa-workspace/cache/mimiccxr/openai/gpt-3.5-turbo_parsed_reports__backup.jsonl',\n",
       "  '2023-06-14 13:54:05'),\n",
       " ('/home/pamessina/medvqa-workspace/cache/mimiccxr/openai/gpt-4-0613_parsed_reports.jsonl',\n",
       "  '2023-06-14 13:14:47'),\n",
       " ('/home/pamessina/medvqa-workspace/cache/mimiccxr/openai/gpt-4-0613_parsed_sentences.jsonl',\n",
       "  '2023-06-14 13:04:05'),\n",
       " ('/home/pamessina/medvqa-workspace/cache/mimiccxr/openai/gpt-3.5-turbo_parsed_backgrounds.jsonl',\n",
       "  '2023-06-13 18:21:10')]"
      ]
     },
     "execution_count": 84,
     "metadata": {},
     "output_type": "execute_result"
    }
   ],
   "source": [
    "list_files_with_prefix_and_timestamps(\n",
    "    \"\",\n",
    "    \"/home/pamessina/medvqa-workspace/cache/mimiccxr/openai/\",\n",
    ")"
   ]
  },
  {
   "cell_type": "code",
   "execution_count": 95,
   "id": "53513662",
   "metadata": {},
   "outputs": [],
   "source": [
    "paraphrases_filepaths = [\n",
    "\"/home/pamessina/medvqa-workspace/cache/mimiccxr/openai/gpt-3.5-turbo-0613_paraphrased_anatomical_locations__part1.jsonl\",\n",
    "\"/home/pamessina/medvqa-workspace/cache/mimiccxr/openai/gpt-3.5-turbo-0613_paraphrased_anatomical_locations__part2.jsonl\",\n",
    "\"/home/pamessina/medvqa-workspace/cache/mimiccxr/openai/gpt-3.5-turbo-16k-0613_paraphrased_anatomical_locations__part3.jsonl\",\n",
    "\"/home/pamessina/medvqa-workspace/cache/mimiccxr/openai/gpt-3.5-turbo-0613_paraphrased_observations__single-words.jsonl\",\n",
    "\"/home/pamessina/medvqa-workspace/cache/mimiccxr/openai/gpt-3.5-turbo-0613_paraphrased_observations__two-or-more-words__part1.jsonl\",\n",
    "\"/home/pamessina/medvqa-workspace/cache/mimiccxr/openai/gpt-3.5-turbo-16k-0613_paraphrased_observations__two-or-more-words__part2.jsonl\",\n",
    "\"/home/pamessina/medvqa-workspace/cache/mimiccxr/openai/gpt-3.5-turbo-0613_paraphrased_observations__two-or-more-words__part3.jsonl\",\n",
    "\"/home/pamessina/medvqa-workspace/cache/mimiccxr/openai/gpt-3.5-turbo-16k-0613_paraphrased_observations__two-or-more-words__part4.jsonl\",\n",
    "\"/home/pamessina/medvqa-workspace/cache/mimiccxr/openai/gpt-4-0613_paraphrased_observations__two-or-more-words_cluster-balanced.jsonl\",\n",
    "\"/home/pamessina/medvqa-workspace/cache/mimiccxr/openai/gpt-3.5-turbo-0613_paraphrased_observations__two-or-more-words_cluster-balanced_1of5.jsonl\",\n",
    "\"/home/pamessina/medvqa-workspace/cache/mimiccxr/openai/gpt-3.5-turbo-0613_paraphrased_observations__two-or-more-words_cluster-balanced_2of5.jsonl\",\n",
    "\"/home/pamessina/medvqa-workspace/cache/mimiccxr/openai/gpt-3.5-turbo-0613_paraphrased_observations__two-or-more-words_cluster-balanced_3of5.jsonl\",\n",
    "\"/home/pamessina/medvqa-workspace/cache/mimiccxr/openai/gpt-3.5-turbo-0613_paraphrased_observations__two-or-more-words_cluster-balanced_4of5.jsonl\",\n",
    "\"/home/pamessina/medvqa-workspace/cache/mimiccxr/openai/gpt-3.5-turbo-0613_hard_triplets_from_facts(cluster-balanced,hardest)-part1.jsonl\",\n",
    "\"/home/pamessina/medvqa-workspace/cache/mimiccxr/openai/gpt-3.5-turbo-0613_hard_triplets_from_facts(cluster-balanced,hardest)-part2.jsonl\",\n",
    "\"/home/pamessina/medvqa-workspace/cache/mimiccxr/openai/gpt-3.5-turbo-0613_hard_triplets_from_facts(cluster-balanced,hardest)-part3.jsonl\",\n",
    "]"
   ]
  },
  {
   "cell_type": "code",
   "execution_count": 96,
   "id": "eaaa381e",
   "metadata": {},
   "outputs": [],
   "source": [
    "paraphrases_list = [load_jsonl(x) for x in paraphrases_filepaths]"
   ]
  },
  {
   "cell_type": "code",
   "execution_count": 97,
   "id": "64be5b8f",
   "metadata": {},
   "outputs": [
    {
     "name": "stdout",
     "output_type": "stream",
     "text": [
      "9891\n",
      "9890\n",
      "8511\n",
      "1864\n",
      "14993\n",
      "14971\n",
      "14972\n",
      "14965\n",
      "10000\n",
      "9999\n",
      "9997\n",
      "9994\n",
      "9996\n",
      "19937\n",
      "19937\n",
      "19943\n"
     ]
    }
   ],
   "source": [
    "for x in paraphrases_list:\n",
    "    print(len(x))"
   ]
  },
  {
   "cell_type": "code",
   "execution_count": 98,
   "id": "31b7fa53",
   "metadata": {},
   "outputs": [
    {
     "name": "stdout",
     "output_type": "stream",
     "text": [
      "199860\n"
     ]
    }
   ],
   "source": [
    "print(sum(len(x) for x in paraphrases_list))"
   ]
  },
  {
   "cell_type": "code",
   "execution_count": 99,
   "id": "9b5c44f5",
   "metadata": {
    "scrolled": true
   },
   "outputs": [
    {
     "name": "stdout",
     "output_type": "stream",
     "text": [
      "{'metadata': {'anatomical location': 'adjacent right basilar'}, 'parsed_response': ['right adjacent basilar', 'adjacent basilar on the right side', 'right basilar region next to', 'right basilar area adjacent to', 'right basilar region in close proximity to', 'right basilar region neighboring', 'right basilar region bordering', 'right basilar region nearby', 'right basilar region alongside', 'right basilar region beside']}\n",
      "--------------------------------------------------\n",
      "{'metadata': {'anatomical location': 'perihilar right-sided lung areas'}, 'parsed_response': ['right perihilar lung regions', 'right perihilar lung zones', 'right perihilar lung fields', 'right perihilar lung segments', 'right perihilar lung lobes', 'right perihilar pulmonary areas', 'right perihilar pulmonary regions', 'right perihilar pulmonary zones', 'right perihilar pulmonary fields', 'right perihilar pulmonary segments', 'right perihilar pulmonary lobes', 'right peri-hilum lung areas', 'right peri-hilum lung regions', 'right peri-hilum lung zones', 'right peri-hilum lung fields', 'right peri-hilum lung segments', 'right peri-hilum lung lobes', 'right peri-hilum pulmonary areas', 'right peri-hilum pulmonary regions', 'right peri-hilum pulmonary zones', 'right peri-hilum pulmonary fields', 'right peri-hilum pulmonary segments', 'right peri-hilum pulmonary lobes']}\n",
      "--------------------------------------------------\n",
      "{'metadata': {'anatomical location': 'chest wall, right subclavian vein'}, 'parsed_response': ['thoracic wall', 'chest wall structure', 'wall of the chest', 'chest wall anatomy', 'right subclavian vein', 'subclavian vein on the right side', 'right-sided subclavian vein', 'vein located on the right side of the subclavian region', 'subclavian vein in the right upper chest', 'vein in the right supraclavicular area', 'vein running along the right clavicle', 'vein adjacent to the right clavicle', 'vein in the right infraclavicular region']}\n",
      "--------------------------------------------------\n",
      "{'metadata': {'observation': 'hydropneumo/pyopneumothorax'}, 'parsed_response': ['hydropneumothorax', 'pyopneumothorax', 'air and fluid in the chest cavity', 'air and pus in the pleural space', 'collection of air and fluid in the thoracic cavity', 'presence of both air and fluid in the pleural cavity', 'combination of air and fluid in the chest cavity', 'accumulation of air and pus in the pleural cavity', 'pneumothorax with associated fluid', 'pleural effusion with concurrent pneumothorax']}\n",
      "--------------------------------------------------\n",
      "{'metadata': {'observation': 'Port-A-Cath catheter mid portion kinking giving its position and appearance on the AP view'}, 'parsed_response': ['mid portion of the Port-A-Cath catheter is kinked', 'kinking of the Port-A-Cath catheter in the middle', 'the Port-A-Cath catheter shows a bend in the middle', 'there is a kink in the mid section of the Port-A-Cath catheter', 'the AP view reveals a kinked portion in the middle of the Port-A-Cath catheter', 'the Port-A-Cath catheter is bent at its midpoint', 'the middle part of the Port-A-Cath catheter appears to be twisted or folded', 'the AP image shows a kinked segment in the middle of the Port-A-Cath catheter', 'there is a visible bend in the middle of the Port-A-Cath catheter on the AP view', 'the mid portion of the Port-A-Cath catheter is exhibiting a kinked configuration']}\n",
      "--------------------------------------------------\n",
      "{'metadata': {'observation': 'nodular thickening slightly more prominent along the upper pleural surface'}, 'parsed_response': ['nodular thickening slightly more pronounced along the upper pleural surface', 'nodular thickening slightly more evident along the upper pleural surface', 'nodular thickening slightly more noticeable along the upper pleural surface', 'nodular thickening slightly more conspicuous along the upper pleural surface', 'nodular thickening slightly more accentuated along the upper pleural surface', 'nodular thickening slightly more visible along the upper pleural surface', 'nodular thickening slightly more discernible along the upper pleural surface', 'nodular thickening slightly more highlighted along the upper pleural surface', 'nodular thickening slightly more emphasized along the upper pleural surface', 'nodular thickening slightly more prominent on the upper pleural surface']}\n",
      "--------------------------------------------------\n",
      "{'metadata': {'observation': 'new opacity in the right medial lower lobe from the prior two radiographs'}, 'parsed_response': ['new density in the right medial lower lobe from the previous two radiographs', 'recent opacity in the right medial lower lobe compared to the prior two radiographs', 'fresh infiltrate in the right medial lower lobe from the previous two radiographs', 'recent shadow in the right medial lower lobe compared to the prior two radiographs', 'new opacification in the right medial lower lobe from the prior two radiographs', 'recent haziness in the right medial lower lobe compared to the prior two radiographs', 'recent consolidation in the right medial lower lobe from the previous two radiographs', 'recent increased density in the right medial lower lobe compared to the prior two radiographs', 'recent ground-glass opacity in the right medial lower lobe from the prior two radiographs', 'recent alveolar infiltrate in the right medial lower lobe compared to the prior two radiographs']}\n",
      "--------------------------------------------------\n",
      "{'metadata': {'observation': 'possible pulmonary infiltrate on the lower descending thoracic aorta on the left base in retrocardiac position on the lower descending thoracic aorta left base in retrocardiac position'}, 'parsed_response': ['possible lung infection in the lower part of the descending thoracic aorta on the left side at the base in a position behind the heart', 'suspicion of infiltrate in the lower descending thoracic aorta on the left base in retrocardiac location', 'potential pulmonary infiltrate adjacent to the lower descending thoracic aorta on the left base in retrocardiac position', 'probable lung infiltrate near the lower descending thoracic aorta on the left base in retrocardiac position', 'likely infection in the lower descending thoracic aorta on the left base in retrocardiac position', 'potential abnormality involving the lower descending thoracic aorta on the left base in retrocardiac position', 'suspected infiltrate near the lower descending thoracic aorta on the left base in retrocardiac position', 'possible pathological finding in the lower descending thoracic aorta on the left base in retrocardiac position', 'potential abnormality in close proximity to the lower descending thoracic aorta on the left base in retrocardiac position', 'potential lung infection near the lower descending thoracic aorta on the left base in retrocardiac position']}\n",
      "--------------------------------------------------\n",
      "{'metadata': {'query': 'possible right internal jugular catheter tip positioned very proximally near the confluence of the internal jugular and brachiocephalic veins'}, 'parsed_response': ['The tip of the possible right internal jugular catheter seems to be positioned very proximally, close to where the internal jugular and brachiocephalic veins meet', 'The catheter in the right internal jugular vein may be placed too proximally, near the junction of the internal jugular and brachiocephalic veins', 'The location of the possible right internal jugular catheter tip appears to be very proximal, at the confluence of the internal jugular and brachiocephalic veins', 'The tip of the potential right internal jugular catheter seems to be very proximally positioned, near the point where the internal jugular and brachiocephalic veins converge', 'The right internal jugular catheter, if present, seems to have its tip placed very proximally, close to the meeting point of the internal jugular and brachiocephalic veins', 'The possible catheter in the right internal jugular vein may be positioned very proximally, near the confluence of the internal jugular and brachiocephalic veins', 'The tip of the potential catheter in the right internal jugular vein appears to be very proximally placed, at the junction of the internal jugular and brachiocephalic veins', 'The possible right internal jugular catheter appears to have its tip located very proximally, close to the point where the internal jugular and brachiocephalic veins come together', 'The potential right internal jugular catheter may have its tip positioned very proximally, near the confluence of the internal jugular and brachiocephalic veins', 'The tip of the possible catheter in the right internal jugular vein seems to be placed very proximally, at the meeting point of the internal jugular and brachiocephalic veins', 'The possible right internal jugular catheter might have its tip very proximally positioned, close to the junction of the internal jugular and brachiocephalic veins', 'The tip of the potential right internal jugular catheter may be located very proximally, near the point where the internal jugular and brachiocephalic veins converge', 'The possible catheter in the right internal jugular vein appears to have its tip positioned very proximally, at the confluence of the internal jugular and brachiocephalic veins']}\n",
      "--------------------------------------------------\n",
      "{'metadata': {'query': \"enlargement of the pulmonary arteries consistent with patient's underlying history of pulmonary arterial hypertension\"}, 'parsed_response': [\"Patient's history of pulmonary arterial hypertension is evident from the enlargement of the pulmonary arteries\", \"The pulmonary arteries appear enlarged, which is in line with the patient's history of pulmonary arterial hypertension\", \"Enlarged pulmonary arteries are observed, which is in accordance with the patient's underlying pulmonary arterial hypertension\", \"The pulmonary arteries show signs of enlargement, which is consistent with the patient's history of pulmonary arterial hypertension\", \"Enlargement of the pulmonary arteries is seen, which is indicative of the patient's underlying pulmonary arterial hypertension\", \"The patient's history of pulmonary arterial hypertension is supported by the enlargement of the pulmonary arteries\", 'Pulmonary arterial hypertension is evident from the observed enlargement of the pulmonary arteries', \"The pulmonary arteries appear to be enlarged, which is in line with the patient's history of pulmonary arterial hypertension\", \"Enlargement of the pulmonary arteries is consistent with the patient's underlying pulmonary arterial hypertension\", \"The observed enlargement of the pulmonary arteries is in accordance with the patient's history of pulmonary arterial hypertension\", \"The pulmonary arteries are enlarged, which is indicative of the patient's underlying pulmonary arterial hypertension\", \"Enlarged pulmonary arteries are seen, which is consistent with the patient's history of pulmonary arterial hypertension\", \"The enlargement of the pulmonary arteries is in line with the patient's history of pulmonary arterial hypertension\", \"The patient's underlying pulmonary arterial hypertension is supported by the observed enlargement of the pulmonary arteries\"]}\n",
      "--------------------------------------------------\n",
      "{'metadata': {'query': \"severely limited supine chest radiograph by the patient's markedly abnormal body habitus secondary to osteogenesis imperfecta\"}, 'parsed_response': [\"The patient's supine chest radiograph is severely limited due to the patient's significantly abnormal body shape caused by osteogenesis imperfecta\", \"Osteogenesis imperfecta has resulted in a markedly abnormal body habitus, severely limiting the quality of the patient's supine chest radiograph\", \"The patient's supine chest radiograph is of poor quality due to the markedly abnormal body habitus caused by osteogenesis imperfecta\", \"Due to the patient's osteogenesis imperfecta, the supine chest radiograph is severely limited by the markedly abnormal body habitus\", \"The patient's supine chest radiograph is of limited value due to the markedly abnormal body habitus caused by osteogenesis imperfecta\", \"Osteogenesis imperfecta has resulted in a severely limited supine chest radiograph due to the patient's markedly abnormal body habitus\", \"The quality of the supine chest radiograph is severely compromised by the patient's markedly abnormal body habitus secondary to osteogenesis imperfecta\", \"The supine chest radiograph is severely limited in its diagnostic value due to the patient's markedly abnormal body habitus caused by osteogenesis imperfecta\", \"The markedly abnormal body habitus secondary to osteogenesis imperfecta severely limits the quality of the patient's supine chest radiograph\", \"Due to the patient's osteogenesis imperfecta, the supine chest radiograph is of limited diagnostic value because of the markedly abnormal body habitus\", \"The patient's markedly abnormal body habitus caused by osteogenesis imperfecta severely limits the quality of the supine chest radiograph\", 'The supine chest radiograph is severely limited in its utility due to the markedly abnormal body habitus secondary to osteogenesis imperfecta', \"The quality of the supine chest radiograph is significantly compromised by the patient's markedly abnormal body habitus resulting from osteogenesis imperfecta\", \"The markedly abnormal body habitus secondary to osteogenesis imperfecta severely hampers the interpretability of the patient's supine chest radiograph\"]}\n",
      "--------------------------------------------------\n",
      "{'metadata': {'query': 'suggestion of either thyroid or other mass or hematoma from the separation of the presumed internal jugular portion of the pacer lead from the midline trachea'}, 'parsed_response': [\"Suspected presence of either a thyroid or another type of mass or hematoma due to the separation of the assumed internal jugular portion of the pacer lead from the trachea's midline\", 'Indication of a possible thyroid or other mass or hematoma based on the displacement of the presumed internal jugular portion of the pacer lead away from the midline trachea', 'Presence of a potential thyroid or other mass or hematoma suggested by the separation of the presumed internal jugular portion of the pacer lead from the midline trachea', 'Possible existence of either a thyroid or another type of mass or hematoma indicated by the displacement of the presumed internal jugular portion of the pacer lead from the midline trachea', 'Observation of a suspected thyroid or other mass or hematoma due to the separation of the presumed internal jugular portion of the pacer lead from the midline trachea', 'Signs pointing towards the presence of either a thyroid or another type of mass or hematoma resulting from the separation of the presumed internal jugular portion of the pacer lead from the midline trachea', 'Indication of a potential thyroid or other mass or hematoma based on the separation of the presumed internal jugular portion of the pacer lead from the midline trachea', 'Suspected occurrence of either a thyroid or another type of mass or hematoma from the displacement of the presumed internal jugular portion of the pacer lead away from the midline trachea', 'Presence of a possible thyroid or other mass or hematoma suggested by the separation of the presumed internal jugular portion of the pacer lead from the midline trachea', 'Possible existence of either a thyroid or another type of mass or hematoma indicated by the displacement of the presumed internal jugular portion of the pacer lead from the midline trachea', 'Observation of a suspected thyroid or other mass or hematoma due to the separation of the presumed internal jugular portion of the pacer lead from the midline trachea', 'Signs pointing towards the presence of either a thyroid or another type of mass or hematoma resulting from the separation of the presumed internal jugular portion of the pacer lead from the midline trachea', 'Indication of a potential thyroid or other mass or hematoma based on the separation of the presumed internal jugular portion of the pacer lead from the midline trachea']}\n",
      "--------------------------------------------------\n",
      "{'metadata': {'query': 'moderate interval increase in caliber of the mediastinum at the level of the vascular pedicle'}, 'parsed_response': ['Moderate enlargement of the mediastinum at the level of the vascular pedicle', 'Moderate dilation of the mediastinum at the level of the vascular pedicle', 'Moderate widening of the mediastinum at the level of the vascular pedicle', 'Moderate increase in size of the mediastinum at the level of the vascular pedicle', 'Moderate expansion of the mediastinum at the level of the vascular pedicle', 'Moderate augmentation of the mediastinum at the level of the vascular pedicle', 'Moderate growth of the mediastinum at the level of the vascular pedicle', 'Moderate enlargement of the mediastinal region at the level of the vascular pedicle', 'Moderate dilatation of the mediastinal region at the level of the vascular pedicle', 'Moderate widening of the mediastinal region at the level of the vascular pedicle', 'Moderate increase in size of the mediastinal region at the level of the vascular pedicle', 'Moderate expansion of the mediastinal region at the level of the vascular pedicle', 'Moderate augmentation of the mediastinal region at the level of the vascular pedicle', 'Moderate growth of the mediastinal region at the level of the vascular pedicle']}\n",
      "--------------------------------------------------\n",
      "{'metadata': {'query': '9 mm wide round opacity projecting over the intersection of the left first rib anteriorly and the medial H of the left scapula'}, 'parsed_response': {'positives': ['9 millimeter circular opacity located at the junction of the anterior aspect of the left first rib and the medial aspect of the left scapula', 'Round opacity measuring 9 mm found at the intersection of the left first rib anteriorly and the medial H of the left scapula', 'Lesion with a diameter of 9 millimeters seen at the point where the left first rib meets the medial H of the left scapula', 'An opacity approximately 9 mm in width observed at the junction of the anterior aspect of the left first rib and the medial H of the left scapula', 'A circular shadow measuring 9 millimeters in width identified at the intersection of the left first rib anteriorly and the medial H of the left scapula', 'A 9 mm wide rounded abnormality projecting over the point where the left first rib meets the medial H of the left scapula'], 'negatives': ['7 mm wide round opacity projecting over the intersection of the right first rib anteriorly and the medial H of the right scapula', '9 mm wide round opacity projecting over the intersection of the left second rib anteriorly and the medial H of the left scapula', '9 mm wide round opacity projecting over the intersection of the left first rib posteriorly and the medial H of the left scapula', '9 mm wide round opacity projecting over the intersection of the left first rib anteriorly and the lateral H of the left scapula', '9 mm wide round opacity projecting over the intersection of the left first rib anteriorly and the medial H of the right scapula', '9 mm wide round opacity projecting over the intersection of the left first rib anteriorly and the medial H of the left clavicle', '9 mm wide round opacity projecting over the intersection of the left first rib anteriorly and the medial H of the left humerus', '9 mm wide round opacity projecting over the intersection of the left first rib anteriorly and the medial H of the left sternum', '9 mm wide round opacity projecting over the intersection of the left first rib anteriorly and the medial H of the left lung', '9 mm wide round opacity projecting over the intersection of the left first rib anteriorly and the medial H of the left diaphragm']}}\n",
      "--------------------------------------------------\n",
      "{'metadata': {'query': '1.4-cm opacity in a lower thoracic vertebral body'}, 'parsed_response': {'positives': ['1.4-centimeter abnormality in a vertebral body in the lower thoracic region', 'Opacity measuring 1.4 cm found in a thoracic vertebra in the lower part of the spine', 'An abnormality of 1.4 cm detected in a vertebral body located in the lower thoracic area', 'A 1.4-cm opacity observed in a vertebral body situated in the lower thoracic region', 'An abnormality measuring 1.4 cm identified in a thoracic vertebra in the lower part of the spine', 'A lower thoracic vertebral body showing a 1.4-cm opacity'], 'negatives': ['Normal appearance of the lower thoracic vertebral body', 'No abnormality detected in the lower thoracic vertebral body', 'A 1.4-cm opacity in a cervical vertebral body', 'An opacity measuring 1.4 cm found in a lumbar vertebral body', 'An abnormality of 1.4 cm detected in a vertebral body located in the upper thoracic area', 'A lower thoracic vertebral body showing a 1.4-cm mass', 'A 1.4-cm opacity observed in a vertebral body situated in the middle thoracic region', 'No significant findings in the lower thoracic vertebral body', 'A 1.4-cm opacity in a thoracic vertebral body in the upper part of the spine', 'An abnormality measuring 1.4 cm identified in a thoracic vertebra in the middle part of the spine']}}\n",
      "--------------------------------------------------\n",
      "{'metadata': {'query': 'selected images of abdominal CT'}, 'parsed_response': {'positives': ['selected images of CT scan of the abdomen', 'chosen pictures of abdominal CT scan', 'handpicked images of abdominal computed tomography', 'carefully selected pictures of CT scan of the belly', 'curated images of abdominal CT imaging', 'specifically chosen visuals of abdominal CT scan'], 'negatives': ['selected images of chest X-ray', 'chosen pictures of brain MRI', 'handpicked images of pelvic ultrasound', 'carefully selected pictures of knee X-ray', 'curated images of shoulder CT scan', 'specifically chosen visuals of ankle MRI', 'selected images of abdominal ultrasound', 'chosen pictures of liver biopsy', 'handpicked images of colonoscopy', 'carefully selected pictures of kidney stone X-ray']}}\n",
      "--------------------------------------------------\n"
     ]
    }
   ],
   "source": [
    "for x in paraphrases_list:\n",
    "    print(x[-1])\n",
    "    print('-' * 50)"
   ]
  },
  {
   "cell_type": "code",
   "execution_count": 102,
   "id": "1b748e89",
   "metadata": {},
   "outputs": [
    {
     "data": {
      "text/plain": [
       "2093173"
      ]
     },
     "execution_count": 102,
     "metadata": {},
     "output_type": "execute_result"
    }
   ],
   "source": [
    "count = 0\n",
    "for x in paraphrases_list:\n",
    "    if type(x[0]['parsed_response']) == list:\n",
    "        for y in x:\n",
    "            assert type(y['parsed_response']) == list\n",
    "            count += len(y['parsed_response'])\n",
    "    else:\n",
    "        for y in x:\n",
    "            count += len(y['parsed_response']['positives'])\n",
    "count"
   ]
  },
  {
   "cell_type": "code",
   "execution_count": 128,
   "id": "b3e2d25f",
   "metadata": {},
   "outputs": [
    {
     "name": "stdout",
     "output_type": "stream",
     "text": [
      "ET tube removed\n",
      "\n",
      "[\n",
      " \"The endotracheal tube was taken out\",\n",
      " \"The ET tube was extracted\",\n",
      " \"The patient's endotracheal tube was removed\",\n",
      " \"The breathing tube was removed\",\n",
      " \"The tube used for intubation was taken out\",\n",
      " \"The patient's airway tube was removed\",\n",
      " \"The endotracheal tube was disconnected\",\n",
      " \"The ET tube was removed from the patient's airway\",\n",
      " \"The breathing tube was withdrawn\",\n",
      " \"The endotracheal tube was extracted from the patient's trachea\",\n",
      " \"The patient's intubation tube was removed\",\n",
      " \"The tube used for ventilation was taken out\",\n",
      " \"The endotracheal tube was removed from the patient's throat\",\n",
      " \"The ET tube was pulled out\"\n",
      "]\n"
     ]
    }
   ],
   "source": [
    "a = -4\n",
    "b = 100\n",
    "print(paraphrases_list[a][b]['metadata']['query'])\n",
    "print()\n",
    "print(json.dumps(paraphrases_list[a][b]['parsed_response'], indent=1))"
   ]
  },
  {
   "cell_type": "markdown",
   "id": "0334e5e4",
   "metadata": {},
   "source": [
    "# MedNLI"
   ]
  },
  {
   "cell_type": "code",
   "execution_count": 9,
   "id": "41c7bfa5",
   "metadata": {},
   "outputs": [],
   "source": [
    "from medvqa.datasets.nli import MEDNLI_DEV_JSONL_PATH, MEDNLI_TEST_JSONL_PATH, MEDNLI_TRAIN_JSONL_PATH\n",
    "from medvqa.utils.files import load_jsonl\n",
    "from collections import Counter"
   ]
  },
  {
   "cell_type": "code",
   "execution_count": 3,
   "id": "ee13ccb0",
   "metadata": {},
   "outputs": [],
   "source": [
    "mednli_dev = load_jsonl(MEDNLI_DEV_JSONL_PATH)\n",
    "mednli_test = load_jsonl(MEDNLI_TEST_JSONL_PATH)\n",
    "mednli_train = load_jsonl(MEDNLI_TRAIN_JSONL_PATH)"
   ]
  },
  {
   "cell_type": "code",
   "execution_count": 5,
   "id": "534b1a70",
   "metadata": {},
   "outputs": [
    {
     "data": {
      "text/plain": [
       "(1395, 1422, 11232)"
      ]
     },
     "execution_count": 5,
     "metadata": {},
     "output_type": "execute_result"
    }
   ],
   "source": [
    "len(mednli_dev), len(mednli_test), len(mednli_train)"
   ]
  },
  {
   "cell_type": "code",
   "execution_count": 7,
   "id": "79327981",
   "metadata": {},
   "outputs": [],
   "source": [
    "rows = mednli_dev + mednli_test + mednli_train"
   ]
  },
  {
   "cell_type": "code",
   "execution_count": 8,
   "id": "3e790fab",
   "metadata": {},
   "outputs": [
    {
     "data": {
      "text/plain": [
       "14049"
      ]
     },
     "execution_count": 8,
     "metadata": {},
     "output_type": "execute_result"
    }
   ],
   "source": [
    "len(rows)"
   ]
  },
  {
   "cell_type": "code",
   "execution_count": 10,
   "id": "9ad8d8bb",
   "metadata": {},
   "outputs": [
    {
     "data": {
      "text/plain": [
       "{'sentence1': 'No history of blood clots or DVTs, has never had chest pain prior to one week ago.',\n",
       " 'pairID': '1892c19a-66c7-11e7-be8f-f45c89b91419',\n",
       " 'sentence1_parse': '(ROOT (S (NP (NP (DT No) (NN history)) (PP (IN of) (NP (NP (NN blood) (NNS clots)) (CC or) (NP (NNS DVTs))))) (, ,) (VP (VBZ has) (ADVP (RB never)) (VP (VBN had) (NP (NN chest) (NN pain)) (ADVP (RB prior) (S (VP (TO to) (VP (ADVP (NP (CD one) (NN week)) (RB ago)))))))) (. .)))',\n",
       " 'sentence1_binary_parse': '( ( ( No history ) ( of ( ( ( blood clots ) or ) DVTs ) ) ) ( , ( ( ( has never ) ( ( had ( chest pain ) ) ( prior ( to ( ( one week ) ago ) ) ) ) ) . ) ) )',\n",
       " 'sentence2': ' Patient has angina',\n",
       " 'sentence2_parse': '(ROOT (S (NP (NN Patient)) (VP (VBZ has) (NP (NN angina)))))',\n",
       " 'sentence2_binary_parse': '( Patient ( has angina ) )',\n",
       " 'gold_label': 'entailment'}"
      ]
     },
     "execution_count": 10,
     "metadata": {},
     "output_type": "execute_result"
    }
   ],
   "source": [
    "rows[0]"
   ]
  },
  {
   "cell_type": "code",
   "execution_count": 11,
   "id": "b341c657",
   "metadata": {},
   "outputs": [
    {
     "data": {
      "text/plain": [
       "Counter({'entailment': 4683, 'contradiction': 4683, 'neutral': 4683})"
      ]
     },
     "execution_count": 11,
     "metadata": {},
     "output_type": "execute_result"
    }
   ],
   "source": [
    "Counter(x['gold_label'] for x in rows)"
   ]
  },
  {
   "cell_type": "markdown",
   "id": "69bca1a8",
   "metadata": {},
   "source": [
    "# RadNLI"
   ]
  },
  {
   "cell_type": "code",
   "execution_count": 19,
   "id": "6358fe0a",
   "metadata": {},
   "outputs": [],
   "source": [
    "from medvqa.datasets.nli import RADNLI_DEV_JSONL_PATH\n",
    "import json"
   ]
  },
  {
   "cell_type": "code",
   "execution_count": 13,
   "id": "9fe050e9",
   "metadata": {},
   "outputs": [],
   "source": [
    "radnli_dev = load_jsonl(RADNLI_DEV_JSONL_PATH)"
   ]
  },
  {
   "cell_type": "code",
   "execution_count": 21,
   "id": "f1f8d38f",
   "metadata": {},
   "outputs": [
    {
     "data": {
      "text/plain": [
       "'{\"P\": \"Lungs are well-expanded and clear without focal consolidation concerning for pneumonia.\", \"H\": \"Lungs are hyperinflated but clear.\", \"L\": \"contradiction\"}'"
      ]
     },
     "execution_count": 21,
     "metadata": {},
     "output_type": "execute_result"
    }
   ],
   "source": [
    "x = radnli_dev[-1]\n",
    "json.dumps({'P': x['sentence1'], 'H': x['sentence2'], 'L': x['gold_label']})"
   ]
  },
  {
   "cell_type": "code",
   "execution_count": null,
   "id": "23067962",
   "metadata": {},
   "outputs": [],
   "source": [
    "{'P': p, 'H': h, 'L': l}"
   ]
  },
  {
   "cell_type": "markdown",
   "id": "c0359552",
   "metadata": {},
   "source": [
    "# Integrated NLI examples"
   ]
  },
  {
   "cell_type": "code",
   "execution_count": 22,
   "id": "5b14e245",
   "metadata": {},
   "outputs": [],
   "source": [
    "integrated_nli = load_jsonl(\"/home/pamessina/medvqa-workspace/cache/mimiccxr/integrated_nli_examples(162036,21465751).jsonl\")"
   ]
  },
  {
   "cell_type": "code",
   "execution_count": 24,
   "id": "10bf24f1",
   "metadata": {},
   "outputs": [
    {
     "data": {
      "text/plain": [
       "Counter({'gpt-4-0613': 147509,\n",
       "         'mednli_train': 11231,\n",
       "         'mednli_dev': 1395,\n",
       "         'mednli_test': 1421,\n",
       "         'radnli_dev': 480})"
      ]
     },
     "execution_count": 24,
     "metadata": {},
     "output_type": "execute_result"
    }
   ],
   "source": [
    "Counter(x['source'] for x in integrated_nli)"
   ]
  },
  {
   "cell_type": "code",
   "execution_count": 25,
   "id": "05e4ff37",
   "metadata": {},
   "outputs": [
    {
     "data": {
      "text/plain": [
       "162036"
      ]
     },
     "execution_count": 25,
     "metadata": {},
     "output_type": "execute_result"
    }
   ],
   "source": [
    "len(integrated_nli)"
   ]
  },
  {
   "cell_type": "code",
   "execution_count": 27,
   "id": "b95ce1e7",
   "metadata": {},
   "outputs": [
    {
     "data": {
      "text/plain": [
       "Counter({'entailment': 26442, 'neutral': 39817, 'contradiction': 95777})"
      ]
     },
     "execution_count": 27,
     "metadata": {},
     "output_type": "execute_result"
    }
   ],
   "source": [
    "Counter(x['label'] for x in integrated_nli)"
   ]
  },
  {
   "cell_type": "markdown",
   "id": "2f7cc373",
   "metadata": {},
   "source": [
    "# Post-processed reports"
   ]
  },
  {
   "cell_type": "code",
   "execution_count": 9,
   "id": "17c77013",
   "metadata": {},
   "outputs": [],
   "source": [
    "from medvqa.utils.files import load_json, load_pickle"
   ]
  },
  {
   "cell_type": "code",
   "execution_count": 1,
   "id": "2a90185b",
   "metadata": {},
   "outputs": [],
   "source": [
    "bfi =  load_json(\"/mnt/data/pamessina/workspaces/medvqa-workspace/cache/mimiccxr/background_findings_and_impression_20230612_174143.json\")"
   ]
  },
  {
   "cell_type": "code",
   "execution_count": 4,
   "id": "eaa9bf2d",
   "metadata": {},
   "outputs": [],
   "source": [
    "empty_idxs = []\n",
    "for i, r in enumerate(bfi):\n",
    "    if not r['findings'] and not r['impression']:\n",
    "        empty_idxs.append(i)"
   ]
  },
  {
   "cell_type": "code",
   "execution_count": 5,
   "id": "071685ee",
   "metadata": {},
   "outputs": [
    {
     "data": {
      "text/plain": [
       "51"
      ]
     },
     "execution_count": 5,
     "metadata": {},
     "output_type": "execute_result"
    }
   ],
   "source": [
    "len(empty_idxs)"
   ]
  },
  {
   "cell_type": "code",
   "execution_count": 7,
   "id": "e495aeb1",
   "metadata": {},
   "outputs": [
    {
     "data": {
      "text/plain": [
       "{'background': 'history: Pancreatitis, pleural effusion followup.',\n",
       " 'findings': '',\n",
       " 'impression': '',\n",
       " 'path': '/mnt/data/mimic-cxr/files/p10/p10060142/s52115374.txt'}"
      ]
     },
     "execution_count": 7,
     "metadata": {},
     "output_type": "execute_result"
    }
   ],
   "source": [
    "bfi[empty_idxs[0]]"
   ]
  },
  {
   "cell_type": "code",
   "execution_count": 10,
   "id": "4a1a78a7",
   "metadata": {},
   "outputs": [],
   "source": [
    "tmp = load_pickle(\"/mnt/workspace/pamessina/medvqa-workspace/cache/mimiccxr/integrated_report_annotations(hash=1005,3660907086036749586).pkl\")"
   ]
  },
  {
   "cell_type": "code",
   "execution_count": 11,
   "id": "9355260e",
   "metadata": {},
   "outputs": [
    {
     "data": {
      "text/plain": [
       "dict_keys(['reports', 'cluster_based_label_names', 'sentences', 'sentence_embeddings', 'sentence_cluster_ids', 'sentence_fact_idxs', 'facts', 'fact_embeddings', 'fact_cluster_ids', 'fact_metadata', 'anatomical_locations', 'anatomical_location_embeddings', 'anatomical_location_cluster_ids'])"
      ]
     },
     "execution_count": 11,
     "metadata": {},
     "output_type": "execute_result"
    }
   ],
   "source": [
    "tmp.keys()"
   ]
  },
  {
   "cell_type": "code",
   "execution_count": 19,
   "id": "81b16520",
   "metadata": {},
   "outputs": [
    {
     "data": {
      "text/plain": [
       "{'path': 'mimic-cxr/files/p19/p19349312/s52035334.txt',\n",
       " 'part_id': 'p19',\n",
       " 'subject_id': 'p19349312',\n",
       " 'study_id': 's52035334',\n",
       " 'original_report': '                                 FINAL REPORT\\n EXAMINATION:  CHEST (PA AND LAT)\\n \\n INDICATION:  ___ year old man s/p CABG  // eval for effusion      eval for\\n effusion\\n \\n COMPARISON:  Chest radiographs ___ and ___.\\n',\n",
       " 'background': 'indication: year old man s/p CABG // eval for effusion eval for effusion.',\n",
       " 'findings': '',\n",
       " 'impression': '',\n",
       " 'findings_sentence_idxs': [],\n",
       " 'findings_fact_idxs': [],\n",
       " 'impression_sentence_idxs': [],\n",
       " 'impression_fact_idxs': [],\n",
       " 'cluster_based_labels': []}"
      ]
     },
     "execution_count": 19,
     "metadata": {},
     "output_type": "execute_result"
    }
   ],
   "source": [
    "tmp['reports'][empty_idxs[-1]]"
   ]
  },
  {
   "cell_type": "code",
   "execution_count": 37,
   "id": "b246b6e9",
   "metadata": {},
   "outputs": [],
   "source": [
    "no_impression_idxs = []\n",
    "for i, x in enumerate(tmp['reports']):\n",
    "    if not x['impression']:\n",
    "        no_impression_idxs.append(i)"
   ]
  },
  {
   "cell_type": "code",
   "execution_count": 20,
   "id": "a17b42d5",
   "metadata": {},
   "outputs": [],
   "source": [
    "empty_v2 = []\n",
    "for i, r in enumerate(tmp['reports']):\n",
    "    if not r['cluster_based_labels']:\n",
    "        empty_v2.append(i)"
   ]
  },
  {
   "cell_type": "code",
   "execution_count": 21,
   "id": "0315ce08",
   "metadata": {},
   "outputs": [
    {
     "data": {
      "text/plain": [
       "62"
      ]
     },
     "execution_count": 21,
     "metadata": {},
     "output_type": "execute_result"
    }
   ],
   "source": [
    "len(empty_v2)"
   ]
  },
  {
   "cell_type": "code",
   "execution_count": 26,
   "id": "ef224424",
   "metadata": {},
   "outputs": [],
   "source": [
    "delta = list(set(empty_v2) - set(empty_idxs))"
   ]
  },
  {
   "cell_type": "code",
   "execution_count": 28,
   "id": "a645a5cf",
   "metadata": {},
   "outputs": [
    {
     "data": {
      "text/plain": [
       "11"
      ]
     },
     "execution_count": 28,
     "metadata": {},
     "output_type": "execute_result"
    }
   ],
   "source": [
    "len(delta)"
   ]
  },
  {
   "cell_type": "code",
   "execution_count": 40,
   "id": "fee46f98",
   "metadata": {},
   "outputs": [
    {
     "data": {
      "text/plain": [
       "{'path': 'mimic-cxr/files/p10/p10083833/s51949859.txt',\n",
       " 'part_id': 'p10',\n",
       " 'subject_id': 'p10083833',\n",
       " 'study_id': 's51949859',\n",
       " 'original_report': '                                 FINAL REPORT\\n CHEST TWO VIEWS ON ___\\n \\n HISTORY:  Pulmonary fibrosis, check lead placement.\\n \\n FINDINGS:  There is a new dual-lead pacemaker with leads projecting over the\\n expected location of the heart.  The diffuse increased interstitial markings,\\n lower lobe greater than upper lobe are similar compared to the study from the\\n prior week.  There is no new infiltrate.\\n',\n",
       " 'background': 'history: Pulmonary fibrosis, check lead placement.',\n",
       " 'findings': 'There is a new dual-lead pacemaker with leads projecting over the expected location of the heart. The diffuse increased interstitial markings, lower lobe greater than upper lobe are similar compared to the study from the prior week. There is no new infiltrate.',\n",
       " 'impression': '',\n",
       " 'findings_sentence_idxs': [101, 102, 103],\n",
       " 'findings_fact_idxs': [128, 129, 130, 131, 132],\n",
       " 'impression_sentence_idxs': [],\n",
       " 'impression_fact_idxs': [],\n",
       " 'cluster_based_labels': [29650, 37174, 11727, 5146, 77]}"
      ]
     },
     "execution_count": 40,
     "metadata": {},
     "output_type": "execute_result"
    }
   ],
   "source": [
    "tmp['reports'][no_impression_idxs[2]]"
   ]
  }
 ],
 "metadata": {
  "kernelspec": {
   "display_name": "Python 3 (ipykernel)",
   "language": "python",
   "name": "python3"
  },
  "language_info": {
   "codemirror_mode": {
    "name": "ipython",
    "version": 3
   },
   "file_extension": ".py",
   "mimetype": "text/x-python",
   "name": "python",
   "nbconvert_exporter": "python",
   "pygments_lexer": "ipython3",
   "version": "3.10.10"
  }
 },
 "nbformat": 4,
 "nbformat_minor": 5
}
