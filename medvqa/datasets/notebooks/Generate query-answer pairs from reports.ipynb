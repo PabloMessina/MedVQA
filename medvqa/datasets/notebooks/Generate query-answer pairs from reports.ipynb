{
 "cells": [
  {
   "cell_type": "code",
   "execution_count": 147,
   "id": "7256d999",
   "metadata": {},
   "outputs": [
    {
     "name": "stdout",
     "output_type": "stream",
     "text": [
      "env: CUDA_VISIBLE_DEVICES=2\n"
     ]
    }
   ],
   "source": [
    "%env CUDA_VISIBLE_DEVICES=2"
   ]
  },
  {
   "cell_type": "code",
   "execution_count": 3,
   "id": "547456b2",
   "metadata": {},
   "outputs": [
    {
     "name": "stdout",
     "output_type": "stream",
     "text": [
      "\u001b[1m\u001b[34mRunning assign_gpt4_label_based_facts_to_reports()...\u001b[0m\n",
      "Loading /home/pamessina/medvqa-workspace/cache/mimiccxr/openai/gpt-4-1106-preview_fact_based_report_nli_queries(from_labels).jsonl...\n",
      "Loading /home/pamessina/medvqa-workspace/cache/mimiccxr/openai/gpt-4-1106-preview_fact_based_report_nli_queries(from_labels,v2).jsonl...\n",
      "len(report2labels): 54810\n",
      "Loading /home/pamessina/medvqa-workspace/cache/mimiccxr/integrated_report_facts_metadata(227835,78646269).jsonl...\n",
      "Number of reports with labels: 64235/227835\n",
      "Loading /home/pamessina/medvqa-workspace/cache/mimiccxr/integrated_report_facts(79040140).jsonl...\n",
      "Number of reports with labels: 42783/227835\n",
      "Saving /mnt/workspace/pamessina/medvqa-workspace/cache/mimiccxr_gpt4_label_based_facts_assigned_to_reports(hash=545,2400242847100299105).pkl...\n",
      "\u001b[1m\u001b[34mDone!\u001b[0m\n"
     ]
    }
   ],
   "source": [
    "!python ../../scripts/mimiccxr/find_pos_neg_neutral_facts_per_report_v2.py \\\n",
    "--task \"assign_gpt4_label_based_facts_to_reports\" \\\n",
    "--integrated_report_facts_jsonl_filepaths \\\n",
    "\"/home/pamessina/medvqa-workspace/cache/mimiccxr/integrated_report_facts_metadata(227835,78646269).jsonl\" \\\n",
    "\"/home/pamessina/medvqa-workspace/cache/mimiccxr/integrated_report_facts(79040140).jsonl\" \\\n",
    "--report_nli_label_driven_input_output_jsonl_filepaths \\\n",
    "\"/home/pamessina/medvqa-workspace/cache/mimiccxr/openai/gpt-4-1106-preview_fact_based_report_nli_queries(from_labels).jsonl\" \\\n",
    "\"/home/pamessina/medvqa-workspace/cache/mimiccxr/openai/gpt-4-1106-preview_fact_based_report_nli_queries(from_labels,v2).jsonl\""
   ]
  },
  {
   "cell_type": "code",
   "execution_count": 18,
   "id": "cfda79f7",
   "metadata": {},
   "outputs": [],
   "source": [
    "from medvqa.utils.files import load_pickle, load_jsonl\n",
    "import random"
   ]
  },
  {
   "cell_type": "code",
   "execution_count": 5,
   "id": "c5ae27bc",
   "metadata": {},
   "outputs": [],
   "source": [
    "tmp = load_pickle('/mnt/workspace/pamessina/medvqa-workspace/cache/mimiccxr_gpt4_label_based_facts_assigned_to_reports(hash=545,2400242847100299105).pkl')"
   ]
  },
  {
   "cell_type": "code",
   "execution_count": 32,
   "id": "f3c5f9a4",
   "metadata": {},
   "outputs": [
    {
     "data": {
      "text/plain": [
       "{'enteric tube seen': 1}"
      ]
     },
     "execution_count": 32,
     "metadata": {},
     "output_type": "execute_result"
    }
   ],
   "source": [
    "tmp[2]"
   ]
  },
  {
   "cell_type": "code",
   "execution_count": 8,
   "id": "6c2d5eaf",
   "metadata": {},
   "outputs": [],
   "source": [
    "tmp2 = load_jsonl(\"/home/pamessina/medvqa-workspace/cache/mimiccxr/integrated_report_facts(79040140).jsonl\")"
   ]
  },
  {
   "cell_type": "code",
   "execution_count": 33,
   "id": "37b43237",
   "metadata": {},
   "outputs": [
    {
     "data": {
      "text/plain": [
       "{'report_idx': 0,\n",
       " 'background': 'indication: New dyspnea on exertion.',\n",
       " 'findings': 'Heart size is normal. There are mild aortic knob calcifications. Cardiomediastinal silhouette and hilar contours are otherwise unremarkable. Lungs are clear. Pleural surfaces are clear without effusion or pneumothorax.',\n",
       " 'impression': 'No acute cardiopulmonary abnormality.',\n",
       " 'path': '/mnt/data/mimic-cxr/files/p10/p10703179/s58829627.txt',\n",
       " 'facts': ['normal heart size',\n",
       "  'mild aortic knob calcifications',\n",
       "  'unremarkable cardiomediastinal silhouette',\n",
       "  'unremarkable hilar contours',\n",
       "  'clear lungs',\n",
       "  'clear pleural surfaces',\n",
       "  'pleural surfaces without effusion',\n",
       "  'pleural surfaces without pneumothorax',\n",
       "  'no acute cardiopulmonary abnormality'],\n",
       " 'fact_based_report': 'normal heart size. mild aortic knob calcifications. unremarkable cardiomediastinal silhouette. unremarkable hilar contours. clear lungs. clear pleural surfaces. pleural surfaces without effusion. pleural surfaces without pneumothorax. no acute cardiopulmonary abnormality'}"
      ]
     },
     "execution_count": 33,
     "metadata": {},
     "output_type": "execute_result"
    }
   ],
   "source": [
    "tmp2[0]"
   ]
  },
  {
   "cell_type": "code",
   "execution_count": 16,
   "id": "cd67fc94",
   "metadata": {},
   "outputs": [],
   "source": [
    "idxs = list(range(len(tmp)))"
   ]
  },
  {
   "cell_type": "code",
   "execution_count": 23,
   "id": "887f63cc",
   "metadata": {},
   "outputs": [
    {
     "name": "stdout",
     "output_type": "stream",
     "text": [
      "low lung volumes. stable cardiac contours. stable mediastinal contours. stable hilar contours. stable cardiomegaly. tortuosity of the thoracic aorta. mild relative elevation of the right hemidiaphragm. calcified nodule in the right lower lobe. clear lungs. no pleural effusions. no pneumothorax. surgical clips projecting over each axillary region. no definite change. no evidence of acute cardiopulmonary disease\n",
      "\n",
      "Entailment:\n",
      "['calcified nodule seen', 'tortuous aorta seen']\n",
      "\n",
      "Contradiction:\n",
      "['mass/nodule (not otherwise specified) seen']\n",
      "\n",
      "Neutral:\n",
      "['artifact seen']\n",
      "\n"
     ]
    }
   ],
   "source": [
    "random.shuffle(idxs)\n",
    "for i in idxs:\n",
    "    if len(tmp[i]) > 2:\n",
    "        print(tmp2[i]['fact_based_report'])\n",
    "        print()\n",
    "        e = []\n",
    "        c = []\n",
    "        n = []\n",
    "        for k,v in tmp[i].items():\n",
    "            if v == 0:\n",
    "                e.append(k)\n",
    "            elif v == 1:\n",
    "                n.append(k)\n",
    "            elif v == 2:\n",
    "                c.append(k)\n",
    "            else: assert False\n",
    "        if e:\n",
    "            print('Entailment:')\n",
    "            print(e)\n",
    "            print()\n",
    "        if c:\n",
    "            print('Contradiction:')\n",
    "            print(c)\n",
    "            print()\n",
    "        if n:\n",
    "            print('Neutral:')\n",
    "            print(n)\n",
    "            print()\n",
    "        break"
   ]
  },
  {
   "cell_type": "code",
   "execution_count": 29,
   "id": "8939bf51",
   "metadata": {},
   "outputs": [
    {
     "name": "stdout",
     "output_type": "stream",
     "text": [
      "AP view of the chest. lateral view of the chest. stable cardiomediastinal contours. stable hilar contours. no pleural effusion. no pneumothorax. well expanded lungs. lungs without focal consolidations. nodular opacity at the right lung base not clearly seen. prominent interstitial markings. interstitial markings indicative of chronic lung disease. no displaced rib fractures\n",
      "\n",
      "Entailment:\n",
      "['mass/nodule (not otherwise specified) seen']\n",
      "\n"
     ]
    }
   ],
   "source": [
    "f = 'mass/nodule (not otherwise specified) seen'\n",
    "random.shuffle(idxs)\n",
    "for i in idxs:\n",
    "    if f in tmp[i] and tmp[i][f] == 0:\n",
    "        print(tmp2[i]['fact_based_report'])\n",
    "        print()\n",
    "        e = []\n",
    "        c = []\n",
    "        n = []\n",
    "        for k,v in tmp[i].items():\n",
    "            if v == 0:\n",
    "                e.append(k)\n",
    "            elif v == 1:\n",
    "                n.append(k)\n",
    "            elif v == 2:\n",
    "                c.append(k)\n",
    "            else: assert False\n",
    "        if e:\n",
    "            print('Entailment:')\n",
    "            print(e)\n",
    "            print()\n",
    "        if c:\n",
    "            print('Contradiction:')\n",
    "            print(c)\n",
    "            print()\n",
    "        if n:\n",
    "            print('Neutral:')\n",
    "            print(n)\n",
    "            print()\n",
    "        break"
   ]
  },
  {
   "cell_type": "code",
   "execution_count": 37,
   "id": "0640aee0",
   "metadata": {},
   "outputs": [
    {
     "name": "stdout",
     "output_type": "stream",
     "text": [
      "Reading /home/pamessina/medvqa-workspace/cache/mimiccxr/integrated_report_facts(79040140).jsonl...\n",
      "n_reports: 227835\n",
      "len(unique_sentences): 586430\n",
      "Reading /mnt/workspace/pamessina/medvqa-workspace/cache/mimiccxr_gpt4_label_based_facts_assigned_to_reports(hash=545,2400242847100299105).pkl...\n",
      "len(r2gpt4labels): 227835\n",
      "ridx_lidx_pairs.shape: (20895521, 2)\n",
      "Number of skipped pairs: 293134\n",
      "checkpoint_names = ['checkpoint_91_cacc+chf1+chf1+cscc+encc+hscc+nlcc+sass+spss+ta0)+ta1)+ta2)+ta0)+ta1)+ta2)+ta3)+ta4)+ta5)+ta6)+ta7)=0.9337.pt']\n",
      "  0%|                                                | 0/586430 [00:00<?, ?it/s]Loading cached text embeddings from /mnt/workspace/pamessina/medvqa-workspace/cache/text_embeddings_cache(hash=440,3465006188639683439).pkl\n",
      "len(self.cache[\"hashes\"]) = 4758959\n",
      "self.cache[\"embeddings\"].shape = (4758959, 128)\n",
      "100%|███████████████████████████████| 586430/586430 [00:04<00:00, 122170.67it/s]\n",
      "embeddings.shape: (586430, 128)\n",
      "metadata loaded from /mnt/data/pamessina/workspaces/medvqa-workspace/models/fact_embedding/20240407_173847_NLI(Embedding-based)_EmbeddingBasedNLI(128,512-256-128)/metadata.json\n",
      "Creating model\n",
      "EmbeddingBasedNLI\n",
      "  embedding_dim: 128\n",
      "  mlp_hidden_dims: [512, 256, 128]\n",
      "  dropout: 0.0\n",
      "Loading model weights from /mnt/data/pamessina/workspaces/medvqa-workspace/models/fact_embedding/20240407_173847_NLI(Embedding-based)_EmbeddingBasedNLI(128,512-256-128)\n",
      "checkpoint_names = ['checkpoint_97_nli_acc=0.7780.pt']\n",
      "Loading model weights from /mnt/data/pamessina/workspaces/medvqa-workspace/models/fact_embedding/20240407_173847_NLI(Embedding-based)_EmbeddingBasedNLI(128,512-256-128)/checkpoint_97_nli_acc=0.7780.pt\n",
      "Estimated output memory size: 398.55 MB\n",
      "Computing softmaxes...\n",
      "100%|█████████████████████████████████████| 20896/20896 [19:08<00:00, 18.19it/s]\n",
      "Saving /mnt/workspace/pamessina/medvqa-workspace/cache/mimiccxr_label_based_facts_mlp_nli_softmaxes(hash=2869,32779144096514605).pkl...\n"
     ]
    }
   ],
   "source": [
    "!python ../../scripts/mimiccxr/find_pos_neg_neutral_facts_per_report_v2.py \\\n",
    "--task \"compute_mlp_nli_softmaxes\" \\\n",
    "--integrated_report_facts_jsonl_filepath \\\n",
    "\"/home/pamessina/medvqa-workspace/cache/mimiccxr/integrated_report_facts(79040140).jsonl\" \\\n",
    "--report_to_gpt4_label_based_qa_filepath \\\n",
    "\"/mnt/workspace/pamessina/medvqa-workspace/cache/mimiccxr_gpt4_label_based_facts_assigned_to_reports(hash=545,2400242847100299105).pkl\" \\\n",
    "--fact_embedding_model_name \"microsoft/BiomedVLP-CXR-BERT-specialized\" \\\n",
    "--fact_embedding_model_checkpoint_folder_path \\\n",
    "\"/mnt/data/pamessina/workspaces/medvqa-workspace/models/fact_embedding/20240207_184445_MIMIC-CXR(triplets+classif+entcont+nli+radgraph+autoencoder)_FactEncoder(microsoft-BiomedVLP-CXR-BERT-specialized)\" \\\n",
    "--fact_embedding_batch_size 200 \\\n",
    "--fact_embedding_num_workers 4 \\\n",
    "--mlp_batch_size 1000 \\\n",
    "--mlp_num_workers 4 \\\n",
    "--mlp_nli_checkpoint_folder_path \\\n",
    "\"/mnt/data/pamessina/workspaces/medvqa-workspace/models/fact_embedding/20240407_173847_NLI(Embedding-based)_EmbeddingBasedNLI(128,512-256-128)\""
   ]
  },
  {
   "cell_type": "code",
   "execution_count": 73,
   "id": "e96315a8",
   "metadata": {},
   "outputs": [],
   "source": [
    "tmp = load_pickle('/mnt/workspace/pamessina/medvqa-workspace/cache/mimiccxr_label_based_facts_mlp_nli_softmaxes(hash=2869,32779144096514605).pkl')"
   ]
  },
  {
   "cell_type": "code",
   "execution_count": 74,
   "id": "fb7467a9",
   "metadata": {},
   "outputs": [
    {
     "data": {
      "text/plain": [
       "dict_keys(['ridx_lidx_pairs', 'softmaxes'])"
      ]
     },
     "execution_count": 74,
     "metadata": {},
     "output_type": "execute_result"
    }
   ],
   "source": [
    "tmp.keys()"
   ]
  },
  {
   "cell_type": "code",
   "execution_count": 75,
   "id": "746b50f5",
   "metadata": {
    "scrolled": true
   },
   "outputs": [
    {
     "data": {
      "text/plain": [
       "array([0.05914372, 0.00259176, 0.9382645 ], dtype=float32)"
      ]
     },
     "execution_count": 75,
     "metadata": {},
     "output_type": "execute_result"
    }
   ],
   "source": [
    "tmp['softmaxes'][0]"
   ]
  },
  {
   "cell_type": "code",
   "execution_count": 53,
   "id": "e8c433a2",
   "metadata": {},
   "outputs": [],
   "source": [
    "report_facts = load_jsonl(\"/home/pamessina/medvqa-workspace/cache/mimiccxr/integrated_report_facts(79040140).jsonl\")"
   ]
  },
  {
   "cell_type": "code",
   "execution_count": 55,
   "id": "0a37ebec",
   "metadata": {},
   "outputs": [],
   "source": [
    "from medvqa.utils.constants import LABEL_BASED_FACTS"
   ]
  },
  {
   "cell_type": "code",
   "execution_count": 76,
   "id": "94831833",
   "metadata": {
    "scrolled": false
   },
   "outputs": [
    {
     "name": "stdout",
     "output_type": "stream",
     "text": [
      "normal heart size. mild aortic knob calcifications. unremarkable cardiomediastinal silhouette. unremarkable hilar contours. clear lungs. clear pleural surfaces. pleural surfaces without effusion. pleural surfaces without pneumothorax. no acute cardiopulmonary abnormality\n",
      "\n",
      "Entailment:\n",
      "\tcalcification of the aorta seen\n",
      "\tdiaphragmatic eventration (benign) seen\n",
      "\tno abnormalities seen\n",
      "Contradiction:\n",
      "\tairspace opacity seen\n",
      "\talveolar hemorrhage seen\n",
      "\talveolar texture seen\n",
      "\tatelectasis seen\n",
      "\tbronchiectasis seen\n",
      "\tcabg grafts seen\n",
      "\tcardiac pacer and wires seen\n",
      "\tcardiomegaly seen\n",
      "\tconsolidation seen\n",
      "\tcopd/emphysema seen\n",
      "\tcostophrenic angle blunting seen\n",
      "\tcyst/bullae seen\n",
      "\tedema seen\n",
      "\televated hemidiaphragm seen\n",
      "\tenlarged cardiac silhouette seen\n",
      "\tenlarged cardiomediastinum seen\n",
      "\tenlarged hilum seen\n",
      "\tfibrosis seen\n",
      "\tfluid overload/heart failure seen\n",
      "\tfracture seen\n",
      "\tgranulomatous disease seen\n",
      "\thydropneumothorax seen\n",
      "\thyperaeration seen\n",
      "\tincreased reticular markings/ild pattern seen\n",
      "\tinfiltration seen\n",
      "\tinterstitial lung disease seen\n",
      "\tinterstitial texture seen\n",
      "\tlinear/patchy atelectasis seen\n",
      "\tlobar/segmental collapse seen\n",
      "\tlow lung volumes seen\n",
      "\tlung cancer seen\n",
      "\tlung lesion seen\n",
      "\tlung opacity seen\n",
      "\tmass seen\n",
      "\tmass/nodule (not otherwise specified) seen\n",
      "\tmediastinal displacement seen\n",
      "\tmediastinal drain seen\n",
      "\tmediastinal widening seen\n",
      "\tmultiple masses/nodules seen\n",
      "\tnodule seen\n",
      "\topacity texture seen\n",
      "\tpericardial effusion seen\n",
      "\tpleural abnormalities seen\n",
      "\tpleural effusion seen\n",
      "\tpleural thickening seen\n",
      "\tpleural/parenchymal scarring seen\n",
      "\tpneumomediastinum seen\n",
      "\tpneumonia seen\n",
      "\tpneumothorax seen\n",
      "\tpulmonary edema/hazy opacity seen\n",
      "\tskin fold seen\n",
      "\tsub-diaphragmatic air seen\n",
      "\tsuperior mediastinal mass/enlargement seen\n",
      "\tvascular congestion seen\n",
      "\tvascular redistribution seen\n",
      "Neutral:\n",
      "\taortic graft/repair seen\n",
      "\tartifact seen\n",
      "\taspiration seen\n",
      "\tbone lesion seen\n",
      "\tbreast/nipple shadows seen\n",
      "\tcalcified nodule seen\n",
      "\tcalcified texture seen\n",
      "\tchest port seen\n",
      "\tchest tube seen\n",
      "\tclavicle fracture seen\n",
      "\temphysema seen\n",
      "\tendotracheal tube seen\n",
      "\tenteric tube seen\n",
      "\tgoiter seen\n",
      "\thernia seen\n",
      "\tij line seen\n",
      "\tintra-aortic balloon pump seen\n",
      "\tpicc seen\n",
      "\tpigtail catheter seen\n",
      "\tpneumoperitoneum seen\n",
      "\tprosthetic valve seen\n",
      "\trib fracture seen\n",
      "\trotated seen\n",
      "\tscoliosis seen\n",
      "\tshoulder osteoarthritis seen\n",
      "\tspinal degenerative changes seen\n",
      "\tspinal fracture seen\n",
      "\tsubclavian line seen\n",
      "\tsubcutaneous air seen\n",
      "\tsubcutaneous emphysema seen\n",
      "\tsupport devices seen\n",
      "\tswan-ganz catheter seen\n",
      "\ttortuous aorta seen\n",
      "\ttracheostomy tube seen\n",
      "\tvascular calcification seen\n"
     ]
    }
   ],
   "source": [
    "q = 0\n",
    "found = False\n",
    "idxs = []\n",
    "for i, (ridx, lidx) in enumerate(tmp['ridx_lidx_pairs']):\n",
    "    if ridx == q:\n",
    "        found = True\n",
    "        idxs.append(i)\n",
    "    elif found:\n",
    "        break\n",
    "        \n",
    "e = []\n",
    "n = []\n",
    "c = []\n",
    "for i,  p in enumerate(tmp['softmaxes'][idxs].argmax(-1)):\n",
    "    lidx = tmp['ridx_lidx_pairs'][idxs[i]][1]\n",
    "    l = LABEL_BASED_FACTS[lidx]\n",
    "    if p == 0:\n",
    "        e.append(l)\n",
    "    elif p == 1:\n",
    "        n.append(l)\n",
    "    elif p == 2:\n",
    "        c.append(l)\n",
    "    else: assert False\n",
    "\n",
    "print(report_facts[q]['fact_based_report'])\n",
    "print()\n",
    "if e:\n",
    "    print('Entailment:')\n",
    "    for x in e:\n",
    "        print(f'\\t{x}')\n",
    "if c:\n",
    "    print('Contradiction:')\n",
    "    for x in c:\n",
    "        print(f'\\t{x}')\n",
    "if n:\n",
    "    print('Neutral:')\n",
    "    for x in n:\n",
    "        print(f'\\t{x}')"
   ]
  },
  {
   "cell_type": "code",
   "execution_count": 65,
   "id": "749eb975",
   "metadata": {
    "scrolled": false
   },
   "outputs": [
    {
     "name": "stdout",
     "output_type": "stream",
     "text": [
      "Reading /home/pamessina/medvqa-workspace/cache/mimiccxr/integrated_report_facts(79040140).jsonl...\n",
      "n_reports: 227835\n",
      "Reading /mnt/workspace/pamessina/medvqa-workspace/cache/mimiccxr_gpt4_label_based_facts_assigned_to_reports(hash=545,2400242847100299105).pkl...\n",
      "len(r2gpt4labels): 227835\n",
      "100%|████████████████████████████████| 227835/227835 [00:20<00:00, 10945.61it/s]\n",
      "Processing part 1/2 with 10447760 pairs...\n",
      "len(input_texts): 10447760\n",
      "Estimated input_texts memory size: 3797.41 MB\n",
      "Number of skipped pairs: 950746159\n",
      "Example sentences to process:\n",
      "4750551: NLI1: little change compared to previous study. no evidence of acute cardiopulmonary disease. no pneumonia. no vascular congestion. no pleural effusion #H: sub-diaphragmatic air seen\n",
      "658611: NLI1: frontal view. lateral view. Chest: Frontal. Chest: Lateral. clear lungs. lungs without focal consolidation. no pleural effusion. no pneumothorax. stable cardiac silhouette. stable mediastinal silhouette. no acute cardiopulmonary process #H: emphysema seen\n",
      "7682150: NLI1: frontal view of the chest was obtained. lateral view of the chest was obtained. hyperinflated lungs. flattening of the diaphragms. increased AP diameter. chronic obstructive pulmonary disease. minimal left base atelectasis. minimal left base scarring. no focal consolidation. no pleural effusion. no pneumothorax. unremarkable cardiac silhouette. unremarkable mediastinal silhouette. no overt pulmonary edema. no acute cardiopulmonary process. COPD #H: low lung volumes seen\n",
      "8202614: NLI1: mild pulmonary edema. opacity at the right lung base. opacity representing pneumonia. widespread interstitial abnormalities. widespread airway abnormalities. possibility of chronic lung disease. difficult to assess in the absence of older radiographs. pulmonary vascular congestion. mild interstitial edema. focal opacities in the right upper lobe adjacent to the minor fissure. focal opacities in the right middle lobe. focal opacities partially obscuring the right heart border. moderately enlarged cardiac silhouette. tortuosity of the thoracic aorta. congestive heart failure. likely chronic interstitial lung airways disease. superimposed pneumonia in the right upper lobe. superimposed pneumonia in the right middle lobe. direct comparison to outside chest radiographs would be helpful. assessment of chronicity. short-term followup radiographs in weeks after treatment for acute lung disease. assessment for improvement. determination of chronicity of lung findings. consideration for high-resolution chest CT #H: shoulder osteoarthritis seen\n",
      "1031851: NLI1: hyperexpanded lungs. clear lungs. unremarkable cardiomediastinal contours. unremarkable hilar contours. no pneumothorax. no pleural effusion. no consolidation. healed right first rib fracture. no acute cardiopulmonary process #H: clavicle fracture seen\n",
      "1479638: NLI1: findings consistent with perihilar fibrosis in a patient with history of sarcoidosis. findings consistent with perihilar consolidation in a patient with history of sarcoidosis. unchanged tenting of the diaphragms. no new consolidations identified. no pleural effusion. no pneumothorax. normal heart size. no significant change compared to previous findings. findings consistent with massive perihilar fibrosis/consolidation. findings in a patient with known history of sarcoidosis. no new consolidation #H: pneumonia seen\n",
      "2524275: NLI1: no substantial change in appearance of the approximately 1 cm right apical pneumothorax. no evidence of tension #H: hernia seen\n",
      "12162: NLI1: small left apical medial pneumothorax is unchanged. small bilateral pleural effusions. unchanged bilateral pleural effusions. larger bilateral pleural effusions on the left side. no other acute interval changes #H: enlarged cardiomediastinum seen\n",
      "7301964: NLI1: improved heterogeneous opacification in the right lower lobe. residual patchy opacities in the right lower lobe. small to moderate apparently partially loculated right pleural effusion. stable cardiomegaly. persistent pulmonary vascular congestion. resolving interstitial edema #H: interstitial lung disease seen\n",
      "4881328: NLI1: single frontal view of the chest. right upper lobe mass. total collapse of the right upper lobe. mediastinal lymph nodes. prior CT. mild cardiomegaly. small right pleural effusion. worsened bibasilar atelectasis on the right side. left upper lobe is grossly clear. no evident pneumothorax #H: pneumomediastinum seen\n",
      "metadata loaded from /mnt/data/pamessina/workspaces/medvqa-workspace/models/seq2seq/20240407_162203_multitask(nli+mlm)_Seq2Seq(facebook-bart-base)/metadata.json\n",
      "Creating Seq2SeqModel\n",
      "Seq2Seq model:\n",
      "  model_name: facebook/bart-base\n",
      "Loading model weights from /mnt/data/pamessina/workspaces/medvqa-workspace/models/seq2seq/20240407_162203_multitask(nli+mlm)_Seq2Seq(facebook-bart-base)\n",
      "checkpoint_names = ['checkpoint_45_exact_match+s2s_loss=0.8742.pt']\n",
      "Loading model weights from /mnt/data/pamessina/workspaces/medvqa-workspace/models/seq2seq/20240407_162203_multitask(nli+mlm)_Seq2Seq(facebook-bart-base)/checkpoint_45_exact_match+s2s_loss=0.8742.pt\n",
      "Creating tokenizer\n",
      "Creating dataloader\n",
      "Running inference\n",
      "  0%|                                                | 0/104478 [00:00<?, ?it/s]Processed 1 sentences\n",
      "Example output:\n",
      "2\n",
      "  0%|                                     | 47/104478 [00:10<5:51:32,  4.95it/s]Processed 5001 sentences\n",
      "Example output:\n",
      "1\n",
      "  0%|                                    | 100/104478 [00:21<6:03:35,  4.78it/s]Processed 10001 sentences\n",
      "Example output:\n",
      "2\n",
      "  0%|                                    | 143/104478 [00:30<5:46:34,  5.02it/s]Processed 15001 sentences\n",
      "Example output:\n",
      "1\n",
      "100%|█████████████████████████████████| 104478/104478 [6:16:02<00:00,  4.63it/s]\n",
      "Successfully processed 10447760 sentences\n",
      "Example output:\n",
      "0\n",
      "DONE\n",
      "Saving /mnt/workspace/pamessina/medvqa-workspace/cache/mimiccxr_label_based_facts_bart_nli_predictions(1_2)(hash=2588,3246769515408733330).pkl...\n"
     ]
    }
   ],
   "source": [
    "!python ../../scripts/mimiccxr/find_pos_neg_neutral_facts_per_report_v2.py \\\n",
    "--task \"compute_bart_nli_predictions\" \\\n",
    "--integrated_report_facts_jsonl_filepath \\\n",
    "\"/home/pamessina/medvqa-workspace/cache/mimiccxr/integrated_report_facts(79040140).jsonl\" \\\n",
    "--report_to_gpt4_label_based_qa_filepath \\\n",
    "\"/mnt/workspace/pamessina/medvqa-workspace/cache/mimiccxr_gpt4_label_based_facts_assigned_to_reports(hash=545,2400242847100299105).pkl\" \\\n",
    "--bart_checkpoint_folder_path \\\n",
    "\"/mnt/data/pamessina/workspaces/medvqa-workspace/models/seq2seq/20240407_162203_multitask(nli+mlm)_Seq2Seq(facebook-bart-base)\" \\\n",
    "--bart_batch_size 100 \\\n",
    "--bart_num_workers 4 \\\n",
    "--part_x_of_y 0 2"
   ]
  },
  {
   "cell_type": "code",
   "execution_count": 70,
   "id": "87a46b78",
   "metadata": {},
   "outputs": [],
   "source": [
    "tmp2 = load_pickle('/mnt/workspace/pamessina/medvqa-workspace/cache/mimiccxr_label_based_facts_bart_nli_predictions(1_2)(hash=2588,3246769515408733330).pkl')"
   ]
  },
  {
   "cell_type": "code",
   "execution_count": 71,
   "id": "1952899c",
   "metadata": {},
   "outputs": [
    {
     "data": {
      "text/plain": [
       "dict_keys(['ridx_lidx_pairs', 'predictions'])"
      ]
     },
     "execution_count": 71,
     "metadata": {},
     "output_type": "execute_result"
    }
   ],
   "source": [
    "tmp2.keys()"
   ]
  },
  {
   "cell_type": "code",
   "execution_count": 80,
   "id": "284d4621",
   "metadata": {
    "scrolled": false
   },
   "outputs": [
    {
     "name": "stdout",
     "output_type": "stream",
     "text": [
      "bibasilar opacities. multifocal pneumonia. no edema. no pleural effusion. no pneumothorax. normal cardiomediastinal silhouette\n",
      "\n",
      "Entailment:\n",
      "\tairspace opacity seen\n",
      "\talveolar texture seen\n",
      "\tconsolidation seen\n",
      "\tinfiltration seen\n",
      "\tlung lesion seen\n",
      "\tlung opacity seen\n",
      "\tpneumonia seen\n",
      "Contradiction:\n",
      "\talveolar hemorrhage seen\n",
      "\tbronchiectasis seen\n",
      "\tcardiomegaly seen\n",
      "\tcopd/emphysema seen\n",
      "\tcostophrenic angle blunting seen\n",
      "\tcyst/bullae seen\n",
      "\tdiaphragmatic eventration (benign) seen\n",
      "\tedema seen\n",
      "\temphysema seen\n",
      "\tenlarged cardiac silhouette seen\n",
      "\tenlarged cardiomediastinum seen\n",
      "\tfibrosis seen\n",
      "\tfluid overload/heart failure seen\n",
      "\tgranulomatous disease seen\n",
      "\thernia seen\n",
      "\thydropneumothorax seen\n",
      "\thyperaeration seen\n",
      "\tinterstitial lung disease seen\n",
      "\tlobar/segmental collapse seen\n",
      "\tlung cancer seen\n",
      "\tmass seen\n",
      "\tmass/nodule (not otherwise specified) seen\n",
      "\tmediastinal displacement seen\n",
      "\tmediastinal widening seen\n",
      "\tmultiple masses/nodules seen\n",
      "\tno abnormalities seen\n",
      "\tpericardial effusion seen\n",
      "\tpleural abnormalities seen\n",
      "\tpleural effusion seen\n",
      "\tpleural thickening seen\n",
      "\tpneumomediastinum seen\n",
      "Neutral:\n",
      "\taortic graft/repair seen\n",
      "\tartifact seen\n",
      "\taspiration seen\n",
      "\tatelectasis seen\n",
      "\tbone lesion seen\n",
      "\tbreast/nipple shadows seen\n",
      "\tcabg grafts seen\n",
      "\tcalcification of the aorta seen\n",
      "\tcalcified nodule seen\n",
      "\tcalcified texture seen\n",
      "\tcardiac pacer and wires seen\n",
      "\tchest port seen\n",
      "\tchest tube seen\n",
      "\tclavicle fracture seen\n",
      "\televated hemidiaphragm seen\n",
      "\tendotracheal tube seen\n",
      "\tenlarged hilum seen\n",
      "\tenteric tube seen\n",
      "\tfracture seen\n",
      "\tgoiter seen\n",
      "\tij line seen\n",
      "\tincreased reticular markings/ild pattern seen\n",
      "\tinterstitial texture seen\n",
      "\tintra-aortic balloon pump seen\n",
      "\tlinear/patchy atelectasis seen\n",
      "\tlow lung volumes seen\n",
      "\tmediastinal drain seen\n",
      "\tnodule seen\n",
      "\topacity texture seen\n",
      "\tpicc seen\n",
      "\tpigtail catheter seen\n"
     ]
    }
   ],
   "source": [
    "q = 113942\n",
    "found = False\n",
    "idxs = []\n",
    "for i, (ridx, lidx) in enumerate(tmp2['ridx_lidx_pairs']):\n",
    "    if ridx == q:\n",
    "        found = True\n",
    "        idxs.append(i)\n",
    "    elif found:\n",
    "        break\n",
    "e = []\n",
    "n = []\n",
    "c = []\n",
    "for idx in idxs:\n",
    "    p = tmp2['predictions'][idx]\n",
    "    lidx = tmp2['ridx_lidx_pairs'][idx, 1]\n",
    "    l = LABEL_BASED_FACTS[lidx]\n",
    "    if p == 0:\n",
    "        e.append(l)\n",
    "    elif p == 1:\n",
    "        n.append(l)\n",
    "    elif p == 2:\n",
    "        c.append(l)\n",
    "    else: assert False\n",
    "\n",
    "print(report_facts[q]['fact_based_report'])\n",
    "print()\n",
    "if e:\n",
    "    print('Entailment:')\n",
    "    for x in e:\n",
    "        print(f'\\t{x}')\n",
    "if c:\n",
    "    print('Contradiction:')\n",
    "    for x in c:\n",
    "        print(f'\\t{x}')\n",
    "if n:\n",
    "    print('Neutral:')\n",
    "    for x in n:\n",
    "        print(f'\\t{x}')"
   ]
  },
  {
   "cell_type": "code",
   "execution_count": 82,
   "id": "ddcead9a",
   "metadata": {},
   "outputs": [
    {
     "name": "stdout",
     "output_type": "stream",
     "text": [
      "\u001b[1m\u001b[34mRunning assign_gpt4_label_based_facts_to_reports()...\u001b[0m\n",
      "Loading /home/pamessina/medvqa-workspace/cache/mimiccxr/openai/gpt-4-1106-preview_fact_based_report_nli_queries(from_labels).jsonl...\n",
      "Loading /home/pamessina/medvqa-workspace/cache/mimiccxr/openai/gpt-4-1106-preview_fact_based_report_nli_queries(from_labels,v2).jsonl...\n",
      "Loading /home/pamessina/medvqa-workspace/cache/mimiccxr/openai/gpt-4-1106-preview_fact_based_report_nli_queries(from_labels,v3).jsonl...\n",
      "Loading /home/pamessina/medvqa-workspace/cache/mimiccxr/openai/gpt-4-1106-preview_fact_based_report_nli_queries(from_facts).jsonl...\n",
      "Loading /home/pamessina/medvqa-workspace/cache/mimiccxr/openai/gpt-4-1106-preview_fact_based_report_nli_queries(from_facts,v2).jsonl...\n",
      "len(report2labels): 56529\n",
      "Number of skipped pairs: 88387\n",
      "Number of not skipped pairs: 69889\n",
      "Loading /home/pamessina/medvqa-workspace/cache/mimiccxr/integrated_report_facts_metadata(227835,78646269).jsonl...\n",
      "Number of reports with labels: 64925/227835\n",
      "Loading /home/pamessina/medvqa-workspace/cache/mimiccxr/integrated_report_facts(79040140).jsonl...\n",
      "Number of reports with labels: 44547/227835\n",
      "Saving /mnt/workspace/pamessina/medvqa-workspace/cache/mimiccxr_gpt4_label_based_facts_assigned_to_reports(hash=950,1850545234276111994).pkl...\n",
      "\u001b[1m\u001b[34mDone!\u001b[0m\n"
     ]
    }
   ],
   "source": [
    "!python ../../scripts/mimiccxr/find_pos_neg_neutral_facts_per_report_v2.py \\\n",
    "--task \"assign_gpt4_label_based_facts_to_reports\" \\\n",
    "--integrated_report_facts_jsonl_filepaths \\\n",
    "\"/home/pamessina/medvqa-workspace/cache/mimiccxr/integrated_report_facts_metadata(227835,78646269).jsonl\" \\\n",
    "\"/home/pamessina/medvqa-workspace/cache/mimiccxr/integrated_report_facts(79040140).jsonl\" \\\n",
    "--report_nli_label_driven_input_output_jsonl_filepaths \\\n",
    "\"/home/pamessina/medvqa-workspace/cache/mimiccxr/openai/gpt-4-1106-preview_fact_based_report_nli_queries(from_labels).jsonl\" \\\n",
    "\"/home/pamessina/medvqa-workspace/cache/mimiccxr/openai/gpt-4-1106-preview_fact_based_report_nli_queries(from_labels,v2).jsonl\" \\\n",
    "\"/home/pamessina/medvqa-workspace/cache/mimiccxr/openai/gpt-4-1106-preview_fact_based_report_nli_queries(from_labels,v3).jsonl\" \\\n",
    "\"/home/pamessina/medvqa-workspace/cache/mimiccxr/openai/gpt-4-1106-preview_fact_based_report_nli_queries(from_facts).jsonl\" \\\n",
    "\"/home/pamessina/medvqa-workspace/cache/mimiccxr/openai/gpt-4-1106-preview_fact_based_report_nli_queries(from_facts,v2).jsonl\""
   ]
  },
  {
   "cell_type": "code",
   "execution_count": 127,
   "id": "76feff49",
   "metadata": {},
   "outputs": [
    {
     "name": "stdout",
     "output_type": "stream",
     "text": [
      "Reading /mnt/workspace/pamessina/medvqa-workspace/cache/mimiccxr_gpt4_label_based_facts_assigned_to_reports(hash=950,1850545234276111994).pkl...\n",
      "Reading /mnt/workspace/pamessina/medvqa-workspace/cache/mimiccxr_label_based_facts_mlp_nli_softmaxes(hash=2869,32779144096514605).pkl...\n",
      "Reading /mnt/workspace/pamessina/medvqa-workspace/cache/mimiccxr_label_based_facts_bart_nli_predictions(1_2)(hash=2588,3246769515408733330).pkl...\n",
      "Reading /mnt/workspace/pamessina/medvqa-workspace/cache/mimiccxr_label_based_facts_bart_nli_predictions(2_2)(hash=2588,1571788838867977526).pkl...\n",
      "Reading /home/pamessina/medvqa-workspace/cache/report_nli_hybrid_metadata(hash=1011,1136468267405569803).pkl...\n",
      "100%|███████████████████████████| 20895521/20895521 [01:44<00:00, 199750.19it/s]\n",
      "Saving /mnt/workspace/pamessina/medvqa-workspace/cache/mimiccxr_label_based_facts_integrated_nli_predictions(hash=739,3322246754106464866).pkl...\n"
     ]
    }
   ],
   "source": [
    "!python ../../scripts/mimiccxr/find_pos_neg_neutral_facts_per_report_v2.py \\\n",
    "--task \"compute_hybrid_nli_predictions\" \\\n",
    "--gpt4_label_based_facts_assigned_to_reports_filepath \\\n",
    "\"/mnt/workspace/pamessina/medvqa-workspace/cache/mimiccxr_gpt4_label_based_facts_assigned_to_reports(hash=950,1850545234276111994).pkl\" \\\n",
    "--label_based_facts_bart_nli_predictions_filepaths \\\n",
    "\"/mnt/workspace/pamessina/medvqa-workspace/cache/mimiccxr_label_based_facts_bart_nli_predictions(1_2)(hash=2588,3246769515408733330).pkl\" \\\n",
    "\"/mnt/workspace/pamessina/medvqa-workspace/cache/mimiccxr_label_based_facts_bart_nli_predictions(2_2)(hash=2588,1571788838867977526).pkl\" \\\n",
    "--label_based_facts_mlp_nli_softmaxes_filepath \\\n",
    "\"/mnt/workspace/pamessina/medvqa-workspace/cache/mimiccxr_label_based_facts_mlp_nli_softmaxes(hash=2869,32779144096514605).pkl\" \\\n",
    "--report_nli_hybrid_metadata_filepath \\\n",
    "\"/home/pamessina/medvqa-workspace/cache/report_nli_hybrid_metadata(hash=1011,1136468267405569803).pkl\" \\\n",
    "--n_reports 227835"
   ]
  },
  {
   "cell_type": "code",
   "execution_count": 128,
   "id": "b514d9c8",
   "metadata": {},
   "outputs": [],
   "source": [
    "tmp = load_pickle('/mnt/workspace/pamessina/medvqa-workspace/cache/mimiccxr_label_based_facts_integrated_nli_predictions(hash=739,3322246754106464866).pkl')"
   ]
  },
  {
   "cell_type": "code",
   "execution_count": 129,
   "id": "8a781764",
   "metadata": {},
   "outputs": [
    {
     "data": {
      "text/plain": [
       "dict_keys(['nli_predictions', 'nli_method_ids', 'nli_method_id_to_name', 'nli_prediction_to_name', 'hybrid_metadata'])"
      ]
     },
     "execution_count": 129,
     "metadata": {},
     "output_type": "execute_result"
    }
   ],
   "source": [
    "tmp.keys()"
   ]
  },
  {
   "cell_type": "code",
   "execution_count": 135,
   "id": "8657ef0e",
   "metadata": {},
   "outputs": [
    {
     "data": {
      "text/plain": [
       "array([2, 2, 2, 3, 1, 2, 2, 3, 1, 3, 2, 0, 3, 3, 3, 2, 3, 3, 1, 2, 2, 2,\n",
       "       2, 3, 2, 2, 2, 1, 3, 2, 2, 1, 2, 2, 2, 1, 2, 3, 2, 2, 3, 2, 2, 3,\n",
       "       2, 1, 3, 3, 2, 2, 2, 2, 2, 2, 2, 2, 2, 2, 3, 2, 2, 2, 1, 1, 0, 2,\n",
       "       2, 2, 2, 2, 1, 2, 3, 2, 2, 1, 1, 1, 3, 3, 1, 3, 1, 3, 3, 2, 1, 1,\n",
       "       3, 1, 0, 3, 3], dtype=int8)"
      ]
     },
     "execution_count": 135,
     "metadata": {},
     "output_type": "execute_result"
    }
   ],
   "source": [
    "tmp['nli_predictions'][0]"
   ]
  },
  {
   "cell_type": "code",
   "execution_count": 150,
   "id": "04446e1c",
   "metadata": {},
   "outputs": [
    {
     "data": {
      "text/plain": [
       "{'report_idx': 227822,\n",
       " 'background': 'indication: Fever, here to evaluate for pneumonia.',\n",
       " 'findings': 'Upright AP and lateral radiographs of the chest. A left Port-A-Cath is unchanged in position with the tip terminating in the proximal right atrium. The lungs are symmetrically well expanded and well aerated without focal consolidation, concerning for pneumonia, pleural effusion or pneumothorax. The pulmonary vasculature is not engorged. The cardiomediastinal and hilar contours are within normal limits. No acute osseous abnormality is detected.',\n",
       " 'impression': 'No focal consolidation concerning for pneumonia.',\n",
       " 'path': '/mnt/data/mimic-cxr/files/p19/p19535031/s59051226.txt',\n",
       " 'facts': ['left Port-A-Cath unchanged in position',\n",
       "  'tip of Port-A-Cath terminating in the proximal right atrium',\n",
       "  'symmetrically well expanded lungs',\n",
       "  'symmetrically well aerated lungs',\n",
       "  'lungs without focal consolidation',\n",
       "  'lungs concerning for pneumonia',\n",
       "  'lungs concerning for pleural effusion',\n",
       "  'lungs concerning for pneumothorax',\n",
       "  'pulmonary vasculature not engorged',\n",
       "  'normal cardiomediastinal contours',\n",
       "  'normal hilar contours',\n",
       "  'no acute osseous abnormality',\n",
       "  'no focal consolidation concerning for pneumonia'],\n",
       " 'fact_based_report': 'left Port-A-Cath unchanged in position. tip of Port-A-Cath terminating in the proximal right atrium. symmetrically well expanded lungs. symmetrically well aerated lungs. lungs without focal consolidation. lungs concerning for pneumonia. lungs concerning for pleural effusion. lungs concerning for pneumothorax. pulmonary vasculature not engorged. normal cardiomediastinal contours. normal hilar contours. no acute osseous abnormality. no focal consolidation concerning for pneumonia'}"
      ]
     },
     "execution_count": 150,
     "metadata": {},
     "output_type": "execute_result"
    }
   ],
   "source": [
    "report_facts[-13]"
   ]
  },
  {
   "cell_type": "code",
   "execution_count": 153,
   "id": "bb6a299c",
   "metadata": {
    "scrolled": false
   },
   "outputs": [
    {
     "name": "stdout",
     "output_type": "stream",
     "text": [
      "PA view of the chest provided. lateral view of the chest provided. Port-A-Cath resides over the right chest wall. catheter tip extending to the mid SVC region unchanged. extensive bilateral calcified pleural plaque. calcified pleural plaque greater on the right. calcified pleural plaque greater on the left. calcified granuloma in the left lower lung. no convincing evidence for pneumonia. limited evaluation of the right lung. mildly enlarged heart. kyphotic positioning limits assessment of the mediastinum. intact bony structures. demineralized bony structures. no definite sign of pneumonia\n",
      "\n",
      "Entailment:\n",
      "\tcalcified nodule seen\n",
      "\tcardiomegaly seen\n",
      "\tchest port seen\n",
      "\tenlarged cardiac silhouette seen\n",
      "\tgranulomatous disease seen\n",
      "\tnodule seen\n",
      "\tpleural abnormalities seen\n",
      "\tpleural/parenchymal scarring seen\n",
      "Contradiction:\n",
      "\tairspace opacity seen\n",
      "\talveolar hemorrhage seen\n",
      "\taspiration seen\n",
      "\tbone lesion seen\n",
      "\tcabg grafts seen\n",
      "\tclavicle fracture seen\n",
      "\tfracture seen\n",
      "\tmass seen\n",
      "\tmediastinal widening seen\n",
      "\tmultiple masses/nodules seen\n",
      "\tno abnormalities seen\n",
      "\tpicc seen\n",
      "\tpneumomediastinum seen\n",
      "\tpneumonia seen\n",
      "\tpneumothorax seen\n",
      "\tpulmonary edema/hazy opacity seen\n",
      "\trib fracture seen\n",
      "\tsuperior mediastinal mass/enlargement seen\n",
      "\tswan-ganz catheter seen\n",
      "Neutral:\n",
      "\talveolar texture seen\n",
      "\taortic graft/repair seen\n",
      "\tartifact seen\n",
      "\tbreast/nipple shadows seen\n",
      "\tcostophrenic angle blunting seen\n",
      "\tdiaphragmatic eventration (benign) seen\n",
      "\tedema seen\n",
      "\tenteric tube seen\n",
      "\tincreased reticular markings/ild pattern seen\n",
      "\tinterstitial texture seen\n",
      "\tlow lung volumes seen\n",
      "\tmediastinal drain seen\n",
      "\topacity texture seen\n",
      "\tpigtail catheter seen\n",
      "\tpneumoperitoneum seen\n",
      "\tsubclavian line seen\n",
      "\ttortuous aorta seen\n",
      "\ttracheostomy tube seen\n",
      "Undecided:\n",
      "\tatelectasis seen\n",
      "\tbronchiectasis seen\n",
      "\tcalcification of the aorta seen\n",
      "\tcalcified texture seen\n",
      "\tcardiac pacer and wires seen\n",
      "\tchest tube seen\n",
      "\tconsolidation seen\n",
      "\tcopd/emphysema seen\n",
      "\tcyst/bullae seen\n",
      "\televated hemidiaphragm seen\n",
      "\temphysema seen\n",
      "\tendotracheal tube seen\n",
      "\tenlarged cardiomediastinum seen\n",
      "\tenlarged hilum seen\n",
      "\tfibrosis seen\n",
      "\tfluid overload/heart failure seen\n",
      "\tgoiter seen\n",
      "\thernia seen\n",
      "\thydropneumothorax seen\n",
      "\thyperaeration seen\n",
      "\tij line seen\n",
      "\tinfiltration seen\n",
      "\tinterstitial lung disease seen\n",
      "\tintra-aortic balloon pump seen\n",
      "\tlinear/patchy atelectasis seen\n",
      "\tlobar/segmental collapse seen\n",
      "\tlung cancer seen\n",
      "\tlung lesion seen\n",
      "\tlung opacity seen\n",
      "\tmass/nodule (not otherwise specified) seen\n",
      "\tmediastinal displacement seen\n",
      "\tpericardial effusion seen\n",
      "\tpleural effusion seen\n",
      "\tpleural thickening seen\n",
      "\tprosthetic valve seen\n",
      "\trotated seen\n",
      "\tscoliosis seen\n",
      "\tshoulder osteoarthritis seen\n",
      "\tskin fold seen\n",
      "\tspinal degenerative changes seen\n",
      "\tspinal fracture seen\n",
      "\tsub-diaphragmatic air seen\n",
      "\tsubcutaneous air seen\n",
      "\tsubcutaneous emphysema seen\n",
      "\tsupport devices seen\n",
      "\tvascular calcification seen\n",
      "\tvascular congestion seen\n",
      "\tvascular redistribution seen\n"
     ]
    }
   ],
   "source": [
    "q = -300\n",
    "e = []\n",
    "n = []\n",
    "c = []\n",
    "u = []\n",
    "\n",
    "for i in range(len(LABEL_BASED_FACTS)):\n",
    "    p = tmp['nli_predictions'][q, i]\n",
    "    l = LABEL_BASED_FACTS[i]\n",
    "    if p == 0:\n",
    "        e.append(l)\n",
    "    elif p == 1:\n",
    "        n.append(l)\n",
    "    elif p == 2:\n",
    "        c.append(l)\n",
    "    elif p == 3:\n",
    "        u.append(l)\n",
    "    else: assert False\n",
    "\n",
    "print(report_facts[q]['fact_based_report'])\n",
    "print()\n",
    "if e:\n",
    "    print('Entailment:')\n",
    "    for x in e:\n",
    "        print(f'\\t{x}')\n",
    "if c:\n",
    "    print('Contradiction:')\n",
    "    for x in c:\n",
    "        print(f'\\t{x}')\n",
    "if n:\n",
    "    print('Neutral:')\n",
    "    for x in n:\n",
    "        print(f'\\t{x}')\n",
    "if u:\n",
    "    print('Undecided:')\n",
    "    for x in u:\n",
    "        print(f'\\t{x}')"
   ]
  },
  {
   "cell_type": "code",
   "execution_count": 166,
   "id": "34073ac4",
   "metadata": {},
   "outputs": [
    {
     "name": "stdout",
     "output_type": "stream",
     "text": [
      "Reading /home/pamessina/medvqa-workspace/cache/mimiccxr/integrated_report_facts(79040140).jsonl...\n",
      "len(facts): 586352\n",
      "\u001b[34mPrecomputing tokenized facts and token2count...\u001b[0m\n",
      "100%|████████████████████████████████| 227835/227835 [00:05<00:00, 44158.23it/s]\n",
      "\u001b[34mComputing fact embeddings...\u001b[0m\n",
      "checkpoint_names = ['checkpoint_91_cacc+chf1+chf1+cscc+encc+hscc+nlcc+sass+spss+ta0)+ta1)+ta2)+ta0)+ta1)+ta2)+ta3)+ta4)+ta5)+ta6)+ta7)=0.9337.pt']\n",
      "  0%|                                                | 0/586352 [00:00<?, ?it/s]Loading cached text embeddings from /mnt/workspace/pamessina/medvqa-workspace/cache/text_embeddings_cache(hash=440,3465006188639683439).pkl\n",
      "len(self.cache[\"hashes\"]) = 4758959\n",
      "self.cache[\"embeddings\"].shape = (4758959, 128)\n",
      "100%|███████████████████████████████| 586352/586352 [00:04<00:00, 122904.22it/s]\n",
      "\u001b[34mRunning kmeans...\u001b[0m\n",
      "\u001b[34mRunning kmedoids...\u001b[0m\n",
      "  n_clusters: 28, len(idxs): 3206, cluster_fact_embeddings.shape: (3206, 128)\n",
      "  kmedoids_labels.shape: (3206,), kmedoids_centroids.shape: (28, 128)\n",
      "\u001b[34mRunning kmedoids...\u001b[0m\n",
      "  n_clusters: 32, len(idxs): 3743, cluster_fact_embeddings.shape: (3743, 128)\n",
      "  kmedoids_labels.shape: (3743,), kmedoids_centroids.shape: (32, 128)\n",
      "\u001b[34mRunning kmedoids...\u001b[0m\n",
      "  n_clusters: 16, len(idxs): 1776, cluster_fact_embeddings.shape: (1776, 128)\n",
      "  kmedoids_labels.shape: (1776,), kmedoids_centroids.shape: (16, 128)\n",
      "\u001b[34mRunning kmedoids...\u001b[0m\n",
      "  n_clusters: 18, len(idxs): 2039, cluster_fact_embeddings.shape: (2039, 128)\n",
      "  kmedoids_labels.shape: (2039,), kmedoids_centroids.shape: (18, 128)\n",
      "\u001b[34mRunning kmedoids...\u001b[0m\n",
      "  n_clusters: 34, len(idxs): 3923, cluster_fact_embeddings.shape: (3923, 128)\n",
      "  kmedoids_labels.shape: (3923,), kmedoids_centroids.shape: (34, 128)\n",
      "\u001b[34mRunning kmedoids...\u001b[0m\n",
      "  n_clusters: 33, len(idxs): 3808, cluster_fact_embeddings.shape: (3808, 128)\n",
      "  kmedoids_labels.shape: (3808,), kmedoids_centroids.shape: (33, 128)\n",
      "\u001b[34mRunning kmedoids...\u001b[0m\n",
      "  n_clusters: 15, len(idxs): 1715, cluster_fact_embeddings.shape: (1715, 128)\n",
      "  kmedoids_labels.shape: (1715,), kmedoids_centroids.shape: (15, 128)\n",
      "\u001b[34mRunning kmedoids...\u001b[0m\n",
      "  n_clusters: 24, len(idxs): 2802, cluster_fact_embeddings.shape: (2802, 128)\n",
      "  kmedoids_labels.shape: (2802,), kmedoids_centroids.shape: (24, 128)\n",
      "\u001b[34mRunning kmedoids...\u001b[0m\n",
      "  n_clusters: 45, len(idxs): 5174, cluster_fact_embeddings.shape: (5174, 128)\n",
      "  kmedoids_labels.shape: (5174,), kmedoids_centroids.shape: (45, 128)\n",
      "\u001b[34mRunning kmedoids...\u001b[0m\n",
      "  n_clusters: 17, len(idxs): 1930, cluster_fact_embeddings.shape: (1930, 128)\n",
      "  kmedoids_labels.shape: (1930,), kmedoids_centroids.shape: (17, 128)\n",
      "\u001b[34mRunning kmedoids...\u001b[0m\n",
      "  n_clusters: 35, len(idxs): 4016, cluster_fact_embeddings.shape: (4016, 128)\n",
      "  kmedoids_labels.shape: (4016,), kmedoids_centroids.shape: (35, 128)\n",
      "\u001b[34mRunning kmedoids...\u001b[0m\n",
      "  n_clusters: 38, len(idxs): 4371, cluster_fact_embeddings.shape: (4371, 128)\n",
      "  kmedoids_labels.shape: (4371,), kmedoids_centroids.shape: (38, 128)\n",
      "\u001b[34mRunning kmedoids...\u001b[0m\n",
      "  n_clusters: 26, len(idxs): 3034, cluster_fact_embeddings.shape: (3034, 128)\n",
      "  kmedoids_labels.shape: (3034,), kmedoids_centroids.shape: (26, 128)\n",
      "\u001b[34mRunning kmedoids...\u001b[0m\n",
      "  n_clusters: 27, len(idxs): 3070, cluster_fact_embeddings.shape: (3070, 128)\n",
      "  kmedoids_labels.shape: (3070,), kmedoids_centroids.shape: (27, 128)\n",
      "\u001b[34mRunning kmedoids...\u001b[0m\n",
      "  n_clusters: 27, len(idxs): 3064, cluster_fact_embeddings.shape: (3064, 128)\n",
      "  kmedoids_labels.shape: (3064,), kmedoids_centroids.shape: (27, 128)\n",
      "\u001b[34mRunning kmedoids...\u001b[0m\n",
      "  n_clusters: 38, len(idxs): 4344, cluster_fact_embeddings.shape: (4344, 128)\n",
      "  kmedoids_labels.shape: (4344,), kmedoids_centroids.shape: (38, 128)\n",
      "\u001b[34mRunning kmedoids...\u001b[0m\n",
      "  n_clusters: 35, len(idxs): 3992, cluster_fact_embeddings.shape: (3992, 128)\n",
      "  kmedoids_labels.shape: (3992,), kmedoids_centroids.shape: (35, 128)\n",
      "\u001b[34mRunning kmedoids...\u001b[0m\n",
      "  n_clusters: 36, len(idxs): 4115, cluster_fact_embeddings.shape: (4115, 128)\n",
      "  kmedoids_labels.shape: (4115,), kmedoids_centroids.shape: (36, 128)\n",
      "\u001b[34mRunning kmedoids...\u001b[0m\n",
      "  n_clusters: 24, len(idxs): 2744, cluster_fact_embeddings.shape: (2744, 128)\n",
      "  kmedoids_labels.shape: (2744,), kmedoids_centroids.shape: (24, 128)\n",
      "\u001b[34mRunning kmedoids...\u001b[0m\n",
      "  n_clusters: 29, len(idxs): 3327, cluster_fact_embeddings.shape: (3327, 128)\n",
      "  kmedoids_labels.shape: (3327,), kmedoids_centroids.shape: (29, 128)\n",
      "\u001b[34mRunning kmedoids...\u001b[0m\n",
      "  n_clusters: 30, len(idxs): 3408, cluster_fact_embeddings.shape: (3408, 128)\n",
      "  kmedoids_labels.shape: (3408,), kmedoids_centroids.shape: (30, 128)\n",
      "\u001b[34mRunning kmedoids...\u001b[0m\n",
      "  n_clusters: 26, len(idxs): 3003, cluster_fact_embeddings.shape: (3003, 128)\n",
      "  kmedoids_labels.shape: (3003,), kmedoids_centroids.shape: (26, 128)\n",
      "\u001b[34mRunning kmedoids...\u001b[0m\n",
      "  n_clusters: 29, len(idxs): 3344, cluster_fact_embeddings.shape: (3344, 128)\n",
      "  kmedoids_labels.shape: (3344,), kmedoids_centroids.shape: (29, 128)\n",
      "\u001b[34mRunning kmedoids...\u001b[0m\n",
      "  n_clusters: 22, len(idxs): 2550, cluster_fact_embeddings.shape: (2550, 128)\n",
      "  kmedoids_labels.shape: (2550,), kmedoids_centroids.shape: (22, 128)\n",
      "\u001b[34mRunning kmedoids...\u001b[0m\n",
      "  n_clusters: 21, len(idxs): 2454, cluster_fact_embeddings.shape: (2454, 128)\n",
      "  kmedoids_labels.shape: (2454,), kmedoids_centroids.shape: (21, 128)\n",
      "\u001b[34mRunning kmedoids...\u001b[0m\n",
      "  n_clusters: 15, len(idxs): 1668, cluster_fact_embeddings.shape: (1668, 128)\n",
      "  kmedoids_labels.shape: (1668,), kmedoids_centroids.shape: (15, 128)\n",
      "\u001b[34mRunning kmedoids...\u001b[0m\n",
      "  n_clusters: 24, len(idxs): 2764, cluster_fact_embeddings.shape: (2764, 128)\n",
      "  kmedoids_labels.shape: (2764,), kmedoids_centroids.shape: (24, 128)\n",
      "\u001b[34mRunning kmedoids...\u001b[0m\n",
      "  n_clusters: 28, len(idxs): 3206, cluster_fact_embeddings.shape: (3206, 128)\n",
      "  kmedoids_labels.shape: (3206,), kmedoids_centroids.shape: (28, 128)\n",
      "\u001b[34mRunning kmedoids...\u001b[0m\n",
      "  n_clusters: 28, len(idxs): 3171, cluster_fact_embeddings.shape: (3171, 128)\n",
      "  kmedoids_labels.shape: (3171,), kmedoids_centroids.shape: (28, 128)\n",
      "\u001b[34mRunning kmedoids...\u001b[0m\n",
      "  n_clusters: 21, len(idxs): 2439, cluster_fact_embeddings.shape: (2439, 128)\n",
      "  kmedoids_labels.shape: (2439,), kmedoids_centroids.shape: (21, 128)\n",
      "\u001b[34mRunning kmedoids...\u001b[0m\n",
      "  n_clusters: 25, len(idxs): 2828, cluster_fact_embeddings.shape: (2828, 128)\n",
      "  kmedoids_labels.shape: (2828,), kmedoids_centroids.shape: (25, 128)\n",
      "\u001b[34mRunning kmedoids...\u001b[0m\n",
      "  n_clusters: 20, len(idxs): 2313, cluster_fact_embeddings.shape: (2313, 128)\n",
      "  kmedoids_labels.shape: (2313,), kmedoids_centroids.shape: (20, 128)\n",
      "\u001b[34mRunning kmedoids...\u001b[0m\n",
      "  n_clusters: 14, len(idxs): 1549, cluster_fact_embeddings.shape: (1549, 128)\n",
      "  kmedoids_labels.shape: (1549,), kmedoids_centroids.shape: (14, 128)\n",
      "\u001b[34mRunning kmedoids...\u001b[0m\n",
      "  n_clusters: 10, len(idxs): 1079, cluster_fact_embeddings.shape: (1079, 128)\n",
      "  kmedoids_labels.shape: (1079,), kmedoids_centroids.shape: (10, 128)\n",
      "\u001b[34mRunning kmedoids...\u001b[0m\n",
      "  n_clusters: 23, len(idxs): 2691, cluster_fact_embeddings.shape: (2691, 128)\n",
      "  kmedoids_labels.shape: (2691,), kmedoids_centroids.shape: (23, 128)\n",
      "\u001b[34mRunning kmedoids...\u001b[0m\n",
      "  n_clusters: 30, len(idxs): 3426, cluster_fact_embeddings.shape: (3426, 128)\n",
      "  kmedoids_labels.shape: (3426,), kmedoids_centroids.shape: (30, 128)\n",
      "\u001b[34mRunning kmedoids...\u001b[0m\n",
      "  n_clusters: 24, len(idxs): 2737, cluster_fact_embeddings.shape: (2737, 128)\n",
      "  kmedoids_labels.shape: (2737,), kmedoids_centroids.shape: (24, 128)\n",
      "\u001b[34mRunning kmedoids...\u001b[0m\n",
      "  n_clusters: 37, len(idxs): 4247, cluster_fact_embeddings.shape: (4247, 128)\n",
      "  kmedoids_labels.shape: (4247,), kmedoids_centroids.shape: (37, 128)\n",
      "\u001b[34mRunning kmedoids...\u001b[0m\n",
      "  n_clusters: 21, len(idxs): 2406, cluster_fact_embeddings.shape: (2406, 128)\n",
      "  kmedoids_labels.shape: (2406,), kmedoids_centroids.shape: (21, 128)\n",
      "\u001b[34mRunning kmedoids...\u001b[0m\n",
      "  n_clusters: 30, len(idxs): 3489, cluster_fact_embeddings.shape: (3489, 128)\n",
      "  kmedoids_labels.shape: (3489,), kmedoids_centroids.shape: (30, 128)\n",
      "\u001b[34mRunning kmedoids...\u001b[0m\n",
      "  n_clusters: 27, len(idxs): 3148, cluster_fact_embeddings.shape: (3148, 128)\n",
      "  kmedoids_labels.shape: (3148,), kmedoids_centroids.shape: (27, 128)\n",
      "\u001b[34mRunning kmedoids...\u001b[0m\n",
      "  n_clusters: 34, len(idxs): 3920, cluster_fact_embeddings.shape: (3920, 128)\n"
     ]
    },
    {
     "name": "stdout",
     "output_type": "stream",
     "text": [
      "  kmedoids_labels.shape: (3920,), kmedoids_centroids.shape: (34, 128)\n",
      "\u001b[34mRunning kmedoids...\u001b[0m\n",
      "  n_clusters: 21, len(idxs): 2460, cluster_fact_embeddings.shape: (2460, 128)\n",
      "  kmedoids_labels.shape: (2460,), kmedoids_centroids.shape: (21, 128)\n",
      "\u001b[34mRunning kmedoids...\u001b[0m\n",
      "  n_clusters: 31, len(idxs): 3532, cluster_fact_embeddings.shape: (3532, 128)\n",
      "  kmedoids_labels.shape: (3532,), kmedoids_centroids.shape: (31, 128)\n",
      "\u001b[34mRunning kmedoids...\u001b[0m\n",
      "  n_clusters: 27, len(idxs): 3092, cluster_fact_embeddings.shape: (3092, 128)\n",
      "  kmedoids_labels.shape: (3092,), kmedoids_centroids.shape: (27, 128)\n",
      "\u001b[34mRunning kmedoids...\u001b[0m\n",
      "  n_clusters: 20, len(idxs): 2309, cluster_fact_embeddings.shape: (2309, 128)\n",
      "  kmedoids_labels.shape: (2309,), kmedoids_centroids.shape: (20, 128)\n",
      "\u001b[34mRunning kmedoids...\u001b[0m\n",
      "  n_clusters: 18, len(idxs): 2045, cluster_fact_embeddings.shape: (2045, 128)\n",
      "  kmedoids_labels.shape: (2045,), kmedoids_centroids.shape: (18, 128)\n",
      "\u001b[34mRunning kmedoids...\u001b[0m\n",
      "  n_clusters: 18, len(idxs): 2081, cluster_fact_embeddings.shape: (2081, 128)\n",
      "  kmedoids_labels.shape: (2081,), kmedoids_centroids.shape: (18, 128)\n",
      "\u001b[34mRunning kmedoids...\u001b[0m\n",
      "  n_clusters: 28, len(idxs): 3241, cluster_fact_embeddings.shape: (3241, 128)\n",
      "  kmedoids_labels.shape: (3241,), kmedoids_centroids.shape: (28, 128)\n",
      "\u001b[34mRunning kmedoids...\u001b[0m\n",
      "  n_clusters: 23, len(idxs): 2585, cluster_fact_embeddings.shape: (2585, 128)\n",
      "  kmedoids_labels.shape: (2585,), kmedoids_centroids.shape: (23, 128)\n",
      "\u001b[34mRunning kmedoids...\u001b[0m\n",
      "  n_clusters: 35, len(idxs): 4020, cluster_fact_embeddings.shape: (4020, 128)\n",
      "  kmedoids_labels.shape: (4020,), kmedoids_centroids.shape: (35, 128)\n",
      "\u001b[34mRunning kmedoids...\u001b[0m\n",
      "  n_clusters: 23, len(idxs): 2681, cluster_fact_embeddings.shape: (2681, 128)\n",
      "  kmedoids_labels.shape: (2681,), kmedoids_centroids.shape: (23, 128)\n",
      "\u001b[34mRunning kmedoids...\u001b[0m\n",
      "  n_clusters: 17, len(idxs): 1947, cluster_fact_embeddings.shape: (1947, 128)\n",
      "  kmedoids_labels.shape: (1947,), kmedoids_centroids.shape: (17, 128)\n",
      "\u001b[34mRunning kmedoids...\u001b[0m\n",
      "  n_clusters: 26, len(idxs): 3017, cluster_fact_embeddings.shape: (3017, 128)\n",
      "  kmedoids_labels.shape: (3017,), kmedoids_centroids.shape: (26, 128)\n",
      "\u001b[34mRunning kmedoids...\u001b[0m\n",
      "  n_clusters: 13, len(idxs): 1467, cluster_fact_embeddings.shape: (1467, 128)\n",
      "  kmedoids_labels.shape: (1467,), kmedoids_centroids.shape: (13, 128)\n",
      "\u001b[34mRunning kmedoids...\u001b[0m\n",
      "  n_clusters: 21, len(idxs): 2356, cluster_fact_embeddings.shape: (2356, 128)\n",
      "  kmedoids_labels.shape: (2356,), kmedoids_centroids.shape: (21, 128)\n",
      "\u001b[34mRunning kmedoids...\u001b[0m\n",
      "  n_clusters: 31, len(idxs): 3603, cluster_fact_embeddings.shape: (3603, 128)\n",
      "  kmedoids_labels.shape: (3603,), kmedoids_centroids.shape: (31, 128)\n",
      "\u001b[34mRunning kmedoids...\u001b[0m\n",
      "  n_clusters: 20, len(idxs): 2272, cluster_fact_embeddings.shape: (2272, 128)\n",
      "  kmedoids_labels.shape: (2272,), kmedoids_centroids.shape: (20, 128)\n",
      "\u001b[34mRunning kmedoids...\u001b[0m\n",
      "  n_clusters: 25, len(idxs): 2920, cluster_fact_embeddings.shape: (2920, 128)\n",
      "  kmedoids_labels.shape: (2920,), kmedoids_centroids.shape: (25, 128)\n",
      "\u001b[34mRunning kmedoids...\u001b[0m\n",
      "  n_clusters: 15, len(idxs): 1696, cluster_fact_embeddings.shape: (1696, 128)\n",
      "  kmedoids_labels.shape: (1696,), kmedoids_centroids.shape: (15, 128)\n",
      "\u001b[34mRunning kmedoids...\u001b[0m\n",
      "  n_clusters: 26, len(idxs): 2962, cluster_fact_embeddings.shape: (2962, 128)\n",
      "  kmedoids_labels.shape: (2962,), kmedoids_centroids.shape: (26, 128)\n",
      "\u001b[34mRunning kmedoids...\u001b[0m\n",
      "  n_clusters: 26, len(idxs): 2979, cluster_fact_embeddings.shape: (2979, 128)\n",
      "  kmedoids_labels.shape: (2979,), kmedoids_centroids.shape: (26, 128)\n",
      "\u001b[34mRunning kmedoids...\u001b[0m\n",
      "  n_clusters: 19, len(idxs): 2139, cluster_fact_embeddings.shape: (2139, 128)\n",
      "  kmedoids_labels.shape: (2139,), kmedoids_centroids.shape: (19, 128)\n",
      "\u001b[34mRunning kmedoids...\u001b[0m\n",
      "  n_clusters: 25, len(idxs): 2882, cluster_fact_embeddings.shape: (2882, 128)\n",
      "  kmedoids_labels.shape: (2882,), kmedoids_centroids.shape: (25, 128)\n",
      "\u001b[34mRunning kmedoids...\u001b[0m\n",
      "  n_clusters: 27, len(idxs): 3075, cluster_fact_embeddings.shape: (3075, 128)\n",
      "  kmedoids_labels.shape: (3075,), kmedoids_centroids.shape: (27, 128)\n",
      "\u001b[34mRunning kmedoids...\u001b[0m\n",
      "  n_clusters: 18, len(idxs): 2056, cluster_fact_embeddings.shape: (2056, 128)\n",
      "  kmedoids_labels.shape: (2056,), kmedoids_centroids.shape: (18, 128)\n",
      "\u001b[34mRunning kmedoids...\u001b[0m\n",
      "  n_clusters: 41, len(idxs): 4795, cluster_fact_embeddings.shape: (4795, 128)\n",
      "  kmedoids_labels.shape: (4795,), kmedoids_centroids.shape: (41, 128)\n",
      "\u001b[34mRunning kmedoids...\u001b[0m\n",
      "  n_clusters: 19, len(idxs): 2151, cluster_fact_embeddings.shape: (2151, 128)\n",
      "  kmedoids_labels.shape: (2151,), kmedoids_centroids.shape: (19, 128)\n",
      "\u001b[34mRunning kmedoids...\u001b[0m\n",
      "  n_clusters: 16, len(idxs): 1818, cluster_fact_embeddings.shape: (1818, 128)\n",
      "  kmedoids_labels.shape: (1818,), kmedoids_centroids.shape: (16, 128)\n",
      "\u001b[34mRunning kmedoids...\u001b[0m\n",
      "  n_clusters: 27, len(idxs): 3077, cluster_fact_embeddings.shape: (3077, 128)\n",
      "  kmedoids_labels.shape: (3077,), kmedoids_centroids.shape: (27, 128)\n",
      "\u001b[34mRunning kmedoids...\u001b[0m\n",
      "  n_clusters: 29, len(idxs): 3296, cluster_fact_embeddings.shape: (3296, 128)\n",
      "  kmedoids_labels.shape: (3296,), kmedoids_centroids.shape: (29, 128)\n",
      "\u001b[34mRunning kmedoids...\u001b[0m\n",
      "  n_clusters: 78, len(idxs): 9097, cluster_fact_embeddings.shape: (9097, 128)\n",
      "  kmedoids_labels.shape: (9097,), kmedoids_centroids.shape: (78, 128)\n",
      "\u001b[34mRunning kmedoids...\u001b[0m\n",
      "  n_clusters: 27, len(idxs): 3064, cluster_fact_embeddings.shape: (3064, 128)\n",
      "  kmedoids_labels.shape: (3064,), kmedoids_centroids.shape: (27, 128)\n",
      "\u001b[34mRunning kmedoids...\u001b[0m\n",
      "  n_clusters: 36, len(idxs): 4144, cluster_fact_embeddings.shape: (4144, 128)\n",
      "  kmedoids_labels.shape: (4144,), kmedoids_centroids.shape: (36, 128)\n",
      "\u001b[34mRunning kmedoids...\u001b[0m\n",
      "  n_clusters: 66, len(idxs): 7696, cluster_fact_embeddings.shape: (7696, 128)\n",
      "  kmedoids_labels.shape: (7696,), kmedoids_centroids.shape: (66, 128)\n",
      "\u001b[34mRunning kmedoids...\u001b[0m\n",
      "  n_clusters: 27, len(idxs): 3071, cluster_fact_embeddings.shape: (3071, 128)\n",
      "  kmedoids_labels.shape: (3071,), kmedoids_centroids.shape: (27, 128)\n",
      "\u001b[34mRunning kmedoids...\u001b[0m\n",
      "  n_clusters: 22, len(idxs): 2569, cluster_fact_embeddings.shape: (2569, 128)\n",
      "  kmedoids_labels.shape: (2569,), kmedoids_centroids.shape: (22, 128)\n",
      "\u001b[34mRunning kmedoids...\u001b[0m\n",
      "  n_clusters: 17, len(idxs): 1895, cluster_fact_embeddings.shape: (1895, 128)\n",
      "  kmedoids_labels.shape: (1895,), kmedoids_centroids.shape: (17, 128)\n",
      "\u001b[34mRunning kmedoids...\u001b[0m\n",
      "  n_clusters: 36, len(idxs): 4172, cluster_fact_embeddings.shape: (4172, 128)\n",
      "  kmedoids_labels.shape: (4172,), kmedoids_centroids.shape: (36, 128)\n",
      "\u001b[34mRunning kmedoids...\u001b[0m\n",
      "  n_clusters: 24, len(idxs): 2797, cluster_fact_embeddings.shape: (2797, 128)\n",
      "  kmedoids_labels.shape: (2797,), kmedoids_centroids.shape: (24, 128)\n",
      "\u001b[34mRunning kmedoids...\u001b[0m\n",
      "  n_clusters: 27, len(idxs): 3083, cluster_fact_embeddings.shape: (3083, 128)\n",
      "  kmedoids_labels.shape: (3083,), kmedoids_centroids.shape: (27, 128)\n",
      "\u001b[34mRunning kmedoids...\u001b[0m\n",
      "  n_clusters: 18, len(idxs): 2064, cluster_fact_embeddings.shape: (2064, 128)\n",
      "  kmedoids_labels.shape: (2064,), kmedoids_centroids.shape: (18, 128)\n",
      "\u001b[34mRunning kmedoids...\u001b[0m\n",
      "  n_clusters: 17, len(idxs): 1973, cluster_fact_embeddings.shape: (1973, 128)\n",
      "  kmedoids_labels.shape: (1973,), kmedoids_centroids.shape: (17, 128)\n",
      "\u001b[34mRunning kmedoids...\u001b[0m\n",
      "  n_clusters: 20, len(idxs): 2251, cluster_fact_embeddings.shape: (2251, 128)\n",
      "  kmedoids_labels.shape: (2251,), kmedoids_centroids.shape: (20, 128)\n",
      "\u001b[34mRunning kmedoids...\u001b[0m\n",
      "  n_clusters: 32, len(idxs): 3709, cluster_fact_embeddings.shape: (3709, 128)\n",
      "  kmedoids_labels.shape: (3709,), kmedoids_centroids.shape: (32, 128)\n",
      "\u001b[34mRunning kmedoids...\u001b[0m\n",
      "  n_clusters: 20, len(idxs): 2307, cluster_fact_embeddings.shape: (2307, 128)\n",
      "  kmedoids_labels.shape: (2307,), kmedoids_centroids.shape: (20, 128)\n",
      "\u001b[34mRunning kmedoids...\u001b[0m\n",
      "  n_clusters: 14, len(idxs): 1606, cluster_fact_embeddings.shape: (1606, 128)\n",
      "  kmedoids_labels.shape: (1606,), kmedoids_centroids.shape: (14, 128)\n",
      "\u001b[34mRunning kmedoids...\u001b[0m\n",
      "  n_clusters: 16, len(idxs): 1815, cluster_fact_embeddings.shape: (1815, 128)\n",
      "  kmedoids_labels.shape: (1815,), kmedoids_centroids.shape: (16, 128)\n",
      "\u001b[34mRunning kmedoids...\u001b[0m\n",
      "  n_clusters: 34, len(idxs): 3941, cluster_fact_embeddings.shape: (3941, 128)\n"
     ]
    },
    {
     "name": "stdout",
     "output_type": "stream",
     "text": [
      "  kmedoids_labels.shape: (3941,), kmedoids_centroids.shape: (34, 128)\n",
      "\u001b[34mRunning kmedoids...\u001b[0m\n",
      "  n_clusters: 41, len(idxs): 4752, cluster_fact_embeddings.shape: (4752, 128)\n",
      "  kmedoids_labels.shape: (4752,), kmedoids_centroids.shape: (41, 128)\n",
      "\u001b[34mRunning kmedoids...\u001b[0m\n",
      "  n_clusters: 15, len(idxs): 1669, cluster_fact_embeddings.shape: (1669, 128)\n",
      "  kmedoids_labels.shape: (1669,), kmedoids_centroids.shape: (15, 128)\n",
      "\u001b[34mRunning kmedoids...\u001b[0m\n",
      "  n_clusters: 15, len(idxs): 1750, cluster_fact_embeddings.shape: (1750, 128)\n",
      "  kmedoids_labels.shape: (1750,), kmedoids_centroids.shape: (15, 128)\n",
      "\u001b[34mRunning kmedoids...\u001b[0m\n",
      "  n_clusters: 19, len(idxs): 2186, cluster_fact_embeddings.shape: (2186, 128)\n",
      "  kmedoids_labels.shape: (2186,), kmedoids_centroids.shape: (19, 128)\n",
      "\u001b[34mRunning kmedoids...\u001b[0m\n",
      "  n_clusters: 29, len(idxs): 3340, cluster_fact_embeddings.shape: (3340, 128)\n",
      "  kmedoids_labels.shape: (3340,), kmedoids_centroids.shape: (29, 128)\n",
      "\u001b[34mRunning kmedoids...\u001b[0m\n",
      "  n_clusters: 35, len(idxs): 3995, cluster_fact_embeddings.shape: (3995, 128)\n",
      "  kmedoids_labels.shape: (3995,), kmedoids_centroids.shape: (35, 128)\n",
      "\u001b[34mRunning kmedoids...\u001b[0m\n",
      "  n_clusters: 15, len(idxs): 1720, cluster_fact_embeddings.shape: (1720, 128)\n",
      "  kmedoids_labels.shape: (1720,), kmedoids_centroids.shape: (15, 128)\n",
      "\u001b[34mRunning kmedoids...\u001b[0m\n",
      "  n_clusters: 27, len(idxs): 3143, cluster_fact_embeddings.shape: (3143, 128)\n",
      "  kmedoids_labels.shape: (3143,), kmedoids_centroids.shape: (27, 128)\n",
      "\u001b[34mRunning kmedoids...\u001b[0m\n",
      "  n_clusters: 19, len(idxs): 2132, cluster_fact_embeddings.shape: (2132, 128)\n",
      "  kmedoids_labels.shape: (2132,), kmedoids_centroids.shape: (19, 128)\n",
      "\u001b[34mRunning kmedoids...\u001b[0m\n",
      "  n_clusters: 29, len(idxs): 3363, cluster_fact_embeddings.shape: (3363, 128)\n",
      "  kmedoids_labels.shape: (3363,), kmedoids_centroids.shape: (29, 128)\n",
      "\u001b[34mRunning kmedoids...\u001b[0m\n",
      "  n_clusters: 20, len(idxs): 2283, cluster_fact_embeddings.shape: (2283, 128)\n",
      "  kmedoids_labels.shape: (2283,), kmedoids_centroids.shape: (20, 128)\n",
      "\u001b[34mRunning kmedoids...\u001b[0m\n",
      "  n_clusters: 24, len(idxs): 2698, cluster_fact_embeddings.shape: (2698, 128)\n",
      "  kmedoids_labels.shape: (2698,), kmedoids_centroids.shape: (24, 128)\n",
      "\u001b[34mRunning kmedoids...\u001b[0m\n",
      "  n_clusters: 20, len(idxs): 2278, cluster_fact_embeddings.shape: (2278, 128)\n",
      "  kmedoids_labels.shape: (2278,), kmedoids_centroids.shape: (20, 128)\n",
      "\u001b[34mRunning kmedoids...\u001b[0m\n",
      "  n_clusters: 46, len(idxs): 5335, cluster_fact_embeddings.shape: (5335, 128)\n",
      "  kmedoids_labels.shape: (5335,), kmedoids_centroids.shape: (46, 128)\n",
      "\u001b[34mRunning kmedoids...\u001b[0m\n",
      "  n_clusters: 16, len(idxs): 1851, cluster_fact_embeddings.shape: (1851, 128)\n",
      "  kmedoids_labels.shape: (1851,), kmedoids_centroids.shape: (16, 128)\n",
      "\u001b[34mRunning kmedoids...\u001b[0m\n",
      "  n_clusters: 47, len(idxs): 5505, cluster_fact_embeddings.shape: (5505, 128)\n",
      "  kmedoids_labels.shape: (5505,), kmedoids_centroids.shape: (47, 128)\n",
      "\u001b[34mRunning kmedoids...\u001b[0m\n",
      "  n_clusters: 19, len(idxs): 2121, cluster_fact_embeddings.shape: (2121, 128)\n",
      "  kmedoids_labels.shape: (2121,), kmedoids_centroids.shape: (19, 128)\n",
      "\u001b[34mRunning kmedoids...\u001b[0m\n",
      "  n_clusters: 41, len(idxs): 4807, cluster_fact_embeddings.shape: (4807, 128)\n",
      "  kmedoids_labels.shape: (4807,), kmedoids_centroids.shape: (41, 128)\n",
      "\u001b[34mRunning kmedoids...\u001b[0m\n",
      "  n_clusters: 25, len(idxs): 2846, cluster_fact_embeddings.shape: (2846, 128)\n",
      "  kmedoids_labels.shape: (2846,), kmedoids_centroids.shape: (25, 128)\n",
      "\u001b[34mRunning kmedoids...\u001b[0m\n",
      "  n_clusters: 22, len(idxs): 2532, cluster_fact_embeddings.shape: (2532, 128)\n",
      "  kmedoids_labels.shape: (2532,), kmedoids_centroids.shape: (22, 128)\n",
      "\u001b[34mRunning kmedoids...\u001b[0m\n",
      "  n_clusters: 25, len(idxs): 2847, cluster_fact_embeddings.shape: (2847, 128)\n",
      "  kmedoids_labels.shape: (2847,), kmedoids_centroids.shape: (25, 128)\n",
      "\u001b[34mRunning kmedoids...\u001b[0m\n",
      "  n_clusters: 37, len(idxs): 4289, cluster_fact_embeddings.shape: (4289, 128)\n",
      "  kmedoids_labels.shape: (4289,), kmedoids_centroids.shape: (37, 128)\n",
      "\u001b[34mRunning kmedoids...\u001b[0m\n",
      "  n_clusters: 24, len(idxs): 2712, cluster_fact_embeddings.shape: (2712, 128)\n",
      "  kmedoids_labels.shape: (2712,), kmedoids_centroids.shape: (24, 128)\n",
      "\u001b[34mRunning kmedoids...\u001b[0m\n",
      "  n_clusters: 32, len(idxs): 3737, cluster_fact_embeddings.shape: (3737, 128)\n",
      "  kmedoids_labels.shape: (3737,), kmedoids_centroids.shape: (32, 128)\n",
      "\u001b[34mRunning kmedoids...\u001b[0m\n",
      "  n_clusters: 23, len(idxs): 2681, cluster_fact_embeddings.shape: (2681, 128)\n",
      "  kmedoids_labels.shape: (2681,), kmedoids_centroids.shape: (23, 128)\n",
      "\u001b[34mRunning kmedoids...\u001b[0m\n",
      "  n_clusters: 17, len(idxs): 1928, cluster_fact_embeddings.shape: (1928, 128)\n",
      "  kmedoids_labels.shape: (1928,), kmedoids_centroids.shape: (17, 128)\n",
      "\u001b[34mRunning kmedoids...\u001b[0m\n",
      "  n_clusters: 24, len(idxs): 2773, cluster_fact_embeddings.shape: (2773, 128)\n",
      "  kmedoids_labels.shape: (2773,), kmedoids_centroids.shape: (24, 128)\n",
      "\u001b[34mRunning kmedoids...\u001b[0m\n",
      "  n_clusters: 33, len(idxs): 3768, cluster_fact_embeddings.shape: (3768, 128)\n",
      "  kmedoids_labels.shape: (3768,), kmedoids_centroids.shape: (33, 128)\n",
      "\u001b[34mRunning kmedoids...\u001b[0m\n",
      "  n_clusters: 29, len(idxs): 3333, cluster_fact_embeddings.shape: (3333, 128)\n",
      "  kmedoids_labels.shape: (3333,), kmedoids_centroids.shape: (29, 128)\n",
      "\u001b[34mRunning kmedoids...\u001b[0m\n",
      "  n_clusters: 16, len(idxs): 1766, cluster_fact_embeddings.shape: (1766, 128)\n",
      "  kmedoids_labels.shape: (1766,), kmedoids_centroids.shape: (16, 128)\n",
      "\u001b[34mRunning kmedoids...\u001b[0m\n",
      "  n_clusters: 25, len(idxs): 2923, cluster_fact_embeddings.shape: (2923, 128)\n",
      "  kmedoids_labels.shape: (2923,), kmedoids_centroids.shape: (25, 128)\n",
      "\u001b[34mRunning kmedoids...\u001b[0m\n",
      "  n_clusters: 17, len(idxs): 1987, cluster_fact_embeddings.shape: (1987, 128)\n",
      "  kmedoids_labels.shape: (1987,), kmedoids_centroids.shape: (17, 128)\n",
      "\u001b[34mRunning kmedoids...\u001b[0m\n",
      "  n_clusters: 16, len(idxs): 1843, cluster_fact_embeddings.shape: (1843, 128)\n",
      "  kmedoids_labels.shape: (1843,), kmedoids_centroids.shape: (16, 128)\n",
      "\u001b[34mRunning kmedoids...\u001b[0m\n",
      "  n_clusters: 25, len(idxs): 2893, cluster_fact_embeddings.shape: (2893, 128)\n",
      "  kmedoids_labels.shape: (2893,), kmedoids_centroids.shape: (25, 128)\n",
      "\u001b[34mRunning kmedoids...\u001b[0m\n",
      "  n_clusters: 11, len(idxs): 1273, cluster_fact_embeddings.shape: (1273, 128)\n",
      "  kmedoids_labels.shape: (1273,), kmedoids_centroids.shape: (11, 128)\n",
      "\u001b[34mRunning kmedoids...\u001b[0m\n",
      "  n_clusters: 14, len(idxs): 1625, cluster_fact_embeddings.shape: (1625, 128)\n",
      "  kmedoids_labels.shape: (1625,), kmedoids_centroids.shape: (14, 128)\n",
      "\u001b[34mRunning kmedoids...\u001b[0m\n",
      "  n_clusters: 21, len(idxs): 2350, cluster_fact_embeddings.shape: (2350, 128)\n",
      "  kmedoids_labels.shape: (2350,), kmedoids_centroids.shape: (21, 128)\n",
      "\u001b[34mRunning kmedoids...\u001b[0m\n",
      "  n_clusters: 27, len(idxs): 3152, cluster_fact_embeddings.shape: (3152, 128)\n",
      "  kmedoids_labels.shape: (3152,), kmedoids_centroids.shape: (27, 128)\n",
      "\u001b[34mRunning kmedoids...\u001b[0m\n",
      "  n_clusters: 46, len(idxs): 5369, cluster_fact_embeddings.shape: (5369, 128)\n",
      "  kmedoids_labels.shape: (5369,), kmedoids_centroids.shape: (46, 128)\n",
      "\u001b[34mRunning kmedoids...\u001b[0m\n",
      "  n_clusters: 25, len(idxs): 2909, cluster_fact_embeddings.shape: (2909, 128)\n",
      "  kmedoids_labels.shape: (2909,), kmedoids_centroids.shape: (25, 128)\n",
      "\u001b[34mRunning kmedoids...\u001b[0m\n",
      "  n_clusters: 33, len(idxs): 3847, cluster_fact_embeddings.shape: (3847, 128)\n",
      "  kmedoids_labels.shape: (3847,), kmedoids_centroids.shape: (33, 128)\n",
      "\u001b[34mRunning kmedoids...\u001b[0m\n",
      "  n_clusters: 26, len(idxs): 2980, cluster_fact_embeddings.shape: (2980, 128)\n",
      "  kmedoids_labels.shape: (2980,), kmedoids_centroids.shape: (26, 128)\n",
      "\u001b[34mRunning kmedoids...\u001b[0m\n",
      "  n_clusters: 30, len(idxs): 3442, cluster_fact_embeddings.shape: (3442, 128)\n",
      "  kmedoids_labels.shape: (3442,), kmedoids_centroids.shape: (30, 128)\n",
      "\u001b[34mRunning kmedoids...\u001b[0m\n",
      "  n_clusters: 37, len(idxs): 4238, cluster_fact_embeddings.shape: (4238, 128)\n",
      "  kmedoids_labels.shape: (4238,), kmedoids_centroids.shape: (37, 128)\n",
      "\u001b[34mRunning kmedoids...\u001b[0m\n",
      "  n_clusters: 37, len(idxs): 4289, cluster_fact_embeddings.shape: (4289, 128)\n",
      "  kmedoids_labels.shape: (4289,), kmedoids_centroids.shape: (37, 128)\n",
      "\u001b[34mRunning kmedoids...\u001b[0m\n",
      "  n_clusters: 13, len(idxs): 1486, cluster_fact_embeddings.shape: (1486, 128)\n",
      "  kmedoids_labels.shape: (1486,), kmedoids_centroids.shape: (13, 128)\n",
      "\u001b[34mRunning kmedoids...\u001b[0m\n",
      "  n_clusters: 33, len(idxs): 3827, cluster_fact_embeddings.shape: (3827, 128)\n"
     ]
    },
    {
     "name": "stdout",
     "output_type": "stream",
     "text": [
      "  kmedoids_labels.shape: (3827,), kmedoids_centroids.shape: (33, 128)\n",
      "\u001b[34mRunning kmedoids...\u001b[0m\n",
      "  n_clusters: 30, len(idxs): 3513, cluster_fact_embeddings.shape: (3513, 128)\n",
      "  kmedoids_labels.shape: (3513,), kmedoids_centroids.shape: (30, 128)\n",
      "\u001b[34mRunning kmedoids...\u001b[0m\n",
      "  n_clusters: 27, len(idxs): 3111, cluster_fact_embeddings.shape: (3111, 128)\n",
      "  kmedoids_labels.shape: (3111,), kmedoids_centroids.shape: (27, 128)\n",
      "\u001b[34mRunning kmedoids...\u001b[0m\n",
      "  n_clusters: 22, len(idxs): 2539, cluster_fact_embeddings.shape: (2539, 128)\n",
      "  kmedoids_labels.shape: (2539,), kmedoids_centroids.shape: (22, 128)\n",
      "\u001b[34mRunning kmedoids...\u001b[0m\n",
      "  n_clusters: 29, len(idxs): 3359, cluster_fact_embeddings.shape: (3359, 128)\n",
      "  kmedoids_labels.shape: (3359,), kmedoids_centroids.shape: (29, 128)\n",
      "\u001b[34mRunning kmedoids...\u001b[0m\n",
      "  n_clusters: 30, len(idxs): 3489, cluster_fact_embeddings.shape: (3489, 128)\n",
      "  kmedoids_labels.shape: (3489,), kmedoids_centroids.shape: (30, 128)\n",
      "\u001b[34mRunning kmedoids...\u001b[0m\n",
      "  n_clusters: 19, len(idxs): 2201, cluster_fact_embeddings.shape: (2201, 128)\n",
      "  kmedoids_labels.shape: (2201,), kmedoids_centroids.shape: (19, 128)\n",
      "\u001b[34mRunning kmedoids...\u001b[0m\n",
      "  n_clusters: 22, len(idxs): 2549, cluster_fact_embeddings.shape: (2549, 128)\n",
      "  kmedoids_labels.shape: (2549,), kmedoids_centroids.shape: (22, 128)\n",
      "\u001b[34mRunning kmedoids...\u001b[0m\n",
      "  n_clusters: 34, len(idxs): 3874, cluster_fact_embeddings.shape: (3874, 128)\n",
      "  kmedoids_labels.shape: (3874,), kmedoids_centroids.shape: (34, 128)\n",
      "\u001b[34mRunning kmedoids...\u001b[0m\n",
      "  n_clusters: 41, len(idxs): 4770, cluster_fact_embeddings.shape: (4770, 128)\n",
      "  kmedoids_labels.shape: (4770,), kmedoids_centroids.shape: (41, 128)\n",
      "\u001b[34mRunning kmedoids...\u001b[0m\n",
      "  n_clusters: 32, len(idxs): 3667, cluster_fact_embeddings.shape: (3667, 128)\n",
      "  kmedoids_labels.shape: (3667,), kmedoids_centroids.shape: (32, 128)\n",
      "\u001b[34mRunning kmedoids...\u001b[0m\n",
      "  n_clusters: 13, len(idxs): 1522, cluster_fact_embeddings.shape: (1522, 128)\n",
      "  kmedoids_labels.shape: (1522,), kmedoids_centroids.shape: (13, 128)\n",
      "\u001b[34mRunning kmedoids...\u001b[0m\n",
      "  n_clusters: 14, len(idxs): 1544, cluster_fact_embeddings.shape: (1544, 128)\n",
      "  kmedoids_labels.shape: (1544,), kmedoids_centroids.shape: (14, 128)\n",
      "\u001b[34mRunning kmedoids...\u001b[0m\n",
      "  n_clusters: 27, len(idxs): 3131, cluster_fact_embeddings.shape: (3131, 128)\n",
      "  kmedoids_labels.shape: (3131,), kmedoids_centroids.shape: (27, 128)\n",
      "\u001b[34mRunning kmedoids...\u001b[0m\n",
      "  n_clusters: 39, len(idxs): 4507, cluster_fact_embeddings.shape: (4507, 128)\n",
      "  kmedoids_labels.shape: (4507,), kmedoids_centroids.shape: (39, 128)\n",
      "\u001b[34mRunning kmedoids...\u001b[0m\n",
      "  n_clusters: 36, len(idxs): 4156, cluster_fact_embeddings.shape: (4156, 128)\n",
      "  kmedoids_labels.shape: (4156,), kmedoids_centroids.shape: (36, 128)\n",
      "\u001b[34mRunning kmedoids...\u001b[0m\n",
      "  n_clusters: 24, len(idxs): 2750, cluster_fact_embeddings.shape: (2750, 128)\n",
      "  kmedoids_labels.shape: (2750,), kmedoids_centroids.shape: (24, 128)\n",
      "\u001b[34mRunning kmedoids...\u001b[0m\n",
      "  n_clusters: 24, len(idxs): 2722, cluster_fact_embeddings.shape: (2722, 128)\n",
      "  kmedoids_labels.shape: (2722,), kmedoids_centroids.shape: (24, 128)\n",
      "\u001b[34mRunning kmedoids...\u001b[0m\n",
      "  n_clusters: 31, len(idxs): 3623, cluster_fact_embeddings.shape: (3623, 128)\n",
      "  kmedoids_labels.shape: (3623,), kmedoids_centroids.shape: (31, 128)\n",
      "\u001b[34mRunning kmedoids...\u001b[0m\n",
      "  n_clusters: 35, len(idxs): 4095, cluster_fact_embeddings.shape: (4095, 128)\n",
      "  kmedoids_labels.shape: (4095,), kmedoids_centroids.shape: (35, 128)\n",
      "\u001b[34mRunning kmedoids...\u001b[0m\n",
      "  n_clusters: 15, len(idxs): 1747, cluster_fact_embeddings.shape: (1747, 128)\n",
      "  kmedoids_labels.shape: (1747,), kmedoids_centroids.shape: (15, 128)\n",
      "\u001b[34mRunning kmedoids...\u001b[0m\n",
      "  n_clusters: 30, len(idxs): 3479, cluster_fact_embeddings.shape: (3479, 128)\n",
      "  kmedoids_labels.shape: (3479,), kmedoids_centroids.shape: (30, 128)\n",
      "\u001b[34mRunning kmedoids...\u001b[0m\n",
      "  n_clusters: 25, len(idxs): 2818, cluster_fact_embeddings.shape: (2818, 128)\n",
      "  kmedoids_labels.shape: (2818,), kmedoids_centroids.shape: (25, 128)\n",
      "\u001b[34mRunning kmedoids...\u001b[0m\n",
      "  n_clusters: 22, len(idxs): 2577, cluster_fact_embeddings.shape: (2577, 128)\n",
      "  kmedoids_labels.shape: (2577,), kmedoids_centroids.shape: (22, 128)\n",
      "\u001b[34mRunning kmedoids...\u001b[0m\n",
      "  n_clusters: 22, len(idxs): 2530, cluster_fact_embeddings.shape: (2530, 128)\n",
      "  kmedoids_labels.shape: (2530,), kmedoids_centroids.shape: (22, 128)\n",
      "\u001b[34mRunning kmedoids...\u001b[0m\n",
      "  n_clusters: 15, len(idxs): 1719, cluster_fact_embeddings.shape: (1719, 128)\n",
      "  kmedoids_labels.shape: (1719,), kmedoids_centroids.shape: (15, 128)\n",
      "\u001b[34mRunning kmedoids...\u001b[0m\n",
      "  n_clusters: 28, len(idxs): 3237, cluster_fact_embeddings.shape: (3237, 128)\n",
      "  kmedoids_labels.shape: (3237,), kmedoids_centroids.shape: (28, 128)\n",
      "\u001b[34mRunning kmedoids...\u001b[0m\n",
      "  n_clusters: 20, len(idxs): 2245, cluster_fact_embeddings.shape: (2245, 128)\n",
      "  kmedoids_labels.shape: (2245,), kmedoids_centroids.shape: (20, 128)\n",
      "\u001b[34mRunning kmedoids...\u001b[0m\n",
      "  n_clusters: 32, len(idxs): 3723, cluster_fact_embeddings.shape: (3723, 128)\n",
      "  kmedoids_labels.shape: (3723,), kmedoids_centroids.shape: (32, 128)\n",
      "\u001b[34mRunning kmedoids...\u001b[0m\n",
      "  n_clusters: 26, len(idxs): 2965, cluster_fact_embeddings.shape: (2965, 128)\n",
      "  kmedoids_labels.shape: (2965,), kmedoids_centroids.shape: (26, 128)\n",
      "\u001b[34mRunning kmedoids...\u001b[0m\n",
      "  n_clusters: 25, len(idxs): 2849, cluster_fact_embeddings.shape: (2849, 128)\n",
      "  kmedoids_labels.shape: (2849,), kmedoids_centroids.shape: (25, 128)\n",
      "\u001b[34mRunning kmedoids...\u001b[0m\n",
      "  n_clusters: 27, len(idxs): 3067, cluster_fact_embeddings.shape: (3067, 128)\n",
      "  kmedoids_labels.shape: (3067,), kmedoids_centroids.shape: (27, 128)\n",
      "\u001b[34mRunning kmedoids...\u001b[0m\n",
      "  n_clusters: 18, len(idxs): 2057, cluster_fact_embeddings.shape: (2057, 128)\n",
      "  kmedoids_labels.shape: (2057,), kmedoids_centroids.shape: (18, 128)\n",
      "\u001b[34mRunning kmedoids...\u001b[0m\n",
      "  n_clusters: 23, len(idxs): 2663, cluster_fact_embeddings.shape: (2663, 128)\n",
      "  kmedoids_labels.shape: (2663,), kmedoids_centroids.shape: (23, 128)\n",
      "\u001b[34mRunning kmedoids...\u001b[0m\n",
      "  n_clusters: 23, len(idxs): 2665, cluster_fact_embeddings.shape: (2665, 128)\n",
      "  kmedoids_labels.shape: (2665,), kmedoids_centroids.shape: (23, 128)\n",
      "\u001b[34mRunning kmedoids...\u001b[0m\n",
      "  n_clusters: 25, len(idxs): 2897, cluster_fact_embeddings.shape: (2897, 128)\n",
      "  kmedoids_labels.shape: (2897,), kmedoids_centroids.shape: (25, 128)\n",
      "\u001b[34mRunning kmedoids...\u001b[0m\n",
      "  n_clusters: 16, len(idxs): 1771, cluster_fact_embeddings.shape: (1771, 128)\n",
      "  kmedoids_labels.shape: (1771,), kmedoids_centroids.shape: (16, 128)\n",
      "\u001b[34mRunning kmedoids...\u001b[0m\n",
      "  n_clusters: 27, len(idxs): 3106, cluster_fact_embeddings.shape: (3106, 128)\n",
      "  kmedoids_labels.shape: (3106,), kmedoids_centroids.shape: (27, 128)\n",
      "\u001b[34mRunning kmedoids...\u001b[0m\n",
      "  n_clusters: 14, len(idxs): 1586, cluster_fact_embeddings.shape: (1586, 128)\n",
      "  kmedoids_labels.shape: (1586,), kmedoids_centroids.shape: (14, 128)\n",
      "\u001b[34mRunning kmedoids...\u001b[0m\n",
      "  n_clusters: 25, len(idxs): 2895, cluster_fact_embeddings.shape: (2895, 128)\n",
      "  kmedoids_labels.shape: (2895,), kmedoids_centroids.shape: (25, 128)\n",
      "\u001b[34mRunning kmedoids...\u001b[0m\n",
      "  n_clusters: 18, len(idxs): 2064, cluster_fact_embeddings.shape: (2064, 128)\n",
      "  kmedoids_labels.shape: (2064,), kmedoids_centroids.shape: (18, 128)\n",
      "\u001b[34mRunning kmedoids...\u001b[0m\n",
      "  n_clusters: 8, len(idxs): 934, cluster_fact_embeddings.shape: (934, 128)\n",
      "  kmedoids_labels.shape: (934,), kmedoids_centroids.shape: (8, 128)\n",
      "\u001b[34mRunning kmedoids...\u001b[0m\n",
      "  n_clusters: 10, len(idxs): 1076, cluster_fact_embeddings.shape: (1076, 128)\n",
      "  kmedoids_labels.shape: (1076,), kmedoids_centroids.shape: (10, 128)\n",
      "\u001b[34mRunning kmedoids...\u001b[0m\n",
      "  n_clusters: 18, len(idxs): 2021, cluster_fact_embeddings.shape: (2021, 128)\n",
      "  kmedoids_labels.shape: (2021,), kmedoids_centroids.shape: (18, 128)\n",
      "\u001b[34mRunning kmedoids...\u001b[0m\n",
      "  n_clusters: 15, len(idxs): 1717, cluster_fact_embeddings.shape: (1717, 128)\n",
      "  kmedoids_labels.shape: (1717,), kmedoids_centroids.shape: (15, 128)\n",
      "\u001b[34mRunning kmedoids...\u001b[0m\n",
      "  n_clusters: 20, len(idxs): 2318, cluster_fact_embeddings.shape: (2318, 128)\n",
      "  kmedoids_labels.shape: (2318,), kmedoids_centroids.shape: (20, 128)\n",
      "\u001b[34mRunning kmedoids...\u001b[0m\n",
      "  n_clusters: 15, len(idxs): 1737, cluster_fact_embeddings.shape: (1737, 128)\n",
      "  kmedoids_labels.shape: (1737,), kmedoids_centroids.shape: (15, 128)\n",
      "\u001b[34mRunning kmedoids...\u001b[0m\n",
      "  n_clusters: 26, len(idxs): 3046, cluster_fact_embeddings.shape: (3046, 128)\n"
     ]
    },
    {
     "name": "stdout",
     "output_type": "stream",
     "text": [
      "  kmedoids_labels.shape: (3046,), kmedoids_centroids.shape: (26, 128)\n",
      "\u001b[34mRunning kmedoids...\u001b[0m\n",
      "  n_clusters: 31, len(idxs): 3544, cluster_fact_embeddings.shape: (3544, 128)\n",
      "  kmedoids_labels.shape: (3544,), kmedoids_centroids.shape: (31, 128)\n",
      "\u001b[34mRunning kmedoids...\u001b[0m\n",
      "  n_clusters: 10, len(idxs): 1093, cluster_fact_embeddings.shape: (1093, 128)\n",
      "  kmedoids_labels.shape: (1093,), kmedoids_centroids.shape: (10, 128)\n",
      "\u001b[34mRunning kmedoids...\u001b[0m\n",
      "  n_clusters: 25, len(idxs): 2923, cluster_fact_embeddings.shape: (2923, 128)\n",
      "  kmedoids_labels.shape: (2923,), kmedoids_centroids.shape: (25, 128)\n",
      "\u001b[34mRunning kmedoids...\u001b[0m\n",
      "  n_clusters: 26, len(idxs): 2973, cluster_fact_embeddings.shape: (2973, 128)\n",
      "  kmedoids_labels.shape: (2973,), kmedoids_centroids.shape: (26, 128)\n",
      "\u001b[34mRunning kmedoids...\u001b[0m\n",
      "  n_clusters: 21, len(idxs): 2384, cluster_fact_embeddings.shape: (2384, 128)\n",
      "  kmedoids_labels.shape: (2384,), kmedoids_centroids.shape: (21, 128)\n",
      "\u001b[34mRunning kmedoids...\u001b[0m\n",
      "  n_clusters: 54, len(idxs): 6293, cluster_fact_embeddings.shape: (6293, 128)\n",
      "  kmedoids_labels.shape: (6293,), kmedoids_centroids.shape: (54, 128)\n",
      "\u001b[34mRunning kmedoids...\u001b[0m\n",
      "  n_clusters: 22, len(idxs): 2511, cluster_fact_embeddings.shape: (2511, 128)\n",
      "  kmedoids_labels.shape: (2511,), kmedoids_centroids.shape: (22, 128)\n",
      "\u001b[34mRunning kmedoids...\u001b[0m\n",
      "  n_clusters: 26, len(idxs): 2962, cluster_fact_embeddings.shape: (2962, 128)\n",
      "  kmedoids_labels.shape: (2962,), kmedoids_centroids.shape: (26, 128)\n",
      "\u001b[34mRunning kmedoids...\u001b[0m\n",
      "  n_clusters: 28, len(idxs): 3252, cluster_fact_embeddings.shape: (3252, 128)\n",
      "  kmedoids_labels.shape: (3252,), kmedoids_centroids.shape: (28, 128)\n",
      "\u001b[34mRunning kmedoids...\u001b[0m\n",
      "  n_clusters: 37, len(idxs): 4321, cluster_fact_embeddings.shape: (4321, 128)\n",
      "  kmedoids_labels.shape: (4321,), kmedoids_centroids.shape: (37, 128)\n",
      "\u001b[34mRunning kmedoids...\u001b[0m\n",
      "  n_clusters: 18, len(idxs): 1998, cluster_fact_embeddings.shape: (1998, 128)\n",
      "  kmedoids_labels.shape: (1998,), kmedoids_centroids.shape: (18, 128)\n",
      "\u001b[34mRunning kmedoids...\u001b[0m\n",
      "  n_clusters: 19, len(idxs): 2228, cluster_fact_embeddings.shape: (2228, 128)\n",
      "  kmedoids_labels.shape: (2228,), kmedoids_centroids.shape: (19, 128)\n",
      "\u001b[34mRunning kmedoids...\u001b[0m\n",
      "  n_clusters: 16, len(idxs): 1853, cluster_fact_embeddings.shape: (1853, 128)\n",
      "  kmedoids_labels.shape: (1853,), kmedoids_centroids.shape: (16, 128)\n",
      "\u001b[34mRunning kmedoids...\u001b[0m\n",
      "  n_clusters: 24, len(idxs): 2776, cluster_fact_embeddings.shape: (2776, 128)\n",
      "  kmedoids_labels.shape: (2776,), kmedoids_centroids.shape: (24, 128)\n",
      "\u001b[34mRunning kmedoids...\u001b[0m\n",
      "  n_clusters: 19, len(idxs): 2134, cluster_fact_embeddings.shape: (2134, 128)\n",
      "  kmedoids_labels.shape: (2134,), kmedoids_centroids.shape: (19, 128)\n",
      "\u001b[34mRunning kmedoids...\u001b[0m\n",
      "  n_clusters: 25, len(idxs): 2831, cluster_fact_embeddings.shape: (2831, 128)\n",
      "  kmedoids_labels.shape: (2831,), kmedoids_centroids.shape: (25, 128)\n",
      "\u001b[34mRunning kmedoids...\u001b[0m\n",
      "  n_clusters: 28, len(idxs): 3231, cluster_fact_embeddings.shape: (3231, 128)\n",
      "  kmedoids_labels.shape: (3231,), kmedoids_centroids.shape: (28, 128)\n",
      "len(representative_fact_idxs): 5096\n",
      "\u001b[34mDe-duplicating representative facts with union-find...\u001b[0m\n",
      "Running kmeans with n_clusters=11...\n",
      "Deduplicating facts...\n",
      "Choosing representative fact per set...\n",
      "Number of facts removed: 785\n",
      "Saving /mnt/workspace/pamessina/medvqa-workspace/cache/mimiccxr_deduplicated_representative_facts(hash=460,360882518922904019).pkl...\n",
      "\u001b[1m\u001b[34mDone!\u001b[0m\n"
     ]
    }
   ],
   "source": [
    "!python ../../scripts/mimiccxr/find_pos_neg_neutral_facts_per_report_v2.py \\\n",
    "--task \"find_representative_facts\" \\\n",
    "--integrated_report_facts_jsonl_filepath \\\n",
    "\"/home/pamessina/medvqa-workspace/cache/mimiccxr/integrated_report_facts(79040140).jsonl\" \\\n",
    "--fact_embedding_model_name \"microsoft/BiomedVLP-CXR-BERT-specialized\" \\\n",
    "--fact_embedding_model_checkpoint_folder_path \\\n",
    "\"/mnt/data/pamessina/workspaces/medvqa-workspace/models/fact_embedding/20240207_184445_MIMIC-CXR(triplets+classif+entcont+nli+radgraph+autoencoder)_FactEncoder(microsoft-BiomedVLP-CXR-BERT-specialized)\" \\\n",
    "--fact_embedding_batch_size 200 \\\n",
    "--fact_embedding_num_workers 4 \\\n",
    "--num_kmeans_clusters 200 \\\n",
    "--num_kmeans_iterations 300 \\\n",
    "--num_kmedoids_clusters 5000 \\\n",
    "--num_kmedoids_iterations 300 \\\n",
    "--union_find_threshold 0.97 \\\n",
    "--nearest_k 15"
   ]
  },
  {
   "cell_type": "code",
   "execution_count": 167,
   "id": "0b106f2c",
   "metadata": {},
   "outputs": [
    {
     "name": "stdout",
     "output_type": "stream",
     "text": [
      "-rw-rw-r-- 1 pamessina socvis 315M Apr 21 10:38 '/mnt/workspace/pamessina/medvqa-workspace/cache/mimiccxr_deduplicated_representative_facts(hash=460,360882518922904019).pkl'\r\n"
     ]
    }
   ],
   "source": [
    "!ls -lh \"/mnt/workspace/pamessina/medvqa-workspace/cache/mimiccxr_deduplicated_representative_facts(hash=460,360882518922904019).pkl\""
   ]
  },
  {
   "cell_type": "code",
   "execution_count": 168,
   "id": "c1a4e28a",
   "metadata": {},
   "outputs": [],
   "source": [
    "tmp = load_pickle(\"/mnt/workspace/pamessina/medvqa-workspace/cache/mimiccxr_deduplicated_representative_facts(hash=460,360882518922904019).pkl\")"
   ]
  },
  {
   "cell_type": "code",
   "execution_count": 169,
   "id": "9a333ec5",
   "metadata": {},
   "outputs": [
    {
     "data": {
      "text/plain": [
       "dict_keys(['facts', 'fact_embeddings', 'representative_fact_idxs', 'dedup_representative_fact_idxs'])"
      ]
     },
     "execution_count": 169,
     "metadata": {},
     "output_type": "execute_result"
    }
   ],
   "source": [
    "tmp.keys()"
   ]
  },
  {
   "cell_type": "code",
   "execution_count": 170,
   "id": "190a78eb",
   "metadata": {},
   "outputs": [
    {
     "data": {
      "text/plain": [
       "(586352, 128)"
      ]
     },
     "execution_count": 170,
     "metadata": {},
     "output_type": "execute_result"
    }
   ],
   "source": [
    "tmp['fact_embeddings'].shape"
   ]
  },
  {
   "cell_type": "code",
   "execution_count": 171,
   "id": "4b12aabb",
   "metadata": {},
   "outputs": [
    {
     "data": {
      "text/plain": [
       "4311"
      ]
     },
     "execution_count": 171,
     "metadata": {},
     "output_type": "execute_result"
    }
   ],
   "source": [
    "len(tmp['dedup_representative_fact_idxs'])"
   ]
  },
  {
   "cell_type": "code",
   "execution_count": 174,
   "id": "777b15bd",
   "metadata": {
    "scrolled": true
   },
   "outputs": [
    {
     "name": "stdout",
     "output_type": "stream",
     "text": [
      "1-cm nodular opacity in the mid right lung\n",
      "1-cm opacities in the lower right lung\n",
      "1.2 cm nodular opacity at the level of the anterior right 6th rib\n",
      "1.3 cm opacity in the infrahilar region on the right\n",
      "1.5 cm opacity in the right lower lung\n",
      "2 chest tubes in the right chest\n",
      "2 leads in the right ventricle\n",
      "22 mm oval opacity projecting over the anterior end of the right fourth rib\n",
      "3 rounded opacifications in the left upper quadrant of the abdomen\n",
      "4-mm calcified granuloma in the left periphery of the lung\n",
      "4-mm nodule in the left lower lobe\n",
      "5-mm nodular opacity in the right upper lung\n",
      "6-mm nodule in the right lower lung\n",
      "7-mm nodular opacity in the left upper lobe\n",
      "8 mm nodular opacity at the level of the posterior rib\n",
      "9 mm rounded density in the right lower lung zone\n",
      "AICD in the left chest\n",
      "AICD in the proper location\n",
      "AICD with unchanged position of the leads within the region of the right atrium\n",
      "AICD/pacemaker leads within the region of the coronary sinus\n",
      "AP chest compared to 10:20 p.m.\n",
      "AP chest compared to 3:23 a.m.\n",
      "AP upright radiograph of the chest\n",
      "AP upright view of the chest\n",
      "AP view of the chest obtained\n",
      "Biventricular ICD in the left chest wall\n",
      "CT of the abdomen\n",
      "DISH in the T-spine\n",
      "DISH in the spine\n",
      "Dobbhoff in good position within the stomach\n",
      "Dobbhoff in the right mainstem bronchus\n",
      "Dobbhoff line reaches the level of the upper thorax\n",
      "Dobbhoff tube coils within the upper portion of the stomach\n",
      "Dobbhoff tube ends in the region of the pylorus\n",
      "Dobbhoff tube in the body of the stomach\n",
      "Dobbhoff tube in the distal esophagus\n",
      "Dobbhoff tube placed in the appropriate position\n",
      "Dobbhoff tube terminates below the diaphragm\n",
      "Dobbhoff tube terminates in the body of the stomach\n",
      "Dobbhoff tube tip in the second portion of the duodenum\n",
      "Dobhoff tube beyond the level of the gastroesophageal junction\n",
      "Dobhoff tube in the distal stomach\n",
      "ET tube 2-3 cm above standard position\n",
      "ET tube 6.5 cm above the carina\n",
      "ET tube can be advanced couple of centimeters\n",
      "ET tube ends just at the level of the lower margin of the clavicles\n",
      "ET tube in appropriate position 3.8 cm of the carina\n",
      "ET tube in satisfactory position\n",
      "ET tube in the appropriate position\n",
      "ET tube in the standard position\n",
      "ET tube in the trachea\n",
      "ET tube should be further advanced 2 to 5 cm\n",
      "ET tube should be pushed in by 2-3 cm for optimal position\n",
      "ET tube should be withdrawn by to 3 cm\n",
      "ET tube slightly low in position\n",
      "ET tube terminates 6.5 cm above the carina\n",
      "ET tube tip 3.8 cm above the carinal\n",
      "ET tube tip could be advanced couple of cm for more standard position\n",
      "ET tube tip should be pulled back for additional to cm\n",
      "ET tube unchanged compared to the prior study\n",
      "ETT placed in the region of the carina\n",
      "Eventration of the posterior aspect of the right hemidiaphragm\n",
      "G-tube in the left upper quadrant\n",
      "Gastrostomy catheter in the left upper quadrant of the abdomen\n",
      "IABP at the arch of the aorta\n",
      "ILD in the lungs\n",
      "IPH in the brain\n",
      "IVC filter in the abdomen\n",
      "NG tube coiled in the left upper abdomen\n",
      "NG tube coiling in the hiatal hernia\n",
      "NG tube in the appropriate position\n",
      "NG tube in the stomach coiled\n",
      "NG tube needs to be advanced 5 cm\n",
      "NG tube not included in the study\n",
      "NG tube of Dobbhoff type advanced\n",
      "NG tube off the view of the film\n",
      "NG tube should be advanced 5 cm\n",
      "NG tube sideport lies in the region of the GE junction\n",
      "NG tube terminates in the body of the stomach\n",
      "NG tube terminates in the fundus of the stomach\n",
      "NG tube terminates in the left upper quadrant\n",
      "NG tube terminates with the side port at the level of the GE junction\n",
      "NG tube terminating in the fundus of the stomach\n",
      "NG tube terminating in the stomach\n",
      "NG tube tip terminating in the body of the stomach\n",
      "NG tube with side port in the region of the GE junction\n",
      "NG tube with the tip below the diaphragm\n",
      "NGT below the diaphragm\n",
      "NGT in the expected position\n",
      "NGT in the neo-esophagus\n",
      "OG tube lies just in the region of the stomach\n",
      "OG-tube ends in the distal part of the stomach\n",
      "Obscured axillary portion of the left PIC line\n",
      "Opacity in the RML\n",
      "Osteoacrolysis of the right clavicle\n",
      "PA chest compared to :20 a.m.\n",
      "PA chest radiograph helpful for further evaluation\n",
      "PA image of the chest obtained with the patient in the upright position\n",
      "PA radiograph of the chest obtained\n",
      "PA view of the chest\n"
     ]
    }
   ],
   "source": [
    "for idx in tmp['representative_fact_idxs'][:100]:\n",
    "    print(tmp['facts'][idx])"
   ]
  },
  {
   "cell_type": "code",
   "execution_count": 175,
   "id": "1be57604",
   "metadata": {
    "scrolled": true
   },
   "outputs": [
    {
     "name": "stdout",
     "output_type": "stream",
     "text": [
      "1-cm nodular opacity in the mid right lung\n",
      "1-cm opacities in the lower right lung\n",
      "1.2 cm nodular opacity at the level of the anterior right 6th rib\n",
      "1.3 cm opacity in the infrahilar region on the right\n",
      "2 chest tubes in the right chest\n",
      "2 leads in the right ventricle\n",
      "22 mm oval opacity projecting over the anterior end of the right fourth rib\n",
      "3 rounded opacifications in the left upper quadrant of the abdomen\n",
      "4-mm calcified granuloma in the left periphery of the lung\n",
      "4-mm nodule in the left lower lobe\n",
      "5-mm nodular opacity in the right upper lung\n",
      "6-mm nodule in the right lower lung\n",
      "7-mm nodular opacity in the left upper lobe\n",
      "8 mm nodular opacity at the level of the posterior rib\n",
      "9 mm rounded density in the right lower lung zone\n",
      "AICD in the left chest\n",
      "AICD in the proper location\n",
      "AICD with unchanged position of the leads within the region of the right atrium\n",
      "AICD/pacemaker leads within the region of the coronary sinus\n",
      "AP chest compared to 3:23 a.m.\n",
      "Biventricular ICD in the left chest wall\n",
      "CT of the abdomen\n",
      "Dobbhoff in good position within the stomach\n",
      "Dobbhoff in the right mainstem bronchus\n",
      "Dobbhoff line reaches the level of the upper thorax\n",
      "Dobbhoff tube coils within the upper portion of the stomach\n",
      "Dobbhoff tube ends in the region of the pylorus\n",
      "Dobbhoff tube in the distal esophagus\n",
      "Dobbhoff tube tip in the second portion of the duodenum\n",
      "Dobhoff tube beyond the level of the gastroesophageal junction\n",
      "Dobhoff tube in the distal stomach\n",
      "ET tube ends just at the level of the lower margin of the clavicles\n",
      "ET tube in appropriate position 3.8 cm of the carina\n",
      "ET tube in the appropriate position\n",
      "ET tube in the trachea\n",
      "ET tube slightly low in position\n",
      "ET tube terminates 6.5 cm above the carina\n",
      "ET tube tip could be advanced couple of cm for more standard position\n",
      "ET tube unchanged compared to the prior study\n",
      "ETT placed in the region of the carina\n",
      "Eventration of the posterior aspect of the right hemidiaphragm\n",
      "G-tube in the left upper quadrant\n",
      "Gastrostomy catheter in the left upper quadrant of the abdomen\n",
      "IABP at the arch of the aorta\n",
      "ILD in the lungs\n",
      "IPH in the brain\n",
      "IVC filter in the abdomen\n",
      "NG tube coiled in the left upper abdomen\n",
      "NG tube coiling in the hiatal hernia\n",
      "NG tube in the stomach coiled\n",
      "NG tube not included in the study\n",
      "NG tube of Dobbhoff type advanced\n",
      "NG tube off the view of the film\n",
      "NG tube sideport lies in the region of the GE junction\n",
      "NGT in the neo-esophagus\n",
      "Obscured axillary portion of the left PIC line\n",
      "Opacity in the RML\n",
      "Osteoacrolysis of the right clavicle\n",
      "PA chest compared to :20 a.m.\n",
      "PA chest radiograph helpful for further evaluation\n",
      "PA image of the chest obtained with the patient in the upright position\n",
      "PA radiograph of the chest obtained\n",
      "PA view of the chest at 13:50\n",
      "PA view of the chest compared to prior chest CT\n",
      "PA view of the chest provided for review\n",
      "PA view of the film\n",
      "PICC line on the left\n",
      "PICC line on the right\n",
      "PICC line on the right in place\n",
      "PICC line on the right in the low SVC\n",
      "PK discussed on the left\n",
      "Port-A-Cath in the standard position\n",
      "Port-A-Cath present on the right\n",
      "Port-A-Cath terminating in the mid of the SVC\n",
      "Port-A-Cath tip in the lower portion of the SVC\n",
      "Right IJ access dialysis catheter with tip in the region of the low SVC/cavoatrial junction\n",
      "Right IJ catheter tip projects over the expected region of the mid-low SVC\n",
      "Right IJ sheath terminates at the origin of the SVC\n",
      "Right PICC with the tip in the upper SVC\n",
      "Right subclavian line ends in the lowest third of the SVC\n",
      "Sternotomy wires in the midline\n",
      "Swan-Ganz catheter advanced in the proximal parts of the right main pulmonary artery\n",
      "Swan-Ganz catheter in stable position\n",
      "Swan-Ganz catheter in the expected location of the right interlobar pulmonary artery\n",
      "Swan-Ganz catheter positioned with the tip in the right main pulmonary artery\n",
      "Swan-Ganz catheter should be withdrawn 4 cm to standard position\n",
      "Swan-Ganz catheter tip at the level of the right lower lobe pulmonary artery\n",
      "Swan-Ganz catheter tip ends in the region of the right pulmonary artery\n",
      "Swan-Ganz catheter tip in the intralobar portion of the right pulmonary artery\n",
      "Swan-Ganz catheter tip in the proximal portion of the right pulmonary artery\n",
      "abandoned pacing leads terminating in the region of the right ventricle\n",
      "abnormalities of the right humeral head\n",
      "abnormality in the left hemithorax\n",
      "abnormality in the lung\n",
      "abnormality in the mediastinum\n",
      "abnormality in the right upper lung\n",
      "abnormality in the setting of fevers\n",
      "abnormality not available at the time of this interpretation\n",
      "abnormality suggestive of pneumonia\n",
      "abrupt discontinuity in the cortex\n"
     ]
    }
   ],
   "source": [
    "for idx in tmp['dedup_representative_fact_idxs'][:100]:\n",
    "    print(tmp['facts'][idx])"
   ]
  },
  {
   "cell_type": "code",
   "execution_count": 3,
   "id": "6efadfb9",
   "metadata": {},
   "outputs": [
    {
     "name": "stdout",
     "output_type": "stream",
     "text": [
      "Reading /mnt/workspace/pamessina/medvqa-workspace/cache/mimiccxr_deduplicated_representative_facts(hash=460,360882518922904019).pkl...\n",
      "\u001b[34mFinding positive and negative representative facts for each fact...\u001b[0m\n",
      "100%|██████████████████████████████████████| 5864/5864 [00:10<00:00, 581.87it/s]\n",
      "Saving /mnt/workspace/pamessina/medvqa-workspace/cache/mimiccxr_k_most_similar_representative_facts(hash=257,81001370560698666).pkl...\n",
      "\u001b[1m\u001b[34mDone!\u001b[0m\n"
     ]
    }
   ],
   "source": [
    "!python ../../scripts/mimiccxr/find_pos_neg_neutral_facts_per_report_v2.py \\\n",
    "--task \"find_k_most_similar_representative_facts_for_each_fact\" \\\n",
    "--deduplicated_representative_facts_filepath \\\n",
    "\"/mnt/workspace/pamessina/medvqa-workspace/cache/mimiccxr_deduplicated_representative_facts(hash=460,360882518922904019).pkl\" \\\n",
    "--nearest_k 50 \\\n",
    "--batch_size 100 \\\n",
    "--num_workers 4"
   ]
  },
  {
   "cell_type": "code",
   "execution_count": 3,
   "id": "bb35c5d3",
   "metadata": {},
   "outputs": [],
   "source": [
    "from medvqa.utils.files import load_pickle"
   ]
  },
  {
   "cell_type": "code",
   "execution_count": 8,
   "id": "99f45b20",
   "metadata": {},
   "outputs": [],
   "source": [
    "repr_facts =  load_pickle('/mnt/workspace/pamessina/medvqa-workspace/cache/mimiccxr_deduplicated_representative_facts(hash=460,360882518922904019).pkl')"
   ]
  },
  {
   "cell_type": "code",
   "execution_count": 9,
   "id": "7f5dfbdc",
   "metadata": {},
   "outputs": [
    {
     "data": {
      "text/plain": [
       "dict_keys(['facts', 'fact_embeddings', 'representative_fact_idxs', 'dedup_representative_fact_idxs'])"
      ]
     },
     "execution_count": 9,
     "metadata": {},
     "output_type": "execute_result"
    }
   ],
   "source": [
    "repr_facts.keys()"
   ]
  },
  {
   "cell_type": "code",
   "execution_count": 4,
   "id": "484b4084",
   "metadata": {},
   "outputs": [],
   "source": [
    "tmp = load_pickle('/mnt/workspace/pamessina/medvqa-workspace/cache/mimiccxr_k_most_similar_representative_facts(hash=257,81001370560698666).pkl')"
   ]
  },
  {
   "cell_type": "code",
   "execution_count": 17,
   "id": "76a716f8",
   "metadata": {
    "scrolled": true
   },
   "outputs": [
    {
     "name": "stdout",
     "output_type": "stream",
     "text": [
      "1.6 cm relatively rounded opacity at the medial left lung base\n",
      "\n",
      "rounded opacity in the left base\n",
      "4-mm nodule in the left lower lobe\n",
      "focal opacity in the posterior left lobe\n",
      "triangular opacity at the base of the left lung\n",
      "nodular opacity in the left lower lobe\n",
      "heterogeneous opacification of the base of the left lung\n",
      "background opacity in the left lower lung\n",
      "patchy opacity within the lateral aspect of the left lung base\n",
      "retrocardiac opacity concerning for pneumonia in the left lower lobe\n",
      "patchy opacification in the left lower lobe on the left\n",
      "nodular density of about 7 mm in size\n",
      "focal opacity in the base of the left lung\n",
      "dense opacification of the lower zone of left lung\n",
      "patchy opacity at the base of the left lung\n",
      "curvilinear opacity at the base of the left lung\n",
      "opacification of the left lung base likely represents atelectasis\n",
      "left lower lung focal opacity concerning for pneumonia\n",
      "infectious opacification in the left lower lobe\n",
      "new peripheral opacity in the left lower lung\n",
      "band-like opacity in the left lower lung\n",
      "patchy opacity in the left basilar region\n",
      "subtle opacity in the retrocardiac space in the region of the left lower lobe\n",
      "focal opacities within the periphery of the left lung base\n",
      "8 mm nodular opacity at the level of the posterior rib\n",
      "decreased parenchymal opacity at the bases of the left lung\n",
      "rounded opacity at the base of the right lung\n",
      "patchy areas of opacity in the left lower lung\n",
      "patchy retrocardiac opacity in the left lung\n",
      "complete opacification of the left lower lobe may reflect pneumonia\n",
      "patchy opacities of the left lung base\n",
      "opacity consistent with pneumonia in the lower portion of the left lung\n",
      "unchanged opacity at the left lower lung\n",
      "focal opacity in the retrocardiac region on the lateral view\n",
      "pigtail catheter in the left base\n",
      "placement of pigtail catheter in the left chest\n",
      "unchanged atelectasis at the medial aspect of the left lower lobe\n",
      "mild opacity in the left lung base\n",
      "opacity more likely pneumonia in the left lower lobe\n",
      "retrocardiac opacity in the lateral view\n",
      "semi-oval opacity in the retrocardiac area\n",
      "multiple opacities in the left lower lung\n",
      "nodular opacity projecting over the anterior left seventh rib\n",
      "mild patchy opacity in the left base\n",
      "small opacity at the base of the left lung\n",
      "infection in the left base\n",
      "removal of the left-sided pigtail catheter\n",
      "lucency at the base of the left heart\n",
      "removal of the left pigtail pleural catheter\n",
      "streaky opacity in the left lung base\n",
      "irregular opacities in the base of the left lung\n"
     ]
    }
   ],
   "source": [
    "i = 500\n",
    "print(repr_facts['facts'][i])\n",
    "print()\n",
    "for x in tmp['most_similar'][i]:\n",
    "    y = repr_facts['dedup_representative_fact_idxs'][x]\n",
    "    print(repr_facts['facts'][y])"
   ]
  },
  {
   "cell_type": "code",
   "execution_count": 62,
   "id": "0b58124e",
   "metadata": {},
   "outputs": [
    {
     "name": "stdout",
     "output_type": "stream",
     "text": [
      "Reading /home/pamessina/medvqa-workspace/cache/mimiccxr/integrated_report_facts(79040140).jsonl...\n",
      "n_reports: 227835\n",
      "Reading /mnt/workspace/pamessina/medvqa-workspace/cache/mimiccxr_deduplicated_representative_facts(hash=460,360882518922904019).pkl...\n",
      "Reading /mnt/workspace/pamessina/medvqa-workspace/cache/mimiccxr_k_most_similar_representative_facts(hash=257,81001370560698666).pkl...\n",
      "\u001b[34mAssigning representative facts to reports with num_processes=10...\u001b[0m\n",
      "results.shape: (227835, 100)\n",
      "Saving /mnt/workspace/pamessina/medvqa-workspace/cache/mimiccxr_assigned_representative_facts_to_reports(hash=474,1880255534079539538).pkl...\n",
      "\u001b[1m\u001b[34mDone!\u001b[0m\n"
     ]
    }
   ],
   "source": [
    "!python ../../scripts/mimiccxr/find_pos_neg_neutral_facts_per_report_v2.py \\\n",
    "--task \"assign_representative_facts_to_reports\" \\\n",
    "--integrated_report_facts_jsonl_filepath \\\n",
    "\"/home/pamessina/medvqa-workspace/cache/mimiccxr/integrated_report_facts(79040140).jsonl\" \\\n",
    "--deduplicated_representative_facts_filepath \\\n",
    "\"/mnt/workspace/pamessina/medvqa-workspace/cache/mimiccxr_deduplicated_representative_facts(hash=460,360882518922904019).pkl\" \\\n",
    "--k_most_similar_representative_facts_per_fact_filepath \\\n",
    "\"/mnt/workspace/pamessina/medvqa-workspace/cache/mimiccxr_k_most_similar_representative_facts(hash=257,81001370560698666).pkl\" \\\n",
    "--n_pos 50 \\\n",
    "--n_rand 50 \\\n",
    "--num_processes 10"
   ]
  },
  {
   "cell_type": "code",
   "execution_count": 63,
   "id": "82a2c6be",
   "metadata": {},
   "outputs": [],
   "source": [
    "tmp = load_pickle('/mnt/workspace/pamessina/medvqa-workspace/cache/mimiccxr_assigned_representative_facts_to_reports(hash=474,1880255534079539538).pkl')"
   ]
  },
  {
   "cell_type": "code",
   "execution_count": 64,
   "id": "fdf457c2",
   "metadata": {},
   "outputs": [
    {
     "data": {
      "text/plain": [
       "dict_keys(['assigned_representative_fact_idxs'])"
      ]
     },
     "execution_count": 64,
     "metadata": {},
     "output_type": "execute_result"
    }
   ],
   "source": [
    "tmp.keys()"
   ]
  },
  {
   "cell_type": "code",
   "execution_count": 65,
   "id": "6a316501",
   "metadata": {},
   "outputs": [],
   "source": [
    "from medvqa.utils.files import load_jsonl"
   ]
  },
  {
   "cell_type": "code",
   "execution_count": 25,
   "id": "5fcde5ec",
   "metadata": {},
   "outputs": [],
   "source": [
    "report_facts = load_jsonl(\"/home/pamessina/medvqa-workspace/cache/mimiccxr/integrated_report_facts(79040140).jsonl\")"
   ]
  },
  {
   "cell_type": "code",
   "execution_count": 30,
   "id": "608fc006",
   "metadata": {},
   "outputs": [
    {
     "data": {
      "text/plain": [
       "{'report_idx': 227834,\n",
       " 'background': 'indication: Chest pain.',\n",
       " 'findings': 'The cardiac silhouette size is top normal. The aorta is mildly unfolded. Hilar contours are normal. The pulmonary vascularity is normal and the lungs are clear. No pleural effusion or pneumothorax is seen. There are mild degenerative changes of the thoracic spine.',\n",
       " 'impression': 'No acute cardiopulmonary abnormality.',\n",
       " 'path': '/mnt/data/mimic-cxr/files/p19/p19216802/s51441827.txt',\n",
       " 'facts': ['cardiac silhouette size is top normal',\n",
       "  'mildly unfolded aorta',\n",
       "  'normal hilar contours',\n",
       "  'normal pulmonary vascularity',\n",
       "  'clear lungs',\n",
       "  'no pleural effusion',\n",
       "  'no pneumothorax',\n",
       "  'mild degenerative changes of the thoracic spine',\n",
       "  'no acute cardiopulmonary abnormality'],\n",
       " 'fact_based_report': 'cardiac silhouette size is top normal. mildly unfolded aorta. normal hilar contours. normal pulmonary vascularity. clear lungs. no pleural effusion. no pneumothorax. mild degenerative changes of the thoracic spine. no acute cardiopulmonary abnormality'}"
      ]
     },
     "execution_count": 30,
     "metadata": {},
     "output_type": "execute_result"
    }
   ],
   "source": [
    "report_facts[-1]"
   ]
  },
  {
   "cell_type": "code",
   "execution_count": 66,
   "id": "eeab5796",
   "metadata": {
    "scrolled": true
   },
   "outputs": [
    {
     "name": "stdout",
     "output_type": "stream",
     "text": [
      "no significant lung abnormalities\n",
      "no effusion in the lungs\n",
      "cardiac silhouette top normal in size\n",
      "cardiac silhouette within normal\n",
      "moderate tortuosity of the aorta\n",
      "no evidence of acute cardiopulmonary\n",
      "no evidence of CHF\n",
      "no abnormalities of the heart\n",
      "no abnormality\n",
      "no suggestion of TRALI/TACO in the pulmonary\n",
      "stable cardiac silhouette at the upper limits of normal in size\n",
      "no vascular abnormality in the lungs\n",
      "no vascular congestion in the mediastinum\n",
      "no evidence of complications\n",
      "no evidence of congestion\n",
      "no evidence of effusion\n",
      "no evidence of atelectasis\n",
      "aorta is tortuous in course\n",
      "sclerosis of the inferior endplates of the thoracic vertebral bodies\n",
      "no appreciable pleural effusion anteriorly placed\n",
      "no cardiomegaly in the mediastinum\n",
      "no evidence of hilar\n",
      "slightly tortuous appearance of aorta\n",
      "no evidence of increased effusion\n",
      "no evidence of lymphadenopathy\n",
      "lungs with no evidence of focal consolidation\n",
      "heart upper limit of normal in size\n",
      "lungs without evidence of pneumonia\n",
      "top-normal size of the heart\n",
      "no evidence of procedure pneumothorax\n",
      "tortuosity of the aortic contour\n",
      "tortuosity of the aorta is unchanged\n",
      "degenerative changes of the thoracic spine\n",
      "demineralization of the thoracic spine\n",
      "marginal osteophyte formation of the thoracic spine\n",
      "no focal consolidation of the lungs\n",
      "mild tortuosity of the descending aorta\n",
      "normal appearance of the hilar structures\n",
      "normal appearance of the lung parenchyma\n",
      "normal appearance of the mediastinum\n",
      "normal appearance of the cardiomediastinal silhouette\n",
      "mild-to-moderate degenerative changes in the mid portion of the thoracic spine\n",
      "normal lungs in the chest\n",
      "small osteophytes in the thoracic spine\n",
      "normal unchanged appearance of the cardiac silhouette\n",
      "no minimal pleural effusion\n",
      "no pleural pneumothorax\n",
      "no clear explanation in the chest\n",
      "no remaining pneumothorax on the right base\n",
      "no crowding of the vasculature\n",
      "tip of the nasogastric tube likely in the gastric fundus\n",
      "background of interstitial opacity in the bilateral lower lungs\n",
      "gaseous distention of the esophagus\n",
      "pacemaker leads in the expected location of the right ventricle\n",
      "unchanged positions of the 3 left thoracostomy tubes\n",
      "appearance of the right Port-A-Cath is constant\n",
      "layering effusion on the right\n",
      "lymphadenopathy in the mediastinal contours\n",
      "small amount of pleural effusion cannot be excluded\n",
      "no convincing evidence of focal pneumonia\n",
      "increase in size of the at least moderate to large hiatus hernia\n",
      "underlying atelectasis in the left base\n",
      "increase in the volume of subcutaneous emphysema\n",
      "NG tube sideport lies in the region of the GE junction\n",
      "no change in small effusions\n",
      "mild increase in the prominence of pulmonary vasculature\n",
      "expected courses from the left axillary generator\n",
      "opacification at the base of the left lung could be pneumonia\n",
      "possible smoking in the patient\n",
      "unchanged right Port-A-Cath projecting over the right chest wall\n",
      "large atelectasis of the left lung\n",
      "bilateral opacities suggestive of pulmonary edema\n",
      "evidence of prior granulomatous disease\n",
      "associated atelectasis of the right lower lung\n",
      "no interval changes in the lung findings\n",
      "lung hyperexpansion suggestive of COPD\n",
      "mild edema in the base of the right lung\n",
      "dilatation of scratch\n",
      "wedge-shaped opacity in the periphery of the left upper lobe\n",
      "no change in the right small pleural effusion\n",
      "obliteration of the diaphragmatic contour of the left side\n",
      "limited evaluation of the lungs due to patient body habitus\n",
      "left pleural effusion is smaller\n",
      "opacities not significantly changed since the prior\n",
      "opacities not significantly changed in the interval\n",
      "opacity seen only in the frontal view\n",
      "air collection in the herniated stomach\n",
      "extensive calcification of the bilateral carotid arteries\n",
      "persisting mild degree of interstitial abnormalities\n",
      "tip of the catheter in the right atrium\n",
      "underlying pneumonia in the right upper lung\n",
      "concern for the possibility of pneumonia\n",
      "no evidence of acute disease in the lung parenchyma\n",
      "extensive amount of calcified bilateral pleural plaques\n",
      "right IJ tube in adequate position\n",
      "increase in areas of atelectasis at the lung bases\n",
      "evidence of atelectasis\n",
      "scattered opacities in the right lung\n",
      "mild interval decrease in the extent of patchy opacities in the left lower lung zone\n",
      "endotracheal tube terminates at the level of the clavicle\n"
     ]
    }
   ],
   "source": [
    "for i in tmp['assigned_representative_fact_idxs'][-1]:\n",
    "    print(repr_facts['facts'][repr_facts['dedup_representative_fact_idxs'][i]])"
   ]
  },
  {
   "cell_type": "code",
   "execution_count": 47,
   "id": "5aeb3182",
   "metadata": {},
   "outputs": [
    {
     "name": "stdout",
     "output_type": "stream",
     "text": [
      "\u001b[1m\u001b[34mRunning assign_gpt4_label_based_facts_to_reports()...\u001b[0m\n",
      "len(representative_facts): 4311\n",
      "Loading /home/pamessina/medvqa-workspace/cache/mimiccxr/openai/gpt-4-1106-preview_fact_based_report_nli_queries(from_labels).jsonl...\n",
      "Loading /home/pamessina/medvqa-workspace/cache/mimiccxr/openai/gpt-4-1106-preview_fact_based_report_nli_queries(from_labels,v2).jsonl...\n",
      "Loading /home/pamessina/medvqa-workspace/cache/mimiccxr/openai/gpt-4-1106-preview_fact_based_report_nli_queries(from_labels,v3).jsonl...\n",
      "Loading /home/pamessina/medvqa-workspace/cache/mimiccxr/openai/gpt-4-1106-preview_fact_based_report_nli_queries(from_facts).jsonl...\n",
      "Loading /home/pamessina/medvqa-workspace/cache/mimiccxr/openai/gpt-4-1106-preview_fact_based_report_nli_queries(from_facts,v2).jsonl...\n",
      "len(report2labels): 1378\n",
      "Number of skipped pairs: 156891\n",
      "Number of not skipped pairs: 1385\n",
      "Loading /home/pamessina/medvqa-workspace/cache/mimiccxr/integrated_report_facts_metadata(227835,78646269).jsonl...\n",
      "Number of reports with labels: 3288/227835\n",
      "Loading /home/pamessina/medvqa-workspace/cache/mimiccxr/integrated_report_facts(79040140).jsonl...\n",
      "Number of reports with labels: 2022/227835\n",
      "Saving /mnt/workspace/pamessina/medvqa-workspace/cache/mimiccxr_gpt4_representative_facts_assigned_to_reports(hash=953,587644714227321577).pkl...\n",
      "\u001b[1m\u001b[34mDone!\u001b[0m\n"
     ]
    }
   ],
   "source": [
    "!python ../../scripts/mimiccxr/find_pos_neg_neutral_facts_per_report_v2.py \\\n",
    "--task \"assign_gpt4_representative_facts_to_reports\" \\\n",
    "--integrated_report_facts_jsonl_filepaths \\\n",
    "\"/home/pamessina/medvqa-workspace/cache/mimiccxr/integrated_report_facts_metadata(227835,78646269).jsonl\" \\\n",
    "\"/home/pamessina/medvqa-workspace/cache/mimiccxr/integrated_report_facts(79040140).jsonl\" \\\n",
    "--gpt4_report_nli_input_output_jsonl_filepaths \\\n",
    "\"/home/pamessina/medvqa-workspace/cache/mimiccxr/openai/gpt-4-1106-preview_fact_based_report_nli_queries(from_labels).jsonl\" \\\n",
    "\"/home/pamessina/medvqa-workspace/cache/mimiccxr/openai/gpt-4-1106-preview_fact_based_report_nli_queries(from_labels,v2).jsonl\" \\\n",
    "\"/home/pamessina/medvqa-workspace/cache/mimiccxr/openai/gpt-4-1106-preview_fact_based_report_nli_queries(from_labels,v3).jsonl\" \\\n",
    "\"/home/pamessina/medvqa-workspace/cache/mimiccxr/openai/gpt-4-1106-preview_fact_based_report_nli_queries(from_facts).jsonl\" \\\n",
    "\"/home/pamessina/medvqa-workspace/cache/mimiccxr/openai/gpt-4-1106-preview_fact_based_report_nli_queries(from_facts,v2).jsonl\" \\\n",
    "--deduplicated_representative_facts_filepath \\\n",
    "\"/mnt/workspace/pamessina/medvqa-workspace/cache/mimiccxr_deduplicated_representative_facts(hash=460,360882518922904019).pkl\""
   ]
  },
  {
   "cell_type": "code",
   "execution_count": 48,
   "id": "28c6f63d",
   "metadata": {},
   "outputs": [],
   "source": [
    "tmp = load_pickle('/mnt/workspace/pamessina/medvqa-workspace/cache/mimiccxr_gpt4_representative_facts_assigned_to_reports(hash=953,587644714227321577).pkl')"
   ]
  },
  {
   "cell_type": "code",
   "execution_count": 59,
   "id": "815ac775",
   "metadata": {},
   "outputs": [
    {
     "name": "stdout",
     "output_type": "stream",
     "text": [
      "{'right lower lung opacity suggesting pneumonia': 0}\n"
     ]
    }
   ],
   "source": [
    "import random\n",
    "idxs = list(range(len(tmp)))\n",
    "random.shuffle(idxs)\n",
    "for i in idxs:\n",
    "    x = tmp[i]\n",
    "    if len(x):\n",
    "        print(x)\n",
    "        break"
   ]
  },
  {
   "cell_type": "code",
   "execution_count": 67,
   "id": "e3de2b6d",
   "metadata": {},
   "outputs": [
    {
     "name": "stdout",
     "output_type": "stream",
     "text": [
      "Reading /mnt/workspace/pamessina/medvqa-workspace/cache/mimiccxr_deduplicated_representative_facts(hash=460,360882518922904019).pkl...\n",
      "len(representative_facts): 4311\n",
      "Reading /mnt/workspace/pamessina/medvqa-workspace/cache/mimiccxr_assigned_representative_facts_to_reports(hash=474,1880255534079539538).pkl...\n",
      "assigned_representative_fact_idxs.shape: (227835, 100)\n",
      "Reading /home/pamessina/medvqa-workspace/cache/mimiccxr/integrated_report_facts(79040140).jsonl...\n",
      "n_reports: 227835\n",
      "len(unique_sentences): 586352\n",
      "Reading /mnt/workspace/pamessina/medvqa-workspace/cache/mimiccxr_gpt4_representative_facts_assigned_to_reports(hash=953,587644714227321577).pkl...\n",
      "len(r2gpt4qa): 227835\n",
      "ridx_fidx_pairs.shape: (22782723, 2)\n",
      "Number of skipped pairs: 777\n",
      "checkpoint_names = ['checkpoint_91_cacc+chf1+chf1+cscc+encc+hscc+nlcc+sass+spss+ta0)+ta1)+ta2)+ta0)+ta1)+ta2)+ta3)+ta4)+ta5)+ta6)+ta7)=0.9337.pt']\n",
      "  0%|                                                | 0/586352 [00:00<?, ?it/s]Loading cached text embeddings from /mnt/workspace/pamessina/medvqa-workspace/cache/text_embeddings_cache(hash=440,3465006188639683439).pkl\n",
      "len(self.cache[\"hashes\"]) = 4758959\n",
      "self.cache[\"embeddings\"].shape = (4758959, 128)\n",
      "100%|███████████████████████████████| 586352/586352 [00:04<00:00, 121356.81it/s]\n",
      "embeddings.shape: (586352, 128)\n",
      "metadata loaded from /mnt/data/pamessina/workspaces/medvqa-workspace/models/fact_embedding/20240407_173847_NLI(Embedding-based)_EmbeddingBasedNLI(128,512-256-128)/metadata.json\n",
      "Creating model\n",
      "EmbeddingBasedNLI\n",
      "  embedding_dim: 128\n",
      "  mlp_hidden_dims: [512, 256, 128]\n",
      "  dropout: 0.0\n",
      "Loading model weights from /mnt/data/pamessina/workspaces/medvqa-workspace/models/fact_embedding/20240407_173847_NLI(Embedding-based)_EmbeddingBasedNLI(128,512-256-128)\n",
      "checkpoint_names = ['checkpoint_97_nli_acc=0.7780.pt']\n",
      "Loading model weights from /mnt/data/pamessina/workspaces/medvqa-workspace/models/fact_embedding/20240407_173847_NLI(Embedding-based)_EmbeddingBasedNLI(128,512-256-128)/checkpoint_97_nli_acc=0.7780.pt\n",
      "Estimated output memory size: 434.55 MB\n",
      "Computing softmaxes...\n",
      "100%|█████████████████████████████████████| 22783/22783 [21:00<00:00, 18.08it/s]\n",
      "Saving /mnt/workspace/pamessina/medvqa-workspace/cache/mimiccxr_representative_facts_mlp_nli_softmaxes(hash=995,3718617080007681420).pkl...\n",
      "\u001b[1m\u001b[34mDone!\u001b[0m\n"
     ]
    }
   ],
   "source": [
    "!python ../../scripts/mimiccxr/find_pos_neg_neutral_facts_per_report_v2.py \\\n",
    "--task \"compute_mlp_fact_based_nli_softmaxes\" \\\n",
    "--deduplicated_representative_facts_filepath \\\n",
    "\"/mnt/workspace/pamessina/medvqa-workspace/cache/mimiccxr_deduplicated_representative_facts(hash=460,360882518922904019).pkl\" \\\n",
    "--assigned_representative_facts_to_reports_filepath \\\n",
    "\"/mnt/workspace/pamessina/medvqa-workspace/cache/mimiccxr_assigned_representative_facts_to_reports(hash=474,1880255534079539538).pkl\" \\\n",
    "--integrated_report_facts_jsonl_filepath \\\n",
    "\"/home/pamessina/medvqa-workspace/cache/mimiccxr/integrated_report_facts(79040140).jsonl\" \\\n",
    "--report_to_gpt4_qa_filepath \\\n",
    "\"/mnt/workspace/pamessina/medvqa-workspace/cache/mimiccxr_gpt4_representative_facts_assigned_to_reports(hash=953,587644714227321577).pkl\" \\\n",
    "--fact_embedding_model_name \"microsoft/BiomedVLP-CXR-BERT-specialized\" \\\n",
    "--fact_embedding_model_checkpoint_folder_path \\\n",
    "\"/mnt/data/pamessina/workspaces/medvqa-workspace/models/fact_embedding/20240207_184445_MIMIC-CXR(triplets+classif+entcont+nli+radgraph+autoencoder)_FactEncoder(microsoft-BiomedVLP-CXR-BERT-specialized)\" \\\n",
    "--fact_embedding_batch_size 200 \\\n",
    "--fact_embedding_num_workers 4 \\\n",
    "--mlp_batch_size 1000 \\\n",
    "--mlp_num_workers 4 \\\n",
    "--mlp_nli_checkpoint_folder_path \\\n",
    "\"/mnt/data/pamessina/workspaces/medvqa-workspace/models/fact_embedding/20240407_173847_NLI(Embedding-based)_EmbeddingBasedNLI(128,512-256-128)\""
   ]
  },
  {
   "cell_type": "code",
   "execution_count": 68,
   "id": "58bf73a0",
   "metadata": {},
   "outputs": [],
   "source": [
    "tmp = load_pickle('/mnt/workspace/pamessina/medvqa-workspace/cache/mimiccxr_representative_facts_mlp_nli_softmaxes(hash=995,3718617080007681420).pkl')"
   ]
  },
  {
   "cell_type": "code",
   "execution_count": 69,
   "id": "38ba8599",
   "metadata": {},
   "outputs": [
    {
     "data": {
      "text/plain": [
       "dict_keys(['ridx_fidx_pairs', 'softmaxes'])"
      ]
     },
     "execution_count": 69,
     "metadata": {},
     "output_type": "execute_result"
    }
   ],
   "source": [
    "tmp.keys()"
   ]
  },
  {
   "cell_type": "code",
   "execution_count": 71,
   "id": "bdf84089",
   "metadata": {
    "scrolled": true
   },
   "outputs": [
    {
     "data": {
      "text/plain": [
       "array([9.9911290e-01, 5.5084319e-04, 3.3626702e-04], dtype=float32)"
      ]
     },
     "execution_count": 71,
     "metadata": {},
     "output_type": "execute_result"
    }
   ],
   "source": [
    "tmp['softmaxes'][1]"
   ]
  },
  {
   "cell_type": "code",
   "execution_count": 72,
   "id": "82dfcc25",
   "metadata": {},
   "outputs": [],
   "source": [
    "report_facts = load_jsonl(\"/home/pamessina/medvqa-workspace/cache/mimiccxr/integrated_report_facts(79040140).jsonl\")"
   ]
  },
  {
   "cell_type": "code",
   "execution_count": 73,
   "id": "c6daf91b",
   "metadata": {},
   "outputs": [],
   "source": [
    "repr_facts =  load_pickle('/mnt/workspace/pamessina/medvqa-workspace/cache/mimiccxr_deduplicated_representative_facts(hash=460,360882518922904019).pkl')"
   ]
  },
  {
   "cell_type": "code",
   "execution_count": 74,
   "id": "de656678",
   "metadata": {},
   "outputs": [
    {
     "data": {
      "text/plain": [
       "dict_keys(['facts', 'fact_embeddings', 'representative_fact_idxs', 'dedup_representative_fact_idxs'])"
      ]
     },
     "execution_count": 74,
     "metadata": {},
     "output_type": "execute_result"
    }
   ],
   "source": [
    "repr_facts.keys()"
   ]
  },
  {
   "cell_type": "code",
   "execution_count": 77,
   "id": "c841b2aa",
   "metadata": {
    "scrolled": true
   },
   "outputs": [
    {
     "name": "stdout",
     "output_type": "stream",
     "text": [
      "small bilateral pleural effusions. clear lungs. lungs without focal consolidation. lungs without edema. mild cardiomegaly. atherosclerotic calcifications of the aortic arch. compression deformity in the mid thoracic spine. compression deformity similar to prior\n",
      "\n",
      "Entailment:\n",
      "\tno significant lung abnormalities\n",
      "\tmoderate pleural effusions in the bilateral\n",
      "\twedge compression fracture in the T12 vertebral body\n",
      "\tmoderate size of the pleural effusion\n",
      "\twedge deformity of the midthoracic vertebrae\n",
      "\tatherosclerotic calcifications of the aorta\n",
      "\tunchanged evidence of mild cardiomegaly\n",
      "\tno effusion in the lungs\n",
      "\tstable compression fracture deformities of the thoracic spine\n",
      "\tslightly increased cardiac silhouette\n",
      "\tunchanged mild enlargement of the cardiac silhouette\n",
      "\tcompression deformities in the spine\n",
      "\tcompression deformities of the lumbar spine\n",
      "\tsmall accompanying pleural effusion\n",
      "\tcompression fracture of the T12 vertebra is stable\n",
      "\tsuggestive of tiny pleural effusions\n",
      "\tsevere compression deformity of the lower thoracic spine is unchanged\n",
      "\tsmall amount of bilateral effusions\n",
      "\tchronic appearance of the compression deformity\n",
      "\theart size above normal\n",
      "\tlungs with no evidence of effusion\n",
      "\tlungs with no evidence of focal consolidation\n",
      "\tlungs without evidence of consolidation\n",
      "\tlungs without evidence of pneumonia\n",
      "\tlungs without evidence of pulmonary edema\n",
      "\tlungs with no lesions identified\n",
      "\tincrease in mild cardiomegaly\n",
      "\tbilateral pleural effusions of mild-to-moderate extent\n",
      "\tclear remainder of the lungs\n",
      "\tsuspected very small pleural effusions\n",
      "\tmild to moderate enlargement of the heart\n",
      "\tno focal consolidation of the lungs\n",
      "\tno focal opacity in the lungs\n",
      "\tnormal appearance of the lung parenchyma\n",
      "\tnormal lungs in the chest\n",
      "\tsignificant calcifications of the aortic arch\n",
      "\tincrease in the size of the heart\n",
      "\tprominent calcifications of the aortic knob\n",
      "\tsignificant increase in the size of the cardiac silhouette\n",
      "\tcalcification of the wall of the aortic arch\n",
      "\tsmall size of pleural effusions\n",
      "\telement of edema unlikely\n",
      "\tcalcifications in the wall of the aorta at the level of the arch\n",
      "\tcalcifications of the aortic annulus\n",
      "\tmoderate atherosclerotic calcifications of the aortic arch\n",
      "\tmild calcifications of the aortic arch\n",
      "\tmild compression deformity in the mid thoracic spine\n",
      "\tevidence of moderate-to-severe pulmonary edema\n",
      "\tno evidence of pneumonia in the lung\n",
      "\tminimal increase in extent of the pleural effusions\n",
      "\tpersistence of potentially organized pleural effusions\n",
      "\tcoinciding atelectasis in the lower lungs\n",
      "\tpresence of a right effusion\n",
      "Contradiction:\n",
      "\tchronic compression deformities of the T-spine\n",
      "\tmild loss of the height of a mid thoracic vertebral body\n",
      "\tchronic compression deformity of the lower thoracic spine\n",
      "\tpoor definition of the outer aspect of the left heart border\n",
      "\tevidence of right basilar atelectasis\n",
      "\tstreaky opacities in the right midlung\n",
      "\tpositional differences of the patient given the recency of the prior exam\n",
      "\tfocal opacities within the periphery of the left lung base\n",
      "\tarea of the previous pneumonia\n",
      "\tsmall volume of pneumoperitoneum beneath the right hemidiaphragm\n",
      "\tsuggestive of pulmonary hypertension\n",
      "\tno significant change in the left lower lobe volume loss\n",
      "\tincreased pleural effusion in the left lung\n",
      "\ttips extending along the epicardium at the level of the left atrium\n",
      "\tsuggestive of necrotic mass of the lesion\n",
      "\tno evidence of pneumoretroperitoneum\n",
      "\tpleural effusion more on the left than the right\n",
      "\tfollowup of the left lung opacity\n",
      "\tevidence of chronic interstitial lung disease\n",
      "\tsmall region of atelectasis at the base of the left lung\n",
      "\tno change in the bibasilar atelectasis\n",
      "\tnodule on the lateral view\n",
      "\tpoor definition of the lumens of central bronchi\n",
      "\textensive subcutaneous emphysema of the chest wall\n",
      "\tinterstitial abnormalities in the patient's severe emphysema\n",
      "\tdense opacification of the right lung\n",
      "\tprogression of multifocal consolidations in the left lung since the prior study\n",
      "\tworsening in the mild pulmonary edema\n",
      "\tsmall region of consolidation\n",
      "\tno convincing evidence of the presence of rib fractures\n",
      "Neutral:\n",
      "\ttermination of tracheostomy tube in the trachea\n",
      "\tabnormality suggestive of pneumonia\n",
      "\tfeeding tube should be advanced approximately 10 cm to move the well into the stomach\n",
      "\tright IJ central venous catheter ends in the lower SVC\n",
      "\tleft-sided PICC line terminates in the satisfactory position\n",
      "\tprogression of consolidation in the right upper lobe\n",
      "\tsmall bowel obstruction seen on the CT of the abdomen\n",
      "\tcurvilinear opacity in the right midlung\n",
      "\tcomparison to the next preceding chest examination\n",
      "\tsuggesting the presence of pneumonia\n",
      "\tpossible mild blunting of the right lateral pleural sinus\n",
      "\tasymmetric perihilar opacities on the right\n",
      "\trounded radiopaque densities in the left upper quadrant of the abdomen\n",
      "\tno change in loculated right pleural effusion\n",
      "\tno change in the position of the right Port-A-Cath\n",
      "\tfractures of the right posterior second rib\n",
      "\tabnormalities of the right humeral head\n"
     ]
    }
   ],
   "source": [
    "q = 10\n",
    "found = False\n",
    "idxs = []\n",
    "for i, (ridx, fidx) in enumerate(tmp['ridx_fidx_pairs']):\n",
    "    if ridx == q:\n",
    "        found = True\n",
    "        idxs.append(i)\n",
    "    elif found:\n",
    "        break\n",
    "        \n",
    "e = []\n",
    "n = []\n",
    "c = []\n",
    "for i,  p in enumerate(tmp['softmaxes'][idxs].argmax(-1)):\n",
    "    fidx = tmp['ridx_fidx_pairs'][idxs[i]][1]\n",
    "    f = repr_facts['facts'][repr_facts['dedup_representative_fact_idxs'][fidx]]\n",
    "    if p == 0:\n",
    "        e.append(f)\n",
    "    elif p == 1:\n",
    "        n.append(f)\n",
    "    elif p == 2:\n",
    "        c.append(f)\n",
    "    else: assert False\n",
    "\n",
    "print(report_facts[q]['fact_based_report'])\n",
    "print()\n",
    "if e:\n",
    "    print('Entailment:')\n",
    "    for x in e:\n",
    "        print(f'\\t{x}')\n",
    "if c:\n",
    "    print('Contradiction:')\n",
    "    for x in c:\n",
    "        print(f'\\t{x}')\n",
    "if n:\n",
    "    print('Neutral:')\n",
    "    for x in n:\n",
    "        print(f'\\t{x}')"
   ]
  },
  {
   "cell_type": "code",
   "execution_count": 79,
   "id": "4ffcb845",
   "metadata": {},
   "outputs": [
    {
     "name": "stdout",
     "output_type": "stream",
     "text": [
      "Reading /mnt/workspace/pamessina/medvqa-workspace/cache/mimiccxr_deduplicated_representative_facts(hash=460,360882518922904019).pkl...\n",
      "len(representative_facts): 4311\n",
      "Reading /mnt/workspace/pamessina/medvqa-workspace/cache/mimiccxr_assigned_representative_facts_to_reports(hash=474,1880255534079539538).pkl...\n",
      "assigned_representative_fact_idxs.shape: (227835, 100)\n",
      "Reading /home/pamessina/medvqa-workspace/cache/mimiccxr/integrated_report_facts(79040140).jsonl...\n",
      "n_reports: 227835\n",
      "Reading /mnt/workspace/pamessina/medvqa-workspace/cache/mimiccxr_gpt4_representative_facts_assigned_to_reports(hash=953,587644714227321577).pkl...\n",
      "len(r2gpt4qa): 227835\n",
      "Number of skipped pairs: 777\n",
      "Processing part 1/2 with 11391362 pairs...\n",
      "len(input_texts): 11391362\n",
      "Estimated input_texts memory size: 4352.24 MB\n",
      "Example sentences to process:\n",
      "4516398: NLI1: PA view of the chest provided. lateral view of the chest provided. overlying EKG lead limits assessment. clear lungs bilaterally. no signs of pneumonia. no signs of edema. no large effusion. no pneumothorax. mild elevation of the right hemidiaphragm. normal cardiomediastinal silhouette. intact bony structures. no free air below the right hemidiaphragm. no acute intrathoracic process #H: extensive bilateral airspace opacities\n",
      "9706965: NLI1: patient has been extubated. patient has an in. nasogastric tube has been removed. interval improvement in left retrocardiac atelectasis #H: right IJ catheter is no longer seen\n",
      "843401: NLI1: no change in position of the leads in the right atrium. no change in position of the leads in the right ventricle. no evidence of pneumothorax. borderline size of the cardiac silhouette. mild retrocardiac atelectasis. no edema. no pleural effusion #H: right pacemaker leads unchanged and normal in appearance\n",
      "3443270: NLI1: reviewed PA upright chest radiograph. reviewed lateral upright chest radiograph. no prior studies available for comparison. normal heart size. prominence of the left atrial appendage. possible left atrial enlargement. no other signs of left atrial enlargement. clear lungs. no pleural effusion. no pneumothorax #H: possible confluence of shadows in the right mid lung\n",
      "9996969: NLI1: comparison with prior chest radiographs. comparison with chest radiographs most recently. fully expanded lungs. clear lungs. normal cardiomediastinal silhouette. normal hilar silhouette. normal pleural surfaces #H: lungs with no evidence of focal consolidation\n",
      "8531810: NLI1: status post median sternotomy. cardiac valve replacement. nasogastric tube coursing below the diaphragm. nasogastric tube terminating in the left upper quadrant. hyperinflated lungs. flattening of the diaphragms. chronic obstructive pulmonary disease. persistent relative opacity over the lateral right mid to lower lung. opacity related to chronic lung disease/scarring. opacity not excluding early infectious process. enlarged cardiac silhouette. stable mediastinal contours #H: poor definition of the outer aspect of the left heart border\n",
      "1781752: NLI1: normal heart size. normal mediastinal contours. normal hilar contours. normal pulmonary vasculature. clear lungs. no pleural effusion. no pneumothorax. no acute osseous abnormalities. no acute cardiopulmonary abnormality #H: no suggestion of TRALI/TACO in the pulmonary\n",
      "1759686: NLI1: external monitor traverses the mediastinum. external monitor partially obscures the left apex. low lung volumes. clear visualized lungs. prominent vascularity in the right hilus. lymphadenopathy in the right hilus. no pneumothorax. magnified heart. magnified mediastinum. aortic arch calcifications. mild prominence of the right hilus #H: subtotal opacity of the left hemithorax\n",
      "1105762: NLI1: fully expanded lungs. clear lungs. normal cardiomediastinal silhouette. normal hilar silhouette. normal pleural surfaces #H: no significant lung abnormalities\n",
      "5242613: NLI1: resolved asymmetric pulmonary edema. unchanged left pleural thickening following left thoracotomy and rib resection. volume loss from prior lobectomy. persistent leftward mediastinal shift. hyperinflated right lung. compensation emphysema in the right lung. clear of any focal abnormality in the right lung. normal heart size. no findings to suggest pneumonia #H: chole projecting over the expected location of the right atrium\n",
      "metadata loaded from /mnt/data/pamessina/workspaces/medvqa-workspace/models/seq2seq/20240407_162203_multitask(nli+mlm)_Seq2Seq(facebook-bart-base)/metadata.json\n",
      "Creating Seq2SeqModel\n",
      "Seq2Seq model:\n",
      "  model_name: facebook/bart-base\n",
      "Loading model weights from /mnt/data/pamessina/workspaces/medvqa-workspace/models/seq2seq/20240407_162203_multitask(nli+mlm)_Seq2Seq(facebook-bart-base)\n",
      "checkpoint_names = ['checkpoint_45_exact_match+s2s_loss=0.8742.pt']\n",
      "Loading model weights from /mnt/data/pamessina/workspaces/medvqa-workspace/models/seq2seq/20240407_162203_multitask(nli+mlm)_Seq2Seq(facebook-bart-base)/checkpoint_45_exact_match+s2s_loss=0.8742.pt\n",
      "Creating tokenizer\n",
      "Creating dataloader\n",
      "Running inference\n",
      "  0%|                                                | 0/113914 [00:00<?, ?it/s]Processed 1 sentences\n",
      "Example output:\n",
      "0\n",
      "  0%|                                     | 47/113914 [00:10<6:19:55,  5.00it/s]Processed 5001 sentences\n",
      "Example output:\n",
      "2\n",
      "  0%|                                     | 90/113914 [00:19<6:18:10,  5.02it/s]Processed 10001 sentences\n",
      "Example output:\n",
      "0\n",
      "  0%|                                    | 144/113914 [00:29<6:10:44,  5.11it/s]Processed 15001 sentences\n",
      "Example output:\n",
      "0\n",
      " 67%|█████████████████████▍          | 76112/113914 [4:58:46<2:23:41,  4.38it/s]"
     ]
    },
    {
     "name": "stderr",
     "output_type": "stream",
     "text": [
      "IOPub message rate exceeded.\n",
      "The notebook server will temporarily stop sending output\n",
      "to the client in order to avoid crashing it.\n",
      "To change this limit, set the config variable\n",
      "`--NotebookApp.iopub_msg_rate_limit`.\n",
      "\n",
      "Current values:\n",
      "NotebookApp.iopub_msg_rate_limit=1000.0 (msgs/sec)\n",
      "NotebookApp.rate_limit_window=3.0 (secs)\n",
      "\n"
     ]
    }
   ],
   "source": [
    "!python ../../scripts/mimiccxr/find_pos_neg_neutral_facts_per_report_v2.py \\\n",
    "--task \"compute_bart_fact_based_nli_predictions\" \\\n",
    "--deduplicated_representative_facts_filepath \\\n",
    "\"/mnt/workspace/pamessina/medvqa-workspace/cache/mimiccxr_deduplicated_representative_facts(hash=460,360882518922904019).pkl\" \\\n",
    "--assigned_representative_facts_to_reports_filepath \\\n",
    "\"/mnt/workspace/pamessina/medvqa-workspace/cache/mimiccxr_assigned_representative_facts_to_reports(hash=474,1880255534079539538).pkl\" \\\n",
    "--integrated_report_facts_jsonl_filepath \\\n",
    "\"/home/pamessina/medvqa-workspace/cache/mimiccxr/integrated_report_facts(79040140).jsonl\" \\\n",
    "--report_to_gpt4_qa_filepath \\\n",
    "\"/mnt/workspace/pamessina/medvqa-workspace/cache/mimiccxr_gpt4_representative_facts_assigned_to_reports(hash=953,587644714227321577).pkl\" \\\n",
    "--bart_checkpoint_folder_path \\\n",
    "\"/mnt/data/pamessina/workspaces/medvqa-workspace/models/seq2seq/20240407_162203_multitask(nli+mlm)_Seq2Seq(facebook-bart-base)\" \\\n",
    "--bart_batch_size 100 \\\n",
    "--bart_num_workers 4 \\\n",
    "--part_x_of_y 0 2"
   ]
  },
  {
   "cell_type": "code",
   "execution_count": 80,
   "id": "96bac321",
   "metadata": {},
   "outputs": [],
   "source": [
    "from medvqa.utils.files import list_filepaths_with_prefix_and_timestamps"
   ]
  },
  {
   "cell_type": "code",
   "execution_count": 87,
   "id": "4890113d",
   "metadata": {},
   "outputs": [
    {
     "data": {
      "text/plain": [
       "[('/mnt/workspace/pamessina/medvqa-workspace/cache/mimiccxr_representative_facts_bart_nli_predictions(1_2)(hash=714,782886583103824837).pkl',\n",
       "  '2024-04-22 07:21:28'),\n",
       " ('/mnt/workspace/pamessina/medvqa-workspace/cache/mimiccxr_representative_facts_mlp_nli_softmaxes(hash=995,3718617080007681420).pkl',\n",
       "  '2024-04-21 22:18:26'),\n",
       " ('/mnt/workspace/pamessina/medvqa-workspace/cache/mimiccxr_assigned_representative_facts_to_reports(hash=474,1880255534079539538).pkl',\n",
       "  '2024-04-21 21:42:31'),\n",
       " ('/mnt/workspace/pamessina/medvqa-workspace/cache/mimiccxr_gpt4_representative_facts_assigned_to_reports(hash=953,587644714227321577).pkl',\n",
       "  '2024-04-21 20:04:59'),\n",
       " ('/mnt/workspace/pamessina/medvqa-workspace/cache/mimiccxr_gpt4_label_based_facts_assigned_to_reports(hash=950,1850545234276111994).pkl',\n",
       "  '2024-04-21 19:59:53'),\n",
       " ('/mnt/workspace/pamessina/medvqa-workspace/cache/mimiccxr_k_most_similar_representative_facts(hash=257,81001370560698666).pkl',\n",
       "  '2024-04-21 16:13:04'),\n",
       " ('/mnt/workspace/pamessina/medvqa-workspace/cache/mimiccxr_deduplicated_representative_facts(hash=460,360882518922904019).pkl',\n",
       "  '2024-04-21 10:38:10'),\n",
       " ('/mnt/workspace/pamessina/medvqa-workspace/cache/mimiccxr_label_based_facts_integrated_nli_predictions(hash=739,3322246754106464866).pkl',\n",
       "  '2024-04-20 21:06:33'),\n",
       " ('/mnt/workspace/pamessina/medvqa-workspace/cache/mimiccxr_label_based_facts_bart_nli_predictions(2_2)(hash=2588,1571788838867977526).pkl',\n",
       "  '2024-04-20 21:03:33'),\n",
       " ('/mnt/workspace/pamessina/medvqa-workspace/cache/mimiccxr_label_based_facts_bart_nli_predictions(2_2)(hash=2588,1571788838867977526)__backup.pkl',\n",
       "  '2024-04-20 21:03:10')]"
      ]
     },
     "execution_count": 87,
     "metadata": {},
     "output_type": "execute_result"
    }
   ],
   "source": [
    "list_filepaths_with_prefix_and_timestamps(\"/mnt/workspace/pamessina/medvqa-workspace/cache/\")[:10]"
   ]
  },
  {
   "cell_type": "code",
   "execution_count": 83,
   "id": "c399b1ef",
   "metadata": {},
   "outputs": [],
   "source": [
    "tmp = load_pickle('/mnt/workspace/pamessina/medvqa-workspace/cache/mimiccxr_representative_facts_bart_nli_predictions(1_2)(hash=714,782886583103824837).pkl')"
   ]
  },
  {
   "cell_type": "code",
   "execution_count": 84,
   "id": "a464d9d9",
   "metadata": {},
   "outputs": [
    {
     "data": {
      "text/plain": [
       "dict_keys(['ridx_fidx_pairs', 'predictions'])"
      ]
     },
     "execution_count": 84,
     "metadata": {},
     "output_type": "execute_result"
    }
   ],
   "source": [
    "tmp.keys()"
   ]
  },
  {
   "cell_type": "code",
   "execution_count": 88,
   "id": "aacb1ff0",
   "metadata": {
    "scrolled": false
   },
   "outputs": [
    {
     "name": "stdout",
     "output_type": "stream",
     "text": [
      "comparison with prior chest radiographs. comparison with most recently. severe infiltrative pulmonary abnormality improved. severe pulmonary fibrosis remains. severe pulmonary fibrosis has worsened. small pleural effusions. heart not enlarged. no pneumothorax. ET tube in standard placement. esophageal drainage tube passes into the stomach. esophageal drainage tube out of view. left internal jugular line ends at the thoracic inlet\n",
      "\n",
      "Entailment:\n",
      "\tendotracheal tube tip terminates at the level of the thoracic inlet\n",
      "\tscarring of the lung parenchyma\n",
      "\tcardiac silhouette within normal\n",
      "\tno enlargement of the heart\n",
      "\tno evidence of acute cardiopulmonary\n",
      "\tcomponent of effusion\n",
      "\tstable position of the endotracheal tube\n",
      "\tET tube in the appropriate position\n",
      "\tsmall accompanying pleural effusion\n",
      "\tesophageal catheter terminates in the body of the stomach\n",
      "\tsuggestive of tiny pleural effusions\n",
      "\tsmall amount of bilateral effusions\n",
      "\tno evidence of procedure pneumothorax\n",
      "\tnasogastric drainage tube passing into the non-distended stomach\n",
      "\tdemonstration of fibrosing chronic interstitial lung disease\n",
      "\tincrease in severity of the pre-existing combination of pneumonia\n",
      "\tworsening of the interstitial lung disease\n",
      "\tevidence of widespread pulmonary fibrosis\n",
      "\tno pleural pneumothorax\n",
      "\tsmall size of pleural effusions\n",
      "\textensive involvement of the lungs by interstitial fibrosis\n",
      "\tsuggesting underlying fibrosis in the lungs\n",
      "Contradiction:\n",
      "\timprovement in the widespread parenchymal opacities\n",
      "\tcomparison with the prior exam\n",
      "\tno abnormalities of the heart\n",
      "\tno evidence of effusion\n",
      "\tleft internal jugular catheter terminates in the region of the high SVC\n",
      "\ttip of the left internal jugular central line in the proximal SVC\n",
      "\tesophageal tube ending in the low esophagus\n",
      "\tesophageal drainage tube ends in the upper portion of the stomach\n",
      "\ttransient improvement in the diffuse severe consolidative pulmonary abnormality\n",
      "\ttube following the course of the esophagus\n",
      "\tnormal unchanged appearance of the cardiac silhouette\n",
      "\tsigns of pulmonary edema substantially increased in severity\n",
      "\tinterval improvement in the multifocal opacities scattered throughout the lungs\n",
      "\tno clear explanation in the chest\n",
      "\tleft IJ catheter ends in the upper SVC\n",
      "\timprovement in bilateral diffuse opacities\n",
      "\tinterval improvement of the bilateral lung opacities\n",
      "Neutral:\n",
      "\tcomparison with the outside film\n",
      "\tcomparison with the preoperative study\n",
      "\tcomparison with the study performed three hours earlier\n",
      "\tfeeding tube with the tip of the wire stylet in the stomach\n",
      "\tDobbhoff tube in the distal esophagus\n",
      "\tET tube in appropriate position 3.8 cm of the carina\n",
      "\tstandard position of the orogastric tube\n",
      "\ttip of the Dobbhoff tube in the lower esophagus\n",
      "\tno significant change in the bilateral interstitial pulmonary edema\n",
      "\tcompared to the chest radiograph\n",
      "\tcomparison to the next preceding chest examination\n",
      "\tsubtle nodular opacity in the region of the right upper lobe\n",
      "\tdistorted pattern of the pulmonary vasculature in the right hemithorax\n"
     ]
    }
   ],
   "source": [
    "q = 113917\n",
    "found = False\n",
    "idxs = []\n",
    "for i, (ridx, lidx) in enumerate(tmp['ridx_fidx_pairs']):\n",
    "    if ridx == q:\n",
    "        found = True\n",
    "        idxs.append(i)\n",
    "    elif found:\n",
    "        break\n",
    "e = []\n",
    "n = []\n",
    "c = []\n",
    "for idx in idxs:\n",
    "    p = tmp['predictions'][idx]\n",
    "    fidx = tmp['ridx_fidx_pairs'][idx, 1]\n",
    "    f = repr_facts['facts'][repr_facts['dedup_representative_fact_idxs'][fidx]]\n",
    "    if p == 0:\n",
    "        e.append(f)\n",
    "    elif p == 1:\n",
    "        n.append(f)\n",
    "    elif p == 2:\n",
    "        c.append(f)\n",
    "    else: assert False\n",
    "\n",
    "print(report_facts[q]['fact_based_report'])\n",
    "print()\n",
    "if e:\n",
    "    print('Entailment:')\n",
    "    for x in e:\n",
    "        print(f'\\t{x}')\n",
    "if c:\n",
    "    print('Contradiction:')\n",
    "    for x in c:\n",
    "        print(f'\\t{x}')\n",
    "if n:\n",
    "    print('Neutral:')\n",
    "    for x in n:\n",
    "        print(f'\\t{x}')"
   ]
  },
  {
   "cell_type": "code",
   "execution_count": 93,
   "id": "19fa8962",
   "metadata": {},
   "outputs": [
    {
     "name": "stdout",
     "output_type": "stream",
     "text": [
      "Reading /mnt/workspace/pamessina/medvqa-workspace/cache/mimiccxr_gpt4_representative_facts_assigned_to_reports(hash=953,587644714227321577).pkl...\n",
      "Reading /mnt/workspace/pamessina/medvqa-workspace/cache/mimiccxr_representative_facts_mlp_nli_softmaxes(hash=995,3718617080007681420).pkl...\n",
      "Reading /mnt/workspace/pamessina/medvqa-workspace/cache/mimiccxr_representative_facts_bart_nli_predictions(1_2)(hash=714,782886583103824837).pkl...\n",
      "Reading /mnt/workspace/pamessina/medvqa-workspace/cache/mimiccxr_representative_facts_bart_nli_predictions(2_2)(hash=714,4113910067759365331).pkl...\n",
      "Reading /mnt/workspace/pamessina/medvqa-workspace/cache/mimiccxr_assigned_representative_facts_to_reports(hash=474,1880255534079539538).pkl...\n",
      "assigned_representative_fact_idxs.shape: (227835, 100)\n",
      "Reading /mnt/workspace/pamessina/medvqa-workspace/cache/mimiccxr_deduplicated_representative_facts(hash=460,360882518922904019).pkl...\n",
      "Reading /home/pamessina/medvqa-workspace/cache/report_nli_hybrid_metadata(hash=1011,1136468267405569803).pkl...\n",
      "100%|███████████████████████████| 22782723/22782723 [02:57<00:00, 128510.99it/s]\n",
      "Number of skipped pairs: 2593 (not skipped: 777)\n",
      "Saving /mnt/workspace/pamessina/medvqa-workspace/cache/mimiccxr_fact_based_integrated_nli_predictions(hash=997,3191870595512725333).pkl...\n",
      "\u001b[1m\u001b[34mDone!\u001b[0m\n"
     ]
    }
   ],
   "source": [
    "!python ../../scripts/mimiccxr/find_pos_neg_neutral_facts_per_report_v2.py \\\n",
    "--task \"compute_hybrid_fact_based_nli_predictions\" \\\n",
    "--assigned_representative_facts_to_reports_filepath \\\n",
    "\"/mnt/workspace/pamessina/medvqa-workspace/cache/mimiccxr_assigned_representative_facts_to_reports(hash=474,1880255534079539538).pkl\" \\\n",
    "--deduplicated_representative_facts_filepath \\\n",
    "\"/mnt/workspace/pamessina/medvqa-workspace/cache/mimiccxr_deduplicated_representative_facts(hash=460,360882518922904019).pkl\" \\\n",
    "--gpt4_representative_facts_assigned_to_reports_filepath \\\n",
    "\"/mnt/workspace/pamessina/medvqa-workspace/cache/mimiccxr_gpt4_representative_facts_assigned_to_reports(hash=953,587644714227321577).pkl\" \\\n",
    "--representative_facts_bart_nli_predictions_filepaths \\\n",
    "\"/mnt/workspace/pamessina/medvqa-workspace/cache/mimiccxr_representative_facts_bart_nli_predictions(1_2)(hash=714,782886583103824837).pkl\" \\\n",
    "\"/mnt/workspace/pamessina/medvqa-workspace/cache/mimiccxr_representative_facts_bart_nli_predictions(2_2)(hash=714,4113910067759365331).pkl\" \\\n",
    "--representative_facts_mlp_nli_softmaxes_filepath \\\n",
    "\"/mnt/workspace/pamessina/medvqa-workspace/cache/mimiccxr_representative_facts_mlp_nli_softmaxes(hash=995,3718617080007681420).pkl\" \\\n",
    "--report_nli_hybrid_metadata_filepath \\\n",
    "\"/home/pamessina/medvqa-workspace/cache/report_nli_hybrid_metadata(hash=1011,1136468267405569803).pkl\""
   ]
  },
  {
   "cell_type": "code",
   "execution_count": 106,
   "id": "3252182d",
   "metadata": {},
   "outputs": [],
   "source": [
    "tmp = load_pickle('/mnt/workspace/pamessina/medvqa-workspace/cache/mimiccxr_fact_based_integrated_nli_predictions(hash=997,3191870595512725333).pkl')"
   ]
  },
  {
   "cell_type": "code",
   "execution_count": 107,
   "id": "2e174522",
   "metadata": {},
   "outputs": [
    {
     "data": {
      "text/plain": [
       "dict_keys(['nli_predictions', 'nli_method_ids', 'nli_method_id_to_name', 'nli_prediction_to_name', 'hybrid_metadata'])"
      ]
     },
     "execution_count": 107,
     "metadata": {},
     "output_type": "execute_result"
    }
   ],
   "source": [
    "tmp.keys()"
   ]
  },
  {
   "cell_type": "code",
   "execution_count": 108,
   "id": "b3978422",
   "metadata": {},
   "outputs": [
    {
     "data": {
      "text/plain": [
       "(227835, 100)"
      ]
     },
     "execution_count": 108,
     "metadata": {},
     "output_type": "execute_result"
    }
   ],
   "source": [
    "tmp['nli_predictions'].shape"
   ]
  },
  {
   "cell_type": "code",
   "execution_count": 97,
   "id": "4aab7d4c",
   "metadata": {},
   "outputs": [],
   "source": [
    "assigned_repr_facts = load_pickle(\"/mnt/workspace/pamessina/medvqa-workspace/cache/mimiccxr_assigned_representative_facts_to_reports(hash=474,1880255534079539538).pkl\")"
   ]
  },
  {
   "cell_type": "code",
   "execution_count": 98,
   "id": "79ca5273",
   "metadata": {},
   "outputs": [
    {
     "data": {
      "text/plain": [
       "dict_keys(['assigned_representative_fact_idxs'])"
      ]
     },
     "execution_count": 98,
     "metadata": {},
     "output_type": "execute_result"
    }
   ],
   "source": [
    "assigned_repr_facts.keys()"
   ]
  },
  {
   "cell_type": "code",
   "execution_count": 103,
   "id": "cfe41aec",
   "metadata": {
    "scrolled": false
   },
   "outputs": [
    {
     "name": "stdout",
     "output_type": "stream",
     "text": [
      "enlarged heart. unremarkable mediastinal contours. aorta is unfolded. aorta is tortuous. well inflated lungs. lungs without evidence of focal airspace consolidation. lungs without evidence of pneumonia. no pleural effusions. no pneumothorax. no evidence of pulmonary edema. mild eventration of the right hemidiaphragm\n",
      "\n",
      "Entailment:\n",
      "\tunchanged eventration of the right hemidiaphragm\n",
      "\tno substantial accumulation of the pleural effusion\n",
      "\tmoderate tortuosity of the aorta\n",
      "\twell-aerated lungs\n",
      "\tno evidence of advanced alveolar edema in the pulmonary vasculature\n",
      "\twidening of the cardiac contour\n",
      "\taorta is tortuous in course\n",
      "\tno evidence of atelectasis\n",
      "\tno evidence of congestion\n",
      "\tno evidence of effusion\n",
      "\tno vascular congestion in the mediastinum\n",
      "\tno appreciable pleural effusion anteriorly placed\n",
      "\tno cardiomegaly in the mediastinum\n",
      "\tno evidence of increased effusion\n",
      "\tno evidence of interstitial edema\n",
      "\tEventration of the posterior aspect of the right hemidiaphragm\n",
      "\theart size above normal\n",
      "\tfindings on the background of severe cardiomegaly\n",
      "\tdilatation of the aorta\n",
      "\tlungs with no evidence of focal consolidation\n",
      "\tlungs with no lesions identified\n",
      "\tlungs without evidence of consolidation\n",
      "\tlungs without evidence of pneumonia\n",
      "\tno evidence of pneumonia in the lung\n",
      "\tlungs without evidence of pulmonary edema\n",
      "\tno evidence of procedure pneumothorax\n",
      "\ttortuosity of the aortic contour\n",
      "\tpossible eventration of the right hemidiaphragm\n",
      "\tnormal appearance of the cardiomediastinal silhouette\n",
      "\tpartial eventration of the hemidiaphragm on the right\n",
      "\tnormal appearance of the mediastinum\n",
      "\tincrease in the size of the heart\n",
      "\thyperexpansion of the cardiac silhouette\n",
      "\tno minimal pleural effusion\n",
      "\tunlikely representation of pulmonary edema in the vessels\n",
      "\tno pleural pneumothorax\n",
      "\tno current edema in the lungs\n",
      "\textensive tortuosity of the thoracic aorta\n",
      "Contradiction:\n",
      "\tno clear explanation in the chest\n",
      "\tworsened peripheral areas of consolidation in the periphery of the right mid lung\n",
      "\tOpacity in the RML\n",
      "\tmultifocal airspace opacities throughout the lungs bilaterally\n",
      "\tlucency in the upper mediastinum at the thoracic inlet\n",
      "\thazy opacification at the left\n",
      "\tpossible blunting of the costophrenic angle on the left\n",
      "\tdecrease in severity of the opacities on the right\n",
      "\tincreased opacification of the left lower lobe\n",
      "\tincreased atelectasis in the right base\n",
      "\tblunting of the cardiophrenic angles on the right\n",
      "\tincreased density of the bilateral lungs\n",
      "\tground-glass opacities throughout the lungs bilaterally\n",
      "\tdifficult diagnosis of superimposed pneumonia\n",
      "\tunchanged biapical pleural thickening from the day before\n",
      "\tincreased opacity of the left lung\n",
      "\tpatchy opacity in the right PAs\n",
      "\tstreaky opacities in the lung bases bilaterally\n",
      "\tconsolidative opacity of the right lower lobe\n",
      "\tsmall pleural effusion in the right costophrenic angle\n",
      "\tpatchy opacities throughout the lungs bilaterally\n",
      "\tleft pleural effusion is smaller\n",
      "Neutral:\n",
      "\tchronic fracture of the right clavicle\n",
      "\tAICD in the left chest\n",
      "\tplacement of right IJ catheter\n",
      "\ttip of the right PICC line extends to the superior cavoatrial junction\n",
      "\ttube needs to be advanced several centimeters\n",
      "\tsoft tissue densities along the line of radiation fibrotic changes\n",
      "\tSwan-Ganz catheter in the expected location of the right interlobar pulmonary artery\n",
      "\tcompatible with the patient's primary diagnosis of myeloma\n",
      "\tright PICC terminates in the upper right atrium\n",
      "Undecided:\n",
      "\timprovement in the aeration of the lung bases\n",
      "\tno abnormality in the retrosternal space\n",
      "\tbetter aeration of the left lower lung\n",
      "\tsevere enlargement of the cardiac silhouette\n",
      "\ttortuosity of the aorta is unchanged\n",
      "\tnormal lungs in the chest\n",
      "\tmediastinal contours in the midline\n",
      "\tobscuration of the right diaphragm\n",
      "\tdeviation of the aorta\n",
      "\timproved interval aeration of the lungs\n",
      "\timproved ventilation of the lung\n",
      "\tright chest tube terminating in the right apical region\n",
      "\thardware in the thoracic spine\n",
      "\tirregularity of the trachea\n",
      "\tmild improvement in the retrocardiac opacity\n",
      "\tknown lymphadenopathy in the setting of lymphoma\n",
      "\tpossible crowding of vessels\n",
      "\tdrainage catheter at the base of the lung\n",
      "\topacities unchanged from the chest CT\n",
      "\tmild improvement in the degree of atelectasis at the left base\n",
      "\tcalcifications over the lung apices\n",
      "\tno abnormalities of the heart\n",
      "\tfibrotic changes seen on the frontal view\n",
      "\treplacement of the mitral valve\n",
      "\tincreased crowding of the pulmonary vasculature\n",
      "\tunclear significance of the lobulated contour\n",
      "\tresolution of the right apical pneumothorax\n",
      "\tmoderate effusion at the base of the right lung\n",
      "\tlung nodules visualized on the prior CT\n",
      "\tknown mass in the left hilar\n",
      "\tno change in the pulmonary edema\n"
     ]
    }
   ],
   "source": [
    "q = -10\n",
    "e = []\n",
    "n = []\n",
    "c = []\n",
    "u = []\n",
    "\n",
    "for i, idx in enumerate(assigned_repr_facts['assigned_representative_fact_idxs'][q]):\n",
    "    p = tmp['nli_predictions'][q, i]\n",
    "    f = repr_facts['facts'][repr_facts['dedup_representative_fact_idxs'][idx]]\n",
    "    if p == 0:\n",
    "        e.append(f)\n",
    "    elif p == 1:\n",
    "        n.append(f)\n",
    "    elif p == 2:\n",
    "        c.append(f)\n",
    "    elif p == 3:\n",
    "        u.append(f)\n",
    "    else: assert False\n",
    "\n",
    "print(report_facts[q]['fact_based_report'])\n",
    "print()\n",
    "if e:\n",
    "    print('Entailment:')\n",
    "    for x in e:\n",
    "        print(f'\\t{x}')\n",
    "if c:\n",
    "    print('Contradiction:')\n",
    "    for x in c:\n",
    "        print(f'\\t{x}')\n",
    "if n:\n",
    "    print('Neutral:')\n",
    "    for x in n:\n",
    "        print(f'\\t{x}')\n",
    "if u:\n",
    "    print('Undecided:')\n",
    "    for x in u:\n",
    "        print(f'\\t{x}')"
   ]
  },
  {
   "cell_type": "code",
   "execution_count": 104,
   "id": "071342bb",
   "metadata": {},
   "outputs": [
    {
     "data": {
      "text/plain": [
       "[('/mnt/workspace/pamessina/medvqa-workspace/cache/mimiccxr_fact_based_integrated_nli_predictions(hash=997,3191870595512725333).pkl',\n",
       "  '2024-04-22 09:41:55'),\n",
       " ('/mnt/workspace/pamessina/medvqa-workspace/cache/mimiccxr_representative_facts_bart_nli_predictions(2_2)(hash=714,4113910067759365331).pkl',\n",
       "  '2024-04-22 09:16:49'),\n",
       " ('/mnt/workspace/pamessina/medvqa-workspace/cache/mimiccxr_representative_facts_bart_nli_predictions(1_2)(hash=714,782886583103824837).pkl',\n",
       "  '2024-04-22 07:21:28'),\n",
       " ('/mnt/workspace/pamessina/medvqa-workspace/cache/mimiccxr_representative_facts_mlp_nli_softmaxes(hash=995,3718617080007681420).pkl',\n",
       "  '2024-04-21 22:18:26'),\n",
       " ('/mnt/workspace/pamessina/medvqa-workspace/cache/mimiccxr_assigned_representative_facts_to_reports(hash=474,1880255534079539538).pkl',\n",
       "  '2024-04-21 21:42:31'),\n",
       " ('/mnt/workspace/pamessina/medvqa-workspace/cache/mimiccxr_gpt4_representative_facts_assigned_to_reports(hash=953,587644714227321577).pkl',\n",
       "  '2024-04-21 20:04:59'),\n",
       " ('/mnt/workspace/pamessina/medvqa-workspace/cache/mimiccxr_gpt4_label_based_facts_assigned_to_reports(hash=950,1850545234276111994).pkl',\n",
       "  '2024-04-21 19:59:53'),\n",
       " ('/mnt/workspace/pamessina/medvqa-workspace/cache/mimiccxr_k_most_similar_representative_facts(hash=257,81001370560698666).pkl',\n",
       "  '2024-04-21 16:13:04'),\n",
       " ('/mnt/workspace/pamessina/medvqa-workspace/cache/mimiccxr_deduplicated_representative_facts(hash=460,360882518922904019).pkl',\n",
       "  '2024-04-21 10:38:10'),\n",
       " ('/mnt/workspace/pamessina/medvqa-workspace/cache/mimiccxr_label_based_facts_integrated_nli_predictions(hash=739,3322246754106464866).pkl',\n",
       "  '2024-04-20 21:06:33'),\n",
       " ('/mnt/workspace/pamessina/medvqa-workspace/cache/mimiccxr_label_based_facts_bart_nli_predictions(2_2)(hash=2588,1571788838867977526).pkl',\n",
       "  '2024-04-20 21:03:33'),\n",
       " ('/mnt/workspace/pamessina/medvqa-workspace/cache/mimiccxr_label_based_facts_bart_nli_predictions(2_2)(hash=2588,1571788838867977526)__backup.pkl',\n",
       "  '2024-04-20 21:03:10'),\n",
       " ('/mnt/workspace/pamessina/medvqa-workspace/cache/mimiccxr_label_based_facts_bart_nli_predictions(1_2)(hash=2588,3246769515408733330).pkl',\n",
       "  '2024-04-15 01:07:51'),\n",
       " ('/mnt/workspace/pamessina/medvqa-workspace/cache/mimiccxr_label_based_facts_mlp_nli_softmaxes(hash=2869,32779144096514605).pkl',\n",
       "  '2024-04-14 14:08:06'),\n",
       " ('/mnt/workspace/pamessina/medvqa-workspace/cache/mimiccxr_gpt4_label_based_facts_assigned_to_reports(hash=545,2400242847100299105).pkl',\n",
       "  '2024-04-12 07:35:12')]"
      ]
     },
     "execution_count": 104,
     "metadata": {},
     "output_type": "execute_result"
    }
   ],
   "source": [
    "list_filepaths_with_prefix_and_timestamps('/mnt/workspace/pamessina/medvqa-workspace/cache/')[:15]"
   ]
  },
  {
   "cell_type": "code",
   "execution_count": 105,
   "id": "de313f35",
   "metadata": {},
   "outputs": [
    {
     "data": {
      "text/plain": [
       "{'report_idx': 0,\n",
       " 'background': 'indication: New dyspnea on exertion.',\n",
       " 'findings': 'Heart size is normal. There are mild aortic knob calcifications. Cardiomediastinal silhouette and hilar contours are otherwise unremarkable. Lungs are clear. Pleural surfaces are clear without effusion or pneumothorax.',\n",
       " 'impression': 'No acute cardiopulmonary abnormality.',\n",
       " 'path': '/mnt/data/mimic-cxr/files/p10/p10703179/s58829627.txt',\n",
       " 'facts': ['normal heart size',\n",
       "  'mild aortic knob calcifications',\n",
       "  'unremarkable cardiomediastinal silhouette',\n",
       "  'unremarkable hilar contours',\n",
       "  'clear lungs',\n",
       "  'clear pleural surfaces',\n",
       "  'pleural surfaces without effusion',\n",
       "  'pleural surfaces without pneumothorax',\n",
       "  'no acute cardiopulmonary abnormality'],\n",
       " 'fact_based_report': 'normal heart size. mild aortic knob calcifications. unremarkable cardiomediastinal silhouette. unremarkable hilar contours. clear lungs. clear pleural surfaces. pleural surfaces without effusion. pleural surfaces without pneumothorax. no acute cardiopulmonary abnormality'}"
      ]
     },
     "execution_count": 105,
     "metadata": {},
     "output_type": "execute_result"
    }
   ],
   "source": [
    "report_facts[0]"
   ]
  },
  {
   "cell_type": "code",
   "execution_count": 110,
   "id": "20769549",
   "metadata": {},
   "outputs": [
    {
     "name": "stdout",
     "output_type": "stream",
     "text": [
      "Reading /mnt/workspace/pamessina/medvqa-workspace/cache/mimiccxr_deduplicated_representative_facts(hash=460,360882518922904019).pkl...\n",
      "\u001b[34mComputing label-based fact embeddings...\u001b[0m\n",
      "checkpoint_names = ['checkpoint_91_cacc+chf1+chf1+cscc+encc+hscc+nlcc+sass+spss+ta0)+ta1)+ta2)+ta0)+ta1)+ta2)+ta3)+ta4)+ta5)+ta6)+ta7)=0.9337.pt']\n",
      "  0%|                                                    | 0/93 [00:00<?, ?it/s]Loading cached text embeddings from /mnt/workspace/pamessina/medvqa-workspace/cache/text_embeddings_cache(hash=440,3465006188639683439).pkl\n",
      "len(self.cache[\"hashes\"]) = 4758959\n",
      "self.cache[\"embeddings\"].shape = (4758959, 128)\n",
      "100%|███████████████████████████████████████████| 93/93 [00:03<00:00, 26.08it/s]\n",
      "label_based_fact_embeddings.shape: (93, 128)\n",
      "100%|█████████████████████████████████| 227835/227835 [00:47<00:00, 4755.58it/s]\n",
      "Reading /mnt/workspace/pamessina/medvqa-workspace/cache/mimiccxr_fact_based_integrated_nli_predictions(hash=997,3191870595512725333).pkl...\n",
      "Reading /mnt/workspace/pamessina/medvqa-workspace/cache/mimiccxr_label_based_facts_integrated_nli_predictions(hash=739,3322246754106464866).pkl...\n",
      "Reading /mnt/workspace/pamessina/medvqa-workspace/cache/mimiccxr_assigned_representative_facts_to_reports(hash=474,1880255534079539538).pkl...\n",
      "Reading /home/pamessina/medvqa-workspace/cache/mimiccxr/openai/gpt-4-1106-preview_fact_based_report_nli_queries(from_labels).jsonl...\n",
      "Reading /home/pamessina/medvqa-workspace/cache/mimiccxr/openai/gpt-4-1106-preview_fact_based_report_nli_queries(from_labels,v2).jsonl...\n",
      "Reading /home/pamessina/medvqa-workspace/cache/mimiccxr/openai/gpt-4-1106-preview_fact_based_report_nli_queries(from_labels,v3).jsonl...\n",
      "Reading /home/pamessina/medvqa-workspace/cache/mimiccxr/openai/gpt-4-1106-preview_fact_based_report_nli_queries(from_facts).jsonl...\n",
      "Reading /home/pamessina/medvqa-workspace/cache/mimiccxr/openai/gpt-4-1106-preview_fact_based_report_nli_queries(from_facts,v2).jsonl...\n",
      "Saving /mnt/workspace/pamessina/medvqa-workspace/cache/mimiccxr_integrated_data(hash=1649,2670402002373726730).pkl...\n",
      "\u001b[1m\u001b[34mDone!\u001b[0m\n"
     ]
    }
   ],
   "source": [
    "!python ../../scripts/mimiccxr/find_pos_neg_neutral_facts_per_report_v2.py \\\n",
    "--task \"integrate_and_export_all_data\" \\\n",
    "--fact_based_integrated_nli_predictions_filepath \\\n",
    "\"/mnt/workspace/pamessina/medvqa-workspace/cache/mimiccxr_fact_based_integrated_nli_predictions(hash=997,3191870595512725333).pkl\" \\\n",
    "--label_based_integrated_nli_predictions_filepath \\\n",
    "\"/mnt/workspace/pamessina/medvqa-workspace/cache/mimiccxr_label_based_facts_integrated_nli_predictions(hash=739,3322246754106464866).pkl\" \\\n",
    "--assigned_representative_facts_to_reports_filepath \\\n",
    "\"/mnt/workspace/pamessina/medvqa-workspace/cache/mimiccxr_assigned_representative_facts_to_reports(hash=474,1880255534079539538).pkl\" \\\n",
    "--deduplicated_representative_facts_filepath \\\n",
    "\"/mnt/workspace/pamessina/medvqa-workspace/cache/mimiccxr_deduplicated_representative_facts(hash=460,360882518922904019).pkl\" \\\n",
    "--gpt4_report_nli_input_output_jsonl_filepaths \\\n",
    "\"/home/pamessina/medvqa-workspace/cache/mimiccxr/openai/gpt-4-1106-preview_fact_based_report_nli_queries(from_labels).jsonl\" \\\n",
    "\"/home/pamessina/medvqa-workspace/cache/mimiccxr/openai/gpt-4-1106-preview_fact_based_report_nli_queries(from_labels,v2).jsonl\" \\\n",
    "\"/home/pamessina/medvqa-workspace/cache/mimiccxr/openai/gpt-4-1106-preview_fact_based_report_nli_queries(from_labels,v3).jsonl\" \\\n",
    "\"/home/pamessina/medvqa-workspace/cache/mimiccxr/openai/gpt-4-1106-preview_fact_based_report_nli_queries(from_facts).jsonl\" \\\n",
    "\"/home/pamessina/medvqa-workspace/cache/mimiccxr/openai/gpt-4-1106-preview_fact_based_report_nli_queries(from_facts,v2).jsonl\" \\\n",
    "--integrated_report_facts_jsonl_filepath \\\n",
    "\"/home/pamessina/medvqa-workspace/cache/mimiccxr/integrated_report_facts(79040140).jsonl\" \\\n",
    "--integrated_sentence_facts_jsonl_filepath \\\n",
    "\"/home/pamessina/medvqa-workspace/cache/mimiccxr/integrated_sentence_facts(59349684,50956825).jsonl\" \\\n",
    "--fact_embedding_model_name \"microsoft/BiomedVLP-CXR-BERT-specialized\" \\\n",
    "--fact_embedding_model_checkpoint_folder_path \\\n",
    "\"/mnt/data/pamessina/workspaces/medvqa-workspace/models/fact_embedding/20240207_184445_MIMIC-CXR(triplets+classif+entcont+nli+radgraph+autoencoder)_FactEncoder(microsoft-BiomedVLP-CXR-BERT-specialized)\" \\\n",
    "--fact_embedding_batch_size 200 \\\n",
    "--fact_embedding_num_workers 4"
   ]
  },
  {
   "cell_type": "code",
   "execution_count": 111,
   "id": "d9e0cb5a",
   "metadata": {},
   "outputs": [
    {
     "name": "stdout",
     "output_type": "stream",
     "text": [
      "-rw-rw-r-- 1 pamessina socvis 970M Apr 23 01:33 '/mnt/workspace/pamessina/medvqa-workspace/cache/mimiccxr_integrated_data(hash=1649,2670402002373726730).pkl'\r\n"
     ]
    }
   ],
   "source": [
    "!ls -lh \"/mnt/workspace/pamessina/medvqa-workspace/cache/mimiccxr_integrated_data(hash=1649,2670402002373726730).pkl\""
   ]
  },
  {
   "cell_type": "code",
   "execution_count": 112,
   "id": "987772e1",
   "metadata": {},
   "outputs": [],
   "source": [
    "tmp = load_pickle(\"/mnt/workspace/pamessina/medvqa-workspace/cache/mimiccxr_integrated_data(hash=1649,2670402002373726730).pkl\")"
   ]
  },
  {
   "cell_type": "code",
   "execution_count": 113,
   "id": "bbc335ff",
   "metadata": {},
   "outputs": [
    {
     "data": {
      "text/plain": [
       "dict_keys(['extracted_facts', 'extracted_fact_embeddings', 'representative_fact_idxs', 'label_based_facts', 'label_based_fact_embeddings', 'reports', 'fact_based_nli_predictions', 'label_based_nli_predictions', 'gpt4_report_nli_input_output'])"
      ]
     },
     "execution_count": 113,
     "metadata": {},
     "output_type": "execute_result"
    }
   ],
   "source": [
    "tmp.keys()"
   ]
  },
  {
   "cell_type": "code",
   "execution_count": 115,
   "id": "6dec56e7",
   "metadata": {},
   "outputs": [
    {
     "data": {
      "text/plain": [
       "(586352, (586352, 128))"
      ]
     },
     "execution_count": 115,
     "metadata": {},
     "output_type": "execute_result"
    }
   ],
   "source": [
    "len(tmp['extracted_facts']), tmp['extracted_fact_embeddings'].shape"
   ]
  },
  {
   "cell_type": "code",
   "execution_count": 132,
   "id": "f2715260",
   "metadata": {},
   "outputs": [
    {
     "data": {
      "text/plain": [
       "dtype('float32')"
      ]
     },
     "execution_count": 132,
     "metadata": {},
     "output_type": "execute_result"
    }
   ],
   "source": [
    "tmp['extracted_fact_embeddings'].dtype"
   ]
  },
  {
   "cell_type": "code",
   "execution_count": 133,
   "id": "7323270a",
   "metadata": {},
   "outputs": [
    {
     "data": {
      "text/plain": [
       "(4311, list)"
      ]
     },
     "execution_count": 133,
     "metadata": {},
     "output_type": "execute_result"
    }
   ],
   "source": [
    "len(tmp['representative_fact_idxs']), type(tmp['representative_fact_idxs'])"
   ]
  },
  {
   "cell_type": "code",
   "execution_count": 118,
   "id": "b3254882",
   "metadata": {},
   "outputs": [
    {
     "data": {
      "text/plain": [
       "(93, 128)"
      ]
     },
     "execution_count": 118,
     "metadata": {},
     "output_type": "execute_result"
    }
   ],
   "source": [
    "tmp['label_based_fact_embeddings'].shape"
   ]
  },
  {
   "cell_type": "code",
   "execution_count": 121,
   "id": "8e92bab1",
   "metadata": {},
   "outputs": [
    {
     "data": {
      "text/plain": [
       "{'report_idx': 13,\n",
       " 'background': 'indication: Cough. Evaluate for pneumonia.',\n",
       " 'findings': 'Frontal lateral chest radiographs demonstrate a normal cardiomediastinal silhouette. Increased opacity in the right lower lung, with corresponding increased opacity over projecting over the spine on lateral view is suggestive of the right lower lobe consolidation. No pneumothorax is seen. There is a small right pleural effusion. Previously noted bullae are unchanged.',\n",
       " 'impression': '1. Findings suggestive of a right lower lobe consolidation, consistent with pneumonia. 2. Previously noted bullae are unchanged.',\n",
       " 'path': '/mnt/data/mimic-cxr/files/p10/p10579352/s56964945.txt',\n",
       " 'facts': ['normal cardiomediastinal silhouette',\n",
       "  'increased opacity in the right lower lung',\n",
       "  'increased opacity over projecting over the spine on lateral view',\n",
       "  'right lower lobe consolidation',\n",
       "  'no pneumothorax',\n",
       "  'small right pleural effusion',\n",
       "  'unchanged bullae',\n",
       "  'consolidation consistent with pneumonia'],\n",
       " 'fact_based_report': 'normal cardiomediastinal silhouette. increased opacity in the right lower lung. increased opacity over projecting over the spine on lateral view. right lower lobe consolidation. no pneumothorax. small right pleural effusion. unchanged bullae. consolidation consistent with pneumonia',\n",
       " 'findings_fact_idxs': [337997,\n",
       "  185235,\n",
       "  185360,\n",
       "  457287,\n",
       "  326026,\n",
       "  500604,\n",
       "  556453],\n",
       " 'impression_fact_idxs': [457287, 91104, 556453]}"
      ]
     },
     "execution_count": 121,
     "metadata": {},
     "output_type": "execute_result"
    }
   ],
   "source": [
    "tmp['reports'][13]"
   ]
  },
  {
   "cell_type": "code",
   "execution_count": 123,
   "id": "99c165f5",
   "metadata": {},
   "outputs": [
    {
     "data": {
      "text/plain": [
       "dict_keys(['nli_predictions', 'nli_method_ids', 'nli_method_id_to_name', 'nli_prediction_to_name', 'hybrid_metadata', 'representative_fact_idxs_per_report'])"
      ]
     },
     "execution_count": 123,
     "metadata": {},
     "output_type": "execute_result"
    }
   ],
   "source": [
    "tmp['fact_based_nli_predictions'].keys()"
   ]
  },
  {
   "cell_type": "code",
   "execution_count": 136,
   "id": "819ade95",
   "metadata": {},
   "outputs": [
    {
     "data": {
      "text/plain": [
       "(227835, 100)"
      ]
     },
     "execution_count": 136,
     "metadata": {},
     "output_type": "execute_result"
    }
   ],
   "source": [
    "tmp['fact_based_nli_predictions']['representative_fact_idxs_per_report'].shape"
   ]
  },
  {
   "cell_type": "code",
   "execution_count": 138,
   "id": "73c6f566",
   "metadata": {},
   "outputs": [
    {
     "data": {
      "text/plain": [
       "dtype('int8')"
      ]
     },
     "execution_count": 138,
     "metadata": {},
     "output_type": "execute_result"
    }
   ],
   "source": [
    "tmp['fact_based_nli_predictions']['nli_predictions'].dtype"
   ]
  },
  {
   "cell_type": "code",
   "execution_count": 139,
   "id": "14b00739",
   "metadata": {},
   "outputs": [
    {
     "data": {
      "text/plain": [
       "dtype('int8')"
      ]
     },
     "execution_count": 139,
     "metadata": {},
     "output_type": "execute_result"
    }
   ],
   "source": [
    "tmp['fact_based_nli_predictions']['nli_method_ids'].dtype"
   ]
  },
  {
   "cell_type": "code",
   "execution_count": 141,
   "id": "109e2490",
   "metadata": {},
   "outputs": [
    {
     "data": {
      "text/plain": [
       "{0: 'hybrid', 1: 'gpt4'}"
      ]
     },
     "execution_count": 141,
     "metadata": {},
     "output_type": "execute_result"
    }
   ],
   "source": [
    "tmp['fact_based_nli_predictions']['nli_method_id_to_name']"
   ]
  },
  {
   "cell_type": "code",
   "execution_count": 142,
   "id": "2a2c2b53",
   "metadata": {},
   "outputs": [
    {
     "data": {
      "text/plain": [
       "{0: 'entailment', 1: 'neutral', 2: 'contradiction', 3: 'undecided'}"
      ]
     },
     "execution_count": 142,
     "metadata": {},
     "output_type": "execute_result"
    }
   ],
   "source": [
    "tmp['fact_based_nli_predictions']['nli_prediction_to_name']"
   ]
  },
  {
   "cell_type": "code",
   "execution_count": 143,
   "id": "172a9e78",
   "metadata": {},
   "outputs": [
    {
     "data": {
      "text/plain": [
       "{'hybrid_threshold_1': 0.1,\n",
       " 'hybrid_threshold_2': 0.3,\n",
       " 'airspace opacity seen': {'mlp_et': 0.06611190736293793,\n",
       "  'mlp_ct': 0.938150942325592,\n",
       "  'mlp_f1': 0.96,\n",
       "  's2s_f1': 0.9504950495049505},\n",
       " 'alveolar hemorrhage seen': {'mlp_et': 0.08815649896860123,\n",
       "  'mlp_ct': 0.6947060823440552,\n",
       "  'mlp_f1': 0.84375,\n",
       "  's2s_f1': 0.8771929824561403},\n",
       " 'alveolar texture seen': {'mlp_et': 0.07071922719478607,\n",
       "  'mlp_ct': 0.8218728303909302,\n",
       "  'mlp_f1': 0.56,\n",
       "  's2s_f1': 0.0},\n",
       " 'aortic graft/repair seen': {'mlp_et': 0.02535993419587612,\n",
       "  'mlp_ct': 0.4908551871776581,\n",
       "  'mlp_f1': 0.963855421686747,\n",
       "  's2s_f1': 0.9879518072289156},\n",
       " 'artifact seen': {'mlp_et': 0.21445369720458984,\n",
       "  'mlp_ct': 0.6339350938796997,\n",
       "  'mlp_f1': 0.95,\n",
       "  's2s_f1': 0.9629629629629629},\n",
       " 'aspiration seen': {'mlp_et': 0.06731690466403961,\n",
       "  'mlp_ct': 0.06650009751319885,\n",
       "  'mlp_f1': 0.9230769230769231,\n",
       "  's2s_f1': 0.9397590361445783},\n",
       " 'atelectasis seen': {'mlp_et': 0.1074586883187294,\n",
       "  'mlp_ct': 0.3974692225456238,\n",
       "  'mlp_f1': 0.9620253164556962,\n",
       "  's2s_f1': 0.9466666666666667},\n",
       " 'bone lesion seen': {'mlp_et': 0.13817545771598816,\n",
       "  'mlp_ct': 0.017074784263968468,\n",
       "  'mlp_f1': 0.8214285714285714,\n",
       "  's2s_f1': 0.8363636363636363},\n",
       " 'breast/nipple shadows seen': {'mlp_et': 0.3464393615722656,\n",
       "  'mlp_ct': 0.40535327792167664,\n",
       "  'mlp_f1': 0.9629629629629629,\n",
       "  's2s_f1': 0.975},\n",
       " 'bronchiectasis seen': {'mlp_et': 0.049857813864946365,\n",
       "  'mlp_ct': 0.7622138261795044,\n",
       "  'mlp_f1': 0.9885057471264368,\n",
       "  's2s_f1': 1.0},\n",
       " 'cabg grafts seen': {'mlp_et': 0.11469763517379761,\n",
       "  'mlp_ct': 0,\n",
       "  'mlp_f1': 0.5217391304347826,\n",
       "  's2s_f1': 0.16666666666666666},\n",
       " 'calcification of the aorta seen': {'mlp_et': 0.3257158398628235,\n",
       "  'mlp_ct': 0,\n",
       "  'mlp_f1': 1.0,\n",
       "  's2s_f1': 0.9772727272727273},\n",
       " 'calcified nodule seen': {'mlp_et': 0.01819196715950966,\n",
       "  'mlp_ct': 0.15532639622688293,\n",
       "  'mlp_f1': 0.9411764705882353,\n",
       "  's2s_f1': 0.9210526315789473},\n",
       " 'calcified texture seen': {'mlp_et': 0.08148898929357529,\n",
       "  'mlp_ct': 0.5247270464897156,\n",
       "  'mlp_f1': 1.0,\n",
       "  's2s_f1': 1.0},\n",
       " 'cardiac pacer and wires seen': {'mlp_et': 0.0522097647190094,\n",
       "  'mlp_ct': 0.14375470578670502,\n",
       "  'mlp_f1': 0.9887640449438202,\n",
       "  's2s_f1': 1.0},\n",
       " 'cardiomegaly seen': {'mlp_et': 0.20554514229297638,\n",
       "  'mlp_ct': 0.7456743717193604,\n",
       "  'mlp_f1': 0.96875,\n",
       "  's2s_f1': 0.9846153846153847},\n",
       " 'chest port seen': {'mlp_et': 0.08562945574522018,\n",
       "  'mlp_ct': 0,\n",
       "  'mlp_f1': 0.9655172413793104,\n",
       "  's2s_f1': 1.0},\n",
       " 'chest tube seen': {'mlp_et': 0.3816578686237335,\n",
       "  'mlp_ct': 0.36049509048461914,\n",
       "  'mlp_f1': 0.9367088607594937,\n",
       "  's2s_f1': 0.9876543209876543},\n",
       " 'clavicle fracture seen': {'mlp_et': 0.21739386022090912,\n",
       "  'mlp_ct': 0.36468735337257385,\n",
       "  'mlp_f1': 0.963855421686747,\n",
       "  's2s_f1': 0.975609756097561},\n",
       " 'consolidation seen': {'mlp_et': 0.07733232527971268,\n",
       "  'mlp_ct': 0.6397898197174072,\n",
       "  'mlp_f1': 0.9411764705882353,\n",
       "  's2s_f1': 0.9861111111111112},\n",
       " 'copd/emphysema seen': {'mlp_et': 0.03221975639462471,\n",
       "  'mlp_ct': 0.307378351688385,\n",
       "  'mlp_f1': 0.9885057471264368,\n",
       "  's2s_f1': 0.9545454545454546},\n",
       " 'costophrenic angle blunting seen': {'mlp_et': 0.12194833159446716,\n",
       "  'mlp_ct': 0.9014830589294434,\n",
       "  'mlp_f1': 0.9787234042553191,\n",
       "  's2s_f1': 1.0},\n",
       " 'cyst/bullae seen': {'mlp_et': 0.08729416131973267,\n",
       "  'mlp_ct': 0.394138365983963,\n",
       "  'mlp_f1': 0.9367088607594937,\n",
       "  's2s_f1': 0.9014084507042254},\n",
       " 'diaphragmatic eventration (benign) seen': {'mlp_et': 0.14489156007766724,\n",
       "  'mlp_ct': 0.006730366498231888,\n",
       "  'mlp_f1': 0.8260869565217391,\n",
       "  's2s_f1': 0.9615384615384616},\n",
       " 'edema seen': {'mlp_et': 0.1822325587272644,\n",
       "  'mlp_ct': 0.603210985660553,\n",
       "  'mlp_f1': 0.8484848484848485,\n",
       "  's2s_f1': 0.9552238805970149},\n",
       " 'elevated hemidiaphragm seen': {'mlp_et': 0.18036732077598572,\n",
       "  'mlp_ct': 0.40474891662597656,\n",
       "  'mlp_f1': 0.9782608695652174,\n",
       "  's2s_f1': 0.9782608695652174},\n",
       " 'emphysema seen': {'mlp_et': 0.20642639696598053,\n",
       "  'mlp_ct': 0.1052444726228714,\n",
       "  'mlp_f1': 0.9885057471264368,\n",
       "  's2s_f1': 0.9647058823529412},\n",
       " 'endotracheal tube seen': {'mlp_et': 0.04698609188199043,\n",
       "  'mlp_ct': 0.012084528803825378,\n",
       "  'mlp_f1': 0.9777777777777777,\n",
       "  's2s_f1': 1.0},\n",
       " 'enlarged cardiac silhouette seen': {'mlp_et': 0.41867753863334656,\n",
       "  'mlp_ct': 0.9840847253799438,\n",
       "  'mlp_f1': 0.9534883720930233,\n",
       "  's2s_f1': 0.9777777777777777},\n",
       " 'enlarged cardiomediastinum seen': {'mlp_et': 0.036483101546764374,\n",
       "  'mlp_ct': 0.10944203287363052,\n",
       "  'mlp_f1': 0.7727272727272727,\n",
       "  's2s_f1': 0.8108108108108109},\n",
       " 'enlarged hilum seen': {'mlp_et': 0.18179568648338318,\n",
       "  'mlp_ct': 0.20231331884860992,\n",
       "  'mlp_f1': 0.8787878787878788,\n",
       "  's2s_f1': 0.8709677419354839},\n",
       " 'enteric tube seen': {'mlp_et': 0.08589252084493637,\n",
       "  'mlp_ct': 0.2146860957145691,\n",
       "  'mlp_f1': 0.9655172413793104,\n",
       "  's2s_f1': 0.9534883720930233},\n",
       " 'fibrosis seen': {'mlp_et': 0.12725138664245605,\n",
       "  'mlp_ct': 0.24625182151794434,\n",
       "  'mlp_f1': 0.9620253164556962,\n",
       "  's2s_f1': 0.95},\n",
       " 'fluid overload/heart failure seen': {'mlp_et': 0.06580343842506409,\n",
       "  'mlp_ct': 0.35256388783454895,\n",
       "  'mlp_f1': 0.9195402298850575,\n",
       "  's2s_f1': 0.9302325581395349},\n",
       " 'fracture seen': {'mlp_et': 0.17977264523506165,\n",
       "  'mlp_ct': 0.6194983720779419,\n",
       "  'mlp_f1': 0.8620689655172413,\n",
       "  's2s_f1': 0.9354838709677419},\n",
       " 'goiter seen': {'mlp_et': 0.10227526724338531,\n",
       "  'mlp_ct': 0.14146481454372406,\n",
       "  'mlp_f1': 1.0,\n",
       "  's2s_f1': 0.9887640449438202},\n",
       " 'granulomatous disease seen': {'mlp_et': 0.11946283280849457,\n",
       "  'mlp_ct': 0.026019567623734474,\n",
       "  'mlp_f1': 0.8378378378378378,\n",
       "  's2s_f1': 0.8947368421052632},\n",
       " 'hernia seen': {'mlp_et': 0.10491438955068588,\n",
       "  'mlp_ct': 0.7546270489692688,\n",
       "  'mlp_f1': 0.9774436090225563,\n",
       "  's2s_f1': 0.9924812030075187},\n",
       " 'hydropneumothorax seen': {'mlp_et': 0.10807093232870102,\n",
       "  'mlp_ct': 0.7064180970191956,\n",
       "  'mlp_f1': 0.975609756097561,\n",
       "  's2s_f1': 0.9629629629629629},\n",
       " 'hyperaeration seen': {'mlp_et': 0.11741755157709122,\n",
       "  'mlp_ct': 0.18373329937458038,\n",
       "  'mlp_f1': 0.9882352941176471,\n",
       "  's2s_f1': 0.9629629629629629},\n",
       " 'ij line seen': {'mlp_et': 0.06030861660838127,\n",
       "  'mlp_ct': 0,\n",
       "  'mlp_f1': 0.9885057471264368,\n",
       "  's2s_f1': 0.9882352941176471},\n",
       " 'increased reticular markings/ild pattern seen': {'mlp_et': 0.03205382823944092,\n",
       "  'mlp_ct': 0.23749715089797974,\n",
       "  'mlp_f1': 0.9565217391304348,\n",
       "  's2s_f1': 0.9777777777777777},\n",
       " 'infiltration seen': {'mlp_et': 0.5627897381782532,\n",
       "  'mlp_ct': 0.7954337000846863,\n",
       "  'mlp_f1': 0.875,\n",
       "  's2s_f1': 0.9306930693069307},\n",
       " 'interstitial lung disease seen': {'mlp_et': 0.19624890387058258,\n",
       "  'mlp_ct': 0.8274723887443542,\n",
       "  'mlp_f1': 0.9647058823529412,\n",
       "  's2s_f1': 0.926829268292683},\n",
       " 'interstitial texture seen': {'mlp_et': 0.03443405032157898,\n",
       "  'mlp_ct': 0.5449975728988647,\n",
       "  'mlp_f1': 0.3870967741935484,\n",
       "  's2s_f1': 0.2857142857142857},\n",
       " 'intra-aortic balloon pump seen': {'mlp_et': 0.037143394351005554,\n",
       "  'mlp_ct': 0.27500805258750916,\n",
       "  'mlp_f1': 0.9662921348314607,\n",
       "  's2s_f1': 0.9882352941176471},\n",
       " 'linear/patchy atelectasis seen': {'mlp_et': 0.013448572717607021,\n",
       "  'mlp_ct': 0.2989053428173065,\n",
       "  'mlp_f1': 0.9523809523809523,\n",
       "  's2s_f1': 0.9494949494949495},\n",
       " 'lobar/segmental collapse seen': {'mlp_et': 0.005355889908969402,\n",
       "  'mlp_ct': 0.8030822277069092,\n",
       "  'mlp_f1': 0.8979591836734694,\n",
       "  's2s_f1': 0.946236559139785},\n",
       " 'low lung volumes seen': {'mlp_et': 0.2095002979040146,\n",
       "  'mlp_ct': 0.874089241027832,\n",
       "  'mlp_f1': 0.989010989010989,\n",
       "  's2s_f1': 0.9782608695652174},\n",
       " 'lung cancer seen': {'mlp_et': 0.1194019615650177,\n",
       "  'mlp_ct': 0.4372628927230835,\n",
       "  'mlp_f1': 0.926829268292683,\n",
       "  's2s_f1': 0.9743589743589743},\n",
       " 'lung lesion seen': {'mlp_et': 0.35239365696907043,\n",
       "  'mlp_ct': 0.8541432023048401,\n",
       "  'mlp_f1': 0.8571428571428571,\n",
       "  's2s_f1': 0.8717948717948718},\n",
       " 'lung opacity seen': {'mlp_et': 0.0305615346878767,\n",
       "  'mlp_ct': 0.9121713638305664,\n",
       "  'mlp_f1': 0.9403973509933775,\n",
       "  's2s_f1': 0.9295774647887324},\n",
       " 'mass seen': {'mlp_et': 0.06067188084125519,\n",
       "  'mlp_ct': 0.9356261491775513,\n",
       "  'mlp_f1': 0.8059701492537313,\n",
       "  's2s_f1': 0.9655172413793104},\n",
       " 'mass/nodule (not otherwise specified) seen': {'mlp_et': 0.03410017490386963,\n",
       "  'mlp_ct': 0.7563577890396118,\n",
       "  'mlp_f1': 0.7380952380952381,\n",
       "  's2s_f1': 0.8571428571428571},\n",
       " 'mediastinal displacement seen': {'mlp_et': 0.11172634363174438,\n",
       "  'mlp_ct': 0.7754657864570618,\n",
       "  'mlp_f1': 0.9411764705882353,\n",
       "  's2s_f1': 0.963855421686747},\n",
       " 'mediastinal drain seen': {'mlp_et': 0.06676814705133438,\n",
       "  'mlp_ct': 0.8149868845939636,\n",
       "  'mlp_f1': 0.9382716049382716,\n",
       "  's2s_f1': 0.9487179487179487},\n",
       " 'mediastinal widening seen': {'mlp_et': 0.1332886815071106,\n",
       "  'mlp_ct': 0.9265150427818298,\n",
       "  'mlp_f1': 0.7777777777777778,\n",
       "  's2s_f1': 0.9206349206349206},\n",
       " 'multiple masses/nodules seen': {'mlp_et': 0.23407623171806335,\n",
       "  'mlp_ct': 0.2251933366060257,\n",
       "  'mlp_f1': 0.9253731343283582,\n",
       "  's2s_f1': 0.9577464788732394},\n",
       " 'no abnormalities seen': {'mlp_et': 0.5611531734466553,\n",
       "  'mlp_ct': 0.07598505914211273,\n",
       "  'mlp_f1': 0.8095238095238095,\n",
       "  's2s_f1': 0.8},\n",
       " 'nodule seen': {'mlp_et': 0.10713999718427658,\n",
       "  'mlp_ct': 0.29875749349594116,\n",
       "  'mlp_f1': 0.8735632183908046,\n",
       "  's2s_f1': 0.9629629629629629},\n",
       " 'opacity texture seen': {'mlp_et': 0.06457144021987915,\n",
       "  'mlp_ct': 0.36482155323028564,\n",
       "  'mlp_f1': 0.7804878048780488,\n",
       "  's2s_f1': 0.5},\n",
       " 'pericardial effusion seen': {'mlp_et': 0.11395962536334991,\n",
       "  'mlp_ct': 0.5270286202430725,\n",
       "  'mlp_f1': 0.9512195121951219,\n",
       "  's2s_f1': 0.9487179487179487},\n",
       " 'picc seen': {'mlp_et': 0.24793289601802826,\n",
       "  'mlp_ct': 0.37254902720451355,\n",
       "  'mlp_f1': 1.0,\n",
       "  's2s_f1': 1.0},\n",
       " 'pigtail catheter seen': {'mlp_et': 0.19803526997566223,\n",
       "  'mlp_ct': 0.11064156889915466,\n",
       "  'mlp_f1': 0.9156626506024096,\n",
       "  's2s_f1': 0.9885057471264368},\n",
       " 'pleural abnormalities seen': {'mlp_et': 0.00022298509429674596,\n",
       "  'mlp_ct': 0.9022803902626038,\n",
       "  'mlp_f1': 0.9433962264150944,\n",
       "  's2s_f1': 0.9696969696969697},\n",
       " 'pleural effusion seen': {'mlp_et': 0.32627609372138977,\n",
       "  'mlp_ct': 0.5383506417274475,\n",
       "  'mlp_f1': 0.916030534351145,\n",
       "  's2s_f1': 0.9774436090225563},\n",
       " 'pleural thickening seen': {'mlp_et': 0.6173181533813477,\n",
       "  'mlp_ct': 0.14130033552646637,\n",
       "  'mlp_f1': 0.9135802469135802,\n",
       "  's2s_f1': 1.0},\n",
       " 'pleural/parenchymal scarring seen': {'mlp_et': 0.12528538703918457,\n",
       "  'mlp_ct': 0.7884997129440308,\n",
       "  'mlp_f1': 0.963855421686747,\n",
       "  's2s_f1': 0.9285714285714286},\n",
       " 'pneumomediastinum seen': {'mlp_et': 0.07515488564968109,\n",
       "  'mlp_ct': 0.5805890560150146,\n",
       "  'mlp_f1': 0.8849557522123894,\n",
       "  's2s_f1': 0.9375},\n",
       " 'pneumonia seen': {'mlp_et': 0.17752626538276672,\n",
       "  'mlp_ct': 0.44567716121673584,\n",
       "  'mlp_f1': 0.8958333333333334,\n",
       "  's2s_f1': 0.9387755102040817},\n",
       " 'pneumoperitoneum seen': {'mlp_et': 0.3029748797416687,\n",
       "  'mlp_ct': 0.4634968638420105,\n",
       "  'mlp_f1': 0.9705882352941176,\n",
       "  's2s_f1': 0.9855072463768116},\n",
       " 'pneumothorax seen': {'mlp_et': 0.17332243919372559,\n",
       "  'mlp_ct': 0.31613340973854065,\n",
       "  'mlp_f1': 0.8865979381443299,\n",
       "  's2s_f1': 1.0},\n",
       " 'prosthetic valve seen': {'mlp_et': 0.014928901568055153,\n",
       "  'mlp_ct': 0,\n",
       "  'mlp_f1': 1.0,\n",
       "  's2s_f1': 0.9879518072289156},\n",
       " 'pulmonary edema/hazy opacity seen': {'mlp_et': 0.23978377878665924,\n",
       "  'mlp_ct': 0.35237637162208557,\n",
       "  'mlp_f1': 0.9523809523809523,\n",
       "  's2s_f1': 0.975},\n",
       " 'rib fracture seen': {'mlp_et': 0.2885754108428955,\n",
       "  'mlp_ct': 0.21687950193881989,\n",
       "  'mlp_f1': 0.9552238805970149,\n",
       "  's2s_f1': 0.927536231884058},\n",
       " 'rotated seen': {'mlp_et': 0.05034469813108444,\n",
       "  'mlp_ct': 0.13296405971050262,\n",
       "  'mlp_f1': 0.819672131147541,\n",
       "  's2s_f1': 0.896551724137931},\n",
       " 'scoliosis seen': {'mlp_et': 0.2997594177722931,\n",
       "  'mlp_ct': 0.04260362684726715,\n",
       "  'mlp_f1': 0.9882352941176471,\n",
       "  's2s_f1': 1.0},\n",
       " 'shoulder osteoarthritis seen': {'mlp_et': 0.02149922214448452,\n",
       "  'mlp_ct': 0.005386492237448692,\n",
       "  'mlp_f1': 1.0,\n",
       "  's2s_f1': 1.0},\n",
       " 'skin fold seen': {'mlp_et': 0.028440479189157486,\n",
       "  'mlp_ct': 0,\n",
       "  'mlp_f1': 0.9655172413793104,\n",
       "  's2s_f1': 0.9767441860465116},\n",
       " 'spinal degenerative changes seen': {'mlp_et': 0.03803577646613121,\n",
       "  'mlp_ct': 0,\n",
       "  'mlp_f1': 1.0,\n",
       "  's2s_f1': 1.0},\n",
       " 'spinal fracture seen': {'mlp_et': 0.05790577456355095,\n",
       "  'mlp_ct': 0.4885108172893524,\n",
       "  'mlp_f1': 0.9210526315789473,\n",
       "  's2s_f1': 0.8985507246376812},\n",
       " 'sub-diaphragmatic air seen': {'mlp_et': 0.126633882522583,\n",
       "  'mlp_ct': 0.5554614067077637,\n",
       "  'mlp_f1': 0.925,\n",
       "  's2s_f1': 0.975},\n",
       " 'subclavian line seen': {'mlp_et': 0.4759410321712494,\n",
       "  'mlp_ct': 0.26247960329055786,\n",
       "  'mlp_f1': 0.926829268292683,\n",
       "  's2s_f1': 0.9885057471264368},\n",
       " 'subcutaneous air seen': {'mlp_et': 0.02777840569615364,\n",
       "  'mlp_ct': 0.09501554071903229,\n",
       "  'mlp_f1': 0.9772727272727273,\n",
       "  's2s_f1': 0.9882352941176471},\n",
       " 'subcutaneous emphysema seen': {'mlp_et': 0.02610688842833042,\n",
       "  'mlp_ct': 0.6614686250686646,\n",
       "  'mlp_f1': 0.9772727272727273,\n",
       "  's2s_f1': 0.9761904761904762},\n",
       " 'superior mediastinal mass/enlargement seen': {'mlp_et': 0.1755034625530243,\n",
       "  'mlp_ct': 0.2804681062698364,\n",
       "  'mlp_f1': 0.717948717948718,\n",
       "  's2s_f1': 0.7027027027027027},\n",
       " 'support devices seen': {'mlp_et': 0.1592526137828827,\n",
       "  'mlp_ct': 0.6243749260902405,\n",
       "  'mlp_f1': 0.8888888888888888,\n",
       "  's2s_f1': 0.975609756097561},\n",
       " 'swan-ganz catheter seen': {'mlp_et': 0.05830087512731552,\n",
       "  'mlp_ct': 0.03325265645980835,\n",
       "  'mlp_f1': 0.9885057471264368,\n",
       "  's2s_f1': 0.9882352941176471},\n",
       " 'tortuous aorta seen': {'mlp_et': 0.04455622285604477,\n",
       "  'mlp_ct': 0.14623615145683289,\n",
       "  'mlp_f1': 1.0,\n",
       "  's2s_f1': 1.0},\n",
       " 'tracheostomy tube seen': {'mlp_et': 0.8917385935783386,\n",
       "  'mlp_ct': 0.4033992886543274,\n",
       "  'mlp_f1': 0.9879518072289156,\n",
       "  's2s_f1': 1.0},\n",
       " 'vascular calcification seen': {'mlp_et': 0.14009425044059753,\n",
       "  'mlp_ct': 0,\n",
       "  'mlp_f1': 0.9882352941176471,\n",
       "  's2s_f1': 0.9885057471264368},\n",
       " 'vascular congestion seen': {'mlp_et': 0.03986151143908501,\n",
       "  'mlp_ct': 0.9459784626960754,\n",
       "  'mlp_f1': 0.9183673469387755,\n",
       "  's2s_f1': 0.9333333333333333},\n",
       " 'vascular redistribution seen': {'mlp_et': 0.09881474077701569,\n",
       "  'mlp_ct': 0.3293752372264862,\n",
       "  'mlp_f1': 0.946236559139785,\n",
       "  's2s_f1': 0.945054945054945},\n",
       " 'other': {'mlp_et': 0.16598428785800934,\n",
       "  'mlp_ct': 0.18268874287605286,\n",
       "  'mlp_f1': 0.7882312692439275,\n",
       "  's2s_f1': 0.8219852337981952}}"
      ]
     },
     "execution_count": 143,
     "metadata": {},
     "output_type": "execute_result"
    }
   ],
   "source": [
    "tmp['fact_based_nli_predictions']['hybrid_metadata']"
   ]
  },
  {
   "cell_type": "code",
   "execution_count": 126,
   "id": "4b73474a",
   "metadata": {},
   "outputs": [
    {
     "data": {
      "text/plain": [
       "dict_keys(['nli_predictions', 'nli_method_ids', 'nli_method_id_to_name', 'nli_prediction_to_name', 'hybrid_metadata'])"
      ]
     },
     "execution_count": 126,
     "metadata": {},
     "output_type": "execute_result"
    }
   ],
   "source": [
    "tmp['label_based_nli_predictions'].keys()"
   ]
  },
  {
   "cell_type": "code",
   "execution_count": 144,
   "id": "14bc1034",
   "metadata": {},
   "outputs": [
    {
     "data": {
      "text/plain": [
       "(227835, 93)"
      ]
     },
     "execution_count": 144,
     "metadata": {},
     "output_type": "execute_result"
    }
   ],
   "source": [
    "tmp['label_based_nli_predictions']['nli_predictions'].shape"
   ]
  },
  {
   "cell_type": "code",
   "execution_count": 128,
   "id": "3d1e9355",
   "metadata": {},
   "outputs": [
    {
     "data": {
      "text/plain": [
       "array([3, 2, 0, 1, 1, 2, 2, 1, 1, 3, 2, 3, 1, 1, 1, 2, 3, 1, 1, 2, 3, 3,\n",
       "       3, 1, 2, 2, 3, 1, 2, 2, 2, 1, 3, 2, 3, 1, 2, 3, 2, 3, 3, 2, 2, 2,\n",
       "       1, 3, 3, 3, 1, 2, 2, 2, 2, 3, 2, 3, 2, 2, 3, 2, 3, 2, 1, 1, 3, 2,\n",
       "       2, 2, 2, 3, 1, 2, 3, 2, 2, 1, 1, 1, 3, 3, 1, 1, 1, 3, 1, 2, 1, 1,\n",
       "       1, 1, 3, 2, 2], dtype=int8)"
      ]
     },
     "execution_count": 128,
     "metadata": {},
     "output_type": "execute_result"
    }
   ],
   "source": [
    "tmp['label_based_nli_predictions']['nli_predictions'][1]"
   ]
  },
  {
   "cell_type": "code",
   "execution_count": 146,
   "id": "18408005",
   "metadata": {},
   "outputs": [
    {
     "data": {
      "text/plain": [
       "158276"
      ]
     },
     "execution_count": 146,
     "metadata": {},
     "output_type": "execute_result"
    }
   ],
   "source": [
    "len(tmp['gpt4_report_nli_input_output'])"
   ]
  },
  {
   "cell_type": "code",
   "execution_count": 145,
   "id": "88666d23",
   "metadata": {},
   "outputs": [
    {
     "name": "stdout",
     "output_type": "stream",
     "text": [
      "{'premise': \"mild cardiomegaly. tortuous aorta. low lung volumes. ill-defined opacity in the left upper lung. opacity worrisome for aspiration. opacity worrisome for pneumonia. superimposed to patient's known emphysema. superimposed to patient's subpleural interstitial abnormality. no pneumothorax. no pleural effusion\", 'hypothesis': 'tortuous aorta seen', 'label': 'definitely true'}\n"
     ]
    }
   ],
   "source": [
    "for x in tmp['gpt4_report_nli_input_output']:\n",
    "    if 'reason' not in x:\n",
    "        print(x)\n",
    "        break"
   ]
  },
  {
   "cell_type": "code",
   "execution_count": 151,
   "id": "c5c15c9f",
   "metadata": {},
   "outputs": [
    {
     "name": "stdout",
     "output_type": "stream",
     "text": [
      "Reading /mnt/workspace/pamessina/medvqa-workspace/cache/mimiccxr_integrated_data(hash=1649,2670402002373726730).pkl...\n",
      "\u001b[34mGetting positive and negative facts per report with num_processes=10...\u001b[0m\n",
      "100%|████████████████████████████████| 227835/227835 [00:02<00:00, 95488.39it/s]\n",
      "Saving /mnt/workspace/pamessina/medvqa-workspace/cache/mimiccxr_dicom_id_to_label_based_pos_neg_facts(hash=207,1199289774163830850).pkl...\n",
      "\u001b[1m\u001b[34mDone!\u001b[0m\n"
     ]
    }
   ],
   "source": [
    "# --gpt4_report_nli_input_output_jsonl_filepaths \\\n",
    "# --integrated_report_facts_jsonl_filepaths\n",
    "    \n",
    "!python ../../scripts/mimiccxr/find_pos_neg_neutral_facts_per_report_v2.py \\\n",
    "--task \"export_dicom_id_to_positive_negative_facts\" \\\n",
    "--pos_neg_facts_mode \"label_based\" \\\n",
    "--mimiccxr_report_fact_nli_integrated_data_filepath \\\n",
    "\"/mnt/workspace/pamessina/medvqa-workspace/cache/mimiccxr_integrated_data(hash=1649,2670402002373726730).pkl\""
   ]
  },
  {
   "cell_type": "code",
   "execution_count": 152,
   "id": "3f8fd14f",
   "metadata": {},
   "outputs": [],
   "source": [
    "tmp = load_pickle('/mnt/workspace/pamessina/medvqa-workspace/cache/mimiccxr_dicom_id_to_label_based_pos_neg_facts(hash=207,1199289774163830850).pkl')"
   ]
  },
  {
   "cell_type": "code",
   "execution_count": 153,
   "id": "f42a2eff",
   "metadata": {},
   "outputs": [
    {
     "data": {
      "text/plain": [
       "dict_keys(['facts', 'embeddings', 'dicom_id_to_pos_neg_facts', 'ridxs_with_conflict'])"
      ]
     },
     "execution_count": 153,
     "metadata": {},
     "output_type": "execute_result"
    }
   ],
   "source": [
    "tmp.keys()"
   ]
  },
  {
   "cell_type": "code",
   "execution_count": 164,
   "id": "e161a8d3",
   "metadata": {},
   "outputs": [
    {
     "data": {
      "text/plain": [
       "0"
      ]
     },
     "execution_count": 164,
     "metadata": {},
     "output_type": "execute_result"
    }
   ],
   "source": [
    "len(tmp['ridxs_with_conflict'])"
   ]
  },
  {
   "cell_type": "code",
   "execution_count": 156,
   "id": "7dae22e7",
   "metadata": {},
   "outputs": [],
   "source": [
    "dicom_ids = list(tmp['dicom_id_to_pos_neg_facts'].keys())"
   ]
  },
  {
   "cell_type": "code",
   "execution_count": 163,
   "id": "41ab16b5",
   "metadata": {},
   "outputs": [],
   "source": [
    "# tmp['dicom_id_to_pos_neg_facts'][dicom_ids[5]]"
   ]
  },
  {
   "cell_type": "code",
   "execution_count": 193,
   "id": "0de69a3b",
   "metadata": {},
   "outputs": [
    {
     "name": "stdout",
     "output_type": "stream",
     "text": [
      "Reading /mnt/workspace/pamessina/medvqa-workspace/cache/mimiccxr_integrated_data(hash=1649,2670402002373726730).pkl...\n",
      "Loading /home/pamessina/medvqa-workspace/cache/mimiccxr/openai/gpt-4-1106-preview_fact_based_report_nli_queries(from_labels).jsonl...\n",
      "Loading /home/pamessina/medvqa-workspace/cache/mimiccxr/openai/gpt-4-1106-preview_fact_based_report_nli_queries(from_labels,v2).jsonl...\n",
      "Loading /home/pamessina/medvqa-workspace/cache/mimiccxr/openai/gpt-4-1106-preview_fact_based_report_nli_queries(from_labels,v3).jsonl...\n",
      "Loading /home/pamessina/medvqa-workspace/cache/mimiccxr/openai/gpt-4-1106-preview_fact_based_report_nli_queries(from_facts).jsonl...\n",
      "Loading /home/pamessina/medvqa-workspace/cache/mimiccxr/openai/gpt-4-1106-preview_fact_based_report_nli_queries(from_facts,v2).jsonl...\n",
      "len(report2labels): 86238\n",
      "Number of skipped pairs: 0\n",
      "Number of not skipped pairs: 158276\n",
      "Loading /home/pamessina/medvqa-workspace/cache/mimiccxr/integrated_report_facts_metadata(227835,78646269).jsonl...\n",
      "Number of reports with labels: 93723/227835\n",
      "Loading /home/pamessina/medvqa-workspace/cache/mimiccxr/integrated_report_facts(79040140).jsonl...\n",
      "Number of reports with labels: 57644/227835\n",
      "\u001b[93m\u001b[1mNOTE: 10042 facts extracted by GPT-4 are not in the extracted facts.\u001b[0m\n",
      "\u001b[93m\u001b[1mAdding them to the extracted facts...\u001b[0m\n",
      "checkpoint_names = ['checkpoint_91_cacc+chf1+chf1+cscc+encc+hscc+nlcc+sass+spss+ta0)+ta1)+ta2)+ta0)+ta1)+ta2)+ta3)+ta4)+ta5)+ta6)+ta7)=0.9337.pt']\n",
      "  0%|                                                | 0/596394 [00:00<?, ?it/s]Loading cached text embeddings from /mnt/workspace/pamessina/medvqa-workspace/cache/text_embeddings_cache(hash=440,3465006188639683439).pkl\n",
      "len(self.cache[\"hashes\"]) = 4758959\n",
      "self.cache[\"embeddings\"].shape = (4758959, 128)\n",
      "100%|████████████████████████████████| 596394/596394 [00:17<00:00, 33758.96it/s]\n",
      "len(facts): 596394\n",
      "embeddings.shape: (596394, 128)\n",
      "\u001b[34mGetting positive and negative facts per report with num_processes=10...\u001b[0m\n",
      "\u001b[34mDetecting conflicts...\u001b[0m\n",
      "100%|████████████████████████████████| 227835/227835 [00:05<00:00, 40141.67it/s]\n",
      "Saving /mnt/workspace/pamessina/medvqa-workspace/cache/mimiccxr_dicom_id_to_fact_based_pos_neg_facts(hash=1020,430315367879679981).pkl...\n",
      "\u001b[1m\u001b[34mDone!\u001b[0m\n"
     ]
    }
   ],
   "source": [
    "!python ../../scripts/mimiccxr/find_pos_neg_neutral_facts_per_report_v2.py \\\n",
    "--task \"export_dicom_id_to_positive_negative_facts\" \\\n",
    "--pos_neg_facts_mode \"fact_based\" \\\n",
    "--mimiccxr_report_fact_nli_integrated_data_filepath \\\n",
    "\"/mnt/workspace/pamessina/medvqa-workspace/cache/mimiccxr_integrated_data(hash=1649,2670402002373726730).pkl\" \\\n",
    "--gpt4_report_nli_input_output_jsonl_filepaths \\\n",
    "\"/home/pamessina/medvqa-workspace/cache/mimiccxr/openai/gpt-4-1106-preview_fact_based_report_nli_queries(from_labels).jsonl\" \\\n",
    "\"/home/pamessina/medvqa-workspace/cache/mimiccxr/openai/gpt-4-1106-preview_fact_based_report_nli_queries(from_labels,v2).jsonl\" \\\n",
    "\"/home/pamessina/medvqa-workspace/cache/mimiccxr/openai/gpt-4-1106-preview_fact_based_report_nli_queries(from_labels,v3).jsonl\" \\\n",
    "\"/home/pamessina/medvqa-workspace/cache/mimiccxr/openai/gpt-4-1106-preview_fact_based_report_nli_queries(from_facts).jsonl\" \\\n",
    "\"/home/pamessina/medvqa-workspace/cache/mimiccxr/openai/gpt-4-1106-preview_fact_based_report_nli_queries(from_facts,v2).jsonl\" \\\n",
    "--integrated_report_facts_jsonl_filepaths \\\n",
    "\"/home/pamessina/medvqa-workspace/cache/mimiccxr/integrated_report_facts_metadata(227835,78646269).jsonl\" \\\n",
    "\"/home/pamessina/medvqa-workspace/cache/mimiccxr/integrated_report_facts(79040140).jsonl\" \\\n",
    "--fact_embedding_model_name \"microsoft/BiomedVLP-CXR-BERT-specialized\" \\\n",
    "--fact_embedding_model_checkpoint_folder_path \\\n",
    "\"/mnt/data/pamessina/workspaces/medvqa-workspace/models/fact_embedding/20240207_184445_MIMIC-CXR(triplets+classif+entcont+nli+radgraph+autoencoder)_FactEncoder(microsoft-BiomedVLP-CXR-BERT-specialized)\" \\\n",
    "--fact_embedding_batch_size 200 \\\n",
    "--fact_embedding_num_workers 4"
   ]
  },
  {
   "cell_type": "code",
   "execution_count": 194,
   "id": "0366feb0",
   "metadata": {},
   "outputs": [],
   "source": [
    "tmp = load_pickle('/mnt/workspace/pamessina/medvqa-workspace/cache/mimiccxr_dicom_id_to_fact_based_pos_neg_facts(hash=1020,430315367879679981).pkl')"
   ]
  },
  {
   "cell_type": "code",
   "execution_count": 195,
   "id": "d3b8761c",
   "metadata": {},
   "outputs": [
    {
     "data": {
      "text/plain": [
       "dict_keys(['facts', 'embeddings', 'dicom_id_to_pos_neg_facts', 'ridxs_with_conflict'])"
      ]
     },
     "execution_count": 195,
     "metadata": {},
     "output_type": "execute_result"
    }
   ],
   "source": [
    "tmp.keys()"
   ]
  },
  {
   "cell_type": "code",
   "execution_count": 196,
   "id": "4ff53c23",
   "metadata": {},
   "outputs": [
    {
     "data": {
      "text/plain": [
       "0"
      ]
     },
     "execution_count": 196,
     "metadata": {},
     "output_type": "execute_result"
    }
   ],
   "source": [
    "len(tmp['ridxs_with_conflict'])"
   ]
  },
  {
   "cell_type": "code",
   "execution_count": 197,
   "id": "41352043",
   "metadata": {},
   "outputs": [
    {
     "name": "stdout",
     "output_type": "stream",
     "text": [
      "no focal consolidation of the right lung\n",
      "no bony abnormalities\n",
      "no evidence of pathologic parenchymal changes\n",
      "normal unchanged appearance of the cardiac silhouette\n",
      "no acute abnormality in the osseous structures\n",
      "no pleural effusion\n",
      "no substantial accumulation of the pleural effusion\n",
      "no pneumothorax\n",
      "no evidence of lymphadenopathy\n",
      "no focal consolidation\n",
      "no evidence of complications\n",
      "no acute fracture\n",
      "no remaining pneumothorax on the right base\n",
      "no focal\n",
      "no vascular congestion in the mediastinum\n",
      "normal appearance of the mediastinum\n",
      "no evidence of hilar\n",
      "no evidence of acute cardiopulmonary\n",
      "no evidence of increased effusion\n",
      "cardiac silhouette within normal\n",
      "no evidence of focal consolidation\n",
      "no suspicious sclerotic lesion in the osseous structures\n",
      "no evidence of congestion\n",
      "no abnormality\n",
      "normal heart size\n",
      "no evidence of focal consolidation suspicious for pneumonia\n",
      "no minimal pleural effusion\n",
      "mediastinal contours within normal limits\n",
      "no significant lung abnormalities\n",
      "no acute displaced fractures\n",
      "no convincing evidence of the presence of rib fractures\n",
      "no evidence of procedure pneumothorax\n",
      "no appreciable pleural effusion anteriorly placed\n",
      "hilar contours within normal limits\n",
      "no clear explanation in the chest\n",
      "no effusion in the lungs\n",
      "no abnormalities in the chest\n",
      "no evidence of effusion\n",
      "no focal opacity in the lungs\n",
      "no evidence of atelectasis\n",
      "no abnormality in the retrosternal space\n",
      "no effusion on the lateral view\n",
      "no additional sites of consolidation\n",
      "normal appearance of the cardiomediastinal silhouette\n",
      "no pleural pneumothorax\n",
      "no evidence of new fractures\n",
      "no evidence of acute infection\n",
      "no cardiomegaly in the mediastinum\n",
      "no acute intrathoracic process\n",
      "no evidence of enlargement of the spleen\n",
      "normal appearance of the hilar structures\n",
      "no abnormalities of the heart\n",
      "no focal consolidation of the lungs\n",
      "cardiac silhouette top normal in size\n",
      "\n",
      "possibility of the patient having ARDS\n",
      "tip of the PIC line in the left brachiocephalic vein\n",
      "pleural effusion at the base of the right chest\n",
      "area of the previous pneumonia\n",
      "leads on the left\n",
      "opacity underlying the pleural effusion in the lower portion of the right lung\n",
      "interval removal of the left base chest tube\n",
      "limited to the lung bases\n",
      "thoracic aorta unchanged since the previous exam\n",
      "suggestion of cavitation\n",
      "linear opacities suggestive of subsegmental atelectasis\n",
      "multiple poorly defined nodular opacities in the left lung\n",
      "explanation of pneumoperitoneum\n",
      "unchanged atelectasis in the right lung\n",
      "interval placement of the right IJ central venous catheter\n",
      "probable atelectasis of the left lung base\n",
      "extensive bilateral areas of parenchymal opacities\n",
      "Opacity in the RML\n",
      "increase in the size of the spleen\n",
      "vague ground-glass opacity seen on the CT\n",
      "suggestion of pneumonia in the right middle lobe\n",
      "questionable small left apical pneumothorax\n",
      "dynamics of the changes suggestive for pulmonary edema\n",
      "component of aspiration not excluded\n",
      "distention of small bowel in the imaged portion of the upper abdomen\n",
      "side port at approximately the level of the GE junction\n",
      "reduction in the degree of the right pneumothorax\n",
      "nasogastric tube beyond the field of view of the radiograph\n",
      "bilateral perihilar parenchymal opacities\n",
      "engorgement of the vasculature\n",
      "region of density seen on the lateral projection\n",
      "increased opacity of the left lung\n",
      "visible changes on the radiograph\n",
      "opacity likely reflective of atelectasis\n",
      "extensive opacification in the hilar region on the right\n",
      "overlay of the right breast\n",
      "difficult to assess size of the heart\n",
      "breast implants in place\n",
      "opacities in the right mid-zone\n",
      "removal of the chest tube\n"
     ]
    }
   ],
   "source": [
    "p = tmp['dicom_id_to_pos_neg_facts'][dicom_ids[1010]]\n",
    "for x in p[0]:\n",
    "    print(tmp['facts'][x])\n",
    "print()\n",
    "for x in p[1]:\n",
    "    print(tmp['facts'][x])"
   ]
  },
  {
   "cell_type": "code",
   "execution_count": 198,
   "id": "5e690465",
   "metadata": {},
   "outputs": [
    {
     "name": "stdout",
     "output_type": "stream",
     "text": [
      "Reading /mnt/workspace/pamessina/medvqa-workspace/cache/mimiccxr_integrated_data(hash=1649,2670402002373726730).pkl...\n",
      "\u001b[34mGetting positive and negative facts per report with num_processes=10...\u001b[0m\n",
      "Loading /home/pamessina/medvqa-workspace/cache/mimiccxr/openai/gpt-4-1106-preview_fact_based_report_nli_queries(from_labels).jsonl...\n",
      "Loading /home/pamessina/medvqa-workspace/cache/mimiccxr/openai/gpt-4-1106-preview_fact_based_report_nli_queries(from_labels,v2).jsonl...\n",
      "Loading /home/pamessina/medvqa-workspace/cache/mimiccxr/openai/gpt-4-1106-preview_fact_based_report_nli_queries(from_labels,v3).jsonl...\n",
      "Loading /home/pamessina/medvqa-workspace/cache/mimiccxr/openai/gpt-4-1106-preview_fact_based_report_nli_queries(from_facts).jsonl...\n",
      "Loading /home/pamessina/medvqa-workspace/cache/mimiccxr/openai/gpt-4-1106-preview_fact_based_report_nli_queries(from_facts,v2).jsonl...\n",
      "len(report2labels): 86238\n",
      "Number of skipped pairs: 0\n",
      "Number of not skipped pairs: 158276\n",
      "Loading /home/pamessina/medvqa-workspace/cache/mimiccxr/integrated_report_facts_metadata(227835,78646269).jsonl...\n",
      "Number of reports with labels: 93723/227835\n",
      "Loading /home/pamessina/medvqa-workspace/cache/mimiccxr/integrated_report_facts(79040140).jsonl...\n",
      "Number of reports with labels: 57644/227835\n",
      "\u001b[93m\u001b[1mNOTE: 10042 facts extracted by GPT-4 are not in the extracted facts.\u001b[0m\n",
      "\u001b[93m\u001b[1mAdding them to the extracted facts...\u001b[0m\n",
      "checkpoint_names = ['checkpoint_91_cacc+chf1+chf1+cscc+encc+hscc+nlcc+sass+spss+ta0)+ta1)+ta2)+ta0)+ta1)+ta2)+ta3)+ta4)+ta5)+ta6)+ta7)=0.9337.pt']\n",
      "  0%|                                                | 0/596394 [00:00<?, ?it/s]Loading cached text embeddings from /mnt/workspace/pamessina/medvqa-workspace/cache/text_embeddings_cache(hash=440,3465006188639683439).pkl\n",
      "len(self.cache[\"hashes\"]) = 4758959\n",
      "self.cache[\"embeddings\"].shape = (4758959, 128)\n",
      "100%|████████████████████████████████| 596394/596394 [00:18<00:00, 31736.94it/s]\n",
      "len(facts): 596394\n",
      "embeddings.shape: (596394, 128)\n",
      "\u001b[34mGetting positive and negative facts per report with num_processes=10...\u001b[0m\n",
      "\u001b[34mMerging label-based and fact-based data...\u001b[0m\n",
      "100%|█████████████████████████████████| 227835/227835 [00:31<00:00, 7249.98it/s]\n",
      "\u001b[34mDetecting conflicts...\u001b[0m\n",
      "100%|████████████████████████████████| 227835/227835 [00:04<00:00, 45982.19it/s]\n",
      "Saving /mnt/workspace/pamessina/medvqa-workspace/cache/mimiccxr_dicom_id_to_all_pos_neg_facts(hash=1013,1477415609053716381).pkl...\n",
      "\u001b[1m\u001b[34mDone!\u001b[0m\n"
     ]
    }
   ],
   "source": [
    "!python ../../scripts/mimiccxr/find_pos_neg_neutral_facts_per_report_v2.py \\\n",
    "--task \"export_dicom_id_to_positive_negative_facts\" \\\n",
    "--pos_neg_facts_mode \"all\" \\\n",
    "--mimiccxr_report_fact_nli_integrated_data_filepath \\\n",
    "\"/mnt/workspace/pamessina/medvqa-workspace/cache/mimiccxr_integrated_data(hash=1649,2670402002373726730).pkl\" \\\n",
    "--gpt4_report_nli_input_output_jsonl_filepaths \\\n",
    "\"/home/pamessina/medvqa-workspace/cache/mimiccxr/openai/gpt-4-1106-preview_fact_based_report_nli_queries(from_labels).jsonl\" \\\n",
    "\"/home/pamessina/medvqa-workspace/cache/mimiccxr/openai/gpt-4-1106-preview_fact_based_report_nli_queries(from_labels,v2).jsonl\" \\\n",
    "\"/home/pamessina/medvqa-workspace/cache/mimiccxr/openai/gpt-4-1106-preview_fact_based_report_nli_queries(from_labels,v3).jsonl\" \\\n",
    "\"/home/pamessina/medvqa-workspace/cache/mimiccxr/openai/gpt-4-1106-preview_fact_based_report_nli_queries(from_facts).jsonl\" \\\n",
    "\"/home/pamessina/medvqa-workspace/cache/mimiccxr/openai/gpt-4-1106-preview_fact_based_report_nli_queries(from_facts,v2).jsonl\" \\\n",
    "--integrated_report_facts_jsonl_filepaths \\\n",
    "\"/home/pamessina/medvqa-workspace/cache/mimiccxr/integrated_report_facts_metadata(227835,78646269).jsonl\" \\\n",
    "\"/home/pamessina/medvqa-workspace/cache/mimiccxr/integrated_report_facts(79040140).jsonl\" \\\n",
    "--fact_embedding_model_name \"microsoft/BiomedVLP-CXR-BERT-specialized\" \\\n",
    "--fact_embedding_model_checkpoint_folder_path \\\n",
    "\"/mnt/data/pamessina/workspaces/medvqa-workspace/models/fact_embedding/20240207_184445_MIMIC-CXR(triplets+classif+entcont+nli+radgraph+autoencoder)_FactEncoder(microsoft-BiomedVLP-CXR-BERT-specialized)\" \\\n",
    "--fact_embedding_batch_size 200 \\\n",
    "--fact_embedding_num_workers 4"
   ]
  },
  {
   "cell_type": "code",
   "execution_count": 199,
   "id": "fb850624",
   "metadata": {},
   "outputs": [],
   "source": [
    "tmp = load_pickle('/mnt/workspace/pamessina/medvqa-workspace/cache/mimiccxr_dicom_id_to_all_pos_neg_facts(hash=1013,1477415609053716381).pkl')"
   ]
  },
  {
   "cell_type": "code",
   "execution_count": 200,
   "id": "8c97197d",
   "metadata": {},
   "outputs": [
    {
     "data": {
      "text/plain": [
       "dict_keys(['facts', 'embeddings', 'dicom_id_to_pos_neg_facts', 'ridxs_with_conflict'])"
      ]
     },
     "execution_count": 200,
     "metadata": {},
     "output_type": "execute_result"
    }
   ],
   "source": [
    "tmp.keys()"
   ]
  },
  {
   "cell_type": "code",
   "execution_count": 201,
   "id": "1280ac70",
   "metadata": {},
   "outputs": [
    {
     "data": {
      "text/plain": [
       "0"
      ]
     },
     "execution_count": 201,
     "metadata": {},
     "output_type": "execute_result"
    }
   ],
   "source": [
    "len(tmp['ridxs_with_conflict'])"
   ]
  },
  {
   "cell_type": "code",
   "execution_count": 202,
   "id": "44ff059f",
   "metadata": {
    "scrolled": false
   },
   "outputs": [
    {
     "name": "stdout",
     "output_type": "stream",
     "text": [
      "cardiac silhouette within normal\n",
      "no evidence of focal consolidation\n",
      "no suspicious sclerotic lesion in the osseous structures\n",
      "no evidence of congestion\n",
      "no abnormality\n",
      "normal heart size\n",
      "no evidence of focal consolidation suspicious for pneumonia\n",
      "no minimal pleural effusion\n",
      "no significant lung abnormalities\n",
      "mediastinal contours within normal limits\n",
      "no acute displaced fractures\n",
      "no convincing evidence of the presence of rib fractures\n",
      "no evidence of procedure pneumothorax\n",
      "no appreciable pleural effusion anteriorly placed\n",
      "hilar contours within normal limits\n",
      "no clear explanation in the chest\n",
      "no effusion in the lungs\n",
      "no abnormalities in the chest\n",
      "no evidence of effusion\n",
      "no focal opacity in the lungs\n",
      "no evidence of atelectasis\n",
      "no abnormality in the retrosternal space\n",
      "no abnormalities seen\n",
      "no effusion on the lateral view\n",
      "no additional sites of consolidation\n",
      "normal appearance of the cardiomediastinal silhouette\n",
      "no pleural pneumothorax\n",
      "no evidence of new fractures\n",
      "no evidence of acute infection\n",
      "no cardiomegaly in the mediastinum\n",
      "no acute intrathoracic process\n",
      "no evidence of enlargement of the spleen\n",
      "normal appearance of the hilar structures\n",
      "no evidence of hilar\n",
      "no abnormalities of the heart\n",
      "no focal consolidation of the lungs\n",
      "no focal consolidation of the right lung\n",
      "no evidence of pathologic parenchymal changes\n",
      "no bony abnormalities\n",
      "normal unchanged appearance of the cardiac silhouette\n",
      "cardiac silhouette top normal in size\n",
      "no acute abnormality in the osseous structures\n",
      "no substantial accumulation of the pleural effusion\n",
      "no pleural effusion\n",
      "no pneumothorax\n",
      "no evidence of lymphadenopathy\n",
      "no focal consolidation\n",
      "no evidence of complications\n",
      "no acute fracture\n",
      "no remaining pneumothorax on the right base\n",
      "no focal\n",
      "no vascular congestion in the mediastinum\n",
      "normal appearance of the mediastinum\n",
      "no evidence of acute cardiopulmonary\n",
      "no evidence of increased effusion\n",
      "\n",
      "alveolar hemorrhage seen\n",
      "alveolar texture seen\n",
      "aortic graft/repair seen\n",
      "artifact seen\n",
      "aspiration seen\n",
      "atelectasis seen\n",
      "bone lesion seen\n",
      "breast/nipple shadows seen\n",
      "opacities in the right mid-zone\n",
      "cabg grafts seen\n",
      "multiple poorly defined nodular opacities in the left lung\n",
      "calcified nodule seen\n",
      "calcified texture seen\n",
      "cardiac pacer and wires seen\n",
      "cardiomegaly seen\n",
      "chest tube seen\n",
      "clavicle fracture seen\n",
      "consolidation seen\n",
      "copd/emphysema seen\n",
      "costophrenic angle blunting seen\n",
      "diaphragmatic eventration (benign) seen\n",
      "edema seen\n",
      "elevated hemidiaphragm seen\n",
      "emphysema seen\n",
      "endotracheal tube seen\n",
      "enlarged cardiac silhouette seen\n",
      "enlarged cardiomediastinum seen\n",
      "enlarged hilum seen\n",
      "enteric tube seen\n",
      "fibrosis seen\n",
      "fluid overload/heart failure seen\n",
      "fracture seen\n",
      "goiter seen\n",
      "granulomatous disease seen\n",
      "hydropneumothorax seen\n",
      "dynamics of the changes suggestive for pulmonary edema\n",
      "increased reticular markings/ild pattern seen\n",
      "infiltration seen\n",
      "interstitial lung disease seen\n",
      "interstitial texture seen\n",
      "side port at approximately the level of the GE junction\n",
      "linear/patchy atelectasis seen\n",
      "lobar/segmental collapse seen\n",
      "distention of small bowel in the imaged portion of the upper abdomen\n",
      "lung cancer seen\n",
      "lung lesion seen\n",
      "lung opacity seen\n",
      "mass seen\n",
      "reduction in the degree of the right pneumothorax\n",
      "mediastinal displacement seen\n",
      "mediastinal widening seen\n",
      "multiple masses/nodules seen\n",
      "nodule seen\n",
      "opacity texture seen\n",
      "pericardial effusion seen\n",
      "picc seen\n",
      "pigtail catheter seen\n",
      "pleural effusion seen\n",
      "pleural thickening seen\n",
      "pleural/parenchymal scarring seen\n",
      "pneumomediastinum seen\n",
      "pneumonia seen\n",
      "pneumoperitoneum seen\n",
      "pneumothorax seen\n",
      "increased opacity of the left lung\n",
      "pulmonary edema/hazy opacity seen\n",
      "rib fracture seen\n",
      "scoliosis seen\n",
      "spinal fracture seen\n",
      "sub-diaphragmatic air seen\n",
      "subclavian line seen\n",
      "subcutaneous air seen\n",
      "subcutaneous emphysema seen\n",
      "superior mediastinal mass/enlargement seen\n",
      "support devices seen\n",
      "swan-ganz catheter seen\n",
      "tortuous aorta seen\n",
      "tracheostomy tube seen\n",
      "difficult to assess size of the heart\n",
      "vascular congestion seen\n",
      "vascular redistribution seen\n",
      "vague ground-glass opacity seen on the CT\n",
      "thoracic aorta unchanged since the previous exam\n",
      "suggestion of cavitation\n",
      "limited to the lung bases\n",
      "interval placement of the right IJ central venous catheter\n",
      "suggestion of pneumonia in the right middle lobe\n",
      "visible changes on the radiograph\n",
      "engorgement of the vasculature\n",
      "opacity likely reflective of atelectasis\n",
      "extensive opacification in the hilar region on the right\n",
      "removal of the chest tube\n",
      "breast implants in place\n",
      "probable atelectasis of the left lung base\n",
      "component of aspiration not excluded\n",
      "nasogastric tube beyond the field of view of the radiograph\n",
      "leads on the left\n",
      "pleural effusion at the base of the right chest\n",
      "unchanged atelectasis in the right lung\n",
      "linear opacities suggestive of subsegmental atelectasis\n",
      "explanation of pneumoperitoneum\n",
      "extensive bilateral areas of parenchymal opacities\n",
      "Opacity in the RML\n",
      "increase in the size of the spleen\n",
      "questionable small left apical pneumothorax\n",
      "overlay of the right breast\n",
      "region of density seen on the lateral projection\n",
      "bilateral perihilar parenchymal opacities\n",
      "possibility of the patient having ARDS\n",
      "tip of the PIC line in the left brachiocephalic vein\n",
      "area of the previous pneumonia\n",
      "opacity underlying the pleural effusion in the lower portion of the right lung\n",
      "interval removal of the left base chest tube\n"
     ]
    }
   ],
   "source": [
    "p = tmp['dicom_id_to_pos_neg_facts'][dicom_ids[1010]]\n",
    "for x in p[0]:\n",
    "    print(tmp['facts'][x])\n",
    "print()\n",
    "for x in p[1]:\n",
    "    print(tmp['facts'][x])"
   ]
  }
 ],
 "metadata": {
  "kernelspec": {
   "display_name": "venv2",
   "language": "python",
   "name": "venv2"
  },
  "language_info": {
   "codemirror_mode": {
    "name": "ipython",
    "version": 3
   },
   "file_extension": ".py",
   "mimetype": "text/x-python",
   "name": "python",
   "nbconvert_exporter": "python",
   "pygments_lexer": "ipython3",
   "version": "3.10.10"
  }
 },
 "nbformat": 4,
 "nbformat_minor": 5
}
