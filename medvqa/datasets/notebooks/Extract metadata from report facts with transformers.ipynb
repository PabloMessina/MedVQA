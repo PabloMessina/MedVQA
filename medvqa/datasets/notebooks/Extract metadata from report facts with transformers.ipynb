{
 "cells": [
  {
   "cell_type": "code",
   "execution_count": 2,
   "id": "229ba112",
   "metadata": {},
   "outputs": [
    {
     "name": "stdout",
     "output_type": "stream",
     "text": [
      "env: CUDA_VISIBLE_DEVICES=0\n"
     ]
    }
   ],
   "source": [
    "%env CUDA_VISIBLE_DEVICES=0"
   ]
  },
  {
   "cell_type": "code",
   "execution_count": 77,
   "id": "c9708c4f",
   "metadata": {},
   "outputs": [
    {
     "name": "stdout",
     "output_type": "stream",
     "text": [
      " gpt-3.5-turbo-0301_parsed_sentences.jsonl\r\n",
      " gpt-3.5-turbo-0613_parsed_facts__hard.jsonl\r\n",
      " gpt-3.5-turbo-0613_parsed_facts__uniform.jsonl\r\n",
      " gpt-3.5-turbo-0613_parsed_facts__v2.jsonl\r\n",
      "'gpt-3.5-turbo-0613_parsed_facts__v2_offset=20000.jsonl'\r\n",
      "'gpt-3.5-turbo-0613_parsed_facts__v2_offset=40000_uniform.jsonl'\r\n",
      " gpt-3.5-turbo-0613_parsed_sentences__v2.jsonl\r\n",
      "'gpt-3.5-turbo-0613_parsed_sentences__v2(uniform).jsonl'\r\n",
      " gpt-3.5-turbo_parsed_backgrounds.jsonl\r\n",
      " gpt-3.5-turbo_parsed_reports__backup.jsonl\r\n",
      " gpt-3.5-turbo_parsed_reports.jsonl\r\n",
      "'gpt-3.5-turbo_parsed_reports(old).jsonl'\r\n",
      " gpt-3.5-turbo_parsed_sentences.jsonl\r\n",
      " gpt-4-0613_parsed_reports.jsonl\r\n",
      " gpt-4-0613_parsed_sentences.jsonl\r\n",
      " gpt-4-0613_parsed_sentences__v2.jsonl\r\n"
     ]
    }
   ],
   "source": [
    "!ls /home/pamessina/medvqa-workspace/cache/mimiccxr/openai/"
   ]
  },
  {
   "cell_type": "code",
   "execution_count": 78,
   "id": "525b6006",
   "metadata": {
    "scrolled": true
   },
   "outputs": [
    {
     "name": "stdout",
     "output_type": "stream",
     "text": [
      "2023-07-08 11:40:48,209 - \u001b[1;32mINFO\u001b[1;0m - Loading preprocessed facts to skip from /home/pamessina/medvqa-workspace/cache/mimiccxr/openai/gpt-3.5-turbo-0613_parsed_facts__v2.jsonl\n",
      "2023-07-08 11:40:48,398 - \u001b[1;32mINFO\u001b[1;0m - Loaded 19936 facts to skip\n",
      "2023-07-08 11:40:48,408 - \u001b[1;32mINFO\u001b[1;0m - Total number of facts to skip: 19936\n",
      "2023-07-08 11:40:48,408 - \u001b[1;32mINFO\u001b[1;0m - Loading preprocessed facts to skip from /home/pamessina/medvqa-workspace/cache/mimiccxr/openai/gpt-3.5-turbo-0613_parsed_facts__v2_offset=20000.jsonl\n",
      "2023-07-08 11:40:48,560 - \u001b[1;32mINFO\u001b[1;0m - Loaded 19948 facts to skip\n",
      "2023-07-08 11:40:48,570 - \u001b[1;32mINFO\u001b[1;0m - Total number of facts to skip: 39884\n",
      "2023-07-08 11:40:48,570 - \u001b[1;32mINFO\u001b[1;0m - Loading preprocessed facts to skip from /home/pamessina/medvqa-workspace/cache/mimiccxr/openai/gpt-3.5-turbo-0613_parsed_facts__v2_offset=40000_uniform.jsonl\n",
      "2023-07-08 11:40:48,776 - \u001b[1;32mINFO\u001b[1;0m - Loaded 19984 facts to skip\n",
      "2023-07-08 11:40:48,787 - \u001b[1;32mINFO\u001b[1;0m - Total number of facts to skip: 59868\n",
      "2023-07-08 11:40:48,787 - \u001b[1;32mINFO\u001b[1;0m - Loading facts from /home/pamessina/medvqa-workspace/cache/mimiccxr/integrated_sentence_facts(58655550,49843061).jsonl\n",
      "2023-07-08 11:40:53,632 - \u001b[1;32mINFO\u001b[1;0m - Loaded 677694 sentences with extracted facts from /home/pamessina/medvqa-workspace/cache/mimiccxr/openai/gpt-3.5-turbo-0613_parsed_facts__v2_offset=40000_uniform.jsonl\n",
      "2023-07-08 11:40:54,513 - \u001b[1;32mINFO\u001b[1;0m - Found 518850 facts to parse\n",
      "2023-07-08 11:40:54,552 - \u001b[1;32mINFO\u001b[1;0m - Example facts to parse:\n",
      "2023-07-08 11:40:54,569 - \u001b[1;32mINFO\u001b[1;0m - 50427: multiple thoracic wedge compression fractures\n",
      "2023-07-08 11:40:54,569 - \u001b[1;32mINFO\u001b[1;0m - 121637: surgical clips projecting over the left chest laterally\n",
      "2023-07-08 11:40:54,569 - \u001b[1;32mINFO\u001b[1;0m - 187242: hardware in the cervical spine is unchanged\n",
      "2023-07-08 11:40:54,569 - \u001b[1;32mINFO\u001b[1;0m - 342147: nonspecific asymmetrically distributed heterogeneous lung opacities\n",
      "2023-07-08 11:40:54,569 - \u001b[1;32mINFO\u001b[1;0m - 143716: findings are grossly identical\n",
      "2023-07-08 11:40:54,569 - \u001b[1;32mINFO\u001b[1;0m - 119266: endotracheal tube 3.9 cm above the carina\n",
      "2023-07-08 11:40:54,569 - \u001b[1;32mINFO\u001b[1;0m - 510329: right pleural tube traverses the skin\n",
      "2023-07-08 11:40:54,569 - \u001b[1;32mINFO\u001b[1;0m - 429942: stable post-traumatic changes at the right shoulder\n",
      "2023-07-08 11:40:54,569 - \u001b[1;32mINFO\u001b[1;0m - 458618: NG tube tip out of view below the diaphragm in the stomach\n",
      "2023-07-08 11:40:54,569 - \u001b[1;32mINFO\u001b[1;0m - 67158: pacemaker lead position unchanged\n",
      "metadata loaded from /mnt/data/pamessina/workspaces/medvqa-workspace/models/seq2seq/20230707_215744_fact2metadata(gpt-3.5-..ts__v2;gpt-3.5-..=20000;gpt-3.5-..niform)_Seq2Seq(t5-small)/metadata.json\n",
      "2023-07-08 11:40:54,627 - \u001b[1;32mINFO\u001b[1;0m - Creating Seq2SeqModel\n",
      "Seq2Seq model:\n",
      "  model_name: t5-small\n",
      "2023-07-08 11:40:58,506 - \u001b[1;32mINFO\u001b[1;0m - Loading model weights from /mnt/data/pamessina/workspaces/medvqa-workspace/models/seq2seq/20230707_215744_fact2metadata(gpt-3.5-..ts__v2;gpt-3.5-..=20000;gpt-3.5-..niform)_Seq2Seq(t5-small)\n",
      "checkpoint_names = ['checkpoint_51_s2s_loss=0.9648.pt']\n",
      "2023-07-08 11:40:58,506 - \u001b[1;32mINFO\u001b[1;0m - Loading model weights from /mnt/data/pamessina/workspaces/medvqa-workspace/models/seq2seq/20230707_215744_fact2metadata(gpt-3.5-..ts__v2;gpt-3.5-..=20000;gpt-3.5-..niform)_Seq2Seq(t5-small)/checkpoint_51_s2s_loss=0.9648.pt\n",
      "2023-07-08 11:40:58,899 - \u001b[1;32mINFO\u001b[1;0m - Creating tokenizer\n",
      "2023-07-08 11:40:59,163 - \u001b[1;32mINFO\u001b[1;0m - Creating dataset and dataloader\n",
      "2023-07-08 11:40:59,164 - \u001b[1;32mINFO\u001b[1;0m - Running inference\n",
      "  0%|                                                  | 0/1038 [00:00<?, ?it/s]2023-07-08 11:41:03,442 - \u001b[1;32mINFO\u001b[1;0m - Processed 1 facts\n",
      "2023-07-08 11:41:03,442 - \u001b[1;32mINFO\u001b[1;0m - Example extracted metadata:\n",
      "2023-07-08 11:41:03,442 - \u001b[1;32mINFO\u001b[1;0m - {'fact': 'minimal widening of the superior mediastinum', 'metadata': {'anatomical location': 'superior mediastinum', 'detailed observation': 'minimal widening of the superior mediastinum', 'short observation': 'minimal widening', 'category': 'anatomical finding', 'health status': 'ambiguous', 'prev_study_comparison?': 'no', 'comparison status': ''}}\n",
      "  0%|                                        | 1/1038 [00:04<1:14:00,  4.28s/it]2023-07-08 11:41:04,800 - \u001b[1;33mWARNING\u001b[1;0m - Failed to parse output text: \"anatomical location\": \"\", \"detailed observation\": \"comparison with chest radiographs at : \"\", \"short observation\": \"comparison with previous chest radiographs\", \"category\": \"technical assessment\", \"health status\": \"unknown\", \"prev_study_comparison?\": \"yes\", \"comparison status\": \"resolved\", for fact: comparison with chest radiographs at :, i: 738, idx: 738\n",
      "2023-07-08 11:41:04,800 - \u001b[1;33mWARNING\u001b[1;0m - Exception: 'NoneType' object has no attribute 'group'\n",
      "  0%|                                          | 3/1038 [00:07<36:32,  2.12s/it]2023-07-08 11:41:07,891 - \u001b[1;33mWARNING\u001b[1;0m - Failed to parse output text: \"anatomical location\": \"bibasal\", \"detailed observation\": \"consolidations at a similar if not more pronounced if not more pronounced if not more pronounced if not more pronounced if not more pronounced if not more pronounced if not more pronounced if not more pronounced if not more pronounced if not more pronounced if not more pronounced if not more pronounced if not more pronounced if not more , for fact: bibasal consolidations at a similar if not more pronounced if not more pronounced if not more pronounced if not more pronounced if not more pronounced if not more pronounced if not more pronounced if not more pronounced if not more pronounced if not more pronounced if not more pronounced if not more pronounced if not more pronounced if not more pronounced if not for infectious process superimposed on traumatic injury, i: 1702, idx: 1701\n",
      "2023-07-08 11:41:07,891 - \u001b[1;33mWARNING\u001b[1;0m - Exception: 'NoneType' object has no attribute 'group'\n",
      "  1%|▎                                         | 9/1038 [00:15<26:32,  1.55s/it]2023-07-08 11:41:17,607 - \u001b[1;32mINFO\u001b[1;0m - Processed 5001 facts\n",
      "2023-07-08 11:41:17,607 - \u001b[1;32mINFO\u001b[1;0m - Example extracted metadata:\n",
      "2023-07-08 11:41:17,607 - \u001b[1;32mINFO\u001b[1;0m - {'fact': 'improved degree of inspiration', 'metadata': {'anatomical location': '', 'detailed observation': 'improved degree of inspiration', 'short observation': 'improved inspiration', 'category': 'technical assessment', 'health status': 'normal', 'prev_study_comparison?': 'yes', 'comparison status': 'improved'}}\n",
      "  2%|▊                                        | 19/1038 [00:30<25:26,  1.50s/it]2023-07-08 11:41:32,411 - \u001b[1;32mINFO\u001b[1;0m - Processed 10001 facts\n",
      "2023-07-08 11:41:32,411 - \u001b[1;32mINFO\u001b[1;0m - Example extracted metadata:\n",
      "2023-07-08 11:41:32,411 - \u001b[1;32mINFO\u001b[1;0m - {'fact': 'fluid collection in the left upper hemithorax', 'metadata': {'anatomical location': 'left upper hemithorax', 'detailed observation': 'fluid collection', 'short observation': 'fluid collection', 'category': 'anatomical finding', 'health status': 'abnormal', 'prev_study_comparison?': 'no', 'comparison status': ''}}\n",
      "  3%|█▏                                       | 29/1038 [00:44<24:08,  1.44s/it]2023-07-08 11:41:46,665 - \u001b[1;32mINFO\u001b[1;0m - Processed 15001 facts\n",
      "2023-07-08 11:41:46,665 - \u001b[1;32mINFO\u001b[1;0m - Example extracted metadata:\n",
      "2023-07-08 11:41:46,665 - \u001b[1;32mINFO\u001b[1;0m - {'fact': 'surgical clips in the upper right back', 'metadata': {'anatomical location': 'upper right back', 'detailed observation': 'surgical clips', 'short observation': 'surgical clips', 'category': 'device', 'health status': 'unknown', 'prev_study_comparison?': 'no', 'comparison status': ''}}\n",
      "2023-07-08 11:41:46,671 - \u001b[1;33mWARNING\u001b[1;0m - Failed to parse output text: \"anatomical location\": \"right breast\", \"detailed observation\": \"short observation\": \"short observation\": \"short observation\": \"short observation\": \"short observation\", \"category\": \"anatomical finding\", \"health status\": \"unknown\", \"prev_study_comparison?\": \"yes\", \"comparison status\": \"compatible\", for fact: right breast shadow compatible with prior mastectomy, i: 15439, idx: 15437\n",
      "2023-07-08 11:41:46,671 - \u001b[1;33mWARNING\u001b[1;0m - Exception: 'NoneType' object has no attribute 'group'\n"
     ]
    },
    {
     "name": "stdout",
     "output_type": "stream",
     "text": [
      "  3%|█▏                                       | 31/1038 [00:47<24:07,  1.44s/it]2023-07-08 11:41:50,358 - \u001b[1;33mWARNING\u001b[1;0m - Failed to parse output text: \"anatomical location\": \"\", \"detailed observation\": \"repeat chest radiographs (PA and lateral), \"short observation\": \"repeat chest radiographs\", \"category\": \"technical assessment\", \"health status\": \"unknown\", \"prev_study_comparison?\": \"no\", \"comparison status\": \"\", for fact: repeat chest radiographs (PA and lateral),, i: 16140, idx: 16137\n",
      "2023-07-08 11:41:50,358 - \u001b[1;33mWARNING\u001b[1;0m - Exception: 'NoneType' object has no attribute 'group'\n",
      "  3%|█▍                                       | 35/1038 [00:54<25:49,  1.54s/it]2023-07-08 11:41:54,948 - \u001b[1;33mWARNING\u001b[1;0m - Failed to parse output text: \"anatomical location\": \"\", \"detailed observation\": \"infection suggestive of infection suggestive of infection suggestive of infection suggestive of infection suggestive of infection suggestive of infection suggestive of infection suggestive of infection suggestive of infection suggestive of infection suggestive of infection suggestive of infection suggestive of infection suggestive of infection suggestive of infection suggestive of infection suggestive of infection suggestive of infection suggestive of infection suggestive of infection suggestive of infection suggestive of infection suggestive of infection, for fact: infection suggestive of infection suggestive of infection suggestive of infection suggestive of infection suggestive of infection suggestive of infection suggestive of infection suggestive of infection suggestive of infection suggestive of infection suggestive of infection suggestive of infection suggestive of infection suggestive of infection suggestive of infection, i: 17878, idx: 17874\n",
      "2023-07-08 11:41:54,948 - \u001b[1;33mWARNING\u001b[1;0m - Exception: 'NoneType' object has no attribute 'group'\n",
      "  4%|█▌                                       | 39/1038 [01:00<25:32,  1.53s/it]2023-07-08 11:42:02,218 - \u001b[1;32mINFO\u001b[1;0m - Processed 20001 facts\n",
      "2023-07-08 11:42:02,218 - \u001b[1;32mINFO\u001b[1;0m - Example extracted metadata:\n",
      "2023-07-08 11:42:02,218 - \u001b[1;32mINFO\u001b[1;0m - {'fact': 'worsened appearance to the right lower lobe', 'metadata': {'anatomical location': 'right lower lobe', 'detailed observation': 'worsened appearance to the right lower lobe', 'short observation': 'worsened appearance', 'category': 'anatomical finding', 'health status': 'abnormal', 'prev_study_comparison?': 'yes', 'comparison status': 'worsened'}}\n",
      "  5%|█▉                                       | 49/1038 [01:13<22:54,  1.39s/it]2023-07-08 11:42:15,881 - \u001b[1;32mINFO\u001b[1;0m - Processed 25001 facts\n",
      "2023-07-08 11:42:15,881 - \u001b[1;32mINFO\u001b[1;0m - Example extracted metadata:\n",
      "2023-07-08 11:42:15,882 - \u001b[1;32mINFO\u001b[1;0m - {'fact': 'nasogastric tube shows an unchanged normal course', 'metadata': {'anatomical location': '', 'detailed observation': 'nasogastric tube shows an unchanged normal course', 'short observation': 'nasogastric tube unchanged normal course', 'category': 'tubes and lines', 'health status': 'normal', 'prev_study_comparison?': 'yes', 'comparison status': 'unchanged'}}\n",
      "  6%|██▎                                      | 59/1038 [01:28<24:07,  1.48s/it]2023-07-08 11:42:30,472 - \u001b[1;32mINFO\u001b[1;0m - Processed 30001 facts\n",
      "2023-07-08 11:42:30,472 - \u001b[1;32mINFO\u001b[1;0m - Example extracted metadata:\n",
      "2023-07-08 11:42:30,472 - \u001b[1;32mINFO\u001b[1;0m - {'fact': 'opacification in the right mid lung zone has worsened', 'metadata': {'anatomical location': 'right mid lung zone', 'detailed observation': 'opacification', 'short observation': 'opacification', 'category': 'anatomical finding', 'health status': 'abnormal', 'prev_study_comparison?': 'yes', 'comparison status': 'worsened'}}\n",
      "  6%|██▍                                      | 63/1038 [01:34<24:28,  1.51s/it]2023-07-08 11:42:35,064 - \u001b[1;33mWARNING\u001b[1;0m - Failed to parse output text: \"anatomical location\": \"right upper lobe area\", \"detailed observation\": \"new pulmonary parenchymal infiltrate has increased in size\", \"short observation\": \"infiltrate in size\": \"increased in size\", \"category\": \"anatomical finding\", \"health status\": \"abnormal\", \"prev_study_comparison?\": \"yes\", \"comparison status\": \"larger\", for fact: new pulmonary parenchymal infiltrate in the right upper lobe area has increased in size, i: 31752, idx: 31747\n",
      "2023-07-08 11:42:35,064 - \u001b[1;33mWARNING\u001b[1;0m - Exception: 'NoneType' object has no attribute 'group'\n",
      "  7%|██▋                                      | 69/1038 [01:42<23:03,  1.43s/it]2023-07-08 11:42:44,810 - \u001b[1;32mINFO\u001b[1;0m - Processed 35001 facts\n",
      "2023-07-08 11:42:44,810 - \u001b[1;32mINFO\u001b[1;0m - Example extracted metadata:\n",
      "2023-07-08 11:42:44,810 - \u001b[1;32mINFO\u001b[1;0m - {'fact': 'extensive airspace opacities in the right lung', 'metadata': {'anatomical location': 'right lung', 'detailed observation': 'extensive airspace opacities', 'short observation': 'airspace opacities', 'category': 'anatomical finding', 'health status': 'abnormal', 'prev_study_comparison?': 'no', 'comparison status': ''}}\n",
      "  8%|███                                      | 79/1038 [01:57<23:01,  1.44s/it]2023-07-08 11:42:59,349 - \u001b[1;32mINFO\u001b[1;0m - Processed 40001 facts\n",
      "2023-07-08 11:42:59,350 - \u001b[1;32mINFO\u001b[1;0m - Example extracted metadata:\n",
      "2023-07-08 11:42:59,350 - \u001b[1;32mINFO\u001b[1;0m - {'fact': 'left costophrenic angle excluded from the film', 'metadata': {'anatomical location': 'left costophrenic angle', 'detailed observation': 'excluded from the film', 'short observation': 'excluded from the film', 'category': 'anatomical finding', 'health status': 'unknown', 'prev_study_comparison?': 'no', 'comparison status': ''}}\n",
      "  9%|███▌                                     | 89/1038 [02:11<22:39,  1.43s/it]2023-07-08 11:43:13,587 - \u001b[1;32mINFO\u001b[1;0m - Processed 45001 facts\n",
      "2023-07-08 11:43:13,587 - \u001b[1;32mINFO\u001b[1;0m - Example extracted metadata:\n",
      "2023-07-08 11:43:13,587 - \u001b[1;32mINFO\u001b[1;0m - {'fact': 'clips overlying the right upper scapula', 'metadata': {'anatomical location': 'right upper scapula', 'detailed observation': 'clips overlying the right upper scapula', 'short observation': 'clips overlying the right upper scapula', 'category': 'anatomical finding', 'health status': 'unknown', 'prev_study_comparison?': 'no', 'comparison status': ''}}\n",
      " 10%|███▉                                     | 99/1038 [02:25<22:10,  1.42s/it]2023-07-08 11:43:27,697 - \u001b[1;32mINFO\u001b[1;0m - Processed 50001 facts\n",
      "2023-07-08 11:43:27,697 - \u001b[1;32mINFO\u001b[1;0m - Example extracted metadata:\n",
      "2023-07-08 11:43:27,697 - \u001b[1;32mINFO\u001b[1;0m - {'fact': 'right PICC line extends to the upper portion of the right atrium', 'metadata': {'anatomical location': 'upper portion of the right atrium', 'detailed observation': 'right PICC line extends to the upper portion of the right atrium', 'short observation': 'right PICC line extends to right atrium', 'category': 'tubes and lines', 'health status': 'unknown', 'prev_study_comparison?': 'no', 'comparison status': ''}}\n",
      " 11%|████▏                                   | 109/1038 [02:39<21:49,  1.41s/it]2023-07-08 11:43:41,769 - \u001b[1;32mINFO\u001b[1;0m - Processed 55001 facts\n",
      "2023-07-08 11:43:41,770 - \u001b[1;32mINFO\u001b[1;0m - Example extracted metadata:\n",
      "2023-07-08 11:43:41,770 - \u001b[1;32mINFO\u001b[1;0m - {'fact': 'inferior edge of this film lies in the region of the GE junction', 'metadata': {'anatomical location': 'region of the GE junction', 'detailed observation': 'inferior edge of this film lies in the region of the GE junction', 'short observation': 'inferior edge of film in GE junction', 'category': 'technical assessment', 'health status': 'unknown', 'prev_study_comparison?': 'no', 'comparison status': ''}}\n",
      " 11%|████▌                                   | 119/1038 [02:54<22:40,  1.48s/it]2023-07-08 11:43:56,399 - \u001b[1;32mINFO\u001b[1;0m - Processed 60001 facts\n",
      "2023-07-08 11:43:56,399 - \u001b[1;32mINFO\u001b[1;0m - Example extracted metadata:\n",
      "2023-07-08 11:43:56,399 - \u001b[1;32mINFO\u001b[1;0m - {'fact': 'new since the earlier study today', 'metadata': {'anatomical location': '', 'detailed observation': 'new since the earlier study today', 'short observation': 'new', 'category': 'technical assessment', 'health status': 'unknown', 'prev_study_comparison?': 'yes', 'comparison status': 'new'}}\n"
     ]
    },
    {
     "name": "stdout",
     "output_type": "stream",
     "text": [
      " 12%|████▋                                   | 121/1038 [02:57<22:13,  1.45s/it]2023-07-08 11:43:57,786 - \u001b[1;33mWARNING\u001b[1;0m - Failed to parse output text: \"anatomical location\": \"right hilus surrounding the right hilus surrounding the right hilus surrounding the right hilus surrounding the right hilus\", \"detailed observation\": \"ill-defined parenchymal opacity surrounding the right hilus surrounding the right hilus surrounding the right hilus surrounding the right hilus surrounding the right hilus surrounding the right hilus surrounding the right hilus surrounding the right hilus surrounding the right hilus\", \"short observation\": \"ill-defined parenchymal, for fact: ill-defined parenchymal opacity surrounding the right hilus surrounding the right hilus surrounding the right hilus surrounding the right hilus surrounding the right hilus, i: 60815, idx: 60809\n",
      "2023-07-08 11:43:57,786 - \u001b[1;33mWARNING\u001b[1;0m - Exception: 'NoneType' object has no attribute 'group'\n",
      " 12%|████▉                                   | 129/1038 [03:08<21:06,  1.39s/it]2023-07-08 11:44:10,344 - \u001b[1;32mINFO\u001b[1;0m - Processed 65001 facts\n",
      "2023-07-08 11:44:10,344 - \u001b[1;32mINFO\u001b[1;0m - Example extracted metadata:\n",
      "2023-07-08 11:44:10,344 - \u001b[1;32mINFO\u001b[1;0m - {'fact': 'suggesting trace pleural effusion', 'metadata': {'anatomical location': '', 'detailed observation': 'trace pleural effusion', 'short observation': 'trace pleural effusion', 'category': 'anatomical finding', 'health status': 'abnormal', 'prev_study_comparison?': 'no', 'comparison status': ''}}\n",
      " 13%|█████▎                                  | 139/1038 [03:23<21:55,  1.46s/it]2023-07-08 11:44:25,125 - \u001b[1;32mINFO\u001b[1;0m - Processed 70001 facts\n",
      "2023-07-08 11:44:25,125 - \u001b[1;32mINFO\u001b[1;0m - Example extracted metadata:\n",
      "2023-07-08 11:44:25,125 - \u001b[1;32mINFO\u001b[1;0m - {'fact': 'right PICC tip terminates in the upper SVC', 'metadata': {'anatomical location': 'upper SVC', 'detailed observation': 'right PICC tip terminates in the upper SVC', 'short observation': 'right PICC tip terminates in the upper SVC', 'category': 'tubes and lines', 'health status': 'normal', 'prev_study_comparison?': 'no', 'comparison status': ''}}\n",
      " 14%|█████▋                                  | 149/1038 [03:36<20:49,  1.41s/it]2023-07-08 11:44:38,798 - \u001b[1;32mINFO\u001b[1;0m - Processed 75001 facts\n",
      "2023-07-08 11:44:38,798 - \u001b[1;32mINFO\u001b[1;0m - Example extracted metadata:\n",
      "2023-07-08 11:44:38,798 - \u001b[1;32mINFO\u001b[1;0m - {'fact': 'patchy opacity at the right apex', 'metadata': {'anatomical location': 'right apex', 'detailed observation': 'patchy opacity', 'short observation': 'patchy opacity', 'category': 'anatomical finding', 'health status': 'abnormal', 'prev_study_comparison?': 'no', 'comparison status': ''}}\n",
      " 15%|██████▏                                 | 159/1038 [03:51<20:57,  1.43s/it]2023-07-08 11:44:53,237 - \u001b[1;32mINFO\u001b[1;0m - Processed 80001 facts\n",
      "2023-07-08 11:44:53,237 - \u001b[1;32mINFO\u001b[1;0m - Example extracted metadata:\n",
      "2023-07-08 11:44:53,237 - \u001b[1;32mINFO\u001b[1;0m - {'fact': 'ill definition of the left base', 'metadata': {'anatomical location': 'left base', 'detailed observation': 'ill definition of the left base', 'short observation': 'ill definition', 'category': 'anatomical finding', 'health status': 'abnormal', 'prev_study_comparison?': 'no', 'comparison status': ''}}\n",
      " 16%|██████▌                                 | 169/1038 [04:05<20:05,  1.39s/it]2023-07-08 11:45:07,361 - \u001b[1;32mINFO\u001b[1;0m - Processed 85001 facts\n",
      "2023-07-08 11:45:07,361 - \u001b[1;32mINFO\u001b[1;0m - Example extracted metadata:\n",
      "2023-07-08 11:45:07,361 - \u001b[1;32mINFO\u001b[1;0m - {'fact': 'no pleural effusions documented on the lateral radiograph', 'metadata': {'anatomical location': '', 'detailed observation': 'no pleural effusions documented on the lateral radiograph', 'short observation': 'no pleural effusions', 'category': 'anatomical finding', 'health status': 'normal', 'prev_study_comparison?': 'no', 'comparison status': ''}}\n",
      " 17%|██████▉                                 | 179/1038 [04:19<20:48,  1.45s/it]2023-07-08 11:45:21,509 - \u001b[1;32mINFO\u001b[1;0m - Processed 90001 facts\n",
      "2023-07-08 11:45:21,509 - \u001b[1;32mINFO\u001b[1;0m - Example extracted metadata:\n",
      "2023-07-08 11:45:21,509 - \u001b[1;32mINFO\u001b[1;0m - {'fact': 'obliteration of the entire posterior pleural sinus up to the level of the hila', 'metadata': {'anatomical location': 'posterior pleural sinus', 'detailed observation': 'obliteration of the entire posterior pleural sinus up to the level of the hila', 'short observation': 'obliteration of posterior pleural sinus', 'category': 'anatomical finding', 'health status': 'abnormal', 'prev_study_comparison?': 'no', 'comparison status': ''}}\n",
      " 18%|███████▏                                | 187/1038 [04:30<19:27,  1.37s/it]2023-07-08 11:45:32,340 - \u001b[1;33mWARNING\u001b[1;0m - Failed to parse output text: \"anatomical location\": \"paraspinal\", \"detailed observation\": \"health status\": \"normal\", \"prev_study_comparison?\": \"no\", \"comparison status\": \"\", for fact: paraspinal tissues, i: 94133, idx: 94126\n",
      "2023-07-08 11:45:32,340 - \u001b[1;33mWARNING\u001b[1;0m - Exception: 'NoneType' object has no attribute 'group'\n",
      " 18%|███████▎                                | 189/1038 [04:33<19:16,  1.36s/it]2023-07-08 11:45:35,021 - \u001b[1;32mINFO\u001b[1;0m - Processed 95001 facts\n",
      "2023-07-08 11:45:35,022 - \u001b[1;32mINFO\u001b[1;0m - Example extracted metadata:\n",
      "2023-07-08 11:45:35,022 - \u001b[1;32mINFO\u001b[1;0m - {'fact': 'no definitive sign of loculated effusion', 'metadata': {'anatomical location': '', 'detailed observation': 'no definitive sign of loculated effusion', 'short observation': 'no loculated effusion', 'category': 'anatomical finding', 'health status': 'normal', 'prev_study_comparison?': 'no', 'comparison status': ''}}\n",
      " 19%|███████▋                                | 199/1038 [04:46<18:56,  1.35s/it]2023-07-08 11:45:48,551 - \u001b[1;32mINFO\u001b[1;0m - Processed 100001 facts\n",
      "2023-07-08 11:45:48,551 - \u001b[1;32mINFO\u001b[1;0m - Example extracted metadata:\n",
      "2023-07-08 11:45:48,551 - \u001b[1;32mINFO\u001b[1;0m - {'fact': 'old right rib fracture', 'metadata': {'anatomical location': 'right rib', 'detailed observation': 'old rib fracture', 'short observation': 'rib fracture', 'category': 'anatomical finding', 'health status': 'abnormal', 'prev_study_comparison?': 'no', 'comparison status': ''}}\n",
      " 20%|████████                                | 209/1038 [05:00<19:01,  1.38s/it]2023-07-08 11:46:02,445 - \u001b[1;32mINFO\u001b[1;0m - Processed 105001 facts\n",
      "2023-07-08 11:46:02,445 - \u001b[1;32mINFO\u001b[1;0m - Example extracted metadata:\n",
      "2023-07-08 11:46:02,445 - \u001b[1;32mINFO\u001b[1;0m - {'fact': 'unchanged severity of left lower lobe parenchymal opacity with air bronchograms', 'metadata': {'anatomical location': 'left lower lobe', 'detailed observation': 'unchanged severity of parenchymal opacity with air bronchograms', 'short observation': 'parenchymal opacity with air bronchograms', 'category': 'anatomical finding', 'health status': 'abnormal', 'prev_study_comparison?': 'yes', 'comparison status': 'unchanged'}}\n",
      " 21%|████████▍                               | 219/1038 [05:14<18:59,  1.39s/it]2023-07-08 11:46:16,151 - \u001b[1;32mINFO\u001b[1;0m - Processed 110001 facts\n",
      "2023-07-08 11:46:16,151 - \u001b[1;32mINFO\u001b[1;0m - Example extracted metadata:\n",
      "2023-07-08 11:46:16,151 - \u001b[1;32mINFO\u001b[1;0m - {'fact': 'smaller pleural effusion at the right base', 'metadata': {'anatomical location': 'right base', 'detailed observation': 'smaller pleural effusion', 'short observation': 'pleural effusion', 'category': 'anatomical finding', 'health status': 'abnormal', 'prev_study_comparison?': 'yes', 'comparison status': 'smaller'}}\n",
      " 22%|████████▊                               | 229/1038 [05:28<18:55,  1.40s/it]2023-07-08 11:46:29,886 - \u001b[1;32mINFO\u001b[1;0m - Processed 115001 facts\n",
      "2023-07-08 11:46:29,886 - \u001b[1;32mINFO\u001b[1;0m - Example extracted metadata:\n",
      "2023-07-08 11:46:29,886 - \u001b[1;32mINFO\u001b[1;0m - {'fact': 'left trans jugular central venous catheter ends in the upper right atrium', 'metadata': {'anatomical location': 'upper right atrium', 'detailed observation': 'left trans jugular central venous catheter ends in the upper right atrium', 'short observation': 'central venous catheter ends in upper right atrium', 'category': 'tubes and lines', 'health status': 'unknown', 'prev_study_comparison?': 'no', 'comparison status': ''}}\n"
     ]
    },
    {
     "name": "stdout",
     "output_type": "stream",
     "text": [
      " 23%|█████████▏                              | 239/1038 [05:41<18:32,  1.39s/it]2023-07-08 11:46:43,858 - \u001b[1;32mINFO\u001b[1;0m - Processed 120001 facts\n",
      "2023-07-08 11:46:43,858 - \u001b[1;32mINFO\u001b[1;0m - Example extracted metadata:\n",
      "2023-07-08 11:46:43,859 - \u001b[1;32mINFO\u001b[1;0m - {'fact': 'pleural plaques more conspicuous on the left', 'metadata': {'anatomical location': 'left', 'detailed observation': 'pleural plaques more conspicuous on the left', 'short observation': 'pleural plaques more conspicuous on the left', 'category': 'anatomical finding', 'health status': 'abnormal', 'prev_study_comparison?': 'no', 'comparison status': ''}}\n",
      "2023-07-08 11:46:43,861 - \u001b[1;33mWARNING\u001b[1;0m - Failed to parse output text: \"anatomical location\": \"right hemidiaphragm\", \"detailed observation\": \"continued opacification of the right hemidiaphragm\", \"short observation\": \"opacification of right hemidiaphragm\", \"category\": \"anatomical finding\", \"health status\": \"abnormal\", \"prev_study_comparison?\": \"yes\", \"comparison status\": \"continued , for fact: continued opacification of the right hemidiaphragm, i: 120160, idx: 120152\n",
      "2023-07-08 11:46:43,861 - \u001b[1;33mWARNING\u001b[1;0m - Exception: 'NoneType' object has no attribute 'group'\n",
      " 24%|█████████▌                              | 249/1038 [05:55<18:08,  1.38s/it]2023-07-08 11:46:58,000 - \u001b[1;32mINFO\u001b[1;0m - Processed 125001 facts\n",
      "2023-07-08 11:46:58,000 - \u001b[1;32mINFO\u001b[1;0m - Example extracted metadata:\n",
      "2023-07-08 11:46:58,000 - \u001b[1;32mINFO\u001b[1;0m - {'fact': 'crowding of bronchovascular structures in the lower lobes', 'metadata': {'anatomical location': 'lower lobes', 'detailed observation': 'crowding of bronchovascular structures', 'short observation': 'crowding of bronchovascular structures', 'category': 'anatomical finding', 'health status': 'abnormal', 'prev_study_comparison?': 'no', 'comparison status': ''}}\n",
      " 25%|█████████▉                              | 257/1038 [06:07<18:35,  1.43s/it]2023-07-08 11:47:09,497 - \u001b[1;33mWARNING\u001b[1;0m - Failed to parse output text: \"anatomical location\": \"left lung\", \"detailed observation\": \"short observation\": \"sickness\", \"category\": \"disease\", \"health status\": \"abnormal\", \"prev_study_comparison?\": \"no\", \"comparison status\": \"\", for fact: disease particularly obvious in the left lung, i: 129321, idx: 129312\n",
      "2023-07-08 11:47:09,497 - \u001b[1;33mWARNING\u001b[1;0m - Exception: 'NoneType' object has no attribute 'group'\n",
      " 25%|█████████▉                              | 259/1038 [06:10<18:57,  1.46s/it]2023-07-08 11:47:12,519 - \u001b[1;32mINFO\u001b[1;0m - Processed 130001 facts\n",
      "2023-07-08 11:47:12,519 - \u001b[1;32mINFO\u001b[1;0m - Example extracted metadata:\n",
      "2023-07-08 11:47:12,519 - \u001b[1;32mINFO\u001b[1;0m - {'fact': 'minimally improved right upper lobe expansion', 'metadata': {'anatomical location': 'right upper lobe', 'detailed observation': 'minimally improved expansion', 'short observation': 'expansion', 'category': 'anatomical finding', 'health status': 'abnormal', 'prev_study_comparison?': 'yes', 'comparison status': 'improved'}}\n",
      " 26%|██████████▎                             | 269/1038 [06:24<18:21,  1.43s/it]2023-07-08 11:47:26,598 - \u001b[1;32mINFO\u001b[1;0m - Processed 135001 facts\n",
      "2023-07-08 11:47:26,598 - \u001b[1;32mINFO\u001b[1;0m - Example extracted metadata:\n",
      "2023-07-08 11:47:26,598 - \u001b[1;32mINFO\u001b[1;0m - {'fact': 'no other causes that might explain chest pain', 'metadata': {'anatomical location': '', 'detailed observation': 'no other causes that might explain chest pain', 'short observation': 'no other causes of chest pain', 'category': 'disease', 'health status': 'normal', 'prev_study_comparison?': 'no', 'comparison status': ''}}\n",
      " 27%|██████████▋                             | 277/1038 [06:35<17:58,  1.42s/it]2023-07-08 11:47:36,546 - \u001b[1;33mWARNING\u001b[1;0m - Failed to parse output text: \"anatomical location\": \"apex of the right hemidiaphragm at the level of the sixth anterior rib\", \"detailed observation\": \"nodule projecting through the apex of the right hemidiaphragm at the level of the sixth anterior rib\", \"short observation\": \"nodule projecting through the apex of the right hemidiaphragm\", \"category\": \"anatomical, for fact: suggestion of a nodule projecting through the apex of the right hemidiaphragm at the level of the sixth anterior rib, i: 138607, idx: 138597\n",
      "2023-07-08 11:47:36,546 - \u001b[1;33mWARNING\u001b[1;0m - Exception: 'NoneType' object has no attribute 'group'\n",
      " 27%|██████████▊                             | 279/1038 [06:38<17:49,  1.41s/it]2023-07-08 11:47:40,616 - \u001b[1;32mINFO\u001b[1;0m - Processed 140001 facts\n",
      "2023-07-08 11:47:40,616 - \u001b[1;32mINFO\u001b[1;0m - Example extracted metadata:\n",
      "2023-07-08 11:47:40,616 - \u001b[1;32mINFO\u001b[1;0m - {'fact': 'opacities that might represent potentially bibasal pneumonia', 'metadata': {'anatomical location': 'bibasal', 'detailed observation': 'opacities that might represent potentially bibasal pneumonia', 'short observation': 'opacities', 'category': 'anatomical finding', 'health status': 'ambiguous', 'prev_study_comparison?': 'no', 'comparison status': ''}}\n",
      " 28%|███████████▏                            | 289/1038 [06:53<18:21,  1.47s/it]2023-07-08 11:47:55,264 - \u001b[1;32mINFO\u001b[1;0m - Processed 145001 facts\n",
      "2023-07-08 11:47:55,264 - \u001b[1;32mINFO\u001b[1;0m - Example extracted metadata:\n",
      "2023-07-08 11:47:55,264 - \u001b[1;32mINFO\u001b[1;0m - {'fact': 'compression fracture deformities of the lower thoracic vertebral bodies', 'metadata': {'anatomical location': 'lower thoracic vertebral bodies', 'detailed observation': 'compression fracture deformities of the lower thoracic vertebral bodies', 'short observation': 'compression fracture deformities', 'category': 'anatomical finding', 'health status': 'abnormal', 'prev_study_comparison?': 'no', 'comparison status': ''}}\n",
      " 28%|███████████▎                            | 293/1038 [06:58<17:42,  1.43s/it]2023-07-08 11:48:00,946 - \u001b[1;33mWARNING\u001b[1;0m - Failed to parse output text: \"anatomical location\": \"lateral wall of the proximal superior vena cava at the level of the junction of the brachiocephalic veins\", \"detailed observation\": \"tip of left PICC directed laterally towards the lateral wall of the proximal superior vena cava at the level of the junction of the brachiocephalic veins\", \"short observation\": \"tip of left PICC directed laterally towards the lateral wall of the , for fact: tip of left PICC directed laterally towards the lateral wall of the proximal superior vena cava at the level of the junction of the brachiocephalic veins, i: 147155, idx: 147144\n",
      "2023-07-08 11:48:00,946 - \u001b[1;33mWARNING\u001b[1;0m - Exception: 'NoneType' object has no attribute 'group'\n",
      " 29%|███████████▌                            | 299/1038 [07:07<17:47,  1.44s/it]2023-07-08 11:48:09,351 - \u001b[1;32mINFO\u001b[1;0m - Processed 150001 facts\n",
      "2023-07-08 11:48:09,352 - \u001b[1;32mINFO\u001b[1;0m - Example extracted metadata:\n",
      "2023-07-08 11:48:09,352 - \u001b[1;32mINFO\u001b[1;0m - {'fact': 'catheter tip in the mid-to-low SVC', 'metadata': {'anatomical location': 'mid-to-low SVC', 'detailed observation': 'catheter tip in the mid-to-low SVC', 'short observation': 'catheter tip in SVC', 'category': 'tubes and lines', 'health status': 'normal', 'prev_study_comparison?': 'no', 'comparison status': ''}}\n",
      " 30%|███████████▉                            | 309/1038 [07:21<17:23,  1.43s/it]2023-07-08 11:48:23,507 - \u001b[1;32mINFO\u001b[1;0m - Processed 155001 facts\n",
      "2023-07-08 11:48:23,507 - \u001b[1;32mINFO\u001b[1;0m - Example extracted metadata:\n",
      "2023-07-08 11:48:23,507 - \u001b[1;32mINFO\u001b[1;0m - {'fact': 'subtle increased opacities in the right upper lung', 'metadata': {'anatomical location': 'right upper lung', 'detailed observation': 'subtle increased opacities', 'short observation': 'increased opacities', 'category': 'anatomical finding', 'health status': 'abnormal', 'prev_study_comparison?': 'no', 'comparison status': ''}}\n",
      " 31%|████████████▎                           | 319/1038 [07:35<16:27,  1.37s/it]2023-07-08 11:48:37,249 - \u001b[1;32mINFO\u001b[1;0m - Processed 160001 facts\n",
      "2023-07-08 11:48:37,250 - \u001b[1;32mINFO\u001b[1;0m - Example extracted metadata:\n",
      "2023-07-08 11:48:37,250 - \u001b[1;32mINFO\u001b[1;0m - {'fact': 'unchanged scarring in the right peripheral lower lung zone', 'metadata': {'anatomical location': 'right peripheral lower lung zone', 'detailed observation': 'unchanged scarring', 'short observation': 'scarring', 'category': 'anatomical finding', 'health status': 'abnormal', 'prev_study_comparison?': 'yes', 'comparison status': 'unchanged'}}\n"
     ]
    },
    {
     "name": "stdout",
     "output_type": "stream",
     "text": [
      " 32%|████████████▋                           | 329/1038 [07:49<16:08,  1.37s/it]2023-07-08 11:48:50,896 - \u001b[1;32mINFO\u001b[1;0m - Processed 165001 facts\n",
      "2023-07-08 11:48:50,896 - \u001b[1;32mINFO\u001b[1;0m - Example extracted metadata:\n",
      "2023-07-08 11:48:50,896 - \u001b[1;32mINFO\u001b[1;0m - {'fact': 'focal opacification in the left retrocardiac region', 'metadata': {'anatomical location': 'left retrocardiac region', 'detailed observation': 'focal opacification', 'short observation': 'focal opacification', 'category': 'anatomical finding', 'health status': 'abnormal', 'prev_study_comparison?': 'no', 'comparison status': ''}}\n",
      "2023-07-08 11:48:50,900 - \u001b[1;33mWARNING\u001b[1;0m - Failed to parse output text: \"anatomical location\": \"\", \"detailed observation\": \"prev_study_comparison?\": \"no\", \"comparison status\": \"\", for fact: favoring aspiration over infectious pneumonia, i: 165347, idx: 165335\n",
      "2023-07-08 11:48:50,900 - \u001b[1;33mWARNING\u001b[1;0m - Exception: 'NoneType' object has no attribute 'group'\n",
      " 33%|█████████████                           | 339/1038 [08:02<16:05,  1.38s/it]2023-07-08 11:49:04,690 - \u001b[1;32mINFO\u001b[1;0m - Processed 170001 facts\n",
      "2023-07-08 11:49:04,690 - \u001b[1;32mINFO\u001b[1;0m - Example extracted metadata:\n",
      "2023-07-08 11:49:04,690 - \u001b[1;32mINFO\u001b[1;0m - {'fact': 'right lower lobe has re-expanded', 'metadata': {'anatomical location': 'right lower lobe', 'detailed observation': 're-expanded', 'short observation': 're-expanded', 'category': 'anatomical finding', 'health status': 'normal', 'prev_study_comparison?': 'yes', 'comparison status': 'improved'}}\n",
      " 34%|█████████████▍                          | 349/1038 [08:16<16:09,  1.41s/it]2023-07-08 11:49:19,005 - \u001b[1;32mINFO\u001b[1;0m - Processed 175001 facts\n",
      "2023-07-08 11:49:19,005 - \u001b[1;32mINFO\u001b[1;0m - Example extracted metadata:\n",
      "2023-07-08 11:49:19,005 - \u001b[1;32mINFO\u001b[1;0m - {'fact': 'chronic left lower lobe atelectasis', 'metadata': {'anatomical location': 'left lower lobe', 'detailed observation': 'chronic atelectasis', 'short observation': 'atelectasis', 'category': 'anatomical finding', 'health status': 'abnormal', 'prev_study_comparison?': 'no', 'comparison status': ''}}\n",
      " 34%|█████████████▋                          | 355/1038 [08:25<16:16,  1.43s/it]2023-07-08 11:49:26,368 - \u001b[1;33mWARNING\u001b[1;0m - Failed to parse output text: \"anatomical location\": \"pulmonary metastases\", \"detailed observation\": \"substantial increase in size of pulmonary metastases from the middle of the middle of the mid of the mid of the mid of the mid of the mid of the mid of the mid of the mid of the mid of the mid of the mid of the mid of the mid of the mid of the mid of the mid of the mid of the mid of the mid of the mid of the mid of the mid of the mid of the mid, for fact: substantial increase in size of pulmonary metastases from the middle of, i: 177768, idx: 177755\n",
      "2023-07-08 11:49:26,368 - \u001b[1;33mWARNING\u001b[1;0m - Exception: 'NoneType' object has no attribute 'group'\n",
      " 35%|█████████████▊                          | 359/1038 [08:31<16:09,  1.43s/it]2023-07-08 11:49:33,147 - \u001b[1;32mINFO\u001b[1;0m - Processed 180001 facts\n",
      "2023-07-08 11:49:33,147 - \u001b[1;32mINFO\u001b[1;0m - Example extracted metadata:\n",
      "2023-07-08 11:49:33,147 - \u001b[1;32mINFO\u001b[1;0m - {'fact': 'chronic interstitial abnormality within the periphery of the right mid lung field', 'metadata': {'anatomical location': 'periphery of the right mid lung field', 'detailed observation': 'chronic interstitial abnormality', 'short observation': 'interstitial abnormality', 'category': 'anatomical finding', 'health status': 'abnormal', 'prev_study_comparison?': 'no', 'comparison status': ''}}\n",
      " 36%|██████████████▏                         | 369/1038 [08:44<15:06,  1.36s/it]2023-07-08 11:49:46,758 - \u001b[1;32mINFO\u001b[1;0m - Processed 185001 facts\n",
      "2023-07-08 11:49:46,758 - \u001b[1;32mINFO\u001b[1;0m - Example extracted metadata:\n",
      "2023-07-08 11:49:46,758 - \u001b[1;32mINFO\u001b[1;0m - {'fact': 'mild compression fracture in the lower thoracic spine', 'metadata': {'anatomical location': 'lower thoracic spine', 'detailed observation': 'mild compression fracture', 'short observation': 'mild compression fracture', 'category': 'anatomical finding', 'health status': 'abnormal', 'prev_study_comparison?': 'no', 'comparison status': ''}}\n",
      " 37%|██████████████▌                         | 379/1038 [08:58<14:52,  1.35s/it]2023-07-08 11:50:00,630 - \u001b[1;32mINFO\u001b[1;0m - Processed 190001 facts\n",
      "2023-07-08 11:50:00,630 - \u001b[1;32mINFO\u001b[1;0m - Example extracted metadata:\n",
      "2023-07-08 11:50:00,630 - \u001b[1;32mINFO\u001b[1;0m - {'fact': 'decrease in the degree of right pleural effusion', 'metadata': {'anatomical location': 'right', 'detailed observation': 'decrease in the degree of pleural effusion', 'short observation': 'decrease in pleural effusion', 'category': 'anatomical finding', 'health status': 'abnormal', 'prev_study_comparison?': 'yes', 'comparison status': 'improved'}}\n",
      " 37%|██████████████▉                         | 389/1038 [09:12<15:23,  1.42s/it]2023-07-08 11:50:14,928 - \u001b[1;32mINFO\u001b[1;0m - Processed 195001 facts\n",
      "2023-07-08 11:50:14,928 - \u001b[1;32mINFO\u001b[1;0m - Example extracted metadata:\n",
      "2023-07-08 11:50:14,928 - \u001b[1;32mINFO\u001b[1;0m - {'fact': 'tip of the tube is relatively high', 'metadata': {'anatomical location': '', 'detailed observation': 'tip of the tube is relatively high', 'short observation': 'tube tip is high', 'category': 'tubes and lines', 'health status': 'unknown', 'prev_study_comparison?': 'no', 'comparison status': ''}}\n",
      " 38%|███████████████▍                        | 399/1038 [09:26<14:39,  1.38s/it]2023-07-08 11:50:28,407 - \u001b[1;32mINFO\u001b[1;0m - Processed 200001 facts\n",
      "2023-07-08 11:50:28,407 - \u001b[1;32mINFO\u001b[1;0m - Example extracted metadata:\n",
      "2023-07-08 11:50:28,408 - \u001b[1;32mINFO\u001b[1;0m - {'fact': 'pleural fluid limited to fluid markings of the fissures on the frontal image', 'metadata': {'anatomical location': 'fissures', 'detailed observation': 'pleural fluid limited to fluid markings of the fissures on the frontal image', 'short observation': 'pleural fluid limited to fissure markings', 'category': 'anatomical finding', 'health status': 'abnormal', 'prev_study_comparison?': 'no', 'comparison status': ''}}\n",
      " 39%|███████████████▊                        | 409/1038 [09:40<14:28,  1.38s/it]2023-07-08 11:50:42,655 - \u001b[1;32mINFO\u001b[1;0m - Processed 205001 facts\n",
      "2023-07-08 11:50:42,655 - \u001b[1;32mINFO\u001b[1;0m - Example extracted metadata:\n",
      "2023-07-08 11:50:42,655 - \u001b[1;32mINFO\u001b[1;0m - {'fact': 'improvement in moderate-to-severe pulmonary edema', 'metadata': {'anatomical location': '', 'detailed observation': 'improvement in moderate-to-severe pulmonary edema', 'short observation': 'improvement in pulmonary edema', 'category': 'anatomical finding', 'health status': 'abnormal', 'prev_study_comparison?': 'yes', 'comparison status': 'improved'}}\n",
      " 40%|███████████████▊                        | 411/1038 [09:43<14:46,  1.41s/it]2023-07-08 11:50:44,240 - \u001b[1;33mWARNING\u001b[1;0m - Failed to parse output text: \"anatomical location\": \"left costophrenic angles\", \"detailed observation\": \"prev_study_comparison?\": \"no\", \"comparison status\": \"\", for fact: costophrenic angles particularly on the left, i: 205919, idx: 205905\n",
      "2023-07-08 11:50:44,240 - \u001b[1;33mWARNING\u001b[1;0m - Exception: 'NoneType' object has no attribute 'group'\n",
      " 40%|████████████████▏                       | 419/1038 [09:55<14:33,  1.41s/it]2023-07-08 11:50:56,879 - \u001b[1;32mINFO\u001b[1;0m - Processed 210001 facts\n",
      "2023-07-08 11:50:56,879 - \u001b[1;32mINFO\u001b[1;0m - Example extracted metadata:\n",
      "2023-07-08 11:50:56,879 - \u001b[1;32mINFO\u001b[1;0m - {'fact': 'pre-existing signs of moderate fluid overload', 'metadata': {'anatomical location': '', 'detailed observation': 'pre-existing signs of moderate fluid overload', 'short observation': 'moderate fluid overload', 'category': 'disease', 'health status': 'abnormal', 'prev_study_comparison?': 'no', 'comparison status': ''}}\n",
      " 41%|████████████████▌                       | 429/1038 [10:08<13:58,  1.38s/it]2023-07-08 11:51:10,796 - \u001b[1;32mINFO\u001b[1;0m - Processed 215001 facts\n",
      "2023-07-08 11:51:10,796 - \u001b[1;32mINFO\u001b[1;0m - Example extracted metadata:\n",
      "2023-07-08 11:51:10,796 - \u001b[1;32mINFO\u001b[1;0m - {'fact': 'Dobbhoff tube in the mid-to-distal stomach', 'metadata': {'anatomical location': 'mid-to-distal stomach', 'detailed observation': 'Dobbhoff tube', 'short observation': 'Dobbhoff tube', 'category': 'tubes and lines', 'health status': 'unknown', 'prev_study_comparison?': 'no', 'comparison status': ''}}\n"
     ]
    },
    {
     "name": "stdout",
     "output_type": "stream",
     "text": [
      " 42%|████████████████▉                       | 439/1038 [10:23<15:00,  1.50s/it]2023-07-08 11:51:25,890 - \u001b[1;32mINFO\u001b[1;0m - Processed 220001 facts\n",
      "2023-07-08 11:51:25,890 - \u001b[1;32mINFO\u001b[1;0m - Example extracted metadata:\n",
      "2023-07-08 11:51:25,890 - \u001b[1;32mINFO\u001b[1;0m - {'fact': 'reduction of ventilated right lung parenchyma', 'metadata': {'anatomical location': 'right lung parenchyma', 'detailed observation': 'reduction of ventilated right lung parenchyma', 'short observation': 'reduction of right lung parenchyma', 'category': 'anatomical finding', 'health status': 'abnormal', 'prev_study_comparison?': 'yes', 'comparison status': 'improved'}}\n",
      " 43%|█████████████████▎                      | 449/1038 [10:39<14:39,  1.49s/it]2023-07-08 11:51:40,859 - \u001b[1;32mINFO\u001b[1;0m - Processed 225001 facts\n",
      "2023-07-08 11:51:40,859 - \u001b[1;32mINFO\u001b[1;0m - Example extracted metadata:\n",
      "2023-07-08 11:51:40,859 - \u001b[1;32mINFO\u001b[1;0m - {'fact': 'vague opacity overly the spine on the lateral', 'metadata': {'anatomical location': 'spine', 'detailed observation': 'vague opacity overly the spine on the lateral', 'short observation': 'vague opacity overly the spine', 'category': 'anatomical finding', 'health status': 'ambiguous', 'prev_study_comparison?': 'no', 'comparison status': ''}}\n",
      " 44%|█████████████████▍                      | 453/1038 [10:44<13:53,  1.42s/it]2023-07-08 11:51:46,462 - \u001b[1;33mWARNING\u001b[1;0m - Failed to parse output text: \"anatomical location\": \"distal location\": \"Swan Ganz catheter\", \"detailed observation\": \"Swan Ganz catheter\", \"short observation\": \"Swan Ganz catheter\", \"category\": \"device\", \"health status\": \"unknown\", \"prev_study_comparison?\": \"no\", \"comparison status\": \"\", for fact: distal location of Swan Ganz catheter, i: 227497, idx: 227482\n",
      "2023-07-08 11:51:46,462 - \u001b[1;33mWARNING\u001b[1;0m - Exception: 'NoneType' object has no attribute 'group'\n",
      " 44%|█████████████████▌                      | 457/1038 [10:50<13:48,  1.43s/it]2023-07-08 11:51:52,219 - \u001b[1;33mWARNING\u001b[1;0m - Failed to parse output text: \"anatomical location\": \"\", \"detailed observation\": \"granulomatous processes (sarcoidosis), \"short observation\": \"granulomatous processes\", \"category\": \"disease\", \"health status\": \"abnormal\", \"prev_study_comparison?\": \"no\", \"comparison status\": \"\", for fact: granulomatous processes (sarcoidosis),, i: 229090, idx: 229074\n",
      "2023-07-08 11:51:52,219 - \u001b[1;33mWARNING\u001b[1;0m - Exception: 'NoneType' object has no attribute 'group'\n",
      " 44%|█████████████████▋                      | 459/1038 [10:53<13:49,  1.43s/it]2023-07-08 11:51:54,853 - \u001b[1;32mINFO\u001b[1;0m - Processed 230001 facts\n",
      "2023-07-08 11:51:54,853 - \u001b[1;32mINFO\u001b[1;0m - Example extracted metadata:\n",
      "2023-07-08 11:51:54,853 - \u001b[1;32mINFO\u001b[1;0m - {'fact': 'possible progressive consolidation in the left lung base', 'metadata': {'anatomical location': 'left lung base', 'detailed observation': 'possible progressive consolidation', 'short observation': 'progressive consolidation', 'category': 'anatomical finding', 'health status': 'ambiguous', 'prev_study_comparison?': 'no', 'comparison status': ''}}\n",
      " 45%|██████████████████                      | 469/1038 [11:07<13:37,  1.44s/it]2023-07-08 11:52:09,065 - \u001b[1;32mINFO\u001b[1;0m - Processed 235001 facts\n",
      "2023-07-08 11:52:09,065 - \u001b[1;32mINFO\u001b[1;0m - Example extracted metadata:\n",
      "2023-07-08 11:52:09,065 - \u001b[1;32mINFO\u001b[1;0m - {'fact': 'subtly increased in left upper lung', 'metadata': {'anatomical location': 'left upper lung', 'detailed observation': 'subtly increased in left upper lung', 'short observation': 'subtly increased', 'category': 'anatomical finding', 'health status': 'abnormal', 'prev_study_comparison?': 'no', 'comparison status': ''}}\n",
      " 46%|██████████████████▍                     | 479/1038 [11:21<13:16,  1.43s/it]2023-07-08 11:52:23,395 - \u001b[1;32mINFO\u001b[1;0m - Processed 240001 facts\n",
      "2023-07-08 11:52:23,395 - \u001b[1;32mINFO\u001b[1;0m - Example extracted metadata:\n",
      "2023-07-08 11:52:23,395 - \u001b[1;32mINFO\u001b[1;0m - {'fact': 'similar size', 'metadata': {'anatomical location': '', 'detailed observation': 'similar size', 'short observation': 'similar size', 'category': 'anatomical finding', 'health status': 'unknown', 'prev_study_comparison?': 'no', 'comparison status': ''}}\n",
      " 47%|██████████████████▊                     | 489/1038 [11:35<12:52,  1.41s/it]2023-07-08 11:52:37,601 - \u001b[1;32mINFO\u001b[1;0m - Processed 245001 facts\n",
      "2023-07-08 11:52:37,602 - \u001b[1;32mINFO\u001b[1;0m - Example extracted metadata:\n",
      "2023-07-08 11:52:37,602 - \u001b[1;32mINFO\u001b[1;0m - {'fact': 'interval progression of the overall process', 'metadata': {'anatomical location': '', 'detailed observation': 'interval progression of the overall process', 'short observation': 'interval progression', 'category': 'technical assessment', 'health status': 'unknown', 'prev_study_comparison?': 'yes', 'comparison status': 'improved'}}\n",
      " 48%|███████████████████▏                    | 499/1038 [11:50<13:01,  1.45s/it]2023-07-08 11:52:50,690 - \u001b[1;33mWARNING\u001b[1;0m - Failed to parse output text: \"anatomical location\": \"descending aorta\", \"detailed observation\": \"detailed observation\": \"detailed observation\": \"detailed observation\": \"detailed observation\": \"detailed observation\": \"detailed observation\": \"detailed observation\": \"detailed observation\": \"detailed observation\": \"detailed observation\": \"detailed observation\": \"detailed observation\": \"detailed observation\": \"distortion\", for fact: descending aorta is demonstrated to be 5 cm, i: 249887, idx: 249870\n",
      "2023-07-08 11:52:50,690 - \u001b[1;33mWARNING\u001b[1;0m - Exception: 'NoneType' object has no attribute 'group'\n",
      "2023-07-08 11:52:52,068 - \u001b[1;32mINFO\u001b[1;0m - Processed 250001 facts\n",
      "2023-07-08 11:52:52,068 - \u001b[1;32mINFO\u001b[1;0m - Example extracted metadata:\n",
      "2023-07-08 11:52:52,068 - \u001b[1;32mINFO\u001b[1;0m - {'fact': 'minor streaky medial left base atelectasis', 'metadata': {'anatomical location': 'medial left base', 'detailed observation': 'minor streaky atelectasis', 'short observation': 'minor atelectasis', 'category': 'anatomical finding', 'health status': 'abnormal', 'prev_study_comparison?': 'no', 'comparison status': ''}}\n",
      " 49%|███████████████████▌                    | 509/1038 [12:04<12:20,  1.40s/it]2023-07-08 11:53:06,039 - \u001b[1;32mINFO\u001b[1;0m - Processed 255001 facts\n",
      "2023-07-08 11:53:06,039 - \u001b[1;32mINFO\u001b[1;0m - Example extracted metadata:\n",
      "2023-07-08 11:53:06,039 - \u001b[1;32mINFO\u001b[1;0m - {'fact': 'diffuse bilateral hyperlucency of the lung apices', 'metadata': {'anatomical location': 'lung apices', 'detailed observation': 'diffuse bilateral hyperlucency of the lung apices', 'short observation': 'diffuse bilateral hyperlucency', 'category': 'anatomical finding', 'health status': 'abnormal', 'prev_study_comparison?': 'no', 'comparison status': ''}}\n",
      " 50%|████████████████████                    | 519/1038 [12:18<12:01,  1.39s/it]2023-07-08 11:53:20,198 - \u001b[1;32mINFO\u001b[1;0m - Processed 260001 facts\n",
      "2023-07-08 11:53:20,198 - \u001b[1;32mINFO\u001b[1;0m - Example extracted metadata:\n",
      "2023-07-08 11:53:20,198 - \u001b[1;32mINFO\u001b[1;0m - {'fact': 'stable position of right-sided PICC line', 'metadata': {'anatomical location': 'right', 'detailed observation': 'stable position of right-sided PICC line', 'short observation': 'stable position of PICC line', 'category': 'tubes and lines', 'health status': 'normal', 'prev_study_comparison?': 'no', 'comparison status': ''}}\n",
      " 51%|████████████████████▍                   | 529/1038 [12:32<11:50,  1.40s/it]2023-07-08 11:53:34,451 - \u001b[1;32mINFO\u001b[1;0m - Processed 265001 facts\n",
      "2023-07-08 11:53:34,451 - \u001b[1;32mINFO\u001b[1;0m - Example extracted metadata:\n",
      "2023-07-08 11:53:34,451 - \u001b[1;32mINFO\u001b[1;0m - {'fact': 'mild patchy opacification at the left lung base', 'metadata': {'anatomical location': 'left lung base', 'detailed observation': 'mild patchy opacification', 'short observation': 'patchy opacification', 'category': 'anatomical finding', 'health status': 'abnormal', 'prev_study_comparison?': 'no', 'comparison status': ''}}\n",
      " 52%|████████████████████▋                   | 537/1038 [12:43<11:51,  1.42s/it]2023-07-08 11:53:46,149 - \u001b[1;33mWARNING\u001b[1;0m - Failed to parse output text: \"anatomical location\": \"right costophrenic angles\", \"detailed observation\": \"prev_study_comparison?\": \"no\", \"comparison status\": \"\", for fact: costophrenic angles particularly on the right, i: 269177, idx: 269159\n",
      "2023-07-08 11:53:46,149 - \u001b[1;33mWARNING\u001b[1;0m - Exception: 'NoneType' object has no attribute 'group'\n"
     ]
    },
    {
     "name": "stdout",
     "output_type": "stream",
     "text": [
      " 52%|████████████████████▊                   | 539/1038 [12:46<12:16,  1.48s/it]2023-07-08 11:53:49,031 - \u001b[1;32mINFO\u001b[1;0m - Processed 270001 facts\n",
      "2023-07-08 11:53:49,031 - \u001b[1;32mINFO\u001b[1;0m - Example extracted metadata:\n",
      "2023-07-08 11:53:49,031 - \u001b[1;32mINFO\u001b[1;0m - {'fact': 'decreased extent of right parenchymal opacity', 'metadata': {'anatomical location': 'right parenchyma', 'detailed observation': 'decreased extent of right parenchymal opacity', 'short observation': 'decreased extent of opacity', 'category': 'anatomical finding', 'health status': 'abnormal', 'prev_study_comparison?': 'yes', 'comparison status': 'improved'}}\n",
      " 53%|█████████████████████▏                  | 549/1038 [13:01<11:29,  1.41s/it]2023-07-08 11:54:03,227 - \u001b[1;32mINFO\u001b[1;0m - Processed 275001 facts\n",
      "2023-07-08 11:54:03,227 - \u001b[1;32mINFO\u001b[1;0m - Example extracted metadata:\n",
      "2023-07-08 11:54:03,227 - \u001b[1;32mINFO\u001b[1;0m - {'fact': 'Dobhoff tube extends into the jejunum', 'metadata': {'anatomical location': 'jejunum', 'detailed observation': 'Dobhoff tube extends into the jejunum', 'short observation': 'Dobhoff tube extends into the jejunum', 'category': 'tubes and lines', 'health status': 'unknown', 'prev_study_comparison?': 'no', 'comparison status': ''}}\n",
      " 54%|█████████████████████▌                  | 559/1038 [13:15<11:10,  1.40s/it]2023-07-08 11:54:17,133 - \u001b[1;32mINFO\u001b[1;0m - Processed 280001 facts\n",
      "2023-07-08 11:54:17,133 - \u001b[1;32mINFO\u001b[1;0m - Example extracted metadata:\n",
      "2023-07-08 11:54:17,133 - \u001b[1;32mINFO\u001b[1;0m - {'fact': '6 hour follow-up radiograph recommended', 'metadata': {'anatomical location': '', 'detailed observation': '6 hour follow-up radiograph recommended', 'short observation': '6 hour follow-up radiograph recommended', 'category': 'technical assessment', 'health status': 'unknown', 'prev_study_comparison?': 'no', 'comparison status': ''}}\n",
      " 55%|█████████████████████▊                  | 567/1038 [13:26<10:42,  1.36s/it]2023-07-08 11:54:28,288 - \u001b[1;33mWARNING\u001b[1;0m - Failed to parse output text: \"anatomical location\": \"junction of the right subclavian and right brachiocephalic veins at the medial aspect of the right clavicle\", \"detailed observation\": \"Right PICC terminates at the junction of the right subclavian and right brachiocephalic veins at the medial aspect of the right clavicle\", \"short observation\": \"Right PICC terminates at the junction of the right subclavian and, for fact: Right PICC terminates at the junction of the right subclavian and right brachiocephalic veins at the medial aspect of the right clavicle, i: 284307, idx: 284288\n",
      "2023-07-08 11:54:28,288 - \u001b[1;33mWARNING\u001b[1;0m - Exception: 'NoneType' object has no attribute 'group'\n",
      " 55%|█████████████████████▉                  | 569/1038 [13:29<10:58,  1.40s/it]2023-07-08 11:54:31,160 - \u001b[1;32mINFO\u001b[1;0m - Processed 285001 facts\n",
      "2023-07-08 11:54:31,160 - \u001b[1;32mINFO\u001b[1;0m - Example extracted metadata:\n",
      "2023-07-08 11:54:31,161 - \u001b[1;32mINFO\u001b[1;0m - {'fact': 'retrocardiac airspace opacification due to infection', 'metadata': {'anatomical location': 'retrocardiac', 'detailed observation': 'airspace opacification due to infection', 'short observation': 'airspace opacification', 'category': 'anatomical finding', 'health status': 'abnormal', 'prev_study_comparison?': 'no', 'comparison status': ''}}\n",
      " 56%|██████████████████████▎                 | 579/1038 [13:43<10:34,  1.38s/it]2023-07-08 11:54:44,849 - \u001b[1;32mINFO\u001b[1;0m - Processed 290001 facts\n",
      "2023-07-08 11:54:44,849 - \u001b[1;32mINFO\u001b[1;0m - Example extracted metadata:\n",
      "2023-07-08 11:54:44,849 - \u001b[1;32mINFO\u001b[1;0m - {'fact': 'left lower lobe consolidation is grossly unchanged', 'metadata': {'anatomical location': 'left lower lobe', 'detailed observation': 'consolidation', 'short observation': 'consolidation', 'category': 'anatomical finding', 'health status': 'abnormal', 'prev_study_comparison?': 'yes', 'comparison status': 'unchanged'}}\n",
      " 57%|██████████████████████▋                 | 589/1038 [13:56<10:19,  1.38s/it]2023-07-08 11:54:58,969 - \u001b[1;32mINFO\u001b[1;0m - Processed 295001 facts\n",
      "2023-07-08 11:54:58,969 - \u001b[1;32mINFO\u001b[1;0m - Example extracted metadata:\n",
      "2023-07-08 11:54:58,969 - \u001b[1;32mINFO\u001b[1;0m - {'fact': 'no convincing evidence of pneumonia', 'metadata': {'anatomical location': '', 'detailed observation': 'no convincing evidence of pneumonia', 'short observation': 'no pneumonia', 'category': 'disease', 'health status': 'normal', 'prev_study_comparison?': 'no', 'comparison status': ''}}\n",
      " 57%|██████████████████████▉                 | 595/1038 [14:05<10:41,  1.45s/it]2023-07-08 11:55:06,252 - \u001b[1;33mWARNING\u001b[1;0m - Failed to parse output text: \"anatomical location\": \"intrathoracic\", \"detailed observation\": \"suggestion\": \"short segment of the right pleural drain is intrathoracic\", \"short observation\": \"short segment of the right pleural drain\", \"category\": \"tubes and lines\", \"health status\": \"unknown\", \"prev_study_comparison?\": \"no\", \"comparison status\": \"\", for fact: suggestion that only a short segment of the right pleural drain is intrathoracic, i: 297586, idx: 297566\n",
      "2023-07-08 11:55:06,252 - \u001b[1;33mWARNING\u001b[1;0m - Exception: 'NoneType' object has no attribute 'group'\n",
      " 58%|███████████████████████                 | 599/1038 [14:11<10:23,  1.42s/it]2023-07-08 11:55:13,206 - \u001b[1;32mINFO\u001b[1;0m - Processed 300001 facts\n",
      "2023-07-08 11:55:13,207 - \u001b[1;32mINFO\u001b[1;0m - Example extracted metadata:\n",
      "2023-07-08 11:55:13,207 - \u001b[1;32mINFO\u001b[1;0m - {'fact': 'new Dobbhoff catheter has been inserted', 'metadata': {'anatomical location': '', 'detailed observation': 'Dobbhoff catheter has been inserted', 'short observation': 'Dobbhoff catheter inserted', 'category': 'tubes and lines', 'health status': 'unknown', 'prev_study_comparison?': 'no', 'comparison status': ''}}\n",
      " 59%|███████████████████████▍                | 609/1038 [14:25<10:04,  1.41s/it]2023-07-08 11:55:27,476 - \u001b[1;32mINFO\u001b[1;0m - Processed 305001 facts\n",
      "2023-07-08 11:55:27,476 - \u001b[1;32mINFO\u001b[1;0m - Example extracted metadata:\n",
      "2023-07-08 11:55:27,476 - \u001b[1;32mINFO\u001b[1;0m - {'fact': 'placement of a dual-channel pacemaker through left subclavian approach', 'metadata': {'anatomical location': 'left subclavian', 'detailed observation': 'placement of a dual-channel pacemaker through left subclavian approach', 'short observation': 'dual-channel pacemaker placement', 'category': 'device', 'health status': 'unknown', 'prev_study_comparison?': 'no', 'comparison status': ''}}\n",
      " 60%|███████████████████████▊                | 619/1038 [14:39<09:59,  1.43s/it]2023-07-08 11:55:41,835 - \u001b[1;32mINFO\u001b[1;0m - Processed 310001 facts\n",
      "2023-07-08 11:55:41,835 - \u001b[1;32mINFO\u001b[1;0m - Example extracted metadata:\n",
      "2023-07-08 11:55:41,835 - \u001b[1;32mINFO\u001b[1;0m - {'fact': 'side port proximal to the GE junction level', 'metadata': {'anatomical location': 'proximal to the GE junction level', 'detailed observation': 'side port', 'short observation': 'side port', 'category': 'device', 'health status': 'unknown', 'prev_study_comparison?': 'no', 'comparison status': ''}}\n",
      " 61%|████████████████████████▏               | 629/1038 [14:54<09:44,  1.43s/it]2023-07-08 11:55:56,114 - \u001b[1;32mINFO\u001b[1;0m - Processed 315001 facts\n",
      "2023-07-08 11:55:56,114 - \u001b[1;32mINFO\u001b[1;0m - Example extracted metadata:\n",
      "2023-07-08 11:55:56,114 - \u001b[1;32mINFO\u001b[1;0m - {'fact': 'midline tracheostomy tube is unchanged', 'metadata': {'anatomical location': '', 'detailed observation': 'midline tracheostomy tube is unchanged', 'short observation': 'tracheostomy tube is unchanged', 'category': 'tubes and lines', 'health status': 'unknown', 'prev_study_comparison?': 'yes', 'comparison status': 'unchanged'}}\n",
      " 62%|████████████████████████▌               | 639/1038 [15:08<09:20,  1.40s/it]2023-07-08 11:56:10,142 - \u001b[1;32mINFO\u001b[1;0m - Processed 320001 facts\n",
      "2023-07-08 11:56:10,142 - \u001b[1;32mINFO\u001b[1;0m - Example extracted metadata:\n",
      "2023-07-08 11:56:10,142 - \u001b[1;32mINFO\u001b[1;0m - {'fact': 'progressive slow aeration of the left hemithorax', 'metadata': {'anatomical location': 'left hemithorax', 'detailed observation': 'progressive slow aeration of the left hemithorax', 'short observation': 'slow aeration of the left hemithorax', 'category': 'anatomical finding', 'health status': 'abnormal', 'prev_study_comparison?': 'no', 'comparison status': ''}}\n"
     ]
    },
    {
     "name": "stdout",
     "output_type": "stream",
     "text": [
      " 63%|█████████████████████████               | 649/1038 [15:22<09:06,  1.40s/it]2023-07-08 11:56:24,246 - \u001b[1;32mINFO\u001b[1;0m - Processed 325001 facts\n",
      "2023-07-08 11:56:24,247 - \u001b[1;32mINFO\u001b[1;0m - Example extracted metadata:\n",
      "2023-07-08 11:56:24,247 - \u001b[1;32mINFO\u001b[1;0m - {'fact': 'distorted architecture of the lungs', 'metadata': {'anatomical location': 'lungs', 'detailed observation': 'distorted architecture of the lungs', 'short observation': 'distorted lungs', 'category': 'anatomical finding', 'health status': 'abnormal', 'prev_study_comparison?': 'no', 'comparison status': ''}}\n",
      " 63%|█████████████████████████▍              | 659/1038 [15:36<08:41,  1.38s/it]2023-07-08 11:56:37,990 - \u001b[1;32mINFO\u001b[1;0m - Processed 330001 facts\n",
      "2023-07-08 11:56:37,990 - \u001b[1;32mINFO\u001b[1;0m - Example extracted metadata:\n",
      "2023-07-08 11:56:37,991 - \u001b[1;32mINFO\u001b[1;0m - {'fact': 'opacity projecting over the left lower hemithorax', 'metadata': {'anatomical location': 'left lower hemithorax', 'detailed observation': 'opacity projecting over the left lower hemithorax', 'short observation': 'opacity', 'category': 'anatomical finding', 'health status': 'abnormal', 'prev_study_comparison?': 'no', 'comparison status': ''}}\n",
      " 64%|█████████████████████████▊              | 669/1038 [15:50<08:32,  1.39s/it]2023-07-08 11:56:52,193 - \u001b[1;32mINFO\u001b[1;0m - Processed 335001 facts\n",
      "2023-07-08 11:56:52,193 - \u001b[1;32mINFO\u001b[1;0m - Example extracted metadata:\n",
      "2023-07-08 11:56:52,193 - \u001b[1;32mINFO\u001b[1;0m - {'fact': 'peripheral reticulation not fully evaluated', 'metadata': {'anatomical location': 'peripheral', 'detailed observation': 'peripheral reticulation not fully evaluated', 'short observation': 'peripheral reticulation not fully evaluated', 'category': 'anatomical finding', 'health status': 'unknown', 'prev_study_comparison?': 'no', 'comparison status': ''}}\n",
      " 65%|██████████████████████████▏             | 679/1038 [16:04<08:45,  1.46s/it]2023-07-08 11:57:06,659 - \u001b[1;32mINFO\u001b[1;0m - Processed 340001 facts\n",
      "2023-07-08 11:57:06,659 - \u001b[1;32mINFO\u001b[1;0m - Example extracted metadata:\n",
      "2023-07-08 11:57:06,659 - \u001b[1;32mINFO\u001b[1;0m - {'fact': 'newly occurred area of atelectatic changes at the left lung base', 'metadata': {'anatomical location': 'left lung base', 'detailed observation': 'newly occurred area of atelectatic changes', 'short observation': 'atelectatic changes', 'category': 'anatomical finding', 'health status': 'abnormal', 'prev_study_comparison?': 'yes', 'comparison status': 'new'}}\n",
      " 66%|██████████████████████████▌             | 689/1038 [16:18<08:15,  1.42s/it]2023-07-08 11:57:21,252 - \u001b[1;32mINFO\u001b[1;0m - Processed 345001 facts\n",
      "2023-07-08 11:57:21,252 - \u001b[1;32mINFO\u001b[1;0m - Example extracted metadata:\n",
      "2023-07-08 11:57:21,252 - \u001b[1;32mINFO\u001b[1;0m - {'fact': 'degree of edema has slightly worsened', 'metadata': {'anatomical location': '', 'detailed observation': 'degree of edema has slightly worsened', 'short observation': 'degree of edema', 'category': 'anatomical finding', 'health status': 'abnormal', 'prev_study_comparison?': 'yes', 'comparison status': 'worsened'}}\n",
      " 67%|██████████████████████████▊             | 697/1038 [16:30<08:01,  1.41s/it]2023-07-08 11:57:31,065 - \u001b[1;33mWARNING\u001b[1;0m - Failed to parse output text: \"anatomical location\": \"\", \"detailed observation\": \"unchanged sternal wires suggesting a sternal wires suggesting a sternal wires suggesting a sternal wires suggesting a sternal wires suggesting a sternal wires suggesting a sternal wires suggesting a sternal wires suggesting a sternal wires suggesting a sternal wires suggesting a sternal wires suggesting a sternal, for fact: unchanged sternal wires suggesting a sternal wires suggesting a sternal wires suggesting a sternal wires suggesting a sternal wires suggesting a sternal wires suggesting a sternal wires suggesting a sternal wires suggesting a sternal wires, i: 348764, idx: 348743\n",
      "2023-07-08 11:57:31,065 - \u001b[1;33mWARNING\u001b[1;0m - Exception: 'NoneType' object has no attribute 'group'\n",
      " 67%|██████████████████████████▉             | 699/1038 [16:33<08:05,  1.43s/it]2023-07-08 11:57:35,095 - \u001b[1;32mINFO\u001b[1;0m - Processed 350001 facts\n",
      "2023-07-08 11:57:35,095 - \u001b[1;32mINFO\u001b[1;0m - Example extracted metadata:\n",
      "2023-07-08 11:57:35,095 - \u001b[1;32mINFO\u001b[1;0m - {'fact': 'known right upper lobe nodules not well seen', 'metadata': {'anatomical location': 'right upper lobe', 'detailed observation': 'known nodules not well seen', 'short observation': 'nodules not well seen', 'category': 'anatomical finding', 'health status': 'ambiguous', 'prev_study_comparison?': 'no', 'comparison status': ''}}\n",
      " 68%|███████████████████████████▎            | 709/1038 [16:47<07:43,  1.41s/it]2023-07-08 11:57:49,145 - \u001b[1;32mINFO\u001b[1;0m - Processed 355001 facts\n",
      "2023-07-08 11:57:49,145 - \u001b[1;32mINFO\u001b[1;0m - Example extracted metadata:\n",
      "2023-07-08 11:57:49,145 - \u001b[1;32mINFO\u001b[1;0m - {'fact': 'possible superimposed aspiration in the right upper lobe', 'metadata': {'anatomical location': 'right upper lobe', 'detailed observation': 'possible superimposed aspiration', 'short observation': 'superimposed aspiration', 'category': 'anatomical finding', 'health status': 'ambiguous', 'prev_study_comparison?': 'no', 'comparison status': ''}}\n",
      " 69%|███████████████████████████▋            | 719/1038 [17:01<07:34,  1.43s/it]2023-07-08 11:58:03,788 - \u001b[1;32mINFO\u001b[1;0m - Processed 360001 facts\n",
      "2023-07-08 11:58:03,789 - \u001b[1;32mINFO\u001b[1;0m - Example extracted metadata:\n",
      "2023-07-08 11:58:03,789 - \u001b[1;32mINFO\u001b[1;0m - {'fact': 'focus of pneumonia', 'metadata': {'anatomical location': '', 'detailed observation': 'focus of pneumonia', 'short observation': 'pneumonia', 'category': 'disease', 'health status': 'abnormal', 'prev_study_comparison?': 'no', 'comparison status': ''}}\n",
      " 70%|████████████████████████████            | 729/1038 [17:15<07:07,  1.38s/it]2023-07-08 11:58:17,548 - \u001b[1;32mINFO\u001b[1;0m - Processed 365001 facts\n",
      "2023-07-08 11:58:17,548 - \u001b[1;32mINFO\u001b[1;0m - Example extracted metadata:\n",
      "2023-07-08 11:58:17,548 - \u001b[1;32mINFO\u001b[1;0m - {'fact': 'abnormal lower lungs', 'metadata': {'anatomical location': 'lower lungs', 'detailed observation': 'abnormal lower lungs', 'short observation': 'abnormal lower lungs', 'category': 'anatomical finding', 'health status': 'abnormal', 'prev_study_comparison?': 'no', 'comparison status': ''}}\n",
      " 71%|████████████████████████████▏           | 733/1038 [17:21<07:00,  1.38s/it]2023-07-08 11:58:21,710 - \u001b[1;33mWARNING\u001b[1;0m - Failed to parse output text: \"anatomical location\": \"\", \"detailed observation\": \"uncertain significance of the \"uncertain significance\", \"short observation\": \"uncertain significance\", \"category\": \"technical assessment\", \"health status\": \"ambiguous\", \"prev_study_comparison?\": \"no\", \"comparison status\": \"\", for fact: uncertain significance of, i: 366617, idx: 366595\n",
      "2023-07-08 11:58:21,710 - \u001b[1;33mWARNING\u001b[1;0m - Exception: 'NoneType' object has no attribute 'group'\n",
      " 71%|████████████████████████████▍           | 739/1038 [17:29<06:56,  1.39s/it]2023-07-08 11:58:31,576 - \u001b[1;32mINFO\u001b[1;0m - Processed 370001 facts\n",
      "2023-07-08 11:58:31,576 - \u001b[1;32mINFO\u001b[1;0m - Example extracted metadata:\n",
      "2023-07-08 11:58:31,576 - \u001b[1;32mINFO\u001b[1;0m - {'fact': 'multiple lung nodules obscured by the acute abnormality', 'metadata': {'anatomical location': 'lung', 'detailed observation': 'multiple lung nodules obscured by the acute abnormality', 'short observation': 'multiple lung nodules obscured', 'category': 'anatomical finding', 'health status': 'abnormal', 'prev_study_comparison?': 'no', 'comparison status': ''}}\n",
      " 72%|████████████████████████████▊           | 749/1038 [17:43<06:37,  1.37s/it]2023-07-08 11:58:45,467 - \u001b[1;32mINFO\u001b[1;0m - Processed 375001 facts\n",
      "2023-07-08 11:58:45,467 - \u001b[1;32mINFO\u001b[1;0m - Example extracted metadata:\n",
      "2023-07-08 11:58:45,467 - \u001b[1;32mINFO\u001b[1;0m - {'fact': 'extent of the mediastinal opacity in the right upper lung is constant', 'metadata': {'anatomical location': 'right upper lung', 'detailed observation': 'extent of the mediastinal opacity is constant', 'short observation': 'constant mediastinal opacity', 'category': 'anatomical finding', 'health status': 'abnormal', 'prev_study_comparison?': 'yes', 'comparison status': 'resolved'}}\n"
     ]
    },
    {
     "name": "stdout",
     "output_type": "stream",
     "text": [
      " 73%|█████████████████████████████▏          | 759/1038 [17:57<06:32,  1.41s/it]2023-07-08 11:58:59,644 - \u001b[1;32mINFO\u001b[1;0m - Processed 380001 facts\n",
      "2023-07-08 11:58:59,644 - \u001b[1;32mINFO\u001b[1;0m - Example extracted metadata:\n",
      "2023-07-08 11:58:59,644 - \u001b[1;32mINFO\u001b[1;0m - {'fact': 'left-sided chest wall port is seen', 'metadata': {'anatomical location': 'left', 'detailed observation': 'chest wall port is seen', 'short observation': 'chest wall port', 'category': 'device', 'health status': 'unknown', 'prev_study_comparison?': 'no', 'comparison status': ''}}\n",
      " 74%|█████████████████████████████▋          | 769/1038 [18:11<06:21,  1.42s/it]2023-07-08 11:59:13,517 - \u001b[1;32mINFO\u001b[1;0m - Processed 385001 facts\n",
      "2023-07-08 11:59:13,517 - \u001b[1;32mINFO\u001b[1;0m - Example extracted metadata:\n",
      "2023-07-08 11:59:13,517 - \u001b[1;32mINFO\u001b[1;0m - {'fact': 'more bibasilar consolidation now than yesterday', 'metadata': {'anatomical location': 'bibasilar', 'detailed observation': 'more consolidation', 'short observation': 'consolidation', 'category': 'anatomical finding', 'health status': 'abnormal', 'prev_study_comparison?': 'yes', 'comparison status': 'worsened'}}\n",
      " 75%|██████████████████████████████          | 779/1038 [18:25<06:06,  1.42s/it]2023-07-08 11:59:27,880 - \u001b[1;32mINFO\u001b[1;0m - Processed 390001 facts\n",
      "2023-07-08 11:59:27,880 - \u001b[1;32mINFO\u001b[1;0m - Example extracted metadata:\n",
      "2023-07-08 11:59:27,880 - \u001b[1;32mINFO\u001b[1;0m - {'fact': 'faintly visualized stents projecting over the left mainstem bronchi', 'metadata': {'anatomical location': 'left mainstem bronchi', 'detailed observation': 'faintly visualized stents projecting over the left mainstem bronchi', 'short observation': 'stents projecting over left mainstem bronchi', 'category': 'device', 'health status': 'unknown', 'prev_study_comparison?': 'no', 'comparison status': ''}}\n",
      " 76%|██████████████████████████████▍         | 789/1038 [18:39<05:44,  1.38s/it]2023-07-08 11:59:41,648 - \u001b[1;32mINFO\u001b[1;0m - Processed 395001 facts\n",
      "2023-07-08 11:59:41,648 - \u001b[1;32mINFO\u001b[1;0m - Example extracted metadata:\n",
      "2023-07-08 11:59:41,648 - \u001b[1;32mINFO\u001b[1;0m - {'fact': 'right IJ catheter with the distal tip in the proximal SVC', 'metadata': {'anatomical location': 'proximal SVC', 'detailed observation': 'right IJ catheter with the distal tip in the proximal SVC', 'short observation': 'right IJ catheter in proximal SVC', 'category': 'tubes and lines', 'health status': 'unknown', 'prev_study_comparison?': 'no', 'comparison status': ''}}\n",
      " 77%|██████████████████████████████▋         | 797/1038 [18:50<05:32,  1.38s/it]2023-07-08 11:59:53,025 - \u001b[1;33mWARNING\u001b[1;0m - Failed to parse output text: \"anatomical location\": \"right lung\", \"detailed observation\": \"prev_study_comparison?\": \"no\", \"comparison status\": \"\", for fact: particularly the right lung, i: 399003, idx: 398980\n",
      "2023-07-08 11:59:53,025 - \u001b[1;33mWARNING\u001b[1;0m - Exception: 'NoneType' object has no attribute 'group'\n",
      " 77%|██████████████████████████████▊         | 799/1038 [18:53<05:40,  1.42s/it]2023-07-08 11:59:55,647 - \u001b[1;32mINFO\u001b[1;0m - Processed 400001 facts\n",
      "2023-07-08 11:59:55,647 - \u001b[1;32mINFO\u001b[1;0m - Example extracted metadata:\n",
      "2023-07-08 11:59:55,647 - \u001b[1;32mINFO\u001b[1;0m - {'fact': 'position favors esophageal location', 'metadata': {'anatomical location': 'esophagus', 'detailed observation': 'position favors esophageal location', 'short observation': 'position favors esophageal location', 'category': 'anatomical finding', 'health status': 'unknown', 'prev_study_comparison?': 'no', 'comparison status': ''}}\n",
      " 78%|███████████████████████████████▏        | 809/1038 [19:07<05:19,  1.40s/it]2023-07-08 12:00:09,706 - \u001b[1;32mINFO\u001b[1;0m - Processed 405001 facts\n",
      "2023-07-08 12:00:09,706 - \u001b[1;32mINFO\u001b[1;0m - Example extracted metadata:\n",
      "2023-07-08 12:00:09,707 - \u001b[1;32mINFO\u001b[1;0m - {'fact': 'chest exam unchanged from previous imaging', 'metadata': {'anatomical location': '', 'detailed observation': 'chest exam unchanged from previous imaging', 'short observation': 'chest exam unchanged', 'category': 'technical assessment', 'health status': 'unknown', 'prev_study_comparison?': 'yes', 'comparison status': 'resolved'}}\n",
      " 79%|███████████████████████████████▌        | 819/1038 [19:21<05:04,  1.39s/it]2023-07-08 12:00:23,679 - \u001b[1;32mINFO\u001b[1;0m - Processed 410001 facts\n",
      "2023-07-08 12:00:23,679 - \u001b[1;32mINFO\u001b[1;0m - Example extracted metadata:\n",
      "2023-07-08 12:00:23,679 - \u001b[1;32mINFO\u001b[1;0m - {'fact': 'new left perihilar pulmonary opacity', 'metadata': {'anatomical location': 'left perihilar', 'detailed observation': 'new pulmonary opacity', 'short observation': 'pulmonary opacity', 'category': 'anatomical finding', 'health status': 'abnormal', 'prev_study_comparison?': 'no', 'comparison status': ''}}\n",
      " 80%|███████████████████████████████▉        | 829/1038 [19:36<05:00,  1.44s/it]2023-07-08 12:00:38,166 - \u001b[1;32mINFO\u001b[1;0m - Processed 415001 facts\n",
      "2023-07-08 12:00:38,166 - \u001b[1;32mINFO\u001b[1;0m - Example extracted metadata:\n",
      "2023-07-08 12:00:38,166 - \u001b[1;32mINFO\u001b[1;0m - {'fact': 'substantially narrowed trachea', 'metadata': {'anatomical location': 'trachea', 'detailed observation': 'substantially narrowed trachea', 'short observation': 'narrowed trachea', 'category': 'anatomical finding', 'health status': 'abnormal', 'prev_study_comparison?': 'no', 'comparison status': ''}}\n",
      " 81%|████████████████████████████████▎       | 839/1038 [19:50<04:46,  1.44s/it]2023-07-08 12:00:52,515 - \u001b[1;32mINFO\u001b[1;0m - Processed 420001 facts\n",
      "2023-07-08 12:00:52,515 - \u001b[1;32mINFO\u001b[1;0m - Example extracted metadata:\n",
      "2023-07-08 12:00:52,515 - \u001b[1;32mINFO\u001b[1;0m - {'fact': 'post-surgical changes at the left lung base', 'metadata': {'anatomical location': 'left lung base', 'detailed observation': 'post-surgical changes', 'short observation': 'post-surgical changes', 'category': 'anatomical finding', 'health status': 'unknown', 'prev_study_comparison?': 'no', 'comparison status': ''}}\n",
      " 82%|████████████████████████████████▋       | 849/1038 [20:04<04:23,  1.40s/it]2023-07-08 12:01:06,458 - \u001b[1;32mINFO\u001b[1;0m - Processed 425001 facts\n",
      "2023-07-08 12:01:06,458 - \u001b[1;32mINFO\u001b[1;0m - Example extracted metadata:\n",
      "2023-07-08 12:01:06,458 - \u001b[1;32mINFO\u001b[1;0m - {'fact': 'dense calcified atherosclerotic disease coursing into the intra-abdominal portion', 'metadata': {'anatomical location': 'intra-abdominal portion', 'detailed observation': 'dense calcified atherosclerotic disease coursing into the intra-abdominal portion', 'short observation': 'dense calcified atherosclerotic disease', 'category': 'disease', 'health status': 'abnormal', 'prev_study_comparison?': 'no', 'comparison status': ''}}\n",
      " 83%|█████████████████████████████████       | 859/1038 [20:18<04:10,  1.40s/it]2023-07-08 12:01:21,444 - \u001b[1;32mINFO\u001b[1;0m - Processed 430001 facts\n",
      "2023-07-08 12:01:21,444 - \u001b[1;32mINFO\u001b[1;0m - Example extracted metadata:\n",
      "2023-07-08 12:01:21,444 - \u001b[1;32mINFO\u001b[1;0m - {'fact': 'persistent peripheral opacity in right upper lobe', 'metadata': {'anatomical location': 'right upper lobe', 'detailed observation': 'persistent peripheral opacity', 'short observation': 'peripheral opacity', 'category': 'anatomical finding', 'health status': 'abnormal', 'prev_study_comparison?': 'no', 'comparison status': ''}}\n",
      " 84%|█████████████████████████████████▍      | 869/1038 [20:33<04:00,  1.43s/it]2023-07-08 12:01:35,650 - \u001b[1;32mINFO\u001b[1;0m - Processed 435001 facts\n",
      "2023-07-08 12:01:35,650 - \u001b[1;32mINFO\u001b[1;0m - Example extracted metadata:\n",
      "2023-07-08 12:01:35,650 - \u001b[1;32mINFO\u001b[1;0m - {'fact': 'abnormal increased interstitial markings throughout the lungs', 'metadata': {'anatomical location': 'lungs', 'detailed observation': 'abnormal increased interstitial markings throughout the lungs', 'short observation': 'increased interstitial markings', 'category': 'anatomical finding', 'health status': 'abnormal', 'prev_study_comparison?': 'no', 'comparison status': ''}}\n",
      " 85%|█████████████████████████████████▊      | 879/1038 [20:47<03:42,  1.40s/it]2023-07-08 12:01:49,390 - \u001b[1;32mINFO\u001b[1;0m - Processed 440001 facts\n",
      "2023-07-08 12:01:49,390 - \u001b[1;32mINFO\u001b[1;0m - Example extracted metadata:\n",
      "2023-07-08 12:01:49,390 - \u001b[1;32mINFO\u001b[1;0m - {'fact': 'drainage tube', 'metadata': {'anatomical location': '', 'detailed observation': 'drainage tube', 'short observation': 'drainage tube', 'category': 'tubes and lines', 'health status': 'unknown', 'prev_study_comparison?': 'no', 'comparison status': ''}}\n"
     ]
    },
    {
     "name": "stdout",
     "output_type": "stream",
     "text": [
      " 86%|██████████████████████████████████▎     | 889/1038 [21:01<03:30,  1.42s/it]2023-07-08 12:02:03,376 - \u001b[1;32mINFO\u001b[1;0m - Processed 445001 facts\n",
      "2023-07-08 12:02:03,376 - \u001b[1;32mINFO\u001b[1;0m - Example extracted metadata:\n",
      "2023-07-08 12:02:03,376 - \u001b[1;32mINFO\u001b[1;0m - {'fact': 'new bilateral perihilar pulmonary consolidation', 'metadata': {'anatomical location': 'bilateral perihilar', 'detailed observation': 'new pulmonary consolidation', 'short observation': 'pulmonary consolidation', 'category': 'anatomical finding', 'health status': 'abnormal', 'prev_study_comparison?': 'no', 'comparison status': ''}}\n",
      " 87%|██████████████████████████████████▋     | 899/1038 [21:15<03:13,  1.39s/it]2023-07-08 12:02:17,354 - \u001b[1;32mINFO\u001b[1;0m - Processed 450001 facts\n",
      "2023-07-08 12:02:17,354 - \u001b[1;32mINFO\u001b[1;0m - Example extracted metadata:\n",
      "2023-07-08 12:02:17,354 - \u001b[1;32mINFO\u001b[1;0m - {'fact': 'left PICC tip in mid SVC', 'metadata': {'anatomical location': 'mid SVC', 'detailed observation': 'left PICC tip in mid SVC', 'short observation': 'PICC tip in mid SVC', 'category': 'tubes and lines', 'health status': 'normal', 'prev_study_comparison?': 'no', 'comparison status': ''}}\n",
      " 87%|██████████████████████████████████▉     | 907/1038 [21:27<03:10,  1.45s/it]2023-07-08 12:02:27,697 - \u001b[1;33mWARNING\u001b[1;0m - Failed to parse output text: \"anatomical location\": \"right lung\", \"detailed observation\": \"prev_study_comparison?\": \"no\", \"comparison status\": \"\", for fact: particularly in the right lung, i: 453803, idx: 453779\n",
      "2023-07-08 12:02:27,697 - \u001b[1;33mWARNING\u001b[1;0m - Exception: 'NoneType' object has no attribute 'group'\n",
      " 88%|███████████████████████████████████     | 909/1038 [21:30<03:06,  1.45s/it]2023-07-08 12:02:32,147 - \u001b[1;32mINFO\u001b[1;0m - Processed 455001 facts\n",
      "2023-07-08 12:02:32,147 - \u001b[1;32mINFO\u001b[1;0m - Example extracted metadata:\n",
      "2023-07-08 12:02:32,147 - \u001b[1;32mINFO\u001b[1;0m - {'fact': 'opacity projects over spine', 'metadata': {'anatomical location': 'spine', 'detailed observation': 'opacity projects over spine', 'short observation': 'opacity over spine', 'category': 'anatomical finding', 'health status': 'abnormal', 'prev_study_comparison?': 'no', 'comparison status': ''}}\n",
      " 88%|███████████████████████████████████▏    | 913/1038 [21:36<03:04,  1.48s/it]2023-07-08 12:02:37,945 - \u001b[1;33mWARNING\u001b[1;0m - Failed to parse output text: \"anatomical location\": \"\", \"detailed observation\": \"end of end of end of end of end of end of end of end of end of end of end of end of end of end of end of end of end of end of end of end of end of end of end of end of end of end of end of end of end of end of end of end of end of end of end of end of end of end of end of end of end of end of end of end of end of end of end of, for fact: end of ETT overlies close to midline, i: 457470, idx: 457445\n",
      "2023-07-08 12:02:37,945 - \u001b[1;33mWARNING\u001b[1;0m - Exception: 'NoneType' object has no attribute 'group'\n",
      " 89%|███████████████████████████████████▍    | 919/1038 [21:44<02:49,  1.43s/it]2023-07-08 12:02:46,256 - \u001b[1;32mINFO\u001b[1;0m - Processed 460001 facts\n",
      "2023-07-08 12:02:46,256 - \u001b[1;32mINFO\u001b[1;0m - Example extracted metadata:\n",
      "2023-07-08 12:02:46,256 - \u001b[1;32mINFO\u001b[1;0m - {'fact': 'nodule may be osseous', 'metadata': {'anatomical location': '', 'detailed observation': 'nodule may be osseous', 'short observation': 'nodule', 'category': 'anatomical finding', 'health status': 'ambiguous', 'prev_study_comparison?': 'no', 'comparison status': ''}}\n",
      " 89%|███████████████████████████████████▌    | 923/1038 [21:50<02:44,  1.43s/it]2023-07-08 12:02:50,477 - \u001b[1;33mWARNING\u001b[1;0m - Failed to parse output text: \"anatomical location\": \"\", \"detailed observation\": \"probable internal end of end of end of end of end of end of end of end of end of end of end of end of end of end of end of end of end of end of end of end of end of end of end of end of end of end of end of end of end of end of end of end of end of end of end of end of end of end of end of end of end of end of end of end of end of, for fact: probable internal end of ETT is very high, i: 461618, idx: 461592\n",
      "2023-07-08 12:02:50,478 - \u001b[1;33mWARNING\u001b[1;0m - Exception: 'NoneType' object has no attribute 'group'\n",
      " 89%|███████████████████████████████████▊    | 929/1038 [21:58<02:33,  1.41s/it]2023-07-08 12:03:00,176 - \u001b[1;32mINFO\u001b[1;0m - Processed 465001 facts\n",
      "2023-07-08 12:03:00,176 - \u001b[1;32mINFO\u001b[1;0m - Example extracted metadata:\n",
      "2023-07-08 12:03:00,176 - \u001b[1;32mINFO\u001b[1;0m - {'fact': 'lower portion of the NG tube difficult to trace on the current film', 'metadata': {'anatomical location': 'lower portion of the NG tube', 'detailed observation': 'difficult to trace on the current film', 'short observation': 'difficult to trace', 'category': 'technical assessment', 'health status': 'unknown', 'prev_study_comparison?': 'no', 'comparison status': ''}}\n",
      " 90%|████████████████████████████████████▏   | 939/1038 [22:12<02:19,  1.41s/it]2023-07-08 12:03:14,516 - \u001b[1;32mINFO\u001b[1;0m - Processed 470001 facts\n",
      "2023-07-08 12:03:14,516 - \u001b[1;32mINFO\u001b[1;0m - Example extracted metadata:\n",
      "2023-07-08 12:03:14,516 - \u001b[1;32mINFO\u001b[1;0m - {'fact': 'left pleural effusion occupying approximately half of the left hemi thorax', 'metadata': {'anatomical location': 'left hemi thorax', 'detailed observation': 'pleural effusion occupying approximately half of the left hemi thorax', 'short observation': 'pleural effusion', 'category': 'anatomical finding', 'health status': 'abnormal', 'prev_study_comparison?': 'no', 'comparison status': ''}}\n",
      " 91%|████████████████████████████████████▌   | 949/1038 [22:26<02:08,  1.45s/it]2023-07-08 12:03:29,010 - \u001b[1;32mINFO\u001b[1;0m - Processed 475001 facts\n",
      "2023-07-08 12:03:29,010 - \u001b[1;32mINFO\u001b[1;0m - Example extracted metadata:\n",
      "2023-07-08 12:03:29,011 - \u001b[1;32mINFO\u001b[1;0m - {'fact': 'visible device over the stomach', 'metadata': {'anatomical location': 'stomach', 'detailed observation': 'visible device over the stomach', 'short observation': 'visible device', 'category': 'device', 'health status': 'unknown', 'prev_study_comparison?': 'no', 'comparison status': ''}}\n",
      " 92%|████████████████████████████████████▉   | 959/1038 [22:41<01:52,  1.43s/it]2023-07-08 12:03:43,188 - \u001b[1;32mINFO\u001b[1;0m - Processed 480001 facts\n",
      "2023-07-08 12:03:43,188 - \u001b[1;32mINFO\u001b[1;0m - Example extracted metadata:\n",
      "2023-07-08 12:03:43,188 - \u001b[1;32mINFO\u001b[1;0m - {'fact': 'overall reduced lung volumes', 'metadata': {'anatomical location': 'lung', 'detailed observation': 'overall reduced lung volumes', 'short observation': 'reduced lung volumes', 'category': 'anatomical finding', 'health status': 'abnormal', 'prev_study_comparison?': 'no', 'comparison status': ''}}\n",
      " 93%|█████████████████████████████████████▎  | 969/1038 [22:54<01:34,  1.37s/it]2023-07-08 12:03:56,638 - \u001b[1;32mINFO\u001b[1;0m - Processed 485001 facts\n",
      "2023-07-08 12:03:56,638 - \u001b[1;32mINFO\u001b[1;0m - Example extracted metadata:\n",
      "2023-07-08 12:03:56,638 - \u001b[1;32mINFO\u001b[1;0m - {'fact': 'small to moderate right pleural effusion', 'metadata': {'anatomical location': 'right', 'detailed observation': 'small to moderate pleural effusion', 'short observation': 'pleural effusion', 'category': 'anatomical finding', 'health status': 'abnormal', 'prev_study_comparison?': 'no', 'comparison status': ''}}\n",
      " 94%|█████████████████████████████████████▋  | 979/1038 [23:09<01:25,  1.45s/it]2023-07-08 12:04:11,467 - \u001b[1;32mINFO\u001b[1;0m - Processed 490001 facts\n",
      "2023-07-08 12:04:11,467 - \u001b[1;32mINFO\u001b[1;0m - Example extracted metadata:\n",
      "2023-07-08 12:04:11,467 - \u001b[1;32mINFO\u001b[1;0m - {'fact': 'no complication after pacemaker placement', 'metadata': {'anatomical location': '', 'detailed observation': 'no complication after pacemaker placement', 'short observation': 'no complication after pacemaker placement', 'category': 'device', 'health status': 'normal', 'prev_study_comparison?': 'no', 'comparison status': ''}}\n",
      " 95%|██████████████████████████████████████  | 989/1038 [23:23<01:09,  1.41s/it]2023-07-08 12:04:25,344 - \u001b[1;32mINFO\u001b[1;0m - Processed 495001 facts\n",
      "2023-07-08 12:04:25,344 - \u001b[1;32mINFO\u001b[1;0m - Example extracted metadata:\n",
      "2023-07-08 12:04:25,344 - \u001b[1;32mINFO\u001b[1;0m - {'fact': 'stable bilateral lower lung volumes', 'metadata': {'anatomical location': 'bilateral lower lung volumes', 'detailed observation': 'stable bilateral lower lung volumes', 'short observation': 'stable lower lung volumes', 'category': 'anatomical finding', 'health status': 'normal', 'prev_study_comparison?': 'yes', 'comparison status': 'resolved'}}\n"
     ]
    },
    {
     "name": "stdout",
     "output_type": "stream",
     "text": [
      " 96%|██████████████████████████████████████▍ | 999/1038 [23:37<00:55,  1.43s/it]2023-07-08 12:04:39,704 - \u001b[1;32mINFO\u001b[1;0m - Processed 500001 facts\n",
      "2023-07-08 12:04:39,704 - \u001b[1;32mINFO\u001b[1;0m - Example extracted metadata:\n",
      "2023-07-08 12:04:39,704 - \u001b[1;32mINFO\u001b[1;0m - {'fact': 'interval additional improvement in interstitial pulmonary edema', 'metadata': {'anatomical location': '', 'detailed observation': 'interval additional improvement in interstitial pulmonary edema', 'short observation': 'improvement in interstitial pulmonary edema', 'category': 'anatomical finding', 'health status': 'abnormal', 'prev_study_comparison?': 'yes', 'comparison status': 'improved'}}\n",
      " 97%|█████████████████████████████████████▉ | 1009/1038 [23:51<00:40,  1.39s/it]2023-07-08 12:04:54,064 - \u001b[1;32mINFO\u001b[1;0m - Processed 505001 facts\n",
      "2023-07-08 12:04:54,064 - \u001b[1;32mINFO\u001b[1;0m - Example extracted metadata:\n",
      "2023-07-08 12:04:54,064 - \u001b[1;32mINFO\u001b[1;0m - {'fact': 'collapse of the remaining right middle lobe', 'metadata': {'anatomical location': 'right middle lobe', 'detailed observation': 'collapse of the remaining right middle lobe', 'short observation': 'collapse of right middle lobe', 'category': 'anatomical finding', 'health status': 'abnormal', 'prev_study_comparison?': 'no', 'comparison status': ''}}\n",
      " 98%|██████████████████████████████████████▎| 1019/1038 [24:06<00:26,  1.40s/it]2023-07-08 12:05:08,219 - \u001b[1;32mINFO\u001b[1;0m - Processed 510001 facts\n",
      "2023-07-08 12:05:08,219 - \u001b[1;32mINFO\u001b[1;0m - Example extracted metadata:\n",
      "2023-07-08 12:05:08,219 - \u001b[1;32mINFO\u001b[1;0m - {'fact': 'crowding of bronchovascular structures at the right lung base', 'metadata': {'anatomical location': 'right lung base', 'detailed observation': 'crowding of bronchovascular structures', 'short observation': 'crowding of bronchovascular structures', 'category': 'anatomical finding', 'health status': 'abnormal', 'prev_study_comparison?': 'no', 'comparison status': ''}}\n",
      " 99%|██████████████████████████████████████▌| 1025/1038 [24:14<00:18,  1.42s/it]2023-07-08 12:05:16,799 - \u001b[1;33mWARNING\u001b[1;0m - Failed to parse output text: \"anatomical location\": \"\", \"detailed observation\": \"increased septal thickening (Kerley B lines), \"short observation\": \"increased septal thickening\", \"category\": \"anatomical finding\", \"health status\": \"abnormal\", \"prev_study_comparison?\": \"no\", \"comparison status\": \"\", for fact: increased septal thickening (Kerley B lines),, i: 513388, idx: 513361\n",
      "2023-07-08 12:05:16,799 - \u001b[1;33mWARNING\u001b[1;0m - Exception: 'NoneType' object has no attribute 'group'\n",
      " 99%|██████████████████████████████████████▋| 1029/1038 [24:20<00:13,  1.48s/it]2023-07-08 12:05:22,903 - \u001b[1;32mINFO\u001b[1;0m - Processed 515001 facts\n",
      "2023-07-08 12:05:22,903 - \u001b[1;32mINFO\u001b[1;0m - Example extracted metadata:\n",
      "2023-07-08 12:05:22,903 - \u001b[1;32mINFO\u001b[1;0m - {'fact': 'disappearance of right-sided pleural effusion', 'metadata': {'anatomical location': 'right', 'detailed observation': 'disappearance of right-sided pleural effusion', 'short observation': 'disappearance of pleural effusion', 'category': 'anatomical finding', 'health status': 'abnormal', 'prev_study_comparison?': 'yes', 'comparison status': 'resolved'}}\n",
      "100%|███████████████████████████████████████| 1038/1038 [24:33<00:00,  1.42s/it]\n",
      "2023-07-08 12:05:32,722 - \u001b[1;33mWARNING\u001b[1;0m - Failed to parse 28 facts\n",
      "2023-07-08 12:05:32,722 - \u001b[1;32mINFO\u001b[1;0m - Successfully processed 518822 facts\n",
      "2023-07-08 12:05:32,722 - \u001b[1;32mINFO\u001b[1;0m - Example extracted metadata:\n",
      "2023-07-08 12:05:32,723 - \u001b[1;32mINFO\u001b[1;0m - {'fact': 'long-standing calcified granuloma in the right lower lobe', 'metadata': {'anatomical location': 'right lower lobe', 'detailed observation': 'long-standing calcified granuloma', 'short observation': 'calcified granuloma', 'category': 'anatomical finding', 'health status': 'unknown', 'prev_study_comparison?': 'no', 'comparison status': ''}}\n",
      "2023-07-08 12:05:32,723 - \u001b[1;32mINFO\u001b[1;0m - Saving extracted metadata to /home/pamessina/medvqa-workspace/cache/mimiccxr/huggingface/extracted_metadata_Seq2Seq(t5-small)_200_1_20230708_120532.jsonl\n",
      "2023-07-08 12:05:37,392 - \u001b[1;32mINFO\u001b[1;0m - Saving unparsed facts to /home/pamessina/medvqa-workspace/cache/mimiccxr/huggingface/unparsed_facts_Seq2Seq(t5-small)_200_1_20230708_120532.jsonl\n",
      "2023-07-08 12:05:37,393 - \u001b[1;32mINFO\u001b[1;0m - DONE\n"
     ]
    }
   ],
   "source": [
    "!python ../../scripts/mimiccxr/extract_metadata_from_facts_with_transformer.py \\\n",
    "    --preprocessed_facts_to_skip_filepaths \\\n",
    "        \"/home/pamessina/medvqa-workspace/cache/mimiccxr/openai/gpt-3.5-turbo-0613_parsed_facts__v2.jsonl\" \\\n",
    "        \"/home/pamessina/medvqa-workspace/cache/mimiccxr/openai/gpt-3.5-turbo-0613_parsed_facts__v2_offset=20000.jsonl\" \\\n",
    "        \"/home/pamessina/medvqa-workspace/cache/mimiccxr/openai/gpt-3.5-turbo-0613_parsed_facts__v2_offset=40000_uniform.jsonl\" \\\n",
    "    --extracted_facts_jsonl_filepath \\\n",
    "        \"/home/pamessina/medvqa-workspace/cache/mimiccxr/integrated_sentence_facts(58655550,49843061).jsonl\" \\\n",
    "    --logging_level \"INFO\" \\\n",
    "    --checkpoint_folder_path \\\n",
    "        \"/mnt/data/pamessina/workspaces/medvqa-workspace/models/seq2seq/20230707_215744_fact2metadata(gpt-3.5-..ts__v2;gpt-3.5-..=20000;gpt-3.5-..niform)_Seq2Seq(t5-small)\" \\\n",
    "    --batch_size 500 \\\n",
    "    --num_beams 1 \\\n",
    "    --max_length 200 \\\n",
    "    --num_workers 4"
   ]
  },
  {
   "cell_type": "code",
   "execution_count": 79,
   "id": "e24af43d",
   "metadata": {},
   "outputs": [],
   "source": [
    "from medvqa.utils.files import load_jsonl"
   ]
  },
  {
   "cell_type": "code",
   "execution_count": 80,
   "id": "a0ae9cb0",
   "metadata": {},
   "outputs": [],
   "source": [
    "unparsed_facts = load_jsonl('/home/pamessina/medvqa-workspace/cache/mimiccxr/huggingface/unparsed_facts_Seq2Seq(t5-small)_200_1_20230708_120532.jsonl')"
   ]
  },
  {
   "cell_type": "code",
   "execution_count": 81,
   "id": "1d5c8d20",
   "metadata": {},
   "outputs": [
    {
     "data": {
      "text/plain": [
       "['comparison with chest radiographs at :',\n",
       " 'new right healed rib fractures',\n",
       " 'CHF findings may be very slightly improved',\n",
       " 'radiation fibrosis within the anterior aspect of the left lung',\n",
       " 'presence of underlying consolidation at the left base',\n",
       " 'central lucency in the right middle lobe process',\n",
       " 'slightly increased mediastinal contour',\n",
       " 'increasing mid perihilar airspace opacities',\n",
       " 'parenchymal disease',\n",
       " 'surgical clips stable',\n",
       " 'markedly tortuous descending thoracic aorta in the hilar contours',\n",
       " 'clearance of persistent right basilar opacity',\n",
       " 'faint increasing peribronchial opacities in the left upper lobe',\n",
       " 'Right IJ central venous catheter in stable position',\n",
       " 'changes occupying most of the basal left lung',\n",
       " 'indwelling lines unchanged',\n",
       " 'calcified granulomas unchanged',\n",
       " 'improvement in right lung bases',\n",
       " 'chronic residual scarring',\n",
       " 'rounded density to the left of midline',\n",
       " 'tip coursing to the left of midline',\n",
       " 'new anterior compression deformity of an upper lumbar vertebral body',\n",
       " 'right IJ tip in upper-to-mid SVC',\n",
       " 'tip of Dobbhoff tube lies within the stomach',\n",
       " 'possible minimal upper zone redistribution on the right',\n",
       " 'combination of lung collapse and an indeterminate volume of pleural effusion',\n",
       " 'PICC line ends in the right axillary vein',\n",
       " 'Swan-Ganz ends around pulmonary valve']"
      ]
     },
     "execution_count": 81,
     "metadata": {},
     "output_type": "execute_result"
    }
   ],
   "source": [
    "unparsed_facts"
   ]
  },
  {
   "cell_type": "code",
   "execution_count": 82,
   "id": "2cfc108a",
   "metadata": {},
   "outputs": [],
   "source": [
    "metadata_from_t5 = load_jsonl('/home/pamessina/medvqa-workspace/cache/mimiccxr/huggingface/extracted_metadata_Seq2Seq(t5-small)_200_1_20230708_120532.jsonl')"
   ]
  },
  {
   "cell_type": "code",
   "execution_count": 84,
   "id": "3002606d",
   "metadata": {},
   "outputs": [
    {
     "data": {
      "text/plain": [
       "518822"
      ]
     },
     "execution_count": 84,
     "metadata": {},
     "output_type": "execute_result"
    }
   ],
   "source": [
    "len(metadata_from_t5)"
   ]
  },
  {
   "cell_type": "code",
   "execution_count": 90,
   "id": "1c0cd86b",
   "metadata": {},
   "outputs": [
    {
     "data": {
      "text/plain": [
       "{'fact': 'free air beneath the bilateral hemidiaphragms',\n",
       " 'metadata': {'anatomical location': 'bilateral hemidiaphragms',\n",
       "  'detailed observation': 'free air beneath the bilateral hemidiaphragms',\n",
       "  'short observation': 'free air beneath bilateral hemidiaphragms',\n",
       "  'category': 'anatomical finding',\n",
       "  'health status': 'abnormal',\n",
       "  'prev_study_comparison?': 'no',\n",
       "  'comparison status': ''}}"
      ]
     },
     "execution_count": 90,
     "metadata": {},
     "output_type": "execute_result"
    }
   ],
   "source": [
    "metadata_from_t5[5]"
   ]
  },
  {
   "cell_type": "code",
   "execution_count": 94,
   "id": "068475ae",
   "metadata": {},
   "outputs": [
    {
     "name": "stdout",
     "output_type": "stream",
     "text": [
      "Loading preprocessed reports from /mnt/data/pamessina/workspaces/medvqa-workspace/cache/mimiccxr/background_findings_and_impression_20230612_174143.json...\n",
      "Integrating sentences and facts...\n",
      "Loading extracted facts from /home/pamessina/medvqa-workspace/cache/mimiccxr/openai/gpt-4-0613_parsed_sentences__v2.jsonl...\n",
      "100%|████████████████████████████████████| 9999/9999 [00:00<00:00, 37042.46it/s]\n",
      "Loading extracted facts from /home/pamessina/medvqa-workspace/cache/mimiccxr/openai/gpt-3.5-turbo-0613_parsed_sentences__v2.jsonl...\n",
      "100%|██████████████████████████████████| 19971/19971 [00:00<00:00, 45358.82it/s]\n",
      "Loading extracted facts from /home/pamessina/medvqa-workspace/cache/mimiccxr/openai/gpt-3.5-turbo-0613_parsed_sentences__v2(uniform).jsonl...\n",
      "100%|██████████████████████████████████| 19984/19984 [00:00<00:00, 46764.69it/s]\n",
      "Loading extracted facts from /home/pamessina/medvqa-workspace/cache/mimiccxr/huggingface/extracted_facts_Seq2Seq(t5-small)_256_1_20230704_081617.jsonl...\n",
      "100%|████████████████████████████████| 627740/627740 [00:12<00:00, 49093.09it/s]\n",
      "Integrating facts and metadata...\n",
      "Loading extracted metadata from /home/pamessina/medvqa-workspace/cache/mimiccxr/openai/gpt-3.5-turbo-0613_parsed_facts__v2.jsonl...\n",
      "100%|██████████████████████████████████| 19964/19964 [00:00<00:00, 33082.87it/s]\n",
      "Loading extracted metadata from /home/pamessina/medvqa-workspace/cache/mimiccxr/openai/gpt-3.5-turbo-0613_parsed_facts__v2_offset=20000.jsonl...\n",
      "100%|██████████████████████████████████| 19948/19948 [00:00<00:00, 32473.63it/s]\n",
      "Loading extracted metadata from /home/pamessina/medvqa-workspace/cache/mimiccxr/openai/gpt-3.5-turbo-0613_parsed_facts__v2_offset=40000_uniform.jsonl...\n",
      "100%|██████████████████████████████████| 19984/19984 [00:00<00:00, 32532.22it/s]\n",
      "Loading extracted metadata from /home/pamessina/medvqa-workspace/cache/mimiccxr/huggingface/extracted_metadata_Seq2Seq(t5-small)_200_1_20230708_120532.jsonl...\n",
      "100%|████████████████████████████████| 518822/518822 [00:11<00:00, 45420.50it/s]\n",
      "Integrating reports, facts, and metadata...\n",
      "  7%|██▎                               | 15550/227835 [00:06<01:34, 2249.82it/s]\u001b[93mWarning: fact \"lateral of the chest provided\" has detailed observation but no short observation. metadata: {'anatomical location': 'lateral of the chest', 'detailed observation': 'provided', 'short observation': '', 'category': 'technical assessment', 'health status': 'unknown', 'prev_study_comparison?': 'no', 'comparison status': ''}\u001b[0m\n",
      " 11%|███▊                              | 25841/227835 [00:10<01:27, 2310.00it/s]\u001b[93mWarning: fact \"worsening of the worsening of the worsening of the worsening of the worsening of the worsening of the worsening of the worsening of the worsening of the worsening of the worsening of the worsening of the worsening of the worsening of the worsening of the worsening of the worsening of the worsening of the worsening of the worsening of the worsening of the worsening of subsequently\" has detailed observation but no short observation. metadata: {'anatomical location': '', 'detailed observation': 'worsening of the worsening of the worsening of the worsening of the worsening of the worsening of the worsening of the worsening of the worsening of the worsening of the worsening of the worsening of the worsening of the worsening of the worsening of the worsening of the worsening of the worsening of the worsening of subsequently', 'short observation': '', 'category': 'technical assessment', 'health status': 'abnormal', 'prev_study_comparison?': 'yes', 'comparison status': 'worsened'}\u001b[0m\n",
      " 16%|█████▎                            | 35592/227835 [00:14<01:22, 2343.15it/s]\u001b[93mWarning: fact \"distal end of the distal end of the distal end of the distal end of the distal end of the distal end of the distal end of the distal end of the distal end of the distal end of the distal end of the distal end of the distal end of the distal end of the distal end of the distal end of the distal end of the distal end of the distal end of the distal end of the diaphragm into the stomach\" has detailed observation but no short observation. metadata: {'anatomical location': 'stomach', 'detailed observation': 'distal end of the distal end of the distal end of the distal end of the distal end of the distal end of the distal end of the distal end of the distal end of the distal end of the distal end of the distal end of the distal end of the distal end of the distal end of the distal end of the distal end of the distal end of the distal end', 'short observation': '', 'category': 'anatomical finding', 'health status': 'unknown', 'prev_study_comparison?': 'no', 'comparison status': ''}\u001b[0m\n",
      " 18%|██████                            | 40420/227835 [00:16<01:19, 2364.22it/s]\u001b[93mWarning: fact \"new or substantially larger since previous study\" has detailed observation but no short observation. metadata: {'anatomical location': '', 'detailed observation': 'new or substantially larger', 'short observation': '', 'category': 'technical assessment', 'health status': 'unknown', 'prev_study_comparison?': 'yes', 'comparison status': 'larger'}\u001b[0m\n",
      " 41%|█████████████▉                    | 93376/227835 [00:39<00:56, 2385.40it/s]\u001b[93mWarning: fact \"right base since that film\" has detailed observation but no short observation. metadata: {'anatomical location': 'right base', 'detailed observation': 'since that film', 'short observation': '', 'category': 'anatomical finding', 'health status': 'unknown', 'prev_study_comparison?': 'yes', 'comparison status': 'resolved'}\u001b[0m\n",
      " 52%|█████████████████                | 117385/227835 [00:50<00:51, 2152.84it/s]\u001b[93mWarning: fact \"right-sided - present\" has detailed observation but no short observation. metadata: {'anatomical location': 'right', 'detailed observation': 'present', 'short observation': '', 'category': 'anatomical finding', 'health status': 'unknown', 'prev_study_comparison?': 'no', 'comparison status': ''}\u001b[0m\n",
      "100%|█████████████████████████████████| 227835/227835 [01:38<00:00, 2303.92it/s]\n",
      "Saving integrated sentence facts to /home/pamessina/medvqa-workspace/cache/mimiccxr/integrated_sentence_facts(58655550,46441815).jsonl\n",
      "Saving integrated fact metadata to /home/pamessina/medvqa-workspace/cache/mimiccxr/integrated_fact_metadata(578718,58628868).jsonl\n",
      "Saving integrated report facts metadata to /home/pamessina/medvqa-workspace/cache/mimiccxr/integrated_report_facts_metadata(227835,64941273).jsonl\n",
      "Done!\n"
     ]
    }
   ],
   "source": [
    "!python ../../scripts/mimiccxr/integrate_reports_facts_and_metadata.py \\\n",
    "    --preprocessed_reports_filepath \\\n",
    "        \"/mnt/data/pamessina/workspaces/medvqa-workspace/cache/mimiccxr/background_findings_and_impression_20230612_174143.json\" \\\n",
    "    --extracted_facts_filepaths \\\n",
    "        \"/home/pamessina/medvqa-workspace/cache/mimiccxr/openai/gpt-4-0613_parsed_sentences__v2.jsonl\" \\\n",
    "        \"/home/pamessina/medvqa-workspace/cache/mimiccxr/openai/gpt-3.5-turbo-0613_parsed_sentences__v2.jsonl\" \\\n",
    "        \"/home/pamessina/medvqa-workspace/cache/mimiccxr/openai/gpt-3.5-turbo-0613_parsed_sentences__v2(uniform).jsonl\" \\\n",
    "        \"/home/pamessina/medvqa-workspace/cache/mimiccxr/huggingface/extracted_facts_Seq2Seq(t5-small)_256_1_20230704_081617.jsonl\" \\\n",
    "    --fact_extraction_methods \\\n",
    "        \"gpt-4-0613\" \\\n",
    "        \"gpt-3.5-turbo-0613\" \\\n",
    "        \"gpt-3.5-turbo-0613\" \\\n",
    "        \"t5-small-finetuned\" \\\n",
    "    --extracted_metadata_filepaths \\\n",
    "        \"/home/pamessina/medvqa-workspace/cache/mimiccxr/openai/gpt-3.5-turbo-0613_parsed_facts__v2.jsonl\" \\\n",
    "        \"/home/pamessina/medvqa-workspace/cache/mimiccxr/openai/gpt-3.5-turbo-0613_parsed_facts__v2_offset=20000.jsonl\" \\\n",
    "        \"/home/pamessina/medvqa-workspace/cache/mimiccxr/openai/gpt-3.5-turbo-0613_parsed_facts__v2_offset=40000_uniform.jsonl\" \\\n",
    "        \"/home/pamessina/medvqa-workspace/cache/mimiccxr/huggingface/extracted_metadata_Seq2Seq(t5-small)_200_1_20230708_120532.jsonl\" \\\n",
    "    --metadata_extraction_methods \\\n",
    "        \"gpt-3.5-turbo-0613\" \\\n",
    "        \"gpt-3.5-turbo-0613\" \\\n",
    "        \"gpt-3.5-turbo-0613\" \\\n",
    "        \"t5-small-finetuned\""
   ]
  },
  {
   "cell_type": "code",
   "execution_count": 95,
   "id": "a00de1b1",
   "metadata": {},
   "outputs": [
    {
     "name": "stdout",
     "output_type": "stream",
     "text": [
      "-rw-rw-r-- 1 pamessina pamessina 151M Jul  8 14:14 '/home/pamessina/medvqa-workspace/cache/mimiccxr/integrated_sentence_facts(58655550,46441815).jsonl'\r\n"
     ]
    }
   ],
   "source": [
    "!ls -lh \"/home/pamessina/medvqa-workspace/cache/mimiccxr/integrated_sentence_facts(58655550,46441815).jsonl\""
   ]
  },
  {
   "cell_type": "code",
   "execution_count": 96,
   "id": "ca8bd5c9",
   "metadata": {},
   "outputs": [],
   "source": [
    "integrated_sentence_facts = load_jsonl(\"/home/pamessina/medvqa-workspace/cache/mimiccxr/integrated_sentence_facts(58655550,46441815).jsonl\")"
   ]
  },
  {
   "cell_type": "code",
   "execution_count": 97,
   "id": "019c2846",
   "metadata": {},
   "outputs": [
    {
     "data": {
      "text/plain": [
       "677694"
      ]
     },
     "execution_count": 97,
     "metadata": {},
     "output_type": "execute_result"
    }
   ],
   "source": [
    "len(integrated_sentence_facts)"
   ]
  },
  {
   "cell_type": "code",
   "execution_count": 104,
   "id": "140b0d90",
   "metadata": {},
   "outputs": [
    {
     "data": {
      "text/plain": [
       "{'sentence': 'Lung volumes remain low with bibasal atelectasis and bilateral pleural effusion.',\n",
       " 'facts': ['low lung volumes',\n",
       "  'bibasal atelectasis',\n",
       "  'bilateral pleural effusion'],\n",
       " 'extraction_method': 't5-small-finetuned'}"
      ]
     },
     "execution_count": 104,
     "metadata": {},
     "output_type": "execute_result"
    }
   ],
   "source": [
    "integrated_sentence_facts[-12]"
   ]
  },
  {
   "cell_type": "code",
   "execution_count": 105,
   "id": "fb8fc62a",
   "metadata": {},
   "outputs": [
    {
     "name": "stdout",
     "output_type": "stream",
     "text": [
      "-rw-rw-r-- 1 pamessina pamessina 216M Jul  8 14:14 '/home/pamessina/medvqa-workspace/cache/mimiccxr/integrated_fact_metadata(578718,58628868).jsonl'\r\n"
     ]
    }
   ],
   "source": [
    "!ls -lh \"/home/pamessina/medvqa-workspace/cache/mimiccxr/integrated_fact_metadata(578718,58628868).jsonl\""
   ]
  },
  {
   "cell_type": "code",
   "execution_count": 106,
   "id": "2223aeea",
   "metadata": {},
   "outputs": [],
   "source": [
    "integrated_fact_metadata = load_jsonl(\"/home/pamessina/medvqa-workspace/cache/mimiccxr/integrated_fact_metadata(578718,58628868).jsonl\")"
   ]
  },
  {
   "cell_type": "code",
   "execution_count": 107,
   "id": "11c3ad49",
   "metadata": {},
   "outputs": [
    {
     "data": {
      "text/plain": [
       "578718"
      ]
     },
     "execution_count": 107,
     "metadata": {},
     "output_type": "execute_result"
    }
   ],
   "source": [
    "len(integrated_fact_metadata)"
   ]
  },
  {
   "cell_type": "code",
   "execution_count": 111,
   "id": "9499b9b4",
   "metadata": {},
   "outputs": [
    {
     "data": {
      "text/plain": [
       "{'fact': 'areas of left mid-to-lower lung scarring',\n",
       " 'metadata': {'anatomical location': 'left mid-to-lower lung',\n",
       "  'detailed observation': 'areas of scarring',\n",
       "  'short observation': 'scarring',\n",
       "  'category': 'anatomical finding',\n",
       "  'health status': 'abnormal',\n",
       "  'prev_study_comparison?': 'no',\n",
       "  'comparison status': ''},\n",
       " 'extraction_method': 't5-small-finetuned'}"
      ]
     },
     "execution_count": 111,
     "metadata": {},
     "output_type": "execute_result"
    }
   ],
   "source": [
    "integrated_fact_metadata[-3]"
   ]
  },
  {
   "cell_type": "code",
   "execution_count": 112,
   "id": "46cbeecd",
   "metadata": {},
   "outputs": [
    {
     "name": "stdout",
     "output_type": "stream",
     "text": [
      "-rw-rw-r-- 1 pamessina pamessina 774M Jul  8 14:14 '/home/pamessina/medvqa-workspace/cache/mimiccxr/integrated_report_facts_metadata(227835,64941273).jsonl'\r\n"
     ]
    }
   ],
   "source": [
    "!ls -lh \"/home/pamessina/medvqa-workspace/cache/mimiccxr/integrated_report_facts_metadata(227835,64941273).jsonl\""
   ]
  },
  {
   "cell_type": "code",
   "execution_count": 113,
   "id": "5e88449e",
   "metadata": {},
   "outputs": [],
   "source": [
    "integrated_report_facts_metadata = load_jsonl(\"/home/pamessina/medvqa-workspace/cache/mimiccxr/integrated_report_facts_metadata(227835,64941273).jsonl\")"
   ]
  },
  {
   "cell_type": "code",
   "execution_count": 114,
   "id": "736b5146",
   "metadata": {},
   "outputs": [
    {
     "data": {
      "text/plain": [
       "227835"
      ]
     },
     "execution_count": 114,
     "metadata": {},
     "output_type": "execute_result"
    }
   ],
   "source": [
    "len(integrated_report_facts_metadata)"
   ]
  },
  {
   "cell_type": "code",
   "execution_count": 116,
   "id": "8732c075",
   "metadata": {},
   "outputs": [
    {
     "data": {
      "text/plain": [
       "{'report_idx': 1,\n",
       " 'background': 'indication: Chest pain.',\n",
       " 'findings': 'There is a mild pectus deformity. The heart size is normal. The hilar and mediastinal contours are within normal limits. There is no pneumothorax, focal consolidation, or pleural effusion.',\n",
       " 'impression': 'No acute intrathoracic process.',\n",
       " 'path': '/mnt/data/mimic-cxr/files/p10/p10703179/s55231872.txt',\n",
       " 'facts': [{'fact': 'mild pectus deformity',\n",
       "   'metadata': {'anatomical location': '',\n",
       "    'detailed observation': 'mild pectus deformity',\n",
       "    'short observation': 'mild pectus deformity',\n",
       "    'category': 'anatomical finding',\n",
       "    'health status': 'abnormal',\n",
       "    'prev_study_comparison?': 'no',\n",
       "    'comparison status': ''}},\n",
       "  {'fact': 'normal heart size',\n",
       "   'metadata': {'anatomical location': 'heart',\n",
       "    'detailed observation': 'normal heart size',\n",
       "    'short observation': 'normal heart size',\n",
       "    'category': 'anatomical finding',\n",
       "    'health status': 'normal',\n",
       "    'prev_study_comparison?': 'no',\n",
       "    'comparison status': ''}},\n",
       "  {'fact': 'hilar contours within normal limits',\n",
       "   'metadata': {'anatomical location': 'hilar',\n",
       "    'detailed observation': 'contours within normal limits',\n",
       "    'short observation': 'normal hilar contours',\n",
       "    'category': 'anatomical finding',\n",
       "    'health status': 'normal',\n",
       "    'prev_study_comparison?': 'no',\n",
       "    'comparison status': ''}},\n",
       "  {'fact': 'mediastinal contours within normal limits',\n",
       "   'metadata': {'anatomical location': 'mediastinal contours',\n",
       "    'detailed observation': 'within normal limits',\n",
       "    'short observation': 'within normal limits',\n",
       "    'category': 'anatomical finding',\n",
       "    'health status': 'normal',\n",
       "    'prev_study_comparison?': 'no',\n",
       "    'comparison status': ''}}],\n",
       " 'fact_based_report': 'mild pectus deformity. normal heart size. hilar contours within normal limits. mediastinal contours within normal limits'}"
      ]
     },
     "execution_count": 116,
     "metadata": {},
     "output_type": "execute_result"
    }
   ],
   "source": [
    "integrated_report_facts_metadata[1]"
   ]
  },
  {
   "cell_type": "code",
   "execution_count": 143,
   "id": "5ee050d6",
   "metadata": {},
   "outputs": [
    {
     "name": "stderr",
     "output_type": "stream",
     "text": [
      "100%|██████████████████████████████████████████████████████████████████████████████████| 227835/227835 [00:06<00:00, 37880.47it/s]\n"
     ]
    }
   ],
   "source": [
    "from tqdm import tqdm\n",
    "\n",
    "fact2count = {}\n",
    "short2count = {}\n",
    "detailed2count = {}\n",
    "location2count = {}\n",
    "comparison2count = {}\n",
    "\n",
    "for row in tqdm(integrated_report_facts_metadata, total=len(integrated_report_facts_metadata), mininterval=2):\n",
    "    for x in row['facts']:\n",
    "        fact = x['fact']\n",
    "        fact2count[fact] = fact2count.get(fact, 0) + 1\n",
    "        s = x['metadata']['short observation']\n",
    "        if s:\n",
    "            short2count[s] = general2count.get(s, 0) + 1\n",
    "        d = x['metadata']['detailed observation']\n",
    "        if d:\n",
    "            detailed2count[d] = detailed2count.get(d, 0) + 1\n",
    "        a = x['metadata']['anatomical location']\n",
    "        if a:\n",
    "            location2count[a] = location2count.get(a, 0) + 1\n",
    "        c = x['metadata']['comparison status']\n",
    "        if c:\n",
    "            comparison2count[c] = comparison2count.get(c, 0) + 1"
   ]
  },
  {
   "cell_type": "code",
   "execution_count": 123,
   "id": "fa8b511a",
   "metadata": {},
   "outputs": [
    {
     "data": {
      "text/plain": [
       "549573"
      ]
     },
     "execution_count": 123,
     "metadata": {},
     "output_type": "execute_result"
    }
   ],
   "source": [
    "len(fact2count)"
   ]
  },
  {
   "cell_type": "code",
   "execution_count": 124,
   "id": "54ca4817",
   "metadata": {},
   "outputs": [
    {
     "data": {
      "text/plain": [
       "199129"
      ]
     },
     "execution_count": 124,
     "metadata": {},
     "output_type": "execute_result"
    }
   ],
   "source": [
    "len(short2count)"
   ]
  },
  {
   "cell_type": "code",
   "execution_count": 125,
   "id": "2f9affd2",
   "metadata": {},
   "outputs": [
    {
     "data": {
      "text/plain": [
       "403231"
      ]
     },
     "execution_count": 125,
     "metadata": {},
     "output_type": "execute_result"
    }
   ],
   "source": [
    "len(detailed2count)"
   ]
  },
  {
   "cell_type": "code",
   "execution_count": 126,
   "id": "18c9f754",
   "metadata": {},
   "outputs": [
    {
     "data": {
      "text/plain": [
       "27924"
      ]
     },
     "execution_count": 126,
     "metadata": {},
     "output_type": "execute_result"
    }
   ],
   "source": [
    "len(location2count)"
   ]
  },
  {
   "cell_type": "code",
   "execution_count": 144,
   "id": "919b7f17",
   "metadata": {},
   "outputs": [
    {
     "data": {
      "text/plain": [
       "477"
      ]
     },
     "execution_count": 144,
     "metadata": {},
     "output_type": "execute_result"
    }
   ],
   "source": [
    "len(comparison2count)"
   ]
  },
  {
   "cell_type": "code",
   "execution_count": 139,
   "id": "f5ef371d",
   "metadata": {},
   "outputs": [],
   "source": [
    "from collections import Counter"
   ]
  },
  {
   "cell_type": "code",
   "execution_count": 140,
   "id": "7a3c1744",
   "metadata": {},
   "outputs": [
    {
     "data": {
      "text/plain": [
       "Counter({'ambiguous': 36705,\n",
       "         'abnormal': 303610,\n",
       "         'unknown': 163011,\n",
       "         'normal': 75100,\n",
       "         'resolved': 5,\n",
       "         'improved': 24,\n",
       "         '': 263})"
      ]
     },
     "execution_count": 140,
     "metadata": {},
     "output_type": "execute_result"
    }
   ],
   "source": [
    "Counter(x['metadata']['health status'] for x in integrated_fact_metadata)"
   ]
  },
  {
   "cell_type": "code",
   "execution_count": 141,
   "id": "c484c619",
   "metadata": {},
   "outputs": [
    {
     "data": {
      "text/plain": [
       "Counter({'no': 442592, 'yes': 136113, '': 13})"
      ]
     },
     "execution_count": 141,
     "metadata": {},
     "output_type": "execute_result"
    }
   ],
   "source": [
    "Counter(x['metadata']['prev_study_comparison?'] for x in integrated_fact_metadata)"
   ]
  },
  {
   "cell_type": "code",
   "execution_count": 127,
   "id": "d9e80d4b",
   "metadata": {},
   "outputs": [],
   "source": [
    "import numpy as np\n",
    "\n",
    "def print_pairs(name_counts, n_samples, offset=0, uniform=False):\n",
    "    pairs = list(name_counts.items())\n",
    "    pairs.sort(key=lambda x:x[1], reverse=True)\n",
    "    if uniform:\n",
    "        idxs = np.linspace(offset, len(pairs)-1, n_samples, dtype=int)\n",
    "    else:\n",
    "        idxs = range(offset, offset + n_samples)        \n",
    "    for i in idxs:\n",
    "        print(f'{pairs[i][1]}\\t{pairs[i][0]}')"
   ]
  },
  {
   "cell_type": "markdown",
   "id": "dd1a495a",
   "metadata": {},
   "source": [
    "### Comparison"
   ]
  },
  {
   "cell_type": "code",
   "execution_count": 145,
   "id": "d10e6686",
   "metadata": {},
   "outputs": [
    {
     "name": "stdout",
     "output_type": "stream",
     "text": [
      "117637\tresolved\n",
      "55516\tunchanged\n",
      "52309\timproved\n",
      "20111\tworsened\n",
      "11422\tlarger\n",
      "8046\tstable\n",
      "7539\tnew\n",
      "2545\tsmaller\n",
      "2353\tincreasing\n",
      "2292\tprogression\n",
      "1137\tremained the same\n",
      "1105\tcompared to previous study\n",
      "1062\tpersisted\n",
      "762\tincreased\n",
      "627\tcontinued\n",
      "609\tsimilar\n",
      "527\tnot significantly changed\n",
      "485\tdecreased\n",
      "403\tcontinued enlargement\n",
      "216\tnot appreciably changed\n"
     ]
    }
   ],
   "source": [
    "print_pairs(comparison2count, 20)"
   ]
  },
  {
   "cell_type": "markdown",
   "id": "4e215f39",
   "metadata": {},
   "source": [
    "### Facts"
   ]
  },
  {
   "cell_type": "code",
   "execution_count": 128,
   "id": "f27fcad6",
   "metadata": {},
   "outputs": [
    {
     "name": "stdout",
     "output_type": "stream",
     "text": [
      "51811\tclear lungs\n",
      "20201\tnormal heart size\n",
      "19258\tlow lung volumes\n",
      "18962\tnormal hilar contours\n",
      "16854\tnormal mediastinal contours\n",
      "13852\tnormal cardiomediastinal silhouette\n",
      "10405\tlungs without focal consolidation\n",
      "9236\tmoderate cardiomegaly\n",
      "7788\tnormal cardiomediastinal contours\n",
      "7041\tcardiomediastinal silhouette within normal limits\n",
      "6758\tunremarkable hilar contours\n",
      "6705\tmild cardiomegaly\n",
      "6638\tlateral view of the chest provided\n",
      "6488\tlateral view of the chest\n",
      "6291\tnormal pulmonary vasculature\n",
      "6184\tatelectasis\n",
      "5562\tlungs without pneumothorax\n",
      "5543\tsmall left pleural effusion\n",
      "5488\tmild pulmonary edema\n",
      "5484\tPA view of the chest provided\n"
     ]
    }
   ],
   "source": [
    "print_pairs(fact2count, 20)"
   ]
  },
  {
   "cell_type": "code",
   "execution_count": 129,
   "id": "b94f2d5c",
   "metadata": {
    "scrolled": false
   },
   "outputs": [
    {
     "name": "stdout",
     "output_type": "stream",
     "text": [
      "5416\tsmall bilateral pleural effusions\n",
      "6\tchronic atelectasis in the left lower lobe\n",
      "3\tpossible minimal vascular plethora\n",
      "2\tunchanged severe atelectasis in the right lower lobe\n",
      "2\tleft pectoral pacemaker with 2 leads terminating in right atrium\n",
      "1\tright internal jugular central venous catheter with the catheter tip at the lower SVC\n",
      "1\tfractures of several posterior right-sided ribs are new\n",
      "1\tsecond lead coiled in the soft tissue of the chest wall\n",
      "1\tincreased size of left lower lobe pleural effusion in the left lung\n",
      "1\tworsened opacity at the left base\n",
      "1\tpartially positional scoliosis of the thoracic spine\n",
      "1\tlingular opacity is mass like\n",
      "1\tcomponent of accompanying pulmonary edema\n",
      "1\tpossible underlying pleural effusion at the left costophrenic angle\n",
      "1\tareas of cavitation within the right upper lobe\n",
      "1\tpossibility for the presence of a pericardial effusion\n",
      "1\tresidual moderate right pneumothorax\n",
      "1\tchronic bronchiectasis within the lung bases\n",
      "1\tless engorged vessels\n",
      "1\tpulmonary edema has minimally progressed\n",
      "1\tsignificant improvement in the left lower lobe area\n",
      "1\tworsening of left lower lobe infiltrate\n",
      "1\tright-sided chest tube pulled back slightly\n",
      "1\tpre sternal subcutaneous emphysema probably not clinically significant\n",
      "1\tinterval healing of left upper lateral rib fractures\n",
      "1\ttip of the nasogastric tube not visible on the image\n",
      "1\tstreaky opacity at the left lower lung\n",
      "1\tre-positioned endotracheal tube\n",
      "1\tdense abnormality continuing to overlie the left anterior first rib\n",
      "1\tright PICC tip remains in standard position\n"
     ]
    }
   ],
   "source": [
    "print_pairs(fact2count, 30, offset=20, uniform=True)"
   ]
  },
  {
   "cell_type": "markdown",
   "id": "6897eafa",
   "metadata": {},
   "source": [
    "### Short observations extracted from facts"
   ]
  },
  {
   "cell_type": "code",
   "execution_count": 130,
   "id": "70b69ae7",
   "metadata": {},
   "outputs": [
    {
     "name": "stdout",
     "output_type": "stream",
     "text": [
      "180609\tatelectasis\n",
      "138824\tpleural effusion\n",
      "121650\topacity\n",
      "109256\topacities\n",
      "63536\tcardiomegaly\n",
      "62018\tpleural effusions\n",
      "46704\tpulmonary edema\n",
      "45272\topacification\n",
      "44641\tconsolidation\n",
      "33176\tpneumonia\n",
      "32391\tpneumothorax\n",
      "28848\tcatheter\n",
      "28794\tendotracheal tube\n",
      "28126\tcontours\n",
      "27135\tlow lung volumes\n",
      "23242\teffusion\n",
      "20170\ttube\n",
      "19887\tdegenerative changes\n",
      "18754\tline\n",
      "18287\tscarring\n"
     ]
    }
   ],
   "source": [
    "print_pairs(short2count, 20)"
   ]
  },
  {
   "cell_type": "code",
   "execution_count": 131,
   "id": "25766db1",
   "metadata": {},
   "outputs": [
    {
     "name": "stdout",
     "output_type": "stream",
     "text": [
      "17403\tcalcification\n",
      "7\tgood inspiratory effort\n",
      "3\tnasoenteric drainage tube\n",
      "2\thead up\n",
      "1\tplacement of a stent graft\n",
      "1\tpreoperative size\n",
      "1\tslightly tortuous descending thoracic aorta\n",
      "1\tpatient s/p talc pleurodesis\n",
      "1\tunchanged other lead\n",
      "1\tPA for further characterization\n",
      "1\tETT positioned 3.3 cm from carina\n",
      "1\tright subclavian line terminates in distal SVC\n",
      "1\tdual-channel dialysis catheter placement\n",
      "1\twell healed rib fracture\n",
      "1\tnasogastric tube coiled in the stomach\n",
      "1\tsignificant limitations due to obscuration\n",
      "1\tincrease in patchy opacities in left lung\n",
      "1\tright PICC tip terminates in the mid to distal SVC\n",
      "1\texpiratory view of the chest\n",
      "1\till-defined air space opacities\n",
      "1\tright IJ sheath overlying proximal SVC\n",
      "1\tnot sensitive for detecting gross chest cage trauma\n",
      "1\tdifferences in inspiratory degree\n",
      "1\trecurrence or residual inflammation\n",
      "1\trelative increase in lower lung zones\n",
      "1\tunchanged right pleural space\n",
      "1\ttip of the right subclavian line\n",
      "1\tdisruption in the seventh sternotomy wire\n",
      "1\tupright frontal radiographs with better inspiration\n",
      "1\tinsufficient abnormality\n"
     ]
    }
   ],
   "source": [
    "print_pairs(short2count, 30, offset=20, uniform=True)"
   ]
  },
  {
   "cell_type": "markdown",
   "id": "a188063c",
   "metadata": {},
   "source": [
    "### Detailed observations extracted from facts"
   ]
  },
  {
   "cell_type": "code",
   "execution_count": 132,
   "id": "694dd3fe",
   "metadata": {},
   "outputs": [
    {
     "name": "stdout",
     "output_type": "stream",
     "text": [
      "51856\tclear lungs\n",
      "31827\tatelectasis\n",
      "21434\tnormal heart size\n",
      "19576\tlow lung volumes\n",
      "18971\tnormal hilar contours\n",
      "16869\tnormal mediastinal contours\n",
      "14791\tsmall pleural effusion\n",
      "13857\tnormal cardiomediastinal silhouette\n",
      "11065\tmoderate cardiomegaly\n",
      "10508\twithout focal consolidation\n",
      "9055\tsmall pleural effusions\n",
      "8952\twithin normal limits\n",
      "8394\tmild cardiomegaly\n",
      "8043\topacity\n",
      "7792\tnormal cardiomediastinal contours\n",
      "7404\tpleural effusion\n",
      "6772\tunremarkable hilar contours\n",
      "6638\tlateral view of the chest provided\n",
      "6500\tlateral view of the chest\n",
      "6452\tmild pulmonary edema\n"
     ]
    }
   ],
   "source": [
    "print_pairs(detailed2count, 20)"
   ]
  },
  {
   "cell_type": "code",
   "execution_count": 133,
   "id": "98f2cddd",
   "metadata": {},
   "outputs": [
    {
     "name": "stdout",
     "output_type": "stream",
     "text": [
      "6296\tnormal pulmonary vasculature\n",
      "9\tpossibility of an underlying infectious infiltrate\n",
      "4\tinterval increase in interstitial pulmonary edema\n",
      "3\tnasogastric tube that extends to the upper stomach\n",
      "2\tincreased opacification at the right cardiophrenic angle\n",
      "2\tincreased density in the lateral view\n",
      "1\tenlarged contour of the ascending aorta\n",
      "1\topacities probably more extensive on the right\n",
      "1\tsmall pulmonary nodules slightly increased in size\n",
      "1\tassessing lung bases\n",
      "1\tdrain/catheter partially imaged overlying the left abdomen\n",
      "1\tmild prominence of the right paramediastinal stripe\n",
      "1\tendotracheal tube with tip in satisfactory position\n",
      "1\tuncertain significance of the rectangular lucency\n",
      "1\tdefinite infiltrate on the lateral view\n",
      "1\tpartially imaged dilatation of the stomach\n",
      "1\trelatively stable tissue opacity\n",
      "1\tsubtle increased perihilar vascular congestion\n",
      "1\tincreased left pleural effusion perhaps even since the abdomen CT\n",
      "1\textent of the pre-existing pneumonia is stable\n",
      "1\tincidental azygous fissure\n",
      "1\twidened mediastinum due to mediastinal fat\n",
      "1\tmarked levoconvex thoracic scoliosis\n",
      "1\tDobbhoff tube passed beyond the pylorus\n",
      "1\timproved aeration between the mass and the adjacent left hilar structures\n",
      "1\tcombination of atelectasis and postsurgical change\n",
      "1\tSwan-Ganz catheter should be withdrawn several centimeters\n",
      "1\tacute fracture of the anterior left eighth rib\n",
      "1\tlobulations of the right hemidiaphragm\n",
      "1\tright PICC tip remains in standard position\n"
     ]
    }
   ],
   "source": [
    "print_pairs(detailed2count, 30, offset=20, uniform=True)"
   ]
  },
  {
   "cell_type": "markdown",
   "id": "8d6f5442",
   "metadata": {},
   "source": [
    "### Anatomical locations extracted from facts"
   ]
  },
  {
   "cell_type": "code",
   "execution_count": 134,
   "id": "c31781f8",
   "metadata": {},
   "outputs": [
    {
     "name": "stdout",
     "output_type": "stream",
     "text": [
      "118744\tlungs\n",
      "54304\tright\n",
      "52174\tleft\n",
      "37906\theart\n",
      "36604\tpulmonary\n",
      "36498\tcardiomediastinal silhouette\n",
      "34592\tlung\n",
      "34429\tcardiac silhouette\n",
      "31766\tchest\n",
      "30874\tbilateral\n",
      "26069\tmediastinal\n",
      "25846\thilar\n",
      "21610\tleft lower lobe\n",
      "21219\tbibasilar\n",
      "19377\tmediastinum\n",
      "14379\tright lower lobe\n",
      "14364\tright lung\n",
      "14290\tstomach\n",
      "13755\tcardiomediastinal\n",
      "13045\tcarina\n"
     ]
    }
   ],
   "source": [
    "print_pairs(location2count, 20)"
   ]
  },
  {
   "cell_type": "code",
   "execution_count": 135,
   "id": "e0b13cd0",
   "metadata": {},
   "outputs": [
    {
     "name": "stdout",
     "output_type": "stream",
     "text": [
      "12930\tleft lung\n",
      "44\tatelectasis\n",
      "15\tupper left hemithorax\n",
      "8\tfourth rib\n",
      "5\texpected locations\n",
      "4\tintercostal plane\n",
      "3\tright mid lateral chest wall\n",
      "3\tacromial humeral intervals\n",
      "2\trib cage/scapula\n",
      "2\tleft mid-to-lower zone\n",
      "2\tright upper mediastinal contours\n",
      "2\tlateral aspect of the aortic arch\n",
      "1\tposterior elements of C7\n",
      "1\tbilateral perihilar process\n",
      "1\tlateral right midzone\n",
      "1\tleft first posterior rib\n",
      "1\textreme right base\n",
      "1\tbilateral hilar pulmonary vessels\n",
      "1\tright medial chest wall anteriorly\n",
      "1\tproximal thorax\n",
      "1\tleft medial apex\n",
      "1\tjunction of subclavian vein and superior vena cava\n",
      "1\tinferior sternal wires\n",
      "1\tleft lower lobe bronchus to the stomach\n",
      "1\tright upper left lung zone\n",
      "1\tposterior left pleural\n",
      "1\tintercostal artery\n",
      "1\tright/mediastinal\n",
      "1\tright lower tracheobronchial angle\n",
      "1\tleft vagal nerve\n"
     ]
    }
   ],
   "source": [
    "print_pairs(location2count, 30, offset=20, uniform=True)"
   ]
  },
  {
   "cell_type": "code",
   "execution_count": 138,
   "id": "e7df1989",
   "metadata": {},
   "outputs": [
    {
     "name": "stdout",
     "output_type": "stream",
     "text": [
      "{'report_idx': 206145, 'background': 'indication: year old woman s/p tracheoplasty // interval change.', 'findings': 'Single frontal view of the chest. Persistent low lung volumes. ET tube has been removed. Vascular congestion has improved. Right chest tube remains in place. Right chest wall subcutaneous emphysema has decreased. Left lower lobe opacities have increased consistent wake atelectasis. Widened mediastinum is stable. No enlarging pneumothorax pleural effusions.', 'impression': '', 'path': '/mnt/data/mimic-cxr/files/p19/p19650702/s55181731.txt', 'facts': [{'fact': 'single frontal view of the chest', 'metadata': {'anatomical location': 'chest', 'detailed observation': 'single frontal view of the chest', 'short observation': 'single frontal view of the chest', 'category': 'technical assessment', 'health status': 'unknown', 'prev_study_comparison?': 'no', 'comparison status': ''}}, {'fact': 'persistent low lung volumes', 'metadata': {'anatomical location': 'lung', 'detailed observation': 'persistent low lung volumes', 'short observation': 'low lung volumes', 'category': 'anatomical finding', 'health status': 'abnormal', 'prev_study_comparison?': 'no', 'comparison status': ''}}, {'fact': 'ET tube has been removed', 'metadata': {'anatomical location': '', 'detailed observation': 'ET tube has been removed', 'short observation': 'ET tube removed', 'category': 'tubes and lines', 'health status': 'unknown', 'prev_study_comparison?': 'no', 'comparison status': ''}}, {'fact': 'improved vascular congestion', 'metadata': {'anatomical location': '', 'detailed observation': 'improved vascular congestion', 'short observation': 'improved vascular congestion', 'category': 'anatomical finding', 'health status': 'abnormal', 'prev_study_comparison?': 'yes', 'comparison status': 'improved'}}, {'fact': 'right chest tube remains in place', 'metadata': {'anatomical location': 'right', 'detailed observation': 'chest tube remains in place', 'short observation': 'chest tube remains in place', 'category': 'tubes and lines', 'health status': 'normal', 'prev_study_comparison?': 'no', 'comparison status': ''}}, {'fact': 'decreased right chest wall subcutaneous emphysema', 'metadata': {'anatomical location': 'right chest wall', 'detailed observation': 'decreased subcutaneous emphysema', 'short observation': 'decreased subcutaneous emphysema', 'category': 'anatomical finding', 'health status': 'abnormal', 'prev_study_comparison?': 'no', 'comparison status': ''}}, {'fact': 'increased left lower lobe opacities', 'metadata': {'anatomical location': 'left lower lobe', 'detailed observation': 'increased opacities in the left lower lobe', 'short observation': 'increased opacities', 'category': 'anatomical finding', 'health status': 'abnormal', 'prev_study_comparison?': 'no', 'comparison status': ''}}, {'fact': 'consistent wake atelectasis', 'metadata': {'anatomical location': 'atelectasis', 'detailed observation': 'consistent wake atelectasis', 'short observation': 'wake atelectasis', 'category': 'anatomical finding', 'health status': 'abnormal', 'prev_study_comparison?': 'no', 'comparison status': ''}}, {'fact': 'widened mediastinum is stable', 'metadata': {'anatomical location': 'mediastinum', 'detailed observation': 'widened mediastinum is stable', 'short observation': 'widened mediastinum', 'category': 'anatomical finding', 'health status': 'abnormal', 'prev_study_comparison?': 'yes', 'comparison status': 'stable'}}], 'fact_based_report': 'single frontal view of the chest. persistent low lung volumes. ET tube has been removed. improved vascular congestion. right chest tube remains in place. decreased right chest wall subcutaneous emphysema. increased left lower lobe opacities. consistent wake atelectasis. widened mediastinum is stable'}\n"
     ]
    }
   ],
   "source": [
    "for x in integrated_report_facts_metadata:\n",
    "    for  y in x['facts']:\n",
    "        if y['fact'] ==  'consistent wake atelectasis':\n",
    "            print(x)\n",
    "            break"
   ]
  },
  {
   "cell_type": "code",
   "execution_count": 137,
   "id": "95e87720",
   "metadata": {},
   "outputs": [
    {
     "name": "stdout",
     "output_type": "stream",
     "text": [
      "{'fact': 'consistent wake atelectasis', 'metadata': {'anatomical location': 'atelectasis', 'detailed observation': 'consistent wake atelectasis', 'short observation': 'wake atelectasis', 'category': 'anatomical finding', 'health status': 'abnormal', 'prev_study_comparison?': 'no', 'comparison status': ''}, 'extraction_method': 'gpt-3.5-turbo-0613'}\n",
      "{'fact': 'organization in atelectasis', 'metadata': {'anatomical location': 'atelectasis', 'detailed observation': 'organization in atelectasis', 'short observation': 'organization', 'category': 'anatomical finding', 'health status': 'abnormal', 'prev_study_comparison?': 'no', 'comparison status': ''}, 'extraction_method': 'gpt-3.5-turbo-0613'}\n",
      "{'fact': 'area of atelectasis', 'metadata': {'anatomical location': 'atelectasis', 'detailed observation': 'atelectasis', 'short observation': 'atelectasis', 'category': 'anatomical finding', 'health status': 'abnormal', 'prev_study_comparison?': 'no', 'comparison status': ''}, 'extraction_method': 't5-small-finetuned'}\n",
      "{'fact': 'new consolidation in the atelectasis', 'metadata': {'anatomical location': 'atelectasis', 'detailed observation': 'new consolidation', 'short observation': 'consolidation', 'category': 'anatomical finding', 'health status': 'abnormal', 'prev_study_comparison?': 'yes', 'comparison status': 'new'}, 'extraction_method': 't5-small-finetuned'}\n",
      "{'fact': 'small air bronchograms in the atelectasis', 'metadata': {'anatomical location': 'atelectasis', 'detailed observation': 'small air bronchograms', 'short observation': 'small air bronchograms', 'category': 'anatomical finding', 'health status': 'abnormal', 'prev_study_comparison?': 'no', 'comparison status': ''}, 'extraction_method': 't5-small-finetuned'}\n",
      "{'fact': 'deposition of edema in a region of atelectasis', 'metadata': {'anatomical location': 'atelectasis', 'detailed observation': 'deposition of edema in a region of atelectasis', 'short observation': 'deposition of edema', 'category': 'anatomical finding', 'health status': 'abnormal', 'prev_study_comparison?': 'no', 'comparison status': ''}, 'extraction_method': 't5-small-finetuned'}\n",
      "{'fact': 'improving aeration in an area of atelectasis', 'metadata': {'anatomical location': 'atelectasis', 'detailed observation': 'improving aeration in an area of atelectasis', 'short observation': 'improving aeration', 'category': 'anatomical finding', 'health status': 'abnormal', 'prev_study_comparison?': 'yes', 'comparison status': 'improved'}, 'extraction_method': 't5-small-finetuned'}\n",
      "{'fact': 'opacity in the area of atelectasis', 'metadata': {'anatomical location': 'atelectasis', 'detailed observation': 'opacity in the area of atelectasis', 'short observation': 'opacity in atelectasis', 'category': 'anatomical finding', 'health status': 'abnormal', 'prev_study_comparison?': 'no', 'comparison status': ''}, 'extraction_method': 't5-small-finetuned'}\n",
      "{'fact': 'area of atelectasis due to low lung volumes', 'metadata': {'anatomical location': 'atelectasis', 'detailed observation': 'atelectasis due to low lung volumes', 'short observation': 'atelectasis', 'category': 'anatomical finding', 'health status': 'abnormal', 'prev_study_comparison?': 'no', 'comparison status': ''}, 'extraction_method': 't5-small-finetuned'}\n",
      "{'fact': 'area of atelectasis with small pleural effusion', 'metadata': {'anatomical location': 'atelectasis', 'detailed observation': 'atelectasis with small pleural effusion', 'short observation': 'atelectasis with small pleural effusion', 'category': 'anatomical finding', 'health status': 'abnormal', 'prev_study_comparison?': 'no', 'comparison status': ''}, 'extraction_method': 't5-small-finetuned'}\n",
      "{'fact': 'atelectatic changes at the atelectasis', 'metadata': {'anatomical location': 'atelectasis', 'detailed observation': 'atelectatic changes at the atelectasis', 'short observation': 'atelectatic changes', 'category': 'anatomical finding', 'health status': 'abnormal', 'prev_study_comparison?': 'no', 'comparison status': ''}, 'extraction_method': 't5-small-finetuned'}\n",
      "{'fact': 'opacities in the atelectasis', 'metadata': {'anatomical location': 'atelectasis', 'detailed observation': 'opacities in the atelectasis', 'short observation': 'opacities', 'category': 'anatomical finding', 'health status': 'abnormal', 'prev_study_comparison?': 'no', 'comparison status': ''}, 'extraction_method': 't5-small-finetuned'}\n"
     ]
    }
   ],
   "source": [
    "for x in integrated_fact_metadata:\n",
    "    if x['metadata']['anatomical location'] == 'atelectasis':\n",
    "        print(x)"
   ]
  }
 ],
 "metadata": {
  "kernelspec": {
   "display_name": "venv2",
   "language": "python",
   "name": "venv2"
  },
  "language_info": {
   "codemirror_mode": {
    "name": "ipython",
    "version": 3
   },
   "file_extension": ".py",
   "mimetype": "text/x-python",
   "name": "python",
   "nbconvert_exporter": "python",
   "pygments_lexer": "ipython3",
   "version": "3.10.10"
  }
 },
 "nbformat": 4,
 "nbformat_minor": 5
}
