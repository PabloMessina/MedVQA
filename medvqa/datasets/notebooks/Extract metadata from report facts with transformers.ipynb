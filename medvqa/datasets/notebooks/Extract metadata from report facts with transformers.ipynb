{
 "cells": [
  {
   "cell_type": "code",
   "execution_count": null,
   "id": "2ffa899a",
   "metadata": {},
   "outputs": [],
   "source": [
    "%env CUDA_VISIBLE_DEVICES=0"
   ]
  },
  {
   "cell_type": "code",
   "execution_count": 77,
   "id": "70c03fc1",
   "metadata": {},
   "outputs": [
    {
     "name": "stdout",
     "output_type": "stream",
     "text": [
      " gpt-3.5-turbo-0301_parsed_sentences.jsonl\r\n",
      " gpt-3.5-turbo-0613_parsed_facts__hard.jsonl\r\n",
      " gpt-3.5-turbo-0613_parsed_facts__uniform.jsonl\r\n",
      " gpt-3.5-turbo-0613_parsed_facts__v2.jsonl\r\n",
      "'gpt-3.5-turbo-0613_parsed_facts__v2_offset=20000.jsonl'\r\n",
      "'gpt-3.5-turbo-0613_parsed_facts__v2_offset=40000_uniform.jsonl'\r\n",
      " gpt-3.5-turbo-0613_parsed_sentences__v2.jsonl\r\n",
      "'gpt-3.5-turbo-0613_parsed_sentences__v2(uniform).jsonl'\r\n",
      " gpt-3.5-turbo_parsed_backgrounds.jsonl\r\n",
      " gpt-3.5-turbo_parsed_reports__backup.jsonl\r\n",
      " gpt-3.5-turbo_parsed_reports.jsonl\r\n",
      "'gpt-3.5-turbo_parsed_reports(old).jsonl'\r\n",
      " gpt-3.5-turbo_parsed_sentences.jsonl\r\n",
      " gpt-4-0613_parsed_reports.jsonl\r\n",
      " gpt-4-0613_parsed_sentences.jsonl\r\n",
      " gpt-4-0613_parsed_sentences__v2.jsonl\r\n"
     ]
    }
   ],
   "source": [
    "!ls /home/pamessina/medvqa-workspace/cache/mimiccxr/openai/"
   ]
  },
  {
   "cell_type": "code",
   "execution_count": 78,
   "id": "525b6006",
   "metadata": {
    "scrolled": true
   },
   "outputs": [
    {
     "name": "stdout",
     "output_type": "stream",
     "text": [
      "2023-07-08 11:40:48,209 - \u001b[1;32mINFO\u001b[1;0m - Loading preprocessed facts to skip from /home/pamessina/medvqa-workspace/cache/mimiccxr/openai/gpt-3.5-turbo-0613_parsed_facts__v2.jsonl\n",
      "2023-07-08 11:40:48,398 - \u001b[1;32mINFO\u001b[1;0m - Loaded 19936 facts to skip\n",
      "2023-07-08 11:40:48,408 - \u001b[1;32mINFO\u001b[1;0m - Total number of facts to skip: 19936\n",
      "2023-07-08 11:40:48,408 - \u001b[1;32mINFO\u001b[1;0m - Loading preprocessed facts to skip from /home/pamessina/medvqa-workspace/cache/mimiccxr/openai/gpt-3.5-turbo-0613_parsed_facts__v2_offset=20000.jsonl\n",
      "2023-07-08 11:40:48,560 - \u001b[1;32mINFO\u001b[1;0m - Loaded 19948 facts to skip\n",
      "2023-07-08 11:40:48,570 - \u001b[1;32mINFO\u001b[1;0m - Total number of facts to skip: 39884\n",
      "2023-07-08 11:40:48,570 - \u001b[1;32mINFO\u001b[1;0m - Loading preprocessed facts to skip from /home/pamessina/medvqa-workspace/cache/mimiccxr/openai/gpt-3.5-turbo-0613_parsed_facts__v2_offset=40000_uniform.jsonl\n",
      "2023-07-08 11:40:48,776 - \u001b[1;32mINFO\u001b[1;0m - Loaded 19984 facts to skip\n",
      "2023-07-08 11:40:48,787 - \u001b[1;32mINFO\u001b[1;0m - Total number of facts to skip: 59868\n",
      "2023-07-08 11:40:48,787 - \u001b[1;32mINFO\u001b[1;0m - Loading facts from /home/pamessina/medvqa-workspace/cache/mimiccxr/integrated_sentence_facts(58655550,49843061).jsonl\n",
      "2023-07-08 11:40:53,632 - \u001b[1;32mINFO\u001b[1;0m - Loaded 677694 sentences with extracted facts from /home/pamessina/medvqa-workspace/cache/mimiccxr/openai/gpt-3.5-turbo-0613_parsed_facts__v2_offset=40000_uniform.jsonl\n",
      "2023-07-08 11:40:54,513 - \u001b[1;32mINFO\u001b[1;0m - Found 518850 facts to parse\n",
      "2023-07-08 11:40:54,552 - \u001b[1;32mINFO\u001b[1;0m - Example facts to parse:\n",
      "2023-07-08 11:40:54,569 - \u001b[1;32mINFO\u001b[1;0m - 50427: multiple thoracic wedge compression fractures\n",
      "2023-07-08 11:40:54,569 - \u001b[1;32mINFO\u001b[1;0m - 121637: surgical clips projecting over the left chest laterally\n",
      "2023-07-08 11:40:54,569 - \u001b[1;32mINFO\u001b[1;0m - 187242: hardware in the cervical spine is unchanged\n",
      "2023-07-08 11:40:54,569 - \u001b[1;32mINFO\u001b[1;0m - 342147: nonspecific asymmetrically distributed heterogeneous lung opacities\n",
      "2023-07-08 11:40:54,569 - \u001b[1;32mINFO\u001b[1;0m - 143716: findings are grossly identical\n",
      "2023-07-08 11:40:54,569 - \u001b[1;32mINFO\u001b[1;0m - 119266: endotracheal tube 3.9 cm above the carina\n",
      "2023-07-08 11:40:54,569 - \u001b[1;32mINFO\u001b[1;0m - 510329: right pleural tube traverses the skin\n",
      "2023-07-08 11:40:54,569 - \u001b[1;32mINFO\u001b[1;0m - 429942: stable post-traumatic changes at the right shoulder\n",
      "2023-07-08 11:40:54,569 - \u001b[1;32mINFO\u001b[1;0m - 458618: NG tube tip out of view below the diaphragm in the stomach\n",
      "2023-07-08 11:40:54,569 - \u001b[1;32mINFO\u001b[1;0m - 67158: pacemaker lead position unchanged\n",
      "metadata loaded from /mnt/data/pamessina/workspaces/medvqa-workspace/models/seq2seq/20230707_215744_fact2metadata(gpt-3.5-..ts__v2;gpt-3.5-..=20000;gpt-3.5-..niform)_Seq2Seq(t5-small)/metadata.json\n",
      "2023-07-08 11:40:54,627 - \u001b[1;32mINFO\u001b[1;0m - Creating Seq2SeqModel\n",
      "Seq2Seq model:\n",
      "  model_name: t5-small\n",
      "2023-07-08 11:40:58,506 - \u001b[1;32mINFO\u001b[1;0m - Loading model weights from /mnt/data/pamessina/workspaces/medvqa-workspace/models/seq2seq/20230707_215744_fact2metadata(gpt-3.5-..ts__v2;gpt-3.5-..=20000;gpt-3.5-..niform)_Seq2Seq(t5-small)\n",
      "checkpoint_names = ['checkpoint_51_s2s_loss=0.9648.pt']\n",
      "2023-07-08 11:40:58,506 - \u001b[1;32mINFO\u001b[1;0m - Loading model weights from /mnt/data/pamessina/workspaces/medvqa-workspace/models/seq2seq/20230707_215744_fact2metadata(gpt-3.5-..ts__v2;gpt-3.5-..=20000;gpt-3.5-..niform)_Seq2Seq(t5-small)/checkpoint_51_s2s_loss=0.9648.pt\n",
      "2023-07-08 11:40:58,899 - \u001b[1;32mINFO\u001b[1;0m - Creating tokenizer\n",
      "2023-07-08 11:40:59,163 - \u001b[1;32mINFO\u001b[1;0m - Creating dataset and dataloader\n",
      "2023-07-08 11:40:59,164 - \u001b[1;32mINFO\u001b[1;0m - Running inference\n",
      "  0%|                                                  | 0/1038 [00:00<?, ?it/s]2023-07-08 11:41:03,442 - \u001b[1;32mINFO\u001b[1;0m - Processed 1 facts\n",
      "2023-07-08 11:41:03,442 - \u001b[1;32mINFO\u001b[1;0m - Example extracted metadata:\n",
      "2023-07-08 11:41:03,442 - \u001b[1;32mINFO\u001b[1;0m - {'fact': 'minimal widening of the superior mediastinum', 'metadata': {'anatomical location': 'superior mediastinum', 'detailed observation': 'minimal widening of the superior mediastinum', 'short observation': 'minimal widening', 'category': 'anatomical finding', 'health status': 'ambiguous', 'prev_study_comparison?': 'no', 'comparison status': ''}}\n",
      "  0%|                                        | 1/1038 [00:04<1:14:00,  4.28s/it]2023-07-08 11:41:04,800 - \u001b[1;33mWARNING\u001b[1;0m - Failed to parse output text: \"anatomical location\": \"\", \"detailed observation\": \"comparison with chest radiographs at : \"\", \"short observation\": \"comparison with previous chest radiographs\", \"category\": \"technical assessment\", \"health status\": \"unknown\", \"prev_study_comparison?\": \"yes\", \"comparison status\": \"resolved\", for fact: comparison with chest radiographs at :, i: 738, idx: 738\n",
      "2023-07-08 11:41:04,800 - \u001b[1;33mWARNING\u001b[1;0m - Exception: 'NoneType' object has no attribute 'group'\n",
      "  0%|                                          | 3/1038 [00:07<36:32,  2.12s/it]2023-07-08 11:41:07,891 - \u001b[1;33mWARNING\u001b[1;0m - Failed to parse output text: \"anatomical location\": \"bibasal\", \"detailed observation\": \"consolidations at a similar if not more pronounced if not more pronounced if not more pronounced if not more pronounced if not more pronounced if not more pronounced if not more pronounced if not more pronounced if not more pronounced if not more pronounced if not more pronounced if not more pronounced if not more pronounced if not more , for fact: bibasal consolidations at a similar if not more pronounced if not more pronounced if not more pronounced if not more pronounced if not more pronounced if not more pronounced if not more pronounced if not more pronounced if not more pronounced if not more pronounced if not more pronounced if not more pronounced if not more pronounced if not more pronounced if not for infectious process superimposed on traumatic injury, i: 1702, idx: 1701\n",
      "2023-07-08 11:41:07,891 - \u001b[1;33mWARNING\u001b[1;0m - Exception: 'NoneType' object has no attribute 'group'\n",
      "  1%|▎                                         | 9/1038 [00:15<26:32,  1.55s/it]2023-07-08 11:41:17,607 - \u001b[1;32mINFO\u001b[1;0m - Processed 5001 facts\n",
      "2023-07-08 11:41:17,607 - \u001b[1;32mINFO\u001b[1;0m - Example extracted metadata:\n",
      "2023-07-08 11:41:17,607 - \u001b[1;32mINFO\u001b[1;0m - {'fact': 'improved degree of inspiration', 'metadata': {'anatomical location': '', 'detailed observation': 'improved degree of inspiration', 'short observation': 'improved inspiration', 'category': 'technical assessment', 'health status': 'normal', 'prev_study_comparison?': 'yes', 'comparison status': 'improved'}}\n",
      "  2%|▊                                        | 19/1038 [00:30<25:26,  1.50s/it]2023-07-08 11:41:32,411 - \u001b[1;32mINFO\u001b[1;0m - Processed 10001 facts\n",
      "2023-07-08 11:41:32,411 - \u001b[1;32mINFO\u001b[1;0m - Example extracted metadata:\n",
      "2023-07-08 11:41:32,411 - \u001b[1;32mINFO\u001b[1;0m - {'fact': 'fluid collection in the left upper hemithorax', 'metadata': {'anatomical location': 'left upper hemithorax', 'detailed observation': 'fluid collection', 'short observation': 'fluid collection', 'category': 'anatomical finding', 'health status': 'abnormal', 'prev_study_comparison?': 'no', 'comparison status': ''}}\n",
      "  3%|█▏                                       | 29/1038 [00:44<24:08,  1.44s/it]2023-07-08 11:41:46,665 - \u001b[1;32mINFO\u001b[1;0m - Processed 15001 facts\n",
      "2023-07-08 11:41:46,665 - \u001b[1;32mINFO\u001b[1;0m - Example extracted metadata:\n",
      "2023-07-08 11:41:46,665 - \u001b[1;32mINFO\u001b[1;0m - {'fact': 'surgical clips in the upper right back', 'metadata': {'anatomical location': 'upper right back', 'detailed observation': 'surgical clips', 'short observation': 'surgical clips', 'category': 'device', 'health status': 'unknown', 'prev_study_comparison?': 'no', 'comparison status': ''}}\n",
      "2023-07-08 11:41:46,671 - \u001b[1;33mWARNING\u001b[1;0m - Failed to parse output text: \"anatomical location\": \"right breast\", \"detailed observation\": \"short observation\": \"short observation\": \"short observation\": \"short observation\": \"short observation\", \"category\": \"anatomical finding\", \"health status\": \"unknown\", \"prev_study_comparison?\": \"yes\", \"comparison status\": \"compatible\", for fact: right breast shadow compatible with prior mastectomy, i: 15439, idx: 15437\n",
      "2023-07-08 11:41:46,671 - \u001b[1;33mWARNING\u001b[1;0m - Exception: 'NoneType' object has no attribute 'group'\n"
     ]
    },
    {
     "name": "stdout",
     "output_type": "stream",
     "text": [
      "  3%|█▏                                       | 31/1038 [00:47<24:07,  1.44s/it]2023-07-08 11:41:50,358 - \u001b[1;33mWARNING\u001b[1;0m - Failed to parse output text: \"anatomical location\": \"\", \"detailed observation\": \"repeat chest radiographs (PA and lateral), \"short observation\": \"repeat chest radiographs\", \"category\": \"technical assessment\", \"health status\": \"unknown\", \"prev_study_comparison?\": \"no\", \"comparison status\": \"\", for fact: repeat chest radiographs (PA and lateral),, i: 16140, idx: 16137\n",
      "2023-07-08 11:41:50,358 - \u001b[1;33mWARNING\u001b[1;0m - Exception: 'NoneType' object has no attribute 'group'\n",
      "  3%|█▍                                       | 35/1038 [00:54<25:49,  1.54s/it]2023-07-08 11:41:54,948 - \u001b[1;33mWARNING\u001b[1;0m - Failed to parse output text: \"anatomical location\": \"\", \"detailed observation\": \"infection suggestive of infection suggestive of infection suggestive of infection suggestive of infection suggestive of infection suggestive of infection suggestive of infection suggestive of infection suggestive of infection suggestive of infection suggestive of infection suggestive of infection suggestive of infection suggestive of infection suggestive of infection suggestive of infection suggestive of infection suggestive of infection suggestive of infection suggestive of infection suggestive of infection suggestive of infection suggestive of infection, for fact: infection suggestive of infection suggestive of infection suggestive of infection suggestive of infection suggestive of infection suggestive of infection suggestive of infection suggestive of infection suggestive of infection suggestive of infection suggestive of infection suggestive of infection suggestive of infection suggestive of infection suggestive of infection, i: 17878, idx: 17874\n",
      "2023-07-08 11:41:54,948 - \u001b[1;33mWARNING\u001b[1;0m - Exception: 'NoneType' object has no attribute 'group'\n",
      "  4%|█▌                                       | 39/1038 [01:00<25:32,  1.53s/it]2023-07-08 11:42:02,218 - \u001b[1;32mINFO\u001b[1;0m - Processed 20001 facts\n",
      "2023-07-08 11:42:02,218 - \u001b[1;32mINFO\u001b[1;0m - Example extracted metadata:\n",
      "2023-07-08 11:42:02,218 - \u001b[1;32mINFO\u001b[1;0m - {'fact': 'worsened appearance to the right lower lobe', 'metadata': {'anatomical location': 'right lower lobe', 'detailed observation': 'worsened appearance to the right lower lobe', 'short observation': 'worsened appearance', 'category': 'anatomical finding', 'health status': 'abnormal', 'prev_study_comparison?': 'yes', 'comparison status': 'worsened'}}\n",
      "  5%|█▉                                       | 49/1038 [01:13<22:54,  1.39s/it]2023-07-08 11:42:15,881 - \u001b[1;32mINFO\u001b[1;0m - Processed 25001 facts\n",
      "2023-07-08 11:42:15,881 - \u001b[1;32mINFO\u001b[1;0m - Example extracted metadata:\n",
      "2023-07-08 11:42:15,882 - \u001b[1;32mINFO\u001b[1;0m - {'fact': 'nasogastric tube shows an unchanged normal course', 'metadata': {'anatomical location': '', 'detailed observation': 'nasogastric tube shows an unchanged normal course', 'short observation': 'nasogastric tube unchanged normal course', 'category': 'tubes and lines', 'health status': 'normal', 'prev_study_comparison?': 'yes', 'comparison status': 'unchanged'}}\n",
      "  6%|██▎                                      | 59/1038 [01:28<24:07,  1.48s/it]2023-07-08 11:42:30,472 - \u001b[1;32mINFO\u001b[1;0m - Processed 30001 facts\n",
      "2023-07-08 11:42:30,472 - \u001b[1;32mINFO\u001b[1;0m - Example extracted metadata:\n",
      "2023-07-08 11:42:30,472 - \u001b[1;32mINFO\u001b[1;0m - {'fact': 'opacification in the right mid lung zone has worsened', 'metadata': {'anatomical location': 'right mid lung zone', 'detailed observation': 'opacification', 'short observation': 'opacification', 'category': 'anatomical finding', 'health status': 'abnormal', 'prev_study_comparison?': 'yes', 'comparison status': 'worsened'}}\n",
      "  6%|██▍                                      | 63/1038 [01:34<24:28,  1.51s/it]2023-07-08 11:42:35,064 - \u001b[1;33mWARNING\u001b[1;0m - Failed to parse output text: \"anatomical location\": \"right upper lobe area\", \"detailed observation\": \"new pulmonary parenchymal infiltrate has increased in size\", \"short observation\": \"infiltrate in size\": \"increased in size\", \"category\": \"anatomical finding\", \"health status\": \"abnormal\", \"prev_study_comparison?\": \"yes\", \"comparison status\": \"larger\", for fact: new pulmonary parenchymal infiltrate in the right upper lobe area has increased in size, i: 31752, idx: 31747\n",
      "2023-07-08 11:42:35,064 - \u001b[1;33mWARNING\u001b[1;0m - Exception: 'NoneType' object has no attribute 'group'\n",
      "  7%|██▋                                      | 69/1038 [01:42<23:03,  1.43s/it]2023-07-08 11:42:44,810 - \u001b[1;32mINFO\u001b[1;0m - Processed 35001 facts\n",
      "2023-07-08 11:42:44,810 - \u001b[1;32mINFO\u001b[1;0m - Example extracted metadata:\n",
      "2023-07-08 11:42:44,810 - \u001b[1;32mINFO\u001b[1;0m - {'fact': 'extensive airspace opacities in the right lung', 'metadata': {'anatomical location': 'right lung', 'detailed observation': 'extensive airspace opacities', 'short observation': 'airspace opacities', 'category': 'anatomical finding', 'health status': 'abnormal', 'prev_study_comparison?': 'no', 'comparison status': ''}}\n",
      "  8%|███                                      | 79/1038 [01:57<23:01,  1.44s/it]2023-07-08 11:42:59,349 - \u001b[1;32mINFO\u001b[1;0m - Processed 40001 facts\n",
      "2023-07-08 11:42:59,350 - \u001b[1;32mINFO\u001b[1;0m - Example extracted metadata:\n",
      "2023-07-08 11:42:59,350 - \u001b[1;32mINFO\u001b[1;0m - {'fact': 'left costophrenic angle excluded from the film', 'metadata': {'anatomical location': 'left costophrenic angle', 'detailed observation': 'excluded from the film', 'short observation': 'excluded from the film', 'category': 'anatomical finding', 'health status': 'unknown', 'prev_study_comparison?': 'no', 'comparison status': ''}}\n",
      "  9%|███▌                                     | 89/1038 [02:11<22:39,  1.43s/it]2023-07-08 11:43:13,587 - \u001b[1;32mINFO\u001b[1;0m - Processed 45001 facts\n",
      "2023-07-08 11:43:13,587 - \u001b[1;32mINFO\u001b[1;0m - Example extracted metadata:\n",
      "2023-07-08 11:43:13,587 - \u001b[1;32mINFO\u001b[1;0m - {'fact': 'clips overlying the right upper scapula', 'metadata': {'anatomical location': 'right upper scapula', 'detailed observation': 'clips overlying the right upper scapula', 'short observation': 'clips overlying the right upper scapula', 'category': 'anatomical finding', 'health status': 'unknown', 'prev_study_comparison?': 'no', 'comparison status': ''}}\n",
      " 10%|███▉                                     | 99/1038 [02:25<22:10,  1.42s/it]2023-07-08 11:43:27,697 - \u001b[1;32mINFO\u001b[1;0m - Processed 50001 facts\n",
      "2023-07-08 11:43:27,697 - \u001b[1;32mINFO\u001b[1;0m - Example extracted metadata:\n",
      "2023-07-08 11:43:27,697 - \u001b[1;32mINFO\u001b[1;0m - {'fact': 'right PICC line extends to the upper portion of the right atrium', 'metadata': {'anatomical location': 'upper portion of the right atrium', 'detailed observation': 'right PICC line extends to the upper portion of the right atrium', 'short observation': 'right PICC line extends to right atrium', 'category': 'tubes and lines', 'health status': 'unknown', 'prev_study_comparison?': 'no', 'comparison status': ''}}\n",
      " 11%|████▏                                   | 109/1038 [02:39<21:49,  1.41s/it]2023-07-08 11:43:41,769 - \u001b[1;32mINFO\u001b[1;0m - Processed 55001 facts\n",
      "2023-07-08 11:43:41,770 - \u001b[1;32mINFO\u001b[1;0m - Example extracted metadata:\n",
      "2023-07-08 11:43:41,770 - \u001b[1;32mINFO\u001b[1;0m - {'fact': 'inferior edge of this film lies in the region of the GE junction', 'metadata': {'anatomical location': 'region of the GE junction', 'detailed observation': 'inferior edge of this film lies in the region of the GE junction', 'short observation': 'inferior edge of film in GE junction', 'category': 'technical assessment', 'health status': 'unknown', 'prev_study_comparison?': 'no', 'comparison status': ''}}\n",
      " 11%|████▌                                   | 119/1038 [02:54<22:40,  1.48s/it]2023-07-08 11:43:56,399 - \u001b[1;32mINFO\u001b[1;0m - Processed 60001 facts\n",
      "2023-07-08 11:43:56,399 - \u001b[1;32mINFO\u001b[1;0m - Example extracted metadata:\n",
      "2023-07-08 11:43:56,399 - \u001b[1;32mINFO\u001b[1;0m - {'fact': 'new since the earlier study today', 'metadata': {'anatomical location': '', 'detailed observation': 'new since the earlier study today', 'short observation': 'new', 'category': 'technical assessment', 'health status': 'unknown', 'prev_study_comparison?': 'yes', 'comparison status': 'new'}}\n"
     ]
    },
    {
     "name": "stdout",
     "output_type": "stream",
     "text": [
      " 12%|████▋                                   | 121/1038 [02:57<22:13,  1.45s/it]2023-07-08 11:43:57,786 - \u001b[1;33mWARNING\u001b[1;0m - Failed to parse output text: \"anatomical location\": \"right hilus surrounding the right hilus surrounding the right hilus surrounding the right hilus surrounding the right hilus\", \"detailed observation\": \"ill-defined parenchymal opacity surrounding the right hilus surrounding the right hilus surrounding the right hilus surrounding the right hilus surrounding the right hilus surrounding the right hilus surrounding the right hilus surrounding the right hilus surrounding the right hilus\", \"short observation\": \"ill-defined parenchymal, for fact: ill-defined parenchymal opacity surrounding the right hilus surrounding the right hilus surrounding the right hilus surrounding the right hilus surrounding the right hilus, i: 60815, idx: 60809\n",
      "2023-07-08 11:43:57,786 - \u001b[1;33mWARNING\u001b[1;0m - Exception: 'NoneType' object has no attribute 'group'\n",
      " 12%|████▉                                   | 129/1038 [03:08<21:06,  1.39s/it]2023-07-08 11:44:10,344 - \u001b[1;32mINFO\u001b[1;0m - Processed 65001 facts\n",
      "2023-07-08 11:44:10,344 - \u001b[1;32mINFO\u001b[1;0m - Example extracted metadata:\n",
      "2023-07-08 11:44:10,344 - \u001b[1;32mINFO\u001b[1;0m - {'fact': 'suggesting trace pleural effusion', 'metadata': {'anatomical location': '', 'detailed observation': 'trace pleural effusion', 'short observation': 'trace pleural effusion', 'category': 'anatomical finding', 'health status': 'abnormal', 'prev_study_comparison?': 'no', 'comparison status': ''}}\n",
      " 13%|█████▎                                  | 139/1038 [03:23<21:55,  1.46s/it]2023-07-08 11:44:25,125 - \u001b[1;32mINFO\u001b[1;0m - Processed 70001 facts\n",
      "2023-07-08 11:44:25,125 - \u001b[1;32mINFO\u001b[1;0m - Example extracted metadata:\n",
      "2023-07-08 11:44:25,125 - \u001b[1;32mINFO\u001b[1;0m - {'fact': 'right PICC tip terminates in the upper SVC', 'metadata': {'anatomical location': 'upper SVC', 'detailed observation': 'right PICC tip terminates in the upper SVC', 'short observation': 'right PICC tip terminates in the upper SVC', 'category': 'tubes and lines', 'health status': 'normal', 'prev_study_comparison?': 'no', 'comparison status': ''}}\n",
      " 14%|█████▋                                  | 149/1038 [03:36<20:49,  1.41s/it]2023-07-08 11:44:38,798 - \u001b[1;32mINFO\u001b[1;0m - Processed 75001 facts\n",
      "2023-07-08 11:44:38,798 - \u001b[1;32mINFO\u001b[1;0m - Example extracted metadata:\n",
      "2023-07-08 11:44:38,798 - \u001b[1;32mINFO\u001b[1;0m - {'fact': 'patchy opacity at the right apex', 'metadata': {'anatomical location': 'right apex', 'detailed observation': 'patchy opacity', 'short observation': 'patchy opacity', 'category': 'anatomical finding', 'health status': 'abnormal', 'prev_study_comparison?': 'no', 'comparison status': ''}}\n",
      " 15%|██████▏                                 | 159/1038 [03:51<20:57,  1.43s/it]2023-07-08 11:44:53,237 - \u001b[1;32mINFO\u001b[1;0m - Processed 80001 facts\n",
      "2023-07-08 11:44:53,237 - \u001b[1;32mINFO\u001b[1;0m - Example extracted metadata:\n",
      "2023-07-08 11:44:53,237 - \u001b[1;32mINFO\u001b[1;0m - {'fact': 'ill definition of the left base', 'metadata': {'anatomical location': 'left base', 'detailed observation': 'ill definition of the left base', 'short observation': 'ill definition', 'category': 'anatomical finding', 'health status': 'abnormal', 'prev_study_comparison?': 'no', 'comparison status': ''}}\n",
      " 16%|██████▌                                 | 169/1038 [04:05<20:05,  1.39s/it]2023-07-08 11:45:07,361 - \u001b[1;32mINFO\u001b[1;0m - Processed 85001 facts\n",
      "2023-07-08 11:45:07,361 - \u001b[1;32mINFO\u001b[1;0m - Example extracted metadata:\n",
      "2023-07-08 11:45:07,361 - \u001b[1;32mINFO\u001b[1;0m - {'fact': 'no pleural effusions documented on the lateral radiograph', 'metadata': {'anatomical location': '', 'detailed observation': 'no pleural effusions documented on the lateral radiograph', 'short observation': 'no pleural effusions', 'category': 'anatomical finding', 'health status': 'normal', 'prev_study_comparison?': 'no', 'comparison status': ''}}\n",
      " 17%|██████▉                                 | 179/1038 [04:19<20:48,  1.45s/it]2023-07-08 11:45:21,509 - \u001b[1;32mINFO\u001b[1;0m - Processed 90001 facts\n",
      "2023-07-08 11:45:21,509 - \u001b[1;32mINFO\u001b[1;0m - Example extracted metadata:\n",
      "2023-07-08 11:45:21,509 - \u001b[1;32mINFO\u001b[1;0m - {'fact': 'obliteration of the entire posterior pleural sinus up to the level of the hila', 'metadata': {'anatomical location': 'posterior pleural sinus', 'detailed observation': 'obliteration of the entire posterior pleural sinus up to the level of the hila', 'short observation': 'obliteration of posterior pleural sinus', 'category': 'anatomical finding', 'health status': 'abnormal', 'prev_study_comparison?': 'no', 'comparison status': ''}}\n",
      " 18%|███████▏                                | 187/1038 [04:30<19:27,  1.37s/it]2023-07-08 11:45:32,340 - \u001b[1;33mWARNING\u001b[1;0m - Failed to parse output text: \"anatomical location\": \"paraspinal\", \"detailed observation\": \"health status\": \"normal\", \"prev_study_comparison?\": \"no\", \"comparison status\": \"\", for fact: paraspinal tissues, i: 94133, idx: 94126\n",
      "2023-07-08 11:45:32,340 - \u001b[1;33mWARNING\u001b[1;0m - Exception: 'NoneType' object has no attribute 'group'\n",
      " 18%|███████▎                                | 189/1038 [04:33<19:16,  1.36s/it]2023-07-08 11:45:35,021 - \u001b[1;32mINFO\u001b[1;0m - Processed 95001 facts\n",
      "2023-07-08 11:45:35,022 - \u001b[1;32mINFO\u001b[1;0m - Example extracted metadata:\n",
      "2023-07-08 11:45:35,022 - \u001b[1;32mINFO\u001b[1;0m - {'fact': 'no definitive sign of loculated effusion', 'metadata': {'anatomical location': '', 'detailed observation': 'no definitive sign of loculated effusion', 'short observation': 'no loculated effusion', 'category': 'anatomical finding', 'health status': 'normal', 'prev_study_comparison?': 'no', 'comparison status': ''}}\n",
      " 19%|███████▋                                | 199/1038 [04:46<18:56,  1.35s/it]2023-07-08 11:45:48,551 - \u001b[1;32mINFO\u001b[1;0m - Processed 100001 facts\n",
      "2023-07-08 11:45:48,551 - \u001b[1;32mINFO\u001b[1;0m - Example extracted metadata:\n",
      "2023-07-08 11:45:48,551 - \u001b[1;32mINFO\u001b[1;0m - {'fact': 'old right rib fracture', 'metadata': {'anatomical location': 'right rib', 'detailed observation': 'old rib fracture', 'short observation': 'rib fracture', 'category': 'anatomical finding', 'health status': 'abnormal', 'prev_study_comparison?': 'no', 'comparison status': ''}}\n",
      " 20%|████████                                | 209/1038 [05:00<19:01,  1.38s/it]2023-07-08 11:46:02,445 - \u001b[1;32mINFO\u001b[1;0m - Processed 105001 facts\n",
      "2023-07-08 11:46:02,445 - \u001b[1;32mINFO\u001b[1;0m - Example extracted metadata:\n",
      "2023-07-08 11:46:02,445 - \u001b[1;32mINFO\u001b[1;0m - {'fact': 'unchanged severity of left lower lobe parenchymal opacity with air bronchograms', 'metadata': {'anatomical location': 'left lower lobe', 'detailed observation': 'unchanged severity of parenchymal opacity with air bronchograms', 'short observation': 'parenchymal opacity with air bronchograms', 'category': 'anatomical finding', 'health status': 'abnormal', 'prev_study_comparison?': 'yes', 'comparison status': 'unchanged'}}\n",
      " 21%|████████▍                               | 219/1038 [05:14<18:59,  1.39s/it]2023-07-08 11:46:16,151 - \u001b[1;32mINFO\u001b[1;0m - Processed 110001 facts\n",
      "2023-07-08 11:46:16,151 - \u001b[1;32mINFO\u001b[1;0m - Example extracted metadata:\n",
      "2023-07-08 11:46:16,151 - \u001b[1;32mINFO\u001b[1;0m - {'fact': 'smaller pleural effusion at the right base', 'metadata': {'anatomical location': 'right base', 'detailed observation': 'smaller pleural effusion', 'short observation': 'pleural effusion', 'category': 'anatomical finding', 'health status': 'abnormal', 'prev_study_comparison?': 'yes', 'comparison status': 'smaller'}}\n",
      " 22%|████████▊                               | 229/1038 [05:28<18:55,  1.40s/it]2023-07-08 11:46:29,886 - \u001b[1;32mINFO\u001b[1;0m - Processed 115001 facts\n",
      "2023-07-08 11:46:29,886 - \u001b[1;32mINFO\u001b[1;0m - Example extracted metadata:\n",
      "2023-07-08 11:46:29,886 - \u001b[1;32mINFO\u001b[1;0m - {'fact': 'left trans jugular central venous catheter ends in the upper right atrium', 'metadata': {'anatomical location': 'upper right atrium', 'detailed observation': 'left trans jugular central venous catheter ends in the upper right atrium', 'short observation': 'central venous catheter ends in upper right atrium', 'category': 'tubes and lines', 'health status': 'unknown', 'prev_study_comparison?': 'no', 'comparison status': ''}}\n"
     ]
    },
    {
     "name": "stdout",
     "output_type": "stream",
     "text": [
      " 23%|█████████▏                              | 239/1038 [05:41<18:32,  1.39s/it]2023-07-08 11:46:43,858 - \u001b[1;32mINFO\u001b[1;0m - Processed 120001 facts\n",
      "2023-07-08 11:46:43,858 - \u001b[1;32mINFO\u001b[1;0m - Example extracted metadata:\n",
      "2023-07-08 11:46:43,859 - \u001b[1;32mINFO\u001b[1;0m - {'fact': 'pleural plaques more conspicuous on the left', 'metadata': {'anatomical location': 'left', 'detailed observation': 'pleural plaques more conspicuous on the left', 'short observation': 'pleural plaques more conspicuous on the left', 'category': 'anatomical finding', 'health status': 'abnormal', 'prev_study_comparison?': 'no', 'comparison status': ''}}\n",
      "2023-07-08 11:46:43,861 - \u001b[1;33mWARNING\u001b[1;0m - Failed to parse output text: \"anatomical location\": \"right hemidiaphragm\", \"detailed observation\": \"continued opacification of the right hemidiaphragm\", \"short observation\": \"opacification of right hemidiaphragm\", \"category\": \"anatomical finding\", \"health status\": \"abnormal\", \"prev_study_comparison?\": \"yes\", \"comparison status\": \"continued , for fact: continued opacification of the right hemidiaphragm, i: 120160, idx: 120152\n",
      "2023-07-08 11:46:43,861 - \u001b[1;33mWARNING\u001b[1;0m - Exception: 'NoneType' object has no attribute 'group'\n",
      " 24%|█████████▌                              | 249/1038 [05:55<18:08,  1.38s/it]2023-07-08 11:46:58,000 - \u001b[1;32mINFO\u001b[1;0m - Processed 125001 facts\n",
      "2023-07-08 11:46:58,000 - \u001b[1;32mINFO\u001b[1;0m - Example extracted metadata:\n",
      "2023-07-08 11:46:58,000 - \u001b[1;32mINFO\u001b[1;0m - {'fact': 'crowding of bronchovascular structures in the lower lobes', 'metadata': {'anatomical location': 'lower lobes', 'detailed observation': 'crowding of bronchovascular structures', 'short observation': 'crowding of bronchovascular structures', 'category': 'anatomical finding', 'health status': 'abnormal', 'prev_study_comparison?': 'no', 'comparison status': ''}}\n",
      " 25%|█████████▉                              | 257/1038 [06:07<18:35,  1.43s/it]2023-07-08 11:47:09,497 - \u001b[1;33mWARNING\u001b[1;0m - Failed to parse output text: \"anatomical location\": \"left lung\", \"detailed observation\": \"short observation\": \"sickness\", \"category\": \"disease\", \"health status\": \"abnormal\", \"prev_study_comparison?\": \"no\", \"comparison status\": \"\", for fact: disease particularly obvious in the left lung, i: 129321, idx: 129312\n",
      "2023-07-08 11:47:09,497 - \u001b[1;33mWARNING\u001b[1;0m - Exception: 'NoneType' object has no attribute 'group'\n",
      " 25%|█████████▉                              | 259/1038 [06:10<18:57,  1.46s/it]2023-07-08 11:47:12,519 - \u001b[1;32mINFO\u001b[1;0m - Processed 130001 facts\n",
      "2023-07-08 11:47:12,519 - \u001b[1;32mINFO\u001b[1;0m - Example extracted metadata:\n",
      "2023-07-08 11:47:12,519 - \u001b[1;32mINFO\u001b[1;0m - {'fact': 'minimally improved right upper lobe expansion', 'metadata': {'anatomical location': 'right upper lobe', 'detailed observation': 'minimally improved expansion', 'short observation': 'expansion', 'category': 'anatomical finding', 'health status': 'abnormal', 'prev_study_comparison?': 'yes', 'comparison status': 'improved'}}\n",
      " 26%|██████████▎                             | 269/1038 [06:24<18:21,  1.43s/it]2023-07-08 11:47:26,598 - \u001b[1;32mINFO\u001b[1;0m - Processed 135001 facts\n",
      "2023-07-08 11:47:26,598 - \u001b[1;32mINFO\u001b[1;0m - Example extracted metadata:\n",
      "2023-07-08 11:47:26,598 - \u001b[1;32mINFO\u001b[1;0m - {'fact': 'no other causes that might explain chest pain', 'metadata': {'anatomical location': '', 'detailed observation': 'no other causes that might explain chest pain', 'short observation': 'no other causes of chest pain', 'category': 'disease', 'health status': 'normal', 'prev_study_comparison?': 'no', 'comparison status': ''}}\n",
      " 27%|██████████▋                             | 277/1038 [06:35<17:58,  1.42s/it]2023-07-08 11:47:36,546 - \u001b[1;33mWARNING\u001b[1;0m - Failed to parse output text: \"anatomical location\": \"apex of the right hemidiaphragm at the level of the sixth anterior rib\", \"detailed observation\": \"nodule projecting through the apex of the right hemidiaphragm at the level of the sixth anterior rib\", \"short observation\": \"nodule projecting through the apex of the right hemidiaphragm\", \"category\": \"anatomical, for fact: suggestion of a nodule projecting through the apex of the right hemidiaphragm at the level of the sixth anterior rib, i: 138607, idx: 138597\n",
      "2023-07-08 11:47:36,546 - \u001b[1;33mWARNING\u001b[1;0m - Exception: 'NoneType' object has no attribute 'group'\n",
      " 27%|██████████▊                             | 279/1038 [06:38<17:49,  1.41s/it]2023-07-08 11:47:40,616 - \u001b[1;32mINFO\u001b[1;0m - Processed 140001 facts\n",
      "2023-07-08 11:47:40,616 - \u001b[1;32mINFO\u001b[1;0m - Example extracted metadata:\n",
      "2023-07-08 11:47:40,616 - \u001b[1;32mINFO\u001b[1;0m - {'fact': 'opacities that might represent potentially bibasal pneumonia', 'metadata': {'anatomical location': 'bibasal', 'detailed observation': 'opacities that might represent potentially bibasal pneumonia', 'short observation': 'opacities', 'category': 'anatomical finding', 'health status': 'ambiguous', 'prev_study_comparison?': 'no', 'comparison status': ''}}\n",
      " 28%|███████████▏                            | 289/1038 [06:53<18:21,  1.47s/it]2023-07-08 11:47:55,264 - \u001b[1;32mINFO\u001b[1;0m - Processed 145001 facts\n",
      "2023-07-08 11:47:55,264 - \u001b[1;32mINFO\u001b[1;0m - Example extracted metadata:\n",
      "2023-07-08 11:47:55,264 - \u001b[1;32mINFO\u001b[1;0m - {'fact': 'compression fracture deformities of the lower thoracic vertebral bodies', 'metadata': {'anatomical location': 'lower thoracic vertebral bodies', 'detailed observation': 'compression fracture deformities of the lower thoracic vertebral bodies', 'short observation': 'compression fracture deformities', 'category': 'anatomical finding', 'health status': 'abnormal', 'prev_study_comparison?': 'no', 'comparison status': ''}}\n",
      " 28%|███████████▎                            | 293/1038 [06:58<17:42,  1.43s/it]2023-07-08 11:48:00,946 - \u001b[1;33mWARNING\u001b[1;0m - Failed to parse output text: \"anatomical location\": \"lateral wall of the proximal superior vena cava at the level of the junction of the brachiocephalic veins\", \"detailed observation\": \"tip of left PICC directed laterally towards the lateral wall of the proximal superior vena cava at the level of the junction of the brachiocephalic veins\", \"short observation\": \"tip of left PICC directed laterally towards the lateral wall of the , for fact: tip of left PICC directed laterally towards the lateral wall of the proximal superior vena cava at the level of the junction of the brachiocephalic veins, i: 147155, idx: 147144\n",
      "2023-07-08 11:48:00,946 - \u001b[1;33mWARNING\u001b[1;0m - Exception: 'NoneType' object has no attribute 'group'\n",
      " 29%|███████████▌                            | 299/1038 [07:07<17:47,  1.44s/it]2023-07-08 11:48:09,351 - \u001b[1;32mINFO\u001b[1;0m - Processed 150001 facts\n",
      "2023-07-08 11:48:09,352 - \u001b[1;32mINFO\u001b[1;0m - Example extracted metadata:\n",
      "2023-07-08 11:48:09,352 - \u001b[1;32mINFO\u001b[1;0m - {'fact': 'catheter tip in the mid-to-low SVC', 'metadata': {'anatomical location': 'mid-to-low SVC', 'detailed observation': 'catheter tip in the mid-to-low SVC', 'short observation': 'catheter tip in SVC', 'category': 'tubes and lines', 'health status': 'normal', 'prev_study_comparison?': 'no', 'comparison status': ''}}\n",
      " 30%|███████████▉                            | 309/1038 [07:21<17:23,  1.43s/it]2023-07-08 11:48:23,507 - \u001b[1;32mINFO\u001b[1;0m - Processed 155001 facts\n",
      "2023-07-08 11:48:23,507 - \u001b[1;32mINFO\u001b[1;0m - Example extracted metadata:\n",
      "2023-07-08 11:48:23,507 - \u001b[1;32mINFO\u001b[1;0m - {'fact': 'subtle increased opacities in the right upper lung', 'metadata': {'anatomical location': 'right upper lung', 'detailed observation': 'subtle increased opacities', 'short observation': 'increased opacities', 'category': 'anatomical finding', 'health status': 'abnormal', 'prev_study_comparison?': 'no', 'comparison status': ''}}\n",
      " 31%|████████████▎                           | 319/1038 [07:35<16:27,  1.37s/it]2023-07-08 11:48:37,249 - \u001b[1;32mINFO\u001b[1;0m - Processed 160001 facts\n",
      "2023-07-08 11:48:37,250 - \u001b[1;32mINFO\u001b[1;0m - Example extracted metadata:\n",
      "2023-07-08 11:48:37,250 - \u001b[1;32mINFO\u001b[1;0m - {'fact': 'unchanged scarring in the right peripheral lower lung zone', 'metadata': {'anatomical location': 'right peripheral lower lung zone', 'detailed observation': 'unchanged scarring', 'short observation': 'scarring', 'category': 'anatomical finding', 'health status': 'abnormal', 'prev_study_comparison?': 'yes', 'comparison status': 'unchanged'}}\n"
     ]
    },
    {
     "name": "stdout",
     "output_type": "stream",
     "text": [
      " 32%|████████████▋                           | 329/1038 [07:49<16:08,  1.37s/it]2023-07-08 11:48:50,896 - \u001b[1;32mINFO\u001b[1;0m - Processed 165001 facts\n",
      "2023-07-08 11:48:50,896 - \u001b[1;32mINFO\u001b[1;0m - Example extracted metadata:\n",
      "2023-07-08 11:48:50,896 - \u001b[1;32mINFO\u001b[1;0m - {'fact': 'focal opacification in the left retrocardiac region', 'metadata': {'anatomical location': 'left retrocardiac region', 'detailed observation': 'focal opacification', 'short observation': 'focal opacification', 'category': 'anatomical finding', 'health status': 'abnormal', 'prev_study_comparison?': 'no', 'comparison status': ''}}\n",
      "2023-07-08 11:48:50,900 - \u001b[1;33mWARNING\u001b[1;0m - Failed to parse output text: \"anatomical location\": \"\", \"detailed observation\": \"prev_study_comparison?\": \"no\", \"comparison status\": \"\", for fact: favoring aspiration over infectious pneumonia, i: 165347, idx: 165335\n",
      "2023-07-08 11:48:50,900 - \u001b[1;33mWARNING\u001b[1;0m - Exception: 'NoneType' object has no attribute 'group'\n",
      " 33%|█████████████                           | 339/1038 [08:02<16:05,  1.38s/it]2023-07-08 11:49:04,690 - \u001b[1;32mINFO\u001b[1;0m - Processed 170001 facts\n",
      "2023-07-08 11:49:04,690 - \u001b[1;32mINFO\u001b[1;0m - Example extracted metadata:\n",
      "2023-07-08 11:49:04,690 - \u001b[1;32mINFO\u001b[1;0m - {'fact': 'right lower lobe has re-expanded', 'metadata': {'anatomical location': 'right lower lobe', 'detailed observation': 're-expanded', 'short observation': 're-expanded', 'category': 'anatomical finding', 'health status': 'normal', 'prev_study_comparison?': 'yes', 'comparison status': 'improved'}}\n",
      " 34%|█████████████▍                          | 349/1038 [08:16<16:09,  1.41s/it]2023-07-08 11:49:19,005 - \u001b[1;32mINFO\u001b[1;0m - Processed 175001 facts\n",
      "2023-07-08 11:49:19,005 - \u001b[1;32mINFO\u001b[1;0m - Example extracted metadata:\n",
      "2023-07-08 11:49:19,005 - \u001b[1;32mINFO\u001b[1;0m - {'fact': 'chronic left lower lobe atelectasis', 'metadata': {'anatomical location': 'left lower lobe', 'detailed observation': 'chronic atelectasis', 'short observation': 'atelectasis', 'category': 'anatomical finding', 'health status': 'abnormal', 'prev_study_comparison?': 'no', 'comparison status': ''}}\n",
      " 34%|█████████████▋                          | 355/1038 [08:25<16:16,  1.43s/it]2023-07-08 11:49:26,368 - \u001b[1;33mWARNING\u001b[1;0m - Failed to parse output text: \"anatomical location\": \"pulmonary metastases\", \"detailed observation\": \"substantial increase in size of pulmonary metastases from the middle of the middle of the mid of the mid of the mid of the mid of the mid of the mid of the mid of the mid of the mid of the mid of the mid of the mid of the mid of the mid of the mid of the mid of the mid of the mid of the mid of the mid of the mid of the mid of the mid of the mid, for fact: substantial increase in size of pulmonary metastases from the middle of, i: 177768, idx: 177755\n",
      "2023-07-08 11:49:26,368 - \u001b[1;33mWARNING\u001b[1;0m - Exception: 'NoneType' object has no attribute 'group'\n",
      " 35%|█████████████▊                          | 359/1038 [08:31<16:09,  1.43s/it]2023-07-08 11:49:33,147 - \u001b[1;32mINFO\u001b[1;0m - Processed 180001 facts\n",
      "2023-07-08 11:49:33,147 - \u001b[1;32mINFO\u001b[1;0m - Example extracted metadata:\n",
      "2023-07-08 11:49:33,147 - \u001b[1;32mINFO\u001b[1;0m - {'fact': 'chronic interstitial abnormality within the periphery of the right mid lung field', 'metadata': {'anatomical location': 'periphery of the right mid lung field', 'detailed observation': 'chronic interstitial abnormality', 'short observation': 'interstitial abnormality', 'category': 'anatomical finding', 'health status': 'abnormal', 'prev_study_comparison?': 'no', 'comparison status': ''}}\n",
      " 36%|██████████████▏                         | 369/1038 [08:44<15:06,  1.36s/it]2023-07-08 11:49:46,758 - \u001b[1;32mINFO\u001b[1;0m - Processed 185001 facts\n",
      "2023-07-08 11:49:46,758 - \u001b[1;32mINFO\u001b[1;0m - Example extracted metadata:\n",
      "2023-07-08 11:49:46,758 - \u001b[1;32mINFO\u001b[1;0m - {'fact': 'mild compression fracture in the lower thoracic spine', 'metadata': {'anatomical location': 'lower thoracic spine', 'detailed observation': 'mild compression fracture', 'short observation': 'mild compression fracture', 'category': 'anatomical finding', 'health status': 'abnormal', 'prev_study_comparison?': 'no', 'comparison status': ''}}\n",
      " 37%|██████████████▌                         | 379/1038 [08:58<14:52,  1.35s/it]2023-07-08 11:50:00,630 - \u001b[1;32mINFO\u001b[1;0m - Processed 190001 facts\n",
      "2023-07-08 11:50:00,630 - \u001b[1;32mINFO\u001b[1;0m - Example extracted metadata:\n",
      "2023-07-08 11:50:00,630 - \u001b[1;32mINFO\u001b[1;0m - {'fact': 'decrease in the degree of right pleural effusion', 'metadata': {'anatomical location': 'right', 'detailed observation': 'decrease in the degree of pleural effusion', 'short observation': 'decrease in pleural effusion', 'category': 'anatomical finding', 'health status': 'abnormal', 'prev_study_comparison?': 'yes', 'comparison status': 'improved'}}\n",
      " 37%|██████████████▉                         | 389/1038 [09:12<15:23,  1.42s/it]2023-07-08 11:50:14,928 - \u001b[1;32mINFO\u001b[1;0m - Processed 195001 facts\n",
      "2023-07-08 11:50:14,928 - \u001b[1;32mINFO\u001b[1;0m - Example extracted metadata:\n",
      "2023-07-08 11:50:14,928 - \u001b[1;32mINFO\u001b[1;0m - {'fact': 'tip of the tube is relatively high', 'metadata': {'anatomical location': '', 'detailed observation': 'tip of the tube is relatively high', 'short observation': 'tube tip is high', 'category': 'tubes and lines', 'health status': 'unknown', 'prev_study_comparison?': 'no', 'comparison status': ''}}\n",
      " 38%|███████████████▍                        | 399/1038 [09:26<14:39,  1.38s/it]2023-07-08 11:50:28,407 - \u001b[1;32mINFO\u001b[1;0m - Processed 200001 facts\n",
      "2023-07-08 11:50:28,407 - \u001b[1;32mINFO\u001b[1;0m - Example extracted metadata:\n",
      "2023-07-08 11:50:28,408 - \u001b[1;32mINFO\u001b[1;0m - {'fact': 'pleural fluid limited to fluid markings of the fissures on the frontal image', 'metadata': {'anatomical location': 'fissures', 'detailed observation': 'pleural fluid limited to fluid markings of the fissures on the frontal image', 'short observation': 'pleural fluid limited to fissure markings', 'category': 'anatomical finding', 'health status': 'abnormal', 'prev_study_comparison?': 'no', 'comparison status': ''}}\n",
      " 39%|███████████████▊                        | 409/1038 [09:40<14:28,  1.38s/it]2023-07-08 11:50:42,655 - \u001b[1;32mINFO\u001b[1;0m - Processed 205001 facts\n",
      "2023-07-08 11:50:42,655 - \u001b[1;32mINFO\u001b[1;0m - Example extracted metadata:\n",
      "2023-07-08 11:50:42,655 - \u001b[1;32mINFO\u001b[1;0m - {'fact': 'improvement in moderate-to-severe pulmonary edema', 'metadata': {'anatomical location': '', 'detailed observation': 'improvement in moderate-to-severe pulmonary edema', 'short observation': 'improvement in pulmonary edema', 'category': 'anatomical finding', 'health status': 'abnormal', 'prev_study_comparison?': 'yes', 'comparison status': 'improved'}}\n",
      " 40%|███████████████▊                        | 411/1038 [09:43<14:46,  1.41s/it]2023-07-08 11:50:44,240 - \u001b[1;33mWARNING\u001b[1;0m - Failed to parse output text: \"anatomical location\": \"left costophrenic angles\", \"detailed observation\": \"prev_study_comparison?\": \"no\", \"comparison status\": \"\", for fact: costophrenic angles particularly on the left, i: 205919, idx: 205905\n",
      "2023-07-08 11:50:44,240 - \u001b[1;33mWARNING\u001b[1;0m - Exception: 'NoneType' object has no attribute 'group'\n",
      " 40%|████████████████▏                       | 419/1038 [09:55<14:33,  1.41s/it]2023-07-08 11:50:56,879 - \u001b[1;32mINFO\u001b[1;0m - Processed 210001 facts\n",
      "2023-07-08 11:50:56,879 - \u001b[1;32mINFO\u001b[1;0m - Example extracted metadata:\n",
      "2023-07-08 11:50:56,879 - \u001b[1;32mINFO\u001b[1;0m - {'fact': 'pre-existing signs of moderate fluid overload', 'metadata': {'anatomical location': '', 'detailed observation': 'pre-existing signs of moderate fluid overload', 'short observation': 'moderate fluid overload', 'category': 'disease', 'health status': 'abnormal', 'prev_study_comparison?': 'no', 'comparison status': ''}}\n",
      " 41%|████████████████▌                       | 429/1038 [10:08<13:58,  1.38s/it]2023-07-08 11:51:10,796 - \u001b[1;32mINFO\u001b[1;0m - Processed 215001 facts\n",
      "2023-07-08 11:51:10,796 - \u001b[1;32mINFO\u001b[1;0m - Example extracted metadata:\n",
      "2023-07-08 11:51:10,796 - \u001b[1;32mINFO\u001b[1;0m - {'fact': 'Dobbhoff tube in the mid-to-distal stomach', 'metadata': {'anatomical location': 'mid-to-distal stomach', 'detailed observation': 'Dobbhoff tube', 'short observation': 'Dobbhoff tube', 'category': 'tubes and lines', 'health status': 'unknown', 'prev_study_comparison?': 'no', 'comparison status': ''}}\n"
     ]
    },
    {
     "name": "stdout",
     "output_type": "stream",
     "text": [
      " 42%|████████████████▉                       | 439/1038 [10:23<15:00,  1.50s/it]2023-07-08 11:51:25,890 - \u001b[1;32mINFO\u001b[1;0m - Processed 220001 facts\n",
      "2023-07-08 11:51:25,890 - \u001b[1;32mINFO\u001b[1;0m - Example extracted metadata:\n",
      "2023-07-08 11:51:25,890 - \u001b[1;32mINFO\u001b[1;0m - {'fact': 'reduction of ventilated right lung parenchyma', 'metadata': {'anatomical location': 'right lung parenchyma', 'detailed observation': 'reduction of ventilated right lung parenchyma', 'short observation': 'reduction of right lung parenchyma', 'category': 'anatomical finding', 'health status': 'abnormal', 'prev_study_comparison?': 'yes', 'comparison status': 'improved'}}\n",
      " 43%|█████████████████▎                      | 449/1038 [10:39<14:39,  1.49s/it]2023-07-08 11:51:40,859 - \u001b[1;32mINFO\u001b[1;0m - Processed 225001 facts\n",
      "2023-07-08 11:51:40,859 - \u001b[1;32mINFO\u001b[1;0m - Example extracted metadata:\n",
      "2023-07-08 11:51:40,859 - \u001b[1;32mINFO\u001b[1;0m - {'fact': 'vague opacity overly the spine on the lateral', 'metadata': {'anatomical location': 'spine', 'detailed observation': 'vague opacity overly the spine on the lateral', 'short observation': 'vague opacity overly the spine', 'category': 'anatomical finding', 'health status': 'ambiguous', 'prev_study_comparison?': 'no', 'comparison status': ''}}\n",
      " 44%|█████████████████▍                      | 453/1038 [10:44<13:53,  1.42s/it]2023-07-08 11:51:46,462 - \u001b[1;33mWARNING\u001b[1;0m - Failed to parse output text: \"anatomical location\": \"distal location\": \"Swan Ganz catheter\", \"detailed observation\": \"Swan Ganz catheter\", \"short observation\": \"Swan Ganz catheter\", \"category\": \"device\", \"health status\": \"unknown\", \"prev_study_comparison?\": \"no\", \"comparison status\": \"\", for fact: distal location of Swan Ganz catheter, i: 227497, idx: 227482\n",
      "2023-07-08 11:51:46,462 - \u001b[1;33mWARNING\u001b[1;0m - Exception: 'NoneType' object has no attribute 'group'\n",
      " 44%|█████████████████▌                      | 457/1038 [10:50<13:48,  1.43s/it]2023-07-08 11:51:52,219 - \u001b[1;33mWARNING\u001b[1;0m - Failed to parse output text: \"anatomical location\": \"\", \"detailed observation\": \"granulomatous processes (sarcoidosis), \"short observation\": \"granulomatous processes\", \"category\": \"disease\", \"health status\": \"abnormal\", \"prev_study_comparison?\": \"no\", \"comparison status\": \"\", for fact: granulomatous processes (sarcoidosis),, i: 229090, idx: 229074\n",
      "2023-07-08 11:51:52,219 - \u001b[1;33mWARNING\u001b[1;0m - Exception: 'NoneType' object has no attribute 'group'\n",
      " 44%|█████████████████▋                      | 459/1038 [10:53<13:49,  1.43s/it]2023-07-08 11:51:54,853 - \u001b[1;32mINFO\u001b[1;0m - Processed 230001 facts\n",
      "2023-07-08 11:51:54,853 - \u001b[1;32mINFO\u001b[1;0m - Example extracted metadata:\n",
      "2023-07-08 11:51:54,853 - \u001b[1;32mINFO\u001b[1;0m - {'fact': 'possible progressive consolidation in the left lung base', 'metadata': {'anatomical location': 'left lung base', 'detailed observation': 'possible progressive consolidation', 'short observation': 'progressive consolidation', 'category': 'anatomical finding', 'health status': 'ambiguous', 'prev_study_comparison?': 'no', 'comparison status': ''}}\n",
      " 45%|██████████████████                      | 469/1038 [11:07<13:37,  1.44s/it]2023-07-08 11:52:09,065 - \u001b[1;32mINFO\u001b[1;0m - Processed 235001 facts\n",
      "2023-07-08 11:52:09,065 - \u001b[1;32mINFO\u001b[1;0m - Example extracted metadata:\n",
      "2023-07-08 11:52:09,065 - \u001b[1;32mINFO\u001b[1;0m - {'fact': 'subtly increased in left upper lung', 'metadata': {'anatomical location': 'left upper lung', 'detailed observation': 'subtly increased in left upper lung', 'short observation': 'subtly increased', 'category': 'anatomical finding', 'health status': 'abnormal', 'prev_study_comparison?': 'no', 'comparison status': ''}}\n",
      " 46%|██████████████████▍                     | 479/1038 [11:21<13:16,  1.43s/it]2023-07-08 11:52:23,395 - \u001b[1;32mINFO\u001b[1;0m - Processed 240001 facts\n",
      "2023-07-08 11:52:23,395 - \u001b[1;32mINFO\u001b[1;0m - Example extracted metadata:\n",
      "2023-07-08 11:52:23,395 - \u001b[1;32mINFO\u001b[1;0m - {'fact': 'similar size', 'metadata': {'anatomical location': '', 'detailed observation': 'similar size', 'short observation': 'similar size', 'category': 'anatomical finding', 'health status': 'unknown', 'prev_study_comparison?': 'no', 'comparison status': ''}}\n",
      " 47%|██████████████████▊                     | 489/1038 [11:35<12:52,  1.41s/it]2023-07-08 11:52:37,601 - \u001b[1;32mINFO\u001b[1;0m - Processed 245001 facts\n",
      "2023-07-08 11:52:37,602 - \u001b[1;32mINFO\u001b[1;0m - Example extracted metadata:\n",
      "2023-07-08 11:52:37,602 - \u001b[1;32mINFO\u001b[1;0m - {'fact': 'interval progression of the overall process', 'metadata': {'anatomical location': '', 'detailed observation': 'interval progression of the overall process', 'short observation': 'interval progression', 'category': 'technical assessment', 'health status': 'unknown', 'prev_study_comparison?': 'yes', 'comparison status': 'improved'}}\n",
      " 48%|███████████████████▏                    | 499/1038 [11:50<13:01,  1.45s/it]2023-07-08 11:52:50,690 - \u001b[1;33mWARNING\u001b[1;0m - Failed to parse output text: \"anatomical location\": \"descending aorta\", \"detailed observation\": \"detailed observation\": \"detailed observation\": \"detailed observation\": \"detailed observation\": \"detailed observation\": \"detailed observation\": \"detailed observation\": \"detailed observation\": \"detailed observation\": \"detailed observation\": \"detailed observation\": \"detailed observation\": \"detailed observation\": \"distortion\", for fact: descending aorta is demonstrated to be 5 cm, i: 249887, idx: 249870\n",
      "2023-07-08 11:52:50,690 - \u001b[1;33mWARNING\u001b[1;0m - Exception: 'NoneType' object has no attribute 'group'\n",
      "2023-07-08 11:52:52,068 - \u001b[1;32mINFO\u001b[1;0m - Processed 250001 facts\n",
      "2023-07-08 11:52:52,068 - \u001b[1;32mINFO\u001b[1;0m - Example extracted metadata:\n",
      "2023-07-08 11:52:52,068 - \u001b[1;32mINFO\u001b[1;0m - {'fact': 'minor streaky medial left base atelectasis', 'metadata': {'anatomical location': 'medial left base', 'detailed observation': 'minor streaky atelectasis', 'short observation': 'minor atelectasis', 'category': 'anatomical finding', 'health status': 'abnormal', 'prev_study_comparison?': 'no', 'comparison status': ''}}\n",
      " 49%|███████████████████▌                    | 509/1038 [12:04<12:20,  1.40s/it]2023-07-08 11:53:06,039 - \u001b[1;32mINFO\u001b[1;0m - Processed 255001 facts\n",
      "2023-07-08 11:53:06,039 - \u001b[1;32mINFO\u001b[1;0m - Example extracted metadata:\n",
      "2023-07-08 11:53:06,039 - \u001b[1;32mINFO\u001b[1;0m - {'fact': 'diffuse bilateral hyperlucency of the lung apices', 'metadata': {'anatomical location': 'lung apices', 'detailed observation': 'diffuse bilateral hyperlucency of the lung apices', 'short observation': 'diffuse bilateral hyperlucency', 'category': 'anatomical finding', 'health status': 'abnormal', 'prev_study_comparison?': 'no', 'comparison status': ''}}\n",
      " 50%|████████████████████                    | 519/1038 [12:18<12:01,  1.39s/it]2023-07-08 11:53:20,198 - \u001b[1;32mINFO\u001b[1;0m - Processed 260001 facts\n",
      "2023-07-08 11:53:20,198 - \u001b[1;32mINFO\u001b[1;0m - Example extracted metadata:\n",
      "2023-07-08 11:53:20,198 - \u001b[1;32mINFO\u001b[1;0m - {'fact': 'stable position of right-sided PICC line', 'metadata': {'anatomical location': 'right', 'detailed observation': 'stable position of right-sided PICC line', 'short observation': 'stable position of PICC line', 'category': 'tubes and lines', 'health status': 'normal', 'prev_study_comparison?': 'no', 'comparison status': ''}}\n",
      " 51%|████████████████████▍                   | 529/1038 [12:32<11:50,  1.40s/it]2023-07-08 11:53:34,451 - \u001b[1;32mINFO\u001b[1;0m - Processed 265001 facts\n",
      "2023-07-08 11:53:34,451 - \u001b[1;32mINFO\u001b[1;0m - Example extracted metadata:\n",
      "2023-07-08 11:53:34,451 - \u001b[1;32mINFO\u001b[1;0m - {'fact': 'mild patchy opacification at the left lung base', 'metadata': {'anatomical location': 'left lung base', 'detailed observation': 'mild patchy opacification', 'short observation': 'patchy opacification', 'category': 'anatomical finding', 'health status': 'abnormal', 'prev_study_comparison?': 'no', 'comparison status': ''}}\n",
      " 52%|████████████████████▋                   | 537/1038 [12:43<11:51,  1.42s/it]2023-07-08 11:53:46,149 - \u001b[1;33mWARNING\u001b[1;0m - Failed to parse output text: \"anatomical location\": \"right costophrenic angles\", \"detailed observation\": \"prev_study_comparison?\": \"no\", \"comparison status\": \"\", for fact: costophrenic angles particularly on the right, i: 269177, idx: 269159\n",
      "2023-07-08 11:53:46,149 - \u001b[1;33mWARNING\u001b[1;0m - Exception: 'NoneType' object has no attribute 'group'\n"
     ]
    },
    {
     "name": "stdout",
     "output_type": "stream",
     "text": [
      " 52%|████████████████████▊                   | 539/1038 [12:46<12:16,  1.48s/it]2023-07-08 11:53:49,031 - \u001b[1;32mINFO\u001b[1;0m - Processed 270001 facts\n",
      "2023-07-08 11:53:49,031 - \u001b[1;32mINFO\u001b[1;0m - Example extracted metadata:\n",
      "2023-07-08 11:53:49,031 - \u001b[1;32mINFO\u001b[1;0m - {'fact': 'decreased extent of right parenchymal opacity', 'metadata': {'anatomical location': 'right parenchyma', 'detailed observation': 'decreased extent of right parenchymal opacity', 'short observation': 'decreased extent of opacity', 'category': 'anatomical finding', 'health status': 'abnormal', 'prev_study_comparison?': 'yes', 'comparison status': 'improved'}}\n",
      " 53%|█████████████████████▏                  | 549/1038 [13:01<11:29,  1.41s/it]2023-07-08 11:54:03,227 - \u001b[1;32mINFO\u001b[1;0m - Processed 275001 facts\n",
      "2023-07-08 11:54:03,227 - \u001b[1;32mINFO\u001b[1;0m - Example extracted metadata:\n",
      "2023-07-08 11:54:03,227 - \u001b[1;32mINFO\u001b[1;0m - {'fact': 'Dobhoff tube extends into the jejunum', 'metadata': {'anatomical location': 'jejunum', 'detailed observation': 'Dobhoff tube extends into the jejunum', 'short observation': 'Dobhoff tube extends into the jejunum', 'category': 'tubes and lines', 'health status': 'unknown', 'prev_study_comparison?': 'no', 'comparison status': ''}}\n",
      " 54%|█████████████████████▌                  | 559/1038 [13:15<11:10,  1.40s/it]2023-07-08 11:54:17,133 - \u001b[1;32mINFO\u001b[1;0m - Processed 280001 facts\n",
      "2023-07-08 11:54:17,133 - \u001b[1;32mINFO\u001b[1;0m - Example extracted metadata:\n",
      "2023-07-08 11:54:17,133 - \u001b[1;32mINFO\u001b[1;0m - {'fact': '6 hour follow-up radiograph recommended', 'metadata': {'anatomical location': '', 'detailed observation': '6 hour follow-up radiograph recommended', 'short observation': '6 hour follow-up radiograph recommended', 'category': 'technical assessment', 'health status': 'unknown', 'prev_study_comparison?': 'no', 'comparison status': ''}}\n",
      " 55%|█████████████████████▊                  | 567/1038 [13:26<10:42,  1.36s/it]2023-07-08 11:54:28,288 - \u001b[1;33mWARNING\u001b[1;0m - Failed to parse output text: \"anatomical location\": \"junction of the right subclavian and right brachiocephalic veins at the medial aspect of the right clavicle\", \"detailed observation\": \"Right PICC terminates at the junction of the right subclavian and right brachiocephalic veins at the medial aspect of the right clavicle\", \"short observation\": \"Right PICC terminates at the junction of the right subclavian and, for fact: Right PICC terminates at the junction of the right subclavian and right brachiocephalic veins at the medial aspect of the right clavicle, i: 284307, idx: 284288\n",
      "2023-07-08 11:54:28,288 - \u001b[1;33mWARNING\u001b[1;0m - Exception: 'NoneType' object has no attribute 'group'\n",
      " 55%|█████████████████████▉                  | 569/1038 [13:29<10:58,  1.40s/it]2023-07-08 11:54:31,160 - \u001b[1;32mINFO\u001b[1;0m - Processed 285001 facts\n",
      "2023-07-08 11:54:31,160 - \u001b[1;32mINFO\u001b[1;0m - Example extracted metadata:\n",
      "2023-07-08 11:54:31,161 - \u001b[1;32mINFO\u001b[1;0m - {'fact': 'retrocardiac airspace opacification due to infection', 'metadata': {'anatomical location': 'retrocardiac', 'detailed observation': 'airspace opacification due to infection', 'short observation': 'airspace opacification', 'category': 'anatomical finding', 'health status': 'abnormal', 'prev_study_comparison?': 'no', 'comparison status': ''}}\n",
      " 56%|██████████████████████▎                 | 579/1038 [13:43<10:34,  1.38s/it]2023-07-08 11:54:44,849 - \u001b[1;32mINFO\u001b[1;0m - Processed 290001 facts\n",
      "2023-07-08 11:54:44,849 - \u001b[1;32mINFO\u001b[1;0m - Example extracted metadata:\n",
      "2023-07-08 11:54:44,849 - \u001b[1;32mINFO\u001b[1;0m - {'fact': 'left lower lobe consolidation is grossly unchanged', 'metadata': {'anatomical location': 'left lower lobe', 'detailed observation': 'consolidation', 'short observation': 'consolidation', 'category': 'anatomical finding', 'health status': 'abnormal', 'prev_study_comparison?': 'yes', 'comparison status': 'unchanged'}}\n",
      " 57%|██████████████████████▋                 | 589/1038 [13:56<10:19,  1.38s/it]2023-07-08 11:54:58,969 - \u001b[1;32mINFO\u001b[1;0m - Processed 295001 facts\n",
      "2023-07-08 11:54:58,969 - \u001b[1;32mINFO\u001b[1;0m - Example extracted metadata:\n",
      "2023-07-08 11:54:58,969 - \u001b[1;32mINFO\u001b[1;0m - {'fact': 'no convincing evidence of pneumonia', 'metadata': {'anatomical location': '', 'detailed observation': 'no convincing evidence of pneumonia', 'short observation': 'no pneumonia', 'category': 'disease', 'health status': 'normal', 'prev_study_comparison?': 'no', 'comparison status': ''}}\n",
      " 57%|██████████████████████▉                 | 595/1038 [14:05<10:41,  1.45s/it]2023-07-08 11:55:06,252 - \u001b[1;33mWARNING\u001b[1;0m - Failed to parse output text: \"anatomical location\": \"intrathoracic\", \"detailed observation\": \"suggestion\": \"short segment of the right pleural drain is intrathoracic\", \"short observation\": \"short segment of the right pleural drain\", \"category\": \"tubes and lines\", \"health status\": \"unknown\", \"prev_study_comparison?\": \"no\", \"comparison status\": \"\", for fact: suggestion that only a short segment of the right pleural drain is intrathoracic, i: 297586, idx: 297566\n",
      "2023-07-08 11:55:06,252 - \u001b[1;33mWARNING\u001b[1;0m - Exception: 'NoneType' object has no attribute 'group'\n",
      " 58%|███████████████████████                 | 599/1038 [14:11<10:23,  1.42s/it]2023-07-08 11:55:13,206 - \u001b[1;32mINFO\u001b[1;0m - Processed 300001 facts\n",
      "2023-07-08 11:55:13,207 - \u001b[1;32mINFO\u001b[1;0m - Example extracted metadata:\n",
      "2023-07-08 11:55:13,207 - \u001b[1;32mINFO\u001b[1;0m - {'fact': 'new Dobbhoff catheter has been inserted', 'metadata': {'anatomical location': '', 'detailed observation': 'Dobbhoff catheter has been inserted', 'short observation': 'Dobbhoff catheter inserted', 'category': 'tubes and lines', 'health status': 'unknown', 'prev_study_comparison?': 'no', 'comparison status': ''}}\n",
      " 59%|███████████████████████▍                | 609/1038 [14:25<10:04,  1.41s/it]2023-07-08 11:55:27,476 - \u001b[1;32mINFO\u001b[1;0m - Processed 305001 facts\n",
      "2023-07-08 11:55:27,476 - \u001b[1;32mINFO\u001b[1;0m - Example extracted metadata:\n",
      "2023-07-08 11:55:27,476 - \u001b[1;32mINFO\u001b[1;0m - {'fact': 'placement of a dual-channel pacemaker through left subclavian approach', 'metadata': {'anatomical location': 'left subclavian', 'detailed observation': 'placement of a dual-channel pacemaker through left subclavian approach', 'short observation': 'dual-channel pacemaker placement', 'category': 'device', 'health status': 'unknown', 'prev_study_comparison?': 'no', 'comparison status': ''}}\n",
      " 60%|███████████████████████▊                | 619/1038 [14:39<09:59,  1.43s/it]2023-07-08 11:55:41,835 - \u001b[1;32mINFO\u001b[1;0m - Processed 310001 facts\n",
      "2023-07-08 11:55:41,835 - \u001b[1;32mINFO\u001b[1;0m - Example extracted metadata:\n",
      "2023-07-08 11:55:41,835 - \u001b[1;32mINFO\u001b[1;0m - {'fact': 'side port proximal to the GE junction level', 'metadata': {'anatomical location': 'proximal to the GE junction level', 'detailed observation': 'side port', 'short observation': 'side port', 'category': 'device', 'health status': 'unknown', 'prev_study_comparison?': 'no', 'comparison status': ''}}\n",
      " 61%|████████████████████████▏               | 629/1038 [14:54<09:44,  1.43s/it]2023-07-08 11:55:56,114 - \u001b[1;32mINFO\u001b[1;0m - Processed 315001 facts\n",
      "2023-07-08 11:55:56,114 - \u001b[1;32mINFO\u001b[1;0m - Example extracted metadata:\n",
      "2023-07-08 11:55:56,114 - \u001b[1;32mINFO\u001b[1;0m - {'fact': 'midline tracheostomy tube is unchanged', 'metadata': {'anatomical location': '', 'detailed observation': 'midline tracheostomy tube is unchanged', 'short observation': 'tracheostomy tube is unchanged', 'category': 'tubes and lines', 'health status': 'unknown', 'prev_study_comparison?': 'yes', 'comparison status': 'unchanged'}}\n",
      " 62%|████████████████████████▌               | 639/1038 [15:08<09:20,  1.40s/it]2023-07-08 11:56:10,142 - \u001b[1;32mINFO\u001b[1;0m - Processed 320001 facts\n",
      "2023-07-08 11:56:10,142 - \u001b[1;32mINFO\u001b[1;0m - Example extracted metadata:\n",
      "2023-07-08 11:56:10,142 - \u001b[1;32mINFO\u001b[1;0m - {'fact': 'progressive slow aeration of the left hemithorax', 'metadata': {'anatomical location': 'left hemithorax', 'detailed observation': 'progressive slow aeration of the left hemithorax', 'short observation': 'slow aeration of the left hemithorax', 'category': 'anatomical finding', 'health status': 'abnormal', 'prev_study_comparison?': 'no', 'comparison status': ''}}\n"
     ]
    },
    {
     "name": "stdout",
     "output_type": "stream",
     "text": [
      " 63%|█████████████████████████               | 649/1038 [15:22<09:06,  1.40s/it]2023-07-08 11:56:24,246 - \u001b[1;32mINFO\u001b[1;0m - Processed 325001 facts\n",
      "2023-07-08 11:56:24,247 - \u001b[1;32mINFO\u001b[1;0m - Example extracted metadata:\n",
      "2023-07-08 11:56:24,247 - \u001b[1;32mINFO\u001b[1;0m - {'fact': 'distorted architecture of the lungs', 'metadata': {'anatomical location': 'lungs', 'detailed observation': 'distorted architecture of the lungs', 'short observation': 'distorted lungs', 'category': 'anatomical finding', 'health status': 'abnormal', 'prev_study_comparison?': 'no', 'comparison status': ''}}\n",
      " 63%|█████████████████████████▍              | 659/1038 [15:36<08:41,  1.38s/it]2023-07-08 11:56:37,990 - \u001b[1;32mINFO\u001b[1;0m - Processed 330001 facts\n",
      "2023-07-08 11:56:37,990 - \u001b[1;32mINFO\u001b[1;0m - Example extracted metadata:\n",
      "2023-07-08 11:56:37,991 - \u001b[1;32mINFO\u001b[1;0m - {'fact': 'opacity projecting over the left lower hemithorax', 'metadata': {'anatomical location': 'left lower hemithorax', 'detailed observation': 'opacity projecting over the left lower hemithorax', 'short observation': 'opacity', 'category': 'anatomical finding', 'health status': 'abnormal', 'prev_study_comparison?': 'no', 'comparison status': ''}}\n",
      " 64%|█████████████████████████▊              | 669/1038 [15:50<08:32,  1.39s/it]2023-07-08 11:56:52,193 - \u001b[1;32mINFO\u001b[1;0m - Processed 335001 facts\n",
      "2023-07-08 11:56:52,193 - \u001b[1;32mINFO\u001b[1;0m - Example extracted metadata:\n",
      "2023-07-08 11:56:52,193 - \u001b[1;32mINFO\u001b[1;0m - {'fact': 'peripheral reticulation not fully evaluated', 'metadata': {'anatomical location': 'peripheral', 'detailed observation': 'peripheral reticulation not fully evaluated', 'short observation': 'peripheral reticulation not fully evaluated', 'category': 'anatomical finding', 'health status': 'unknown', 'prev_study_comparison?': 'no', 'comparison status': ''}}\n",
      " 65%|██████████████████████████▏             | 679/1038 [16:04<08:45,  1.46s/it]2023-07-08 11:57:06,659 - \u001b[1;32mINFO\u001b[1;0m - Processed 340001 facts\n",
      "2023-07-08 11:57:06,659 - \u001b[1;32mINFO\u001b[1;0m - Example extracted metadata:\n",
      "2023-07-08 11:57:06,659 - \u001b[1;32mINFO\u001b[1;0m - {'fact': 'newly occurred area of atelectatic changes at the left lung base', 'metadata': {'anatomical location': 'left lung base', 'detailed observation': 'newly occurred area of atelectatic changes', 'short observation': 'atelectatic changes', 'category': 'anatomical finding', 'health status': 'abnormal', 'prev_study_comparison?': 'yes', 'comparison status': 'new'}}\n",
      " 66%|██████████████████████████▌             | 689/1038 [16:18<08:15,  1.42s/it]2023-07-08 11:57:21,252 - \u001b[1;32mINFO\u001b[1;0m - Processed 345001 facts\n",
      "2023-07-08 11:57:21,252 - \u001b[1;32mINFO\u001b[1;0m - Example extracted metadata:\n",
      "2023-07-08 11:57:21,252 - \u001b[1;32mINFO\u001b[1;0m - {'fact': 'degree of edema has slightly worsened', 'metadata': {'anatomical location': '', 'detailed observation': 'degree of edema has slightly worsened', 'short observation': 'degree of edema', 'category': 'anatomical finding', 'health status': 'abnormal', 'prev_study_comparison?': 'yes', 'comparison status': 'worsened'}}\n",
      " 67%|██████████████████████████▊             | 697/1038 [16:30<08:01,  1.41s/it]2023-07-08 11:57:31,065 - \u001b[1;33mWARNING\u001b[1;0m - Failed to parse output text: \"anatomical location\": \"\", \"detailed observation\": \"unchanged sternal wires suggesting a sternal wires suggesting a sternal wires suggesting a sternal wires suggesting a sternal wires suggesting a sternal wires suggesting a sternal wires suggesting a sternal wires suggesting a sternal wires suggesting a sternal wires suggesting a sternal wires suggesting a sternal, for fact: unchanged sternal wires suggesting a sternal wires suggesting a sternal wires suggesting a sternal wires suggesting a sternal wires suggesting a sternal wires suggesting a sternal wires suggesting a sternal wires suggesting a sternal wires, i: 348764, idx: 348743\n",
      "2023-07-08 11:57:31,065 - \u001b[1;33mWARNING\u001b[1;0m - Exception: 'NoneType' object has no attribute 'group'\n",
      " 67%|██████████████████████████▉             | 699/1038 [16:33<08:05,  1.43s/it]2023-07-08 11:57:35,095 - \u001b[1;32mINFO\u001b[1;0m - Processed 350001 facts\n",
      "2023-07-08 11:57:35,095 - \u001b[1;32mINFO\u001b[1;0m - Example extracted metadata:\n",
      "2023-07-08 11:57:35,095 - \u001b[1;32mINFO\u001b[1;0m - {'fact': 'known right upper lobe nodules not well seen', 'metadata': {'anatomical location': 'right upper lobe', 'detailed observation': 'known nodules not well seen', 'short observation': 'nodules not well seen', 'category': 'anatomical finding', 'health status': 'ambiguous', 'prev_study_comparison?': 'no', 'comparison status': ''}}\n",
      " 68%|███████████████████████████▎            | 709/1038 [16:47<07:43,  1.41s/it]2023-07-08 11:57:49,145 - \u001b[1;32mINFO\u001b[1;0m - Processed 355001 facts\n",
      "2023-07-08 11:57:49,145 - \u001b[1;32mINFO\u001b[1;0m - Example extracted metadata:\n",
      "2023-07-08 11:57:49,145 - \u001b[1;32mINFO\u001b[1;0m - {'fact': 'possible superimposed aspiration in the right upper lobe', 'metadata': {'anatomical location': 'right upper lobe', 'detailed observation': 'possible superimposed aspiration', 'short observation': 'superimposed aspiration', 'category': 'anatomical finding', 'health status': 'ambiguous', 'prev_study_comparison?': 'no', 'comparison status': ''}}\n",
      " 69%|███████████████████████████▋            | 719/1038 [17:01<07:34,  1.43s/it]2023-07-08 11:58:03,788 - \u001b[1;32mINFO\u001b[1;0m - Processed 360001 facts\n",
      "2023-07-08 11:58:03,789 - \u001b[1;32mINFO\u001b[1;0m - Example extracted metadata:\n",
      "2023-07-08 11:58:03,789 - \u001b[1;32mINFO\u001b[1;0m - {'fact': 'focus of pneumonia', 'metadata': {'anatomical location': '', 'detailed observation': 'focus of pneumonia', 'short observation': 'pneumonia', 'category': 'disease', 'health status': 'abnormal', 'prev_study_comparison?': 'no', 'comparison status': ''}}\n",
      " 70%|████████████████████████████            | 729/1038 [17:15<07:07,  1.38s/it]2023-07-08 11:58:17,548 - \u001b[1;32mINFO\u001b[1;0m - Processed 365001 facts\n",
      "2023-07-08 11:58:17,548 - \u001b[1;32mINFO\u001b[1;0m - Example extracted metadata:\n",
      "2023-07-08 11:58:17,548 - \u001b[1;32mINFO\u001b[1;0m - {'fact': 'abnormal lower lungs', 'metadata': {'anatomical location': 'lower lungs', 'detailed observation': 'abnormal lower lungs', 'short observation': 'abnormal lower lungs', 'category': 'anatomical finding', 'health status': 'abnormal', 'prev_study_comparison?': 'no', 'comparison status': ''}}\n",
      " 71%|████████████████████████████▏           | 733/1038 [17:21<07:00,  1.38s/it]2023-07-08 11:58:21,710 - \u001b[1;33mWARNING\u001b[1;0m - Failed to parse output text: \"anatomical location\": \"\", \"detailed observation\": \"uncertain significance of the \"uncertain significance\", \"short observation\": \"uncertain significance\", \"category\": \"technical assessment\", \"health status\": \"ambiguous\", \"prev_study_comparison?\": \"no\", \"comparison status\": \"\", for fact: uncertain significance of, i: 366617, idx: 366595\n",
      "2023-07-08 11:58:21,710 - \u001b[1;33mWARNING\u001b[1;0m - Exception: 'NoneType' object has no attribute 'group'\n",
      " 71%|████████████████████████████▍           | 739/1038 [17:29<06:56,  1.39s/it]2023-07-08 11:58:31,576 - \u001b[1;32mINFO\u001b[1;0m - Processed 370001 facts\n",
      "2023-07-08 11:58:31,576 - \u001b[1;32mINFO\u001b[1;0m - Example extracted metadata:\n",
      "2023-07-08 11:58:31,576 - \u001b[1;32mINFO\u001b[1;0m - {'fact': 'multiple lung nodules obscured by the acute abnormality', 'metadata': {'anatomical location': 'lung', 'detailed observation': 'multiple lung nodules obscured by the acute abnormality', 'short observation': 'multiple lung nodules obscured', 'category': 'anatomical finding', 'health status': 'abnormal', 'prev_study_comparison?': 'no', 'comparison status': ''}}\n",
      " 72%|████████████████████████████▊           | 749/1038 [17:43<06:37,  1.37s/it]2023-07-08 11:58:45,467 - \u001b[1;32mINFO\u001b[1;0m - Processed 375001 facts\n",
      "2023-07-08 11:58:45,467 - \u001b[1;32mINFO\u001b[1;0m - Example extracted metadata:\n",
      "2023-07-08 11:58:45,467 - \u001b[1;32mINFO\u001b[1;0m - {'fact': 'extent of the mediastinal opacity in the right upper lung is constant', 'metadata': {'anatomical location': 'right upper lung', 'detailed observation': 'extent of the mediastinal opacity is constant', 'short observation': 'constant mediastinal opacity', 'category': 'anatomical finding', 'health status': 'abnormal', 'prev_study_comparison?': 'yes', 'comparison status': 'resolved'}}\n"
     ]
    },
    {
     "name": "stdout",
     "output_type": "stream",
     "text": [
      " 73%|█████████████████████████████▏          | 759/1038 [17:57<06:32,  1.41s/it]2023-07-08 11:58:59,644 - \u001b[1;32mINFO\u001b[1;0m - Processed 380001 facts\n",
      "2023-07-08 11:58:59,644 - \u001b[1;32mINFO\u001b[1;0m - Example extracted metadata:\n",
      "2023-07-08 11:58:59,644 - \u001b[1;32mINFO\u001b[1;0m - {'fact': 'left-sided chest wall port is seen', 'metadata': {'anatomical location': 'left', 'detailed observation': 'chest wall port is seen', 'short observation': 'chest wall port', 'category': 'device', 'health status': 'unknown', 'prev_study_comparison?': 'no', 'comparison status': ''}}\n",
      " 74%|█████████████████████████████▋          | 769/1038 [18:11<06:21,  1.42s/it]2023-07-08 11:59:13,517 - \u001b[1;32mINFO\u001b[1;0m - Processed 385001 facts\n",
      "2023-07-08 11:59:13,517 - \u001b[1;32mINFO\u001b[1;0m - Example extracted metadata:\n",
      "2023-07-08 11:59:13,517 - \u001b[1;32mINFO\u001b[1;0m - {'fact': 'more bibasilar consolidation now than yesterday', 'metadata': {'anatomical location': 'bibasilar', 'detailed observation': 'more consolidation', 'short observation': 'consolidation', 'category': 'anatomical finding', 'health status': 'abnormal', 'prev_study_comparison?': 'yes', 'comparison status': 'worsened'}}\n",
      " 75%|██████████████████████████████          | 779/1038 [18:25<06:06,  1.42s/it]2023-07-08 11:59:27,880 - \u001b[1;32mINFO\u001b[1;0m - Processed 390001 facts\n",
      "2023-07-08 11:59:27,880 - \u001b[1;32mINFO\u001b[1;0m - Example extracted metadata:\n",
      "2023-07-08 11:59:27,880 - \u001b[1;32mINFO\u001b[1;0m - {'fact': 'faintly visualized stents projecting over the left mainstem bronchi', 'metadata': {'anatomical location': 'left mainstem bronchi', 'detailed observation': 'faintly visualized stents projecting over the left mainstem bronchi', 'short observation': 'stents projecting over left mainstem bronchi', 'category': 'device', 'health status': 'unknown', 'prev_study_comparison?': 'no', 'comparison status': ''}}\n",
      " 76%|██████████████████████████████▍         | 789/1038 [18:39<05:44,  1.38s/it]2023-07-08 11:59:41,648 - \u001b[1;32mINFO\u001b[1;0m - Processed 395001 facts\n",
      "2023-07-08 11:59:41,648 - \u001b[1;32mINFO\u001b[1;0m - Example extracted metadata:\n",
      "2023-07-08 11:59:41,648 - \u001b[1;32mINFO\u001b[1;0m - {'fact': 'right IJ catheter with the distal tip in the proximal SVC', 'metadata': {'anatomical location': 'proximal SVC', 'detailed observation': 'right IJ catheter with the distal tip in the proximal SVC', 'short observation': 'right IJ catheter in proximal SVC', 'category': 'tubes and lines', 'health status': 'unknown', 'prev_study_comparison?': 'no', 'comparison status': ''}}\n",
      " 77%|██████████████████████████████▋         | 797/1038 [18:50<05:32,  1.38s/it]2023-07-08 11:59:53,025 - \u001b[1;33mWARNING\u001b[1;0m - Failed to parse output text: \"anatomical location\": \"right lung\", \"detailed observation\": \"prev_study_comparison?\": \"no\", \"comparison status\": \"\", for fact: particularly the right lung, i: 399003, idx: 398980\n",
      "2023-07-08 11:59:53,025 - \u001b[1;33mWARNING\u001b[1;0m - Exception: 'NoneType' object has no attribute 'group'\n",
      " 77%|██████████████████████████████▊         | 799/1038 [18:53<05:40,  1.42s/it]2023-07-08 11:59:55,647 - \u001b[1;32mINFO\u001b[1;0m - Processed 400001 facts\n",
      "2023-07-08 11:59:55,647 - \u001b[1;32mINFO\u001b[1;0m - Example extracted metadata:\n",
      "2023-07-08 11:59:55,647 - \u001b[1;32mINFO\u001b[1;0m - {'fact': 'position favors esophageal location', 'metadata': {'anatomical location': 'esophagus', 'detailed observation': 'position favors esophageal location', 'short observation': 'position favors esophageal location', 'category': 'anatomical finding', 'health status': 'unknown', 'prev_study_comparison?': 'no', 'comparison status': ''}}\n",
      " 78%|███████████████████████████████▏        | 809/1038 [19:07<05:19,  1.40s/it]2023-07-08 12:00:09,706 - \u001b[1;32mINFO\u001b[1;0m - Processed 405001 facts\n",
      "2023-07-08 12:00:09,706 - \u001b[1;32mINFO\u001b[1;0m - Example extracted metadata:\n",
      "2023-07-08 12:00:09,707 - \u001b[1;32mINFO\u001b[1;0m - {'fact': 'chest exam unchanged from previous imaging', 'metadata': {'anatomical location': '', 'detailed observation': 'chest exam unchanged from previous imaging', 'short observation': 'chest exam unchanged', 'category': 'technical assessment', 'health status': 'unknown', 'prev_study_comparison?': 'yes', 'comparison status': 'resolved'}}\n",
      " 79%|███████████████████████████████▌        | 819/1038 [19:21<05:04,  1.39s/it]2023-07-08 12:00:23,679 - \u001b[1;32mINFO\u001b[1;0m - Processed 410001 facts\n",
      "2023-07-08 12:00:23,679 - \u001b[1;32mINFO\u001b[1;0m - Example extracted metadata:\n",
      "2023-07-08 12:00:23,679 - \u001b[1;32mINFO\u001b[1;0m - {'fact': 'new left perihilar pulmonary opacity', 'metadata': {'anatomical location': 'left perihilar', 'detailed observation': 'new pulmonary opacity', 'short observation': 'pulmonary opacity', 'category': 'anatomical finding', 'health status': 'abnormal', 'prev_study_comparison?': 'no', 'comparison status': ''}}\n",
      " 80%|███████████████████████████████▉        | 829/1038 [19:36<05:00,  1.44s/it]2023-07-08 12:00:38,166 - \u001b[1;32mINFO\u001b[1;0m - Processed 415001 facts\n",
      "2023-07-08 12:00:38,166 - \u001b[1;32mINFO\u001b[1;0m - Example extracted metadata:\n",
      "2023-07-08 12:00:38,166 - \u001b[1;32mINFO\u001b[1;0m - {'fact': 'substantially narrowed trachea', 'metadata': {'anatomical location': 'trachea', 'detailed observation': 'substantially narrowed trachea', 'short observation': 'narrowed trachea', 'category': 'anatomical finding', 'health status': 'abnormal', 'prev_study_comparison?': 'no', 'comparison status': ''}}\n",
      " 81%|████████████████████████████████▎       | 839/1038 [19:50<04:46,  1.44s/it]2023-07-08 12:00:52,515 - \u001b[1;32mINFO\u001b[1;0m - Processed 420001 facts\n",
      "2023-07-08 12:00:52,515 - \u001b[1;32mINFO\u001b[1;0m - Example extracted metadata:\n",
      "2023-07-08 12:00:52,515 - \u001b[1;32mINFO\u001b[1;0m - {'fact': 'post-surgical changes at the left lung base', 'metadata': {'anatomical location': 'left lung base', 'detailed observation': 'post-surgical changes', 'short observation': 'post-surgical changes', 'category': 'anatomical finding', 'health status': 'unknown', 'prev_study_comparison?': 'no', 'comparison status': ''}}\n",
      " 82%|████████████████████████████████▋       | 849/1038 [20:04<04:23,  1.40s/it]2023-07-08 12:01:06,458 - \u001b[1;32mINFO\u001b[1;0m - Processed 425001 facts\n",
      "2023-07-08 12:01:06,458 - \u001b[1;32mINFO\u001b[1;0m - Example extracted metadata:\n",
      "2023-07-08 12:01:06,458 - \u001b[1;32mINFO\u001b[1;0m - {'fact': 'dense calcified atherosclerotic disease coursing into the intra-abdominal portion', 'metadata': {'anatomical location': 'intra-abdominal portion', 'detailed observation': 'dense calcified atherosclerotic disease coursing into the intra-abdominal portion', 'short observation': 'dense calcified atherosclerotic disease', 'category': 'disease', 'health status': 'abnormal', 'prev_study_comparison?': 'no', 'comparison status': ''}}\n",
      " 83%|█████████████████████████████████       | 859/1038 [20:18<04:10,  1.40s/it]2023-07-08 12:01:21,444 - \u001b[1;32mINFO\u001b[1;0m - Processed 430001 facts\n",
      "2023-07-08 12:01:21,444 - \u001b[1;32mINFO\u001b[1;0m - Example extracted metadata:\n",
      "2023-07-08 12:01:21,444 - \u001b[1;32mINFO\u001b[1;0m - {'fact': 'persistent peripheral opacity in right upper lobe', 'metadata': {'anatomical location': 'right upper lobe', 'detailed observation': 'persistent peripheral opacity', 'short observation': 'peripheral opacity', 'category': 'anatomical finding', 'health status': 'abnormal', 'prev_study_comparison?': 'no', 'comparison status': ''}}\n",
      " 84%|█████████████████████████████████▍      | 869/1038 [20:33<04:00,  1.43s/it]2023-07-08 12:01:35,650 - \u001b[1;32mINFO\u001b[1;0m - Processed 435001 facts\n",
      "2023-07-08 12:01:35,650 - \u001b[1;32mINFO\u001b[1;0m - Example extracted metadata:\n",
      "2023-07-08 12:01:35,650 - \u001b[1;32mINFO\u001b[1;0m - {'fact': 'abnormal increased interstitial markings throughout the lungs', 'metadata': {'anatomical location': 'lungs', 'detailed observation': 'abnormal increased interstitial markings throughout the lungs', 'short observation': 'increased interstitial markings', 'category': 'anatomical finding', 'health status': 'abnormal', 'prev_study_comparison?': 'no', 'comparison status': ''}}\n",
      " 85%|█████████████████████████████████▊      | 879/1038 [20:47<03:42,  1.40s/it]2023-07-08 12:01:49,390 - \u001b[1;32mINFO\u001b[1;0m - Processed 440001 facts\n",
      "2023-07-08 12:01:49,390 - \u001b[1;32mINFO\u001b[1;0m - Example extracted metadata:\n",
      "2023-07-08 12:01:49,390 - \u001b[1;32mINFO\u001b[1;0m - {'fact': 'drainage tube', 'metadata': {'anatomical location': '', 'detailed observation': 'drainage tube', 'short observation': 'drainage tube', 'category': 'tubes and lines', 'health status': 'unknown', 'prev_study_comparison?': 'no', 'comparison status': ''}}\n"
     ]
    },
    {
     "name": "stdout",
     "output_type": "stream",
     "text": [
      " 86%|██████████████████████████████████▎     | 889/1038 [21:01<03:30,  1.42s/it]2023-07-08 12:02:03,376 - \u001b[1;32mINFO\u001b[1;0m - Processed 445001 facts\n",
      "2023-07-08 12:02:03,376 - \u001b[1;32mINFO\u001b[1;0m - Example extracted metadata:\n",
      "2023-07-08 12:02:03,376 - \u001b[1;32mINFO\u001b[1;0m - {'fact': 'new bilateral perihilar pulmonary consolidation', 'metadata': {'anatomical location': 'bilateral perihilar', 'detailed observation': 'new pulmonary consolidation', 'short observation': 'pulmonary consolidation', 'category': 'anatomical finding', 'health status': 'abnormal', 'prev_study_comparison?': 'no', 'comparison status': ''}}\n",
      " 87%|██████████████████████████████████▋     | 899/1038 [21:15<03:13,  1.39s/it]2023-07-08 12:02:17,354 - \u001b[1;32mINFO\u001b[1;0m - Processed 450001 facts\n",
      "2023-07-08 12:02:17,354 - \u001b[1;32mINFO\u001b[1;0m - Example extracted metadata:\n",
      "2023-07-08 12:02:17,354 - \u001b[1;32mINFO\u001b[1;0m - {'fact': 'left PICC tip in mid SVC', 'metadata': {'anatomical location': 'mid SVC', 'detailed observation': 'left PICC tip in mid SVC', 'short observation': 'PICC tip in mid SVC', 'category': 'tubes and lines', 'health status': 'normal', 'prev_study_comparison?': 'no', 'comparison status': ''}}\n",
      " 87%|██████████████████████████████████▉     | 907/1038 [21:27<03:10,  1.45s/it]2023-07-08 12:02:27,697 - \u001b[1;33mWARNING\u001b[1;0m - Failed to parse output text: \"anatomical location\": \"right lung\", \"detailed observation\": \"prev_study_comparison?\": \"no\", \"comparison status\": \"\", for fact: particularly in the right lung, i: 453803, idx: 453779\n",
      "2023-07-08 12:02:27,697 - \u001b[1;33mWARNING\u001b[1;0m - Exception: 'NoneType' object has no attribute 'group'\n",
      " 88%|███████████████████████████████████     | 909/1038 [21:30<03:06,  1.45s/it]2023-07-08 12:02:32,147 - \u001b[1;32mINFO\u001b[1;0m - Processed 455001 facts\n",
      "2023-07-08 12:02:32,147 - \u001b[1;32mINFO\u001b[1;0m - Example extracted metadata:\n",
      "2023-07-08 12:02:32,147 - \u001b[1;32mINFO\u001b[1;0m - {'fact': 'opacity projects over spine', 'metadata': {'anatomical location': 'spine', 'detailed observation': 'opacity projects over spine', 'short observation': 'opacity over spine', 'category': 'anatomical finding', 'health status': 'abnormal', 'prev_study_comparison?': 'no', 'comparison status': ''}}\n",
      " 88%|███████████████████████████████████▏    | 913/1038 [21:36<03:04,  1.48s/it]2023-07-08 12:02:37,945 - \u001b[1;33mWARNING\u001b[1;0m - Failed to parse output text: \"anatomical location\": \"\", \"detailed observation\": \"end of end of end of end of end of end of end of end of end of end of end of end of end of end of end of end of end of end of end of end of end of end of end of end of end of end of end of end of end of end of end of end of end of end of end of end of end of end of end of end of end of end of end of end of end of end of end of, for fact: end of ETT overlies close to midline, i: 457470, idx: 457445\n",
      "2023-07-08 12:02:37,945 - \u001b[1;33mWARNING\u001b[1;0m - Exception: 'NoneType' object has no attribute 'group'\n",
      " 89%|███████████████████████████████████▍    | 919/1038 [21:44<02:49,  1.43s/it]2023-07-08 12:02:46,256 - \u001b[1;32mINFO\u001b[1;0m - Processed 460001 facts\n",
      "2023-07-08 12:02:46,256 - \u001b[1;32mINFO\u001b[1;0m - Example extracted metadata:\n",
      "2023-07-08 12:02:46,256 - \u001b[1;32mINFO\u001b[1;0m - {'fact': 'nodule may be osseous', 'metadata': {'anatomical location': '', 'detailed observation': 'nodule may be osseous', 'short observation': 'nodule', 'category': 'anatomical finding', 'health status': 'ambiguous', 'prev_study_comparison?': 'no', 'comparison status': ''}}\n",
      " 89%|███████████████████████████████████▌    | 923/1038 [21:50<02:44,  1.43s/it]2023-07-08 12:02:50,477 - \u001b[1;33mWARNING\u001b[1;0m - Failed to parse output text: \"anatomical location\": \"\", \"detailed observation\": \"probable internal end of end of end of end of end of end of end of end of end of end of end of end of end of end of end of end of end of end of end of end of end of end of end of end of end of end of end of end of end of end of end of end of end of end of end of end of end of end of end of end of end of end of end of end of end of, for fact: probable internal end of ETT is very high, i: 461618, idx: 461592\n",
      "2023-07-08 12:02:50,478 - \u001b[1;33mWARNING\u001b[1;0m - Exception: 'NoneType' object has no attribute 'group'\n",
      " 89%|███████████████████████████████████▊    | 929/1038 [21:58<02:33,  1.41s/it]2023-07-08 12:03:00,176 - \u001b[1;32mINFO\u001b[1;0m - Processed 465001 facts\n",
      "2023-07-08 12:03:00,176 - \u001b[1;32mINFO\u001b[1;0m - Example extracted metadata:\n",
      "2023-07-08 12:03:00,176 - \u001b[1;32mINFO\u001b[1;0m - {'fact': 'lower portion of the NG tube difficult to trace on the current film', 'metadata': {'anatomical location': 'lower portion of the NG tube', 'detailed observation': 'difficult to trace on the current film', 'short observation': 'difficult to trace', 'category': 'technical assessment', 'health status': 'unknown', 'prev_study_comparison?': 'no', 'comparison status': ''}}\n",
      " 90%|████████████████████████████████████▏   | 939/1038 [22:12<02:19,  1.41s/it]2023-07-08 12:03:14,516 - \u001b[1;32mINFO\u001b[1;0m - Processed 470001 facts\n",
      "2023-07-08 12:03:14,516 - \u001b[1;32mINFO\u001b[1;0m - Example extracted metadata:\n",
      "2023-07-08 12:03:14,516 - \u001b[1;32mINFO\u001b[1;0m - {'fact': 'left pleural effusion occupying approximately half of the left hemi thorax', 'metadata': {'anatomical location': 'left hemi thorax', 'detailed observation': 'pleural effusion occupying approximately half of the left hemi thorax', 'short observation': 'pleural effusion', 'category': 'anatomical finding', 'health status': 'abnormal', 'prev_study_comparison?': 'no', 'comparison status': ''}}\n",
      " 91%|████████████████████████████████████▌   | 949/1038 [22:26<02:08,  1.45s/it]2023-07-08 12:03:29,010 - \u001b[1;32mINFO\u001b[1;0m - Processed 475001 facts\n",
      "2023-07-08 12:03:29,010 - \u001b[1;32mINFO\u001b[1;0m - Example extracted metadata:\n",
      "2023-07-08 12:03:29,011 - \u001b[1;32mINFO\u001b[1;0m - {'fact': 'visible device over the stomach', 'metadata': {'anatomical location': 'stomach', 'detailed observation': 'visible device over the stomach', 'short observation': 'visible device', 'category': 'device', 'health status': 'unknown', 'prev_study_comparison?': 'no', 'comparison status': ''}}\n",
      " 92%|████████████████████████████████████▉   | 959/1038 [22:41<01:52,  1.43s/it]2023-07-08 12:03:43,188 - \u001b[1;32mINFO\u001b[1;0m - Processed 480001 facts\n",
      "2023-07-08 12:03:43,188 - \u001b[1;32mINFO\u001b[1;0m - Example extracted metadata:\n",
      "2023-07-08 12:03:43,188 - \u001b[1;32mINFO\u001b[1;0m - {'fact': 'overall reduced lung volumes', 'metadata': {'anatomical location': 'lung', 'detailed observation': 'overall reduced lung volumes', 'short observation': 'reduced lung volumes', 'category': 'anatomical finding', 'health status': 'abnormal', 'prev_study_comparison?': 'no', 'comparison status': ''}}\n",
      " 93%|█████████████████████████████████████▎  | 969/1038 [22:54<01:34,  1.37s/it]2023-07-08 12:03:56,638 - \u001b[1;32mINFO\u001b[1;0m - Processed 485001 facts\n",
      "2023-07-08 12:03:56,638 - \u001b[1;32mINFO\u001b[1;0m - Example extracted metadata:\n",
      "2023-07-08 12:03:56,638 - \u001b[1;32mINFO\u001b[1;0m - {'fact': 'small to moderate right pleural effusion', 'metadata': {'anatomical location': 'right', 'detailed observation': 'small to moderate pleural effusion', 'short observation': 'pleural effusion', 'category': 'anatomical finding', 'health status': 'abnormal', 'prev_study_comparison?': 'no', 'comparison status': ''}}\n",
      " 94%|█████████████████████████████████████▋  | 979/1038 [23:09<01:25,  1.45s/it]2023-07-08 12:04:11,467 - \u001b[1;32mINFO\u001b[1;0m - Processed 490001 facts\n",
      "2023-07-08 12:04:11,467 - \u001b[1;32mINFO\u001b[1;0m - Example extracted metadata:\n",
      "2023-07-08 12:04:11,467 - \u001b[1;32mINFO\u001b[1;0m - {'fact': 'no complication after pacemaker placement', 'metadata': {'anatomical location': '', 'detailed observation': 'no complication after pacemaker placement', 'short observation': 'no complication after pacemaker placement', 'category': 'device', 'health status': 'normal', 'prev_study_comparison?': 'no', 'comparison status': ''}}\n",
      " 95%|██████████████████████████████████████  | 989/1038 [23:23<01:09,  1.41s/it]2023-07-08 12:04:25,344 - \u001b[1;32mINFO\u001b[1;0m - Processed 495001 facts\n",
      "2023-07-08 12:04:25,344 - \u001b[1;32mINFO\u001b[1;0m - Example extracted metadata:\n",
      "2023-07-08 12:04:25,344 - \u001b[1;32mINFO\u001b[1;0m - {'fact': 'stable bilateral lower lung volumes', 'metadata': {'anatomical location': 'bilateral lower lung volumes', 'detailed observation': 'stable bilateral lower lung volumes', 'short observation': 'stable lower lung volumes', 'category': 'anatomical finding', 'health status': 'normal', 'prev_study_comparison?': 'yes', 'comparison status': 'resolved'}}\n"
     ]
    },
    {
     "name": "stdout",
     "output_type": "stream",
     "text": [
      " 96%|██████████████████████████████████████▍ | 999/1038 [23:37<00:55,  1.43s/it]2023-07-08 12:04:39,704 - \u001b[1;32mINFO\u001b[1;0m - Processed 500001 facts\n",
      "2023-07-08 12:04:39,704 - \u001b[1;32mINFO\u001b[1;0m - Example extracted metadata:\n",
      "2023-07-08 12:04:39,704 - \u001b[1;32mINFO\u001b[1;0m - {'fact': 'interval additional improvement in interstitial pulmonary edema', 'metadata': {'anatomical location': '', 'detailed observation': 'interval additional improvement in interstitial pulmonary edema', 'short observation': 'improvement in interstitial pulmonary edema', 'category': 'anatomical finding', 'health status': 'abnormal', 'prev_study_comparison?': 'yes', 'comparison status': 'improved'}}\n",
      " 97%|█████████████████████████████████████▉ | 1009/1038 [23:51<00:40,  1.39s/it]2023-07-08 12:04:54,064 - \u001b[1;32mINFO\u001b[1;0m - Processed 505001 facts\n",
      "2023-07-08 12:04:54,064 - \u001b[1;32mINFO\u001b[1;0m - Example extracted metadata:\n",
      "2023-07-08 12:04:54,064 - \u001b[1;32mINFO\u001b[1;0m - {'fact': 'collapse of the remaining right middle lobe', 'metadata': {'anatomical location': 'right middle lobe', 'detailed observation': 'collapse of the remaining right middle lobe', 'short observation': 'collapse of right middle lobe', 'category': 'anatomical finding', 'health status': 'abnormal', 'prev_study_comparison?': 'no', 'comparison status': ''}}\n",
      " 98%|██████████████████████████████████████▎| 1019/1038 [24:06<00:26,  1.40s/it]2023-07-08 12:05:08,219 - \u001b[1;32mINFO\u001b[1;0m - Processed 510001 facts\n",
      "2023-07-08 12:05:08,219 - \u001b[1;32mINFO\u001b[1;0m - Example extracted metadata:\n",
      "2023-07-08 12:05:08,219 - \u001b[1;32mINFO\u001b[1;0m - {'fact': 'crowding of bronchovascular structures at the right lung base', 'metadata': {'anatomical location': 'right lung base', 'detailed observation': 'crowding of bronchovascular structures', 'short observation': 'crowding of bronchovascular structures', 'category': 'anatomical finding', 'health status': 'abnormal', 'prev_study_comparison?': 'no', 'comparison status': ''}}\n",
      " 99%|██████████████████████████████████████▌| 1025/1038 [24:14<00:18,  1.42s/it]2023-07-08 12:05:16,799 - \u001b[1;33mWARNING\u001b[1;0m - Failed to parse output text: \"anatomical location\": \"\", \"detailed observation\": \"increased septal thickening (Kerley B lines), \"short observation\": \"increased septal thickening\", \"category\": \"anatomical finding\", \"health status\": \"abnormal\", \"prev_study_comparison?\": \"no\", \"comparison status\": \"\", for fact: increased septal thickening (Kerley B lines),, i: 513388, idx: 513361\n",
      "2023-07-08 12:05:16,799 - \u001b[1;33mWARNING\u001b[1;0m - Exception: 'NoneType' object has no attribute 'group'\n",
      " 99%|██████████████████████████████████████▋| 1029/1038 [24:20<00:13,  1.48s/it]2023-07-08 12:05:22,903 - \u001b[1;32mINFO\u001b[1;0m - Processed 515001 facts\n",
      "2023-07-08 12:05:22,903 - \u001b[1;32mINFO\u001b[1;0m - Example extracted metadata:\n",
      "2023-07-08 12:05:22,903 - \u001b[1;32mINFO\u001b[1;0m - {'fact': 'disappearance of right-sided pleural effusion', 'metadata': {'anatomical location': 'right', 'detailed observation': 'disappearance of right-sided pleural effusion', 'short observation': 'disappearance of pleural effusion', 'category': 'anatomical finding', 'health status': 'abnormal', 'prev_study_comparison?': 'yes', 'comparison status': 'resolved'}}\n",
      "100%|███████████████████████████████████████| 1038/1038 [24:33<00:00,  1.42s/it]\n",
      "2023-07-08 12:05:32,722 - \u001b[1;33mWARNING\u001b[1;0m - Failed to parse 28 facts\n",
      "2023-07-08 12:05:32,722 - \u001b[1;32mINFO\u001b[1;0m - Successfully processed 518822 facts\n",
      "2023-07-08 12:05:32,722 - \u001b[1;32mINFO\u001b[1;0m - Example extracted metadata:\n",
      "2023-07-08 12:05:32,723 - \u001b[1;32mINFO\u001b[1;0m - {'fact': 'long-standing calcified granuloma in the right lower lobe', 'metadata': {'anatomical location': 'right lower lobe', 'detailed observation': 'long-standing calcified granuloma', 'short observation': 'calcified granuloma', 'category': 'anatomical finding', 'health status': 'unknown', 'prev_study_comparison?': 'no', 'comparison status': ''}}\n",
      "2023-07-08 12:05:32,723 - \u001b[1;32mINFO\u001b[1;0m - Saving extracted metadata to /home/pamessina/medvqa-workspace/cache/mimiccxr/huggingface/extracted_metadata_Seq2Seq(t5-small)_200_1_20230708_120532.jsonl\n",
      "2023-07-08 12:05:37,392 - \u001b[1;32mINFO\u001b[1;0m - Saving unparsed facts to /home/pamessina/medvqa-workspace/cache/mimiccxr/huggingface/unparsed_facts_Seq2Seq(t5-small)_200_1_20230708_120532.jsonl\n",
      "2023-07-08 12:05:37,393 - \u001b[1;32mINFO\u001b[1;0m - DONE\n"
     ]
    }
   ],
   "source": [
    "!python ../../scripts/mimiccxr/extract_metadata_from_facts_with_transformer.py \\\n",
    "    --preprocessed_facts_to_skip_filepaths \\\n",
    "        \"/home/pamessina/medvqa-workspace/cache/mimiccxr/openai/gpt-3.5-turbo-0613_parsed_facts__v2.jsonl\" \\\n",
    "        \"/home/pamessina/medvqa-workspace/cache/mimiccxr/openai/gpt-3.5-turbo-0613_parsed_facts__v2_offset=20000.jsonl\" \\\n",
    "        \"/home/pamessina/medvqa-workspace/cache/mimiccxr/openai/gpt-3.5-turbo-0613_parsed_facts__v2_offset=40000_uniform.jsonl\" \\\n",
    "    --extracted_facts_jsonl_filepath \\\n",
    "        \"/home/pamessina/medvqa-workspace/cache/mimiccxr/integrated_sentence_facts(58655550,49843061).jsonl\" \\\n",
    "    --logging_level \"INFO\" \\\n",
    "    --checkpoint_folder_path \\\n",
    "        \"/mnt/data/pamessina/workspaces/medvqa-workspace/models/seq2seq/20230707_215744_fact2metadata(gpt-3.5-..ts__v2;gpt-3.5-..=20000;gpt-3.5-..niform)_Seq2Seq(t5-small)\" \\\n",
    "    --batch_size 500 \\\n",
    "    --num_beams 1 \\\n",
    "    --max_length 200 \\\n",
    "    --num_workers 4"
   ]
  },
  {
   "cell_type": "code",
   "execution_count": 153,
   "id": "4f12da2a",
   "metadata": {
    "scrolled": true
   },
   "outputs": [
    {
     "name": "stdout",
     "output_type": "stream",
     "text": [
      "2023-07-12 13:32:52,152 - \u001b[1;32mINFO\u001b[1;0m - Loading preprocessed facts to skip from /home/pamessina/medvqa-workspace/cache/mimiccxr/openai/gpt-3.5-turbo-0613_parsed_facts__v2.jsonl\n",
      "2023-07-12 13:32:52,344 - \u001b[1;32mINFO\u001b[1;0m - Loaded 19979 facts to skip\n",
      "2023-07-12 13:32:52,356 - \u001b[1;32mINFO\u001b[1;0m - Total number of facts to skip: 19979\n",
      "2023-07-12 13:32:52,356 - \u001b[1;32mINFO\u001b[1;0m - Loading preprocessed facts to skip from /home/pamessina/medvqa-workspace/cache/mimiccxr/openai/gpt-3.5-turbo-0613_parsed_facts__v2_offset=20000.jsonl\n",
      "2023-07-12 13:32:52,509 - \u001b[1;32mINFO\u001b[1;0m - Loaded 19948 facts to skip\n",
      "2023-07-12 13:32:52,521 - \u001b[1;32mINFO\u001b[1;0m - Total number of facts to skip: 39927\n",
      "2023-07-12 13:32:52,522 - \u001b[1;32mINFO\u001b[1;0m - Loading preprocessed facts to skip from /home/pamessina/medvqa-workspace/cache/mimiccxr/openai/gpt-3.5-turbo-0613_parsed_facts__v2_offset=40000_uniform.jsonl\n",
      "2023-07-12 13:32:52,729 - \u001b[1;32mINFO\u001b[1;0m - Loaded 19984 facts to skip\n",
      "2023-07-12 13:32:52,742 - \u001b[1;32mINFO\u001b[1;0m - Total number of facts to skip: 59911\n",
      "2023-07-12 13:32:52,742 - \u001b[1;32mINFO\u001b[1;0m - Loading preprocessed facts to skip from /home/pamessina/medvqa-workspace/cache/mimiccxr/huggingface/extracted_metadata_Seq2Seq(t5-small)_200_1_20230708_120532.jsonl\n",
      "2023-07-12 13:32:57,297 - \u001b[1;32mINFO\u001b[1;0m - Loaded 518822 facts to skip\n",
      "2023-07-12 13:32:57,592 - \u001b[1;32mINFO\u001b[1;0m - Total number of facts to skip: 578733\n",
      "2023-07-12 13:32:57,592 - \u001b[1;32mINFO\u001b[1;0m - Loading facts from /home/pamessina/medvqa-workspace/cache/mimiccxr/integrated_sentence_facts(58655550,49840759).jsonl\n",
      "2023-07-12 13:33:03,686 - \u001b[1;32mINFO\u001b[1;0m - Loaded 677694 sentences with extracted facts from /home/pamessina/medvqa-workspace/cache/mimiccxr/integrated_sentence_facts(58655550,49840759).jsonl\n",
      "2023-07-12 13:33:04,425 - \u001b[1;32mINFO\u001b[1;0m - Found 1 facts to parse\n",
      "2023-07-12 13:33:04,425 - \u001b[1;32mINFO\u001b[1;0m - Example facts to parse:\n",
      "2023-07-12 13:33:04,425 - \u001b[1;32mINFO\u001b[1;0m - 0: increased degree of\n",
      "metadata loaded from /mnt/data/pamessina/workspaces/medvqa-workspace/models/seq2seq/20230707_215744_fact2metadata(gpt-3.5-..ts__v2;gpt-3.5-..=20000;gpt-3.5-..niform)_Seq2Seq(t5-small)/metadata.json\n",
      "2023-07-12 13:33:04,482 - \u001b[1;32mINFO\u001b[1;0m - Creating Seq2SeqModel\n",
      "Seq2Seq model:\n",
      "  model_name: t5-small\n",
      "2023-07-12 13:33:10,147 - \u001b[1;32mINFO\u001b[1;0m - Loading model weights from /mnt/data/pamessina/workspaces/medvqa-workspace/models/seq2seq/20230707_215744_fact2metadata(gpt-3.5-..ts__v2;gpt-3.5-..=20000;gpt-3.5-..niform)_Seq2Seq(t5-small)\n",
      "checkpoint_names = ['checkpoint_51_s2s_loss=0.9648.pt']\n",
      "2023-07-12 13:33:10,147 - \u001b[1;32mINFO\u001b[1;0m - Loading model weights from /mnt/data/pamessina/workspaces/medvqa-workspace/models/seq2seq/20230707_215744_fact2metadata(gpt-3.5-..ts__v2;gpt-3.5-..=20000;gpt-3.5-..niform)_Seq2Seq(t5-small)/checkpoint_51_s2s_loss=0.9648.pt\n",
      "2023-07-12 13:33:10,553 - \u001b[1;32mINFO\u001b[1;0m - Creating tokenizer\n",
      "2023-07-12 13:33:10,824 - \u001b[1;32mINFO\u001b[1;0m - Creating dataset and dataloader\n",
      "2023-07-12 13:33:10,824 - \u001b[1;32mINFO\u001b[1;0m - Running inference\n",
      "  0%|                                                     | 0/1 [00:00<?, ?it/s]2023-07-12 13:33:14,147 - \u001b[1;32mINFO\u001b[1;0m - Processed 1 facts\n",
      "2023-07-12 13:33:14,147 - \u001b[1;32mINFO\u001b[1;0m - Example extracted metadata:\n",
      "2023-07-12 13:33:14,147 - \u001b[1;32mINFO\u001b[1;0m - {'fact': 'increased degree of', 'metadata': {'anatomical location': '', 'detailed observation': 'increased degree of pleural effusion', 'short observation': 'increased pleural effusion', 'category': 'anatomical finding', 'health status': 'abnormal', 'prev_study_comparison?': 'no', 'comparison status': ''}}\n",
      "100%|█████████████████████████████████████████████| 1/1 [00:03<00:00,  3.40s/it]\n",
      "2023-07-12 13:33:14,232 - \u001b[1;32mINFO\u001b[1;0m - Successfully processed 1 facts\n",
      "2023-07-12 13:33:14,232 - \u001b[1;32mINFO\u001b[1;0m - Example extracted metadata:\n",
      "2023-07-12 13:33:14,232 - \u001b[1;32mINFO\u001b[1;0m - {'fact': 'increased degree of', 'metadata': {'anatomical location': '', 'detailed observation': 'increased degree of pleural effusion', 'short observation': 'increased pleural effusion', 'category': 'anatomical finding', 'health status': 'abnormal', 'prev_study_comparison?': 'no', 'comparison status': ''}}\n",
      "2023-07-12 13:33:14,232 - \u001b[1;32mINFO\u001b[1;0m - Saving extracted metadata to /home/pamessina/medvqa-workspace/cache/mimiccxr/huggingface/extracted_metadata_Seq2Seq(t5-small)_200_1_20230712_133314.jsonl\n",
      "2023-07-12 13:33:14,232 - \u001b[1;32mINFO\u001b[1;0m - DONE\n"
     ]
    }
   ],
   "source": [
    "!python ../../scripts/mimiccxr/extract_metadata_from_facts_with_transformer.py \\\n",
    "    --preprocessed_facts_to_skip_filepaths \\\n",
    "        \"/home/pamessina/medvqa-workspace/cache/mimiccxr/openai/gpt-3.5-turbo-0613_parsed_facts__v2.jsonl\" \\\n",
    "        \"/home/pamessina/medvqa-workspace/cache/mimiccxr/openai/gpt-3.5-turbo-0613_parsed_facts__v2_offset=20000.jsonl\" \\\n",
    "        \"/home/pamessina/medvqa-workspace/cache/mimiccxr/openai/gpt-3.5-turbo-0613_parsed_facts__v2_offset=40000_uniform.jsonl\" \\\n",
    "        \"/home/pamessina/medvqa-workspace/cache/mimiccxr/huggingface/extracted_metadata_Seq2Seq(t5-small)_200_1_20230708_120532.jsonl\" \\\n",
    "    --extracted_facts_jsonl_filepath \\\n",
    "        \"/home/pamessina/medvqa-workspace/cache/mimiccxr/integrated_sentence_facts(58655550,49840759).jsonl\" \\\n",
    "    --logging_level \"INFO\" \\\n",
    "    --checkpoint_folder_path \\\n",
    "        \"/mnt/data/pamessina/workspaces/medvqa-workspace/models/seq2seq/20230707_215744_fact2metadata(gpt-3.5-..ts__v2;gpt-3.5-..=20000;gpt-3.5-..niform)_Seq2Seq(t5-small)\" \\\n",
    "    --batch_size 500 \\\n",
    "    --num_beams 1 \\\n",
    "    --max_length 200 \\\n",
    "    --num_workers 4"
   ]
  },
  {
   "cell_type": "code",
   "execution_count": 24,
   "id": "56af0386",
   "metadata": {
    "scrolled": true
   },
   "outputs": [
    {
     "name": "stdout",
     "output_type": "stream",
     "text": [
      "2023-09-09 15:16:07,370 - \u001b[1;32mINFO\u001b[1;0m - Loading preprocessed facts to skip from /home/pamessina/medvqa-workspace/cache/mimiccxr/openai/gpt-3.5-turbo-0613_parsed_facts__v2.jsonl\n",
      "2023-09-09 15:16:07,515 - \u001b[1;32mINFO\u001b[1;0m - Loaded 19979 facts to skip\n",
      "2023-09-09 15:16:07,527 - \u001b[1;32mINFO\u001b[1;0m - Total number of facts to skip: 19979\n",
      "2023-09-09 15:16:07,527 - \u001b[1;32mINFO\u001b[1;0m - Loading preprocessed facts to skip from /home/pamessina/medvqa-workspace/cache/mimiccxr/openai/gpt-3.5-turbo-0613_parsed_facts__v2_offset=20000.jsonl\n",
      "2023-09-09 15:16:07,677 - \u001b[1;32mINFO\u001b[1;0m - Loaded 19948 facts to skip\n",
      "2023-09-09 15:16:07,688 - \u001b[1;32mINFO\u001b[1;0m - Total number of facts to skip: 39927\n",
      "2023-09-09 15:16:07,688 - \u001b[1;32mINFO\u001b[1;0m - Loading preprocessed facts to skip from /home/pamessina/medvqa-workspace/cache/mimiccxr/openai/gpt-3.5-turbo-0613_parsed_facts__v2_offset=40000_uniform.jsonl\n",
      "2023-09-09 15:16:07,917 - \u001b[1;32mINFO\u001b[1;0m - Loaded 19984 facts to skip\n",
      "2023-09-09 15:16:07,929 - \u001b[1;32mINFO\u001b[1;0m - Total number of facts to skip: 59911\n",
      "2023-09-09 15:16:07,929 - \u001b[1;32mINFO\u001b[1;0m - Loading facts from /home/pamessina/medvqa-workspace/cache/mimiccxr/integrated_sentence_facts(58655550,50135857).jsonl\n",
      "2023-09-09 15:16:13,002 - \u001b[1;32mINFO\u001b[1;0m - Loaded 677694 sentences with extracted facts from /home/pamessina/medvqa-workspace/cache/mimiccxr/integrated_sentence_facts(58655550,50135857).jsonl\n",
      "2023-09-09 15:16:13,878 - \u001b[1;32mINFO\u001b[1;0m - Found 535969 facts to parse\n",
      "2023-09-09 15:16:13,916 - \u001b[1;32mINFO\u001b[1;0m - Example facts to parse:\n",
      "2023-09-09 15:16:13,932 - \u001b[1;32mINFO\u001b[1;0m - 220253: no acute superimposed areas of consolidation\n",
      "2023-09-09 15:16:13,933 - \u001b[1;32mINFO\u001b[1;0m - 316041: increasing density of left infrahilar airspace opacities\n",
      "2023-09-09 15:16:13,933 - \u001b[1;32mINFO\u001b[1;0m - 55900: linear scarring within the anterior aspect of the left upper lung lobe\n",
      "2023-09-09 15:16:13,933 - \u001b[1;32mINFO\u001b[1;0m - 262454: stable stability of the very extensive bilateral parenchymal opacities\n",
      "2023-09-09 15:16:13,933 - \u001b[1;32mINFO\u001b[1;0m - 365065: prior pleural plaques\n",
      "2023-09-09 15:16:13,933 - \u001b[1;32mINFO\u001b[1;0m - 470339: decreased fluid in the right minor fissure\n",
      "2023-09-09 15:16:13,933 - \u001b[1;32mINFO\u001b[1;0m - 352685: evidence of linear atelectasis within the right mid lung\n",
      "2023-09-09 15:16:13,933 - \u001b[1;32mINFO\u001b[1;0m - 450122: skeletal structure is grossly unremarkable\n",
      "2023-09-09 15:16:13,933 - \u001b[1;32mINFO\u001b[1;0m - 77907: larger nodules\n",
      "2023-09-09 15:16:13,933 - \u001b[1;32mINFO\u001b[1;0m - 511195: scarring on the left side\n",
      "2023-09-09 15:16:13,933 - \u001b[1;32mINFO\u001b[1;0m - Example sentences to process:\n",
      "2023-09-09 15:16:13,948 - \u001b[1;32mINFO\u001b[1;0m - 351885: status post esophageal dilatation\n",
      "2023-09-09 15:16:13,948 - \u001b[1;32mINFO\u001b[1;0m - 348996: repair of lung herniation\n",
      "2023-09-09 15:16:13,948 - \u001b[1;32mINFO\u001b[1;0m - 78275: clear visualization of important structures\n",
      "2023-09-09 15:16:13,948 - \u001b[1;32mINFO\u001b[1;0m - 497413: small pleural reaction at the left lung base\n",
      "2023-09-09 15:16:13,948 - \u001b[1;32mINFO\u001b[1;0m - 480384: consolidation not changed appreciably\n",
      "2023-09-09 15:16:13,948 - \u001b[1;32mINFO\u001b[1;0m - 272677: mild mediastinal vascular engorgement\n",
      "2023-09-09 15:16:13,948 - \u001b[1;32mINFO\u001b[1;0m - 151570: osseous structures unchanged\n",
      "2023-09-09 15:16:13,948 - \u001b[1;32mINFO\u001b[1;0m - 208008: interval increase in large right-sided pleural effusion\n",
      "2023-09-09 15:16:13,948 - \u001b[1;32mINFO\u001b[1;0m - 199793: faint opacity in the right hemithorax\n",
      "2023-09-09 15:16:13,948 - \u001b[1;32mINFO\u001b[1;0m - 376330: prominent left ventricular contour posteriorly\n",
      "metadata loaded from /mnt/data/pamessina/workspaces/medvqa-workspace/models/seq2seq/20230707_215744_fact2metadata(gpt-3.5-..ts__v2;gpt-3.5-..=20000;gpt-3.5-..niform)_Seq2Seq(t5-small)/metadata.json\n",
      "2023-09-09 15:16:14,035 - \u001b[1;32mINFO\u001b[1;0m - Creating Seq2SeqModel\n",
      "Seq2Seq model:\n",
      "  model_name: t5-small\n",
      "2023-09-09 15:16:18,293 - \u001b[1;32mINFO\u001b[1;0m - Loading model weights from /mnt/data/pamessina/workspaces/medvqa-workspace/models/seq2seq/20230707_215744_fact2metadata(gpt-3.5-..ts__v2;gpt-3.5-..=20000;gpt-3.5-..niform)_Seq2Seq(t5-small)\n",
      "checkpoint_names = ['checkpoint_51_s2s_loss=0.9648.pt']\n",
      "2023-09-09 15:16:18,293 - \u001b[1;32mINFO\u001b[1;0m - Loading model weights from /mnt/data/pamessina/workspaces/medvqa-workspace/models/seq2seq/20230707_215744_fact2metadata(gpt-3.5-..ts__v2;gpt-3.5-..=20000;gpt-3.5-..niform)_Seq2Seq(t5-small)/checkpoint_51_s2s_loss=0.9648.pt\n",
      "2023-09-09 15:16:18,687 - \u001b[1;32mINFO\u001b[1;0m - Creating tokenizer\n",
      "2023-09-09 15:16:19,318 - \u001b[1;32mINFO\u001b[1;0m - Creating dataloader\n",
      "2023-09-09 15:16:19,318 - \u001b[1;32mINFO\u001b[1;0m - Running inference\n",
      "  0%|                                                   | 0/766 [00:00<?, ?it/s]2023-09-09 15:16:24,061 - \u001b[1;32mINFO\u001b[1;0m - Processed 1 sentences\n",
      "2023-09-09 15:16:24,061 - \u001b[1;32mINFO\u001b[1;0m - Example output:\n",
      "2023-09-09 15:16:24,061 - \u001b[1;32mINFO\u001b[1;0m - {'fact': 'mild distention of the esophagus from the carina to the diaphragm', 'metadata': {'anatomical location': 'esophagus from the carina to the diaphragm', 'detailed observation': 'mild distention of the esophagus from the carina to the diaphragm', 'short observation': 'mild distention of the esophagus', 'category': 'anatomical finding', 'health status': 'abnormal', 'prev_study_comparison?': 'no', 'comparison status': ''}}\n",
      "2023-09-09 15:16:24,080 - \u001b[1;33mWARNING\u001b[1;0m - Failed to process output text: \"anatomical location\": \"\", \"detailed observation\": \"prev_study_comparison?\": \"no\", \"comparison status\": \"\", for sentence: favoring atelectasis over infectious pneumonia, idx: 667\n",
      "2023-09-09 15:16:24,080 - \u001b[1;33mWARNING\u001b[1;0m - Exception: 'NoneType' object has no attribute 'group'\n",
      "  1%|▎                                          | 6/766 [00:15<27:28,  2.17s/it]2023-09-09 15:16:38,105 - \u001b[1;32mINFO\u001b[1;0m - Processed 5001 sentences\n",
      "2023-09-09 15:16:38,105 - \u001b[1;32mINFO\u001b[1;0m - Example output:\n",
      "2023-09-09 15:16:38,105 - \u001b[1;32mINFO\u001b[1;0m - {'fact': 'atelectasis within the right lung base', 'metadata': {'anatomical location': 'right lung base', 'detailed observation': 'atelectasis', 'short observation': 'atelectasis', 'category': 'anatomical finding', 'health status': 'abnormal', 'prev_study_comparison?': 'no', 'comparison status': ''}}\n",
      "  2%|▊                                         | 14/766 [00:28<22:09,  1.77s/it]2023-09-09 15:16:49,814 - \u001b[1;32mINFO\u001b[1;0m - Processed 10001 sentences\n",
      "2023-09-09 15:16:49,815 - \u001b[1;32mINFO\u001b[1;0m - Example output:\n",
      "2023-09-09 15:16:49,815 - \u001b[1;32mINFO\u001b[1;0m - {'fact': 'mild bilateral dorsal pleural effusions', 'metadata': {'anatomical location': 'bilateral dorsal', 'detailed observation': 'mild pleural effusions', 'short observation': 'mild pleural effusions', 'category': 'anatomical finding', 'health status': 'abnormal', 'prev_study_comparison?': 'no', 'comparison status': ''}}\n",
      "  3%|█                                         | 20/766 [00:39<21:53,  1.76s/it]2023-09-09 15:17:01,869 - \u001b[1;32mINFO\u001b[1;0m - Processed 15001 sentences\n",
      "2023-09-09 15:17:01,869 - \u001b[1;32mINFO\u001b[1;0m - Example output:\n",
      "2023-09-09 15:17:01,869 - \u001b[1;32mINFO\u001b[1;0m - {'fact': 'lower lung volumes in the right upper lobe', 'metadata': {'anatomical location': 'right upper lobe', 'detailed observation': 'lower lung volumes', 'short observation': 'lower lung volumes', 'category': 'anatomical finding', 'health status': 'abnormal', 'prev_study_comparison?': 'no', 'comparison status': ''}}\n",
      " 20%|████████▏                                | 154/766 [04:30<17:38,  1.73s/it]2023-09-09 15:20:52,780 - \u001b[1;33mWARNING\u001b[1;0m - Failed to process output text: \"anatomical location\": \"left posterior 4, 5, \"\", \"detailed observation\": \"chronic deformity\", \"short observation\": \"chronic deformity\", \"category\": \"anatomical finding\", \"health status\": \"abnormal\", \"prev_study_comparison?\": \"no\", \"comparison status\": \"\", for sentence: chronic deformity at left posterior 4, 5,, idx: 109181\n",
      "2023-09-09 15:20:52,781 - \u001b[1;33mWARNING\u001b[1;0m - Exception: 'NoneType' object has no attribute 'group'\n",
      " 26%|██████████▌                              | 198/766 [05:46<17:02,  1.80s/it]2023-09-09 15:22:08,955 - \u001b[1;33mWARNING\u001b[1;0m - Failed to process output text: \"anatomical location\": \"right lung\", \"detailed observation\": \"suggestion\": \"some of the lung nodules may be slightly smaller\", \"short observation\": \"lung nodules slightly smaller\", \"category\": \"anatomical finding\", \"health status\": \"ambiguous\", \"prev_study_comparison?\": \"yes\", \"comparison status\": \"smaller\", for sentence: suggestion that some of the lung nodules in the right lung may be slightly smaller, idx: 139695\n",
      "2023-09-09 15:22:08,955 - \u001b[1;33mWARNING\u001b[1;0m - Exception: 'NoneType' object has no attribute 'group'\n"
     ]
    },
    {
     "name": "stdout",
     "output_type": "stream",
     "text": [
      " 38%|███████████████▋                         | 294/766 [08:32<13:23,  1.70s/it]2023-09-09 15:24:53,477 - \u001b[1;33mWARNING\u001b[1;0m - Failed to process output text: \"anatomical location\": \"\", \"detailed observation\": \"compared to the only prior chest radiograph: \"\", \"short observation\": \"compared to prior chest radiograph\", \"category\": \"technical assessment\", \"health status\": \"unknown\", \"prev_study_comparison?\": \"yes\", \"comparison status\": \"resolved\", for sentence: compared to the only prior chest radiograph: :52, idx: 206292\n",
      "2023-09-09 15:24:53,477 - \u001b[1;33mWARNING\u001b[1;0m - Exception: 'NoneType' object has no attribute 'group'\n",
      " 57%|███████████████████████▍                 | 438/766 [12:41<09:45,  1.78s/it]2023-09-09 15:29:04,529 - \u001b[1;33mWARNING\u001b[1;0m - Failed to process output text: \"anatomical location\": \"left paravertebral stripe at the level of a previously identified mild T8 vertebral body compression deformity\", \"detailed observation\": \"new slight thickening of the left paravertebral stripe at the level of a previously identified mild T8 vertebral body compression deformity\", \"short observation\": \"slight thickening of left paravertebral stripe\", \"category\": \"anatomical, for sentence: new slight thickening of the left paravertebral stripe at the level of a previously identified mild T8 vertebral body compression deformity, idx: 307580\n",
      "2023-09-09 15:29:04,529 - \u001b[1;33mWARNING\u001b[1;0m - Exception: 'NoneType' object has no attribute 'group'\n",
      " 75%|██████████████████████████████▌          | 572/766 [16:33<05:31,  1.71s/it]2023-09-09 15:32:56,477 - \u001b[1;33mWARNING\u001b[1;0m - Failed to process output text: \"anatomical location\": \"overlying the crossing between the posterior portion of the sixth left rib and that of the anterior portion of the fourth left ribs\", \"detailed observation\": \"density overlying the crossing between the posterior portion of the sixth left rib and that of the anterior portion of the fourth left ribs\", \"short observation\": \"density overlying the crossing between the posterior portion of the sixth left rib and the anterior portion of the fourth left , for sentence: density overlying the crossing between the posterior portion of the sixth left rib and that of the anterior portion of the fourth left ribs, idx: 401394\n",
      "2023-09-09 15:32:56,477 - \u001b[1;33mWARNING\u001b[1;0m - Exception: 'NoneType' object has no attribute 'group'\n",
      " 83%|██████████████████████████████████       | 636/766 [18:23<03:56,  1.82s/it]2023-09-09 15:34:46,469 - \u001b[1;33mWARNING\u001b[1;0m - Failed to process output text: \"anatomical location\": \"midway between the upper margin of the left main bronchus and the apex of the aortic arch\", \"detailed observation\": \"tip of the intra-aortic catheter pump is midway between the upper margin of the left main bronchus and the apex of the aortic arch\", \"short observation\": \"tip of the intra-aortic catheter pump is midway between the upper margin of the left main , for sentence: tip of the intra-aortic catheter pump is midway between the upper margin of the left main bronchus and the apex of the aortic arch, idx: 446521\n",
      "2023-09-09 15:34:46,469 - \u001b[1;33mWARNING\u001b[1;0m - Exception: 'NoneType' object has no attribute 'group'\n",
      " 95%|██████████████████████████████████████▊  | 726/766 [21:00<01:12,  1.80s/it]2023-09-09 15:37:21,844 - \u001b[1;33mWARNING\u001b[1;0m - Failed to process output text: \"anatomical location\": \"cardiac silhouette\", \"detailed observation\": \"similar \"water bottle\" configuration to the cardiac silhouette\", \"short observation\": \"water bottle configuration\", \"category\": \"anatomical finding\", \"health status\": \"abnormal\", \"prev_study_comparison?\": \"no\", \"comparison status\": \"\", for sentence: similar \"water bottle\" configuration to the cardiac silhouette, idx: 508201\n",
      "2023-09-09 15:37:21,844 - \u001b[1;33mWARNING\u001b[1;0m - Exception: 'NoneType' object has no attribute 'group'\n",
      " 97%|███████████████████████████████████████▉ | 746/766 [21:35<00:34,  1.72s/it]2023-09-09 15:37:55,930 - \u001b[1;33mWARNING\u001b[1;0m - Failed to process output text: \"anatomical location\": \"left superior intercostal vein\", \"detailed observation\": \"aortic \"nipple\", \"short observation\": \"nipple\", \"category\": \"anatomical finding\", \"health status\": \"unknown\", \"prev_study_comparison?\": \"no\", \"comparison status\": \"\", for sentence: aortic \"nipple\" from traversing left superior intercostal vein, idx: 522638\n",
      "2023-09-09 15:37:55,930 - \u001b[1;33mWARNING\u001b[1;0m - Exception: 'NoneType' object has no attribute 'group'\n",
      " 99%|████████████████████████████████████████▊| 762/766 [22:03<00:07,  1.79s/it]2023-09-09 15:38:24,898 - \u001b[1;33mWARNING\u001b[1;0m - Failed to process output text: \"anatomical location\": \"T8\", \"detailed observation\": \"wedge compression fracture in T8, \"short observation\": \"wedge compression fracture\", \"category\": \"anatomical finding\", \"health status\": \"abnormal\", \"prev_study_comparison?\": \"no\", \"comparison status\": \"\", for sentence: wedge compression fracture in T8,, idx: 533443\n",
      "2023-09-09 15:38:24,898 - \u001b[1;33mWARNING\u001b[1;0m - Exception: 'NoneType' object has no attribute 'group'\n",
      "100%|█████████████████████████████████████████| 766/766 [22:10<00:00,  1.74s/it]\n",
      "2023-09-09 15:38:29,623 - \u001b[1;33mWARNING\u001b[1;0m - Failed to process 10 sentences\n",
      "2023-09-09 15:38:29,623 - \u001b[1;32mINFO\u001b[1;0m - Successfully processed 535959 sentences\n",
      "2023-09-09 15:38:29,623 - \u001b[1;32mINFO\u001b[1;0m - Example output:\n",
      "2023-09-09 15:38:29,623 - \u001b[1;32mINFO\u001b[1;0m - {'fact': 'interval placement of a right-sided Port-A-Cath terminating at the right atrium', 'metadata': {'anatomical location': 'right atrium', 'detailed observation': 'interval placement of a right-sided Port-A-Cath terminating at the right atrium', 'short observation': 'Port-A-Cath terminating at right atrium', 'category': 'device', 'health status': 'unknown', 'prev_study_comparison?': 'no', 'comparison status': ''}}\n",
      "2023-09-09 15:38:29,623 - \u001b[1;32mINFO\u001b[1;0m - Saving outputs to /home/pamessina/medvqa-workspace/cache/mimiccxr/huggingface/extracted_metadata_Seq2Seq(t5-small)_200_1_20230909_153829.jsonl\n",
      "2023-09-09 15:38:34,779 - \u001b[1;32mINFO\u001b[1;0m - Saving unprocessed sentences to /home/pamessina/medvqa-workspace/cache/mimiccxr/huggingface/extracted_metadata_Seq2Seq(t5-small)_200_1_20230909_15382.unprocessed.jsonl\n",
      "2023-09-09 15:38:34,780 - \u001b[1;32mINFO\u001b[1;0m - DONE\n"
     ]
    }
   ],
   "source": [
    "!python ../../scripts/mimiccxr/extract_metadata_from_facts_with_transformer.py \\\n",
    "--preprocessed_facts_to_skip_filepaths \\\n",
    "\"/home/pamessina/medvqa-workspace/cache/mimiccxr/openai/gpt-3.5-turbo-0613_parsed_facts__v2.jsonl\" \\\n",
    "\"/home/pamessina/medvqa-workspace/cache/mimiccxr/openai/gpt-3.5-turbo-0613_parsed_facts__v2_offset=20000.jsonl\" \\\n",
    "\"/home/pamessina/medvqa-workspace/cache/mimiccxr/openai/gpt-3.5-turbo-0613_parsed_facts__v2_offset=40000_uniform.jsonl\" \\\n",
    "--extracted_facts_jsonl_filepath \\\n",
    "\"/home/pamessina/medvqa-workspace/cache/mimiccxr/integrated_sentence_facts(58655550,50135857).jsonl\" \\\n",
    "--logging_level \"INFO\" \\\n",
    "--checkpoint_folder_path \\\n",
    "\"/mnt/data/pamessina/workspaces/medvqa-workspace/models/seq2seq/20230707_215744_fact2metadata(gpt-3.5-..ts__v2;gpt-3.5-..=20000;gpt-3.5-..niform)_Seq2Seq(t5-small)\" \\\n",
    "--batch_size 700 \\\n",
    "--num_beams 1 \\\n",
    "--max_length 200 \\\n",
    "--num_workers 4"
   ]
  },
  {
   "cell_type": "code",
   "execution_count": 25,
   "id": "e24af43d",
   "metadata": {},
   "outputs": [],
   "source": [
    "from medvqa.utils.files import load_jsonl"
   ]
  },
  {
   "cell_type": "code",
   "execution_count": 26,
   "id": "a0ae9cb0",
   "metadata": {},
   "outputs": [],
   "source": [
    "unparsed_facts = load_jsonl('/home/pamessina/medvqa-workspace/cache/mimiccxr/huggingface/extracted_metadata_Seq2Seq(t5-small)_200_1_20230909_15382.unprocessed.jsonl')"
   ]
  },
  {
   "cell_type": "code",
   "execution_count": 27,
   "id": "1d5c8d20",
   "metadata": {},
   "outputs": [
    {
     "data": {
      "text/plain": [
       "['favoring atelectasis over infectious pneumonia',\n",
       " 'chronic deformity at left posterior 4, 5,',\n",
       " 'suggestion that some of the lung nodules in the right lung may be slightly smaller',\n",
       " 'compared to the only prior chest radiograph: :52',\n",
       " 'new slight thickening of the left paravertebral stripe at the level of a previously identified mild T8 vertebral body compression deformity',\n",
       " 'density overlying the crossing between the posterior portion of the sixth left rib and that of the anterior portion of the fourth left ribs',\n",
       " 'tip of the intra-aortic catheter pump is midway between the upper margin of the left main bronchus and the apex of the aortic arch',\n",
       " 'similar \"water bottle\" configuration to the cardiac silhouette',\n",
       " 'aortic \"nipple\" from traversing left superior intercostal vein',\n",
       " 'wedge compression fracture in T8,']"
      ]
     },
     "execution_count": 27,
     "metadata": {},
     "output_type": "execute_result"
    }
   ],
   "source": [
    "unparsed_facts"
   ]
  },
  {
   "cell_type": "code",
   "execution_count": 28,
   "id": "2cfc108a",
   "metadata": {},
   "outputs": [],
   "source": [
    "metadata_from_t5 = load_jsonl('/home/pamessina/medvqa-workspace/cache/mimiccxr/huggingface/extracted_metadata_Seq2Seq(t5-small)_200_1_20230909_153829.jsonl')"
   ]
  },
  {
   "cell_type": "code",
   "execution_count": 29,
   "id": "acf7f90a",
   "metadata": {},
   "outputs": [
    {
     "data": {
      "text/plain": [
       "535959"
      ]
     },
     "execution_count": 29,
     "metadata": {},
     "output_type": "execute_result"
    }
   ],
   "source": [
    "len(metadata_from_t5)"
   ]
  },
  {
   "cell_type": "code",
   "execution_count": 31,
   "id": "1c0cd86b",
   "metadata": {},
   "outputs": [
    {
     "data": {
      "text/plain": [
       "{'fact': 'improvement in left pulmonary edema',\n",
       " 'metadata': {'anatomical location': 'left',\n",
       "  'detailed observation': 'improvement in left pulmonary edema',\n",
       "  'short observation': 'improvement in pulmonary edema',\n",
       "  'category': 'anatomical finding',\n",
       "  'health status': 'abnormal',\n",
       "  'prev_study_comparison?': 'yes',\n",
       "  'comparison status': 'improved'}}"
      ]
     },
     "execution_count": 31,
     "metadata": {},
     "output_type": "execute_result"
    }
   ],
   "source": [
    "metadata_from_t5[-2]"
   ]
  },
  {
   "cell_type": "code",
   "execution_count": 34,
   "id": "068475ae",
   "metadata": {},
   "outputs": [
    {
     "name": "stdout",
     "output_type": "stream",
     "text": [
      "Loading preprocessed reports from /mnt/data/pamessina/workspaces/medvqa-workspace/cache/mimiccxr/background_findings_and_impression_20230612_174143.json...\n",
      "Integrating sentences and facts...\n",
      "Loading extracted facts from /home/pamessina/medvqa-workspace/cache/mimiccxr/openai/gpt-4-0613_parsed_sentences__v2.jsonl...\n",
      "100%|█████████████████████████████████████| 9999/9999 [00:02<00:00, 3533.27it/s]\n",
      "Loading extracted facts from /home/pamessina/medvqa-workspace/cache/mimiccxr/openai/gpt-3.5-turbo-0613_parsed_sentences__v2.jsonl...\n",
      "100%|███████████████████████████████████| 19971/19971 [00:04<00:00, 4291.05it/s]\n",
      "Loading extracted facts from /home/pamessina/medvqa-workspace/cache/mimiccxr/openai/gpt-3.5-turbo-0613_parsed_sentences__v2(uniform).jsonl...\n",
      "100%|███████████████████████████████████| 19984/19984 [00:04<00:00, 4616.60it/s]\n",
      "Loading extracted facts from /home/pamessina/medvqa-workspace/cache/mimiccxr/openai/gpt-4-0613_facts_from_sentences(cluster-balanced,hardest).jsonl...\n",
      "100%|█████████████████████████████████████| 5000/5000 [00:01<00:00, 3033.16it/s]\n",
      "Loading extracted facts from /home/pamessina/medvqa-workspace/cache/mimiccxr/openai/gpt-3.5-turbo-0613_facts_from_sentences(cluster-balanced,hardest)_part1.jsonl...\n",
      "100%|███████████████████████████████████| 14990/14990 [00:04<00:00, 3407.56it/s]\n",
      "Loading extracted facts from /home/pamessina/medvqa-workspace/cache/mimiccxr/openai/gpt-3.5-turbo-0613_facts_from_sentences(cluster-balanced,hardest)_part2.jsonl...\n",
      "100%|███████████████████████████████████| 14991/14991 [00:04<00:00, 3404.64it/s]\n",
      "Loading extracted facts from /home/pamessina/medvqa-workspace/cache/mimiccxr/huggingface/extracted_facts_Seq2Seq(t5-small)_256_1_20230909_015524.jsonl...\n",
      "100%|█████████████████████████████████| 592759/592759 [02:05<00:00, 4709.46it/s]\n",
      "Integrating facts and metadata...\n",
      "Loading extracted metadata from /home/pamessina/medvqa-workspace/cache/mimiccxr/openai/gpt-3.5-turbo-0613_parsed_facts__v2.jsonl...\n",
      " 90%|███████████████████████████████▌   | 18033/19989 [00:08<00:00, 2248.35it/s]\u001b[31mWarning: fact \"unchanged sternal wires suggesting a\" already found with different metadata. fact2metadata[f] = {'anatomical location': '', 'detailed observation': 'unchanged sternal wires suggesting a', 'short observation': 'unchanged sternal wires', 'category': 'device', 'health status': 'unknown', 'prev_study_comparison?': 'no', 'comparison status': ''}, m = {'anatomical location': '', 'detailed observation': 'unchanged sternal wires', 'short observation': 'sternal wires', 'category': 'device', 'health status': 'normal', 'prev_study_comparison?': 'yes', 'comparison status': 'unchanged'}\u001b[0m\n",
      "100%|███████████████████████████████████| 19989/19989 [00:08<00:00, 2239.05it/s]\n",
      "Loading extracted metadata from /home/pamessina/medvqa-workspace/cache/mimiccxr/openai/gpt-3.5-turbo-0613_parsed_facts__v2_offset=20000.jsonl...\n",
      "  0%|                                                 | 0/19948 [00:00<?, ?it/s]\u001b[31mWarning: fact \"fluoro spot views obtained after radiographs\" already found with different metadata. fact2metadata[f] = {'anatomical location': '', 'detailed observation': 'fluoro spot views obtained after radiographs', 'short observation': 'fluoro spot views obtained', 'category': 'technical assessment', 'health status': 'unknown', 'prev_study_comparison?': 'no', 'comparison status': ''}, m = {'anatomical location': '', 'detailed observation': 'fluoro spot views obtained after radiographs', 'short observation': 'fluoro spot views obtained after radiographs', 'category': 'technical assessment', 'health status': 'unknown', 'prev_study_comparison?': 'no', 'comparison status': ''}\u001b[0m\n",
      "100%|███████████████████████████████████| 19948/19948 [00:09<00:00, 2191.29it/s]\n",
      "Loading extracted metadata from /home/pamessina/medvqa-workspace/cache/mimiccxr/openai/gpt-3.5-turbo-0613_parsed_facts__v2_offset=40000_uniform.jsonl...\n",
      "100%|███████████████████████████████████| 19984/19984 [00:09<00:00, 2216.72it/s]\n",
      "Loading extracted metadata from /home/pamessina/medvqa-workspace/cache/mimiccxr/huggingface/extracted_metadata_Seq2Seq(t5-small)_200_1_20230909_153829.jsonl...\n",
      "100%|█████████████████████████████████| 535959/535959 [04:02<00:00, 2207.32it/s]\n",
      "Integrating reports, facts, and metadata...\n",
      " 42%|██████████████▎                   | 96139/227835 [00:49<01:05, 1995.90it/s]\u001b[93mWarning: fact \"right base since that film\" has detailed observation but no short observation. metadata: {'anatomical location': 'right base', 'detailed observation': 'since that film', 'short observation': '', 'category': 'anatomical finding', 'health status': 'unknown', 'prev_study_comparison?': 'yes', 'comparison status': 'resolved'}\u001b[0m\n",
      " 53%|█████████████████▍               | 120335/227835 [01:01<00:53, 2013.13it/s]\u001b[93mWarning: fact \"right-sided - present\" has detailed observation but no short observation. metadata: {'anatomical location': 'right', 'detailed observation': 'present', 'short observation': '', 'category': 'anatomical finding', 'health status': 'unknown', 'prev_study_comparison?': 'no', 'comparison status': ''}\u001b[0m\n",
      " 97%|████████████████████████████████ | 221154/227835 [01:51<00:03, 1999.40it/s]\u001b[93mWarning: fact \"previously worsened since\" has detailed observation but no short observation. metadata: {'anatomical location': '', 'detailed observation': 'previously worsened', 'short observation': '', 'category': '', 'health status': '', 'prev_study_comparison?': 'yes', 'comparison status': 'worsened'}\u001b[0m\n",
      "100%|█████████████████████████████████| 227835/227835 [01:55<00:00, 1978.03it/s]\n",
      "Saving integrated sentence facts to /home/pamessina/medvqa-workspace/cache/mimiccxr/integrated_sentence_facts(58655550,50135857).jsonl\n",
      "Saving integrated fact metadata to /home/pamessina/medvqa-workspace/cache/mimiccxr/integrated_fact_metadata(595880,60579117).jsonl\n",
      "Saving integrated report facts metadata to /home/pamessina/medvqa-workspace/cache/mimiccxr/integrated_report_facts_metadata(227835,78646269).jsonl\n",
      "Done!\n"
     ]
    }
   ],
   "source": [
    "!python ../../scripts/mimiccxr/integrate_reports_facts_and_metadata.py \\\n",
    "--preprocessed_reports_filepath \\\n",
    "\"/mnt/data/pamessina/workspaces/medvqa-workspace/cache/mimiccxr/background_findings_and_impression_20230612_174143.json\" \\\n",
    "--extracted_facts_filepaths \\\n",
    "\"/home/pamessina/medvqa-workspace/cache/mimiccxr/openai/gpt-4-0613_parsed_sentences__v2.jsonl\" \\\n",
    "\"/home/pamessina/medvqa-workspace/cache/mimiccxr/openai/gpt-3.5-turbo-0613_parsed_sentences__v2.jsonl\" \\\n",
    "\"/home/pamessina/medvqa-workspace/cache/mimiccxr/openai/gpt-3.5-turbo-0613_parsed_sentences__v2(uniform).jsonl\" \\\n",
    "\"/home/pamessina/medvqa-workspace/cache/mimiccxr/openai/gpt-4-0613_facts_from_sentences(cluster-balanced,hardest).jsonl\"\\\n",
    "\"/home/pamessina/medvqa-workspace/cache/mimiccxr/openai/gpt-3.5-turbo-0613_facts_from_sentences(cluster-balanced,hardest)_part1.jsonl\" \\\n",
    "\"/home/pamessina/medvqa-workspace/cache/mimiccxr/openai/gpt-3.5-turbo-0613_facts_from_sentences(cluster-balanced,hardest)_part2.jsonl\" \\\n",
    "\"/home/pamessina/medvqa-workspace/cache/mimiccxr/huggingface/extracted_facts_Seq2Seq(t5-small)_256_1_20230909_015524.jsonl\" \\\n",
    "--fact_extraction_methods \\\n",
    "\"gpt-4-0613\" \\\n",
    "\"gpt-3.5-turbo-0613\" \\\n",
    "\"gpt-3.5-turbo-0613\" \\\n",
    "\"gpt-4-0613\" \\\n",
    "\"gpt-3.5-turbo-0613\" \\\n",
    "\"gpt-3.5-turbo-0613\" \\\n",
    "\"t5-small-finetuned\" \\\n",
    "--extracted_metadata_filepaths \\\n",
    "\"/home/pamessina/medvqa-workspace/cache/mimiccxr/openai/gpt-3.5-turbo-0613_parsed_facts__v2.jsonl\" \\\n",
    "\"/home/pamessina/medvqa-workspace/cache/mimiccxr/openai/gpt-3.5-turbo-0613_parsed_facts__v2_offset=20000.jsonl\" \\\n",
    "\"/home/pamessina/medvqa-workspace/cache/mimiccxr/openai/gpt-3.5-turbo-0613_parsed_facts__v2_offset=40000_uniform.jsonl\" \\\n",
    "\"/home/pamessina/medvqa-workspace/cache/mimiccxr/huggingface/extracted_metadata_Seq2Seq(t5-small)_200_1_20230909_153829.jsonl\" \\\n",
    "--metadata_extraction_methods \\\n",
    "\"gpt-3.5-turbo-0613\" \\\n",
    "\"gpt-3.5-turbo-0613\" \\\n",
    "\"gpt-3.5-turbo-0613\" \\\n",
    "\"t5-small-finetuned\""
   ]
  },
  {
   "cell_type": "code",
   "execution_count": 39,
   "id": "a00de1b1",
   "metadata": {},
   "outputs": [
    {
     "name": "stdout",
     "output_type": "stream",
     "text": [
      "-rw-rw-r-- 1 pamessina pamessina 155M Sep  9 21:42 '/home/pamessina/medvqa-workspace/cache/mimiccxr/integrated_sentence_facts(58655550,50135857).jsonl'\r\n"
     ]
    }
   ],
   "source": [
    "!ls -lh \"/home/pamessina/medvqa-workspace/cache/mimiccxr/integrated_sentence_facts(58655550,50135857).jsonl\""
   ]
  },
  {
   "cell_type": "code",
   "execution_count": 40,
   "id": "c079a69c",
   "metadata": {},
   "outputs": [],
   "source": [
    "integrated_sentence_facts = load_jsonl(\"/home/pamessina/medvqa-workspace/cache/mimiccxr/integrated_sentence_facts(58655550,50135857).jsonl\")"
   ]
  },
  {
   "cell_type": "code",
   "execution_count": 41,
   "id": "2e53a537",
   "metadata": {},
   "outputs": [
    {
     "data": {
      "text/plain": [
       "677694"
      ]
     },
     "execution_count": 41,
     "metadata": {},
     "output_type": "execute_result"
    }
   ],
   "source": [
    "len(integrated_sentence_facts)"
   ]
  },
  {
   "cell_type": "code",
   "execution_count": 44,
   "id": "7414daa4",
   "metadata": {},
   "outputs": [
    {
     "data": {
      "text/plain": [
       "{'sentence': 'Reviewing the series of chest radiographs and Chest CT scans since , the findings suggest granulomatous infection not malignancy, particularly fungal pathogens, such as coccidioidomycosis or cryptococcosis, alternatively mycobacterial infection, actinomycosis, or Nocardia.',\n",
       " 'facts': ['granulomatous infection not malignancy in the chest',\n",
       "  'fungal pathogens in the chest',\n",
       "  'coccidioidomycosis in the chest',\n",
       "  'cryptooccosis in the chest',\n",
       "  'mycobacterial infection in the chest',\n",
       "  'actinomycosis in the chest',\n",
       "  'Nocardia in the chest'],\n",
       " 'extraction_method': 'gpt-4-0613'}"
      ]
     },
     "execution_count": 44,
     "metadata": {},
     "output_type": "execute_result"
    }
   ],
   "source": [
    "integrated_sentence_facts[100]"
   ]
  },
  {
   "cell_type": "code",
   "execution_count": 53,
   "id": "ca897529",
   "metadata": {},
   "outputs": [
    {
     "name": "stdout",
     "output_type": "stream",
     "text": [
      "-rw-rw-r-- 1 pamessina pamessina 222M Sep  9 21:42 '/home/pamessina/medvqa-workspace/cache/mimiccxr/integrated_fact_metadata(595880,60579117).jsonl'\r\n"
     ]
    }
   ],
   "source": [
    "!ls -lh \"/home/pamessina/medvqa-workspace/cache/mimiccxr/integrated_fact_metadata(595880,60579117).jsonl\""
   ]
  },
  {
   "cell_type": "code",
   "execution_count": 54,
   "id": "50c559e2",
   "metadata": {},
   "outputs": [],
   "source": [
    "integrated_fact_metadata = load_jsonl(\"/home/pamessina/medvqa-workspace/cache/mimiccxr/integrated_fact_metadata(595880,60579117).jsonl\")"
   ]
  },
  {
   "cell_type": "code",
   "execution_count": 55,
   "id": "8c0f35eb",
   "metadata": {},
   "outputs": [
    {
     "data": {
      "text/plain": [
       "595880"
      ]
     },
     "execution_count": 55,
     "metadata": {},
     "output_type": "execute_result"
    }
   ],
   "source": [
    "len(integrated_fact_metadata)"
   ]
  },
  {
   "cell_type": "code",
   "execution_count": 60,
   "id": "083535fc",
   "metadata": {},
   "outputs": [
    {
     "data": {
      "text/plain": [
       "{'fact': 'nonprominent extrathoracic soft tissue structures',\n",
       " 'metadata': {'anatomical location': 'extrathoracic',\n",
       "  'detailed observation': 'nonprominent extrathoracic soft tissue structures',\n",
       "  'short observation': 'nonprominent extrathoracic soft tissue structures',\n",
       "  'category': 'anatomical finding',\n",
       "  'health status': 'normal',\n",
       "  'prev_study_comparison?': 'no',\n",
       "  'comparison status': ''},\n",
       " 'extraction_method': 'gpt-3.5-turbo-0613'}"
      ]
     },
     "execution_count": 60,
     "metadata": {},
     "output_type": "execute_result"
    }
   ],
   "source": [
    "integrated_fact_metadata[1000]"
   ]
  },
  {
   "cell_type": "code",
   "execution_count": 45,
   "id": "a1ea6438",
   "metadata": {},
   "outputs": [
    {
     "name": "stdout",
     "output_type": "stream",
     "text": [
      "-rw-rw-r-- 1 pamessina pamessina 304M Sep  9 21:42 '/home/pamessina/medvqa-workspace/cache/mimiccxr/integrated_report_facts_metadata(227835,78646269).jsonl'\r\n"
     ]
    }
   ],
   "source": [
    "!ls -lh \"/home/pamessina/medvqa-workspace/cache/mimiccxr/integrated_report_facts_metadata(227835,78646269).jsonl\""
   ]
  },
  {
   "cell_type": "code",
   "execution_count": 46,
   "id": "5e88449e",
   "metadata": {},
   "outputs": [],
   "source": [
    "integrated_report_facts_metadata = load_jsonl(\"/home/pamessina/medvqa-workspace/cache/mimiccxr/integrated_report_facts_metadata(227835,78646269).jsonl\")"
   ]
  },
  {
   "cell_type": "code",
   "execution_count": 47,
   "id": "736b5146",
   "metadata": {},
   "outputs": [
    {
     "data": {
      "text/plain": [
       "227835"
      ]
     },
     "execution_count": 47,
     "metadata": {},
     "output_type": "execute_result"
    }
   ],
   "source": [
    "len(integrated_report_facts_metadata)"
   ]
  },
  {
   "cell_type": "code",
   "execution_count": 48,
   "id": "8732c075",
   "metadata": {},
   "outputs": [
    {
     "data": {
      "text/plain": [
       "{'report_idx': 227834,\n",
       " 'background': 'indication: Chest pain.',\n",
       " 'findings': 'The cardiac silhouette size is top normal. The aorta is mildly unfolded. Hilar contours are normal. The pulmonary vascularity is normal and the lungs are clear. No pleural effusion or pneumothorax is seen. There are mild degenerative changes of the thoracic spine.',\n",
       " 'impression': 'No acute cardiopulmonary abnormality.',\n",
       " 'path': '/mnt/data/mimic-cxr/files/p19/p19216802/s51441827.txt',\n",
       " 'facts': ['cardiac silhouette size is top normal',\n",
       "  'mildly unfolded aorta',\n",
       "  'normal hilar contours',\n",
       "  'normal pulmonary vascularity',\n",
       "  'clear lungs',\n",
       "  'no pleural effusion',\n",
       "  'no pneumothorax',\n",
       "  'mild degenerative changes of the thoracic spine',\n",
       "  'no acute cardiopulmonary abnormality'],\n",
       " 'fact_based_report': 'cardiac silhouette size is top normal. mildly unfolded aorta. normal hilar contours. normal pulmonary vascularity. clear lungs. no pleural effusion. no pneumothorax. mild degenerative changes of the thoracic spine. no acute cardiopulmonary abnormality'}"
      ]
     },
     "execution_count": 48,
     "metadata": {},
     "output_type": "execute_result"
    }
   ],
   "source": [
    "integrated_report_facts_metadata[-1]"
   ]
  },
  {
   "cell_type": "code",
   "execution_count": 51,
   "id": "dc41e7f7",
   "metadata": {},
   "outputs": [],
   "source": [
    "from collections import Counter"
   ]
  },
  {
   "cell_type": "code",
   "execution_count": 61,
   "id": "070f42dd",
   "metadata": {},
   "outputs": [
    {
     "data": {
      "text/plain": [
       "Counter({'ambiguous': 37540,\n",
       "         'abnormal': 313631,\n",
       "         'unknown': 167373,\n",
       "         'normal': 77020,\n",
       "         'resolved': 5,\n",
       "         'improved': 23,\n",
       "         '': 288})"
      ]
     },
     "execution_count": 61,
     "metadata": {},
     "output_type": "execute_result"
    }
   ],
   "source": [
    "Counter(x['metadata']['health status'] for x in integrated_fact_metadata)"
   ]
  },
  {
   "cell_type": "code",
   "execution_count": 62,
   "id": "b2a41f8f",
   "metadata": {},
   "outputs": [
    {
     "data": {
      "text/plain": [
       "Counter({'no': 455080, 'yes': 140784, '': 16})"
      ]
     },
     "execution_count": 62,
     "metadata": {},
     "output_type": "execute_result"
    }
   ],
   "source": [
    "Counter(x['metadata']['prev_study_comparison?'] for x in integrated_fact_metadata)"
   ]
  },
  {
   "cell_type": "code",
   "execution_count": 63,
   "id": "d9e80d4b",
   "metadata": {},
   "outputs": [],
   "source": [
    "import numpy as np\n",
    "\n",
    "def print_pairs(name_counts, n_samples, offset=0, uniform=False):\n",
    "    pairs = list(name_counts.items())\n",
    "    pairs.sort(key=lambda x:x[1], reverse=True)\n",
    "    if uniform:\n",
    "        idxs = np.linspace(offset, len(pairs)-1, n_samples, dtype=int)\n",
    "    else:\n",
    "        idxs = range(offset, offset + n_samples)        \n",
    "    for i in idxs:\n",
    "        print(f'{pairs[i][1]}\\t{pairs[i][0]}')"
   ]
  },
  {
   "cell_type": "markdown",
   "id": "7411f12c",
   "metadata": {},
   "source": [
    "### Comparison"
   ]
  },
  {
   "cell_type": "code",
   "execution_count": 71,
   "id": "f002a4ac",
   "metadata": {},
   "outputs": [],
   "source": [
    "fact2metadata = { x['fact'] : x['metadata'] for x in integrated_fact_metadata }"
   ]
  },
  {
   "cell_type": "code",
   "execution_count": 78,
   "id": "0d5badd1",
   "metadata": {},
   "outputs": [],
   "source": [
    "def get_comparisons():\n",
    "    for x in integrated_report_facts_metadata:\n",
    "        for f in x['facts']:\n",
    "            yield fact2metadata[f]['comparison status']"
   ]
  },
  {
   "cell_type": "code",
   "execution_count": 79,
   "id": "a4d0858f",
   "metadata": {},
   "outputs": [],
   "source": [
    "comparison2count = dict(Counter(x for x in get_comparisons()))"
   ]
  },
  {
   "cell_type": "code",
   "execution_count": 80,
   "id": "04ccba33",
   "metadata": {},
   "outputs": [
    {
     "name": "stdout",
     "output_type": "stream",
     "text": [
      "2012500\t\n",
      "152268\tresolved\n",
      "56400\tunchanged\n",
      "52858\timproved\n",
      "20624\tworsened\n",
      "11654\tlarger\n",
      "8146\tstable\n",
      "7778\tnew\n",
      "2621\tsmaller\n",
      "2356\tprogression\n",
      "2355\tincreasing\n",
      "1176\tpersisted\n",
      "1169\tremained the same\n",
      "1113\tcompared to previous study\n",
      "1055\tincreased\n",
      "676\tsimilar\n",
      "623\tcontinued\n",
      "500\tnot significantly changed\n",
      "462\tdecreased\n",
      "394\tcontinued enlargement\n"
     ]
    }
   ],
   "source": [
    "print_pairs(comparison2count, 20)"
   ]
  },
  {
   "cell_type": "markdown",
   "id": "4e215f39",
   "metadata": {},
   "source": [
    "### Facts"
   ]
  },
  {
   "cell_type": "code",
   "execution_count": 74,
   "id": "772ed5c6",
   "metadata": {},
   "outputs": [],
   "source": [
    "def get_facts():\n",
    "    for x in integrated_report_facts_metadata:\n",
    "        for f in x['facts']:\n",
    "            yield f"
   ]
  },
  {
   "cell_type": "code",
   "execution_count": 75,
   "id": "241ce6c1",
   "metadata": {},
   "outputs": [],
   "source": [
    "fact2count = dict(Counter(f for f in get_facts()))"
   ]
  },
  {
   "cell_type": "code",
   "execution_count": 76,
   "id": "eaed4929",
   "metadata": {},
   "outputs": [
    {
     "data": {
      "text/plain": [
       "582693"
      ]
     },
     "execution_count": 76,
     "metadata": {},
     "output_type": "execute_result"
    }
   ],
   "source": [
    "len(fact2count)"
   ]
  },
  {
   "cell_type": "code",
   "execution_count": 77,
   "id": "f27fcad6",
   "metadata": {},
   "outputs": [
    {
     "name": "stdout",
     "output_type": "stream",
     "text": [
      "103933\tno pneumothorax\n",
      "58251\tno pleural effusion\n",
      "51762\tclear lungs\n",
      "24326\tno acute cardiopulmonary process\n",
      "21912\tno focal consolidation\n",
      "20249\tnormal heart size\n",
      "19152\tlow lung volumes\n",
      "18923\tnormal hilar contours\n",
      "16883\tnormal mediastinal contours\n",
      "16534\tno pulmonary edema\n",
      "13898\tnormal cardiomediastinal silhouette\n",
      "10856\tno pleural effusions\n",
      "10323\tlungs without focal consolidation\n",
      "9163\tno acute osseous abnormalities\n",
      "9120\tno evidence of pneumothorax\n",
      "9046\tmoderate cardiomegaly\n",
      "8462\tno effusion\n",
      "8282\tno pneumonia\n",
      "7798\tnormal cardiomediastinal contours\n",
      "6986\tcardiomediastinal silhouette within normal limits\n"
     ]
    }
   ],
   "source": [
    "print_pairs(fact2count, 20)"
   ]
  },
  {
   "cell_type": "code",
   "execution_count": 81,
   "id": "b94f2d5c",
   "metadata": {
    "scrolled": false
   },
   "outputs": [
    {
     "name": "stdout",
     "output_type": "stream",
     "text": [
      "6796\tunremarkable hilar contours\n",
      "7\tincrease in mediastinal caliber\n",
      "3\tdistribution of the opacities\n",
      "2\tinterval increase in the bilateral lower lobe infiltrates\n",
      "2\tmild enlargement of the mediastinal silhouette\n",
      "1\tabnormality seen on recent CT\n",
      "1\tslightly increased apical component of a left pneumothorax\n",
      "1\tfaint 5 mm nodular opacities adjacent to the anterior right third rib\n",
      "1\topacity in the left lower lung area\n",
      "1\tleft aspect of the cardiac silhouette not well assessed due to left basilar consolidation\n",
      "1\tfullness of days itis vein\n",
      "1\tpost left upper lobe\n",
      "1\tmultifocal infection at the base of the left lung\n",
      "1\tbasal component of the right pleural collection\n",
      "1\topacification overall stable compared to the prior exam\n",
      "1\tnew appearance from the remote prior study\n",
      "1\tpotentially small residual anteromedial pneumothorax on the left\n",
      "1\tnew opacity in the axillary region of the left lung\n",
      "1\tsurgical project over the upper abdomen in the midline\n",
      "1\tair collection in the right upper quadrant\n",
      "1\tupper abdominal drain cannot be localized on this single frontal view\n",
      "1\tpre-existing right basal pneumonia completely cleared\n",
      "1\tmild emphysema involving the biapical lung is unchanged\n",
      "1\tunchanged bilateral predominantly peripheral reticular opacities\n",
      "1\tperibronchial opacities potentially reflecting aspiration\n",
      "1\tbilateral widespread coarse reticular opacities\n",
      "1\tmitral valve annuloplasty\n",
      "1\tendotracheal tube terminates at the inferior margin of the clavicles\n",
      "1\tright axillary dual lead pacemaker present\n",
      "1\tright PICC tip remains in standard position\n"
     ]
    }
   ],
   "source": [
    "print_pairs(fact2count, 30, offset=20, uniform=True)"
   ]
  },
  {
   "cell_type": "markdown",
   "id": "6897eafa",
   "metadata": {},
   "source": [
    "### Short observations extracted from facts"
   ]
  },
  {
   "cell_type": "code",
   "execution_count": 82,
   "id": "6c380860",
   "metadata": {},
   "outputs": [],
   "source": [
    "def get_short_obs():\n",
    "    for x in integrated_report_facts_metadata:\n",
    "        for f in x['facts']:\n",
    "            yield fact2metadata[f]['short observation']"
   ]
  },
  {
   "cell_type": "code",
   "execution_count": 83,
   "id": "994170b0",
   "metadata": {},
   "outputs": [],
   "source": [
    "short2count = dict(Counter(f for f in get_short_obs()))"
   ]
  },
  {
   "cell_type": "code",
   "execution_count": 84,
   "id": "a957ceba",
   "metadata": {},
   "outputs": [
    {
     "data": {
      "text/plain": [
       "214257"
      ]
     },
     "execution_count": 84,
     "metadata": {},
     "output_type": "execute_result"
    }
   ],
   "source": [
    "len(short2count)"
   ]
  },
  {
   "cell_type": "code",
   "execution_count": 85,
   "id": "70b69ae7",
   "metadata": {},
   "outputs": [
    {
     "name": "stdout",
     "output_type": "stream",
     "text": [
      "113526\tno pneumothorax\n",
      "63729\tno pleural effusion\n",
      "55584\tatelectasis\n",
      "54207\tclear lungs\n",
      "48059\tpleural effusion\n",
      "26939\tnormal heart size\n",
      "26407\tno focal consolidation\n",
      "25649\tcardiomegaly\n",
      "25598\tno acute cardiopulmonary process\n",
      "23689\tlow lung volumes\n",
      "20957\tpleural effusions\n",
      "20685\topacity\n",
      "19911\tnormal hilar contours\n",
      "17976\tno pulmonary edema\n",
      "16976\tnormal mediastinal contours\n",
      "15603\topacities\n",
      "14826\tconsolidation\n",
      "13911\tnormal silhouette\n",
      "13254\tlateral view of the chest\n",
      "12314\tpulmonary edema\n"
     ]
    }
   ],
   "source": [
    "print_pairs(short2count, 20)"
   ]
  },
  {
   "cell_type": "code",
   "execution_count": 86,
   "id": "25766db1",
   "metadata": {},
   "outputs": [
    {
     "name": "stdout",
     "output_type": "stream",
     "text": [
      "12052\tpneumonia\n",
      "17\tMorgagni hernia\n",
      "7\tincrease in opacifications\n",
      "4\tatelectasis effusion\n",
      "3\tdistension of the colon\n",
      "2\tnodule not clearly identified\n",
      "2\tbetter assessed on the lateral view\n",
      "2\tleft pulmonary fibrosis\n",
      "2\tcurious opacification\n",
      "1\tleft subclavian catheter extends to the junction with the SVC\n",
      "1\texclusion of the left cardiophrenic angle\n",
      "1\tresidual hernia filled with stomach\n",
      "1\tslight increase in fluid accumulation\n",
      "1\trelatively high position\n",
      "1\tchest tube in right lower chest\n",
      "1\ttwo thoracostomy tubes are stable\n",
      "1\tvascular etiology more likely than lymphadenopathy\n",
      "1\tno signs of perforation\n",
      "1\tnodule over seventh right rib\n",
      "1\tatelectasis at bases\n",
      "1\tenteric catheter extending inferiorly\n",
      "1\tminimal improvement in interstitial pulmonary edema\n",
      "1\tdebris filled esophagus\n",
      "1\tcatheter near superior cavoatrial junction\n",
      "1\tunremarkable PA view\n",
      "1\tchest tube extends above aortic arch\n",
      "1\tlung mass obstructing right middle lobe bronchus\n",
      "1\texclusion of central endobronchial lesion\n",
      "1\tfree air within peritoneal space\n",
      "1\tinsufficient abnormality\n"
     ]
    }
   ],
   "source": [
    "print_pairs(short2count, 30, offset=20, uniform=True)"
   ]
  },
  {
   "cell_type": "markdown",
   "id": "a188063c",
   "metadata": {},
   "source": [
    "### Detailed observations extracted from facts"
   ]
  },
  {
   "cell_type": "code",
   "execution_count": 87,
   "id": "4037b301",
   "metadata": {},
   "outputs": [],
   "source": [
    "def get_detailed_obs():\n",
    "    for x in integrated_report_facts_metadata:\n",
    "        for f in x['facts']:\n",
    "            yield fact2metadata[f]['detailed observation']"
   ]
  },
  {
   "cell_type": "code",
   "execution_count": 88,
   "id": "d83703ec",
   "metadata": {},
   "outputs": [],
   "source": [
    "detailed2count = dict(Counter(f for f in get_detailed_obs()))"
   ]
  },
  {
   "cell_type": "code",
   "execution_count": 89,
   "id": "5e3acf85",
   "metadata": {},
   "outputs": [
    {
     "data": {
      "text/plain": [
       "431334"
      ]
     },
     "execution_count": 89,
     "metadata": {},
     "output_type": "execute_result"
    }
   ],
   "source": [
    "len(detailed2count)"
   ]
  },
  {
   "cell_type": "code",
   "execution_count": 90,
   "id": "694dd3fe",
   "metadata": {},
   "outputs": [
    {
     "name": "stdout",
     "output_type": "stream",
     "text": [
      "104848\tno pneumothorax\n",
      "58549\tno pleural effusion\n",
      "51798\tclear lungs\n",
      "31337\tatelectasis\n",
      "24341\tno acute cardiopulmonary process\n",
      "22337\tno focal consolidation\n",
      "21538\tnormal heart size\n",
      "19479\tlow lung volumes\n",
      "18932\tnormal hilar contours\n",
      "16897\tnormal mediastinal contours\n",
      "16601\tno pulmonary edema\n",
      "14946\tsmall pleural effusion\n",
      "13909\tnormal cardiomediastinal silhouette\n",
      "11007\tmoderate cardiomegaly\n",
      "10874\tno pleural effusions\n",
      "10438\twithout focal consolidation\n",
      "10021\tno evidence of pneumothorax\n",
      "9165\tno acute osseous abnormalities\n",
      "8925\tsmall pleural effusions\n",
      "8788\twithin normal limits\n"
     ]
    }
   ],
   "source": [
    "print_pairs(detailed2count, 20)"
   ]
  },
  {
   "cell_type": "code",
   "execution_count": 91,
   "id": "98f2cddd",
   "metadata": {},
   "outputs": [
    {
     "name": "stdout",
     "output_type": "stream",
     "text": [
      "8528\tno effusion\n",
      "9\tnew bibasilar atelectasis\n",
      "4\tstable lung mass\n",
      "3\tPICC line is essentially unchanged\n",
      "2\tno increase in subcutaneous emphysema\n",
      "2\tlinear densities suggestive of atelectasis\n",
      "1\tlimited evaluation of the retrosternal clear space\n",
      "1\tfeeding tube passing from the gastroesophageal junction\n",
      "1\tsmall amount of residual fluid remaining\n",
      "1\tcalcific structure may represent a calcified granuloma\n",
      "1\tno significant interval change in bilateral predominantly perihilar ill-defined airspace opacities\n",
      "1\tnasogastric drainage tube ends in the subdiaphragmatic stomach\n",
      "1\tincreased severity of perihilar opacities\n",
      "1\tslight patchy residual opacity\n",
      "1\tmildly nondilated tortuous aorta\n",
      "1\tclips reflect prior thoracic surgery\n",
      "1\tprominent changes in the left lung apex\n",
      "1\texclude the possibility of a slowly growing lung adenocarcinoma\n",
      "1\tstylet seen coursing through the tube\n",
      "1\tcomplete opacification of the left lower lobe\n",
      "1\topacity separate from the above findings\n",
      "1\tslight coarsening of the central airways\n",
      "1\tdetailive analysis with CT could be considered\n",
      "1\timproved components of pulmonary contusion\n",
      "1\tknown changes of the radiation pneumonitis are less extensive\n",
      "1\tsingle image provided\n",
      "1\textensive changes of severe emphysema\n",
      "1\tlocal recurrence\n",
      "1\tLeft IJ catheter in unchanged position\n",
      "1\tright PICC tip remains in standard position\n"
     ]
    }
   ],
   "source": [
    "print_pairs(detailed2count, 30, offset=20, uniform=True)"
   ]
  },
  {
   "cell_type": "markdown",
   "id": "8d6f5442",
   "metadata": {},
   "source": [
    "### Anatomical locations extracted from facts"
   ]
  },
  {
   "cell_type": "code",
   "execution_count": 92,
   "id": "a71fbd02",
   "metadata": {},
   "outputs": [],
   "source": [
    "def get_anatlocs():\n",
    "    for x in integrated_report_facts_metadata:\n",
    "        for f in x['facts']:\n",
    "            yield fact2metadata[f]['anatomical location']"
   ]
  },
  {
   "cell_type": "code",
   "execution_count": 93,
   "id": "0fefbb0b",
   "metadata": {},
   "outputs": [],
   "source": [
    "anatloc2count = dict(Counter(f for f in get_anatlocs()))"
   ]
  },
  {
   "cell_type": "code",
   "execution_count": 94,
   "id": "5dc21f7a",
   "metadata": {},
   "outputs": [
    {
     "data": {
      "text/plain": [
       "28469"
      ]
     },
     "execution_count": 94,
     "metadata": {},
     "output_type": "execute_result"
    }
   ],
   "source": [
    "len(anatloc2count)"
   ]
  },
  {
   "cell_type": "code",
   "execution_count": 95,
   "id": "c31781f8",
   "metadata": {},
   "outputs": [
    {
     "name": "stdout",
     "output_type": "stream",
     "text": [
      "987118\t\n",
      "119096\tlungs\n",
      "56679\tright\n",
      "55046\tleft\n",
      "38347\theart\n",
      "37088\tlung\n",
      "37015\tpulmonary\n",
      "36676\tcardiomediastinal silhouette\n",
      "35006\tcardiac silhouette\n",
      "32779\tchest\n",
      "31420\tbilateral\n",
      "26329\thilar\n",
      "26222\tmediastinal\n",
      "22616\tmediastinum\n",
      "21885\tleft lower lobe\n",
      "21555\tbibasilar\n",
      "15057\tright lung\n",
      "14610\tright lower lobe\n",
      "14118\tstomach\n",
      "14072\tcardiomediastinal\n"
     ]
    }
   ],
   "source": [
    "print_pairs(anatloc2count, 20)"
   ]
  },
  {
   "cell_type": "code",
   "execution_count": 96,
   "id": "e0b13cd0",
   "metadata": {},
   "outputs": [
    {
     "name": "stdout",
     "output_type": "stream",
     "text": [
      "13689\tleft lung\n",
      "43\tleft perihilar areas\n",
      "15\tseventh right rib\n",
      "8\tdescending thoracic aortic contour\n",
      "5\tascending portion of the thoracic aorta\n",
      "4\tright frontal view\n",
      "3\tconfluence of the brachiocephalic vein/upper SVC\n",
      "3\tsternotomy wire\n",
      "2\tsecondary basilar\n",
      "2\tadjacent to the upper abdomen\n",
      "2\tleft lateral costal pleural surface\n",
      "2\tright posterior 8th rib\n",
      "1\tanterior compartment\n",
      "1\tbilateral hemidiaphragm margins\n",
      "1\tlung base region\n",
      "1\tlower in the right base\n",
      "1\tjunction of the middle SVC\n",
      "1\tright eighth lateral arch\n",
      "1\tanterior portion of the heart\n",
      "1\tin aortic arch\n",
      "1\tmedial aspect of the lower neck\n",
      "1\tjust below the inferior aspect of the transverse arch of the aorta\n",
      "1\tsuperior pleural margins\n",
      "1\tleft linear retrocardiac region\n",
      "1\tright upper hemithorax adjacent to the port\n",
      "1\torigine of the descending thoracic aorta\n",
      "1\tmid level on both sides of the chest\n",
      "1\tleft posterior perihilar region\n",
      "1\tmediastinal border on the right\n",
      "1\tleft vagal nerve\n"
     ]
    }
   ],
   "source": [
    "print_pairs(anatloc2count, 30, offset=20, uniform=True)"
   ]
  },
  {
   "cell_type": "code",
   "execution_count": 98,
   "id": "6a4ea3e7",
   "metadata": {},
   "outputs": [
    {
     "name": "stdout",
     "output_type": "stream",
     "text": [
      "{'report_idx': 206145, 'background': 'indication: year old woman s/p tracheoplasty // interval change.', 'findings': 'Single frontal view of the chest. Persistent low lung volumes. ET tube has been removed. Vascular congestion has improved. Right chest tube remains in place. Right chest wall subcutaneous emphysema has decreased. Left lower lobe opacities have increased consistent wake atelectasis. Widened mediastinum is stable. No enlarging pneumothorax pleural effusions.', 'impression': '', 'path': '/mnt/data/mimic-cxr/files/p19/p19650702/s55181731.txt', 'facts': ['single frontal view of the chest', 'persistent low lung volumes', 'ET tube has been removed', 'improved vascular congestion', 'right chest tube remains in place', 'decreased right chest wall subcutaneous emphysema', 'increased left lower lobe opacities', 'consistent wake atelectasis', 'widened mediastinum is stable', 'no enlarging pneumothorax', 'no pleural effusions'], 'fact_based_report': 'single frontal view of the chest. persistent low lung volumes. ET tube has been removed. improved vascular congestion. right chest tube remains in place. decreased right chest wall subcutaneous emphysema. increased left lower lobe opacities. consistent wake atelectasis. widened mediastinum is stable. no enlarging pneumothorax. no pleural effusions'}\n"
     ]
    }
   ],
   "source": [
    "for x in integrated_report_facts_metadata:\n",
    "    for  y in x['facts']:\n",
    "        if y ==  'consistent wake atelectasis':\n",
    "            print(x)\n",
    "            break"
   ]
  },
  {
   "cell_type": "code",
   "execution_count": 99,
   "id": "f902cd79",
   "metadata": {},
   "outputs": [
    {
     "name": "stdout",
     "output_type": "stream",
     "text": [
      "{'fact': 'consistent wake atelectasis', 'metadata': {'anatomical location': 'atelectasis', 'detailed observation': 'consistent wake atelectasis', 'short observation': 'wake atelectasis', 'category': 'anatomical finding', 'health status': 'abnormal', 'prev_study_comparison?': 'no', 'comparison status': ''}, 'extraction_method': 'gpt-3.5-turbo-0613'}\n",
      "{'fact': 'organization in atelectasis', 'metadata': {'anatomical location': 'atelectasis', 'detailed observation': 'organization in atelectasis', 'short observation': 'organization', 'category': 'anatomical finding', 'health status': 'abnormal', 'prev_study_comparison?': 'no', 'comparison status': ''}, 'extraction_method': 'gpt-3.5-turbo-0613'}\n",
      "{'fact': 'area of atelectasis with small pleural effusion', 'metadata': {'anatomical location': 'atelectasis', 'detailed observation': 'atelectasis with small pleural effusion', 'short observation': 'atelectasis with small pleural effusion', 'category': 'anatomical finding', 'health status': 'abnormal', 'prev_study_comparison?': 'no', 'comparison status': ''}, 'extraction_method': 't5-small-finetuned'}\n",
      "{'fact': 'area of atelectasis', 'metadata': {'anatomical location': 'atelectasis', 'detailed observation': 'atelectasis', 'short observation': 'atelectasis', 'category': 'anatomical finding', 'health status': 'abnormal', 'prev_study_comparison?': 'no', 'comparison status': ''}, 'extraction_method': 't5-small-finetuned'}\n",
      "{'fact': 'area of atelectasis due to low lung volumes', 'metadata': {'anatomical location': 'atelectasis', 'detailed observation': 'atelectasis due to low lung volumes', 'short observation': 'atelectasis', 'category': 'anatomical finding', 'health status': 'abnormal', 'prev_study_comparison?': 'no', 'comparison status': ''}, 'extraction_method': 't5-small-finetuned'}\n",
      "{'fact': 'small air bronchograms in the atelectasis', 'metadata': {'anatomical location': 'atelectasis', 'detailed observation': 'small air bronchograms', 'short observation': 'small air bronchograms', 'category': 'anatomical finding', 'health status': 'abnormal', 'prev_study_comparison?': 'no', 'comparison status': ''}, 'extraction_method': 't5-small-finetuned'}\n",
      "{'fact': 'potentially infectious process at the atelectasis', 'metadata': {'anatomical location': 'atelectasis', 'detailed observation': 'potentially infectious process at the atelectasis', 'short observation': 'potentially infectious process', 'category': 'anatomical finding', 'health status': 'ambiguous', 'prev_study_comparison?': 'no', 'comparison status': ''}, 'extraction_method': 't5-small-finetuned'}\n",
      "{'fact': 'atelectatic changes at the atelectasis', 'metadata': {'anatomical location': 'atelectasis', 'detailed observation': 'atelectatic changes at the atelectasis', 'short observation': 'atelectatic changes', 'category': 'anatomical finding', 'health status': 'abnormal', 'prev_study_comparison?': 'no', 'comparison status': ''}, 'extraction_method': 't5-small-finetuned'}\n",
      "{'fact': 'potentially fluid within a atelectasis', 'metadata': {'anatomical location': 'atelectasis', 'detailed observation': 'potentially fluid within a atelectasis', 'short observation': 'fluid within atelectasis', 'category': 'anatomical finding', 'health status': 'ambiguous', 'prev_study_comparison?': 'no', 'comparison status': ''}, 'extraction_method': 't5-small-finetuned'}\n",
      "{'fact': 'opacity in the area of atelectasis', 'metadata': {'anatomical location': 'atelectasis', 'detailed observation': 'opacity in the area of atelectasis', 'short observation': 'opacity in atelectasis', 'category': 'anatomical finding', 'health status': 'abnormal', 'prev_study_comparison?': 'no', 'comparison status': ''}, 'extraction_method': 't5-small-finetuned'}\n",
      "{'fact': 'improving aeration in an area of atelectasis', 'metadata': {'anatomical location': 'atelectasis', 'detailed observation': 'improving aeration in an area of atelectasis', 'short observation': 'improving aeration', 'category': 'anatomical finding', 'health status': 'abnormal', 'prev_study_comparison?': 'yes', 'comparison status': 'improved'}, 'extraction_method': 't5-small-finetuned'}\n",
      "{'fact': 'deposition of edema in a region of atelectasis', 'metadata': {'anatomical location': 'atelectasis', 'detailed observation': 'deposition of edema in a region of atelectasis', 'short observation': 'deposition of edema', 'category': 'anatomical finding', 'health status': 'abnormal', 'prev_study_comparison?': 'no', 'comparison status': ''}, 'extraction_method': 't5-small-finetuned'}\n"
     ]
    }
   ],
   "source": [
    "for x in integrated_fact_metadata:\n",
    "    if x['metadata']['anatomical location'] == 'atelectasis':\n",
    "        print(x)"
   ]
  }
 ],
 "metadata": {
  "kernelspec": {
   "display_name": "venv2",
   "language": "python",
   "name": "venv2"
  },
  "language_info": {
   "codemirror_mode": {
    "name": "ipython",
    "version": 3
   },
   "file_extension": ".py",
   "mimetype": "text/x-python",
   "name": "python",
   "nbconvert_exporter": "python",
   "pygments_lexer": "ipython3",
   "version": "3.10.10"
  }
 },
 "nbformat": 4,
 "nbformat_minor": 5
}
