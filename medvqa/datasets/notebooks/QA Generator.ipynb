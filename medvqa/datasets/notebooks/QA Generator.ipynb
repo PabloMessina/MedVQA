{
 "cells": [
  {
   "cell_type": "code",
   "execution_count": 1,
   "metadata": {},
   "outputs": [],
   "source": [
    "import math\n",
    "import re\n",
    "import nltk\n",
    "import random\n",
    "import json\n",
    "import os\n",
    "from nltk.corpus import stopwords\n",
    "from nltk.tokenize import sent_tokenize\n",
    "from source.data_preprocessing_utils import extract_findings_plus_impression_MIMIC_CXR, report_paths_generator_MIMIC_CXR\n",
    "from pathlib import Path\n",
    "from tqdm import tqdm"
   ]
  },
  {
   "cell_type": "code",
   "execution_count": 2,
   "metadata": {},
   "outputs": [],
   "source": [
    "REGULAR_EXPRESSIONS_FOLDER = './regular_expressions/'"
   ]
  },
  {
   "cell_type": "code",
   "execution_count": 3,
   "metadata": {},
   "outputs": [
    {
     "name": "stderr",
     "output_type": "stream",
     "text": [
      "[nltk_data] Downloading package stopwords to\n",
      "[nltk_data]     /home/pamessina/nltk_data...\n",
      "[nltk_data]   Package stopwords is already up-to-date!\n"
     ]
    },
    {
     "data": {
      "text/plain": [
       "True"
      ]
     },
     "execution_count": 3,
     "metadata": {},
     "output_type": "execute_result"
    }
   ],
   "source": [
    "nltk.download('stopwords')"
   ]
  },
  {
   "cell_type": "code",
   "execution_count": 4,
   "metadata": {},
   "outputs": [],
   "source": [
    "english_stopwords = set(stopwords.words('english'))"
   ]
  },
  {
   "cell_type": "code",
   "execution_count": 5,
   "metadata": {},
   "outputs": [],
   "source": [
    "with open('./mimic-cxr_findings+impression.txt') as f:\n",
    "    mimic_reports = f.readlines()"
   ]
  },
  {
   "cell_type": "code",
   "execution_count": 6,
   "metadata": {},
   "outputs": [],
   "source": [
    "with open('./ui-x-ray_findings+impression.txt') as f:\n",
    "    iuxray_reports = f.readlines()"
   ]
  },
  {
   "cell_type": "code",
   "execution_count": 7,
   "metadata": {},
   "outputs": [
    {
     "data": {
      "text/plain": [
       "227416"
      ]
     },
     "execution_count": 7,
     "metadata": {},
     "output_type": "execute_result"
    }
   ],
   "source": [
    "len(mimic_reports)"
   ]
  },
  {
   "cell_type": "code",
   "execution_count": 8,
   "metadata": {},
   "outputs": [
    {
     "data": {
      "text/plain": [
       "3927"
      ]
     },
     "execution_count": 8,
     "metadata": {},
     "output_type": "execute_result"
    }
   ],
   "source": [
    "len(iuxray_reports)"
   ]
  },
  {
   "cell_type": "code",
   "execution_count": 9,
   "metadata": {},
   "outputs": [],
   "source": [
    "class QuestionRule:\n",
    "    def __init__(self, question, regex):\n",
    "        self.question = question\n",
    "        self.regex = regex\n",
    "    def match(self, sentence):\n",
    "        return self.regex.search(sentence)"
   ]
  },
  {
   "cell_type": "code",
   "execution_count": 10,
   "metadata": {},
   "outputs": [],
   "source": [
    "class QuestionAnswerGenerator:\n",
    "    def __init__(self, debug=False):\n",
    "        self.reload(debug)\n",
    "    \n",
    "    def reload(self, debug=False):\n",
    "        # load question specifications\n",
    "        with open(os.path.join(REGULAR_EXPRESSIONS_FOLDER, 'questions.json')) as f:\n",
    "            questions = json.load(f)\n",
    "        \n",
    "        if debug: print(questions)\n",
    "        \n",
    "        # load question rules\n",
    "        self.question_rules = []\n",
    "        for item in questions:\n",
    "            regex = self.get_regex_from_files(item['files'])\n",
    "            self.question_rules.append(QuestionRule(item['question'], regex))\n",
    "            \n",
    "        self.questions = [rule.question for rule in self.question_rules]\n",
    "        self.questions.sort()\n",
    "        assert (len(self.questions) == len(set(self.questions)))\n",
    "        self.question2index = {q:i for i,q in enumerate(self.questions)}\n",
    "        \n",
    "        # load invalid patterns\n",
    "        self.invalid_regex = self.get_regex_from_files(['invalid_sentence_patterns.txt'])\n",
    "        \n",
    "        # load unknown tokens patterns\n",
    "        self.unknown_regex = self.get_regex_from_files(['unknown_token_patterns.txt'])\n",
    "    \n",
    "    def get_regex_from_files(self, files):\n",
    "        pattern = ''\n",
    "        for file in files:\n",
    "            with open(os.path.join(REGULAR_EXPRESSIONS_FOLDER, file)) as f:\n",
    "                for line in f.readlines():\n",
    "                    if len(pattern) > 0:\n",
    "                        pattern += '|'\n",
    "                    pattern += f'({line.strip()})'\n",
    "        return re.compile(pattern, re.IGNORECASE)\n",
    "    \n",
    "    def get_matched_questions(self, sentence):\n",
    "        for rule in self.question_rules:\n",
    "            if rule.match(sentence):\n",
    "                yield rule.question\n",
    "\n",
    "    def generate_qa_pairs(self, text, debug=False):        \n",
    "        \n",
    "        # remove duplicates while keeping original order\n",
    "        sentences = sent_tokenize(text)\n",
    "        sentences_uniq = set()\n",
    "        tmp = []\n",
    "        for s in sentences:\n",
    "            if s in sentences_uniq: continue\n",
    "            tmp.append(s)\n",
    "            sentences_uniq.add(s)\n",
    "        sentences = tmp\n",
    "        assert len(sentences_uniq) == len(sentences)\n",
    "        \n",
    "        qa_pairs = dict()        \n",
    "        for s in sentences:\n",
    "            match = False\n",
    "            valid = False\n",
    "            if self.valid_sentence(s):\n",
    "                valid = True\n",
    "                for q in self.get_matched_questions(s):\n",
    "                    try:\n",
    "                        answers = qa_pairs[q]\n",
    "                    except KeyError:\n",
    "                        answers = qa_pairs[q] = []\n",
    "                    answers.append(s)\n",
    "                    match = True\n",
    "            if debug and not match:\n",
    "                if valid:\n",
    "                    print(f'** not captured:', s)\n",
    "                else:\n",
    "                    print(f'------- invalid:', s)\n",
    "        return qa_pairs\n",
    "    \n",
    "    def generate_qa_pairs_compact_version(self, text):        \n",
    "        \n",
    "        # remove duplicates while keeping original order\n",
    "        sentences = sent_tokenize(text)\n",
    "        sentences_uniq = set()\n",
    "        tmp = []\n",
    "        for s in sentences:\n",
    "            if s in sentences_uniq:\n",
    "                continue\n",
    "            tmp.append(s)\n",
    "            sentences_uniq.add(s)\n",
    "        sentences = tmp\n",
    "        assert len(sentences_uniq) == len(sentences)\n",
    "        \n",
    "        output = dict(sentences=sentences, invalid=[], unmatched=[], matched=[], qa=dict())\n",
    "        for i, s in enumerate(sentences):\n",
    "            match = False\n",
    "            valid = False\n",
    "            if self.valid_sentence(s):\n",
    "                valid = True\n",
    "                for q in self.get_matched_questions(s):\n",
    "                    q_idx = self.question2index[q]\n",
    "                    try:                        \n",
    "                        answers = output['qa'][str(q_idx)]\n",
    "                    except KeyError:\n",
    "                        answers = output['qa'][str(q_idx)] = []\n",
    "                    answers.append(i)\n",
    "                    match = True\n",
    "            if match:\n",
    "                output['matched'].append(i)\n",
    "            elif valid:\n",
    "                output['unmatched'].append(i)\n",
    "            else:\n",
    "                output['invalid'].append(i)\n",
    "        return output\n",
    "    \n",
    "    def get_unmatched_sentences(self, text):\n",
    "        sentences = sent_tokenize(text)\n",
    "        for s in sentences:            \n",
    "            if self.valid_sentence(s):\n",
    "                unmatched = True\n",
    "                for rule in self.question_rules:\n",
    "                    if rule.match(s):\n",
    "                        unmatched = False\n",
    "                        break\n",
    "                if unmatched:\n",
    "                    yield s\n",
    "    \n",
    "    def remove_almost_duplicate_sentences(self, qa_pairs, debug=False):\n",
    "        clean = dict()\n",
    "        for k, v in qa_pairs.items():\n",
    "            vv = []\n",
    "            for i in range(len(v)):\n",
    "                dup = False\n",
    "                for j in range(len(v)):\n",
    "                    if i == j: continue\n",
    "                    if self.almost_same_sentence(v[i], v[j], i, j):\n",
    "                        dup = True\n",
    "                        if debug:\n",
    "                            print('dups detected:')\n",
    "                            print('s1:', v[i])\n",
    "                            print('s2:', v[j])\n",
    "                        break\n",
    "                if not dup:\n",
    "                    vv.append(v[i])\n",
    "            assert len(vv) > 0\n",
    "            clean[k] = vv\n",
    "        return clean\n",
    "    \n",
    "    def almost_same_sentence(self, s1, s2, i1, i2):\n",
    "        if len(s1) == len(s2):\n",
    "            return s1 == s2 and i1 < i2\n",
    "        if len(s1) > len(s2):\n",
    "            return False\n",
    "        if s1 in s2:\n",
    "            return True\n",
    "        if  len(s1) * 10 < 7 * len(s2):\n",
    "            return False\n",
    "        count = 0\n",
    "        found = 0\n",
    "        s2 = set(w for w in re.split(r\",?\\s+\", s2) if w not in english_stopwords)\n",
    "        for w in re.split(r\",?\\s+\", s1):\n",
    "            if w in english_stopwords:\n",
    "                continue\n",
    "            if w in s2:\n",
    "                found += 1\n",
    "            count += 1\n",
    "        return found * 10 > 7 * count\n",
    "    \n",
    "    def valid_sentence(self, s):\n",
    "        if self.invalid_regex.search(s): return False\n",
    "        unknown_len = sum(len(x.group()) for x in self.unknown_regex.finditer(s))\n",
    "        if unknown_len * 10 >= len(s): return False\n",
    "        return True\n",
    "    \n",
    "    def count_unmatches(self, text, min_sent_len = 15, debug=False):\n",
    "        sentences = sent_tokenize(text)\n",
    "        count = 0\n",
    "        for s in sentences:\n",
    "            if self.valid_sentence(s):\n",
    "                if len(s) < min_sent_len:\n",
    "                    continue                \n",
    "                match = False\n",
    "                for rule in self.question_rules:\n",
    "                    if rule.match(s):\n",
    "                        match = True\n",
    "                        break\n",
    "                if not match:\n",
    "                    count += 1\n",
    "                    if debug:\n",
    "                        print(s)\n",
    "        return count\n",
    "    \n",
    "    def search_by_unmatched(self, k, reports, n_samples):\n",
    "        indices = random.sample(range(len(reports)), n_samples)\n",
    "        pairs = [(self.count_unmatches(reports[idx]), idx) for idx in indices]\n",
    "        pairs.sort(reverse=True)\n",
    "        return pairs[k]"
   ]
  },
  {
   "cell_type": "code",
   "execution_count": 11,
   "metadata": {},
   "outputs": [],
   "source": [
    "def print_qa_pairs(qa_pairs):\n",
    "    for k, v in qa_pairs.items():\n",
    "        print('------------')\n",
    "        print('Q:', k)\n",
    "        for s in v:\n",
    "            print('A:',s)"
   ]
  },
  {
   "cell_type": "code",
   "execution_count": 12,
   "metadata": {
    "scrolled": false
   },
   "outputs": [],
   "source": [
    "qa_generator = QuestionAnswerGenerator()"
   ]
  },
  {
   "cell_type": "code",
   "execution_count": 13,
   "metadata": {},
   "outputs": [
    {
     "data": {
      "text/plain": [
       "(84,\n",
       " ['what about COPD?',\n",
       "  'what about adenopathy?',\n",
       "  'what about air collections?',\n",
       "  'what about air space disease?',\n",
       "  'what about air-fluid level?',\n",
       "  'what about airways?',\n",
       "  'what about aspiration?',\n",
       "  'what about atelectasis?',\n",
       "  'what about azygos lobe?',\n",
       "  'what about azygos vein?',\n",
       "  'what about blurring?',\n",
       "  'what about bones?',\n",
       "  'what about bowel obstruction and loops?',\n",
       "  'what about bronchiectasis?',\n",
       "  'what about bronchogram?',\n",
       "  'what about bronchovascular crowding?',\n",
       "  'what about bullae and blebs?',\n",
       "  'what about calcification?',\n",
       "  'what about cancer or tumor?',\n",
       "  'what about cardiomegaly?',\n",
       "  'what about cholelithiasis?',\n",
       "  'what about congestive heart failure CHF?',\n",
       "  'what about consolidation?',\n",
       "  'what about contrast?',\n",
       "  'what about densities?',\n",
       "  'what about edema?',\n",
       "  'what about emphysema?',\n",
       "  'what about fissures?',\n",
       "  'what about fluid overload?',\n",
       "  'what about fractures?',\n",
       "  'what about free air?',\n",
       "  'what about gas distension?',\n",
       "  'what about granumola?',\n",
       "  'what about haze?',\n",
       "  'what about hernias?',\n",
       "  'what about infiltrate?',\n",
       "  'what about interstitial lung disease?',\n",
       "  'what about kerley lines?',\n",
       "  'what about lesions?',\n",
       "  'what about lucencies?',\n",
       "  'what about lung parenchyma?',\n",
       "  'what about lymph nodes?',\n",
       "  'what about markings?',\n",
       "  'what about masses?',\n",
       "  'what about nodules?',\n",
       "  'what about opacities?',\n",
       "  'what about ossification?',\n",
       "  'what about peribronchial cuffing?',\n",
       "  'what about pleural space?',\n",
       "  'what about pneumomediastinum?',\n",
       "  'what about pneumonia?',\n",
       "  'what about pneumoperitoneum?',\n",
       "  'what about pneumothorax?',\n",
       "  'what about prominence?',\n",
       "  'what about pulmonary hila?',\n",
       "  'what about pulmonary vascularity?',\n",
       "  'what about sagittal chest?',\n",
       "  'what about scarring?',\n",
       "  'what about soft tissue?',\n",
       "  'what about sulci?',\n",
       "  'what about support devices and foreign bodies?',\n",
       "  'what about surgery?',\n",
       "  'what about the apical zone?',\n",
       "  'what about the bowel?',\n",
       "  'what about the bronchus?',\n",
       "  'what about the cardiac silhouette?',\n",
       "  'what about the carina?',\n",
       "  'what about the colon?',\n",
       "  'what about the diaphragm?',\n",
       "  'what about the esophagus?',\n",
       "  'what about the heart?',\n",
       "  'what about the liver?',\n",
       "  'what about the lungs?',\n",
       "  'what about the mediastinum?',\n",
       "  'what about the ribs?',\n",
       "  'what about the stomach?',\n",
       "  'what about the thyroid?',\n",
       "  'what about the trachea?',\n",
       "  'what about thoracic aorta?',\n",
       "  'what about tortuosity?',\n",
       "  'what about trauma?',\n",
       "  'what about tubes and lines?',\n",
       "  'what about vena cava?',\n",
       "  'what abscess and cavitation?'])"
      ]
     },
     "execution_count": 13,
     "metadata": {},
     "output_type": "execute_result"
    }
   ],
   "source": [
    "len(qa_generator.questions), qa_generator.questions"
   ]
  },
  {
   "cell_type": "code",
   "execution_count": 62,
   "metadata": {},
   "outputs": [
    {
     "data": {
      "text/plain": [
       "(2, 208226)"
      ]
     },
     "execution_count": 62,
     "metadata": {},
     "output_type": "execute_result"
    }
   ],
   "source": [
    "tmp = qa_generator.search_by_unmatched(0, mimic_reports, 100)\n",
    "x = tmp[1]\n",
    "tmp"
   ]
  },
  {
   "cell_type": "code",
   "execution_count": 73,
   "metadata": {},
   "outputs": [
    {
     "data": {
      "text/plain": [
       "{'sentences': ['Markedly rotated and lordotic positioning, which makes comparison to the prior film challenging.',\n",
       "  'Inspiratory volumes are slightly low.',\n",
       "  'An ET tube is present, the tip lies approximately 3.7 cm above the carina.',\n",
       "  'An NG tube is present, the tip extends beneath the diaphragm and overlies the gastric fundus.',\n",
       "  'A right IJ sheath is seen.',\n",
       "  'Allowing for rotation, this probably similar to the prior study.',\n",
       "  'No pneumothorax is detected.',\n",
       "  'The cardiac silhouette is quite difficult to assess due to extreme differences in positioning.',\n",
       "  'Likely vascular plethora and scattered parenchymal opacities.',\n",
       "  'On the right, the appearance is probably similar to the prior study.',\n",
       "  'No gross right effusion.',\n",
       "  'On left, comparison to the prior study is quite difficult due to differences in positioning.',\n",
       "  'No definite interval change on the left.',\n",
       "  'No gross left effusion.',\n",
       "  'Right and left hemidiaphragms remain well defined.',\n",
       "  'Lines and tubes as described.',\n",
       "  'No pneumothorax detected.',\n",
       "  'Comparison to the prior film is quite limited due to differences in position and technique.',\n",
       "  'No definite worsening.',\n",
       "  'Possible slight improvement in the left upper zone.',\n",
       "  'Hemidiaphragms remain well-defined.',\n",
       "  'No gross effusion detected on either side.'],\n",
       " 'invalid': [0, 5, 7, 9, 11, 12, 17],\n",
       " 'unmatched': [18, 19],\n",
       " 'matched': [1, 2, 3, 4, 6, 8, 10, 13, 14, 15, 16, 20, 21],\n",
       " 'qa': {'72': [1, 8],\n",
       "  '81': [2, 3, 4, 15],\n",
       "  '60': [2, 3, 4, 15],\n",
       "  '66': [2],\n",
       "  '68': [3, 14, 20],\n",
       "  '75': [3],\n",
       "  '52': [6, 16],\n",
       "  '55': [8],\n",
       "  '45': [8],\n",
       "  '40': [8],\n",
       "  '48': [10, 13, 21]}}"
      ]
     },
     "execution_count": 73,
     "metadata": {},
     "output_type": "execute_result"
    }
   ],
   "source": [
    "qa_generator.generate_qa_pairs_compact_version(mimic_reports[x])"
   ]
  },
  {
   "cell_type": "code",
   "execution_count": 74,
   "metadata": {
    "scrolled": false
   },
   "outputs": [
    {
     "name": "stdout",
     "output_type": "stream",
     "text": [
      "Markedly rotated and lordotic positioning, which makes comparison to the prior film challenging. Inspiratory volumes are slightly low. An ET tube is present, the tip lies approximately 3.7 cm above the carina. An NG tube is present, the tip extends beneath the diaphragm and overlies the gastric fundus. A right IJ sheath is seen. Allowing for rotation, this probably similar to the prior study. No pneumothorax is detected. The cardiac silhouette is quite difficult to assess due to extreme differences in positioning. Likely vascular plethora and scattered parenchymal opacities. On the right, the appearance is probably similar to the prior study. No gross right effusion. On left, comparison to the prior study is quite difficult due to differences in positioning. No definite interval change on the left. No gross left effusion. Right and left hemidiaphragms remain well defined. Lines and tubes as described. No pneumothorax detected. Likely vascular plethora and scattered parenchymal opacities. Comparison to the prior film is quite limited due to differences in position and technique. No definite worsening. Possible slight improvement in the left upper zone. Hemidiaphragms remain well-defined. No gross effusion detected on either side.\n",
      "\n",
      "------- invalid: Markedly rotated and lordotic positioning, which makes comparison to the prior film challenging.\n",
      "------- invalid: Allowing for rotation, this probably similar to the prior study.\n",
      "------- invalid: The cardiac silhouette is quite difficult to assess due to extreme differences in positioning.\n",
      "------- invalid: On the right, the appearance is probably similar to the prior study.\n",
      "------- invalid: On left, comparison to the prior study is quite difficult due to differences in positioning.\n",
      "------- invalid: No definite interval change on the left.\n",
      "------- invalid: Comparison to the prior film is quite limited due to differences in position and technique.\n",
      "** not captured: No definite worsening.\n",
      "** not captured: Possible slight improvement in the left upper zone.\n",
      "------------\n",
      "Q: what about the lungs?\n",
      "A: Inspiratory volumes are slightly low.\n",
      "A: Likely vascular plethora and scattered parenchymal opacities.\n",
      "------------\n",
      "Q: what about tubes and lines?\n",
      "A: An ET tube is present, the tip lies approximately 3.7 cm above the carina.\n",
      "A: An NG tube is present, the tip extends beneath the diaphragm and overlies the gastric fundus.\n",
      "A: A right IJ sheath is seen.\n",
      "A: Lines and tubes as described.\n",
      "------------\n",
      "Q: what about support devices and foreign bodies?\n",
      "A: An ET tube is present, the tip lies approximately 3.7 cm above the carina.\n",
      "A: An NG tube is present, the tip extends beneath the diaphragm and overlies the gastric fundus.\n",
      "A: A right IJ sheath is seen.\n",
      "A: Lines and tubes as described.\n",
      "------------\n",
      "Q: what about the carina?\n",
      "A: An ET tube is present, the tip lies approximately 3.7 cm above the carina.\n",
      "------------\n",
      "Q: what about the diaphragm?\n",
      "A: An NG tube is present, the tip extends beneath the diaphragm and overlies the gastric fundus.\n",
      "A: Right and left hemidiaphragms remain well defined.\n",
      "A: Hemidiaphragms remain well-defined.\n",
      "------------\n",
      "Q: what about the stomach?\n",
      "A: An NG tube is present, the tip extends beneath the diaphragm and overlies the gastric fundus.\n",
      "------------\n",
      "Q: what about pneumothorax?\n",
      "A: No pneumothorax is detected.\n",
      "A: No pneumothorax detected.\n",
      "------------\n",
      "Q: what about pulmonary vascularity?\n",
      "A: Likely vascular plethora and scattered parenchymal opacities.\n",
      "------------\n",
      "Q: what about opacities?\n",
      "A: Likely vascular plethora and scattered parenchymal opacities.\n",
      "------------\n",
      "Q: what about lung parenchyma?\n",
      "A: Likely vascular plethora and scattered parenchymal opacities.\n",
      "------------\n",
      "Q: what about pleural space?\n",
      "A: No gross right effusion.\n",
      "A: No gross left effusion.\n",
      "A: No gross effusion detected on either side.\n"
     ]
    }
   ],
   "source": [
    "# _report = \"\"\n",
    "# print(_report)\n",
    "# _qa_pairs = qa_generator.generate_question_answer_pairs(_report)\n",
    "print(mimic_reports[x])\n",
    "_qa_pairs = qa_generator.generate_qa_pairs(mimic_reports[x], debug=True)\n",
    "# _qa_pairs = qa_generator.remove_almost_duplicate_sentences(_qa_pairs)\n",
    "print_qa_pairs(_qa_pairs)"
   ]
  },
  {
   "cell_type": "code",
   "execution_count": 75,
   "metadata": {},
   "outputs": [],
   "source": [
    "def get_informative_unmatched_sentences(corpus, qa_generator, stopwords, n_samples = 2000):\n",
    "    \n",
    "    indices = range(len(corpus))\n",
    "    if len(corpus) > n_samples:\n",
    "        indices = random.sample(indices, n_samples)\n",
    "        \n",
    "    unmatched_sentences = set()\n",
    "    word2freq = dict()\n",
    "    \n",
    "    for i in tqdm(indices):\n",
    "        for s in qa_generator.get_unmatched_sentences(corpus[i]):\n",
    "            unmatched_sentences.add(s)\n",
    "            for w in re.split(r\",?\\s+\", s):\n",
    "                word2freq[w] = word2freq.get(w, 0) + 1\n",
    "    \n",
    "    max_freq = max(word2freq.values())    \n",
    "    unmatched_sentences = list(unmatched_sentences)\n",
    "    \n",
    "    def score(s):\n",
    "        score_max = 0\n",
    "        score_sum = 0\n",
    "        cnt = 0\n",
    "        for w in re.split(r\",?\\s+\", s):\n",
    "            if w not in stopwords:\n",
    "                tmp = max_freq - word2freq.get(w, 0)\n",
    "                score_max = max(tmp, score_max)\n",
    "                score_sum += tmp\n",
    "                cnt += 1\n",
    "        return score_max * 0.4 + (score_sum / math.sqrt(max(cnt,1))) * 0.6\n",
    "    \n",
    "    unmatched_sentences.sort(key=score, reverse=True)\n",
    "    return unmatched_sentences"
   ]
  },
  {
   "cell_type": "code",
   "execution_count": 15,
   "metadata": {},
   "outputs": [
    {
     "name": "stderr",
     "output_type": "stream",
     "text": [
      "100%|██████████| 1000/1000 [00:12<00:00, 82.63it/s]\n"
     ]
    }
   ],
   "source": [
    "unmatched_sentences = get_informative_unmatched_sentences(mimic_reports, qa_generator, english_stopwords, n_samples=1000)"
   ]
  },
  {
   "cell_type": "code",
   "execution_count": 17,
   "metadata": {},
   "outputs": [
    {
     "data": {
      "text/plain": [
       "137"
      ]
     },
     "execution_count": 17,
     "metadata": {},
     "output_type": "execute_result"
    }
   ],
   "source": [
    "len(unmatched_sentences)"
   ]
  },
  {
   "cell_type": "code",
   "execution_count": 18,
   "metadata": {},
   "outputs": [],
   "source": [
    "qa_generator.reload()"
   ]
  },
  {
   "cell_type": "code",
   "execution_count": 19,
   "metadata": {},
   "outputs": [
    {
     "name": "stdout",
     "output_type": "stream",
     "text": [
      "** not captured: Right lower paratacheal mediastinal buldge likely represents a combination of lymphadopathy and the azygous/right superior intercostal veins.\n",
      "** not captured: It would be very useful to obtain conventional radiographs, particularly the lateral view to re-evaluate this area.\n",
      "** not captured: These are of uncertain etiology, but given peripheral location, if real, raise the possibility of emboli.\n",
      "** not captured: Chronic pulmonary changes are seen in both the right mid to lower and left lower zones.\n",
      "** not captured: On the right, it developed between , improved later that day, and has recurred.\n",
      "** not captured: On the lateral view left arm obscures the posterior chest.\n",
      "** not captured: A battery pack overlies the left lower hemi thorax.\n",
      "** not captured: Relative paucity of gas seen in the visualized upper portion of the abdomen.\n",
      "** not captured: If further clarification is needed, oblique views would be useful.\n",
      "** not captured: This is nonspecific and could be due to entities such as fibrous dysplasia.\n",
      "** not captured: This study was made available for my interpretation, today, .\n",
      "** not captured: I would strongly recommend conventional chest radiographs.\n",
      "** not captured: Chronic change at the right mid to lower hemi thorax.\n",
      "** not captured: The lateral aspect of the left hemithorax was not included on the film.\n",
      "** not captured: Investigation of that diagnosis may be pertinent to her medical management.\n",
      "** not captured: At least, there is certainly no new pulmonary collapse.\n",
      "** not captured: , the patient has taken a slightly better inspiration.\n",
      "** not captured: Of note, this appearance is much more pronounced than on .\n",
      "** not captured: No evidence of acute cardiopulmonary process based on low inspiratory effort on the frontal exam.\n",
      "** not captured: Many findings 0.2 improved cardiac function.\n",
      "** not captured: Chest findings are grossly within normal limits.\n",
      "** not captured: As compared to , no relevant change is seen.\n",
      "** not captured: There is however no evidence of local contour abnormalities.\n",
      "** not captured: Multifocal infection is a possibility, but less likely.\n",
      "** not captured: It cannot be definitely traced further.\n",
      "** not captured: Findings were communicated to and acknowledged by at by , M.D.\n",
      "** not captured: Overall, there are no findings to explain patient's symptoms.\n",
      "** not captured: Otherwise, there is a relative paucity of abdominal gas.\n",
      "** not captured: Chest pain status post ablation.\n",
      "** not captured: This is not definitely confirmed on the lateral projection.\n",
      "** not captured: Unchanged appearance of the left hemi thorax.\n",
      "** not captured: Otherwise similar radiographic appearance of the chest.\n",
      "** not captured: There is no appreciable change from the study of .\n",
      "** not captured: Chest findings within normal limits.\n",
      "** not captured: Overall, no evidence of interval development of acute abnormality is seen.\n",
      "** not captured: The left hemi thorax is unremarkable.\n",
      "** not captured: The visualized upper abdomen is unremarkable.\n",
      "** not captured: In this is still in this is okay silhouette on this is that Previously noted skin of been removed.\n",
      "** not captured: Improving miliary BCG infection.\n"
     ]
    }
   ],
   "source": [
    "print_qa_pairs(qa_generator.generate_question_answer_pairs(' '.join(unmatched_sentences[0:40])))"
   ]
  },
  {
   "cell_type": "code",
   "execution_count": 14,
   "metadata": {},
   "outputs": [],
   "source": [
    "def generate_VQA_dataset_from_IU_XRay(qa_generator):\n",
    "    with open('/mnt/workspace/iu-x-ray/dataset/reports/reports.json') as f:\n",
    "        original_reports = json.load(f)\n",
    "        \n",
    "    qa_adapted_reports = []\n",
    "    \n",
    "    for x in tqdm(original_reports.values()):\n",
    "        findings = x['findings']\n",
    "        impression = x['impression']\n",
    "        if findings or impression:\n",
    "            if findings and not impression:\n",
    "                text = findings\n",
    "            elif not findings and impression:\n",
    "                text = impression\n",
    "            else:\n",
    "                if findings[-1] == '.':\n",
    "                    text = findings + ' ' + impression\n",
    "                else:\n",
    "                    text = findings + '. ' + impression\n",
    "            qa_info = qa_generator.generate_qa_pairs_compact_version(text)\n",
    "            qa_info['filename'] = x['filename']\n",
    "            qa_adapted_reports.append(qa_info)\n",
    "    \n",
    "    output = {\n",
    "        'questions': qa_generator.questions,\n",
    "        'reports': qa_adapted_reports,\n",
    "    }\n",
    "    \n",
    "    return output"
   ]
  },
  {
   "cell_type": "code",
   "execution_count": 36,
   "metadata": {},
   "outputs": [],
   "source": [
    "def generate_VQA_dataset_from_MIMIC_CXR(qa_generator):    \n",
    "    \n",
    "    qa_adapted_reports = [None] * 300000\n",
    "    \n",
    "    for i, filepath in tqdm(enumerate(report_paths_generator_MIMIC_CXR())):\n",
    "        text = extract_findings_plus_impression_MIMIC_CXR(filepath.as_posix())\n",
    "        qa_info = qa_generator.generate_qa_pairs_compact_version(text)\n",
    "        qa_info['filepath'] = str(filepath)\n",
    "        qa_adapted_reports[i] = qa_info\n",
    "    \n",
    "    qa_adapted_reports = qa_adapted_reports[:i+1]\n",
    "    \n",
    "    output = {\n",
    "        'questions': qa_generator.questions,\n",
    "        'reports': qa_adapted_reports,\n",
    "    }\n",
    "        \n",
    "    return output"
   ]
  },
  {
   "cell_type": "code",
   "execution_count": 84,
   "metadata": {},
   "outputs": [
    {
     "name": "stderr",
     "output_type": "stream",
     "text": [
      "100%|██████████| 3955/3955 [00:58<00:00, 67.15it/s]\n"
     ]
    }
   ],
   "source": [
    "vqa_dataset_iuxray = generate_VQA_dataset_from_IU_XRay(qa_generator)"
   ]
  },
  {
   "cell_type": "code",
   "execution_count": 87,
   "metadata": {},
   "outputs": [],
   "source": [
    "with open('/mnt/workspace/iu-x-ray/dataset/reports/qa_adapted_reports.json', 'w') as f:\n",
    "    json.dump(vqa_dataset_iuxray, f)"
   ]
  },
  {
   "cell_type": "code",
   "execution_count": 37,
   "metadata": {},
   "outputs": [
    {
     "name": "stderr",
     "output_type": "stream",
     "text": [
      "20573it [09:24, 31.59it/s]IOPub message rate exceeded.\n",
      "The notebook server will temporarily stop sending output\n",
      "to the client in order to avoid crashing it.\n",
      "To change this limit, set the config variable\n",
      "`--NotebookApp.iopub_msg_rate_limit`.\n",
      "\n",
      "Current values:\n",
      "NotebookApp.iopub_msg_rate_limit=1000.0 (msgs/sec)\n",
      "NotebookApp.rate_limit_window=3.0 (secs)\n",
      "\n",
      "94237it [46:56, 43.74it/s]IOPub message rate exceeded.\n",
      "The notebook server will temporarily stop sending output\n",
      "to the client in order to avoid crashing it.\n",
      "To change this limit, set the config variable\n",
      "`--NotebookApp.iopub_msg_rate_limit`.\n",
      "\n",
      "Current values:\n",
      "NotebookApp.iopub_msg_rate_limit=1000.0 (msgs/sec)\n",
      "NotebookApp.rate_limit_window=3.0 (secs)\n",
      "\n",
      "168336it [1:23:23, 34.58it/s]IOPub message rate exceeded.\n",
      "The notebook server will temporarily stop sending output\n",
      "to the client in order to avoid crashing it.\n",
      "To change this limit, set the config variable\n",
      "`--NotebookApp.iopub_msg_rate_limit`.\n",
      "\n",
      "Current values:\n",
      "NotebookApp.iopub_msg_rate_limit=1000.0 (msgs/sec)\n",
      "NotebookApp.rate_limit_window=3.0 (secs)\n",
      "\n",
      "227835it [1:52:57, 33.62it/s]\n"
     ]
    }
   ],
   "source": [
    "vqa_dataset_mimiccxr = generate_VQA_dataset_from_MIMIC_CXR(qa_generator)"
   ]
  },
  {
   "cell_type": "code",
   "execution_count": 38,
   "metadata": {},
   "outputs": [],
   "source": [
    "with open('/mnt/data/mimic-cxr/qa_adapted_reports.json', 'w') as f:\n",
    "    json.dump(vqa_dataset_mimiccxr, f)"
   ]
  },
  {
   "cell_type": "markdown",
   "metadata": {},
   "source": [
    "## Generate summary file"
   ]
  },
  {
   "cell_type": "code",
   "execution_count": 40,
   "metadata": {},
   "outputs": [],
   "source": [
    "with open('/mnt/workspace/iu-x-ray/dataset/reports/qa_adapted_reports.json', 'r') as f:\n",
    "    vqa_dataset_iuxray = json.load(f)"
   ]
  },
  {
   "cell_type": "code",
   "execution_count": 41,
   "metadata": {},
   "outputs": [],
   "source": [
    "with open('/mnt/data/mimic-cxr/qa_adapted_reports.json', 'r') as f:\n",
    "    vqa_dataset_mimiccxr = json.load(f)"
   ]
  },
  {
   "cell_type": "code",
   "execution_count": 43,
   "metadata": {},
   "outputs": [
    {
     "data": {
      "text/plain": [
       "(3927, 227835)"
      ]
     },
     "execution_count": 43,
     "metadata": {},
     "output_type": "execute_result"
    }
   ],
   "source": [
    "len(vqa_dataset_iuxray['reports']), len(vqa_dataset_mimiccxr['reports'])"
   ]
  },
  {
   "cell_type": "code",
   "execution_count": 45,
   "metadata": {},
   "outputs": [
    {
     "data": {
      "text/plain": [
       "{'sentences': ['The cardiomediastinal silhouette is within normal limits for size and contour.',\n",
       "  'The lungs are normally inflated without evidence of focal airspace disease, pleural effusion, or pneumothorax.',\n",
       "  'Stable calcified granuloma within the right upper lung.',\n",
       "  'No acute bone abnormality.. No acute cardiopulmonary process.'],\n",
       " 'invalid': [],\n",
       " 'unmatched': [],\n",
       " 'matched': [0, 1, 2, 3],\n",
       " 'qa': {'65': [0],\n",
       "  '73': [0],\n",
       "  '72': [1, 2],\n",
       "  '48': [1],\n",
       "  '52': [1],\n",
       "  '3': [1],\n",
       "  '17': [2],\n",
       "  '32': [2],\n",
       "  '11': [3]},\n",
       " 'filename': '10.xml'}"
      ]
     },
     "execution_count": 45,
     "metadata": {},
     "output_type": "execute_result"
    }
   ],
   "source": [
    "vqa_dataset_iuxray['reports'][1]"
   ]
  },
  {
   "cell_type": "code",
   "execution_count": 48,
   "metadata": {},
   "outputs": [],
   "source": [
    "def generate_summary_file(dataset, k, kk, output_filename):\n",
    "    \n",
    "    q2a = [[] for _ in range(len(dataset['questions']))]\n",
    "    n_invalid = 0\n",
    "    unmatched_sentences = []\n",
    "    for ri, report in enumerate(dataset['reports']):\n",
    "        s = report['sentences']\n",
    "        for q_idx, a_idxs in report['qa'].items():\n",
    "            q_idx = int(q_idx)\n",
    "            a_len = sum(len(s[i]) for i in a_idxs)\n",
    "            q2a[q_idx].append((a_len, ri))\n",
    "        n_invalid += len(report['invalid'])\n",
    "        unmatched_sentences.extend(s[i] for i in report['unmatched'])\n",
    "            \n",
    "    sorted_questions = sorted([(len(a), i) for i,a in enumerate(q2a)], reverse=True)    \n",
    "    \n",
    "    with open(f'./{output_filename}', 'w') as file:\n",
    "        file.write('Preguntas ordenadas por frecuencia (decreciente)\\n\\n')\n",
    "        for f, q in sorted_questions:\n",
    "            file.write('%d, %s\\n' % (f, dataset['questions'][q]))\n",
    "        file.write('\\n')\n",
    "        file.write('Ejemplos de respuestas por pregunta:')\n",
    "        for i,(_,q) in enumerate(sorted_questions):\n",
    "            answers = q2a[q]\n",
    "            answers.sort()            \n",
    "            tmp = []\n",
    "            for _, a in answers:\n",
    "                report = dataset['reports'][a]\n",
    "                sentences = report['sentences']\n",
    "                a_idxs = report['qa'][str(q)]\n",
    "                answer = ' '.join(sentences[i] for i in a_idxs)\n",
    "                tmp.append(answer)\n",
    "            answers = tmp            \n",
    "            n = len(answers)\n",
    "            print(\"n=%d, %s\" % (n, dataset['questions'][q]))\n",
    "            if n > k:\n",
    "                sample = []\n",
    "                for j in range(k):\n",
    "                    sample.append(answers[random.randint(int(n*j/k), int(n*(j+1)/k)-1)])\n",
    "            else:\n",
    "                sample = answers\n",
    "            file.write('\\n\\n%d) %s:\\n\\n' % (i+1, dataset['questions'][q]))\n",
    "            for a in sample:\n",
    "                file.write('    A: %s\\n' % a)\n",
    "        file.write('\\n\\nTotal oraciones inválidas: %d\\n' % n_invalid)\n",
    "        file.write('Total oraciones sin match: %d\\n' % len(unmatched_sentences))\n",
    "        file.write('\\n\\nEjemplos de oraciones válidas que no hicieron match con ninguna pregunta\\n\\n')\n",
    "        unmatched_sentences = list(set(unmatched_sentences))\n",
    "        unmatched_sentences.sort(key=lambda s:len(s))\n",
    "        nn = len(unmatched_sentences)\n",
    "        for j in range(kk):\n",
    "            file.write('    %s\\n' % unmatched_sentences[random.randint(int(nn*j/kk), int(nn*(j+1)/kk)-1)])"
   ]
  },
  {
   "cell_type": "code",
   "execution_count": 49,
   "metadata": {},
   "outputs": [
    {
     "name": "stdout",
     "output_type": "stream",
     "text": [
      "n=3050, what about the lungs?\n",
      "n=3035, what about pleural space?\n",
      "n=2683, what about pneumothorax?\n",
      "n=2559, what about the heart?\n",
      "n=2299, what about the mediastinum?\n",
      "n=1907, what about bones?\n",
      "n=1221, what about consolidation?\n",
      "n=1127, what about the cardiac silhouette?\n",
      "n=832, what about pulmonary vascularity?\n",
      "n=694, what about opacities?\n",
      "n=544, what about air space disease?\n",
      "n=537, what about calcification?\n",
      "n=525, what about support devices and foreign bodies?\n",
      "n=439, what about granumola?\n",
      "n=411, what about infiltrate?\n",
      "n=364, what about atelectasis?\n",
      "n=357, what about thoracic aorta?\n",
      "n=345, what about edema?\n",
      "n=327, what about tubes and lines?\n",
      "n=323, what about nodules?\n",
      "n=297, what about cardiomegaly?\n",
      "n=244, what about pneumonia?\n",
      "n=237, what about the diaphragm?\n",
      "n=215, what about tortuosity?\n",
      "n=215, what about surgery?\n",
      "n=209, what about pulmonary hila?\n",
      "n=204, what about scarring?\n",
      "n=189, what about fractures?\n",
      "n=183, what about the ribs?\n",
      "n=180, what about masses?\n",
      "n=150, what about interstitial lung disease?\n",
      "n=137, what about prominence?\n",
      "n=128, what about densities?\n",
      "n=118, what about emphysema?\n",
      "n=107, what about soft tissue?\n",
      "n=102, what about the trachea?\n",
      "n=101, what about the apical zone?\n",
      "n=96, what about adenopathy?\n",
      "n=94, what about the bronchus?\n",
      "n=82, what about markings?\n",
      "n=79, what about bronchovascular crowding?\n",
      "n=63, what about free air?\n",
      "n=49, what about hernias?\n",
      "n=47, what about lung parenchyma?\n",
      "n=46, what about vena cava?\n",
      "n=43, what about COPD?\n",
      "n=40, what about lucencies?\n",
      "n=33, what about lesions?\n",
      "n=32, what about cancer or tumor?\n",
      "n=27, what about airways?\n",
      "n=22, what about sulci?\n",
      "n=19, what about fissures?\n",
      "n=18, what about congestive heart failure CHF?\n",
      "n=16, what about the stomach?\n",
      "n=13, what about lymph nodes?\n",
      "n=13, what about air collections?\n",
      "n=11, what about bullae and blebs?\n",
      "n=10, what about trauma?\n",
      "n=10, what about pneumoperitoneum?\n",
      "n=9, what about the bowel?\n",
      "n=9, what about aspiration?\n",
      "n=8, what about the carina?\n",
      "n=8, what about pneumomediastinum?\n",
      "n=8, what about bowel obstruction and loops?\n",
      "n=8, what about air-fluid level?\n",
      "n=7, what about the colon?\n",
      "n=7, what about contrast?\n",
      "n=5, what about the esophagus?\n",
      "n=5, what about bronchiectasis?\n",
      "n=4, what about peribronchial cuffing?\n",
      "n=3, what about the liver?\n",
      "n=3, what about gas distension?\n",
      "n=2, what abscess and cavitation?\n",
      "n=2, what about the thyroid?\n",
      "n=2, what about ossification?\n",
      "n=2, what about haze?\n",
      "n=2, what about azygos lobe?\n",
      "n=1, what about kerley lines?\n",
      "n=1, what about cholelithiasis?\n",
      "n=1, what about azygos vein?\n",
      "n=0, what about sagittal chest?\n",
      "n=0, what about fluid overload?\n",
      "n=0, what about bronchogram?\n",
      "n=0, what about blurring?\n"
     ]
    }
   ],
   "source": [
    "generate_summary_file(vqa_dataset_iuxray, 10, 120, 'vqa_iuxray_summary_file.txt')"
   ]
  },
  {
   "cell_type": "code",
   "execution_count": 50,
   "metadata": {
    "scrolled": false
   },
   "outputs": [
    {
     "name": "stdout",
     "output_type": "stream",
     "text": [
      "n=182832, what about the lungs?\n",
      "n=171794, what about pleural space?\n",
      "n=138668, what about pneumothorax?\n",
      "n=110147, what about the mediastinum?\n",
      "n=97334, what about support devices and foreign bodies?\n",
      "n=94605, what about the heart?\n",
      "n=90877, what about the cardiac silhouette?\n",
      "n=78024, what about tubes and lines?\n",
      "n=69038, what about bones?\n",
      "n=64624, what about consolidation?\n",
      "n=61768, what about atelectasis?\n",
      "n=58789, what about edema?\n",
      "n=57477, what about opacities?\n",
      "n=50929, what about pulmonary hila?\n",
      "n=47488, what about pulmonary vascularity?\n",
      "n=45200, what about pneumonia?\n",
      "n=29366, what about cardiomegaly?\n",
      "n=23595, what about the diaphragm?\n",
      "n=20860, what about surgery?\n",
      "n=20446, what about thoracic aorta?\n",
      "n=19036, what about vena cava?\n",
      "n=15162, what about the stomach?\n",
      "n=13647, what about calcification?\n",
      "n=12622, what about the trachea?\n",
      "n=12544, what about fractures?\n",
      "n=11239, what about the apical zone?\n",
      "n=10516, what about tortuosity?\n",
      "n=10032, what about the ribs?\n",
      "n=9782, what about the carina?\n",
      "n=9387, what about lung parenchyma?\n",
      "n=9319, what about free air?\n",
      "n=8740, what about prominence?\n",
      "n=7753, what about interstitial lung disease?\n",
      "n=7217, what about the bronchus?\n",
      "n=6734, what about scarring?\n",
      "n=6632, what about aspiration?\n",
      "n=5834, what about densities?\n",
      "n=5327, what about nodules?\n",
      "n=4850, what about congestive heart failure CHF?\n",
      "n=4725, what about emphysema?\n",
      "n=4592, what about markings?\n",
      "n=4221, what about infiltrate?\n",
      "n=3705, what about the esophagus?\n",
      "n=3513, what about soft tissue?\n",
      "n=3249, what about masses?\n",
      "n=2990, what about bronchovascular crowding?\n",
      "n=2796, what about fluid overload?\n",
      "n=2710, what about hernias?\n",
      "n=2581, what about gas distension?\n",
      "n=2451, what about haze?\n",
      "n=2345, what about lesions?\n",
      "n=2156, what about COPD?\n",
      "n=2069, what about cancer or tumor?\n",
      "n=2001, what about adenopathy?\n",
      "n=1966, what about granumola?\n",
      "n=1922, what about fissures?\n",
      "n=1618, what about lucencies?\n",
      "n=1535, what about air collections?\n",
      "n=1516, what about pneumomediastinum?\n",
      "n=1134, what about the bowel?\n",
      "n=1001, what about lymph nodes?\n",
      "n=870, what about the thyroid?\n",
      "n=833, what about peribronchial cuffing?\n",
      "n=831, what about bronchogram?\n",
      "n=796, what about pneumoperitoneum?\n",
      "n=787, what about trauma?\n",
      "n=782, what about bowel obstruction and loops?\n",
      "n=761, what about sulci?\n",
      "n=709, what about airways?\n",
      "n=619, what about bronchiectasis?\n",
      "n=619, what about air-fluid level?\n",
      "n=519, what about azygos vein?\n",
      "n=482, what about the colon?\n",
      "n=431, what about contrast?\n",
      "n=405, what about air space disease?\n",
      "n=386, what about bullae and blebs?\n",
      "n=377, what abscess and cavitation?\n",
      "n=247, what about the liver?\n",
      "n=222, what about kerley lines?\n",
      "n=219, what about blurring?\n",
      "n=156, what about azygos lobe?\n",
      "n=70, what about ossification?\n",
      "n=16, what about cholelithiasis?\n",
      "n=7, what about sagittal chest?\n"
     ]
    }
   ],
   "source": [
    "generate_summary_file(vqa_dataset_mimiccxr, 10, 120, 'vqa_mimiccxr_summary_file.txt')"
   ]
  }
 ],
 "metadata": {
  "celltoolbar": "Raw Cell Format",
  "kernelspec": {
   "display_name": "Python 3",
   "language": "python",
   "name": "python3"
  },
  "language_info": {
   "codemirror_mode": {
    "name": "ipython",
    "version": 3
   },
   "file_extension": ".py",
   "mimetype": "text/x-python",
   "name": "python",
   "nbconvert_exporter": "python",
   "pygments_lexer": "ipython3",
   "version": "3.6.9"
  }
 },
 "nbformat": 4,
 "nbformat_minor": 4
}
