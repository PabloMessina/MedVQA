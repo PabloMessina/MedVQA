{
 "cells": [
  {
   "cell_type": "code",
   "execution_count": 42,
   "id": "525b6006",
   "metadata": {
    "scrolled": true
   },
   "outputs": [
    {
     "name": "stdout",
     "output_type": "stream",
     "text": [
      "2023-06-13 18:21:07,087 - \u001b[1;32mINFO\u001b[1;0m - Loading preprocessed reports from /mnt/data/pamessina/workspaces/medvqa-workspace/cache/mimiccxr/background_findings_and_impression_20230612_174143.json\n",
      "2023-06-13 18:21:07,795 - \u001b[1;32mINFO\u001b[1;0m - Loading ranked background indices from /mnt/data/pamessina/workspaces/medvqa-workspace/cache/mimiccxr/ranked_background_idxs_(background_findings_and_impression_20230612_174143.json).pkl\n",
      "2023-06-13 18:21:08,010 - \u001b[1;32mINFO\u001b[1;0m - Loaded 19983 parsed backgrounds from /home/pamessina/medvqa-workspace/cache/mimiccxr/openai/gpt-3.5-turbo_parsed_backgrounds.jsonl\n",
      "2023-06-13 18:21:08,754 - \u001b[1;32mINFO\u001b[1;0m - 17 of the top 20000 reports were not found in the cache. Parsing them now.\n",
      "2023-06-13 18:21:08,754 - \u001b[1;32mINFO\u001b[1;0m - Saving API requests to /home/pamessina/medvqa-workspace/tmp/mimiccxr/openai/api_requests_20230613_182108.jsonl\n",
      "2023-06-13 18:21:08,754 - \u001b[1;32mINFO\u001b[1;0m - Saving API responses to /home/pamessina/medvqa-workspace/tmp/mimiccxr/openai/api_responses_20230613_182108.jsonl\n",
      "2023-06-13 18:21:09,332 - \u001b[1;32mINFO\u001b[1;0m - Starting request #0\n",
      "2023-06-13 18:21:10,469 - \u001b[1;32mINFO\u001b[1;0m - Parallel processing complete. Results saved to /home/pamessina/medvqa-workspace/tmp/mimiccxr/openai/api_responses_20230613_182108.jsonl\n",
      "2023-06-13 18:21:10,471 - \u001b[1;32mINFO\u001b[1;0m - Loading API responses from /home/pamessina/medvqa-workspace/tmp/mimiccxr/openai/api_responses_20230613_182108.jsonl\n",
      "2023-06-13 18:21:10,473 - \u001b[1;32mINFO\u001b[1;0m - Deleting API requests and responses\n",
      "2023-06-13 18:21:10,473 - \u001b[1;32mINFO\u001b[1;0m - Succesfully parsed 17 of 17 API responses.\n",
      "0 of 17 API responses could not be parsed.\n",
      "Saving parsed backgrounds to /home/pamessina/medvqa-workspace/cache/mimiccxr/openai/gpt-3.5-turbo_parsed_backgrounds.jsonl\n"
     ]
    }
   ],
   "source": [
    "!python ../../scripts/mimiccxr/extract_facts_from_backgrounds_with_openai.py \\\n",
    "    --preprocessed_reports_filename \"background_findings_and_impression_20230612_174143.json\" \\\n",
    "    --ranked_background_indices_filename \"ranked_background_idxs_(background_findings_and_impression_20230612_174143.json).pkl\" \\\n",
    "    --num_reports 20000 \\\n",
    "    --max_requests_per_minute 3300 \\\n",
    "    --max_tokens_per_minute 85000 \\\n",
    "    --max_tokens_per_request 512 \\\n",
    "    --logging_level \"INFO\" \\\n",
    "    --api_key_name \"OPENAI_API_KEY_2\""
   ]
  },
  {
   "cell_type": "code",
   "execution_count": 43,
   "id": "5e4d3314",
   "metadata": {},
   "outputs": [],
   "source": [
    "tmp = load_jsonl('/home/pamessina/medvqa-workspace/tmp/mimiccxr/openai/gpt-3.5-turbo_parsed_reports.jsonl')"
   ]
  },
  {
   "cell_type": "code",
   "execution_count": 44,
   "id": "6d997d37",
   "metadata": {},
   "outputs": [
    {
     "data": {
      "text/plain": [
       "{'metadata': {'report_index': 32990,\n",
       "  'part_id': 11,\n",
       "  'subject_id': 11123456,\n",
       "  'study_id': 57510538,\n",
       "  'report': {'background': 'indication: History: F with shortness of breath, lung cancer.',\n",
       "   'findings': 'The patient is status post right upper lobectomy with unchanged right hilar opacity along the resection margin, grossly similar compared with the prior CT. Heart size is moderately enlarged, increased compared to the previous chest radiograph. Pulmonary vasculature is not engorged. Mediastinal contour is similar. New left basilar opacity is demonstrated with a small to moderate size left pleural effusion. No pneumothorax is identified. There is diffuse demineralization of the osseous structures with multiple compression deformities re- demonstrated, not substantially changed from the previous CT.',\n",
       "   'impression': 'New small to moderate size left pleural effusion and left basilar opacity concerning for pneumonia. Right hilar opacity along the resection margin remains concerning for disease recurrence, better assessed on the previous CT.',\n",
       "   'path': '/mnt/data/mimic-cxr/files/p11/p11123456/s57510538.txt'}},\n",
       " 'parsed_response': [['Unchanged right hilar opacity along resection margin',\n",
       "   1],\n",
       "  ['Moderately enlarged heart size compared to previous chest radiograph', 1],\n",
       "  ['New left basilar opacity and small to moderate size left pleural effusion',\n",
       "   1],\n",
       "  ['No pneumothorax identified', 0],\n",
       "  ['Diffuse demineralization of osseous structures with multiple compression deformities re-demonstrated, not substantially changed from previous CT',\n",
       "   0],\n",
       "  ['Concern for disease recurrence in right hilar opacity, better assessed on previous CT',\n",
       "   1]]}"
      ]
     },
     "execution_count": 44,
     "metadata": {},
     "output_type": "execute_result"
    }
   ],
   "source": [
    "tmp[-1]"
   ]
  },
  {
   "cell_type": "code",
   "execution_count": 2,
   "id": "77656bd7",
   "metadata": {},
   "outputs": [],
   "source": [
    "from medvqa.utils.files import load_jsonl"
   ]
  },
  {
   "cell_type": "code",
   "execution_count": 37,
   "id": "d2a7c573",
   "metadata": {},
   "outputs": [],
   "source": [
    "tmp = load_jsonl('/home/pamessina/medvqa-workspace/cache/mimiccxr/openai/gpt-3.5-turbo_parsed_backgrounds.jsonl')"
   ]
  },
  {
   "cell_type": "code",
   "execution_count": 38,
   "id": "1477807a",
   "metadata": {},
   "outputs": [
    {
     "data": {
      "text/plain": [
       "19974"
      ]
     },
     "execution_count": 38,
     "metadata": {},
     "output_type": "execute_result"
    }
   ],
   "source": [
    "len(tmp)"
   ]
  },
  {
   "cell_type": "code",
   "execution_count": 39,
   "id": "6874eddc",
   "metadata": {},
   "outputs": [
    {
     "data": {
      "text/plain": [
       "{'metadata': {'report_index': 88870,\n",
       "  'part_id': 13,\n",
       "  'subject_id': 13966539,\n",
       "  'study_id': 56152636,\n",
       "  'background': 'indication: prostate ca s/p robotic prostatectomy now s/p repeat laparatomy for bleeding, still intubated and on neosynephrine for hypotension // ?acute change, ET placement ; prostate ca s/p robotic prostatectomy now s/p repeat laparatomy for bleeding, still intubated now with OG tube replacement // OGT placement.'},\n",
       " 'parsed_response': ['prostate cancer',\n",
       "  'robotic prostatectomy',\n",
       "  'repeat laparotomy for bleeding',\n",
       "  'intubated',\n",
       "  'neosynephrine for hypotension',\n",
       "  'acute change',\n",
       "  'ET placement',\n",
       "  'OG tube replacement',\n",
       "  'OGT placement']}"
      ]
     },
     "execution_count": 39,
     "metadata": {},
     "output_type": "execute_result"
    }
   ],
   "source": [
    "tmp[-1]"
   ]
  }
 ],
 "metadata": {
  "kernelspec": {
   "display_name": "venv2",
   "language": "python",
   "name": "venv2"
  },
  "language_info": {
   "codemirror_mode": {
    "name": "ipython",
    "version": 3
   },
   "file_extension": ".py",
   "mimetype": "text/x-python",
   "name": "python",
   "nbconvert_exporter": "python",
   "pygments_lexer": "ipython3",
   "version": "3.10.10"
  }
 },
 "nbformat": 4,
 "nbformat_minor": 5
}
