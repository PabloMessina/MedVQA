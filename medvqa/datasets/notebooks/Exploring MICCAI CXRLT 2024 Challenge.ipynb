{
 "cells": [
  {
   "cell_type": "code",
   "execution_count": 1,
   "metadata": {},
   "outputs": [
    {
     "name": "stdout",
     "output_type": "stream",
     "text": [
      "task1_development_starting_kit\ttask2_development_starting_kit.zip\r\n",
      "task1_starting_kit.zip\t\ttask3_development_starting_kit\r\n",
      "task2_development_starting_kit\ttask3_development_starting_kit.zip\r\n"
     ]
    }
   ],
   "source": [
    "!ls /mnt/data/MICCAI-2024-CXRLT/"
   ]
  },
  {
   "cell_type": "code",
   "execution_count": 2,
   "metadata": {},
   "outputs": [
    {
     "name": "stdout",
     "output_type": "stream",
     "text": [
      "CLASSES.txt\t development_sample_submission.zip  train_labeled.csv\r\n",
      "development.csv  EVAL_CLASSES.txt\r\n"
     ]
    }
   ],
   "source": [
    "!ls /mnt/data/MICCAI-2024-CXRLT/task1_development_starting_kit/"
   ]
  },
  {
   "cell_type": "code",
   "execution_count": 3,
   "metadata": {},
   "outputs": [
    {
     "name": "stdout",
     "output_type": "stream",
     "text": [
      "CLASSES.txt\t development_sample_submission.zip  train_labeled.csv\r\n",
      "development.csv  EVAL_CLASSES.txt\r\n"
     ]
    }
   ],
   "source": [
    "!ls /mnt/data/MICCAI-2024-CXRLT/task2_development_starting_kit/"
   ]
  },
  {
   "cell_type": "code",
   "execution_count": 4,
   "metadata": {},
   "outputs": [
    {
     "name": "stdout",
     "output_type": "stream",
     "text": [
      "CLASSES.txt\t development_sample_submission.zip  train_labeled.csv\r\n",
      "development.csv  EVAL_CLASSES.txt\r\n"
     ]
    }
   ],
   "source": [
    "!ls /mnt/data/MICCAI-2024-CXRLT/task3_development_starting_kit/"
   ]
  },
  {
   "cell_type": "code",
   "execution_count": 61,
   "metadata": {},
   "outputs": [],
   "source": [
    "from medvqa.utils.files import read_lines_from_txt, read_txt, load_pickle"
   ]
  },
  {
   "cell_type": "code",
   "execution_count": 9,
   "metadata": {},
   "outputs": [
    {
     "data": {
      "text/plain": [
       "['Adenopathy',\n",
       " 'Atelectasis',\n",
       " 'Azygos Lobe',\n",
       " 'Calcification of the Aorta',\n",
       " 'Cardiomegaly',\n",
       " 'Clavicle Fracture',\n",
       " 'Consolidation',\n",
       " 'Edema',\n",
       " 'Emphysema',\n",
       " 'Enlarged Cardiomediastinum',\n",
       " 'Fibrosis',\n",
       " 'Fissure',\n",
       " 'Fracture',\n",
       " 'Granuloma',\n",
       " 'Hernia',\n",
       " 'Hydropneumothorax',\n",
       " 'Infarction',\n",
       " 'Infiltration',\n",
       " 'Kyphosis',\n",
       " 'Lobar Atelectasis',\n",
       " 'Lung Lesion',\n",
       " 'Lung Opacity',\n",
       " 'Mass',\n",
       " 'Nodule',\n",
       " 'Normal',\n",
       " 'Pleural Effusion',\n",
       " 'Pleural Other',\n",
       " 'Pleural Thickening',\n",
       " 'Pneumomediastinum',\n",
       " 'Pneumonia',\n",
       " 'Pneumoperitoneum',\n",
       " 'Pneumothorax',\n",
       " 'Pulmonary Embolism',\n",
       " 'Pulmonary Hypertension',\n",
       " 'Rib Fracture',\n",
       " 'Round(ed) Atelectasis',\n",
       " 'Subcutaneous Emphysema',\n",
       " 'Support Devices',\n",
       " 'Tortuous Aorta',\n",
       " 'Tuberculosis']"
      ]
     },
     "execution_count": 9,
     "metadata": {},
     "output_type": "execute_result"
    }
   ],
   "source": [
    "read_lines_from_txt('/mnt/data/MICCAI-2024-CXRLT/task1_development_starting_kit/CLASSES.txt')"
   ]
  },
  {
   "cell_type": "code",
   "execution_count": 149,
   "metadata": {},
   "outputs": [
    {
     "data": {
      "text/plain": [
       "['Bulla', 'Cardiomyopathy', 'Hilum', 'Osteopenia', 'Scoliosis']"
      ]
     },
     "execution_count": 149,
     "metadata": {},
     "output_type": "execute_result"
    }
   ],
   "source": [
    "read_lines_from_txt('/mnt/data/MICCAI-2024-CXRLT/task3_development_starting_kit/EVAL_CLASSES.txt')"
   ]
  },
  {
   "cell_type": "code",
   "execution_count": 11,
   "metadata": {},
   "outputs": [
    {
     "data": {
      "text/plain": [
       "['Adenopathy',\n",
       " 'Atelectasis',\n",
       " 'Azygos Lobe',\n",
       " 'Calcification of the Aorta',\n",
       " 'Cardiomegaly',\n",
       " 'Clavicle Fracture',\n",
       " 'Consolidation',\n",
       " 'Edema',\n",
       " 'Emphysema',\n",
       " 'Enlarged Cardiomediastinum',\n",
       " 'Fibrosis',\n",
       " 'Fissure',\n",
       " 'Fracture',\n",
       " 'Granuloma',\n",
       " 'Hernia',\n",
       " 'Hydropneumothorax',\n",
       " 'Infarction',\n",
       " 'Infiltration',\n",
       " 'Kyphosis',\n",
       " 'Lobar Atelectasis',\n",
       " 'Lung Lesion',\n",
       " 'Lung Opacity',\n",
       " 'Mass',\n",
       " 'Nodule',\n",
       " 'Normal',\n",
       " 'Pleural Effusion',\n",
       " 'Pleural Other',\n",
       " 'Pleural Thickening',\n",
       " 'Pneumomediastinum',\n",
       " 'Pneumonia',\n",
       " 'Pneumoperitoneum',\n",
       " 'Pneumothorax',\n",
       " 'Pulmonary Embolism',\n",
       " 'Pulmonary Hypertension',\n",
       " 'Rib Fracture',\n",
       " 'Round(ed) Atelectasis',\n",
       " 'Subcutaneous Emphysema',\n",
       " 'Support Devices',\n",
       " 'Tortuous Aorta',\n",
       " 'Tuberculosis']"
      ]
     },
     "execution_count": 11,
     "metadata": {},
     "output_type": "execute_result"
    }
   ],
   "source": [
    "read_lines_from_txt('/mnt/data/MICCAI-2024-CXRLT/task2_development_starting_kit/CLASSES.txt')"
   ]
  },
  {
   "cell_type": "code",
   "execution_count": 10,
   "metadata": {},
   "outputs": [
    {
     "data": {
      "text/plain": [
       "['Atelectasis',\n",
       " 'Calcification of the Aorta',\n",
       " 'Cardiomegaly',\n",
       " 'Consolidation',\n",
       " 'Edema',\n",
       " 'Emphysema',\n",
       " 'Enlarged Cardiomediastinum',\n",
       " 'Fibrosis',\n",
       " 'Fracture',\n",
       " 'Hernia',\n",
       " 'Infiltration',\n",
       " 'Lung Lesion',\n",
       " 'Lung Opacity',\n",
       " 'Mass',\n",
       " 'Normal',\n",
       " 'Nodule',\n",
       " 'Pleural Effusion',\n",
       " 'Pleural Other',\n",
       " 'Pleural Thickening',\n",
       " 'Pneumomediastinum',\n",
       " 'Pneumonia',\n",
       " 'Pneumoperitoneum',\n",
       " 'Pneumothorax',\n",
       " 'Subcutaneous Emphysema',\n",
       " 'Support Devices',\n",
       " 'Tortuous Aorta']"
      ]
     },
     "execution_count": 10,
     "metadata": {},
     "output_type": "execute_result"
    }
   ],
   "source": [
    "read_lines_from_txt('/mnt/data/MICCAI-2024-CXRLT/task2_development_starting_kit/EVAL_CLASSES.txt')"
   ]
  },
  {
   "cell_type": "code",
   "execution_count": 12,
   "metadata": {},
   "outputs": [
    {
     "data": {
      "text/plain": [
       "['Adenopathy',\n",
       " 'Atelectasis',\n",
       " 'Azygos Lobe',\n",
       " 'Calcification of the Aorta',\n",
       " 'Cardiomegaly',\n",
       " 'Clavicle Fracture',\n",
       " 'Consolidation',\n",
       " 'Edema',\n",
       " 'Emphysema',\n",
       " 'Enlarged Cardiomediastinum',\n",
       " 'Fibrosis',\n",
       " 'Fissure',\n",
       " 'Fracture',\n",
       " 'Granuloma',\n",
       " 'Hernia',\n",
       " 'Hydropneumothorax',\n",
       " 'Infarction',\n",
       " 'Infiltration',\n",
       " 'Kyphosis',\n",
       " 'Lobar Atelectasis',\n",
       " 'Lung Lesion',\n",
       " 'Lung Opacity',\n",
       " 'Mass',\n",
       " 'Nodule',\n",
       " 'Normal',\n",
       " 'Pleural Effusion',\n",
       " 'Pleural Other',\n",
       " 'Pleural Thickening',\n",
       " 'Pneumomediastinum',\n",
       " 'Pneumonia',\n",
       " 'Pneumoperitoneum',\n",
       " 'Pneumothorax',\n",
       " 'Pulmonary Embolism',\n",
       " 'Pulmonary Hypertension',\n",
       " 'Rib Fracture',\n",
       " 'Round(ed) Atelectasis',\n",
       " 'Subcutaneous Emphysema',\n",
       " 'Support Devices',\n",
       " 'Tortuous Aorta',\n",
       " 'Tuberculosis']"
      ]
     },
     "execution_count": 12,
     "metadata": {},
     "output_type": "execute_result"
    }
   ],
   "source": [
    "read_lines_from_txt('/mnt/data/MICCAI-2024-CXRLT/task3_development_starting_kit/CLASSES.txt')"
   ]
  },
  {
   "cell_type": "code",
   "execution_count": 14,
   "metadata": {},
   "outputs": [
    {
     "data": {
      "text/plain": [
       "['Bulla', 'Cardiomyopathy', 'Hilum', 'Osteopenia', 'Scoliosis']"
      ]
     },
     "execution_count": 14,
     "metadata": {},
     "output_type": "execute_result"
    }
   ],
   "source": [
    "read_lines_from_txt('/mnt/data/MICCAI-2024-CXRLT/task3_development_starting_kit/EVAL_CLASSES.txt')"
   ]
  },
  {
   "cell_type": "code",
   "execution_count": 15,
   "metadata": {},
   "outputs": [],
   "source": [
    "import pandas as pd"
   ]
  },
  {
   "cell_type": "code",
   "execution_count": 16,
   "metadata": {},
   "outputs": [],
   "source": [
    "task1_dev_df = pd.read_csv('/mnt/data/MICCAI-2024-CXRLT/task1_development_starting_kit/development.csv')"
   ]
  },
  {
   "cell_type": "code",
   "execution_count": 18,
   "metadata": {},
   "outputs": [],
   "source": [
    "task1_train_df = pd.read_csv('/mnt/data/MICCAI-2024-CXRLT/task1_development_starting_kit/train_labeled.csv')"
   ]
  },
  {
   "cell_type": "code",
   "execution_count": 143,
   "metadata": {},
   "outputs": [],
   "source": [
    "task2_dev_df = pd.read_csv('/mnt/data/MICCAI-2024-CXRLT/task2_development_starting_kit/development.csv')"
   ]
  },
  {
   "cell_type": "code",
   "execution_count": 144,
   "metadata": {},
   "outputs": [],
   "source": [
    "task2_train_df = pd.read_csv('/mnt/data/MICCAI-2024-CXRLT/task2_development_starting_kit/train_labeled.csv')"
   ]
  },
  {
   "cell_type": "code",
   "execution_count": 140,
   "metadata": {},
   "outputs": [],
   "source": [
    "task3_dev_df = pd.read_csv('/mnt/data/MICCAI-2024-CXRLT/task3_development_starting_kit/development.csv')"
   ]
  },
  {
   "cell_type": "code",
   "execution_count": 139,
   "metadata": {},
   "outputs": [],
   "source": [
    "task3_train_df = pd.read_csv('/mnt/data/MICCAI-2024-CXRLT/task3_development_starting_kit/train_labeled.csv')"
   ]
  },
  {
   "cell_type": "code",
   "execution_count": 17,
   "metadata": {},
   "outputs": [
    {
     "data": {
      "text/html": [
       "<div>\n",
       "<style scoped>\n",
       "    .dataframe tbody tr th:only-of-type {\n",
       "        vertical-align: middle;\n",
       "    }\n",
       "\n",
       "    .dataframe tbody tr th {\n",
       "        vertical-align: top;\n",
       "    }\n",
       "\n",
       "    .dataframe thead th {\n",
       "        text-align: right;\n",
       "    }\n",
       "</style>\n",
       "<table border=\"1\" class=\"dataframe\">\n",
       "  <thead>\n",
       "    <tr style=\"text-align: right;\">\n",
       "      <th></th>\n",
       "      <th>dicom_id</th>\n",
       "      <th>subject_id</th>\n",
       "      <th>study_id</th>\n",
       "      <th>ViewPosition</th>\n",
       "      <th>ViewCodeSequence_CodeMeaning</th>\n",
       "      <th>fpath</th>\n",
       "    </tr>\n",
       "  </thead>\n",
       "  <tbody>\n",
       "    <tr>\n",
       "      <th>0</th>\n",
       "      <td>8b88f03a-2004113d-4118def5-35820db5-d0913df8</td>\n",
       "      <td>10002221</td>\n",
       "      <td>s53781756</td>\n",
       "      <td>NaN</td>\n",
       "      <td>NaN</td>\n",
       "      <td>files/p10/p10002221/s53781756/8b88f03a-2004113...</td>\n",
       "    </tr>\n",
       "    <tr>\n",
       "      <th>1</th>\n",
       "      <td>e4ee2428-245e9222-399ef211-62b44204-35580e8d</td>\n",
       "      <td>10002221</td>\n",
       "      <td>s53781756</td>\n",
       "      <td>NaN</td>\n",
       "      <td>NaN</td>\n",
       "      <td>files/p10/p10002221/s53781756/e4ee2428-245e922...</td>\n",
       "    </tr>\n",
       "    <tr>\n",
       "      <th>2</th>\n",
       "      <td>e8c44648-ff02beea-3d5ff638-dec79b01-7df71a69</td>\n",
       "      <td>10002428</td>\n",
       "      <td>s50027225</td>\n",
       "      <td>AP</td>\n",
       "      <td>antero-posterior</td>\n",
       "      <td>files/p10/p10002428/s50027225/e8c44648-ff02bee...</td>\n",
       "    </tr>\n",
       "    <tr>\n",
       "      <th>3</th>\n",
       "      <td>7f51d06c-dad16fe6-ff21a632-edc5a3e6-ffa387bf</td>\n",
       "      <td>10002428</td>\n",
       "      <td>s50292543</td>\n",
       "      <td>AP</td>\n",
       "      <td>antero-posterior</td>\n",
       "      <td>files/p10/p10002428/s50292543/7f51d06c-dad16fe...</td>\n",
       "    </tr>\n",
       "    <tr>\n",
       "      <th>4</th>\n",
       "      <td>85b903ac-bfc4d6cd-491d2a72-18e7c16e-23d2cafa</td>\n",
       "      <td>10002428</td>\n",
       "      <td>s50444997</td>\n",
       "      <td>AP</td>\n",
       "      <td>antero-posterior</td>\n",
       "      <td>files/p10/p10002428/s50444997/85b903ac-bfc4d6c...</td>\n",
       "    </tr>\n",
       "    <tr>\n",
       "      <th>...</th>\n",
       "      <td>...</td>\n",
       "      <td>...</td>\n",
       "      <td>...</td>\n",
       "      <td>...</td>\n",
       "      <td>...</td>\n",
       "      <td>...</td>\n",
       "    </tr>\n",
       "    <tr>\n",
       "      <th>39288</th>\n",
       "      <td>d2cd4e14-8e2f2e2f-655e5e4b-9a7899b8-d2f32f1b</td>\n",
       "      <td>19995258</td>\n",
       "      <td>s57269721</td>\n",
       "      <td>AP</td>\n",
       "      <td>antero-posterior</td>\n",
       "      <td>files/p19/p19995258/s57269721/d2cd4e14-8e2f2e2...</td>\n",
       "    </tr>\n",
       "    <tr>\n",
       "      <th>39289</th>\n",
       "      <td>af56abbc-803d5997-25f51fc4-533fa2c6-d9d719d1</td>\n",
       "      <td>19995258</td>\n",
       "      <td>s57860851</td>\n",
       "      <td>AP</td>\n",
       "      <td>antero-posterior</td>\n",
       "      <td>files/p19/p19995258/s57860851/af56abbc-803d599...</td>\n",
       "    </tr>\n",
       "    <tr>\n",
       "      <th>39290</th>\n",
       "      <td>653f7936-09b7e7f7-3e5f154c-98d78fa3-faa4f78c</td>\n",
       "      <td>19995366</td>\n",
       "      <td>s58000912</td>\n",
       "      <td>PA</td>\n",
       "      <td>postero-anterior</td>\n",
       "      <td>files/p19/p19995366/s58000912/653f7936-09b7e7f...</td>\n",
       "    </tr>\n",
       "    <tr>\n",
       "      <th>39291</th>\n",
       "      <td>e591d474-a9222915-e7ec6372-97f02cc2-d14f8994</td>\n",
       "      <td>19995366</td>\n",
       "      <td>s58000912</td>\n",
       "      <td>LL</td>\n",
       "      <td>left lateral</td>\n",
       "      <td>files/p19/p19995366/s58000912/e591d474-a922291...</td>\n",
       "    </tr>\n",
       "    <tr>\n",
       "      <th>39292</th>\n",
       "      <td>53e9b6d0-5d5317f5-f1a4c031-01d40558-fd14a425</td>\n",
       "      <td>19999376</td>\n",
       "      <td>s57540554</td>\n",
       "      <td>AP</td>\n",
       "      <td>antero-posterior</td>\n",
       "      <td>files/p19/p19999376/s57540554/53e9b6d0-5d5317f...</td>\n",
       "    </tr>\n",
       "  </tbody>\n",
       "</table>\n",
       "<p>39293 rows × 6 columns</p>\n",
       "</div>"
      ],
      "text/plain": [
       "                                           dicom_id  subject_id   study_id  \\\n",
       "0      8b88f03a-2004113d-4118def5-35820db5-d0913df8    10002221  s53781756   \n",
       "1      e4ee2428-245e9222-399ef211-62b44204-35580e8d    10002221  s53781756   \n",
       "2      e8c44648-ff02beea-3d5ff638-dec79b01-7df71a69    10002428  s50027225   \n",
       "3      7f51d06c-dad16fe6-ff21a632-edc5a3e6-ffa387bf    10002428  s50292543   \n",
       "4      85b903ac-bfc4d6cd-491d2a72-18e7c16e-23d2cafa    10002428  s50444997   \n",
       "...                                             ...         ...        ...   \n",
       "39288  d2cd4e14-8e2f2e2f-655e5e4b-9a7899b8-d2f32f1b    19995258  s57269721   \n",
       "39289  af56abbc-803d5997-25f51fc4-533fa2c6-d9d719d1    19995258  s57860851   \n",
       "39290  653f7936-09b7e7f7-3e5f154c-98d78fa3-faa4f78c    19995366  s58000912   \n",
       "39291  e591d474-a9222915-e7ec6372-97f02cc2-d14f8994    19995366  s58000912   \n",
       "39292  53e9b6d0-5d5317f5-f1a4c031-01d40558-fd14a425    19999376  s57540554   \n",
       "\n",
       "      ViewPosition ViewCodeSequence_CodeMeaning  \\\n",
       "0              NaN                          NaN   \n",
       "1              NaN                          NaN   \n",
       "2               AP             antero-posterior   \n",
       "3               AP             antero-posterior   \n",
       "4               AP             antero-posterior   \n",
       "...            ...                          ...   \n",
       "39288           AP             antero-posterior   \n",
       "39289           AP             antero-posterior   \n",
       "39290           PA             postero-anterior   \n",
       "39291           LL                 left lateral   \n",
       "39292           AP             antero-posterior   \n",
       "\n",
       "                                                   fpath  \n",
       "0      files/p10/p10002221/s53781756/8b88f03a-2004113...  \n",
       "1      files/p10/p10002221/s53781756/e4ee2428-245e922...  \n",
       "2      files/p10/p10002428/s50027225/e8c44648-ff02bee...  \n",
       "3      files/p10/p10002428/s50292543/7f51d06c-dad16fe...  \n",
       "4      files/p10/p10002428/s50444997/85b903ac-bfc4d6c...  \n",
       "...                                                  ...  \n",
       "39288  files/p19/p19995258/s57269721/d2cd4e14-8e2f2e2...  \n",
       "39289  files/p19/p19995258/s57860851/af56abbc-803d599...  \n",
       "39290  files/p19/p19995366/s58000912/653f7936-09b7e7f...  \n",
       "39291  files/p19/p19995366/s58000912/e591d474-a922291...  \n",
       "39292  files/p19/p19999376/s57540554/53e9b6d0-5d5317f...  \n",
       "\n",
       "[39293 rows x 6 columns]"
      ]
     },
     "execution_count": 17,
     "metadata": {},
     "output_type": "execute_result"
    }
   ],
   "source": [
    "task1_dev_df"
   ]
  },
  {
   "cell_type": "code",
   "execution_count": 19,
   "metadata": {},
   "outputs": [
    {
     "data": {
      "text/html": [
       "<div>\n",
       "<style scoped>\n",
       "    .dataframe tbody tr th:only-of-type {\n",
       "        vertical-align: middle;\n",
       "    }\n",
       "\n",
       "    .dataframe tbody tr th {\n",
       "        vertical-align: top;\n",
       "    }\n",
       "\n",
       "    .dataframe thead th {\n",
       "        text-align: right;\n",
       "    }\n",
       "</style>\n",
       "<table border=\"1\" class=\"dataframe\">\n",
       "  <thead>\n",
       "    <tr style=\"text-align: right;\">\n",
       "      <th></th>\n",
       "      <th>dicom_id</th>\n",
       "      <th>subject_id</th>\n",
       "      <th>study_id</th>\n",
       "      <th>ViewPosition</th>\n",
       "      <th>ViewCodeSequence_CodeMeaning</th>\n",
       "      <th>fpath</th>\n",
       "      <th>Adenopathy</th>\n",
       "      <th>Atelectasis</th>\n",
       "      <th>Azygos Lobe</th>\n",
       "      <th>Calcification of the Aorta</th>\n",
       "      <th>...</th>\n",
       "      <th>Pneumoperitoneum</th>\n",
       "      <th>Pneumothorax</th>\n",
       "      <th>Pulmonary Embolism</th>\n",
       "      <th>Pulmonary Hypertension</th>\n",
       "      <th>Rib Fracture</th>\n",
       "      <th>Round(ed) Atelectasis</th>\n",
       "      <th>Subcutaneous Emphysema</th>\n",
       "      <th>Support Devices</th>\n",
       "      <th>Tortuous Aorta</th>\n",
       "      <th>Tuberculosis</th>\n",
       "    </tr>\n",
       "  </thead>\n",
       "  <tbody>\n",
       "    <tr>\n",
       "      <th>0</th>\n",
       "      <td>02aa804e-bde0afdd-112c0b34-7bc16630-4e384014</td>\n",
       "      <td>10000032</td>\n",
       "      <td>s50414267</td>\n",
       "      <td>PA</td>\n",
       "      <td>postero-anterior</td>\n",
       "      <td>files/p10/p10000032/s50414267/02aa804e-bde0afd...</td>\n",
       "      <td>0</td>\n",
       "      <td>0</td>\n",
       "      <td>0</td>\n",
       "      <td>0</td>\n",
       "      <td>...</td>\n",
       "      <td>0</td>\n",
       "      <td>0</td>\n",
       "      <td>0</td>\n",
       "      <td>0</td>\n",
       "      <td>0</td>\n",
       "      <td>0</td>\n",
       "      <td>0</td>\n",
       "      <td>0</td>\n",
       "      <td>0</td>\n",
       "      <td>0</td>\n",
       "    </tr>\n",
       "    <tr>\n",
       "      <th>1</th>\n",
       "      <td>174413ec-4ec4c1f7-34ea26b7-c5f994f8-79ef1962</td>\n",
       "      <td>10000032</td>\n",
       "      <td>s50414267</td>\n",
       "      <td>LATERAL</td>\n",
       "      <td>lateral</td>\n",
       "      <td>files/p10/p10000032/s50414267/174413ec-4ec4c1f...</td>\n",
       "      <td>0</td>\n",
       "      <td>0</td>\n",
       "      <td>0</td>\n",
       "      <td>0</td>\n",
       "      <td>...</td>\n",
       "      <td>0</td>\n",
       "      <td>0</td>\n",
       "      <td>0</td>\n",
       "      <td>0</td>\n",
       "      <td>0</td>\n",
       "      <td>0</td>\n",
       "      <td>0</td>\n",
       "      <td>0</td>\n",
       "      <td>0</td>\n",
       "      <td>0</td>\n",
       "    </tr>\n",
       "    <tr>\n",
       "      <th>2</th>\n",
       "      <td>2a2277a9-b0ded155-c0de8eb9-c124d10e-82c5caab</td>\n",
       "      <td>10000032</td>\n",
       "      <td>s53189527</td>\n",
       "      <td>PA</td>\n",
       "      <td>postero-anterior</td>\n",
       "      <td>files/p10/p10000032/s53189527/2a2277a9-b0ded15...</td>\n",
       "      <td>0</td>\n",
       "      <td>0</td>\n",
       "      <td>0</td>\n",
       "      <td>0</td>\n",
       "      <td>...</td>\n",
       "      <td>0</td>\n",
       "      <td>0</td>\n",
       "      <td>0</td>\n",
       "      <td>0</td>\n",
       "      <td>1</td>\n",
       "      <td>0</td>\n",
       "      <td>0</td>\n",
       "      <td>0</td>\n",
       "      <td>0</td>\n",
       "      <td>0</td>\n",
       "    </tr>\n",
       "    <tr>\n",
       "      <th>3</th>\n",
       "      <td>e084de3b-be89b11e-20fe3f9f-9c8d8dfe-4cfd202c</td>\n",
       "      <td>10000032</td>\n",
       "      <td>s53189527</td>\n",
       "      <td>LATERAL</td>\n",
       "      <td>lateral</td>\n",
       "      <td>files/p10/p10000032/s53189527/e084de3b-be89b11...</td>\n",
       "      <td>0</td>\n",
       "      <td>0</td>\n",
       "      <td>0</td>\n",
       "      <td>0</td>\n",
       "      <td>...</td>\n",
       "      <td>0</td>\n",
       "      <td>0</td>\n",
       "      <td>0</td>\n",
       "      <td>0</td>\n",
       "      <td>1</td>\n",
       "      <td>0</td>\n",
       "      <td>0</td>\n",
       "      <td>0</td>\n",
       "      <td>0</td>\n",
       "      <td>0</td>\n",
       "    </tr>\n",
       "    <tr>\n",
       "      <th>4</th>\n",
       "      <td>68b5c4b1-227d0485-9cc38c3f-7b84ab51-4b472714</td>\n",
       "      <td>10000032</td>\n",
       "      <td>s53911762</td>\n",
       "      <td>AP</td>\n",
       "      <td>antero-posterior</td>\n",
       "      <td>files/p10/p10000032/s53911762/68b5c4b1-227d048...</td>\n",
       "      <td>0</td>\n",
       "      <td>0</td>\n",
       "      <td>0</td>\n",
       "      <td>0</td>\n",
       "      <td>...</td>\n",
       "      <td>0</td>\n",
       "      <td>0</td>\n",
       "      <td>0</td>\n",
       "      <td>0</td>\n",
       "      <td>1</td>\n",
       "      <td>0</td>\n",
       "      <td>0</td>\n",
       "      <td>0</td>\n",
       "      <td>0</td>\n",
       "      <td>0</td>\n",
       "    </tr>\n",
       "    <tr>\n",
       "      <th>...</th>\n",
       "      <td>...</td>\n",
       "      <td>...</td>\n",
       "      <td>...</td>\n",
       "      <td>...</td>\n",
       "      <td>...</td>\n",
       "      <td>...</td>\n",
       "      <td>...</td>\n",
       "      <td>...</td>\n",
       "      <td>...</td>\n",
       "      <td>...</td>\n",
       "      <td>...</td>\n",
       "      <td>...</td>\n",
       "      <td>...</td>\n",
       "      <td>...</td>\n",
       "      <td>...</td>\n",
       "      <td>...</td>\n",
       "      <td>...</td>\n",
       "      <td>...</td>\n",
       "      <td>...</td>\n",
       "      <td>...</td>\n",
       "      <td>...</td>\n",
       "    </tr>\n",
       "    <tr>\n",
       "      <th>258866</th>\n",
       "      <td>428e2c18-5721d8f3-35a05001-36f3d080-9053b83c</td>\n",
       "      <td>19999733</td>\n",
       "      <td>s57132437</td>\n",
       "      <td>PA</td>\n",
       "      <td>postero-anterior</td>\n",
       "      <td>files/p19/p19999733/s57132437/428e2c18-5721d8f...</td>\n",
       "      <td>0</td>\n",
       "      <td>0</td>\n",
       "      <td>0</td>\n",
       "      <td>0</td>\n",
       "      <td>...</td>\n",
       "      <td>0</td>\n",
       "      <td>0</td>\n",
       "      <td>0</td>\n",
       "      <td>0</td>\n",
       "      <td>0</td>\n",
       "      <td>0</td>\n",
       "      <td>0</td>\n",
       "      <td>0</td>\n",
       "      <td>0</td>\n",
       "      <td>0</td>\n",
       "    </tr>\n",
       "    <tr>\n",
       "      <th>258867</th>\n",
       "      <td>58c403aa-35ff8bd9-73e39f54-8dc9cc5d-e0ec3fa9</td>\n",
       "      <td>19999733</td>\n",
       "      <td>s57132437</td>\n",
       "      <td>LATERAL</td>\n",
       "      <td>lateral</td>\n",
       "      <td>files/p19/p19999733/s57132437/58c403aa-35ff8bd...</td>\n",
       "      <td>0</td>\n",
       "      <td>0</td>\n",
       "      <td>0</td>\n",
       "      <td>0</td>\n",
       "      <td>...</td>\n",
       "      <td>0</td>\n",
       "      <td>0</td>\n",
       "      <td>0</td>\n",
       "      <td>0</td>\n",
       "      <td>0</td>\n",
       "      <td>0</td>\n",
       "      <td>0</td>\n",
       "      <td>0</td>\n",
       "      <td>0</td>\n",
       "      <td>0</td>\n",
       "    </tr>\n",
       "    <tr>\n",
       "      <th>258868</th>\n",
       "      <td>58766883-376a15ce-3b323a28-6af950a0-16b793bd</td>\n",
       "      <td>19999987</td>\n",
       "      <td>s55368167</td>\n",
       "      <td>AP</td>\n",
       "      <td>antero-posterior</td>\n",
       "      <td>files/p19/p19999987/s55368167/58766883-376a15c...</td>\n",
       "      <td>0</td>\n",
       "      <td>1</td>\n",
       "      <td>0</td>\n",
       "      <td>0</td>\n",
       "      <td>...</td>\n",
       "      <td>0</td>\n",
       "      <td>0</td>\n",
       "      <td>0</td>\n",
       "      <td>0</td>\n",
       "      <td>0</td>\n",
       "      <td>0</td>\n",
       "      <td>0</td>\n",
       "      <td>0</td>\n",
       "      <td>0</td>\n",
       "      <td>0</td>\n",
       "    </tr>\n",
       "    <tr>\n",
       "      <th>258869</th>\n",
       "      <td>7ba273af-3d290f8d-e28d0ab4-484b7a86-7fc12b08</td>\n",
       "      <td>19999987</td>\n",
       "      <td>s58621812</td>\n",
       "      <td>AP</td>\n",
       "      <td>antero-posterior</td>\n",
       "      <td>files/p19/p19999987/s58621812/7ba273af-3d290f8...</td>\n",
       "      <td>0</td>\n",
       "      <td>1</td>\n",
       "      <td>0</td>\n",
       "      <td>0</td>\n",
       "      <td>...</td>\n",
       "      <td>0</td>\n",
       "      <td>0</td>\n",
       "      <td>0</td>\n",
       "      <td>0</td>\n",
       "      <td>0</td>\n",
       "      <td>0</td>\n",
       "      <td>0</td>\n",
       "      <td>1</td>\n",
       "      <td>0</td>\n",
       "      <td>0</td>\n",
       "    </tr>\n",
       "    <tr>\n",
       "      <th>258870</th>\n",
       "      <td>1a1fe7e3-cbac5d93-b339aeda-86bb86b5-4f31e82e</td>\n",
       "      <td>19999987</td>\n",
       "      <td>s58971208</td>\n",
       "      <td>AP</td>\n",
       "      <td>antero-posterior</td>\n",
       "      <td>files/p19/p19999987/s58971208/1a1fe7e3-cbac5d9...</td>\n",
       "      <td>0</td>\n",
       "      <td>1</td>\n",
       "      <td>0</td>\n",
       "      <td>0</td>\n",
       "      <td>...</td>\n",
       "      <td>0</td>\n",
       "      <td>0</td>\n",
       "      <td>0</td>\n",
       "      <td>0</td>\n",
       "      <td>0</td>\n",
       "      <td>0</td>\n",
       "      <td>0</td>\n",
       "      <td>1</td>\n",
       "      <td>0</td>\n",
       "      <td>0</td>\n",
       "    </tr>\n",
       "  </tbody>\n",
       "</table>\n",
       "<p>258871 rows × 46 columns</p>\n",
       "</div>"
      ],
      "text/plain": [
       "                                            dicom_id  subject_id   study_id  \\\n",
       "0       02aa804e-bde0afdd-112c0b34-7bc16630-4e384014    10000032  s50414267   \n",
       "1       174413ec-4ec4c1f7-34ea26b7-c5f994f8-79ef1962    10000032  s50414267   \n",
       "2       2a2277a9-b0ded155-c0de8eb9-c124d10e-82c5caab    10000032  s53189527   \n",
       "3       e084de3b-be89b11e-20fe3f9f-9c8d8dfe-4cfd202c    10000032  s53189527   \n",
       "4       68b5c4b1-227d0485-9cc38c3f-7b84ab51-4b472714    10000032  s53911762   \n",
       "...                                              ...         ...        ...   \n",
       "258866  428e2c18-5721d8f3-35a05001-36f3d080-9053b83c    19999733  s57132437   \n",
       "258867  58c403aa-35ff8bd9-73e39f54-8dc9cc5d-e0ec3fa9    19999733  s57132437   \n",
       "258868  58766883-376a15ce-3b323a28-6af950a0-16b793bd    19999987  s55368167   \n",
       "258869  7ba273af-3d290f8d-e28d0ab4-484b7a86-7fc12b08    19999987  s58621812   \n",
       "258870  1a1fe7e3-cbac5d93-b339aeda-86bb86b5-4f31e82e    19999987  s58971208   \n",
       "\n",
       "       ViewPosition ViewCodeSequence_CodeMeaning  \\\n",
       "0                PA             postero-anterior   \n",
       "1           LATERAL                      lateral   \n",
       "2                PA             postero-anterior   \n",
       "3           LATERAL                      lateral   \n",
       "4                AP             antero-posterior   \n",
       "...             ...                          ...   \n",
       "258866           PA             postero-anterior   \n",
       "258867      LATERAL                      lateral   \n",
       "258868           AP             antero-posterior   \n",
       "258869           AP             antero-posterior   \n",
       "258870           AP             antero-posterior   \n",
       "\n",
       "                                                    fpath  Adenopathy  \\\n",
       "0       files/p10/p10000032/s50414267/02aa804e-bde0afd...           0   \n",
       "1       files/p10/p10000032/s50414267/174413ec-4ec4c1f...           0   \n",
       "2       files/p10/p10000032/s53189527/2a2277a9-b0ded15...           0   \n",
       "3       files/p10/p10000032/s53189527/e084de3b-be89b11...           0   \n",
       "4       files/p10/p10000032/s53911762/68b5c4b1-227d048...           0   \n",
       "...                                                   ...         ...   \n",
       "258866  files/p19/p19999733/s57132437/428e2c18-5721d8f...           0   \n",
       "258867  files/p19/p19999733/s57132437/58c403aa-35ff8bd...           0   \n",
       "258868  files/p19/p19999987/s55368167/58766883-376a15c...           0   \n",
       "258869  files/p19/p19999987/s58621812/7ba273af-3d290f8...           0   \n",
       "258870  files/p19/p19999987/s58971208/1a1fe7e3-cbac5d9...           0   \n",
       "\n",
       "        Atelectasis  Azygos Lobe  Calcification of the Aorta  ...  \\\n",
       "0                 0            0                           0  ...   \n",
       "1                 0            0                           0  ...   \n",
       "2                 0            0                           0  ...   \n",
       "3                 0            0                           0  ...   \n",
       "4                 0            0                           0  ...   \n",
       "...             ...          ...                         ...  ...   \n",
       "258866            0            0                           0  ...   \n",
       "258867            0            0                           0  ...   \n",
       "258868            1            0                           0  ...   \n",
       "258869            1            0                           0  ...   \n",
       "258870            1            0                           0  ...   \n",
       "\n",
       "        Pneumoperitoneum  Pneumothorax  Pulmonary Embolism  \\\n",
       "0                      0             0                   0   \n",
       "1                      0             0                   0   \n",
       "2                      0             0                   0   \n",
       "3                      0             0                   0   \n",
       "4                      0             0                   0   \n",
       "...                  ...           ...                 ...   \n",
       "258866                 0             0                   0   \n",
       "258867                 0             0                   0   \n",
       "258868                 0             0                   0   \n",
       "258869                 0             0                   0   \n",
       "258870                 0             0                   0   \n",
       "\n",
       "        Pulmonary Hypertension  Rib Fracture  Round(ed) Atelectasis  \\\n",
       "0                            0             0                      0   \n",
       "1                            0             0                      0   \n",
       "2                            0             1                      0   \n",
       "3                            0             1                      0   \n",
       "4                            0             1                      0   \n",
       "...                        ...           ...                    ...   \n",
       "258866                       0             0                      0   \n",
       "258867                       0             0                      0   \n",
       "258868                       0             0                      0   \n",
       "258869                       0             0                      0   \n",
       "258870                       0             0                      0   \n",
       "\n",
       "        Subcutaneous Emphysema  Support Devices  Tortuous Aorta  Tuberculosis  \n",
       "0                            0                0               0             0  \n",
       "1                            0                0               0             0  \n",
       "2                            0                0               0             0  \n",
       "3                            0                0               0             0  \n",
       "4                            0                0               0             0  \n",
       "...                        ...              ...             ...           ...  \n",
       "258866                       0                0               0             0  \n",
       "258867                       0                0               0             0  \n",
       "258868                       0                0               0             0  \n",
       "258869                       0                1               0             0  \n",
       "258870                       0                1               0             0  \n",
       "\n",
       "[258871 rows x 46 columns]"
      ]
     },
     "execution_count": 19,
     "metadata": {},
     "output_type": "execute_result"
    }
   ],
   "source": [
    "task1_train_df"
   ]
  },
  {
   "cell_type": "code",
   "execution_count": 21,
   "metadata": {},
   "outputs": [],
   "source": [
    "from medvqa.datasets.mimiccxr import load_mimiccxr_reports_detailed_metadata\n",
    "from medvqa.utils.files import list_filepaths_with_prefix_and_timestamps"
   ]
  },
  {
   "cell_type": "code",
   "execution_count": 22,
   "metadata": {},
   "outputs": [
    {
     "data": {
      "text/plain": [
       "[('/mnt/data/pamessina/workspaces/medvqa-workspace/cache/mimiccxr/background_findings_and_impression_20230612_174143.json__detailed_metadata.pkl',\n",
       "  '2023-08-29 10:04:02'),\n",
       " ('/mnt/data/pamessina/workspaces/medvqa-workspace/cache/mimiccxr/background_findings_and_impression_20230612_174143.json',\n",
       "  '2023-06-12 17:41:46'),\n",
       " ('/mnt/data/pamessina/workspaces/medvqa-workspace/cache/mimiccxr/background_findings_and_impression_20230610_132343.json',\n",
       "  '2023-06-10 13:23:46')]"
      ]
     },
     "execution_count": 22,
     "metadata": {},
     "output_type": "execute_result"
    }
   ],
   "source": [
    "list_filepaths_with_prefix_and_timestamps('/mnt/data/pamessina/workspaces/medvqa-workspace/cache/mimiccxr/background_findings')"
   ]
  },
  {
   "cell_type": "code",
   "execution_count": 26,
   "metadata": {},
   "outputs": [
    {
     "data": {
      "text/plain": [
       "[('/mnt/workspace/pamessina/medvqa-workspace/cache/mimiccxr/bbox_coords_and_presence_and_mask(13,13,243310).pkl',\n",
       "  '2023-11-21 09:25:57')]"
      ]
     },
     "execution_count": 26,
     "metadata": {},
     "output_type": "execute_result"
    }
   ],
   "source": [
    "list_filepaths_with_prefix_and_timestamps('/mnt/workspace/pamessina/medvqa-workspace/cache/mimiccxr/b')"
   ]
  },
  {
   "cell_type": "code",
   "execution_count": 27,
   "metadata": {},
   "outputs": [],
   "source": [
    "metadata = load_mimiccxr_reports_detailed_metadata(background_findings_and_impression_per_report_filepath='/mnt/data/pamessina/workspaces/medvqa-workspace/cache/mimiccxr/background_findings_and_impression_20230612_174143.json')"
   ]
  },
  {
   "cell_type": "code",
   "execution_count": 29,
   "metadata": {},
   "outputs": [
    {
     "data": {
      "text/plain": [
       "58829627"
      ]
     },
     "execution_count": 29,
     "metadata": {},
     "output_type": "execute_result"
    }
   ],
   "source": [
    "metadata['study_ids'][0]"
   ]
  },
  {
   "cell_type": "code",
   "execution_count": 38,
   "metadata": {},
   "outputs": [],
   "source": [
    "from medvqa.evaluation.plots import plot_barchart    "
   ]
  },
  {
   "cell_type": "code",
   "execution_count": 39,
   "metadata": {},
   "outputs": [],
   "source": [
    "label_names = read_lines_from_txt('/mnt/data/MICCAI-2024-CXRLT/task1_development_starting_kit/CLASSES.txt')\n",
    "binary_label_matrix = task1_train_df[label_names].values"
   ]
  },
  {
   "cell_type": "code",
   "execution_count": 46,
   "metadata": {},
   "outputs": [
    {
     "data": {
      "image/png": "[encoded data removed]",
      "text/plain": [
       "<Figure size 700x900 with 1 Axes>"
      ]
     },
     "metadata": {},
     "output_type": "display_data"
    }
   ],
   "source": [
    "values = binary_label_matrix.sum(0)\n",
    "plot_barchart(\n",
    "    values=values,\n",
    "    title='Task 1: Label Distribution',\n",
    "    xlabel='Label',\n",
    "    ylabel='Frequency',\n",
    "    figsize=(7, 9),\n",
    "    sort_values=True,\n",
    "    bar_names=label_names,\n",
    "    write_values_on_bars=True,\n",
    "    horizontal=True,\n",
    ")"
   ]
  },
  {
   "cell_type": "code",
   "execution_count": 74,
   "metadata": {},
   "outputs": [
    {
     "data": {
      "text/plain": [
       "['Adenopathy',\n",
       " 'Atelectasis',\n",
       " 'Azygos Lobe',\n",
       " 'Calcification of the Aorta',\n",
       " 'Cardiomegaly',\n",
       " 'Clavicle Fracture',\n",
       " 'Consolidation',\n",
       " 'Edema',\n",
       " 'Emphysema',\n",
       " 'Enlarged Cardiomediastinum',\n",
       " 'Fibrosis',\n",
       " 'Fissure',\n",
       " 'Fracture',\n",
       " 'Granuloma',\n",
       " 'Hernia',\n",
       " 'Hydropneumothorax',\n",
       " 'Infarction',\n",
       " 'Infiltration',\n",
       " 'Kyphosis',\n",
       " 'Lobar Atelectasis',\n",
       " 'Lung Lesion',\n",
       " 'Lung Opacity',\n",
       " 'Mass',\n",
       " 'Nodule',\n",
       " 'Normal',\n",
       " 'Pleural Effusion',\n",
       " 'Pleural Other',\n",
       " 'Pleural Thickening',\n",
       " 'Pneumomediastinum',\n",
       " 'Pneumonia',\n",
       " 'Pneumoperitoneum',\n",
       " 'Pneumothorax',\n",
       " 'Pulmonary Embolism',\n",
       " 'Pulmonary Hypertension',\n",
       " 'Rib Fracture',\n",
       " 'Round(ed) Atelectasis',\n",
       " 'Subcutaneous Emphysema',\n",
       " 'Support Devices',\n",
       " 'Tortuous Aorta',\n",
       " 'Tuberculosis']"
      ]
     },
     "execution_count": 74,
     "metadata": {},
     "output_type": "execute_result"
    }
   ],
   "source": [
    "label_names"
   ]
  },
  {
   "cell_type": "code",
   "execution_count": 30,
   "metadata": {},
   "outputs": [],
   "source": [
    "def get_study_ids_with_label(df, label_name):\n",
    "    return df[df[label_name] == 1].study_id.unique().tolist()"
   ]
  },
  {
   "cell_type": "code",
   "execution_count": 125,
   "metadata": {},
   "outputs": [
    {
     "data": {
      "text/plain": [
       "1483"
      ]
     },
     "execution_count": 125,
     "metadata": {},
     "output_type": "execute_result"
    }
   ],
   "source": [
    "study_ids = get_study_ids_with_label(task1_train_df, 'Subcutaneous Emphysema')\n",
    "len(study_ids)"
   ]
  },
  {
   "cell_type": "code",
   "execution_count": 100,
   "metadata": {},
   "outputs": [],
   "source": [
    "import random\n",
    "\n",
    "def find_random_report(study_ids, metadata, print_chatgpt_input=False):\n",
    "    study_id = random.choice(study_ids)\n",
    "    assert study_id[0] == 's'\n",
    "    study_id = int(study_id[1:])\n",
    "    idx = metadata['study_ids'].index(study_id)\n",
    "    background = metadata['backgrounds'][idx]\n",
    "    findings = metadata['findings'][idx]\n",
    "    impression = metadata['impressions'][idx]\n",
    "    if print_chatgpt_input:\n",
    "        parts = []\n",
    "        if background:\n",
    "            parts.append(background)\n",
    "        if findings:\n",
    "            parts.append(f'Findings: {findings}')\n",
    "        if impression:\n",
    "            parts.append(f'Impression: {impression}')\n",
    "        report = \"\"\n",
    "        for part in parts:\n",
    "            if report:\n",
    "                if report[-1] != '.':\n",
    "                    report += '.'\n",
    "                report += ' '\n",
    "            report += part\n",
    "        print(\"Report:\")\n",
    "        print(report)\n",
    "    return {\n",
    "        'study_id': study_id,\n",
    "        'background': background,\n",
    "        'findings': findings,\n",
    "        'impression': impression\n",
    "    }"
   ]
  },
  {
   "cell_type": "code",
   "execution_count": 128,
   "metadata": {},
   "outputs": [
    {
     "name": "stdout",
     "output_type": "stream",
     "text": [
      "Report:\n",
      "history: -year-old man fell with subdural hematoma, subarachnoid hemorrhage and pneumothorax on the left. Discontinued his left pleural tube. Findings: 5:50 PM No evidence of re-accumulation of left pneumothorax. AP chest compared to 4:03 p.m.:. There is no pneumothorax or pleural effusion despite multiple left rib fractures, and a nondisplaced clavicle fracture. Cardiomediastinal silhouette has been stable since earlier in the day when torso CT showed no mediastinal bleeding. Mild pulmonary vascular engorgement is probably due to volume resuscitation. Gaseous distention of the stomach is still present. Very small amount of subcutaneous emphysema in the left lateral abdominal wall is not necessarily clinically significant.\n"
     ]
    },
    {
     "data": {
      "text/plain": [
       "{'study_id': 57003156,\n",
       " 'background': 'history: -year-old man fell with subdural hematoma, subarachnoid hemorrhage and pneumothorax on the left. Discontinued his left pleural tube.',\n",
       " 'findings': '5:50 PM No evidence of re-accumulation of left pneumothorax. AP chest compared to 4:03 p.m.:. There is no pneumothorax or pleural effusion despite multiple left rib fractures, and a nondisplaced clavicle fracture. Cardiomediastinal silhouette has been stable since earlier in the day when torso CT showed no mediastinal bleeding. Mild pulmonary vascular engorgement is probably due to volume resuscitation. Gaseous distention of the stomach is still present. Very small amount of subcutaneous emphysema in the left lateral abdominal wall is not necessarily clinically significant.',\n",
       " 'impression': ''}"
      ]
     },
     "execution_count": 128,
     "metadata": {},
     "output_type": "execute_result"
    }
   ],
   "source": [
    "find_random_report(study_ids, metadata, print_chatgpt_input=True)"
   ]
  },
  {
   "cell_type": "code",
   "execution_count": 60,
   "metadata": {},
   "outputs": [
    {
     "data": {
      "text/plain": [
       "[('/mnt/workspace/pamessina/medvqa-workspace/cache/mimiccxr_integrated_data(hash=1649,2670402002373726730).pkl.gz',\n",
       "  '2024-04-23 01:51:18'),\n",
       " ('/mnt/workspace/pamessina/medvqa-workspace/cache/mimiccxr_integrated_data(hash=1649,2670402002373726730).pkl',\n",
       "  '2024-04-23 01:33:38'),\n",
       " ('/mnt/workspace/pamessina/medvqa-workspace/cache/mimiccxr_fact_based_integrated_nli_predictions(hash=997,3191870595512725333).pkl',\n",
       "  '2024-04-22 09:41:55'),\n",
       " ('/mnt/workspace/pamessina/medvqa-workspace/cache/mimiccxr_label_based_facts_integrated_nli_predictions(hash=739,3322246754106464866).pkl',\n",
       "  '2024-04-20 21:06:33'),\n",
       " ('/mnt/workspace/pamessina/medvqa-workspace/cache/mimiccxr/integrated_report_annotations_v2.pkl',\n",
       "  '2023-10-14 23:06:53'),\n",
       " ('/mnt/workspace/pamessina/medvqa-workspace/cache/mimiccxr/integrated_report_annotations(hash=1005,3660907086036749586).pkl',\n",
       "  '2023-10-14 22:33:16'),\n",
       " ('/mnt/workspace/pamessina/medvqa-workspace/cache/mimiccxr/integrated_report_annotations_v1.pkl',\n",
       "  '2023-10-01 16:06:12'),\n",
       " ('/mnt/workspace/pamessina/medvqa-workspace/cache/mimiccxr/integrated_report_annotations(hash=1002,2626062727926274163).pkl',\n",
       "  '2023-10-01 15:05:36')]"
      ]
     },
     "execution_count": 60,
     "metadata": {},
     "output_type": "execute_result"
    }
   ],
   "source": [
    "list_filepaths_with_prefix_and_timestamps('/mnt/workspace/pamessina/medvqa-workspace/cache/mimiccxr', must_contain=['integr'])"
   ]
  },
  {
   "cell_type": "code",
   "execution_count": 62,
   "metadata": {},
   "outputs": [],
   "source": [
    "tmp = load_pickle('/mnt/workspace/pamessina/medvqa-workspace/cache/mimiccxr_integrated_data(hash=1649,2670402002373726730).pkl')"
   ]
  },
  {
   "cell_type": "code",
   "execution_count": 63,
   "metadata": {},
   "outputs": [
    {
     "data": {
      "text/plain": [
       "dict_keys(['extracted_facts', 'extracted_fact_embeddings', 'representative_fact_idxs', 'label_based_facts', 'label_based_fact_embeddings', 'reports', 'fact_based_nli_predictions', 'label_based_nli_predictions', 'gpt4_report_nli_input_output'])"
      ]
     },
     "execution_count": 63,
     "metadata": {},
     "output_type": "execute_result"
    }
   ],
   "source": [
    "tmp.keys()"
   ]
  },
  {
   "cell_type": "code",
   "execution_count": 65,
   "metadata": {},
   "outputs": [
    {
     "data": {
      "text/plain": [
       "dict_keys(['nli_predictions', 'nli_method_ids', 'nli_method_id_to_name', 'nli_prediction_to_name', 'hybrid_metadata'])"
      ]
     },
     "execution_count": 65,
     "metadata": {},
     "output_type": "execute_result"
    }
   ],
   "source": [
    "tmp['label_based_nli_predictions'].keys()"
   ]
  },
  {
   "cell_type": "code",
   "execution_count": 70,
   "metadata": {},
   "outputs": [
    {
     "data": {
      "text/plain": [
       "{0: 'hybrid', 1: 'gpt4'}"
      ]
     },
     "execution_count": 70,
     "metadata": {},
     "output_type": "execute_result"
    }
   ],
   "source": [
    "tmp['label_based_nli_predictions']['nli_method_id_to_name']"
   ]
  },
  {
   "cell_type": "code",
   "execution_count": 71,
   "metadata": {},
   "outputs": [],
   "source": [
    "tmp2 = load_pickle(\"/mnt/data/pamessina/workspaces/medvqa-workspace/cache/chest_imagenome/labels(min_freq=0,num_labels=832).pkl\")"
   ]
  },
  {
   "cell_type": "code",
   "execution_count": 77,
   "metadata": {},
   "outputs": [],
   "source": [
    "tmp3 = load_pickle(\"/mnt/data/pamessina/workspaces/medvqa-workspace/cache/chest_imagenome/imageId2labels(min_freq=0,num_labels=832).pkl\")"
   ]
  },
  {
   "cell_type": "code",
   "execution_count": 79,
   "metadata": {},
   "outputs": [],
   "source": [
    "image_ids = list(tmp3.keys())"
   ]
  },
  {
   "cell_type": "code",
   "execution_count": 84,
   "metadata": {},
   "outputs": [
    {
     "data": {
      "text/plain": [
       "array([-1, -1, -1, -1, -1, -1, -1, -1, -1, -1, -1, -1, -1, -1, -1, -1, -1,\n",
       "       -1,  0, -1,  0, -1, -1, -1, -1, -1, -1, -1, -1, -1, -1,  0, -1, -1,\n",
       "       -1, -1, -1, -1, -1, -1, -1, -1, -1, -1, -1, -1, -1, -1, -1, -1, -1,\n",
       "       -1, -1, -1, -1, -1, -1, -1, -1, -1, -1, -1, -1, -1, -1, -1, -1, -1,\n",
       "       -1, -1, -1, -1, -1, -1, -1, -1, -1, -1, -1, -1, -1, -1, -1, -1, -1,\n",
       "       -1, -1, -1, -1, -1,  0, -1, -1, -1, -1, -1, -1, -1, -1, -1, -1, -1,\n",
       "       -1, -1, -1, -1, -1, -1, -1, -1, -1, -1, -1, -1, -1, -1, -1, -1, -1,\n",
       "       -1, -1, -1, -1, -1, -1, -1,  0, -1, -1, -1, -1, -1, -1, -1, -1, -1,\n",
       "       -1, -1, -1, -1, -1, -1, -1, -1, -1, -1, -1, -1, -1, -1, -1, -1, -1,\n",
       "       -1, -1, -1, -1, -1, -1, -1, -1, -1, -1, -1, -1, -1, -1, -1, -1, -1,\n",
       "       -1, -1, -1, -1, -1, -1, -1, -1,  1, -1, -1, -1, -1, -1, -1, -1, -1,\n",
       "       -1, -1, -1,  1, -1, -1, -1, -1, -1, -1, -1, -1, -1, -1, -1, -1, -1,\n",
       "       -1, -1, -1, -1, -1,  1, -1, -1, -1, -1, -1, -1, -1, -1, -1, -1, -1,\n",
       "        1, -1, -1,  0, -1, -1, -1, -1, -1, -1, -1, -1, -1,  1, -1, -1,  0,\n",
       "       -1,  0, -1, -1, -1, -1, -1, -1, -1, -1, -1, -1, -1, -1, -1,  1, -1,\n",
       "       -1, -1, -1, -1, -1, -1, -1, -1, -1, -1, -1, -1, -1, -1, -1, -1, -1,\n",
       "       -1, -1, -1, -1, -1, -1, -1, -1, -1, -1, -1, -1, -1, -1, -1, -1, -1,\n",
       "       -1, -1, -1, -1, -1, -1, -1, -1, -1, -1, -1, -1, -1, -1, -1, -1, -1,\n",
       "       -1, -1, -1, -1, -1, -1, -1, -1, -1, -1, -1, -1, -1, -1, -1, -1, -1,\n",
       "       -1, -1, -1, -1, -1, -1, -1, -1, -1, -1, -1, -1, -1, -1, -1, -1, -1,\n",
       "       -1, -1, -1, -1, -1, -1, -1, -1, -1, -1,  0,  0, -1,  0, -1, -1, -1,\n",
       "       -1, -1, -1,  0, -1, -1, -1, -1, -1, -1, -1, -1, -1, -1, -1, -1, -1,\n",
       "       -1, -1, -1, -1, -1, -1, -1, -1, -1, -1, -1, -1, -1, -1, -1, -1, -1,\n",
       "       -1, -1, -1, -1, -1, -1, -1, -1, -1, -1, -1, -1, -1, -1, -1, -1, -1,\n",
       "       -1, -1, -1, -1, -1, -1, -1, -1, -1, -1, -1, -1, -1, -1, -1, -1, -1,\n",
       "        0, -1, -1, -1, -1, -1, -1, -1, -1, -1, -1, -1, -1, -1, -1, -1, -1,\n",
       "       -1, -1, -1, -1, -1, -1, -1, -1, -1, -1, -1, -1, -1, -1, -1, -1, -1,\n",
       "       -1, -1,  0, -1, -1, -1, -1, -1, -1, -1, -1, -1, -1, -1, -1, -1, -1,\n",
       "       -1, -1, -1, -1, -1, -1, -1, -1, -1, -1, -1, -1, -1, -1, -1, -1, -1,\n",
       "       -1, -1, -1, -1, -1, -1, -1, -1, -1, -1, -1, -1, -1, -1, -1, -1, -1,\n",
       "       -1, -1, -1, -1, -1, -1, -1, -1, -1, -1, -1, -1, -1, -1, -1, -1, -1,\n",
       "       -1, -1, -1, -1, -1, -1, -1, -1, -1, -1, -1, -1, -1, -1, -1, -1, -1,\n",
       "       -1, -1, -1, -1, -1, -1, -1, -1, -1, -1, -1, -1, -1, -1, -1, -1, -1,\n",
       "        0, -1, -1, -1, -1, -1, -1, -1, -1, -1, -1, -1, -1,  0, -1,  0, -1,\n",
       "       -1, -1, -1, -1, -1, -1, -1, -1, -1, -1, -1, -1,  0, -1, -1, -1, -1,\n",
       "       -1, -1, -1, -1, -1, -1, -1, -1, -1, -1, -1, -1, -1, -1, -1, -1, -1,\n",
       "       -1, -1, -1, -1, -1, -1, -1, -1, -1, -1, -1, -1, -1, -1, -1, -1, -1,\n",
       "       -1, -1, -1, -1, -1, -1, -1, -1, -1, -1, -1, -1, -1, -1, -1, -1, -1,\n",
       "       -1, -1, -1, -1, -1, -1, -1, -1, -1, -1, -1, -1, -1, -1, -1, -1, -1,\n",
       "       -1, -1, -1, -1, -1, -1, -1, -1, -1, -1, -1, -1, -1, -1, -1, -1, -1,\n",
       "       -1, -1, -1, -1, -1, -1, -1, -1, -1, -1, -1, -1, -1, -1, -1, -1, -1,\n",
       "       -1, -1, -1, -1, -1, -1, -1, -1, -1, -1, -1, -1, -1, -1, -1, -1, -1,\n",
       "       -1, -1, -1, -1, -1, -1, -1,  0,  0, -1,  0, -1, -1, -1, -1, -1, -1,\n",
       "       -1, -1,  0, -1, -1, -1, -1, -1, -1, -1, -1, -1, -1, -1, -1, -1,  1,\n",
       "       -1, -1, -1, -1,  0, -1, -1, -1, -1,  0, -1, -1, -1, -1, -1, -1, -1,\n",
       "       -1, -1,  1, -1,  0,  0, -1,  0, -1, -1,  0, -1,  0, -1, -1, -1, -1,\n",
       "       -1, -1,  0, -1, -1, -1, -1, -1, -1, -1, -1, -1, -1, -1, -1, -1, -1,\n",
       "       -1, -1, -1, -1, -1, -1,  1, -1, -1, -1, -1, -1, -1, -1, -1, -1, -1,\n",
       "       -1, -1, -1, -1, -1, -1, -1, -1, -1, -1, -1, -1, -1, -1, -1, -1],\n",
       "      dtype=int8)"
      ]
     },
     "execution_count": 84,
     "metadata": {},
     "output_type": "execute_result"
    }
   ],
   "source": [
    "tmp3[image_ids[0]]"
   ]
  },
  {
   "cell_type": "code",
   "execution_count": 73,
   "metadata": {},
   "outputs": [
    {
     "data": {
      "text/plain": [
       "[('anatomicalfinding', 'airspace opacity'),\n",
       " ('anatomicalfinding', 'atelectasis'),\n",
       " ('anatomicalfinding', 'bone lesion'),\n",
       " ('anatomicalfinding', 'bronchiectasis'),\n",
       " ('anatomicalfinding', 'calcified nodule'),\n",
       " ('anatomicalfinding', 'clavicle fracture'),\n",
       " ('anatomicalfinding', 'consolidation'),\n",
       " ('anatomicalfinding', 'costophrenic angle blunting'),\n",
       " ('anatomicalfinding', 'cyst/bullae'),\n",
       " ('anatomicalfinding', 'diaphragmatic eventration (benign)'),\n",
       " ('anatomicalfinding', 'elevated hemidiaphragm'),\n",
       " ('anatomicalfinding', 'enlarged cardiac silhouette'),\n",
       " ('anatomicalfinding', 'enlarged hilum'),\n",
       " ('anatomicalfinding', 'hernia'),\n",
       " ('anatomicalfinding', 'hydropneumothorax'),\n",
       " ('anatomicalfinding', 'hyperaeration'),\n",
       " ('anatomicalfinding', 'increased reticular markings/ild pattern'),\n",
       " ('anatomicalfinding', 'infiltration'),\n",
       " ('anatomicalfinding', 'linear/patchy atelectasis'),\n",
       " ('anatomicalfinding', 'lobar/segmental collapse'),\n",
       " ('anatomicalfinding', 'lung lesion'),\n",
       " ('anatomicalfinding', 'lung opacity'),\n",
       " ('anatomicalfinding', 'mass/nodule (not otherwise specified)'),\n",
       " ('anatomicalfinding', 'mediastinal displacement'),\n",
       " ('anatomicalfinding', 'mediastinal widening'),\n",
       " ('anatomicalfinding', 'multiple masses/nodules'),\n",
       " ('anatomicalfinding', 'pleural effusion'),\n",
       " ('anatomicalfinding', 'pleural/parenchymal scarring'),\n",
       " ('anatomicalfinding', 'pneumomediastinum'),\n",
       " ('anatomicalfinding', 'pneumothorax'),\n",
       " ('anatomicalfinding', 'pulmonary edema/hazy opacity'),\n",
       " ('anatomicalfinding', 'rib fracture'),\n",
       " ('anatomicalfinding', 'scoliosis'),\n",
       " ('anatomicalfinding', 'shoulder osteoarthritis'),\n",
       " ('anatomicalfinding', 'spinal degenerative changes'),\n",
       " ('anatomicalfinding', 'spinal fracture'),\n",
       " ('anatomicalfinding', 'sub-diaphragmatic air'),\n",
       " ('anatomicalfinding', 'subcutaneous air'),\n",
       " ('anatomicalfinding', 'superior mediastinal mass/enlargement'),\n",
       " ('anatomicalfinding', 'tortuous aorta'),\n",
       " ('anatomicalfinding', 'vascular calcification'),\n",
       " ('anatomicalfinding', 'vascular congestion'),\n",
       " ('anatomicalfinding', 'vascular redistribution'),\n",
       " ('device', 'aortic graft/repair'),\n",
       " ('device', 'cabg grafts'),\n",
       " ('device', 'cardiac pacer and wires'),\n",
       " ('device', 'prosthetic valve'),\n",
       " ('disease', 'alveolar hemorrhage'),\n",
       " ('disease', 'aspiration'),\n",
       " ('disease', 'copd/emphysema'),\n",
       " ('disease', 'fluid overload/heart failure'),\n",
       " ('disease', 'goiter'),\n",
       " ('disease', 'granulomatous disease'),\n",
       " ('disease', 'interstitial lung disease'),\n",
       " ('disease', 'lung cancer'),\n",
       " ('disease', 'pericardial effusion'),\n",
       " ('disease', 'pneumonia'),\n",
       " ('laterality', 'left'),\n",
       " ('laterality', 'right'),\n",
       " ('nlp', 'abnormal'),\n",
       " ('severity', 'hedge'),\n",
       " ('severity', 'mild'),\n",
       " ('severity', 'moderate'),\n",
       " ('severity', 'severe'),\n",
       " ('technicalassessment', 'artifact'),\n",
       " ('technicalassessment', 'breast/nipple shadows'),\n",
       " ('technicalassessment', 'low lung volumes'),\n",
       " ('technicalassessment', 'rotated'),\n",
       " ('technicalassessment', 'skin fold'),\n",
       " ('temporal', 'acute'),\n",
       " ('texture', 'alveolar'),\n",
       " ('texture', 'calcified'),\n",
       " ('texture', 'interstitial'),\n",
       " ('texture', 'opacity'),\n",
       " ('tubesandlines', 'chest port'),\n",
       " ('tubesandlines', 'chest tube'),\n",
       " ('tubesandlines', 'endotracheal tube'),\n",
       " ('tubesandlines', 'enteric tube'),\n",
       " ('tubesandlines', 'ij line'),\n",
       " ('tubesandlines', 'intra-aortic balloon pump'),\n",
       " ('tubesandlines', 'mediastinal drain'),\n",
       " ('tubesandlines', 'picc'),\n",
       " ('tubesandlines', 'pigtail catheter'),\n",
       " ('tubesandlines', 'subclavian line'),\n",
       " ('tubesandlines', 'swan-ganz catheter'),\n",
       " ('tubesandlines', 'tracheostomy tube')]"
      ]
     },
     "execution_count": 73,
     "metadata": {},
     "output_type": "execute_result"
    }
   ],
   "source": [
    "[x for x in tmp2 if len(x) == 2]"
   ]
  },
  {
   "cell_type": "code",
   "execution_count": 87,
   "metadata": {},
   "outputs": [
    {
     "name": "stdout",
     "output_type": "stream",
     "text": [
      "Matched: pleural thickening\n",
      "No match found.\n",
      "Matched: pleural thicken\n",
      "Matched: Pleura thickened\n",
      "No match found.\n",
      "No match found.\n"
     ]
    }
   ],
   "source": [
    "import re\n",
    "\n",
    "# Regular expression pattern\n",
    "pattern = r'\\bpleur(?:a|al)?\\s+thicken(?:ing|ed)?\\b'\n",
    "\n",
    "# Test strings\n",
    "test_strings = [\n",
    "    \"The patient has pleural thickening in the left lung.\",\n",
    "    \"Evidence of pleural fibrosis observed.\",\n",
    "    \"There is a pleural thicken noted on the x-ray.\",\n",
    "    \"Pleura thickened in areas.\",\n",
    "    \"Signs of pleural calcification are present.\",\n",
    "    \"Pleural scarring was detected.\"\n",
    "]\n",
    "\n",
    "# Applying the pattern to test strings\n",
    "for text in test_strings:\n",
    "    match = re.search(pattern, text, re.IGNORECASE)\n",
    "    if match:\n",
    "        print(f\"Matched: {match.group()}\")\n",
    "    else:\n",
    "        print(\"No match found.\")"
   ]
  },
  {
   "cell_type": "code",
   "execution_count": 88,
   "metadata": {},
   "outputs": [
    {
     "name": "stdout",
     "output_type": "stream",
     "text": [
      "Matched: Pulmonary Embolism\n",
      "Matched: pulmonary embolism\n",
      "Matched: Pulmonary emboli\n",
      "Matched: PE\n",
      "Matched: pe\n",
      "No match found.\n"
     ]
    }
   ],
   "source": [
    "import re\n",
    "\n",
    "# Regular expression pattern\n",
    "pattern = r'\\b(?:Pulmonary\\s+Embol(?:ism|i)|PE)\\b'\n",
    "\n",
    "# Test strings\n",
    "test_strings = [\n",
    "    \"The patient was diagnosed with Pulmonary Embolism.\",\n",
    "    \"There are signs of pulmonary embolism in the scan.\",\n",
    "    \"Pulmonary emboli were found in the patient's lungs.\",\n",
    "    \"The diagnosis was confirmed as PE.\",\n",
    "    \"pe should be considered given the symptoms.\",\n",
    "    \"Signs of Pulmonary Embol were detected.\"  # For misspellings\n",
    "]\n",
    "\n",
    "# Applying the pattern to test strings\n",
    "for text in test_strings:\n",
    "    match = re.search(pattern, text, re.IGNORECASE)\n",
    "    if match:\n",
    "        print(f\"Matched: {match.group()}\")\n",
    "    else:\n",
    "        print(\"No match found.\")"
   ]
  },
  {
   "cell_type": "code",
   "execution_count": 138,
   "metadata": {},
   "outputs": [
    {
     "name": "stdout",
     "output_type": "stream",
     "text": [
      "No match found.\n",
      "No match found.\n",
      "No match found.\n",
      "No match found.\n",
      "No match found.\n",
      "No match found.\n",
      "No match found.\n",
      "No match found.\n",
      "No match found.\n",
      "No match found.\n",
      "No match found.\n",
      "No match found.\n",
      "No match found.\n",
      "No match found.\n",
      "No match found.\n",
      "No match found.\n",
      "No match found.\n",
      "No match found.\n",
      "No match found.\n",
      "Matched: perihila\n"
     ]
    }
   ],
   "source": [
    "import re\n",
    "\n",
    "# Regular expression pattern\n",
    "# pattern = r'(?:\\b(?:radi)?opaci[tf]|\\b(?:radio?)?opaque).*\\b(?:lung|pulmon|lobe|lobular)|\\b(?:lung|pulmon|lobe|lobular).*(?:\\b(?:radi)?opaci[tf]|\\b(?:radio?)?opaque)'\n",
    "\n",
    "_SUPPORT_DEVICE_SUBSTRINGS = [\n",
    "    r'\\bcath',\n",
    "    r'\\btube(s)?\\b',\n",
    "    r'\\btubing\\b',\n",
    "    r'\\btubular structure\\b'\n",
    "    r'\\bsideport',\n",
    "    r'\\bport\\b',\n",
    "    r'mediport\\b',\n",
    "    r'\\bport-?a-?cath',\n",
    "    r'\\bPICC\\b',\n",
    "    r'\\b(?:left|right|central|PIC|jugular|EJ|sided|subclavian|tip|course|position|support)\\b.*\\blines?\\b',\n",
    "    r'\\b(?:line|the) tips?\\b',\n",
    "    r'\\btip\\b.*\\b(?:lies|terminates|projects|is)\\b',\n",
    "    r'pacemaker',\n",
    "    r'\\blead\\b',\n",
    "    r'\\b(?:dual|pace|maker|devic|correc|positi|stand|place|aicd|termin|cours|overl).*\\bleads\\b',\n",
    "    r'\\bleads\\b.*\\b(?:dual|pace|maker|devic|correc|positi|stand|place|aicd|termin|cours|overl)',\n",
    "    r'\\bstent(?:s|ing)?\\b',\n",
    "    r'\\bCVL\\b',\n",
    "    r'\\bETT\\b',\n",
    "    r'\\bNGT\\b',\n",
    "    r'\\bIJ\\b',\n",
    "    r'\\bintroducer\\b',\n",
    "    r'\\bcuffs?\\b',\n",
    "    r'internal jugular vein sheath',\n",
    "    r'Dobbhoff',\n",
    "    r'endotracheal',\n",
    "    r'\\bdual\\b.*\\blumen\\b',\n",
    "    r'\\bkink(?:ing|ed)?\\b',\n",
    "    r'\\bintubat',\n",
    "    r'\\bogt?\\b',\n",
    "    r'\\bptbd\\b',\n",
    "    r'\\bstaple\\b',\n",
    "    r'\\bprobes?\\b',\n",
    "    r'\\bvp\\b',\n",
    "    r'\\bhardware',\n",
    "    r'embolization',\n",
    "    r'\\bclips?\\b',\n",
    "    r'\\bcoils?\\b',\n",
    "    r'\\bdevices?\\b',\n",
    "    r'\\bequipment',\n",
    "    r'\\bpens?\\b',\n",
    "    r'\\bwires?\\b',\n",
    "    r'\\bmetal(lic)?\\b',\n",
    "    r'\\bdrains?\\b',\n",
    "    r'\\bdrainage',\n",
    "    r'\\banchor\\b',\n",
    "    r'\\bpacers?\\b',\n",
    "    r'\\bpacing\\b',\n",
    "    r'\\boral contrast',\n",
    "    r'\\bscattered contrast',\n",
    "    r'contrast agent',\n",
    "    r'\\bballoon\\b',\n",
    "    r'\\bpump\\b',\n",
    "    r'nipple (?:marker|shadow|ring)',\n",
    "    r'\\bornament',\n",
    "    r'valve ring',\n",
    "    r'\\bshadow.*\\bnipple',\n",
    "    r'\\bgenerator',\n",
    "    r'\\bpiercing',\n",
    "    r'\\bTIPS\\b',\n",
    "    r'\\bshunt(?:s|ing)?\\b',\n",
    "    r'\\breplace.*\\bvalv',\n",
    "    r'\\bvalv.*\\breplace',\n",
    "    r'endobronchial valve',\n",
    "    r'\\b(?:lap|gastric)\\b.*\\bband',\n",
    "    r'\\bAICD\\b',\n",
    "    r'\\bICD\\b',\n",
    "    r'\\bLVAD\\b',\n",
    "    r'prosthe(?:sis|ses|tic)',\n",
    "    r'\\bfilters?\\b',\n",
    "    r'\\bstructure.*\\b(?:courses|project)',\n",
    "    r'projecting.*\\bstructure',\n",
    "    r'projectile',\n",
    "    r'\\bstimulator',\n",
    "    r'\\bimplant',\n",
    "    r'defibrillator',\n",
    "    r'\\bjewelry\\b',\n",
    "    r'\\bbarium\\b',\n",
    "    r'\\bfecal\\b',\n",
    "    r'\\bstool\\b',\n",
    "    r'\\bbullets?\\b',\n",
    "    r'foreign bod(?:y|ies)',\n",
    "    r'\\bscrews?\\b',\n",
    "    r'\\bgallstone',\n",
    "    r'\\bgown\\b',\n",
    "    r'\\bcables?\\b',\n",
    "    r'appliances',\n",
    "    r'\\bavr\\b',\n",
    "    r'battery',\n",
    "    r'\\bbbs?\\b',\n",
    "    r'\\bcbd stent',\n",
    "    r'\\bcement\\b',\n",
    "    r'\\bcerclage\\b',\n",
    "    r'\\bchains?\\b',\n",
    "    r'\\bexpander',\n",
    "    r'\\bmask\\b',\n",
    "    r'\\bgraft',\n",
    "    r'grafts?\\b',\n",
    "    r'\\bhair(?:pin)?',\n",
    "    r'\\bpins?\\b',\n",
    "    r'neurostimulator',\n",
    "    r'\\bpack',\n",
    "    r'\\bpellet',\n",
    "    r'\\bpills?\\b',\n",
    "    r'\\bporcine',\n",
    "    r'\\brecorder\\b',\n",
    "    r'\\brods?\\b',\n",
    "    r'\\bsaline\\b',\n",
    "    r'\\bscratch',\n",
    "    r'shrapnel',\n",
    "    r'\\bspacer',\n",
    "    r'\\bsponge',\n",
    "    r'\\bspoon',\n",
    "    r'\\bspring',\n",
    "    r'stylet',\n",
    "    r'\\bsu(?:tur|rg).*\\bmaterial',\n",
    "    r'\\btacks\\b',\n",
    "    r'\\btooth\\b',\n",
    "    r'\\bunit\\b',\n",
    "    r'\\bvns\\b',\n",
    "    r'\\bmonitor\\b',\n",
    "    r'\\bfiducial',\n",
    "]\n",
    "\n",
    "# pattern = r'|'.join(_SUPPORT_DEVICE_SUBSTRINGS)\n",
    "pattern = r'\\b(?:peri)?(?:hila|hilar|hill|hilum|hilus)'\n",
    "\n",
    "# Test strings\n",
    "test_strings = [\n",
    "    \"The patient was diagnosed with Calcification of the Aorta.\",\n",
    "    \"There is evidence of aortic calcification in the scan.\",\n",
    "    \"Calcification of the aorta is observed.\",\n",
    "    \"Signs of aortic calcification were detected.\",\n",
    "    \"The scan showed calcification of the Aorta.\",\n",
    "    \"The aorta is significantly calcified.\",\n",
    "    'fracture of the clavicle',\n",
    "    'collarbone is refractured',\n",
    "    \"The patient was diagnosed with Enlarged Cardiomediastinum.\",\n",
    "    \"Cardiomediastinal enlargement was noted in the scan.\",\n",
    "    \"Enlargement of the cardiomediastinum is evident.\",\n",
    "    \"The diagnosis was cardiac mediastinal enlargement.\",\n",
    "    \"The scan showed cardiomegaly and mediastinal enlargement.\",\n",
    "    \"Chest pain, assess widened mediastinum. \",\n",
    "    \"lung opacity\",\n",
    "    \" opacity in the mid upper lobe\",\n",
    "    \"lobular radiopacity\",\n",
    "    'nipple shadow',\n",
    "    'left line projects over',\n",
    "    'perihilar abnormalities'\n",
    "]\n",
    "\n",
    "# Applying the pattern to test strings\n",
    "for text in test_strings:\n",
    "    match = re.search(pattern, text, re.IGNORECASE)\n",
    "    if match:\n",
    "        print(f\"Matched: {match.group()}\")\n",
    "    else:\n",
    "        print(\"No match found.\")"
   ]
  }
 ],
 "metadata": {
  "kernelspec": {
   "display_name": "venv2",
   "language": "python",
   "name": "venv2"
  },
  "language_info": {
   "codemirror_mode": {
    "name": "ipython",
    "version": 3
   },
   "file_extension": ".py",
   "mimetype": "text/x-python",
   "name": "python",
   "nbconvert_exporter": "python",
   "pygments_lexer": "ipython3",
   "version": "3.10.10"
  }
 },
 "nbformat": 4,
 "nbformat_minor": 4
}
