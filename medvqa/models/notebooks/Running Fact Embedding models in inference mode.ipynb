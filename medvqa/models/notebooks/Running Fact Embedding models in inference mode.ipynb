{
 "cells": [
  {
   "cell_type": "code",
   "execution_count": 1,
   "id": "465ce67d",
   "metadata": {},
   "outputs": [
    {
     "name": "stdout",
     "output_type": "stream",
     "text": [
      "env: CUDA_VISIBLE_DEVICES=0\n"
     ]
    }
   ],
   "source": [
    "%env CUDA_VISIBLE_DEVICES=0"
   ]
  },
  {
   "cell_type": "code",
   "execution_count": 2,
   "id": "f59b3d2a",
   "metadata": {},
   "outputs": [],
   "source": [
    "from medvqa.models.model_debugging_utils import load_and_run_fact_encoder_in_inference_mode"
   ]
  },
  {
   "cell_type": "code",
   "execution_count": 3,
   "id": "55954eb8",
   "metadata": {},
   "outputs": [],
   "source": [
    "from importlib import reload\n",
    "import medvqa"
   ]
  },
  {
   "cell_type": "code",
   "execution_count": 15,
   "id": "1e263e21",
   "metadata": {},
   "outputs": [
    {
     "data": {
      "text/plain": [
       "<module 'medvqa.models.model_debugging_utils' from '/home/pamessina/medvqa/medvqa/models/model_debugging_utils.py'>"
      ]
     },
     "execution_count": 15,
     "metadata": {},
     "output_type": "execute_result"
    }
   ],
   "source": [
    "reload(medvqa.models.model_debugging_utils)"
   ]
  },
  {
   "cell_type": "code",
   "execution_count": 15,
   "id": "53fdf748",
   "metadata": {
    "scrolled": false
   },
   "outputs": [
    {
     "name": "stdout",
     "output_type": "stream",
     "text": [
      "metadata loaded from /mnt/data/pamessina/workspaces/medvqa-workspace/models/fact_embedding/20230721_061431_MIMIC-CXR(GPT3.5+CXR-Bert-based-labels)_FactEncoder(microsoft-BiomedVLP-CXR-BERT-specialized)/metadata.json\n",
      "\u001b[1mdevice = \u001b[0m \u001b[1mGPU\u001b[0m\n",
      "\u001b[1mCreate model\u001b[0m\n",
      "Fact encoder\n",
      "  huggingface_model_name: microsoft/BiomedVLP-CXR-BERT-specialized\n",
      "  embedding_size: 128\n",
      "  classify_category: True\n",
      "  n_categories: 6\n",
      "  classify_health_status: True\n",
      "  n_health_statuses: 5\n",
      "  classify_comparison_status: True\n",
      "  n_comparison_statuses: 15\n"
     ]
    },
    {
     "name": "stderr",
     "output_type": "stream",
     "text": [
      "Explicitly passing a `revision` is encouraged when loading a configuration with custom code to ensure no malicious code has been contributed in a newer revision.\n",
      "Explicitly passing a `revision` is encouraged when loading a model with custom code to ensure no malicious code has been contributed in a newer revision.\n"
     ]
    },
    {
     "name": "stdout",
     "output_type": "stream",
     "text": [
      "\u001b[1mLoad model weights\u001b[0m\n",
      "checkpoint_names = ['checkpoint_200_cacc+cscc+hscc+ta0)+ta1)+ta2)+ta0)+ta1)+ta2)+ta3)+ta4)=0.9365.pt']\n",
      "model_checkpoint_path =  /mnt/data/pamessina/workspaces/medvqa-workspace/models/fact_embedding/20230721_061431_MIMIC-CXR(GPT3.5+CXR-Bert-based-labels)_FactEncoder(microsoft-BiomedVLP-CXR-BERT-specialized)/checkpoint_200_cacc+cscc+hscc+ta0)+ta1)+ta2)+ta0)+ta1)+ta2)+ta3)+ta4)=0.9365.pt\n"
     ]
    },
    {
     "name": "stderr",
     "output_type": "stream",
     "text": [
      "Explicitly passing a `revision` is encouraged when loading a model with custom code to ensure no malicious code has been contributed in a newer revision.\n"
     ]
    },
    {
     "name": "stdout",
     "output_type": "stream",
     "text": [
      "\u001b[1mRun model in inference mode\u001b[0m\n",
      "embeddings.shape = (20, 128)\n",
      "c_logits.shape = torch.Size([20, 6])\n",
      "hs_logits.shape = torch.Size([20, 5])\n",
      "cs_logits.shape = torch.Size([20, 15])\n",
      "\u001b[1mQuery: no focal lung abnormality\u001b[0m\n",
      "\tCategory: anatomical finding\n",
      "\tHealth status: normal\n",
      "\tComparison status: no comparison\n",
      "----------------\n",
      "\u001b[1mFact 0: no focal lung abnormality\u001b[0m\n",
      "\tCategory: anatomical finding\n",
      "\tHealth status: normal\n",
      "\tComparison status: no comparison\n",
      "\u001b[1mFact 1: lungs without sign of consolidation\u001b[0m\n",
      "\tCategory: anatomical finding\n",
      "\tHealth status: normal\n",
      "\tComparison status: no comparison\n",
      "\u001b[1mFact 2: No focal opacity concerning for infectious process identified\u001b[0m\n",
      "\tCategory: anatomical finding\n",
      "\tHealth status: normal\n",
      "\tComparison status: no comparison\n",
      "\u001b[1mFact 3: no evident skeletal abnormality\u001b[0m\n",
      "\tCategory: anatomical finding\n",
      "\tHealth status: normal\n",
      "\tComparison status: no comparison\n",
      "\u001b[1mFact 4: no concentrated lung shadowing\u001b[0m\n",
      "\tCategory: anatomical finding\n",
      "\tHealth status: normal\n",
      "\tComparison status: no comparison\n",
      "\u001b[1mFact 5: Lack of consolidation, indicating no signs of pneumonia\u001b[0m\n",
      "\tCategory: anatomical finding\n",
      "\tHealth status: normal\n",
      "\tComparison status: no comparison\n",
      "\u001b[1mFact 6: no specific abnormality in the lungs\u001b[0m\n",
      "\tCategory: anatomical finding\n",
      "\tHealth status: normal\n",
      "\tComparison status: no comparison\n",
      "\u001b[1mFact 7: no primary process in the lung\u001b[0m\n",
      "\tCategory: disease\n",
      "\tHealth status: normal\n",
      "\tComparison status: no comparison\n",
      "\u001b[1mFact 8: no acute intrathoracic process concerning for infection\u001b[0m\n",
      "\tCategory: disease\n",
      "\tHealth status: normal\n",
      "\tComparison status: no comparison\n",
      "\u001b[1mFact 9: no features of pneumonia\u001b[0m\n",
      "\tCategory: disease\n",
      "\tHealth status: normal\n",
      "\tComparison status: no comparison\n",
      "\u001b[1mFact 10: no correlating of pneumonia\u001b[0m\n",
      "\tCategory: disease\n",
      "\tHealth status: normal\n",
      "\tComparison status: no comparison\n",
      "\u001b[1mFact 11: no pneumonia\u001b[0m\n",
      "\tCategory: disease\n",
      "\tHealth status: normal\n",
      "\tComparison status: no comparison\n",
      "\u001b[1mFact 12: eliminate acute lung pathology\u001b[0m\n",
      "\tCategory: disease\n",
      "\tHealth status: normal\n",
      "\tComparison status: no comparison\n",
      "\u001b[1mFact 13: The previously noted opacity is no longer apparent\u001b[0m\n",
      "\tCategory: anatomical finding\n",
      "\tHealth status: normal\n",
      "\tComparison status: resolved\n",
      "\u001b[1mFact 14: focal pneumonia\u001b[0m\n",
      "\tCategory: disease\n",
      "\tHealth status: abnormal\n",
      "\tComparison status: reappeared\n",
      "\u001b[1mFact 15: Patches of consolidation\u001b[0m\n",
      "\tCategory: anatomical finding\n",
      "\tHealth status: abnormal\n",
      "\tComparison status: unclear comparison\n",
      "\u001b[1mFact 16: territory of consolidation\u001b[0m\n",
      "\tCategory: anatomical finding\n",
      "\tHealth status: abnormal\n",
      "\tComparison status: smaller\n",
      "\u001b[1mFact 17: spot of consolidation\u001b[0m\n",
      "\tCategory: anatomical finding\n",
      "\tHealth status: abnormal\n",
      "\tComparison status: smaller\n",
      "\u001b[1mFact 18: focal parenchymal abnormality\u001b[0m\n",
      "\tCategory: anatomical finding\n",
      "\tHealth status: abnormal\n",
      "\tComparison status: reappeared\n",
      "\u001b[1mFact 19: focal area of abnormality\u001b[0m\n",
      "\tCategory: anatomical finding\n",
      "\tHealth status: abnormal\n",
      "\tComparison status: reappeared\n"
     ]
    }
   ],
   "source": [
    "# facts = [\"minimal radiolucency adjacent to the lateral aspect of the aortic knob\", \"vascular stents in the region of the right upper arm\", \"calcified vessels projecting over the right portion of the mediastinum\", \"no focal lung abnormality\", \"no specific abnormality in the lungs\", \"Chondroid matrix visualized in the left humeral head\", \"Chondroid matrix identified within the left humeral head\", \"no concentrated lung shadowing\", \"calcified vessels observed over the right aspect of the mediastinum\", \"vascular stents in the axilla\", \"no evident skeletal abnormality\", \"possible coronary stent\", \"no sharpness of the descending aorta\", \"no significant abnormal findings\", \"no evidence of acute consolidation in the heart or lungs\", \"opacity previously seen in the retrocardiac region is no longer evident\", \"region at the top of the sternum\", \"The previously noted opacity is no longer apparent\", \"right carotid artery branching spot\", \"site of the previously identified subclavian pseudoaneurysm\"]\n",
    "facts = [\"no focal lung abnormality\", \"no concentrated lung shadowing\", \"no specific abnormality in the lungs\", \"no primary process in the lung\", \"focal parenchymal abnormality\", \"focal area of abnormality\", \"Patches of consolidation\", \"no acute intrathoracic process concerning for infection\", \"no pneumonia\", \"no features of pneumonia\", \"no correlating of pneumonia\", \"No focal opacity concerning for infectious process identified\", \"spot of consolidation\", \"eliminate acute lung pathology\", \"Lack of consolidation, indicating no signs of pneumonia\", \"The previously noted opacity is no longer apparent\", \"lungs without sign of consolidation\", \"no evident skeletal abnormality\", \"focal pneumonia\", \"territory of consolidation\"]\n",
    "# facts = [\n",
    "#     'opacity',\n",
    "#     'opacities',\n",
    "#     'osteoporosis',\n",
    "    \n",
    "#      \"Pulmonary infiltrates\",\n",
    "#   \"Consolidation in the lungs\",\n",
    "#   \"Opacity in the lung fields\",\n",
    "#   \"Hazy lung fields\",\n",
    "#   \"Ground-glass opacities\",\n",
    "#   \"Patchy opacities\",\n",
    "#   \"Alveolar opacities\",\n",
    "#   \"Interstitial opacities\",\n",
    "#   \"Nodular opacities\",\n",
    "#   \"Bilateral lung opacities\",\n",
    "    \n",
    "#     'Residual right internal jugular catheter',\n",
    "    \n",
    "#     \"\"\"Leads extending into the region of the right atrium\"\"\",\n",
    "    \n",
    "#     'no specific abnormality in the lungs',\n",
    "#     'minimal radiolucency adjacent to the lateral aspect of the aortic knob',\n",
    "#     'vascular stents in the region of the right upper arm',\n",
    "#     'calcified vessels projecting over the right portion of the mediastinum',\n",
    "#     'no focal lung abnormality',\n",
    "#     'no concentrated lung shadowing',\n",
    "#     'calcified vessels observed over the right aspect of the mediastinum',\n",
    "#     'vascular stents in the axilla',\n",
    "#     'no evident skeletal abnormality',\n",
    "#     'possible coronary stent',\n",
    "#     'no sharpness of the descending aorta',\n",
    "#     'no significant abnormal findings',\n",
    "#     'no evidence of acute consolidation in the heart or lungs',\n",
    "#     'opacity previously seen in the retrocardiac region is no longer evident',\n",
    "#     'region at the top of the sternum',\n",
    "#     'right carotid artery branching spot',\n",
    "#     'site of the previously identified subclavian pseudoaneurysm',\n",
    "#     'calcific tendinosis in the right supraspinatus tendon',\n",
    "#     'major artery in the axillary region',\n",
    "#     'calcification adjacent to the left of the trachea',\n",
    "    \n",
    "    \n",
    "#     \"\"\"Peripheral band-like opacities in left mid and lower lung\"\"\",\n",
    "#     \"\"\"Aortic mass adjacent to the left heart border\"\"\",\n",
    "#     \"\"\"Atelectasis in the lingular segment of the left lobe\"\"\",\n",
    "#     \"\"\"The doctor left the room\"\"\",\n",
    "    \n",
    "    \n",
    "#     \"\"\"Progression of asymmetrical left perihilar opacification\"\"\",\n",
    "#     \"\"\"Left distended stomach\"\"\",\n",
    "#     \"\"\"Grossly large thoracic aorta\"\"\",\n",
    "#     \"\"\"Progression of asymmetrical left perihilar opacification\"\"\",\n",
    "#     \"\"\"Obscured left heart border by airspace process\"\"\",\n",
    "    \n",
    "#     'Generally appropriate configuration',\n",
    "#      'Upper thoracic trachea',\n",
    "#      'Engorgement of pulmonary vascular congestion',\n",
    "#      'Radioopaque material',\n",
    "#      'Tip of chest tube at the level of top of aorta',\n",
    "#      '2 leads in the expected location of the right ventricle',\n",
    "     \n",
    "#      'Correlation with cross-sectional imaging (chest CT)',\n",
    "#      'Right greater than left infrahilar opacities',\n",
    "#     'Heart larger compared to previus',\n",
    "#     'right pleural effusion similar in size',\n",
    "#     'pleural density on the left is somewhat increased',\n",
    "#     'new bibasal consolidations on the left',\n",
    "#     'small foci of opacity in the left mid lung',\n",
    "#     'no ill-definition of right hemidiaphragm',\n",
    "#     'heart within upper limits of normal in size',\n",
    "#     'no significant change in size of pneumothorax',\n",
    "#     'osteoporosis worsening in a debilitated and wheelchair-bound patient',\n",
    "#     'osteoporosis worsening in a debilitated and wheelchair-bound patient compared',\n",
    "#     'worsening of osteoporosis',\n",
    "#     'the size of the tumor is roughly the same',\n",
    "# ]\n",
    "load_and_run_fact_encoder_in_inference_mode(\n",
    "    facts=facts,\n",
    "#     model_folder_path = '/mnt/data/pamessina/workspaces/medvqa-workspace/models/fact_embedding/20230719_132018_MIMIC-CXR(GPT3.5+CXR-Bert-based-labels)_FactEncoder(microsoft-BiomedVLP-CXR-BERT-specialized)',\n",
    "    model_folder_path = '/mnt/data/pamessina/workspaces/medvqa-workspace/models/fact_embedding/20230721_061431_MIMIC-CXR(GPT3.5+CXR-Bert-based-labels)_FactEncoder(microsoft-BiomedVLP-CXR-BERT-specialized)',\n",
    "    use_amp=False,\n",
    "    device='GPU',\n",
    ")"
   ]
  }
 ],
 "metadata": {
  "kernelspec": {
   "display_name": "venv2",
   "language": "python",
   "name": "venv2"
  },
  "language_info": {
   "codemirror_mode": {
    "name": "ipython",
    "version": 3
   },
   "file_extension": ".py",
   "mimetype": "text/x-python",
   "name": "python",
   "nbconvert_exporter": "python",
   "pygments_lexer": "ipython3",
   "version": "3.10.10"
  }
 },
 "nbformat": 4,
 "nbformat_minor": 5
}
