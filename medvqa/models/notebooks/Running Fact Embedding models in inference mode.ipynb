{
 "cells": [
  {
   "cell_type": "code",
   "execution_count": 1,
   "id": "465ce67d",
   "metadata": {},
   "outputs": [
    {
     "name": "stdout",
     "output_type": "stream",
     "text": [
      "env: CUDA_VISIBLE_DEVICES=1\n"
     ]
    }
   ],
   "source": [
    "%env CUDA_VISIBLE_DEVICES=1"
   ]
  },
  {
   "cell_type": "code",
   "execution_count": 2,
   "id": "f59b3d2a",
   "metadata": {},
   "outputs": [],
   "source": [
    "from medvqa.models.model_debugging_utils import load_and_run_fact_encoder_in_inference_mode"
   ]
  },
  {
   "cell_type": "code",
   "execution_count": 3,
   "id": "55954eb8",
   "metadata": {},
   "outputs": [],
   "source": [
    "from importlib import reload\n",
    "import medvqa"
   ]
  },
  {
   "cell_type": "code",
   "execution_count": 6,
   "id": "1e263e21",
   "metadata": {},
   "outputs": [
    {
     "data": {
      "text/plain": [
       "<module 'medvqa.models.model_debugging_utils' from '/home/pamessina/medvqa/medvqa/models/model_debugging_utils.py'>"
      ]
     },
     "execution_count": 6,
     "metadata": {},
     "output_type": "execute_result"
    }
   ],
   "source": [
    "reload(medvqa.models.model_debugging_utils)"
   ]
  },
  {
   "cell_type": "code",
   "execution_count": 9,
   "id": "53fdf748",
   "metadata": {
    "scrolled": false
   },
   "outputs": [
    {
     "name": "stdout",
     "output_type": "stream",
     "text": [
      "metadata loaded from /mnt/data/pamessina/workspaces/medvqa-workspace/models/fact_embedding/20230925_020631_MIMIC-CXR(GPT3.5,GPT4,CXR-BERT,triplet_loss,ChestImaGenome,RadGraph,NLI)_FactEncoder(microsoft-BiomedVLP-CXR-BERT-specialized)/metadata.json\n",
      "\u001b[1mdevice = \u001b[0m \u001b[1mGPU\u001b[0m\n",
      "\u001b[1mCreate model\u001b[0m\n",
      "Fact encoder\n",
      "  huggingface_model_name: microsoft/BiomedVLP-CXR-BERT-specialized\n",
      "  embedding_size: 128\n",
      "  classify_category: True\n",
      "  n_categories: 6\n",
      "  classify_health_status: True\n",
      "  n_health_statuses: 5\n",
      "  classify_comparison_status: True\n",
      "  n_comparison_statuses: 15\n",
      "  classify_chest_imagenome_obs: True\n",
      "  n_chest_imagenome_observations: 74\n",
      "  classify_chest_imagenome_anatloc: True\n",
      "  n_chest_imagenome_anatomical_locations: 38\n",
      "  use_aux_task_hidden_layer: True\n",
      "  aux_task_hidden_layer_size: 512\n",
      "  do_nli: True\n",
      "  nli_hidden_layer_size: 128\n",
      "\u001b[93m\u001b[1mWARNING: unused_kwargs: {'pretrained_checkpoint_folder_path': '/mnt/data/pamessina/workspaces/medvqa-workspace/models/fact_embedding/20230924_175553_MIMIC-CXR(GPT3.5,GPT4,CXR-BERT,triplet_loss,ChestImaGenome,RadGraph,NLI)_FactEncoder(microsoft-BiomedVLP-CXR-BERT-specialized)/'}\u001b[0m\n"
     ]
    },
    {
     "name": "stderr",
     "output_type": "stream",
     "text": [
      "Explicitly passing a `revision` is encouraged when loading a configuration with custom code to ensure no malicious code has been contributed in a newer revision.\n",
      "Explicitly passing a `revision` is encouraged when loading a model with custom code to ensure no malicious code has been contributed in a newer revision.\n"
     ]
    },
    {
     "name": "stdout",
     "output_type": "stream",
     "text": [
      "\u001b[1mLoad model weights\u001b[0m\n",
      "checkpoint_names = ['checkpoint_38_cacc+chf1+chf1+cscc+encc+hscc+nlcc+ta0)+ta1)+ta2)+ta0)+ta1)+ta2)+ta3)+ta4)+ta5)+ta6)+ta7)=0.9311.pt']\n",
      "model_checkpoint_path =  /mnt/data/pamessina/workspaces/medvqa-workspace/models/fact_embedding/20230925_020631_MIMIC-CXR(GPT3.5,GPT4,CXR-BERT,triplet_loss,ChestImaGenome,RadGraph,NLI)_FactEncoder(microsoft-BiomedVLP-CXR-BERT-specialized)/checkpoint_38_cacc+chf1+chf1+cscc+encc+hscc+nlcc+ta0)+ta1)+ta2)+ta0)+ta1)+ta2)+ta3)+ta4)+ta5)+ta6)+ta7)=0.9311.pt\n"
     ]
    },
    {
     "name": "stderr",
     "output_type": "stream",
     "text": [
      "Explicitly passing a `revision` is encouraged when loading a model with custom code to ensure no malicious code has been contributed in a newer revision.\n"
     ]
    },
    {
     "name": "stdout",
     "output_type": "stream",
     "text": [
      "\u001b[1mRun model in inference mode\u001b[0m\n",
      "embeddings.shape = (74, 128)\n",
      "c_logits.shape = torch.Size([74, 6])\n",
      "hs_logits.shape = torch.Size([74, 5])\n",
      "cs_logits.shape = torch.Size([74, 15])\n",
      "cio_logits.shape = torch.Size([74, 74])\n",
      "cia_logits.shape = torch.Size([74, 38])\n",
      "\u001b[1mQuery: calcified vessels observed over the right aspect of the mediastinum\u001b[0m\n",
      "\tCategory: anatomical finding\n",
      "\tHealth status: abnormal\n",
      "\tComparison status: no comparison\n",
      "\tChest Imagenome observations:\n",
      "\t\tmediastinal widening\n",
      "\t\tvascular calcification\n",
      "\tChest Imagenome anatomical locations:\n",
      "\t\tmediastinum\n",
      "----------------\n",
      "\u001b[1mFact 0: calcified vessels observed over the right aspect of the mediastinum\u001b[0m\n",
      "\tCategory: anatomical finding\n",
      "\tHealth status: abnormal\n",
      "\tComparison status: no comparison\n",
      "\tChest Imagenome observations:\n",
      "\t\tmediastinal widening\n",
      "\t\tvascular calcification\n",
      "\tChest Imagenome anatomical locations:\n",
      "\t\tmediastinum\n",
      "\u001b[1mFact 1: calcified vessels projecting over the right portion of the mediastinum\u001b[0m\n",
      "\tCategory: anatomical finding\n",
      "\tHealth status: abnormal\n",
      "\tComparison status: no comparison\n",
      "\tChest Imagenome observations:\n",
      "\t\tmediastinal widening\n",
      "\t\tvascular calcification\n",
      "\tChest Imagenome anatomical locations:\n",
      "\t\tmediastinum\n",
      "\u001b[1mFact 2: right carotid artery branching spot\u001b[0m\n",
      "\tCategory: anatomical finding\n",
      "\tHealth status: abnormal\n",
      "\tComparison status: no comparison\n",
      "\tChest Imagenome observations:\n",
      "\t\tvascular calcification\n",
      "\tChest Imagenome anatomical locations:\n",
      "\t\tright arm\n",
      "\u001b[1mFact 3: calcific tendinosis in the right supraspinatus tendon\u001b[0m\n",
      "\tCategory: anatomical finding\n",
      "\tHealth status: abnormal\n",
      "\tComparison status: no comparison\n",
      "\tChest Imagenome observations:\n",
      "\t\tcalcified nodule\n",
      "\tChest Imagenome anatomical locations:\n",
      "\t\tright shoulder\n",
      "\u001b[1mFact 4: Residual right internal jugular catheter\u001b[0m\n",
      "\tCategory: tubes and lines\n",
      "\tHealth status: unknown\n",
      "\tComparison status: reappeared\n",
      "\tChest Imagenome observations:\n",
      "\tChest Imagenome anatomical locations:\n",
      "\t\tneck\n",
      "\t\tright hemidiaphragm\n",
      "\t\tright upper lung zone\n",
      "\u001b[1mFact 5: Radioopaque material\u001b[0m\n",
      "\tCategory: anatomical finding\n",
      "\tHealth status: unknown\n",
      "\tComparison status: no comparison\n",
      "\tChest Imagenome observations:\n",
      "\t\tartifact\n",
      "\tChest Imagenome anatomical locations:\n",
      "\u001b[1mFact 6: major artery in the axillary region\u001b[0m\n",
      "\tCategory: anatomical finding\n",
      "\tHealth status: abnormal\n",
      "\tComparison status: no comparison\n",
      "\tChest Imagenome observations:\n",
      "\t\tvascular calcification\n",
      "\tChest Imagenome anatomical locations:\n",
      "\t\tleft arm\n",
      "\t\tright arm\n",
      "\u001b[1mFact 7: osteoporosis\u001b[0m\n",
      "\tCategory: disease\n",
      "\tHealth status: abnormal\n",
      "\tComparison status: no comparison\n",
      "\tChest Imagenome observations:\n",
      "\t\tbone lesion\n",
      "\tChest Imagenome anatomical locations:\n",
      "\t\tspine\n",
      "\u001b[1mFact 8: vascular stents in the axilla\u001b[0m\n",
      "\tCategory: device\n",
      "\tHealth status: unknown\n",
      "\tComparison status: no comparison\n",
      "\tChest Imagenome observations:\n",
      "\t\tvascular calcification\n",
      "\t\taortic graft/repair\n",
      "\tChest Imagenome anatomical locations:\n",
      "\t\tleft arm\n",
      "\t\tright arm\n",
      "\u001b[1mFact 9: calcification adjacent to the left of the trachea\u001b[0m\n",
      "\tCategory: anatomical finding\n",
      "\tHealth status: abnormal\n",
      "\tComparison status: no comparison\n",
      "\tChest Imagenome observations:\n",
      "\tChest Imagenome anatomical locations:\n",
      "\t\ttrachea\n",
      "\u001b[1mFact 10: vascular stents in the region of the right upper arm\u001b[0m\n",
      "\tCategory: device\n",
      "\tHealth status: unknown\n",
      "\tComparison status: no comparison\n",
      "\tChest Imagenome observations:\n",
      "\t\tvascular calcification\n",
      "\tChest Imagenome anatomical locations:\n",
      "\t\tright arm\n",
      "\u001b[1mFact 11: Grossly large thoracic aorta\u001b[0m\n",
      "\tCategory: anatomical finding\n",
      "\tHealth status: abnormal\n",
      "\tComparison status: larger\n",
      "\tChest Imagenome observations:\n",
      "\t\ttortuous aorta\n",
      "\tChest Imagenome anatomical locations:\n",
      "\t\taortic arch\n",
      "\u001b[1mFact 12: osteoporosis worsening in a debilitated and wheelchair-bound patient\u001b[0m\n",
      "\tCategory: disease\n",
      "\tHealth status: abnormal\n",
      "\tComparison status: no comparison\n",
      "\tChest Imagenome observations:\n",
      "\t\tbone lesion\n",
      "\tChest Imagenome anatomical locations:\n",
      "\t\tspine\n",
      "\u001b[1mFact 13: No significant interval change in the small right apical pneumothorax\u001b[0m\n",
      "\tCategory: anatomical finding\n",
      "\tHealth status: abnormal\n",
      "\tComparison status: stable/unchanged\n",
      "\tChest Imagenome observations:\n",
      "\t\tpneumothorax\n",
      "\tChest Imagenome anatomical locations:\n",
      "\t\tright apical zone\n",
      "\u001b[1mFact 14: osteoporosis worsening in a debilitated and wheelchair-bound patient compared\u001b[0m\n",
      "\tCategory: disease\n",
      "\tHealth status: abnormal\n",
      "\tComparison status: worsened\n",
      "\tChest Imagenome observations:\n",
      "\t\tbone lesion\n",
      "\tChest Imagenome anatomical locations:\n",
      "\t\tspine\n",
      "\u001b[1mFact 15: the size of the tumor is roughly the same\u001b[0m\n",
      "\tCategory: anatomical finding\n",
      "\tHealth status: abnormal\n",
      "\tComparison status: stable/unchanged\n",
      "\tChest Imagenome observations:\n",
      "\t\tmass/nodule (not otherwise specified)\n",
      "\tChest Imagenome anatomical locations:\n",
      "\u001b[1mFact 16: Heart larger compared to previus\u001b[0m\n",
      "\tCategory: anatomical finding\n",
      "\tHealth status: abnormal\n",
      "\tComparison status: larger\n",
      "\tChest Imagenome observations:\n",
      "\t\tenlarged cardiac silhouette\n",
      "\tChest Imagenome anatomical locations:\n",
      "\u001b[1mFact 17: unchanged mild cardiomegaly , elevation of the left hemidiaphragm and atelectasis at the left lung bases .\u001b[0m\n",
      "\tCategory: anatomical finding\n",
      "\tHealth status: abnormal\n",
      "\tComparison status: stable/unchanged\n",
      "\tChest Imagenome observations:\n",
      "\t\televated hemidiaphragm\n",
      "\t\tenlarged cardiac silhouette\n",
      "\tChest Imagenome anatomical locations:\n",
      "\t\tcardiac silhouette\n",
      "\t\tleft hemidiaphragm\n",
      "\t\tleft lower lung zone\n",
      "\t\tleft lung\n",
      "\u001b[1mFact 18: site of the previously identified subclavian pseudoaneurysm\u001b[0m\n",
      "\tCategory: anatomical finding\n",
      "\tHealth status: abnormal\n",
      "\tComparison status: reappeared\n",
      "\tChest Imagenome observations:\n",
      "\t\tsubclavian line\n",
      "\tChest Imagenome anatomical locations:\n",
      "\t\tleft arm\n",
      "\t\tright arm\n",
      "\u001b[1mFact 19: small foci of opacity in the left mid lung\u001b[0m\n",
      "\tCategory: anatomical finding\n",
      "\tHealth status: abnormal\n",
      "\tComparison status: smaller\n",
      "\tChest Imagenome observations:\n",
      "\t\tlung opacity\n",
      "\tChest Imagenome anatomical locations:\n",
      "\t\tleft mid lung zone\n",
      "\u001b[1mFact 20: Patchy opacities\u001b[0m\n",
      "\tCategory: anatomical finding\n",
      "\tHealth status: abnormal\n",
      "\tComparison status: unclear comparison\n",
      "\tChest Imagenome observations:\n",
      "\t\tairspace opacity\n",
      "\t\tincreased reticular markings/ild pattern\n",
      "\tChest Imagenome anatomical locations:\n",
      "\t\tleft lower lung zone\n",
      "\t\tright lower lung zone\n",
      "\u001b[1mFact 21: worsening of osteoporosis\u001b[0m\n",
      "\tCategory: disease\n",
      "\tHealth status: abnormal\n",
      "\tComparison status: worsened\n",
      "\tChest Imagenome observations:\n",
      "\tChest Imagenome anatomical locations:\n",
      "\t\tspine\n",
      "\u001b[1mFact 22: minimal radiolucency adjacent to the lateral aspect of the aortic knob\u001b[0m\n",
      "\tCategory: anatomical finding\n",
      "\tHealth status: ambiguous\n",
      "\tComparison status: no comparison\n",
      "\tChest Imagenome observations:\n",
      "\t\tvascular calcification\n",
      "\tChest Imagenome anatomical locations:\n",
      "\t\taortic arch\n",
      "\u001b[1mFact 23: right pleural effusion similar in size\u001b[0m\n",
      "\tCategory: anatomical finding\n",
      "\tHealth status: abnormal\n",
      "\tComparison status: stable/unchanged\n",
      "\tChest Imagenome observations:\n",
      "\t\tpleural effusion\n",
      "\tChest Imagenome anatomical locations:\n",
      "\t\tright costophrenic angle\n",
      "\t\tright hemidiaphragm\n",
      "\t\tright lower lung zone\n",
      "\u001b[1mFact 24: Enlarged cardiac sillhoute\u001b[0m\n",
      "\tCategory: anatomical finding\n",
      "\tHealth status: abnormal\n",
      "\tComparison status: larger\n",
      "\tChest Imagenome observations:\n",
      "\t\tenlarged cardiac silhouette\n",
      "\tChest Imagenome anatomical locations:\n",
      "\t\tcardiac silhouette\n",
      "\u001b[1mFact 25: Interstitial opacities\u001b[0m\n",
      "\tCategory: anatomical finding\n",
      "\tHealth status: abnormal\n",
      "\tComparison status: unclear comparison\n",
      "\tChest Imagenome observations:\n",
      "\t\tincreased reticular markings/ild pattern\n",
      "\t\tinterstitial lung disease\n",
      "\tChest Imagenome anatomical locations:\n",
      "\t\tleft lower lung zone\n",
      "\t\tright lower lung zone\n",
      "\u001b[1mFact 26: Aortic mass adjacent to the left heart border\u001b[0m\n",
      "\tCategory: anatomical finding\n",
      "\tHealth status: abnormal\n",
      "\tComparison status: stable/unchanged\n",
      "\tChest Imagenome observations:\n",
      "\t\tmediastinal widening\n",
      "\t\tvascular calcification\n",
      "\tChest Imagenome anatomical locations:\n",
      "\t\taortic arch\n",
      "\u001b[1mFact 27: Leads extending into the region of the right atrium\u001b[0m\n",
      "\tCategory: technical assessment\n",
      "\tHealth status: unknown\n",
      "\tComparison status: position changed\n",
      "\tChest Imagenome observations:\n",
      "\t\tcardiac pacer and wires\n",
      "\tChest Imagenome anatomical locations:\n",
      "\t\tright atrium\n",
      "\u001b[1mFact 28: no significant change in size of pneumothorax\u001b[0m\n",
      "\tCategory: anatomical finding\n",
      "\tHealth status: abnormal\n",
      "\tComparison status: stable/unchanged\n",
      "\tChest Imagenome observations:\n",
      "\t\tpneumothorax\n",
      "\tChest Imagenome anatomical locations:\n",
      "\t\tleft lung\n",
      "\u001b[1mFact 29: Obscured left heart border by airspace process\u001b[0m\n",
      "\tCategory: anatomical finding\n",
      "\tHealth status: abnormal\n",
      "\tComparison status: worsened\n",
      "\tChest Imagenome observations:\n",
      "\t\tairspace opacity\n",
      "\t\tenlarged cardiac silhouette\n",
      "\tChest Imagenome anatomical locations:\n",
      "\t\tcardiac silhouette\n",
      "\u001b[1mFact 30: opacity\u001b[0m\n",
      "\tCategory: anatomical finding\n",
      "\tHealth status: ambiguous\n",
      "\tComparison status: reappeared\n",
      "\tChest Imagenome observations:\n",
      "\t\tairspace opacity\n",
      "\t\tlung opacity\n",
      "\tChest Imagenome anatomical locations:\n",
      "\t\tleft lower lung zone\n",
      "\u001b[1mFact 31: Alveolar opacities\u001b[0m\n",
      "\tCategory: anatomical finding\n",
      "\tHealth status: abnormal\n",
      "\tComparison status: increase\n",
      "\tChest Imagenome observations:\n",
      "\t\tlung opacity\n",
      "\t\talveolar hemorrhage\n",
      "\tChest Imagenome anatomical locations:\n",
      "\t\tleft lower lung zone\n",
      "\t\tright lower lung zone\n",
      "\u001b[1mFact 32: Engorgement of pulmonary vascular congestion\u001b[0m\n",
      "\tCategory: anatomical finding\n",
      "\tHealth status: abnormal\n",
      "\tComparison status: progressed\n",
      "\tChest Imagenome observations:\n",
      "\t\tvascular congestion\n",
      "\tChest Imagenome anatomical locations:\n",
      "\u001b[1mFact 33: Opacity in the lung fields\u001b[0m\n",
      "\tCategory: anatomical finding\n",
      "\tHealth status: ambiguous\n",
      "\tComparison status: reappeared\n",
      "\tChest Imagenome observations:\n",
      "\t\tairspace opacity\n",
      "\t\tlung opacity\n",
      "\tChest Imagenome anatomical locations:\n",
      "\t\tleft lower lung zone\n",
      "\t\tright lower lung zone\n",
      "\u001b[1mFact 34: opacities\u001b[0m\n",
      "\tCategory: anatomical finding\n",
      "\tHealth status: abnormal\n",
      "\tComparison status: unclear comparison\n",
      "\tChest Imagenome observations:\n",
      "\t\tairspace opacity\n",
      "\t\tlung opacity\n",
      "\tChest Imagenome anatomical locations:\n",
      "\t\tleft lower lung zone\n",
      "\u001b[1mFact 35: Although the right lung with cephalization and background interstitial abnormality is likely pulmonary edema, either on the basis of volume overload, cardiac decompensation or blood transfusion-related acute lung injury, left lung has a distinctly and progressively nodular abnormality, although occasionally pulmonary edema present as acinar filling with round opacities likely these, one cannot make that assumption and I discussed with Dr. ___ ___ possibility of disseminated infection, including septicemia.The chest tube is in the wrong position\u001b[0m\n",
      "\tCategory: anatomical finding\n",
      "\tHealth status: abnormal\n",
      "\tComparison status: worsened\n",
      "\tChest Imagenome observations:\n",
      "\t\tairspace opacity\n",
      "\t\tlung lesion\n",
      "\t\tlung opacity\n",
      "\t\tmass/nodule (not otherwise specified)\n",
      "\tChest Imagenome anatomical locations:\n",
      "\t\tcardiac silhouette\n",
      "\t\tleft hilar structures\n",
      "\t\tleft lung\n",
      "\t\tleft mid lung zone\n",
      "\t\tleft upper lung zone\n",
      "\t\tright hilar structures\n",
      "\t\tright lung\n",
      "\t\tright mid lung zone\n",
      "\t\tright upper lung zone\n",
      "\u001b[1mFact 36: Nodular opacities\u001b[0m\n",
      "\tCategory: anatomical finding\n",
      "\tHealth status: unknown\n",
      "\tComparison status: unclear comparison\n",
      "\tChest Imagenome observations:\n",
      "\t\tlung opacity\n",
      "\t\tmass/nodule (not otherwise specified)\n",
      "\tChest Imagenome anatomical locations:\n",
      "\t\tleft lower lung zone\n",
      "\u001b[1mFact 37: Ground-glass opacities\u001b[0m\n",
      "\tCategory: anatomical finding\n",
      "\tHealth status: abnormal\n",
      "\tComparison status: progressed\n",
      "\tChest Imagenome observations:\n",
      "\t\tairspace opacity\n",
      "\tChest Imagenome anatomical locations:\n",
      "\t\tleft lower lung zone\n",
      "\t\tright lower lung zone\n",
      "\u001b[1mFact 38: no sharpness of the descending aorta\u001b[0m\n",
      "\tCategory: anatomical finding\n",
      "\tHealth status: ambiguous\n",
      "\tComparison status: no comparison\n",
      "\tChest Imagenome observations:\n",
      "\t\ttortuous aorta\n",
      "\tChest Imagenome anatomical locations:\n",
      "\t\tabdomen\n",
      "\t\taortic arch\n",
      "\t\tmediastinum\n",
      "\t\tspine\n",
      "\u001b[1mFact 39: Heart size is normal\u001b[0m\n",
      "\tCategory: anatomical finding\n",
      "\tHealth status: normal\n",
      "\tComparison status: no comparison\n",
      "\tChest Imagenome observations:\n",
      "\tChest Imagenome anatomical locations:\n",
      "\t\tcardiac silhouette\n",
      "\t\tmediastinum\n",
      "\u001b[1mFact 40: lung volumes lower today than in xxxx or more recently compared to xxxx , is explained by persistent bibasilar atelectasis , more severe on the right .\u001b[0m\n",
      "\tCategory: anatomical finding\n",
      "\tHealth status: abnormal\n",
      "\tComparison status: decrease\n",
      "\tChest Imagenome observations:\n",
      "\t\tatelectasis\n",
      "\t\tlung opacity\n",
      "\t\tlow lung volumes\n",
      "\tChest Imagenome anatomical locations:\n",
      "\t\tleft lower lung zone\n",
      "\t\tleft lung\n",
      "\t\tright lower lung zone\n",
      "\t\tright lung\n",
      "\u001b[1mFact 41: No cardiomegaly\u001b[0m\n",
      "\tCategory: anatomical finding\n",
      "\tHealth status: normal\n",
      "\tComparison status: resolved\n",
      "\tChest Imagenome observations:\n",
      "\tChest Imagenome anatomical locations:\n",
      "\t\tcardiac silhouette\n",
      "\u001b[1mFact 42: pleural density on the left is somewhat increased\u001b[0m\n",
      "\tCategory: anatomical finding\n",
      "\tHealth status: abnormal\n",
      "\tComparison status: increase\n",
      "\tChest Imagenome observations:\n",
      "\t\tpleural effusion\n",
      "\t\tpleural/parenchymal scarring\n",
      "\tChest Imagenome anatomical locations:\n",
      "\t\tleft chest wall\n",
      "\t\tleft costophrenic angle\n",
      "\t\tleft hemidiaphragm\n",
      "\t\tleft lower lung zone\n",
      "\u001b[1mFact 43: 2 leads in the expected location of the right ventricle\u001b[0m\n",
      "\tCategory: technical assessment\n",
      "\tHealth status: normal\n",
      "\tComparison status: position changed\n",
      "\tChest Imagenome observations:\n",
      "\t\tcardiac pacer and wires\n",
      "\tChest Imagenome anatomical locations:\n",
      "\t\tright atrium\n",
      "\u001b[1mFact 44: opacity previously seen in the retrocardiac region is no longer evident\u001b[0m\n",
      "\tCategory: anatomical finding\n",
      "\tHealth status: normal\n",
      "\tComparison status: resolved\n",
      "\tChest Imagenome observations:\n",
      "\tChest Imagenome anatomical locations:\n",
      "\t\tmediastinum\n",
      "\u001b[1mFact 45: Normal heart size\u001b[0m\n",
      "\tCategory: anatomical finding\n",
      "\tHealth status: normal\n",
      "\tComparison status: resolved\n",
      "\tChest Imagenome observations:\n",
      "\tChest Imagenome anatomical locations:\n",
      "\t\tcardiac silhouette\n",
      "\t\tmediastinum\n",
      "\u001b[1mFact 46: heart within upper limits of normal in size\u001b[0m\n",
      "\tCategory: anatomical finding\n",
      "\tHealth status: normal\n",
      "\tComparison status: no comparison\n",
      "\tChest Imagenome observations:\n",
      "\t\tenlarged cardiac silhouette\n",
      "\tChest Imagenome anatomical locations:\n",
      "\t\tcardiac silhouette\n",
      "\u001b[1mFact 47: no ill-definition of right hemidiaphragm\u001b[0m\n",
      "\tCategory: anatomical finding\n",
      "\tHealth status: normal\n",
      "\tComparison status: no comparison\n",
      "\tChest Imagenome observations:\n",
      "\t\televated hemidiaphragm\n",
      "\tChest Imagenome anatomical locations:\n",
      "\t\tright hemidiaphragm\n",
      "\u001b[1mFact 48: Peripheral band-like opacities in left mid and lower lung\u001b[0m\n",
      "\tCategory: anatomical finding\n",
      "\tHealth status: abnormal\n",
      "\tComparison status: no comparison\n",
      "\tChest Imagenome observations:\n",
      "\t\tincreased reticular markings/ild pattern\n",
      "\tChest Imagenome anatomical locations:\n",
      "\t\tleft lower lung zone\n",
      "\t\tleft mid lung zone\n",
      "\u001b[1mFact 49: Right greater than left infrahilar opacities\u001b[0m\n",
      "\tCategory: anatomical finding\n",
      "\tHealth status: abnormal\n",
      "\tComparison status: larger\n",
      "\tChest Imagenome observations:\n",
      "\t\tenlarged hilum\n",
      "\t\tlung opacity\n",
      "\tChest Imagenome anatomical locations:\n",
      "\t\tleft hilar structures\n",
      "\t\tleft lower lung zone\n",
      "\t\tright hilar structures\n",
      "\t\tright lower lung zone\n",
      "\u001b[1mFact 50: no evident skeletal abnormality\u001b[0m\n",
      "\tCategory: anatomical finding\n",
      "\tHealth status: normal\n",
      "\tComparison status: no comparison\n",
      "\tChest Imagenome observations:\n",
      "\tChest Imagenome anatomical locations:\n",
      "\t\tspine\n",
      "\u001b[1mFact 51: Bilateral lung opacities\u001b[0m\n",
      "\tCategory: anatomical finding\n",
      "\tHealth status: abnormal\n",
      "\tComparison status: unclear comparison\n",
      "\tChest Imagenome observations:\n",
      "\t\tinfiltration\n",
      "\t\tlung opacity\n",
      "\tChest Imagenome anatomical locations:\n",
      "\t\tleft lower lung zone\n",
      "\t\tleft mid lung zone\n",
      "\t\tleft upper lung zone\n",
      "\t\tright lower lung zone\n",
      "\t\tright mid lung zone\n",
      "\t\tright upper lung zone\n",
      "\u001b[1mFact 52: Pulmonary infiltrates\u001b[0m\n",
      "\tCategory: anatomical finding\n",
      "\tHealth status: abnormal\n",
      "\tComparison status: progressed\n",
      "\tChest Imagenome observations:\n",
      "\t\tinfiltration\n",
      "\t\tlung opacity\n",
      "\tChest Imagenome anatomical locations:\n",
      "\t\tleft lower lung zone\n",
      "\t\tleft upper lung zone\n",
      "\t\tright lower lung zone\n",
      "\t\tright upper lung zone\n",
      "\u001b[1mFact 53: Correlation with cross-sectional imaging (chest CT)\u001b[0m\n",
      "\tCategory: technical assessment\n",
      "\tHealth status: unknown\n",
      "\tComparison status: unclear comparison\n",
      "\tChest Imagenome observations:\n",
      "\tChest Imagenome anatomical locations:\n",
      "\u001b[1mFact 54: Normal heart\u001b[0m\n",
      "\tCategory: anatomical finding\n",
      "\tHealth status: normal\n",
      "\tComparison status: no comparison\n",
      "\tChest Imagenome observations:\n",
      "\tChest Imagenome anatomical locations:\n",
      "\t\tcardiac silhouette\n",
      "\t\tmediastinum\n",
      "\u001b[1mFact 55: Hazy lung fields\u001b[0m\n",
      "\tCategory: anatomical finding\n",
      "\tHealth status: abnormal\n",
      "\tComparison status: progressed\n",
      "\tChest Imagenome observations:\n",
      "\t\tairspace opacity\n",
      "\t\tatelectasis\n",
      "\t\tconsolidation\n",
      "\t\tincreased reticular markings/ild pattern\n",
      "\t\tinfiltration\n",
      "\t\tlinear/patchy atelectasis\n",
      "\t\tlung opacity\n",
      "\tChest Imagenome anatomical locations:\n",
      "\t\tleft lower lung zone\n",
      "\t\tleft mid lung zone\n",
      "\t\tleft upper lung zone\n",
      "\t\tright lower lung zone\n",
      "\t\tright mid lung zone\n",
      "\t\tright upper lung zone\n",
      "\u001b[1mFact 56: region at the top of the sternum\u001b[0m\n",
      "\tCategory: anatomical finding\n",
      "\tHealth status: unknown\n",
      "\tComparison status: position changed\n",
      "\tChest Imagenome observations:\n",
      "\tChest Imagenome anatomical locations:\n",
      "\t\tupper mediastinum\n",
      "\u001b[1mFact 57: No evidence of acute consolidation in the heart or lungs\u001b[0m\n",
      "\tCategory: anatomical finding\n",
      "\tHealth status: normal\n",
      "\tComparison status: no comparison\n",
      "\tChest Imagenome observations:\n",
      "\tChest Imagenome anatomical locations:\n",
      "\t\tcardiac silhouette\n",
      "\u001b[1mFact 58: no evidence of acute consolidation in the heart or lungs\u001b[0m\n",
      "\tCategory: anatomical finding\n",
      "\tHealth status: normal\n",
      "\tComparison status: no comparison\n",
      "\tChest Imagenome observations:\n",
      "\tChest Imagenome anatomical locations:\n",
      "\t\tcardiac silhouette\n",
      "\u001b[1mFact 59: Progression of asymmetrical left perihilar opacification\u001b[0m\n",
      "\tCategory: anatomical finding\n",
      "\tHealth status: abnormal\n",
      "\tComparison status: progressed\n",
      "\tChest Imagenome observations:\n",
      "\t\tlung opacity\n",
      "\tChest Imagenome anatomical locations:\n",
      "\t\tleft hilar structures\n",
      "\u001b[1mFact 60: Progression of asymmetrical left perihilar opacification\u001b[0m\n",
      "\tCategory: anatomical finding\n",
      "\tHealth status: abnormal\n",
      "\tComparison status: progressed\n",
      "\tChest Imagenome observations:\n",
      "\t\tlung opacity\n",
      "\tChest Imagenome anatomical locations:\n",
      "\t\tleft hilar structures\n",
      "\u001b[1mFact 61: no significant abnormal findings\u001b[0m\n",
      "\tCategory: anatomical finding\n",
      "\tHealth status: normal\n",
      "\tComparison status: resolved\n",
      "\tChest Imagenome observations:\n",
      "\tChest Imagenome anatomical locations:\n",
      "\u001b[1mFact 62: Consolidation in the lungs\u001b[0m\n",
      "\tCategory: anatomical finding\n",
      "\tHealth status: abnormal\n",
      "\tComparison status: progressed\n",
      "\tChest Imagenome observations:\n",
      "\t\tconsolidation\n",
      "\tChest Imagenome anatomical locations:\n",
      "\t\tleft lower lung zone\n",
      "\t\tleft upper lung zone\n",
      "\t\tright lower lung zone\n",
      "\u001b[1mFact 63: Atelectasis in the lingular segment of the left lobe\u001b[0m\n",
      "\tCategory: anatomical finding\n",
      "\tHealth status: abnormal\n",
      "\tComparison status: no comparison\n",
      "\tChest Imagenome observations:\n",
      "\tChest Imagenome anatomical locations:\n",
      "\t\tleft upper lung zone\n",
      "\u001b[1mFact 64: possible coronary stent\u001b[0m\n",
      "\tCategory: device\n",
      "\tHealth status: unknown\n",
      "\tComparison status: no comparison\n",
      "\tChest Imagenome observations:\n",
      "\t\taortic graft/repair\n",
      "\t\tcabg grafts\n",
      "\tChest Imagenome anatomical locations:\n",
      "\t\tabdomen\n",
      "\t\taortic arch\n",
      "\t\tcardiac silhouette\n",
      "\t\tcarina\n",
      "\t\tcavoatrial junction\n",
      "\t\tleft apical zone\n",
      "\t\tleft arm\n",
      "\t\tleft breast\n",
      "\t\tleft chest wall\n",
      "\t\tleft clavicle\n",
      "\u001b[1mFact 65: new bibasal consolidations on the left\u001b[0m\n",
      "\tCategory: anatomical finding\n",
      "\tHealth status: abnormal\n",
      "\tComparison status: new finding\n",
      "\tChest Imagenome observations:\n",
      "\t\tconsolidation\n",
      "\tChest Imagenome anatomical locations:\n",
      "\t\tleft lower lung zone\n",
      "\u001b[1mFact 66: Left distended stomach\u001b[0m\n",
      "\tCategory: anatomical finding\n",
      "\tHealth status: abnormal\n",
      "\tComparison status: no comparison\n",
      "\tChest Imagenome observations:\n",
      "\t\thernia\n",
      "\tChest Imagenome anatomical locations:\n",
      "\t\tabdomen\n",
      "\u001b[1mFact 67: no focal lung abnormality\u001b[0m\n",
      "\tCategory: anatomical finding\n",
      "\tHealth status: normal\n",
      "\tComparison status: no comparison\n",
      "\tChest Imagenome observations:\n",
      "\tChest Imagenome anatomical locations:\n",
      "\u001b[1mFact 68: no concentrated lung shadowing\u001b[0m\n",
      "\tCategory: anatomical finding\n",
      "\tHealth status: normal\n",
      "\tComparison status: no comparison\n",
      "\tChest Imagenome observations:\n",
      "\tChest Imagenome anatomical locations:\n",
      "\u001b[1mFact 69: The doctor left the room\u001b[0m\n",
      "\tCategory: technical assessment\n",
      "\tHealth status: unknown\n",
      "\tComparison status: no comparison\n",
      "\tChest Imagenome observations:\n",
      "\tChest Imagenome anatomical locations:\n",
      "\t\tleft chest wall\n",
      "\t\tleft hemidiaphragm\n",
      "\t\tleft lower lung zone\n",
      "\t\tleft lung\n",
      "\t\tleft mid lung zone\n",
      "\t\tleft upper lung zone\n",
      "\u001b[1mFact 70: no specific abnormality in the lungs\u001b[0m\n",
      "\tCategory: anatomical finding\n",
      "\tHealth status: normal\n",
      "\tComparison status: no comparison\n",
      "\tChest Imagenome observations:\n",
      "\tChest Imagenome anatomical locations:\n",
      "\u001b[1mFact 71: Tip of chest tube at the level of top of aorta\u001b[0m\n",
      "\tCategory: tubes and lines\n",
      "\tHealth status: unknown\n",
      "\tComparison status: position changed\n",
      "\tChest Imagenome observations:\n",
      "\t\tchest tube\n",
      "\tChest Imagenome anatomical locations:\n",
      "\t\taortic arch\n",
      "\u001b[1mFact 72: Upper thoracic trachea\u001b[0m\n",
      "\tCategory: anatomical finding\n",
      "\tHealth status: unknown\n",
      "\tComparison status: position changed\n",
      "\tChest Imagenome observations:\n",
      "\tChest Imagenome anatomical locations:\n",
      "\t\ttrachea\n",
      "\t\tupper mediastinum\n",
      "\u001b[1mFact 73: Generally appropriate configuration\u001b[0m\n",
      "\tCategory: technical assessment\n",
      "\tHealth status: normal\n",
      "\tComparison status: position changed\n",
      "\tChest Imagenome observations:\n",
      "\tChest Imagenome anatomical locations:\n"
     ]
    }
   ],
   "source": [
    "# facts = [\"minimal radiolucency adjacent to the lateral aspect of the aortic knob\", \"vascular stents in the region of the right upper arm\", \"calcified vessels projecting over the right portion of the mediastinum\", \"no focal lung abnormality\", \"no specific abnormality in the lungs\", \"Chondroid matrix visualized in the left humeral head\", \"Chondroid matrix identified within the left humeral head\", \"no concentrated lung shadowing\", \"calcified vessels observed over the right aspect of the mediastinum\", \"vascular stents in the axilla\", \"no evident skeletal abnormality\", \"possible coronary stent\", \"no sharpness of the descending aorta\", \"no significant abnormal findings\", \"no evidence of acute consolidation in the heart or lungs\", \"opacity previously seen in the retrocardiac region is no longer evident\", \"region at the top of the sternum\", \"The previously noted opacity is no longer apparent\", \"right carotid artery branching spot\", \"site of the previously identified subclavian pseudoaneurysm\"]\n",
    "# facts = [\"no pneumonia\", \"no focal lung abnormality\", \"no concentrated lung shadowing\", \"no specific abnormality in the lungs\", \"no primary process in the lung\", \"focal parenchymal abnormality\", \"focal area of abnormality\", \"Patches of consolidation\", \"no acute intrathoracic process concerning for infection\", \"pneumonia\", \"no features of pneumonia\", \"no correlating of pneumonia\", \"No focal opacity concerning for infectious process identified\", \"spot of consolidation\", \"eliminate acute lung pathology\", \"Lack of consolidation, indicating no signs of pneumonia\", \"The previously noted opacity is no longer apparent\", \"lungs without sign of consolidation\", \"no evident skeletal abnormality\", \"focal pneumonia\", \"territory of consolidation\"]\n",
    "facts = [\n",
    "    'calcified vessels observed over the right aspect of the mediastinum',\n",
    "    'Normal heart',\n",
    "    'osteoporosis',\n",
    "    'Generally appropriate configuration',\n",
    "    'opacities',\n",
    "    'Enlarged cardiac sillhoute',\n",
    "    'Normal heart size',\n",
    "    'No cardiomegaly',\n",
    "    'Heart size is normal',\n",
    "    'worsening of osteoporosis',\n",
    "    \"Consolidation in the lungs\",\n",
    "    'No significant interval change in the small right apical pneumothorax',\n",
    "    \"\"\"Leads extending into the region of the right atrium\"\"\",\n",
    "    \"Ground-glass opacities\",\n",
    "    'No evidence of acute consolidation in the heart or lungs',\n",
    "    'opacity',\n",
    "    'unchanged mild cardiomegaly , elevation of the left hemidiaphragm and atelectasis at the left lung bases .',\n",
    "    'lung volumes lower today than in xxxx or more recently compared to xxxx , is explained by persistent bibasilar atelectasis , more severe on the right .',\n",
    "    'Although the right lung with cephalization and background interstitial abnormality is likely pulmonary edema, either on the basis of volume overload, cardiac decompensation or blood transfusion-related acute lung injury, left lung has a distinctly and progressively nodular abnormality, although occasionally pulmonary edema present as acinar filling with round opacities likely these, one cannot make that assumption and I discussed with Dr. ___ ___ possibility of disseminated infection, including septicemia.'\n",
    "    'The chest tube is in the wrong position',\n",
    "    \n",
    "     \"Pulmonary infiltrates\",\n",
    "  \"Opacity in the lung fields\",\n",
    "  \"Hazy lung fields\",\n",
    "  \"Patchy opacities\",\n",
    "  \"Alveolar opacities\",\n",
    "  \"Interstitial opacities\",\n",
    "  \"Nodular opacities\",\n",
    "  \"Bilateral lung opacities\",\n",
    "    \n",
    "    'Residual right internal jugular catheter',\n",
    "    \n",
    "    'no specific abnormality in the lungs',\n",
    "    'minimal radiolucency adjacent to the lateral aspect of the aortic knob',\n",
    "    'vascular stents in the region of the right upper arm',\n",
    "    'calcified vessels projecting over the right portion of the mediastinum',\n",
    "    'no focal lung abnormality',\n",
    "    'no concentrated lung shadowing',\n",
    "    'vascular stents in the axilla',\n",
    "    'no evident skeletal abnormality',\n",
    "    'possible coronary stent',\n",
    "    'no sharpness of the descending aorta',\n",
    "    'no significant abnormal findings',\n",
    "    'no evidence of acute consolidation in the heart or lungs',\n",
    "    'opacity previously seen in the retrocardiac region is no longer evident',\n",
    "    'region at the top of the sternum',\n",
    "    'right carotid artery branching spot',\n",
    "    'site of the previously identified subclavian pseudoaneurysm',\n",
    "    'calcific tendinosis in the right supraspinatus tendon',\n",
    "    'major artery in the axillary region',\n",
    "    'calcification adjacent to the left of the trachea',\n",
    "    \n",
    "    \n",
    "    \"\"\"Peripheral band-like opacities in left mid and lower lung\"\"\",\n",
    "    \"\"\"Aortic mass adjacent to the left heart border\"\"\",\n",
    "    \"\"\"Atelectasis in the lingular segment of the left lobe\"\"\",\n",
    "    \"\"\"The doctor left the room\"\"\",\n",
    "    \n",
    "    \n",
    "    \"\"\"Progression of asymmetrical left perihilar opacification\"\"\",\n",
    "    \"\"\"Left distended stomach\"\"\",\n",
    "    \"\"\"Grossly large thoracic aorta\"\"\",\n",
    "    \"\"\"Progression of asymmetrical left perihilar opacification\"\"\",\n",
    "    \"\"\"Obscured left heart border by airspace process\"\"\",\n",
    "    \n",
    "     'Upper thoracic trachea',\n",
    "     'Engorgement of pulmonary vascular congestion',\n",
    "     'Radioopaque material',\n",
    "     'Tip of chest tube at the level of top of aorta',\n",
    "     '2 leads in the expected location of the right ventricle',\n",
    "     \n",
    "     'Correlation with cross-sectional imaging (chest CT)',\n",
    "     'Right greater than left infrahilar opacities',\n",
    "    'Heart larger compared to previus',\n",
    "    'right pleural effusion similar in size',\n",
    "    'pleural density on the left is somewhat increased',\n",
    "    'new bibasal consolidations on the left',\n",
    "    'small foci of opacity in the left mid lung',\n",
    "    'no ill-definition of right hemidiaphragm',\n",
    "    'heart within upper limits of normal in size',\n",
    "    'no significant change in size of pneumothorax',\n",
    "    'osteoporosis worsening in a debilitated and wheelchair-bound patient',\n",
    "    'osteoporosis worsening in a debilitated and wheelchair-bound patient compared',\n",
    "    'the size of the tumor is roughly the same',\n",
    "]\n",
    "chest_imagenome_observations = [\n",
    "    'airspace opacity',\n",
    "    'atelectasis',\n",
    "    'bone lesion',\n",
    "    'bronchiectasis',\n",
    "    'calcified nodule',\n",
    "    'clavicle fracture',\n",
    "    'consolidation',\n",
    "    'costophrenic angle blunting',\n",
    "    'cyst/bullae',\n",
    "    'diaphragmatic eventration (benign)',\n",
    "    'elevated hemidiaphragm',\n",
    "    'enlarged cardiac silhouette',\n",
    "    'enlarged hilum',\n",
    "    'hernia',\n",
    "    'hydropneumothorax',\n",
    "    'hyperaeration',\n",
    "    'increased reticular markings/ild pattern',\n",
    "    'infiltration',\n",
    "    'linear/patchy atelectasis',\n",
    "    'lobar/segmental collapse',\n",
    "    'lung lesion',\n",
    "    'lung opacity',\n",
    "    'mass/nodule (not otherwise specified)',\n",
    "    'mediastinal displacement',\n",
    "    'mediastinal widening',\n",
    "    'multiple masses/nodules',\n",
    "    'pleural effusion',\n",
    "    'pleural/parenchymal scarring',\n",
    "    'pneumomediastinum',\n",
    "    'pneumothorax',\n",
    "    'pulmonary edema/hazy opacity',\n",
    "    'rib fracture',\n",
    "    'scoliosis',\n",
    "    'shoulder osteoarthritis',\n",
    "    'spinal degenerative changes',\n",
    "    'spinal fracture',\n",
    "    'sub-diaphragmatic air',\n",
    "    'subcutaneous air',\n",
    "    'superior mediastinal mass/enlargement',\n",
    "    'tortuous aorta',\n",
    "    'vascular calcification',\n",
    "    'vascular congestion',\n",
    "    'vascular redistribution',\n",
    "    'aortic graft/repair',\n",
    "    'cabg grafts',\n",
    "    'cardiac pacer and wires',\n",
    "    'prosthetic valve',\n",
    "    'alveolar hemorrhage',\n",
    "    'aspiration',\n",
    "    'copd/emphysema',\n",
    "    'fluid overload/heart failure',\n",
    "    'goiter',\n",
    "    'granulomatous disease',\n",
    "    'interstitial lung disease',\n",
    "    'lung cancer',\n",
    "    'pericardial effusion',\n",
    "    'pneumonia',\n",
    "    'artifact',\n",
    "    'breast/nipple shadows',\n",
    "    'low lung volumes',\n",
    "    'rotated',\n",
    "    'skin fold',\n",
    "    'chest port',\n",
    "    'chest tube',\n",
    "    'endotracheal tube',\n",
    "    'enteric tube',\n",
    "    'ij line',\n",
    "    'intra-aortic balloon pump',\n",
    "    'mediastinal drain',\n",
    "    'picc',\n",
    "    'pigtail catheter',\n",
    "    'subclavian line',\n",
    "    'swan-ganz catheter',\n",
    "    'tracheostomy tube',\n",
    "]\n",
    "chest_imagenome_anatomical_locations = [\n",
    "    'abdomen',\n",
    "    'aortic arch',\n",
    "    'cardiac silhouette',\n",
    "    'carina',\n",
    "    'cavoatrial junction',\n",
    "    'left apical zone',\n",
    "    'left arm',\n",
    "    'left breast',\n",
    "    'left chest wall',\n",
    "    'left clavicle',\n",
    "    'left costophrenic angle',\n",
    "    'left hemidiaphragm',\n",
    "    'left hilar structures',\n",
    "    'left lower lung zone',\n",
    "    'left lung',\n",
    "    'left mid lung zone',\n",
    "    'left shoulder',\n",
    "    'left upper lung zone',\n",
    "    'mediastinum',\n",
    "    'neck',\n",
    "    'right apical zone',\n",
    "    'right arm',\n",
    "    'right atrium',\n",
    "    'right breast',\n",
    "    'right chest wall',\n",
    "    'right clavicle',\n",
    "    'right costophrenic angle',\n",
    "    'right hemidiaphragm',\n",
    "    'right hilar structures',\n",
    "    'right lower lung zone',\n",
    "    'right lung',\n",
    "    'right mid lung zone',\n",
    "    'right shoulder',\n",
    "    'right upper lung zone',\n",
    "    'spine',\n",
    "    'svc',\n",
    "    'trachea',\n",
    "    'upper mediastinum',\n",
    "]\n",
    "load_and_run_fact_encoder_in_inference_mode(\n",
    "    facts=facts,\n",
    "    chest_imagenome_observations=chest_imagenome_observations,\n",
    "    chest_imagenome_anatomical_locations=chest_imagenome_anatomical_locations,\n",
    "#     model_folder_path = '/mnt/data/pamessina/workspaces/medvqa-workspace/models/fact_embedding/20230719_132018_MIMIC-CXR(GPT3.5+CXR-Bert-based-labels)_FactEncoder(microsoft-BiomedVLP-CXR-BERT-specialized)',\n",
    "#     model_folder_path = '/mnt/data/pamessina/workspaces/medvqa-workspace/models/fact_embedding/20230721_061431_MIMIC-CXR(GPT3,.5+CXR-Bert-based-labels)_FactEncoder(microsoft-BiomedVLP-CXR-BERT-specialized)',\n",
    "#     model_folder_path = '/mnt/data/pamessina/workspaces/medvqa-workspace/models/fact_embedding/20230723_122122_MIMIC-CXR(GPT3.5,GPT4,CXR-BERT,triplet_loss,ChestImaGenome)_FactEncoder(microsoft-BiomedVLP-CXR-BERT-specialized)',\n",
    "#     model_folder_path = '/mnt/data/pamessina/workspaces/medvqa-workspace/models/fact_embedding/20230728_075327_MIMIC-CXR(GPT3.5,GPT4,CXR-BERT,triplet_loss,ChestImaGenome)_FactEncoder(microsoft-BiomedVLP-CXR-BERT-specialized)',\n",
    "#     model_folder_path = '/mnt/data/pamessina/workspaces/medvqa-workspace/models/fact_embedding/20230730_012705_MIMIC-CXR(GPT3.5,GPT4,CXR-BERT,triplet_loss,ChestImaGenome)_FactEncoder(microsoft-BiomedVLP-CXR-BERT-specialized)',\n",
    "#     model_folder_path = '/mnt/data/pamessina/workspaces/medvqa-workspace/models/fact_embedding/20230820_223655_MIMIC-CXR(GPT3.5,GPT4,CXR-BERT,triplet_loss,ChestImaGenome,RadGraph)_FactEncoder(microsoft-BiomedVLP-BioViL-T)',\n",
    "#     model_folder_path = '/mnt/data/pamessina/workspaces/medvqa-workspace/models/fact_embedding/20230822_184328_MIMIC-CXR(GPT3.5,GPT4,CXR-BERT,triplet_loss,ChestImaGenome,RadGraph)_FactEncoder(microsoft-BiomedVLP-CXR-BERT-specialized)',\n",
    "#     model_folder_path = '/mnt/data/pamessina/workspaces/medvqa-workspace/models/fact_embedding/20230823_124048_MIMIC-CXR(GPT3.5,GPT4,CXR-BERT,triplet_loss,ChestImaGenome,RadGraph)_FactEncoder(microsoft-BiomedVLP-CXR-BERT-specialized)',\n",
    "#     model_folder_path = \"/mnt/data/pamessina/workspaces/medvqa-workspace/models/fact_embedding/20230914_150704_MIMIC-CXR(GPT3.5,GPT4,CXR-BERT,triplet_loss,ChestImaGenome,RadGraph)_FactEncoder(microsoft-BiomedVLP-CXR-BERT-specialized)\",\n",
    "#     model_folder_path = '/mnt/data/pamessina/workspaces/medvqa-workspace/models/fact_embedding/20230915_175012_MIMIC-CXR(GPT3.5,GPT4,CXR-BERT,triplet_loss,ChestImaGenome,RadGraph)_FactEncoder(microsoft-BiomedVLP-CXR-BERT-specialized)',\n",
    "#     model_folder_path = '/mnt/data/pamessina/workspaces/medvqa-workspace/models/fact_embedding/20230916_194059_MIMIC-CXR(GPT3.5,GPT4,CXR-BERT,triplet_loss,ChestImaGenome,RadGraph)_FactEncoder(microsoft-BiomedVLP-CXR-BERT-specialized)',\n",
    "    model_folder_path = '/mnt/data/pamessina/workspaces/medvqa-workspace/models/fact_embedding/20230925_020631_MIMIC-CXR(GPT3.5,GPT4,CXR-BERT,triplet_loss,ChestImaGenome,RadGraph,NLI)_FactEncoder(microsoft-BiomedVLP-CXR-BERT-specialized)',\n",
    "    use_amp=False,\n",
    "    device='GPU',\n",
    ")"
   ]
  },
  {
   "cell_type": "code",
   "execution_count": 4,
   "id": "dc4263dc",
   "metadata": {},
   "outputs": [],
   "source": [
    "from medvqa.models.model_debugging_utils import run_fact_encoder_nli"
   ]
  },
  {
   "cell_type": "code",
   "execution_count": 9,
   "id": "af5159c8",
   "metadata": {},
   "outputs": [
    {
     "name": "stdout",
     "output_type": "stream",
     "text": [
      "metadata loaded from /mnt/data/pamessina/workspaces/medvqa-workspace/models/fact_embedding/20230921_095733_MIMIC-CXR(GPT3.5,GPT4,CXR-BERT,triplet_loss,ChestImaGenome,RadGraph)_FactEncoder(microsoft-BiomedVLP-CXR-BERT-specialized)/metadata.json\n",
      "\u001b[1mdevice = \u001b[0m \u001b[1mGPU\u001b[0m\n",
      "\u001b[1mCreate model\u001b[0m\n",
      "Fact encoder\n",
      "  huggingface_model_name: microsoft/BiomedVLP-CXR-BERT-specialized\n",
      "  embedding_size: 128\n",
      "  classify_category: True\n",
      "  n_categories: 6\n",
      "  classify_health_status: True\n",
      "  n_health_statuses: 5\n",
      "  classify_comparison_status: True\n",
      "  n_comparison_statuses: 15\n",
      "  classify_chest_imagenome_obs: True\n",
      "  n_chest_imagenome_observations: 74\n",
      "  classify_chest_imagenome_anatloc: True\n",
      "  n_chest_imagenome_anatomical_locations: 38\n",
      "  use_aux_task_hidden_layer: True\n",
      "  aux_task_hidden_layer_size: 512\n",
      "  do_nli: True\n",
      "  nli_hidden_layer_size: 128\n",
      "\u001b[93m\u001b[1mWARNING: unused_kwargs: {'pretrained_checkpoint_folder_path': '/mnt/data/pamessina/workspaces/medvqa-workspace/models/fact_embedding/20230921_052143_MIMIC-CXR(GPT3.5,GPT4,CXR-BERT,triplet_loss,ChestImaGenome,RadGraph)_FactEncoder(microsoft-BiomedVLP-CXR-BERT-specialized)/'}\u001b[0m\n"
     ]
    },
    {
     "name": "stderr",
     "output_type": "stream",
     "text": [
      "Explicitly passing a `revision` is encouraged when loading a configuration with custom code to ensure no malicious code has been contributed in a newer revision.\n",
      "Explicitly passing a `revision` is encouraged when loading a model with custom code to ensure no malicious code has been contributed in a newer revision.\n"
     ]
    },
    {
     "name": "stdout",
     "output_type": "stream",
     "text": [
      "\u001b[1mLoad model weights\u001b[0m\n",
      "checkpoint_names = ['checkpoint_53_cacc+chf1+chf1+cscc+hscc+nlcc+ta0)+ta1)+ta2)+ta0)+ta1)+ta2)+ta3)+ta4)+ta5)+ta6)+ta7)=0.9585.pt']\n",
      "model_checkpoint_path =  /mnt/data/pamessina/workspaces/medvqa-workspace/models/fact_embedding/20230921_095733_MIMIC-CXR(GPT3.5,GPT4,CXR-BERT,triplet_loss,ChestImaGenome,RadGraph)_FactEncoder(microsoft-BiomedVLP-CXR-BERT-specialized)/checkpoint_53_cacc+chf1+chf1+cscc+hscc+nlcc+ta0)+ta1)+ta2)+ta0)+ta1)+ta2)+ta3)+ta4)+ta5)+ta6)+ta7)=0.9585.pt\n"
     ]
    },
    {
     "name": "stderr",
     "output_type": "stream",
     "text": [
      "Explicitly passing a `revision` is encouraged when loading a model with custom code to ensure no malicious code has been contributed in a newer revision.\n"
     ]
    },
    {
     "name": "stdout",
     "output_type": "stream",
     "text": [
      "\u001b[1mRun model in inference mode\u001b[0m\n",
      "\u001b[1mConvert logits to labels\u001b[0m\n",
      "\u001b[1mResults\u001b[0m\n",
      "Premise: Lungs are well-expanded and clear without focal consolidation concerning for pneumonia.\n",
      "Hypothesis: Lungs are hyperinflated but clear.\n",
      "Label: contradiction\n",
      "----------------\n",
      "Premise: Elevation of the right hemidiaphragm is unchanged.\n",
      "Hypothesis: Elevation of the right hemidiaphragm is unchanged.\n",
      "Label: entailment\n",
      "----------------\n",
      "Premise: Elevation of the right hemidiaphragm is unchanged.\n",
      "Hypothesis: There is a dobhoff coursing below the diaphragm, however the tip is not visualized.\n",
      "Label: neutral\n",
      "----------------\n",
      "Premise: The cardiac silhouette and the left lung are normal.\n",
      "Hypothesis: The cardiac and mediastinal silhouettes are unremarkable.\n",
      "Label: neutral\n",
      "----------------\n",
      "Premise: No pneumothorax.\n",
      "Hypothesis: No focal consolidation, pleural effusion, or pneumothorax is detected.\n",
      "Label: neutral\n",
      "----------------\n",
      "Premise: No acute osseous abnormality is visualized.\n",
      "Hypothesis: There is no focal infiltrate.\n",
      "Label: neutral\n",
      "----------------\n",
      "Premise: There is no pleural effusion, focal consolidation or pneumothorax.\n",
      "Hypothesis: There is no focal consolidation, pleural effusion, pneumothorax, or pulmonary edema.\n",
      "Label: contradiction\n",
      "----------------\n",
      "Premise: There is no focal consolidation, pleural effusion, pneumothorax, or pulmonary edema.\n",
      "Hypothesis: There is no pleural effusion, focal consolidation or pneumothorax.\n",
      "Label: contradiction\n",
      "----------------\n"
     ]
    }
   ],
   "source": [
    "run_fact_encoder_nli(\n",
    "    premises=[\n",
    "        'Lungs are well-expanded and clear without focal consolidation concerning for pneumonia.',\n",
    "        'Elevation of the right hemidiaphragm is unchanged.',\n",
    "        'Elevation of the right hemidiaphragm is unchanged.',\n",
    "        'The cardiac silhouette and the left lung are normal.',\n",
    "        'No pneumothorax.',\n",
    "        'No acute osseous abnormality is visualized.',\n",
    "        'There is no pleural effusion, focal consolidation or pneumothorax.',\n",
    "        'There is no focal consolidation, pleural effusion, pneumothorax, or pulmonary edema.',\n",
    "    ],\n",
    "    hypotheses=[\n",
    "        'Lungs are hyperinflated but clear.',\n",
    "        'Elevation of the right hemidiaphragm is unchanged.',\n",
    "        'There is a dobhoff coursing below the diaphragm, however the tip is not visualized.',\n",
    "        'The cardiac and mediastinal silhouettes are unremarkable.',\n",
    "        'No focal consolidation, pleural effusion, or pneumothorax is detected.',\n",
    "        'There is no focal infiltrate.',\n",
    "        'There is no focal consolidation, pleural effusion, pneumothorax, or pulmonary edema.',\n",
    "        'There is no pleural effusion, focal consolidation or pneumothorax.',\n",
    "    ],\n",
    "    model_folder_path = '/mnt/data/pamessina/workspaces/medvqa-workspace/models/fact_embedding/20230921_095733_MIMIC-CXR(GPT3.5,GPT4,CXR-BERT,triplet_loss,ChestImaGenome,RadGraph)_FactEncoder(microsoft-BiomedVLP-CXR-BERT-specialized)',\n",
    "    use_amp=False,\n",
    "    device='GPU',\n",
    ")"
   ]
  },
  {
   "cell_type": "code",
   "execution_count": 4,
   "id": "da5efd75",
   "metadata": {},
   "outputs": [],
   "source": [
    "from importlib import reload\n",
    "import medvqa"
   ]
  },
  {
   "cell_type": "code",
   "execution_count": 48,
   "id": "e55cd20d",
   "metadata": {},
   "outputs": [
    {
     "data": {
      "text/plain": [
       "<module 'medvqa.models.huggingface_utils' from '/home/pamessina/medvqa/medvqa/models/huggingface_utils.py'>"
      ]
     },
     "execution_count": 48,
     "metadata": {},
     "output_type": "execute_result"
    }
   ],
   "source": [
    "reload(medvqa.models.huggingface_utils)"
   ]
  },
  {
   "cell_type": "code",
   "execution_count": 5,
   "id": "6d83c7d1",
   "metadata": {},
   "outputs": [],
   "source": [
    "from medvqa.models.huggingface_utils import TripletRankingEvaluator"
   ]
  },
  {
   "cell_type": "code",
   "execution_count": 4,
   "id": "cce07247",
   "metadata": {},
   "outputs": [
    {
     "name": "stdout",
     "output_type": "stream",
     "text": [
      "Loading triplets from /mnt/workspace/pamessina/medvqa-workspace/cache/mimiccxr/triplets(4374074,318620,2395255,3002000,1000,1000).pkl\n"
     ]
    }
   ],
   "source": [
    "tre = TripletRankingEvaluator(\n",
    "    triplets_filepath='/mnt/workspace/pamessina/medvqa-workspace/cache/mimiccxr/triplets(4374074,318620,2395255,3002000,1000,1000).pkl',\n",
    "    model_name='BiomedVLP-CXR-BERT-specialized',\n",
    "    model_checkpoint_folder_path='/mnt/data/pamessina/workspaces/medvqa-workspace/models/fact_embedding/20230915_175012_MIMIC-CXR(GPT3.5,GPT4,CXR-BERT,triplet_loss,ChestImaGenome,RadGraph)_FactEncoder(microsoft-BiomedVLP-CXR-BERT-specialized)/',\n",
    "    batch_size=100,\n",
    "    num_workers=4,\n",
    ")"
   ]
  },
  {
   "cell_type": "code",
   "execution_count": 302,
   "id": "f9694ed3",
   "metadata": {},
   "outputs": [
    {
     "name": "stdout",
     "output_type": "stream",
     "text": [
      "Evaluating triplet ranking on test split with category observations and rule \"Hard negative triplets generated by ChatGPT\"\n",
      "triplets.shape = (1000, 3)\n"
     ]
    },
    {
     "name": "stderr",
     "output_type": "stream",
     "text": [
      "100%|███████████████████████████████████████████████████████████████████████████| 3000/3000 [00:00<00:00, 436376.35it/s]\n"
     ]
    }
   ],
   "source": [
    "res = tre.evaluate_triplet_ranking(split='test', category='observations', rule_index=7)"
   ]
  },
  {
   "cell_type": "code",
   "execution_count": 303,
   "id": "a54dc010",
   "metadata": {},
   "outputs": [
    {
     "data": {
      "text/plain": [
       "dict_keys(['accuracy', 'correct', 'AP', 'AN', 'anchors', 'positives', 'negatives'])"
      ]
     },
     "execution_count": 303,
     "metadata": {},
     "output_type": "execute_result"
    }
   ],
   "source": [
    "res.keys()"
   ]
  },
  {
   "cell_type": "code",
   "execution_count": 304,
   "id": "8c2a36f0",
   "metadata": {},
   "outputs": [
    {
     "data": {
      "text/plain": [
       "0.926"
      ]
     },
     "execution_count": 304,
     "metadata": {},
     "output_type": "execute_result"
    }
   ],
   "source": [
    "res['accuracy']"
   ]
  },
  {
   "cell_type": "code",
   "execution_count": 306,
   "id": "a2c936f0",
   "metadata": {},
   "outputs": [],
   "source": [
    "import numpy as np\n",
    "import random"
   ]
  },
  {
   "cell_type": "code",
   "execution_count": 307,
   "id": "5ac04de2",
   "metadata": {},
   "outputs": [],
   "source": [
    "correct_idxs = np.where(res['correct'])[0]\n",
    "incorrect_idxs = np.where(~res['correct'])[0]"
   ]
  },
  {
   "cell_type": "code",
   "execution_count": 317,
   "id": "a4ef49b0",
   "metadata": {},
   "outputs": [
    {
     "name": "stdout",
     "output_type": "stream",
     "text": [
      "796\n",
      "anchor: square shaped areas of density/lucency in the right axilla\n",
      "positive: Square-shaped patches of opacity/clearness in the right axillary area\n",
      "negative: Elliptical regions of density/lucency in the right axilla\n",
      "AP: 0.9592496\n",
      "AN: 0.99741846\n"
     ]
    }
   ],
   "source": [
    "i = random.choice(incorrect_idxs)\n",
    "# i = random.choice(correct_idxs)\n",
    "print(i)\n",
    "print('anchor:', res['anchors'][i])\n",
    "print('positive:', res['positives'][i])\n",
    "print('negative:', res['negatives'][i])\n",
    "print('AP:', res['AP'][i])\n",
    "print('AN:', res['AN'][i])"
   ]
  },
  {
   "cell_type": "code",
   "execution_count": 240,
   "id": "471e3a27",
   "metadata": {},
   "outputs": [],
   "source": [
    "from medvqa.utils.files import load_jsonl"
   ]
  },
  {
   "cell_type": "code",
   "execution_count": 241,
   "id": "49d63a99",
   "metadata": {},
   "outputs": [],
   "source": [
    "tmp = load_jsonl(\"/home/pamessina/medvqa-workspace/cache/mimiccxr/integrated_fact_metadata(595880,60579117).improved_comparison(6741113).jsonl\")"
   ]
  },
  {
   "cell_type": "code",
   "execution_count": 242,
   "id": "4e268b26",
   "metadata": {},
   "outputs": [],
   "source": [
    "q = 'enchondroma'\n",
    "for x in tmp:\n",
    "    if x['fact'] == q:\n",
    "        print(x)\n",
    "        break"
   ]
  },
  {
   "cell_type": "code",
   "execution_count": 243,
   "id": "55c709b8",
   "metadata": {},
   "outputs": [
    {
     "name": "stdout",
     "output_type": "stream",
     "text": [
      "consistent with enchondroma in the left humeral head\n",
      "non-cancerous cartilage growth\n",
      "non-dangerous cartilage mass\n",
      "Non-malignant mass resembling enchondroma\n",
      "non-dangerous cartilage mass\n",
      "non-threatening enchondroma\n",
      "non-cancerous cartilage growth\n",
      "non-metastatic enchondroma\n",
      "non-cancerous cartilage growth\n",
      "harmless cartilage lesion\n",
      "Enchondroma detected in the proximal humerus on the left side\n",
      "non-metastatic enchondroma\n",
      "non-threatening enchondroma\n",
      "most likely differential is an enchondroma\n",
      "enchondroma in the left humeral neck\n",
      "non-cancerous cartilage growth\n",
      "The radiographic appearance is consistent with an enchondroma\n",
      "non-malignant cartilaginous tumor\n",
      "non-dangerous cartilage mass\n",
      "non-threatening enchondroma\n"
     ]
    }
   ],
   "source": [
    "count = 0\n",
    "for t in tre.triplets_data['train']['observations'][4]['triplets']:\n",
    "    if tre.triplets_data['sentences'][t[0]] == q:\n",
    "        print(tre.triplets_data['sentences'][t[1]])\n",
    "        count += 1\n",
    "        if count == 20:\n",
    "            break"
   ]
  },
  {
   "cell_type": "code",
   "execution_count": 7,
   "id": "08b44ee4",
   "metadata": {},
   "outputs": [
    {
     "name": "stdout",
     "output_type": "stream",
     "text": [
      "script's arguments:\n",
      "   checkpoint_folder_path: /mnt/data/pamessina/workspaces/medvqa-workspace/models/fact_embedding/20230923_132315_MIMIC-CXR(GPT3.5,GPT4,CXR-BERT,triplet_loss,ChestImaGenome,RadGraph,NLI)_FactEncoder(microsoft-BiomedVLP-CXR-BERT-specialized)\n",
      "   batch_size: 100\n",
      "   num_workers: 2\n",
      "   device: GPU\n",
      "   plot_confusion_matrix: False\n",
      "   train_mode: False\n",
      "   dev_mode: True\n",
      "   test_mode: False\n",
      "\u001b[1m\u001b[34m----- Evaluating model ------\u001b[0m\n",
      "metadata loaded from /mnt/data/pamessina/workspaces/medvqa-workspace/models/fact_embedding/20230923_132315_MIMIC-CXR(GPT3.5,GPT4,CXR-BERT,triplet_loss,ChestImaGenome,RadGraph,NLI)_FactEncoder(microsoft-BiomedVLP-CXR-BERT-specialized)/metadata.json\n",
      "\u001b[1mdevice = \u001b[0m \u001b[1mGPU\u001b[0m\n",
      "\u001b[1mCreate model\u001b[0m\n",
      "Fact encoder\n",
      "  huggingface_model_name: microsoft/BiomedVLP-CXR-BERT-specialized\n",
      "  embedding_size: 128\n",
      "  classify_category: True\n",
      "  n_categories: 6\n",
      "  classify_health_status: True\n",
      "  n_health_statuses: 5\n",
      "  classify_comparison_status: True\n",
      "  n_comparison_statuses: 15\n",
      "  classify_chest_imagenome_obs: True\n",
      "  n_chest_imagenome_observations: 74\n",
      "  classify_chest_imagenome_anatloc: True\n",
      "  n_chest_imagenome_anatomical_locations: 38\n",
      "  use_aux_task_hidden_layer: True\n",
      "  aux_task_hidden_layer_size: 512\n",
      "  do_nli: True\n",
      "  nli_hidden_layer_size: 128\n",
      "\u001b[93m\u001b[1mWARNING: unused_kwargs: {'pretrained_checkpoint_folder_path': '/mnt/data/pamessina/workspaces/medvqa-workspace/models/fact_embedding/20230923_113626_MIMIC-CXR(GPT3.5,GPT4,CXR-BERT,triplet_loss,ChestImaGenome,RadGraph)_FactEncoder(microsoft-BiomedVLP-CXR-BERT-specialized)/'}\u001b[0m\n",
      "Explicitly passing a `revision` is encouraged when loading a configuration with custom code to ensure no malicious code has been contributed in a newer revision.\n",
      "Explicitly passing a `revision` is encouraged when loading a model with custom code to ensure no malicious code has been contributed in a newer revision.\n",
      "\u001b[1mLoad model weights\u001b[0m\n",
      "checkpoint_names = ['checkpoint_94_cacc+chf1+chf1+cscc+hscc+nlcc+ta0)+ta1)+ta2)+ta0)+ta1)+ta2)+ta3)+ta4)+ta5)+ta6)+ta7)=0.9266.pt']\n",
      "model_checkpoint_path =  /mnt/data/pamessina/workspaces/medvqa-workspace/models/fact_embedding/20230923_132315_MIMIC-CXR(GPT3.5,GPT4,CXR-BERT,triplet_loss,ChestImaGenome,RadGraph,NLI)_FactEncoder(microsoft-BiomedVLP-CXR-BERT-specialized)/checkpoint_94_cacc+chf1+chf1+cscc+hscc+nlcc+ta0)+ta1)+ta2)+ta0)+ta1)+ta2)+ta3)+ta4)+ta5)+ta6)+ta7)=0.9266.pt\n",
      "Explicitly passing a `revision` is encouraged when loading a model with custom code to ensure no malicious code has been contributed in a newer revision.\n",
      "Number of dev samples: 480\n",
      "\u001b[1mExample dev text:\u001b[0m\n",
      "Premise: The area of subtle opacity in the right lower lung is again seen, which also could reflect an infectious focus.\n",
      "Hypothesis: There is increased opacification of the right lung, predominantly affecting the lower lung zone, which silhouettes the right hemidiaphragm and the right heart border.\n",
      "Label: neutral\n",
      "----\n",
      "\u001b[1mBuilding dev NLI dataset and dataloader...\u001b[0m\n",
      "\u001b[1mRun evaluation\u001b[0m\n",
      "100%|█████████████████████████████████████████████| 5/5 [00:02<00:00,  2.41it/s]\n",
      "Accuracy = 0.9542\n"
     ]
    }
   ],
   "source": [
    "!python ../../eval_NLI.py \\\n",
    "--checkpoint_folder_path \\\n",
    "\"/mnt/data/pamessina/workspaces/medvqa-workspace/models/fact_embedding/20230923_132315_MIMIC-CXR(GPT3.5,GPT4,CXR-BERT,triplet_loss,ChestImaGenome,RadGraph,NLI)_FactEncoder(microsoft-BiomedVLP-CXR-BERT-specialized)\" \\\n",
    "--batch_size 100 \\\n",
    "--num_workers 2 \\\n",
    "--dev_mode"
   ]
  },
  {
   "cell_type": "code",
   "execution_count": 32,
   "id": "68b9eae2",
   "metadata": {},
   "outputs": [],
   "source": [
    "from importlib import reload\n",
    "import medvqa"
   ]
  },
  {
   "cell_type": "code",
   "execution_count": 37,
   "id": "40cf5694",
   "metadata": {},
   "outputs": [
    {
     "data": {
      "text/plain": [
       "<module 'medvqa.eval_NLI' from '/home/pamessina/medvqa/medvqa/eval_NLI.py'>"
      ]
     },
     "execution_count": 37,
     "metadata": {},
     "output_type": "execute_result"
    }
   ],
   "source": [
    "reload(medvqa.eval_NLI)"
   ]
  },
  {
   "cell_type": "code",
   "execution_count": 5,
   "id": "9b4e3ace",
   "metadata": {
    "scrolled": false
   },
   "outputs": [
    {
     "name": "stdout",
     "output_type": "stream",
     "text": [
      "\u001b[1m\u001b[34m----- Evaluating model ------\u001b[0m\n",
      "metadata loaded from /mnt/data/pamessina/workspaces/medvqa-workspace/models/fact_embedding/20230925_020631_MIMIC-CXR(GPT3.5,GPT4,CXR-BERT,triplet_loss,ChestImaGenome,RadGraph,NLI)_FactEncoder(microsoft-BiomedVLP-CXR-BERT-specialized)/metadata.json\n",
      "\u001b[1mdevice = \u001b[0m \u001b[1mGPU\u001b[0m\n",
      "\u001b[1mCreate model\u001b[0m\n",
      "Fact encoder\n",
      "  huggingface_model_name: microsoft/BiomedVLP-CXR-BERT-specialized\n",
      "  embedding_size: 128\n",
      "  classify_category: True\n",
      "  n_categories: 6\n",
      "  classify_health_status: True\n",
      "  n_health_statuses: 5\n",
      "  classify_comparison_status: True\n",
      "  n_comparison_statuses: 15\n",
      "  classify_chest_imagenome_obs: True\n",
      "  n_chest_imagenome_observations: 74\n",
      "  classify_chest_imagenome_anatloc: True\n",
      "  n_chest_imagenome_anatomical_locations: 38\n",
      "  use_aux_task_hidden_layer: True\n",
      "  aux_task_hidden_layer_size: 512\n",
      "  do_nli: True\n",
      "  nli_hidden_layer_size: 128\n",
      "\u001b[93m\u001b[1mWARNING: unused_kwargs: {'pretrained_checkpoint_folder_path': '/mnt/data/pamessina/workspaces/medvqa-workspace/models/fact_embedding/20230924_175553_MIMIC-CXR(GPT3.5,GPT4,CXR-BERT,triplet_loss,ChestImaGenome,RadGraph,NLI)_FactEncoder(microsoft-BiomedVLP-CXR-BERT-specialized)/'}\u001b[0m\n"
     ]
    },
    {
     "name": "stderr",
     "output_type": "stream",
     "text": [
      "Explicitly passing a `revision` is encouraged when loading a configuration with custom code to ensure no malicious code has been contributed in a newer revision.\n",
      "Explicitly passing a `revision` is encouraged when loading a model with custom code to ensure no malicious code has been contributed in a newer revision.\n"
     ]
    },
    {
     "name": "stdout",
     "output_type": "stream",
     "text": [
      "\u001b[1mLoad model weights\u001b[0m\n",
      "checkpoint_names = ['checkpoint_38_cacc+chf1+chf1+cscc+encc+hscc+nlcc+ta0)+ta1)+ta2)+ta0)+ta1)+ta2)+ta3)+ta4)+ta5)+ta6)+ta7)=0.9311.pt']\n",
      "model_checkpoint_path =  /mnt/data/pamessina/workspaces/medvqa-workspace/models/fact_embedding/20230925_020631_MIMIC-CXR(GPT3.5,GPT4,CXR-BERT,triplet_loss,ChestImaGenome,RadGraph,NLI)_FactEncoder(microsoft-BiomedVLP-CXR-BERT-specialized)/checkpoint_38_cacc+chf1+chf1+cscc+encc+hscc+nlcc+ta0)+ta1)+ta2)+ta0)+ta1)+ta2)+ta3)+ta4)+ta5)+ta6)+ta7)=0.9311.pt\n"
     ]
    },
    {
     "name": "stderr",
     "output_type": "stream",
     "text": [
      "Explicitly passing a `revision` is encouraged when loading a model with custom code to ensure no malicious code has been contributed in a newer revision.\n"
     ]
    },
    {
     "name": "stdout",
     "output_type": "stream",
     "text": [
      "Number of test samples: 480\n",
      "\u001b[1mExample test text:\u001b[0m\n",
      "Premise: The right atelectasis and pleural effusion has increased.\n",
      "Hypothesis: No pleural effusion or pneumothorax is seen.\n",
      "Label: contradiction\n",
      "----\n",
      "\u001b[1mBuilding test NLI dataset and dataloader...\u001b[0m\n",
      "\u001b[1mRun evaluation\u001b[0m\n"
     ]
    },
    {
     "name": "stderr",
     "output_type": "stream",
     "text": [
      "100%|█████████████████████████████████████████████████████████████████████████████████████| 5/5 [00:01<00:00,  4.97it/s]\n"
     ]
    },
    {
     "name": "stdout",
     "output_type": "stream",
     "text": [
      "Accuracy = 0.7125\n"
     ]
    },
    {
     "data": {
      "image/png": "[encoded data removed]",
      "text/plain": [
       "<Figure size 900x700 with 2 Axes>"
      ]
     },
     "metadata": {},
     "output_type": "display_data"
    },
    {
     "name": "stdout",
     "output_type": "stream",
     "text": [
      "GPT4 vs GT accuracy = 0.8229\n",
      "GPT4 vs Pred accuracy = 0.6500\n"
     ]
    },
    {
     "data": {
      "image/png": "[encoded data removed]",
      "text/plain": [
       "<Figure size 900x700 with 2 Axes>"
      ]
     },
     "metadata": {},
     "output_type": "display_data"
    }
   ],
   "source": [
    "from medvqa.eval_NLI import evaluate\n",
    "output = evaluate(\n",
    "#     checkpoint_folder_path=\"/mnt/data/pamessina/workspaces/medvqa-workspace/models/fact_embedding/20230921_095733_MIMIC-CXR(GPT3.5,GPT4,CXR-BERT,triplet_loss,ChestImaGenome,RadGraph)_FactEncoder(microsoft-BiomedVLP-CXR-BERT-specialized)\",\n",
    "#     checkpoint_folder_path=\"/mnt/data/pamessina/workspaces/medvqa-workspace/models/fact_embedding/20230922_150216_MIMIC-CXR(GPT3.5,GPT4,CXR-BERT,triplet_loss,ChestImaGenome,RadGraph)_FactEncoder(microsoft-BiomedVLP-CXR-BERT-specialized)\",\n",
    "#     checkpoint_folder_path=\"/mnt/data/pamessina/workspaces/medvqa-workspace/models/fact_embedding/20230923_095955_MIMIC-CXR(GPT3.5,GPT4,CXR-BERT,triplet_loss,ChestImaGenome,RadGraph)_FactEncoder(microsoft-BiomedVLP-CXR-BERT-specialized)\",\n",
    "#     checkpoint_folder_path=\"/mnt/data/pamessina/workspaces/medvqa-workspace/models/fact_embedding/20230923_113626_MIMIC-CXR(GPT3.5,GPT4,CXR-BERT,triplet_loss,ChestImaGenome,RadGraph)_FactEncoder(microsoft-BiomedVLP-CXR-BERT-specialized)\",\n",
    "#     checkpoint_folder_path=\"/mnt/data/pamessina/workspaces/medvqa-workspace/models/fact_embedding/20230923_132315_MIMIC-CXR(GPT3.5,GPT4,CXR-BERT,triplet_loss,ChestImaGenome,RadGraph,NLI)_FactEncoder(microsoft-BiomedVLP-CXR-BERT-specialized)\",\n",
    "#     checkpoint_folder_path=\"/mnt/data/pamessina/workspaces/medvqa-workspace/models/fact_embedding/20230923_184632_NLI(MedNLI+RadNLI+GPT-4)_BerBasedNLI(microsoft-BiomedVLP-CXR-BERT-specialized,128,128)\",\n",
    "    checkpoint_folder_path=\"/mnt/data/pamessina/workspaces/medvqa-workspace/models/fact_embedding/20230925_020631_MIMIC-CXR(GPT3.5,GPT4,CXR-BERT,triplet_loss,ChestImaGenome,RadGraph,NLI)_FactEncoder(microsoft-BiomedVLP-CXR-BERT-specialized)\",\n",
    "    batch_size=100,\n",
    "    num_workers=2,\n",
    "    plot_confusion_matrix=True,\n",
    "    test_mode=True,\n",
    "    compare_with_gpt4_predictions=True,\n",
    "    gpt4_predictions_path=\"/home/pamessina/medvqa-workspace/cache/mimiccxr/openai/gpt-4-0613_radnli_queries.jsonl\",\n",
    "#     use_bert_based_nli=True,\n",
    ")"
   ]
  },
  {
   "cell_type": "code",
   "execution_count": 39,
   "id": "4a2373ab",
   "metadata": {
    "scrolled": false
   },
   "outputs": [
    {
     "name": "stdout",
     "output_type": "stream",
     "text": [
      "\u001b[1m\u001b[34m----- Evaluating model ------\u001b[0m\n",
      "metadata loaded from /mnt/data/pamessina/workspaces/medvqa-workspace/models/fact_embedding/20230923_184632_NLI(MedNLI+RadNLI+GPT-4)_BerBasedNLI(microsoft-BiomedVLP-CXR-BERT-specialized,128,128)/metadata.json\n",
      "\u001b[1mdevice = \u001b[0m \u001b[1mGPU\u001b[0m\n",
      "\u001b[1mCreate model\u001b[0m\n",
      "Fact encoder\n",
      "  huggingface_model_name: microsoft/BiomedVLP-CXR-BERT-specialized\n",
      "  merged_input: False\n",
      "  hidden_size: 128\n",
      "  freeze_huggingface_model: False\n",
      "\u001b[93m\u001b[1mWARNING: unused_kwargs: {'pretrained_checkpoint_folder_path': '/mnt/data/pamessina/workspaces/medvqa-workspace/models/fact_embedding/20230923_132315_MIMIC-CXR(GPT3.5,GPT4,CXR-BERT,triplet_loss,ChestImaGenome,RadGraph,NLI)_FactEncoder(microsoft-BiomedVLP-CXR-BERT-specialized)/'}\u001b[0m\n"
     ]
    },
    {
     "name": "stderr",
     "output_type": "stream",
     "text": [
      "Explicitly passing a `revision` is encouraged when loading a configuration with custom code to ensure no malicious code has been contributed in a newer revision.\n",
      "Explicitly passing a `revision` is encouraged when loading a model with custom code to ensure no malicious code has been contributed in a newer revision.\n"
     ]
    },
    {
     "name": "stdout",
     "output_type": "stream",
     "text": [
      "\u001b[1mLoad model weights\u001b[0m\n",
      "checkpoint_names = ['checkpoint_62_nli_acc=0.8087.pt']\n",
      "model_checkpoint_path =  /mnt/data/pamessina/workspaces/medvqa-workspace/models/fact_embedding/20230923_184632_NLI(MedNLI+RadNLI+GPT-4)_BerBasedNLI(microsoft-BiomedVLP-CXR-BERT-specialized,128,128)/checkpoint_62_nli_acc=0.8087.pt\n"
     ]
    },
    {
     "name": "stderr",
     "output_type": "stream",
     "text": [
      "Explicitly passing a `revision` is encouraged when loading a model with custom code to ensure no malicious code has been contributed in a newer revision.\n"
     ]
    },
    {
     "name": "stdout",
     "output_type": "stream",
     "text": [
      "Number of test samples: 480\n",
      "\u001b[1mExample test text:\u001b[0m\n",
      "Premise: Heart size is normal.\n",
      "Hypothesis: Heart size cannot be assessed.\n",
      "Label: neutral\n",
      "----\n",
      "\u001b[1mBuilding test NLI dataset and dataloader...\u001b[0m\n",
      "\u001b[1mRun evaluation\u001b[0m\n"
     ]
    },
    {
     "name": "stderr",
     "output_type": "stream",
     "text": [
      "100%|█████████████████████████████████████████████████████████████████████████████████████| 5/5 [00:00<00:00,  5.82it/s]\n"
     ]
    },
    {
     "name": "stdout",
     "output_type": "stream",
     "text": [
      "Accuracy = 0.7937\n"
     ]
    },
    {
     "data": {
      "image/png": "[encoded data removed]",
      "text/plain": [
       "<Figure size 900x700 with 2 Axes>"
      ]
     },
     "metadata": {},
     "output_type": "display_data"
    },
    {
     "name": "stdout",
     "output_type": "stream",
     "text": [
      "GPT4 vs GT accuracy = 0.8000\n",
      "GPT4 vs Pred accuracy = 0.6937\n"
     ]
    },
    {
     "data": {
      "image/png": "[encoded data removed]",
      "text/plain": [
       "<Figure size 900x700 with 2 Axes>"
      ]
     },
     "metadata": {},
     "output_type": "display_data"
    }
   ],
   "source": [
    "from medvqa.eval_NLI import evaluate\n",
    "output = evaluate(\n",
    "#     checkpoint_folder_path=\"/mnt/data/pamessina/workspaces/medvqa-workspace/models/fact_embedding/20230921_095733_MIMIC-CXR(GPT3.5,GPT4,CXR-BERT,triplet_loss,ChestImaGenome,RadGraph)_FactEncoder(microsoft-BiomedVLP-CXR-BERT-specialized)\",\n",
    "#     checkpoint_folder_path=\"/mnt/data/pamessina/workspaces/medvqa-workspace/models/fact_embedding/20230922_150216_MIMIC-CXR(GPT3.5,GPT4,CXR-BERT,triplet_loss,ChestImaGenome,RadGraph)_FactEncoder(microsoft-BiomedVLP-CXR-BERT-specialized)\",\n",
    "#     checkpoint_folder_path=\"/mnt/data/pamessina/workspaces/medvqa-workspace/models/fact_embedding/20230923_095955_MIMIC-CXR(GPT3.5,GPT4,CXR-BERT,triplet_loss,ChestImaGenome,RadGraph)_FactEncoder(microsoft-BiomedVLP-CXR-BERT-specialized)\",\n",
    "#     checkpoint_folder_path=\"/mnt/data/pamessina/workspaces/medvqa-workspace/models/fact_embedding/20230923_113626_MIMIC-CXR(GPT3.5,GPT4,CXR-BERT,triplet_loss,ChestImaGenome,RadGraph)_FactEncoder(microsoft-BiomedVLP-CXR-BERT-specialized)\",\n",
    "#     checkpoint_folder_path=\"/mnt/data/pamessina/workspaces/medvqa-workspace/models/fact_embedding/20230923_132315_MIMIC-CXR(GPT3.5,GPT4,CXR-BERT,triplet_loss,ChestImaGenome,RadGraph,NLI)_FactEncoder(microsoft-BiomedVLP-CXR-BERT-specialized)\",\n",
    "    checkpoint_folder_path=\"/mnt/data/pamessina/workspaces/medvqa-workspace/models/fact_embedding/20230923_184632_NLI(MedNLI+RadNLI+GPT-4)_BerBasedNLI(microsoft-BiomedVLP-CXR-BERT-specialized,128,128)\",\n",
    "    batch_size=100,\n",
    "    num_workers=2,\n",
    "    plot_confusion_matrix=True,\n",
    "    test_mode=True,\n",
    "    compare_with_gpt4_predictions=True,\n",
    "    gpt4_predictions_path=\"/home/pamessina/medvqa-workspace/cache/mimiccxr/openai/gpt-4-0613_radnli_queries.jsonl\",\n",
    "    use_bert_based_nli=True,\n",
    ")"
   ]
  },
  {
   "cell_type": "code",
   "execution_count": 9,
   "id": "7d92d35d",
   "metadata": {},
   "outputs": [
    {
     "data": {
      "text/plain": [
       "dict_keys(['accuracy', 'premises', 'hypotheses', 'labels', 'pred_labels'])"
      ]
     },
     "execution_count": 9,
     "metadata": {},
     "output_type": "execute_result"
    }
   ],
   "source": [
    "output.keys()"
   ]
  },
  {
   "cell_type": "code",
   "execution_count": 10,
   "id": "fc6ab271",
   "metadata": {},
   "outputs": [
    {
     "name": "stdout",
     "output_type": "stream",
     "text": [
      "len(wrong_indices)=110\n",
      "len(corredt_indices)=370\n"
     ]
    }
   ],
   "source": [
    "n = len(output['premises'])\n",
    "wrong_indices = [i for i in range(n) if output['labels'][i] != output['pred_labels'][i]]\n",
    "correct_indices = [i for i in range(n) if output['labels'][i] == output['pred_labels'][i]]\n",
    "print(f'len(wrong_indices)={len(wrong_indices)}')\n",
    "print(f'len(corredt_indices)={len(correct_indices)}')"
   ]
  },
  {
   "cell_type": "code",
   "execution_count": 11,
   "id": "9e1f65bf",
   "metadata": {},
   "outputs": [],
   "source": [
    "_, i = max((len(output['premises'][i])+len(output['hypotheses'][i]), i) for i in range(len(output['premises'])))"
   ]
  },
  {
   "cell_type": "code",
   "execution_count": 12,
   "id": "2322ec84",
   "metadata": {},
   "outputs": [
    {
     "name": "stdout",
     "output_type": "stream",
     "text": [
      "i: 375\n",
      "P: Diffusely increased interstitial markings are again seen, along with engorged pulmonary vasculature and cardiomegaly and bilateral pleural effusions, consistent with moderate pulmonary edema.\n",
      "H: Pulmonary vascular markings have increased and the hila appear indistinct and hazy, findings consistent with interval worsening of pulmonary edema.\n",
      "gt: neutral\n",
      "pred: entailment\n"
     ]
    }
   ],
   "source": [
    "print('i:', i)\n",
    "print('P:', output['premises'][i])\n",
    "print('H:', output['hypotheses'][i])\n",
    "print('gt:', output['labels'][i])\n",
    "print('pred:', output['pred_labels'][i])"
   ]
  },
  {
   "cell_type": "code",
   "execution_count": 13,
   "id": "25f28c59",
   "metadata": {},
   "outputs": [
    {
     "data": {
      "text/plain": [
       "(110, 370)"
      ]
     },
     "execution_count": 13,
     "metadata": {},
     "output_type": "execute_result"
    }
   ],
   "source": [
    "len(wrong_indices), len(correct_indices)"
   ]
  },
  {
   "cell_type": "code",
   "execution_count": 30,
   "id": "ca0d9606",
   "metadata": {},
   "outputs": [
    {
     "name": "stdout",
     "output_type": "stream",
     "text": [
      "i: 462\n",
      "P: No pulmonary edema is seen.\n",
      "H: Mild pulmonary edema is redemonstrated, stable since prior chest x-ray.\n",
      "gt: contradiction\n",
      "pred: neutral\n",
      "\n",
      "Premise: No pulmonary edema is seen. | Hypothesis: Mild pulmonary edema is redemonstrated, stable since prior chest x-ray.\n"
     ]
    }
   ],
   "source": [
    "import random\n",
    "i = random.choice(wrong_indices)\n",
    "print('i:', i)\n",
    "print('P:', output['premises'][i])\n",
    "print('H:', output['hypotheses'][i])\n",
    "print('gt:', output['labels'][i])\n",
    "print('pred:', output['pred_labels'][i])\n",
    "\n",
    "print()\n",
    "print(f\"Premise: {output['premises'][i]} | Hypothesis: {output['hypotheses'][i]}\")"
   ]
  }
 ],
 "metadata": {
  "kernelspec": {
   "display_name": "venv2",
   "language": "python",
   "name": "venv2"
  },
  "language_info": {
   "codemirror_mode": {
    "name": "ipython",
    "version": 3
   },
   "file_extension": ".py",
   "mimetype": "text/x-python",
   "name": "python",
   "nbconvert_exporter": "python",
   "pygments_lexer": "ipython3",
   "version": "3.10.10"
  }
 },
 "nbformat": 4,
 "nbformat_minor": 5
}
