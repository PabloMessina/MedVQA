{
 "cells": [
  {
   "cell_type": "code",
   "execution_count": 1,
   "id": "0a5ecf25",
   "metadata": {
    "scrolled": true
   },
   "outputs": [
    {
     "name": "stdout",
     "output_type": "stream",
     "text": [
      "Collecting f1chexbert\n",
      "  Downloading f1chexbert-0.0.2.tar.gz (7.4 kB)\n",
      "  Preparing metadata (setup.py) ... \u001b[?25ldone\n",
      "\u001b[?25hRequirement already satisfied: torch>=1.8.1 in /home/pamessina/venv2/lib/python3.10/site-packages (from f1chexbert) (1.13.1)\n",
      "Requirement already satisfied: transformers>=4.23.1 in /home/pamessina/venv2/lib/python3.10/site-packages (from f1chexbert) (4.27.4)\n",
      "Requirement already satisfied: scikit-learn in /home/pamessina/venv2/lib/python3.10/site-packages (from f1chexbert) (1.2.2)\n",
      "Requirement already satisfied: numpy in /home/pamessina/venv2/lib/python3.10/site-packages (from f1chexbert) (1.24.2)\n",
      "Collecting appdirs (from f1chexbert)\n",
      "  Downloading appdirs-1.4.4-py2.py3-none-any.whl (9.6 kB)\n",
      "Requirement already satisfied: pandas in /home/pamessina/venv2/lib/python3.10/site-packages (from f1chexbert) (1.5.3)\n",
      "Requirement already satisfied: typing-extensions in /home/pamessina/venv2/lib/python3.10/site-packages (from torch>=1.8.1->f1chexbert) (4.5.0)\n",
      "Requirement already satisfied: nvidia-cuda-runtime-cu11==11.7.99 in /home/pamessina/venv2/lib/python3.10/site-packages (from torch>=1.8.1->f1chexbert) (11.7.99)\n",
      "Requirement already satisfied: nvidia-cudnn-cu11==8.5.0.96 in /home/pamessina/venv2/lib/python3.10/site-packages (from torch>=1.8.1->f1chexbert) (8.5.0.96)\n",
      "Requirement already satisfied: nvidia-cublas-cu11==11.10.3.66 in /home/pamessina/venv2/lib/python3.10/site-packages (from torch>=1.8.1->f1chexbert) (11.10.3.66)\n",
      "Requirement already satisfied: nvidia-cuda-nvrtc-cu11==11.7.99 in /home/pamessina/venv2/lib/python3.10/site-packages (from torch>=1.8.1->f1chexbert) (11.7.99)\n",
      "Requirement already satisfied: setuptools in /home/pamessina/venv2/lib/python3.10/site-packages (from nvidia-cublas-cu11==11.10.3.66->torch>=1.8.1->f1chexbert) (67.6.0)\n",
      "Requirement already satisfied: wheel in /home/pamessina/venv2/lib/python3.10/site-packages (from nvidia-cublas-cu11==11.10.3.66->torch>=1.8.1->f1chexbert) (0.38.4)\n",
      "Requirement already satisfied: filelock in /home/pamessina/venv2/lib/python3.10/site-packages (from transformers>=4.23.1->f1chexbert) (3.10.7)\n",
      "Requirement already satisfied: huggingface-hub<1.0,>=0.11.0 in /home/pamessina/venv2/lib/python3.10/site-packages (from transformers>=4.23.1->f1chexbert) (0.13.3)\n",
      "Requirement already satisfied: packaging>=20.0 in /home/pamessina/venv2/lib/python3.10/site-packages (from transformers>=4.23.1->f1chexbert) (23.0)\n",
      "Requirement already satisfied: pyyaml>=5.1 in /home/pamessina/venv2/lib/python3.10/site-packages (from transformers>=4.23.1->f1chexbert) (6.0)\n",
      "Requirement already satisfied: regex!=2019.12.17 in /home/pamessina/venv2/lib/python3.10/site-packages (from transformers>=4.23.1->f1chexbert) (2023.3.23)\n",
      "Requirement already satisfied: requests in /home/pamessina/venv2/lib/python3.10/site-packages (from transformers>=4.23.1->f1chexbert) (2.28.2)\n",
      "Requirement already satisfied: tokenizers!=0.11.3,<0.14,>=0.11.1 in /home/pamessina/venv2/lib/python3.10/site-packages (from transformers>=4.23.1->f1chexbert) (0.13.3)\n",
      "Requirement already satisfied: tqdm>=4.27 in /home/pamessina/venv2/lib/python3.10/site-packages (from transformers>=4.23.1->f1chexbert) (4.65.0)\n",
      "Requirement already satisfied: python-dateutil>=2.8.1 in /home/pamessina/venv2/lib/python3.10/site-packages (from pandas->f1chexbert) (2.8.2)\n",
      "Requirement already satisfied: pytz>=2020.1 in /home/pamessina/venv2/lib/python3.10/site-packages (from pandas->f1chexbert) (2022.7.1)\n",
      "Requirement already satisfied: scipy>=1.3.2 in /home/pamessina/venv2/lib/python3.10/site-packages (from scikit-learn->f1chexbert) (1.10.1)\n",
      "Requirement already satisfied: joblib>=1.1.1 in /home/pamessina/venv2/lib/python3.10/site-packages (from scikit-learn->f1chexbert) (1.2.0)\n",
      "Requirement already satisfied: threadpoolctl>=2.0.0 in /home/pamessina/venv2/lib/python3.10/site-packages (from scikit-learn->f1chexbert) (3.1.0)\n",
      "Requirement already satisfied: six>=1.5 in /home/pamessina/venv2/lib/python3.10/site-packages (from python-dateutil>=2.8.1->pandas->f1chexbert) (1.16.0)\n",
      "Requirement already satisfied: charset-normalizer<4,>=2 in /home/pamessina/venv2/lib/python3.10/site-packages (from requests->transformers>=4.23.1->f1chexbert) (3.0.1)\n",
      "Requirement already satisfied: idna<4,>=2.5 in /home/pamessina/venv2/lib/python3.10/site-packages (from requests->transformers>=4.23.1->f1chexbert) (3.4)\n",
      "Requirement already satisfied: urllib3<1.27,>=1.21.1 in /home/pamessina/venv2/lib/python3.10/site-packages (from requests->transformers>=4.23.1->f1chexbert) (1.26.14)\n",
      "Requirement already satisfied: certifi>=2017.4.17 in /home/pamessina/venv2/lib/python3.10/site-packages (from requests->transformers>=4.23.1->f1chexbert) (2022.12.7)\n",
      "Building wheels for collected packages: f1chexbert\n",
      "  Building wheel for f1chexbert (setup.py) ... \u001b[?25ldone\n",
      "\u001b[?25h  Created wheel for f1chexbert: filename=f1chexbert-0.0.2-py3-none-any.whl size=8273 sha256=c1d46ceb1c39148cfaad10f66d01f22eb2094726bf8c47305cbf6c0e7ed1d9e3\n",
      "  Stored in directory: /home/pamessina/.cache/pip/wheels/01/85/57/4299ab3e081290df501b2668ee39926dadfaa1d15e4bd5d74c\n",
      "Successfully built f1chexbert\n",
      "Installing collected packages: appdirs, f1chexbert\n",
      "Successfully installed appdirs-1.4.4 f1chexbert-0.0.2\n",
      "\n",
      "\u001b[1m[\u001b[0m\u001b[34;49mnotice\u001b[0m\u001b[1;39;49m]\u001b[0m\u001b[39;49m A new release of pip is available: \u001b[0m\u001b[31;49m23.1.2\u001b[0m\u001b[39;49m -> \u001b[0m\u001b[32;49m23.2.1\u001b[0m\n",
      "\u001b[1m[\u001b[0m\u001b[34;49mnotice\u001b[0m\u001b[1;39;49m]\u001b[0m\u001b[39;49m To update, run: \u001b[0m\u001b[32;49mpip install --upgrade pip\u001b[0m\n"
     ]
    }
   ],
   "source": [
    "!pip install f1chexbert"
   ]
  },
  {
   "cell_type": "code",
   "execution_count": 2,
   "id": "017d059f",
   "metadata": {
    "scrolled": false
   },
   "outputs": [
    {
     "name": "stdout",
     "output_type": "stream",
     "text": [
      "Requirement already satisfied: pip in /home/pamessina/venv2/lib/python3.10/site-packages (23.1.2)\n",
      "Collecting pip\n",
      "  Downloading pip-23.2.1-py3-none-any.whl (2.1 MB)\n",
      "\u001b[2K     \u001b[90m━━━━━━━━━━━━━━━━━━━━━━━━━━━━━━━━━━━━━━━━\u001b[0m \u001b[32m2.1/2.1 MB\u001b[0m \u001b[31m52.8 MB/s\u001b[0m eta \u001b[36m0:00:00\u001b[0m00:01\u001b[0m\n",
      "\u001b[?25hInstalling collected packages: pip\n",
      "  Attempting uninstall: pip\n",
      "    Found existing installation: pip 23.1.2\n",
      "    Uninstalling pip-23.1.2:\n",
      "      Successfully uninstalled pip-23.1.2\n",
      "Successfully installed pip-23.2.1\n"
     ]
    }
   ],
   "source": [
    "!pip install --upgrade pip"
   ]
  },
  {
   "cell_type": "code",
   "execution_count": 3,
   "id": "45c7486b",
   "metadata": {},
   "outputs": [
    {
     "data": {
      "application/vnd.jupyter.widget-view+json": {
       "model_id": "c1a4550459904ac7887caa63449a7a8a",
       "version_major": 2,
       "version_minor": 0
      },
      "text/plain": [
       "Downloading (…)solve/main/vocab.txt:   0%|          | 0.00/232k [00:00<?, ?B/s]"
      ]
     },
     "metadata": {},
     "output_type": "display_data"
    },
    {
     "data": {
      "application/vnd.jupyter.widget-view+json": {
       "model_id": "f6b88e6afb4f4273b83e7d7a4ccdaf68",
       "version_major": 2,
       "version_minor": 0
      },
      "text/plain": [
       "Downloading (…)okenizer_config.json:   0%|          | 0.00/28.0 [00:00<?, ?B/s]"
      ]
     },
     "metadata": {},
     "output_type": "display_data"
    },
    {
     "data": {
      "application/vnd.jupyter.widget-view+json": {
       "model_id": "2097bb2e479b420985c56b6270398f32",
       "version_major": 2,
       "version_minor": 0
      },
      "text/plain": [
       "Downloading (…)lve/main/config.json:   0%|          | 0.00/570 [00:00<?, ?B/s]"
      ]
     },
     "metadata": {},
     "output_type": "display_data"
    },
    {
     "data": {
      "application/vnd.jupyter.widget-view+json": {
       "model_id": "14a2672dff1d43fa9942073623c560e8",
       "version_major": 2,
       "version_minor": 0
      },
      "text/plain": [
       "Downloading chexbert.pth:   0%|          | 0.00/1.31G [00:00<?, ?B/s]"
      ]
     },
     "metadata": {},
     "output_type": "display_data"
    }
   ],
   "source": [
    "from f1chexbert import F1CheXbert\n",
    "\n",
    "f1chexbert = F1CheXbert()\n",
    "\n",
    "accuracy, accuracy_not_averaged, class_report, class_report_5 = f1chexbert(\n",
    "    hyps=['No pleural effusion. Normal heart size.',\n",
    "          'Normal heart size.',\n",
    "          'Increased mild pulmonary edema and left basal atelectasis.',\n",
    "          'Bilateral lower lobe bronchiectasis with improved right lower medial lung peribronchial consolidation.',\n",
    "          'Elevated left hemidiaphragm and blunting of the left costophrenic angle although no definite evidence of pleural effusion seen on the lateral view.',\n",
    "          ],\n",
    "    refs=['No pleural effusions.',\n",
    "          'Enlarged heart.',\n",
    "          'No evidence of pneumonia. Stable cardiomegaly.',\n",
    "          'Bilateral lower lobe bronchiectasis with improved right lower medial lung peribronchial consolidation.',\n",
    "          'No acute cardiopulmonary process. No significant interval change. Please note that peribronchovascular ground-glass opacities at the left greater than right lung bases seen on the prior chest CT of ___ were not appreciated on prior chest radiography on the same date and may still be present. Additionally, several pulmonary nodules measuring up to 3 mm are not not well appreciated on the current study-CT is more sensitive.'\n",
    "          ])"
   ]
  },
  {
   "cell_type": "code",
   "execution_count": 6,
   "id": "610935f6",
   "metadata": {},
   "outputs": [
    {
     "data": {
      "text/plain": [
       "[0, 0, 0, 0, 0, 0, 0, 0, 0, 0, 0, 0, 0, 1]"
      ]
     },
     "execution_count": 6,
     "metadata": {},
     "output_type": "execute_result"
    }
   ],
   "source": [
    "f1chexbert.get_label('No pleural effusion. Normal heart size.')"
   ]
  },
  {
   "cell_type": "code",
   "execution_count": 4,
   "id": "f9615488",
   "metadata": {
    "scrolled": true
   },
   "outputs": [
    {
     "data": {
      "text/plain": [
       "(0.6,\n",
       " array([1., 0., 0., 1., 1.], dtype=float32),\n",
       " {'Enlarged Cardiomediastinum': {'precision': 0.0,\n",
       "   'recall': 0.0,\n",
       "   'f1-score': 0.0,\n",
       "   'support': 0},\n",
       "  'Cardiomegaly': {'precision': 0.0,\n",
       "   'recall': 0.0,\n",
       "   'f1-score': 0.0,\n",
       "   'support': 2},\n",
       "  'Lung Opacity': {'precision': 0.0,\n",
       "   'recall': 0.0,\n",
       "   'f1-score': 0.0,\n",
       "   'support': 1},\n",
       "  'Lung Lesion': {'precision': 0.0,\n",
       "   'recall': 0.0,\n",
       "   'f1-score': 0.0,\n",
       "   'support': 1},\n",
       "  'Edema': {'precision': 0.0, 'recall': 0.0, 'f1-score': 0.0, 'support': 0},\n",
       "  'Consolidation': {'precision': 1.0,\n",
       "   'recall': 1.0,\n",
       "   'f1-score': 1.0,\n",
       "   'support': 1},\n",
       "  'Pneumonia': {'precision': 0.0,\n",
       "   'recall': 0.0,\n",
       "   'f1-score': 0.0,\n",
       "   'support': 0},\n",
       "  'Atelectasis': {'precision': 0.0,\n",
       "   'recall': 0.0,\n",
       "   'f1-score': 0.0,\n",
       "   'support': 0},\n",
       "  'Pneumothorax': {'precision': 0.0,\n",
       "   'recall': 0.0,\n",
       "   'f1-score': 0.0,\n",
       "   'support': 0},\n",
       "  'Pleural Effusion': {'precision': 0.0,\n",
       "   'recall': 0.0,\n",
       "   'f1-score': 0.0,\n",
       "   'support': 0},\n",
       "  'Pleural Other': {'precision': 0.0,\n",
       "   'recall': 0.0,\n",
       "   'f1-score': 0.0,\n",
       "   'support': 0},\n",
       "  'Fracture': {'precision': 0.0, 'recall': 0.0, 'f1-score': 0.0, 'support': 0},\n",
       "  'Support Devices': {'precision': 0.0,\n",
       "   'recall': 0.0,\n",
       "   'f1-score': 0.0,\n",
       "   'support': 0},\n",
       "  'No Finding': {'precision': 0.5,\n",
       "   'recall': 1.0,\n",
       "   'f1-score': 0.6666666666666666,\n",
       "   'support': 1},\n",
       "  'micro avg': {'precision': 0.4,\n",
       "   'recall': 0.3333333333333333,\n",
       "   'f1-score': 0.3636363636363636,\n",
       "   'support': 6},\n",
       "  'macro avg': {'precision': 0.10714285714285714,\n",
       "   'recall': 0.14285714285714285,\n",
       "   'f1-score': 0.11904761904761904,\n",
       "   'support': 6},\n",
       "  'weighted avg': {'precision': 0.25,\n",
       "   'recall': 0.3333333333333333,\n",
       "   'f1-score': 0.27777777777777773,\n",
       "   'support': 6},\n",
       "  'samples avg': {'precision': 0.4,\n",
       "   'recall': 0.4,\n",
       "   'f1-score': 0.4,\n",
       "   'support': 6}},\n",
       " {'Cardiomegaly': {'precision': 0.0,\n",
       "   'recall': 0.0,\n",
       "   'f1-score': 0.0,\n",
       "   'support': 2},\n",
       "  'Edema': {'precision': 0.0, 'recall': 0.0, 'f1-score': 0.0, 'support': 0},\n",
       "  'Consolidation': {'precision': 1.0,\n",
       "   'recall': 1.0,\n",
       "   'f1-score': 1.0,\n",
       "   'support': 1},\n",
       "  'Atelectasis': {'precision': 0.0,\n",
       "   'recall': 0.0,\n",
       "   'f1-score': 0.0,\n",
       "   'support': 0},\n",
       "  'Pleural Effusion': {'precision': 0.0,\n",
       "   'recall': 0.0,\n",
       "   'f1-score': 0.0,\n",
       "   'support': 0},\n",
       "  'micro avg': {'precision': 0.3333333333333333,\n",
       "   'recall': 0.3333333333333333,\n",
       "   'f1-score': 0.3333333333333333,\n",
       "   'support': 3},\n",
       "  'macro avg': {'precision': 0.2,\n",
       "   'recall': 0.2,\n",
       "   'f1-score': 0.2,\n",
       "   'support': 3},\n",
       "  'weighted avg': {'precision': 0.3333333333333333,\n",
       "   'recall': 0.3333333333333333,\n",
       "   'f1-score': 0.3333333333333333,\n",
       "   'support': 3},\n",
       "  'samples avg': {'precision': 0.2,\n",
       "   'recall': 0.2,\n",
       "   'f1-score': 0.2,\n",
       "   'support': 3}})"
      ]
     },
     "execution_count": 4,
     "metadata": {},
     "output_type": "execute_result"
    }
   ],
   "source": [
    "accuracy, accuracy_not_averaged, class_report, class_report_5"
   ]
  },
  {
   "cell_type": "code",
   "execution_count": 5,
   "id": "0c16af45",
   "metadata": {
    "scrolled": true
   },
   "outputs": [
    {
     "data": {
      "text/plain": [
       "{'Enlarged Cardiomediastinum': {'precision': 0.0,\n",
       "  'recall': 0.0,\n",
       "  'f1-score': 0.0,\n",
       "  'support': 0},\n",
       " 'Cardiomegaly': {'precision': 0.0,\n",
       "  'recall': 0.0,\n",
       "  'f1-score': 0.0,\n",
       "  'support': 2},\n",
       " 'Lung Opacity': {'precision': 0.0,\n",
       "  'recall': 0.0,\n",
       "  'f1-score': 0.0,\n",
       "  'support': 1},\n",
       " 'Lung Lesion': {'precision': 0.0,\n",
       "  'recall': 0.0,\n",
       "  'f1-score': 0.0,\n",
       "  'support': 1},\n",
       " 'Edema': {'precision': 0.0, 'recall': 0.0, 'f1-score': 0.0, 'support': 0},\n",
       " 'Consolidation': {'precision': 1.0,\n",
       "  'recall': 1.0,\n",
       "  'f1-score': 1.0,\n",
       "  'support': 1},\n",
       " 'Pneumonia': {'precision': 0.0, 'recall': 0.0, 'f1-score': 0.0, 'support': 0},\n",
       " 'Atelectasis': {'precision': 0.0,\n",
       "  'recall': 0.0,\n",
       "  'f1-score': 0.0,\n",
       "  'support': 0},\n",
       " 'Pneumothorax': {'precision': 0.0,\n",
       "  'recall': 0.0,\n",
       "  'f1-score': 0.0,\n",
       "  'support': 0},\n",
       " 'Pleural Effusion': {'precision': 0.0,\n",
       "  'recall': 0.0,\n",
       "  'f1-score': 0.0,\n",
       "  'support': 0},\n",
       " 'Pleural Other': {'precision': 0.0,\n",
       "  'recall': 0.0,\n",
       "  'f1-score': 0.0,\n",
       "  'support': 0},\n",
       " 'Fracture': {'precision': 0.0, 'recall': 0.0, 'f1-score': 0.0, 'support': 0},\n",
       " 'Support Devices': {'precision': 0.0,\n",
       "  'recall': 0.0,\n",
       "  'f1-score': 0.0,\n",
       "  'support': 0},\n",
       " 'No Finding': {'precision': 0.5,\n",
       "  'recall': 1.0,\n",
       "  'f1-score': 0.6666666666666666,\n",
       "  'support': 1},\n",
       " 'micro avg': {'precision': 0.4,\n",
       "  'recall': 0.3333333333333333,\n",
       "  'f1-score': 0.3636363636363636,\n",
       "  'support': 6},\n",
       " 'macro avg': {'precision': 0.10714285714285714,\n",
       "  'recall': 0.14285714285714285,\n",
       "  'f1-score': 0.11904761904761904,\n",
       "  'support': 6},\n",
       " 'weighted avg': {'precision': 0.25,\n",
       "  'recall': 0.3333333333333333,\n",
       "  'f1-score': 0.27777777777777773,\n",
       "  'support': 6},\n",
       " 'samples avg': {'precision': 0.4,\n",
       "  'recall': 0.4,\n",
       "  'f1-score': 0.4,\n",
       "  'support': 6}}"
      ]
     },
     "execution_count": 5,
     "metadata": {},
     "output_type": "execute_result"
    }
   ],
   "source": [
    "class_report"
   ]
  }
 ],
 "metadata": {
  "kernelspec": {
   "display_name": "venv2",
   "language": "python",
   "name": "venv2"
  },
  "language_info": {
   "codemirror_mode": {
    "name": "ipython",
    "version": 3
   },
   "file_extension": ".py",
   "mimetype": "text/x-python",
   "name": "python",
   "nbconvert_exporter": "python",
   "pygments_lexer": "ipython3",
   "version": "3.10.10"
  }
 },
 "nbformat": 4,
 "nbformat_minor": 5
}
