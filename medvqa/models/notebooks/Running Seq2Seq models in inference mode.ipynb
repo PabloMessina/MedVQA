{
 "cells": [
  {
   "cell_type": "code",
   "execution_count": 1,
   "id": "465ce67d",
   "metadata": {},
   "outputs": [
    {
     "name": "stdout",
     "output_type": "stream",
     "text": [
      "env: CUDA_VISIBLE_DEVICES=0\n"
     ]
    }
   ],
   "source": [
    "%env CUDA_VISIBLE_DEVICES=0"
   ]
  },
  {
   "cell_type": "code",
   "execution_count": 34,
   "id": "e77d95ba",
   "metadata": {},
   "outputs": [
    {
     "data": {
      "text/plain": [
       "torch.Size([1, 10])"
      ]
     },
     "execution_count": 34,
     "metadata": {},
     "output_type": "execute_result"
    }
   ],
   "source": [
    "tokenizer.encode(text, return_tensors=\"pt\").shape"
   ]
  },
  {
   "cell_type": "code",
   "execution_count": 11,
   "id": "ff883ecf",
   "metadata": {},
   "outputs": [
    {
     "name": "stdout",
     "output_type": "stream",
     "text": [
      "\u001b[1mInput Text:\u001b[0m\n",
      " translate English to German: That is good.\n",
      "\n",
      "\u001b[1mGenerated texts:\n",
      "\u001b[0m\n",
      "\u001b[1mGenerated text 0:\u001b[0m\n",
      "Transtranslate English to German: That is good. Thanks for the help.Ad\n",
      "vertisementsadvertisementadvertisementAbstractBackground:Introduction:\n",
      "Introduction: Introduction.Introduction:Background:Background.Descript\n",
      "ion:Description:Introduction.Introduction.Description.Translate\n",
      "English and German.Background.Transparent English to\n",
      "English.Background:Description.English:English: That's English.English\n",
      "to English: That wouldtranslateEnglish to German-English to Spanish:\n",
      "That.translate to English to Japanese:That is good, right?\n",
      "\n",
      "\u001b[1mGenerated text 1:\u001b[0m\n",
      "Transtranslate English to German: That is good. Thanks for the help.Ad\n",
      "vertisementsadvertisementadvertisementAbstractBackground:Introduction:\n",
      "Introduction: Introduction.Introduction:Background:Background.Descript\n",
      "ion:Description:Introduction.Introduction.Description.Translate\n",
      "English and German.Background.Transparent English to\n",
      "English.Background:Description.English:English: That's English.English\n",
      "to English: That wouldtranslateEnglish to German-English to Spanish:\n",
      "That.translate to English to Japanese:That is good, that is\n",
      "\n",
      "\u001b[1mGenerated text 2:\u001b[0m\n",
      "Transtranslate English to German: That is good. Thanks for the help.Ad\n",
      "vertisementsadvertisementadvertisementAbstractBackground:Introduction:\n",
      "Introduction: Introduction.Introduction:Background:Background.Descript\n",
      "ion:Description:Introduction.Introduction.Description.Translate\n",
      "English and German.Background.Transparent English to\n",
      "English.Background:Description.English:English: That's English.English\n",
      "to English: That wouldtranslateEnglish to German-English to Spanish:\n",
      "That.translate to English to Japanese:That is good?\n",
      "\n",
      "\u001b[1mGenerated text 3:\u001b[0m\n",
      "Transtranslate English to German: That is good. Thanks for the help.Ad\n",
      "vertisementsadvertisementadvertisementAbstractBackground:Introduction:\n",
      "Introduction: Introduction.Introduction:Background:Background.Descript\n",
      "ion:Description:Introduction.Introduction.Description.Translate\n",
      "English and German.Background.Transparent English to\n",
      "English.Background:Description.English:English: That's English.English\n",
      "to English: That wouldtranslateEnglish to German-English to Spanish:\n",
      "That.translate to English to Japanese:That is good,\n",
      "\n",
      "\u001b[1mGenerated text 4:\u001b[0m\n",
      "Transtranslate English to German: That is good. Thanks for the help.Ad\n",
      "vertisementsadvertisementadvertisementAbstractBackground:Introduction:\n",
      "Introduction: Introduction.Introduction:Background:Background.Descript\n",
      "ion:Description:Introduction.Introduction.Description.Translate\n",
      "English and German.Background.Transparent English to\n",
      "English.Background:Description.English:English: That's English.English\n",
      "to English: That wouldtranslateEnglish to German-English to Spanish:\n",
      "That.translate to English to Japanese:That is good\n",
      "\n"
     ]
    }
   ],
   "source": [
    "text =\"\"\"\n",
    "translate English to German: That is good.\n",
    "\"\"\"\n",
    "\n",
    "generate_text(text, tokenizer, model, min_length=100, max_length=150)"
   ]
  },
  {
   "cell_type": "code",
   "execution_count": 2,
   "id": "f59b3d2a",
   "metadata": {},
   "outputs": [],
   "source": [
    "from medvqa.models.model_debugging_utils import load_and_run_seq2seq_model_in_inference_mode"
   ]
  },
  {
   "cell_type": "code",
   "execution_count": 2,
   "id": "55954eb8",
   "metadata": {},
   "outputs": [],
   "source": [
    "from importlib import reload\n",
    "import medvqa"
   ]
  },
  {
   "cell_type": "code",
   "execution_count": 46,
   "id": "1e263e21",
   "metadata": {},
   "outputs": [
    {
     "data": {
      "text/plain": [
       "<module 'medvqa.models.model_debugging_utils' from '/home/pamessina/medvqa/medvqa/models/model_debugging_utils.py'>"
      ]
     },
     "execution_count": 46,
     "metadata": {},
     "output_type": "execute_result"
    }
   ],
   "source": [
    "reload(medvqa.models.model_debugging_utils)"
   ]
  },
  {
   "cell_type": "code",
   "execution_count": 13,
   "id": "cd3d3e72",
   "metadata": {
    "scrolled": true
   },
   "outputs": [
    {
     "name": "stdout",
     "output_type": "stream",
     "text": [
      "metadata loaded from /mnt/data/pamessina/workspaces/medvqa-workspace/models/seq2seq/20230615_110019_report2sentences(gpt-3.5-turbo_parsed_repo;gpt-4-0613_parsed_reports)_Seq2Seq(facebook-bart-base)/metadata.json\n",
      "\u001b[1mdevice = \u001b[0m \u001b[1mGPU\u001b[0m\n",
      "\u001b[1mCreate model\u001b[0m\n",
      "Seq2Seq model:\n",
      "  model_name: facebook/bart-base\n",
      "\u001b[1mLoad model weights\u001b[0m\n",
      "checkpoint_names = ['checkpoint_58_s2s_loss=0.8729.pt']\n",
      "checkpoint_path =  /mnt/data/pamessina/workspaces/medvqa-workspace/models/seq2seq/20230615_110019_report2sentences(gpt-3.5-turbo_parsed_repo;gpt-4-0613_parsed_reports)_Seq2Seq(facebook-bart-base)/checkpoint_58_s2s_loss=0.8729.pt\n",
      "\u001b[1mPrepare input text\u001b[0m\n",
      "\u001b[1mRun model in inference mode\u001b[0m\n",
      "\u001b[1mConvert ids to string\u001b[0m\n"
     ]
    },
    {
     "data": {
      "text/plain": [
       "'Heart size is top normal, stable #neg\\nTortuous aorta is redemonstrated, unchanged #pos\\nMinimal amount of left basal atelectasis is noted associated with small amount of pleural effusion #pos'"
      ]
     },
     "execution_count": 13,
     "metadata": {},
     "output_type": "execute_result"
    }
   ],
   "source": [
    "load_and_run_seq2seq_model_in_inference_mode(\n",
    "    input_text=\"\"\"PA and lateral upright chest radiographs were reviewed in comparison to . Heart size is top normal, stable. Tortuous aorta is redemonstrated, unchanged. Minimal amount of left basal atelectasis is noted associated with small amount of pleural effusion. Nodular opacity projecting over the first rib is redemonstrated and not clearly seen on the prior studies from , thus correlation with cross-sectional imaging is recommended. Right basal opacity appears to be more pronounced than on the prior study and might reflect atelectasis, but right lower lobe infection is a possibility especially given the patient's described history.\"\"\",\n",
    "    model_folder_path='/mnt/data/pamessina/workspaces/medvqa-workspace/models/seq2seq/20230615_110019_report2sentences(gpt-3.5-turbo_parsed_repo;gpt-4-0613_parsed_reports)_Seq2Seq(facebook-bart-base)',\n",
    "    max_output_length=1024,\n",
    "    num_beams=2,\n",
    "    use_amp=False,\n",
    "    device='GPU',\n",
    ")"
   ]
  },
  {
   "cell_type": "code",
   "execution_count": 43,
   "id": "b0452783",
   "metadata": {},
   "outputs": [
    {
     "data": {
      "text/plain": [
       "['Heart size is top normal, stable.',\n",
       " 'Tortuous aorta is redemonstrated, unchanged.',\n",
       " 'Minimal amount of left basal atelectasis is noted associated with small amount of pleural effusion.',\n",
       " 'Nodular opacity projecting over the first rib is redemonstrated and not clearly seen on the prior studies from , thus correlation with cross-sectional imaging is recommended.',\n",
       " \"Right basal opacity appears to be more pronounced than on the prior study and might reflect atelectasis, but right lower lobe infection is a possibility especially given the patient's described history.\"]"
      ]
     },
     "execution_count": 43,
     "metadata": {},
     "output_type": "execute_result"
    }
   ],
   "source": [
    "from pprint import pprint\n",
    "from nltk import sent_tokenize\n",
    "sent_tokenize(\"\"\"Heart size is top normal, stable. Tortuous aorta is redemonstrated, unchanged. Minimal amount of left basal atelectasis is noted associated with small amount of pleural effusion. Nodular opacity projecting over the first rib is redemonstrated and not clearly seen on the prior studies from , thus correlation with cross-sectional imaging is recommended. Right basal opacity appears to be more pronounced than on the prior study and might reflect atelectasis, but right lower lobe infection is a possibility especially given the patient's described history.\"\"\")"
   ]
  },
  {
   "cell_type": "code",
   "execution_count": 3,
   "id": "2f5c55e8",
   "metadata": {},
   "outputs": [],
   "source": [
    "from medvqa.utils.files import load_json\n",
    "from medvqa.datasets.mimiccxr import MIMICCXR_CACHE_DIR\n",
    "import os\n",
    "reports = load_json(os.path.join(MIMICCXR_CACHE_DIR, 'background_findings_and_impression_20230612_174143.json'))"
   ]
  },
  {
   "cell_type": "code",
   "execution_count": 4,
   "id": "540e6ecc",
   "metadata": {},
   "outputs": [
    {
     "data": {
      "text/plain": [
       "{'background': 'clinical indication: -year-old with prostate cancer, increasing white count, question pneumonia.',\n",
       " 'findings': '1. The heart remains enlarged. Mediastinal contours are unremarkable. The aorta is unfolded and tortuous. Lungs are well inflated without evidence of focal airspace consolidation to suggest pneumonia. No pleural effusions or pneumothorax. No evidence of pulmonary edema. Mild eventration of the right hemidiaphragm.',\n",
       " 'impression': '',\n",
       " 'path': '/mnt/data/mimic-cxr/files/p19/p19737741/s57411352.txt'}"
      ]
     },
     "execution_count": 4,
     "metadata": {},
     "output_type": "execute_result"
    }
   ],
   "source": [
    "reports[-10]"
   ]
  },
  {
   "cell_type": "code",
   "execution_count": 50,
   "id": "03aa80b6",
   "metadata": {},
   "outputs": [],
   "source": [
    "from medvqa.utils.files import load_jsonl"
   ]
  },
  {
   "cell_type": "code",
   "execution_count": 61,
   "id": "f6df60ab",
   "metadata": {},
   "outputs": [],
   "source": [
    "parsed_sentences = load_jsonl(\"/home/pamessina/medvqa-workspace/cache/mimiccxr/openai/gpt-3.5-turbo_parsed_sentences.jsonl\")"
   ]
  },
  {
   "cell_type": "code",
   "execution_count": 5,
   "id": "d5c7966d",
   "metadata": {},
   "outputs": [],
   "source": [
    "%matplotlib inline"
   ]
  },
  {
   "cell_type": "code",
   "execution_count": 63,
   "id": "de71dbe8",
   "metadata": {},
   "outputs": [
    {
     "data": {
      "text/plain": [
       "9297"
      ]
     },
     "execution_count": 63,
     "metadata": {},
     "output_type": "execute_result"
    }
   ],
   "source": [
    "len(parsed_sentences)"
   ]
  },
  {
   "cell_type": "code",
   "execution_count": 62,
   "id": "9c2c67a7",
   "metadata": {},
   "outputs": [
    {
     "data": {
      "text/plain": [
       "Counter({0: 1101,\n",
       "         2: 1834,\n",
       "         4: 2003,\n",
       "         5: 864,\n",
       "         6: 329,\n",
       "         7: 107,\n",
       "         3: 2691,\n",
       "         8: 42,\n",
       "         11: 4,\n",
       "         10: 9,\n",
       "         9: 18,\n",
       "         12: 1,\n",
       "         1: 293,\n",
       "         16: 1})"
      ]
     },
     "execution_count": 62,
     "metadata": {},
     "output_type": "execute_result"
    }
   ],
   "source": [
    "from collections import Counter\n",
    "Counter([len(x['parsed_response']) for x in parsed_sentences])"
   ]
  },
  {
   "cell_type": "code",
   "execution_count": 43,
   "id": "2ba7ffd1",
   "metadata": {},
   "outputs": [
    {
     "data": {
      "text/plain": [
       "['Heart size is top normal, stable.',\n",
       " 'Tortuous aorta is redemonstrated, unchanged.',\n",
       " 'Minimal amount of left basal atelectasis is noted associated with small amount of pleural effusion.',\n",
       " 'Nodular opacity projecting over the first rib is redemonstrated and not clearly seen on the prior studies from , thus correlation with cross-sectional imaging is recommended.',\n",
       " \"Right basal opacity appears to be more pronounced than on the prior study and might reflect atelectasis, but right lower lobe infection is a possibility especially given the patient's described history.\"]"
      ]
     },
     "execution_count": 43,
     "metadata": {},
     "output_type": "execute_result"
    }
   ],
   "source": [
    "from pprint import pprint\n",
    "from nltk import sent_tokenize\n",
    "sent_tokenize(\"\"\"Heart size is top normal, stable. Tortuous aorta is redemonstrated, unchanged. Minimal amount of left basal atelectasis is noted associated with small amount of pleural effusion. Nodular opacity projecting over the first rib is redemonstrated and not clearly seen on the prior studies from , thus correlation with cross-sectional imaging is recommended. Right basal opacity appears to be more pronounced than on the prior study and might reflect atelectasis, but right lower lobe infection is a possibility especially given the patient's described history.\"\"\")"
   ]
  },
  {
   "cell_type": "code",
   "execution_count": 75,
   "id": "c148beb4",
   "metadata": {},
   "outputs": [
    {
     "data": {
      "text/plain": [
       "['The heart size is normal.',\n",
       " 'The hilar mediastinal contours are normal.',\n",
       " 'No focal consolidations concerning for pneumonia are identified.',\n",
       " 'There is no pleural effusion or pneumothorax.',\n",
       " 'Mild eventration of the right hemidiaphragm is stable.',\n",
       " 'No acute intrathoracic abnormalities identified.']"
      ]
     },
     "execution_count": 75,
     "metadata": {},
     "output_type": "execute_result"
    }
   ],
   "source": [
    "x = -11\n",
    "sent_tokenize(reports[x]['findings'] + \" \"+ reports[x]['impression'])"
   ]
  },
  {
   "cell_type": "code",
   "execution_count": null,
   "id": "f32b6d33",
   "metadata": {},
   "outputs": [],
   "source": [
    "        \"\"\"In comparison with the study of , there is continued and possibly increasing opacification at the bases, consistent with pleural effusion and compressive atelectasis.\"\"\",\n",
    "        \"\"\"consistent with pleural effusion and compressive atelectasis.\"\"\",\n",
    "        \"\"\"WET READ VERSION #1 1:40 AM ET tube terminates approximately 5.7 cm above the carina.\"\"\",\n",
    "        \"\"\"A trace degree of fluid is seen within the right minor fissure.\"\"\",\n",
    "        \"\"\"Chain sutures and scarring in the right mid lung is related to prior wedge resection.\"\"\",\n",
    "        \"\"\"NO DEFINITIVE ABNORMALITIES SEEN EXCEPT FOR SLIGHTLY MORE INCREASED DENSITY OF THE RIGHT SUPRACLAVICULAR AREA OVER LEFT, PLEASE CORRELATE WITH PATIENT PHYSICAL EXAMINATION AND IF NEEDED CROSS-SECTIONAL EXAMINATION.\"\"\",\n",
    "        \"\"\"In particular, the extent of the known left pleural effusion, together with the associated areas of left parenchymal opacity, some of which are atelectatic and some which are postprocedural in origin, are constant.\"\"\",\n",
    "        \"\"\"The interstitium throughout the right lung is prominent\"\"\",\n",
    "        \"\"\"A sharply delineated triangular area of parenchymal consolidation is seen in the right upper lobe area laterally and posteriorly\"\"\",\n",
    "        \"\"\"Minimal bibasilar atelectasis or scarring, left greater than right.\"\"\","
   ]
  },
  {
   "cell_type": "code",
   "execution_count": 3,
   "id": "09c1812b",
   "metadata": {},
   "outputs": [],
   "source": [
    "from pprint import pprint\n",
    "import json"
   ]
  },
  {
   "cell_type": "code",
   "execution_count": 10,
   "id": "7c5a73cb",
   "metadata": {},
   "outputs": [],
   "source": [
    "import re\n",
    "_COMMA_SEPARATED_LIST_REGEX = re.compile(r'\\[\\s*(\\\".+?\\\"(\\s*,\\s*\\\".+?\\\")*)?\\s*\\]?')\n",
    "_VALID_JSON_OBJECT_CONTENT_REGEX = re.compile(r\"\\s*\\\"anatomical location\\\"\\s*:\\s*\\\"[^\\\"]*\\\"\\s*,\\s*\\\"detailed observation\\\"\\s*:\\s*\\\"[^\\\"]*\\\"\\s*,\\s*\\\"short observation\\\"\\s*:\\s*\\\"[^\\\"]*\\\"\\s*,\\s*\\\"category\\\"\\s*:\\s*\\\"[^\\\"]*\\\"\\s*,\\s*\\\"health status\\\"\\s*:\\s*\\\"[^\\\"]*\\\"\\s*,\\s*\\\"prev_study_comparison\\?\\\"\\s*:\\s*\\\"[^\\\"]*\\\"\\s*,\\s*\\\"comparison status\\\"\\s*:\\s*\\\"[^\\\"]*\\\"\\s*\")\n",
    "# # tmp = _COMMA_SEPARATED_LIST_REGEX.search(\"\"\"[   \"asdfasd\", \"asdfaddd\", \"1231231\", \"asdfas \"\"\")\n",
    "# tmp = re.search(r'\\\".+?\\\"(\\s*,\\s*\\\".+?\\\")*', \"\"\"[   \"asdfasd\"   , \"asdfaddd\"   , \"1231231\", \"asdfas \"\"\")\n",
    "# json.loads(f'[{tmp.group(0)}]')"
   ]
  },
  {
   "cell_type": "code",
   "execution_count": 66,
   "id": "ed49099b",
   "metadata": {},
   "outputs": [
    {
     "data": {
      "text/plain": [
       "'[\"asdfasdf\", \"asdfasd\", \"asdfasdf\", \"213123\"\\n'"
      ]
     },
     "execution_count": 66,
     "metadata": {},
     "output_type": "execute_result"
    }
   ],
   "source": [
    "tmp = _COMMA_SEPARATED_LIST_REGEX.search(\"\"\"\n",
    "[\"asdfasdf\", \"asdfasd\", \"asdfasdf\", \"213123\"\n",
    "\"\"\")\n",
    "tmp.group()"
   ]
  },
  {
   "cell_type": "code",
   "execution_count": 4,
   "id": "5b103863",
   "metadata": {},
   "outputs": [
    {
     "data": {
      "text/plain": [
       "'sfsdfaaaa'"
      ]
     },
     "execution_count": 4,
     "metadata": {},
     "output_type": "execute_result"
    }
   ],
   "source": [
    "json.loads('\"sfsdfaaaa\"')"
   ]
  },
  {
   "cell_type": "code",
   "execution_count": 11,
   "id": "6adcc74d",
   "metadata": {},
   "outputs": [],
   "source": [
    "import re\n",
    "\n",
    "def parse_facts(txt):\n",
    "    facts_str = _COMMA_SEPARATED_LIST_REGEX.search(txt).group()\n",
    "    if facts_str[-1] != ']': facts_str += ']'\n",
    "    facts = json.loads(facts_str)\n",
    "    seen = set()\n",
    "    clean_facts = []\n",
    "    for fact in facts:\n",
    "        if fact not in seen:\n",
    "            clean_facts.append(fact)\n",
    "            seen.add(fact)\n",
    "    return clean_facts\n",
    "\n",
    "def parse_metadata(txt):\n",
    "    metadata_str = _VALID_JSON_OBJECT_CONTENT_REGEX.search(txt).group()\n",
    "    metadata = json.loads(\"{\" + metadata_str + \"}\")\n",
    "    return metadata"
   ]
  },
  {
   "cell_type": "code",
   "execution_count": 74,
   "id": "9c530bdb",
   "metadata": {},
   "outputs": [
    {
     "data": {
      "text/plain": [
       "['asdfasd', '1', '2', '3', '5']"
      ]
     },
     "execution_count": 74,
     "metadata": {},
     "output_type": "execute_result"
    }
   ],
   "source": [
    "# parse_facts(\"\"\"[   \"asdfasd\"   , \"asdfaddd\"   , \"1231231\", \"aaa\", \"bbb\", \"aaaa\", \"bbbb\", \"aa\", \"aa\", \"bb\", \"bb\", \"asdfas \"\"\")\n",
    "parse_facts(\"\"\"[\"asdfasd\", \"1\", \"2\", \"3\", \"1\", \"1\", \"1\", \"5\"]\"\"\")"
   ]
  },
  {
   "cell_type": "code",
   "execution_count": 8,
   "id": "e90a1138",
   "metadata": {
    "scrolled": true
   },
   "outputs": [
    {
     "name": "stdout",
     "output_type": "stream",
     "text": [
      "metadata loaded from /mnt/data/pamessina/workspaces/medvqa-workspace/models/seq2seq/20230703_214202_sentence2facts(gpt-4-06..es__v2;gpt-3.5-..es__v2;gpt-3.5-..iform))_Seq2Seq(t5-small)/metadata.json\n",
      "\u001b[1mdevice = \u001b[0m \u001b[1mGPU\u001b[0m\n",
      "\u001b[1mCreate model\u001b[0m\n",
      "Seq2Seq model:\n",
      "  model_name: t5-small\n",
      "\u001b[1mLoad model weights\u001b[0m\n",
      "checkpoint_names = ['checkpoint_39_s2s_loss=0.8537.pt']\n",
      "model_checkpoint_path =  /mnt/data/pamessina/workspaces/medvqa-workspace/models/seq2seq/20230703_214202_sentence2facts(gpt-4-06..es__v2;gpt-3.5-..es__v2;gpt-3.5-..iform))_Seq2Seq(t5-small)/checkpoint_39_s2s_loss=0.8537.pt\n",
      "\u001b[1mPrepare input text\u001b[0m\n",
      "\u001b[1mRun model in inference mode\u001b[0m\n",
      "\u001b[1mConvert ids to string\u001b[0m\n",
      "-------------\n",
      "Surgical clips are noted in the right upper abdomen.\n",
      "['surgical clips in the right upper abdomen']\n",
      "-------------\n",
      "The imaged is reversed.\n",
      "['reversed image']\n",
      "-------------\n",
      "M recently stopped coumadin(afib) p/w L>R pain,abd pain, s/p 's, cold foot s/p L pop cutdown embolectomy L fasciotomy s/p LLE angio embolectomy s/p L guillotine + L BKA // Dobhoff placement - require assistance and sequential imaging.\n",
      "['recently stopped coumadin(afib)',\n",
      " 'R pain',\n",
      " 'abd pain',\n",
      " \"s/p's\",\n",
      " 'cold foot',\n",
      " 'L pop cutdown embolectomy',\n",
      " 'L fasciotomy',\n",
      " 'LLE angio embolectomy',\n",
      " 'L guillotine',\n",
      " 'L BKA']\n",
      "-------------\n",
      "Hazy opacity at the left lung apex is consistent with postoperative blood/hematoma.\n",
      "['hazy opacity at the left lung apex',\n",
      " 'postoperative blood/hematoma at the left lung apex']\n",
      "-------------\n",
      "In comparison with the study of , there is continued and possibly increasing opacification at the bases, consistent with pleural effusion and compressive atelectasis.\n",
      "['continued opacification at the bases',\n",
      " 'increasing opacification at the bases',\n",
      " 'pleural effusion at the bases',\n",
      " 'compressive atelectasis at the bases']\n",
      "-------------\n",
      "consistent with pleural effusion and compressive atelectasis.\n",
      "['pleural effusion', 'compressive atelectasis']\n",
      "-------------\n",
      "WET READ VERSION #1 1:40 AM ET tube terminates approximately 5.7 cm above the carina.\n",
      "['ET tube terminates approximately 5.7 cm above the carina']\n",
      "-------------\n",
      "A trace degree of fluid is seen within the right minor fissure.\n",
      "['trace degree of fluid within the right minor fissure']\n",
      "-------------\n",
      "Chain sutures and scarring in the right mid lung is related to prior wedge resection.\n",
      "['chain sutures in the right mid lung',\n",
      " 'scarring in the right mid lung',\n",
      " 'prior wedge resection in the right mid lung']\n",
      "-------------\n",
      "NO DEFINITIVE ABNORMALITIES SEEN EXCEPT FOR SLIGHTLY MORE INCREASED DENSITY OF THE RIGHT SUPRACLAVICULAR AREA OVER LEFT, PLEASE CORRELATE WITH PATIENT PHYSICAL EXAMINATION AND IF NEEDED CROSS-SECTIONAL EXAMINATION.\n",
      "['no definitive abnormalities',\n",
      " 'slightly more increased density of the right supraclavicular area over left',\n",
      " 'patient pulmonary examination',\n",
      " 'requirement for post-sectoral examination']\n",
      "-------------\n",
      "In particular, the extent of the known left pleural effusion, together with the associated areas of left parenchymal opacity, some of which are atelectatic and some which are postprocedural in origin, are constant.\n",
      "['extent of the known left pleural effusion',\n",
      " 'areas of left parenchymal opacity',\n",
      " 'atelectatic areas',\n",
      " 'postprocedural origin areas']\n",
      "-------------\n",
      "The interstitium throughout the right lung is prominent\n",
      "['prominent interstitium throughout the right lung']\n",
      "-------------\n",
      "A sharply delineated triangular area of parenchymal consolidation is seen in the right upper lobe area laterally and posteriorly\n",
      "['sharply delineated triangular area of parenchymal consolidation in the right '\n",
      " 'upper lobe area laterally',\n",
      " 'sharply delineated triangular area of parenchymal consolidation in the right '\n",
      " 'upper lobe area posteriorly']\n",
      "-------------\n",
      "Minimal bibasilar atelectasis or scarring, left greater than right.\n",
      "['minimal bibasilar atelectasis',\n",
      " 'minimal scarring',\n",
      " 'minimal bibasilar atelectasis on the left',\n",
      " 'minimal bibasilar atelectasis on the right']\n",
      "-------------\n",
      "There is no evidence of mediastinal shift to the left\n",
      "['no evidence of mediastinal shift to the left']\n",
      "-------------\n",
      "Chest PA and lateral Please note that the laterality on the frontal image is mislabeled\n",
      "['mislabeled laterality on the frontal image']\n",
      "-------------\n",
      "No free air below the right hemidiaphragm\n",
      "['no free air below the right hemidiaphragm']\n",
      "-------------\n",
      "No definite signs of pneumonia.\n",
      "['no definite signs of pneumonia']\n",
      "-------------\n",
      "No large pleural effusion or pneumothorax is seen.\n",
      "['no large pleural effusion', 'no pneumothorax']\n",
      "-------------\n",
      "There is no lobar consolidation or definite signs of pneumonia.\n",
      "['no lobar consolidation', 'no definite signs of pneumonia']\n"
     ]
    }
   ],
   "source": [
    "input_text = [\n",
    "   \"\"\"Surgical clips are noted in the right upper abdomen.\"\"\",\n",
    "    \"\"\"The imaged is reversed.\"\"\",\n",
    "    \"\"\"M recently stopped coumadin(afib) p/w L>R pain,abd pain, s/p 's, cold foot s/p L pop cutdown embolectomy L fasciotomy s/p LLE angio embolectomy s/p L guillotine + L BKA // Dobhoff placement - require assistance and sequential imaging.\"\"\",\n",
    "    \"\"\"Hazy opacity at the left lung apex is consistent with postoperative blood/hematoma.\"\"\",\n",
    "    \"\"\"In comparison with the study of , there is continued and possibly increasing opacification at the bases, consistent with pleural effusion and compressive atelectasis.\"\"\",\n",
    "    \"\"\"consistent with pleural effusion and compressive atelectasis.\"\"\",\n",
    "    \"\"\"WET READ VERSION #1 1:40 AM ET tube terminates approximately 5.7 cm above the carina.\"\"\",\n",
    "    \"\"\"A trace degree of fluid is seen within the right minor fissure.\"\"\",\n",
    "    \"\"\"Chain sutures and scarring in the right mid lung is related to prior wedge resection.\"\"\",\n",
    "    \"\"\"NO DEFINITIVE ABNORMALITIES SEEN EXCEPT FOR SLIGHTLY MORE INCREASED DENSITY OF THE RIGHT SUPRACLAVICULAR AREA OVER LEFT, PLEASE CORRELATE WITH PATIENT PHYSICAL EXAMINATION AND IF NEEDED CROSS-SECTIONAL EXAMINATION.\"\"\",\n",
    "    \"\"\"In particular, the extent of the known left pleural effusion, together with the associated areas of left parenchymal opacity, some of which are atelectatic and some which are postprocedural in origin, are constant.\"\"\",\n",
    "    \"\"\"The interstitium throughout the right lung is prominent\"\"\",\n",
    "    \"\"\"A sharply delineated triangular area of parenchymal consolidation is seen in the right upper lobe area laterally and posteriorly\"\"\",\n",
    "    \"\"\"Minimal bibasilar atelectasis or scarring, left greater than right.\"\"\",\n",
    "    \"\"\"There is no evidence of mediastinal shift to the left\"\"\",\n",
    "    \"\"\"Chest PA and lateral Please note that the laterality on the frontal image is mislabeled\"\"\",\n",
    "    \"\"\"No free air below the right hemidiaphragm\"\"\",\n",
    "    \"\"\"No definite signs of pneumonia.\"\"\",\n",
    "    \"\"\"No large pleural effusion or pneumothorax is seen.\"\"\",\n",
    "    \"\"\"There is no lobar consolidation or definite signs of pneumonia.\"\"\",\n",
    "]\n",
    "output = load_and_run_seq2seq_model_in_inference_mode(\n",
    "    input_text=input_text,\n",
    "#     model_folder_path='/mnt/data/pamessina/workspaces/medvqa-workspace/models/seq2seq/20230615_222151_sentence2facts(gpt-3.5-..tences;gpt-4-06..tences;gpt-3.5-..tences)_Seq2Seq(t5-small)',\n",
    "#     model_checkpoint_path = '/mnt/data/pamessina/workspaces/medvqa-workspace/models/seq2seq/20230615_222151_sentence2facts(gpt-3.5-..tences;gpt-4-06..tences;gpt-3.5-..tences)_Seq2Seq(t5-small)/checkpoint_55_s2s_loss=0.8573.pt',\n",
    "#     model_folder_path = '/mnt/data/pamessina/workspaces/medvqa-workspace/models/seq2seq/20230617_201713_sentence2facts(gpt-3.5-..tences;gpt-4-06..tences;gpt-3.5-..tences)_Seq2Seq(t5-small)/',\n",
    "    model_folder_path = '/mnt/data/pamessina/workspaces/medvqa-workspace/models/seq2seq/20230703_214202_sentence2facts(gpt-4-06..es__v2;gpt-3.5-..es__v2;gpt-3.5-..iform))_Seq2Seq(t5-small)',\n",
    "    max_output_length=256,\n",
    "    num_beams=1,\n",
    "    use_amp=False,\n",
    "    device='GPU',\n",
    ")\n",
    "for x,y in zip(input_text, output):\n",
    "    print('-------------')\n",
    "    print(x)\n",
    "    pprint(parse_facts(y))"
   ]
  },
  {
   "cell_type": "code",
   "execution_count": 13,
   "id": "110a1311",
   "metadata": {
    "scrolled": true
   },
   "outputs": [
    {
     "name": "stdout",
     "output_type": "stream",
     "text": [
      "metadata loaded from /mnt/data/pamessina/workspaces/medvqa-workspace/models/seq2seq/20230707_215744_fact2metadata(gpt-3.5-..ts__v2;gpt-3.5-..=20000;gpt-3.5-..niform)_Seq2Seq(t5-small)/metadata.json\n",
      "\u001b[1mdevice = \u001b[0m \u001b[1mGPU\u001b[0m\n",
      "\u001b[1mCreate model\u001b[0m\n",
      "Seq2Seq model:\n",
      "  model_name: t5-small\n",
      "\u001b[1mLoad model weights\u001b[0m\n",
      "checkpoint_names = ['checkpoint_51_s2s_loss=0.9648.pt']\n",
      "model_checkpoint_path =  /mnt/data/pamessina/workspaces/medvqa-workspace/models/seq2seq/20230707_215744_fact2metadata(gpt-3.5-..ts__v2;gpt-3.5-..=20000;gpt-3.5-..niform)_Seq2Seq(t5-small)/checkpoint_51_s2s_loss=0.9648.pt\n",
      "\u001b[1mPrepare input text\u001b[0m\n",
      "\u001b[1mRun model in inference mode\u001b[0m\n",
      "\u001b[1mConvert ids to string\u001b[0m\n",
      "-------------\n",
      "Peripheral band-like opacities in left mid and lower lung\n",
      "{'anatomical location': 'left mid and lower lung',\n",
      " 'category': 'anatomical finding',\n",
      " 'comparison status': '',\n",
      " 'detailed observation': 'peripheral band-like opacities',\n",
      " 'health status': 'abnormal',\n",
      " 'prev_study_comparison?': 'no',\n",
      " 'short observation': 'peripheral band-like opacities'}\n",
      "-------------\n",
      "Aortic mass adjacent to the left heart border\n",
      "{'anatomical location': 'adjacent to the left heart border',\n",
      " 'category': 'anatomical finding',\n",
      " 'comparison status': '',\n",
      " 'detailed observation': 'aortic mass',\n",
      " 'health status': 'abnormal',\n",
      " 'prev_study_comparison?': 'no',\n",
      " 'short observation': 'aortic mass'}\n",
      "-------------\n",
      "Atelectasis in the lingular segment of the left lobe\n",
      "{'anatomical location': 'lingular segment of the left lobe',\n",
      " 'category': 'anatomical finding',\n",
      " 'comparison status': '',\n",
      " 'detailed observation': 'atelectasis',\n",
      " 'health status': 'abnormal',\n",
      " 'prev_study_comparison?': 'no',\n",
      " 'short observation': 'atelectasis'}\n",
      "-------------\n",
      "The doctor left the room\n",
      "{'anatomical location': '',\n",
      " 'category': 'technical assessment',\n",
      " 'comparison status': '',\n",
      " 'detailed observation': 'doctor left the room',\n",
      " 'health status': 'unknown',\n",
      " 'prev_study_comparison?': 'no',\n",
      " 'short observation': 'doctor left the room'}\n",
      "-------------\n",
      "Leads extending into the region of the right atrium\n",
      "{'anatomical location': 'right atrium',\n",
      " 'category': 'anatomical finding',\n",
      " 'comparison status': '',\n",
      " 'detailed observation': 'leads extending into the region of the right atrium',\n",
      " 'health status': 'abnormal',\n",
      " 'prev_study_comparison?': 'no',\n",
      " 'short observation': 'leads extending into right atrium'}\n",
      "-------------\n",
      "Progression of asymmetrical left perihilar opacification\n",
      "{'anatomical location': 'left perihilar',\n",
      " 'category': 'anatomical finding',\n",
      " 'comparison status': 'progression',\n",
      " 'detailed observation': 'progression of asymmetrical left perihilar '\n",
      "                         'opacification',\n",
      " 'health status': 'abnormal',\n",
      " 'prev_study_comparison?': 'yes',\n",
      " 'short observation': 'asymmetrical left perihilar opacification'}\n",
      "-------------\n",
      "Left distended stomach\n",
      "{'anatomical location': 'stomach',\n",
      " 'category': 'anatomical finding',\n",
      " 'comparison status': '',\n",
      " 'detailed observation': 'left distended stomach',\n",
      " 'health status': 'abnormal',\n",
      " 'prev_study_comparison?': 'no',\n",
      " 'short observation': 'distended stomach'}\n",
      "-------------\n",
      "Grossly large thoracic aorta\n",
      "{'anatomical location': 'thoracic aorta',\n",
      " 'category': 'anatomical finding',\n",
      " 'comparison status': '',\n",
      " 'detailed observation': 'grossly large thoracic aorta',\n",
      " 'health status': 'abnormal',\n",
      " 'prev_study_comparison?': 'no',\n",
      " 'short observation': 'large thoracic aorta'}\n",
      "-------------\n",
      "Progression of asymmetrical left perihilar opacification\n",
      "{'anatomical location': 'left perihilar',\n",
      " 'category': 'anatomical finding',\n",
      " 'comparison status': 'progression',\n",
      " 'detailed observation': 'progression of asymmetrical left perihilar '\n",
      "                         'opacification',\n",
      " 'health status': 'abnormal',\n",
      " 'prev_study_comparison?': 'yes',\n",
      " 'short observation': 'asymmetrical left perihilar opacification'}\n",
      "-------------\n",
      "Obscured left heart border by airspace process\n",
      "{'anatomical location': 'left heart border',\n",
      " 'category': 'anatomical finding',\n",
      " 'comparison status': '',\n",
      " 'detailed observation': 'obscured left heart border by airspace process',\n",
      " 'health status': 'abnormal',\n",
      " 'prev_study_comparison?': 'no',\n",
      " 'short observation': 'obscured left heart border'}\n",
      "-------------\n",
      "Generally appropriate configuration\n",
      "{'anatomical location': '',\n",
      " 'category': 'technical assessment',\n",
      " 'comparison status': '',\n",
      " 'detailed observation': 'generally appropriate configuration',\n",
      " 'health status': 'normal',\n",
      " 'prev_study_comparison?': 'no',\n",
      " 'short observation': 'appropriate configuration'}\n",
      "-------------\n",
      "Upper thoracic trachea\n",
      "{'anatomical location': 'upper thoracic',\n",
      " 'category': 'anatomical finding',\n",
      " 'comparison status': '',\n",
      " 'detailed observation': 'trachea',\n",
      " 'health status': 'abnormal',\n",
      " 'prev_study_comparison?': 'no',\n",
      " 'short observation': 'trachea'}\n",
      "-------------\n",
      "Engorgement of pulmonary vascular congestion\n",
      "{'anatomical location': 'pulmonary',\n",
      " 'category': 'anatomical finding',\n",
      " 'comparison status': '',\n",
      " 'detailed observation': 'engorgement of pulmonary vascular congestion',\n",
      " 'health status': 'abnormal',\n",
      " 'prev_study_comparison?': 'no',\n",
      " 'short observation': 'pulmonary vascular congestion'}\n",
      "-------------\n",
      "Radioopaque material\n",
      "{'anatomical location': '',\n",
      " 'category': 'anatomical finding',\n",
      " 'comparison status': '',\n",
      " 'detailed observation': 'radioopaque material',\n",
      " 'health status': 'abnormal',\n",
      " 'prev_study_comparison?': 'no',\n",
      " 'short observation': 'radioopaque material'}\n",
      "-------------\n",
      "Tip of chest tube at the level of top of aorta\n",
      "{'anatomical location': 'level of top of aorta',\n",
      " 'category': 'tubes and lines',\n",
      " 'comparison status': '',\n",
      " 'detailed observation': 'tip of chest tube',\n",
      " 'health status': 'unknown',\n",
      " 'prev_study_comparison?': 'no',\n",
      " 'short observation': 'chest tube tip'}\n",
      "-------------\n",
      "2 leads in the expected location of the right ventricle\n",
      "{'anatomical location': 'right ventricle',\n",
      " 'category': 'device',\n",
      " 'comparison status': '',\n",
      " 'detailed observation': '2 leads in the expected location of the right '\n",
      "                         'ventricle',\n",
      " 'health status': 'unknown',\n",
      " 'prev_study_comparison?': 'no',\n",
      " 'short observation': '2 leads in right ventricle'}\n",
      "-------------\n",
      "Residual right internal jugular catheter\n",
      "{'anatomical location': 'right internal jugular',\n",
      " 'category': 'tubes and lines',\n",
      " 'comparison status': '',\n",
      " 'detailed observation': 'residual catheter',\n",
      " 'health status': 'unknown',\n",
      " 'prev_study_comparison?': 'no',\n",
      " 'short observation': 'catheter'}\n",
      "-------------\n",
      "Correlation with cross-sectional imaging (chest CT)\n",
      "{'anatomical location': '',\n",
      " 'category': 'technical assessment',\n",
      " 'comparison status': '',\n",
      " 'detailed observation': 'correlation with cross-sectional imaging (chest CT)',\n",
      " 'health status': 'unknown',\n",
      " 'prev_study_comparison?': 'no',\n",
      " 'short observation': 'correlation with cross-sectional imaging'}\n",
      "-------------\n",
      "Right greater than left infrahilar opacities\n",
      "{'anatomical location': 'infrahilar',\n",
      " 'category': 'anatomical finding',\n",
      " 'comparison status': '',\n",
      " 'detailed observation': 'right greater than left infrahilar opacities',\n",
      " 'health status': 'abnormal',\n",
      " 'prev_study_comparison?': 'no',\n",
      " 'short observation': 'infrahilar opacities'}\n"
     ]
    }
   ],
   "source": [
    "input_text = [\n",
    "    \"\"\"Peripheral band-like opacities in left mid and lower lung\"\"\",\n",
    "    \"\"\"Aortic mass adjacent to the left heart border\"\"\",\n",
    "    \"\"\"Atelectasis in the lingular segment of the left lobe\"\"\",\n",
    "    \"\"\"The doctor left the room\"\"\",\n",
    "    \n",
    "    \"\"\"Leads extending into the region of the right atrium\"\"\",\n",
    "    \"\"\"Progression of asymmetrical left perihilar opacification\"\"\",\n",
    "    \"\"\"Left distended stomach\"\"\",\n",
    "    \"\"\"Grossly large thoracic aorta\"\"\",\n",
    "    \"\"\"Progression of asymmetrical left perihilar opacification\"\"\",\n",
    "    \"\"\"Obscured left heart border by airspace process\"\"\",\n",
    "    \n",
    "    'Generally appropriate configuration',\n",
    "     'Upper thoracic trachea',\n",
    "     'Engorgement of pulmonary vascular congestion',\n",
    "     'Radioopaque material',\n",
    "     'Tip of chest tube at the level of top of aorta',\n",
    "     '2 leads in the expected location of the right ventricle',\n",
    "     'Residual right internal jugular catheter',\n",
    "     'Correlation with cross-sectional imaging (chest CT)',\n",
    "     'Right greater than left infrahilar opacities'\n",
    "]\n",
    "output = load_and_run_seq2seq_model_in_inference_mode(\n",
    "    input_text=input_text,\n",
    "    model_folder_path = '/mnt/data/pamessina/workspaces/medvqa-workspace/models/seq2seq/20230707_215744_fact2metadata(gpt-3.5-..ts__v2;gpt-3.5-..=20000;gpt-3.5-..niform)_Seq2Seq(t5-small)',\n",
    "    max_output_length=256,\n",
    "    num_beams=1,\n",
    "    use_amp=False,\n",
    "    device='GPU',\n",
    ")\n",
    "for x,y in zip(input_text, output):\n",
    "    print('-------------')\n",
    "    print(x)\n",
    "#     print(y)\n",
    "    pprint(parse_metadata(y))"
   ]
  },
  {
   "cell_type": "code",
   "execution_count": 7,
   "id": "53fdf748",
   "metadata": {
    "scrolled": false
   },
   "outputs": [
    {
     "name": "stdout",
     "output_type": "stream",
     "text": [
      "metadata loaded from /mnt/data/pamessina/workspaces/medvqa-workspace/models/seq2seq/20230718_103406_fact2comparison(gpt-3.5-.._part1;gpt-3.5-.._part2)_Seq2Seq(t5-small)/metadata.json\n",
      "\u001b[1mdevice = \u001b[0m \u001b[1mGPU\u001b[0m\n",
      "\u001b[1mCreate model\u001b[0m\n",
      "Seq2Seq model:\n",
      "  model_name: t5-small\n",
      "\u001b[1mLoad model weights\u001b[0m\n",
      "checkpoint_names = ['checkpoint_17_s2s_loss=0.8631.pt', 'checkpoint_23_s2s_loss=0.8861.pt']\n",
      "model_checkpoint_path =  /mnt/data/pamessina/workspaces/medvqa-workspace/models/seq2seq/20230718_103406_fact2comparison(gpt-3.5-.._part1;gpt-3.5-.._part2)_Seq2Seq(t5-small)/checkpoint_23_s2s_loss=0.8861.pt\n",
      "\u001b[1mPrepare input text\u001b[0m\n",
      "\u001b[1mRun model in inference mode\u001b[0m\n",
      "\u001b[1mConvert ids to string\u001b[0m\n",
      "-------------\n",
      "Peripheral band-like opacities in left mid and lower lung\n",
      "no comparison\n",
      "-------------\n",
      "Aortic mass adjacent to the left heart border\n",
      "no comparison\n",
      "-------------\n",
      "Atelectasis in the lingular segment of the left lobe\n",
      "no comparison\n",
      "-------------\n",
      "The doctor left the room\n",
      "no comparison\n",
      "-------------\n",
      "Leads extending into the region of the right atrium\n",
      "no comparison\n",
      "-------------\n",
      "Progression of asymmetrical left perihilar opacification\n",
      "progressed\n",
      "-------------\n",
      "Left distended stomach\n",
      "no comparison\n",
      "-------------\n",
      "Grossly large thoracic aorta\n",
      "no comparison\n",
      "-------------\n",
      "Progression of asymmetrical left perihilar opacification\n",
      "progressed\n",
      "-------------\n",
      "Obscured left heart border by airspace process\n",
      "no comparison\n",
      "-------------\n",
      "Generally appropriate configuration\n",
      "no comparison\n",
      "-------------\n",
      "Upper thoracic trachea\n",
      "no comparison\n",
      "-------------\n",
      "Engorgement of pulmonary vascular congestion\n",
      "progressed\n",
      "-------------\n",
      "Radioopaque material\n",
      "no comparison\n",
      "-------------\n",
      "Tip of chest tube at the level of top of aorta\n",
      "no comparison\n",
      "-------------\n",
      "2 leads in the expected location of the right ventricle\n",
      "no comparison\n",
      "-------------\n",
      "Residual right internal jugular catheter\n",
      "no comparison\n",
      "-------------\n",
      "Correlation with cross-sectional imaging (chest CT)\n",
      "no comparison\n",
      "-------------\n",
      "Right greater than left infrahilar opacities\n",
      "no comparison\n",
      "-------------\n",
      "Heart larger compared to previus\n",
      "larger\n",
      "-------------\n",
      "right pleural effusion similar in size\n",
      "stable/unchanged\n",
      "-------------\n",
      "pleural density on the left is somewhat increased\n",
      "increase\n",
      "-------------\n",
      "new bibasal consolidations on the left\n",
      "new finding\n",
      "-------------\n",
      "small foci of opacity in the left mid lung\n",
      "no comparison\n",
      "-------------\n",
      "no ill-definition of right hemidiaphragm\n",
      "no comparison\n",
      "-------------\n",
      "heart within upper limits of normal in size\n",
      "no comparison\n",
      "-------------\n",
      "no significant change in size of pneumothorax\n",
      "stable/unchanged\n",
      "-------------\n",
      "osteoporosis worsening in a debilitated and wheelchair-bound patient\n",
      "no comparison\n",
      "-------------\n",
      "osteoporosis worsening in a debilitated and wheelchair-bound patient compared\n",
      "worsened\n",
      "-------------\n",
      "worsening of osteoporosis\n",
      "progressed\n",
      "-------------\n",
      "the size of the tumor is roughly the same\n",
      "stable/unchanged\n"
     ]
    }
   ],
   "source": [
    "input_text = [\n",
    "    \"\"\"Peripheral band-like opacities in left mid and lower lung\"\"\",\n",
    "    \"\"\"Aortic mass adjacent to the left heart border\"\"\",\n",
    "    \"\"\"Atelectasis in the lingular segment of the left lobe\"\"\",\n",
    "    \"\"\"The doctor left the room\"\"\",\n",
    "    \n",
    "    \"\"\"Leads extending into the region of the right atrium\"\"\",\n",
    "    \"\"\"Progression of asymmetrical left perihilar opacification\"\"\",\n",
    "    \"\"\"Left distended stomach\"\"\",\n",
    "    \"\"\"Grossly large thoracic aorta\"\"\",\n",
    "    \"\"\"Progression of asymmetrical left perihilar opacification\"\"\",\n",
    "    \"\"\"Obscured left heart border by airspace process\"\"\",\n",
    "    \n",
    "    'Generally appropriate configuration',\n",
    "     'Upper thoracic trachea',\n",
    "     'Engorgement of pulmonary vascular congestion',\n",
    "     'Radioopaque material',\n",
    "     'Tip of chest tube at the level of top of aorta',\n",
    "     '2 leads in the expected location of the right ventricle',\n",
    "     'Residual right internal jugular catheter',\n",
    "     'Correlation with cross-sectional imaging (chest CT)',\n",
    "     'Right greater than left infrahilar opacities',\n",
    "    'Heart larger compared to previus',\n",
    "    'right pleural effusion similar in size',\n",
    "    'pleural density on the left is somewhat increased',\n",
    "    'new bibasal consolidations on the left',\n",
    "    'small foci of opacity in the left mid lung',\n",
    "    'no ill-definition of right hemidiaphragm',\n",
    "    'heart within upper limits of normal in size',\n",
    "    'no significant change in size of pneumothorax',\n",
    "    'osteoporosis worsening in a debilitated and wheelchair-bound patient',\n",
    "    'osteoporosis worsening in a debilitated and wheelchair-bound patient compared',\n",
    "    'worsening of osteoporosis',\n",
    "    'the size of the tumor is roughly the same',\n",
    "]\n",
    "output = load_and_run_seq2seq_model_in_inference_mode(\n",
    "    input_text=input_text,\n",
    "#     model_folder_path = '/mnt/data/pamessina/workspaces/medvqa-workspace/models/seq2seq/20230717_145334_fact2comparison(gpt-3.5-.._part1;gpt-3.5-.._part2)_Seq2Seq(t5-small)',\n",
    "#     model_folder_path = '/mnt/data/pamessina/workspaces/medvqa-workspace/models/seq2seq/20230717_161407_fact2comparison(gpt-3.5-.._part1;gpt-3.5-.._part2)_Seq2Seq(t5-small)',\n",
    "     model_folder_path = '/mnt/data/pamessina/workspaces/medvqa-workspace/models/seq2seq/20230718_103406_fact2comparison(gpt-3.5-.._part1;gpt-3.5-.._part2)_Seq2Seq(t5-small)/',\n",
    "    max_output_length=256,\n",
    "    num_beams=1,\n",
    "    use_amp=False,\n",
    "    device='GPU',\n",
    ")\n",
    "for x,y in zip(input_text, output):\n",
    "    print('-------------')\n",
    "    print(x)\n",
    "    print(y)"
   ]
  },
  {
   "cell_type": "code",
   "execution_count": 22,
   "id": "c5605574",
   "metadata": {},
   "outputs": [
    {
     "data": {
      "text/plain": [
       "['Atelectasis Basal atelectasis Left basal atelectasis Minimal amount of left basal atelectasis']"
      ]
     },
     "execution_count": 22,
     "metadata": {},
     "output_type": "execute_result"
    }
   ],
   "source": [
    "output.split('\\n')"
   ]
  },
  {
   "cell_type": "code",
   "execution_count": 23,
   "id": "aaf2cc12",
   "metadata": {},
   "outputs": [],
   "source": [
    "from transformers import T5TokenizerFast\n",
    "tokenizer = T5TokenizerFast.from_pretrained('t5-small')"
   ]
  },
  {
   "cell_type": "code",
   "execution_count": 99,
   "id": "7634a96f",
   "metadata": {},
   "outputs": [],
   "source": [
    "input_encoding = tokenizer(\n",
    "    \"\"\"[\"asfasdf\", \"adfasdfasfd\"]\"\"\",\n",
    "    padding=\"longest\",\n",
    "    return_tensors=\"pt\",\n",
    ")\n",
    "input_ids = input_encoding.input_ids\n",
    "attention_mask = input_encoding.attention_mask"
   ]
  },
  {
   "cell_type": "code",
   "execution_count": 102,
   "id": "46ebafc3",
   "metadata": {},
   "outputs": [
    {
     "data": {
      "text/plain": [
       "['[\"asfasdf\", \"adfasdfasfd\"]']"
      ]
     },
     "execution_count": 102,
     "metadata": {},
     "output_type": "execute_result"
    }
   ],
   "source": [
    "tokenizer.batch_decode(input_ids, skip_special_tokens=True)"
   ]
  },
  {
   "cell_type": "code",
   "execution_count": 15,
   "id": "5f3f2148",
   "metadata": {
    "scrolled": false
   },
   "outputs": [
    {
     "name": "stdout",
     "output_type": "stream",
     "text": [
      "metadata loaded from /mnt/data/pamessina/workspaces/medvqa-workspace/models/seq2seq/20230615_113851_background2facts(gpt-3.5-turbo_parsed_back)_Seq2Seq(t5-small)/metadata.json\n",
      "\u001b[1mdevice = \u001b[0m \u001b[1mGPU\u001b[0m\n",
      "\u001b[1mCreate model\u001b[0m\n",
      "Seq2Seq model:\n",
      "  model_name: t5-small\n",
      "\u001b[1mLoad model weights\u001b[0m\n",
      "checkpoint_names = ['checkpoint_102_s2s_loss=0.7637.pt', 'checkpoint_60_s2s_loss=0.6631.pt']\n",
      "checkpoint_path =  /mnt/data/pamessina/workspaces/medvqa-workspace/models/seq2seq/20230615_113851_background2facts(gpt-3.5-turbo_parsed_back)_Seq2Seq(t5-small)/checkpoint_102_s2s_loss=0.7637.pt\n",
      "\u001b[1mPrepare input text\u001b[0m\n",
      "\u001b[1mRun model in inference mode\u001b[0m\n",
      "\u001b[1mConvert ids to string\u001b[0m\n",
      "['indication: year old woman with left and 8th rib fractures s/p mechanical '\n",
      " 'fall, head laceration, pyuria and positive nitrites on U/A, now with '\n",
      " 'vomiting and inability to take POs since . // Evaluate for possible '\n",
      " 'aspiration pneumonia/lung changes from CT on and portable chest XR on '\n",
      " 'Evaluate for possible aspiration pneumonia/lung changes from CT on and '\n",
      " 'portable chest XR on.']\n",
      "['female',\n",
      " 'left and 8th rib fractures',\n",
      " 'mechanical fall',\n",
      " 'head laceration',\n",
      " 'pyuria',\n",
      " 'positive nitrites on U/A',\n",
      " 'vomiting',\n",
      " 'inability to take POs',\n",
      " 'rule out aspiration pneumonia/lung changes from CT',\n",
      " 'rule out aspiration pneumonia/lung changes from portable chest XR']\n"
     ]
    }
   ],
   "source": [
    "input_text = [\n",
    "   \"\"\"indication: year old woman with left and 8th rib fractures s/p mechanical fall, head laceration, pyuria and positive nitrites on U/A, now with vomiting and inability to take POs since . // Evaluate for possible aspiration pneumonia/lung changes from CT on and portable chest XR on Evaluate for possible aspiration pneumonia/lung changes from CT on and portable chest XR on.\"\"\",\n",
    "]\n",
    "output = load_and_run_seq2seq_model_in_inference_mode(\n",
    "    input_text=input_text,\n",
    "    model_folder_path='/mnt/data/pamessina/workspaces/medvqa-workspace/models/seq2seq/20230615_113851_background2facts(gpt-3.5-turbo_parsed_back)_Seq2Seq(t5-small)/',\n",
    "    max_output_length=512,\n",
    "    num_beams=1,\n",
    "    use_amp=False,\n",
    "    device='GPU',\n",
    ")\n",
    "pprint(input_text)\n",
    "pprint(json.loads(output))"
   ]
  },
  {
   "cell_type": "code",
   "execution_count": 27,
   "id": "ae3ae567",
   "metadata": {},
   "outputs": [
    {
     "data": {
      "text/plain": [
       "tensor([[ 3,  9,  9, 26, 89,  9, 26, 89, 38, 26, 89,  9,  7, 26, 89,  1]])"
      ]
     },
     "execution_count": 27,
     "metadata": {},
     "output_type": "execute_result"
    }
   ],
   "source": [
    "input_ids"
   ]
  },
  {
   "cell_type": "code",
   "execution_count": null,
   "id": "327ce824",
   "metadata": {},
   "outputs": [],
   "source": []
  },
  {
   "cell_type": "code",
   "execution_count": 35,
   "id": "612b33d1",
   "metadata": {},
   "outputs": [
    {
     "data": {
      "text/plain": [
       "tensor([[ 784,  121,    9,    7,   89,    9,    7,   26,   89, 1686,   96,    9,\n",
       "           26,   89,    9,    7,   26,   89,    9,    7,   89,   26,  121,  908,\n",
       "            1]])"
      ]
     },
     "execution_count": 35,
     "metadata": {},
     "output_type": "execute_result"
    }
   ],
   "source": [
    "input_ids"
   ]
  },
  {
   "cell_type": "code",
   "execution_count": 18,
   "id": "fafa6624",
   "metadata": {},
   "outputs": [
    {
     "data": {
      "text/plain": [
       "{'background': 'indication: New dyspnea on exertion.',\n",
       " 'findings': 'Heart size is normal. There are mild aortic knob calcifications. Cardiomediastinal silhouette and hilar contours are otherwise unremarkable. Lungs are clear. Pleural surfaces are clear without effusion or pneumothorax.',\n",
       " 'impression': 'No acute cardiopulmonary abnormality.',\n",
       " 'path': '/mnt/data/mimic-cxr/files/p10/p10703179/s58829627.txt'}"
      ]
     },
     "execution_count": 18,
     "metadata": {},
     "output_type": "execute_result"
    }
   ],
   "source": [
    "reports[0]"
   ]
  },
  {
   "cell_type": "code",
   "execution_count": 1,
   "id": "648e23a2",
   "metadata": {},
   "outputs": [],
   "source": [
    "from tqdm import tqdm\n",
    "from nltk.tokenize import sent_tokenize, word_tokenize"
   ]
  },
  {
   "cell_type": "code",
   "execution_count": 5,
   "id": "8b6236ab",
   "metadata": {},
   "outputs": [
    {
     "name": "stderr",
     "output_type": "stream",
     "text": [
      "100%|███████████████████████████████████████████████████████████████████████████████████| 227835/227835 [00:45<00:00, 5024.59it/s]\n"
     ]
    }
   ],
   "source": [
    "sentences = set()\n",
    "for r in tqdm(reports, total=len(reports), mininterval=2):\n",
    "    impression = r['impression']\n",
    "    findings = r['findings']\n",
    "    if len(impression) > 0:\n",
    "        for s in sent_tokenize(impression):\n",
    "            sentences.add(s)\n",
    "    if len(findings) > 0:\n",
    "        for s in sent_tokenize(findings):\n",
    "            sentences.add(s)"
   ]
  },
  {
   "cell_type": "code",
   "execution_count": 6,
   "id": "69885ac5",
   "metadata": {},
   "outputs": [
    {
     "data": {
      "text/plain": [
       "677694"
      ]
     },
     "execution_count": 6,
     "metadata": {},
     "output_type": "execute_result"
    }
   ],
   "source": [
    "len(sentences)"
   ]
  },
  {
   "cell_type": "code",
   "execution_count": 7,
   "id": "5f50d770",
   "metadata": {},
   "outputs": [],
   "source": [
    "from medvqa.utils.files import load_jsonl"
   ]
  },
  {
   "cell_type": "code",
   "execution_count": 8,
   "id": "97a44c3e",
   "metadata": {},
   "outputs": [],
   "source": [
    "aux1 = load_jsonl(\"/home/pamessina/medvqa-workspace/cache/mimiccxr/openai/gpt-4-0613_parsed_reports.jsonl\")\n",
    "aux2 = load_jsonl(\"/home/pamessina/medvqa-workspace/cache/mimiccxr/openai/gpt-3.5-turbo_parsed_reports.jsonl\")"
   ]
  },
  {
   "cell_type": "code",
   "execution_count": 10,
   "id": "a4058c72",
   "metadata": {},
   "outputs": [],
   "source": [
    "for x in [aux1, aux2]:\n",
    "    for y in x:\n",
    "        for z, _ in y['parsed_response']:\n",
    "            sentences.add(z)"
   ]
  },
  {
   "cell_type": "code",
   "execution_count": 11,
   "id": "787b8289",
   "metadata": {},
   "outputs": [
    {
     "data": {
      "text/plain": [
       "849523"
      ]
     },
     "execution_count": 11,
     "metadata": {},
     "output_type": "execute_result"
    }
   ],
   "source": [
    "len(sentences)"
   ]
  },
  {
   "cell_type": "code",
   "execution_count": 12,
   "id": "92d351f2",
   "metadata": {},
   "outputs": [],
   "source": [
    "sentences_list = list(sentences)"
   ]
  },
  {
   "cell_type": "code",
   "execution_count": 13,
   "id": "010ef0a7",
   "metadata": {},
   "outputs": [
    {
     "name": "stderr",
     "output_type": "stream",
     "text": [
      "100%|███████████████████████████████████████████████████████████████████████████████████| 849523/849523 [02:38<00:00, 5363.68it/s]\n"
     ]
    }
   ],
   "source": [
    "tokenized_sentences = [word_tokenize(x) for x in tqdm(sentences_list, mininterval=2)]"
   ]
  },
  {
   "cell_type": "code",
   "execution_count": 14,
   "id": "05f3e306",
   "metadata": {},
   "outputs": [
    {
     "name": "stderr",
     "output_type": "stream",
     "text": [
      "100%|█████████████████████████████████████████████████████████████████████████████████| 849523/849523 [00:05<00:00, 166124.96it/s]"
     ]
    },
    {
     "name": "stdout",
     "output_type": "stream",
     "text": [
      "Vocabulary size: 27366\n"
     ]
    },
    {
     "name": "stderr",
     "output_type": "stream",
     "text": [
      "\n"
     ]
    }
   ],
   "source": [
    "vocab_freq = dict()\n",
    "for tokens in tqdm(tokenized_sentences, mininterval=2):\n",
    "    for word in tokens:\n",
    "        vocab_freq[word] = vocab_freq.get(word, 0) + 1\n",
    "print(f'Vocabulary size: {len(vocab_freq)}')"
   ]
  },
  {
   "cell_type": "code",
   "execution_count": 15,
   "id": "347fcc7e",
   "metadata": {},
   "outputs": [
    {
     "data": {
      "text/plain": [
       "(849523, 849523)"
      ]
     },
     "execution_count": 15,
     "metadata": {},
     "output_type": "execute_result"
    }
   ],
   "source": [
    "len(tokenized_sentences), len(sentences)"
   ]
  },
  {
   "cell_type": "code",
   "execution_count": 16,
   "id": "ba9a3f30",
   "metadata": {},
   "outputs": [],
   "source": [
    "def _complexity(i):\n",
    "    score = 0\n",
    "    for word in tokenized_sentences[i]:\n",
    "        score += 1 / vocab_freq[word]\n",
    "    return score\n",
    "    \n",
    "ranked_indices = sorted(range(len(tokenized_sentences)), key=_complexity, reverse=True)"
   ]
  },
  {
   "cell_type": "code",
   "execution_count": 34,
   "id": "fdd69dc5",
   "metadata": {},
   "outputs": [
    {
     "data": {
      "text/plain": [
       "'No consolidation, pulmonary edema, pleural effusion, or pneumothorax is seen.'"
      ]
     },
     "execution_count": 34,
     "metadata": {},
     "output_type": "execute_result"
    }
   ],
   "source": [
    "sentences_list[ranked_indices[-10000]]"
   ]
  },
  {
   "cell_type": "code",
   "execution_count": null,
   "id": "3198e737",
   "metadata": {},
   "outputs": [],
   "source": []
  }
 ],
 "metadata": {
  "kernelspec": {
   "display_name": "venv2",
   "language": "python",
   "name": "venv2"
  },
  "language_info": {
   "codemirror_mode": {
    "name": "ipython",
    "version": 3
   },
   "file_extension": ".py",
   "mimetype": "text/x-python",
   "name": "python",
   "nbconvert_exporter": "python",
   "pygments_lexer": "ipython3",
   "version": "3.10.10"
  }
 },
 "nbformat": 4,
 "nbformat_minor": 5
}
