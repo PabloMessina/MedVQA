{
 "cells": [
  {
   "cell_type": "code",
   "execution_count": 1,
   "id": "465ce67d",
   "metadata": {},
   "outputs": [
    {
     "name": "stdout",
     "output_type": "stream",
     "text": [
      "env: CUDA_VISIBLE_DEVICES=0\n"
     ]
    }
   ],
   "source": [
    "%env CUDA_VISIBLE_DEVICES=0"
   ]
  },
  {
   "cell_type": "code",
   "execution_count": 2,
   "id": "f59b3d2a",
   "metadata": {},
   "outputs": [],
   "source": [
    "from medvqa.models.model_debugging_utils import load_and_run_seq2seq_model_in_inference_mode"
   ]
  },
  {
   "cell_type": "code",
   "execution_count": 3,
   "id": "55954eb8",
   "metadata": {},
   "outputs": [],
   "source": [
    "from importlib import reload\n",
    "import medvqa"
   ]
  },
  {
   "cell_type": "code",
   "execution_count": 46,
   "id": "1e263e21",
   "metadata": {},
   "outputs": [
    {
     "data": {
      "text/plain": [
       "<module 'medvqa.models.model_debugging_utils' from '/home/pamessina/medvqa/medvqa/models/model_debugging_utils.py'>"
      ]
     },
     "execution_count": 46,
     "metadata": {},
     "output_type": "execute_result"
    }
   ],
   "source": [
    "reload(medvqa.models.model_debugging_utils)"
   ]
  },
  {
   "cell_type": "code",
   "execution_count": 59,
   "id": "cd3d3e72",
   "metadata": {
    "scrolled": false
   },
   "outputs": [
    {
     "name": "stdout",
     "output_type": "stream",
     "text": [
      "metadata loaded from /mnt/data/pamessina/workspaces/medvqa-workspace/models/seq2seq/20240116_111115_multitask(s2f+f2m+f2c+s2co+s2cal+nli+mlm)_Seq2Seq(t5-small)/metadata.json\n",
      "\u001b[1mdevice = \u001b[0m \u001b[1mGPU\u001b[0m\n",
      "\u001b[1mCreate model\u001b[0m\n",
      "Seq2Seq model:\n",
      "  model_name: t5-small\n",
      "\u001b[1mLoad model weights\u001b[0m\n",
      "checkpoint_names = ['checkpoint_200_exact_match+s2s_loss=0.8991.pt']\n",
      "model_checkpoint_path =  /mnt/data/pamessina/workspaces/medvqa-workspace/models/seq2seq/20240116_111115_multitask(s2f+f2m+f2c+s2co+s2cal+nli+mlm)_Seq2Seq(t5-small)/checkpoint_200_exact_match+s2s_loss=0.8991.pt\n",
      "\u001b[1mPrepare input text\u001b[0m\n",
      "\u001b[1mRun model in inference mode\u001b[0m\n",
      "\u001b[1mConvert ids to string\u001b[0m\n",
      "S2F: The pulmonary vasculature is not congested and there are no signs of pleural effusions in the lateral pleural sinuses.\n",
      "[\"pulmonary vasculature not congested\", \"no signs of pleural effusions in the lateral pleural sinuses\"]\n",
      "\n",
      "S2CA: The pulmonary vasculature is not congested and there are no signs of pleural effusions in the lateral pleural sinuses.\n",
      "[\"left costophrenic angle\", \"left lung\", \"right costophrenic angle\", \"right lung\"]\n",
      "\n",
      "S2CO: The pulmonary vasculature is not congested and there are no signs of pleural effusions in the lateral pleural sinuses.\n",
      "[]\n",
      "\n",
      "S2F: Although no definite evidence of acute pneumonia, given the pulmonary changes in the absence of a lateral projection, it would be difficult to definitely exclude superimposed pneumonia.\n",
      "[\"no definite evidence of acute pneumonia\", \"pulmonary changes\", \"absence of a lateral projection\", \"difficulty excluding superimposed pneumonia\"]\n",
      "\n",
      "S2CA: Although no definite evidence of acute pneumonia, given the pulmonary changes in the absence of a lateral projection, it would be difficult to definitely exclude superimposed pneumonia.\n",
      "[\"left lung\", \"right lung\"]\n",
      "\n",
      "S2CO: Although no definite evidence of acute pneumonia, given the pulmonary changes in the absence of a lateral projection, it would be difficult to definitely exclude superimposed pneumonia.\n",
      "[\"lung opacity\", \"pneumonia\"]\n",
      "\n",
      "S2F: Given this, there is patchy right basilar opacity which could be due to atelectasis in combination with vascular engorgement, although consolidation from infection is not excluded.\n",
      "[\"patchy right basilar opacity\", \"opacity due to atelectasis\", \"opacity due to vascular engorgement\", \"consolidation from infection not excluded\"]\n",
      "\n",
      "S2CA: Given this, there is patchy right basilar opacity which could be due to atelectasis in combination with vascular engorgement, although consolidation from infection is not excluded.\n",
      "[\"left hilar structures\", \"left lower lung zone\", \"left lung\", \"right hilar structures\", \"right lower lung zone\", \"right lung\"]\n",
      "\n",
      "S2CO: Given this, there is patchy right basilar opacity which could be due to atelectasis in combination with vascular engorgement, although consolidation from infection is not excluded.\n",
      "[\"atelectasis\", \"consolidation\", \"lung opacity\", \"vascular congestion\", \"pneumonia\"]\n",
      "\n",
      "S2F: 3:22 AM No acute intrathoracic process.\n",
      "[\"no acute intrathoracic process\"]\n",
      "\n",
      "S2F: There is blunting of the bilateral costophrenic angles potentially due to effusions or scarring, unchanged\n",
      "[\"blunting of the bilateral costophrenic angles\", \"blunting potentially due to effusions\", \"blunting potentially due to scarring\", \"unchanged blunting of the bilateral costophrenic angles\"]\n",
      "\n",
      "S2F: The cardiomediastinal shadow is unchanged.Low lung volumes most likely a contribute to the increased bronchovascular markings seen in the lung bases.\n",
      "[\"unchanged cardiomediastinal shadow\", \"low lung volumes\", \"increased bronchovascular markings in the lung bases\"]\n",
      "\n",
      "S2F: Moderate degenerative changes are seen throughout both glenohumeral joints.\n",
      "[\"moderate degenerative changes throughout both glenohumeral joints\"]\n",
      "\n",
      "S2F: Mild degenerative changes are seen in the left glenohumeral joint.\n",
      "[\"mild degenerative changes in the left glenohumeral joint\"]\n",
      "\n",
      "S2CA: Moderate degenerative changes are seen throughout both glenohumeral joints.\n",
      "[\"left shoulder\", \"right shoulder\"]\n",
      "\n",
      "S2CO: Moderate degenerative changes are seen throughout both glenohumeral joints.\n",
      "[\"shoulder osteoarthritis\"]\n",
      "\n",
      "S2CA: There is blunting of the bilateral costophrenic angles potentially due to effusions or scarring, unchanged\n",
      "[\"left costophrenic angle\", \"right costophrenic angle\"]\n",
      "\n",
      "S2CA: IMPRESSION: Displaced left mid clavicular fracture.\n",
      "[\"left clavicle\"]\n",
      "\n",
      "S2CA: IMPRESSION: No displaced left mid clavicular fracture. Everything is fine.\n",
      "[\"left clavicle\"]\n",
      "\n",
      "S2CO: IMPRESSION: No displaced left mid clavicular fracture. Everything is fine.\n",
      "[]\n",
      "\n",
      "S2CO: IMPRESSION: Displaced left mid clavicular fracture.\n",
      "[\"clavicle fracture\"]\n",
      "\n",
      "S2CO: As compared to the previous examination, the patient has received a dual chamber pacemaker.\n",
      "[\"cardiac pacer and wires\"]\n",
      "\n",
      "S2F: As compared to the previous examination, the patient has received a dual chamber pacemaker.\n",
      "[\"dual chamber pacemaker\"]\n",
      "\n",
      "NLI2: Young students are playing musical instruments in an orchestra. #Generate entailment\n",
      "Young students are playing instruments.\n",
      "\n",
      "NLI2: Young students are playing musical instruments in an orchestra. #Generate contradiction\n",
      "The students are playing a game.\n",
      "\n",
      "NLI2: Young students are playing musical instruments in an orchestra. #Generate neutral\n",
      "The students are playing a piano.\n",
      "\n",
      "NLI1: need to break out the bicycle too get that down and start to ride around #Hypothesis: The bicycle is still new but I will start riding it.\n",
      "Most likely: neutral\n",
      "\n",
      "NLI1: Lung volumes are low. #Hypothesis: The lungs are clear.\n",
      "Most likely: neutral\n",
      "\n",
      "NLI2: Lung volumes are low. #Generate entailment\n",
      "Lung volumes are low.\n",
      "\n",
      "NLI2: Lung volumes are low. #Generate contradiction\n",
      "Lung volumes are low.\n",
      "\n",
      "NLI2: Lung volumes are low. #Generate neutral\n",
      "The lungs are clear.\n",
      "\n",
      "NLI1: right PICC tip remains in standard position. #Hypothesis: diffuse parenchymal changes\n",
      "Most likely: neutral\n",
      "\n",
      "NLI1: There are mild degenerative changes of the thoracic spine. #Hypothesis: osteophyte\n",
      "Most likely: neutral\n",
      "\n",
      "NLI2: There are mild degenerative changes of the thoracic spine. #Generate contradiction\n",
      "There are no degenerative changes of the thoracic spine.\n",
      "\n",
      "NLI2: There are mild degenerative changes of the thoracic spine. #Generate entailment\n",
      "The patient's thoracic spine shows signs of mild degenerative changes.\n",
      "\n",
      "NLI2: There are mild degenerative changes of the thoracic spine. #Generate neutral\n",
      "There are no signs of lung infection in the chest X-ray.\n",
      "\n",
      "MLM: No other [tok1] suggestive of a pulmonary infiltrate is identified .\n",
      "[tok1] findings\n",
      "\n",
      "MLM: In this [tok1] case , the buyers [tok2] to Las Vegas to purchase the goods rather than having them shipped out of the city , but the economics are the same .\n",
      "[tok1] particular [tok2] go\n",
      "\n",
      "MLM: If the request [tok1] only one House , [tok2] will work with the requester to seek support for the [tok3] from either ( 1 ) the senior leaders of the affected House or\n",
      "[tok1] contains [tok2] Congress [tok3] request\n",
      "\n",
      "MLM: A vague rounded opacity in the right base is [tok1] with a nipple [tok2] .\n",
      "[tok1] consistent [tok2] opacity\n",
      "\n",
      "MLM: mild mediastinal [tok1] likely related to [tok2] lung volumes\n",
      "[tok1] opacity [tok2] low\n",
      "\n",
      "MLM: The person speaking [tok1] a lot about the [tok2] music should be performed .\n",
      "[tok1] said [tok2] music\n",
      "\n",
      "MLM: [tok1] Junction is a railroad in North Carolina .\n",
      "[tok1] North\n",
      "\n",
      "MLM: The person is [tok1]\n",
      "[tok1] a woman\n",
      "\n",
      "MLM: FRONTAL SEMI-SUPINE [tok1] CHEST : The endotracheal tube ends 4.1 [tok2] above the carina .\n",
      "[tok1] IMPRESSION [tok2] cm\n",
      "\n",
      "MLM: minor [tok1] of the right middle [tok2] in a lateral direction\n",
      "[tok1] opacity [tok2] lobe\n",
      "\n",
      "MLM: The boat is a [tok1] car for after the robbery\n",
      "[tok1] parked\n",
      "\n"
     ]
    }
   ],
   "source": [
    "input_texts = [\n",
    "    'S2F: The pulmonary vasculature is not congested and there are no signs of pleural effusions in the lateral pleural sinuses.',\n",
    "    'S2CA: The pulmonary vasculature is not congested and there are no signs of pleural effusions in the lateral pleural sinuses.',\n",
    "    'S2CO: The pulmonary vasculature is not congested and there are no signs of pleural effusions in the lateral pleural sinuses.',\n",
    "    \n",
    "    'S2F: Although no definite evidence of acute pneumonia, given the pulmonary changes in the absence of a lateral projection, it would be difficult to definitely exclude superimposed pneumonia.',\n",
    "    'S2CA: Although no definite evidence of acute pneumonia, given the pulmonary changes in the absence of a lateral projection, it would be difficult to definitely exclude superimposed pneumonia.',\n",
    "    'S2CO: Although no definite evidence of acute pneumonia, given the pulmonary changes in the absence of a lateral projection, it would be difficult to definitely exclude superimposed pneumonia.',\n",
    "    'S2F: Given this, there is patchy right basilar opacity which could be due to atelectasis in combination with vascular engorgement, although consolidation from infection is not excluded.',\n",
    "    'S2CA: Given this, there is patchy right basilar opacity which could be due to atelectasis in combination with vascular engorgement, although consolidation from infection is not excluded.',\n",
    "    'S2CO: Given this, there is patchy right basilar opacity which could be due to atelectasis in combination with vascular engorgement, although consolidation from infection is not excluded.',\n",
    "    'S2F: 3:22 AM No acute intrathoracic process.',\n",
    "    'S2F: There is blunting of the bilateral costophrenic angles potentially due to effusions or scarring, unchanged',\n",
    "    'S2F: The cardiomediastinal shadow is unchanged.Low lung volumes most likely a contribute to the increased bronchovascular markings seen in the lung bases.',\n",
    "    'S2F: Moderate degenerative changes are seen throughout both glenohumeral joints.',\n",
    "    'S2F: Mild degenerative changes are seen in the left glenohumeral joint.',\n",
    "    'S2CA: Moderate degenerative changes are seen throughout both glenohumeral joints.',\n",
    "    'S2CO: Moderate degenerative changes are seen throughout both glenohumeral joints.',\n",
    "    'S2CA: There is blunting of the bilateral costophrenic angles potentially due to effusions or scarring, unchanged',\n",
    "    'S2CA: IMPRESSION: Displaced left mid clavicular fracture.',\n",
    "    'S2CA: IMPRESSION: No displaced left mid clavicular fracture. Everything is fine.',\n",
    "    'S2CO: IMPRESSION: No displaced left mid clavicular fracture. Everything is fine.',\n",
    "    'S2CO: IMPRESSION: Displaced left mid clavicular fracture.',\n",
    "    'S2CO: As compared to the previous examination, the patient has received a dual chamber pacemaker.',\n",
    "    'S2F: As compared to the previous examination, the patient has received a dual chamber pacemaker.',\n",
    "    'NLI2: Young students are playing musical instruments in an orchestra. #Generate entailment',\n",
    "    'NLI2: Young students are playing musical instruments in an orchestra. #Generate contradiction',\n",
    "    'NLI2: Young students are playing musical instruments in an orchestra. #Generate neutral',\n",
    "    'NLI1: need to break out the bicycle too get that down and start to ride around #Hypothesis: The bicycle is still new but I will start riding it.',\n",
    "    'NLI1: Lung volumes are low. #Hypothesis: The lungs are clear.',\n",
    "    'NLI2: Lung volumes are low. #Generate entailment',\n",
    "    'NLI2: Lung volumes are low. #Generate contradiction',\n",
    "    'NLI2: Lung volumes are low. #Generate neutral',\n",
    "    'NLI1: right PICC tip remains in standard position. #Hypothesis: diffuse parenchymal changes',\n",
    "    'NLI1: There are mild degenerative changes of the thoracic spine. #Hypothesis: osteophyte',\n",
    "    'NLI2: There are mild degenerative changes of the thoracic spine. #Generate contradiction',\n",
    "    'NLI2: There are mild degenerative changes of the thoracic spine. #Generate entailment',\n",
    "    'NLI2: There are mild degenerative changes of the thoracic spine. #Generate neutral',\n",
    "    'MLM: No other [tok1] suggestive of a pulmonary infiltrate is identified .',\n",
    "    'MLM: In this [tok1] case , the buyers [tok2] to Las Vegas to purchase the goods rather than having them shipped out of the city , but the economics are the same .',\n",
    "    'MLM: If the request [tok1] only one House , [tok2] will work with the requester to seek support for the [tok3] from either ( 1 ) the senior leaders of the affected House or',\n",
    "    'MLM: A vague rounded opacity in the right base is [tok1] with a nipple [tok2] .',\n",
    "    'MLM: mild mediastinal [tok1] likely related to [tok2] lung volumes',\n",
    "    'MLM: The person speaking [tok1] a lot about the [tok2] music should be performed .',\n",
    "    'MLM: [tok1] Junction is a railroad in North Carolina .',\n",
    "    'MLM: The person is [tok1]',\n",
    "    'MLM: FRONTAL SEMI-SUPINE [tok1] CHEST : The endotracheal tube ends 4.1 [tok2] above the carina .',\n",
    "    'MLM: minor [tok1] of the right middle [tok2] in a lateral direction',\n",
    "    'MLM: The boat is a [tok1] car for after the robbery',\n",
    "]\n",
    "output_texts = load_and_run_seq2seq_model_in_inference_mode(\n",
    "#     input_text=\"\"\"PA and lateral upright chest radiographs were reviewed in comparison to . Heart size is top normal, stable. Tortuous aorta is redemonstrated, unchanged. Minimal amount of left basal atelectasis is noted associated with small amount of pleural effusion. Nodular opacity projecting over the first rib is redemonstrated and not clearly seen on the prior studies from , thus correlation with cross-sectional imaging is recommended. Right basal opacity appears to be more pronounced than on the prior study and might reflect atelectasis, but right lower lobe infection is a possibility especially given the patient's described history.\"\"\",\n",
    "    input_text=input_texts,\n",
    "#     model_folder_path='/mnt/data/pamessina/workspaces/medvqa-workspace/models/seq2seq/20230615_110019_report2sentences(gpt-3.5-turbo_parsed_repo;gpt-4-0613_parsed_reports)_Seq2Seq(facebook-bart-base)',\n",
    "#     model_folder_path='/mnt/data/pamessina/workspaces/medvqa-workspace/models/seq2seq/20231226_233457_multitask(s2f+f2m+f2c+s2co+s2cal+nli)_Seq2Seq(t5-small)',\n",
    "#     model_folder_path='/mnt/data/pamessina/workspaces/medvqa-workspace/models/seq2seq/20231227_013137_multitask(s2f+f2m+f2c+s2co+s2cal+nli)_Seq2Seq(t5-small)',\n",
    "#     model_folder_path='/mnt/data/pamessina/workspaces/medvqa-workspace/models/seq2seq/20231231_145653_multitask(s2f+f2m+f2c+s2co+s2cal+nli)_Seq2Seq(t5-small)',\n",
    "#     model_folder_path='/mnt/data/pamessina/workspaces/medvqa-workspace/models/seq2seq/20240101_135046_multitask(s2f+f2m+f2c+s2co+s2cal+nli+mlm)_Seq2Seq(t5-small)',\n",
    "#     model_folder_path='/mnt/data/pamessina/workspaces/medvqa-workspace/models/seq2seq/20240101_222821_multitask(s2f+f2m+f2c+s2co+s2cal+nli+mlm)_Seq2Seq(t5-small)',\n",
    "#     model_folder_path='/mnt/data/pamessina/workspaces/medvqa-workspace/models/seq2seq/20240105_123953_multitask(s2f+f2m+f2c+s2co+s2cal+nli+mlm)_Seq2Seq(t5-small)',\n",
    "#     model_folder_path='/mnt/data/pamessina/workspaces/medvqa-workspace/models/seq2seq/20240105_180720_multitask(s2f+f2m+f2c+s2co+s2cal+nli+mlm)_Seq2Seq(t5-small)',\n",
    "#     model_folder_path='/mnt/data/pamessina/workspaces/medvqa-workspace/models/seq2seq/20240106_002348_multitask(s2f+f2m+f2c+s2co+s2cal+nli+mlm)_Seq2Seq(t5-small)',\n",
    "    model_folder_path='/mnt/data/pamessina/workspaces/medvqa-workspace/models/seq2seq/20240116_111115_multitask(s2f+f2m+f2c+s2co+s2cal+nli+mlm)_Seq2Seq(t5-small)',\n",
    "    max_output_length=200,\n",
    "    num_beams=1,\n",
    "    use_amp=False,\n",
    "    device='GPU',\n",
    ")\n",
    "for i, o in zip(input_texts, output_texts):\n",
    "    print(i)\n",
    "    print(o)\n",
    "    print()"
   ]
  },
  {
   "cell_type": "code",
   "execution_count": 47,
   "id": "3cef8a4d",
   "metadata": {},
   "outputs": [
    {
     "name": "stdout",
     "output_type": "stream",
     "text": [
      "[2 2 4 1 1 5 5 1]\n"
     ]
    },
    {
     "data": {
      "text/plain": [
       "[[3, 4, 7], [0, 1], [2], [5, 6]]"
      ]
     },
     "execution_count": 47,
     "metadata": {},
     "output_type": "execute_result"
    }
   ],
   "source": [
    "import numpy as np\n",
    "\n",
    "def assign_bins(scores, num_bins):\n",
    "    # Create bins and assign scores to bins\n",
    "    bin_edges = np.linspace(min(scores), max(scores), num_bins + 1)\n",
    "    score_bins = np.digitize(scores, bin_edges[:-1])\n",
    "\n",
    "    return score_bins\n",
    "\n",
    "def group_indices_into_bins_by_score(scores, num_bins):\n",
    "    assert len(scores) > 0\n",
    "    bin_edges = np.linspace(min(scores), max(scores), num_bins + 1)\n",
    "    score_bins = np.digitize(scores, bin_edges[:-1])\n",
    "    bin_indices = [[] for _ in range(num_bins)]\n",
    "    for i, bin_idx in enumerate(score_bins):\n",
    "        bin_indices[bin_idx-1].append(i)\n",
    "    bin_indices = [x for x in bin_indices if len(x) > 0]\n",
    "    assert sum(len(x) for x in bin_indices) == len(scores)\n",
    "    return bin_indices\n",
    "\n",
    "# Example usage:\n",
    "scores = [2.5, 3.0, 5.5, 1.0, 2.0, 7.5, 8.0, 1.5]\n",
    "num_bins = 5\n",
    "bin_indexes = assign_bins(scores, num_bins)\n",
    "\n",
    "print(bin_indexes)\n",
    "\n",
    "group_indices_into_bins_by_score(scores, num_bins)"
   ]
  },
  {
   "cell_type": "code",
   "execution_count": 43,
   "id": "b0452783",
   "metadata": {},
   "outputs": [
    {
     "data": {
      "text/plain": [
       "['Heart size is top normal, stable.',\n",
       " 'Tortuous aorta is redemonstrated, unchanged.',\n",
       " 'Minimal amount of left basal atelectasis is noted associated with small amount of pleural effusion.',\n",
       " 'Nodular opacity projecting over the first rib is redemonstrated and not clearly seen on the prior studies from , thus correlation with cross-sectional imaging is recommended.',\n",
       " \"Right basal opacity appears to be more pronounced than on the prior study and might reflect atelectasis, but right lower lobe infection is a possibility especially given the patient's described history.\"]"
      ]
     },
     "execution_count": 43,
     "metadata": {},
     "output_type": "execute_result"
    }
   ],
   "source": [
    "from pprint import pprint\n",
    "from nltk import sent_tokenize\n",
    "sent_tokenize(\"\"\"Heart size is top normal, stable. Tortuous aorta is redemonstrated, unchanged. Minimal amount of left basal atelectasis is noted associated with small amount of pleural effusion. Nodular opacity projecting over the first rib is redemonstrated and not clearly seen on the prior studies from , thus correlation with cross-sectional imaging is recommended. Right basal opacity appears to be more pronounced than on the prior study and might reflect atelectasis, but right lower lobe infection is a possibility especially given the patient's described history.\"\"\")"
   ]
  },
  {
   "cell_type": "code",
   "execution_count": 3,
   "id": "2f5c55e8",
   "metadata": {},
   "outputs": [],
   "source": [
    "from medvqa.utils.files import load_json\n",
    "from medvqa.datasets.mimiccxr import MIMICCXR_CACHE_DIR\n",
    "import os\n",
    "reports = load_json(os.path.join(MIMICCXR_CACHE_DIR, 'background_findings_and_impression_20230612_174143.json'))"
   ]
  },
  {
   "cell_type": "code",
   "execution_count": 4,
   "id": "540e6ecc",
   "metadata": {},
   "outputs": [
    {
     "data": {
      "text/plain": [
       "{'background': 'clinical indication: -year-old with prostate cancer, increasing white count, question pneumonia.',\n",
       " 'findings': '1. The heart remains enlarged. Mediastinal contours are unremarkable. The aorta is unfolded and tortuous. Lungs are well inflated without evidence of focal airspace consolidation to suggest pneumonia. No pleural effusions or pneumothorax. No evidence of pulmonary edema. Mild eventration of the right hemidiaphragm.',\n",
       " 'impression': '',\n",
       " 'path': '/mnt/data/mimic-cxr/files/p19/p19737741/s57411352.txt'}"
      ]
     },
     "execution_count": 4,
     "metadata": {},
     "output_type": "execute_result"
    }
   ],
   "source": [
    "reports[-10]"
   ]
  },
  {
   "cell_type": "code",
   "execution_count": 50,
   "id": "03aa80b6",
   "metadata": {},
   "outputs": [],
   "source": [
    "from medvqa.utils.files import load_jsonl"
   ]
  },
  {
   "cell_type": "code",
   "execution_count": 61,
   "id": "f6df60ab",
   "metadata": {},
   "outputs": [],
   "source": [
    "parsed_sentences = load_jsonl(\"/home/pamessina/medvqa-workspace/cache/mimiccxr/openai/gpt-3.5-turbo_parsed_sentences.jsonl\")"
   ]
  },
  {
   "cell_type": "code",
   "execution_count": 5,
   "id": "d5c7966d",
   "metadata": {},
   "outputs": [],
   "source": [
    "%matplotlib inline"
   ]
  },
  {
   "cell_type": "code",
   "execution_count": 63,
   "id": "de71dbe8",
   "metadata": {},
   "outputs": [
    {
     "data": {
      "text/plain": [
       "9297"
      ]
     },
     "execution_count": 63,
     "metadata": {},
     "output_type": "execute_result"
    }
   ],
   "source": [
    "len(parsed_sentences)"
   ]
  },
  {
   "cell_type": "code",
   "execution_count": 62,
   "id": "9c2c67a7",
   "metadata": {},
   "outputs": [
    {
     "data": {
      "text/plain": [
       "Counter({0: 1101,\n",
       "         2: 1834,\n",
       "         4: 2003,\n",
       "         5: 864,\n",
       "         6: 329,\n",
       "         7: 107,\n",
       "         3: 2691,\n",
       "         8: 42,\n",
       "         11: 4,\n",
       "         10: 9,\n",
       "         9: 18,\n",
       "         12: 1,\n",
       "         1: 293,\n",
       "         16: 1})"
      ]
     },
     "execution_count": 62,
     "metadata": {},
     "output_type": "execute_result"
    }
   ],
   "source": [
    "from collections import Counter\n",
    "Counter([len(x['parsed_response']) for x in parsed_sentences])"
   ]
  },
  {
   "cell_type": "code",
   "execution_count": 43,
   "id": "2ba7ffd1",
   "metadata": {},
   "outputs": [
    {
     "data": {
      "text/plain": [
       "['Heart size is top normal, stable.',\n",
       " 'Tortuous aorta is redemonstrated, unchanged.',\n",
       " 'Minimal amount of left basal atelectasis is noted associated with small amount of pleural effusion.',\n",
       " 'Nodular opacity projecting over the first rib is redemonstrated and not clearly seen on the prior studies from , thus correlation with cross-sectional imaging is recommended.',\n",
       " \"Right basal opacity appears to be more pronounced than on the prior study and might reflect atelectasis, but right lower lobe infection is a possibility especially given the patient's described history.\"]"
      ]
     },
     "execution_count": 43,
     "metadata": {},
     "output_type": "execute_result"
    }
   ],
   "source": [
    "from pprint import pprint\n",
    "from nltk import sent_tokenize\n",
    "sent_tokenize(\"\"\"Heart size is top normal, stable. Tortuous aorta is redemonstrated, unchanged. Minimal amount of left basal atelectasis is noted associated with small amount of pleural effusion. Nodular opacity projecting over the first rib is redemonstrated and not clearly seen on the prior studies from , thus correlation with cross-sectional imaging is recommended. Right basal opacity appears to be more pronounced than on the prior study and might reflect atelectasis, but right lower lobe infection is a possibility especially given the patient's described history.\"\"\")"
   ]
  },
  {
   "cell_type": "code",
   "execution_count": 75,
   "id": "c148beb4",
   "metadata": {},
   "outputs": [
    {
     "data": {
      "text/plain": [
       "['The heart size is normal.',\n",
       " 'The hilar mediastinal contours are normal.',\n",
       " 'No focal consolidations concerning for pneumonia are identified.',\n",
       " 'There is no pleural effusion or pneumothorax.',\n",
       " 'Mild eventration of the right hemidiaphragm is stable.',\n",
       " 'No acute intrathoracic abnormalities identified.']"
      ]
     },
     "execution_count": 75,
     "metadata": {},
     "output_type": "execute_result"
    }
   ],
   "source": [
    "x = -11\n",
    "sent_tokenize(reports[x]['findings'] + \" \"+ reports[x]['impression'])"
   ]
  },
  {
   "cell_type": "code",
   "execution_count": null,
   "id": "f32b6d33",
   "metadata": {},
   "outputs": [],
   "source": [
    "        \"\"\"In comparison with the study of , there is continued and possibly increasing opacification at the bases, consistent with pleural effusion and compressive atelectasis.\"\"\",\n",
    "        \"\"\"consistent with pleural effusion and compressive atelectasis.\"\"\",\n",
    "        \"\"\"WET READ VERSION #1 1:40 AM ET tube terminates approximately 5.7 cm above the carina.\"\"\",\n",
    "        \"\"\"A trace degree of fluid is seen within the right minor fissure.\"\"\",\n",
    "        \"\"\"Chain sutures and scarring in the right mid lung is related to prior wedge resection.\"\"\",\n",
    "        \"\"\"NO DEFINITIVE ABNORMALITIES SEEN EXCEPT FOR SLIGHTLY MORE INCREASED DENSITY OF THE RIGHT SUPRACLAVICULAR AREA OVER LEFT, PLEASE CORRELATE WITH PATIENT PHYSICAL EXAMINATION AND IF NEEDED CROSS-SECTIONAL EXAMINATION.\"\"\",\n",
    "        \"\"\"In particular, the extent of the known left pleural effusion, together with the associated areas of left parenchymal opacity, some of which are atelectatic and some which are postprocedural in origin, are constant.\"\"\",\n",
    "        \"\"\"The interstitium throughout the right lung is prominent\"\"\",\n",
    "        \"\"\"A sharply delineated triangular area of parenchymal consolidation is seen in the right upper lobe area laterally and posteriorly\"\"\",\n",
    "        \"\"\"Minimal bibasilar atelectasis or scarring, left greater than right.\"\"\","
   ]
  },
  {
   "cell_type": "code",
   "execution_count": 7,
   "id": "09c1812b",
   "metadata": {},
   "outputs": [],
   "source": [
    "from pprint import pprint\n",
    "import json"
   ]
  },
  {
   "cell_type": "code",
   "execution_count": 8,
   "id": "7c5a73cb",
   "metadata": {},
   "outputs": [],
   "source": [
    "import re\n",
    "_COMMA_SEPARATED_LIST_REGEX = re.compile(r'\\[\\s*(\\\".+?\\\"(\\s*,\\s*\\\".+?\\\")*)?\\s*\\]?')\n",
    "_VALID_JSON_OBJECT_CONTENT_REGEX = re.compile(r\"\\s*\\\"anatomical location\\\"\\s*:\\s*\\\"[^\\\"]*\\\"\\s*,\\s*\\\"detailed observation\\\"\\s*:\\s*\\\"[^\\\"]*\\\"\\s*,\\s*\\\"short observation\\\"\\s*:\\s*\\\"[^\\\"]*\\\"\\s*,\\s*\\\"category\\\"\\s*:\\s*\\\"[^\\\"]*\\\"\\s*,\\s*\\\"health status\\\"\\s*:\\s*\\\"[^\\\"]*\\\"\\s*,\\s*\\\"prev_study_comparison\\?\\\"\\s*:\\s*\\\"[^\\\"]*\\\"\\s*,\\s*\\\"comparison status\\\"\\s*:\\s*\\\"[^\\\"]*\\\"\\s*\")\n",
    "# # tmp = _COMMA_SEPARATED_LIST_REGEX.search(\"\"\"[   \"asdfasd\", \"asdfaddd\", \"1231231\", \"asdfas \"\"\")\n",
    "# tmp = re.search(r'\\\".+?\\\"(\\s*,\\s*\\\".+?\\\")*', \"\"\"[   \"asdfasd\"   , \"asdfaddd\"   , \"1231231\", \"asdfas \"\"\")\n",
    "# json.loads(f'[{tmp.group(0)}]')"
   ]
  },
  {
   "cell_type": "code",
   "execution_count": 4,
   "id": "6adcc74d",
   "metadata": {},
   "outputs": [],
   "source": [
    "import re\n",
    "\n",
    "def parse_facts(txt):\n",
    "    facts_str = _COMMA_SEPARATED_LIST_REGEX.search(txt).group()\n",
    "    if facts_str[-1] != ']': facts_str += ']'\n",
    "    facts = json.loads(facts_str)\n",
    "    seen = set()\n",
    "    clean_facts = []\n",
    "    for fact in facts:\n",
    "        if fact not in seen:\n",
    "            clean_facts.append(fact)\n",
    "            seen.add(fact)\n",
    "    return clean_facts\n",
    "\n",
    "def parse_metadata(txt):\n",
    "    metadata_str = _VALID_JSON_OBJECT_CONTENT_REGEX.search(txt).group()\n",
    "    metadata = json.loads(\"{\" + metadata_str + \"}\")\n",
    "    return metadata"
   ]
  },
  {
   "cell_type": "code",
   "execution_count": 10,
   "id": "e90a1138",
   "metadata": {
    "scrolled": false
   },
   "outputs": [
    {
     "name": "stdout",
     "output_type": "stream",
     "text": [
      "metadata loaded from /mnt/data/pamessina/workspaces/medvqa-workspace/models/seq2seq/20230908_232214_sentence2facts(gpt-4-06..es__v2;gpt-3.5-..es__v2;gpt-3.5-..iform);gpt-4-06..rdest);gpt-3.5-.._part1;gpt-3.5-.._part2)_Seq2Seq(t5-small)/metadata.json\n",
      "\u001b[1mdevice = \u001b[0m \u001b[1mGPU\u001b[0m\n",
      "\u001b[1mCreate model\u001b[0m\n",
      "Seq2Seq model:\n",
      "  model_name: t5-small\n",
      "\u001b[1mLoad model weights\u001b[0m\n",
      "checkpoint_names = ['checkpoint_23_s2s_loss=0.9021.pt']\n",
      "model_checkpoint_path =  /mnt/data/pamessina/workspaces/medvqa-workspace/models/seq2seq/20230908_232214_sentence2facts(gpt-4-06..es__v2;gpt-3.5-..es__v2;gpt-3.5-..iform);gpt-4-06..rdest);gpt-3.5-.._part1;gpt-3.5-.._part2)_Seq2Seq(t5-small)/checkpoint_23_s2s_loss=0.9021.pt\n",
      "\u001b[1mPrepare input text\u001b[0m\n",
      "\u001b[1mRun model in inference mode\u001b[0m\n",
      "\u001b[1mConvert ids to string\u001b[0m\n",
      "-------------\n",
      "Surgical clips are noted in the right upper abdomen.\n",
      "['surgical clips in the right upper abdomen']\n",
      "-------------\n",
      "The imaged is reversed.\n",
      "['reversed image']\n",
      "-------------\n",
      "M recently stopped coumadin(afib) p/w L>R pain,abd pain, s/p 's, cold foot s/p L pop cutdown embolectomy L fasciotomy s/p LLE angio embolectomy s/p L guillotine + L BKA // Dobhoff placement - require assistance and sequential imaging.\n",
      "['recently stopped coumadin(afib)',\n",
      " 'R pain',\n",
      " 'abd pain',\n",
      " \"s/p's\",\n",
      " 'cold foot',\n",
      " 'L pop cutdown embolectomy',\n",
      " 'L fasciotomy',\n",
      " 'LLE angio embolectomy',\n",
      " 'L guillotine + L BKA']\n",
      "-------------\n",
      "Hazy opacity at the left lung apex is consistent with postoperative blood/hematoma.\n",
      "['hazy opacity at the left lung apex',\n",
      " 'postoperative blood/hematoma at the left lung apex']\n",
      "-------------\n",
      "In comparison with the study of , there is continued and possibly increasing opacification at the bases, consistent with pleural effusion and compressive atelectasis.\n",
      "['continued opacification at the bases',\n",
      " 'increasing opacification at the bases',\n",
      " 'pleural effusion at the bases',\n",
      " 'compressive atelectasis at the bases']\n",
      "-------------\n",
      "consistent with pleural effusion and compressive atelectasis.\n",
      "['pleural effusion', 'compressive atelectasis']\n",
      "-------------\n",
      "WET READ VERSION #1 1:40 AM ET tube terminates approximately 5.7 cm above the carina.\n",
      "['ET tube terminates approximately 5.7 cm above the carina']\n",
      "-------------\n",
      "A trace degree of fluid is seen within the right minor fissure.\n",
      "['trace degree of fluid within the right minor fissure']\n",
      "-------------\n",
      "Chain sutures and scarring in the right mid lung is related to prior wedge resection.\n",
      "['chain sutures in the right mid lung',\n",
      " 'scarring in the right mid lung',\n",
      " 'prior wedge resection in the right mid lung']\n",
      "-------------\n",
      "NO DEFINITIVE ABNORMALITIES SEEN EXCEPT FOR SLIGHTLY MORE INCREASED DENSITY OF THE RIGHT SUPRACLAVICULAR AREA OVER LEFT, PLEASE CORRELATE WITH PATIENT PHYSICAL EXAMINATION AND IF NEEDED CROSS-SECTIONAL EXAMINATION.\n",
      "['no definitive abnormalities',\n",
      " 'slightly more increased density of the right supraclavicular area over left',\n",
      " 'patient physiology examination',\n",
      " 'requirement of a post-sectoral examination']\n",
      "-------------\n",
      "In particular, the extent of the known left pleural effusion, together with the associated areas of left parenchymal opacity, some of which are atelectatic and some which are postprocedural in origin, are constant.\n",
      "['extent of the known left pleural effusion',\n",
      " 'areas of left parenchymal opacity',\n",
      " 'atelectatic areas',\n",
      " 'postprocedural areas']\n",
      "-------------\n",
      "The interstitium throughout the right lung is prominent\n",
      "['prominent interstitium throughout the right lung']\n",
      "-------------\n",
      "A sharply delineated triangular area of parenchymal consolidation is seen in the right upper lobe area laterally and posteriorly\n",
      "['sharply delineated triangular area of parenchymal consolidation in the right '\n",
      " 'upper lobe area laterally',\n",
      " 'sharply delineated triangular area of parenchymal consolidation posteriorly']\n",
      "-------------\n",
      "Minimal bibasilar atelectasis or scarring, left greater than right.\n",
      "['minimal bibasilar atelectasis on the left',\n",
      " 'minimal bibasilar scarring on the right']\n",
      "-------------\n",
      "There is no evidence of mediastinal shift to the left\n",
      "['no evidence of mediastinal shift to the left']\n",
      "-------------\n",
      "Chest PA and lateral Please note that the laterality on the frontal image is mislabeled\n",
      "['mislabeled laterality on the frontal image']\n",
      "-------------\n",
      "No free air below the right hemidiaphragm\n",
      "['no free air below the right hemidiaphragm']\n",
      "-------------\n",
      "No definite signs of pneumonia.\n",
      "['no definite signs of pneumonia']\n",
      "-------------\n",
      "No large pleural effusion or pneumothorax is seen.\n",
      "['no large pleural effusion', 'no pneumothorax']\n",
      "-------------\n",
      "There is no lobar consolidation or definite signs of pneumonia.\n",
      "['no lobar consolidation', 'no definite signs of pneumonia']\n",
      "-------------\n",
      "lungs are clear except for minimal patchy atelectasis in the right infrahilar region\n",
      "['clear lungs', 'minimal patchy atelectasis in the right infrahilar region']\n",
      "-------------\n",
      "no abormality in the upper righ\n",
      "['no abormality in the upper righ']\n",
      "-------------\n",
      "one or more airspace opacities are seen\n",
      "['airspace opacities seen']\n",
      "-------------\n",
      "a device is seen\n",
      "['device seen']\n",
      "-------------\n",
      "no fracture is seen\n",
      "['no fracture seen']\n",
      "-------------\n",
      "the lungs are free of focal airspace disease\n",
      "['lungs free of focal airspace disease']\n",
      "-------------\n",
      "no pulmonary nodules or mass lesions identified\n",
      "['no pulmonary nodules identified', 'no mass lesions identified']\n",
      "-------------\n",
      "Opacity at left greater than right base is more pronounced compared to prior films and raises question of a superimposed pneumonic infiltrate, particularly at the left base.\n",
      "['opacity at left base',\n",
      " 'opacity at right base',\n",
      " 'opacity more pronounced compared to prior films',\n",
      " 'question of superimposed pneumonic infiltrate at the left base']\n",
      "-------------\n",
      "The diaphragm activity right-sided pacer obscures the right lung base.\n",
      "['diaphragm activity obscures the right lung base']\n",
      "-------------\n",
      "This line happens to overlie the the tracheal cannula and continues into the airway, passing at the carina into the right bronchial area and later on to meander in the mediastinal area.\n",
      "['line overlying the tracheal cannula',\n",
      " 'line passing at the carina into the right bronchial area',\n",
      " 'line meandering in the mediastinal area']\n"
     ]
    }
   ],
   "source": [
    "input_text = [\n",
    "   \"\"\"Surgical clips are noted in the right upper abdomen.\"\"\",\n",
    "    \"\"\"The imaged is reversed.\"\"\",\n",
    "    \"\"\"M recently stopped coumadin(afib) p/w L>R pain,abd pain, s/p 's, cold foot s/p L pop cutdown embolectomy L fasciotomy s/p LLE angio embolectomy s/p L guillotine + L BKA // Dobhoff placement - require assistance and sequential imaging.\"\"\",\n",
    "    \"\"\"Hazy opacity at the left lung apex is consistent with postoperative blood/hematoma.\"\"\",\n",
    "    \"\"\"In comparison with the study of , there is continued and possibly increasing opacification at the bases, consistent with pleural effusion and compressive atelectasis.\"\"\",\n",
    "    \"\"\"consistent with pleural effusion and compressive atelectasis.\"\"\",\n",
    "    \"\"\"WET READ VERSION #1 1:40 AM ET tube terminates approximately 5.7 cm above the carina.\"\"\",\n",
    "    \"\"\"A trace degree of fluid is seen within the right minor fissure.\"\"\",\n",
    "    \"\"\"Chain sutures and scarring in the right mid lung is related to prior wedge resection.\"\"\",\n",
    "    \"\"\"NO DEFINITIVE ABNORMALITIES SEEN EXCEPT FOR SLIGHTLY MORE INCREASED DENSITY OF THE RIGHT SUPRACLAVICULAR AREA OVER LEFT, PLEASE CORRELATE WITH PATIENT PHYSICAL EXAMINATION AND IF NEEDED CROSS-SECTIONAL EXAMINATION.\"\"\",\n",
    "    \"\"\"In particular, the extent of the known left pleural effusion, together with the associated areas of left parenchymal opacity, some of which are atelectatic and some which are postprocedural in origin, are constant.\"\"\",\n",
    "    \"\"\"The interstitium throughout the right lung is prominent\"\"\",\n",
    "    \"\"\"A sharply delineated triangular area of parenchymal consolidation is seen in the right upper lobe area laterally and posteriorly\"\"\",\n",
    "    \"\"\"Minimal bibasilar atelectasis or scarring, left greater than right.\"\"\",\n",
    "    \"\"\"There is no evidence of mediastinal shift to the left\"\"\",\n",
    "    \"\"\"Chest PA and lateral Please note that the laterality on the frontal image is mislabeled\"\"\",\n",
    "    \"\"\"No free air below the right hemidiaphragm\"\"\",\n",
    "    \"\"\"No definite signs of pneumonia.\"\"\",\n",
    "    \"\"\"No large pleural effusion or pneumothorax is seen.\"\"\",\n",
    "    \"\"\"There is no lobar consolidation or definite signs of pneumonia.\"\"\",\n",
    "    \"\"\"lungs are clear except for minimal patchy atelectasis in the right infrahilar region\"\"\",\n",
    "    \"\"\"no abormality in the upper righ\"\"\",\n",
    "    \"\"\"one or more airspace opacities are seen\"\"\",\n",
    "    \"\"\"a device is seen\"\"\",\n",
    "    \"\"\"no fracture is seen\"\"\",\n",
    "    \"\"\"the lungs are free of focal airspace disease\"\"\",\n",
    "    \"\"\"no pulmonary nodules or mass lesions identified\"\"\",\n",
    "    'Opacity at left greater than right base is more pronounced compared to prior films and raises question of a superimposed pneumonic infiltrate, particularly at the left base.',\n",
    "    'The diaphragm activity right-sided pacer obscures the right lung base.',\n",
    "    'This line happens to overlie the the tracheal cannula and continues into the airway, passing at the carina into the right bronchial area and later on to meander in the mediastinal area.',\n",
    "]\n",
    "output = load_and_run_seq2seq_model_in_inference_mode(\n",
    "    input_text=input_text,\n",
    "#     model_folder_path='/mnt/data/pamessina/workspaces/medvqa-workspace/models/seq2seq/20230615_222151_sentence2facts(gpt-3.5-..tences;gpt-4-06..tences;gpt-3.5-..tences)_Seq2Seq(t5-small)',\n",
    "#     model_checkpoint_path = '/mnt/data/pamessina/workspaces/medvqa-workspace/models/seq2seq/20230615_222151_sentence2facts(gpt-3.5-..tences;gpt-4-06..tences;gpt-3.5-..tences)_Seq2Seq(t5-small)/checkpoint_55_s2s_loss=0.8573.pt',\n",
    "#     model_folder_path = '/mnt/data/pamessina/workspaces/medvqa-workspace/models/seq2seq/20230617_201713_sentence2facts(gpt-3.5-..tences;gpt-4-06..tences;gpt-3.5-..tences)_Seq2Seq(t5-small)/',\n",
    "#     model_folder_path = '/mnt/data/pamessina/workspaces/medvqa-workspace/models/seq2seq/20230703_214202_sentence2facts(gpt-4-06..es__v2;gpt-3.5-..es__v2;gpt-3.5-..iform))_Seq2Seq(t5-small)',\n",
    "    model_folder_path = '/mnt/data/pamessina/workspaces/medvqa-workspace/models/seq2seq/20230908_232214_sentence2facts(gpt-4-06..es__v2;gpt-3.5-..es__v2;gpt-3.5-..iform);gpt-4-06..rdest);gpt-3.5-.._part1;gpt-3.5-.._part2)_Seq2Seq(t5-small)',\n",
    "    max_output_length=256,\n",
    "    num_beams=1,\n",
    "    use_amp=False,\n",
    "    device='GPU',\n",
    ")\n",
    "for x,y in zip(input_text, output):\n",
    "    print('-------------')\n",
    "    print(x)\n",
    "    pprint(parse_facts(y))"
   ]
  },
  {
   "cell_type": "code",
   "execution_count": 13,
   "id": "110a1311",
   "metadata": {
    "scrolled": true
   },
   "outputs": [
    {
     "name": "stdout",
     "output_type": "stream",
     "text": [
      "metadata loaded from /mnt/data/pamessina/workspaces/medvqa-workspace/models/seq2seq/20230707_215744_fact2metadata(gpt-3.5-..ts__v2;gpt-3.5-..=20000;gpt-3.5-..niform)_Seq2Seq(t5-small)/metadata.json\n",
      "\u001b[1mdevice = \u001b[0m \u001b[1mGPU\u001b[0m\n",
      "\u001b[1mCreate model\u001b[0m\n",
      "Seq2Seq model:\n",
      "  model_name: t5-small\n",
      "\u001b[1mLoad model weights\u001b[0m\n",
      "checkpoint_names = ['checkpoint_51_s2s_loss=0.9648.pt']\n",
      "model_checkpoint_path =  /mnt/data/pamessina/workspaces/medvqa-workspace/models/seq2seq/20230707_215744_fact2metadata(gpt-3.5-..ts__v2;gpt-3.5-..=20000;gpt-3.5-..niform)_Seq2Seq(t5-small)/checkpoint_51_s2s_loss=0.9648.pt\n",
      "\u001b[1mPrepare input text\u001b[0m\n",
      "\u001b[1mRun model in inference mode\u001b[0m\n",
      "\u001b[1mConvert ids to string\u001b[0m\n",
      "-------------\n",
      "Peripheral band-like opacities in left mid and lower lung\n",
      "{'anatomical location': 'left mid and lower lung',\n",
      " 'category': 'anatomical finding',\n",
      " 'comparison status': '',\n",
      " 'detailed observation': 'peripheral band-like opacities',\n",
      " 'health status': 'abnormal',\n",
      " 'prev_study_comparison?': 'no',\n",
      " 'short observation': 'peripheral band-like opacities'}\n",
      "-------------\n",
      "Aortic mass adjacent to the left heart border\n",
      "{'anatomical location': 'adjacent to the left heart border',\n",
      " 'category': 'anatomical finding',\n",
      " 'comparison status': '',\n",
      " 'detailed observation': 'aortic mass',\n",
      " 'health status': 'abnormal',\n",
      " 'prev_study_comparison?': 'no',\n",
      " 'short observation': 'aortic mass'}\n",
      "-------------\n",
      "Atelectasis in the lingular segment of the left lobe\n",
      "{'anatomical location': 'lingular segment of the left lobe',\n",
      " 'category': 'anatomical finding',\n",
      " 'comparison status': '',\n",
      " 'detailed observation': 'atelectasis',\n",
      " 'health status': 'abnormal',\n",
      " 'prev_study_comparison?': 'no',\n",
      " 'short observation': 'atelectasis'}\n",
      "-------------\n",
      "The doctor left the room\n",
      "{'anatomical location': '',\n",
      " 'category': 'technical assessment',\n",
      " 'comparison status': '',\n",
      " 'detailed observation': 'doctor left the room',\n",
      " 'health status': 'unknown',\n",
      " 'prev_study_comparison?': 'no',\n",
      " 'short observation': 'doctor left the room'}\n",
      "-------------\n",
      "Leads extending into the region of the right atrium\n",
      "{'anatomical location': 'right atrium',\n",
      " 'category': 'anatomical finding',\n",
      " 'comparison status': '',\n",
      " 'detailed observation': 'leads extending into the region of the right atrium',\n",
      " 'health status': 'abnormal',\n",
      " 'prev_study_comparison?': 'no',\n",
      " 'short observation': 'leads extending into right atrium'}\n",
      "-------------\n",
      "Progression of asymmetrical left perihilar opacification\n",
      "{'anatomical location': 'left perihilar',\n",
      " 'category': 'anatomical finding',\n",
      " 'comparison status': 'progression',\n",
      " 'detailed observation': 'progression of asymmetrical left perihilar '\n",
      "                         'opacification',\n",
      " 'health status': 'abnormal',\n",
      " 'prev_study_comparison?': 'yes',\n",
      " 'short observation': 'asymmetrical left perihilar opacification'}\n",
      "-------------\n",
      "Left distended stomach\n",
      "{'anatomical location': 'stomach',\n",
      " 'category': 'anatomical finding',\n",
      " 'comparison status': '',\n",
      " 'detailed observation': 'left distended stomach',\n",
      " 'health status': 'abnormal',\n",
      " 'prev_study_comparison?': 'no',\n",
      " 'short observation': 'distended stomach'}\n",
      "-------------\n",
      "Grossly large thoracic aorta\n",
      "{'anatomical location': 'thoracic aorta',\n",
      " 'category': 'anatomical finding',\n",
      " 'comparison status': '',\n",
      " 'detailed observation': 'grossly large thoracic aorta',\n",
      " 'health status': 'abnormal',\n",
      " 'prev_study_comparison?': 'no',\n",
      " 'short observation': 'large thoracic aorta'}\n",
      "-------------\n",
      "Progression of asymmetrical left perihilar opacification\n",
      "{'anatomical location': 'left perihilar',\n",
      " 'category': 'anatomical finding',\n",
      " 'comparison status': 'progression',\n",
      " 'detailed observation': 'progression of asymmetrical left perihilar '\n",
      "                         'opacification',\n",
      " 'health status': 'abnormal',\n",
      " 'prev_study_comparison?': 'yes',\n",
      " 'short observation': 'asymmetrical left perihilar opacification'}\n",
      "-------------\n",
      "Obscured left heart border by airspace process\n",
      "{'anatomical location': 'left heart border',\n",
      " 'category': 'anatomical finding',\n",
      " 'comparison status': '',\n",
      " 'detailed observation': 'obscured left heart border by airspace process',\n",
      " 'health status': 'abnormal',\n",
      " 'prev_study_comparison?': 'no',\n",
      " 'short observation': 'obscured left heart border'}\n",
      "-------------\n",
      "Generally appropriate configuration\n",
      "{'anatomical location': '',\n",
      " 'category': 'technical assessment',\n",
      " 'comparison status': '',\n",
      " 'detailed observation': 'generally appropriate configuration',\n",
      " 'health status': 'normal',\n",
      " 'prev_study_comparison?': 'no',\n",
      " 'short observation': 'appropriate configuration'}\n",
      "-------------\n",
      "Upper thoracic trachea\n",
      "{'anatomical location': 'upper thoracic',\n",
      " 'category': 'anatomical finding',\n",
      " 'comparison status': '',\n",
      " 'detailed observation': 'trachea',\n",
      " 'health status': 'abnormal',\n",
      " 'prev_study_comparison?': 'no',\n",
      " 'short observation': 'trachea'}\n",
      "-------------\n",
      "Engorgement of pulmonary vascular congestion\n",
      "{'anatomical location': 'pulmonary',\n",
      " 'category': 'anatomical finding',\n",
      " 'comparison status': '',\n",
      " 'detailed observation': 'engorgement of pulmonary vascular congestion',\n",
      " 'health status': 'abnormal',\n",
      " 'prev_study_comparison?': 'no',\n",
      " 'short observation': 'pulmonary vascular congestion'}\n",
      "-------------\n",
      "Radioopaque material\n",
      "{'anatomical location': '',\n",
      " 'category': 'anatomical finding',\n",
      " 'comparison status': '',\n",
      " 'detailed observation': 'radioopaque material',\n",
      " 'health status': 'abnormal',\n",
      " 'prev_study_comparison?': 'no',\n",
      " 'short observation': 'radioopaque material'}\n",
      "-------------\n",
      "Tip of chest tube at the level of top of aorta\n",
      "{'anatomical location': 'level of top of aorta',\n",
      " 'category': 'tubes and lines',\n",
      " 'comparison status': '',\n",
      " 'detailed observation': 'tip of chest tube',\n",
      " 'health status': 'unknown',\n",
      " 'prev_study_comparison?': 'no',\n",
      " 'short observation': 'chest tube tip'}\n",
      "-------------\n",
      "2 leads in the expected location of the right ventricle\n",
      "{'anatomical location': 'right ventricle',\n",
      " 'category': 'device',\n",
      " 'comparison status': '',\n",
      " 'detailed observation': '2 leads in the expected location of the right '\n",
      "                         'ventricle',\n",
      " 'health status': 'unknown',\n",
      " 'prev_study_comparison?': 'no',\n",
      " 'short observation': '2 leads in right ventricle'}\n",
      "-------------\n",
      "Residual right internal jugular catheter\n",
      "{'anatomical location': 'right internal jugular',\n",
      " 'category': 'tubes and lines',\n",
      " 'comparison status': '',\n",
      " 'detailed observation': 'residual catheter',\n",
      " 'health status': 'unknown',\n",
      " 'prev_study_comparison?': 'no',\n",
      " 'short observation': 'catheter'}\n",
      "-------------\n",
      "Correlation with cross-sectional imaging (chest CT)\n",
      "{'anatomical location': '',\n",
      " 'category': 'technical assessment',\n",
      " 'comparison status': '',\n",
      " 'detailed observation': 'correlation with cross-sectional imaging (chest CT)',\n",
      " 'health status': 'unknown',\n",
      " 'prev_study_comparison?': 'no',\n",
      " 'short observation': 'correlation with cross-sectional imaging'}\n",
      "-------------\n",
      "Right greater than left infrahilar opacities\n",
      "{'anatomical location': 'infrahilar',\n",
      " 'category': 'anatomical finding',\n",
      " 'comparison status': '',\n",
      " 'detailed observation': 'right greater than left infrahilar opacities',\n",
      " 'health status': 'abnormal',\n",
      " 'prev_study_comparison?': 'no',\n",
      " 'short observation': 'infrahilar opacities'}\n"
     ]
    }
   ],
   "source": [
    "input_text = [\n",
    "    \"\"\"Peripheral band-like opacities in left mid and lower lung\"\"\",\n",
    "    \"\"\"Aortic mass adjacent to the left heart border\"\"\",\n",
    "    \"\"\"Atelectasis in the lingular segment of the left lobe\"\"\",\n",
    "    \"\"\"The doctor left the room\"\"\",\n",
    "    \n",
    "    \"\"\"Leads extending into the region of the right atrium\"\"\",\n",
    "    \"\"\"Progression of asymmetrical left perihilar opacification\"\"\",\n",
    "    \"\"\"Left distended stomach\"\"\",\n",
    "    \"\"\"Grossly large thoracic aorta\"\"\",\n",
    "    \"\"\"Progression of asymmetrical left perihilar opacification\"\"\",\n",
    "    \"\"\"Obscured left heart border by airspace process\"\"\",\n",
    "    \n",
    "    'Generally appropriate configuration',\n",
    "     'Upper thoracic trachea',\n",
    "     'Engorgement of pulmonary vascular congestion',\n",
    "     'Radioopaque material',\n",
    "     'Tip of chest tube at the level of top of aorta',\n",
    "     '2 leads in the expected location of the right ventricle',\n",
    "     'Residual right internal jugular catheter',\n",
    "     'Correlation with cross-sectional imaging (chest CT)',\n",
    "     'Right greater than left infrahilar opacities'\n",
    "]\n",
    "output = load_and_run_seq2seq_model_in_inference_mode(\n",
    "    input_text=input_text,\n",
    "    model_folder_path = '/mnt/data/pamessina/workspaces/medvqa-workspace/models/seq2seq/20230707_215744_fact2metadata(gpt-3.5-..ts__v2;gpt-3.5-..=20000;gpt-3.5-..niform)_Seq2Seq(t5-small)',\n",
    "    max_output_length=256,\n",
    "    num_beams=1,\n",
    "    use_amp=False,\n",
    "    device='GPU',\n",
    ")\n",
    "for x,y in zip(input_text, output):\n",
    "    print('-------------')\n",
    "    print(x)\n",
    "#     print(y)\n",
    "    pprint(parse_metadata(y))"
   ]
  },
  {
   "cell_type": "code",
   "execution_count": 15,
   "id": "53fdf748",
   "metadata": {
    "scrolled": false
   },
   "outputs": [
    {
     "name": "stdout",
     "output_type": "stream",
     "text": [
      "metadata loaded from /mnt/data/pamessina/workspaces/medvqa-workspace/models/seq2seq/20230913_084846_sentence2chestimagenome_observations(gpt-4-06..ficult;gpt-3.5-..t=5000;gpt-3.5-..__1of2;gpt-3.5-..__2of2;gpt-3.5-..-part1;gpt-3.5-..-part2;gpt-3.5-..-part3)_Seq2Seq(t5-small)/metadata.json\n",
      "\u001b[1mdevice = \u001b[0m \u001b[1mGPU\u001b[0m\n",
      "\u001b[1mCreate model\u001b[0m\n",
      "Seq2Seq model:\n",
      "  model_name: t5-small\n",
      "\u001b[1mLoad model weights\u001b[0m\n",
      "checkpoint_names = ['checkpoint_486_s2s_loss=0.9703.pt']\n",
      "model_checkpoint_path =  /mnt/data/pamessina/workspaces/medvqa-workspace/models/seq2seq/20230913_084846_sentence2chestimagenome_observations(gpt-4-06..ficult;gpt-3.5-..t=5000;gpt-3.5-..__1of2;gpt-3.5-..__2of2;gpt-3.5-..-part1;gpt-3.5-..-part2;gpt-3.5-..-part3)_Seq2Seq(t5-small)/checkpoint_486_s2s_loss=0.9703.pt\n",
      "\u001b[1mPrepare input text\u001b[0m\n",
      "\u001b[1mRun model in inference mode\u001b[0m\n",
      "\u001b[1mConvert ids to string\u001b[0m\n",
      "-------------\n",
      "Peripheral band-like opacities in left mid and lower lung\n",
      "[\"increased reticular markings/ild pattern\"]\n",
      "-------------\n",
      "Aortic mass adjacent to the left heart border\n",
      "[\"mediastinal widening\", \"tortuous aorta\"]\n",
      "-------------\n",
      "Atelectasis in the lingular segment of the left lobe\n",
      "[\"atelectasis\"]\n",
      "-------------\n",
      "The doctor left the room\n",
      "[]\n",
      "-------------\n",
      "Leads extending into the region of the right atrium\n",
      "[\"cardiac pacer and wires\"]\n",
      "-------------\n",
      "Progression of asymmetrical left perihilar opacification\n",
      "[\"lung opacity\"]\n",
      "-------------\n",
      "Left distended stomach\n",
      "[]\n",
      "-------------\n",
      "Grossly large thoracic aorta\n",
      "[\"tortuous aorta\"]\n",
      "-------------\n",
      "Progression of asymmetrical left perihilar opacification\n",
      "[\"lung opacity\"]\n",
      "-------------\n",
      "Obscured left heart border by airspace process\n",
      "[\"enlarged cardiac silhouette\", \"airspace opacity\"]\n",
      "-------------\n",
      "Generally appropriate configuration\n",
      "[]\n",
      "-------------\n",
      "Upper thoracic trachea\n",
      "[\"superior mediastinal mass/enlargement\"]\n",
      "-------------\n",
      "Engorgement of pulmonary vascular congestion\n",
      "[\"vascular congestion\"]\n",
      "-------------\n",
      "Radioopaque material\n",
      "[\"artifact\"]\n",
      "-------------\n",
      "Tip of chest tube at the level of top of aorta\n",
      "[\"chest tube\"]\n",
      "-------------\n",
      "2 leads in the expected location of the right ventricle\n",
      "[\"cardiac pacer and wires\"]\n",
      "-------------\n",
      "Residual right internal jugular catheter\n",
      "[\"ij line\"]\n",
      "-------------\n",
      "Correlation with cross-sectional imaging (chest CT)\n",
      "[]\n",
      "-------------\n",
      "Right greater than left infrahilar opacities\n",
      "[\"lung opacity\"]\n",
      "-------------\n",
      "Heart larger compared to previus\n",
      "[\"enlarged cardiac silhouette\"]\n",
      "-------------\n",
      "right pleural effusion similar in size\n",
      "[\"pleural effusion\"]\n",
      "-------------\n",
      "pleural density on the left is somewhat increased\n",
      "[\"pleural effusion\"]\n",
      "-------------\n",
      "new bibasal consolidations on the left\n",
      "[\"consolidation\"]\n",
      "-------------\n",
      "small foci of opacity in the left mid lung\n",
      "[\"lung opacity\"]\n",
      "-------------\n",
      "no ill-definition of right hemidiaphragm\n",
      "[\"elevated hemidiaphragm\"]\n",
      "-------------\n",
      "heart within upper limits of normal in size\n",
      "[]\n",
      "-------------\n",
      "no significant change in size of pneumothorax\n",
      "[\"pneumothorax\"]\n",
      "-------------\n",
      "osteoporosis worsening in a debilitated and wheelchair-bound patient\n",
      "[\"bone lesion\"]\n",
      "-------------\n",
      "osteoporosis worsening in a debilitated and wheelchair-bound patient compared\n",
      "[\"bone lesion\"]\n",
      "-------------\n",
      "worsening of osteoporosis\n",
      "[\"bone lesion\"]\n",
      "-------------\n",
      "the size of the tumor is roughly the same\n",
      "[\"mass/nodule (not otherwise specified)\"]\n",
      "-------------\n",
      "no cardiomegaly\n",
      "[]\n",
      "-------------\n",
      "Progression of asymmetrical left perihilar opacification\n",
      "[\"lung opacity\"]\n",
      "-------------\n",
      "right carotid artery branching spot\n",
      "[\"vascular calcification\"]\n",
      "-------------\n",
      "eliminate acute lung pathology\n",
      "[\"interstitial lung disease\"]\n",
      "-------------\n",
      "focal area of abnormality\n",
      "[\"mass/nodule (not otherwise specified)\", \"lung lesion\", \"lung cancer\"]\n",
      "-------------\n",
      "focal parenchymal abnormality\n",
      "[\"increased reticular markings/ild pattern\", \"interstitial lung disease\"]\n",
      "-------------\n",
      "fracture of the left clavicle\n",
      "[\"clavicle fracture\"]\n",
      "-------------\n",
      "There is no change in the cardiomegaly and central pulmonary vascular congestion but there appears to be less interstitial prominence likely reflecting resolution of interstitial edema.\n",
      "[\"enlarged cardiac silhouette\", \"enlarged hilum\"]\n",
      "-------------\n",
      "A left-sided PICC likely terminates at the superior cavoatrial junction.\n",
      "[\"picc\"]\n",
      "-------------\n",
      "anterior wedge deformity\n",
      "[\"spinal fracture\"]\n",
      "-------------\n",
      "potential presence of the right central venous line tip in a proximal right atrium\n",
      "[\"ij line\"]\n",
      "-------------\n",
      "moderate-to-severe scoliosis centered along the thoracolumbar junction\n",
      "[\"scoliosis\"]\n",
      "-------------\n",
      "Dialysis catheter resides over the right chest wall with right IJ insertion and catheter tip in the low SVC near the cavoatrial junction.\n",
      "[\"ij line\"]\n",
      "-------------\n",
      "PA and lateral upright chest radiograph was reviewed in comparison to and CT torso from .\n",
      "[]\n",
      "-------------\n",
      "The large right perihilar consolidation with surrounding ground glass has substantially improved in the interim.\n",
      "[\"consolidation\", \"lung opacity\"]\n",
      "-------------\n",
      "Small amount of right pleural effusion cannot be excluded, might be secondary to the infection.\n",
      "[\"lung opacity\", \"pleural effusion\"]\n",
      "-------------\n",
      "Opacity at left greater than right base is more pronounced compared to prior films and raises question of a superimposed pneumonic infiltrate, particularly at the left base.\n",
      "[\"infiltration\", \"lung opacity\", \"pneumonia\"]\n",
      "-------------\n",
      "unchanged findings of hilar lesion\n",
      "[\"lung lesion\"]\n",
      "-------------\n",
      "favoring atelectasis over infectious pneumonia\n",
      "[\"atelectasis\", \"pneumonia\"]\n",
      "-------------\n",
      "chronic deformity at left posterior 4, 5,\n",
      "[\"spinal fracture\"]\n",
      "-------------\n",
      "suggestion that some of the lung nodules in the right lung may be slightly smaller\n",
      "[\"lung lesion\", \"mass/nodule (not otherwise specified)\"]\n",
      "-------------\n",
      "compared to the only prior chest radiograph: :52\n",
      "[]\n",
      "-------------\n",
      "new slight thickening of the left paravertebral stripe at the level of a previously identified mild T8 vertebral body compression deformity\n",
      "[\"spinal fracture\"]\n",
      "-------------\n",
      "density overlying the crossing between the posterior portion of the sixth left rib and that of the anterior portion of the fourth left ribs\n",
      "[\"rib fracture\"]\n",
      "-------------\n",
      "tip of the intra-aortic catheter pump is midway between the upper margin of the left main bronchus and the apex of the aortic arch\n",
      "[\"intra-aortic balloon pump\"]\n",
      "-------------\n",
      "similar \"water bottle\" configuration to the cardiac silhouette\n",
      "[\"artifact\", \"fluid overload/heart failure\"]\n",
      "-------------\n",
      "aortic \"nipple\" from traversing left superior intercostal vein\n",
      "[\"aortic graft/repair\", \"breast/nipple shadows\"]\n",
      "-------------\n",
      "wedge compression fracture in T8\n",
      "[\"spinal fracture\"]\n",
      "-------------\n",
      "coarse interstitial infiltrates\n",
      "[\"increased reticular markings/ild pattern\", \"infiltration\"]\n",
      "-------------\n",
      "greatest degree of suspected involvement\n",
      "[\"mass/nodule (not otherwise specified)\"]\n",
      "-------------\n",
      "multiple monitoring devices constant\n",
      "[]\n",
      "-------------\n",
      "large central mediastinal mass in the aortopulmonic window\n",
      "[\"mediastinal widening\", \"superior mediastinal mass/enlargement\"]\n",
      "-------------\n",
      "Linear lucency along the left mediastinum, and possibly along the left aspect of the cardiac silhouette raises concern for pneumomediastinum.\n",
      "[\"pneumomediastinum\"]\n"
     ]
    }
   ],
   "source": [
    "input_text = [\n",
    "    \"\"\"Peripheral band-like opacities in left mid and lower lung\"\"\",\n",
    "    \"\"\"Aortic mass adjacent to the left heart border\"\"\",\n",
    "    \"\"\"Atelectasis in the lingular segment of the left lobe\"\"\",\n",
    "    \"\"\"The doctor left the room\"\"\",\n",
    "    \n",
    "    \"\"\"Leads extending into the region of the right atrium\"\"\",\n",
    "    \"\"\"Progression of asymmetrical left perihilar opacification\"\"\",\n",
    "    \"\"\"Left distended stomach\"\"\",\n",
    "    \"\"\"Grossly large thoracic aorta\"\"\",\n",
    "    \"\"\"Progression of asymmetrical left perihilar opacification\"\"\",\n",
    "    \"\"\"Obscured left heart border by airspace process\"\"\",\n",
    "    \n",
    "    'Generally appropriate configuration',\n",
    "     'Upper thoracic trachea',\n",
    "     'Engorgement of pulmonary vascular congestion',\n",
    "     'Radioopaque material',\n",
    "     'Tip of chest tube at the level of top of aorta',\n",
    "     '2 leads in the expected location of the right ventricle',\n",
    "     'Residual right internal jugular catheter',\n",
    "     'Correlation with cross-sectional imaging (chest CT)',\n",
    "     'Right greater than left infrahilar opacities',\n",
    "    'Heart larger compared to previus',\n",
    "    'right pleural effusion similar in size',\n",
    "    'pleural density on the left is somewhat increased',\n",
    "    'new bibasal consolidations on the left',\n",
    "    'small foci of opacity in the left mid lung',\n",
    "    'no ill-definition of right hemidiaphragm',\n",
    "    'heart within upper limits of normal in size',\n",
    "    'no significant change in size of pneumothorax',\n",
    "    'osteoporosis worsening in a debilitated and wheelchair-bound patient',\n",
    "    'osteoporosis worsening in a debilitated and wheelchair-bound patient compared',\n",
    "    'worsening of osteoporosis',\n",
    "    'the size of the tumor is roughly the same',\n",
    "    'no cardiomegaly',\n",
    "    'Progression of asymmetrical left perihilar opacification',\n",
    "    'right carotid artery branching spot',\n",
    "    'eliminate acute lung pathology',\n",
    "    'focal area of abnormality',\n",
    "    'focal parenchymal abnormality',\n",
    "    'fracture of the left clavicle',\n",
    "    'There is no change in the cardiomegaly and central pulmonary vascular congestion but there appears to be less interstitial prominence likely reflecting resolution of interstitial edema.',\n",
    "    'A left-sided PICC likely terminates at the superior cavoatrial junction.',\n",
    "    'anterior wedge deformity',\n",
    "    'potential presence of the right central venous line tip in a proximal right atrium',\n",
    "    'moderate-to-severe scoliosis centered along the thoracolumbar junction',\n",
    "    'Dialysis catheter resides over the right chest wall with right IJ insertion and catheter tip in the low SVC near the cavoatrial junction.',\n",
    "    'PA and lateral upright chest radiograph was reviewed in comparison to and CT torso from .',\n",
    "    'The large right perihilar consolidation with surrounding ground glass has substantially improved in the interim.',\n",
    "    'Small amount of right pleural effusion cannot be excluded, might be secondary to the infection.',\n",
    "    'Opacity at left greater than right base is more pronounced compared to prior films and raises question of a superimposed pneumonic infiltrate, particularly at the left base.',\n",
    "    'unchanged findings of hilar lesion',\n",
    "    'favoring atelectasis over infectious pneumonia',\n",
    "     'chronic deformity at left posterior 4, 5,',\n",
    "     'suggestion that some of the lung nodules in the right lung may be slightly smaller',\n",
    "     'compared to the only prior chest radiograph: :52',\n",
    "     'new slight thickening of the left paravertebral stripe at the level of a previously identified mild T8 vertebral body compression deformity',\n",
    "     'density overlying the crossing between the posterior portion of the sixth left rib and that of the anterior portion of the fourth left ribs',\n",
    "     'tip of the intra-aortic catheter pump is midway between the upper margin of the left main bronchus and the apex of the aortic arch',\n",
    "     'similar \"water bottle\" configuration to the cardiac silhouette',\n",
    "     'aortic \"nipple\" from traversing left superior intercostal vein',\n",
    "     'wedge compression fracture in T8',\n",
    "    'coarse interstitial infiltrates',\n",
    "    'greatest degree of suspected involvement',\n",
    "    'multiple monitoring devices constant',\n",
    "    'large central mediastinal mass in the aortopulmonic window',\n",
    "    'Linear lucency along the left mediastinum, and possibly along the left aspect of the cardiac silhouette raises concern for pneumomediastinum.',\n",
    "]\n",
    "output = load_and_run_seq2seq_model_in_inference_mode(\n",
    "    input_text=input_text,\n",
    "#     model_folder_path = '/mnt/data/pamessina/workspaces/medvqa-workspace/models/seq2seq/20230717_145334_fact2comparison(gpt-3.5-.._part1;gpt-3.5-.._part2)_Seq2Seq(t5-small)',\n",
    "#     model_folder_path = '/mnt/data/pamessina/workspaces/medvqa-workspace/models/seq2seq/20230717_161407_fact2comparison(gpt-3.5-.._part1;gpt-3.5-.._part2)_Seq2Seq(t5-small)',\n",
    "#      model_folder_path = '/mnt/data/pamessina/workspaces/medvqa-workspace/models/seq2seq/20230718_103406_fact2comparison(gpt-3.5-.._part1;gpt-3.5-.._part2)_Seq2Seq(t5-small)/',\n",
    "#     model_folder_path = '/mnt/data/pamessina/workspaces/medvqa-workspace/models/seq2seq/20230727_224733_sentence2chestimagenome_labels(gpt-4-06..ficult;gpt-3.5-..t=5000;gpt-3.5-..__1of2;gpt-3.5-..__2of2)_Seq2Seq(t5-small)/',\n",
    "#     model_folder_path = '/mnt/data/pamessina/workspaces/medvqa-workspace/models/seq2seq/20230816_000907_sentence2chestimagenome_anatomical_locations(gpt-3.5-..ficult;gpt-3.5-..=25000;gpt-3.5-..niform)_Seq2Seq(t5-small)',\n",
    "#     model_folder_path = '/mnt/data/pamessina/workspaces/medvqa-workspace/models/seq2seq/20230816_022755_sentence2chestimagenome_anatomical_locations(gpt-3.5-..ficult;gpt-3.5-..=25000;gpt-3.5-..niform)_Seq2Seq(t5-small)',\n",
    "#     model_folder_path = '/mnt/data/pamessina/workspaces/medvqa-workspace/models/seq2seq/20230707_215744_fact2metadata(gpt-3.5-..ts__v2;gpt-3.5-..=20000;gpt-3.5-..niform)_Seq2Seq(t5-small)',\n",
    "#     model_folder_path = '/mnt/data/pamessina/workspaces/medvqa-workspace/models/seq2seq/20230816_024031_sentence2chestimagenome_anatomical_locations(gpt-3.5-..ficult;gpt-3.5-..=25000;gpt-3.5-..niform)_Seq2Seq(t5-small)',\n",
    "#     model_folder_path = '/mnt/data/pamessina/workspaces/medvqa-workspace/models/seq2seq/20230816_070511_sentence2chestimagenome_anatomical_locations(gpt-3.5-..ficult;gpt-3.5-..=25000;gpt-3.5-..niform)_Seq2Seq(t5-small)',\n",
    "#     model_folder_path = '/mnt/data/pamessina/workspaces/medvqa-workspace/models/seq2seq/20230908_232214_sentence2facts(gpt-4-06..es__v2;gpt-3.5-..es__v2;gpt-3.5-..iform);gpt-4-06..rdest);gpt-3.5-.._part1;gpt-3.5-.._part2)_Seq2Seq(t5-small)',\n",
    "#     model_folder_path = '/mnt/data/pamessina/workspaces/medvqa-workspace/models/seq2seq/20230707_215744_fact2metadata(gpt-3.5-..ts__v2;gpt-3.5-..=20000;gpt-3.5-..niform)_Seq2Seq(t5-small)',\n",
    "#     model_folder_path = '/mnt/data/pamessina/workspaces/medvqa-workspace/models/seq2seq/20230911_122916_sentence2chestimagenome_labels(gpt-4-06..ficult;gpt-3.5-..t=5000;gpt-3.5-..__1of2;gpt-3.5-..__2of2)_Seq2Seq(t5-small)',\n",
    "#     model_folder_path = '/mnt/data/pamessina/workspaces/medvqa-workspace/models/seq2seq/20230912_210420_sentence2chestimagenome_observations(gpt-4-06..ficult;gpt-3.5-..t=5000;gpt-3.5-..__1of2;gpt-3.5-..__2of2;gpt-3.5-..-part1;gpt-3.5-..-part2;gpt-3.5-..-part3)_Seq2Seq(t5-small)',\n",
    "    model_folder_path = '/mnt/data/pamessina/workspaces/medvqa-workspace/models/seq2seq/20230913_084846_sentence2chestimagenome_observations(gpt-4-06..ficult;gpt-3.5-..t=5000;gpt-3.5-..__1of2;gpt-3.5-..__2of2;gpt-3.5-..-part1;gpt-3.5-..-part2;gpt-3.5-..-part3)_Seq2Seq(t5-small)',\n",
    "    max_output_length=200,\n",
    "    num_beams=1,\n",
    "    use_amp=False,\n",
    "    device='GPU',\n",
    ")\n",
    "for x,y in zip(input_text, output):\n",
    "    print('-------------')\n",
    "    print(x)\n",
    "    print(y)\n",
    "#     try:\n",
    "#         pprint(parse_metadata(y))\n",
    "#     except AttributeError:\n",
    "#         print('**AttributeError**')\n",
    "#         print(y)"
   ]
  },
  {
   "cell_type": "code",
   "execution_count": 22,
   "id": "c5605574",
   "metadata": {},
   "outputs": [
    {
     "data": {
      "text/plain": [
       "['Atelectasis Basal atelectasis Left basal atelectasis Minimal amount of left basal atelectasis']"
      ]
     },
     "execution_count": 22,
     "metadata": {},
     "output_type": "execute_result"
    }
   ],
   "source": [
    "output.split('\\n')"
   ]
  },
  {
   "cell_type": "code",
   "execution_count": 23,
   "id": "aaf2cc12",
   "metadata": {},
   "outputs": [],
   "source": [
    "from transformers import T5TokenizerFast\n",
    "tokenizer = T5TokenizerFast.from_pretrained('t5-small')"
   ]
  },
  {
   "cell_type": "code",
   "execution_count": 99,
   "id": "7634a96f",
   "metadata": {},
   "outputs": [],
   "source": [
    "input_encoding = tokenizer(\n",
    "    \"\"\"[\"asfasdf\", \"adfasdfasfd\"]\"\"\",\n",
    "    padding=\"longest\",\n",
    "    return_tensors=\"pt\",\n",
    ")\n",
    "input_ids = input_encoding.input_ids\n",
    "attention_mask = input_encoding.attention_mask"
   ]
  },
  {
   "cell_type": "code",
   "execution_count": 102,
   "id": "46ebafc3",
   "metadata": {},
   "outputs": [
    {
     "data": {
      "text/plain": [
       "['[\"asfasdf\", \"adfasdfasfd\"]']"
      ]
     },
     "execution_count": 102,
     "metadata": {},
     "output_type": "execute_result"
    }
   ],
   "source": [
    "tokenizer.batch_decode(input_ids, skip_special_tokens=True)"
   ]
  },
  {
   "cell_type": "code",
   "execution_count": 15,
   "id": "5f3f2148",
   "metadata": {
    "scrolled": false
   },
   "outputs": [
    {
     "name": "stdout",
     "output_type": "stream",
     "text": [
      "metadata loaded from /mnt/data/pamessina/workspaces/medvqa-workspace/models/seq2seq/20230615_113851_background2facts(gpt-3.5-turbo_parsed_back)_Seq2Seq(t5-small)/metadata.json\n",
      "\u001b[1mdevice = \u001b[0m \u001b[1mGPU\u001b[0m\n",
      "\u001b[1mCreate model\u001b[0m\n",
      "Seq2Seq model:\n",
      "  model_name: t5-small\n",
      "\u001b[1mLoad model weights\u001b[0m\n",
      "checkpoint_names = ['checkpoint_102_s2s_loss=0.7637.pt', 'checkpoint_60_s2s_loss=0.6631.pt']\n",
      "checkpoint_path =  /mnt/data/pamessina/workspaces/medvqa-workspace/models/seq2seq/20230615_113851_background2facts(gpt-3.5-turbo_parsed_back)_Seq2Seq(t5-small)/checkpoint_102_s2s_loss=0.7637.pt\n",
      "\u001b[1mPrepare input text\u001b[0m\n",
      "\u001b[1mRun model in inference mode\u001b[0m\n",
      "\u001b[1mConvert ids to string\u001b[0m\n",
      "['indication: year old woman with left and 8th rib fractures s/p mechanical '\n",
      " 'fall, head laceration, pyuria and positive nitrites on U/A, now with '\n",
      " 'vomiting and inability to take POs since . // Evaluate for possible '\n",
      " 'aspiration pneumonia/lung changes from CT on and portable chest XR on '\n",
      " 'Evaluate for possible aspiration pneumonia/lung changes from CT on and '\n",
      " 'portable chest XR on.']\n",
      "['female',\n",
      " 'left and 8th rib fractures',\n",
      " 'mechanical fall',\n",
      " 'head laceration',\n",
      " 'pyuria',\n",
      " 'positive nitrites on U/A',\n",
      " 'vomiting',\n",
      " 'inability to take POs',\n",
      " 'rule out aspiration pneumonia/lung changes from CT',\n",
      " 'rule out aspiration pneumonia/lung changes from portable chest XR']\n"
     ]
    }
   ],
   "source": [
    "input_text = [\n",
    "   \"\"\"indication: year old woman with left and 8th rib fractures s/p mechanical fall, head laceration, pyuria and positive nitrites on U/A, now with vomiting and inability to take POs since . // Evaluate for possible aspiration pneumonia/lung changes from CT on and portable chest XR on Evaluate for possible aspiration pneumonia/lung changes from CT on and portable chest XR on.\"\"\",\n",
    "]\n",
    "output = load_and_run_seq2seq_model_in_inference_mode(\n",
    "    input_text=input_text,\n",
    "    model_folder_path='/mnt/data/pamessina/workspaces/medvqa-workspace/models/seq2seq/20230615_113851_background2facts(gpt-3.5-turbo_parsed_back)_Seq2Seq(t5-small)/',\n",
    "    max_output_length=512,\n",
    "    num_beams=1,\n",
    "    use_amp=False,\n",
    "    device='GPU',\n",
    ")\n",
    "pprint(input_text)\n",
    "pprint(json.loads(output))"
   ]
  },
  {
   "cell_type": "code",
   "execution_count": 27,
   "id": "ae3ae567",
   "metadata": {},
   "outputs": [
    {
     "data": {
      "text/plain": [
       "tensor([[ 3,  9,  9, 26, 89,  9, 26, 89, 38, 26, 89,  9,  7, 26, 89,  1]])"
      ]
     },
     "execution_count": 27,
     "metadata": {},
     "output_type": "execute_result"
    }
   ],
   "source": [
    "input_ids"
   ]
  },
  {
   "cell_type": "code",
   "execution_count": null,
   "id": "327ce824",
   "metadata": {},
   "outputs": [],
   "source": []
  },
  {
   "cell_type": "code",
   "execution_count": 35,
   "id": "612b33d1",
   "metadata": {},
   "outputs": [
    {
     "data": {
      "text/plain": [
       "tensor([[ 784,  121,    9,    7,   89,    9,    7,   26,   89, 1686,   96,    9,\n",
       "           26,   89,    9,    7,   26,   89,    9,    7,   89,   26,  121,  908,\n",
       "            1]])"
      ]
     },
     "execution_count": 35,
     "metadata": {},
     "output_type": "execute_result"
    }
   ],
   "source": [
    "input_ids"
   ]
  },
  {
   "cell_type": "code",
   "execution_count": 18,
   "id": "fafa6624",
   "metadata": {},
   "outputs": [
    {
     "data": {
      "text/plain": [
       "{'background': 'indication: New dyspnea on exertion.',\n",
       " 'findings': 'Heart size is normal. There are mild aortic knob calcifications. Cardiomediastinal silhouette and hilar contours are otherwise unremarkable. Lungs are clear. Pleural surfaces are clear without effusion or pneumothorax.',\n",
       " 'impression': 'No acute cardiopulmonary abnormality.',\n",
       " 'path': '/mnt/data/mimic-cxr/files/p10/p10703179/s58829627.txt'}"
      ]
     },
     "execution_count": 18,
     "metadata": {},
     "output_type": "execute_result"
    }
   ],
   "source": [
    "reports[0]"
   ]
  },
  {
   "cell_type": "code",
   "execution_count": 1,
   "id": "648e23a2",
   "metadata": {},
   "outputs": [],
   "source": [
    "from tqdm import tqdm\n",
    "from nltk.tokenize import sent_tokenize, word_tokenize"
   ]
  },
  {
   "cell_type": "code",
   "execution_count": 5,
   "id": "8b6236ab",
   "metadata": {},
   "outputs": [
    {
     "name": "stderr",
     "output_type": "stream",
     "text": [
      "100%|███████████████████████████████████████████████████████████████████████████████████| 227835/227835 [00:45<00:00, 5024.59it/s]\n"
     ]
    }
   ],
   "source": [
    "sentences = set()\n",
    "for r in tqdm(reports, total=len(reports), mininterval=2):\n",
    "    impression = r['impression']\n",
    "    findings = r['findings']\n",
    "    if len(impression) > 0:\n",
    "        for s in sent_tokenize(impression):\n",
    "            sentences.add(s)\n",
    "    if len(findings) > 0:\n",
    "        for s in sent_tokenize(findings):\n",
    "            sentences.add(s)"
   ]
  },
  {
   "cell_type": "code",
   "execution_count": 6,
   "id": "69885ac5",
   "metadata": {},
   "outputs": [
    {
     "data": {
      "text/plain": [
       "677694"
      ]
     },
     "execution_count": 6,
     "metadata": {},
     "output_type": "execute_result"
    }
   ],
   "source": [
    "len(sentences)"
   ]
  },
  {
   "cell_type": "code",
   "execution_count": 7,
   "id": "5f50d770",
   "metadata": {},
   "outputs": [],
   "source": [
    "from medvqa.utils.files import load_jsonl"
   ]
  },
  {
   "cell_type": "code",
   "execution_count": 8,
   "id": "97a44c3e",
   "metadata": {},
   "outputs": [],
   "source": [
    "aux1 = load_jsonl(\"/home/pamessina/medvqa-workspace/cache/mimiccxr/openai/gpt-4-0613_parsed_reports.jsonl\")\n",
    "aux2 = load_jsonl(\"/home/pamessina/medvqa-workspace/cache/mimiccxr/openai/gpt-3.5-turbo_parsed_reports.jsonl\")"
   ]
  },
  {
   "cell_type": "code",
   "execution_count": 10,
   "id": "a4058c72",
   "metadata": {},
   "outputs": [],
   "source": [
    "for x in [aux1, aux2]:\n",
    "    for y in x:\n",
    "        for z, _ in y['parsed_response']:\n",
    "            sentences.add(z)"
   ]
  },
  {
   "cell_type": "code",
   "execution_count": 11,
   "id": "787b8289",
   "metadata": {},
   "outputs": [
    {
     "data": {
      "text/plain": [
       "849523"
      ]
     },
     "execution_count": 11,
     "metadata": {},
     "output_type": "execute_result"
    }
   ],
   "source": [
    "len(sentences)"
   ]
  },
  {
   "cell_type": "code",
   "execution_count": 12,
   "id": "92d351f2",
   "metadata": {},
   "outputs": [],
   "source": [
    "sentences_list = list(sentences)"
   ]
  },
  {
   "cell_type": "code",
   "execution_count": 13,
   "id": "010ef0a7",
   "metadata": {},
   "outputs": [
    {
     "name": "stderr",
     "output_type": "stream",
     "text": [
      "100%|███████████████████████████████████████████████████████████████████████████████████| 849523/849523 [02:38<00:00, 5363.68it/s]\n"
     ]
    }
   ],
   "source": [
    "tokenized_sentences = [word_tokenize(x) for x in tqdm(sentences_list, mininterval=2)]"
   ]
  },
  {
   "cell_type": "code",
   "execution_count": 14,
   "id": "05f3e306",
   "metadata": {},
   "outputs": [
    {
     "name": "stderr",
     "output_type": "stream",
     "text": [
      "100%|█████████████████████████████████████████████████████████████████████████████████| 849523/849523 [00:05<00:00, 166124.96it/s]"
     ]
    },
    {
     "name": "stdout",
     "output_type": "stream",
     "text": [
      "Vocabulary size: 27366\n"
     ]
    },
    {
     "name": "stderr",
     "output_type": "stream",
     "text": [
      "\n"
     ]
    }
   ],
   "source": [
    "vocab_freq = dict()\n",
    "for tokens in tqdm(tokenized_sentences, mininterval=2):\n",
    "    for word in tokens:\n",
    "        vocab_freq[word] = vocab_freq.get(word, 0) + 1\n",
    "print(f'Vocabulary size: {len(vocab_freq)}')"
   ]
  },
  {
   "cell_type": "code",
   "execution_count": 15,
   "id": "347fcc7e",
   "metadata": {},
   "outputs": [
    {
     "data": {
      "text/plain": [
       "(849523, 849523)"
      ]
     },
     "execution_count": 15,
     "metadata": {},
     "output_type": "execute_result"
    }
   ],
   "source": [
    "len(tokenized_sentences), len(sentences)"
   ]
  },
  {
   "cell_type": "code",
   "execution_count": 16,
   "id": "ba9a3f30",
   "metadata": {},
   "outputs": [],
   "source": [
    "def _complexity(i):\n",
    "    score = 0\n",
    "    for word in tokenized_sentences[i]:\n",
    "        score += 1 / vocab_freq[word]\n",
    "    return score\n",
    "    \n",
    "ranked_indices = sorted(range(len(tokenized_sentences)), key=_complexity, reverse=True)"
   ]
  },
  {
   "cell_type": "code",
   "execution_count": 34,
   "id": "fdd69dc5",
   "metadata": {},
   "outputs": [
    {
     "data": {
      "text/plain": [
       "'No consolidation, pulmonary edema, pleural effusion, or pneumothorax is seen.'"
      ]
     },
     "execution_count": 34,
     "metadata": {},
     "output_type": "execute_result"
    }
   ],
   "source": [
    "sentences_list[ranked_indices[-10000]]"
   ]
  },
  {
   "cell_type": "code",
   "execution_count": null,
   "id": "3198e737",
   "metadata": {},
   "outputs": [],
   "source": []
  }
 ],
 "metadata": {
  "kernelspec": {
   "display_name": "venv2",
   "language": "python",
   "name": "venv2"
  },
  "language_info": {
   "codemirror_mode": {
    "name": "ipython",
    "version": 3
   },
   "file_extension": ".py",
   "mimetype": "text/x-python",
   "name": "python",
   "nbconvert_exporter": "python",
   "pygments_lexer": "ipython3",
   "version": "3.10.10"
  }
 },
 "nbformat": 4,
 "nbformat_minor": 5
}
