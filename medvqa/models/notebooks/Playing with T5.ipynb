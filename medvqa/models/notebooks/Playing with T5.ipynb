{
 "cells": [
  {
   "cell_type": "code",
   "execution_count": 1,
   "id": "465ce67d",
   "metadata": {},
   "outputs": [
    {
     "name": "stdout",
     "output_type": "stream",
     "text": [
      "env: CUDA_VISIBLE_DEVICES=2\n"
     ]
    }
   ],
   "source": [
    "%env CUDA_VISIBLE_DEVICES=2"
   ]
  },
  {
   "cell_type": "code",
   "execution_count": 10,
   "id": "bf265026",
   "metadata": {},
   "outputs": [],
   "source": [
    "import torch\n",
    "from transformers import T5Tokenizer, T5ForConditionalGeneration, T5Config\n",
    "import textwrap"
   ]
  },
  {
   "cell_type": "code",
   "execution_count": 3,
   "id": "6551f646",
   "metadata": {},
   "outputs": [],
   "source": [
    "DEVICE = torch.device('cuda')"
   ]
  },
  {
   "cell_type": "code",
   "execution_count": 4,
   "id": "b55bcf8d",
   "metadata": {},
   "outputs": [],
   "source": [
    "model = T5ForConditionalGeneration.from_pretrained('t5-small').to(DEVICE)"
   ]
  },
  {
   "cell_type": "code",
   "execution_count": 6,
   "id": "ca586653",
   "metadata": {},
   "outputs": [
    {
     "data": {
      "application/vnd.jupyter.widget-view+json": {
       "model_id": "215fc10e4ea94d0790349aa121a3818b",
       "version_major": 2,
       "version_minor": 0
      },
      "text/plain": [
       "Downloading (…)ve/main/spiece.model:   0%|          | 0.00/792k [00:00<?, ?B/s]"
      ]
     },
     "metadata": {},
     "output_type": "display_data"
    },
    {
     "data": {
      "application/vnd.jupyter.widget-view+json": {
       "model_id": "b0ada0fbb6514d7fbea219fda2408b3a",
       "version_major": 2,
       "version_minor": 0
      },
      "text/plain": [
       "Downloading (…)okenizer_config.json:   0%|          | 0.00/2.32k [00:00<?, ?B/s]"
      ]
     },
     "metadata": {},
     "output_type": "display_data"
    }
   ],
   "source": [
    "tokenizer = T5Tokenizer.from_pretrained('t5-small')"
   ]
  },
  {
   "cell_type": "code",
   "execution_count": 24,
   "id": "92d53d5c",
   "metadata": {},
   "outputs": [],
   "source": [
    "def bold(text):\n",
    "    return '\\033[1m' + text + '\\033[0m'\n",
    "  \n",
    "def generate_text(text, tokenizer, model, num_beams=5, num_sentences=5,\n",
    "                   min_length=30, max_length=100, early_stopping=True):\n",
    "    print(bold(\"Input Text:\"))\n",
    "    print(textwrap.fill(text, width=70), end='\\n\\n')\n",
    "\n",
    "    tokenized_text = tokenizer.encode(text, return_tensors=\"pt\").to(DEVICE)\n",
    "\n",
    "    # generated texts\n",
    "    gen_text_ids = model.generate(tokenized_text,\n",
    "                              num_beams=num_beams,\n",
    "                              num_return_sequences=num_sentences,\n",
    "                              min_length=min_length,\n",
    "                              max_length=max_length,\n",
    "                              early_stopping=early_stopping)\n",
    "\n",
    "    print(bold(\"Generated texts:\\n\"))\n",
    "    for i, beam_output in enumerate(gen_text_ids):\n",
    "        output = tokenizer.decode(beam_output, skip_special_tokens=True)\n",
    "        print(bold(f\"Generated text {i}:\"))\n",
    "        print(textwrap.fill(output, width=70), end='\\n\\n')"
   ]
  },
  {
   "cell_type": "code",
   "execution_count": 34,
   "id": "e77d95ba",
   "metadata": {},
   "outputs": [
    {
     "data": {
      "text/plain": [
       "torch.Size([1, 10])"
      ]
     },
     "execution_count": 34,
     "metadata": {},
     "output_type": "execute_result"
    }
   ],
   "source": [
    "tokenizer.encode(text, return_tensors=\"pt\").shape"
   ]
  },
  {
   "cell_type": "code",
   "execution_count": 26,
   "id": "ff883ecf",
   "metadata": {},
   "outputs": [
    {
     "name": "stdout",
     "output_type": "stream",
     "text": [
      "\u001b[1mInput Text:\u001b[0m\n",
      " translate English to German: That is good.\n",
      "\n",
      "\u001b[1mGenerated texts:\n",
      "\u001b[0m\n",
      "\u001b[1mGenerated text 0:\u001b[0m\n",
      "Das ist gut. &#160;&#160;&#160;&#160;&#160;&#160;&#160;&#160;&#160;&#1\n",
      "60;&#160;&#160;&#160;&#160;&#160;&#160;&#160;&#160;&#160;&#160;&#160;&\n",
      "#160;&#160;&#160;&#160;&#160;\n",
      "\n",
      "\u001b[1mGenerated text 1:\u001b[0m\n",
      "Das ist gut. &#160;&#160;&#160;&#160;&#160;&#160;&#160;&#160;&#160;&#1\n",
      "60;&#160;&#160;&#160;&#160;&#160;&#160;&#160;&#160;&#160;&#160;&#160;&\n",
      "#160;&#160;&#160;&#160;\n",
      "\n",
      "\u001b[1mGenerated text 2:\u001b[0m\n",
      "Das ist gut. &#160;&#160;&#160;&#160;&#160;&#160;&#160;&#160;&#160;&#1\n",
      "60;&#160;&#160;&#160;&#160;&#160;&#160;&#160;&#160;&#160;&#160;&#160;&\n",
      "#160;&#160;&#160;\n",
      "\n",
      "\u001b[1mGenerated text 3:\u001b[0m\n",
      "Das ist gut so. &#160;&#160;&#160;&#160;&#160;&#160;&#160;&#160;&#160;\n",
      "&#160;&#160;&#160;&#160;&#160;&#160;&#160;&#160;&#160;&#160;&#160;&#16\n",
      "0;&#160;&#160;&#160;&#160;&#160;\n",
      "\n",
      "\u001b[1mGenerated text 4:\u001b[0m\n",
      "Das ist gut so. &#160;&#160;&#160;&#160;&#160;&#160;&#160;&#160;&#160;\n",
      "&#160;&#160;&#160;&#160;&#160;&#160;&#160;&#160;&#160;&#160;&#160;&#16\n",
      "0;&#160;&#160;&#160;&#160;\n",
      "\n"
     ]
    }
   ],
   "source": [
    "text =\"\"\"\n",
    "translate English to German: That is good.\n",
    "\"\"\"\n",
    "\n",
    "generate_text(text, tokenizer, model, min_length=100, max_length=150)"
   ]
  }
 ],
 "metadata": {
  "kernelspec": {
   "display_name": "venv2",
   "language": "python",
   "name": "venv2"
  },
  "language_info": {
   "codemirror_mode": {
    "name": "ipython",
    "version": 3
   },
   "file_extension": ".py",
   "mimetype": "text/x-python",
   "name": "python",
   "nbconvert_exporter": "python",
   "pygments_lexer": "ipython3",
   "version": "3.10.10"
  }
 },
 "nbformat": 4,
 "nbformat_minor": 5
}
