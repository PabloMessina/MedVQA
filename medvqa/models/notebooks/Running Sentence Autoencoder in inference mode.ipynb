{
 "cells": [
  {
   "cell_type": "code",
   "execution_count": 1,
   "id": "ee15b27e",
   "metadata": {},
   "outputs": [
    {
     "name": "stdout",
     "output_type": "stream",
     "text": [
      "env: CUDA_VISIBLE_DEVICES=1\n"
     ]
    }
   ],
   "source": [
    "%env CUDA_VISIBLE_DEVICES=1"
   ]
  },
  {
   "cell_type": "code",
   "execution_count": 2,
   "id": "d79f30e1",
   "metadata": {},
   "outputs": [],
   "source": [
    "from medvqa.models.model_debugging_utils import run_sentence_autoencoder"
   ]
  },
  {
   "cell_type": "code",
   "execution_count": 16,
   "id": "6b131bb5",
   "metadata": {
    "scrolled": true
   },
   "outputs": [
    {
     "name": "stdout",
     "output_type": "stream",
     "text": [
      "metadata loaded from /mnt/data/pamessina/workspaces/medvqa-workspace/models/fact_embedding/20231010_215228_MIMIC-CXR(triplets+classif+entcont+nli+autoencoder)_FactEncoder(microsoft-BiomedVLP-CXR-BERT-specialized)/metadata.json\n",
      "\u001b[1mdevice = \u001b[0m \u001b[1mGPU\u001b[0m\n",
      "\u001b[1mCreate model\u001b[0m\n",
      "Fact encoder\n",
      "  huggingface_model_name: microsoft/BiomedVLP-CXR-BERT-specialized\n",
      "  embedding_size: 128\n",
      "  classify_category: True\n",
      "  n_categories: 6\n",
      "  classify_health_status: True\n",
      "  n_health_statuses: 5\n",
      "  classify_comparison_status: True\n",
      "  n_comparison_statuses: 15\n",
      "  classify_chest_imagenome_obs: True\n",
      "  n_chest_imagenome_observations: 74\n",
      "  classify_chest_imagenome_anatloc: True\n",
      "  n_chest_imagenome_anatomical_locations: 38\n",
      "  use_aux_task_hidden_layer: True\n",
      "  aux_task_hidden_layer_size: 512\n",
      "  do_nli: True\n",
      "  nli_hidden_layer_size: 128\n",
      "  use_spert: False\n",
      "  spert_size_embedding: None\n",
      "  spert_relation_types: None\n",
      "  spert_entity_types: None\n",
      "  spert_max_pairs: None\n",
      "  spert_prop_drop: None\n",
      "  spert_cls_token: None\n",
      "  use_fact_decoder: True\n",
      "  fact_decoder_embed_size: 256\n",
      "  fact_decoder_hidden_size: 256\n",
      "  fact_decoder_nhead: 1\n",
      "  fact_decoder_dim_feedforward: 256\n",
      "  fact_decoder_num_layers: 1\n",
      "  fact_decoder_start_idx: 1\n",
      "  fact_decoder_vocab_size: 15773\n",
      "  fact_decoder_dropout_prob: 0\n",
      "\u001b[93m\u001b[1mWARNING: unused_kwargs: {'pretrained_checkpoint_folder_path': '/mnt/data/pamessina/workspaces/medvqa-workspace/models/fact_embedding/20231004_174626_MIMIC-CXR(triplets+classif+entcont+nli+radgraph)_FactEncoder(microsoft-BiomedVLP-CXR-BERT-specialized)'}\u001b[0m\n"
     ]
    },
    {
     "name": "stderr",
     "output_type": "stream",
     "text": [
      "Explicitly passing a `revision` is encouraged when loading a configuration with custom code to ensure no malicious code has been contributed in a newer revision.\n",
      "Explicitly passing a `revision` is encouraged when loading a model with custom code to ensure no malicious code has been contributed in a newer revision.\n"
     ]
    },
    {
     "name": "stdout",
     "output_type": "stream",
     "text": [
      "\u001b[1mLoad model weights\u001b[0m\n",
      "checkpoint_names = ['checkpoint_188_cacc+chf1+chf1+cscc+encc+hscc+nlcc+sass+ta0)+ta1)+ta2)+ta0)+ta1)+ta2)+ta3)+ta4)+ta5)+ta6)+ta7)=0.9084.pt']\n",
      "model_checkpoint_path =  /mnt/data/pamessina/workspaces/medvqa-workspace/models/fact_embedding/20231010_215228_MIMIC-CXR(triplets+classif+entcont+nli+autoencoder)_FactEncoder(microsoft-BiomedVLP-CXR-BERT-specialized)/checkpoint_188_cacc+chf1+chf1+cscc+encc+hscc+nlcc+sass+ta0)+ta1)+ta2)+ta0)+ta1)+ta2)+ta3)+ta4)+ta5)+ta6)+ta7)=0.9084.pt\n"
     ]
    },
    {
     "name": "stderr",
     "output_type": "stream",
     "text": [
      "Explicitly passing a `revision` is encouraged when loading a model with custom code to ensure no malicious code has been contributed in a newer revision.\n"
     ]
    },
    {
     "name": "stdout",
     "output_type": "stream",
     "text": [
      "\u001b[1mRun model in inference mode\u001b[0m\n",
      "Loading /mnt/data/pamessina/workspaces/medvqa-workspace/cache/fact_decoding_vocab(116, 1862760546599818235).pkl ...\n",
      "Vocabulary size: 15773\n",
      "\u001b[1mResults\u001b[0m\n",
      "Input: No cardiomegaly\n",
      "Generated: no evidence of the heart <END> <PAD> <PAD> <PAD> <PAD> <PAD> <PAD> <PAD> <PAD> <PAD> <PAD> <PAD> <PAD> <PAD> <PAD> <PAD> <PAD> <PAD> <PAD>\n",
      "----------------\n",
      "Input: Cardiomegaly\n",
      "Generated: The heart size <END> <PAD> <PAD> <PAD> <PAD> <PAD> <PAD> <PAD> <PAD> <PAD> <PAD> <PAD> <PAD> <PAD> <PAD> <PAD> <PAD> <PAD> <PAD> <PAD> <PAD>\n",
      "----------------\n",
      "Input: Bone fracture\n",
      "Generated: posterior rib fractures <END> <PAD> <PAD> <PAD> <PAD> <PAD> <PAD> <PAD> <PAD> <PAD> <PAD> <PAD> <PAD> <PAD> <PAD> <PAD> <PAD> <PAD> <PAD> <PAD> <PAD>\n",
      "----------------\n",
      "Input: Scoliosis\n",
      "Generated: thoracic spine <END> <PAD> <PAD> <PAD> <PAD> <PAD> <PAD> <PAD> <PAD> <PAD> <PAD> <PAD> <PAD> <PAD> <PAD> <PAD> <PAD> <PAD> <PAD> <PAD> <PAD> <PAD>\n",
      "----------------\n",
      "Input: scoliosis\n",
      "Generated: thoracic spine <END> <PAD> <PAD> <PAD> <PAD> <PAD> <PAD> <PAD> <PAD> <PAD> <PAD> <PAD> <PAD> <PAD> <PAD> <PAD> <PAD> <PAD> <PAD> <PAD> <PAD> <PAD>\n",
      "----------------\n",
      "Input: No scoliosis\n",
      "Generated: The left - sided rib fractures <END> <PAD> <PAD> <PAD> <PAD> <PAD> <PAD> <PAD> <PAD> <PAD> <PAD> <PAD> <PAD> <PAD> <PAD> <PAD> <PAD> <PAD>\n",
      "----------------\n",
      "Input: No pneumothorax or pleural effusion\n",
      "Generated: No evidence of the left pleural effusion . <END> <PAD> <PAD> <PAD> <PAD> <PAD> <PAD> <PAD> <PAD> <PAD> <PAD> <PAD> <PAD> <PAD> <PAD> <PAD>\n",
      "----------------\n",
      "Input: Opacity in the upper right lung zone\n",
      "Generated: The right upper lobe is seen in the right upper lobe <END> <PAD> <PAD> <PAD> <PAD> <PAD> <PAD> <PAD> <PAD> <PAD> <PAD> <PAD> <PAD>\n",
      "----------------\n",
      "Input: Left pleural effusion\n",
      "Generated: left pleural effusion <END> <PAD> <PAD> <PAD> <PAD> <PAD> <PAD> <PAD> <PAD> <PAD> <PAD> <PAD> <PAD> <PAD> <PAD> <PAD> <PAD> <PAD> <PAD> <PAD> <PAD>\n",
      "----------------\n",
      "Input: Right pleural effusion\n",
      "Generated: right pleural effusion <END> <PAD> <PAD> <PAD> <PAD> <PAD> <PAD> <PAD> <PAD> <PAD> <PAD> <PAD> <PAD> <PAD> <PAD> <PAD> <PAD> <PAD> <PAD> <PAD> <PAD>\n",
      "----------------\n",
      "Input: Left lung\n",
      "Generated: left lung <END> <PAD> <PAD> <PAD> <PAD> <PAD> <PAD> <PAD> <PAD> <PAD> <PAD> <PAD> <PAD> <PAD> <PAD> <PAD> <PAD> <PAD> <PAD> <PAD> <PAD> <PAD>\n",
      "----------------\n",
      "Input: Right lung\n",
      "Generated: right lung ' s lung <END> <PAD> <PAD> <PAD> <PAD> <PAD> <PAD> <PAD> <PAD> <PAD> <PAD> <PAD> <PAD> <PAD> <PAD> <PAD> <PAD> <PAD> <PAD>\n",
      "----------------\n",
      "Input: Fracture of the left clavicle\n",
      "Generated: left upper quadrant <END> <PAD> <PAD> <PAD> <PAD> <PAD> <PAD> <PAD> <PAD> <PAD> <PAD> <PAD> <PAD> <PAD> <PAD> <PAD> <PAD> <PAD> <PAD> <PAD> <PAD>\n",
      "----------------\n",
      "Input: Fracture of the right clavicle\n",
      "Generated: right upper lobe <END> <PAD> <PAD> <PAD> <PAD> <PAD> <PAD> <PAD> <PAD> <PAD> <PAD> <PAD> <PAD> <PAD> <PAD> <PAD> <PAD> <PAD> <PAD> <PAD> <PAD>\n",
      "----------------\n",
      "Input: Fracture of the 4th rib\n",
      "Generated: rib fractures in the left rib <END> <PAD> <PAD> <PAD> <PAD> <PAD> <PAD> <PAD> <PAD> <PAD> <PAD> <PAD> <PAD> <PAD> <PAD> <PAD> <PAD> <PAD>\n",
      "----------------\n",
      "Input: No pneumothorax, pleural effusion or cardiomegaly.\n",
      "Generated: No evidence of the left pleural effusion , there is no evidence of the pleural effusion . <END> <PAD> <PAD> <PAD> <PAD> <PAD> <PAD>\n",
      "----------------\n",
      "Input: Mild degree of scoliosis and fracture of the right clavicle\n",
      "Generated: right upper lobe opacity in the thoracic spine <END> <PAD> <PAD> <PAD> <PAD> <PAD> <PAD> <PAD> <PAD> <PAD> <PAD> <PAD> <PAD> <PAD> <PAD> <PAD>\n",
      "----------------\n",
      "Input: Mild degree of scoliosis\n",
      "Generated: The right upper quadrant of the thoracic spine <END> <PAD> <PAD> <PAD> <PAD> <PAD> <PAD> <PAD> <PAD> <PAD> <PAD> <PAD> <PAD> <PAD> <PAD> <PAD>\n",
      "----------------\n",
      "Input: Mild scoliosis\n",
      "Generated: The thoracic spine <END> <PAD> <PAD> <PAD> <PAD> <PAD> <PAD> <PAD> <PAD> <PAD> <PAD> <PAD> <PAD> <PAD> <PAD> <PAD> <PAD> <PAD> <PAD> <PAD> <PAD>\n",
      "----------------\n",
      "Input: stable atelectasis\n",
      "Generated: unchanged atelectasis <END> <PAD> <PAD> <PAD> <PAD> <PAD> <PAD> <PAD> <PAD> <PAD> <PAD> <PAD> <PAD> <PAD> <PAD> <PAD> <PAD> <PAD> <PAD> <PAD> <PAD> <PAD>\n",
      "----------------\n",
      "Input: There are no evident signs of pleural effusion\n",
      "Generated: No evidence of the pleural effusion . <END> <PAD> <PAD> <PAD> <PAD> <PAD> <PAD> <PAD> <PAD> <PAD> <PAD> <PAD> <PAD> <PAD> <PAD> <PAD> <PAD>\n",
      "----------------\n",
      "Input: There are evident signs of pleural effusion\n",
      "Generated: pleural effusion in the pleural effusion <END> <PAD> <PAD> <PAD> <PAD> <PAD> <PAD> <PAD> <PAD> <PAD> <PAD> <PAD> <PAD> <PAD> <PAD> <PAD> <PAD> <PAD>\n",
      "----------------\n",
      "Input: COPD/emphysema\n",
      "Generated: The lungs are noted in the upper lobe <END> <PAD> <PAD> <PAD> <PAD> <PAD> <PAD> <PAD> <PAD> <PAD> <PAD> <PAD> <PAD> <PAD> <PAD> <PAD>\n",
      "----------------\n",
      "Input: COPD\n",
      "Generated: bilateral pleural effusions <END> <PAD> <PAD> <PAD> <PAD> <PAD> <PAD> <PAD> <PAD> <PAD> <PAD> <PAD> <PAD> <PAD> <PAD> <PAD> <PAD> <PAD> <PAD> <PAD> <PAD>\n",
      "----------------\n",
      "Input: emphysema\n",
      "Generated: bilateral pleural effusions <END> <PAD> <PAD> <PAD> <PAD> <PAD> <PAD> <PAD> <PAD> <PAD> <PAD> <PAD> <PAD> <PAD> <PAD> <PAD> <PAD> <PAD> <PAD> <PAD> <PAD>\n",
      "----------------\n"
     ]
    }
   ],
   "source": [
    "run_sentence_autoencoder(\n",
    "    sentences=[\n",
    "        \"No cardiomegaly\",\n",
    "        \"Cardiomegaly\",\n",
    "        \"Bone fracture\",\n",
    "        \"Scoliosis\",\n",
    "        \"scoliosis\",\n",
    "        \"No scoliosis\",\n",
    "        \"No pneumothorax or pleural effusion\",\n",
    "        \"Opacity in the upper right lung zone\",\n",
    "        \"Left pleural effusion\",\n",
    "        \"Right pleural effusion\",\n",
    "        \"Left lung\",\n",
    "        \"Right lung\",\n",
    "        \"Fracture of the left clavicle\",\n",
    "        \"Fracture of the right clavicle\",\n",
    "        \"Fracture of the 4th rib\",\n",
    "        \"No pneumothorax, pleural effusion or cardiomegaly.\",\n",
    "        \"Mild degree of scoliosis and fracture of the right clavicle\",\n",
    "        \"Mild degree of scoliosis\",\n",
    "        \"Mild scoliosis\",\n",
    "        \"stable atelectasis\",\n",
    "        \"There are no evident signs of pleural effusion\",\n",
    "        \"There are evident signs of pleural effusion\",\n",
    "        \"COPD/emphysema\",\n",
    "        \"COPD\",\n",
    "        \"emphysema\",\n",
    "    ],\n",
    "    vocab_filepath=\"/mnt/data/pamessina/workspaces/medvqa-workspace/cache/fact_decoding_vocab(116, 1862760546599818235).pkl\",\n",
    "#     model_folder_path=\"/mnt/data/pamessina/workspaces/medvqa-workspace/models/fact_embedding/20231010_152451_MIMIC-CXR(autoencoder)_FactEncoder(microsoft-BiomedVLP-CXR-BERT-specialized)\",\n",
    "#     model_folder_path=\"/mnt/data/pamessina/workspaces/medvqa-workspace/models/fact_embedding/20231010_210936_MIMIC-CXR(triplets+autoencoder)_FactEncoder(microsoft-BiomedVLP-CXR-BERT-specialized)\",\n",
    "#     model_checkpoint_path=\"/mnt/data/pamessina/workspaces/medvqa-workspace/models/fact_embedding/20231010_210936_MIMIC-CXR(triplets+autoencoder)_FactEncoder(microsoft-BiomedVLP-CXR-BERT-specialized)/checkpoint_166_sass+ta0)+ta1)+ta2)+ta0)+ta1)+ta2)+ta3)+ta4)+ta5)+ta6)+ta7)=0.9026.pt\",\n",
    "    model_folder_path=\"/mnt/data/pamessina/workspaces/medvqa-workspace/models/fact_embedding/20231010_215228_MIMIC-CXR(triplets+classif+entcont+nli+autoencoder)_FactEncoder(microsoft-BiomedVLP-CXR-BERT-specialized)\",\n",
    ")"
   ]
  }
 ],
 "metadata": {
  "kernelspec": {
   "display_name": "venv2",
   "language": "python",
   "name": "venv2"
  },
  "language_info": {
   "codemirror_mode": {
    "name": "ipython",
    "version": 3
   },
   "file_extension": ".py",
   "mimetype": "text/x-python",
   "name": "python",
   "nbconvert_exporter": "python",
   "pygments_lexer": "ipython3",
   "version": "3.10.10"
  }
 },
 "nbformat": 4,
 "nbformat_minor": 5
}
