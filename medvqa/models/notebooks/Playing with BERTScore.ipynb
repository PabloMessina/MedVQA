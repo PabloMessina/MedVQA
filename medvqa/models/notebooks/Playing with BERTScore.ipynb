{
 "cells": [
  {
   "cell_type": "code",
   "execution_count": 2,
   "id": "5500aa71",
   "metadata": {},
   "outputs": [
    {
     "name": "stdout",
     "output_type": "stream",
     "text": [
      "Collecting bert_score\n",
      "  Downloading bert_score-0.3.13-py3-none-any.whl (61 kB)\n",
      "\u001b[2K     \u001b[90m━━━━━━━━━━━━━━━━━━━━━━━━━━━━━━━━━━━━━━━━\u001b[0m \u001b[32m61.1/61.1 kB\u001b[0m \u001b[31m10.7 MB/s\u001b[0m eta \u001b[36m0:00:00\u001b[0m\n",
      "\u001b[?25hRequirement already satisfied: torch>=1.0.0 in /home/pamessina/venv2/lib/python3.10/site-packages (from bert_score) (1.13.1)\n",
      "Requirement already satisfied: pandas>=1.0.1 in /home/pamessina/venv2/lib/python3.10/site-packages (from bert_score) (1.5.3)\n",
      "Requirement already satisfied: transformers>=3.0.0 in /home/pamessina/venv2/lib/python3.10/site-packages (from bert_score) (4.27.4)\n",
      "Requirement already satisfied: numpy in /home/pamessina/venv2/lib/python3.10/site-packages (from bert_score) (1.24.2)\n",
      "Requirement already satisfied: requests in /home/pamessina/venv2/lib/python3.10/site-packages (from bert_score) (2.28.2)\n",
      "Requirement already satisfied: tqdm>=4.31.1 in /home/pamessina/venv2/lib/python3.10/site-packages (from bert_score) (4.65.0)\n",
      "Requirement already satisfied: matplotlib in /home/pamessina/venv2/lib/python3.10/site-packages (from bert_score) (3.7.1)\n",
      "Requirement already satisfied: packaging>=20.9 in /home/pamessina/venv2/lib/python3.10/site-packages (from bert_score) (23.0)\n",
      "Requirement already satisfied: python-dateutil>=2.8.1 in /home/pamessina/venv2/lib/python3.10/site-packages (from pandas>=1.0.1->bert_score) (2.8.2)\n",
      "Requirement already satisfied: pytz>=2020.1 in /home/pamessina/venv2/lib/python3.10/site-packages (from pandas>=1.0.1->bert_score) (2022.7.1)\n",
      "Requirement already satisfied: typing-extensions in /home/pamessina/venv2/lib/python3.10/site-packages (from torch>=1.0.0->bert_score) (4.5.0)\n",
      "Requirement already satisfied: nvidia-cuda-runtime-cu11==11.7.99 in /home/pamessina/venv2/lib/python3.10/site-packages (from torch>=1.0.0->bert_score) (11.7.99)\n",
      "Requirement already satisfied: nvidia-cudnn-cu11==8.5.0.96 in /home/pamessina/venv2/lib/python3.10/site-packages (from torch>=1.0.0->bert_score) (8.5.0.96)\n",
      "Requirement already satisfied: nvidia-cublas-cu11==11.10.3.66 in /home/pamessina/venv2/lib/python3.10/site-packages (from torch>=1.0.0->bert_score) (11.10.3.66)\n",
      "Requirement already satisfied: nvidia-cuda-nvrtc-cu11==11.7.99 in /home/pamessina/venv2/lib/python3.10/site-packages (from torch>=1.0.0->bert_score) (11.7.99)\n",
      "Requirement already satisfied: setuptools in /home/pamessina/venv2/lib/python3.10/site-packages (from nvidia-cublas-cu11==11.10.3.66->torch>=1.0.0->bert_score) (67.6.0)\n",
      "Requirement already satisfied: wheel in /home/pamessina/venv2/lib/python3.10/site-packages (from nvidia-cublas-cu11==11.10.3.66->torch>=1.0.0->bert_score) (0.38.4)\n",
      "Requirement already satisfied: filelock in /home/pamessina/venv2/lib/python3.10/site-packages (from transformers>=3.0.0->bert_score) (3.10.7)\n",
      "Requirement already satisfied: huggingface-hub<1.0,>=0.11.0 in /home/pamessina/venv2/lib/python3.10/site-packages (from transformers>=3.0.0->bert_score) (0.13.3)\n",
      "Requirement already satisfied: pyyaml>=5.1 in /home/pamessina/venv2/lib/python3.10/site-packages (from transformers>=3.0.0->bert_score) (6.0)\n",
      "Requirement already satisfied: regex!=2019.12.17 in /home/pamessina/venv2/lib/python3.10/site-packages (from transformers>=3.0.0->bert_score) (2023.3.23)\n",
      "Requirement already satisfied: tokenizers!=0.11.3,<0.14,>=0.11.1 in /home/pamessina/venv2/lib/python3.10/site-packages (from transformers>=3.0.0->bert_score) (0.13.3)\n",
      "Requirement already satisfied: contourpy>=1.0.1 in /home/pamessina/venv2/lib/python3.10/site-packages (from matplotlib->bert_score) (1.0.7)\n",
      "Requirement already satisfied: cycler>=0.10 in /home/pamessina/venv2/lib/python3.10/site-packages (from matplotlib->bert_score) (0.11.0)\n",
      "Requirement already satisfied: fonttools>=4.22.0 in /home/pamessina/venv2/lib/python3.10/site-packages (from matplotlib->bert_score) (4.39.2)\n",
      "Requirement already satisfied: kiwisolver>=1.0.1 in /home/pamessina/venv2/lib/python3.10/site-packages (from matplotlib->bert_score) (1.4.4)\n",
      "Requirement already satisfied: pillow>=6.2.0 in /home/pamessina/venv2/lib/python3.10/site-packages (from matplotlib->bert_score) (9.4.0)\n",
      "Requirement already satisfied: pyparsing>=2.3.1 in /home/pamessina/venv2/lib/python3.10/site-packages (from matplotlib->bert_score) (3.0.9)\n",
      "Requirement already satisfied: charset-normalizer<4,>=2 in /home/pamessina/venv2/lib/python3.10/site-packages (from requests->bert_score) (3.0.1)\n",
      "Requirement already satisfied: idna<4,>=2.5 in /home/pamessina/venv2/lib/python3.10/site-packages (from requests->bert_score) (3.4)\n",
      "Requirement already satisfied: urllib3<1.27,>=1.21.1 in /home/pamessina/venv2/lib/python3.10/site-packages (from requests->bert_score) (1.26.14)\n",
      "Requirement already satisfied: certifi>=2017.4.17 in /home/pamessina/venv2/lib/python3.10/site-packages (from requests->bert_score) (2022.12.7)\n",
      "Requirement already satisfied: six>=1.5 in /home/pamessina/venv2/lib/python3.10/site-packages (from python-dateutil>=2.8.1->pandas>=1.0.1->bert_score) (1.16.0)\n",
      "Installing collected packages: bert_score\n",
      "Successfully installed bert_score-0.3.13\n"
     ]
    }
   ],
   "source": [
    "!pip install bert_score"
   ]
  },
  {
   "cell_type": "code",
   "execution_count": 3,
   "id": "dd57fcf3",
   "metadata": {},
   "outputs": [
    {
     "data": {
      "text/plain": [
       "'0.3.12'"
      ]
     },
     "execution_count": 3,
     "metadata": {},
     "output_type": "execute_result"
    }
   ],
   "source": [
    "import bert_score\n",
    "bert_score.__version__"
   ]
  },
  {
   "cell_type": "code",
   "execution_count": 4,
   "id": "b3e56355",
   "metadata": {},
   "outputs": [],
   "source": [
    "import logging\n",
    "import transformers\n",
    "transformers.tokenization_utils.logger.setLevel(logging.ERROR)\n",
    "transformers.configuration_utils.logger.setLevel(logging.ERROR)\n",
    "transformers.modeling_utils.logger.setLevel(logging.ERROR)"
   ]
  },
  {
   "cell_type": "code",
   "execution_count": 5,
   "id": "6f179dbc",
   "metadata": {},
   "outputs": [],
   "source": [
    "%matplotlib inline\n",
    "import matplotlib.pyplot as plt\n",
    "from matplotlib import rcParams\n",
    "\n",
    "rcParams[\"xtick.major.size\"] = 0\n",
    "rcParams[\"xtick.minor.size\"] = 0\n",
    "rcParams[\"ytick.major.size\"] = 0\n",
    "rcParams[\"ytick.minor.size\"] = 0\n",
    "\n",
    "rcParams[\"axes.labelsize\"] = \"large\"\n",
    "rcParams[\"axes.axisbelow\"] = True\n",
    "rcParams[\"axes.grid\"] = True"
   ]
  },
  {
   "cell_type": "code",
   "execution_count": 7,
   "id": "23a6e6cf",
   "metadata": {},
   "outputs": [],
   "source": [
    "from bert_score import score"
   ]
  },
  {
   "cell_type": "code",
   "execution_count": 10,
   "id": "1ef5cedc",
   "metadata": {},
   "outputs": [
    {
     "name": "stdout",
     "output_type": "stream",
     "text": [
      "calculating scores...\n",
      "computing bert embedding.\n"
     ]
    },
    {
     "data": {
      "application/vnd.jupyter.widget-view+json": {
       "model_id": "f664db5f5b9646cd925edceb7fb32090",
       "version_major": 2,
       "version_minor": 0
      },
      "text/plain": [
       "  0%|          | 0/1 [00:00<?, ?it/s]"
      ]
     },
     "metadata": {},
     "output_type": "display_data"
    },
    {
     "name": "stdout",
     "output_type": "stream",
     "text": [
      "computing greedy matching.\n"
     ]
    },
    {
     "data": {
      "application/vnd.jupyter.widget-view+json": {
       "model_id": "b7915aa5292743c89329b1773101bcc6",
       "version_major": 2,
       "version_minor": 0
      },
      "text/plain": [
       "  0%|          | 0/1 [00:00<?, ?it/s]"
      ]
     },
     "metadata": {},
     "output_type": "display_data"
    },
    {
     "name": "stdout",
     "output_type": "stream",
     "text": [
      "done in 0.07 seconds, 15.30 sentences/sec\n"
     ]
    }
   ],
   "source": [
    "P, R, F1 = score([\"hello, how are you doing\"], [\"Hi! How is it going?\"], lang='en', verbose=True)"
   ]
  },
  {
   "cell_type": "code",
   "execution_count": 11,
   "id": "23422a4f",
   "metadata": {},
   "outputs": [
    {
     "data": {
      "text/plain": [
       "(tensor([0.9191]), tensor([0.9079]), tensor([0.9135]))"
      ]
     },
     "execution_count": 11,
     "metadata": {},
     "output_type": "execute_result"
    }
   ],
   "source": [
    "P, R, F1"
   ]
  }
 ],
 "metadata": {
  "kernelspec": {
   "display_name": "venv2",
   "language": "python",
   "name": "venv2"
  },
  "language_info": {
   "codemirror_mode": {
    "name": "ipython",
    "version": 3
   },
   "file_extension": ".py",
   "mimetype": "text/x-python",
   "name": "python",
   "nbconvert_exporter": "python",
   "pygments_lexer": "ipython3",
   "version": "3.10.10"
  }
 },
 "nbformat": 4,
 "nbformat_minor": 5
}
